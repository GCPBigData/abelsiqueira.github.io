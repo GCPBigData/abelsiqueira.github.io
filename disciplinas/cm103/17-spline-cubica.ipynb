{
 "cells": [
  {
   "cell_type": "code",
   "execution_count": 1,
   "metadata": {
    "collapsed": false
   },
   "outputs": [
    {
     "data": {
      "text/plain": [
       "Plots.GRBackend()"
      ]
     },
     "execution_count": 1,
     "metadata": {},
     "output_type": "execute_result"
    }
   ],
   "source": [
    "using Plots\n",
    "gr()"
   ]
  },
  {
   "cell_type": "code",
   "execution_count": 2,
   "metadata": {
    "collapsed": false
   },
   "outputs": [
    {
     "name": "stdout",
     "output_type": "stream",
     "text": [
      "[Plots.jl] Initializing backend: gr\n"
     ]
    },
    {
     "data": {
      "text/html": [
       "<?xml version=\"1.0\" encoding=\"utf-8\"?>\n",
       "<svg xmlns=\"http://www.w3.org/2000/svg\" xmlns:xlink=\"http://www.w3.org/1999/xlink\" width=\"600\" height=\"400\" viewBox=\"0 0 600 400\">\n",
       "<defs>\n",
       "  <clipPath id=\"clip00\">\n",
       "    <rect x=\"0\" y=\"0\" width=\"600\" height=\"400\"/>\n",
       "  </clipPath>\n",
       "</defs>\n",
       "<polygon clip-path=\"url(#clip00)\" points=\"\n",
       "0,400 600,400 600,0 0,0 \n",
       "  \" fill=\"#ffffff\" fill-opacity=\"1\"/>\n",
       "<defs>\n",
       "  <clipPath id=\"clip01\">\n",
       "    <rect x=\"120\" y=\"0\" width=\"421\" height=\"400\"/>\n",
       "  </clipPath>\n",
       "</defs>\n",
       "<polygon clip-path=\"url(#clip00)\" points=\"\n",
       "35.4331,377.078 596.063,377.078 596.063,3.93701 35.4331,3.93701 \n",
       "  \" fill=\"#ffffff\" fill-opacity=\"1\"/>\n",
       "<defs>\n",
       "  <clipPath id=\"clip02\">\n",
       "    <rect x=\"35\" y=\"3\" width=\"561\" height=\"374\"/>\n",
       "  </clipPath>\n",
       "</defs>\n",
       "<polyline clip-path=\"url(#clip02)\" style=\"stroke:#00002d; stroke-width:0.8; stroke-opacity:0.5; fill:none\" stroke-dasharray=\"1, 2\" points=\"\n",
       "  51.3,371.481 51.3,9.53412 \n",
       "  \"/>\n",
       "<polyline clip-path=\"url(#clip02)\" style=\"stroke:#00002d; stroke-width:0.8; stroke-opacity:0.5; fill:none\" stroke-dasharray=\"1, 2\" points=\"\n",
       "  168.832,371.481 168.832,9.53412 \n",
       "  \"/>\n",
       "<polyline clip-path=\"url(#clip02)\" style=\"stroke:#00002d; stroke-width:0.8; stroke-opacity:0.5; fill:none\" stroke-dasharray=\"1, 2\" points=\"\n",
       "  286.365,371.481 286.365,9.53412 \n",
       "  \"/>\n",
       "<polyline clip-path=\"url(#clip02)\" style=\"stroke:#00002d; stroke-width:0.8; stroke-opacity:0.5; fill:none\" stroke-dasharray=\"1, 2\" points=\"\n",
       "  403.897,371.481 403.897,9.53412 \n",
       "  \"/>\n",
       "<polyline clip-path=\"url(#clip02)\" style=\"stroke:#00002d; stroke-width:0.8; stroke-opacity:0.5; fill:none\" stroke-dasharray=\"1, 2\" points=\"\n",
       "  521.43,371.481 521.43,9.53412 \n",
       "  \"/>\n",
       "<polyline clip-path=\"url(#clip02)\" style=\"stroke:#00002d; stroke-width:0.8; stroke-opacity:0.5; fill:none\" stroke-dasharray=\"1, 2\" points=\"\n",
       "  43.8425,296.113 587.654,296.113 \n",
       "  \"/>\n",
       "<polyline clip-path=\"url(#clip02)\" style=\"stroke:#00002d; stroke-width:0.8; stroke-opacity:0.5; fill:none\" stroke-dasharray=\"1, 2\" points=\"\n",
       "  43.8425,155.305 587.654,155.305 \n",
       "  \"/>\n",
       "<polyline clip-path=\"url(#clip02)\" style=\"stroke:#00002d; stroke-width:0.8; stroke-opacity:0.5; fill:none\" stroke-dasharray=\"1, 2\" points=\"\n",
       "  43.8425,14.4976 587.654,14.4976 \n",
       "  \"/>\n",
       "<polyline clip-path=\"url(#clip02)\" style=\"stroke:#00002d; stroke-width:0.8; stroke-opacity:1; fill:none\" points=\"\n",
       "  35.4331,377.078 596.063,377.078 \n",
       "  \"/>\n",
       "<polyline clip-path=\"url(#clip02)\" style=\"stroke:#00002d; stroke-width:0.8; stroke-opacity:1; fill:none\" points=\"\n",
       "  35.4331,3.93701 596.063,3.93701 \n",
       "  \"/>\n",
       "<polyline clip-path=\"url(#clip02)\" style=\"stroke:#00002d; stroke-width:0.8; stroke-opacity:1; fill:none\" points=\"\n",
       "  51.3,377.078 51.3,371.481 \n",
       "  \"/>\n",
       "<polyline clip-path=\"url(#clip02)\" style=\"stroke:#00002d; stroke-width:0.8; stroke-opacity:1; fill:none\" points=\"\n",
       "  51.3,3.93701 51.3,9.53412 \n",
       "  \"/>\n",
       "<polyline clip-path=\"url(#clip02)\" style=\"stroke:#00002d; stroke-width:0.8; stroke-opacity:1; fill:none\" points=\"\n",
       "  168.832,377.078 168.832,371.481 \n",
       "  \"/>\n",
       "<polyline clip-path=\"url(#clip02)\" style=\"stroke:#00002d; stroke-width:0.8; stroke-opacity:1; fill:none\" points=\"\n",
       "  168.832,3.93701 168.832,9.53412 \n",
       "  \"/>\n",
       "<polyline clip-path=\"url(#clip02)\" style=\"stroke:#00002d; stroke-width:0.8; stroke-opacity:1; fill:none\" points=\"\n",
       "  286.365,377.078 286.365,371.481 \n",
       "  \"/>\n",
       "<polyline clip-path=\"url(#clip02)\" style=\"stroke:#00002d; stroke-width:0.8; stroke-opacity:1; fill:none\" points=\"\n",
       "  286.365,3.93701 286.365,9.53412 \n",
       "  \"/>\n",
       "<polyline clip-path=\"url(#clip02)\" style=\"stroke:#00002d; stroke-width:0.8; stroke-opacity:1; fill:none\" points=\"\n",
       "  403.897,377.078 403.897,371.481 \n",
       "  \"/>\n",
       "<polyline clip-path=\"url(#clip02)\" style=\"stroke:#00002d; stroke-width:0.8; stroke-opacity:1; fill:none\" points=\"\n",
       "  403.897,3.93701 403.897,9.53412 \n",
       "  \"/>\n",
       "<polyline clip-path=\"url(#clip02)\" style=\"stroke:#00002d; stroke-width:0.8; stroke-opacity:1; fill:none\" points=\"\n",
       "  521.43,377.078 521.43,371.481 \n",
       "  \"/>\n",
       "<polyline clip-path=\"url(#clip02)\" style=\"stroke:#00002d; stroke-width:0.8; stroke-opacity:1; fill:none\" points=\"\n",
       "  521.43,3.93701 521.43,9.53412 \n",
       "  \"/>\n",
       "<polyline clip-path=\"url(#clip02)\" style=\"stroke:#00002d; stroke-width:0.8; stroke-opacity:1; fill:none\" points=\"\n",
       "  35.4331,377.078 35.4331,3.93701 \n",
       "  \"/>\n",
       "<polyline clip-path=\"url(#clip02)\" style=\"stroke:#00002d; stroke-width:0.8; stroke-opacity:1; fill:none\" points=\"\n",
       "  596.063,377.078 596.063,3.93701 \n",
       "  \"/>\n",
       "<polyline clip-path=\"url(#clip02)\" style=\"stroke:#00002d; stroke-width:0.8; stroke-opacity:1; fill:none\" points=\"\n",
       "  35.4331,296.113 43.8425,296.113 \n",
       "  \"/>\n",
       "<polyline clip-path=\"url(#clip02)\" style=\"stroke:#00002d; stroke-width:0.8; stroke-opacity:1; fill:none\" points=\"\n",
       "  596.063,296.113 587.654,296.113 \n",
       "  \"/>\n",
       "<polyline clip-path=\"url(#clip02)\" style=\"stroke:#00002d; stroke-width:0.8; stroke-opacity:1; fill:none\" points=\"\n",
       "  35.4331,155.305 43.8425,155.305 \n",
       "  \"/>\n",
       "<polyline clip-path=\"url(#clip02)\" style=\"stroke:#00002d; stroke-width:0.8; stroke-opacity:1; fill:none\" points=\"\n",
       "  596.063,155.305 587.654,155.305 \n",
       "  \"/>\n",
       "<polyline clip-path=\"url(#clip02)\" style=\"stroke:#00002d; stroke-width:0.8; stroke-opacity:1; fill:none\" points=\"\n",
       "  35.4331,14.4976 43.8425,14.4976 \n",
       "  \"/>\n",
       "<polyline clip-path=\"url(#clip02)\" style=\"stroke:#00002d; stroke-width:0.8; stroke-opacity:1; fill:none\" points=\"\n",
       "  596.063,14.4976 587.654,14.4976 \n",
       "  \"/>\n",
       "<g clip-path=\"url(#clip00)\">\n",
       "<text style=\"fill:#00002d; fill-opacity:1; font-family:Arial,Helvetica Neue,Helvetica,sans-serif; font-size:12; text-anchor:middle;\" transform=\"rotate(0, 51.3, 393.878)\" x=\"51.3\" y=\"393.878\">0</text>\n",
       "</g>\n",
       "<g clip-path=\"url(#clip00)\">\n",
       "<text style=\"fill:#00002d; fill-opacity:1; font-family:Arial,Helvetica Neue,Helvetica,sans-serif; font-size:12; text-anchor:middle;\" transform=\"rotate(0, 168.832, 393.878)\" x=\"168.832\" y=\"393.878\">1</text>\n",
       "</g>\n",
       "<g clip-path=\"url(#clip00)\">\n",
       "<text style=\"fill:#00002d; fill-opacity:1; font-family:Arial,Helvetica Neue,Helvetica,sans-serif; font-size:12; text-anchor:middle;\" transform=\"rotate(0, 286.365, 393.878)\" x=\"286.365\" y=\"393.878\">2</text>\n",
       "</g>\n",
       "<g clip-path=\"url(#clip00)\">\n",
       "<text style=\"fill:#00002d; fill-opacity:1; font-family:Arial,Helvetica Neue,Helvetica,sans-serif; font-size:12; text-anchor:middle;\" transform=\"rotate(0, 403.897, 393.878)\" x=\"403.897\" y=\"393.878\">3</text>\n",
       "</g>\n",
       "<g clip-path=\"url(#clip00)\">\n",
       "<text style=\"fill:#00002d; fill-opacity:1; font-family:Arial,Helvetica Neue,Helvetica,sans-serif; font-size:12; text-anchor:middle;\" transform=\"rotate(0, 521.43, 393.878)\" x=\"521.43\" y=\"393.878\">4</text>\n",
       "</g>\n",
       "<g clip-path=\"url(#clip00)\">\n",
       "<text style=\"fill:#00002d; fill-opacity:1; font-family:Arial,Helvetica Neue,Helvetica,sans-serif; font-size:12; text-anchor:end;\" transform=\"rotate(0, 29.4331, 300.613)\" x=\"29.4331\" y=\"300.613\">0</text>\n",
       "</g>\n",
       "<g clip-path=\"url(#clip00)\">\n",
       "<text style=\"fill:#00002d; fill-opacity:1; font-family:Arial,Helvetica Neue,Helvetica,sans-serif; font-size:12; text-anchor:end;\" transform=\"rotate(0, 29.4331, 159.805)\" x=\"29.4331\" y=\"159.805\">2</text>\n",
       "</g>\n",
       "<g clip-path=\"url(#clip00)\">\n",
       "<text style=\"fill:#00002d; fill-opacity:1; font-family:Arial,Helvetica Neue,Helvetica,sans-serif; font-size:12; text-anchor:end;\" transform=\"rotate(0, 29.4331, 18.9976)\" x=\"29.4331\" y=\"18.9976\">4</text>\n",
       "</g>\n",
       "<circle clip-path=\"url(#clip02)\" style=\"fill:#00002d; stroke:none; fill-opacity:1\" cx=\"51.3\" cy=\"225.709\" r=\"3\"/>\n",
       "<circle clip-path=\"url(#clip02)\" style=\"fill:#0099ff; stroke:none; fill-opacity:1\" cx=\"51.3\" cy=\"225.709\" r=\"2\"/>\n",
       "<circle clip-path=\"url(#clip02)\" style=\"fill:#00002d; stroke:none; fill-opacity:1\" cx=\"192.339\" cy=\"366.517\" r=\"3\"/>\n",
       "<circle clip-path=\"url(#clip02)\" style=\"fill:#0099ff; stroke:none; fill-opacity:1\" cx=\"192.339\" cy=\"366.517\" r=\"2\"/>\n",
       "<circle clip-path=\"url(#clip02)\" style=\"fill:#00002d; stroke:none; fill-opacity:1\" cx=\"345.131\" cy=\"211.629\" r=\"3\"/>\n",
       "<circle clip-path=\"url(#clip02)\" style=\"fill:#0099ff; stroke:none; fill-opacity:1\" cx=\"345.131\" cy=\"211.629\" r=\"2\"/>\n",
       "<circle clip-path=\"url(#clip02)\" style=\"fill:#00002d; stroke:none; fill-opacity:1\" cx=\"521.43\" cy=\"56.74\" r=\"3\"/>\n",
       "<circle clip-path=\"url(#clip02)\" style=\"fill:#0099ff; stroke:none; fill-opacity:1\" cx=\"521.43\" cy=\"56.74\" r=\"2\"/>\n",
       "<circle clip-path=\"url(#clip02)\" style=\"fill:#00002d; stroke:none; fill-opacity:1\" cx=\"580.196\" cy=\"14.4976\" r=\"3\"/>\n",
       "<circle clip-path=\"url(#clip02)\" style=\"fill:#0099ff; stroke:none; fill-opacity:1\" cx=\"580.196\" cy=\"14.4976\" r=\"2\"/>\n",
       "<polygon clip-path=\"url(#clip00)\" points=\"\n",
       "505.547,55.057 578.063,55.057 578.063,24.817 505.547,24.817 \n",
       "  \" fill=\"#ffffff\" fill-opacity=\"1\"/>\n",
       "<polyline clip-path=\"url(#clip00)\" style=\"stroke:#00002d; stroke-width:0.8; stroke-opacity:1; fill:none\" points=\"\n",
       "  505.547,55.057 578.063,55.057 578.063,24.817 505.547,24.817 505.547,55.057 \n",
       "  \"/>\n",
       "<circle clip-path=\"url(#clip00)\" style=\"fill:#00002d; stroke:none; fill-opacity:1\" cx=\"517.547\" cy=\"39.937\" r=\"7\"/>\n",
       "<circle clip-path=\"url(#clip00)\" style=\"fill:#0099ff; stroke:none; fill-opacity:1\" cx=\"517.547\" cy=\"39.937\" r=\"7\"/>\n",
       "<circle clip-path=\"url(#clip00)\" style=\"fill:#00002d; stroke:none; fill-opacity:1\" cx=\"541.547\" cy=\"39.937\" r=\"7\"/>\n",
       "<circle clip-path=\"url(#clip00)\" style=\"fill:#0099ff; stroke:none; fill-opacity:1\" cx=\"541.547\" cy=\"39.937\" r=\"7\"/>\n",
       "<g clip-path=\"url(#clip00)\">\n",
       "<text style=\"fill:#00002d; fill-opacity:1; font-family:Arial,Helvetica Neue,Helvetica,sans-serif; font-size:12; text-anchor:start;\" transform=\"rotate(0, 553.547, 44.437)\" x=\"553.547\" y=\"44.437\">y1</text>\n",
       "</g>\n",
       "</svg>\n"
      ]
     },
     "execution_count": 2,
     "metadata": {},
     "output_type": "execute_result"
    }
   ],
   "source": [
    "x = [0.0, 1.2, 2.5, 4.0, 4.5]\n",
    "y = [1.0, -1.0, 1.2, 3.4, 4.0]\n",
    "\n",
    "scatter(x, y, ms=4)"
   ]
  },
  {
   "cell_type": "code",
   "execution_count": 63,
   "metadata": {
    "collapsed": false
   },
   "outputs": [
    {
     "data": {
      "text/plain": [
       "0.75"
      ]
     },
     "execution_count": 63,
     "metadata": {},
     "output_type": "execute_result"
    }
   ],
   "source": [
    "m = length(x)\n",
    "A = spzeros(3*(m-1), 3*(m-1))\n",
    "r = zeros(3*(m-1))\n",
    "\n",
    "# 1a linha do caso Clamped (derivadas nos extremos nulas)\n",
    "A[1,1] = 1.0\n",
    "dx = x[2] - x[1]\n",
    "A[2,1] = dx\n",
    "A[2,2] = dx^2\n",
    "A[2,3] = dx^3\n",
    "r[2] = y[2] - y[1]\n",
    "A[3,1] = 1\n",
    "A[3,2] = 2dx\n",
    "A[3,3] = 3dx^2\n",
    "A[3,4] = -1\n",
    "A[4,2] = 2\n",
    "A[4,3] = 6dx\n",
    "A[4,5] = -1\n",
    "\n",
    "dx = x[3] - x[2]\n",
    "A[5,4] = dx\n",
    "A[5,5] = dx^2\n",
    "A[5,6] = dx^3\n",
    "r[5] = y[3] - y[2]\n",
    "A[6,4] = 1\n",
    "A[6,5] = 2dx\n",
    "A[6,6] = 3dx^2\n",
    "A[6,7] = -1\n",
    "A[7,5] = 2\n",
    "A[7,6] = 6dx\n",
    "A[7,8] = -1\n",
    "\n",
    "dx = x[4] - x[3]\n",
    "A[8,7] = dx\n",
    "A[8,8] = dx^2\n",
    "A[8,9] = dx^3\n",
    "r[8] = y[4] - y[3]\n",
    "A[9,7] = 1\n",
    "A[9,8] = 2dx\n",
    "A[9,9] = 3dx^2\n",
    "A[9,10] = -1\n",
    "A[10,8] = 2\n",
    "A[10,9] = 6dx\n",
    "A[10,11] = -1\n",
    "\n",
    "dx = x[5] - x[4]\n",
    "A[11,10] = dx\n",
    "A[11,11] = dx^2\n",
    "A[11,12] = dx^3\n",
    "r[11] = y[5] - y[4]\n",
    "# Última linha do caso Clamped\n",
    "A[12,10] = 1\n",
    "A[12,11] = 2dx\n",
    "A[12,12] = 3dx^2"
   ]
  },
  {
   "cell_type": "code",
   "execution_count": 64,
   "metadata": {
    "collapsed": false
   },
   "outputs": [
    {
     "data": {
      "text/plain": [
       "12x12 sparse matrix with 37 Float64 entries:\n",
       "\t[1 ,  1]  =  1.0\n",
       "\t[2 ,  1]  =  1.2\n",
       "\t[3 ,  1]  =  1.0\n",
       "\t[2 ,  2]  =  1.44\n",
       "\t[3 ,  2]  =  2.4\n",
       "\t[4 ,  2]  =  2.0\n",
       "\t[2 ,  3]  =  1.728\n",
       "\t[3 ,  3]  =  4.32\n",
       "\t[4 ,  3]  =  7.2\n",
       "\t[3 ,  4]  =  -1.0\n",
       "\t⋮\n",
       "\t[8 ,  9]  =  3.375\n",
       "\t[9 ,  9]  =  6.75\n",
       "\t[10,  9]  =  9.0\n",
       "\t[9 , 10]  =  -1.0\n",
       "\t[11, 10]  =  0.5\n",
       "\t[12, 10]  =  1.0\n",
       "\t[10, 11]  =  -1.0\n",
       "\t[11, 11]  =  0.25\n",
       "\t[12, 11]  =  1.0\n",
       "\t[11, 12]  =  0.125\n",
       "\t[12, 12]  =  0.75"
      ]
     },
     "execution_count": 64,
     "metadata": {},
     "output_type": "execute_result"
    }
   ],
   "source": [
    "A"
   ]
  },
  {
   "cell_type": "code",
   "execution_count": 65,
   "metadata": {
    "collapsed": false
   },
   "outputs": [
    {
     "data": {
      "text/plain": [
       "12-element Array{Float64,1}:\n",
       "  0.0     \n",
       " -3.05581 \n",
       "  1.3891  \n",
       " -1.33302 \n",
       "  3.88992 \n",
       " -1.20211 \n",
       "  2.68607 \n",
       " -1.59662 \n",
       "  0.522455\n",
       "  1.42279 \n",
       "  1.50886 \n",
       " -3.90886 "
      ]
     },
     "execution_count": 65,
     "metadata": {},
     "output_type": "execute_result"
    }
   ],
   "source": [
    "α = A\\r"
   ]
  },
  {
   "cell_type": "code",
   "execution_count": 66,
   "metadata": {
    "collapsed": false
   },
   "outputs": [
    {
     "data": {
      "text/plain": [
       "4-element Array{Float64,1}:\n",
       "  1.3891  \n",
       " -1.20211 \n",
       "  0.522455\n",
       " -3.90886 "
      ]
     },
     "execution_count": 66,
     "metadata": {},
     "output_type": "execute_result"
    }
   ],
   "source": [
    "b = α[1:3:12]\n",
    "c = α[2:3:12]\n",
    "d = α[3:3:12]"
   ]
  },
  {
   "cell_type": "code",
   "execution_count": 67,
   "metadata": {
    "collapsed": false
   },
   "outputs": [
    {
     "data": {
      "text/plain": [
       "spline (generic function with 1 method)"
      ]
     },
     "execution_count": 67,
     "metadata": {},
     "output_type": "execute_result"
    }
   ],
   "source": [
    "function spline(t, x, y, b, c, d)\n",
    "    m = length(x)\n",
    "    if t < x[2]\n",
    "        i = 1\n",
    "    elseif t > x[m-1]\n",
    "        i = m-1\n",
    "    else\n",
    "        for i = 2:m-2\n",
    "            if t < x[i+1]\n",
    "                break\n",
    "            end\n",
    "        end\n",
    "    end\n",
    "    dx = t-x[i]\n",
    "    return y[i] + b[i]*dx + c[i]*dx^2 + d[i]*dx^3\n",
    "end"
   ]
  },
  {
   "cell_type": "code",
   "execution_count": 68,
   "metadata": {
    "collapsed": false
   },
   "outputs": [
    {
     "data": {
      "text/plain": [
       "s (generic function with 1 method)"
      ]
     },
     "execution_count": 68,
     "metadata": {},
     "output_type": "execute_result"
    }
   ],
   "source": [
    "s(t) = spline(t, x, y, b, c, d)"
   ]
  },
  {
   "cell_type": "code",
   "execution_count": 69,
   "metadata": {
    "collapsed": false
   },
   "outputs": [
    {
     "data": {
      "text/html": [
       "<?xml version=\"1.0\" encoding=\"utf-8\"?>\n",
       "<svg xmlns=\"http://www.w3.org/2000/svg\" xmlns:xlink=\"http://www.w3.org/1999/xlink\" width=\"600\" height=\"400\" viewBox=\"0 0 600 400\">\n",
       "<defs>\n",
       "  <clipPath id=\"clip00\">\n",
       "    <rect x=\"0\" y=\"0\" width=\"600\" height=\"400\"/>\n",
       "  </clipPath>\n",
       "</defs>\n",
       "<polygon clip-path=\"url(#clip00)\" points=\"\n",
       "0,400 600,400 600,0 0,0 \n",
       "  \" fill=\"#ffffff\" fill-opacity=\"1\"/>\n",
       "<defs>\n",
       "  <clipPath id=\"clip01\">\n",
       "    <rect x=\"120\" y=\"0\" width=\"421\" height=\"400\"/>\n",
       "  </clipPath>\n",
       "</defs>\n",
       "<polygon clip-path=\"url(#clip00)\" points=\"\n",
       "35.4331,377.078 596.063,377.078 596.063,3.93701 35.4331,3.93701 \n",
       "  \" fill=\"#ffffff\" fill-opacity=\"1\"/>\n",
       "<defs>\n",
       "  <clipPath id=\"clip02\">\n",
       "    <rect x=\"35\" y=\"3\" width=\"561\" height=\"374\"/>\n",
       "  </clipPath>\n",
       "</defs>\n",
       "<polyline clip-path=\"url(#clip02)\" style=\"stroke:#00002d; stroke-width:0.8; stroke-opacity:0.5; fill:none\" stroke-dasharray=\"1, 2\" points=\"\n",
       "  51.3,371.481 51.3,9.53412 \n",
       "  \"/>\n",
       "<polyline clip-path=\"url(#clip02)\" style=\"stroke:#00002d; stroke-width:0.8; stroke-opacity:0.5; fill:none\" stroke-dasharray=\"1, 2\" points=\"\n",
       "  168.832,371.481 168.832,9.53412 \n",
       "  \"/>\n",
       "<polyline clip-path=\"url(#clip02)\" style=\"stroke:#00002d; stroke-width:0.8; stroke-opacity:0.5; fill:none\" stroke-dasharray=\"1, 2\" points=\"\n",
       "  286.365,371.481 286.365,9.53412 \n",
       "  \"/>\n",
       "<polyline clip-path=\"url(#clip02)\" style=\"stroke:#00002d; stroke-width:0.8; stroke-opacity:0.5; fill:none\" stroke-dasharray=\"1, 2\" points=\"\n",
       "  403.897,371.481 403.897,9.53412 \n",
       "  \"/>\n",
       "<polyline clip-path=\"url(#clip02)\" style=\"stroke:#00002d; stroke-width:0.8; stroke-opacity:0.5; fill:none\" stroke-dasharray=\"1, 2\" points=\"\n",
       "  521.43,371.481 521.43,9.53412 \n",
       "  \"/>\n",
       "<polyline clip-path=\"url(#clip02)\" style=\"stroke:#00002d; stroke-width:0.8; stroke-opacity:0.5; fill:none\" stroke-dasharray=\"1, 2\" points=\"\n",
       "  43.8425,289.532 587.654,289.532 \n",
       "  \"/>\n",
       "<polyline clip-path=\"url(#clip02)\" style=\"stroke:#00002d; stroke-width:0.8; stroke-opacity:0.5; fill:none\" stroke-dasharray=\"1, 2\" points=\"\n",
       "  43.8425,152.015 587.654,152.015 \n",
       "  \"/>\n",
       "<polyline clip-path=\"url(#clip02)\" style=\"stroke:#00002d; stroke-width:0.8; stroke-opacity:0.5; fill:none\" stroke-dasharray=\"1, 2\" points=\"\n",
       "  43.8425,14.4976 587.654,14.4976 \n",
       "  \"/>\n",
       "<polyline clip-path=\"url(#clip02)\" style=\"stroke:#00002d; stroke-width:0.8; stroke-opacity:1; fill:none\" points=\"\n",
       "  35.4331,377.078 596.063,377.078 \n",
       "  \"/>\n",
       "<polyline clip-path=\"url(#clip02)\" style=\"stroke:#00002d; stroke-width:0.8; stroke-opacity:1; fill:none\" points=\"\n",
       "  35.4331,3.93701 596.063,3.93701 \n",
       "  \"/>\n",
       "<polyline clip-path=\"url(#clip02)\" style=\"stroke:#00002d; stroke-width:0.8; stroke-opacity:1; fill:none\" points=\"\n",
       "  51.3,377.078 51.3,371.481 \n",
       "  \"/>\n",
       "<polyline clip-path=\"url(#clip02)\" style=\"stroke:#00002d; stroke-width:0.8; stroke-opacity:1; fill:none\" points=\"\n",
       "  51.3,3.93701 51.3,9.53412 \n",
       "  \"/>\n",
       "<polyline clip-path=\"url(#clip02)\" style=\"stroke:#00002d; stroke-width:0.8; stroke-opacity:1; fill:none\" points=\"\n",
       "  168.832,377.078 168.832,371.481 \n",
       "  \"/>\n",
       "<polyline clip-path=\"url(#clip02)\" style=\"stroke:#00002d; stroke-width:0.8; stroke-opacity:1; fill:none\" points=\"\n",
       "  168.832,3.93701 168.832,9.53412 \n",
       "  \"/>\n",
       "<polyline clip-path=\"url(#clip02)\" style=\"stroke:#00002d; stroke-width:0.8; stroke-opacity:1; fill:none\" points=\"\n",
       "  286.365,377.078 286.365,371.481 \n",
       "  \"/>\n",
       "<polyline clip-path=\"url(#clip02)\" style=\"stroke:#00002d; stroke-width:0.8; stroke-opacity:1; fill:none\" points=\"\n",
       "  286.365,3.93701 286.365,9.53412 \n",
       "  \"/>\n",
       "<polyline clip-path=\"url(#clip02)\" style=\"stroke:#00002d; stroke-width:0.8; stroke-opacity:1; fill:none\" points=\"\n",
       "  403.897,377.078 403.897,371.481 \n",
       "  \"/>\n",
       "<polyline clip-path=\"url(#clip02)\" style=\"stroke:#00002d; stroke-width:0.8; stroke-opacity:1; fill:none\" points=\"\n",
       "  403.897,3.93701 403.897,9.53412 \n",
       "  \"/>\n",
       "<polyline clip-path=\"url(#clip02)\" style=\"stroke:#00002d; stroke-width:0.8; stroke-opacity:1; fill:none\" points=\"\n",
       "  521.43,377.078 521.43,371.481 \n",
       "  \"/>\n",
       "<polyline clip-path=\"url(#clip02)\" style=\"stroke:#00002d; stroke-width:0.8; stroke-opacity:1; fill:none\" points=\"\n",
       "  521.43,3.93701 521.43,9.53412 \n",
       "  \"/>\n",
       "<polyline clip-path=\"url(#clip02)\" style=\"stroke:#00002d; stroke-width:0.8; stroke-opacity:1; fill:none\" points=\"\n",
       "  35.4331,377.078 35.4331,3.93701 \n",
       "  \"/>\n",
       "<polyline clip-path=\"url(#clip02)\" style=\"stroke:#00002d; stroke-width:0.8; stroke-opacity:1; fill:none\" points=\"\n",
       "  596.063,377.078 596.063,3.93701 \n",
       "  \"/>\n",
       "<polyline clip-path=\"url(#clip02)\" style=\"stroke:#00002d; stroke-width:0.8; stroke-opacity:1; fill:none\" points=\"\n",
       "  35.4331,289.532 43.8425,289.532 \n",
       "  \"/>\n",
       "<polyline clip-path=\"url(#clip02)\" style=\"stroke:#00002d; stroke-width:0.8; stroke-opacity:1; fill:none\" points=\"\n",
       "  596.063,289.532 587.654,289.532 \n",
       "  \"/>\n",
       "<polyline clip-path=\"url(#clip02)\" style=\"stroke:#00002d; stroke-width:0.8; stroke-opacity:1; fill:none\" points=\"\n",
       "  35.4331,152.015 43.8425,152.015 \n",
       "  \"/>\n",
       "<polyline clip-path=\"url(#clip02)\" style=\"stroke:#00002d; stroke-width:0.8; stroke-opacity:1; fill:none\" points=\"\n",
       "  596.063,152.015 587.654,152.015 \n",
       "  \"/>\n",
       "<polyline clip-path=\"url(#clip02)\" style=\"stroke:#00002d; stroke-width:0.8; stroke-opacity:1; fill:none\" points=\"\n",
       "  35.4331,14.4976 43.8425,14.4976 \n",
       "  \"/>\n",
       "<polyline clip-path=\"url(#clip02)\" style=\"stroke:#00002d; stroke-width:0.8; stroke-opacity:1; fill:none\" points=\"\n",
       "  596.063,14.4976 587.654,14.4976 \n",
       "  \"/>\n",
       "<g clip-path=\"url(#clip00)\">\n",
       "<text style=\"fill:#00002d; fill-opacity:1; font-family:Arial,Helvetica Neue,Helvetica,sans-serif; font-size:12; text-anchor:middle;\" transform=\"rotate(0, 51.3, 393.878)\" x=\"51.3\" y=\"393.878\">0</text>\n",
       "</g>\n",
       "<g clip-path=\"url(#clip00)\">\n",
       "<text style=\"fill:#00002d; fill-opacity:1; font-family:Arial,Helvetica Neue,Helvetica,sans-serif; font-size:12; text-anchor:middle;\" transform=\"rotate(0, 168.832, 393.878)\" x=\"168.832\" y=\"393.878\">1</text>\n",
       "</g>\n",
       "<g clip-path=\"url(#clip00)\">\n",
       "<text style=\"fill:#00002d; fill-opacity:1; font-family:Arial,Helvetica Neue,Helvetica,sans-serif; font-size:12; text-anchor:middle;\" transform=\"rotate(0, 286.365, 393.878)\" x=\"286.365\" y=\"393.878\">2</text>\n",
       "</g>\n",
       "<g clip-path=\"url(#clip00)\">\n",
       "<text style=\"fill:#00002d; fill-opacity:1; font-family:Arial,Helvetica Neue,Helvetica,sans-serif; font-size:12; text-anchor:middle;\" transform=\"rotate(0, 403.897, 393.878)\" x=\"403.897\" y=\"393.878\">3</text>\n",
       "</g>\n",
       "<g clip-path=\"url(#clip00)\">\n",
       "<text style=\"fill:#00002d; fill-opacity:1; font-family:Arial,Helvetica Neue,Helvetica,sans-serif; font-size:12; text-anchor:middle;\" transform=\"rotate(0, 521.43, 393.878)\" x=\"521.43\" y=\"393.878\">4</text>\n",
       "</g>\n",
       "<g clip-path=\"url(#clip00)\">\n",
       "<text style=\"fill:#00002d; fill-opacity:1; font-family:Arial,Helvetica Neue,Helvetica,sans-serif; font-size:12; text-anchor:end;\" transform=\"rotate(0, 29.4331, 294.032)\" x=\"29.4331\" y=\"294.032\">0</text>\n",
       "</g>\n",
       "<g clip-path=\"url(#clip00)\">\n",
       "<text style=\"fill:#00002d; fill-opacity:1; font-family:Arial,Helvetica Neue,Helvetica,sans-serif; font-size:12; text-anchor:end;\" transform=\"rotate(0, 29.4331, 156.515)\" x=\"29.4331\" y=\"156.515\">2</text>\n",
       "</g>\n",
       "<g clip-path=\"url(#clip00)\">\n",
       "<text style=\"fill:#00002d; fill-opacity:1; font-family:Arial,Helvetica Neue,Helvetica,sans-serif; font-size:12; text-anchor:end;\" transform=\"rotate(0, 29.4331, 18.9976)\" x=\"29.4331\" y=\"18.9976\">4</text>\n",
       "</g>\n",
       "<circle clip-path=\"url(#clip02)\" style=\"fill:#00002d; stroke:none; fill-opacity:1\" cx=\"51.3\" cy=\"220.773\" r=\"2\"/>\n",
       "<circle clip-path=\"url(#clip02)\" style=\"fill:#0099ff; stroke:none; fill-opacity:1\" cx=\"51.3\" cy=\"220.773\" r=\"2\"/>\n",
       "<circle clip-path=\"url(#clip02)\" style=\"fill:#00002d; stroke:none; fill-opacity:1\" cx=\"192.339\" cy=\"358.29\" r=\"2\"/>\n",
       "<circle clip-path=\"url(#clip02)\" style=\"fill:#0099ff; stroke:none; fill-opacity:1\" cx=\"192.339\" cy=\"358.29\" r=\"2\"/>\n",
       "<circle clip-path=\"url(#clip02)\" style=\"fill:#00002d; stroke:none; fill-opacity:1\" cx=\"345.131\" cy=\"207.022\" r=\"2\"/>\n",
       "<circle clip-path=\"url(#clip02)\" style=\"fill:#0099ff; stroke:none; fill-opacity:1\" cx=\"345.131\" cy=\"207.022\" r=\"2\"/>\n",
       "<circle clip-path=\"url(#clip02)\" style=\"fill:#00002d; stroke:none; fill-opacity:1\" cx=\"521.43\" cy=\"55.7527\" r=\"2\"/>\n",
       "<circle clip-path=\"url(#clip02)\" style=\"fill:#0099ff; stroke:none; fill-opacity:1\" cx=\"521.43\" cy=\"55.7527\" r=\"2\"/>\n",
       "<circle clip-path=\"url(#clip02)\" style=\"fill:#00002d; stroke:none; fill-opacity:1\" cx=\"580.196\" cy=\"14.4976\" r=\"2\"/>\n",
       "<circle clip-path=\"url(#clip02)\" style=\"fill:#0099ff; stroke:none; fill-opacity:1\" cx=\"580.196\" cy=\"14.4976\" r=\"2\"/>\n",
       "<polyline clip-path=\"url(#clip02)\" style=\"stroke:#ff0000; stroke-width:0.8; stroke-opacity:1; fill:none\" points=\"\n",
       "  51.3,220.773 56.6423,221.198 61.9847,222.438 67.3271,224.438 72.6695,227.145 78.0119,230.505 83.3543,234.464 88.6967,238.968 94.039,243.964 99.3814,249.398 \n",
       "  104.724,255.215 110.066,261.363 115.409,267.786 120.751,274.432 126.093,281.247 131.436,288.176 136.778,295.166 142.121,302.164 147.463,309.115 152.805,315.965 \n",
       "  158.148,322.661 163.49,329.148 168.832,335.374 174.175,341.284 179.517,346.824 184.86,351.941 190.202,356.58 195.544,360.593 200.887,363.573 206.229,365.523 \n",
       "  211.572,366.489 216.914,366.517 222.256,365.654 227.599,363.947 232.941,361.442 238.283,358.186 243.626,354.225 248.968,349.606 254.311,344.375 259.653,338.58 \n",
       "  264.995,332.266 270.338,325.48 275.68,318.269 281.023,310.679 286.365,302.758 291.707,294.55 297.05,286.104 302.392,277.466 307.734,268.681 313.077,259.798 \n",
       "  318.419,250.862 323.762,241.919 329.104,233.018 334.446,224.203 339.789,215.522 345.131,207.022 350.474,198.85 355.816,191.112 361.158,183.787 366.501,176.855 \n",
       "  371.843,170.295 377.185,164.088 382.528,158.213 387.87,152.651 393.213,147.379 398.555,142.38 403.897,137.631 409.24,133.114 414.582,128.807 419.925,124.691 \n",
       "  425.267,120.745 430.609,116.949 435.952,113.282 441.294,109.726 446.636,106.258 451.979,102.86 457.321,99.5102 462.664,96.1891 468.006,92.8764 473.348,89.5517 \n",
       "  478.691,86.1949 484.033,82.7856 489.376,79.3037 494.718,75.7288 500.06,72.0409 505.403,68.2195 510.745,64.2445 516.087,60.0957 521.43,55.7527 526.772,51.1169 \n",
       "  532.115,46.2037 537.457,41.1648 542.799,36.1515 548.142,31.3153 553.484,26.8076 558.827,22.7798 564.169,19.3835 569.511,16.7701 574.854,15.091 580.196,14.4976 \n",
       "  \n",
       "  \"/>\n",
       "</svg>\n"
      ]
     },
     "execution_count": 69,
     "metadata": {},
     "output_type": "execute_result"
    }
   ],
   "source": [
    "scatter(x, y, ms=3, leg=false)\n",
    "plot!(s, x[1], x[end], c=:red)"
   ]
  },
  {
   "cell_type": "code",
   "execution_count": 53,
   "metadata": {
    "collapsed": false
   },
   "outputs": [
    {
     "data": {
      "text/plain": [
       "3.0"
      ]
     },
     "execution_count": 53,
     "metadata": {},
     "output_type": "execute_result"
    }
   ],
   "source": [
    "m = length(x)\n",
    "A = spzeros(3*(m-1), 3*(m-1))\n",
    "r = zeros(3*(m-1))\n",
    "\n",
    "# 1a linha do caso Natural (segundas derivadas nos extremos nulas)\n",
    "A[1,2] = 2\n",
    "dx = x[2] - x[1]\n",
    "A[2,1] = dx\n",
    "A[2,2] = dx^2\n",
    "A[2,3] = dx^3\n",
    "r[2] = y[2] - y[1]\n",
    "A[3,1] = 1\n",
    "A[3,2] = 2dx\n",
    "A[3,3] = 3dx^2\n",
    "A[3,4] = -1\n",
    "A[4,2] = 2\n",
    "A[4,3] = 6dx\n",
    "A[4,5] = -1\n",
    "\n",
    "dx = x[3] - x[2]\n",
    "A[5,4] = dx\n",
    "A[5,5] = dx^2\n",
    "A[5,6] = dx^3\n",
    "r[5] = y[3] - y[2]\n",
    "A[6,4] = 1\n",
    "A[6,5] = 2dx\n",
    "A[6,6] = 3dx^2\n",
    "A[6,7] = -1\n",
    "A[7,5] = 2\n",
    "A[7,6] = 6dx\n",
    "A[7,8] = -1\n",
    "\n",
    "dx = x[4] - x[3]\n",
    "A[8,7] = dx\n",
    "A[8,8] = dx^2\n",
    "A[8,9] = dx^3\n",
    "r[8] = y[4] - y[3]\n",
    "A[9,7] = 1\n",
    "A[9,8] = 2dx\n",
    "A[9,9] = 3dx^2\n",
    "A[9,10] = -1\n",
    "A[10,8] = 2\n",
    "A[10,9] = 6dx\n",
    "A[10,11] = -1\n",
    "\n",
    "dx = x[5] - x[4]\n",
    "A[11,10] = dx\n",
    "A[11,11] = dx^2\n",
    "A[11,12] = dx^3\n",
    "r[11] = y[5] - y[4]\n",
    "# Última linha do caso Clamped\n",
    "A[12,11] = 2\n",
    "A[12,12] = 6dx"
   ]
  },
  {
   "cell_type": "code",
   "execution_count": 54,
   "metadata": {
    "collapsed": false
   },
   "outputs": [
    {
     "data": {
      "text/plain": [
       "s2 (generic function with 1 method)"
      ]
     },
     "execution_count": 54,
     "metadata": {},
     "output_type": "execute_result"
    }
   ],
   "source": [
    "α2 = A\\r\n",
    "b2 = α2[1:3:12]\n",
    "c2 = α2[2:3:12]\n",
    "d2 = α2[3:3:12]\n",
    "s2(t) = spline(t, x, y, b2, c2, d2)"
   ]
  },
  {
   "cell_type": "code",
   "execution_count": 71,
   "metadata": {
    "collapsed": false
   },
   "outputs": [
    {
     "data": {
      "text/html": [
       "<?xml version=\"1.0\" encoding=\"utf-8\"?>\n",
       "<svg xmlns=\"http://www.w3.org/2000/svg\" xmlns:xlink=\"http://www.w3.org/1999/xlink\" width=\"600\" height=\"400\" viewBox=\"0 0 600 400\">\n",
       "<defs>\n",
       "  <clipPath id=\"clip00\">\n",
       "    <rect x=\"0\" y=\"0\" width=\"600\" height=\"400\"/>\n",
       "  </clipPath>\n",
       "</defs>\n",
       "<polygon clip-path=\"url(#clip00)\" points=\"\n",
       "0,400 600,400 600,0 0,0 \n",
       "  \" fill=\"#ffffff\" fill-opacity=\"1\"/>\n",
       "<defs>\n",
       "  <clipPath id=\"clip01\">\n",
       "    <rect x=\"120\" y=\"0\" width=\"421\" height=\"400\"/>\n",
       "  </clipPath>\n",
       "</defs>\n",
       "<polygon clip-path=\"url(#clip00)\" points=\"\n",
       "35.4331,377.078 596.063,377.078 596.063,3.93701 35.4331,3.93701 \n",
       "  \" fill=\"#ffffff\" fill-opacity=\"1\"/>\n",
       "<defs>\n",
       "  <clipPath id=\"clip02\">\n",
       "    <rect x=\"35\" y=\"3\" width=\"561\" height=\"374\"/>\n",
       "  </clipPath>\n",
       "</defs>\n",
       "<polyline clip-path=\"url(#clip02)\" style=\"stroke:#00002d; stroke-width:0.8; stroke-opacity:0.5; fill:none\" stroke-dasharray=\"1, 2\" points=\"\n",
       "  132.669,371.481 132.669,9.53412 \n",
       "  \"/>\n",
       "<polyline clip-path=\"url(#clip02)\" style=\"stroke:#00002d; stroke-width:0.8; stroke-opacity:0.5; fill:none\" stroke-dasharray=\"1, 2\" points=\"\n",
       "  295.406,371.481 295.406,9.53412 \n",
       "  \"/>\n",
       "<polyline clip-path=\"url(#clip02)\" style=\"stroke:#00002d; stroke-width:0.8; stroke-opacity:0.5; fill:none\" stroke-dasharray=\"1, 2\" points=\"\n",
       "  458.143,371.481 458.143,9.53412 \n",
       "  \"/>\n",
       "<polyline clip-path=\"url(#clip02)\" style=\"stroke:#00002d; stroke-width:0.8; stroke-opacity:0.5; fill:none\" stroke-dasharray=\"1, 2\" points=\"\n",
       "  43.8425,356.554 587.654,356.554 \n",
       "  \"/>\n",
       "<polyline clip-path=\"url(#clip02)\" style=\"stroke:#00002d; stroke-width:0.8; stroke-opacity:0.5; fill:none\" stroke-dasharray=\"1, 2\" points=\"\n",
       "  43.8425,280.867 587.654,280.867 \n",
       "  \"/>\n",
       "<polyline clip-path=\"url(#clip02)\" style=\"stroke:#00002d; stroke-width:0.8; stroke-opacity:0.5; fill:none\" stroke-dasharray=\"1, 2\" points=\"\n",
       "  43.8425,205.181 587.654,205.181 \n",
       "  \"/>\n",
       "<polyline clip-path=\"url(#clip02)\" style=\"stroke:#00002d; stroke-width:0.8; stroke-opacity:0.5; fill:none\" stroke-dasharray=\"1, 2\" points=\"\n",
       "  43.8425,129.495 587.654,129.495 \n",
       "  \"/>\n",
       "<polyline clip-path=\"url(#clip02)\" style=\"stroke:#00002d; stroke-width:0.8; stroke-opacity:0.5; fill:none\" stroke-dasharray=\"1, 2\" points=\"\n",
       "  43.8425,53.8081 587.654,53.8081 \n",
       "  \"/>\n",
       "<polyline clip-path=\"url(#clip02)\" style=\"stroke:#00002d; stroke-width:0.8; stroke-opacity:1; fill:none\" points=\"\n",
       "  35.4331,377.078 596.063,377.078 \n",
       "  \"/>\n",
       "<polyline clip-path=\"url(#clip02)\" style=\"stroke:#00002d; stroke-width:0.8; stroke-opacity:1; fill:none\" points=\"\n",
       "  35.4331,3.93701 596.063,3.93701 \n",
       "  \"/>\n",
       "<polyline clip-path=\"url(#clip02)\" style=\"stroke:#00002d; stroke-width:0.8; stroke-opacity:1; fill:none\" points=\"\n",
       "  132.669,377.078 132.669,371.481 \n",
       "  \"/>\n",
       "<polyline clip-path=\"url(#clip02)\" style=\"stroke:#00002d; stroke-width:0.8; stroke-opacity:1; fill:none\" points=\"\n",
       "  132.669,3.93701 132.669,9.53412 \n",
       "  \"/>\n",
       "<polyline clip-path=\"url(#clip02)\" style=\"stroke:#00002d; stroke-width:0.8; stroke-opacity:1; fill:none\" points=\"\n",
       "  295.406,377.078 295.406,371.481 \n",
       "  \"/>\n",
       "<polyline clip-path=\"url(#clip02)\" style=\"stroke:#00002d; stroke-width:0.8; stroke-opacity:1; fill:none\" points=\"\n",
       "  295.406,3.93701 295.406,9.53412 \n",
       "  \"/>\n",
       "<polyline clip-path=\"url(#clip02)\" style=\"stroke:#00002d; stroke-width:0.8; stroke-opacity:1; fill:none\" points=\"\n",
       "  458.143,377.078 458.143,371.481 \n",
       "  \"/>\n",
       "<polyline clip-path=\"url(#clip02)\" style=\"stroke:#00002d; stroke-width:0.8; stroke-opacity:1; fill:none\" points=\"\n",
       "  458.143,3.93701 458.143,9.53412 \n",
       "  \"/>\n",
       "<polyline clip-path=\"url(#clip02)\" style=\"stroke:#00002d; stroke-width:0.8; stroke-opacity:1; fill:none\" points=\"\n",
       "  35.4331,377.078 35.4331,3.93701 \n",
       "  \"/>\n",
       "<polyline clip-path=\"url(#clip02)\" style=\"stroke:#00002d; stroke-width:0.8; stroke-opacity:1; fill:none\" points=\"\n",
       "  596.063,377.078 596.063,3.93701 \n",
       "  \"/>\n",
       "<polyline clip-path=\"url(#clip02)\" style=\"stroke:#00002d; stroke-width:0.8; stroke-opacity:1; fill:none\" points=\"\n",
       "  35.4331,356.554 43.8425,356.554 \n",
       "  \"/>\n",
       "<polyline clip-path=\"url(#clip02)\" style=\"stroke:#00002d; stroke-width:0.8; stroke-opacity:1; fill:none\" points=\"\n",
       "  596.063,356.554 587.654,356.554 \n",
       "  \"/>\n",
       "<polyline clip-path=\"url(#clip02)\" style=\"stroke:#00002d; stroke-width:0.8; stroke-opacity:1; fill:none\" points=\"\n",
       "  35.4331,280.867 43.8425,280.867 \n",
       "  \"/>\n",
       "<polyline clip-path=\"url(#clip02)\" style=\"stroke:#00002d; stroke-width:0.8; stroke-opacity:1; fill:none\" points=\"\n",
       "  596.063,280.867 587.654,280.867 \n",
       "  \"/>\n",
       "<polyline clip-path=\"url(#clip02)\" style=\"stroke:#00002d; stroke-width:0.8; stroke-opacity:1; fill:none\" points=\"\n",
       "  35.4331,205.181 43.8425,205.181 \n",
       "  \"/>\n",
       "<polyline clip-path=\"url(#clip02)\" style=\"stroke:#00002d; stroke-width:0.8; stroke-opacity:1; fill:none\" points=\"\n",
       "  596.063,205.181 587.654,205.181 \n",
       "  \"/>\n",
       "<polyline clip-path=\"url(#clip02)\" style=\"stroke:#00002d; stroke-width:0.8; stroke-opacity:1; fill:none\" points=\"\n",
       "  35.4331,129.495 43.8425,129.495 \n",
       "  \"/>\n",
       "<polyline clip-path=\"url(#clip02)\" style=\"stroke:#00002d; stroke-width:0.8; stroke-opacity:1; fill:none\" points=\"\n",
       "  596.063,129.495 587.654,129.495 \n",
       "  \"/>\n",
       "<polyline clip-path=\"url(#clip02)\" style=\"stroke:#00002d; stroke-width:0.8; stroke-opacity:1; fill:none\" points=\"\n",
       "  35.4331,53.8081 43.8425,53.8081 \n",
       "  \"/>\n",
       "<polyline clip-path=\"url(#clip02)\" style=\"stroke:#00002d; stroke-width:0.8; stroke-opacity:1; fill:none\" points=\"\n",
       "  596.063,53.8081 587.654,53.8081 \n",
       "  \"/>\n",
       "<g clip-path=\"url(#clip00)\">\n",
       "<text style=\"fill:#00002d; fill-opacity:1; font-family:Arial,Helvetica Neue,Helvetica,sans-serif; font-size:12; text-anchor:middle;\" transform=\"rotate(0, 132.669, 393.878)\" x=\"132.669\" y=\"393.878\">0</text>\n",
       "</g>\n",
       "<g clip-path=\"url(#clip00)\">\n",
       "<text style=\"fill:#00002d; fill-opacity:1; font-family:Arial,Helvetica Neue,Helvetica,sans-serif; font-size:12; text-anchor:middle;\" transform=\"rotate(0, 295.406, 393.878)\" x=\"295.406\" y=\"393.878\">2</text>\n",
       "</g>\n",
       "<g clip-path=\"url(#clip00)\">\n",
       "<text style=\"fill:#00002d; fill-opacity:1; font-family:Arial,Helvetica Neue,Helvetica,sans-serif; font-size:12; text-anchor:middle;\" transform=\"rotate(0, 458.143, 393.878)\" x=\"458.143\" y=\"393.878\">4</text>\n",
       "</g>\n",
       "<g clip-path=\"url(#clip00)\">\n",
       "<text style=\"fill:#00002d; fill-opacity:1; font-family:Arial,Helvetica Neue,Helvetica,sans-serif; font-size:12; text-anchor:end;\" transform=\"rotate(0, 29.4331, 361.054)\" x=\"29.4331\" y=\"361.054\">-4</text>\n",
       "</g>\n",
       "<g clip-path=\"url(#clip00)\">\n",
       "<text style=\"fill:#00002d; fill-opacity:1; font-family:Arial,Helvetica Neue,Helvetica,sans-serif; font-size:12; text-anchor:end;\" transform=\"rotate(0, 29.4331, 285.367)\" x=\"29.4331\" y=\"285.367\">-2</text>\n",
       "</g>\n",
       "<g clip-path=\"url(#clip00)\">\n",
       "<text style=\"fill:#00002d; fill-opacity:1; font-family:Arial,Helvetica Neue,Helvetica,sans-serif; font-size:12; text-anchor:end;\" transform=\"rotate(0, 29.4331, 209.681)\" x=\"29.4331\" y=\"209.681\">0</text>\n",
       "</g>\n",
       "<g clip-path=\"url(#clip00)\">\n",
       "<text style=\"fill:#00002d; fill-opacity:1; font-family:Arial,Helvetica Neue,Helvetica,sans-serif; font-size:12; text-anchor:end;\" transform=\"rotate(0, 29.4331, 133.995)\" x=\"29.4331\" y=\"133.995\">2</text>\n",
       "</g>\n",
       "<g clip-path=\"url(#clip00)\">\n",
       "<text style=\"fill:#00002d; fill-opacity:1; font-family:Arial,Helvetica Neue,Helvetica,sans-serif; font-size:12; text-anchor:end;\" transform=\"rotate(0, 29.4331, 58.3081)\" x=\"29.4331\" y=\"58.3081\">4</text>\n",
       "</g>\n",
       "<circle clip-path=\"url(#clip02)\" style=\"fill:#00002d; stroke:none; fill-opacity:1\" cx=\"132.669\" cy=\"167.338\" r=\"2\"/>\n",
       "<circle clip-path=\"url(#clip02)\" style=\"fill:#0099ff; stroke:none; fill-opacity:1\" cx=\"132.669\" cy=\"167.338\" r=\"2\"/>\n",
       "<circle clip-path=\"url(#clip02)\" style=\"fill:#00002d; stroke:none; fill-opacity:1\" cx=\"230.311\" cy=\"243.024\" r=\"2\"/>\n",
       "<circle clip-path=\"url(#clip02)\" style=\"fill:#0099ff; stroke:none; fill-opacity:1\" cx=\"230.311\" cy=\"243.024\" r=\"2\"/>\n",
       "<circle clip-path=\"url(#clip02)\" style=\"fill:#00002d; stroke:none; fill-opacity:1\" cx=\"336.09\" cy=\"159.769\" r=\"2\"/>\n",
       "<circle clip-path=\"url(#clip02)\" style=\"fill:#0099ff; stroke:none; fill-opacity:1\" cx=\"336.09\" cy=\"159.769\" r=\"2\"/>\n",
       "<circle clip-path=\"url(#clip02)\" style=\"fill:#00002d; stroke:none; fill-opacity:1\" cx=\"458.143\" cy=\"76.5141\" r=\"2\"/>\n",
       "<circle clip-path=\"url(#clip02)\" style=\"fill:#0099ff; stroke:none; fill-opacity:1\" cx=\"458.143\" cy=\"76.5141\" r=\"2\"/>\n",
       "<circle clip-path=\"url(#clip02)\" style=\"fill:#00002d; stroke:none; fill-opacity:1\" cx=\"498.827\" cy=\"53.8081\" r=\"2\"/>\n",
       "<circle clip-path=\"url(#clip02)\" style=\"fill:#0099ff; stroke:none; fill-opacity:1\" cx=\"498.827\" cy=\"53.8081\" r=\"2\"/>\n",
       "<polyline clip-path=\"url(#clip02)\" style=\"stroke:#ff0000; stroke-width:0.8; stroke-opacity:1; fill:none\" points=\"\n",
       "  51.3,335.548 56.6423,311.171 61.9847,289.063 67.3271,269.132 72.6695,251.29 78.0119,235.448 83.3543,221.516 88.6967,209.406 94.039,199.026 99.3814,190.29 \n",
       "  104.724,183.107 110.066,177.387 115.409,173.043 120.751,169.984 126.093,168.121 131.436,167.364 136.778,167.626 142.121,168.816 147.463,170.845 152.805,173.623 \n",
       "  158.148,177.063 163.49,181.073 168.832,185.566 174.175,190.451 179.517,195.639 184.86,201.042 190.202,206.57 195.544,212.133 200.887,217.643 206.229,223.01 \n",
       "  211.572,228.145 216.914,232.958 222.256,237.36 227.599,241.263 232.941,244.502 238.283,246.596 243.626,247.536 248.968,247.4 254.311,246.264 259.653,244.206 \n",
       "  264.995,241.303 270.338,237.633 275.68,233.272 281.023,228.298 286.365,222.788 291.707,216.82 297.05,210.47 302.392,203.817 307.734,196.936 313.077,189.906 \n",
       "  318.419,182.803 323.762,175.706 329.104,168.69 334.446,161.835 339.789,155.272 345.131,149.194 350.474,143.579 355.816,138.396 361.158,133.609 366.501,129.186 \n",
       "  371.843,125.093 377.185,121.296 382.528,117.761 387.87,114.456 393.213,111.346 398.555,108.398 403.897,105.579 409.24,102.854 414.582,100.19 419.925,97.554 \n",
       "  425.267,94.9121 430.609,92.2306 435.952,89.476 441.294,86.6147 446.636,83.6132 451.979,80.4378 457.321,77.055 462.664,73.3719 468.006,69.4122 473.348,65.4239 \n",
       "  478.691,61.6583 484.033,58.3665 489.376,55.7998 494.718,54.2094 500.06,53.8465 505.403,54.9622 510.745,57.8079 516.087,62.6346 521.43,69.6936 526.772,79.2361 \n",
       "  532.115,91.5133 537.457,106.776 542.799,125.276 548.142,147.265 553.484,172.993 558.827,202.712 564.169,236.672 569.511,275.126 574.854,318.324 580.196,366.517 \n",
       "  \n",
       "  \"/>\n",
       "<polyline clip-path=\"url(#clip02)\" style=\"stroke:#008100; stroke-width:0.8; stroke-opacity:1; fill:none\" points=\"\n",
       "  51.3,97.7095 56.6423,100.513 61.9847,103.676 67.3271,107.175 72.6695,110.982 78.0119,115.074 83.3543,119.425 88.6967,124.01 94.039,128.802 99.3814,133.778 \n",
       "  104.724,138.911 110.066,144.177 115.409,149.55 120.751,155.004 126.093,160.515 131.436,166.057 136.778,171.605 142.121,177.133 147.463,182.617 152.805,188.031 \n",
       "  158.148,193.349 163.49,198.546 168.832,203.598 174.175,208.478 179.517,213.162 184.86,217.624 190.202,221.838 195.544,225.78 200.887,229.425 206.229,232.746 \n",
       "  211.572,235.718 216.914,238.317 222.256,240.517 227.599,242.293 232.941,243.565 238.283,244 243.626,243.593 248.968,242.4 254.311,240.476 259.653,237.876 \n",
       "  264.995,234.656 270.338,230.872 275.68,226.579 281.023,221.833 286.365,216.689 291.707,211.202 297.05,205.429 302.392,199.425 307.734,193.245 313.077,186.945 \n",
       "  318.419,180.581 323.762,174.207 329.104,167.88 334.446,161.655 339.789,155.626 345.131,149.925 350.474,144.543 355.816,139.464 361.158,134.669 366.501,130.141 \n",
       "  371.843,125.861 377.185,121.814 382.528,117.981 387.87,114.344 393.213,110.885 398.555,107.588 403.897,104.435 409.24,101.408 414.582,98.4889 419.925,95.6609 \n",
       "  425.267,92.9062 430.609,90.2071 435.952,87.5461 441.294,84.9056 446.636,82.268 451.979,79.6157 457.321,76.9311 462.664,74.1809 468.006,71.3378 473.348,68.4151 \n",
       "  478.691,65.4264 484.033,62.3857 489.376,59.3067 494.718,56.2033 500.06,53.0893 505.403,49.9784 510.745,46.8846 516.087,43.8216 521.43,40.8032 526.772,37.8432 \n",
       "  532.115,34.9555 537.457,32.1539 542.799,29.4522 548.142,26.8642 553.484,24.4037 558.827,22.0846 564.169,19.9206 569.511,17.9255 574.854,16.1133 580.196,14.4976 \n",
       "  \n",
       "  \"/>\n",
       "</svg>\n"
      ]
     },
     "execution_count": 71,
     "metadata": {},
     "output_type": "execute_result"
    }
   ],
   "source": [
    "scatter(x, y, ms=3, leg=false)\n",
    "plot!(s, x[1]-1, x[end]+1, c=:red)\n",
    "plot!(s2, x[1]-1, x[end]+1, c=:green)"
   ]
  },
  {
   "cell_type": "markdown",
   "metadata": {},
   "source": [
    "# Exercício: Implementar spline cúbica montando a matriz esparsa"
   ]
  },
  {
   "cell_type": "code",
   "execution_count": null,
   "metadata": {
    "collapsed": true
   },
   "outputs": [],
   "source": [
    "function calcula_spline(x, y; preso=true, inc1=0.0, inc2=0.0)\n",
    "    # Aqui calcula A e r\n",
    "    A = spzeros(...)\n",
    "    if clamped\n",
    "        A[1,1] = 1.0\n",
    "        r[1] = inc1\n",
    "        ...\n",
    "    else\n",
    "        A[1,2] = 2.0\n",
    "        ...\n",
    "    end \n",
    "    # Calcula α = A\\r\n",
    "    # Calcula b, c e d\n",
    "    return b, c, d\n",
    "end\n",
    "\n",
    "function spline(t, x, y, b, c, d)\n",
    "    m = length(x)\n",
    "    if t < x[2]\n",
    "        i = 1\n",
    "    elseif t > x[m-1]\n",
    "        i = m-1\n",
    "    else\n",
    "        for i = 2:m-2\n",
    "            if t < x[i+1]\n",
    "                break\n",
    "            end\n",
    "        end\n",
    "    end\n",
    "    dx = t-x[i]\n",
    "    return y[i] + b[i]*dx + c[i]*dx^2 + d[i]*dx^3\n",
    "end"
   ]
  },
  {
   "cell_type": "markdown",
   "metadata": {},
   "source": [
    "## Parte 2\n",
    "\n",
    "Considere o desenho abaixo, com o grid dado.\n",
    "Escolhendo pontos específicos do grid, faça uma\n",
    "interpolação spline cúbica tentando recriar o snoopy."
   ]
  },
  {
   "cell_type": "markdown",
   "metadata": {},
   "source": [
    "![snoopy](snoopy.jpg)"
   ]
  },
  {
   "cell_type": "code",
   "execution_count": null,
   "metadata": {
    "collapsed": true
   },
   "outputs": [],
   "source": []
  }
 ],
 "metadata": {
  "kernelspec": {
   "display_name": "Julia 0.4.6",
   "language": "julia",
   "name": "julia-0.4"
  },
  "language_info": {
   "file_extension": ".jl",
   "mimetype": "application/julia",
   "name": "julia",
   "version": "0.4.6"
  }
 },
 "nbformat": 4,
 "nbformat_minor": 0
}
