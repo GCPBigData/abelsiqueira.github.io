{
 "cells": [
  {
   "cell_type": "markdown",
   "metadata": {},
   "source": [
    "# Zeros de Função\n",
    "\n",
    "Em muitas situações práticas, estamos interessados em encontrar uma solução de uma equação não linear.\n",
    "Quando a equação tem alguma forma especial, como as equações afins e quadráticas, a solução pode ser obtida facilmente. Em alguns casos, uma equação aparentemente complicada pode ter uma solução através de alguns truques.\n",
    "Por exemplo, a equação\n",
    "$$ 4^{x} - 5\\times2^{x} + 6 = 0, $$\n",
    "pode ser resolvida considerando $y = 2^x$ e resolvendo uma equação quadrática.\n",
    "\n",
    "No entanto, existem casos em que não é fácil encontrar essa solução, ou ainda que não é possível.\n",
    "O exemplo mais clássico disso é a equação\n",
    "$$ xe^x = 1, $$\n",
    "cuja solução é a constante $\\Omega$, com valor perto de $0.567$. Essa constante, como $\\pi$ e $e$, é transcedental."
   ]
  },
  {
   "cell_type": "markdown",
   "metadata": {},
   "source": [
    "De uma maneira mais geral, dado uma função $f$ contínua num intervalo $[a,b]$, procuramos ao menos um valor de $x \\in [a,b]$ tal que\n",
    "$$ f(x) = 0. $$"
   ]
  },
  {
   "cell_type": "markdown",
   "metadata": {},
   "source": [
    "Uma aplicação um pouco mais prático é o de encontrar a taxa de juros de uma compra feita utilizando um financiamento pela tabela Price. Por exemplo, no financiamento de um carro.\n",
    "A equação que relaciona os valores da tabela Price é\n",
    "$$ p = V \\frac{ (1+i)^n i }{ (1 + i)^n - 1},$$\n",
    "onde $p$ é o valor da parcela, $V$ é o valor  do produto pago à vista no presente, $n$ é o número de parcelas e $i$ é a taxa de Juros. Note que para $i = 0$ essa equação não está definida, no entanto,\n",
    "faz sentido que\n",
    "- fisicamente, se não temos juros, temos uma divisão normal: $p = \\dfrac{V}{n}$,\n",
    "- matematicamente, quando $i \\to 0$, temos"
   ]
  },
  {
   "cell_type": "code",
   "execution_count": 1,
   "metadata": {},
   "outputs": [
    {
     "data": {
      "text/plain": [
       "853.9098445091832"
      ]
     },
     "execution_count": 1,
     "metadata": {},
     "output_type": "execute_result"
    }
   ],
   "source": [
    "n = 48\n",
    "i = 0.1 / 100\n",
    "V = 40_000\n",
    "p = V*(1+i)^n*i/( (1+i)^n - 1)"
   ]
  },
  {
   "cell_type": "code",
   "execution_count": 2,
   "metadata": {},
   "outputs": [
    {
     "ename": "LoadError",
     "evalue": "\u001b[91mUndefVarError: ? not defined\u001b[39m",
     "output_type": "error",
     "traceback": [
      "\u001b[91mUndefVarError: ? not defined\u001b[39m",
      ""
     ]
    }
   ],
   "source": [
    "n = 48\n",
    "V = 40_000\n",
    "p = 900\n",
    "i = ?"
   ]
  },
  {
   "cell_type": "markdown",
   "metadata": {},
   "source": [
    "\\begin{align}\n",
    "\\lim_{i \\to 0} \\frac{(1 + i)^n i}{(1 + i)^n - 1}\n",
    "& = \\lim_{y \\to 1} \\frac{y^n (y - 1)}{y^n - 1} \\\\\n",
    "& = \\lim_{y \\to 1} \\frac{y^{n+1} - y^n}{y^n - 1} \\\\\n",
    "& = \\lim_{y \\to 1} \\frac{(n+1)y^n - ny^{n-1}}{ny^{n-1}} \\\\\n",
    "& = \\frac{(n+1) - n}{n} \\\\\n",
    "& = \\frac{1}{n},\n",
    "\\end{align}"
   ]
  },
  {
   "cell_type": "markdown",
   "metadata": {},
   "source": [
    "onde a última igualdade do limite segue de L'Hôpital. Daí, temos $\\displaystyle \\lim_{i \\to 0} p = \\dfrac{V}{n}$.\n",
    "Então, uma maneira de deixar essa função contínua é definir\n",
    "$$ f(i) = \\left\\{\\begin{array}{ll}\n",
    "p - V \\dfrac{(1+i)^n i}{(1+i)^n-1}, & i \\neq 0, \\\\\n",
    "p - \\dfrac{V}{n}, & i = 0.\n",
    "\\end{array}\\right.$$"
   ]
  },
  {
   "cell_type": "markdown",
   "metadata": {},
   "source": [
    "Vamos ver agora como resolver esse problema."
   ]
  },
  {
   "cell_type": "markdown",
   "metadata": {},
   "source": [
    "# Método da bissecção"
   ]
  },
  {
   "cell_type": "markdown",
   "metadata": {},
   "source": [
    "O método da bissecção é um método bastante simples de se entender, de explicar, e de implementar, por isso é um dos favoritos."
   ]
  },
  {
   "cell_type": "markdown",
   "metadata": {},
   "source": [
    "A base do método é o Teorema do Valor Intermediário:\n",
    "\n",
    "**Teorema do Valor Intermediário:**Se $f$ é contínua em $[a,b]$ e $f(a)$ e $f(b)$ têm sinais opostos, então existe $c \\in [a,b]$ tal que $f(c) = 0$."
   ]
  },
  {
   "cell_type": "markdown",
   "metadata": {},
   "source": [
    "O método da bissecção simplesmente toma o intervalo $[a,b]$ e divide-o em dois, digamos $[a,c]$ e $[c,b]$.\n",
    "Caso tenhamos sorte, o ponto $c$ será um zero da função $f$, isto é, $f(c) = 0$. Caso contrário, o sinal de $f(c)$ será oposto à ou $f(a)$, ou $f(b)$. Desse modo, um dos intervalos $[a,c]$ ou $[c,b]$ terá um zero, pelo TVI. Logo, podemos repetir o processo."
   ]
  },
  {
   "cell_type": "markdown",
   "metadata": {},
   "source": [
    "Antes de considerar os detalhes de algum algoritmo que implemente o método da bissecção, vamos considerar\n",
    "a convergência do método, definido matematicamente. Para tanto, definimos a seguinte hipótese\n",
    "\n",
    "- **H-B1:** $f$ é contínua em $[a,b]$, $a < b$ e $f(a)$ e $f(b) têm sinais opostos.\n",
    "\n",
    "Podemos definir duas sequências para o método da bissecção: $\\{a_k\\}$ e $\\{b_k\\}$, onde\n",
    "$[a_0,b_0] = [a,b]$ é o intervalo inicial dado, e cada intervalo $[a_k,b_k]$ é gerado na iteração $k$\n",
    "do método, da seguinte maneira:\n",
    "- Define-se $x_k = \\dfrac{a_{k-1} + b_{k-1}}{2}$;\n",
    "- Caso $f(x_k) = 0$, define-se $a_k = b_k = x_k$;\n",
    "- Caso contrário, se $f(a_{k-1})$ e $f(x_k)$ tenham sinais diferentes, define-se $a_k = a_{k-1}$ e $b_k = x_k$;\n",
    "- Caso nenhum dos casos anteriores aconteça, define-se $a_k = x_k$ e $b_k = b_{k-1}$.\n",
    "Vamos agora demonstrar que o intervalo $[a_k,b_k]$ vai se fechando ao redor de um zero de $f$."
   ]
  },
  {
   "cell_type": "markdown",
   "metadata": {},
   "source": [
    "**Lema:** Suponha que vale H-B1 e que $a_k < b_k$, então $f(a_k)$ e $f(b_k)$ têm sinais opostos.\n",
    "\n",
    "*Dem.:* Primeiro, veja que $x_j$ não é zero de $f$ em nenhuma iteração $j = 1,\\dots,k$. Caso contrário, teríamos $a_j = b_j = x_j = a_k = b_k$, que não é o caso.\n",
    "Agora, demonstramos o resultado por indução.\n",
    "\n",
    "Se $f(a)$ e $f(x_1)$ têm sinais diferentes, então $a_1 = a$ e $b_1 = x_1$, e fica provado.\n",
    "Caso contrário, $a_1 = x_1$ e $b_1 = b$. Mas $f(a)$ e $f(x_1)$ têm sinais iguais, e $f(b)$ e $f(a)$ têm sinais opostos. Logo, $f(x_1)$ e $f(b)$ têm sinais opostos, e fica provado.\n",
    "\n",
    "Suponha que vale para $k-1$.\n",
    "No caso de $f(a_{k-1})$ e $f(x_k)$ terem sinais diferentes, então fica claro que $f(a_k) = f(a_{k-1})$ e\n",
    "$f(b_k) = f(x_k)$ têm sinais diferentes.\n",
    "Falta analisar o caso contrário.\n",
    "Temos que $a_k = x_k$ e que $b_k = b_{k-1}$, então temos que mostrar que $f(x_k)$ e $f(b_{k-1})$ têm sinais opostos. Mas como $f(a_{k_1})$ e $f(x_k)$ têm o mesmo sinal, e por hipótese de indução, temos $f(a_{k-1})$ e $f(b_{k-1})$ têm sinais opostos, então $f(x_k)$ e $f(b_{k-1})$ têm sinais opostos, e fica provado.\n",
    "$\\blacksquare$"
   ]
  },
  {
   "cell_type": "markdown",
   "metadata": {},
   "source": [
    "O Lema acima serve para mostrar que em cada iteração do método da bissecção, teremos as hipóteses do Teorema do Valor Intermediário satisfeitas. Agora vamos para o Teorema que diz que as sequências convergem."
   ]
  },
  {
   "cell_type": "markdown",
   "metadata": {},
   "source": [
    "**Teorema (de convergência do método da bissecção):**\n",
    "Sob a hipóteses H-B1, o método da bissecção gera sequências $\\{a_k\\}$ e $\\{b_k\\}$ convergentes, ambas para um mesmo valor $c \\in [a,b]$ com $f(c) = 0$.\n",
    "\n",
    "*Dem.:* Primeiro, se existe alguma iteração onde $x_k$ satisfaz $f(x_k) = 0$, então $a_k = b_k = x_k$ e depois disso, $a_j = b_j = x_k$ para todo $j > k$. Sendo assim, trivialmente essa sequência converge, para $c \\equiv x_k$.\n",
    "\n",
    "Suponha agora que não existe $x_k$ tal que $f(x_k) = 0$.\n",
    "Note que\n",
    "$$a \\leq a_1 \\leq \\dots \\leq a_k \\leq \\dots \\leq b_k \\leq \\dots \\leq b_1 \\leq b. $$\n",
    "Isso quer dizer que a sequência $\\{a_k\\}$ é não decrescente e limitada superiormente. Portanto, é convergente.\n",
    "Por outro lado, a sequência $\\{b_k\\}$ é não crescente e limitada inferiormente. Portanto, também é convergente.\n",
    "Não somente isso, mas pela definição de $x_k$, temos\n",
    "$$ b_k - a_k = \\dfrac{b_{k-1} - a_{k-1}}{2} = \\dfrac{b - a}{2^k}, $$\n",
    "de modo que $b_k - a_k \\rightarrow 0$. Como $b_k \\rightarrow b^*$ e $a_k \\rightarrow a^*$, então\n",
    "$b_k - a_k \\rightarrow b^* - a^* = 0$. Portanto $a^* = b^*$, isto é, ambas sequências convergem para um mesmo valor, que denotaremos de $c$.\n",
    "\n",
    "Para mostrar que $f(c) = 0$, note que pela Lema anterior, como $a_k < b_k$, temos que $f(a_k)$ e $f(b_k)$ têm sinais diferentes. Sendo assim, existe $c_k \\in (a_k,b_k)$ tal que $f(c_k) = 0$.\n",
    "Como $a_k < c_k < b_k$, pelo Teorema do Confronto, temos que $c_k \\rightarrow c$.\n",
    "Pela continuidade da função $f$, temos que $f(c_k) \\rightarrow f(c)$, que implica em $f(c) = 0$.\n",
    "$\\blacksquare$"
   ]
  },
  {
   "cell_type": "markdown",
   "metadata": {},
   "source": [
    "O pseudo-código para o método está abaixo."
   ]
  },
  {
   "cell_type": "code",
   "execution_count": 3,
   "metadata": {},
   "outputs": [],
   "source": [
    "#=\n",
    "    Entrada: f, a, b tais que f(a) * f(b) < 0\n",
    "1. x ← (a + b) / 2\n",
    "2. Enquanto f(x) ≠ 0\n",
    "    1. Se f(a) * f(x) < 0\n",
    "        b ← x\n",
    "    2. Senão,      # isto é, f(b) * f(x) < 0\n",
    "        a ← x\n",
    "    3. x ← (a + b) / 2\n",
    "3. Retorne x\n",
    "    Saída: x tal que f(x) = 0\n",
    "=#"
   ]
  },
  {
   "cell_type": "markdown",
   "metadata": {},
   "source": [
    "Note que chamados esse processo de *método* da bissecção, não de *algoritmo* de bissecção.\n",
    "Essa é uma diferença importante e recorrente.\n",
    "Aqui, a cerne do nosso estudo é o \"miolo\" do algoritmo, isto é, como definir algo\n",
    "matematicamente de modo que propriedades teóricas sejam satisfeitas.\n",
    "Em geral, as condições de parada não ficam bem estabelecidas num método.\n",
    "Além disso, existe a questão das *hipóteses de entrada*. Quando não são satisfeitas,\n",
    "um algoritmo deve lidar com isso, enquanto que o método é definido supondo tais\n",
    "hipóteses.\n",
    "Além das hipóteses de entrada, existem as *hipóteses de convergência*, que serão\n",
    "definidas posteriormente para mostrar que o método funciona.\n",
    "Algumas dessas hipóteses não podem ser testadas computacionalmente, por exemplo\n",
    "a continuidade da função $f$. No entanto, essa hipótese é essencial para que o\n",
    "método funcione. Muitas vezes, as hipóteses de entrada e de convergência aparecem simplesmente como hipóteses.\n",
    "Computacionalmente, devemos adicionar critérios de parada adicionais para garantir\n",
    "a finitude do algoritmo. Isso foi visto, por exemplo, quando trabalhamos com a sequência\n",
    "de Collatz."
   ]
  },
  {
   "cell_type": "markdown",
   "metadata": {},
   "source": [
    "## Critério de sucesso\n",
    "\n",
    "Uma questão importante neste método, e em muitos outros métodos matemáticos, é que $f(x) = 0$ pode não acontecer em tempo finito, assim como pode não ser possível computacionalmente.\n",
    "Por exemplo, a sequência $x_k = 1/k$ converge para $0$, mas nunca chegará nela em tempo finito se cada iteração levar uma quantidade de tempo $t \\geq t_{\\min} > 0$.\n",
    "\n",
    "Por outro lado, veja o exemplo abaixo para a função\n",
    "$$ f(x) = \\bigg(\\cos(x) - \\frac{1}{2}\\bigg)^2, $$\n",
    "onde buscamos uma solução no intervalo $[0,\\pi]$ (que é $\\pi/3$)."
   ]
  },
  {
   "cell_type": "code",
   "execution_count": 4,
   "metadata": {},
   "outputs": [
    {
     "name": "stdout",
     "output_type": "stream",
     "text": [
      "Solução esperada: s = π/3 = 1.0471975511965976\n",
      "f(s) = 1.232595164407831e-32\n",
      "Próximo ponto flutuante: sn = 1.0471975511965979\n",
      "f(sn) = 1.232595164407831e-32\n",
      "Próximo ponto flutuante: sn2 = 1.047197551196598\n",
      "f(sn2) = 7.703719777548943e-32\n",
      "Ponto flutuante antes de s: sp = 1.0471975511965974\n",
      "f(sp) = 1.1093356479670479e-31\n"
     ]
    }
   ],
   "source": [
    "f(x) = (cos(x) - 0.5)^2\n",
    "s = pi/3\n",
    "sn = nextfloat(s)\n",
    "sn2 = nextfloat(sn)\n",
    "sp = prevfloat(s)\n",
    "\n",
    "println(\"Solução esperada: s = π/3 = $s\")\n",
    "println(\"f(s) = $(f(s))\")\n",
    "println(\"Próximo ponto flutuante: sn = $sn\")\n",
    "println(\"f(sn) = $(f(sn))\")\n",
    "println(\"Próximo ponto flutuante: sn2 = $sn2\")\n",
    "println(\"f(sn2) = $(f(sn2))\")\n",
    "println(\"Ponto flutuante antes de s: sp = $sp\")\n",
    "println(\"f(sp) = $(f(sp))\")"
   ]
  },
  {
   "cell_type": "markdown",
   "metadata": {},
   "source": [
    "Isso sem falar no problema de escalamento:"
   ]
  },
  {
   "cell_type": "code",
   "execution_count": 5,
   "metadata": {},
   "outputs": [
    {
     "name": "stdout",
     "output_type": "stream",
     "text": [
      "Solução esperada: s = π/3 = 1.0471975511965976\n",
      "f(s) = 1.232595164407831e18\n",
      "Próximo ponto flutuante: sn = 1.0471975511965979\n",
      "f(sn) = 1.232595164407831e18\n",
      "Próximo ponto flutuante: sn2 = 1.047197551196598\n",
      "f(sn2) = 7.703719777548944e18\n",
      "Ponto flutuante antes de s: sp = 1.0471975511965974\n",
      "f(sp) = 1.1093356479670479e19\n"
     ]
    }
   ],
   "source": [
    "f(x) = 1e50 * (cos(x) - 0.5)^2\n",
    "s = pi/3\n",
    "sn = nextfloat(s)\n",
    "sn2 = nextfloat(sn)\n",
    "sp = prevfloat(s)\n",
    "\n",
    "println(\"Solução esperada: s = π/3 = $s\")\n",
    "println(\"f(s) = $(f(s))\")\n",
    "println(\"Próximo ponto flutuante: sn = $sn\")\n",
    "println(\"f(sn) = $(f(sn))\")\n",
    "println(\"Próximo ponto flutuante: sn2 = $sn2\")\n",
    "println(\"f(sn2) = $(f(sn2))\")\n",
    "println(\"Ponto flutuante antes de s: sp = $sp\")\n",
    "println(\"f(sp) = $(f(sp))\")"
   ]
  },
  {
   "cell_type": "markdown",
   "metadata": {},
   "source": [
    "Ambos os problemas podem ser resolvidos lembrando que estamos trabalhando com aproximações dos valores pela máquina, e que então devemos ter uma **tolerância** para o quão próximo de $0$ aceitaremos que um valor esteja.\n",
    "\n",
    "A maneira mais simples de tentar resolver esse problema é utilizar uma **tolerância absoluta** $\\epsilon_a > 0$:\n",
    "se $|f(x)| \\leq \\epsilon_a$, então consideramos que $x$ é uma boa aproximação para um zero da função.\n",
    "Como visto acima, no entanto, podemos ter $f$ multiplicada por alguma constante muito grande, que acaba desnivelando completamente nosso teste. Uma maneira de tentar resolver esse problema é utilizar uma\n",
    "**tolerância relativa**, onde multiplicamos uma constante $\\epsilon_r > 0$ por algum valor de referência.\n",
    "O valor de referência ideal deve conseguir identificar a escala de $f$ perto da solução. Uma maneira de fazer isso é utilizar algum valor de $f(x_k)$ como referência. Como não temos nenhuma informação de quantas informações serão necessárias para se chegar perto da solução, podemos utilizar o primeiro valor de $f$ como referência, isto é $f(x_0)$. Dessa maneira, se $|f(x)| \\leq \\epsilon_r |f(x_0)|$, então $x$ é uma boa aproximação para um zero da função.\n",
    "\n",
    "Nossos problemas não acabaram ainda: qual critério utilizar? O absoluto ou o relativo? No primeiro exemplo, qualquer um dos dois funcionaria começando numa distância razoável da solução (o número de iterações pode ser diferente). No segundo exemplo, só o relativo funcionaria. No entanto, podemos ter um exemplo onde a tolerância relativa não funciona, mas a absoluta funcionaria."
   ]
  },
  {
   "cell_type": "code",
   "execution_count": 6,
   "metadata": {},
   "outputs": [
    {
     "name": "stdout",
     "output_type": "stream",
     "text": [
      "Solução esperada: s = π/3 = 1.0471975511965976\n",
      "f(s) = 1.232595164407831e-32\n",
      "Próximo ponto flutuante: sn = 1.0471975511965979\n",
      "f(sn) = 1.232595164407831e-32\n",
      "Próximo ponto flutuante: sn2 = 1.047197551196598\n",
      "f(sn2) = 1.232595164407831e-32\n",
      "Ponto flutuante antes de s: sp = 1.0471975511965974\n",
      "f(sp) = 1.232595164407831e-32\n",
      "x₀ = 0.0, f(x₀) = 1.232595164407831e-32\n"
     ]
    }
   ],
   "source": [
    "f(x) = (cos(pi/3 + 1e-50 * (x - pi/3)) - 0.5)^2\n",
    "s = pi/3\n",
    "sn = nextfloat(s)\n",
    "sn2 = nextfloat(sn)\n",
    "sp = prevfloat(s)\n",
    "\n",
    "println(\"Solução esperada: s = π/3 = $s\")\n",
    "println(\"f(s) = $(f(s))\")\n",
    "println(\"Próximo ponto flutuante: sn = $sn\")\n",
    "println(\"f(sn) = $(f(sn))\")\n",
    "println(\"Próximo ponto flutuante: sn2 = $sn2\")\n",
    "println(\"f(sn2) = $(f(sn2))\")\n",
    "println(\"Ponto flutuante antes de s: sp = $sp\")\n",
    "println(\"f(sp) = $(f(sp))\")\n",
    "\n",
    "println(\"x₀ = 0.0, f(x₀) = $(f(0.0))\")"
   ]
  },
  {
   "cell_type": "markdown",
   "metadata": {},
   "source": [
    "Uma maneira que está sendo utilizada com mais frequência é uma combinação das duas tolerâncias.\n",
    "$$ |f(x)| \\leq \\epsilon_a + \\epsilon_r |f(x_0)|. $$\n",
    "Em geral, vamos considerar uma combinação das duas condições quando possível.\n",
    "\n",
    "Os valores de $\\epsilon_a$ e $\\epsilon_r$ variam de acordo com a aplicação e a necessidade de aproximações mais precisas. Os valores mais comuns são da ordem de $10^{-4}$, $10^{-6}$ e $10^{-8}$."
   ]
  },
  {
   "cell_type": "markdown",
   "metadata": {},
   "source": [
    "## Critérios de parada\n",
    "\n",
    "Além do critério acima, precisamos definir outros critérios para obter a finitude.\n",
    "Um ponto interessante em muitos métodos matemáticos é que\n",
    "\n",
    "> *Mesmo que a condição de parada de sucesso não seja satisfeita, a saída do programa ainda pode ser útil.*"
   ]
  },
  {
   "cell_type": "markdown",
   "metadata": {},
   "source": [
    "Esse é um conceito importante em muitos problemas. Em particular, em alguns problemas de programação linear e inteira, uma solução precisa pode ser computacionalmente inviável (anos para se obter). O comum nesses casos, é estabelecer limites para o tempo de execução, iterações, memória, etc., e utilizar a melhor solução obtida até então."
   ]
  },
  {
   "cell_type": "markdown",
   "metadata": {},
   "source": [
    "Alguns dos critérios de paradas mais utilizados:\n",
    "- Progresso lento (e.g., a distância entre $x_k$ e $x_{k-1}$ ficou muito pequena, $b_k - a_k$ está muito pequeno, etc.);\n",
    "- Limite de tempo;\n",
    "- Limite de iterações;\n",
    "- Limite de algum outro gasto - principalmente avaliações de função;\n",
    "- Falha na satisfação de alguma hipótese."
   ]
  },
  {
   "cell_type": "markdown",
   "metadata": {},
   "source": [
    "Antes de olhar a implementação abaixo, faça uma implementação bastante simples do método da bissecção.\n",
    "Teste com a função $f(x) = xe^x - 1$ no intervalo $[0, 1]$."
   ]
  },
  {
   "cell_type": "code",
   "execution_count": 7,
   "metadata": {},
   "outputs": [
    {
     "data": {
      "text/plain": [
       "bisseccao"
      ]
     },
     "execution_count": 7,
     "metadata": {},
     "output_type": "execute_result"
    }
   ],
   "source": [
    "\"\"\"`bisseccao(f, a, b; atol=1e-6, rtol=1e-6, maxiter=10_000)`\n",
    "\n",
    "Calcula um zero para `f` no intervalo `[a,b]` utilizando o método da bissecção.\n",
    "Se `f(a) * f(b) < 0`, então retorna um erro.\n",
    "\n",
    "Saída: `xₖ, f(xₖ), k`\n",
    "\n",
    "    xₖ    - aproximação para um zero de f\n",
    "    f(xₖ) - f aplicada nessa aproximação\n",
    "    k     - número de iterações\n",
    "\"\"\"\n",
    "function bisseccao(f::Function, a::Real, b::Real; atol=1e-6, rtol=1e-6, maxiter=10_000)\n",
    "    (fa, fb) = (f(a), f(b))\n",
    "    ϵ = atol + rtol * (abs(fa) + abs(fb)) / 2\n",
    "    if abs(fa) <= ϵ\n",
    "        return a, fa, 0\n",
    "    elseif abs(fb) <= ϵ\n",
    "        return b, fb, 0\n",
    "    elseif fa * fb > 0\n",
    "        error(\"f(a) e f(b) devem ter sinais diferentes\")\n",
    "    end\n",
    "    x = (a + b) / 2\n",
    "    fx = f(x)\n",
    "    iter = 1\n",
    "    while !(abs(fx) <= ϵ || iter > maxiter)\n",
    "        if fx * fa < 0\n",
    "            b = x\n",
    "        else\n",
    "            a = x\n",
    "        end\n",
    "    \n",
    "        x = (a + b) / 2\n",
    "        fx = f(x)\n",
    "        iter += 1\n",
    "    end\n",
    "    \n",
    "    return x, fx, iter\n",
    "end"
   ]
  },
  {
   "cell_type": "code",
   "execution_count": 8,
   "metadata": {},
   "outputs": [
    {
     "data": {
      "text/plain": [
       "(1.4142131805419922, -1.0799813026096672e-6, 19)"
      ]
     },
     "execution_count": 8,
     "metadata": {},
     "output_type": "execute_result"
    }
   ],
   "source": [
    "xtil, fx, iter = bisseccao(x->x^2 - 2, 1, 2)"
   ]
  },
  {
   "cell_type": "code",
   "execution_count": 9,
   "metadata": {},
   "outputs": [
    {
     "data": {
      "text/plain": [
       "1.4142135623730951"
      ]
     },
     "execution_count": 9,
     "metadata": {},
     "output_type": "execute_result"
    }
   ],
   "source": [
    "x = sqrt(2)"
   ]
  },
  {
   "cell_type": "code",
   "execution_count": 10,
   "metadata": {},
   "outputs": [
    {
     "data": {
      "text/plain": [
       "3.818311029579746e-7"
      ]
     },
     "execution_count": 10,
     "metadata": {},
     "output_type": "execute_result"
    }
   ],
   "source": [
    "Erro = x - xtil"
   ]
  },
  {
   "cell_type": "code",
   "execution_count": 11,
   "metadata": {},
   "outputs": [
    {
     "data": {
      "text/plain": [
       "3.818311029579746e-7"
      ]
     },
     "execution_count": 11,
     "metadata": {},
     "output_type": "execute_result"
    }
   ],
   "source": [
    "ErroAbs = abs(Erro)"
   ]
  },
  {
   "cell_type": "code",
   "execution_count": 12,
   "metadata": {},
   "outputs": [
    {
     "data": {
      "text/plain": [
       "2.6999536216952265e-7"
      ]
     },
     "execution_count": 12,
     "metadata": {},
     "output_type": "execute_result"
    }
   ],
   "source": [
    "ErroRel = ErroAbs/x"
   ]
  },
  {
   "cell_type": "code",
   "execution_count": 13,
   "metadata": {},
   "outputs": [
    {
     "data": {
      "text/plain": [
       "(1.4142135623733338, 6.754596881819452e-13, 38)"
      ]
     },
     "execution_count": 13,
     "metadata": {},
     "output_type": "execute_result"
    }
   ],
   "source": [
    "xtil, fx, iter = bisseccao(x->x^2 - 2, 1, 2, atol=1e-12, rtol=1e-12)"
   ]
  },
  {
   "cell_type": "code",
   "execution_count": 14,
   "metadata": {},
   "outputs": [
    {
     "data": {
      "text/plain": [
       "1.6878493930850582e-13"
      ]
     },
     "execution_count": 14,
     "metadata": {},
     "output_type": "execute_result"
    }
   ],
   "source": [
    "abs(x-xtil)/x"
   ]
  },
  {
   "cell_type": "code",
   "execution_count": 15,
   "metadata": {},
   "outputs": [
    {
     "ename": "LoadError",
     "evalue": "\u001b[91mf(a) e f(b) devem ter sinais diferentes\u001b[39m",
     "output_type": "error",
     "traceback": [
      "\u001b[91mf(a) e f(b) devem ter sinais diferentes\u001b[39m",
      "",
      "Stacktrace:",
      " [1] \u001b[1m#bisseccao#1\u001b[22m\u001b[22m\u001b[1m(\u001b[22m\u001b[22m::Float64, ::Float64, ::Int64, ::Function, ::##6#7, ::Int64, ::Int64\u001b[1m)\u001b[22m\u001b[22m at \u001b[1m./In[7]:20\u001b[22m\u001b[22m",
      " [2] \u001b[1mbisseccao\u001b[22m\u001b[22m\u001b[1m(\u001b[22m\u001b[22m::Function, ::Int64, ::Int64\u001b[1m)\u001b[22m\u001b[22m at \u001b[1m./In[7]:13\u001b[22m\u001b[22m"
     ]
    }
   ],
   "source": [
    "xtil, fx, iter = bisseccao(x->x^2, 1, 3)"
   ]
  },
  {
   "cell_type": "code",
   "execution_count": 16,
   "metadata": {},
   "outputs": [
    {
     "data": {
      "text/plain": [
       "(0.5671432904091489, -1.7544854458151349e-12, 38)"
      ]
     },
     "execution_count": 16,
     "metadata": {},
     "output_type": "execute_result"
    }
   ],
   "source": [
    "xtil, fx, iter = bisseccao(x->x*exp(x) - 1.0, 0, 1, atol=1e-12, rtol=1e-12)"
   ]
  },
  {
   "cell_type": "markdown",
   "metadata": {},
   "source": [
    "### Exemplo da Tabela Price"
   ]
  },
  {
   "cell_type": "markdown",
   "metadata": {},
   "source": [
    "Exercício: Faça uma pequena função que recebe $p$, $V$ e $n$ e calcula $i$ correspondente da tabela price. Reveja a introdução do capítulo para pegar os significados das constantes.\n",
    "Para $V = 10000$ e $n = 10$, compare com os seguintes valores de $p$:\n",
    "- $p = 1100$;\n",
    "- $p = 1500$;\n",
    "- $p = 1000$;\n",
    "- $p = 990$.\n",
    "\n",
    "Compare sua solução com a [Calculadora do Cidadão do Banco Central](https://www3.bcb.gov.br/CALCIDADAO/publico/calcularFinanciamentoPrestacoesFixas.do)."
   ]
  },
  {
   "cell_type": "markdown",
   "metadata": {},
   "source": [
    "Encontre alguma promoção online de venda de carros e compare o juros do anúncio com o juros calculado pela sua calculadora. Note que o valor de entrada é descontado de $V$."
   ]
  },
  {
   "cell_type": "code",
   "execution_count": 17,
   "metadata": {},
   "outputs": [
    {
     "data": {
      "text/plain": [
       "calc_juros (generic function with 1 method)"
      ]
     },
     "execution_count": 17,
     "metadata": {},
     "output_type": "execute_result"
    }
   ],
   "source": [
    "# Implemente\n",
    "function calc_juros(p, V, n)\n",
    "\n",
    "end"
   ]
  },
  {
   "cell_type": "code",
   "execution_count": 18,
   "metadata": {},
   "outputs": [
    {
     "name": "stdout",
     "output_type": "stream",
     "text": [
      "i = nothing\n",
      "i = nothing\n",
      "i = nothing\n",
      "i = nothing\n"
     ]
    }
   ],
   "source": [
    "for p = [1100; 1500; 1000; 990]\n",
    "    i = calc_juros(p, 10000, 10)\n",
    "    println(\"i = $i\")\n",
    "end"
   ]
  },
  {
   "cell_type": "markdown",
   "metadata": {},
   "source": [
    "# Método de Newton"
   ]
  },
  {
   "cell_type": "markdown",
   "metadata": {},
   "source": [
    "Apesar do método da bissecção ser extremamente simples de se implementar, ele pode ser muito lento.\n",
    "Uma alternativa é utilizar o método de Newton.\n",
    "Esse método, com variações em diversas áreas, é um dos métodos mais famosos e importantes.\n",
    "Um professor costumava dizer:\n",
    "\n",
    "> *Se você criar alguma coisa e for tão bom quanto Newton, é porque você fez o Newton com alguma outra cara.*\n",
    "\n",
    "Algumas ressalvas se aplicam na frase acima, mas Newton realmente é considerado um dos melhores métodos para vários problemas. Vamos estudar quando usar o Newton é bom, e quando ele pode falhar."
   ]
  },
  {
   "cell_type": "markdown",
   "metadata": {},
   "source": [
    "## Métodos geradores de passos\n",
    "\n",
    "O método de Newton cai numa categoria de métodos chamada de \"geradores de passos\".\n",
    "Um método gerador de passos começa com uma aproximação inicial $x_0$ e define em cada iteração $k$ define um passo\n",
    "$d_k$ e calcula uma nova iteração fazendo $$x_k = x_{k-1} + d_k.$$"
   ]
  },
  {
   "cell_type": "markdown",
   "metadata": {},
   "source": [
    "Essa definição é bastante simples, mas é bastante importante numa consideração que não entraremos nesta disciplina:\n",
    "**paralelismo**. Se tivermos a possibilidade de realizar operações em paralelo e utilizamos um método gerador de passos, ficamos presos na paralelização da iteração $k$. Outros métodos, por exemplo do tipo dividir e conquistar, podem paralelizar cada parte separada às vezes."
   ]
  },
  {
   "cell_type": "markdown",
   "metadata": {},
   "source": [
    "### Motivação do Método de Newton\n",
    "\n",
    "O método de Newton tem duas motivações: *geométrica* e *teórica*.\n",
    "Ambas seguem da mesma ideia de aproximar a função $f$ por uma função afim em torno da iteração atual."
   ]
  },
  {
   "cell_type": "code",
   "execution_count": 19,
   "metadata": {},
   "outputs": [
    {
     "data": {
      "image/svg+xml": [
       "<?xml version=\"1.0\" encoding=\"utf-8\"?>\n",
       "<svg xmlns=\"http://www.w3.org/2000/svg\" xmlns:xlink=\"http://www.w3.org/1999/xlink\" width=\"600\" height=\"400\" viewBox=\"0 0 600 400\">\n",
       "<defs>\n",
       "  <clipPath id=\"clip8300\">\n",
       "    <rect x=\"0\" y=\"0\" width=\"600\" height=\"400\"/>\n",
       "  </clipPath>\n",
       "</defs>\n",
       "<polygon clip-path=\"url(#clip8300)\" points=\"\n",
       "0,400 600,400 600,0 0,0 \n",
       "  \" fill=\"#ffffff\" fill-opacity=\"1\"/>\n",
       "<defs>\n",
       "  <clipPath id=\"clip8301\">\n",
       "    <rect x=\"120\" y=\"0\" width=\"421\" height=\"400\"/>\n",
       "  </clipPath>\n",
       "</defs>\n",
       "<polygon clip-path=\"url(#clip8300)\" points=\"\n",
       "29.4661,375.869 580.315,375.869 580.315,11.811 29.4661,11.811 \n",
       "  \" fill=\"#ffffff\" fill-opacity=\"1\"/>\n",
       "<defs>\n",
       "  <clipPath id=\"clip8302\">\n",
       "    <rect x=\"29\" y=\"11\" width=\"552\" height=\"365\"/>\n",
       "  </clipPath>\n",
       "</defs>\n",
       "<polyline clip-path=\"url(#clip8302)\" style=\"stroke:#000000; stroke-width:0.5; stroke-opacity:0.1; fill:none\" points=\"\n",
       "  39.8645,375.869 39.8645,11.811 \n",
       "  \"/>\n",
       "<polyline clip-path=\"url(#clip8302)\" style=\"stroke:#000000; stroke-width:0.5; stroke-opacity:0.1; fill:none\" points=\"\n",
       "  217.07,375.869 217.07,11.811 \n",
       "  \"/>\n",
       "<polyline clip-path=\"url(#clip8302)\" style=\"stroke:#000000; stroke-width:0.5; stroke-opacity:0.1; fill:none\" points=\"\n",
       "  394.276,375.869 394.276,11.811 \n",
       "  \"/>\n",
       "<polyline clip-path=\"url(#clip8302)\" style=\"stroke:#000000; stroke-width:0.5; stroke-opacity:0.1; fill:none\" points=\"\n",
       "  571.481,375.869 571.481,11.811 \n",
       "  \"/>\n",
       "<polyline clip-path=\"url(#clip8302)\" style=\"stroke:#000000; stroke-width:0.5; stroke-opacity:0.1; fill:none\" points=\"\n",
       "  29.4661,375.869 580.315,375.869 \n",
       "  \"/>\n",
       "<polyline clip-path=\"url(#clip8302)\" style=\"stroke:#000000; stroke-width:0.5; stroke-opacity:0.1; fill:none\" points=\"\n",
       "  29.4661,323.86 580.315,323.86 \n",
       "  \"/>\n",
       "<polyline clip-path=\"url(#clip8302)\" style=\"stroke:#000000; stroke-width:0.5; stroke-opacity:0.1; fill:none\" points=\"\n",
       "  29.4661,271.852 580.315,271.852 \n",
       "  \"/>\n",
       "<polyline clip-path=\"url(#clip8302)\" style=\"stroke:#000000; stroke-width:0.5; stroke-opacity:0.1; fill:none\" points=\"\n",
       "  29.4661,219.844 580.315,219.844 \n",
       "  \"/>\n",
       "<polyline clip-path=\"url(#clip8302)\" style=\"stroke:#000000; stroke-width:0.5; stroke-opacity:0.1; fill:none\" points=\"\n",
       "  29.4661,167.836 580.315,167.836 \n",
       "  \"/>\n",
       "<polyline clip-path=\"url(#clip8302)\" style=\"stroke:#000000; stroke-width:0.5; stroke-opacity:0.1; fill:none\" points=\"\n",
       "  29.4661,115.827 580.315,115.827 \n",
       "  \"/>\n",
       "<polyline clip-path=\"url(#clip8302)\" style=\"stroke:#000000; stroke-width:0.5; stroke-opacity:0.1; fill:none\" points=\"\n",
       "  29.4661,63.8193 580.315,63.8193 \n",
       "  \"/>\n",
       "<polyline clip-path=\"url(#clip8302)\" style=\"stroke:#000000; stroke-width:0.5; stroke-opacity:0.1; fill:none\" points=\"\n",
       "  29.4661,11.811 580.315,11.811 \n",
       "  \"/>\n",
       "<polyline clip-path=\"url(#clip8300)\" style=\"stroke:#000000; stroke-width:1; stroke-opacity:1; fill:none\" points=\"\n",
       "  29.4661,375.869 580.315,375.869 \n",
       "  \"/>\n",
       "<polyline clip-path=\"url(#clip8300)\" style=\"stroke:#000000; stroke-width:1; stroke-opacity:1; fill:none\" points=\"\n",
       "  29.4661,375.869 29.4661,11.811 \n",
       "  \"/>\n",
       "<polyline clip-path=\"url(#clip8300)\" style=\"stroke:#000000; stroke-width:1; stroke-opacity:1; fill:none\" points=\"\n",
       "  39.8645,375.869 39.8645,370.408 \n",
       "  \"/>\n",
       "<polyline clip-path=\"url(#clip8300)\" style=\"stroke:#000000; stroke-width:1; stroke-opacity:1; fill:none\" points=\"\n",
       "  217.07,375.869 217.07,370.408 \n",
       "  \"/>\n",
       "<polyline clip-path=\"url(#clip8300)\" style=\"stroke:#000000; stroke-width:1; stroke-opacity:1; fill:none\" points=\"\n",
       "  394.276,375.869 394.276,370.408 \n",
       "  \"/>\n",
       "<polyline clip-path=\"url(#clip8300)\" style=\"stroke:#000000; stroke-width:1; stroke-opacity:1; fill:none\" points=\"\n",
       "  571.481,375.869 571.481,370.408 \n",
       "  \"/>\n",
       "<polyline clip-path=\"url(#clip8300)\" style=\"stroke:#000000; stroke-width:1; stroke-opacity:1; fill:none\" points=\"\n",
       "  29.4661,375.869 37.7289,375.869 \n",
       "  \"/>\n",
       "<polyline clip-path=\"url(#clip8300)\" style=\"stroke:#000000; stroke-width:1; stroke-opacity:1; fill:none\" points=\"\n",
       "  29.4661,323.86 37.7289,323.86 \n",
       "  \"/>\n",
       "<polyline clip-path=\"url(#clip8300)\" style=\"stroke:#000000; stroke-width:1; stroke-opacity:1; fill:none\" points=\"\n",
       "  29.4661,271.852 37.7289,271.852 \n",
       "  \"/>\n",
       "<polyline clip-path=\"url(#clip8300)\" style=\"stroke:#000000; stroke-width:1; stroke-opacity:1; fill:none\" points=\"\n",
       "  29.4661,219.844 37.7289,219.844 \n",
       "  \"/>\n",
       "<polyline clip-path=\"url(#clip8300)\" style=\"stroke:#000000; stroke-width:1; stroke-opacity:1; fill:none\" points=\"\n",
       "  29.4661,167.836 37.7289,167.836 \n",
       "  \"/>\n",
       "<polyline clip-path=\"url(#clip8300)\" style=\"stroke:#000000; stroke-width:1; stroke-opacity:1; fill:none\" points=\"\n",
       "  29.4661,115.827 37.7289,115.827 \n",
       "  \"/>\n",
       "<polyline clip-path=\"url(#clip8300)\" style=\"stroke:#000000; stroke-width:1; stroke-opacity:1; fill:none\" points=\"\n",
       "  29.4661,63.8193 37.7289,63.8193 \n",
       "  \"/>\n",
       "<polyline clip-path=\"url(#clip8300)\" style=\"stroke:#000000; stroke-width:1; stroke-opacity:1; fill:none\" points=\"\n",
       "  29.4661,11.811 37.7289,11.811 \n",
       "  \"/>\n",
       "<g clip-path=\"url(#clip8300)\">\n",
       "<text style=\"fill:#000000; fill-opacity:1; font-family:Arial,Helvetica Neue,Helvetica,sans-serif; font-size:12; text-anchor:middle;\" transform=\"rotate(0, 39.8645, 389.669)\" x=\"39.8645\" y=\"389.669\">0</text>\n",
       "</g>\n",
       "<g clip-path=\"url(#clip8300)\">\n",
       "<text style=\"fill:#000000; fill-opacity:1; font-family:Arial,Helvetica Neue,Helvetica,sans-serif; font-size:12; text-anchor:middle;\" transform=\"rotate(0, 217.07, 389.669)\" x=\"217.07\" y=\"389.669\">1</text>\n",
       "</g>\n",
       "<g clip-path=\"url(#clip8300)\">\n",
       "<text style=\"fill:#000000; fill-opacity:1; font-family:Arial,Helvetica Neue,Helvetica,sans-serif; font-size:12; text-anchor:middle;\" transform=\"rotate(0, 394.276, 389.669)\" x=\"394.276\" y=\"389.669\">2</text>\n",
       "</g>\n",
       "<g clip-path=\"url(#clip8300)\">\n",
       "<text style=\"fill:#000000; fill-opacity:1; font-family:Arial,Helvetica Neue,Helvetica,sans-serif; font-size:12; text-anchor:middle;\" transform=\"rotate(0, 571.481, 389.669)\" x=\"571.481\" y=\"389.669\">3</text>\n",
       "</g>\n",
       "<g clip-path=\"url(#clip8300)\">\n",
       "<text style=\"fill:#000000; fill-opacity:1; font-family:Arial,Helvetica Neue,Helvetica,sans-serif; font-size:12; text-anchor:end;\" transform=\"rotate(0, 23.4661, 380.369)\" x=\"23.4661\" y=\"380.369\">-2</text>\n",
       "</g>\n",
       "<g clip-path=\"url(#clip8300)\">\n",
       "<text style=\"fill:#000000; fill-opacity:1; font-family:Arial,Helvetica Neue,Helvetica,sans-serif; font-size:12; text-anchor:end;\" transform=\"rotate(0, 23.4661, 328.36)\" x=\"23.4661\" y=\"328.36\">-1</text>\n",
       "</g>\n",
       "<g clip-path=\"url(#clip8300)\">\n",
       "<text style=\"fill:#000000; fill-opacity:1; font-family:Arial,Helvetica Neue,Helvetica,sans-serif; font-size:12; text-anchor:end;\" transform=\"rotate(0, 23.4661, 276.352)\" x=\"23.4661\" y=\"276.352\">0</text>\n",
       "</g>\n",
       "<g clip-path=\"url(#clip8300)\">\n",
       "<text style=\"fill:#000000; fill-opacity:1; font-family:Arial,Helvetica Neue,Helvetica,sans-serif; font-size:12; text-anchor:end;\" transform=\"rotate(0, 23.4661, 224.344)\" x=\"23.4661\" y=\"224.344\">1</text>\n",
       "</g>\n",
       "<g clip-path=\"url(#clip8300)\">\n",
       "<text style=\"fill:#000000; fill-opacity:1; font-family:Arial,Helvetica Neue,Helvetica,sans-serif; font-size:12; text-anchor:end;\" transform=\"rotate(0, 23.4661, 172.336)\" x=\"23.4661\" y=\"172.336\">2</text>\n",
       "</g>\n",
       "<g clip-path=\"url(#clip8300)\">\n",
       "<text style=\"fill:#000000; fill-opacity:1; font-family:Arial,Helvetica Neue,Helvetica,sans-serif; font-size:12; text-anchor:end;\" transform=\"rotate(0, 23.4661, 120.327)\" x=\"23.4661\" y=\"120.327\">3</text>\n",
       "</g>\n",
       "<g clip-path=\"url(#clip8300)\">\n",
       "<text style=\"fill:#000000; fill-opacity:1; font-family:Arial,Helvetica Neue,Helvetica,sans-serif; font-size:12; text-anchor:end;\" transform=\"rotate(0, 23.4661, 68.3193)\" x=\"23.4661\" y=\"68.3193\">4</text>\n",
       "</g>\n",
       "<g clip-path=\"url(#clip8300)\">\n",
       "<text style=\"fill:#000000; fill-opacity:1; font-family:Arial,Helvetica Neue,Helvetica,sans-serif; font-size:12; text-anchor:end;\" transform=\"rotate(0, 23.4661, 16.311)\" x=\"23.4661\" y=\"16.311\">5</text>\n",
       "</g>\n",
       "<polyline clip-path=\"url(#clip8302)\" style=\"stroke:#0000ff; stroke-width:1; stroke-opacity:1; fill:none\" points=\"\n",
       "  45.0562,375.824 93.0607,371.182 121.909,364.72 146.301,357.106 172.796,346.602 197.223,334.858 223.411,320.072 253.752,300.1 280.716,279.792 304.361,260.002 \n",
       "  330.14,236.316 356.073,210.267 384.744,178.875 412.025,146.477 440.39,110.177 464.267,77.5545 493.419,35.1654 520.822,-7.24839 564.725,-80.3834 \n",
       "  \"/>\n",
       "<polyline clip-path=\"url(#clip8302)\" style=\"stroke:#000000; stroke-width:1; stroke-opacity:1; fill:none\" points=\"\n",
       "  45.0562,271.852 93.0607,271.852 121.909,271.852 146.301,271.852 172.796,271.852 197.223,271.852 223.411,271.852 253.752,271.852 280.716,271.852 304.361,271.852 \n",
       "  330.14,271.852 356.073,271.852 384.744,271.852 412.025,271.852 440.39,271.852 464.267,271.852 493.419,271.852 520.822,271.852 564.725,271.852 \n",
       "  \"/>\n",
       "<circle clip-path=\"url(#clip8302)\" style=\"fill:#000000; stroke:none; fill-opacity:1\" cx=\"482.878\" cy=\"50.8172\" r=\"4\"/>\n",
       "<circle clip-path=\"url(#clip8302)\" style=\"fill:#ff0000; stroke:none; fill-opacity:1\" cx=\"482.878\" cy=\"50.8172\" r=\"3\"/>\n",
       "<polyline clip-path=\"url(#clip8302)\" style=\"stroke:#ff0000; stroke-width:1; stroke-opacity:1; fill:none\" points=\"\n",
       "  45.0562,693.302 93.0607,622.857 121.909,580.523 146.301,544.73 172.796,505.849 197.223,470.004 223.411,431.574 253.752,387.049 280.716,347.481 304.361,312.783 \n",
       "  330.14,274.954 356.073,236.899 384.744,194.825 412.025,154.792 440.39,113.167 464.267,78.1282 493.419,35.3494 520.822,-4.86386 564.725,-69.2887 \n",
       "  \"/>\n",
       "<polygon clip-path=\"url(#clip8300)\" points=\"\n",
       "47.4661,93.171 120.847,93.171 120.847,32.691 47.4661,32.691 \n",
       "  \" fill=\"#ffffff\" fill-opacity=\"1\"/>\n",
       "<polyline clip-path=\"url(#clip8300)\" style=\"stroke:#000000; stroke-width:1; stroke-opacity:1; fill:none\" points=\"\n",
       "  47.4661,93.171 120.847,93.171 120.847,32.691 47.4661,32.691 47.4661,93.171 \n",
       "  \"/>\n",
       "<polyline clip-path=\"url(#clip8300)\" style=\"stroke:#0000ff; stroke-width:1; stroke-opacity:1; fill:none\" points=\"\n",
       "  53.4661,47.811 89.4661,47.811 \n",
       "  \"/>\n",
       "<g clip-path=\"url(#clip8300)\">\n",
       "<text style=\"fill:#000000; fill-opacity:1; font-family:Arial,Helvetica Neue,Helvetica,sans-serif; font-size:12; text-anchor:start;\" transform=\"rotate(0, 95.4661, 52.311)\" x=\"95.4661\" y=\"52.311\">f</text>\n",
       "</g>\n",
       "<circle clip-path=\"url(#clip8300)\" style=\"fill:#000000; stroke:none; fill-opacity:1\" cx=\"74.4661\" cy=\"62.931\" r=\"6\"/>\n",
       "<circle clip-path=\"url(#clip8300)\" style=\"fill:#ff0000; stroke:none; fill-opacity:1\" cx=\"74.4661\" cy=\"62.931\" r=\"5\"/>\n",
       "<g clip-path=\"url(#clip8300)\">\n",
       "<text style=\"fill:#000000; fill-opacity:1; font-family:Arial,Helvetica Neue,Helvetica,sans-serif; font-size:12; text-anchor:start;\" transform=\"rotate(0, 95.4661, 67.431)\" x=\"95.4661\" y=\"67.431\">x0</text>\n",
       "</g>\n",
       "<polyline clip-path=\"url(#clip8300)\" style=\"stroke:#ff0000; stroke-width:1; stroke-opacity:1; fill:none\" points=\"\n",
       "  53.4661,78.051 89.4661,78.051 \n",
       "  \"/>\n",
       "<g clip-path=\"url(#clip8300)\">\n",
       "<text style=\"fill:#000000; fill-opacity:1; font-family:Arial,Helvetica Neue,Helvetica,sans-serif; font-size:12; text-anchor:start;\" transform=\"rotate(0, 95.4661, 82.551)\" x=\"95.4661\" y=\"82.551\">L0</text>\n",
       "</g>\n",
       "</svg>\n"
      ]
     },
     "execution_count": 19,
     "metadata": {},
     "output_type": "execute_result"
    }
   ],
   "source": [
    "# Motivação geométrica\n",
    "using Plots\n",
    "gr(size=(600,400))\n",
    "f(x) = x^2 - 2\n",
    "plot(f, 0, 3, c=:blue, lab=\"f\", leg=:topleft)\n",
    "plot!(x->0, 0, 3, c=:black, lab=\"\")\n",
    "a = 2.5\n",
    "scatter!([a], [f(a)], c=:red, lab=\"x0\")\n",
    "L(x) = f(a) + 2 * a * (x - a)\n",
    "plot!(L, 0, 3, c=:red, lab=\"L0\")\n",
    "ylims!(-2, 5)"
   ]
  },
  {
   "cell_type": "code",
   "execution_count": 20,
   "metadata": {},
   "outputs": [
    {
     "data": {
      "image/svg+xml": [
       "<?xml version=\"1.0\" encoding=\"utf-8\"?>\n",
       "<svg xmlns=\"http://www.w3.org/2000/svg\" xmlns:xlink=\"http://www.w3.org/1999/xlink\" width=\"600\" height=\"400\" viewBox=\"0 0 600 400\">\n",
       "<defs>\n",
       "  <clipPath id=\"clip8500\">\n",
       "    <rect x=\"0\" y=\"0\" width=\"600\" height=\"400\"/>\n",
       "  </clipPath>\n",
       "</defs>\n",
       "<polygon clip-path=\"url(#clip8500)\" points=\"\n",
       "0,400 600,400 600,0 0,0 \n",
       "  \" fill=\"#ffffff\" fill-opacity=\"1\"/>\n",
       "<defs>\n",
       "  <clipPath id=\"clip8501\">\n",
       "    <rect x=\"120\" y=\"0\" width=\"421\" height=\"400\"/>\n",
       "  </clipPath>\n",
       "</defs>\n",
       "<polygon clip-path=\"url(#clip8500)\" points=\"\n",
       "29.4661,375.869 580.315,375.869 580.315,11.811 29.4661,11.811 \n",
       "  \" fill=\"#ffffff\" fill-opacity=\"1\"/>\n",
       "<defs>\n",
       "  <clipPath id=\"clip8502\">\n",
       "    <rect x=\"29\" y=\"11\" width=\"552\" height=\"365\"/>\n",
       "  </clipPath>\n",
       "</defs>\n",
       "<polyline clip-path=\"url(#clip8502)\" style=\"stroke:#000000; stroke-width:0.5; stroke-opacity:0.1; fill:none\" points=\"\n",
       "  39.8645,375.869 39.8645,11.811 \n",
       "  \"/>\n",
       "<polyline clip-path=\"url(#clip8502)\" style=\"stroke:#000000; stroke-width:0.5; stroke-opacity:0.1; fill:none\" points=\"\n",
       "  217.07,375.869 217.07,11.811 \n",
       "  \"/>\n",
       "<polyline clip-path=\"url(#clip8502)\" style=\"stroke:#000000; stroke-width:0.5; stroke-opacity:0.1; fill:none\" points=\"\n",
       "  394.276,375.869 394.276,11.811 \n",
       "  \"/>\n",
       "<polyline clip-path=\"url(#clip8502)\" style=\"stroke:#000000; stroke-width:0.5; stroke-opacity:0.1; fill:none\" points=\"\n",
       "  571.481,375.869 571.481,11.811 \n",
       "  \"/>\n",
       "<polyline clip-path=\"url(#clip8502)\" style=\"stroke:#000000; stroke-width:0.5; stroke-opacity:0.1; fill:none\" points=\"\n",
       "  29.4661,375.869 580.315,375.869 \n",
       "  \"/>\n",
       "<polyline clip-path=\"url(#clip8502)\" style=\"stroke:#000000; stroke-width:0.5; stroke-opacity:0.1; fill:none\" points=\"\n",
       "  29.4661,323.86 580.315,323.86 \n",
       "  \"/>\n",
       "<polyline clip-path=\"url(#clip8502)\" style=\"stroke:#000000; stroke-width:0.5; stroke-opacity:0.1; fill:none\" points=\"\n",
       "  29.4661,271.852 580.315,271.852 \n",
       "  \"/>\n",
       "<polyline clip-path=\"url(#clip8502)\" style=\"stroke:#000000; stroke-width:0.5; stroke-opacity:0.1; fill:none\" points=\"\n",
       "  29.4661,219.844 580.315,219.844 \n",
       "  \"/>\n",
       "<polyline clip-path=\"url(#clip8502)\" style=\"stroke:#000000; stroke-width:0.5; stroke-opacity:0.1; fill:none\" points=\"\n",
       "  29.4661,167.836 580.315,167.836 \n",
       "  \"/>\n",
       "<polyline clip-path=\"url(#clip8502)\" style=\"stroke:#000000; stroke-width:0.5; stroke-opacity:0.1; fill:none\" points=\"\n",
       "  29.4661,115.827 580.315,115.827 \n",
       "  \"/>\n",
       "<polyline clip-path=\"url(#clip8502)\" style=\"stroke:#000000; stroke-width:0.5; stroke-opacity:0.1; fill:none\" points=\"\n",
       "  29.4661,63.8193 580.315,63.8193 \n",
       "  \"/>\n",
       "<polyline clip-path=\"url(#clip8502)\" style=\"stroke:#000000; stroke-width:0.5; stroke-opacity:0.1; fill:none\" points=\"\n",
       "  29.4661,11.811 580.315,11.811 \n",
       "  \"/>\n",
       "<polyline clip-path=\"url(#clip8500)\" style=\"stroke:#000000; stroke-width:1; stroke-opacity:1; fill:none\" points=\"\n",
       "  29.4661,375.869 580.315,375.869 \n",
       "  \"/>\n",
       "<polyline clip-path=\"url(#clip8500)\" style=\"stroke:#000000; stroke-width:1; stroke-opacity:1; fill:none\" points=\"\n",
       "  29.4661,375.869 29.4661,11.811 \n",
       "  \"/>\n",
       "<polyline clip-path=\"url(#clip8500)\" style=\"stroke:#000000; stroke-width:1; stroke-opacity:1; fill:none\" points=\"\n",
       "  39.8645,375.869 39.8645,370.408 \n",
       "  \"/>\n",
       "<polyline clip-path=\"url(#clip8500)\" style=\"stroke:#000000; stroke-width:1; stroke-opacity:1; fill:none\" points=\"\n",
       "  217.07,375.869 217.07,370.408 \n",
       "  \"/>\n",
       "<polyline clip-path=\"url(#clip8500)\" style=\"stroke:#000000; stroke-width:1; stroke-opacity:1; fill:none\" points=\"\n",
       "  394.276,375.869 394.276,370.408 \n",
       "  \"/>\n",
       "<polyline clip-path=\"url(#clip8500)\" style=\"stroke:#000000; stroke-width:1; stroke-opacity:1; fill:none\" points=\"\n",
       "  571.481,375.869 571.481,370.408 \n",
       "  \"/>\n",
       "<polyline clip-path=\"url(#clip8500)\" style=\"stroke:#000000; stroke-width:1; stroke-opacity:1; fill:none\" points=\"\n",
       "  29.4661,375.869 37.7289,375.869 \n",
       "  \"/>\n",
       "<polyline clip-path=\"url(#clip8500)\" style=\"stroke:#000000; stroke-width:1; stroke-opacity:1; fill:none\" points=\"\n",
       "  29.4661,323.86 37.7289,323.86 \n",
       "  \"/>\n",
       "<polyline clip-path=\"url(#clip8500)\" style=\"stroke:#000000; stroke-width:1; stroke-opacity:1; fill:none\" points=\"\n",
       "  29.4661,271.852 37.7289,271.852 \n",
       "  \"/>\n",
       "<polyline clip-path=\"url(#clip8500)\" style=\"stroke:#000000; stroke-width:1; stroke-opacity:1; fill:none\" points=\"\n",
       "  29.4661,219.844 37.7289,219.844 \n",
       "  \"/>\n",
       "<polyline clip-path=\"url(#clip8500)\" style=\"stroke:#000000; stroke-width:1; stroke-opacity:1; fill:none\" points=\"\n",
       "  29.4661,167.836 37.7289,167.836 \n",
       "  \"/>\n",
       "<polyline clip-path=\"url(#clip8500)\" style=\"stroke:#000000; stroke-width:1; stroke-opacity:1; fill:none\" points=\"\n",
       "  29.4661,115.827 37.7289,115.827 \n",
       "  \"/>\n",
       "<polyline clip-path=\"url(#clip8500)\" style=\"stroke:#000000; stroke-width:1; stroke-opacity:1; fill:none\" points=\"\n",
       "  29.4661,63.8193 37.7289,63.8193 \n",
       "  \"/>\n",
       "<polyline clip-path=\"url(#clip8500)\" style=\"stroke:#000000; stroke-width:1; stroke-opacity:1; fill:none\" points=\"\n",
       "  29.4661,11.811 37.7289,11.811 \n",
       "  \"/>\n",
       "<g clip-path=\"url(#clip8500)\">\n",
       "<text style=\"fill:#000000; fill-opacity:1; font-family:Arial,Helvetica Neue,Helvetica,sans-serif; font-size:12; text-anchor:middle;\" transform=\"rotate(0, 39.8645, 389.669)\" x=\"39.8645\" y=\"389.669\">0</text>\n",
       "</g>\n",
       "<g clip-path=\"url(#clip8500)\">\n",
       "<text style=\"fill:#000000; fill-opacity:1; font-family:Arial,Helvetica Neue,Helvetica,sans-serif; font-size:12; text-anchor:middle;\" transform=\"rotate(0, 217.07, 389.669)\" x=\"217.07\" y=\"389.669\">1</text>\n",
       "</g>\n",
       "<g clip-path=\"url(#clip8500)\">\n",
       "<text style=\"fill:#000000; fill-opacity:1; font-family:Arial,Helvetica Neue,Helvetica,sans-serif; font-size:12; text-anchor:middle;\" transform=\"rotate(0, 394.276, 389.669)\" x=\"394.276\" y=\"389.669\">2</text>\n",
       "</g>\n",
       "<g clip-path=\"url(#clip8500)\">\n",
       "<text style=\"fill:#000000; fill-opacity:1; font-family:Arial,Helvetica Neue,Helvetica,sans-serif; font-size:12; text-anchor:middle;\" transform=\"rotate(0, 571.481, 389.669)\" x=\"571.481\" y=\"389.669\">3</text>\n",
       "</g>\n",
       "<g clip-path=\"url(#clip8500)\">\n",
       "<text style=\"fill:#000000; fill-opacity:1; font-family:Arial,Helvetica Neue,Helvetica,sans-serif; font-size:12; text-anchor:end;\" transform=\"rotate(0, 23.4661, 380.369)\" x=\"23.4661\" y=\"380.369\">-2</text>\n",
       "</g>\n",
       "<g clip-path=\"url(#clip8500)\">\n",
       "<text style=\"fill:#000000; fill-opacity:1; font-family:Arial,Helvetica Neue,Helvetica,sans-serif; font-size:12; text-anchor:end;\" transform=\"rotate(0, 23.4661, 328.36)\" x=\"23.4661\" y=\"328.36\">-1</text>\n",
       "</g>\n",
       "<g clip-path=\"url(#clip8500)\">\n",
       "<text style=\"fill:#000000; fill-opacity:1; font-family:Arial,Helvetica Neue,Helvetica,sans-serif; font-size:12; text-anchor:end;\" transform=\"rotate(0, 23.4661, 276.352)\" x=\"23.4661\" y=\"276.352\">0</text>\n",
       "</g>\n",
       "<g clip-path=\"url(#clip8500)\">\n",
       "<text style=\"fill:#000000; fill-opacity:1; font-family:Arial,Helvetica Neue,Helvetica,sans-serif; font-size:12; text-anchor:end;\" transform=\"rotate(0, 23.4661, 224.344)\" x=\"23.4661\" y=\"224.344\">1</text>\n",
       "</g>\n",
       "<g clip-path=\"url(#clip8500)\">\n",
       "<text style=\"fill:#000000; fill-opacity:1; font-family:Arial,Helvetica Neue,Helvetica,sans-serif; font-size:12; text-anchor:end;\" transform=\"rotate(0, 23.4661, 172.336)\" x=\"23.4661\" y=\"172.336\">2</text>\n",
       "</g>\n",
       "<g clip-path=\"url(#clip8500)\">\n",
       "<text style=\"fill:#000000; fill-opacity:1; font-family:Arial,Helvetica Neue,Helvetica,sans-serif; font-size:12; text-anchor:end;\" transform=\"rotate(0, 23.4661, 120.327)\" x=\"23.4661\" y=\"120.327\">3</text>\n",
       "</g>\n",
       "<g clip-path=\"url(#clip8500)\">\n",
       "<text style=\"fill:#000000; fill-opacity:1; font-family:Arial,Helvetica Neue,Helvetica,sans-serif; font-size:12; text-anchor:end;\" transform=\"rotate(0, 23.4661, 68.3193)\" x=\"23.4661\" y=\"68.3193\">4</text>\n",
       "</g>\n",
       "<g clip-path=\"url(#clip8500)\">\n",
       "<text style=\"fill:#000000; fill-opacity:1; font-family:Arial,Helvetica Neue,Helvetica,sans-serif; font-size:12; text-anchor:end;\" transform=\"rotate(0, 23.4661, 16.311)\" x=\"23.4661\" y=\"16.311\">5</text>\n",
       "</g>\n",
       "<polyline clip-path=\"url(#clip8502)\" style=\"stroke:#0000ff; stroke-width:1; stroke-opacity:1; fill:none\" points=\"\n",
       "  45.0562,375.824 93.0607,371.182 121.909,364.72 146.301,357.106 172.796,346.602 197.223,334.858 223.411,320.072 253.752,300.1 280.716,279.792 304.361,260.002 \n",
       "  330.14,236.316 356.073,210.267 384.744,178.875 412.025,146.477 440.39,110.177 464.267,77.5545 493.419,35.1654 520.822,-7.24839 564.725,-80.3834 \n",
       "  \"/>\n",
       "<polyline clip-path=\"url(#clip8502)\" style=\"stroke:#000000; stroke-width:1; stroke-opacity:1; fill:none\" points=\"\n",
       "  45.0562,271.852 93.0607,271.852 121.909,271.852 146.301,271.852 172.796,271.852 197.223,271.852 223.411,271.852 253.752,271.852 280.716,271.852 304.361,271.852 \n",
       "  330.14,271.852 356.073,271.852 384.744,271.852 412.025,271.852 440.39,271.852 464.267,271.852 493.419,271.852 520.822,271.852 564.725,271.852 \n",
       "  \"/>\n",
       "<circle clip-path=\"url(#clip8502)\" style=\"fill:#000000; stroke:none; fill-opacity:1\" cx=\"482.878\" cy=\"50.8172\" r=\"4\"/>\n",
       "<circle clip-path=\"url(#clip8502)\" style=\"fill:#0000ff; stroke:none; fill-opacity:1\" cx=\"482.878\" cy=\"50.8172\" r=\"3\"/>\n",
       "<polyline clip-path=\"url(#clip8502)\" style=\"stroke:#ff0000; stroke-width:1; stroke-opacity:1; fill:none\" stroke-dasharray=\"8, 5\" points=\"\n",
       "  332.254,271.852 332.254,234.276 \n",
       "  \"/>\n",
       "<circle clip-path=\"url(#clip8502)\" style=\"fill:#000000; stroke:none; fill-opacity:1\" cx=\"332.254\" cy=\"234.276\" r=\"4\"/>\n",
       "<circle clip-path=\"url(#clip8502)\" style=\"fill:#ff0000; stroke:none; fill-opacity:1\" cx=\"332.254\" cy=\"234.276\" r=\"3\"/>\n",
       "<polyline clip-path=\"url(#clip8502)\" style=\"stroke:#ff0000; stroke-width:1; stroke-opacity:1; fill:none\" points=\"\n",
       "  45.0562,512.433 93.0607,465.94 121.909,437.999 146.301,414.376 172.796,388.714 197.223,365.056 223.411,339.693 253.752,310.306 280.716,284.191 304.361,261.291 \n",
       "  330.14,236.323 356.073,211.207 384.744,183.438 412.025,157.017 440.39,129.544 464.267,106.418 493.419,78.1844 520.822,51.6437 564.725,9.12326 \n",
       "  \"/>\n",
       "<polygon clip-path=\"url(#clip8500)\" points=\"\n",
       "47.4661,108.291 120.847,108.291 120.847,32.691 47.4661,32.691 \n",
       "  \" fill=\"#ffffff\" fill-opacity=\"1\"/>\n",
       "<polyline clip-path=\"url(#clip8500)\" style=\"stroke:#000000; stroke-width:1; stroke-opacity:1; fill:none\" points=\"\n",
       "  47.4661,108.291 120.847,108.291 120.847,32.691 47.4661,32.691 47.4661,108.291 \n",
       "  \"/>\n",
       "<polyline clip-path=\"url(#clip8500)\" style=\"stroke:#0000ff; stroke-width:1; stroke-opacity:1; fill:none\" points=\"\n",
       "  53.4661,47.811 89.4661,47.811 \n",
       "  \"/>\n",
       "<g clip-path=\"url(#clip8500)\">\n",
       "<text style=\"fill:#000000; fill-opacity:1; font-family:Arial,Helvetica Neue,Helvetica,sans-serif; font-size:12; text-anchor:start;\" transform=\"rotate(0, 95.4661, 52.311)\" x=\"95.4661\" y=\"52.311\">f</text>\n",
       "</g>\n",
       "<circle clip-path=\"url(#clip8500)\" style=\"fill:#000000; stroke:none; fill-opacity:1\" cx=\"74.4661\" cy=\"62.931\" r=\"6\"/>\n",
       "<circle clip-path=\"url(#clip8500)\" style=\"fill:#0000ff; stroke:none; fill-opacity:1\" cx=\"74.4661\" cy=\"62.931\" r=\"5\"/>\n",
       "<g clip-path=\"url(#clip8500)\">\n",
       "<text style=\"fill:#000000; fill-opacity:1; font-family:Arial,Helvetica Neue,Helvetica,sans-serif; font-size:12; text-anchor:start;\" transform=\"rotate(0, 95.4661, 67.431)\" x=\"95.4661\" y=\"67.431\">x0</text>\n",
       "</g>\n",
       "<circle clip-path=\"url(#clip8500)\" style=\"fill:#000000; stroke:none; fill-opacity:1\" cx=\"74.4661\" cy=\"78.051\" r=\"6\"/>\n",
       "<circle clip-path=\"url(#clip8500)\" style=\"fill:#ff0000; stroke:none; fill-opacity:1\" cx=\"74.4661\" cy=\"78.051\" r=\"5\"/>\n",
       "<g clip-path=\"url(#clip8500)\">\n",
       "<text style=\"fill:#000000; fill-opacity:1; font-family:Arial,Helvetica Neue,Helvetica,sans-serif; font-size:12; text-anchor:start;\" transform=\"rotate(0, 95.4661, 82.551)\" x=\"95.4661\" y=\"82.551\">x1</text>\n",
       "</g>\n",
       "<polyline clip-path=\"url(#clip8500)\" style=\"stroke:#ff0000; stroke-width:1; stroke-opacity:1; fill:none\" points=\"\n",
       "  53.4661,93.171 89.4661,93.171 \n",
       "  \"/>\n",
       "<g clip-path=\"url(#clip8500)\">\n",
       "<text style=\"fill:#000000; fill-opacity:1; font-family:Arial,Helvetica Neue,Helvetica,sans-serif; font-size:12; text-anchor:start;\" transform=\"rotate(0, 95.4661, 97.671)\" x=\"95.4661\" y=\"97.671\">L1</text>\n",
       "</g>\n",
       "</svg>\n"
      ]
     },
     "execution_count": 20,
     "metadata": {},
     "output_type": "execute_result"
    }
   ],
   "source": [
    "# Motivação geométrica\n",
    "f(x) = x^2 - 2\n",
    "plot(f, 0, 3, c=:blue, lab=\"f\", leg=:topleft)\n",
    "plot!(x->0, 0, 3, c=:black, lab=\"\")\n",
    "a = 2.5\n",
    "scatter!([a], [f(a)], c=:blue, lab=\"x0\")\n",
    "a = a - f(a) / 2a\n",
    "plot!([a; a], [0; f(a)], l=:dash, c=:red, lab=\"\")\n",
    "scatter!([a], [f(a)], c=:red, lab=\"x1\")\n",
    "L(x) = f(a) + 2 * a * (x - a)\n",
    "plot!(L, 0, 3, c=:red, lab=\"L1\")\n",
    "ylims!(-2, 5)"
   ]
  },
  {
   "cell_type": "markdown",
   "metadata": {},
   "source": [
    "#### A motivação é bastante simples: achar o zero de uma função afim é muito mais simples que de uma função não afim.\n",
    "Então, vamos aproximar a função $f$ por uma função afim na iteração $k$ em torno do ponto $x_{k-1}$, e chamar seu zero de $x_k$. Repetimos o processo até que o critério de convergência seja satisfeito.\n",
    "\n",
    "Teoricamente, estamos considerando a seguinte aproximação de Taylor:\n",
    "$$ f(x_{k-1} + d) = f(x_{k-1}) + df'(x_{k-1}) + \\frac{d^2}{2}f''(\\xi), $$\n",
    "onde $d$ é o **passo** que estamos tomando, e $\\xi$ é um valor entre $x_{k-1}$ e $x_{k-1}+d$.\n",
    "A aproximação de primeira ordem de $f$ é\n",
    "$$ L(d) = f(x_{k-1}) + df'(x_{k-1}), $$\n",
    "e a se $d$ ou $f''(\\xi)$ forem muito próximos de zero, então o valor $f(x_{k-1}+d) \\approx L(d)$.\n",
    "Como queremos $f(x_{k-1}+d_k) = 0$, definimos $d_k$ a partir da solução de $L(d_k) = 0$.\n",
    "Em outras palavras,\n",
    "$$ f(x_{k-1}) + d_kf'(x_{k-1}) = 0. $$\n",
    "Desse modo, se $f'(x_{k-1} \\neq 0$, temos\n",
    "$$d_k = -\\dfrac{f(x_{k-1})}{f'(x_{k-1})}.$$"
   ]
  },
  {
   "cell_type": "markdown",
   "metadata": {},
   "source": [
    "Isso nos permite definir a sequência gerada pelo método de Newton por\n",
    "$$ x_k = x_{k-1} + d_k = x_{k-1} - \\frac{f(x_{k-1})}{f'(x_{k-1})}. $$"
   ]
  },
  {
   "cell_type": "markdown",
   "metadata": {},
   "source": [
    "Em particular, muitas vezes é mais claro escrever para $k+1$:\n",
    "$$ x_{k+1} = x_k - \\frac{f(x_k)}{f'(x_k)}. $$"
   ]
  },
  {
   "cell_type": "markdown",
   "metadata": {},
   "source": [
    "Note que essa sequência só está bem definida se $f'(x_k) \\neq 0$ para todo $k$.\n",
    "Além disso, não é trivial ver se essa sequência converge, diferente do que acontece com o método da bissecção.\n",
    "Por sorte, temos um teorema declarando esse resultado."
   ]
  },
  {
   "cell_type": "markdown",
   "metadata": {},
   "source": [
    "**Teorema (da convergência do método de Newton):** Se $f$ é continuamente diferenciável no intervalo $[a,b]$ e\n",
    "existe $c \\in (a,b)$ tal que $f(c) = 0$ e $f'(c) \\neq 0$, então existe $\\delta > 0$ tal que se $x_0 \\in [c-\\delta,c+\\delta]$, então\n",
    "o método de Newton começando por $x_0$ gera uma sequência bem definida e convergente para $c$.\n",
    "Se, além disso, $f''$ for contínua numa vizinhança de $c$, então a sequência converge quadraticamente."
   ]
  },
  {
   "cell_type": "markdown",
   "metadata": {},
   "source": [
    "*Dem.:* A demonstração foge do escopo da disciplina. Existem vários livros que podem ser consultados para verificar esta demonstração. Em particular, Ruggiero e Lopes ou Burden e Faires contém essa demonstração.\n",
    "$\\blacksquare$."
   ]
  },
  {
   "cell_type": "markdown",
   "metadata": {},
   "source": [
    "É importante perceber a diferença fundamental entre este teorema e o teorema de convergência do método de bissecção. No teorema da bissecção, uma condição bastante simples de mudança de sinal precisa ser satisfeita.\n",
    "Aqui, o teorema diz apenas que existe uma vizinhança da solução onde podemos começar nosso método.\n",
    "Não é dito nada sobre o tamanho desse intervalo, e além disso, precisariamos saber do valor de $c$ para saber onde centrar esse intervalo.\n",
    "Isso muda fortemente nosso uso do método. Já que não é possível saber se estamos satisfazendo as condições de convergência, teremos sempre a preocupação de que podemos falhar a qualquer momento.\n",
    "Logo, é imperativo que coloquemos condições de parada de exaustão para a finitude do método."
   ]
  },
  {
   "cell_type": "markdown",
   "metadata": {},
   "source": [
    "A parte sobre convergência quadrática será explicada abaixo."
   ]
  },
  {
   "cell_type": "markdown",
   "metadata": {},
   "source": [
    "As condições mais importantes aqui são:\n",
    "- Condição de sucesso ($\\left|f(x_k)\\right| \\leq \\epsilon_a + \\epsilon_r\\left|f(x_0)\\right|$.);\n",
    "- Exaustão de algum tipo (avaliações de função, iterações, tempo);\n",
    "- Derivada nula (ou muito próxima de zero)."
   ]
  },
  {
   "cell_type": "code",
   "execution_count": 21,
   "metadata": {},
   "outputs": [
    {
     "data": {
      "text/plain": [
       "newton"
      ]
     },
     "execution_count": 21,
     "metadata": {},
     "output_type": "execute_result"
    }
   ],
   "source": [
    "\"\"\"`newton(f, fder, x; atol=1e-6, rtol=1e-6, maxiter=10_000, fdertol=1e-12)`\n",
    "\n",
    "Calcula um zero para a função `f` utilizando o método de Newton.\n",
    "Inicia o método a partir do ponto `x` e usa a função `fder ` como\n",
    "derivada da função `f`.\n",
    "\n",
    "Caso a derivada fique muito próxima de zero, um erro é lançado.\n",
    "\n",
    "Saída: `xₖ, f(xₖ), k`\n",
    "\n",
    "    xₖ    - aproximação para um zero de f\n",
    "    f(xₖ) - f aplicada nessa aproximação\n",
    "    k     - número de iterações\n",
    "\"\"\"\n",
    "function newton(f, fder, x; atol=1e-6, rtol=1e-6, maxiter=10_000, fdertol=1e-12)\n",
    "    fx = f(x)\n",
    "    iter = 0\n",
    "    ϵ = atol + rtol * abs(fx)\n",
    "    while !(abs(fx) <= ϵ || iter > maxiter)\n",
    "        fderx = fder(x)\n",
    "        if abs(fderx) < fdertol\n",
    "            error(\"Derivada muito próxima de zero\")\n",
    "        end\n",
    "        x = x - fx/fderx\n",
    "        fx = f(x)\n",
    "        iter += 1\n",
    "    end\n",
    "    return x, fx, iter\n",
    "end"
   ]
  },
  {
   "cell_type": "code",
   "execution_count": 22,
   "metadata": {},
   "outputs": [
    {
     "data": {
      "text/plain": [
       "(1.4142135623746899, 4.510614104447086e-12, 4)"
      ]
     },
     "execution_count": 22,
     "metadata": {},
     "output_type": "execute_result"
    }
   ],
   "source": [
    "f(x) = x^2 - 2\n",
    "fder(x) = 2x\n",
    "x0 = 1\n",
    "x, fx, iter = newton(f, fder, x0)"
   ]
  },
  {
   "cell_type": "code",
   "execution_count": 23,
   "metadata": {},
   "outputs": [
    {
     "data": {
      "text/plain": [
       "(1.4162413320389438, 0.005739510575441642, 8)"
      ]
     },
     "execution_count": 23,
     "metadata": {},
     "output_type": "execute_result"
    }
   ],
   "source": [
    "x, fx, iter = newton(f, fder, 100.0)"
   ]
  },
  {
   "cell_type": "code",
   "execution_count": 24,
   "metadata": {},
   "outputs": [
    {
     "ename": "LoadError",
     "evalue": "\u001b[91mDerivada muito próxima de zero\u001b[39m",
     "output_type": "error",
     "traceback": [
      "\u001b[91mDerivada muito próxima de zero\u001b[39m",
      "",
      "Stacktrace:",
      " [1] \u001b[1m#newton#14\u001b[22m\u001b[22m\u001b[1m(\u001b[22m\u001b[22m::Float64, ::Float64, ::Int64, ::Float64, ::Function, ::##15#17, ::##16#18, ::Float64\u001b[1m)\u001b[22m\u001b[22m at \u001b[1m./In[21]:22\u001b[22m\u001b[22m",
      " [2] \u001b[1mnewton\u001b[22m\u001b[22m\u001b[1m(\u001b[22m\u001b[22m::Function, ::Function, ::Float64\u001b[1m)\u001b[22m\u001b[22m at \u001b[1m./In[21]:16\u001b[22m\u001b[22m"
     ]
    }
   ],
   "source": [
    "x, fx, iter = newton(x->x * exp(x) - 1, x->exp(x) * (1 + x), -1.0)"
   ]
  },
  {
   "cell_type": "code",
   "execution_count": 25,
   "metadata": {},
   "outputs": [
    {
     "data": {
      "text/plain": [
       "(0.5671432965302959, 1.6912338640651114e-8, 4)"
      ]
     },
     "execution_count": 25,
     "metadata": {},
     "output_type": "execute_result"
    }
   ],
   "source": [
    "x, fx, iter = newton(x->x * exp(x) - 1, x->exp(x) * (1 + x), 1.0)"
   ]
  },
  {
   "cell_type": "code",
   "execution_count": 26,
   "metadata": {},
   "outputs": [
    {
     "data": {
      "text/plain": [
       "(-13.0, 2.2603294069810542e-6, 14)"
      ]
     },
     "execution_count": 26,
     "metadata": {},
     "output_type": "execute_result"
    }
   ],
   "source": [
    "x, fx, iter = newton(x->exp(x), x->exp(x), 1.0)"
   ]
  },
  {
   "cell_type": "markdown",
   "metadata": {},
   "source": [
    "O exemplo abaixo serve para mostrar que às vezes Newton não converge, nem explode, e sua derivada também não fica próxima de zero."
   ]
  },
  {
   "cell_type": "code",
   "execution_count": 27,
   "metadata": {},
   "outputs": [
    {
     "name": "stdout",
     "output_type": "stream",
     "text": [
      "1/√5 = 0.4472135954999579\n",
      "x = -0.4472135954999579, iter = 10001\n"
     ]
    }
   ],
   "source": [
    "a = 1/sqrt(5)\n",
    "println(\"1/√5 = $a\")\n",
    "x, fx, iter = newton(x->x^3 - x, x->3x^2 - 1, 1/sqrt(5))\n",
    "println(\"x = $x, iter = $iter\")"
   ]
  },
  {
   "cell_type": "markdown",
   "metadata": {},
   "source": [
    "Perceba que às vezes o método de Newton não funciona, mas quando funciona, tende a ser bem mais rápido que o método da bissecção. Isso se deve à parte do Teorema que diz que a **convergência do método é quadrática**."
   ]
  },
  {
   "cell_type": "markdown",
   "metadata": {},
   "source": [
    "**Def.:** Uma sequência $\\{x_k\\}$ convergente à $a$ é dita ter convergência linear, ou quadrática, se\n",
    "$$ \\lim_{k\\to\\infty} \\frac{|x^{k+1} - a|}{|x^k - a|} = C, $$\n",
    "para algum $0 < C < 1$, ou\n",
    "$$ \\lim_{k\\to\\infty} \\frac{|x^{k+1} - a|}{|x^k - a|^2} > 0, $$\n",
    "respectivamente."
   ]
  },
  {
   "cell_type": "markdown",
   "metadata": {},
   "source": [
    "**Def.:** Uma sequência $\\{x_k\\}$ convergente à $a$ é dita ter convergência superlinear se\n",
    "$$ \\lim_{k\\to\\infty} \\frac{|x^{k+1} - a|}{|x^k - a|} = C_k, $$\n",
    "e $C_k \\to 0$."
   ]
  },
  {
   "cell_type": "code",
   "execution_count": 28,
   "metadata": {
    "scrolled": true
   },
   "outputs": [
    {
     "name": "stdout",
     "output_type": "stream",
     "text": [
      " k         f(x)    x_k - 1.0\n",
      "0   +9.9000e+01  +9.0000e+00\n",
      "1   +2.4502e+01  +4.0500e+00\n",
      "2   +5.8854e+00  +1.6240e+00\n",
      "3   +1.2577e+00  +5.0255e-01\n",
      "4   +1.7515e-01  +8.4043e-02\n",
      "5   +6.5263e-03  +3.2579e-03\n",
      "6   +1.0579e-05  +5.2896e-06\n",
      "7   +2.7979e-11  +1.3990e-11\n",
      "8   +0.0000e+00  +0.0000e+00\n"
     ]
    }
   ],
   "source": [
    "f(x) = x^2 - 1.0\n",
    "fder(x) = 2x\n",
    "x = 10.0\n",
    "k = 0\n",
    "@printf(\"%2s  %11s  %11s\\n\", \"k\", \"f(x)\", \"x_k - 1.0\")\n",
    "@printf(\"%-2d  %+10.4e  %+10.4e\\n\", k, f(x), x - 1.0)\n",
    "while abs(f(x)) > 1e-12\n",
    "    x = x - f(x)/fder(x)\n",
    "    k += 1\n",
    "    @printf(\"%-2d  %+10.4e  %+10.4e\\n\", k, f(x), x - 1.0)\n",
    "end"
   ]
  },
  {
   "cell_type": "markdown",
   "metadata": {},
   "source": [
    "Veja um exemplo onde as condições do Teorema não são verificadas."
   ]
  },
  {
   "cell_type": "code",
   "execution_count": 29,
   "metadata": {},
   "outputs": [
    {
     "name": "stdout",
     "output_type": "stream",
     "text": [
      " k         f(x)    x_k - 1.0\n",
      "0   +8.1000e+01  +9.0000e+00\n",
      "1   +2.0250e+01  +4.5000e+00\n",
      "2   +5.0625e+00  +2.2500e+00\n",
      "3   +1.2656e+00  +1.1250e+00\n",
      "4   +3.1641e-01  +5.6250e-01\n",
      "5   +7.9102e-02  +2.8125e-01\n",
      "6   +1.9775e-02  +1.4063e-01\n",
      "7   +4.9438e-03  +7.0313e-02\n",
      "8   +1.2360e-03  +3.5156e-02\n",
      "9   +3.0899e-04  +1.7578e-02\n",
      "10  +7.7248e-05  +8.7891e-03\n",
      "11  +1.9312e-05  +4.3945e-03\n",
      "12  +4.8280e-06  +2.1973e-03\n",
      "13  +1.2070e-06  +1.0986e-03\n",
      "14  +3.0175e-07  +5.4932e-04\n",
      "15  +7.5437e-08  +2.7466e-04\n",
      "16  +1.8859e-08  +1.3733e-04\n",
      "17  +4.7148e-09  +6.8665e-05\n",
      "18  +1.1787e-09  +3.4332e-05\n",
      "19  +2.9468e-10  +1.7166e-05\n",
      "20  +7.3669e-11  +8.5831e-06\n",
      "21  +1.8417e-11  +4.2915e-06\n",
      "22  +4.6043e-12  +2.1458e-06\n",
      "23  +1.1511e-12  +1.0729e-06\n",
      "24  +2.8777e-13  +5.3644e-07\n"
     ]
    }
   ],
   "source": [
    "f(x) = (x - 1.0)^2\n",
    "fder(x) = 2(x - 1.0)\n",
    "x = 10.0\n",
    "k = 0\n",
    "@printf(\"%2s  %11s  %11s\\n\", \"k\", \"f(x)\", \"x_k - 1.0\")\n",
    "@printf(\"%-2d  %+10.4e  %+10.4e\\n\", k, f(x), x - 1.0)\n",
    "while abs(f(x)) > 1e-12\n",
    "    x = x - f(x)/fder(x)\n",
    "    k += 1\n",
    "    @printf(\"%-2d  %+10.4e  %+10.4e\\n\", k, f(x), x - 1.0)\n",
    "end"
   ]
  },
  {
   "cell_type": "code",
   "execution_count": 45,
   "metadata": {},
   "outputs": [
    {
     "data": {
      "image/svg+xml": [
       "<?xml version=\"1.0\" encoding=\"utf-8\"?>\n",
       "<svg xmlns=\"http://www.w3.org/2000/svg\" xmlns:xlink=\"http://www.w3.org/1999/xlink\" width=\"600\" height=\"400\" viewBox=\"0 0 600 400\">\n",
       "<defs>\n",
       "  <clipPath id=\"clip0700\">\n",
       "    <rect x=\"0\" y=\"0\" width=\"600\" height=\"400\"/>\n",
       "  </clipPath>\n",
       "</defs>\n",
       "<polygon clip-path=\"url(#clip0700)\" points=\"\n",
       "0,400 600,400 600,0 0,0 \n",
       "  \" fill=\"#ffffff\" fill-opacity=\"1\"/>\n",
       "<defs>\n",
       "  <clipPath id=\"clip0701\">\n",
       "    <rect x=\"120\" y=\"0\" width=\"421\" height=\"400\"/>\n",
       "  </clipPath>\n",
       "</defs>\n",
       "<polygon clip-path=\"url(#clip0700)\" points=\"\n",
       "29.4661,375.869 580.315,375.869 580.315,11.811 29.4661,11.811 \n",
       "  \" fill=\"#ffffff\" fill-opacity=\"1\"/>\n",
       "<defs>\n",
       "  <clipPath id=\"clip0702\">\n",
       "    <rect x=\"29\" y=\"11\" width=\"552\" height=\"365\"/>\n",
       "  </clipPath>\n",
       "</defs>\n",
       "<polyline clip-path=\"url(#clip0702)\" style=\"stroke:#000000; stroke-width:0.5; stroke-opacity:0.1; fill:none\" points=\"\n",
       "  45.0562,375.869 45.0562,11.811 \n",
       "  \"/>\n",
       "<polyline clip-path=\"url(#clip0702)\" style=\"stroke:#000000; stroke-width:0.5; stroke-opacity:0.1; fill:none\" points=\"\n",
       "  131.668,375.869 131.668,11.811 \n",
       "  \"/>\n",
       "<polyline clip-path=\"url(#clip0702)\" style=\"stroke:#000000; stroke-width:0.5; stroke-opacity:0.1; fill:none\" points=\"\n",
       "  218.279,375.869 218.279,11.811 \n",
       "  \"/>\n",
       "<polyline clip-path=\"url(#clip0702)\" style=\"stroke:#000000; stroke-width:0.5; stroke-opacity:0.1; fill:none\" points=\"\n",
       "  304.891,375.869 304.891,11.811 \n",
       "  \"/>\n",
       "<polyline clip-path=\"url(#clip0702)\" style=\"stroke:#000000; stroke-width:0.5; stroke-opacity:0.1; fill:none\" points=\"\n",
       "  391.502,375.869 391.502,11.811 \n",
       "  \"/>\n",
       "<polyline clip-path=\"url(#clip0702)\" style=\"stroke:#000000; stroke-width:0.5; stroke-opacity:0.1; fill:none\" points=\"\n",
       "  478.113,375.869 478.113,11.811 \n",
       "  \"/>\n",
       "<polyline clip-path=\"url(#clip0702)\" style=\"stroke:#000000; stroke-width:0.5; stroke-opacity:0.1; fill:none\" points=\"\n",
       "  564.725,375.869 564.725,11.811 \n",
       "  \"/>\n",
       "<polyline clip-path=\"url(#clip0702)\" style=\"stroke:#000000; stroke-width:0.5; stroke-opacity:0.1; fill:none\" points=\"\n",
       "  29.4661,365.565 580.315,365.565 \n",
       "  \"/>\n",
       "<polyline clip-path=\"url(#clip0702)\" style=\"stroke:#000000; stroke-width:0.5; stroke-opacity:0.1; fill:none\" points=\"\n",
       "  29.4661,308.323 580.315,308.323 \n",
       "  \"/>\n",
       "<polyline clip-path=\"url(#clip0702)\" style=\"stroke:#000000; stroke-width:0.5; stroke-opacity:0.1; fill:none\" points=\"\n",
       "  29.4661,251.082 580.315,251.082 \n",
       "  \"/>\n",
       "<polyline clip-path=\"url(#clip0702)\" style=\"stroke:#000000; stroke-width:0.5; stroke-opacity:0.1; fill:none\" points=\"\n",
       "  29.4661,193.84 580.315,193.84 \n",
       "  \"/>\n",
       "<polyline clip-path=\"url(#clip0702)\" style=\"stroke:#000000; stroke-width:0.5; stroke-opacity:0.1; fill:none\" points=\"\n",
       "  29.4661,136.598 580.315,136.598 \n",
       "  \"/>\n",
       "<polyline clip-path=\"url(#clip0702)\" style=\"stroke:#000000; stroke-width:0.5; stroke-opacity:0.1; fill:none\" points=\"\n",
       "  29.4661,79.3563 580.315,79.3563 \n",
       "  \"/>\n",
       "<polyline clip-path=\"url(#clip0702)\" style=\"stroke:#000000; stroke-width:0.5; stroke-opacity:0.1; fill:none\" points=\"\n",
       "  29.4661,22.1145 580.315,22.1145 \n",
       "  \"/>\n",
       "<polyline clip-path=\"url(#clip0700)\" style=\"stroke:#000000; stroke-width:1; stroke-opacity:1; fill:none\" points=\"\n",
       "  29.4661,375.869 580.315,375.869 \n",
       "  \"/>\n",
       "<polyline clip-path=\"url(#clip0700)\" style=\"stroke:#000000; stroke-width:1; stroke-opacity:1; fill:none\" points=\"\n",
       "  29.4661,375.869 29.4661,11.811 \n",
       "  \"/>\n",
       "<polyline clip-path=\"url(#clip0700)\" style=\"stroke:#000000; stroke-width:1; stroke-opacity:1; fill:none\" points=\"\n",
       "  45.0562,375.869 45.0562,370.408 \n",
       "  \"/>\n",
       "<polyline clip-path=\"url(#clip0700)\" style=\"stroke:#000000; stroke-width:1; stroke-opacity:1; fill:none\" points=\"\n",
       "  131.668,375.869 131.668,370.408 \n",
       "  \"/>\n",
       "<polyline clip-path=\"url(#clip0700)\" style=\"stroke:#000000; stroke-width:1; stroke-opacity:1; fill:none\" points=\"\n",
       "  218.279,375.869 218.279,370.408 \n",
       "  \"/>\n",
       "<polyline clip-path=\"url(#clip0700)\" style=\"stroke:#000000; stroke-width:1; stroke-opacity:1; fill:none\" points=\"\n",
       "  304.891,375.869 304.891,370.408 \n",
       "  \"/>\n",
       "<polyline clip-path=\"url(#clip0700)\" style=\"stroke:#000000; stroke-width:1; stroke-opacity:1; fill:none\" points=\"\n",
       "  391.502,375.869 391.502,370.408 \n",
       "  \"/>\n",
       "<polyline clip-path=\"url(#clip0700)\" style=\"stroke:#000000; stroke-width:1; stroke-opacity:1; fill:none\" points=\"\n",
       "  478.113,375.869 478.113,370.408 \n",
       "  \"/>\n",
       "<polyline clip-path=\"url(#clip0700)\" style=\"stroke:#000000; stroke-width:1; stroke-opacity:1; fill:none\" points=\"\n",
       "  564.725,375.869 564.725,370.408 \n",
       "  \"/>\n",
       "<polyline clip-path=\"url(#clip0700)\" style=\"stroke:#000000; stroke-width:1; stroke-opacity:1; fill:none\" points=\"\n",
       "  29.4661,365.565 37.7289,365.565 \n",
       "  \"/>\n",
       "<polyline clip-path=\"url(#clip0700)\" style=\"stroke:#000000; stroke-width:1; stroke-opacity:1; fill:none\" points=\"\n",
       "  29.4661,308.323 37.7289,308.323 \n",
       "  \"/>\n",
       "<polyline clip-path=\"url(#clip0700)\" style=\"stroke:#000000; stroke-width:1; stroke-opacity:1; fill:none\" points=\"\n",
       "  29.4661,251.082 37.7289,251.082 \n",
       "  \"/>\n",
       "<polyline clip-path=\"url(#clip0700)\" style=\"stroke:#000000; stroke-width:1; stroke-opacity:1; fill:none\" points=\"\n",
       "  29.4661,193.84 37.7289,193.84 \n",
       "  \"/>\n",
       "<polyline clip-path=\"url(#clip0700)\" style=\"stroke:#000000; stroke-width:1; stroke-opacity:1; fill:none\" points=\"\n",
       "  29.4661,136.598 37.7289,136.598 \n",
       "  \"/>\n",
       "<polyline clip-path=\"url(#clip0700)\" style=\"stroke:#000000; stroke-width:1; stroke-opacity:1; fill:none\" points=\"\n",
       "  29.4661,79.3563 37.7289,79.3563 \n",
       "  \"/>\n",
       "<polyline clip-path=\"url(#clip0700)\" style=\"stroke:#000000; stroke-width:1; stroke-opacity:1; fill:none\" points=\"\n",
       "  29.4661,22.1145 37.7289,22.1145 \n",
       "  \"/>\n",
       "<g clip-path=\"url(#clip0700)\">\n",
       "<text style=\"fill:#000000; fill-opacity:1; font-family:Arial,Helvetica Neue,Helvetica,sans-serif; font-size:12; text-anchor:middle;\" transform=\"rotate(0, 45.0562, 389.669)\" x=\"45.0562\" y=\"389.669\">-3</text>\n",
       "</g>\n",
       "<g clip-path=\"url(#clip0700)\">\n",
       "<text style=\"fill:#000000; fill-opacity:1; font-family:Arial,Helvetica Neue,Helvetica,sans-serif; font-size:12; text-anchor:middle;\" transform=\"rotate(0, 131.668, 389.669)\" x=\"131.668\" y=\"389.669\">-2</text>\n",
       "</g>\n",
       "<g clip-path=\"url(#clip0700)\">\n",
       "<text style=\"fill:#000000; fill-opacity:1; font-family:Arial,Helvetica Neue,Helvetica,sans-serif; font-size:12; text-anchor:middle;\" transform=\"rotate(0, 218.279, 389.669)\" x=\"218.279\" y=\"389.669\">-1</text>\n",
       "</g>\n",
       "<g clip-path=\"url(#clip0700)\">\n",
       "<text style=\"fill:#000000; fill-opacity:1; font-family:Arial,Helvetica Neue,Helvetica,sans-serif; font-size:12; text-anchor:middle;\" transform=\"rotate(0, 304.891, 389.669)\" x=\"304.891\" y=\"389.669\">0</text>\n",
       "</g>\n",
       "<g clip-path=\"url(#clip0700)\">\n",
       "<text style=\"fill:#000000; fill-opacity:1; font-family:Arial,Helvetica Neue,Helvetica,sans-serif; font-size:12; text-anchor:middle;\" transform=\"rotate(0, 391.502, 389.669)\" x=\"391.502\" y=\"389.669\">1</text>\n",
       "</g>\n",
       "<g clip-path=\"url(#clip0700)\">\n",
       "<text style=\"fill:#000000; fill-opacity:1; font-family:Arial,Helvetica Neue,Helvetica,sans-serif; font-size:12; text-anchor:middle;\" transform=\"rotate(0, 478.113, 389.669)\" x=\"478.113\" y=\"389.669\">2</text>\n",
       "</g>\n",
       "<g clip-path=\"url(#clip0700)\">\n",
       "<text style=\"fill:#000000; fill-opacity:1; font-family:Arial,Helvetica Neue,Helvetica,sans-serif; font-size:12; text-anchor:middle;\" transform=\"rotate(0, 564.725, 389.669)\" x=\"564.725\" y=\"389.669\">3</text>\n",
       "</g>\n",
       "<g clip-path=\"url(#clip0700)\">\n",
       "<text style=\"fill:#000000; fill-opacity:1; font-family:Arial,Helvetica Neue,Helvetica,sans-serif; font-size:12; text-anchor:end;\" transform=\"rotate(0, 23.4661, 370.065)\" x=\"23.4661\" y=\"370.065\">-3</text>\n",
       "</g>\n",
       "<g clip-path=\"url(#clip0700)\">\n",
       "<text style=\"fill:#000000; fill-opacity:1; font-family:Arial,Helvetica Neue,Helvetica,sans-serif; font-size:12; text-anchor:end;\" transform=\"rotate(0, 23.4661, 312.823)\" x=\"23.4661\" y=\"312.823\">-2</text>\n",
       "</g>\n",
       "<g clip-path=\"url(#clip0700)\">\n",
       "<text style=\"fill:#000000; fill-opacity:1; font-family:Arial,Helvetica Neue,Helvetica,sans-serif; font-size:12; text-anchor:end;\" transform=\"rotate(0, 23.4661, 255.582)\" x=\"23.4661\" y=\"255.582\">-1</text>\n",
       "</g>\n",
       "<g clip-path=\"url(#clip0700)\">\n",
       "<text style=\"fill:#000000; fill-opacity:1; font-family:Arial,Helvetica Neue,Helvetica,sans-serif; font-size:12; text-anchor:end;\" transform=\"rotate(0, 23.4661, 198.34)\" x=\"23.4661\" y=\"198.34\">0</text>\n",
       "</g>\n",
       "<g clip-path=\"url(#clip0700)\">\n",
       "<text style=\"fill:#000000; fill-opacity:1; font-family:Arial,Helvetica Neue,Helvetica,sans-serif; font-size:12; text-anchor:end;\" transform=\"rotate(0, 23.4661, 141.098)\" x=\"23.4661\" y=\"141.098\">1</text>\n",
       "</g>\n",
       "<g clip-path=\"url(#clip0700)\">\n",
       "<text style=\"fill:#000000; fill-opacity:1; font-family:Arial,Helvetica Neue,Helvetica,sans-serif; font-size:12; text-anchor:end;\" transform=\"rotate(0, 23.4661, 83.8563)\" x=\"23.4661\" y=\"83.8563\">2</text>\n",
       "</g>\n",
       "<g clip-path=\"url(#clip0700)\">\n",
       "<text style=\"fill:#000000; fill-opacity:1; font-family:Arial,Helvetica Neue,Helvetica,sans-serif; font-size:12; text-anchor:end;\" transform=\"rotate(0, 23.4661, 26.6145)\" x=\"23.4661\" y=\"26.6145\">3</text>\n",
       "</g>\n",
       "<polyline clip-path=\"url(#clip0702)\" style=\"stroke:#9a2864; stroke-width:1; stroke-opacity:1; fill:none\" points=\"\n",
       "  183.304,275.366 186.784,277.57 188.872,278.835 192.033,280.674 194.97,282.304 197.282,283.539 201.679,285.774 202.532,286.191 207.781,288.632 209.166,289.243 \n",
       "  213.03,290.884 217.584,292.712 218.279,292.981 223.528,294.895 227.29,296.181 228.777,296.673 234.027,298.292 238.771,299.65 239.276,299.79 244.525,301.133 \n",
       "  249.774,302.364 253.317,303.12 255.023,303.472 260.273,304.448 265.522,305.315 270.771,306.074 274.926,306.589 276.02,306.72 281.269,307.246 286.518,307.666 \n",
       "  291.768,307.982 297.017,308.192 302.266,308.297 307.515,308.297 312.764,308.192 318.013,307.982 323.263,307.666 328.512,307.246 333.761,306.72 334.855,306.589 \n",
       "  339.01,306.074 344.259,305.315 349.509,304.448 354.758,303.472 356.464,303.12 360.007,302.364 365.256,301.133 370.505,299.79 371.01,299.65 375.754,298.292 \n",
       "  381.004,296.673 382.491,296.181 386.253,294.895 391.502,292.981 392.197,292.712 396.751,290.884 400.615,289.243 402,288.632 407.25,286.191 408.103,285.774 \n",
       "  412.499,283.539 414.811,282.304 417.748,280.674 420.909,278.835 422.997,277.57 426.478,275.366 428.246,274.197 431.582,271.897 433.495,270.517 436.277,268.428 \n",
       "  438.745,266.487 440.612,264.958 443.994,262.053 444.626,261.489 448.319,258.02 449.243,257.105 451.727,254.551 454.492,251.541 454.899,251.082 457.796,247.612 \n",
       "  459.741,245.126 460.485,244.143 462.935,240.674 464.991,237.538 465.202,237.205 467.234,233.736 469.097,230.266 470.24,227.925 470.773,226.797 472.249,223.328 \n",
       "  473.561,219.859 474.71,216.39 475.489,213.643 475.688,212.92 476.483,209.451 477.119,205.982 477.596,202.513 477.915,199.044 478.074,195.574 478.074,192.105 \n",
       "  477.915,188.636 477.596,185.167 477.119,181.698 476.483,178.228 475.688,174.759 475.489,174.037 474.71,171.29 473.561,167.821 472.249,164.352 470.773,160.882 \n",
       "  470.24,159.755 469.097,157.413 467.234,153.944 465.202,150.475 464.991,150.141 462.935,147.006 460.485,143.536 459.741,142.554 457.796,140.067 454.899,136.598 \n",
       "  454.492,136.139 451.727,133.129 449.243,130.575 448.319,129.66 444.626,126.19 443.994,125.627 440.612,122.721 438.745,121.193 436.277,119.252 433.495,117.163 \n",
       "  431.582,115.783 428.246,113.483 426.478,112.314 422.997,110.109 420.909,108.844 417.748,107.006 414.811,105.375 412.499,104.141 408.103,101.906 407.25,101.489 \n",
       "  402,99.0472 400.615,98.4369 396.751,96.7952 392.197,94.9677 391.502,94.6985 386.253,92.7845 382.491,91.4985 381.004,91.007 375.754,89.3881 371.01,88.0293 \n",
       "  370.505,87.8894 365.256,86.5465 360.007,85.3155 356.464,84.5601 354.758,84.2078 349.509,83.2321 344.259,82.3648 339.01,81.6059 334.855,81.0909 333.761,80.9595 \n",
       "  328.512,80.4339 323.263,80.0134 318.013,79.698 312.764,79.4877 307.515,79.3826 302.266,79.3826 297.017,79.4877 291.768,79.698 286.518,80.0134 281.269,80.4339 \n",
       "  276.02,80.9595 274.926,81.0909 270.771,81.6059 265.522,82.3648 260.273,83.2321 255.023,84.2078 253.317,84.5601 249.774,85.3155 244.525,86.5465 239.276,87.8894 \n",
       "  238.771,88.0293 234.027,89.3881 228.777,91.007 227.29,91.4985 223.528,92.7845 218.279,94.6985 217.584,94.9677 213.03,96.7952 209.166,98.4369 207.781,99.0472 \n",
       "  202.532,101.489 201.679,101.906 197.282,104.141 194.97,105.375 192.033,107.006 188.872,108.844 186.784,110.109 183.304,112.314 181.535,113.483 178.199,115.783 \n",
       "  176.286,117.163 173.504,119.252 171.036,121.193 169.169,122.721 165.787,125.627 165.155,126.19 161.462,129.66 160.538,130.575 158.054,133.129 155.289,136.139 \n",
       "  154.882,136.598 151.986,140.067 150.04,142.554 149.296,143.536 146.847,147.006 144.791,150.141 144.579,150.475 142.547,153.944 140.684,157.413 139.541,159.755 \n",
       "  139.008,160.882 137.532,164.352 136.22,167.821 135.071,171.29 134.292,174.037 134.093,174.759 133.298,178.228 132.662,181.698 132.185,185.167 131.866,188.636 \n",
       "  131.707,192.105 131.707,195.574 131.866,199.044 132.185,202.513 132.662,205.982 133.298,209.451 134.093,212.92 134.292,213.643 135.071,216.39 136.22,219.859 \n",
       "  137.532,223.328 139.008,226.797 139.541,227.925 140.684,230.266 142.547,233.736 144.579,237.205 144.791,237.538 146.847,240.674 149.296,244.143 150.04,245.126 \n",
       "  151.986,247.612 154.882,251.082 155.289,251.541 158.054,254.551 160.538,257.105 161.462,258.02 165.155,261.489 165.787,262.053 169.169,264.958 171.036,266.487 \n",
       "  173.504,268.428 176.286,270.517 178.199,271.897 181.535,274.197 183.304,275.366 \n",
       "  \"/>\n",
       "<polyline clip-path=\"url(#clip0702)\" style=\"stroke:#9a2864; stroke-width:1; stroke-opacity:1; fill:none\" points=\"\n",
       "  276.02,365.565 276.02,365.565 275.425,362.096 274.804,358.627 274.157,355.158 273.482,351.688 272.776,348.219 272.038,344.75 271.265,341.281 270.771,339.146 \n",
       "  270.455,337.812 269.604,334.342 268.711,330.873 267.771,327.404 266.782,323.935 265.737,320.466 265.522,319.772 264.635,316.996 263.468,313.527 262.231,310.058 \n",
       "  260.919,306.589 260.273,304.956 259.523,303.12 258.035,299.65 256.447,296.181 255.023,293.26 254.747,292.712 252.924,289.243 250.963,285.774 249.774,283.791 \n",
       "  248.848,282.304 246.56,278.835 244.525,275.969 244.078,275.366 241.375,271.897 239.276,269.399 238.421,268.428 235.179,264.958 234.027,263.802 231.604,261.489 \n",
       "  228.777,258.977 227.642,258.02 223.528,254.775 223.228,254.551 218.279,251.082 213.03,247.811 212.691,247.612 207.781,244.893 206.333,244.143 \n",
       "  202.532,242.275 199.032,240.674 197.282,239.912 192.033,237.77 190.563,237.205 186.784,235.817 181.535,234.031 180.622,233.736 176.286,232.39 171.036,230.879 \n",
       "  168.787,230.266 165.787,229.481 160.538,228.185 155.289,226.98 154.46,226.797 150.04,225.856 144.791,224.807 139.541,223.824 136.762,223.328 134.292,222.901 \n",
       "  129.043,222.034 123.794,221.216 118.545,220.445 114.345,219.859 113.296,219.716 108.046,219.026 102.797,218.372 97.548,217.751 92.2988,217.161 87.0496,216.599 \n",
       "  85.0307,216.39 81.8004,216.063 76.5513,215.552 71.3021,215.064 66.0529,214.598 60.8037,214.151 55.5546,213.724 50.3054,213.314 45.0562,212.92 \n",
       "  \n",
       "  \"/>\n",
       "<polyline clip-path=\"url(#clip0702)\" style=\"stroke:#9a2864; stroke-width:1; stroke-opacity:1; fill:none\" points=\"\n",
       "  333.761,22.1145 333.761,22.1145 334.356,25.5837 334.977,29.0529 335.624,32.5221 336.299,35.9913 337.005,39.4605 337.743,42.9297 338.516,46.3989 339.01,48.5338 \n",
       "  339.326,49.8681 340.177,53.3373 341.07,56.8065 342.01,60.2757 343,63.7449 344.044,67.2141 344.259,67.908 345.147,70.6833 346.313,74.1525 347.55,77.6217 \n",
       "  348.863,81.0909 349.509,82.7235 350.258,84.5601 351.746,88.0293 353.334,91.4985 354.758,94.4199 355.034,94.9677 356.857,98.4369 358.818,101.906 360.007,103.888 \n",
       "  360.933,105.375 363.221,108.844 365.256,111.71 365.703,112.314 368.406,115.783 370.505,118.281 371.36,119.252 374.602,122.721 375.754,123.878 378.177,126.19 \n",
       "  381.004,128.703 382.139,129.66 386.253,132.905 386.553,133.129 391.502,136.598 396.751,139.869 397.09,140.067 402,142.786 403.448,143.536 \n",
       "  407.25,145.405 410.749,147.006 412.499,147.767 417.748,149.91 419.218,150.475 422.997,151.863 428.246,153.649 429.159,153.944 433.495,155.289 438.745,156.801 \n",
       "  440.994,157.413 443.994,158.199 449.243,159.495 454.492,160.7 455.321,160.882 459.741,161.823 464.991,162.873 470.24,163.856 473.019,164.352 475.489,164.779 \n",
       "  480.738,165.646 485.987,166.463 491.236,167.235 495.436,167.821 496.486,167.963 501.735,168.653 506.984,169.308 512.233,169.929 517.482,170.519 522.731,171.081 \n",
       "  524.75,171.29 527.981,171.617 533.23,172.127 538.479,172.615 543.728,173.082 548.977,173.528 554.227,173.956 559.476,174.366 564.725,174.759 \n",
       "  \n",
       "  \"/>\n",
       "<circle clip-path=\"url(#clip0702)\" style=\"fill:#000000; stroke:none; fill-opacity:1\" cx=\"521.419\" cy=\"107.977\" r=\"3\"/>\n",
       "<circle clip-path=\"url(#clip0702)\" style=\"fill:#ff0000; stroke:none; fill-opacity:1\" cx=\"521.419\" cy=\"107.977\" r=\"2\"/>\n",
       "<polyline clip-path=\"url(#clip0702)\" style=\"stroke:#ff0000; stroke-width:1; stroke-opacity:1; fill:none\" points=\"\n",
       "  521.419,107.977 488.94,158.064 \n",
       "  \"/>\n",
       "<polyline clip-path=\"url(#clip0702)\" style=\"stroke:#ff0000; stroke-width:1; stroke-opacity:1; fill:none\" points=\"\n",
       "  497.612,152.961 488.94,158.064 490.061,148.064 \n",
       "  \"/>\n",
       "<polyline clip-path=\"url(#clip0702)\" style=\"stroke:#ff0000; stroke-width:1; stroke-opacity:1; fill:none\" points=\"\n",
       "  488.94,158.064 521.419,107.977 \n",
       "  \"/>\n",
       "<circle clip-path=\"url(#clip0702)\" style=\"fill:#000000; stroke:none; fill-opacity:1\" cx=\"488.94\" cy=\"158.064\" r=\"3\"/>\n",
       "<circle clip-path=\"url(#clip0702)\" style=\"fill:#ff0000; stroke:none; fill-opacity:1\" cx=\"488.94\" cy=\"158.064\" r=\"2\"/>\n",
       "<polyline clip-path=\"url(#clip0702)\" style=\"stroke:#ff0000; stroke-width:1; stroke-opacity:1; fill:none\" points=\"\n",
       "  488.94,158.064 473.028,163.81 \n",
       "  \"/>\n",
       "<polyline clip-path=\"url(#clip0702)\" style=\"stroke:#ff0000; stroke-width:1; stroke-opacity:1; fill:none\" points=\"\n",
       "  483.022,164.985 473.028,163.81 479.965,156.52 \n",
       "  \"/>\n",
       "<polyline clip-path=\"url(#clip0702)\" style=\"stroke:#ff0000; stroke-width:1; stroke-opacity:1; fill:none\" points=\"\n",
       "  473.028,163.81 488.94,158.064 \n",
       "  \"/>\n",
       "</svg>\n"
      ]
     },
     "execution_count": 45,
     "metadata": {},
     "output_type": "execute_result"
    }
   ],
   "source": [
    "F(x,y) = [x^2 + y^2 - 4.0;\n",
    "          x * y - 1.0]\n",
    "J(x,y) = [2x  2y;\n",
    "           y   x]\n",
    "x,y = (2.5,1.5)\n",
    "\n",
    "contour(linspace(-3, 3, 100), linspace(-3, 3, 100),\n",
    "        (x,y) -> F(x,y)[1], levels=[0])\n",
    "contour!(linspace(-3, 3, 100), linspace(-3, 3, 100),\n",
    "        (x,y) -> F(x,y)[2], levels=[0])\n",
    "\n",
    "scatter!([x], [y], c=:red, ms=3, leg=false)\n",
    "\n",
    "d = -J(x, y) \\ F(x, y) # -J⁻¹F\n",
    "\n",
    "plot!(x + [0,d[1]], y + [0,d[2]], l=:arrow, c=:red)\n",
    "\n",
    "x, y = x + d[1], y + d[2]\n",
    "\n",
    "scatter!([x], [y], c=:red, ms=3, leg=false)\n",
    "\n",
    "d = -J(x, y) \\ F(x, y) # -J⁻¹F\n",
    "\n",
    "plot!(x + [0,d[1]], y + [0,d[2]], l=:arrow, c=:red)"
   ]
  },
  {
   "cell_type": "markdown",
   "metadata": {},
   "source": [
    "## Aproximações lineares diferentes de Newton\n",
    "\n",
    "O Método de Newton tem uma grande falha. Se a derivada $f'(x_k) = 0$, então a iteração $k$ não está bem definida.\n",
    "No entanto, podemos aproximar essa derivada de algumas maneiras simples.\n",
    "Uma delas é utilizando dois pontos anteriores da curva:\n",
    "$$ m = \\frac{f(x_k) - f(x_{k-1})}{x_{k} - x_{k-1}}. $$"
   ]
  },
  {
   "cell_type": "markdown",
   "metadata": {},
   "source": [
    "Essa aproximação forma, no lugar de uma reta tangente, uma reta **secante** à curva, de modo que chamamos o método que usa essa reta de **Método Secante**, ou da Secante."
   ]
  },
  {
   "cell_type": "markdown",
   "metadata": {},
   "source": [
    "Note que esse método precisa de um ponto inicial além do $x_0$."
   ]
  },
  {
   "cell_type": "code",
   "execution_count": 30,
   "metadata": {},
   "outputs": [],
   "source": [
    "#=\n",
    "Entrada: f: função real\n",
    "         x₀: ponto inicial\n",
    "         x₁: outra aproximação diferente de x₀\n",
    "0. k = 1\n",
    "1. Enquanto |f(xₖ)| > ϵ\n",
    "    1.1. m = (f(xₖ) - f(xₖ₋₁)) / (xₖ - xₖ₋₁)\n",
    "    1.2. xₖ₊₁ = xₖ - f(xₖ)/m     # Obs: Essa conta pode ser aberta\n",
    "    1.3. Incremente k\n",
    "Saída:  xₖ: aproximação para o zero de f\n",
    "        k:  número de iterações.\n",
    "=#"
   ]
  },
  {
   "cell_type": "code",
   "execution_count": 81,
   "metadata": {},
   "outputs": [
    {
     "data": {
      "text/plain": [
       "secante (generic function with 1 method)"
      ]
     },
     "execution_count": 81,
     "metadata": {},
     "output_type": "execute_result"
    }
   ],
   "source": [
    "function secante(f, a, b; atol = 1e-6, rtol = 1e-6, maxiter = 1000)\n",
    "    # Exercício\n",
    "    fa = f(a)\n",
    "    if abs(fa) < 1e-6\n",
    "        return a, fa, 0\n",
    "    end\n",
    "    fb = f(b)\n",
    "    if abs(fb) < 1e-6\n",
    "        return b, fb, 0\n",
    "    end\n",
    "    ϵ = atol + rtol * (abs(fa) + abs(fb)) / 2\n",
    "    k = 1\n",
    "    while !(abs(fb) < ϵ || abs(b - a) < 1e-12 || k > maxiter)\n",
    "        m = (fb - fa) / (b - a)\n",
    "        if abs(m) < 1e-12\n",
    "            error(\"Nao deu\")\n",
    "        end\n",
    "        a = b\n",
    "        b = b - fb / m\n",
    "        fa = fb\n",
    "        fb = f(b)\n",
    "        k += 1\n",
    "    end\n",
    "    return b, fb, k\n",
    "end"
   ]
  },
  {
   "cell_type": "code",
   "execution_count": 82,
   "metadata": {},
   "outputs": [
    {
     "data": {
      "text/plain": [
       "(1, 0, 0)"
      ]
     },
     "execution_count": 82,
     "metadata": {},
     "output_type": "execute_result"
    }
   ],
   "source": [
    "secante(x->x^2 - 1, 0, 1)"
   ]
  },
  {
   "cell_type": "code",
   "execution_count": 83,
   "metadata": {},
   "outputs": [
    {
     "data": {
      "text/plain": [
       "(1.4142135620573204, -8.931455575122982e-10, 7)"
      ]
     },
     "execution_count": 83,
     "metadata": {},
     "output_type": "execute_result"
    }
   ],
   "source": [
    "secante(x->x^2 - 2, 0, 1)"
   ]
  },
  {
   "cell_type": "code",
   "execution_count": 79,
   "metadata": {},
   "outputs": [
    {
     "data": {
      "text/plain": [
       "(0.5671433066049633, -2.5380166635002865e-8, 5)"
      ]
     },
     "execution_count": 79,
     "metadata": {},
     "output_type": "execute_result"
    }
   ],
   "source": [
    "secante(x->exp(-x) - x, 0, 1)"
   ]
  },
  {
   "cell_type": "markdown",
   "metadata": {},
   "source": [
    "Outra modificação bastante simples, é o **Método de Newton Modificado**, que consiste de usar $m$ fixo igual ao primeiro ponto $f'(x_0)$. Na prática, após $N$ iterações, esse valor é atualizado, de modo que o método fica\n",
    "como\n",
    "$$ x_{k+1} = x_k - \\frac{f(x_k)}{m_k}, $$\n",
    "onde\n",
    "$$ m_k = \\left\\{\\begin{array}{ll}\n",
    "f'(x_k), \\mbox{se } k \\mbox{ é divisível por } N, \\\\\n",
    "m_{k-1}, \\mbox{caso contrário}.\n",
    "\\end{array}\\right. $$"
   ]
  },
  {
   "cell_type": "markdown",
   "metadata": {},
   "source": [
    "# Exercícios\n",
    "\n",
    "Faça os exercícios do capítulo 2, com exceção daqueles de assuntos não vistos em classe (e.g. Método do Ponto Fixo).\n",
    "\n",
    "1. Utilize os métodos da Bissecção, de Newton e da Secante para encontrar uma\n",
    "  aproximação para algum zero de cada uma das funções abaixo.  Para bissecção, use\n",
    "  o intervalo $[a,b]$ dado, para Newton use $x_0 = a$, e para Secante, use $x_0 = a$ e\n",
    "  $x_1 = b$.  Caso encontre alguma divisão por 0, raiz negativa, ou outro problema\n",
    "  de domínio, declare falha. Declare convergência com $|f(x_k)| < 10^{-2}$.\n",
    "  **Faça na mão**\n",
    "\n",
    "  - $f(x) = x^2 - 2$, em $[1,2]$;\n",
    "  - $f(x) = e^{-x} - x$, em $[0,1]$;\n",
    "  - $f(x) = x^3 - 3x$, em $[1,2]$;\n",
    "  - $f(x) = x^3 - 3x$, em $[-1,1]$;\n",
    "  - $f(x) = \\cos(x)$, em $[0,2]$;\n",
    "  - $f(x) = \\dfrac{x}{x^2 - 4}$, em $[-1,1]$;\n",
    "\n",
    "2. Faça o que se pede\n",
    "  - Mostre que o método da bissecção aplicado à função $f(x) = x - 2^{-n}$ leva\n",
    "    $n$ iterações para convergir (teoricamente).\n",
    "  - O exemplo em (a) mostra um defeito do método da bissecção: Ele pode demorar\n",
    "    mesmo para funções fáceis. Para tentar remediar isso, o Método da Falsa Posição\n",
    "    foi criado, onde a divisão do intervalo [a,b] é feita num ponto ponderado pelos\n",
    "    valores dos inversos de $|f(a)|$ e $|f(b)|$. Desse modo, um ponto com valor de\n",
    "    função mais próximo de zero tem peso maior.\n",
    "    Em outras palavras, o próximo extremo do intervalo é\n",
    "    dado por\n",
    "    \n",
    "    $$ x = \\frac{ap_1 + bp_2}{p_1 + p_2} $$\n",
    "\n",
    "    onde $p_1 = \\dfrac{1}{|f(a)|}$ e $p_2 = \\dfrac{1}{|f(b)|}$.\n",
    "    Implemente este método.\n",
    "  - Mostre que o x do Método da Falsa Posição pode ser escrito como\n",
    "\n",
    "    $$ x = \\frac{a f(b) - b f(a)}{f(b) - f(a)}. $$\n",
    "\n",
    "  - Mostre que o Método da False Posição converge em uma iteração para qualquer\n",
    "    função afim. Verifique isso para a função do item (a).\n",
    "\n",
    "3. Considere o Método de Newton aplicado à função $f(x) = x^2 - 1$, a partir de\n",
    "   algum $x_0 > 0$. Mostre que\n",
    "\n",
    "  - Se $x_k \\neq 1$, então $x_{k+1} > 1$.\n",
    "  - Se $x_k > 1$, então $x_{k+1} < x_k$.\n",
    "  - Se $x_0 > 0$, então $x_k \\to 1$. (Dica: Use os três fatos anteriores para mostrar que converge, e calcule o limite).\n",
    "  - Se $x_k > 1$, então $|x_{k+1} - 1| < |x_k - 1|^2/2$, logo $x_k$ converge quadraticamente.\n",
    "  - Se $x_k > 1$, então $|f(x_{k+1})| < |f(x_k)|^2/4$, logo $f(x_k)$ converge quadraticamente."
   ]
  },
  {
   "cell_type": "code",
   "execution_count": null,
   "metadata": {},
   "outputs": [],
   "source": []
  }
 ],
 "metadata": {
  "kernelspec": {
   "display_name": "Julia 0.6.3",
   "language": "julia",
   "name": "julia-0.6"
  },
  "language_info": {
   "file_extension": ".jl",
   "mimetype": "application/julia",
   "name": "julia",
   "version": "0.6.3"
  }
 },
 "nbformat": 4,
 "nbformat_minor": 1
}
