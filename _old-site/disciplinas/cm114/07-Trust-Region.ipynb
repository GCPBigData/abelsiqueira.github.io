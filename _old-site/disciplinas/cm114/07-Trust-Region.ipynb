{
 "cells": [
  {
   "cell_type": "markdown",
   "metadata": {},
   "source": [
    "# Região de Confiança\n",
    "\n",
    "A busca linear é apenas uma maneira de controlar o passo do algoritmo. Uma outra estratégia bastante comum é a **região de confiança**.\n",
    "Lembre que nos métodos Quase-Newton fazemos\n",
    "$$ B_k d^k = -\\nabla f(x^k), $$\n",
    "e que isso é equivalente a encontra o minimizador da função\n",
    "$$ m_k(d) = c_k + \\nabla f(x^k)^Td + \\frac{1}{2} d^TB_kd. $$\n",
    "A partir desse ponto reduzimos o tamanho de $\\lambda_k$ até que o passo $\\lambda_kd^k$ satisfaça algumas condições suficientes para garantir convergência global.\n",
    "\n",
    "No caso de $B_k = I$, que gera o método do Gradiente, ou $B_k = \\nabla^2 f(x^k)$,\n",
    "nós vimos que a busca exata e a condição de Armijo funcionam suficientemente bem,\n",
    "e no caso de BFGS, nós usamos a condição de Wolfe, porque queríamos que a matriz\n",
    "fosse definida positiva, e Wolfe garantia isso.\n",
    "\n",
    "Vimos, no entanto, que pode não ser fácil de achar um passo para Wolfe, pois a\n",
    "direção pode não estar boa o suficiente.\n",
    "Mas nesse caso, por que usar a direção? A estratégia de região de confiança nos\n",
    "diz que, se a direção não está boa, é melhor buscar outra.\n",
    "\n",
    "A ideia é muito simples. Se nosso objetivo é minimizar $m_k(d)$ para achar a direção,\n",
    "mas ela pode ser muito grande, vamos limitar o seu tamanho adicionando a restrição\n",
    "$\\Vert d\\Vert \\leq \\Delta_k$. Então nosso problema passa a ser\n",
    "$$ \\min m_k(d) \\qquad \\mbox{suj. a} \\qquad \\Vert d\\Vert \\leq \\Delta_k. $$\n",
    "$\\Delta_k$ um valor positivo chamado de raio da região de confiança.\n",
    "Caso o passo encontrado satisfaça uma condição de decréscimo, nós o aceitamos.\n",
    "Caso contrário, nós reduzimos o raio e procuramos outra direção.\n",
    "\n",
    "A condição de decréscimo é dada pelos valores $\\mbox{Ared} = f(x^k) - f(x^k+d^k)$\n",
    "e $\\mbox{Pred} = m_k(0) - m_k(d^k)$, ditos *redução real* e *redução prevista*.\n",
    "Pred é o quanto o modelo diminui, e o Ared é o quanto a função $f$ diminuiu.\n",
    "Quanto menor for o valor de $f(x^k+d^k)$, maior será Ared. E nós escalamos\n",
    "esse valor pela redução de $m_k$.\n",
    "Para que o passo seja bem sucedido (e o modelo seja considerado bom o suficiente),\n",
    "queremos que a redução de $f$ seja ao menos uma certa fração da redução de $m_k$.\n",
    "Note que Pred é sempre positivo (se $x^k$ não é estacionário), e espera-se que\n",
    "Ared também seja.\n",
    "Nossa condição pode ser escrita como\n",
    "$$ \\rho_k = \\frac{\\mbox{Ared}}{\\mbox{Pred}} \\geq \\eta_1, $$\n",
    "para $\\eta_1 \\in [0,\\frac{1}{4})$, normalmente.\n",
    "Se $\\rho_k \\geq \\eta_1$, então $x^{k+1} = x^k + d^k$, e se $\\rho_k < \\eta_1$,\n",
    "então $x^{k+1} = x^k$ e $\\Delta_{k+1} = \\sigma_1\\Delta_k$, onde $\\sigma_1 \\in (0,1)$.\n",
    "Além disso, se o decréscimo for muito bom, mas a região limitou nossa movimentação,\n",
    "podemos aumentá-la, i.e., se $\\rho_k > \\eta_2$ e $\\Vert d^k\\Vert = \\Delta_k$, então\n",
    "$\\Delta_{k+1} = \\sigma_2\\Delta_k$, com $\\eta_1 < \\eta_2 < 1$ e $\\sigma_2 > 1$.\n",
    "Caso $\\eta_1 < \\rho_k < \\eta_2$, então $\\Delta_{k+1} = \\Delta_k$.\n",
    "\n",
    "O método está definido, mas ainda precisamos encontrar $d^k$.\n",
    "Existem três estratégias principais para isso. São:\n",
    "\n",
    "  - Moré-Sorensen\n",
    "  - Dogleg\n",
    "  - Steihaug\n",
    "\n",
    "Vamos apresentar a primeira."
   ]
  },
  {
   "cell_type": "markdown",
   "metadata": {},
   "source": [
    "\n",
    "## Moré-Sorensen\n",
    "\n",
    "A primeira estratégia foi criada por Moré e Sorensen [1], e consiste na afirmação de que $\\bar{d}$ é a solução de\n",
    "$$ \\min m(d) = c + g^Td + \\frac{1}{2}d^TBd \\qquad \\mbox{suj. a} \\qquad\n",
    "\\Vert d\\Vert \\leq \\Delta$$\n",
    "se e somente $\\bar{d}$ é factível e existe $\\lambda \\geq 0$ tal que\n",
    "\\begin{align}\n",
    "(B + \\lambda I)\\bar{d} & = -g, \\\\\n",
    "\\lambda (\\Delta - \\Vert\\bar{d}\\Vert) & = 0, \\\\\n",
    "(B + \\lambda I) & \\qquad \\mbox{é definida positiva}.\n",
    "\\end{align}"
   ]
  },
  {
   "cell_type": "markdown",
   "metadata": {},
   "source": [
    "O algoritmo consiste então de procurar $\\lambda$ e $\\bar{d}$ satisfazendo essas condição.\n",
    "Pela segunda condição, ou $\\lambda = 0$, ou $\\Vert d\\Vert = \\Delta$.\n",
    "Então, ou o passo está no interior da região, ou devemos achar um $\\lambda$ para que o\n",
    "passo fique exatamente sobre a região."
   ]
  },
  {
   "cell_type": "code",
   "execution_count": 3,
   "metadata": {
    "collapsed": false
   },
   "outputs": [
    {
     "data": {
      "text/plain": [
       "10.0"
      ]
     },
     "execution_count": 3,
     "metadata": {},
     "output_type": "execute_result"
    }
   ],
   "source": [
    "f(x) = (1 - x[1])^2 + 100*(x[2]-x[1]^2)^2\n",
    "∇f(x) = [-2*(1-x[1]) - 400*x[1]*(x[2]-x[1]^2); 200*(x[2]-x[1]^2)]\n",
    "B = [1000 -20; -20 2]; # Essa Hessiana foi inventada\n",
    "x = [1.2;-0.8];\n",
    "Δ = 10.0"
   ]
  },
  {
   "cell_type": "code",
   "execution_count": 4,
   "metadata": {
    "collapsed": false
   },
   "outputs": [
    {
     "data": {
      "text/plain": [
       "-114839.42420000001"
      ]
     },
     "execution_count": 4,
     "metadata": {},
     "output_type": "execute_result"
    }
   ],
   "source": [
    "g = ∇f(x)\n",
    "d = -B\\g\n",
    "dot(d, g) # < 0 => De descida"
   ]
  },
  {
   "cell_type": "code",
   "execution_count": 5,
   "metadata": {
    "collapsed": false
   },
   "outputs": [
    {
     "data": {
      "text/plain": [
       "false"
      ]
     },
     "execution_count": 5,
     "metadata": {},
     "output_type": "execute_result"
    }
   ],
   "source": [
    "norm(d) < Δ"
   ]
  },
  {
   "cell_type": "markdown",
   "metadata": {},
   "source": [
    "O passo não está estritamente dentro da região. Então buscamos $\\lambda$. Chutando algum valor."
   ]
  },
  {
   "cell_type": "code",
   "execution_count": 6,
   "metadata": {
    "collapsed": false
   },
   "outputs": [
    {
     "data": {
      "text/plain": [
       "false"
      ]
     },
     "execution_count": 6,
     "metadata": {},
     "output_type": "execute_result"
    }
   ],
   "source": [
    "λ = 10.0\n",
    "d = -(B+λ*eye(2))\\ g;\n",
    "norm(d) < Δ"
   ]
  },
  {
   "cell_type": "markdown",
   "metadata": {},
   "source": [
    "Esse valor não foi suficiente. Como a direção ainda não está dentro da região, e temos a matriz $(B+\\lambda I)^{-1}$ pesando\n",
    "na direção $d$, se aumentarmos $\\lambda$, devemos diminuir $d$."
   ]
  },
  {
   "cell_type": "code",
   "execution_count": 7,
   "metadata": {
    "collapsed": false
   },
   "outputs": [
    {
     "data": {
      "text/plain": [
       "36.77355594359027"
      ]
     },
     "execution_count": 7,
     "metadata": {},
     "output_type": "execute_result"
    }
   ],
   "source": [
    "norm(d)"
   ]
  },
  {
   "cell_type": "code",
   "execution_count": 8,
   "metadata": {
    "collapsed": false
   },
   "outputs": [
    {
     "data": {
      "text/plain": [
       "4.310705795626762"
      ]
     },
     "execution_count": 8,
     "metadata": {},
     "output_type": "execute_result"
    }
   ],
   "source": [
    "λ = 100\n",
    "d = -(B+λ*eye(2))\\g;\n",
    "norm(d)"
   ]
  },
  {
   "cell_type": "code",
   "execution_count": 9,
   "metadata": {
    "collapsed": false
   },
   "outputs": [
    {
     "data": {
      "text/plain": [
       "true"
      ]
     },
     "execution_count": 9,
     "metadata": {},
     "output_type": "execute_result"
    }
   ],
   "source": [
    "norm(d) < Δ"
   ]
  },
  {
   "cell_type": "markdown",
   "metadata": {},
   "source": [
    "Agora o passo está dentro. Mas queremos sobre a borda da região, isto é, $\\Vert d\\Vert = \\Delta$. Vamos diminuir $\\lambda$."
   ]
  },
  {
   "cell_type": "code",
   "execution_count": 10,
   "metadata": {
    "collapsed": false
   },
   "outputs": [
    {
     "data": {
      "text/plain": [
       "8.32728449641729"
      ]
     },
     "execution_count": 10,
     "metadata": {},
     "output_type": "execute_result"
    }
   ],
   "source": [
    "λ = 50\n",
    "d = -(B+λ*eye(2))\\g;\n",
    "norm(d)"
   ]
  },
  {
   "cell_type": "markdown",
   "metadata": {},
   "source": [
    "Agora que você já entendeu o processo, vou sair chutando valores."
   ]
  },
  {
   "cell_type": "code",
   "execution_count": 11,
   "metadata": {
    "collapsed": false
   },
   "outputs": [
    {
     "data": {
      "text/plain": [
       "13.533908555866484"
      ]
     },
     "execution_count": 11,
     "metadata": {},
     "output_type": "execute_result"
    }
   ],
   "source": [
    "λ = 30\n",
    "d = -(B+λ*eye(2))\\g;\n",
    "norm(d)"
   ]
  },
  {
   "cell_type": "code",
   "execution_count": 12,
   "metadata": {
    "collapsed": false
   },
   "outputs": [
    {
     "data": {
      "text/plain": [
       "10.302244977244742"
      ]
     },
     "execution_count": 12,
     "metadata": {},
     "output_type": "execute_result"
    }
   ],
   "source": [
    "λ = 40\n",
    "d = -(B+λ*eye(2))\\g;\n",
    "norm(d)"
   ]
  },
  {
   "cell_type": "code",
   "execution_count": 13,
   "metadata": {
    "collapsed": false
   },
   "outputs": [
    {
     "data": {
      "text/plain": [
       "9.20826154617898"
      ]
     },
     "execution_count": 13,
     "metadata": {},
     "output_type": "execute_result"
    }
   ],
   "source": [
    "λ = 45\n",
    "d = -(B+λ*eye(2))\\g;\n",
    "norm(d)"
   ]
  },
  {
   "cell_type": "code",
   "execution_count": 14,
   "metadata": {
    "collapsed": false
   },
   "outputs": [
    {
     "data": {
      "text/plain": [
       "9.724096693352282"
      ]
     },
     "execution_count": 14,
     "metadata": {},
     "output_type": "execute_result"
    }
   ],
   "source": [
    "λ = 42.5\n",
    "d = -(B+λ*eye(2))\\g;\n",
    "norm(d)"
   ]
  },
  {
   "cell_type": "code",
   "execution_count": 15,
   "metadata": {
    "collapsed": false
   },
   "outputs": [
    {
     "data": {
      "text/plain": [
       "10.062805621460463"
      ]
     },
     "execution_count": 15,
     "metadata": {},
     "output_type": "execute_result"
    }
   ],
   "source": [
    "λ = 41\n",
    "d = -(B+λ*eye(2))\\g;\n",
    "norm(d)"
   ]
  },
  {
   "cell_type": "code",
   "execution_count": 16,
   "metadata": {
    "collapsed": false
   },
   "outputs": [
    {
     "data": {
      "text/plain": [
       "9.94727090376149"
      ]
     },
     "execution_count": 16,
     "metadata": {},
     "output_type": "execute_result"
    }
   ],
   "source": [
    "λ = 41.5\n",
    "d = -(B+λ*eye(2))\\g;\n",
    "norm(d)"
   ]
  },
  {
   "cell_type": "code",
   "execution_count": 17,
   "metadata": {
    "collapsed": false
   },
   "outputs": [
    {
     "data": {
      "text/plain": [
       "10.016266328558187"
      ]
     },
     "execution_count": 17,
     "metadata": {},
     "output_type": "execute_result"
    }
   ],
   "source": [
    "λ = 41.2\n",
    "d = -(B+λ*eye(2))\\g;\n",
    "norm(d)"
   ]
  },
  {
   "cell_type": "markdown",
   "metadata": {},
   "source": [
    "E assim por diante. O valor mais próximo até agora foi $\\lambda = 41.2$, e uma\n",
    "estratégia para achar $\\lambda$ é fazer a busca em bissecção.\n",
    "\n",
    "Um primeiro código:"
   ]
  },
  {
   "cell_type": "code",
   "execution_count": 18,
   "metadata": {
    "collapsed": false
   },
   "outputs": [
    {
     "data": {
      "text/plain": [
       "more_sorensen (generic function with 1 method)"
      ]
     },
     "execution_count": 18,
     "metadata": {},
     "output_type": "execute_result"
    }
   ],
   "source": [
    "function more_sorensen(B, g, Δ; tol = 1e-5)\n",
    "    d = -B\\g\n",
    "    Id = eye(length(g))\n",
    "    # Verificando se λ = 0.\n",
    "    if norm(d) < Δ\n",
    "        return d, 0.0\n",
    "    end\n",
    "    \n",
    "    # Agora precisamos achar um limitante superior para λ\n",
    "    λhigh = 1.0\n",
    "    λlow = 0.0\n",
    "    d = -(B+λhigh*Id)\\g\n",
    "    while norm(d) > Δ\n",
    "        λlow = λhigh # Se não é limitante superior, é inferior.\n",
    "        λhigh *= 10.0\n",
    "        d = -(B+λhigh*Id)\\g\n",
    "    end\n",
    "    # Agora a bissecção\n",
    "    λ = (λlow + λhigh)/2\n",
    "    d = -(B+λ*Id)\\g\n",
    "    while abs(norm(d) - Δ) > tol\n",
    "        if norm(d) > Δ\n",
    "            λlow = λ\n",
    "        else\n",
    "            λhigh = λ\n",
    "        end\n",
    "        λ = (λlow + λhigh)/2\n",
    "        d = -(B+λ*Id)\\g\n",
    "    end\n",
    "    return d, λ\n",
    "end"
   ]
  },
  {
   "cell_type": "code",
   "execution_count": 19,
   "metadata": {
    "collapsed": false
   },
   "outputs": [
    {
     "data": {
      "text/plain": [
       "([-0.841577,9.96452],41.27035140991211)"
      ]
     },
     "execution_count": 19,
     "metadata": {},
     "output_type": "execute_result"
    }
   ],
   "source": [
    "d, λ = more_sorensen(B, g, Δ)"
   ]
  },
  {
   "cell_type": "markdown",
   "metadata": {},
   "source": [
    "Note que $\\lambda$ realmente estava bem próximo de 41.2."
   ]
  },
  {
   "cell_type": "markdown",
   "metadata": {},
   "source": [
    "Note que para cada chute do valor de $\\lambda$, precisamos resolver um sistema linear. Então esse método não é muito eficiente.\n",
    "Existem outros métodos para resolver o problema quadrático de região de confiança, sendo que os mais famosos são o de Dogleg e o de Steihaug."
   ]
  },
  {
   "cell_type": "markdown",
   "metadata": {},
   "source": [
    "## Referências\n",
    "\n",
    "  - [1] J. J. Moré e D. C. Sorensen, _Computing a trust region step_, SIAM Journal on Scientific and Statistical Computing, 4 (1983), pp. 553-572."
   ]
  }
 ],
 "metadata": {
  "kernelspec": {
   "display_name": "Julia 0.3.11",
   "language": "julia",
   "name": "julia-0.3"
  },
  "language_info": {
   "file_extension": ".jl",
   "mimetype": "application/julia",
   "name": "julia",
   "version": "0.3.11"
  }
 },
 "nbformat": 4,
 "nbformat_minor": 0
}
