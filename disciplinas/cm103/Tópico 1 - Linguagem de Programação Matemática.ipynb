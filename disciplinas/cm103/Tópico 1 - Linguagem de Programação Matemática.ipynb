{
 "cells": [
  {
   "cell_type": "markdown",
   "metadata": {},
   "source": [
    "# Introdução à Linguagem Julia\n",
    "\n",
    "Julia é uma linguagem dinâmica de alto nível e alto desempenho.\n",
    "Ela se assemelha ao MatLab e ao Python na facilidade de escrita\n",
    "de código, mas sua velocidade pode ser comparável ao C e Fortran.\n",
    "\n",
    "A versão mais atual do Julia é a **0.6**."
   ]
  },
  {
   "cell_type": "markdown",
   "metadata": {},
   "source": [
    "# Jupyter\n",
    "\n",
    "O Jupyter é uma interface web para Julia, Python, e muitas outras.\n",
    "Ela **não** é o Julia, isto é, o Julia não depende do Jupyter para\n",
    "funcionar. No entanto, usando o Jupyter, aulas e apresentações\n",
    "ficam mais práticas.\n",
    "\n",
    "Cada *célula* do Jupyter pode ser executada com um `ctrl+enter`, ou\n",
    "um `ctrl+shift`, sendo que o último move a seleção para a célula de\n",
    "baixo.\n",
    "Você pode adicionar novas células usando o `+` no topo da página."
   ]
  },
  {
   "cell_type": "markdown",
   "metadata": {},
   "source": [
    "# O REPL - Terminal Interativo\n",
    "\n",
    "Ao abrir o Julia no Windows, ou digitar `julia` no terminal do Mac\n",
    "ou Linux, se abrirá um prompt tipo\n",
    "\n",
    "````julia\n",
    "julia>\n",
    "````\n",
    "\n",
    "O Jupyter também serve como esse prompt e todo comando digitado aqui\n",
    "pode ser digitado lá."
   ]
  },
  {
   "cell_type": "markdown",
   "metadata": {},
   "source": [
    "# Editor: JunoLab ou Atom\n",
    "\n",
    "[JunoLab](http://junolab.org/) é o editor oficial de Julia. Ainda não está 100%, mas já está usável.\n",
    "Você pode usar outros editores, mas o suporte à caracteres especiais é quase que exclusivo de um punhado.\n",
    "Em especial, o JunoLab é um dos melhores para isso.\n",
    "\n",
    "O JunoLab é feito em cima do [Atom](http://atom.io). Você pode baixar o Atom e instalar os pacotes específicos, se preferir ter mais controle."
   ]
  },
  {
   "cell_type": "markdown",
   "metadata": {},
   "source": [
    "## Jupyter vs Editor\n",
    "\n",
    "O Jupyter é utilizado para aulas, apresentações, workshops. A parte importante é a interatividade.\n",
    "\n",
    "O editor é usado para fazer códigos sérios. Para desenvolver os exercícios, projetos, e futuros pacotes, é necessário criar arquivos e ter um ambiente adequado."
   ]
  },
  {
   "cell_type": "markdown",
   "metadata": {},
   "source": [
    "# Básico"
   ]
  },
  {
   "cell_type": "code",
   "execution_count": 1,
   "metadata": {},
   "outputs": [
    {
     "data": {
      "text/plain": [
       "5"
      ]
     },
     "execution_count": 1,
     "metadata": {},
     "output_type": "execute_result"
    }
   ],
   "source": [
    "2 + 3"
   ]
  },
  {
   "cell_type": "code",
   "execution_count": 2,
   "metadata": {},
   "outputs": [
    {
     "data": {
      "text/plain": [
       "15"
      ]
     },
     "execution_count": 2,
     "metadata": {},
     "output_type": "execute_result"
    }
   ],
   "source": [
    "3 * 5"
   ]
  },
  {
   "cell_type": "code",
   "execution_count": 3,
   "metadata": {},
   "outputs": [
    {
     "data": {
      "text/plain": [
       "343"
      ]
     },
     "execution_count": 3,
     "metadata": {},
     "output_type": "execute_result"
    }
   ],
   "source": [
    "7 ^ 3"
   ]
  },
  {
   "cell_type": "code",
   "execution_count": 4,
   "metadata": {},
   "outputs": [
    {
     "data": {
      "text/plain": [
       "7.38905609893065"
      ]
     },
     "execution_count": 4,
     "metadata": {},
     "output_type": "execute_result"
    }
   ],
   "source": [
    "exp(2)"
   ]
  },
  {
   "cell_type": "code",
   "execution_count": 5,
   "metadata": {},
   "outputs": [
    {
     "data": {
      "text/plain": [
       "0.7071063120935576"
      ]
     },
     "execution_count": 5,
     "metadata": {},
     "output_type": "execute_result"
    }
   ],
   "source": [
    "sin(3.14159/4)"
   ]
  },
  {
   "cell_type": "code",
   "execution_count": 6,
   "metadata": {},
   "outputs": [
    {
     "data": {
      "text/plain": [
       "π = 3.1415926535897..."
      ]
     },
     "execution_count": 6,
     "metadata": {},
     "output_type": "execute_result"
    }
   ],
   "source": [
    "pi"
   ]
  },
  {
   "cell_type": "code",
   "execution_count": 7,
   "metadata": {},
   "outputs": [
    {
     "data": {
      "text/plain": [
       "0.7071067811865475"
      ]
     },
     "execution_count": 7,
     "metadata": {},
     "output_type": "execute_result"
    }
   ],
   "source": [
    "sin(pi/4)"
   ]
  },
  {
   "cell_type": "code",
   "execution_count": 8,
   "metadata": {},
   "outputs": [
    {
     "data": {
      "text/plain": [
       "1.0"
      ]
     },
     "execution_count": 8,
     "metadata": {},
     "output_type": "execute_result"
    }
   ],
   "source": [
    "round(1.2)"
   ]
  },
  {
   "cell_type": "code",
   "execution_count": 9,
   "metadata": {},
   "outputs": [
    {
     "data": {
      "text/plain": [
       "3"
      ]
     },
     "execution_count": 9,
     "metadata": {},
     "output_type": "execute_result"
    }
   ],
   "source": [
    "abs(-3)"
   ]
  },
  {
   "cell_type": "code",
   "execution_count": 10,
   "metadata": {},
   "outputs": [
    {
     "data": {
      "text/plain": [
       "3"
      ]
     },
     "execution_count": 10,
     "metadata": {},
     "output_type": "execute_result"
    }
   ],
   "source": [
    "x = 3"
   ]
  },
  {
   "cell_type": "code",
   "execution_count": 11,
   "metadata": {},
   "outputs": [
    {
     "data": {
      "text/plain": [
       "9"
      ]
     },
     "execution_count": 11,
     "metadata": {},
     "output_type": "execute_result"
    }
   ],
   "source": [
    "x ^ 2"
   ]
  },
  {
   "cell_type": "code",
   "execution_count": 12,
   "metadata": {},
   "outputs": [
    {
     "data": {
      "text/plain": [
       "6"
      ]
     },
     "execution_count": 12,
     "metadata": {},
     "output_type": "execute_result"
    }
   ],
   "source": [
    "y = 2x"
   ]
  },
  {
   "cell_type": "code",
   "execution_count": 13,
   "metadata": {},
   "outputs": [
    {
     "data": {
      "text/plain": [
       "3"
      ]
     },
     "execution_count": 13,
     "metadata": {},
     "output_type": "execute_result"
    }
   ],
   "source": [
    "y - x"
   ]
  },
  {
   "cell_type": "code",
   "execution_count": 14,
   "metadata": {},
   "outputs": [
    {
     "data": {
      "text/plain": [
       "0.01"
      ]
     },
     "execution_count": 14,
     "metadata": {},
     "output_type": "execute_result"
    }
   ],
   "source": [
    "1e-2 # 10⁻²"
   ]
  },
  {
   "cell_type": "code",
   "execution_count": 15,
   "metadata": {},
   "outputs": [
    {
     "data": {
      "text/plain": [
       "1000.0"
      ]
     },
     "execution_count": 15,
     "metadata": {},
     "output_type": "execute_result"
    }
   ],
   "source": [
    "1e3 # 10³"
   ]
  },
  {
   "cell_type": "code",
   "execution_count": 16,
   "metadata": {},
   "outputs": [
    {
     "data": {
      "text/plain": [
       "5.551115123125783e-17"
      ]
     },
     "execution_count": 16,
     "metadata": {},
     "output_type": "execute_result"
    }
   ],
   "source": [
    "0.1 + 0.2 - 0.3"
   ]
  },
  {
   "cell_type": "markdown",
   "metadata": {},
   "source": [
    "# Álgebra Linear Numérica"
   ]
  },
  {
   "cell_type": "code",
   "execution_count": 17,
   "metadata": {},
   "outputs": [
    {
     "data": {
      "text/plain": [
       "3-element Array{Float64,1}:\n",
       " 0.350398\n",
       " 0.514159\n",
       " 0.659049"
      ]
     },
     "execution_count": 17,
     "metadata": {},
     "output_type": "execute_result"
    }
   ],
   "source": [
    "rand(3)"
   ]
  },
  {
   "cell_type": "code",
   "execution_count": 18,
   "metadata": {},
   "outputs": [
    {
     "data": {
      "text/plain": [
       "3-element Array{Float64,1}:\n",
       " 1.0\n",
       " 1.0\n",
       " 1.0"
      ]
     },
     "execution_count": 18,
     "metadata": {},
     "output_type": "execute_result"
    }
   ],
   "source": [
    "ones(3)"
   ]
  },
  {
   "cell_type": "code",
   "execution_count": 19,
   "metadata": {},
   "outputs": [
    {
     "data": {
      "text/plain": [
       "3-element Array{Float64,1}:\n",
       " 0.0\n",
       " 0.0\n",
       " 0.0"
      ]
     },
     "execution_count": 19,
     "metadata": {},
     "output_type": "execute_result"
    }
   ],
   "source": [
    "zeros(3)"
   ]
  },
  {
   "cell_type": "code",
   "execution_count": 20,
   "metadata": {},
   "outputs": [
    {
     "data": {
      "text/plain": [
       "2×4 Array{Float64,2}:\n",
       " 0.795541  0.442026  0.0479834  0.983451\n",
       " 0.44555   0.224157  0.871155   0.257438"
      ]
     },
     "execution_count": 20,
     "metadata": {},
     "output_type": "execute_result"
    }
   ],
   "source": [
    "rand(2,4)"
   ]
  },
  {
   "cell_type": "code",
   "execution_count": 21,
   "metadata": {},
   "outputs": [
    {
     "data": {
      "text/plain": [
       "3-element Array{Float64,1}:\n",
       " 0.572392\n",
       " 0.44537 \n",
       " 0.094041"
      ]
     },
     "execution_count": 21,
     "metadata": {},
     "output_type": "execute_result"
    }
   ],
   "source": [
    "v = rand(3)"
   ]
  },
  {
   "cell_type": "code",
   "execution_count": 22,
   "metadata": {},
   "outputs": [
    {
     "data": {
      "text/plain": [
       "2×3 Array{Float64,2}:\n",
       " 0.41056  0.799922  0.966986\n",
       " 0.47444  0.327865  0.401695"
      ]
     },
     "execution_count": 22,
     "metadata": {},
     "output_type": "execute_result"
    }
   ],
   "source": [
    "A = rand(2, 3)"
   ]
  },
  {
   "cell_type": "code",
   "execution_count": 23,
   "metadata": {},
   "outputs": [
    {
     "data": {
      "text/plain": [
       "2-element Array{Float64,1}:\n",
       " 0.682198\n",
       " 0.455362"
      ]
     },
     "execution_count": 23,
     "metadata": {},
     "output_type": "execute_result"
    }
   ],
   "source": [
    "A * v"
   ]
  },
  {
   "cell_type": "code",
   "execution_count": 24,
   "metadata": {},
   "outputs": [
    {
     "data": {
      "text/plain": [
       "2-element Array{Float64,1}:\n",
       " 0.807973 \n",
       " 0.0975086"
      ]
     },
     "execution_count": 24,
     "metadata": {},
     "output_type": "execute_result"
    }
   ],
   "source": [
    "w = rand(2)"
   ]
  },
  {
   "cell_type": "code",
   "execution_count": 25,
   "metadata": {},
   "outputs": [
    {
     "data": {
      "text/plain": [
       "3-element Array{Float64,1}:\n",
       " 0.377983\n",
       " 0.678285\n",
       " 0.820467"
      ]
     },
     "execution_count": 25,
     "metadata": {},
     "output_type": "execute_result"
    }
   ],
   "source": [
    "A' * w"
   ]
  },
  {
   "cell_type": "code",
   "execution_count": 26,
   "metadata": {},
   "outputs": [
    {
     "data": {
      "text/plain": [
       "2×3 Array{Float64,2}:\n",
       " 0.595522  0.234415  0.32132\n",
       " 0.445748  0.891878  0.38686"
      ]
     },
     "execution_count": 26,
     "metadata": {},
     "output_type": "execute_result"
    }
   ],
   "source": [
    "B = rand(2, 3)"
   ]
  },
  {
   "cell_type": "code",
   "execution_count": 27,
   "metadata": {},
   "outputs": [
    {
     "data": {
      "text/plain": [
       "2×3 Array{Float64,2}:\n",
       " 1.00608   1.03434  1.28831 \n",
       " 0.920188  1.21974  0.788555"
      ]
     },
     "execution_count": 27,
     "metadata": {},
     "output_type": "execute_result"
    }
   ],
   "source": [
    "A + B"
   ]
  },
  {
   "cell_type": "code",
   "execution_count": 28,
   "metadata": {},
   "outputs": [
    {
     "data": {
      "text/plain": [
       "2×2 Array{Float64,2}:\n",
       " 0.742723  1.27053 \n",
       " 0.488468  0.659296"
      ]
     },
     "execution_count": 28,
     "metadata": {},
     "output_type": "execute_result"
    }
   ],
   "source": [
    "A * B'"
   ]
  },
  {
   "cell_type": "code",
   "execution_count": 29,
   "metadata": {},
   "outputs": [
    {
     "data": {
      "text/plain": [
       "3×3 Array{Float64,2}:\n",
       " 0.455978  0.519384  0.315463\n",
       " 0.622516  0.479929  0.383869\n",
       " 0.754916  0.584939  0.466112"
      ]
     },
     "execution_count": 29,
     "metadata": {},
     "output_type": "execute_result"
    }
   ],
   "source": [
    "A' * B"
   ]
  },
  {
   "cell_type": "code",
   "execution_count": 30,
   "metadata": {},
   "outputs": [
    {
     "data": {
      "text/plain": [
       "3-element Array{Float64,1}:\n",
       " -0.823209\n",
       "  0.910305\n",
       "  0.531079"
      ]
     },
     "execution_count": 30,
     "metadata": {},
     "output_type": "execute_result"
    }
   ],
   "source": [
    "A = rand(3, 3)\n",
    "b = rand(3)\n",
    "x = A\\b # Resolve o SL"
   ]
  },
  {
   "cell_type": "code",
   "execution_count": 31,
   "metadata": {},
   "outputs": [
    {
     "data": {
      "text/plain": [
       "3-element Array{Float64,1}:\n",
       " -1.11022e-16\n",
       "  0.0        \n",
       "  0.0        "
      ]
     },
     "execution_count": 31,
     "metadata": {},
     "output_type": "execute_result"
    }
   ],
   "source": [
    "A * x - b # É pra ser zero (ou quase)"
   ]
  },
  {
   "cell_type": "code",
   "execution_count": 32,
   "metadata": {},
   "outputs": [
    {
     "data": {
      "text/plain": [
       "1.1102230246251565e-16"
      ]
     },
     "execution_count": 32,
     "metadata": {},
     "output_type": "execute_result"
    }
   ],
   "source": [
    "norm(A*x-b) # norm = ‖ ⋅ ‖"
   ]
  },
  {
   "cell_type": "code",
   "execution_count": 33,
   "metadata": {},
   "outputs": [
    {
     "data": {
      "text/plain": [
       "4.0"
      ]
     },
     "execution_count": 33,
     "metadata": {},
     "output_type": "execute_result"
    }
   ],
   "source": [
    "v = [1.0; 2.0; 3.0]\n",
    "w = [2.0; -2.0; 2.0]\n",
    "dot(v, w) # ⟨v,w⟩"
   ]
  },
  {
   "cell_type": "code",
   "execution_count": 34,
   "metadata": {},
   "outputs": [
    {
     "data": {
      "text/plain": [
       "0.21218297054299742"
      ]
     },
     "execution_count": 34,
     "metadata": {},
     "output_type": "execute_result"
    }
   ],
   "source": [
    "det(A)"
   ]
  },
  {
   "cell_type": "code",
   "execution_count": 35,
   "metadata": {},
   "outputs": [
    {
     "data": {
      "text/plain": [
       "3×3 Array{Float64,2}:\n",
       " 0.56554   1.19326  1.41081\n",
       " 0.777248  1.21742  1.54391\n",
       " 0.552344  1.01042  1.04457"
      ]
     },
     "execution_count": 35,
     "metadata": {},
     "output_type": "execute_result"
    }
   ],
   "source": [
    "A^2 # A * A"
   ]
  },
  {
   "cell_type": "code",
   "execution_count": 36,
   "metadata": {},
   "outputs": [
    {
     "data": {
      "text/plain": [
       "3×3 Array{Float64,2}:\n",
       " 0.179817    0.221116  0.93604 \n",
       " 0.441899    0.45096   0.419376\n",
       " 0.00571436  0.491217  0.517554"
      ]
     },
     "execution_count": 36,
     "metadata": {},
     "output_type": "execute_result"
    }
   ],
   "source": [
    "A .^ 2 # Cada elemento de A ao quadrado"
   ]
  },
  {
   "cell_type": "code",
   "execution_count": 37,
   "metadata": {},
   "outputs": [
    {
     "data": {
      "text/plain": [
       "3×3 Array{Float64,2}:\n",
       " 0.682198  0.499738  0.675457\n",
       " 0.971866  0.894187  0.523147\n",
       " 0.930078  0.96188   0.789846"
      ]
     },
     "execution_count": 37,
     "metadata": {},
     "output_type": "execute_result"
    }
   ],
   "source": [
    "B = rand(3, 3)"
   ]
  },
  {
   "cell_type": "code",
   "execution_count": 38,
   "metadata": {},
   "outputs": [
    {
     "data": {
      "text/plain": [
       "3×3 Array{Float64,2}:\n",
       " 0.289285   0.234992  0.653499\n",
       " 0.646053   0.600478  0.338786\n",
       " 0.0703078  0.674151  0.568225"
      ]
     },
     "execution_count": 38,
     "metadata": {},
     "output_type": "execute_result"
    }
   ],
   "source": [
    "A .* B"
   ]
  },
  {
   "cell_type": "markdown",
   "metadata": {},
   "source": [
    "## Acesso aos elementos"
   ]
  },
  {
   "cell_type": "code",
   "execution_count": 39,
   "metadata": {},
   "outputs": [
    {
     "data": {
      "text/plain": [
       "3-element Array{Float64,1}:\n",
       " 1.0\n",
       " 2.0\n",
       " 3.0"
      ]
     },
     "execution_count": 39,
     "metadata": {},
     "output_type": "execute_result"
    }
   ],
   "source": [
    "v"
   ]
  },
  {
   "cell_type": "code",
   "execution_count": 40,
   "metadata": {},
   "outputs": [
    {
     "data": {
      "text/plain": [
       "1.0"
      ]
     },
     "execution_count": 40,
     "metadata": {},
     "output_type": "execute_result"
    }
   ],
   "source": [
    "v[1]"
   ]
  },
  {
   "cell_type": "code",
   "execution_count": 41,
   "metadata": {},
   "outputs": [
    {
     "data": {
      "text/plain": [
       "2.0"
      ]
     },
     "execution_count": 41,
     "metadata": {},
     "output_type": "execute_result"
    }
   ],
   "source": [
    "v[2]"
   ]
  },
  {
   "cell_type": "code",
   "execution_count": 42,
   "metadata": {},
   "outputs": [
    {
     "data": {
      "text/plain": [
       "3×3 Array{Float64,2}:\n",
       " 0.424048   0.47023   0.967492\n",
       " 0.664755   0.671535  0.647592\n",
       " 0.0755934  0.700868  0.719413"
      ]
     },
     "execution_count": 42,
     "metadata": {},
     "output_type": "execute_result"
    }
   ],
   "source": [
    "A"
   ]
  },
  {
   "cell_type": "code",
   "execution_count": 43,
   "metadata": {},
   "outputs": [
    {
     "data": {
      "text/plain": [
       "0.42404813445015854"
      ]
     },
     "execution_count": 43,
     "metadata": {},
     "output_type": "execute_result"
    }
   ],
   "source": [
    "A[1,1]"
   ]
  },
  {
   "cell_type": "code",
   "execution_count": 44,
   "metadata": {},
   "outputs": [
    {
     "data": {
      "text/plain": [
       "0.6475922002498047"
      ]
     },
     "execution_count": 44,
     "metadata": {},
     "output_type": "execute_result"
    }
   ],
   "source": [
    "A[2,3]"
   ]
  },
  {
   "cell_type": "code",
   "execution_count": 45,
   "metadata": {},
   "outputs": [
    {
     "data": {
      "text/plain": [
       "2-element Array{Float64,1}:\n",
       " 1.0\n",
       " 2.0"
      ]
     },
     "execution_count": 45,
     "metadata": {},
     "output_type": "execute_result"
    }
   ],
   "source": [
    "v[1:2]"
   ]
  },
  {
   "cell_type": "code",
   "execution_count": 46,
   "metadata": {},
   "outputs": [
    {
     "data": {
      "text/plain": [
       "3-element Array{Float64,1}:\n",
       " 0.47023 \n",
       " 0.671535\n",
       " 0.700868"
      ]
     },
     "execution_count": 46,
     "metadata": {},
     "output_type": "execute_result"
    }
   ],
   "source": [
    "A[:,2]"
   ]
  },
  {
   "cell_type": "code",
   "execution_count": 47,
   "metadata": {},
   "outputs": [
    {
     "data": {
      "text/plain": [
       "3-element Array{Float64,1}:\n",
       " 0.424048\n",
       " 0.47023 \n",
       " 0.967492"
      ]
     },
     "execution_count": 47,
     "metadata": {},
     "output_type": "execute_result"
    }
   ],
   "source": [
    "A[1,:]"
   ]
  },
  {
   "cell_type": "code",
   "execution_count": 48,
   "metadata": {},
   "outputs": [
    {
     "data": {
      "text/plain": [
       "0.0"
      ]
     },
     "execution_count": 48,
     "metadata": {},
     "output_type": "execute_result"
    }
   ],
   "source": [
    "A[2,3] = 0.0"
   ]
  },
  {
   "cell_type": "code",
   "execution_count": 49,
   "metadata": {},
   "outputs": [
    {
     "data": {
      "text/plain": [
       "3×3 Array{Float64,2}:\n",
       " 0.424048   0.47023   0.967492\n",
       " 0.664755   0.671535  0.0     \n",
       " 0.0755934  0.700868  0.719413"
      ]
     },
     "execution_count": 49,
     "metadata": {},
     "output_type": "execute_result"
    }
   ],
   "source": [
    "A"
   ]
  },
  {
   "cell_type": "code",
   "execution_count": 50,
   "metadata": {},
   "outputs": [
    {
     "data": {
      "text/plain": [
       "3×3 Array{Float64,2}:\n",
       " 1.0  0.0  0.0\n",
       " 0.0  1.0  0.0\n",
       " 0.0  0.0  1.0"
      ]
     },
     "execution_count": 50,
     "metadata": {},
     "output_type": "execute_result"
    }
   ],
   "source": [
    "eye(3)"
   ]
  },
  {
   "cell_type": "code",
   "execution_count": 51,
   "metadata": {},
   "outputs": [
    {
     "data": {
      "text/plain": [
       "(3, 3)"
      ]
     },
     "execution_count": 51,
     "metadata": {},
     "output_type": "execute_result"
    }
   ],
   "source": [
    "m, n = size(A)"
   ]
  },
  {
   "cell_type": "code",
   "execution_count": 52,
   "metadata": {},
   "outputs": [
    {
     "data": {
      "text/plain": [
       "3"
      ]
     },
     "execution_count": 52,
     "metadata": {},
     "output_type": "execute_result"
    }
   ],
   "source": [
    "length(v)"
   ]
  },
  {
   "cell_type": "markdown",
   "metadata": {},
   "source": [
    "## Matriz por blocos - concatenação"
   ]
  },
  {
   "cell_type": "code",
   "execution_count": 53,
   "metadata": {},
   "outputs": [
    {
     "data": {
      "text/plain": [
       "5×5 Array{Float64,2}:\n",
       " 0.944459  0.844505  0.255139  0.0  0.0\n",
       " 0.857345  0.543631  0.628035  0.0  0.0\n",
       " 0.460525  0.594981  0.694926  0.0  0.0\n",
       " 1.0       1.0       1.0       1.0  0.0\n",
       " 1.0       1.0       1.0       0.0  1.0"
      ]
     },
     "execution_count": 53,
     "metadata": {},
     "output_type": "execute_result"
    }
   ],
   "source": [
    "[rand(3,3) zeros(3,2); ones(2,3) eye(2,2)]"
   ]
  },
  {
   "cell_type": "markdown",
   "metadata": {},
   "source": [
    "# Funções"
   ]
  },
  {
   "cell_type": "code",
   "execution_count": 54,
   "metadata": {},
   "outputs": [
    {
     "data": {
      "text/plain": [
       "4"
      ]
     },
     "execution_count": 54,
     "metadata": {},
     "output_type": "execute_result"
    }
   ],
   "source": [
    "f(x) = x^2\n",
    "f(2)"
   ]
  },
  {
   "cell_type": "code",
   "execution_count": 55,
   "metadata": {},
   "outputs": [
    {
     "data": {
      "text/plain": [
       "9"
      ]
     },
     "execution_count": 55,
     "metadata": {},
     "output_type": "execute_result"
    }
   ],
   "source": [
    "f(-3)"
   ]
  },
  {
   "cell_type": "code",
   "execution_count": 56,
   "metadata": {},
   "outputs": [
    {
     "data": {
      "text/plain": [
       "g (generic function with 1 method)"
      ]
     },
     "execution_count": 56,
     "metadata": {},
     "output_type": "execute_result"
    }
   ],
   "source": [
    "g(a,b) = exp(a + b)"
   ]
  },
  {
   "cell_type": "code",
   "execution_count": 57,
   "metadata": {},
   "outputs": [
    {
     "data": {
      "text/plain": [
       "148.4131591025766"
      ]
     },
     "execution_count": 57,
     "metadata": {},
     "output_type": "execute_result"
    }
   ],
   "source": [
    "g(2,3)"
   ]
  },
  {
   "cell_type": "code",
   "execution_count": 58,
   "metadata": {},
   "outputs": [
    {
     "data": {
      "text/plain": [
       "1.0"
      ]
     },
     "execution_count": 58,
     "metadata": {},
     "output_type": "execute_result"
    }
   ],
   "source": [
    "g(3,-3)"
   ]
  },
  {
   "cell_type": "code",
   "execution_count": 59,
   "metadata": {},
   "outputs": [
    {
     "data": {
      "text/plain": [
       "(::#3) (generic function with 1 method)"
      ]
     },
     "execution_count": 59,
     "metadata": {},
     "output_type": "execute_result"
    }
   ],
   "source": [
    "h = x -> sin(x)"
   ]
  },
  {
   "cell_type": "code",
   "execution_count": 60,
   "metadata": {},
   "outputs": [
    {
     "data": {
      "text/plain": [
       "0.9092974268256817"
      ]
     },
     "execution_count": 60,
     "metadata": {},
     "output_type": "execute_result"
    }
   ],
   "source": [
    "h(2)"
   ]
  },
  {
   "cell_type": "code",
   "execution_count": 61,
   "metadata": {},
   "outputs": [
    {
     "data": {
      "text/plain": [
       "aprox_der (generic function with 1 method)"
      ]
     },
     "execution_count": 61,
     "metadata": {},
     "output_type": "execute_result"
    }
   ],
   "source": [
    "function aprox_der(f, a, h)\n",
    "    (f(a+h) - f(a))/h\n",
    "end"
   ]
  },
  {
   "cell_type": "code",
   "execution_count": 62,
   "metadata": {},
   "outputs": [
    {
     "data": {
      "text/plain": [
       "0.8660254013914681"
      ]
     },
     "execution_count": 62,
     "metadata": {},
     "output_type": "execute_result"
    }
   ],
   "source": [
    "aprox_der(h, pi/6, 1e-8)"
   ]
  },
  {
   "cell_type": "code",
   "execution_count": 63,
   "metadata": {},
   "outputs": [
    {
     "data": {
      "text/plain": [
       "aprox_der (generic function with 2 methods)"
      ]
     },
     "execution_count": 63,
     "metadata": {},
     "output_type": "execute_result"
    }
   ],
   "source": [
    "function aprox_der(f, a, h = 1e-8)\n",
    "    (f(a+h) - f(a))/h\n",
    "end"
   ]
  },
  {
   "cell_type": "code",
   "execution_count": 64,
   "metadata": {},
   "outputs": [
    {
     "data": {
      "text/plain": [
       "0.8660254013914681"
      ]
     },
     "execution_count": 64,
     "metadata": {},
     "output_type": "execute_result"
    }
   ],
   "source": [
    "aprox_der(h, pi/6)"
   ]
  },
  {
   "cell_type": "code",
   "execution_count": 65,
   "metadata": {},
   "outputs": [
    {
     "data": {
      "text/plain": [
       "6.999999868639861"
      ]
     },
     "execution_count": 65,
     "metadata": {},
     "output_type": "execute_result"
    }
   ],
   "source": [
    "aprox_der(x->x^2+3x+2, 2) # 2x + 3 com x = 2: 7"
   ]
  },
  {
   "cell_type": "markdown",
   "metadata": {},
   "source": [
    "## Vetor vs Array vs Array 1xN vs Array Nx1"
   ]
  },
  {
   "cell_type": "code",
   "execution_count": 66,
   "metadata": {},
   "outputs": [
    {
     "data": {
      "text/plain": [
       "3-element Array{Float64,1}:\n",
       " 1.0\n",
       " 1.0\n",
       " 1.0"
      ]
     },
     "execution_count": 66,
     "metadata": {},
     "output_type": "execute_result"
    }
   ],
   "source": [
    "ones(3)"
   ]
  },
  {
   "cell_type": "code",
   "execution_count": 67,
   "metadata": {},
   "outputs": [
    {
     "data": {
      "text/plain": [
       "1×3 Array{Float64,2}:\n",
       " 1.0  1.0  1.0"
      ]
     },
     "execution_count": 67,
     "metadata": {},
     "output_type": "execute_result"
    }
   ],
   "source": [
    "[1.0 1.0 1.0]"
   ]
  },
  {
   "cell_type": "code",
   "execution_count": 68,
   "metadata": {},
   "outputs": [
    {
     "data": {
      "text/plain": [
       "3-element Array{Float64,1}:\n",
       " 1.0\n",
       " 1.0\n",
       " 1.0"
      ]
     },
     "execution_count": 68,
     "metadata": {},
     "output_type": "execute_result"
    }
   ],
   "source": [
    "[1.0; 1.0; 1.0]"
   ]
  },
  {
   "cell_type": "code",
   "execution_count": 69,
   "metadata": {},
   "outputs": [
    {
     "data": {
      "text/plain": [
       "3-element Array{Float64,1}:\n",
       " 1.0\n",
       " 1.0\n",
       " 1.0"
      ]
     },
     "execution_count": 69,
     "metadata": {},
     "output_type": "execute_result"
    }
   ],
   "source": [
    "[1.0, 1.0, 1.0]"
   ]
  },
  {
   "cell_type": "code",
   "execution_count": 70,
   "metadata": {},
   "outputs": [
    {
     "data": {
      "text/plain": [
       "3×1 Array{Float64,2}:\n",
       " 1.0\n",
       " 1.0\n",
       " 1.0"
      ]
     },
     "execution_count": 70,
     "metadata": {},
     "output_type": "execute_result"
    }
   ],
   "source": [
    "[1.0 1.0 1.0]'"
   ]
  },
  {
   "cell_type": "markdown",
   "metadata": {},
   "source": [
    "# Exercícios"
   ]
  },
  {
   "cell_type": "markdown",
   "metadata": {
    "collapsed": true
   },
   "source": [
    "1. Crie um vetor aleatório e mude o primeiro elemento para o seu oposto (i.e. mude o sinal)\n",
    "2. Crie um vetor com os ângulos importantes: 0, pi/6, pi/4, pi/3 e pi/2.\n",
    "3. Crie um vetor com o seno de cada ângulo e outro com o cosseno, usando o vetor acima.\n",
    "4. Calcule a tangente de cada angulo usando os dois vetores acima (tan = sen/cos)\n",
    "5. Crie uma função que recebe uma matriz A e um vetor v e retorna\n",
    "$\\dfrac{\\langle v, Av\\rangle}{\\langle v, v\\rangle}$"
   ]
  },
  {
   "cell_type": "markdown",
   "metadata": {},
   "source": [
    "# Extras"
   ]
  },
  {
   "cell_type": "markdown",
   "metadata": {},
   "source": [
    "# Loops e condicionais"
   ]
  },
  {
   "cell_type": "code",
   "execution_count": 71,
   "metadata": {},
   "outputs": [
    {
     "name": "stdout",
     "output_type": "stream",
     "text": [
      "1\n",
      "2\n",
      "3\n",
      "4\n",
      "5\n",
      "6\n",
      "7\n",
      "8\n",
      "9\n",
      "10\n"
     ]
    }
   ],
   "source": [
    "for i = 1:10\n",
    "    println(i)\n",
    "end"
   ]
  },
  {
   "cell_type": "code",
   "execution_count": 72,
   "metadata": {},
   "outputs": [
    {
     "name": "stdout",
     "output_type": "stream",
     "text": [
      "12345678910"
     ]
    }
   ],
   "source": [
    "for i = 1:10\n",
    "    print(i)\n",
    "end"
   ]
  },
  {
   "cell_type": "code",
   "execution_count": 73,
   "metadata": {},
   "outputs": [
    {
     "name": "stdout",
     "output_type": "stream",
     "text": [
      "i = 1\n",
      "i = 2\n",
      "i = 3\n",
      "i = 4\n",
      "i = 5\n",
      "i = 6\n",
      "i = 7\n",
      "i = 8\n",
      "i = 9\n",
      "i = 10\n"
     ]
    }
   ],
   "source": [
    "for i = 1:10\n",
    "    println(\"i = $i\")\n",
    "end"
   ]
  },
  {
   "cell_type": "code",
   "execution_count": 74,
   "metadata": {
    "collapsed": true
   },
   "outputs": [],
   "source": [
    "x = rand(10)\n",
    "y = zeros(10)\n",
    "for i = 1:10\n",
    "    y[i] = x[i] * i\n",
    "end"
   ]
  },
  {
   "cell_type": "code",
   "execution_count": 75,
   "metadata": {},
   "outputs": [
    {
     "data": {
      "text/plain": [
       "10-element Array{Float64,1}:\n",
       " 0.495526 \n",
       " 0.757811 \n",
       " 0.509479 \n",
       " 0.0246215\n",
       " 0.0229176\n",
       " 0.324216 \n",
       " 0.88936  \n",
       " 0.581003 \n",
       " 0.498884 \n",
       " 0.650722 "
      ]
     },
     "execution_count": 75,
     "metadata": {},
     "output_type": "execute_result"
    }
   ],
   "source": [
    "x"
   ]
  },
  {
   "cell_type": "code",
   "execution_count": 76,
   "metadata": {},
   "outputs": [
    {
     "data": {
      "text/plain": [
       "10-element Array{Float64,1}:\n",
       " 0.495526 \n",
       " 1.51562  \n",
       " 1.52844  \n",
       " 0.0984862\n",
       " 0.114588 \n",
       " 1.94529  \n",
       " 6.22552  \n",
       " 4.64802  \n",
       " 4.48995  \n",
       " 6.50722  "
      ]
     },
     "execution_count": 76,
     "metadata": {},
     "output_type": "execute_result"
    }
   ],
   "source": [
    "y"
   ]
  },
  {
   "cell_type": "code",
   "execution_count": 77,
   "metadata": {},
   "outputs": [
    {
     "name": "stdout",
     "output_type": "stream",
     "text": [
      "sin(0.0) = 0.0\n",
      "sin(0.5235987755982988) = 0.49999999999999994\n",
      "sin(0.7853981633974483) = 0.7071067811865475\n",
      "sin(1.0471975511965976) = 0.8660254037844386\n",
      "sin(1.5707963267948966) = 1.0\n"
     ]
    }
   ],
   "source": [
    "for x in [0; pi/6; pi/4; pi/3; pi/2]\n",
    "    println(\"sin($x) = $(sin(x))\")\n",
    "end"
   ]
  },
  {
   "cell_type": "code",
   "execution_count": 78,
   "metadata": {},
   "outputs": [
    {
     "name": "stdout",
     "output_type": "stream",
     "text": [
      "3 6 9 12 15 18 "
     ]
    }
   ],
   "source": [
    "for i = 3:3:20\n",
    "    print(\"$i \")\n",
    "end"
   ]
  },
  {
   "cell_type": "code",
   "execution_count": 79,
   "metadata": {},
   "outputs": [
    {
     "name": "stdout",
     "output_type": "stream",
     "text": [
      "x: a    Tipo: String\n",
      "x: im    Tipo: Complex{Bool}\n",
      "x: 0    Tipo: Int64\n",
      "x: 3.14    Tipo: Float64\n",
      "x: e = 2.7182818284590...    Tipo: Irrational{:e}\n",
      "x: 3//4    Tipo: Rational{Int64}\n",
      "x: [1.0, 1.0]    Tipo: Array{Float64,1}\n",
      "x: [1.0 1.0; 1.0 1.0]    Tipo: Array{Float64,2}\n"
     ]
    }
   ],
   "source": [
    "for x in Any[\"a\", 0, 3.14, e, 3//4, im, ones(2), ones(2,2)]\n",
    "    println(\"x: $x    Tipo: $(typeof(x))\")\n",
    "end"
   ]
  },
  {
   "cell_type": "code",
   "execution_count": 80,
   "metadata": {},
   "outputs": [
    {
     "ename": "LoadError",
     "evalue": "\u001b[91mArgumentError: invalid index: 3.0\u001b[39m",
     "output_type": "error",
     "traceback": [
      "\u001b[91mArgumentError: invalid index: 3.0\u001b[39m",
      "",
      "Stacktrace:",
      " [1] \u001b[1msetindex!\u001b[22m\u001b[22m\u001b[1m(\u001b[22m\u001b[22m::Array{Float64,1}, ::Int64, ::Float64\u001b[1m)\u001b[22m\u001b[22m at \u001b[1m./abstractarray.jl:967\u001b[22m\u001b[22m",
      " [2] \u001b[1minclude_string\u001b[22m\u001b[22m\u001b[1m(\u001b[22m\u001b[22m::String, ::String\u001b[1m)\u001b[22m\u001b[22m at \u001b[1m./loading.jl:515\u001b[22m\u001b[22m"
     ]
    }
   ],
   "source": [
    "n = 6\n",
    "v = ones(n)\n",
    "v[n/2] = 2\n",
    "v"
   ]
  },
  {
   "cell_type": "code",
   "execution_count": 81,
   "metadata": {},
   "outputs": [
    {
     "data": {
      "text/plain": [
       "3.0"
      ]
     },
     "execution_count": 81,
     "metadata": {},
     "output_type": "execute_result"
    }
   ],
   "source": [
    "n/2"
   ]
  },
  {
   "cell_type": "code",
   "execution_count": 82,
   "metadata": {},
   "outputs": [
    {
     "data": {
      "text/plain": [
       "3"
      ]
     },
     "execution_count": 82,
     "metadata": {},
     "output_type": "execute_result"
    }
   ],
   "source": [
    "div(n,2)"
   ]
  },
  {
   "cell_type": "code",
   "execution_count": 83,
   "metadata": {
    "scrolled": true
   },
   "outputs": [
    {
     "data": {
      "text/plain": [
       "3"
      ]
     },
     "execution_count": 83,
     "metadata": {},
     "output_type": "execute_result"
    }
   ],
   "source": [
    "round(Int, n/2)"
   ]
  },
  {
   "cell_type": "code",
   "execution_count": 84,
   "metadata": {},
   "outputs": [
    {
     "data": {
      "text/plain": [
       "2"
      ]
     },
     "execution_count": 84,
     "metadata": {},
     "output_type": "execute_result"
    }
   ],
   "source": [
    "10 % 4"
   ]
  },
  {
   "cell_type": "markdown",
   "metadata": {},
   "source": [
    "**Fatorial**: $ n! = n(n-1)\\dots2. 1 $"
   ]
  },
  {
   "cell_type": "code",
   "execution_count": 85,
   "metadata": {},
   "outputs": [
    {
     "data": {
      "text/plain": [
       "fatorial (generic function with 1 method)"
      ]
     },
     "execution_count": 85,
     "metadata": {},
     "output_type": "execute_result"
    }
   ],
   "source": [
    "function fatorial(n)\n",
    "    resultado = 1\n",
    "    for i = 1:n\n",
    "        resultado = resultado * i\n",
    "    end\n",
    "    return resultado\n",
    "end"
   ]
  },
  {
   "cell_type": "code",
   "execution_count": 86,
   "metadata": {},
   "outputs": [
    {
     "data": {
      "text/plain": [
       "24"
      ]
     },
     "execution_count": 86,
     "metadata": {},
     "output_type": "execute_result"
    }
   ],
   "source": [
    "fatorial(4)"
   ]
  },
  {
   "cell_type": "code",
   "execution_count": 87,
   "metadata": {},
   "outputs": [
    {
     "data": {
      "text/plain": [
       "120"
      ]
     },
     "execution_count": 87,
     "metadata": {},
     "output_type": "execute_result"
    }
   ],
   "source": [
    "fatorial(5)"
   ]
  },
  {
   "cell_type": "code",
   "execution_count": 88,
   "metadata": {},
   "outputs": [
    {
     "data": {
      "text/plain": [
       "1"
      ]
     },
     "execution_count": 88,
     "metadata": {},
     "output_type": "execute_result"
    }
   ],
   "source": [
    "fatorial(0)"
   ]
  },
  {
   "cell_type": "markdown",
   "metadata": {},
   "source": [
    "**sinal**: $ \\mbox{sinal}(x) = \\left\\{\\begin{array}{rl}\n",
    "1, & x > 0 \\\\\n",
    "-1, & x < 0 \\\\\n",
    "0, & x = 0.\n",
    "\\end{array}\\right.$"
   ]
  },
  {
   "cell_type": "code",
   "execution_count": 89,
   "metadata": {},
   "outputs": [
    {
     "data": {
      "text/plain": [
       "sinal (generic function with 1 method)"
      ]
     },
     "execution_count": 89,
     "metadata": {},
     "output_type": "execute_result"
    }
   ],
   "source": [
    "function sinal(x)\n",
    "    if x > 0\n",
    "        return 1\n",
    "    elseif x < 0\n",
    "        return -1\n",
    "    else\n",
    "        return 0\n",
    "    end\n",
    "end"
   ]
  },
  {
   "cell_type": "code",
   "execution_count": 90,
   "metadata": {},
   "outputs": [
    {
     "data": {
      "text/plain": [
       "1"
      ]
     },
     "execution_count": 90,
     "metadata": {},
     "output_type": "execute_result"
    }
   ],
   "source": [
    "sinal(3.2)"
   ]
  },
  {
   "cell_type": "code",
   "execution_count": 91,
   "metadata": {},
   "outputs": [
    {
     "data": {
      "text/plain": [
       "-1"
      ]
     },
     "execution_count": 91,
     "metadata": {},
     "output_type": "execute_result"
    }
   ],
   "source": [
    "sinal(-1.2)"
   ]
  },
  {
   "cell_type": "code",
   "execution_count": 92,
   "metadata": {},
   "outputs": [
    {
     "data": {
      "text/plain": [
       "0"
      ]
     },
     "execution_count": 92,
     "metadata": {},
     "output_type": "execute_result"
    }
   ],
   "source": [
    "sinal(0.0)"
   ]
  },
  {
   "cell_type": "markdown",
   "metadata": {},
   "source": [
    "**Bháskara:**\n",
    "$ax^2 + bx + c = 0$ e $b^2 - 4ac \\geq 0$ implicam em\n",
    "$x = \\dfrac{-b \\pm \\sqrt{b^2 - 4ac}}{2a}. $"
   ]
  },
  {
   "cell_type": "code",
   "execution_count": 93,
   "metadata": {},
   "outputs": [
    {
     "data": {
      "text/plain": [
       "bhaskara (generic function with 1 method)"
      ]
     },
     "execution_count": 93,
     "metadata": {},
     "output_type": "execute_result"
    }
   ],
   "source": [
    "function bhaskara(a, b, c)\n",
    "    Δ = b^2 - 4a*c\n",
    "    if Δ < 0\n",
    "        error(\"Nos reais não tem solução\")\n",
    "    end\n",
    "    return (-b + sqrt(Δ))/2a, (-b - sqrt(Δ))/2a\n",
    "end"
   ]
  },
  {
   "cell_type": "code",
   "execution_count": 94,
   "metadata": {},
   "outputs": [
    {
     "data": {
      "text/plain": [
       "(-2.0, -3.0)"
      ]
     },
     "execution_count": 94,
     "metadata": {},
     "output_type": "execute_result"
    }
   ],
   "source": [
    "bhaskara(1, 5, 6)"
   ]
  },
  {
   "cell_type": "code",
   "execution_count": 95,
   "metadata": {},
   "outputs": [
    {
     "ename": "LoadError",
     "evalue": "\u001b[91mNos reais não tem solução\u001b[39m",
     "output_type": "error",
     "traceback": [
      "\u001b[91mNos reais não tem solução\u001b[39m",
      "",
      "Stacktrace:",
      " [1] \u001b[1mbhaskara\u001b[22m\u001b[22m\u001b[1m(\u001b[22m\u001b[22m::Int64, ::Int64, ::Int64\u001b[1m)\u001b[22m\u001b[22m at \u001b[1m./In[93]:4\u001b[22m\u001b[22m",
      " [2] \u001b[1minclude_string\u001b[22m\u001b[22m\u001b[1m(\u001b[22m\u001b[22m::String, ::String\u001b[1m)\u001b[22m\u001b[22m at \u001b[1m./loading.jl:515\u001b[22m\u001b[22m"
     ]
    }
   ],
   "source": [
    "bhaskara(1, 0, 1)"
   ]
  },
  {
   "cell_type": "code",
   "execution_count": 96,
   "metadata": {},
   "outputs": [
    {
     "data": {
      "text/plain": [
       "(1.0, -1.0)"
      ]
     },
     "execution_count": 96,
     "metadata": {},
     "output_type": "execute_result"
    }
   ],
   "source": [
    "bhaskara(1, 0, -1)"
   ]
  },
  {
   "cell_type": "markdown",
   "metadata": {},
   "source": [
    "**MMC:**\n",
    "$\\mbox{mmc}(a, b)$ é o menor número natural que é múltiplo de $a$ e de $b$."
   ]
  },
  {
   "cell_type": "code",
   "execution_count": 97,
   "metadata": {},
   "outputs": [
    {
     "data": {
      "text/plain": [
       "mmc (generic function with 1 method)"
      ]
     },
     "execution_count": 97,
     "metadata": {},
     "output_type": "execute_result"
    }
   ],
   "source": [
    "function mmc(a::Int, b::Int)\n",
    "    if a < 1 || b < 1\n",
    "        error(\"Entrada deve ser de dois inteiros positivos\")\n",
    "    end\n",
    "    x = 1\n",
    "    while a > 1 || b > 1\n",
    "        achou = false\n",
    "        for j = 2:max(a,b)\n",
    "            if a % j == 0 || b % j == 0\n",
    "                x = x * j\n",
    "                achou = true\n",
    "            end\n",
    "            if a % j == 0\n",
    "                a = div(a, j)\n",
    "            end\n",
    "            if b % j == 0\n",
    "                b = div(b, j)\n",
    "            end\n",
    "            if achou\n",
    "                break\n",
    "            end\n",
    "        end\n",
    "    end\n",
    "    return x\n",
    "end"
   ]
  },
  {
   "cell_type": "code",
   "execution_count": 98,
   "metadata": {},
   "outputs": [
    {
     "data": {
      "text/plain": [
       "6"
      ]
     },
     "execution_count": 98,
     "metadata": {},
     "output_type": "execute_result"
    }
   ],
   "source": [
    "mmc(2,3)"
   ]
  },
  {
   "cell_type": "code",
   "execution_count": 99,
   "metadata": {},
   "outputs": [
    {
     "data": {
      "text/plain": [
       "35"
      ]
     },
     "execution_count": 99,
     "metadata": {},
     "output_type": "execute_result"
    }
   ],
   "source": [
    "mmc(5, 7)"
   ]
  },
  {
   "cell_type": "code",
   "execution_count": 100,
   "metadata": {},
   "outputs": [
    {
     "data": {
      "text/plain": [
       "24"
      ]
     },
     "execution_count": 100,
     "metadata": {},
     "output_type": "execute_result"
    }
   ],
   "source": [
    "mmc(6, 8)"
   ]
  },
  {
   "cell_type": "code",
   "execution_count": 101,
   "metadata": {},
   "outputs": [
    {
     "ename": "LoadError",
     "evalue": "\u001b[91mEntrada deve ser de dois inteiros positivos\u001b[39m",
     "output_type": "error",
     "traceback": [
      "\u001b[91mEntrada deve ser de dois inteiros positivos\u001b[39m",
      "",
      "Stacktrace:",
      " [1] \u001b[1mmmc\u001b[22m\u001b[22m\u001b[1m(\u001b[22m\u001b[22m::Int64, ::Int64\u001b[1m)\u001b[22m\u001b[22m at \u001b[1m./In[97]:3\u001b[22m\u001b[22m",
      " [2] \u001b[1minclude_string\u001b[22m\u001b[22m\u001b[1m(\u001b[22m\u001b[22m::String, ::String\u001b[1m)\u001b[22m\u001b[22m at \u001b[1m./loading.jl:515\u001b[22m\u001b[22m"
     ]
    }
   ],
   "source": [
    "mmc(-1, 0)"
   ]
  },
  {
   "cell_type": "code",
   "execution_count": 102,
   "metadata": {},
   "outputs": [
    {
     "ename": "LoadError",
     "evalue": "\u001b[91mMethodError: no method matching mmc(::Float64, ::Float64)\u001b[39m",
     "output_type": "error",
     "traceback": [
      "\u001b[91mMethodError: no method matching mmc(::Float64, ::Float64)\u001b[39m",
      "",
      "Stacktrace:",
      " [1] \u001b[1minclude_string\u001b[22m\u001b[22m\u001b[1m(\u001b[22m\u001b[22m::String, ::String\u001b[1m)\u001b[22m\u001b[22m at \u001b[1m./loading.jl:515\u001b[22m\u001b[22m"
     ]
    }
   ],
   "source": [
    "mmc(2.0, 3.0)"
   ]
  },
  {
   "cell_type": "markdown",
   "metadata": {},
   "source": [
    "## Arquivos"
   ]
  },
  {
   "cell_type": "code",
   "execution_count": 103,
   "metadata": {
    "collapsed": true
   },
   "outputs": [],
   "source": [
    "open(\"exemplo.jl\", \"w\") do arq\n",
    "    print(arq, \"# Este é um arquivo de exemplo\\n\\n\" *\n",
    "        \"\\\"\\\"\\\"`y = aprox_log(x)`\\n\\n\" *\n",
    "        \"Retorna um valor aproximado para `log(x)`, utilizando a expansão\\n\\n\" *\n",
    "        \"    ln(x) = 2(z + z^3/3 + z^5/5 + ...)\\n\\n\" *\n",
    "        \"onde `z = (x-1)/(x+1)`.\\n\" *\n",
    "        \"\\\"\\\"\\\"\\n\" *\n",
    "        \"function aprox_log(x)\\n\" *\n",
    "        \"    z = (x-1)/(x+1)\\n\" *\n",
    "        \"    return 2 * (z + z^3 / 3 + z^5 / 5)\\n\" *\n",
    "        \"end\\n\")\n",
    "end"
   ]
  },
  {
   "cell_type": "code",
   "execution_count": 104,
   "metadata": {},
   "outputs": [
    {
     "name": "stdout",
     "output_type": "stream",
     "text": [
      "# Este é um arquivo de exemplo\n",
      "\n",
      "\"\"\"`y = aprox_log(x)`\n",
      "\n",
      "Retorna um valor aproximado para `log(x)`, utilizando a expansão\n",
      "\n",
      "    ln(x) = 2(z + z^3/3 + z^5/5 + ...)\n",
      "\n",
      "onde `z = (x-1)/(x+1)`.\n",
      "\"\"\"\n",
      "function aprox_log(x)\n",
      "    z = (x-1)/(x+1)\n",
      "    return 2 * (z + z^3 / 3 + z^5 / 5)\n",
      "end\n"
     ]
    }
   ],
   "source": [
    ";cat exemplo.jl"
   ]
  },
  {
   "cell_type": "code",
   "execution_count": 105,
   "metadata": {},
   "outputs": [
    {
     "ename": "LoadError",
     "evalue": "\u001b[91mUndefVarError: aprox_log not defined\u001b[39m",
     "output_type": "error",
     "traceback": [
      "\u001b[91mUndefVarError: aprox_log not defined\u001b[39m",
      "",
      "Stacktrace:",
      " [1] \u001b[1minclude_string\u001b[22m\u001b[22m\u001b[1m(\u001b[22m\u001b[22m::String, ::String\u001b[1m)\u001b[22m\u001b[22m at \u001b[1m./loading.jl:515\u001b[22m\u001b[22m"
     ]
    }
   ],
   "source": [
    "aprox_log(2)"
   ]
  },
  {
   "cell_type": "code",
   "execution_count": 106,
   "metadata": {},
   "outputs": [
    {
     "data": {
      "text/plain": [
       "aprox_log"
      ]
     },
     "execution_count": 106,
     "metadata": {},
     "output_type": "execute_result"
    }
   ],
   "source": [
    "include(\"exemplo.jl\")"
   ]
  },
  {
   "cell_type": "code",
   "execution_count": 107,
   "metadata": {},
   "outputs": [
    {
     "data": {
      "text/plain": [
       "0.6930041152263374"
      ]
     },
     "execution_count": 107,
     "metadata": {},
     "output_type": "execute_result"
    }
   ],
   "source": [
    "aprox_log(2)"
   ]
  },
  {
   "cell_type": "code",
   "execution_count": 108,
   "metadata": {},
   "outputs": [
    {
     "name": "stdout",
     "output_type": "stream",
     "text": [
      "search:\n",
      "\n"
     ]
    },
    {
     "data": {
      "text/markdown": [
       "`y = aprox_log(x)`\n",
       "\n",
       "Retorna um valor aproximado para `log(x)`, utilizando a expansão\n",
       "\n",
       "```\n",
       "ln(x) = 2(z + z^3/3 + z^5/5 + ...)\n",
       "```\n",
       "\n",
       "onde `z = (x-1)/(x+1)`.\n"
      ],
      "text/plain": [
       "`y = aprox_log(x)`\n",
       "\n",
       "Retorna um valor aproximado para `log(x)`, utilizando a expansão\n",
       "\n",
       "```\n",
       "ln(x) = 2(z + z^3/3 + z^5/5 + ...)\n",
       "```\n",
       "\n",
       "onde `z = (x-1)/(x+1)`.\n"
      ]
     },
     "execution_count": 108,
     "metadata": {},
     "output_type": "execute_result"
    }
   ],
   "source": [
    "?aprox_log"
   ]
  },
  {
   "cell_type": "markdown",
   "metadata": {},
   "source": [
    "## Pacotes"
   ]
  },
  {
   "cell_type": "markdown",
   "metadata": {},
   "source": [
    "http://pkg.julialang.org/ ou busque no google."
   ]
  },
  {
   "cell_type": "markdown",
   "metadata": {},
   "source": [
    "### Instalação de pacotes"
   ]
  },
  {
   "cell_type": "code",
   "execution_count": 109,
   "metadata": {},
   "outputs": [
    {
     "ename": "LoadError",
     "evalue": "\u001b[91mNão rode\u001b[39m",
     "output_type": "error",
     "traceback": [
      "\u001b[91mNão rode\u001b[39m",
      "",
      "Stacktrace:",
      " [1] \u001b[1merror\u001b[22m\u001b[22m\u001b[1m(\u001b[22m\u001b[22m::String\u001b[1m)\u001b[22m\u001b[22m at \u001b[1m./error.jl:21\u001b[22m\u001b[22m",
      " [2] \u001b[1minclude_string\u001b[22m\u001b[22m\u001b[1m(\u001b[22m\u001b[22m::String, ::String\u001b[1m)\u001b[22m\u001b[22m at \u001b[1m./loading.jl:515\u001b[22m\u001b[22m"
     ]
    }
   ],
   "source": [
    "# Não rode pois leva um tempo\n",
    "error(\"Não rode\")\n",
    "Pkg.add(\"Plots\")\n",
    "Pkg.add(\"GR\")\n",
    "Pkg.add(\"PyPlot\")\n",
    "Pkg.clone(\"https://github.com/abelsiqueira/NLPModels.jl\")\n",
    "Pkg.build(\"NLPModels.jl\")"
   ]
  },
  {
   "cell_type": "markdown",
   "metadata": {},
   "source": [
    "Fazer um pacote dá bastante mais trabalho. Ele exige uma hierarquia\n",
    "específica do diretório. Só a criação decente de um pacote já seria\n",
    "uma aula.\n",
    "\n",
    "Veja http://abelsiqueira.github.io/blog/test-driven-development-in-julia/\n",
    "e http://abelsiqueira.github.io/blog/automated-testing/\n",
    "para mais informações, ou o próprio help."
   ]
  },
  {
   "cell_type": "markdown",
   "metadata": {},
   "source": [
    "## Plots"
   ]
  },
  {
   "cell_type": "code",
   "execution_count": 110,
   "metadata": {},
   "outputs": [
    {
     "name": "stderr",
     "output_type": "stream",
     "text": [
      "WARNING: using Plots.h in module Main conflicts with an existing identifier.\n",
      "WARNING: using Plots.w in module Main conflicts with an existing identifier.\n",
      "WARNING: Compat.UTF8String is deprecated, use String instead.\n",
      "  likely near In[110]:68\n"
     ]
    },
    {
     "data": {
      "text/plain": [
       "Plots.PyPlotBackend()"
      ]
     },
     "execution_count": 110,
     "metadata": {},
     "output_type": "execute_result"
    }
   ],
   "source": [
    "using Plots\n",
    "pyplot()"
   ]
  },
  {
   "cell_type": "code",
   "execution_count": 111,
   "metadata": {},
   "outputs": [
    {
     "data": {
      "text/html": [
       "<img src=\"data:image/png;base64,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\" />"
      ]
     },
     "execution_count": 111,
     "metadata": {},
     "output_type": "execute_result"
    }
   ],
   "source": [
    "plot([1; 2; 3], [3; 1; 2])"
   ]
  },
  {
   "cell_type": "code",
   "execution_count": 112,
   "metadata": {},
   "outputs": [
    {
     "data": {
      "text/html": [
       "<img src=\"data:image/png;base64,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\" />"
      ]
     },
     "execution_count": 112,
     "metadata": {},
     "output_type": "execute_result"
    }
   ],
   "source": [
    "x = linspace(0, 1, 100)\n",
    "y = x.^2\n",
    "plot(x, y)"
   ]
  },
  {
   "cell_type": "code",
   "execution_count": 113,
   "metadata": {
    "scrolled": true
   },
   "outputs": [
    {
     "data": {
      "text/html": [
       "<img src=\"data:image/png;base64,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\" />"
      ]
     },
     "execution_count": 113,
     "metadata": {},
     "output_type": "execute_result"
    }
   ],
   "source": [
    "scatter(x, y)"
   ]
  },
  {
   "cell_type": "code",
   "execution_count": 114,
   "metadata": {},
   "outputs": [
    {
     "data": {
      "text/html": [
       "<img src=\"data:image/png;base64,iVBORw0KGgoAAAANSUhEUgAAAlgAAAGQCAYAAAByNR6YAAAABHNCSVQICAgIfAhkiAAAAAlwSFlzAAAPYQAAD2EBqD+naQAAIABJREFUeJzt3XtsXNd5Nvpn86bhZagmauJaomx/tcOroyuUmkYR5CSiGEA6qT0S8QU9TiNUim2kjiqzrYOUpkhdkTgWITVFY1dqXbdpgoqZOf4MBpFMBUEbf2L6mWaYIw0vkoLYIi3bQmSZc7+/5w+aI8viZciZNXuvPc8PIDyiKc67SOrhO2utvbYhIgIiIiIiypkiswsgIiIishs2WEREREQ5VpLPJ0ulUrh69SqcTicMw8jnUxMREREpISLw+/1YuXIlioqm567y2mBdvXoVq1evzudTEhEREeXFxMQEampqAOS5wXI6nekCqqurF/33I5EI9u/fj66uLjgcjlyXR0Q2wrwgokxlmxc+nw+rV69O9zlAnhusmWXB6urqJTVYZWVlWLZsGaqrqxmYRDQv5gURZSpXefHh7U9GPo9p8Pl8WL58OaamppbUYBERERFZzWz9TV5nsLIVDofxjW98A9/73vdQXl5udjlEZGHMCyJriMViePPNN5FMJs0uZU6RSASHDh3C008/PecMVlFREe68885blgHno1WDVVRUhJqamvQOfSKiuTAviMw3OTmJP/3TP0UoFDK7lHmJCHw+H3bt2rXgKQcPP/wwvvWtby2YLeklwj179uDll1/Gm2++iV/96ldYt27drH+hr68Pf/3Xf41kMolPf/rT+Jd/+ZeMl/u4REhERFQYUqkUHn/8cbzzzjs4cOCA9nsh4/E4fvWrX+F73/seHnroIXR0dKT/37xLhDt27MBTTz2FP/7jP57zkwcCAezatQv/+Z//ifr6ejzxxBM4ePAgvvvd7yoc0k2hUAhf/epX8eKLL6KioiIvz0lEemJeEJnrd7/7HYaGhnD48OE5J22sIplM4o033sA999yD4uLiOT/u05/+NADg7/7u77Bnz555lwvT81uf/exn02c3zOWnP/0p1q9fj/r6egDA17/+dfzoRz9a1CCyUVxcjObm5nkHT5QrHo8Ha9dvRHlFJdau3wiPx2N2SbQIzAsic73//vsAsGBvYQWGYaCysjKjQ9DXr18PAHj77bfn/bhFbU64cuUK7r777vSf77nnHrz99ttIJBKzfnw0GoXP57vlDZjefApMbyqLRCLp90WjUQDTrzxnHgeDQcRiMQBAIpHAN77xDSxbtgyBQCD9vH6/P/3Y5/OlN9L5fD6kUqn02qqIIJVKpetIJpPpx4lEAn6/P/04EAgAmJ4SDAaDAKY36s08jkaj6TXlaDS65DEFg0HE43EA4JgsNCaPx4Pt27fjfPzjiGzrxvn4x7F9+3Z4PB5tx2TH79N8Y4rH49izZw+WLVtmmzHZ8fvEMdl3TB/d1C4i6ffN9TiVSmX0OJVKzfs4mUxm9HjmIAURwR133IGioqJb3j/zeKZGEUFJSUn6uT78fbqNfMTdd98tv/rVrz76bhERefbZZ+XRRx9N/zkYDEpRUZHE4/FZP76rq0sA3Pb2la98RUREnnzySXnyySdFRGTXrl3S1dUlIiI7duyQo0ePiojIli1b5MSJEyIi8pnPfEbWrFkjgUBAGhsb5fTp0yIismrVKjl37pyIiDidTrlw4YJ8sLdMJiYmZGpqSgDI1NSUTExMyMywL1y4IE6nU0REzp07J6tWrRIRkdOnT0tjY6OIiJw6dUoeeOABERE5ceKEbNmyRUREjh49Kjt27EiPc9euXUsa0wMPPCCnTp0SEeGYLDSmNes2CBq+IHg+KvjHmOD5qBgNX5C16zdqOyY7fp/mG1N9fb1s2LBBAoGAbcZkx+8Tx2TfMb322muybt066e3tFRGRUCgkr7/+uoiI+P1+GR4eFhGR999/X86fPy8iItevX5eRkREREbl27ZqMj4+LiMjbb78tly9fFhGRt956S37729+KiMiVK1fkypUrIiLy29/+Vt566y0REbl8+bK8/fbbIiIyPj4u165dExGRkZERuX79uoiInD9/Xt5//30REfnJT34imzZtkurqaqmtrZVQKCQiIq+99ppEo1FJJBLy2muvSSKRkF//+tfy+7//+zI6Opr+Pn34+zhjUQ3WqVOnpLW1Nf1nr9eb/qbPJhKJyNTUVPpt5ofnnXfeERGRcDgs4XA4/YWPRCIiMt24zTwOBAISjUZFROS9996T73//+xKNRsXv96cbO5/Pl348NTUliUQi/TiZTEoqlZKpqSlJpVKSTCbTX4BEIiH/9m//JmvWbZBl5RVy/5p14na7JR6Pi9/vFxGRWCwmgUBARESi0Wj6cSQSkWAwmH48881Y7JgCgYDEYjERkZyNaeZxPB4Xn8+XfswxZT4mR3mFoO2Z6eZq5q3tGXGUV2g7Jjt+n+Yb0/Xr1+W5556TaDRqmzHZ8fvEMdl3TCMjI7Jx48Z0A5ZKpdIfO9fjZDKZ0eNkMjnv40QikdHjVColIiLvvvuuvPzyy/Lyyy/L2rVr0++f+ZiZGlOplIyMjMj69etldHQ0/X3KusHy+XzyiU98QkZHR0VE5C/+4i/kr/7qr2b92NnMVoCZ3G63ABCjqUXQ9sz0fwFxu91ml0YmW7Nuw/TPw4dnsBo3y9oNG80ujYhIC6Ojo7Jx48Z0z5Apt9sta9ZtEEd5haxZtyGnv5O/+93vyte+9rX0n2/cuCErVqxIz2r9/Oc/l7Vr1877OWYb12z9TXoP1mOPPYaamhpMTk6itbUV9913HwBg3759eO655wBM30vw5MmTeOihh3DfffdhcnISnZ2ds689KhAMBtHc3JxeZ87W/oOHYTS1QPb0AS17IXv6YDRuxoFDR3Ly+UlfXZ0dEG8/jONbgf5jMI5vhYycRdfTHQv/ZbKEXOcFEal3c//rig/2v65I73/Nhd27d+Oll15Kb8B/4YUX8Cd/8idYvnw5RkdHc3oYarrBev755zE5OYlEIoF3330Xly9fBgAcOHAAjz/+ePovfOlLX8LY2BguX76Ml156CcuXL89ZMQspKytDe3s7ysrKcvL5Lo6PQRpbgJmrBgwD0rQF42OjOfn8pC+XywW32401y27A0deNNctuwOPx4OGHHza7NMpQrvOCKBu8Kjkzqic+fu/3fg87duzAP//zP0NE8P3vfx9PPPEEDMPAHXfckdFVhJnS6ojj0tJStLW1obS0NCefr7auHsZIPzBzO0YRGN5XUNfQkJPPT/mhKrhcLheGhwYRDgUxPDTI5kozuc4LoqVSPStjJ/mY+NizZw+ee+45nD59Gp/4xCewfv16FBUV4eMf/3hO7/ygVYMVCATQ1NSUvkQ1W1wG0h+Di+aS67wgWipuR8lcPiY+6uvr8Yd/+Id49NFH8cQTTwCYPo7hwoULapYIdeBwONDT05Oz4/a5DKQ/BhfNJdd5QbRU3I6SuXxNfHzta19DIpHAjh07AEyfEdba2oovf/nLGBkZQU1NDb71rW9l9Rxa3ey5pKQEra2tOf2cLpcLLpcrp5+T8ufi+BhkW/ftwdXXbWZZZAEq8oJoKWrr6nF+pB+y+S+ns4rbUeY0M/Fx4NARjPd1o66+AV0KJj5+/vOf4+tf/3p6C0FlZSXeeuutnD6HVjNYfr8fNTU16RNtieyyj44bYHOPeUFWwe0oi6Ny/+vVq1dRX1+PoaEh7N27N/3+ZDKJX//614W7RFheXo7e3l6Ul5ebXQpZhB2Ci/vI1GBekFVwO4p1rFy5EmNjYzh37twtN2ouKirCvffeW7ib3EtKStDc3IySEq1WNkkhOwQX95GpwbwgK+FVydZmGAaqqqoK95gGn8+H6urquW+sSAVJ9+DiBlg1mBdE5pqZDZq5YbSVJZNJDA0NZbREOHPD7IVevGn10q6yshIDAwOorKw0uxSinOEGWDWYF0TmWrlyJcrKynDixAl87Wtfs/SZdCKCoqIiXLx4cc5ZrGQyicnJSfz93/89KioqcNddd837OQ2Rmd3B6vl8PixfvhxTU1Oorq7O19MSWdrMHiyjcTOkaQsM7yuQkbPaLXUSEX3UL3/5S7S3tyMWi5ldSs5s3LgR+/btw6pVq9Lvm62/0arBYoNGduXxeKYvSx4bnb4subODzVWWmBdE1hAIBHD16lWkUimzS5lTIBDApk2b8Nprr6GqqmrWjykqKsLHPvYxrFix4rbN8No3WKlUClevXsXKlStzutOfiOyHeUFEmco2L2brb7RKHcMwUF1dndNd/kRkT8wLIsqUirzQqsHy+/1Yvnw5Dw4kogUxL6hQ8eDixVORF1o1WE6nE1NTU7ccDkZENBvmBRUiHly8NCryQqsGS0Tg8/mQx21jRKQpu+QFZyOsy4rfGx5cvDQq8kKrBisQCGD16tUIBAJml0JEFmeHvOBshHVZ9XvDg4uXRkVeaHUVIRFRIVm7fiPOx1dMz0bMHEJ7fCvWLLuB4aHB2z7e4/Fg/8HDuDg+htq6enR1dsDlcplQuf0t9ntjel2OGxh+3by67E77qwiTySS8Xm9O73ZNRPZkh7xYzGyEVWdU7MqqM0VdnR0Qbz+M41uB/mMwjm+FjJxF19MdptZldSryQqsGKxgMorm5GcFg0OxSiMji7JAXtXX1MEb6gZmFhnluo8S9N/m1mO9NPrlcLrjdbqxZdgOOvm6sWXYjfVcIK+4ZswoleSF5NDU1JQBkamoqn08rIiJut1vWrNsgjvIKWbNug7jd7rzXQES0GG63WwCI0bhZ0PbM9H8B8Xg8t32so7xC0PaM4B9jN9/anhFHeYUJldvfYr43VpCut6llut6mFgHA34U5Mlt/o9UMViKRwMDAABKJxKL+HqfOiQrPUvPCSuabjfgoq86o2NVivjdWwBnO+anIC602ufv9fjQ0NGB0dHRRZ1VYdTMiEamz1LzQFW8aTvMpr6hEZFs30LL35jv7j8HR141wSN9l9FzJNi+03+TudDoxOTm56MFbdTMiEamz1LzQlW4zKpRfnOGcn4q80KrBSiQSOHPmzKKn8PiDRVR4lpoX2TB7E7HL5cLw0CDCoSCGhwbZXFEary6cn4q80KrBikQiaG9vRyQSWdTf4w8WUeFZal4sFfd6kpVxhnN+KvJCqz1Y2fB4PDhw6AjGx0ZRV9+Ars4O/mARUc5wrydR4dJ+D1Y8Hkdvby/i8fii/y6nzokKSzZ5sRTc60mkLxV5oVWDFYvF0NPTg1gsZnYplmH2ng8iq8p3Xthlr2chZUohjZXmpyIvCmaJ0I7Sl2U3tUAaW2CM9EO8/XC73bz/GFGe2eGYhELKlEIaK6k3W3+jVYMVi8Xwr//6r/izP/szlJWVKahQL9zzQTQ3M/JC972ehZQphTRWWli2eVHQe7DsiHs+iOZmRl7ovtezkDKlkMZKCyv4PViVlZU4c+YMKisrzS7FEuyy54NIBebF4hVSphTSWGlhKvJCqwYrGo2ip6cH0WjU7FIsged7kdWZuYmYebF4hZQphTRWWpiKvNCqwUomkxgYGEAymTS7FEvgwXFkZWYfvMm8WLxCypRCGistTEVeaLXJnYj0wU3ERHryeDzYf/AwLo6PobauHl2dHbyycgHab3KPRqPo7u7mlD+RBszeRMy8IFo8s2eezaIiL7RqsFKpFCYnJ5FKpcwuhYgWYPYmYuYF0eLtP3h4+mywPX1Ay17Inj4YjZtx4NARs0tTSkVecImQiJSww8GbRIWmvKISkW3dQMvem+/sPwZHXzfCoaBpdVmd9kuEKu52TURqmL2JmHlBtHhmzzybRUVelOTsMxERfYTL5eLmWCKNdHV2TM88H996y8xzl833YKnAJUIiIiJK0/2WT2bQfokwHA5j9+7dCIfDZpdCRBbHvCBaGt1v+bQUKvJCqwarqKgINTU1KCq6WbaZJ0UTkXXNlhdEC+HvlMKkIi+0XiJMX6XU1AJpbIEx0g/x9sPtdnPfBxERLQp/p9BSzdbfaNVghUIhfPWrX8WLL76IiooKnhRNRHP6aF4QLYS/UwpXtnmh/R6s4uJiNDc3o7i4GID5J0UTkXV9NC+IFsLfKYVLRV5oNYP1UXO+2nDcwPDrfLVBRESZ4+8UWirtZ7CCwSBaW1sRDE6fJtvV2QHx9sM4vhXoPzZ9bsfIWXQ93WFypURkto/mBdFC+DulcKnIC60arNLSUrS1taG0tBSA+SdFE5F1fTQviBbC3ymFS0VeaL1ESERERGQ2WywRNjc3c8qftMDzdMzFvCCiTKnIC60arLKyMrS3t6OsrMzsUojmNXOezvn4CkS2deN8fAW2b9/OJiuPmBdElCkVecElQiIFeJ4OEVHh0H6JMBAIoKmpCYFAwOxSSANmLtHxPB3zMS+IKFMq8kKrBsvhcKCnpwcOh8PsUsjizF6iq62rhzHSD8xMEIvA8L6CuoaGvDw/MS+IKHMq8oJLhGRLZi/Rpe9p1rgZ0rQFhvcVyMhZXvJNRGRD2i8R+v1+1NTUwO/3m10KWZzZS3Q8T8d8zAsiypSKvCjJ2WfKg/LycvT29qK8vNzsUsjiauvqcX6kH7L5L2/OYOV5ic7lcsHlcuXt+ehWzAsiypSKvOASIdkSl+iIiChftF8i9Pl8qK6uhs/nM7sUsjgu0RHzgii37Hx4soq80GoGK5lMYmxsDPX19SguLlZQIRHZBfOCKHfSqwJNLZDGFhgj/RBvP9xuty22QmSbF7P1N1o1WERERJQ7Ho8H+w8exsXxMdTW1aOrs2PWhsnsK7OtzhZLhIZhcMqfiBbEvCCa32LOC1zsldm6LSeqyAutGqyqqipMTEygqqrK7FKIyOKYF0Tz23/w8PSS354+oGUvZE8fjMbNOHDoyG0fu5jDk80+6HkpVOSFVg2WYRiorq6GMdNBExHNgXlBNL/FzEp1dXZAvP0wjm8F+o/BOL4VMnIWXU933Paxi2ncrEJFXmjVYPn9fixfvpwHBxLRgpgXRPNbzKzUYq7MNvug56VQkRdabXIXEfj9fjidTr4qJaJ5MS+I5qfqvMA5N8Q7bmD4dWtuiM82L7Tf5C4i8Pl8yGNPSEQZstqmVuYF0fxUnRe4mOVEq1CRF1rNYPGYByJrsuIZOcwLIvN4PB4cOHQE42OjqKtvQFdnh6UPelbRn2jVYBGRNfGMHCIqZNovESaTSXi9XiSTSbNLIaIPseKmVuYFEWVKRV5o1WAFg0E0NzcjGAyaXQoRfchirkbKF+YFEWVKRV6U5Owz5QFv3EpkTV2dHdN7sI5vveVqpC4TN7ozL4goUyryQqsZrEQigYGBASQSCbNLIaIPUXU1UjaYF0SUKRV5odUmd7/fj4aGBoyOjsLpdCqokIjsgnlBRJnKNi94FSERERFRjml/FWEikcCZM2c45U9EC2JeEFGmVOSFVg1WJBJBe3s7IpGI2aWQpqx22jipw7wgokypyAsuEVLBsOJp40REpD/tlwjj8Th6e3sRj8fNLsVWCmVWZ//Bw9PN1Z4+oGUvZE8fjMbNOHDoiNmlkQLMCyLKlIq80KrBisVi6OnpQSwWM7sU25iZ1TkfX4HItm6cj6/A9u3bbdlkWfG0cVKHeUFEmVKRF1wiLHCFdA+5OcfquIHh1+01ViIiyh/tlwhjsRhOnjzJV6Q5VEizOl2dHRBvP4zjW4H+Y9Onjo+cRdfTHWaXRgowL4goUyryQqsGi3sqcs+K95BTxYqnjZM6zAvKpULZq1qoVOQFlwgLXPrKusbNt9xDjo0HEdE0XoGcfx6PB/sPHsbF8THU1tWjq7PD0l9r7ZcIo9Eoenp6EI1GzS7FNjirQ3bFvKBc4RXI+WXGxVcq8kKrBiuZTGJgYADJZNLsUmzF5XJheGgQ4VAQw0ODbK7IFpgXlCuFtFfVCsxoaFXkhVYNVkVFBXp7e1FRUWF2KURkccwLypVC2qtqBWY0tCryQqsGKxqNoru7m1P+RLQg5gXlCq9Azi8zGloVeaFVg5VKpTA5OYlUKmV2KURkccwLyhXuVc0vMxpaFXnBqwiJiIjIUjweDw4cOoLxsVHU1Tegq7PD0g2t9lcRqrjbNRHZE/OCSF/5vvhKRV5o1WARERER6YBLhERERERZ0H6JMBwOY/fu3QiHw2aXQkQWx7wgs/C2OvpRkRdaNVhFRUWoqalBUZFWZRORCZgXZAYzTiGn7KnICy4REhER5cja9RtxPr5i+hRyw5g+w+n4VqxZdgPDQ4Nml0eKaL9EGAqF0NbWhlAoZHYpRGRxzAsyA2+roycVeaFVg1VcXIzm5mYUFxebXQoRWRzzgszA2+roSUVecImQiIgoR2b2YBmNmyFNW2B4X4GMnOXJ7zan/RJhMBhEa2srgsGg2aUQkcUxL8gMvK2OnlTkRUnOPlMelJaWoq2tDaWlpWaXQkQWx7wgs7hcLrhcLrPLoEVQkRdcIiQiIiLKgi2WCJubmznlT0QLYl7Qh/HwT5qPirzQqsEqKytDe3s7ysrKzC6FiCyOeUEzePgnLURFXnCJkIiIbI2Hf5Jq2i8RBgIBNDU1IRAImF0K5QGn9CkbzAuawcM/aSEq8kKrBsvhcKCnpwcOh8PsUkgxTulTtmby4qc//Skb9QLHwz9pISr6Cy4RkiVxSp9yIX3oY1MLpLEFxkg/xNsPt9vNy+gLCA//JNW0XyL0+/2oqamB3+83uxRSjFP6lC2/34//+af/D4ymzdONesteyJ4+GI2bceDQEbPLozzi4Z+0EBX9hVYNVnl5OXp7e1FeXm52KaQYp/RpPpnszysvL0cRDEjjFjbqBJfLheGhQYRDQQwPDbK5oluo6C+0arBKSkrQ3NyMkhKtDqCnJejq7IB4+2Ec3wr0H4NxfCtk5Cy6nu4wuzQyWab780pKSlDf0MBGnYgWpKK/0GoPls/nQ01NDSYnJ7mHqwB4PB4cOHQE42OjqKtvQFdnB191Usb783w+H+644w5EIhHuvSGieWXbX2i/B6uyshIDAwOorKw0uxTKA07p02wy3Z9XWVmJwcFB9Pb2cu8NEc1LRX+h1QwWEdGcM1iOGxh+nVeYElH+aT+D5fP5YBgGfD6f2aUQkUky3Z/HvCCiTKnIC60arKqqKkxMTKCqqsrsUojIJJlecs+8IKJMqcgLrZYIRQR+vx9OpxPGzP4LIqJZMC+IKFPZ5oX2S4R+vx/Lly/nQaNEtCDmBRFlSkVeaNVgOZ1OTE1Nwel0ml0KEVkc84KIMqUiL7RqsEQEPp8PeVzVJCJNMS+IKFMq8kKrBisQCGD16tUIBAJml0JUsDK5TY0VMC+IKFMq8kKrBqu6uhoiwjO0iEyS6W1qrIB5QUSZUpEXWl1FmEwmMTY2hvr6ehQXFyuokIjmk+ltaqyAeUFEmco2L7S/ijAYDKK5uRnBYNDsUogKUqa3qbEC5gURZUpFXmjVYFVXV8Pn83HKn8gktXX1MEb6gZmJbxEY3ldQ19BgbmGzYF4QUaZU5IVWDVYikcDAwAASiYTZpRAVpExvU2MFzAsiypSKvNCqwQqHw2hra0M4HDa7FKKClOltaqyAeUFkLyqvYFaRF1ptciciIqLCM3MFs9HUAmlsgTHSD/H2w+12w+VymV2e/pvcE4kEzpw5wyl/IloQ84LIPvYfPDzdXO3pA1r2Qvb0wWjcjAOHjuTk86vIC60arEgkgvb2dkQiEbNLISKLY14Q2YfqK5hV5IVWDVZVVRW8Xi+qqqrMLoWILI55QWQfqq9gVpEXWjVY8Xgcvb29iMfjZpdCRBbHvCCyD9VXMKvIC60arFgshp6eHsRiMbNLISKLY14Q2YfqK5hV5AWvIiQiIiLKgvZXEcZiMZw8eZKvSIloQcwLIsqUirzQqsHingoiyhTzgogyVfB7sCorK3HmzBlUVlaaXQoR5ViuT2lmXhBRplTkhVYNVjQaRU9PD6LRqNmlEFEOzZzSfD6+ApFt3TgfX4Ht27dn1WQxL4goUyryQqsGK5lMYmBgAMlk0uxSlFN5zyUiq1FxSnMh5QURZUdFXvAqQguy+j2XiHKtvKISkW3dQMvem+/sPwZHXzfCoaBpdRERZUL7qwij0Si6u7u1nfLPdFZK9T2XiKxGxSnNuucFEeWPirzQqsFKpVKYnJxEKpUyu5RFm2uPyVNPPXVb06X6nktEVqPilGad84KI8ktFXnCJME/Wrt+I8/EV07NShjH9Sv3gJmDy/7ttKfDu/3EvrlT84S0faxzfijWOGxh+fdDsoRAp4fF4cODQEYyPjaKuvgFdnR05O6WZiEgl7ZcIVdztOl9mm5VC8AbQ8IXblgIBUXrPJSIrcrlcGB4aRDgUxPDQYNbNlc55QUT5pSIvtGqwdDbbHhP43gbub71tKfDdd95Res8lIiIiUotLhHmSvjKwcTOkaQsM7yuQsZ/DqP+/IH/5Ey4FEhERaUr7JcJwOIzdu3cjHA6bXcqizXYn8Kf++q8gI2ctuRTIc7hIdzrnBRHll4q80KrBKioqQk1NDYqKtCo77aN7TL7zne9YcilQxanaZI5CbpR1zwsiyh8VecElQrrNbFc8Gse3Ys2yGxge4tKlLnhgLRFRfmi/RBgKhdDW1oZQKGR2KbbGc7jsodAPrGVeEFGmVOSFVg1WcXExmpubUVxcbHYptqbiVG3Kv0JvlJkXRJQpFXnBJUK6zaxXPI6ctcT+MMrcnEu9vEqViCintF8iDAaDaG1tRTDIm7+qNNsVj2yu9KPi9jM6YV4QUaZU5IVWDVZpaSna2tpQWlpqdim2l+tTtSn/Cr1RZl6oVchXqJL9qMgLLhESEdGi8ApVolvZYomwubmZU/5EtCDmhTqFfoUq2Y+KvNCqwSorK0N7ezvKysrMLoWILI55oU6hX6FK1rfYJWwVecElQiIiWhReoUpWZsYStvZLhIFAAE1NTQgEAmaXQkQWx7xQp9CvUCVrW8oStoq80KrBcjgc6OnpgcPhMLsUIrI45oU6hX6FKlnbUpawVeQFlwiJiIjINsxYwtZ+idDv96OmpgZ+v9/sUojI4pgXRIVpKUvYKvJCqwbmKAy9AAAgAElEQVSrvLwcvb29KC8vN7sUIrI45gVRYVrKEraKvOASIREREVEWtF8i9Pl8qK6uhs/nM7sU+hDeMoOsiHlBRJlSkRdaNViVlZUYGBhAZWWl2aXQB2bOGzkfX4HItm6cj6/A9u3b2WSR6XKVF3wBQWR/KvoLLhFSVua8WmPZDQwP8cBB0hvvuUdEmbDFEqFhGJzytxDeMoOsKhd5wXvuERUGFf2FVg1WVVUVJiYmUFVVZXYp9IHaunoYI/3AzESoCAzvK6hraDC3MCp4ucgLvoAgKgwq+ot0g3Xp0iU8+OCDqK2txaZNm+D1em/74DfeeAPFxcVYt25d+u03v/lNzopZiGEYqK6uhjETdmQ63jKDrCoXecEXEESFQUV/kW6wHnvsMTz66KO4ePEivvnNb2Lnzp2z/gWn04nh4eH027333puzYhbi9/uxfPlyHhxoIbxlBllVLvKCLyCICoOK/qIIAK5du4bBwUE88sgjAIDt27djYmICly9fztkT5YLT6cTU1BScTqfZpVhePq98crlcGB4aRDgUxPDQIJsrsoRc5AVfQBAVBhX9RREATExM4M4770RJSQmA6amyu+66C1euXLntLwSDQWzcuBEbNmzAgQMHkEwm5/zk0WgUPp/vljcACIfDAIBIJIJIJJJ+XzQaBQCEQqH042AwiFgsBmD6btfXr1+HiCAQCCCRSACY7jxnHvt8vnRNPp8PqVQKIgKfzwcRQSqVSteRTCbTjxOJRLpzTSQS6Ttqx+NxBINBAEAsFks/jkajCIVC6cdLHVMwGEQ8Hk+PLxdj+sEPfjDr0Qn//u//ru2Y7Ph94pjUjsnv9+O9996DiGQ1ps2bN2N4aBB+3xR+8Z8/x8MPP8zvE8fEMdlsTD6fL50XSx3TbUREBgcHpba2Vj5s06ZN8rOf/eyW90UiEXn33XdFROT69euyefNm+c53viNz6erqEgC3vX3lK18REZEnn3xSnnzySRER2bVrl3R1dYmIyI4dO+To0aMiIrJlyxY5ceJEuiYAMjU1JY2NjXL69GkREVm1apWcO3dOREScTqdcuHBBPjh+QiYmJmRqair99yYmJuSDYcuFCxfE6XSKiMi5c+dk1apVIiJy+vRpaWxsFBGRU6dOyQMPPCAiIidOnJAtW7aIiMjRo0dlx44d6XHu2rVrSWN64IEH5NSpUyIiORtTUUmZGE0tguejgn+MCZ6PitHwBVlWUantmOz4feKY1I6pvr4+XaddxmTH7xPHxDFZYUwrV65M17yUMX34/8+AiMi7774rTqdT4vG4iIikUim544475NKlSzKfH/7wh7Jt27Y5/38kEpGpqan020xR77zzjoiIhMNhCYfDIiISCoUkEomIiEgwGEw/DgQCEo1G049jsZiIiPj9/nS9Pp8v/XhqakoSiUT6cTKZlFQqJVNTU5JKpSSZTKa/AIlEIv04Ho+Lz+dLP/b7/SIiEovFJBAIiIhINBpNP45EIhIMBtOPQ6GQZca0rLxC0PbMdHM189b2jCwrr9B2THb8PnFMHBPHxDFxTPYY02wNVvqg0c997nPYuXMndu7ciR//+Mf49re/jcHBWw+KvHbtGj72sY+htLQU0WgUjzzyCBoaGnDgwIHZp8c+ItuDRpPJJMbGxlBfX4/i4uJF//1CMefhn44bGH6dh39SYWBeEFGmss2LeQ8aff755/H888+jtrYW3/72t/HCCy8AAPbt24fnnnsOAPDqq69i/fr1WLt2LTZs2IA/+IM/QEdH/q6mCQaDaG5uTq/J0ux45RMR84KIMqciL3irHJvyeDw4cOgIxsdGUVffgK7ODl75REREpMBs/Y1WDVYikcBrr72GTZs2pa94JCKaDfOCiDKVbV5ofy/CcDiMtra29OWZRERzYV4QUaZU5IVWM1hEREREVqP9DFYikcCZM2fSB4MREc2FeUFEmVKRF1o1WJFIBO3t7elTW4mI5sK8IKJMqcgLrRqsqqoqeL1eVFVVmV0KLSCf90Ikmg3zgogypSIvtGqw4vE4ent70/cRImvyeDyz3guRTdbisVFduvnygl9XIvowFf2FVg1WLBZDT09P+qaNZE37Dx6G0dQyfZJ8y17Inj4YjZtx4NARs0vTip0b1Xw0OHPlhZ2/rkQ0v7myR0V/wasIKefKKyoR2dYNtOy9+c7+Y3D0dSMc4qnamZrzlkfLbmB4SN9bHs00OEZTC6SxBcZIP8TbD7fbDZfLNevH7z94GBfHx1BbV4+uzo5ZPy5Tdv26EtH8Fps9i6H9VYSxWAwnT57kDJaJMpl5qK2rhzHSD8z07iIwvK+grqEhz9Xq7eL4GKSxZboJAADDgDRtwfjYqLmFZWkxM5zZzDbNlRd2/boS0fzmyx4V/YVWDRb3YJkr0192vBdibti1UV1Mg5PNcvNceZGLryv3cBHpZ77sUdJfSB5NTU0JAJmamsrn01KOrFm3QYymFsHzUcE/xgTPR8Vo3Cxr12+87WPdbresXb9RHOUVsnb9RvF4PCZUrDe32y0AxGjcLGh7Zvq/gPZfyzl/jjbc/nPkKK8QtD0z/XEzb23PiKO8YsnPn+3XNf33m1qm/35TiwAQt9u95JqISL3FZM9izdbfaNVgRSIROXr0qEQikRxXRplQ8cuO5mfHRnUxDU42gThfXmTzdV3MCw2ihbjdblmzboM4yitkzboNbNQVmi97su0vtG+wgsGg7NixQ4LBYI4ro0yo7P6psGTa4GQz26QqL/hCg3KFs6H5N1f2ZJsXs/U3vIqQMpa+AqNxM6RpCwzvK5CRs/B4PHj44YfNLo9syuPx4MChIxgfG0VdfQO6OjtM/Xmb8ypExw0Mv86rEClzvKLVPrS/ijAajaK7uxvRaNTsUgqSy+WC2+3GmmU34OjrxpplN9hckXIulwvDQ4MIh4IYHhrM+OdNVV7wIg7KFV7Rah0q8kKrBiuVSmFychKpVMrsUgrWUn/ZEeWbqrzgCw3KFbteKawjFXnBJUIiIiITcNuFfWi/RKjibtdEZE/MC7I6zoZah4q8KMnZZyIiIqJFcblcWd+mhayJS4RERERkmlzfb9QM2i8RhsNh7N69G+Fw2OxSTMHbcxBlrtDzQlfMucKSzf1Gc0lFXmjVYBUVFaGmpgZFRVqVnRNW+SEk0kUh54WumHOFJ5v7jeaSirzgEqEmeCAdEdkdc67wlFdUIrKtG2jZe/Od/cfg6OtGOBQ0ra7F0n6JMBQKoa2tDaFQyOxS8o4H0hEtTiHnha6Yc4XHKmeBqcgLrRqs4uJiNDc3o7i42OxS8s4qP4REuijkvNAVc67wWOXOCCrygkuEmuCBdERkd8y5wmS1+40uhfZLhMFgEK2trQgG9VmXzRUeSEe0OIWcF7pizhUmK9yCTUVeaHXQaGlpKdra2lBaWmp2KabggXREmSv0vNAVc47MoCIvuERIRERElAVbLBE2Nzdzyt9meLAgqcC8IKJMqcgLrRqssrIytLe3o6yszOxSKEd4sCCpwrwgokypyAsuEZKpeLAgERHpTvslwkAggKamJgQCAbNLoRzhwYLWYbelWuYFEWVKRV5o1WA5HA709PTA4XCYXQrlCA8WtAY7LtUyL4goUyrygkuEZCoeLGgNXKolIlo67ZcI/X4/ampq4Pf7zS6FcoQHC1qDHZdqmRdElCkVeaHVQaPl5eXo7e1FeXm52aVQDvFgQfPV1tXj/Eg/ZPNf3pzB0nyplnlBRJlSkRdcIiQiLtUSEWVB+yVCn8+H6upq+Hw+s0shshU7LtUyL4goUyryQqsZrGQyibGxMdTX16O4uFhBhURkF8wLIspUtnmh/QxWcXExmpqaGJZEtCCr54Xdzh0j0pmKvNCqwfL5fDAMg1P+RLQgK+eFHc8dm8HGMb/49c4NFXmh1RJhKpXC1atXsXLlShQVadUbElGeWTkv7HruWPpiiaYWSGMLjJF+iLcfbrebVworwK937mSbF7P1N1o1WCICv98Pp9MJY+a8HiKiWVg5L8orKhHZ1g207L35zv5jcPR1IxwKmlZXtuzaOFoVv965k21eaL8Hy+/3Y/ny5QseBMYpUyLKNC/MoNstojLNVDseWGtlun29rfy7WUVeaNVgOZ1OTE1Nwel0zvkxdt7bQESZyyQvzNLV2QHx9sM4vhXoPwbj+FbIyFl0Pd1hdmm3WUym6tY46k6nr7fVfzeryAutlggzWSPllCkRAdbegwVM/8I5cOgIxsdGUVffgK7ODkueO7aYTOWBtfml09fb6r+bVezBsl7qzCMQCGD16tUIBAJzfoxuU6ZEpEYmeWEml8uF4aFBhENBDA8NWu4X4ozFZKodD6y1Mp2+3lb/3awiL7SawcrEnF2y4waGXze/SyYi0gkzlXLB7j9H2s9gJZNJeL1eJJPJOT9Gp70NRKROJnlBC2OmUi5Y/edIRV5o1WAFg0E0NzcjGJz7MmadpkyJSJ1M8oIWxkylXLD6z5GKvLDdEiERERFRPmm/RJhIJDAwMIBEImF2KURkccwLIsqUirzQqsEKh8Noa2tDOBw2uxQisjjmBRFlSkVeaNVgOZ1OTE5OWvLgQCKyFqvkhZVPryaiaSryQqsGK5FI4MyZM5zyJ6IFWSEvrH56NRFNU5EXWm1yDwQC+KM/+iP893//N6qqqhRUSER2YYW8sPrp1UQ0Ldu80H6Te1VVFbxeL5srIlqQFfLC6qdXE9E0FXmhVYMVj8fR29uLeDxudilEZHFLyYtc75fS6Wa8RIVMRX+hVYMVi8XQ09ODWCxmdilEZHGLzQsV+6Wsfno1EU1T0V9otQeLiEgVVfulPB4PDhw6gvGxUdTVN6Crs8Myp1eTPjweD/YfPIyL42OoratHV2cHXC6X2WXRB7TfgxWLxXDy5EnOYBHRghabF6r2S7lcLgwPDSIcCmJ4aJDNFS0ar0ZVT0V/oVWDxT1YRJSpxeYF90uRVe0/eBhGU8v07GrLXsiePhiNm3Hg0BGzS7MNFf0FlwiJiHBzlsBo3Axp2gLD+wpk5KylbkhLham8ohKRbd1Ay96b7+w/BkdfN8Ih3szcCrRfIoxGo+jp6UE0GjW7FCKyuMXmhcvlgtvtxpplN+Do68aaZTds01wV0mnydhwrZ1fVU9FfaNVgJZNJDAwMIJlMml0KEVncUvLCjvulCmn/jl3HyqtR1VPRX3CJkEgzvJqIFqOQTpO381h5Naq12WKJsLu7m0uEVLDs+gpdBebFtEI6Td7OY7Xj7Gqu5GJZWEVeaNVgpVIpTE5OIpVKmV0KkSl4NVHmmBfTCmn/TiGNlabl6kWnirzgEiGRRng1ES1WIV0dWUhjpWlWWRbWfokwEomgvb0dkUjE7FKITMFX6JljXkyz89WRH1VIY6VpuVoWVpEXJTn7TESkXFdnx/Qr9ONbb3mF3sU9WDQPl8tVMBdCFNJYafpF5/mRfsjmv7w5g2WRF51cIiTSDK8mIiKaZpVlYe2XCMPhMHbv3o1wOGx2KUSm4dVEmWFeENlfrpaFVeSFVg1WUVERampqUFSkVdlEZAId88KOp5ATqZaLF50q8oJLhEREFpBe6mhqgTS2wBjph3j74Xa7uaeIyOK0XyIMhUJoa2tDKBQyu5Q0vuIksiYr5sV8eMYZkXlU5IVWDVZxcTGam5tRXFxsdikAeKo2kZVZLS8WYudTyImsTkVecIkwC1Y54IyI9DdnnjhuYPh15gmRlWm/RBgMBtHa2opg0BonVvMVJ5F1WS0vFtLV2QHx9sM4vhXoPzZ91tnIWXQ93WF2aUS2pyIvtGqwSktL0dbWhtLSUrNLAcBTtYmszGp5sRCeQk5kHhV5wSXCLFjlgDMiIiIyjy2WCJubmy0z5c9XnETWZbW8ICLrUpEXWjVYZWVlaG9vR1lZmdmlpPFUbSJrsmJe5BKPiCHKHRV5wSVCIiLN8FBSImvRfokwEAigqakJgUDA7FKIyOLsnBc8lJQot1TkhVYNlsPhQE9PDxwOh9mlkM1wucV+7JwXPCKGKLdU5IVWDVZJSQlaW1tRUlJidilkIzyR357snBc8IoYot1TkhVYNlt/vR01NDfx+v9mlkI1wucWe7JwXPJSUKLdU5IVWDVZ5eTl6e3tRXl5udilkI1xusSc75wWPiCHKLRV5wasIqeDxHnBERJQN7a8i9Pl8qK6uhs/nM7sUshEut9gT84KIMqUiL7RqsCorKzEwMIDKykqzSyEb4XKLPTEviChTKvKCS4REREREWbDFEqFhGJzyJ6IFMS+IKFMq8kKrBquqqgoTExOoqqoyuxQisjjmBRFlSkVeaNVgGYaB6upqGDOX01PBMfvEdbOfnzLHvCCiTKnIC60aLL/fj+XLl9vy4EBamNknrpv9/LQ4zAsiypSKvNBqk7uIwO/3w+l08lVpAZrzvKplNzA8pP68KrOfnxaHeUG68ng82H/wMC6Oj6G2rh5dnR1wuVxml2Vr2eaF9pvcRQQ+nw957AnJQsw+cd3s56fFYV6QjjhTbg4VeaFVgxUIBLB69WoEAgGzSyETmH2DW7OfnxaHeUE64r1RzaEiL7S6zXx1dTVfjRawrs4ObN++ffqk9aYtMLyvTJ+4nqdXdmY/Py0O84J0dHF8DLKt+/aZ8r5uM8uyPRV5odUMVjKZhNfrRTKZNLsUMoHZJ66b/fy0OMwL0hFnys2hIi+02uTu8/lQU1ODyclJngRPRPNiXpCOZvZgGY2bb5kp54s5tbLNC+03uc/ciJFhSUQLYV6QjjhTbg4VeaFVg5VIJDAwMIBEImF2KbREPKiT8oV5QbpyuVwYHhpEOBTE8NAgm6s8UJEXWjVY4XAYbW1tCIfDZpdCS8DLjymfmBdElCkVeaHVHizSm50P6uTBgEREhUv7PViJRAJnzpzhlL+m7HpQJ2fmrIl5QUSZUpEXWjVYkUgE7e3tiEQiZpdCS2DXy495MKA1MS+IKFMq8kKrBquqqgperxdVVVVml0JL0NXZAfH2wzi+Feg/Nn1g58hZdD3dYXZpWbHrzJzumBdElCkVeaFVgxWPx9Hb24t4PG52KbQEdr382K4zc7pjXhBRplTkhVab3IPBIDZv3oyzZ8+isrJSQYVEi8eDAa2JeUFEmco2L2brb7RqsIisyuPx4MChIxgfG0VdfQO6OjvYXBERFQjtryKMxWI4efIkYrGY2aUQ3YIHA1oP84KIMqUiL7RqsPK1p4KnjRPpj3uwiChTBb8HKx/S+2maWiCNLTBG+iHefrjdbh4cSURERLfRfokwGo2ip6cH0WhU2XPwTCMie8hHXhCRPajIC60arGQyiYGBASSTSWXPwTONiOwhH3lBRPagIi+4RPgRc94vz3EDw6/rfb88IiIiyj1bLBF2d3crnfK362njRIUmH3lBRPagIi+0arBSqRQmJyeRSqWUPYddTxsnKjT5yAsisgcVecElQiKiAuTxeLD/4GFcHB9DbV09ujo7eKU00RJpv0So4m7XRGRPzIu5zRxHcz6+ApFt3TgfX4Ht27fzzD8qWCryQqsGi4iIssfjaIjU4xIhEVGBKa+oRGRbN9Cy9+Y7+4/B0deNcChoWl1EutJ+iTAcDmP37t0Ih8Nml0JEFse8mFttXT2MkX5g5vW1CAzvK6hraDC3MCKTqMiLkpx9pjwoKipCTU0Nioq06guJyATMi7l1dXZM3xLs+FZI0xYY3lemj6PhHiwqUCrygkuEREQFyOPx4MChIxgfG0VdfQO6Ojt4HA3REmm/RBgKhdDW1oZQKGR2KURkccyL+blcLgwPDSIcCmJ4aJDNFRU0FXmhVYNVXFyM5uZmFBcXm10KEVkc84KIMqUiL7hESERERJQF7ZcIg8EgWltbEQzyMmIimh/zgogypSIvtGqwSktL0dbWhtLSUrNLISKLY14QUaZU5AWXCImIiIiyYIslwubmZk75E9GCmBdElCkVeaFVg1VWVob29naUlZWZXQqRtjweD9au34jyikqsXb/Rtjf4ZV4QUaZU5AWXCIkKiMfjmT7Bu6kF0tgCY6Qf4u2H2+2Gy+UyuzwiIi1pv0QYCATQ1NSEQCBgdilEWtp/8PB0c7WnD2jZC9nTB6NxMw4cOmJ2aTnHvCCiTKnIC60aLIfDgZ6eHjgcDlOev1CWVsi+Lo6PQRpbAMOYfodhQJq2YHxs1NzCFDA7L4hIHyryQqsGq6SkBK2trSgpyf89qmeWVs7HVyCyrRvn4yuwfft2Nlmkldq6ehgj/cDMzgARGN5XUNfQYG5hCpiZF0SkFxV5oVWD5ff7UVNTA7/fn/fnLqSlFVLLzJnQrs4OiLcfxvGtQP8xGMe3QkbOouvpjrzVkC9m5gVlJtt/C1xVoFxRkRdaNVjl5eXo7e1FeXl53p+7kJZWSB2zZ0JdLhfcbjfWLLsBR1831iy7AY/HY8sb/ZqZF7SwbP8tmP1viexFRV7wKsIMrV2/EefjK6ZnsAxjemnl+FascdzA8OuDZpdHmpjz52jZDQwP8eeICke2/xb4b4msRPurCH0+H6qrq+Hz+fL+3IW0tELqcCY0f8zMC1pYtv8W+G+JcklFXmjVYFVWVmJgYACVlZV5f+5CWlohdQppk7nZzMwLWli2/xb4b4lySUVecImQKI/SB302boY0bYHhfQUycpbNOhWcbP8t8N8SWYktlggNw+CU/xLxihvzcSY0f5gX1pbtvwX+W6JcUpEXWs1gpVIpXL16FStXrkRRkVa9oel4ixQqNMwL+/B4PNh/8DAujo+htq4eXZ0dzC3KqWzzYrb+RqsGS0Tg9/vhdDphzGxspIzwihsqNMwLe+CLQ8qHbPNC+yVCv9+P5cuX8+DAJeAVN1RomBf2wEOeKR9U5IVWDZbT6cTU1BScTqfZpWiHV9xQoWFeWEc2+z/54pDyQUVeaNVgiQh8Ph/yuKq5JFbcTM5zvKjQ6JIXdpftiet8cUj5oCIvtNqDpcMxD1beL+DxeHDg0BGMj42irr4BXZ0dvOKGbEuHvCgE2e7/5HEMlA8q+hOtGiwdcDM5EdFN5RWViGzrBlr23nxn/zE4+roRDgUz+hx8cUgq5eIqVe03uSeTSXi9XiSTSbNLmRP3CxBZgw55UQhyscTncrkwPDSIcCiI4aFBNleUMypvGq7VDJbP50NNTQ0mJyctOwPGm0ITWYMOeVEIuMRHVparVSftZ7BmbsRo5bDkZnIia9AhLwoBT1wnK1O56qRVg5VIJDAwMIBEImF2KXNimBBZgw55USi4xEdWpfIqVa2WCP1+PxoaGjA6OsqzbYhoXswLIlrIzSXsL0CaWmF4z0BGfrboiRHtlwidTicmJycZlkR5YsUz3TLFvCCihdxcdXr/g1Wn93O26qRVg5VIJHDmzBlO+RPlgcqra/KBeUFEmXC5XBj8P7/ES/+vB4P/55c5W8LWqsGKRCJob29HJBIxuxQi29PtHnAfnW37j//4D+YFkWI6z3J/mIr+QqsGq6qqCl6vF1VVVWaXQmR7Op3pNtts2yOPPIKDBw8yL4gU0X2W+8NU9BfaNFgejwdr1m9AmaMca9Zv0PIbSKQTne4BN9dsW/vfPIV4PG52eUS2pNss93zi8Th6e3tzmhdaNFgzXfKF+ArEv3QAFzTukol0odOZbnPNtl15803EYjFziyOyKZ1muRcSi8XQ09OT07zQosG62SX/5IMu+SfadslEKqjYB6HTmW5zzbatWbsWlZWV5hZHZFM6zXIvpLKyEgMDAznNCy0aLDt1yUS5pnIfhC4HRM412/bgH32GM1hEiug0y72QWCyGkydPFt4Mlp26ZKJcs9M+iKWabbbthz/8IX7zm99wDxaRIjrNci9ExR4sLU5y581CieZWXlGJyLZuoGXvzXf2H4OjrxvhUNC0uoiICsW8J7lfunQJDz74IGpra7Fp0yZ4vd5ZP0lfXx/q6+vxqU99Ci6XCz6fT3nhM13y/WXvoeR/deL+svfYXBF9gDO8s4tGo+jp6UE0GjW7FCKyOBV5kW6wHnvsMTz66KO4ePEivvnNb2Lnzp23fXAgEMCuXbvw0ksv4dKlS1i5ciUOHjyYs2Lm43K58Mv//Qs89KX/G7/8379gc0X0ATvtg8ilZDKJgYEBJJNJs0shIotTkReGiMi1a9dw33334b333kNJSQlEBHfeeSdeffVV3HfffekP7u3txT/90z/h9OnTAICRkRFs2bIFk5OTGT1Ztjd7JqLZeTweHDh0BONjo6irb0BXZwdfhBAR5cmcS4QTExO48847UVJSAgAwDAN33XUXrly5cssnuHLlCu6+++70n++55x68/fbbc97rKxqNwufz3fIGAOFwGMD00fQzx9KHw+H01FwoFEo/DgaD6V397733Hjo7OxGNRhEIBNLP6/f70499Pl+6A/X5fEilUhAR+Hw+iAhSqVS6jmQymX6cSCTg9/vTjwOBAIDpjW/B4PQ+llgsln4cjUYRCoXSj5c6pmAwmN5UxzFxTEsdk8vlwi/PvYob713H8NAgvvjFL2o/pmy/T9evX8e+ffsQjUZtMyY7fp84Jo7JCmP63e9+l86LpY7pNiIig4ODUltbKx+2adMm+dnPfnbL+5599ll59NFH038OBoNSVFQk8XhcZtPV1SUAbnv7yle+IiIiTz75pDz55JMiIrJr1y7p6uoSEZEdO3bI0aNHRURky5YtcuLECRER+cxnPiOf//znJRQKSWNjo5w+fVpERFatWiXnzp0TERGn0ykXLlyQDzbvy8TEhExNTQkAmZqakomJCflg2HLhwgVxOp0iInLu3DlZtWqViIicPn1aGhsbRUTk1KlT8sADD4iIyIkTJ2TLli0iInL06FHZsWNHepy7du1a0pgeeOABOXXqlIgIx8QxcUw5HFNDQ4O0trZKKBSyzZjs+H3imDgmK4xp5cqVsm3bNgmFQksa04f//wyIiLz77rvidDrTjVIqlSPAshEAAATtSURBVJI77rhDLl26JB926tQpaW1tTf/Z6/Wmv0CziUQiMjU1lX6bKeqdd94REZFwOCzhcFhEREKhkEQiERGZbtxmHgcCAYlGo+nHsVhMRET8fn+6Xp/Pl348NTUliUQi/TiZTEoqlZKpqSlJpVKSTCbTX4BEIpF+HI/HxefzpR/7/X4REYnFYhIIBEREJBqNph9HIhEJBoPpx6FQiGPimDgmjolj4pg4pgIc02wNVvqYhs997nPYuXMndu7ciR//+Mf49re/jcHBwVtmu/x+P+69917813/9F+rr6/HEE0/A4XDg2WefnX167COy3YMViUTwt3/7tzhy5AgcDsei/z4RFQ7mBRFlKtu8mK2/KZn5n88//zx27tyJI0eOoLq6Gi+88AIAYN++fVi5ciUef/xxOJ1OnDx5Eg899BASiQTuv/9+vPjiizkaHhEREZE9aHHQKBEREZFVzTuDlQ8zvdxSDycNh8P4m7/5G3z3u99FeXl5LksjIpthXhBRprLNi5m+5sNzVnmdwZqcnMTq1avz9XREREREeTMxMYGamhoAeW6wUqkUrl69CqfTCcMwFv33fT4fVq9ejYmJCS4xEtG8mBdElKls80JE4Pf7sXLlShQVTd8kJ69LhEVFRenOLhvV1dUMTCLKCPOCiDKVTV4sX778lj8XzfFxRERERLREbLCIiIiIcqy4u7u72+wiFqO4uBif+9zn0vdNJCKaC/OCiDKV67zI6yZ3IiIiokLAJUIiIiKiHGODRURERJRjbLCIiIiIcsySDdalS5fw4IMPora2Fps2bYLX65314/r6+lBfX49PfepTcLlcS74FDxHpK5O8eOONN1BcXIx169al337zm9+YUC0RmWXPnj245557YBgGhoeH5/y4XPUWlmywHnvsMTz66KO4ePEivvnNb2Lnzp23fUwgEMCuXbvw0ksv4dKlS1i5ciUOHjyY/2KJyFSZ5AUAOJ1ODA8Pp9/uvffe/BZKRKbasWMHXn31Vdx9991zfkwuewvLNVjXrl3D4OAgHnnkEQDA9u3bMTExgcuXL9/ycT/96U+xfv161NfXAwC+/vWv40c/+lHe6yUi82SaF0REn/3sZxe8m0wuewvLNVgTExO488470+dQGIaBu+66C1euXLnl465cuXJLF3rPPffg7bffRiKRyGu9RGSeTPMCAILBIDZu3IgNGzbgwIEDSCaT+S6XiCwul72F5RosIqJcu/POO/HWW2/h9ddfx9mzZ/GLX/wCR48eNbssIrIxyzVYq1evvqVbFBFcuXIFd9111y0fd9ddd+HNN99M//mNN9645ZUsEdlfpnmxbNkyfPKTnwQAfPzjH8ef//mf4xe/+EXe6yUia8tlb2G5BuuTn/wkNmzYgB/84AcAALfbjZqaGtx33323fNwXv/hFDA0NYWxsDADwD//wD/jyl7+c93qJyDyZ5sW1a9cQj8cBANFoFB6PB+vXr897vURkbbnsLSx5q5zx8XHs3LkT169fR3V1NV544QV8+tOfxr59+7By5Uo8/vjjAICXX34ZTz31FBKJBO6//368+OKLWL58ucnVE1E+ZZIXHo8H+/btQ3FxMRKJBD7/+c/j2WefxbJly8wun4jy5LHHHsNPfvITvPPOO1ixYgWcTicuX76srLewZINFREREpDPLLRESERER6e7/B8VFK4fr5lQKAAAAAElFTkSuQmCC\" />"
      ]
     },
     "execution_count": 114,
     "metadata": {},
     "output_type": "execute_result"
    }
   ],
   "source": [
    "scatter(x, rand(100))"
   ]
  },
  {
   "cell_type": "code",
   "execution_count": 115,
   "metadata": {},
   "outputs": [
    {
     "data": {
      "text/html": [
       "<img src=\"data:image/png;base64,iVBORw0KGgoAAAANSUhEUgAAAlgAAAGQCAYAAAByNR6YAAAABHNCSVQICAgIfAhkiAAAAAlwSFlzAAAPYQAAD2EBqD+naQAAIABJREFUeJzs3Xl0XNWVL/7vuVUqValUJcuTVBo8YRsPOGCDwTK2ZARYTkKABOtlgoTXGEj4JTSo+yUvL7+AQ5J+dF7QSzfpTghO6JAOJBbpJh1IMOBBsrEYjCHBYvCEbckqSR5rUs13vz/KKjCWbQ1Vuveesz9rea3CUexdKu+tfe/Z9xxBRATGGGOMMZYzmtEBMMYYY4zJhhssxhhjjLEcsxv5l+u6ju7ubng8HgghjAyFMcYYY2xEiAihUAgVFRXQtMy9K0MbrO7ublRXVxsZAmOMMcZYTnR2dqKqqgqAwQ2Wx+PJBuT1eo0MZUwdjxG+8UoaLe8TSguBL8/S8DcXapjqOf0uHhFhTwDY0KVj/X4dfz0O3DFHw32LNHgcfMePjU4sFsN3v/td3H///XA6nUaHw/Jk90nCHVvTePM4oc4nsHq6huumCJQWnl5D0jqh1U/47T4dfzxEsGtA8xU2NF7AkyT5xHkoh2AwiOrq6mxfAxjcYA0sC3q9XmUarI2Hddy8OY24Djy60oabZwo47Wdvli4rAS6bAvzPJYSHO3R8e4eO544BP1tmw8erufCxkXM4HCgsLITX6+XCLiGdCP/6to7/8YqOqcXAK5+zYfGkc9eMG8cBN84FTsYJd72UxpodhM0nBf7lShtK+KIuLzgP5fLhcSdh5DYNwWAQJSUlCAQCSjRYj76r46vb0qivEPi3Ohsq3MMvWO8HCXdsS+PFw4TmJRruXWDLQ6SMMSsLJwmNL6bxXBfha/M0/OMVGorOcSF3Nr/Zq+OubWmUFgK/v8aOSydxk8XYYAbrZwy9g6WS7+9M4zuv67hrnoZ/qtFg10ZWqKZ7BZ7/uA3fek1H08s6iICmj3GTxYYvGo3i61//Oh5++GG4XC6jw2E5Ek0Rbng+jVePEP68yoZVo7jT/cWZGq4sE2h8MY1r/5xC63V2LBjPTVYuqZCHiUQCBw8eRDqdNjqUUdE0DT6f77RlwHPhBmsM/PAvmebqe5dq+PZCbdRPTAoh8L8Xa9AE8Hev6NAB/D03WWyYNE1DVVVV9okXZn3xNOGmF9No7yVs+LgNy32j/2yneQRe+IQN9c+mcO2fUmi7zo7Z47jJyhXZ87Crqwtf+MIX0N/fb3QoOfPpT38a3/rWt877mfESYZ49+q6OO7am8Z2FGh64LLdNEBHhOzt0/OBNHf94uYZvXMxNFmOqSuqEz25M40+dhGcabLimMrc/sI9ECXXPpBBOAls/ZT/joRzGPkrXdXzlK19BT08PHnjgAcvPmCWTSbzxxht4+OGHceONN+Lb3/529n/jJcIxtrk7M79w1zwN370091cnQgh87zINQgDffFXH7BKBG6fJeRXEcq+/vx9f/vKX8atf/QpFRUVGh8NGgYhwW2safzxI+M9rc99cAcAkl8ALn7Bj+R9TuOZPKbx0vR2TXdxkjZbMeXj06FHs3LkTP/jBD3DJJZcYHU5OLFiwAADwz//8z7j77rvPuVzIP43zZH8wc6t+RYXAP9WMflnwbIQQeOBSDZ+ZJvDfW9N4P8hHS7KhsdlsqKmpgc3Gdz6t7hfvEX69l/CrFTZcNzV/Zb3SLbDxE3YEk8CXtqSh81G2oyZzHp48eRIAsvtCyWLhwoUAAL/ff86v4wYrDxLpzK36Ugew/mrbiAfah0oIgV/U2lBaCHx2UxqJNBc9dn6FhYVoampCYWGh0aGwUXjnBOHu7WncPkfgCzPzX9KnewUer7NhQxfhx2/pef/7ZCdzHup65t+HbM1jQUEBgA/e39lwg5UH33pNx1+OE353te2MzfzyZVyhwPqrbXjzGOGbr3LRY+cXiUTQ0NCASCRidChshGIpwuc2pTDVA/zfJWP3Q6yhWkPTAg3/8zUdO4/yBd1ocB6aw4EDB7BixQqUlJTkbDmTG6wc2+rX0fyWjgcXa7jsPJv65dplkzQ8dIWGH+/S8fQBbrLYuRUUFKCxsTF7Ncas5xuv6nj3JPDbejvcBWM7D/UPizVcVAp8flMK4SQ3WSPFeWgOXq8X3//+9/HEE0/k7M/kBiuHoinCbW1pXFkmcM8CY761X5ufmcf6m7Y0jkS56LGzczgcWLNmDRwOh9GhsBF45qCOhzt0/OgKDRdPGPth80KbwJP1dnRFgL/dbu39jYzEeTi2fvSjH+GOO+7I/vfJkycxceJEAMCyZcvgdrtz9nfxU4Q5dP/rOg5FgD822KDlaaj9fIQQ+NkyGy5sSeGbr6bxyzr+iNngIpEIrrnmGrz44os5LSos/8JJwldeSuPj1QJfm2/cdfKF4wR+XGPDHVvTuGWWjhUVfM0+XKrl4f4g4WQi93/uOAcww3v+n7tr1qzB7Nmz8cMf/hDjxo3DY489hhtuuAHjx4/PeUz80zdHXj9CeOgtHf9wmYYLDd6Eb5IrsxHpV7bp+JsLdSwr56LHzuRwONDU1MRXzhb0gzd0HIsB/7LUlrcnlIfqtgsFfvmewN3taez8tMj7Qz2yUSkPj8YIs9anoOdhccUmgJ6b7ZjoPPe/v3HjxmH16tX45S9/iXvvvRc//elP8bvf/S73AYEbrJwgItzdnsb8UuDvPmaOZmbNhRp++R7hq9vS2PkZgQIueuwjBmY/mLXsPpm5mPtfl2iYPoQr9nzThMBPltqw+OkUfvq2jq9fJNcTY/mmUh5OdArs+W/2vN3BOl9zNeDuu+/G9ddfj7lz52LSpEnZbRdyjRusHPjtPsL2XsLGT+R/S4ahsmkC/3qlDZf/IYWHd+l8XiE7QzgcxhVXXIFXXnkFxcXFRofDhoCIcM/LaVQWAd+82BwXcwBw6SSBNXME7ntdx+cu0DCJNyAdMtXycCjLePk2Z84czJgxA3fccQd++MMf5u3vMU+GWlQkSfjGq2l8ZppAfR52Tx6NSycJ3DVXw32v6/D388A7O53T6URzc7Plj69QyTOHCH/uJDQvscFlN/4H1Yf94NRRYP/rNR54Hw7OQ2PcfvvtSKVSWL16NYDMjvpVVVVobGzE22+/jaqqKnzrW98a1d/Bd7BG6Yd/1dEXBf7PFea8Q/S9yzT8+14dP3hDx0+uNGeMzBh2ux0NDQ1Gh8GGKJ4m3NOexspKgRunmau5AjKzn9+7TMPd23XcOVcf821qrIrz0BibN2/GXXfdld0eo6ioCF1dXTn9OzgDRuFojPDQX3X87UWaKW57DmZcocA3L9bw83d1PkaHnSYUCqGqqgqhUMjoUNgQrHtXx4Ew8OMa4wfbz+YrczVcNB74H6/wPnxDxXk4trq7uzFnzhzs3LkT99xzT17/Lm6wRuGHf9EhBPANE81CDObr8zWMLwS+u5Nv3bMPuFwutLS0wOVyGR0KO49YivAPb+r44gUCc0vN2VwBgF0TeOBSG7b4Ca1+brKGgvNwbFVUVODdd9/F9u3bz3lQcy6YuzMwsd5+wk86dPztfG3ITy4YxV0g8P8v1PDrvYR3TvBdLJZht9tRU1MDu50nBczu5+/q6I0C31lk/mX+G6YKXDIBWPs6N1hDwXkoL26wRujBv+go0MyzLcP53D5HQ7UbuO91vovFMoLBILxeL4LBoNGhsHPoTxH+95s6bpklMKvE3BdzQGaz47WLMnextnRzk3U+MuehpmV+PiaTSYMjya1YLAYA522KuWUege4I4afv6PjWxdqYHeY8WoU2gbWX2vDfW9PYeZSwaKI14mb543a70d7ersTu0Vb2s7d1HIkB31lo/rtXA64/dRfruzt5d/fzkTkPKyoq4HA48Oijj+L222+3/HmL6XQaXV1d+MlPfoKioiJMmTLlnF8viMiwNaNgMIiSkhIEAgF4vV6jwhi2r72UxhP7dLz/OTtKHNZpVFI6YW5LCpdMEGi5hntrxswukiTM+F0K108ReLTWWjn7hwM6bnwhjc2ftHGTpbCXX34ZTU1NSCTysLuoQS699FLcd999qKyszP7eYP2MtTLWBHr6Ceve0/GdhZqlmisgM4D69x/T8NVtOvYGCDMtsNzA8seqFzgq+ek7Oo7HgG9b6O7VgOunCiycAKzdqWMLN1hnJXseLlmyBM8//zy6u7uh69ZeMtY0DaWlpZgwYUJ2+fNcuMEapn/apcOhAf/fPGsWjC/Nymw8+tBbOn66zHpFm+VOcXExOjs7ldg92oqSOuHHuzKzV9M81rsYEiIzlnDD82ls9etY7rNmzcw3FfKwuLgYs2fPNjqMMcf/4ochmMjMXt05V8M4i8xefZTLLnD3fA2P7dbRy7u7K00IAa/Xa9o9lVTXsp9wOAI0LbDuhdCnpgjMHQf8313WvnORT5yH8uIGaxgefVdHfwq45yJrf9u+OleDXQA/eZuLnspCoRBKSkp4g0MTIiI0v6VjZaXAReOt+4NXCIG/vUjD0wcI+3mj40FxHsrL2p3CGErrmX2vPjtDoNJt3YIHAOOdArfP0fAvb+sIJ7noqcrj8SAQCOR9sz02fNt6CK8fJdy7wPol+pZZGkoLgZ908AXdYDgP5WX97B0jzxwiHAgDd1v87tWAexdoCCaAX7zHRU9VRIRgMAgDHyRmZ9H8lo5544CGKmtfzAFAkV3gzrka1r2nI5jgf2sfxXkoLzm6hTHwcIeOJZMFFktygOmUYoHPzhB4uEOHzomtpHA4jOrqaoTDYaNDYR+yN0D4w0HCvQvMe+bgcN01V0M0Bfzbbr6g+yjOQ3nJ0S3k2dsnCBu7CV+fL9e36655GvYFgRcPc4OlIq/XCyKS8tFwK/unXTomOIEvzpSjuQKAqmKBxhkC/9yhI61zvfkwzkN5ydUx5MnDHTrKXcDq6fIUPABYWibwsfHAv/Kwu5LS6TQ6OjqQTvPxSWYRSBAe263jq3M1uOxy1Zt7Lspc0D1ziBusD+M8lBc3WOdxMk54fI+Or8zV4LDJVfCEEPjqXA1/PEQ4FOaip5pIJIKamhpEIhGjQ2Gn/Gavjlga+Mpc+Urz5ZM11EwW+DFv2XAazkN5yZfFOfbL93QkdeBOCQseAHxxpga3PbMFBVPLwAGzvDRhDkSER97R8akpAhUWf1L5bL42X8MWP2H3Sb6gG8B5KC85u4YcISI88q6O1dMFyovkLHgeh8CXZml49F0diTQXPZWkUim0t7cjlUoZHQoD8NoRwl+PA7fPkbcsf2aaQGkhP738YZyH8pI3k3NgWw9hd0DuggdkNh7tjQL/eYAbLJVEo1E0NjYiGo0aHQpD5i5ytVuOrRnOxmkXuGWmhn/boyPJw+4AOA9lJnfnMEq/eE/HDA9Q55O34AHA/PECteUCP32HrypV4vF40NXVxRscmkAwQXhyH2HNHA02Te56c9uFGvqiwDMHucECOA9lxg3WWQQShPX7CbddqEGTZC+ac7lzroZWP2FvgIueKlKpFDZs2MBLEybw5D4d0TTwN7PlL8kfmyBw+SSBdbxMCIDzUGbyZ/MI/XafjrgOfFmBggcAN04T8BYAv9rDRU8VsVgMTU1NiMViRoeivJ+/q+OT1QJVxfJfzAHAmjkanusidPLTy5yHElOjexiBX7xH+HiV9c8dHKoiu8DnLtDwq928s7sqiouL0dHRgeLiYqNDUdrrRwg7jwJ3SD7r+WGfmyHgsvHO7gDnoczUyehh+OsxwmtHMsuDKrl1tkBnBNjczQ2WCpLJJFpaWpBMJo0ORWm/eE9HpRtYVa3GxRyQeXr5szMEfvEeX9BxHspLrQ5iiH7xno7JLuC6qeoUPABYMllgdglfVaoikUigubkZiUTC6FCUlUgTfrdfx80zNdglH27/qDVzNBwM81FdnIfy4gbrIxJpwm/26vjSLA0FihU8IQRuna3h9+8Tn3qvALfbjfb2drjdbqNDUdafOgnH48DNM9UrxUsmC8wdB/xK8Qs6zkN5qZfV5/HCYcKxOHCLggUPAL40S0NcB9bv5wZLdolEAuvWreMrZwP9eo+OSyYAF41X62IOyFzQ3TxTw9MHCeGkuvWG81BeanYR5/DEXh3zxgELxhsdiTEq3QLXVgpeJlQAz34Y60Sc8MwhUvZiDgC+MFNDfwr4g8J7YnEeykvdzB5EJEn4w0HCF2ZqEArsfXU2t87W8FIv74klO7fbjQ0bNvDShEFa9hNSBHxe4QZrmkfgyjKB3+xV94KO81Be6mb2IP54iBBJAZ+7QO1vy/VTBYoLMpsfMnnF43E0NzcjHo8bHYqSfr1Hx7WVAj5Jzzkdqi/OFHi+i9AXVfOCjvNQXmp3Eh/x5D4dV0wWuMCrdsErsgvcMFXgyX06SPFHqGWWTqfR3t6OdDptdCjKeT9I2NZLuGUWl+DGGRoEgPX71byg4zyUF2f3KcdjhD93Er5wgdrN1YDPX6DhnZPAW8eNjoTlS1FREVpaWlBUVGR0KMr597063HbgRsW2ghnMRKfAqmqB3+xV82KO81Be3GCd8vsDhDQB/20Gf0sA4NpKgfGFvEwos3g8jrVr1/LSxBgjIvz7Xh2fmSbgLuAGCwC+OFPDy32EfUH1mizOQ3lxN3HKk3t11FcIlCs+DzHAYRNYPV3Db3mZUFq6rqOrqwu6zk30WPrLcWB3IPMEHcsYmPt8QsFhd85DeXGGAzgcIWzxE76g+HD7R33uAoEDYeDlPm6wZORyubBu3Tq4XC6jQ1HK+v06xhcCV1fyxdyAIrvAp6dmniZU7YKO81Be3FEgU/AKNODT07jgfVhtuYCvCHhyn1oFTxWxWAxNTU2IxWJGh6IMIkLLfh2fniaUOynifL44U8N7AeDNY0ZHMrY4D+XFDRaAJ/YSPjlFYFwhF7wPs2kCn52hYf1+HSmdmyzGRuvNY8DeIM96Dqb+1NznU+/zUhmTg/JZvidA2HGU8HleHhzU5y8Q6I0CW/zcYMnG6XSiubkZTqfT6FCU0fJ+Znnwqgq+mPuoAk3gxqkCLfvVWibkPJSX8l3Fk/t0FBcA103hgjeYxZMEphUDT/HZhNKJRqNYs2YNotGo0aEogYiwfn/m6UFeHhzc6hka9gSBXSeMjmTscB7KS/kGa/1+HTdOFXDZueANRgiBm6Zr+M+DOtK8TCgVTdNQVVUFTVO+DIyJN44B+4KZjTXZ4K6uEChxqLVMyHkoL6U/0fdOEjpOADdNV/rbcF6fmS7QFwW293KDJZPCwkKsXbsWhYWFRoeihJb9Oibw8uA5OWyZUySeUmhXd85DeSndWfznAR1FdqChigveuSyZLFBRlNmMlcmjv78fjY2N6O/vNzoU6WWXB6fz8uD5rJ6u4e2TwNsn1Kg3nIfyUrrB+o8DhE9U8/Lg+WhC4NPTNPzH+2oNn8rOZrOhpqYGNpvN6FCk98YxYH8IaOS75ed1baWApwD4vSLLhJyH8lI22w+FCa8dIXxmmrLfgmG5abpAZwTYcZQbLFkUFhaiqamJlybGwO/f5+XBoXLaBa6bIpRpsDgP5aVsd/H0AR0ODfgkPz04JMvLBSYUAr9/nxssWUQiETQ0NCASiRgdivSePqDjU1MF7Lw8OCSrp2v4y/HMNjqy4zyUl7IN1u/fJ1xTKeB1cMEbCrsmcOO0zFUlLxPKoaCgAI2NjSgoKDA6FKntPkl4+yRw41Rly+2wraoWKLKrsUzIeSgvJTO+t5+wtYeXB4frpuka9iq2R43MHA4H1qxZA4fDYXQoUvvDQR0uG3AtP0wzZEV2gU9WCzylwB1zzkN5Kdlh/NchghCZE9zZ0A3sUaPCVaUKIpEIampqeGkiz54+SGioEijih2mG5cZpGl4/SugKy91kcR7KS8kG6z/e11FXLjDJxQVvOBy2zPDp0we4wZKBw+FAU1MTXznnUU8/ob2XcCPfLR+2j1cL2ATwzCG56w3nobyUy/pQgrCxm3DjNG6uRuL6KZnh00OSX1WqgGc/8u+Pp+6W81Fcw1daKFBbLvCHg3LXGs5DeSnXYL1wmJDUgeumKPfWc6KhWqBAA/54UO6rShWEw2HMnz8f4XDY6FCk9fQBHbXlAhOc3GCNxA3TBDZ1E0IJeZsszkN5KddlPHtIx9xxwAwvF7yRKHEIrPAJ/JfkV5UqcDqdaG5uhtPpNDoUKYUShBcP893y0fjUFA0JHXj+sLz1hvNQXko1WDoRnu0kfJLvXo3K9VMFNvsJQYmvKlVgt9vR0NAAu91udChSeq6LkNCBG3h7hhGb4RW4qBT4g8Rzn5yH8lIq83ceJfRGeR5itD41RUNSBzZ0cYNlZaFQCFVVVQiFQkaHIqWnD+i4ZAIwzcP1ZjRumKrh2U5CSpez3nAeykupBuuZQ4RxDmBpGRe80ZjqEbh4PPBfPIdlaS6XCy0tLXC5XEaHIp2kTvhTJ/Hdqxy4fqrA8TiwvVfOBovzUF5KZf+zhzL70fBp9qN3veRXlSqw2+2oqanhpYk82N5LOJngu+W5cNkkgXIXpH2akPNQXso0WP5+wo6jxE8P5sj1UwVOxIGXJL2qVEEwGITX60UwGDQ6FOk8e4hQ5gIWTeQGa7Q0IfCpqQJ/OCjnMV2ch/JSptv4cydBIHPGFRu9RRMFKorATxNamNvtRnt7O9xut9GhSOeZQzo+WS2gCa43uXDDVA37gsC7J42OJPc4D+WlTIP1zCEdNWUCE3k/mpzQhMCnpmg8h2VhNpsN8+fPh81mMzoUqbwfJLxzEvy0cg7VV2QOf5ax3nAeykuJChBPE144TPgk373KqU9MEdgbBPYG+C6WFQWDQQgheGkix57t1FGgAddWcr3JFZdd4CqfkPLJZc5DeSnRYLX5CeEk796ea1f5Mru6P9cl31WlCoqLi9HZ2Yni4mKjQ5HKM4cIteUCHgc3WLm0qlpgW698u7pzHspLiY7j2U5ClRtYMN7oSOTicQgsKxN4rlOugqcKIQS8Xi8EzwnlTCRJ2OInfnowD1ZVZfbf2+yXq95wHspL+gaLiPDHgzqum6LxP+A8WFWd2dU9lpKr6KkgFAqhpKSENzjMoY3dhHia56/yYWaJwAVeSHdBx3koL+mrwHsBYH8IPH+VJ6uqNPSngG28XYPleDweBAIBeDweo0ORxjOHdMzyArNKuN7kw6oqDX/ulGu7Bs5DeUnfYD17SIfTBtTzwGleLBgPVBTJd1WpAiJCMBiU6oeVkYgIzx7ivfbyqaFK4EAY2BMwOpLc4TyUl/SV4JlDdOoRX26w8kEIgVVVggfdLSgcDqO6uhrhcNjoUKTw5jGgux/4JM9f5c1VFfI9WMN5KC+pG6yTccK2Hh44zbdV1Ro6TgCdYb4CsxKv1wsigtfrNToUKTzXpaO4AFhezvUmX4oLBJaXy7VdA+ehvKRusJ7vIqSIB07z7ZpKAU1AqqKngnQ6jY6ODqTTaaNDkcLzXYSrfAIOGzdY+bSqSmBztzwP1nAeykvqzuPZTh0LxgNTirng5VNpocCSybxMaDWRSAQ1NTWIRCJGh2J54SThpV7CyiquNfm2qlpDNA1s7ZGjweI8lJe0DVZaJ/ypkwdOx8qqKoEXughJXY6ip4KBA2Z5aWL0Wv2EpA6srOR6k28XlZ56sEaSO+ach/KSthq8doRwNMbbM4yVVdUCwSTwSp8cRU8FqVQK7e3tSKVSRodiec93EaYWA7NKjI5EftkHazrluGPOeSivszZYe/bswdKlSzF79mwsXrwYHR0dZ3zNgQMHYLPZcMkll2R/7du3L68BD9WGLsI4B3DFZG6wxsKlEwUmOnm7BiuJRqNobGxENBo1OhTLe/6wjoYq3sx4rKyq1vD2SeCQBA/WcB7K66wN1p133ok77rgDu3fvxje/+U3ceuutg36dx+PBm2++mf11wQUX5CvWYXnhcGZ7BrvGBW8saEJgZaWQ5ra9CjweD7q6uniDw1E6FCa8exI8fzWGZHqwhvNQXoM2WH19fdixYwduvvlmAMBNN92Ezs5O7N27d0yDG6lggvByH/Fp9mNsVbWG148S+qLWL3oqSKVS2LBhAy9NjNLzXQRNAPUVXG/GSvbBGgmWCTkP5TVog9XZ2Qmfzwe73Q4gs+Y9ZcoUHDp06IyvjUQiuPTSS7Fo0SI88MAD53zUNB6PIxgMnvYLQPbWaCwWQywWy/5ePB4HAPT392dfRyIRJBKJ7OtkMgkgs1nbwD/QP+3rR5qAlVUagsFgNqZgMAhd10/bOVfX9Wwc6XQ6+zqVSmXPhkqlUtlN4JLJZPZpj0QikX0dj8fR39+ffZ3r9xQKhbKvzfqelo3P/N7zXSTNe5Lxcxp4T7FYDPfcc0/275XhPRnxOT3fpWPxRKAgGZHmPVnhc2qoBF48TDh20trvKRKJoKmpCX19fVJ+Tqq9p9PQIHbs2EGzZ88+7fcWL15MGzduPO33YrEY9fb2EhHRsWPH6JprrqF//Md/HOyPJCKi+++/nwCc8euWW24hIqJ7772X7r33XiIiuu222+j+++8nIqLVq1fTQw89REREK1eupEcffZSIiJYsWULr168nIqJ58+bRc889R0RE7jXrqOKxIBEReTwe2rVrF1HmHALq7OykQCBAACgQCFBnZycNfBt27dpFHo+HiIi2b99OlZWVRET03HPP0bx584iIaP369bRkyRIiInr00Udp5cqVRET00EMP0erVq7Pv87bbbsvpe6qsrKTt27eb/j1V/bSLvrgpKdV7kvFz4veUm/dUUVVNpb9K0Bd/+54078kqn9Mf3/ITfp4gzLxSmvck4+ek0nsa+O8BgzZYvb295PF4KJlMEhGRrutUVlZGe/bsGezLs5544gm67rrrzvq/x2IxCgQC2V8DQfX09BARUTQapWg0SkRE/f39FIvFiIgoEolkX4fDYYrH49nXiUSCiIhCoVA23plPxuj21szvBwIBSqVS2dfpdJp0XadAIEC6rlM6nc5+Q1KpVPZ1MpmkYDCYfR0KhYiIKJFIUDgcJiKieDyefR2LxSgSiWRf9/f35/Q9BYPB7Gszv6dvtMdp4uMJCobkeU8yfk6xWIwSiQQ9/vgq0S2BAAAgAElEQVTj2T9Hhvc01p/TpvdDhJ8nqLUrIc17ssrnlEylaOLjCfq7rRFLv6doNErr16+no0ePSvk5qfKeBvqZDzdYgmjwEyZXrFiBW2+9FbfeeiueeuopPPjgg9ixY8dpX9PX14fS0lIUFBQgHo/j5ptvxty5c/HAAw8M9keeIRgMoqSkBIFAIGd7gBwMEab9NoWnrrHhpunS7kJhWlv9OmqfSeO1G224bBJ//80sEongmmuuwYsvvgi32210OJb0/Z1p/J+/6jj2JTs/UGOAL2xKYXcA2PFpu9GhjBjnoRwG62fO+hPwkUcewSOPPILZs2fjwQcfxGOPPQYAuO+++/Czn/0MALBt2zYsXLgQF198MRYtWoTy8nJ8+9vfHoO3cnYvHOaBUyMtKRPwFvB2DVbgdrvR3t7ORX0UNnQRrq7kp5WNsqrK+g/WcB7K66x3sMZCPu5gfXZjCgfDwMs3WPeKxupueiGF3iiw7Xr+DMwskUjg8ccfx5e+9CU4HA6jw7GcYIIw/vEUfrJUw1fm2YwOR0k9/QTfb1L49Qobbp5lzTvmnIdyGNYdLCtK64QXD/P2DEZbVa2hvY9wIm7dq0oVJJNJtLS0ZJ+gYcOzuZuyTyszY5QXCSycAEufg8p5KC+pKsMbxwjH4+AGy2ANVQI6ARsPc4NlZm63Gxs2bOCliRF6/jBhpheY4eV6Y6RV1Ro2dBF04xZjRoXzUF5SNVgvHCYUFwBL+HgcQ00pFpg3ztpXlSqIx+Nobm7O7g3Dhuf5Lp3vXpnAqiqBozFg51FrNlich/KSqjq80EVY4RNw2LjBMtqqag3PdREMHPFj55FOp9He3n7OzYHZ4PYHCXuDwEq+W264mjIBj4UfrOE8lJc0DVYkSXipl+evzGJlpcDhCPBewOhI2NkUFRWhpaUFRUVFRodiOc936bAL4Cp+WtlwBZrANRY+B5XzUF7SNFhtPYSEDlxbKc1bsrRl5QIFGrDxMC8TmlU8HsfatWt5aWIEnj9MqCkT8Dq4wTKDhiqB9j5CIGG9JovzUF7SdCMvdBGq3MCccUZHwgDAXZA5jHVTt/UKnip0XUdXVxd0nZvg4UjphI2HiZcHTeTqCg06AVv91qs3nIfykqfBOqzj2koBIbjomUV9hcBmPyGtW6/oqcDlcmHdunVwuVxGh2Iprx4hBJPAyiquNWZxgReYUgxLXtBxHspLigbL30/YdYKXB83m6gqBE3HgzWNGR8IGE4vF0NTUlD15ng3N812E0kLg0oncYJmFEAL1FQIbu613F4jzUF5SdCQvnBpuvJpv2ZvKFZMFiuzAJgsWPcbOZkMX4ZoKARsfj2Mq9RUa/nocOGLhY3OYXORosA7rWDgBmOzigmcmDpvA8nKBjRa8ba8Cp9OJ5uZmOJ1Oo0OxjBNxwqtHCA28/5XpXOXL1P8tFpvD4jyUl+WrBBHhhcPEy4MmVV8hsLWHkEhbq+ipIBqNYs2aNYhGo0aHYhlbugk6Adfw3XLTqSoWmF1ivTkszkN5Wb4rees40BsFruWBU1O6ukJDfwp4pc9aRU8FmqahqqoKmmb5MjBmNvsJMzzAVA/XGzO6ukKz3EgC56G8LP+JvnBYh9MGLCvjgmdGl0wASgutd1WpgsLCQqxduxaFhYVGh2IZm7p11PPmoqZVXyGwOwB0ha1TbzgP5WX5BuvFw4Tl5QJOOxc9M7JpAit8PIdlRv39/WhsbER/f7/RoVhCbz+h4wRwVYXly6a0VpxqfjdbaA6L81Belq4UiTRhaw/xPITJXV0h8HIfIZK0TtFTgc1mQ01NDWw2m9GhWMLA8DQfj2NeE50CF4+31gkSnIfysnSD9doRQiQFvmVvcvUVGpI6sK2HGywzKSwsRFNTEy9NDNHmbsKccYCviOuNmdVXaNjUbZ2D5jkP5WXpBmtTN6HEASycwAXPzDI/lHgOy2wikQgaGhoQiUSMDsUSMvNXli6ZSqivEOiMAPuCRkcyNJyH8rJ0tdjUTVjh4w3/zO6DXZa5wTKTgoICNDY2oqCgwOhQTK8rTNgT/GCvJWZetT4Bm7DOBR3nobws22BFU4TtvcTLgxZxdYWGnUcJx2PWKHoqcDgcWLNmDRwOh9GhmN7A0PQKrjem53UILJ4kLLNdA+ehvCzbYG3vJSR08C17i6ivECAArRZ6ukd2kUgENTU1vDQxBJu7dXxsfGaImplffYWwzBwW56G8LNudbO4mTHIC80uNjoQNxVSPwAVe8DKhiTgcDjQ1NfGV8xBs6ia+mLOQ+gqBIzGg44TRkZwf56G8LFsxNnUTrqoQEIKvKK3Cirssy4xnP4bm/SDhYJi3Z7CSpWUChTZgowXqDeehvCzZYIUSmQNXef7KWuorBN45CXRH+C6WGYTDYcyfPx/hcNjoUExtUzdBE0BtOdcbq3DZBZZOFpYYdOc8lJclG6ytPYQ08fyV1VxlwV2WZeZ0OtHc3Ayn02l0KKa22a9j0QSBcYXcYFlJfYXAlm5CSjd3veE8lJclO5RN3YQqNzDTa3QkbDgmuwQWWGyXZZnZ7XY0NDTAbrcbHYppEVF2HIFZS32lQDAJvHHM3A0W56G8LNpgZQ5c5fkr67m6QsNGizzdI7tQKISqqiqEQiGjQzGt3QHA38+nRVjR4kkCbjuw6bC5aw3nobws12CdiBPePMYHrlpVfYXAoTCwn2uJ4VwuF1paWuByuYwOxbQ2deuwC2AZz19ZToEmUOsz/xwW56G8LNelbO0hEIAVvKOyJdVZbJdlmdntdtTU1PDSxDls7iZcPlmguIDrjRVdXSGwtYeQSJu33nAeystyDdaWbsK0YmCahwueFQ3sssxzWMYLBoPwer0IBi1yaNsY04mw2U98PI6F1VdoiKaBl/vM22BxHsrLeg2WX+fjKixuYJdlneewDOV2u9He3g632210KKbUcQI4GuP5Kyu7eAJQWmjuO+ach/KyVIN1PJaZv1rhs1TY7CMGdll+xwK7LMvMZrNh/vz5sNlsRodiSpu6dTg0oKaMGyyr0oTAVSafw+I8lJelOpWB+as6vmVvaTVlAgUa0NrDy4RGCgaDEELw0sRZbO4mLC0TcNm53lhZfYXAy32ESNKcTRbnobws1WBt8fP8lQyK7Jk5rC0mvqpUQXFxMTo7O1FcXGx0KKaT1gmtft7/Sgb1FRqSOvBSrznrDeehvCzWYPH8lSzqfAKtPbwflpGEEPB6vbyf3CDePAacTPD8lQzmjAN8RcBGk+6HxXkoL8s0WMdjhL/w/JU0VvgE+qLAewGjI1FXKBRCSUkJb3A4iM1+HUV24PJJ/EPP6oQQ2Qs6M+I8lJdluhWev5LL0rLMflhbLHDavaw8Hg8CgQA8Ho/RoZjOpm7ClWUCDhvXGxnUlQvsOEIIm3AOi/NQXpZpsHj+Si7FBQKXTTLvVaUKiAjBYJCXaT8iqRO29hAvD0qkzqchTUC7CeewOA/lZaEGi+evZLPCJ9Dq5zkso4TDYVRXVyMcDhsdiqnsPEoIJ/m0CJnMGQdMdgGtfvPVGs5DeVmiweL5KznV+QT8/cBefjrZEF6vF0QEr9drdCim0uYnFNmBS3n+ShpCCNSWC1M2WJyH8rJEx8LzV3K6skxAE5nlXzb20uk0Ojo6kE6njQ7FVNp6MvtfFWhcb2RS5xN49QghmjJXveE8lJclGiyev5KT1yGwaIJAq58H3Y0QiURQU1ODSCRidCimkT41f1VbzrVGNnU+DQndfOcSch7KyyINFs9fyWpFBc9hGWXggFlemvjArhNAIAHU8t1y6cwvBcYXmm8Oi/NQXqZvsHj+Sm515QJdEeB93gJmzKVSKbS3tyOVShkdimm0+TPnD/L+V/LRhMByE85hcR7Ky/RdC89fyW1ZuYAAz2EZIRqNorGxEdFo1OhQTKOth3D5JD5/UFZ1vsy5hPG0eeoN56G8TN9g8fyV3MYVClwyATyHZQCPx4Ouri7e4PAUIkJbD/HyoMTqfBpiaeBVE81hcR7Ky/QNVqtf57tXklvh00x3214FqVQKGzZs4KWJU3YHgL4oeMBdYhePB0oc5prD4jyUl6kbrECC8OaxzFUHk1edT+BgGDgQMk/RU0EsFkNTUxNisZjRoZhCWw9BE5ljnJicbJrAsjJznSDBeSgvU3cu207NX/Ete7ktPzWHZaarShUUFxejo6MDxcXFRodiCm1+HYsmCHgcXG9kVucT2N5LSOrmqDech/IydYPV5idUFAEzeGlaauOdAgvG8xzWWEsmk2hpaUEymTQ6FFPg+Ss11PkE+lPAjiPmaLA4D+Vl7gbrVMETgoue7HgOa+wlEgk0NzcjkUgYHYrhDoYIh8I8f6WCRRMF3PbMBbwZcB7Ky7QNViRJ2HGEd1RWRZ1PYH8I6Aybo+ipwO12o729HW632+hQDNd2aiZnGdcb6dk1gStNNIfFeSgv0zZYL/cRUgTUlps2RJZDA0szfBdr7CQSCaxbt46vnJGZv7qoFJjg5AZLBXU+gW09hJQJ5rA4D+Vl2u6lrYcwoRCYW2p0JGwsTHQKXFTKc1hjiWc/PtDqJ9Ty08rKqPMJhJLAm8eMb7A4D+Vl2orS5icsLxfQeP5KGXU8hzWm3G43NmzYoPzShL+fsCeYObaJqWHxJAGXzRx3zDkP5WXKBiueJrzcx0/0qKbOJ7AnCHRHjC96KojH42hubkY8Hjc6FENtPfVDdjnXG2U4bAI1ZeY4l5DzUF6mbLB2HCHE0jx/pZqBBxrMUPRUkE6n0d7ejnQ6bXQohmrrIczyAr4ibrBUUucT2NpDSBs8h8V5KC9TdjBtPQRPAXDxBKMjYWOprEhg7jhusMZKUVERWlpaUFRUZHQohmrr0fluuYLqfAInE8BbJ4yNg/NQXuZssPyEK8sE7BoXPdXU+TS09vCg+1iIx+NYu3at0ksTx2OEt47z3XIVXTFJwKEZ/2AN56G8TFdVUjphWy/xAc+KqvMJvHsS6Onnu1j5pus6urq6oOvqNrTbejP/zvgOlnqcdoErJhs/h8V5KC/TNVhvHiOEk1zwVDUwh7XNJJsAyszlcmHdunVwuVxGh2KYNj+h2g1M5WPglFTnE2jzE3Qyrt5wHsrLdA1Wm5/gtAGXTeQGS0UVboELvB/srM3yJxaLoampCbFYzOhQDMPHcamtzidwLA68beAcFuehvMzXYPUQaiYLOGxc8FRVWy6wleewWJ6FEoSdR4nnrxRWM1nALjIPOjCWa6aqLDoRtvKJ9sqr9Wn4yzHgZJzvYuWT0+lEc3MznE6n0aEYor2PkCYeR1CZu0Bg8SRj57BUz0OZmarBevsEcDzOJ9qrbnm5AAF4qZcbrHyKRqNYs2YNotGo0aEYos1PmOQELiwxOhJmpDpfpsEig+awVM9DmZmqwWrr0WEXwJIybrBUNsMDVBRlfgCy/NE0DVVVVdA0U5WBMcPzVwzINFi9UWB3wJi/X/U8lJmpPtE2P2HxJIEiOxc8lQkhUHtql2WWP4WFhVi7di0KCwuNDmXMxVKEV/qI75YzLC0T0AQMqzcq56HsTNNgEVH2ipKx5eUCrx0h9Ke4ycqX/v5+NDY2or+/3+hQxtyrRwgJPTPvx9TmdQgsnCDQZtCGoyrnoexMU132BQF/P89fsYzacg0pAl7mOay8sdlsqKmpgc1mMzqUMdfqJ5Q4gAWlRkfCzGB5uTBsaxiV81B2pmmw2noIAsCV3GAxAPNKgfGFxt22V0FhYSGampqUXJpo6yEsKxOw8XFcDJkL+4Nh4FB47OuNynkoO9M0WK1+HZdMAEocXPAYoAmBZQZeVaogEomgoaEBkUjE6FDGVFInbO/lcQT2gWWnLuyNuKBTNQ9VYJoGq81PPA/BTlNbLtDeS0ikucnKh4KCAjQ2NqKgoMDoUMbUzqOE/hSPI7APTHIJzBtnzJPLquahCkzR0XSGCQfCXPDY6Wp9AtF05gciyz2Hw4E1a9bA4XAYHcqYavMTiuzApZO43rAPLC/XDNnRXdU8VIEpGqztpwaZl3ODxT5k4QQBt53PJcyXSCSCmpoa5ZYm2noIS8sECnj+in1IrU/g3ZNAX3Rs642qeagC0zRY88ZlbtMyNsCuCSwtE7zhaJ44HA40NTUpdeWc1k8dx8UXc+wjBi7wt43xBZ2KeagKUzRYL/XqPH/FBlVbLrCtl5DWucnKNRVnP3adAAIJPn+Qnam6WGC6Z+zvmKuYh6owRVezJ8DzV2xwtT6BQCLzg5HlVjgcxvz58xEOh40OZcy0+XU4NOBynr9ig1hePvYbjqqYh6owRYMF8PwVG9zlkwQcGgzbZVlmTqcTzc3NcDqdRocyZtp6CJdPEnDxcVxsELXlGv5yHAgkxu4ulop5qApTNFjTioGqYi547ExOu8Dlk3g/rHyw2+1oaGiA3W43OpQxwcdxsfOp9Qno9MGDV2NBtTxUiSkarKV894qdw8DBz0TcZOVSKBRCVVUVQqGQ0aGMid0BoC/K4wjs7GZ6gXLX2O6HpVoeqsQUDdaVZaYIg5nU8nKB3mhmVo/ljsvlQktLC1wul9GhjIm2HoImgKVl3GCxwQkhxvxcQtXyUCWm6Gy44LFzWVomoAneDyvX7HY7ampqlFmaaPPrWDRBwMPHcbFzqPUJvHaEEE2NTb1RLQ9VYooGa7rH6AiYmXkdAgsnCGw1YJdlmQWDQXi9XgSDQaNDGRM8f8WGorZcQ1IHXukbmwZLtTxUiSkaLCG46LFzqy3nDUdzze12o729HW632+hQ8u5giHCIj+NiQ3DReGCcY+zumKuUh6oxRYPF2PksLxc4EM6cW8lyw2azYf78+bDZbEaHknetp5rzZdxgsfPQhMCyMbygUykPVXPWBmvPnj1YunQpZs+ejcWLF6Ojo2PQr3vmmWcwZ84czJo1C5/5zGf4NifLi4EfjFt5DitngsEghBBK5Gxbj46LSoEJTm6w2PnVlgu09xGSY3CChEp5qJqzNlh33nkn7rjjDuzevRvf/OY3ceutt57xNeFwGLfddhuefvpp7NmzBxUVFfje976Xz3iZoia5BOaNG9vHp2VXXFyMzs5OFBcXGx1K3rX5iY/jYkNW6xPoTwE7j+a/3qiUh6oZtOL09fVhx44duPnmmwEAN910Ezo7O7F3797Tvu7Pf/4zFi5ciDlz5gAA7rrrLjz55JN5Dpmpanm5hjYedM8ZIQS8Xq/0M5D+fsKeIM9fsaFbNFGgyD42F3Sq5KGKBm2wOjs74fP5so+NCiEwZcoUHDp06LSvO3ToEKZOnZr972nTpsHv9yOVSg36l8XjcQSDwdN+AUA0GgUAxGIxxGKx7O/F43EAQH9/f/Z1JBJBIpHIvk4mkwAyd9MG/t5QKJR9HQwGkU6ns691XQcRIRgMgoig63o2jnQ6nX2dSqWyG7+lUqnsOVHJZBKRSAQAkEgksq/j8Tj6+/uzr/k95f49LR4XwzsngZ5wSpr3ZOTnFAqFUFJSgmPHjknzngb7nDZ3ZWJf5OmX5j3J+DmZ6T0lY1HUTBbY0p3O+3s6efIkSkpKcPjwYf6cJHhPp6FB7Nixg2bPnn3a7y1evJg2btx42u/96Ec/ojvuuCP735FIhDRNo2QyOdgfS/fffz8BOOPXLbfcQkRE9957L917771ERHTbbbfR/fffT0REq1evpoceeoiIiFauXEmPPvooEREtWbKE1q9fT0RE8+bNo+eee46IiCorK2n79u1EROTxeGjXrl1EmW3AqbOzkwKBAAGgQCBAnZ2dNPBt2LVrF3k8HiIi2r59O1VWVhIR0XPPPUfz5s0jIqL169fTkiVLiIjo0UcfpZUrVxIR0UMPPUSrV6/Ovs/bbruN31Ou31NpFeHnCfpx6wF53pOBn5Ou61RfX08///nPpXlPg31ODf/2Ls38bUKq9yTj52S29/Td11Pk/FmA/ua2NXl9T2+99Vb2ffDnZO33NPDfAwZtsHp7e8nj8WQbJV3XqaysjPbs2XPa161fv54aGhqy/93R0ZH9Bg0mFotRIBDI/hoIqqenh4iIotEoRaNRIiLq7++nWCxGRJnGbeB1OBymeDyefZ1IJIiIKBQKZeMNBoPZ14FAgFKpVPZ1Op0mXdcpEAiQruuUTqez35BUKpV9nUwmKRgMZl+HQiEiIkokEhQOh4mIKB6PZ1/HYjGKRCLZ1/39/fye8vCepj2RoLtfSkj1noz6nNLpNL333nvZr5HhPQ32OV3UkqDbWpNSvScZPyezvafNh9OEnyfolcP5fU+JRII6OzvpxIkT/DlZ+D0N9DMfbrAE0eAHvK1YsQK33norbr31Vjz11FN48MEHsWPHjtO+JhQK4YILLkBbWxvmzJmDr33ta3A6nfjRj3402B95hmAwiJKSEgQCAXi93iH9f5javrwlhV0nCK9/usDoUCxPhfw7HiNM+HUKv6qz4UuzecidDV00RSj5VQrNSzR8bX7+tlBQIQ9VMNjneNaK88gjj+CRRx7B7Nmz8eCDD+Kxxx4DANx333342c9+BgDweDxYt24dbrzxRsycORNdXV34zne+MwZvhamqtlzDm8eAYIKfJhwtr9cLIpK6qG/rzfw74R3c2XC57AKLJ4m8bw2jQh6q6qx3sMYCd+5suHafJFzYksKfV9mwqprvSIxGOp3Gu+++izlz5ki7yeHfv5zG+v06Dn7ezk9psWH71qtp/NtuHd1fzN+/HxXyUAXDuoPFmBnNKgHKXHzwcy5EIhHU1NRkn8qR0cD5g9xcsZGo9Qn0RIG9edwDVIU8VBU3WMxShBCoLRfYyhuOjtrAAbOy3j0OJQg7jxJqy7nMsZFZWiagifzuhyV7HqriaPTMfyNceZjl1PoEXj1CiKa4yRqNVCqF9vb2s+5bZ3XtfYQ08fwVG7kSh8DF44GtedzgWPY8VMW9L6fP+D1usJjlLC/XkNCBV49wgzUa0WgUjY2N2Q36ZNPmJ0xyAheWGB0Js7Jan5bXkQTZ81AFOtGgD0Nwg8Us56JSYJwDvEw4Sh6PB11dXfB4PEaHkhc8f8VyobZc4P0Q0BnOT72RPQ9V0HECOBE/8/e5wWKWY9MElpULHnQfpVQqhQ0bNki5NBFLEV7pIz5/kI3a8lP/hvK1XYPMeaiKVr8O+yDdFDdYzJKWlwts7yUkdW6yRioWi6GpqSl7bpdMXjlCSOiZ5R3GRmOSS2DOuPw1WDLnoSra/IRFE8+8mOPqwyyptlwgkgLeOMoN1kgVFxejo6MDxcXFRoeSc21+QokDWFBqdCRMBrXlGtr8+Rl0lzkPVUBEaO0hLCvjBotJYtFEgSJ7/q4qVZBMJtHS0pI9SV4mbacKnk3jJUI2erU+gbdPAkcGeRR/tGTOQxXsDgB90cyWHh/FDRazJIdNYMlknsMajUQigebmZiQSCaNDyamkTtjeS7w9A8uZgVm+bXmoN7LmoSraegiaAJZM5gaLSaS2PHNOmG7caU+W5na70d7eDrfbbXQoObXzKKE/BR5wZzlTXSwwtTg/d8xlzUNVtPp1LJog4HFwg8UkUusTOBEH3j5hdCTWlEgksG7dOumunNv8hCI7Bh06ZWykavP05LKseagCIkKrn1B3lrvl3GAxy7piskCBBrTlcZdlmck6+9HWQ6iZLOCwcYPFcqfWp+GNY4RgIrdNlqx5qIIDIaArcvbTIrjBYpZVZBe4bKLI6zlhMnO73diwYYNUSxNpPbOjMs9fsVyrLRfQCWjvzW29kTEPVdHWQxD4YK+0j+IGi1larS8zh0U8hzVs8Xgczc3NiMcH2YLYonadAAIJnr9iuTerBJjsQs6XCWXMQ1W0+nUsGA+UFnKDxSRUWy7Q3Q/sDxkdifWk02m0t7cjnT7zkFKravPrcGiZ5WPGckkIkZnDyvEdcxnzUBVtPYTa8rO3UdxgMUtbWiYgAF4mHIGioiK0tLSgqKjI6FBypq2HcPkkAZedGyyWe7XlAq8eIcRSuas3MuahCg5HCPuCOOuAO8ANFrO4cYUCF08AtvKg+7DF43GsXbtWmqUJIsoe8MxYPiz3aUjowKtHctdgyZaHqhi4qD/b/BXADRaTQG25xhuOjoCu6+jq6oKuy9GcDuyozPNXLF8WlAIljtzeMZctD1XR1kOYMw4oK+IGi0lsebnAvmDmli0bOpfLhXXr1sHlchkdSk4M7Kg82JEVjOWCTRNYVpbb/bBky0NVtPr1c85fAdxgMQkM3KLlcwmHJxaLoampCbFYzOhQcqLtHDsqM5YrtT6B7b2ElJ6beiNbHqqgL0p45+S5568AbrCYBMqKBC4s4UF31fH8FRsLy8sFIingjWNcb1Q1cDF/vnEEbrCYFGp9gnd0Hyan04nm5mY4nU6jQxm1AyHCoTDPX7H8u3SigMuWuws6mfJQFW1+wgwPUFXMDRZTQG25ho4TwNEYX1UOVTQaxZo1axCNRo0OZdQGftgt4waL5ZnDJlCTwzksmfJQFa1+fUh3y7nBYlIYWAvnZcKh0zQNVVVV0DTrl4G2Hh0XlQITnNxgsfyrLc+cIKHn4AQJmfJQBSfihL8eB+p85/+8+BNlUqguFpjuAVq5wRqywsJCrF27FoWFhUaHMmptfkLtEAoeY7mwvFzgRBx4+8To/yyZ8lAF23oIhKGNI3BFYtKo8wm0+nkOa6j6+/vR2NiI/v5+o0MZFX8/YU/w3Bv+MZZLS8oE7AI5mfuUJQ9V0dZDqHQD0z3n/1pusJg06nwa/no8cwuXnZ/NZkNNTQ1sNpvRoYzKwLLw+R6ZZixXiuwCiyfl5lxCWfJQFa1+Ql25gBB8B4sppK5cgMD7YQ1VYWEhmpqaLL80scVPmF0C+M6xozJjuVbry8xh0SjnsGTJQxWEEoSdR4e+HQw3WEwa0zxAtZvnsIYqEomgoaEBkUjE6FBGpdWv890rNuZqywW6+4G9wdH9ObLkoQra+whpGtqAO8ANFpOIEOLUHFUPtF8AACAASURBVBY3WENRUFCAxsZGFBQUGB3KiA3sqLyCB9zZGFtWLqCJ0V/QyZCHqmj1Eya7gAtLhvb1XJWYVOp8Gt44RggkuMk6H4fDgTVr1sDhcBgdyoi18vwVM4jXIbBowugfrJEhD1XR5ifUDnH+CuAGi0mmziegE/ASz2GdVyQSQU1NjaWXJlr9hAu8QKWbGyw29up8Alv8o5vDkiEPVRBNEV49QsM6LYIbLCaVmV7AV8RzWEPhcDjQ1NRk6SvnVr+OFXz3ihlkhU+gKwK8Hxr5nyFDHqrglT5CQh/6/BXADRaTTHYOi+9gnZfVZz+Oxgi7Tgyv4DGWS8vKBQQyT7KOlNXzUBWtfkJpIXDR+KH/f7gyMenUlQvsOEIIJ7nJOpdwOIz58+cjHA4bHcqI8P5XzGjjCgUWTsSo5rCsnoeqaOshLC8X0IY4fwVwg8UkVOfTkCZgey83WOfidDrR3NwMp9NpdCgj0uonTPcAU85zoj1j+VRXro3qDpbV81AFiTShvXd481cAN1hMQnPGAZNdPId1Pna7HQ0NDbDb7UaHMiK8/xUzgxUVAofCwIHQyOqN1fNQBTuOEqLp4d8t5waLSUcIgdpy3g/rfEKhEKqqqhAKjWJC1yDHY0M/0Z6xfFo+yjksK+ehKtr8hOIC4JIJ3GAxhjqfwKtHCP0pbrLOxuVyoaWlBS6Xy+hQhm3rqRPt+QlCZrTSQoGLJwBbukc2h2XlPFRFq59wZZmAXeMGizHU+TQkdeBlnsM6K7vdjpqaGksuTbT6CVOKgWkebrCY8Vb4tBHfMbdyHqogpRNe6qURjSNwg8WkNL8UGF8I3q7hHILBILxeL4LBUR6mZoAtfh11wxw4ZSxf6nwCB8LAwRHMYVk5D1Xw5jFCKIlhD7gD3GAxSWk8h3Vebrcb7e3tcLvdRocyLCfjhDePASsquHwxc6g9NYc1knpj1TxURZuf4LQBiydxg8VYVp1P4OU+QoznsAZls9kwf/582Gw2o0MZlm2n5q/4CUJmFuOdAgvGZ+6sDpdV81AVrT2EmskCDhs3WIxl1fk0xNPAq0e4wRpMMBiEEMJySxNb/IRKNzDDY3QkjH1gpHNYVs1DFehE2NozsvkrgBssJrGPjQdKHLwf1tkUFxejs7MTxcXFRocyLK1+wgrf0E+0Z2wsrPAJ7A8BneHh1Rur5qEKdh0HTsSBWm6wGDudTRNYznNYZyWEgNfrtVSjEkwQdh4j3v+Kmc7yUz+Eh1tvrJiHqmjr0VGgAUsmc4PF2BnqfALbewmJNDdZHxUKhVBSUmKpDQ639RB0Aj9ByExn4gjnsKyYh6po9RMunyTgsnODxdgZ6nwC0TTwGs9hncHj8SAQCMDjsc4wU6uf4CsCZpUYHQljZxrJuYRWzEMVEBHaemjEy4MAN1hMcgsnCJQ4gM3d3GB9FBEhGAyCyDrfm9ZTA6e8nMLMaEWFwL4g0DWMOSwr5qEK3j4B9EWB+gpusBgblF3L7Ie1iRusM4TDYVRXVyMcDhsdypCEEoQdR4iXB5lpDWxGOZwNjq2Wh6rY1J2Zv1paxg0WY2dVXyGwnffDOoPX6wURwev1Gh3KkGzvJaSJNxhl5jXJJTC/FGgdxhyW1fJQFZv9mf2vikY4fwVwg8UUUF+R2Q+rvY8brA9Lp9Po6OhAOp02OpQh2eInlLmAC3n+ipnYCp+GLcO4Y261PFSBToQtfsJVo1geBLjBYgq4aDww0QleJvyISCSCmpoaRCIRo0MZkk3dhPoKnr9i5lbnE9gTBLojQ6s3VstDFfzlWGb/q9HMXwHcYDEFaELgKh/PYX3UwAGzVliaOBkn7DhKqOflQWZydcPcD8tKeaiKTd06XDbgihHufzWAqxVTwlUVAq/2EcJJbrIGpFIptLe3I5VKGR3KebWd2v9qtFeUjOXb5FNzWJu6hzaHZaU8VMWmbsKV5QKFIzh/8MO4wWJKqK/QkKLMRpUsIxqNorGxEdFo1OhQzmtTN2FaMTDDyw0WM7/6Cg0bh3jH3Ep5qIKkntn/KhcXc9xgMSXMLgEqingO68M8Hg+6urosscHhpm6d714xy7i6QuD9EPB+8Pz1xkp5qILXjxDCSeCqUWwwOoAbLKYEIQTqK3gO68NSqRQ2bNhg+qWJvijhreNAfSWXK2YNdT4BTQztgs4qeaiKTd0ETwFw2SRusBgbsqsqNOw8SjgR5yYLAGKxGJqamhCLxYwO5ZwGduHPxRUlY2NhXKHApRMFNg5hDssqeaiKzX5CbbmAXeMGi7Ehq68QIABtwzwrTFbFxcXo6OhAcXGx0aGc06ZuwtxxQIWbGyxmHVefumN+viNwrJKHKoinCdt6Rr//1QBusJgypnkEpnt4DmtAMplES0sLksmk0aGcU2b+iksVs5b6CoHeaOZMu3OxSh6q4JU+QiyNnNUbrlpMKZk5rKEfYyGzRCKB5uZmJBIJo0M5q0Nhwt4gb8/ArOfKcgGHhvMuE1ohD1WxqZtQWghcPCE3fx43WEwp9RUadp3IDE6rzu12o729HW632+hQzmpTN0EAWMHzV8xiiuwCS8vO/2CNFfJQFZu6CSt8AlqOTovgBospZWBtfThnhckqkUhg3bp1pr5y3nRYx8KJwHgnN1jMeuorBLb4CSn97PXGCnmogv4U4eW+3Ox/NYAbLKYUX5HAnHE8hwWYf/aDiLDJz8fjMOu6ulIgkAB2Hj17vTF7HqripR5CUgeu8uWu3nDlYsqpr9B4DguZpYkNGzaYdmlidwA4HOH5K2ZdiycJFBec+4LO7Hmois1+wmQXMK80d38mN1hMOfUVmdPuO8Nq38WKx+Nobm5GPB43OpRBberWYRfA8nJusJg1FWgCteXinMfmmD0PVbGpm3DV/2vvzuOjKu/9gX+eM5PJOpOwScgCkSXKJotFCVUEQUILKBZirYWKF2697W2tprfVW3uV+mvvxbbQvVXhV7W91UKkWAVKoriAEhW0gAZZk5ANwmZmX8/zvX+MiSwBsszMOWfO9/165fUahmTOc4jfr99nOc8zSEDEaP0VwAUWM6H20+5fN/k0oaqqqK6uhqqqWjelU6+1EK6/QiArhQssZlwz8gTeOk4IRDrPN3qPQzNwhQi7TsZ+OQIXWMx0+qcJjOsLvH7M3NOEGRkZqKioQEZGhtZNuYAkwustsV1wypgWZuQrCKjAOyc6L7D0HIdmsf04QaXYL0fgAouZUnQd1uV3WU5mwWAQy5cv1+XUxN4zwOkgr79ixje2L9A/DRedJtRzHJrFay2EgkxgmCO2n8sFFjOlm/MEGjxArVvrlmhHSommpiZIqb+RvNeaJdIsQMlALrCYsSlCYPogga3NnRdYeo5Ds9jaLGO+/grgAouZ1NRBApYunnafrNLT07FmzRqkp6dr3ZQLvNZCuCFXINXCBRYzvhn5Au+dJLhDF+YbPcehGbT6CHvOALMKYl8OcYHFTMlhi552b+btGgKBAMrLyxEIBLRuyjnCkvDmcV5/xZLHzXkKVAK2Hb+wwNJrHJrFq592smfmxz7fcIHFTGtmvsCrzQRp4nVYerTrJMETjj59xVgyGO4ACjNx0WlCpp1XmiSu6QvkZnCBxVjMlBYInAoAu09r3RJtpKWlYdWqVUhLS9O6Ked4rYXgSAEm9ucCiyUHIQRm5Hc+Yq7XODQDIkJVM+GW/PiUQlxgMdOafEV0l+XKJnNOE/r9fixbtgx+v1/rppxjazNh6iABq8IFFkseN+cp2HMGOHneQfN6jUMz2PcJcMwHzCqIT67hAouZls0Sfbqnqsmcw/aKoqCgoACKop804A0T3molzIrDegjGtNQ+5X3+Bsd6jEOzqGqWSLXE77QI/o0yUystEHi7leAJm6/ISk1NxfLly5Gamqp1Uzq8cSx64GppHJ7oYUxLeZnRg+bP3w9Lj3FoFq80E27MFUi3coHFWMzNKlAQlsAbJtyuwefzoaysDD6fT+umdKhsIhRlASOytW4JY7E3I0/Bq83nLknQYxyaQVAlvNFCuCWOo+VcYDFTG+4AirKAKhM+3WOxWFBSUgKLxaJ1UzpUNkmUFigx3/CPMT0oLRCodQOHnZ/lGz3GoRnsaCX41fjsf9WOCyxmakIIlBYoqDLhQvfU1FSUl5frZmqi3k046IzfglPGtDY9TyBFAbaclW/0FodmUdVEGJAGXNM3ftfgAouZ3qwCgQNO4KjbXKNYXq8XpaWl8Hq9WjcFQHT0yiKiu14zloyyUgRuGChQedaDNXqLQ7N4pTk6PajEcbScCyxmejfnRY/NMds0YUpKCsrKypCSkqJ1UwBE119NvkIg28YFFktepQUCr7UQgmo03+gtDs3gVIDwwSnCLXF+mIYLLGZ6OakC118hTDdNaLPZsGzZMthsNq2bgrAkbG0mlPL0IEtyswsV+CLAW58em6OnODSLrc0EAuK6wB24SIF16NAhTJkyBcXFxZg0aRJqamo6/eH6+npYLBaMHz++4+vIkSNxbTBj8TDr02NzItI8o1herxclJSW6mJp49wTBFQYXWCzpXdMXyE1HxzShnuLQLF5plhiVA+RnalBg3Xvvvfj617+OgwcP4sEHH8SSJUsu+gF2ux27d+/u+Bo2bFi82spY3MwqEGgLRc/BMwubzYby8nJd9Jwrmwh9U4Fr+XgcluSiD9aIjoXueopDMyAiVDVRXJ8ebHfBFU6cOIFdu3Zh0aJFAIAFCxagsbERhw8fjntjGNPKpAECOTacs/g02elp7UdlU3TBqYWPx2EmMLtQwYdngBYv6SoOzeCgE2j0xn96EOikwGpsbMSgQYNgtVoBRKvtwYMHo6GhodMP8Hq9uPbaazFx4kQ89thjUFX1ohcLBoNwuVznfAHoOIMpEAggEAh0vBcMBgFEN2Jrf+31ehEKhTpeh8NhAIDH40EkEgEAuN3ujtcul6ujTS6XC1JKEBFcLheICFLKjnaoqtrxOhKJwO12d7z2eDwAgHA43DGUGwqFOl4Hg8GOjeKCwSDfk8HuKRIKYlpu9ODPZLmny/2ePB4PRo4ciTNnzmh6Tw1nvNh1kjAjV5ryvz2+J/Pd0/SBKgSAFw/54HQ6MXr0aLS0tBj6nozye6pqkkhRCCX9InG5p3PQeXbt2kXFxcXnvDdp0iTaunXr+d9KgUCAWltbiYjo9OnTNHPmTHr88ccv+L52jz76KAG44Gvx4sVERPTAAw/QAw88QERES5cupUcffZSIiBYuXEgrV64kIqJZs2bR6tWriYho8uTJtG7dOiIiGjVqFG3ZsoWIiPLz82nHjh1ERGS32+mjjz4iIiIA1NjYSE6nkwCQ0+mkxsZGav9n+Oijj8hutxMR0Y4dOyg/P5+IiLZs2UKjRo0iIqJ169bR5MmTiYho9erVNGvWLCIiWrlyJS1cuLDjPpcuXcr3ZLB7mvGj58myOkSLvv6tpLmnS/2ewuEwTZw4kZ544glN72n4V35AeCpEjz/1F9P+t8f3ZL57um5DmKzfXEu7d++mLVu2JMU9GeH3NG9LmPr8eFdc7qn9z+1ARPTss8/SuHHjaNy4cbRixQqy2+0UDoeJiEhKSQMHDqRDhw7R5Tz33HM0d+7ci/59IBAgp9PZ8dXeqOPHjxMRkd/vJ7/fT0REPp+PAoEAERF5vd6O1x6Ph4LBYMfrUChERERut7ujzS6Xq+O10+mkSCTS8VpVVZJSktPpJCklqara8Q8SiUQ6XofDYXK5XB2v3W43ERGFQiHyeDxERBQMBjteBwIB8nq9Ha99Ph/fk8Huaf9JP+GpED23358092SE39PiV/00uiKUVPeUjL8nvqfY3tN/7YxQzjNBCoY+uz+j35Pef09uX4Cyng7R8nd9Mb+n9nrm7AJLENEFi06mTZuGJUuWYMmSJXjhhRewYsUK7Nq164LRrxMnTqBPnz5ISUlBMBjEokWLMHLkSDz22GMXDpV1wuVyITs7G06nEw6Ho0s/w1g8XbUujOmDFDxxY/IfW+F2uzFy5Eh8/PHHsNvtmrSBiFDwXAR3DlOwcnLy/5sz1m5Hq8TnX1Lx6swg7r7xak3j0Cy2H5OYulHFzvkWfG5AbBe5d1bPdHqFJ598Ek8++SSKi4uxYsUKPP300x1/98gjj+CJJ54AALz11luYMGECxo0bh4kTJyI3NxcPP/xwTBvNWCLNyldQ2RSdX0926enpqKioQHp6umZtqPkEaPHx9gzMfK4bIJBtA7adStU8Ds2iqpnQLxWY0C8x+abTEaxE4REspjcbj0rMq1Jx8A4rRmTz//TjbeVeFT/cJXHma1akW/nfm5lL2asRNHmB6tusWjfFFK7dEEZxtsDzN8f+37vLI1iMmdW0Tw9jNcOu7i6XCw6Ho/OnXxKksolw0yDBxRUzpdkFCt47KWEfOFjTODSDYz7CB6eAuYMTV/ZwgcXYWbJSBKYMFKY4lzAzMxPV1dXIzMzU5Pq+CGHbcT4eh5lXaYGAJIHl67ZrFodmsbmBoAhgdgLzDRdYjJ2n/TDWkJrcRZbFYsHo0aNhsWizuHzbMUJQja57Y8yMCrIERvcBapCvWRyaxaZGiclXCPRL4wKLMc3MylfgCQM7WpO7wHK5XBBCaDY1UdlEyM8ERvXR5PKM6cL0AWE8/W4TnE6eIoyXoBo9HmdOYWJHy7nAYuw8E/oDA9OBzY3JXWBlZWWhsbERWVlZmly/qkmiNF9ACJ4iZOY1d2gq0Ccf9WGeIoyXbccI3khi118BXGAxdgFFCHyxUGBTQ3IvdBdCwOFwaFLgNHgI+9qA0gQcuMqYnk3NFUi3ECqbtW5J8trUSCjIBMb2Tex1Obsx1om5gxXsawPqXMk7iuV2u5Gdnd1x/lcibWqQsApgFi9wZyYX9nvg370Fm4+GtW5KUiIibGyQmFOoJLwzyQUWY524JT+6XcOmxuQdxbLb7XA6nZrsHr2xgXBjrkBOKhdYzNzsdjtWfG0Gqk9a4Aknb4dOKwedwBEXMGdw4nMNF1iMdcJuE5iaK7CxIXkTHp11GnwiecOErS2EuRokPMb0hohQYnchJIGtJtgeJtE2NUikWYAZ+VxgMaYbcwcLvHGM4E3SXqXH40FhYSE8Hk9Cr/taS3R7hkQvOGVMjzweD266Og/D7RIvJ/m6Ty1saiRMzxPI0GAzY85wjF3EnMEKgiqwtSU5CyyHwwEiSvgxVRsbCCMcQHEOj2Ax1h6HtxVZsbGBIE1wDmqiuEKEbccSvz1DOy6wGLuIEdkCIxzAxiTtVaqqipqaGqiqmrBrti845dErxqLa43BOIaHVD+w6yQVWrFQ1ESIU7SxrgbMcY5cwd7CCzY2U8HVKieD1elFSUgKv15uwa+4+DbT4gHlDePSKMeCzOByX6UOfVOClo8mXa7SyqVFidB+gyM4jWIzpzpzBAs1eYM8ZrVsSe+0HPSdyinBjg4QjBbghlwssxoDP4rBvjgNfLBS8DitGJBE2NxLmFGpX5nCBxdgl3JgrYE8BNh5NvqQXiURQXV2NSCSSsGtubCDMLhRIUbjAYgw4Nw7nDVaw9wxw1M2jWL31/inCCb822zO04wKLsUuwWQRmFQi8nITbNfj9fpSVlcHv9yfkeq0+wnsniddfMXaWs+NwdqGAVSTvus9E2thAyLEBUwZygcWYbt02RMF7Jwkt3uQqsux2O5qamhK20ejmRoIA8AWNnuhhTI/OjsNsm8BNgwSvw4qBTQ2E0gIBq4aj5VxgMXYZcwoFLAJ4KcmmCSORCCorKxM2RfjSUYnJVwj0T+MCi7F258fhvCHR/ffcIS6yeuqYj/D+Ke1Hy7nAYuwy+qZFe5UvJlmvMhAIoLy8HIFAIO7X8kUIlU2E+UVcXDF2tvPjcN5gBSEJVPGu7j32j09Hy2drPFrOBRZjXTB/iMBrLQRnEvUqs7KyUFNTg6ysrLhfq7KR4FeB24s45TB2tvPjcKhDYFQO8HKSjZgn0ov1ElMGaj9aztmOsS64rUhBWEZ7RskiHA6joqIC4XA47tfaUB/dj2ZENo9gMXa2zuLw1iEKNjUSVJk8+SZR3CFCVTPhSzoYLecCi7EuGJwlMLF/tGeULEKhEFatWoVQKBTX64Ql4eUG4tErxjrRWRzeNkTgVAB4q5ULrO7a0hQ961QP+Ub7FjBmEPOHRHd1D6rJkfQyMzNRXV2NzMzMuF7nzWOEtpA+Eh5jetNZHF53hUBeBrC+LjlyTSJtqJcY1xe40sEjWIwZxvwiBe4w8HqSHP4cCoWwZs2auI9gbagnDMkCJvSL62UYM6TO4lARAl8qUvC3esmHP3dDSCVs0tFouT5awZgBjOkDDLUDf0+SpwkTsQZLEuHFeon5RQqE0L5HyZjeXCwOF1wZPabrvRPJkW8S4bUWgiusn9FyfbSCMQMQQmB+kYK/H02OXmVmZiYqKyvjOkW48yShxQfcroMFp4zp0cXi8MZcgQFpwPp64+eaRNlQTxhqB8b21bolUVxgMdYN84cIHPMB7yZBrzIYDGLVqlUIBoNxu8aGekL/NOAGDY+rYEzPLhaHFkVgfpHA+joJSoIOXbypkvD3oxK362i0nAssxrphykCB3HSgotb4CU9VVVRXV0NV1bh8PhFhQ73ErYMFLHy4M2OdulQcLihSUOcGdp/WoGEG884JQqtfX6PlXGAx1g0WRWDhlQoq6ow/TZiRkYGKigpkZGTE5fM/bgMOOvWzHoIxPbpUHE7PE8ixAevrkmd7mHh5oY6Qmw5MvoILLMYMq2yoQJPX+NOEwWAQy5cvj9sU4bpaCUcKMDNfPwmPMb25VBzaLAK3DhFYn0T778WDJEJFnUTZUEVXo+VcYDHWTZ8fKDAoA1hn8GlCKSWampogZeyTNxFhba3E/CKBNKt+Eh5jenO5OFxwpYL9bcC+T4ydb+KpupXQ7AXuGKqvXMMFFmPdlCzThOnp6VizZg3S09Nj/tl7zwD724AvD+UUw9ilXC4OZ+ULZKXwNOGlrK0l5GVE18jqCWc/xnrgjqHRPWqqDXyURSAQQHl5OQKBQMw/e22tRJ9Unh5k7HIuF4dpVoE5hYILrItQJeGFT6cHFZ08PdiOCyzGemDKwOhRFhV8lMUFiAhrj0gsKBKwWfSV8BgzojuGKthzBtjfxvnmfG+3Eo759Dc9CHCBxViPKOLTacJa404TpqWlYdWqVUhLS4vp575/ilDrBr48jNMLY5fTlTj8YqGAIwV47jCPYp1vXS2hMFNfTw+24wzIWA/dMVSgxQfsMOg0od/vx7Jly+D3+2P6uX89QhiQBkwbpL+Ex5jedCUO06wCC64UeO4Ibzp6Nj1PDwJcYDHWYyUDBfIzgbVHjJnwFEVBQUEBFCV2aUASYV1tNOFZdfS4NGN61dU4/OpwBUdc0eOnWNS249HNRfU4PQhwgcVYjylC4I4rFayrk4hI4yW91NRULF++HKmpqTH7zHdOEBq9wJd1mvAY05uuxuG0QdHtYf5y2Hi5Jl7+cljiSjtw3QB95hsusBjrhUUjFJzwA1VNxkt6Pp8PZWVl8Pl8MfvMtUeij0vfkKvPhMeY3nQ1Di2KwJ1DFaytNWaHLtYCEUJFLWHRcP2cPXg+LrAY64UJ/YBROcCfDbj41GKxoKSkBBaLJSafF5GfTQ/qcT0EY3rUnTi8a7hAqx94vYULrJcbCK4wsGi4fssY/baMMQMQQuBrIxS8WE9whYyV9FJTU1FeXh6zKcKqJsJxP/C1EZxWGOuq7sThtf0FRjiiU2Nm97+HJa4bIFCco9/OHGdCxnrpq8MVBFVgvcH2xPJ6vSgtLYXX643J5z17SGJMn+ioHmOsa7oTh0IIfHW4gr/VE/wRY+WbWDoVIGxuICwart/iCuACi7FeK8gSmJ4n8OdDxupVpqSkoKysDCkpKb3+rE+ChBfrCUuK9bsegjE96m4cfmWYAncY2NRg3gKrolaCoP+99vTdOsYMYvEIBW8cIzR6jJP0bDYbli1bBpvN1uvPWntEQqXoaB5jrOu6G4fFOQKf6y9MPU34v4cJpQUCV6TruzPH2ZCxGFhQJJBmMdbaCK/Xi5KSkphMET57KJrwcjP0nfAY05uexOHiEQIbGwgn/Mbp0MXKERdhRyvpenF7O/23kDEDsNsE5hdFpwmNstOyzWZDeXl5r0ewDrQR3jlBuJsXtzPWbT2Jw0XDFVgU4E8GW5YQC08fkHCkALcV6b8zxxmRsRhZPELBvrboWXxGEKs1WM8eksixAbcO0X/CY0xvehKHfdMEvlQksGa/cTp0sRCRhGcOSdw1XEGGVf/5hgssxmLklnyBgkxgzX5jJDyPx4PRo0fD4/H0+DNUSfjzIYk7hylIM0DCY0xvehqHy65ScMAJvG3Qs1B7orKJ0OyN3rsRGKOVjBmAVRFYepWCvxyRcBtgT6y0tDSsWrUKaWlpPf6M148RmrzA3SO4uGKsJ3oah9PyBIbagTX7zTNN+P8PSIzrC0zsr3VLuoYLLMZi6F+uUuCLAH+t1X+BZbVaUVpaCqvV2uPPeOpjiatzgOuv4AKLsZ7oaRwqItqhW1dLcBqgQ9dbrT7Cy0cJy642zlYwXGAxFkODswS+UCDw1Mf671W63W4UFBTA7Xb36OeP+Qgb6gnfGGmchMeY3vQmDpcUKwhK4HkDPb3cU386JGFRjLUVjHFayphB3DtSwa5ThA90vtg9PT0dFRUVSE9P79HPr9kvYbPw0TiM9UZv4jAvU2BOocCaA/rONb1FRFhzQGJBkUCfVON05jgzMhZjXygUyM+E7kexrFYrSkpKejRFGJGEp/ZL3DVMIMdACY8xvelNHALAsqsVvH+K8E+dd+h6Y9txwkEnsNQgi9vbGau1jBmAURa7u1wuOBwOuFyubv/sxobo4vZvjLLEoWWMmUdv4hAAvlgoMCgDWHNA3x263vhNjcTIHGB6nrE6c1xgMRYHSw2w2D0zMxPV1dXIzMzs9s/+sV75CgAADUNJREFUYZ/E9VcITOxvrITHmN70Jg6BaIdu2VUKnj0o0RbUb77pqUZP9JzTb4023lpPLrAYi4P2xe6/q1F1uxGgxWLB6NGjYbF0bxTqkJNQ1Rxd3M4Y652exuHZvjFKQUgm5yjWHz6WyLQac62n8VrMmEHcP1bBnjPA6y36LLBcLheEEN2emnjyY4m+qcAdQ43Vm2RMj3oah2cblCHwlWECv6mRiEh95pueCEQIq/dL3HOVgqwU4+UbLrAYi5MZeQLX9AVWfqjPXmVWVhYaGxuRlZXV5Z/xRQhPH5S4p1hBOu/czliv9SQOO/PAWAsaPMCG+uQpsNbWEk4FgH8fZcxSxZitZswAhBAoH2vB5kbCx5/oL+kJIeBwOLq1ruGPByTaQsA3DZrwGNObnsRhZ8b3E5g2SOAXOu3QdRcR4Tc1ErMLBEZkG7Mzx1mSsTj6yrDoEz6/+EjVuikXcLvdyM7O7vIGhxFJWLlX4o6hAkMdxkx4jOlNd+PwUh4Yq6D6BOHdE8YvsrYfJ7x/inDfGOOWKcZtOWMGYLMIfGuUgj8dIpz062sUy263w+l0wm63d+n719US6j3Ag+N4awbGYqW7cXgpcwcLDHcgKUaxVuyRGNsXmF1g3M4cF1iMxdm9IxUoAH6/T19Jj4jgcrm69JQjEeGne1SUFgiM72fchMeY3nQnDi9HEQLfGaPghTpCg0dfHbru2H2a8I9GwkPjLIbbmuFsXGAxFmf90gTuuUrB7/ZJ+CP6SXoejweFhYXweDyX/d7KJsKeM8CD4zhlMBZL3YnDrlhSrCArBfj1R/rq0HXHit0qrrQb/0llzpaMJcADYxScDkbP79MLh8MBIoLD4bjs9z6+R2LSgOgiWsZY7HQnDrsiK0Xg26MV/H6fxHGffjp0XXXYSaioI3zvGgVWxdj5hgssxhJgeLbA4uEC/71bwqeTUSxVVVFTUwNVvfQC/PdOSLxxjPDgOOPtpMyY3nU1DrujfKwCmyXaMTKan+2VGJAG3FNs/PLE+HfAmEH810QLTgaix8zogdfrRUlJCbxe7yW/7ye7JUY4gPlDuLhiLNa6Gofd0SdVoHysgj98LNHs1UeHrisaPIRnDkrcP0ZBWhLss8cFFmMJMswhcE+xwON7JDxh7ZNe+wGzl5qaePu4xEtHCT+61gKLwYfrGdOjrsRhT9w/RkGGFfjv3fro0HXFj95XkW0z7sai50uOu2DMIH44wYK2EPDbGu2TXiQSQXV1NSKRSKd/T0R48D2JCf2ALw/j4oqxeLhcHPaUwybwvWsUrN4vDfFE4f42wjOHCA9PUGC3JUe+4QKLsQQaYhf416sV/GyvhCukbdLz+/0oKyuD3+/v9O9fbiC83UpYcZ0FCq+9YiwuLheHvfHt0QqybcCP/6m/jY7P98NdKgoygX9LokPkk+dOGDOIH4xX4I1ovxmg3W5HU1NTpxscqpLwn++puDlP4JZ8Lq4Yi5dLxWFvZaUIPDhOwdMHCLUu/Y5i7Twpsb4uuhQh1ZI8+YYLLMYSLD8zurv7T/dqO3QfiURQWVnZ6dTEnw4R9rUBK67jJwcZi6dLxWEsfHOUgv5pwIPv6XMUi4jwg50SI3OAxcOTK9dwgcWYBh6ZqMCRAnz3He2SXiAQQHl5OQKBwDnv+yOER95XUXalwKQBnCIYi6eLxWGsZFgFfj7ZghfqCJWN2q/9PN+L9YRXmwn/Myn5HqTh7MmYBhy2z5LeK03aJL2srCzU1NQgKyvrnPd/8k+JVj/wk0l85iBj8XaxOIylu4YJTB8k8O87VF2dJuENE75TrWJOocCtSbgNDBdYjGnkrmECU3MFvr1DRUhNfNILh8OoqKhAOBzueG/vacLjeyQeHq9gRHbyJTzG9KazOIw1IQR+f4MFDR59bT76//4pcTIA/HqKsc8cvBgusBjTiBACv/u8BYdd2ix4D4VCWLVqFUKhEIDowvZl21UUZwMPjefUwFginB+H8XJ1TnTbhv/ZLXHIqf0o1r5PCCv3RjtzQx3JV1wBgKBYHOHdQy6XC9nZ2XA6nTHfZI0xo3igWsVT+yU+XGDVNNH84kMV331H4u1bLSgZyAUWY8nGFyGMroigOFtgyxe0GzVSJeHmTSqO+QgfLrQmxZODndUznEUZ09iPrlUwMB2487XEThWGQiGsWbMGoVAIdS7CD3dJfGu0wsUVYwl0dhzGW4ZV4DdTLKhqJvz5kHajWCv2SGw/TnjqxuTaluF8nEkZ05jDJrB2hgW7TxP+c2fipgrb134EgmEs266iXyrwk89xSmAskRKxButsc4co+NoIgW+8raLmTOKLrLeOSzz6vsQPJyiYlpfc+YanCBnTiV9+qOKBdyRemmXBvCGJSzz/8Y6KX34kUfkFC2bkJ3fCY4xFpwqvfzGCsAR2zrcm7GiaMwHC+L9FMCRL4PW5FliTaFsGniJkTMe+M0bBrUMElrypojEBG5AGg0Hc9evNWPmhxMrJChdXjGkgGAxi1apVCAaDCbtmhlVg/UwrWnzAsu0qEjHOQkRYuk2FJwI8d3NyFVcXwxmVMZ0QQuDpqRZkWqPrscIyvknv3VaJtbabsHioxH2jORUwpgVVVVFdXQ1VTeymw8U5An+casG6WsJvEnD4/M/3Srx4lPDMTRYUZiV/cQVwgcWYrvRNE/jrDAt2niTcuTV+i95bvIQ7t1tx/aBUrJ5mS8o9aBgzgoyMDFRUVCAjIyPh1144VMH9YxR89x0Z113en/xYxfffk/jBeAW3JnD5g9bMc6eMGcSUgQr+NtOCjQ2EO+JQZJ3wE+ZVRaCAMGXPL4BI/J9eYox1LhgMYvny5QmdIjzbT69XMLtQ4NYqFS8fjX2R9exBiX97KzpK/mOTPURjrrtlzCDmDlGw4RYLtjQRFryqIhijImt/G2Hy3yNo9gIvTFPR1nAAUupnZ2fGzEZKiaamJs3iMEURWD/TgnlDBL70ioqK2ti1Y+0RiX/ZpuJfrxb4ZYn5Do7npwgZ07HKRonbXlExIy+6lUNWSs8T1JvHJOZXqcjPBDaVWjHEbq5kxxi7uIgk3P2Gir/WEv441YK7i3s+/qJKws/3Sjy8S+KuYQLPTLNASfLiip8iZMxgSgsVbCy14I1jhFEVEbzUgyF8SYQ/HpC4ZbOKa/sLvDUvWlwFAgGUl5cjEAjEoeWMsa7QSxxaFYE/TbPgnuLok8x3vBrBMV/3x18aPYQZm1X8506J745V8Mebkr+4uhgusBjTuZn5Cj5aYMXYvgK3VamYXxVBQxe2cZBEWF8nMeFvESzdpmLxcIHNsy3ISTVnsmOMXZpFEVh9owXPTY926kZWRLB6v4TswkSXPxLtyF2zPoIjLsJrcyx4/HpzbMdwMTxFyJhBEBHW1xHuq1bhDAFfLBSYNkhg2iAFo/pEv+dkAKh3E2o+AX7xkYoPzwAz8gQemahg6iDuTzHGuuZ0gPAf76p45iChKAuYN0TBvMECUwcJpFoEJBECKrD7NOGZgxJrjxBcYeDOYQK//7wFfUzWkeusntG0wHI6ncjJyUFjYyMXWIx1kStE+P0+iddbCLtOESISyEkFAhEgcNZWOtPzBB4ap2DyRc4W9Pv9+N73voef/exnSE9PT1DrGWNn03scvtMqUVFH+EeDRLMPsFkAASB4Vq7JzwDuGq7gK8MUDMs2V2HVzuVyobCwEG1tbcjOzgagcYHV1NSEwsJCrS7PGGOMMRYzjY2NKCgoAKBxgSWlREtLC+x2u+ke32RMa+09Lh5BZkw7HIfJgYjgdruRl5cHRYnOGli1bJCiKB2VHmNMGw6HgxM7YxrjODS+9qnBdrzqlTHGGGMsxrjAYowxxhiLMS6wGDOp1NRUPProo0hNTdW6KYyZFsdh8tJ0kTtjjDHGWDLiESzGGGOMsRjjAosxxhhjLMa4wGKMMcYYizEusBgzqaKiIlx11VUYP348xo8fj7Vr12rdJMaS2n333YeioiIIIbB79+6O90+cOIHZs2djxIgRGDNmDLZt26ZhK1msaLrRKGNMW2vXrsX48eO1bgZjprBw4UJ8//vfxw033HDO+w899BAmT56MLVu2YOfOnbj99ttRV1eHlJQUjVrKYoELLMYYYywBpk6d2un769atw+HDhwEAkyZNQl5eHt58803MnDkzkc1jMcZThIyZ2OLFizF27FgsXboUJ0+e1Lo5jJnO6dOnEQ6HkZub2/FeUVERGhoaNGwViwUusBgzqW3btuHDDz/EBx98gP79++Puu+/WukmMMZY0uMBizKQGDx4MAEhJScH999+P7du3a9wixsynX79+sFqtOH78eMd79fX1HfHJjIsLLMZMyOv1oq2trePPzz//PCZMmKBhixgzr7KyMjzxxBMAgJ07d6K5uRk33XSTxq1ivcVH5TBmQrW1tViwYAFUVQURYejQofjVr36FoqIirZvGWNK69957sWnTJhw/fhz9+vWD3W7H4cOH0draisWLF6Ourg42mw2//e1vMX36dK2by3qJCyzGGGOMsRjjKULGGGOMsRj7P5uF9DrJdBBnAAAAAElFTkSuQmCC\" />"
      ]
     },
     "execution_count": 115,
     "metadata": {},
     "output_type": "execute_result"
    }
   ],
   "source": [
    "f(x) = sin(x)\n",
    "plot(f, 0, 4pi)"
   ]
  },
  {
   "cell_type": "code",
   "execution_count": 116,
   "metadata": {},
   "outputs": [
    {
     "data": {
      "text/html": [
       "<img src=\"data:image/png;base64,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\" />"
      ]
     },
     "execution_count": 116,
     "metadata": {},
     "output_type": "execute_result"
    }
   ],
   "source": [
    "plot(x->exp(x), -1, 1)"
   ]
  },
  {
   "cell_type": "code",
   "execution_count": 117,
   "metadata": {},
   "outputs": [
    {
     "data": {
      "text/html": [
       "<img src=\"data:image/png;base64,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\" />"
      ]
     },
     "execution_count": 117,
     "metadata": {},
     "output_type": "execute_result"
    }
   ],
   "source": [
    "plot!(x->exp(-x), -1, 1)"
   ]
  },
  {
   "cell_type": "code",
   "execution_count": 118,
   "metadata": {},
   "outputs": [
    {
     "data": {
      "text/html": [
       "<img src=\"data:image/png;base64,iVBORw0KGgoAAAANSUhEUgAAAlgAAAGQCAYAAAByNR6YAAAABHNCSVQICAgIfAhkiAAAAAlwSFlzAAAPYQAAD2EBqD+naQAAIABJREFUeJzs3Xl8VfWdP/7XOXdNcm8SSFiSXFZZEhZFkSWKKwi0daFKOq1tdWZc6nSxlZnpd5z2Ozj9dpmfVebb2v5sS6ed2lWxlqnauoBSFwKigsqmgixZWRKSu6/n/f3jhoDWaO4nJ5x773k9Hw8ejyskn3yOeXF55/P+nM/RRERARERERKbRrZ4AERERUbFhgUVERERkMudQBzAMA+3t7fD7/dA0zYw5EREREeUFEUEoFEJtbS10ffDrUkMusNrb2zFu3LihDkNERESUt1paWhAIBAb98UMusPx+PwBg3759GDVq1FCHIxuJx+P493//d6xevRper9fq6VCBYG5IFbNDKo4dO4YpU6b01zuDNeQC62Rb0O/3o7y8fKjDkY243W54PB6Ul5fzzY4GjbkhVcwOqYjH4wCQ8zYobajHNASDQVRUVKC3t5cFFhERERUV1TpnyCtYJ8ViMRZYlJNYLIYvfelLuO+++1BSUmL1dKhAMDekitkxXzKZxKFDh5DJZKyeypDouo6ampr3bQPGYjGlMU0rsHLZWU8EZDMTCASYHcoJc0OqmB1ztba24vrrr0c0GrV6Kqb5+Mc/jjvvvPNdGVHNC1uERERElBPDMHDbbbehs7MT3/jGNwp+T1sqlcL27dtx3333YcWKFfja177W/2eWtwij0SgLLMpJNBrFjTfeiF/84hcoLS21ejpUIJgbUsXsmOf48eN49dVX8a1vfQtz5syxejqmmD17NgDg+9//Pm6//fb+dqHqCp1p66QOh8OsocgmHA4HGhsbmR3KCXNDqpgd8/T09ABATudCFYJzzz0XANDR0dH/e6p5MW0Fy+PxmDUU2YTH48GqVausngYVGOaGVDE75jEMA0DxLa64XC4Ap64PUK9vTFvBikQiZg1FNhGJRLBs2TJmh3LC3JAqZseeDh48iEsvvRQVFRVK7UzVvJhWYJ2s+ogGy+VyoampidmhnDA3pIrZsafy8nJ885vfxG9+8xulz1fNi2kFltvtNmsosgm3242bb76Z2aGcMDekitkpbvfccw9uvfXW/v/u6elBdXU1AGDRokUoKytTGlc1L6btwYpEIryLkHISiUSwZMkSbNiwQTn4ZD/MDalidobXO0FBT9L8cSvdwOTyD39Mzc0334xp06bh7rvvRmVlJX7+85/jmmuuwciRI4f09VVbhKYVWPyJgHLldruxatUqZodywtyQKmZn+ByPC6Y+lIYxpJM1359DAzo/40S194OLrMrKSqxcuRI/+9nPcMcdd+D+++/Hgw8+OOSvb/kKFnvalKuT+yGIcsHckCpmZ/hUezW8/QnnsK1gfVhxddLtt9+Oq6++Gg0NDRg1alT/sQtDoVrfmFZghcNhtggpJ+FwGAsWLMDWrVvh8/msng4VCOaGVDE7w2swbbzhVl9fj8mTJ+PWW2/F3XffbcqY4XBY6fNM2+Re6Mfk05nn9XqxZs0aZodywtyQKmbHHm655Rak02msXLkSQPYk9kAggKamJuzevRuBQAB33nnnoMdTzYtpK1hOp2lDkU04nU4sW7bM6mlQgWFuSBWzYw/PPvssPv/5z/e39kpLS9Ha2qo8nmp9Y9oKVigUMmsosolQKIRAIMDsUE6YG1LF7BS39vZ21NfX49VXX8VXvvIV08ZVzYtpy04lJSVmDUU2UVJSgnXr1jE7lBPmhlQxO8WttrYWe/fuNX1c1bywRUiWcTqdaGxstHoaVGCYG1LF7JAKy1uEwWDQrKHIJoLBIMrLy5kdyglzQ6qYHVKhmhfTCiyeiku5KisrQ3NzM7NDOWFuSBWzQypU82JaX8/hcJg1FNmEw+HAzJkzrZ4GFRjmhlQxO6RCtb5hi5AsEwwGoWkas0M5YW5IFbNjT8888wzmz5+PGTNmYObMmfjqV78KwzAG/fmWtwh5Ki7lyufzoaWlhdmhnDA3pIrZsacRI0bgd7/7HXbv3o1XXnkFmzdvxgMPPDDoz1fNi2kFlqZZf0Q+FRZN01BeXs7sUE6YG1LF7BS3e+65B7feemv/f/f09KC6uhoTJkzA5MmTAWRPZZ8zZw4OHjw46HFV88KDRskyoVAIFRUVzA7lhLkhVcxOcbv55puxfv169PT0AAB+/vOf45prrsHIkSP7P6azsxMPP/wwrrzyykGPa/lBo36/36yhyCb8fj96e3uZHcoJc0OqmJ3hlT7eASOm9mDkD6KX+OCsrvnQj6usrMTKlSvxs5/9DHfccQfuv/9+PPjgg/1/HgwGcdVVV+GrX/0qzj///EF/fdW8mFZgiYhZQ5FNiAiCwSB8Ph+X7GnQmBtSxewMn0y4F53fugmQwW8eHzRdR803fguHr+JDP/T222/H1VdfjYaGBowaNQrnnnsugOwq1PLly3HNNddg1apVOX151frGtAIrHA6jsrLSrOHIBsLhMMaNG4fe3l6Ul5dbPR0qEMwNqWJ2ho/DV4GxX/uvYVvBGkxxBQD19fWYPHkybr31Vtx9990Ast/35cuXY/ny5fj617+e89cPh9WuybQCi2GlXJWXl3Plk3LG3JAqZmd4DaaNdybccsst+OIXv4iVK1cCAL73ve/hpZdeQiQSwSOPPAIAaGpqwte+9rVBjada35hWYGUyGbOGIpvIZDLYu3cv6uvreVAtDRpzQ6qYHXt49tln8fnPfx4ulwsA8LWvfW3QxdT7Ua1vTLuLMBKJmDUU2UQkEkFjYyOzQzlhbkgVs1Pc2tvbUV9fj1dffRVf+cpXTBtXNS9sEZJl+NBVUsHckCpmp7jV1tZi7969po+rWt+YtoKVTqfNGopsIp1Oo7m5mdmhnDA3pIrZIRWqeTGtwIrFYmYNRTYRi8XQ1NTE7FBOmBtSxeyQCtW88KBRsozf70dra6vV06ACw9yQKmbHPLqeXZ9JpVIWz8Rc8XgcAOB0niqPLD9olEuulKt0Oo2NGzdi8eLF7woz0QdhbkgVs2Oe2tpauN1urF27Frfcckv/HXuFKpPJoLW1FT/4wQ9QWlqK8ePH9/+Zan2jyRAPBQkGg6ioqEBbWxtqa2uHMhTZTDgcxoIFC7B161Y+3Z4GjbkhVcyOubZs2YJVq1YhmUxaPRXTzJ07F//2b/+Gurq6/t9rb29HXV1dzgfUmlZg8WRcIiIiewmHw2hvb4dhDMMjcs4gXdcxYsQIVFVV9bc/T1Ktc0xbIy22PiwNv1QqhfXr12PFihUFv7xMZw5zQ6qYHfP5fD5MmzbN6mkMK9X6xrS7CItpiZDOjGQyiTVr1jA7lBPmhlQxO6RCNS9sERIRERENQLXO4QoWWSaZTOKnP/0ps0M5YW5IFbNDKlTzYlqBxT1YlKtUKoV169YxO5QT5oZUMTukQjUvbBESERERDcDyFmEikTBrKLKJRCKBNWvWMDuUE+aGVDE7pEI1L6YVWJlMxqyhyCYymQyam5uZHcoJc0OqmB1SoZoXtgiJiIiIBsAWIRWcRCKBu+66i9mhnDA3pIrZIRWWtwgL/Zh8OvMMw0BrayuzQzlhbkgVs0MqVPPCFiERERHRACxvEcbjcbOGIpuIx+NYtWoVs0M5YW5IFbNDKlTzYlqBRURERERZbBESERERDcDyFmEsFjNrKLKJWCyGm2++mdmhnDA3pIrZIRWqeTGtwNJ1dhspN7quIxAIMDuUE+aGVDE7pEI1L2wREhEREQ3A8hZhNBo1ayiyiWg0iqamJmaHcsLckCpmh1So5sW0AsvhcJg1FNmEw+FAY2Mjs0M5YW5IFbNDKlTzwhYhERER0QAsbxFGIhGzhiKbiEQiWLZsGbNDOWFuSBWzQypU82JageVyucwaimzC5XKhqamJ2aGcMDekitkhFap5YYuQiIiIaABsEVLBiUQiaGxsZHYoJ8wNqWJ2SIXlLUK3223WUGQTbrcbq1atYnYoJ8wNqWJ2SIVqXtgiJCIiIhqA5S3CcDhs1lBkE+FwGDNnzmR2KCfMDalidkiFal5MK7C8Xq9ZQ5FNeL1erFmzhtmhnDA3pIrZIRWqeWGLkIiIiGgAlrcIQ6GQWUORTYRCIQQCAWaHcsLckCpmh1So5sW0AqukpMSsocgmSkpKsG7dOmaHcsLckCpmh1So5oUtQiIiIqIBWN4iDAaDZg1FNhEMBlFeXs7sUE6YG1LF7JAK1byYVmCVlZWZNRTZRFlZGZqbm5kdyglzQ6qYHVKhmhe2CImIiIgGwBYhFZxgMAhN05gdyglzQ6qYHVJheYvQ5/OZNRTZhM/nQ0tLC7NDOWFuSBWzQypU82JagaVpmllDkU1omoby8nJmh3LC3JAqZodUqOaFB42SZUKhECoqKpgdyglzQ6qYHVJh+UGjfr/frKHIJvx+P3p7e5kdyglzQ6qYHVKhmhfTCqwh3oxINiQiCAaDzA7lhLkhVcwOqVDNi2kFVjgcNmsosolwOIxx48YxO5QT5oZUMTukQjUvTrMmwDOwKFfl5eX8SZJyxtyQKmaHVKjWN6atYGUyGbOGIpvIZDLYtWsXs0M5YW5IFbNDKlTzYlqBFYlEzBqKbCISiaCxsZHZoZwwN6SK2SEVqnlhi5Asw4eukgrmhlQxO6TC8hZhOp02ayiyiXQ6jebmZmaHcsLckCpmh1So5sW0AisWi5k1FNlELBZDU1MTs0M5YW5IFbNDKlTzoskQb6lQfco0ERERUb5TrXPYIiTLpNNpPPnkk8wO5YS5IVXMDqmwvEUYj8fNGopsIh6PY9WqVcwO5YS5IVXMDqlQzQtbhEREREQDsLxFmEqlzBqKbCKVSmHdunXMDuWEuSFVzA6pUM2LaQVWMpk0ayiyiWQyiTVr1jA7lBPmhlQxO6RCNS9sERIRERENwPIWIX8ioFwlk0n89Kc/ZXYoJ8wNqWJ2SIVqXrgHiyzD/RCkgrkhVcwOqVDNC1uERERERAOwvEWYSCTMGopsIpFIYM2aNcwO5YS5IVXMDqlQzYtpBVYmkzFrKLKJTCaD5uZmZodywtyQKmaHVKjmhS1CIiIiogGwRUgFJ5FI4K677mJ2KCfMDalidkjFkFqE8XgcK1aswLRp03DOOefgiiuuwL59+3IayDAMpQmQfRmGgdbWVmaHcsLckCpmh1So5kUTEYnH43jmmWfwkY98BJqm4Qc/+AEefvhhbNq06UMHYIuQiIiIitWQWoRerxcf/ehHoWkaAGDhwoU4ePBgThPg08kpV3yyPalgbkgVs0MqVPPyvnuwvve97+Gaa655309IJBIIBoPv+gUAsVisfyInJxOLxfp7l9FotP91JBLpPxk1Eon0H+IVDoeRTqcBAKFQqP91MBjs38UfDAZhGAZEBMFgECICwzD655HJZPpfp9NphEKh/tfhcBhA9tCwSCQCIHtC68nXiUQC0Wi0/zWvidfEa+I18ZqK65pOzqWYrqkYv0/5dE0nryNn8h7f+ta3ZOHChRKJRN77RyIisnr1agHwV78++9nPiojIHXfcIXfccYeIiNx0002yevVqERFZuXKl3HvvvSIisnTpUlm7dq2IiCxcuFAeeughERGZMWOGPPHEEyIiUldXJ5s3bxYREb/fLzt37pS+Ox6lpaVFent7BYD09vZKS0uLnLyUnTt3it/vFxGRzZs3S11dnYiIPPHEEzJjxgwREXnooYdk4cKFIiKydu1aWbp0qYiI3HvvvbJy5cr+67zpppt4TbwmXhOvidfEa+I12fiaampq+j8uF+8qsL773e/K3Llz5cSJEwN+Qjwel97e3v5fJyd14MABERGJxWISi8VERCQajUo8HhcRkUgk0v86HA5LIpHof51MJkVEJBQKSSqVEhGRYDDY/7q3t1fS6XT/60wmI4ZhSG9vrxiGIZlMpv/C0+l0/+tUKiXBYLD/dSgUEhGRZDIp4XBYREQSiUT/63g83l9YxuNxiUajvKZhvKbOzk656aabJBgMFs01FeP3Kd+uKRgMyk033SRHjhwpmmsqxu9TPl5Td3e33HjjjRKNRovmmorx+5Rv17Rv3z6lAqv/HKw1a9bg17/+NTZs2IARI0YMegXs5Oavo0ePYtSoUbkuoJGNJRIJfOc738Gdd94Jj8dj9XSoQDA3pIrZIRXHjh3D6NGjc97kromItLa2Yty4cZg8eTL8fj8AwOPxYOvWrR86AO8iJCIiomI1pLsIA4EARAT79+/Hjh07sGPHjkEVV6c7uVGNaLCi0SiampqYHcoJc0OqmB1SoZoX005ydzgcZg1FNuFwONDY2MjsUE6YG1LF7JAK1bzwWYREREREA7D8WYQnz7UgGqxIJIJly5YxO5QT5oZUMTukQjUvphVYLpfLrKHIJlwuF5qampgdyglzQ6qYHVKhmhe2CImIiIgGwBYhFZxIJILGxkZmh3LC3JAqZodUWN4idLvdZg1FNuF2u7Fq1Spmh3LC3JAqZodUqOaFLUIiIiKiAVjeIlR+2jTZVjgcxsyZM5kdyglzQ6qYHVKhmhfTCiyv12vWUGQTXq8Xa9asYXYoJ8wNqWJ2SIVqXtgiJCIiIhqA5S3CUChk1lBkE6FQCIFAgNmhnDA3pIrZIRWqeTGtwCopKTFrKLKJkpISrFu3jtmhnDA3pIrZIRWqeWGLkIiIiGgAlrcIg8GgWUORTQSDQZSXlzM7lBPmhlQxO6RCNS+mFVhlZWVmDUU2UVZWhubmZmaHcsLckCpmh1So5oUtQiIiIqIBsEVIBScYDELTNGaHcsLckCpmh1RY3iL0+XxmDUU24fP50NLSwuxQTpgbUsXskArVvJhWYGmaZtZQZBOapqG8vJzZoZwwN6SK2SEVqnnhQaNkmVAohIqKCmaHcsLckCpmh1RYftCo3+83ayiyCb/fj97eXmaHcsLckCpmh1So5sW0AmuINyOSDYkIgsEgs0M5YW5IFbNDKlTzYlqBFQ6HzRqKbCIcDmPcuHHMDuWEuSFVzA6pUM2L06wJ8AwsylV5eTl/kqScMTekitkhFar1jWkrWJlMxqyhyCYymQx27drF7FBOmBtSxeyQCtW8mFZgRSIRs4Yim4hEImhsbGR2KCfMDalidkiFal7YIiTL8KGrpIK5IVXMDqmwvEWYTqfNGopsIp1Oo7m5mdmhnDA3pIrZIRWqeTGtwIrFYmYNRTYRi8XQ1NTE7FBOmBtSxeyQCtW8aDLEWypUnzJNRERElO9U6xy2CMky6XQaTz75JLNDOWFuSBWzQyosbxHG43GzhiKbiMfjWLVqFbNDOWFuSBWzQypU88IWIREREdEALG8RplIps4Yim0ilUli3bh2zQzlhbkgVs0MqVPNiWoGVTCbNGopsIplMYs2aNcwO5YS5IVXMDqlQzQtbhEREREQDsLxFyJ8IKFfJZBI//elPmR3KCXNDqpgdUqGaF+7BIstwPwSpYG5IFbNDKlTzwhYhERER0QAsbxEmEgmzhiKbSCQSWLNmDbNDOWFuSBWzQypU82JagZXJZMwaimwik8mgubmZ2aGcMDekitkhFap5YYuQiIiIaABsEVLBSSQSuOuuu5gdyglzQ6qYHVJheYvQMAyzhiKbMAwDra2tzA7lhLkhVcwOqVDNC1uERERERAOwvEXIp5NTrvhke1LB3JAqZodUqObFtAKLiIiIiLLYIiQiIiIagOUtwlgsZtZQZBOxWAw333wzs0M5YW5IFbNDKlTzYlqBpevsNlJudF1HIBBgdignzA2pYnZIhWpe2CIkIiIiGoDlLcITm/8MSSfNGo5sIBqNoqmpCdFo1OqpUAFhbkgVs0O5METwPwcNXPGYxQeNRv9nLTq+8bcIbngQRjRk1rBUxBwOBxobG+FwOKyeChUQ5oZUMTs0GLG04Md7Mqh/KI0VT2cATVMax7QW4fG3d0F/5WlEtm2ApjtQtnA5fJesgLNq7FCGJyIiIhp2x2KC/3+3gR/sNtCdAK6dqOGfztbR4A1b2yJMlo3AiL/5MmpWPwDfpdci+vJGdH7z79H1i+8gefgts74MFZFIJIJly5YhEolYPRUqIMwNqWJ26P281SP4hxcyGP/bNO5+3cAnJ+t46xNOrFvixILRunJenGZN0OVyAQAc/hGo+OgN8C/+BKIvPYXQpj/g6Jrb4T5rNvyXr4S3YR403sFByGamqampPztEg8HckCpmh04SEWw+IrjndQP/c0gwugT4+rk6bmvQUeV9d0tQNS/DfhehGBnE3mhG+JmHkTy0F84x4+G/7FqUzr0cmss9lC9NRERENGgZQ7D+ULaw2nJUUF8J/NNsBz49RYPX+f57rSy/i3CgJTRNd6D0nEUY9ZX/xKjb74VzdAAnHvweOr5xI4JP/RaZSNCsKVCBiUQiaGxs5HI95YS5IVXMjn1FUoIf7spg+ro0Vm7IwOMAHlvmwK6VTtxUrw9YXAED1zcfxrQWodv9watRmqbBM3kmPJNnInW0FeFNjyD49G8R2vA7lC5YBv8lH4ezusas6VABcLvdWLVq1Ydmh+h0zA2pYnbs50hU8MPdBn6420BPEmiapOG3l+uYN2rw60uqebH0oNFMqAfhFx5F5IVHYUTDKDnnQvgvWwn3hOlDmRIRERHZ2N4ewZo3MnjgbYFTA26u1/GVWTom+nM/csHyFmE4HM75cxz+SlR85LMYu/oBVK78AlKt+3H0P7+Mo9//J8R2NkMMw6zpUR4Kh8OYOXOmUnbIvpgbUsXsFDcRwXMdBq5+Mo2GdWk8dlhw13k6Wq534v82OpSKK0CtvgFMbBF6vV7lz9XdXvgu/BjKGpcjvnMrQs8+jK6f/juco+rgu+w6lJ2/GJrbY9ZUKU94vV6sWbNmSNkh+2FuSBWzU5zShuCRA4J73jCw7Zhg5gjg55c48KmzNHgcakXV6VTzkrfPIkwc2I3ws79H7I3N0MvK4bvoapRdeCUcvgrTvgYREREVpnBK8LM3DfznGwYOhoHLa7MHgy4PaNAUT19/P6p1jmkrWKFQyNQCyzNpBjyTZiB9rB2hvzyC0IaHENrwEEoXXAH/JdfCOarWtK9F1giFQmhoaMCePXvg9/utng4VCOaGVDE7xaEjKvjBLgP37zEQTAJ/M1nD769w4Lxq84qq04VCao//M20Fq6urCyNHjhzKUB8oE+5F5MXHEH7+jzAiQZTMvgC+y66DZ9KMYfuaNLzS6TS2bduGefPmwek0rdanIsfckCpmp7DtPiG49/UMfrVP4HYAt9br+PIsHeN9w1NYndTd3Y2qqqqcV7DytkU4EEkmEHl5I8LP/h7pY21wT5oB/2XXwTtrITSdD/AkIiIqFiKCTR3Zg0H/1CKoKwO+PFPHLfU6Kj3DW1idZPldhMHgmTkwVHN74Lvgoxhz51pU3bwa0HR0/ez/4Mi3b0H4hcdgJONnZB40dMFgEOXl5WcsO1QcmBtSxewUjrQh+O0+A+evT+PyxzNoiQh+cYkD7/yNE/98juOMFVeAen1j2gpWd3c3RowYMZShlCUO7kV40+8Re+1F6KV+lC26Er6LroLDV2nJfGhwMpkM9u7di/r6ejgcXH2kwWFuSBWzk/9CScF/vWngP3caOBwGrqjLbly/os7cjeu5OHHiBEaOHFn8LcIPkj7egdBf/oDo1ichIiibtwS+S6+Fa3TA0nkRERHRwNoigvt2GfjRHgORFPCpszT849kOnFNlTVF1OtU6x7QCq6WlBYFAfhQymUgQkRcfz26ID/fAO3Mh/JdfB/ekmZZVwPTX8qk4p8LB3JAqZif/vNGd3bj+m/2CEgfwuQYdt8/UERjmjeu5aG1txbhx46wrsE6cOIHKyvxqyUkqiegrzyD0zO+RPtoC94R6+C5fiZLZjdwQnwcMw0B7eztqa2uh66ZtB6Qix9yQKmYnP4gINrZnN64/2SoYVwZ8ZZaOm+t1lLvzp7A6qaenByNGjLDuHKx8XBnSXG6ULVyO0vlLEd+zDaFnHkb3z78JR1UN/Jd+HKXzl0L38ERfq2iahvLy8rzMDuUv5oZUMTvWShmCB/cL7nk9g9e6gTlVwK8uc+ATkzW49Pz9nqjmpShbhB8kefhNhJ59BLEdz0MvKevbEH81HH5rNujbGZfrSQVzQ6qYHWv0JgVr9xr43k4DrRFgeSC7cf3yWus2rufC8hZhT08PKioK5zE26a5OhP+yHpEtT0CMzKkN8WPGWT012xARhEIh+P3+gvhLRvmBuSFVzM6Z1RIWfH+XgR/vMRDPAJ+eomHVbAdmjyys//e9vb2orKy0rkU4xDrtjHNWjUXltbehfPmnEd78J4SfW49I85/hnbkA/stXwj15Fv8CDjMRQTAYhM/n4/9rGjTmhlQxO2fGjq7sxvXf7ReUuYAvzNDxpZk6assK8/+5an1juxbhQCSdRPSVTQg9+zDSnYfhqp2MskVXonTuZdA9JVZPryhxuZ5UMDekitkZPiKCp1oF97xhYEObYLwPuGOWjpum6/Dn4cb1XFjeIiyWwIoIEntfQfiFRxHfvQ2ax4vSeUvgu/BjcI2dYPX0iIiI8kYyI/jtfsG9b2TwRjdwXjXwz2c7sHKSBmceb1zPhWqdY1qLMJPJmDWUpTRNg7fhfHgbzke6+wgizX9GpPkJRJ7/I9xnzYZv0VXZYx6cLqunWvB4qjKpYG5IFbNjngNBwU/2GvjZWwaOxoCPjdPw/UYdl9QUxsb1XKjWN2wRDoKkU4i9/iLCLzyG5Ds7oZePQNnC5Shr/CicI0ZZPb2CFQwGEQgE0NraWhSrn3RmMDekitkZmowh+FOL4P49Bp5oEfhdwI3TdNzWoGPGiOIqqk7HFuEZkuo4iPCLjyG6bSMkmYB35gL4Fl0Jz7RzofHgOiIiKjIdUcF/7TXwk70GWiLA3GoN/9Cg45NnaShzFW9hdZLlj8rp6urCyJEjhzJUQTHiUURfeRaRFx5FquMgnNW1KLvwYyibvxR6md/q6RWEdDqNbdu2Yd68eXA6TetWU5FjbkgVszN4IoJn27OrVesPClyf+vosAAAgAElEQVR69vmA/zBDx/mj7LWY0N3djaqqKusKrNbWVtTV1Q1lqIIkIkge2IXwi48jtuN5QNdReu4l8F14JVzjpxVdL9pMoVAIDQ0N2LNnD/x+FqU0OMwNqWJ2Plx3XPCLt7MPXX6rF2ioBG5r0HHDVB2VHnv+e9bW1oZAIMAWoZUyoR5Etj6JyIuPI3PiKFzjpsJ34cdQct6l0N18JA8REeUfEcFLxwT37zbw4DuCjADXTdJwW4OOi8cW36b1XLFFmEfEyCC+52VEXnwM8T0vQ/OWoWzeEpRd+DGeFH+adDqNjRs3YvHixVyup0FjbkgVs/Nu4ZTgN/sE9+/JYEcXMNEHfK5Bx99N0zGm1N5F1eksbxG2tbWhtrZ2KEMVpXRXJyKb/4TIlidhRHrhmTYHZRdeiZJZC6E57P0XPBwOY8GCBdi6dSt8Pp/V06ECwdyQKmYn641uwY/2GPjl2wYi6ewRC7c16FgW0OAokrOrzNTe3o66ujq2CPOVpJKIvvY8Ii8+juSB3dArquBr/AjKGj8CR0WV1dMjIqIiFk8LHj6QLaxePCIYWwLcXK/jlnod430sqj6I5S3C48ePo6qKhcJgJNveQeTFxxB9+RlIOomS2Reg7MKPwTN1jq163alUCuvXr8eKFSvgcvHgVhoc5oZU2TE7+3oFP95r4OdvGuhKAJfXZo9YuGaiBhdXqwalq6sL1dXV1hVY7e3tqKmpGcpQtmPEIoi+vBHhFx9DuvMwnKMDKLvwSpTNWwK9tPiXryORCJYsWYINGzagrKzM6ulQgWBuSJVdspM2BI8eyh6x8HSbYIQH+NupOj7XoGN6JYuqXHV0dKC2tpYtwkIkIkjufyN71MNrL0BzOFEy91L4LrwS7nFTrZ4eEREVgLaIYO1eA2v3GmiPAgtHZ/dWfWKyhhInCytVlj+LMJlMmjWU7WiaBs+Us+GZcjYywW5EtjyJyOY/IbrlSbjGT4dv0ZUonXMxNLfH6qmaKplM4oEHHsANN9wAt9tt9XSoQDA3pKoYs2OIYENb9oiFRw8LvA7gM1Oyq1XnVrOoMoNqfWPacaypVMqsoWzNUT4S5Us/hbH/+79RddNq6KU+nPjNvei46zPo+Z+1SB9rt3qKpkmlUli3bh2zQzlhbkhVMWXneFzw3dcymPZQGsv+nMG+oOD7F+ho/7QTP7rIweLKRKp5YYuwAKSPtSO8+XFEtz4FIxqCZ/p58C26Ct4Z86HxifBERLYgInjxSPZOwHXvZP/p/sTkbBvwgjE8EHS4qNY5pq1gJRIJs4ai93COqkXlNbeg5q5fYcT1/wiJR9H1X/+Ozv9zI4JP/QaZYLfVU1SSSCSwZs0aZodywtyQqkLNTjAp+OGuDM7+fRoXPZrBlqOCb83T0fZpJ355mRMXjtVZXA0j1byYVmBlMhmzhqIBaG4PyuZfgdF3/F+M/sf74Kmfi9DTD6Ljrs+i67+/jcS+1zHEBckzKpPJoLm5mdmhnDA3pKrQsrP9uOBzz2dQ++s0vtxsYGqFhqc+4sBbn3Din852oNrLoupMUM0LW4QFzoiGEdm2AZEXH0P6aCucY8fDd+GVKD1/MfSS4r0NmYioGMXSggffybYBtx4V1JUBt0zXcXO9jroyFlRWYIvQpvRSH/yXrMCYO9ei+vP/AdeY8ej5w4/QsfrTOPHg95Bs3W/1FAeUSCRw1113MTuUE+aGVOVzdt7sEdzRnF2t+ru/ZFDhAv5whQMHP+nE6rkOFlcWUs2Lacc0GIZh1lCkQNM0eKfNgXfaHGR6jiOy5QmEm/+MSPOf4Z7YgLJFV6L0nIugufLn1mTDMNDa2srsUE6YG1KVb9lJGYL1B7OrVc+0C6o8wC312SMWzipnQZUvVPPCFmERk0wa8Z1bEH7xMSTe2gG9rAKlC5bCd8FH4azmqftERFY4HBb8ZI+B/3rTQGcMWDRGw20zdFw3UYOXB4LmHctbhPF43KyhyCSaw4mScxZh1Of/A2PuXIvS8y9HpPnP6PzW3+PY/f+K6MvPwEha932Lx+NYtWoVs0M5YW5IlZXZyRiCPx02cNWTaUz6XRrf32Xgukk6Xr/OieevduLTU3QWV3lKNS+mtQgpv7nGjEPlxz+H8o/diNj25xDZ+hS6f3U3NE8pSuYsQtn8K+CeNBOablrNTURke0eigp+9ZeAnewwcDAPnVgE/WuTAp87S4HOxoCpmbBHaWPp4ByLbNiD68kZkujrhqBqL0vMXo2zeYjira62eHhFRQTJE8FxHdm/VIwcFDg345Fka/qFBx7xRPBC00FjeIozFYmYNRWeIs7oGFR/5LMZ+7WcY9aXvwjPlbIQ3/QGd3/x7HP3+PyLS/GcYsciwff1YLIabb76Z2aGcMDekariz83av4N9ezuCs36Vx2eMZ7OgS3D1fR9v1Tvz8Eifmj+aBoIVINS+mtQh1tpYKlqbr8Jw1G56zZsO47vOIv74ZkW0bcOKh7+PEI/ejZPYFKJu3BJ7p50LTzXs0j67rCAQCzA7lhLkhVcORne644KF3DDzwtqD5qKDclX18zWen6rhoLFerioFqXtgipAFleo4j8vIziG7bgPSRw9ArqlA693KUzV8C19gJVk+PiMgSKUPwRIvgF28bePSQICPAsoCGG6bquHqChhJuVi8qlrcIo9GoWUNRnnBUVqN8yScw5l9+jNGrvoeS2RcguuUJHPmPz+HIvV9C+Pk/IhMJKo8fjUbR1NTE7FBOmBtSNZTsiAheOSb48ubsYaBXP5XB/qDgP+braL3eiceXO/E3Z+ksroqQ6nuNaS1Ch8O81hHlF03T4B4/He7x01G54hbEd72EyLYN6PnDj9Gz/ifwzpyPsnlXwNtwPjSna9DjOhwONDY2MjuUE+aGVKlkpzUs+PU+Aw+8bWB3DzC2BLhxqo4bpuo4u4rFlB2ovtewRUjKMqEeRF/dhOi2p5Fq3Z89yHTupSidtwSuwBTuPSCighROCf5wUPDA2wY2tgk8DuDjE7MtwCV1Gpw639vsRLXOMa3Aam9vR00NTwe3q1T7gb4jH56BEToBZ81ElM1bjNK5l8NRUfW+nxOJRHDttdfikUceQVkZH0xNg8PckKoPyo4hgk3t2X1Vvz8giKSBS2qyRdV1kzRUuFlU2VVHRwdqa2tzLrBMaxG6XINvDVHxcdVOQuU1t6Diyr9H/M1XEH1pA3r/9AB6H/05PNPPQ9n8JSiZ1QjN7Tn1OS4XmpqamB3KCXNDqt4vO3t7sitVv3rbQEsEmFIO/K9zdHx2qo6JfhZVpF7fsEVIw8aIhhDd/hyi2zYgeXAPNG8ZSs+9GKXzlsA9aQZbiERkieNxwe/2Z49W2HZMUOkGPnmWjhumalg4mkcr0LuxRUh5LXW0FdG+FmLmxFE4q2vhPOdi/N09P8Hv/vQ0Wz00aJFIBEuWLMGGDRuYGxq0REbwyNsxfOFXWxCauAiAho+Oz7YArxyvweNgUUXvT7VFaFqBdfz4cVRVvf9eG6KTxDCQ2Pc6ots2IPbaC5BkHK6zZsM3/wqUnLMIurfU6ilSnkulUli/fj1WrFjBNiF9IBHBS8cED7ydXbHqTgCTHSfwxbkj8JlpTowqYVFFH66rqwvV1dXWFVhsEVKujEQMsddeRHTbBiT2vQbN5UbJ2YtQOn8JPFPO4YOniUjJoZDgV31HK7zVC9SVAZ+ZouOzU3TMHMmiinKjWueYtsk9HA6zwKKcRFMZLPi7L2Pr1q0YkYoium1jXxtxIxyVo1A6bzFKz18M15hxVk+V8kg4HMaCBQuwdetW+Hw+q6dDeSKUFDx8ILthfVOHoNQJXDdRww8v1HFZjQaHriEcDmPmTGaHchMOh5U+z7QVrK6uLowcOXIoQ5HNpNNpbNy4EYsXL4bTma31RQTJg3uyhdarf4HEI3BPqEfpvCUoPe8S6KV+i2dNVnu/3JA9ZQzBxvZsUfXIAUE8A1xWq+HGqTqunaTB53r3ahWzQyq6u7tRVVXFFiEVD0klEdu5BdFtTyO+9xVAc6Bk1gKUzr8C3vq50Bx8gySyo53d2aLq1/sMtEeB+krghqk6Pj1Fx3gfW4BkLsvvImxtbUVdXd1QhiKbCYVCaGhowJ49e+D3f/DKVCbYjegrzyL60tNIdRyE7qtE6dzLUDr/CrjrJp+ZCVNeyCU3VDyOxgS/6dtXtb0LqPIAnzpLxw3TNJxfPbijFZgdUtHW1oZAIGBdgcUWIeUqnU5j27ZtmDdv3qCX60UEqbb9iL60AdFXn4UR7oWrdjJK5y9B6dzL4PCPGOZZk9VUckOFKZ4WPHo4u1r15xaBrgFX9R2t8JFxGtw5Hq3A7JAKtgjJdiSTRnzPNkRf2oDYrq2AGPA2zEPpvCUombUAmtNt9RSJKEcigs1HskcrPPiOgd4ksGC0hhumavibyTqqvGwB0plleYuwpaUFgUBgKEORzQSDQQQCAbS2tg65OM9Egoht/wsiL21A6vCb0Ep9KD03++Bp94TpPJm5iJiZG8of7wQFv3zbwC/3GdgfBMb7gM9OyT6yZnqlOX9/mR1S0drainHjxllXYHV3d2PECLZnaPAymQz27t2L+vp6OBwO08ZNdR4+dWp873E4RweydyGevxjOEaNM+zpkjeHKDZ15vUnBuneyLcDnOwU+F9A0KdsCvLhGg27yD0bMDqk4ceIERo4cyRYh0UliZJB4+zVEX3oasdc3Q9JJeKaek20hnr0Iusdr9RSJbCdtCJ5qzRZV6w8JUgawpFbDjdN0rJioodTJ1WbKL2wRUsE5k8W5EY8gtuMFRLZtQHL/G9A8JSiZfQFK5lwEb/153K9VQPhDXWHa0SV44C0Dv9lv4EgMmDkCuHGqjuun6KgrOzNFFbNDKixvEZ44cQKVlZVDGYpsxjAMtLe3o7a2FvoZfCxO+ngHoi9vRHT7c0gfOQzNW4qSWQtRMudiFlsFwKrcUO72BwXr3jHw2/0GXu8GRnmBT0/RccNUHXOqcMb3RjI7pKKnpwcjRoywrsDq6elBRUXFUIYimxERhEIh+P1+yzahpzoOIrrjecReex7pztOLrYvgnT4XmovFVr7Jh9zQwN7uzRZV6w4Y2NEFlDiAqyZk91UtDWhw6dZ9z5gdUtHb24vKykq2CKlw5Nty/V8VW55SlMxmsZVv8i03BLzVI1h3wMC6dwy81g2UOoErx2tompQ9r6rMlR/FDLNDKixvEXIFi3KVzz9NpjoPIbbjeUR3PMdiK8/kc27s5M2eUytVr3cDZSeLqsnZoiofN6szO6RCdQXLtKNsh1inkQ2JCILBIHw+X9692bnGToBr+QSUL//MacXW84i+/Ey22Jq1ACXnXsxiywL5nJtit/e0ouqNvqLqqgkaVp+nY3meFlWnY3ZIhWp9wxYhWaYQl+tPL7bSnYdOFVtzLs4+gJrF1rArxNwUst0nThVVu04APhdw9XgNKydli6qSPC+qTsfskArLW4QMLNlNqvPwaW1EFltUPHZ1n9pTtbsH8LuAqydk91QtC2jwFlBRRTRUlp+DxZPcKVfFdKry+xVb3lkLUMpiy3TFlJt8ISLYdQL9RdWeHqD8ZFE1WcfSuuIoqpgdUmH5Se5sEVKuivW5YP3F1mvPI91x8FSxdc5F8Dacz2JriIo1N2eaiGDnCfS3//b2FVXXnCyqAho8jsIvqk7H7JAKtgiJ8hCLLconIoLXu7NF1cMHDLzZC1S4gRUTsnuqrijCoopoqCxvEXZ1dWHkyJFDGYpsJp1OY9u2bZg3bx6cTtNuaM1bqSMtiO14LrtBvuMgNE8JvLMWstjKkd1yM1Qigtf6iqp17xh4OwhUuoEVE7N7qpbUaXDbpKhidkhFd3c3qqqqrCuwWltbUVdXN5ShyGZCoRAaGhqwZ88e+P1+q6dzRp0stmI7nkeqo6/Ymnnani23x+op5i0752awRAQ7uk7tqdoXBEZ4sitVTZN1LK61T1F1OmaHVLS1tSEQCLBFSFRoBi62LoK3/nwWWzQoIoLtXaf2VO0PAiNPK6out2lRRTRUbBFSwUmn09i4cSMWL17M5fo+qSMtiL32PGLbn2OxNQDm5hQRwSvHBeveETx8wMA7IaDKA3x8YnZP1eV11j77L98wO6TC8hZhW1sbamtrhzIU2Uw4HMaCBQuwdetW+Hw+q6eTd/qLrR3PI9V+IFtszZiP0nMvtnWxZffciAhePq2oOtBXVF07Kbun6tJaFlUDsXt2SE17ezvq6urYIiQqRiy27E1EsO2YYN0BwcPvGDgYBqq9wLUTdTRN1nBpjQYniyqiYWF5i/D48eOoqqoaylBkM6lUCuvXr8eKFSvgcrmsnk7BSB1tRWzH84jteO7dxdaci+BtmFf0xZZdciMieOnYqZWqQ2Fg1GlF1SUsqnJml+yQubq6ulBdXW1dgdXe3o6ampqhDEU2E4lEsGTJEmzYsAFlZWVWT6cgnSq2nkeq/R1obu+pPVtFWmwVc25EBFuP9q1UHTBwOAyMLgGum6hj5SQNF7OoGpJizg4Nn46ODtTW1rJFSGRXAxVbJbMvgLfhfOgl/AclH2UMwda+larfHzDQEgHGlADXTdLRNEnDRWM1OFhUEVnG8hbhsWPHUF1dPZShyGaSySQeeOAB3HDDDXC7ecimmVJHWxF77YVssdW2H9Ad8EyZDe/MhSiZuQDO6sJdbS6G3IRTgqdaBY8eNvD4YcGxODD2ZFE1WcOiMSyqhkMxZIfOvOPHj2PUqFFsEVLhiEQiuPbaa/HII49wuX4YpU8cRXzXVsR2bkHi7deBTArOsRNQMmshvLMWwj1+OjRdt3qag1aouTkcFjx6yMCjhwXPtguSBtBQCVw1XsdVEzQ0jmZRNdwKNTtkLbYIiehDGfEo4m++ivjOLYjvfglGJAjdVwnvjPkombUQnunnQfd4rZ5mUTD67vx79FB2per1bsCpARfXaLhqvIarJug4q5wFFVG+s7xFePToUYwaNWooQ5HNJBIJ/PCHP8QXvvAFeDzFtxk734mRQfLgXsR2bkF811akjxwGnC54p83pbyU6KvOv7Z/PuYmkBE+3ZVeqHm8RHIllH1Hz0XEarhqvY/k4DRVuFlVWyefsUP46duwYRo8enXOBZdpRtplMxqyhyCYymQyam5tx2223WT0VW9J0BzyTZ8IzeSZw9U1IH2tHbNcWxHduQc/vf4iedffBNW4qSmYugHfWQrjqzoKmWV8c5FtuWsOCxw5nW38b2wWJDDC9AvjsVB1XjddwwRje+Zcv8i07VBhU6xu2CInorxjREOJ7Xs6ubu15GRKPwFFZDe+MbLHlnXoONJc9NwkbInj1uODRw9mVqu1dgEMDLhp7qvU3tYIFFVGxYIuQCk4ikcB3vvMd3HnnnVyuz2OSSSOxfyfiO7cgtmsLMl2d0NxeeOrPQ8nMhfDOnA+Hr/KMzceK3ETTgo1t2b1Ujx0WdESBSjfwkdNafyM8LKryHd9zSIXlLULDMMwaimzCMAy0trYyO3lOcziz+7KmzUHFxz+HdOchxHZtRXznFpz43X8CANwTG7Jnbs1cAOfYCcPaSjxTuWmPCB47nC2qNrQJ4hlgajnwqbOyrb8Lx/KZf4WG7zmkQjUvbBESkbJMqAfx3S8htmsLEntfgSQTcFTVZI+AmLkAnrNmQXOY9nPcsBIRbO9C/1EKrxwX6Bpw4Zhs6+/qCTqmV7KgIrIby1uER44cwejRo4cyFNlMPB7Hv/7rv+Lb3/42vF4eDVDoJJVE/O3XskdA7NqKTO9xaN4yeBvOzxZcDedDL/UP+euYmZtYWvBMe/YohcdaDLRFgHIXsLyv9feRcRqqvCyqigXfc0jF0aNHMWbMGOtahERkb5rLjZIZ81AyYx5EvohU677+A067f/n/AboOz1mzs63EWQvhrK61ZJ6dUcHjhwV/7Gv9RdPAZD+wclK29XfRWA1uB4sqIhoatgiJaNile44hvuslxHdtQfytHUA6BeeY8f2tRPfEemi6Y1i+tojg9e5Trb+XjmVbf42jT93111CJvDiCgojyz5BbhLfffjv++Mc/4tChQ9i+fTvmzJmT0xfu7OzEmDFj1GZPthSLxfClL30J9913H0pKSqyeDp0hRiKGxJvbs0dA7N4KI9wLvawC3hnzsqfJ18+F7hk4D4PJTTwt2NRx6iiFlgjgdwHLAtnW30fHa6hm6892+J5DKo4cOYKxY8eqtwhXrlyJr371q1i0aJHSBPQCepYZ5Qdd1xEIBJgdm9E9JSg5+wKUnH1B9jT5Q2/2txKj2zYADhc8U89ByawF8M5cCOeIdx//MlBujsayrb9HDxt4qlUQSQMTfcCKidnW3yU1bP3ZHd9zSIVqXv6qRThx4kSsX78+5xUstgiJaKjSxzuyR0Ds2oLEvjcAIwNX3VnwzlqIkpnz4QpM7X8wtYhg54lTrb+tR7NvZQtOa/3NGsHWHxENjWqdk3NZlkgkEAwG3/ULALq7uwFk79KIx+MAssuxiUQCABCNRvtfRyIRJJPJ/tepVAoAEA6HkU6nAQChUKj/dTAY7D+qPhgMwjAMiAiCwSBEBIZh9M8jk8n0v06n0wiFQv2vw+EwACCVSiESiQAAkslk/+tEIoFoNNr/OhaL8ZqG8Zo6OzvR1NSEYDBYNNdUjN+nM3lNGf9I+C9ZgdIb/zeqV/8SI2+4E1p1LcLPrcfRNV9G29c/idd++E188V++i7n/3YGzf5/Gt3cYqHalsXaRhs7POPHkZVH8yzkaZo3IXrfV11SM36dCvabu7m5ce+21iEajRXNNxfh9yrdrOnr0KJTIe0yYMEG2b9/+3t/ut3r1agHwV7+uv/56ERG544475I477hARkZtuuklWr14tIiIrV66Ue++9V0REli5dKmvXrhURkYULF8pDDz0kIiIzZsyQJ554QkRE6urqZPPmzSIi4vf7ZefOndK32iYtLS3S29srAKS3t1daWlrk5KXs3LlT/H6/iIhs3rxZ6urqRETkiSeekBkzZoiIyEMPPSQLFy4UEZG1a9fK0qVLRUTk3nvvlZUrV/Zf50033cRrGuZruvfee2XTpk1FdU3F+H2y8prOXXy1fP4Xm+Wff7ddvnrXj+Sx//UFOfTl5dLy5WXyxtf/Vo4/8mNZOj0gO3dsL5hrKsbvUyFc0+233y4XX3yxxOPxormmYvw+5ds11dTU9H9cLnIusOLxuPT29vb/Ojmpzs5OERGJxWISi8VERCQajUo8HhcRkUgk0v86HA5LIpHof51MJkVEJBQKSSqVEhGRYDDY/7q3t1fS6XT/60wmI4ZhSG9vrxiGIZlMpv/C0+l0/+tUKiXBYLD/dSgUEhGRZDIp4XBYREQSiUT/63g8LpFIpP91NBrlNfGaeE1n+JrCSUN+/2ZEvvh8QhoeSgp+khR9bVIWrE/J/26OystHkpIKnpDjL/xZjv/qu9L2b9dLy5eXScs/XiVH7/9XOfrnX0u87Z3+68iHayrG7xOviddkl2tqbW1VKrBM24PV3t6OmpqaXBbPyOYikQiuvfZaPPLIIygrK7N6OmQRQwSvdQFPtRp4slXw4hFB0gDGlWXv+lsa0LG4VsPIvrv+3psbEUG68xDie19BfO8rSLyzE0gl4aishmf6efBOnwvP9HPhKOMeUbvjew6p6OjoQG1trfpdhJ/73Ofw+OOPo7OzE8uWLYPf78e+ffsGPZDL5cptxmR7LpcLTU1NzI4NdUQFT7UKnmo18HSb4FgcKHUCl9VouGeBjqUBHdMq3n+D+ntzo2kaXDUT4aqZCP9l10GSCSTe2dlfcEW3PgVoGlzjpsJbPxfe+rlwT6gvmEf4kHn4nkMqVPPCg0aJaNjF0oLnO/uKqjYDb2TvicHcag1LAxqW1mloHKPBMwzHKGR6jiP+5qvZ1a03X4URDUHzlsIzdQ6808+Dt34unNVcfSei92f5swjZIqRcRSIRLFmyBBs2bOByfZGRviMUnmrNnkn1XKcgngFqS9FXUOlYUqdhVEnuBdVQciNGJvsIn73Zgit5cA9gZOCsroWnPltseaacA91bmvO8KP/xPYdUDLlFOFRut9usocgm3G43Vq1axewUiaMxwYY2wZN9bb+OKOB1AJfUaPjW+TqWBXTMMOFcqqHkRtMdcI+fDvf46Shf+ikY8QgSb7+ebSfueQWRFx4DdAfck2Zk24nTz4MrMKX/7C0qbHzPIRWqeWGLkIiUJDKCFzsFT7Vl91Jt78r+/jkjgaUBHUsDGhaN0eB1Fs5Bn+nj7X17t15F4u3XIIko9LIKeKaf299OdFRUWT1NIjqDLG8RtrW1oba2dihDkc2Ew2EsWLAAW7duhc/ns3o69CFEBHt7gKfasm2/TR2CaBoYXQIsrcve7bekTkNN6fAWVGcqN5JJI3lwT/9m+VTrPkAErpqJ8PRtlvdMngXNxdWQQsH3HFLR3t6Ouro66wqsrq4ujBw5cihDkc2k02ls3LgRixcvhtPJO7ryUVdcsLFN+ouqlgjg1oGLxvZtTg/oOHskoJ/Bx9FYlZtMuBeJt7ZnC643X4XR2wW43PCcNbu/negcO4GP5sljfM8hFd3d3aiqqrKuwGKLkKjwpQzBliOCJ1uzrb+XjwkEwIxKYFlf2+/iGg2lBdT2Gw4Dnr1V0Xf2Vj3P3iIqFpa3CFtbW1FXVzeUochmQqEQGhoasGfPHvj9fqunY0sign3Bvrv92gTPtAvCKaDKA1zRd7ffFXUaAr78KajyMTfvPXsr3Xno3WdvTZ8L90SevWW1fMwO5b+2tjYEAgG2CKlwpNNpbNu2DfPmzeNy/RnUk8gWUifPpDoQApwacOFYrW8vlYbzqrUz2vbLRSHkhmdv5adCyA7lH7YIieh9pQ3BtmPZgurJVsHWYwJDgGkVfW2/Og2X1Gjwu/OzoCp0A5295aiu6T9ZnmdvEeUvy1uELS0tCAQCQxmKbNnuf7sAABp9SURBVCYYDCIQCKC1tZXFuYkMEew6AWxqN/BsR3a1qjcJVLqBJX13+11Rp2GivzALqkLPzbvO3tr7CjJdHdmztyZMh2fK2fBMORvuiTOge7xWT7XoFHp2yBqtra0YN26cdQVWd3c3RowYMZShyGYymQz27t2L+vp6OBwOq6dTsAwR7OwGNnUY+EuH4C8dgq4E4NKBBaO0vr1UGs4fpcGpF2ZRdbpiy0327K1Xkdj3OhL7XocR7mHBNUyKLTt0Zpw4cQIjR45ki5Co2J1eUG3qK6i6E9njExaO1nBprYZLxmpYOIZ3+xUaEUH6SAsS+147reDqZcFFZCG2CKngsDgfHEMEb5wsqNqzz/V7b0F1aY2GhaM1lNigoLJTbrIF1+H+Yqu/4HI44R4/jQVXjuyUHTKP5S3CEydOoLKycihDkc0YhoH29nbU1tZC57Pe+r23oPpLp+BEX0HVOCZbTF1ao2GBTQqq97JzbgZdcE2aAd3Nguu97JwdUtfT04MRI0ZYV2D19PSgoqJiKEORzYgIQqEQ/H6/rU+/NkTwend2U/qmjuwK1YkE4HEAjaOzd/jZuaB6L+bmFBZcuWF2SEVvby8qKyvZIqTCYdfl+ozRV1D1bUp/b0F1aU227bdgVGE9KPlMsWtuBuPkCfOnCq43YET6Cq537eFqsGXBxeyQCstbhFzBolzZ5afJ0wuqTR2C5zoEPclsQXXBaXuo5rOgGhS75MYMLLjejdkhFaorWKYdZTvEOo1sSEQQDAbh8/mK6s0uYwhee0/LrzcJePtWqO6YrbOgGoJizc1w0DQNrpqJcNVMhO+iqyGG8a6WYuTFPyH01G9tU3AxO6RCtb5hi5AsUyzL9RlDsKPr3S2/kwXVBadtSp8/WoPHwTf1oSqW3OSD9xZciX2vw4gE31NwnQPPxAZobo/V0x0yZodUWN4iZGDJLk4vqDZ1CJ4/raC6sK+guoQFFRWggQsu17tWuIql4CIaDMvPweJJ7pSrQjlVOW0IdnQJNnUINrVnC6pgCig5fYWqVsO8USyozoRCyU0xKLaCi9khFZaf5M4WIeUqX58L9kEF1YVjT7X85o3S4GZBdcbla27sQAzj3Zvm979RUAUXs0Mq2CIkUpQ2BNu7ssXUyZZfKAWUOrMtv0tYUBG9rw8suCbWnyq4JtTnZcFFNBiWtwi7urowcuTIoQxFNpNOp7Ft2zbMmzcPTqdpN7R+qGQmW1A91/H+BdXJlt/51Syo8pFVuaEP91cF177XYURD2U3zgSlwT2yAe1IDPBNnwFFZfcbnx+yQiu7ublRVVVlXYLW2tqKurm4oQ5HNhEIhNDQ0YM+ePfD7/cP2dTqiguYjguajgs1HBK8cFyQy2YJq0ZhT51DNZUFVEM5UbmjoxDCQ6jyI5P6dSBzcg+SB3ch0HwEAOEaMhntiAzyTZsA9aQZctZOgOYa36GF2SEVbWxsCgQBbhGRvKUPwWte7C6pD4eyfjSvLbkpvHKOhcbSGOVUsqIjOtExvF5IH9/QXXMmWfUAmBc3lgWv8tP6Cyz2xAY4y/ptC1mOLkApOOp3Gxo0bsXjxYuXl+mOxU4VU8xHBtmOCWCb7YOTzqrOF1Mmiqq6MxVQxMCM3lD8knUSyZR+SfQVX4uBuGMETAADn6EBfW3EGPBMb4BwzHtoQHtLM7JAKy1uEbW1tqK2tHcpQZDPhcBgLFizA1q1b4fP5PvTj04Zg5wmg+YiB5iOCzUcF+4PZP6sp7VudGp0tps6r4inpxSrX3FBhERFkuo9kV7kO7Eby4G6k2g4AYkDzlmXbin17udwT6qF7Swc9NrNDKtrb21FXV8cWIRWP7rhgy8nVqaOCl44JwinAqQFzqrR3tfvG+8BHXxAVKSMRQ/LQm0ge3N3fXpRoGNB0uGomZluKJzfPV43lewGZyvIW4fHjx1FVVTWUochmUqkU1q9fjxUrVsDhdGL3CfS1+7IrVG/2Zj9udEn2GX4n231zR2ko5eqUbZ2eG5fLZfV0yAJiGEgfbUXy4O6+Va69SB85DADQfZXZluKkBrgnzoB73FRoLjfw/9q719iozvQO4P8zVw+2x3h8vwZjbAgXG3CyBNTm1tUm3WoVBYWQrNIg0aqNSKJqUaIoaVeL9sPuB7RUq+xulChSFJSqzbqg3SpSNy2bqCXCIRsSDCGw9mLABht8xWOPZ+acOefth3c8trmkM+8cMzOe/0+KEDPD8XH46/D4fd7zHDA7pGZsbAzl5eWZe9izrut2HYrywKQu8D/9Bn7w8QTeLLDw+XgMkzrg0IC2APAXdQ780ya5QrWymKtTNEfXdRw4cADf/e53+Y9kntIcDrirG+GubkThfY8CAKzQFKKX4hvnL55F8Hf/AqFHFoyIELXNeOf1f2Z2KCWq9Q1bhLToLCHQMwm5b+qaha5hga8nAAEg4EVi39S2KjnMs8jNYoqI0iNME8bQhfjG+VuMiIhvnL9TIyIod2W8RTgyMoLy8js/OI6yz5Qu90vNjkroGhaYiAIagHWlwLYqB7ZWaegojeHT3xzErl3PwuPxZPq0KUfouo6DBw/i2WeZG0pNePQqjrz7JrY1VcHs/+PciAiPF57G1YnxEBwRQfONjo6ioqIicy1CwzDsOhTlECHknXxzoxIsnJ4ALAGUeID7KjX8wzoHtlVp+FalhhLP3OpUKGTgpX/vxPe//zT/oaSkGYaBzs5OPP00c0OpsXzF+MV/HcPDhw+jsLAQwtChX54bERH69ENM/fe/AZgdERHfy9W0Fq7KhrRGRFDuUq1v2CKklMzE5Kwp2e6Td/mNROR7dy+fbffJgmrNcsDBvVNElCMSIyJm24rzR0T4iuC5a02i4PI0rk5pRATlroy3CIeHh1FRUZHOoSjLCCGnoM8O8ewaFjg5JmAKoMgNbKmYG5WwpUJDoCC1YioajeKXv/wlnn/+eXi9fBAsJYe5IVUq2blpRMSFsxDh+IiI2iY5j2sFR0QsZSMjI6isrMxci9A0TbsORRkSicnn9M2fjH41LN9r8QNbqzT87WoHtlU5sK4UcDrSu5CYpomuri4899xzNpw95QvmhlSpZMfh9aGgdSMKWjcCuHlERLSnG6FPPpCfLS5NzOPyrLgbnvpV0Dz8ISDXqdY3bBHmscvTc0M8u4YFvhgVMCz5EOR7Z1enKjXcV6mhwsefyoiIbuXGERH6pT/KEREOB9zVd8Hd0AJPQys8jS3yjkUX9w7mEtU6x7YVrGg0atehaBFMROXq1IkRgc9H5d6pyyH5XlOx3Dv1zCq5OtUWAFxprk4lIxqN4qc//SleffVVtnooacwNqVqs7DgKi+Fb+y341n4LwLwREQO9MPp7oA/0YOYPvwcsE3C6ZGuxoQWehha4G1rhrrmLYyKymGp9Y9vfqGVZdh2K0nQ9KlejPh+VRdXnIwJ9U/K9IjewuUzD082OxPyp6mWZWZ2yLAuXL19mdiglzA2pulPZ0ZxOOdy0fhWw9S8BAMLQYQxegD7QA72/V9612PU7QFiAyw1PXXN8pasFnsZWedei07mo50nJUc0LW4Q5LqjfXEz9Kf4A5EIXsLlcQ0e5hnsq5K+tJbyzj4goG1h6BMaVPuj9PTAGeqEP9CI2PAAIAc3jhbuuGZ6GVrgbZYvRVVHHUREZkPEWYSQSYYG1yIK6wJdjc22+E6NyQjog901tKtPwV40OWVDFi6l0N6Ivpkgkgtdeew0/+clPUFBQkOnToRzB3JCqbMuOw1MAb9NaeJvWJl6zIjMwrpyH3t8DfaAXka8/w/T//gYAoHmXwV3fDE9ja7zF2ApneQ3vXFxkkUhE6c+x6Zulpg2BL29YmeqZlI+X8TmBTeUaHql34B83ypWpNcuzu5giIqL/n6NgGbzNG+Bt3pB4zZqZkgNR+3thDPQg3P0Jpj8+BAByPlfDKrnSFW8xOgNVLLqyAFuEWSBkxFem4oXUiVGBc9dlMVXgBDaWyRWpjgr565rld2YTOhERZSdzejLRVtQHZOFlXh8FADgK/XP7ueItRmdJOYsuRRkfNHr16lVUVVWlc6i8MBOTwzrnt/nOXpePlvE6gfbA3H6pe8o1rC1dusVUOBzGiy++iNdffx0+ny/Tp0M5grkhVUs9O2ZwPF5sxQuv/h5YUxMA4jO64hvoEytd/kCGzzg3XLt2DdXV1Znbg+XgxrubhGMC3WML23xfx4spjwNoL9Pw59UO/GC9XJ1aVwq4l2gxdSsOhwP19fXMDqWEuSFVSz07Tn8AvnVb4Fu3BYB8Goc1ORZf5eqB3t+D6aP/ASsk74RyLi+Hu6F13siIFjiLSjL5LWQl1bywRWiTSEzg1LgspmbbfGcmAFMAbgfQFljY5ltXCnic+VNMERFR5iWet5hY6ZJjI0REDkZ0BqoS87k8jS3w1K+CY1lxhs86szLeIhwaGkJ1dXU6h8oZUVMWU/PbfF+NAzEBuDRgQwDz2nwOrA8AXhZTN5mZmcGuXbvw7rvvYtkyPjSVksPckCpm59aEEDBHh2SxFW8tGpf/BBGVz0pzldfKtmL87kV3/aq8etD11atXUVNTk7kWoXOJDkTTTYHT48Dno1aizffVBGBYsphaHwA6yjX8/Rq5OrWhVEOBi8VUMpxOJ7Zu3bpks0OLg7khVczOrWmaBldFLVwVtVi2+UEA8WcujlyBPtADo1+udAW/+hTCiAKaBldFvXz0T0MrPPWr4K5tgsNXmNlvZJGo5oUtwnlChsBXEwLdY0gM7zw1Lp/P59SAdaVY0OZrC7CYIiKi/CBME7Fr/fP2dPXCuNIHmAYA2V50166Eu24lPLVNcNethDNQnfPDUTPeIhwcHERNTU06h7pjhBAYCAGnxgS6x+VG9O5xgd74nCmHBqxdLtt898QnobeXafCxmLJVKBTC9u3bcfjwYRQWLs2ffMh+zA2pYnbsJ2IGjGsDMK70wRi6IH8d7IM1Ladga14f3LVNcNfIgstd2yRXu7y5cxfn0NAQamtrM9cidLvddh3KVuGYwNcTWFBInRoXmIg/u3G5R97N92i9A6+0a2gPyNEILKYWn9vtxo4dO7I2O5SdmBtSxezYT3O54albCU/dysRrQghYwXH57MV4wRXtO43Qp/8JWJZsMZbVzBVcdSvhrmnK2gGpqnlZMi1CIQQGZ4BT8wqp7jE5/dwUgAagpUTOmWovk4VUW5mGhkJk5V8oERHRUiIMHcbVSzAG51a69ME+iJlpAIBWUJgouGZbjO7qFdA83oyed161CKOmHM7ZPbawmBqLr0r53XIsQnuZ/K8tAKwv1VDoZiGVTUKhEL797W/jyJEjXK6npDE3pIrZyT5CCJjXR2EM9i0ovGIjVwAhAM0BV0Xdgvaiu27lHZ1Mn/EWocfjsetQC1ybWbhPqntMPkYmFi8Lm/1yVerFdY7EytSKYq5K5QKPx4O9e/cuWnZoaWJuSBWzk300TYOrtAKu0orEgFQAsPQIYkOXoA/2JYquyNk/QERmAACOZcXxomtem7G6EZrL/r9b1bxkTYvQsGThNL+QOjUucE2O4UCha25Vqi0g901tKNVQ7GEhRUREtNTNDkm9scVojg7JDzgccFU2xFuMc4VXuo8EUq1zbFvBmp6eTvoLj0bEgvbeqXG5EV235PsrioC2Mg1/t2ZuVWqlH3BwVWpJmZ6expYtW3D8+HEUFRVl+nQoRzA3pIrZyW2apsFVVg1XWTV8G7YmXrciMzCGLi4ovIKnuyD0CADAUbT8phaju7IBmiu5zevT09NK52tbgVVQUHDTazFLbjKfX0h1j8nN6ADgcwLr44+Q+ZvVcxvPS7gqlRcKCgpw4MCBW2aH6HaYG1LF7CxNjoJl8DathbdpbeI1YVkwx67OazFeQLj7E0x/fEh+wOmCu6px4Z2MtU1wFi2/6fiqebGtRXhx+DouGMWykBoT6B4HzkwIREz5ufrChXfwtZdpWOUHnHn0cGMiIiLKHCsckitd8cJLH+xDbOiSnFAPwOEPwF0rx07MFl4zXj+WBwKZaxGu+NcY4DPhdcqJ5+0BDX/d4pCrUgENgQIWUrTQ1NQU7r77bpw9exbFxfn9MFFKHnNDqpgdcvgK4W1eD2/z+sRrwjIRGxlcUHjNnPgI5u9HAQBTptrXsq3AeuvPgG0rXFi9HHBxVYqS4PP50NnZCZ8vdyb6UuYxN6SK2aFb0RxOuKsa4K5qADbdn3jdDAVhDF6AOHcK+MWHqR83W+4iJCIiIso2qnWObU9gDAaDdh2K8kQwGITf72d2KCXMDalidkiFal5sK7A4FZdSVVhYiK6uLmaHUsLckCpmh1So5oUtQiIiIqLbYIuQck4wGISmacwOpYS5IVXMDqnIeIuQU3EpVUVFRRgYGGB2KCXMDalidkiFal5sK7D4cGVKlaZp8Pv9zA6lhLkhVcwOqVDNi20F1tTUlF2HojwxNTWFkpISZodSwtyQKmaHVKjmxbYCi1NxKVXFxcWYnJxkdiglzA2pYnZIhWpebCuw0rwZkfKQEALBYJDZoZQwN6SK2SEVqnmxrcCanp6261CUJ6anp9HQ0MDsUEqYG1LF7JAK1bzY9ixCzsCiVPn9fv4kSSljbkgVs0MqVOsb21awTFPxcdOUt0zTxJkzZ5gdSglzQ6qYHVKhmhfbCqxQKGTXoShPhEIhbN26ldmhlDA3pIrZIRWqeWGLkDKGD10lFcwNqWJ2SEXGW4SxWMyuQ1GeiMVi6OrqYnYoJcwNqWJ2SIVqXmwrsMLhsF2HojwRDoexY8cOZodSwtyQKmaHVKjmRRNp3lKh+pRpIiIiomynWuewRUgZE4vF8OGHHzI7lBLmhlQxO6Qi4y3CSCRi16EoT0QiEezdu5fZoZQwN6SK2SEVqnlhi5CIiIjoNjLeIjQMw65DUZ4wDAOdnZ3MDqWEuSFVzA6pUM2LbQWWrut2HYryhK7rOHDgALNDKWFuSBWzQypU88IWIREREdFtZLxFyJ8IKFW6ruPtt99mdiglzA2pYnZIhWpeuAeLMob7IUgFc0OqmB1SoZoXtgiJiIiIbiPjLcJoNGrXoShPRKNRHDhwgNmhlDA3pIrZIRWqebGtwDJN065DUZ4wTRNdXV3MDqWEuSFVzA6pUM0LW4REREREt8EWIeWcaDSKffv2MTuUEuaGVDE7pCLjLULLsuw6FOUJy7Jw+fJlZodSwtyQKmaHVKjmhS1CIiIiotvIeIuQTyenVPHJ9qSCuSFVzA6pUM2LbQUWEREREUlsERIRERHdhmqd40r3C8/WZ8PDw+keivJMOBzGyy+/jP3798Pn82X6dChHMDekitkhFbP1TarrUWmvYPX19aG5uTmdQxARERFltfPnz2PlypVJfz7tFaxAIAAA6O/vR0lJSbqHozwSDAbR0NCAgYEBtpcpacwNqWJ2SMXk5CQaGxsT9U6y0i6wHA65T76kpISBJSV+v5/ZoZQxN6SK2SEVs/VO0p9fpPMgIiIiylsssIiIiIhs5ty3b9++tA/idOLBBx+Ey5V2x5HyDLNDKpgbUsXskAqV3KR9FyERERERLcQWIREREZHNWGARERER2YwFFhEREZHNvrHA6u3txbZt29Da2op7770XZ86cueXnLl68CKfTiY0bNyb+O3/+fOL948ePo729Ha2trXj44Ydx5coVe78LyjrJZuf06dO4//77sWbNGqxfvx67d+9GOBxOvK9pGjZs2JDI1dGjR+/Ut0B3WLKZ+eCDD7BmzRq0tLRg+/btCAaDifd4rclPyWSH1xq6UTK5Sau+Ed/goYceEu+8844QQojOzk5xzz333PJzFy5cECUlJbd8zzRN0dzcLD766CMhhBD79+8XTzzxxDd9WVoCks1OT0+P6O7uFkIIEYvFxJNPPil+9KMfJd4HICYmJhb7dCkLJJOZqakpUVlZKc6ePSuEEOL5558XL730khCC15p8lkx2eK2hGyWTm3Tqm9sWWNeuXRPFxcXCMAwhhBCWZYmqqirR29ub0gl89tlnYvXq1YnfB4NB4fV6RTgcvt2XphyXSnZutH//frFr167E73nRyw/JZubXv/61eOSRRxK/P3PmjKirqxNC8FqTr1SvN7zW5Ldkc5NOfXPbFuHAwABqamoSMx80TUNjYyP6+/tv+flQKISOjg5s3rwZP/7xj2GaJgD5jMK77ror8bni4mL4/X4MDg4mv45HOSXV7MwKhUJ4++238dhjjy14/aGHHkJ7ezv27t2LUCi0aOdNmZNsZm68nqxYsQJDQ0OIxWK81uQplesNrzWUSm5U6xtbNrnX1NTgypUrOHHiBI4cOYKjR4/iZz/7mR2Hpjyh6zp27tyJ73znO3j88ccTr1+6dAlffvkljh07hpGREbz88ssZPEsiynW81lAq0qlvFhRYBw8eTGziOnLkSOInQwAQQqC/vx+NjY03HcTr9aKyshIAEAgEsHv37sQGwcbGRly6dCnx2ampKUxOTqK2tlbtu6WspJodADAMAzt37kRNTQ1+/vOfL3hv9s8UFhZiz5493Hi6RDU0NCSVmRuvJxcvXkz8FMprTX5KNjsArzU0J9ncpFPfLCiwnn32WZw8eRInT57EK6+8gs2bN+O9994DABw6dAj19fVYtWrVTSc6PDwMwzAAANFoFIcPH8amTZsAAB0dHTAMAx9//DEA4M0338T3vvc9FBQUpPm/h7KJanZisRieeuopBAIBvPXWW9A0LfHexMQEZmZmAACWZeH9999P5IqWlsrKyqQy8+ijj+KLL77AuXPnAAC/+tWv8NRTTwHgtSZfJZsdXmtovmRzk1Z9802bwM6dOyfuu+8+0dLSIjo6OsSpU6cS7/3whz8Ub7zxhhBCiEOHDol169aJtrY2sXbtWvHCCy+ISCSS+OyxY8fEhg0bREtLi3jggQdEf39/ktvQKFclm5333ntPABBtbW2ivb1dtLe3iz179ggh5nIzm6tnnnlGjI2NZeT7ocV3u8zMz4sQQvz2t78Vq1evFs3NzeKxxx4T169fT7zHa01+SiY7vNbQjZLJTTr1DZ9FSERERGQzTnInIiIistn/AeuzYLGD+s1PAAAAAElFTkSuQmCC\" />"
      ]
     },
     "execution_count": 118,
     "metadata": {},
     "output_type": "execute_result"
    }
   ],
   "source": [
    "xlims!(-0.5, 0.5)"
   ]
  },
  {
   "cell_type": "code",
   "execution_count": 119,
   "metadata": {},
   "outputs": [
    {
     "data": {
      "text/html": [
       "<img src=\"data:image/png;base64,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\" />"
      ]
     },
     "execution_count": 119,
     "metadata": {},
     "output_type": "execute_result"
    }
   ],
   "source": [
    "ylims!(0.5, 1.5)"
   ]
  },
  {
   "cell_type": "code",
   "execution_count": 120,
   "metadata": {},
   "outputs": [
    {
     "data": {
      "text/html": [
       "<img src=\"data:image/png;base64,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\" />"
      ]
     },
     "execution_count": 120,
     "metadata": {},
     "output_type": "execute_result"
    }
   ],
   "source": [
    "t = linspace(-2, 3, 200)\n",
    "x = cos.(t*pi*2) .* exp.(t)\n",
    "y = sin.(t*pi*2) .* exp.(t)\n",
    "plot(x, y)"
   ]
  },
  {
   "cell_type": "code",
   "execution_count": 121,
   "metadata": {},
   "outputs": [
    {
     "data": {
      "text/html": [
       "<img src=\"data:image/png;base64,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\" />"
      ]
     },
     "execution_count": 121,
     "metadata": {},
     "output_type": "execute_result"
    }
   ],
   "source": [
    "plot(sin, 0, 2pi, label=\"sin\")\n",
    "plot!(cos, 0, 2pi, label=\"cos\", c=:green)\n",
    "plot!(x->1, 0, 2pi, c=:red, l=:dash, label=\"\")\n",
    "plot!(x->-1, 0, 2pi, c=:red, l=:dash, label=\"\")\n",
    "ylims!(-1.2, 1.2)"
   ]
  },
  {
   "cell_type": "code",
   "execution_count": 122,
   "metadata": {},
   "outputs": [
    {
     "data": {
      "text/html": [
       "<img src=\"data:image/png;base64,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\" />"
      ]
     },
     "execution_count": 122,
     "metadata": {},
     "output_type": "execute_result"
    }
   ],
   "source": [
    "xticks!(0:pi/2:2pi)"
   ]
  },
  {
   "cell_type": "code",
   "execution_count": 123,
   "metadata": {},
   "outputs": [
    {
     "data": {
      "text/html": [
       "<img src=\"data:image/png;base64,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\" />"
      ]
     },
     "execution_count": 123,
     "metadata": {},
     "output_type": "execute_result"
    }
   ],
   "source": [
    "xticks!(0:pi/2:2pi, [\"0\", \"\\\\pi /2\", \"\\\\pi\", \"3\\\\pi/2\", \"2\\\\pi\"])"
   ]
  },
  {
   "cell_type": "code",
   "execution_count": 124,
   "metadata": {},
   "outputs": [
    {
     "name": "stderr",
     "output_type": "stream",
     "text": [
      "\u001b[1m\u001b[36mINFO: \u001b[39m\u001b[22m\u001b[36mSaved animation to /home/abel/disciplinas/cm103/material/exemplo.gif\n",
      "\u001b[39m"
     ]
    },
    {
     "data": {
      "text/html": [
       "<img src=\"exemplo.gif?0.3214515451700304>\" />"
      ],
      "text/plain": [
       "Plots.AnimatedGif(\"/home/abel/disciplinas/cm103/material/exemplo.gif\")"
      ]
     },
     "execution_count": 124,
     "metadata": {},
     "output_type": "execute_result"
    }
   ],
   "source": [
    "x = linspace(0, 2*pi, 100)\n",
    "anim = Animation()\n",
    "for i = 1:5:100\n",
    "    plot(x[1:i], sin.(x[1:i]))\n",
    "    frame(anim)\n",
    "end\n",
    "gif(anim, \"exemplo.gif\", fps=10)"
   ]
  },
  {
   "cell_type": "code",
   "execution_count": 125,
   "metadata": {},
   "outputs": [
    {
     "name": "stderr",
     "output_type": "stream",
     "text": [
      "\u001b[1m\u001b[36mINFO: \u001b[39m\u001b[22m\u001b[36mSaved animation to /home/abel/disciplinas/cm103/material/exemplo2.gif\n",
      "\u001b[39m"
     ]
    },
    {
     "data": {
      "text/html": [
       "<img src=\"exemplo2.gif?0.5632705195243193>\" />"
      ],
      "text/plain": [
       "Plots.AnimatedGif(\"/home/abel/disciplinas/cm103/material/exemplo2.gif\")"
      ]
     },
     "execution_count": 125,
     "metadata": {},
     "output_type": "execute_result"
    }
   ],
   "source": [
    "x = linspace(0, 2*pi, 100)\n",
    "anim = Animation()\n",
    "for i = 1:3:100\n",
    "    plot(x[1:i], sin.(x[1:i]))\n",
    "    xlims!(x[1], x[end])\n",
    "    ylims!(-1, 1)\n",
    "    frame(anim)\n",
    "end\n",
    "gif(anim, \"exemplo2.gif\", fps=12)"
   ]
  },
  {
   "cell_type": "code",
   "execution_count": 126,
   "metadata": {
    "scrolled": true
   },
   "outputs": [
    {
     "name": "stderr",
     "output_type": "stream",
     "text": [
      "\u001b[1m\u001b[36mINFO: \u001b[39m\u001b[22m\u001b[36mSaved animation to /home/abel/disciplinas/cm103/material/exemplo3.gif\n",
      "\u001b[39m"
     ]
    },
    {
     "data": {
      "text/html": [
       "<img src=\"exemplo3.gif?0.09537552016679429>\" />"
      ],
      "text/plain": [
       "Plots.AnimatedGif(\"/home/abel/disciplinas/cm103/material/exemplo3.gif\")"
      ]
     },
     "execution_count": 126,
     "metadata": {},
     "output_type": "execute_result"
    }
   ],
   "source": [
    "x = linspace(0, 2*pi, 100)\n",
    "anim = Animation()\n",
    "for i = 1:3:100\n",
    "    plot(x, sin.(x), leg=false)\n",
    "    a = x[i]\n",
    "    scatter!([a], [sin(a)], c=:red)\n",
    "    plot!(x, sin(a) + cos(a)*(x-a), c=:red, l=:dash)\n",
    "    xlims!(x[1], x[end])\n",
    "    ylims!(-2, 2)\n",
    "    frame(anim)\n",
    "end\n",
    "gif(anim, \"exemplo3.gif\", fps=12)"
   ]
  },
  {
   "cell_type": "markdown",
   "metadata": {},
   "source": [
    "## Exercícios\n",
    "\n",
    "1. Crie uma função que resolve $ax^2 + bx + c = 0$ por Bháskara, mas se $\\Delta < 0$, ele retorna as soluções complexas.\n",
    "2. Faça uma função para calcular o máximo dividor comum de dois números inteiros positivos.\n",
    "1. Crie um vetor x aleatório, e crie y = 2x + 3. Crie um plot e depois um scatter de x vs y. Qual a diferença?\n",
    "2. Faça o gráfico de $e^x$ no intervalo [-1,1] em vermelho.\n",
    "3. Faça no mesmo gráfico os gráficos de $1$, $1+x$ e $1+x+0.5x^2$ em azul, com linha pontilhada."
   ]
  }
 ],
 "metadata": {
  "kernelspec": {
   "display_name": "Julia 0.6.0",
   "language": "julia",
   "name": "julia-0.6"
  },
  "language_info": {
   "file_extension": ".jl",
   "mimetype": "application/julia",
   "name": "julia",
   "version": "0.6.0"
  }
 },
 "nbformat": 4,
 "nbformat_minor": 1
}
