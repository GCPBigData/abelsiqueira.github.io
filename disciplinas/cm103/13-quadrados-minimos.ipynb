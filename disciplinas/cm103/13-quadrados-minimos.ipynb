{
 "cells": [
  {
   "cell_type": "markdown",
   "metadata": {},
   "source": [
    "Vimos como adaptar um conjunto de dados por alguns modelos específicos.\n",
    "De uma maneira geral, podemos considerar um modelo da forma\n",
    "$$ f(x) = \\alpha_1 \\phi_1(x) + \\dots + \\alpha_n \\phi_n(x), $$\n",
    "e fazer o mesmo procedimento.\n",
    "\n",
    "Esse problema com esse modelo é dito **quadrados mínimos lineares discretos.**"
   ]
  },
  {
   "cell_type": "markdown",
   "metadata": {},
   "source": [
    "Para encontrar os parâmetros $\\alpha$ fazemos o mesmo procedimento anterior:\n",
    "$$ \\min E(\\alpha) = \\frac{1}{2} \\sum_{i=1}^m [f(x_i) - y_i]^2\n",
    "= \\frac{1}{2} \\sum_{i=1}^m \\bigg[\\sum_{j=1}^n \\alpha_j\\phi_j(x_i) - y_i\\bigg]^2. $$"
   ]
  },
  {
   "cell_type": "markdown",
   "metadata": {},
   "source": [
    "Derivando em cada $\\alpha_k$ nos dá um sistema $M\\alpha = c$, onde\n",
    "$$ M_{kj} = \\sum_{i=1}^m \\phi_k(x_i)\\phi_j(x_i) \\qquad \\mbox{e}\n",
    "\\qquad c_j = \\sum_{i=1}^m \\phi_j(x_i) y_i. $$"
   ]
  },
  {
   "cell_type": "markdown",
   "metadata": {},
   "source": [
    "Dados a função $\\phi_j$ e os pontos $x_i$, podemos definir um vetor $\\overline{\\phi}_j = (\\phi_j(x_1), \\dots, \\phi_j(x_m))^T$, isto é, o vetor obtido aplicando $\\phi_j$ em cada elemento $x_i$.\n",
    "Com essa definição, podemos escrever\n",
    "$$ M_{k,j} = \\langle\\overline{\\phi}_k,\\overline{\\phi}_j\\rangle \\qquad \\mbox{e} \\qquad\n",
    "c_j = \\langle\\overline{\\phi}_j, y\\rangle. $$"
   ]
  },
  {
   "cell_type": "markdown",
   "metadata": {},
   "source": [
    "O sistema $M\\alpha = c$ é chamado de **sistema normal**, e ele tem uma característica muito importante:\n",
    "A matriz $M$ é semidefinida positiva, e em muitos casos, definida positiva."
   ]
  },
  {
   "cell_type": "markdown",
   "metadata": {},
   "source": [
    "**Def.: ** Uma matriz simétrica $A$ é dita definida positiva se $v^TAv > 0$ para todo $v\\neq 0$.\n",
    "\n",
    "**Exercício: ** Demonstre que uma matriz simétrica definida positiva é não singular usando apenas a definição acima.\n",
    "\n",
    "**Def.: ** Uma matriz simétrica $A$ é dita semi-definida positiva se $v^TAv \\geq 0$ para todo $v$.\n",
    "\n",
    "**Teo.: ** A é definida positiva se, e somente se, seus autovalores são positivos.\n",
    "\n",
    "**Teo.: ** A é semi-definida positiva se, e somente se, seus autovalores são positivos ou nulos.\n",
    "\n",
    "**Teo.: ** A é definida positiva se todos os determinantes $det(A[1:k,1:k])$ são positivos, para $k = 1,\\dots,n$."
   ]
  },
  {
   "cell_type": "markdown",
   "metadata": {},
   "source": [
    "Existem muitos outros teoremas sobre definida positiva, mas um ponto importante aqui é que se $A$ é definida positiva, então ela é não-singular. Além disso, pelo teorema dos autovalores, sabemos como determinar se $A$ é definida positiva na prática.\n",
    "Na prática, no entanto, as contas não valem a pena, e o teorema abaixo é muito mais útil:"
   ]
  },
  {
   "cell_type": "markdown",
   "metadata": {},
   "source": [
    "**Teo.: ** $A$ é simétrica definida positiva se, e somente se, existe uma matriz $G$ quadrada não-singular tal que $A = GG^T$."
   ]
  },
  {
   "cell_type": "markdown",
   "metadata": {},
   "source": [
    "Podem existir mais de uma matriz $G$ que satisfaça essa propriedade, mas estamos preocupados com uma em particular:\n",
    "A matriz da **decomposição de Cholesky**.\n",
    "\n",
    "A decomposição de Cholesky de uma matriz $A$ simétrica definida positiva é a matriz $G$ triangular inferior que satisfaz $A = GG^T$."
   ]
  },
  {
   "cell_type": "markdown",
   "metadata": {},
   "source": [
    "*Desenvolvimento feito em sala*"
   ]
  },
  {
   "cell_type": "code",
   "execution_count": 1,
   "metadata": {
    "collapsed": true
   },
   "outputs": [],
   "source": [
    "# Implementação"
   ]
  },
  {
   "cell_type": "markdown",
   "metadata": {},
   "source": [
    "## Forma matricial\n",
    "\n",
    "Com os vetores $\\overline{\\phi}_1, \\dots, \\overline{\\phi}$, podemos montar a matriz\n",
    "$$ A = [\\overline{\\phi}_1 \\cdots \\overline{\\phi}_n]. $$\n",
    "Com essa matriz, podemos ver que $ A^TA = M$ e que $A^Ty = c$.\n",
    "Ou seja, o sistema que queremos resolver é, na verdade\n",
    "$$ A^TA\\alpha = A^Tb, $$\n",
    "ou seja, $A^T(A\\alpha - b) = 0$."
   ]
  },
  {
   "cell_type": "markdown",
   "metadata": {},
   "source": [
    "Isso quer dizer que o sistema normal tem alguma relação com o sistema sobre-determinado $A\\alpha = b$.\n",
    "De fato, se pensarmos novamente no problema de minimizar aquela $E(\\alpha)$, cada termo dentro do somatório é\n",
    "uma linha de $A\\alpha - b$.\n",
    "Em outras palavras,\n",
    "$$ E(\\alpha) = \\frac{1}{2}\\sum_{i=1}^m (A\\alpha-b)_i^2\n",
    "= \\frac{1}{2}\\Vert A\\alpha - b\\Vert^2. $$"
   ]
  },
  {
   "cell_type": "markdown",
   "metadata": {},
   "source": [
    "De fato, se calculamos $\\nabla E(\\alpha) = 0$, obtemos as equações normais.\n",
    "Isso generaliza o problema de quadrados mínimos.\n",
    "Esse problema aparece com frequência em outros contextos, e é bastante importante sabermos resolvê-lo eficientemente.\n",
    "\n",
    "** Exercício: ** Calcule as derivadas parciais de $f(x) = \\frac{1}{2}x^TQx + x^Tg$.\n",
    "Escreva a forma do gradiente."
   ]
  },
  {
   "cell_type": "markdown",
   "metadata": {},
   "source": [
    "Computacionalmente, o problema de quadrados mínimos, como descrito acima, envolve o cálculo de $A^TA$, depois de Cholesky, e depois da resolução do sistema. Alguns códigos, em particular o [CHOLMOD](http://faculty.cse.tamu.edu/davis/suitesparse.html), calculam a decomposição de Cholesky diretamente da matriz $A$, o que reduz bastante o trabalho computacional.\n",
    "\n",
    "Uma outra possibilidade de resolver esse problema seria usar algum método iterativo. Os métodos que vimos não são bons para isso, pois envolvem a formação da matriz $A$. No entanto, existe um outro método, chamado **Método dos Gradientes Conjugados**, que é bastante útil para esse problema."
   ]
  },
  {
   "cell_type": "markdown",
   "metadata": {},
   "source": []
  }
 ],
 "metadata": {
  "kernelspec": {
   "display_name": "Julia 0.4.6",
   "language": "julia",
   "name": "julia-0.4"
  },
  "language_info": {
   "file_extension": ".jl",
   "mimetype": "application/julia",
   "name": "julia",
   "version": "0.4.6"
  }
 },
 "nbformat": 4,
 "nbformat_minor": 0
}
