{
 "cells": [
  {
   "cell_type": "code",
   "execution_count": 1,
   "metadata": {
    "collapsed": false
   },
   "outputs": [
    {
     "data": {
      "text/plain": [
       "Plots.GRBackend()"
      ]
     },
     "execution_count": 1,
     "metadata": {},
     "output_type": "execute_result"
    }
   ],
   "source": [
    "using Plots\n",
    "gr()"
   ]
  },
  {
   "cell_type": "code",
   "execution_count": 6,
   "metadata": {
    "collapsed": false
   },
   "outputs": [
    {
     "name": "stderr",
     "output_type": "stream",
     "text": [
      "WARNING: Method definition @checked_lib(ANY<:Any, ANY<:Any) in module Main at /home/abel/.julia/v0.5/ImageMagick/deps/deps.jl:7 overwritten at /home/abel/.julia/v0.5/ImageMagick/deps/deps.jl:7.\n",
      "WARNING: redefining constant libwand\n",
      "WARNING: Method definition init_deps() in module Main at /home/abel/.julia/v0.5/ImageMagick/deps/deps.jl:16 overwritten at /home/abel/.julia/v0.5/ImageMagick/deps/deps.jl:16.\n",
      "INFO: Saved animation to /home/abel/projetos/abel/abelsiqueira.github.io/disciplinas/cm103/tmp.gif\n"
     ]
    },
    {
     "data": {
      "text/html": [
       "<img src=\"tmp.gif?0.7399715247622247>\" />"
      ],
      "text/plain": [
       "Plots.AnimatedGif(\"/home/abel/projetos/abel/abelsiqueira.github.io/disciplinas/cm103/tmp.gif\")"
      ]
     },
     "execution_count": 6,
     "metadata": {},
     "output_type": "execute_result"
    }
   ],
   "source": [
    "t = linspace(0, 4π, 500)\n",
    "y = sin(t)\n",
    "@gif for i = 1:5:500\n",
    "    plot(t[1:i], y[1:i])\n",
    "    xlims!(t[1], t[end])\n",
    "    ylims!(-1.2, 1.2)\n",
    "end"
   ]
  },
  {
   "cell_type": "code",
   "execution_count": 10,
   "metadata": {
    "collapsed": false
   },
   "outputs": [
    {
     "name": "stderr",
     "output_type": "stream",
     "text": [
      "WARNING: Method definition @checked_lib(ANY<:Any, ANY<:Any) in module Main at /home/abel/.julia/v0.5/ImageMagick/deps/deps.jl:7 overwritten at /home/abel/.julia/v0.5/ImageMagick/deps/deps.jl:7.\n",
      "WARNING: redefining constant libwand\n",
      "WARNING: Method definition init_deps() in module Main at /home/abel/.julia/v0.5/ImageMagick/deps/deps.jl:16 overwritten at /home/abel/.julia/v0.5/ImageMagick/deps/deps.jl:16.\n",
      "INFO: Saved animation to /home/abel/projetos/abel/abelsiqueira.github.io/disciplinas/cm103/tmp.gif\n"
     ]
    },
    {
     "data": {
      "text/html": [
       "<img src=\"tmp.gif?0.39820568958439084>\" />"
      ],
      "text/plain": [
       "Plots.AnimatedGif(\"/home/abel/projetos/abel/abelsiqueira.github.io/disciplinas/cm103/tmp.gif\")"
      ]
     },
     "execution_count": 10,
     "metadata": {},
     "output_type": "execute_result"
    }
   ],
   "source": [
    "# y' = y, y(0) = 1\n",
    "# w[k+1] = w[k] + h*w[k] = (1 + h)*w[k]\n",
    "\n",
    "N = 1000\n",
    "h = 1/(N-1)\n",
    "x = linspace(0, 1, N)\n",
    "w = zeros(N)\n",
    "w[1] = 1.0\n",
    "@gif for i = 1:N-1\n",
    "    w[i+1] = (1 + h)*w[i]\n",
    "    plot(x[1:i+1], w[1:i+1])\n",
    "end every 10"
   ]
  },
  {
   "cell_type": "code",
   "execution_count": 12,
   "metadata": {
    "collapsed": false
   },
   "outputs": [
    {
     "name": "stderr",
     "output_type": "stream",
     "text": [
      "WARNING: Method definition @checked_lib(ANY<:Any, ANY<:Any) in module Main at /home/abel/.julia/v0.5/ImageMagick/deps/deps.jl:7 overwritten at /home/abel/.julia/v0.5/ImageMagick/deps/deps.jl:7.\n",
      "WARNING: redefining constant libwand\n",
      "WARNING: Method definition init_deps() in module Main at /home/abel/.julia/v0.5/ImageMagick/deps/deps.jl:16 overwritten at /home/abel/.julia/v0.5/ImageMagick/deps/deps.jl:16.\n",
      "INFO: Saved animation to /home/abel/projetos/abel/abelsiqueira.github.io/disciplinas/cm103/tmp.gif\n"
     ]
    },
    {
     "data": {
      "text/html": [
       "<img src=\"tmp.gif?0.131506809109875>\" />"
      ],
      "text/plain": [
       "Plots.AnimatedGif(\"/home/abel/projetos/abel/abelsiqueira.github.io/disciplinas/cm103/tmp.gif\")"
      ]
     },
     "execution_count": 12,
     "metadata": {},
     "output_type": "execute_result"
    }
   ],
   "source": [
    "# y' = y, y(0) = 1\n",
    "# w[k+1] = w[k] + h*w[k] = (1 + h)*w[k]\n",
    "\n",
    "N = 1000\n",
    "h = 1/(N-1)\n",
    "x = linspace(0, 1, N)\n",
    "w = zeros(N)\n",
    "w[1] = 1.0\n",
    "for i = 1:N-1\n",
    "    w[i+1] = (1 + h)*w[i]\n",
    "end\n",
    "\n",
    "# Separado faz a animação\n",
    "\n",
    "@gif for i = 1:N\n",
    "    plot(x[1:i], w[1:i], c=:red)\n",
    "    xlims!(x[1], x[end])\n",
    "    ylims!(w[1], w[end])\n",
    "end every 10"
   ]
  },
  {
   "cell_type": "code",
   "execution_count": 14,
   "metadata": {
    "collapsed": false
   },
   "outputs": [
    {
     "data": {
      "text/plain": [
       "rk2_sist (generic function with 1 method)"
      ]
     },
     "execution_count": 14,
     "metadata": {},
     "output_type": "execute_result"
    }
   ],
   "source": [
    "function rk2_sist(F, x0, y0, xf; n = 10)\n",
    "    h = (xf - x0)/n\n",
    "    x = linspace(x0, xf, n+1)\n",
    "    m = length(y0)\n",
    "    y = zeros(n+1, m)\n",
    "    y[1,:] = y0\n",
    "    for i = 1:n\n",
    "        yi = y[i,:]\n",
    "        κ1 = h*F(x[i], yi)\n",
    "        κ2 = h*F(x[i] + h, yi + κ1)\n",
    "        y[i+1,:] = yi + (κ1 + κ2)/2\n",
    "    end\n",
    "    return x, y\n",
    "end"
   ]
  },
  {
   "cell_type": "code",
   "execution_count": 36,
   "metadata": {
    "collapsed": false
   },
   "outputs": [
    {
     "name": "stderr",
     "output_type": "stream",
     "text": [
      "WARNING: Method definition ex_animacao_sist_din() in module Main at In[35]:2 overwritten at In[36]:2.\n",
      "WARNING: Method definition @checked_lib(ANY<:Any, ANY<:Any) in module Main at /home/abel/.julia/v0.5/ImageMagick/deps/deps.jl:7 overwritten at /home/abel/.julia/v0.5/ImageMagick/deps/deps.jl:7.\n",
      "WARNING: redefining constant libwand\n",
      "WARNING: Method definition init_deps() in module Main at /home/abel/.julia/v0.5/ImageMagick/deps/deps.jl:16 overwritten at /home/abel/.julia/v0.5/ImageMagick/deps/deps.jl:16.\n",
      "INFO: Saved animation to /home/abel/projetos/abel/abelsiqueira.github.io/disciplinas/cm103/tmp.gif\n"
     ]
    },
    {
     "data": {
      "text/html": [
       "<img src=\"tmp.gif?0.2827619265275423>\" />"
      ],
      "text/plain": [
       "Plots.AnimatedGif(\"/home/abel/projetos/abel/abelsiqueira.github.io/disciplinas/cm103/tmp.gif\")"
      ]
     },
     "execution_count": 36,
     "metadata": {},
     "output_type": "execute_result"
    }
   ],
   "source": [
    "function ex_animacao_sist_din()\n",
    "    F(t,Y) = [Y[1]*(1-Y[2]/2); Y[2]*(-0.75 + 0.25*Y[1])]\n",
    "\n",
    "    n = 1000\n",
    "    t0, tf = 0, 15\n",
    "    w0 = [1.0; 2.0]\n",
    "    t, W = rk2_sist(F, t0, w0, tf, n = n)\n",
    "    \n",
    "    x = W[:,1]\n",
    "    y = W[:,2]\n",
    "    \n",
    "    k = div(n, 100)\n",
    "    b = 100\n",
    "    @gif for i = b+1:k:n\n",
    "        p1 = plot(x[1:i], y[1:i], leg=false)\n",
    "        plot!(p1, x[i-b:i], y[i-b:i], c=:red)\n",
    "        scatter!(p1, [x[i]], [y[i]], ms=3, c=:red)\n",
    "        xlims!(p1, 0, 7)\n",
    "        ylims!(p1, 0, 5)\n",
    "        \n",
    "        p2 = plot(t[1:i], x[1:i], c=:blue)\n",
    "        plot!(p2, t[1:i], y[1:i], c=:red)\n",
    "        xlims!(p2, t[1], t[end])\n",
    "        ylims!(0, 7)\n",
    "        \n",
    "        plot(p1, p2)\n",
    "    end\n",
    "end\n",
    "\n",
    "ex_animacao_sist_din()"
   ]
  },
  {
   "cell_type": "code",
   "execution_count": 45,
   "metadata": {
    "collapsed": false
   },
   "outputs": [
    {
     "name": "stderr",
     "output_type": "stream",
     "text": [
      "WARNING: Method definition ex_animacao_pendulo_duplo() in module Main at In[44]:4 overwritten at In[45]:4.\n",
      "WARNING: Method definition @checked_lib(ANY<:Any, ANY<:Any) in module Main at /home/abel/.julia/v0.5/ImageMagick/deps/deps.jl:7 overwritten at /home/abel/.julia/v0.5/ImageMagick/deps/deps.jl:7.\n",
      "WARNING: redefining constant libwand\n",
      "WARNING: Method definition init_deps() in module Main at /home/abel/.julia/v0.5/ImageMagick/deps/deps.jl:16 overwritten at /home/abel/.julia/v0.5/ImageMagick/deps/deps.jl:16.\n",
      "INFO: Saved animation to /home/abel/projetos/abel/abelsiqueira.github.io/disciplinas/cm103/tmp.gif\n"
     ]
    },
    {
     "data": {
      "text/html": [
       "<img src=\"tmp.gif?0.30976153397369544>\" />"
      ],
      "text/plain": [
       "Plots.AnimatedGif(\"/home/abel/projetos/abel/abelsiqueira.github.io/disciplinas/cm103/tmp.gif\")"
      ]
     },
     "execution_count": 45,
     "metadata": {},
     "output_type": "execute_result"
    }
   ],
   "source": [
    "gr(size=(600,600))\n",
    "\n",
    "function ex_animacao_pendulo_duplo()\n",
    "    F(t,Y) = [ -Y[2]; sin(Y[1]) ]\n",
    "\n",
    "    n = 1000\n",
    "    t0, tf = 0, 15\n",
    "    w0 = [π/4; 0.0]\n",
    "    t, W = rk2_sist(F, t0, w0, tf, n = n)\n",
    "    \n",
    "    θ = W[:,1]\n",
    "    ω = W[:,2]\n",
    "    x = sin(θ)\n",
    "    y = -cos(θ)\n",
    "    \n",
    "    k = div(n, 150)\n",
    "    #b = 100\n",
    "    @gif for i = 1:k:n\n",
    "        scatter([x[i]], [y[i]], ms=5, c=:black)\n",
    "        plot!([0;x[i]], [0; y[i]], c=:black)\n",
    "        xlims!(-1.2, 1.2)\n",
    "        ylims!(-1.2, 1.2)\n",
    "    end\n",
    "end\n",
    "\n",
    "ex_animacao_pendulo_duplo()"
   ]
  },
  {
   "cell_type": "code",
   "execution_count": 60,
   "metadata": {
    "collapsed": false
   },
   "outputs": [
    {
     "name": "stderr",
     "output_type": "stream",
     "text": [
      "WARNING: Method definition ex_animacao_pendulo_duplo() in module Main at In[59]:4 overwritten at In[60]:4.\n",
      "WARNING: Method definition @checked_lib(ANY<:Any, ANY<:Any) in module Main at /home/abel/.julia/v0.5/ImageMagick/deps/deps.jl:7 overwritten at /home/abel/.julia/v0.5/ImageMagick/deps/deps.jl:7.\n",
      "WARNING: redefining constant libwand\n",
      "WARNING: Method definition init_deps() in module Main at /home/abel/.julia/v0.5/ImageMagick/deps/deps.jl:16 overwritten at /home/abel/.julia/v0.5/ImageMagick/deps/deps.jl:16.\n",
      "INFO: Saved animation to /home/abel/projetos/abel/abelsiqueira.github.io/disciplinas/cm103/tmp.gif\n"
     ]
    },
    {
     "data": {
      "text/html": [
       "<img src=\"tmp.gif?0.018383137144527106>\" />"
      ],
      "text/plain": [
       "Plots.AnimatedGif(\"/home/abel/projetos/abel/abelsiqueira.github.io/disciplinas/cm103/tmp.gif\")"
      ]
     },
     "execution_count": 60,
     "metadata": {},
     "output_type": "execute_result"
    }
   ],
   "source": [
    "gr(size=(600,600))\n",
    "\n",
    "function ex_animacao_pendulo_duplo()\n",
    "    g = 1.0\n",
    "    F(t,Y) = [ Y[2];\n",
    "        (Y[2]^2*sin(Y[3]-Y[1])*cos(Y[3]-Y[1])+g*sin(Y[3])*cos(Y[3]-Y[1])+Y[4]^2*sin(Y[3]-Y[1])-2*g*sin(Y[1]))/(2-cos(Y[3]-Y[1])^2);\n",
    "        Y[4];\n",
    "        (-Y[4]^2*sin(Y[3]-Y[1])*cos(Y[3]-Y[1])+2(g*sin(Y[1])*cos(Y[3]-Y[1])-Y[2]^2*sin(Y[3]-Y[1])-g*sin(Y[3])))/(2-cos(Y[3]-Y[1])^2)]\n",
    "\n",
    "    n = 4000\n",
    "    t0, tf = 0, 30\n",
    "    w0 = [0.9π; 0.0; 0.0; 0.0]\n",
    "    t, W = rk2_sist(F, t0, w0, tf, n = n)\n",
    "    \n",
    "    θ1 = W[:,1]\n",
    "    θ2 = W[:,3]\n",
    "    x1 = sin(θ1)\n",
    "    y1 = -cos(θ1)\n",
    "    x2 = x1 + sin(θ2)\n",
    "    y2 = y1 - cos(θ2)\n",
    "    \n",
    "    k = div(n, 150)\n",
    "    b = 50\n",
    "    @gif for i = b+1:k:n\n",
    "        scatter([x1[i], x2[i]], [y1[i], y2[i]], ms=5, c=:black)\n",
    "        plot!(x2[i-b:i], y2[i-b:i], c=:red)\n",
    "        plot!([0; x1[i]; x2[i]], [0; y1[i]; y2[i]], c=:black)\n",
    "        xlims!(-2.2, 2.2)\n",
    "        ylims!(-2.2, 2.2)\n",
    "    end\n",
    "end\n",
    "\n",
    "ex_animacao_pendulo_duplo()"
   ]
  },
  {
   "cell_type": "code",
   "execution_count": null,
   "metadata": {
    "collapsed": true
   },
   "outputs": [],
   "source": []
  }
 ],
 "metadata": {
  "kernelspec": {
   "display_name": "Julia 0.5.0",
   "language": "julia",
   "name": "julia-0.5"
  },
  "language_info": {
   "file_extension": ".jl",
   "mimetype": "application/julia",
   "name": "julia",
   "version": "0.5.0"
  }
 },
 "nbformat": 4,
 "nbformat_minor": 1
}
