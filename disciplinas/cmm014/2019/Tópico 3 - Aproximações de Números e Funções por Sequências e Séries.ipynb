{
 "cells": [
  {
   "cell_type": "markdown",
   "metadata": {},
   "source": [
    "# Aproximações de Números e Funções por Sequências e Séries"
   ]
  },
  {
   "cell_type": "markdown",
   "metadata": {},
   "source": [
    "Os objetivos desta lição são\n",
    "\n",
    "- Identificar como lidar com sequências e séries em programação;\n",
    "- Entender que elementos anteriores da sequência são substituídos;\n",
    "- Tentar gastar o mínimo de elementos e variáveis (mantendo a clareza);\n",
    "- Tomar cuidado com overflow e underflow;\n",
    "- Relembrar/treinar a programação."
   ]
  },
  {
   "cell_type": "markdown",
   "metadata": {},
   "source": [
    "## Sequências\n",
    "\n",
    "Uma sequência em matemática é um conjunto de valores ordenados:\n",
    "$$ (a_1, a_2, a_3, \\dots, a_n, \\dots) $$"
   ]
  },
  {
   "cell_type": "markdown",
   "metadata": {},
   "source": [
    "O índice $1$ usado no primeiro elemento é arbitrário, e serve para normalizar essa ordem.\n",
    "Em alguns casos é mais interessante começar com o índice $0$."
   ]
  },
  {
   "cell_type": "markdown",
   "metadata": {},
   "source": [
    "Matematicamente, costumamos estar interessados na convergência dessa sequência. No entanto, podemos utilizar uma sequência por outros motivos. Computacionalmente, estamos interessados em **como obter os elementos de uma sequência, quando necessário.**"
   ]
  },
  {
   "cell_type": "markdown",
   "metadata": {},
   "source": [
    "É importante ressaltar aqui a importância da frase **quando necessário**, pois como veremos a seguir, não é do nosso interesse calcular todos esses valores ao mesmo tempo, e quase sempre também não seria possível."
   ]
  },
  {
   "cell_type": "markdown",
   "metadata": {},
   "source": [
    "### Exemplo 1\n",
    "\n",
    "Dado um objeto com aceleração constante de $10 m/s$ saindo do repouso, queremos calcular sua posição nos instantes\n",
    "$t = 0, 0.1, 0.2, 0.3, \\dots$.\n",
    "Note que temos uma sequência $t_n = (n-1)/10$, e queremos uma sequência $x_n$ das posições.\n",
    "\n",
    "Neste caso, porém, as leis de movimento nos dizem que\n",
    "$$ x(t) = x_0 + v_0 t + \\frac{1}{2}at^2, $$\n",
    "que em nosso caso se reduz a\n",
    "$$ x(t) = 5t^2. $$\n",
    "\n",
    "Em outras palavras, a sequência $x_n$ pode ser calculada diretamente dado $t_n$, e $t_n$ também tem uma fórmula geral dado $n$,\n",
    "$$ x_n = 5\\bigg(\\frac{n-1}{10}\\bigg)^2 = \\frac{(n-1)^2}{20}. $$\n",
    "Desse modo, não é necessário guardar nada em especial, pois $x_n$ pode ser calculado diretamente a partir de $n$."
   ]
  },
  {
   "cell_type": "markdown",
   "metadata": {},
   "source": [
    "### Exemplo 2\n",
    "\n",
    "Dado um número $x \\in \\mathbb{N}, x > 1$, queremos calcular a sequência de Collatz desse número.\n",
    "Em particular, queremos calcular qual o primeiro elemento que é $1$ (se houver).\n",
    "\n",
    "Aqui é importante ressaltar a conjectura de Collatz: Dado um número $a_1 \\in \\mathbb{N}$, e a fórmula recursiva\n",
    "$$ a_{n+1} = \\left\\{\\begin{array}{ll}\n",
    "    a_n/2, & \\mbox{se } a_n \\mbox{ é par}; \\\\\n",
    "    3a_n + 1, & \\mbox{se } a_n \\mbox{ é impar},\n",
    "\\end{array}\\right. $$\n",
    "sempre existe um elemento desta sequência tal que $a_n = 1$. A partir desse ponto a sequência perde a importância. Por exemplo, a sequência de Collatz de 3 é\n",
    "\n",
    "$$ 3 \\rightarrow 10 \\rightarrow 5 \\rightarrow 16 \\rightarrow 8 \\rightarrow 4 \\rightarrow 2 \\rightarrow 1 \\rightarrow 4 \\rightarrow 2 \\rightarrow 1 \\cdots $$"
   ]
  },
  {
   "cell_type": "markdown",
   "metadata": {},
   "source": [
    "Nessa sequência, é necessário saber quem é o ponto atual, e é impossível saber um elemento arbitrário da sequência em casos gerais. Dessa maneira é preciso calcular elemento a elemento."
   ]
  },
  {
   "cell_type": "markdown",
   "metadata": {},
   "source": [
    "Lembre-se que para verificar a paridade de um número, utilizamos `%`."
   ]
  },
  {
   "cell_type": "code",
   "execution_count": null,
   "metadata": {},
   "outputs": [],
   "source": [
    "15 % 2"
   ]
  },
  {
   "cell_type": "code",
   "execution_count": null,
   "metadata": {},
   "outputs": [],
   "source": [
    "14 % 2"
   ]
  },
  {
   "cell_type": "code",
   "execution_count": null,
   "metadata": {},
   "outputs": [],
   "source": [
    "15 % 2 == 0 # É par ?"
   ]
  },
  {
   "cell_type": "code",
   "execution_count": null,
   "metadata": {},
   "outputs": [],
   "source": [
    "14 % 2 == 0 # É par ?"
   ]
  },
  {
   "cell_type": "markdown",
   "metadata": {},
   "source": [
    "Lembre-se também que para dividir um número e mantê-lo inteiro, usamos `div`."
   ]
  },
  {
   "cell_type": "code",
   "execution_count": null,
   "metadata": {},
   "outputs": [],
   "source": [
    "div(15, 2)"
   ]
  },
  {
   "cell_type": "code",
   "execution_count": null,
   "metadata": {},
   "outputs": [],
   "source": [
    "div(14, 2)"
   ]
  },
  {
   "cell_type": "code",
   "execution_count": null,
   "metadata": {},
   "outputs": [],
   "source": [
    "14/2 # 7.0 e 7 são o mesmo valor, mas são diferentes em computação"
   ]
  },
  {
   "cell_type": "markdown",
   "metadata": {},
   "source": [
    "Um **erro** comum de alunos inexperientes nesse caso é **tentar numerar todos os elementos**."
   ]
  },
  {
   "cell_type": "code",
   "execution_count": null,
   "metadata": {},
   "outputs": [],
   "source": [
    "a1 = 3\n",
    "if a1 % 2 == 0\n",
    "    a2 = div(a1, 2)\n",
    "else\n",
    "    a2 = 3 * a1 + 1\n",
    "end"
   ]
  },
  {
   "cell_type": "code",
   "execution_count": null,
   "metadata": {},
   "outputs": [],
   "source": [
    "if a2 % 2 == 0\n",
    "    a3 = div(a2, 2)\n",
    "else\n",
    "    a3 = 3 * a2 + 1\n",
    "end"
   ]
  },
  {
   "cell_type": "markdown",
   "metadata": {},
   "source": [
    "Essa estratégia logo fica inviável. No entanto, note que precisamos apenas do valor atual da sequência, de maneira que podemos usar apenas uma mesma variável `a` que irá guardar sempre o valor mais atual."
   ]
  },
  {
   "cell_type": "code",
   "execution_count": null,
   "metadata": {},
   "outputs": [],
   "source": [
    "a = 3"
   ]
  },
  {
   "cell_type": "code",
   "execution_count": null,
   "metadata": {},
   "outputs": [],
   "source": [
    "# Bloco 1\n",
    "if a % 2 == 0\n",
    "    a = div(a, 2)\n",
    "else\n",
    "    a = 3 * a + 1\n",
    "end"
   ]
  },
  {
   "cell_type": "code",
   "execution_count": null,
   "metadata": {},
   "outputs": [],
   "source": [
    "a"
   ]
  },
  {
   "cell_type": "markdown",
   "metadata": {},
   "source": [
    "Rodando mais de uma vez o Bloco 1, fazemos uma nova iteração da sequência.\n",
    "Para deixar mais claro, vamos guardar também uma variável `n` que diz qual o índice da sequência."
   ]
  },
  {
   "cell_type": "code",
   "execution_count": null,
   "metadata": {},
   "outputs": [],
   "source": [
    "a = 3\n",
    "n = 1"
   ]
  },
  {
   "cell_type": "code",
   "execution_count": null,
   "metadata": {},
   "outputs": [],
   "source": [
    "# Bloco 2\n",
    "if a % 2 == 0\n",
    "    a = div(a, 2)\n",
    "else\n",
    "    a = 3 * a + 1\n",
    "end\n",
    "n = n + 1\n",
    "println(\"a = $a, n = $n\")"
   ]
  },
  {
   "cell_type": "markdown",
   "metadata": {},
   "source": [
    "Note que `n` também pode ser usado para responder a pergunta original: quando `a` for 1, teremos o `n` marcando o índice correspondente."
   ]
  },
  {
   "cell_type": "markdown",
   "metadata": {},
   "source": [
    "Isso nos leva a um conceito importante. Note que sequências contém infinitos elementos. No entanto, computacionalmente, não podemos fazer contas infinitas. Isso constitui um **loop infinito**. Códigos com loops infinitos são considerados **\"errados\"** (no sentido de não fazerem o que se espera), então devemos evitá-los.\n",
    "Portanto, o fato de percebermos que para resolver o problema, devemos fazer a conta do Bloco 2 até que `n` seja 1 é de extrema importância, pois isso evitará um loop infinito (dado que a conjectura de Collatz esteja correta)."
   ]
  },
  {
   "cell_type": "markdown",
   "metadata": {},
   "source": [
    "Com isso, podemos definir um termo formal para este conjunto de código com um objetivo específico:\n",
    "\n",
    "**Def. (Algoritmo):** Um algoritmo é uma coleção de instruções para realizar alguma tarefa específica. Segundo Knuth (The Art of Computer Programming, v.1), ele deve satisfazer as seguintes condições, parafraseadas aqui:\n",
    "- **Finitude:** O algoritmo deve acabar em tempo finito;\n",
    "- **Bem definido:** As intruções devem ser claras e sem ambiguidade;\n",
    "- **Entrada:** O algoritmo tem zero ou mais entradas, que são valores determinados antes do algoritmo começar. Essas entradas são especificados a partir de conjuntos de objetos;\n",
    "- **Saída:** O algoritmo tem uma ou mais saídas, que são quantidades relacionadas com as entradas;\n",
    "- **Eficácia/Computabilidade:** As operações feitas no algoritmo devem ser suficientemente básicas para que a princípio possam ser executadas por uma pessoa num espaço finito e tempo finito com papel e caneta."
   ]
  },
  {
   "cell_type": "markdown",
   "metadata": {},
   "source": [
    "Podemos fazer uma prévia do nosso algoritmo:"
   ]
  },
  {
   "cell_type": "code",
   "execution_count": null,
   "metadata": {},
   "outputs": [],
   "source": [
    "#=\n",
    "1. Entrada: x\n",
    "2. Inicialização: a ← x, n ← 1.\n",
    "3. Enquanto a > 1\n",
    "    1. Se a é par,\n",
    "        faça a ← a/2\n",
    "    2. Caso contrário,\n",
    "        faça a ← 3a + 1.\n",
    "    3. Incremente n.\n",
    "4. Saída: n.\n",
    "=#"
   ]
  },
  {
   "cell_type": "markdown",
   "metadata": {},
   "source": [
    "Nosso algoritmo para encontrar o primeiro elemento está quase feito. A entrada, saída, e todos os passos estão claros. Todos os passos são triviamente feitos com papel e caneta.\n",
    "No entanto, temos alguns pequenos problemas:\n",
    "\n",
    "- **E se a conjectura for falsa?**\n",
    "Se a conjectura é verdadeira, o algoritmo para quando encontra `1`, que pela conjectura, existe. Mas se não existe, pode ser que tenhamos um loop infinito. Dessa maneira, iremos colocar uma **condição de parada** para a falha do algoritmo. Não existe uma regra para a condição de parada. Deve-se tomar cuidado, no entanto, para não excluir a possibilidade do algoritmo funcionar em muitos casos. Uma condição de parada possível neste caso é que `n` seja muito grande. Se, por exemplo, fizermos 1 milhão de iterações e não encontrarmos `a_n = 1`, então talvez ele não exista. Note que essa condição exclui algumas soluções de aparecerem, por exemplo\n",
    "$$ a_1 = 2^{1.000.000}. $$\n",
    "É fácil ver que $a_n = 2^{1.000.001 - n}$, de modo que para `n = 1.000.001` teremos $a_n = 1$.\n",
    "\n",
    "Muitas vezes a condições de parada de falha é um limitante físico para deixar o algoritmo tratável. É muito fácil escolher um número `x` tal que nosso algoritmo leve horas para convergir. Não é do nosso interesse esperar tanto para um algoritmo recreativo. Poderíamos colocar uma condição de tempo então. Qual condição escolher é um assunto complicado, que depende de muitos outros fatores além da disciplina.\n",
    "Em especial, a teoria matemática arredor do problema deve ser considerada. Imagine que a conjectura de Collatz é falsa, e que `x` é um valor finito tal que a sequência gerada com `a_1 = x` nunca decresça à `1`. *Como é possível verificar que `x` é um contra-exemplo para a conjectura?*"
   ]
  },
  {
   "cell_type": "markdown",
   "metadata": {},
   "source": [
    "- **O maior inteiro.**\n",
    "O computador é uma máquina física, com limitações impostas para que seja possível fazer contas determinísticas.\n",
    "Dessa maneira, ele segue regras para definir números inteiros e \"reais\" (as aspas serão explicadas depois), e essas regras limitam o maior inteiro que pode ser representado por um tipo específico de dado.\n",
    "Mais importante, esse valor é independente da linguagem. A saber, o tipo de inteiro básico do Julia é o `Int64`, de 64 bits, e cujo maior valor é $2^{63}-1 \\approx 10^{18}$. Coisas estranhas acontecem se fizermos qualquer conta com esse valor, de modo que é imperativo não ultrapassá-lo. Vamos colocar uma nova condição de parada no nosso código: se $a > 10^{17}$, também paramos."
   ]
  },
  {
   "cell_type": "code",
   "execution_count": null,
   "metadata": {},
   "outputs": [],
   "source": [
    "#=\n",
    "1. Entrada: x ∈ N\n",
    "2. Inicialização: a ← x, n ← 1, a_bound = 10^17, n_bound = 1_000_000\n",
    "3. Se a ≦ 0\n",
    "    faça n ← 0\n",
    "    termine o algoritmo\n",
    "4. Enquanto a > 1\n",
    "    1. Se a é par,\n",
    "        faça a ← a/2\n",
    "    2. Caso contrário,\n",
    "        faça a ← 3a + 1.\n",
    "    3. Incremente n.\n",
    "    4. Se a > a_bound\n",
    "        faça n ← -1 e termine o algoritmo\n",
    "    5. Se n > n_bound\n",
    "        faça n ← -2 e termine o algoritmo\n",
    "5. Saída: n\n",
    "    Se n > 0, então a_n = 1: Saída bem sucedida,\n",
    "    Se n = 0, então x ≦ 0: Saída de erro na entrada,\n",
    "    Se n = -1, então a ficou muito grande: Saída de valor muito grande,\n",
    "    Se n = -2, então n ficou muito grande: Saída de muitas iterações.\n",
    "=#"
   ]
  },
  {
   "cell_type": "code",
   "execution_count": null,
   "metadata": {},
   "outputs": [],
   "source": [
    "function collatz(a::Int; a_bound = 10^17, n_bound = 1_000_000) # O mesmo que começar com x e atribuir x à a.\n",
    "    n = 1\n",
    "    if a <= 0\n",
    "        return 0\n",
    "    end\n",
    "    while a > 1\n",
    "        if a % 2 == 0\n",
    "            a = div(a, 2)\n",
    "        else\n",
    "            a = 3a + 1\n",
    "        end\n",
    "        n += 1\n",
    "        if a > a_bound\n",
    "            return -1\n",
    "        elseif n > n_bound\n",
    "            return -2\n",
    "        end\n",
    "    end\n",
    "    return n\n",
    "end"
   ]
  },
  {
   "cell_type": "code",
   "execution_count": null,
   "metadata": {},
   "outputs": [],
   "source": [
    "collatz(5)"
   ]
  },
  {
   "cell_type": "code",
   "execution_count": null,
   "metadata": {},
   "outputs": [],
   "source": [
    "collatz(2^30, n_bound=10)"
   ]
  },
  {
   "cell_type": "code",
   "execution_count": null,
   "metadata": {},
   "outputs": [],
   "source": [
    "collatz(1)"
   ]
  },
  {
   "cell_type": "code",
   "execution_count": null,
   "metadata": {},
   "outputs": [],
   "source": [
    "collatz(10^17+2)"
   ]
  },
  {
   "cell_type": "markdown",
   "metadata": {},
   "source": [
    "## Fibonacci\n",
    "\n",
    "Vamos continuar nosso exemplo com mais uma sequência interessante, a de Fibonacci:\n",
    "\n",
    "$$ F_1 = F_2 = 1 \\qquad F_{n+1} = F_n + F_{n-1}. $$"
   ]
  },
  {
   "cell_type": "markdown",
   "metadata": {},
   "source": [
    "A sequência de Fibonacci envolve dois termos, e cresce infinitamente. Existem vários motivos para se trabalhar com a série de Fibonacci, mas vamos utilizá-la recreativamente.\n",
    "Vamos criar um simples algoritmo para calcular o n-ésimo termo da série de Fibonacci. Assuma, por enquanto, que todos os termos serão bem representados por inteiros de 64 bits."
   ]
  },
  {
   "cell_type": "code",
   "execution_count": null,
   "metadata": {},
   "outputs": [],
   "source": [
    "#=\n",
    "   Entrada: n inteiro\n",
    "1. Se n ≦ 0\n",
    "    retorne 0\n",
    "2. Se n = 1 ou n = 2\n",
    "    retorne 1\n",
    "3. Inicialização: F1 ← 1, F2 ← 1, k ← 2\n",
    "4. Enquanto k < n\n",
    "    1. Fnovo ← F1 + F2  # Isso calcula o valor novo\n",
    "    2. F1 ← F2 # O valor F2 passa a ser o mais antigo dos dois\n",
    "    3. F2 ← Fnovo # O valor Fnovo passa a ser o anterior\n",
    "    4. Incremente k\n",
    "5. Retorne F2.\n",
    "    Saída: 0 se a entrada estava incorreta,\n",
    "           F_n caso contrário.\n",
    "=#"
   ]
  },
  {
   "cell_type": "code",
   "execution_count": null,
   "metadata": {},
   "outputs": [],
   "source": [
    "function fibon(n)\n",
    "    # Exercício: Implemente este código\n",
    "end"
   ]
  },
  {
   "cell_type": "code",
   "execution_count": null,
   "metadata": {},
   "outputs": [],
   "source": [
    "for n = 1:20\n",
    "    println(\"F_$n = $(fibon(n))\")\n",
    "end"
   ]
  },
  {
   "cell_type": "markdown",
   "metadata": {},
   "source": [
    "É bastante simple calcular um elemento da sequência de Fibonacci, e é interessante que podemos explorar outra maneira de fazer isso."
   ]
  },
  {
   "cell_type": "markdown",
   "metadata": {},
   "source": [
    "### Recursão"
   ]
  },
  {
   "cell_type": "code",
   "execution_count": null,
   "metadata": {},
   "outputs": [],
   "source": [
    "function fat_por_recursao(n::Int)\n",
    "    if n < 0\n",
    "        error(\"BLAH\")\n",
    "    end\n",
    "    if n == 0\n",
    "        return 1\n",
    "    end\n",
    "    return n * fat_por_recursao(n - 1)\n",
    "end"
   ]
  },
  {
   "cell_type": "code",
   "execution_count": null,
   "metadata": {},
   "outputs": [],
   "source": [
    "fat_por_recursao(21)"
   ]
  },
  {
   "cell_type": "code",
   "execution_count": null,
   "metadata": {},
   "outputs": [],
   "source": [
    "# operador ternário\n",
    "# PROP ? Resultado se SIM : Resultado se NAO\n",
    "5 > 30 ? \"ok\" : \"oops\""
   ]
  },
  {
   "cell_type": "code",
   "execution_count": null,
   "metadata": {},
   "outputs": [],
   "source": [
    "fat_uma_linha(n::Int) = n == 0 ? 1 : n * fat_uma_linha(n - 1)"
   ]
  },
  {
   "cell_type": "code",
   "execution_count": null,
   "metadata": {},
   "outputs": [],
   "source": [
    "fat_uma_linha(5)"
   ]
  },
  {
   "cell_type": "markdown",
   "metadata": {},
   "source": [
    "Recursão é uma das partes mais importantes no desenvolvimento de códigos. Muitas estratégias computacionais e matemáticas envolvem o chamado \"dividir e conquistar\" ou \"reduzir para um caso conhecido\". Em particular, demonstrações por indução finita fazem uma coisa parecida, onde você supõe saber resolver para um caso e consegue resolver um caso de nível superior reduzindo-o ao caso conhecido."
   ]
  },
  {
   "cell_type": "markdown",
   "metadata": {},
   "source": [
    "Computacionalmente, podemos pensar em recursão como a divisão de um problema em outros, cada um destes menor que o primeiro. Para cada problema menor, repetimos o processo. Como não podemos ter um loop infinito, é necessário terminar essa redução de alguma maneira. Essa maneira envolve, simplesmente, saber resolver alguns casos de problema menor (que garantam a convergência)."
   ]
  },
  {
   "cell_type": "markdown",
   "metadata": {},
   "source": [
    "No caso de Fibonacci, o cálculo do n-ésimo termo é feito calculando os termos n-1 e n-2.\n",
    "Os casos n-1 e n-2 são, de fato, menores. Além disso, repetindo este processo chegaremos a dois casos: n = 1 ou n = 2. Desse modo, temos\n",
    "\n",
    "- casos pequenos que conseguimos resolver trivialmente;\n",
    "- uma maneira de reduzir um problema em outros menores;\n",
    "- garantia matemática que essa redução leva aos problemas menores que sabemos resolver.\n",
    "\n",
    "Abaixo temos um pseudo-código."
   ]
  },
  {
   "cell_type": "code",
   "execution_count": null,
   "metadata": {},
   "outputs": [],
   "source": [
    "#=\n",
    "Rotina FIBO(n)\n",
    "Entrada: n\n",
    "1. Se n = 1 ou n = 2\n",
    "    retorne 1\n",
    "2. Senão,\n",
    "    retorna FIBO(n-1) + FIBO(n-2)\n",
    "=#"
   ]
  },
  {
   "cell_type": "code",
   "execution_count": null,
   "metadata": {},
   "outputs": [],
   "source": [
    "function FIBO(n)\n",
    "    if n <= 2\n",
    "        return min(1, max(n, 0)) # Pequeno truque\n",
    "    else\n",
    "        return FIBO(n-1) + FIBO(n-2)\n",
    "    end\n",
    "end"
   ]
  },
  {
   "cell_type": "code",
   "execution_count": null,
   "metadata": {},
   "outputs": [],
   "source": [
    "FIBO(10)"
   ]
  },
  {
   "cell_type": "code",
   "execution_count": null,
   "metadata": {},
   "outputs": [],
   "source": [
    "for n = 1:20\n",
    "    println(\"F_$n = $(FIBO(n))\")\n",
    "end"
   ]
  },
  {
   "cell_type": "markdown",
   "metadata": {},
   "source": [
    "Muitas vezes, o código de recursão será mais curto.\n",
    "Em particular, em Julia (e C) temos o chamado **operador ternário**, que nos permite fazer a pergunta `if ... else ... end` em uma única linha.\n",
    "Desse modo, temos uma implementação curtíssima de Fibonacci:"
   ]
  },
  {
   "cell_type": "code",
   "execution_count": null,
   "metadata": {},
   "outputs": [],
   "source": [
    "F(n) = n <= 2 ? min(1, max(n, 0)) : F(n-1) + F(n-2)"
   ]
  },
  {
   "cell_type": "code",
   "execution_count": null,
   "metadata": {},
   "outputs": [],
   "source": [
    "for n = 1:20\n",
    "    println(\"F_$n = $(F(n))\")\n",
    "end"
   ]
  },
  {
   "cell_type": "markdown",
   "metadata": {},
   "source": [
    "No entanto, é importante ter cuidado ao utilizar recursão. O custo computacional fica escondido nas chamadas de função, e às vezes podemos deixar um código muito mais complicado do que deveria.\n",
    "No caso de Fibonacci, por exemplo, ao calcular `F(n)`, pedimos o cálculo de `F(n-1)` e `F(n-2)`, mas o cálculo de `F(n-1)` irá pedir o cálculo de `F(n-2)` e `F(n-3)`, ou seja, `F(n-2)` será calculado duas vezes!"
   ]
  },
  {
   "cell_type": "code",
   "execution_count": null,
   "metadata": {},
   "outputs": [],
   "source": [
    "function FIBO_comprint(n)\n",
    "    println(\"Chamada: F$n\")\n",
    "    if n <= 2\n",
    "        return min(1, max(n, 0)) # Pequeno truque\n",
    "    else\n",
    "        return FIBO_comprint(n-1) + FIBO_comprint(n-2)\n",
    "    end\n",
    "end"
   ]
  },
  {
   "cell_type": "code",
   "execution_count": null,
   "metadata": {},
   "outputs": [],
   "source": [
    "FIBO_comprint(5)"
   ]
  },
  {
   "cell_type": "markdown",
   "metadata": {},
   "source": [
    "Em outras palavras, Fibonacci com recursão acaba sendo muito mais caro que Fibonacci usando `for` ou `while`. Tome cuidado com essas armadilhas.\n",
    "\n",
    "**Leitura adicional:** Existe um conceito chamada \"Avaliação preguiçosa\", que consiste na avaliação dos valores somente quando são necessários. Em Julia, o pacote `Lazy.jl` implementa esse conceito. Se a avaliação de `F(n)` for feita de maneira preguiçosa, não haverá o custo adicional do cálculo de $F_n$ repetidos."
   ]
  },
  {
   "cell_type": "markdown",
   "metadata": {},
   "source": [
    "## Mais Fibonacci"
   ]
  },
  {
   "cell_type": "markdown",
   "metadata": {},
   "source": [
    "Vamos voltar nossa atenção ao problema inicial de Fibonacci: calcular o n-ésimo termo. Nossas últimas discussões foram todas no sentido de como calcular os elementos de Fibonacci termo a termo ou recursivamente. Porém, matematicamente, o n-ésimo termo de Fibonacci é bem definido!"
   ]
  },
  {
   "cell_type": "markdown",
   "metadata": {},
   "source": [
    "$$ F_n = \\frac{\\phi^n - \\psi^n}{\\sqrt{5}}, $$\n",
    "onde $$\\phi = \\frac{1 + \\sqrt{5}}{2}$$ e $$\\psi = \\frac{1 - \\sqrt{5}}{2} = 1 - \\phi. $$"
   ]
  },
  {
   "cell_type": "markdown",
   "metadata": {},
   "source": [
    "Isso quer dizer que podemos calcular Fibonacci com uma fórmula direta."
   ]
  },
  {
   "cell_type": "code",
   "execution_count": null,
   "metadata": {},
   "outputs": [],
   "source": [
    "phi = (1 + sqrt(5))/2\n",
    "psi = 1 - phi\n",
    "for n = 1:20\n",
    "    Fn = (phi^n - psi^n)/sqrt(5)\n",
    "    println(\"F_$n = $Fn\")\n",
    "end"
   ]
  },
  {
   "cell_type": "markdown",
   "metadata": {},
   "source": [
    "Perceba que o problema aqui agora é outro. Os valores não estão mais \"corretos\". Na verdade, quase todos contém um pequeno **erro**."
   ]
  },
  {
   "cell_type": "markdown",
   "metadata": {},
   "source": [
    "Quão pequeno?"
   ]
  },
  {
   "cell_type": "code",
   "execution_count": null,
   "metadata": {},
   "outputs": [],
   "source": [
    "phi = (1 + sqrt(5))/2\n",
    "psi = 1 - phi\n",
    "F1 = F2 = 1\n",
    "Fnovo = 1\n",
    "for n = 3:93\n",
    "    Fn = (phi^n - psi^n)/sqrt(5)\n",
    "    Fnovo = F1 + F2\n",
    "    F2 = F1\n",
    "    F1 = Fnovo\n",
    "    println(\"F_$n = $Fnovo, Diferença F_$n = $(Fn - Fnovo)\")\n",
    "end"
   ]
  },
  {
   "cell_type": "markdown",
   "metadata": {},
   "source": [
    "Impressionantemente, esse erro não é tão pequeno assim. Ele cresce com o tamanho de `n`, de modo que essa aproximação é inviável para valores grandes de `n`."
   ]
  },
  {
   "cell_type": "markdown",
   "metadata": {},
   "source": [
    "A fórmula para o n-ésimo número de Fibonacci é\n",
    "$$ F_n = \\frac{\\phi^n - \\psi^n}{\\sqrt{5}}. $$"
   ]
  },
  {
   "cell_type": "markdown",
   "metadata": {},
   "source": [
    "Acontece que $\\phi > 1$ e $0 < \\psi < 1$, então a distância entre $\\phi^n$ e $\\psi^n$ cresce bastante com $n$.\n",
    "Além disso, ambos são irracionais, então seus valores já são aproximados. Neste caso, é mais simples calcular os números de Fibonacci utilizando `for` ou `while` com inteiros.\n",
    "Claro que isso também vai depender do motivo para se calcular esses números."
   ]
  },
  {
   "cell_type": "markdown",
   "metadata": {},
   "source": [
    "# Aproximações de Séries"
   ]
  },
  {
   "cell_type": "markdown",
   "metadata": {},
   "source": [
    "Vamos para um assunto levemente diferente. Uma série é uma soma de infinitos termos numa ordem dada.\n",
    "$$ S = \\sum_{k = 1}^{\\infty} a_k. $$\n",
    "A questão aqui é, em geral, se essa soma existe ou não. Para tanto, define-se uma sequência $(s_1,s_2,\\dots,s_n,\\dots)$ dada por\n",
    "$$ s_n = \\sum_{k = 1}^n a_k. $$"
   ]
  },
  {
   "cell_type": "markdown",
   "metadata": {},
   "source": [
    "Se essa sequência convergence, então essa série converge."
   ]
  },
  {
   "cell_type": "markdown",
   "metadata": {},
   "source": [
    "Computacionalmente, em geral, estamos mais preocupados em calcular essa soma. Um resultado básico de série diz que para que a série convirja, é necessário que $a_k \\rightarrow 0$. Como já vimos, isso irá nos causar alguns problemas, dado que\n",
    "$$ s_{n+1} = s_n + a_{n+1}, $$\n",
    "e $a_{n+1}$ vai eventualmente ser muito pequeno."
   ]
  },
  {
   "cell_type": "markdown",
   "metadata": {},
   "source": [
    "Matematicamente, muitas vezes temos um objetivo, como calcular $\\pi$, que pode ser obtido pelo cálculo de uma série. Devemos nos preocupar em como fazer isso de uma maneira computacional eficiente que não perca muita precisão. Frequentemente, teremos limites computacionais para essa eficiência, e aí devemos voltar à matemática para conseguir alguma maneira melhor de resolver o problema inicial."
   ]
  },
  {
   "cell_type": "markdown",
   "metadata": {},
   "source": [
    "## Expansão de Taylor"
   ]
  },
  {
   "cell_type": "markdown",
   "metadata": {},
   "source": [
    "Como deve ter sido visto no curso de Cálculo, uma função continuamente diferenciável até ordem $n$ admite uma aproximação polinomial em torno de um ponto $a$ de seu domínio dada por\n",
    "$$ P_n(x) = f(a) + f'(a)(x-a) + \\frac{1}{2}f''(a)(x-a)^2 + \\frac{1}{3!}f'''(a)(x-a)^3 + \\dots + \\frac{1}{n!}f^{(n)}(a)(x-a)^n. $$"
   ]
  },
  {
   "cell_type": "markdown",
   "metadata": {},
   "source": [
    "Esse polinômio é chamado polinômio de Taylor de ordem $n$ em torno do ponto $a$, e existem alguns teoremas indicando o quão boa é essa aproximação."
   ]
  },
  {
   "cell_type": "markdown",
   "metadata": {},
   "source": [
    "**Teorema:** Se $f$ é continuamente diferenciável até ordem $n$ no ponto $a$, então\n",
    "$$ f(x) = P_n(x) + r_n(x), $$\n",
    "onde\n",
    "$$ \\lim_{x \\rightarrow a} \\frac{ r_n(x) }{ |x - a|^n } = 0. $$"
   ]
  },
  {
   "cell_type": "markdown",
   "metadata": {},
   "source": [
    "**Teorema:** Se $f$ é continuamente diferenciável até ordem $n+1$ no intervalo fechado de $a$ à $x$, então\n",
    "$$ f(x) = P_n(x) + \\int_a^x \\frac{f^{(n+1)}(t)}{n!}(x-t)^n \\mbox{d} t. $$"
   ]
  },
  {
   "cell_type": "markdown",
   "metadata": {},
   "source": [
    "**Teorema:** Se $f$ é continuamente diferenciável até ordem $n+1$ num intervalo aberto contento $a$ e $f^{(n)}$ é contínua no intervalo fechado de $a$ à $x$, então\n",
    "$$ f(x) = P_n(x) + \\frac{1}{(n+1)!} f^{(n+1)}(\\xi)(x - a)^{n + 1}, $$\n",
    "onde $\\xi$ é um número real entre $a$ e $x$."
   ]
  },
  {
   "cell_type": "markdown",
   "metadata": {},
   "source": [
    "Podemos usar o conceito da expansão de Taylor para calcular numericamente alguns valores de funções não polinomiais. O caso mais comum é o da função $\\exp(x) = e^x$, onde $e$ é o número de Euler."
   ]
  },
  {
   "cell_type": "code",
   "execution_count": null,
   "metadata": {},
   "outputs": [],
   "source": [
    "e"
   ]
  },
  {
   "cell_type": "markdown",
   "metadata": {},
   "source": [
    "*Aviso: A função exponencial já costuma estar implementada em baixo nível, no entanto faremos este estudo por questões didáticas.*"
   ]
  },
  {
   "cell_type": "markdown",
   "metadata": {},
   "source": [
    "A função $e^x$ tem a seguinte expansão de Taylor em torno do ponto $0$.\n",
    "$$ e^x = 1 + x + \\frac{x^2}{2} + \\frac{x^3}{3!} + \\frac{x^4}{4!} + \\dots + \\frac{x^n}{n!} + \\dots. $$"
   ]
  },
  {
   "cell_type": "markdown",
   "metadata": {},
   "source": [
    "Então é bastante simples definir um algoritmo que calcule a aproximação da exponecial dado $x$ e $n$."
   ]
  },
  {
   "cell_type": "code",
   "execution_count": null,
   "metadata": {},
   "outputs": [],
   "source": [
    "#=\n",
    "    Entrada: x e n ≧ 0\n",
    "1. Inicialização: E ← 1.0\n",
    "2. Para k de 1 à n\n",
    "    1. E ← E + x^k/k!\n",
    "3. Retorne E\n",
    "    Saída: E ≈ eˣ com n termos da expansão de Taylor\n",
    "=#"
   ]
  },
  {
   "cell_type": "code",
   "execution_count": null,
   "metadata": {},
   "outputs": [],
   "source": [
    "E = 1.0\n",
    "E += 1.0   # k = 1\n",
    "E += 0.5   # k = 2\n",
    "E += 1/6   # k = 3\n",
    "E += 1/24  # k = 4\n",
    "E += 1/120 # k = 5"
   ]
  },
  {
   "cell_type": "code",
   "execution_count": null,
   "metadata": {},
   "outputs": [],
   "source": [
    "e - E"
   ]
  },
  {
   "cell_type": "code",
   "execution_count": null,
   "metadata": {},
   "outputs": [],
   "source": [
    "function exponencial(x, n)\n",
    "    # Exercício. Usa a função factorial(n) para calcular n!\n",
    "end"
   ]
  },
  {
   "cell_type": "markdown",
   "metadata": {},
   "source": [
    "Vamos testar nossa função contra `exp`, calculando o erro dessa aproximação.\n",
    "No entanto, note que a função exponencial cresce rapidamente, e como vimos, a precisão de um valor é relativo ao valor. Sendo assim, vamos utilizar o **erro relativo** na nossa comparação."
   ]
  },
  {
   "cell_type": "markdown",
   "metadata": {},
   "source": [
    "**Definição:** O erro cometido ao se aproximar $x$ por $x'$ é $x - x'$.\n",
    "\n",
    "**Definição:** O **erro absoluto** cometido ao se aproximar $x$ por $x'$ é $|x - x'|$.\n",
    "\n",
    "**Definição:** O **erro relativo** cometido ao se aproximar $x$ por $x'$ é $\\dfrac{|x - x'|}{|x|}$."
   ]
  },
  {
   "cell_type": "code",
   "execution_count": null,
   "metadata": {},
   "outputs": [],
   "source": [
    "using Plots\n",
    "pyplot(size=(400,300))"
   ]
  },
  {
   "cell_type": "code",
   "execution_count": null,
   "metadata": {},
   "outputs": [],
   "source": [
    "N = collect(1:20)\n",
    "Erro = [abs(exponencial(1.0, n) - exp(1.0))/exp(1.0) for n in N]\n",
    "scatter(N, Erro, yaxis=:log)"
   ]
  },
  {
   "cell_type": "markdown",
   "metadata": {},
   "source": [
    "Note que após $n = 17$, o erro é sempre a precisão da máquina. Isso quer dizer que os termos $a_n$ com $n > 17$ não afetam a soma, computacionalmente."
   ]
  },
  {
   "cell_type": "code",
   "execution_count": null,
   "metadata": {},
   "outputs": [],
   "source": [
    "Erro = [abs(exponencial(5.0, n) - exp(5.0))/exp(5.0) for n in N]\n",
    "scatter(N, Erro, yaxis=:log)"
   ]
  },
  {
   "cell_type": "markdown",
   "metadata": {},
   "source": [
    "Veja que é erro é muito maior para $x = 5$ do que para $x = 1$. Isso acontece porque os termos além de $n > 20$  ainda são importantes para a aproximação de $e^5$.\n",
    "A primeira vista, uma simples solução seria utilizar $n > 20$, mas veja o que acontece com nossa implementação."
   ]
  },
  {
   "cell_type": "markdown",
   "metadata": {},
   "source": [
    "Se você se lembra bem, isso acontece porque para $21!$ é maior que o máximo dos inteiros de 64 bits. Isso quer dizer que para calcular $e^x$ corretamente, devemos dar mais atenção aos detalhes do algoritmo.\n",
    "Note também que $x^n$ pode acabar ficando muito grande para $x$ e $n$ grandes e causar overflow também."
   ]
  },
  {
   "cell_type": "markdown",
   "metadata": {},
   "source": [
    "Revisitando nossa soma:\n",
    "$$ s_n = 1 + x + \\frac{x^2}{2} + \\dots + \\frac{x^n}{n!}, $$\n",
    "de modo que\n",
    "$$ s_n = s_{n-1} + \\frac{x^n}{n!}. $$\n",
    "O termo à direita da soma não pode ser calculado diretamente pois cada termo da fração pode \"explodir\" (termo que utilizarei para dizer causar overflow). No entanto, o resultado da fração é bem comportado, então podemos tentar chegar nesse valor de outra maneira."
   ]
  },
  {
   "cell_type": "markdown",
   "metadata": {},
   "source": [
    "Veja que\n",
    "$$ \\frac{x^n}{n!} = \\frac{x\\times x\\times x\\times\\dots\\times x}{1\\times2\\times3\\times\\dots\\times n}\n",
    "= \\frac{x}{1}\\times\\frac{x}{2}\\times\\frac{x}{3}\\times\\dots\\times\\frac{x}{n},\n",
    "$$\n",
    "então podemos fazer esse cálculo seguindo essa ordem, de maneira que o produto todo ficará equilibrado."
   ]
  },
  {
   "cell_type": "markdown",
   "metadata": {},
   "source": [
    "No entanto, é possível deixar esse produto mais eficiente. Note que se chamarmos $t_n = \\dfrac{x^n}{n!}$, então\n",
    "\n",
    "$$ s_n = s_{n-1} + t_n, $$\n",
    "e\n",
    "$$ t_n = t_{n-1}\\times\\frac{x}{n}. $$"
   ]
  },
  {
   "cell_type": "markdown",
   "metadata": {},
   "source": [
    "Em outras palavras, a sequência que é somada também pode ser calculada utilizando o termo anterior. Cada iteração fará então apenas um produto, uma divisão, e uma soma."
   ]
  },
  {
   "cell_type": "code",
   "execution_count": null,
   "metadata": {},
   "outputs": [],
   "source": [
    "#=\n",
    "    Entrada: x e n ≧ 0\n",
    "1. Inicialização: E ← 1.0, t ← 1.0\n",
    "2. Para k de 1 à n\n",
    "    1. t ← t * x / k\n",
    "    2. E ← E + t\n",
    "3. Retorne E\n",
    "    Saída: E ≈ eˣ com n termos da expansão de Taylor\n",
    "=#"
   ]
  },
  {
   "cell_type": "code",
   "execution_count": null,
   "metadata": {},
   "outputs": [],
   "source": [
    "function exponencial2(x, n)\n",
    "    # Implemente\n",
    "end"
   ]
  },
  {
   "cell_type": "code",
   "execution_count": null,
   "metadata": {},
   "outputs": [],
   "source": [
    "N = collect(1:50)\n",
    "Erro = [abs(exponencial2(5.0, n) - exp(5.0))/exp(5.0) for n in N]\n",
    "Erro[find(Erro .== 0.0)] = eps()\n",
    "scatter(N, abs.(Erro), yaxis=:log)"
   ]
  },
  {
   "cell_type": "code",
   "execution_count": null,
   "metadata": {},
   "outputs": [],
   "source": [
    "N = collect(1:50)\n",
    "Erro = [abs(exponencial2(10.0, n) - exp(10.0))/exp(10.0) for n in N]\n",
    "Erro[find(Erro .== 0.0)] = eps()\n",
    "scatter(N, Erro, yaxis=:log)\n",
    "ylims!(eps()/2, 1.0)"
   ]
  },
  {
   "cell_type": "markdown",
   "metadata": {},
   "source": [
    "Perceba agora que a função `exp` não recebe um $n$ específico. A quantidade de termos calculados é específico para o valor $x$. Para $x = 0$, $n = 0$ basta, para $x = 1$, $n = 17$ basta, para $x = 10$, $n = 45$ foi necessário."
   ]
  },
  {
   "cell_type": "markdown",
   "metadata": {},
   "source": [
    "Em particular, como estamos fazendo uma atualização do tipo $s_n = s_{n-1} + t_n$ e $t_n$ tende a 0, podemos verificar se obtivemos um erro de arredondamento na soma, de modo que os termos seguintes também não acrescentarão nada."
   ]
  },
  {
   "cell_type": "code",
   "execution_count": null,
   "metadata": {},
   "outputs": [],
   "source": [
    "#=\n",
    "    Entrada: x\n",
    "1. Inicialização: E ← 1.0, t ← x, k ← 1\n",
    "2. Enquanto E + t ≠ E\n",
    "    1. E ← E + t\n",
    "    2. Incremente k\n",
    "    3. t ← t * x / k\n",
    "3. Retorne E\n",
    "    Saída: E ≈ eˣ\n",
    "=#"
   ]
  },
  {
   "cell_type": "code",
   "execution_count": null,
   "metadata": {},
   "outputs": [],
   "source": [
    "function exponencial3(x)\n",
    "    # Implemente\n",
    "end"
   ]
  },
  {
   "cell_type": "code",
   "execution_count": null,
   "metadata": {},
   "outputs": [],
   "source": [
    "plot(x->exp(x) - exponencial3(x), 0, 10.0)"
   ]
  },
  {
   "cell_type": "code",
   "execution_count": null,
   "metadata": {},
   "outputs": [],
   "source": [
    "plot(x->abs(exp(x) - exponencial3(x))/exp(x), 0, 10.0)"
   ]
  },
  {
   "cell_type": "markdown",
   "metadata": {},
   "source": [
    "Por fim, vejamos o que acontece com $x < 0$."
   ]
  },
  {
   "cell_type": "code",
   "execution_count": null,
   "metadata": {},
   "outputs": [],
   "source": [
    "plot(x->abs(exp(x) - exponencial3(x))/exp(x), -10.0, 10.0)"
   ]
  },
  {
   "cell_type": "markdown",
   "metadata": {},
   "source": [
    "O erro cresce novamente. Isso acontece porque o termo $t_n$ fica alternando de sinal, e fica pequeno antes de contribuir o suficiente para fazer a diferença necessária.\n",
    "Uma maneira de remediar esse problema é usar a relação $e^x = \\dfrac{1}{e^{-x}}$."
   ]
  },
  {
   "cell_type": "code",
   "execution_count": null,
   "metadata": {},
   "outputs": [],
   "source": [
    "function exponencial4(x)\n",
    "    if x < 0\n",
    "        return 1.0/exponencial4(-x)\n",
    "    end\n",
    "    # Implemente\n",
    "end"
   ]
  },
  {
   "cell_type": "code",
   "execution_count": null,
   "metadata": {},
   "outputs": [],
   "source": [
    "plot(x->abs(exp(x) - exponencial4(x))/exp(x), -10.0, 10.0)"
   ]
  },
  {
   "cell_type": "markdown",
   "metadata": {},
   "source": [
    "## Cálculo de $\\pi$"
   ]
  },
  {
   "cell_type": "markdown",
   "metadata": {},
   "source": [
    "Um tópico bastante interessante de computação matemática é o cálculo do valor de $\\pi$. O interesse no cálculo de $\\pi$ é antigo, e existem várias maneiras de fazê-lo. Além disso, a busca pelo valor de $\\pi$ com a maior quantidade de dígitos corretos é uma disputa matemática bastante acirrada."
   ]
  },
  {
   "cell_type": "markdown",
   "metadata": {},
   "source": [
    "Das maneiras de calcular $\\pi$, uma das mais interessantes, em minha opinião, é através da identidade\n",
    "$$ \\arctan 1 = \\frac{\\pi}{4} \\qquad \\Rightarrow \\qquad \\pi = 4 \\arctan 1. $$"
   ]
  },
  {
   "cell_type": "markdown",
   "metadata": {},
   "source": [
    "Agora, utilizamos a derivada de $\\arctan$:\n",
    "$$ \\frac{\\mbox{d}}{\\mbox{d}x}\\arctan x = \\frac{1}{1+x^2}, $$\n",
    "e a expansão da fração para $|x| < 1$:\n",
    "$$ \\frac{1}{1+x^2} = 1 - x^2 + x^4 - x^6 + \\dots + (-1)^n x^{2n} + \\dots. $$"
   ]
  },
  {
   "cell_type": "markdown",
   "metadata": {},
   "source": [
    "Integrando, temos\n",
    "$$ \\arctan x = x - \\frac{x^3}{3} + \\frac{x^5}{5} - \\frac{x^7}{7} + \\dots + (-1)^n\\frac{x^{2n+1}}{2n+1} + \n",
    "\\dots$$"
   ]
  },
  {
   "cell_type": "markdown",
   "metadata": {},
   "source": [
    "É possível mostrar que essa série converge para $x = 1$ também, de modo que\n",
    "$$ \\frac{\\pi}{4} = \\arctan 1 = 1 - \\frac{1}{3} + \\frac{1}{5} - \\frac{1}{7} + \\dots \\frac{(-1)^n}{2n+1} + \\dots. $$"
   ]
  },
  {
   "cell_type": "markdown",
   "metadata": {},
   "source": [
    "Utilizando conceitos parecidos com o da expansão da exponencial, podemos calcular $\\pi$ sem precisar passar um valor de $n$, **porém**, essa convergência é muito lento. No exemplo abaixo, colocaremos uma condição de parada para $n > 1.000.000.000$."
   ]
  },
  {
   "cell_type": "code",
   "execution_count": null,
   "metadata": {},
   "outputs": [],
   "source": [
    "function pi_atan()\n",
    "    S = 1.0\n",
    "    n = 1\n",
    "    σ = -1\n",
    "    t = σ/(2n+1)\n",
    "    while S + t != S\n",
    "        S += t\n",
    "        σ = -σ\n",
    "        n += 1\n",
    "        t = σ/(2n+1)\n",
    "        if n > 1_000_000_000\n",
    "            break\n",
    "        end\n",
    "    end\n",
    "    return 4S\n",
    "end"
   ]
  },
  {
   "cell_type": "code",
   "execution_count": null,
   "metadata": {},
   "outputs": [],
   "source": [
    "@time pi_atan() - pi"
   ]
  },
  {
   "cell_type": "markdown",
   "metadata": {},
   "source": [
    "O valor é, de fato, calculado até uma aproximação razoável, mas demora muito e leva muitas iterações.\n",
    "Por sorte, existem dezenas de outras maneiras de se calcular $\\pi$."
   ]
  },
  {
   "cell_type": "markdown",
   "metadata": {},
   "source": [
    "Uma dessas maneiras é a série\n",
    "$$ \\pi = \\sqrt{12}\\bigg(1 - \\frac{1}{3\\times 3} + \\frac{1}{5\\times 3^2} - \\frac{1}{7\\times 3^3} + \\frac{1}{9\\times 3^4} - \\dots\\bigg) = \\sqrt{12}\\sum_{k=0}^{\\infty}\\frac{(-1)^k}{(2k+1)3^k}. $$"
   ]
  },
  {
   "cell_type": "code",
   "execution_count": null,
   "metadata": {},
   "outputs": [],
   "source": [
    "function pi_madhava()\n",
    "    S = 1.0\n",
    "    third = 1.0/3.0\n",
    "    σ = -1\n",
    "    pow_third = third\n",
    "    t = σ * third * third\n",
    "    n = 1\n",
    "    while S + t != S\n",
    "        S += t\n",
    "        n += 1\n",
    "        pow_third *= third\n",
    "        σ = -σ\n",
    "        t = σ * pow_third / (2n + 1)\n",
    "    end\n",
    "    println(\"n = $n\") # Usar para mostrar quantas iterações\n",
    "    return sqrt(12) * S\n",
    "end"
   ]
  },
  {
   "cell_type": "code",
   "execution_count": null,
   "metadata": {},
   "outputs": [],
   "source": [
    "pi_madhava() - pi"
   ]
  },
  {
   "cell_type": "markdown",
   "metadata": {},
   "source": [
    "Note que com 31 iterações já chegamos num valor de $\\pi$ decente."
   ]
  },
  {
   "cell_type": "markdown",
   "metadata": {},
   "source": [
    "### $\\pi$ com BigFloat"
   ]
  },
  {
   "cell_type": "markdown",
   "metadata": {},
   "source": [
    "Como dito anteriormente, existe uma busca por $\\pi$ com diversas casas decimais corretas. Você já deve ter percebido que o Julia traz uma implementação própria de $\\pi$, chamada através de `pi`. Essa aproximação pode ser vista com `BigFloat` também."
   ]
  },
  {
   "cell_type": "code",
   "execution_count": null,
   "metadata": {},
   "outputs": [],
   "source": [
    "BigFloat(pi)"
   ]
  },
  {
   "cell_type": "markdown",
   "metadata": {},
   "source": [
    "Podemos modificar nossa implementação para buscar $\\pi$ com `BigFloat` também."
   ]
  },
  {
   "cell_type": "code",
   "execution_count": null,
   "metadata": {},
   "outputs": [],
   "source": [
    "function pi_madhava_BF()\n",
    "    S = BigFloat(1.0)\n",
    "    third = BigFloat(1.0)/3.0\n",
    "    σ = -1\n",
    "    pow_third = third\n",
    "    t = σ * third * third\n",
    "    n = 1\n",
    "    while S + t != S\n",
    "        S += t\n",
    "        n += 1\n",
    "        pow_third *= third\n",
    "        σ = -σ\n",
    "        t = σ * pow_third / (2n + 1)\n",
    "    end\n",
    "    println(\"n = $n\") # Usar para mostrar quantas iterações\n",
    "    return sqrt(BigFloat(12.0)) * S\n",
    "end"
   ]
  },
  {
   "cell_type": "code",
   "execution_count": null,
   "metadata": {},
   "outputs": [],
   "source": [
    "setprecision(2^16)\n",
    "round(Int, -log(eps(BigFloat)))"
   ]
  },
  {
   "cell_type": "code",
   "execution_count": null,
   "metadata": {},
   "outputs": [],
   "source": [
    "@time pi_madhava_BF();"
   ]
  },
  {
   "cell_type": "markdown",
   "metadata": {},
   "source": [
    "# Exercícios\n",
    "\n",
    "Faça os exercícios do capítulo 1 do livro Cálculo Numérico de Ruggiero e Lopes."
   ]
  },
  {
   "cell_type": "markdown",
   "metadata": {
    "collapsed": true
   },
   "source": [
    "2. Calcule a expansão de Taylor das seguintes funções, em torno do ponto a dado:\n",
    "\n",
    "  - $f(x) = x^2 - 5x + 6$, $a = 2$;\n",
    "  - $g(x) = x^3 - 3x^2 + 3x - 1$, $a = 1$;\n",
    "  - $h(x) = e^x$, $a = 0$;\n",
    "  - $z(x) = \\ln (x)$, $a = 1$;\n",
    "\n",
    "4. Faça o que se pede\n",
    "   - Mostre que $\\dfrac{1}{1-x} = 1 + x + x^2 + x^3 + \\dots$, se $|x| < 1$;\n",
    "   - Calcule a derivada de $\\arctan(x)$;\n",
    "   - Utilizando a expansão de Taylor da função encontrada em (b),\n",
    "    encontre a expansão de Taylor de $\\arctan(x)$;\n",
    "   - Encontre uma série que define $\\pi$.\n",
    "\n",
    "5. Considere as seguintes séries e sequências convergentes:\n",
    "\n",
    "  - $2 = 1 + \\frac{1}{2} + \\frac{1}{4} + \\frac{1}{8} + \\dots + \\frac{1}{2^n} + \\dots$.\n",
    "  - $a_{n+1} = \\frac{a_n}{2} + \\frac{1}{a_n}$, com $a_1 = 1$.\n",
    "  - série para $e$, usando 2.c.\n",
    "  - $b_{n+1} = \\sqrt{b_n + 1}$, com $b_1 = 1$.\n",
    "  - $\\phi_n = \\dfrac{F_n}{F_{n-1}}$, onde $F_n$ é o n-ésimo termo de Fibonacci.\n",
    "  - série para $\\pi$ calculada em 4.d.\n",
    "\n",
    "  Para cada uma delas, faça os seguintes itens\n",
    "\n",
    "  - Implemente uma função que recebe um número $n$ e calcula a soma parcial $s_n$\n",
    "    se o item for uma série, ou n-ésimo elemento se o item for uma sequência.\n",
    "    Faça sua função ser o mais econômica possível e evite overflows.\n",
    "  - Faça um gráfico do erro pelo número de termos $n$.\n",
    "  - Dado $\\varepsilon > 0$, é possível determinar n de modo que o erro seja menor que $\\varepsilon$?\n",
    "    Veja quantos casos você consegue fazer isso, ou encontrar algum limitante\n",
    "    desse tipo.\n",
    "\n",
    "6. Usando a expansão de Taylor de $e^x$,\n",
    "\n",
    "  - Implemente uma função que recebe $x$ e $n$, e calcule a soma parcial da\n",
    "    expansão de Taylor até $n$ de $e^x$.\n",
    "  - Usando a fórmula de erro de Lagrange, calcule um limitante para o erro\n",
    "    relativo dessa aproximação. Separe nos casos $x > 0$ e $x < 0$.\n",
    "  - Faça um gráfico do erro relativo no intervalo $[-a,a]$, para valores\n",
    "    diferentes de $n$ e $a$ e, no mesmo gráfico, desenhe o limitante. Use a função\n",
    "    `exp` como referência.\n",
    "    Verifique que para $x < 0$, o erro é maior.\n",
    "  - Faça uma nova implementação de $e^x$, que recebe $x \\geq 0$ e\n",
    "    um argumento opcional $\\varepsilon > 0$ e calcula $e^x$ com erro menor que\n",
    "    $\\varepsilon$.\n",
    "    Note que você não pode usar a função `exp` aqui, apenas as potências de $x$ e os\n",
    "    fatoriais.\n",
    "  - Faça um gráfico do erro relativo no intervalo $[0,a]$, para valores\n",
    "    diferentes de $\\varepsilon$ e $a$ e, no mesmo gráfico, desenhe a reta $y =\n",
    "    \\varepsilon$.\n",
    "  - Verifique que para alguns valores $x < 0$, o erro relativo da aproximação\n",
    "    encontrada pelo seu algoritmo não fica limitado por $\\varepsilon$. Encontre\n",
    "    uma maneira de calcular $e^x$ que limite o erro relativo por $\\varepsilon$\n",
    "    tanto para $x < 0$ como para $x > 0$."
   ]
  },
  {
   "cell_type": "code",
   "execution_count": null,
   "metadata": {},
   "outputs": [],
   "source": []
  }
 ],
 "metadata": {
  "@webio": {
   "lastCommId": "8fffe283e1d848ba80959faff51f8288",
   "lastKernelId": "9f78c946-154a-45eb-aafd-9a3377f186de"
  },
  "kernelspec": {
   "display_name": "Julia 1.1.0",
   "language": "julia",
   "name": "julia-1.1"
  },
  "language_info": {
   "file_extension": ".jl",
   "mimetype": "application/julia",
   "name": "julia",
   "version": "1.1.0"
  }
 },
 "nbformat": 4,
 "nbformat_minor": 2
}
