{
 "cells": [
  {
   "cell_type": "markdown",
   "metadata": {},
   "source": [
    "# Matrizes Esparsas"
   ]
  },
  {
   "cell_type": "markdown",
   "metadata": {},
   "source": [
    "Uma matriz é dita esparsa se o número de elementos não nulos é bem menor que seu número total de elementos.\n",
    "Em outras palavras, se é composta principalmente por zeros."
   ]
  },
  {
   "cell_type": "markdown",
   "metadata": {},
   "source": [
    "A porcentagem de zeros para chamar uma matriz de esparsa não é bem definida, e varia com o problema, o autor, o método, etc.\n",
    "\n",
    "Para matrizes que podem ser extendidas para valores $n\\times n$ quaisquer (ou um subconjunto infinito dos naturais), a matriz com certeza será esparsa se o limite da razão de elementos não nulos para o total de elementos for para 0."
   ]
  },
  {
   "cell_type": "markdown",
   "metadata": {},
   "source": [
    "Uma matriz esparsa famosa é a proveniente da discretização da equação de calor em uma dimensão para o caso estacionário."
   ]
  },
  {
   "cell_type": "code",
   "execution_count": 23,
   "metadata": {
    "collapsed": false
   },
   "outputs": [
    {
     "data": {
      "text/plain": [
       "mat_mdf (generic function with 1 method)"
      ]
     },
     "execution_count": 23,
     "metadata": {},
     "output_type": "execute_result"
    }
   ],
   "source": [
    "function mat_mdf(n)\n",
    "    A = 4*eye(n)\n",
    "    for i = 1:n-1\n",
    "        A[i,i+1] = A[i+1,i] = -1.0        \n",
    "    end\n",
    "    return A\n",
    "end"
   ]
  },
  {
   "cell_type": "code",
   "execution_count": 24,
   "metadata": {
    "collapsed": false
   },
   "outputs": [
    {
     "data": {
      "text/plain": [
       "10x10 Array{Float64,2}:\n",
       "  4.0  -1.0   0.0   0.0   0.0   0.0   0.0   0.0   0.0   0.0\n",
       " -1.0   4.0  -1.0   0.0   0.0   0.0   0.0   0.0   0.0   0.0\n",
       "  0.0  -1.0   4.0  -1.0   0.0   0.0   0.0   0.0   0.0   0.0\n",
       "  0.0   0.0  -1.0   4.0  -1.0   0.0   0.0   0.0   0.0   0.0\n",
       "  0.0   0.0   0.0  -1.0   4.0  -1.0   0.0   0.0   0.0   0.0\n",
       "  0.0   0.0   0.0   0.0  -1.0   4.0  -1.0   0.0   0.0   0.0\n",
       "  0.0   0.0   0.0   0.0   0.0  -1.0   4.0  -1.0   0.0   0.0\n",
       "  0.0   0.0   0.0   0.0   0.0   0.0  -1.0   4.0  -1.0   0.0\n",
       "  0.0   0.0   0.0   0.0   0.0   0.0   0.0  -1.0   4.0  -1.0\n",
       "  0.0   0.0   0.0   0.0   0.0   0.0   0.0   0.0  -1.0   4.0"
      ]
     },
     "execution_count": 24,
     "metadata": {},
     "output_type": "execute_result"
    }
   ],
   "source": [
    "mat_mdf(10)"
   ]
  },
  {
   "cell_type": "markdown",
   "metadata": {},
   "source": [
    "Tanto a fatoração LU quanto os métodos iterativos terão bom desempenho nessa matriz."
   ]
  },
  {
   "cell_type": "code",
   "execution_count": 25,
   "metadata": {
    "collapsed": false
   },
   "outputs": [
    {
     "data": {
      "text/plain": [
       "10x10 Array{Int64,2}:\n",
       "  4  -1  -1  -1  -1  -1  -1  -1  -1  -1\n",
       " -1   4   0   0   0   0   0   0   0   0\n",
       " -1   0   4   0   0   0   0   0   0   0\n",
       " -1   0   0   4   0   0   0   0   0   0\n",
       " -1   0   0   0   4   0   0   0   0   0\n",
       " -1   0   0   0   0   4   0   0   0   0\n",
       " -1   0   0   0   0   0   4   0   0   0\n",
       " -1   0   0   0   0   0   0   4   0   0\n",
       " -1   0   0   0   0   0   0   0   4   0\n",
       " -1   0   0   0   0   0   0   0   0   4"
      ]
     },
     "execution_count": 25,
     "metadata": {},
     "output_type": "execute_result"
    }
   ],
   "source": [
    "n = 10\n",
    "A = 4*eye(n)\n",
    "A[:,1] = -1\n",
    "A[1,:] = -1\n",
    "A[1,1] = 4\n",
    "round(Int, A)"
   ]
  },
  {
   "cell_type": "code",
   "execution_count": 26,
   "metadata": {
    "collapsed": false
   },
   "outputs": [
    {
     "data": {
      "text/plain": [
       "(\n",
       "10x10 Array{Float64,2}:\n",
       "  1.0    0.0         0.0         0.0        …   0.0   0.0        0.0    0.0\n",
       " -0.25   1.0         0.0         0.0            0.0   0.0        0.0    0.0\n",
       " -0.25  -0.0666667   1.0         0.0            0.0   0.0        0.0    0.0\n",
       " -0.25  -0.0666667  -0.0714286   1.0            0.0   0.0        0.0    0.0\n",
       " -0.25  -0.0666667  -0.0714286  -0.0769231      0.0   0.0        0.0    0.0\n",
       " -0.25  -0.0666667  -0.0714286  -0.0769231  …   0.0   0.0        0.0    0.0\n",
       " -0.25  -0.0666667  -0.0714286  -0.0769231      1.0   0.0        0.0    0.0\n",
       " -0.25  -0.0666667  -0.0714286  -0.0769231     -0.1   1.0        0.0    0.0\n",
       " -0.25  -0.0666667  -0.0714286  -0.0769231     -0.1  -0.111111   1.0    0.0\n",
       " -0.25  -0.0666667  -0.0714286  -0.0769231     -0.1  -0.111111  -0.125  1.0,\n",
       "\n",
       "10x10 Array{Float64,2}:\n",
       " 4.0  -1.0   -1.0      -1.0       …  -1.0       -1.0       -1.0     \n",
       " 0.0   3.75  -0.25     -0.25         -0.25      -0.25      -0.25    \n",
       " 0.0   0.0    3.73333  -0.266667     -0.266667  -0.266667  -0.266667\n",
       " 0.0   0.0    0.0       3.71429      -0.285714  -0.285714  -0.285714\n",
       " 0.0   0.0    0.0       0.0          -0.307692  -0.307692  -0.307692\n",
       " 0.0   0.0    0.0       0.0       …  -0.333333  -0.333333  -0.333333\n",
       " 0.0   0.0    0.0       0.0          -0.363636  -0.363636  -0.363636\n",
       " 0.0   0.0    0.0       0.0           3.6       -0.4       -0.4     \n",
       " 0.0   0.0    0.0       0.0           0.0        3.55556   -0.444444\n",
       " 0.0   0.0    0.0       0.0           0.0        0.0        3.5     ,\n",
       "\n",
       "[1,2,3,4,5,6,7,8,9,10])"
      ]
     },
     "execution_count": 26,
     "metadata": {},
     "output_type": "execute_result"
    }
   ],
   "source": [
    "lu(A)"
   ]
  },
  {
   "cell_type": "markdown",
   "metadata": {},
   "source": [
    "Nessa matriz, LU gera uma matriz densa, o que atrapalha bastante a solução do sistema.\n",
    "Por outro lado, os métodos iterativos não tem nenhum problema com isso.\n",
    "\n",
    "Note que se permutarmos as linhas e colunas 1 e 10 da matriz $A$, a nova matriz terá um ótimo comportamento em LU. Então, a permutação em LU não serve apenas para prevenir elementos nulos, mas também para prevenir a densidade na fatoração."
   ]
  },
  {
   "cell_type": "markdown",
   "metadata": {},
   "source": [
    "# Sistemas Não-Lineares - Newton"
   ]
  },
  {
   "cell_type": "markdown",
   "metadata": {},
   "source": [
    "Nos preocupamos agora em resolver sistemas não lineares."
   ]
  },
  {
   "cell_type": "markdown",
   "metadata": {},
   "source": [
    "O desenvolvimento do assunto foi feito em sala."
   ]
  },
  {
   "cell_type": "code",
   "execution_count": 1,
   "metadata": {
    "collapsed": false
   },
   "outputs": [
    {
     "data": {
      "text/plain": [
       "F (generic function with 1 method)"
      ]
     },
     "execution_count": 1,
     "metadata": {},
     "output_type": "execute_result"
    }
   ],
   "source": [
    "F(x) = [x[1]^2 + x[2]^2 - 4;  x[1]*x[2] - 1]"
   ]
  },
  {
   "cell_type": "code",
   "execution_count": 2,
   "metadata": {
    "collapsed": false
   },
   "outputs": [
    {
     "data": {
      "text/plain": [
       "J (generic function with 1 method)"
      ]
     },
     "execution_count": 2,
     "metadata": {},
     "output_type": "execute_result"
    }
   ],
   "source": [
    "J(x) = [2*x[1]  2x[2];  x[2]  x[1]]"
   ]
  },
  {
   "cell_type": "code",
   "execution_count": 3,
   "metadata": {
    "collapsed": false
   },
   "outputs": [
    {
     "data": {
      "text/plain": [
       "2-element Array{Float64,1}:\n",
       " 2.0\n",
       " 1.0"
      ]
     },
     "execution_count": 3,
     "metadata": {},
     "output_type": "execute_result"
    }
   ],
   "source": [
    "x = [2.0;  1.0]"
   ]
  },
  {
   "cell_type": "code",
   "execution_count": 4,
   "metadata": {
    "collapsed": false
   },
   "outputs": [
    {
     "data": {
      "text/plain": [
       "2-element Array{Float64,1}:\n",
       " 1.0\n",
       " 1.0"
      ]
     },
     "execution_count": 4,
     "metadata": {},
     "output_type": "execute_result"
    }
   ],
   "source": [
    "F(x)"
   ]
  },
  {
   "cell_type": "code",
   "execution_count": 5,
   "metadata": {
    "collapsed": false
   },
   "outputs": [
    {
     "data": {
      "text/plain": [
       "2x2 Array{Float64,2}:\n",
       " 4.0  2.0\n",
       " 1.0  2.0"
      ]
     },
     "execution_count": 5,
     "metadata": {},
     "output_type": "execute_result"
    }
   ],
   "source": [
    "J(x)"
   ]
  },
  {
   "cell_type": "code",
   "execution_count": 6,
   "metadata": {
    "collapsed": false
   },
   "outputs": [
    {
     "data": {
      "text/plain": [
       "2-element Array{Float64,1}:\n",
       " -0.0\n",
       " -0.5"
      ]
     },
     "execution_count": 6,
     "metadata": {},
     "output_type": "execute_result"
    }
   ],
   "source": [
    "# Como resolvo um sistema linear facilmente?\n",
    "d = -J(x)\\F(x)"
   ]
  },
  {
   "cell_type": "code",
   "execution_count": 7,
   "metadata": {
    "collapsed": false
   },
   "outputs": [
    {
     "data": {
      "text/plain": [
       "2-element Array{Float64,1}:\n",
       " 2.0\n",
       " 0.5"
      ]
     },
     "execution_count": 7,
     "metadata": {},
     "output_type": "execute_result"
    }
   ],
   "source": [
    "x = x + d"
   ]
  },
  {
   "cell_type": "code",
   "execution_count": 8,
   "metadata": {
    "collapsed": false
   },
   "outputs": [
    {
     "data": {
      "text/plain": [
       "2-element Array{Float64,1}:\n",
       " 0.25\n",
       " 0.0 "
      ]
     },
     "execution_count": 8,
     "metadata": {},
     "output_type": "execute_result"
    }
   ],
   "source": [
    "F(x)"
   ]
  },
  {
   "cell_type": "code",
   "execution_count": 9,
   "metadata": {
    "collapsed": false
   },
   "outputs": [
    {
     "data": {
      "text/plain": [
       "2-element Array{Float64,1}:\n",
       " -0.0666667\n",
       "  0.0166667"
      ]
     },
     "execution_count": 9,
     "metadata": {},
     "output_type": "execute_result"
    }
   ],
   "source": [
    "d = -J(x)\\F(x)"
   ]
  },
  {
   "cell_type": "code",
   "execution_count": 10,
   "metadata": {
    "collapsed": false
   },
   "outputs": [
    {
     "data": {
      "text/plain": [
       "2-element Array{Float64,1}:\n",
       " 1.93333 \n",
       " 0.516667"
      ]
     },
     "execution_count": 10,
     "metadata": {},
     "output_type": "execute_result"
    }
   ],
   "source": [
    "x = x + d"
   ]
  },
  {
   "cell_type": "code",
   "execution_count": 11,
   "metadata": {
    "collapsed": false
   },
   "outputs": [
    {
     "data": {
      "text/plain": [
       "2-element Array{Float64,1}:\n",
       "  0.00472222\n",
       " -0.00111111"
      ]
     },
     "execution_count": 11,
     "metadata": {},
     "output_type": "execute_result"
    }
   ],
   "source": [
    "F(x)"
   ]
  },
  {
   "cell_type": "code",
   "execution_count": 15,
   "metadata": {
    "collapsed": false
   },
   "outputs": [],
   "source": [
    "# O que eu quero como critério de parara?\n",
    "# Cada elemento em módulo menor que ɛ?\n",
    "# A soma dos módulos menor que ɛ?\n",
    "# A distância Euclidiana de F(x) à origem menor que ɛ?"
   ]
  },
  {
   "cell_type": "markdown",
   "metadata": {},
   "source": [
    "$$ \\Vert v\\Vert_1 = \\sum_{i=1}^n |v_i| $$\n",
    "\n",
    "$$ \\Vert v\\Vert_2 = \\sqrt{\\sum_{i=1}^n v_i^2} $$\n",
    "\n",
    "$$ \\Vert v\\Vert_\\infty = \\max |v_i| $$"
   ]
  },
  {
   "cell_type": "code",
   "execution_count": 16,
   "metadata": {
    "collapsed": false
   },
   "outputs": [
    {
     "data": {
      "text/plain": [
       "0.004722222222222072"
      ]
     },
     "execution_count": 16,
     "metadata": {},
     "output_type": "execute_result"
    }
   ],
   "source": [
    "norm(F(x), Inf)"
   ]
  },
  {
   "cell_type": "code",
   "execution_count": 17,
   "metadata": {
    "collapsed": false
   },
   "outputs": [
    {
     "data": {
      "text/plain": [
       "2-element Array{Float64,1}:\n",
       " -0.00148059 \n",
       "  0.000970388"
      ]
     },
     "execution_count": 17,
     "metadata": {},
     "output_type": "execute_result"
    }
   ],
   "source": [
    "d = -J(x)\\F(x)"
   ]
  },
  {
   "cell_type": "code",
   "execution_count": 18,
   "metadata": {
    "collapsed": false
   },
   "outputs": [
    {
     "data": {
      "text/plain": [
       "2-element Array{Float64,1}:\n",
       " 1.93185 \n",
       " 0.517637"
      ]
     },
     "execution_count": 18,
     "metadata": {},
     "output_type": "execute_result"
    }
   ],
   "source": [
    "x = x + d"
   ]
  },
  {
   "cell_type": "code",
   "execution_count": 19,
   "metadata": {
    "collapsed": false
   },
   "outputs": [
    {
     "data": {
      "text/plain": [
       "3.133806543154094e-6"
      ]
     },
     "execution_count": 19,
     "metadata": {},
     "output_type": "execute_result"
    }
   ],
   "source": [
    "norm(F(x), Inf)"
   ]
  },
  {
   "cell_type": "code",
   "execution_count": 20,
   "metadata": {
    "collapsed": true
   },
   "outputs": [],
   "source": [
    "# Parei"
   ]
  },
  {
   "cell_type": "markdown",
   "metadata": {},
   "source": [
    "Implementar o método de Newton"
   ]
  },
  {
   "cell_type": "code",
   "execution_count": 21,
   "metadata": {
    "collapsed": false
   },
   "outputs": [
    {
     "data": {
      "text/plain": [
       "newton_snl (generic function with 1 method)"
      ]
     },
     "execution_count": 21,
     "metadata": {},
     "output_type": "execute_result"
    }
   ],
   "source": [
    "# Método de Newton para F(x) = 0\n",
    "# J(x) é a Jacobiana\n",
    "# x é o ponto inicial\n",
    "function newton_snl(F, J, x; tol=1e-6, maxiter=100)\n",
    "    return x, Fx, iter\n",
    "end"
   ]
  },
  {
   "cell_type": "code",
   "execution_count": null,
   "metadata": {
    "collapsed": true
   },
   "outputs": [],
   "source": []
  }
 ],
 "metadata": {
  "kernelspec": {
   "display_name": "Julia 0.4.6",
   "language": "julia",
   "name": "julia-0.4"
  },
  "language_info": {
   "file_extension": ".jl",
   "mimetype": "application/julia",
   "name": "julia",
   "version": "0.4.6"
  }
 },
 "nbformat": 4,
 "nbformat_minor": 0
}
