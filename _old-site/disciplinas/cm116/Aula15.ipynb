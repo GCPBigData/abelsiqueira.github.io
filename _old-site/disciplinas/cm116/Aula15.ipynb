{
 "cells": [
  {
   "cell_type": "code",
   "execution_count": 3,
   "metadata": {
    "collapsed": false
   },
   "outputs": [
    {
     "data": {
      "text/plain": [
       "Plots.GRBackend()"
      ]
     },
     "execution_count": 3,
     "metadata": {},
     "output_type": "execute_result"
    }
   ],
   "source": [
    "using Plots\n",
    "gr()"
   ]
  },
  {
   "cell_type": "code",
   "execution_count": 28,
   "metadata": {
    "collapsed": false
   },
   "outputs": [
    {
     "data": {
      "text/plain": [
       "calor_evolucao (generic function with 1 method)"
      ]
     },
     "execution_count": 28,
     "metadata": {},
     "output_type": "execute_result"
    }
   ],
   "source": [
    "function calor_evolucao(u0, T0, c, L, tf; N = 10)\n",
    "    h = L/(N-1)\n",
    "    x = linspace(0, L, N)\n",
    "    M = ceil(Int, 4tf*c/(h^2))\n",
    "    t = linspace(0, tf, M+1)\n",
    "    δ = tf/M\n",
    "    \n",
    "    # Cada coluna de V é Vⁿ, isto é vᵢⁿ = V[i,n]\n",
    "    V = zeros(N, M+1) # Não esquecer do n = 0\n",
    "    V[1,1] = T0\n",
    "    for i = 2:N\n",
    "        V[i,1] = u0(x[i])\n",
    "    end\n",
    "    κ = c*δ/h^2\n",
    "    println(\"κ = $κ\")\n",
    "    for n = 1:M\n",
    "        V[1,n+1] = T0\n",
    "        for i = 2:N-1\n",
    "            V[i,n+1] = κ*V[i+1,n] + (1-2κ)*V[i,n] + κ*V[i-1,n]\n",
    "        end\n",
    "        V[N,n+1] = (1-2κ)*V[N,n] + 2κ*V[N-1,n]\n",
    "    end\n",
    "    return t, x, V\n",
    "end"
   ]
  },
  {
   "cell_type": "code",
   "execution_count": 31,
   "metadata": {
    "collapsed": false
   },
   "outputs": [
    {
     "name": "stdout",
     "output_type": "stream",
     "text": [
      "κ = 0.2494545454545455\n"
     ]
    },
    {
     "data": {
      "text/plain": [
       "(linspace(0.0,4.0,386),linspace(0.0,1.0,50),\n",
       "50x386 Array{Float64,2}:\n",
       " 10.0        10.0        10.0       …  10.0     10.0     10.0     10.0   \n",
       "  0.100753    2.58969     3.84016      11.8321  11.8318  11.8314  11.8311\n",
       "  0.179009    0.192213    0.824863     13.6629  13.6623  13.6616  13.6609\n",
       "  0.310197    0.330871    0.352355     15.4912  15.49    15.4889  15.4876\n",
       "  0.52426     0.555656    0.588072     17.3149  17.3131  17.3113  17.3094\n",
       "  0.864179    0.910388    0.957803  …  19.1315  19.1289  19.1262  19.1235\n",
       "  1.38934     1.4552      1.52237      20.9376  20.9339  20.9302  20.9263\n",
       "  2.17851     2.2693      2.36138      22.7289  22.7239  22.7187  22.7135\n",
       "  3.33163     3.45252     3.57447      24.4999  24.4932  24.4864  24.4795\n",
       "  4.96938     5.12458     5.28031      26.2439  26.2353  26.2266  26.2178\n",
       "  7.22928     7.4209      7.61221   …  27.9533  27.9424  27.9315  27.9205\n",
       " 10.2573     10.4841     10.7095       29.6191  29.6058  29.5924  29.579 \n",
       " 14.1946     14.4506     14.7038       31.2315  31.2155  31.1995  31.1834\n",
       "  ⋮                                 ⋱                              ⋮     \n",
       " 10.2573     10.4841     10.7095       30.8183  30.8255  30.8326  30.8398\n",
       "  7.22928     7.4209      7.61221      29.6009  29.6129  29.625   29.6369\n",
       "  4.96938     5.12458     5.28031   …  28.4319  28.4486  28.4653  28.4819\n",
       "  3.33163     3.45252     3.57447      27.33    27.3511  27.3721  27.3931\n",
       "  2.17851     2.2693      2.36138      26.3127  26.3378  26.3629  26.3878\n",
       "  1.38934     1.4552      1.52237      25.3962  25.4249  25.4535  25.4821\n",
       "  0.864179    0.910388    0.957803     24.5949  24.6268  24.6585  24.6902\n",
       "  0.52426     0.555656    0.588072  …  23.9214  23.9559  23.9903  24.0246\n",
       "  0.310197    0.330871    0.352355     23.3863  23.4229  23.4594  23.4957\n",
       "  0.179009    0.192213    0.206029     22.998   23.0362  23.0741  23.112 \n",
       "  0.100753    0.108938    0.121989     22.7626  22.8016  22.8405  22.8793\n",
       "  0.0553084   0.0779813   0.093426     22.6837  22.7231  22.7623  22.8013)"
      ]
     },
     "execution_count": 31,
     "metadata": {},
     "output_type": "execute_result"
    }
   ],
   "source": [
    "u0(x) = exp(-(x-0.5)^2*30)*100\n",
    "T0 = 10.0\n",
    "c = 0.01\n",
    "L = 1.0\n",
    "tf = 4.0\n",
    "N = 50\n",
    "t, x, V = calor_evolucao(u0, T0, c, L, tf; N = N)"
   ]
  },
  {
   "cell_type": "code",
   "execution_count": 33,
   "metadata": {
    "collapsed": false
   },
   "outputs": [
    {
     "name": "stderr",
     "output_type": "stream",
     "text": [
      "INFO: Saved animation to /home/abel/projetos/pessoal/abelsiqueira.github.io/disciplinas/cm116/tmp.gif\n"
     ]
    },
    {
     "data": {
      "text/html": [
       "<img src=\"tmp.gif?0.3386472690163207>\" />"
      ],
      "text/plain": [
       "Plots.AnimatedGif(\"/home/abel/projetos/pessoal/abelsiqueira.github.io/disciplinas/cm116/tmp.gif\")"
      ]
     },
     "execution_count": 33,
     "metadata": {},
     "output_type": "execute_result"
    }
   ],
   "source": [
    "fps = 10\n",
    "M = length(t)\n",
    "step = ceil(Int, M/(tf*fps))\n",
    "\n",
    "anim = Animation()\n",
    "\n",
    "umax = maximum(V)\n",
    "\n",
    "for k = 1:step:M\n",
    "    plot(x, V[:,k], c=:red)\n",
    "    \n",
    "    ylims!(-0.1, umax)\n",
    "    frame(anim)\n",
    "end\n",
    "gif(anim, \"tmp.gif\", fps=20)"
   ]
  },
  {
   "cell_type": "code",
   "execution_count": null,
   "metadata": {
    "collapsed": true
   },
   "outputs": [],
   "source": []
  }
 ],
 "metadata": {
  "kernelspec": {
   "display_name": "Julia 0.4.5",
   "language": "julia",
   "name": "julia-0.4"
  },
  "language_info": {
   "file_extension": ".jl",
   "mimetype": "application/julia",
   "name": "julia",
   "version": "0.4.5"
  }
 },
 "nbformat": 4,
 "nbformat_minor": 0
}
