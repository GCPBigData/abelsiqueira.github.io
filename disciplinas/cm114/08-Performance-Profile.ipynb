{
 "cells": [
  {
   "cell_type": "markdown",
   "metadata": {},
   "source": [
    "# Comparações de Algoritmos\n",
    "\n",
    "Frequentemente precisamos comparar duas estratégias de resolução de um problema.\n",
    "Essas comparações podem ser teóricas e computacionais.\n",
    "Os dois aspectos mais importantes de comparação para métodos de otimização não-linear\n",
    "são\n",
    "\n",
    "  - O método converge?\n",
    "  - Se sim, quão rápido?\n",
    "\n",
    "Essas perguntas podem ser exploradas sob condições específicas (e normalmente são),\n",
    "mas a ideia básica é essa.\n",
    "\n",
    "## Método, Algoritmo, Implementação\n",
    "\n",
    "Um aspecto importante da comparação é saber diferenciar o que é que você está\n",
    "comparando. Esse detalhe muitas vezes é ignorado, supõe-se que despropositalmente,\n",
    "o que acaba gerando conclusões parciais e subjetivas.\n",
    "\n",
    "Um aspecto grandemente deixado de lado é qual a diferença entre método, algoritmo\n",
    "e implementação. Vou definir os três e indicar de onde tirei cada definição.\n",
    "\n",
    "  - **Método:** Um procedimento ou processo para obter um objetivo (Tradução livre do Merriam-Webster Online)\n",
    "  - **Algoritmo:** Como um método mas com 5 características importantes:\n",
    "    - Finitude (O método para de rodar)\n",
    "    - Definição (Cada passo está bem definido)\n",
    "    - Entrada\n",
    "    - Saída\n",
    "    - Eficiência (Cada passo deveria poder ser feito por um humano com lápis e papel em tempo finito)\n",
    "    (Paráfrase de \"The Art of Computer Programming, v.1\" de Donald Knuth.)\n",
    "  - **Implementação:** A realização física da tradução de um método ou algoritmo\n",
    "    para uma linguagem de programação de maneira que o mesmo possa ser executado. (Eu)\n",
    "\n",
    "É importante diferenciar aqui o método e o algoritmo, principalmente no âmbito da otimização.\n",
    "A iteração de BFGS é um método. A atualização da matriz de BFGS é um algoritmo. O código que escrevemos é uma\n",
    "implementação do método e do algoritmo.\n",
    "\n",
    "Também é muito importante notar nós sempre queremos que o método seja um algoritmo, i.e.,\n",
    "essencialmente queremos que o algoritmo pare.\n",
    "Por exemplo,\n",
    "\n",
    "  1. Dados $x_0 \\in \\mathbb{R}^n$ e $f:\\mathbb{R}^n\\rightarrow\\mathbb{R}$\n",
    "  2. Faça $k = 0$.\n",
    "  3. Calcule $d^k = -\\nabla f(x^k)$\n",
    "  4. Calcule $\\alpha_k = \\arg\\min_{\\alpha > 0} f(x^k + \\alpha d^k)$\n",
    "  5. Faça $x^{k+1} = x^k + \\alpha_k d^k$\n",
    "  6. Faça $k = k + 1$.\n",
    "  7. Se $\\nabla f(x^k) = 0$ PARE com $x^* = x^k$.\n",
    "       Senão, vá para o passo 3.\n",
    "\n",
    "É um método, mas não um algoritmo, pois o algoritmo não acaba num número finito de iterações,\n",
    "mesmo que a sequência seja convergente (por exemplo $f(x) = x_1^2 + 4x_2^2$ e $x^0 = (1,1)$).\n",
    "\n",
    "Se mudamos a condição do passo 7 para $\\Vert \\nabla f(x^k)\\Vert < 10^{-5}$,\n",
    "ainda não temos um algoritmo, pois a sequência pode divergir (por exemplo $f(x) = -x^2$ e $x^0 = 1$).\n",
    "\n",
    "Se mudamos a condição do passo 7 para $k > 1000$,\n",
    "já chegamos bem perto de um algoritmo, se tudo é calculado corretamente, então $k$ chega a 1001.\n",
    "Mas como o texto já diz, tudo precisa ser calculado corretamente. Isso quer dizer que $f$ é\n",
    "diferenciável, e que a obtenção de $\\alpha_k$ é possível. A primeira hipótese é trivial de\n",
    "acrescentar, mas a segunda não, e também precisaríamos de alguma condição para ela.\n",
    "\n",
    "Essas pequenas mudanças e variações são aquelas que fizemos no começo, para que o algoritmo parasse.\n",
    "Algumas delas ignoramos, pois supomos que o método estaria funcionando. Mas se formos ser\n",
    "estritos, precisamos nos preocupar com algumas coisas, como se o parâmetro da busca linear de Armijo\n",
    "será suficientemente positivo, ou o raio da região de confiança, ou se Pred > 0, etc.\n",
    "Nesses pontos é que é importante a teoria. Pois se provamos matematicamente que algo é possível sob\n",
    "algumas hipóteses, podemos restringir nossas comparações à essas hipóteses, e colocar salva-guardas\n",
    "caso elas falhem.\n",
    "\n",
    "O algoritmo é a implementação de alguma ideia. O problema, como você pode notar, é que a ideia\n",
    "nunca está sozinha. Dessa maneira, ao implementar o método de BFGS para as direções, também\n",
    "implementamos a atualização de BFGS e a solução do sistema linear.\n",
    "Ao comparar dois *métodos*, é preciso estar atento ao algoritmo em si, isto é, quais as condições\n",
    "de parada embutidas, e também às implementações, e.g., como são resolvidos os sistemas lineares.\n",
    "A atenção tem que ser redobrada ainda, pois não necessariamente o autor do livro ou artigo que você\n",
    "está lendo está fazendo essa distinção.\n",
    "\n",
    "## Comparando\n",
    "\n",
    "Alguns problemas são facilmente resolvidos. Por exemplo, dado um vetor, como podemos ordená-lo?\n",
    "Existem vários algoritmos que fazer essa tarefa, e para compará-los basta ver qual leva mais tempo,\n",
    "ou mais iterações, pois são métricas mais ou menos equivalentes.\n",
    "No entanto, na comparação de métodos de otimização, já começamos com o problema de se **o método\n",
    "funciona** para o problema.\n",
    "\n",
    "Como vimos, por exemplo, o método de Newton falha se encontrar uma hessiana indefinida ou singular.\n",
    "Os outros métodos também podem falhar, em condições parecidas. Então, já não temos a garantia de que\n",
    "o método funciona. Então, um parâmetro de comparação entre os métodos seria se eles convergem para\n",
    "uma determinada seleção de problemas.\n",
    "\n",
    "Isso não é suficiente, no entanto. Pois, também como vimos, o método de Newton é muito mais rápido\n",
    "que o método do gradiente, em vários casos. Então, para os casos onde ele funciona, ele é mais\n",
    "eficiente. Esse é outro parâmetro de comparação.\n",
    "\n",
    "A questão agora é, qual é mais importante.\n",
    "\n",
    " - O método A resolve os problemas 80% mais rápido que o método B\n",
    " - O método B resolve 80% problemas a mais que o método A\n",
    "\n",
    "Qual é melhor? E se no lugar de 80% tivermos 10%?\n",
    "\n",
    "Essa pergunta depende de vários fatores e é subjetiva, então vamos fazer uma análise olhando para\n",
    "várias possibilidades de **robustez** e **eficiência**. Essa análise será feita com o perfil de\n",
    "desempenho (performance profile)."
   ]
  },
  {
   "cell_type": "markdown",
   "metadata": {},
   "source": [
    "## Perfil de desempenho\n",
    "\n",
    "Vamos considerar um conjunto $\\mathcal{S}$ de algoritmos (ou métodos, ou implementações), e um\n",
    "conjunto $\\mathcal{P}$ de problemas que serão usados na comparação desses algoritmos.\n",
    "Definimos como $t_{s,p}$ o tempo (ou número de avaliações de função, ou iterações, ou custo, etc.)\n",
    "que o algoritmo $s$ leva para resolver o problema $p$.\n",
    "Caso o algoritmo $s$ não consiga resolver o problema $p$, definimos $t_{s,p} = t_{\\max}$,\n",
    "de maneira que $t_{s,p} < t_{\\max}$ para todo $s$ e $p$.\n",
    "\n",
    "Definimos a razão de desempenho\n",
    "$$ r_{s,p} = \\frac{t_{s,p}}{\\min{t_{s,p}}}, $$\n",
    "que servirá para comparar os custos sem depender da escala de tempo.\n",
    "Note que é necessário que $t_{s,p} > 0$, o que é natural, e também que\n",
    "$r_{s,p} \\geq 1$. Definimos $r_M > 0$ como o valor tal que\n",
    "$r_{s,p} < r_M$.\n",
    "\n",
    "Definimos\n",
    "$$ \\rho_s(\\tau) = \\frac{1}{N_P}\\#\\{p \\in \\mathcal{P} \\mid r_{s,p} \\leq \\tau\\}, $$\n",
    "um tipo de distribuição acumulada do algoritmo $s$, que indica quando problemas o algoritmo $s$\n",
    "consegue resolver com razão de desempenho até $\\tau$.\n",
    "\n",
    "O gráfico de perfil de desempenho consiste dos gráficos das funções $\\rho_s$ para cada $s$. O valor\n",
    "$\\rho_s(1)$ indica quantos problemas o algoritmo $s$ consegue resolver tão rápido quanto o melhor\n",
    "algoritmo, e o valor $$\\lim_{\\tau\\rightarrow r_M^-} \\rho_{s}$$\n",
    "é a quantidade total de problemas que $s$ resolve. Esses valores são ditos eficiência e robustez,\n",
    "respectivamente."
   ]
  },
  {
   "cell_type": "markdown",
   "metadata": {},
   "source": [
    "### Exemplo\n",
    "\n",
    "Vamos simular três algoritmos."
   ]
  },
  {
   "cell_type": "code",
   "execution_count": 1,
   "metadata": {
    "collapsed": false
   },
   "outputs": [
    {
     "name": "stdout",
     "output_type": "stream",
     "text": [
      "[0.21 0.84 0.7 0.89 0.48 0.69 0.15 0.58 0.16 0.53\n",
      " 0.39 0.4 0.18 0.62 0.02 0.6 0.08 0.82 0.81 0.85\n",
      " 0.7 0.86 0.12 0.1 0.13 0.28 0.5 0.71 0.89 0.79]\n"
     ]
    }
   ],
   "source": [
    "# 10 problemas\n",
    "NP = 10\n",
    "# Função pra criar aleatório\n",
    "rnd() = round(rand(NP)+0.01,2)\n",
    "# Tempos que os algoritmos levaram\n",
    "A = rnd(); B = rnd(); C = rnd();\n",
    "println([A';B';C'])"
   ]
  },
  {
   "cell_type": "code",
   "execution_count": 2,
   "metadata": {
    "collapsed": false
   },
   "outputs": [
    {
     "data": {
      "text/plain": [
       "1x10 Array{Any,2}:\n",
       " 0.21  0.4  0.12  0.1  0.02  0.28  0.08  0.58  0.16  0.53"
      ]
     },
     "execution_count": 2,
     "metadata": {},
     "output_type": "execute_result"
    }
   ],
   "source": [
    "# Os menores valores\n",
    "MIN = [minimum([A[i];B[i];C[i]]) for i = 1:NP];\n",
    "MIN'"
   ]
  },
  {
   "cell_type": "code",
   "execution_count": 3,
   "metadata": {
    "collapsed": false
   },
   "outputs": [
    {
     "name": "stdout",
     "output_type": "stream",
     "text": [
      "[1.0 2.1 5.83 8.9 24.0 2.46 1.88 1.0 1.0 1.0\n",
      " 1.86 1.0 1.5 6.2 1.0 2.14 1.0 1.41 5.06 1.6\n",
      " 3.33 2.15 1.0 1.0 6.5 1.0 6.25 1.22 5.56 1.49]\n"
     ]
    }
   ],
   "source": [
    "# As razões\n",
    "RA = A./MIN; RB = B./MIN; RC = C./MIN\n",
    "println(round([RA';RB';RC'],2))"
   ]
  },
  {
   "cell_type": "code",
   "execution_count": 4,
   "metadata": {
    "collapsed": false
   },
   "outputs": [
    {
     "data": {
      "text/plain": [
       "ρC (generic function with 1 method)"
      ]
     },
     "execution_count": 4,
     "metadata": {},
     "output_type": "execute_result"
    }
   ],
   "source": [
    "# As funções são mais complicadas\n",
    "T = zeros(NP, 3);\n",
    "T[:,1] = RA; T[:,2] = RB; T[:,3] = RC; # Cada linha é um problema\n",
    "ρA(τ) = sum([T[i,1] <= τ ? 1 : 0 for i = 1:NP])/NP # Gambiarras. Se for ≦ dá 1\n",
    "ρB(τ) = sum([T[i,2] <= τ ? 1 : 0 for i = 1:NP])/NP # Soma os 1\n",
    "ρC(τ) = sum([T[i,3] <= τ ? 1 : 0 for i = 1:NP])/NP # Obtém o resultado"
   ]
  },
  {
   "cell_type": "code",
   "execution_count": 5,
   "metadata": {
    "collapsed": false
   },
   "outputs": [
    {
     "ename": "LoadError",
     "evalue": "t not defined\nwhile loading In[5], in expression starting on line 1",
     "output_type": "error",
     "traceback": [
      "t not defined\nwhile loading In[5], in expression starting on line 1",
      "",
      " in anonymous at no file"
     ]
    }
   ],
   "source": [
    "Float64[ρC(x) for x in t]"
   ]
  },
  {
   "cell_type": "code",
   "execution_count": 6,
   "metadata": {
    "collapsed": false
   },
   "outputs": [],
   "source": [
    "using Winston"
   ]
  },
  {
   "cell_type": "code",
   "execution_count": 7,
   "metadata": {
    "collapsed": false
   },
   "outputs": [
    {
     "data": {
      "image/png": "[encoded data removed]",
      "text/plain": [
       "FramedPlot(...)"
      ]
     },
     "execution_count": 7,
     "metadata": {},
     "output_type": "execute_result"
    }
   ],
   "source": [
    "t = linspace(1, maximum(T), 100);\n",
    "p = plot(t, Float64[ρA(x) for x in t], \"r\", t, Float64[ρB(x) for x in t], \"b\", t, Float64[ρC(x) for x in t], \"g\")\n",
    "xlim([1.0,maximum(T)]); ylim(0.0, 1.05)"
   ]
  },
  {
   "cell_type": "markdown",
   "metadata": {
    "collapsed": true
   },
   "source": [
    "## Analisando\n",
    "\n",
    "Os resultados são aleatório, então vamos analisar de maneira geral.\n",
    "O algoritmo mais acima é melhor. O mais acima à esquerda é o mais\n",
    "eficiente, isto é, aquele que resolve os problemas mais rápido que os outros.\n",
    "O mais acima à direta é o mais robusto, isto é, aquele que resolve\n",
    "mais problemas. Note que neste caso todos convergem par todos os problemas.\n",
    "\n",
    "Na abscissa, temos a razão com qual o algoritmo converge, e o valor\n",
    "da função nesse ponto quer dizer \"dado x vezes mais tempo que o melhor\n",
    "algoritmo, quantos problemas o algoritmo resolve\".\n",
    "Parece um pouco complicado de entender, mas a ideia é a seguinte.\n",
    "O algoritmo A tem os tempos [1s 2s 10s], e o B tem os tempos\n",
    "[2s 3s 12s].\n",
    "Então, o algoritmo A é o melhor e resolve 3 problemas no instante inicial.\n",
    "Para $\\tau = 1$, o algoritmo B resolveu 0 problemas. Matematicamente,\n",
    "as razões de B são [2 1.5 1.2], então a função acumulada é 0.\n",
    "\n",
    "Para $\\tau = 1.2$, queremos saber quantos problemas o algoritmo em\n",
    "até 20% do melhor algoritmo. Os melhores tempos são [1s 2s 10s],\n",
    "e 20% a mais disso seria [1.2s 2.4s 12s]. Vemos que B consegue\n",
    "resolver o terceiro problemas em 12s, então a função acumulada pega esse valor.\n",
    "Em até 50% a mais de tempo, o algoritmo B resolve 2 problemas, e em até\n",
    "o dobro do tempo, o algoritmo B resolve 3 problemas.\n"
   ]
  },
  {
   "cell_type": "markdown",
   "metadata": {},
   "source": [
    "## Gerando o performance profile\n",
    "\n",
    "Como vimos no exemplo, não é muito fácil gerar o performance profile, e portanto,\n",
    "desde que foi inventado, várias pessoas fizeram códigos que geram esse gráfico\n",
    "para o usuário.\n",
    "\n",
    "Nós recomendamos o [perprof-py](https://github.com/ufpr-opt/perprof-py), que\n",
    "ajudamos a implementar. Para esse software, devemos providenciar os resultados\n",
    "dos algoritmos em arquivos de texto em formato de tabela."
   ]
  },
  {
   "cell_type": "code",
   "execution_count": null,
   "metadata": {
    "collapsed": true
   },
   "outputs": [],
   "source": []
  }
 ],
 "metadata": {
  "kernelspec": {
   "display_name": "Julia 0.3.11",
   "language": "julia",
   "name": "julia-0.3"
  },
  "language_info": {
   "file_extension": ".jl",
   "mimetype": "application/julia",
   "name": "julia",
   "version": "0.3.11"
  }
 },
 "nbformat": 4,
 "nbformat_minor": 0
}
