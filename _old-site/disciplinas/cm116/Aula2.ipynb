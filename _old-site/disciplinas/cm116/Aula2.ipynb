{
 "cells": [
  {
   "cell_type": "code",
   "execution_count": 2,
   "metadata": {
    "collapsed": true
   },
   "outputs": [],
   "source": [
    "# Quero imprimir arquivo1.out, arquivo2.out, ..., arquivo100.out"
   ]
  },
  {
   "cell_type": "code",
   "execution_count": 3,
   "metadata": {
    "collapsed": false
   },
   "outputs": [
    {
     "name": "stdout",
     "output_type": "stream",
     "text": [
      "Oi mundo\n"
     ]
    }
   ],
   "source": [
    "# Como imprime?\n",
    "println(\"Oi mundo\")"
   ]
  },
  {
   "cell_type": "code",
   "execution_count": 4,
   "metadata": {
    "collapsed": false
   },
   "outputs": [
    {
     "data": {
      "text/plain": [
       "5"
      ]
     },
     "execution_count": 4,
     "metadata": {},
     "output_type": "execute_result"
    }
   ],
   "source": [
    "x = 5"
   ]
  },
  {
   "cell_type": "code",
   "execution_count": 7,
   "metadata": {
    "collapsed": false
   },
   "outputs": [
    {
     "name": "stdout",
     "output_type": "stream",
     "text": [
      "5\n",
      "x = 5\n",
      "eˣ = 148.4131591025766\n"
     ]
    }
   ],
   "source": [
    "println(x)\n",
    "println(\"x = $x\")\n",
    "println(\"eˣ = $(exp(x))\") #\\^x"
   ]
  },
  {
   "cell_type": "code",
   "execution_count": 10,
   "metadata": {
    "collapsed": false
   },
   "outputs": [
    {
     "name": "stdout",
     "output_type": "stream",
     "text": [
      "arquivo1.out\n",
      "arquivo2.out\n",
      "arquivo3.out\n"
     ]
    }
   ],
   "source": [
    "println(\"arquivo1.out\")\n",
    "println(\"arquivo2.out\")\n",
    "println(\"arquivo3.out\")"
   ]
  },
  {
   "cell_type": "code",
   "execution_count": 13,
   "metadata": {
    "collapsed": false
   },
   "outputs": [
    {
     "name": "stdout",
     "output_type": "stream",
     "text": [
      "arquivo1.out\n",
      "arquivo2.out\n",
      "arquivo3.out\n",
      "arquivo4.out\n",
      "arquivo5.out\n"
     ]
    }
   ],
   "source": [
    "for i = 1:5\n",
    "    println(\"arquivo$i.out\")\n",
    "end"
   ]
  },
  {
   "cell_type": "code",
   "execution_count": 14,
   "metadata": {
    "collapsed": false
   },
   "outputs": [
    {
     "name": "stdout",
     "output_type": "stream",
     "text": [
      "A cor é azul\n",
      "A cor é vermelho\n",
      "A cor é verde\n"
     ]
    }
   ],
   "source": [
    "for cor in [\"azul\", \"vermelho\", \"verde\"]\n",
    "    println(\"A cor é $cor\")\n",
    "end"
   ]
  },
  {
   "cell_type": "code",
   "execution_count": 17,
   "metadata": {
    "collapsed": false
   },
   "outputs": [
    {
     "name": "stdout",
     "output_type": "stream",
     "text": [
      "Det(M) = 0.021671457589848984\n",
      "Det(M) = 0.21475252853603713\n",
      "Det(M) = 0.07628502565991428\n"
     ]
    }
   ],
   "source": [
    "A = rand(3,3)\n",
    "B = rand(3,3)\n",
    "C = rand(3,3)\n",
    "for matriz in Any[A, B, C]\n",
    "    println(\"Det(M) = $(det(matriz))\")\n",
    "end"
   ]
  },
  {
   "cell_type": "code",
   "execution_count": 19,
   "metadata": {
    "collapsed": false
   },
   "outputs": [
    {
     "data": {
      "text/plain": [
       "23-element Array{ByteString,1}:\n",
       " \"Aula1.ipynb\"       \n",
       " \"Aula2.ipynb\"       \n",
       " \"Aula3.ipynb\"       \n",
       " \"AUTOMAT.d\"         \n",
       " \".git\"              \n",
       " \".gitignore\"        \n",
       " \"intro\"             \n",
       " \".ipynb_checkpoints\"\n",
       " \"libALLINITU.so\"    \n",
       " \"libBARD.so\"        \n",
       " \"libBEALE.so\"       \n",
       " \"libBT3.so\"         \n",
       " \"libCUBE.so\"        \n",
       " \"libHS35.so\"        \n",
       " \"libOSCIPATH.so\"    \n",
       " \"libROSENBR.so\"     \n",
       " \"MetodoGradiente.jl\"\n",
       " \"OUTSDIF.d\"         \n",
       " \"src\"               \n",
       " \"teste.pdf\"         \n",
       " \"teste.png\"         \n",
       " \"Untitled.ipynb\"    \n",
       " \"update_bfgs.o\"     "
      ]
     },
     "execution_count": 19,
     "metadata": {},
     "output_type": "execute_result"
    }
   ],
   "source": [
    "arquivos = readdir()"
   ]
  },
  {
   "cell_type": "code",
   "execution_count": 21,
   "metadata": {
    "collapsed": false
   },
   "outputs": [
    {
     "name": "stdout",
     "output_type": "stream",
     "text": [
      "Arquivo Aula1.ipynb\n",
      "Arquivo Aula2.ipynb\n",
      "Arquivo Aula3.ipynb\n",
      "Arquivo AUTOMAT.d\n",
      "Arquivo .git\n",
      "Arquivo .gitignore\n",
      "Arquivo intro\n",
      "Arquivo .ipynb_checkpoints\n",
      "Arquivo libALLINITU.so\n",
      "Arquivo libBARD.so\n",
      "Arquivo libBEALE.so\n",
      "Arquivo libBT3.so\n",
      "Arquivo libCUBE.so\n",
      "Arquivo libHS35.so\n",
      "Arquivo libOSCIPATH.so\n",
      "Arquivo libROSENBR.so\n",
      "Arquivo MetodoGradiente.jl\n",
      "Arquivo OUTSDIF.d\n",
      "Arquivo src\n",
      "Arquivo teste.pdf\n",
      "Arquivo teste.png\n",
      "Arquivo Untitled.ipynb\n",
      "Arquivo update_bfgs.o\n"
     ]
    }
   ],
   "source": [
    "for arq in arquivos\n",
    "    println(\"Arquivo $arq\")\n",
    "end"
   ]
  },
  {
   "cell_type": "code",
   "execution_count": 22,
   "metadata": {
    "collapsed": false
   },
   "outputs": [
    {
     "data": {
      "text/plain": [
       "1"
      ]
     },
     "execution_count": 22,
     "metadata": {},
     "output_type": "execute_result"
    }
   ],
   "source": [
    "# Dado um numero\n",
    "n = 6\n",
    "# O fatorial sera n*(n-1)*(n-2)*...*1\n",
    "# Vou fazer assim:\n",
    "# Comeco com i = n e com P = 1\n",
    "i = n\n",
    "P = 1"
   ]
  },
  {
   "cell_type": "code",
   "execution_count": 23,
   "metadata": {
    "collapsed": false
   },
   "outputs": [
    {
     "data": {
      "text/plain": [
       "6"
      ]
     },
     "execution_count": 23,
     "metadata": {},
     "output_type": "execute_result"
    }
   ],
   "source": [
    "# Calculo P <- P*i e diminuo i\n",
    "P = P*i"
   ]
  },
  {
   "cell_type": "code",
   "execution_count": 24,
   "metadata": {
    "collapsed": false
   },
   "outputs": [
    {
     "data": {
      "text/plain": [
       "5"
      ]
     },
     "execution_count": 24,
     "metadata": {},
     "output_type": "execute_result"
    }
   ],
   "source": [
    "i = i - 1"
   ]
  },
  {
   "cell_type": "code",
   "execution_count": 25,
   "metadata": {
    "collapsed": false
   },
   "outputs": [
    {
     "name": "stdout",
     "output_type": "stream",
     "text": [
      "P = 30\n"
     ]
    }
   ],
   "source": [
    "# Calculo P <- P*i e diminuo i novamente\n",
    "P = P*i\n",
    "i = i - 1\n",
    "println(\"P = $P\")"
   ]
  },
  {
   "cell_type": "code",
   "execution_count": 27,
   "metadata": {
    "collapsed": false
   },
   "outputs": [
    {
     "name": "stdout",
     "output_type": "stream",
     "text": [
      "P = 120\n"
     ]
    }
   ],
   "source": [
    "# Calculo P <- P*i e diminuo i novamente\n",
    "P = P*i\n",
    "i = i - 1\n",
    "println(\"P = $P\")"
   ]
  },
  {
   "cell_type": "code",
   "execution_count": 28,
   "metadata": {
    "collapsed": false
   },
   "outputs": [
    {
     "name": "stdout",
     "output_type": "stream",
     "text": [
      "P = 360\n"
     ]
    }
   ],
   "source": [
    "# Calculo P <- P*i e diminuo i novamente\n",
    "P = P*i\n",
    "i = i - 1\n",
    "println(\"P = $P\")"
   ]
  },
  {
   "cell_type": "code",
   "execution_count": 29,
   "metadata": {
    "collapsed": false
   },
   "outputs": [
    {
     "name": "stdout",
     "output_type": "stream",
     "text": [
      "P = 720\n"
     ]
    }
   ],
   "source": [
    "# Calculo P <- P*i e diminuo i novamente\n",
    "P = P*i\n",
    "i = i - 1\n",
    "println(\"P = $P\")"
   ]
  },
  {
   "cell_type": "code",
   "execution_count": 30,
   "metadata": {
    "collapsed": false
   },
   "outputs": [
    {
     "name": "stdout",
     "output_type": "stream",
     "text": [
      "P = 720\n"
     ]
    }
   ],
   "source": [
    "# Calculo P <- P*i e diminuo i novamente\n",
    "P = P*i\n",
    "i = i - 1\n",
    "println(\"P = $P\")"
   ]
  },
  {
   "cell_type": "code",
   "execution_count": 31,
   "metadata": {
    "collapsed": false
   },
   "outputs": [
    {
     "name": "stdout",
     "output_type": "stream",
     "text": [
      "P = 0\n"
     ]
    }
   ],
   "source": [
    "# Calculo P <- P*i e diminuo i novamente\n",
    "P = P*i\n",
    "i = i - 1\n",
    "println(\"P = $P\")"
   ]
  },
  {
   "cell_type": "code",
   "execution_count": 33,
   "metadata": {
    "collapsed": false
   },
   "outputs": [
    {
     "name": "stdout",
     "output_type": "stream",
     "text": [
      "P = 720\n"
     ]
    }
   ],
   "source": [
    "# Comeco com i = n e P = 1 e facco\n",
    "# P = P*i e i = i - 1\n",
    "# repetidamente, ateh que i seja 1\n",
    "# Ateh que i seja 1 ⇔ Enquanto nao for 1\n",
    "i = n\n",
    "P = 1\n",
    "while i != 1 # != quer dizer diferente\n",
    "    P = P*i\n",
    "    i = i - 1\n",
    "end\n",
    "println(\"P = $P\")"
   ]
  },
  {
   "cell_type": "code",
   "execution_count": 43,
   "metadata": {
    "collapsed": false
   },
   "outputs": [
    {
     "name": "stdout",
     "output_type": "stream",
     "text": [
      "n eh impar\n"
     ]
    }
   ],
   "source": [
    "# if CONDICAO\n",
    "#    FACA COISAS\n",
    "# end\n",
    "n = 11\n",
    "if mod(n,2) == 0 # N par\n",
    "    println(\"n eh par\")\n",
    "else # Caso contrario\n",
    "    # N impar\n",
    "    println(\"n eh impar\")\n",
    "end"
   ]
  },
  {
   "cell_type": "code",
   "execution_count": 57,
   "metadata": {
    "collapsed": false
   },
   "outputs": [
    {
     "name": "stdout",
     "output_type": "stream",
     "text": [
      "n eh louco mano\n"
     ]
    }
   ],
   "source": [
    "n = 10\n",
    "if mod(n,6) == 0 # div. por 3\n",
    "    println(\"n = 6k\")\n",
    "elseif mod(n,6) == 1\n",
    "    # Caso nao seja, mas seja...\n",
    "    # resto 1\n",
    "    println(\"n = 6k+1\")\n",
    "else\n",
    "    println(\"n eh louco mano\")\n",
    "end"
   ]
  },
  {
   "cell_type": "code",
   "execution_count": 61,
   "metadata": {
    "collapsed": false
   },
   "outputs": [
    {
     "name": "stdout",
     "output_type": "stream",
     "text": [
      "32901750257 nao eh primo\n"
     ]
    }
   ],
   "source": [
    "# Calcular se um numero eh primo\n",
    "# Ele soh eh divisivel por 1 e ele mesmo\n",
    "# Assuma que o numero serah natural nao nulo\n",
    "n = 32901750257\n",
    "n_eh_primo = true\n",
    "\n",
    "if n == 1\n",
    "    n_eh_primo = false\n",
    "else\n",
    "    # Verificamos agora se n eh divisivel por\n",
    "    # 2, 3, 4, ..., n - 1\n",
    "    for i = 2:n-1\n",
    "        if mod(n,i) == 0 # n eh div. por i\n",
    "            n_eh_primo = false\n",
    "            break\n",
    "        end\n",
    "    end\n",
    "    # Se passou pelo for e nao entrou no if,\n",
    "    # entao n_eh_primo nao foi modificado\n",
    "    # e continua valendo true\n",
    "end\n",
    "\n",
    "if n_eh_primo\n",
    "    println(\"$n eh primo\")\n",
    "else\n",
    "    println(\"$n nao eh primo\")\n",
    "end"
   ]
  },
  {
   "cell_type": "code",
   "execution_count": 62,
   "metadata": {
    "collapsed": false
   },
   "outputs": [
    {
     "data": {
      "text/plain": [
       "100"
      ]
     },
     "execution_count": 62,
     "metadata": {},
     "output_type": "execute_result"
    }
   ],
   "source": [
    "n = 100"
   ]
  },
  {
   "cell_type": "code",
   "execution_count": 63,
   "metadata": {
    "collapsed": false
   },
   "outputs": [
    {
     "data": {
      "text/plain": [
       "50.0"
      ]
     },
     "execution_count": 63,
     "metadata": {},
     "output_type": "execute_result"
    }
   ],
   "source": [
    "n = n/2"
   ]
  },
  {
   "cell_type": "code",
   "execution_count": 64,
   "metadata": {
    "collapsed": false
   },
   "outputs": [
    {
     "data": {
      "text/plain": [
       "25.0"
      ]
     },
     "execution_count": 64,
     "metadata": {},
     "output_type": "execute_result"
    }
   ],
   "source": [
    "n = n/2"
   ]
  },
  {
   "cell_type": "code",
   "execution_count": 65,
   "metadata": {
    "collapsed": false
   },
   "outputs": [
    {
     "data": {
      "text/plain": [
       "76.0"
      ]
     },
     "execution_count": 65,
     "metadata": {},
     "output_type": "execute_result"
    }
   ],
   "source": [
    "n = 3n+1"
   ]
  },
  {
   "cell_type": "code",
   "execution_count": 66,
   "metadata": {
    "collapsed": false
   },
   "outputs": [
    {
     "data": {
      "text/plain": [
       "38.0"
      ]
     },
     "execution_count": 66,
     "metadata": {},
     "output_type": "execute_result"
    }
   ],
   "source": [
    "n = n/2"
   ]
  },
  {
   "cell_type": "code",
   "execution_count": 67,
   "metadata": {
    "collapsed": false
   },
   "outputs": [
    {
     "data": {
      "text/plain": [
       "19.0"
      ]
     },
     "execution_count": 67,
     "metadata": {},
     "output_type": "execute_result"
    }
   ],
   "source": [
    "n = n/2"
   ]
  },
  {
   "cell_type": "code",
   "execution_count": 68,
   "metadata": {
    "collapsed": false
   },
   "outputs": [
    {
     "data": {
      "text/plain": [
       "58.0"
      ]
     },
     "execution_count": 68,
     "metadata": {},
     "output_type": "execute_result"
    }
   ],
   "source": [
    "n = 3n+1"
   ]
  },
  {
   "cell_type": "code",
   "execution_count": 69,
   "metadata": {
    "collapsed": false
   },
   "outputs": [
    {
     "data": {
      "text/plain": [
       "29.0"
      ]
     },
     "execution_count": 69,
     "metadata": {},
     "output_type": "execute_result"
    }
   ],
   "source": [
    "n = n/2"
   ]
  },
  {
   "cell_type": "code",
   "execution_count": 70,
   "metadata": {
    "collapsed": false
   },
   "outputs": [
    {
     "data": {
      "text/plain": [
       "88.0"
      ]
     },
     "execution_count": 70,
     "metadata": {},
     "output_type": "execute_result"
    }
   ],
   "source": [
    "n = 3n+1"
   ]
  },
  {
   "cell_type": "code",
   "execution_count": 71,
   "metadata": {
    "collapsed": false
   },
   "outputs": [
    {
     "data": {
      "text/plain": [
       "44.0"
      ]
     },
     "execution_count": 71,
     "metadata": {},
     "output_type": "execute_result"
    }
   ],
   "source": [
    "n = n/2"
   ]
  },
  {
   "cell_type": "code",
   "execution_count": 72,
   "metadata": {
    "collapsed": false
   },
   "outputs": [
    {
     "data": {
      "text/plain": [
       "22.0"
      ]
     },
     "execution_count": 72,
     "metadata": {},
     "output_type": "execute_result"
    }
   ],
   "source": [
    "n = n/2"
   ]
  },
  {
   "cell_type": "code",
   "execution_count": 73,
   "metadata": {
    "collapsed": false
   },
   "outputs": [
    {
     "data": {
      "text/plain": [
       "11.0"
      ]
     },
     "execution_count": 73,
     "metadata": {},
     "output_type": "execute_result"
    }
   ],
   "source": [
    "n = n/2"
   ]
  },
  {
   "cell_type": "code",
   "execution_count": 74,
   "metadata": {
    "collapsed": false
   },
   "outputs": [
    {
     "data": {
      "text/plain": [
       "34.0"
      ]
     },
     "execution_count": 74,
     "metadata": {},
     "output_type": "execute_result"
    }
   ],
   "source": [
    "n = 3n+1"
   ]
  },
  {
   "cell_type": "code",
   "execution_count": 75,
   "metadata": {
    "collapsed": false
   },
   "outputs": [
    {
     "data": {
      "text/plain": [
       "17.0"
      ]
     },
     "execution_count": 75,
     "metadata": {},
     "output_type": "execute_result"
    }
   ],
   "source": [
    "n = n/2"
   ]
  },
  {
   "cell_type": "code",
   "execution_count": 76,
   "metadata": {
    "collapsed": false
   },
   "outputs": [
    {
     "data": {
      "text/plain": [
       "52.0"
      ]
     },
     "execution_count": 76,
     "metadata": {},
     "output_type": "execute_result"
    }
   ],
   "source": [
    "n = 3n+1"
   ]
  },
  {
   "cell_type": "code",
   "execution_count": 77,
   "metadata": {
    "collapsed": false
   },
   "outputs": [
    {
     "data": {
      "text/plain": [
       "26.0"
      ]
     },
     "execution_count": 77,
     "metadata": {},
     "output_type": "execute_result"
    }
   ],
   "source": [
    "n = n/2"
   ]
  },
  {
   "cell_type": "code",
   "execution_count": 78,
   "metadata": {
    "collapsed": false
   },
   "outputs": [
    {
     "data": {
      "text/plain": [
       "13.0"
      ]
     },
     "execution_count": 78,
     "metadata": {},
     "output_type": "execute_result"
    }
   ],
   "source": [
    "n = n/2"
   ]
  },
  {
   "cell_type": "code",
   "execution_count": 79,
   "metadata": {
    "collapsed": false
   },
   "outputs": [
    {
     "data": {
      "text/plain": [
       "40.0"
      ]
     },
     "execution_count": 79,
     "metadata": {},
     "output_type": "execute_result"
    }
   ],
   "source": [
    "n = 3n+1"
   ]
  },
  {
   "cell_type": "code",
   "execution_count": 80,
   "metadata": {
    "collapsed": false
   },
   "outputs": [
    {
     "data": {
      "text/plain": [
       "20.0"
      ]
     },
     "execution_count": 80,
     "metadata": {},
     "output_type": "execute_result"
    }
   ],
   "source": [
    "n = n/2"
   ]
  },
  {
   "cell_type": "code",
   "execution_count": 81,
   "metadata": {
    "collapsed": false
   },
   "outputs": [
    {
     "data": {
      "text/plain": [
       "10.0"
      ]
     },
     "execution_count": 81,
     "metadata": {},
     "output_type": "execute_result"
    }
   ],
   "source": [
    "n = n/2"
   ]
  },
  {
   "cell_type": "code",
   "execution_count": 83,
   "metadata": {
    "collapsed": false
   },
   "outputs": [
    {
     "data": {
      "text/plain": [
       "1.0"
      ]
     },
     "execution_count": 83,
     "metadata": {},
     "output_type": "execute_result"
    }
   ],
   "source": [
    "mod(10.0, 3)"
   ]
  },
  {
   "cell_type": "code",
   "execution_count": 84,
   "metadata": {
    "collapsed": false
   },
   "outputs": [
    {
     "data": {
      "text/plain": [
       "2-element Array{Int64,1}:\n",
       " 2\n",
       " 3"
      ]
     },
     "execution_count": 84,
     "metadata": {},
     "output_type": "execute_result"
    }
   ],
   "source": [
    "x = [2,3]"
   ]
  },
  {
   "cell_type": "code",
   "execution_count": 85,
   "metadata": {
    "collapsed": false
   },
   "outputs": [
    {
     "data": {
      "text/plain": [
       "3-element Array{Int64,1}:\n",
       " 2\n",
       " 3\n",
       " 5"
      ]
     },
     "execution_count": 85,
     "metadata": {},
     "output_type": "execute_result"
    }
   ],
   "source": [
    "push!(x, 5)"
   ]
  },
  {
   "cell_type": "code",
   "execution_count": 86,
   "metadata": {
    "collapsed": false
   },
   "outputs": [
    {
     "data": {
      "text/plain": [
       "5"
      ]
     },
     "execution_count": 86,
     "metadata": {},
     "output_type": "execute_result"
    }
   ],
   "source": [
    "pop!(x)"
   ]
  },
  {
   "cell_type": "code",
   "execution_count": 87,
   "metadata": {
    "collapsed": false
   },
   "outputs": [
    {
     "data": {
      "text/plain": [
       "2-element Array{Int64,1}:\n",
       " 2\n",
       " 3"
      ]
     },
     "execution_count": 87,
     "metadata": {},
     "output_type": "execute_result"
    }
   ],
   "source": [
    "x"
   ]
  },
  {
   "cell_type": "code",
   "execution_count": null,
   "metadata": {
    "collapsed": true
   },
   "outputs": [],
   "source": []
  }
 ],
 "metadata": {
  "kernelspec": {
   "display_name": "Julia 0.4.3",
   "language": "julia",
   "name": "julia-0.4"
  },
  "language_info": {
   "file_extension": ".jl",
   "mimetype": "application/julia",
   "name": "julia",
   "version": "0.4.3"
  }
 },
 "nbformat": 4,
 "nbformat_minor": 0
}
