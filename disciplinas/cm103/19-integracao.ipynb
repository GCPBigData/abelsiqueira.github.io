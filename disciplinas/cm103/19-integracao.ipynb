{
 "cells": [
  {
   "cell_type": "code",
   "execution_count": 1,
   "metadata": {
    "collapsed": false
   },
   "outputs": [
    {
     "data": {
      "text/html": [
       "<div id=\"interact-js-shim\">\n",
       "    <script charset=\"utf-8\">\n",
       "(function (IPython, $, _, MathJax) {\n",
       "    $.event.special.destroyed = {\n",
       "\tremove: function(o) {\n",
       "\t    if (o.handler) {\n",
       "\t\to.handler.apply(this, arguments)\n",
       "\t    }\n",
       "\t}\n",
       "    }\n",
       "\n",
       "    var OutputArea = IPython.version >= \"4.0.0\" ? require(\"notebook/js/outputarea\").OutputArea : IPython.OutputArea;\n",
       "\n",
       "    var redrawValue = function (container, type, val) {\n",
       "\tvar selector = $(\"<div/>\");\n",
       "\tvar oa = new OutputArea(_.extend(selector, {\n",
       "\t    selector: selector,\n",
       "\t    prompt_area: true,\n",
       "\t    events: IPython.events,\n",
       "\t    keyboard_manager: IPython.keyboard_manager\n",
       "\t})); // Hack to work with IPython 2.1.0\n",
       "\n",
       "\tswitch (type) {\n",
       "\tcase \"image/png\":\n",
       "            var _src = 'data:' + type + ';base64,' + val;\n",
       "\t    $(container).find(\"img\").attr('src', _src);\n",
       "\t    break;\n",
       "\tdefault:\n",
       "\t    var toinsert = OutputArea.append_map[type].apply(\n",
       "\t\toa, [val, {}, selector]\n",
       "\t    );\n",
       "\t    $(container).empty().append(toinsert.contents());\n",
       "\t    selector.remove();\n",
       "\t}\n",
       "\tif (type === \"text/latex\" && MathJax) {\n",
       "\t    MathJax.Hub.Queue([\"Typeset\", MathJax.Hub, toinsert.get(0)]);\n",
       "\t}\n",
       "    }\n",
       "\n",
       "\n",
       "    $(document).ready(function() {\n",
       "\tfunction initComm(evt, data) {\n",
       "\t    var comm_manager = data.kernel.comm_manager;\n",
       "        //_.extend(comm_manager.targets, require(\"widgets/js/widget\"))\n",
       "\t    comm_manager.register_target(\"Signal\", function (comm) {\n",
       "            comm.on_msg(function (msg) {\n",
       "                //Widgets.log(\"message received\", msg);\n",
       "                var val = msg.content.data.value;\n",
       "                $(\".signal-\" + comm.comm_id).each(function() {\n",
       "                var type = $(this).data(\"type\");\n",
       "                if (val[type]) {\n",
       "                    redrawValue(this, type, val[type], type);\n",
       "                }\n",
       "                });\n",
       "                delete val;\n",
       "                delete msg.content.data.value;\n",
       "            });\n",
       "\t    });\n",
       "\n",
       "\t    // coordingate with Comm and redraw Signals\n",
       "\t    // XXX: Test using Reactive here to improve performance\n",
       "\t    $([IPython.events]).on(\n",
       "\t\t'output_appended.OutputArea', function (event, type, value, md, toinsert) {\n",
       "\t\t    if (md && md.reactive) {\n",
       "                // console.log(md.comm_id);\n",
       "                toinsert.addClass(\"signal-\" + md.comm_id);\n",
       "                toinsert.data(\"type\", type);\n",
       "                // Signal back indicating the mimetype required\n",
       "                var comm_manager = IPython.notebook.kernel.comm_manager;\n",
       "                var comm = comm_manager.comms[md.comm_id];\n",
       "                comm.then(function (c) {\n",
       "                    c.send({action: \"subscribe_mime\",\n",
       "                       mime: type});\n",
       "                    toinsert.bind(\"destroyed\", function() {\n",
       "                        c.send({action: \"unsubscribe_mime\",\n",
       "                               mime: type});\n",
       "                    });\n",
       "                })\n",
       "\t\t    }\n",
       "\t    });\n",
       "\t}\n",
       "\n",
       "\ttry {\n",
       "\t    // try to initialize right away. otherwise, wait on the status_started event.\n",
       "\t    initComm(undefined, IPython.notebook);\n",
       "\t} catch (e) {\n",
       "\t    $([IPython.events]).on('kernel_created.Kernel kernel_created.Session', initComm);\n",
       "\t}\n",
       "    });\n",
       "})(IPython, jQuery, _, MathJax);\n",
       "</script>\n",
       "    <script>\n",
       "        window.interactLoadedFlag = true\n",
       "       $(\"#interact-js-shim\").bind(\"destroyed\", function () {\n",
       "           if (window.interactLoadedFlag) {\n",
       "               console.warn(\"JavaScript required by Interact will be removed if you remove this cell or run using Interact more than once.\")\n",
       "           }\n",
       "       })\n",
       "       $([IPython.events]).on(\"kernel_starting.Kernel kernel_restarting.Kernel\", function () { window.interactLoadedFlag = false })\n",
       "   </script>\n",
       "</div>"
      ]
     },
     "metadata": {},
     "output_type": "display_data"
    },
    {
     "data": {
      "text/plain": [
       "Plots.GRBackend()"
      ]
     },
     "execution_count": 1,
     "metadata": {},
     "output_type": "execute_result"
    }
   ],
   "source": [
    "using Plots, Interact\n",
    "gr()"
   ]
  },
  {
   "cell_type": "code",
   "execution_count": 2,
   "metadata": {
    "collapsed": false
   },
   "outputs": [
    {
     "data": {
      "text/plain": [
       "(-1,1)"
      ]
     },
     "execution_count": 2,
     "metadata": {},
     "output_type": "execute_result"
    }
   ],
   "source": [
    "f(x) = exp(x)\n",
    "F(x) = exp(x) # Primitiva para fins de comparação\n",
    "a, b = -1, 1"
   ]
  },
  {
   "cell_type": "code",
   "execution_count": 3,
   "metadata": {
    "collapsed": false
   },
   "outputs": [
    {
     "name": "stdout",
     "output_type": "stream",
     "text": [
      "[Plots.jl] Initializing backend: gr\n"
     ]
    },
    {
     "data": {
      "text/html": [
       "<?xml version=\"1.0\" encoding=\"utf-8\"?>\n",
       "<svg xmlns=\"http://www.w3.org/2000/svg\" xmlns:xlink=\"http://www.w3.org/1999/xlink\" width=\"600\" height=\"400\" viewBox=\"0 0 600 400\">\n",
       "<defs>\n",
       "  <clipPath id=\"clip00\">\n",
       "    <rect x=\"0\" y=\"0\" width=\"600\" height=\"400\"/>\n",
       "  </clipPath>\n",
       "</defs>\n",
       "<polygon clip-path=\"url(#clip00)\" points=\"\n",
       "0,400 600,400 600,0 0,0 \n",
       "  \" fill=\"#ffffff\" fill-opacity=\"1\"/>\n",
       "<defs>\n",
       "  <clipPath id=\"clip01\">\n",
       "    <rect x=\"120\" y=\"0\" width=\"421\" height=\"400\"/>\n",
       "  </clipPath>\n",
       "</defs>\n",
       "<polygon clip-path=\"url(#clip00)\" points=\"\n",
       "35.4331,377.078 596.063,377.078 596.063,3.93701 35.4331,3.93701 \n",
       "  \" fill=\"#ffffff\" fill-opacity=\"1\"/>\n",
       "<defs>\n",
       "  <clipPath id=\"clip02\">\n",
       "    <rect x=\"35\" y=\"3\" width=\"561\" height=\"374\"/>\n",
       "  </clipPath>\n",
       "</defs>\n",
       "<polyline clip-path=\"url(#clip02)\" style=\"stroke:#00002d; stroke-width:0.8; stroke-opacity:0.5; fill:none\" stroke-dasharray=\"1, 2\" points=\"\n",
       "  35.4331,371.481 35.4331,9.53412 \n",
       "  \"/>\n",
       "<polyline clip-path=\"url(#clip02)\" style=\"stroke:#00002d; stroke-width:0.8; stroke-opacity:0.5; fill:none\" stroke-dasharray=\"1, 2\" points=\"\n",
       "  175.591,371.481 175.591,9.53412 \n",
       "  \"/>\n",
       "<polyline clip-path=\"url(#clip02)\" style=\"stroke:#00002d; stroke-width:0.8; stroke-opacity:0.5; fill:none\" stroke-dasharray=\"1, 2\" points=\"\n",
       "  315.748,371.481 315.748,9.53412 \n",
       "  \"/>\n",
       "<polyline clip-path=\"url(#clip02)\" style=\"stroke:#00002d; stroke-width:0.8; stroke-opacity:0.5; fill:none\" stroke-dasharray=\"1, 2\" points=\"\n",
       "  455.906,371.481 455.906,9.53412 \n",
       "  \"/>\n",
       "<polyline clip-path=\"url(#clip02)\" style=\"stroke:#00002d; stroke-width:0.8; stroke-opacity:0.5; fill:none\" stroke-dasharray=\"1, 2\" points=\"\n",
       "  596.063,371.481 596.063,9.53412 \n",
       "  \"/>\n",
       "<polyline clip-path=\"url(#clip02)\" style=\"stroke:#00002d; stroke-width:0.8; stroke-opacity:0.5; fill:none\" stroke-dasharray=\"1, 2\" points=\"\n",
       "  43.8425,377.078 587.654,377.078 \n",
       "  \"/>\n",
       "<polyline clip-path=\"url(#clip02)\" style=\"stroke:#00002d; stroke-width:0.8; stroke-opacity:0.5; fill:none\" stroke-dasharray=\"1, 2\" points=\"\n",
       "  43.8425,239.807 587.654,239.807 \n",
       "  \"/>\n",
       "<polyline clip-path=\"url(#clip02)\" style=\"stroke:#00002d; stroke-width:0.8; stroke-opacity:0.5; fill:none\" stroke-dasharray=\"1, 2\" points=\"\n",
       "  43.8425,102.536 587.654,102.536 \n",
       "  \"/>\n",
       "<polyline clip-path=\"url(#clip02)\" style=\"stroke:#00002d; stroke-width:0.8; stroke-opacity:1; fill:none\" points=\"\n",
       "  35.4331,377.078 596.063,377.078 \n",
       "  \"/>\n",
       "<polyline clip-path=\"url(#clip02)\" style=\"stroke:#00002d; stroke-width:0.8; stroke-opacity:1; fill:none\" points=\"\n",
       "  35.4331,3.93701 596.063,3.93701 \n",
       "  \"/>\n",
       "<polyline clip-path=\"url(#clip02)\" style=\"stroke:#00002d; stroke-width:0.8; stroke-opacity:1; fill:none\" points=\"\n",
       "  35.4331,377.078 35.4331,371.481 \n",
       "  \"/>\n",
       "<polyline clip-path=\"url(#clip02)\" style=\"stroke:#00002d; stroke-width:0.8; stroke-opacity:1; fill:none\" points=\"\n",
       "  35.4331,3.93701 35.4331,9.53412 \n",
       "  \"/>\n",
       "<polyline clip-path=\"url(#clip02)\" style=\"stroke:#00002d; stroke-width:0.8; stroke-opacity:1; fill:none\" points=\"\n",
       "  175.591,377.078 175.591,371.481 \n",
       "  \"/>\n",
       "<polyline clip-path=\"url(#clip02)\" style=\"stroke:#00002d; stroke-width:0.8; stroke-opacity:1; fill:none\" points=\"\n",
       "  175.591,3.93701 175.591,9.53412 \n",
       "  \"/>\n",
       "<polyline clip-path=\"url(#clip02)\" style=\"stroke:#00002d; stroke-width:0.8; stroke-opacity:1; fill:none\" points=\"\n",
       "  315.748,377.078 315.748,371.481 \n",
       "  \"/>\n",
       "<polyline clip-path=\"url(#clip02)\" style=\"stroke:#00002d; stroke-width:0.8; stroke-opacity:1; fill:none\" points=\"\n",
       "  315.748,3.93701 315.748,9.53412 \n",
       "  \"/>\n",
       "<polyline clip-path=\"url(#clip02)\" style=\"stroke:#00002d; stroke-width:0.8; stroke-opacity:1; fill:none\" points=\"\n",
       "  455.906,377.078 455.906,371.481 \n",
       "  \"/>\n",
       "<polyline clip-path=\"url(#clip02)\" style=\"stroke:#00002d; stroke-width:0.8; stroke-opacity:1; fill:none\" points=\"\n",
       "  455.906,3.93701 455.906,9.53412 \n",
       "  \"/>\n",
       "<polyline clip-path=\"url(#clip02)\" style=\"stroke:#00002d; stroke-width:0.8; stroke-opacity:1; fill:none\" points=\"\n",
       "  596.063,377.078 596.063,371.481 \n",
       "  \"/>\n",
       "<polyline clip-path=\"url(#clip02)\" style=\"stroke:#00002d; stroke-width:0.8; stroke-opacity:1; fill:none\" points=\"\n",
       "  596.063,3.93701 596.063,9.53412 \n",
       "  \"/>\n",
       "<polyline clip-path=\"url(#clip02)\" style=\"stroke:#00002d; stroke-width:0.8; stroke-opacity:1; fill:none\" points=\"\n",
       "  35.4331,377.078 35.4331,3.93701 \n",
       "  \"/>\n",
       "<polyline clip-path=\"url(#clip02)\" style=\"stroke:#00002d; stroke-width:0.8; stroke-opacity:1; fill:none\" points=\"\n",
       "  596.063,377.078 596.063,3.93701 \n",
       "  \"/>\n",
       "<polyline clip-path=\"url(#clip02)\" style=\"stroke:#00002d; stroke-width:0.8; stroke-opacity:1; fill:none\" points=\"\n",
       "  35.4331,377.078 43.8425,377.078 \n",
       "  \"/>\n",
       "<polyline clip-path=\"url(#clip02)\" style=\"stroke:#00002d; stroke-width:0.8; stroke-opacity:1; fill:none\" points=\"\n",
       "  596.063,377.078 587.654,377.078 \n",
       "  \"/>\n",
       "<polyline clip-path=\"url(#clip02)\" style=\"stroke:#00002d; stroke-width:0.8; stroke-opacity:1; fill:none\" points=\"\n",
       "  35.4331,239.807 43.8425,239.807 \n",
       "  \"/>\n",
       "<polyline clip-path=\"url(#clip02)\" style=\"stroke:#00002d; stroke-width:0.8; stroke-opacity:1; fill:none\" points=\"\n",
       "  596.063,239.807 587.654,239.807 \n",
       "  \"/>\n",
       "<polyline clip-path=\"url(#clip02)\" style=\"stroke:#00002d; stroke-width:0.8; stroke-opacity:1; fill:none\" points=\"\n",
       "  35.4331,102.536 43.8425,102.536 \n",
       "  \"/>\n",
       "<polyline clip-path=\"url(#clip02)\" style=\"stroke:#00002d; stroke-width:0.8; stroke-opacity:1; fill:none\" points=\"\n",
       "  596.063,102.536 587.654,102.536 \n",
       "  \"/>\n",
       "<g clip-path=\"url(#clip00)\">\n",
       "<text style=\"fill:#00002d; fill-opacity:1; font-family:Arial,Helvetica Neue,Helvetica,sans-serif; font-size:12; text-anchor:middle;\" transform=\"rotate(0, 35.4331, 393.878)\" x=\"35.4331\" y=\"393.878\">-1.0</text>\n",
       "</g>\n",
       "<g clip-path=\"url(#clip00)\">\n",
       "<text style=\"fill:#00002d; fill-opacity:1; font-family:Arial,Helvetica Neue,Helvetica,sans-serif; font-size:12; text-anchor:middle;\" transform=\"rotate(0, 175.591, 393.878)\" x=\"175.591\" y=\"393.878\">-0.5</text>\n",
       "</g>\n",
       "<g clip-path=\"url(#clip00)\">\n",
       "<text style=\"fill:#00002d; fill-opacity:1; font-family:Arial,Helvetica Neue,Helvetica,sans-serif; font-size:12; text-anchor:middle;\" transform=\"rotate(0, 315.748, 393.878)\" x=\"315.748\" y=\"393.878\">0.0</text>\n",
       "</g>\n",
       "<g clip-path=\"url(#clip00)\">\n",
       "<text style=\"fill:#00002d; fill-opacity:1; font-family:Arial,Helvetica Neue,Helvetica,sans-serif; font-size:12; text-anchor:middle;\" transform=\"rotate(0, 455.906, 393.878)\" x=\"455.906\" y=\"393.878\">0.5</text>\n",
       "</g>\n",
       "<g clip-path=\"url(#clip00)\">\n",
       "<text style=\"fill:#00002d; fill-opacity:1; font-family:Arial,Helvetica Neue,Helvetica,sans-serif; font-size:12; text-anchor:middle;\" transform=\"rotate(0, 596.063, 393.878)\" x=\"596.063\" y=\"393.878\">1.0</text>\n",
       "</g>\n",
       "<g clip-path=\"url(#clip00)\">\n",
       "<text style=\"fill:#00002d; fill-opacity:1; font-family:Arial,Helvetica Neue,Helvetica,sans-serif; font-size:12; text-anchor:end;\" transform=\"rotate(0, 29.4331, 381.578)\" x=\"29.4331\" y=\"381.578\">0</text>\n",
       "</g>\n",
       "<g clip-path=\"url(#clip00)\">\n",
       "<text style=\"fill:#00002d; fill-opacity:1; font-family:Arial,Helvetica Neue,Helvetica,sans-serif; font-size:12; text-anchor:end;\" transform=\"rotate(0, 29.4331, 244.307)\" x=\"29.4331\" y=\"244.307\">1</text>\n",
       "</g>\n",
       "<g clip-path=\"url(#clip00)\">\n",
       "<text style=\"fill:#00002d; fill-opacity:1; font-family:Arial,Helvetica Neue,Helvetica,sans-serif; font-size:12; text-anchor:end;\" transform=\"rotate(0, 29.4331, 107.036)\" x=\"29.4331\" y=\"107.036\">2</text>\n",
       "</g>\n",
       "<polygon clip-path=\"url(#clip02)\" points=\"\n",
       "35.4331,326.579 41.096,325.548 46.7589,324.497 52.4219,323.424 58.0848,322.329 63.7477,321.211 69.4106,320.071 75.0736,318.908 80.7365,317.721 86.3994,316.509 \n",
       "  92.0624,315.273 97.7253,314.012 103.388,312.725 109.051,311.412 114.714,310.072 120.377,308.704 126.04,307.309 131.703,305.885 137.366,304.432 143.029,302.95 \n",
       "  148.692,301.437 154.355,299.893 160.017,298.318 165.68,296.711 171.343,295.071 177.006,293.397 182.669,291.69 188.332,289.947 193.995,288.169 199.658,286.355 \n",
       "  205.321,284.503 210.984,282.614 216.647,280.686 222.31,278.719 227.973,276.712 233.636,274.664 239.298,272.574 244.961,270.441 250.624,268.265 256.287,266.044 \n",
       "  261.95,263.778 267.613,261.466 273.276,259.107 278.939,256.699 284.602,254.243 290.265,251.736 295.928,249.178 301.591,246.568 307.254,243.904 312.917,241.187 \n",
       "  318.579,238.413 324.242,235.584 329.905,232.696 335.568,229.75 341.231,226.743 346.894,223.675 352.557,220.545 358.22,217.35 363.883,214.09 369.546,210.764 \n",
       "  375.209,207.37 380.872,203.907 386.535,200.373 392.198,196.767 397.86,193.087 403.523,189.332 409.186,185.501 414.849,181.591 420.512,177.602 426.175,173.531 \n",
       "  431.838,169.377 437.501,165.139 443.164,160.814 448.827,156.4 454.49,151.897 460.153,147.301 465.816,142.612 471.479,137.827 477.141,132.945 482.804,127.963 \n",
       "  488.467,122.879 494.13,117.691 499.793,112.398 505.456,106.996 511.119,101.485 516.782,95.8606 522.445,90.1216 528.108,84.2656 533.771,78.29 539.434,72.1925 \n",
       "  545.097,65.9706 550.76,59.6217 556.422,53.1432 562.085,46.5325 567.748,39.7869 573.411,32.9037 579.074,25.88 584.737,18.7129 590.4,11.3996 596.063,3.93701 \n",
       "  596.063,377.078 590.4,377.078 584.737,377.078 579.074,377.078 573.411,377.078 567.748,377.078 562.085,377.078 556.422,377.078 550.76,377.078 545.097,377.078 \n",
       "  539.434,377.078 533.771,377.078 528.108,377.078 522.445,377.078 516.782,377.078 511.119,377.078 505.456,377.078 499.793,377.078 494.13,377.078 488.467,377.078 \n",
       "  482.804,377.078 477.141,377.078 471.479,377.078 465.816,377.078 460.153,377.078 454.49,377.078 448.827,377.078 443.164,377.078 437.501,377.078 431.838,377.078 \n",
       "  426.175,377.078 420.512,377.078 414.849,377.078 409.186,377.078 403.523,377.078 397.86,377.078 392.198,377.078 386.535,377.078 380.872,377.078 375.209,377.078 \n",
       "  369.546,377.078 363.883,377.078 358.22,377.078 352.557,377.078 346.894,377.078 341.231,377.078 335.568,377.078 329.905,377.078 324.242,377.078 318.579,377.078 \n",
       "  312.917,377.078 307.254,377.078 301.591,377.078 295.928,377.078 290.265,377.078 284.602,377.078 278.939,377.078 273.276,377.078 267.613,377.078 261.95,377.078 \n",
       "  256.287,377.078 250.624,377.078 244.961,377.078 239.298,377.078 233.636,377.078 227.973,377.078 222.31,377.078 216.647,377.078 210.984,377.078 205.321,377.078 \n",
       "  199.658,377.078 193.995,377.078 188.332,377.078 182.669,377.078 177.006,377.078 171.343,377.078 165.68,377.078 160.017,377.078 154.355,377.078 148.692,377.078 \n",
       "  143.029,377.078 137.366,377.078 131.703,377.078 126.04,377.078 120.377,377.078 114.714,377.078 109.051,377.078 103.388,377.078 97.7253,377.078 92.0624,377.078 \n",
       "  86.3994,377.078 80.7365,377.078 75.0736,377.078 69.4106,377.078 63.7477,377.078 58.0848,377.078 52.4219,377.078 46.7589,377.078 41.096,377.078 35.4331,377.078 \n",
       "  \n",
       "  \" fill=\"#ff0000\" fill-opacity=\"0.5\"/>\n",
       "<polyline clip-path=\"url(#clip02)\" style=\"stroke:#ff0000; stroke-width:0.8; stroke-opacity:1; fill:none\" points=\"\n",
       "  35.4331,326.579 41.096,325.548 46.7589,324.497 52.4219,323.424 58.0848,322.329 63.7477,321.211 69.4106,320.071 75.0736,318.908 80.7365,317.721 86.3994,316.509 \n",
       "  92.0624,315.273 97.7253,314.012 103.388,312.725 109.051,311.412 114.714,310.072 120.377,308.704 126.04,307.309 131.703,305.885 137.366,304.432 143.029,302.95 \n",
       "  148.692,301.437 154.355,299.893 160.017,298.318 165.68,296.711 171.343,295.071 177.006,293.397 182.669,291.69 188.332,289.947 193.995,288.169 199.658,286.355 \n",
       "  205.321,284.503 210.984,282.614 216.647,280.686 222.31,278.719 227.973,276.712 233.636,274.664 239.298,272.574 244.961,270.441 250.624,268.265 256.287,266.044 \n",
       "  261.95,263.778 267.613,261.466 273.276,259.107 278.939,256.699 284.602,254.243 290.265,251.736 295.928,249.178 301.591,246.568 307.254,243.904 312.917,241.187 \n",
       "  318.579,238.413 324.242,235.584 329.905,232.696 335.568,229.75 341.231,226.743 346.894,223.675 352.557,220.545 358.22,217.35 363.883,214.09 369.546,210.764 \n",
       "  375.209,207.37 380.872,203.907 386.535,200.373 392.198,196.767 397.86,193.087 403.523,189.332 409.186,185.501 414.849,181.591 420.512,177.602 426.175,173.531 \n",
       "  431.838,169.377 437.501,165.139 443.164,160.814 448.827,156.4 454.49,151.897 460.153,147.301 465.816,142.612 471.479,137.827 477.141,132.945 482.804,127.963 \n",
       "  488.467,122.879 494.13,117.691 499.793,112.398 505.456,106.996 511.119,101.485 516.782,95.8606 522.445,90.1216 528.108,84.2656 533.771,78.29 539.434,72.1925 \n",
       "  545.097,65.9706 550.76,59.6217 556.422,53.1432 562.085,46.5325 567.748,39.7869 573.411,32.9037 579.074,25.88 584.737,18.7129 590.4,11.3996 596.063,3.93701 \n",
       "  \n",
       "  \"/>\n",
       "<polygon clip-path=\"url(#clip02)\" points=\"\n",
       "35.4331,326.579 41.096,326.301 46.7589,325.963 52.4219,325.564 58.0848,325.104 63.7477,324.584 69.4106,324.002 75.0736,323.359 80.7365,322.656 86.3994,321.892 \n",
       "  92.0624,321.067 97.7253,320.181 103.388,319.234 109.051,318.227 114.714,317.159 120.377,316.029 126.04,314.839 131.703,313.588 137.366,312.276 143.029,310.904 \n",
       "  148.692,309.47 154.355,307.976 160.017,306.421 165.68,304.805 171.343,303.128 177.006,301.39 182.669,299.591 188.332,297.732 193.995,295.812 199.658,293.831 \n",
       "  205.321,291.789 210.984,289.686 216.647,287.522 222.31,285.297 227.973,283.012 233.636,280.666 239.298,278.259 244.961,275.791 250.624,273.262 256.287,270.672 \n",
       "  261.95,268.022 267.613,265.31 273.276,262.538 278.939,259.705 284.602,256.811 290.265,253.856 295.928,250.841 301.591,247.764 307.254,244.627 312.917,241.429 \n",
       "  318.579,238.17 324.242,234.85 329.905,231.469 335.568,228.028 341.231,224.525 346.894,220.962 352.557,217.338 358.22,213.653 363.883,209.907 369.546,206.101 \n",
       "  375.209,202.233 380.872,198.305 386.535,194.315 392.198,190.265 397.86,186.155 403.523,181.983 409.186,177.75 414.849,173.457 420.512,169.102 426.175,164.687 \n",
       "  431.838,160.211 437.501,155.674 443.164,151.077 448.827,146.418 454.49,141.699 460.153,136.918 465.816,132.077 471.479,127.175 477.141,122.213 482.804,117.189 \n",
       "  488.467,112.104 494.13,106.959 499.793,101.753 505.456,96.4857 511.119,91.1578 516.782,85.769 522.445,80.3194 528.108,74.8089 533.771,69.2376 539.434,63.6054 \n",
       "  545.097,57.9124 550.76,52.1586 556.422,46.3438 562.085,40.4683 567.748,34.5318 573.411,28.5346 579.074,22.4765 584.737,16.3575 590.4,10.1777 596.063,3.93701 \n",
       "  596.063,377.078 590.4,377.078 584.737,377.078 579.074,377.078 573.411,377.078 567.748,377.078 562.085,377.078 556.422,377.078 550.76,377.078 545.097,377.078 \n",
       "  539.434,377.078 533.771,377.078 528.108,377.078 522.445,377.078 516.782,377.078 511.119,377.078 505.456,377.078 499.793,377.078 494.13,377.078 488.467,377.078 \n",
       "  482.804,377.078 477.141,377.078 471.479,377.078 465.816,377.078 460.153,377.078 454.49,377.078 448.827,377.078 443.164,377.078 437.501,377.078 431.838,377.078 \n",
       "  426.175,377.078 420.512,377.078 414.849,377.078 409.186,377.078 403.523,377.078 397.86,377.078 392.198,377.078 386.535,377.078 380.872,377.078 375.209,377.078 \n",
       "  369.546,377.078 363.883,377.078 358.22,377.078 352.557,377.078 346.894,377.078 341.231,377.078 335.568,377.078 329.905,377.078 324.242,377.078 318.579,377.078 \n",
       "  312.917,377.078 307.254,377.078 301.591,377.078 295.928,377.078 290.265,377.078 284.602,377.078 278.939,377.078 273.276,377.078 267.613,377.078 261.95,377.078 \n",
       "  256.287,377.078 250.624,377.078 244.961,377.078 239.298,377.078 233.636,377.078 227.973,377.078 222.31,377.078 216.647,377.078 210.984,377.078 205.321,377.078 \n",
       "  199.658,377.078 193.995,377.078 188.332,377.078 182.669,377.078 177.006,377.078 171.343,377.078 165.68,377.078 160.017,377.078 154.355,377.078 148.692,377.078 \n",
       "  143.029,377.078 137.366,377.078 131.703,377.078 126.04,377.078 120.377,377.078 114.714,377.078 109.051,377.078 103.388,377.078 97.7253,377.078 92.0624,377.078 \n",
       "  86.3994,377.078 80.7365,377.078 75.0736,377.078 69.4106,377.078 63.7477,377.078 58.0848,377.078 52.4219,377.078 46.7589,377.078 41.096,377.078 35.4331,377.078 \n",
       "  \n",
       "  \" fill=\"#0000ff\" fill-opacity=\"0.5\"/>\n",
       "<polyline clip-path=\"url(#clip02)\" style=\"stroke:#0000ff; stroke-width:0.8; stroke-opacity:1; fill:none\" points=\"\n",
       "  35.4331,326.579 41.096,326.301 46.7589,325.963 52.4219,325.564 58.0848,325.104 63.7477,324.584 69.4106,324.002 75.0736,323.359 80.7365,322.656 86.3994,321.892 \n",
       "  92.0624,321.067 97.7253,320.181 103.388,319.234 109.051,318.227 114.714,317.159 120.377,316.029 126.04,314.839 131.703,313.588 137.366,312.276 143.029,310.904 \n",
       "  148.692,309.47 154.355,307.976 160.017,306.421 165.68,304.805 171.343,303.128 177.006,301.39 182.669,299.591 188.332,297.732 193.995,295.812 199.658,293.831 \n",
       "  205.321,291.789 210.984,289.686 216.647,287.522 222.31,285.297 227.973,283.012 233.636,280.666 239.298,278.259 244.961,275.791 250.624,273.262 256.287,270.672 \n",
       "  261.95,268.022 267.613,265.31 273.276,262.538 278.939,259.705 284.602,256.811 290.265,253.856 295.928,250.841 301.591,247.764 307.254,244.627 312.917,241.429 \n",
       "  318.579,238.17 324.242,234.85 329.905,231.469 335.568,228.028 341.231,224.525 346.894,220.962 352.557,217.338 358.22,213.653 363.883,209.907 369.546,206.101 \n",
       "  375.209,202.233 380.872,198.305 386.535,194.315 392.198,190.265 397.86,186.155 403.523,181.983 409.186,177.75 414.849,173.457 420.512,169.102 426.175,164.687 \n",
       "  431.838,160.211 437.501,155.674 443.164,151.077 448.827,146.418 454.49,141.699 460.153,136.918 465.816,132.077 471.479,127.175 477.141,122.213 482.804,117.189 \n",
       "  488.467,112.104 494.13,106.959 499.793,101.753 505.456,96.4857 511.119,91.1578 516.782,85.769 522.445,80.3194 528.108,74.8089 533.771,69.2376 539.434,63.6054 \n",
       "  545.097,57.9124 550.76,52.1586 556.422,46.3438 562.085,40.4683 567.748,34.5318 573.411,28.5346 579.074,22.4765 584.737,16.3575 590.4,10.1777 596.063,3.93701 \n",
       "  \n",
       "  \"/>\n",
       "</svg>\n"
      ]
     },
     "execution_count": 3,
     "metadata": {},
     "output_type": "execute_result"
    }
   ],
   "source": [
    "plot(f, a, b, c=:red, fill=(0,:red,0.5), leg=false)\n",
    "h = (b-a)/2\n",
    "α = (f(a+h)-f(a))/h\n",
    "β = (f(b)-2*f(a+h)+f(a))/2h^2\n",
    "plot!(x->f(a) + (x-a)*α + (x-a)*(x-a-h)*β, a, b, c=:blue, fill=(0,:blue,0.5))"
   ]
  },
  {
   "cell_type": "markdown",
   "metadata": {},
   "source": [
    "$$\n",
    "\\int_a^b f(x)\\mbox{d}x \\approx\n",
    "\\frac{h}{3}[f(x_1) + 4f(x_2) + f(x_3)]\n",
    "$$\n",
    "com $h = (b-a)/2$, $x_1 = a$, $x_3 = b$."
   ]
  },
  {
   "cell_type": "code",
   "execution_count": 4,
   "metadata": {
    "collapsed": false
   },
   "outputs": [
    {
     "data": {
      "text/plain": [
       "simpson (generic function with 1 method)"
      ]
     },
     "execution_count": 4,
     "metadata": {},
     "output_type": "execute_result"
    }
   ],
   "source": [
    "function simpson(f, a, b)\n",
    "    return (b-a)*( f(a) + 4*f((a+b)/2) + f(b))/6\n",
    "end"
   ]
  },
  {
   "cell_type": "code",
   "execution_count": 5,
   "metadata": {
    "collapsed": false
   },
   "outputs": [
    {
     "data": {
      "text/plain": [
       "0.011651369255893052"
      ]
     },
     "execution_count": 5,
     "metadata": {},
     "output_type": "execute_result"
    }
   ],
   "source": [
    "simpson(f, a, b) - (F(b)-F(a))"
   ]
  },
  {
   "cell_type": "code",
   "execution_count": 7,
   "metadata": {
    "collapsed": false,
    "scrolled": true
   },
   "outputs": [
    {
     "data": {
      "text/html": [],
      "text/plain": [
       "Interact.Slider{Int64}(Signal{Int64}(2, nactions=0),\"\",2,2:2:100,true)"
      ]
     },
     "metadata": {},
     "output_type": "display_data"
    },
    {
     "data": {
      "image/png": "",
      "image/svg+xml": [
       "<?xml version=\"1.0\" encoding=\"utf-8\"?>\n",
       "<svg xmlns=\"http://www.w3.org/2000/svg\" xmlns:xlink=\"http://www.w3.org/1999/xlink\" width=\"600\" height=\"400\" viewBox=\"0 0 600 400\">\n",
       "<defs>\n",
       "  <clipPath id=\"clip00\">\n",
       "    <rect x=\"0\" y=\"0\" width=\"600\" height=\"400\"/>\n",
       "  </clipPath>\n",
       "</defs>\n",
       "<polygon clip-path=\"url(#clip00)\" points=\"\n",
       "0,400 600,400 600,0 0,0 \n",
       "  \" fill=\"#ffffff\" fill-opacity=\"1\"/>\n",
       "<defs>\n",
       "  <clipPath id=\"clip01\">\n",
       "    <rect x=\"120\" y=\"0\" width=\"421\" height=\"400\"/>\n",
       "  </clipPath>\n",
       "</defs>\n",
       "<polygon clip-path=\"url(#clip00)\" points=\"\n",
       "35.4331,377.078 596.063,377.078 596.063,3.93701 35.4331,3.93701 \n",
       "  \" fill=\"#ffffff\" fill-opacity=\"1\"/>\n",
       "<defs>\n",
       "  <clipPath id=\"clip02\">\n",
       "    <rect x=\"35\" y=\"3\" width=\"561\" height=\"374\"/>\n",
       "  </clipPath>\n",
       "</defs>\n",
       "<polyline clip-path=\"url(#clip02)\" style=\"stroke:#00002d; stroke-width:0.8; stroke-opacity:0.5; fill:none\" stroke-dasharray=\"1, 2\" points=\"\n",
       "  35.4331,371.481 35.4331,9.53412 \n",
       "  \"/>\n",
       "<polyline clip-path=\"url(#clip02)\" style=\"stroke:#00002d; stroke-width:0.8; stroke-opacity:0.5; fill:none\" stroke-dasharray=\"1, 2\" points=\"\n",
       "  175.591,371.481 175.591,9.53412 \n",
       "  \"/>\n",
       "<polyline clip-path=\"url(#clip02)\" style=\"stroke:#00002d; stroke-width:0.8; stroke-opacity:0.5; fill:none\" stroke-dasharray=\"1, 2\" points=\"\n",
       "  315.748,371.481 315.748,9.53412 \n",
       "  \"/>\n",
       "<polyline clip-path=\"url(#clip02)\" style=\"stroke:#00002d; stroke-width:0.8; stroke-opacity:0.5; fill:none\" stroke-dasharray=\"1, 2\" points=\"\n",
       "  455.906,371.481 455.906,9.53412 \n",
       "  \"/>\n",
       "<polyline clip-path=\"url(#clip02)\" style=\"stroke:#00002d; stroke-width:0.8; stroke-opacity:0.5; fill:none\" stroke-dasharray=\"1, 2\" points=\"\n",
       "  596.063,371.481 596.063,9.53412 \n",
       "  \"/>\n",
       "<polyline clip-path=\"url(#clip02)\" style=\"stroke:#00002d; stroke-width:0.8; stroke-opacity:0.5; fill:none\" stroke-dasharray=\"1, 2\" points=\"\n",
       "  43.8425,262.594 587.654,262.594 \n",
       "  \"/>\n",
       "<polyline clip-path=\"url(#clip02)\" style=\"stroke:#00002d; stroke-width:0.8; stroke-opacity:0.5; fill:none\" stroke-dasharray=\"1, 2\" points=\"\n",
       "  43.8425,143.77 587.654,143.77 \n",
       "  \"/>\n",
       "<polyline clip-path=\"url(#clip02)\" style=\"stroke:#00002d; stroke-width:0.8; stroke-opacity:0.5; fill:none\" stroke-dasharray=\"1, 2\" points=\"\n",
       "  43.8425,24.9454 587.654,24.9454 \n",
       "  \"/>\n",
       "<polyline clip-path=\"url(#clip02)\" style=\"stroke:#00002d; stroke-width:0.8; stroke-opacity:1; fill:none\" points=\"\n",
       "  35.4331,377.078 596.063,377.078 \n",
       "  \"/>\n",
       "<polyline clip-path=\"url(#clip02)\" style=\"stroke:#00002d; stroke-width:0.8; stroke-opacity:1; fill:none\" points=\"\n",
       "  35.4331,3.93701 596.063,3.93701 \n",
       "  \"/>\n",
       "<polyline clip-path=\"url(#clip02)\" style=\"stroke:#00002d; stroke-width:0.8; stroke-opacity:1; fill:none\" points=\"\n",
       "  35.4331,377.078 35.4331,371.481 \n",
       "  \"/>\n",
       "<polyline clip-path=\"url(#clip02)\" style=\"stroke:#00002d; stroke-width:0.8; stroke-opacity:1; fill:none\" points=\"\n",
       "  35.4331,3.93701 35.4331,9.53412 \n",
       "  \"/>\n",
       "<polyline clip-path=\"url(#clip02)\" style=\"stroke:#00002d; stroke-width:0.8; stroke-opacity:1; fill:none\" points=\"\n",
       "  175.591,377.078 175.591,371.481 \n",
       "  \"/>\n",
       "<polyline clip-path=\"url(#clip02)\" style=\"stroke:#00002d; stroke-width:0.8; stroke-opacity:1; fill:none\" points=\"\n",
       "  175.591,3.93701 175.591,9.53412 \n",
       "  \"/>\n",
       "<polyline clip-path=\"url(#clip02)\" style=\"stroke:#00002d; stroke-width:0.8; stroke-opacity:1; fill:none\" points=\"\n",
       "  315.748,377.078 315.748,371.481 \n",
       "  \"/>\n",
       "<polyline clip-path=\"url(#clip02)\" style=\"stroke:#00002d; stroke-width:0.8; stroke-opacity:1; fill:none\" points=\"\n",
       "  315.748,3.93701 315.748,9.53412 \n",
       "  \"/>\n",
       "<polyline clip-path=\"url(#clip02)\" style=\"stroke:#00002d; stroke-width:0.8; stroke-opacity:1; fill:none\" points=\"\n",
       "  455.906,377.078 455.906,371.481 \n",
       "  \"/>\n",
       "<polyline clip-path=\"url(#clip02)\" style=\"stroke:#00002d; stroke-width:0.8; stroke-opacity:1; fill:none\" points=\"\n",
       "  455.906,3.93701 455.906,9.53412 \n",
       "  \"/>\n",
       "<polyline clip-path=\"url(#clip02)\" style=\"stroke:#00002d; stroke-width:0.8; stroke-opacity:1; fill:none\" points=\"\n",
       "  596.063,377.078 596.063,371.481 \n",
       "  \"/>\n",
       "<polyline clip-path=\"url(#clip02)\" style=\"stroke:#00002d; stroke-width:0.8; stroke-opacity:1; fill:none\" points=\"\n",
       "  596.063,3.93701 596.063,9.53412 \n",
       "  \"/>\n",
       "<polyline clip-path=\"url(#clip02)\" style=\"stroke:#00002d; stroke-width:0.8; stroke-opacity:1; fill:none\" points=\"\n",
       "  35.4331,377.078 35.4331,3.93701 \n",
       "  \"/>\n",
       "<polyline clip-path=\"url(#clip02)\" style=\"stroke:#00002d; stroke-width:0.8; stroke-opacity:1; fill:none\" points=\"\n",
       "  596.063,377.078 596.063,3.93701 \n",
       "  \"/>\n",
       "<polyline clip-path=\"url(#clip02)\" style=\"stroke:#00002d; stroke-width:0.8; stroke-opacity:1; fill:none\" points=\"\n",
       "  35.4331,262.594 43.8425,262.594 \n",
       "  \"/>\n",
       "<polyline clip-path=\"url(#clip02)\" style=\"stroke:#00002d; stroke-width:0.8; stroke-opacity:1; fill:none\" points=\"\n",
       "  596.063,262.594 587.654,262.594 \n",
       "  \"/>\n",
       "<polyline clip-path=\"url(#clip02)\" style=\"stroke:#00002d; stroke-width:0.8; stroke-opacity:1; fill:none\" points=\"\n",
       "  35.4331,143.77 43.8425,143.77 \n",
       "  \"/>\n",
       "<polyline clip-path=\"url(#clip02)\" style=\"stroke:#00002d; stroke-width:0.8; stroke-opacity:1; fill:none\" points=\"\n",
       "  596.063,143.77 587.654,143.77 \n",
       "  \"/>\n",
       "<polyline clip-path=\"url(#clip02)\" style=\"stroke:#00002d; stroke-width:0.8; stroke-opacity:1; fill:none\" points=\"\n",
       "  35.4331,24.9454 43.8425,24.9454 \n",
       "  \"/>\n",
       "<polyline clip-path=\"url(#clip02)\" style=\"stroke:#00002d; stroke-width:0.8; stroke-opacity:1; fill:none\" points=\"\n",
       "  596.063,24.9454 587.654,24.9454 \n",
       "  \"/>\n",
       "<g clip-path=\"url(#clip00)\">\n",
       "<text style=\"fill:#00002d; fill-opacity:1; font-family:Arial,Helvetica Neue,Helvetica,sans-serif; font-size:12; text-anchor:middle;\" transform=\"rotate(0, 35.4331, 393.878)\" x=\"35.4331\" y=\"393.878\">-1.0</text>\n",
       "</g>\n",
       "<g clip-path=\"url(#clip00)\">\n",
       "<text style=\"fill:#00002d; fill-opacity:1; font-family:Arial,Helvetica Neue,Helvetica,sans-serif; font-size:12; text-anchor:middle;\" transform=\"rotate(0, 175.591, 393.878)\" x=\"175.591\" y=\"393.878\">-0.5</text>\n",
       "</g>\n",
       "<g clip-path=\"url(#clip00)\">\n",
       "<text style=\"fill:#00002d; fill-opacity:1; font-family:Arial,Helvetica Neue,Helvetica,sans-serif; font-size:12; text-anchor:middle;\" transform=\"rotate(0, 315.748, 393.878)\" x=\"315.748\" y=\"393.878\">0.0</text>\n",
       "</g>\n",
       "<g clip-path=\"url(#clip00)\">\n",
       "<text style=\"fill:#00002d; fill-opacity:1; font-family:Arial,Helvetica Neue,Helvetica,sans-serif; font-size:12; text-anchor:middle;\" transform=\"rotate(0, 455.906, 393.878)\" x=\"455.906\" y=\"393.878\">0.5</text>\n",
       "</g>\n",
       "<g clip-path=\"url(#clip00)\">\n",
       "<text style=\"fill:#00002d; fill-opacity:1; font-family:Arial,Helvetica Neue,Helvetica,sans-serif; font-size:12; text-anchor:middle;\" transform=\"rotate(0, 596.063, 393.878)\" x=\"596.063\" y=\"393.878\">1.0</text>\n",
       "</g>\n",
       "<g clip-path=\"url(#clip00)\">\n",
       "<text style=\"fill:#00002d; fill-opacity:1; font-family:Arial,Helvetica Neue,Helvetica,sans-serif; font-size:12; text-anchor:end;\" transform=\"rotate(0, 29.4331, 267.094)\" x=\"29.4331\" y=\"267.094\">-1</text>\n",
       "</g>\n",
       "<g clip-path=\"url(#clip00)\">\n",
       "<text style=\"fill:#00002d; fill-opacity:1; font-family:Arial,Helvetica Neue,Helvetica,sans-serif; font-size:12; text-anchor:end;\" transform=\"rotate(0, 29.4331, 148.27)\" x=\"29.4331\" y=\"148.27\">0</text>\n",
       "</g>\n",
       "<g clip-path=\"url(#clip00)\">\n",
       "<text style=\"fill:#00002d; fill-opacity:1; font-family:Arial,Helvetica Neue,Helvetica,sans-serif; font-size:12; text-anchor:end;\" transform=\"rotate(0, 29.4331, 29.4454)\" x=\"29.4331\" y=\"29.4454\">1</text>\n",
       "</g>\n",
       "<polygon clip-path=\"url(#clip02)\" points=\"\n",
       "35.4331,126.832 41.096,145.588 46.7589,164.481 52.4219,183.365 58.0848,202.091 63.7477,220.512 69.4106,238.485 75.0736,255.867 80.7365,272.522 86.3994,288.319 \n",
       "  92.0624,303.134 97.7253,316.851 103.388,329.364 109.051,340.577 114.714,350.405 120.377,358.774 126.04,365.624 131.703,370.906 137.366,374.588 143.029,376.647 \n",
       "  148.692,377.078 154.355,375.887 160.017,373.095 165.68,368.737 171.343,362.861 177.006,355.525 182.669,346.803 188.332,336.778 193.995,325.543 199.658,313.203 \n",
       "  205.321,299.87 210.984,285.662 216.647,270.705 222.31,255.131 227.973,239.074 233.636,222.671 239.298,206.06 244.961,189.38 250.624,172.768 256.287,156.357 \n",
       "  261.95,140.279 267.613,124.658 273.276,109.614 278.939,95.2581 284.602,81.6944 290.265,69.0172 295.928,57.3107 301.591,46.6489 307.254,37.0941 312.917,28.6971 \n",
       "  318.579,21.4968 324.242,15.5194 329.905,10.7791 335.568,7.27759 341.231,5.00437 346.894,3.93701 352.557,4.04157 358.22,5.2731 363.883,7.57625 369.546,10.886 \n",
       "  375.209,15.1284 380.872,20.2216 386.535,26.0769 392.198,32.5994 397.86,39.6896 403.523,47.244 409.186,55.1568 414.849,63.3209 420.512,71.6287 426.175,79.974 \n",
       "  431.838,88.2525 437.501,96.3634 443.164,104.21 448.827,111.702 454.49,118.753 460.153,125.288 465.816,131.236 471.479,136.538 477.141,141.142 482.804,145.007 \n",
       "  488.467,148.102 494.13,150.408 499.793,151.916 505.456,152.626 511.119,152.551 516.782,151.714 522.445,150.148 528.108,147.896 533.771,145.011 539.434,141.552 \n",
       "  545.097,137.589 550.76,133.197 556.422,128.459 562.085,123.461 567.748,118.295 573.411,113.056 579.074,107.839 584.737,102.743 590.4,97.8628 596.063,93.2953 \n",
       "  596.063,143.77 590.4,143.77 584.737,143.77 579.074,143.77 573.411,143.77 567.748,143.77 562.085,143.77 556.422,143.77 550.76,143.77 545.097,143.77 \n",
       "  539.434,143.77 533.771,143.77 528.108,143.77 522.445,143.77 516.782,143.77 511.119,143.77 505.456,143.77 499.793,143.77 494.13,143.77 488.467,143.77 \n",
       "  482.804,143.77 477.141,143.77 471.479,143.77 465.816,143.77 460.153,143.77 454.49,143.77 448.827,143.77 443.164,143.77 437.501,143.77 431.838,143.77 \n",
       "  426.175,143.77 420.512,143.77 414.849,143.77 409.186,143.77 403.523,143.77 397.86,143.77 392.198,143.77 386.535,143.77 380.872,143.77 375.209,143.77 \n",
       "  369.546,143.77 363.883,143.77 358.22,143.77 352.557,143.77 346.894,143.77 341.231,143.77 335.568,143.77 329.905,143.77 324.242,143.77 318.579,143.77 \n",
       "  312.917,143.77 307.254,143.77 301.591,143.77 295.928,143.77 290.265,143.77 284.602,143.77 278.939,143.77 273.276,143.77 267.613,143.77 261.95,143.77 \n",
       "  256.287,143.77 250.624,143.77 244.961,143.77 239.298,143.77 233.636,143.77 227.973,143.77 222.31,143.77 216.647,143.77 210.984,143.77 205.321,143.77 \n",
       "  199.658,143.77 193.995,143.77 188.332,143.77 182.669,143.77 177.006,143.77 171.343,143.77 165.68,143.77 160.017,143.77 154.355,143.77 148.692,143.77 \n",
       "  143.029,143.77 137.366,143.77 131.703,143.77 126.04,143.77 120.377,143.77 114.714,143.77 109.051,143.77 103.388,143.77 97.7253,143.77 92.0624,143.77 \n",
       "  86.3994,143.77 80.7365,143.77 75.0736,143.77 69.4106,143.77 63.7477,143.77 58.0848,143.77 52.4219,143.77 46.7589,143.77 41.096,143.77 35.4331,143.77 \n",
       "  \n",
       "  \" fill=\"#ff0000\" fill-opacity=\"0.5\"/>\n",
       "<polyline clip-path=\"url(#clip02)\" style=\"stroke:#ff0000; stroke-width:0.8; stroke-opacity:1; fill:none\" points=\"\n",
       "  35.4331,126.832 41.096,145.588 46.7589,164.481 52.4219,183.365 58.0848,202.091 63.7477,220.512 69.4106,238.485 75.0736,255.867 80.7365,272.522 86.3994,288.319 \n",
       "  92.0624,303.134 97.7253,316.851 103.388,329.364 109.051,340.577 114.714,350.405 120.377,358.774 126.04,365.624 131.703,370.906 137.366,374.588 143.029,376.647 \n",
       "  148.692,377.078 154.355,375.887 160.017,373.095 165.68,368.737 171.343,362.861 177.006,355.525 182.669,346.803 188.332,336.778 193.995,325.543 199.658,313.203 \n",
       "  205.321,299.87 210.984,285.662 216.647,270.705 222.31,255.131 227.973,239.074 233.636,222.671 239.298,206.06 244.961,189.38 250.624,172.768 256.287,156.357 \n",
       "  261.95,140.279 267.613,124.658 273.276,109.614 278.939,95.2581 284.602,81.6944 290.265,69.0172 295.928,57.3107 301.591,46.6489 307.254,37.0941 312.917,28.6971 \n",
       "  318.579,21.4968 324.242,15.5194 329.905,10.7791 335.568,7.27759 341.231,5.00437 346.894,3.93701 352.557,4.04157 358.22,5.2731 363.883,7.57625 369.546,10.886 \n",
       "  375.209,15.1284 380.872,20.2216 386.535,26.0769 392.198,32.5994 397.86,39.6896 403.523,47.244 409.186,55.1568 414.849,63.3209 420.512,71.6287 426.175,79.974 \n",
       "  431.838,88.2525 437.501,96.3634 443.164,104.21 448.827,111.702 454.49,118.753 460.153,125.288 465.816,131.236 471.479,136.538 477.141,141.142 482.804,145.007 \n",
       "  488.467,148.102 494.13,150.408 499.793,151.916 505.456,152.626 511.119,152.551 516.782,151.714 522.445,150.148 528.108,147.896 533.771,145.011 539.434,141.552 \n",
       "  545.097,137.589 550.76,133.197 556.422,128.459 562.085,123.461 567.748,118.295 573.411,113.056 579.074,107.839 584.737,102.743 590.4,97.8628 596.063,93.2953 \n",
       "  \n",
       "  \"/>\n",
       "<polygon clip-path=\"url(#clip02)\" points=\"\n",
       "35.4331,126.832 41.096,123.089 46.7589,119.416 52.4219,115.811 58.0848,112.277 63.7477,108.811 69.4106,105.416 75.0736,102.089 80.7365,98.8325 86.3994,95.6452 \n",
       "  92.0624,92.5273 97.7253,89.479 103.388,86.5001 109.051,83.5906 114.714,80.7507 120.377,77.9802 126.04,75.2793 131.703,72.6478 137.366,70.0857 143.029,67.5932 \n",
       "  148.692,65.1701 154.355,62.8165 160.017,60.5324 165.68,58.3177 171.343,56.1726 177.006,54.0969 182.669,52.0907 188.332,50.1539 193.995,48.2867 199.658,46.4889 \n",
       "  205.321,44.7606 210.984,43.1017 216.647,41.5124 222.31,39.9925 227.973,38.5421 233.636,37.1612 239.298,35.8498 244.961,34.6078 250.624,33.4353 256.287,32.3323 \n",
       "  261.95,31.2988 267.613,30.3347 273.276,29.4402 278.939,28.6151 284.602,27.8594 290.265,27.1733 295.928,26.5566 301.591,26.0094 307.254,25.5317 312.917,25.1235 \n",
       "  318.579,24.7847 324.242,24.5155 329.905,24.3156 335.568,24.1853 341.231,24.1245 346.894,24.1331 352.557,24.2112 358.22,24.3588 363.883,24.5759 369.546,24.8624 \n",
       "  375.209,25.2184 380.872,25.6439 386.535,26.1389 392.198,26.7033 397.86,27.3372 403.523,28.0406 409.186,28.8135 414.849,29.6559 420.512,30.5677 426.175,31.549 \n",
       "  431.838,32.5998 437.501,33.7201 443.164,34.9098 448.827,36.169 454.49,37.4977 460.153,38.8959 465.816,40.3636 471.479,41.9007 477.141,43.5073 482.804,45.1834 \n",
       "  488.467,46.929 494.13,48.744 499.793,50.6285 505.456,52.5825 511.119,54.606 516.782,56.6989 522.445,58.8614 528.108,61.0933 533.771,63.3946 539.434,65.7655 \n",
       "  545.097,68.2058 550.76,70.7156 556.422,73.2949 562.085,75.9437 567.748,78.6619 573.411,81.4497 579.074,84.3069 584.737,87.2335 590.4,90.2297 596.063,93.2953 \n",
       "  596.063,143.77 590.4,143.77 584.737,143.77 579.074,143.77 573.411,143.77 567.748,143.77 562.085,143.77 556.422,143.77 550.76,143.77 545.097,143.77 \n",
       "  539.434,143.77 533.771,143.77 528.108,143.77 522.445,143.77 516.782,143.77 511.119,143.77 505.456,143.77 499.793,143.77 494.13,143.77 488.467,143.77 \n",
       "  482.804,143.77 477.141,143.77 471.479,143.77 465.816,143.77 460.153,143.77 454.49,143.77 448.827,143.77 443.164,143.77 437.501,143.77 431.838,143.77 \n",
       "  426.175,143.77 420.512,143.77 414.849,143.77 409.186,143.77 403.523,143.77 397.86,143.77 392.198,143.77 386.535,143.77 380.872,143.77 375.209,143.77 \n",
       "  369.546,143.77 363.883,143.77 358.22,143.77 352.557,143.77 346.894,143.77 341.231,143.77 335.568,143.77 329.905,143.77 324.242,143.77 318.579,143.77 \n",
       "  312.917,143.77 307.254,143.77 301.591,143.77 295.928,143.77 290.265,143.77 284.602,143.77 278.939,143.77 273.276,143.77 267.613,143.77 261.95,143.77 \n",
       "  256.287,143.77 250.624,143.77 244.961,143.77 239.298,143.77 233.636,143.77 227.973,143.77 222.31,143.77 216.647,143.77 210.984,143.77 205.321,143.77 \n",
       "  199.658,143.77 193.995,143.77 188.332,143.77 182.669,143.77 177.006,143.77 171.343,143.77 165.68,143.77 160.017,143.77 154.355,143.77 148.692,143.77 \n",
       "  143.029,143.77 137.366,143.77 131.703,143.77 126.04,143.77 120.377,143.77 114.714,143.77 109.051,143.77 103.388,143.77 97.7253,143.77 92.0624,143.77 \n",
       "  86.3994,143.77 80.7365,143.77 75.0736,143.77 69.4106,143.77 63.7477,143.77 58.0848,143.77 52.4219,143.77 46.7589,143.77 41.096,143.77 35.4331,143.77 \n",
       "  \n",
       "  \" fill=\"#0000ff\" fill-opacity=\"0.5\"/>\n",
       "<polyline clip-path=\"url(#clip02)\" style=\"stroke:#0000ff; stroke-width:0.8; stroke-opacity:1; fill:none\" points=\"\n",
       "  35.4331,126.832 41.096,123.089 46.7589,119.416 52.4219,115.811 58.0848,112.277 63.7477,108.811 69.4106,105.416 75.0736,102.089 80.7365,98.8325 86.3994,95.6452 \n",
       "  92.0624,92.5273 97.7253,89.479 103.388,86.5001 109.051,83.5906 114.714,80.7507 120.377,77.9802 126.04,75.2793 131.703,72.6478 137.366,70.0857 143.029,67.5932 \n",
       "  148.692,65.1701 154.355,62.8165 160.017,60.5324 165.68,58.3177 171.343,56.1726 177.006,54.0969 182.669,52.0907 188.332,50.1539 193.995,48.2867 199.658,46.4889 \n",
       "  205.321,44.7606 210.984,43.1017 216.647,41.5124 222.31,39.9925 227.973,38.5421 233.636,37.1612 239.298,35.8498 244.961,34.6078 250.624,33.4353 256.287,32.3323 \n",
       "  261.95,31.2988 267.613,30.3347 273.276,29.4402 278.939,28.6151 284.602,27.8594 290.265,27.1733 295.928,26.5566 301.591,26.0094 307.254,25.5317 312.917,25.1235 \n",
       "  318.579,24.7847 324.242,24.5155 329.905,24.3156 335.568,24.1853 341.231,24.1245 346.894,24.1331 352.557,24.2112 358.22,24.3588 363.883,24.5759 369.546,24.8624 \n",
       "  375.209,25.2184 380.872,25.6439 386.535,26.1389 392.198,26.7033 397.86,27.3372 403.523,28.0406 409.186,28.8135 414.849,29.6559 420.512,30.5677 426.175,31.549 \n",
       "  431.838,32.5998 437.501,33.7201 443.164,34.9098 448.827,36.169 454.49,37.4977 460.153,38.8959 465.816,40.3636 471.479,41.9007 477.141,43.5073 482.804,45.1834 \n",
       "  488.467,46.929 494.13,48.744 499.793,50.6285 505.456,52.5825 511.119,54.606 516.782,56.6989 522.445,58.8614 528.108,61.0933 533.771,63.3946 539.434,65.7655 \n",
       "  545.097,68.2058 550.76,70.7156 556.422,73.2949 562.085,75.9437 567.748,78.6619 573.411,81.4497 579.074,84.3069 584.737,87.2335 590.4,90.2297 596.063,93.2953 \n",
       "  \n",
       "  \"/>\n",
       "</svg>\n"
      ],
      "text/html": [
       "<?xml version=\"1.0\" encoding=\"utf-8\"?>\n",
       "<svg xmlns=\"http://www.w3.org/2000/svg\" xmlns:xlink=\"http://www.w3.org/1999/xlink\" width=\"600\" height=\"400\" viewBox=\"0 0 600 400\">\n",
       "<defs>\n",
       "  <clipPath id=\"clip00\">\n",
       "    <rect x=\"0\" y=\"0\" width=\"600\" height=\"400\"/>\n",
       "  </clipPath>\n",
       "</defs>\n",
       "<polygon clip-path=\"url(#clip00)\" points=\"\n",
       "0,400 600,400 600,0 0,0 \n",
       "  \" fill=\"#ffffff\" fill-opacity=\"1\"/>\n",
       "<defs>\n",
       "  <clipPath id=\"clip01\">\n",
       "    <rect x=\"120\" y=\"0\" width=\"421\" height=\"400\"/>\n",
       "  </clipPath>\n",
       "</defs>\n",
       "<polygon clip-path=\"url(#clip00)\" points=\"\n",
       "35.4331,377.078 596.063,377.078 596.063,3.93701 35.4331,3.93701 \n",
       "  \" fill=\"#ffffff\" fill-opacity=\"1\"/>\n",
       "<defs>\n",
       "  <clipPath id=\"clip02\">\n",
       "    <rect x=\"35\" y=\"3\" width=\"561\" height=\"374\"/>\n",
       "  </clipPath>\n",
       "</defs>\n",
       "<polyline clip-path=\"url(#clip02)\" style=\"stroke:#00002d; stroke-width:0.8; stroke-opacity:0.5; fill:none\" stroke-dasharray=\"1, 2\" points=\"\n",
       "  35.4331,371.481 35.4331,9.53412 \n",
       "  \"/>\n",
       "<polyline clip-path=\"url(#clip02)\" style=\"stroke:#00002d; stroke-width:0.8; stroke-opacity:0.5; fill:none\" stroke-dasharray=\"1, 2\" points=\"\n",
       "  175.591,371.481 175.591,9.53412 \n",
       "  \"/>\n",
       "<polyline clip-path=\"url(#clip02)\" style=\"stroke:#00002d; stroke-width:0.8; stroke-opacity:0.5; fill:none\" stroke-dasharray=\"1, 2\" points=\"\n",
       "  315.748,371.481 315.748,9.53412 \n",
       "  \"/>\n",
       "<polyline clip-path=\"url(#clip02)\" style=\"stroke:#00002d; stroke-width:0.8; stroke-opacity:0.5; fill:none\" stroke-dasharray=\"1, 2\" points=\"\n",
       "  455.906,371.481 455.906,9.53412 \n",
       "  \"/>\n",
       "<polyline clip-path=\"url(#clip02)\" style=\"stroke:#00002d; stroke-width:0.8; stroke-opacity:0.5; fill:none\" stroke-dasharray=\"1, 2\" points=\"\n",
       "  596.063,371.481 596.063,9.53412 \n",
       "  \"/>\n",
       "<polyline clip-path=\"url(#clip02)\" style=\"stroke:#00002d; stroke-width:0.8; stroke-opacity:0.5; fill:none\" stroke-dasharray=\"1, 2\" points=\"\n",
       "  43.8425,262.594 587.654,262.594 \n",
       "  \"/>\n",
       "<polyline clip-path=\"url(#clip02)\" style=\"stroke:#00002d; stroke-width:0.8; stroke-opacity:0.5; fill:none\" stroke-dasharray=\"1, 2\" points=\"\n",
       "  43.8425,143.77 587.654,143.77 \n",
       "  \"/>\n",
       "<polyline clip-path=\"url(#clip02)\" style=\"stroke:#00002d; stroke-width:0.8; stroke-opacity:0.5; fill:none\" stroke-dasharray=\"1, 2\" points=\"\n",
       "  43.8425,24.9454 587.654,24.9454 \n",
       "  \"/>\n",
       "<polyline clip-path=\"url(#clip02)\" style=\"stroke:#00002d; stroke-width:0.8; stroke-opacity:1; fill:none\" points=\"\n",
       "  35.4331,377.078 596.063,377.078 \n",
       "  \"/>\n",
       "<polyline clip-path=\"url(#clip02)\" style=\"stroke:#00002d; stroke-width:0.8; stroke-opacity:1; fill:none\" points=\"\n",
       "  35.4331,3.93701 596.063,3.93701 \n",
       "  \"/>\n",
       "<polyline clip-path=\"url(#clip02)\" style=\"stroke:#00002d; stroke-width:0.8; stroke-opacity:1; fill:none\" points=\"\n",
       "  35.4331,377.078 35.4331,371.481 \n",
       "  \"/>\n",
       "<polyline clip-path=\"url(#clip02)\" style=\"stroke:#00002d; stroke-width:0.8; stroke-opacity:1; fill:none\" points=\"\n",
       "  35.4331,3.93701 35.4331,9.53412 \n",
       "  \"/>\n",
       "<polyline clip-path=\"url(#clip02)\" style=\"stroke:#00002d; stroke-width:0.8; stroke-opacity:1; fill:none\" points=\"\n",
       "  175.591,377.078 175.591,371.481 \n",
       "  \"/>\n",
       "<polyline clip-path=\"url(#clip02)\" style=\"stroke:#00002d; stroke-width:0.8; stroke-opacity:1; fill:none\" points=\"\n",
       "  175.591,3.93701 175.591,9.53412 \n",
       "  \"/>\n",
       "<polyline clip-path=\"url(#clip02)\" style=\"stroke:#00002d; stroke-width:0.8; stroke-opacity:1; fill:none\" points=\"\n",
       "  315.748,377.078 315.748,371.481 \n",
       "  \"/>\n",
       "<polyline clip-path=\"url(#clip02)\" style=\"stroke:#00002d; stroke-width:0.8; stroke-opacity:1; fill:none\" points=\"\n",
       "  315.748,3.93701 315.748,9.53412 \n",
       "  \"/>\n",
       "<polyline clip-path=\"url(#clip02)\" style=\"stroke:#00002d; stroke-width:0.8; stroke-opacity:1; fill:none\" points=\"\n",
       "  455.906,377.078 455.906,371.481 \n",
       "  \"/>\n",
       "<polyline clip-path=\"url(#clip02)\" style=\"stroke:#00002d; stroke-width:0.8; stroke-opacity:1; fill:none\" points=\"\n",
       "  455.906,3.93701 455.906,9.53412 \n",
       "  \"/>\n",
       "<polyline clip-path=\"url(#clip02)\" style=\"stroke:#00002d; stroke-width:0.8; stroke-opacity:1; fill:none\" points=\"\n",
       "  596.063,377.078 596.063,371.481 \n",
       "  \"/>\n",
       "<polyline clip-path=\"url(#clip02)\" style=\"stroke:#00002d; stroke-width:0.8; stroke-opacity:1; fill:none\" points=\"\n",
       "  596.063,3.93701 596.063,9.53412 \n",
       "  \"/>\n",
       "<polyline clip-path=\"url(#clip02)\" style=\"stroke:#00002d; stroke-width:0.8; stroke-opacity:1; fill:none\" points=\"\n",
       "  35.4331,377.078 35.4331,3.93701 \n",
       "  \"/>\n",
       "<polyline clip-path=\"url(#clip02)\" style=\"stroke:#00002d; stroke-width:0.8; stroke-opacity:1; fill:none\" points=\"\n",
       "  596.063,377.078 596.063,3.93701 \n",
       "  \"/>\n",
       "<polyline clip-path=\"url(#clip02)\" style=\"stroke:#00002d; stroke-width:0.8; stroke-opacity:1; fill:none\" points=\"\n",
       "  35.4331,262.594 43.8425,262.594 \n",
       "  \"/>\n",
       "<polyline clip-path=\"url(#clip02)\" style=\"stroke:#00002d; stroke-width:0.8; stroke-opacity:1; fill:none\" points=\"\n",
       "  596.063,262.594 587.654,262.594 \n",
       "  \"/>\n",
       "<polyline clip-path=\"url(#clip02)\" style=\"stroke:#00002d; stroke-width:0.8; stroke-opacity:1; fill:none\" points=\"\n",
       "  35.4331,143.77 43.8425,143.77 \n",
       "  \"/>\n",
       "<polyline clip-path=\"url(#clip02)\" style=\"stroke:#00002d; stroke-width:0.8; stroke-opacity:1; fill:none\" points=\"\n",
       "  596.063,143.77 587.654,143.77 \n",
       "  \"/>\n",
       "<polyline clip-path=\"url(#clip02)\" style=\"stroke:#00002d; stroke-width:0.8; stroke-opacity:1; fill:none\" points=\"\n",
       "  35.4331,24.9454 43.8425,24.9454 \n",
       "  \"/>\n",
       "<polyline clip-path=\"url(#clip02)\" style=\"stroke:#00002d; stroke-width:0.8; stroke-opacity:1; fill:none\" points=\"\n",
       "  596.063,24.9454 587.654,24.9454 \n",
       "  \"/>\n",
       "<g clip-path=\"url(#clip00)\">\n",
       "<text style=\"fill:#00002d; fill-opacity:1; font-family:Arial,Helvetica Neue,Helvetica,sans-serif; font-size:12; text-anchor:middle;\" transform=\"rotate(0, 35.4331, 393.878)\" x=\"35.4331\" y=\"393.878\">-1.0</text>\n",
       "</g>\n",
       "<g clip-path=\"url(#clip00)\">\n",
       "<text style=\"fill:#00002d; fill-opacity:1; font-family:Arial,Helvetica Neue,Helvetica,sans-serif; font-size:12; text-anchor:middle;\" transform=\"rotate(0, 175.591, 393.878)\" x=\"175.591\" y=\"393.878\">-0.5</text>\n",
       "</g>\n",
       "<g clip-path=\"url(#clip00)\">\n",
       "<text style=\"fill:#00002d; fill-opacity:1; font-family:Arial,Helvetica Neue,Helvetica,sans-serif; font-size:12; text-anchor:middle;\" transform=\"rotate(0, 315.748, 393.878)\" x=\"315.748\" y=\"393.878\">0.0</text>\n",
       "</g>\n",
       "<g clip-path=\"url(#clip00)\">\n",
       "<text style=\"fill:#00002d; fill-opacity:1; font-family:Arial,Helvetica Neue,Helvetica,sans-serif; font-size:12; text-anchor:middle;\" transform=\"rotate(0, 455.906, 393.878)\" x=\"455.906\" y=\"393.878\">0.5</text>\n",
       "</g>\n",
       "<g clip-path=\"url(#clip00)\">\n",
       "<text style=\"fill:#00002d; fill-opacity:1; font-family:Arial,Helvetica Neue,Helvetica,sans-serif; font-size:12; text-anchor:middle;\" transform=\"rotate(0, 596.063, 393.878)\" x=\"596.063\" y=\"393.878\">1.0</text>\n",
       "</g>\n",
       "<g clip-path=\"url(#clip00)\">\n",
       "<text style=\"fill:#00002d; fill-opacity:1; font-family:Arial,Helvetica Neue,Helvetica,sans-serif; font-size:12; text-anchor:end;\" transform=\"rotate(0, 29.4331, 267.094)\" x=\"29.4331\" y=\"267.094\">-1</text>\n",
       "</g>\n",
       "<g clip-path=\"url(#clip00)\">\n",
       "<text style=\"fill:#00002d; fill-opacity:1; font-family:Arial,Helvetica Neue,Helvetica,sans-serif; font-size:12; text-anchor:end;\" transform=\"rotate(0, 29.4331, 148.27)\" x=\"29.4331\" y=\"148.27\">0</text>\n",
       "</g>\n",
       "<g clip-path=\"url(#clip00)\">\n",
       "<text style=\"fill:#00002d; fill-opacity:1; font-family:Arial,Helvetica Neue,Helvetica,sans-serif; font-size:12; text-anchor:end;\" transform=\"rotate(0, 29.4331, 29.4454)\" x=\"29.4331\" y=\"29.4454\">1</text>\n",
       "</g>\n",
       "<polygon clip-path=\"url(#clip02)\" points=\"\n",
       "35.4331,126.832 41.096,145.588 46.7589,164.481 52.4219,183.365 58.0848,202.091 63.7477,220.512 69.4106,238.485 75.0736,255.867 80.7365,272.522 86.3994,288.319 \n",
       "  92.0624,303.134 97.7253,316.851 103.388,329.364 109.051,340.577 114.714,350.405 120.377,358.774 126.04,365.624 131.703,370.906 137.366,374.588 143.029,376.647 \n",
       "  148.692,377.078 154.355,375.887 160.017,373.095 165.68,368.737 171.343,362.861 177.006,355.525 182.669,346.803 188.332,336.778 193.995,325.543 199.658,313.203 \n",
       "  205.321,299.87 210.984,285.662 216.647,270.705 222.31,255.131 227.973,239.074 233.636,222.671 239.298,206.06 244.961,189.38 250.624,172.768 256.287,156.357 \n",
       "  261.95,140.279 267.613,124.658 273.276,109.614 278.939,95.2581 284.602,81.6944 290.265,69.0172 295.928,57.3107 301.591,46.6489 307.254,37.0941 312.917,28.6971 \n",
       "  318.579,21.4968 324.242,15.5194 329.905,10.7791 335.568,7.27759 341.231,5.00437 346.894,3.93701 352.557,4.04157 358.22,5.2731 363.883,7.57625 369.546,10.886 \n",
       "  375.209,15.1284 380.872,20.2216 386.535,26.0769 392.198,32.5994 397.86,39.6896 403.523,47.244 409.186,55.1568 414.849,63.3209 420.512,71.6287 426.175,79.974 \n",
       "  431.838,88.2525 437.501,96.3634 443.164,104.21 448.827,111.702 454.49,118.753 460.153,125.288 465.816,131.236 471.479,136.538 477.141,141.142 482.804,145.007 \n",
       "  488.467,148.102 494.13,150.408 499.793,151.916 505.456,152.626 511.119,152.551 516.782,151.714 522.445,150.148 528.108,147.896 533.771,145.011 539.434,141.552 \n",
       "  545.097,137.589 550.76,133.197 556.422,128.459 562.085,123.461 567.748,118.295 573.411,113.056 579.074,107.839 584.737,102.743 590.4,97.8628 596.063,93.2953 \n",
       "  596.063,143.77 590.4,143.77 584.737,143.77 579.074,143.77 573.411,143.77 567.748,143.77 562.085,143.77 556.422,143.77 550.76,143.77 545.097,143.77 \n",
       "  539.434,143.77 533.771,143.77 528.108,143.77 522.445,143.77 516.782,143.77 511.119,143.77 505.456,143.77 499.793,143.77 494.13,143.77 488.467,143.77 \n",
       "  482.804,143.77 477.141,143.77 471.479,143.77 465.816,143.77 460.153,143.77 454.49,143.77 448.827,143.77 443.164,143.77 437.501,143.77 431.838,143.77 \n",
       "  426.175,143.77 420.512,143.77 414.849,143.77 409.186,143.77 403.523,143.77 397.86,143.77 392.198,143.77 386.535,143.77 380.872,143.77 375.209,143.77 \n",
       "  369.546,143.77 363.883,143.77 358.22,143.77 352.557,143.77 346.894,143.77 341.231,143.77 335.568,143.77 329.905,143.77 324.242,143.77 318.579,143.77 \n",
       "  312.917,143.77 307.254,143.77 301.591,143.77 295.928,143.77 290.265,143.77 284.602,143.77 278.939,143.77 273.276,143.77 267.613,143.77 261.95,143.77 \n",
       "  256.287,143.77 250.624,143.77 244.961,143.77 239.298,143.77 233.636,143.77 227.973,143.77 222.31,143.77 216.647,143.77 210.984,143.77 205.321,143.77 \n",
       "  199.658,143.77 193.995,143.77 188.332,143.77 182.669,143.77 177.006,143.77 171.343,143.77 165.68,143.77 160.017,143.77 154.355,143.77 148.692,143.77 \n",
       "  143.029,143.77 137.366,143.77 131.703,143.77 126.04,143.77 120.377,143.77 114.714,143.77 109.051,143.77 103.388,143.77 97.7253,143.77 92.0624,143.77 \n",
       "  86.3994,143.77 80.7365,143.77 75.0736,143.77 69.4106,143.77 63.7477,143.77 58.0848,143.77 52.4219,143.77 46.7589,143.77 41.096,143.77 35.4331,143.77 \n",
       "  \n",
       "  \" fill=\"#ff0000\" fill-opacity=\"0.5\"/>\n",
       "<polyline clip-path=\"url(#clip02)\" style=\"stroke:#ff0000; stroke-width:0.8; stroke-opacity:1; fill:none\" points=\"\n",
       "  35.4331,126.832 41.096,145.588 46.7589,164.481 52.4219,183.365 58.0848,202.091 63.7477,220.512 69.4106,238.485 75.0736,255.867 80.7365,272.522 86.3994,288.319 \n",
       "  92.0624,303.134 97.7253,316.851 103.388,329.364 109.051,340.577 114.714,350.405 120.377,358.774 126.04,365.624 131.703,370.906 137.366,374.588 143.029,376.647 \n",
       "  148.692,377.078 154.355,375.887 160.017,373.095 165.68,368.737 171.343,362.861 177.006,355.525 182.669,346.803 188.332,336.778 193.995,325.543 199.658,313.203 \n",
       "  205.321,299.87 210.984,285.662 216.647,270.705 222.31,255.131 227.973,239.074 233.636,222.671 239.298,206.06 244.961,189.38 250.624,172.768 256.287,156.357 \n",
       "  261.95,140.279 267.613,124.658 273.276,109.614 278.939,95.2581 284.602,81.6944 290.265,69.0172 295.928,57.3107 301.591,46.6489 307.254,37.0941 312.917,28.6971 \n",
       "  318.579,21.4968 324.242,15.5194 329.905,10.7791 335.568,7.27759 341.231,5.00437 346.894,3.93701 352.557,4.04157 358.22,5.2731 363.883,7.57625 369.546,10.886 \n",
       "  375.209,15.1284 380.872,20.2216 386.535,26.0769 392.198,32.5994 397.86,39.6896 403.523,47.244 409.186,55.1568 414.849,63.3209 420.512,71.6287 426.175,79.974 \n",
       "  431.838,88.2525 437.501,96.3634 443.164,104.21 448.827,111.702 454.49,118.753 460.153,125.288 465.816,131.236 471.479,136.538 477.141,141.142 482.804,145.007 \n",
       "  488.467,148.102 494.13,150.408 499.793,151.916 505.456,152.626 511.119,152.551 516.782,151.714 522.445,150.148 528.108,147.896 533.771,145.011 539.434,141.552 \n",
       "  545.097,137.589 550.76,133.197 556.422,128.459 562.085,123.461 567.748,118.295 573.411,113.056 579.074,107.839 584.737,102.743 590.4,97.8628 596.063,93.2953 \n",
       "  \n",
       "  \"/>\n",
       "<polygon clip-path=\"url(#clip02)\" points=\"\n",
       "35.4331,126.832 41.096,123.089 46.7589,119.416 52.4219,115.811 58.0848,112.277 63.7477,108.811 69.4106,105.416 75.0736,102.089 80.7365,98.8325 86.3994,95.6452 \n",
       "  92.0624,92.5273 97.7253,89.479 103.388,86.5001 109.051,83.5906 114.714,80.7507 120.377,77.9802 126.04,75.2793 131.703,72.6478 137.366,70.0857 143.029,67.5932 \n",
       "  148.692,65.1701 154.355,62.8165 160.017,60.5324 165.68,58.3177 171.343,56.1726 177.006,54.0969 182.669,52.0907 188.332,50.1539 193.995,48.2867 199.658,46.4889 \n",
       "  205.321,44.7606 210.984,43.1017 216.647,41.5124 222.31,39.9925 227.973,38.5421 233.636,37.1612 239.298,35.8498 244.961,34.6078 250.624,33.4353 256.287,32.3323 \n",
       "  261.95,31.2988 267.613,30.3347 273.276,29.4402 278.939,28.6151 284.602,27.8594 290.265,27.1733 295.928,26.5566 301.591,26.0094 307.254,25.5317 312.917,25.1235 \n",
       "  318.579,24.7847 324.242,24.5155 329.905,24.3156 335.568,24.1853 341.231,24.1245 346.894,24.1331 352.557,24.2112 358.22,24.3588 363.883,24.5759 369.546,24.8624 \n",
       "  375.209,25.2184 380.872,25.6439 386.535,26.1389 392.198,26.7033 397.86,27.3372 403.523,28.0406 409.186,28.8135 414.849,29.6559 420.512,30.5677 426.175,31.549 \n",
       "  431.838,32.5998 437.501,33.7201 443.164,34.9098 448.827,36.169 454.49,37.4977 460.153,38.8959 465.816,40.3636 471.479,41.9007 477.141,43.5073 482.804,45.1834 \n",
       "  488.467,46.929 494.13,48.744 499.793,50.6285 505.456,52.5825 511.119,54.606 516.782,56.6989 522.445,58.8614 528.108,61.0933 533.771,63.3946 539.434,65.7655 \n",
       "  545.097,68.2058 550.76,70.7156 556.422,73.2949 562.085,75.9437 567.748,78.6619 573.411,81.4497 579.074,84.3069 584.737,87.2335 590.4,90.2297 596.063,93.2953 \n",
       "  596.063,143.77 590.4,143.77 584.737,143.77 579.074,143.77 573.411,143.77 567.748,143.77 562.085,143.77 556.422,143.77 550.76,143.77 545.097,143.77 \n",
       "  539.434,143.77 533.771,143.77 528.108,143.77 522.445,143.77 516.782,143.77 511.119,143.77 505.456,143.77 499.793,143.77 494.13,143.77 488.467,143.77 \n",
       "  482.804,143.77 477.141,143.77 471.479,143.77 465.816,143.77 460.153,143.77 454.49,143.77 448.827,143.77 443.164,143.77 437.501,143.77 431.838,143.77 \n",
       "  426.175,143.77 420.512,143.77 414.849,143.77 409.186,143.77 403.523,143.77 397.86,143.77 392.198,143.77 386.535,143.77 380.872,143.77 375.209,143.77 \n",
       "  369.546,143.77 363.883,143.77 358.22,143.77 352.557,143.77 346.894,143.77 341.231,143.77 335.568,143.77 329.905,143.77 324.242,143.77 318.579,143.77 \n",
       "  312.917,143.77 307.254,143.77 301.591,143.77 295.928,143.77 290.265,143.77 284.602,143.77 278.939,143.77 273.276,143.77 267.613,143.77 261.95,143.77 \n",
       "  256.287,143.77 250.624,143.77 244.961,143.77 239.298,143.77 233.636,143.77 227.973,143.77 222.31,143.77 216.647,143.77 210.984,143.77 205.321,143.77 \n",
       "  199.658,143.77 193.995,143.77 188.332,143.77 182.669,143.77 177.006,143.77 171.343,143.77 165.68,143.77 160.017,143.77 154.355,143.77 148.692,143.77 \n",
       "  143.029,143.77 137.366,143.77 131.703,143.77 126.04,143.77 120.377,143.77 114.714,143.77 109.051,143.77 103.388,143.77 97.7253,143.77 92.0624,143.77 \n",
       "  86.3994,143.77 80.7365,143.77 75.0736,143.77 69.4106,143.77 63.7477,143.77 58.0848,143.77 52.4219,143.77 46.7589,143.77 41.096,143.77 35.4331,143.77 \n",
       "  \n",
       "  \" fill=\"#0000ff\" fill-opacity=\"0.5\"/>\n",
       "<polyline clip-path=\"url(#clip02)\" style=\"stroke:#0000ff; stroke-width:0.8; stroke-opacity:1; fill:none\" points=\"\n",
       "  35.4331,126.832 41.096,123.089 46.7589,119.416 52.4219,115.811 58.0848,112.277 63.7477,108.811 69.4106,105.416 75.0736,102.089 80.7365,98.8325 86.3994,95.6452 \n",
       "  92.0624,92.5273 97.7253,89.479 103.388,86.5001 109.051,83.5906 114.714,80.7507 120.377,77.9802 126.04,75.2793 131.703,72.6478 137.366,70.0857 143.029,67.5932 \n",
       "  148.692,65.1701 154.355,62.8165 160.017,60.5324 165.68,58.3177 171.343,56.1726 177.006,54.0969 182.669,52.0907 188.332,50.1539 193.995,48.2867 199.658,46.4889 \n",
       "  205.321,44.7606 210.984,43.1017 216.647,41.5124 222.31,39.9925 227.973,38.5421 233.636,37.1612 239.298,35.8498 244.961,34.6078 250.624,33.4353 256.287,32.3323 \n",
       "  261.95,31.2988 267.613,30.3347 273.276,29.4402 278.939,28.6151 284.602,27.8594 290.265,27.1733 295.928,26.5566 301.591,26.0094 307.254,25.5317 312.917,25.1235 \n",
       "  318.579,24.7847 324.242,24.5155 329.905,24.3156 335.568,24.1853 341.231,24.1245 346.894,24.1331 352.557,24.2112 358.22,24.3588 363.883,24.5759 369.546,24.8624 \n",
       "  375.209,25.2184 380.872,25.6439 386.535,26.1389 392.198,26.7033 397.86,27.3372 403.523,28.0406 409.186,28.8135 414.849,29.6559 420.512,30.5677 426.175,31.549 \n",
       "  431.838,32.5998 437.501,33.7201 443.164,34.9098 448.827,36.169 454.49,37.4977 460.153,38.8959 465.816,40.3636 471.479,41.9007 477.141,43.5073 482.804,45.1834 \n",
       "  488.467,46.929 494.13,48.744 499.793,50.6285 505.456,52.5825 511.119,54.606 516.782,56.6989 522.445,58.8614 528.108,61.0933 533.771,63.3946 539.434,65.7655 \n",
       "  545.097,68.2058 550.76,70.7156 556.422,73.2949 562.085,75.9437 567.748,78.6619 573.411,81.4497 579.074,84.3069 584.737,87.2335 590.4,90.2297 596.063,93.2953 \n",
       "  \n",
       "  \"/>\n",
       "</svg>\n"
      ],
      "text/plain": [
       "<?xml version=\"1.0\" encoding=\"utf-8\"?>\n",
       "<svg xmlns=\"http://www.w3.org/2000/svg\" xmlns:xlink=\"http://www.w3.org/1999/xlink\" width=\"600\" height=\"400\" viewBox=\"0 0 600 400\">\n",
       "<defs>\n",
       "  <clipPath id=\"clip00\">\n",
       "    <rect x=\"0\" y=\"0\" width=\"600\" height=\"400\"/>\n",
       "  </clipPath>\n",
       "</defs>\n",
       "<polygon clip-path=\"url(#clip00)\" points=\"\n",
       "0,400 600,400 600,0 0,0 \n",
       "  \" fill=\"#ffffff\" fill-opacity=\"1\"/>\n",
       "<defs>\n",
       "  <clipPath id=\"clip01\">\n",
       "    <rect x=\"120\" y=\"0\" width=\"421\" height=\"400\"/>\n",
       "  </clipPath>\n",
       "</defs>\n",
       "<polygon clip-path=\"url(#clip00)\" points=\"\n",
       "35.4331,377.078 596.063,377.078 596.063,3.93701 35.4331,3.93701 \n",
       "  \" fill=\"#ffffff\" fill-opacity=\"1\"/>\n",
       "<defs>\n",
       "  <clipPath id=\"clip02\">\n",
       "    <rect x=\"35\" y=\"3\" width=\"561\" height=\"374\"/>\n",
       "  </clipPath>\n",
       "</defs>\n",
       "<polyline clip-path=\"url(#clip02)\" style=\"stroke:#00002d; stroke-width:0.8; stroke-opacity:0.5; fill:none\" stroke-dasharray=\"1, 2\" points=\"\n",
       "  35.4331,371.481 35.4331,9.53412 \n",
       "  \"/>\n",
       "<polyline clip-path=\"url(#clip02)\" style=\"stroke:#00002d; stroke-width:0.8; stroke-opacity:0.5; fill:none\" stroke-dasharray=\"1, 2\" points=\"\n",
       "  175.591,371.481 175.591,9.53412 \n",
       "  \"/>\n",
       "<polyline clip-path=\"url(#clip02)\" style=\"stroke:#00002d; stroke-width:0.8; stroke-opacity:0.5; fill:none\" stroke-dasharray=\"1, 2\" points=\"\n",
       "  315.748,371.481 315.748,9.53412 \n",
       "  \"/>\n",
       "<polyline clip-path=\"url(#clip02)\" style=\"stroke:#00002d; stroke-width:0.8; stroke-opacity:0.5; fill:none\" stroke-dasharray=\"1, 2\" points=\"\n",
       "  455.906,371.481 455.906,9.53412 \n",
       "  \"/>\n",
       "<polyline clip-path=\"url(#clip02)\" style=\"stroke:#00002d; stroke-width:0.8; stroke-opacity:0.5; fill:none\" stroke-dasharray=\"1, 2\" points=\"\n",
       "  596.063,371.481 596.063,9.53412 \n",
       "  \"/>\n",
       "<polyline clip-path=\"url(#clip02)\" style=\"stroke:#00002d; stroke-width:0.8; stroke-opacity:0.5; fill:none\" stroke-dasharray=\"1, 2\" points=\"\n",
       "  43.8425,262.594 587.654,262.594 \n",
       "  \"/>\n",
       "<polyline clip-path=\"url(#clip02)\" style=\"stroke:#00002d; stroke-width:0.8; stroke-opacity:0.5; fill:none\" stroke-dasharray=\"1, 2\" points=\"\n",
       "  43.8425,143.77 587.654,143.77 \n",
       "  \"/>\n",
       "<polyline clip-path=\"url(#clip02)\" style=\"stroke:#00002d; stroke-width:0.8; stroke-opacity:0.5; fill:none\" stroke-dasharray=\"1, 2\" points=\"\n",
       "  43.8425,24.9454 587.654,24.9454 \n",
       "  \"/>\n",
       "<polyline clip-path=\"url(#clip02)\" style=\"stroke:#00002d; stroke-width:0.8; stroke-opacity:1; fill:none\" points=\"\n",
       "  35.4331,377.078 596.063,377.078 \n",
       "  \"/>\n",
       "<polyline clip-path=\"url(#clip02)\" style=\"stroke:#00002d; stroke-width:0.8; stroke-opacity:1; fill:none\" points=\"\n",
       "  35.4331,3.93701 596.063,3.93701 \n",
       "  \"/>\n",
       "<polyline clip-path=\"url(#clip02)\" style=\"stroke:#00002d; stroke-width:0.8; stroke-opacity:1; fill:none\" points=\"\n",
       "  35.4331,377.078 35.4331,371.481 \n",
       "  \"/>\n",
       "<polyline clip-path=\"url(#clip02)\" style=\"stroke:#00002d; stroke-width:0.8; stroke-opacity:1; fill:none\" points=\"\n",
       "  35.4331,3.93701 35.4331,9.53412 \n",
       "  \"/>\n",
       "<polyline clip-path=\"url(#clip02)\" style=\"stroke:#00002d; stroke-width:0.8; stroke-opacity:1; fill:none\" points=\"\n",
       "  175.591,377.078 175.591,371.481 \n",
       "  \"/>\n",
       "<polyline clip-path=\"url(#clip02)\" style=\"stroke:#00002d; stroke-width:0.8; stroke-opacity:1; fill:none\" points=\"\n",
       "  175.591,3.93701 175.591,9.53412 \n",
       "  \"/>\n",
       "<polyline clip-path=\"url(#clip02)\" style=\"stroke:#00002d; stroke-width:0.8; stroke-opacity:1; fill:none\" points=\"\n",
       "  315.748,377.078 315.748,371.481 \n",
       "  \"/>\n",
       "<polyline clip-path=\"url(#clip02)\" style=\"stroke:#00002d; stroke-width:0.8; stroke-opacity:1; fill:none\" points=\"\n",
       "  315.748,3.93701 315.748,9.53412 \n",
       "  \"/>\n",
       "<polyline clip-path=\"url(#clip02)\" style=\"stroke:#00002d; stroke-width:0.8; stroke-opacity:1; fill:none\" points=\"\n",
       "  455.906,377.078 455.906,371.481 \n",
       "  \"/>\n",
       "<polyline clip-path=\"url(#clip02)\" style=\"stroke:#00002d; stroke-width:0.8; stroke-opacity:1; fill:none\" points=\"\n",
       "  455.906,3.93701 455.906,9.53412 \n",
       "  \"/>\n",
       "<polyline clip-path=\"url(#clip02)\" style=\"stroke:#00002d; stroke-width:0.8; stroke-opacity:1; fill:none\" points=\"\n",
       "  596.063,377.078 596.063,371.481 \n",
       "  \"/>\n",
       "<polyline clip-path=\"url(#clip02)\" style=\"stroke:#00002d; stroke-width:0.8; stroke-opacity:1; fill:none\" points=\"\n",
       "  596.063,3.93701 596.063,9.53412 \n",
       "  \"/>\n",
       "<polyline clip-path=\"url(#clip02)\" style=\"stroke:#00002d; stroke-width:0.8; stroke-opacity:1; fill:none\" points=\"\n",
       "  35.4331,377.078 35.4331,3.93701 \n",
       "  \"/>\n",
       "<polyline clip-path=\"url(#clip02)\" style=\"stroke:#00002d; stroke-width:0.8; stroke-opacity:1; fill:none\" points=\"\n",
       "  596.063,377.078 596.063,3.93701 \n",
       "  \"/>\n",
       "<polyline clip-path=\"url(#clip02)\" style=\"stroke:#00002d; stroke-width:0.8; stroke-opacity:1; fill:none\" points=\"\n",
       "  35.4331,262.594 43.8425,262.594 \n",
       "  \"/>\n",
       "<polyline clip-path=\"url(#clip02)\" style=\"stroke:#00002d; stroke-width:0.8; stroke-opacity:1; fill:none\" points=\"\n",
       "  596.063,262.594 587.654,262.594 \n",
       "  \"/>\n",
       "<polyline clip-path=\"url(#clip02)\" style=\"stroke:#00002d; stroke-width:0.8; stroke-opacity:1; fill:none\" points=\"\n",
       "  35.4331,143.77 43.8425,143.77 \n",
       "  \"/>\n",
       "<polyline clip-path=\"url(#clip02)\" style=\"stroke:#00002d; stroke-width:0.8; stroke-opacity:1; fill:none\" points=\"\n",
       "  596.063,143.77 587.654,143.77 \n",
       "  \"/>\n",
       "<polyline clip-path=\"url(#clip02)\" style=\"stroke:#00002d; stroke-width:0.8; stroke-opacity:1; fill:none\" points=\"\n",
       "  35.4331,24.9454 43.8425,24.9454 \n",
       "  \"/>\n",
       "<polyline clip-path=\"url(#clip02)\" style=\"stroke:#00002d; stroke-width:0.8; stroke-opacity:1; fill:none\" points=\"\n",
       "  596.063,24.9454 587.654,24.9454 \n",
       "  \"/>\n",
       "<g clip-path=\"url(#clip00)\">\n",
       "<text style=\"fill:#00002d; fill-opacity:1; font-family:Arial,Helvetica Neue,Helvetica,sans-serif; font-size:12; text-anchor:middle;\" transform=\"rotate(0, 35.4331, 393.878)\" x=\"35.4331\" y=\"393.878\">-1.0</text>\n",
       "</g>\n",
       "<g clip-path=\"url(#clip00)\">\n",
       "<text style=\"fill:#00002d; fill-opacity:1; font-family:Arial,Helvetica Neue,Helvetica,sans-serif; font-size:12; text-anchor:middle;\" transform=\"rotate(0, 175.591, 393.878)\" x=\"175.591\" y=\"393.878\">-0.5</text>\n",
       "</g>\n",
       "<g clip-path=\"url(#clip00)\">\n",
       "<text style=\"fill:#00002d; fill-opacity:1; font-family:Arial,Helvetica Neue,Helvetica,sans-serif; font-size:12; text-anchor:middle;\" transform=\"rotate(0, 315.748, 393.878)\" x=\"315.748\" y=\"393.878\">0.0</text>\n",
       "</g>\n",
       "<g clip-path=\"url(#clip00)\">\n",
       "<text style=\"fill:#00002d; fill-opacity:1; font-family:Arial,Helvetica Neue,Helvetica,sans-serif; font-size:12; text-anchor:middle;\" transform=\"rotate(0, 455.906, 393.878)\" x=\"455.906\" y=\"393.878\">0.5</text>\n",
       "</g>\n",
       "<g clip-path=\"url(#clip00)\">\n",
       "<text style=\"fill:#00002d; fill-opacity:1; font-family:Arial,Helvetica Neue,Helvetica,sans-serif; font-size:12; text-anchor:middle;\" transform=\"rotate(0, 596.063, 393.878)\" x=\"596.063\" y=\"393.878\">1.0</text>\n",
       "</g>\n",
       "<g clip-path=\"url(#clip00)\">\n",
       "<text style=\"fill:#00002d; fill-opacity:1; font-family:Arial,Helvetica Neue,Helvetica,sans-serif; font-size:12; text-anchor:end;\" transform=\"rotate(0, 29.4331, 267.094)\" x=\"29.4331\" y=\"267.094\">-1</text>\n",
       "</g>\n",
       "<g clip-path=\"url(#clip00)\">\n",
       "<text style=\"fill:#00002d; fill-opacity:1; font-family:Arial,Helvetica Neue,Helvetica,sans-serif; font-size:12; text-anchor:end;\" transform=\"rotate(0, 29.4331, 148.27)\" x=\"29.4331\" y=\"148.27\">0</text>\n",
       "</g>\n",
       "<g clip-path=\"url(#clip00)\">\n",
       "<text style=\"fill:#00002d; fill-opacity:1; font-family:Arial,Helvetica Neue,Helvetica,sans-serif; font-size:12; text-anchor:end;\" transform=\"rotate(0, 29.4331, 29.4454)\" x=\"29.4331\" y=\"29.4454\">1</text>\n",
       "</g>\n",
       "<polygon clip-path=\"url(#clip02)\" points=\"\n",
       "35.4331,126.832 41.096,145.588 46.7589,164.481 52.4219,183.365 58.0848,202.091 63.7477,220.512 69.4106,238.485 75.0736,255.867 80.7365,272.522 86.3994,288.319 \n",
       "  92.0624,303.134 97.7253,316.851 103.388,329.364 109.051,340.577 114.714,350.405 120.377,358.774 126.04,365.624 131.703,370.906 137.366,374.588 143.029,376.647 \n",
       "  148.692,377.078 154.355,375.887 160.017,373.095 165.68,368.737 171.343,362.861 177.006,355.525 182.669,346.803 188.332,336.778 193.995,325.543 199.658,313.203 \n",
       "  205.321,299.87 210.984,285.662 216.647,270.705 222.31,255.131 227.973,239.074 233.636,222.671 239.298,206.06 244.961,189.38 250.624,172.768 256.287,156.357 \n",
       "  261.95,140.279 267.613,124.658 273.276,109.614 278.939,95.2581 284.602,81.6944 290.265,69.0172 295.928,57.3107 301.591,46.6489 307.254,37.0941 312.917,28.6971 \n",
       "  318.579,21.4968 324.242,15.5194 329.905,10.7791 335.568,7.27759 341.231,5.00437 346.894,3.93701 352.557,4.04157 358.22,5.2731 363.883,7.57625 369.546,10.886 \n",
       "  375.209,15.1284 380.872,20.2216 386.535,26.0769 392.198,32.5994 397.86,39.6896 403.523,47.244 409.186,55.1568 414.849,63.3209 420.512,71.6287 426.175,79.974 \n",
       "  431.838,88.2525 437.501,96.3634 443.164,104.21 448.827,111.702 454.49,118.753 460.153,125.288 465.816,131.236 471.479,136.538 477.141,141.142 482.804,145.007 \n",
       "  488.467,148.102 494.13,150.408 499.793,151.916 505.456,152.626 511.119,152.551 516.782,151.714 522.445,150.148 528.108,147.896 533.771,145.011 539.434,141.552 \n",
       "  545.097,137.589 550.76,133.197 556.422,128.459 562.085,123.461 567.748,118.295 573.411,113.056 579.074,107.839 584.737,102.743 590.4,97.8628 596.063,93.2953 \n",
       "  596.063,143.77 590.4,143.77 584.737,143.77 579.074,143.77 573.411,143.77 567.748,143.77 562.085,143.77 556.422,143.77 550.76,143.77 545.097,143.77 \n",
       "  539.434,143.77 533.771,143.77 528.108,143.77 522.445,143.77 516.782,143.77 511.119,143.77 505.456,143.77 499.793,143.77 494.13,143.77 488.467,143.77 \n",
       "  482.804,143.77 477.141,143.77 471.479,143.77 465.816,143.77 460.153,143.77 454.49,143.77 448.827,143.77 443.164,143.77 437.501,143.77 431.838,143.77 \n",
       "  426.175,143.77 420.512,143.77 414.849,143.77 409.186,143.77 403.523,143.77 397.86,143.77 392.198,143.77 386.535,143.77 380.872,143.77 375.209,143.77 \n",
       "  369.546,143.77 363.883,143.77 358.22,143.77 352.557,143.77 346.894,143.77 341.231,143.77 335.568,143.77 329.905,143.77 324.242,143.77 318.579,143.77 \n",
       "  312.917,143.77 307.254,143.77 301.591,143.77 295.928,143.77 290.265,143.77 284.602,143.77 278.939,143.77 273.276,143.77 267.613,143.77 261.95,143.77 \n",
       "  256.287,143.77 250.624,143.77 244.961,143.77 239.298,143.77 233.636,143.77 227.973,143.77 222.31,143.77 216.647,143.77 210.984,143.77 205.321,143.77 \n",
       "  199.658,143.77 193.995,143.77 188.332,143.77 182.669,143.77 177.006,143.77 171.343,143.77 165.68,143.77 160.017,143.77 154.355,143.77 148.692,143.77 \n",
       "  143.029,143.77 137.366,143.77 131.703,143.77 126.04,143.77 120.377,143.77 114.714,143.77 109.051,143.77 103.388,143.77 97.7253,143.77 92.0624,143.77 \n",
       "  86.3994,143.77 80.7365,143.77 75.0736,143.77 69.4106,143.77 63.7477,143.77 58.0848,143.77 52.4219,143.77 46.7589,143.77 41.096,143.77 35.4331,143.77 \n",
       "  \n",
       "  \" fill=\"#ff0000\" fill-opacity=\"0.5\"/>\n",
       "<polyline clip-path=\"url(#clip02)\" style=\"stroke:#ff0000; stroke-width:0.8; stroke-opacity:1; fill:none\" points=\"\n",
       "  35.4331,126.832 41.096,145.588 46.7589,164.481 52.4219,183.365 58.0848,202.091 63.7477,220.512 69.4106,238.485 75.0736,255.867 80.7365,272.522 86.3994,288.319 \n",
       "  92.0624,303.134 97.7253,316.851 103.388,329.364 109.051,340.577 114.714,350.405 120.377,358.774 126.04,365.624 131.703,370.906 137.366,374.588 143.029,376.647 \n",
       "  148.692,377.078 154.355,375.887 160.017,373.095 165.68,368.737 171.343,362.861 177.006,355.525 182.669,346.803 188.332,336.778 193.995,325.543 199.658,313.203 \n",
       "  205.321,299.87 210.984,285.662 216.647,270.705 222.31,255.131 227.973,239.074 233.636,222.671 239.298,206.06 244.961,189.38 250.624,172.768 256.287,156.357 \n",
       "  261.95,140.279 267.613,124.658 273.276,109.614 278.939,95.2581 284.602,81.6944 290.265,69.0172 295.928,57.3107 301.591,46.6489 307.254,37.0941 312.917,28.6971 \n",
       "  318.579,21.4968 324.242,15.5194 329.905,10.7791 335.568,7.27759 341.231,5.00437 346.894,3.93701 352.557,4.04157 358.22,5.2731 363.883,7.57625 369.546,10.886 \n",
       "  375.209,15.1284 380.872,20.2216 386.535,26.0769 392.198,32.5994 397.86,39.6896 403.523,47.244 409.186,55.1568 414.849,63.3209 420.512,71.6287 426.175,79.974 \n",
       "  431.838,88.2525 437.501,96.3634 443.164,104.21 448.827,111.702 454.49,118.753 460.153,125.288 465.816,131.236 471.479,136.538 477.141,141.142 482.804,145.007 \n",
       "  488.467,148.102 494.13,150.408 499.793,151.916 505.456,152.626 511.119,152.551 516.782,151.714 522.445,150.148 528.108,147.896 533.771,145.011 539.434,141.552 \n",
       "  545.097,137.589 550.76,133.197 556.422,128.459 562.085,123.461 567.748,118.295 573.411,113.056 579.074,107.839 584.737,102.743 590.4,97.8628 596.063,93.2953 \n",
       "  \n",
       "  \"/>\n",
       "<polygon clip-path=\"url(#clip02)\" points=\"\n",
       "35.4331,126.832 41.096,123.089 46.7589,119.416 52.4219,115.811 58.0848,112.277 63.7477,108.811 69.4106,105.416 75.0736,102.089 80.7365,98.8325 86.3994,95.6452 \n",
       "  92.0624,92.5273 97.7253,89.479 103.388,86.5001 109.051,83.5906 114.714,80.7507 120.377,77.9802 126.04,75.2793 131.703,72.6478 137.366,70.0857 143.029,67.5932 \n",
       "  148.692,65.1701 154.355,62.8165 160.017,60.5324 165.68,58.3177 171.343,56.1726 177.006,54.0969 182.669,52.0907 188.332,50.1539 193.995,48.2867 199.658,46.4889 \n",
       "  205.321,44.7606 210.984,43.1017 216.647,41.5124 222.31,39.9925 227.973,38.5421 233.636,37.1612 239.298,35.8498 244.961,34.6078 250.624,33.4353 256.287,32.3323 \n",
       "  261.95,31.2988 267.613,30.3347 273.276,29.4402 278.939,28.6151 284.602,27.8594 290.265,27.1733 295.928,26.5566 301.591,26.0094 307.254,25.5317 312.917,25.1235 \n",
       "  318.579,24.7847 324.242,24.5155 329.905,24.3156 335.568,24.1853 341.231,24.1245 346.894,24.1331 352.557,24.2112 358.22,24.3588 363.883,24.5759 369.546,24.8624 \n",
       "  375.209,25.2184 380.872,25.6439 386.535,26.1389 392.198,26.7033 397.86,27.3372 403.523,28.0406 409.186,28.8135 414.849,29.6559 420.512,30.5677 426.175,31.549 \n",
       "  431.838,32.5998 437.501,33.7201 443.164,34.9098 448.827,36.169 454.49,37.4977 460.153,38.8959 465.816,40.3636 471.479,41.9007 477.141,43.5073 482.804,45.1834 \n",
       "  488.467,46.929 494.13,48.744 499.793,50.6285 505.456,52.5825 511.119,54.606 516.782,56.6989 522.445,58.8614 528.108,61.0933 533.771,63.3946 539.434,65.7655 \n",
       "  545.097,68.2058 550.76,70.7156 556.422,73.2949 562.085,75.9437 567.748,78.6619 573.411,81.4497 579.074,84.3069 584.737,87.2335 590.4,90.2297 596.063,93.2953 \n",
       "  596.063,143.77 590.4,143.77 584.737,143.77 579.074,143.77 573.411,143.77 567.748,143.77 562.085,143.77 556.422,143.77 550.76,143.77 545.097,143.77 \n",
       "  539.434,143.77 533.771,143.77 528.108,143.77 522.445,143.77 516.782,143.77 511.119,143.77 505.456,143.77 499.793,143.77 494.13,143.77 488.467,143.77 \n",
       "  482.804,143.77 477.141,143.77 471.479,143.77 465.816,143.77 460.153,143.77 454.49,143.77 448.827,143.77 443.164,143.77 437.501,143.77 431.838,143.77 \n",
       "  426.175,143.77 420.512,143.77 414.849,143.77 409.186,143.77 403.523,143.77 397.86,143.77 392.198,143.77 386.535,143.77 380.872,143.77 375.209,143.77 \n",
       "  369.546,143.77 363.883,143.77 358.22,143.77 352.557,143.77 346.894,143.77 341.231,143.77 335.568,143.77 329.905,143.77 324.242,143.77 318.579,143.77 \n",
       "  312.917,143.77 307.254,143.77 301.591,143.77 295.928,143.77 290.265,143.77 284.602,143.77 278.939,143.77 273.276,143.77 267.613,143.77 261.95,143.77 \n",
       "  256.287,143.77 250.624,143.77 244.961,143.77 239.298,143.77 233.636,143.77 227.973,143.77 222.31,143.77 216.647,143.77 210.984,143.77 205.321,143.77 \n",
       "  199.658,143.77 193.995,143.77 188.332,143.77 182.669,143.77 177.006,143.77 171.343,143.77 165.68,143.77 160.017,143.77 154.355,143.77 148.692,143.77 \n",
       "  143.029,143.77 137.366,143.77 131.703,143.77 126.04,143.77 120.377,143.77 114.714,143.77 109.051,143.77 103.388,143.77 97.7253,143.77 92.0624,143.77 \n",
       "  86.3994,143.77 80.7365,143.77 75.0736,143.77 69.4106,143.77 63.7477,143.77 58.0848,143.77 52.4219,143.77 46.7589,143.77 41.096,143.77 35.4331,143.77 \n",
       "  \n",
       "  \" fill=\"#0000ff\" fill-opacity=\"0.5\"/>\n",
       "<polyline clip-path=\"url(#clip02)\" style=\"stroke:#0000ff; stroke-width:0.8; stroke-opacity:1; fill:none\" points=\"\n",
       "  35.4331,126.832 41.096,123.089 46.7589,119.416 52.4219,115.811 58.0848,112.277 63.7477,108.811 69.4106,105.416 75.0736,102.089 80.7365,98.8325 86.3994,95.6452 \n",
       "  92.0624,92.5273 97.7253,89.479 103.388,86.5001 109.051,83.5906 114.714,80.7507 120.377,77.9802 126.04,75.2793 131.703,72.6478 137.366,70.0857 143.029,67.5932 \n",
       "  148.692,65.1701 154.355,62.8165 160.017,60.5324 165.68,58.3177 171.343,56.1726 177.006,54.0969 182.669,52.0907 188.332,50.1539 193.995,48.2867 199.658,46.4889 \n",
       "  205.321,44.7606 210.984,43.1017 216.647,41.5124 222.31,39.9925 227.973,38.5421 233.636,37.1612 239.298,35.8498 244.961,34.6078 250.624,33.4353 256.287,32.3323 \n",
       "  261.95,31.2988 267.613,30.3347 273.276,29.4402 278.939,28.6151 284.602,27.8594 290.265,27.1733 295.928,26.5566 301.591,26.0094 307.254,25.5317 312.917,25.1235 \n",
       "  318.579,24.7847 324.242,24.5155 329.905,24.3156 335.568,24.1853 341.231,24.1245 346.894,24.1331 352.557,24.2112 358.22,24.3588 363.883,24.5759 369.546,24.8624 \n",
       "  375.209,25.2184 380.872,25.6439 386.535,26.1389 392.198,26.7033 397.86,27.3372 403.523,28.0406 409.186,28.8135 414.849,29.6559 420.512,30.5677 426.175,31.549 \n",
       "  431.838,32.5998 437.501,33.7201 443.164,34.9098 448.827,36.169 454.49,37.4977 460.153,38.8959 465.816,40.3636 471.479,41.9007 477.141,43.5073 482.804,45.1834 \n",
       "  488.467,46.929 494.13,48.744 499.793,50.6285 505.456,52.5825 511.119,54.606 516.782,56.6989 522.445,58.8614 528.108,61.0933 533.771,63.3946 539.434,65.7655 \n",
       "  545.097,68.2058 550.76,70.7156 556.422,73.2949 562.085,75.9437 567.748,78.6619 573.411,81.4497 579.074,84.3069 584.737,87.2335 590.4,90.2297 596.063,93.2953 \n",
       "  \n",
       "  \"/>\n",
       "</svg>\n"
      ]
     },
     "execution_count": 7,
     "metadata": {
      "comm_id": "f2a8210e-c4b0-483e-9b74-097cf6bbb541",
      "reactive": true
     },
     "output_type": "execute_result"
    }
   ],
   "source": [
    "f(x) = sin(3x) + cos(5x)\n",
    "@manipulate for m = slider(2:2:100, value=2)\n",
    "    h = (b-a)/m\n",
    "    plot(f, a, b, c=:red, fill=(0,:red,0.5), leg=false)    \n",
    "    for i = 1:2:m-1\n",
    "        x1, x2, x3 = a + (i-1)*h, a + i*h, a + (i+1)*h\n",
    "        f1, f2, f3 = f(x1), f(x2), f(x3)\n",
    "        α = (f2-f1)/h\n",
    "        β = (f3-2*f2+f1)/2h^2\n",
    "        plot!(x->f1 + (x-x1)*α + (x-x1)*(x-x2)*β, x1, x3, c=:blue, fill=(0,:blue,0.5))\n",
    "    end\n",
    "    plot!()\n",
    "end"
   ]
  },
  {
   "cell_type": "markdown",
   "metadata": {},
   "source": [
    "\\begin{align}\n",
    "\\int_a^b f(x)\\mbox{d}x & =\n",
    "\\int_{x_1}^{x_m} f(x)\\mbox{d}x = \n",
    "\\int_{x_1}^{x_3} f(x)\\mbox{d}x +\n",
    "\\int_{x_3}^{x_5} f(x)\\mbox{d}x +\n",
    "\\int_{x_5}^{x_7} f(x)\\mbox{d}x + \\dots +\n",
    "\\int_{x_{m-2}}^{x_m} f(x)\\mbox{d}x \\\\\n",
    "& \\approx\n",
    "\\frac{h}{3}[f(x_1) + 4f(x_2) + f(x_3)] + \n",
    "\\frac{h}{3}[f(x_3) + 4f(x_4) + f(x_5)] + \\dots +\n",
    "\\frac{h}{3}[f(x_{m-2}) + 4f(x_{m-1}) + f(x_m)] \\\\\n",
    "& = \\frac{h}{3}\n",
    "\\bigg[ f(x_1) + 4[f(x_2) + f(x_4) + \\dots + f(x_{m-1})]\n",
    "+ 2[f(x_3) + f(x_5) + f(x_7) + \\dots + f(x_{m-2})] + f(x_m)\\bigg] \\\\\n",
    "& = \\frac{h}{3}[f(a) + f(b) + 4I_1 + 2I_2]\n",
    "\\end{align}\n",
    "com $h = (b-a)/m$."
   ]
  },
  {
   "cell_type": "code",
   "execution_count": 8,
   "metadata": {
    "collapsed": false
   },
   "outputs": [
    {
     "data": {
      "text/plain": [
       "simpson_repetida (generic function with 1 method)"
      ]
     },
     "execution_count": 8,
     "metadata": {},
     "output_type": "execute_result"
    }
   ],
   "source": [
    "function simpson_repetida(f, a, b; m = 11)\n",
    "    if m % 2 == 0\n",
    "        m = m + 1\n",
    "    end\n",
    "    h = (b-a)/(m-1)\n",
    "    I1, I2 = f(a+h), 0.0\n",
    "    for i = 3:2:m-2\n",
    "        I1 += f(a + i*h)\n",
    "        I2 += f(a + (i-1)*h)\n",
    "    end\n",
    "    return h*(f(a) + 4I1 + 2I2 + f(b))/3\n",
    "end"
   ]
  },
  {
   "cell_type": "code",
   "execution_count": 10,
   "metadata": {
    "collapsed": false
   },
   "outputs": [
    {
     "data": {
      "text/plain": [
       "2.079339388094681e-5"
      ]
     },
     "execution_count": 10,
     "metadata": {},
     "output_type": "execute_result"
    }
   ],
   "source": [
    "f(x) = exp(x)\n",
    "simpson_repetida(f, a, b) - (F(b) - F(a))"
   ]
  },
  {
   "cell_type": "code",
   "execution_count": 11,
   "metadata": {
    "collapsed": false
   },
   "outputs": [
    {
     "data": {
      "text/html": [
       "<?xml version=\"1.0\" encoding=\"utf-8\"?>\n",
       "<svg xmlns=\"http://www.w3.org/2000/svg\" xmlns:xlink=\"http://www.w3.org/1999/xlink\" width=\"600\" height=\"400\" viewBox=\"0 0 600 400\">\n",
       "<defs>\n",
       "  <clipPath id=\"clip00\">\n",
       "    <rect x=\"0\" y=\"0\" width=\"600\" height=\"400\"/>\n",
       "  </clipPath>\n",
       "</defs>\n",
       "<polygon clip-path=\"url(#clip00)\" points=\"\n",
       "0,400 600,400 600,0 0,0 \n",
       "  \" fill=\"#ffffff\" fill-opacity=\"1\"/>\n",
       "<defs>\n",
       "  <clipPath id=\"clip01\">\n",
       "    <rect x=\"120\" y=\"0\" width=\"421\" height=\"400\"/>\n",
       "  </clipPath>\n",
       "</defs>\n",
       "<polygon clip-path=\"url(#clip00)\" points=\"\n",
       "35.4331,377.078 596.063,377.078 596.063,3.93701 35.4331,3.93701 \n",
       "  \" fill=\"#ffffff\" fill-opacity=\"1\"/>\n",
       "<defs>\n",
       "  <clipPath id=\"clip02\">\n",
       "    <rect x=\"35\" y=\"3\" width=\"561\" height=\"374\"/>\n",
       "  </clipPath>\n",
       "</defs>\n",
       "<polyline clip-path=\"url(#clip02)\" style=\"stroke:#00002d; stroke-width:0.8; stroke-opacity:0.5; fill:none\" stroke-dasharray=\"1, 2\" points=\"\n",
       "  167.009,371.481 167.009,9.53412 \n",
       "  \"/>\n",
       "<polyline clip-path=\"url(#clip02)\" style=\"stroke:#00002d; stroke-width:0.8; stroke-opacity:0.5; fill:none\" stroke-dasharray=\"1, 2\" points=\"\n",
       "  310.027,371.481 310.027,9.53412 \n",
       "  \"/>\n",
       "<polyline clip-path=\"url(#clip02)\" style=\"stroke:#00002d; stroke-width:0.8; stroke-opacity:0.5; fill:none\" stroke-dasharray=\"1, 2\" points=\"\n",
       "  453.045,371.481 453.045,9.53412 \n",
       "  \"/>\n",
       "<polyline clip-path=\"url(#clip02)\" style=\"stroke:#00002d; stroke-width:0.8; stroke-opacity:0.5; fill:none\" stroke-dasharray=\"1, 2\" points=\"\n",
       "  596.063,371.481 596.063,9.53412 \n",
       "  \"/>\n",
       "<polyline clip-path=\"url(#clip02)\" style=\"stroke:#00002d; stroke-width:0.8; stroke-opacity:0.5; fill:none\" stroke-dasharray=\"1, 2\" points=\"\n",
       "  43.8425,311.811 587.654,311.811 \n",
       "  \"/>\n",
       "<polyline clip-path=\"url(#clip02)\" style=\"stroke:#00002d; stroke-width:0.8; stroke-opacity:0.5; fill:none\" stroke-dasharray=\"1, 2\" points=\"\n",
       "  43.8425,173.537 587.654,173.537 \n",
       "  \"/>\n",
       "<polyline clip-path=\"url(#clip02)\" style=\"stroke:#00002d; stroke-width:0.8; stroke-opacity:0.5; fill:none\" stroke-dasharray=\"1, 2\" points=\"\n",
       "  43.8425,35.2631 587.654,35.2631 \n",
       "  \"/>\n",
       "<polyline clip-path=\"url(#clip02)\" style=\"stroke:#00002d; stroke-width:0.8; stroke-opacity:1; fill:none\" points=\"\n",
       "  35.4331,377.078 596.063,377.078 \n",
       "  \"/>\n",
       "<polyline clip-path=\"url(#clip02)\" style=\"stroke:#00002d; stroke-width:0.8; stroke-opacity:1; fill:none\" points=\"\n",
       "  35.4331,3.93701 596.063,3.93701 \n",
       "  \"/>\n",
       "<polyline clip-path=\"url(#clip02)\" style=\"stroke:#00002d; stroke-width:0.8; stroke-opacity:1; fill:none\" points=\"\n",
       "  167.009,377.078 167.009,371.481 \n",
       "  \"/>\n",
       "<polyline clip-path=\"url(#clip02)\" style=\"stroke:#00002d; stroke-width:0.8; stroke-opacity:1; fill:none\" points=\"\n",
       "  167.009,3.93701 167.009,9.53412 \n",
       "  \"/>\n",
       "<polyline clip-path=\"url(#clip02)\" style=\"stroke:#00002d; stroke-width:0.8; stroke-opacity:1; fill:none\" points=\"\n",
       "  310.027,377.078 310.027,371.481 \n",
       "  \"/>\n",
       "<polyline clip-path=\"url(#clip02)\" style=\"stroke:#00002d; stroke-width:0.8; stroke-opacity:1; fill:none\" points=\"\n",
       "  310.027,3.93701 310.027,9.53412 \n",
       "  \"/>\n",
       "<polyline clip-path=\"url(#clip02)\" style=\"stroke:#00002d; stroke-width:0.8; stroke-opacity:1; fill:none\" points=\"\n",
       "  453.045,377.078 453.045,371.481 \n",
       "  \"/>\n",
       "<polyline clip-path=\"url(#clip02)\" style=\"stroke:#00002d; stroke-width:0.8; stroke-opacity:1; fill:none\" points=\"\n",
       "  453.045,3.93701 453.045,9.53412 \n",
       "  \"/>\n",
       "<polyline clip-path=\"url(#clip02)\" style=\"stroke:#00002d; stroke-width:0.8; stroke-opacity:1; fill:none\" points=\"\n",
       "  596.063,377.078 596.063,371.481 \n",
       "  \"/>\n",
       "<polyline clip-path=\"url(#clip02)\" style=\"stroke:#00002d; stroke-width:0.8; stroke-opacity:1; fill:none\" points=\"\n",
       "  596.063,3.93701 596.063,9.53412 \n",
       "  \"/>\n",
       "<polyline clip-path=\"url(#clip02)\" style=\"stroke:#00002d; stroke-width:0.8; stroke-opacity:1; fill:none\" points=\"\n",
       "  35.4331,377.078 35.4331,3.93701 \n",
       "  \"/>\n",
       "<polyline clip-path=\"url(#clip02)\" style=\"stroke:#00002d; stroke-width:0.8; stroke-opacity:1; fill:none\" points=\"\n",
       "  596.063,377.078 596.063,3.93701 \n",
       "  \"/>\n",
       "<polyline clip-path=\"url(#clip02)\" style=\"stroke:#00002d; stroke-width:0.8; stroke-opacity:1; fill:none\" points=\"\n",
       "  35.4331,311.811 43.8425,311.811 \n",
       "  \"/>\n",
       "<polyline clip-path=\"url(#clip02)\" style=\"stroke:#00002d; stroke-width:0.8; stroke-opacity:1; fill:none\" points=\"\n",
       "  596.063,311.811 587.654,311.811 \n",
       "  \"/>\n",
       "<polyline clip-path=\"url(#clip02)\" style=\"stroke:#00002d; stroke-width:0.8; stroke-opacity:1; fill:none\" points=\"\n",
       "  35.4331,173.537 43.8425,173.537 \n",
       "  \"/>\n",
       "<polyline clip-path=\"url(#clip02)\" style=\"stroke:#00002d; stroke-width:0.8; stroke-opacity:1; fill:none\" points=\"\n",
       "  596.063,173.537 587.654,173.537 \n",
       "  \"/>\n",
       "<polyline clip-path=\"url(#clip02)\" style=\"stroke:#00002d; stroke-width:0.8; stroke-opacity:1; fill:none\" points=\"\n",
       "  35.4331,35.2631 43.8425,35.2631 \n",
       "  \"/>\n",
       "<polyline clip-path=\"url(#clip02)\" style=\"stroke:#00002d; stroke-width:0.8; stroke-opacity:1; fill:none\" points=\"\n",
       "  596.063,35.2631 587.654,35.2631 \n",
       "  \"/>\n",
       "<g clip-path=\"url(#clip00)\">\n",
       "<text style=\"fill:#00002d; fill-opacity:1; font-family:Arial,Helvetica Neue,Helvetica,sans-serif; font-size:12; text-anchor:middle;\" transform=\"rotate(0, 167.009, 393.878)\" x=\"167.009\" y=\"393.878\">25</text>\n",
       "</g>\n",
       "<g clip-path=\"url(#clip00)\">\n",
       "<text style=\"fill:#00002d; fill-opacity:1; font-family:Arial,Helvetica Neue,Helvetica,sans-serif; font-size:12; text-anchor:middle;\" transform=\"rotate(0, 310.027, 393.878)\" x=\"310.027\" y=\"393.878\">50</text>\n",
       "</g>\n",
       "<g clip-path=\"url(#clip00)\">\n",
       "<text style=\"fill:#00002d; fill-opacity:1; font-family:Arial,Helvetica Neue,Helvetica,sans-serif; font-size:12; text-anchor:middle;\" transform=\"rotate(0, 453.045, 393.878)\" x=\"453.045\" y=\"393.878\">75</text>\n",
       "</g>\n",
       "<g clip-path=\"url(#clip00)\">\n",
       "<text style=\"fill:#00002d; fill-opacity:1; font-family:Arial,Helvetica Neue,Helvetica,sans-serif; font-size:12; text-anchor:middle;\" transform=\"rotate(0, 596.063, 393.878)\" x=\"596.063\" y=\"393.878\">100</text>\n",
       "</g>\n",
       "<g clip-path=\"url(#clip00)\">\n",
       "<text style=\"fill:#00002d; fill-opacity:1; font-family:Arial,Helvetica Neue,Helvetica,sans-serif; font-size:12; text-anchor:start;\" transform=\"rotate(0, -2.75508, 317.743)\" x=\"-2.75508\" y=\"317.743\">10</text>\n",
       "</g>\n",
       "<g clip-path=\"url(#clip00)\">\n",
       "<text style=\"fill:#00002d; fill-opacity:1; font-family:Arial,Helvetica Neue,Helvetica,sans-serif; font-size:10; text-anchor:start;\" transform=\"rotate(0, 10.4242, 310.89)\" x=\"10.4242\" y=\"310.89\">-</text>\n",
       "</g>\n",
       "<g clip-path=\"url(#clip00)\">\n",
       "<text style=\"fill:#00002d; fill-opacity:1; font-family:Arial,Helvetica Neue,Helvetica,sans-serif; font-size:10; text-anchor:start;\" transform=\"rotate(0, 16.0479, 310.89)\" x=\"16.0479\" y=\"310.89\">7.5</text>\n",
       "</g>\n",
       "<g clip-path=\"url(#clip00)\">\n",
       "<text style=\"fill:#00002d; fill-opacity:1; font-family:Arial,Helvetica Neue,Helvetica,sans-serif; font-size:12; text-anchor:start;\" transform=\"rotate(0, -2.75508, 179.469)\" x=\"-2.75508\" y=\"179.469\">10</text>\n",
       "</g>\n",
       "<g clip-path=\"url(#clip00)\">\n",
       "<text style=\"fill:#00002d; fill-opacity:1; font-family:Arial,Helvetica Neue,Helvetica,sans-serif; font-size:10; text-anchor:start;\" transform=\"rotate(0, 10.4242, 172.616)\" x=\"10.4242\" y=\"172.616\">-</text>\n",
       "</g>\n",
       "<g clip-path=\"url(#clip00)\">\n",
       "<text style=\"fill:#00002d; fill-opacity:1; font-family:Arial,Helvetica Neue,Helvetica,sans-serif; font-size:10; text-anchor:start;\" transform=\"rotate(0, 16.0479, 172.616)\" x=\"16.0479\" y=\"172.616\">5.0</text>\n",
       "</g>\n",
       "<g clip-path=\"url(#clip00)\">\n",
       "<text style=\"fill:#00002d; fill-opacity:1; font-family:Arial,Helvetica Neue,Helvetica,sans-serif; font-size:12; text-anchor:start;\" transform=\"rotate(0, -2.75508, 41.195)\" x=\"-2.75508\" y=\"41.195\">10</text>\n",
       "</g>\n",
       "<g clip-path=\"url(#clip00)\">\n",
       "<text style=\"fill:#00002d; fill-opacity:1; font-family:Arial,Helvetica Neue,Helvetica,sans-serif; font-size:10; text-anchor:start;\" transform=\"rotate(0, 10.4242, 34.3424)\" x=\"10.4242\" y=\"34.3424\">-</text>\n",
       "</g>\n",
       "<g clip-path=\"url(#clip00)\">\n",
       "<text style=\"fill:#00002d; fill-opacity:1; font-family:Arial,Helvetica Neue,Helvetica,sans-serif; font-size:10; text-anchor:start;\" transform=\"rotate(0, 16.0479, 34.3424)\" x=\"16.0479\" y=\"34.3424\">2.5</text>\n",
       "</g>\n",
       "<polyline clip-path=\"url(#clip02)\" style=\"stroke:#0099ff; stroke-width:0.8; stroke-opacity:1; fill:none\" points=\"\n",
       "  35.4331,3.93701 41.1538,3.93701 46.8745,68.5058 52.5952,68.5058 58.3159,107.073 64.0366,107.073 69.7574,134.577 75.4781,134.577 81.1988,155.953 86.9195,155.953 \n",
       "  92.6402,173.436 98.3609,173.436 104.082,188.226 109.802,188.226 115.523,201.042 121.244,201.042 126.964,212.35 132.685,212.35 138.406,222.466 144.127,222.466 \n",
       "  149.847,231.619 155.568,231.619 161.289,239.976 167.009,239.976 172.73,247.663 178.451,247.663 184.172,254.782 189.892,254.782 195.613,261.409 201.334,261.409 \n",
       "  207.054,267.608 212.775,267.608 218.496,273.432 224.217,273.432 229.937,278.923 235.658,278.923 241.379,284.117 247.099,284.117 252.82,289.044 258.541,289.044 \n",
       "  264.262,293.732 269.982,293.732 275.703,298.201 281.424,298.201 287.144,302.471 292.865,302.471 298.586,306.56 304.307,306.56 310.027,310.482 315.748,310.482 \n",
       "  321.469,314.25 327.189,314.25 332.91,317.876 338.631,317.876 344.352,321.37 350.072,321.37 355.793,324.741 361.514,324.741 367.234,327.998 372.955,327.998 \n",
       "  378.676,331.149 384.397,331.149 390.117,334.199 395.838,334.199 401.559,337.156 407.279,337.156 413,340.024 418.721,340.024 424.442,342.809 430.162,342.809 \n",
       "  435.883,345.515 441.604,345.515 447.324,348.148 453.045,348.148 458.766,350.71 464.487,350.71 470.207,353.206 475.928,353.206 481.649,355.638 487.369,355.638 \n",
       "  493.09,358.011 498.811,358.011 504.532,360.326 510.252,360.326 515.973,362.587 521.694,362.587 527.414,364.796 533.135,364.796 538.856,366.955 544.577,366.955 \n",
       "  550.297,369.067 556.018,369.067 561.739,371.133 567.459,371.133 573.18,373.156 578.901,373.156 584.622,375.137 590.342,375.137 596.063,377.078 \n",
       "  \"/>\n",
       "<polygon clip-path=\"url(#clip00)\" points=\"\n",
       "505.547,55.057 578.063,55.057 578.063,24.817 505.547,24.817 \n",
       "  \" fill=\"#ffffff\" fill-opacity=\"1\"/>\n",
       "<polyline clip-path=\"url(#clip00)\" style=\"stroke:#00002d; stroke-width:0.8; stroke-opacity:1; fill:none\" points=\"\n",
       "  505.547,55.057 578.063,55.057 578.063,24.817 505.547,24.817 505.547,55.057 \n",
       "  \"/>\n",
       "<polyline clip-path=\"url(#clip00)\" style=\"stroke:#0099ff; stroke-width:0.8; stroke-opacity:1; fill:none\" points=\"\n",
       "  511.547,39.937 547.547,39.937 \n",
       "  \"/>\n",
       "<g clip-path=\"url(#clip00)\">\n",
       "<text style=\"fill:#00002d; fill-opacity:1; font-family:Arial,Helvetica Neue,Helvetica,sans-serif; font-size:12; text-anchor:start;\" transform=\"rotate(0, 553.547, 44.437)\" x=\"553.547\" y=\"44.437\">y1</text>\n",
       "</g>\n",
       "</svg>\n"
      ]
     },
     "execution_count": 11,
     "metadata": {},
     "output_type": "execute_result"
    }
   ],
   "source": [
    "Erro = map(m->simpson_repetida(f, a, b, m=m)-(F(b)-F(a)), 2:100)\n",
    "plot(2:100, abs(Erro), yaxis=:log)"
   ]
  },
  {
   "cell_type": "code",
   "execution_count": 12,
   "metadata": {
    "collapsed": false
   },
   "outputs": [
    {
     "data": {
      "text/plain": [
       "trapezio_repetida (generic function with 1 method)"
      ]
     },
     "execution_count": 12,
     "metadata": {},
     "output_type": "execute_result"
    }
   ],
   "source": [
    "function trapezio_repetida(f, a, b; m = 10)\n",
    "    if m < 2\n",
    "        error(\"m deve ser maior ou igual a 2\")\n",
    "    end\n",
    "    I = f(a) + f(b)\n",
    "    h = (b-a)/(m-1)\n",
    "    for i = 1:m-2\n",
    "        I += 2*f(a + i*h)\n",
    "    end\n",
    "    return I * h / 2\n",
    "end"
   ]
  },
  {
   "cell_type": "code",
   "execution_count": 13,
   "metadata": {
    "collapsed": false
   },
   "outputs": [
    {
     "data": {
      "text/html": [
       "<?xml version=\"1.0\" encoding=\"utf-8\"?>\n",
       "<svg xmlns=\"http://www.w3.org/2000/svg\" xmlns:xlink=\"http://www.w3.org/1999/xlink\" width=\"600\" height=\"400\" viewBox=\"0 0 600 400\">\n",
       "<defs>\n",
       "  <clipPath id=\"clip00\">\n",
       "    <rect x=\"0\" y=\"0\" width=\"600\" height=\"400\"/>\n",
       "  </clipPath>\n",
       "</defs>\n",
       "<polygon clip-path=\"url(#clip00)\" points=\"\n",
       "0,400 600,400 600,0 0,0 \n",
       "  \" fill=\"#ffffff\" fill-opacity=\"1\"/>\n",
       "<defs>\n",
       "  <clipPath id=\"clip01\">\n",
       "    <rect x=\"120\" y=\"0\" width=\"421\" height=\"400\"/>\n",
       "  </clipPath>\n",
       "</defs>\n",
       "<polygon clip-path=\"url(#clip00)\" points=\"\n",
       "35.4331,377.078 596.063,377.078 596.063,3.93701 35.4331,3.93701 \n",
       "  \" fill=\"#ffffff\" fill-opacity=\"1\"/>\n",
       "<defs>\n",
       "  <clipPath id=\"clip02\">\n",
       "    <rect x=\"35\" y=\"3\" width=\"561\" height=\"374\"/>\n",
       "  </clipPath>\n",
       "</defs>\n",
       "<polyline clip-path=\"url(#clip02)\" style=\"stroke:#00002d; stroke-width:0.8; stroke-opacity:0.5; fill:none\" stroke-dasharray=\"1, 2\" points=\"\n",
       "  167.009,371.481 167.009,9.53412 \n",
       "  \"/>\n",
       "<polyline clip-path=\"url(#clip02)\" style=\"stroke:#00002d; stroke-width:0.8; stroke-opacity:0.5; fill:none\" stroke-dasharray=\"1, 2\" points=\"\n",
       "  310.027,371.481 310.027,9.53412 \n",
       "  \"/>\n",
       "<polyline clip-path=\"url(#clip02)\" style=\"stroke:#00002d; stroke-width:0.8; stroke-opacity:0.5; fill:none\" stroke-dasharray=\"1, 2\" points=\"\n",
       "  453.045,371.481 453.045,9.53412 \n",
       "  \"/>\n",
       "<polyline clip-path=\"url(#clip02)\" style=\"stroke:#00002d; stroke-width:0.8; stroke-opacity:0.5; fill:none\" stroke-dasharray=\"1, 2\" points=\"\n",
       "  596.063,371.481 596.063,9.53412 \n",
       "  \"/>\n",
       "<polyline clip-path=\"url(#clip02)\" style=\"stroke:#00002d; stroke-width:0.8; stroke-opacity:0.5; fill:none\" stroke-dasharray=\"1, 2\" points=\"\n",
       "  43.8425,325.559 587.654,325.559 \n",
       "  \"/>\n",
       "<polyline clip-path=\"url(#clip02)\" style=\"stroke:#00002d; stroke-width:0.8; stroke-opacity:0.5; fill:none\" stroke-dasharray=\"1, 2\" points=\"\n",
       "  43.8425,216.412 587.654,216.412 \n",
       "  \"/>\n",
       "<polyline clip-path=\"url(#clip02)\" style=\"stroke:#00002d; stroke-width:0.8; stroke-opacity:0.5; fill:none\" stroke-dasharray=\"1, 2\" points=\"\n",
       "  43.8425,107.266 587.654,107.266 \n",
       "  \"/>\n",
       "<polyline clip-path=\"url(#clip02)\" style=\"stroke:#00002d; stroke-width:0.8; stroke-opacity:1; fill:none\" points=\"\n",
       "  35.4331,377.078 596.063,377.078 \n",
       "  \"/>\n",
       "<polyline clip-path=\"url(#clip02)\" style=\"stroke:#00002d; stroke-width:0.8; stroke-opacity:1; fill:none\" points=\"\n",
       "  35.4331,3.93701 596.063,3.93701 \n",
       "  \"/>\n",
       "<polyline clip-path=\"url(#clip02)\" style=\"stroke:#00002d; stroke-width:0.8; stroke-opacity:1; fill:none\" points=\"\n",
       "  167.009,377.078 167.009,371.481 \n",
       "  \"/>\n",
       "<polyline clip-path=\"url(#clip02)\" style=\"stroke:#00002d; stroke-width:0.8; stroke-opacity:1; fill:none\" points=\"\n",
       "  167.009,3.93701 167.009,9.53412 \n",
       "  \"/>\n",
       "<polyline clip-path=\"url(#clip02)\" style=\"stroke:#00002d; stroke-width:0.8; stroke-opacity:1; fill:none\" points=\"\n",
       "  310.027,377.078 310.027,371.481 \n",
       "  \"/>\n",
       "<polyline clip-path=\"url(#clip02)\" style=\"stroke:#00002d; stroke-width:0.8; stroke-opacity:1; fill:none\" points=\"\n",
       "  310.027,3.93701 310.027,9.53412 \n",
       "  \"/>\n",
       "<polyline clip-path=\"url(#clip02)\" style=\"stroke:#00002d; stroke-width:0.8; stroke-opacity:1; fill:none\" points=\"\n",
       "  453.045,377.078 453.045,371.481 \n",
       "  \"/>\n",
       "<polyline clip-path=\"url(#clip02)\" style=\"stroke:#00002d; stroke-width:0.8; stroke-opacity:1; fill:none\" points=\"\n",
       "  453.045,3.93701 453.045,9.53412 \n",
       "  \"/>\n",
       "<polyline clip-path=\"url(#clip02)\" style=\"stroke:#00002d; stroke-width:0.8; stroke-opacity:1; fill:none\" points=\"\n",
       "  596.063,377.078 596.063,371.481 \n",
       "  \"/>\n",
       "<polyline clip-path=\"url(#clip02)\" style=\"stroke:#00002d; stroke-width:0.8; stroke-opacity:1; fill:none\" points=\"\n",
       "  596.063,3.93701 596.063,9.53412 \n",
       "  \"/>\n",
       "<polyline clip-path=\"url(#clip02)\" style=\"stroke:#00002d; stroke-width:0.8; stroke-opacity:1; fill:none\" points=\"\n",
       "  35.4331,377.078 35.4331,3.93701 \n",
       "  \"/>\n",
       "<polyline clip-path=\"url(#clip02)\" style=\"stroke:#00002d; stroke-width:0.8; stroke-opacity:1; fill:none\" points=\"\n",
       "  596.063,377.078 596.063,3.93701 \n",
       "  \"/>\n",
       "<polyline clip-path=\"url(#clip02)\" style=\"stroke:#00002d; stroke-width:0.8; stroke-opacity:1; fill:none\" points=\"\n",
       "  35.4331,325.559 43.8425,325.559 \n",
       "  \"/>\n",
       "<polyline clip-path=\"url(#clip02)\" style=\"stroke:#00002d; stroke-width:0.8; stroke-opacity:1; fill:none\" points=\"\n",
       "  596.063,325.559 587.654,325.559 \n",
       "  \"/>\n",
       "<polyline clip-path=\"url(#clip02)\" style=\"stroke:#00002d; stroke-width:0.8; stroke-opacity:1; fill:none\" points=\"\n",
       "  35.4331,216.412 43.8425,216.412 \n",
       "  \"/>\n",
       "<polyline clip-path=\"url(#clip02)\" style=\"stroke:#00002d; stroke-width:0.8; stroke-opacity:1; fill:none\" points=\"\n",
       "  596.063,216.412 587.654,216.412 \n",
       "  \"/>\n",
       "<polyline clip-path=\"url(#clip02)\" style=\"stroke:#00002d; stroke-width:0.8; stroke-opacity:1; fill:none\" points=\"\n",
       "  35.4331,107.266 43.8425,107.266 \n",
       "  \"/>\n",
       "<polyline clip-path=\"url(#clip02)\" style=\"stroke:#00002d; stroke-width:0.8; stroke-opacity:1; fill:none\" points=\"\n",
       "  596.063,107.266 587.654,107.266 \n",
       "  \"/>\n",
       "<g clip-path=\"url(#clip00)\">\n",
       "<text style=\"fill:#00002d; fill-opacity:1; font-family:Arial,Helvetica Neue,Helvetica,sans-serif; font-size:12; text-anchor:middle;\" transform=\"rotate(0, 167.009, 393.878)\" x=\"167.009\" y=\"393.878\">25</text>\n",
       "</g>\n",
       "<g clip-path=\"url(#clip00)\">\n",
       "<text style=\"fill:#00002d; fill-opacity:1; font-family:Arial,Helvetica Neue,Helvetica,sans-serif; font-size:12; text-anchor:middle;\" transform=\"rotate(0, 310.027, 393.878)\" x=\"310.027\" y=\"393.878\">50</text>\n",
       "</g>\n",
       "<g clip-path=\"url(#clip00)\">\n",
       "<text style=\"fill:#00002d; fill-opacity:1; font-family:Arial,Helvetica Neue,Helvetica,sans-serif; font-size:12; text-anchor:middle;\" transform=\"rotate(0, 453.045, 393.878)\" x=\"453.045\" y=\"393.878\">75</text>\n",
       "</g>\n",
       "<g clip-path=\"url(#clip00)\">\n",
       "<text style=\"fill:#00002d; fill-opacity:1; font-family:Arial,Helvetica Neue,Helvetica,sans-serif; font-size:12; text-anchor:middle;\" transform=\"rotate(0, 596.063, 393.878)\" x=\"596.063\" y=\"393.878\">100</text>\n",
       "</g>\n",
       "<g clip-path=\"url(#clip00)\">\n",
       "<text style=\"fill:#00002d; fill-opacity:1; font-family:Arial,Helvetica Neue,Helvetica,sans-serif; font-size:12; text-anchor:start;\" transform=\"rotate(0, -2.75508, 331.491)\" x=\"-2.75508\" y=\"331.491\">10</text>\n",
       "</g>\n",
       "<g clip-path=\"url(#clip00)\">\n",
       "<text style=\"fill:#00002d; fill-opacity:1; font-family:Arial,Helvetica Neue,Helvetica,sans-serif; font-size:10; text-anchor:start;\" transform=\"rotate(0, 10.4242, 324.639)\" x=\"10.4242\" y=\"324.639\">-</text>\n",
       "</g>\n",
       "<g clip-path=\"url(#clip00)\">\n",
       "<text style=\"fill:#00002d; fill-opacity:1; font-family:Arial,Helvetica Neue,Helvetica,sans-serif; font-size:10; text-anchor:start;\" transform=\"rotate(0, 16.0479, 324.639)\" x=\"16.0479\" y=\"324.639\">7.5</text>\n",
       "</g>\n",
       "<g clip-path=\"url(#clip00)\">\n",
       "<text style=\"fill:#00002d; fill-opacity:1; font-family:Arial,Helvetica Neue,Helvetica,sans-serif; font-size:12; text-anchor:start;\" transform=\"rotate(0, -2.75508, 222.344)\" x=\"-2.75508\" y=\"222.344\">10</text>\n",
       "</g>\n",
       "<g clip-path=\"url(#clip00)\">\n",
       "<text style=\"fill:#00002d; fill-opacity:1; font-family:Arial,Helvetica Neue,Helvetica,sans-serif; font-size:10; text-anchor:start;\" transform=\"rotate(0, 10.4242, 215.492)\" x=\"10.4242\" y=\"215.492\">-</text>\n",
       "</g>\n",
       "<g clip-path=\"url(#clip00)\">\n",
       "<text style=\"fill:#00002d; fill-opacity:1; font-family:Arial,Helvetica Neue,Helvetica,sans-serif; font-size:10; text-anchor:start;\" transform=\"rotate(0, 16.0479, 215.492)\" x=\"16.0479\" y=\"215.492\">5.0</text>\n",
       "</g>\n",
       "<g clip-path=\"url(#clip00)\">\n",
       "<text style=\"fill:#00002d; fill-opacity:1; font-family:Arial,Helvetica Neue,Helvetica,sans-serif; font-size:12; text-anchor:start;\" transform=\"rotate(0, -2.75508, 113.198)\" x=\"-2.75508\" y=\"113.198\">10</text>\n",
       "</g>\n",
       "<g clip-path=\"url(#clip00)\">\n",
       "<text style=\"fill:#00002d; fill-opacity:1; font-family:Arial,Helvetica Neue,Helvetica,sans-serif; font-size:10; text-anchor:start;\" transform=\"rotate(0, 10.4242, 106.345)\" x=\"10.4242\" y=\"106.345\">-</text>\n",
       "</g>\n",
       "<g clip-path=\"url(#clip00)\">\n",
       "<text style=\"fill:#00002d; fill-opacity:1; font-family:Arial,Helvetica Neue,Helvetica,sans-serif; font-size:10; text-anchor:start;\" transform=\"rotate(0, 16.0479, 106.345)\" x=\"16.0479\" y=\"106.345\">2.5</text>\n",
       "</g>\n",
       "<polyline clip-path=\"url(#clip02)\" style=\"stroke:#0099ff; stroke-width:0.8; stroke-opacity:1; fill:none\" points=\"\n",
       "  35.4331,82.5384 41.1538,82.5384 46.8745,133.506 52.5952,133.506 58.3159,163.949 64.0366,163.949 69.7574,185.659 75.4781,185.659 81.1988,202.532 86.9195,202.532 \n",
       "  92.6402,216.333 98.3609,216.333 104.082,228.007 109.802,228.007 115.523,238.124 121.244,238.124 126.964,247.049 132.685,247.049 138.406,255.035 144.127,255.035 \n",
       "  149.847,262.26 155.568,262.26 161.289,268.856 167.009,268.856 172.73,274.924 178.451,274.924 184.172,280.543 189.892,280.543 195.613,285.774 201.334,285.774 \n",
       "  207.054,290.668 212.775,290.668 218.496,295.265 224.217,295.265 229.937,299.599 235.658,299.599 241.379,303.699 247.099,303.699 252.82,307.588 258.541,307.588 \n",
       "  264.262,311.288 269.982,311.288 275.703,314.816 281.424,314.816 287.144,318.187 292.865,318.187 298.586,321.414 304.307,321.414 310.027,324.51 315.748,324.51 \n",
       "  321.469,327.485 327.189,327.485 332.91,330.347 338.631,330.347 344.352,333.105 350.072,333.105 355.793,335.766 361.514,335.766 367.234,338.337 372.955,338.337 \n",
       "  378.676,340.824 384.397,340.824 390.117,343.231 395.838,343.231 401.559,345.565 407.279,345.565 413,347.829 418.721,347.829 424.442,350.028 430.162,350.028 \n",
       "  435.883,352.164 441.604,352.164 447.324,354.242 453.045,354.242 458.766,356.264 464.487,356.264 470.207,358.234 475.928,358.234 481.649,360.155 487.369,360.155 \n",
       "  493.09,362.027 498.811,362.027 504.532,363.855 510.252,363.855 515.973,365.639 521.694,365.639 527.414,367.383 533.135,367.383 538.856,369.087 544.577,369.087 \n",
       "  550.297,370.754 556.018,370.754 561.739,372.385 567.459,372.385 573.18,373.982 578.901,373.982 584.622,375.546 590.342,375.546 596.063,377.078 \n",
       "  \"/>\n",
       "<polyline clip-path=\"url(#clip02)\" style=\"stroke:#ff0000; stroke-width:0.8; stroke-opacity:1; fill:none\" points=\"\n",
       "  35.4331,3.93701 41.1538,29.3421 46.8745,44.5463 52.5952,55.3948 58.3159,63.8285 64.0366,70.727 69.7574,76.5633 75.4781,81.621 81.1988,86.0834 86.9195,90.0758 \n",
       "  92.6402,93.6879 98.3609,96.9859 104.082,100.02 109.802,102.829 115.523,105.445 121.244,107.891 126.964,110.19 132.685,112.357 138.406,114.407 144.127,116.352 \n",
       "  149.847,118.201 155.568,119.965 161.289,121.651 167.009,123.264 172.73,124.812 178.451,126.299 184.172,127.731 189.892,129.109 195.613,130.44 201.334,131.726 \n",
       "  207.054,132.969 212.775,134.173 218.496,135.34 224.217,136.472 229.937,137.571 235.658,138.639 241.379,139.678 247.099,140.689 252.82,141.674 258.541,142.634 \n",
       "  264.262,143.571 269.982,144.484 275.703,145.377 281.424,146.248 287.144,147.101 292.865,147.934 298.586,148.75 304.307,149.548 310.027,150.33 315.748,151.096 \n",
       "  321.469,151.847 327.189,152.583 332.91,153.306 338.631,154.014 344.352,154.71 350.072,155.393 355.793,156.065 361.514,156.724 367.234,157.372 372.955,158.01 \n",
       "  378.676,158.637 384.397,159.253 390.117,159.86 395.838,160.457 401.559,161.045 407.279,161.624 413,162.194 418.721,162.756 424.442,163.31 430.162,163.855 \n",
       "  435.883,164.393 441.604,164.924 447.324,165.447 453.045,165.963 458.766,166.472 464.487,166.974 470.207,167.47 475.928,167.959 481.649,168.442 487.369,168.919 \n",
       "  493.09,169.39 498.811,169.855 504.532,170.315 510.252,170.769 515.973,171.218 521.694,171.661 527.414,172.1 533.135,172.533 538.856,172.962 544.577,173.385 \n",
       "  550.297,173.804 556.018,174.219 561.739,174.629 567.459,175.034 573.18,175.436 578.901,175.833 584.622,176.226 590.342,176.615 596.063,177 \n",
       "  \"/>\n",
       "<polygon clip-path=\"url(#clip00)\" points=\"\n",
       "505.547,70.177 578.063,70.177 578.063,24.817 505.547,24.817 \n",
       "  \" fill=\"#ffffff\" fill-opacity=\"1\"/>\n",
       "<polyline clip-path=\"url(#clip00)\" style=\"stroke:#00002d; stroke-width:0.8; stroke-opacity:1; fill:none\" points=\"\n",
       "  505.547,70.177 578.063,70.177 578.063,24.817 505.547,24.817 505.547,70.177 \n",
       "  \"/>\n",
       "<polyline clip-path=\"url(#clip00)\" style=\"stroke:#0099ff; stroke-width:0.8; stroke-opacity:1; fill:none\" points=\"\n",
       "  511.547,39.937 547.547,39.937 \n",
       "  \"/>\n",
       "<g clip-path=\"url(#clip00)\">\n",
       "<text style=\"fill:#00002d; fill-opacity:1; font-family:Arial,Helvetica Neue,Helvetica,sans-serif; font-size:12; text-anchor:start;\" transform=\"rotate(0, 553.547, 44.437)\" x=\"553.547\" y=\"44.437\">y1</text>\n",
       "</g>\n",
       "<polyline clip-path=\"url(#clip00)\" style=\"stroke:#ff0000; stroke-width:0.8; stroke-opacity:1; fill:none\" points=\"\n",
       "  511.547,55.057 547.547,55.057 \n",
       "  \"/>\n",
       "<g clip-path=\"url(#clip00)\">\n",
       "<text style=\"fill:#00002d; fill-opacity:1; font-family:Arial,Helvetica Neue,Helvetica,sans-serif; font-size:12; text-anchor:start;\" transform=\"rotate(0, 553.547, 59.557)\" x=\"553.547\" y=\"59.557\">y2</text>\n",
       "</g>\n",
       "</svg>\n"
      ]
     },
     "execution_count": 13,
     "metadata": {},
     "output_type": "execute_result"
    }
   ],
   "source": [
    "Erro = map(m->simpson_repetida(f, a, b, m=m)-(F(b)-F(a)), 2:100)\n",
    "plot(2:100, abs(Erro), yaxis=:log)\n",
    "Erro = map(m->trapezio_repetida(f, a, b, m=m)-(F(b)-F(a)), 2:100)\n",
    "plot!(2:100, abs(Erro), yaxis=:log, c=:red)"
   ]
  },
  {
   "cell_type": "markdown",
   "metadata": {},
   "source": [
    "Lembre-se que o erro da aproximação do **trapézio** é de $h^3f''(\\xi)$. Daí,\n",
    "se $f'' = 0$, então o erro é nulo."
   ]
  },
  {
   "cell_type": "code",
   "execution_count": 14,
   "metadata": {
    "collapsed": false
   },
   "outputs": [
    {
     "data": {
      "text/plain": [
       "0.0"
      ]
     },
     "execution_count": 14,
     "metadata": {},
     "output_type": "execute_result"
    }
   ],
   "source": [
    "f(x) = 1 + x\n",
    "F(x) = x + x^2/2\n",
    "trapezio_repetida(f, a, b, m=2) - (F(b)-F(a))"
   ]
  },
  {
   "cell_type": "code",
   "execution_count": 15,
   "metadata": {
    "collapsed": false
   },
   "outputs": [
    {
     "data": {
      "text/plain": [
       "0.0"
      ]
     },
     "execution_count": 15,
     "metadata": {},
     "output_type": "execute_result"
    }
   ],
   "source": [
    "simpson_repetida(f, a, b, m=2) - (F(b)-F(a))"
   ]
  },
  {
   "cell_type": "code",
   "execution_count": 16,
   "metadata": {
    "collapsed": false
   },
   "outputs": [
    {
     "data": {
      "text/plain": [
       "1.3333333333333335"
      ]
     },
     "execution_count": 16,
     "metadata": {},
     "output_type": "execute_result"
    }
   ],
   "source": [
    "f(x) = 1 + x + x^2\n",
    "F(x) = x + x^2/2 + x^3/3\n",
    "trapezio_repetida(f, a, b, m=2) - (F(b)-F(a))"
   ]
  },
  {
   "cell_type": "code",
   "execution_count": 17,
   "metadata": {
    "collapsed": false
   },
   "outputs": [
    {
     "data": {
      "text/plain": [
       "0.0"
      ]
     },
     "execution_count": 17,
     "metadata": {},
     "output_type": "execute_result"
    }
   ],
   "source": [
    "simpson_repetida(f, a, b, m=2) - (F(b)-F(a)) # Esperado que seja 0.0"
   ]
  },
  {
   "cell_type": "code",
   "execution_count": 18,
   "metadata": {
    "collapsed": false
   },
   "outputs": [
    {
     "data": {
      "text/plain": [
       "1.333333333333334"
      ]
     },
     "execution_count": 18,
     "metadata": {},
     "output_type": "execute_result"
    }
   ],
   "source": [
    "f(x) = 1 + x + x^2 + x^3\n",
    "F(x) = x + x^2/2 + x^3/3 + x^4/4\n",
    "trapezio_repetida(f, a, b, m=2) - (F(b)-F(a))"
   ]
  },
  {
   "cell_type": "code",
   "execution_count": 19,
   "metadata": {
    "collapsed": false
   },
   "outputs": [
    {
     "data": {
      "text/plain": [
       "4.440892098500626e-16"
      ]
     },
     "execution_count": 19,
     "metadata": {},
     "output_type": "execute_result"
    }
   ],
   "source": [
    "simpson_repetida(f, a, b, m=2) - (F(b)-F(a))"
   ]
  },
  {
   "cell_type": "code",
   "execution_count": 20,
   "metadata": {
    "collapsed": false
   },
   "outputs": [
    {
     "data": {
      "text/plain": [
       "2.9333333333333336"
      ]
     },
     "execution_count": 20,
     "metadata": {},
     "output_type": "execute_result"
    }
   ],
   "source": [
    "f(x) = 1 + x + x^2 + x^3 + x^4\n",
    "F(x) = x + x^2/2 + x^3/3 + x^4/4 + x^5/5\n",
    "trapezio_repetida(f, a, b, m=2) - (F(b)-F(a))"
   ]
  },
  {
   "cell_type": "code",
   "execution_count": 21,
   "metadata": {
    "collapsed": false
   },
   "outputs": [
    {
     "data": {
      "text/plain": [
       "0.26666666666666705"
      ]
     },
     "execution_count": 21,
     "metadata": {},
     "output_type": "execute_result"
    }
   ],
   "source": [
    "simpson_repetida(f, a, b, m=2) - (F(b)-F(a))"
   ]
  },
  {
   "cell_type": "markdown",
   "metadata": {},
   "source": [
    "Surpreendentemente, o erro da integral de Simpson não é apenas \"um a mais\" no\n",
    "expoente, e sim $h^5f^{(iv)}(\\xi)$,\n",
    "de modo que a integral de Simpson **integra polinômios de até grau 3 exatamente**."
   ]
  },
  {
   "cell_type": "code",
   "execution_count": 23,
   "metadata": {
    "collapsed": false
   },
   "outputs": [
    {
     "data": {
      "text/plain": [
       "4760.448347286904"
      ]
     },
     "execution_count": 23,
     "metadata": {},
     "output_type": "execute_result"
    }
   ],
   "source": [
    "1 + sqrt(e/12e-8)"
   ]
  },
  {
   "cell_type": "code",
   "execution_count": 29,
   "metadata": {
    "collapsed": false
   },
   "outputs": [
    {
     "data": {
      "text/plain": [
       "-6.319745171623481e-9"
      ]
     },
     "execution_count": 29,
     "metadata": {},
     "output_type": "execute_result"
    }
   ],
   "source": [
    "f(x) = exp(x)\n",
    "a, b = 1, 0\n",
    "F(x) = exp(x)\n",
    "trapezio_repetida(f, a, b, m=4761) - (F(b)-F(a))"
   ]
  },
  {
   "cell_type": "markdown",
   "metadata": {},
   "source": [
    "# Quadratura Gaussiana"
   ]
  },
  {
   "cell_type": "markdown",
   "metadata": {},
   "source": [
    "Como vimos, a ordem do erro de uma integral numérica não é necessariamente a mesma que o número de pontos que são usados.\n",
    "\n",
    "A quadratura Gaussiana tem por objetivo obter o melhor erro com o menor número de pontos.\n",
    "\n",
    "Como não podemos calcular o erro exatamente, vamos usar a noção de integrar polinômios exatamente."
   ]
  },
  {
   "cell_type": "markdown",
   "metadata": {},
   "source": [
    "Uma quadratura Gaussiana terá a forma\n",
    "\n",
    "$$ \\int_a^b f(x)\\mbox{d}x \\approx \\sum_{i=1}^n A_i f(x_i), $$\n",
    "onde $n$ é a ordem da quadratura. Para simplificar, vamos começar considerando o caso $[-1,1]$.\n",
    "$$ \\int_{-1}^1\\! g(t)\\mbox{d}t \\approx \\sum_{i=1}^n A_i g(t_i), $$"
   ]
  },
  {
   "cell_type": "markdown",
   "metadata": {},
   "source": [
    "Um polinômio de ordem $N$ geral pode ser escrito como uma combinação dos elementos da base canônica\n",
    "$1$, $t$, $t^2$, $\\dots$, $t^N$. Sendo assim, para interpolar exatamente um polinômio de ordem $N$,\n",
    "é necessário e suficiente interpolar exatamente todos os $N+1$ elementos de sua base."
   ]
  },
  {
   "cell_type": "markdown",
   "metadata": {},
   "source": [
    "Como temos $2n$ incógnitas, o grau máximo do polinômio a ser interpolado é $N = 2n-1$."
   ]
  },
  {
   "cell_type": "markdown",
   "metadata": {},
   "source": [
    "Vamos mostrar um exemplo com $n = 1$."
   ]
  },
  {
   "cell_type": "markdown",
   "metadata": {},
   "source": [
    "$$ \\int_{-1}^1\\! g(t)\\mbox{d}t \\approx A_1 g(t_1), $$"
   ]
  },
  {
   "cell_type": "markdown",
   "metadata": {},
   "source": [
    "O grau máximo é $N = 1$, então vamos encontrar $A_1$ e $t_1$ tais que\n",
    "a integral acima é exata para $g(t) = 1$ e $g(t) = t$."
   ]
  },
  {
   "cell_type": "markdown",
   "metadata": {},
   "source": [
    "As seguintes equações devem ser satisfeitas:\n",
    "$$ \\int_{-1}^1 1\\mbox{d}t = A_1 1 $$\n",
    "$$ \\int_{-1}^1 t\\mbox{d}t = A_1 t_1 $$"
   ]
  },
  {
   "cell_type": "markdown",
   "metadata": {},
   "source": [
    "isto é,\n",
    "$$ 2 = A_1 $$\n",
    "$$ 0 = A_1 t_1. $$\n",
    "\n",
    "A solução é $A_1 = 2$ e $t_1 = 0$."
   ]
  },
  {
   "cell_type": "markdown",
   "metadata": {},
   "source": [
    "Isto é,\n",
    "$$ \\int_{-1}^1 g(t)\\mbox{d}t \\approx 2g(0). $$\n",
    "Para generalizar para a integral de $f$ em $[a,b]$, basta considerar a mudança\n",
    "de variável $x = \\dfrac{a+b}{2} + \\dfrac{b-a}{2}t$.\n",
    "Daí,\n",
    "$ \\mbox{d}x = \\dfrac{b-a}{2}\\mbox{d}t$, e então\n",
    "\\begin{align}\n",
    "\\int_a^b f(x) \\mbox{d}x\n",
    "& = \\int_{-1}^1 f(x(t)) \\frac{b-a}{2} \\mbox{d}t \\\\\n",
    "& = \\frac{b-a}{2}\\int_{-1}^1 f\\bigg(\\frac{a+b}{2} + \\frac{b-a}{2}t\\bigg)\\mbox{d}t \\\\\n",
    "& \\approx (b-a)f\\bigg(\\frac{a+b}{2}\\bigg).\n",
    "\\end{align}"
   ]
  },
  {
   "cell_type": "code",
   "execution_count": 95,
   "metadata": {
    "collapsed": false
   },
   "outputs": [
    {
     "data": {
      "text/plain": [
       "quadgauss1 (generic function with 1 method)"
      ]
     },
     "execution_count": 95,
     "metadata": {},
     "output_type": "execute_result"
    }
   ],
   "source": [
    "function quadgauss1(f, a, b)\n",
    "    return (b-a)*f((a+b)/2)\n",
    "end"
   ]
  },
  {
   "cell_type": "code",
   "execution_count": 96,
   "metadata": {
    "collapsed": false
   },
   "outputs": [
    {
     "data": {
      "text/plain": [
       "-0.35040238728760276"
      ]
     },
     "execution_count": 96,
     "metadata": {},
     "output_type": "execute_result"
    }
   ],
   "source": [
    "f(x) = exp(x)\n",
    "F(x) = exp(x)\n",
    "quadgauss1(f, a, b) - (F(b)-F(a))"
   ]
  },
  {
   "cell_type": "markdown",
   "metadata": {},
   "source": [
    "## Exercício\n",
    "\n",
    "- Fazer com $n = 2$."
   ]
  },
  {
   "cell_type": "code",
   "execution_count": null,
   "metadata": {
    "collapsed": true
   },
   "outputs": [],
   "source": []
  }
 ],
 "metadata": {
  "kernelspec": {
   "display_name": "Julia 0.4.6",
   "language": "julia",
   "name": "julia-0.4"
  },
  "language_info": {
   "file_extension": ".jl",
   "mimetype": "application/julia",
   "name": "julia",
   "version": "0.4.6"
  }
 },
 "nbformat": 4,
 "nbformat_minor": 0
}
