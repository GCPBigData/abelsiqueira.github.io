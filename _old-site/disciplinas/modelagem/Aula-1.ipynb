{
 "cells": [
  {
   "cell_type": "markdown",
   "metadata": {},
   "source": [
    "# Modelagem Linear"
   ]
  },
  {
   "cell_type": "markdown",
   "metadata": {},
   "source": [
    "Segundo o Bazaraa, para ser um problema de programação linear, as seguintes hipóteses\n",
    "devem ser satisfeitas:\n",
    "\n",
    "  - **Proporcionalidade:** Dada uma variável $x_i$, sua contribuição na função objetivo\n",
    "e nas restrições são é linearmente proporcional a seu valor. Portanto, se seu valor for\n",
    "dobrado, então sua contribuição é dobrada. _e.g. se a venda de 15 produtos me rende R\\$ 33,\n",
    "então a venda de 30 produtos me rende R\\$ 66, e a venda de 5 produtos me rende R\\$ 11._\n",
    "  - **Aditividade:** A contribuição de cada variável é somada para obter a contribuição total.\n",
    "_e.g. Se a demanda de um produto P é de 6 kg, e o produto pode ser construído por duas\n",
    "pessoas, elas podem satisfazer a demanda com qualquer combinação $p_1$ e $p_2$ tal que\n",
    "$p_1 + p_2 = 6$.\n",
    "  - **Divisibilidade:** A variável pode ser dividida fracionalmente, isto é, com valores não\n",
    "inteiros."
   ]
  },
  {
   "cell_type": "markdown",
   "metadata": {},
   "source": [
    "Essencialmente, todo problema de programação linear pode ser escrito como\n",
    "\n",
    "$$\n",
    "    min \\sum_{i=1}^n c_ix_i + \\beta \\\\\n",
    "    \\mbox{suj. a } Ax = b \\\\\n",
    "    Cx \\leq d \\\\\n",
    "    \\ell \\leq x \\leq u\n",
    "$$"
   ]
  },
  {
   "cell_type": "markdown",
   "metadata": {},
   "source": [
    "Onde $c, x, \\ell, u \\in \\mathbb{R}^n$, $b \\in \\mathbb{R}^{m_E}$, $d \\in \\mathbb{R}^{m_I}$,\n",
    "$A \\in \\mathbb{R}^{m_E \\times n}$, $C \\in \\mathbb{R}^{m_I \\times n}$ e $\\beta \\in \\mathbb{R}$.\n",
    "Note que na prática $\\beta$ é irrelevante para a solução do problema. Ademais, podemos introduzir\n",
    "variáveis específicas para reescrever o problema acima como"
   ]
  },
  {
   "cell_type": "markdown",
   "metadata": {},
   "source": [
    "$$\n",
    "    min \\sum_{i=1}^n c_ix_i \\\\\n",
    "    \\mbox{suj. a } Ax = b \\\\\n",
    "    x \\geq 0\n",
    "$$"
   ]
  },
  {
   "cell_type": "markdown",
   "metadata": {},
   "source": [
    "no que é chamado de formulação padrão, de modo que $(A,b,c)$ definem unicamente o problema."
   ]
  },
  {
   "cell_type": "markdown",
   "metadata": {},
   "source": [
    "Para os algoritmos que resolvem problemas de programação linear, essa formulação é importante,\n",
    "principalmente na teoria. No entanto, para o modelador, ter que escrever o problema dessa maneira\n",
    "não é interessante. Veremos que, na prática, vamos escrever o problema de uma maneira\n",
    "geral, e deixar o trabalho de converter para a formulação padrão para o **software de modelagem**."
   ]
  },
  {
   "cell_type": "markdown",
   "metadata": {},
   "source": [
    "## Variáveis inteiras\n",
    "\n",
    "Apesar do PL considerar que as variáveis são inteiras, muitas vezes isso não é possível pela natureza do problema.\n",
    "Em muitos casos, no entanto, é possível deixar as variáveis como contínuas, e a solução do problema será inteira\n",
    "ainda assim.\n",
    "Existem teoremas que garantem que se a formulação tiver uma formato específico então isso acontece. Essencialmente\n",
    "serão os problemas de **fluxos em redes**.\n",
    "\n",
    "No entanto, em muitos casos isso também não é possível, e o problema precisa de um tratamento diferenciado.\n",
    "Quando isso acontece, o problema passa a ser muito mais complicado de resolver. É importante ter essa noção\n",
    "clara, pois para o modelador, a mudança é muito simples: Basta adicionar uma linha dizendo que a variável\n",
    "é inteira.\n",
    "\n",
    "Voltaremos em breve em variáveis inteiras."
   ]
  },
  {
   "cell_type": "markdown",
   "metadata": {},
   "source": [
    "## Unidades\n",
    "\n",
    "- Produção: Kg, metros, milhares de unidade\n",
    "- Recusos: Horas, minutos, pessoas"
   ]
  },
  {
   "cell_type": "markdown",
   "metadata": {},
   "source": [
    "## Quantidades"
   ]
  },
  {
   "cell_type": "markdown",
   "metadata": {},
   "source": [
    "Existem três tipos de quantidades essenciais:\n",
    "\n",
    "- **Variáveis de decisão**: As variáveis do problema, $x$, representam incógnitas a serem\n",
    "descobertas. _e.g., quais produtos produzir, qual alocação de funcionários, quando contratar\n",
    "alguém, para onde mandar o produto, que caminho tomar, etc._\n",
    "- **Objetivo**: Todo problema de PL tem um objetivo, que é minimizar ou maximizar algum valor.\n",
    "Essa quantidade deve ser linearmente proporcional aos valores das variáveis de decisão.\n",
    "_e.g., minimizar o custo de produção, os gastos, o tempo de entrega, ou maximizar o lucro,\n",
    "a \"felicidade\", a quantidade de produtos entregues, etc._\n",
    "- **Restrições**: Todo problema de PL também precisa de restrições. Essas restrições são\n",
    "consequências lógicas que tornam o problema \"real\". Se o nosso objetivo fosse minimizar os\n",
    "custos de produção e não tivessemos restrições (além de não-negatividade), bastaria não\n",
    "vender nada.\n",
    "As restrições usuais são:\n",
    "    - **Demandas**: Em geral temos um objetivo na quantidade de produção. _e.g., uma quantidade\n",
    "    mínima de produtos a ser entregue, uma quantidade mínima de qualidade numa liga de metais, etc._\n",
    "    - **Recursos**: Muitas vezes os recursos que temos são limitados, e devemos estabelecer um\n",
    "    máximo. _e.g., um funcionário trabalho por 40 horas semanais, temos apenas uma certa quantidade\n",
    "    de matéria prima disponível, uma máquina só produz uma coisa por vez, etc.\n",
    "    - **Restrições físicas**: Aspectos físicas das substâncias. _e.g., a maior parte das quantidades\n",
    "    envolvidas não pode ser negativas, não se pode trabalhar por uma quantidade de tempo negativa,\n",
    "    não é possível obter mais que 100% de alguma coisa, etc._\n",
    "    - **Relações**: Principalmente quando se tem materiais com características. _e.g., pra fazer\n",
    "    uma ração, podemos usar milho ou soja, cada um com seus valores nutricionais, mas a ração tem\n",
    "    valores máximos e mínimos para os valores protéicos._"
   ]
  },
  {
   "cell_type": "markdown",
   "metadata": {},
   "source": [
    "## Exemplo 1 - Ração de Galinha\n",
    "\n",
    "Exemplo \"Feed Mix Problem\" do Bazaraa\n",
    "\n",
    "Uma empresa manufatura ração de galinha. Isso é feito através da mistura  de\n",
    "vários ingredientes, como milho, cálcario, alfafa. Essa mistura é feita\n",
    "de maneira que a ração satisfaça certos níveis de nutrientes, como proteína,\n",
    "cálcio, carboidrato e vitaminas.\n",
    "\n",
    "Suponha que $n$ ingredientes ($j = 1,2,\\dots,n$) são usados e $m$ nutrientes\n",
    "($i = 1,2,\\dots,m$) são considerados. O custo do ingrediente $j$ é $c_j$\n",
    "(em R\\$/Kg) e a quantidade do ingrediente a ser usado é $x_j$ (em Kg).\n",
    "O custo de montar a ração então será\n",
    "$$ \\sum_{j=1}^n c_jx_j = c^Tx. $$"
   ]
  },
  {
   "cell_type": "markdown",
   "metadata": {
    "collapsed": true
   },
   "source": [
    "Agora vamos considerar que a quantidade do nutriente $i$ no ingrediente $j$ é $a_{ij}$,\n",
    "e que as porcentagens máximas e mínimas desses nutrientes no produto final são $u_i$ e $\\ell_i$\n",
    "respectivamente. Por exemplo, o 1 kg de milho tem 94 mg de proteína e 15280 calorias, e 1 kg de\n",
    "soja tem 130 mg de proteína e 6150 calorias.\n",
    "Podemos limitar as quantidades máximas e mínimas de protéina num kg de ração a ficar entre 100 e\n",
    "120 mg, e também que 1 kg de ração tenha entre 8000 e 12000 calorias.\n",
    "\n",
    "> Fonte: https://en.wikipedia.org/wiki/Staple_food\n",
    "\n",
    "A quantidade total do nutriente $i$ na ração é a soma de cada contribuição individual, isto é\n",
    "$ \\sum_{j=1}^n a_{ij} x_j $. Como a limitação é por kilo, precisamos dividir pela quantidade total\n",
    "de ração para comparar a $\\ell_i$ e $u_i$. A quantidade total de ração é $\\sum_{j=1}^n x_j$.\n",
    "Para manter a linearidade, vamos fixar a quantidade total de ração à um número positivo qualquer $b$.\n",
    "Isso acrescenta a restrição $\\sum_{j=1}^n x_j = b$ e as restrições\n",
    "$\\ell_i \\leq \\frac{1}{b}\\sum_{j=1}^n a_{ij}x_j \\leq u_i$ para $i = 1,\\dots,m$.\n",
    "\n",
    "Finalmente, a quantidade do ingrediente não pode\n",
    "ser negativa, acrescentando $x_j \\geq 0$, para $j = 1,\\dots,n$.\n",
    "\n",
    "O modelo final fica\n",
    "$$ \\min \\sum_{j=1}^n c_jx_j \\\\\n",
    "\\mbox{suj. a } \\sum_{j=1}^n x_j = b \\\\\n",
    "\\begin{array}{rcl}\n",
    "b\\ell_1 & \\leq \\sum_{j=1}^n a_{1j} x_j \\leq & bu_1 \\\\\n",
    "\\vdots & \\vdots & \\vdots \\\\\n",
    "b\\ell_m & \\leq \\sum_{j=1}^n a_{mj} x_j \\leq & bu_m \\\\\n",
    "\\end{array} \\\\\n",
    "x_1 \\geq 0, \\dots, x_n \\geq 0\n",
    "$$"
   ]
  },
  {
   "cell_type": "markdown",
   "metadata": {},
   "source": [
    "Podemos escolher $b = 1$ para simplificar ainda mais, e generalizar as inequações"
   ]
  },
  {
   "cell_type": "markdown",
   "metadata": {},
   "source": [
    "$$ \\min \\sum_{j=1}^n c_jx_j \\\\\n",
    "\\mbox{suj. a } \\sum_{j=1}^n x_j = 1 \\\\\n",
    "\\ell_i \\leq \\sum_{j=1}^n a_{ij} x_j \\leq u_i, \\quad i = 1,\\dots,m \\\\\n",
    "x_j \\geq 0, j = 1,\\dots,n\n",
    "$$"
   ]
  },
  {
   "cell_type": "markdown",
   "metadata": {},
   "source": [
    "## Modelando com o JuMP"
   ]
  },
  {
   "cell_type": "code",
   "execution_count": 1,
   "metadata": {
    "collapsed": false
   },
   "outputs": [],
   "source": [
    "using JuMP, DataFrames, Cbc"
   ]
  },
  {
   "cell_type": "code",
   "execution_count": 2,
   "metadata": {
    "collapsed": false
   },
   "outputs": [
    {
     "data": {
      "text/html": [
       "<table class=\"data-frame\"><tr><th></th><th>Nutriente</th><th>IDR</th><th>Milho</th><th>Arroz_branco</th><th>Arroz_integral</th><th>Trigo</th><th>Batata</th><th>Mandioca</th><th>Soja</th><th>Batata_doce</th><th>Sorgo</th><th>Inhame</th><th>Banana_da_terra</th></tr><tr><th>1</th><td>Water (g)</td><td>3000.0</td><td>10.0</td><td>12.0</td><td>10.0</td><td>13.0</td><td>79.0</td><td>60.0</td><td>68.0</td><td>77.0</td><td>9</td><td>70.0</td><td>65</td></tr><tr><th>2</th><td>Energy (kJ)</td><td>NA</td><td>1528.0</td><td>1528.0</td><td>1549.0</td><td>1369.0</td><td>322.0</td><td>670.0</td><td>615.0</td><td>360.0</td><td>1419</td><td>494.0</td><td>511</td></tr><tr><th>3</th><td>Protein (g)</td><td>50.0</td><td>9.4</td><td>7.1</td><td>7.9</td><td>12.6</td><td>2.0</td><td>1.4</td><td>13.0</td><td>1.6</td><td>11.3</td><td>1.5</td><td>1.3</td></tr><tr><th>4</th><td>Fat (g)</td><td>NA</td><td>4.74</td><td>0.66</td><td>2.92</td><td>1.54</td><td>0.09</td><td>0.28</td><td>6.8</td><td>0.05</td><td>3.3</td><td>0.17</td><td>0.37</td></tr><tr><th>5</th><td>Carbohydrates (g)</td><td>130.0</td><td>74.0</td><td>80.0</td><td>77.0</td><td>71.0</td><td>17.0</td><td>38.0</td><td>11.0</td><td>20.0</td><td>75</td><td>28.0</td><td>32</td></tr><tr><th>6</th><td>Fiber (g)</td><td>30.0</td><td>7.3</td><td>1.3</td><td>3.5</td><td>12.2</td><td>2.2</td><td>1.8</td><td>4.2</td><td>3.0</td><td>6.3</td><td>4.1</td><td>2.3</td></tr><tr><th>7</th><td>Sugar (g)</td><td>NA</td><td>0.64</td><td>0.12</td><td>0.85</td><td>0.41</td><td>0.78</td><td>1.7</td><td>0.0</td><td>4.18</td><td>0</td><td>0.5</td><td>15</td></tr><tr><th>8</th><td>Calcium (mg)</td><td>1000.0</td><td>7.0</td><td>28.0</td><td>23.0</td><td>29.0</td><td>12.0</td><td>16.0</td><td>197.0</td><td>30.0</td><td>28</td><td>17.0</td><td>3</td></tr><tr><th>9</th><td>Iron (mg)</td><td>8.0</td><td>2.71</td><td>0.8</td><td>1.47</td><td>3.19</td><td>0.78</td><td>0.27</td><td>3.55</td><td>0.61</td><td>4.4</td><td>0.54</td><td>0.6</td></tr><tr><th>10</th><td>Magnesium (mg)</td><td>400.0</td><td>127.0</td><td>25.0</td><td>143.0</td><td>126.0</td><td>23.0</td><td>21.0</td><td>65.0</td><td>25.0</td><td>0</td><td>21.0</td><td>37</td></tr><tr><th>11</th><td>Phosphorus (mg)</td><td>700.0</td><td>210.0</td><td>115.0</td><td>333.0</td><td>288.0</td><td>57.0</td><td>27.0</td><td>194.0</td><td>47.0</td><td>287</td><td>55.0</td><td>34</td></tr><tr><th>12</th><td>Potassium (mg)</td><td>4700.0</td><td>287.0</td><td>115.0</td><td>223.0</td><td>363.0</td><td>421.0</td><td>271.0</td><td>620.0</td><td>337.0</td><td>350</td><td>816.0</td><td>499</td></tr><tr><th>13</th><td>Sodium (mg)</td><td>1500.0</td><td>35.0</td><td>5.0</td><td>7.0</td><td>2.0</td><td>6.0</td><td>14.0</td><td>15.0</td><td>55.0</td><td>6</td><td>9.0</td><td>4</td></tr><tr><th>14</th><td>Zinc (mg)</td><td>11.0</td><td>2.21</td><td>1.09</td><td>2.02</td><td>2.65</td><td>0.29</td><td>0.34</td><td>0.99</td><td>0.3</td><td>0</td><td>0.24</td><td>0.14</td></tr><tr><th>15</th><td>Copper (mg)</td><td>0.9</td><td>0.31</td><td>0.22</td><td>NA</td><td>0.43</td><td>0.11</td><td>0.1</td><td>0.13</td><td>0.15</td><td>-</td><td>0.18</td><td>0.08</td></tr><tr><th>16</th><td>Manganese (mg)</td><td>2.3</td><td>0.49</td><td>1.09</td><td>3.74</td><td>3.99</td><td>0.15</td><td>0.38</td><td>0.55</td><td>0.26</td><td>-</td><td>0.4</td><td>-</td></tr><tr><th>17</th><td>Selenium (μg)</td><td>55.0</td><td>15.5</td><td>15.1</td><td>NA</td><td>70.7</td><td>0.3</td><td>0.7</td><td>1.5</td><td>0.6</td><td>0</td><td>0.7</td><td>1.5</td></tr><tr><th>18</th><td>Vitamin C (mg)</td><td>90.0</td><td>0.0</td><td>0.0</td><td>0.0</td><td>0.0</td><td>19.7</td><td>20.6</td><td>29.0</td><td>2.4</td><td>0</td><td>17.1</td><td>18.4</td></tr><tr><th>19</th><td>Thiamin (B1)(mg)</td><td>1.2</td><td>0.39</td><td>0.07</td><td>0.4</td><td>0.3</td><td>0.08</td><td>0.09</td><td>0.44</td><td>0.08</td><td>0.24</td><td>0.11</td><td>0.05</td></tr><tr><th>20</th><td>Riboflavin (B2)(mg)</td><td>1.3</td><td>0.2</td><td>0.05</td><td>0.09</td><td>0.12</td><td>0.03</td><td>0.05</td><td>0.18</td><td>0.06</td><td>0.14</td><td>0.03</td><td>0.05</td></tr><tr><th>21</th><td>Niacin (B3) (mg)</td><td>16.0</td><td>3.63</td><td>1.6</td><td>5.09</td><td>5.46</td><td>1.05</td><td>0.85</td><td>1.65</td><td>0.56</td><td>2.93</td><td>0.55</td><td>0.69</td></tr><tr><th>22</th><td>Pantothenic acid (B5) (mg)</td><td>5.0</td><td>0.42</td><td>1.01</td><td>1.49</td><td>0.95</td><td>0.3</td><td>0.11</td><td>0.15</td><td>0.8</td><td>-</td><td>0.31</td><td>0.26</td></tr><tr><th>23</th><td>Vitamin B6 (mg)</td><td>1.3</td><td>0.62</td><td>0.16</td><td>0.51</td><td>0.3</td><td>0.3</td><td>0.09</td><td>0.07</td><td>0.21</td><td>-</td><td>0.29</td><td>0.30</td></tr><tr><th>24</th><td>Folate Total (B9) (μg)</td><td>400.0</td><td>19.0</td><td>8.0</td><td>20.0</td><td>38.0</td><td>16.0</td><td>27.0</td><td>165.0</td><td>11.0</td><td>0</td><td>23.0</td><td>22</td></tr><tr><th>25</th><td>Vitamin A (IU)</td><td>5000.0</td><td>214.0</td><td>0.0</td><td>0.0</td><td>9.0</td><td>2.0</td><td>13.0</td><td>180.0</td><td>14187.0</td><td>0</td><td>138.0</td><td>1127</td></tr><tr><th>26</th><td>Vitamin E; alpha-tocopherol (mg)</td><td>15.0</td><td>0.49</td><td>0.11</td><td>0.59</td><td>1.01</td><td>0.01</td><td>0.19</td><td>0.0</td><td>0.26</td><td>0</td><td>0.39</td><td>0.14</td></tr><tr><th>27</th><td>Vitamin K1 (μg)</td><td>120.0</td><td>0.3</td><td>0.1</td><td>1.9</td><td>1.9</td><td>1.9</td><td>1.9</td><td>0.0</td><td>1.8</td><td>0</td><td>2.6</td><td>0.7</td></tr><tr><th>28</th><td>Beta-carotene (μg)</td><td>10500.0</td><td>97.0</td><td>0.0</td><td>NA</td><td>5.0</td><td>1.0</td><td>8.0</td><td>0.0</td><td>8509.0</td><td>0</td><td>83.0</td><td>457</td></tr><tr><th>29</th><td>Lutein+zeaxanthin (μg)</td><td>NA</td><td>1355.0</td><td>0.0</td><td>NA</td><td>220.0</td><td>8.0</td><td>0.0</td><td>0.0</td><td>0.0</td><td>0</td><td>0.0</td><td>30</td></tr><tr><th>30</th><td>Saturated fatty acids (g)</td><td>NA</td><td>0.67</td><td>0.18</td><td>0.58</td><td>0.26</td><td>0.03</td><td>0.07</td><td>0.79</td><td>0.02</td><td>0.46</td><td>0.04</td><td>0.14</td></tr><tr><th>&vellip;</th><td>&vellip;</td><td>&vellip;</td><td>&vellip;</td><td>&vellip;</td><td>&vellip;</td><td>&vellip;</td><td>&vellip;</td><td>&vellip;</td><td>&vellip;</td><td>&vellip;</td><td>&vellip;</td><td>&vellip;</td><td>&vellip;</td></tr></table>"
      ],
      "text/plain": [
       "32×13 DataFrames.DataFrame\n",
       "│ Row │ Nutriente                          │ IDR     │ Milho  │ Arroz_branco │\n",
       "├─────┼────────────────────────────────────┼─────────┼────────┼──────────────┤\n",
       "│ 1   │ \"Water (g)\"                        │ 3000.0  │ 10.0   │ 12.0         │\n",
       "│ 2   │ \"Energy (kJ)\"                      │ NA      │ 1528.0 │ 1528.0       │\n",
       "│ 3   │ \"Protein (g)\"                      │ 50.0    │ 9.4    │ 7.1          │\n",
       "│ 4   │ \"Fat (g)\"                          │ NA      │ 4.74   │ 0.66         │\n",
       "│ 5   │ \"Carbohydrates (g)\"                │ 130.0   │ 74.0   │ 80.0         │\n",
       "│ 6   │ \"Fiber (g)\"                        │ 30.0    │ 7.3    │ 1.3          │\n",
       "│ 7   │ \"Sugar (g)\"                        │ NA      │ 0.64   │ 0.12         │\n",
       "│ 8   │ \"Calcium (mg)\"                     │ 1000.0  │ 7.0    │ 28.0         │\n",
       "│ 9   │ \"Iron (mg)\"                        │ 8.0     │ 2.71   │ 0.8          │\n",
       "│ 10  │ \"Magnesium (mg)\"                   │ 400.0   │ 127.0  │ 25.0         │\n",
       "│ 11  │ \"Phosphorus (mg)\"                  │ 700.0   │ 210.0  │ 115.0        │\n",
       "⋮\n",
       "│ 21  │ \"Niacin (B3) (mg)\"                 │ 16.0    │ 3.63   │ 1.6          │\n",
       "│ 22  │ \"Pantothenic acid (B5) (mg)\"       │ 5.0     │ 0.42   │ 1.01         │\n",
       "│ 23  │ \"Vitamin B6 (mg)\"                  │ 1.3     │ 0.62   │ 0.16         │\n",
       "│ 24  │ \"Folate Total (B9) (μg)\"           │ 400.0   │ 19.0   │ 8.0          │\n",
       "│ 25  │ \"Vitamin A (IU)\"                   │ 5000.0  │ 214.0  │ 0.0          │\n",
       "│ 26  │ \"Vitamin E; alpha-tocopherol (mg)\" │ 15.0    │ 0.49   │ 0.11         │\n",
       "│ 27  │ \"Vitamin K1 (μg)\"                  │ 120.0   │ 0.3    │ 0.1          │\n",
       "│ 28  │ \"Beta-carotene (μg)\"               │ 10500.0 │ 97.0   │ 0.0          │\n",
       "│ 29  │ \"Lutein+zeaxanthin (μg)\"           │ NA      │ 1355.0 │ 0.0          │\n",
       "│ 30  │ \"Saturated fatty acids (g)\"        │ NA      │ 0.67   │ 0.18         │\n",
       "│ 31  │ \"Monounsaturated fatty acids (g)\"  │ NA      │ 1.25   │ 0.21         │\n",
       "│ 32  │ \"Polyunsaturated fatty acids (g)\"  │ NA      │ 2.16   │ 0.18         │\n",
       "\n",
       "│ Row │ Arroz_integral │ Trigo  │ Batata │ Mandioca │ Soja  │ Batata_doce │\n",
       "├─────┼────────────────┼────────┼────────┼──────────┼───────┼─────────────┤\n",
       "│ 1   │ 10.0           │ 13.0   │ 79.0   │ 60.0     │ 68.0  │ 77.0        │\n",
       "│ 2   │ 1549.0         │ 1369.0 │ 322.0  │ 670.0    │ 615.0 │ 360.0       │\n",
       "│ 3   │ 7.9            │ 12.6   │ 2.0    │ 1.4      │ 13.0  │ 1.6         │\n",
       "│ 4   │ 2.92           │ 1.54   │ 0.09   │ 0.28     │ 6.8   │ 0.05        │\n",
       "│ 5   │ 77.0           │ 71.0   │ 17.0   │ 38.0     │ 11.0  │ 20.0        │\n",
       "│ 6   │ 3.5            │ 12.2   │ 2.2    │ 1.8      │ 4.2   │ 3.0         │\n",
       "│ 7   │ 0.85           │ 0.41   │ 0.78   │ 1.7      │ 0.0   │ 4.18        │\n",
       "│ 8   │ 23.0           │ 29.0   │ 12.0   │ 16.0     │ 197.0 │ 30.0        │\n",
       "│ 9   │ 1.47           │ 3.19   │ 0.78   │ 0.27     │ 3.55  │ 0.61        │\n",
       "│ 10  │ 143.0          │ 126.0  │ 23.0   │ 21.0     │ 65.0  │ 25.0        │\n",
       "│ 11  │ 333.0          │ 288.0  │ 57.0   │ 27.0     │ 194.0 │ 47.0        │\n",
       "⋮\n",
       "│ 21  │ 5.09           │ 5.46   │ 1.05   │ 0.85     │ 1.65  │ 0.56        │\n",
       "│ 22  │ 1.49           │ 0.95   │ 0.3    │ 0.11     │ 0.15  │ 0.8         │\n",
       "│ 23  │ 0.51           │ 0.3    │ 0.3    │ 0.09     │ 0.07  │ 0.21        │\n",
       "│ 24  │ 20.0           │ 38.0   │ 16.0   │ 27.0     │ 165.0 │ 11.0        │\n",
       "│ 25  │ 0.0            │ 9.0    │ 2.0    │ 13.0     │ 180.0 │ 14187.0     │\n",
       "│ 26  │ 0.59           │ 1.01   │ 0.01   │ 0.19     │ 0.0   │ 0.26        │\n",
       "│ 27  │ 1.9            │ 1.9    │ 1.9    │ 1.9      │ 0.0   │ 1.8         │\n",
       "│ 28  │ NA             │ 5.0    │ 1.0    │ 8.0      │ 0.0   │ 8509.0      │\n",
       "│ 29  │ NA             │ 220.0  │ 8.0    │ 0.0      │ 0.0   │ 0.0         │\n",
       "│ 30  │ 0.58           │ 0.26   │ 0.03   │ 0.07     │ 0.79  │ 0.02        │\n",
       "│ 31  │ 1.05           │ 0.2    │ 0.0    │ 0.08     │ 1.28  │ 0.0         │\n",
       "│ 32  │ 1.04           │ 0.63   │ 0.04   │ 0.05     │ 3.2   │ 0.01        │\n",
       "\n",
       "│ Row │ Sorgo  │ Inhame │ Banana_da_terra │\n",
       "├─────┼────────┼────────┼─────────────────┤\n",
       "│ 1   │ \"9\"    │ 70.0   │ \"65\"            │\n",
       "│ 2   │ \"1419\" │ 494.0  │ \"511\"           │\n",
       "│ 3   │ \"11.3\" │ 1.5    │ \"1.3\"           │\n",
       "│ 4   │ \"3.3\"  │ 0.17   │ \"0.37\"          │\n",
       "│ 5   │ \"75\"   │ 28.0   │ \"32\"            │\n",
       "│ 6   │ \"6.3\"  │ 4.1    │ \"2.3\"           │\n",
       "│ 7   │ \"0\"    │ 0.5    │ \"15\"            │\n",
       "│ 8   │ \"28\"   │ 17.0   │ \"3\"             │\n",
       "│ 9   │ \"4.4\"  │ 0.54   │ \"0.6\"           │\n",
       "│ 10  │ \"0\"    │ 21.0   │ \"37\"            │\n",
       "│ 11  │ \"287\"  │ 55.0   │ \"34\"            │\n",
       "⋮\n",
       "│ 21  │ \"2.93\" │ 0.55   │ \"0.69\"          │\n",
       "│ 22  │ \"-\"    │ 0.31   │ \"0.26\"          │\n",
       "│ 23  │ \"-\"    │ 0.29   │ \"0.30\"          │\n",
       "│ 24  │ \"0\"    │ 23.0   │ \"22\"            │\n",
       "│ 25  │ \"0\"    │ 138.0  │ \"1127\"          │\n",
       "│ 26  │ \"0\"    │ 0.39   │ \"0.14\"          │\n",
       "│ 27  │ \"0\"    │ 2.6    │ \"0.7\"           │\n",
       "│ 28  │ \"0\"    │ 83.0   │ \"457\"           │\n",
       "│ 29  │ \"0\"    │ 0.0    │ \"30\"            │\n",
       "│ 30  │ \"0.46\" │ 0.04   │ \"0.14\"          │\n",
       "│ 31  │ \"0.99\" │ 0.01   │ \"0.03\"          │\n",
       "│ 32  │ \"1.37\" │ 0.08   │ \"0.07\"          │"
      ]
     },
     "execution_count": 2,
     "metadata": {},
     "output_type": "execute_result"
    }
   ],
   "source": [
    "dados = readtable(\"staples.csv\")"
   ]
  },
  {
   "cell_type": "code",
   "execution_count": 3,
   "metadata": {
    "collapsed": false
   },
   "outputs": [
    {
     "data": {
      "text/plain": [
       "32-element DataArrays.DataArray{Float64,1}:\n",
       "   10.0 \n",
       " 1528.0 \n",
       "    9.4 \n",
       "    4.74\n",
       "   74.0 \n",
       "    7.3 \n",
       "    0.64\n",
       "    7.0 \n",
       "    2.71\n",
       "  127.0 \n",
       "  210.0 \n",
       "  287.0 \n",
       "   35.0 \n",
       "    ⋮   \n",
       "    3.63\n",
       "    0.42\n",
       "    0.62\n",
       "   19.0 \n",
       "  214.0 \n",
       "    0.49\n",
       "    0.3 \n",
       "   97.0 \n",
       " 1355.0 \n",
       "    0.67\n",
       "    1.25\n",
       "    2.16"
      ]
     },
     "execution_count": 3,
     "metadata": {},
     "output_type": "execute_result"
    }
   ],
   "source": [
    "dados[:Milho]"
   ]
  },
  {
   "cell_type": "code",
   "execution_count": 4,
   "metadata": {
    "collapsed": false
   },
   "outputs": [
    {
     "data": {
      "text/html": [
       "<table class=\"data-frame\"><tr><th></th><th>Ingrediente</th><th>Custo</th></tr><tr><th>1</th><td>Milho</td><td>0.77</td></tr><tr><th>2</th><td>Arroz_branco</td><td>1.16</td></tr><tr><th>3</th><td>Trigo</td><td>0.8</td></tr><tr><th>4</th><td>Soja</td><td>1.26</td></tr><tr><th>5</th><td>Inhame</td><td>2.53</td></tr><tr><th>6</th><td>Batata</td><td>1.8</td></tr></table>"
      ],
      "text/plain": [
       "6×2 DataFrames.DataFrame\n",
       "│ Row │ Ingrediente    │ Custo │\n",
       "├─────┼────────────────┼───────┤\n",
       "│ 1   │ \"Milho\"        │ 0.77  │\n",
       "│ 2   │ \"Arroz_branco\" │ 1.16  │\n",
       "│ 3   │ \"Trigo\"        │ 0.8   │\n",
       "│ 4   │ \"Soja\"         │ 1.26  │\n",
       "│ 5   │ \"Inhame\"       │ 2.53  │\n",
       "│ 6   │ \"Batata\"       │ 1.8   │"
      ]
     },
     "execution_count": 4,
     "metadata": {},
     "output_type": "execute_result"
    }
   ],
   "source": [
    "ingredientes = readtable(\"ingredientes.csv\")"
   ]
  },
  {
   "cell_type": "code",
   "execution_count": 5,
   "metadata": {
    "collapsed": false
   },
   "outputs": [
    {
     "data": {
      "text/html": [
       "<table class=\"data-frame\"><tr><th></th><th>Nutriente</th><th>Minimo</th><th>Maximo</th></tr><tr><th>1</th><td>Carbohydrates (g)</td><td>24.0</td><td>51.0</td></tr><tr><th>2</th><td>Fiber (g)</td><td>2.7</td><td>8.8</td></tr><tr><th>3</th><td>Iron (mg)</td><td>1.8</td><td>3.3</td></tr><tr><th>4</th><td>Sugar (g)</td><td>0.0</td><td>2.1</td></tr><tr><th>5</th><td>Fat (g)</td><td>1.6</td><td>2.7</td></tr><tr><th>6</th><td>Calcium (mg)</td><td>20.0</td><td>50.0</td></tr><tr><th>7</th><td>Magnesium (mg)</td><td>21.0</td><td>89.0</td></tr><tr><th>8</th><td>Protein (g)</td><td>6.3</td><td>8.1</td></tr></table>"
      ],
      "text/plain": [
       "8×3 DataFrames.DataFrame\n",
       "│ Row │ Nutriente           │ Minimo │ Maximo │\n",
       "├─────┼─────────────────────┼────────┼────────┤\n",
       "│ 1   │ \"Carbohydrates (g)\" │ 24.0   │ 51.0   │\n",
       "│ 2   │ \"Fiber (g)\"         │ 2.7    │ 8.8    │\n",
       "│ 3   │ \"Iron (mg)\"         │ 1.8    │ 3.3    │\n",
       "│ 4   │ \"Sugar (g)\"         │ 0.0    │ 2.1    │\n",
       "│ 5   │ \"Fat (g)\"           │ 1.6    │ 2.7    │\n",
       "│ 6   │ \"Calcium (mg)\"      │ 20.0   │ 50.0   │\n",
       "│ 7   │ \"Magnesium (mg)\"    │ 21.0   │ 89.0   │\n",
       "│ 8   │ \"Protein (g)\"       │ 6.3    │ 8.1    │"
      ]
     },
     "execution_count": 5,
     "metadata": {},
     "output_type": "execute_result"
    }
   ],
   "source": [
    "nutrientes = readtable(\"nutrientes.csv\")"
   ]
  },
  {
   "cell_type": "code",
   "execution_count": 6,
   "metadata": {
    "collapsed": false
   },
   "outputs": [
    {
     "data": {
      "text/html": [
       "<table class=\"data-frame\"><tr><th></th><th>Nutriente</th><th>Minimo</th><th>Maximo</th><th>IDR</th><th>Milho</th><th>Arroz_branco</th><th>Arroz_integral</th><th>Trigo</th><th>Batata</th><th>Mandioca</th><th>Soja</th><th>Batata_doce</th><th>Sorgo</th><th>Inhame</th><th>Banana_da_terra</th></tr><tr><th>1</th><td>Calcium (mg)</td><td>20.0</td><td>50.0</td><td>1000.0</td><td>7.0</td><td>28.0</td><td>23.0</td><td>29.0</td><td>12.0</td><td>16.0</td><td>197.0</td><td>30.0</td><td>28</td><td>17.0</td><td>3</td></tr><tr><th>2</th><td>Carbohydrates (g)</td><td>24.0</td><td>51.0</td><td>130.0</td><td>74.0</td><td>80.0</td><td>77.0</td><td>71.0</td><td>17.0</td><td>38.0</td><td>11.0</td><td>20.0</td><td>75</td><td>28.0</td><td>32</td></tr><tr><th>3</th><td>Fat (g)</td><td>1.6</td><td>2.7</td><td>NA</td><td>4.74</td><td>0.66</td><td>2.92</td><td>1.54</td><td>0.09</td><td>0.28</td><td>6.8</td><td>0.05</td><td>3.3</td><td>0.17</td><td>0.37</td></tr><tr><th>4</th><td>Fiber (g)</td><td>2.7</td><td>8.8</td><td>30.0</td><td>7.3</td><td>1.3</td><td>3.5</td><td>12.2</td><td>2.2</td><td>1.8</td><td>4.2</td><td>3.0</td><td>6.3</td><td>4.1</td><td>2.3</td></tr><tr><th>5</th><td>Iron (mg)</td><td>1.8</td><td>3.3</td><td>8.0</td><td>2.71</td><td>0.8</td><td>1.47</td><td>3.19</td><td>0.78</td><td>0.27</td><td>3.55</td><td>0.61</td><td>4.4</td><td>0.54</td><td>0.6</td></tr><tr><th>6</th><td>Magnesium (mg)</td><td>21.0</td><td>89.0</td><td>400.0</td><td>127.0</td><td>25.0</td><td>143.0</td><td>126.0</td><td>23.0</td><td>21.0</td><td>65.0</td><td>25.0</td><td>0</td><td>21.0</td><td>37</td></tr><tr><th>7</th><td>Protein (g)</td><td>6.3</td><td>8.1</td><td>50.0</td><td>9.4</td><td>7.1</td><td>7.9</td><td>12.6</td><td>2.0</td><td>1.4</td><td>13.0</td><td>1.6</td><td>11.3</td><td>1.5</td><td>1.3</td></tr><tr><th>8</th><td>Sugar (g)</td><td>0.0</td><td>2.1</td><td>NA</td><td>0.64</td><td>0.12</td><td>0.85</td><td>0.41</td><td>0.78</td><td>1.7</td><td>0.0</td><td>4.18</td><td>0</td><td>0.5</td><td>15</td></tr></table>"
      ],
      "text/plain": [
       "8×15 DataFrames.DataFrame\n",
       "│ Row │ Nutriente           │ Minimo │ Maximo │ IDR    │ Milho │ Arroz_branco │\n",
       "├─────┼─────────────────────┼────────┼────────┼────────┼───────┼──────────────┤\n",
       "│ 1   │ \"Calcium (mg)\"      │ 20.0   │ 50.0   │ 1000.0 │ 7.0   │ 28.0         │\n",
       "│ 2   │ \"Carbohydrates (g)\" │ 24.0   │ 51.0   │ 130.0  │ 74.0  │ 80.0         │\n",
       "│ 3   │ \"Fat (g)\"           │ 1.6    │ 2.7    │ NA     │ 4.74  │ 0.66         │\n",
       "│ 4   │ \"Fiber (g)\"         │ 2.7    │ 8.8    │ 30.0   │ 7.3   │ 1.3          │\n",
       "│ 5   │ \"Iron (mg)\"         │ 1.8    │ 3.3    │ 8.0    │ 2.71  │ 0.8          │\n",
       "│ 6   │ \"Magnesium (mg)\"    │ 21.0   │ 89.0   │ 400.0  │ 127.0 │ 25.0         │\n",
       "│ 7   │ \"Protein (g)\"       │ 6.3    │ 8.1    │ 50.0   │ 9.4   │ 7.1          │\n",
       "│ 8   │ \"Sugar (g)\"         │ 0.0    │ 2.1    │ NA     │ 0.64  │ 0.12         │\n",
       "\n",
       "│ Row │ Arroz_integral │ Trigo │ Batata │ Mandioca │ Soja  │ Batata_doce │\n",
       "├─────┼────────────────┼───────┼────────┼──────────┼───────┼─────────────┤\n",
       "│ 1   │ 23.0           │ 29.0  │ 12.0   │ 16.0     │ 197.0 │ 30.0        │\n",
       "│ 2   │ 77.0           │ 71.0  │ 17.0   │ 38.0     │ 11.0  │ 20.0        │\n",
       "│ 3   │ 2.92           │ 1.54  │ 0.09   │ 0.28     │ 6.8   │ 0.05        │\n",
       "│ 4   │ 3.5            │ 12.2  │ 2.2    │ 1.8      │ 4.2   │ 3.0         │\n",
       "│ 5   │ 1.47           │ 3.19  │ 0.78   │ 0.27     │ 3.55  │ 0.61        │\n",
       "│ 6   │ 143.0          │ 126.0 │ 23.0   │ 21.0     │ 65.0  │ 25.0        │\n",
       "│ 7   │ 7.9            │ 12.6  │ 2.0    │ 1.4      │ 13.0  │ 1.6         │\n",
       "│ 8   │ 0.85           │ 0.41  │ 0.78   │ 1.7      │ 0.0   │ 4.18        │\n",
       "\n",
       "│ Row │ Sorgo  │ Inhame │ Banana_da_terra │\n",
       "├─────┼────────┼────────┼─────────────────┤\n",
       "│ 1   │ \"28\"   │ 17.0   │ \"3\"             │\n",
       "│ 2   │ \"75\"   │ 28.0   │ \"32\"            │\n",
       "│ 3   │ \"3.3\"  │ 0.17   │ \"0.37\"          │\n",
       "│ 4   │ \"6.3\"  │ 4.1    │ \"2.3\"           │\n",
       "│ 5   │ \"4.4\"  │ 0.54   │ \"0.6\"           │\n",
       "│ 6   │ \"0\"    │ 21.0   │ \"37\"            │\n",
       "│ 7   │ \"11.3\" │ 1.5    │ \"1.3\"           │\n",
       "│ 8   │ \"0\"    │ 0.5    │ \"15\"            │"
      ]
     },
     "execution_count": 6,
     "metadata": {},
     "output_type": "execute_result"
    }
   ],
   "source": [
    "dados_red = join(nutrientes, dados, on=:Nutriente)"
   ]
  },
  {
   "cell_type": "code",
   "execution_count": 7,
   "metadata": {
    "collapsed": false
   },
   "outputs": [
    {
     "data": {
      "text/plain": [
       "6-element Array{Symbol,1}:\n",
       " :Milho       \n",
       " :Arroz_branco\n",
       " :Trigo       \n",
       " :Soja        \n",
       " :Inhame      \n",
       " :Batata      "
      ]
     },
     "execution_count": 7,
     "metadata": {},
     "output_type": "execute_result"
    }
   ],
   "source": [
    "ingrs = Array{Symbol}(ingredientes[1])"
   ]
  },
  {
   "cell_type": "code",
   "execution_count": 8,
   "metadata": {
    "collapsed": false
   },
   "outputs": [
    {
     "data": {
      "text/plain": [
       "8x6 Array{Float64,2}:\n",
       "   7.0   28.0    29.0   197.0   17.0   12.0 \n",
       "  74.0   80.0    71.0    11.0   28.0   17.0 \n",
       "   4.74   0.66    1.54    6.8    0.17   0.09\n",
       "   7.3    1.3    12.2     4.2    4.1    2.2 \n",
       "   2.71   0.8     3.19    3.55   0.54   0.78\n",
       " 127.0   25.0   126.0    65.0   21.0   23.0 \n",
       "   9.4    7.1    12.6    13.0    1.5    2.0 \n",
       "   0.64   0.12    0.41    0.0    0.5    0.78"
      ]
     },
     "execution_count": 8,
     "metadata": {},
     "output_type": "execute_result"
    }
   ],
   "source": [
    "A = Matrix(dados_red[ingrs])"
   ]
  },
  {
   "cell_type": "code",
   "execution_count": 9,
   "metadata": {
    "collapsed": false
   },
   "outputs": [
    {
     "data": {
      "text/plain": [
       "([20.0,24.0,1.6,2.7,1.8,21.0,6.3,0.0],[50.0,51.0,2.7,8.8,3.3,89.0,8.1,2.1])"
      ]
     },
     "execution_count": 9,
     "metadata": {},
     "output_type": "execute_result"
    }
   ],
   "source": [
    "c = Vector(ingredientes[2])\n",
    "l, u = Vector(dados_red[:Minimo]), Vector(dados_red[:Maximo])"
   ]
  },
  {
   "cell_type": "code",
   "execution_count": 10,
   "metadata": {
    "collapsed": false
   },
   "outputs": [
    {
     "data": {
      "text/plain": [
       "(8,6)"
      ]
     },
     "execution_count": 10,
     "metadata": {},
     "output_type": "execute_result"
    }
   ],
   "source": [
    "num_nuts, num_ingr = size(A)"
   ]
  },
  {
   "cell_type": "code",
   "execution_count": 11,
   "metadata": {
    "collapsed": false
   },
   "outputs": [
    {
     "data": {
      "text/latex": [
       "$$ \\begin{alignat*}{1}\\min\\quad & 0\\\\\n",
       "\\text{Subject to} \\quad\\end{alignat*}\n",
       " $$"
      ],
      "text/plain": [
       "Feasibility problem with:\n",
       " * 0 linear constraints\n",
       " * 0 variables\n",
       "Solver is default solver"
      ]
     },
     "execution_count": 11,
     "metadata": {},
     "output_type": "execute_result"
    }
   ],
   "source": [
    "m = Model()"
   ]
  },
  {
   "cell_type": "code",
   "execution_count": 12,
   "metadata": {
    "collapsed": false
   },
   "outputs": [
    {
     "data": {
      "text/latex": [
       "$$ x_{i} \\geq 0 \\quad\\forall i \\in \\{1,2,\\dots,5,6\\} $$"
      ],
      "text/plain": [
       "6-element Array{JuMP.Variable,1}:\n",
       " x[1]\n",
       " x[2]\n",
       " x[3]\n",
       " x[4]\n",
       " x[5]\n",
       " x[6]"
      ]
     },
     "execution_count": 12,
     "metadata": {},
     "output_type": "execute_result"
    }
   ],
   "source": [
    "@variable(m, x[1:num_ingr] >= 0)"
   ]
  },
  {
   "cell_type": "code",
   "execution_count": 13,
   "metadata": {
    "collapsed": false
   },
   "outputs": [
    {
     "data": {
      "text/latex": [
       "$$ \\begin{alignat*}{1}\\min\\quad & 0\\\\\n",
       "\\text{Subject to} \\quad & x_{i} \\geq 0 \\quad\\forall i \\in \\{1,2,\\dots,5,6\\}\\\\\n",
       "\\end{alignat*}\n",
       " $$"
      ],
      "text/plain": [
       "Feasibility problem with:\n",
       " * 0 linear constraints\n",
       " * 6 variables\n",
       "Solver is default solver"
      ]
     },
     "execution_count": 13,
     "metadata": {},
     "output_type": "execute_result"
    }
   ],
   "source": [
    "m"
   ]
  },
  {
   "cell_type": "code",
   "execution_count": 14,
   "metadata": {
    "collapsed": false
   },
   "outputs": [
    {
     "data": {
      "text/latex": [
       "$$ 0.77 x_{1} + 1.16 x_{2} + 0.8 x_{3} + 1.26 x_{4} + 2.53 x_{5} + 1.8 x_{6} $$"
      ],
      "text/plain": [
       "0.77 x[1] + 1.16 x[2] + 0.8 x[3] + 1.26 x[4] + 2.53 x[5] + 1.8 x[6]"
      ]
     },
     "execution_count": 14,
     "metadata": {},
     "output_type": "execute_result"
    }
   ],
   "source": [
    "@objective(m, Min, sum{x[j] * c[j], j=1:num_ingr})"
   ]
  },
  {
   "cell_type": "code",
   "execution_count": 15,
   "metadata": {
    "collapsed": false
   },
   "outputs": [
    {
     "data": {
      "text/latex": [
       "$$ \\begin{alignat*}{1}\\min\\quad & 0.77 x_{1} + 1.16 x_{2} + 0.8 x_{3} + 1.26 x_{4} + 2.53 x_{5} + 1.8 x_{6}\\\\\n",
       "\\text{Subject to} \\quad & x_{i} \\geq 0 \\quad\\forall i \\in \\{1,2,\\dots,5,6\\}\\\\\n",
       "\\end{alignat*}\n",
       " $$"
      ],
      "text/plain": [
       "Minimization problem with:\n",
       " * 0 linear constraints\n",
       " * 6 variables\n",
       "Solver is default solver"
      ]
     },
     "execution_count": 15,
     "metadata": {},
     "output_type": "execute_result"
    }
   ],
   "source": [
    "m"
   ]
  },
  {
   "cell_type": "code",
   "execution_count": 16,
   "metadata": {
    "collapsed": false
   },
   "outputs": [
    {
     "data": {
      "text/latex": [
       "$$ x_{1} + x_{2} + x_{3} + x_{4} + x_{5} + x_{6} = 1 $$"
      ],
      "text/plain": [
       "x[1] + x[2] + x[3] + x[4] + x[5] + x[6] = 1"
      ]
     },
     "execution_count": 16,
     "metadata": {},
     "output_type": "execute_result"
    }
   ],
   "source": [
    "@constraint(m, sum{x[j], j=1:num_ingr} == 1.0)"
   ]
  },
  {
   "cell_type": "code",
   "execution_count": 18,
   "metadata": {
    "collapsed": false
   },
   "outputs": [
    {
     "data": {
      "text/latex": [
       "$$ \\begin{alignat*}{1}\\min\\quad & 0.77 x_{1} + 1.16 x_{2} + 0.8 x_{3} + 1.26 x_{4} + 2.53 x_{5} + 1.8 x_{6}\\\\\n",
       "\\text{Subject to} \\quad & x_{1} + x_{2} + x_{3} + x_{4} + x_{5} + x_{6} = 1\\\\\n",
       " & x_{i} \\geq 0 \\quad\\forall i \\in \\{1,2,\\dots,5,6\\}\\\\\n",
       "\\end{alignat*}\n",
       " $$"
      ],
      "text/plain": [
       "Minimization problem with:\n",
       " * 1 linear constraint\n",
       " * 6 variables\n",
       "Solver is default solver"
      ]
     },
     "execution_count": 18,
     "metadata": {},
     "output_type": "execute_result"
    }
   ],
   "source": [
    "m"
   ]
  },
  {
   "cell_type": "code",
   "execution_count": 19,
   "metadata": {
    "collapsed": false
   },
   "outputs": [],
   "source": [
    "for i = 1:num_nuts\n",
    "    @constraint(m, l[i] <= sum{A[i,j] * x[j], j=1:num_ingr}\n",
    "        <= u[i])\n",
    "end"
   ]
  },
  {
   "cell_type": "code",
   "execution_count": 20,
   "metadata": {
    "collapsed": false
   },
   "outputs": [
    {
     "data": {
      "text/latex": [
       "$$ \\begin{alignat*}{1}\\min\\quad & 0.77 x_{1} + 1.16 x_{2} + 0.8 x_{3} + 1.26 x_{4} + 2.53 x_{5} + 1.8 x_{6}\\\\\n",
       "\\text{Subject to} \\quad & x_{1} + x_{2} + x_{3} + x_{4} + x_{5} + x_{6} = 1\\\\\n",
       " & 20 \\leq 7 x_{1} + 28 x_{2} + 29 x_{3} + 197 x_{4} + 17 x_{5} + 12 x_{6} \\leq 50\\\\\n",
       " & 24 \\leq 74 x_{1} + 80 x_{2} + 71 x_{3} + 11 x_{4} + 28 x_{5} + 17 x_{6} \\leq 51\\\\\n",
       " & 1.6 \\leq 4.74 x_{1} + 0.66 x_{2} + 1.54 x_{3} + 6.8 x_{4} + 0.17 x_{5} + 0.09 x_{6} \\leq 2.7\\\\\n",
       " & 2.7 \\leq 7.3 x_{1} + 1.3 x_{2} + 12.2 x_{3} + 4.2 x_{4} + 4.1 x_{5} + 2.2 x_{6} \\leq 8.8\\\\\n",
       " & 1.8 \\leq 2.71 x_{1} + 0.8 x_{2} + 3.19 x_{3} + 3.55 x_{4} + 0.54 x_{5} + 0.78 x_{6} \\leq 3.3\\\\\n",
       " & 21 \\leq 127 x_{1} + 25 x_{2} + 126 x_{3} + 65 x_{4} + 21 x_{5} + 23 x_{6} \\leq 89\\\\\n",
       " & 6.3 \\leq 9.4 x_{1} + 7.1 x_{2} + 12.6 x_{3} + 13 x_{4} + 1.5 x_{5} + 2 x_{6} \\leq 8.1\\\\\n",
       " & 0 \\leq 0.64 x_{1} + 0.12 x_{2} + 0.41 x_{3} + 0.5 x_{5} + 0.78 x_{6} \\leq 2.1\\\\\n",
       " & x_{i} \\geq 0 \\quad\\forall i \\in \\{1,2,\\dots,5,6\\}\\\\\n",
       "\\end{alignat*}\n",
       " $$"
      ],
      "text/plain": [
       "Minimization problem with:\n",
       " * 9 linear constraints\n",
       " * 6 variables\n",
       "Solver is default solver"
      ]
     },
     "execution_count": 20,
     "metadata": {},
     "output_type": "execute_result"
    }
   ],
   "source": [
    "m"
   ]
  },
  {
   "cell_type": "code",
   "execution_count": 21,
   "metadata": {
    "collapsed": false
   },
   "outputs": [
    {
     "data": {
      "text/plain": [
       ":Optimal"
      ]
     },
     "execution_count": 21,
     "metadata": {},
     "output_type": "execute_result"
    }
   ],
   "source": [
    "solve(m)"
   ]
  },
  {
   "cell_type": "code",
   "execution_count": 22,
   "metadata": {
    "collapsed": false
   },
   "outputs": [
    {
     "data": {
      "text/plain": [
       "6-element Array{Float64,1}:\n",
       " 0.378873  \n",
       " 0.00977443\n",
       " 0.226812  \n",
       " 0.0765708 \n",
       " 0.0       \n",
       " 0.307969  "
      ]
     },
     "execution_count": 22,
     "metadata": {},
     "output_type": "execute_result"
    }
   ],
   "source": [
    "vx = getvalue(x)"
   ]
  },
  {
   "cell_type": "code",
   "execution_count": 24,
   "metadata": {
    "collapsed": false
   },
   "outputs": [
    {
     "data": {
      "text/plain": [
       "1.1353444530393673"
      ]
     },
     "execution_count": 24,
     "metadata": {},
     "output_type": "execute_result"
    }
   ],
   "source": [
    "getobjectivevalue(m)"
   ]
  },
  {
   "cell_type": "code",
   "execution_count": 23,
   "metadata": {
    "collapsed": false,
    "scrolled": false
   },
   "outputs": [
    {
     "name": "stdout",
     "output_type": "stream",
     "text": [
      "Milho: \t37.89%\n",
      "Arroz_branco: \t0.98%\n",
      "Trigo: \t22.68%\n",
      "Soja: \t7.66%\n",
      "Inhame: \t0.0%\n",
      "Batata: \t30.8%\n",
      "Custo do kg: R$ 1.14/Kg\n"
     ]
    }
   ],
   "source": [
    "for i = 1:num_ingr\n",
    "    println(\"$(ingrs[i]): \\t$(round(vx[i]*100,2))%\")\n",
    "end\n",
    "println(\"Custo do kg: R\\$ $(round(getobjectivevalue(m),2))/Kg\")"
   ]
  },
  {
   "cell_type": "code",
   "execution_count": 26,
   "metadata": {
    "collapsed": false
   },
   "outputs": [
    {
     "data": {
      "text/latex": [
       "$$ \\begin{alignat*}{1}\\min\\quad & 0\\\\\n",
       "\\text{Subject to} \\quad\\end{alignat*}\n",
       " $$"
      ],
      "text/plain": [
       "Feasibility problem with:\n",
       " * 0 linear constraints\n",
       " * 0 variables\n",
       "Solver is default solver"
      ]
     },
     "execution_count": 26,
     "metadata": {},
     "output_type": "execute_result"
    }
   ],
   "source": [
    "m = Model()"
   ]
  },
  {
   "cell_type": "code",
   "execution_count": 27,
   "metadata": {
    "collapsed": false
   },
   "outputs": [
    {
     "data": {
      "text/latex": [
       "$$ x_{p} \\geq 0 \\quad\\forall p \\in \\{Alice,Bob\\} $$"
      ],
      "text/plain": [
       "x[p] ≥ 0 ∀ p ∈ {Alice,Bob}"
      ]
     },
     "execution_count": 27,
     "metadata": {},
     "output_type": "execute_result"
    }
   ],
   "source": [
    "# Pessoas: Alice e Bob\n",
    "# Produtos: ProdA e ProdB\n",
    "@variable(m, x[p=[:Alice,:Bob]] >= 0)"
   ]
  },
  {
   "cell_type": "code",
   "execution_count": 30,
   "metadata": {
    "collapsed": false
   },
   "outputs": [
    {
     "data": {
      "text/plain": [
       "\"a\""
      ]
     },
     "execution_count": 30,
     "metadata": {},
     "output_type": "execute_result"
    }
   ],
   "source": [
    "\"a\""
   ]
  },
  {
   "cell_type": "code",
   "execution_count": null,
   "metadata": {
    "collapsed": true
   },
   "outputs": [],
   "source": []
  }
 ],
 "metadata": {
  "kernelspec": {
   "display_name": "Julia 0.4.6",
   "language": "julia",
   "name": "julia-0.4"
  },
  "language_info": {
   "file_extension": ".jl",
   "mimetype": "application/julia",
   "name": "julia",
   "version": "0.4.6"
  }
 },
 "nbformat": 4,
 "nbformat_minor": 0
}
