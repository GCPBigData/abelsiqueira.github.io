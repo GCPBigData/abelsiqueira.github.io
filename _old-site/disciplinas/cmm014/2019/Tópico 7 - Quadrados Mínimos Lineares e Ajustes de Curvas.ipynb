{
 "cells": [
  {
   "cell_type": "markdown",
   "metadata": {},
   "source": [
    "# Quadrados Mínimos e Ajustes de Curvas"
   ]
  },
  {
   "cell_type": "code",
   "execution_count": null,
   "metadata": {},
   "outputs": [],
   "source": [
    "using Plots\n",
    "gr(size=(600,400))"
   ]
  },
  {
   "cell_type": "markdown",
   "metadata": {},
   "source": [
    "O problema de ajuste de um conjunto de dados à um modelo, simplesmente dito ajuste de curvas, é um problema bastante prático e recorrente.\n",
    "Esse problema acontece quando temos muito mais informação que o necessário para se determinar exatamente um modelo. Mas isso também só faz sentido se essa informação tiver \n",
    "algum tipo de erro experimental ou intrínseco."
   ]
  },
  {
   "cell_type": "markdown",
   "metadata": {},
   "source": [
    "Considere o seguinte problema de ajustar um conjunto de pontos por uma reta."
   ]
  },
  {
   "cell_type": "code",
   "execution_count": null,
   "metadata": {},
   "outputs": [],
   "source": [
    "m = 100\n",
    "x = range(-3, 7, length=m)\n",
    "y = 1.9 .+ 0.6*x + randn(m)*0.2 # Gerando pontos aleatórios\n",
    "\n",
    "scatter(x, y, leg=false, c=:lightblue, ms=4)\n",
    "plot!(x -> 0.58x + 1.92, c=:red, lw=2)"
   ]
  },
  {
   "cell_type": "code",
   "execution_count": null,
   "metadata": {},
   "outputs": [],
   "source": [
    "E(α,β) = 0.5 * sum((y[i] - α - β * x[i])^2 for i = 1:m)\n",
    "contour(range(1, 3, length=100),\n",
    "        range(0.0, 1.0, length=100),\n",
    "        E,\n",
    "        levels = 100)"
   ]
  },
  {
   "cell_type": "code",
   "execution_count": null,
   "metadata": {},
   "outputs": [],
   "source": [
    "M11 = m\n",
    "M12 = M21 = sum(x)\n",
    "M22 = sum(x.^2)\n",
    "c1 = sum(y)\n",
    "c2 = sum(x .* y)\n",
    "\n",
    "M = [M11 M12; M21 M22]\n",
    "c = [c1; c2]\n",
    "αβ = M \\ c\n",
    "\n",
    "α, β = αβ[1], αβ[2]"
   ]
  },
  {
   "cell_type": "code",
   "execution_count": null,
   "metadata": {},
   "outputs": [],
   "source": [
    "E(α,β) = 0.5 * sum((y[i] - α - β * x[i])^2 for i = 1:m)\n",
    "contour(range(1, 3, length=100),\n",
    "        range(0.0, 1.0, length=100),\n",
    "        E,\n",
    "        levels = 50)\n",
    "scatter!([α], [β], c=:red, ms=3)"
   ]
  },
  {
   "cell_type": "code",
   "execution_count": null,
   "metadata": {},
   "outputs": [],
   "source": [
    "scatter(x, y, leg=false, c=:lightblue, ms=4)\n",
    "plot!(x -> α + β * x, c=:red, lw=2)"
   ]
  },
  {
   "cell_type": "markdown",
   "metadata": {},
   "source": [
    "Não existe uma reta que passa por todos esses pontos. Inclusive, alguns deles podem ter o mesmo $x$,\n",
    "de modo que não existe nenhum função que passa por eles.\n",
    "Sendo assim, precisamos encontrar uma reta que aproxima estes pontos."
   ]
  },
  {
   "cell_type": "markdown",
   "metadata": {},
   "source": [
    "Essa reta é definida por $L(x) = \\alpha + \\beta x$, e precisamos encontrar esses valores para $\\alpha$ e $\\beta$."
   ]
  },
  {
   "cell_type": "markdown",
   "metadata": {},
   "source": [
    "Uma estratégia é considerar o erro de aproximação e tentar minimizá-lo.\n",
    "Vamos separar o erro termo a termo, obtendo assim um Erro$_i$, que depende\n",
    "dos valores de $\\alpha$ e $\\beta$."
   ]
  },
  {
   "cell_type": "markdown",
   "metadata": {},
   "source": [
    "Nosso problema pode ser escrito como\n",
    "$$ \\min E(\\alpha,\\beta) = \\sum_{i=1}^m \\mbox{Erro}_i(\\alpha,\\beta). $$"
   ]
  },
  {
   "cell_type": "markdown",
   "metadata": {},
   "source": [
    "Já sabemos que para minimizar uma função, devemos buscar seus pontos críticos.\n",
    "Isto é,\n",
    "$$ \\frac{\\partial E}{\\partial \\alpha} = 0, $$\n",
    "e\n",
    "$$ \\frac{\\partial E}{\\partial \\beta} = 0. $$\n",
    "\n",
    "Para calcular essa derivada, devemos calcular a derivada de Erro$_i$.\n",
    "Então, a escolha dessa função de erro deve ser bem pensada, para que seja\n",
    "significativa e fácil de derivar."
   ]
  },
  {
   "cell_type": "markdown",
   "metadata": {},
   "source": [
    "A escolha mais comum é Erro$_i = \\frac{1}{2}[\\alpha + \\beta x_i - y_i]^2 = \\frac{1}{2}[L(x_i) - y_i]^2$."
   ]
  },
  {
   "cell_type": "markdown",
   "metadata": {},
   "source": [
    "Essa escolha é boa pois a derivada dessa função é fácil de calcular, e é fácil de visualizar que é o quadrado da distância vertical da reta ao ponto $(x_i,y_i)$."
   ]
  },
  {
   "cell_type": "code",
   "execution_count": null,
   "metadata": {},
   "outputs": [],
   "source": [
    "1 .+ x - y"
   ]
  },
  {
   "cell_type": "code",
   "execution_count": null,
   "metadata": {},
   "outputs": [],
   "source": [
    "sum((1 .+ x - y).^2)"
   ]
  },
  {
   "cell_type": "code",
   "execution_count": null,
   "metadata": {},
   "outputs": [],
   "source": [
    "E(α,β) = 0.5 * sum((α .+ β*x - y).^2)"
   ]
  },
  {
   "cell_type": "code",
   "execution_count": null,
   "metadata": {},
   "outputs": [],
   "source": [
    "E(0,0)"
   ]
  },
  {
   "cell_type": "code",
   "execution_count": null,
   "metadata": {},
   "outputs": [],
   "source": [
    "scatter(x, y, leg=false)\n",
    "plot!(x->0 + 0*x, x[1], x[m], c=:red, lw=2)"
   ]
  },
  {
   "cell_type": "code",
   "execution_count": null,
   "metadata": {},
   "outputs": [],
   "source": [
    "E(2,0)"
   ]
  },
  {
   "cell_type": "code",
   "execution_count": null,
   "metadata": {},
   "outputs": [],
   "source": [
    "scatter(x, y, leg=false)\n",
    "plot!(x->2 + 0*x, x[1], x[m], c=:red, lw=2)"
   ]
  },
  {
   "cell_type": "code",
   "execution_count": null,
   "metadata": {},
   "outputs": [],
   "source": [
    "E(2,0.5)"
   ]
  },
  {
   "cell_type": "code",
   "execution_count": null,
   "metadata": {},
   "outputs": [],
   "source": [
    "scatter(x, y, leg=false)\n",
    "plot!(x->2 + 0.5*x, x[1], x[m], c=:red, lw=2)"
   ]
  },
  {
   "cell_type": "markdown",
   "metadata": {},
   "source": [
    "É fácil ver que\n",
    "\n",
    "$$ \\partial_{\\alpha} E(\\alpha,\\beta) = \\sum_{i=1}^m (\\alpha + \\beta x_i - y_i), $$\n",
    "e\n",
    "$$ \\partial_{\\beta} E(\\alpha,\\beta) = \\sum_{i=1}^m x_i (\\alpha + \\beta x_i - y_i). $$"
   ]
  },
  {
   "cell_type": "markdown",
   "metadata": {},
   "source": [
    "Como nosso objetivo é encontrar $\\alpha$ e $\\beta$ tal que essas duas equações sejam zero, obtemos um sistema em $\\alpha$ e $\\beta$:\n",
    "\n",
    "\\begin{align*}\n",
    "\\alpha \\bigg(\\sum_{i=1}^m 1\\bigg) + \\beta\\bigg(\\sum_{i=1}^m x_i\\bigg) & = \\sum_{i=1}^m y_i \\\\\n",
    "\\alpha \\bigg(\\sum_{i=1}^m x_i\\bigg) + \\beta\\bigg(\\sum_{i=1}^m x_i^2\\bigg) & = \\sum_{i=1}^m x_i y_i\n",
    "\\end{align*}"
   ]
  },
  {
   "cell_type": "markdown",
   "metadata": {},
   "source": [
    "Esse sistema é bastante fácil de resolver."
   ]
  },
  {
   "cell_type": "code",
   "execution_count": null,
   "metadata": {},
   "outputs": [],
   "source": [
    "# Lembrando\n",
    "using LinearAlgebra\n",
    "\n",
    "dot(x, y)"
   ]
  },
  {
   "cell_type": "code",
   "execution_count": null,
   "metadata": {},
   "outputs": [],
   "source": [
    "M = [m  sum(x); sum(x)   dot(x,x)]"
   ]
  },
  {
   "cell_type": "code",
   "execution_count": null,
   "metadata": {},
   "outputs": [],
   "source": [
    "b = [sum(y); dot(x,y)]"
   ]
  },
  {
   "cell_type": "code",
   "execution_count": null,
   "metadata": {},
   "outputs": [],
   "source": [
    "α, β = M\\b"
   ]
  },
  {
   "cell_type": "code",
   "execution_count": null,
   "metadata": {},
   "outputs": [],
   "source": [
    "E(α,β)"
   ]
  },
  {
   "cell_type": "code",
   "execution_count": null,
   "metadata": {
    "scrolled": true
   },
   "outputs": [],
   "source": [
    "scatter(x, y, leg=false)\n",
    "plot!(x->α + β*x, x[1], x[m], c=:red, lw=2)"
   ]
  },
  {
   "cell_type": "markdown",
   "metadata": {},
   "source": [
    "Visualmente, a reta parece aproximar bem mesmo os pontos dados."
   ]
  },
  {
   "cell_type": "markdown",
   "metadata": {},
   "source": [
    "Um problema levemente diferente, mas parecido é o seguinte: todos os dias por um ano uma pessoa anota a temperatura média do dia."
   ]
  },
  {
   "cell_type": "code",
   "execution_count": null,
   "metadata": {},
   "outputs": [],
   "source": [
    "using Random\n",
    "Random.seed!(0)\n",
    "m = 365\n",
    "t = range(0, 1, length=m)\n",
    "\n",
    "phi1(t) = sin(2pi*t)\n",
    "phi2(t) = cos(2pi*t)\n",
    "phi3(t) = 1\n",
    "\n",
    "\n",
    "b = 6*phi1.(t) + 4*phi2.(t) + 12*phi3.(t) + randn(m)*1.1 +\n",
    "    [rand() < 0.2 ? randn() * 3.5 : 0.0 for i = 1:m]\n",
    "y = b\n",
    "\n",
    "scatter(t, b, c=:lightblue, ms=3, leg=false)"
   ]
  },
  {
   "cell_type": "code",
   "execution_count": null,
   "metadata": {},
   "outputs": [],
   "source": [
    "ϕ₁ = ones(m)\n",
    "ϕ₂ = sin.(2π * t)\n",
    "ϕ₃ = cos.(2π * t)\n",
    "\n",
    "M = [dot(ϕ₁, ϕ₁)  dot(ϕ₂, ϕ₁)  dot(ϕ₃, ϕ₁);\n",
    "     dot(ϕ₁, ϕ₂)  dot(ϕ₂, ϕ₂)  dot(ϕ₃, ϕ₂);\n",
    "     dot(ϕ₁, ϕ₃)  dot(ϕ₂, ϕ₃)  dot(ϕ₃, ϕ₃)]\n",
    "\n",
    "c = [dot(ϕ₁, y); dot(ϕ₂, y); dot(ϕ₃, y)]\n",
    "\n",
    "β = M \\ c"
   ]
  },
  {
   "cell_type": "code",
   "execution_count": null,
   "metadata": {},
   "outputs": [],
   "source": [
    "y_pred = β[1] * ϕ₁ + β[2] * ϕ₂ + β[3] * ϕ₃"
   ]
  },
  {
   "cell_type": "code",
   "execution_count": null,
   "metadata": {},
   "outputs": [],
   "source": [
    "scatter(t, y, c=:lightblue, ms=3, leg=false)\n",
    "plot!(t, y_pred, c=:red, lw=2)"
   ]
  },
  {
   "cell_type": "markdown",
   "metadata": {},
   "source": [
    "Seu objetivo é estimar a temperatura em um dia no futuro. Olhando para o gráfico, aparentemente a temperatura segue um modelo do tipo\n",
    "$$\n",
    "T(t) = \\alpha + \\beta \\sin(2\\pi t) + \\gamma \\cos(2\\pi t).\n",
    "$$\n",
    "Note que o intervalo foi normalizado para $t \\in [0,1]$."
   ]
  },
  {
   "cell_type": "markdown",
   "metadata": {},
   "source": [
    "Se $T_i$ é o valor medido no instante $t_i = \\dfrac{i-1}{364}$, então definimos o erro como\n",
    "$$ E(\\alpha,\\beta,\\gamma) =\n",
    "    \\frac{1}{2}\\sum_{i=1}^m [T(t_i) - T_i]^2. $$"
   ]
  },
  {
   "cell_type": "markdown",
   "metadata": {},
   "source": [
    "Novamente, para minimizar esse erro, calcularemos as derivadas parciais e igualaremos a zero.\n",
    "Note que apesar de $T$ ser uma função não linear em $t$, ela é linear em $\\alpha$, $\\beta$ e $\\gamma$."
   ]
  },
  {
   "cell_type": "markdown",
   "metadata": {},
   "source": [
    "\\begin{align}\n",
    "\\partial_{\\alpha} E(\\alpha,\\beta,\\gamma)\n",
    "& = \\sum_{i = 1}^m [T(t_i) - T_i] = 0 \\\\\n",
    "\\partial_{\\beta} E(\\alpha,\\beta,\\gamma)\n",
    "& = \\sum_{i = 1}^m [T(t_i) - T_i] \\sin(2\\pi t_i) = 0 \\\\\n",
    "\\partial_{\\gamma} E(\\alpha,\\beta,\\gamma)\n",
    "& = \\sum_{i = 1}^m[T(t_i) - T_i] \\cos(2\\pi t_i) = 0.\n",
    "\\end{align}"
   ]
  },
  {
   "cell_type": "markdown",
   "metadata": {},
   "source": [
    "\\begin{align}\n",
    "\\alpha \\bigg(\\sum_{i=1}^m 1\\bigg) +\n",
    "\\beta  \\bigg(\\sum_{i=1}^m \\sin(2\\pi t_i)\\bigg) +\n",
    "\\gamma \\bigg(\\sum_{i=1}^m \\cos(2\\pi t_i)\\bigg)\n",
    "& = \\sum_{i=1}^m T_i \\\\\n",
    "\\alpha \\bigg(\\sum_{i=1}^m \\sin(2\\pi t_i)\\bigg) +\n",
    "\\beta  \\bigg(\\sum_{i=1}^m \\sin^2(2\\pi t_i)\\bigg) +\n",
    "\\gamma \\bigg(\\sum_{i=1}^m \\sin(2\\pi t_i)\\cos(2\\pi t_i)\\bigg)\n",
    "& = \\sum_{i=1}^m T_i \\sin(2\\pi t_i) \\\\\n",
    "\\alpha \\bigg(\\sum_{i=1}^m \\cos(2\\pi t_i)\\bigg) +\n",
    "\\beta  \\bigg(\\sum_{i=1}^m \\sin(2\\pi t_i)\\cos(2\\pi t_i)\\bigg) +\n",
    "\\gamma \\bigg(\\sum_{i=1}^m \\cos^2(2\\pi t_i)\\bigg)\n",
    "& = \\sum_{i=1}^m T_i \\cos(2\\pi t_i).\n",
    "\\end{align}"
   ]
  },
  {
   "cell_type": "markdown",
   "metadata": {},
   "source": [
    "Note que podemos facilitar a maneira de escrever esse sistema definindo os seguintes vetores\n",
    "$$\n",
    "v^{(1)} = \\left(\\begin{array}{c}\n",
    "1 \\\\\n",
    "1 \\\\\n",
    "\\vdots \\\\\n",
    "1\n",
    "\\end{array}\\right),\n",
    "\\quad\n",
    "v^{(2)} = \\left(\\begin{array}{c}\n",
    "\\sin(2\\pi t_1) \\\\\n",
    "\\sin(2\\pi t_2) \\\\\n",
    "\\vdots \\\\\n",
    "\\sin(2\\pi t_{365})\n",
    "\\end{array}\\right),\n",
    "\\quad\n",
    "v^{(3)} = \\left(\\begin{array}{c}\n",
    "\\cos(2\\pi t_1) \\\\\n",
    "\\cos(2\\pi t_2) \\\\\n",
    "\\vdots \\\\\n",
    "\\cos(2\\pi t_{365})\n",
    "\\end{array}\\right),\n",
    "\\quad\n",
    "b = \\left(\\begin{array}{c}\n",
    "T_1 \\\\\n",
    "T_2 \\\\\n",
    "\\vdots \\\\\n",
    "T_{365}\n",
    "\\end{array}\\right).\n",
    "$$"
   ]
  },
  {
   "cell_type": "markdown",
   "metadata": {},
   "source": [
    "Daí, a matriz do sistema é\n",
    "$$\\left[\\begin{array}{ccc}\n",
    "\\left\\langle v^{(1)}, v^{(1)} \\right\\rangle &\n",
    "\\left\\langle v^{(1)}, v^{(2)} \\right\\rangle &\n",
    "\\left\\langle v^{(1)}, v^{(3)} \\right\\rangle \\\\\n",
    "\\left\\langle v^{(2)}, v^{(1)} \\right\\rangle &\n",
    "\\left\\langle v^{(2)}, v^{(2)} \\right\\rangle &\n",
    "\\left\\langle v^{(2)}, v^{(3)} \\right\\rangle \\\\\n",
    "\\left\\langle v^{(3)}, v^{(1)} \\right\\rangle &\n",
    "\\left\\langle v^{(3)}, v^{(2)} \\right\\rangle &\n",
    "\\left\\langle v^{(3)}, v^{(3)} \\right\\rangle\n",
    "\\end{array}\\right],$$\n",
    "e o vetor do lado direito é\n",
    "$$\\left[\\begin{array}{c}\n",
    "\\left\\langle v^{(1)}, b \\right\\rangle \\\\\n",
    "\\left\\langle v^{(2)}, b \\right\\rangle \\\\\n",
    "\\left\\langle v^{(3)}, b \\right\\rangle\n",
    "\\end{array}\\right].$$"
   ]
  },
  {
   "cell_type": "code",
   "execution_count": null,
   "metadata": {},
   "outputs": [],
   "source": [
    "m = 365\n",
    "t = range(0, 1, length=m)\n",
    "v1 = ones(m)\n",
    "v2 = sin.(2π * t)\n",
    "v3 = cos.(2π * t)\n",
    "M = [dot(v1, v1) dot(v1, v2) dot(v1, v3);\n",
    "     dot(v2, v1) dot(v2, v2) dot(v2, v3);\n",
    "     dot(v3, v1) dot(v3, v2) dot(v3, v3)] \n",
    "c = [dot(v1, b); dot(v2, b); dot(v3, b)]"
   ]
  },
  {
   "cell_type": "code",
   "execution_count": null,
   "metadata": {},
   "outputs": [],
   "source": [
    "α, β, γ = M\\c"
   ]
  },
  {
   "cell_type": "code",
   "execution_count": null,
   "metadata": {},
   "outputs": [],
   "source": [
    "scatter(t, b, leg=false)\n",
    "plot!(t->α + β*sin(2π*t) + γ*cos(2π*t), 0, 1, c=:red, lw=2)"
   ]
  },
  {
   "cell_type": "markdown",
   "metadata": {},
   "source": [
    "Vimos como adaptar um conjunto de dados por alguns modelos específicos.\n",
    "De uma maneira geral, podemos considerar um modelo da forma\n",
    "$$ f(x) = \\alpha_1 \\phi_1(x) + \\dots + \\alpha_n \\phi_n(x), $$\n",
    "e fazer o mesmo procedimento.\n",
    "\n",
    "Esse problema com esse modelo é dito **quadrados mínimos lineares discretos.**"
   ]
  },
  {
   "cell_type": "markdown",
   "metadata": {},
   "source": [
    "Para encontrar os parâmetros $\\alpha$ fazemos o mesmo procedimento anterior:\n",
    "$$ \\min E(\\alpha) = \\frac{1}{2} \\sum_{i=1}^m [y_i - f(x_i)]^2\n",
    "= \\frac{1}{2} \\sum_{i=1}^m \\bigg[y_i - \\sum_{j=1}^n \\alpha_j\\phi_j(x_i)\\bigg]^2. $$"
   ]
  },
  {
   "cell_type": "markdown",
   "metadata": {},
   "source": [
    "Derivando em cada $\\alpha_k$ nos dá um sistema $M\\alpha = c$, onde\n",
    "$$ M_{kj} = \\sum_{i=1}^m \\phi_k(x_i)\\phi_j(x_i) \\qquad \\mbox{e}\n",
    "\\qquad c_j = \\sum_{i=1}^m \\phi_j(x_i) y_i. $$"
   ]
  },
  {
   "cell_type": "markdown",
   "metadata": {},
   "source": [
    "Dados a função $\\phi_j$ e os pontos $x_i$, podemos definir um vetor $\\overline{\\phi}_j = (\\phi_j(x_1), \\dots, \\phi_j(x_m))^T$, isto é, o vetor obtido aplicando $\\phi_j$ em cada elemento $x_i$.\n",
    "Com essa definição, podemos escrever\n",
    "$$ M_{k,j} = \\langle\\overline{\\phi}_k,\\overline{\\phi}_j\\rangle \\qquad \\mbox{e} \\qquad\n",
    "c_j = \\langle\\overline{\\phi}_j, y\\rangle. $$"
   ]
  },
  {
   "cell_type": "markdown",
   "metadata": {},
   "source": [
    "O sistema $M\\alpha = c$ é chamado de **sistema normal**."
   ]
  },
  {
   "cell_type": "markdown",
   "metadata": {},
   "source": [
    "A medida de qualidade para cada dado individual é dada pelo **resíduo**:\n",
    "$$ r = \\left[\\begin{array}{c}\n",
    "y_1 - f(x_1) \\\\\n",
    "y_2 - f(x_2) \\\\\n",
    "\\vdots \\\\\n",
    "y_m - f(x_m)\n",
    "\\end{array}\\right] $$"
   ]
  },
  {
   "cell_type": "markdown",
   "metadata": {},
   "source": [
    "O erro pode ser escrito como $E(\\alpha) = \\frac{1}{2}\\Vert r\\Vert^2$."
   ]
  },
  {
   "cell_type": "code",
   "execution_count": null,
   "metadata": {},
   "outputs": [],
   "source": [
    "x = [0.0; 1; 2; 3; 4]\n",
    "y = [-1.0; 1; 1; 3; 5]\n",
    "scatter(x, y, leg=false)"
   ]
  },
  {
   "cell_type": "code",
   "execution_count": null,
   "metadata": {},
   "outputs": [],
   "source": [
    "A = [ones(5)  x  x.^2]"
   ]
  },
  {
   "cell_type": "code",
   "execution_count": null,
   "metadata": {},
   "outputs": [],
   "source": [
    "A' * A"
   ]
  },
  {
   "cell_type": "code",
   "execution_count": null,
   "metadata": {},
   "outputs": [],
   "source": [
    "A' * y"
   ]
  },
  {
   "cell_type": "code",
   "execution_count": null,
   "metadata": {},
   "outputs": [],
   "source": [
    "β = (A' * A) \\ (A' * y)"
   ]
  },
  {
   "cell_type": "code",
   "execution_count": null,
   "metadata": {
    "scrolled": false
   },
   "outputs": [],
   "source": [
    "scatter(x, y, leg=false)\n",
    "plot!(x -> β[1] + β[2] * x + β[3] * x^2, -0.5, 4.5, c=:red, lw=2)"
   ]
  },
  {
   "cell_type": "code",
   "execution_count": null,
   "metadata": {},
   "outputs": [],
   "source": [
    "\"\"\"`regressao_linear(x, y)`\n",
    "Calcule y ~ α + β x\n",
    "\"\"\"\n",
    "function regressao_linear(x, y)\n",
    "    m = length(x)\n",
    "    A = [ones(m)  x]\n",
    "    sol = (A' * A) \\ (A' * y)\n",
    "    α, β = sol[1], sol[2]\n",
    "    return α, β\n",
    "end"
   ]
  },
  {
   "cell_type": "code",
   "execution_count": null,
   "metadata": {},
   "outputs": [],
   "source": [
    "\"\"\"\n",
    "y ~ β₀ + β₁ x + … + βₚ xᵖ\n",
    "\"\"\"\n",
    "function regressao_polinomial(x, y, p)\n",
    "    m = length(x)\n",
    "    A = ones(m, p + 1)\n",
    "    for i = 1:m\n",
    "        for j = 2:p+1\n",
    "            A[i,j] = x[i]^(j - 1)\n",
    "        end\n",
    "    end\n",
    "    β = (A' * A) \\ (A' * y)\n",
    "    return β\n",
    "end"
   ]
  },
  {
   "cell_type": "code",
   "execution_count": null,
   "metadata": {},
   "outputs": [],
   "source": [
    "using DelimitedFiles\n",
    "data = readdlm(\"dados.csv\", ',')\n",
    "x, y = data[:,1], log.(data[:,2] .- 44)\n",
    "p = 3\n",
    "β = regressao_polinomial(x, y, p)\n",
    "scatter(x, y, leg=false)\n",
    "plot!(x -> β[1] + sum(β[j+1]*x^j for j = 1:p), x[1], x[end], lw=2, c=:red)"
   ]
  },
  {
   "cell_type": "code",
   "execution_count": null,
   "metadata": {},
   "outputs": [],
   "source": [
    "data = readdlm(\"dados.csv\", ',')\n",
    "x, y = data[:,1], data[:,2]\n",
    "α, β = regressao_linear(x, y)\n",
    "scatter(x, y, leg=false)\n",
    "plot!(x -> α + β * x, lw=2, c=:red)"
   ]
  },
  {
   "cell_type": "code",
   "execution_count": null,
   "metadata": {},
   "outputs": [],
   "source": [
    "function quadmin(x, y, F::Array{Function})\n",
    "    # Implemente\n",
    "    m = length(x)\n",
    "    n = length(F)\n",
    "    A = zeros(m, n)\n",
    "    for i = 1:m\n",
    "        for j = 1:n\n",
    "            A[i,j] = F[j](x[i])\n",
    "        end\n",
    "    end\n",
    "    β = (A' * A) \\ (A' * y)\n",
    "    return β\n",
    "end"
   ]
  },
  {
   "cell_type": "code",
   "execution_count": null,
   "metadata": {},
   "outputs": [],
   "source": [
    "F = [x->1, x->sin(2π*x), x->cos(2π*x), x->sin(4π*x), x->cos(4π*x), x->sin(6π*x), x->cos(6π*x)]\n",
    "n = length(F)\n",
    "# Mesmos t e b do exemplo anterior\n",
    "α = quadmin(t, b, F)\n",
    "scatter(t, b, leg=false, ms=3, c=:lightblue)\n",
    "#plot!(t->α[1]*F[1](t) + α[2]*F[2](t) + α[3]*F[3](t), 0, 1, c=:red, lw=2)\n",
    "plot!(t -> sum(α[j]*F[j](t) for j = 1:n), 0, 1, c=:red, lw=2)"
   ]
  },
  {
   "cell_type": "code",
   "execution_count": null,
   "metadata": {},
   "outputs": [],
   "source": [
    "# Podemos escrever essa combinação de uma maneira resumida\n",
    "f(t) = sum(α[i] * F[i](t) for i = 1:3)"
   ]
  },
  {
   "cell_type": "code",
   "execution_count": null,
   "metadata": {},
   "outputs": [],
   "source": [
    "scatter(t, b, leg=false)\n",
    "plot!(f, 0, 1, c=:red, lw=2)"
   ]
  },
  {
   "cell_type": "markdown",
   "metadata": {},
   "source": [
    "## Avaliando o modelo"
   ]
  },
  {
   "cell_type": "markdown",
   "metadata": {},
   "source": [
    "A avaliação de um modelo..."
   ]
  },
  {
   "cell_type": "markdown",
   "metadata": {},
   "source": [
    "###  $R^2$\n",
    "\n",
    "Vamos voltar para o problema inicial de ajustar dados por uma reta: $(x_i, y_i), i = 1,\\dots,m$.\n",
    "Vamos chamar a solução encontrada de $\\hat{y} = a x + b$, isto é $\\hat{y}_i = a x_i + b \\approx y_i$.\n",
    "\n",
    "O método de Quadrados Mínimos encontrou o menor valor possível para $\\displaystyle \\sum_{i=1}^m(\\hat{y}_i - y_i)^2$, porém não é uma métrica suficiente de qualidade. Vamos definir $$S_r = \\displaystyle \\sum_{i=1}^m(\\hat{y}_i - y_i)^2.$$\n",
    "\n",
    "Por outro lado, vamos considerar a variação da média dos dados $y_i$:\n",
    "$$ S_T = \\sum_{i=1}^m(y_i - y_{Med})^2,$$\n",
    "onde $\\displaystyle y_{Med} = \\frac{1}{m} \\sum_{i=1} y_i$ é a média dos dados $y_i$."
   ]
  },
  {
   "cell_type": "markdown",
   "metadata": {},
   "source": [
    "Veja que $S_T$ pode ser visto como o erro do modelo constante igual à $y_{Med}$."
   ]
  },
  {
   "cell_type": "code",
   "execution_count": null,
   "metadata": {},
   "outputs": [],
   "source": [
    "using Random, Statistics\n",
    "Random.seed!(0)\n",
    "m = 10\n",
    "x = range(-3, 7, length=m)\n",
    "y = 1.9 .+ 0.6*x + randn(m)*0.75 # Gerando pontos aleatórios\n",
    "\n",
    "M = [m sum(x); sum(x) dot(x,x)]\n",
    "b = [sum(y); dot(x,y)]\n",
    "α = M \\ b\n",
    "p = 1\n",
    "α = regressao_polinomial(x, y, p)\n",
    "\n",
    "y_pred = α[1] .+ α[2] * x# + α[3] * x.^2 + α[4] * x.^3\n",
    "y_pred = α[1] .+ sum(α[j+1] * x.^j for j = 1:p)\n",
    "y_med = mean(y)"
   ]
  },
  {
   "cell_type": "code",
   "execution_count": null,
   "metadata": {},
   "outputs": [],
   "source": [
    "scatter(x, y, leg=false)\n",
    "plot!([x[1], x[end]], [y_med, y_med], c=:blue)\n",
    "for i = 1:m\n",
    "    plot!([x[i], x[i]], [y[i], y_med], c=:red, l=:dash)\n",
    "end\n",
    "title!(\"y_Med\")"
   ]
  },
  {
   "cell_type": "code",
   "execution_count": null,
   "metadata": {},
   "outputs": [],
   "source": [
    "scatter(x, y, leg=false)\n",
    "#plot!(x, y_pred, c=:blue)\n",
    "xlin = range(x[1], x[end], length=100)\n",
    "ylin = α[1] .+ sum(α[j+1] * xlin.^j for j = 1:p)\n",
    "plot!(xlin, ylin, c=:blue)\n",
    "for i = 1:m\n",
    "    plot!([x[i], x[i]], [y[i], y_pred[i]], c=:red, l=:dash)\n",
    "end\n",
    "title!(\"y_pred\")"
   ]
  },
  {
   "cell_type": "markdown",
   "metadata": {},
   "source": [
    "A métrica $R^2$ é definida pela fórmula\n",
    "$$ R^2 = 1 - \\frac{S_r}{S_T}. $$"
   ]
  },
  {
   "cell_type": "markdown",
   "metadata": {},
   "source": [
    "Quanto mais próximo de $1$, melhor o modelo."
   ]
  },
  {
   "cell_type": "code",
   "execution_count": null,
   "metadata": {},
   "outputs": [],
   "source": [
    "R2 = 1 - norm(y_pred - y)^2 / norm(y_med .- y)^2"
   ]
  },
  {
   "cell_type": "markdown",
   "metadata": {},
   "source": [
    "Para um modelo não ótimo:"
   ]
  },
  {
   "cell_type": "code",
   "execution_count": null,
   "metadata": {},
   "outputs": [],
   "source": [
    "y_nao_otimo = 1.9 .+ 0.6*x # Escolhido sabiamente\n",
    "\n",
    "scatter(x, y, leg=false)\n",
    "plot!(x, y_nao_otimo, c=:blue)\n",
    "for i = 1:m\n",
    "    plot!([x[i], x[i]], [y[i], y_nao_otimo[i]], c=:red, l=:dash)\n",
    "end\n",
    "title!(\"y_nao_otimo\")"
   ]
  },
  {
   "cell_type": "code",
   "execution_count": null,
   "metadata": {},
   "outputs": [],
   "source": [
    "R2 = 1 - norm(y_nao_otimo - y)^2 / norm(y_med .- y)^2"
   ]
  },
  {
   "cell_type": "markdown",
   "metadata": {},
   "source": [
    "### Exemplo polinomial"
   ]
  },
  {
   "cell_type": "code",
   "execution_count": null,
   "metadata": {},
   "outputs": [],
   "source": [
    "m = 365\n",
    "t = range(0, 1, length=m)\n",
    "v1 = ones(m)\n",
    "v2 = sin.(2π * t)\n",
    "v3 = cos.(2π * t)\n",
    "y = 6 * v1 + 4 * v2 + 12 * v3 + randn(m)*2.0 +\n",
    "    [rand() < 0.2 ? randn() * 3.5 : 0.0 for i = 1:m]\n",
    "M = [dot(v1, v1) dot(v1, v2) dot(v1, v3);\n",
    "     dot(v2, v1) dot(v2, v2) dot(v2, v3);\n",
    "     dot(v3, v1) dot(v3, v2) dot(v3, v3)] \n",
    "c = [dot(v1, y); dot(v2, y); dot(v3, y)]\n",
    "α = M \\ c\n",
    "y_pred = α[1] * v1 + α[2] * v2 + α[3] * v3\n",
    "y_med = mean(y)\n",
    "y_quase = 6.5 * v1 + 4.5 * v2 + 11 * v3\n",
    "\n",
    "scatter(t, y, c=:black, ms=1, leg=false)\n",
    "plot!([t[1], t[end]], [y_med, y_med], c=:black, l=:dash, lw=1)\n",
    "plot!(t, y_quase, c=:blue, lw=2)\n",
    "plot!(t, y_pred, c=:red, lw=2)"
   ]
  },
  {
   "cell_type": "code",
   "execution_count": null,
   "metadata": {},
   "outputs": [],
   "source": [
    "ST = norm(y .- y_med)^2\n",
    "Sr_quase = norm(y - y_quase)^2\n",
    "Sr_pred = norm(y - y_pred)^2\n",
    "R2_quase = 1 - Sr_quase / ST\n",
    "R2_pred = 1 - Sr_pred / ST\n",
    "println(\"R2_quase = $R2_quase\")\n",
    "println(\"R2_pred = $R2_pred\")"
   ]
  },
  {
   "cell_type": "markdown",
   "metadata": {},
   "source": [
    "## Validação Cruzada\n",
    "\n",
    "Outra questão do ajuste é que se ele generaliza bem o problema. Podemos ajustar um conjunto de dados com $x$ distintos por um polinômio de grau suficientemente grande e obter uma solução perfeita:"
   ]
  },
  {
   "cell_type": "code",
   "execution_count": null,
   "metadata": {},
   "outputs": [],
   "source": [
    "function regressao_polinomial(x, y, p)\n",
    "    m = length(x)\n",
    "    A = [ones(m) [x[i]^j for i = 1:m, j = 1:p]]\n",
    "    β = (A' * A) \\ (A' * y)\n",
    "    return β\n",
    "end"
   ]
  },
  {
   "cell_type": "code",
   "execution_count": null,
   "metadata": {},
   "outputs": [],
   "source": [
    "Random.seed!(0)\n",
    "m = 10\n",
    "x = sort(rand(m))\n",
    "y = 3x .+ 5 + randn(m) * 0.1\n",
    "scatter(x, y, leg=false)"
   ]
  },
  {
   "cell_type": "code",
   "execution_count": null,
   "metadata": {},
   "outputs": [],
   "source": [
    "p = 9\n",
    "β = regressao_polinomial(x, y, p)\n",
    "xlin = range(0, 1, length=100)\n",
    "y_pred = [β[1] + sum(β[j + 1] * xi^j for j = 1:p) for xi = xlin]\n",
    "scatter(x, y, leg=false)\n",
    "plot!(xlin, y_pred, c=:red, lw=2)\n",
    "ylims!(4.9, 8.1)"
   ]
  },
  {
   "cell_type": "code",
   "execution_count": null,
   "metadata": {},
   "outputs": [],
   "source": [
    "y_med = mean(y)\n",
    "y_pred = [β[1] .+ sum(β[j + 1] * x[i].^j for j = 1:p) for i = 1:m]\n",
    "ST = norm(y .- y_med)^2\n",
    "Sr_pred = norm(y - y_pred)^2\n",
    "R2_pred = 1 - Sr_pred / ST"
   ]
  },
  {
   "cell_type": "markdown",
   "metadata": {},
   "source": [
    "### Separação em treino e teste"
   ]
  },
  {
   "cell_type": "markdown",
   "metadata": {},
   "source": [
    "Separamos uma porcentagem dos dados para treinar o modelo e encontrar os parâmetros, e avaliamos o modelo sobre os dados restantes."
   ]
  },
  {
   "cell_type": "code",
   "execution_count": null,
   "metadata": {},
   "outputs": [],
   "source": [
    "Random.seed!(0)\n",
    "m = 40\n",
    "#x = sort(rand(m))\n",
    "x = range(0, 1, length=m)\n",
    "#y = 5 + 3x - 2x.^2 + randn(m) * 0.05\n",
    "y = 6 .- 3 * sin.(2π * x) + 7 * cos.(2π * x) + randn(m) * 1.5\n",
    "scatter(x, y, leg=false)"
   ]
  },
  {
   "cell_type": "code",
   "execution_count": null,
   "metadata": {},
   "outputs": [],
   "source": [
    "Random.seed!(0)\n",
    "I = randperm(m)\n",
    "x, y = x[I], y[I]\n",
    "k = round(Int, 0.6m)\n",
    "x_tr, y_tr, x_te, y_te = x[1:k], y[1:k], x[k+1:end], y[k+1:end]\n",
    "\n",
    "p = 5\n",
    "β = regressao_polinomial(x_tr, y_tr, p) # Apenas o conjunto de treino é usado\n",
    "y_pred = [β[1] + sum(β[j + 1] * xi^j for j = 1:p) for xi = x_te]\n",
    "erro = 0.5 * norm(y_te - y_pred)^2"
   ]
  },
  {
   "cell_type": "code",
   "execution_count": null,
   "metadata": {},
   "outputs": [],
   "source": [
    "scatter(leg=false)\n",
    "scatter!(x_tr, y_tr, c=:blue)\n",
    "plot!(x -> β[1] + sum(β[j + 1] * x^j for j = 1:p), 0, 1.0, c=:green, lw=2)"
   ]
  },
  {
   "cell_type": "code",
   "execution_count": null,
   "metadata": {},
   "outputs": [],
   "source": [
    "scatter(leg=false)\n",
    "scatter!(x_te, y_te, c=:red)\n",
    "plot!(x -> β[1] + sum(β[j + 1] * x^j for j = 1:p), 0, 1.0, c=:green, lw=2)"
   ]
  },
  {
   "cell_type": "code",
   "execution_count": null,
   "metadata": {},
   "outputs": [],
   "source": [
    "max_p = 15\n",
    "erro_treino = []\n",
    "erro_teste = []\n",
    "for p = 1:max_p\n",
    "    β = regressao_polinomial(x_tr, y_tr, p)\n",
    "    xlin = range(0, 1, length=100)\n",
    "    y_pred = [β[1] + sum(β[j + 1] * xi^j for j = 1:p) for xi = x]\n",
    "    push!(erro_treino, 0.5 * norm(y_tr - y_pred[1:k])^2 / k)\n",
    "    push!(erro_teste, 0.5 * norm(y_te - y_pred[k+1:end])^2 / (m - k))\n",
    "end"
   ]
  },
  {
   "cell_type": "code",
   "execution_count": null,
   "metadata": {},
   "outputs": [],
   "source": [
    "scatter(1:max_p, erro_treino, c=:blue, leg=false, yaxis=:log)\n",
    "plot!(1:max_p, erro_treino, c=:blue)\n",
    "scatter!(1:max_p, erro_teste, c=:red)\n",
    "plot!(1:max_p, erro_teste, c=:red)"
   ]
  },
  {
   "cell_type": "markdown",
   "metadata": {},
   "source": [
    "## Forma matricial\n",
    "\n",
    "Com os vetores $\\overline{\\phi}_1, \\dots, \\overline{\\phi}$, podemos montar a matriz\n",
    "$$ A = [\\overline{\\phi}_1 \\cdots \\overline{\\phi}_n]. $$\n",
    "Com essa matriz, podemos ver que $ A^TA = M$ e que $A^Ty = c$.\n",
    "Ou seja, o sistema que queremos resolver é, na verdade\n",
    "$$ A^TA\\alpha = A^Tb, $$\n",
    "ou seja, $A^T(A\\alpha - b) = 0$."
   ]
  },
  {
   "cell_type": "markdown",
   "metadata": {},
   "source": [
    "Isso quer dizer que o sistema normal tem alguma relação com o sistema sobre-determinado $A\\alpha = b$.\n",
    "De fato, se pensarmos novamente no problema de minimizar aquela $E(\\alpha)$, cada termo dentro do somatório é\n",
    "uma linha de $A\\alpha - b$.\n",
    "Em outras palavras,\n",
    "$$ E(\\alpha) = \\frac{1}{2}\\sum_{i=1}^m (b - A\\alpha)_i^2\n",
    "= \\frac{1}{2}\\Vert A\\alpha - b\\Vert^2. $$"
   ]
  },
  {
   "cell_type": "markdown",
   "metadata": {},
   "source": [
    "De fato, se calculamos $\\nabla E(\\alpha) = 0$, obtemos as equações normais.\n",
    "Isso generaliza o problema de quadrados mínimos.\n",
    "Esse problema aparece com frequência em outros contextos, e é bastante importante sabermos resolvê-lo eficientemente. Infelizmente, nesta disciplina, não teremos tempo de aprender como fazer isso de maneira eficiente."
   ]
  },
  {
   "cell_type": "markdown",
   "metadata": {},
   "source": [
    "Note ainda que o resíduo é $r = b - Ax$."
   ]
  },
  {
   "cell_type": "markdown",
   "metadata": {},
   "source": [
    "# Quadrados Mínimos Não-Lineares\n",
    "\n",
    "Até agora supomos que o conjunto de dados $(x_i,y_i), i=1,\\dots,m$\n",
    "pode ser representado por uma função\n",
    "$$f(x) = \\alpha_1\\phi_1(x) + \\dots + \\alpha_n\\phi_n(x),$$\n",
    "onde $\\alpha$ são as incógnitas que buscamos."
   ]
  },
  {
   "cell_type": "markdown",
   "metadata": {},
   "source": [
    "No entanto, isso nem sempre é possível. Muitas vezes não temos uma forma para $f$, sabemos\n",
    "apenas que depende de $\\alpha$."
   ]
  },
  {
   "cell_type": "markdown",
   "metadata": {},
   "source": [
    "Um exemplo importante é o da lei de resfriamento. Se um objeto é deixado num ambiente com temperatura $T_a$, ocorrendo apenas troca de temperatura com o ambiente, o objeto pode ter sua temperatura modelada por\n",
    "$$ T(t) = T_a + \\alpha_1 e^{\\alpha_2 t}, $$\n",
    "onde sabemos que $\\alpha_2 < 0$ pois $T(t) \\rightarrow T_a$ quando $t \\to \\infty$."
   ]
  },
  {
   "cell_type": "code",
   "execution_count": null,
   "metadata": {},
   "outputs": [],
   "source": [
    "# Exemplo\n",
    "Ta = 10\n",
    "T = [39.1262; 30.5367; 25.4514; 19.6129; 15.6515; 14.4767; 11.9281; 11.8655; 11.0895; 10.8207]\n",
    "t = [0.0; 1.0; 2.0; 3.0; 4.0; 5.0; 6.0; 7.0; 8.0; 9.0]\n",
    "scatter(t, T)\n",
    "plot!(t->Ta, c=:green, l=:dash)"
   ]
  },
  {
   "cell_type": "markdown",
   "metadata": {},
   "source": [
    "De uma maneira geral, podemos considerar um modelo $\\Phi(\\alpha,x) = \\alpha_1 \\phi_1(x) + \\dots + \\alpha_n \\phi_n(x)$ e considerar a minimização de\n",
    "$$E(\\alpha) = \\sum_{i=1}^m [y_i - \\Phi(\\alpha,x_i)]^2.$$\n",
    "No entanto, esse problema é bem mais complicado que o que vimos aqui."
   ]
  },
  {
   "cell_type": "markdown",
   "metadata": {},
   "source": [
    "Felizmente, alguns casos podem ser **linearizados**."
   ]
  },
  {
   "cell_type": "markdown",
   "metadata": {},
   "source": [
    "## Quadrados Mínimos Não-Lineares Linearizável"
   ]
  },
  {
   "cell_type": "markdown",
   "metadata": {},
   "source": [
    "Note o seguinte gráfico."
   ]
  },
  {
   "cell_type": "code",
   "execution_count": null,
   "metadata": {},
   "outputs": [],
   "source": [
    "scatter(t, T .- Ta, yaxis=:log)"
   ]
  },
  {
   "cell_type": "markdown",
   "metadata": {},
   "source": [
    "Ou seja, embora os dados $(t_i,T_i)$ não possam ser aproximados por uma reta, os dados $(t_i,\\ln (T_i - T_a))$ podem."
   ]
  },
  {
   "cell_type": "code",
   "execution_count": null,
   "metadata": {},
   "outputs": [],
   "source": [
    "A = [ones(10) t]\n",
    "α = (A'*A)\\(A'*log.(T .- Ta))\n",
    "scatter(t, log.(T .- Ta), c=:blue)\n",
    "plot!(t, α[1] .+ α[2] * t, c=:red, lw=2)"
   ]
  },
  {
   "cell_type": "markdown",
   "metadata": {},
   "source": [
    "Desse modo, estamos aproximando $\\ln(T_i - T_a) \\approx \\alpha_1 + \\alpha_2 t_i$, de modo que\n",
    "$$T(t) \\approx T_a + e^{\\alpha_1 + \\alpha_2 t_i}  = T_a + \\beta_1 e^{\\alpha_2 t_i}, $$\n",
    "onde $\\beta_1 = e^{\\alpha_1}$."
   ]
  },
  {
   "cell_type": "markdown",
   "metadata": {},
   "source": [
    "Mas se $\\alpha_1 + \\alpha_2 x_i \\approx \\log y_i$, então $y_i \\approx e^{\\alpha_1 + \\alpha_2 x_i}$."
   ]
  },
  {
   "cell_type": "code",
   "execution_count": null,
   "metadata": {},
   "outputs": [],
   "source": [
    "scatter(t, T, ms=3)\n",
    "plot!(t->Ta + exp.(α[1] + α[2] * t), c=:red, lw=2)"
   ]
  },
  {
   "cell_type": "markdown",
   "metadata": {},
   "source": [
    "De fato, esse modelo parece ajustar muito bem os dados."
   ]
  },
  {
   "cell_type": "markdown",
   "metadata": {},
   "source": [
    "Alguns dos modelos que podem ser linearizados estão abaixo:\n",
    "$$ f(x) = \\alpha_1e^{\\alpha_2 x} $$\n",
    "$$ f(x) = \\frac{1}{\\alpha_1 + \\alpha_2 x} $$\n",
    "$$ f(x) = \\alpha_1 x^{\\alpha_2} $$"
   ]
  },
  {
   "cell_type": "markdown",
   "metadata": {},
   "source": [
    "Por exemplo, no primeiro caso $f(x) = \\alpha_1e^{\\alpha_x 2}$, se $y_i \\approx f(x_i)$,\n",
    "então $\\ln y_i \\approx \\ln f(x_i)$.\n",
    "Mas\n",
    "$$ \\ln f(x) = \\ln \\alpha_1 + \\alpha_2 x. $$"
   ]
  },
  {
   "cell_type": "markdown",
   "metadata": {},
   "source": [
    "Isso quer dizer que $g(x) = \\beta_1 + \\beta_2 x$ é um modelo linear para\n",
    "$(x_i,\\ln y_i), i=1,\\dots,m$.\n",
    "Podemos resolver o problema com o que já foi implementado, por exemplo, e\n",
    "depois obter $\\alpha_1 = e^{\\beta_1}$ e $\\alpha_2 = \\beta_2$."
   ]
  },
  {
   "cell_type": "markdown",
   "metadata": {},
   "source": [
    "No caso $f(x) = \\alpha_1x^{\\alpha_2}$, a transformação também é $\\ln f(x)$, obtendo\n",
    "$$ \\ln f(x) = \\ln \\alpha_1 + \\alpha_2\\ln x, $$\n",
    "e aí $g(x) = \\beta_1 + \\beta_2\\ln x$ é um modelo para $(x_i,\\ln y_i)$, ou\n",
    "$h(x) = \\beta_1 + \\beta_2x$ é um modelo polinomial para $(\\ln x_i,\\ln y_i)$."
   ]
  },
  {
   "cell_type": "markdown",
   "metadata": {},
   "source": [
    "No caso $f(x) = \\dfrac{1}{\\alpha_1 + \\alpha_2 x}$, a transformação é $\\dfrac{1}{f(x)}$."
   ]
  },
  {
   "cell_type": "markdown",
   "metadata": {},
   "source": [
    "A pergunta nesses casos é, tendo os dados, como saber qual a linearização?\n",
    "Nesses casos, uma alternativa é tentar os gráficos das modificações.\n",
    "Além disso, algumas coisas proíbem alguns modelos. Em particular, se $x$ é negativo, então $\\log(x)$ é proibido. Se $y$ é negativo, então $\\log(y)$ é negativo."
   ]
  },
  {
   "cell_type": "code",
   "execution_count": null,
   "metadata": {},
   "outputs": [],
   "source": [
    "x = t\n",
    "y = T .- Ta"
   ]
  },
  {
   "cell_type": "code",
   "execution_count": null,
   "metadata": {},
   "outputs": [],
   "source": [
    "# Dados anteriores, do tipo αeᵝˣ\n",
    "scatter(x, log.(y), ms=3)"
   ]
  },
  {
   "cell_type": "code",
   "execution_count": null,
   "metadata": {
    "scrolled": false
   },
   "outputs": [],
   "source": [
    "scatter(x, 1 ./ y, ms=3) # Ruim"
   ]
  },
  {
   "cell_type": "code",
   "execution_count": null,
   "metadata": {},
   "outputs": [],
   "source": [
    "x = sort(rand(500)*3 .+ 1)\n",
    "y = 2.1*x.^(5.5) .* (1 .+ rand(500)*0.5)\n",
    "scatter(x, y, ms=3)"
   ]
  },
  {
   "cell_type": "code",
   "execution_count": null,
   "metadata": {},
   "outputs": [],
   "source": [
    "scatter(x, log.(y), ms=3)"
   ]
  },
  {
   "cell_type": "code",
   "execution_count": null,
   "metadata": {},
   "outputs": [],
   "source": [
    "scatter(log.(x), log.(y), ms=3)"
   ]
  },
  {
   "cell_type": "code",
   "execution_count": null,
   "metadata": {},
   "outputs": [],
   "source": [
    "scatter(x, 1 ./ y, ms=3)"
   ]
  },
  {
   "cell_type": "code",
   "execution_count": null,
   "metadata": {},
   "outputs": [],
   "source": [
    "x = sort(rand(500)*3 .+ 1)\n",
    "y = 1 ./ (3 .+ 8*x + rand(500)*0.5)\n",
    "scatter(x, y, ms=3)"
   ]
  },
  {
   "cell_type": "code",
   "execution_count": null,
   "metadata": {},
   "outputs": [],
   "source": [
    "scatter(x, log.(y), ms=3)"
   ]
  },
  {
   "cell_type": "code",
   "execution_count": null,
   "metadata": {},
   "outputs": [],
   "source": [
    "scatter(log.(x), log.(y), ms=3)"
   ]
  },
  {
   "cell_type": "code",
   "execution_count": null,
   "metadata": {},
   "outputs": [],
   "source": [
    "scatter(x, 1 ./ y, ms=3)"
   ]
  },
  {
   "cell_type": "code",
   "execution_count": null,
   "metadata": {},
   "outputs": [],
   "source": [
    "A = [ones(500) x]\n",
    "α = (A'*A)\\(A'*(1 ./ y))\n",
    "\n",
    "scatter(x, y, ms=3)\n",
    "plot!(x, 1 ./ (α[1] .+ α[2]*x), c=:red, lw=2)"
   ]
  },
  {
   "cell_type": "markdown",
   "metadata": {},
   "source": [
    "## Álgebra linear do problema de quadrados mínimos"
   ]
  },
  {
   "cell_type": "markdown",
   "metadata": {},
   "source": [
    "Como vimos, estamos minimizando $\\Vert Ax -b \\Vert$. Isso pode ser visto como $\\min \\Vert y -x\\Vert$ para $y \\in Im(A)$. Ou seja, estamos calculando a projeção de $b$ na imagem de $A$.\n",
    "\n",
    "Se $b = y + z$, com $y \\in Im(A)$, então $z \\perp Im(A)$. Mas, $Im(A)^{\\perp} = Nu(A^T)$, de modo que $z \\in Nu(A^T)$. Em outras palavras, $A^Tz = 0$. Como $y \\in Im(A)$, então existe $u$ tal que $y = Au$. Daí, temos\n",
    "$b = Au + z$ com $A^Tz = 0$.\n",
    "Sendo assim,\n",
    "$$\\Vert Ax - b\\Vert^2\n",
    "= \\Vert Ax - Au - z\\Vert^2\n",
    "= \\Vert A(x - u) - z\\Vert^2\n",
    "= \\Vert A(x - u)\\Vert^2 + \\Vert z\\Vert^2,\n",
    "$$\n",
    "onde a última igualdade segue de ortogonalidade.\n",
    "Portanto, a escolha que minimiza $\\Vert Ax - b\\Vert$, é $x = u$, já que $\\Vert z\\Vert$ não pode ser modificado pela escolha de $x$. Nisso, temos\n",
    "$$r = b - Ax = Au + z - Au = z,$$\n",
    "isto é, $r$ é a projeção ortogonal de $b$ no núcleo de $A^T$.\n",
    "\n",
    "Note que, apesar de intepretação da projeção ortogonal, a solução $x$ é o coeficiente dos vetores que gera a projeção."
   ]
  },
  {
   "cell_type": "markdown",
   "metadata": {},
   "source": [
    "## Exercícios"
   ]
  },
  {
   "cell_type": "markdown",
   "metadata": {},
   "source": [
    "- Faça os exercícios do capítulo 6 do livro Cálculo Numérico de Ruggiero e Lopes.\n",
    "\n",
    "- Mostre que a matriz $A^TA$ tem inversa se as colunas de $A$ forem linearmente independentes. Dica: Mostre que $\\mathcal{N}(A) = \\mathcal{N}(A^TA)$.\n",
    "\n",
    "- Modele os dados abaixo,\n",
    "   - Utilizando o modelo $\\varphi(x) = \\alpha_1 + \\alpha_2 \\sin(2\\pi t) + \\alpha_3 \\cos(2\\pi t)$;\n",
    "   - Utilizando o modelo $\\varphi(x) = \\alpha_1 + \\alpha_2 \\sin(2\\pi t) + \\alpha_3 \\cos(2\\pi t) + \\alpha_4 \\sin(4\\pi t) + \\alpha_5 \\cos(4\\pi t)$;\n",
    "   - Compare os dois ajustes.\n",
    "   \n",
    "| $x$ | 0.000 | 0.125 | 0.250 |  0.375 |  0.500 | 0.625 | 0.750 | 0.875 | 1.000 |\n",
    "|-|\n",
    "| $y$ | 7.500 | 6.200 | 2.700 | -0.800 | -0.500 | 1.600 | 4.100 | 6.500 | 7.200 |\n",
    "\n",
    "- [Nesta página](https://pt.wikipedia.org/wiki/Predefini%C3%A7%C3%A3o:Tabela_clim%C3%A1tica_de_Curitiba) encontram-se as temperaturas médias de Curitiba de vários anos. Ajuste esses dados."
   ]
  },
  {
   "cell_type": "markdown",
   "metadata": {},
   "source": [
    "- O problema de quadrados mínimos $\\min \\frac{1}{2}\\Vert Ax - b\\Vert^2$ pode ser visualizado como a projeção ortogonal de $b$ na imagem de $A$.\n",
    "  - O que acontece se $b$ está na imagem de $A$?\n",
    "  - O que acontece se $b$ é ortogonal à imagem de $A$?\n",
    "  - Qual seria o problema de quadrados mínimos para se encontrar a projeção ortogonal de $b$ na imagem de $A^T$?\n",
    "  - Como $Im(A)$ é um subespaço, podemos escrever $b$ como a soma de um elemento de $Im(A)$ e um elemento ortogonal à $Im(A)$. Mostre quem é a solução e o resíduo do problema de quadrados mínimos em função dessa separação d"
   ]
  },
  {
   "cell_type": "markdown",
   "metadata": {},
   "source": [
    "- Usando quadrados mínimos, encontre a projeção ortogonal de um vetor $v$ sobre outro vetor $w$.\n",
    "- O que acontece se a matriz $A$ tiver colunas ortogonais?\n",
    "- O que acontece se a matriz $A$ não tiver colunas linearmente independentes?"
   ]
  }
 ],
 "metadata": {
  "@webio": {
   "lastCommId": null,
   "lastKernelId": null
  },
  "kernelspec": {
   "display_name": "Julia 1.1.0",
   "language": "julia",
   "name": "julia-1.1"
  },
  "language_info": {
   "file_extension": ".jl",
   "mimetype": "application/julia",
   "name": "julia",
   "version": "1.1.0"
  }
 },
 "nbformat": 4,
 "nbformat_minor": 1
}
