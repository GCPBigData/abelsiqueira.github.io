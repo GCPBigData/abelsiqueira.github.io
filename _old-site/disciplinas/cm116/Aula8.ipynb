{
 "cells": [
  {
   "cell_type": "markdown",
   "metadata": {},
   "source": [
    "# Euler implicito\n",
    "\n",
    "$$ w_{i+1} = w_i + hf(t_{i+1,w_{i+1}) $$"
   ]
  },
  {
   "cell_type": "code",
   "execution_count": 16,
   "metadata": {
    "collapsed": false
   },
   "outputs": [],
   "source": [
    "# f(t,y) = y\n",
    "# w_{i+1} = w_i/(1-h)\n",
    "N = 5\n",
    "h = 1/N\n",
    "t = linspace(0, 1, N+1)\n",
    "y0 = 1\n",
    "w = zeros(N+1)\n",
    "w[1] = y0\n",
    "for i = 1:N\n",
    "    w[i+1] = w[i]/(1-h)\n",
    "end"
   ]
  },
  {
   "cell_type": "code",
   "execution_count": 22,
   "metadata": {
    "collapsed": false
   },
   "outputs": [
    {
     "data": {
      "text/plain": [
       "euler_explicito (generic function with 1 method)"
      ]
     },
     "execution_count": 22,
     "metadata": {},
     "output_type": "execute_result"
    }
   ],
   "source": [
    "# Retornando t e w para plotar\n",
    "function euler_explicito(f, t0, y0, tf; n = 10)\n",
    "    t = linspace(t0, tf, n+1) # ou t = 0.0:h:1.0\n",
    "    w = zeros(n+1) # Vetor\n",
    "    w[1] = y0\n",
    "    h = (tf-t0)/n\n",
    "\n",
    "    for i = 1:n\n",
    "        w[i+1] = w[i] + h*f(t[i],w[i])\n",
    "    end\n",
    "\n",
    "    return t, w\n",
    "end"
   ]
  },
  {
   "cell_type": "code",
   "execution_count": 17,
   "metadata": {
    "collapsed": false
   },
   "outputs": [],
   "source": [
    "using Winston"
   ]
  },
  {
   "cell_type": "code",
   "execution_count": 18,
   "metadata": {
    "collapsed": false
   },
   "outputs": [
    {
     "data": {
      "image/png": "[encoded data removed]",
      "text/plain": [
       "Winston.FramedPlot(...)"
      ]
     },
     "execution_count": 18,
     "metadata": {},
     "output_type": "execute_result"
    }
   ],
   "source": [
    "fplot(exp, [0, 1])\n",
    "oplot(t, w, \"r\")"
   ]
  },
  {
   "cell_type": "code",
   "execution_count": 20,
   "metadata": {
    "collapsed": false
   },
   "outputs": [
    {
     "data": {
      "text/plain": [
       "euler_implicito (generic function with 1 method)"
      ]
     },
     "execution_count": 20,
     "metadata": {},
     "output_type": "execute_result"
    }
   ],
   "source": [
    "# Retornando t e w para plotar\n",
    "function euler_implicito(f, t0, y0, tf; n = 10)\n",
    "    t = linspace(t0, tf, n+1) # ou t = 0.0:h:1.0\n",
    "    w = zeros(n+1) # Vetor\n",
    "    w[1] = y0\n",
    "    h = (tf-t0)/n\n",
    "\n",
    "    for i = 1:n\n",
    "        ψ(x) = w[i] + h*f(t[i+1],x)\n",
    "        w[i+1] = w[i]\n",
    "        θ = Inf\n",
    "        while abs(w[i+1] - θ) > 1e-4\n",
    "            θ = w[i+1]\n",
    "            w[i+1] = ψ(θ)\n",
    "        end\n",
    "    end\n",
    "\n",
    "    return t, w\n",
    "end"
   ]
  },
  {
   "cell_type": "code",
   "execution_count": 26,
   "metadata": {
    "collapsed": false
   },
   "outputs": [
    {
     "name": "stdout",
     "output_type": "stream",
     "text": [
      "y(1) ≈ 2.704813829421526\n",
      "Eeuler = 0.013467999037519274\n",
      "y(1) ≈ 2.7319935897549916\n",
      "Eimpl = -0.013711761295946534\n"
     ]
    }
   ],
   "source": [
    "f(t,y) = y\n",
    "t0 = 0\n",
    "y0 = 1\n",
    "tf = 1\n",
    "y(t) = exp(t)\n",
    "# Quero y(1)\n",
    "# Solucao: y(t) = exp(t)\n",
    "teuler, weuler = euler_explicito(f, t0, y0, tf, n = 100);\n",
    "println(\"y(1) ≈ $(weuler[end])\")\n",
    "println(\"Eeuler = $(y(1) - weuler[end])\")\n",
    "timpl, wimpl = euler_implicito(f, t0, y0, tf, n = 100);\n",
    "println(\"y(1) ≈ $(wimpl[end])\")\n",
    "println(\"Eimpl = $(y(1) - wimpl[end])\")"
   ]
  },
  {
   "cell_type": "code",
   "execution_count": 42,
   "metadata": {
    "collapsed": false
   },
   "outputs": [
    {
     "data": {
      "text/plain": [
       "euler_explicito (generic function with 1 method)"
      ]
     },
     "execution_count": 42,
     "metadata": {},
     "output_type": "execute_result"
    }
   ],
   "source": [
    "# Retornando t e w para plotar\n",
    "function euler_explicito(f, t0, y0, tf; n = 10)\n",
    "    t = linspace(t0, tf, n+1) # ou t = 0.0:h:1.0\n",
    "    if length(y0) == 1\n",
    "        w = zeros(n+1) # Vetor\n",
    "    else\n",
    "        w = zeros(n+1,length(y0))\n",
    "    end\n",
    "    w[1,:] = y0\n",
    "    h = (tf-t0)/n\n",
    "\n",
    "    for i = 1:n\n",
    "        w[i+1,:] = w[i,:][:] + h*f(t[i],w[i,:])\n",
    "    end\n",
    "\n",
    "    return t, w\n",
    "end"
   ]
  },
  {
   "cell_type": "code",
   "execution_count": 44,
   "metadata": {
    "collapsed": false
   },
   "outputs": [
    {
     "data": {
      "text/plain": [
       "1"
      ]
     },
     "execution_count": 44,
     "metadata": {},
     "output_type": "execute_result"
    }
   ],
   "source": [
    "# Sistema dinamico\n",
    "# x' = -y\n",
    "# y' = x\n",
    "# f(x,y,t) = -y\n",
    "# g(x,y,t) = x\n",
    "f(t,Y) =[-Y[2]; Y[1]]\n",
    "Y0 = [1.0; 1.0]\n",
    "t0 = 0\n",
    "tf = 1"
   ]
  },
  {
   "cell_type": "code",
   "execution_count": 47,
   "metadata": {
    "collapsed": false
   },
   "outputs": [
    {
     "data": {
      "image/png": "[encoded data removed]",
      "text/plain": [
       "Winston.FramedPlot(...)"
      ]
     },
     "execution_count": 47,
     "metadata": {},
     "output_type": "execute_result"
    }
   ],
   "source": [
    "t, W = euler_explicito(f, t0, Y0, tf; n = 100);\n",
    "plot(W[:,1], W[:,2])"
   ]
  },
  {
   "cell_type": "code",
   "execution_count": null,
   "metadata": {
    "collapsed": true
   },
   "outputs": [],
   "source": [
    "x ="
   ]
  }
 ],
 "metadata": {
  "kernelspec": {
   "display_name": "Julia 0.4.3",
   "language": "julia",
   "name": "julia-0.4"
  },
  "language_info": {
   "file_extension": ".jl",
   "mimetype": "application/julia",
   "name": "julia",
   "version": "0.4.3"
  }
 },
 "nbformat": 4,
 "nbformat_minor": 0
}
