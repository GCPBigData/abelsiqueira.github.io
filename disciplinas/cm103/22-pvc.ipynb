{
 "cells": [
  {
   "cell_type": "markdown",
   "metadata": {},
   "source": [
    "## Problemas de Valor de Contorno\n",
    "\n",
    "Os problemas de Valor de Contorno ainda são problemas de equações diferencias.\n",
    "No entanto, nestes problemas as condições sobre a solução são nos extremos do\n",
    "intervalo de validade da equação.\n",
    "\n",
    "Por exemplo,\n",
    "\n",
    "$$ y'' - 3y' + 2y = 2x + 1, \\quad 0 < x < 1, \\qquad y(0) = 1, \\quad y(1) = 2. $$"
   ]
  },
  {
   "cell_type": "markdown",
   "metadata": {},
   "source": [
    "## Método das Diferenças Finitas\n",
    "\n",
    "Vamos resolver esse problema pelo chamado Método das Diferenças Finitas.\n",
    "Inicialmente, consideramos a discretização do intervalo de trabalho.\n",
    "\n",
    "$$ a = x_1 < \\dots < x_m = b, $$\n",
    "\n",
    "onde cada ponto é igualmente espaçado, isto é $h = x_{i+1}-x_i = \\dfrac{b-a}{m-1}$."
   ]
  },
  {
   "cell_type": "markdown",
   "metadata": {},
   "source": [
    "Vamos encontrar aproximações para os valores de $y(x_i)$, qu chamaremos de $w_i$."
   ]
  },
  {
   "cell_type": "markdown",
   "metadata": {},
   "source": [
    "O MDF consiste em aproximar as derivadas de $y$ em $x_i$ por combinações de $w_j$ para alguns $j$ ao redor de $i$.\n",
    "Essa aproximação é feita utilizando a fórmula de Taylor da função $y$ de pontos ao redor de $x_i$ em torno de $x_i$."
   ]
  },
  {
   "cell_type": "markdown",
   "metadata": {},
   "source": [
    "Por exemplo,\n",
    "\n",
    "$$ y(x + h) = y(x) + hy'(x) + \\frac{h^2}{2}y''(x) + \\frac{h^3}{6}y'''(x) + \\frac{h^4}{24}y^{(iv)}(x) + O(h^5). $$"
   ]
  },
  {
   "cell_type": "markdown",
   "metadata": {},
   "source": [
    "Isso quer dizer que,\n",
    "\n",
    "$$ y'(x) = \\frac{y(x+h) - y(x)}{h} - \\frac{h}{2}y''(x) + O(h^2). $$"
   ]
  },
  {
   "cell_type": "markdown",
   "metadata": {},
   "source": [
    "Portanto, podemos aproximar $y'(x_i)$ por\n",
    "$$ \\frac{y(t_i + h) - y(t_i)}{h}. $$"
   ]
  },
  {
   "cell_type": "markdown",
   "metadata": {},
   "source": [
    "O erro dessa aproximação é $-\\frac{h}{2}y''(x_i) + O(h^2)$, ou seja, depende principalmente de $h$. Portanto, dizemos que o erro é de ordem 1."
   ]
  },
  {
   "cell_type": "markdown",
   "metadata": {},
   "source": [
    "Essa aproximação é dita diferença **avançada**."
   ]
  },
  {
   "cell_type": "markdown",
   "metadata": {},
   "source": [
    "Outras aproximações podem ser obitadas:"
   ]
  },
  {
   "cell_type": "markdown",
   "metadata": {},
   "source": [
    "$$ y(x - h) = y(x) - hy'(x) + \\frac{h^2}{2}y''(x) - \\frac{h^3}{6}y'''(x) + \\frac{h^4}{24}y^{(iv)}(x) + O(h^5). $$"
   ]
  },
  {
   "cell_type": "markdown",
   "metadata": {},
   "source": [
    "Diferença **atrasada**:\n",
    "$$ y'(x_i) = \\frac{y(x_i) - y(x_i - h)}{h} + \\frac{h}{2}y''(x_i) + O(h^2). $$\n",
    "Também de ordem 1."
   ]
  },
  {
   "cell_type": "markdown",
   "metadata": {},
   "source": [
    "Note que essas diferenças podem ser manipuladas para melhorar o erro."
   ]
  },
  {
   "cell_type": "markdown",
   "metadata": {},
   "source": [
    "$$ y(x+h) - y(x-h) = 2hy'(x) + \\frac{h^3}{3}y'''(x) + O(h^5). $$"
   ]
  },
  {
   "cell_type": "markdown",
   "metadata": {},
   "source": [
    "Obtemos assim a diferença **centrada**:\n",
    "$$ y'(x_i) = \\frac{y(x_i+h) - y(x_i-h)}{2h} - \\frac{h^2}{3}y'''(x_i) + O(h^4). $$"
   ]
  },
  {
   "cell_type": "markdown",
   "metadata": {},
   "source": [
    "Essa diferença tem ordem 2, sendo mais indicada que as outras duas, quando possível."
   ]
  },
  {
   "cell_type": "markdown",
   "metadata": {},
   "source": [
    "É possível continuar combinando aproximações de Taylor para eliminar outras derivadas. Por exemplo, podemos calcular $y(x+2h)$ e $y(x-2h)$ para remover alguns termos de ordem superior. Não faremos isso agora."
   ]
  },
  {
   "cell_type": "markdown",
   "metadata": {},
   "source": [
    "As aproximações acima foram todas para a primeira derivada. Precisamos de uma aproximação para a segunda derivada agora.\n",
    "Note que não queremos a primeira derivada na fórmula da nossa segunda derivada. Então precisamos eliminar a primeira derivada combinando as expansões de Taylor."
   ]
  },
  {
   "cell_type": "markdown",
   "metadata": {},
   "source": [
    "$$ y(x+h) + y(x-h) = 2y(x) + h^2y''(x) + \\frac{h^4}{12}y^{(iv)}(x) + O(h^6). $$\n",
    "(O $h^6$ vem de uma expansão a mais que não fizemos.)"
   ]
  },
  {
   "cell_type": "markdown",
   "metadata": {},
   "source": [
    "Com essa expansão, temos\n",
    "$$ y''(x_i) = \\frac{y(x_i+h) - 2y(x_i) + y(x_i-h)}{h^2} - \\frac{h^2}{12}y^{(iv)}(x_i) + O(h^4), $$\n",
    "que é uma fórmula de ordem 2 para a segunda derivada."
   ]
  },
  {
   "cell_type": "markdown",
   "metadata": {},
   "source": [
    "Note que cada $y(x_i)$ é aproximado por $w_i$, então temos\n",
    "\n",
    "$$ w_i \\approx y(x_i), \\qquad w_{i+1} \\approx y(x_i+h), \\qquad w_{i-1} \\approx y(x_i-h). $$"
   ]
  },
  {
   "cell_type": "markdown",
   "metadata": {},
   "source": [
    "No nosso exemplo, vamos utilizar as fórmulas centradas, de modo que\n",
    "$$ y'(x_i) \\approx \\frac{w_{i+1}-w_{i-1}}{2h} \\qquad\n",
    "y''(x_i) \\approx \\frac{w_{i+1}-2w_i+w_{i-1}}{h^2}. $$"
   ]
  },
  {
   "cell_type": "markdown",
   "metadata": {},
   "source": [
    "Substituindo em $y'' - 3y' + 2y = x^2 + 1$, obtemos\n",
    "$$ \\frac{w_{i+1} - 2w_i + w_{i-1}}{h^2} - 3\\frac{w_{i+1} - w_{i-1}}{2h} + 2w_i = 2x_i + 1, $$"
   ]
  },
  {
   "cell_type": "markdown",
   "metadata": {},
   "source": [
    "$$ (2-3h)w_{i+1} + (4h^2 - 4)w_i + (2 + 3h)w_{i-1} = 2h^2(2x_i + 1). $$"
   ]
  },
  {
   "cell_type": "markdown",
   "metadata": {},
   "source": [
    "Note que isso nos dá várias equações, variando o $i$.\n",
    "Como temos $w_1, \\dots, w_m$, podemos ter $i = 2, \\dots, m-1$.\n",
    "Isso quer dizer, no entanto, que não temos equações suficientes para resolver o problema.\n",
    "**Mas espere, tem mais.**\n",
    "As condições de contorno do problema também precisam ser utilizadas:\n",
    "\n",
    "$$ y(0) = e+3 \\qquad \\Rightarrow \\qquad w_1 = e+3, $$\n",
    "e\n",
    "$$ y(1) = 2e^2 + 4 \\qquad \\Rightarrow \\quad w_m = 2e^2 + 4. $$"
   ]
  },
  {
   "cell_type": "markdown",
   "metadata": {},
   "source": [
    "Agora temos um sistema, para qualquer valor de $m$ (ou $h$) que escolhermos.\n",
    "Em geral, vamos substituir essas condições no sistema geral acima.\n",
    "\n",
    "Para $i = 2$, temos\n",
    "$$ (2 - 3h)w_2 + (4h^2 - 4)w_1 + (2 + 3h)w_0 = 2h^2(2x_i + 1), $$\n",
    "que vira\n",
    "$$ (2 - 3h)w_2 + (4h^2 - 4)w_1 = -(2 + 3h)(e^2+3) + 2h^2(2x_i + 1), $$"
   ]
  },
  {
   "cell_type": "markdown",
   "metadata": {},
   "source": [
    "Para $h = 0.25$, isto é, $m = 5$, temos"
   ]
  },
  {
   "cell_type": "code",
   "execution_count": 1,
   "metadata": {
    "collapsed": false
   },
   "outputs": [
    {
     "data": {
      "text/plain": [
       "Plots.GRBackend()"
      ]
     },
     "execution_count": 1,
     "metadata": {},
     "output_type": "execute_result"
    }
   ],
   "source": [
    "using Plots\n",
    "gr()"
   ]
  },
  {
   "cell_type": "code",
   "execution_count": 3,
   "metadata": {
    "collapsed": false
   },
   "outputs": [
    {
     "name": "stderr",
     "output_type": "stream",
     "text": [
      "WARNING: Method definition sol(Any) in module Main at In[2]:5 overwritten at In[3]:5.\n"
     ]
    },
    {
     "data": {
      "text/html": [
       "<?xml version=\"1.0\" encoding=\"utf-8\"?>\n",
       "<svg xmlns=\"http://www.w3.org/2000/svg\" xmlns:xlink=\"http://www.w3.org/1999/xlink\" width=\"600\" height=\"400\" viewBox=\"0 0 600 400\">\n",
       "<defs>\n",
       "  <clipPath id=\"clip00\">\n",
       "    <rect x=\"0\" y=\"0\" width=\"600\" height=\"400\"/>\n",
       "  </clipPath>\n",
       "</defs>\n",
       "<polygon clip-path=\"url(#clip00)\" points=\"\n",
       "0,400 600,400 600,0 0,0 \n",
       "  \" fill=\"#ffffff\" fill-opacity=\"1\"/>\n",
       "<defs>\n",
       "  <clipPath id=\"clip01\">\n",
       "    <rect x=\"120\" y=\"0\" width=\"421\" height=\"400\"/>\n",
       "  </clipPath>\n",
       "</defs>\n",
       "<polygon clip-path=\"url(#clip00)\" points=\"\n",
       "25.6518,381.015 596.063,381.015 596.063,3.93701 25.6518,3.93701 \n",
       "  \" fill=\"#ffffff\" fill-opacity=\"1\"/>\n",
       "<defs>\n",
       "  <clipPath id=\"clip02\">\n",
       "    <rect x=\"25\" y=\"3\" width=\"571\" height=\"378\"/>\n",
       "  </clipPath>\n",
       "</defs>\n",
       "<polyline clip-path=\"url(#clip02)\" style=\"stroke:#00002d; stroke-width:0.8; stroke-opacity:0.5; fill:none\" stroke-dasharray=\"1, 2\" points=\"\n",
       "  25.6518,375.359 25.6518,9.59318 \n",
       "  \"/>\n",
       "<polyline clip-path=\"url(#clip02)\" style=\"stroke:#00002d; stroke-width:0.8; stroke-opacity:0.5; fill:none\" stroke-dasharray=\"1, 2\" points=\"\n",
       "  139.734,375.359 139.734,9.59318 \n",
       "  \"/>\n",
       "<polyline clip-path=\"url(#clip02)\" style=\"stroke:#00002d; stroke-width:0.8; stroke-opacity:0.5; fill:none\" stroke-dasharray=\"1, 2\" points=\"\n",
       "  253.816,375.359 253.816,9.59318 \n",
       "  \"/>\n",
       "<polyline clip-path=\"url(#clip02)\" style=\"stroke:#00002d; stroke-width:0.8; stroke-opacity:0.5; fill:none\" stroke-dasharray=\"1, 2\" points=\"\n",
       "  367.899,375.359 367.899,9.59318 \n",
       "  \"/>\n",
       "<polyline clip-path=\"url(#clip02)\" style=\"stroke:#00002d; stroke-width:0.8; stroke-opacity:0.5; fill:none\" stroke-dasharray=\"1, 2\" points=\"\n",
       "  481.981,375.359 481.981,9.59318 \n",
       "  \"/>\n",
       "<polyline clip-path=\"url(#clip02)\" style=\"stroke:#00002d; stroke-width:0.8; stroke-opacity:0.5; fill:none\" stroke-dasharray=\"1, 2\" points=\"\n",
       "  596.063,375.359 596.063,9.59318 \n",
       "  \"/>\n",
       "<polyline clip-path=\"url(#clip02)\" style=\"stroke:#00002d; stroke-width:0.8; stroke-opacity:0.5; fill:none\" stroke-dasharray=\"1, 2\" points=\"\n",
       "  34.208,247.137 587.507,247.137 \n",
       "  \"/>\n",
       "<polyline clip-path=\"url(#clip02)\" style=\"stroke:#00002d; stroke-width:0.8; stroke-opacity:0.5; fill:none\" stroke-dasharray=\"1, 2\" points=\"\n",
       "  34.208,90.801 587.507,90.801 \n",
       "  \"/>\n",
       "<polyline clip-path=\"url(#clip02)\" style=\"stroke:#00002d; stroke-width:0.8; stroke-opacity:1; fill:none\" points=\"\n",
       "  25.6518,381.015 596.063,381.015 \n",
       "  \"/>\n",
       "<polyline clip-path=\"url(#clip02)\" style=\"stroke:#00002d; stroke-width:0.8; stroke-opacity:1; fill:none\" points=\"\n",
       "  25.6518,381.015 25.6518,375.359 \n",
       "  \"/>\n",
       "<polyline clip-path=\"url(#clip02)\" style=\"stroke:#00002d; stroke-width:0.8; stroke-opacity:1; fill:none\" points=\"\n",
       "  139.734,381.015 139.734,375.359 \n",
       "  \"/>\n",
       "<polyline clip-path=\"url(#clip02)\" style=\"stroke:#00002d; stroke-width:0.8; stroke-opacity:1; fill:none\" points=\"\n",
       "  253.816,381.015 253.816,375.359 \n",
       "  \"/>\n",
       "<polyline clip-path=\"url(#clip02)\" style=\"stroke:#00002d; stroke-width:0.8; stroke-opacity:1; fill:none\" points=\"\n",
       "  367.899,381.015 367.899,375.359 \n",
       "  \"/>\n",
       "<polyline clip-path=\"url(#clip02)\" style=\"stroke:#00002d; stroke-width:0.8; stroke-opacity:1; fill:none\" points=\"\n",
       "  481.981,381.015 481.981,375.359 \n",
       "  \"/>\n",
       "<polyline clip-path=\"url(#clip02)\" style=\"stroke:#00002d; stroke-width:0.8; stroke-opacity:1; fill:none\" points=\"\n",
       "  596.063,381.015 596.063,375.359 \n",
       "  \"/>\n",
       "<polyline clip-path=\"url(#clip02)\" style=\"stroke:#00002d; stroke-width:0.8; stroke-opacity:1; fill:none\" points=\"\n",
       "  25.6518,381.015 25.6518,3.93701 \n",
       "  \"/>\n",
       "<polyline clip-path=\"url(#clip02)\" style=\"stroke:#00002d; stroke-width:0.8; stroke-opacity:1; fill:none\" points=\"\n",
       "  25.6518,247.137 34.208,247.137 \n",
       "  \"/>\n",
       "<polyline clip-path=\"url(#clip02)\" style=\"stroke:#00002d; stroke-width:0.8; stroke-opacity:1; fill:none\" points=\"\n",
       "  25.6518,90.801 34.208,90.801 \n",
       "  \"/>\n",
       "<g clip-path=\"url(#clip00)\">\n",
       "<text style=\"fill:#00002d; fill-opacity:1; font-family:Arial,Helvetica Neue,Helvetica,sans-serif; font-size:12; text-anchor:middle;\" transform=\"rotate(0, 25.6518, 393.015)\" x=\"25.6518\" y=\"393.015\">0.0</text>\n",
       "</g>\n",
       "<g clip-path=\"url(#clip00)\">\n",
       "<text style=\"fill:#00002d; fill-opacity:1; font-family:Arial,Helvetica Neue,Helvetica,sans-serif; font-size:12; text-anchor:middle;\" transform=\"rotate(0, 139.734, 393.015)\" x=\"139.734\" y=\"393.015\">0.2</text>\n",
       "</g>\n",
       "<g clip-path=\"url(#clip00)\">\n",
       "<text style=\"fill:#00002d; fill-opacity:1; font-family:Arial,Helvetica Neue,Helvetica,sans-serif; font-size:12; text-anchor:middle;\" transform=\"rotate(0, 253.816, 393.015)\" x=\"253.816\" y=\"393.015\">0.4</text>\n",
       "</g>\n",
       "<g clip-path=\"url(#clip00)\">\n",
       "<text style=\"fill:#00002d; fill-opacity:1; font-family:Arial,Helvetica Neue,Helvetica,sans-serif; font-size:12; text-anchor:middle;\" transform=\"rotate(0, 367.899, 393.015)\" x=\"367.899\" y=\"393.015\">0.6</text>\n",
       "</g>\n",
       "<g clip-path=\"url(#clip00)\">\n",
       "<text style=\"fill:#00002d; fill-opacity:1; font-family:Arial,Helvetica Neue,Helvetica,sans-serif; font-size:12; text-anchor:middle;\" transform=\"rotate(0, 481.981, 393.015)\" x=\"481.981\" y=\"393.015\">0.8</text>\n",
       "</g>\n",
       "<g clip-path=\"url(#clip00)\">\n",
       "<text style=\"fill:#00002d; fill-opacity:1; font-family:Arial,Helvetica Neue,Helvetica,sans-serif; font-size:12; text-anchor:middle;\" transform=\"rotate(0, 596.063, 393.015)\" x=\"596.063\" y=\"393.015\">1.0</text>\n",
       "</g>\n",
       "<g clip-path=\"url(#clip00)\">\n",
       "<text style=\"fill:#00002d; fill-opacity:1; font-family:Arial,Helvetica Neue,Helvetica,sans-serif; font-size:12; text-anchor:end;\" transform=\"rotate(0, 24.4518, 251.637)\" x=\"24.4518\" y=\"251.637\">10</text>\n",
       "</g>\n",
       "<g clip-path=\"url(#clip00)\">\n",
       "<text style=\"fill:#00002d; fill-opacity:1; font-family:Arial,Helvetica Neue,Helvetica,sans-serif; font-size:12; text-anchor:end;\" transform=\"rotate(0, 24.4518, 95.301)\" x=\"24.4518\" y=\"95.301\">15</text>\n",
       "</g>\n",
       "<polyline clip-path=\"url(#clip02)\" style=\"stroke:#0000ff; stroke-width:0.8; stroke-opacity:1; fill:none\" points=\"\n",
       "  25.6518,381.015 31.4135,379.198 37.1753,377.36 42.937,375.499 48.6987,373.616 54.4604,371.71 60.2222,369.78 65.9839,367.827 71.7456,365.85 77.5074,363.849 \n",
       "  83.2691,361.823 89.0308,359.772 94.7925,357.695 100.554,355.592 106.316,353.462 112.078,351.306 117.839,349.122 123.601,346.91 129.363,344.67 135.125,342.402 \n",
       "  140.886,340.104 146.648,337.776 152.41,335.418 158.172,333.03 163.933,330.61 169.695,328.158 175.457,325.674 181.218,323.157 186.98,320.607 192.742,318.023 \n",
       "  198.504,315.404 204.265,312.751 210.027,310.061 215.789,307.335 221.551,304.572 227.312,301.772 233.074,298.933 238.836,296.055 244.598,293.138 250.359,290.181 \n",
       "  256.121,287.183 261.883,284.143 267.644,281.06 273.406,277.935 279.168,274.766 284.93,271.552 290.691,268.293 296.453,264.988 302.215,261.636 307.977,258.236 \n",
       "  313.738,254.788 319.5,251.29 325.262,247.742 331.023,244.143 336.785,240.492 342.547,236.788 348.309,233.03 354.07,229.217 359.832,225.348 365.594,221.423 \n",
       "  371.356,217.439 377.117,213.397 382.879,209.296 388.641,205.133 394.402,200.908 400.164,196.621 405.926,192.269 411.688,187.852 417.449,183.368 423.211,178.817 \n",
       "  428.973,174.197 434.735,169.506 440.496,164.745 446.258,159.911 452.02,155.003 457.781,150.02 463.543,144.96 469.305,139.822 475.067,134.605 480.828,129.307 \n",
       "  486.59,123.927 492.352,118.464 498.114,112.915 503.875,107.279 509.637,101.555 515.399,95.7412 521.161,89.8358 526.922,83.8372 532.684,77.7437 538.446,71.5537 \n",
       "  544.207,65.2653 549.969,58.8768 555.731,52.3862 561.493,45.7919 567.254,39.0919 573.016,32.2842 578.778,25.3669 584.54,18.3379 590.301,11.1953 596.063,3.93701 \n",
       "  \n",
       "  \"/>\n",
       "<polyline clip-path=\"url(#clip02)\" style=\"stroke:#ff0000; stroke-width:0.8; stroke-opacity:1; fill:none\" points=\"\n",
       "  25.6518,381.015 168.255,329.942 310.857,258.865 453.46,156.432 596.063,3.93701 \n",
       "  \"/>\n",
       "<polygon clip-path=\"url(#clip00)\" points=\"\n",
       "505.547,70.177 578.063,70.177 578.063,24.817 505.547,24.817 \n",
       "  \" fill=\"#ffffff\" fill-opacity=\"1\"/>\n",
       "<polyline clip-path=\"url(#clip00)\" style=\"stroke:#00002d; stroke-width:0.8; stroke-opacity:1; fill:none\" points=\"\n",
       "  505.547,70.177 578.063,70.177 578.063,24.817 505.547,24.817 505.547,70.177 \n",
       "  \"/>\n",
       "<polyline clip-path=\"url(#clip00)\" style=\"stroke:#0000ff; stroke-width:0.8; stroke-opacity:1; fill:none\" points=\"\n",
       "  511.547,39.937 547.547,39.937 \n",
       "  \"/>\n",
       "<g clip-path=\"url(#clip00)\">\n",
       "<text style=\"fill:#00002d; fill-opacity:1; font-family:Arial,Helvetica Neue,Helvetica,sans-serif; font-size:12; text-anchor:start;\" transform=\"rotate(0, 553.547, 44.437)\" x=\"553.547\" y=\"44.437\">y1</text>\n",
       "</g>\n",
       "<polyline clip-path=\"url(#clip00)\" style=\"stroke:#ff0000; stroke-width:0.8; stroke-opacity:1; fill:none\" points=\"\n",
       "  511.547,55.057 547.547,55.057 \n",
       "  \"/>\n",
       "<g clip-path=\"url(#clip00)\">\n",
       "<text style=\"fill:#00002d; fill-opacity:1; font-family:Arial,Helvetica Neue,Helvetica,sans-serif; font-size:12; text-anchor:start;\" transform=\"rotate(0, 553.547, 59.557)\" x=\"553.547\" y=\"59.557\">y2</text>\n",
       "</g>\n",
       "</svg>\n"
      ]
     },
     "execution_count": 3,
     "metadata": {},
     "output_type": "execute_result"
    }
   ],
   "source": [
    "h = 0.25 # w_2, w_3, w_4\n",
    "A = [4h^2-4  2-3h  0.0; 2+3h  4h^2-4  2-3h; 0.0  2+3h  4h^2-4]\n",
    "b = 2*h^2*( 2*[h; 2h; 3h] + 1) - [(2+3h)*(e+3); 0.0; (2-3h)*(2e^2+3)]\n",
    "w = [e+3; A\\b; 2e^2+3]\n",
    "sol(x) = exp(x+1) + exp(2x) + x + 2\n",
    "plot(sol, 0, 1, c=:blue)\n",
    "plot!(linspace(0, 1, 5), w, c=:red)"
   ]
  },
  {
   "cell_type": "markdown",
   "metadata": {},
   "source": [
    "# Exercícios\n",
    "\n",
    "- Fazer o exercício acima como uma função que recebe $m$ e retorna $x$ e $w$.\n",
    "- Fazer para um caso geral\n",
    "\n",
    "$$y'' + p(x)y'(x) + q(x)y(x) = g(x), \\quad a < x < b\n",
    "\\qquad y(a) = \\alpha, \\quad y(b) = \\beta. $$\n",
    "- Escolha três equações diferencias do tipo acima e faça gráficos comparando\n",
    "a solução exata com a aproximada."
   ]
  },
  {
   "cell_type": "markdown",
   "metadata": {},
   "source": [
    "## Condições de contorno com a derivada\n",
    "\n",
    "Um caso um pouco mais complicado que pode aparecer é quando a condição de contorno envolve um derivada.\n",
    "Esse caso não é nada raro, mas o tratamento é levemente diferenciado.\n",
    "\n",
    "Vamos considerar uma barra de metal homogênea isolada termicamente em uma das extremidades e com uma temperatura fixa na outra, dissipando calor e sendo aquecida no seu centro.\n",
    "\n",
    "Vamos considerar que ela tem comprimento $1$, e que o aquecimento em seu centro é dado pela função\n",
    "$$f(x) = 20e^{-100(x-\\frac{1}{2})^2}$$"
   ]
  },
  {
   "cell_type": "code",
   "execution_count": 18,
   "metadata": {
    "collapsed": false
   },
   "outputs": [
    {
     "data": {
      "text/html": [
       "<?xml version=\"1.0\" encoding=\"utf-8\"?>\n",
       "<svg xmlns=\"http://www.w3.org/2000/svg\" xmlns:xlink=\"http://www.w3.org/1999/xlink\" width=\"600\" height=\"400\" viewBox=\"0 0 600 400\">\n",
       "<defs>\n",
       "  <clipPath id=\"clip00\">\n",
       "    <rect x=\"0\" y=\"0\" width=\"600\" height=\"400\"/>\n",
       "  </clipPath>\n",
       "</defs>\n",
       "<polygon clip-path=\"url(#clip00)\" points=\"\n",
       "0,400 600,400 600,0 0,0 \n",
       "  \" fill=\"#ffffff\" fill-opacity=\"1\"/>\n",
       "<defs>\n",
       "  <clipPath id=\"clip01\">\n",
       "    <rect x=\"120\" y=\"0\" width=\"421\" height=\"400\"/>\n",
       "  </clipPath>\n",
       "</defs>\n",
       "<polygon clip-path=\"url(#clip00)\" points=\"\n",
       "25.6518,381.015 596.063,381.015 596.063,3.93701 25.6518,3.93701 \n",
       "  \" fill=\"#ffffff\" fill-opacity=\"1\"/>\n",
       "<defs>\n",
       "  <clipPath id=\"clip02\">\n",
       "    <rect x=\"25\" y=\"3\" width=\"571\" height=\"378\"/>\n",
       "  </clipPath>\n",
       "</defs>\n",
       "<polyline clip-path=\"url(#clip02)\" style=\"stroke:#00002d; stroke-width:0.8; stroke-opacity:0.5; fill:none\" stroke-dasharray=\"1, 2\" points=\"\n",
       "  25.6518,375.359 25.6518,9.59318 \n",
       "  \"/>\n",
       "<polyline clip-path=\"url(#clip02)\" style=\"stroke:#00002d; stroke-width:0.8; stroke-opacity:0.5; fill:none\" stroke-dasharray=\"1, 2\" points=\"\n",
       "  139.734,375.359 139.734,9.59318 \n",
       "  \"/>\n",
       "<polyline clip-path=\"url(#clip02)\" style=\"stroke:#00002d; stroke-width:0.8; stroke-opacity:0.5; fill:none\" stroke-dasharray=\"1, 2\" points=\"\n",
       "  253.816,375.359 253.816,9.59318 \n",
       "  \"/>\n",
       "<polyline clip-path=\"url(#clip02)\" style=\"stroke:#00002d; stroke-width:0.8; stroke-opacity:0.5; fill:none\" stroke-dasharray=\"1, 2\" points=\"\n",
       "  367.899,375.359 367.899,9.59318 \n",
       "  \"/>\n",
       "<polyline clip-path=\"url(#clip02)\" style=\"stroke:#00002d; stroke-width:0.8; stroke-opacity:0.5; fill:none\" stroke-dasharray=\"1, 2\" points=\"\n",
       "  481.981,375.359 481.981,9.59318 \n",
       "  \"/>\n",
       "<polyline clip-path=\"url(#clip02)\" style=\"stroke:#00002d; stroke-width:0.8; stroke-opacity:0.5; fill:none\" stroke-dasharray=\"1, 2\" points=\"\n",
       "  596.063,375.359 596.063,9.59318 \n",
       "  \"/>\n",
       "<polyline clip-path=\"url(#clip02)\" style=\"stroke:#00002d; stroke-width:0.8; stroke-opacity:0.5; fill:none\" stroke-dasharray=\"1, 2\" points=\"\n",
       "  34.208,286.505 587.507,286.505 \n",
       "  \"/>\n",
       "<polyline clip-path=\"url(#clip02)\" style=\"stroke:#00002d; stroke-width:0.8; stroke-opacity:0.5; fill:none\" stroke-dasharray=\"1, 2\" points=\"\n",
       "  34.208,191.994 587.507,191.994 \n",
       "  \"/>\n",
       "<polyline clip-path=\"url(#clip02)\" style=\"stroke:#00002d; stroke-width:0.8; stroke-opacity:0.5; fill:none\" stroke-dasharray=\"1, 2\" points=\"\n",
       "  34.208,97.4842 587.507,97.4842 \n",
       "  \"/>\n",
       "<polyline clip-path=\"url(#clip02)\" style=\"stroke:#00002d; stroke-width:0.8; stroke-opacity:1; fill:none\" points=\"\n",
       "  25.6518,381.015 596.063,381.015 \n",
       "  \"/>\n",
       "<polyline clip-path=\"url(#clip02)\" style=\"stroke:#00002d; stroke-width:0.8; stroke-opacity:1; fill:none\" points=\"\n",
       "  25.6518,381.015 25.6518,375.359 \n",
       "  \"/>\n",
       "<polyline clip-path=\"url(#clip02)\" style=\"stroke:#00002d; stroke-width:0.8; stroke-opacity:1; fill:none\" points=\"\n",
       "  139.734,381.015 139.734,375.359 \n",
       "  \"/>\n",
       "<polyline clip-path=\"url(#clip02)\" style=\"stroke:#00002d; stroke-width:0.8; stroke-opacity:1; fill:none\" points=\"\n",
       "  253.816,381.015 253.816,375.359 \n",
       "  \"/>\n",
       "<polyline clip-path=\"url(#clip02)\" style=\"stroke:#00002d; stroke-width:0.8; stroke-opacity:1; fill:none\" points=\"\n",
       "  367.899,381.015 367.899,375.359 \n",
       "  \"/>\n",
       "<polyline clip-path=\"url(#clip02)\" style=\"stroke:#00002d; stroke-width:0.8; stroke-opacity:1; fill:none\" points=\"\n",
       "  481.981,381.015 481.981,375.359 \n",
       "  \"/>\n",
       "<polyline clip-path=\"url(#clip02)\" style=\"stroke:#00002d; stroke-width:0.8; stroke-opacity:1; fill:none\" points=\"\n",
       "  596.063,381.015 596.063,375.359 \n",
       "  \"/>\n",
       "<polyline clip-path=\"url(#clip02)\" style=\"stroke:#00002d; stroke-width:0.8; stroke-opacity:1; fill:none\" points=\"\n",
       "  25.6518,381.015 25.6518,3.93701 \n",
       "  \"/>\n",
       "<polyline clip-path=\"url(#clip02)\" style=\"stroke:#00002d; stroke-width:0.8; stroke-opacity:1; fill:none\" points=\"\n",
       "  25.6518,286.505 34.208,286.505 \n",
       "  \"/>\n",
       "<polyline clip-path=\"url(#clip02)\" style=\"stroke:#00002d; stroke-width:0.8; stroke-opacity:1; fill:none\" points=\"\n",
       "  25.6518,191.994 34.208,191.994 \n",
       "  \"/>\n",
       "<polyline clip-path=\"url(#clip02)\" style=\"stroke:#00002d; stroke-width:0.8; stroke-opacity:1; fill:none\" points=\"\n",
       "  25.6518,97.4842 34.208,97.4842 \n",
       "  \"/>\n",
       "<g clip-path=\"url(#clip00)\">\n",
       "<text style=\"fill:#00002d; fill-opacity:1; font-family:Arial,Helvetica Neue,Helvetica,sans-serif; font-size:12; text-anchor:middle;\" transform=\"rotate(0, 25.6518, 393.015)\" x=\"25.6518\" y=\"393.015\">0.0</text>\n",
       "</g>\n",
       "<g clip-path=\"url(#clip00)\">\n",
       "<text style=\"fill:#00002d; fill-opacity:1; font-family:Arial,Helvetica Neue,Helvetica,sans-serif; font-size:12; text-anchor:middle;\" transform=\"rotate(0, 139.734, 393.015)\" x=\"139.734\" y=\"393.015\">0.2</text>\n",
       "</g>\n",
       "<g clip-path=\"url(#clip00)\">\n",
       "<text style=\"fill:#00002d; fill-opacity:1; font-family:Arial,Helvetica Neue,Helvetica,sans-serif; font-size:12; text-anchor:middle;\" transform=\"rotate(0, 253.816, 393.015)\" x=\"253.816\" y=\"393.015\">0.4</text>\n",
       "</g>\n",
       "<g clip-path=\"url(#clip00)\">\n",
       "<text style=\"fill:#00002d; fill-opacity:1; font-family:Arial,Helvetica Neue,Helvetica,sans-serif; font-size:12; text-anchor:middle;\" transform=\"rotate(0, 367.899, 393.015)\" x=\"367.899\" y=\"393.015\">0.6</text>\n",
       "</g>\n",
       "<g clip-path=\"url(#clip00)\">\n",
       "<text style=\"fill:#00002d; fill-opacity:1; font-family:Arial,Helvetica Neue,Helvetica,sans-serif; font-size:12; text-anchor:middle;\" transform=\"rotate(0, 481.981, 393.015)\" x=\"481.981\" y=\"393.015\">0.8</text>\n",
       "</g>\n",
       "<g clip-path=\"url(#clip00)\">\n",
       "<text style=\"fill:#00002d; fill-opacity:1; font-family:Arial,Helvetica Neue,Helvetica,sans-serif; font-size:12; text-anchor:middle;\" transform=\"rotate(0, 596.063, 393.015)\" x=\"596.063\" y=\"393.015\">1.0</text>\n",
       "</g>\n",
       "<g clip-path=\"url(#clip00)\">\n",
       "<text style=\"fill:#00002d; fill-opacity:1; font-family:Arial,Helvetica Neue,Helvetica,sans-serif; font-size:12; text-anchor:end;\" transform=\"rotate(0, 24.4518, 291.005)\" x=\"24.4518\" y=\"291.005\">5</text>\n",
       "</g>\n",
       "<g clip-path=\"url(#clip00)\">\n",
       "<text style=\"fill:#00002d; fill-opacity:1; font-family:Arial,Helvetica Neue,Helvetica,sans-serif; font-size:12; text-anchor:end;\" transform=\"rotate(0, 24.4518, 196.494)\" x=\"24.4518\" y=\"196.494\">10</text>\n",
       "</g>\n",
       "<g clip-path=\"url(#clip00)\">\n",
       "<text style=\"fill:#00002d; fill-opacity:1; font-family:Arial,Helvetica Neue,Helvetica,sans-serif; font-size:12; text-anchor:end;\" transform=\"rotate(0, 24.4518, 101.984)\" x=\"24.4518\" y=\"101.984\">15</text>\n",
       "</g>\n",
       "<polyline clip-path=\"url(#clip02)\" style=\"stroke:#0099ff; stroke-width:0.8; stroke-opacity:1; fill:none\" points=\"\n",
       "  25.6518,381.015 31.4135,381.015 37.1753,381.015 42.937,381.015 48.6987,381.015 54.4604,381.015 60.2222,381.015 65.9839,381.015 71.7456,381.015 77.5074,381.015 \n",
       "  83.2691,381.015 89.0308,381.015 94.7925,381.015 100.554,381.014 106.316,381.014 112.078,381.013 117.839,381.011 123.601,381.007 129.363,381 135.125,380.986 \n",
       "  140.886,380.962 146.648,380.92 152.41,380.846 158.172,380.723 163.933,380.518 169.695,380.187 175.457,379.665 181.218,378.856 186.98,377.632 192.742,375.823 \n",
       "  198.504,373.206 204.265,369.507 210.027,364.4 215.789,357.51 221.551,348.434 227.312,336.767 233.074,322.135 238.836,304.248 244.598,282.948 250.359,258.269 \n",
       "  256.121,230.483 261.883,200.135 267.644,168.06 273.406,135.361 279.168,103.365 284.93,73.5408 290.691,47.3907 296.453,26.3287 302.215,11.5537 307.977,3.93701 \n",
       "  313.738,3.93701 319.5,11.5537 325.262,26.3287 331.023,47.3907 336.785,73.5408 342.547,103.365 348.309,135.361 354.07,168.06 359.832,200.135 365.594,230.483 \n",
       "  371.356,258.269 377.117,282.948 382.879,304.248 388.641,322.135 394.402,336.767 400.164,348.434 405.926,357.51 411.688,364.4 417.449,369.507 423.211,373.206 \n",
       "  428.973,375.823 434.735,377.632 440.496,378.856 446.258,379.665 452.02,380.187 457.781,380.518 463.543,380.723 469.305,380.846 475.067,380.92 480.828,380.962 \n",
       "  486.59,380.986 492.352,381 498.114,381.007 503.875,381.011 509.637,381.013 515.399,381.014 521.161,381.014 526.922,381.015 532.684,381.015 538.446,381.015 \n",
       "  544.207,381.015 549.969,381.015 555.731,381.015 561.493,381.015 567.254,381.015 573.016,381.015 578.778,381.015 584.54,381.015 590.301,381.015 596.063,381.015 \n",
       "  \n",
       "  \"/>\n",
       "<polygon clip-path=\"url(#clip00)\" points=\"\n",
       "505.547,55.057 578.063,55.057 578.063,24.817 505.547,24.817 \n",
       "  \" fill=\"#ffffff\" fill-opacity=\"1\"/>\n",
       "<polyline clip-path=\"url(#clip00)\" style=\"stroke:#00002d; stroke-width:0.8; stroke-opacity:1; fill:none\" points=\"\n",
       "  505.547,55.057 578.063,55.057 578.063,24.817 505.547,24.817 505.547,55.057 \n",
       "  \"/>\n",
       "<polyline clip-path=\"url(#clip00)\" style=\"stroke:#0099ff; stroke-width:0.8; stroke-opacity:1; fill:none\" points=\"\n",
       "  511.547,39.937 547.547,39.937 \n",
       "  \"/>\n",
       "<g clip-path=\"url(#clip00)\">\n",
       "<text style=\"fill:#00002d; fill-opacity:1; font-family:Arial,Helvetica Neue,Helvetica,sans-serif; font-size:12; text-anchor:start;\" transform=\"rotate(0, 553.547, 44.437)\" x=\"553.547\" y=\"44.437\">y1</text>\n",
       "</g>\n",
       "</svg>\n"
      ]
     },
     "execution_count": 18,
     "metadata": {},
     "output_type": "execute_result"
    }
   ],
   "source": [
    "plot(x->20*exp(-100*(x-0.5)^2), 0, 1)"
   ]
  },
  {
   "cell_type": "markdown",
   "metadata": {},
   "source": [
    "A equação da variação da temperatura com o tempo é\n",
    "$$\\frac{\\partial T}{\\partial t}(t,x) = \\varepsilon \\frac{\\partial^2 T}{\\partial x^2}(t,x) - \\sigma T(t,x) + f(x).$$"
   ]
  },
  {
   "cell_type": "markdown",
   "metadata": {},
   "source": [
    "Vamos nos preocupar no instante em que a temperatura da barra se estabiliza, isto é, não varia mais no tempo.\n",
    "Em outras palavras, a derivada no tempo é zero, e podemos olhar apenas para a função em $x$."
   ]
  },
  {
   "cell_type": "markdown",
   "metadata": {},
   "source": [
    "$$ \\varepsilon T''(x) - \\sigma T(x) = -f(x). $$"
   ]
  },
  {
   "cell_type": "markdown",
   "metadata": {},
   "source": [
    "Até aqui, igual ao outro problema. No entanto, dizer que a barra é isolada termicamente no extremo quer dizer que a variação de temperatura é nula. Isto é,\n",
    "$$ T'(0) = 0. $$\n",
    "No outro extremo, digamos que a temperatura é fixa no 0."
   ]
  },
  {
   "cell_type": "markdown",
   "metadata": {},
   "source": [
    "Olhando para as fórmulas de MDF, teremos\n",
    "$$ T'(0) \\approx \\frac{w_2 - w_0}{2h} = 0 \\Rightarrow w_0 = w_2, $$\n",
    "e\n",
    "$$ T'(1) \\approx \\frac{w_{m+1} - w_{m-1}}{2h} = 0 \\Rightarrow w_{m+1} = w_{m-1}. $$"
   ]
  },
  {
   "cell_type": "markdown",
   "metadata": {},
   "source": [
    "Isto é, adicionamos um ponto virtual: $x_0$, que é externos à região.\n",
    "No entanto, sempre obteremos condições, como as acima, para substituir os pontos virtuais nas equações gerais."
   ]
  },
  {
   "cell_type": "markdown",
   "metadata": {},
   "source": [
    "Discretizando a equação do calor:\n",
    "$$ \\varepsilon \\frac{w_{i+1} - 2w_i + w_{i-1}}{h^2} - \\sigma w_i = -f(x_i). $$"
   ]
  },
  {
   "cell_type": "markdown",
   "metadata": {},
   "source": [
    "$$ \\varepsilon w_{i-1} - (h^2\\sigma + 2 \\varepsilon) w_i + \\varepsilon w_{i+1} = -h^2f(x_i). $$"
   ]
  },
  {
   "cell_type": "markdown",
   "metadata": {},
   "source": [
    "Agora, para $i = 1$,\n",
    "$$ \\varepsilon w_{0} - (h^2\\sigma + 2 \\varepsilon) w_1 + \\varepsilon w_{2} = -h^2f(x_1). $$\n",
    "$$ \\varepsilon w_{2} - (h^2\\sigma + 2 \\varepsilon) w_1 + \\varepsilon w_{2} = -h^2f(x_1). $$\n",
    "$$ -(h^2\\sigma + 2 \\varepsilon) w_1 + 2\\varepsilon w_{2} = -h^2f(x_1). $$"
   ]
  },
  {
   "cell_type": "markdown",
   "metadata": {},
   "source": [
    "Para $i = m$,\n",
    "$$ \\varepsilon w_{m-1} - (h^2\\sigma + 2 \\varepsilon) w_m + \\varepsilon w_{m+1} = -h^2f(x_m). $$\n",
    "$$ \\varepsilon w_{m-1} - (h^2\\sigma + 2 \\varepsilon) w_m + \\varepsilon w_{m-1} = -h^2f(x_m). $$\n",
    "$$ 2\\varepsilon w_{m-1} - (h^2\\sigma + 2 \\varepsilon) w_m = -h^2f(x_m). $$"
   ]
  },
  {
   "cell_type": "code",
   "execution_count": 55,
   "metadata": {
    "collapsed": false
   },
   "outputs": [
    {
     "name": "stderr",
     "output_type": "stream",
     "text": [
      "WARNING: Method definition eq_calor(Any, Any, Any) in module Main at In[54]:2 overwritten at In[55]:2.\n",
      "WARNING: Method definition eq_calor(Any, Any, Any, Any) in module Main at In[54]:2 overwritten at In[55]:2.\n"
     ]
    },
    {
     "data": {
      "text/plain": [
       "eq_calor (generic function with 3 methods)"
      ]
     },
     "execution_count": 55,
     "metadata": {},
     "output_type": "execute_result"
    }
   ],
   "source": [
    "function eq_calor(f, ϵ, σ, m = 10)\n",
    "    h = 1/(m-1)\n",
    "    x = linspace(0, 1, m)\n",
    "    ld = [ones(m-2)*ϵ; 2ϵ]\n",
    "    ud = [2*ϵ; ones(m-2)*ϵ]\n",
    "    d = -(σ*h^2+2*ϵ)*ones(m)\n",
    "    A = spdiagm( (ld, d, ud), (-1, 0, 1), m, m)\n",
    "    b = -h^2*map(f, x)\n",
    "    return x, A\\b\n",
    "end"
   ]
  },
  {
   "cell_type": "code",
   "execution_count": 56,
   "metadata": {
    "collapsed": false
   },
   "outputs": [
    {
     "name": "stderr",
     "output_type": "stream",
     "text": [
      "WARNING: Method definition f(Any) in module Main at In[53]:1 overwritten at In[56]:1.\n"
     ]
    },
    {
     "data": {
      "text/html": [
       "<?xml version=\"1.0\" encoding=\"utf-8\"?>\n",
       "<svg xmlns=\"http://www.w3.org/2000/svg\" xmlns:xlink=\"http://www.w3.org/1999/xlink\" width=\"600\" height=\"400\" viewBox=\"0 0 600 400\">\n",
       "<defs>\n",
       "  <clipPath id=\"clip00\">\n",
       "    <rect x=\"0\" y=\"0\" width=\"600\" height=\"400\"/>\n",
       "  </clipPath>\n",
       "</defs>\n",
       "<polygon clip-path=\"url(#clip00)\" points=\"\n",
       "0,400 600,400 600,0 0,0 \n",
       "  \" fill=\"#ffffff\" fill-opacity=\"1\"/>\n",
       "<defs>\n",
       "  <clipPath id=\"clip01\">\n",
       "    <rect x=\"120\" y=\"0\" width=\"421\" height=\"400\"/>\n",
       "  </clipPath>\n",
       "</defs>\n",
       "<polygon clip-path=\"url(#clip00)\" points=\"\n",
       "43.4296,381.015 596.063,381.015 596.063,3.93701 43.4296,3.93701 \n",
       "  \" fill=\"#ffffff\" fill-opacity=\"1\"/>\n",
       "<defs>\n",
       "  <clipPath id=\"clip02\">\n",
       "    <rect x=\"43\" y=\"3\" width=\"553\" height=\"378\"/>\n",
       "  </clipPath>\n",
       "</defs>\n",
       "<polyline clip-path=\"url(#clip02)\" style=\"stroke:#00002d; stroke-width:0.8; stroke-opacity:0.5; fill:none\" stroke-dasharray=\"1, 2\" points=\"\n",
       "  43.4296,375.359 43.4296,9.59318 \n",
       "  \"/>\n",
       "<polyline clip-path=\"url(#clip02)\" style=\"stroke:#00002d; stroke-width:0.8; stroke-opacity:0.5; fill:none\" stroke-dasharray=\"1, 2\" points=\"\n",
       "  153.956,375.359 153.956,9.59318 \n",
       "  \"/>\n",
       "<polyline clip-path=\"url(#clip02)\" style=\"stroke:#00002d; stroke-width:0.8; stroke-opacity:0.5; fill:none\" stroke-dasharray=\"1, 2\" points=\"\n",
       "  264.483,375.359 264.483,9.59318 \n",
       "  \"/>\n",
       "<polyline clip-path=\"url(#clip02)\" style=\"stroke:#00002d; stroke-width:0.8; stroke-opacity:0.5; fill:none\" stroke-dasharray=\"1, 2\" points=\"\n",
       "  375.01,375.359 375.01,9.59318 \n",
       "  \"/>\n",
       "<polyline clip-path=\"url(#clip02)\" style=\"stroke:#00002d; stroke-width:0.8; stroke-opacity:0.5; fill:none\" stroke-dasharray=\"1, 2\" points=\"\n",
       "  485.536,375.359 485.536,9.59318 \n",
       "  \"/>\n",
       "<polyline clip-path=\"url(#clip02)\" style=\"stroke:#00002d; stroke-width:0.8; stroke-opacity:0.5; fill:none\" stroke-dasharray=\"1, 2\" points=\"\n",
       "  596.063,375.359 596.063,9.59318 \n",
       "  \"/>\n",
       "<polyline clip-path=\"url(#clip02)\" style=\"stroke:#00002d; stroke-width:0.8; stroke-opacity:0.5; fill:none\" stroke-dasharray=\"1, 2\" points=\"\n",
       "  51.7191,282.515 587.773,282.515 \n",
       "  \"/>\n",
       "<polyline clip-path=\"url(#clip02)\" style=\"stroke:#00002d; stroke-width:0.8; stroke-opacity:0.5; fill:none\" stroke-dasharray=\"1, 2\" points=\"\n",
       "  51.7191,172.338 587.773,172.338 \n",
       "  \"/>\n",
       "<polyline clip-path=\"url(#clip02)\" style=\"stroke:#00002d; stroke-width:0.8; stroke-opacity:0.5; fill:none\" stroke-dasharray=\"1, 2\" points=\"\n",
       "  51.7191,62.1603 587.773,62.1603 \n",
       "  \"/>\n",
       "<polyline clip-path=\"url(#clip02)\" style=\"stroke:#00002d; stroke-width:0.8; stroke-opacity:1; fill:none\" points=\"\n",
       "  43.4296,381.015 596.063,381.015 \n",
       "  \"/>\n",
       "<polyline clip-path=\"url(#clip02)\" style=\"stroke:#00002d; stroke-width:0.8; stroke-opacity:1; fill:none\" points=\"\n",
       "  43.4296,381.015 43.4296,375.359 \n",
       "  \"/>\n",
       "<polyline clip-path=\"url(#clip02)\" style=\"stroke:#00002d; stroke-width:0.8; stroke-opacity:1; fill:none\" points=\"\n",
       "  153.956,381.015 153.956,375.359 \n",
       "  \"/>\n",
       "<polyline clip-path=\"url(#clip02)\" style=\"stroke:#00002d; stroke-width:0.8; stroke-opacity:1; fill:none\" points=\"\n",
       "  264.483,381.015 264.483,375.359 \n",
       "  \"/>\n",
       "<polyline clip-path=\"url(#clip02)\" style=\"stroke:#00002d; stroke-width:0.8; stroke-opacity:1; fill:none\" points=\"\n",
       "  375.01,381.015 375.01,375.359 \n",
       "  \"/>\n",
       "<polyline clip-path=\"url(#clip02)\" style=\"stroke:#00002d; stroke-width:0.8; stroke-opacity:1; fill:none\" points=\"\n",
       "  485.536,381.015 485.536,375.359 \n",
       "  \"/>\n",
       "<polyline clip-path=\"url(#clip02)\" style=\"stroke:#00002d; stroke-width:0.8; stroke-opacity:1; fill:none\" points=\"\n",
       "  596.063,381.015 596.063,375.359 \n",
       "  \"/>\n",
       "<polyline clip-path=\"url(#clip02)\" style=\"stroke:#00002d; stroke-width:0.8; stroke-opacity:1; fill:none\" points=\"\n",
       "  43.4296,381.015 43.4296,3.93701 \n",
       "  \"/>\n",
       "<polyline clip-path=\"url(#clip02)\" style=\"stroke:#00002d; stroke-width:0.8; stroke-opacity:1; fill:none\" points=\"\n",
       "  43.4296,282.515 51.7191,282.515 \n",
       "  \"/>\n",
       "<polyline clip-path=\"url(#clip02)\" style=\"stroke:#00002d; stroke-width:0.8; stroke-opacity:1; fill:none\" points=\"\n",
       "  43.4296,172.338 51.7191,172.338 \n",
       "  \"/>\n",
       "<polyline clip-path=\"url(#clip02)\" style=\"stroke:#00002d; stroke-width:0.8; stroke-opacity:1; fill:none\" points=\"\n",
       "  43.4296,62.1603 51.7191,62.1603 \n",
       "  \"/>\n",
       "<g clip-path=\"url(#clip00)\">\n",
       "<text style=\"fill:#00002d; fill-opacity:1; font-family:Arial,Helvetica Neue,Helvetica,sans-serif; font-size:12; text-anchor:middle;\" transform=\"rotate(0, 43.4296, 393.015)\" x=\"43.4296\" y=\"393.015\">0.0</text>\n",
       "</g>\n",
       "<g clip-path=\"url(#clip00)\">\n",
       "<text style=\"fill:#00002d; fill-opacity:1; font-family:Arial,Helvetica Neue,Helvetica,sans-serif; font-size:12; text-anchor:middle;\" transform=\"rotate(0, 153.956, 393.015)\" x=\"153.956\" y=\"393.015\">0.2</text>\n",
       "</g>\n",
       "<g clip-path=\"url(#clip00)\">\n",
       "<text style=\"fill:#00002d; fill-opacity:1; font-family:Arial,Helvetica Neue,Helvetica,sans-serif; font-size:12; text-anchor:middle;\" transform=\"rotate(0, 264.483, 393.015)\" x=\"264.483\" y=\"393.015\">0.4</text>\n",
       "</g>\n",
       "<g clip-path=\"url(#clip00)\">\n",
       "<text style=\"fill:#00002d; fill-opacity:1; font-family:Arial,Helvetica Neue,Helvetica,sans-serif; font-size:12; text-anchor:middle;\" transform=\"rotate(0, 375.01, 393.015)\" x=\"375.01\" y=\"393.015\">0.6</text>\n",
       "</g>\n",
       "<g clip-path=\"url(#clip00)\">\n",
       "<text style=\"fill:#00002d; fill-opacity:1; font-family:Arial,Helvetica Neue,Helvetica,sans-serif; font-size:12; text-anchor:middle;\" transform=\"rotate(0, 485.536, 393.015)\" x=\"485.536\" y=\"393.015\">0.8</text>\n",
       "</g>\n",
       "<g clip-path=\"url(#clip00)\">\n",
       "<text style=\"fill:#00002d; fill-opacity:1; font-family:Arial,Helvetica Neue,Helvetica,sans-serif; font-size:12; text-anchor:middle;\" transform=\"rotate(0, 596.063, 393.015)\" x=\"596.063\" y=\"393.015\">1.0</text>\n",
       "</g>\n",
       "<g clip-path=\"url(#clip00)\">\n",
       "<text style=\"fill:#00002d; fill-opacity:1; font-family:Arial,Helvetica Neue,Helvetica,sans-serif; font-size:12; text-anchor:end;\" transform=\"rotate(0, 42.2296, 287.015)\" x=\"42.2296\" y=\"287.015\">35.4</text>\n",
       "</g>\n",
       "<g clip-path=\"url(#clip00)\">\n",
       "<text style=\"fill:#00002d; fill-opacity:1; font-family:Arial,Helvetica Neue,Helvetica,sans-serif; font-size:12; text-anchor:end;\" transform=\"rotate(0, 42.2296, 176.838)\" x=\"42.2296\" y=\"176.838\">35.5</text>\n",
       "</g>\n",
       "<g clip-path=\"url(#clip00)\">\n",
       "<text style=\"fill:#00002d; fill-opacity:1; font-family:Arial,Helvetica Neue,Helvetica,sans-serif; font-size:12; text-anchor:end;\" transform=\"rotate(0, 42.2296, 66.6603)\" x=\"42.2296\" y=\"66.6603\">35.6</text>\n",
       "</g>\n",
       "<polyline clip-path=\"url(#clip02)\" style=\"stroke:#0099ff; stroke-width:0.8; stroke-opacity:1; fill:none\" points=\"\n",
       "  43.4296,381.015 49.0117,380.816 54.5939,380.221 60.176,379.229 65.7582,377.839 71.3404,376.053 76.9225,373.87 82.5047,371.289 88.0868,368.312 93.669,364.938 \n",
       "  99.2511,361.166 104.833,356.997 110.415,352.432 115.998,347.468 121.58,342.108 127.162,336.35 132.744,330.195 138.326,323.643 143.908,316.693 149.491,309.345 \n",
       "  155.073,301.6 160.655,293.458 166.237,284.918 171.819,275.981 177.401,266.648 182.983,256.92 188.566,246.799 194.148,236.287 199.73,225.39 205.312,214.115 \n",
       "  210.894,202.471 216.476,190.475 222.059,178.149 227.641,165.523 233.223,152.637 238.805,139.546 244.387,126.318 249.969,113.042 255.551,99.8217 261.134,86.7851 \n",
       "  266.716,74.0786 272.298,61.8673 277.88,50.3315 283.462,39.6618 289.044,30.0527 294.627,21.6943 300.209,14.764 305.791,9.41704 311.373,5.77878 316.955,3.93701 \n",
       "  322.537,3.93701 328.12,5.77878 333.702,9.41704 339.284,14.764 344.866,21.6943 350.448,30.0527 356.03,39.6618 361.612,50.3315 367.195,61.8673 372.777,74.0786 \n",
       "  378.359,86.7851 383.941,99.8217 389.523,113.042 395.105,126.318 400.688,139.546 406.27,152.637 411.852,165.523 417.434,178.149 423.016,190.475 428.598,202.471 \n",
       "  434.18,214.115 439.763,225.39 445.345,236.287 450.927,246.799 456.509,256.92 462.091,266.648 467.673,275.981 473.256,284.918 478.838,293.458 484.42,301.6 \n",
       "  490.002,309.345 495.584,316.693 501.166,323.643 506.748,330.195 512.331,336.35 517.913,342.108 523.495,347.468 529.077,352.432 534.659,356.997 540.241,361.166 \n",
       "  545.824,364.938 551.406,368.312 556.988,371.289 562.57,373.87 568.152,376.053 573.734,377.839 579.317,379.229 584.899,380.221 590.481,380.816 596.063,381.015 \n",
       "  \n",
       "  \"/>\n",
       "<polygon clip-path=\"url(#clip00)\" points=\"\n",
       "505.547,55.057 578.063,55.057 578.063,24.817 505.547,24.817 \n",
       "  \" fill=\"#ffffff\" fill-opacity=\"1\"/>\n",
       "<polyline clip-path=\"url(#clip00)\" style=\"stroke:#00002d; stroke-width:0.8; stroke-opacity:1; fill:none\" points=\"\n",
       "  505.547,55.057 578.063,55.057 578.063,24.817 505.547,24.817 505.547,55.057 \n",
       "  \"/>\n",
       "<polyline clip-path=\"url(#clip00)\" style=\"stroke:#0099ff; stroke-width:0.8; stroke-opacity:1; fill:none\" points=\"\n",
       "  511.547,39.937 547.547,39.937 \n",
       "  \"/>\n",
       "<g clip-path=\"url(#clip00)\">\n",
       "<text style=\"fill:#00002d; fill-opacity:1; font-family:Arial,Helvetica Neue,Helvetica,sans-serif; font-size:12; text-anchor:start;\" transform=\"rotate(0, 553.547, 44.437)\" x=\"553.547\" y=\"44.437\">y1</text>\n",
       "</g>\n",
       "</svg>\n"
      ]
     },
     "execution_count": 56,
     "metadata": {},
     "output_type": "execute_result"
    }
   ],
   "source": [
    "f(x) = 20*exp(-100*(x-0.5)^2)\n",
    "x, w = eq_calor(f, 1.0, 0.1, 100)\n",
    "plot(x, w)"
   ]
  }
 ],
 "metadata": {
  "kernelspec": {
   "display_name": "Julia 0.5.0",
   "language": "julia",
   "name": "julia-0.5"
  },
  "language_info": {
   "file_extension": ".jl",
   "mimetype": "application/julia",
   "name": "julia",
   "version": "0.5.0"
  }
 },
 "nbformat": 4,
 "nbformat_minor": 0
}
