{
 "cells": [
  {
   "cell_type": "markdown",
   "metadata": {},
   "source": [
    "# NLPModels.jl, Optimize.jl e CUTEst.jl\n",
    "\n",
    "- [NLPModels.jl](https://github.com/JuliaSmoothOptimizers/NLPModels.jl)\n",
    "- [Optimize.jl](https://github.com/JuliaSmoothOptimizers/Optimize.jl)\n",
    "- [CUTEst.jl](https://github.com/JuliaSmoothOptimizers/CUTEst.jl)"
   ]
  },
  {
   "cell_type": "code",
   "execution_count": 1,
   "metadata": {
    "collapsed": false
   },
   "outputs": [
    {
     "name": "stderr",
     "output_type": "stream",
     "text": [
      "INFO: Cloning Optimize from https://github.com/JuliaSmoothOptimizers/Optimize.jl\n"
     ]
    },
    {
     "ename": "LoadError",
     "evalue": "LoadError: Optimize already exists\nwhile loading In[1], in expression starting on line 1",
     "output_type": "error",
     "traceback": [
      "LoadError: Optimize already exists\nwhile loading In[1], in expression starting on line 1",
      "",
      " in error at ./error.jl:21",
      " in clone at pkg/entry.jl:159",
      " in clone at pkg/entry.jl:186",
      " in anonymous at pkg/dir.jl:31",
      " in cd at file.jl:22",
      " in cd at pkg/dir.jl:31",
      " in clone at pkg.jl:34"
     ]
    }
   ],
   "source": [
    "Pkg.clone(\"https://github.com/JuliaSmoothOptimizers/Optimize.jl\")\n",
    "Pkg.build(\"Optimize\")"
   ]
  },
  {
   "cell_type": "markdown",
   "metadata": {},
   "source": [
    "[Resumo das relações](http://abelsiqueira.github.io/assets/jopt-2016.pdf) (pág. 20)"
   ]
  },
  {
   "cell_type": "code",
   "execution_count": 2,
   "metadata": {
    "collapsed": true
   },
   "outputs": [],
   "source": [
    "using NLPModels"
   ]
  },
  {
   "cell_type": "code",
   "execution_count": 3,
   "metadata": {
    "collapsed": false
   },
   "outputs": [
    {
     "data": {
      "text/plain": [
       "NLPModels.SimpleNLPModel(Minimization problem Generic\n",
       "nvar = 2, ncon = 0 (0 linear)\n",
       ",NLPModels.Counters(0,0,0,0,0,0,0,0,0,0,0),(anonymous function),(anonymous function))"
      ]
     },
     "execution_count": 3,
     "metadata": {},
     "output_type": "execute_result"
    }
   ],
   "source": [
    "nlp = SimpleNLPModel(x->dot(x,x), zeros(2))"
   ]
  },
  {
   "cell_type": "code",
   "execution_count": 4,
   "metadata": {
    "collapsed": false
   },
   "outputs": [
    {
     "data": {
      "text/plain": [
       "2.0"
      ]
     },
     "execution_count": 4,
     "metadata": {},
     "output_type": "execute_result"
    }
   ],
   "source": [
    "obj(nlp, ones(2))"
   ]
  },
  {
   "cell_type": "code",
   "execution_count": 5,
   "metadata": {
    "collapsed": false
   },
   "outputs": [
    {
     "data": {
      "text/plain": [
       "NLPModels.SimpleNLPModel(Minimization problem Generic\n",
       "nvar = 2, ncon = 1 (0 linear)\n",
       ",NLPModels.Counters(0,0,0,0,0,0,0,0,0,0,0),f,c)"
      ]
     },
     "execution_count": 5,
     "metadata": {},
     "output_type": "execute_result"
    }
   ],
   "source": [
    "# SimpleNLPModel\n",
    "\n",
    "f(x) = (x[1] - 1)^2 + 100*(x[2] - x[1]^2)^2\n",
    "x0 = [-1.2;1.0]\n",
    "c(x) = [ (x[1] + 1)*(x[2] + 1) - 1 ]\n",
    "nlp = SimpleNLPModel(f, x0, c=c, lcon=[0.0], ucon=[0.0])"
   ]
  },
  {
   "cell_type": "code",
   "execution_count": 6,
   "metadata": {
    "collapsed": false
   },
   "outputs": [
    {
     "data": {
      "text/plain": [
       "1x2 Array{Float64,2}:\n",
       " -Inf  -Inf"
      ]
     },
     "metadata": {},
     "output_type": "display_data"
    },
    {
     "name": "stdout",
     "output_type": "stream",
     "text": [
      "Minimization problem Generic\n",
      "nvar = 2, ncon = 1 (0 linear)\n",
      "lvar = "
     ]
    },
    {
     "data": {
      "text/plain": [
       "1x2 Array{Float64,2}:\n",
       " Inf  Inf"
      ]
     },
     "metadata": {},
     "output_type": "display_data"
    },
    {
     "data": {
      "text/plain": [
       "1x1 Array{Float64,2}:\n",
       " 0.0"
      ]
     },
     "metadata": {},
     "output_type": "display_data"
    },
    {
     "data": {
      "text/plain": [
       "1x1 Array{Float64,2}:\n",
       " 0.0"
      ]
     },
     "metadata": {},
     "output_type": "display_data"
    },
    {
     "data": {
      "text/plain": [
       "1x2 Array{Float64,2}:\n",
       " -1.2  1.0"
      ]
     },
     "metadata": {},
     "output_type": "display_data"
    },
    {
     "data": {
      "text/plain": [
       "1x1 Array{Float64,2}:\n",
       " 0.0"
      ]
     },
     "metadata": {},
     "output_type": "display_data"
    },
    {
     "data": {
      "text/plain": [
       "1x1 Array{Int64,2}:\n",
       " 1"
      ]
     },
     "metadata": {},
     "output_type": "display_data"
    },
    {
     "name": "stdout",
     "output_type": "stream",
     "text": [
      "\n",
      "uvar = \n",
      "lcon = \n",
      "ucon = \n",
      "x0 = \n",
      "y0 = \n",
      "nnzh = 4\n",
      "nnzj = 2\n",
      "nonlinear constraints: \n",
      "\n"
     ]
    }
   ],
   "source": [
    "println(nlp.meta)"
   ]
  },
  {
   "cell_type": "code",
   "execution_count": 7,
   "metadata": {
    "collapsed": false
   },
   "outputs": [
    {
     "data": {
      "text/plain": [
       "24.199999999999996"
      ]
     },
     "execution_count": 7,
     "metadata": {},
     "output_type": "execute_result"
    }
   ],
   "source": [
    "obj(nlp, nlp.meta.x0)"
   ]
  },
  {
   "cell_type": "code",
   "execution_count": 8,
   "metadata": {
    "collapsed": false
   },
   "outputs": [
    {
     "data": {
      "text/plain": [
       "2-element Array{Float64,1}:\n",
       " -215.6\n",
       "  -88.0"
      ]
     },
     "execution_count": 8,
     "metadata": {},
     "output_type": "execute_result"
    }
   ],
   "source": [
    "grad(nlp, nlp.meta.x0)"
   ]
  },
  {
   "cell_type": "code",
   "execution_count": 9,
   "metadata": {
    "collapsed": false
   },
   "outputs": [
    {
     "data": {
      "text/plain": [
       "2x2 Array{Float64,2}:\n",
       " 1330.0    0.0\n",
       "  480.0  200.0"
      ]
     },
     "execution_count": 9,
     "metadata": {},
     "output_type": "execute_result"
    }
   ],
   "source": [
    "hess(nlp, nlp.meta.x0) # Note que é triangular inferior"
   ]
  },
  {
   "cell_type": "code",
   "execution_count": 10,
   "metadata": {
    "collapsed": false
   },
   "outputs": [
    {
     "data": {
      "text/plain": [
       "2-element Array{Float64,1}:\n",
       " 1810.0\n",
       "  680.0"
      ]
     },
     "execution_count": 10,
     "metadata": {},
     "output_type": "execute_result"
    }
   ],
   "source": [
    "hprod(nlp, nlp.meta.x0, ones(2))"
   ]
  },
  {
   "cell_type": "code",
   "execution_count": 11,
   "metadata": {
    "collapsed": false
   },
   "outputs": [
    {
     "data": {
      "text/plain": [
       "1-element Array{Float64,1}:\n",
       " -1.4"
      ]
     },
     "execution_count": 11,
     "metadata": {},
     "output_type": "execute_result"
    }
   ],
   "source": [
    "cons(nlp, nlp.meta.x0)"
   ]
  },
  {
   "cell_type": "code",
   "execution_count": 12,
   "metadata": {
    "collapsed": false
   },
   "outputs": [
    {
     "data": {
      "text/plain": [
       "1x2 Array{Float64,2}:\n",
       " 2.0  -0.2"
      ]
     },
     "execution_count": 12,
     "metadata": {},
     "output_type": "execute_result"
    }
   ],
   "source": [
    "jac(nlp, nlp.meta.x0)"
   ]
  },
  {
   "cell_type": "code",
   "execution_count": 13,
   "metadata": {
    "collapsed": false
   },
   "outputs": [
    {
     "data": {
      "text/plain": [
       "1x2 Array{Float64,2}:\n",
       " -Inf  -Inf"
      ]
     },
     "metadata": {},
     "output_type": "display_data"
    },
    {
     "data": {
      "text/plain": [
       "1x2 Array{Float64,2}:\n",
       " Inf  Inf"
      ]
     },
     "metadata": {},
     "output_type": "display_data"
    },
    {
     "data": {
      "text/plain": [
       "1x1 Array{Float64,2}:\n",
       " 0.0"
      ]
     },
     "metadata": {},
     "output_type": "display_data"
    },
    {
     "data": {
      "text/plain": [
       "1x1 Array{Float64,2}:\n",
       " 0.0"
      ]
     },
     "metadata": {},
     "output_type": "display_data"
    },
    {
     "data": {
      "text/plain": [
       "1x2 Array{Float64,2}:\n",
       " -1.2  1.0"
      ]
     },
     "metadata": {},
     "output_type": "display_data"
    },
    {
     "data": {
      "text/plain": [
       "1x1 Array{Float64,2}:\n",
       " 0.0"
      ]
     },
     "metadata": {},
     "output_type": "display_data"
    },
    {
     "data": {
      "text/plain": [
       "1x1 Array{Int64,2}:\n",
       " 1"
      ]
     },
     "metadata": {},
     "output_type": "display_data"
    },
    {
     "name": "stdout",
     "output_type": "stream",
     "text": [
      "Minimization problem Generic\n",
      "nvar = 2, ncon = 1 (0 linear)\n",
      "lvar = \n",
      "uvar = \n",
      "lcon = \n",
      "ucon = \n",
      "x0 = \n",
      "y0 = \n",
      "nnzh = 4\n",
      "nnzj = 2\n",
      "nonlinear constraints: \n",
      "\n"
     ]
    }
   ],
   "source": [
    "# JuMPNLPModel\n",
    "using JuMP\n",
    "jlp = begin\n",
    "    m = Model()\n",
    "    @variable(m, x[1:2])\n",
    "    setvalue(x[1], -1.2)\n",
    "    setvalue(x[2], 1.0)\n",
    "    @NLobjective(m, Min, (x[1]-1)^2 + 100*(x[2]-x[1]^2)^2)\n",
    "    @NLconstraint(m, (x[1]+1)*(x[2]+1) == 1)\n",
    "    JuMPNLPModel(m)\n",
    "end\n",
    "println(jlp.meta)"
   ]
  },
  {
   "cell_type": "code",
   "execution_count": 14,
   "metadata": {
    "collapsed": false
   },
   "outputs": [
    {
     "data": {
      "text/plain": [
       "24.199999999999996"
      ]
     },
     "execution_count": 14,
     "metadata": {},
     "output_type": "execute_result"
    }
   ],
   "source": [
    "obj(jlp, jlp.meta.x0)"
   ]
  },
  {
   "cell_type": "code",
   "execution_count": 15,
   "metadata": {
    "collapsed": false
   },
   "outputs": [
    {
     "data": {
      "text/plain": [
       "2x2 sparse matrix with 3 Float64 entries:\n",
       "\t[1, 1]  =  1330.0\n",
       "\t[2, 1]  =  480.0\n",
       "\t[2, 2]  =  200.0"
      ]
     },
     "execution_count": 15,
     "metadata": {},
     "output_type": "execute_result"
    }
   ],
   "source": [
    "hess(jlp, jlp.meta.x0)"
   ]
  },
  {
   "cell_type": "code",
   "execution_count": 16,
   "metadata": {
    "collapsed": false
   },
   "outputs": [
    {
     "data": {
      "text/plain": [
       "1x2 sparse matrix with 2 Float64 entries:\n",
       "\t[1, 1]  =  2.0\n",
       "\t[1, 2]  =  -0.2"
      ]
     },
     "execution_count": 16,
     "metadata": {},
     "output_type": "execute_result"
    }
   ],
   "source": [
    "jac(jlp, jlp.meta.x0)"
   ]
  },
  {
   "cell_type": "code",
   "execution_count": 17,
   "metadata": {
    "collapsed": true
   },
   "outputs": [],
   "source": [
    "using OptimizationProblems"
   ]
  },
  {
   "cell_type": "code",
   "execution_count": 18,
   "metadata": {
    "collapsed": false
   },
   "outputs": [
    {
     "data": {
      "text/latex": [
       "$$ \\begin{alignat*}{1}\\min\\quad & (nonlinear expression)\\\\\n",
       "\\text{Subject to} \\quad & 1 nonlinear constraint\\\\\n",
       " & x_{i} free \\quad\\forall i \\in \\{1,2\\}\\\\\n",
       "\\end{alignat*}\n",
       " $$"
      ],
      "text/plain": [
       "Minimization problem with:\n",
       " * 0 linear constraints\n",
       " * 1 nonlinear constraint\n",
       " * 2 variables\n",
       "Solver is default solver"
      ]
     },
     "execution_count": 18,
     "metadata": {},
     "output_type": "execute_result"
    }
   ],
   "source": [
    "hs6()"
   ]
  },
  {
   "cell_type": "code",
   "execution_count": 19,
   "metadata": {
    "collapsed": false
   },
   "outputs": [
    {
     "data": {
      "text/plain": [
       "NLPModels.JuMPNLPModel(Minimization problem Generic\n",
       "nvar = 2, ncon = 1 (0 linear)\n",
       ",Minimization problem with:\n",
       " * 0 linear constraints\n",
       " * 1 nonlinear constraint\n",
       " * 2 variables\n",
       "Solver is ModelReader(),NLPModels.MathProgModel(JuMP.NLPEvaluator(Minimization problem with:\n",
       " * 0 linear constraints\n",
       " * 1 nonlinear constraint\n",
       " * 2 variables\n",
       "Solver is ModelReader(),0x2 sparse matrix with 0 Float64 entries:,Float64[],true,[0.0,0.0],JuMP.FunctionStorage([ReverseDiffSparse.NodeData(CALL::ReverseDiffSparse.NodeType,4,-1),ReverseDiffSparse.NodeData(CALL::ReverseDiffSparse.NodeType,2,1),ReverseDiffSparse.NodeData(VALUE::ReverseDiffSparse.NodeType,1,2),ReverseDiffSparse.NodeData(VARIABLE::ReverseDiffSparse.NodeType,1,2),ReverseDiffSparse.NodeData(VALUE::ReverseDiffSparse.NodeType,2,1)],5x5 sparse matrix with 4 Bool entries:\n",
       "\t[2, 1]  =  true\n",
       "\t[5, 1]  =  true\n",
       "\t[3, 2]  =  true\n",
       "\t[4, 2]  =  true,[1.0,2.0],[4.840000000000001,2.2,1.0,-1.2,2.0],[0.0,4.4,1.0,-1.0,3.8161336241630686],[1.0,4.4,0.0,-4.4,0.0],[1],[1],[1],ReverseDiffSparse.Coloring.RecoveryInfo(Array{Int64,1}[],Array{Int64,1}[],Array{Int64,1}[],[1],1,0,[1]),1x1 Array{Float64,2}:\n",
       " 2.0,NONLINEAR::ReverseDiffSparse.Linearity,Int64[]),[JuMP.FunctionStorage([ReverseDiffSparse.NodeData(CALL::ReverseDiffSparse.NodeType,2,-1),ReverseDiffSparse.NodeData(CALL::ReverseDiffSparse.NodeType,3,1),ReverseDiffSparse.NodeData(VALUE::ReverseDiffSparse.NodeType,1,2),ReverseDiffSparse.NodeData(CALL::ReverseDiffSparse.NodeType,2,2),ReverseDiffSparse.NodeData(VARIABLE::ReverseDiffSparse.NodeType,2,4),ReverseDiffSparse.NodeData(CALL::ReverseDiffSparse.NodeType,4,4),ReverseDiffSparse.NodeData(VARIABLE::ReverseDiffSparse.NodeType,1,6),ReverseDiffSparse.NodeData(VALUE::ReverseDiffSparse.NodeType,2,6),ReverseDiffSparse.NodeData(VALUE::ReverseDiffSparse.NodeType,3,1)],9x9 sparse matrix with 8 Bool entries:\n",
       "\t[2, 1]  =  true\n",
       "\t[9, 1]  =  true\n",
       "\t[3, 2]  =  true\n",
       "\t[4, 2]  =  true\n",
       "\t[5, 4]  =  true\n",
       "\t[6, 4]  =  true\n",
       "\t[7, 6]  =  true\n",
       "\t[8, 6]  =  true,[10.0,2.0,0.0],[-4.3999999999999995,-4.3999999999999995,10.0,-0.43999999999999995,1.0,1.44,-1.2,2.0,0.0],[0.0,1.0,-0.43999999999999995,10.0,1.0,-1.0,-2.4,NaN,-1.0],[1.0,1.0,0.0,10.0,10.0,-10.0,24.0,0.0,0.0],[1,2],[1],[1],ReverseDiffSparse.Coloring.RecoveryInfo(Array{Int64,1}[],Array{Int64,1}[],Array{Int64,1}[],[1],1,0,[1]),1x1 Array{Float64,2}:\n",
       " -20.0,NONLINEAR::ReverseDiffSparse.Linearity,Int64[])],JuMP.SubexpressionStorage[],Int64[],Float64[],Float64[],ReverseDiffSparse.Linearity[],Any[],[-1.2,1.0],[6.94488909307863e-310,6.94446294857386e-310],[6.9444596218694e-310,6.9444596223429e-310],false,true,[24.0,24.0,0.0,2.4,0.0,-2.4,1.0,0.0,0.0],[0.0,0.0,2.4000000000000004,7.105427357601002e-15,0.0,0.0,2.0,NaN,0.0],[0.0,0.0,0.0,7.105427357601002e-15,7.105427357601002e-15,-7.105427357601002e-15,-19.999999999999982,6.9444632950538e-310,6.94446329505854e-310],[0.0,0.0],[-19.999999999999982,7.105427357601002e-15],Float64[],Float64[],[1,1],[1,1],1,0.0,0.0,0.0,0.0,0.0),2,1,[-1.2,1.0],[0.0],[-Inf,-Inf],[Inf,Inf],[0.0],[0.0],:Min,:Uninitialized),NLPModels.Counters(0,0,0,0,0,0,0,0,0,0,0),[1,1],[1,2],[0.0,0.0],[1,1],[1,1],[0.0,0.0])"
      ]
     },
     "execution_count": 19,
     "metadata": {},
     "output_type": "execute_result"
    }
   ],
   "source": [
    "nlp = JuMPNLPModel(hs6())"
   ]
  },
  {
   "cell_type": "code",
   "execution_count": 20,
   "metadata": {
    "collapsed": false
   },
   "outputs": [
    {
     "data": {
      "text/plain": [
       "2-element Array{Float64,1}:\n",
       " -1.2\n",
       "  1.0"
      ]
     },
     "execution_count": 20,
     "metadata": {},
     "output_type": "execute_result"
    }
   ],
   "source": [
    "x = nlp.meta.x0"
   ]
  },
  {
   "cell_type": "code",
   "execution_count": 21,
   "metadata": {
    "collapsed": false
   },
   "outputs": [
    {
     "data": {
      "text/plain": [
       "4.840000000000001"
      ]
     },
     "execution_count": 21,
     "metadata": {},
     "output_type": "execute_result"
    }
   ],
   "source": [
    "obj(nlp, x)"
   ]
  },
  {
   "cell_type": "code",
   "execution_count": 22,
   "metadata": {
    "collapsed": true
   },
   "outputs": [],
   "source": [
    "using CUTEst"
   ]
  },
  {
   "cell_type": "code",
   "execution_count": 23,
   "metadata": {
    "collapsed": false
   },
   "outputs": [
    {
     "data": {
      "text/plain": [
       "Minimization problem ROSENBR\n",
       "nvar = 2, ncon = 0 (0 linear)\n"
      ]
     },
     "execution_count": 23,
     "metadata": {},
     "output_type": "execute_result"
    }
   ],
   "source": [
    "nlp = CUTEstModel(\"ROSENBR\")"
   ]
  },
  {
   "cell_type": "code",
   "execution_count": 24,
   "metadata": {
    "collapsed": false
   },
   "outputs": [
    {
     "data": {
      "text/plain": [
       "2-element Array{Float64,1}:\n",
       " -1.2\n",
       "  1.0"
      ]
     },
     "execution_count": 24,
     "metadata": {},
     "output_type": "execute_result"
    }
   ],
   "source": [
    "x = nlp.meta.x0"
   ]
  },
  {
   "cell_type": "code",
   "execution_count": 25,
   "metadata": {
    "collapsed": false
   },
   "outputs": [
    {
     "data": {
      "text/plain": [
       "g (generic function with 1 method)"
      ]
     },
     "execution_count": 25,
     "metadata": {},
     "output_type": "execute_result"
    }
   ],
   "source": [
    "g(x) = grad(nlp, x)"
   ]
  },
  {
   "cell_type": "code",
   "execution_count": 26,
   "metadata": {
    "collapsed": false
   },
   "outputs": [
    {
     "data": {
      "text/plain": [
       "H (generic function with 1 method)"
      ]
     },
     "execution_count": 26,
     "metadata": {},
     "output_type": "execute_result"
    }
   ],
   "source": [
    "H(x) = hess_op(nlp, x)"
   ]
  },
  {
   "cell_type": "code",
   "execution_count": 27,
   "metadata": {
    "collapsed": false
   },
   "outputs": [
    {
     "data": {
      "text/plain": [
       "2-element Array{Float64,1}:\n",
       " -215.6\n",
       "  -88.0"
      ]
     },
     "execution_count": 27,
     "metadata": {},
     "output_type": "execute_result"
    }
   ],
   "source": [
    "g(x)"
   ]
  },
  {
   "cell_type": "code",
   "execution_count": 28,
   "metadata": {
    "collapsed": false
   },
   "outputs": [
    {
     "data": {
      "text/plain": [
       "Linear operator\n",
       "  nrow: 2\n",
       "  ncol: 2\n",
       "  dtype: Float64\n",
       "  symmetric: true\n",
       "  hermitian: true\n",
       "  prod:   (anonymous function)\n",
       "  tprod:  Nullable((anonymous function))\n",
       "  ctprod: Nullable((anonymous function))\n"
      ]
     },
     "execution_count": 28,
     "metadata": {},
     "output_type": "execute_result"
    }
   ],
   "source": [
    "H(x)"
   ]
  },
  {
   "cell_type": "code",
   "execution_count": 29,
   "metadata": {
    "collapsed": false
   },
   "outputs": [],
   "source": [
    "using Krylov"
   ]
  },
  {
   "cell_type": "code",
   "execution_count": 30,
   "metadata": {
    "collapsed": false
   },
   "outputs": [
    {
     "data": {
      "text/plain": [
       "2-element Array{Float64,1}:\n",
       " -1.17528\n",
       "  1.38067"
      ]
     },
     "execution_count": 30,
     "metadata": {},
     "output_type": "execute_result"
    }
   ],
   "source": [
    "x = x - Krylov.cg(H(x), g(x))[1]"
   ]
  },
  {
   "cell_type": "code",
   "execution_count": 31,
   "metadata": {
    "collapsed": false
   },
   "outputs": [
    {
     "data": {
      "text/plain": [
       "2x2 Array{Float64,2}:\n",
       " 1107.27   470.112\n",
       "  470.112  200.0  "
      ]
     },
     "execution_count": 31,
     "metadata": {},
     "output_type": "execute_result"
    }
   ],
   "source": [
    "full(H(x))"
   ]
  },
  {
   "cell_type": "code",
   "execution_count": 32,
   "metadata": {
    "collapsed": false
   },
   "outputs": [
    {
     "data": {
      "text/plain": [
       "2-element Array{Float64,1}:\n",
       " -1.2\n",
       "  1.0"
      ]
     },
     "execution_count": 32,
     "metadata": {},
     "output_type": "execute_result"
    }
   ],
   "source": [
    "x = nlp.meta.x0"
   ]
  },
  {
   "cell_type": "code",
   "execution_count": 33,
   "metadata": {
    "collapsed": false
   },
   "outputs": [
    {
     "data": {
      "text/plain": [
       "2-element Array{Float64,1}:\n",
       " -1.17528\n",
       "  1.38067"
      ]
     },
     "execution_count": 33,
     "metadata": {},
     "output_type": "execute_result"
    }
   ],
   "source": [
    "x = x - full(H(x)) \\ g(x)"
   ]
  },
  {
   "cell_type": "code",
   "execution_count": 34,
   "metadata": {
    "collapsed": false
   },
   "outputs": [],
   "source": [
    "cutest_finalize(nlp)"
   ]
  },
  {
   "cell_type": "code",
   "execution_count": 35,
   "metadata": {
    "collapsed": false
   },
   "outputs": [
    {
     "data": {
      "text/plain": [
       "newton_kkt_method (generic function with 1 method)"
      ]
     },
     "execution_count": 35,
     "metadata": {},
     "output_type": "execute_result"
    }
   ],
   "source": [
    "function newton_kkt_method(nlp::AbstractNLPModel; tol = 1e-5, max_iter = 1000, max_time = 60)\n",
    "    exit_flag = 0\n",
    "    x0 = nlp.meta.x0\n",
    "    f(x) = obj(nlp, x)\n",
    "    c(x) = cons(nlp, x)\n",
    "    ∇f(x) = grad(nlp, x)\n",
    "    H(x) = full(hess_op(nlp, x))\n",
    "    J(x) = jac(nlp, x)\n",
    "    μ = 1e-2\n",
    "    \n",
    "    x = copy(x0) # Cópia de x0\n",
    "    iter = 0\n",
    "    start_time = time()\n",
    "    elapsed_time = 0.0\n",
    "    fx = f(x)\n",
    "    ∇fx = ∇f(x)\n",
    "    B = H(x)\n",
    "    cx = c(x)\n",
    "    Jx = J(x)\n",
    "    \n",
    "    n = length(x0)\n",
    "    m = length(cx)\n",
    "    λ = zeros(m)\n",
    "\n",
    "    ∇Lx = ∇fx + Jx'*λ\n",
    "    \n",
    "    Φ(x,μ) = f(x) + μ*norm(c(x), 1)\n",
    "    while norm(∇Lx) > tol || norm(c(x), 1) > tol\n",
    "        dtil = -[B Jx'; Jx zeros(m,m)]\\[∇Lx; cx]\n",
    "        d = dtil[1:n]\n",
    "        dλ = dtil[n+1:n+m]\n",
    "        Jxd = Jx*d\n",
    "        \n",
    "        DPx = 0.0\n",
    "        for i = 1:m\n",
    "            DPx += Jxd[i]*(cx[i] != 0 ? sign(cx[i]) : sign(Jxd[i]))\n",
    "        end\n",
    "        DΦx = dot(∇fx,d)\n",
    "        #μ = DPx != 0.0 ? max(-DΦx/DPx, norm(λ,Inf)) : norm(λ,Inf)\n",
    "        while DΦx + μ*DPx >= 0\n",
    "            μ *= 2\n",
    "        end\n",
    "        DΦx += μ*DPx\n",
    "        Φx = Φ(x,μ)\n",
    "        \n",
    "        if DΦx >= 0\n",
    "            exit_flag = -1\n",
    "            break\n",
    "        end\n",
    "\n",
    "        t = 1.0\n",
    "        while Φ(x + t*d,μ) > Φx + 0.5*t*DΦx\n",
    "            t = t*0.9\n",
    "        end\n",
    "        x = x + t*d\n",
    "        \n",
    "        fx = f(x)\n",
    "        ∇fx = ∇f(x)\n",
    "        B = H(x)\n",
    "        cx = c(x)\n",
    "        Jx = J(x)\n",
    "        λ += t*dλ\n",
    "        ∇Lx = ∇fx + Jx'*λ\n",
    "        iter = iter + 1\n",
    "        if iter >= max_iter\n",
    "            exit_flag = 1\n",
    "            break\n",
    "        end\n",
    "        elapsed_time = time() - start_time\n",
    "        if elapsed_time >= max_time\n",
    "            exit_flag = 2\n",
    "            break\n",
    "        end\n",
    "    end\n",
    "    return x, fx, ∇Lx, cx, exit_flag, iter, elapsed_time # Precisamos retornar o ponto encontrado\n",
    "end"
   ]
  },
  {
   "cell_type": "code",
   "execution_count": 36,
   "metadata": {
    "collapsed": false,
    "scrolled": true
   },
   "outputs": [
    {
     "data": {
      "text/plain": [
       "Minimization problem HS7\n",
       "nvar = 2, ncon = 1 (0 linear)\n"
      ]
     },
     "execution_count": 36,
     "metadata": {},
     "output_type": "execute_result"
    }
   ],
   "source": [
    "nlp = CUTEstModel(\"HS7\")"
   ]
  },
  {
   "cell_type": "code",
   "execution_count": 37,
   "metadata": {
    "collapsed": false,
    "scrolled": true
   },
   "outputs": [
    {
     "data": {
      "text/plain": [
       "1-element Array{Int64,1}:\n",
       " 1"
      ]
     },
     "execution_count": 37,
     "metadata": {},
     "output_type": "execute_result"
    }
   ],
   "source": [
    "nlp.meta.jfix"
   ]
  },
  {
   "cell_type": "code",
   "execution_count": 38,
   "metadata": {
    "collapsed": false
   },
   "outputs": [
    {
     "data": {
      "text/plain": [
       "([2.0461132184565227,1.4424439126460733],0.20363047334995565,[0.7996167071543737,-0.9992786818223892],[24.981249304766695],1,1000,0.6200850009918213)"
      ]
     },
     "execution_count": 38,
     "metadata": {},
     "output_type": "execute_result"
    }
   ],
   "source": [
    "newton_kkt_method(nlp)"
   ]
  },
  {
   "cell_type": "code",
   "execution_count": 39,
   "metadata": {
    "collapsed": false,
    "scrolled": true
   },
   "outputs": [],
   "source": [
    "cutest_finalize(nlp)"
   ]
  }
 ],
 "metadata": {
  "kernelspec": {
   "display_name": "Julia 0.4.6",
   "language": "julia",
   "name": "julia-0.4"
  },
  "language_info": {
   "file_extension": ".jl",
   "mimetype": "application/julia",
   "name": "julia",
   "version": "0.4.6"
  }
 },
 "nbformat": 4,
 "nbformat_minor": 0
}
