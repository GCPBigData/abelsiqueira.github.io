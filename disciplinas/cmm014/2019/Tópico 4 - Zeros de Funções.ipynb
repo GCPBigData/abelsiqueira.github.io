{
 "cells": [
  {
   "cell_type": "markdown",
   "metadata": {},
   "source": [
    "# Zeros de Função\n",
    "\n",
    "Em muitas situações práticas, estamos interessados em encontrar uma solução de uma equação não linear.\n",
    "Quando a equação tem alguma forma especial, como as equações afins e quadráticas, a solução pode ser obtida facilmente. Em alguns casos, uma equação aparentemente complicada pode ter uma solução através de alguns truques.\n",
    "Por exemplo, a equação\n",
    "$$ 4^{x} - 5\\times2^{x} + 6 = 0, $$\n",
    "pode ser resolvida considerando $y = 2^x$ e resolvendo uma equação quadrática.\n",
    "\n",
    "No entanto, existem casos em que não é fácil encontrar essa solução, ou ainda que não é possível.\n",
    "O exemplo mais clássico disso é a equação\n",
    "$$ xe^x = 1, $$\n",
    "cuja solução é a constante $\\Omega$, com valor perto de $0.567$. Essa constante, como $\\pi$ e $e$, é transcedental."
   ]
  },
  {
   "cell_type": "markdown",
   "metadata": {},
   "source": [
    "De uma maneira mais geral, dado uma função $f$ contínua num intervalo $[a,b]$, procuramos ao menos um valor de $x \\in [a,b]$ tal que\n",
    "$$ f(x) = 0. $$"
   ]
  },
  {
   "cell_type": "markdown",
   "metadata": {},
   "source": [
    "Uma aplicação um pouco mais prático é o de encontrar a taxa de juros de uma compra feita utilizando um financiamento pela tabela Price. Por exemplo, no financiamento de um carro.\n",
    "A equação que relaciona os valores da tabela Price é\n",
    "$$ p = V \\frac{ (1+i)^n i }{ (1 + i)^n - 1},$$\n",
    "onde $p$ é o valor da parcela, $V$ é o valor  do produto pago à vista no presente, $n$ é o número de parcelas e $i$ é a taxa de Juros. Note que para $i = 0$ essa equação não está definida, no entanto,\n",
    "faz sentido que\n",
    "- fisicamente, se não temos juros, temos uma divisão normal: $p = \\dfrac{V}{n}$,\n",
    "- matematicamente, quando $i \\to 0$, temos"
   ]
  },
  {
   "cell_type": "code",
   "execution_count": null,
   "metadata": {},
   "outputs": [],
   "source": [
    "n = 48\n",
    "i = 0.1 / 100\n",
    "V = 40_000\n",
    "p = V*(1+i)^n*i/( (1+i)^n - 1)"
   ]
  },
  {
   "cell_type": "code",
   "execution_count": null,
   "metadata": {},
   "outputs": [],
   "source": [
    "n = 48\n",
    "V = 40_000\n",
    "p = 900\n",
    "i = ?"
   ]
  },
  {
   "cell_type": "markdown",
   "metadata": {},
   "source": [
    "\\begin{align}\n",
    "\\lim_{i \\to 0} \\frac{(1 + i)^n i}{(1 + i)^n - 1}\n",
    "& = \\lim_{y \\to 1} \\frac{y^n (y - 1)}{y^n - 1} \\\\\n",
    "& = \\lim_{y \\to 1} \\frac{y^{n+1} - y^n}{y^n - 1} \\\\\n",
    "& = \\lim_{y \\to 1} \\frac{(n+1)y^n - ny^{n-1}}{ny^{n-1}} \\\\\n",
    "& = \\frac{(n+1) - n}{n} \\\\\n",
    "& = \\frac{1}{n},\n",
    "\\end{align}"
   ]
  },
  {
   "cell_type": "markdown",
   "metadata": {},
   "source": [
    "onde a última igualdade do limite segue de L'Hôpital. Daí, temos $\\displaystyle \\lim_{i \\to 0} p = \\dfrac{V}{n}$.\n",
    "Então, uma maneira de deixar essa função contínua é definir\n",
    "$$ f(i) = \\left\\{\\begin{array}{ll}\n",
    "p - V \\dfrac{(1+i)^n i}{(1+i)^n-1}, & i \\neq 0, \\\\\n",
    "p - \\dfrac{V}{n}, & i = 0.\n",
    "\\end{array}\\right.$$"
   ]
  },
  {
   "cell_type": "markdown",
   "metadata": {},
   "source": [
    "Vamos ver agora como resolver esse problema."
   ]
  },
  {
   "cell_type": "markdown",
   "metadata": {},
   "source": [
    "# Método da bissecção"
   ]
  },
  {
   "cell_type": "markdown",
   "metadata": {},
   "source": [
    "O método da bissecção é um método bastante simples de se entender, de explicar, e de implementar, por isso é um dos favoritos."
   ]
  },
  {
   "cell_type": "markdown",
   "metadata": {},
   "source": [
    "A base do método é o Teorema do Valor Intermediário:\n",
    "\n",
    "**Teorema do Valor Intermediário:**Se $f$ é contínua em $[a,b]$ e $f(a)$ e $f(b)$ têm sinais opostos, então existe $c \\in [a,b]$ tal que $f(c) = 0$."
   ]
  },
  {
   "cell_type": "markdown",
   "metadata": {},
   "source": [
    "O método da bissecção simplesmente toma o intervalo $[a,b]$ e divide-o em dois, digamos $[a,c]$ e $[c,b]$.\n",
    "Caso tenhamos sorte, o ponto $c$ será um zero da função $f$, isto é, $f(c) = 0$. Caso contrário, o sinal de $f(c)$ será oposto à ou $f(a)$, ou $f(b)$. Desse modo, um dos intervalos $[a,c]$ ou $[c,b]$ terá um zero, pelo TVI. Logo, podemos repetir o processo."
   ]
  },
  {
   "cell_type": "markdown",
   "metadata": {},
   "source": [
    "Antes de considerar os detalhes de algum algoritmo que implemente o método da bissecção, vamos considerar\n",
    "a convergência do método, definido matematicamente. Para tanto, definimos a seguinte hipótese\n",
    "\n",
    "- **H-B1:** $f$ é contínua em $[a,b]$, $a < b$ e $f(a)$ e $f(b) têm sinais opostos.\n",
    "\n",
    "Podemos definir duas sequências para o método da bissecção: $\\{a_k\\}$ e $\\{b_k\\}$, onde\n",
    "$[a_0,b_0] = [a,b]$ é o intervalo inicial dado, e cada intervalo $[a_k,b_k]$ é gerado na iteração $k$\n",
    "do método, da seguinte maneira:\n",
    "- Define-se $x_k = \\dfrac{a_{k-1} + b_{k-1}}{2}$;\n",
    "- Caso $f(x_k) = 0$, define-se $a_k = b_k = x_k$;\n",
    "- Caso contrário, se $f(a_{k-1})$ e $f(x_k)$ tenham sinais diferentes, define-se $a_k = a_{k-1}$ e $b_k = x_k$;\n",
    "- Caso nenhum dos casos anteriores aconteça, define-se $a_k = x_k$ e $b_k = b_{k-1}$.\n",
    "Vamos agora demonstrar que o intervalo $[a_k,b_k]$ vai se fechando ao redor de um zero de $f$."
   ]
  },
  {
   "cell_type": "markdown",
   "metadata": {},
   "source": [
    "**Lema:** Suponha que vale H-B1 e que $a_k < b_k$, então $f(a_k)$ e $f(b_k)$ têm sinais opostos.\n",
    "\n",
    "*Dem.:* Primeiro, veja que $x_j$ não é zero de $f$ em nenhuma iteração $j = 1,\\dots,k$. Caso contrário, teríamos $a_j = b_j = x_j = a_k = b_k$, que não é o caso.\n",
    "Agora, demonstramos o resultado por indução.\n",
    "\n",
    "Se $f(a)$ e $f(x_1)$ têm sinais diferentes, então $a_1 = a$ e $b_1 = x_1$, e fica provado.\n",
    "Caso contrário, $a_1 = x_1$ e $b_1 = b$. Mas $f(a)$ e $f(x_1)$ têm sinais iguais, e $f(b)$ e $f(a)$ têm sinais opostos. Logo, $f(x_1)$ e $f(b)$ têm sinais opostos, e fica provado.\n",
    "\n",
    "Suponha que vale para $k-1$.\n",
    "No caso de $f(a_{k-1})$ e $f(x_k)$ terem sinais diferentes, então fica claro que $f(a_k) = f(a_{k-1})$ e\n",
    "$f(b_k) = f(x_k)$ têm sinais diferentes.\n",
    "Falta analisar o caso contrário.\n",
    "Temos que $a_k = x_k$ e que $b_k = b_{k-1}$, então temos que mostrar que $f(x_k)$ e $f(b_{k-1})$ têm sinais opostos. Mas como $f(a_{k_1})$ e $f(x_k)$ têm o mesmo sinal, e por hipótese de indução, temos $f(a_{k-1})$ e $f(b_{k-1})$ têm sinais opostos, então $f(x_k)$ e $f(b_{k-1})$ têm sinais opostos, e fica provado.\n",
    "$\\blacksquare$"
   ]
  },
  {
   "cell_type": "markdown",
   "metadata": {},
   "source": [
    "O Lema acima serve para mostrar que em cada iteração do método da bissecção, teremos as hipóteses do Teorema do Valor Intermediário satisfeitas. Agora vamos para o Teorema que diz que as sequências convergem."
   ]
  },
  {
   "cell_type": "markdown",
   "metadata": {},
   "source": [
    "**Teorema (de convergência do método da bissecção):**\n",
    "Sob a hipóteses H-B1, o método da bissecção gera sequências $\\{a_k\\}$ e $\\{b_k\\}$ convergentes, ambas para um mesmo valor $c \\in [a,b]$ com $f(c) = 0$.\n",
    "\n",
    "*Dem.:* Primeiro, se existe alguma iteração onde $x_k$ satisfaz $f(x_k) = 0$, então $a_k = b_k = x_k$ e depois disso, $a_j = b_j = x_k$ para todo $j > k$. Sendo assim, trivialmente essa sequência converge, para $c \\equiv x_k$.\n",
    "\n",
    "Suponha agora que não existe $x_k$ tal que $f(x_k) = 0$.\n",
    "Note que\n",
    "$$a \\leq a_1 \\leq \\dots \\leq a_k \\leq \\dots \\leq b_k \\leq \\dots \\leq b_1 \\leq b. $$\n",
    "Isso quer dizer que a sequência $\\{a_k\\}$ é não decrescente e limitada superiormente. Portanto, é convergente.\n",
    "Por outro lado, a sequência $\\{b_k\\}$ é não crescente e limitada inferiormente. Portanto, também é convergente.\n",
    "Não somente isso, mas pela definição de $x_k$, temos\n",
    "$$ b_k - a_k = \\dfrac{b_{k-1} - a_{k-1}}{2} = \\dfrac{b - a}{2^k}, $$\n",
    "de modo que $b_k - a_k \\rightarrow 0$. Como $b_k \\rightarrow b^*$ e $a_k \\rightarrow a^*$, então\n",
    "$b_k - a_k \\rightarrow b^* - a^* = 0$. Portanto $a^* = b^*$, isto é, ambas sequências convergem para um mesmo valor, que denotaremos de $c$.\n",
    "\n",
    "Para mostrar que $f(c) = 0$, note que pela Lema anterior, como $a_k < b_k$, temos que $f(a_k)$ e $f(b_k)$ têm sinais diferentes. Sendo assim, existe $c_k \\in (a_k,b_k)$ tal que $f(c_k) = 0$.\n",
    "Como $a_k < c_k < b_k$, pelo Teorema do Confronto, temos que $c_k \\rightarrow c$.\n",
    "Pela continuidade da função $f$, temos que $f(c_k) \\rightarrow f(c)$, que implica em $f(c) = 0$.\n",
    "$\\blacksquare$"
   ]
  },
  {
   "cell_type": "markdown",
   "metadata": {},
   "source": [
    "O pseudo-código para o método está abaixo."
   ]
  },
  {
   "cell_type": "code",
   "execution_count": null,
   "metadata": {},
   "outputs": [],
   "source": [
    "#=\n",
    "    Entrada: f, a, b tais que f(a) * f(b) < 0\n",
    "1. x ← (a + b) / 2\n",
    "2. Enquanto f(x) ≠ 0\n",
    "    1. Se f(a) * f(x) < 0\n",
    "        b ← x\n",
    "    2. Senão,      # isto é, f(b) * f(x) < 0\n",
    "        a ← x\n",
    "    3. x ← (a + b) / 2\n",
    "3. Retorne x\n",
    "    Saída: x tal que f(x) = 0\n",
    "=#"
   ]
  },
  {
   "cell_type": "markdown",
   "metadata": {},
   "source": [
    "Note que chamados esse processo de *método* da bissecção, não de *algoritmo* de bissecção.\n",
    "Essa é uma diferença importante e recorrente.\n",
    "Aqui, a cerne do nosso estudo é o \"miolo\" do algoritmo, isto é, como definir algo\n",
    "matematicamente de modo que propriedades teóricas sejam satisfeitas.\n",
    "Em geral, as condições de parada não ficam bem estabelecidas num método.\n",
    "Além disso, existe a questão das *hipóteses de entrada*. Quando não são satisfeitas,\n",
    "um algoritmo deve lidar com isso, enquanto que o método é definido supondo tais\n",
    "hipóteses.\n",
    "Além das hipóteses de entrada, existem as *hipóteses de convergência*, que serão\n",
    "definidas posteriormente para mostrar que o método funciona.\n",
    "Algumas dessas hipóteses não podem ser testadas computacionalmente, por exemplo\n",
    "a continuidade da função $f$. No entanto, essa hipótese é essencial para que o\n",
    "método funcione. Muitas vezes, as hipóteses de entrada e de convergência aparecem simplesmente como hipóteses.\n",
    "Computacionalmente, devemos adicionar critérios de parada adicionais para garantir\n",
    "a finitude do algoritmo. Isso foi visto, por exemplo, quando trabalhamos com a sequência\n",
    "de Collatz."
   ]
  },
  {
   "cell_type": "markdown",
   "metadata": {},
   "source": [
    "## Critério de sucesso\n",
    "\n",
    "Uma questão importante neste método, e em muitos outros métodos matemáticos, é que $f(x) = 0$ pode não acontecer em tempo finito, assim como pode não ser possível computacionalmente.\n",
    "Por exemplo, a sequência $x_k = 1/k$ converge para $0$, mas nunca chegará nela em tempo finito se cada iteração levar uma quantidade de tempo $t \\geq t_{\\min} > 0$.\n",
    "\n",
    "Por outro lado, veja o exemplo abaixo para a função\n",
    "$$ f(x) = \\bigg(\\cos(x) - \\frac{1}{2}\\bigg)^2, $$\n",
    "onde buscamos uma solução no intervalo $[0,\\pi]$ (que é $\\pi/3$)."
   ]
  },
  {
   "cell_type": "code",
   "execution_count": null,
   "metadata": {},
   "outputs": [],
   "source": [
    "f(x) = (cos(x) - 0.5)^2\n",
    "s = pi/3\n",
    "sn = nextfloat(s)\n",
    "sn2 = nextfloat(sn)\n",
    "sp = prevfloat(s)\n",
    "\n",
    "println(\"Solução esperada: s = π/3 = $s\")\n",
    "println(\"f(s) = $(f(s))\")\n",
    "println(\"Próximo ponto flutuante: sn = $sn\")\n",
    "println(\"f(sn) = $(f(sn))\")\n",
    "println(\"Próximo ponto flutuante: sn2 = $sn2\")\n",
    "println(\"f(sn2) = $(f(sn2))\")\n",
    "println(\"Ponto flutuante antes de s: sp = $sp\")\n",
    "println(\"f(sp) = $(f(sp))\")"
   ]
  },
  {
   "cell_type": "markdown",
   "metadata": {},
   "source": [
    "Isso sem falar no problema de escalamento:"
   ]
  },
  {
   "cell_type": "code",
   "execution_count": null,
   "metadata": {},
   "outputs": [],
   "source": [
    "f(x) = 1e50 * (cos(x) - 0.5)^2\n",
    "s = pi/3\n",
    "sn = nextfloat(s)\n",
    "sn2 = nextfloat(sn)\n",
    "sp = prevfloat(s)\n",
    "\n",
    "println(\"Solução esperada: s = π/3 = $s\")\n",
    "println(\"f(s) = $(f(s))\")\n",
    "println(\"Próximo ponto flutuante: sn = $sn\")\n",
    "println(\"f(sn) = $(f(sn))\")\n",
    "println(\"Próximo ponto flutuante: sn2 = $sn2\")\n",
    "println(\"f(sn2) = $(f(sn2))\")\n",
    "println(\"Ponto flutuante antes de s: sp = $sp\")\n",
    "println(\"f(sp) = $(f(sp))\")"
   ]
  },
  {
   "cell_type": "markdown",
   "metadata": {},
   "source": [
    "Ambos os problemas podem ser resolvidos lembrando que estamos trabalhando com aproximações dos valores pela máquina, e que então devemos ter uma **tolerância** para o quão próximo de $0$ aceitaremos que um valor esteja.\n",
    "\n",
    "A maneira mais simples de tentar resolver esse problema é utilizar uma **tolerância absoluta** $\\epsilon_a > 0$:\n",
    "se $|f(x)| \\leq \\epsilon_a$, então consideramos que $x$ é uma boa aproximação para um zero da função.\n",
    "Como visto acima, no entanto, podemos ter $f$ multiplicada por alguma constante muito grande, que acaba desnivelando completamente nosso teste. Uma maneira de tentar resolver esse problema é utilizar uma\n",
    "**tolerância relativa**, onde multiplicamos uma constante $\\epsilon_r > 0$ por algum valor de referência.\n",
    "O valor de referência ideal deve conseguir identificar a escala de $f$ perto da solução. Uma maneira de fazer isso é utilizar algum valor de $f(x_k)$ como referência. Como não temos nenhuma informação de quantas informações serão necessárias para se chegar perto da solução, podemos utilizar o primeiro valor de $f$ como referência, isto é $f(x_0)$. Dessa maneira, se $|f(x)| \\leq \\epsilon_r |f(x_0)|$, então $x$ é uma boa aproximação para um zero da função.\n",
    "\n",
    "Nossos problemas não acabaram ainda: qual critério utilizar? O absoluto ou o relativo? No primeiro exemplo, qualquer um dos dois funcionaria começando numa distância razoável da solução (o número de iterações pode ser diferente). No segundo exemplo, só o relativo funcionaria. No entanto, podemos ter um exemplo onde a tolerância relativa não funciona, mas a absoluta funcionaria."
   ]
  },
  {
   "cell_type": "code",
   "execution_count": null,
   "metadata": {},
   "outputs": [],
   "source": [
    "f(x) = (cos(pi/3 + 1e-50 * (x - pi/3)) - 0.5)^2\n",
    "s = pi/3\n",
    "sn = nextfloat(s)\n",
    "sn2 = nextfloat(sn)\n",
    "sp = prevfloat(s)\n",
    "\n",
    "println(\"Solução esperada: s = π/3 = $s\")\n",
    "println(\"f(s) = $(f(s))\")\n",
    "println(\"Próximo ponto flutuante: sn = $sn\")\n",
    "println(\"f(sn) = $(f(sn))\")\n",
    "println(\"Próximo ponto flutuante: sn2 = $sn2\")\n",
    "println(\"f(sn2) = $(f(sn2))\")\n",
    "println(\"Ponto flutuante antes de s: sp = $sp\")\n",
    "println(\"f(sp) = $(f(sp))\")\n",
    "\n",
    "println(\"x₀ = 0.0, f(x₀) = $(f(0.0))\")"
   ]
  },
  {
   "cell_type": "markdown",
   "metadata": {},
   "source": [
    "Uma maneira que está sendo utilizada com mais frequência é uma combinação das duas tolerâncias.\n",
    "$$ |f(x)| \\leq \\epsilon_a + \\epsilon_r |f(x_0)|. $$\n",
    "Em geral, vamos considerar uma combinação das duas condições quando possível.\n",
    "\n",
    "Os valores de $\\epsilon_a$ e $\\epsilon_r$ variam de acordo com a aplicação e a necessidade de aproximações mais precisas. Os valores mais comuns são da ordem de $10^{-4}$, $10^{-6}$ e $10^{-8}$."
   ]
  },
  {
   "cell_type": "markdown",
   "metadata": {},
   "source": [
    "## Critérios de parada\n",
    "\n",
    "Além do critério acima, precisamos definir outros critérios para obter a finitude.\n",
    "Um ponto interessante em muitos métodos matemáticos é que\n",
    "\n",
    "> *Mesmo que a condição de parada de sucesso não seja satisfeita, a saída do programa ainda pode ser útil.*"
   ]
  },
  {
   "cell_type": "markdown",
   "metadata": {},
   "source": [
    "Esse é um conceito importante em muitos problemas. Em particular, em alguns problemas de programação linear e inteira, uma solução precisa pode ser computacionalmente inviável (anos para se obter). O comum nesses casos, é estabelecer limites para o tempo de execução, iterações, memória, etc., e utilizar a melhor solução obtida até então."
   ]
  },
  {
   "cell_type": "markdown",
   "metadata": {},
   "source": [
    "Alguns dos critérios de paradas mais utilizados:\n",
    "- Progresso lento (e.g., a distância entre $x_k$ e $x_{k-1}$ ficou muito pequena, $b_k - a_k$ está muito pequeno, etc.);\n",
    "- Limite de tempo;\n",
    "- Limite de iterações;\n",
    "- Limite de algum outro gasto - principalmente avaliações de função;\n",
    "- Falha na satisfação de alguma hipótese."
   ]
  },
  {
   "cell_type": "markdown",
   "metadata": {},
   "source": [
    "Antes de olhar a implementação abaixo, faça uma implementação bastante simples do método da bissecção.\n",
    "Teste com a função $f(x) = xe^x - 1$ no intervalo $[0, 1]$."
   ]
  },
  {
   "cell_type": "code",
   "execution_count": null,
   "metadata": {},
   "outputs": [],
   "source": [
    "\"\"\"`bisseccao(f, a, b; atol=1e-6, rtol=1e-6, maxiter=10_000)`\n",
    "\n",
    "Calcula um zero para `f` no intervalo `[a,b]` utilizando o método da bissecção.\n",
    "Se `f(a) * f(b) < 0`, então retorna um erro.\n",
    "\n",
    "Saída: `xₖ, f(xₖ), k`\n",
    "\n",
    "    xₖ    - aproximação para um zero de f\n",
    "    f(xₖ) - f aplicada nessa aproximação\n",
    "    k     - número de iterações\n",
    "\"\"\"\n",
    "function bisseccao(f::Function, a::Real, b::Real; atol=1e-6, rtol=1e-6, maxiter=10_000)\n",
    "    (fa, fb) = (f(a), f(b))\n",
    "    ϵ = atol + rtol * (abs(fa) + abs(fb)) / 2\n",
    "    if abs(fa) <= ϵ\n",
    "        return a, fa, 0\n",
    "    elseif abs(fb) <= ϵ\n",
    "        return b, fb, 0\n",
    "    elseif fa * fb > 0\n",
    "        error(\"f(a) e f(b) devem ter sinais diferentes\")\n",
    "    end\n",
    "    x = (a + b) / 2\n",
    "    fx = f(x)\n",
    "    iter = 1\n",
    "    while !(abs(fx) <= ϵ || iter > maxiter)\n",
    "        if fx * fa < 0\n",
    "            b = x\n",
    "        else\n",
    "            a = x\n",
    "        end\n",
    "    \n",
    "        x = (a + b) / 2\n",
    "        fx = f(x)\n",
    "        iter += 1\n",
    "    end\n",
    "    \n",
    "    return x, fx, iter\n",
    "end"
   ]
  },
  {
   "cell_type": "code",
   "execution_count": null,
   "metadata": {},
   "outputs": [],
   "source": [
    "xtil, fx, iter = bisseccao(x->x^2 - 2, 1, 2)"
   ]
  },
  {
   "cell_type": "code",
   "execution_count": null,
   "metadata": {},
   "outputs": [],
   "source": [
    "x = sqrt(2)"
   ]
  },
  {
   "cell_type": "code",
   "execution_count": null,
   "metadata": {},
   "outputs": [],
   "source": [
    "Erro = x - xtil"
   ]
  },
  {
   "cell_type": "code",
   "execution_count": null,
   "metadata": {},
   "outputs": [],
   "source": [
    "ErroAbs = abs(Erro)"
   ]
  },
  {
   "cell_type": "code",
   "execution_count": null,
   "metadata": {},
   "outputs": [],
   "source": [
    "ErroRel = ErroAbs/x"
   ]
  },
  {
   "cell_type": "code",
   "execution_count": null,
   "metadata": {},
   "outputs": [],
   "source": [
    "xtil, fx, iter = bisseccao(x->x^2 - 2, 1, 2, atol=1e-12, rtol=1e-12)"
   ]
  },
  {
   "cell_type": "code",
   "execution_count": null,
   "metadata": {},
   "outputs": [],
   "source": [
    "abs(x-xtil)/x"
   ]
  },
  {
   "cell_type": "code",
   "execution_count": null,
   "metadata": {},
   "outputs": [],
   "source": [
    "xtil, fx, iter = bisseccao(x->x^2, 1, 3)"
   ]
  },
  {
   "cell_type": "code",
   "execution_count": null,
   "metadata": {},
   "outputs": [],
   "source": [
    "xtil, fx, iter = bisseccao(x->x*exp(x) - 1.0, 0, 1, atol=1e-12, rtol=1e-12)"
   ]
  },
  {
   "cell_type": "markdown",
   "metadata": {},
   "source": [
    "### Exemplo da Tabela Price"
   ]
  },
  {
   "cell_type": "markdown",
   "metadata": {},
   "source": [
    "Exercício: Faça uma pequena função que recebe $p$, $V$ e $n$ e calcula $i$ correspondente da tabela price. Reveja a introdução do capítulo para pegar os significados das constantes.\n",
    "Para $V = 10000$ e $n = 10$, compare com os seguintes valores de $p$:\n",
    "- $p = 1100$;\n",
    "- $p = 1500$;\n",
    "- $p = 1000$;\n",
    "- $p = 990$.\n",
    "\n",
    "Compare sua solução com a [Calculadora do Cidadão do Banco Central](https://www3.bcb.gov.br/CALCIDADAO/publico/calcularFinanciamentoPrestacoesFixas.do)."
   ]
  },
  {
   "cell_type": "markdown",
   "metadata": {},
   "source": [
    "Encontre alguma promoção online de venda de carros e compare o juros do anúncio com o juros calculado pela sua calculadora. Note que o valor de entrada é descontado de $V$."
   ]
  },
  {
   "cell_type": "code",
   "execution_count": null,
   "metadata": {},
   "outputs": [],
   "source": [
    "# Implemente\n",
    "function calc_juros(p, V, n)\n",
    "\n",
    "end"
   ]
  },
  {
   "cell_type": "code",
   "execution_count": null,
   "metadata": {},
   "outputs": [],
   "source": [
    "for p = [1100; 1500; 1000; 990]\n",
    "    i = calc_juros(p, 10000, 10)\n",
    "    println(\"i = $i\")\n",
    "end"
   ]
  },
  {
   "cell_type": "markdown",
   "metadata": {},
   "source": [
    "# Método de Newton"
   ]
  },
  {
   "cell_type": "markdown",
   "metadata": {},
   "source": [
    "Apesar do método da bissecção ser extremamente simples de se implementar, ele pode ser muito lento.\n",
    "Uma alternativa é utilizar o método de Newton.\n",
    "Esse método, com variações em diversas áreas, é um dos métodos mais famosos e importantes.\n",
    "Um professor costumava dizer:\n",
    "\n",
    "> *Se você criar alguma coisa e for tão bom quanto Newton, é porque você fez o Newton com alguma outra cara.*\n",
    "\n",
    "Algumas ressalvas se aplicam na frase acima, mas Newton realmente é considerado um dos melhores métodos para vários problemas. Vamos estudar quando usar o Newton é bom, e quando ele pode falhar."
   ]
  },
  {
   "cell_type": "markdown",
   "metadata": {},
   "source": [
    "## Métodos geradores de passos\n",
    "\n",
    "O método de Newton cai numa categoria de métodos chamada de \"geradores de passos\".\n",
    "Um método gerador de passos começa com uma aproximação inicial $x_0$ e define em cada iteração $k$ define um passo\n",
    "$d_k$ e calcula uma nova iteração fazendo $$x_k = x_{k-1} + d_k.$$"
   ]
  },
  {
   "cell_type": "markdown",
   "metadata": {},
   "source": [
    "Essa definição é bastante simples, mas é bastante importante numa consideração que não entraremos nesta disciplina:\n",
    "**paralelismo**. Se tivermos a possibilidade de realizar operações em paralelo e utilizamos um método gerador de passos, ficamos presos na paralelização da iteração $k$. Outros métodos, por exemplo do tipo dividir e conquistar, podem paralelizar cada parte separada às vezes."
   ]
  },
  {
   "cell_type": "markdown",
   "metadata": {},
   "source": [
    "### Motivação do Método de Newton\n",
    "\n",
    "O método de Newton tem duas motivações: *geométrica* e *teórica*.\n",
    "Ambas seguem da mesma ideia de aproximar a função $f$ por uma função afim em torno da iteração atual."
   ]
  },
  {
   "cell_type": "code",
   "execution_count": null,
   "metadata": {},
   "outputs": [],
   "source": [
    "# Motivação geométrica\n",
    "using Plots\n",
    "gr(size=(600,400))\n",
    "f(x) = x^2 - 2\n",
    "plot(f, 0, 3, c=:blue, lab=\"f\", leg=:topleft)\n",
    "plot!(x->0, 0, 3, c=:black, lab=\"\")\n",
    "a = 2.5\n",
    "scatter!([a], [f(a)], c=:red, lab=\"x0\", ms=3)\n",
    "L(x) = f(a) + 2 * a * (x - a)\n",
    "plot!(L, 0, 3, c=:red, lab=\"L0\")\n",
    "ylims!(-2, 5)"
   ]
  },
  {
   "cell_type": "code",
   "execution_count": null,
   "metadata": {},
   "outputs": [],
   "source": [
    "# Motivação geométrica\n",
    "f(x) = x^2 - 2\n",
    "plot(f, 0, 3, c=:blue, lab=\"f\", leg=:topleft)\n",
    "plot!(x->0, 0, 3, c=:black, lab=\"\")\n",
    "a = 2.5\n",
    "scatter!([a], [f(a)], c=:blue, lab=\"x0\")\n",
    "a = a - f(a) / 2a\n",
    "plot!([a; a], [0; f(a)], l=:dash, c=:red, lab=\"\")\n",
    "scatter!([a], [f(a)], c=:red, lab=\"x1\")\n",
    "L(x) = f(a) + 2 * a * (x - a)\n",
    "plot!(L, 0, 3, c=:red, lab=\"L1\")\n",
    "ylims!(-2, 5)"
   ]
  },
  {
   "cell_type": "markdown",
   "metadata": {},
   "source": [
    "#### A motivação é bastante simples: achar o zero de uma função afim é muito mais simples que de uma função não afim.\n",
    "Então, vamos aproximar a função $f$ por uma função afim na iteração $k$ em torno do ponto $x_{k-1}$, e chamar seu zero de $x_k$. Repetimos o processo até que o critério de convergência seja satisfeito.\n",
    "\n",
    "Teoricamente, estamos considerando a seguinte aproximação de Taylor:\n",
    "$$ f(x_{k-1} + d) = f(x_{k-1}) + df'(x_{k-1}) + \\frac{d^2}{2}f''(\\xi), $$\n",
    "onde $d$ é o **passo** que estamos tomando, e $\\xi$ é um valor entre $x_{k-1}$ e $x_{k-1}+d$.\n",
    "A aproximação de primeira ordem de $f$ é\n",
    "$$ L(d) = f(x_{k-1}) + df'(x_{k-1}), $$\n",
    "e a se $d$ ou $f''(\\xi)$ forem muito próximos de zero, então o valor $f(x_{k-1}+d) \\approx L(d)$.\n",
    "Como queremos $f(x_{k-1}+d_k) = 0$, definimos $d_k$ a partir da solução de $L(d_k) = 0$.\n",
    "Em outras palavras,\n",
    "$$ f(x_{k-1}) + d_kf'(x_{k-1}) = 0. $$\n",
    "Desse modo, se $f'(x_{k-1} \\neq 0$, temos\n",
    "$$d_k = -\\dfrac{f(x_{k-1})}{f'(x_{k-1})}.$$"
   ]
  },
  {
   "cell_type": "markdown",
   "metadata": {},
   "source": [
    "Isso nos permite definir a sequência gerada pelo método de Newton por\n",
    "$$ x_k = x_{k-1} + d_k = x_{k-1} - \\frac{f(x_{k-1})}{f'(x_{k-1})}. $$"
   ]
  },
  {
   "cell_type": "markdown",
   "metadata": {},
   "source": [
    "Em particular, muitas vezes é mais claro escrever para $k+1$:\n",
    "$$ x_{k+1} = x_k - \\frac{f(x_k)}{f'(x_k)}. $$"
   ]
  },
  {
   "cell_type": "markdown",
   "metadata": {},
   "source": [
    "Note que essa sequência só está bem definida se $f'(x_k) \\neq 0$ para todo $k$.\n",
    "Além disso, não é trivial ver se essa sequência converge, diferente do que acontece com o método da bissecção.\n",
    "Por sorte, temos um teorema declarando esse resultado."
   ]
  },
  {
   "cell_type": "markdown",
   "metadata": {},
   "source": [
    "**Teorema (da convergência do método de Newton):** Se $f$ é continuamente diferenciável no intervalo $[a,b]$ e\n",
    "existe $c \\in (a,b)$ tal que $f(c) = 0$ e $f'(c) \\neq 0$, então existe $\\delta > 0$ tal que se $x_0 \\in [c-\\delta,c+\\delta]$, então\n",
    "o método de Newton começando por $x_0$ gera uma sequência bem definida e convergente para $c$.\n",
    "Se, além disso, $f''$ for contínua numa vizinhança de $c$, então a sequência converge quadraticamente."
   ]
  },
  {
   "cell_type": "markdown",
   "metadata": {},
   "source": [
    "*Dem.:* A demonstração foge do escopo da disciplina. Existem vários livros que podem ser consultados para verificar esta demonstração. Em particular, Ruggiero e Lopes ou Burden e Faires contém essa demonstração.\n",
    "$\\blacksquare$."
   ]
  },
  {
   "cell_type": "markdown",
   "metadata": {},
   "source": [
    "É importante perceber a diferença fundamental entre este teorema e o teorema de convergência do método de bissecção. No teorema da bissecção, uma condição bastante simples de mudança de sinal precisa ser satisfeita.\n",
    "Aqui, o teorema diz apenas que existe uma vizinhança da solução onde podemos começar nosso método.\n",
    "Não é dito nada sobre o tamanho desse intervalo, e além disso, precisariamos saber do valor de $c$ para saber onde centrar esse intervalo.\n",
    "Isso muda fortemente nosso uso do método. Já que não é possível saber se estamos satisfazendo as condições de convergência, teremos sempre a preocupação de que podemos falhar a qualquer momento.\n",
    "Logo, é imperativo que coloquemos condições de parada de exaustão para a finitude do método."
   ]
  },
  {
   "cell_type": "markdown",
   "metadata": {},
   "source": [
    "A parte sobre convergência quadrática será explicada abaixo."
   ]
  },
  {
   "cell_type": "markdown",
   "metadata": {},
   "source": [
    "As condições mais importantes aqui são:\n",
    "- Condição de sucesso ($|f(x_k)| \\leq \\epsilon_a + \\epsilon_r|f(x_0)|$.);\n",
    "- Exaustão de algum tipo (avaliações de função, iterações, tempo);\n",
    "- Derivada nula (ou muito próxima de zero)."
   ]
  },
  {
   "cell_type": "code",
   "execution_count": null,
   "metadata": {},
   "outputs": [],
   "source": [
    "\"\"\"`newton(f, fder, x; atol=1e-6, rtol=1e-6, maxiter=10_000, fdertol=1e-12)`\n",
    "\n",
    "Calcula um zero para a função `f` utilizando o método de Newton.\n",
    "Inicia o método a partir do ponto `x` e usa a função `fder ` como\n",
    "derivada da função `f`.\n",
    "\n",
    "Caso a derivada fique muito próxima de zero, um erro é lançado.\n",
    "\n",
    "Saída: `xₖ, f(xₖ), k`\n",
    "\n",
    "    xₖ    - aproximação para um zero de f\n",
    "    f(xₖ) - f aplicada nessa aproximação\n",
    "    k     - número de iterações\n",
    "\"\"\"\n",
    "function newton(f, fder, x; atol=1e-6, rtol=1e-6, maxiter=10_000, fdertol=1e-12)\n",
    "    fx = f(x)\n",
    "    iter = 0\n",
    "    ϵ = atol + rtol * abs(fx)\n",
    "    while !(abs(fx) <= ϵ || iter > maxiter)\n",
    "        fderx = fder(x)\n",
    "        if abs(fderx) < fdertol\n",
    "            error(\"Derivada muito próxima de zero\")\n",
    "        end\n",
    "        x = x - fx/fderx\n",
    "        fx = f(x)\n",
    "        iter += 1\n",
    "    end\n",
    "    return x, fx, iter\n",
    "end"
   ]
  },
  {
   "cell_type": "code",
   "execution_count": null,
   "metadata": {},
   "outputs": [],
   "source": [
    "f(x) = x^2 - 2\n",
    "fder(x) = 2x\n",
    "x0 = 1\n",
    "x, fx, iter = newton(f, fder, x0)"
   ]
  },
  {
   "cell_type": "code",
   "execution_count": null,
   "metadata": {},
   "outputs": [],
   "source": [
    "x, fx, iter = newton(f, fder, 100.0)"
   ]
  },
  {
   "cell_type": "code",
   "execution_count": null,
   "metadata": {},
   "outputs": [],
   "source": [
    "x, fx, iter = newton(x->x * exp(x) - 1, x->exp(x) * (1 + x), -1.0)"
   ]
  },
  {
   "cell_type": "code",
   "execution_count": null,
   "metadata": {},
   "outputs": [],
   "source": [
    "x, fx, iter = newton(x->x * exp(x) - 1, x->exp(x) * (1 + x), 1.0)"
   ]
  },
  {
   "cell_type": "code",
   "execution_count": null,
   "metadata": {},
   "outputs": [],
   "source": [
    "x, fx, iter = newton(x->exp(x), x->exp(x), 1.0)"
   ]
  },
  {
   "cell_type": "markdown",
   "metadata": {},
   "source": [
    "O exemplo abaixo serve para mostrar que às vezes Newton não converge, nem explode, e sua derivada também não fica próxima de zero."
   ]
  },
  {
   "cell_type": "code",
   "execution_count": null,
   "metadata": {},
   "outputs": [],
   "source": [
    "a = 1/sqrt(5)\n",
    "println(\"1/√5 = $a\")\n",
    "x, fx, iter = newton(x->x^3 - x, x->3x^2 - 1, 1/sqrt(5))\n",
    "println(\"x = $x, iter = $iter\")"
   ]
  },
  {
   "cell_type": "markdown",
   "metadata": {},
   "source": [
    "Perceba que às vezes o método de Newton não funciona, mas quando funciona, tende a ser bem mais rápido que o método da bissecção. Isso se deve à parte do Teorema que diz que a **convergência do método é quadrática**."
   ]
  },
  {
   "cell_type": "markdown",
   "metadata": {},
   "source": [
    "**Def.:** Uma sequência $\\{x_k\\}$ convergente à $a$ é dita ter convergência linear, ou quadrática, se\n",
    "$$ \\lim_{k\\to\\infty} \\frac{|x^{k+1} - a|}{|x^k - a|} = C, $$\n",
    "para algum $0 < C < 1$, ou\n",
    "$$ \\lim_{k\\to\\infty} \\frac{|x^{k+1} - a|}{|x^k - a|^2} > 0, $$\n",
    "respectivamente."
   ]
  },
  {
   "cell_type": "markdown",
   "metadata": {},
   "source": [
    "**Def.:** Uma sequência $\\{x_k\\}$ convergente à $a$ é dita ter convergência superlinear se\n",
    "$$ \\lim_{k\\to\\infty} \\frac{|x^{k+1} - a|}{|x^k - a|} = C_k, $$\n",
    "e $C_k \\to 0$."
   ]
  },
  {
   "cell_type": "code",
   "execution_count": null,
   "metadata": {
    "scrolled": true
   },
   "outputs": [],
   "source": [
    "using Printf\n",
    "\n",
    "f(x) = x^2 - 1.0\n",
    "fder(x) = 2x\n",
    "x = 10.0\n",
    "k = 0\n",
    "@printf(\"%2s  %11s  %11s\\n\", \"k\", \"f(x)\", \"x_k - 1.0\")\n",
    "@printf(\"%-2d  %+10.4e  %+10.4e\\n\", k, f(x), x - 1.0)\n",
    "while abs(f(x)) > 1e-12\n",
    "    x = x - f(x)/fder(x)\n",
    "    k += 1\n",
    "    @printf(\"%-2d  %+10.4e  %+10.4e\\n\", k, f(x), x - 1.0)\n",
    "end"
   ]
  },
  {
   "cell_type": "markdown",
   "metadata": {},
   "source": [
    "Veja um exemplo onde as condições do Teorema não são verificadas."
   ]
  },
  {
   "cell_type": "code",
   "execution_count": null,
   "metadata": {},
   "outputs": [],
   "source": [
    "f(x) = (x - 1.0)^2\n",
    "fder(x) = 2(x - 1.0)\n",
    "x = 10.0\n",
    "k = 0\n",
    "@printf(\"%2s  %11s  %11s\\n\", \"k\", \"f(x)\", \"x_k - 1.0\")\n",
    "@printf(\"%-2d  %+10.4e  %+10.4e\\n\", k, f(x), x - 1.0)\n",
    "while abs(f(x)) > 1e-12\n",
    "    x = x - f(x)/fder(x)\n",
    "    k += 1\n",
    "    @printf(\"%-2d  %+10.4e  %+10.4e\\n\", k, f(x), x - 1.0)\n",
    "end"
   ]
  },
  {
   "cell_type": "markdown",
   "metadata": {},
   "source": [
    "## Aproximações lineares diferentes de Newton\n",
    "\n",
    "O Método de Newton tem uma grande falha. Se a derivada $f'(x_k) = 0$, então a iteração $k$ não está bem definida.\n",
    "No entanto, podemos aproximar essa derivada de algumas maneiras simples.\n",
    "Uma delas é utilizando dois pontos anteriores da curva:\n",
    "$$ m = \\frac{f(x_k) - f(x_{k-1})}{x_{k} - x_{k-1}}. $$"
   ]
  },
  {
   "cell_type": "markdown",
   "metadata": {},
   "source": [
    "Essa aproximação forma, no lugar de uma reta tangente, uma reta **secante** à curva, de modo que chamamos o método que usa essa reta de **Método Secante**, ou da Secante."
   ]
  },
  {
   "cell_type": "markdown",
   "metadata": {},
   "source": [
    "Note que esse método precisa de um ponto inicial além do $x_0$."
   ]
  },
  {
   "cell_type": "code",
   "execution_count": null,
   "metadata": {},
   "outputs": [],
   "source": [
    "#=\n",
    "Entrada: f: função real\n",
    "         x₀: ponto inicial\n",
    "         x₁: outra aproximação diferente de x₀\n",
    "0. k = 1\n",
    "1. Enquanto |f(xₖ)| > ϵ\n",
    "    1.1. m = (f(xₖ) - f(xₖ₋₁)) / (xₖ - xₖ₋₁)\n",
    "    1.2. xₖ₊₁ = xₖ - f(xₖ)/m     # Obs: Essa conta pode ser aberta\n",
    "    1.3. Incremente k\n",
    "Saída:  xₖ: aproximação para o zero de f\n",
    "        k:  número de iterações.\n",
    "=#"
   ]
  },
  {
   "cell_type": "code",
   "execution_count": null,
   "metadata": {},
   "outputs": [],
   "source": [
    "function secante(f, a, b; atol = 1e-6, rtol = 1e-6, maxiter = 1000, fdertol = 1e-6)\n",
    "    # Exercício\n",
    "end"
   ]
  },
  {
   "cell_type": "code",
   "execution_count": null,
   "metadata": {},
   "outputs": [],
   "source": [
    "secante(x->x^2 - 2, 0, 1)"
   ]
  },
  {
   "cell_type": "code",
   "execution_count": null,
   "metadata": {},
   "outputs": [],
   "source": [
    "secante(x->exp(-x) - x, 0, 1)"
   ]
  },
  {
   "cell_type": "markdown",
   "metadata": {},
   "source": [
    "Outra modificação bastante simples, é o **Método de Newton Modificado**, que consiste de usar $m$ fixo igual ao primeiro ponto $f'(x_0)$. Na prática, após $N$ iterações, esse valor é atualizado, de modo que o método fica\n",
    "como\n",
    "$$ x_{k+1} = x_k - \\frac{f(x_k)}{m_k}, $$\n",
    "onde\n",
    "$$ m_k = \\left\\{\\begin{array}{ll}\n",
    "f'(x_k), \\mbox{se } k \\mbox{ é divisível por } N, \\\\\n",
    "m_{k-1}, \\mbox{caso contrário}.\n",
    "\\end{array}\\right. $$"
   ]
  },
  {
   "cell_type": "markdown",
   "metadata": {},
   "source": [
    "# Exercícios\n",
    "\n",
    "Faça os exercícios do capítulo 2, com exceção daqueles de assuntos não vistos em classe (e.g. Método do Ponto Fixo).\n",
    "\n",
    "1. Utilize os métodos da Bissecção, de Newton e da Secante para encontrar uma\n",
    "  aproximação para algum zero de cada uma das funções abaixo.  Para bissecção, use\n",
    "  o intervalo $[a,b]$ dado, para Newton use $x_0 = a$, e para Secante, use $x_0 = a$ e\n",
    "  $x_1 = b$.  Caso encontre alguma divisão por 0, raiz negativa, ou outro problema\n",
    "  de domínio, declare falha. Declare convergência com $|f(x_k)| < 10^{-2}$.\n",
    "  **Faça na mão**\n",
    "\n",
    "  - $f(x) = x^2 - 2$, em $[1,2]$;\n",
    "  - $f(x) = e^{-x} - x$, em $[0,1]$;\n",
    "  - $f(x) = x^3 - 3x$, em $[1,2]$;\n",
    "  - $f(x) = x^3 - 3x$, em $[-1,1]$;\n",
    "  - $f(x) = \\cos(x)$, em $[0,2]$;\n",
    "  - $f(x) = \\dfrac{x}{x^2 - 4}$, em $[-1,1]$;\n",
    "\n",
    "2. Faça o que se pede\n",
    "  - Mostre que o método da bissecção aplicado à função $f(x) = x - 2^{-n}$ leva\n",
    "    $n$ iterações para convergir (teoricamente).\n",
    "  - O exemplo em (a) mostra um defeito do método da bissecção: Ele pode demorar\n",
    "    mesmo para funções fáceis. Para tentar remediar isso, o Método da Falsa Posição\n",
    "    foi criado, onde a divisão do intervalo [a,b] é feita num ponto ponderado pelos\n",
    "    valores dos inversos de $|f(a)|$ e $|f(b)|$. Desse modo, um ponto com valor de\n",
    "    função mais próximo de zero tem peso maior.\n",
    "    Em outras palavras, o próximo extremo do intervalo é\n",
    "    dado por\n",
    "    \n",
    "    $$ x = \\frac{ap_1 + bp_2}{p_1 + p_2} $$\n",
    "\n",
    "    onde $p_1 = \\dfrac{1}{|f(a)|}$ e $p_2 = \\dfrac{1}{|f(b)|}$.\n",
    "    Implemente este método.\n",
    "  - Mostre que o x do Método da Falsa Posição pode ser escrito como\n",
    "\n",
    "    $$ x = \\frac{a f(b) - b f(a)}{f(b) - f(a)}. $$\n",
    "\n",
    "  - Mostre que o Método da False Posição converge em uma iteração para qualquer\n",
    "    função afim. Verifique isso para a função do item (a).\n",
    "\n",
    "3. Considere o Método de Newton aplicado à função $f(x) = x^2 - 1$, a partir de\n",
    "   algum $x_0 > 0$. Mostre que\n",
    "\n",
    "  - Se $0 < x_0 < 1$, então $x_1 > 1$. (Dica: Use o fato de que $(x_0 - 1)^2 > 0$. )\n",
    "  - Se $x_k > 1$, então $x_{k+1} > 1$.\n",
    "  - Se $x_k > 1$, então $x_{k+1} < x_k$.\n",
    "  - Se $x_0 > 0$, então $x_k \\to 1$.\n",
    "  - Se $x_k > 1$, então $|x_{k+1} - 1| < |x_k - 1|^2/2$, logo $x_k$ converge quadraticamente.\n",
    "  - Se $x_k > 1$, então $|f(x_{k+1})| < |f(x_k)|^2/4$, logo $f(x_k)$ converge quadraticamente."
   ]
  },
  {
   "cell_type": "code",
   "execution_count": null,
   "metadata": {},
   "outputs": [],
   "source": []
  }
 ],
 "metadata": {
  "@webio": {
   "lastCommId": "86c77e2e0f81413e929a05ea6ee4550b",
   "lastKernelId": "57894aa5-afe1-4060-9d7f-ee11d0690de2"
  },
  "kernelspec": {
   "display_name": "Julia 1.1.0",
   "language": "julia",
   "name": "julia-1.1"
  },
  "language_info": {
   "file_extension": ".jl",
   "mimetype": "application/julia",
   "name": "julia",
   "version": "1.1.0"
  }
 },
 "nbformat": 4,
 "nbformat_minor": 1
}
