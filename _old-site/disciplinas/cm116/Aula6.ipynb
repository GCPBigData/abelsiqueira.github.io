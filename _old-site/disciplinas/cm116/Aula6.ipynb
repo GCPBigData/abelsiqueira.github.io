{
 "cells": [
  {
   "cell_type": "code",
   "execution_count": 9,
   "metadata": {
    "collapsed": false
   },
   "outputs": [
    {
     "name": "stdout",
     "output_type": "stream",
     "text": [
      "Erro = 0.2768755784590451\n"
     ]
    }
   ],
   "source": [
    "# Resolver o PVI\n",
    "# y'(t) = y(t)\n",
    "# y(0) = 1\n",
    "# y(1) = ?\n",
    "w0 = 1\n",
    "h = 0.25\n",
    "w1 = w0 + h*w0\n",
    "w2 = w1 + h*w1\n",
    "w3 = w2 + h*w2\n",
    "w4 = w3 + h*w3\n",
    "println(\"Erro = \", e - w4)"
   ]
  },
  {
   "cell_type": "code",
   "execution_count": 18,
   "metadata": {
    "collapsed": false
   },
   "outputs": [
    {
     "name": "stdout",
     "output_type": "stream",
     "text": [
      "Erro = 0.2292876769501282\n"
     ]
    }
   ],
   "source": [
    "# Resolver o PVI\n",
    "# y'(t) = t*y(t)\n",
    "# y(0) = 1\n",
    "# y(1) = ?\n",
    "f(t,y) = t*y\n",
    "w0 = 1\n",
    "n = 4\n",
    "t = linspace(0, 1, n+1) # ou t = 0.0:h:1.0\n",
    "h = 1.0/n\n",
    "w1 = w0 + h*f(t[1],w0) # Elemento\n",
    "w2 = w1 + h*f(t[2],w1) # a\n",
    "w3 = w2 + h*f(t[3],w2) # elemento\n",
    "w4 = w3 + h*f(t[4],w3)\n",
    "println(\"Erro = \", exp(0.5) - w4)"
   ]
  },
  {
   "cell_type": "code",
   "execution_count": 22,
   "metadata": {
    "collapsed": false
   },
   "outputs": [
    {
     "name": "stdout",
     "output_type": "stream",
     "text": [
      "Erro = 0.2292876769501282\n"
     ]
    }
   ],
   "source": [
    "# Resolver o PVI\n",
    "# y'(t) = t*y(t)\n",
    "# y(0) = 1\n",
    "# y(1) = ?\n",
    "f(t,y) = t*y\n",
    "n = 4\n",
    "t = linspace(0, 1, n+1) # ou t = 0.0:h:1.0\n",
    "w = zeros(n+1) # Vetor\n",
    "w[1] = 1\n",
    "h = 1.0/n\n",
    "\n",
    "w[2] = w[1] + h*f(t[1],w[1])\n",
    "w[3] = w[2] + h*f(t[2],w[2])\n",
    "w[4] = w[3] + h*f(t[3],w[3])\n",
    "w[5] = w[4] + h*f(t[4],w[4])\n",
    "println(\"Erro = \", exp(0.5) - w[5])"
   ]
  },
  {
   "cell_type": "code",
   "execution_count": 33,
   "metadata": {
    "collapsed": false
   },
   "outputs": [
    {
     "name": "stdout",
     "output_type": "stream",
     "text": [
      "Erro = 0.02692057647129653\n"
     ]
    }
   ],
   "source": [
    "# Resolver o PVI\n",
    "# y'(t) = t*y(t)\n",
    "# y(0) = 1\n",
    "# y(1) = ?\n",
    "f(t,y) = t*y\n",
    "n = 40\n",
    "t = linspace(0, 1, n+1) # ou t = 0.0:h:1.0\n",
    "w = zeros(n+1) # Vetor\n",
    "w[1] = 1\n",
    "h = 1.0/n\n",
    "\n",
    "for i = 1:n\n",
    "    w[i+1] = w[i] + h*f(t[i],w[i])\n",
    "end\n",
    "\n",
    "println(\"Erro = \", exp(0.5) - w[n+1])"
   ]
  },
  {
   "cell_type": "code",
   "execution_count": 45,
   "metadata": {
    "collapsed": false
   },
   "outputs": [
    {
     "data": {
      "text/plain": [
       "euler_explicito (generic function with 1 method)"
      ]
     },
     "execution_count": 45,
     "metadata": {},
     "output_type": "execute_result"
    }
   ],
   "source": [
    "# Resolver o PVI\n",
    "# y'(t) = f(t,y)\n",
    "# y(t0) = y0\n",
    "# y(tf) = ?\n",
    "function euler_explicito(f, t0, y0, tf; n = 40)\n",
    "    t = linspace(t0, tf, n+1) # ou t = 0.0:h:1.0\n",
    "    w = zeros(n+1) # Vetor\n",
    "    w[1] = y0\n",
    "    h = (tf-t0)/n\n",
    "\n",
    "    for i = 1:n\n",
    "        w[i+1] = w[i] + h*f(t[i],w[i])\n",
    "    end\n",
    "\n",
    "    return w\n",
    "end"
   ]
  },
  {
   "cell_type": "code",
   "execution_count": 53,
   "metadata": {
    "collapsed": false
   },
   "outputs": [
    {
     "data": {
      "text/plain": [
       "-0.338533101938161"
      ]
     },
     "execution_count": 53,
     "metadata": {},
     "output_type": "execute_result"
    }
   ],
   "source": [
    "f(t,y) = y\n",
    "t0 = 1\n",
    "y0 = e\n",
    "tf = 2\n",
    "w = euler_explicito(f, t0, y0, tf, n = 10);\n",
    "w[end] - e^2"
   ]
  },
  {
   "cell_type": "code",
   "execution_count": 52,
   "metadata": {
    "collapsed": false
   },
   "outputs": [],
   "source": [
    "Pkg.add(\"Winston\")\n",
    "using Winston"
   ]
  },
  {
   "cell_type": "code",
   "execution_count": 55,
   "metadata": {
    "collapsed": false
   },
   "outputs": [
    {
     "data": {
      "text/plain": [
       "euler_explicito (generic function with 1 method)"
      ]
     },
     "execution_count": 55,
     "metadata": {},
     "output_type": "execute_result"
    }
   ],
   "source": [
    "# Retornando t e w para plotar\n",
    "function euler_explicito(f, t0, y0, tf; n = 40)\n",
    "    t = linspace(t0, tf, n+1) # ou t = 0.0:h:1.0\n",
    "    w = zeros(n+1) # Vetor\n",
    "    w[1] = y0\n",
    "    h = (tf-t0)/n\n",
    "\n",
    "    for i = 1:n\n",
    "        w[i+1] = w[i] + h*f(t[i],w[i])\n",
    "    end\n",
    "\n",
    "    return t, w\n",
    "end"
   ]
  },
  {
   "cell_type": "code",
   "execution_count": 69,
   "metadata": {
    "collapsed": false
   },
   "outputs": [
    {
     "name": "stderr",
     "output_type": "stream",
     "text": [
      "INFO: Nothing to be done\n"
     ]
    },
    {
     "data": {
      "image/png": "[encoded data removed]",
      "text/plain": [
       "Winston.FramedPlot(...)"
      ]
     },
     "execution_count": 69,
     "metadata": {},
     "output_type": "execute_result"
    },
    {
     "name": "stderr",
     "output_type": "stream",
     "text": [
      "INFO: METADATA is out-of-date — you may not have the latest version of Winston\n",
      "INFO: Use `Pkg.update()` to get the latest versions of your packages\n"
     ]
    }
   ],
   "source": [
    "Pkg.add(\"Winston\")\n",
    "using Winston\n",
    "\n",
    "f(t,y) = y\n",
    "t0 = 0\n",
    "y0 = 1\n",
    "tf = 1\n",
    "t, w = euler_explicito(f, t0, y0, tf, n = 4);\n",
    "t, w2 = euler_aperf(f, t0, y0, tf, n = 4);\n",
    "\n",
    "# Solucao\n",
    "y(t) = exp(t)\n",
    "\n",
    "fplot(y, [t0, tf], \"r\")\n",
    "oplot(t, w)\n",
    "oplot(t, w2, \"m\")"
   ]
  },
  {
   "cell_type": "code",
   "execution_count": 67,
   "metadata": {
    "collapsed": false
   },
   "outputs": [
    {
     "data": {
      "text/plain": [
       "euler_aperf (generic function with 1 method)"
      ]
     },
     "execution_count": 67,
     "metadata": {},
     "output_type": "execute_result"
    }
   ],
   "source": [
    "# Retornando t e w para plotar\n",
    "function euler_aperf(f, t0, y0, tf; n = 40)\n",
    "    t = linspace(t0, tf, n+1) # ou t = 0.0:h:1.0\n",
    "    w = zeros(n+1) # Vetor\n",
    "    w[1] = y0\n",
    "    h = (tf-t0)/n\n",
    "\n",
    "    for i = 1:n\n",
    "        θ = f(t[i],w[i])\n",
    "        κ = w[i] + h*θ\n",
    "        w[i+1] = w[i] + 0.5h*(θ + f(t[i+1],κ))\n",
    "    end\n",
    "\n",
    "    return t, w\n",
    "end"
   ]
  }
 ],
 "metadata": {
  "kernelspec": {
   "display_name": "Julia 0.4.3",
   "language": "julia",
   "name": "julia-0.4"
  },
  "language_info": {
   "file_extension": ".jl",
   "mimetype": "application/julia",
   "name": "julia",
   "version": "0.4.3"
  }
 },
 "nbformat": 4,
 "nbformat_minor": 0
}
