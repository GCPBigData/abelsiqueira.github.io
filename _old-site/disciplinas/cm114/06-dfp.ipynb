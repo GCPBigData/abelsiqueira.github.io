{
 "cells": [
  {
   "cell_type": "code",
   "execution_count": 1,
   "metadata": {
    "collapsed": true
   },
   "outputs": [],
   "source": [
    "using ForwardDiff"
   ]
  },
  {
   "cell_type": "code",
   "execution_count": 2,
   "metadata": {
    "collapsed": false
   },
   "outputs": [
    {
     "data": {
      "text/plain": [
       "g (generic function with 1 method)"
      ]
     },
     "execution_count": 2,
     "metadata": {},
     "output_type": "execute_result"
    }
   ],
   "source": [
    "f(x) = x[1]^2 + 4*x[2]^2 + 9*x[3]^2 + 16*x[4]^2\n",
    "g(x) = ForwardDiff.gradient(f, x)"
   ]
  },
  {
   "cell_type": "code",
   "execution_count": 3,
   "metadata": {
    "collapsed": false
   },
   "outputs": [
    {
     "data": {
      "text/plain": [
       "4-element Array{Float64,1}:\n",
       " 1.0\n",
       " 1.0\n",
       " 1.0\n",
       " 1.0"
      ]
     },
     "execution_count": 3,
     "metadata": {},
     "output_type": "execute_result"
    }
   ],
   "source": [
    "x0 = ones(4)"
   ]
  },
  {
   "cell_type": "code",
   "execution_count": 4,
   "metadata": {
    "collapsed": false
   },
   "outputs": [
    {
     "data": {
      "text/plain": [
       "30.0"
      ]
     },
     "execution_count": 4,
     "metadata": {},
     "output_type": "execute_result"
    }
   ],
   "source": [
    "f(x0)"
   ]
  },
  {
   "cell_type": "code",
   "execution_count": 5,
   "metadata": {
    "collapsed": false
   },
   "outputs": [
    {
     "data": {
      "text/plain": [
       "4-element Array{Float64,1}:\n",
       "  2.0\n",
       "  8.0\n",
       " 18.0\n",
       " 32.0"
      ]
     },
     "execution_count": 5,
     "metadata": {},
     "output_type": "execute_result"
    }
   ],
   "source": [
    "g(x0)"
   ]
  },
  {
   "cell_type": "code",
   "execution_count": 8,
   "metadata": {
    "collapsed": false
   },
   "outputs": [
    {
     "data": {
      "text/plain": [
       "busca_linear (generic function with 1 method)"
      ]
     },
     "execution_count": 8,
     "metadata": {},
     "output_type": "execute_result"
    }
   ],
   "source": [
    "function busca_linear(f, x, d; alpha = 0.5)\n",
    "    g(x) = ForwardDiff.gradient(f, x)\n",
    "    t = 1.0\n",
    "    while f(x + t*d) > f(x) + alpha * t * dot(g(x), d)\n",
    "        t = t * 0.9\n",
    "    end\n",
    "    return t\n",
    "end"
   ]
  },
  {
   "cell_type": "markdown",
   "metadata": {},
   "source": [
    "## DFP com cálculo da matriz (i.e., jeito errado)"
   ]
  },
  {
   "cell_type": "code",
   "execution_count": 49,
   "metadata": {
    "collapsed": false
   },
   "outputs": [
    {
     "data": {
      "text/plain": [
       "4x4 Array{Float64,2}:\n",
       " 1.0  0.0  0.0  0.0\n",
       " 0.0  1.0  0.0  0.0\n",
       " 0.0  0.0  1.0  0.0\n",
       " 0.0  0.0  0.0  1.0"
      ]
     },
     "execution_count": 49,
     "metadata": {},
     "output_type": "execute_result"
    }
   ],
   "source": [
    "H0 = eye(4)"
   ]
  },
  {
   "cell_type": "code",
   "execution_count": 50,
   "metadata": {
    "collapsed": false
   },
   "outputs": [
    {
     "data": {
      "text/plain": [
       "4-element Array{Float64,1}:\n",
       "  -2.0\n",
       "  -8.0\n",
       " -18.0\n",
       " -32.0"
      ]
     },
     "execution_count": 50,
     "metadata": {},
     "output_type": "execute_result"
    }
   ],
   "source": [
    "d0 = -H0*g(x0)"
   ]
  },
  {
   "cell_type": "code",
   "execution_count": 51,
   "metadata": {
    "collapsed": false
   },
   "outputs": [
    {
     "data": {
      "text/plain": [
       "0.03433683820292516"
      ]
     },
     "execution_count": 51,
     "metadata": {},
     "output_type": "execute_result"
    }
   ],
   "source": [
    "t0 = busca_linear(f, x0, d0)"
   ]
  },
  {
   "cell_type": "code",
   "execution_count": 52,
   "metadata": {
    "collapsed": false
   },
   "outputs": [
    {
     "data": {
      "text/plain": [
       "4-element Array{Float64,1}:\n",
       " -0.0686737\n",
       " -0.274695 \n",
       " -0.618063 \n",
       " -1.09878  "
      ]
     },
     "execution_count": 52,
     "metadata": {},
     "output_type": "execute_result"
    }
   ],
   "source": [
    "s0 = t0 * d0"
   ]
  },
  {
   "cell_type": "code",
   "execution_count": 53,
   "metadata": {
    "collapsed": false
   },
   "outputs": [
    {
     "data": {
      "text/plain": [
       "4-element Array{Float64,1}:\n",
       "  0.931326 \n",
       "  0.725305 \n",
       "  0.381937 \n",
       " -0.0987788"
      ]
     },
     "execution_count": 53,
     "metadata": {},
     "output_type": "execute_result"
    }
   ],
   "source": [
    "x1 = x0 + s0"
   ]
  },
  {
   "cell_type": "code",
   "execution_count": 54,
   "metadata": {
    "collapsed": false
   },
   "outputs": [
    {
     "data": {
      "text/plain": [
       "4-element Array{Float64,1}:\n",
       "  -0.137347\n",
       "  -2.19756 \n",
       " -11.1251  \n",
       " -35.1609  "
      ]
     },
     "execution_count": 54,
     "metadata": {},
     "output_type": "execute_result"
    }
   ],
   "source": [
    "y0 = g(x1) - g(x0)"
   ]
  },
  {
   "cell_type": "code",
   "execution_count": 55,
   "metadata": {
    "collapsed": false
   },
   "outputs": [
    {
     "data": {
      "text/plain": [
       "4x4 Array{Float64,2}:\n",
       "  1.00009       0.000187863  -0.00019925  -0.00190217\n",
       "  0.000187863   0.998098     -0.014231    -0.0500666 \n",
       " -0.00019925   -0.014231      0.917603    -0.271867  \n",
       " -0.00190217   -0.0500666    -0.271867     0.120407  "
      ]
     },
     "execution_count": 55,
     "metadata": {},
     "output_type": "execute_result"
    }
   ],
   "source": [
    "H1 = H0 - (H0*y0)*(H0*y0)'/dot(y0, H0*y0) + s0*s0'/dot(s0,y0)"
   ]
  },
  {
   "cell_type": "code",
   "execution_count": 56,
   "metadata": {
    "collapsed": false
   },
   "outputs": [
    {
     "data": {
      "text/plain": [
       "4x4 Array{Float64,2}:\n",
       "  1.00197      6.17218e-5  -0.0132559   0.0023134\n",
       "  6.17218e-5   0.921783    -0.269731    0.0356977\n",
       " -0.0132559   -0.269731     0.147216   -0.012144 \n",
       "  0.0023134    0.0356977   -0.012144    0.0328623"
      ]
     },
     "execution_count": 56,
     "metadata": {},
     "output_type": "execute_result"
    }
   ],
   "source": [
    "d1 = -H1*g(x1)\n",
    "t1 = busca_linear(f, x1, d1)\n",
    "s1 = t1 * d1\n",
    "x2 = x1 + s1\n",
    "y1 = g(x2) - g(x1)\n",
    "H2 = H1 - (H1*y1)*(H1*y1)'/dot(y1, H1*y1) + s1*s1'/dot(s1,y1)"
   ]
  },
  {
   "cell_type": "code",
   "execution_count": 58,
   "metadata": {
    "collapsed": false,
    "scrolled": true
   },
   "outputs": [
    {
     "data": {
      "text/plain": [
       "4-element Array{Float64,1}:\n",
       "  0.810598 \n",
       "  0.347191 \n",
       " -0.0758179\n",
       "  0.0655716"
      ]
     },
     "execution_count": 58,
     "metadata": {},
     "output_type": "execute_result"
    }
   ],
   "source": [
    "x2"
   ]
  },
  {
   "cell_type": "code",
   "execution_count": 73,
   "metadata": {
    "collapsed": false
   },
   "outputs": [
    {
     "data": {
      "text/plain": [
       "5.808975870534217"
      ]
     },
     "execution_count": 73,
     "metadata": {},
     "output_type": "execute_result"
    }
   ],
   "source": [
    "dot(y1,s1)"
   ]
  },
  {
   "cell_type": "code",
   "execution_count": 75,
   "metadata": {
    "collapsed": false
   },
   "outputs": [
    {
     "data": {
      "text/plain": [
       "99.26809990944342"
      ]
     },
     "execution_count": 75,
     "metadata": {},
     "output_type": "execute_result"
    }
   ],
   "source": [
    "dot(y1,H1*y1)"
   ]
  },
  {
   "cell_type": "code",
   "execution_count": 78,
   "metadata": {
    "collapsed": false
   },
   "outputs": [
    {
     "data": {
      "text/plain": [
       "4x4 Array{Float64,2}:\n",
       "  1.01499     -0.0640034    0.0088965   9.63008e-5\n",
       " -0.0640034    0.132961    -0.00109211  2.57154e-7\n",
       "  0.0088965   -0.00109211   0.0557354   2.55409e-5\n",
       "  9.63008e-5   2.57154e-7   2.55409e-5  0.0312724 "
      ]
     },
     "execution_count": 78,
     "metadata": {},
     "output_type": "execute_result"
    }
   ],
   "source": [
    "d2 = -H2*g(x2)\n",
    "t2 = busca_linear(f, x2, d2)\n",
    "s2 = t2 * d2\n",
    "x3 = x2 + s2\n",
    "y2 = g(x3) - g(x2)\n",
    "H3 = H2 - (H2*y2)*(H2*y2)'/dot(y2, H2*y2) + s2*s2'/dot(s2,y2)"
   ]
  },
  {
   "cell_type": "code",
   "execution_count": 79,
   "metadata": {
    "collapsed": false
   },
   "outputs": [
    {
     "data": {
      "text/plain": [
       "1.4281606279299561"
      ]
     },
     "execution_count": 79,
     "metadata": {},
     "output_type": "execute_result"
    }
   ],
   "source": [
    "dot(y2,s2)"
   ]
  },
  {
   "cell_type": "code",
   "execution_count": 80,
   "metadata": {
    "collapsed": false
   },
   "outputs": [
    {
     "data": {
      "text/plain": [
       "12.399796350413904"
      ]
     },
     "execution_count": 80,
     "metadata": {},
     "output_type": "execute_result"
    }
   ],
   "source": [
    "dot(y2,H2*y2)"
   ]
  },
  {
   "cell_type": "code",
   "execution_count": 71,
   "metadata": {
    "collapsed": false
   },
   "outputs": [
    {
     "data": {
      "text/plain": [
       "4-element Array{Float64,1}:\n",
       "  0.6103   \n",
       " -0.0179509\n",
       "  0.0454021\n",
       "  0.0426629"
      ]
     },
     "execution_count": 71,
     "metadata": {},
     "output_type": "execute_result"
    }
   ],
   "source": [
    "x3"
   ]
  },
  {
   "cell_type": "code",
   "execution_count": 30,
   "metadata": {
    "collapsed": false
   },
   "outputs": [
    {
     "data": {
      "text/plain": [
       "4x4 Array{Float64,2}:\n",
       "  0.500066     -0.000181916  -0.000116318  -0.000137965\n",
       " -0.000181916   0.125567      0.000335699   0.000408561\n",
       " -0.000116318   0.000335699   0.0557648     0.000249824\n",
       " -0.000137965   0.000408561   0.000249824   0.031551   "
      ]
     },
     "execution_count": 30,
     "metadata": {},
     "output_type": "execute_result"
    }
   ],
   "source": [
    "d3 = -H3*g(x3)\n",
    "t3 = busca_linear(f, x3, d3)\n",
    "s3 = t3 * d3\n",
    "x4 = x3 + s3\n",
    "y3 = g(x4) - g(x3)\n",
    "H4 = H3 - (H3*y3)*(H3*y3)'/dot(y3, H3*y3) + s3*s3'/dot(s3,y3)"
   ]
  },
  {
   "cell_type": "code",
   "execution_count": 31,
   "metadata": {
    "collapsed": false
   },
   "outputs": [
    {
     "data": {
      "text/plain": [
       "4-element Array{Float64,1}:\n",
       " 0.00980062\n",
       " 0.0289743 \n",
       " 0.0183306 \n",
       " 0.0221766 "
      ]
     },
     "execution_count": 31,
     "metadata": {},
     "output_type": "execute_result"
    }
   ],
   "source": [
    "x4"
   ]
  },
  {
   "cell_type": "code",
   "execution_count": 32,
   "metadata": {
    "collapsed": false
   },
   "outputs": [
    {
     "data": {
      "text/plain": [
       "4x4 Array{Float64,2}:\n",
       "  0.500233    -9.93512e-6  -3.65948e-6  -1.25965e-6\n",
       " -9.93512e-6   0.12501     -4.06166e-6  -1.13366e-6\n",
       " -3.65948e-6  -4.06166e-6   0.0555579    3.56616e-7\n",
       " -1.25965e-6  -1.13366e-6   3.56616e-7   0.0312502 "
      ]
     },
     "execution_count": 32,
     "metadata": {},
     "output_type": "execute_result"
    }
   ],
   "source": [
    "d4 = -H4*g(x4)\n",
    "t4 = busca_linear(f, x4, d4)\n",
    "s4 = t4 * d4\n",
    "x5 = x4 + s4\n",
    "y4 = g(x5) - g(x4)\n",
    "H5 = H4 - (H4*y4)*(H4*y4)'/dot(y4, H4*y4) + s4*s4'/dot(s4,y4)"
   ]
  },
  {
   "cell_type": "code",
   "execution_count": 33,
   "metadata": {
    "collapsed": false
   },
   "outputs": [
    {
     "data": {
      "text/plain": [
       "4-element Array{Float64,1}:\n",
       " 0.00113951\n",
       " 0.00242168\n",
       " 0.00154339\n",
       " 0.00186842"
      ]
     },
     "execution_count": 33,
     "metadata": {},
     "output_type": "execute_result"
    }
   ],
   "source": [
    "x5"
   ]
  },
  {
   "cell_type": "code",
   "execution_count": 36,
   "metadata": {
    "collapsed": false
   },
   "outputs": [
    {
     "data": {
      "text/plain": [
       "4x4 Array{Float64,2}:\n",
       " -0.000232927   9.93512e-6   3.65948e-6   1.25965e-6\n",
       "  9.93512e-6   -1.00561e-5   4.06166e-6   1.13366e-6\n",
       "  3.65948e-6    4.06166e-6  -2.29812e-6  -3.56616e-7\n",
       "  1.25965e-6    1.13366e-6  -3.56616e-7  -2.38321e-7"
      ]
     },
     "execution_count": 36,
     "metadata": {},
     "output_type": "execute_result"
    }
   ],
   "source": [
    "inv(ForwardDiff.hessian(f, x5)) - H5"
   ]
  },
  {
   "cell_type": "markdown",
   "metadata": {},
   "source": [
    "## DFP sem a matriz"
   ]
  },
  {
   "cell_type": "code",
   "execution_count": 136,
   "metadata": {
    "collapsed": false
   },
   "outputs": [
    {
     "data": {
      "text/plain": [
       "1-element Array{Any,1}:\n",
       " 46.1232"
      ]
     },
     "execution_count": 136,
     "metadata": {},
     "output_type": "execute_result"
    }
   ],
   "source": [
    "S = []\n",
    "HY = []\n",
    "mem = 2\n",
    "Sigma = [] # dot(y,Hy)\n",
    "Rho = [] # dot(y,s)\n",
    "\n",
    "d0 = -g(x0)\n",
    "t0 = busca_linear(f, x0, d0)\n",
    "s0 = t0 * d0\n",
    "x1 = x0 + s0\n",
    "y0 = g(x1) - g(x0)\n",
    "push!(S, s0)\n",
    "push!(HY, y0)\n",
    "push!(Sigma, dot(y0, y0))\n",
    "push!(Rho, dot(y0, s0))"
   ]
  },
  {
   "cell_type": "code",
   "execution_count": 137,
   "metadata": {
    "collapsed": false
   },
   "outputs": [
    {
     "data": {
      "text/plain": [
       "DFP_prod (generic function with 1 method)"
      ]
     },
     "execution_count": 137,
     "metadata": {},
     "output_type": "execute_result"
    }
   ],
   "source": [
    "function DFP_prod(S, HY, Sigma, Rho, v)\n",
    "    n = length(S)\n",
    "    if n == 1\n",
    "        return v - HY[1]*dot(HY[1], v)/Sigma[1] + S[1]*dot(S[1], v)/Rho[1]\n",
    "    else\n",
    "        return v - HY[1]*dot(HY[1], v)/Sigma[1] + S[1]*dot(S[1], v)/Rho[1] - HY[2]*dot(HY[2], v)/Sigma[2] + S[2]*dot(S[2], v)/Rho[2]\n",
    "    end\n",
    "end"
   ]
  },
  {
   "cell_type": "code",
   "execution_count": 138,
   "metadata": {
    "collapsed": false
   },
   "outputs": [
    {
     "data": {
      "text/plain": [
       "2-element Array{Any,1}:\n",
       " 46.1232 \n",
       "  5.80898"
      ]
     },
     "execution_count": 138,
     "metadata": {},
     "output_type": "execute_result"
    }
   ],
   "source": [
    "d1 = -DFP_prod(S, HY, Sigma, Rho, g(x1)) #comofaz\n",
    "t1 = busca_linear(f, x1, d1)\n",
    "s1 = t1 * d1\n",
    "x2 = x1 + s1\n",
    "y1 = g(x2) - g(x1)\n",
    "\n",
    "push!(Sigma, dot(y1, DFP_prod(S, HY, Sigma, Rho, y1)))\n",
    "push!(S, s1)\n",
    "push!(HY, y1)\n",
    "push!(Rho, dot(y1, s1))"
   ]
  },
  {
   "cell_type": "code",
   "execution_count": 139,
   "metadata": {
    "collapsed": false
   },
   "outputs": [
    {
     "data": {
      "text/plain": [
       "4-element Array{Float64,1}:\n",
       "  0.810598 \n",
       "  0.347191 \n",
       " -0.0758179\n",
       "  0.0655716"
      ]
     },
     "execution_count": 139,
     "metadata": {},
     "output_type": "execute_result"
    }
   ],
   "source": [
    "x2"
   ]
  },
  {
   "cell_type": "code",
   "execution_count": 140,
   "metadata": {
    "collapsed": false
   },
   "outputs": [
    {
     "data": {
      "text/plain": [
       "2-element Array{Any,1}:\n",
       " [-0.06867367640585031,-0.27469470562340126,-0.6180630876526528,-1.098778822493605] \n",
       " [-0.12072855908038692,-0.3781138699949254,-0.45775483376374854,0.16435038124625523]"
      ]
     },
     "execution_count": 140,
     "metadata": {},
     "output_type": "execute_result"
    }
   ],
   "source": [
    "S"
   ]
  },
  {
   "cell_type": "code",
   "execution_count": 141,
   "metadata": {
    "collapsed": false
   },
   "outputs": [
    {
     "data": {
      "text/plain": [
       "4-element Array{Float64,1}:\n",
       " -0.0686737\n",
       " -0.274695 \n",
       " -0.618063 \n",
       " -1.09878  "
      ]
     },
     "execution_count": 141,
     "metadata": {},
     "output_type": "execute_result"
    }
   ],
   "source": [
    "S[1]"
   ]
  },
  {
   "cell_type": "code",
   "execution_count": 142,
   "metadata": {
    "collapsed": false
   },
   "outputs": [
    {
     "data": {
      "text/plain": [
       "4-element Array{Float64,1}:\n",
       " -0.120729\n",
       " -0.378114\n",
       " -0.457755\n",
       "  0.16435 "
      ]
     },
     "execution_count": 142,
     "metadata": {},
     "output_type": "execute_result"
    }
   ],
   "source": [
    "S[2]"
   ]
  },
  {
   "cell_type": "code",
   "execution_count": 143,
   "metadata": {
    "collapsed": false
   },
   "outputs": [
    {
     "data": {
      "text/plain": [
       "46.12320206811342"
      ]
     },
     "execution_count": 143,
     "metadata": {},
     "output_type": "execute_result"
    }
   ],
   "source": [
    "d2 = -DFP_prod(S, HY, Sigma, Rho, g(x2)) #comofaz\n",
    "t2 = busca_linear(f, x2, d2)\n",
    "s2 = t2 * d2\n",
    "x3 = x2 + s2\n",
    "y2 = g(x3) - g(x2)\n",
    "\n",
    "push!(Sigma, dot(y2, DFP_prod(S, HY, Sigma, Rho, y2)))\n",
    "push!(S, s2)\n",
    "push!(HY, y2)\n",
    "push!(Rho, dot(y2, s2))\n",
    "shift!(S)\n",
    "shift!(Sigma)\n",
    "shift!(HY)\n",
    "shift!(Rho)"
   ]
  },
  {
   "cell_type": "code",
   "execution_count": 125,
   "metadata": {
    "collapsed": false
   },
   "outputs": [
    {
     "data": {
      "text/plain": [
       "4-element Array{Float64,1}:\n",
       " -1.65669 \n",
       " -3.11588 \n",
       "  0.721344\n",
       "  0.240826"
      ]
     },
     "execution_count": 125,
     "metadata": {},
     "output_type": "execute_result"
    }
   ],
   "source": [
    "d2"
   ]
  },
  {
   "cell_type": "code",
   "execution_count": 126,
   "metadata": {
    "collapsed": false
   },
   "outputs": [
    {
     "data": {
      "text/plain": [
       "4-element Array{Float64,1}:\n",
       "  0.609183 \n",
       " -0.0316273\n",
       "  0.0118807\n",
       "  0.0948503"
      ]
     },
     "execution_count": 126,
     "metadata": {},
     "output_type": "execute_result"
    }
   ],
   "source": [
    "x3"
   ]
  },
  {
   "cell_type": "code",
   "execution_count": 127,
   "metadata": {
    "collapsed": false
   },
   "outputs": [
    {
     "data": {
      "text/plain": [
       "3-element Array{Any,1}:\n",
       " 1364.91  \n",
       "   99.2681\n",
       "   11.3931"
      ]
     },
     "execution_count": 127,
     "metadata": {},
     "output_type": "execute_result"
    }
   ],
   "source": [
    "Sigma"
   ]
  },
  {
   "cell_type": "code",
   "execution_count": 128,
   "metadata": {
    "collapsed": false
   },
   "outputs": [
    {
     "data": {
      "text/plain": [
       "3-element Array{Any,1}:\n",
       " 46.1232 \n",
       "  5.80898\n",
       "  1.39504"
      ]
     },
     "execution_count": 128,
     "metadata": {},
     "output_type": "execute_result"
    }
   ],
   "source": [
    "Rho"
   ]
  },
  {
   "cell_type": "code",
   "execution_count": 144,
   "metadata": {
    "collapsed": false
   },
   "outputs": [
    {
     "data": {
      "text/plain": [
       "5.808975870534217"
      ]
     },
     "execution_count": 144,
     "metadata": {},
     "output_type": "execute_result"
    }
   ],
   "source": [
    "d3 = -DFP_prod(S, HY, Sigma, Rho, g(x3)) #comofaz\n",
    "t3 = busca_linear(f, x3, d3)\n",
    "s3 = t3 * d3\n",
    "x4 = x3 + s3\n",
    "y3 = g(x4) - g(x3)\n",
    "\n",
    "push!(Sigma, dot(y3, DFP_prod(S, HY, Sigma, Rho, y3)))\n",
    "push!(S, s3)\n",
    "push!(HY, y3)\n",
    "push!(Rho, dot(y3, s3))\n",
    "shift!(S)\n",
    "shift!(Sigma)\n",
    "shift!(HY)\n",
    "shift!(Rho)"
   ]
  },
  {
   "cell_type": "code",
   "execution_count": 145,
   "metadata": {
    "collapsed": false
   },
   "outputs": [
    {
     "data": {
      "text/plain": [
       "2-element Array{Any,1}:\n",
       " [-0.20141489363388285,-0.3788187061700164,0.08769863212192351,0.029278786238407867]   \n",
       " [-0.06476827234881977,-0.051922065632153326,-0.04344910068716255,-0.09338231945652309]"
      ]
     },
     "execution_count": 145,
     "metadata": {},
     "output_type": "execute_result"
    }
   ],
   "source": [
    "S"
   ]
  },
  {
   "cell_type": "code",
   "execution_count": 146,
   "metadata": {
    "collapsed": false
   },
   "outputs": [
    {
     "data": {
      "text/plain": [
       "4-element Array{Float64,1}:\n",
       "  0.544415  \n",
       " -0.0835493 \n",
       " -0.0315684 \n",
       "  0.00146803"
      ]
     },
     "execution_count": 146,
     "metadata": {},
     "output_type": "execute_result"
    }
   ],
   "source": [
    "x4"
   ]
  }
 ],
 "metadata": {
  "kernelspec": {
   "display_name": "Julia 0.4.6",
   "language": "julia",
   "name": "julia-0.4"
  },
  "language_info": {
   "file_extension": ".jl",
   "mimetype": "application/julia",
   "name": "julia",
   "version": "0.4.6"
  }
 },
 "nbformat": 4,
 "nbformat_minor": 0
}
