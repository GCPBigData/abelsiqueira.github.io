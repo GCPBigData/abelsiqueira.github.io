{
 "cells": [
  {
   "cell_type": "markdown",
   "metadata": {},
   "source": [
    "# Test Driven Development"
   ]
  },
  {
   "cell_type": "markdown",
   "metadata": {},
   "source": [
    "Vamos aprender TDD fazendo um pequeno projeto:\n",
    "Implementar a função `raiz` que dado $a$, retorna a raiz de $a$."
   ]
  },
  {
   "cell_type": "markdown",
   "metadata": {},
   "source": [
    "Vamos trabalhar com dois arquivos: um de testes: `teste_raiz.jl`, e outro da nossa implementação de raiz, `raiz.jl`.\n",
    "Para não sair do Jupyter, vamos simular os arquivos."
   ]
  },
  {
   "cell_type": "code",
   "execution_count": 1,
   "metadata": {
    "collapsed": false
   },
   "outputs": [
    {
     "name": "stdout",
     "output_type": "stream",
     "text": [
      "Raizes triviais\n",
      "  Error :: (line:-1)\n",
      "    Expression: raiz(0) --> 0\n",
      "    UndefVarError: raiz not defined\n",
      "     in anonymous at /home/lamind-admin/.julia/v0.4/FactCheck/src/FactCheck.jl:272\n",
      "     in do_fact at /home/lamind-admin/.julia/v0.4/FactCheck/src/FactCheck.jl:334\n",
      "     [inlined code] from /home/lamind-admin/.julia/v0.4/FactCheck/src/FactCheck.jl:272\n",
      "     in anonymous at In[1]:7\n",
      "     in facts at /home/lamind-admin/.julia/v0.4/FactCheck/src/FactCheck.jl:449\n",
      "     in include_string at loading.jl:282\n",
      "     in execute_request at /home/lamind-admin/.julia/v0.4/IJulia/src/execute_request.jl:164\n",
      "     in eventloop at /home/lamind-admin/.julia/v0.4/IJulia/src/IJulia.jl:138\n",
      "     in anonymous at task.jl:447\n",
      "Out of 1 total fact:\n",
      "  Errored:  1\n"
     ]
    },
    {
     "data": {
      "text/plain": [
       "delayed_handler (generic function with 4 methods)"
      ]
     },
     "execution_count": 1,
     "metadata": {},
     "output_type": "execute_result"
    }
   ],
   "source": [
    "# teste_raiz v0\n",
    "using FactCheck\n",
    "\n",
    "#include(\"raiz.jl\")\n",
    "\n",
    "facts(\"Raizes triviais\") do\n",
    "    @fact raiz(0) --> 0\n",
    "end"
   ]
  },
  {
   "cell_type": "markdown",
   "metadata": {},
   "source": [
    "Na primeira execução do nosso arquivo já temos erro. Naturalmente, pois não temos o arquivo `raiz.jl` nem a função raiz implementados."
   ]
  },
  {
   "cell_type": "code",
   "execution_count": 2,
   "metadata": {
    "collapsed": false
   },
   "outputs": [
    {
     "data": {
      "text/plain": [
       "raiz (generic function with 1 method)"
      ]
     },
     "execution_count": 2,
     "metadata": {},
     "output_type": "execute_result"
    }
   ],
   "source": [
    "# raiz v0\n",
    "function raiz(x)\n",
    "end"
   ]
  },
  {
   "cell_type": "code",
   "execution_count": 3,
   "metadata": {
    "collapsed": false
   },
   "outputs": [
    {
     "name": "stdout",
     "output_type": "stream",
     "text": [
      "Raizes triviais\n",
      "  Failure :: (line:-1) :: fact was false\n",
      "    Expression: raiz(0) --> 0\n",
      "      Expected: 0\n",
      "      Occurred: nothing\n",
      "Out of 1 total fact:\n",
      "  Failed:   1\n"
     ]
    },
    {
     "data": {
      "text/plain": [
       "delayed_handler (generic function with 4 methods)"
      ]
     },
     "execution_count": 3,
     "metadata": {},
     "output_type": "execute_result"
    }
   ],
   "source": [
    "# teste_raiz v0\n",
    "# O resto da arquivo não faz sentido repetir.\n",
    "# Seria o mesmo arquivo, então ainda é versão 0.\n",
    "facts(\"Raizes triviais\") do\n",
    "    @fact raiz(0) --> 0\n",
    "end"
   ]
  },
  {
   "cell_type": "markdown",
   "metadata": {},
   "source": [
    "`raiz(0)`, ao invés de retornar 0, retornou `nothing`. De fato, não tem nada dentro da função."
   ]
  },
  {
   "cell_type": "code",
   "execution_count": 4,
   "metadata": {
    "collapsed": false
   },
   "outputs": [
    {
     "data": {
      "text/plain": [
       "raiz (generic function with 1 method)"
      ]
     },
     "execution_count": 4,
     "metadata": {},
     "output_type": "execute_result"
    }
   ],
   "source": [
    "# raiz v1\n",
    "function raiz(x)\n",
    "    return 0\n",
    "end"
   ]
  },
  {
   "cell_type": "code",
   "execution_count": 5,
   "metadata": {
    "collapsed": false
   },
   "outputs": [
    {
     "name": "stdout",
     "output_type": "stream",
     "text": [
      "Raizes triviais\n",
      "1 fact verified.\n"
     ]
    },
    {
     "data": {
      "text/plain": [
       "delayed_handler (generic function with 4 methods)"
      ]
     },
     "execution_count": 5,
     "metadata": {},
     "output_type": "execute_result"
    }
   ],
   "source": [
    "# teste_raiz v0\n",
    "# O resto da arquivo não faz sentido repetir\n",
    "facts(\"Raizes triviais\") do\n",
    "    @fact raiz(0) --> 0\n",
    "end"
   ]
  },
  {
   "cell_type": "markdown",
   "metadata": {},
   "source": [
    "Agora rodou e funcionou. 1 fact verified, e nenhum erro."
   ]
  },
  {
   "cell_type": "code",
   "execution_count": 6,
   "metadata": {
    "collapsed": false
   },
   "outputs": [
    {
     "name": "stdout",
     "output_type": "stream",
     "text": [
      "Raizes triviais\n",
      "  Failure :: (line:-1) :: fact was false\n",
      "    Expression: raiz(1) --> 1\n",
      "      Expected: 1\n",
      "      Occurred: 0\n",
      "Out of 2 total facts:\n",
      "  Verified: 1\n",
      "  Failed:   1\n"
     ]
    },
    {
     "data": {
      "text/plain": [
       "delayed_handler (generic function with 4 methods)"
      ]
     },
     "execution_count": 6,
     "metadata": {},
     "output_type": "execute_result"
    }
   ],
   "source": [
    "# teste_raiz v1\n",
    "# O resto da arquivo não faz sentido repetir\n",
    "facts(\"Raizes triviais\") do\n",
    "    @fact raiz(0) --> 0\n",
    "    @fact raiz(1) --> 1\n",
    "end"
   ]
  },
  {
   "cell_type": "markdown",
   "metadata": {},
   "source": [
    "Nossa implementação não é muito boa. Só retorna 0."
   ]
  },
  {
   "cell_type": "code",
   "execution_count": 7,
   "metadata": {
    "collapsed": false
   },
   "outputs": [
    {
     "data": {
      "text/plain": [
       "raiz (generic function with 1 method)"
      ]
     },
     "execution_count": 7,
     "metadata": {},
     "output_type": "execute_result"
    }
   ],
   "source": [
    "# raiz v2\n",
    "function raiz(x)\n",
    "    return x\n",
    "end"
   ]
  },
  {
   "cell_type": "code",
   "execution_count": 8,
   "metadata": {
    "collapsed": false
   },
   "outputs": [
    {
     "name": "stdout",
     "output_type": "stream",
     "text": [
      "Raizes triviais\n",
      "2 facts verified.\n"
     ]
    },
    {
     "data": {
      "text/plain": [
       "delayed_handler (generic function with 4 methods)"
      ]
     },
     "execution_count": 8,
     "metadata": {},
     "output_type": "execute_result"
    }
   ],
   "source": [
    "# teste_raiz v1\n",
    "# O resto da arquivo não faz sentido repetir\n",
    "facts(\"Raizes triviais\") do\n",
    "    @fact raiz(0) --> 0\n",
    "    @fact raiz(1) --> 1\n",
    "end"
   ]
  },
  {
   "cell_type": "markdown",
   "metadata": {},
   "source": [
    "Já melhorou."
   ]
  },
  {
   "cell_type": "code",
   "execution_count": 9,
   "metadata": {
    "collapsed": false
   },
   "outputs": [
    {
     "name": "stdout",
     "output_type": "stream",
     "text": [
      "Raizes triviais\n",
      "  Failure :: (line:-1) :: fact was false\n",
      "    Expression: raiz(4) --> 2\n",
      "      Expected: 2\n",
      "      Occurred: 4\n",
      "Out of 3 total facts:\n",
      "  Verified: 2\n",
      "  Failed:   1\n"
     ]
    },
    {
     "data": {
      "text/plain": [
       "delayed_handler (generic function with 4 methods)"
      ]
     },
     "execution_count": 9,
     "metadata": {},
     "output_type": "execute_result"
    }
   ],
   "source": [
    "# teste_raiz v2\n",
    "# O resto da arquivo não faz sentido repetir\n",
    "facts(\"Raizes triviais\") do\n",
    "    @fact raiz(0) --> 0\n",
    "    @fact raiz(1) --> 1\n",
    "    @fact raiz(4) --> 2\n",
    "end"
   ]
  },
  {
   "cell_type": "markdown",
   "metadata": {},
   "source": [
    "Agora \"deu ruim\". Por sorte, somos matemáticos aplicados e conhecemos o método da bissecção."
   ]
  },
  {
   "cell_type": "markdown",
   "metadata": {},
   "source": [
    "Podemos fazer a bissecção no intervalo $[0,a]$."
   ]
  },
  {
   "cell_type": "code",
   "execution_count": 10,
   "metadata": {
    "collapsed": false
   },
   "outputs": [
    {
     "data": {
      "text/plain": [
       "raiz (generic function with 1 method)"
      ]
     },
     "execution_count": 10,
     "metadata": {},
     "output_type": "execute_result"
    }
   ],
   "source": [
    "# raiz v3\n",
    "function raiz(x)\n",
    "    if x == 0.0\n",
    "        return 0.0\n",
    "    end\n",
    "    tol = 1e-12\n",
    "    a, b = 0, x\n",
    "    m = (a+b)/2\n",
    "    while abs(m^2 - x) > tol\n",
    "        if m^2 > x\n",
    "            b = m\n",
    "        else\n",
    "            a = m\n",
    "        end\n",
    "        m = (a+b)/2\n",
    "    end\n",
    "    return m\n",
    "end"
   ]
  },
  {
   "cell_type": "code",
   "execution_count": 11,
   "metadata": {
    "collapsed": false
   },
   "outputs": [
    {
     "name": "stdout",
     "output_type": "stream",
     "text": [
      "Raizes triviais\n",
      "  Failure :: (line:-1) :: fact was false\n",
      "    Expression: raiz(1) --> 1\n",
      "      Expected: 1\n",
      "      Occurred: 0.9999999999995453\n",
      "Out of 3 total facts:\n",
      "  Verified: 2\n",
      "  Failed:   1\n"
     ]
    },
    {
     "data": {
      "text/plain": [
       "delayed_handler (generic function with 4 methods)"
      ]
     },
     "execution_count": 11,
     "metadata": {},
     "output_type": "execute_result"
    }
   ],
   "source": [
    "# teste_raiz v2\n",
    "# O resto da arquivo não faz sentido repetir\n",
    "facts(\"Raizes triviais\") do\n",
    "    @fact raiz(0) --> 0\n",
    "    @fact raiz(1) --> 1\n",
    "    @fact raiz(4) --> 2\n",
    "end"
   ]
  },
  {
   "cell_type": "markdown",
   "metadata": {},
   "source": [
    "Opa, esse valor 0.9999999 é 1, tirando o erro da máquina. Como fazemos agora?"
   ]
  },
  {
   "cell_type": "code",
   "execution_count": 12,
   "metadata": {
    "collapsed": false
   },
   "outputs": [
    {
     "data": {
      "text/plain": [
       "raiz (generic function with 1 method)"
      ]
     },
     "execution_count": 12,
     "metadata": {},
     "output_type": "execute_result"
    }
   ],
   "source": [
    "# raiz v4\n",
    "function raiz(x)\n",
    "    if x == 0.0\n",
    "        return 0.0\n",
    "    end\n",
    "    tol = eps(Float64)\n",
    "    a, b = 0, x\n",
    "    m = (a+b)/2\n",
    "    while abs(m^2 - x) > tol\n",
    "        if m^2 > x\n",
    "            b = m\n",
    "        else\n",
    "            a = m\n",
    "        end\n",
    "        m = (a+b)/2\n",
    "    end\n",
    "    return m\n",
    "end"
   ]
  },
  {
   "cell_type": "code",
   "execution_count": 13,
   "metadata": {
    "collapsed": false
   },
   "outputs": [
    {
     "name": "stdout",
     "output_type": "stream",
     "text": [
      "Raizes triviais\n",
      "  Failure :: (line:-1) :: fact was false\n",
      "    Expression: raiz(1) --> 1\n",
      "      Expected: 1\n",
      "      Occurred: 0.9999999999999999\n",
      "Out of 3 total facts:\n",
      "  Verified: 2\n",
      "  Failed:   1\n"
     ]
    },
    {
     "data": {
      "text/plain": [
       "delayed_handler (generic function with 4 methods)"
      ]
     },
     "execution_count": 13,
     "metadata": {},
     "output_type": "execute_result"
    }
   ],
   "source": [
    "# teste_raiz v2\n",
    "# O resto da arquivo não faz sentido repetir\n",
    "facts(\"Raizes triviais\") do\n",
    "    @fact raiz(0) --> 0\n",
    "    @fact raiz(1) --> 1\n",
    "    @fact raiz(4) --> 2\n",
    "end"
   ]
  },
  {
   "cell_type": "markdown",
   "metadata": {},
   "source": [
    "Mas como?"
   ]
  },
  {
   "cell_type": "code",
   "execution_count": 14,
   "metadata": {
    "collapsed": false
   },
   "outputs": [
    {
     "data": {
      "text/plain": [
       "raiz (generic function with 1 method)"
      ]
     },
     "execution_count": 14,
     "metadata": {},
     "output_type": "execute_result"
    }
   ],
   "source": [
    "# raiz v5\n",
    "function raiz(x)\n",
    "    if x == 0\n",
    "        return 0\n",
    "    end\n",
    "    tol = eps(Float64)\n",
    "    a, b = 0, x\n",
    "    m = (a+b)/2\n",
    "    while abs(m^2 - x) > tol^2\n",
    "        if m^2 > x\n",
    "            b = m\n",
    "        else\n",
    "            a = m\n",
    "        end\n",
    "        m = (a+b)/2\n",
    "    end\n",
    "    return m\n",
    "end"
   ]
  },
  {
   "cell_type": "code",
   "execution_count": 15,
   "metadata": {
    "collapsed": false
   },
   "outputs": [
    {
     "name": "stdout",
     "output_type": "stream",
     "text": [
      "Raizes triviais\n",
      "3 facts verified.\n"
     ]
    },
    {
     "data": {
      "text/plain": [
       "delayed_handler (generic function with 4 methods)"
      ]
     },
     "execution_count": 15,
     "metadata": {},
     "output_type": "execute_result"
    }
   ],
   "source": [
    "# teste_raiz v2\n",
    "# O resto da arquivo não faz sentido repetir\n",
    "facts(\"Raizes triviais\") do\n",
    "    @fact raiz(0) --> 0\n",
    "    @fact raiz(1) --> 1\n",
    "    @fact raiz(4) --> 2\n",
    "end"
   ]
  },
  {
   "cell_type": "markdown",
   "metadata": {},
   "source": [
    "Agora sim."
   ]
  },
  {
   "cell_type": "code",
   "execution_count": 21,
   "metadata": {
    "collapsed": false
   },
   "outputs": [
    {
     "name": "stdout",
     "output_type": "stream",
     "text": [
      "Raizes triviais\n",
      "11 facts verified.\n"
     ]
    },
    {
     "data": {
      "text/plain": [
       "delayed_handler (generic function with 4 methods)"
      ]
     },
     "execution_count": 21,
     "metadata": {},
     "output_type": "execute_result"
    }
   ],
   "source": [
    "# teste_raiz v3\n",
    "# O resto da arquivo não faz sentido repetir\n",
    "facts(\"Raizes triviais\") do\n",
    "    for i = 0:10\n",
    "        @fact raiz(i^2) --> i\n",
    "    end\n",
    "end"
   ]
  },
  {
   "cell_type": "markdown",
   "metadata": {},
   "source": [
    "Opa, um teste que não dificultou em nada."
   ]
  },
  {
   "cell_type": "code",
   "execution_count": 22,
   "metadata": {
    "collapsed": false
   },
   "outputs": [
    {
     "ename": "LoadError",
     "evalue": "LoadError: ao rodar vai dar entrar em loop\nwhile loading In[22], in expression starting on line 3",
     "output_type": "error",
     "traceback": [
      "LoadError: ao rodar vai dar entrar em loop\nwhile loading In[22], in expression starting on line 3",
      "",
      " in error at ./error.jl:21"
     ]
    }
   ],
   "source": [
    "# teste_raiz v4\n",
    "# O resto da arquivo não faz sentido repetir\n",
    "error(\"ao rodar vai dar entrar em loop\" )\n",
    "facts(\"Raizes triviais\") do\n",
    "    for i = 0:10\n",
    "        @fact raiz(i^2) --> i\n",
    "    end\n",
    "    for i = 2:4\n",
    "        @fact raiz(1/i^2) --> 1/i\n",
    "    end\n",
    "end"
   ]
  },
  {
   "cell_type": "code",
   "execution_count": 23,
   "metadata": {
    "collapsed": false
   },
   "outputs": [
    {
     "name": "stdout",
     "output_type": "stream",
     "text": [
      "[Plots.jl] Initializing backend: gr\n"
     ]
    },
    {
     "data": {
      "text/html": [
       "<?xml version=\"1.0\" encoding=\"utf-8\"?>\n",
       "<svg xmlns=\"http://www.w3.org/2000/svg\" xmlns:xlink=\"http://www.w3.org/1999/xlink\" width=\"600\" height=\"400\" viewBox=\"0 0 600 400\">\n",
       "<defs>\n",
       "  <clipPath id=\"clip00\">\n",
       "    <rect x=\"0\" y=\"0\" width=\"600\" height=\"400\"/>\n",
       "  </clipPath>\n",
       "</defs>\n",
       "<polygon clip-path=\"url(#clip00)\" points=\"\n",
       "0,400 600,400 600,0 0,0 \n",
       "  \" fill=\"#ffffff\" fill-opacity=\"1\"/>\n",
       "<defs>\n",
       "  <clipPath id=\"clip01\">\n",
       "    <rect x=\"120\" y=\"0\" width=\"421\" height=\"400\"/>\n",
       "  </clipPath>\n",
       "</defs>\n",
       "<polygon clip-path=\"url(#clip00)\" points=\"\n",
       "35.4331,377.078 596.063,377.078 596.063,3.93701 35.4331,3.93701 \n",
       "  \" fill=\"#ffffff\" fill-opacity=\"1\"/>\n",
       "<defs>\n",
       "  <clipPath id=\"clip02\">\n",
       "    <rect x=\"35\" y=\"3\" width=\"561\" height=\"374\"/>\n",
       "  </clipPath>\n",
       "</defs>\n",
       "<polyline clip-path=\"url(#clip02)\" style=\"stroke:#00002d; stroke-width:0.8; stroke-opacity:0.5; fill:none\" stroke-dasharray=\"1, 2\" points=\"\n",
       "  35.4331,371.481 35.4331,9.53412 \n",
       "  \"/>\n",
       "<polyline clip-path=\"url(#clip02)\" style=\"stroke:#00002d; stroke-width:0.8; stroke-opacity:0.5; fill:none\" stroke-dasharray=\"1, 2\" points=\"\n",
       "  175.591,371.481 175.591,9.53412 \n",
       "  \"/>\n",
       "<polyline clip-path=\"url(#clip02)\" style=\"stroke:#00002d; stroke-width:0.8; stroke-opacity:0.5; fill:none\" stroke-dasharray=\"1, 2\" points=\"\n",
       "  315.748,371.481 315.748,9.53412 \n",
       "  \"/>\n",
       "<polyline clip-path=\"url(#clip02)\" style=\"stroke:#00002d; stroke-width:0.8; stroke-opacity:0.5; fill:none\" stroke-dasharray=\"1, 2\" points=\"\n",
       "  455.906,371.481 455.906,9.53412 \n",
       "  \"/>\n",
       "<polyline clip-path=\"url(#clip02)\" style=\"stroke:#00002d; stroke-width:0.8; stroke-opacity:0.5; fill:none\" stroke-dasharray=\"1, 2\" points=\"\n",
       "  596.063,371.481 596.063,9.53412 \n",
       "  \"/>\n",
       "<polyline clip-path=\"url(#clip02)\" style=\"stroke:#00002d; stroke-width:0.8; stroke-opacity:0.5; fill:none\" stroke-dasharray=\"1, 2\" points=\"\n",
       "  43.8425,377.078 587.654,377.078 \n",
       "  \"/>\n",
       "<polyline clip-path=\"url(#clip02)\" style=\"stroke:#00002d; stroke-width:0.8; stroke-opacity:0.5; fill:none\" stroke-dasharray=\"1, 2\" points=\"\n",
       "  43.8425,283.793 587.654,283.793 \n",
       "  \"/>\n",
       "<polyline clip-path=\"url(#clip02)\" style=\"stroke:#00002d; stroke-width:0.8; stroke-opacity:0.5; fill:none\" stroke-dasharray=\"1, 2\" points=\"\n",
       "  43.8425,190.507 587.654,190.507 \n",
       "  \"/>\n",
       "<polyline clip-path=\"url(#clip02)\" style=\"stroke:#00002d; stroke-width:0.8; stroke-opacity:0.5; fill:none\" stroke-dasharray=\"1, 2\" points=\"\n",
       "  43.8425,97.2222 587.654,97.2222 \n",
       "  \"/>\n",
       "<polyline clip-path=\"url(#clip02)\" style=\"stroke:#00002d; stroke-width:0.8; stroke-opacity:0.5; fill:none\" stroke-dasharray=\"1, 2\" points=\"\n",
       "  43.8425,3.93701 587.654,3.93701 \n",
       "  \"/>\n",
       "<polyline clip-path=\"url(#clip02)\" style=\"stroke:#00002d; stroke-width:0.8; stroke-opacity:1; fill:none\" points=\"\n",
       "  35.4331,377.078 596.063,377.078 \n",
       "  \"/>\n",
       "<polyline clip-path=\"url(#clip02)\" style=\"stroke:#00002d; stroke-width:0.8; stroke-opacity:1; fill:none\" points=\"\n",
       "  35.4331,3.93701 596.063,3.93701 \n",
       "  \"/>\n",
       "<polyline clip-path=\"url(#clip02)\" style=\"stroke:#00002d; stroke-width:0.8; stroke-opacity:1; fill:none\" points=\"\n",
       "  35.4331,377.078 35.4331,371.481 \n",
       "  \"/>\n",
       "<polyline clip-path=\"url(#clip02)\" style=\"stroke:#00002d; stroke-width:0.8; stroke-opacity:1; fill:none\" points=\"\n",
       "  35.4331,3.93701 35.4331,9.53412 \n",
       "  \"/>\n",
       "<polyline clip-path=\"url(#clip02)\" style=\"stroke:#00002d; stroke-width:0.8; stroke-opacity:1; fill:none\" points=\"\n",
       "  175.591,377.078 175.591,371.481 \n",
       "  \"/>\n",
       "<polyline clip-path=\"url(#clip02)\" style=\"stroke:#00002d; stroke-width:0.8; stroke-opacity:1; fill:none\" points=\"\n",
       "  175.591,3.93701 175.591,9.53412 \n",
       "  \"/>\n",
       "<polyline clip-path=\"url(#clip02)\" style=\"stroke:#00002d; stroke-width:0.8; stroke-opacity:1; fill:none\" points=\"\n",
       "  315.748,377.078 315.748,371.481 \n",
       "  \"/>\n",
       "<polyline clip-path=\"url(#clip02)\" style=\"stroke:#00002d; stroke-width:0.8; stroke-opacity:1; fill:none\" points=\"\n",
       "  315.748,3.93701 315.748,9.53412 \n",
       "  \"/>\n",
       "<polyline clip-path=\"url(#clip02)\" style=\"stroke:#00002d; stroke-width:0.8; stroke-opacity:1; fill:none\" points=\"\n",
       "  455.906,377.078 455.906,371.481 \n",
       "  \"/>\n",
       "<polyline clip-path=\"url(#clip02)\" style=\"stroke:#00002d; stroke-width:0.8; stroke-opacity:1; fill:none\" points=\"\n",
       "  455.906,3.93701 455.906,9.53412 \n",
       "  \"/>\n",
       "<polyline clip-path=\"url(#clip02)\" style=\"stroke:#00002d; stroke-width:0.8; stroke-opacity:1; fill:none\" points=\"\n",
       "  596.063,377.078 596.063,371.481 \n",
       "  \"/>\n",
       "<polyline clip-path=\"url(#clip02)\" style=\"stroke:#00002d; stroke-width:0.8; stroke-opacity:1; fill:none\" points=\"\n",
       "  596.063,3.93701 596.063,9.53412 \n",
       "  \"/>\n",
       "<polyline clip-path=\"url(#clip02)\" style=\"stroke:#00002d; stroke-width:0.8; stroke-opacity:1; fill:none\" points=\"\n",
       "  35.4331,377.078 35.4331,3.93701 \n",
       "  \"/>\n",
       "<polyline clip-path=\"url(#clip02)\" style=\"stroke:#00002d; stroke-width:0.8; stroke-opacity:1; fill:none\" points=\"\n",
       "  596.063,377.078 596.063,3.93701 \n",
       "  \"/>\n",
       "<polyline clip-path=\"url(#clip02)\" style=\"stroke:#00002d; stroke-width:0.8; stroke-opacity:1; fill:none\" points=\"\n",
       "  35.4331,377.078 43.8425,377.078 \n",
       "  \"/>\n",
       "<polyline clip-path=\"url(#clip02)\" style=\"stroke:#00002d; stroke-width:0.8; stroke-opacity:1; fill:none\" points=\"\n",
       "  596.063,377.078 587.654,377.078 \n",
       "  \"/>\n",
       "<polyline clip-path=\"url(#clip02)\" style=\"stroke:#00002d; stroke-width:0.8; stroke-opacity:1; fill:none\" points=\"\n",
       "  35.4331,283.793 43.8425,283.793 \n",
       "  \"/>\n",
       "<polyline clip-path=\"url(#clip02)\" style=\"stroke:#00002d; stroke-width:0.8; stroke-opacity:1; fill:none\" points=\"\n",
       "  596.063,283.793 587.654,283.793 \n",
       "  \"/>\n",
       "<polyline clip-path=\"url(#clip02)\" style=\"stroke:#00002d; stroke-width:0.8; stroke-opacity:1; fill:none\" points=\"\n",
       "  35.4331,190.507 43.8425,190.507 \n",
       "  \"/>\n",
       "<polyline clip-path=\"url(#clip02)\" style=\"stroke:#00002d; stroke-width:0.8; stroke-opacity:1; fill:none\" points=\"\n",
       "  596.063,190.507 587.654,190.507 \n",
       "  \"/>\n",
       "<polyline clip-path=\"url(#clip02)\" style=\"stroke:#00002d; stroke-width:0.8; stroke-opacity:1; fill:none\" points=\"\n",
       "  35.4331,97.2222 43.8425,97.2222 \n",
       "  \"/>\n",
       "<polyline clip-path=\"url(#clip02)\" style=\"stroke:#00002d; stroke-width:0.8; stroke-opacity:1; fill:none\" points=\"\n",
       "  596.063,97.2222 587.654,97.2222 \n",
       "  \"/>\n",
       "<polyline clip-path=\"url(#clip02)\" style=\"stroke:#00002d; stroke-width:0.8; stroke-opacity:1; fill:none\" points=\"\n",
       "  35.4331,3.93701 43.8425,3.93701 \n",
       "  \"/>\n",
       "<polyline clip-path=\"url(#clip02)\" style=\"stroke:#00002d; stroke-width:0.8; stroke-opacity:1; fill:none\" points=\"\n",
       "  596.063,3.93701 587.654,3.93701 \n",
       "  \"/>\n",
       "<g clip-path=\"url(#clip00)\">\n",
       "<text style=\"fill:#00002d; fill-opacity:1; font-family:Arial,Helvetica Neue,Helvetica,sans-serif; font-size:12; text-anchor:middle;\" transform=\"rotate(0, 35.4331, 393.878)\" x=\"35.4331\" y=\"393.878\">0</text>\n",
       "</g>\n",
       "<g clip-path=\"url(#clip00)\">\n",
       "<text style=\"fill:#00002d; fill-opacity:1; font-family:Arial,Helvetica Neue,Helvetica,sans-serif; font-size:12; text-anchor:middle;\" transform=\"rotate(0, 175.591, 393.878)\" x=\"175.591\" y=\"393.878\">1</text>\n",
       "</g>\n",
       "<g clip-path=\"url(#clip00)\">\n",
       "<text style=\"fill:#00002d; fill-opacity:1; font-family:Arial,Helvetica Neue,Helvetica,sans-serif; font-size:12; text-anchor:middle;\" transform=\"rotate(0, 315.748, 393.878)\" x=\"315.748\" y=\"393.878\">2</text>\n",
       "</g>\n",
       "<g clip-path=\"url(#clip00)\">\n",
       "<text style=\"fill:#00002d; fill-opacity:1; font-family:Arial,Helvetica Neue,Helvetica,sans-serif; font-size:12; text-anchor:middle;\" transform=\"rotate(0, 455.906, 393.878)\" x=\"455.906\" y=\"393.878\">3</text>\n",
       "</g>\n",
       "<g clip-path=\"url(#clip00)\">\n",
       "<text style=\"fill:#00002d; fill-opacity:1; font-family:Arial,Helvetica Neue,Helvetica,sans-serif; font-size:12; text-anchor:middle;\" transform=\"rotate(0, 596.063, 393.878)\" x=\"596.063\" y=\"393.878\">4</text>\n",
       "</g>\n",
       "<g clip-path=\"url(#clip00)\">\n",
       "<text style=\"fill:#00002d; fill-opacity:1; font-family:Arial,Helvetica Neue,Helvetica,sans-serif; font-size:12; text-anchor:end;\" transform=\"rotate(0, 29.4331, 381.578)\" x=\"29.4331\" y=\"381.578\">0</text>\n",
       "</g>\n",
       "<g clip-path=\"url(#clip00)\">\n",
       "<text style=\"fill:#00002d; fill-opacity:1; font-family:Arial,Helvetica Neue,Helvetica,sans-serif; font-size:12; text-anchor:end;\" transform=\"rotate(0, 29.4331, 288.293)\" x=\"29.4331\" y=\"288.293\">1</text>\n",
       "</g>\n",
       "<g clip-path=\"url(#clip00)\">\n",
       "<text style=\"fill:#00002d; fill-opacity:1; font-family:Arial,Helvetica Neue,Helvetica,sans-serif; font-size:12; text-anchor:end;\" transform=\"rotate(0, 29.4331, 195.007)\" x=\"29.4331\" y=\"195.007\">2</text>\n",
       "</g>\n",
       "<g clip-path=\"url(#clip00)\">\n",
       "<text style=\"fill:#00002d; fill-opacity:1; font-family:Arial,Helvetica Neue,Helvetica,sans-serif; font-size:12; text-anchor:end;\" transform=\"rotate(0, 29.4331, 101.722)\" x=\"29.4331\" y=\"101.722\">3</text>\n",
       "</g>\n",
       "<g clip-path=\"url(#clip00)\">\n",
       "<text style=\"fill:#00002d; fill-opacity:1; font-family:Arial,Helvetica Neue,Helvetica,sans-serif; font-size:12; text-anchor:end;\" transform=\"rotate(0, 29.4331, 8.43701)\" x=\"29.4331\" y=\"8.43701\">4</text>\n",
       "</g>\n",
       "<polyline clip-path=\"url(#clip02)\" style=\"stroke:#0099ff; stroke-width:0.8; stroke-opacity:1; fill:none\" points=\"\n",
       "  35.4331,377.078 41.096,358.327 46.7589,350.56 52.4219,344.6 58.0848,339.576 63.7477,335.149 69.4106,331.147 75.0736,327.467 80.7365,324.042 86.3994,320.825 \n",
       "  92.0624,317.782 97.7253,314.888 103.388,312.122 109.051,309.47 114.714,306.918 120.377,304.455 126.04,302.074 131.703,299.765 137.366,297.524 143.029,295.344 \n",
       "  148.692,293.221 154.355,291.15 160.017,289.128 165.68,287.151 171.343,285.217 177.006,283.323 182.669,281.466 188.332,279.645 193.995,277.857 199.658,276.1 \n",
       "  205.321,274.374 210.984,272.677 216.647,271.006 222.31,269.361 227.973,267.741 233.636,266.145 239.298,264.572 244.961,263.02 250.624,261.489 256.287,259.978 \n",
       "  261.95,258.486 267.613,257.013 273.276,255.557 278.939,254.119 284.602,252.698 290.265,251.292 295.928,249.902 301.591,248.527 307.254,247.167 312.917,245.821 \n",
       "  318.579,244.488 324.242,243.169 329.905,241.862 335.568,240.568 341.231,239.286 346.894,238.016 352.557,236.758 358.22,235.511 363.883,234.274 369.546,233.048 \n",
       "  375.209,231.833 380.872,230.628 386.535,229.432 392.198,228.246 397.86,227.07 403.523,225.902 409.186,224.744 414.849,223.594 420.512,222.453 426.175,221.32 \n",
       "  431.838,220.195 437.501,219.079 443.164,217.97 448.827,216.869 454.49,215.775 460.153,214.689 465.816,213.61 471.479,212.538 477.141,211.473 482.804,210.415 \n",
       "  488.467,209.364 494.13,208.319 499.793,207.28 505.456,206.248 511.119,205.222 516.782,204.202 522.445,203.188 528.108,202.18 533.771,201.178 539.434,200.181 \n",
       "  545.097,199.19 550.76,198.204 556.422,197.224 562.085,196.249 567.748,195.28 573.411,194.315 579.074,193.356 584.737,192.402 590.4,191.452 596.063,190.507 \n",
       "  \n",
       "  \"/>\n",
       "<polyline clip-path=\"url(#clip02)\" style=\"stroke:#ff0000; stroke-width:0.8; stroke-opacity:1; fill:none\" stroke-dasharray=\"8, 5\" points=\"\n",
       "  35.4331,377.078 41.096,373.309 46.7589,369.54 52.4219,365.771 58.0848,362.001 63.7477,358.232 69.4106,354.463 75.0736,350.694 80.7365,346.925 86.3994,343.156 \n",
       "  92.0624,339.387 97.7253,335.618 103.388,331.849 109.051,328.08 114.714,324.31 120.377,320.541 126.04,316.772 131.703,313.003 137.366,309.234 143.029,305.465 \n",
       "  148.692,301.696 154.355,297.927 160.017,294.158 165.68,290.389 171.343,286.619 177.006,282.85 182.669,279.081 188.332,275.312 193.995,271.543 199.658,267.774 \n",
       "  205.321,264.005 210.984,260.236 216.647,256.467 222.31,252.698 227.973,248.928 233.636,245.159 239.298,241.39 244.961,237.621 250.624,233.852 256.287,230.083 \n",
       "  261.95,226.314 267.613,222.545 273.276,218.776 278.939,215.007 284.602,211.237 290.265,207.468 295.928,203.699 301.591,199.93 307.254,196.161 312.917,192.392 \n",
       "  318.579,188.623 324.242,184.854 329.905,181.085 335.568,177.316 341.231,173.546 346.894,169.777 352.557,166.008 358.22,162.239 363.883,158.47 369.546,154.701 \n",
       "  375.209,150.932 380.872,147.163 386.535,143.394 392.198,139.625 397.86,135.855 403.523,132.086 409.186,128.317 414.849,124.548 420.512,120.779 426.175,117.01 \n",
       "  431.838,113.241 437.501,109.472 443.164,105.703 448.827,101.934 454.49,98.1645 460.153,94.3954 465.816,90.6263 471.479,86.8572 477.141,83.0881 482.804,79.319 \n",
       "  488.467,75.5499 494.13,71.7808 499.793,68.0117 505.456,64.2426 511.119,60.4735 516.782,56.7044 522.445,52.9353 528.108,49.1662 533.771,45.3971 539.434,41.628 \n",
       "  545.097,37.8589 550.76,34.0898 556.422,30.3207 562.085,26.5516 567.748,22.7825 573.411,19.0134 579.074,15.2443 584.737,11.4752 590.4,7.70611 596.063,3.93701 \n",
       "  \n",
       "  \"/>\n",
       "<polygon clip-path=\"url(#clip00)\" points=\"\n",
       "505.547,70.177 578.063,70.177 578.063,24.817 505.547,24.817 \n",
       "  \" fill=\"#ffffff\" fill-opacity=\"1\"/>\n",
       "<polyline clip-path=\"url(#clip00)\" style=\"stroke:#00002d; stroke-width:0.8; stroke-opacity:1; fill:none\" points=\"\n",
       "  505.547,70.177 578.063,70.177 578.063,24.817 505.547,24.817 505.547,70.177 \n",
       "  \"/>\n",
       "<polyline clip-path=\"url(#clip00)\" style=\"stroke:#0099ff; stroke-width:0.8; stroke-opacity:1; fill:none\" points=\"\n",
       "  511.547,39.937 547.547,39.937 \n",
       "  \"/>\n",
       "<g clip-path=\"url(#clip00)\">\n",
       "<text style=\"fill:#00002d; fill-opacity:1; font-family:Arial,Helvetica Neue,Helvetica,sans-serif; font-size:12; text-anchor:start;\" transform=\"rotate(0, 553.547, 44.437)\" x=\"553.547\" y=\"44.437\">y1</text>\n",
       "</g>\n",
       "<polyline clip-path=\"url(#clip00)\" style=\"stroke:#ff0000; stroke-width:0.8; stroke-opacity:1; fill:none\" stroke-dasharray=\"8, 5\" points=\"\n",
       "  511.547,55.057 547.547,55.057 \n",
       "  \"/>\n",
       "<g clip-path=\"url(#clip00)\">\n",
       "<text style=\"fill:#00002d; fill-opacity:1; font-family:Arial,Helvetica Neue,Helvetica,sans-serif; font-size:12; text-anchor:start;\" transform=\"rotate(0, 553.547, 59.557)\" x=\"553.547\" y=\"59.557\">y2</text>\n",
       "</g>\n",
       "</svg>\n"
      ]
     },
     "execution_count": 23,
     "metadata": {},
     "output_type": "execute_result"
    }
   ],
   "source": [
    "using Plots\n",
    "gr()\n",
    "\n",
    "plot(x->sqrt(x), 0, 4)\n",
    "plot!(x->x, 0, 4, c=:red, l=:dash)"
   ]
  },
  {
   "cell_type": "markdown",
   "metadata": {},
   "source": [
    "Opa, a raiz de $0 < a < 1$ na verdade é maior que $a$, então não podemos começar no intervalo $[0,a]$."
   ]
  },
  {
   "cell_type": "code",
   "execution_count": 24,
   "metadata": {
    "collapsed": false
   },
   "outputs": [
    {
     "data": {
      "text/plain": [
       "raiz (generic function with 1 method)"
      ]
     },
     "execution_count": 24,
     "metadata": {},
     "output_type": "execute_result"
    }
   ],
   "source": [
    "# raiz v5\n",
    "function raiz(x)\n",
    "    if x == 0\n",
    "        return 0\n",
    "    end\n",
    "    tol = eps(Float64)\n",
    "    if x < 1\n",
    "        a, b = x, 1\n",
    "    elseif x == 1\n",
    "        return 1\n",
    "    else\n",
    "        a, b = 1, x\n",
    "    end\n",
    "        \n",
    "    m = (a+b)/2\n",
    "    while abs(m^2 - x) > tol^2\n",
    "        if m^2 > x\n",
    "            b = m\n",
    "        else\n",
    "            a = m\n",
    "        end\n",
    "        m = (a+b)/2\n",
    "    end\n",
    "    return m\n",
    "end"
   ]
  },
  {
   "cell_type": "code",
   "execution_count": 28,
   "metadata": {
    "collapsed": false
   },
   "outputs": [
    {
     "name": "stdout",
     "output_type": "stream",
     "text": [
      "Raizes triviais\n",
      "14 facts verified.\n"
     ]
    },
    {
     "data": {
      "text/plain": [
       "delayed_handler (generic function with 4 methods)"
      ]
     },
     "execution_count": 28,
     "metadata": {},
     "output_type": "execute_result"
    }
   ],
   "source": [
    "# teste_raiz v4\n",
    "# O resto da arquivo não faz sentido repetir\n",
    "facts(\"Raizes triviais\") do\n",
    "    for i = 0:10\n",
    "        @fact raiz(i^2) --> i\n",
    "    end\n",
    "    for i = 2:4\n",
    "        @fact raiz(1/i^2) --> 1/i\n",
    "    end\n",
    "end"
   ]
  },
  {
   "cell_type": "markdown",
   "metadata": {},
   "source": [
    "Próxima dificuldade"
   ]
  },
  {
   "cell_type": "code",
   "execution_count": 31,
   "metadata": {
    "collapsed": false
   },
   "outputs": [
    {
     "name": "stdout",
     "output_type": "stream",
     "text": [
      "Raizes triviais\n",
      "14 facts verified.\n"
     ]
    },
    {
     "ename": "LoadError",
     "evalue": "LoadError: Novamente, loop infinito\nwhile loading In[31], in expression starting on line 12",
     "output_type": "error",
     "traceback": [
      "LoadError: Novamente, loop infinito\nwhile loading In[31], in expression starting on line 12",
      "",
      " in error at ./error.jl:21"
     ]
    }
   ],
   "source": [
    "# teste_raiz v5\n",
    "# O resto da arquivo não faz sentido repetir\n",
    "facts(\"Raizes triviais\") do\n",
    "    for i = 0:10\n",
    "        @fact raiz(i^2) --> i\n",
    "    end\n",
    "    for i = 2:4\n",
    "        @fact raiz(1/i^2) --> 1/i\n",
    "    end\n",
    "end\n",
    "\n",
    "error(\"Novamente, loop infinito\")\n",
    "facts(\"Raíz de 2\") do\n",
    "    @fact raiz(2)^2 --> 2.0\n",
    "end"
   ]
  },
  {
   "cell_type": "code",
   "execution_count": 30,
   "metadata": {
    "collapsed": false
   },
   "outputs": [
    {
     "data": {
      "text/plain": [
       "raiz (generic function with 1 method)"
      ]
     },
     "execution_count": 30,
     "metadata": {},
     "output_type": "execute_result"
    }
   ],
   "source": [
    "# raiz v6\n",
    "function raiz(x)\n",
    "    if x == 0\n",
    "        return 0\n",
    "    end\n",
    "    if x < 1\n",
    "        a, b = x, 1\n",
    "    elseif x == 1\n",
    "        return 1\n",
    "    else\n",
    "        a, b = 1, x\n",
    "    end\n",
    "        \n",
    "    m = (a+b)/2\n",
    "    while m^2 != x\n",
    "        if m^2 > x\n",
    "            b = m\n",
    "        else\n",
    "            a = m\n",
    "        end\n",
    "        m = (a+b)/2\n",
    "    end\n",
    "    return m\n",
    "end"
   ]
  },
  {
   "cell_type": "code",
   "execution_count": 32,
   "metadata": {
    "collapsed": false,
    "scrolled": true
   },
   "outputs": [
    {
     "name": "stdout",
     "output_type": "stream",
     "text": [
      "Raizes triviais\n",
      "14 facts verified.\n"
     ]
    },
    {
     "ename": "LoadError",
     "evalue": "LoadError: Novamente, loop infinito\nwhile loading In[32], in expression starting on line 12",
     "output_type": "error",
     "traceback": [
      "LoadError: Novamente, loop infinito\nwhile loading In[32], in expression starting on line 12",
      "",
      " in error at ./error.jl:21"
     ]
    }
   ],
   "source": [
    "# teste_raiz v5\n",
    "# O resto da arquivo não faz sentido repetir\n",
    "facts(\"Raizes triviais\") do\n",
    "    for i = 0:10\n",
    "        @fact raiz(i^2) --> i\n",
    "    end\n",
    "    for i = 2:4\n",
    "        @fact raiz(1/i^2) --> 1/i\n",
    "    end\n",
    "end\n",
    "\n",
    "error(\"Novamente, loop infinito\")\n",
    "facts(\"Raíz de 2\") do\n",
    "    @fact raiz(2)^2 --> 2.0\n",
    "end"
   ]
  },
  {
   "cell_type": "markdown",
   "metadata": {},
   "source": [
    "Na prática, o código anterior era igual ao da v6, isto é, só parava quando o valor era exatamente aquele\n",
    "esperado.\n",
    "Mas agora, $\\sqrt{2}$ é irracional, é impossível encontrar o valor exato."
   ]
  },
  {
   "cell_type": "code",
   "execution_count": 33,
   "metadata": {
    "collapsed": false
   },
   "outputs": [
    {
     "data": {
      "text/plain": [
       "raiz (generic function with 1 method)"
      ]
     },
     "execution_count": 33,
     "metadata": {},
     "output_type": "execute_result"
    }
   ],
   "source": [
    "# raiz v7\n",
    "function raiz(x)\n",
    "    if x == 0\n",
    "        return 0\n",
    "    end\n",
    "    tol = 1e-12\n",
    "    if x < 1\n",
    "        a, b = x, 1\n",
    "    elseif x == 1\n",
    "        return 1\n",
    "    else\n",
    "        a, b = 1, x\n",
    "    end\n",
    "        \n",
    "    m = (a+b)/2\n",
    "    while abs(m^2 - x) > tol\n",
    "        if m^2 > x\n",
    "            b = m\n",
    "        else\n",
    "            a = m\n",
    "        end\n",
    "        m = (a+b)/2\n",
    "    end\n",
    "    return m\n",
    "end"
   ]
  },
  {
   "cell_type": "code",
   "execution_count": 37,
   "metadata": {
    "collapsed": false
   },
   "outputs": [
    {
     "name": "stdout",
     "output_type": "stream",
     "text": [
      "Raizes triviais\n",
      "14 facts verified.\n",
      "Raíz de 2\n",
      "1 fact verified.\n"
     ]
    },
    {
     "data": {
      "text/plain": [
       "delayed_handler (generic function with 4 methods)"
      ]
     },
     "execution_count": 37,
     "metadata": {},
     "output_type": "execute_result"
    }
   ],
   "source": [
    "# teste_raiz v6\n",
    "# O resto da arquivo não faz sentido repetir\n",
    "facts(\"Raizes triviais\") do\n",
    "    @fact raiz(0) --> 0\n",
    "    @fact raiz(1) --> 1\n",
    "    for i = 2:10\n",
    "        @fact raiz(i^2) --> roughly(i)\n",
    "    end\n",
    "    for i = 2:4\n",
    "        @fact raiz(1/i^2) --> roughly(1/i)\n",
    "    end\n",
    "end\n",
    "\n",
    "facts(\"Raíz de 2\") do\n",
    "    @fact raiz(2)^2 --> roughly(2.0)\n",
    "end"
   ]
  },
  {
   "cell_type": "markdown",
   "metadata": {},
   "source": [
    "É importante ter essas coisas em mente antes de começar a programar mesmo os testes.\n",
    "O erro pode ficar escondido nos detalhes."
   ]
  },
  {
   "cell_type": "code",
   "execution_count": 38,
   "metadata": {
    "collapsed": false
   },
   "outputs": [
    {
     "name": "stdout",
     "output_type": "stream",
     "text": [
      "Raízes triviais\n",
      "14 facts verified.\n",
      "Raízes irracionais\n",
      "7 facts verified.\n"
     ]
    },
    {
     "data": {
      "text/plain": [
       "delayed_handler (generic function with 4 methods)"
      ]
     },
     "execution_count": 38,
     "metadata": {},
     "output_type": "execute_result"
    }
   ],
   "source": [
    "# teste_raiz v7\n",
    "# O resto da arquivo não faz sentido repetir\n",
    "facts(\"Raízes triviais\") do\n",
    "    for i = 0:10\n",
    "        @fact raiz(i^2) --> roughly(i)\n",
    "    end\n",
    "    for i = 2:4\n",
    "        @fact raiz(1/i^2) --> roughly(1/i)\n",
    "    end\n",
    "end\n",
    "\n",
    "facts(\"Raízes irracionais\") do\n",
    "    for x in [2.0 3.0 5.0 6.0 7.0 8.0 10.0]\n",
    "        @fact raiz(x)^2 --> roughly(x)\n",
    "    end\n",
    "end"
   ]
  },
  {
   "cell_type": "markdown",
   "metadata": {},
   "source": [
    "Note que a **qualidade** do algoritmo não é verificada."
   ]
  },
  {
   "cell_type": "code",
   "execution_count": 39,
   "metadata": {
    "collapsed": false
   },
   "outputs": [
    {
     "data": {
      "text/plain": [
       "raiz (generic function with 1 method)"
      ]
     },
     "execution_count": 39,
     "metadata": {},
     "output_type": "execute_result"
    }
   ],
   "source": [
    "# raiz v8\n",
    "function raiz(x)\n",
    "    if x == 0\n",
    "        return 0\n",
    "    end\n",
    "    tol = 1e-12\n",
    "            \n",
    "    m = 1.0\n",
    "    while abs(m^2 - x) > tol\n",
    "        m = 0.5*(m + x/m)\n",
    "    end\n",
    "    return m\n",
    "end"
   ]
  },
  {
   "cell_type": "code",
   "execution_count": 40,
   "metadata": {
    "collapsed": false
   },
   "outputs": [
    {
     "name": "stdout",
     "output_type": "stream",
     "text": [
      "Raizes triviais\n",
      "14 facts verified.\n",
      "Raízes irracionais\n",
      "7 facts verified.\n"
     ]
    },
    {
     "data": {
      "text/plain": [
       "delayed_handler (generic function with 4 methods)"
      ]
     },
     "execution_count": 40,
     "metadata": {},
     "output_type": "execute_result"
    }
   ],
   "source": [
    "# teste_raiz v7\n",
    "# O resto da arquivo não faz sentido repetir\n",
    "facts(\"Raizes triviais\") do\n",
    "    for i = 0:10\n",
    "        @fact raiz(i^2) --> roughly(i)\n",
    "    end\n",
    "    for i = 2:4\n",
    "        @fact raiz(1/i^2) --> roughly(1/i)\n",
    "    end\n",
    "end\n",
    "\n",
    "facts(\"Raízes irracionais\") do\n",
    "    for x in [2.0 3.0 5.0 6.0 7.0 8.0 10.0]\n",
    "        @fact raiz(x)^2 --> roughly(x)\n",
    "    end\n",
    "end"
   ]
  },
  {
   "cell_type": "markdown",
   "metadata": {},
   "source": [
    "O segundo algoritmo, que pode ser derivado pelo método de Newton para $f(x) = x^2 - a$ é\n",
    "bem mais rápido, em geral, e faz menos iterações. Mas ambos passam nos testes."
   ]
  },
  {
   "cell_type": "markdown",
   "metadata": {},
   "source": [
    "Outro ponto de teste é o que vai dar errado."
   ]
  },
  {
   "cell_type": "code",
   "execution_count": 41,
   "metadata": {
    "collapsed": false
   },
   "outputs": [
    {
     "name": "stdout",
     "output_type": "stream",
     "text": [
      "Raizes triviais\n",
      "14 facts verified.\n",
      "Raízes irracionais\n",
      "7 facts verified.\n"
     ]
    },
    {
     "ename": "LoadError",
     "evalue": "LoadError: Mais um loop infinito\nwhile loading In[41], in expression starting on line 18",
     "output_type": "error",
     "traceback": [
      "LoadError: Mais um loop infinito\nwhile loading In[41], in expression starting on line 18",
      "",
      " in error at ./error.jl:21"
     ]
    }
   ],
   "source": [
    "# teste_raiz v7\n",
    "# O resto da arquivo não faz sentido repetir\n",
    "facts(\"Raizes triviais\") do\n",
    "    for i = 0:10\n",
    "        @fact raiz(i^2) --> roughly(i)\n",
    "    end\n",
    "    for i = 2:4\n",
    "        @fact raiz(1/i^2) --> roughly(1/i)\n",
    "    end\n",
    "end\n",
    "\n",
    "facts(\"Raízes irracionais\") do\n",
    "    for x in [2.0 3.0 5.0 6.0 7.0 8.0 10.0]\n",
    "        @fact raiz(x)^2 --> roughly(x)\n",
    "    end\n",
    "end\n",
    "\n",
    "error(\"Mais um loop infinito\")\n",
    "facts(\"Raízes negativas\") do\n",
    "    @fact_throws raiz(-1)\n",
    "end"
   ]
  },
  {
   "cell_type": "code",
   "execution_count": 42,
   "metadata": {
    "collapsed": false
   },
   "outputs": [
    {
     "data": {
      "text/plain": [
       "raiz (generic function with 1 method)"
      ]
     },
     "execution_count": 42,
     "metadata": {},
     "output_type": "execute_result"
    }
   ],
   "source": [
    "# raiz v8\n",
    "function raiz(x)\n",
    "    if x == 0\n",
    "        return 0\n",
    "    elseif x < 0\n",
    "        error(\"x deve ser positivo ou nulo\")\n",
    "    end\n",
    "    tol = 1e-12\n",
    "    if x < 1\n",
    "        a, b = x, 1\n",
    "    elseif x == 1\n",
    "        return 1\n",
    "    else\n",
    "        a, b = 1, x\n",
    "    end\n",
    "        \n",
    "    m = (a+b)/2\n",
    "    while abs(m^2 - x) > tol\n",
    "        if m^2 > x\n",
    "            b = m\n",
    "        else\n",
    "            a = m\n",
    "        end\n",
    "        m = (a+b)/2\n",
    "    end\n",
    "    return m\n",
    "end"
   ]
  },
  {
   "cell_type": "code",
   "execution_count": 43,
   "metadata": {
    "collapsed": false
   },
   "outputs": [
    {
     "name": "stdout",
     "output_type": "stream",
     "text": [
      "Raizes triviais\n",
      "14 facts verified.\n",
      "Raízes irracionais\n",
      "7 facts verified.\n",
      "Raízes negativas\n",
      "1 fact verified.\n"
     ]
    },
    {
     "data": {
      "text/plain": [
       "delayed_handler (generic function with 4 methods)"
      ]
     },
     "execution_count": 43,
     "metadata": {},
     "output_type": "execute_result"
    }
   ],
   "source": [
    "# teste_raiz v7\n",
    "# O resto da arquivo não faz sentido repetir\n",
    "facts(\"Raizes triviais\") do\n",
    "    for i = 0:10\n",
    "        @fact raiz(i^2) --> roughly(i)\n",
    "    end\n",
    "    for i = 2:4\n",
    "        @fact raiz(1/i^2) --> roughly(1/i)\n",
    "    end\n",
    "end\n",
    "\n",
    "facts(\"Raízes irracionais\") do\n",
    "    for x in [2.0 3.0 5.0 6.0 7.0 8.0 10.0]\n",
    "        @fact raiz(x)^2 --> roughly(x)\n",
    "    end\n",
    "end\n",
    "\n",
    "facts(\"Raízes negativas\") do\n",
    "    @fact_throws raiz(-1)\n",
    "end"
   ]
  },
  {
   "cell_type": "code",
   "execution_count": null,
   "metadata": {
    "collapsed": true
   },
   "outputs": [],
   "source": []
  }
 ],
 "metadata": {
  "kernelspec": {
   "display_name": "Julia 0.4.6",
   "language": "julia",
   "name": "julia-0.4"
  },
  "language_info": {
   "file_extension": ".jl",
   "mimetype": "application/julia",
   "name": "julia",
   "version": "0.4.6"
  }
 },
 "nbformat": 4,
 "nbformat_minor": 0
}
