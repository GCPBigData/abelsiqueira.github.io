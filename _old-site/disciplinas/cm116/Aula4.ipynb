{
 "cells": [
  {
   "cell_type": "markdown",
   "metadata": {},
   "source": [
    "# Funcoes (Argumentos por palavra-chave)"
   ]
  },
  {
   "cell_type": "code",
   "execution_count": 1,
   "metadata": {
    "collapsed": false
   },
   "outputs": [
    {
     "data": {
      "text/plain": [
       "media (generic function with 1 method)"
      ]
     },
     "execution_count": 1,
     "metadata": {},
     "output_type": "execute_result"
    }
   ],
   "source": [
    "# Calcula a media do vetor v\n",
    "function media(v)\n",
    "    soma = 0.0\n",
    "    n = length(v)\n",
    "    for i = 1:n\n",
    "        soma += v[i]\n",
    "    end\n",
    "    return soma/n\n",
    "end"
   ]
  },
  {
   "cell_type": "code",
   "execution_count": 5,
   "metadata": {
    "collapsed": false
   },
   "outputs": [
    {
     "data": {
      "text/plain": [
       "6.0"
      ]
     },
     "execution_count": 5,
     "metadata": {},
     "output_type": "execute_result"
    }
   ],
   "source": [
    "v = [2.0 3.0 4.0 15.0]\n",
    "media(v)"
   ]
  },
  {
   "cell_type": "code",
   "execution_count": 8,
   "metadata": {
    "collapsed": false
   },
   "outputs": [
    {
     "data": {
      "text/plain": [
       "media (generic function with 2 methods)"
      ]
     },
     "execution_count": 8,
     "metadata": {},
     "output_type": "execute_result"
    }
   ],
   "source": [
    "# Calcula a media do vetor v\n",
    "function media(v, pesos)\n",
    "    n = length(v)\n",
    "    soma = 0.0\n",
    "    soma_p = 0.0\n",
    "    for i = 1:n\n",
    "        soma += v[i]*pesos[i]\n",
    "        soma_p += pesos[i]\n",
    "    end\n",
    "    return soma/soma_p\n",
    "end"
   ]
  },
  {
   "cell_type": "code",
   "execution_count": 9,
   "metadata": {
    "collapsed": false
   },
   "outputs": [
    {
     "data": {
      "text/plain": [
       "3.230769230769231"
      ]
     },
     "execution_count": 9,
     "metadata": {},
     "output_type": "execute_result"
    }
   ],
   "source": [
    "v = [2.0 3.0 4.0 15.0]\n",
    "pesos = [10.0 1.0 1.0 1.0]\n",
    "media(v, pesos)"
   ]
  },
  {
   "cell_type": "code",
   "execution_count": 10,
   "metadata": {
    "collapsed": false
   },
   "outputs": [
    {
     "data": {
      "text/html": [
       "2 methods for generic function <b>media</b>:<ul><li> media(v) at In[1]:3<li> media(v, pesos) at In[8]:3</ul>"
      ],
      "text/plain": [
       "# 2 methods for generic function \"media\":\n",
       "media(v) at In[1]:3\n",
       "media(v, pesos) at In[8]:3"
      ]
     },
     "execution_count": 10,
     "metadata": {},
     "output_type": "execute_result"
    }
   ],
   "source": [
    "methods(media)"
   ]
  },
  {
   "cell_type": "code",
   "execution_count": 11,
   "metadata": {
    "collapsed": false
   },
   "outputs": [
    {
     "data": {
      "text/plain": [
       "media (generic function with 2 methods)"
      ]
     },
     "execution_count": 11,
     "metadata": {},
     "output_type": "execute_result"
    }
   ],
   "source": [
    "# Calcula a media do vetor v\n",
    "function media(v, pesos = [])\n",
    "    n = length(v)\n",
    "    # Se pesos == [], crie pesos unitarios\n",
    "    if length(pesos) == 0\n",
    "        pesos = ones(n)\n",
    "    end\n",
    "    soma = 0.0\n",
    "    soma_p = 0.0\n",
    "    for i = 1:n\n",
    "        soma += v[i]*pesos[i]\n",
    "        soma_p += pesos[i]\n",
    "    end\n",
    "    return soma/soma_p\n",
    "end"
   ]
  },
  {
   "cell_type": "code",
   "execution_count": 12,
   "metadata": {
    "collapsed": false
   },
   "outputs": [
    {
     "data": {
      "text/html": [
       "2 methods for generic function <b>media</b>:<ul><li> media(v) at In[11]:3<li> media(v, pesos) at In[11]:3</ul>"
      ],
      "text/plain": [
       "# 2 methods for generic function \"media\":\n",
       "media(v) at In[11]:3\n",
       "media(v, pesos) at In[11]:3"
      ]
     },
     "execution_count": 12,
     "metadata": {},
     "output_type": "execute_result"
    }
   ],
   "source": [
    "methods(media)"
   ]
  },
  {
   "cell_type": "code",
   "execution_count": 15,
   "metadata": {
    "collapsed": false
   },
   "outputs": [
    {
     "data": {
      "text/plain": [
       "6.0"
      ]
     },
     "execution_count": 15,
     "metadata": {},
     "output_type": "execute_result"
    }
   ],
   "source": [
    "media(v)"
   ]
  },
  {
   "cell_type": "code",
   "execution_count": 16,
   "metadata": {
    "collapsed": false
   },
   "outputs": [
    {
     "data": {
      "text/plain": [
       "3.230769230769231"
      ]
     },
     "execution_count": 16,
     "metadata": {},
     "output_type": "execute_result"
    }
   ],
   "source": [
    "media(v, pesos)"
   ]
  },
  {
   "cell_type": "code",
   "execution_count": 17,
   "metadata": {
    "collapsed": false
   },
   "outputs": [
    {
     "data": {
      "text/plain": [
       "media (generic function with 2 methods)"
      ]
     },
     "execution_count": 17,
     "metadata": {},
     "output_type": "execute_result"
    }
   ],
   "source": [
    "# Calcula a media do vetor v\n",
    "function media(v; pesos = [])\n",
    "    n = length(v)\n",
    "    # Se pesos == [], crie pesos unitarios\n",
    "    if length(pesos) == 0\n",
    "        pesos = ones(n)\n",
    "    end\n",
    "    soma = 0.0\n",
    "    soma_p = 0.0\n",
    "    for i = 1:n\n",
    "        soma += v[i]*pesos[i]\n",
    "        soma_p += pesos[i]\n",
    "    end\n",
    "    return soma/soma_p\n",
    "end"
   ]
  },
  {
   "cell_type": "code",
   "execution_count": 18,
   "metadata": {
    "collapsed": false
   },
   "outputs": [
    {
     "data": {
      "text/html": [
       "2 methods for generic function <b>media</b>:<ul><li> media(v) at In[17]:3<li> media(v, pesos) at In[11]:3</ul>"
      ],
      "text/plain": [
       "# 2 methods for generic function \"media\":\n",
       "media(v) at In[17]:3\n",
       "media(v, pesos) at In[11]:3"
      ]
     },
     "execution_count": 18,
     "metadata": {},
     "output_type": "execute_result"
    }
   ],
   "source": [
    "methods(media)"
   ]
  },
  {
   "cell_type": "code",
   "execution_count": 19,
   "metadata": {
    "collapsed": false
   },
   "outputs": [
    {
     "data": {
      "text/plain": [
       "3.230769230769231"
      ]
     },
     "execution_count": 19,
     "metadata": {},
     "output_type": "execute_result"
    }
   ],
   "source": [
    "media(v, pesos = pesos)"
   ]
  },
  {
   "cell_type": "code",
   "execution_count": 20,
   "metadata": {
    "collapsed": false
   },
   "outputs": [
    {
     "data": {
      "text/plain": [
       "4-element Array{Float64,1}:\n",
       " 0.859679\n",
       " 0.610076\n",
       " 0.61262 \n",
       " 0.664287"
      ]
     },
     "execution_count": 20,
     "metadata": {},
     "output_type": "execute_result"
    }
   ],
   "source": [
    "pesos2 = rand(4)"
   ]
  },
  {
   "cell_type": "code",
   "execution_count": 21,
   "metadata": {
    "collapsed": false
   },
   "outputs": [
    {
     "data": {
      "text/plain": [
       "5.812280281719939"
      ]
     },
     "execution_count": 21,
     "metadata": {},
     "output_type": "execute_result"
    }
   ],
   "source": [
    "media(v, pesos=pesos2)"
   ]
  },
  {
   "cell_type": "code",
   "execution_count": 22,
   "metadata": {
    "collapsed": false
   },
   "outputs": [
    {
     "data": {
      "text/plain": [
       "5.812280281719939"
      ]
     },
     "execution_count": 22,
     "metadata": {},
     "output_type": "execute_result"
    }
   ],
   "source": [
    "media(v, pesos2)"
   ]
  },
  {
   "cell_type": "code",
   "execution_count": 24,
   "metadata": {
    "collapsed": false
   },
   "outputs": [
    {
     "data": {
      "text/plain": [
       "foo (generic function with 4 methods)"
      ]
     },
     "execution_count": 24,
     "metadata": {},
     "output_type": "execute_result"
    }
   ],
   "source": [
    "function foo(a, b = 1, c = 2, d = 3)\n",
    "    println(\"a = $a\")\n",
    "    println(\"b = $b\")\n",
    "    println(\"c = $c\")\n",
    "    println(\"d = $d\")\n",
    "end"
   ]
  },
  {
   "cell_type": "code",
   "execution_count": 29,
   "metadata": {
    "collapsed": false
   },
   "outputs": [
    {
     "name": "stdout",
     "output_type": "stream",
     "text": [
      "a = 4\n",
      "b = 1\n",
      "c = 2\n",
      "d = 1.4142135623730951\n"
     ]
    }
   ],
   "source": [
    "foo(4, 1, 2, sqrt(2))"
   ]
  },
  {
   "cell_type": "code",
   "execution_count": 30,
   "metadata": {
    "collapsed": false
   },
   "outputs": [
    {
     "data": {
      "text/plain": [
       "bar (generic function with 1 method)"
      ]
     },
     "execution_count": 30,
     "metadata": {},
     "output_type": "execute_result"
    }
   ],
   "source": [
    "function bar(a; b = 1, c = 2, d = 3)\n",
    "    println(\"a = $a\")\n",
    "    println(\"b = $b\")\n",
    "    println(\"c = $c\")\n",
    "    println(\"d = $d\")\n",
    "end"
   ]
  },
  {
   "cell_type": "code",
   "execution_count": 32,
   "metadata": {
    "collapsed": false
   },
   "outputs": [
    {
     "name": "stdout",
     "output_type": "stream",
     "text": [
      "a = 5\n",
      "b = 1\n",
      "c = 2\n",
      "d = 1.4142135623730951\n"
     ]
    }
   ],
   "source": [
    "bar(5, d = sqrt(2))"
   ]
  },
  {
   "cell_type": "code",
   "execution_count": 33,
   "metadata": {
    "collapsed": false
   },
   "outputs": [
    {
     "data": {
      "text/plain": [
       "5.551115123125783e-17"
      ]
     },
     "execution_count": 33,
     "metadata": {},
     "output_type": "execute_result"
    }
   ],
   "source": [
    "0.1+0.2-0.3"
   ]
  },
  {
   "cell_type": "code",
   "execution_count": 36,
   "metadata": {
    "collapsed": false
   },
   "outputs": [
    {
     "data": {
      "text/plain": [
       "bisseccao (generic function with 1 method)"
      ]
     },
     "execution_count": 36,
     "metadata": {},
     "output_type": "execute_result"
    }
   ],
   "source": [
    "function bisseccao(f, a, b;\n",
    "        tol_x = 1e-6, tol_f = 1e-6, maxk = 1000)\n",
    "    x = (a+b)/2\n",
    "    k = 0\n",
    "    return x, f(x), k\n",
    "end"
   ]
  },
  {
   "cell_type": "code",
   "execution_count": 37,
   "metadata": {
    "collapsed": false
   },
   "outputs": [
    {
     "data": {
      "text/plain": [
       "(1.0,-1.0,0)"
      ]
     },
     "execution_count": 37,
     "metadata": {},
     "output_type": "execute_result"
    }
   ],
   "source": [
    "f(x) = x^2 - 2\n",
    "x, fx, k = bisseccao(f, 0, 2)"
   ]
  },
  {
   "cell_type": "code",
   "execution_count": 38,
   "metadata": {
    "collapsed": false
   },
   "outputs": [
    {
     "ename": "LoadError",
     "evalue": "LoadError: Exemplo\nwhile loading In[38], in expression starting on line 1",
     "output_type": "error",
     "traceback": [
      "LoadError: Exemplo\nwhile loading In[38], in expression starting on line 1",
      "",
      " in error at ./error.jl:21"
     ]
    }
   ],
   "source": [
    "error(\"Exemplo\")"
   ]
  },
  {
   "cell_type": "code",
   "execution_count": 70,
   "metadata": {
    "collapsed": false
   },
   "outputs": [
    {
     "data": {
      "text/plain": [
       "bisseccao (generic function with 1 method)"
      ]
     },
     "execution_count": 70,
     "metadata": {},
     "output_type": "execute_result"
    }
   ],
   "source": [
    "function bisseccao(g, a, b;\n",
    "        tol_x = 1e-6, tol_f = 1e-6, maxk = 1000)\n",
    "    if f(a)*f(b) > 0\n",
    "        error(\"f(a)*f(b) > 0\")\n",
    "    end\n",
    "    x = (a+b)/2\n",
    "    k = 0\n",
    "    while (abs(f(x)) > tol_f || abs(x-a) > tol_x) && (k < maxk)\n",
    "        a, b = f(a)*f(x) < 0 ? (a, x) : (x, b)\n",
    "        x = (a+b)/2\n",
    "        k += 1\n",
    "    end\n",
    "    return x, f(x), k\n",
    "end"
   ]
  },
  {
   "cell_type": "code",
   "execution_count": 72,
   "metadata": {
    "collapsed": false,
    "scrolled": true
   },
   "outputs": [
    {
     "name": "stdout",
     "output_type": "stream",
     "text": [
      "  "
     ]
    },
    {
     "data": {
      "text/plain": [
       "(1.4142135614529252,-2.6026334420947705e-9,30)"
      ]
     },
     "execution_count": 72,
     "metadata": {},
     "output_type": "execute_result"
    },
    {
     "name": "stdout",
     "output_type": "stream",
     "text": [
      "0.000085 seconds (470 allocations: 8.094 KB)\n"
     ]
    }
   ],
   "source": [
    "f(x) = x^2 - 2\n",
    "@time x, fx, k = bisseccao(f, 0, 2, tol_x = 1e-15, maxk=30)"
   ]
  },
  {
   "cell_type": "code",
   "execution_count": 58,
   "metadata": {
    "collapsed": false
   },
   "outputs": [
    {
     "name": "stdout",
     "output_type": "stream",
     "text": [
      "  "
     ]
    },
    {
     "data": {
      "text/plain": [
       "(1.4142136573791504,2.687177129701013e-7,21)"
      ]
     },
     "execution_count": 58,
     "metadata": {},
     "output_type": "execute_result"
    },
    {
     "name": "stdout",
     "output_type": "stream",
     "text": [
      "0.000072 seconds (316 allocations: 5.469 KB)\n"
     ]
    }
   ],
   "source": [
    "f(x) = 1e8*(x^2 - 2)\n",
    "@time x, fx, k = bisseccao(f, 0, 2)"
   ]
  },
  {
   "cell_type": "code",
   "execution_count": 59,
   "metadata": {
    "collapsed": false
   },
   "outputs": [
    {
     "name": "stdout",
     "output_type": "stream",
     "text": [
      "  "
     ]
    },
    {
     "data": {
      "text/plain": [
       "(1.4142136573791504,2.687177129701013e-7,21)"
      ]
     },
     "execution_count": 59,
     "metadata": {},
     "output_type": "execute_result"
    },
    {
     "name": "stdout",
     "output_type": "stream",
     "text": [
      "0.000045 seconds (316 allocations: 5.469 KB)\n"
     ]
    }
   ],
   "source": [
    "f(x) = 1e-8*(x^2 - 2)\n",
    "@time x, fx, k = bisseccao(f, 0, 2)"
   ]
  },
  {
   "cell_type": "code",
   "execution_count": 60,
   "metadata": {
    "collapsed": false
   },
   "outputs": [
    {
     "ename": "LoadError",
     "evalue": "LoadError: f(a)*f(b) > 0\nwhile loading In[60], in expression starting on line 155",
     "output_type": "error",
     "traceback": [
      "LoadError: f(a)*f(b) > 0\nwhile loading In[60], in expression starting on line 155",
      "",
      " in bisseccao at In[51]:4"
     ]
    }
   ],
   "source": [
    "f(x) = x^2 + 1\n",
    "@time x, fx, k = bisseccao(f, 0, 1)"
   ]
  },
  {
   "cell_type": "code",
   "execution_count": null,
   "metadata": {
    "collapsed": true
   },
   "outputs": [],
   "source": []
  }
 ],
 "metadata": {
  "kernelspec": {
   "display_name": "Julia 0.4.3",
   "language": "julia",
   "name": "julia-0.4"
  },
  "language_info": {
   "file_extension": ".jl",
   "mimetype": "application/julia",
   "name": "julia",
   "version": "0.4.3"
  }
 },
 "nbformat": 4,
 "nbformat_minor": 0
}
