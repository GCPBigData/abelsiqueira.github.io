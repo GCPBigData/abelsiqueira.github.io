{
 "cells": [
  {
   "cell_type": "markdown",
   "metadata": {},
   "source": [
    "# Aula 3 - Funcoes"
   ]
  },
  {
   "cell_type": "code",
   "execution_count": 1,
   "metadata": {
    "collapsed": false
   },
   "outputs": [
    {
     "data": {
      "text/plain": [
       "foo (generic function with 1 method)"
      ]
     },
     "execution_count": 1,
     "metadata": {},
     "output_type": "execute_result"
    }
   ],
   "source": [
    "function foo(arg1, arg2)\n",
    "    s = arg1 + arg2\n",
    "    p = arg1*arg2\n",
    "    return p - s\n",
    "end"
   ]
  },
  {
   "cell_type": "code",
   "execution_count": 7,
   "metadata": {
    "collapsed": false
   },
   "outputs": [
    {
     "data": {
      "text/plain": [
       "-1.0"
      ]
     },
     "execution_count": 7,
     "metadata": {},
     "output_type": "execute_result"
    }
   ],
   "source": [
    "foo(1,pi)"
   ]
  },
  {
   "cell_type": "code",
   "execution_count": 24,
   "metadata": {
    "collapsed": false
   },
   "outputs": [
    {
     "data": {
      "text/plain": [
       "bhaskara (generic function with 1 method)"
      ]
     },
     "execution_count": 24,
     "metadata": {},
     "output_type": "execute_result"
    }
   ],
   "source": [
    "# Resolve ax² + bx + c = 0\n",
    "# Sempre retorna duas solucoes\n",
    "# Se Δ > 0 retorna as duas solucoes\n",
    "# Se Δ = 0 retorna as duas iguais\n",
    "# Se Δ < 0 retorna as complexas\n",
    "function bhaskara(a, b, c)\n",
    "    Δ = b^2 - 4a*c # \\Delta\n",
    "    if Δ > 0\n",
    "        return (-b + sqrt(Δ))/2a, (-b - sqrt(Δ))/2a\n",
    "    elseif Δ == 0\n",
    "        r = -b/2a\n",
    "        return r, r\n",
    "    else\n",
    "        return (-b + im*sqrt(-Δ))/2a, (-b - im*sqrt(-Δ))/2a\n",
    "    end\n",
    "end"
   ]
  },
  {
   "cell_type": "code",
   "execution_count": 25,
   "metadata": {
    "collapsed": false
   },
   "outputs": [
    {
     "data": {
      "text/plain": [
       "(0.0 + 1.0im,0.0 - 1.0im)"
      ]
     },
     "execution_count": 25,
     "metadata": {},
     "output_type": "execute_result"
    }
   ],
   "source": [
    "bhaskara(1, 0, 1)"
   ]
  },
  {
   "cell_type": "code",
   "execution_count": 27,
   "metadata": {
    "collapsed": false
   },
   "outputs": [
    {
     "data": {
      "text/plain": [
       "1"
      ]
     },
     "execution_count": 27,
     "metadata": {},
     "output_type": "execute_result"
    }
   ],
   "source": [
    "A = 2\n",
    "x = 1"
   ]
  },
  {
   "cell_type": "code",
   "execution_count": 35,
   "metadata": {
    "collapsed": false
   },
   "outputs": [
    {
     "data": {
      "text/plain": [
       "1.414213562373095"
      ]
     },
     "execution_count": 35,
     "metadata": {},
     "output_type": "execute_result"
    }
   ],
   "source": [
    "x = 0.5*(x + A/x)"
   ]
  },
  {
   "cell_type": "code",
   "execution_count": 36,
   "metadata": {
    "collapsed": false
   },
   "outputs": [
    {
     "data": {
      "text/plain": [
       "-4.440892098500626e-16"
      ]
     },
     "execution_count": 36,
     "metadata": {},
     "output_type": "execute_result"
    }
   ],
   "source": [
    "x^2 - A"
   ]
  },
  {
   "cell_type": "code",
   "execution_count": 37,
   "metadata": {
    "collapsed": false
   },
   "outputs": [
    {
     "data": {
      "text/plain": [
       "raiz_quadrada (generic function with 1 method)"
      ]
     },
     "execution_count": 37,
     "metadata": {},
     "output_type": "execute_result"
    }
   ],
   "source": [
    "function raiz_quadrada(A)\n",
    "    x = 1\n",
    "    while abs(x^2 - A) > 1e-6 # |x²-A| > 10⁻⁶\n",
    "        x = 0.5*(x + A/x)\n",
    "    end\n",
    "    return x\n",
    "end"
   ]
  },
  {
   "cell_type": "code",
   "execution_count": 42,
   "metadata": {
    "collapsed": false
   },
   "outputs": [
    {
     "data": {
      "text/plain": [
       "3.000000001396984"
      ]
     },
     "execution_count": 42,
     "metadata": {},
     "output_type": "execute_result"
    }
   ],
   "source": [
    "raiz_quadrada(9)"
   ]
  },
  {
   "cell_type": "markdown",
   "metadata": {},
   "source": [
    "## Argumentos opcionais"
   ]
  },
  {
   "cell_type": "code",
   "execution_count": 47,
   "metadata": {
    "collapsed": false
   },
   "outputs": [
    {
     "data": {
      "text/plain": [
       "logaritmo (generic function with 2 methods)"
      ]
     },
     "execution_count": 47,
     "metadata": {},
     "output_type": "execute_result"
    }
   ],
   "source": [
    "function logaritmo(x, base = e)\n",
    "    # Calcula ln(x)\n",
    "    r = (x-1)/(x+1)\n",
    "    log_e = 2(r + r^3/3)\n",
    "    if base == e\n",
    "        return log_e\n",
    "    else\n",
    "        # Calcula ln(base)\n",
    "        r_b = (base-1)/(base+1)\n",
    "        log_b = 2(r_b + r_b^3/3)\n",
    "        return log_e/log_b\n",
    "    end\n",
    "end"
   ]
  },
  {
   "cell_type": "code",
   "execution_count": 53,
   "metadata": {
    "collapsed": false
   },
   "outputs": [
    {
     "data": {
      "text/plain": [
       "0.5412600100100099"
      ]
     },
     "execution_count": 53,
     "metadata": {},
     "output_type": "execute_result"
    }
   ],
   "source": [
    "logaritmo(3, 10)"
   ]
  },
  {
   "cell_type": "code",
   "execution_count": 54,
   "metadata": {
    "collapsed": false
   },
   "outputs": [
    {
     "data": {
      "text/plain": [
       "0.47712125471966244"
      ]
     },
     "execution_count": 54,
     "metadata": {},
     "output_type": "execute_result"
    }
   ],
   "source": [
    "log10(3)"
   ]
  },
  {
   "cell_type": "markdown",
   "metadata": {},
   "source": [
    "## Recursao\n",
    "\n",
    "Chamar a funcao dentro da propria funcao"
   ]
  },
  {
   "cell_type": "code",
   "execution_count": 72,
   "metadata": {
    "collapsed": false
   },
   "outputs": [
    {
     "data": {
      "text/plain": [
       "logaritmo_melhor (generic function with 2 methods)"
      ]
     },
     "execution_count": 72,
     "metadata": {},
     "output_type": "execute_result"
    }
   ],
   "source": [
    "function logaritmo_melhor(x, base = e)\n",
    "    # Calcula ln(x)\n",
    "    r = (x-1)/(x+1)\n",
    "    log_e = 0\n",
    "    t = r\n",
    "    n = 1\n",
    "    while abs(t) > 1e-12\n",
    "        log_e += t/n\n",
    "        t *= r*r\n",
    "        n += 2\n",
    "    end\n",
    "    log_e = 2log_e\n",
    "    # Para fazer um algoritmo melhor, o ideal seria\n",
    "    # Usar um loop para calcular os termos\n",
    "    # Q1 - Qual condicao de parada\n",
    "    # Q2 - Vai quebrar?\n",
    "    if base == e\n",
    "        return log_e\n",
    "    else\n",
    "        # Calcula ln(base)\n",
    "        log_b = logaritmo_melhor(base)\n",
    "        return log_e/log_b\n",
    "    end\n",
    "end"
   ]
  },
  {
   "cell_type": "code",
   "execution_count": 82,
   "metadata": {
    "collapsed": false
   },
   "outputs": [
    {
     "name": "stdout",
     "output_type": "stream",
     "text": [
      "  "
     ]
    },
    {
     "data": {
      "text/plain": [
       "-4.529709940470639e-14"
      ]
     },
     "execution_count": 82,
     "metadata": {},
     "output_type": "execute_result"
    },
    {
     "name": "stdout",
     "output_type": "stream",
     "text": [
      "0.000039 seconds (2.77 k allocations: 43.391 KB)\n"
     ]
    }
   ],
   "source": [
    "@time logaritmo_melhor(200) - log(200)"
   ]
  },
  {
   "cell_type": "markdown",
   "metadata": {},
   "source": [
    "## Argumento por palavra-chave (keyword)"
   ]
  },
  {
   "cell_type": "code",
   "execution_count": 84,
   "metadata": {
    "collapsed": false
   },
   "outputs": [
    {
     "data": {
      "text/plain": [
       "logaritmo_com_tol (generic function with 1 method)"
      ]
     },
     "execution_count": 84,
     "metadata": {},
     "output_type": "execute_result"
    }
   ],
   "source": [
    "function logaritmo_com_tol(x; base = e, tol = 1e-12)\n",
    "    # Calcula ln(x)\n",
    "    r = (x-1)/(x+1)\n",
    "    log_e = 0\n",
    "    t = r\n",
    "    n = 1\n",
    "    while abs(t) > tol\n",
    "        log_e += t/n\n",
    "        t *= r*r\n",
    "        n += 2\n",
    "    end\n",
    "    log_e = 2log_e\n",
    "    # Para fazer um algoritmo melhor, o ideal seria\n",
    "    # Usar um loop para calcular os termos\n",
    "    # Q1 - Qual condicao de parada\n",
    "    # Q2 - Vai quebrar?\n",
    "    if base == e\n",
    "        return log_e\n",
    "    else\n",
    "        # Calcula ln(base)\n",
    "        log_b = logaritmo_com_tol(base, tol=tol)\n",
    "        return log_e/log_b\n",
    "    end\n",
    "end"
   ]
  },
  {
   "cell_type": "code",
   "execution_count": 96,
   "metadata": {
    "collapsed": false
   },
   "outputs": [
    {
     "name": "stdout",
     "output_type": "stream",
     "text": [
      "  "
     ]
    },
    {
     "data": {
      "text/plain": [
       "-5.551115123125783e-16"
      ]
     },
     "execution_count": 96,
     "metadata": {},
     "output_type": "execute_result"
    },
    {
     "name": "stdout",
     "output_type": "stream",
     "text": [
      "0.000012 seconds (176 allocations: 2.984 KB)\n"
     ]
    }
   ],
   "source": [
    "@time logaritmo_com_tol(2, base=10, tol=1e-12) - log10(2)"
   ]
  },
  {
   "cell_type": "code",
   "execution_count": null,
   "metadata": {
    "collapsed": true
   },
   "outputs": [],
   "source": []
  }
 ],
 "metadata": {
  "kernelspec": {
   "display_name": "Julia 0.4.3",
   "language": "julia",
   "name": "julia-0.4"
  },
  "language_info": {
   "file_extension": ".jl",
   "mimetype": "application/julia",
   "name": "julia",
   "version": "0.4.3"
  }
 },
 "nbformat": 4,
 "nbformat_minor": 0
}
