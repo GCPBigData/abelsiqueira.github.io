{
 "cells": [
  {
   "cell_type": "markdown",
   "metadata": {},
   "source": [
    "## Sistemas Lineares Singulares ou Não-quadrados"
   ]
  },
  {
   "cell_type": "markdown",
   "metadata": {},
   "source": [
    "Considere a matriz abaixo."
   ]
  },
  {
   "cell_type": "code",
   "execution_count": 3,
   "metadata": {
    "collapsed": false
   },
   "outputs": [
    {
     "data": {
      "text/plain": [
       "2x5 Array{Float64,2}:\n",
       " 1.0  2.0  0.0   2.0  5.0\n",
       " 0.0  0.0  1.0  -4.0  2.0"
      ]
     },
     "execution_count": 3,
     "metadata": {},
     "output_type": "execute_result"
    }
   ],
   "source": [
    "A = [1.0 2.0 0.0 2.0 5.0; 0.0 0.0 1.0 -4.0 2.0]"
   ]
  },
  {
   "cell_type": "markdown",
   "metadata": {},
   "source": [
    "$A$ claramente tem um problema. Ela só tem duas linhas, mas tem cinco colunas.\n",
    "Então podemos esperar que $Ax = b$ não tenha solução, ou que tenha infinitas.\n",
    "Mas como verificar isso?"
   ]
  },
  {
   "cell_type": "code",
   "execution_count": 4,
   "metadata": {
    "collapsed": false
   },
   "outputs": [
    {
     "data": {
      "text/plain": [
       "3x2 Array{Float64,2}:\n",
       " 1.0  0.0\n",
       " 0.0  1.0\n",
       " 1.0  1.0"
      ]
     },
     "execution_count": 4,
     "metadata": {},
     "output_type": "execute_result"
    }
   ],
   "source": [
    "A = [1.0 0.0; 0.0 1.0; 1.0 1.0]"
   ]
  },
  {
   "cell_type": "markdown",
   "metadata": {},
   "source": [
    "Esta $A$ tem um problema parecido. Suas linhas são em maior número que a coluna. O que esperar do sistema $Ax = b$?"
   ]
  },
  {
   "cell_type": "markdown",
   "metadata": {},
   "source": [
    "## Imagem e Núcleo\n",
    "\n",
    "Em Álgebra Linear, já foi visto imagem e núcleo de transformações lineares.\n",
    "Também vimos que $A$ define a transformação $T:\\mathbb{R}^n\\longrightarrow\\mathbb{R}^m$ dada\n",
    "por $T(x) = Ax$. Para matrizes, estendendo o conceito, temos\n",
    "\n",
    "$$ \\mbox{Im}(A) = \\{Ax \\mid\\ \\forall x \\in \\mathbb{R}^n\\}\n",
    "= \\{y \\in \\mathbb{R}^m \\mid\\ \\exists x \\in \\mathbb{R}^m \\mid\\ y = Ax\\}\n",
    "\\subset \\mathbb{R}^m $$\n",
    "$$ \\mbox{Nu}(A) = \\{x \\mid\\ Ax = 0\\} \\subset \\mathbb{R}^n. $$\n",
    "\n",
    "O sistema linear $Ax = b$ tem solução se $b \\in \\mbox{Im}(A)$. E caso tenha,\n",
    "todas soluções são da forma $x + d$, onde $Ad = 0$, isto é, $x + \\mbox{Nu}(A)$,\n",
    "onde $x$ é uma solução."
   ]
  },
  {
   "cell_type": "markdown",
   "metadata": {},
   "source": [
    "No primeiro caso, podemos trocas as colunas de $A$ obtendo $[I\\ B]$, onde $I$ é a identidade e $B$ é uma matriz qualquer. Trocamos as linhas de $x$ respectivamente, obtendo $[x_I; x_B]$. Uma solução do sistema $Ax = b$ seria\n",
    "$x_I = b$ e $x_B = 0$.\n",
    "\n",
    "De maneira geral, $I$ poderia ser $U$ e fariamos $x_I = U^{-1}b$."
   ]
  },
  {
   "cell_type": "markdown",
   "metadata": {},
   "source": [
    "Uma estratégia para obter isso é realmente fazer as permutações de coluna na fatoração LU.\n",
    "Isso é chamado de pivoteamento completo.\n",
    "Apesar de funcionar, é pouco praticado."
   ]
  },
  {
   "cell_type": "markdown",
   "metadata": {},
   "source": [
    "Def.: (Posto) O posto-linha da matriz $A$ é o número de linhas linearmente independente de $A$.\n",
    "O posto-coluna é análogo.\n",
    "\n",
    "Teo.: O posto-linha é igual ao posto-coluna e por isso dizemos apenas posto.\n",
    "\n",
    "Def.: Dizemos que uma matriz $A: m\\times n$ tem posto-linha completo de o posto de $A$ é $m$.\n",
    "Análogo para posto-coluna completo.\n",
    "\n",
    "Def.: Dizemos que $A$ tem posto completo se o posto de $A$ é $\\min\\{m,n\\}$.\n",
    "\n",
    "Teo.: Se $A$ tem posto-linha completo, então $Ax = b$ tem uma solução se $n = m$ ou infinitas\n",
    "se $m < n$. (Note que $m > n$ é impossível.)\n",
    "\n",
    "Teo.: Se $A$ tem posto-coluna completo, então $\\mbox{Nu}(A) = \\{0\\}$. Daí, se existir solução,\n",
    "ela é única. Note que pode não existir solução."
   ]
  },
  {
   "cell_type": "markdown",
   "metadata": {},
   "source": [
    "Teo.: Se $A$, $m\\times n$ com $m \\leq n$, então existem matrizes $L$, $U$ e $P$ tais que\n",
    "$PA = LU$, com $P$ matriz de permutação de linhas, $L$ triangular inferior $m\\times m$ com diagonal de 1s e\n",
    "$U$ é tipo escada superior $m\\times n$ com o mesmo posto que $A$."
   ]
  },
  {
   "cell_type": "code",
   "execution_count": 1,
   "metadata": {
    "collapsed": false
   },
   "outputs": [
    {
     "data": {
      "text/plain": [
       "2x5 Array{Float64,2}:\n",
       "  2.0   3.0   1.0  1.0  1.0\n",
       " -4.0  -6.0  -3.0  3.0  2.0"
      ]
     },
     "execution_count": 1,
     "metadata": {},
     "output_type": "execute_result"
    }
   ],
   "source": [
    "A = [2.0 3.0 1.0 1.0 1.0; -4.0 -6.0 -3.0 3.0 2.0]"
   ]
  },
  {
   "cell_type": "code",
   "execution_count": 2,
   "metadata": {
    "collapsed": false
   },
   "outputs": [
    {
     "data": {
      "text/plain": [
       "2x5 Array{Float64,2}:\n",
       " 2.0  3.0   1.0  1.0  1.0\n",
       " 0.0  0.0  -1.0  5.0  4.0"
      ]
     },
     "execution_count": 2,
     "metadata": {},
     "output_type": "execute_result"
    }
   ],
   "source": [
    "m21 = A[2,1]/A[1,1]\n",
    "U = copy(A)\n",
    "U[2,1] = 0.0\n",
    "U[2,2:5] -= m21*U[1,2:5]\n",
    "U"
   ]
  },
  {
   "cell_type": "code",
   "execution_count": 3,
   "metadata": {
    "collapsed": false
   },
   "outputs": [
    {
     "data": {
      "text/plain": [
       "3x5 Array{Float64,2}:\n",
       " 2.0  3.0   1.0    1.0   1.0\n",
       " 0.0  0.0  -1.0    5.0   4.0\n",
       " 0.0  0.0   2.0  -10.0  -8.0"
      ]
     },
     "execution_count": 3,
     "metadata": {},
     "output_type": "execute_result"
    }
   ],
   "source": [
    "A = [2.0 3.0 1.0 1.0 1.0; 0.0 0.0 -1.0 5.0 4.0; 0.0 0.0 2.0 -10.0 -8.0]"
   ]
  },
  {
   "cell_type": "code",
   "execution_count": 4,
   "metadata": {
    "collapsed": false
   },
   "outputs": [
    {
     "data": {
      "text/plain": [
       "3x5 Array{Float64,2}:\n",
       " 2.0  3.0   1.0  1.0  1.0\n",
       " 0.0  0.0  -1.0  5.0  4.0\n",
       " 0.0  0.0   0.0  0.0  0.0"
      ]
     },
     "execution_count": 4,
     "metadata": {},
     "output_type": "execute_result"
    }
   ],
   "source": [
    "m33 = A[3,3]/A[2,3]\n",
    "U = copy(A)\n",
    "U[3,3] = 0.0\n",
    "U[3,4:end] -= m33*U[2,4:end]\n",
    "U"
   ]
  },
  {
   "cell_type": "markdown",
   "metadata": {},
   "source": [
    "Teo.: Se $A$ é $m \\times n$ com $m > n$, então existe $L$, $m\\times n$ com diagonal de 1\n",
    "e $U$, $n \\times n$ com mesmo posto que $A$, $P$ permutação de linhas tais que \n",
    "$PA = LU$."
   ]
  },
  {
   "cell_type": "code",
   "execution_count": 5,
   "metadata": {
    "collapsed": false
   },
   "outputs": [
    {
     "data": {
      "text/plain": [
       "5x3 Array{Float64,2}:\n",
       " 0.611523    0.473446   0.0193772\n",
       " 0.540549    0.042203   0.346138 \n",
       " 0.00431418  0.0549514  0.461622 \n",
       " 0.86256     0.195973   0.332966 \n",
       " 0.0747737   0.907916   0.874113 "
      ]
     },
     "execution_count": 5,
     "metadata": {},
     "output_type": "execute_result"
    }
   ],
   "source": [
    "A = rand(5,3)"
   ]
  },
  {
   "cell_type": "code",
   "execution_count": 6,
   "metadata": {
    "collapsed": false
   },
   "outputs": [
    {
     "data": {
      "text/plain": [
       "dec_lu_pivot (generic function with 1 method)"
      ]
     },
     "execution_count": 6,
     "metadata": {},
     "output_type": "execute_result"
    }
   ],
   "source": [
    "function dec_lu_pivot(A; tol=1e-12)\n",
    "    m,n = size(A)\n",
    "    U = copy(A)\n",
    "    L = zeros(m,n)\n",
    "    P = collect(1:m)\n",
    "    for j = 1:n\n",
    "        # Diferença/Correção\n",
    "        if j > m\n",
    "            break\n",
    "        end\n",
    "        i_pivo, pivo = j, abs(U[j,j])\n",
    "        for i = j+1:m\n",
    "            if abs(U[i,j]) > pivo\n",
    "                pivo = abs(U[i,j])\n",
    "                i_pivo = i\n",
    "            end\n",
    "        end\n",
    "        if pivo < tol\n",
    "            error(\"pivo ≈ 0.0\")\n",
    "        end\n",
    "        if i_pivo != j\n",
    "            U[[i_pivo; j],:] = U[[j; i_pivo],:]\n",
    "            L[[i_pivo; j],:] = L[[j; i_pivo],:]\n",
    "            P[[i_pivo; j]] = P[[j; i_pivo]]\n",
    "        end\n",
    "        L[j,j] = 1.0\n",
    "        for i = j+1:m\n",
    "            mij = U[i,j]/U[j,j]\n",
    "            L[i,j] = mij\n",
    "            U[i,j] = 0.0\n",
    "            for k = j+1:n\n",
    "                U[i,k] -= mij*U[j,k]\n",
    "            end\n",
    "        end\n",
    "    end\n",
    "    return L, U, P\n",
    "end"
   ]
  },
  {
   "cell_type": "code",
   "execution_count": 8,
   "metadata": {
    "collapsed": false,
    "scrolled": true
   },
   "outputs": [
    {
     "data": {
      "text/plain": [
       "(\n",
       "3x5 Array{Float64,2}:\n",
       " 1.0        0.0        0.0  0.0  0.0\n",
       " 0.206779   1.0        0.0  0.0  0.0\n",
       " 0.997316  -0.0920671  1.0  0.0  0.0,\n",
       "\n",
       "3x5 Array{Float64,2}:\n",
       " 0.975841  0.955795   0.450892   0.47079    0.55861  \n",
       " 0.0       0.430349   0.861059   0.441267  -0.0780855\n",
       " 0.0       0.0       -0.307227  -0.209151   0.271569 ,\n",
       "\n",
       "[3,1,2])"
      ]
     },
     "execution_count": 8,
     "metadata": {},
     "output_type": "execute_result"
    }
   ],
   "source": [
    "# Testes\n",
    "A = rand(3,5)\n",
    "L, U, P = dec_lu_pivot(A)\n",
    "#Está errado"
   ]
  },
  {
   "cell_type": "code",
   "execution_count": 10,
   "metadata": {
    "collapsed": false
   },
   "outputs": [
    {
     "ename": "LoadError",
     "evalue": "LoadError: pivo ≈ 0.0\nwhile loading In[10], in expression starting on line 3",
     "output_type": "error",
     "traceback": [
      "LoadError: pivo ≈ 0.0\nwhile loading In[10], in expression starting on line 3",
      "",
      " in dec_lu_pivot at In[6]:19"
     ]
    }
   ],
   "source": [
    "A = rand(3,5)\n",
    "A[3,:] = A[1,:] + A[2,:]\n",
    "L, U, P = dec_lu_pivot(A)\n",
    "# Posto linha incompleto -> pivo nulo"
   ]
  },
  {
   "cell_type": "code",
   "execution_count": 11,
   "metadata": {
    "collapsed": false,
    "scrolled": true
   },
   "outputs": [
    {
     "data": {
      "text/plain": [
       "(\n",
       "5x3 Array{Float64,2}:\n",
       " 1.0       0.0        0.0     \n",
       " 0.924039  1.0        0.0     \n",
       " 0.735323  0.326429   1.0     \n",
       " 0.734903  0.920646  -0.591073\n",
       " 0.90758   0.473752  -0.965687,\n",
       "\n",
       "5x3 Array{Float64,2}:\n",
       " 0.929196  0.259956  0.571095\n",
       " 0.0       0.618533  0.115076\n",
       " 0.0       0.0       0.221869\n",
       " 0.0       0.0       0.0     \n",
       " 0.0       0.0       0.0     ,\n",
       "\n",
       "[3,1,4,2,5])"
      ]
     },
     "execution_count": 11,
     "metadata": {},
     "output_type": "execute_result"
    }
   ],
   "source": [
    "A = rand(5,3)\n",
    "L, U, P = dec_lu_pivot(A)"
   ]
  },
  {
   "cell_type": "code",
   "execution_count": 12,
   "metadata": {
    "collapsed": false
   },
   "outputs": [
    {
     "ename": "LoadError",
     "evalue": "LoadError: pivo ≈ 0.0\nwhile loading In[12], in expression starting on line 3",
     "output_type": "error",
     "traceback": [
      "LoadError: pivo ≈ 0.0\nwhile loading In[12], in expression starting on line 3",
      "",
      " in dec_lu_pivot at In[6]:19"
     ]
    }
   ],
   "source": [
    "A = rand(5,3)\n",
    "A[:,3] = A[:,1] + A[:,2]\n",
    "L, U, P = dec_lu_pivot(A)"
   ]
  },
  {
   "cell_type": "code",
   "execution_count": 13,
   "metadata": {
    "collapsed": false
   },
   "outputs": [
    {
     "data": {
      "text/plain": [
       "dec_lu_pivot (generic function with 1 method)"
      ]
     },
     "execution_count": 13,
     "metadata": {},
     "output_type": "execute_result"
    }
   ],
   "source": [
    "function dec_lu_pivot(A; tol=1e-12)\n",
    "    m,n = size(A)\n",
    "    U = copy(A)\n",
    "    if m <= n\n",
    "        L = zeros(m,m)\n",
    "    else\n",
    "        L = zeros(m,n)\n",
    "    end\n",
    "    P = collect(1:m)\n",
    "    d = 1 # Linha onde escada deve ser não-nulo.\n",
    "    # Se não tiver problemas, d=j, senão d<j.\n",
    "    for j = 1:n\n",
    "        i_pivo, pivo = d, abs(U[d,j])\n",
    "        for i = d+1:m\n",
    "            if abs(U[i,j]) > pivo\n",
    "                pivo = abs(U[i,j])\n",
    "                i_pivo = i\n",
    "            end\n",
    "        end\n",
    "        if pivo < tol\n",
    "            # Ninguém nessa coluna é não-nulo o suficiente.\n",
    "            # Vamos dizer que são todos zero, então.\n",
    "            for i = d:m\n",
    "                U[i,j] = 0.0\n",
    "            end\n",
    "            continue\n",
    "        end\n",
    "        if i_pivo != d\n",
    "            U[[i_pivo; d],:] = U[[d; i_pivo],:]\n",
    "            L[[i_pivo; d],:] = L[[d; i_pivo],:]\n",
    "            P[[i_pivo; d]] = P[[d; i_pivo]]\n",
    "        end\n",
    "        for i = d+1:m\n",
    "            mid = U[i,j]/U[d,j]\n",
    "            L[i,d] = mid\n",
    "            U[i,j] = 0.0\n",
    "            for k = j+1:n\n",
    "                U[i,k] -= mid*U[d,k]\n",
    "            end\n",
    "        end\n",
    "        d += 1\n",
    "        if d > m\n",
    "            break\n",
    "        end\n",
    "    end\n",
    "    for i = 1:min(m,n)\n",
    "        L[i,i] = 1.0\n",
    "    end\n",
    "    if m > n\n",
    "        U = U[1:n,:]\n",
    "    end\n",
    "    return L, U, P\n",
    "end"
   ]
  },
  {
   "cell_type": "code",
   "execution_count": 15,
   "metadata": {
    "collapsed": false
   },
   "outputs": [
    {
     "data": {
      "text/plain": [
       "(\n",
       "3x3 Array{Float64,2}:\n",
       " 1.0        0.0       0.0\n",
       " 0.955345   1.0       0.0\n",
       " 0.427074  -0.827266  1.0,\n",
       "\n",
       "3x5 Array{Float64,2}:\n",
       " 0.917032   0.747054   0.845446   0.813639   0.756309 \n",
       " 0.0       -0.607503  -0.401594  -0.594078  -0.0921091\n",
       " 0.0        0.0       -0.481742  -0.397093   0.185504 ,\n",
       "\n",
       "[1,3,2])"
      ]
     },
     "execution_count": 15,
     "metadata": {},
     "output_type": "execute_result"
    }
   ],
   "source": [
    "# Testes\n",
    "A = rand(3,5)\n",
    "L, U, P = dec_lu_pivot(A)"
   ]
  },
  {
   "cell_type": "code",
   "execution_count": 16,
   "metadata": {
    "collapsed": false
   },
   "outputs": [
    {
     "data": {
      "text/plain": [
       "3x5 Array{Float64,2}:\n",
       " 0.0  0.0  0.0   0.0          0.0\n",
       " 0.0  0.0  0.0   0.0          0.0\n",
       " 0.0  0.0  0.0  -5.55112e-17  0.0"
      ]
     },
     "execution_count": 16,
     "metadata": {},
     "output_type": "execute_result"
    }
   ],
   "source": [
    "L*U - A[P,:]"
   ]
  },
  {
   "cell_type": "code",
   "execution_count": 17,
   "metadata": {
    "collapsed": false
   },
   "outputs": [
    {
     "data": {
      "text/plain": [
       "(\n",
       "3x3 Array{Float64,2}:\n",
       " 1.0        0.0  0.0\n",
       " 0.307865   1.0  0.0\n",
       " 0.692135  -1.0  1.0,\n",
       "\n",
       "3x5 Array{Float64,2}:\n",
       " 1.24186  0.944316  1.31056    0.826033  1.82702 \n",
       " 0.0      0.289339  0.436767  -0.107755  0.300349\n",
       " 0.0      0.0       0.0        0.0       0.0     ,\n",
       "\n",
       "[3,2,1])"
      ]
     },
     "execution_count": 17,
     "metadata": {},
     "output_type": "execute_result"
    }
   ],
   "source": [
    "A = rand(3,5)\n",
    "A[3,:] = A[1,:] + A[2,:]\n",
    "L, U, P = dec_lu_pivot(A)"
   ]
  },
  {
   "cell_type": "code",
   "execution_count": 18,
   "metadata": {
    "collapsed": false
   },
   "outputs": [
    {
     "data": {
      "text/plain": [
       "3x5 Array{Float64,2}:\n",
       " 0.0  0.0   0.0          0.0  0.0\n",
       " 0.0  0.0   0.0          0.0  0.0\n",
       " 0.0  0.0  -5.55112e-17  0.0  0.0"
      ]
     },
     "execution_count": 18,
     "metadata": {},
     "output_type": "execute_result"
    }
   ],
   "source": [
    "L*U - A[P,:]"
   ]
  },
  {
   "cell_type": "code",
   "execution_count": 25,
   "metadata": {
    "collapsed": false
   },
   "outputs": [
    {
     "data": {
      "text/plain": [
       "5x7 Array{Float64,2}:\n",
       " 0.145305  0.298467  0.823932  0.553674  0.0115993  0.666618  0.173672\n",
       " 0.783909  0.706531  0.880038  0.67816   0.525609   0.899663  0.263982\n",
       " 0.145305  0.298467  0.823932  0.553674  0.0115993  0.666618  0.690851\n",
       " 1.71312   1.71153   2.58401   1.90999   1.6937     3.05059   1.02258 \n",
       " 2.20642   1.82113   1.81618   2.45816   1.74591    2.4751    1.16144 "
      ]
     },
     "execution_count": 25,
     "metadata": {},
     "output_type": "execute_result"
    }
   ],
   "source": [
    "A = rand(5,7)\n",
    "A[3,1:6] = 0.0\n",
    "A[4,1:4] = 0.0\n",
    "A[5,1:3] = 0.0\n",
    "A[3,:] += A[1,:]\n",
    "A[4,:] += A[1,:] + 2*A[2,:]\n",
    "A[5,:] += -A[1,:] + 3*A[2,:]\n",
    "A"
   ]
  },
  {
   "cell_type": "code",
   "execution_count": 26,
   "metadata": {
    "collapsed": false
   },
   "outputs": [
    {
     "data": {
      "text/plain": [
       "(\n",
       "5x5 Array{Float64,2}:\n",
       " 1.0        0.0   0.0   0.0  0.0\n",
       " 0.776426   1.0   0.0   0.0  0.0\n",
       " 0.0658554  0.6   1.0   0.0  0.0\n",
       " 0.355285   0.2  -0.5   1.0  0.0\n",
       " 0.0658554  0.6   1.0  -0.0  1.0,\n",
       "\n",
       "5x7 Array{Float64,2}:\n",
       " 2.20642  1.82113   1.81618  2.45816      1.74591    2.4751     1.16144  \n",
       " 0.0      0.297559  1.17388  0.00141456   0.338131   1.12886    0.120809 \n",
       " 0.0      0.0       0.0      0.390942    -0.306257  -0.173695   0.541878 \n",
       " 0.0      0.0       0.0      0.0         -0.31544   -0.292322   0.0981158\n",
       " 0.0      0.0       0.0      0.0          0.0        0.0       -0.517178 ,\n",
       "\n",
       "[5,4,3,2,1])"
      ]
     },
     "execution_count": 26,
     "metadata": {},
     "output_type": "execute_result"
    }
   ],
   "source": [
    "L, U, P = dec_lu_pivot(A)"
   ]
  },
  {
   "cell_type": "code",
   "execution_count": 27,
   "metadata": {
    "collapsed": false
   },
   "outputs": [
    {
     "data": {
      "text/plain": [
       "5x7 Array{Float64,2}:\n",
       " 0.0          0.0   0.0           0.0          0.0  0.0           0.0        \n",
       " 0.0          0.0   0.0           0.0          0.0  0.0           0.0        \n",
       " 0.0          0.0  -3.33067e-16   0.0          0.0  0.0           0.0        \n",
       " 1.11022e-16  0.0   1.11022e-16  -1.11022e-16  0.0  2.22045e-16  -5.55112e-17\n",
       " 0.0          0.0  -3.33067e-16   0.0          0.0  0.0           0.0        "
      ]
     },
     "execution_count": 27,
     "metadata": {},
     "output_type": "execute_result"
    }
   ],
   "source": [
    "L*U - A[P,:]"
   ]
  },
  {
   "cell_type": "code",
   "execution_count": 30,
   "metadata": {
    "collapsed": false
   },
   "outputs": [
    {
     "data": {
      "text/plain": [
       "5x7 Array{Float64,2}:\n",
       " 0.531134  0.466038  0.236221  0.687358  0.94164   0.329443  1.09771  \n",
       " 1.17776   1.80798   0.892776  2.44863   2.30706   1.24873   0.476631 \n",
       " 1.47791   0.522211  0.288331  1.34583   2.40114   1.30246   1.42921  \n",
       " 0.531134  0.466038  0.236221  0.687358  0.94164   0.329443  0.188952 \n",
       " 0.115487  0.875903  0.420333  0.716245  0.423776  0.589845  0.0987267"
      ]
     },
     "execution_count": 30,
     "metadata": {},
     "output_type": "execute_result"
    }
   ],
   "source": [
    "A = rand(5,7)\n",
    "A[1,1:6] = 0.0\n",
    "A[2,1:3] = 0.0\n",
    "A[2,5:end] = 0.0\n",
    "A[3,1:5] = 0.0\n",
    "A[1,:] += A[4,:]\n",
    "A[2,:] += A[5,:] + 2*A[4,:]\n",
    "A[3,:] += -A[5,:] + 3*A[4,:]\n",
    "A"
   ]
  },
  {
   "cell_type": "code",
   "execution_count": 32,
   "metadata": {
    "collapsed": false
   },
   "outputs": [
    {
     "data": {
      "text/plain": [
       "(\n",
       "5x5 Array{Float64,2}:\n",
       " 1.0        0.0  0.0       0.0  0.0\n",
       " 0.796904   1.0  0.0       0.0  0.0\n",
       " 0.0781422  0.6  1.0       0.0  0.0\n",
       " 0.359381   0.2  0.333333  1.0  0.0\n",
       " 0.359381   0.2  0.333333  1.0  1.0,\n",
       "\n",
       "5x7 Array{Float64,2}:\n",
       " 1.47791  0.522211  0.288331   1.34583   2.40114       1.30246    1.42921 \n",
       " 0.0      1.39183   0.663004   1.37613   0.393576      0.210795  -0.662309\n",
       " 0.0      0.0       0.0       -0.2146   -8.32667e-17   0.361591   0.384431\n",
       " 0.0      0.0       0.0        0.0       0.0          -0.301326  -0.320359\n",
       " 0.0      0.0       0.0        0.0       0.0           0.0        0.908761,\n",
       "\n",
       "[3,2,5,4,1])"
      ]
     },
     "execution_count": 32,
     "metadata": {},
     "output_type": "execute_result"
    }
   ],
   "source": [
    "L, U, P = dec_lu_pivot(A)"
   ]
  },
  {
   "cell_type": "code",
   "execution_count": 33,
   "metadata": {
    "collapsed": false
   },
   "outputs": [
    {
     "data": {
      "text/plain": [
       "5x7 Array{Float64,2}:\n",
       " 0.0   0.0          0.0  0.0  0.0  0.0          0.0\n",
       " 0.0   0.0          0.0  0.0  0.0  0.0          0.0\n",
       " 0.0  -1.11022e-16  0.0  0.0  0.0  0.0          0.0\n",
       " 0.0  -5.55112e-17  0.0  0.0  0.0  5.55112e-17  0.0\n",
       " 0.0  -5.55112e-17  0.0  0.0  0.0  5.55112e-17  0.0"
      ]
     },
     "execution_count": 33,
     "metadata": {},
     "output_type": "execute_result"
    }
   ],
   "source": [
    "L*U - A[P,:]"
   ]
  },
  {
   "cell_type": "code",
   "execution_count": 35,
   "metadata": {
    "collapsed": false
   },
   "outputs": [
    {
     "data": {
      "text/plain": [
       "(\n",
       "5x3 Array{Float64,2}:\n",
       " 1.0        0.0        0.0     \n",
       " 0.597085   1.0        0.0     \n",
       " 0.164092  -0.0396259  1.0     \n",
       " 0.024956   0.432991   0.343885\n",
       " 0.596066  -0.282519   0.413941,\n",
       "\n",
       "3x3 Array{Float64,2}:\n",
       " 0.36945  0.470272  0.273646\n",
       " 0.0      0.659986  0.38457 \n",
       " 0.0      0.0       0.938008,\n",
       "\n",
       "[1,5,4,3,2])"
      ]
     },
     "execution_count": 35,
     "metadata": {},
     "output_type": "execute_result"
    }
   ],
   "source": [
    "A = rand(5,3)\n",
    "L, U, P = dec_lu_pivot(A)"
   ]
  },
  {
   "cell_type": "code",
   "execution_count": 36,
   "metadata": {
    "collapsed": false
   },
   "outputs": [
    {
     "data": {
      "text/plain": [
       "5x3 Array{Float64,2}:\n",
       "  0.0           0.0          0.0        \n",
       "  0.0           0.0          0.0        \n",
       " -6.93889e-18   0.0          0.0        \n",
       "  0.0           0.0          5.55112e-17\n",
       "  2.77556e-17  -1.38778e-17  0.0        "
      ]
     },
     "execution_count": 36,
     "metadata": {},
     "output_type": "execute_result"
    }
   ],
   "source": [
    "L*U - A[P,:]"
   ]
  },
  {
   "cell_type": "code",
   "execution_count": 38,
   "metadata": {
    "collapsed": false
   },
   "outputs": [
    {
     "data": {
      "text/plain": [
       "5x3 Array{Float64,2}:\n",
       " 0.594645   0.366137  0.960781\n",
       " 0.505058   0.838961  1.34402 \n",
       " 0.0119654  0.970835  0.9828  \n",
       " 0.495741   0.478554  0.974295\n",
       " 0.48984    0.86826   1.3581  "
      ]
     },
     "execution_count": 38,
     "metadata": {},
     "output_type": "execute_result"
    }
   ],
   "source": [
    "A = rand(5,3)\n",
    "A[:,3] = A[:,1] + A[:,2]\n",
    "A"
   ]
  },
  {
   "cell_type": "code",
   "execution_count": 39,
   "metadata": {
    "collapsed": false
   },
   "outputs": [
    {
     "data": {
      "text/plain": [
       "(\n",
       "5x3 Array{Float64,2}:\n",
       " 1.0        0.0       0.0\n",
       " 0.0201219  1.0       0.0\n",
       " 0.849344   0.548004  1.0\n",
       " 0.833676   0.179887  0.0\n",
       " 0.823753   0.58814   0.0,\n",
       "\n",
       "3x3 Array{Float64,2}:\n",
       " 0.594645  0.366137  0.960781\n",
       " 0.0       0.963468  0.963468\n",
       " 0.0       0.0       0.0     ,\n",
       "\n",
       "[1,3,2,4,5])"
      ]
     },
     "execution_count": 39,
     "metadata": {},
     "output_type": "execute_result"
    }
   ],
   "source": [
    "L, U, P = dec_lu_pivot(A)"
   ]
  },
  {
   "cell_type": "code",
   "execution_count": 40,
   "metadata": {
    "collapsed": false
   },
   "outputs": [
    {
     "data": {
      "text/plain": [
       "5x3 Array{Float64,2}:\n",
       " 0.0  0.0  0.0\n",
       " 0.0  0.0  0.0\n",
       " 0.0  0.0  0.0\n",
       " 0.0  0.0  0.0\n",
       " 0.0  0.0  0.0"
      ]
     },
     "execution_count": 40,
     "metadata": {},
     "output_type": "execute_result"
    }
   ],
   "source": [
    "L*U - A[P,:]"
   ]
  },
  {
   "cell_type": "code",
   "execution_count": 41,
   "metadata": {
    "collapsed": false
   },
   "outputs": [
    {
     "data": {
      "text/plain": [
       "9x5 Array{Float64,2}:\n",
       " 0.0  0.0        -0.0        0.0        0.0     \n",
       " 0.0  0.243955   -1.26429    0.632146   0.87926 \n",
       " 0.0  0.04042    -0.865571   0.432785   0.914434\n",
       " 0.0  0.974076   -0.0314446  0.0157223  0.592016\n",
       " 0.0  1.06102    -0.0768298  0.0384149  1.10412 \n",
       " 0.0  0.0869388  -0.0453852  0.0226926  0.512102\n",
       " 0.0  1.33228    -1.7404     0.870199   0.33262 \n",
       " 0.0  0.750551   -1.7404     0.870199   0.33262 \n",
       " 0.0  0.898932   -0.40829    0.204145   0.19969 "
      ]
     },
     "execution_count": 41,
     "metadata": {},
     "output_type": "execute_result"
    }
   ],
   "source": [
    "A = rand(9,5)\n",
    "A[1,:] = 0\n",
    "A[:,1] = 0\n",
    "A[:,3] = -2*A[:,4]\n",
    "A[5,:] = A[4,:] + A[6,:]\n",
    "A[7,3:5] = 0\n",
    "A[7,:] += A[8,:]\n",
    "A"
   ]
  },
  {
   "cell_type": "code",
   "execution_count": 43,
   "metadata": {
    "collapsed": false
   },
   "outputs": [
    {
     "data": {
      "text/plain": [
       "(\n",
       "9x5 Array{Float64,2}:\n",
       " 1.0         0.0         0.0       0.0  0.0\n",
       " 0.796393    1.0         0.0       0.0  0.0\n",
       " 0.0303391  -0.620808    1.0       0.0  0.0\n",
       " 0.731137    0.947918   -0.313391  1.0  0.0\n",
       " 0.183112   -0.722271    0.999411  0.0  1.0\n",
       " 0.0652559   0.0520817   0.313391  0.0  0.0\n",
       " 0.0         0.0         0.0       0.0  0.0\n",
       " 0.56336    -0.580446    0.443655  0.0  0.0\n",
       " 0.674734    0.585097   -0.361855  0.0  0.0,\n",
       "\n",
       "5x5 Array{Float64,2}:\n",
       " 0.0  1.33228  -1.7404    0.870199  0.33262\n",
       " 0.0  0.0       1.30921  -0.654606  0.83922\n",
       " 0.0  0.0       0.0       0.0       1.42534\n",
       " 0.0  0.0       0.0       0.0       0.0    \n",
       " 0.0  0.0       0.0       0.0       0.0    ,\n",
       "\n",
       "[7,5,3,4,2,6,1,8,9])"
      ]
     },
     "execution_count": 43,
     "metadata": {},
     "output_type": "execute_result"
    }
   ],
   "source": [
    "L, U, P = dec_lu_pivot(A)"
   ]
  },
  {
   "cell_type": "code",
   "execution_count": 44,
   "metadata": {
    "collapsed": false
   },
   "outputs": [
    {
     "data": {
      "text/plain": [
       "9x5 Array{Float64,2}:\n",
       " 0.0  0.0          0.0           0.0           0.0        \n",
       " 0.0  0.0          0.0           0.0           0.0        \n",
       " 0.0  0.0          0.0           0.0          -2.22045e-16\n",
       " 0.0  1.11022e-16  2.77556e-17  -1.38778e-17   1.11022e-16\n",
       " 0.0  0.0          0.0           0.0           1.11022e-16\n",
       " 0.0  0.0          6.93889e-18  -3.46945e-18   0.0        \n",
       " 0.0  0.0          0.0           0.0           0.0        \n",
       " 0.0  0.0          0.0           0.0           0.0        \n",
       " 0.0  0.0          0.0           0.0           0.0        "
      ]
     },
     "execution_count": 44,
     "metadata": {},
     "output_type": "execute_result"
    }
   ],
   "source": [
    "L*U - A[P,:]"
   ]
  },
  {
   "cell_type": "markdown",
   "metadata": {},
   "source": [
    "É possível reduzir ainda mais."
   ]
  },
  {
   "cell_type": "code",
   "execution_count": 46,
   "metadata": {
    "collapsed": false
   },
   "outputs": [
    {
     "data": {
      "text/plain": [
       "8x3 Array{Float64,2}:\n",
       " 1.0        0.0       0.0     \n",
       " 0.959195   1.0       0.0     \n",
       " 0.323802   0.26421   1.0     \n",
       " 0.480774   0.95311   0.784777\n",
       " 0.0419428  0.31787   0.528203\n",
       " 0.73864    0.667382  0.530871\n",
       " 0.888458   0.202518  0.325625\n",
       " 0.718781   0.875378  0.856977"
      ]
     },
     "execution_count": 46,
     "metadata": {},
     "output_type": "execute_result"
    }
   ],
   "source": [
    "L = tril(rand(8,3),-1) + eye(8,3)"
   ]
  },
  {
   "cell_type": "code",
   "execution_count": 47,
   "metadata": {
    "collapsed": false
   },
   "outputs": [
    {
     "data": {
      "text/plain": [
       "3x8 Array{Float64,2}:\n",
       " 0.809961  0.0979328  0.963857   0.960599  …  0.299834  0.763872  0.234869 \n",
       " 0.0       0.835831   0.0578628  0.348888     0.266856  0.245129  0.0619789\n",
       " 0.0       0.0        0.862253   0.697509     0.549231  0.530045  0.935909 "
      ]
     },
     "execution_count": 47,
     "metadata": {},
     "output_type": "execute_result"
    }
   ],
   "source": [
    "U = triu(rand(3,8))"
   ]
  },
  {
   "cell_type": "code",
   "execution_count": 48,
   "metadata": {
    "collapsed": false
   },
   "outputs": [
    {
     "data": {
      "text/plain": [
       "8x8 Array{Float64,2}:\n",
       " 0.809961   0.0979328  0.963857  0.960599  …  0.299834  0.763872  0.234869\n",
       " 0.776911   0.929767   0.982389  1.27029      0.554455  0.977831  0.287264\n",
       " 0.262267   0.252546   1.18964   1.10073      0.716824  0.842154  1.02834 \n",
       " 0.389408   0.843722   1.19522   1.34175      0.829519  1.01685   0.906471\n",
       " 0.0339721  0.269793   0.514265  0.519617     0.387507  0.389929  0.523903\n",
       " 0.59827    0.630155   1.20831   1.31267   …  0.691135  1.00921   0.711695\n",
       " 0.719616   0.25628    1.14884   1.15123      0.499276  0.900907  0.525978\n",
       " 0.582185   0.80206    1.48239   1.59362      0.919794  1.21787   1.02513 "
      ]
     },
     "execution_count": 48,
     "metadata": {},
     "output_type": "execute_result"
    }
   ],
   "source": [
    "A = L*U"
   ]
  },
  {
   "cell_type": "code",
   "execution_count": 49,
   "metadata": {
    "collapsed": false
   },
   "outputs": [
    {
     "data": {
      "text/plain": [
       "(\n",
       "8x8 Array{Float64,2}:\n",
       " 1.0        0.0       0.0       0.0  0.0  0.0  0.0  0.0\n",
       " 0.959195   1.0       0.0       0.0  0.0  0.0  0.0  0.0\n",
       " 0.323802   0.26421   1.0       0.0  0.0  0.0  0.0  0.0\n",
       " 0.480774   0.95311   0.784777  1.0  0.0  0.0  0.0  0.0\n",
       " 0.0419428  0.31787   0.528203  0.0  1.0  0.0  0.0  0.0\n",
       " 0.73864    0.667382  0.530871  0.0  0.0  1.0  0.0  0.0\n",
       " 0.888458   0.202518  0.325625  0.0  0.0  0.0  1.0  0.0\n",
       " 0.718781   0.875378  0.856977  0.0  0.0  0.0  0.0  1.0,\n",
       "\n",
       "8x8 Array{Float64,2}:\n",
       " 0.809961  0.0979328  0.963857   0.960599  …  0.299834  0.763872  0.234869 \n",
       " 0.0       0.835831   0.0578628  0.348888     0.266856  0.245129  0.0619789\n",
       " 0.0       0.0        0.862253   0.697509     0.549231  0.530045  0.935909 \n",
       " 0.0       0.0        0.0        0.0          0.0       0.0       0.0      \n",
       " 0.0       0.0        0.0        0.0          0.0       0.0       0.0      \n",
       " 0.0       0.0        0.0        0.0       …  0.0       0.0       0.0      \n",
       " 0.0       0.0        0.0        0.0          0.0       0.0       0.0      \n",
       " 0.0       0.0        0.0        0.0          0.0       0.0       0.0      ,\n",
       "\n",
       "[1,2,3,4,5,6,7,8])"
      ]
     },
     "execution_count": 49,
     "metadata": {},
     "output_type": "execute_result"
    }
   ],
   "source": [
    "L, U, P = dec_lu_pivot(A)"
   ]
  },
  {
   "cell_type": "code",
   "execution_count": 50,
   "metadata": {
    "collapsed": false
   },
   "outputs": [
    {
     "data": {
      "text/plain": [
       "(\n",
       "3x3 Array{Float64,2}:\n",
       " 1.0       0.0      0.0\n",
       " 0.71543   1.0      0.0\n",
       " 0.588322  0.44017  1.0,\n",
       "\n",
       "3x5 Array{Float64,2}:\n",
       " 0.680453  0.255885   0.692408   0.0442224   0.214487 \n",
       " 0.0       0.471634  -0.0701619  0.327921   -0.0108661\n",
       " 0.0       0.0        0.394022   0.336101    0.0943811,\n",
       "\n",
       "[1,3,2])"
      ]
     },
     "execution_count": 50,
     "metadata": {},
     "output_type": "execute_result"
    }
   ],
   "source": [
    "A = rand(3,5)\n",
    "L, U, P = dec_lu_pivot(A)"
   ]
  },
  {
   "cell_type": "code",
   "execution_count": 51,
   "metadata": {
    "collapsed": false
   },
   "outputs": [
    {
     "data": {
      "text/plain": [
       "3x2 Array{Float64,2}:\n",
       " 0.0442224   0.214487 \n",
       " 0.327921   -0.0108661\n",
       " 0.336101    0.0943811"
      ]
     },
     "execution_count": 51,
     "metadata": {},
     "output_type": "execute_result"
    }
   ],
   "source": [
    "Util = U[:,1:3]\n",
    "B = U[:,4:end]"
   ]
  },
  {
   "cell_type": "code",
   "execution_count": 53,
   "metadata": {
    "collapsed": false
   },
   "outputs": [
    {
     "data": {
      "text/plain": [
       "3x2 Array{Float64,2}:\n",
       "  1.11218   -0.0667353\n",
       " -0.822184  -0.0125945\n",
       " -0.853     -0.239533 "
      ]
     },
     "execution_count": 53,
     "metadata": {},
     "output_type": "execute_result"
    }
   ],
   "source": [
    "# Resolve os sistemas\n",
    "V = -Util\\B"
   ]
  },
  {
   "cell_type": "code",
   "execution_count": 56,
   "metadata": {
    "collapsed": false
   },
   "outputs": [
    {
     "data": {
      "text/plain": [
       "(2,1)"
      ]
     },
     "execution_count": 56,
     "metadata": {},
     "output_type": "execute_result"
    }
   ],
   "source": [
    "a, b = 2,1"
   ]
  },
  {
   "cell_type": "code",
   "execution_count": 59,
   "metadata": {
    "collapsed": false,
    "scrolled": false
   },
   "outputs": [
    {
     "ename": "LoadError",
     "evalue": "LoadError: DimensionMismatch(\"second dimension of A, 2, does not match length of x, 4\")\nwhile loading In[59], in expression starting on line 1",
     "output_type": "error",
     "traceback": [
      "LoadError: DimensionMismatch(\"second dimension of A, 2, does not match length of x, 4\")\nwhile loading In[59], in expression starting on line 1",
      "",
      " in gemv! at linalg/matmul.jl:222",
      " in * at linalg/matmul.jl:83"
     ]
    }
   ],
   "source": [
    "b = V*[a;b]"
   ]
  },
  {
   "cell_type": "code",
   "execution_count": 58,
   "metadata": {
    "collapsed": false
   },
   "outputs": [
    {
     "data": {
      "text/plain": [
       "5-element Array{Float64,1}:\n",
       "  3.47094 \n",
       " -3.31634 \n",
       "  1.1452  \n",
       " -5.6101  \n",
       "  0.464179"
      ]
     },
     "execution_count": 58,
     "metadata": {},
     "output_type": "execute_result"
    }
   ],
   "source": [
    "A\\b"
   ]
  },
  {
   "cell_type": "code",
   "execution_count": null,
   "metadata": {
    "collapsed": true
   },
   "outputs": [],
   "source": []
  }
 ],
 "metadata": {
  "kernelspec": {
   "display_name": "Julia 0.4.6",
   "language": "julia",
   "name": "julia-0.4"
  },
  "language_info": {
   "file_extension": ".jl",
   "mimetype": "application/julia",
   "name": "julia",
   "version": "0.4.6"
  }
 },
 "nbformat": 4,
 "nbformat_minor": 0
}
