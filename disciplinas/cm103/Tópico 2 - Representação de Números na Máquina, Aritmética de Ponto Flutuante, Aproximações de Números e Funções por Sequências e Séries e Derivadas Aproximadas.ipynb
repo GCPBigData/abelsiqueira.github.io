{
 "cells": [
  {
   "cell_type": "markdown",
   "metadata": {},
   "source": [
    "# Aproximações de Números e Funções por Sequências e Séries"
   ]
  },
  {
   "cell_type": "markdown",
   "metadata": {},
   "source": [
    "Os objetivos desta lição são\n",
    "\n",
    "- Aprender sobre a representação números na máquina;\n",
    "- Aprender sobre Aritmética de Ponto Flutuante;\n",
    "- Identificar como lidar com sequências e séries em programação;\n",
    "- Entender que elementos anteriores da sequência são substituídos;\n",
    "- Tentar gastar o mínimo de elementos e variáveis (mantendo a clareza);\n",
    "- Tomar cuidado com overflow e underflow;\n",
    "- Relembrar/treinar a programação."
   ]
  },
  {
   "cell_type": "markdown",
   "metadata": {},
   "source": [
    "## Sequências\n",
    "\n",
    "Uma sequência em matemática é um conjunto de valores ordenados:\n",
    "$$ (a_1, a_2, a_3, \\dots, a_n, \\dots) $$"
   ]
  },
  {
   "cell_type": "markdown",
   "metadata": {},
   "source": [
    "O índice $1$ usado no primeiro elemento é arbitrário, e serve para normalizar essa ordem.\n",
    "Em alguns casos é mais interessante começar com o índice $0$."
   ]
  },
  {
   "cell_type": "markdown",
   "metadata": {},
   "source": [
    "Matematicamente, costumamos estar interessados na convergência dessa sequência. No entanto, podemos utilizar uma sequência por outros motivos. Computacionalmente, estamos interessados em **como obter os elementos de uma sequência, quando necessário.**"
   ]
  },
  {
   "cell_type": "markdown",
   "metadata": {},
   "source": [
    "É importante ressaltar aqui a importância da frase **quando necessário**, pois como veremos a seguir, não é do nosso interesse calcular todos esses valores ao mesmo tempo, e quase sempre também não seria possível."
   ]
  },
  {
   "cell_type": "markdown",
   "metadata": {},
   "source": [
    "### Exemplo 1\n",
    "\n",
    "Dado um objeto com aceleração constante de $10 m/s$ saindo do repouso, queremos calcular sua posição nos instantes\n",
    "$t = 0, 0.1, 0.2, 0.3, \\dots$.\n",
    "Note que temos uma sequência $t_n = (n-1)/10$, e queremos uma sequência $x_n$ das posições.\n",
    "\n",
    "Neste caso, porém, as leis de movimento nos dizem que\n",
    "$$ x(t) = x_0 + v_0 t + \\frac{1}{2}at^2, $$\n",
    "que em nosso caso se reduz a\n",
    "$$ x(t) = 5t^2. $$\n",
    "\n",
    "Em outras palavras, a sequência $x_n$ pode ser calculada diretamente dado $t_n$, e $t_n$ também tem uma fórmula geral dado $n$,\n",
    "$$ x_n = 5\\bigg(\\frac{n-1}{10}\\bigg)^2 = \\frac{(n-1)^2}{20}. $$\n",
    "Desse modo, não é necessário guardar nada em especial, pois $x_n$ pode ser calculado diretamente a partir de $n$."
   ]
  },
  {
   "cell_type": "markdown",
   "metadata": {},
   "source": [
    "### Exemplo 2\n",
    "\n",
    "Dado um número $x \\in \\mathbb{N}, x > 1$, queremos calcular a sequência de Collatz desse número.\n",
    "Em particular, queremos calcular qual o primeiro elemento que é $1$ (se houver).\n",
    "\n",
    "Aqui é importante ressaltar a conjectura de Collatz: Dado um número $a_1 \\in \\mathbb{N}$, e a fórmula recursiva\n",
    "$$ a_{n+1} = \\left\\{\\begin{array}{ll}\n",
    "    a_n/2, & \\mbox{se } a_n \\mbox{ é par}; \\\\\n",
    "    3a_n + 1, & \\mbox{se } a_n \\mbox{ é impar},\n",
    "\\end{array}\\right. $$\n",
    "sempre existe um elemento desta sequência tal que $a_n = 1$. A partir desse ponto a sequência perde a importância. Por exemplo, a sequência de Collatz de 3 é\n",
    "\n",
    "$$ 3 \\rightarrow 10 \\rightarrow 5 \\rightarrow 16 \\rightarrow 8 \\rightarrow 4 \\rightarrow 2 \\rightarrow 1 \\rightarrow 4 \\rightarrow 2 \\rightarrow 1 \\cdots $$"
   ]
  },
  {
   "cell_type": "markdown",
   "metadata": {},
   "source": [
    "Nessa sequência, é necessário saber quem é o ponto atual, e é impossível saber um elemento arbitrário da sequência em casos gerais. Dessa maneira é preciso calcular elemento a elemento."
   ]
  },
  {
   "cell_type": "markdown",
   "metadata": {},
   "source": [
    "Lembre-se que para verificar a paridade de um número, utilizamos `%`."
   ]
  },
  {
   "cell_type": "code",
   "execution_count": 1,
   "metadata": {},
   "outputs": [
    {
     "data": {
      "text/plain": [
       "1"
      ]
     },
     "execution_count": 1,
     "metadata": {},
     "output_type": "execute_result"
    }
   ],
   "source": [
    "15 % 2"
   ]
  },
  {
   "cell_type": "code",
   "execution_count": 2,
   "metadata": {},
   "outputs": [
    {
     "data": {
      "text/plain": [
       "0"
      ]
     },
     "execution_count": 2,
     "metadata": {},
     "output_type": "execute_result"
    }
   ],
   "source": [
    "14 % 2"
   ]
  },
  {
   "cell_type": "code",
   "execution_count": 3,
   "metadata": {},
   "outputs": [
    {
     "data": {
      "text/plain": [
       "false"
      ]
     },
     "execution_count": 3,
     "metadata": {},
     "output_type": "execute_result"
    }
   ],
   "source": [
    "15 % 2 == 0 # É par ?"
   ]
  },
  {
   "cell_type": "code",
   "execution_count": 4,
   "metadata": {},
   "outputs": [
    {
     "data": {
      "text/plain": [
       "true"
      ]
     },
     "execution_count": 4,
     "metadata": {},
     "output_type": "execute_result"
    }
   ],
   "source": [
    "14 % 2 == 0 # É par ?"
   ]
  },
  {
   "cell_type": "markdown",
   "metadata": {},
   "source": [
    "Lembre-se também que para dividir um número e mantê-lo inteiro, usamos `div`."
   ]
  },
  {
   "cell_type": "code",
   "execution_count": 5,
   "metadata": {},
   "outputs": [
    {
     "data": {
      "text/plain": [
       "7"
      ]
     },
     "execution_count": 5,
     "metadata": {},
     "output_type": "execute_result"
    }
   ],
   "source": [
    "div(15, 2)"
   ]
  },
  {
   "cell_type": "code",
   "execution_count": 6,
   "metadata": {},
   "outputs": [
    {
     "data": {
      "text/plain": [
       "7"
      ]
     },
     "execution_count": 6,
     "metadata": {},
     "output_type": "execute_result"
    }
   ],
   "source": [
    "div(14, 2)"
   ]
  },
  {
   "cell_type": "code",
   "execution_count": 7,
   "metadata": {},
   "outputs": [
    {
     "data": {
      "text/plain": [
       "7.0"
      ]
     },
     "execution_count": 7,
     "metadata": {},
     "output_type": "execute_result"
    }
   ],
   "source": [
    "14/2 # 7.0 e 7 são o mesmo valor, mas são diferentes em computação"
   ]
  },
  {
   "cell_type": "markdown",
   "metadata": {},
   "source": [
    "Um **erro** comum de alunos inexperientes nesse caso é **tentar numerar todos os elementos**."
   ]
  },
  {
   "cell_type": "code",
   "execution_count": 8,
   "metadata": {},
   "outputs": [
    {
     "data": {
      "text/plain": [
       "10"
      ]
     },
     "execution_count": 8,
     "metadata": {},
     "output_type": "execute_result"
    }
   ],
   "source": [
    "a1 = 3\n",
    "if a1 % 2 == 0\n",
    "    a2 = div(a1, 2)\n",
    "else\n",
    "    a2 = 3 * a1 + 1\n",
    "end"
   ]
  },
  {
   "cell_type": "code",
   "execution_count": 9,
   "metadata": {},
   "outputs": [
    {
     "data": {
      "text/plain": [
       "5"
      ]
     },
     "execution_count": 9,
     "metadata": {},
     "output_type": "execute_result"
    }
   ],
   "source": [
    "if a2 % 2 == 0\n",
    "    a3 = div(a2, 2)\n",
    "else\n",
    "    a3 = 3 * a2 + 1\n",
    "end"
   ]
  },
  {
   "cell_type": "markdown",
   "metadata": {},
   "source": [
    "Essa estratégia logo fica inviável. No entanto, note que precisamos apenas do valor atual da sequência, de maneira que podemos usar apenas uma mesma variável `a` que irá guardar sempre o valor mais atual."
   ]
  },
  {
   "cell_type": "code",
   "execution_count": 10,
   "metadata": {},
   "outputs": [
    {
     "data": {
      "text/plain": [
       "3"
      ]
     },
     "execution_count": 10,
     "metadata": {},
     "output_type": "execute_result"
    }
   ],
   "source": [
    "a = 3"
   ]
  },
  {
   "cell_type": "code",
   "execution_count": 11,
   "metadata": {},
   "outputs": [
    {
     "data": {
      "text/plain": [
       "10"
      ]
     },
     "execution_count": 11,
     "metadata": {},
     "output_type": "execute_result"
    }
   ],
   "source": [
    "# Bloco 1\n",
    "if a % 2 == 0\n",
    "    a = div(a, 2)\n",
    "else\n",
    "    a = 3 * a + 1\n",
    "end"
   ]
  },
  {
   "cell_type": "code",
   "execution_count": 12,
   "metadata": {},
   "outputs": [
    {
     "data": {
      "text/plain": [
       "10"
      ]
     },
     "execution_count": 12,
     "metadata": {},
     "output_type": "execute_result"
    }
   ],
   "source": [
    "a"
   ]
  },
  {
   "cell_type": "markdown",
   "metadata": {},
   "source": [
    "Rodando mais de uma vez o Bloco 1, fazemos uma nova iteração da sequência.\n",
    "Para deixar mais claro, vamos guardar também uma variável `n` que diz qual o índice da sequência."
   ]
  },
  {
   "cell_type": "code",
   "execution_count": 13,
   "metadata": {},
   "outputs": [
    {
     "data": {
      "text/plain": [
       "1"
      ]
     },
     "execution_count": 13,
     "metadata": {},
     "output_type": "execute_result"
    }
   ],
   "source": [
    "a = 3\n",
    "n = 1"
   ]
  },
  {
   "cell_type": "code",
   "execution_count": 14,
   "metadata": {},
   "outputs": [
    {
     "name": "stdout",
     "output_type": "stream",
     "text": [
      "a = 10, n = 2\n"
     ]
    }
   ],
   "source": [
    "# Bloco 2\n",
    "if a % 2 == 0\n",
    "    a = div(a, 2)\n",
    "else\n",
    "    a = 3 * a + 1\n",
    "end\n",
    "n = n + 1\n",
    "println(\"a = $a, n = $n\")"
   ]
  },
  {
   "cell_type": "markdown",
   "metadata": {},
   "source": [
    "Note que `n` também pode ser usado para responder a pergunta original: quando `a` for 1, teremos o `n` marcando o índice correspondente."
   ]
  },
  {
   "cell_type": "markdown",
   "metadata": {},
   "source": [
    "Isso nos leva a um conceito importante. Note que sequências contém infinitos elementos. No entanto, computacionalmente, não podemos fazer contas infinitas. Isso constitui um **loop infinito**. Códigos com loops infinitos são considerados **\"errados\"** (no sentido de não fazerem o que se espera), então devemos evitá-los.\n",
    "Portanto, o fato de percebermos que para resolver o problema, devemos fazer a conta do Bloco 2 até que `n` seja 1 é de extrema importância, pois isso evitará um loop infinito (dado que a conjectura de Collatz esteja correta)."
   ]
  },
  {
   "cell_type": "markdown",
   "metadata": {},
   "source": [
    "Com isso, podemos definir um termo formal para este conjunto de código com um objetivo específico:\n",
    "\n",
    "**Def. (Algoritmo):** Um algoritmo é uma coleção de instruções para realizar alguma tarefa específica. Segundo Knuth (The Art of Computer Programming, v.1), ele deve satisfazer as seguintes condições, parafraseadas aqui:\n",
    "- **Finitude:** O algoritmo deve acabar em tempo finito;\n",
    "- **Bem definido:** As intruções devem ser claras e sem ambiguidade;\n",
    "- **Entrada:** O algoritmo tem zero ou mais entradas, que são valores determinados antes do algoritmo começar. Essas entradas são especificados a partir de conjuntos de objetos;\n",
    "- **Saída:** O algoritmo tem uma ou mais saídas, que são quantidades relacionadas com as entradas;\n",
    "- **Eficácia/Computabilidade:** As operações feitas no algoritmo devem ser suficientemente básicas para que a princípio possam ser executadas por uma pessoa num espaço finito e tempo finito com papel e caneta."
   ]
  },
  {
   "cell_type": "markdown",
   "metadata": {},
   "source": [
    "Podemos fazer uma prévia do nosso algoritmo:"
   ]
  },
  {
   "cell_type": "code",
   "execution_count": 15,
   "metadata": {
    "collapsed": true
   },
   "outputs": [],
   "source": [
    "#=\n",
    "1. Entrada: x\n",
    "2. Inicialização: a ← x, n ← 1.\n",
    "3. Enquanto a > 1\n",
    "    1. Se a é par,\n",
    "        faça a ← a/2\n",
    "    2. Caso contrário,\n",
    "        faça a ← 3a + 1.\n",
    "    3. Incremente n.\n",
    "4. Saída: n.\n",
    "=#"
   ]
  },
  {
   "cell_type": "markdown",
   "metadata": {},
   "source": [
    "Nosso algoritmo para encontrar o primeiro elemento está quase feito. A entrada, saída, e todos os passos estão claros. Todos os passos são triviamente feitos com papel e caneta.\n",
    "No entanto, temos alguns pequenos problemas:\n",
    "\n",
    "- **E se a conjectura for falsa?**\n",
    "Se a conjectura é verdadeira, o algoritmo para quando encontra `1`, que pela conjectura, existe. Mas se não existe, pode ser que tenhamos um loop infinito. Dessa maneira, iremos colocar uma **condição de parada** para a falha do algoritmo. Não existe uma regra para a condição de parada. Deve-se tomar cuidado, no entanto, para não excluir a possibilidade do algoritmo funcionar em muitos casos. Uma condição de parada possível neste caso é que `n` seja muito grande. Se, por exemplo, fizermos 1 milhão de iterações e não encontrarmos `a_n = 1`, então talvez ele não exista. Note que essa condição exclui algumas soluções de aparecerem, por exemplo\n",
    "$$ a_1 = 2^{1.000.000}. $$\n",
    "É fácil ver que $a_n = 2^{1.000.001 - n}$, de modo que para `n = 1.000.001` teremos $a_n = 1$.\n",
    "\n",
    "Muitas vezes a condições de parada de falha é um limitante físico para deixar o algoritmo tratável. É muito fácil escolher um número `x` tal que nosso algoritmo leve horas para convergir. Não é do nosso interesse esperar tanto para um algoritmo recreativo. Poderíamos colocar uma condição de tempo então. Qual condição escolher é um assunto complicado, que depende de muitos outros fatores além da disciplina.\n",
    "Em especial, a teoria matemática arredor do problema deve ser considerada. Imagine que a conjectura de Collatz é falsa, e que `x` é um valor finito tal que a sequência gerada com `a_1 = x` nunca decresça à `1`. *Como é possível verificar que `x` é um contra-exemplo para a conjectura?*"
   ]
  },
  {
   "cell_type": "markdown",
   "metadata": {},
   "source": [
    "- **O maior inteiro.**\n",
    "O computador é uma máquina física, com limitações impostas para que seja possível fazer contas determinísticas.\n",
    "Dessa maneira, ele segue regras para definir números inteiros e \"reais\" (as aspas serão explicadas depois), e essas regras limitam o maior inteiro que pode ser representado por um tipo específico de dado.\n",
    "Mais importante, esse valor é independente da linguagem. A saber, o tipo de inteiro básico do Julia é o `Int64`, de 64 bits, e cujo maior valor é $2^{63}-1 \\approx 10^{18}$. Coisas estranhas acontecem se fizermos qualquer conta com esse valor, de modo que é imperativo não ultrapassá-lo. Veremos mais detalhes em breve, mais por enquanto, vamos colocar uma nova condição de parada no nosso código: se $a > 10^{17}$, também paramos."
   ]
  },
  {
   "cell_type": "code",
   "execution_count": 16,
   "metadata": {
    "collapsed": true
   },
   "outputs": [],
   "source": [
    "#=\n",
    "1. Entrada: x ∈ N\n",
    "2. Inicialização: a ← x, n ← 1, a_bound = 10^17, n_bound = 1_000_000\n",
    "3. Se a ≦ 0\n",
    "    faça n ← 0\n",
    "    termine o algoritmo\n",
    "4. Enquanto a > 1\n",
    "    1. Se a é par,\n",
    "        faça a ← a/2\n",
    "    2. Caso contrário,\n",
    "        faça a ← 3a + 1.\n",
    "    3. Incremente n.\n",
    "    4. Se a > a_bound\n",
    "        faça n ← -1 e termine o algoritmo\n",
    "    5. Se n > n_bound\n",
    "        faça n ← -2 e termine o algoritmo\n",
    "5. Saída: n\n",
    "    Se n > 0, então a_n = 1: Saída bem sucedida,\n",
    "    Se n = 0, então x ≦ 0: Saída de erro na entrada,\n",
    "    Se n = -1, então a ficou muito grande: Saída de valor muito grande,\n",
    "    Se n = -2, então n ficou muito grande: Saída de muitas iterações.\n",
    "=#"
   ]
  },
  {
   "cell_type": "code",
   "execution_count": 17,
   "metadata": {},
   "outputs": [
    {
     "data": {
      "text/plain": [
       "collatz (generic function with 1 method)"
      ]
     },
     "execution_count": 17,
     "metadata": {},
     "output_type": "execute_result"
    }
   ],
   "source": [
    "function collatz(a) # O mesmo que começar com x e atribuir x à a.\n",
    "    n = 1\n",
    "    a_bound = 10^17\n",
    "    n_bound = 1_000_000\n",
    "    if a <= 0\n",
    "        return 0\n",
    "    end\n",
    "    while a > 1\n",
    "        if a % 2 == 0\n",
    "            a = div(a, 2)\n",
    "        else\n",
    "            a = 3a + 1\n",
    "        end\n",
    "        n += 1\n",
    "        if a > a_bound\n",
    "            return -1\n",
    "        elseif n > n_bound\n",
    "            return -2\n",
    "        end\n",
    "    end\n",
    "    return n\n",
    "end"
   ]
  },
  {
   "cell_type": "code",
   "execution_count": 18,
   "metadata": {},
   "outputs": [
    {
     "data": {
      "text/plain": [
       "8"
      ]
     },
     "execution_count": 18,
     "metadata": {},
     "output_type": "execute_result"
    }
   ],
   "source": [
    "collatz(3)"
   ]
  },
  {
   "cell_type": "code",
   "execution_count": 19,
   "metadata": {},
   "outputs": [
    {
     "data": {
      "text/plain": [
       "31"
      ]
     },
     "execution_count": 19,
     "metadata": {},
     "output_type": "execute_result"
    }
   ],
   "source": [
    "collatz(2^30)"
   ]
  },
  {
   "cell_type": "code",
   "execution_count": 20,
   "metadata": {},
   "outputs": [
    {
     "data": {
      "text/plain": [
       "1"
      ]
     },
     "execution_count": 20,
     "metadata": {},
     "output_type": "execute_result"
    }
   ],
   "source": [
    "collatz(1)"
   ]
  },
  {
   "cell_type": "code",
   "execution_count": 21,
   "metadata": {},
   "outputs": [
    {
     "data": {
      "text/plain": [
       "0"
      ]
     },
     "execution_count": 21,
     "metadata": {},
     "output_type": "execute_result"
    }
   ],
   "source": [
    "collatz(-100)"
   ]
  },
  {
   "cell_type": "markdown",
   "metadata": {},
   "source": [
    "## Representação de Inteiros na máquina"
   ]
  },
  {
   "cell_type": "markdown",
   "metadata": {},
   "source": [
    "Como dito anteriormente, os computadores atuais guardam inteiros de maneiras bastante específicas.\n",
    "Essas maneiras envolvem os bits de um computador, que matematicamente equivalem a números binários.\n",
    "Um bit pode estar ligado ou desligado, ou seja, 1 ou 0. Um inteiro de $n$ bits terá $n$ posições ordenadas que podem estar ligadas ou desligadas. Dessa maneira, é possível representar até $2^n$ inteiros com $n$ bits.\n",
    "A pergunta é quais $2^n$ inteiros?\n",
    "\n",
    "Muitas vezes nos preocupamos apenas com os inteiros positivos, então uma escolha bastante simples seria os inteiros de $0$ à $2^n-1$. Esse tipo é dito \"sem sinal\" ou \"Unsigned\" em inglês. Em Julia, são os tipos `UIntN`, onde `N` é o número de bits (8, 16, 32, 64, 128).\n",
    "\n",
    "Para inteiros positivos e negativos, uma maneira é guardar os númeos de $-2^{n-1}$ à $2^{n-1}-1$. Em binário, podemos escolher os $n-1$ bits da direita para fazer uma contagem de $0$ à $2^{n-1}-1$, e o bit mais à esquerda para indicar de começamos a contar de $-2^{n-1}$ ou de $0$."
   ]
  },
  {
   "cell_type": "markdown",
   "metadata": {},
   "source": [
    "### Exemplo com n = 3\n",
    "\n",
    "| Bin | Dec |\n",
    "|-----|-----|\n",
    "| 000 |   0 |\n",
    "| 001 |   1 |\n",
    "| 010 |   2 |\n",
    "| 011 |   3 |\n",
    "| 100 |  -4 |\n",
    "| 101 |  -3 |\n",
    "| 110 |  -2 |\n",
    "| 111 |  -1 |"
   ]
  },
  {
   "cell_type": "markdown",
   "metadata": {},
   "source": [
    "Note que o problema de trabalhar com inteiros que caiam fora deste intervalo está nas operações básicas mesmo:\n",
    "\n",
    "    3 + 1  (em decimal)\n",
    "    \n",
    "             1     1\n",
    "     011    011    011    011\n",
    "     001    001    001    001\n",
    "    ----   ----   ----   ----\n",
    "       ?      0     00    100\n",
    "\n",
    "Mas `100` nessa representação significa `-4`, ou seja, a soma \"dá a volta\"."
   ]
  },
  {
   "cell_type": "markdown",
   "metadata": {},
   "source": [
    "### Exemplo com n = 64 (o padrão)\n",
    "\n",
    "O inteiro `Int64` vai de $-2^{63}$ à $2^{63}-1$."
   ]
  },
  {
   "cell_type": "code",
   "execution_count": 22,
   "metadata": {},
   "outputs": [
    {
     "data": {
      "text/plain": [
       "-32768"
      ]
     },
     "execution_count": 22,
     "metadata": {},
     "output_type": "execute_result"
    }
   ],
   "source": [
    "-2^15"
   ]
  },
  {
   "cell_type": "code",
   "execution_count": 23,
   "metadata": {},
   "outputs": [
    {
     "data": {
      "text/plain": [
       "9223372036854775807"
      ]
     },
     "execution_count": 23,
     "metadata": {},
     "output_type": "execute_result"
    }
   ],
   "source": [
    "x = 2^63-1"
   ]
  },
  {
   "cell_type": "code",
   "execution_count": null,
   "metadata": {},
   "outputs": [],
   "source": []
  },
  {
   "cell_type": "code",
   "execution_count": 24,
   "metadata": {},
   "outputs": [
    {
     "data": {
      "text/plain": [
       "-9223372036854775808"
      ]
     },
     "execution_count": 24,
     "metadata": {},
     "output_type": "execute_result"
    }
   ],
   "source": [
    "x + 1"
   ]
  },
  {
   "cell_type": "code",
   "execution_count": 25,
   "metadata": {},
   "outputs": [
    {
     "data": {
      "text/plain": [
       "-9223372036854775807"
      ]
     },
     "execution_count": 25,
     "metadata": {},
     "output_type": "execute_result"
    }
   ],
   "source": [
    "-x"
   ]
  },
  {
   "cell_type": "code",
   "execution_count": 26,
   "metadata": {},
   "outputs": [
    {
     "data": {
      "text/plain": [
       "9223372036854775807"
      ]
     },
     "execution_count": 26,
     "metadata": {},
     "output_type": "execute_result"
    }
   ],
   "source": [
    "-x - 2"
   ]
  },
  {
   "cell_type": "code",
   "execution_count": 27,
   "metadata": {},
   "outputs": [
    {
     "data": {
      "text/plain": [
       "-9223372036854775808"
      ]
     },
     "execution_count": 27,
     "metadata": {},
     "output_type": "execute_result"
    }
   ],
   "source": [
    "-(x+1) # = x + 1??"
   ]
  },
  {
   "cell_type": "code",
   "execution_count": null,
   "metadata": {
    "collapsed": true
   },
   "outputs": [],
   "source": []
  },
  {
   "cell_type": "code",
   "execution_count": 28,
   "metadata": {},
   "outputs": [
    {
     "data": {
      "text/plain": [
       "1"
      ]
     },
     "execution_count": 28,
     "metadata": {},
     "output_type": "execute_result"
    }
   ],
   "source": [
    "x * x"
   ]
  },
  {
   "cell_type": "code",
   "execution_count": 29,
   "metadata": {},
   "outputs": [
    {
     "data": {
      "text/plain": [
       "4611686018427387904"
      ]
     },
     "execution_count": 29,
     "metadata": {},
     "output_type": "execute_result"
    }
   ],
   "source": [
    "y = 2^62"
   ]
  },
  {
   "cell_type": "code",
   "execution_count": 30,
   "metadata": {},
   "outputs": [
    {
     "data": {
      "text/plain": [
       "0"
      ]
     },
     "execution_count": 30,
     "metadata": {},
     "output_type": "execute_result"
    }
   ],
   "source": [
    "y * y"
   ]
  },
  {
   "cell_type": "code",
   "execution_count": 31,
   "metadata": {},
   "outputs": [
    {
     "data": {
      "text/plain": [
       "-4611686018427387904"
      ]
     },
     "execution_count": 31,
     "metadata": {},
     "output_type": "execute_result"
    }
   ],
   "source": [
    "x * y"
   ]
  },
  {
   "cell_type": "code",
   "execution_count": null,
   "metadata": {
    "collapsed": true
   },
   "outputs": [],
   "source": []
  },
  {
   "cell_type": "markdown",
   "metadata": {},
   "source": [
    "Embora os valores máximos dos inteiros de 64 bits pareçam bastante grandes, eles podem ser alcançados com relativa facilidade."
   ]
  },
  {
   "cell_type": "code",
   "execution_count": 32,
   "metadata": {},
   "outputs": [
    {
     "data": {
      "text/plain": [
       "-8715136041002991616"
      ]
     },
     "execution_count": 32,
     "metadata": {},
     "output_type": "execute_result"
    }
   ],
   "source": [
    "factorial(20) * 4"
   ]
  },
  {
   "cell_type": "markdown",
   "metadata": {},
   "source": [
    "### BigInt"
   ]
  },
  {
   "cell_type": "markdown",
   "metadata": {},
   "source": [
    "Apesar do limite dos inteiros, muitas vezes queremos utilizar valores inteiros absurdamente grandes. Para isso existem **implementações** de números inteiros grandes - BigInts, para encurtar - que permitem, a priori, qualquer número inteiro. É importante notar a diferença entre um BigInt e um inteiro nativo. O BigInt **sempre** vem de uma implementação, enquanto que o inteiro nativo \"existe\" no processador. Todas as contas com BigInt serão mais lentas que em inteiros nativos, então não podemos simplesmente usar BigInt para tudo."
   ]
  },
  {
   "cell_type": "code",
   "execution_count": 33,
   "metadata": {},
   "outputs": [
    {
     "data": {
      "text/plain": [
       "61.794705707972525"
      ]
     },
     "execution_count": 33,
     "metadata": {},
     "output_type": "execute_result"
    }
   ],
   "source": [
    "log2(4 * 10^(18))"
   ]
  },
  {
   "cell_type": "code",
   "execution_count": 34,
   "metadata": {},
   "outputs": [
    {
     "data": {
      "text/plain": [
       "2037035976334486086268445688409378161051468393665936250636140449354381299763336706183397376"
      ]
     },
     "execution_count": 34,
     "metadata": {},
     "output_type": "execute_result"
    }
   ],
   "source": [
    "big\"2\"^300"
   ]
  },
  {
   "cell_type": "code",
   "execution_count": 35,
   "metadata": {},
   "outputs": [
    {
     "data": {
      "text/plain": [
       "265252859812191058636308480000000"
      ]
     },
     "execution_count": 35,
     "metadata": {},
     "output_type": "execute_result"
    }
   ],
   "source": [
    "factorial(big\"30\")"
   ]
  },
  {
   "cell_type": "markdown",
   "metadata": {},
   "source": [
    "## Fibonacci\n",
    "\n",
    "Vamos continuar nosso exemplo com mais uma sequência interessante, a de Fibonacci:\n",
    "\n",
    "$$ F_1 = F_2 = 1 \\qquad F_{n+1} = F_n + F_{n-1}. $$"
   ]
  },
  {
   "cell_type": "markdown",
   "metadata": {},
   "source": [
    "A sequência de Fibonacci envolve dois termos, e cresce infinitamente. Existem vários motivos para se trabalhar com a série de Fibonacci, mas vamos utilizá-la recreativamente.\n",
    "Vamos criar um simples algoritmo para calcular o n-ésimo termo da série de Fibonacci. Assuma, por enquanto, que todos os termos serão bem representados por inteiros de 64 bits."
   ]
  },
  {
   "cell_type": "code",
   "execution_count": 36,
   "metadata": {
    "collapsed": true
   },
   "outputs": [],
   "source": [
    "#=\n",
    "   Entrada: n inteiro\n",
    "1. Se n ≦ 0\n",
    "    retorne 0\n",
    "2. Se n = 1 ou n = 2\n",
    "    retorne 1\n",
    "3. Inicialização: F1 ← 1, F2 ← 1, k ← 2\n",
    "4. Enquanto k < n\n",
    "    1. Fnovo ← F1 + F2  # Isso calcula o valor novo\n",
    "    2. F1 ← F2 # O valor F2 passa a ser o mais antigo dos dois\n",
    "    3. F2 ← Fnovo # O valor Fnovo passa a ser o anterior\n",
    "    4. Incremente k\n",
    "5. Retorne F2.\n",
    "    Saída: 0 se a entrada estava incorreta,\n",
    "           F_n caso contrário.\n",
    "=#"
   ]
  },
  {
   "cell_type": "code",
   "execution_count": 37,
   "metadata": {},
   "outputs": [
    {
     "data": {
      "text/plain": [
       "fibon (generic function with 1 method)"
      ]
     },
     "execution_count": 37,
     "metadata": {},
     "output_type": "execute_result"
    }
   ],
   "source": [
    "function fibon(n)\n",
    "    # Exercício: Implemente este código\n",
    "end"
   ]
  },
  {
   "cell_type": "code",
   "execution_count": 38,
   "metadata": {},
   "outputs": [
    {
     "name": "stdout",
     "output_type": "stream",
     "text": [
      "F_1 = nothing\n",
      "F_2 = nothing\n",
      "F_3 = nothing\n",
      "F_4 = nothing\n",
      "F_5 = nothing\n",
      "F_6 = nothing\n",
      "F_7 = nothing\n",
      "F_8 = nothing\n",
      "F_9 = nothing\n",
      "F_10 = nothing\n",
      "F_11 = nothing\n",
      "F_12 = nothing\n",
      "F_13 = nothing\n",
      "F_14 = nothing\n",
      "F_15 = nothing\n",
      "F_16 = nothing\n",
      "F_17 = nothing\n",
      "F_18 = nothing\n",
      "F_19 = nothing\n",
      "F_20 = nothing\n"
     ]
    }
   ],
   "source": [
    "for n = 1:20\n",
    "    println(\"F_$n = $(fibon(n))\")\n",
    "end"
   ]
  },
  {
   "cell_type": "markdown",
   "metadata": {},
   "source": [
    "É bastante simple calcular um elemento da sequência de Fibonacci, e é interessante que podemos explorar outra maneira de fazer isso."
   ]
  },
  {
   "cell_type": "markdown",
   "metadata": {},
   "source": [
    "### Recursão"
   ]
  },
  {
   "cell_type": "markdown",
   "metadata": {},
   "source": [
    "Recursão é uma das partes mais importantes no desenvolvimento de códigos. Muitas estratégias computacionais e matemáticas envolvem o chamado \"dividir e conquistar\" ou \"reduzir para um caso conhecido\". Em particular, demonstrações por indução finita fazem uma coisa parecida, onde você supõe saber resolver para um caso e consegue resolver um caso de nível superior reduzindo-o ao caso conhecido."
   ]
  },
  {
   "cell_type": "markdown",
   "metadata": {},
   "source": [
    "Computacionalmente, podemos pensar em recursão como a divisão de um problema em outros, cada um destes menor que o primeiro. Para cada problema menor, repetimos o processo. Como não podemos ter um loop infinito, é necessário terminar essa redução de alguma maneira. Essa maneira envolve, simplesmente, saber resolver alguns casos de problema menor (que garantam a convergência)."
   ]
  },
  {
   "cell_type": "markdown",
   "metadata": {},
   "source": [
    "No caso de Fibonacci, o cálculo do n-ésimo termo é feito calculando os termos n-1 e n-2.\n",
    "Os casos n-1 e n-2 são, de fato, menores. Além disso, repetindo este processo chegaremos a dois casos: n = 1 ou n = 2. Desse modo, temos\n",
    "\n",
    "- casos pequenos que conseguimos resolver trivialmente;\n",
    "- uma maneira de reduzir um problema em outros menores;\n",
    "- garantia matemática que essa redução leva aos problemas menores que sabemos resolver.\n",
    "\n",
    "Abaixo temos um pseudo-código."
   ]
  },
  {
   "cell_type": "code",
   "execution_count": 39,
   "metadata": {
    "collapsed": true
   },
   "outputs": [],
   "source": [
    "#=\n",
    "Rotina FIBO(n)\n",
    "Entrada: n\n",
    "1. Se n = 1 ou n = 2\n",
    "    retorne 1\n",
    "2. Senão,\n",
    "    retorna FIBO(n-1) + FIBO(n-2)\n",
    "=#"
   ]
  },
  {
   "cell_type": "code",
   "execution_count": 40,
   "metadata": {},
   "outputs": [
    {
     "data": {
      "text/plain": [
       "FIBO (generic function with 1 method)"
      ]
     },
     "execution_count": 40,
     "metadata": {},
     "output_type": "execute_result"
    }
   ],
   "source": [
    "function FIBO(n)\n",
    "    if n <= 2\n",
    "        return min(1, max(n, 0)) # Pequeno truque\n",
    "    else\n",
    "        return FIBO(n-1) + FIBO(n-2)\n",
    "    end\n",
    "end"
   ]
  },
  {
   "cell_type": "code",
   "execution_count": 41,
   "metadata": {},
   "outputs": [
    {
     "name": "stdout",
     "output_type": "stream",
     "text": [
      "F_1 = 1\n",
      "F_2 = 1\n",
      "F_3 = 2\n",
      "F_4 = 3\n",
      "F_5 = 5\n",
      "F_6 = 8\n",
      "F_7 = 13\n",
      "F_8 = 21\n",
      "F_9 = 34\n",
      "F_10 = 55\n",
      "F_11 = 89\n",
      "F_12 = 144\n",
      "F_13 = 233\n",
      "F_14 = 377\n",
      "F_15 = 610\n",
      "F_16 = 987\n",
      "F_17 = 1597\n",
      "F_18 = 2584\n",
      "F_19 = 4181\n",
      "F_20 = 6765\n"
     ]
    }
   ],
   "source": [
    "for n = 1:20\n",
    "    println(\"F_$n = $(FIBO(n))\")\n",
    "end"
   ]
  },
  {
   "cell_type": "markdown",
   "metadata": {},
   "source": [
    "Muitas vezes, o código de recursão será mais curto.\n",
    "Em particular, em Julia (e C) temos o chamado **operador ternário**, que nos permite fazer a pergunta `if ... else ... end` em uma única linha.\n",
    "Desse modo, temos uma implementação curtíssima de Fibonacci:"
   ]
  },
  {
   "cell_type": "code",
   "execution_count": 42,
   "metadata": {},
   "outputs": [
    {
     "data": {
      "text/plain": [
       "F (generic function with 1 method)"
      ]
     },
     "execution_count": 42,
     "metadata": {},
     "output_type": "execute_result"
    }
   ],
   "source": [
    "F(n) = n <= 2 ? min(1, max(n, 0)) : F(n-1) + F(n-2)"
   ]
  },
  {
   "cell_type": "code",
   "execution_count": 43,
   "metadata": {},
   "outputs": [
    {
     "name": "stdout",
     "output_type": "stream",
     "text": [
      "F_1 = 1\n",
      "F_2 = 1\n",
      "F_3 = 2\n",
      "F_4 = 3\n",
      "F_5 = 5\n",
      "F_6 = 8\n",
      "F_7 = 13\n",
      "F_8 = 21\n",
      "F_9 = 34\n",
      "F_10 = 55\n",
      "F_11 = 89\n",
      "F_12 = 144\n",
      "F_13 = 233\n",
      "F_14 = 377\n",
      "F_15 = 610\n",
      "F_16 = 987\n",
      "F_17 = 1597\n",
      "F_18 = 2584\n",
      "F_19 = 4181\n",
      "F_20 = 6765\n"
     ]
    }
   ],
   "source": [
    "for n = 1:20\n",
    "    println(\"F_$n = $(F(n))\")\n",
    "end"
   ]
  },
  {
   "cell_type": "markdown",
   "metadata": {},
   "source": [
    "No entanto, é importante ter cuidado ao utilizar recursão. O custo computacional fica escondido nas chamadas de função, e às vezes podemos deixar um código muito mais complicado do que deveria.\n",
    "No caso de Fibonacci, por exemplo, ao calcular `F(n)`, pedimos o cálculo de `F(n-1)` e `F(n-2)`, mas o cálculo de `F(n-1)` irá pedir o cálculo de `F(n-2)` e `F(n-3)`, ou seja, `F(n-2)` será calculado duas vezes!"
   ]
  },
  {
   "cell_type": "code",
   "execution_count": 44,
   "metadata": {},
   "outputs": [
    {
     "data": {
      "text/plain": [
       "FIBO_comprint (generic function with 1 method)"
      ]
     },
     "execution_count": 44,
     "metadata": {},
     "output_type": "execute_result"
    }
   ],
   "source": [
    "function FIBO_comprint(n)\n",
    "    println(\"Chamada: F$n\")\n",
    "    if n <= 2\n",
    "        return min(1, max(n, 0)) # Pequeno truque\n",
    "    else\n",
    "        return FIBO_comprint(n-1) + FIBO_comprint(n-2)\n",
    "    end\n",
    "end"
   ]
  },
  {
   "cell_type": "code",
   "execution_count": 45,
   "metadata": {},
   "outputs": [
    {
     "name": "stdout",
     "output_type": "stream",
     "text": [
      "Chamada: F5\n",
      "Chamada: F4\n",
      "Chamada: F3\n",
      "Chamada: F2\n",
      "Chamada: F1\n",
      "Chamada: F2\n",
      "Chamada: F3\n",
      "Chamada: F2\n",
      "Chamada: F1\n"
     ]
    },
    {
     "data": {
      "text/plain": [
       "5"
      ]
     },
     "execution_count": 45,
     "metadata": {},
     "output_type": "execute_result"
    }
   ],
   "source": [
    "FIBO_comprint(5)"
   ]
  },
  {
   "cell_type": "markdown",
   "metadata": {},
   "source": [
    "Em outras palavras, Fibonacci com recursão acaba sendo muito mais caro que Fibonacci usando `for` ou `while`. Tome cuidado com essas armadilhas.\n",
    "\n",
    "**Leitura adicional:** Existe um conceito chamada \"Avaliação preguiçosa\", que consiste na avaliação dos valores somente quando são necessários. Em Julia, o pacote `Lazy.jl` implementa esse conceito. Se a avaliação de `F(n)` for feita de maneira preguiçosa, não haverá o custo adicional do cálculo de $F_n$ repetidos."
   ]
  },
  {
   "cell_type": "markdown",
   "metadata": {},
   "source": [
    "## Introdução à pontos flutuantes"
   ]
  },
  {
   "cell_type": "markdown",
   "metadata": {},
   "source": [
    "Vamos voltar nossa atenção ao problema inicial de Fibonacci: calcular o n-ésimo termo. Nossas últimas discussões foram todas no sentido de como calcular os elementos de Fibonacci termo a termo ou recursivamente. Porém, matematicamente, o n-ésimo termo de Fibonacci é bem definido!"
   ]
  },
  {
   "cell_type": "markdown",
   "metadata": {},
   "source": [
    "$$ F_n = \\frac{\\phi^n - \\psi^n}{\\sqrt{5}}, $$\n",
    "onde $$\\phi = \\frac{1 + \\sqrt{5}}{2}$$ e $$\\psi = \\frac{1 - \\sqrt{5}}{2} = 1 - \\phi. $$"
   ]
  },
  {
   "cell_type": "markdown",
   "metadata": {},
   "source": [
    "Isso quer dizer que podemos calcular Fibonacci com uma fórmula direta."
   ]
  },
  {
   "cell_type": "code",
   "execution_count": 46,
   "metadata": {},
   "outputs": [
    {
     "name": "stdout",
     "output_type": "stream",
     "text": [
      "F_1 = 1.0\n",
      "F_2 = 1.0\n",
      "F_3 = 2.0\n",
      "F_4 = 3.0000000000000004\n",
      "F_5 = 5.000000000000001\n",
      "F_6 = 8.000000000000002\n",
      "F_7 = 13.000000000000002\n",
      "F_8 = 21.000000000000004\n",
      "F_9 = 34.00000000000001\n",
      "F_10 = 55.000000000000014\n",
      "F_11 = 89.00000000000003\n",
      "F_12 = 144.00000000000006\n",
      "F_13 = 233.00000000000006\n",
      "F_14 = 377.00000000000017\n",
      "F_15 = 610.0000000000003\n",
      "F_16 = 987.0000000000005\n",
      "F_17 = 1597.000000000001\n",
      "F_18 = 2584.000000000002\n",
      "F_19 = 4181.000000000003\n",
      "F_20 = 6765.000000000005\n"
     ]
    }
   ],
   "source": [
    "phi = (1 + sqrt(5))/2\n",
    "psi = 1 - phi\n",
    "for n = 1:20\n",
    "    Fn = (phi^n - psi^n)/sqrt(5)\n",
    "    println(\"F_$n = $Fn\")\n",
    "end"
   ]
  },
  {
   "cell_type": "markdown",
   "metadata": {},
   "source": [
    "Perceba que o problema aqui agora é outro. Os valores não estão mais \"corretos\". Na verdade, quase todos contém um pequeno **erro**."
   ]
  },
  {
   "cell_type": "markdown",
   "metadata": {},
   "source": [
    "Quão pequeno?"
   ]
  },
  {
   "cell_type": "code",
   "execution_count": 47,
   "metadata": {},
   "outputs": [
    {
     "name": "stdout",
     "output_type": "stream",
     "text": [
      "F_3 = 2, Diferença F_3 = 0.0\n",
      "F_4 = 3, Diferença F_4 = 4.440892098500626e-16\n",
      "F_5 = 5, Diferença F_5 = 8.881784197001252e-16\n",
      "F_6 = 8, Diferença F_6 = 1.7763568394002505e-15\n",
      "F_7 = 13, Diferença F_7 = 1.7763568394002505e-15\n",
      "F_8 = 21, Diferença F_8 = 3.552713678800501e-15\n",
      "F_9 = 34, Diferença F_9 = 7.105427357601002e-15\n",
      "F_10 = 55, Diferença F_10 = 1.4210854715202004e-14\n",
      "F_11 = 89, Diferença F_11 = 2.842170943040401e-14\n",
      "F_12 = 144, Diferença F_12 = 5.684341886080802e-14\n",
      "F_13 = 233, Diferença F_13 = 5.684341886080802e-14\n",
      "F_14 = 377, Diferença F_14 = 1.7053025658242404e-13\n",
      "F_15 = 610, Diferença F_15 = 3.410605131648481e-13\n",
      "F_16 = 987, Diferença F_16 = 4.547473508864641e-13\n",
      "F_17 = 1597, Diferença F_17 = 9.094947017729282e-13\n",
      "F_18 = 2584, Diferença F_18 = 1.8189894035458565e-12\n",
      "F_19 = 4181, Diferença F_19 = 2.7284841053187847e-12\n",
      "F_20 = 6765, Diferença F_20 = 4.547473508864641e-12\n",
      "F_21 = 10946, Diferença F_21 = 7.275957614183426e-12\n",
      "F_22 = 17711, Diferença F_22 = 1.0913936421275139e-11\n",
      "F_23 = 28657, Diferença F_23 = 2.1827872842550278e-11\n",
      "F_24 = 46368, Diferença F_24 = 3.637978807091713e-11\n",
      "F_25 = 75025, Diferença F_25 = 5.820766091346741e-11\n",
      "F_26 = 121393, Diferença F_26 = 8.731149137020111e-11\n",
      "F_27 = 196418, Diferença F_27 = 1.7462298274040222e-10\n",
      "F_28 = 317811, Diferença F_28 = 2.9103830456733704e-10\n",
      "F_29 = 514229, Diferença F_29 = 4.656612873077393e-10\n",
      "F_30 = 832040, Diferença F_30 = 8.149072527885437e-10\n",
      "F_31 = 1346269, Diferença F_31 = 1.1641532182693481e-9\n",
      "F_32 = 2178309, Diferença F_32 = 2.3283064365386963e-9\n",
      "F_33 = 3524578, Diferença F_33 = 3.725290298461914e-9\n",
      "F_34 = 5702887, Diferença F_34 = 6.51925802230835e-9\n",
      "F_35 = 9227465, Diferença F_35 = 1.1175870895385742e-8\n",
      "F_36 = 14930352, Diferença F_36 = 1.862645149230957e-8\n",
      "F_37 = 24157817, Diferença F_37 = 2.60770320892334e-8\n",
      "F_38 = 39088169, Diferença F_38 = 4.470348358154297e-8\n",
      "F_39 = 63245986, Diferença F_39 = 6.705522537231445e-8\n",
      "F_40 = 102334155, Diferença F_40 = 1.341104507446289e-7\n",
      "F_41 = 165580141, Diferença F_41 = 2.384185791015625e-7\n",
      "F_42 = 267914296, Diferença F_42 = 3.5762786865234375e-7\n",
      "F_43 = 433494437, Diferença F_43 = 5.960464477539062e-7\n",
      "F_44 = 701408733, Diferença F_44 = 1.0728836059570312e-6\n",
      "F_45 = 1134903170, Diferença F_45 = 1.6689300537109375e-6\n",
      "F_46 = 1836311903, Diferença F_46 = 2.6226043701171875e-6\n",
      "F_47 = 2971215073, Diferença F_47 = 4.76837158203125e-6\n",
      "F_48 = 4807526976, Diferença F_48 = 7.62939453125e-6\n",
      "F_49 = 7778742049, Diferença F_49 = 1.33514404296875e-5\n",
      "F_50 = 12586269025, Diferença F_50 = 1.9073486328125e-5\n",
      "F_51 = 20365011074, Diferença F_51 = 3.4332275390625e-5\n",
      "F_52 = 32951280099, Diferença F_52 = 5.340576171875e-5\n",
      "F_53 = 53316291173, Diferença F_53 = 9.1552734375e-5\n",
      "F_54 = 86267571272, Diferença F_54 = 0.000152587890625\n",
      "F_55 = 139583862445, Diferença F_55 = 0.000244140625\n",
      "F_56 = 225851433717, Diferença F_56 = 0.00042724609375\n",
      "F_57 = 365435296162, Diferença F_57 = 0.00067138671875\n",
      "F_58 = 591286729879, Diferença F_58 = 0.001220703125\n",
      "F_59 = 956722026041, Diferença F_59 = 0.0018310546875\n",
      "F_60 = 1548008755920, Diferença F_60 = 0.0029296875\n",
      "F_61 = 2504730781961, Diferença F_61 = 0.0048828125\n",
      "F_62 = 4052739537881, Diferença F_62 = 0.00830078125\n",
      "F_63 = 6557470319842, Diferença F_63 = 0.013671875\n",
      "F_64 = 10610209857723, Diferença F_64 = 0.021484375\n",
      "F_65 = 17167680177565, Diferença F_65 = 0.037109375\n",
      "F_66 = 27777890035288, Diferença F_66 = 0.0625\n",
      "F_67 = 44945570212853, Diferença F_67 = 0.09375\n",
      "F_68 = 72723460248141, Diferença F_68 = 0.171875\n",
      "F_69 = 117669030460994, Diferença F_69 = 0.28125\n",
      "F_70 = 190392490709135, Diferença F_70 = 0.4375\n",
      "F_71 = 308061521170129, Diferença F_71 = 0.6875\n",
      "F_72 = 498454011879264, Diferença F_72 = 1.1875\n",
      "F_73 = 806515533049393, Diferença F_73 = 2.0\n",
      "F_74 = 1304969544928657, Diferença F_74 = 3.0\n",
      "F_75 = 2111485077978050, Diferença F_75 = 5.25\n",
      "F_76 = 3416454622906707, Diferença F_76 = 8.5\n",
      "F_77 = 5527939700884757, Diferença F_77 = 14.0\n",
      "F_78 = 8944394323791464, Diferença F_78 = 24.0\n",
      "F_79 = 14472334024676221, Diferença F_79 = 40.0\n",
      "F_80 = 23416728348467685, Diferença F_80 = 60.0\n",
      "F_81 = 37889062373143906, Diferença F_81 = 104.0\n",
      "F_82 = 61305790721611591, Diferença F_82 = 160.0\n",
      "F_83 = 99194853094755497, Diferença F_83 = 272.0\n",
      "F_84 = 160500643816367088, Diferença F_84 = 448.0\n",
      "F_85 = 259695496911122585, Diferença F_85 = 736.0\n",
      "F_86 = 420196140727489673, Diferença F_86 = 1216.0\n",
      "F_87 = 679891637638612258, Diferença F_87 = 2048.0\n",
      "F_88 = 1100087778366101931, Diferença F_88 = 3200.0\n",
      "F_89 = 1779979416004714189, Diferença F_89 = 5120.0\n",
      "F_90 = 2880067194370816120, Diferença F_90 = 8704.0\n",
      "F_91 = 4660046610375530309, Diferença F_91 = 14336.0\n",
      "F_92 = 7540113804746346429, Diferença F_92 = 22528.0\n",
      "F_93 = -6246583658587674878, Diferença F_93 = 1.844674407370959e19\n"
     ]
    }
   ],
   "source": [
    "phi = (1 + sqrt(5))/2\n",
    "psi = 1 - phi\n",
    "F1 = F2 = 1\n",
    "Fnovo = 1\n",
    "for n = 3:93\n",
    "    Fn = (phi^n - psi^n)/sqrt(5)\n",
    "    Fnovo = F1 + F2\n",
    "    F2 = F1\n",
    "    F1 = Fnovo\n",
    "    println(\"F_$n = $Fnovo, Diferença F_$n = $(Fn - Fnovo)\")\n",
    "end"
   ]
  },
  {
   "cell_type": "markdown",
   "metadata": {},
   "source": [
    "Impressionantemente, esse erro não é tão pequeno assim. Ele cresce com o tamanho de `n`, de modo que essa aproximação é inviável para valores grandes de `n`."
   ]
  },
  {
   "cell_type": "markdown",
   "metadata": {},
   "source": [
    "O problema aqui, novamente, é que o computador armazena um valor \"real\" utilizando uma quantidade finita de bits.\n",
    "O padrão IEEE 754 é o mais utilizado atualmente, e dita vários detalhes, do que é chamado de **ponto flutuante**.\n",
    "\n",
    "Um número em ponto flutuante é da forma\n",
    "\n",
    "$$ \\mbox{mantissa} \\times \\mbox{base}^\\mbox{expoente}, $$\n",
    "onde a mantissa é um número real com módulo menor que 10, cujo dígito das unidades é não-nulo."
   ]
  },
  {
   "cell_type": "markdown",
   "metadata": {},
   "source": [
    "### Exemplos\n",
    "\n",
    "$$ 234 = 2.34 \\times 10^2 $$\n",
    "\n",
    "$$ -12.5 = -1.25 \\times 10^1 $$\n",
    "\n",
    "$$ 0.001 = 1 \\times 10^{-3} $$\n",
    "\n",
    "$$ (101)_2 = (1.01)_2 \\times 2^2. $$"
   ]
  },
  {
   "cell_type": "markdown",
   "metadata": {},
   "source": [
    "Note que teremos limitações para a mantissa e expoente. Em particular, na base 10, pensaremos que a mantissa tem uma limitação no número de dígitos depois da vírgula, e o expoente estará limitada entre valores $L$ e $U$ como $L \\leq E \\leq U$.\n",
    "Note que isso implica que existem valores máximos e mínimos."
   ]
  },
  {
   "cell_type": "markdown",
   "metadata": {},
   "source": [
    "Por exemplo, com 3 dígitos depois da vírgula e um expoente limitado por $-5 \\leq E \\leq 4$, o máximo será\n",
    "$$ X_{\\max} = 9.999 \\times 10^4 = 9.999, $$\n",
    "o menor número positivo será\n",
    "$$ X_{\\min} = 1.000 \\times 10^{-5} = 0.00001. $$"
   ]
  },
  {
   "cell_type": "markdown",
   "metadata": {},
   "source": [
    "A base tradicionalmente é 2 nos computadores, e os bits atribuídos a um número desses é separado em uma parte para a mantissa e outra para o expoente. Em particular, com 64 bits, usamos 53 dígitos para a mantissa e 11 para o expoente.\n",
    "Um dos bits da mantissa guarda o sinal do elemento."
   ]
  },
  {
   "cell_type": "markdown",
   "metadata": {},
   "source": [
    "Além do armazenamento, também é importante definir a **aritmética de ponto flutuante**."
   ]
  },
  {
   "cell_type": "markdown",
   "metadata": {},
   "source": [
    "Dado dois números armazenados na mesma base, a operação de soma ou subtração entre os dois ocorre da seguinte forma:"
   ]
  },
  {
   "cell_type": "code",
   "execution_count": 48,
   "metadata": {
    "collapsed": true
   },
   "outputs": [],
   "source": [
    "#=\n",
    "    Entrada: dois numeros x₁ = M₁×βᴱ¹ e x₂ = M₂×βᴱ².\n",
    "1. Calcule o maior expoente E = max(E₁, E₂)\n",
    "2. Escreva os dois números usando este expoente\n",
    "    x₁ = (M₁ × βᴱ¹⁻ᴱ) × βᴱ\n",
    "    x₂ = (M₂ × βᴱ²⁻ᴱ) × βᴱ\n",
    "3. Some os dois\n",
    "    x₃ = x₁ + x₂ = (M₁ × βᴱ¹⁻ᴱ + M₂ × βᴱ²⁻ᴱ) × βᴱ\n",
    "4. Calcule a mantissa M₃ e expoente E₃ do número novo\n",
    "    x₃ = M₃×βᴱ³\n",
    "=#"
   ]
  },
  {
   "cell_type": "markdown",
   "metadata": {},
   "source": [
    "Observe, no entanto, que como a mantissa e o expoente são guardados usando uma quantidade finita de bits, então podemos acabar perdendo informação."
   ]
  },
  {
   "cell_type": "markdown",
   "metadata": {},
   "source": [
    "Vamos fazer uma simulação dessa operação uma mantissa de 3 dígitos além da vírgula, e um expoente com limitantes $-5 \\leq E \\leq 4$, na base 10."
   ]
  },
  {
   "cell_type": "code",
   "execution_count": 49,
   "metadata": {
    "collapsed": true
   },
   "outputs": [],
   "source": [
    "#=\n",
    "    34.12  +  8.256\n",
    "\n",
    "    3.412 × 10¹ + 8.256 × 10⁰\n",
    "    3.412 × 10¹ + 0.8256 × 10¹\n",
    "    (3.412 + 0.8256) × 10¹\n",
    "    4.2376 × 10¹\n",
    "    4.238 × 10¹ # Armazenado\n",
    "    42.38\n",
    "=#"
   ]
  },
  {
   "cell_type": "markdown",
   "metadata": {},
   "source": [
    "Essa perda de dígitos é chamado de **erro de arredondamento**."
   ]
  },
  {
   "cell_type": "markdown",
   "metadata": {},
   "source": [
    "Em alguns casos, esse erro pode fazer com que um dos números somados seja tratado como zero."
   ]
  },
  {
   "cell_type": "code",
   "execution_count": 50,
   "metadata": {
    "collapsed": true
   },
   "outputs": [],
   "source": [
    "#=\n",
    "    2351 + 0.01234\n",
    "\n",
    "    2.351 × 10³ + 1.234 × 10⁻²\n",
    "    2.351 × 10³ + 0.00001234 × 10³\n",
    "    (2.351 + 0.00001234) × 10³\n",
    "    2.35101234 × 10³\n",
    "    2.351 × 10³ # Armazenado\n",
    "    2351\n",
    "=#"
   ]
  },
  {
   "cell_type": "markdown",
   "metadata": {},
   "source": [
    "No armazenamento IEEE754, é um pouco mais complicado chegar nos valores máximos e mínimos, mas eles ainda existem.\n",
    "Em particular, podemos usar o código abaixo para calcular qual o menor número positivo que é tratado como 0 quando somado à 1."
   ]
  },
  {
   "cell_type": "code",
   "execution_count": 51,
   "metadata": {},
   "outputs": [
    {
     "data": {
      "text/plain": [
       "1.1102230246251565e-16"
      ]
     },
     "execution_count": 51,
     "metadata": {},
     "output_type": "execute_result"
    }
   ],
   "source": [
    "ϵ = 1.0\n",
    "while 1.0 + ϵ > 1.0\n",
    "    ϵ = ϵ/2\n",
    "end\n",
    "ϵ"
   ]
  },
  {
   "cell_type": "markdown",
   "metadata": {},
   "source": [
    "Esse número é chamado de **precisão da máquina**, e às vezes denotado por $\\epsilon_{\\mbox{machine}}$.\n",
    "Para todo número real $x$, existe um número $x'$ em ponto flutuante tal que\n",
    "$$ |x - x'| \\leq \\epsilon_{\\mbox{machine}}|x|. $$"
   ]
  },
  {
   "cell_type": "markdown",
   "metadata": {},
   "source": [
    "A multiplicação é mais simples. Os expoentes são somados, as mantissas multiplicadas, e os valores são arredondados e ajustados de modo a ficar na forma de ponto flutuante. Análogo para divisão."
   ]
  },
  {
   "cell_type": "markdown",
   "metadata": {},
   "source": [
    "Nos pontos flutuantes de 64 bits (`Float64` no Julia), o maior valor representável nessa base é por volta de $10^{308}$ e o menor positivo é $5\\times10^{-324}$. Diferente do que acontece com inteiros, quando fazemos alguma coisa que ultrapassa o maior valor, nós temos o chamado **overflow**. Denotaremos o número como $\\infty$ (infinito), ou `Inf` em Julia. Se algum cálculo resultar em um valor positivo que o menor valor positivo, obtemos um chamado **underflow**, e o valor é considerado 0."
   ]
  },
  {
   "cell_type": "markdown",
   "metadata": {},
   "source": [
    "Alguns cálculos resultam em `Inf` e 0 também, pelo padrão da IEEE754: $1/0 = \\infty$, $1/\\infty = 0$, $-1/0 = -\\infty$, etc."
   ]
  },
  {
   "cell_type": "markdown",
   "metadata": {},
   "source": [
    "Outro ponto importante é que algumas operações não estão bem definidas, mas elas tem uma representação.\n",
    "Por exemplo, as operações $\\infty - \\infty$, $0/0$, $\\infty/\\infty$ e $0 * \\infty$ são todas indeterminadas, e resultam no chamado **Not a Number** (Não é um número), denotado por `NaN`."
   ]
  },
  {
   "cell_type": "code",
   "execution_count": 52,
   "metadata": {},
   "outputs": [
    {
     "data": {
      "text/plain": [
       "NaN"
      ]
     },
     "execution_count": 52,
     "metadata": {},
     "output_type": "execute_result"
    }
   ],
   "source": [
    "Inf - Inf"
   ]
  },
  {
   "cell_type": "markdown",
   "metadata": {},
   "source": [
    "Denotamos por $\\mbox{fl}(x)$ o número em ponto flutuante mais próximo do real $x$. Temos que para cada $x \\in \\mathbb{R}$, existe $\\epsilon$ tal que $|\\epsilon| \\leq \\epsilon_{\\mbox{machine}}$ e $\\mbox{fl}(x) = x(1+\\epsilon)$."
   ]
  },
  {
   "cell_type": "markdown",
   "metadata": {},
   "source": [
    "Podemos agora falar sobre as aspas na palavra \"real\". Como vimos até aqui, os números de ponto flutuante expressam uma quantidade finita de valores. E mais, todos esses valores tem uma forma específica e racional. Então, no computador, utilizamos normalmente um subconjunto dos números racionais. Isso quer dizer que qualquer número irracional representado dessa forma será aproximado. Além disso, alguns números racionais também serão arredondados. O caso mais interessante, na minha opinião, é da seguinte soma:"
   ]
  },
  {
   "cell_type": "code",
   "execution_count": 53,
   "metadata": {},
   "outputs": [
    {
     "data": {
      "text/plain": [
       "5.551115123125783e-17"
      ]
     },
     "execution_count": 53,
     "metadata": {},
     "output_type": "execute_result"
    }
   ],
   "source": [
    "0.1 + 0.2 - 0.3"
   ]
  },
  {
   "cell_type": "markdown",
   "metadata": {},
   "source": [
    "0.1 em binário não é uma dízima finita, então é aproximado. O mesmo vale para 0.2 e 0.3. Omitindo os detalhes, não obtemos 0."
   ]
  },
  {
   "cell_type": "markdown",
   "metadata": {},
   "source": [
    "Ainda mais interessante, a soma não é associativa."
   ]
  },
  {
   "cell_type": "code",
   "execution_count": 54,
   "metadata": {},
   "outputs": [
    {
     "data": {
      "text/plain": [
       "false"
      ]
     },
     "execution_count": 54,
     "metadata": {},
     "output_type": "execute_result"
    }
   ],
   "source": [
    "(1.0 + 1e-16) + 1e-16 == 1.0 + (1e-16 + 1e-16)"
   ]
  },
  {
   "cell_type": "markdown",
   "metadata": {},
   "source": [
    "Por isso é bastante importante ter noção dos erros que estão acontecendo, para pensar na melhor maneira de se fazer certos cálculos."
   ]
  },
  {
   "cell_type": "markdown",
   "metadata": {},
   "source": [
    "### Voltando no Fibonacci"
   ]
  },
  {
   "cell_type": "markdown",
   "metadata": {},
   "source": [
    "A fórmula para o n-ésimo número de Fibonacci é\n",
    "$$ F_n = \\frac{\\phi^n - \\psi^n}{\\sqrt{5}}. $$"
   ]
  },
  {
   "cell_type": "markdown",
   "metadata": {},
   "source": [
    "Acontece que $\\phi > 1$ e $0 < \\psi < 1$, então a distância entre $\\phi^n$ e $\\psi^n$ cresce bastante com $n$.\n",
    "Além disso, ambos são irracionais, então seus valores já são aproximados. Neste caso, é mais simples calcular os números de Fibonacci utilizando `for` ou `while` com inteiros.\n",
    "Claro que isso também vai depender do motivo para se calcular esses números."
   ]
  },
  {
   "cell_type": "markdown",
   "metadata": {},
   "source": [
    "## Precisão Arbitrária"
   ]
  },
  {
   "cell_type": "markdown",
   "metadata": {},
   "source": [
    "Da mesma maneira que às vezes queremos trabalhar com inteiros maiores que o máximo da máquina, às vezes também estamos interessados em pontos flutuantes com mais precisão que os da máquina. Em Julia, são chamados de `BigFloat`."
   ]
  },
  {
   "cell_type": "code",
   "execution_count": 55,
   "metadata": {},
   "outputs": [
    {
     "data": {
      "text/plain": [
       "1.000000000000000000000000000000000000000000000000000000000000000000000000000000"
      ]
     },
     "execution_count": 55,
     "metadata": {},
     "output_type": "execute_result"
    }
   ],
   "source": [
    "BigFloat(\"1.0\")"
   ]
  },
  {
   "cell_type": "code",
   "execution_count": 56,
   "metadata": {},
   "outputs": [
    {
     "data": {
      "text/plain": [
       "0.000000000000000000000000000000000000000000000000000000000000000000000000000000"
      ]
     },
     "execution_count": 56,
     "metadata": {},
     "output_type": "execute_result"
    }
   ],
   "source": [
    "big\"0.1\" + big\"0.2\" - big\"0.3\""
   ]
  },
  {
   "cell_type": "code",
   "execution_count": 57,
   "metadata": {},
   "outputs": [
    {
     "data": {
      "text/plain": [
       "4.440892098500626e-16"
      ]
     },
     "execution_count": 57,
     "metadata": {},
     "output_type": "execute_result"
    }
   ],
   "source": [
    "sqrt(2.0)^2 - 2.0"
   ]
  },
  {
   "cell_type": "code",
   "execution_count": 58,
   "metadata": {},
   "outputs": [
    {
     "data": {
      "text/plain": [
       "-1.727233711018888925077270372560079914223200072887256277004740694033718360632485e-77"
      ]
     },
     "execution_count": 58,
     "metadata": {},
     "output_type": "execute_result"
    }
   ],
   "source": [
    "sqrt(big\"2.0\")^2 - big\"2.0\""
   ]
  },
  {
   "cell_type": "code",
   "execution_count": 59,
   "metadata": {},
   "outputs": [
    {
     "data": {
      "text/plain": [
       "8.50969131174083613912978790962048280567755996982969624908264897850135431080301e-1388255822130839284"
      ]
     },
     "execution_count": 59,
     "metadata": {},
     "output_type": "execute_result"
    }
   ],
   "source": [
    "nextfloat(big\"0.0\") # Menor positivo"
   ]
  },
  {
   "cell_type": "markdown",
   "metadata": {},
   "source": [
    "Diferente dos `BigInt`s, os `BigFloat`s não crescem automaticamente. Devemos usar a função abaixo para escolher a precisão do mesmo."
   ]
  },
  {
   "cell_type": "code",
   "execution_count": 60,
   "metadata": {},
   "outputs": [
    {
     "data": {
      "text/plain": [
       "512"
      ]
     },
     "execution_count": 60,
     "metadata": {},
     "output_type": "execute_result"
    }
   ],
   "source": [
    "setprecision(512)"
   ]
  },
  {
   "cell_type": "code",
   "execution_count": 61,
   "metadata": {},
   "outputs": [
    {
     "data": {
      "text/plain": [
       "8.50969131174083613912978790962048280567755996982969624908264897850135431080301037712781653863533176207041307677719465625590261564333325371457454023316728047e-1388255822130839284"
      ]
     },
     "execution_count": 61,
     "metadata": {},
     "output_type": "execute_result"
    }
   ],
   "source": [
    "nextfloat(big\"0.0\") # Menor positivo"
   ]
  },
  {
   "cell_type": "code",
   "execution_count": 62,
   "metadata": {},
   "outputs": [
    {
     "data": {
      "text/plain": [
       "3.14159265358979323846264338327950288419716939937510582097494459230781640628620899862803482534211706798214808651328230664709384460955058223172535940812848115"
      ]
     },
     "execution_count": 62,
     "metadata": {},
     "output_type": "execute_result"
    }
   ],
   "source": [
    "BigFloat(pi)"
   ]
  },
  {
   "cell_type": "markdown",
   "metadata": {},
   "source": [
    "# Aproximações de Séries"
   ]
  },
  {
   "cell_type": "markdown",
   "metadata": {},
   "source": [
    "Vamos para um assunto levemente diferente. Uma série é uma soma de infinitos termos numa ordem dada.\n",
    "$$ S = \\sum_{k = 1}^{\\infty} a_k. $$\n",
    "A questão aqui é, em geral, se essa soma existe ou não. Para tanto, define-se uma sequência $(s_1,s_2,\\dots,s_n,\\dots)$ dada por\n",
    "$$ s_n = \\sum_{k = 1}^n a_k. $$"
   ]
  },
  {
   "cell_type": "markdown",
   "metadata": {},
   "source": [
    "Se essa sequência convergence, então essa série converge."
   ]
  },
  {
   "cell_type": "markdown",
   "metadata": {},
   "source": [
    "Computacionalmente, em geral, estamos mais preocupados em calcular essa soma. Um resultado básico de série diz que para que a série convirja, é necessário que $a_k \\rightarrow 0$. Como já vimos, isso irá nos causar alguns problemas, dado que\n",
    "$$ s_{n+1} = s_n + a_{n+1}, $$\n",
    "e $a_{n+1}$ vai eventualmente ser muito pequeno."
   ]
  },
  {
   "cell_type": "markdown",
   "metadata": {},
   "source": [
    "Matematicamente, muitas vezes temos um objetivo, como calcular $\\pi$, que pode ser obtido pelo cálculo de uma série. Devemos nos preocupar em como fazer isso de uma maneira computacional eficiente que não perca muita precisão. Frequentemente, teremos limites computacionais para essa eficiência, e aí devemos voltar à matemática para conseguir alguma maneira melhor de resolver o problema inicial."
   ]
  },
  {
   "cell_type": "markdown",
   "metadata": {},
   "source": [
    "## Expansão de Taylor"
   ]
  },
  {
   "cell_type": "markdown",
   "metadata": {},
   "source": [
    "Como deve ter sido visto no curso de Cálculo, uma função continuamente diferenciável até ordem $n$ admite uma aproximação polinomial em torno de um ponto $a$ de seu domínio dada por\n",
    "$$ P_n(x) = f(a) + f'(a)(x-a) + \\frac{1}{2}f''(a)(x-a)^2 + \\frac{1}{3!}f'''(a)(x-a)^3 + \\dots + \\frac{1}{n!}f^{(n)}(a)(x-a)^n. $$"
   ]
  },
  {
   "cell_type": "markdown",
   "metadata": {},
   "source": [
    "Esse polinômio é chamado polinômio de Taylor de ordem $n$ em torno do ponto $a$, e existem alguns teoremas indicando o quão boa é essa aproximação."
   ]
  },
  {
   "cell_type": "markdown",
   "metadata": {},
   "source": [
    "**Teorema:** Se $f$ é continuamente diferenciável até ordem $n$ no ponto $a$, então\n",
    "$$ f(x) = P_n(x) + r_n(x), $$\n",
    "onde\n",
    "$$ \\lim_{x \\rightarrow a} \\frac{ r_n(x) }{ |x - a|^n } = 0. $$"
   ]
  },
  {
   "cell_type": "markdown",
   "metadata": {},
   "source": [
    "**Teorema:** Se $f$ é continuamente diferenciável até ordem $n$ no ponto $a$ e $f^{(n)}$ é contínua no intervalo fechado de $a$ à $x$, então\n",
    "$$ f(x) = P_n(x) + \\int_a^x \\frac{f^{(n+1)}(t)}{n!}(x-t)^n \\mbox{d} t. $$"
   ]
  },
  {
   "cell_type": "markdown",
   "metadata": {},
   "source": [
    "**Teorema:** Se $f$ é continuamente diferenciável até ordem $n+1$ num intervalo aberto contento $a$ e $f^{(n)}$ é contínua no intervalo fechado de $a$ à $x$, então\n",
    "$$ f(x) = P_n(x) + \\frac{1}{(n+1)!} f^{(n+1)}(\\xi)(x - a)^{n + 1}, $$\n",
    "onde $\\xi$ é um número real entre $a$ e $x$."
   ]
  },
  {
   "cell_type": "markdown",
   "metadata": {},
   "source": [
    "Podemos usar o conceito da expansão de Taylor para calcular numericamente alguns valores de funções não polinomiais. O caso mais comum é o da função $\\exp(x) = e^x$, onde $e$ é o número de Euler."
   ]
  },
  {
   "cell_type": "code",
   "execution_count": 63,
   "metadata": {},
   "outputs": [
    {
     "data": {
      "text/plain": [
       "e = 2.7182818284590..."
      ]
     },
     "execution_count": 63,
     "metadata": {},
     "output_type": "execute_result"
    }
   ],
   "source": [
    "e"
   ]
  },
  {
   "cell_type": "markdown",
   "metadata": {},
   "source": [
    "*Aviso: A função exponencial já costuma estar implementada em baixo nível, no entanto faremos este estudo por questões didáticas.*"
   ]
  },
  {
   "cell_type": "markdown",
   "metadata": {},
   "source": [
    "A função $e^x$ tem a seguinte expansão de Taylor em torno do ponto $0$.\n",
    "$$ e^x = 1 + x + \\frac{x^2}{2} + \\frac{x^3}{3!} + \\frac{x^4}{4!} + \\dots + \\frac{x^n}{n!} + \\dots. $$"
   ]
  },
  {
   "cell_type": "markdown",
   "metadata": {},
   "source": [
    "Então é bastante simples definir um algoritmo que calcule a aproximação da exponecial dado $x$ e $n$."
   ]
  },
  {
   "cell_type": "code",
   "execution_count": 64,
   "metadata": {
    "collapsed": true
   },
   "outputs": [],
   "source": [
    "#=\n",
    "    Entrada: x e n ≧ 0\n",
    "1. Inicialização: E ← 1.0\n",
    "2. Para k de 1 à n\n",
    "    1. E ← E + x^n/n!\n",
    "3. Retorne E\n",
    "    Saída: E ≈ eˣ com n termos da expansão de Taylor\n",
    "=#"
   ]
  },
  {
   "cell_type": "code",
   "execution_count": 65,
   "metadata": {},
   "outputs": [
    {
     "data": {
      "text/plain": [
       "exponencial (generic function with 1 method)"
      ]
     },
     "execution_count": 65,
     "metadata": {},
     "output_type": "execute_result"
    }
   ],
   "source": [
    "function exponencial(x, n)\n",
    "    # Exercício. Usa a função factorial(n) para calcular n!\n",
    "end"
   ]
  },
  {
   "cell_type": "code",
   "execution_count": 66,
   "metadata": {},
   "outputs": [
    {
     "data": {
      "text/plain": [
       "exponencial (generic function with 1 method)"
      ]
     },
     "execution_count": 66,
     "metadata": {},
     "output_type": "execute_result"
    }
   ],
   "source": [
    "exponencial(x, n) = 1.0 + (n > 0 ? sum(x^k/factorial(k) for k = 1:n) : 0.0)"
   ]
  },
  {
   "cell_type": "code",
   "execution_count": 67,
   "metadata": {},
   "outputs": [
    {
     "data": {
      "text/plain": [
       "2.718281801146385"
      ]
     },
     "execution_count": 67,
     "metadata": {},
     "output_type": "execute_result"
    }
   ],
   "source": [
    "exponencial(1.0, 10)"
   ]
  },
  {
   "cell_type": "markdown",
   "metadata": {},
   "source": [
    "Vamos testar nossa função contra `exp`, calculando o erro dessa aproximação.\n",
    "No entanto, note que a função exponencial cresce rapidamente, e como vimos, a precisão de um valor é relativo ao valor. Sendo assim, vamos utilizar o **erro relativo** na nossa comparação."
   ]
  },
  {
   "cell_type": "markdown",
   "metadata": {},
   "source": [
    "**Definição:** O erro cometido ao se aproximar $x$ por $x'$ é $x - x'$.\n",
    "\n",
    "**Definição:** O **erro absoluto** cometido ao se aproximar $x$ por $x'$ é $|x - x'|$.\n",
    "\n",
    "**Definição:** O **erro relativo** cometido ao se aproximar $x$ por $x'$ é $\\dfrac{|x - x'|}{|x|}$."
   ]
  },
  {
   "cell_type": "code",
   "execution_count": null,
   "metadata": {
    "collapsed": true
   },
   "outputs": [],
   "source": []
  },
  {
   "cell_type": "code",
   "execution_count": 68,
   "metadata": {},
   "outputs": [
    {
     "name": "stderr",
     "output_type": "stream",
     "text": [
      "WARNING: Compat.UTF8String is deprecated, use String instead.\n",
      "  likely near In[68]:68\n"
     ]
    },
    {
     "data": {
      "text/plain": [
       "Plots.PyPlotBackend()"
      ]
     },
     "execution_count": 68,
     "metadata": {},
     "output_type": "execute_result"
    }
   ],
   "source": [
    "using Plots\n",
    "pyplot()"
   ]
  },
  {
   "cell_type": "code",
   "execution_count": 69,
   "metadata": {},
   "outputs": [
    {
     "data": {
      "text/html": [
       "<img src=\"data:image/png;base64,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\" />"
      ]
     },
     "execution_count": 69,
     "metadata": {},
     "output_type": "execute_result"
    }
   ],
   "source": [
    "N = collect(1:20)\n",
    "Erro = [abs(exponencial(1.0, n) - exp(1.0))/exp(1.0) for n in N]\n",
    "scatter(N, abs.(Erro), yaxis=:log)"
   ]
  },
  {
   "cell_type": "markdown",
   "metadata": {},
   "source": [
    "Note que após $n = 17$, o erro é sempre a precisão da máquina. Isso quer dizer que os termos $a_n$ com $n > 17$ não afetam a soma, computacionalmente."
   ]
  },
  {
   "cell_type": "code",
   "execution_count": 70,
   "metadata": {},
   "outputs": [
    {
     "data": {
      "text/html": [
       "<img src=\"data:image/png;base64,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\" />"
      ]
     },
     "execution_count": 70,
     "metadata": {},
     "output_type": "execute_result"
    }
   ],
   "source": [
    "Erro = [abs(exponencial(5.0, n) - exp(5.0))/exp(5.0) for n in N]\n",
    "scatter(N, abs.(Erro), yaxis=:log)"
   ]
  },
  {
   "cell_type": "markdown",
   "metadata": {},
   "source": [
    "Veja que é erro é muito maior para $x = 5$ do que para $x = 1$. Isso acontece porque os termos além de $n > 20$  ainda são importantes para a aproximação de $e^5$.\n",
    "A primeira vista, uma simples solução seria utilizar $n > 20$, mas veja o que acontece com nossa implementação."
   ]
  },
  {
   "cell_type": "code",
   "execution_count": 71,
   "metadata": {},
   "outputs": [
    {
     "ename": "LoadError",
     "evalue": "\u001b[91mOverflowError()\u001b[39m",
     "output_type": "error",
     "traceback": [
      "\u001b[91mOverflowError()\u001b[39m",
      "",
      "Stacktrace:",
      " [1] \u001b[1mfactorial_lookup\u001b[22m\u001b[22m\u001b[1m(\u001b[22m\u001b[22m::Int64, ::Array{Int64,1}, ::Int64\u001b[1m)\u001b[22m\u001b[22m at \u001b[1m./combinatorics.jl:31\u001b[22m\u001b[22m",
      " [2] \u001b[1m(::##1#2{Float64})\u001b[22m\u001b[22m\u001b[1m(\u001b[22m\u001b[22m::Int64\u001b[1m)\u001b[22m\u001b[22m at \u001b[1m./<missing>:0\u001b[22m\u001b[22m",
      " [3] \u001b[1mmapfoldl_impl\u001b[22m\u001b[22m\u001b[1m(\u001b[22m\u001b[22m::Base.#identity, ::Base.#+, ::Float64, ::Base.Generator{UnitRange{Int64},##1#2{Float64}}, ::Int64\u001b[1m)\u001b[22m\u001b[22m at \u001b[1m./reduce.jl:45\u001b[22m\u001b[22m",
      " [4] \u001b[1mmapfoldl\u001b[22m\u001b[22m\u001b[1m(\u001b[22m\u001b[22m::Base.#identity, ::Function, ::Base.Generator{UnitRange{Int64},##1#2{Float64}}\u001b[1m)\u001b[22m\u001b[22m at \u001b[1m./reduce.jl:73\u001b[22m\u001b[22m",
      " [5] \u001b[1mexponencial\u001b[22m\u001b[22m\u001b[1m(\u001b[22m\u001b[22m::Float64, ::Int64\u001b[1m)\u001b[22m\u001b[22m at \u001b[1m./In[66]:1\u001b[22m\u001b[22m",
      " [6] \u001b[1minclude_string\u001b[22m\u001b[22m\u001b[1m(\u001b[22m\u001b[22m::String, ::String\u001b[1m)\u001b[22m\u001b[22m at \u001b[1m./loading.jl:515\u001b[22m\u001b[22m"
     ]
    }
   ],
   "source": [
    "exponencial(1.0, 21)"
   ]
  },
  {
   "cell_type": "markdown",
   "metadata": {},
   "source": [
    "Se você se lembra bem, isso acontece porque para $21!$ é maior que o máximo dos inteiros de 64 bits. Isso quer dizer que para calcular $e^x$ corretamente, devemos dar mais atenção aos detalhes do algoritmo.\n",
    "Note também que $x^n$ pode acabar ficando muito grande para $x$ e $n$ grandes e causar overflow também."
   ]
  },
  {
   "cell_type": "markdown",
   "metadata": {},
   "source": [
    "Revisitando nossa soma:\n",
    "$$ s_n = 1 + x + \\frac{x^2}{2} + \\dots + \\frac{x^n}{n!}, $$\n",
    "de modo que\n",
    "$$ s_n = s_{n-1} + \\frac{x^n}{n!}. $$\n",
    "O termo à direita da soma não pode ser calculado diretamente pois cada termo da fração pode \"explodir\" (termo que utilizarei para dizer causar overflow). No entanto, o resultado da fração é bem comportado, então podemos tentar chegar nesse valor de outra maneira."
   ]
  },
  {
   "cell_type": "markdown",
   "metadata": {},
   "source": [
    "Veja que\n",
    "$$ \\frac{x^n}{n!} = \\frac{x\\times x\\times x\\times\\dots\\times x}{1\\times2\\times3\\times\\dots\\times n}\n",
    "= \\frac{x}{1}\\times\\frac{x}{2}\\times\\frac{x}{3}\\times\\dots\\times\\frac{x}{n},\n",
    "$$\n",
    "então podemos fazer esse cálculo seguindo essa ordem, de maneira que o produto todo ficará equilibrado."
   ]
  },
  {
   "cell_type": "markdown",
   "metadata": {},
   "source": [
    "No entanto, é possível deixar esse produto mais eficiente. Note que se chamarmos $t_n = \\dfrac{x^n}{n!}$, então\n",
    "\n",
    "$$ s_n = s_{n-1} + t_n, $$\n",
    "e\n",
    "$$ t_n = t_{n-1}\\times\\frac{x}{n}. $$"
   ]
  },
  {
   "cell_type": "markdown",
   "metadata": {},
   "source": [
    "Em outras palavras, a sequência que é somada também pode ser calculada utilizando o termo anterior. Cada iteração fará então apenas um produto, uma divisão, e uma soma."
   ]
  },
  {
   "cell_type": "code",
   "execution_count": 72,
   "metadata": {
    "collapsed": true
   },
   "outputs": [],
   "source": [
    "#=\n",
    "    Entrada: x e n ≧ 0\n",
    "1. Inicialização: E ← 1.0, t ← 1.0\n",
    "2. Para k de 1 à n\n",
    "    1. t ← t * x / k\n",
    "    2. E ← E + t\n",
    "3. Retorne E\n",
    "    Saída: E ≈ eˣ com n termos da expansão de Taylor\n",
    "=#"
   ]
  },
  {
   "cell_type": "code",
   "execution_count": 73,
   "metadata": {},
   "outputs": [
    {
     "data": {
      "text/plain": [
       "exponencial2 (generic function with 1 method)"
      ]
     },
     "execution_count": 73,
     "metadata": {},
     "output_type": "execute_result"
    }
   ],
   "source": [
    "function exponencial2(x, n)\n",
    "    E = 1.0\n",
    "    t = 1.0\n",
    "    for k = 1:n\n",
    "        t *= x / k\n",
    "        E += t\n",
    "    end\n",
    "    return E\n",
    "end"
   ]
  },
  {
   "cell_type": "code",
   "execution_count": 74,
   "metadata": {},
   "outputs": [
    {
     "data": {
      "text/html": [
       "<img src=\"data:image/png;base64,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\" />"
      ]
     },
     "execution_count": 74,
     "metadata": {},
     "output_type": "execute_result"
    }
   ],
   "source": [
    "N = collect(1:50)\n",
    "Erro = [abs(exponencial2(5.0, n) - exp(5.0))/exp(5.0) for n in N]\n",
    "Erro[find(Erro .== 0.0)] = eps()\n",
    "scatter(N, abs.(Erro), yaxis=:log)"
   ]
  },
  {
   "cell_type": "code",
   "execution_count": 75,
   "metadata": {},
   "outputs": [
    {
     "data": {
      "text/html": [
       "<img src=\"data:image/png;base64,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\" />"
      ]
     },
     "execution_count": 75,
     "metadata": {},
     "output_type": "execute_result"
    }
   ],
   "source": [
    "N = collect(1:50)\n",
    "Erro = [abs(exponencial2(10.0, n) - exp(10.0))/exp(10.0) for n in N]\n",
    "Erro[find(Erro .== 0.0)] = eps()\n",
    "scatter(N, Erro, yaxis=:log)\n",
    "ylims!(eps()/2, 1.0)"
   ]
  },
  {
   "cell_type": "markdown",
   "metadata": {},
   "source": [
    "Perceba agora que a função `exp` não recebe um $n$ específico. A quantidade de termos calculados é específico para o valor $x$. Para $x = 0$, $n = 0$ basta, para $x = 1$, $n = 17$ basta, para $x = 10$, $n = 45$ foi necessário."
   ]
  },
  {
   "cell_type": "markdown",
   "metadata": {},
   "source": [
    "Em particular, como estamos fazendo uma atualização do tipo $s_n = s_{n-1} + t_n$ e $t_n$ tende a 0, podemos verificar se obtivemos um erro de arredondamento na soma, de modo que os termos seguintes também não acrescentarão nada."
   ]
  },
  {
   "cell_type": "code",
   "execution_count": 76,
   "metadata": {
    "collapsed": true
   },
   "outputs": [],
   "source": [
    "#=\n",
    "    Entrada: x\n",
    "1. Inicialização: E ← 1.0, t ← x, k ← 1\n",
    "2. Enquanto E + t ≠ E\n",
    "    1. E ← E + t\n",
    "    2. Incremente k\n",
    "    3. t ← t * x / k\n",
    "3. Retorne E\n",
    "    Saída: E ≈ eˣ\n",
    "=#"
   ]
  },
  {
   "cell_type": "code",
   "execution_count": 77,
   "metadata": {},
   "outputs": [
    {
     "data": {
      "text/plain": [
       "exponencial3 (generic function with 1 method)"
      ]
     },
     "execution_count": 77,
     "metadata": {},
     "output_type": "execute_result"
    }
   ],
   "source": [
    "function exponencial3(x)\n",
    "    # Implemente\n",
    "end"
   ]
  },
  {
   "cell_type": "code",
   "execution_count": 78,
   "metadata": {},
   "outputs": [
    {
     "ename": "LoadError",
     "evalue": "\u001b[91mMethodError: no method matching -(::Float64, ::Void)\u001b[0m\nClosest candidates are:\n  -(::Float64, \u001b[91m::Float64\u001b[39m) at float.jl:377\n  -(::Float64) at float.jl:367\n  -(\u001b[91m::PyCall.PyObject\u001b[39m, ::Any) at /home/abel/.julia/v0.6/PyCall/src/pyoperators.jl:11\n  ...\u001b[39m",
     "output_type": "error",
     "traceback": [
      "\u001b[91mMethodError: no method matching -(::Float64, ::Void)\u001b[0m\nClosest candidates are:\n  -(::Float64, \u001b[91m::Float64\u001b[39m) at float.jl:377\n  -(::Float64) at float.jl:367\n  -(\u001b[91m::PyCall.PyObject\u001b[39m, ::Any) at /home/abel/.julia/v0.6/PyCall/src/pyoperators.jl:11\n  ...\u001b[39m",
      "",
      "Stacktrace:",
      " [1] \u001b[1mcollect\u001b[22m\u001b[22m\u001b[1m(\u001b[22m\u001b[22m::Base.Generator{Array{Float64,1},##15#16}\u001b[1m)\u001b[22m\u001b[22m at \u001b[1m./array.jl:441\u001b[22m\u001b[22m",
      " [2] \u001b[1m#adapted_grid#33\u001b[22m\u001b[22m\u001b[1m(\u001b[22m\u001b[22m::Int64, ::Function, ::##15#16, ::Tuple{Int64,Float64}\u001b[1m)\u001b[22m\u001b[22m at \u001b[1m/home/abel/.julia/v0.6/PlotUtils/src/adapted_grid.jl:43\u001b[22m\u001b[22m",
      " [3] \u001b[1mmacro expansion\u001b[22m\u001b[22m at \u001b[1m/home/abel/.julia/v0.6/Plots/src/series.jl:441\u001b[22m\u001b[22m [inlined]",
      " [4] \u001b[1mapply_recipe\u001b[22m\u001b[22m\u001b[1m(\u001b[22m\u001b[22m::Dict{Symbol,Any}, ::Function, ::Int64, ::Float64\u001b[1m)\u001b[22m\u001b[22m at \u001b[1m/home/abel/.julia/v0.6/RecipesBase/src/RecipesBase.jl:259\u001b[22m\u001b[22m",
      " [5] \u001b[1m_process_userrecipes\u001b[22m\u001b[22m\u001b[1m(\u001b[22m\u001b[22m::Plots.Plot{Plots.PyPlotBackend}, ::Dict{Symbol,Any}, ::Tuple{##15#16,Int64,Float64}\u001b[1m)\u001b[22m\u001b[22m at \u001b[1m/home/abel/.julia/v0.6/Plots/src/pipeline.jl:73\u001b[22m\u001b[22m",
      " [6] \u001b[1m_plot!\u001b[22m\u001b[22m\u001b[1m(\u001b[22m\u001b[22m::Plots.Plot{Plots.PyPlotBackend}, ::Dict{Symbol,Any}, ::Tuple{##15#16,Int64,Float64}\u001b[1m)\u001b[22m\u001b[22m at \u001b[1m/home/abel/.julia/v0.6/Plots/src/plot.jl:171\u001b[22m\u001b[22m",
      " [7] \u001b[1m#plot#136\u001b[22m\u001b[22m\u001b[1m(\u001b[22m\u001b[22m::Array{Any,1}, ::Function, ::Function, ::Vararg{Any,N} where N\u001b[1m)\u001b[22m\u001b[22m at \u001b[1m/home/abel/.julia/v0.6/Plots/src/plot.jl:52\u001b[22m\u001b[22m",
      " [8] \u001b[1mplot\u001b[22m\u001b[22m\u001b[1m(\u001b[22m\u001b[22m::Function, ::Int64, ::Vararg{Any,N} where N\u001b[1m)\u001b[22m\u001b[22m at \u001b[1m/home/abel/.julia/v0.6/Plots/src/plot.jl:46\u001b[22m\u001b[22m",
      " [9] \u001b[1minclude_string\u001b[22m\u001b[22m\u001b[1m(\u001b[22m\u001b[22m::String, ::String\u001b[1m)\u001b[22m\u001b[22m at \u001b[1m./loading.jl:515\u001b[22m\u001b[22m"
     ]
    }
   ],
   "source": [
    "plot(x->exp(x) - exponencial3(x), 0, 10.0)"
   ]
  },
  {
   "cell_type": "code",
   "execution_count": 79,
   "metadata": {},
   "outputs": [
    {
     "ename": "LoadError",
     "evalue": "\u001b[91mMethodError: no method matching -(::Float64, ::Void)\u001b[0m\nClosest candidates are:\n  -(::Float64, \u001b[91m::Float64\u001b[39m) at float.jl:377\n  -(::Float64) at float.jl:367\n  -(\u001b[91m::PyCall.PyObject\u001b[39m, ::Any) at /home/abel/.julia/v0.6/PyCall/src/pyoperators.jl:11\n  ...\u001b[39m",
     "output_type": "error",
     "traceback": [
      "\u001b[91mMethodError: no method matching -(::Float64, ::Void)\u001b[0m\nClosest candidates are:\n  -(::Float64, \u001b[91m::Float64\u001b[39m) at float.jl:377\n  -(::Float64) at float.jl:367\n  -(\u001b[91m::PyCall.PyObject\u001b[39m, ::Any) at /home/abel/.julia/v0.6/PyCall/src/pyoperators.jl:11\n  ...\u001b[39m",
      "",
      "Stacktrace:",
      " [1] \u001b[1mcollect\u001b[22m\u001b[22m\u001b[1m(\u001b[22m\u001b[22m::Base.Generator{Array{Float64,1},##17#18}\u001b[1m)\u001b[22m\u001b[22m at \u001b[1m./array.jl:441\u001b[22m\u001b[22m",
      " [2] \u001b[1m#adapted_grid#33\u001b[22m\u001b[22m\u001b[1m(\u001b[22m\u001b[22m::Int64, ::Function, ::##17#18, ::Tuple{Int64,Float64}\u001b[1m)\u001b[22m\u001b[22m at \u001b[1m/home/abel/.julia/v0.6/PlotUtils/src/adapted_grid.jl:43\u001b[22m\u001b[22m",
      " [3] \u001b[1mmacro expansion\u001b[22m\u001b[22m at \u001b[1m/home/abel/.julia/v0.6/Plots/src/series.jl:441\u001b[22m\u001b[22m [inlined]",
      " [4] \u001b[1mapply_recipe\u001b[22m\u001b[22m\u001b[1m(\u001b[22m\u001b[22m::Dict{Symbol,Any}, ::Function, ::Int64, ::Float64\u001b[1m)\u001b[22m\u001b[22m at \u001b[1m/home/abel/.julia/v0.6/RecipesBase/src/RecipesBase.jl:259\u001b[22m\u001b[22m",
      " [5] \u001b[1m_process_userrecipes\u001b[22m\u001b[22m\u001b[1m(\u001b[22m\u001b[22m::Plots.Plot{Plots.PyPlotBackend}, ::Dict{Symbol,Any}, ::Tuple{##17#18,Int64,Float64}\u001b[1m)\u001b[22m\u001b[22m at \u001b[1m/home/abel/.julia/v0.6/Plots/src/pipeline.jl:73\u001b[22m\u001b[22m",
      " [6] \u001b[1m_plot!\u001b[22m\u001b[22m\u001b[1m(\u001b[22m\u001b[22m::Plots.Plot{Plots.PyPlotBackend}, ::Dict{Symbol,Any}, ::Tuple{##17#18,Int64,Float64}\u001b[1m)\u001b[22m\u001b[22m at \u001b[1m/home/abel/.julia/v0.6/Plots/src/plot.jl:171\u001b[22m\u001b[22m",
      " [7] \u001b[1m#plot#136\u001b[22m\u001b[22m\u001b[1m(\u001b[22m\u001b[22m::Array{Any,1}, ::Function, ::Function, ::Vararg{Any,N} where N\u001b[1m)\u001b[22m\u001b[22m at \u001b[1m/home/abel/.julia/v0.6/Plots/src/plot.jl:52\u001b[22m\u001b[22m",
      " [8] \u001b[1mplot\u001b[22m\u001b[22m\u001b[1m(\u001b[22m\u001b[22m::Function, ::Int64, ::Vararg{Any,N} where N\u001b[1m)\u001b[22m\u001b[22m at \u001b[1m/home/abel/.julia/v0.6/Plots/src/plot.jl:46\u001b[22m\u001b[22m",
      " [9] \u001b[1minclude_string\u001b[22m\u001b[22m\u001b[1m(\u001b[22m\u001b[22m::String, ::String\u001b[1m)\u001b[22m\u001b[22m at \u001b[1m./loading.jl:515\u001b[22m\u001b[22m"
     ]
    }
   ],
   "source": [
    "plot(x->abs(exp(x) - exponencial3(x))/exp(x), 0, 10.0)"
   ]
  },
  {
   "cell_type": "markdown",
   "metadata": {},
   "source": [
    "Por fim, vejamos o que acontece com $x < 0$."
   ]
  },
  {
   "cell_type": "code",
   "execution_count": 80,
   "metadata": {},
   "outputs": [
    {
     "ename": "LoadError",
     "evalue": "\u001b[91mMethodError: no method matching -(::Float64, ::Void)\u001b[0m\nClosest candidates are:\n  -(::Float64, \u001b[91m::Float64\u001b[39m) at float.jl:377\n  -(::Float64) at float.jl:367\n  -(\u001b[91m::PyCall.PyObject\u001b[39m, ::Any) at /home/abel/.julia/v0.6/PyCall/src/pyoperators.jl:11\n  ...\u001b[39m",
     "output_type": "error",
     "traceback": [
      "\u001b[91mMethodError: no method matching -(::Float64, ::Void)\u001b[0m\nClosest candidates are:\n  -(::Float64, \u001b[91m::Float64\u001b[39m) at float.jl:377\n  -(::Float64) at float.jl:367\n  -(\u001b[91m::PyCall.PyObject\u001b[39m, ::Any) at /home/abel/.julia/v0.6/PyCall/src/pyoperators.jl:11\n  ...\u001b[39m",
      "",
      "Stacktrace:",
      " [1] \u001b[1mcollect\u001b[22m\u001b[22m\u001b[1m(\u001b[22m\u001b[22m::Base.Generator{Array{Float64,1},##19#20}\u001b[1m)\u001b[22m\u001b[22m at \u001b[1m./array.jl:441\u001b[22m\u001b[22m",
      " [2] \u001b[1m#adapted_grid#33\u001b[22m\u001b[22m\u001b[1m(\u001b[22m\u001b[22m::Int64, ::Function, ::##19#20, ::Tuple{Float64,Float64}\u001b[1m)\u001b[22m\u001b[22m at \u001b[1m/home/abel/.julia/v0.6/PlotUtils/src/adapted_grid.jl:43\u001b[22m\u001b[22m",
      " [3] \u001b[1mmacro expansion\u001b[22m\u001b[22m at \u001b[1m/home/abel/.julia/v0.6/Plots/src/series.jl:441\u001b[22m\u001b[22m [inlined]",
      " [4] \u001b[1mapply_recipe\u001b[22m\u001b[22m\u001b[1m(\u001b[22m\u001b[22m::Dict{Symbol,Any}, ::Function, ::Float64, ::Float64\u001b[1m)\u001b[22m\u001b[22m at \u001b[1m/home/abel/.julia/v0.6/RecipesBase/src/RecipesBase.jl:259\u001b[22m\u001b[22m",
      " [5] \u001b[1m_process_userrecipes\u001b[22m\u001b[22m\u001b[1m(\u001b[22m\u001b[22m::Plots.Plot{Plots.PyPlotBackend}, ::Dict{Symbol,Any}, ::Tuple{##19#20,Float64,Float64}\u001b[1m)\u001b[22m\u001b[22m at \u001b[1m/home/abel/.julia/v0.6/Plots/src/pipeline.jl:73\u001b[22m\u001b[22m",
      " [6] \u001b[1m_plot!\u001b[22m\u001b[22m\u001b[1m(\u001b[22m\u001b[22m::Plots.Plot{Plots.PyPlotBackend}, ::Dict{Symbol,Any}, ::Tuple{##19#20,Float64,Float64}\u001b[1m)\u001b[22m\u001b[22m at \u001b[1m/home/abel/.julia/v0.6/Plots/src/plot.jl:171\u001b[22m\u001b[22m",
      " [7] \u001b[1m#plot#136\u001b[22m\u001b[22m\u001b[1m(\u001b[22m\u001b[22m::Array{Any,1}, ::Function, ::Function, ::Vararg{Any,N} where N\u001b[1m)\u001b[22m\u001b[22m at \u001b[1m/home/abel/.julia/v0.6/Plots/src/plot.jl:52\u001b[22m\u001b[22m",
      " [8] \u001b[1mplot\u001b[22m\u001b[22m\u001b[1m(\u001b[22m\u001b[22m::Function, ::Float64, ::Vararg{Float64,N} where N\u001b[1m)\u001b[22m\u001b[22m at \u001b[1m/home/abel/.julia/v0.6/Plots/src/plot.jl:46\u001b[22m\u001b[22m",
      " [9] \u001b[1minclude_string\u001b[22m\u001b[22m\u001b[1m(\u001b[22m\u001b[22m::String, ::String\u001b[1m)\u001b[22m\u001b[22m at \u001b[1m./loading.jl:515\u001b[22m\u001b[22m"
     ]
    }
   ],
   "source": [
    "plot(x->abs(exp(x) - exponencial3(x))/exp(x), -10.0, 0.0)"
   ]
  },
  {
   "cell_type": "markdown",
   "metadata": {},
   "source": [
    "O erro cresce novamente. Isso acontece porque o termo $t_n$ fica alternando de sinal, e fica pequeno antes de contribuir o suficiente para fazer a diferença necessária.\n",
    "Uma maneira de remediar esse problema é usar a relação $e^x = \\dfrac{1}{e^{-x}}$."
   ]
  },
  {
   "cell_type": "code",
   "execution_count": 81,
   "metadata": {},
   "outputs": [
    {
     "data": {
      "text/plain": [
       "exponencial4 (generic function with 1 method)"
      ]
     },
     "execution_count": 81,
     "metadata": {},
     "output_type": "execute_result"
    }
   ],
   "source": [
    "function exponencial4(x)\n",
    "    if x < 0\n",
    "        return 1.0/exponencial4(-x)\n",
    "    end\n",
    "    # Implemente igual a exponencial3\n",
    "end"
   ]
  },
  {
   "cell_type": "markdown",
   "metadata": {},
   "source": [
    "## Cálculo de $\\pi$"
   ]
  },
  {
   "cell_type": "markdown",
   "metadata": {},
   "source": [
    "Um tópico bastante interessante de computação matemática é o cálculo do valor de $\\pi$. O interesse no cálculo de $\\pi$ é antigo, e existem várias maneiras de fazê-lo. Além disso, a busca pelo valor de $\\pi$ com a maior quantidade de dígitos corretos é uma disputa matemática bastante acirrada."
   ]
  },
  {
   "cell_type": "markdown",
   "metadata": {},
   "source": [
    "Das maneiras de calcular $\\pi$, uma das mais interessantes, em minha opinião, é através da identidade\n",
    "$$ \\arctan 1 = \\frac{\\pi}{4} \\qquad \\Rightarrow \\qquad \\pi = 4 \\arctan 1. $$"
   ]
  },
  {
   "cell_type": "markdown",
   "metadata": {},
   "source": [
    "Agora, utilizamos a derivada de $\\arctan$:\n",
    "$$ \\frac{\\mbox{d}}{\\mbox{d}x}\\arctan x = \\frac{1}{1+x^2}, $$\n",
    "e a expansão da fração para $|x| < 1$:\n",
    "$$ \\frac{1}{1+x^2} = 1 - x^2 + x^4 - x^6 + \\dots + (-1)^n x^{2n} + \\dots. $$"
   ]
  },
  {
   "cell_type": "markdown",
   "metadata": {},
   "source": [
    "Integrando, temos\n",
    "$$ \\arctan x = x - \\frac{x^3}{3} + \\frac{x^5}{5} - \\frac{x^7}{7} + \\dots + (-1)^n\\frac{x^{2n+1}}{2n+1} + \n",
    "\\dots$$"
   ]
  },
  {
   "cell_type": "markdown",
   "metadata": {},
   "source": [
    "É possível mostrar que essa série converge para $x = 1$ também, de modo que\n",
    "$$ \\frac{\\pi}{4} = \\arctan 1 = 1 - \\frac{1}{3} + \\frac{1}{5} - \\frac{1}{7} + \\dots \\frac{(-1)^n}{2n+1} + \\dots. $$"
   ]
  },
  {
   "cell_type": "markdown",
   "metadata": {},
   "source": [
    "Utilizando conceitos parecidos com o da expansão da exponencial, podemos calcular $\\pi$ sem precisar passar um valor de $n$, **porém**, essa convergência é muito lento. No exemplo abaixo, colocaremos uma condição de parada para $n > 1.000.000.000$."
   ]
  },
  {
   "cell_type": "code",
   "execution_count": 82,
   "metadata": {},
   "outputs": [
    {
     "data": {
      "text/plain": [
       "pi_atan (generic function with 1 method)"
      ]
     },
     "execution_count": 82,
     "metadata": {},
     "output_type": "execute_result"
    }
   ],
   "source": [
    "function pi_atan()\n",
    "    S = 1.0\n",
    "    n = 1\n",
    "    σ = -1\n",
    "    t = σ/(2n+1)\n",
    "    while S + t != S\n",
    "        S += t\n",
    "        σ = -σ\n",
    "        n += 1\n",
    "        t = σ/(2n+1)\n",
    "        if n > 1_000_000_000\n",
    "            break\n",
    "        end\n",
    "    end\n",
    "    return 4S\n",
    "end"
   ]
  },
  {
   "cell_type": "code",
   "execution_count": 83,
   "metadata": {},
   "outputs": [
    {
     "data": {
      "text/plain": [
       "9.982574766809194e-10"
      ]
     },
     "execution_count": 83,
     "metadata": {},
     "output_type": "execute_result"
    }
   ],
   "source": [
    "pi_atan() - pi"
   ]
  },
  {
   "cell_type": "markdown",
   "metadata": {},
   "source": [
    "O valor é, de fato, calculado até uma aproximação razoável, mas demora muito e leva muitas iterações.\n",
    "Por sorte, existem dezenas de outras maneiras de se calcular $\\pi$."
   ]
  },
  {
   "cell_type": "markdown",
   "metadata": {},
   "source": [
    "Uma dessas maneiras é a série\n",
    "$$ \\pi = \\sqrt{12}\\bigg(1 - \\frac{1}{3\\times 3} + \\frac{1}{5\\times 3^2} - \\frac{1}{7\\times 3^3} + \\frac{1}{9\\times 3^4} - \\dots\\bigg) = \\sqrt{12}\\sum_{k=0}^{\\infty}\\frac{(-1)^k}{(2k+1)3^k}. $$"
   ]
  },
  {
   "cell_type": "code",
   "execution_count": 84,
   "metadata": {},
   "outputs": [
    {
     "data": {
      "text/plain": [
       "pi_madhava (generic function with 1 method)"
      ]
     },
     "execution_count": 84,
     "metadata": {},
     "output_type": "execute_result"
    }
   ],
   "source": [
    "function pi_madhava()\n",
    "    S = 1.0\n",
    "    third = 1.0/3.0\n",
    "    σ = -1\n",
    "    pow_third = third\n",
    "    t = σ * third * third\n",
    "    n = 1\n",
    "    while S + t != S\n",
    "        S += t\n",
    "        n += 1\n",
    "        pow_third *= third\n",
    "        σ = -σ\n",
    "        t = σ * pow_third / (2n + 1)\n",
    "    end\n",
    "    println(\"n = $n\") # Usar para mostrar quantas iterações\n",
    "    return sqrt(12) * S\n",
    "end"
   ]
  },
  {
   "cell_type": "code",
   "execution_count": 85,
   "metadata": {},
   "outputs": [
    {
     "name": "stdout",
     "output_type": "stream",
     "text": [
      "n = 31\n"
     ]
    },
    {
     "data": {
      "text/plain": [
       "8.881784197001252e-16"
      ]
     },
     "execution_count": 85,
     "metadata": {},
     "output_type": "execute_result"
    }
   ],
   "source": [
    "pi_madhava() - pi"
   ]
  },
  {
   "cell_type": "markdown",
   "metadata": {},
   "source": [
    "Note que com 31 iterações já chegamos num valor de $\\pi$ decente."
   ]
  },
  {
   "cell_type": "markdown",
   "metadata": {},
   "source": [
    "### $\\pi$ com BigFloat"
   ]
  },
  {
   "cell_type": "markdown",
   "metadata": {},
   "source": [
    "Como dito anteriormente, existe uma busca por $\\pi$ com diversas casas decimais corretas. Você já deve ter percebido que o Julia traz uma implementação própria de $\\pi$, chamada através de `pi`. Essa aproximação pode ser vista com `BigFloat` também."
   ]
  },
  {
   "cell_type": "code",
   "execution_count": 86,
   "metadata": {},
   "outputs": [
    {
     "data": {
      "text/plain": [
       "3.14159265358979323846264338327950288419716939937510582097494459230781640628620899862803482534211706798214808651328230664709384460955058223172535940812848115"
      ]
     },
     "execution_count": 86,
     "metadata": {},
     "output_type": "execute_result"
    }
   ],
   "source": [
    "BigFloat(pi)"
   ]
  },
  {
   "cell_type": "markdown",
   "metadata": {},
   "source": [
    "Podemos modificar nossa implementação para buscar $\\pi$ com `BigFloat` também."
   ]
  },
  {
   "cell_type": "code",
   "execution_count": 87,
   "metadata": {},
   "outputs": [
    {
     "data": {
      "text/plain": [
       "pi_madhava_BF (generic function with 1 method)"
      ]
     },
     "execution_count": 87,
     "metadata": {},
     "output_type": "execute_result"
    }
   ],
   "source": [
    "function pi_madhava_BF()\n",
    "    S = BigFloat(1.0)\n",
    "    third = BigFloat(1.0)/3.0\n",
    "    σ = -1\n",
    "    pow_third = third\n",
    "    t = σ * third * third\n",
    "    n = 1\n",
    "    while S + t != S\n",
    "        S += t\n",
    "        n += 1\n",
    "        pow_third *= third\n",
    "        σ = -σ\n",
    "        t = σ * pow_third / (2n + 1)\n",
    "    end\n",
    "    println(\"n = $n\") # Usar para mostrar quantas iterações\n",
    "    return sqrt(BigFloat(12.0)) * S\n",
    "end"
   ]
  },
  {
   "cell_type": "code",
   "execution_count": 88,
   "metadata": {},
   "outputs": [
    {
     "name": "stdout",
     "output_type": "stream",
     "text": [
      "n = 318\n"
     ]
    },
    {
     "data": {
      "text/plain": [
       "-8.95000887744024809194915837855552060485176584152048827312582199984753406208414196592340986848051336403381392390700332174409527371427036319258339779551050163e-154"
      ]
     },
     "execution_count": 88,
     "metadata": {},
     "output_type": "execute_result"
    }
   ],
   "source": [
    "pi_madhava_BF() - BigFloat(pi)"
   ]
  },
  {
   "cell_type": "markdown",
   "metadata": {},
   "source": [
    "## Aproximações da derivada\n",
    "\n",
    "Outro tópico importante é o de aproximar derivadas.\n",
    "A definição da derivada é\n",
    "$$ \\lim_{h \\rightarrow 0} \\frac{f(x+h) - f(x)}{h}, $$\n",
    "então podemos aproveitar essa definição é escolher um $h$ pequeno e não nulo para aproximar essa derivada.\n",
    "\n",
    "Vamos testar essa aproximação com $f(x) = e^x$, cuja derivada é $f'(x)$."
   ]
  },
  {
   "cell_type": "code",
   "execution_count": 89,
   "metadata": {},
   "outputs": [
    {
     "data": {
      "text/plain": [
       "D (generic function with 1 method)"
      ]
     },
     "execution_count": 89,
     "metadata": {},
     "output_type": "execute_result"
    }
   ],
   "source": [
    "D(x, h) = (exp(x+h) - exp(x))/h"
   ]
  },
  {
   "cell_type": "code",
   "execution_count": 90,
   "metadata": {},
   "outputs": [
    {
     "data": {
      "text/plain": [
       "f (generic function with 1 method)"
      ]
     },
     "execution_count": 90,
     "metadata": {},
     "output_type": "execute_result"
    }
   ],
   "source": [
    "f(x) = exp(x)"
   ]
  },
  {
   "cell_type": "code",
   "execution_count": 91,
   "metadata": {},
   "outputs": [
    {
     "data": {
      "text/html": [
       "<img src=\"data:image/png;base64,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\" />"
      ]
     },
     "execution_count": 91,
     "metadata": {},
     "output_type": "execute_result"
    }
   ],
   "source": [
    "# Aproximação para $h = 1e-4$\n",
    "h = 1e-4\n",
    "plot(f, -1, 1, c=:blue)\n",
    "plot!(x->D(x, h), -1, 1, c=:red)"
   ]
  },
  {
   "cell_type": "markdown",
   "metadata": {},
   "source": [
    "Essa aproximação parece bastante boa. Vamos ver num intervalo maior."
   ]
  },
  {
   "cell_type": "code",
   "execution_count": 92,
   "metadata": {},
   "outputs": [
    {
     "data": {
      "text/html": [
       "<img src=\"data:image/png;base64,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\" />"
      ]
     },
     "execution_count": 92,
     "metadata": {},
     "output_type": "execute_result"
    }
   ],
   "source": [
    "# Aproximação para $h = 1e-4$\n",
    "h = 1e-4\n",
    "plot(f, -10, 10, c=:blue)\n",
    "plot!(x->D(x, h), -10, 10, c=:red)"
   ]
  },
  {
   "cell_type": "markdown",
   "metadata": {},
   "source": [
    "Vamos ver o erro dessa aproximação."
   ]
  },
  {
   "cell_type": "code",
   "execution_count": 93,
   "metadata": {},
   "outputs": [
    {
     "data": {
      "text/html": [
       "<img src=\"data:image/png;base64,iVBORw0KGgoAAAANSUhEUgAAAlgAAAGQCAYAAAByNR6YAAAABHNCSVQICAgIfAhkiAAAAAlwSFlzAAAPYQAAD2EBqD+naQAAIABJREFUeJzs3Xt8VNW5N/Df5EruQLgkJEFJMuESImhAiJeDIhgEVMTkVI++J2pRK0JfTes5KvV2XpUWKlKBlx6LpfD5nNoazluQoUoVRU9rykVQIUpLITGJCQgIc8vMZC7P+8diNrlnksyevXb28/188plJdvbea+fJZJ6stfazTEREYIwxxhhjYROldQMYY4wxxgYbTrAYY4wxxsIsRusGsN4FAgE0NTUhJSUFJpNJ6+YwxhhjrA0igt1ux5gxYxAVJfquOMHSgaamJuTk5GjdDMYYY4z1oKGhAdnZ2QA4wdKFlJQUACJwqampGreGqcHtduOFF17Ac889hyFDhmjdnL75v/8XeOopYP164H/9L61boxu6jjnrF4754GWz2ZCTk6O8XwOcYOlCcFgwNTWVE6xBKi4uDvHx8UhNTdXfH95Tp8TjN98A/PsZMl3HnPULx3zwazuNx8RlGuRns9mQlpYGq9XKCRaTz6JFwI4dQFkZUFWldWsYYyziunqf5h4sxiTgcrmwfPlyrFu3DgkJCVo3p29qa8XjP/6hbTt0RtcxZ/1i1Ji3trbi66+/ht/v17opAxIVFYXMzMx2w4A94QSLMQlERUUhOztbuftEN4iAujpg1CiRYBEBfKdrSHQbc9ZvRox5Y2Mj/uVf/gUtLS1aNyVs7rjjDjz11FO9xpGHCHWAhwiZtM6fB4YPB+6+G3jzTTEfa/RorVvFGJNAIBDAD37wA5w6dQr/8R//oft5Z16vF4cPH8a6deuwaNEirFixQtnGQ4SMSaqlpQUVFRXYsmULEhMTtW5O6OrqxOPcuSLBOn6cE6wQ6TbmrN+MFvOzZ8/i0KFDeOmllzB16lStmxMWRUVFAIDXXnsNP/zhD3scLjROPyVjEouOjkZJSQmio6O1bkrfBBOs2bPFI8/DCpluY876zWgxv3DhAgAodaEGiyuvvBIA0Nzc3OP3cQ8WYxKIj49HZWWl1s3ou9paIDERGDsWyM7mBKsPdBtz1m9Gi3kgEACAQZdQxsbGArh0fd3hHizGJOB0OlFaWgqn06l1U/qmrg64/HIxsT0/nxOsPtBtzFm/cczlVVdXhxtuuAFpaWlhG87kBIsxCcTGxqK8vFz5z0g3ggkWAJjNYg4WC4luY876jWMur9TUVLz44ov47W9/G7ZjcoLFmATi4uKwZMkSxMXFad2UvmmbYAV7sPjG5JDoNuas3zjm2vv5z3+Ohx56SPn8woULGDFiBADguuuuQ1JSUtjOxXOwGJOA0+nEnDlz8P7774f1Ba6qYA2s4PqD+fmAzQacPQuMHKlp0/RAlzFnA8IxB3DyJHBx8ntYDR0K5Ob2+m1LlixBQUEBVq1ahaFDh2Lz5s24/fbbMXz48LA3iRMsxiQQFxeHyspKff1n+913gN0OjBsnPs/PF4//+AcnWCHQZczZgBg+5mfPiqkEvUwO75foaFGH72JvVHeGDh2KsrIy/PrXv8bjjz+OjRs34ve//3342wNOsBiTQnBuhq4ESzQEhwjz8sTj8eNASYkWLdIVXcacDYjhYz5ihPj7oFYPVi/JVdAPf/hD3HbbbZg4cSJGjhyplF0IN06wGJOAw+HAjBkzsG/fPiQnJ2vdnNB0TLCSkoAxY/hOwhDpMuZsQDjmCGkYT20TJkxAbm4uHnroIaxatUq18/Akd8YkMGTIEKxZs0ZfS0nU1YmkKj390te4VEPIdBlzNiAcc3k8+OCD8Pl8KCsrAyCq7GdnZ6O8vBxffvklsrOz8dRTTw3oHNyDxZgEYmJiUFpaqnUz+qauTsy/aru4c34+cOSIZk3SE13GnA0Ix1weH374IZYuXaqUzEhMTERjY2NYz8E9WIxJwG63Izs7G3a7XeumhK629tLwYFCwFhaXauiVLmPOBoRjrr2mpiZMmDABhw4dwmOPPabqubgHizEJJCQkoKqqCgkJCVo3JXR1dcCNN7b/Wn6+mMD63Xfthw5ZJ7qMORsQjrn2xowZg2PHjkXkXNyDxZgEYmJiUFJSgpgYnfzPE6yB1bEHq22pBtYj3cWcDRjH3Fg4wWJMAjabDampqbDZbFo3JTTnzgFOJydYA6C7mLMBM1rMo6JEiuH1ejVuSXi53W4A6DVR5jSaMQkkJSWhurpaP9WdgyUagkVGg5KTgYwMXpMwBLqLORswo8V8zJgxiIuLw69+9Ss8+OCDul+D0e/3o7GxEevXr0diYiLGjh3b4/dzgsWYBKKjo1FYWKh1M0JXWyseO/ZgAVyqIUS6izkbMKPFPDk5GWvWrEFlZSU++eQTrZsTNsXFxfjlL3/Za0V+TrAYk4DNZkNaWhqsVitSU1O1bk7v6uqAlBRg2LDO2/Lzga++iniT9EZ3MWcDZsSYz5w5E3/605/Q1NSEgBpL5ERQVFQUhg0bhvT0dGX4syecYDEmgeTkZDQ0NOinunNwgnvbGlhBZjPw9tuRbpHu6C7mbMCMGvPk5GQUFBRo3YyI40nujEnAZDIhNTUVpq4SFhl1dQdhUH6+KNPw3XeRbJHu6C7mbMA45sbCCRZjErDb7UhLS9NPAcJgFfeuBO8kPHEiYs3RI93FnA0Yx9xYOMFiTAIpKSmwWq1ISUnRuim9664GVhCXagiJrmLOwoJjbiycYDEmASKCzWYD6WGJmTNngJaW7hOs1FRg1Cgu1dALXcWchQXH3Fg4wWJMAg6HAzk5OXA4HFo3pXfBGljdJVgAl2oIga5izsKCY24sfBchYxJITU3Vz3+1oSZY3IPVI13FnIUFx9xYuAeLMQn4/X7U1NTA7/dr3ZTe1dUBaWld18AK4h6sXukq5iwsOObGwgkWYxJwOp0oKSmB0+nUuim9q63tufcKELWwzpwBrNaINEmPdBVzFhYcc2PhIULGJKCrBWB7uoMwqO2dhMXFardIl3QVcxYWHHNj4R4sxiTg8/lQXV0Nn8+ndVN6F0qClZcnHnmYsFu6ijkLC465sXCCxZgEXC4XysvL4XK5tG5Kz3qrgRU0bBiQns4JVg90E3MWNhxzY+EhQsYkkJKSgsbGRq2b0btvvwXc7u6ruLdlNvOdhD3QTcxZ2HDMjYV7sBiTgM/nw+7du+UfOqitFY+99WABfCdhL3QTcxY2HHNj4QSLMQm43W5UVlbC7XZr3ZSeBWtgXXZZ79/LCVaPdBNzFjYcc2NREqzjx4/jmmuuQUFBAaZPn46ampoud7BYLJgwYQLMZjMWL17c7o6Iffv2YcqUKSgoKMDs2bPxzTffKNt6Ov63336LefPmwWw2Y/Lkyfj444+Vbffddx+ysrIwdepUTJ06FU888YSyLRAIYPny5cjLy0N+fj7Wr1/frq0vvvgi8vLykJeXhxUrVrTb9sYbb8BsNiMvLw8PPvggvF4vAFFpt7S0FCNGjMDQoUM7Xf/58+dxzz33oKCgAIWFhXjyySeVbR6PB8uWLYPZbEZRURHuvfdeZdv+/fsxc+ZMXHnllZg4cSJWrVrV5c+XGVNycjJqamqQnJysdVN6VlcHDB0qPnqTnw+cPg3wwrZd0k3MWdhwzA2GLrrxxhtp8+bNRERUVVVF06ZNo47sdjuNGjWKvvrqKyIievTRR+nHP/4xERH5/X7Ky8ujDz74gIiIVq9eTWVlZcq+PR3//vvvp+eee46IiPbv309ZWVnU2tpKREQVFRX06quvdmoLEdGWLVto9uzZ5PP56Ny5czR27Fg6evQoERF99NFHNGnSJHI4HOR2u6m4uJgsFgsREZ08eZIyMzOpubmZAoEA3XrrrbR+/XoiInK73bRnzx46fPgwpaWldTrnokWLaPXq1crnzc3NyvPHHnuMli1bRoFAoNO2KVOm0I4dO4iI6Ny5czRy5Eiqqanp8ro6slqtBICsVmtI38/0p7W1ld566y3l915aDz9MNHVqaN+7bx8RQHTokLpt0indxJyFDcd88OrqfRpERKdPn6aUlBTyer1ERBQIBGj06NF0/Pjxdgd46623qLS0VPm8pqaGsrKyiEgkRuPHj1e22Ww2io+PJ5fL1evxk5KS2iUj06dPp/fee4+Iek6w5s+fT2+++aby+RNPPEErVqwgIqKlS5fSypUrlW0bNmyge+65h4iIVq1aRQ8//LCybdeuXXTttde2O3ZtbW2nBOv48eOUnZ1Nfr+/U1scDgelpKR0mwRNnTqVtmzZQkRE9fX1lJWV1e6ae8IJ1uDncDho5syZ5HA4tG5Kz0pLie64I7TvPXdOJFhvvaVum3RKNzFnYcMxH7y6ep+OAoCGhgZkZmYiJkbcVGgymTB27FjU19e36+2qr6/HZW3mXlx++eVobm6Gz+frtC0lJQWpqaloamrq8fjnzp2D1+tFRkZGu+O2PffatWtRVFSEhQsX4rPPPuuxPcH9+rutJ19++SWys7PxyCOPoLi4GDfffDMOHz4MADhx4gSGDx+Ol19+GdOmTcP111+PPXv2KPtu3rwZzzzzDMaOHYuCggK8/PLL7a65LY/HA5vN1u4DgHJrr9vtVsbwXS4XPB4PAKClpUV57nQ60draqjxvOwQanGBpt9uV5zabTVm+wWazIRAItFv5PRAIKO3w+/3Kc5/PB/vFISCfz6csYur1epVqxa2trcpzj8eDlpYW5Tlfk7impKQkvP/++4iLi5P6mgInT8KXnR1anIYPBw0bBv/f/ib1NWn1u+f3+1FdXY0hQ4YMmmsajHEK5zUlJSVh7969iIqKGjTXNBjj1N9r6kj6Se4vvfQSTp48iSNHjuD73/8+brnlFs1WIvf5fNi/fz/uuusufPrpp3j88cexcOFCeL1e+Hw+fP3115g0aRIOHjyI1157Dd/73vdw+vRpAMBPf/pTrFy5EvX19aipqcGKFSvw5ZdfdnmelStXIi0tTfnIyckBAGX+2dNPP42nn34aALB8+XKsXLkSAFBRUYENGzYAABYvXoytW7cCAObMmYPt27cDAGbMmKEkfhMnTsSBAwcAANnZ2Th27BgAIC0tDU1NTbDb7UhLS4PdbkdTUxPS0tIAAMeOHUP2xTfZAwcOYOLEiQCAPXv2YMaMGQCA7du3Y86cOQCArVu3YvHixQCADRs2oKKiQrnO5cuX8zVt3YrW1lZcccUV2LZtm7zXFAjAf/Ikdh45EnKcvmptRf0HH8h7TX2MExDe371NmzbhyJEjg+qaBmOcwnVNra2tKC8vx6OPPjpormkwxqk/19R2zrWCSL0hwri4uJCGCBMTE7sdIuyooKCADh48SESRHyI8cOAA5eTktPvaiBEj6Pjx43TmzBmKiooin8+nbJs2bRq99957dObMGYqLi2u3X1lZGb3++utdXqPb7Sar1ap8NDQ0EAA6deoUERG5XC5yuVxERNTS0kJut5uIiJxOp/Lc4XCQx+NRngfH/O12uxIHm82mPLdarUrbrVYr+f1+CgQCZLVaKRAIkN/vV7o+fT6f8tzr9ZLNZlOe2+12IhJzDYLd4B6PR3nudrvJ6XQqz1taWviaLh5r9uzZdP78eXmvqamJCCBPVVXIcfL+8z+T/7rr5L2mPsYp+Dwcv3tNTU108803K6/zwXBNgzFO4bwmh8NBc+bMoTNnzgyaaxqMcerPNTU1NXU9B4uIaNasWe0moRcXF1NHNpuNRo4c2W6S+49+9CMiEpPcc3Nz201yv/POO5V9ezp+RUVFu0nuY8aMUX7gDQ0NyvdVV1dTeno6XbhwgYiINm/e3GmS+xdffEFERB9++GGnSe47d+4kIqITJ050muS+bt26dtfaVYIVCASosLCQPv/8cyIi2rdvH6Wnpys/4Llz59KuXbuISEykT09Pp8bGRvL5fDRs2DDas2cPERGdOXOGcnJy6JNPPun0M+4Kz8FiUvjkEzGn6uLvf0iefZYoM1O9NjHGmAS6neRORHTs2DGaOXMmmc1mKi4uVhKVZ555hjZu3KjssGPHDho/fjzl5eXR7bffriQ7RESffPIJFRUVkdlsplmzZlF9fT31dnwiolOnTtHcuXMpPz+fJk2apCRpREQ33XQTTZ48maZMmUIzZ85st83n89HSpUtp3LhxlJubS2vXrm13wS+88AKNGzeOxo0bR08++WS7ba+//jrl5uZSbm4uPfDAA+3u6igqKqKMjAwymUyUlZVF9957r7Lt4MGDdPXVV1NRURFNmzaN9u7dq2w7ceIE3XDDDTR58mS64ooraNu2bcq29957j6666iq64ooraOLEifTKK690HaUucII1+LndbnrllVeUZF1K//VfIsHqy+/h1q1iH57U24kuYs7CimM+eHX1Pm0iIuo8cMhkYrPZkJaWBqvVitTUVK2bw1TQ0tKCiooKbNmyBYmJiVo3p2svvwy88gpw7lzo+1RXA9dcA3z2GTBlinpt0yFdxJyFFcd88OrqfZoTLB3gBItJ4aGHgE8/FR+hOnsWGDkS2LYNuPNO9drGGGMa6up9Wvq7CBkzAo/Hg+eff1655VdKdXWhrUHYVno6kJbGS+Z0QRcxZ2HFMTcWTrAYk0AgEEBjYyMCgYDWTelefxIsk4nXJOyGLmLOwopjbiw8RKgDPETINBcIAAkJYg7WsmV92/euu4BTp4C9e1VpGmOMaY2HCBmTlNvtRmVlpVItWDrNzUBra997sADAbOYerC5IH3MWdhxzY+EEizHWu7o68difBCs/H/jmG+DiEhSMMWYEPESoAzxEyDT3X/8F3HsvYLcDycl92/cvfwGuuw44cgSYPFmd9jHGmIZ4iJAxSblcLixZskRZXFQ6dXXAiBF9T64AMUQIAMePh7VJeid9zFnYccyNhRMsxiQQFRWF7OxsREVJ+pKsre3f8CAg6mClpPA8rA6kjzkLO465sfAQoQ7wECHT3Jw5wLBhQFVV//a/6ipg+nTgP/8zvO1ijDEJ8BAhY5JqaWlBeXk5WmSdCN6fGlhtcS2sTqSPOQs7jrmxcILFmASio6NRUlKC6OhorZvSmd8P1NcPLMEym3kOVgdSx5ypgmNuLDxEqAM8RMg01dgI5OQAu3YB8+f37xibNwMPPCBKNSQkhLd9jDGmMR4iZExSTqcTpaWlcDqdWjels9pa8TjQIcK2x2Jyx5ypgmNuLJxgMSaB2NhYlJeXIzY2VuumdBYsMnrZZf0/RjDB4nlYCqljzlTBMTeWGK0bwBgD4uLisGTJEq2b0bW6OlFqISmp/8fIyBD78zwshdQxZ6rgmBsL92AxJgGn04mSkhI5hw4GegchAJhMfCdhB1LHnKmCY24snGAxJoG4uDhUVlYiLi5O66Z0VlcHjBs38ONwgtWO1DFnquCYGwsnWIxJQOq5GQOp4t4WJ1jtSB1zpgqOubFwgsWYBBwOBwoLC+FwOLRuSns+H9DQEJ4Ey2wW9bQ8noEfaxCQNuZMNRxzY+EEizEJDBkyBGvWrMGQIUO0bkp7TU0iyQpXD1YgwKUaLpI25kw1HHNj4QSLMQnExMSgtLQUMTGS3dgbLNEQrgQL4GHCi6SNOVMNx9xYOMFiTAJ2ux3Z2dmw2+1aN6W9cCZYmZmiijuXagAgccyZajjmxsIJFmMSSEhIQFVVFRJkW0amthYYPTo8y9tERfFE9zakjTlTDcfcWLifkjEJxMTEoKSkROtmdBaOGlhtcYKlkDbmTDUcc2PhHizGJGCz2ZCamgqbzaZ1U9rjBEs10sacqYZjbiycYDEmgaSkJFRXVyNpIMvRqEGNBKuuDmhtDd8xdUramDPVcMyNhRMsxiQQHR2NwsJCREdHa92US4I1sMJRxT3IbBalGoKT5w1MypgzVXHMjYUTLMYkYLPZYDKZ5Bo6aGwE/P7w92ABPEwISWPOVMUxNxZOsBiTQHJyMhoaGpCcnKx1Uy4JZ4mGoKwsID6eEyxIGnOmKo65sXCCxZgETCYTUlNTYTKZtG7KJcEEa+zY8B0zKgrIy+NaWJA05kxVHHNj4QSLMQnY7XakpaXJVYCwrg7IyAhPDay2zGbuwYKkMWeq4pgbCydYjEkgJSUFVqsVKSkpWjflkrq68E5wD+JSDQAkjTlTFcfcWDjBYkwCRASbzQYi0ropl9TWhnf+VVCwVIPXG/5j64iUMWeq4pgbCydYjEnA4XAgJycHDodD66ZcEu4aWEH5+aIExNdfh//YOiJlzJmqOObGwgkWYxJITU0FESE1NVXrpgheryjToEaCZTaLR4MPE0oXc1mdPw/8278BbrfWLRkwjrmxcILFmAT8fj9qamrg9/u1borQ2CgKgqqRYGVnA3Fxhk+wpIu5rFatAlavBj7/XOuWDBjH3Fg4wWJMAk6nEyUlJXA6nVo3RQiWaFBjknt0NJCba/gES7qYy+jsWWDdOvH81Clt2xIGHHNjidG6AYwxyLcAbG2teAxnDay2zGbD18KSLuYyWrNGPEZHD4oEi2NuLNyDxZgEfD4fqqur4fP5tG6KUFcHjBkjqq6rgUs1yBdz2Zw7J3qvHn0UGD0aaG7WukUDxjE3Fk6wGJOAy+VCeXk5XC6X1k0R1LqDMCg/X/SSGfiNRrqYy2bNGjEP8Mc/FgVvB0EPFsfcWHiIkDEJpKSkoLGxUetmXKJWkdGg/Hxxp2JDg7rnkZh0MZfJd99d6r0aOXLQJFgcc2PhHizGJODz+bB79255hg7U7sEKlmow8Dws6WIuk1dfBfx+0XsFDJoEi2NuLJxgMSYBt9uNyspKuGWo9dPaql4NrKCcHCA21tDzsKSKuUy++w547TXgkUeAUaPE1wZJgsUxNxYeImRMAsnJyaipqdG6GUJDA0CkboIVEyOGBg2cYEkVc5msXSuGj5944tLXggkWEWAyade2AeKYGwv3YDEmAa/Xi6qqKnhlWJ8vWANLzQQLEPOwDDxEKFXMZXH+PPCLX4jeq9GjL309IwPweACrVbu2hQHH3Fg4wWJMAq2trVizZg1aW1u1bopIsEwm9WpgBZnNhu7BkirmsvjFL8QQddveKwDIzBSPOh8m5JgbCydYjEkgKSkJ1dXVSEpK0roponxCVpZYzkZN+fnAyZNiMrMBSRVzGVy4IIYHH3lE9Fi1Ffxc57WwOObGwgkWYxJobW3Fpk2b5PjPVu07CIPy8y9NqDcgqWIug1/8QgwD/tu/dd4WTLAGQQ8Wx9w4OMFiTAJSzc2IZIIFGHYellQx11qw9+rhhzv3XgFAcjKQlKT7BItjbiycYDEmgaSkJOzevVuOoYNIJViXXy7uJjToPCypYq61114D3G7g3/+9++8ZBKUaOObGwgkWYxLweDxYs2YNPB6P1g0BmpoiU109JkYkWQZNsKSJudasVlFY9KGHLk1m78ogSLA45sbCCRZjEvD7/aiuroZf6wnf9fXq18Bqy8CLPksTc62tWwe4XD33XgGDIsHimBsLFxplTAKJiYmoqqrSuhmRq4EVlJ8PfPBBZM4lGWliriWbTSzq/NBDwJgxPX9vZqbu5+txzI2Fe7AYk4DH48Hzzz+v/dBBXR0QFQVkZ0fmfGYzcOIEEAhE5nwSkSbmWlq3DnA6e++9AkQPls7LNHDMjYUTLMYkEAgE0NjYiIDWiUZdXWRqYAXl54t5X998E5nzSUSamGvFbhe9Vw8+KH7nepORAZw9K5bR0SnDx9xgOMFiTAIJCQnYtGkTEhIStG1IXV1kJrgHBUs1GHAeljQx18r69YDDATz5ZGjfn5Eh5geeOaNuu1Rk+JgbDCdYjEnA7XajsrISbrdb24bU1kZu/hUgzhUVpfu5Nf0hTcy1YLcDP/85sGRJ6MPRg6DYqKFjbkCcYDHGLolUDayguDhDl2owrA0bRJIVau8VMCgSLGYsfBchYxIYMmQI1qxZo20j3G4xiTiSCRZg2FINUsRcCw7Hpd6rnJzQ9xs1SjzqOMEybMwNinuwGJOAy+XCkiVL4HK5tGtEfb145AQrIqSIuRY2bBDlGfrSewUAsbHAiBG6TrAMG3OD4gSLMQlERUUhOzsbUVEaviSDNbAiOckduJRgGezOKiliHmnB3qsHHgDGju37/pmZuk6wDBlzA+MhQsYkEB8fj+eff17bRtTWAtHRkauBFWQ2i0rezc2h3a4/SEgR80jbuFEsjfPUU/3bX+e1sAwZcwPjNJoxCbS0tKC8vBwtLS3aNaKuTiRXMRH+v8ugpRqkiHkkOZ3A6tXA/fcDl13Wv2PofLkcw8Xc4DjBYkwC0dHRKCkpQXR0tHaNiPQdhEHjxgEmk+ESLCliHkkbNwLnz/e/9wrQfYJluJgbHCdYjEkgPj4elZWViI+P164RWiVY8fFiPo5stbCIgEOHVDu8FDGPlLa9VwP5HdN5gmWomDNOsBiTgdPpRGlpKZxOp3aNiHQV97bMZvl6sP74R6C4GKiuVuXwUsQ8Un75S+C774Cnnx7YcTIyxER5hyM87YowQ8WccYLFmAxiY2NRXl6O2NhYbRrgcomeAS16sAA5SzXs2CEeq6pUObzmMY+UlhZg1SqgomLgv1/BYqOnTw+4WVowTMwZgDYJ1vHjx3HNNdegoKAA06dPR01NTZc7WCwWTJgwAWazGYsXL4bNZlO27du3D1OmTEFBQQFmz56Nb9os4NrT8b/99lvMmzcPZrMZkydPxscff6xsu++++5CVlYWpU6di6tSpeOKJJ5RtgUAAy5cvR15eHvLz87F+/fp2bX3xxReRl5eHvLw8rFixot22N954A2azGXl5eXjwwQfhvbiAqMPhQGlpKUaMGIGhQ4d2uv7z58/jnnvuQUFBAQoLC/Fkm1ouHo8Hy5Ytg9lsRlFREe69915l24wZM5RrmDx5MkwmE7744osuf8bMeOLi4rBkyRLERWqR5Y6+/lo8ap1gEWlz/o6IAItF1F7atk2Vdmke80j5z/8MT+8VoPtq7oaJORPoohtvvJE2b95MRERVVVU0bdo06shut9OoUaPoq6++IiKiRx99lH784x8TEZHf76e8vDz64IMPiIho9erVVFaMwvz1AAAgAElEQVRWpuzb0/Hvv/9+eu6554iIaP/+/ZSVlUWtra1ERFRRUUGvvvpqp7YQEW3ZsoVmz55NPp+Pzp07R2PHjqWjR48SEdFHH31EkyZNIofDQW63m4qLi8lisRAR0cmTJykzM5Oam5spEAjQrbfeSuvXryciIrfbTXv27KHDhw9TWlpap3MuWrSIVq9erXze3NysPH/sscdo2bJlFAgEOm1rq6qqiiZPntzltq5YrVYCQFarNeR9mL44HA6aOXMmORwObRrwzjtEAFFdnTbn37FDnL+pSZvzd/Tpp6I9zz4rHvftC/spNI95JLS0EGVkED3wQHiO9913Ih7btoXneBFmiJgbVFfv0yAiOn36NKWkpJDX6yUiokAgQKNHj6bjx4+3O8Bbb71FpaWlyuc1NTWUlZVFRCIxGj9+vLLNZrNRfHw8uVyuXo+flJTULhmZPn06vffee0TUc4I1f/58evPNN5XPn3jiCVqxYgURES1dupRWrlypbNuwYQPdc889RES0atUqevjhh5Vtu3btomuvvbbdsWtrazslWMePH6fs7Gzy+/2d2uJwOCglJSWkJGjevHndXlNXOMEa/FpbW+mtt95S/rGIuI0biaKjiS6+RiOupka8cX78sTbn7+iFF4hSU4lcLqJRo4gu/iMZTprHPBJefVX8Xp04EZ7jBQJEcXFE69aF53gRZoiYG1RX79NRANDQ0IDMzEzEXKx/YzKZMHbsWNQHl864qL6+Hpe1qV9y+eWXo7m5GT6fr9O2lJQUpKamoqmpqcfjnzt3Dl6vFxnBrt+Lx2177rVr16KoqAgLFy7EZ5991mN7gvv1d1tPvvzyS2RnZ+ORRx5BcXExbr75Zhw+fBgAcOLECQwfPhwvv/wypk2bhuuvvx579uzpdIyGhgZ89NFH7YYPO/J4PLDZbO0+ACjLK7jdbmU1dpfLBY/HA0DUWAk+dzqdaG1tVZ63HQL1+XwAALvdrjy32Wzw+/3K80AgACKCzWYDESEQCCjt8Pv9ynOfzwe73a48d1ycfOr1epWJnK2trcpzj8ej1IDxeDx8TRevKTY2FvPnz1d+ByJ+TXV1oJwcOC+2K+JxuuwywGSC68gROeJkscA3dy48JhOweDECVVVobXN94fjdc7lcKC8vR1RU1OB8PZ0+DfzsZwjcey/sI0eG55o8HiAjA96GBl3+jYiNjcVtt92mnF+KOA3G3z2Nrqkj6Se5v/TSSzh58iSOHDmC73//+7jllluUH1Kk+Xw+7N+/H3fddRc+/fRTPP7441i4cCG8Xi98Ph++/vprTJo0CQcPHsRrr72G733vezjdYTLmb37zGyxcuBAjRozo9jwrV65EWlqa8pFzcUHU4Pyzp59+Gk9fnM+wfPlyrFy5EgBQUVGBDRs2AAAWL16MrVu3AgDmzJmD7du3AxBzwYKJ38SJE3HgwAEAQHZ2No4dOwYASEtLQ1NTE+x2O9LS0mC329HU1IS0tDQAwLFjx5B9sdr3gQMHMHHiRADAnj17MGPGDADA9u3bMWfOHADA1q1bsXjxYgDAhg0bUFFRoVzn8uXL+Zq2boXD4cDIkSPxu9/9Tptrqq1Fc3y8dnG6WOT01Ucf1TxO61asAA4cwMb6enFNZWWI+vpr7Hrxxb5dUwhxKiwsxKFDhwbl6+nFyy4DzpzBZwsWhPeaMjLw1+3bdfk3wuFwIDs7Gz/4wQ+kidNg/N3T4pq67DQhUm+IMC4uLqQhwsTExG6HCDsqKCiggwcPElHkhwgPHDhAOTk57b42YsQIOn78OJ05c4aioqLI5/Mp26ZNm9buOgKBAI0bN47efffdLq8tyO12k9VqVT4aGhoIAJ06dYqIiFwuF7lcLiIiamlpIbfbTURETqdTee5wOMjj8SjPg13SdrtdiYPNZlOeW61Wpe1Wq5X8fj8FAgGyWq0UCATI7/crXZ8+n0957vV6yWazKc/tdjsRia7w4DwDj8ejPHe73eR0OpXnLS0tfE0eD3m9Xtq+fbuyb8Sv6eqryVdRoW2cZs+m1kWLNI9T68aNRFFR5Pz6a3FNXi8F0tPJd3GYMFy/e+fOnaN3331Xeb1r9bsXzmtS4uRwkD8jg6iiIvzXdNtt5Js3T5d/I7xeL7399tvKvprHif+Wh+2ampqaup6DRUQ0a9asdpPQi4uLqSObzUYjR45sN8n9Rz/6ERGJSe65ubntJrnfeeedyr49Hb+ioqLdJPcxY8YoP/CGhgbl+6qrqyk9PZ0uXLhARESbN2/uNMn9iy++ICKiDz/8sNMk9507dxIR0YkTJzpNcl/XYUy/qwQrEAhQYWEhff7550REtG/fPkpPT1d+wHPnzqVdu3YRkZhIn56eTo2Njcr+77//PuXk5HQ5h6snPAeLqW7UKDHvSEsPPUR05ZXatoGIaNEiog7/cNGDDxLl5Yk5QKx3r70m5l51+Cc9LB56iKiL9yfGtNTtJHciomPHjtHMmTPJbDZTcXGxkqg888wztHHjRmWHHTt20Pjx4ykvL49uv/12JdkhIvrkk0+oqKiIzGYzzZo1i+rr66m34xMRnTp1iubOnUv5+fk0adIkJUkjIrrpppto8uTJNGXKFJo5c2a7bT6fj5YuXUrjxo2j3NxcWrt2bbsLfuGFF2jcuHE0btw4evLJJ9tte/311yk3N5dyc3PpgQceaDfpsKioiDIyMshkMlFWVhbde++9yraDBw/S1VdfTUVFRTRt2jTau3evsu3EiRN0ww030OTJk+mKK66gbR3udLn77rvp2Wef7RyZXnCCNfjZbDbKyspS/tuKKKdTTDDfsiXy525r1SqilBRtkxiXiygpiahN7zcREe3eLX5Ghw+H7VSaxlxNLhfRmDFE//qv6hz/2WeJLo6c6M2gjTnr8n3aRCRL4RnWHZvNhrS0NFitVqSmpmrdHKYCn8+HAwcOYPr06crNIBHz1VfApEnAxx8D118f2XO39Yc/AIsXixpHo0dr04bdu4F584AjR4DJky993esVbVq6FLg4F2ugNI25mtavB/73/waOHRMV+sPtl78Eli8HPB4gSvppxO0M2pizLt+n9fXbydggFRMTg5KSEm3+6NbWiketiowGBd+MtazobrEAl10GFBa2/3psLLBokajqHqb/STWNuVo8HuCnPwXuuUed5AoQxUZ9PlG8VGcGZcxZtzjBYkwCNpsNqamp7VZGiJi6OiAmBhgzJvLnbis3VzxqlWAFq7cvXAiYTJ23l5cDf/87cPRoWE6naczV8sYbQHMz8JOfqHeOYEmf5mb1zqGSQRlz1i1OsBiTQFJSEqqrq5GUlBT5k9fVAWPHAtHRkT93W4mJQFaWdglWTY34WSxc2PX2m24C0tLE0jlhoGnM1eDxACtXAnffDRQUqHceHS+XM+hiznrECRZjEoiOjkZhYSGitUhy6uqAceMif96u5OcDx49rc26LBUhKAm64oevtcXHA7beHbfFnTWOuhl//GvjmG3V7r4BL8/N0mGANupizHnGCxZgEbDYbTCaTdkOEWs+/CjKbtevBsliAuXOBIUO6/57ycnFTwJdfDvh0msY83Nr2Xk2YoO65EhJET6IOE6xBFXPWK06wGJNAcnIyGhoakJycHPmT19bKk2Dl54sEK9I3N589C1RXdz88GDR3LpCSEpZhQk1jHm6/+Q3Q2Kh+71VQRoYuE6xBFXPWK06wGJOAyWRCamoqTF1NrlaTwyGSC5kSLKsVOHcusud9910gEADarAfZpfh44LbbwpJgaRbzcGttBV5+Gfje94CLy5KoTqcJ1qCJOQsJJ1iMSaDtuloR9fXX4lGmBAuI/DwsiwWYNg3IzOz9e8vKRJ2sv/1tQKfULObh9pvfAA0NwDPPRO6cmZm6TLAGTcxZSDjBYkwCKSkpsFqtSElJieyJ6+rEo0yT3IHIzsPyekUPVm/Dg0GlpUBy8oB7sTSLeTgFe6/++Z9FsdpIycjQZZmGQRFzFjJOsBiTABHBZrMh4gsr1NWJIpqh9NxEQlKSaEskE6w//1kMS956a2jfn5AgkrEBJliaxTyctmwB6usj23sF6HaIcFDEnIWMEyzGJOBwOJCTkwOHwxHZE9fWisrlMi05EpzoHikWiyiyeuWVoe9TVgZ89tmA2qlZzMPF6xW9V+XlnSvfqy0jAzh/Xty9qCO6jznrE4n+qjJmXKmpqSCiyK81KVOJhqBI18KyWIAFC7qu3t6dW24RhVEH0IulWczDZetW8fsT6d4r4FKx0dOnI3/uAdB9zFmfcILFmAT8fj9qamrg9/sje2IZE6xI1sL6+9/FR6jzr4ISE0VSNoAES7OYh0NrK/DSS6Inr+2i2JGi02ruuo456zNOsBiTgNPpRElJCZxOZ2RPLFMV96D8fDH8E4nFfHftEqUXbrqp7/uWlQGffnppsew+0izmA9XQAMyeLR6ffVabNug0wdJtzFm/cILFmASCC8BGdOjAbhf1pmTrwYpkqYadO0Wy0J+14ebPF1Xf+9mLpUnMB+qPfxRz1errgY8+AoqKtGnHiBFi3qDOEixdxpz1GydYjEnA5/OhuroaPp8vcicNlmiQNcFSe5jwwgXgf/6n78ODQcnJIsnqZ4KlScz7y+sFnnxSDIvOnAkcPgxcc4127YmOFmsS6izB0lXM2YBxgsWYBFwuF8rLy+FyuSJ3UlkTrJQU8eapdoL1pz8BPl//EyxADBPu33+pYGsfaBLz/mhsBG68Efj5z4FVq4C33wbS07VulS5rYekm5iwsOMFiTAIpKSlobGyMbAHCujox/yg4n0UmkSjVYLEAV1wBjB3b/2MsWCB+hv/9333eVZOY99U77wBTp4oE8uOPgSeekKekhw5rYeki5ixsJHmlMGZsPp8Pu3fvjvwQoWw1sILULtXg94v5RAPpvQKA1FRR2b0fw4SaxDxUPh/w1FNiCHTGDFHzS8shwa7oMMGSOuYs7CT8y8qY8bjdblRWVsLtdkfupLW18g0PBqndg7Vvn5jgP9AECxCFNqurxVBaH2gS81AEhwRXrxZDgjt3yjEk2JEOEyxpY85UwQkWYxJITk5GTU0NkpOTI3dSGWtgBZnNIgE6f16d41ss4k60q68e+LFuvVUsN/T//l+fdtMk5r15911xl2BtrbhLUKYhwY6CCZaOlp2RMuZMNZK+chgzFq/Xi6qqKni93sidVOYEK3gn4YkT6hx/504x/BUdPfBjpaUBN98MVFX1aTdNYt4dnw94+mlRoX76dDEkeO21WreqZxkZgNsN2GxatyRkUsWcqY4TLMYk0NraijVr1qC1tTUyJ7RaRe+QrAlWXp54VGMeVl0dcPRo6Is7h6KsDPjLX4CmppB3iXjMu/PNN6IW2KpVwE9/eql3T3bBBcp1NEwoTcxZRHCCxZgEkpKSUF1djaT+FLzsj2BZAdmquAcNHSre5NWYh7VrFxATI3qdwuX220Vv2B/+EPIuEY95V3bvFncJnjwJ7N0L/Pu/yzsk2JEOq7lLEXMWMTp5JTE2uLW2tmLTpk2R+882uLyLrD1YgHprEloswKxZ4g7AcBk2DJgzp093E0Y85m35fMCKFcC8ecC0aWJI8LrrIt+OgQgmWDqqhaVpzFnEcYLFmAQiPjejrk4s8zJ6dGTO1x9q3EnocAAffBCeuwc7KisTtaJOnw7p2zWbj9PUJNZe/NnPgJUrRY+eHoYEO0pOFotu66gHi+dgGQsnWIxJICkpCbt3747c0EGwBpbJFJnz9YcatbD27AFaW9VJsBYtEj/PEIcJIx5zQFSvnzpV3Dzw4Ydi+Ru9DAl2ZDLprlSDJjFnmtHpK4uxwcXj8WDNmjXweDyROaHMdxAGmc3AmTNiQn647NwJjB9/6S7FcEpPF5PFQxwmjGjMfT7gJz8RQ4LFxWItweuvV/+8atNZghXx1znTFCdYjEnA7/ejuroafr8/Miesq5N3gntQuEs1BAJiOCycdw92VFYmeobOnOn1WyMW8+CQ4E9/Crz8svgZjByp7jkjRWcJVsRf50xTnGAxJoHExERUVVUhMTExMieUuYp7UDDBCtc8rEOHxJuxGsODQYsWicft23v91ojEPDgk+I9/6H9IsCs6S7Ai/jpnmhpErzTG9Mvj8eD555+PzNDBhQti2E32BGvYMGD48PDNw7JYRPkHNdfUGzUKuOGGkIYJVY25zwc884wYErzyysEzJNhRZqauEqyIvs6Z5jjBYkwCgUAAjY2NCAQC6p+srk48yp5gAeEt1WCxiIQjNjY8x+tOWZmYTH/uXI/fplrMW1uBO+4Qw4Evvgi8845I/AajjAwxHKuTIbeIvs6Z5jjBYkwCCQkJ2LRpExISEtQ/mZ4SrHCVamhqAj79VN3hwaA77hDzvXbs6PHbVIm5zwfcfbcYGty1Syx/M5iGBDvKyBA/62+/1bolIYno65xpbhC/8hjTD7fbjcrKSrjdbvVPVlcHJCToo1cjXAnWrl0i0Zg3b+DH6k1GBvBP/9TrMGHYY+73A/fdB7z9tjh3JK5Vazqr5h7R1znTHCdYjBlNcIK7zDWwgvLzxZun3T6w41gsYu5Venp42tWbsjLg/ffFeo+RQAT84AfAm28Cv/2tundKykRnCRYzFk6wGJPAkCFDsGbNGgwZMkT9k+mhBlaQ2SweB1KqweUSyU4kk47FiwGvV/QmdSNsMScCHnsM2LQJ2LwZKC8f2PH0JNgLq5MEK6Kvc6Y5TrAYk4DL5cKSJUvgcrnUP5meEqxwlGrYuxdoaYnM/KugMWOAa6/tcZgwbDFfsQJ47TVg40bgX/91YMfSm7g40SupkwQroq9zpjlOsBiTQFRUFLKzsxGl9oRkIn0UGQ0aPlyUVhhIgmWxiOudODF87QpFebmYbN5NJfqwxPyll8R6gq+8IoYIjUhHtbAi9jpnUuAoMyaB+Ph4PP/884iPj1f3RBcuADabfnqwTKaBrUlIJBKshQsjP+ds8WJRMsFi6XLzgGP+6qti+Zv/83+AysoBNFTndFQLK2KvcyYFTrAYk0BLSwvKy8vR0tKi7olqa8WjXhIsYGC1sI4cAerrIzs8GJSTA8ycCVRVdbl5QDH/5S9FUvXkk2KI0MgyMoDmZq1bEZKIvc6ZFDjBYkwC0dHRKCkpQXR0tLon0lMNrKCBlGqwWIDkZGDWrPC2KVRlZcC773Z5F2S/Y751K/DII8APfyiKierhblA16WiIMGKvcyYFTrAYk0B8fDwqKyvVHzqoqwMSE4ERI9Q9Tzjl54tCoU5n3/e1WICbbwa0GpIpKwM8HlGHq4N+xbyqCrj/fmDJEjFEaPTkCtBVghWx1zmTAidYjEnA6XSitLQUzv4kEX0RnOCupzfm4J2EfS3VcOYM8Ne/ajM8GHTZZcD06V0OE/Y55hYL8C//Atx1lxgi5InSQkaG6CFU+7UTBhF7nTMp8CuUMQnExsaivLwcsWqvk6enEg1BwVpYfR0mfOcdMcl9/vzwt6kvysqAP/4RcDjafblPMX//feDOO0Utry1bAB5iuiRYbPT0aW3bEYKIvc6ZFDjBYkwCcXFxWLJkCeLi4tQ9UbCKu56MGAGkpvY9wbJYgKuvBkaPVqddoSorA9xukfC1EXLM//xn4PbbgZtuEpXaY2JUbKwO6aiae8Re50wKnGAxJgGn04mSkhJ1hw6CNbD0lmD1p1RDa6uYXK7l8GBQbi5w1VWdio6GFPMDB0QP3IwZwH//t3ZzyWSWmSkedZBgReR1zqTBCRZjEoiLi0NlZaW6/9l+950YptJbggX0/U7C//kfMS9HhgQLEL1YFouoKH9RrzH/4gugtBSYPFksuZOQEKHG6sywYUBsrC4SrIi8zpk0OMFiTAIRmZsRLNGglyrubfW1FpbFAmRlAVOnqtemvigrE8nVu+8qX+ox5seOAXPmiFi9844oNcG6ZjLpphYWz8EyFk6wGJOAw+FAYWEhHB0mQoeVHmtgBeXnA42NYuHm3hABO3dqU729O2YzMGVKu2HCbmN+4oSYbzVqFLB7N5CWFuHG6pBOSjVE5HXOpMEJFmMSGDJkCNasWYMhQ4aod5LaWtETMny4eudQS19KNfz97+L7ZBkeDCorE4nfxSSxy5g3NIjkKilJ3Dmop3plWtJJghWR1zmTBidYjEkgJiYGpaWliFHzDrHgBHdZenX6IphghTJMaLEAQ4YAs2er26a+KisTc+D+9CcAXcT81CmRXAHAnj2X7o5jvdNJghWR1zmTBidYjEnAbrcjOzsb9i6WVAkbPd5BGDR6tOh9CyXB2rlTJCqJieq3qy8mTAAKC5VhwnYxP3tWzLlyOoEPPhDrGLLQ6STBisjrnEmDEyzGJJCQkICqqiokqHmnWLCKux4FSzX0lmCdPy/qRsk2PBhUXi7uCPR4LsXc4xF3C377rei5ys3VupX6k5EhCo0GAlq3pEcReZ0zaXCCxZgEYmJiUFJSot7QgV5rYLUVSi2s3bsBvx9YsCAybeqrsjLAZgPee0/EvKgIMbfdJubHvf++6OVifZeZCXi9IsGWmOqvcyYVTrAYk4DNZkNqaipsNps6Jzh7Vgw/6T3B6q0Hy2IRpRlkHWKbNEkkUdu2wXb6ND4aOhR09KhIDK+4QuvW6ZdOqrmr/jpnUuEEizEJJCUlobq6GklJSeqcQM8lGoLMZnGXndvd9XafT9SMknV4EBBDneXlwI4dSKmowPVxcQjs3CkWhGb9F0ywJK+FpfrrnEmFEyzGJBAdHY3CwkJEq7WI72BIsPLzxVBnbW3X2//6V1GtXuYECxDDhBcuwLR3L6LefhvRs2Zp3SL9C643KXkPluqvcyYVTrAYk4DNZoPJZFJv6KCuTiyYPGyYOsePhGCphu7mYe3cCYwcKX9vUFERUFkJ529/C9PcuTxcFA6JieL3W/IES/XXOZMKz7RjTALJycloaGhAslpLoui5BlZQZqZ4I+1uHpbFIia3R0n+f6PJBLzyChICAXVjbjQ6KNWg+uucSUXyv0SMGYPJZEJqaipMaiVAtbX6Hh4Eei7VcPIk8OWX8g8PtqF6zI1GBwkWx9xYOMFirDf79gFnzqh6CrvdjrS0NPUKEOq9RENQdwnWrl1AbCxw882Rb1M/qR5zo9FBgsUxNxZOsBjrSSAAzJsHPPusqqdJSUmB1WpFSkpK+A8+GGpgBXVXC8tiAW64AVDj56cSVWNuRJmZ0idYHHNj4QSLsZ7U1gIXLogeEiLVTkNEsNlsIDXOceaMWGBYr1Xc2zKbgfp6wOO59DW7Hdi7V1fDg4DKMTciHfRgccyNhRMsxnpy6JB4bGgAjhxR7TQOhwM5OTlwOBzhP/hgKNEQlJ8vehWD1wQA770HtLbKW729G6rG3IgyMoBz58TvgqQ45sbCCRZjPTl8WNTYSUoSvVgqSU1NBREhNTU1/AcP1o0aLAkW0H6Y0GIBJk4E8vK0aVM/qRpzIwoWGz19Wtt29IBjbiycYDHWk0OHRF2luXNVTbD8fj9qamrg9/vDf/C6OiAtDRg6NPzHjrQxY4AhQy5NdA8ERFx0NjwIqBxzI9LBcjkcc2PhBIux7hCJBOuqq8TwU3W1GIJQgdPpRElJCZxOZ/gPPlgmuAOixlXbOwkPHgS+/Ra49VZt29UPqsbciHSQYHHMjYUTLMa609QkJohfeSUwf77oLXn3XVVOFVwAVpWhg7q6wTHBPahtgmWxiOr0JSXatqkfVI25EY0cKRJwiRMsjrmxKAnW8ePHcc0116CgoADTp09HTU1NlztYLBZMmDABZrMZixcvblfyf9++fZgyZQoKCgowe/ZsfPPNN8q2no7/7bffYt68eTCbzZg8eTI+/vhjZdt9992HrKwsTJ06FVOnTsUTTzyhbAsEAli+fDny8vKQn5+P9evXt2vriy++iLy8POTl5WHFihXttr3xxhswm83Iy8vDgw8+CK/XC0BMQiwtLcWIESMwtIshlfPnz+Oee+5BQUEBCgsL8eSTTyrbPB4Pli1bBrPZjKKiItx7773KNiLC888/j4KCAhQVFeHGG2/s8ufLJHL4sHi86ioxNHXllaoNE/p8PlRXV8Pn84X/4IOhyGhbbUs1WCzALbcAMfpblELVmBtRdDQwapTUCRbH3GDoohtvvJE2b95MRERVVVU0bdo06shut9OoUaPoq6++IiKiRx99lH784x8TEZHf76e8vDz64IMPiIho9erVVFZWpuzb0/Hvv/9+eu6554iIaP/+/ZSVlUWtra1ERFRRUUGvvvpqp7YQEW3ZsoVmz55NPp+Pzp07R2PHjqWjR48SEdFHH31EkyZNIofDQW63m4qLi8lisRAR0cmTJykzM5Oam5spEAjQrbfeSuvXryciIrfbTXv27KHDhw9TWlpap3MuWrSIVq9erXze3NysPH/sscdo2bJlFAgEOm1bu3Yt3XHHHeTxeDpt643VaiUAZLVaQ96HhcELLxANH050MZ70zDNEw4YReb1hP5XNZqOsrCyy2WzhPfCZM0RRUUSbNoX3uFr65S/FNZ08SQQQ/fa3WreoX1SLuZFNnUq0dKnWregWx3zw6up9GkREp0+fppSUFPJefOMIBAI0evRoOn78eLsDvPXWW1RaWqp8XlNTQ1lZWUQkEqPx48cr22w2G8XHx5PL5er1+ElJSe0SjunTp9N7771HRD0nWPPnz6c333xT+fyJJ56gFStWEBHR0qVLaeXKlcq2DRs20D333ENERKtWraKHH35Y2bZr1y669tpr2x27tra2U4J1/Phxys7OJr/f36ktDoeDUlJSuk2CsrKy6G9/+1uX23rDCZZGFi0imjPn0ud//at4Q//4Y+3a1Fdbt4o2NzVp3ZLw2bNHXNOPfkQUHU107pzWLWKymDeP6I47tG4FM6Cu3qejAKChoQGZmZmIudjNbjKZMHbsWNTX17fr7aqvr8dll12mfH755ZejubkZPp+v07aUlBSkpg+JMocAACAASURBVKaiqampx+OfO3cOXq8XGcEJiheP2/bca9euRVFRERYuXIjPPvusx/YE9+vvtp58+eWXyM7OxiOPPILi4mLcfPPNOHxxGOnEiRMYPnw4Xn75ZUybNg3XX3899uzZA0CsoH769Gns2LEDM2bMwIwZM/D73/++2/N4PB7YbLZ2HwDgcrkAAG63G263W/ma52LRxZaWFuW50+lE68V6ME6ns90QaLB72m63K89tNptyZ4vNZkMgEGhXFC8QCCjt8Pv9ynOfz6cs++Dz+ZT6Ll6vV5nI2draqjz3eDxoaWlRnkt9TYcOITBlyqVrmjoVNGIEsGtX2K/J5/Nhx44dyr7huibvH/4ATJ8O38iRgyZO9tGjAQC0aRN8M2cCw4fr8pq+++477N69W3m9t/vdGwRx0uKavCNGINDcLO01+Xw+7Ny5U9nXqHEarNfUkfST3F966SWcPHkSR44cwfe//33ccsstmhVp8/l82L9/P+666y58+umnePzxx7Fw4UJ4vV74fD58/fXXmDRpEg4ePIjXXnsN3/ve93D69Gn4fD74fD64XC7s27cPv//97/H444/j888/7/I8K1euRFpamvKRk5MDAMr8s6effhpPP/00AGD58uVYuXIlAKCiogIbNmwAACxevBhbt24FAMyZMwfbt28HAMyYMUNJ/CZOnIgDBw4AALKzs3Hs2DEAQFpaGpqamtqtm9XU1IS0tDQAwLFjx5CdnQ0AOHDgACZOnAgA2LNnD2bMmAEA2L59O+bMmQMA2Lp1KxYvXgwA2LBhAyoqKpTrXL58uZTXVFJQANTX40hs7KVrevtt/BEAdu0K+zW53W7cfffd2LZtW9iu6W9HjqDlD38AFi4cXHGaOROIj4fJasXKi8Vf9XhN6enpqKysxBdffDHoX0+Ruqb//stf4Lh4A4SM1+R2u/HAAw9g2bJlho7TYLymtnOuFUTqDRHGxcWFNESYmJjY7RBhRwUFBXTw4EEiivwQ4YEDBygnJ6fd10aMGEHHjx+nM2fOUFRUFPl8PmXbtGnTlOtITk6mEydOKNvKysroV7/6VZfX6Ha7yWq1Kh8NDQ0EgE6dOkVERC6Xi1wuFxERtbS0kNvtJiIip9OpPHc4HMp8L4fDocxps9vtShxsNpvy3Gq1Km23Wq3k9/spEAiQ1WqlQCBAfr9f6fr0+XzKc6/Xq8wn8Hq9ZLfbiYiotbWVHA4HERF5PB7ludvtJqfTqTxvaWmR8pqcO3YQAeQ9erTdNbkuDrl5/v53+a/pT38SQ2mHDg2+OE2cSASQ4+LfgkFxTTR4X0+Ruib3z35GgYQEokBg0FzTYIzTYLympqamrudgERHNmjWr3ST04uJi6shms9HIkSPbTXL/0Y9+RERikntubm67Se533nmnsm9Px6+oqGg3yX3MmDHKD7yhoUH5vurqakpPT6cLFy4QEdHmzZs7TXL/4osviIjoww8/7DTJfefOnUREdOLEiU6T3NetW9fuWrtKsAKBABUWFtLnn39ORET79u2j9PR05Qc8d+5c2rVrFxGJifTp6enU2NhIREQPPvggbdiwgYhIaeu+ffs6/Yy7wnOwNLBqFVFyMlHH+XYXLhDFxBBdjGW4tLa20ltvvaX83ofFY48RjRlzaZL+YHL77US5ubq+NlVibnS/+534p0LSv5Uc88Gr20nuRETHjh2jmTNnktlspuLiYiVReeaZZ2jjxo3KDjt27KDx48dTXl4e3X777UqyQ0T0ySefUFFREZnNZpo1axbV19dTb8cnIjp16hTNnTuX8vPzadKkSUqSRkR000030eTJk2nKlCk0c+bMdtt8Ph8tXbqUxo0bR7m5ubR27dp2F/zCCy/QuHHjaNy4cfTkk0+22/b6669Tbm4u5ebm0gMPPNDuF76oqIgyMjLIZDJRVlYW3Xvvvcq2gwcP0tVXX01FRUU0bdo02rt3r7LtxIkTdMMNN9DkyZPpiiuuoG3btinbzp49S7feeisVFhZSYWGhkmyFghMsDdx1F1GHXk3FDTcQzZ8f1tM5HA6aOXOm8p/UgAUCRHl5RA89FJ7jyeboUXHTgY6FPeaMaO9ekWD184YitXHMB6+u3qdNRLyst+xsNhvS0tJgtVq5QF2kTJgglsdZt67ztldeAX7yE1HVPTEx8m0Lxd/+Jq5h505dLiPDWL/8/e/A+PHARx8B//RPWreGGUhX79PST3JnLOIcDvGH+qqrut6+YAHgdgMffhi2U7a2tmLTpk3KnTUDtnOnWLNv9uzwHI+FXdhjzqRfLodjbiycYDHW0eefi3UIr7yy6+3jxwO5uaKKeJh4vV5UVVUptysPmMUCzJkjbw8bC3/MGZCSAiQkABdLNciGY24s+ltfgjG1HT4MxMUBkyZ1vd1kEr1Y27eLRMxkGvApk5KSsHv37gEfBwBw/jzw5z8DF28fZnIKa8yZYDKJXixJe7A45sbCPViMdXToEDB5skiyurNwIdDQABw9GpZTejwerFmzRilaNyDvvgv4/SIJZNIKa8zZJRInWBxzY+EEi7GODh/ufv5V0KxZQFJS2BZ/9vv9qK6uVqoVD4jFIoY3LxbbY3IKa8zZJRInWBxzY+EEi7G2PB7RK9Xd/Kug+HgxxylM87ASExNRVVWFxIHOmfL5gHfe4TsHdSBsMWftSZxgccyNhRMsxtqqqRFJSm89WIAYgquuFuUaBsjj8eD5558f+NDBJ5+IOVi33jrgNjF1hS3mrD2JEyyOubFwgsVYW4cOAVFRwBVX9P698+cDgQAQhkmrgUAAjY2NCAQCAzuQxQKMHg0UFw+4TUxdYYs5ay8zE/j2WzEPUTIcc2PhQqM6wIVGI+jRR4G9e0VPViiuukoU9Pztb1VtVsgmTgSuuQZ44w2tW8KYNnbuBG67TfRijR6tdWuYQXChUcZ6c+hQ7/Ov2lqwQNy15/MN6LRutxuVlZVwu939P8g//gEcO8bDgzoRlpizzoLFRiWshcUxNxZOsBgL8vtFkdFQ5l8FLVwo5jz99a/qtStUFosoLTFnjtYtYUw7kldzZ8bBQ4Q6wEOEEfLll0BhIfDBB8CNN4a2TyAg/qB///vAypXqtq83c+YAsbHiLkLGjMrjEctEbd4M3Hef1q1hBsFDhIz15PBh8diXIcKoKOCWWwZcrsHlcmHJkiVwuVz9O4DNJha45fIMujHgmLOuxccDw4dL2YPFMTcWTrAYCzp0CBg3Dhg6tG/7LVggamfV1/f71FFRUcjOzkZUVD9fkrt3i3lgnGDpxoBjzronaakGjrmx8BChDvAQYYTMni3+8922rW/7XbgAjBwJvPYa8Mgj6rStNxUVogfuiy+0OT9jMrnpJvGa/N3vtG4JMwgeImSsO0QiQenL8GDQ0KHAddcNaNmclpYWlJeXo6Wlpe87+/3AH//IvVc6M6CYs55lZkrZg8UxNxZOsBgDgLo60RPVlzsI21qwANizB+jnH87o6GiUlJQgOjq67zvv2wecPcvlGXRmQDFnPZN0iJBjbiycYDEGiPlXQP96sACRYLndwIcf9mv3+Ph4VFZWIj4+vu87WyzAiBHA1Vf369xMGwOKOetZRoaUdbA45sbCCRZjgBgezMy8VEOnryZMAHJz+z1M6HQ6UVpaCqfT2fedd+4Uy/bwf8W6MqCYs55lZIg7ayUbiuOYGwsnWIwBfa/g3pHJJHqxdu0S87n6KDY2FuXl5YiNje3bjnV14g5GHh7UnX7HnPUu+I/S6dPatqMDjrmxcILFGCB6sPo7/ypowQJRquHo0T7vGhcXhyVLliAuLq5vO1osQEwMcPPNfT4n01a/Y856J2k1d465sXCCxVhzs/hDPJAeLACYNQtITOzXMKHT6URJSUnfhw4sFnFeLt+hO/2OOeudpAkWx9xYOMFiLFjBfaA9WEOGAHPn9ivBiouLQ2VlZd/+s3U4xKR6Hh7UpX7FnIVm+HCxbJRkCRbH3Fg4wWLs0CFg2DDgsssGfqwFC4BPPgG++65Pu/VrbsZ77wGtrVz/Sqd4Po6KoqKA0aOlS7A45sbCCRZjwQKjJtPAjzV/vlgA+t13+7Sbw+FAYWEhHA5H6DtZLMDEiUBeXh8byWTQr5iz0ElYqoFjbiycYDE20DsI28rKEsfq4zDhkCFDsGbNGgwZMiS0HQIBcQ7uvdKtPsec9Y2ExUY55sbCCRYztvPnRamDgc6/amvBAtGD5fOFvEtMTAxKS0sRExMT2g4HD4pb0DnB0q0+x5z1jYQJFsfcWDjBYsYWnOAerh4sQCRY330H/PWvIe9it9uRnZ0Nu90e2g4Wi5g3ds01/Wwk01qfY876RsIEi2NuLJxgMWM7fFiUVigoCN8xp08XS9f0YZgwISEBVVVVSEhICG2HnTuBW24RNbCYLvU55qxvgglWPwr/qoVjbiycYDFjO3QImDIlvMvMREeLye59SLBiYmJQUlIS2tBBYyPw2WdcnkHn+hRz1ncZGYDXK6YBSIJjbiycYDFjC0cF964sWAAcOSIqu4fAZrMhNTUVNput92/etUskcaWlA2wk01KfYs76LjNTPEo0TMgxNxZOsJhxOZ3AsWPhnX8VdPPNIgkKsRcrKSkJ1dXVSEpK6v2bd+4ErrtOzMFiutWnmLO+k7CaO8fcWDjBYsb1xRdifoYaPVhDh4okKMQEKzo6GoWFhYjubaiypQXYs4eHBweBkGPO+mf0aPEoUS0sjrmxcILFjOvQIbGcRmGhOsdfuBD44APA5er1W202G0wmU+9DB3v2AG43l2cYBEKOOeufpCQgJUWqHiyOubFwgsWM6/BhYPJkQK11wRYsEMnV/2/vzuOqrrP/gb8uoIIs10QNBFxAcEUpJbWmn+YSGra5VJMW5pKTaQtmY/qd0kotbchKW9RyskbHcCYdtcYc0qlJXEgci8IxdRIDd70bd7/n98cbPomAIt573597P+f5ePDwwucu58ORy+H9fn/Oe/v2K941KioKZWVliIqKuvwdN28GUlOBzp29FCSTpcE5Z42nslYNnHNt4QKLaZc3O7jXpUsXoGNHURRdgU6nQ0xMDHSX266HSDwXj14FhQblnF0blRVYnHNt4QKLaZPDAXz/vW/WX1XT6cQo1pYtV+zFYzKZoNfrL9+AsLgYKC/nAitINCjn7NqorMDinGsLF1hMm0pKRI8cX45gAaIYOnZMvN5lREdHw2AwIDo6uv47bd4MxMQAt97q5SCZDA3KObs2KiuwOOfawgUW06biYjHC1KuXb19nwADRKf4KVxMSEYxGI+hyI12bNgHDhomF+SzgNSjn7NrEx6uqwOKcawsXWEyb9u0TC8V93Y8mPBwYMuSK67DMZjOSkpJgNpvrvkNFhdjgmdszBI0r5pxdu7g44MwZMVqtApxzbeECi2mTrzq41yU7G9i5U2wAXY+YmBgQEWJiYuq+w2efASEhYgSLBYUr5pxdu+pmoydPyo2jCudcW7jAYtrjdou9/Hy9/qpadjbg8QBbt14mJDdKSkrgdrvrvsOmTUD//mITaRYUrphzdu1U1s2dc64tXGAx7Tl0SHRE99cIVkICkJFx2WlCi8WC/v37w2Kx1D5oswHbtvH0YJC5bM6Zd6iswOKcawtv6c20Z98+8W9Ghv9eMzsbeOcdMXpWxzYZl90AdscOURBye4agwpv++kHr1uJiFpUUWJxzbeERLKY9xcVAhw5Ay5b+e80RI8QarF276jzscrlQWFgIl8tV++CmTaJhabduPg6S+dNlc868IyxMFFkqKbA459rCBRbTHl93cK9LZqZYP1VPuwar1YoxY8bAeum+hRd3b+fuz0Gl3pwz71JRqwbOubZwgcW0hci/VxBWCw0Fhg+vdx1WdHQ0jh8/XrsB4XffiUalPD0YdOrNOfMuFTUb5ZxrCxdYTFt+/hk4f97/I1iAWIdVXTBdwuVyYevWrbWnDjZvBqKiRMNSFlTqzTnzLhUVWJxzbeECi2lLcbH4198jWACQlSVGsj77rNYhm82G3Nxc2Gy2mgc2bwZuvx1o1sxPQTJ/qTfnzLvi4kSjXhXgnGsLF1hMW/btA66/XqzL8LcWLYDf/KbOdVhRUVEoKSlBVFTUr188dUosiuf2DEGpzpwz76sewVLB9jScc23hAotpi4z1VxfLzgYKCoBLFrk6nU7k5+fDefGWHp9/Lv4dPtyPATJ/qTPnzPvi4kSbExVsT8M51xYusJi2yLiC8GLZ2aK42r69xpcdDgfy8vLgcDh+/eKmTcBNN4kRNxZ06sw58z4VNRvlnGsLF1hMO06cEGsxZI5gde0qelpdMk0YGRmJwsJCRFZvPu1wiK11eHowaNXKOfMNFRVYnHNt4QKLaUf1AneZI1g6nRjF2rKlxpoQh8OBlStX/vqX7VdfiSkNbs8QtGrlnPlG9XpLFRRYnHNt4QKLaUdxMaDXixEkmbKzRbuIkhLlS7XWZmzaBCQlAT17SgqS+Rqvx/GTmBggPFwVBRbnXFt4L0KmHdXrr2R3RB84EGjeXIxi9egBQEwdbN26VRwnEgUWd28PajVyznxHp1NNqwbOubbwCBbTDtlXEFYLDweGDKmxDstutyMvLw92ux348Ufg6FGeHgxyNXLOfEslzUY559rCBRbThgsXgCNH5K6/ulh2NrBzp9gAGoDb7UZhYSHcbrdoLtq8OTBokOQgmS/VyDnzLZUUWJxzbeECi2nD/v3iXzWMYAHAHXcAbre4UhBA8+bNkZ+fj+bNm4sCa8gQMdLFglaNnDPfUkmBxTnXFi6wmDbs2wdERACdO8uOREhMBDIylGlCu92OuXPnwl5eDnzzDbdn0AAl5zxd5HsqKbA459rCBRbThuJioFcvsRegWmRni27tbjc8Hg+OHz8O3datgMcjRrhYUKvOucfjkR1K8IuLE1tPSZ6a45xrCxdYTBtkd3CvS3a2WIO1axciIiKwcuVKNP3iC6B3b6BtW9nRMR+rznlERITsUIJffLwors6elRoG51xbuMBiwa+yEigtVc/6q2o33QS0agVs2QKbzYZnnnwS9PnnPD2oETabDbm5ubDZbLJDCX4q6ebOOdcWLrBY8DtwQEy7qW0EKzRUbORctQ6rY3k5dAYDt2dgzNuqCywV9MJi2sEFFgt+xcVAWJjS1FNVsrOBAwcQfvo0Hm/XTkxlqK0QZD4RHh6OvLw8hPPVor5XvWG65BEszrm2cIHFgt++fUD37kCzZrIjqS0rCwgNhePTT3Hi/ffhGjYMCOEfSy2wWq2YNGkSrFar7FCCX7NmwHXXSS+wOOfawu/kLPgVF6t3VKhFC+CWWxD23nuIMxhA2dmyI2J+EhISgsTERIRwQe0fKmjVwDnXFs4yC25OJ/Ddd+pb4H6xESMQ8sMPQHg4mgwfLjsa5ifNmjXD3Llz0UyNI6vBSAUFFudcW5QC69ChQ7j55puRlpaGzMxMlJSU1PmAzZs3o0uXLkhNTcXIkSNhNBqVY7t370avXr2QlpaGQYMG4ZdfflGOXe75T506hWHDhiE1NRU9evTAV199pRwbP348EhISkJGRgYyMDMycOVM55vF4MH36dKSkpKBTp05YunRpjVhffvllpKSkICUlBXPmzKlx7P3330dqaipSUlIwefJkZXdzs9mMrKwstGrVCi1atKh1/ufPn8fYsWORlpaG7t27Y9asWcoxu92OadOmITU1Fenp6Rg3bpxybODAgejYsaNyHq+//nqd31/mZT/8ADgc6h3BAsQ6LAD7WrRApeRQmP9UVlZizJgxqKzkrPtFfLz0AotzrjFU5bbbbqNVq1YREVF+fj716dOHLmUymahNmzb0448/EhHR448/Ts888wwREbndbkpJSaEvv/ySiIgWL15Mo0ePVh57ued/5JFH6IUXXiAioj179lBCQgI5HA4iIsrJyaHXX3+9VixERB9++CENGjSIXC4XnT17ltq1a0fff/89ERH961//om7dupHZbCabzUa9e/emzZs3ExHRkSNHKD4+nioqKsjj8dCdd95JS5cuJSIim81GBQUFVFxcTHq9vtZr3nPPPbR48WLl84qKCuX2U089RdOmTSOPx1Pr2IABA+jTTz+t8zyuxGAwEAAyGAyNerymffABkU5HZDTKjqR+Hg+5srNpw/jxZLPZZEfD/MRms9Ef//hHzrm/5OYSdekiNQTOeSO43UTLlhF9/jmRyyU7mnrV9XsaREQnT56k6OhocjqdRETk8Xjo+uuvp0OHDtV4gk8++YSysrKUz0tKSighIYGIRGHUuXNn5ZjRaKRmzZqR1Wq94vNHRkbWKEYyMzNp27ZtRHT5AuuOO+6gtWvXKp/PnDmT5syZQ0REU6dOpYULFyrHli1bRmPHjiUiokWLFtGUKVOUY1u2bKFbbrmlxnMfPXq0VoF16NAhSkxMJLfbXSsWs9lM0dHR9RZBXGBJMn06UVqa7CgYY7ItWkTUooXsKNjVmjWLCBAfiYlEs2cTXVKbqEFdv6dDAKCsrAzx8fEICwsDAOh0OrRr1w7Hjh2rMdp17NgxtG/fXvm8Q4cOqKiogMvlqnUsOjoaMTExKC8vv+zznz17Fk6nE3HVfUqqnvfi116yZAnS09MxYsQI7K/etLeeeKof19hjl/PDDz8gMTERjz32GHr37o3bb78dxcXFAIDDhw+jZcuWWLBgAfr06YNbb70VBQUFNR7/7LPPIj09Hffffz+OHDlS7+vY7XYYjcYaHwCUK09sNpvSqM5qtSr7WlVWViq3LRYLHA6HcvviKVCXywUAMJlMym2j0ajs8G40GuHxeEBEMBqNICJ4PB4lDrfbrdx2uVwwmUzKbbPZDABwOp2wWCwAAIfDody22+3K8Ljdbvf5OdG33wI33qj6c7JYLBg8eDAuXLigyTxp8ZwqKiqQlZVV42c80M9JzXlyt24NXLgA06lT0s7JYrFg6NChOHPmDOepAefkXrYMeOUV2ObPh/ubb4DsbNDSpUBqKmjAAFjfeQdkMqnmnC6l+kXu8+fPx5EjR/Ddd99h4sSJGD58uPJN8jeXy4U9e/bggQcewLfffounn34aI0aMgNPphMvlws8//4xu3bqhqKgIb775Ju6//36cPHkSAPDRRx/hv//9Lw4cOIBbb70VIy7TTHLhwoXQ6/XKR1JSEgAo689mz56N2bNnAwCmT5+OhQsXAgBycnKwbNkyAMDIkSOxevVqAMCQIUOwYcMGAEDfvn2Vwq9r167Yu3cvACAxMRGlpaUAAL1ej/LycphMJuj1ephMJpSXl0Ov1wMASktLkZiYCADYu3cvunbtCgAoKChA3759AQAbNmzAkCFDAACrV6/GyJEjAQDLli1DTk6Ocp7Tp0/32TklJSTAU3UFodrPqUmTJvjf//6Hzz//XHN50uo5tW3bFmPGjMGRI0eC5pzUnKfiqiajQ3v2lHZOTZo0QUREBJ599lnO0xXOaVqHDgh54gngiSfQZuFClOr1wLvvItJoxNk334Rbp0PE1KlA27awPvgghuv1AJG0c7p4zbWCyHdThE2bNm3QFGHz5s3rnSK8VFpaGhUVFRGR/6cI9+7dS0lJSTW+1qpVKzp06BCdPn2aQkJCyHXRHHGfPn3qPY9mzZrRmTNn6jxms9nIYDAoH2VlZQSATpw4QUREVquVrFYrERFVVlYq8/kWi0W5bTabyW63K7er17SZTCYlD0ajUbltMBiU2A0GA7ndbvJ4PGQwGMjj8ZDb7VaGPl0ul3Lb6XSSsWp9k9PpJJPJREREDoeDzGYzERHZ7Xblts1mI4vFotyurKz02TmZiorEsPK2bUFzTsGYJz4nPie/nNO+fUQAmf/5z+A5p2DMk9NJtGcPeZo3J/c99xBVxVjXORkPHCDPCy+Qp3178V6flkbu+fPJWFrq93MqLy+vew0WkVgjdPEi9N69e9OljEYjtW7dusYi9xkzZhCRWOSenJxcY5H7qFGjlMde7vlzcnJqLHJv27at8g0vKytT7ldYWEixsbF04cIFIiJatWpVrUXuBw4cICKi7du311rkvmnTJiIiOnz4cK1F7m+99VaNc62rwPJ4PNS9e3f6z3/+Q0REu3fvptjYWOUbPHToUNqyZQsRiYX0sbGxdPz4cXI6nUpxRES0fv16ateuXa3vb314DVYjrV0rfujqKWTVxGw2U79+/ZQfdBb8OOd+duqUeD9o5FpYb+CcN8Dhw0Rt2hD160dUVeBckdtNVFBANHYsUXg4UUgI0R13EOXnE/npgoJ6F7kTEZWWllK/fv0oNTWVevfurRQqf/jDH+idd95RHrBx40bq3LkzpaSk0N13360UO0REO3fupPT0dEpNTaUBAwbQsWPH6ErPT0R04sQJGjp0KHXq1Im6deumFGlERIMHD6YePXpQr169qF+/fjWOuVwumjp1KnXs2JGSk5NpyZIlNU543rx51LFjR+rYsSPNmjWrxrHly5dTcnIyJScn04QJE5SCjogoPT2d4uLiSKfTUUJCAo0bN045VlRURDfddBOlp6dTnz59aMeOHcqxw4cP08CBA6lHjx7Us2dPWr9+PRGJH6revXsrXx80aBDt37+//kxdggusRpo5k+gqClmZHA4HffLJJzX+H7Lgxjn3M7ebKCyM6KLfZ/7GOb+CM2eIOncm6tRJFMSNceEC0bvvEvXtKwrq2FiiJ54gKi72bqyXqOv3tI6IqPbEIVMTo9EIvV4Pg8GAmJgY2eEEjqFDgchIoGp+nzGmcYmJwKRJwNy5siNhl7LZgCFDgIMHgcJCoFOna3/OH34AVq0CPvoIOHlS9EN85BHgwQeB2Nhrf/6L1PV7WvWL3BlrFCKxB6GaO7hfxGw2o3v37tIu4GD+xzmXQHI3d855PTwe4OGHxXv2pk3eKa4AoFs3YPFioKwM2LgRaN8eyM0F2rYF7r8f+Mc/gKorLn2BCywWnMrKgHPn1N3B/SLh4eHIy25WwQAAIABJREFUy8tDeHi47FCYn3DOJZBcYHHO6/Hss8D69cCaNUC/ft5//iZNgLvuAj79FPjlF2DhQqCkBBg+XBRdc+YAP/3k9ZflKcIAwFOEjbBhA3DvvcDx40BCguxoGGNqMGmS2Jt0927ZkbBqb70FPPEE8OabQFVbBL8gAoqKgA8+ANauBQwG4NZbgQkTgNGjgaioq3o6niJk2lFcDLRuLYaCA4DJZEJiYqLSFI8FP865BJJHsDjnl/j0U+DJJ4EZM/xbXAGATgdkZgLvvANUVAB//jPQrJkosOLigIkTgX//WxRijcQFFgtO1euvdDrZkTRIREQE8vPzERERITsU5ieccwmqCyxJEzec84vs2iUWm48eDSxaJDeWiAgRy7ZtwNGjYspy+3YxotW5s5hS/OWXq35aLrBYcKrq4B4owsLC0L9/f2U7KRb8OOcSxMUBDgdQtSWVv3HOq/z0E3DnnUCfPsDq1UCIikqR9u2B558XMX75pVgT9tJLQLt2wB13iLViVdvjXImKzooxLzl1Svy1ESBXEAJi/j4mJkbZQ4sFP865BNV73kqaJuScAzh9Ghg2TLRJ2LgRUOuC/5AQ4LbbRAFYUQG8+y5w/jwwZoxYevLkk8BFeyPX+RR+CpUx/6nagDuQRrAiIyNRWFiIyMhI2aEwP+GcSxAfL/6VVGBpPueVlWLkymQCPv8caNlSdkQNo9cDkyeL/lw//CDWZ61bJ37H3HijWKh/7lyth3GBxYLPvn1ATAyQnCw7kgYLDQ1F9+7dERoaKjsU5ieccwmuv178K6nA0nTO3W5g7FhxFeeWLUDHjrIjapyuXcWasbIy4O9/Bzp0EL210tJq3ZULLBZ8iouBjAx1zetfgdFohE6n0/bUgcZwziWIihIfFRVSXl6zOScCnn5aFCTr1om1V4GuSRMxGve3v4klKS+9VOsugfMbiLGGCqAO7tWioqJQVlaGqKvsvcICF+dcEomtGjSb89dfF9Nob78NjBghOxrva9MGeOyxWl/mAosFF4MBOHw4oNZfAYBOp0NMTAx0AdJWgl07zrkkEgssTeY8P1/0uZo1C5gyRXY0fsUFFgsu1Vd1BNgIlslkgl6v5waEGsI5l0RigaW5nP/738BDD4keU/Pny47G77jAYsGluFhc9tuli+xIrkp0dDQMBgOio6Nlh8L8hHMuicQCS1M5P3hQ7P/Xv7/YjiaA1sR6i/bOOJAdPSo7AvXbtw/o2RMIsEZ+RASj0QjeGlQ7OOeSxMdLK7A0k/OTJ8VGyvHxYjucZs1kRyQFF1iB5IUXZEegfgHWwb2a2WxGUlISzGaz7FCYn3DOJYmLA86cAZxOv7+0JnJusYiF7Dab6HXVooXsiKThAiuQbNwo5rRZ3axW4McfA279FQDExMSAiJRd2Fnw45xLEhcn2gacPu33lw76nLtcwP33A6WlotdVu3ayI5KKC6xAkpEheol4PLIjUafvvhPN7AJwBMvtdqOkpARut1t2KMxPOOeSVG+XI6EXVlDnnAiYPh34xz/Efn0B+D7sbVxgBZIFC4CiImDNGtmRqNO+fUBoKJCeLjuSq2axWNC/f39YLBbZoTA/4ZxLInE/wqDO+auviv36li8HsrJkR6MKXGAFkltuAUaOBJ57TuzpxGoqLga6dVPv5qGXUb0BbNBOHbBaOOeStG4N6HRSCqygzfmaNeL30vPPAxMmyI5GNbjACjSLFokrNP74R9mRqE9xcUCuvwIAl8uFwsJCuFwu2aEwP+GcS9KkCdCqlZQCKyhzvn07MH48kJMDzJ0rOxpV4QIr0KSkAE88AbzyClBeLjsa9XA6gQMHAnbe32q1YsyYMbBarbJDYX7COZdIUi+soMt5SQlw773AgAFialBLHeobgAusQPR//wdERIh/mVBaCtjtATuCFR0djePHj2ujASEDwDmXSlIvrKDK+dmzoh1D+/bAX/8KNG0qOyLV4QIrELVoAcybB/zpT2JajIkF7gDQq5fcOBrJ5XJh69atwTV1wC6Lcy6RpBGsoMm52w2MHQuYTMDf/w4E25oyL+ECK1BNmSK2g8nNFZfHal1xMZCaGrA/6DabDbm5ubDZbLJDYX7COZdIUoEVNDl/8UXgiy+AtWvFCBarExdYgSosDHjtNWDHDvEXhNbt2xew668AICoqCiUlJYiKipIdCvMTzrlEcXFS+mAFRc43bxYF1ssvA0OHyo5G1bjACmTDh4v/4M88AzgcsqOR5/RpYNcu0cYiQDmdTuTn58MpYfsOJgfnXKK4OLGli5+3rAn4nB8+DDz0kNjEedYs2dGoHhdYgUynE+0ajhwB3n5bdjTyfPih+F48+KDsSBrN4XAgLy8PDi0XyhrDOZdIUrPRgM55ZSUwapRocfHhh0AIlw9XoqOg39Y78BmNRuj1ehgMhrob1E2ZAnzyCfDTT0BsrP8DlIkI6NpVXD3IHe4ZYw3x44+iKfHXXwO/+Y3saNSPSPS5Wr8e2L07IHfL8LW6fk9zCRoMXnxRXNXx4ouyI/G/r78GDh4EJk+WHck1cTgcWLlyZWD+ZcsahXMukcQRrIDM+bvvAh99BKxYwcXVVeACKxhcfz0we7aYJjx4UHY0/rV8OdCpEzBwoOxIrknAr81gV41zLlGLFkCzZn4vsAIy57t2AU8+KTZyHjtWdjQBhacIA8AVpwgBwGYTbRt69tTOVYXnzgFt24qRu2eflR0NYyyQdOgAjBsnroZjdTt1Siy/aNdOXLHOzUTrxVOEwSw8XOxmvmkTUFAgOxr/+PhjMTWakyM7kmtmt9uRl5cHu90uOxTmJ5xzyST0wgqonLtcwAMPiG3I8vO5uGoELrCCyX33Af37i+ajbrfsaHyLSEwP3n23mCINcG63G4WFhXAHe96YgnMumYReWAGV8zlzgK++AtatAxISZEcTkHiKMAA0aIqw2u7dQL9+wMqVwMSJ/glQhsJC4Oabga1bgdtvlx0NYyzQ/O53wN69wLffyo5Eff72N9GS4bXXgBkzZEcTEHiKUAv69hX9oObMEftEBasVK8QaiiFDZEfiFXa7HXPnzg2MqQPmFZxzySRNEao+5wcPAuPHA6NHi9kQ1mhcYAWjhQsBg0GsyQpGBgPwl7+IEbogaXbn8Xhw/PhxeDwe2aEwP+GcSxYXB5w8Cfjx+6/6nJvNwMiRYkrwgw9EA2fWaDxFGACuaoqw2v/9n+jyfvCguAIkmLzzjrhk+OefeW0AY6xxNm4E7rlHXCnXurXsaOQjAn77W2DLFmDPHtHAmTUYTxFqye9/D+j1wHPPyY7Eu6oXt2dnB1VxZbPZkJubC5vNJjsU5iecc8kkNBtVcl5Z6bfXbLA33hAL2let4uLKS7jAClbR0aK/y5o1YuF7sPj2W2D//oDv3M4Yk0xSN/cwlwtNb71VNEc+edKvr12vr78GnnlGfIweLTuaoMFThAGgUVOEgGjVcOONQGQk8M03wTGfPmUK8NlnwNGjQFiY7GgYY4HKZgMiIsTGxQ8/7L/XnTEDWLoUuO468R62YQPQp4//Xv9SFRXi90SXLsC2bfy+2kg8Rag1oaFAXp5oafDJJ7KjuXZmsxiRmzAh6N4ErFYrJk2aBKvVKjsU5iecc8nCw8WWOX4cwbJ/9hmQlwfnvHnAvn1AYqLYbHr1ar/FUIPTCYwZIy4W+stfgu59VTYusILd4MHAnXeKNVmBvtbjL38BLBZRYAWZkJAQJCYmIiRIropkV8Y5VwF/tmo4fx5NH30URzt0gOfJJ8U2Xzt2iLY6OTnA00+L7un+NHOmWNC+fn1QNGxWG54iDACNniKsdvAg0KOHWJP1+997P0B/6dsXiI0VU4SMMXatbrsNiI8XI+O+VH2F3tatwIEDQFJSzWNvvw089RTw//6fWGjeqpVv4wGAtWtFcbd0KfD4475/vSDHU4Ra1bkzMHUqMH++ehZVXq3//Ef8pRWki9srKysxZswYVKrx6iLmE5xzFfDXCNaaNcC6dbAvWYIxubk1c67TiQLnn/8UxVefPuJCHl/6/ntg0iSx2fXUqb59LQ3jAksrnn9ezK+/8ILsSBpnxQoxhD1ihOxIfCI0NBT9+/dHaGio7FCYn3DOVSA+3vcF1s8/iwLqwQeBBx6oP+cDBoirpFu2FNuArVvnm3gMBtFMtFMn4L33guPiJ5XiKcIAcM1ThNWWLBFXsOzfD6Sney9AX6usFOsVpk4FFiyQHQ1jLFgsWgS88gpw7pxvnt/tFutgjxwRo1MtWlz5MZWVwKOPAn/+s1jSMX++uGDJGzweUVzt2AEUFYkii3kFTxFq3dSpQEqKKLICqa5ev1781RXEm1dbLBZkZWXBYrHIDoX5CedcBeLigPPnAV/tDZiXB3z1lbhKsEWLhuW8eXPgo4/EThyLF4umyufPeyeeRYtEB/vVq7m48gMusLSkaVPxA7ttG/D557Kjabjly8WmzikpsiPxmSZNmmDMmDFo0qSJ7FCYn3DOVcCXzUb37wfmzBHNOwcOBHAVOdfpxEbLW7cCe/cCmZlAScm1xVNQIOKZMwe4665rey7WIDxFGAC8NkUIiJGrQYPEG8qBA4Da39x/+AHo3l2sR7jvPtnRMMaCyYEDQK9ewK5d4iplb7FaRVEUFiZ20mjWrPHPdeSI2DPx6FEx8nTvvVf/HGVlopnoDTeIP6553Z/X8RQhE38Z5eWJ1g3Ll8uO5spWrhSXLN99t+xIfMpisaB///48XaQhnHMV8NUI1nPPAT/9BHz8cY3iqlE5T04Gdu4Ehg0T66deeEGspWoou11sf9O8ubiakYsrv+ECS4tuuAEYP178oF64IDua+tlsYhuL8eOv7S/AANC0aVPk5uaiadOmskNhfsI5V4HYWFFweLPA2rZNbJz8yiui/+BFGp3zqCixG8eCBcBLL4kRLaOxYY996ikxXfnXv/qnvxZT8BRhAPDqFGG18nIgLQ343e+A117zznN6W3UjvNJS0cuLMca8rW1bscepN1rYnDsnrtDu1k2sn/JFl/7PPhPvi/HxYsF6Wlr99/3Tn4BHHhFtbiZN8n4sTMFThOxXbduKS4DffBM4fFh2NHVbsUJ0NtZAcWU2m9G9e3eYzWbZoTA/4ZyrhLd6YRGJQs1qFYVNHcWVV3J+xx2i6bJOJ9Z5bdlS9/2Ki4HHHhNXX3NxJQUXWFo2Y4Zo3qnG7XMOHQK2bxf9YDQgPDwceXl5CA8Plx0K8xPOuUp4q5v7Rx+JljLvvQckJNR5F6/lPC1NLMwfOFDsNbtgQc3WO+fOAaNGiQuEli69ttdijcYFlpY1bw4sXCjm5r/6SnY0Na1cCVx3nXiT0ICwsDBkZWUhjHez1wzOuUp4o8D63/+AadOAhx4Cxoyp925ezXlMDPDpp2KXjjlzxFXWZrNYAD9unOgduH49wAW8NFxgad2DD4q9r3Jzr+7KFF9yOMQQ+0MPaebNwWQyITExESaTSXYozE845yoRFwdUVDT+8W63eK9q2RJ4663L3tXrOQ8JAebOFYXWP/4B9O8PPPGEuL1mDdChg3dehzUKF1haFxICvP662APr449lRyP8/e/AqVNBu7FzXSIiIpCfn4+IiAjZoTA/4ZyrRPUIVmOv91q8GPjmGzFFqNdf9q4+y/k994gpQ5sNWLYMePFFICvLu6/BrhpfRRgAfHIV4aXGjAEKC0V/rMhI37xGQ2VlASaT6P3CGGO+lJ8vptfOn2/YXoEX27dPNCh95hmx3EK28+eBL74Q7+e+uIKR1YuvImT1e/VV4PRp+S0bjh4VfWQ0NHoFiB/OmJgYGBva24YFPM65SjS22ajVKtY6pacD8+Y16CE+z/l11wH338/FlUpwFpiQnAw8+aTYDPSXX+TF8f77QHS05rbFiYyMRGFhISJljx4yv+Gcq0RjC6zf/178Qfjxx2Kf1wbgnGsLF1jsV3PmiCsL58yR8/ouF7BqFTB2rPxpSj8LDQ1F9+7dEcrbWGgG51wl4uPFv1dTYG3dKha0L1okmoo2EOdcW7jAYr/S68XiyA8/FIve/e2zz0SHeY1NDwJi6kCn0/F0kYZwzlUiKkr8QdfQAuvMGbF9V1YW8PjjV/VSnHNt4QKL1TR5sviLLDe38VfVNNby5aJlxA03+Pd1VSAqKgplZWWIioqSHQrzE865ijS0F1Z1t3aHA/jgg6te68Q51xYusFhNYWHAH/8oGo9u2OC/1z1+HPj8c02OXgGATqdDTEwMdDqd7FCYn3DOVaShvbA+/BD429/ENl5t2171y3DOtYULLFbbsGHiY+ZM8ZeaP3zwARARAfz2t/55PZUxmUzQ6/XcdFJDOOcq0pARrCNHgOnTxfTgyJGNehnOubZwgcXq9tpr4goZf+xj5XaLrXF++1txBaEGRUdHw2AwIFqj569FnHMVuVKB5XIBDz8MtG4NvPFGo1+Gc64tXGCxunXvLjZafvFFsajTl774Aigr0+z0IAAQEYxGI7jvr3ZwzlXkSgXWq6+KRswffST2AGwkzrm2KAXWoUOHcPPNNyMtLQ2ZmZkoKSmp8wGbN29Gly5dkJqaipEjR9a4GmL37t3o1asX0tLSMGjQIPxyUT+lyz3/qVOnMGzYMKSmpqJHjx746qKNh8ePH4+EhARkZGQgIyMDM2fOVI55PB5Mnz4dKSkp6NSpE5ZeMtry8ssvIyUlBSkpKZhzSeuB999/H6mpqUhJScHkyZPhdDoBAGazGVlZWWjVqhVa1NHV9/z58xg7dizS0tLQvXt3zJo1Szlmt9sxbdo0pKamIj09HePGjav1+C+//BKhoaFYsmRJnd9fVZk3TyzqbGATvUZbsQLo2RPIzPTt66iY2WxGUlISzGaz7FCYn3DOVSQ+XjRadrlqHysqEvv9PfcccMst1/QynHONoSq33XYbrVq1ioiI8vPzqU+fPnQpk8lEbdq0oR9//JGIiB5//HF65plniIjI7XZTSkoKffnll0REtHjxYho9erTy2Ms9/yOPPEIvvPACERHt2bOHEhISyOFwEBFRTk4Ovf7667ViISL68MMPadCgQeRyuejs2bPUrl07+v7774mI6F//+hd169aNzGYz2Ww26t27N23evJmIiI4cOULx8fFUUVFBHo+H7rzzTlq6dCkREdlsNiooKKDi4mLS6/W1XvOee+6hxYsXK59XVFQot5966imaNm0aeTyeWseIiC5cuECZmZk0YsSIes+pLgaDgQCQwWBo8GO85tVXiUJDiapy7nXl5eL5q77/jDHmd5s3EwHi/ehiFgtR585EvXsTVf1OYqwudf2eBhHRyZMnKTo6mpxOJxEReTweuv766+nQoUM1nuCTTz6hrKws5fOSkhJKSEggIlEYde7cWTlmNBqpWbNmZLVar/j8kZGRNYqRzMxM2rZtGxFdvsC64447aO3atcrnM2fOpDlz5hAR0dSpU2nhwoXKsWXLltHYsWOJiGjRokU0ZcoU5diWLVvolltuqfHcR48erVVgHTp0iBITE8ntdteKxWw2U3R09GWLoHHjxtHGjRsve051kVpgWa1EHTsSZWf75vkXLCCKiCA6f943zx8gXC4Xff/99+RyuWSHwvyEc64iRUWiwNq3r+bXp04V709e+gOTcx686vo9HQIAZWVliI+PR1hYGABxKWm7du1w7NixGqNdx44dQ/v27ZXPO3TogIqKCrhcrlrHoqOjERMTg/Ly8ss+/9mzZ+F0OhFXvV1B1fNe/NpLlixBeno6RowYgf379182nurHNfbY5fzwww9ITEzEY489ht69e+P2229HcXExAODw4cNo2bIlFixYgD59+uDWW29FQUGB8tj169cjJCQEd9111xVfx263w2g01vgAAKvVCgCw2Wyw2WzK1+x2OwCgsrJSuW2xWOCougLQYrHUmAJ1VQ2Dm0wm5bbRaITb7VZuezwesV7A4QC98gqwZQssVW0b3G63EpPL5VKuiHG5XMrQt9PphMViAQA4HA7ltt1uR2VlpbhttcKzYgVw332whYf775yq1kB4PB7lPLx2TnZ7o/JksVjQr18/XLhwIWjOKRjz5M1zqqioQP/+/Wv8jAf6OQVsnqp+/3h++eXXc9qyBXj7bVhfegno0sUr51T9c36mal0r5ym4zulSql/kPn/+fBw5cgTfffcdJk6ciOHDh0ubv3a5XNizZw8eeOABfPvtt3j66acxYsQIOJ1OuFwu/Pzzz+jWrRuKiorw5ptv4v7778fJkydx4sQJvPzyy3ijgVefLFy4EHq9XvlISkoCAGX92ezZszF79mwAwPTp07Gwahf3nJwcLFu2DAAwcuRIrF69GgAwZMgQbKgqjvr27asUfl27dsXevXsBAImJiSgtLQUA6PV6lJeX/3pJcVYW7JmZOHzvvYDbjdLSUiQmJgIA9u7di65duwIACgoK0LdvXwDAhg0bMGTIEADA6tWrMbLqsuZly5YhJycHALBuyhSEHD0KTJ7s/3MymVBeXg69Xg8AXjunhQsXYvr06Vedp5iYGPTo0QNffvll0JxTMObJm+eUlJQEo9GI8vLyoDmngM1TmzYAgAulpTCZTEjR60ETJsB6221o/swzXjunmJgYzJgxQ1kTzHkKnnOqa821T6cImzZt2qApwubNm9c7RXiptLQ0KioqIiL/TxHu3buXkpKSanytVatWdOjQITp9+jSFhITUGPrt06cPbdu2jTZv3kxt2rSh9u3bU/v27SkyMpKuu+46mj17dp3naLPZyGAwKB9lZWUEgE6cOEFERFarlaxWKxERVVZWks1mIyIii8Wi3DabzWS325Xb1WvaTCaTkgej0ajcNhgMSuwGg4Hcbjd5PB4yGAzk8XjIvWuXGEJfvpxcLpcyDOp0OsloNCq3TSYTERE5HA4ym81ERGS325XbNpuNLBYLERG5Ro8md5cuRB6PnHNyu5Xz8NY52Ww2qqysvOo8OZ1OKigoUB4bDOcUjHny5jmdPXuWdu7cqfy8B8M5BXKe3LGx5H75ZfK43eTIziZPq1bk/uUXr56T0+mkHTt2KI/lPAXPOZWXl9e9BouIaMCAATUWoffu3ZsuZTQaqXXr1jUWuc+YMYOIxCL35OTkGovcR40apTz2cs+fk5NTY5F727ZtlW94WVmZcr/CwkKKjY2lCxcuEBHRqlWrai1yP3DgABERbd++vdYi902bNhER0eHDh2stcn/rrbdqnGtdBZbH46Hu3bvTf/7zHyIi2r17N8XGxirf4KFDh9KWLVuISCykj42NpePHj9f6PgbUGqyLjRtH1KYNUdV/2Gty6hRRkyZEV/F9CGZGo5ESEhKUNwMW/DjnKtOjB9H06UQrV4o/Jj/91OsvwTkPXvUuciciKi0tpX79+lFqair17t1bKVT+8Ic/0DvvvKM8YOPGjdS5c2dKSUmhu+++Wyl2iIh27txJ6enplJqaSgMGDKBjx47RlZ6fiOjEiRM0dOhQ6tSpE3Xr1k0p0oiIBg8eTD169KBevXpRv379ahxzuVw0depU6tixIyUnJ9OSJUtqnPC8efOoY8eO1LFjR5o1a1aNY8uXL6fk5GRKTk6mCRMmKAUdEVF6ejrFxcWRTqejhIQEGjdunHKsqKiIbrrpJkpPT6c+ffrQjh07lGOHDx+mgQMHUo8ePahnz560fv36OhMRsAXWsWNiwedzz137cy1eTNS0KdGZM9f+XIwxdq2GDCHKzCSKjCSaOFF2NCzA1PV7WkfEHc/Uzmg0Qq/Xw2AwIOYamtx5xfPPA4sWAQcPAhddKHBViICuXYEbbwTWrPFufAHK5XKhoKAAgwcPVi4GYcGNc64yDz8sGommpAD79wM+2JCZcx686vo9rfpF7kxlnn0WaNkSuKjB6lX7+mtRoD36qPfiCnA2mw25ubnKlSos+HHOVaZtWyAkRBRZPiiuAM651vAIVgBQ1QgWAKxaBUyYAOzcCfTvf/WPHzcO2LNHFFm8qzxjTA2OHxfvSYMHy46EBSAewWLe8fDDQEYGkJsrpvuuxrlzwPr1wKRJXFxdxOl0Ij8/X+kHw4If51xlEhN9XlxxzrWFCyx29UJDgbw8YNcuYN26q3vsxx8DHg8wfrxPQgtUDocDeXl5SvM9Fvw459rDOdcWniIMAKqbIqx2zz1AcTFQWgpERFz5/kRAerpY4J6f7/v4GGOMMT/gKULmXYsWAeXlwJIlDbv/rl1ASQkwebJv4wpADocDK1eu5L9sNYRzrj2cc23hAos1XloaMG0asGABcOLEle+/YgXQoQNQtUUB+xWvzdAezrn2cM61hacIA4BqpwgBsWi9Uydg9Ghg+fL672cwAPHxwJw54oMxxhgLEjxFyLyvZUtg7lzg/feBAwfqv9+aNYDDATzyiN9CCyR2ux15eXnKzuws+HHOtYdzri1cYLFr99hjYhRrxoy62zYQidGtESNEMz9Wi9vtRmFhIdxut+xQmJ9wzrWHc64tPEUYAFQ9RVht0ybgrruAzZuB7Oyax4qKgMzMuo8xxhhjAY6nCJnvjBgBDBokRrEuXcC5YoVo4jdsmJzYAoDdbsfcuXN56kBDOOfawznXFi6wmHfodKL56H//C7z33q9fN5vF+quJE0WDUlYnj8eD48ePw+PxyA6F+QnnXHs459rCU4QBICCmCKtNmgR8+inw00/AddcBK1eKTZ3/9z+gXTvZ0THGGGNex1OEzPdefhmw28W/gJgeHDaMi6srsNlsyM3Nhc1mkx0K8xPOufZwzrUlTHYALMjExQHPPQfMmwfcfDOwZ48Y0WKMMcY0hKcIA0BATRECgNUKdO4survHxgLHjgFNmsiOijHGGPOJun5P8whWAKiugY1Go+RIrsLzz4s9Bx98UBRcVqvsiFTNarVi5syZWLx4MSIasnE2C3icc+3hnAev6t/PF49Z8QhWADh+/DiSkpJkh8EYY4yxyygrK0NiYiIALrACgsfjQXkESe6CAAACZklEQVR5OaKjo6HT6WSHw3zAaDQiKSkJZWVlgTENzK4Z51x7OOfBi4hgMpnQtm1bhISI6wd5ijAAhISEKBUxC24xMTH8xqsxnHPt4ZwHJ71eX+NzbtPAGGOMMeZlXGAxxhhjjHlZ6Ny5c+fKDoIxBoSGhmLgwIEIC+OZe63gnGsP51w7eJE7Y4wxxpiX8RQhY4wxxpiXcYHFGGOMMeZlXGAxxhhjjHkZF1iMqUCHDh3QuXNnZGRkICMjA+vWrZMdEvOhQ4cO4eabb0ZaWhoyMzNRUlIiOyTmY/wzrj18GQNjKrFu3TpkZGTIDoP5wZQpU/Doo49i/PjxWL9+PcaPH4+9e/fKDov5GP+MawuPYDHGmB+dOnUKRUVFGDduHABg1KhRKCsrw08//SQ5MsaYN3GBxZhKPPTQQ0hPT8fEiRNx+vRp2eEwHykrK0N8fLzSB0mn06Fdu3Y4duyY5MiYr/HPuLZwgcWYCnz11Vf47rvvsG/fPrRq1Qo5OTmyQ2KMeRH/jGsPNxplTILVq1cjLy8PAPDkk0/ikUceUY5VVFQgLS0NJpNJVnjMh06dOoVOnTrh3LlzCAsLAxEhPj4e//73v9GpUyfZ4TE/4J9xbeARLMYkePjhh7F//37s378f9913Hy5cuKAcW7t2LW644QaJ0TFfatOmDW688UZ8/PHHAIC//vWvSExM5OIqiFksFv4Z1yAewWJMsiNHjmDUqFFwu90gIiQnJ+ONN95Ahw4dZIfGfOTgwYMYP348zp49i5iYGKxatQrp6emyw2I+wj/j2sQFFmOMMcaYl/EUIWOMMcaYl/1/je5wHp1Q9VkAAAAASUVORK5CYII=\" />"
      ]
     },
     "execution_count": 93,
     "metadata": {},
     "output_type": "execute_result"
    }
   ],
   "source": [
    "# Aproximação para $h = 1e-4$\n",
    "h = 1e-4\n",
    "plot(x->abs(f(x) - D(x, h))/f(x), -10, 10, c=:red)"
   ]
  },
  {
   "cell_type": "code",
   "execution_count": 94,
   "metadata": {},
   "outputs": [
    {
     "data": {
      "text/plain": [
       "5.000166739738369e-5"
      ]
     },
     "execution_count": 94,
     "metadata": {},
     "output_type": "execute_result"
    }
   ],
   "source": [
    "abs(f(1.0) - D(1.0, 1e-4))/f(1.0)"
   ]
  },
  {
   "cell_type": "markdown",
   "metadata": {},
   "source": [
    "Razoavelmente esperado, o erro está na casa dos $5\\times 10^{-5}$. Vamos diminuir o valor de $h$."
   ]
  },
  {
   "cell_type": "code",
   "execution_count": 95,
   "metadata": {},
   "outputs": [
    {
     "data": {
      "text/plain": [
       "-5.000032568337868e-6"
      ]
     },
     "execution_count": 95,
     "metadata": {},
     "output_type": "execute_result"
    }
   ],
   "source": [
    "(f(1.0) - D(1.0, 1e-5))/f(1.0)"
   ]
  },
  {
   "cell_type": "markdown",
   "metadata": {},
   "source": [
    "Também esperado, o erro diminui. Vamos tentar um $h$ bem menor."
   ]
  },
  {
   "cell_type": "code",
   "execution_count": 96,
   "metadata": {},
   "outputs": [
    {
     "data": {
      "text/plain": [
       "-0.1435990324493588"
      ]
     },
     "execution_count": 96,
     "metadata": {},
     "output_type": "execute_result"
    }
   ],
   "source": [
    "(f(1.0) - D(1.0, 1e-15))/f(1.0)"
   ]
  },
  {
   "cell_type": "markdown",
   "metadata": {},
   "source": [
    "Ora, o erro aumentou bastante. Como você deve suspeitar, isso acontece por causa dos erros de cancelamento.\n",
    "Vejamos um gráfico do erro em função de $h$."
   ]
  },
  {
   "cell_type": "code",
   "execution_count": 97,
   "metadata": {},
   "outputs": [
    {
     "data": {
      "text/html": [
       "<img src=\"data:image/png;base64,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\" />"
      ]
     },
     "execution_count": 97,
     "metadata": {},
     "output_type": "execute_result"
    }
   ],
   "source": [
    "hs = []\n",
    "Es = []\n",
    "h = 1.0\n",
    "x = 1.0\n",
    "while h > 1e-16\n",
    "    E = abs(f(x) - D(x, h))\n",
    "    push!(hs, h)\n",
    "    push!(Es, E)\n",
    "    h = h / 2\n",
    "end\n",
    "plot(hs, Es, m=3, xaxis=:log, yaxis=:log)"
   ]
  },
  {
   "cell_type": "markdown",
   "metadata": {},
   "source": [
    "Pelo gráfico podemos ver que o erro diminui até por volta de $10^{-8}$, e depois aumenta, erraticamente.\n",
    "Vamos tentar descobrir teoricamente o motivo disso."
   ]
  },
  {
   "cell_type": "markdown",
   "metadata": {},
   "source": [
    "Vamos usar o Teorema de Taylor com resto para encontrar um limitante para a derivada aproximada.\n",
    "Veja que expandindo $f(x+h)$ em torno de $x$, temos\n",
    "$$ f(x + h) = f(x) + f'(x)h + \\frac{h^2}{2}f''(\\xi), $$\n",
    "onde $\\xi$ é um valor entre $x$ e $h$. Isso quer dizer que\n",
    "$$ f'(x) = \\frac{f(x+h) - f(x)}{h} - \\frac{h}{2}f''(\\xi). $$"
   ]
  },
  {
   "cell_type": "markdown",
   "metadata": {},
   "source": [
    "Isso nos dá um embasamento teórico de porque o erro diminui inicialmente, e porque é proporcional à $h/2$.\n",
    "No entanto, lembre-se que computacionalmente não conseguimos calcular $f(x)$ exatamente. Na prática estamos calculando um valor $\\overline{f}(x)$ e $\\overline{f}(x+h)$, e daí\n",
    "$$ D_h(x) = \\frac{\\overline{f}(x+h) - \\overline{f}(x)}{h}. $$"
   ]
  },
  {
   "cell_type": "markdown",
   "metadata": {},
   "source": [
    "Lembre-se da limitação do erro é dada por um valor $\\epsilon$ com $|\\epsilon| < \\epsilon_M$ (da máquina), e portanto vamos usar diretamente $\\epsilon_M$ como limitante:\n",
    "$$ |\\overline{f}(x) - f(x)| \\leq \\epsilon_M |f(x)|, $$\n",
    "e\n",
    "$$ |\\overline{f}(x+h) - f(x+h)| \\leq \\epsilon_M |f(x+h)|. $$\n",
    "Considerando nosso interesse num intervalo $(a,b)$ onde $x$ e $x+h$ residem, podemos limitar $|f(x)|$ por $L_1$ em\n",
    "todo esse intervalo, de modo que\n",
    "$$ |\\overline{f}(x) - f(x)| \\leq \\epsilon_M L_1, $$\n",
    "e\n",
    "$$ |\\overline{f}(x+h) - f(x+h)| \\leq \\epsilon_M L_1. $$"
   ]
  },
  {
   "cell_type": "markdown",
   "metadata": {},
   "source": [
    "Logo, o erro de nossa aproximação é\n",
    "\\begin{align}\n",
    "\\mbox{Erro}(h) & = |f'(x) - D_h(x)| \\\\\n",
    "& =\n",
    "\\bigg|\n",
    "    \\frac{f(x+h)-f(x)}{h} - \\frac{h}{2}f''(\\xi) -\n",
    "    \\frac{\\overline{f}(x+h)-\\overline{f}(x)}{h}\n",
    "\\bigg| \\\\\n",
    "& =\n",
    "\\bigg|\n",
    "    \\frac{\\overline{f}(x+h)-f(x+h)-\\overline{f}(x)+f(x)}{h}\n",
    "    - \\frac{h}{2}f''(\\xi)\n",
    "\\bigg| \\\\\n",
    "& \\leq\n",
    "    \\frac{|\\overline{f}(x+h)-f(x+h)| + |\\overline{f}(x) - f(x)|}{h}\n",
    "    + \\frac{h}{2}|f''(\\xi)| \\\\\n",
    "& \\leq\n",
    "    \\frac{2\\epsilon_M L_1}{h} + \\frac{h}{2}L_2,\n",
    "\\end{align}\n",
    "onde $L_2$ é um limitante para $|f''(x)|$ no intervalo $(a,b)$."
   ]
  },
  {
   "cell_type": "markdown",
   "metadata": {},
   "source": [
    "Note que o limitante para o erro depende de $1/h$ além de depender de $h$. Isso quer dizer que a diminuição de $h$ faz o erro crescer bastante, apesar do termo linear dizer que o erro diminui. Felizmente, temos $1/h$ multiplicado por $\\epsilon_M$, de modo que esse erro começa relativamente pequeno.\n",
    "\n",
    "Os problemas comeração quando o erro da esquerda for maior que o da direita, começando de um valor grande de $h$ e tendendo à 0. Nessa direção, o valor da esquerda é crescente, e o da direta é decrescente.\n",
    "Então, podemos buscar onde eles ficam iguais, e a partir daquele instante saberemos quando o da esquerda fica maior que o da direita."
   ]
  },
  {
   "cell_type": "markdown",
   "metadata": {},
   "source": [
    "$$ \\frac{2\\epsilon_M L1}{h} = \\frac{h}{2}L_2\n",
    "\\qquad \\Rightarrow \\qquad\n",
    "h = 2\\sqrt{\\frac{L_1}{L_2}}\\sqrt{\\epsilon_M}. $$"
   ]
  },
  {
   "cell_type": "markdown",
   "metadata": {},
   "source": [
    "Os valores de $L_1$ e $L_2$ só podem ser obtidos em casos específicos, pois dependem da função $f$, de sua segunda derivada, do intervalo em questão, e de quão apertado é o limitante obtido. No entanto, é possível ver que existe uma dependência linear com o valor $\\sqrt{\\epsilon_M}$, que no caso de precisão dupla é $10^{-8}$. Não por acaso, o valor que vimos no gráfico."
   ]
  },
  {
   "cell_type": "markdown",
   "metadata": {},
   "source": [
    "Além disso, veja o valor que o limitante obtém quando substituímos esse valor de $h$:\n",
    "$$ 2\\sqrt{\\epsilon_M}\\sqrt{L_1L_2}. $$\n",
    "Esse valor também condiz com o valor encontrado no gráfico."
   ]
  },
  {
   "cell_type": "markdown",
   "metadata": {},
   "source": [
    "Agora, vamos fazer a mesma análise com a seguinte aproximação para a derivada, chamada de diferença centrada,\n",
    "$$ f'(x) = \\frac{f(x+h) - f(x-h)}{2h} - \\frac{h^2}{6}f''(\\xi). $$"
   ]
  },
  {
   "cell_type": "markdown",
   "metadata": {},
   "source": [
    "**Exercício:** Faça a mesma análise que fizemos anteriormente para encontrar um valor ótimo para $h$ que minimize o limitante do erro, e também o valor desse limitante no $h$ ótimo.\n",
    "Compare seus resultados com o do gráfico abaixo."
   ]
  },
  {
   "cell_type": "code",
   "execution_count": 98,
   "metadata": {},
   "outputs": [
    {
     "data": {
      "text/html": [
       "<img src=\"data:image/png;base64,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\" />"
      ]
     },
     "execution_count": 98,
     "metadata": {},
     "output_type": "execute_result"
    }
   ],
   "source": [
    "D_av(f, x, h) = (f(x + h) - f(x)) / h\n",
    "D_ct(f, x, h) = (f(x + h) - f(x - h)) / 2h\n",
    "hs = []\n",
    "E_av = []\n",
    "E_ct = []\n",
    "E_ct2 = []\n",
    "h = 1.0\n",
    "x = 1.0\n",
    "f(x) = exp(x)\n",
    "fx = exp(x)\n",
    "while h > 1e-16\n",
    "    push!(hs, h)\n",
    "    E = abs(fx - D_av(f, x, h))/abs(fx)\n",
    "    push!(E_av, E)\n",
    "    E = abs(fx - D_ct(f, x, h))/abs(fx)\n",
    "    push!(E_ct, E)\n",
    "    h = h /= 2\n",
    "end\n",
    "plot(hs, E_av, m=3, xaxis=:log, yaxis=:log, c=:blue)\n",
    "plot!(hs, E_ct, m=3, xaxis=:log, yaxis=:log, c=:red)"
   ]
  },
  {
   "cell_type": "markdown",
   "metadata": {},
   "source": [
    "A mesma análise pode ser feita para a segunda derivada, assim como outras. Além disso, existem várias maneiras de se aproximar as derivadas, utilizando mais avaliações da função $f$."
   ]
  },
  {
   "cell_type": "markdown",
   "metadata": {},
   "source": [
    "# Exercícios"
   ]
  },
  {
   "cell_type": "code",
   "execution_count": null,
   "metadata": {
    "collapsed": true
   },
   "outputs": [],
   "source": []
  }
 ],
 "metadata": {
  "kernelspec": {
   "display_name": "Julia 0.6.0",
   "language": "julia",
   "name": "julia-0.6"
  },
  "language_info": {
   "file_extension": ".jl",
   "mimetype": "application/julia",
   "name": "julia",
   "version": "0.6.0"
  }
 },
 "nbformat": 4,
 "nbformat_minor": 2
}
