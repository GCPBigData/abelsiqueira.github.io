{
 "cells": [
  {
   "cell_type": "markdown",
   "metadata": {},
   "source": [
    "# Problema"
   ]
  },
  {
   "cell_type": "markdown",
   "metadata": {},
   "source": [
    "1. Alice e Bob produzem cadeiras e mesas. Eles recebem um estoque para daqui a duas semanas de 15 cadeiras e 4 mesas.\n",
    "Apesar da demanda, eles podem construir a mais e vender por um preço reduzido.\n",
    "Considere que eles trabalham 5 dias por semana, e tem que entregar o produto ao fim da segunda semana.\n",
    "Considere ainda que Alice produz 3 cadeiras por dia ou, 1 mesa por dia,\n",
    "e que Bob produz 2 cadeiras por dia, ou 1 mesa por dia.\n",
    "Para guardar no estoque de um dia para o outro, eles pagam R\\$ 2 por cadeira e R\\$ 5 por mesa.\n",
    "O lucro na venda na demanda é de R\\$ 25 por cadeira e R\\$ 150 por mesa.\n",
    "O lucro na venda acima da demanda é de R\\$ 15 por cadeira e R\\$ 100 por mesa.\n",
    "Decida a produção deles, dia a dia.\n",
    "Descubra qual o lucro deles.\n",
    "\n",
    "2. Agora generalize para uma quantidade geral de funcionários, produtos e semanas.\n",
    "\n",
    "3. Tente resolver usando os dados de `producao.csv` e `info.csv` e 4 semanas."
   ]
  },
  {
   "cell_type": "code",
   "execution_count": 86,
   "metadata": {
    "collapsed": false
   },
   "outputs": [
    {
     "name": "stdout",
     "output_type": "stream",
     "text": [
      "Alice\n",
      "1: Cadeira\n",
      "2: Cadeira\n",
      "3: Cadeira\n",
      "4: Cadeira\n",
      "5: Mesa\n",
      "6: Mesa\n",
      "7: Mesa\n",
      "8: Mesa\n",
      "9: Mesa\n",
      "10: Cadeira\n",
      "Bob\n",
      "1: Mesa\n",
      "2: Mesa\n",
      "3: Mesa\n",
      "4: Mesa\n",
      "5: Mesa\n",
      "6: Mesa\n",
      "7: Mesa\n",
      "8: Mesa\n",
      "9: Mesa\n",
      "10: Mesa\n",
      "f = 1931.0\n"
     ]
    }
   ],
   "source": [
    "include(\"aula4-sol.jl\")\n",
    "ex1()"
   ]
  },
  {
   "cell_type": "code",
   "execution_count": 87,
   "metadata": {
    "collapsed": false
   },
   "outputs": [
    {
     "name": "stdout",
     "output_type": "stream",
     "text": [
      "[:Alice :Bob :Carlos :Dave :Eve :Frank :Grace :Mallory :Oscar :Peggy :Sybil :Trent :Walter :Wendy]\n",
      "[:Mesa,:Cadeira,:Cama,:Brinque,:Banco,:Armario,:GuardRp]\n",
      "\tAlice\tBob\tCarlos\tDave\tEve\tFrank\tGrace\tMallory\tOscar\tPeggy\tSybil\tTrent\tWalter\tWendy\n",
      "1\tMesa\tCadeira\tBanco\tArmario\tCadeira\tMesa\tCama\tCadeira\tMesa\tCama\tCadeira\tCadeira\tCadeira\tMesa\t\n",
      "2\tMesa\tCadeira\tBanco\tBanco\tCadeira\tMesa\tCama\tCadeira\tMesa\tCama\tCadeira\tCadeira\tCadeira\tMesa\t\n",
      "3\tMesa\tCadeira\tBanco\tBanco\tCadeira\tMesa\tCama\tCadeira\tMesa\tCama\tCadeira\tCadeira\tCadeira\tMesa\t\n",
      "4\tMesa\tCadeira\tBanco\tBanco\tCadeira\tMesa\tCama\tCadeira\tMesa\tCama\tCadeira\tCadeira\tCadeira\tMesa\t\n",
      "5\tMesa\tCadeira\tBanco\tBanco\tCadeira\tMesa\tCama\tCadeira\tMesa\tCama\tCadeira\tCadeira\tCadeira\tMesa\t\n",
      "6\tMesa\tCadeira\tBanco\tBanco\tCadeira\tMesa\tCama\tCadeira\tMesa\tCama\tCadeira\tCadeira\tCadeira\tMesa\t\n",
      "7\tMesa\tCadeira\tBanco\tBanco\tCadeira\tMesa\tCama\tCadeira\tMesa\tCama\tCadeira\tCadeira\tCadeira\tMesa\t\n",
      "8\tMesa\tCadeira\tBanco\tBanco\tCadeira\tMesa\tCama\tCadeira\tMesa\tCama\tCadeira\tCadeira\tCadeira\tMesa\t\n",
      "9\tMesa\tCadeira\tBanco\tBanco\tCadeira\tMesa\tCama\tCadeira\tMesa\tCama\tCadeira\tCadeira\tCadeira\tMesa\t\n",
      "10\tMesa\tCadeira\tBanco\tBanco\tCadeira\tMesa\tCama\tCadeira\tMesa\tCama\tCadeira\tCadeira\tCadeira\tMesa\t\n",
      "11\tMesa\tCadeira\tBanco\tBanco\tCadeira\tMesa\tGuardRp\tCadeira\tMesa\tCama\tCadeira\tCadeira\tCadeira\tMesa\t\n",
      "12\tMesa\tCadeira\tBanco\tBanco\tCadeira\tMesa\tCama\tCadeira\tMesa\tCama\tCadeira\tCadeira\tCadeira\tMesa\t\n",
      "13\tMesa\tCadeira\tBanco\tBanco\tCadeira\tMesa\tCama\tCadeira\tMesa\tCama\tCadeira\tCadeira\tCadeira\tMesa\t\n",
      "14\tMesa\tCadeira\tBanco\tArmario\tGuardRp\tMesa\tCama\tCadeira\tMesa\tCama\tCadeira\tCadeira\tCadeira\tMesa\t\n",
      "15\tMesa\tCadeira\tBanco\tBanco\tCadeira\tMesa\tCama\tCadeira\tMesa\tCama\tCadeira\tCadeira\tCadeira\tMesa\t\n",
      "16\tMesa\tCadeira\tBanco\tArmario\tCadeira\tMesa\tCama\tCadeira\tMesa\tCama\tCadeira\tCadeira\tCadeira\tMesa\t\n",
      "17\tMesa\tCadeira\tBanco\tArmario\tCadeira\tMesa\tCama\tCadeira\tMesa\tCama\tCadeira\tCadeira\tCadeira\tMesa\t\n",
      "18\tMesa\tCadeira\tBanco\tBanco\tCadeira\tMesa\tCama\tCadeira\tMesa\tCama\tCadeira\tCadeira\tCadeira\tMesa\t\n",
      "19\tMesa\tCadeira\tBanco\tBrinque\tCadeira\tMesa\tCama\tCadeira\tMesa\tCama\tCadeira\tCadeira\tCadeira\tMesa\t\n",
      "20\tMesa\tCadeira\tGuardRp\tArmario\tGuardRp\tMesa\tCama\tMesa\tMesa\tCama\tMesa\tCadeira\tGuardRp\tMesa\t\n",
      "f = 63439.0\n"
     ]
    }
   ],
   "source": [
    "include(\"aula4-sol.jl\")\n",
    "ex2()"
   ]
  },
  {
   "cell_type": "code",
   "execution_count": null,
   "metadata": {
    "collapsed": true
   },
   "outputs": [],
   "source": []
  }
 ],
 "metadata": {
  "kernelspec": {
   "display_name": "Julia 0.4.6",
   "language": "julia",
   "name": "julia-0.4"
  },
  "language_info": {
   "file_extension": ".jl",
   "mimetype": "application/julia",
   "name": "julia",
   "version": "0.4.6"
  }
 },
 "nbformat": 4,
 "nbformat_minor": 0
}
