{
 "cells": [
  {
   "cell_type": "markdown",
   "metadata": {},
   "source": [
    "## Problemas de Valor de Contorno\n",
    "\n",
    "Os problemas de Valor de Contorno ainda são problemas de equações diferencias.\n",
    "No entanto, nestes problemas as condições sobre a solução são nos extremos do\n",
    "intervalo de validade da equação.\n",
    "\n",
    "Por exemplo,\n",
    "\n",
    "$$ y'' - 3y' + 2y = 2x + 1, \\quad 0 < x < 1, \\qquad y(0) = e+3, \\quad y(1) = 2e^2 + 3. $$"
   ]
  },
  {
   "cell_type": "markdown",
   "metadata": {},
   "source": [
    "## Método das Diferenças Finitas\n",
    "\n",
    "Vamos resolver esse problema pelo chamado Método das Diferenças Finitas.\n",
    "Inicialmente, consideramos a discretização do intervalo de trabalho.\n",
    "\n",
    "$$ a = x_1 < \\dots < x_m = b, $$\n",
    "\n",
    "onde cada ponto é igualmente espaçado, isto é $h = x_{i+1}-x_i = \\dfrac{b-a}{m-1}$."
   ]
  },
  {
   "cell_type": "markdown",
   "metadata": {},
   "source": [
    "Vamos encontrar aproximações para os valores de $y(x_i)$, qu chamaremos de $w_i$."
   ]
  },
  {
   "cell_type": "markdown",
   "metadata": {},
   "source": [
    "O MDF consiste em aproximar as derivadas de $y$ em $x_i$ por combinações de $w_j$ para alguns $j$ ao redor de $i$.\n",
    "Essa aproximação é feita utilizando a fórmula de Taylor da função $y$ de pontos ao redor de $x_i$ em torno de $x_i$."
   ]
  },
  {
   "cell_type": "markdown",
   "metadata": {},
   "source": [
    "Por exemplo,\n",
    "\n",
    "$$ y(x + h) = y(x) + hy'(x) + \\frac{h^2}{2}y''(x) + \\frac{h^3}{6}y'''(x) + \\frac{h^4}{24}y^{(iv)}(x) + O(h^5). $$"
   ]
  },
  {
   "cell_type": "markdown",
   "metadata": {},
   "source": [
    "Isso quer dizer que,\n",
    "\n",
    "$$ y'(x) = \\frac{y(x+h) - y(x)}{h} - \\frac{h}{2}y''(x) + O(h^2). $$"
   ]
  },
  {
   "cell_type": "markdown",
   "metadata": {},
   "source": [
    "Portanto, podemos aproximar $y'(x_i)$ por\n",
    "$$ \\frac{y(t_i + h) - y(t_i)}{h}. $$"
   ]
  },
  {
   "cell_type": "markdown",
   "metadata": {},
   "source": [
    "O erro dessa aproximação é $-\\frac{h}{2}y''(x_i) + O(h^2)$, ou seja, depende principalmente de $h$. Portanto, dizemos que o erro é de ordem 1."
   ]
  },
  {
   "cell_type": "markdown",
   "metadata": {},
   "source": [
    "Essa aproximação é dita diferença **avançada**."
   ]
  },
  {
   "cell_type": "markdown",
   "metadata": {},
   "source": [
    "Outras aproximações podem ser obitadas:"
   ]
  },
  {
   "cell_type": "markdown",
   "metadata": {},
   "source": [
    "$$ y(x - h) = y(x) - hy'(x) + \\frac{h^2}{2}y''(x) - \\frac{h^3}{6}y'''(x) + \\frac{h^4}{24}y^{(iv)}(x) + O(h^5). $$"
   ]
  },
  {
   "cell_type": "markdown",
   "metadata": {},
   "source": [
    "Diferença **atrasada**:\n",
    "$$ y'(x_i) = \\frac{y(x_i) - y(x_i - h)}{h} + \\frac{h}{2}y''(x_i) + O(h^2). $$\n",
    "Também de ordem 1."
   ]
  },
  {
   "cell_type": "markdown",
   "metadata": {},
   "source": [
    "Note que essas diferenças podem ser manipuladas para melhorar o erro."
   ]
  },
  {
   "cell_type": "markdown",
   "metadata": {},
   "source": [
    "$$ y(x+h) - y(x-h) = 2hy'(x) + \\frac{h^3}{3}y'''(x) + O(h^5). $$"
   ]
  },
  {
   "cell_type": "markdown",
   "metadata": {},
   "source": [
    "Obtemos assim a diferença **centrada**:\n",
    "$$ y'(x_i) = \\frac{y(x_i+h) - y(x_i-h)}{2h} - \\frac{h^2}{3}y'''(x_i) + O(h^4). $$"
   ]
  },
  {
   "cell_type": "markdown",
   "metadata": {},
   "source": [
    "Essa diferença tem ordem 2, sendo mais indicada que as outras duas, quando possível."
   ]
  },
  {
   "cell_type": "markdown",
   "metadata": {},
   "source": [
    "É possível continuar combinando aproximações de Taylor para eliminar outras derivadas. Por exemplo, podemos calcular $y(x+2h)$ e $y(x-2h)$ para remover alguns termos de ordem superior. Não faremos isso agora."
   ]
  },
  {
   "cell_type": "markdown",
   "metadata": {},
   "source": [
    "As aproximações acima foram todas para a primeira derivada. Precisamos de uma aproximação para a segunda derivada agora.\n",
    "Note que não queremos a primeira derivada na fórmula da nossa segunda derivada. Então precisamos eliminar a primeira derivada combinando as expansões de Taylor."
   ]
  },
  {
   "cell_type": "markdown",
   "metadata": {},
   "source": [
    "$$ y(x+h) + y(x-h) = 2y(x) + h^2y''(x) + \\frac{h^4}{12}y^{(iv)}(x) + O(h^6). $$\n",
    "(O $h^6$ vem de uma expansão a mais que não fizemos.)"
   ]
  },
  {
   "cell_type": "markdown",
   "metadata": {},
   "source": [
    "Com essa expansão, temos\n",
    "$$ y''(x_i) = \\frac{y(x_i+h) - 2y(x_i) + y(x_i-h)}{h^2} - \\frac{h^2}{12}y^{(iv)}(x_i) + O(h^4), $$\n",
    "que é uma fórmula de ordem 2 para a segunda derivada."
   ]
  },
  {
   "cell_type": "markdown",
   "metadata": {},
   "source": [
    "Note que cada $y(x_i)$ é aproximado por $w_i$, então temos\n",
    "\n",
    "$$ w_i \\approx y(x_i), \\qquad w_{i+1} \\approx y(x_i+h), \\qquad w_{i-1} \\approx y(x_i-h). $$"
   ]
  },
  {
   "cell_type": "markdown",
   "metadata": {},
   "source": [
    "No nosso exemplo, vamos utilizar as fórmulas centradas, de modo que\n",
    "$$ y'(x_i) \\approx \\frac{w_{i+1}-w_{i-1}}{2h} \\qquad\n",
    "y''(x_i) \\approx \\frac{w_{i+1}-2w_i+w_{i-1}}{h^2}. $$"
   ]
  },
  {
   "cell_type": "markdown",
   "metadata": {},
   "source": [
    "Substituindo em $y'' - 3y' + 2y = x^2 + 1$, obtemos\n",
    "$$ \\frac{w_{i+1} - 2w_i + w_{i-1}}{h^2} - 3\\frac{w_{i+1} - w_{i-1}}{2h} + 2w_i = 2x_i + 1, $$"
   ]
  },
  {
   "cell_type": "markdown",
   "metadata": {},
   "source": [
    "$$ (2-3h)w_{i+1} + (4h^2 - 4)w_i + (2 + 3h)w_{i-1} = 2h^2(2x_i + 1). $$"
   ]
  },
  {
   "cell_type": "markdown",
   "metadata": {},
   "source": [
    "Note que isso nos dá várias equações, variando o $i$.\n",
    "Como temos $w_1, \\dots, w_m$, podemos ter $i = 2, \\dots, m-1$.\n",
    "Isso quer dizer, no entanto, que não temos equações suficientes para resolver o problema.\n",
    "**Mas espere, tem mais.**\n",
    "As condições de contorno do problema também precisam ser utilizadas:\n",
    "\n",
    "$$ y(0) = e+3 \\qquad \\Rightarrow \\qquad w_1 = e+3, $$\n",
    "e\n",
    "$$ y(1) = 2e^2 + 3 \\qquad \\Rightarrow \\quad w_m = 2e^2 + 3. $$"
   ]
  },
  {
   "cell_type": "markdown",
   "metadata": {},
   "source": [
    "Agora temos um sistema, para qualquer valor de $m$ (ou $h$) que escolhermos.\n",
    "Em geral, vamos substituir essas condições no sistema geral acima.\n",
    "\n",
    "Para $i = 2$, temos\n",
    "$$ (2 - 3h)w_3 + (4h^2 - 4)w_2 + (2 + 3h)w_1 = 2h^2(2x_i + 1), $$\n",
    "que vira\n",
    "$$ (2 - 3h)w_3 + (4h^2 - 4)w_2 = -(2 + 3h)(e+3) + 2h^2(2x_i + 1), $$"
   ]
  },
  {
   "cell_type": "markdown",
   "metadata": {},
   "source": [
    "Para $h = 0.25$, isto é, $m = 5$, temos"
   ]
  },
  {
   "cell_type": "code",
   "execution_count": 2,
   "metadata": {
    "collapsed": false
   },
   "outputs": [
    {
     "name": "stderr",
     "output_type": "stream",
     "text": [
      "INFO: Precompiling module Reexport.\n",
      "INFO: Precompiling module FixedSizeArrays.\n",
      "INFO: Precompiling module RecipesBase.\n",
      "INFO: Precompiling module PlotUtils.\n",
      "INFO: Precompiling module PlotThemes.\n",
      "INFO: Precompiling module Showoff.\n",
      "INFO: Precompiling module GR.\n"
     ]
    },
    {
     "data": {
      "text/plain": [
       "Plots.GRBackend()"
      ]
     },
     "execution_count": 2,
     "metadata": {},
     "output_type": "execute_result"
    }
   ],
   "source": [
    "using Plots\n",
    "gr()"
   ]
  },
  {
   "cell_type": "code",
   "execution_count": 32,
   "metadata": {
    "collapsed": false
   },
   "outputs": [
    {
     "name": "stderr",
     "output_type": "stream",
     "text": [
      "WARNING: Method definition sol(Any) in module Main at In[31]:28 overwritten at In[32]:7.\n"
     ]
    },
    {
     "data": {
      "text/html": [
       "<?xml version=\"1.0\" encoding=\"utf-8\"?>\n",
       "<svg xmlns=\"http://www.w3.org/2000/svg\" xmlns:xlink=\"http://www.w3.org/1999/xlink\" width=\"600\" height=\"400\" viewBox=\"0 0 600 400\">\n",
       "<defs>\n",
       "  <clipPath id=\"clip00\">\n",
       "    <rect x=\"0\" y=\"0\" width=\"600\" height=\"400\"/>\n",
       "  </clipPath>\n",
       "</defs>\n",
       "<polygon clip-path=\"url(#clip00)\" points=\"\n",
       "0,400 600,400 600,0 0,0 \n",
       "  \" fill=\"#ffffff\" fill-opacity=\"1\"/>\n",
       "<defs>\n",
       "  <clipPath id=\"clip01\">\n",
       "    <rect x=\"120\" y=\"0\" width=\"421\" height=\"400\"/>\n",
       "  </clipPath>\n",
       "</defs>\n",
       "<polygon clip-path=\"url(#clip00)\" points=\"\n",
       "21.7148,384.952 596.063,384.952 596.063,3.93701 21.7148,3.93701 \n",
       "  \" fill=\"#ffffff\" fill-opacity=\"1\"/>\n",
       "<defs>\n",
       "  <clipPath id=\"clip02\">\n",
       "    <rect x=\"21\" y=\"3\" width=\"575\" height=\"382\"/>\n",
       "  </clipPath>\n",
       "</defs>\n",
       "<polyline clip-path=\"url(#clip02)\" style=\"stroke:#00002d; stroke-width:0.8; stroke-opacity:0.5; fill:none\" stroke-dasharray=\"1, 2\" points=\"\n",
       "  21.7148,379.237 21.7148,9.65223 \n",
       "  \"/>\n",
       "<polyline clip-path=\"url(#clip02)\" style=\"stroke:#00002d; stroke-width:0.8; stroke-opacity:0.5; fill:none\" stroke-dasharray=\"1, 2\" points=\"\n",
       "  136.584,379.237 136.584,9.65223 \n",
       "  \"/>\n",
       "<polyline clip-path=\"url(#clip02)\" style=\"stroke:#00002d; stroke-width:0.8; stroke-opacity:0.5; fill:none\" stroke-dasharray=\"1, 2\" points=\"\n",
       "  251.454,379.237 251.454,9.65223 \n",
       "  \"/>\n",
       "<polyline clip-path=\"url(#clip02)\" style=\"stroke:#00002d; stroke-width:0.8; stroke-opacity:0.5; fill:none\" stroke-dasharray=\"1, 2\" points=\"\n",
       "  366.324,379.237 366.324,9.65223 \n",
       "  \"/>\n",
       "<polyline clip-path=\"url(#clip02)\" style=\"stroke:#00002d; stroke-width:0.8; stroke-opacity:0.5; fill:none\" stroke-dasharray=\"1, 2\" points=\"\n",
       "  481.193,379.237 481.193,9.65223 \n",
       "  \"/>\n",
       "<polyline clip-path=\"url(#clip02)\" style=\"stroke:#00002d; stroke-width:0.8; stroke-opacity:0.5; fill:none\" stroke-dasharray=\"1, 2\" points=\"\n",
       "  596.063,379.237 596.063,9.65223 \n",
       "  \"/>\n",
       "<polyline clip-path=\"url(#clip02)\" style=\"stroke:#00002d; stroke-width:0.8; stroke-opacity:0.5; fill:none\" stroke-dasharray=\"1, 2\" points=\"\n",
       "  30.33,249.676 587.448,249.676 \n",
       "  \"/>\n",
       "<polyline clip-path=\"url(#clip02)\" style=\"stroke:#00002d; stroke-width:0.8; stroke-opacity:0.5; fill:none\" stroke-dasharray=\"1, 2\" points=\"\n",
       "  30.33,91.7079 587.448,91.7079 \n",
       "  \"/>\n",
       "<polyline clip-path=\"url(#clip02)\" style=\"stroke:#00002d; stroke-width:0.8; stroke-opacity:1; fill:none\" points=\"\n",
       "  21.7148,384.952 596.063,384.952 \n",
       "  \"/>\n",
       "<polyline clip-path=\"url(#clip02)\" style=\"stroke:#00002d; stroke-width:0.8; stroke-opacity:1; fill:none\" points=\"\n",
       "  21.7148,384.952 21.7148,379.237 \n",
       "  \"/>\n",
       "<polyline clip-path=\"url(#clip02)\" style=\"stroke:#00002d; stroke-width:0.8; stroke-opacity:1; fill:none\" points=\"\n",
       "  136.584,384.952 136.584,379.237 \n",
       "  \"/>\n",
       "<polyline clip-path=\"url(#clip02)\" style=\"stroke:#00002d; stroke-width:0.8; stroke-opacity:1; fill:none\" points=\"\n",
       "  251.454,384.952 251.454,379.237 \n",
       "  \"/>\n",
       "<polyline clip-path=\"url(#clip02)\" style=\"stroke:#00002d; stroke-width:0.8; stroke-opacity:1; fill:none\" points=\"\n",
       "  366.324,384.952 366.324,379.237 \n",
       "  \"/>\n",
       "<polyline clip-path=\"url(#clip02)\" style=\"stroke:#00002d; stroke-width:0.8; stroke-opacity:1; fill:none\" points=\"\n",
       "  481.193,384.952 481.193,379.237 \n",
       "  \"/>\n",
       "<polyline clip-path=\"url(#clip02)\" style=\"stroke:#00002d; stroke-width:0.8; stroke-opacity:1; fill:none\" points=\"\n",
       "  596.063,384.952 596.063,379.237 \n",
       "  \"/>\n",
       "<polyline clip-path=\"url(#clip02)\" style=\"stroke:#00002d; stroke-width:0.8; stroke-opacity:1; fill:none\" points=\"\n",
       "  21.7148,384.952 21.7148,3.93701 \n",
       "  \"/>\n",
       "<polyline clip-path=\"url(#clip02)\" style=\"stroke:#00002d; stroke-width:0.8; stroke-opacity:1; fill:none\" points=\"\n",
       "  21.7148,249.676 30.33,249.676 \n",
       "  \"/>\n",
       "<polyline clip-path=\"url(#clip02)\" style=\"stroke:#00002d; stroke-width:0.8; stroke-opacity:1; fill:none\" points=\"\n",
       "  21.7148,91.7079 30.33,91.7079 \n",
       "  \"/>\n",
       "<g clip-path=\"url(#clip00)\">\n",
       "<text style=\"fill:#00002d; fill-opacity:1; font-family:Arial,Helvetica Neue,Helvetica,sans-serif; font-size:12; text-anchor:middle;\" transform=\"rotate(0, 21.7148, 396.952)\" x=\"21.7148\" y=\"396.952\">0.0</text>\n",
       "</g>\n",
       "<g clip-path=\"url(#clip00)\">\n",
       "<text style=\"fill:#00002d; fill-opacity:1; font-family:Arial,Helvetica Neue,Helvetica,sans-serif; font-size:12; text-anchor:middle;\" transform=\"rotate(0, 136.584, 396.952)\" x=\"136.584\" y=\"396.952\">0.2</text>\n",
       "</g>\n",
       "<g clip-path=\"url(#clip00)\">\n",
       "<text style=\"fill:#00002d; fill-opacity:1; font-family:Arial,Helvetica Neue,Helvetica,sans-serif; font-size:12; text-anchor:middle;\" transform=\"rotate(0, 251.454, 396.952)\" x=\"251.454\" y=\"396.952\">0.4</text>\n",
       "</g>\n",
       "<g clip-path=\"url(#clip00)\">\n",
       "<text style=\"fill:#00002d; fill-opacity:1; font-family:Arial,Helvetica Neue,Helvetica,sans-serif; font-size:12; text-anchor:middle;\" transform=\"rotate(0, 366.324, 396.952)\" x=\"366.324\" y=\"396.952\">0.6</text>\n",
       "</g>\n",
       "<g clip-path=\"url(#clip00)\">\n",
       "<text style=\"fill:#00002d; fill-opacity:1; font-family:Arial,Helvetica Neue,Helvetica,sans-serif; font-size:12; text-anchor:middle;\" transform=\"rotate(0, 481.193, 396.952)\" x=\"481.193\" y=\"396.952\">0.8</text>\n",
       "</g>\n",
       "<g clip-path=\"url(#clip00)\">\n",
       "<text style=\"fill:#00002d; fill-opacity:1; font-family:Arial,Helvetica Neue,Helvetica,sans-serif; font-size:12; text-anchor:middle;\" transform=\"rotate(0, 596.063, 396.952)\" x=\"596.063\" y=\"396.952\">1.0</text>\n",
       "</g>\n",
       "<g clip-path=\"url(#clip00)\">\n",
       "<text style=\"fill:#00002d; fill-opacity:1; font-family:Arial,Helvetica Neue,Helvetica,sans-serif; font-size:12; text-anchor:end;\" transform=\"rotate(0, 20.5148, 254.176)\" x=\"20.5148\" y=\"254.176\">10</text>\n",
       "</g>\n",
       "<g clip-path=\"url(#clip00)\">\n",
       "<text style=\"fill:#00002d; fill-opacity:1; font-family:Arial,Helvetica Neue,Helvetica,sans-serif; font-size:12; text-anchor:end;\" transform=\"rotate(0, 20.5148, 96.2079)\" x=\"20.5148\" y=\"96.2079\">15</text>\n",
       "</g>\n",
       "<polyline clip-path=\"url(#clip02)\" style=\"stroke:#0000ff; stroke-width:0.8; stroke-opacity:1; fill:none\" points=\"\n",
       "  21.7148,384.952 27.5163,383.116 33.3178,381.258 39.1193,379.378 44.9208,377.475 50.7223,375.549 56.5238,373.6 62.3253,371.627 68.1268,369.629 73.9283,367.607 \n",
       "  79.7298,365.56 85.5313,363.487 91.3328,361.388 97.1342,359.263 102.936,357.111 108.737,354.932 114.539,352.726 120.34,350.491 126.142,348.228 131.943,345.935 \n",
       "  137.745,343.614 143.546,341.262 149.348,338.879 155.149,336.466 160.951,334.021 166.752,331.543 172.554,329.033 178.355,326.49 184.157,323.914 189.958,321.302 \n",
       "  195.76,318.656 201.561,315.975 207.363,313.257 213.164,310.503 218.966,307.711 224.767,304.881 230.569,302.013 236.37,299.105 242.172,296.158 247.973,293.17 \n",
       "  253.775,290.14 259.576,287.068 265.378,283.954 271.179,280.796 276.981,277.594 282.782,274.347 288.584,271.053 294.385,267.714 300.187,264.327 305.988,260.892 \n",
       "  311.79,257.407 317.591,253.873 323.393,250.288 329.194,246.651 334.996,242.962 340.797,239.219 346.599,235.422 352.4,231.569 358.202,227.66 364.003,223.693 \n",
       "  369.805,219.669 375.606,215.584 381.408,211.44 387.209,207.234 393.011,202.965 398.812,198.632 404.614,194.235 410.415,189.772 416.217,185.241 422.018,180.643 \n",
       "  427.82,175.974 433.621,171.235 439.423,166.424 445.224,161.539 451.026,156.58 456.827,151.545 462.629,146.432 468.43,141.241 474.232,135.969 480.033,130.616 \n",
       "  485.835,125.18 491.636,119.659 497.438,114.052 503.239,108.358 509.041,102.574 514.842,96.6997 520.644,90.7326 526.445,84.6714 532.247,78.5144 538.048,72.2597 \n",
       "  543.85,65.9056 549.651,59.4504 555.453,52.8921 561.254,46.2289 567.056,39.4589 572.857,32.5801 578.659,25.5906 584.46,18.4883 590.261,11.2711 596.063,3.93701 \n",
       "  \n",
       "  \"/>\n",
       "<polyline clip-path=\"url(#clip02)\" style=\"stroke:#ff0000; stroke-width:0.8; stroke-opacity:1; fill:none\" points=\"\n",
       "  21.7148,384.952 165.302,333.346 308.889,261.527 452.476,158.024 596.063,3.93701 \n",
       "  \"/>\n",
       "<polygon clip-path=\"url(#clip00)\" points=\"\n",
       "505.547,70.177 578.063,70.177 578.063,24.817 505.547,24.817 \n",
       "  \" fill=\"#ffffff\" fill-opacity=\"1\"/>\n",
       "<polyline clip-path=\"url(#clip00)\" style=\"stroke:#00002d; stroke-width:0.8; stroke-opacity:1; fill:none\" points=\"\n",
       "  505.547,70.177 578.063,70.177 578.063,24.817 505.547,24.817 505.547,70.177 \n",
       "  \"/>\n",
       "<polyline clip-path=\"url(#clip00)\" style=\"stroke:#0000ff; stroke-width:0.8; stroke-opacity:1; fill:none\" points=\"\n",
       "  511.547,39.937 547.547,39.937 \n",
       "  \"/>\n",
       "<g clip-path=\"url(#clip00)\">\n",
       "<text style=\"fill:#00002d; fill-opacity:1; font-family:Arial,Helvetica Neue,Helvetica,sans-serif; font-size:12; text-anchor:start;\" transform=\"rotate(0, 553.547, 44.437)\" x=\"553.547\" y=\"44.437\">y1</text>\n",
       "</g>\n",
       "<polyline clip-path=\"url(#clip00)\" style=\"stroke:#ff0000; stroke-width:0.8; stroke-opacity:1; fill:none\" points=\"\n",
       "  511.547,55.057 547.547,55.057 \n",
       "  \"/>\n",
       "<g clip-path=\"url(#clip00)\">\n",
       "<text style=\"fill:#00002d; fill-opacity:1; font-family:Arial,Helvetica Neue,Helvetica,sans-serif; font-size:12; text-anchor:start;\" transform=\"rotate(0, 553.547, 59.557)\" x=\"553.547\" y=\"59.557\">y2</text>\n",
       "</g>\n",
       "</svg>\n"
      ]
     },
     "execution_count": 32,
     "metadata": {},
     "output_type": "execute_result"
    }
   ],
   "source": [
    "h = 0.25 # w_2, w_3, w_4\n",
    "A = [4h^2-4  2-3h  0.0; 2+3h  4h^2-4  2-3h; 0.0  2+3h  4h^2-4]\n",
    "b = 2*h^2*( 2*[h; 2h; 3h] + 1) - [(2+3h)*(e+3); 0.0; (2-3h)*(2e^2+3)]\n",
    "\n",
    "w = [e+3; A\\b; 2e^2+3]\n",
    "\n",
    "sol(x) = exp(x+1) + exp(2x) + x + 2\n",
    "plot(sol, 0, 1, c=:blue)\n",
    "plot!(linspace(0, 1, 5), w, c=:red)"
   ]
  },
  {
   "cell_type": "markdown",
   "metadata": {},
   "source": [
    "# Exercícios\n",
    "\n",
    "- Fazer o exercício acima como uma função que recebe $m$ e retorna $x$ e $w$.\n",
    "- Fazer para um caso geral\n",
    "\n",
    "$$y'' + p(x)y'(x) + q(x)y(x) = g(x), \\quad a < x < b\n",
    "\\qquad y(a) = \\alpha, \\quad y(b) = \\beta. $$\n",
    "- Escolha três equações diferencias do tipo acima e faça gráficos comparando\n",
    "a solução exata com a aproximada."
   ]
  },
  {
   "cell_type": "markdown",
   "metadata": {},
   "source": [
    "$$ (2-3h)w_{i+1} + (4h^2 - 4)w_i + (2 + 3h)w_{i-1} = 2h^2(2x_i + 1). $$"
   ]
  },
  {
   "cell_type": "code",
   "execution_count": 38,
   "metadata": {
    "collapsed": false
   },
   "outputs": [
    {
     "name": "stderr",
     "output_type": "stream",
     "text": [
      "WARNING: Method definition exercicio(Any) in module Main at In[37]:5 overwritten at In[38]:2.\n",
      "WARNING: Method definition sol(Any) in module Main at In[37]:25 overwritten at In[38]:22.\n"
     ]
    },
    {
     "data": {
      "text/html": [
       "<?xml version=\"1.0\" encoding=\"utf-8\"?>\n",
       "<svg xmlns=\"http://www.w3.org/2000/svg\" xmlns:xlink=\"http://www.w3.org/1999/xlink\" width=\"600\" height=\"400\" viewBox=\"0 0 600 400\">\n",
       "<defs>\n",
       "  <clipPath id=\"clip00\">\n",
       "    <rect x=\"0\" y=\"0\" width=\"600\" height=\"400\"/>\n",
       "  </clipPath>\n",
       "</defs>\n",
       "<polygon clip-path=\"url(#clip00)\" points=\"\n",
       "0,400 600,400 600,0 0,0 \n",
       "  \" fill=\"#ffffff\" fill-opacity=\"1\"/>\n",
       "<defs>\n",
       "  <clipPath id=\"clip01\">\n",
       "    <rect x=\"120\" y=\"0\" width=\"421\" height=\"400\"/>\n",
       "  </clipPath>\n",
       "</defs>\n",
       "<polygon clip-path=\"url(#clip00)\" points=\"\n",
       "21.7148,384.952 596.063,384.952 596.063,3.93701 21.7148,3.93701 \n",
       "  \" fill=\"#ffffff\" fill-opacity=\"1\"/>\n",
       "<defs>\n",
       "  <clipPath id=\"clip02\">\n",
       "    <rect x=\"21\" y=\"3\" width=\"575\" height=\"382\"/>\n",
       "  </clipPath>\n",
       "</defs>\n",
       "<polyline clip-path=\"url(#clip02)\" style=\"stroke:#00002d; stroke-width:0.8; stroke-opacity:0.5; fill:none\" stroke-dasharray=\"1, 2\" points=\"\n",
       "  21.7148,379.237 21.7148,9.65223 \n",
       "  \"/>\n",
       "<polyline clip-path=\"url(#clip02)\" style=\"stroke:#00002d; stroke-width:0.8; stroke-opacity:0.5; fill:none\" stroke-dasharray=\"1, 2\" points=\"\n",
       "  136.584,379.237 136.584,9.65223 \n",
       "  \"/>\n",
       "<polyline clip-path=\"url(#clip02)\" style=\"stroke:#00002d; stroke-width:0.8; stroke-opacity:0.5; fill:none\" stroke-dasharray=\"1, 2\" points=\"\n",
       "  251.454,379.237 251.454,9.65223 \n",
       "  \"/>\n",
       "<polyline clip-path=\"url(#clip02)\" style=\"stroke:#00002d; stroke-width:0.8; stroke-opacity:0.5; fill:none\" stroke-dasharray=\"1, 2\" points=\"\n",
       "  366.324,379.237 366.324,9.65223 \n",
       "  \"/>\n",
       "<polyline clip-path=\"url(#clip02)\" style=\"stroke:#00002d; stroke-width:0.8; stroke-opacity:0.5; fill:none\" stroke-dasharray=\"1, 2\" points=\"\n",
       "  481.193,379.237 481.193,9.65223 \n",
       "  \"/>\n",
       "<polyline clip-path=\"url(#clip02)\" style=\"stroke:#00002d; stroke-width:0.8; stroke-opacity:0.5; fill:none\" stroke-dasharray=\"1, 2\" points=\"\n",
       "  596.063,379.237 596.063,9.65223 \n",
       "  \"/>\n",
       "<polyline clip-path=\"url(#clip02)\" style=\"stroke:#00002d; stroke-width:0.8; stroke-opacity:0.5; fill:none\" stroke-dasharray=\"1, 2\" points=\"\n",
       "  30.33,249.676 587.448,249.676 \n",
       "  \"/>\n",
       "<polyline clip-path=\"url(#clip02)\" style=\"stroke:#00002d; stroke-width:0.8; stroke-opacity:0.5; fill:none\" stroke-dasharray=\"1, 2\" points=\"\n",
       "  30.33,91.7079 587.448,91.7079 \n",
       "  \"/>\n",
       "<polyline clip-path=\"url(#clip02)\" style=\"stroke:#00002d; stroke-width:0.8; stroke-opacity:1; fill:none\" points=\"\n",
       "  21.7148,384.952 596.063,384.952 \n",
       "  \"/>\n",
       "<polyline clip-path=\"url(#clip02)\" style=\"stroke:#00002d; stroke-width:0.8; stroke-opacity:1; fill:none\" points=\"\n",
       "  21.7148,384.952 21.7148,379.237 \n",
       "  \"/>\n",
       "<polyline clip-path=\"url(#clip02)\" style=\"stroke:#00002d; stroke-width:0.8; stroke-opacity:1; fill:none\" points=\"\n",
       "  136.584,384.952 136.584,379.237 \n",
       "  \"/>\n",
       "<polyline clip-path=\"url(#clip02)\" style=\"stroke:#00002d; stroke-width:0.8; stroke-opacity:1; fill:none\" points=\"\n",
       "  251.454,384.952 251.454,379.237 \n",
       "  \"/>\n",
       "<polyline clip-path=\"url(#clip02)\" style=\"stroke:#00002d; stroke-width:0.8; stroke-opacity:1; fill:none\" points=\"\n",
       "  366.324,384.952 366.324,379.237 \n",
       "  \"/>\n",
       "<polyline clip-path=\"url(#clip02)\" style=\"stroke:#00002d; stroke-width:0.8; stroke-opacity:1; fill:none\" points=\"\n",
       "  481.193,384.952 481.193,379.237 \n",
       "  \"/>\n",
       "<polyline clip-path=\"url(#clip02)\" style=\"stroke:#00002d; stroke-width:0.8; stroke-opacity:1; fill:none\" points=\"\n",
       "  596.063,384.952 596.063,379.237 \n",
       "  \"/>\n",
       "<polyline clip-path=\"url(#clip02)\" style=\"stroke:#00002d; stroke-width:0.8; stroke-opacity:1; fill:none\" points=\"\n",
       "  21.7148,384.952 21.7148,3.93701 \n",
       "  \"/>\n",
       "<polyline clip-path=\"url(#clip02)\" style=\"stroke:#00002d; stroke-width:0.8; stroke-opacity:1; fill:none\" points=\"\n",
       "  21.7148,249.676 30.33,249.676 \n",
       "  \"/>\n",
       "<polyline clip-path=\"url(#clip02)\" style=\"stroke:#00002d; stroke-width:0.8; stroke-opacity:1; fill:none\" points=\"\n",
       "  21.7148,91.7079 30.33,91.7079 \n",
       "  \"/>\n",
       "<g clip-path=\"url(#clip00)\">\n",
       "<text style=\"fill:#00002d; fill-opacity:1; font-family:Arial,Helvetica Neue,Helvetica,sans-serif; font-size:12; text-anchor:middle;\" transform=\"rotate(0, 21.7148, 396.952)\" x=\"21.7148\" y=\"396.952\">0.0</text>\n",
       "</g>\n",
       "<g clip-path=\"url(#clip00)\">\n",
       "<text style=\"fill:#00002d; fill-opacity:1; font-family:Arial,Helvetica Neue,Helvetica,sans-serif; font-size:12; text-anchor:middle;\" transform=\"rotate(0, 136.584, 396.952)\" x=\"136.584\" y=\"396.952\">0.2</text>\n",
       "</g>\n",
       "<g clip-path=\"url(#clip00)\">\n",
       "<text style=\"fill:#00002d; fill-opacity:1; font-family:Arial,Helvetica Neue,Helvetica,sans-serif; font-size:12; text-anchor:middle;\" transform=\"rotate(0, 251.454, 396.952)\" x=\"251.454\" y=\"396.952\">0.4</text>\n",
       "</g>\n",
       "<g clip-path=\"url(#clip00)\">\n",
       "<text style=\"fill:#00002d; fill-opacity:1; font-family:Arial,Helvetica Neue,Helvetica,sans-serif; font-size:12; text-anchor:middle;\" transform=\"rotate(0, 366.324, 396.952)\" x=\"366.324\" y=\"396.952\">0.6</text>\n",
       "</g>\n",
       "<g clip-path=\"url(#clip00)\">\n",
       "<text style=\"fill:#00002d; fill-opacity:1; font-family:Arial,Helvetica Neue,Helvetica,sans-serif; font-size:12; text-anchor:middle;\" transform=\"rotate(0, 481.193, 396.952)\" x=\"481.193\" y=\"396.952\">0.8</text>\n",
       "</g>\n",
       "<g clip-path=\"url(#clip00)\">\n",
       "<text style=\"fill:#00002d; fill-opacity:1; font-family:Arial,Helvetica Neue,Helvetica,sans-serif; font-size:12; text-anchor:middle;\" transform=\"rotate(0, 596.063, 396.952)\" x=\"596.063\" y=\"396.952\">1.0</text>\n",
       "</g>\n",
       "<g clip-path=\"url(#clip00)\">\n",
       "<text style=\"fill:#00002d; fill-opacity:1; font-family:Arial,Helvetica Neue,Helvetica,sans-serif; font-size:12; text-anchor:end;\" transform=\"rotate(0, 20.5148, 254.176)\" x=\"20.5148\" y=\"254.176\">10</text>\n",
       "</g>\n",
       "<g clip-path=\"url(#clip00)\">\n",
       "<text style=\"fill:#00002d; fill-opacity:1; font-family:Arial,Helvetica Neue,Helvetica,sans-serif; font-size:12; text-anchor:end;\" transform=\"rotate(0, 20.5148, 96.2079)\" x=\"20.5148\" y=\"96.2079\">15</text>\n",
       "</g>\n",
       "<polyline clip-path=\"url(#clip02)\" style=\"stroke:#0000ff; stroke-width:0.8; stroke-opacity:1; fill:none\" points=\"\n",
       "  21.7148,384.952 27.5163,383.116 33.3178,381.258 39.1193,379.378 44.9208,377.475 50.7223,375.549 56.5238,373.6 62.3253,371.627 68.1268,369.629 73.9283,367.607 \n",
       "  79.7298,365.56 85.5313,363.487 91.3328,361.388 97.1342,359.263 102.936,357.111 108.737,354.932 114.539,352.726 120.34,350.491 126.142,348.228 131.943,345.935 \n",
       "  137.745,343.614 143.546,341.262 149.348,338.879 155.149,336.466 160.951,334.021 166.752,331.543 172.554,329.033 178.355,326.49 184.157,323.914 189.958,321.302 \n",
       "  195.76,318.656 201.561,315.975 207.363,313.257 213.164,310.503 218.966,307.711 224.767,304.881 230.569,302.013 236.37,299.105 242.172,296.158 247.973,293.17 \n",
       "  253.775,290.14 259.576,287.068 265.378,283.954 271.179,280.796 276.981,277.594 282.782,274.347 288.584,271.053 294.385,267.714 300.187,264.327 305.988,260.892 \n",
       "  311.79,257.407 317.591,253.873 323.393,250.288 329.194,246.651 334.996,242.962 340.797,239.219 346.599,235.422 352.4,231.569 358.202,227.66 364.003,223.693 \n",
       "  369.805,219.669 375.606,215.584 381.408,211.44 387.209,207.234 393.011,202.965 398.812,198.632 404.614,194.235 410.415,189.772 416.217,185.241 422.018,180.643 \n",
       "  427.82,175.974 433.621,171.235 439.423,166.424 445.224,161.539 451.026,156.58 456.827,151.545 462.629,146.432 468.43,141.241 474.232,135.969 480.033,130.616 \n",
       "  485.835,125.18 491.636,119.659 497.438,114.052 503.239,108.358 509.041,102.574 514.842,96.6997 520.644,90.7326 526.445,84.6714 532.247,78.5144 538.048,72.2597 \n",
       "  543.85,65.9056 549.651,59.4504 555.453,52.8921 561.254,46.2289 567.056,39.4589 572.857,32.5801 578.659,25.5906 584.46,18.4883 590.261,11.2711 596.063,3.93701 \n",
       "  \n",
       "  \"/>\n",
       "<polyline clip-path=\"url(#clip02)\" style=\"stroke:#ff0000; stroke-width:0.8; stroke-opacity:1; fill:none\" points=\"\n",
       "  21.7148,384.952 27.5163,383.116 33.3178,381.258 39.1193,379.378 44.9208,377.476 50.7223,375.55 56.5238,373.6 62.3253,371.627 68.1268,369.63 73.9283,367.607 \n",
       "  79.7298,365.56 85.5313,363.488 91.3328,361.389 97.1342,359.264 102.936,357.112 108.737,354.934 114.539,352.727 120.34,350.492 126.142,348.229 131.943,345.937 \n",
       "  137.745,343.615 143.546,341.263 149.348,338.881 155.149,336.467 160.951,334.022 166.752,331.545 172.554,329.035 178.355,326.492 184.157,323.916 189.958,321.305 \n",
       "  195.76,318.659 201.561,315.977 207.363,313.26 213.164,310.505 218.966,307.714 224.767,304.884 230.569,302.016 236.37,299.108 242.172,296.161 247.973,293.172 \n",
       "  253.775,290.143 259.576,287.071 265.378,283.957 271.179,280.799 276.981,277.597 282.782,274.35 288.584,271.057 294.385,267.717 300.187,264.33 305.988,260.895 \n",
       "  311.79,257.411 317.591,253.877 323.393,250.292 329.194,246.655 334.996,242.966 340.797,239.223 346.599,235.425 352.4,231.573 358.202,227.664 364.003,223.697 \n",
       "  369.805,219.673 375.606,215.588 381.408,211.444 387.209,207.238 393.011,202.969 398.812,198.637 404.614,194.239 410.415,189.776 416.217,185.246 422.018,180.647 \n",
       "  427.82,175.978 433.621,171.239 439.423,166.428 445.224,161.543 451.026,156.584 456.827,151.549 462.629,146.436 468.43,141.245 474.232,135.973 480.033,130.62 \n",
       "  485.835,125.184 491.636,119.663 497.438,114.056 503.239,108.361 509.041,102.577 514.842,96.7028 520.644,90.7356 526.445,84.6742 532.247,78.517 538.048,72.2622 \n",
       "  543.85,65.9079 549.651,59.4525 555.453,52.894 561.254,46.2306 567.056,39.4603 572.857,32.5813 578.659,25.5915 584.46,18.4889 590.261,11.2714 596.063,3.93701 \n",
       "  \n",
       "  \"/>\n",
       "<polygon clip-path=\"url(#clip00)\" points=\"\n",
       "505.547,70.177 578.063,70.177 578.063,24.817 505.547,24.817 \n",
       "  \" fill=\"#ffffff\" fill-opacity=\"1\"/>\n",
       "<polyline clip-path=\"url(#clip00)\" style=\"stroke:#00002d; stroke-width:0.8; stroke-opacity:1; fill:none\" points=\"\n",
       "  505.547,70.177 578.063,70.177 578.063,24.817 505.547,24.817 505.547,70.177 \n",
       "  \"/>\n",
       "<polyline clip-path=\"url(#clip00)\" style=\"stroke:#0000ff; stroke-width:0.8; stroke-opacity:1; fill:none\" points=\"\n",
       "  511.547,39.937 547.547,39.937 \n",
       "  \"/>\n",
       "<g clip-path=\"url(#clip00)\">\n",
       "<text style=\"fill:#00002d; fill-opacity:1; font-family:Arial,Helvetica Neue,Helvetica,sans-serif; font-size:12; text-anchor:start;\" transform=\"rotate(0, 553.547, 44.437)\" x=\"553.547\" y=\"44.437\">y1</text>\n",
       "</g>\n",
       "<polyline clip-path=\"url(#clip00)\" style=\"stroke:#ff0000; stroke-width:0.8; stroke-opacity:1; fill:none\" points=\"\n",
       "  511.547,55.057 547.547,55.057 \n",
       "  \"/>\n",
       "<g clip-path=\"url(#clip00)\">\n",
       "<text style=\"fill:#00002d; fill-opacity:1; font-family:Arial,Helvetica Neue,Helvetica,sans-serif; font-size:12; text-anchor:start;\" transform=\"rotate(0, 553.547, 59.557)\" x=\"553.547\" y=\"59.557\">y2</text>\n",
       "</g>\n",
       "</svg>\n"
      ]
     },
     "execution_count": 38,
     "metadata": {},
     "output_type": "execute_result"
    }
   ],
   "source": [
    "function exercicio(m)\n",
    "    x = collect(linspace(0, 1, m))\n",
    "    h = x[2] - x[1]\n",
    "    \n",
    "    A = spzeros(m-2, m-2)\n",
    "    for i = 1:m-3\n",
    "        A[i,i] = 4h^2 - 4\n",
    "        A[i+1,i] = 2+3h\n",
    "        A[i,i+1] = 2-3h\n",
    "    end\n",
    "    A[m-2,m-2] = 4h^2 - 4\n",
    "    \n",
    "    b = 2*h^2 * (2*x[2:m-1] + 1)\n",
    "    b[1] -= (2+3h)*(e+3)\n",
    "    b[m-2] -= (2-3h)*(2e^2+3)\n",
    "    \n",
    "    return x, [e+3; A\\b; 2e^2+3]\n",
    "end\n",
    "\n",
    "x, w = exercicio(100)\n",
    "\n",
    "sol(x) = exp(x+1) + exp(2x) + x + 2\n",
    "plot(sol, 0, 1, c=:blue)\n",
    "plot!(x, w, c=:red)"
   ]
  },
  {
   "cell_type": "markdown",
   "metadata": {},
   "source": [
    "## Condições de contorno com a derivada\n",
    "\n",
    "Um caso um pouco mais complicado que pode aparecer é quando a condição de contorno envolve um derivada.\n",
    "Esse caso não é nada raro, mas o tratamento é levemente diferenciado.\n",
    "\n",
    "Vamos considerar uma barra de metal homogênea isolada termicamente em uma das extremidades e com uma temperatura fixa na outra, dissipando calor e sendo aquecida no seu centro.\n",
    "\n",
    "Vamos considerar que ela tem comprimento $1$, e que o aquecimento em seu centro é dado pela função\n",
    "$$f(x) = 20e^{-100\\left(x-\\frac{1}{2}\\right)^2}$$"
   ]
  },
  {
   "cell_type": "code",
   "execution_count": 39,
   "metadata": {
    "collapsed": false
   },
   "outputs": [
    {
     "data": {
      "text/html": [
       "<?xml version=\"1.0\" encoding=\"utf-8\"?>\n",
       "<svg xmlns=\"http://www.w3.org/2000/svg\" xmlns:xlink=\"http://www.w3.org/1999/xlink\" width=\"600\" height=\"400\" viewBox=\"0 0 600 400\">\n",
       "<defs>\n",
       "  <clipPath id=\"clip00\">\n",
       "    <rect x=\"0\" y=\"0\" width=\"600\" height=\"400\"/>\n",
       "  </clipPath>\n",
       "</defs>\n",
       "<polygon clip-path=\"url(#clip00)\" points=\"\n",
       "0,400 600,400 600,0 0,0 \n",
       "  \" fill=\"#ffffff\" fill-opacity=\"1\"/>\n",
       "<defs>\n",
       "  <clipPath id=\"clip01\">\n",
       "    <rect x=\"120\" y=\"0\" width=\"421\" height=\"400\"/>\n",
       "  </clipPath>\n",
       "</defs>\n",
       "<polygon clip-path=\"url(#clip00)\" points=\"\n",
       "21.7148,384.952 596.063,384.952 596.063,3.93701 21.7148,3.93701 \n",
       "  \" fill=\"#ffffff\" fill-opacity=\"1\"/>\n",
       "<defs>\n",
       "  <clipPath id=\"clip02\">\n",
       "    <rect x=\"21\" y=\"3\" width=\"575\" height=\"382\"/>\n",
       "  </clipPath>\n",
       "</defs>\n",
       "<polyline clip-path=\"url(#clip02)\" style=\"stroke:#00002d; stroke-width:0.8; stroke-opacity:0.5; fill:none\" stroke-dasharray=\"1, 2\" points=\"\n",
       "  21.7148,379.237 21.7148,9.65223 \n",
       "  \"/>\n",
       "<polyline clip-path=\"url(#clip02)\" style=\"stroke:#00002d; stroke-width:0.8; stroke-opacity:0.5; fill:none\" stroke-dasharray=\"1, 2\" points=\"\n",
       "  136.584,379.237 136.584,9.65223 \n",
       "  \"/>\n",
       "<polyline clip-path=\"url(#clip02)\" style=\"stroke:#00002d; stroke-width:0.8; stroke-opacity:0.5; fill:none\" stroke-dasharray=\"1, 2\" points=\"\n",
       "  251.454,379.237 251.454,9.65223 \n",
       "  \"/>\n",
       "<polyline clip-path=\"url(#clip02)\" style=\"stroke:#00002d; stroke-width:0.8; stroke-opacity:0.5; fill:none\" stroke-dasharray=\"1, 2\" points=\"\n",
       "  366.324,379.237 366.324,9.65223 \n",
       "  \"/>\n",
       "<polyline clip-path=\"url(#clip02)\" style=\"stroke:#00002d; stroke-width:0.8; stroke-opacity:0.5; fill:none\" stroke-dasharray=\"1, 2\" points=\"\n",
       "  481.193,379.237 481.193,9.65223 \n",
       "  \"/>\n",
       "<polyline clip-path=\"url(#clip02)\" style=\"stroke:#00002d; stroke-width:0.8; stroke-opacity:0.5; fill:none\" stroke-dasharray=\"1, 2\" points=\"\n",
       "  596.063,379.237 596.063,9.65223 \n",
       "  \"/>\n",
       "<polyline clip-path=\"url(#clip02)\" style=\"stroke:#00002d; stroke-width:0.8; stroke-opacity:0.5; fill:none\" stroke-dasharray=\"1, 2\" points=\"\n",
       "  30.33,289.455 587.448,289.455 \n",
       "  \"/>\n",
       "<polyline clip-path=\"url(#clip02)\" style=\"stroke:#00002d; stroke-width:0.8; stroke-opacity:0.5; fill:none\" stroke-dasharray=\"1, 2\" points=\"\n",
       "  30.33,193.958 587.448,193.958 \n",
       "  \"/>\n",
       "<polyline clip-path=\"url(#clip02)\" style=\"stroke:#00002d; stroke-width:0.8; stroke-opacity:0.5; fill:none\" stroke-dasharray=\"1, 2\" points=\"\n",
       "  30.33,98.4609 587.448,98.4609 \n",
       "  \"/>\n",
       "<polyline clip-path=\"url(#clip02)\" style=\"stroke:#00002d; stroke-width:0.8; stroke-opacity:1; fill:none\" points=\"\n",
       "  21.7148,384.952 596.063,384.952 \n",
       "  \"/>\n",
       "<polyline clip-path=\"url(#clip02)\" style=\"stroke:#00002d; stroke-width:0.8; stroke-opacity:1; fill:none\" points=\"\n",
       "  21.7148,384.952 21.7148,379.237 \n",
       "  \"/>\n",
       "<polyline clip-path=\"url(#clip02)\" style=\"stroke:#00002d; stroke-width:0.8; stroke-opacity:1; fill:none\" points=\"\n",
       "  136.584,384.952 136.584,379.237 \n",
       "  \"/>\n",
       "<polyline clip-path=\"url(#clip02)\" style=\"stroke:#00002d; stroke-width:0.8; stroke-opacity:1; fill:none\" points=\"\n",
       "  251.454,384.952 251.454,379.237 \n",
       "  \"/>\n",
       "<polyline clip-path=\"url(#clip02)\" style=\"stroke:#00002d; stroke-width:0.8; stroke-opacity:1; fill:none\" points=\"\n",
       "  366.324,384.952 366.324,379.237 \n",
       "  \"/>\n",
       "<polyline clip-path=\"url(#clip02)\" style=\"stroke:#00002d; stroke-width:0.8; stroke-opacity:1; fill:none\" points=\"\n",
       "  481.193,384.952 481.193,379.237 \n",
       "  \"/>\n",
       "<polyline clip-path=\"url(#clip02)\" style=\"stroke:#00002d; stroke-width:0.8; stroke-opacity:1; fill:none\" points=\"\n",
       "  596.063,384.952 596.063,379.237 \n",
       "  \"/>\n",
       "<polyline clip-path=\"url(#clip02)\" style=\"stroke:#00002d; stroke-width:0.8; stroke-opacity:1; fill:none\" points=\"\n",
       "  21.7148,384.952 21.7148,3.93701 \n",
       "  \"/>\n",
       "<polyline clip-path=\"url(#clip02)\" style=\"stroke:#00002d; stroke-width:0.8; stroke-opacity:1; fill:none\" points=\"\n",
       "  21.7148,289.455 30.33,289.455 \n",
       "  \"/>\n",
       "<polyline clip-path=\"url(#clip02)\" style=\"stroke:#00002d; stroke-width:0.8; stroke-opacity:1; fill:none\" points=\"\n",
       "  21.7148,193.958 30.33,193.958 \n",
       "  \"/>\n",
       "<polyline clip-path=\"url(#clip02)\" style=\"stroke:#00002d; stroke-width:0.8; stroke-opacity:1; fill:none\" points=\"\n",
       "  21.7148,98.4609 30.33,98.4609 \n",
       "  \"/>\n",
       "<g clip-path=\"url(#clip00)\">\n",
       "<text style=\"fill:#00002d; fill-opacity:1; font-family:Arial,Helvetica Neue,Helvetica,sans-serif; font-size:12; text-anchor:middle;\" transform=\"rotate(0, 21.7148, 396.952)\" x=\"21.7148\" y=\"396.952\">0.0</text>\n",
       "</g>\n",
       "<g clip-path=\"url(#clip00)\">\n",
       "<text style=\"fill:#00002d; fill-opacity:1; font-family:Arial,Helvetica Neue,Helvetica,sans-serif; font-size:12; text-anchor:middle;\" transform=\"rotate(0, 136.584, 396.952)\" x=\"136.584\" y=\"396.952\">0.2</text>\n",
       "</g>\n",
       "<g clip-path=\"url(#clip00)\">\n",
       "<text style=\"fill:#00002d; fill-opacity:1; font-family:Arial,Helvetica Neue,Helvetica,sans-serif; font-size:12; text-anchor:middle;\" transform=\"rotate(0, 251.454, 396.952)\" x=\"251.454\" y=\"396.952\">0.4</text>\n",
       "</g>\n",
       "<g clip-path=\"url(#clip00)\">\n",
       "<text style=\"fill:#00002d; fill-opacity:1; font-family:Arial,Helvetica Neue,Helvetica,sans-serif; font-size:12; text-anchor:middle;\" transform=\"rotate(0, 366.324, 396.952)\" x=\"366.324\" y=\"396.952\">0.6</text>\n",
       "</g>\n",
       "<g clip-path=\"url(#clip00)\">\n",
       "<text style=\"fill:#00002d; fill-opacity:1; font-family:Arial,Helvetica Neue,Helvetica,sans-serif; font-size:12; text-anchor:middle;\" transform=\"rotate(0, 481.193, 396.952)\" x=\"481.193\" y=\"396.952\">0.8</text>\n",
       "</g>\n",
       "<g clip-path=\"url(#clip00)\">\n",
       "<text style=\"fill:#00002d; fill-opacity:1; font-family:Arial,Helvetica Neue,Helvetica,sans-serif; font-size:12; text-anchor:middle;\" transform=\"rotate(0, 596.063, 396.952)\" x=\"596.063\" y=\"396.952\">1.0</text>\n",
       "</g>\n",
       "<g clip-path=\"url(#clip00)\">\n",
       "<text style=\"fill:#00002d; fill-opacity:1; font-family:Arial,Helvetica Neue,Helvetica,sans-serif; font-size:12; text-anchor:end;\" transform=\"rotate(0, 20.5148, 293.955)\" x=\"20.5148\" y=\"293.955\">5</text>\n",
       "</g>\n",
       "<g clip-path=\"url(#clip00)\">\n",
       "<text style=\"fill:#00002d; fill-opacity:1; font-family:Arial,Helvetica Neue,Helvetica,sans-serif; font-size:12; text-anchor:end;\" transform=\"rotate(0, 20.5148, 198.458)\" x=\"20.5148\" y=\"198.458\">10</text>\n",
       "</g>\n",
       "<g clip-path=\"url(#clip00)\">\n",
       "<text style=\"fill:#00002d; fill-opacity:1; font-family:Arial,Helvetica Neue,Helvetica,sans-serif; font-size:12; text-anchor:end;\" transform=\"rotate(0, 20.5148, 102.961)\" x=\"20.5148\" y=\"102.961\">15</text>\n",
       "</g>\n",
       "<polyline clip-path=\"url(#clip02)\" style=\"stroke:#0099ff; stroke-width:0.8; stroke-opacity:1; fill:none\" points=\"\n",
       "  21.7148,384.952 27.5163,384.952 33.3178,384.952 39.1193,384.952 44.9208,384.952 50.7223,384.952 56.5238,384.952 62.3253,384.952 68.1268,384.952 73.9283,384.952 \n",
       "  79.7298,384.952 85.5313,384.952 91.3328,384.952 97.1342,384.951 102.936,384.951 108.737,384.95 114.539,384.948 120.34,384.944 126.142,384.937 131.943,384.923 \n",
       "  137.745,384.899 143.546,384.856 149.348,384.782 155.149,384.657 160.951,384.45 166.752,384.116 172.554,383.587 178.355,382.77 184.157,381.534 189.958,379.705 \n",
       "  195.76,377.061 201.561,373.324 207.363,368.163 213.164,361.201 218.966,352.031 224.767,340.242 230.569,325.457 236.37,307.383 242.172,285.861 247.973,260.924 \n",
       "  253.775,232.848 259.576,202.184 265.378,169.773 271.179,136.733 276.981,104.403 282.782,74.2675 288.584,47.8444 294.385,26.5625 300.187,11.6332 305.988,3.93701 \n",
       "  311.79,3.93701 317.591,11.6332 323.393,26.5625 329.194,47.8444 334.996,74.2675 340.797,104.403 346.599,136.733 352.4,169.773 358.202,202.184 364.003,232.848 \n",
       "  369.805,260.924 375.606,285.861 381.408,307.383 387.209,325.457 393.011,340.242 398.812,352.031 404.614,361.201 410.415,368.163 416.217,373.324 422.018,377.061 \n",
       "  427.82,379.705 433.621,381.534 439.423,382.77 445.224,383.587 451.026,384.116 456.827,384.45 462.629,384.657 468.43,384.782 474.232,384.856 480.033,384.899 \n",
       "  485.835,384.923 491.636,384.937 497.438,384.944 503.239,384.948 509.041,384.95 514.842,384.951 520.644,384.951 526.445,384.952 532.247,384.952 538.048,384.952 \n",
       "  543.85,384.952 549.651,384.952 555.453,384.952 561.254,384.952 567.056,384.952 572.857,384.952 578.659,384.952 584.46,384.952 590.261,384.952 596.063,384.952 \n",
       "  \n",
       "  \"/>\n",
       "<polygon clip-path=\"url(#clip00)\" points=\"\n",
       "505.547,55.057 578.063,55.057 578.063,24.817 505.547,24.817 \n",
       "  \" fill=\"#ffffff\" fill-opacity=\"1\"/>\n",
       "<polyline clip-path=\"url(#clip00)\" style=\"stroke:#00002d; stroke-width:0.8; stroke-opacity:1; fill:none\" points=\"\n",
       "  505.547,55.057 578.063,55.057 578.063,24.817 505.547,24.817 505.547,55.057 \n",
       "  \"/>\n",
       "<polyline clip-path=\"url(#clip00)\" style=\"stroke:#0099ff; stroke-width:0.8; stroke-opacity:1; fill:none\" points=\"\n",
       "  511.547,39.937 547.547,39.937 \n",
       "  \"/>\n",
       "<g clip-path=\"url(#clip00)\">\n",
       "<text style=\"fill:#00002d; fill-opacity:1; font-family:Arial,Helvetica Neue,Helvetica,sans-serif; font-size:12; text-anchor:start;\" transform=\"rotate(0, 553.547, 44.437)\" x=\"553.547\" y=\"44.437\">y1</text>\n",
       "</g>\n",
       "</svg>\n"
      ]
     },
     "execution_count": 39,
     "metadata": {},
     "output_type": "execute_result"
    }
   ],
   "source": [
    "plot(x->20*exp(-100*(x-0.5)^2), 0, 1)"
   ]
  },
  {
   "cell_type": "markdown",
   "metadata": {},
   "source": [
    "A equação da variação da temperatura com o tempo é\n",
    "$$\\frac{\\partial T}{\\partial t}(t,x) = \\varepsilon \\frac{\\partial^2 T}{\\partial x^2}(t,x) - \\sigma T(t,x) + f(x).$$"
   ]
  },
  {
   "cell_type": "markdown",
   "metadata": {},
   "source": [
    "Vamos nos preocupar no instante em que a temperatura da barra se estabiliza, isto é, não varia mais no tempo.\n",
    "Em outras palavras, a derivada no tempo é zero, e podemos olhar apenas para a função em $x$."
   ]
  },
  {
   "cell_type": "markdown",
   "metadata": {},
   "source": [
    "$$ \\varepsilon T''(x) - \\sigma T(x) = -f(x). $$"
   ]
  },
  {
   "cell_type": "markdown",
   "metadata": {},
   "source": [
    "Até aqui, igual ao outro problema. No entanto, dizer que a barra é isolada termicamente no extremo quer dizer que a variação de temperatura é nula. Isto é,\n",
    "$$ T'(0) = 0. $$\n",
    "No outro extremo, digamos que a temperatura é fixa no 0."
   ]
  },
  {
   "cell_type": "markdown",
   "metadata": {},
   "source": [
    "Olhando para as fórmulas de MDF, teremos\n",
    "$$ T'(0) \\approx \\frac{w_2 - w_0}{2h} = 0 \\Rightarrow w_0 = w_2, $$\n",
    "e\n",
    "$$ T'(1) \\approx \\frac{w_{m+1} - w_{m-1}}{2h} = 0 \\Rightarrow w_{m+1} = w_{m-1}. $$"
   ]
  },
  {
   "cell_type": "markdown",
   "metadata": {},
   "source": [
    "Isto é, adicionamos um ponto virtual: $x_0$, que é externos à região.\n",
    "No entanto, sempre obteremos condições, como as acima, para substituir os pontos virtuais nas equações gerais."
   ]
  },
  {
   "cell_type": "markdown",
   "metadata": {},
   "source": [
    "Discretizando a equação do calor:\n",
    "$$ \\varepsilon \\frac{w_{i+1} - 2w_i + w_{i-1}}{h^2} - \\sigma w_i = -f(x_i). $$"
   ]
  },
  {
   "cell_type": "markdown",
   "metadata": {},
   "source": [
    "$$ \\varepsilon w_{i-1} - (h^2\\sigma + 2 \\varepsilon) w_i + \\varepsilon w_{i+1} = -h^2f(x_i). $$"
   ]
  },
  {
   "cell_type": "markdown",
   "metadata": {},
   "source": [
    "Agora, para $i = 1$,\n",
    "$$ \\varepsilon w_{0} - (h^2\\sigma + 2 \\varepsilon) w_1 + \\varepsilon w_{2} = -h^2f(x_1). $$\n",
    "$$ \\varepsilon w_{2} - (h^2\\sigma + 2 \\varepsilon) w_1 + \\varepsilon w_{2} = -h^2f(x_1). $$\n",
    "$$ -(h^2\\sigma + 2 \\varepsilon) w_1 + 2\\varepsilon w_{2} = -h^2f(x_1). $$"
   ]
  },
  {
   "cell_type": "markdown",
   "metadata": {},
   "source": [
    "Para $i = m$,\n",
    "$$ \\varepsilon w_{m-1} - (h^2\\sigma + 2 \\varepsilon) w_m + \\varepsilon w_{m+1} = -h^2f(x_m). $$\n",
    "$$ \\varepsilon w_{m-1} - (h^2\\sigma + 2 \\varepsilon) w_m + \\varepsilon w_{m-1} = -h^2f(x_m). $$\n",
    "$$ 2\\varepsilon w_{m-1} - (h^2\\sigma + 2 \\varepsilon) w_m = -h^2f(x_m). $$"
   ]
  },
  {
   "cell_type": "code",
   "execution_count": 4,
   "metadata": {
    "collapsed": false
   },
   "outputs": [
    {
     "data": {
      "text/plain": [
       "eq_calor (generic function with 2 methods)"
      ]
     },
     "execution_count": 4,
     "metadata": {},
     "output_type": "execute_result"
    }
   ],
   "source": [
    "function eq_calor(f, ϵ, σ, m = 10)\n",
    "    h = 1/(m-1)\n",
    "    x = linspace(0, 1, m)\n",
    "    ld = [ones(m-2)*ϵ; 2ϵ]\n",
    "    ud = [2*ϵ; ones(m-2)*ϵ]\n",
    "    d = -(σ*h^2+2*ϵ)*ones(m)\n",
    "    A = spdiagm( (ld, d, ud), (-1, 0, 1), m, m)\n",
    "    b = -h^2*map(f, x)\n",
    "    return x, A\\b\n",
    "end"
   ]
  },
  {
   "cell_type": "code",
   "execution_count": 22,
   "metadata": {
    "collapsed": false
   },
   "outputs": [
    {
     "name": "stderr",
     "output_type": "stream",
     "text": [
      "WARNING: Method definition f(Any) in module Main at In[21]:1 overwritten at In[22]:1.\n"
     ]
    },
    {
     "data": {
      "text/html": [
       "<?xml version=\"1.0\" encoding=\"utf-8\"?>\n",
       "<svg xmlns=\"http://www.w3.org/2000/svg\" xmlns:xlink=\"http://www.w3.org/1999/xlink\" width=\"600\" height=\"400\" viewBox=\"0 0 600 400\">\n",
       "<defs>\n",
       "  <clipPath id=\"clip00\">\n",
       "    <rect x=\"0\" y=\"0\" width=\"600\" height=\"400\"/>\n",
       "  </clipPath>\n",
       "</defs>\n",
       "<polygon clip-path=\"url(#clip00)\" points=\"\n",
       "0,400 600,400 600,0 0,0 \n",
       "  \" fill=\"#ffffff\" fill-opacity=\"1\"/>\n",
       "<defs>\n",
       "  <clipPath id=\"clip01\">\n",
       "    <rect x=\"120\" y=\"0\" width=\"421\" height=\"400\"/>\n",
       "  </clipPath>\n",
       "</defs>\n",
       "<polygon clip-path=\"url(#clip00)\" points=\"\n",
       "39.4926,384.952 596.063,384.952 596.063,3.93701 39.4926,3.93701 \n",
       "  \" fill=\"#ffffff\" fill-opacity=\"1\"/>\n",
       "<defs>\n",
       "  <clipPath id=\"clip02\">\n",
       "    <rect x=\"39\" y=\"3\" width=\"557\" height=\"382\"/>\n",
       "  </clipPath>\n",
       "</defs>\n",
       "<polyline clip-path=\"url(#clip02)\" style=\"stroke:#00002d; stroke-width:0.8; stroke-opacity:0.5; fill:none\" stroke-dasharray=\"1, 2\" points=\"\n",
       "  39.4926,379.237 39.4926,9.65223 \n",
       "  \"/>\n",
       "<polyline clip-path=\"url(#clip02)\" style=\"stroke:#00002d; stroke-width:0.8; stroke-opacity:0.5; fill:none\" stroke-dasharray=\"1, 2\" points=\"\n",
       "  150.807,379.237 150.807,9.65223 \n",
       "  \"/>\n",
       "<polyline clip-path=\"url(#clip02)\" style=\"stroke:#00002d; stroke-width:0.8; stroke-opacity:0.5; fill:none\" stroke-dasharray=\"1, 2\" points=\"\n",
       "  262.121,379.237 262.121,9.65223 \n",
       "  \"/>\n",
       "<polyline clip-path=\"url(#clip02)\" style=\"stroke:#00002d; stroke-width:0.8; stroke-opacity:0.5; fill:none\" stroke-dasharray=\"1, 2\" points=\"\n",
       "  373.435,379.237 373.435,9.65223 \n",
       "  \"/>\n",
       "<polyline clip-path=\"url(#clip02)\" style=\"stroke:#00002d; stroke-width:0.8; stroke-opacity:0.5; fill:none\" stroke-dasharray=\"1, 2\" points=\"\n",
       "  484.749,379.237 484.749,9.65223 \n",
       "  \"/>\n",
       "<polyline clip-path=\"url(#clip02)\" style=\"stroke:#00002d; stroke-width:0.8; stroke-opacity:0.5; fill:none\" stroke-dasharray=\"1, 2\" points=\"\n",
       "  596.063,379.237 596.063,9.65223 \n",
       "  \"/>\n",
       "<polyline clip-path=\"url(#clip02)\" style=\"stroke:#00002d; stroke-width:0.8; stroke-opacity:0.5; fill:none\" stroke-dasharray=\"1, 2\" points=\"\n",
       "  47.8411,285.424 587.714,285.424 \n",
       "  \"/>\n",
       "<polyline clip-path=\"url(#clip02)\" style=\"stroke:#00002d; stroke-width:0.8; stroke-opacity:0.5; fill:none\" stroke-dasharray=\"1, 2\" points=\"\n",
       "  47.8411,174.096 587.714,174.096 \n",
       "  \"/>\n",
       "<polyline clip-path=\"url(#clip02)\" style=\"stroke:#00002d; stroke-width:0.8; stroke-opacity:0.5; fill:none\" stroke-dasharray=\"1, 2\" points=\"\n",
       "  47.8411,62.7682 587.714,62.7682 \n",
       "  \"/>\n",
       "<polyline clip-path=\"url(#clip02)\" style=\"stroke:#00002d; stroke-width:0.8; stroke-opacity:1; fill:none\" points=\"\n",
       "  39.4926,384.952 596.063,384.952 \n",
       "  \"/>\n",
       "<polyline clip-path=\"url(#clip02)\" style=\"stroke:#00002d; stroke-width:0.8; stroke-opacity:1; fill:none\" points=\"\n",
       "  39.4926,384.952 39.4926,379.237 \n",
       "  \"/>\n",
       "<polyline clip-path=\"url(#clip02)\" style=\"stroke:#00002d; stroke-width:0.8; stroke-opacity:1; fill:none\" points=\"\n",
       "  150.807,384.952 150.807,379.237 \n",
       "  \"/>\n",
       "<polyline clip-path=\"url(#clip02)\" style=\"stroke:#00002d; stroke-width:0.8; stroke-opacity:1; fill:none\" points=\"\n",
       "  262.121,384.952 262.121,379.237 \n",
       "  \"/>\n",
       "<polyline clip-path=\"url(#clip02)\" style=\"stroke:#00002d; stroke-width:0.8; stroke-opacity:1; fill:none\" points=\"\n",
       "  373.435,384.952 373.435,379.237 \n",
       "  \"/>\n",
       "<polyline clip-path=\"url(#clip02)\" style=\"stroke:#00002d; stroke-width:0.8; stroke-opacity:1; fill:none\" points=\"\n",
       "  484.749,384.952 484.749,379.237 \n",
       "  \"/>\n",
       "<polyline clip-path=\"url(#clip02)\" style=\"stroke:#00002d; stroke-width:0.8; stroke-opacity:1; fill:none\" points=\"\n",
       "  596.063,384.952 596.063,379.237 \n",
       "  \"/>\n",
       "<polyline clip-path=\"url(#clip02)\" style=\"stroke:#00002d; stroke-width:0.8; stroke-opacity:1; fill:none\" points=\"\n",
       "  39.4926,384.952 39.4926,3.93701 \n",
       "  \"/>\n",
       "<polyline clip-path=\"url(#clip02)\" style=\"stroke:#00002d; stroke-width:0.8; stroke-opacity:1; fill:none\" points=\"\n",
       "  39.4926,285.424 47.8411,285.424 \n",
       "  \"/>\n",
       "<polyline clip-path=\"url(#clip02)\" style=\"stroke:#00002d; stroke-width:0.8; stroke-opacity:1; fill:none\" points=\"\n",
       "  39.4926,174.096 47.8411,174.096 \n",
       "  \"/>\n",
       "<polyline clip-path=\"url(#clip02)\" style=\"stroke:#00002d; stroke-width:0.8; stroke-opacity:1; fill:none\" points=\"\n",
       "  39.4926,62.7682 47.8411,62.7682 \n",
       "  \"/>\n",
       "<g clip-path=\"url(#clip00)\">\n",
       "<text style=\"fill:#00002d; fill-opacity:1; font-family:Arial,Helvetica Neue,Helvetica,sans-serif; font-size:12; text-anchor:middle;\" transform=\"rotate(0, 39.4926, 396.952)\" x=\"39.4926\" y=\"396.952\">0.0</text>\n",
       "</g>\n",
       "<g clip-path=\"url(#clip00)\">\n",
       "<text style=\"fill:#00002d; fill-opacity:1; font-family:Arial,Helvetica Neue,Helvetica,sans-serif; font-size:12; text-anchor:middle;\" transform=\"rotate(0, 150.807, 396.952)\" x=\"150.807\" y=\"396.952\">0.2</text>\n",
       "</g>\n",
       "<g clip-path=\"url(#clip00)\">\n",
       "<text style=\"fill:#00002d; fill-opacity:1; font-family:Arial,Helvetica Neue,Helvetica,sans-serif; font-size:12; text-anchor:middle;\" transform=\"rotate(0, 262.121, 396.952)\" x=\"262.121\" y=\"396.952\">0.4</text>\n",
       "</g>\n",
       "<g clip-path=\"url(#clip00)\">\n",
       "<text style=\"fill:#00002d; fill-opacity:1; font-family:Arial,Helvetica Neue,Helvetica,sans-serif; font-size:12; text-anchor:middle;\" transform=\"rotate(0, 373.435, 396.952)\" x=\"373.435\" y=\"396.952\">0.6</text>\n",
       "</g>\n",
       "<g clip-path=\"url(#clip00)\">\n",
       "<text style=\"fill:#00002d; fill-opacity:1; font-family:Arial,Helvetica Neue,Helvetica,sans-serif; font-size:12; text-anchor:middle;\" transform=\"rotate(0, 484.749, 396.952)\" x=\"484.749\" y=\"396.952\">0.8</text>\n",
       "</g>\n",
       "<g clip-path=\"url(#clip00)\">\n",
       "<text style=\"fill:#00002d; fill-opacity:1; font-family:Arial,Helvetica Neue,Helvetica,sans-serif; font-size:12; text-anchor:middle;\" transform=\"rotate(0, 596.063, 396.952)\" x=\"596.063\" y=\"396.952\">1.0</text>\n",
       "</g>\n",
       "<g clip-path=\"url(#clip00)\">\n",
       "<text style=\"fill:#00002d; fill-opacity:1; font-family:Arial,Helvetica Neue,Helvetica,sans-serif; font-size:12; text-anchor:end;\" transform=\"rotate(0, 38.2926, 289.924)\" x=\"38.2926\" y=\"289.924\">35.4</text>\n",
       "</g>\n",
       "<g clip-path=\"url(#clip00)\">\n",
       "<text style=\"fill:#00002d; fill-opacity:1; font-family:Arial,Helvetica Neue,Helvetica,sans-serif; font-size:12; text-anchor:end;\" transform=\"rotate(0, 38.2926, 178.596)\" x=\"38.2926\" y=\"178.596\">35.5</text>\n",
       "</g>\n",
       "<g clip-path=\"url(#clip00)\">\n",
       "<text style=\"fill:#00002d; fill-opacity:1; font-family:Arial,Helvetica Neue,Helvetica,sans-serif; font-size:12; text-anchor:end;\" transform=\"rotate(0, 38.2926, 67.2682)\" x=\"38.2926\" y=\"67.2682\">35.6</text>\n",
       "</g>\n",
       "<polyline clip-path=\"url(#clip02)\" style=\"stroke:#0099ff; stroke-width:0.8; stroke-opacity:1; fill:none\" points=\"\n",
       "  39.4926,384.952 45.1145,384.751 50.7364,384.15 56.3583,383.147 61.9803,381.743 67.6022,379.938 73.2241,377.732 78.846,375.125 84.468,372.116 90.0899,368.707 \n",
       "  95.7118,364.896 101.334,360.684 106.956,356.07 112.578,351.055 118.199,345.639 123.821,339.821 129.443,333.602 135.065,326.981 140.687,319.958 146.309,312.534 \n",
       "  151.931,304.708 157.553,296.481 163.175,287.852 168.797,278.822 174.419,269.391 180.041,259.562 185.663,249.335 191.284,238.713 196.906,227.702 202.528,216.309 \n",
       "  208.15,204.544 213.772,192.423 219.394,179.968 225.016,167.21 230.638,154.19 236.26,140.962 241.882,127.596 247.504,114.181 253.126,100.823 258.748,87.6501 \n",
       "  264.37,74.8109 269.991,62.4721 275.613,50.8158 281.235,40.0348 286.857,30.3254 292.479,21.8797 298.101,14.877 303.723,9.47426 309.345,5.79801 314.967,3.93701 \n",
       "  320.589,3.93701 326.211,5.79801 331.833,9.47426 337.455,14.877 343.076,21.8797 348.698,30.3254 354.32,40.0348 359.942,50.8158 365.564,62.4721 371.186,74.8109 \n",
       "  376.808,87.6501 382.43,100.823 388.052,114.181 393.674,127.596 399.296,140.962 404.918,154.19 410.54,167.21 416.161,179.968 421.783,192.423 427.405,204.544 \n",
       "  433.027,216.309 438.649,227.702 444.271,238.713 449.893,249.335 455.515,259.562 461.137,269.391 466.759,278.822 472.381,287.852 478.003,296.481 483.625,304.708 \n",
       "  489.246,312.534 494.868,319.958 500.49,326.981 506.112,333.602 511.734,339.821 517.356,345.639 522.978,351.055 528.6,356.07 534.222,360.684 539.844,364.896 \n",
       "  545.466,368.707 551.088,372.116 556.71,375.125 562.331,377.732 567.953,379.938 573.575,381.743 579.197,383.147 584.819,384.15 590.441,384.751 596.063,384.952 \n",
       "  \n",
       "  \"/>\n",
       "<polygon clip-path=\"url(#clip00)\" points=\"\n",
       "505.547,55.057 578.063,55.057 578.063,24.817 505.547,24.817 \n",
       "  \" fill=\"#ffffff\" fill-opacity=\"1\"/>\n",
       "<polyline clip-path=\"url(#clip00)\" style=\"stroke:#00002d; stroke-width:0.8; stroke-opacity:1; fill:none\" points=\"\n",
       "  505.547,55.057 578.063,55.057 578.063,24.817 505.547,24.817 505.547,55.057 \n",
       "  \"/>\n",
       "<polyline clip-path=\"url(#clip00)\" style=\"stroke:#0099ff; stroke-width:0.8; stroke-opacity:1; fill:none\" points=\"\n",
       "  511.547,39.937 547.547,39.937 \n",
       "  \"/>\n",
       "<g clip-path=\"url(#clip00)\">\n",
       "<text style=\"fill:#00002d; fill-opacity:1; font-family:Arial,Helvetica Neue,Helvetica,sans-serif; font-size:12; text-anchor:start;\" transform=\"rotate(0, 553.547, 44.437)\" x=\"553.547\" y=\"44.437\">y1</text>\n",
       "</g>\n",
       "</svg>\n"
      ]
     },
     "execution_count": 22,
     "metadata": {},
     "output_type": "execute_result"
    }
   ],
   "source": [
    "f(x) = 20*exp(-100*(x-0.5)^2)\n",
    "x, w = eq_calor(f, 1.0, 0.1, 100)\n",
    "plot(x, w)\n",
    "#plot!(x->f(x) + w[1], x[1], x[end], c=:red, l=:dot)"
   ]
  },
  {
   "cell_type": "code",
   "execution_count": null,
   "metadata": {
    "collapsed": true
   },
   "outputs": [],
   "source": []
  }
 ],
 "metadata": {
  "kernelspec": {
   "display_name": "Julia 0.5.0",
   "language": "julia",
   "name": "julia-0.5"
  },
  "language_info": {
   "file_extension": ".jl",
   "mimetype": "application/julia",
   "name": "julia",
   "version": "0.5.0"
  }
 },
 "nbformat": 4,
 "nbformat_minor": 0
}
