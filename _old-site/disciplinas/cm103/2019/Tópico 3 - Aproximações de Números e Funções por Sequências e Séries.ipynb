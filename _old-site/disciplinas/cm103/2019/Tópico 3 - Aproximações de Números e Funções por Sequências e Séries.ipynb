{
 "cells": [
  {
   "cell_type": "markdown",
   "metadata": {},
   "source": [
    "# Aproximações de Números e Funções por Sequências e Séries"
   ]
  },
  {
   "cell_type": "markdown",
   "metadata": {},
   "source": [
    "Os objetivos desta lição são\n",
    "\n",
    "- Identificar como lidar com sequências e séries em programação;\n",
    "- Entender que elementos anteriores da sequência são substituídos;\n",
    "- Tentar gastar o mínimo de elementos e variáveis (mantendo a clareza);\n",
    "- Tomar cuidado com overflow e underflow;\n",
    "- Relembrar/treinar a programação."
   ]
  },
  {
   "cell_type": "markdown",
   "metadata": {},
   "source": [
    "## Sequências\n",
    "\n",
    "Uma sequência em matemática é um conjunto de valores ordenados:\n",
    "$$ (a_1, a_2, a_3, \\dots, a_n, \\dots) $$"
   ]
  },
  {
   "cell_type": "markdown",
   "metadata": {},
   "source": [
    "O índice $1$ usado no primeiro elemento é arbitrário, e serve para normalizar essa ordem.\n",
    "Em alguns casos é mais interessante começar com o índice $0$."
   ]
  },
  {
   "cell_type": "markdown",
   "metadata": {},
   "source": [
    "Matematicamente, costumamos estar interessados na convergência dessa sequência. No entanto, podemos utilizar uma sequência por outros motivos. Computacionalmente, estamos interessados em **como obter os elementos de uma sequência, quando necessário.**"
   ]
  },
  {
   "cell_type": "markdown",
   "metadata": {},
   "source": [
    "É importante ressaltar aqui a importância da frase **quando necessário**, pois como veremos a seguir, não é do nosso interesse calcular todos esses valores ao mesmo tempo, e quase sempre também não seria possível."
   ]
  },
  {
   "cell_type": "markdown",
   "metadata": {},
   "source": [
    "### Exemplo 1\n",
    "\n",
    "Dado um objeto com aceleração constante de $10 m/s$ saindo do repouso, queremos calcular sua posição nos instantes\n",
    "$t = 0, 0.1, 0.2, 0.3, \\dots$.\n",
    "Note que temos uma sequência $t_n = (n-1)/10$, e queremos uma sequência $x_n$ das posições.\n",
    "\n",
    "Neste caso, porém, as leis de movimento nos dizem que\n",
    "$$ x(t) = x_0 + v_0 t + \\frac{1}{2}at^2, $$\n",
    "que em nosso caso se reduz a\n",
    "$$ x(t) = 5t^2. $$\n",
    "\n",
    "Em outras palavras, a sequência $x_n$ pode ser calculada diretamente dado $t_n$, e $t_n$ também tem uma fórmula geral dado $n$,\n",
    "$$ x_n = 5\\bigg(\\frac{n-1}{10}\\bigg)^2 = \\frac{(n-1)^2}{20}. $$\n",
    "Desse modo, não é necessário guardar nada em especial, pois $x_n$ pode ser calculado diretamente a partir de $n$."
   ]
  },
  {
   "cell_type": "markdown",
   "metadata": {},
   "source": [
    "### Exemplo 2\n",
    "\n",
    "Dado um número $x \\in \\mathbb{N}, x > 1$, queremos calcular a sequência de Collatz desse número.\n",
    "Em particular, queremos calcular qual o primeiro elemento que é $1$ (se houver).\n",
    "\n",
    "Aqui é importante ressaltar a conjectura de Collatz: Dado um número $a_1 \\in \\mathbb{N}$, e a fórmula recursiva\n",
    "$$ a_{n+1} = \\left\\{\\begin{array}{ll}\n",
    "    a_n/2, & \\mbox{se } a_n \\mbox{ é par}; \\\\\n",
    "    3a_n + 1, & \\mbox{se } a_n \\mbox{ é impar},\n",
    "\\end{array}\\right. $$\n",
    "sempre existe um elemento desta sequência tal que $a_n = 1$. A partir desse ponto a sequência perde a importância. Por exemplo, a sequência de Collatz de 3 é\n",
    "\n",
    "$$ 3 \\rightarrow 10 \\rightarrow 5 \\rightarrow 16 \\rightarrow 8 \\rightarrow 4 \\rightarrow 2 \\rightarrow 1 \\rightarrow 4 \\rightarrow 2 \\rightarrow 1 \\cdots $$"
   ]
  },
  {
   "cell_type": "markdown",
   "metadata": {},
   "source": [
    "Nessa sequência, é necessário saber quem é o ponto atual, e é impossível saber um elemento arbitrário da sequência em casos gerais. Dessa maneira é preciso calcular elemento a elemento."
   ]
  },
  {
   "cell_type": "markdown",
   "metadata": {},
   "source": [
    "Lembre-se que para verificar a paridade de um número, utilizamos `%`."
   ]
  },
  {
   "cell_type": "code",
   "execution_count": 1,
   "metadata": {},
   "outputs": [
    {
     "data": {
      "text/plain": [
       "1"
      ]
     },
     "execution_count": 1,
     "metadata": {},
     "output_type": "execute_result"
    }
   ],
   "source": [
    "15 % 2"
   ]
  },
  {
   "cell_type": "code",
   "execution_count": 2,
   "metadata": {},
   "outputs": [
    {
     "data": {
      "text/plain": [
       "0"
      ]
     },
     "execution_count": 2,
     "metadata": {},
     "output_type": "execute_result"
    }
   ],
   "source": [
    "14 % 2"
   ]
  },
  {
   "cell_type": "code",
   "execution_count": 3,
   "metadata": {},
   "outputs": [
    {
     "data": {
      "text/plain": [
       "false"
      ]
     },
     "execution_count": 3,
     "metadata": {},
     "output_type": "execute_result"
    }
   ],
   "source": [
    "15 % 2 == 0 # É par ?"
   ]
  },
  {
   "cell_type": "code",
   "execution_count": 4,
   "metadata": {},
   "outputs": [
    {
     "data": {
      "text/plain": [
       "true"
      ]
     },
     "execution_count": 4,
     "metadata": {},
     "output_type": "execute_result"
    }
   ],
   "source": [
    "14 % 2 == 0 # É par ?"
   ]
  },
  {
   "cell_type": "markdown",
   "metadata": {},
   "source": [
    "Lembre-se também que para dividir um número e mantê-lo inteiro, usamos `div`."
   ]
  },
  {
   "cell_type": "code",
   "execution_count": 5,
   "metadata": {},
   "outputs": [
    {
     "data": {
      "text/plain": [
       "7"
      ]
     },
     "execution_count": 5,
     "metadata": {},
     "output_type": "execute_result"
    }
   ],
   "source": [
    "div(15, 2)"
   ]
  },
  {
   "cell_type": "code",
   "execution_count": 6,
   "metadata": {},
   "outputs": [
    {
     "data": {
      "text/plain": [
       "7"
      ]
     },
     "execution_count": 6,
     "metadata": {},
     "output_type": "execute_result"
    }
   ],
   "source": [
    "div(14, 2)"
   ]
  },
  {
   "cell_type": "code",
   "execution_count": 7,
   "metadata": {},
   "outputs": [
    {
     "data": {
      "text/plain": [
       "7.0"
      ]
     },
     "execution_count": 7,
     "metadata": {},
     "output_type": "execute_result"
    }
   ],
   "source": [
    "14/2 # 7.0 e 7 são o mesmo valor, mas são diferentes em computação"
   ]
  },
  {
   "cell_type": "markdown",
   "metadata": {},
   "source": [
    "Um **erro** comum de alunos inexperientes nesse caso é **tentar numerar todos os elementos**."
   ]
  },
  {
   "cell_type": "code",
   "execution_count": 8,
   "metadata": {},
   "outputs": [
    {
     "data": {
      "text/plain": [
       "10"
      ]
     },
     "execution_count": 8,
     "metadata": {},
     "output_type": "execute_result"
    }
   ],
   "source": [
    "a1 = 3\n",
    "if a1 % 2 == 0\n",
    "    a2 = div(a1, 2)\n",
    "else\n",
    "    a2 = 3 * a1 + 1\n",
    "end"
   ]
  },
  {
   "cell_type": "code",
   "execution_count": 9,
   "metadata": {},
   "outputs": [
    {
     "data": {
      "text/plain": [
       "5"
      ]
     },
     "execution_count": 9,
     "metadata": {},
     "output_type": "execute_result"
    }
   ],
   "source": [
    "if a2 % 2 == 0\n",
    "    a3 = div(a2, 2)\n",
    "else\n",
    "    a3 = 3 * a2 + 1\n",
    "end"
   ]
  },
  {
   "cell_type": "markdown",
   "metadata": {},
   "source": [
    "Essa estratégia logo fica inviável. No entanto, note que precisamos apenas do valor atual da sequência, de maneira que podemos usar apenas uma mesma variável `a` que irá guardar sempre o valor mais atual."
   ]
  },
  {
   "cell_type": "code",
   "execution_count": 10,
   "metadata": {},
   "outputs": [
    {
     "data": {
      "text/plain": [
       "3"
      ]
     },
     "execution_count": 10,
     "metadata": {},
     "output_type": "execute_result"
    }
   ],
   "source": [
    "a = 3"
   ]
  },
  {
   "cell_type": "code",
   "execution_count": 33,
   "metadata": {},
   "outputs": [
    {
     "data": {
      "text/plain": [
       "1"
      ]
     },
     "execution_count": 33,
     "metadata": {},
     "output_type": "execute_result"
    }
   ],
   "source": [
    "# Bloco 1\n",
    "if a % 2 == 0\n",
    "    a = div(a, 2)\n",
    "else\n",
    "    a = 3 * a + 1\n",
    "end"
   ]
  },
  {
   "cell_type": "code",
   "execution_count": 12,
   "metadata": {},
   "outputs": [
    {
     "data": {
      "text/plain": [
       "10"
      ]
     },
     "execution_count": 12,
     "metadata": {},
     "output_type": "execute_result"
    }
   ],
   "source": [
    "a"
   ]
  },
  {
   "cell_type": "markdown",
   "metadata": {},
   "source": [
    "Rodando mais de uma vez o Bloco 1, fazemos uma nova iteração da sequência.\n",
    "Para deixar mais claro, vamos guardar também uma variável `n` que diz qual o índice da sequência."
   ]
  },
  {
   "cell_type": "code",
   "execution_count": 34,
   "metadata": {},
   "outputs": [
    {
     "data": {
      "text/plain": [
       "1"
      ]
     },
     "execution_count": 34,
     "metadata": {},
     "output_type": "execute_result"
    }
   ],
   "source": [
    "a = 3\n",
    "n = 1"
   ]
  },
  {
   "cell_type": "code",
   "execution_count": 41,
   "metadata": {},
   "outputs": [
    {
     "name": "stdout",
     "output_type": "stream",
     "text": [
      "a = 1, n = 8\n"
     ]
    }
   ],
   "source": [
    "# Bloco 2\n",
    "if a % 2 == 0\n",
    "    a = div(a, 2)\n",
    "else\n",
    "    a = 3 * a + 1\n",
    "end\n",
    "n = n + 1\n",
    "println(\"a = $a, n = $n\")"
   ]
  },
  {
   "cell_type": "markdown",
   "metadata": {},
   "source": [
    "Note que `n` também pode ser usado para responder a pergunta original: quando `a` for 1, teremos o `n` marcando o índice correspondente."
   ]
  },
  {
   "cell_type": "markdown",
   "metadata": {},
   "source": [
    "Isso nos leva a um conceito importante. Note que sequências contém infinitos elementos. No entanto, computacionalmente, não podemos fazer contas infinitas. Isso constitui um **loop infinito**. Códigos com loops infinitos são considerados **\"errados\"** (no sentido de não fazerem o que se espera), então devemos evitá-los.\n",
    "Portanto, o fato de percebermos que para resolver o problema, devemos fazer a conta do Bloco 2 até que `n` seja 1 é de extrema importância, pois isso evitará um loop infinito (dado que a conjectura de Collatz esteja correta)."
   ]
  },
  {
   "cell_type": "markdown",
   "metadata": {},
   "source": [
    "Com isso, podemos definir um termo formal para este conjunto de código com um objetivo específico:\n",
    "\n",
    "**Def. (Algoritmo):** Um algoritmo é uma coleção de instruções para realizar alguma tarefa específica. Segundo Knuth (The Art of Computer Programming, v.1), ele deve satisfazer as seguintes condições, parafraseadas aqui:\n",
    "- **Finitude:** O algoritmo deve acabar em tempo finito;\n",
    "- **Bem definido:** As intruções devem ser claras e sem ambiguidade;\n",
    "- **Entrada:** O algoritmo tem zero ou mais entradas, que são valores determinados antes do algoritmo começar. Essas entradas são especificados a partir de conjuntos de objetos;\n",
    "- **Saída:** O algoritmo tem uma ou mais saídas, que são quantidades relacionadas com as entradas;\n",
    "- **Eficácia/Computabilidade:** As operações feitas no algoritmo devem ser suficientemente básicas para que a princípio possam ser executadas por uma pessoa num espaço finito e tempo finito com papel e caneta."
   ]
  },
  {
   "cell_type": "markdown",
   "metadata": {},
   "source": [
    "Podemos fazer uma prévia do nosso algoritmo:"
   ]
  },
  {
   "cell_type": "code",
   "execution_count": 42,
   "metadata": {},
   "outputs": [],
   "source": [
    "#=\n",
    "1. Entrada: x\n",
    "2. Inicialização: a ← x, n ← 1.\n",
    "3. Enquanto a > 1\n",
    "    1. Se a é par,\n",
    "        faça a ← a/2\n",
    "    2. Caso contrário,\n",
    "        faça a ← 3a + 1.\n",
    "    3. Incremente n.\n",
    "4. Saída: n.\n",
    "=#"
   ]
  },
  {
   "cell_type": "markdown",
   "metadata": {},
   "source": [
    "Nosso algoritmo para encontrar o primeiro elemento está quase feito. A entrada, saída, e todos os passos estão claros. Todos os passos são triviamente feitos com papel e caneta.\n",
    "No entanto, temos alguns pequenos problemas:\n",
    "\n",
    "- **E se a conjectura for falsa?**\n",
    "Se a conjectura é verdadeira, o algoritmo para quando encontra `1`, que pela conjectura, existe. Mas se não existe, pode ser que tenhamos um loop infinito. Dessa maneira, iremos colocar uma **condição de parada** para a falha do algoritmo. Não existe uma regra para a condição de parada. Deve-se tomar cuidado, no entanto, para não excluir a possibilidade do algoritmo funcionar em muitos casos. Uma condição de parada possível neste caso é que `n` seja muito grande. Se, por exemplo, fizermos 1 milhão de iterações e não encontrarmos `a_n = 1`, então talvez ele não exista. Note que essa condição exclui algumas soluções de aparecerem, por exemplo\n",
    "$$ a_1 = 2^{1.000.000}. $$\n",
    "É fácil ver que $a_n = 2^{1.000.001 - n}$, de modo que para `n = 1.000.001` teremos $a_n = 1$.\n",
    "\n",
    "Muitas vezes a condições de parada de falha é um limitante físico para deixar o algoritmo tratável. É muito fácil escolher um número `x` tal que nosso algoritmo leve horas para convergir. Não é do nosso interesse esperar tanto para um algoritmo recreativo. Poderíamos colocar uma condição de tempo então. Qual condição escolher é um assunto complicado, que depende de muitos outros fatores além da disciplina.\n",
    "Em especial, a teoria matemática arredor do problema deve ser considerada. Imagine que a conjectura de Collatz é falsa, e que `x` é um valor finito tal que a sequência gerada com `a_1 = x` nunca decresça à `1`. *Como é possível verificar que `x` é um contra-exemplo para a conjectura?*"
   ]
  },
  {
   "cell_type": "markdown",
   "metadata": {},
   "source": [
    "- **O maior inteiro.**\n",
    "O computador é uma máquina física, com limitações impostas para que seja possível fazer contas determinísticas.\n",
    "Dessa maneira, ele segue regras para definir números inteiros e \"reais\" (as aspas serão explicadas depois), e essas regras limitam o maior inteiro que pode ser representado por um tipo específico de dado.\n",
    "Mais importante, esse valor é independente da linguagem. A saber, o tipo de inteiro básico do Julia é o `Int64`, de 64 bits, e cujo maior valor é $2^{63}-1 \\approx 10^{18}$. Coisas estranhas acontecem se fizermos qualquer conta com esse valor, de modo que é imperativo não ultrapassá-lo. Vamos colocar uma nova condição de parada no nosso código: se $a > 10^{17}$, também paramos."
   ]
  },
  {
   "cell_type": "code",
   "execution_count": 43,
   "metadata": {},
   "outputs": [],
   "source": [
    "#=\n",
    "1. Entrada: x ∈ N\n",
    "2. Inicialização: a ← x, n ← 1, a_bound = 10^17, n_bound = 1_000_000\n",
    "3. Se a ≦ 0\n",
    "    faça n ← 0\n",
    "    termine o algoritmo\n",
    "4. Enquanto a > 1\n",
    "    1. Se a é par,\n",
    "        faça a ← a/2\n",
    "    2. Caso contrário,\n",
    "        faça a ← 3a + 1.\n",
    "    3. Incremente n.\n",
    "    4. Se a > a_bound\n",
    "        faça n ← -1 e termine o algoritmo\n",
    "    5. Se n > n_bound\n",
    "        faça n ← -2 e termine o algoritmo\n",
    "5. Saída: n\n",
    "    Se n > 0, então a_n = 1: Saída bem sucedida,\n",
    "    Se n = 0, então x ≦ 0: Saída de erro na entrada,\n",
    "    Se n = -1, então a ficou muito grande: Saída de valor muito grande,\n",
    "    Se n = -2, então n ficou muito grande: Saída de muitas iterações.\n",
    "=#"
   ]
  },
  {
   "cell_type": "code",
   "execution_count": 47,
   "metadata": {},
   "outputs": [
    {
     "data": {
      "text/plain": [
       "collatz (generic function with 1 method)"
      ]
     },
     "execution_count": 47,
     "metadata": {},
     "output_type": "execute_result"
    }
   ],
   "source": [
    "# Keyword argument\n",
    "function collatz(a::Int; a_bound = 10^17, n_bound = 1_000_000) # O mesmo que começar com x e atribuir x à a.\n",
    "    n = 1\n",
    "    if a <= 0\n",
    "        return 0\n",
    "    end\n",
    "    while a > 1\n",
    "        print(\"$a \")\n",
    "        if a % 2 == 0\n",
    "            a = div(a, 2)\n",
    "        else\n",
    "            a = 3a + 1\n",
    "        end\n",
    "        n += 1\n",
    "        if a > a_bound\n",
    "            return -1\n",
    "        elseif n > n_bound\n",
    "            return -2\n",
    "        end\n",
    "    end\n",
    "    return n\n",
    "end"
   ]
  },
  {
   "cell_type": "code",
   "execution_count": 54,
   "metadata": {},
   "outputs": [
    {
     "name": "stdout",
     "output_type": "stream",
     "text": [
      "10290001 30870004 15435002 7717501 23152504 11576252 5788126 2894063 8682190 4341095 13023286 6511643 19534930 9767465 29302396 14651198 7325599 21976798 10988399 32965198 16482599 49447798 24723899 74171698 37085849 111257548 55628774 27814387 83443162 41721581 125164744 62582372 31291186 15645593 46936780 23468390 11734195 35202586 17601293 52803880 26401940 13200970 6600485 19801456 9900728 4950364 2475182 1237591 3712774 1856387 5569162 2784581 8353744 4176872 2088436 1044218 522109 1566328 783164 391582 195791 587374 293687 881062 440531 1321594 660797 1982392 991196 495598 247799 743398 371699 1115098 557549 1672648 836324 418162 209081 627244 313622 156811 470434 235217 705652 352826 176413 529240 264620 132310 66155 198466 99233 297700 148850 74425 223276 111638 55819 167458 83729 251188 125594 62797 188392 94196 47098 23549 70648 35324 17662 8831 26494 13247 39742 19871 59614 29807 89422 44711 134134 67067 201202 100601 301804 150902 75451 226354 113177 339532 169766 84883 254650 127325 381976 190988 95494 47747 143242 71621 214864 107432 53716 26858 13429 40288 20144 10072 5036 2518 1259 3778 1889 5668 2834 1417 4252 2126 1063 3190 1595 4786 2393 7180 3590 1795 5386 2693 8080 4040 2020 1010 505 1516 758 379 1138 569 1708 854 427 1282 641 1924 962 481 1444 722 361 1084 542 271 814 407 1222 611 1834 917 2752 1376 688 344 172 86 43 130 65 196 98 49 148 74 37 112 56 28 14 7 22 11 34 17 52 26 13 40 20 10 5 16 8 4 2 "
     ]
    },
    {
     "data": {
      "text/plain": [
       "234"
      ]
     },
     "execution_count": 54,
     "metadata": {},
     "output_type": "execute_result"
    }
   ],
   "source": [
    "collatz(10290001)"
   ]
  },
  {
   "cell_type": "code",
   "execution_count": 55,
   "metadata": {},
   "outputs": [
    {
     "name": "stdout",
     "output_type": "stream",
     "text": [
      "1073741824 536870912 268435456 134217728 67108864 33554432 16777216 8388608 4194304 2097152 "
     ]
    },
    {
     "data": {
      "text/plain": [
       "-2"
      ]
     },
     "execution_count": 55,
     "metadata": {},
     "output_type": "execute_result"
    }
   ],
   "source": [
    "collatz(2^30, n_bound=10)"
   ]
  },
  {
   "cell_type": "code",
   "execution_count": 56,
   "metadata": {},
   "outputs": [
    {
     "data": {
      "text/plain": [
       "1"
      ]
     },
     "execution_count": 56,
     "metadata": {},
     "output_type": "execute_result"
    }
   ],
   "source": [
    "collatz(1)"
   ]
  },
  {
   "cell_type": "code",
   "execution_count": 57,
   "metadata": {},
   "outputs": [
    {
     "name": "stdout",
     "output_type": "stream",
     "text": [
      "100000000000000002 50000000000000001 "
     ]
    },
    {
     "data": {
      "text/plain": [
       "-1"
      ]
     },
     "execution_count": 57,
     "metadata": {},
     "output_type": "execute_result"
    }
   ],
   "source": [
    "collatz(10^17+2)"
   ]
  },
  {
   "cell_type": "markdown",
   "metadata": {},
   "source": [
    "## Fibonacci\n",
    "\n",
    "Vamos continuar nosso exemplo com mais uma sequência interessante, a de Fibonacci:\n",
    "\n",
    "$$ F_1 = F_2 = 1 \\qquad F_{n+1} = F_n + F_{n-1}. $$"
   ]
  },
  {
   "cell_type": "markdown",
   "metadata": {},
   "source": [
    "A sequência de Fibonacci envolve dois termos, e cresce infinitamente. Existem vários motivos para se trabalhar com a série de Fibonacci, mas vamos utilizá-la recreativamente.\n",
    "Vamos criar um simples algoritmo para calcular o n-ésimo termo da série de Fibonacci. Assuma, por enquanto, que todos os termos serão bem representados por inteiros de 64 bits."
   ]
  },
  {
   "cell_type": "code",
   "execution_count": null,
   "metadata": {},
   "outputs": [],
   "source": [
    "#=\n",
    "   Entrada: n inteiro\n",
    "1. Se n ≦ 0\n",
    "    retorne 0\n",
    "2. Se n = 1 ou n = 2\n",
    "    retorne 1\n",
    "3. Inicialização: F1 ← 1, F2 ← 1, k ← 2\n",
    "4. Enquanto k < n\n",
    "    1. Fnovo ← F1 + F2  # Isso calcula o valor novo\n",
    "    2. F1 ← F2 # O valor F2 passa a ser o mais antigo dos dois\n",
    "    3. F2 ← Fnovo # O valor Fnovo passa a ser o anterior\n",
    "    4. Incremente k\n",
    "5. Retorne F2.\n",
    "    Saída: 0 se a entrada estava incorreta,\n",
    "           F_n caso contrário.\n",
    "=#"
   ]
  },
  {
   "cell_type": "code",
   "execution_count": 60,
   "metadata": {},
   "outputs": [
    {
     "data": {
      "text/plain": [
       "fibon (generic function with 1 method)"
      ]
     },
     "execution_count": 60,
     "metadata": {},
     "output_type": "execute_result"
    }
   ],
   "source": [
    "function fibon(n::Int)\n",
    "    if n ≤ 0 #\\le\n",
    "        return 0\n",
    "    elseif n == 1 || n == 2\n",
    "        return 1\n",
    "    end\n",
    "    F1, F2, k = 1, 1, 2\n",
    "    while k < n\n",
    "        F1, F2 = F2, F1 + F2\n",
    "        k += 1\n",
    "    end\n",
    "    return F2\n",
    "end"
   ]
  },
  {
   "cell_type": "code",
   "execution_count": 61,
   "metadata": {},
   "outputs": [
    {
     "name": "stdout",
     "output_type": "stream",
     "text": [
      "F_1 = 1\n",
      "F_2 = 1\n",
      "F_3 = 2\n",
      "F_4 = 3\n",
      "F_5 = 5\n",
      "F_6 = 8\n",
      "F_7 = 13\n",
      "F_8 = 21\n",
      "F_9 = 34\n",
      "F_10 = 55\n",
      "F_11 = 89\n",
      "F_12 = 144\n",
      "F_13 = 233\n",
      "F_14 = 377\n",
      "F_15 = 610\n",
      "F_16 = 987\n",
      "F_17 = 1597\n",
      "F_18 = 2584\n",
      "F_19 = 4181\n",
      "F_20 = 6765\n"
     ]
    }
   ],
   "source": [
    "for n = 1:20\n",
    "    println(\"F_$n = $(fibon(n))\")\n",
    "end"
   ]
  },
  {
   "cell_type": "markdown",
   "metadata": {},
   "source": [
    "É bastante simple calcular um elemento da sequência de Fibonacci, e é interessante que podemos explorar outra maneira de fazer isso."
   ]
  },
  {
   "cell_type": "markdown",
   "metadata": {},
   "source": [
    "### Recursão"
   ]
  },
  {
   "cell_type": "code",
   "execution_count": 62,
   "metadata": {},
   "outputs": [
    {
     "data": {
      "text/plain": [
       "fat_por_recursao (generic function with 1 method)"
      ]
     },
     "execution_count": 62,
     "metadata": {},
     "output_type": "execute_result"
    }
   ],
   "source": [
    "function fat_por_recursao(n::Int)\n",
    "    if n < 0\n",
    "        error(\"BLAH\")\n",
    "    end\n",
    "    if n == 0\n",
    "        return 1\n",
    "    end\n",
    "    return n * fat_por_recursao(n - 1)\n",
    "end"
   ]
  },
  {
   "cell_type": "code",
   "execution_count": 63,
   "metadata": {},
   "outputs": [
    {
     "data": {
      "text/plain": [
       "120"
      ]
     },
     "execution_count": 63,
     "metadata": {},
     "output_type": "execute_result"
    }
   ],
   "source": [
    "fat_por_recursao(5)"
   ]
  },
  {
   "cell_type": "code",
   "execution_count": 64,
   "metadata": {},
   "outputs": [
    {
     "data": {
      "text/plain": [
       "-4249290049419214848"
      ]
     },
     "execution_count": 64,
     "metadata": {},
     "output_type": "execute_result"
    }
   ],
   "source": [
    "fat_por_recursao(21)"
   ]
  },
  {
   "cell_type": "code",
   "execution_count": 66,
   "metadata": {},
   "outputs": [
    {
     "data": {
      "text/plain": [
       "\"ok\""
      ]
     },
     "execution_count": 66,
     "metadata": {},
     "output_type": "execute_result"
    }
   ],
   "source": [
    "# operador ternário\n",
    "# PROP ? Resultado se SIM : Resultado se NAO\n",
    "5 > 0 ? \"ok\" : \"oops\""
   ]
  },
  {
   "cell_type": "code",
   "execution_count": 67,
   "metadata": {},
   "outputs": [
    {
     "data": {
      "text/plain": [
       "fat_uma_linha (generic function with 1 method)"
      ]
     },
     "execution_count": 67,
     "metadata": {},
     "output_type": "execute_result"
    }
   ],
   "source": [
    "fat_uma_linha(n::Int) = n == 0 ? 1 : n * fat_uma_linha(n - 1)"
   ]
  },
  {
   "cell_type": "code",
   "execution_count": 68,
   "metadata": {},
   "outputs": [
    {
     "data": {
      "text/plain": [
       "120"
      ]
     },
     "execution_count": 68,
     "metadata": {},
     "output_type": "execute_result"
    }
   ],
   "source": [
    "fat_uma_linha(5)"
   ]
  },
  {
   "cell_type": "markdown",
   "metadata": {},
   "source": [
    "Recursão é uma das partes mais importantes no desenvolvimento de códigos. Muitas estratégias computacionais e matemáticas envolvem o chamado \"dividir e conquistar\" ou \"reduzir para um caso conhecido\". Em particular, demonstrações por indução finita fazem uma coisa parecida, onde você supõe saber resolver para um caso e consegue resolver um caso de nível superior reduzindo-o ao caso conhecido."
   ]
  },
  {
   "cell_type": "markdown",
   "metadata": {},
   "source": [
    "Computacionalmente, podemos pensar em recursão como a divisão de um problema em outros, cada um destes menor que o primeiro. Para cada problema menor, repetimos o processo. Como não podemos ter um loop infinito, é necessário terminar essa redução de alguma maneira. Essa maneira envolve, simplesmente, saber resolver alguns casos de problema menor (que garantam a convergência)."
   ]
  },
  {
   "cell_type": "markdown",
   "metadata": {},
   "source": [
    "No caso de Fibonacci, o cálculo do n-ésimo termo é feito calculando os termos n-1 e n-2.\n",
    "Os casos n-1 e n-2 são, de fato, menores. Além disso, repetindo este processo chegaremos a dois casos: n = 1 ou n = 2. Desse modo, temos\n",
    "\n",
    "- casos pequenos que conseguimos resolver trivialmente;\n",
    "- uma maneira de reduzir um problema em outros menores;\n",
    "- garantia matemática que essa redução leva aos problemas menores que sabemos resolver.\n",
    "\n",
    "Abaixo temos um pseudo-código."
   ]
  },
  {
   "cell_type": "code",
   "execution_count": null,
   "metadata": {},
   "outputs": [],
   "source": [
    "#=\n",
    "Rotina FIBO(n)\n",
    "Entrada: n\n",
    "1. Se n = 1 ou n = 2\n",
    "    retorne 1\n",
    "2. Senão,\n",
    "    retorna FIBO(n-1) + FIBO(n-2)\n",
    "=#"
   ]
  },
  {
   "cell_type": "code",
   "execution_count": 69,
   "metadata": {},
   "outputs": [
    {
     "data": {
      "text/plain": [
       "FIBO (generic function with 1 method)"
      ]
     },
     "execution_count": 69,
     "metadata": {},
     "output_type": "execute_result"
    }
   ],
   "source": [
    "function FIBO(n)\n",
    "    if n <= 2\n",
    "        return min(1, max(n, 0)) # Pequeno truque\n",
    "    else\n",
    "        return FIBO(n-1) + FIBO(n-2)\n",
    "    end\n",
    "end"
   ]
  },
  {
   "cell_type": "code",
   "execution_count": 70,
   "metadata": {},
   "outputs": [
    {
     "data": {
      "text/plain": [
       "55"
      ]
     },
     "execution_count": 70,
     "metadata": {},
     "output_type": "execute_result"
    }
   ],
   "source": [
    "FIBO(10)"
   ]
  },
  {
   "cell_type": "code",
   "execution_count": 71,
   "metadata": {},
   "outputs": [
    {
     "name": "stdout",
     "output_type": "stream",
     "text": [
      "F_1 = 1\n",
      "F_2 = 1\n",
      "F_3 = 2\n",
      "F_4 = 3\n",
      "F_5 = 5\n",
      "F_6 = 8\n",
      "F_7 = 13\n",
      "F_8 = 21\n",
      "F_9 = 34\n",
      "F_10 = 55\n",
      "F_11 = 89\n",
      "F_12 = 144\n",
      "F_13 = 233\n",
      "F_14 = 377\n",
      "F_15 = 610\n",
      "F_16 = 987\n",
      "F_17 = 1597\n",
      "F_18 = 2584\n",
      "F_19 = 4181\n",
      "F_20 = 6765\n"
     ]
    }
   ],
   "source": [
    "for n = 1:20\n",
    "    println(\"F_$n = $(FIBO(n))\")\n",
    "end"
   ]
  },
  {
   "cell_type": "markdown",
   "metadata": {},
   "source": [
    "Muitas vezes, o código de recursão será mais curto.\n",
    "Em particular, em Julia (e C) temos o chamado **operador ternário**, que nos permite fazer a pergunta `if ... else ... end` em uma única linha.\n",
    "Desse modo, temos uma implementação curtíssima de Fibonacci:"
   ]
  },
  {
   "cell_type": "code",
   "execution_count": 72,
   "metadata": {},
   "outputs": [
    {
     "data": {
      "text/plain": [
       "F (generic function with 1 method)"
      ]
     },
     "execution_count": 72,
     "metadata": {},
     "output_type": "execute_result"
    }
   ],
   "source": [
    "F(n) = n <= 2 ? min(1, max(n, 0)) : F(n-1) + F(n-2)"
   ]
  },
  {
   "cell_type": "code",
   "execution_count": 73,
   "metadata": {},
   "outputs": [
    {
     "name": "stdout",
     "output_type": "stream",
     "text": [
      "F_1 = 1\n",
      "F_2 = 1\n",
      "F_3 = 2\n",
      "F_4 = 3\n",
      "F_5 = 5\n",
      "F_6 = 8\n",
      "F_7 = 13\n",
      "F_8 = 21\n",
      "F_9 = 34\n",
      "F_10 = 55\n",
      "F_11 = 89\n",
      "F_12 = 144\n",
      "F_13 = 233\n",
      "F_14 = 377\n",
      "F_15 = 610\n",
      "F_16 = 987\n",
      "F_17 = 1597\n",
      "F_18 = 2584\n",
      "F_19 = 4181\n",
      "F_20 = 6765\n"
     ]
    }
   ],
   "source": [
    "for n = 1:20\n",
    "    println(\"F_$n = $(F(n))\")\n",
    "end"
   ]
  },
  {
   "cell_type": "markdown",
   "metadata": {},
   "source": [
    "No entanto, é importante ter cuidado ao utilizar recursão. O custo computacional fica escondido nas chamadas de função, e às vezes podemos deixar um código muito mais complicado do que deveria.\n",
    "No caso de Fibonacci, por exemplo, ao calcular `F(n)`, pedimos o cálculo de `F(n-1)` e `F(n-2)`, mas o cálculo de `F(n-1)` irá pedir o cálculo de `F(n-2)` e `F(n-3)`, ou seja, `F(n-2)` será calculado duas vezes!"
   ]
  },
  {
   "cell_type": "code",
   "execution_count": 74,
   "metadata": {},
   "outputs": [
    {
     "data": {
      "text/plain": [
       "FIBO_comprint (generic function with 1 method)"
      ]
     },
     "execution_count": 74,
     "metadata": {},
     "output_type": "execute_result"
    }
   ],
   "source": [
    "function FIBO_comprint(n)\n",
    "    println(\"Chamada: F$n\")\n",
    "    if n <= 2\n",
    "        return min(1, max(n, 0)) # Pequeno truque\n",
    "    else\n",
    "        return FIBO_comprint(n-1) + FIBO_comprint(n-2)\n",
    "    end\n",
    "end"
   ]
  },
  {
   "cell_type": "code",
   "execution_count": 75,
   "metadata": {},
   "outputs": [
    {
     "name": "stdout",
     "output_type": "stream",
     "text": [
      "Chamada: F5\n",
      "Chamada: F4\n",
      "Chamada: F3\n",
      "Chamada: F2\n",
      "Chamada: F1\n",
      "Chamada: F2\n",
      "Chamada: F3\n",
      "Chamada: F2\n",
      "Chamada: F1\n"
     ]
    },
    {
     "data": {
      "text/plain": [
       "5"
      ]
     },
     "execution_count": 75,
     "metadata": {},
     "output_type": "execute_result"
    }
   ],
   "source": [
    "FIBO_comprint(5)"
   ]
  },
  {
   "cell_type": "markdown",
   "metadata": {},
   "source": [
    "Em outras palavras, Fibonacci com recursão acaba sendo muito mais caro que Fibonacci usando `for` ou `while`. Tome cuidado com essas armadilhas.\n",
    "\n",
    "**Leitura adicional:** Existe um conceito chamada \"Avaliação preguiçosa\", que consiste na avaliação dos valores somente quando são necessários. Em Julia, o pacote `Lazy.jl` implementa esse conceito. Se a avaliação de `F(n)` for feita de maneira preguiçosa, não haverá o custo adicional do cálculo de $F_n$ repetidos."
   ]
  },
  {
   "cell_type": "markdown",
   "metadata": {},
   "source": [
    "## Mais Fibonacci"
   ]
  },
  {
   "cell_type": "markdown",
   "metadata": {},
   "source": [
    "Vamos voltar nossa atenção ao problema inicial de Fibonacci: calcular o n-ésimo termo. Nossas últimas discussões foram todas no sentido de como calcular os elementos de Fibonacci termo a termo ou recursivamente. Porém, matematicamente, o n-ésimo termo de Fibonacci é bem definido!"
   ]
  },
  {
   "cell_type": "markdown",
   "metadata": {},
   "source": [
    "$$ F_n = \\frac{\\phi^n - \\psi^n}{\\sqrt{5}}, $$\n",
    "onde $$\\phi = \\frac{1 + \\sqrt{5}}{2}$$ e $$\\psi = \\frac{1 - \\sqrt{5}}{2} = 1 - \\phi. $$"
   ]
  },
  {
   "cell_type": "markdown",
   "metadata": {},
   "source": [
    "Isso quer dizer que podemos calcular Fibonacci com uma fórmula direta."
   ]
  },
  {
   "cell_type": "code",
   "execution_count": 77,
   "metadata": {},
   "outputs": [
    {
     "name": "stdout",
     "output_type": "stream",
     "text": [
      "F_1 = 1\n",
      "F_2 = 1\n",
      "F_3 = 2\n",
      "F_4 = 3\n",
      "F_5 = 5\n",
      "F_6 = 8\n",
      "F_7 = 13\n",
      "F_8 = 21\n",
      "F_9 = 34\n",
      "F_10 = 55\n",
      "F_11 = 89\n",
      "F_12 = 144\n",
      "F_13 = 233\n",
      "F_14 = 377\n",
      "F_15 = 610\n",
      "F_16 = 987\n",
      "F_17 = 1597\n",
      "F_18 = 2584\n",
      "F_19 = 4181\n",
      "F_20 = 6765\n"
     ]
    }
   ],
   "source": [
    "phi = (1 + sqrt(5))/2\n",
    "psi = 1 - phi\n",
    "for n = 1:20\n",
    "    Fn = round(Int, (phi^n - psi^n)/sqrt(5))\n",
    "    println(\"F_$n = $Fn\")\n",
    "end"
   ]
  },
  {
   "cell_type": "markdown",
   "metadata": {},
   "source": [
    "Perceba que o problema aqui agora é outro. Os valores não estão mais \"corretos\". Na verdade, quase todos contém um pequeno **erro**."
   ]
  },
  {
   "cell_type": "markdown",
   "metadata": {},
   "source": [
    "Quão pequeno?"
   ]
  },
  {
   "cell_type": "code",
   "execution_count": 78,
   "metadata": {},
   "outputs": [
    {
     "name": "stdout",
     "output_type": "stream",
     "text": [
      "F_3 = 2, Diferença F_3 = 0.0\n",
      "F_4 = 3, Diferença F_4 = 4.440892098500626e-16\n",
      "F_5 = 5, Diferença F_5 = 8.881784197001252e-16\n",
      "F_6 = 8, Diferença F_6 = 1.7763568394002505e-15\n",
      "F_7 = 13, Diferença F_7 = 1.7763568394002505e-15\n",
      "F_8 = 21, Diferença F_8 = 3.552713678800501e-15\n",
      "F_9 = 34, Diferença F_9 = 7.105427357601002e-15\n",
      "F_10 = 55, Diferença F_10 = 1.4210854715202004e-14\n",
      "F_11 = 89, Diferença F_11 = 2.842170943040401e-14\n",
      "F_12 = 144, Diferença F_12 = 5.684341886080802e-14\n",
      "F_13 = 233, Diferença F_13 = 5.684341886080802e-14\n",
      "F_14 = 377, Diferença F_14 = 1.7053025658242404e-13\n",
      "F_15 = 610, Diferença F_15 = 3.410605131648481e-13\n",
      "F_16 = 987, Diferença F_16 = 4.547473508864641e-13\n",
      "F_17 = 1597, Diferença F_17 = 9.094947017729282e-13\n",
      "F_18 = 2584, Diferença F_18 = 1.8189894035458565e-12\n",
      "F_19 = 4181, Diferença F_19 = 2.7284841053187847e-12\n",
      "F_20 = 6765, Diferença F_20 = 4.547473508864641e-12\n",
      "F_21 = 10946, Diferença F_21 = 7.275957614183426e-12\n",
      "F_22 = 17711, Diferença F_22 = 1.0913936421275139e-11\n",
      "F_23 = 28657, Diferença F_23 = 2.1827872842550278e-11\n",
      "F_24 = 46368, Diferença F_24 = 3.637978807091713e-11\n",
      "F_25 = 75025, Diferença F_25 = 5.820766091346741e-11\n",
      "F_26 = 121393, Diferença F_26 = 8.731149137020111e-11\n",
      "F_27 = 196418, Diferença F_27 = 1.7462298274040222e-10\n",
      "F_28 = 317811, Diferença F_28 = 2.9103830456733704e-10\n",
      "F_29 = 514229, Diferença F_29 = 4.656612873077393e-10\n",
      "F_30 = 832040, Diferença F_30 = 8.149072527885437e-10\n",
      "F_31 = 1346269, Diferença F_31 = 1.1641532182693481e-9\n",
      "F_32 = 2178309, Diferença F_32 = 2.3283064365386963e-9\n",
      "F_33 = 3524578, Diferença F_33 = 3.725290298461914e-9\n",
      "F_34 = 5702887, Diferença F_34 = 6.51925802230835e-9\n",
      "F_35 = 9227465, Diferença F_35 = 1.1175870895385742e-8\n",
      "F_36 = 14930352, Diferença F_36 = 1.862645149230957e-8\n",
      "F_37 = 24157817, Diferença F_37 = 2.60770320892334e-8\n",
      "F_38 = 39088169, Diferença F_38 = 4.470348358154297e-8\n",
      "F_39 = 63245986, Diferença F_39 = 6.705522537231445e-8\n",
      "F_40 = 102334155, Diferença F_40 = 1.341104507446289e-7\n",
      "F_41 = 165580141, Diferença F_41 = 2.384185791015625e-7\n",
      "F_42 = 267914296, Diferença F_42 = 3.5762786865234375e-7\n",
      "F_43 = 433494437, Diferença F_43 = 5.960464477539062e-7\n",
      "F_44 = 701408733, Diferença F_44 = 1.0728836059570312e-6\n",
      "F_45 = 1134903170, Diferença F_45 = 1.6689300537109375e-6\n",
      "F_46 = 1836311903, Diferença F_46 = 2.6226043701171875e-6\n",
      "F_47 = 2971215073, Diferença F_47 = 4.76837158203125e-6\n",
      "F_48 = 4807526976, Diferença F_48 = 7.62939453125e-6\n",
      "F_49 = 7778742049, Diferença F_49 = 1.33514404296875e-5\n",
      "F_50 = 12586269025, Diferença F_50 = 1.9073486328125e-5\n",
      "F_51 = 20365011074, Diferença F_51 = 3.4332275390625e-5\n",
      "F_52 = 32951280099, Diferença F_52 = 5.340576171875e-5\n",
      "F_53 = 53316291173, Diferença F_53 = 9.1552734375e-5\n",
      "F_54 = 86267571272, Diferença F_54 = 0.000152587890625\n",
      "F_55 = 139583862445, Diferença F_55 = 0.000244140625\n",
      "F_56 = 225851433717, Diferença F_56 = 0.00042724609375\n",
      "F_57 = 365435296162, Diferença F_57 = 0.00067138671875\n",
      "F_58 = 591286729879, Diferença F_58 = 0.001220703125\n",
      "F_59 = 956722026041, Diferença F_59 = 0.0018310546875\n",
      "F_60 = 1548008755920, Diferença F_60 = 0.0029296875\n",
      "F_61 = 2504730781961, Diferença F_61 = 0.0048828125\n",
      "F_62 = 4052739537881, Diferença F_62 = 0.00830078125\n",
      "F_63 = 6557470319842, Diferença F_63 = 0.013671875\n",
      "F_64 = 10610209857723, Diferença F_64 = 0.021484375\n",
      "F_65 = 17167680177565, Diferença F_65 = 0.037109375\n",
      "F_66 = 27777890035288, Diferença F_66 = 0.0625\n",
      "F_67 = 44945570212853, Diferença F_67 = 0.09375\n",
      "F_68 = 72723460248141, Diferença F_68 = 0.171875\n",
      "F_69 = 117669030460994, Diferença F_69 = 0.28125\n",
      "F_70 = 190392490709135, Diferença F_70 = 0.4375\n",
      "F_71 = 308061521170129, Diferença F_71 = 0.6875\n",
      "F_72 = 498454011879264, Diferença F_72 = 1.1875\n",
      "F_73 = 806515533049393, Diferença F_73 = 2.0\n",
      "F_74 = 1304969544928657, Diferença F_74 = 3.0\n",
      "F_75 = 2111485077978050, Diferença F_75 = 5.25\n",
      "F_76 = 3416454622906707, Diferença F_76 = 8.5\n",
      "F_77 = 5527939700884757, Diferença F_77 = 14.0\n",
      "F_78 = 8944394323791464, Diferença F_78 = 24.0\n",
      "F_79 = 14472334024676221, Diferença F_79 = 40.0\n",
      "F_80 = 23416728348467685, Diferença F_80 = 60.0\n",
      "F_81 = 37889062373143906, Diferença F_81 = 104.0\n",
      "F_82 = 61305790721611591, Diferença F_82 = 160.0\n",
      "F_83 = 99194853094755497, Diferença F_83 = 272.0\n",
      "F_84 = 160500643816367088, Diferença F_84 = 448.0\n",
      "F_85 = 259695496911122585, Diferença F_85 = 736.0\n",
      "F_86 = 420196140727489673, Diferença F_86 = 1216.0\n",
      "F_87 = 679891637638612258, Diferença F_87 = 2048.0\n",
      "F_88 = 1100087778366101931, Diferença F_88 = 3200.0\n",
      "F_89 = 1779979416004714189, Diferença F_89 = 5120.0\n",
      "F_90 = 2880067194370816120, Diferença F_90 = 8704.0\n",
      "F_91 = 4660046610375530309, Diferença F_91 = 14336.0\n",
      "F_92 = 7540113804746346429, Diferença F_92 = 22528.0\n",
      "F_93 = -6246583658587674878, Diferença F_93 = 1.844674407370959e19\n"
     ]
    }
   ],
   "source": [
    "phi = (1 + sqrt(5))/2\n",
    "psi = 1 - phi\n",
    "F1 = F2 = 1\n",
    "Fnovo = 1\n",
    "for n = 3:93\n",
    "    Fn = (phi^n - psi^n)/sqrt(5)\n",
    "    Fnovo = F1 + F2\n",
    "    F2 = F1\n",
    "    F1 = Fnovo\n",
    "    println(\"F_$n = $Fnovo, Diferença F_$n = $(Fn - Fnovo)\")\n",
    "end"
   ]
  },
  {
   "cell_type": "markdown",
   "metadata": {},
   "source": [
    "Impressionantemente, esse erro não é tão pequeno assim. Ele cresce com o tamanho de `n`, de modo que essa aproximação é inviável para valores grandes de `n`."
   ]
  },
  {
   "cell_type": "markdown",
   "metadata": {},
   "source": [
    "A fórmula para o n-ésimo número de Fibonacci é\n",
    "$$ F_n = \\frac{\\phi^n - \\psi^n}{\\sqrt{5}}. $$"
   ]
  },
  {
   "cell_type": "markdown",
   "metadata": {},
   "source": [
    "Acontece que $\\phi > 1$ e $0 < \\psi < 1$, então a distância entre $\\phi^n$ e $\\psi^n$ cresce bastante com $n$.\n",
    "Além disso, ambos são irracionais, então seus valores já são aproximados. Neste caso, é mais simples calcular os números de Fibonacci utilizando `for` ou `while` com inteiros.\n",
    "Claro que isso também vai depender do motivo para se calcular esses números."
   ]
  },
  {
   "cell_type": "markdown",
   "metadata": {},
   "source": [
    "# Aproximações de Séries"
   ]
  },
  {
   "cell_type": "markdown",
   "metadata": {},
   "source": [
    "Vamos para um assunto levemente diferente. Uma série é uma soma de infinitos termos numa ordem dada.\n",
    "$$ S = \\sum_{k = 1}^{\\infty} a_k. $$\n",
    "A questão aqui é, em geral, se essa soma existe ou não. Para tanto, define-se uma sequência $(s_1,s_2,\\dots,s_n,\\dots)$ dada por\n",
    "$$ s_n = \\sum_{k = 1}^n a_k. $$"
   ]
  },
  {
   "cell_type": "markdown",
   "metadata": {},
   "source": [
    "Se essa sequência convergence, então essa série converge."
   ]
  },
  {
   "cell_type": "markdown",
   "metadata": {},
   "source": [
    "Computacionalmente, em geral, estamos mais preocupados em calcular essa soma. Um resultado básico de série diz que para que a série convirja, é necessário que $a_k \\rightarrow 0$. Como já vimos, isso irá nos causar alguns problemas, dado que\n",
    "$$ s_{n+1} = s_n + a_{n+1}, $$\n",
    "e $a_{n+1}$ vai eventualmente ser muito pequeno."
   ]
  },
  {
   "cell_type": "markdown",
   "metadata": {},
   "source": [
    "Matematicamente, muitas vezes temos um objetivo, como calcular $\\pi$, que pode ser obtido pelo cálculo de uma série. Devemos nos preocupar em como fazer isso de uma maneira computacional eficiente que não perca muita precisão. Frequentemente, teremos limites computacionais para essa eficiência, e aí devemos voltar à matemática para conseguir alguma maneira melhor de resolver o problema inicial."
   ]
  },
  {
   "cell_type": "markdown",
   "metadata": {},
   "source": [
    "## Expansão de Taylor"
   ]
  },
  {
   "cell_type": "markdown",
   "metadata": {},
   "source": [
    "Como deve ter sido visto no curso de Cálculo, uma função continuamente diferenciável até ordem $n$ admite uma aproximação polinomial em torno de um ponto $a$ de seu domínio dada por\n",
    "$$ P_n(x) = f(a) + f'(a)(x-a) + \\frac{1}{2}f''(a)(x-a)^2 + \\frac{1}{3!}f'''(a)(x-a)^3 + \\dots + \\frac{1}{n!}f^{(n)}(a)(x-a)^n. $$"
   ]
  },
  {
   "cell_type": "markdown",
   "metadata": {},
   "source": [
    "Esse polinômio é chamado polinômio de Taylor de ordem $n$ em torno do ponto $a$, e existem alguns teoremas indicando o quão boa é essa aproximação."
   ]
  },
  {
   "cell_type": "markdown",
   "metadata": {},
   "source": [
    "**Teorema:** Se $f$ é continuamente diferenciável até ordem $n$ no ponto $a$, então\n",
    "$$ f(x) = P_n(x) + r_n(x), $$\n",
    "onde\n",
    "$$ \\lim_{x \\rightarrow a} \\frac{ r_n(x) }{ |x - a|^n } = 0. $$"
   ]
  },
  {
   "cell_type": "markdown",
   "metadata": {},
   "source": [
    "**Teorema:** Se $f$ é continuamente diferenciável até ordem $n+1$ no intervalo fechado de $a$ à $x$, então\n",
    "$$ f(x) = P_n(x) + \\int_a^x \\frac{f^{(n+1)}(t)}{n!}(x-t)^n \\mbox{d} t. $$"
   ]
  },
  {
   "cell_type": "markdown",
   "metadata": {},
   "source": [
    "**Teorema:** Se $f$ é continuamente diferenciável até ordem $n+1$ num intervalo aberto contento $a$ e $f^{(n)}$ é contínua no intervalo fechado de $a$ à $x$, então\n",
    "$$ f(x) = P_n(x) + \\frac{1}{(n+1)!} f^{(n+1)}(\\xi)(x - a)^{n + 1}, $$\n",
    "onde $\\xi$ é um número real entre $a$ e $x$."
   ]
  },
  {
   "cell_type": "markdown",
   "metadata": {},
   "source": [
    "Podemos usar o conceito da expansão de Taylor para calcular numericamente alguns valores de funções não polinomiais. O caso mais comum é o da função $\\exp(x) = e^x$, onde $e$ é o número de Euler."
   ]
  },
  {
   "cell_type": "code",
   "execution_count": 80,
   "metadata": {},
   "outputs": [
    {
     "data": {
      "text/plain": [
       "ℯ = 2.7182818284590..."
      ]
     },
     "execution_count": 80,
     "metadata": {},
     "output_type": "execute_result"
    }
   ],
   "source": [
    "MathConstants.e"
   ]
  },
  {
   "cell_type": "markdown",
   "metadata": {},
   "source": [
    "*Aviso: A função exponencial já costuma estar implementada em baixo nível, no entanto faremos este estudo por questões didáticas.*"
   ]
  },
  {
   "cell_type": "markdown",
   "metadata": {},
   "source": [
    "A função $e^x$ tem a seguinte expansão de Taylor em torno do ponto $0$.\n",
    "$$ e^x = 1 + x + \\frac{x^2}{2} + \\frac{x^3}{3!} + \\frac{x^4}{4!} + \\dots + \\frac{x^n}{n!} + \\dots. $$"
   ]
  },
  {
   "cell_type": "markdown",
   "metadata": {},
   "source": [
    "Então é bastante simples definir um algoritmo que calcule a aproximação da exponecial dado $x$ e $n$."
   ]
  },
  {
   "cell_type": "code",
   "execution_count": null,
   "metadata": {},
   "outputs": [],
   "source": [
    "#=\n",
    "    Entrada: x e n ≧ 0\n",
    "1. Inicialização: E ← 1.0\n",
    "2. Para k de 1 à n\n",
    "    1. E ← E + x^k/k!\n",
    "3. Retorne E\n",
    "    Saída: E ≈ eˣ com n termos da expansão de Taylor\n",
    "=#"
   ]
  },
  {
   "cell_type": "code",
   "execution_count": 81,
   "metadata": {},
   "outputs": [
    {
     "data": {
      "text/plain": [
       "2.7166666666666663"
      ]
     },
     "execution_count": 81,
     "metadata": {},
     "output_type": "execute_result"
    }
   ],
   "source": [
    "E = 1.0\n",
    "E += 1.0   # k = 1\n",
    "E += 0.5   # k = 2\n",
    "E += 1/6   # k = 3\n",
    "E += 1/24  # k = 4\n",
    "E += 1/120 # k = 5"
   ]
  },
  {
   "cell_type": "code",
   "execution_count": 83,
   "metadata": {},
   "outputs": [
    {
     "data": {
      "text/plain": [
       "0.0016151617923787498"
      ]
     },
     "execution_count": 83,
     "metadata": {},
     "output_type": "execute_result"
    }
   ],
   "source": [
    "MathConstants.e - E"
   ]
  },
  {
   "cell_type": "code",
   "execution_count": 1,
   "metadata": {},
   "outputs": [
    {
     "data": {
      "text/plain": [
       "exponencial (generic function with 1 method)"
      ]
     },
     "execution_count": 1,
     "metadata": {},
     "output_type": "execute_result"
    }
   ],
   "source": [
    "function exponencial(x, n)\n",
    "    # Exercício. Usa a função factorial(n) para calcular n!\n",
    "    E = 1.0\n",
    "    for k = 1:n\n",
    "        E += x^k / factorial(k)\n",
    "    end\n",
    "    return E\n",
    "end"
   ]
  },
  {
   "cell_type": "code",
   "execution_count": 2,
   "metadata": {},
   "outputs": [
    {
     "data": {
      "text/plain": [
       "2.7182818284590455"
      ]
     },
     "execution_count": 2,
     "metadata": {},
     "output_type": "execute_result"
    }
   ],
   "source": [
    "exponencial(1.0, 20)"
   ]
  },
  {
   "cell_type": "code",
   "execution_count": 4,
   "metadata": {},
   "outputs": [
    {
     "data": {
      "text/plain": [
       "34.98376914165419"
      ]
     },
     "execution_count": 4,
     "metadata": {},
     "output_type": "execute_result"
    }
   ],
   "source": [
    "MathConstants.e^10 - exponencial(10.0, 20)"
   ]
  },
  {
   "cell_type": "markdown",
   "metadata": {},
   "source": [
    "Vamos testar nossa função contra `exp`, calculando o erro dessa aproximação.\n",
    "No entanto, note que a função exponencial cresce rapidamente, e como vimos, a precisão de um valor é relativo ao valor. Sendo assim, vamos utilizar o **erro relativo** na nossa comparação."
   ]
  },
  {
   "cell_type": "markdown",
   "metadata": {},
   "source": [
    "**Definição:** O erro cometido ao se aproximar $x$ por $x'$ é $x - x'$.\n",
    "\n",
    "**Definição:** O **erro absoluto** cometido ao se aproximar $x$ por $x'$ é $|x - x'|$.\n",
    "\n",
    "**Definição:** O **erro relativo** cometido ao se aproximar $x$ por $x'$ é $\\dfrac{|x - x'|}{|x|}$."
   ]
  },
  {
   "cell_type": "code",
   "execution_count": 3,
   "metadata": {},
   "outputs": [
    {
     "name": "stderr",
     "output_type": "stream",
     "text": [
      "┌ Warning: `getindex(o::PyObject, s::AbstractString)` is deprecated in favor of dot overloading (`getproperty`) so elements should now be accessed as e.g. `o.\"s\"` instead of `o[\"s\"]`.\n",
      "│   caller = top-level scope at none:0\n",
      "└ @ Core none:0\n"
     ]
    },
    {
     "data": {
      "text/plain": [
       "Plots.PyPlotBackend()"
      ]
     },
     "execution_count": 3,
     "metadata": {},
     "output_type": "execute_result"
    }
   ],
   "source": [
    "using Plots\n",
    "pyplot(size=(400,300))"
   ]
  },
  {
   "cell_type": "code",
   "execution_count": 7,
   "metadata": {},
   "outputs": [
    {
     "ename": "OverflowError",
     "evalue": "OverflowError: 21 is too large to look up in the table",
     "output_type": "error",
     "traceback": [
      "OverflowError: 21 is too large to look up in the table",
      "",
      "Stacktrace:",
      " [1] factorial_lookup(::Int64, ::Array{Int64,1}, ::Int64) at ./combinatorics.jl:19",
      " [2] factorial at ./combinatorics.jl:27 [inlined]",
      " [3] exponencial(::Float64, ::Int64) at ./In[1]:5",
      " [4] iterate at ./none:0 [inlined]",
      " [5] collect_to!(::Array{Float64,1}, ::Base.Generator{Array{Int64,1},getfield(Main, Symbol(\"##7#8\"))}, ::Int64, ::Int64) at ./array.jl:651",
      " [6] collect_to_with_first! at ./array.jl:630 [inlined]",
      " [7] collect(::Base.Generator{Array{Int64,1},getfield(Main, Symbol(\"##7#8\"))}) at ./array.jl:611",
      " [8] top-level scope at In[7]:2"
     ]
    }
   ],
   "source": [
    "N = collect(1:25)\n",
    "Erro = [abs(exponencial(1.0, n) - exp(1.0))/exp(1.0) for n in N]\n",
    "scatter(N, Erro, yaxis=:log)"
   ]
  },
  {
   "cell_type": "markdown",
   "metadata": {},
   "source": [
    "Note que após $n = 17$, o erro é sempre a precisão da máquina. Isso quer dizer que os termos $a_n$ com $n > 17$ não afetam a soma, computacionalmente."
   ]
  },
  {
   "cell_type": "code",
   "execution_count": 6,
   "metadata": {},
   "outputs": [
    {
     "data": {
      "image/png": "[encoded data removed]"
     },
     "execution_count": 6,
     "metadata": {},
     "output_type": "execute_result"
    }
   ],
   "source": [
    "Erro = [abs(exponencial(5.0, n) - exp(5.0))/exp(5.0) for n in N]\n",
    "scatter(N, Erro, yaxis=:log)"
   ]
  },
  {
   "cell_type": "markdown",
   "metadata": {},
   "source": [
    "Veja que é erro é muito maior para $x = 5$ do que para $x = 1$. Isso acontece porque os termos além de $n > 20$  ainda são importantes para a aproximação de $e^5$.\n",
    "A primeira vista, uma simples solução seria utilizar $n > 20$, mas veja o que acontece com nossa implementação."
   ]
  },
  {
   "cell_type": "markdown",
   "metadata": {},
   "source": [
    "Se você se lembra bem, isso acontece porque para $21!$ é maior que o máximo dos inteiros de 64 bits. Isso quer dizer que para calcular $e^x$ corretamente, devemos dar mais atenção aos detalhes do algoritmo.\n",
    "Note também que $x^n$ pode acabar ficando muito grande para $x$ e $n$ grandes e causar overflow também."
   ]
  },
  {
   "cell_type": "markdown",
   "metadata": {},
   "source": [
    "Revisitando nossa soma:\n",
    "$$ s_n = 1 + x + \\frac{x^2}{2} + \\dots + \\frac{x^n}{n!}, $$\n",
    "de modo que\n",
    "$$ s_n = s_{n-1} + \\frac{x^n}{n!}. $$\n",
    "O termo à direita da soma não pode ser calculado diretamente pois cada termo da fração pode \"explodir\" (termo que utilizarei para dizer causar overflow). No entanto, o resultado da fração é bem comportado, então podemos tentar chegar nesse valor de outra maneira."
   ]
  },
  {
   "cell_type": "markdown",
   "metadata": {},
   "source": [
    "Veja que\n",
    "$$ \\frac{x^n}{n!} = \\frac{x\\times x\\times x\\times\\dots\\times x}{1\\times2\\times3\\times\\dots\\times n}\n",
    "= \\frac{x}{1}\\times\\frac{x}{2}\\times\\frac{x}{3}\\times\\dots\\times\\frac{x}{n},\n",
    "$$\n",
    "então podemos fazer esse cálculo seguindo essa ordem, de maneira que o produto todo ficará equilibrado."
   ]
  },
  {
   "cell_type": "markdown",
   "metadata": {},
   "source": [
    "No entanto, é possível deixar esse produto mais eficiente. Note que se chamarmos $t_n = \\dfrac{x^n}{n!}$, então\n",
    "\n",
    "$$ s_n = s_{n-1} + t_n, $$\n",
    "e\n",
    "$$ t_n = t_{n-1}\\times\\frac{x}{n}. $$"
   ]
  },
  {
   "cell_type": "markdown",
   "metadata": {},
   "source": [
    "Em outras palavras, a sequência que é somada também pode ser calculada utilizando o termo anterior. Cada iteração fará então apenas um produto, uma divisão, e uma soma."
   ]
  },
  {
   "cell_type": "code",
   "execution_count": null,
   "metadata": {},
   "outputs": [],
   "source": [
    "#=\n",
    "    Entrada: x e n ≧ 0\n",
    "1. Inicialização: E ← 1.0, t ← 1.0\n",
    "2. Para k de 1 à n\n",
    "    1. t ← t * x / k\n",
    "    2. E ← E + t\n",
    "3. Retorne E\n",
    "    Saída: E ≈ eˣ com n termos da expansão de Taylor\n",
    "=#"
   ]
  },
  {
   "cell_type": "code",
   "execution_count": 2,
   "metadata": {},
   "outputs": [
    {
     "data": {
      "text/plain": [
       "exponencial2 (generic function with 1 method)"
      ]
     },
     "execution_count": 2,
     "metadata": {},
     "output_type": "execute_result"
    }
   ],
   "source": [
    "function exponencial2(x, n)\n",
    "    # Implemente\n",
    "    E = 1.0\n",
    "    t = 1.0\n",
    "    for k = 1:n\n",
    "        t *= x / k\n",
    "        E += t\n",
    "    end\n",
    "    return E\n",
    "end"
   ]
  },
  {
   "cell_type": "code",
   "execution_count": 3,
   "metadata": {},
   "outputs": [
    {
     "data": {
      "text/plain": [
       "2.7182818284590455"
      ]
     },
     "execution_count": 3,
     "metadata": {},
     "output_type": "execute_result"
    }
   ],
   "source": [
    "exponencial2(1.0, 20)"
   ]
  },
  {
   "cell_type": "code",
   "execution_count": 5,
   "metadata": {},
   "outputs": [
    {
     "data": {
      "image/svg+xml": [
       "<?xml version=\"1.0\" encoding=\"utf-8\"?>\n",
       "<svg xmlns=\"http://www.w3.org/2000/svg\" xmlns:xlink=\"http://www.w3.org/1999/xlink\" width=\"600\" height=\"400\" viewBox=\"0 0 2400 1600\">\n",
       "<defs>\n",
       "  <clipPath id=\"clip6200\">\n",
       "    <rect x=\"0\" y=\"0\" width=\"2000\" height=\"2000\"/>\n",
       "  </clipPath>\n",
       "</defs>\n",
       "<defs>\n",
       "  <clipPath id=\"clip6201\">\n",
       "    <rect x=\"0\" y=\"0\" width=\"2400\" height=\"1600\"/>\n",
       "  </clipPath>\n",
       "</defs>\n",
       "<polygon clip-path=\"url(#clip6201)\" points=\"\n",
       "0,1600 2400,1600 2400,0 0,0 \n",
       "  \" fill=\"#ffffff\" fill-rule=\"evenodd\" fill-opacity=\"1\"/>\n",
       "<defs>\n",
       "  <clipPath id=\"clip6202\">\n",
       "    <rect x=\"480\" y=\"0\" width=\"1681\" height=\"1600\"/>\n",
       "  </clipPath>\n",
       "</defs>\n",
       "<polygon clip-path=\"url(#clip6201)\" points=\"\n",
       "252.222,1503.47 2321.26,1503.47 2321.26,47.2441 252.222,47.2441 \n",
       "  \" fill=\"#ffffff\" fill-rule=\"evenodd\" fill-opacity=\"1\"/>\n",
       "<defs>\n",
       "  <clipPath id=\"clip6203\">\n",
       "    <rect x=\"252\" y=\"47\" width=\"2070\" height=\"1457\"/>\n",
       "  </clipPath>\n",
       "</defs>\n",
       "<polyline clip-path=\"url(#clip6203)\" style=\"stroke:#000000; stroke-width:2; stroke-opacity:0.1; fill:none\" points=\"\n",
       "  270.945,1503.47 270.945,47.2441 \n",
       "  \"/>\n",
       "<polyline clip-path=\"url(#clip6203)\" style=\"stroke:#000000; stroke-width:2; stroke-opacity:0.1; fill:none\" points=\"\n",
       "  669.296,1503.47 669.296,47.2441 \n",
       "  \"/>\n",
       "<polyline clip-path=\"url(#clip6203)\" style=\"stroke:#000000; stroke-width:2; stroke-opacity:0.1; fill:none\" points=\"\n",
       "  1067.65,1503.47 1067.65,47.2441 \n",
       "  \"/>\n",
       "<polyline clip-path=\"url(#clip6203)\" style=\"stroke:#000000; stroke-width:2; stroke-opacity:0.1; fill:none\" points=\"\n",
       "  1466,1503.47 1466,47.2441 \n",
       "  \"/>\n",
       "<polyline clip-path=\"url(#clip6203)\" style=\"stroke:#000000; stroke-width:2; stroke-opacity:0.1; fill:none\" points=\"\n",
       "  1864.35,1503.47 1864.35,47.2441 \n",
       "  \"/>\n",
       "<polyline clip-path=\"url(#clip6203)\" style=\"stroke:#000000; stroke-width:2; stroke-opacity:0.1; fill:none\" points=\"\n",
       "  2262.7,1503.47 2262.7,47.2441 \n",
       "  \"/>\n",
       "<polyline clip-path=\"url(#clip6203)\" style=\"stroke:#000000; stroke-width:2; stroke-opacity:0.1; fill:none\" points=\"\n",
       "  252.222,1391.19 2321.26,1391.19 \n",
       "  \"/>\n",
       "<polyline clip-path=\"url(#clip6203)\" style=\"stroke:#000000; stroke-width:2; stroke-opacity:0.1; fill:none\" points=\"\n",
       "  252.222,1120.2 2321.26,1120.2 \n",
       "  \"/>\n",
       "<polyline clip-path=\"url(#clip6203)\" style=\"stroke:#000000; stroke-width:2; stroke-opacity:0.1; fill:none\" points=\"\n",
       "  252.222,849.212 2321.26,849.212 \n",
       "  \"/>\n",
       "<polyline clip-path=\"url(#clip6203)\" style=\"stroke:#000000; stroke-width:2; stroke-opacity:0.1; fill:none\" points=\"\n",
       "  252.222,578.224 2321.26,578.224 \n",
       "  \"/>\n",
       "<polyline clip-path=\"url(#clip6203)\" style=\"stroke:#000000; stroke-width:2; stroke-opacity:0.1; fill:none\" points=\"\n",
       "  252.222,307.236 2321.26,307.236 \n",
       "  \"/>\n",
       "<polyline clip-path=\"url(#clip6201)\" style=\"stroke:#000000; stroke-width:4; stroke-opacity:1; fill:none\" points=\"\n",
       "  252.222,1503.47 2321.26,1503.47 \n",
       "  \"/>\n",
       "<polyline clip-path=\"url(#clip6201)\" style=\"stroke:#000000; stroke-width:4; stroke-opacity:1; fill:none\" points=\"\n",
       "  252.222,1503.47 252.222,47.2441 \n",
       "  \"/>\n",
       "<polyline clip-path=\"url(#clip6201)\" style=\"stroke:#000000; stroke-width:4; stroke-opacity:1; fill:none\" points=\"\n",
       "  270.945,1503.47 270.945,1481.63 \n",
       "  \"/>\n",
       "<polyline clip-path=\"url(#clip6201)\" style=\"stroke:#000000; stroke-width:4; stroke-opacity:1; fill:none\" points=\"\n",
       "  669.296,1503.47 669.296,1481.63 \n",
       "  \"/>\n",
       "<polyline clip-path=\"url(#clip6201)\" style=\"stroke:#000000; stroke-width:4; stroke-opacity:1; fill:none\" points=\"\n",
       "  1067.65,1503.47 1067.65,1481.63 \n",
       "  \"/>\n",
       "<polyline clip-path=\"url(#clip6201)\" style=\"stroke:#000000; stroke-width:4; stroke-opacity:1; fill:none\" points=\"\n",
       "  1466,1503.47 1466,1481.63 \n",
       "  \"/>\n",
       "<polyline clip-path=\"url(#clip6201)\" style=\"stroke:#000000; stroke-width:4; stroke-opacity:1; fill:none\" points=\"\n",
       "  1864.35,1503.47 1864.35,1481.63 \n",
       "  \"/>\n",
       "<polyline clip-path=\"url(#clip6201)\" style=\"stroke:#000000; stroke-width:4; stroke-opacity:1; fill:none\" points=\"\n",
       "  2262.7,1503.47 2262.7,1481.63 \n",
       "  \"/>\n",
       "<polyline clip-path=\"url(#clip6201)\" style=\"stroke:#000000; stroke-width:4; stroke-opacity:1; fill:none\" points=\"\n",
       "  252.222,1391.19 283.258,1391.19 \n",
       "  \"/>\n",
       "<polyline clip-path=\"url(#clip6201)\" style=\"stroke:#000000; stroke-width:4; stroke-opacity:1; fill:none\" points=\"\n",
       "  252.222,1120.2 283.258,1120.2 \n",
       "  \"/>\n",
       "<polyline clip-path=\"url(#clip6201)\" style=\"stroke:#000000; stroke-width:4; stroke-opacity:1; fill:none\" points=\"\n",
       "  252.222,849.212 283.258,849.212 \n",
       "  \"/>\n",
       "<polyline clip-path=\"url(#clip6201)\" style=\"stroke:#000000; stroke-width:4; stroke-opacity:1; fill:none\" points=\"\n",
       "  252.222,578.224 283.258,578.224 \n",
       "  \"/>\n",
       "<polyline clip-path=\"url(#clip6201)\" style=\"stroke:#000000; stroke-width:4; stroke-opacity:1; fill:none\" points=\"\n",
       "  252.222,307.236 283.258,307.236 \n",
       "  \"/>\n",
       "<g clip-path=\"url(#clip6201)\">\n",
       "<text style=\"fill:#000000; fill-opacity:1; font-family:Arial,Helvetica Neue,Helvetica,sans-serif; font-size:48px; text-anchor:middle;\" transform=\"rotate(0, 270.945, 1557.47)\" x=\"270.945\" y=\"1557.47\">0</text>\n",
       "</g>\n",
       "<g clip-path=\"url(#clip6201)\">\n",
       "<text style=\"fill:#000000; fill-opacity:1; font-family:Arial,Helvetica Neue,Helvetica,sans-serif; font-size:48px; text-anchor:middle;\" transform=\"rotate(0, 669.296, 1557.47)\" x=\"669.296\" y=\"1557.47\">10</text>\n",
       "</g>\n",
       "<g clip-path=\"url(#clip6201)\">\n",
       "<text style=\"fill:#000000; fill-opacity:1; font-family:Arial,Helvetica Neue,Helvetica,sans-serif; font-size:48px; text-anchor:middle;\" transform=\"rotate(0, 1067.65, 1557.47)\" x=\"1067.65\" y=\"1557.47\">20</text>\n",
       "</g>\n",
       "<g clip-path=\"url(#clip6201)\">\n",
       "<text style=\"fill:#000000; fill-opacity:1; font-family:Arial,Helvetica Neue,Helvetica,sans-serif; font-size:48px; text-anchor:middle;\" transform=\"rotate(0, 1466, 1557.47)\" x=\"1466\" y=\"1557.47\">30</text>\n",
       "</g>\n",
       "<g clip-path=\"url(#clip6201)\">\n",
       "<text style=\"fill:#000000; fill-opacity:1; font-family:Arial,Helvetica Neue,Helvetica,sans-serif; font-size:48px; text-anchor:middle;\" transform=\"rotate(0, 1864.35, 1557.47)\" x=\"1864.35\" y=\"1557.47\">40</text>\n",
       "</g>\n",
       "<g clip-path=\"url(#clip6201)\">\n",
       "<text style=\"fill:#000000; fill-opacity:1; font-family:Arial,Helvetica Neue,Helvetica,sans-serif; font-size:48px; text-anchor:middle;\" transform=\"rotate(0, 2262.7, 1557.47)\" x=\"2262.7\" y=\"1557.47\">50</text>\n",
       "</g>\n",
       "<g clip-path=\"url(#clip6201)\">\n",
       "<text style=\"fill:#000000; fill-opacity:1; font-family:Arial,Helvetica Neue,Helvetica,sans-serif; font-size:48px; text-anchor:start;\" transform=\"rotate(0, 97.4972, 1414.91)\" x=\"97.4972\" y=\"1414.91\">10</text>\n",
       "</g>\n",
       "<g clip-path=\"url(#clip6201)\">\n",
       "<text style=\"fill:#000000; fill-opacity:1; font-family:Arial,Helvetica Neue,Helvetica,sans-serif; font-size:38px; text-anchor:start;\" transform=\"rotate(0, 151.022, 1387.5)\" x=\"151.022\" y=\"1387.5\">-</text>\n",
       "</g>\n",
       "<g clip-path=\"url(#clip6201)\">\n",
       "<text style=\"fill:#000000; fill-opacity:1; font-family:Arial,Helvetica Neue,Helvetica,sans-serif; font-size:38px; text-anchor:start;\" transform=\"rotate(0, 173.861, 1387.5)\" x=\"173.861\" y=\"1387.5\">15 </text>\n",
       "</g>\n",
       "<g clip-path=\"url(#clip6201)\">\n",
       "<text style=\"fill:#000000; fill-opacity:1; font-family:Arial,Helvetica Neue,Helvetica,sans-serif; font-size:48px; text-anchor:start;\" transform=\"rotate(0, 97.4972, 1143.93)\" x=\"97.4972\" y=\"1143.93\">10</text>\n",
       "</g>\n",
       "<g clip-path=\"url(#clip6201)\">\n",
       "<text style=\"fill:#000000; fill-opacity:1; font-family:Arial,Helvetica Neue,Helvetica,sans-serif; font-size:38px; text-anchor:start;\" transform=\"rotate(0, 151.022, 1116.52)\" x=\"151.022\" y=\"1116.52\">-</text>\n",
       "</g>\n",
       "<g clip-path=\"url(#clip6201)\">\n",
       "<text style=\"fill:#000000; fill-opacity:1; font-family:Arial,Helvetica Neue,Helvetica,sans-serif; font-size:38px; text-anchor:start;\" transform=\"rotate(0, 173.861, 1116.52)\" x=\"173.861\" y=\"1116.52\">12 </text>\n",
       "</g>\n",
       "<g clip-path=\"url(#clip6201)\">\n",
       "<text style=\"fill:#000000; fill-opacity:1; font-family:Arial,Helvetica Neue,Helvetica,sans-serif; font-size:48px; text-anchor:start;\" transform=\"rotate(0, 119.242, 872.939)\" x=\"119.242\" y=\"872.939\">10</text>\n",
       "</g>\n",
       "<g clip-path=\"url(#clip6201)\">\n",
       "<text style=\"fill:#000000; fill-opacity:1; font-family:Arial,Helvetica Neue,Helvetica,sans-serif; font-size:38px; text-anchor:start;\" transform=\"rotate(0, 172.766, 845.529)\" x=\"172.766\" y=\"845.529\">-</text>\n",
       "</g>\n",
       "<g clip-path=\"url(#clip6201)\">\n",
       "<text style=\"fill:#000000; fill-opacity:1; font-family:Arial,Helvetica Neue,Helvetica,sans-serif; font-size:38px; text-anchor:start;\" transform=\"rotate(0, 195.606, 845.529)\" x=\"195.606\" y=\"845.529\">9 </text>\n",
       "</g>\n",
       "<g clip-path=\"url(#clip6201)\">\n",
       "<text style=\"fill:#000000; fill-opacity:1; font-family:Arial,Helvetica Neue,Helvetica,sans-serif; font-size:48px; text-anchor:start;\" transform=\"rotate(0, 119.242, 601.951)\" x=\"119.242\" y=\"601.951\">10</text>\n",
       "</g>\n",
       "<g clip-path=\"url(#clip6201)\">\n",
       "<text style=\"fill:#000000; fill-opacity:1; font-family:Arial,Helvetica Neue,Helvetica,sans-serif; font-size:38px; text-anchor:start;\" transform=\"rotate(0, 172.766, 574.541)\" x=\"172.766\" y=\"574.541\">-</text>\n",
       "</g>\n",
       "<g clip-path=\"url(#clip6201)\">\n",
       "<text style=\"fill:#000000; fill-opacity:1; font-family:Arial,Helvetica Neue,Helvetica,sans-serif; font-size:38px; text-anchor:start;\" transform=\"rotate(0, 195.606, 574.541)\" x=\"195.606\" y=\"574.541\">6 </text>\n",
       "</g>\n",
       "<g clip-path=\"url(#clip6201)\">\n",
       "<text style=\"fill:#000000; fill-opacity:1; font-family:Arial,Helvetica Neue,Helvetica,sans-serif; font-size:48px; text-anchor:start;\" transform=\"rotate(0, 119.242, 330.963)\" x=\"119.242\" y=\"330.963\">10</text>\n",
       "</g>\n",
       "<g clip-path=\"url(#clip6201)\">\n",
       "<text style=\"fill:#000000; fill-opacity:1; font-family:Arial,Helvetica Neue,Helvetica,sans-serif; font-size:38px; text-anchor:start;\" transform=\"rotate(0, 172.766, 303.553)\" x=\"172.766\" y=\"303.553\">-</text>\n",
       "</g>\n",
       "<g clip-path=\"url(#clip6201)\">\n",
       "<text style=\"fill:#000000; fill-opacity:1; font-family:Arial,Helvetica Neue,Helvetica,sans-serif; font-size:38px; text-anchor:start;\" transform=\"rotate(0, 195.606, 303.553)\" x=\"195.606\" y=\"303.553\">3 </text>\n",
       "</g>\n",
       "<circle clip-path=\"url(#clip6203)\" style=\"fill:#000000; stroke:none; fill-opacity:1\" cx=\"310.78\" cy=\"88.4582\" r=\"18\"/>\n",
       "<circle clip-path=\"url(#clip6203)\" style=\"fill:#009af9; stroke:none; fill-opacity:1\" cx=\"310.78\" cy=\"88.4582\" r=\"14\"/>\n",
       "<circle clip-path=\"url(#clip6203)\" style=\"fill:#000000; stroke:none; fill-opacity:1\" cx=\"350.615\" cy=\"135.183\" r=\"18\"/>\n",
       "<circle clip-path=\"url(#clip6203)\" style=\"fill:#009af9; stroke:none; fill-opacity:1\" cx=\"350.615\" cy=\"135.183\" r=\"14\"/>\n",
       "<circle clip-path=\"url(#clip6203)\" style=\"fill:#000000; stroke:none; fill-opacity:1\" cx=\"390.45\" cy=\"191.751\" r=\"18\"/>\n",
       "<circle clip-path=\"url(#clip6203)\" style=\"fill:#009af9; stroke:none; fill-opacity:1\" cx=\"390.45\" cy=\"191.751\" r=\"14\"/>\n",
       "<circle clip-path=\"url(#clip6203)\" style=\"fill:#000000; stroke:none; fill-opacity:1\" cx=\"430.285\" cy=\"256.339\" r=\"18\"/>\n",
       "<circle clip-path=\"url(#clip6203)\" style=\"fill:#009af9; stroke:none; fill-opacity:1\" cx=\"430.285\" cy=\"256.339\" r=\"14\"/>\n",
       "<circle clip-path=\"url(#clip6203)\" style=\"fill:#000000; stroke:none; fill-opacity:1\" cx=\"470.121\" cy=\"327.657\" r=\"18\"/>\n",
       "<circle clip-path=\"url(#clip6203)\" style=\"fill:#009af9; stroke:none; fill-opacity:1\" cx=\"470.121\" cy=\"327.657\" r=\"14\"/>\n",
       "<circle clip-path=\"url(#clip6203)\" style=\"fill:#000000; stroke:none; fill-opacity:1\" cx=\"509.956\" cy=\"404.761\" r=\"18\"/>\n",
       "<circle clip-path=\"url(#clip6203)\" style=\"fill:#009af9; stroke:none; fill-opacity:1\" cx=\"509.956\" cy=\"404.761\" r=\"14\"/>\n",
       "<circle clip-path=\"url(#clip6203)\" style=\"fill:#000000; stroke:none; fill-opacity:1\" cx=\"549.791\" cy=\"486.929\" r=\"18\"/>\n",
       "<circle clip-path=\"url(#clip6203)\" style=\"fill:#009af9; stroke:none; fill-opacity:1\" cx=\"549.791\" cy=\"486.929\" r=\"14\"/>\n",
       "<circle clip-path=\"url(#clip6203)\" style=\"fill:#000000; stroke:none; fill-opacity:1\" cx=\"589.626\" cy=\"573.596\" r=\"18\"/>\n",
       "<circle clip-path=\"url(#clip6203)\" style=\"fill:#009af9; stroke:none; fill-opacity:1\" cx=\"589.626\" cy=\"573.596\" r=\"14\"/>\n",
       "<circle clip-path=\"url(#clip6203)\" style=\"fill:#000000; stroke:none; fill-opacity:1\" cx=\"629.461\" cy=\"664.309\" r=\"18\"/>\n",
       "<circle clip-path=\"url(#clip6203)\" style=\"fill:#009af9; stroke:none; fill-opacity:1\" cx=\"629.461\" cy=\"664.309\" r=\"14\"/>\n",
       "<circle clip-path=\"url(#clip6203)\" style=\"fill:#000000; stroke:none; fill-opacity:1\" cx=\"669.296\" cy=\"758.695\" r=\"18\"/>\n",
       "<circle clip-path=\"url(#clip6203)\" style=\"fill:#009af9; stroke:none; fill-opacity:1\" cx=\"669.296\" cy=\"758.695\" r=\"14\"/>\n",
       "<circle clip-path=\"url(#clip6203)\" style=\"fill:#000000; stroke:none; fill-opacity:1\" cx=\"709.131\" cy=\"856.445\" r=\"18\"/>\n",
       "<circle clip-path=\"url(#clip6203)\" style=\"fill:#009af9; stroke:none; fill-opacity:1\" cx=\"709.131\" cy=\"856.445\" r=\"14\"/>\n",
       "<circle clip-path=\"url(#clip6203)\" style=\"fill:#000000; stroke:none; fill-opacity:1\" cx=\"748.967\" cy=\"957.296\" r=\"18\"/>\n",
       "<circle clip-path=\"url(#clip6203)\" style=\"fill:#009af9; stroke:none; fill-opacity:1\" cx=\"748.967\" cy=\"957.296\" r=\"14\"/>\n",
       "<circle clip-path=\"url(#clip6203)\" style=\"fill:#000000; stroke:none; fill-opacity:1\" cx=\"788.802\" cy=\"1061.02\" r=\"18\"/>\n",
       "<circle clip-path=\"url(#clip6203)\" style=\"fill:#009af9; stroke:none; fill-opacity:1\" cx=\"788.802\" cy=\"1061.02\" r=\"14\"/>\n",
       "<circle clip-path=\"url(#clip6203)\" style=\"fill:#000000; stroke:none; fill-opacity:1\" cx=\"828.637\" cy=\"1167.46\" r=\"18\"/>\n",
       "<circle clip-path=\"url(#clip6203)\" style=\"fill:#009af9; stroke:none; fill-opacity:1\" cx=\"828.637\" cy=\"1167.46\" r=\"14\"/>\n",
       "<circle clip-path=\"url(#clip6203)\" style=\"fill:#000000; stroke:none; fill-opacity:1\" cx=\"868.472\" cy=\"1276.81\" r=\"18\"/>\n",
       "<circle clip-path=\"url(#clip6203)\" style=\"fill:#009af9; stroke:none; fill-opacity:1\" cx=\"868.472\" cy=\"1276.81\" r=\"14\"/>\n",
       "<circle clip-path=\"url(#clip6203)\" style=\"fill:#000000; stroke:none; fill-opacity:1\" cx=\"908.307\" cy=\"1399.12\" r=\"18\"/>\n",
       "<circle clip-path=\"url(#clip6203)\" style=\"fill:#009af9; stroke:none; fill-opacity:1\" cx=\"908.307\" cy=\"1399.12\" r=\"14\"/>\n",
       "<circle clip-path=\"url(#clip6203)\" style=\"fill:#000000; stroke:none; fill-opacity:1\" cx=\"948.142\" cy=\"1462.26\" r=\"18\"/>\n",
       "<circle clip-path=\"url(#clip6203)\" style=\"fill:#009af9; stroke:none; fill-opacity:1\" cx=\"948.142\" cy=\"1462.26\" r=\"14\"/>\n",
       "<circle clip-path=\"url(#clip6203)\" style=\"fill:#000000; stroke:none; fill-opacity:1\" cx=\"987.977\" cy=\"1462.26\" r=\"18\"/>\n",
       "<circle clip-path=\"url(#clip6203)\" style=\"fill:#009af9; stroke:none; fill-opacity:1\" cx=\"987.977\" cy=\"1462.26\" r=\"14\"/>\n",
       "<circle clip-path=\"url(#clip6203)\" style=\"fill:#000000; stroke:none; fill-opacity:1\" cx=\"1027.81\" cy=\"1462.26\" r=\"18\"/>\n",
       "<circle clip-path=\"url(#clip6203)\" style=\"fill:#009af9; stroke:none; fill-opacity:1\" cx=\"1027.81\" cy=\"1462.26\" r=\"14\"/>\n",
       "<circle clip-path=\"url(#clip6203)\" style=\"fill:#000000; stroke:none; fill-opacity:1\" cx=\"1067.65\" cy=\"1462.26\" r=\"18\"/>\n",
       "<circle clip-path=\"url(#clip6203)\" style=\"fill:#009af9; stroke:none; fill-opacity:1\" cx=\"1067.65\" cy=\"1462.26\" r=\"14\"/>\n",
       "<circle clip-path=\"url(#clip6203)\" style=\"fill:#000000; stroke:none; fill-opacity:1\" cx=\"1107.48\" cy=\"1462.26\" r=\"18\"/>\n",
       "<circle clip-path=\"url(#clip6203)\" style=\"fill:#009af9; stroke:none; fill-opacity:1\" cx=\"1107.48\" cy=\"1462.26\" r=\"14\"/>\n",
       "<circle clip-path=\"url(#clip6203)\" style=\"fill:#000000; stroke:none; fill-opacity:1\" cx=\"1147.32\" cy=\"1462.26\" r=\"18\"/>\n",
       "<circle clip-path=\"url(#clip6203)\" style=\"fill:#009af9; stroke:none; fill-opacity:1\" cx=\"1147.32\" cy=\"1462.26\" r=\"14\"/>\n",
       "<circle clip-path=\"url(#clip6203)\" style=\"fill:#000000; stroke:none; fill-opacity:1\" cx=\"1187.15\" cy=\"1462.26\" r=\"18\"/>\n",
       "<circle clip-path=\"url(#clip6203)\" style=\"fill:#009af9; stroke:none; fill-opacity:1\" cx=\"1187.15\" cy=\"1462.26\" r=\"14\"/>\n",
       "<circle clip-path=\"url(#clip6203)\" style=\"fill:#000000; stroke:none; fill-opacity:1\" cx=\"1226.99\" cy=\"1462.26\" r=\"18\"/>\n",
       "<circle clip-path=\"url(#clip6203)\" style=\"fill:#009af9; stroke:none; fill-opacity:1\" cx=\"1226.99\" cy=\"1462.26\" r=\"14\"/>\n",
       "<circle clip-path=\"url(#clip6203)\" style=\"fill:#000000; stroke:none; fill-opacity:1\" cx=\"1266.82\" cy=\"1462.26\" r=\"18\"/>\n",
       "<circle clip-path=\"url(#clip6203)\" style=\"fill:#009af9; stroke:none; fill-opacity:1\" cx=\"1266.82\" cy=\"1462.26\" r=\"14\"/>\n",
       "<circle clip-path=\"url(#clip6203)\" style=\"fill:#000000; stroke:none; fill-opacity:1\" cx=\"1306.66\" cy=\"1462.26\" r=\"18\"/>\n",
       "<circle clip-path=\"url(#clip6203)\" style=\"fill:#009af9; stroke:none; fill-opacity:1\" cx=\"1306.66\" cy=\"1462.26\" r=\"14\"/>\n",
       "<circle clip-path=\"url(#clip6203)\" style=\"fill:#000000; stroke:none; fill-opacity:1\" cx=\"1346.49\" cy=\"1462.26\" r=\"18\"/>\n",
       "<circle clip-path=\"url(#clip6203)\" style=\"fill:#009af9; stroke:none; fill-opacity:1\" cx=\"1346.49\" cy=\"1462.26\" r=\"14\"/>\n",
       "<circle clip-path=\"url(#clip6203)\" style=\"fill:#000000; stroke:none; fill-opacity:1\" cx=\"1386.33\" cy=\"1462.26\" r=\"18\"/>\n",
       "<circle clip-path=\"url(#clip6203)\" style=\"fill:#009af9; stroke:none; fill-opacity:1\" cx=\"1386.33\" cy=\"1462.26\" r=\"14\"/>\n",
       "<circle clip-path=\"url(#clip6203)\" style=\"fill:#000000; stroke:none; fill-opacity:1\" cx=\"1426.16\" cy=\"1462.26\" r=\"18\"/>\n",
       "<circle clip-path=\"url(#clip6203)\" style=\"fill:#009af9; stroke:none; fill-opacity:1\" cx=\"1426.16\" cy=\"1462.26\" r=\"14\"/>\n",
       "<circle clip-path=\"url(#clip6203)\" style=\"fill:#000000; stroke:none; fill-opacity:1\" cx=\"1466\" cy=\"1462.26\" r=\"18\"/>\n",
       "<circle clip-path=\"url(#clip6203)\" style=\"fill:#009af9; stroke:none; fill-opacity:1\" cx=\"1466\" cy=\"1462.26\" r=\"14\"/>\n",
       "<circle clip-path=\"url(#clip6203)\" style=\"fill:#000000; stroke:none; fill-opacity:1\" cx=\"1505.83\" cy=\"1462.26\" r=\"18\"/>\n",
       "<circle clip-path=\"url(#clip6203)\" style=\"fill:#009af9; stroke:none; fill-opacity:1\" cx=\"1505.83\" cy=\"1462.26\" r=\"14\"/>\n",
       "<circle clip-path=\"url(#clip6203)\" style=\"fill:#000000; stroke:none; fill-opacity:1\" cx=\"1545.67\" cy=\"1462.26\" r=\"18\"/>\n",
       "<circle clip-path=\"url(#clip6203)\" style=\"fill:#009af9; stroke:none; fill-opacity:1\" cx=\"1545.67\" cy=\"1462.26\" r=\"14\"/>\n",
       "<circle clip-path=\"url(#clip6203)\" style=\"fill:#000000; stroke:none; fill-opacity:1\" cx=\"1585.5\" cy=\"1462.26\" r=\"18\"/>\n",
       "<circle clip-path=\"url(#clip6203)\" style=\"fill:#009af9; stroke:none; fill-opacity:1\" cx=\"1585.5\" cy=\"1462.26\" r=\"14\"/>\n",
       "<circle clip-path=\"url(#clip6203)\" style=\"fill:#000000; stroke:none; fill-opacity:1\" cx=\"1625.34\" cy=\"1462.26\" r=\"18\"/>\n",
       "<circle clip-path=\"url(#clip6203)\" style=\"fill:#009af9; stroke:none; fill-opacity:1\" cx=\"1625.34\" cy=\"1462.26\" r=\"14\"/>\n",
       "<circle clip-path=\"url(#clip6203)\" style=\"fill:#000000; stroke:none; fill-opacity:1\" cx=\"1665.17\" cy=\"1462.26\" r=\"18\"/>\n",
       "<circle clip-path=\"url(#clip6203)\" style=\"fill:#009af9; stroke:none; fill-opacity:1\" cx=\"1665.17\" cy=\"1462.26\" r=\"14\"/>\n",
       "<circle clip-path=\"url(#clip6203)\" style=\"fill:#000000; stroke:none; fill-opacity:1\" cx=\"1705.01\" cy=\"1462.26\" r=\"18\"/>\n",
       "<circle clip-path=\"url(#clip6203)\" style=\"fill:#009af9; stroke:none; fill-opacity:1\" cx=\"1705.01\" cy=\"1462.26\" r=\"14\"/>\n",
       "<circle clip-path=\"url(#clip6203)\" style=\"fill:#000000; stroke:none; fill-opacity:1\" cx=\"1744.85\" cy=\"1462.26\" r=\"18\"/>\n",
       "<circle clip-path=\"url(#clip6203)\" style=\"fill:#009af9; stroke:none; fill-opacity:1\" cx=\"1744.85\" cy=\"1462.26\" r=\"14\"/>\n",
       "<circle clip-path=\"url(#clip6203)\" style=\"fill:#000000; stroke:none; fill-opacity:1\" cx=\"1784.68\" cy=\"1462.26\" r=\"18\"/>\n",
       "<circle clip-path=\"url(#clip6203)\" style=\"fill:#009af9; stroke:none; fill-opacity:1\" cx=\"1784.68\" cy=\"1462.26\" r=\"14\"/>\n",
       "<circle clip-path=\"url(#clip6203)\" style=\"fill:#000000; stroke:none; fill-opacity:1\" cx=\"1824.52\" cy=\"1462.26\" r=\"18\"/>\n",
       "<circle clip-path=\"url(#clip6203)\" style=\"fill:#009af9; stroke:none; fill-opacity:1\" cx=\"1824.52\" cy=\"1462.26\" r=\"14\"/>\n",
       "<circle clip-path=\"url(#clip6203)\" style=\"fill:#000000; stroke:none; fill-opacity:1\" cx=\"1864.35\" cy=\"1462.26\" r=\"18\"/>\n",
       "<circle clip-path=\"url(#clip6203)\" style=\"fill:#009af9; stroke:none; fill-opacity:1\" cx=\"1864.35\" cy=\"1462.26\" r=\"14\"/>\n",
       "<circle clip-path=\"url(#clip6203)\" style=\"fill:#000000; stroke:none; fill-opacity:1\" cx=\"1904.19\" cy=\"1462.26\" r=\"18\"/>\n",
       "<circle clip-path=\"url(#clip6203)\" style=\"fill:#009af9; stroke:none; fill-opacity:1\" cx=\"1904.19\" cy=\"1462.26\" r=\"14\"/>\n",
       "<circle clip-path=\"url(#clip6203)\" style=\"fill:#000000; stroke:none; fill-opacity:1\" cx=\"1944.02\" cy=\"1462.26\" r=\"18\"/>\n",
       "<circle clip-path=\"url(#clip6203)\" style=\"fill:#009af9; stroke:none; fill-opacity:1\" cx=\"1944.02\" cy=\"1462.26\" r=\"14\"/>\n",
       "<circle clip-path=\"url(#clip6203)\" style=\"fill:#000000; stroke:none; fill-opacity:1\" cx=\"1983.86\" cy=\"1462.26\" r=\"18\"/>\n",
       "<circle clip-path=\"url(#clip6203)\" style=\"fill:#009af9; stroke:none; fill-opacity:1\" cx=\"1983.86\" cy=\"1462.26\" r=\"14\"/>\n",
       "<circle clip-path=\"url(#clip6203)\" style=\"fill:#000000; stroke:none; fill-opacity:1\" cx=\"2023.69\" cy=\"1462.26\" r=\"18\"/>\n",
       "<circle clip-path=\"url(#clip6203)\" style=\"fill:#009af9; stroke:none; fill-opacity:1\" cx=\"2023.69\" cy=\"1462.26\" r=\"14\"/>\n",
       "<circle clip-path=\"url(#clip6203)\" style=\"fill:#000000; stroke:none; fill-opacity:1\" cx=\"2063.53\" cy=\"1462.26\" r=\"18\"/>\n",
       "<circle clip-path=\"url(#clip6203)\" style=\"fill:#009af9; stroke:none; fill-opacity:1\" cx=\"2063.53\" cy=\"1462.26\" r=\"14\"/>\n",
       "<circle clip-path=\"url(#clip6203)\" style=\"fill:#000000; stroke:none; fill-opacity:1\" cx=\"2103.36\" cy=\"1462.26\" r=\"18\"/>\n",
       "<circle clip-path=\"url(#clip6203)\" style=\"fill:#009af9; stroke:none; fill-opacity:1\" cx=\"2103.36\" cy=\"1462.26\" r=\"14\"/>\n",
       "<circle clip-path=\"url(#clip6203)\" style=\"fill:#000000; stroke:none; fill-opacity:1\" cx=\"2143.2\" cy=\"1462.26\" r=\"18\"/>\n",
       "<circle clip-path=\"url(#clip6203)\" style=\"fill:#009af9; stroke:none; fill-opacity:1\" cx=\"2143.2\" cy=\"1462.26\" r=\"14\"/>\n",
       "<circle clip-path=\"url(#clip6203)\" style=\"fill:#000000; stroke:none; fill-opacity:1\" cx=\"2183.03\" cy=\"1462.26\" r=\"18\"/>\n",
       "<circle clip-path=\"url(#clip6203)\" style=\"fill:#009af9; stroke:none; fill-opacity:1\" cx=\"2183.03\" cy=\"1462.26\" r=\"14\"/>\n",
       "<circle clip-path=\"url(#clip6203)\" style=\"fill:#000000; stroke:none; fill-opacity:1\" cx=\"2222.87\" cy=\"1462.26\" r=\"18\"/>\n",
       "<circle clip-path=\"url(#clip6203)\" style=\"fill:#009af9; stroke:none; fill-opacity:1\" cx=\"2222.87\" cy=\"1462.26\" r=\"14\"/>\n",
       "<circle clip-path=\"url(#clip6203)\" style=\"fill:#000000; stroke:none; fill-opacity:1\" cx=\"2262.7\" cy=\"1462.26\" r=\"18\"/>\n",
       "<circle clip-path=\"url(#clip6203)\" style=\"fill:#009af9; stroke:none; fill-opacity:1\" cx=\"2262.7\" cy=\"1462.26\" r=\"14\"/>\n",
       "<polygon clip-path=\"url(#clip6201)\" points=\"\n",
       "1958.43,251.724 2249.26,251.724 2249.26,130.764 1958.43,130.764 \n",
       "  \" fill=\"#ffffff\" fill-rule=\"evenodd\" fill-opacity=\"1\"/>\n",
       "<polyline clip-path=\"url(#clip6201)\" style=\"stroke:#000000; stroke-width:4; stroke-opacity:1; fill:none\" points=\"\n",
       "  1958.43,251.724 2249.26,251.724 2249.26,130.764 1958.43,130.764 1958.43,251.724 \n",
       "  \"/>\n",
       "<circle clip-path=\"url(#clip6201)\" style=\"fill:#000000; stroke:none; fill-opacity:1\" cx=\"2066.43\" cy=\"191.244\" r=\"25\"/>\n",
       "<circle clip-path=\"url(#clip6201)\" style=\"fill:#009af9; stroke:none; fill-opacity:1\" cx=\"2066.43\" cy=\"191.244\" r=\"21\"/>\n",
       "<g clip-path=\"url(#clip6201)\">\n",
       "<text style=\"fill:#000000; fill-opacity:1; font-family:Arial,Helvetica Neue,Helvetica,sans-serif; font-size:48px; text-anchor:start;\" transform=\"rotate(0, 2150.43, 208.744)\" x=\"2150.43\" y=\"208.744\">y1</text>\n",
       "</g>\n",
       "</svg>\n"
      ]
     },
     "execution_count": 5,
     "metadata": {},
     "output_type": "execute_result"
    }
   ],
   "source": [
    "using Plots\n",
    "N = collect(1:50)\n",
    "Erro = [abs(exponencial2(1.0, n) - exp(1.0))/exp(1.0) for n in N]\n",
    "Erro[findall(Erro .== 0.0)] .= eps()\n",
    "scatter(N, abs.(Erro), yaxis=:log)"
   ]
  },
  {
   "cell_type": "code",
   "execution_count": 18,
   "metadata": {},
   "outputs": [
    {
     "data": {
      "image/png": "[encoded data removed]"
     },
     "execution_count": 18,
     "metadata": {},
     "output_type": "execute_result"
    }
   ],
   "source": [
    "N = collect(1:50)\n",
    "Erro = [abs(exponencial2(10.0, n) - exp(10.0))/exp(10.0) for n in N]\n",
    "Erro[findall(Erro .== 0.0)] .= eps()\n",
    "scatter(N, Erro, yaxis=:log)\n",
    "ylims!(eps()/2, 1.0)"
   ]
  },
  {
   "cell_type": "markdown",
   "metadata": {},
   "source": [
    "Perceba agora que a função `exp` não recebe um $n$ específico. A quantidade de termos calculados é específico para o valor $x$. Para $x = 0$, $n = 0$ basta, para $x = 1$, $n = 17$ basta, para $x = 10$, $n = 45$ foi necessário."
   ]
  },
  {
   "cell_type": "markdown",
   "metadata": {},
   "source": [
    "Em particular, como estamos fazendo uma atualização do tipo $s_n = s_{n-1} + t_n$ e $t_n$ tende a 0, podemos verificar se obtivemos um erro de arredondamento na soma, de modo que os termos seguintes também não acrescentarão nada."
   ]
  },
  {
   "cell_type": "code",
   "execution_count": null,
   "metadata": {},
   "outputs": [],
   "source": [
    "#=\n",
    "    Entrada: x\n",
    "1. Inicialização: E ← 1.0, t ← x, k ← 1\n",
    "2. Enquanto E + t ≠ E\n",
    "    1. E ← E + t\n",
    "    2. Incremente k\n",
    "    3. t ← t * x / k\n",
    "3. Retorne E\n",
    "    Saída: E ≈ eˣ\n",
    "=#"
   ]
  },
  {
   "cell_type": "code",
   "execution_count": 6,
   "metadata": {},
   "outputs": [
    {
     "data": {
      "text/plain": [
       "exponencial3 (generic function with 1 method)"
      ]
     },
     "execution_count": 6,
     "metadata": {},
     "output_type": "execute_result"
    }
   ],
   "source": [
    "function exponencial3(x)\n",
    "    # Implemente\n",
    "    E = 1.0\n",
    "    t = x\n",
    "    k = 1\n",
    "    while E + t != E\n",
    "        E += t\n",
    "        k += 1\n",
    "        t *= x / k\n",
    "    end\n",
    "    return E\n",
    "end"
   ]
  },
  {
   "cell_type": "code",
   "execution_count": 7,
   "metadata": {},
   "outputs": [
    {
     "data": {
      "image/svg+xml": [
       "<?xml version=\"1.0\" encoding=\"utf-8\"?>\n",
       "<svg xmlns=\"http://www.w3.org/2000/svg\" xmlns:xlink=\"http://www.w3.org/1999/xlink\" width=\"600\" height=\"400\" viewBox=\"0 0 2400 1600\">\n",
       "<defs>\n",
       "  <clipPath id=\"clip6400\">\n",
       "    <rect x=\"0\" y=\"0\" width=\"2000\" height=\"2000\"/>\n",
       "  </clipPath>\n",
       "</defs>\n",
       "<defs>\n",
       "  <clipPath id=\"clip6401\">\n",
       "    <rect x=\"0\" y=\"0\" width=\"2400\" height=\"1600\"/>\n",
       "  </clipPath>\n",
       "</defs>\n",
       "<polygon clip-path=\"url(#clip6401)\" points=\"\n",
       "0,1600 2400,1600 2400,0 0,0 \n",
       "  \" fill=\"#ffffff\" fill-rule=\"evenodd\" fill-opacity=\"1\"/>\n",
       "<defs>\n",
       "  <clipPath id=\"clip6402\">\n",
       "    <rect x=\"480\" y=\"0\" width=\"1681\" height=\"1600\"/>\n",
       "  </clipPath>\n",
       "</defs>\n",
       "<polygon clip-path=\"url(#clip6401)\" points=\"\n",
       "328.851,1503.47 2321.26,1503.47 2321.26,47.2441 328.851,47.2441 \n",
       "  \" fill=\"#ffffff\" fill-rule=\"evenodd\" fill-opacity=\"1\"/>\n",
       "<defs>\n",
       "  <clipPath id=\"clip6403\">\n",
       "    <rect x=\"328\" y=\"47\" width=\"1993\" height=\"1457\"/>\n",
       "  </clipPath>\n",
       "</defs>\n",
       "<polyline clip-path=\"url(#clip6403)\" style=\"stroke:#000000; stroke-width:2; stroke-opacity:0.1; fill:none\" points=\"\n",
       "  366.701,1503.47 366.701,47.2441 \n",
       "  \"/>\n",
       "<polyline clip-path=\"url(#clip6403)\" style=\"stroke:#000000; stroke-width:2; stroke-opacity:0.1; fill:none\" points=\"\n",
       "  841.291,1503.47 841.291,47.2441 \n",
       "  \"/>\n",
       "<polyline clip-path=\"url(#clip6403)\" style=\"stroke:#000000; stroke-width:2; stroke-opacity:0.1; fill:none\" points=\"\n",
       "  1315.88,1503.47 1315.88,47.2441 \n",
       "  \"/>\n",
       "<polyline clip-path=\"url(#clip6403)\" style=\"stroke:#000000; stroke-width:2; stroke-opacity:0.1; fill:none\" points=\"\n",
       "  1790.47,1503.47 1790.47,47.2441 \n",
       "  \"/>\n",
       "<polyline clip-path=\"url(#clip6403)\" style=\"stroke:#000000; stroke-width:2; stroke-opacity:0.1; fill:none\" points=\"\n",
       "  2265.06,1503.47 2265.06,47.2441 \n",
       "  \"/>\n",
       "<polyline clip-path=\"url(#clip6403)\" style=\"stroke:#000000; stroke-width:2; stroke-opacity:0.1; fill:none\" points=\"\n",
       "  328.851,1290.37 2321.26,1290.37 \n",
       "  \"/>\n",
       "<polyline clip-path=\"url(#clip6403)\" style=\"stroke:#000000; stroke-width:2; stroke-opacity:0.1; fill:none\" points=\"\n",
       "  328.851,912.74 2321.26,912.74 \n",
       "  \"/>\n",
       "<polyline clip-path=\"url(#clip6403)\" style=\"stroke:#000000; stroke-width:2; stroke-opacity:0.1; fill:none\" points=\"\n",
       "  328.851,535.112 2321.26,535.112 \n",
       "  \"/>\n",
       "<polyline clip-path=\"url(#clip6403)\" style=\"stroke:#000000; stroke-width:2; stroke-opacity:0.1; fill:none\" points=\"\n",
       "  328.851,157.484 2321.26,157.484 \n",
       "  \"/>\n",
       "<polyline clip-path=\"url(#clip6401)\" style=\"stroke:#000000; stroke-width:4; stroke-opacity:1; fill:none\" points=\"\n",
       "  328.851,1503.47 2321.26,1503.47 \n",
       "  \"/>\n",
       "<polyline clip-path=\"url(#clip6401)\" style=\"stroke:#000000; stroke-width:4; stroke-opacity:1; fill:none\" points=\"\n",
       "  328.851,1503.47 328.851,47.2441 \n",
       "  \"/>\n",
       "<polyline clip-path=\"url(#clip6401)\" style=\"stroke:#000000; stroke-width:4; stroke-opacity:1; fill:none\" points=\"\n",
       "  366.701,1503.47 366.701,1481.63 \n",
       "  \"/>\n",
       "<polyline clip-path=\"url(#clip6401)\" style=\"stroke:#000000; stroke-width:4; stroke-opacity:1; fill:none\" points=\"\n",
       "  841.291,1503.47 841.291,1481.63 \n",
       "  \"/>\n",
       "<polyline clip-path=\"url(#clip6401)\" style=\"stroke:#000000; stroke-width:4; stroke-opacity:1; fill:none\" points=\"\n",
       "  1315.88,1503.47 1315.88,1481.63 \n",
       "  \"/>\n",
       "<polyline clip-path=\"url(#clip6401)\" style=\"stroke:#000000; stroke-width:4; stroke-opacity:1; fill:none\" points=\"\n",
       "  1790.47,1503.47 1790.47,1481.63 \n",
       "  \"/>\n",
       "<polyline clip-path=\"url(#clip6401)\" style=\"stroke:#000000; stroke-width:4; stroke-opacity:1; fill:none\" points=\"\n",
       "  2265.06,1503.47 2265.06,1481.63 \n",
       "  \"/>\n",
       "<polyline clip-path=\"url(#clip6401)\" style=\"stroke:#000000; stroke-width:4; stroke-opacity:1; fill:none\" points=\"\n",
       "  328.851,1290.37 358.737,1290.37 \n",
       "  \"/>\n",
       "<polyline clip-path=\"url(#clip6401)\" style=\"stroke:#000000; stroke-width:4; stroke-opacity:1; fill:none\" points=\"\n",
       "  328.851,912.74 358.737,912.74 \n",
       "  \"/>\n",
       "<polyline clip-path=\"url(#clip6401)\" style=\"stroke:#000000; stroke-width:4; stroke-opacity:1; fill:none\" points=\"\n",
       "  328.851,535.112 358.737,535.112 \n",
       "  \"/>\n",
       "<polyline clip-path=\"url(#clip6401)\" style=\"stroke:#000000; stroke-width:4; stroke-opacity:1; fill:none\" points=\"\n",
       "  328.851,157.484 358.737,157.484 \n",
       "  \"/>\n",
       "<g clip-path=\"url(#clip6401)\">\n",
       "<text style=\"fill:#000000; fill-opacity:1; font-family:Arial,Helvetica Neue,Helvetica,sans-serif; font-size:48px; text-anchor:middle;\" transform=\"rotate(0, 366.701, 1557.47)\" x=\"366.701\" y=\"1557.47\">0.0</text>\n",
       "</g>\n",
       "<g clip-path=\"url(#clip6401)\">\n",
       "<text style=\"fill:#000000; fill-opacity:1; font-family:Arial,Helvetica Neue,Helvetica,sans-serif; font-size:48px; text-anchor:middle;\" transform=\"rotate(0, 841.291, 1557.47)\" x=\"841.291\" y=\"1557.47\">2.5</text>\n",
       "</g>\n",
       "<g clip-path=\"url(#clip6401)\">\n",
       "<text style=\"fill:#000000; fill-opacity:1; font-family:Arial,Helvetica Neue,Helvetica,sans-serif; font-size:48px; text-anchor:middle;\" transform=\"rotate(0, 1315.88, 1557.47)\" x=\"1315.88\" y=\"1557.47\">5.0</text>\n",
       "</g>\n",
       "<g clip-path=\"url(#clip6401)\">\n",
       "<text style=\"fill:#000000; fill-opacity:1; font-family:Arial,Helvetica Neue,Helvetica,sans-serif; font-size:48px; text-anchor:middle;\" transform=\"rotate(0, 1790.47, 1557.47)\" x=\"1790.47\" y=\"1557.47\">7.5</text>\n",
       "</g>\n",
       "<g clip-path=\"url(#clip6401)\">\n",
       "<text style=\"fill:#000000; fill-opacity:1; font-family:Arial,Helvetica Neue,Helvetica,sans-serif; font-size:48px; text-anchor:middle;\" transform=\"rotate(0, 2265.06, 1557.47)\" x=\"2265.06\" y=\"1557.47\">10.0</text>\n",
       "</g>\n",
       "<g clip-path=\"url(#clip6401)\">\n",
       "<text style=\"fill:#000000; fill-opacity:1; font-family:Arial,Helvetica Neue,Helvetica,sans-serif; font-size:48px; text-anchor:start;\" transform=\"rotate(0, 102.016, 1314.1)\" x=\"102.016\" y=\"1314.1\">-</text>\n",
       "</g>\n",
       "<g clip-path=\"url(#clip6401)\">\n",
       "<text style=\"fill:#000000; fill-opacity:1; font-family:Arial,Helvetica Neue,Helvetica,sans-serif; font-size:48px; text-anchor:start;\" transform=\"rotate(0, 130.126, 1314.1)\" x=\"130.126\" y=\"1314.1\">1×10</text>\n",
       "</g>\n",
       "<g clip-path=\"url(#clip6401)\">\n",
       "<text style=\"fill:#000000; fill-opacity:1; font-family:Arial,Helvetica Neue,Helvetica,sans-serif; font-size:38px; text-anchor:start;\" transform=\"rotate(0, 238.523, 1286.68)\" x=\"238.523\" y=\"1286.68\">-</text>\n",
       "</g>\n",
       "<g clip-path=\"url(#clip6401)\">\n",
       "<text style=\"fill:#000000; fill-opacity:1; font-family:Arial,Helvetica Neue,Helvetica,sans-serif; font-size:38px; text-anchor:start;\" transform=\"rotate(0, 261.362, 1286.68)\" x=\"261.362\" y=\"1286.68\">11</text>\n",
       "</g>\n",
       "<g clip-path=\"url(#clip6401)\">\n",
       "<text style=\"fill:#000000; fill-opacity:1; font-family:Arial,Helvetica Neue,Helvetica,sans-serif; font-size:48px; text-anchor:end;\" transform=\"rotate(0, 304.851, 930.24)\" x=\"304.851\" y=\"930.24\">0</text>\n",
       "</g>\n",
       "<g clip-path=\"url(#clip6401)\">\n",
       "<text style=\"fill:#000000; fill-opacity:1; font-family:Arial,Helvetica Neue,Helvetica,sans-serif; font-size:48px; text-anchor:start;\" transform=\"rotate(0, 130.126, 558.839)\" x=\"130.126\" y=\"558.839\">1×10</text>\n",
       "</g>\n",
       "<g clip-path=\"url(#clip6401)\">\n",
       "<text style=\"fill:#000000; fill-opacity:1; font-family:Arial,Helvetica Neue,Helvetica,sans-serif; font-size:38px; text-anchor:start;\" transform=\"rotate(0, 238.523, 531.429)\" x=\"238.523\" y=\"531.429\">-</text>\n",
       "</g>\n",
       "<g clip-path=\"url(#clip6401)\">\n",
       "<text style=\"fill:#000000; fill-opacity:1; font-family:Arial,Helvetica Neue,Helvetica,sans-serif; font-size:38px; text-anchor:start;\" transform=\"rotate(0, 261.362, 531.429)\" x=\"261.362\" y=\"531.429\">11</text>\n",
       "</g>\n",
       "<g clip-path=\"url(#clip6401)\">\n",
       "<text style=\"fill:#000000; fill-opacity:1; font-family:Arial,Helvetica Neue,Helvetica,sans-serif; font-size:48px; text-anchor:start;\" transform=\"rotate(0, 130.126, 181.211)\" x=\"130.126\" y=\"181.211\">2×10</text>\n",
       "</g>\n",
       "<g clip-path=\"url(#clip6401)\">\n",
       "<text style=\"fill:#000000; fill-opacity:1; font-family:Arial,Helvetica Neue,Helvetica,sans-serif; font-size:38px; text-anchor:start;\" transform=\"rotate(0, 238.523, 153.801)\" x=\"238.523\" y=\"153.801\">-</text>\n",
       "</g>\n",
       "<g clip-path=\"url(#clip6401)\">\n",
       "<text style=\"fill:#000000; fill-opacity:1; font-family:Arial,Helvetica Neue,Helvetica,sans-serif; font-size:38px; text-anchor:start;\" transform=\"rotate(0, 261.362, 153.801)\" x=\"261.362\" y=\"153.801\">11</text>\n",
       "</g>\n",
       "<polyline clip-path=\"url(#clip6403)\" style=\"stroke:#009af9; stroke-width:4; stroke-opacity:1; fill:none\" points=\"\n",
       "  385.24,912.74 556.66,912.74 659.676,912.74 746.775,912.74 841.389,912.538 928.615,912.605 1022.13,913.008 1130.48,912.471 1226.76,912.203 1311.2,909.52 \n",
       "  1357.22,917.033 1403.25,912.74 1449.55,910.593 1495.85,912.74 1499.05,910.593 1502.25,910.593 1505.45,908.447 1508.65,904.153 1510.25,908.447 1511.85,914.886 \n",
       "  1512.65,919.179 1513.45,910.593 1514.25,919.179 1515.05,923.472 1515.85,908.447 1516.65,904.153 1517.45,912.74 1518.25,910.593 1519.05,910.593 1519.85,917.033 \n",
       "  1520.65,917.033 1521.45,908.447 1522.25,912.74 1523.05,917.033 1523.85,912.74 1524.65,914.886 1525.45,919.179 1526.25,906.3 1527.05,908.447 1527.85,914.886 \n",
       "  1529.45,910.593 1531.05,910.593 1532.65,917.033 1534.25,914.886 1537.45,910.593 1540.65,904.153 1541.45,914.886 1542.25,917.033 1543.05,914.886 1543.85,912.74 \n",
       "  1545.45,917.033 1547.05,921.326 1548.65,919.179 1550.25,912.74 1551.05,904.153 1551.84,925.619 1552.64,912.74 1553.44,895.567 1554.24,925.619 1555.04,908.447 \n",
       "  1555.84,925.619 1556.64,917.033 1557.44,912.74 1558.24,904.153 1559.04,895.567 1559.84,912.74 1560.64,908.447 1561.44,912.74 1562.24,908.447 1563.04,899.86 \n",
       "  1563.84,895.567 1564.64,908.447 1565.44,908.447 1566.24,899.86 1569.44,908.447 1572.64,917.033 1574.24,912.74 1575.84,912.74 1576.64,904.153 1577.44,908.447 \n",
       "  1578.24,904.153 1579.04,921.326 1579.84,908.447 1580.64,908.447 1581.44,908.447 1582.24,912.74 1583.04,938.498 1583.84,904.153 1584.64,899.86 1585.44,908.447 \n",
       "  1587.04,912.74 1588.64,908.447 1589.44,899.86 1590.24,899.86 1591.04,921.326 1591.84,917.033 1592.64,912.74 1593.44,925.619 1594.24,921.326 1595.04,908.447 \n",
       "  1595.84,917.033 1596.64,908.447 1597.44,929.912 1598.24,912.74 1599,921.326 1599.76,917.033 1600.52,921.326 1601.28,921.326 1602.04,908.447 1602.8,904.153 \n",
       "  1603.57,921.326 1604.33,921.326 1605.09,899.86 1605.85,908.447 1606.61,908.447 1607.37,904.153 1608.13,921.326 1608.89,921.326 1609.65,899.86 1610.41,929.912 \n",
       "  1611.18,929.912 1611.94,908.447 1612.7,912.74 1613.46,899.86 1614.22,899.86 1614.98,899.86 1615.74,912.74 1616.5,921.326 1617.26,921.326 1618.03,899.86 \n",
       "  1618.79,925.619 1619.55,912.74 1620.31,912.74 1621.07,908.447 1621.83,908.447 1622.59,917.033 1623.35,917.033 1624.11,904.153 1624.87,912.74 1625.64,929.912 \n",
       "  1626.4,921.326 1627.16,912.74 1627.92,899.86 1628.68,912.74 1629.44,929.912 1630.2,912.74 1630.96,925.619 1631.72,891.274 1632.49,921.326 1633.25,929.912 \n",
       "  1634.01,899.86 1634.77,912.74 1635.53,904.153 1636.29,904.153 1637.05,929.912 1637.81,904.153 1638.57,917.033 1639.33,921.326 1640.1,908.447 1640.86,895.567 \n",
       "  1641.62,917.033 1642.38,891.274 1643.14,912.74 1643.9,934.205 1644.66,904.153 1645.42,917.033 1646.18,917.033 1646.95,912.74 1649.99,912.74 1653.03,917.033 \n",
       "  1656.08,912.74 1659.12,912.74 1660.64,912.74 1662.17,908.447 1662.93,917.033 1663.69,912.74 1664.45,917.033 1665.21,886.981 1665.97,908.447 1666.73,917.033 \n",
       "  1667.49,904.153 1668.26,908.447 1669.02,917.033 1669.78,908.447 1670.54,917.033 1671.3,899.86 1672.06,912.74 1672.82,921.326 1673.58,904.153 1674.34,917.033 \n",
       "  1675.1,908.447 1675.87,904.153 1676.63,912.74 1677.39,917.033 1678.91,908.447 1680.43,904.153 1681.19,904.153 1681.95,904.153 1682.72,921.326 1683.48,921.326 \n",
       "  1684.24,904.153 1685,904.153 1685.76,921.326 1686.52,921.326 1687.28,929.912 1688.04,938.498 1688.8,912.74 1689.56,921.326 1690.33,921.326 1691.09,904.153 \n",
       "  1691.85,904.153 1692.61,912.74 1693.37,921.326 1694.13,904.153 1694.89,904.153 1695.65,929.912 1696.44,929.912 1697.24,912.74 1698.03,938.498 1698.82,912.74 \n",
       "  1699.61,921.326 1700.4,895.567 1701.19,886.981 1701.98,904.153 1702.78,895.567 1703.57,904.153 1704.36,938.498 1705.15,912.74 1705.94,904.153 1706.73,929.912 \n",
       "  1707.52,955.671 1708.31,912.74 1709.11,929.912 1709.9,929.912 1710.69,912.74 1711.48,938.498 1712.27,904.153 1713.06,904.153 1713.85,929.912 1714.65,921.326 \n",
       "  1715.44,938.498 1716.23,929.912 1717.02,921.326 1717.81,921.326 1718.6,904.153 1719.39,886.981 1720.18,904.153 1720.98,938.498 1721.77,904.153 1722.56,895.567 \n",
       "  1723.35,921.326 1724.14,895.567 1724.93,904.153 1725.72,921.326 1726.52,904.153 1727.31,861.222 1728.1,921.326 1728.89,904.153 1729.68,912.74 1730.47,921.326 \n",
       "  1731.26,921.326 1732.05,904.153 1732.85,929.912 1733.64,895.567 1734.43,938.498 1735.22,938.498 1736.01,886.981 1736.8,895.567 1737.59,912.74 1738.38,921.326 \n",
       "  1739.18,929.912 1739.97,904.153 1740.76,929.912 1741.55,921.326 1742.34,878.395 1743.13,895.567 1743.92,921.326 1744.72,921.326 1745.51,912.74 1746.3,912.74 \n",
       "  1747.09,921.326 1747.88,921.326 1748.67,904.153 1749.46,912.74 1751.05,912.74 1752.63,904.153 1753.42,904.153 1754.21,904.153 1755,886.981 1755.79,878.395 \n",
       "  1756.59,878.395 1757.38,929.912 1758.17,912.74 1758.96,912.74 1759.75,938.498 1760.54,921.326 1761.33,921.326 1762.12,886.981 1762.92,921.326 1763.71,895.567 \n",
       "  1764.5,929.912 1765.29,921.326 1766.08,886.981 1766.87,886.981 1767.66,921.326 1768.46,921.326 1769.25,895.567 1770.04,938.498 1770.83,904.153 1771.62,921.326 \n",
       "  1772.41,895.567 1773.2,912.74 1773.99,904.153 1774.79,921.326 1775.58,912.74 1776.37,912.74 1777.16,886.981 1777.95,886.981 1778.74,912.74 1779.53,886.981 \n",
       "  1780.33,904.153 1781.12,895.567 1781.91,929.912 1782.7,895.567 1783.49,921.326 1784.28,921.326 1785.07,904.153 1785.86,912.74 1786.66,904.153 1787.45,904.153 \n",
       "  1788.24,929.912 1789.03,895.567 1789.82,921.326 1790.61,895.567 1791.4,904.153 1792.2,955.671 1792.99,921.326 1793.78,886.981 1794.57,921.326 1795.36,921.326 \n",
       "  1796.15,878.395 1796.94,895.567 1797.61,921.326 1798.28,921.326 1798.94,912.74 1799.61,921.326 1800.27,904.153 1800.94,904.153 1801.61,904.153 1802.27,886.981 \n",
       "  1802.94,921.326 1803.6,895.567 1804.27,938.498 1804.94,904.153 1805.6,895.567 1806.27,904.153 1806.94,895.567 1807.6,886.981 1808.27,921.326 1808.93,929.912 \n",
       "  1809.6,947.085 1810.27,904.153 1810.93,912.74 1811.6,921.326 1812.26,938.498 1812.93,912.74 1813.6,878.395 1814.26,912.74 1814.93,895.567 1815.59,998.602 \n",
       "  1816.26,912.74 1816.93,912.74 1817.59,929.912 1818.26,895.567 1818.93,929.912 1819.59,929.912 1820.26,998.602 1820.92,912.74 1821.59,895.567 1822.26,878.395 \n",
       "  1822.92,912.74 1823.59,929.912 1824.25,912.74 1824.92,895.567 1825.59,929.912 1826.25,912.74 1826.92,964.257 1827.59,947.085 1828.25,878.395 1828.92,947.085 \n",
       "  1829.58,929.912 1830.25,895.567 1830.92,929.912 1831.58,912.74 1832.25,912.74 1832.91,947.085 1833.58,912.74 1834.25,981.43 1834.91,912.74 1835.58,929.912 \n",
       "  1836.24,895.567 1836.91,878.395 1837.58,947.085 1838.24,844.05 1838.91,947.085 1839.58,826.877 1840.24,947.085 1840.91,895.567 1841.57,895.567 1842.24,929.912 \n",
       "  1842.91,861.222 1843.57,912.74 1844.24,878.395 1844.9,895.567 1845.57,861.222 1846.24,912.74 1846.9,947.085 1847.57,895.567 1848.23,947.085 1848.9,912.74 \n",
       "  1849.57,878.395 1850.23,895.567 1850.9,878.395 1851.57,878.395 1852.23,929.912 1852.9,912.74 1853.56,878.395 1854.23,947.085 1854.9,895.567 1855.56,912.74 \n",
       "  1856.23,981.43 1856.89,912.74 1857.56,912.74 1858.23,947.085 1858.89,878.395 1859.56,947.085 1860.23,895.567 1860.89,964.257 1861.56,844.05 1862.22,947.085 \n",
       "  1862.89,912.74 1863.56,895.567 1864.22,912.74 1864.89,912.74 1865.55,947.085 1866.22,947.085 1866.89,912.74 1867.55,895.567 1868.22,861.222 1868.88,878.395 \n",
       "  1869.55,878.395 1870.22,912.74 1870.88,895.567 1871.55,912.74 1872.22,912.74 1872.88,878.395 1873.55,929.912 1874.21,912.74 1874.88,947.085 1875.55,912.74 \n",
       "  1876.21,895.567 1876.88,895.567 1877.54,947.085 1878.21,912.74 1878.88,895.567 1879.54,998.602 1880.21,947.085 1880.88,929.912 1881.54,912.74 1882.21,929.912 \n",
       "  1883.02,947.085 1883.83,861.222 1884.65,947.085 1885.46,929.912 1886.27,964.257 1887.09,861.222 1887.9,964.257 1888.71,912.74 1889.53,947.085 1890.34,844.05 \n",
       "  1891.15,878.395 1891.97,964.257 1892.78,878.395 1893.59,878.395 1894.41,895.567 1895.22,964.257 1896.03,912.74 1896.85,929.912 1897.66,947.085 1898.47,912.74 \n",
       "  1899.29,878.395 1900.1,809.704 1900.91,929.912 1901.73,947.085 1902.54,912.74 1903.35,912.74 1904.17,895.567 1904.98,929.912 1905.79,878.395 1906.61,878.395 \n",
       "  1907.42,878.395 1908.23,947.085 1909.05,895.567 1909.86,929.912 1910.67,929.912 1911.49,929.912 1912.3,878.395 1913.11,844.05 1913.92,878.395 1914.74,947.085 \n",
       "  1915.55,929.912 1916.36,947.085 1917.18,947.085 1917.99,929.912 1918.8,895.567 1919.62,895.567 1920.43,929.912 1921.24,912.74 1922.06,947.085 1922.87,929.912 \n",
       "  1923.68,895.567 1924.5,895.567 1925.31,895.567 1926.12,826.877 1926.94,912.74 1927.75,861.222 1928.56,912.74 1929.38,947.085 1930.19,964.257 1931,947.085 \n",
       "  1931.82,912.74 1932.63,878.395 1933.44,844.05 1934.26,947.085 1935.07,929.912 1935.88,998.602 1936.7,947.085 1937.51,912.74 1938.32,929.912 1939.14,947.085 \n",
       "  1939.95,895.567 1940.76,947.085 1941.58,878.395 1942.39,912.74 1943.2,895.567 1944.02,912.74 1944.83,895.567 1945.64,895.567 1946.46,844.05 1947.27,912.74 \n",
       "  1948.08,912.74 1948.9,775.359 1949.71,844.05 1950.52,878.395 1951.34,981.43 1952.15,947.085 1952.96,878.395 1953.78,912.74 1954.59,809.704 1955.4,844.05 \n",
       "  1956.21,775.359 1957.03,741.014 1957.84,912.74 1958.65,981.43 1959.47,912.74 1960.28,878.395 1961.09,878.395 1961.91,844.05 1962.72,878.395 1963.53,981.43 \n",
       "  1964.35,981.43 1965.16,1015.77 1965.97,947.085 1966.79,947.085 1967.6,844.05 1968.41,912.74 1969.23,809.704 1970.04,844.05 1970.85,1015.77 1971.67,947.085 \n",
       "  1972.48,981.43 1973.29,878.395 1974.11,878.395 1974.92,878.395 1975.73,809.704 1976.55,947.085 1977.36,947.085 1978.17,844.05 1978.99,947.085 1979.8,981.43 \n",
       "  1980.61,878.395 1981.43,878.395 1982.24,912.74 1983.05,947.085 1983.87,844.05 1984.68,947.085 1985.49,947.085 1986.31,912.74 1987.07,947.085 1987.83,878.395 \n",
       "  1988.6,947.085 1989.36,878.395 1990.13,878.395 1990.89,706.669 1991.66,878.395 1992.42,947.085 1993.19,912.74 1993.95,1050.12 1994.72,775.359 1995.48,809.704 \n",
       "  1996.24,947.085 1997.01,844.05 1997.77,912.74 1998.54,981.43 1999.3,912.74 2000.07,947.085 2000.83,947.085 2001.6,981.43 2002.36,981.43 2003.12,878.395 \n",
       "  2003.89,912.74 2004.65,912.74 2005.42,947.085 2006.18,947.085 2006.95,878.395 2007.71,878.395 2008.48,947.085 2009.24,947.085 2010.01,809.704 2010.77,844.05 \n",
       "  2011.53,878.395 2012.3,878.395 2013.06,947.085 2013.83,844.05 2014.59,912.74 2015.36,844.05 2016.12,809.704 2016.89,912.74 2017.65,912.74 2018.41,947.085 \n",
       "  2019.18,981.43 2019.94,844.05 2020.71,844.05 2021.47,844.05 2022.24,1015.77 2023,1050.12 2023.77,844.05 2024.53,844.05 2025.29,844.05 2026.06,878.395 \n",
       "  2026.82,1015.77 2027.59,912.74 2028.35,947.085 2029.12,981.43 2029.88,1050.12 2030.65,1050.12 2031.41,878.395 2032.18,912.74 2032.94,809.704 2033.7,844.05 \n",
       "  2034.47,912.74 2035.23,844.05 2036,878.395 2036.76,947.085 2037.53,1015.77 2038.29,1084.46 2039.06,947.085 2039.82,809.704 2040.58,912.74 2041.35,844.05 \n",
       "  2042.11,878.395 2042.88,878.395 2043.64,844.05 2044.41,878.395 2045.17,1015.77 2045.94,981.43 2046.7,981.43 2047.47,878.395 2048.23,981.43 2048.99,912.74 \n",
       "  2049.76,981.43 2050.52,912.74 2051.29,809.704 2052.05,912.74 2052.82,878.395 2053.58,947.085 2054.35,912.74 2055.11,912.74 2055.87,981.43 2056.64,878.395 \n",
       "  2057.4,912.74 2058.17,878.395 2058.93,981.43 2059.7,878.395 2060.46,981.43 2061.23,844.05 2061.99,844.05 2062.76,809.704 2063.52,1015.77 2064.28,844.05 \n",
       "  2065.05,912.74 2065.81,947.085 2066.58,1050.12 2067.34,947.085 2068.11,878.395 2068.87,947.085 2069.64,844.05 2070.4,844.05 2071.16,912.74 2071.93,947.085 \n",
       "  2072.69,844.05 2073.46,844.05 2074.22,1084.46 2074.99,844.05 2075.75,1050.12 2076.52,878.395 2077.28,912.74 2078.05,637.979 2078.81,775.359 2079.57,775.359 \n",
       "  2080.34,981.43 2081.1,912.74 2081.87,981.43 2082.63,844.05 2083.4,775.359 2084.16,981.43 2085.39,844.05 2086.61,775.359 2087.84,981.43 2089.06,912.74 \n",
       "  2090.28,844.05 2091.51,1050.12 2092.73,912.74 2093.96,912.74 2095.18,569.289 2096.41,981.43 2097.63,981.43 2098.86,981.43 2100.08,981.43 2101.31,1050.12 \n",
       "  2102.53,1050.12 2103.76,844.05 2104.98,844.05 2106.21,912.74 2107.43,637.979 2108.66,1050.12 2109.88,775.359 2111.11,1050.12 2112.33,1050.12 2113.56,981.43 \n",
       "  2114.78,981.43 2116.01,1187.5 2117.23,844.05 2118.45,912.74 2119.68,912.74 2120.9,912.74 2122.13,775.359 2123.35,1118.81 2124.58,706.669 2125.8,775.359 \n",
       "  2127.03,912.74 2128.25,981.43 2129.48,775.359 2130.7,1050.12 2131.93,912.74 2133.15,1187.5 2134.38,844.05 2135.6,981.43 2136.83,706.669 2138.05,912.74 \n",
       "  2139.28,981.43 2140.5,844.05 2141.73,637.979 2142.95,844.05 2144.18,912.74 2145.4,912.74 2146.62,844.05 2147.85,912.74 2149.07,844.05 2150.3,775.359 \n",
       "  2151.52,706.669 2152.75,981.43 2153.97,775.359 2155.2,775.359 2156.42,775.359 2157.65,981.43 2158.87,981.43 2160.1,1118.81 2161.32,1050.12 2162.55,844.05 \n",
       "  2163.77,981.43 2165,912.74 2166.22,912.74 2167.45,844.05 2168.67,912.74 2169.9,981.43 2171.12,500.599 2172.35,981.43 2173.57,844.05 2174.79,912.74 \n",
       "  2176.02,844.05 2177.24,912.74 2178.47,844.05 2179.69,1118.81 2180.92,1050.12 2182.14,1050.12 2183.37,844.05 2184.59,431.909 2185.82,912.74 2187.04,912.74 \n",
       "  2188.27,775.359 2189.49,981.43 2190.72,775.359 2191.94,844.05 2193.17,981.43 2194.39,1118.81 2195.62,1187.5 2196.84,1050.12 2198.07,912.74 2199.29,912.74 \n",
       "  2200.52,706.669 2201.74,775.359 2202.96,1118.81 2204.19,1050.12 2205.41,981.43 2206.64,981.43 2207.86,706.669 2209.09,637.979 2210.31,1050.12 2211.54,912.74 \n",
       "  2212.76,1187.5 2213.99,1187.5 2215.21,363.219 2216.44,775.359 2217.66,775.359 2218.89,1050.12 2220.11,1462.26 2221.34,1324.88 2222.56,912.74 2223.79,912.74 \n",
       "  2225.01,775.359 2226.24,775.359 2227.46,225.838 2228.69,1187.5 2229.91,500.599 2231.13,1324.88 2232.36,912.74 2233.58,1324.88 2234.81,1187.5 2236.03,225.838 \n",
       "  2237.26,637.979 2238.48,1187.5 2239.71,912.74 2240.93,363.219 2241.12,912.74 2241.31,775.359 2241.5,1187.5 2241.69,637.979 2241.88,912.74 2242.06,1187.5 \n",
       "  2242.25,912.74 2242.44,1187.5 2242.63,363.219 2242.82,637.979 2243.01,1050.12 2243.19,637.979 2243.38,912.74 2243.57,1050.12 2243.76,363.219 2243.95,912.74 \n",
       "  2244.14,500.599 2244.33,637.979 2244.51,775.359 2244.7,912.74 2244.89,912.74 2245.08,637.979 2245.27,775.359 2245.46,1324.88 2245.65,1324.88 2245.83,363.219 \n",
       "  2246.02,363.219 2246.21,912.74 2246.4,500.599 2246.59,1187.5 2246.78,775.359 2246.96,1050.12 2247.15,775.359 2247.34,637.979 2247.53,912.74 2247.72,912.74 \n",
       "  2247.91,637.979 2248.1,637.979 2248.28,1050.12 2248.47,1050.12 2248.66,1050.12 2248.85,1462.26 2249.04,1187.5 2249.23,1324.88 2249.41,912.74 2249.6,500.599 \n",
       "  2249.79,637.979 2249.98,1050.12 2250.17,1050.12 2250.36,775.359 2250.55,912.74 2250.73,775.359 2250.92,912.74 2251.11,500.599 2251.3,637.979 2251.49,500.599 \n",
       "  2251.68,1324.88 2251.87,1462.26 2252.05,1050.12 2252.24,1187.5 2252.43,1050.12 2252.62,637.979 2252.81,1050.12 2253,912.74 2253.18,1050.12 2253.37,912.74 \n",
       "  2253.56,1050.12 2253.75,775.359 2253.94,637.979 2254.13,1050.12 2254.32,1050.12 2254.5,912.74 2254.69,775.359 2254.88,637.979 2255.07,637.979 2255.26,1324.88 \n",
       "  2255.45,637.979 2255.63,912.74 2255.82,1050.12 2256.01,912.74 2256.2,1050.12 2256.39,775.359 2256.58,775.359 2256.77,1050.12 2256.95,775.359 2257.14,1050.12 \n",
       "  2257.33,912.74 2257.52,775.359 2257.71,912.74 2257.9,1050.12 2258.09,912.74 2258.27,500.599 2258.46,637.979 2258.65,1050.12 2258.84,775.359 2259.03,775.359 \n",
       "  2259.22,912.74 2259.4,637.979 2259.59,363.219 2259.78,912.74 2259.97,912.74 2260.16,637.979 2260.35,637.979 2260.54,1050.12 2260.72,775.359 2260.91,500.599 \n",
       "  2261.1,912.74 2261.29,912.74 2261.48,1050.12 2261.67,500.599 2261.86,1050.12 2262.04,363.219 2262.23,1187.5 2262.42,912.74 2262.61,500.599 2262.8,88.4582 \n",
       "  2262.99,1462.26 2263.17,1050.12 2263.36,775.359 2263.55,225.838 2263.74,637.979 2263.93,637.979 2264.12,912.74 2264.31,912.74 2264.49,1050.12 2264.68,775.359 \n",
       "  2264.87,912.74 \n",
       "  \"/>\n",
       "<polygon clip-path=\"url(#clip6401)\" points=\"\n",
       "1958.43,251.724 2249.26,251.724 2249.26,130.764 1958.43,130.764 \n",
       "  \" fill=\"#ffffff\" fill-rule=\"evenodd\" fill-opacity=\"1\"/>\n",
       "<polyline clip-path=\"url(#clip6401)\" style=\"stroke:#000000; stroke-width:4; stroke-opacity:1; fill:none\" points=\"\n",
       "  1958.43,251.724 2249.26,251.724 2249.26,130.764 1958.43,130.764 1958.43,251.724 \n",
       "  \"/>\n",
       "<polyline clip-path=\"url(#clip6401)\" style=\"stroke:#009af9; stroke-width:4; stroke-opacity:1; fill:none\" points=\"\n",
       "  1982.43,191.244 2126.43,191.244 \n",
       "  \"/>\n",
       "<g clip-path=\"url(#clip6401)\">\n",
       "<text style=\"fill:#000000; fill-opacity:1; font-family:Arial,Helvetica Neue,Helvetica,sans-serif; font-size:48px; text-anchor:start;\" transform=\"rotate(0, 2150.43, 208.744)\" x=\"2150.43\" y=\"208.744\">y1</text>\n",
       "</g>\n",
       "</svg>\n"
      ]
     },
     "execution_count": 7,
     "metadata": {},
     "output_type": "execute_result"
    }
   ],
   "source": [
    "plot(x->exp(x) - exponencial3(x), 0, 10.0)"
   ]
  },
  {
   "cell_type": "code",
   "execution_count": 8,
   "metadata": {},
   "outputs": [
    {
     "data": {
      "image/svg+xml": [
       "<?xml version=\"1.0\" encoding=\"utf-8\"?>\n",
       "<svg xmlns=\"http://www.w3.org/2000/svg\" xmlns:xlink=\"http://www.w3.org/1999/xlink\" width=\"600\" height=\"400\" viewBox=\"0 0 2400 1600\">\n",
       "<defs>\n",
       "  <clipPath id=\"clip6600\">\n",
       "    <rect x=\"0\" y=\"0\" width=\"2000\" height=\"2000\"/>\n",
       "  </clipPath>\n",
       "</defs>\n",
       "<defs>\n",
       "  <clipPath id=\"clip6601\">\n",
       "    <rect x=\"0\" y=\"0\" width=\"2400\" height=\"1600\"/>\n",
       "  </clipPath>\n",
       "</defs>\n",
       "<polygon clip-path=\"url(#clip6601)\" points=\"\n",
       "0,1600 2400,1600 2400,0 0,0 \n",
       "  \" fill=\"#ffffff\" fill-rule=\"evenodd\" fill-opacity=\"1\"/>\n",
       "<defs>\n",
       "  <clipPath id=\"clip6602\">\n",
       "    <rect x=\"480\" y=\"0\" width=\"1681\" height=\"1600\"/>\n",
       "  </clipPath>\n",
       "</defs>\n",
       "<polygon clip-path=\"url(#clip6601)\" points=\"\n",
       "844.7,1503.47 2321.26,1503.47 2321.26,47.2441 844.7,47.2441 \n",
       "  \" fill=\"#ffffff\" fill-rule=\"evenodd\" fill-opacity=\"1\"/>\n",
       "<defs>\n",
       "  <clipPath id=\"clip6603\">\n",
       "    <rect x=\"844\" y=\"47\" width=\"1478\" height=\"1457\"/>\n",
       "  </clipPath>\n",
       "</defs>\n",
       "<polyline clip-path=\"url(#clip6603)\" style=\"stroke:#000000; stroke-width:2; stroke-opacity:0.1; fill:none\" points=\"\n",
       "  886.383,1503.47 886.383,47.2441 \n",
       "  \"/>\n",
       "<polyline clip-path=\"url(#clip6603)\" style=\"stroke:#000000; stroke-width:2; stroke-opacity:0.1; fill:none\" points=\"\n",
       "  1234.69,1503.47 1234.69,47.2441 \n",
       "  \"/>\n",
       "<polyline clip-path=\"url(#clip6603)\" style=\"stroke:#000000; stroke-width:2; stroke-opacity:0.1; fill:none\" points=\"\n",
       "  1583,1503.47 1583,47.2441 \n",
       "  \"/>\n",
       "<polyline clip-path=\"url(#clip6603)\" style=\"stroke:#000000; stroke-width:2; stroke-opacity:0.1; fill:none\" points=\"\n",
       "  1931.3,1503.47 1931.3,47.2441 \n",
       "  \"/>\n",
       "<polyline clip-path=\"url(#clip6603)\" style=\"stroke:#000000; stroke-width:2; stroke-opacity:0.1; fill:none\" points=\"\n",
       "  2279.61,1503.47 2279.61,47.2441 \n",
       "  \"/>\n",
       "<polyline clip-path=\"url(#clip6603)\" style=\"stroke:#000000; stroke-width:2; stroke-opacity:0.1; fill:none\" points=\"\n",
       "  844.7,1393.58 2321.26,1393.58 \n",
       "  \"/>\n",
       "<polyline clip-path=\"url(#clip6603)\" style=\"stroke:#000000; stroke-width:2; stroke-opacity:0.1; fill:none\" points=\"\n",
       "  844.7,1118.84 2321.26,1118.84 \n",
       "  \"/>\n",
       "<polyline clip-path=\"url(#clip6603)\" style=\"stroke:#000000; stroke-width:2; stroke-opacity:0.1; fill:none\" points=\"\n",
       "  844.7,844.108 2321.26,844.108 \n",
       "  \"/>\n",
       "<polyline clip-path=\"url(#clip6603)\" style=\"stroke:#000000; stroke-width:2; stroke-opacity:0.1; fill:none\" points=\"\n",
       "  844.7,569.372 2321.26,569.372 \n",
       "  \"/>\n",
       "<polyline clip-path=\"url(#clip6603)\" style=\"stroke:#000000; stroke-width:2; stroke-opacity:0.1; fill:none\" points=\"\n",
       "  844.7,294.635 2321.26,294.635 \n",
       "  \"/>\n",
       "<polyline clip-path=\"url(#clip6601)\" style=\"stroke:#000000; stroke-width:4; stroke-opacity:1; fill:none\" points=\"\n",
       "  844.7,1503.47 2321.26,1503.47 \n",
       "  \"/>\n",
       "<polyline clip-path=\"url(#clip6601)\" style=\"stroke:#000000; stroke-width:4; stroke-opacity:1; fill:none\" points=\"\n",
       "  844.7,1503.47 844.7,47.2441 \n",
       "  \"/>\n",
       "<polyline clip-path=\"url(#clip6601)\" style=\"stroke:#000000; stroke-width:4; stroke-opacity:1; fill:none\" points=\"\n",
       "  886.383,1503.47 886.383,1481.63 \n",
       "  \"/>\n",
       "<polyline clip-path=\"url(#clip6601)\" style=\"stroke:#000000; stroke-width:4; stroke-opacity:1; fill:none\" points=\"\n",
       "  1234.69,1503.47 1234.69,1481.63 \n",
       "  \"/>\n",
       "<polyline clip-path=\"url(#clip6601)\" style=\"stroke:#000000; stroke-width:4; stroke-opacity:1; fill:none\" points=\"\n",
       "  1583,1503.47 1583,1481.63 \n",
       "  \"/>\n",
       "<polyline clip-path=\"url(#clip6601)\" style=\"stroke:#000000; stroke-width:4; stroke-opacity:1; fill:none\" points=\"\n",
       "  1931.3,1503.47 1931.3,1481.63 \n",
       "  \"/>\n",
       "<polyline clip-path=\"url(#clip6601)\" style=\"stroke:#000000; stroke-width:4; stroke-opacity:1; fill:none\" points=\"\n",
       "  2279.61,1503.47 2279.61,1481.63 \n",
       "  \"/>\n",
       "<polyline clip-path=\"url(#clip6601)\" style=\"stroke:#000000; stroke-width:4; stroke-opacity:1; fill:none\" points=\"\n",
       "  844.7,1393.58 866.849,1393.58 \n",
       "  \"/>\n",
       "<polyline clip-path=\"url(#clip6601)\" style=\"stroke:#000000; stroke-width:4; stroke-opacity:1; fill:none\" points=\"\n",
       "  844.7,1118.84 866.849,1118.84 \n",
       "  \"/>\n",
       "<polyline clip-path=\"url(#clip6601)\" style=\"stroke:#000000; stroke-width:4; stroke-opacity:1; fill:none\" points=\"\n",
       "  844.7,844.108 866.849,844.108 \n",
       "  \"/>\n",
       "<polyline clip-path=\"url(#clip6601)\" style=\"stroke:#000000; stroke-width:4; stroke-opacity:1; fill:none\" points=\"\n",
       "  844.7,569.372 866.849,569.372 \n",
       "  \"/>\n",
       "<polyline clip-path=\"url(#clip6601)\" style=\"stroke:#000000; stroke-width:4; stroke-opacity:1; fill:none\" points=\"\n",
       "  844.7,294.635 866.849,294.635 \n",
       "  \"/>\n",
       "<g clip-path=\"url(#clip6601)\">\n",
       "<text style=\"fill:#000000; fill-opacity:1; font-family:Arial,Helvetica Neue,Helvetica,sans-serif; font-size:48px; text-anchor:middle;\" transform=\"rotate(0, 886.383, 1557.47)\" x=\"886.383\" y=\"1557.47\">0.0</text>\n",
       "</g>\n",
       "<g clip-path=\"url(#clip6601)\">\n",
       "<text style=\"fill:#000000; fill-opacity:1; font-family:Arial,Helvetica Neue,Helvetica,sans-serif; font-size:48px; text-anchor:middle;\" transform=\"rotate(0, 1234.69, 1557.47)\" x=\"1234.69\" y=\"1557.47\">2.5</text>\n",
       "</g>\n",
       "<g clip-path=\"url(#clip6601)\">\n",
       "<text style=\"fill:#000000; fill-opacity:1; font-family:Arial,Helvetica Neue,Helvetica,sans-serif; font-size:48px; text-anchor:middle;\" transform=\"rotate(0, 1583, 1557.47)\" x=\"1583\" y=\"1557.47\">5.0</text>\n",
       "</g>\n",
       "<g clip-path=\"url(#clip6601)\">\n",
       "<text style=\"fill:#000000; fill-opacity:1; font-family:Arial,Helvetica Neue,Helvetica,sans-serif; font-size:48px; text-anchor:middle;\" transform=\"rotate(0, 1931.3, 1557.47)\" x=\"1931.3\" y=\"1557.47\">7.5</text>\n",
       "</g>\n",
       "<g clip-path=\"url(#clip6601)\">\n",
       "<text style=\"fill:#000000; fill-opacity:1; font-family:Arial,Helvetica Neue,Helvetica,sans-serif; font-size:48px; text-anchor:middle;\" transform=\"rotate(0, 2279.61, 1557.47)\" x=\"2279.61\" y=\"1557.47\">10.0</text>\n",
       "</g>\n",
       "<g clip-path=\"url(#clip6601)\">\n",
       "<text style=\"fill:#000000; fill-opacity:1; font-family:Arial,Helvetica Neue,Helvetica,sans-serif; font-size:48px; text-anchor:end;\" transform=\"rotate(0, 820.7, 1411.08)\" x=\"820.7\" y=\"1411.08\">0</text>\n",
       "</g>\n",
       "<g clip-path=\"url(#clip6601)\">\n",
       "<text style=\"fill:#000000; fill-opacity:1; font-family:Arial,Helvetica Neue,Helvetica,sans-serif; font-size:48px; text-anchor:start;\" transform=\"rotate(0, 150.871, 1142.57)\" x=\"150.871\" y=\"1142.57\">2.500000000000000444×10</text>\n",
       "</g>\n",
       "<g clip-path=\"url(#clip6601)\">\n",
       "<text style=\"fill:#000000; fill-opacity:1; font-family:Arial,Helvetica Neue,Helvetica,sans-serif; font-size:38px; text-anchor:start;\" transform=\"rotate(0, 754.372, 1115.16)\" x=\"754.372\" y=\"1115.16\">-</text>\n",
       "</g>\n",
       "<g clip-path=\"url(#clip6601)\">\n",
       "<text style=\"fill:#000000; fill-opacity:1; font-family:Arial,Helvetica Neue,Helvetica,sans-serif; font-size:38px; text-anchor:start;\" transform=\"rotate(0, 777.211, 1115.16)\" x=\"777.211\" y=\"1115.16\">16</text>\n",
       "</g>\n",
       "<g clip-path=\"url(#clip6601)\">\n",
       "<text style=\"fill:#000000; fill-opacity:1; font-family:Arial,Helvetica Neue,Helvetica,sans-serif; font-size:48px; text-anchor:start;\" transform=\"rotate(0, 150.871, 867.835)\" x=\"150.871\" y=\"867.835\">5.000000000000000888×10</text>\n",
       "</g>\n",
       "<g clip-path=\"url(#clip6601)\">\n",
       "<text style=\"fill:#000000; fill-opacity:1; font-family:Arial,Helvetica Neue,Helvetica,sans-serif; font-size:38px; text-anchor:start;\" transform=\"rotate(0, 754.372, 840.425)\" x=\"754.372\" y=\"840.425\">-</text>\n",
       "</g>\n",
       "<g clip-path=\"url(#clip6601)\">\n",
       "<text style=\"fill:#000000; fill-opacity:1; font-family:Arial,Helvetica Neue,Helvetica,sans-serif; font-size:38px; text-anchor:start;\" transform=\"rotate(0, 777.211, 840.425)\" x=\"777.211\" y=\"840.425\">16</text>\n",
       "</g>\n",
       "<g clip-path=\"url(#clip6601)\">\n",
       "<text style=\"fill:#000000; fill-opacity:1; font-family:Arial,Helvetica Neue,Helvetica,sans-serif; font-size:48px; text-anchor:start;\" transform=\"rotate(0, 150.871, 593.099)\" x=\"150.871\" y=\"593.099\">7.500000000000000888×10</text>\n",
       "</g>\n",
       "<g clip-path=\"url(#clip6601)\">\n",
       "<text style=\"fill:#000000; fill-opacity:1; font-family:Arial,Helvetica Neue,Helvetica,sans-serif; font-size:38px; text-anchor:start;\" transform=\"rotate(0, 754.372, 565.689)\" x=\"754.372\" y=\"565.689\">-</text>\n",
       "</g>\n",
       "<g clip-path=\"url(#clip6601)\">\n",
       "<text style=\"fill:#000000; fill-opacity:1; font-family:Arial,Helvetica Neue,Helvetica,sans-serif; font-size:38px; text-anchor:start;\" transform=\"rotate(0, 777.211, 565.689)\" x=\"777.211\" y=\"565.689\">16</text>\n",
       "</g>\n",
       "<g clip-path=\"url(#clip6601)\">\n",
       "<text style=\"fill:#000000; fill-opacity:1; font-family:Arial,Helvetica Neue,Helvetica,sans-serif; font-size:48px; text-anchor:start;\" transform=\"rotate(0, 605.831, 318.363)\" x=\"605.831\" y=\"318.363\">1.0×10</text>\n",
       "</g>\n",
       "<g clip-path=\"url(#clip6601)\">\n",
       "<text style=\"fill:#000000; fill-opacity:1; font-family:Arial,Helvetica Neue,Helvetica,sans-serif; font-size:38px; text-anchor:start;\" transform=\"rotate(0, 754.372, 290.953)\" x=\"754.372\" y=\"290.953\">-</text>\n",
       "</g>\n",
       "<g clip-path=\"url(#clip6601)\">\n",
       "<text style=\"fill:#000000; fill-opacity:1; font-family:Arial,Helvetica Neue,Helvetica,sans-serif; font-size:38px; text-anchor:start;\" transform=\"rotate(0, 777.211, 290.953)\" x=\"777.211\" y=\"290.953\">15</text>\n",
       "</g>\n",
       "<polyline clip-path=\"url(#clip6603)\" style=\"stroke:#009af9; stroke-width:4; stroke-opacity:1; fill:none\" points=\"\n",
       "  886.49,1393.58 886.596,1149.94 886.702,1393.58 886.808,1393.58 886.915,1393.58 887.021,1150.68 887.127,1393.58 887.234,1151.05 887.34,1151.24 887.446,1151.42 \n",
       "  887.553,1393.58 887.659,1393.58 887.765,1151.97 887.871,1152.16 887.978,1152.34 888.084,911.472 888.19,1393.58 888.297,1393.58 888.403,1393.58 888.509,1393.58 \n",
       "  888.615,1153.44 888.722,1393.58 888.828,1153.81 888.934,1393.58 889.041,1154.18 889.147,1154.36 889.253,1393.58 889.36,1393.58 889.466,1393.58 889.572,1155.09 \n",
       "  889.678,1155.27 889.785,1155.45 889.891,1393.58 889.997,1393.58 890.104,1393.58 890.21,1156.18 890.316,1393.58 890.423,1393.58 890.529,1156.72 890.635,1156.9 \n",
       "  890.741,1393.58 890.848,1393.58 890.954,1393.58 891.06,1393.58 891.167,1157.8 891.273,1157.98 891.379,1158.16 891.485,1158.34 891.592,1158.52 891.698,1158.7 \n",
       "  891.804,1393.58 891.911,1393.58 892.017,1393.58 892.123,1393.58 892.23,1159.59 892.336,1159.77 892.442,1159.95 892.548,1160.13 892.655,1160.31 892.761,1393.58 \n",
       "  892.867,1393.58 892.974,1393.58 893.08,1393.58 893.186,1393.58 893.293,1393.58 893.399,1161.55 893.505,1393.58 893.611,1393.58 893.718,1162.08 893.824,1162.26 \n",
       "  893.93,1393.58 894.037,1393.58 894.143,1162.78 894.249,932.341 894.355,1393.58 894.462,1163.31 894.568,1393.58 894.674,1393.58 894.781,1163.84 894.887,1393.58 \n",
       "  894.993,1393.58 895.1,1393.58 895.206,1164.54 895.312,1393.58 895.418,1393.58 895.525,1165.06 895.631,1393.58 895.737,1165.41 895.844,1393.58 895.95,1165.76 \n",
       "  896.056,1393.58 896.163,1393.58 896.269,1166.28 896.375,939.325 896.481,1393.58 896.588,1166.8 896.694,940.364 896.8,1393.58 896.907,1167.32 897.013,1393.58 \n",
       "  897.119,1167.66 897.226,1393.58 897.332,942.434 897.438,1168.18 897.544,1393.58 897.651,1168.52 897.757,1393.58 897.863,944.152 897.97,1393.58 898.076,944.837 \n",
       "  898.182,1169.38 898.288,1169.55 898.395,1169.72 898.501,1169.89 898.607,1393.58 898.714,1393.58 898.82,1170.4 898.926,947.568 899.033,1170.74 899.139,1170.91 \n",
       "  899.245,1393.58 899.351,1393.58 899.458,1393.58 899.564,1171.59 899.67,1393.58 899.777,1171.93 899.883,1172.1 899.989,1393.58 900.972,1393.58 901.955,1175.37 \n",
       "  902.938,1176.9 903.921,1393.58 904.904,1179.94 905.886,969.302 906.869,1182.93 907.852,1393.58 908.835,1185.88 909.818,1393.58 910.801,1393.58 911.784,1190.23 \n",
       "  912.767,1191.66 913.749,1393.58 914.732,1393.58 915.715,1195.89 916.698,1197.28 917.681,1198.66 918.664,1393.58 919.647,1393.58 920.629,1011.9 921.612,1393.58 \n",
       "  922.595,1205.42 923.578,1019.9 924.561,1208.05 925.544,1393.58 926.527,1393.58 927.51,1211.94 928.492,1213.21 929.475,1214.48 930.458,1037.9 931.441,1216.99 \n",
       "  932.424,1393.58 933.407,1045.35 934.39,1393.58 935.372,1221.91 936.355,1223.11 937.338,1224.31 938.321,1393.58 939.304,1393.58 940.287,1393.58 941.27,1229.02 \n",
       "  942.253,1393.58 943.235,1393.58 944.218,1232.47 945.201,1393.58 946.184,1393.58 947.167,1393.58 948.15,1236.95 949.133,1238.05 950.115,1239.14 951.098,1393.58 \n",
       "  952.081,1241.31 953.064,1242.38 954.047,1243.44 955.03,1244.5 956.013,1097.51 956.996,1246.58 957.978,1247.62 958.961,1248.64 959.944,1249.66 960.927,1393.58 \n",
       "  961.91,1251.68 962.893,1393.58 963.876,1113.75 964.858,1254.65 965.841,1117.67 966.824,1393.58 967.807,1393.58 968.79,1393.58 969.773,1393.58 970.756,1393.58 \n",
       "  971.739,1393.58 972.721,1130.97 973.704,1393.58 974.687,1393.58 975.67,1136.47 976.653,1138.28 977.636,1393.58 978.619,1393.58 979.601,1268.6 980.584,1145.38 \n",
       "  981.567,1270.35 982.55,1271.22 983.533,1150.58 984.516,1152.29 985.499,1153.98 986.482,1155.67 987.464,1393.58 988.447,924.418 989.43,1160.65 990.413,1162.29 \n",
       "  991.396,1393.58 992.379,1165.53 993.362,1393.58 994.344,1168.72 995.327,947.023 996.31,1171.87 997.293,1173.43 998.276,1393.58 999.259,1393.58 1000.24,1178.04 \n",
       "  1001.22,1393.58 1002.21,1181.06 1003.19,1393.58 1004.17,1184.04 1005.16,1185.51 1006.14,1186.97 1007.12,1188.43 1008.1,986.155 1009.09,1393.58 1010.07,1192.72 \n",
       "  1011.05,994.687 1012.04,1393.58 1013.02,1196.93 1014,1003.04 1014.98,1199.68 1015.97,1201.05 1016.95,1202.4 1017.93,1203.74 1018.92,1205.08 1019.9,1206.4 \n",
       "  1020.88,1021.86 1021.86,1393.58 1022.85,1210.32 1023.83,1211.61 1024.81,851.511 1025.8,1393.58 1026.39,1214.92 1026.98,1037.77 1027.57,1393.58 1028.16,1217.18 \n",
       "  1028.75,1217.92 1029.34,1393.58 1029.93,1045.23 1030.52,1046.71 1031.11,1393.58 1031.7,1221.61 1032.29,1051.09 1032.88,1223.06 1033.47,1393.58 1034.07,1393.58 \n",
       "  1034.66,1056.85 1035.25,1393.58 1035.84,1393.58 1036.43,1061.11 1037.02,896.979 1037.61,734.246 1038.2,1393.58 1038.79,1230.14 1039.38,1230.83 1039.97,1231.52 \n",
       "  1040.56,1393.58 1041.15,1393.58 1041.74,1233.57 1042.33,1234.24 1042.93,1393.58 1043.52,1393.58 1044.11,1078.93 1044.7,923.608 1045.29,1237.59 1045.88,1238.25 \n",
       "  1046.47,1393.58 1047.06,1085.53 1047.65,1086.84 1048.24,1240.86 1048.83,1089.43 1049.42,1393.58 1050.01,1242.79 1050.6,1243.43 1051.19,1094.54 1051.79,1393.58 \n",
       "  1052.38,1245.32 1052.97,1393.58 1053.56,1246.57 1054.15,1100.81 1054.74,1247.82 1055.33,1393.58 1055.92,1393.58 1056.51,1393.58 1057.1,1250.27 1057.69,1393.58 \n",
       "  1058.28,1109.37 1058.87,1252.08 1059.46,1252.68 1060.05,1253.27 1060.65,1253.87 1061.24,1393.58 1061.83,1393.58 1062.42,1255.63 1063.01,1256.22 1063.6,1120.01 \n",
       "  1064.19,1393.58 1064.78,1122.32 1065.37,1258.53 1065.96,1393.58 1066.55,1259.67 1067.14,1393.58 1067.73,1260.8 1068.32,1261.36 1068.91,1393.58 1069.51,1262.47 \n",
       "  1070.1,1132.48 1070.69,1263.58 1071.28,1393.58 1071.87,1135.78 1072.46,1265.22 1073.05,1265.77 1073.64,1393.58 1074.23,1266.85 1074.82,1393.58 1075.41,1393.58 \n",
       "  1076,893.053 1076.59,1268.98 1077.18,1269.51 1077.77,1393.58 1078.37,1147.53 1078.96,1271.07 1079.55,1393.58 1080.14,1150.63 1080.73,1393.58 1081.32,911.792 \n",
       "  1081.91,1153.71 1082.5,1154.72 1083.09,917.881 1083.68,1393.58 1084.27,1157.74 1084.86,923.892 1085.45,1393.58 1086.04,1160.72 1086.63,1393.58 1087.23,1162.69 \n",
       "  1087.82,1163.66 1088.41,1164.63 1089,1165.6 1089.59,1166.57 1090.18,1167.53 1090.77,1393.58 1091.36,721.15 1091.95,1393.58 1092.54,1171.33 1093.13,950.959 \n",
       "  1093.72,1393.58 1094.31,1174.14 1094.9,1175.07 1095.49,1393.58 1096.09,1176.91 1096.68,962.076 1097.27,963.901 1097.86,1179.65 1098.45,1393.58 1099.04,969.332 \n",
       "  1099.63,1393.58 1100.22,1183.25 1100.81,1393.58 1101.4,1393.58 1101.9,1393.58 1102.4,1186.51 1102.9,774.6 1103.4,982.403 1103.9,1188.73 1104.4,1189.46 \n",
       "  1104.9,1190.19 1105.4,988.257 1105.9,1393.58 1106.39,991.152 1106.89,1193.09 1107.39,1193.8 1107.89,1194.52 1108.39,1195.23 1108.89,998.3 1109.39,1393.58 \n",
       "  1109.89,1393.58 1110.39,1393.58 1110.89,1003.93 1111.39,1199.45 1111.89,1200.15 1112.39,1200.84 1112.89,817.421 1113.39,1010.85 1113.89,1393.58 1114.39,1203.58 \n",
       "  1114.88,1393.58 1115.38,1204.94 1115.88,1017.65 1116.38,1206.29 1116.88,1020.33 1117.38,1393.58 1117.88,1208.29 1118.38,1393.58 1118.88,1209.61 1119.38,1210.27 \n",
       "  1119.88,1393.58 1120.38,1211.58 1120.88,1212.23 1121.38,1212.88 1121.88,1213.53 1122.38,1393.58 1122.88,1393.58 1123.37,859.199 1123.87,1393.58 1124.37,1393.58 \n",
       "  1124.87,1393.58 1125.37,1393.58 1125.87,1218.62 1126.37,1219.24 1126.87,1219.87 1127.37,1393.58 1127.87,1221.11 1128.37,1393.58 1128.87,1051.1 1129.37,1222.95 \n",
       "  1129.87,1393.58 1130.37,1224.17 1130.87,1393.58 1131.36,888.984 1131.86,1225.98 1132.36,1059.59 1132.86,1227.18 1133.36,1227.78 1133.86,1393.58 1134.36,1228.96 \n",
       "  1134.86,1393.58 1135.36,1066.69 1135.86,1230.72 1136.36,1231.3 1136.86,1393.58 1137.36,1232.46 1137.86,1233.04 1138.36,1393.58 1138.86,1234.19 1139.36,1234.76 \n",
       "  1139.85,1393.58 1140.35,1235.89 1140.85,1236.46 1141.35,1080.45 1141.85,1237.58 1142.35,1393.58 1142.85,1238.69 1143.35,1084.91 1143.85,1239.8 1144.35,1393.58 \n",
       "  1144.85,935.531 1145.35,1393.58 1145.85,1241.99 1146.35,1242.53 1146.85,1243.07 1147.35,1243.61 1147.84,1094.71 1148.34,1393.58 1148.84,1245.21 1149.34,1097.91 \n",
       "  1149.84,1246.27 1150.34,1246.8 1150.84,1247.33 1151.34,956.385 1151.84,957.95 1152.34,1393.58 1152.84,1393.58 1153.34,1393.58 1153.84,821.008 1154.34,1393.58 \n",
       "  1154.84,1251.46 1155.34,1251.97 1155.84,1111.37 1156.33,1252.98 1156.83,1113.39 1157.33,1114.39 1157.83,1254.48 1158.33,1393.58 1158.83,1393.58 1159.33,1118.36 \n",
       "  1159.83,1119.35 1160.33,1393.58 1160.83,1257.44 1161.33,1257.93 1161.83,1123.25 1162.33,1258.9 1162.83,1259.38 1163.33,1393.58 1163.83,1260.34 1164.33,1260.82 \n",
       "  1164.82,1393.58 1165.32,1393.58 1165.87,1262.28 1166.41,1393.58 1166.95,1133.01 1167.49,1263.8 1168.04,1393.58 1168.58,1393.58 1169.12,1393.58 1169.66,1265.81 \n",
       "  1170.21,1393.58 1170.75,1140.02 1171.29,1141 1171.83,1267.78 1172.38,1142.96 1172.92,1268.76 1173.46,1144.91 1174,1269.73 1174.55,1393.58 1175.09,1270.69 \n",
       "  1175.63,1393.58 1176.17,905.821 1176.72,1150.65 1177.26,1393.58 1177.8,1152.53 1178.34,1393.58 1178.89,676.048 1179.43,1393.58 1179.97,918.936 1180.51,920.781 \n",
       "  1181.06,1393.58 1181.6,1393.58 1182.14,1393.58 1182.68,1393.58 1183.23,1161.74 1183.77,700.757 1184.31,703.45 1184.85,1164.43 1185.4,1393.58 1185.94,1166.21 \n",
       "  1186.48,1167.09 1187.02,1393.58 1187.57,1168.85 1188.11,1393.58 1188.65,1170.59 1189.19,1171.46 1189.74,1393.58 1190.28,952.783 1190.82,1174.04 1191.36,1393.58 \n",
       "  1191.91,1175.74 1192.45,959.595 1192.99,961.282 1193.53,747.653 1194.08,1179.11 1194.62,1179.94 1195.16,1180.77 1195.7,1393.58 1196.25,971.264 1196.79,972.906 \n",
       "  1197.33,555.501 1197.87,1393.58 1198.42,1393.58 1198.96,979.407 1199.5,981.016 1200.04,1393.58 1200.59,1188.9 1201.13,781.921 1201.67,1393.58 1202.21,1393.58 \n",
       "  1202.76,990.543 1203.3,791.374 1203.84,1193.62 1204.38,995.224 1204.93,1393.58 1205.47,1195.95 1206.01,999.85 1206.55,805.28 1207.1,1002.9 1207.64,1004.42 \n",
       "  1208.18,1199.76 1208.72,1200.51 1209.27,1008.94 1209.81,1202.01 1210.35,1202.75 1210.89,1393.58 1211.44,1014.89 1211.98,1393.58 1212.52,1393.58 1213.06,1206.43 \n",
       "  1213.61,1020.74 1214.15,1393.58 1214.69,1393.58 1215.23,1209.32 1215.78,1210.04 1216.32,1210.75 1216.86,1211.46 1217.4,1393.58 1217.94,1212.88 1218.49,1213.58 \n",
       "  1219.03,1034.98 1219.57,1214.98 1220.11,859.848 1220.66,861.922 1221.2,1217.05 1221.74,1217.74 1222.28,1218.42 1222.83,1393.58 1223.37,1393.58 1223.91,1220.45 \n",
       "  1224.45,1221.13 1225,1050.01 1225.54,1222.46 1226.08,1052.68 1226.62,1054 1227.17,1393.58 1227.71,1056.64 1228.25,1225.76 1228.79,1226.42 1229.34,1227.06 \n",
       "  1229.88,1227.71 1230.42,897.909 1230.96,1229 1231.51,1229.64 1232.05,1066.97 1232.59,1393.58 1233.13,1393.58 1233.68,1070.76 1234.22,911.237 1234.76,913.111 \n",
       "  1235.26,1234 1235.76,1075.56 1236.26,1076.7 1236.76,1393.58 1237.26,1236.27 1237.76,1236.84 1238.26,1081.22 1238.76,1237.96 1239.26,1083.45 1239.76,1084.56 \n",
       "  1240.26,1393.58 1240.76,1393.58 1241.26,1240.73 1241.76,1241.27 1242.26,1241.82 1242.76,1091.15 1243.26,1242.91 1243.76,1393.58 1244.26,1393.58 1244.76,1244.52 \n",
       "  1245.26,1096.53 1245.76,1393.58 1246.26,1393.58 1246.76,1246.64 1247.27,1247.17 1247.77,1393.58 1248.27,957.493 1248.77,1248.74 1249.27,1104.94 1249.77,1393.58 \n",
       "  1250.27,1250.29 1250.77,1250.8 1251.27,1251.32 1251.77,1251.83 1252.27,1393.58 1252.77,971.357 1253.27,1393.58 1253.77,1253.85 1254.27,1254.35 1254.77,1393.58 \n",
       "  1255.27,1255.34 1255.77,1255.84 1256.27,1256.33 1256.77,1120.07 1257.27,1257.31 1257.77,1393.58 1258.27,1258.29 1258.77,1393.58 1259.27,1124.93 1259.77,1393.58 \n",
       "  1260.27,1126.85 1260.77,1260.69 1261.27,1393.58 1261.77,1129.71 1262.27,1393.58 1262.77,1262.59 1263.27,1263.06 1263.77,1393.58 1264.27,1393.58 1264.77,1393.58 \n",
       "  1265.27,1264.92 1265.77,880.781 1266.27,1265.84 1266.77,1139.01 1267.27,1013.1 1267.77,1267.21 1268.27,1267.66 1268.77,1393.58 1269.27,1018.52 1269.77,1144.44 \n",
       "  1270.27,1269.46 1270.77,1393.58 1271.27,1270.34 1271.77,1270.79 1272.27,1271.23 1272.77,1149.75 1273.27,1150.62 1273.77,1151.49 1274.27,1393.58 1274.77,912.867 \n",
       "  1275.27,1154.08 1275.77,1154.94 1276.27,1393.58 1276.77,1393.58 1277.27,1157.5 1277.77,1393.58 1278.27,1159.19 1278.77,1393.58 1279.27,1160.86 1279.77,1393.58 \n",
       "  1280.27,931.479 1280.77,1163.36 1281.27,1164.18 1281.77,1165 1282.27,938.067 1282.77,1393.58 1283.27,941.325 1283.77,1168.26 1284.27,944.561 1284.77,946.17 \n",
       "  1285.27,947.773 1285.77,1171.48 1286.27,729.653 1286.77,1393.58 1287.28,1173.85 1287.78,1174.64 1288.28,957.272 1288.78,1176.21 1289.28,1393.58 1289.78,961.945 \n",
       "  1290.28,748.448 1290.78,965.033 1291.28,1180.07 1291.78,968.099 1292.28,969.623 1292.78,1182.36 1293.28,1393.58 1293.78,1393.58 1294.28,1184.62 1294.78,977.165 \n",
       "  1295.28,978.657 1295.78,980.144 1296.28,1187.6 1296.78,1188.34 1297.28,1393.58 1297.78,1393.58 1298.28,1190.54 1298.78,1191.27 1299.31,1393.58 1299.85,1192.82 \n",
       "  1300.39,993.598 1300.92,1194.36 1301.46,996.665 1301.99,1393.58 1302.53,1196.64 1303.07,1001.22 1303.6,1393.58 1304.14,1198.9 1304.68,1005.73 1305.21,1200.4 \n",
       "  1305.75,1201.14 1306.28,1010.18 1306.82,1011.65 1307.36,1393.58 1307.89,1204.08 1308.43,1393.58 1308.97,1205.53 1309.5,1393.58 1310.04,1206.97 1310.57,1393.58 \n",
       "  1311.11,838.055 1311.65,1024.65 1312.18,1209.82 1312.72,1210.53 1313.25,1211.23 1313.79,1030.29 1314.33,1212.63 1314.86,1033.07 1315.4,854.898 1315.94,1214.71 \n",
       "  1316.47,1037.21 1317.01,1038.58 1317.54,1216.76 1318.08,1393.58 1318.62,1393.58 1319.15,1044 1319.69,1219.46 1320.23,1220.13 1320.76,1220.8 1321.3,1049.34 \n",
       "  1321.83,1222.12 1322.37,1393.58 1322.91,1223.44 1323.44,1393.58 1323.98,1224.74 1324.51,1057.2 1325.05,1226.04 1325.59,1226.68 1326.12,1061.06 1326.66,1393.58 \n",
       "  1327.2,1228.6 1327.73,1229.23 1328.27,1393.58 1328.8,1067.4 1329.34,1231.12 1329.88,908.062 1330.41,1393.58 1330.95,1232.98 1331.49,1233.6 1332.02,1234.21 \n",
       "  1332.56,1076.07 1333.09,1077.29 1333.63,1393.58 1334.17,1393.58 1334.7,1080.92 1335.24,926.392 1335.77,1393.58 1336.31,1084.51 1336.85,1239.64 1337.38,1393.58 \n",
       "  1337.92,1240.82 1338.46,1089.23 1338.99,1393.58 1339.53,1393.58 1340.06,1243.15 1340.6,1243.73 1341.14,945.757 1341.67,1244.88 1342.21,1393.58 1342.75,1098.46 \n",
       "  1343.28,1246.59 1343.82,1393.58 1344.35,955.98 1344.89,812.354 1345.43,1248.83 1345.96,1249.39 1346.5,1106.3 1347.03,1393.58 1347.57,1251.04 1348.11,1251.59 \n",
       "  1348.64,1393.58 1349.18,829.976 1349.72,1253.22 1350.25,1393.58 1350.79,836.446 1351.32,1254.83 1351.86,1117.15 1352.4,1393.58 1352.93,1119.27 1353.47,1120.32 \n",
       "  1354,1121.37 1354.54,1258 1355.08,1123.46 1355.61,1259.04 1356.15,1125.53 1356.69,1393.58 1357.22,1393.58 1357.76,1261.09 1358.29,1261.6 1358.83,1262.11 \n",
       "  1359.37,1393.58 1359.9,1263.12 1360.44,1393.58 1360.98,1134.66 1361.51,1264.62 1362.05,1265.11 1362.58,1265.6 1363.12,1138.61 1363.66,1393.58 1364.19,1267.07 \n",
       "  1364.73,1267.56 1365.26,1268.04 1365.8,1268.53 1366.34,1019.86 1366.87,1145.39 1367.41,1146.34 1368.03,1393.58 1368.65,1271.06 1369.27,1149.63 1369.89,1150.71 \n",
       "  1370.52,1151.79 1371.14,1393.58 1371.76,1153.94 1372.38,1155.01 1373,1156.07 1373.62,1157.12 1374.24,1158.18 1374.86,1393.58 1375.49,1393.58 1376.11,1393.58 \n",
       "  1376.73,1162.34 1377.35,933.151 1377.97,1393.58 1378.59,1165.41 1379.21,939.269 1379.83,1167.43 1380.46,1168.44 1381.08,945.305 1381.7,1393.58 1382.32,1393.58 \n",
       "  1382.94,1393.58 1383.56,1393.58 1384.18,1174.38 1384.8,1175.36 1385.43,959.081 1386.05,1177.3 1386.67,1178.26 1387.29,1393.58 1387.91,1180.17 1388.53,1181.12 \n",
       "  1389.15,1393.58 1389.77,1393.58 1390.39,1183.94 1391.02,1184.88 1391.64,1393.58 1392.26,1186.73 1392.88,1187.65 1393.5,1393.58 1394.12,1393.58 1394.74,1393.58 \n",
       "  1395.36,1393.58 1395.99,1393.58 1396.61,992.591 1397.23,994.375 1397.85,996.151 1398.47,1195.75 1399.09,1393.58 1399.71,1393.58 1400.33,1393.58 1400.96,1393.58 \n",
       "  1401.58,1393.58 1402.2,1393.58 1402.82,1393.58 1403.44,1202.68 1404.06,1013.48 1404.68,1204.38 1405.3,1393.58 1405.93,1206.06 1406.55,1393.58 1407.17,1393.58 \n",
       "  1407.79,1208.55 1408.41,1025.16 1409.03,1210.19 1409.65,1028.43 1410.27,1211.82 1410.9,1212.63 1411.52,853.139 1412.14,1214.23 1412.76,1215.03 1413.38,1215.83 \n",
       "  1414,1039.65 1414.62,1217.4 1415.24,1393.58 1415.87,1044.36 1416.49,1219.75 1417.11,1047.46 1417.73,1221.29 1418.35,1222.06 1418.97,1052.06 1419.59,1223.58 \n",
       "  1420.21,1224.33 1420.83,1393.58 1421.46,1393.58 1422.08,1059.59 1422.7,1227.33 1423.32,1393.58 1423.94,1064.03 1424.56,1065.49 1425.18,1230.27 1425.8,1230.99 \n",
       "  1426.43,1231.72 1427.05,910.146 1427.67,1233.15 1428.29,754.724 1428.91,1393.58 1429.53,1235.28 1430.15,1235.99 1430.77,1079.8 1431.4,1393.58 1432.02,1082.58 \n",
       "  1432.64,1393.58 1433.26,1085.35 1433.88,779.854 1434.5,935.333 1435.12,1393.58 1435.74,1242.19 1436.37,1242.86 1436.99,943.434 1437.61,1094.82 1438.23,798.714 \n",
       "  1438.85,1097.47 1439.47,1246.18 1440.09,1100.1 1440.71,1393.58 1441.34,1102.7 1441.96,1104 1442.58,1393.58 1443.2,1250.08 1443.82,1393.58 1444.44,966.887 \n",
       "  1445.06,1251.98 1445.68,970.675 1446.3,1253.24 1446.93,1253.86 1447.48,1115.25 1448.03,1254.97 1448.58,1393.58 1449.13,1256.06 1449.69,1256.6 1450.24,1393.58 \n",
       "  1450.79,1393.58 1451.34,1122.87 1451.89,1123.94 1452.45,1259.29 1453,1259.82 1453.55,1393.58 1454.1,1260.88 1454.66,1393.58 1455.21,1130.27 1455.76,1262.45 \n",
       "  1456.31,1393.58 1456.86,1263.48 1457.42,1393.58 1457.97,1393.58 1458.52,1265.02 1459.07,1393.58 1459.62,1393.58 1460.18,1393.58 1460.73,1267.04 1461.28,1141.5 \n",
       "  1461.83,1016.96 1462.38,1143.49 1462.94,1269.03 1463.49,1269.52 1464.04,1393.58 1464.59,901.269 1465.14,1393.58 1465.7,1271.47 1466.25,1393.58 1466.8,1151.3 \n",
       "  1467.35,1152.25 1467.9,1393.58 1468.46,1154.16 1469.01,678.156 1469.56,1156.05 1470.11,1156.99 1470.67,1157.92 1471.22,1158.86 1471.77,1393.58 1472.32,1160.71 \n",
       "  1472.87,929.678 1473.43,469.446 1473.98,933.34 1474.53,935.16 1475.08,1393.58 1475.63,1166.18 1476.19,1167.08 1476.74,942.369 1477.29,1168.87 1477.84,945.931 \n",
       "  1478.39,947.701 1478.95,1171.52 1479.5,951.221 1480.05,1173.28 1480.6,954.713 1481.15,1175.01 1481.71,1175.88 1482.26,959.899 1482.81,961.614 1483.36,1178.45 \n",
       "  1483.91,1179.3 1484.47,1393.58 1485.02,968.407 1485.57,758.342 1486.12,1182.67 1486.68,763.356 1487.23,1393.58 1487.78,976.748 1488.33,1185.99 1488.88,1186.81 \n",
       "  1489.44,569.767 1489.99,983.302 1490.54,576.27 1491.09,1190.06 1491.64,988.151 1492.2,1393.58 1492.75,589.122 1493.3,792.623 1493.85,1393.58 1494.4,797.366 \n",
       "  1494.96,799.724 1495.51,1196.41 1496.06,804.412 1496.61,1197.97 1497.16,809.063 1497.72,1199.51 1498.27,1200.28 1498.82,1201.04 1499.37,1393.58 1499.92,820.53 \n",
       "  1500.48,1013.06 1501.03,1393.58 1501.58,1393.58 1502.13,1205.57 1502.69,1206.31 1503.24,833.993 1503.79,1393.58 1504.34,1208.52 1504.89,1393.58 1505.45,1209.98 \n",
       "  1506,1210.71 1506.55,847.141 1507.1,1212.15 1507.65,1393.58 1508.21,1213.59 1508.76,1393.58 1509.31,1215.01 1509.86,1393.58 1510.41,1216.42 1510.97,1040.65 \n",
       "  1511.52,1042.05 1512.07,1393.58 1512.62,1393.58 1513.17,1219.89 1513.73,1047.58 1514.28,1221.26 1514.83,1221.94 1515.38,1393.58 1515.93,1053.02 1516.49,1393.58 \n",
       "  1517.04,1393.58 1517.59,1225.31 1518.08,1058.21 1518.56,1226.48 1519.04,1060.53 1519.53,895.743 1520.01,1228.21 1520.5,1393.58 1520.98,900.905 1521.46,1229.92 \n",
       "  1521.95,1393.58 1522.43,906.014 1522.92,1231.62 1523.4,1070.79 1523.88,1232.74 1524.37,1233.3 1524.85,1233.86 1525.34,1234.41 1525.82,1076.35 1526.31,1077.45 \n",
       "  1526.79,1393.58 1527.27,1236.61 1527.76,1393.58 1528.24,1393.58 1528.73,1238.24 1529.21,1083.97 1529.69,1239.31 1530.18,1086.11 1530.66,1393.58 1531.15,1240.91 \n",
       "  1531.63,1089.3 1532.11,1241.97 1532.6,1393.58 1533.08,1092.46 1533.57,943.464 1534.05,1244.06 1534.54,1244.58 1535.02,1393.58 1535.5,1245.61 1535.99,1246.13 \n",
       "  1536.47,1099.69 1536.96,1393.58 1537.44,1393.58 1537.92,1393.58 1538.41,1393.58 1538.89,1393.58 1539.38,674.025 1539.86,963.345 1540.34,1107.75 1540.83,1393.58 \n",
       "  1541.31,967.806 1541.8,1393.58 1542.28,1252.64 1542.77,972.222 1543.25,1253.61 1543.73,1254.1 1544.22,1393.58 1544.7,978.038 1545.19,979.479 1545.67,1256.03 \n",
       "  1546.15,1393.58 1546.64,1120.38 1547.12,1257.45 1547.61,1257.92 1548.09,1258.39 1548.57,1124.15 1549.06,1259.33 1549.54,1259.8 1550.03,1126.94 1550.51,1393.58 \n",
       "  1551,1261.18 1551.48,1261.64 1551.96,1262.1 1552.45,1262.56 1552.93,1263.01 1553.42,1133.35 1553.9,1004.59 1554.38,1264.37 1554.87,1136.05 1555.35,1265.26 \n",
       "  1555.84,1137.83 1556.32,1266.15 1556.8,1139.6 1557.29,1393.58 1557.77,1267.47 1558.26,1267.91 1558.74,1268.34 1559.23,1268.78 1559.71,1269.21 1560.19,1269.64 \n",
       "  1560.68,1393.58 1561.16,1024.34 1561.65,1148.28 1562.13,1271.35 1562.61,1149.97 1563.1,1150.82 1563.58,909.742 1564.07,911.42 1564.55,1393.58 1565.03,1393.58 \n",
       "  1565.52,1155 1566,918.076 1566.49,919.725 1566.97,685.263 1567.46,1158.29 1567.94,1159.11 1568.42,692.608 1568.91,1393.58 1569.39,697.463 1569.88,931.112 \n",
       "  1570.36,1163.15 1570.84,1163.95 1571.33,1164.74 1571.81,1393.58 1572.3,1166.33 1572.78,1167.12 1573.26,1167.9 1573.75,1168.69 1574.23,945.351 1574.72,1170.24 \n",
       "  1575.2,948.455 1575.69,949.999 1576.17,951.538 1576.65,732.816 1577.14,1174.09 1577.62,956.122 1578.11,739.669 1578.59,1393.58 1579.07,744.197 1579.56,746.45 \n",
       "  1580.09,534.002 1580.61,1393.58 1581.14,753.763 1581.67,968.648 1582.2,1181.92 1582.72,1393.58 1583.25,1183.52 1583.78,1393.58 1584.31,1185.1 1584.84,978.198 \n",
       "  1585.36,772.863 1585.89,1187.46 1586.42,1393.58 1586.95,984.445 1587.48,985.993 1588,987.534 1588.53,1191.32 1589.06,990.599 1589.59,1192.85 1590.11,1193.61 \n",
       "  1590.64,795.939 1591.17,798.199 1591.7,998.16 1592.23,999.655 1592.75,1001.14 1593.28,807.153 1593.81,1198.84 1594.34,1199.58 1594.86,1007.05 1595.39,1201.04 \n",
       "  1595.92,1009.96 1596.45,1202.5 1596.98,1203.22 1597.5,1393.58 1598.03,1015.73 1598.56,828.954 1599.09,1206.08 1599.61,1393.58 1600.14,835.335 1600.67,1208.2 \n",
       "  1601.2,1024.23 1601.73,1393.58 1602.25,1027.01 1602.78,1210.99 1603.31,1211.68 1603.84,1031.16 1604.37,852 1604.89,1213.74 1605.42,1214.42 1605.95,1393.58 \n",
       "  1606.48,1393.58 1607,1039.3 1607.53,864.172 1608.06,1217.78 1608.59,1218.44 1609.12,695.679 1609.64,1393.58 1610.17,1047.26 1610.7,703.566 1611.23,1049.88 \n",
       "  1611.75,1393.58 1612.28,1223.03 1612.81,1223.67 1613.34,716.514 1613.87,1224.95 1614.39,1057.6 1614.92,1226.23 1615.45,1060.14 1615.98,1061.4 1616.51,1393.58 \n",
       "  1617.03,1228.74 1617.56,1229.37 1618.09,1229.99 1618.62,1230.61 1619.14,1068.86 1619.67,746.605 1620.2,1071.32 1620.73,1233.06 1621.26,1233.66 1621.78,1074.96 \n",
       "  1622.31,1234.87 1622.84,1077.36 1623.37,1236.07 1623.89,922.834 1624.42,1237.26 1624.95,926.388 1625.48,1083.3 1626.01,1239.02 1626.53,1393.58 1627.06,1240.19 \n",
       "  1627.59,1240.77 1628.12,1241.35 1628.64,1241.92 1629.17,1091.42 1629.7,1092.56 1630.23,1093.7 1630.76,1244.21 1631.28,1095.96 1631.81,1393.58 1632.34,1245.89 \n",
       "  1632.87,1246.45 1633.4,1247.01 1633.92,1101.55 1634.45,1248.11 1634.98,1248.67 1635.51,1249.21 1636.03,1105.94 1636.56,1107.03 1637.09,1108.11 1637.62,1109.19 \n",
       "  1638.15,1110.26 1638.67,1252.46 1639.2,1393.58 1639.73,1253.52 1640.26,974.997 1640.78,698.579 1641.31,1393.58 1641.84,1117.68 1642.37,1393.58 1642.9,1256.67 \n",
       "  1643.42,1257.19 1643.95,1121.83 1644.48,1258.22 1645.01,1258.73 1645.53,1259.24 1646.06,1259.75 1646.59,1260.25 1647.12,1393.58 1647.65,1261.26 1648.18,1393.58 \n",
       "  1648.71,868.329 1649.24,1262.77 1649.77,1002.63 1650.3,1263.76 1650.84,1264.25 1651.37,1264.75 1651.9,1136.89 1652.43,1265.72 1652.96,1393.58 1653.49,1266.7 \n",
       "  1654.02,1140.78 1654.55,1267.66 1655.08,1393.58 1655.61,1143.65 1656.14,1269.09 1656.68,897.513 1657.21,1022.94 1657.74,1270.51 1658.27,1270.97 1658.8,1271.44 \n",
       "  1659.33,1150.23 1659.86,1393.58 1660.39,1152.08 1660.92,912.409 1661.45,914.239 1661.99,1154.82 1662.52,917.879 1663.05,919.688 1663.58,921.491 1664.11,923.286 \n",
       "  1664.64,1159.33 1665.17,1160.22 1665.7,1161.11 1666.23,1161.99 1666.76,1393.58 1667.29,1393.58 1667.83,1164.62 1668.36,481.236 1668.89,1166.36 1669.42,940.872 \n",
       "  1669.95,942.594 1670.48,1393.58 1671.01,946.018 1671.54,724.791 1672.07,1171.5 1672.6,951.106 1673.14,1173.18 1673.67,734.908 1674.2,1393.58 1674.73,1393.58 \n",
       "  1675.26,1176.52 1675.79,961.109 1676.32,1393.58 1676.85,1178.99 1677.38,966.025 1677.91,754.687 1678.44,1181.43 1678.98,970.885 1679.51,1393.58 1680.04,974.095 \n",
       "  1680.57,975.69 1681.1,1185.43 1681.63,1393.58 1682.16,980.441 1682.69,1187.8 1683.22,1188.58 1683.75,1393.58 1684.29,579.801 1684.82,785.568 1685.35,989.78 \n",
       "  1685.88,1192.45 1686.41,992.846 1686.94,1393.58 1687.47,1393.58 1688,997.402 1688.53,1393.58 1689.06,1197 1689.59,1197.74 1690.13,1393.58 1690.66,1199.23 \n",
       "  1691.19,1199.97 1691.72,1393.58 1692.25,1009.3 1692.78,1393.58 1693.31,1202.9 1693.84,1013.67 1694.37,1204.35 1694.9,828.037 1695.44,1393.58 1695.97,1206.5 \n",
       "  1696.5,1393.58 1697.03,1207.92 1697.56,1023.67 1698.09,840.822 1698.62,1393.58 1699.15,1393.58 1699.68,1029.26 1700.21,1393.58 1700.74,1212.81 1701.28,1033.41 \n",
       "  1701.81,1034.78 1702.34,1393.58 1702.87,1037.5 1703.4,1038.85 1703.93,1040.2 1704.46,1393.58 1704.99,1218.23 1705.52,1044.22 1706.05,1045.55 1706.59,1046.87 \n",
       "  1707.12,1393.58 1707.65,1221.54 1708.18,1222.2 1708.71,1052.12 1709.24,1053.42 1709.77,1224.15 1710.3,718.419 1710.83,1393.58 1711.36,1393.58 1711.89,1059.84 \n",
       "  1712.43,728.633 1712.96,565.558 1713.49,1228.61 1714.02,1229.23 1714.55,1229.86 1715.08,1393.58 1715.67,906.34 1716.25,1231.85 1716.84,1071.48 1717.43,1233.21 \n",
       "  1718.02,1233.88 1718.6,1075.53 1719.19,918.504 1719.78,1235.89 1720.36,922.49 1720.95,924.471 1721.54,926.443 1722.12,1083.47 1722.71,930.363 1723.3,1086.07 \n",
       "  1723.89,1240.47 1724.47,783.716 1725.06,1393.58 1725.65,1091.21 1726.23,1243.03 1726.82,1243.66 1727.41,945.717 1728,1244.92 1728.58,949.476 1729.17,656.518 \n",
       "  1729.76,1100 1730.34,808.879 1730.93,1393.58 1731.52,1248.63 1732.1,1249.24 1732.69,1106.12 1733.28,1107.32 1733.87,1108.53 1734.45,1393.58 1735.04,1110.92 \n",
       "  1735.63,1393.58 1736.21,1253.44 1736.8,974.915 1737.39,976.676 1737.97,1116.81 1738.56,1255.78 1739.15,1393.58 1739.74,1256.93 1740.32,1257.51 1740.91,1258.08 \n",
       "  1741.5,988.792 1742.08,1124.86 1742.67,1259.78 1743.26,1260.35 1743.85,1260.91 1744.43,1261.46 1745.02,1262.02 1745.61,1262.57 1746.19,1002.21 1746.78,1263.67 \n",
       "  1747.37,876.132 1747.95,878.307 1748.54,1265.3 1749.13,1138.11 1749.72,1266.38 1750.3,1393.58 1750.89,1393.58 1751.48,1142.38 1752.06,1393.58 1752.65,895.387 \n",
       "  1753.24,1269.56 1753.82,1023.07 1754.41,1024.63 1755,1393.58 1755.59,905.773 1756.17,664.946 1756.76,1393.58 1757.35,430.22 1757.93,674.098 1758.52,1154.76 \n",
       "  1759.11,680.136 1759.7,1156.77 1760.28,1393.58 1760.87,923.925 1761.46,458.219 1762.04,1393.58 1762.63,1161.7 1763.22,1393.58 1763.8,1163.65 1764.39,706.684 \n",
       "  1764.98,481.569 1765.57,1166.54 1766.15,1167.49 1766.74,718.164 1767.33,1169.39 1767.91,1393.58 1768.5,1393.58 1769.09,1172.2 1769.67,732.244 1770.26,954.543 \n",
       "  1770.85,956.389 1771.44,1175.9 1772.02,960.058 1772.61,1393.58 1773.2,748.754 1773.78,1393.58 1774.37,967.304 1774.96,1181.34 1775.55,970.881 1776.13,972.658 \n",
       "  1776.72,1184 1777.31,1184.89 1777.89,1185.76 1778.48,1393.58 1779.07,157.139 1779.65,983.166 1780.24,780.547 1780.83,1190.1 1781.42,1190.95 1782,1393.58 \n",
       "  1782.59,1192.65 1783.18,1193.5 1783.76,795.851 1784.35,798.364 1784.94,998.438 1785.52,1196.84 1786.11,1393.58 1786.7,808.312 1787.29,1005.04 1787.87,1200.13 \n",
       "  1788.46,1200.94 1789.05,1201.75 1789.63,629.491 1790.22,1393.58 1790.78,1014.66 1791.34,1204.88 1791.9,1017.69 1792.46,1019.19 1793.01,1207.14 1793.57,1022.18 \n",
       "  1794.13,1023.67 1794.69,1025.15 1795.25,843.146 1795.81,1210.84 1796.37,1211.57 1796.92,1031.01 1797.48,1032.46 1798.04,1033.91 1798.6,856.228 1799.16,679.977 \n",
       "  1799.72,682.833 1800.28,1216.6 1800.83,1393.58 1801.39,866.892 1801.95,869 1802.51,871.098 1803.07,1393.58 1803.63,1048.04 1804.18,1049.42 1804.74,879.41 \n",
       "  1805.3,881.467 1805.86,1393.58 1806.42,1393.58 1806.98,1224.92 1807.54,1225.59 1808.09,1226.26 1808.65,1226.93 1809.21,1061.62 1809.77,1393.58 1810.33,734.961 \n",
       "  1810.89,1065.59 1811.45,1393.58 1812,905.521 1812.56,1393.58 1813.12,748.032 1813.68,1393.58 1814.24,913.285 1814.8,596.292 1815.36,1075.94 1815.91,760.843 \n",
       "  1816.47,920.926 1817.03,1393.58 1817.59,1080.99 1818.15,1082.24 1818.71,773.4 1819.27,1084.73 1819.82,1239.77 1820.38,1087.2 1820.94,1241 1821.5,785.708 \n",
       "  1822.06,1242.22 1822.62,639.808 1823.18,1393.58 1823.73,645.828 1824.29,1095.68 1824.85,1245.22 1825.41,1245.82 1825.97,1393.58 1826.53,807.25 1827.09,1393.58 \n",
       "  1827.64,1102.76 1828.2,1393.58 1828.76,1105.08 1829.32,1249.91 1829.88,1250.48 1830.44,1251.05 1831,967.713 1831.55,1393.58 1832.11,1393.58 1832.67,1393.58 \n",
       "  1833.23,1393.58 1833.79,1254.44 1834.35,1393.58 1834.91,1393.58 1835.46,1393.58 1836.02,1393.58 1836.58,848.071 1837.14,1257.75 1837.7,1258.29 1838.26,1393.58 \n",
       "  1838.81,1259.37 1839.37,591.555 1839.93,1260.44 1840.49,1260.98 1841.05,1129.43 1841.61,1262.04 1842.17,1262.56 1842.72,1263.09 1843.28,1263.61 1843.84,1005.22 \n",
       "  1844.4,1393.58 1844.96,1136.74 1845.52,1137.77 1846.08,1266.19 1846.63,1266.7 1847.19,1140.83 1847.75,1393.58 1848.31,1268.21 1848.87,1018.99 1849.43,1269.22 \n",
       "  1849.99,898.112 1850.54,1146.84 1851.1,1147.82 1851.66,1148.81 1852.22,1149.79 1852.78,1150.76 1855.01,1154.63 1857.25,1158.43 1857.81,1159.37 1858.36,1160.3 \n",
       "  1858.92,1161.24 1859.48,1393.58 1860.04,1163.09 1860.6,1164.02 1861.16,1164.93 1861.72,938.118 1862.3,940.012 1862.88,1393.58 1863.46,718.877 1864.04,1393.58 \n",
       "  1864.62,1170.55 1865.2,949.368 1865.78,730.034 1866.36,1173.32 1866.94,954.888 1867.52,1175.15 1868.1,741.006 1868.68,1393.58 1869.27,1177.86 1869.85,963.937 \n",
       "  1870.43,323.941 1871.01,1393.58 1871.59,969.277 1872.17,971.042 1872.75,1393.58 1873.33,765.034 1873.91,1184.94 1874.49,1185.8 1875.07,979.757 1875.65,1187.53 \n",
       "  1876.23,777.999 1876.82,984.9 1877.4,1190.09 1877.98,1190.94 1878.56,1191.78 1879.14,790.697 1879.72,1193.45 1880.3,795.702 1880.88,1195.12 1881.46,998.304 \n",
       "  1882.04,1196.76 1882.62,1001.59 1883.2,1198.4 1883.78,1199.21 1884.37,1200.02 1884.95,237.042 1885.53,1201.63 1886.11,1202.42 1886.69,1393.58 1887.27,1204.01 \n",
       "  1887.85,1204.8 1888.43,1205.59 1889.01,1019.15 1889.59,1020.71 1890.17,836.604 1890.75,838.921 1891.33,841.228 1891.92,1026.88 1892.5,1393.58 1893.08,1211.75 \n",
       "  1893.66,1031.43 1894.24,1213.26 1894.82,1034.44 1895.4,1214.76 1895.98,681.265 1896.56,1038.9 1897.14,1216.98 1897.72,1217.71 1898.3,1393.58 1898.88,1393.58 \n",
       "  1899.47,1219.9 1900.05,1220.62 1900.63,1221.34 1901.21,1393.58 1901.79,1393.58 1902.37,1393.58 1902.95,1054.8 1903.53,1224.89 1904.11,1225.6 1904.69,1226.3 \n",
       "  1905.27,893.813 1905.85,729.996 1906.43,732.756 1907.02,1064.54 1907.6,1393.58 1908.18,1393.58 1908.76,906.157 1909.34,1231.78 1909.92,1232.45 1910.5,912.215 \n",
       "  1911.08,1233.79 1911.66,1075.33 1912.24,1076.66 1912.82,1235.78 1913.4,922.144 1913.98,924.105 1914.56,1237.74 1915.15,1238.39 1915.73,1084.49 1916.31,931.868 \n",
       "  1916.89,1240.32 1917.47,1240.95 1918.05,1089.6 1918.63,1393.58 1919.21,1242.85 1919.79,1243.48 1920.37,1393.58 1920.95,1393.58 1921.53,948.869 1922.11,950.719 \n",
       "  1922.7,1393.58 1923.28,954.396 1923.86,1247.79 1924.44,1103.22 1925.02,1104.43 1925.6,1105.63 1926.18,1250.2 1926.76,1250.8 1927.34,1251.4 1927.92,1393.58 \n",
       "  1928.5,1252.58 1929.08,1253.16 1929.66,1113.91 1930.25,1115.08 1930.83,1254.91 1931.41,1117.39 1931.99,1256.06 1932.57,708.833 1933.15,1257.2 1933.73,986.143 \n",
       "  1934.31,1258.33 1934.89,1258.9 1935.47,857.082 1936.05,1126.45 1936.54,1260.48 1937.03,1260.95 1937.52,1393.58 1938.01,1261.88 1938.5,1262.34 1938.99,1262.8 \n",
       "  1939.48,1263.25 1939.96,1003.97 1940.45,1264.17 1940.94,1135.66 1941.43,1008.05 1941.92,1265.52 1942.41,1138.36 1942.9,1266.42 1943.39,1140.14 1943.88,1014.76 \n",
       "  1944.36,1267.75 1944.85,1142.8 1945.34,893.772 1945.83,1269.07 1946.32,1393.58 1946.81,1269.94 1947.3,1023.95 1947.79,1393.58 1948.28,904.185 1948.76,1393.58 \n",
       "  1949.25,1150.59 1949.74,182.903 1950.23,1393.58 1950.72,1393.58 1951.21,1153.98 1951.7,1154.82 1952.19,1155.66 1952.68,1156.49 1953.16,212.278 1953.65,1393.58 \n",
       "  1954.14,1158.97 1954.63,926.008 1955.12,1393.58 1955.61,1161.43 1956.1,1393.58 1956.59,1163.05 1957.07,1163.86 1957.56,1393.58 1958.05,709.239 1958.54,938.951 \n",
       "  1959.03,940.543 1959.52,942.13 1960.01,1168.65 1960.5,1169.43 1960.99,1170.22 1961.47,1393.58 1961.96,1393.58 1962.45,951.535 1962.94,1393.58 1963.43,515.673 \n",
       "  1963.92,1393.58 1964.41,1175.64 1964.9,1176.4 1965.39,960.745 1965.87,962.261 1966.36,533.964 1966.85,965.277 1967.34,326.574 1967.83,968.273 1968.32,1181.67 \n",
       "  1968.81,1182.41 1969.3,1183.15 1969.79,764.511 1970.27,1393.58 1970.76,977.133 1971.25,1186.09 1971.74,773.279 1972.23,1393.58 1972.72,982.938 1973.21,1188.98 \n",
       "  1973.7,985.81 1974.19,1393.58 1974.67,988.661 1975.16,1191.83 1975.65,991.493 1976.14,992.901 1976.63,1193.94 1977.12,1393.58 1977.61,997.097 1978.1,998.486 \n",
       "  1978.59,1196.73 1979.07,1393.58 1979.56,611.666 1980.05,1393.58 1980.54,1393.58 1981.03,1006.72 1981.52,1008.07 1982.01,1009.42 1982.5,1202.17 1982.99,821.374 \n",
       "  1983.47,633.311 1983.96,1014.78 1984.45,1393.58 1984.94,1205.5 1985.43,1393.58 1985.92,1393.58 1986.41,1021.37 1986.9,1022.67 1987.39,1393.58 1987.87,1209.42 \n",
       "  1988.36,843.04 1988.85,1027.84 1989.34,1029.12 1989.83,1393.58 1990.32,1212.62 1990.81,1393.58 1991.3,1393.58 1991.79,1035.46 1992.27,1215.15 1992.76,1393.58 \n",
       "  1993.25,1039.21 1993.74,1393.58 1994.23,1217.63 1994.72,1218.25 1995.21,1044.15 1995.7,1393.58 1996.19,1220.09 1996.67,529.147 1997.16,1049.02 1997.65,1221.9 \n",
       "  1998.14,1393.58 1998.63,1223.1 1999.23,1054.08 1999.82,886.513 2000.42,1056.98 2001.02,1226 2001.61,892.988 2002.21,895.128 2002.81,897.259 2003.4,1393.58 \n",
       "  2004,1065.52 2004.6,740.269 2005.2,1068.32 2005.79,907.777 2006.39,1071.1 2006.99,1072.47 2007.58,1233.71 2008.18,916.031 2008.78,1393.58 2009.37,1235.76 \n",
       "  2009.97,1079.28 2010.57,1393.58 2011.16,1081.96 2011.76,462.719 2012.36,1239.1 2012.95,1085.94 2013.55,1393.58 2014.15,1393.58 2014.75,1241.72 2015.34,1242.37 \n",
       "  2015.94,1092.46 2016.54,1093.75 2017.13,1095.03 2017.73,1096.31 2018.33,1245.58 2018.92,1246.21 2019.52,1246.84 2020.12,1247.47 2020.71,1102.61 2021.31,814.118 \n",
       "  2021.91,1105.09 2022.5,1106.32 2023.1,1250.56 2023.7,1108.77 2024.29,1109.99 2024.89,1252.39 2025.49,1252.99 2026.09,1253.6 2026.68,1254.19 2027.28,1393.58 \n",
       "  2027.88,1117.19 2028.47,1255.97 2029.07,1256.56 2029.67,1257.15 2030.26,1257.73 2030.86,717.238 2031.46,1393.58 2032.05,991.237 2032.65,1393.58 2033.25,1127.64 \n",
       "  2033.84,996.375 2034.44,1129.91 2035.04,1393.58 2035.64,1132.16 2036.23,872.971 2036.83,1134.39 2037.43,1264.54 2038.02,751.129 2038.62,1137.7 2039.22,1393.58 \n",
       "  2039.81,1266.73 2040.41,1140.97 2041.01,1267.81 2041.6,1143.12 2042.2,1144.19 2042.8,1393.58 2043.39,1269.95 2043.99,1393.58 2044.59,1271 2045.19,1271.53 \n",
       "  2045.78,907.461 2046.38,1393.58 2046.98,1393.58 2047.57,433.757 2048.17,915.72 2048.77,1155.67 2049.36,919.797 2049.96,1157.7 2050.56,1158.71 2051.15,1393.58 \n",
       "  2051.75,694.98 2052.35,929.838 2052.94,470.06 2053.54,244.115 2054.14,1393.58 2054.73,937.717 2055.33,1393.58 2055.93,1167.59 2056.53,1168.56 2057.12,945.462 \n",
       "  2057.72,1170.48 2058.32,949.285 2058.91,951.184 2059.51,732.823 2060.11,1174.27 2060.7,1175.21 2061.3,958.701 2061.9,1393.58 2062.49,746.826 2063.09,964.254 \n",
       "  2063.69,752.344 2064.28,1180.75 2064.88,969.737 2065.48,1182.56 2066.08,1183.47 2066.67,1184.36 2067.27,768.617 2067.87,1186.15 2068.46,1187.04 2069.06,982.258 \n",
       "  2069.66,1188.8 2070.25,985.767 2070.85,1190.55 2071.45,1191.41 2072.04,1393.58 2072.64,1193.14 2073.24,994.41 2073.83,1194.85 2074.43,1195.7 2075.03,1393.58 \n",
       "  2075.59,1197.34 2076.15,1198.12 2076.71,1198.91 2077.27,1199.69 2077.83,1200.47 2078.39,239.585 2078.96,1202.02 2079.52,1202.79 2080.08,1393.58 2080.64,636.544 \n",
       "  2081.2,639.586 2081.76,830.358 2082.32,1206.59 2082.88,1021.11 2083.44,1393.58 2084.01,1024.1 2084.57,1393.58 2085.13,1210.32 2085.69,1211.06 2086.25,1030 \n",
       "  2086.81,1031.46 2087.37,1213.25 2087.93,1393.58 2088.49,1393.58 2089.06,1215.42 2089.62,1216.13 2090.18,1216.84 2090.74,1217.55 2091.3,1218.26 2091.86,1218.97 \n",
       "  2092.42,871.845 2092.98,1047.15 2093.54,1221.06 2094.1,1221.76 2094.67,1222.45 2095.23,1052.69 2095.79,1393.58 2096.35,1055.43 2096.91,888.386 2097.47,1393.58 \n",
       "  2098.03,1393.58 2098.59,1227.2 2099.15,1062.17 2099.72,1063.5 2100.28,1064.82 2100.84,1066.15 2101.4,904.403 2101.96,743.965 2102.52,1070.08 2103.08,1071.38 \n",
       "  2103.64,1072.67 2104.2,1233.77 2104.77,916.081 2105.33,1393.58 2105.89,1235.69 2106.45,1079.07 2107.01,767.088 2107.57,769.606 2108.13,1238.21 2108.69,1393.58 \n",
       "  2109.25,931.219 2109.81,1086.58 2110.38,1393.58 2110.94,1089.04 2111.5,1241.92 2112.06,1242.53 2112.62,942.258 2113.18,644.399 2113.74,1244.35 2114.3,947.677 \n",
       "  2114.86,1393.58 2115.43,1098.7 2115.99,1246.73 2116.55,1247.32 2117.11,1102.24 2117.67,1248.49 2118.23,960.072 2118.79,1105.74 2119.35,1106.89 2119.91,1250.81 \n",
       "  2120.48,1109.19 2121.04,1393.58 2121.6,1111.47 2122.16,1393.58 2122.72,973.816 2123.28,1393.58 2123.84,1254.78 2124.4,1255.34 2124.96,1393.58 2125.52,1393.58 \n",
       "  2126.09,1120.42 2126.65,1257.55 2127.21,1393.58 2127.77,1258.64 2128.33,1124.78 2128.89,1259.72 2129.45,1126.94 2130.01,1128.01 2130.57,1129.08 2131.14,998.422 \n",
       "  2131.7,1000.01 2132.26,1132.25 2132.82,1393.58 2133.38,1263.97 2133.94,877.205 2134.5,1265.01 2135.06,1265.52 2135.62,1266.04 2136.19,1139.52 2136.75,1140.54 \n",
       "  2137.31,1393.58 2137.87,1268.07 2138.43,1143.58 2138.99,1144.58 2139.55,773.589 2140.11,1146.58 2140.67,901.566 2141.23,1271.07 2141.8,1393.58 2142.36,421.369 \n",
       "  2142.92,909.428 2143.48,911.374 2144.04,1153.45 2144.6,1393.58 2145.16,1155.37 2145.72,1156.33 2146.28,920.986 2146.85,1158.23 2147.74,1159.75 2148.64,928.92 \n",
       "  2149.54,1162.74 2150.44,1393.58 2151.34,1165.7 2152.24,940.758 2153.14,1393.58 2154.04,1393.58 2154.94,283.226 2155.83,1172.94 2156.73,1174.36 2157.63,1175.77 \n",
       "  2158.53,1177.17 2159.43,963.538 2160.33,966.303 2161.23,1181.32 2162.13,1182.68 2163.03,1393.58 2163.92,560.798 2164.82,979.867 2165.72,982.527 2166.62,985.171 \n",
       "  2167.52,987.797 2168.42,1191.99 2169.32,1193.29 2170.22,597.572 2171.12,1195.86 2172.01,1393.58 2172.91,1393.58 2173.81,1393.58 2174.71,1008.21 2175.61,819.243 \n",
       "  2176.51,822.936 2177.41,1015.6 2178.31,1393.58 2179.21,1207.01 2180.1,1022.84 2181,1025.23 2181.9,1393.58 2182.8,666.32 2183.7,1212.93 2184.6,1214.1 \n",
       "  2185.5,858.59 2186.4,1393.58 2187.3,1217.54 2188.19,1218.67 2189.09,698.434 2189.99,1220.91 2190.89,1393.58 2191.79,1393.58 2192.69,1224.22 2193.59,1393.58 \n",
       "  2194.49,1226.39 2195.38,1061.36 2196.28,898.447 2197.18,1229.6 2198.08,1067.72 2198.98,1069.82 2199.88,1071.9 2200.78,1233.78 2201.68,1234.8 2202.58,920.311 \n",
       "  2203.47,1080.1 2204.37,1237.85 2205.27,1238.85 2206.17,1393.58 2207.07,1393.58 2207.97,1241.81 2208.87,1393.58 2209.77,1243.76 2210.67,500.439 2211.56,1245.68 \n",
       "  2212.46,1246.63 2213.36,1393.58 2214.26,1248.52 2215.16,1393.58 2216.06,1250.38 2216.96,966.729 2217.86,1110.84 2218.76,1112.66 2219.65,1254.02 2220.55,422.969 \n",
       "  2221.45,1393.58 2222.35,1393.58 2223.25,1121.58 2224.15,1258.45 2225.05,1125.07 2225.95,1260.19 2226.85,1261.04 2227.74,998.53 2228.64,870.234 2229.54,1133.59 \n",
       "  2230.44,1393.58 2231.34,1393.58 2232.24,1011.07 2233.14,1140.21 2234.04,1015.97 2234.94,1143.46 2235.83,1269.33 2236.73,1270.12 2237.63,1025.59 2238.53,906.088 \n",
       "  2239.43,1151.4 2240.33,1393.58 2241.23,915.433 2242.13,918.508 2243.03,449.546 2243.92,1159.09 2244.82,1160.6 2245.72,1162.1 2246.62,473.597 2247.52,708.03 \n",
       "  2248.42,1393.58 2249.32,1393.58 2250.22,1169.44 2251.12,1170.89 2252.01,287.267 2252.91,953.901 2253.81,738.303 2254.71,742.517 2255.61,1393.58 2256.51,750.864 \n",
       "  2257.41,967.858 2258.31,336.12 2259.21,973.316 2260.1,976.019 2261,1393.58 2261.9,569.164 2262.04,1393.58 2262.18,1187.89 2262.32,982.598 2262.46,983.006 \n",
       "  2262.59,1393.58 2262.73,983.821 2262.87,1393.58 2263.01,984.634 2263.15,576.499 2263.29,985.445 2263.42,1189.72 2263.56,986.255 2263.7,1393.58 2263.84,1190.32 \n",
       "  2263.98,581.352 2264.12,1393.58 2264.25,785.617 2264.39,988.674 2264.53,1191.33 2264.67,1393.58 2264.81,1393.58 2264.95,990.279 2265.08,1192.13 2265.22,789.828 \n",
       "  2265.36,790.428 2265.5,590.175 2265.64,590.972 2265.78,1393.58 2265.91,792.818 2266.05,993.47 2266.19,1193.72 2266.33,1193.92 2266.47,1194.12 2266.61,995.056 \n",
       "  2266.74,1393.58 2266.88,1393.58 2267.02,996.241 2267.16,996.635 2267.3,1195.3 2267.44,1195.5 2267.57,1195.7 2267.71,602.837 2267.85,998.601 2267.99,801.699 \n",
       "  2268.13,1393.58 2268.27,802.874 2268.4,1000.17 2268.54,1197.07 2268.68,1197.26 2268.82,1197.46 2268.96,1393.58 2269.1,1197.85 2269.23,1393.58 2269.37,807.547 \n",
       "  2269.51,1003.28 2269.65,808.71 2269.79,809.29 2269.93,615.3 2270.06,1199.2 2270.2,1005.21 2270.34,1199.59 2270.48,1005.98 2270.62,1199.97 2270.76,1393.58 \n",
       "  2270.89,1200.36 2271.03,1393.58 2271.17,1200.74 2271.31,1200.93 2271.45,1008.67 2271.59,1201.31 2271.72,1201.51 2271.86,1393.58 2272,1201.89 2272.14,1010.57 \n",
       "  2272.28,1010.95 2272.42,820.21 2272.55,1011.71 2272.69,1393.58 2272.83,1203.03 2272.97,1393.58 2273.11,1203.4 2273.25,1203.59 2273.38,1203.78 2273.52,1203.97 \n",
       "  2273.66,1204.16 2273.8,1204.34 2273.94,1393.58 2274.08,1204.72 2274.21,1393.58 2274.35,1205.1 2274.49,1393.58 2274.63,829.246 2274.77,1017.73 2274.91,1205.84 \n",
       "  2275.04,1206.03 2275.18,1206.21 2275.32,1393.58 2275.46,1019.59 2275.6,646.347 2275.74,1393.58 2275.87,1393.58 2276.01,1021.07 2276.15,1021.44 2276.29,1207.7 \n",
       "  2276.43,1207.88 2276.57,837.037 2276.7,1393.58 2276.84,1393.58 2276.98,1208.62 2277.12,839.243 2277.26,1208.98 2277.4,655.93 2277.53,1025.12 2277.67,1393.58 \n",
       "  2277.81,841.988 2277.95,291.49 2278.09,659.583 2278.23,1210.26 2278.36,1210.44 2278.5,478.812 2278.64,1028.04 2278.78,1028.4 2278.92,1393.58 2279.06,1393.58 \n",
       "  2279.19,1211.53 2279.33,1211.71 2279.47,1393.58 \n",
       "  \"/>\n",
       "<polygon clip-path=\"url(#clip6601)\" points=\"\n",
       "1958.43,251.724 2249.26,251.724 2249.26,130.764 1958.43,130.764 \n",
       "  \" fill=\"#ffffff\" fill-rule=\"evenodd\" fill-opacity=\"1\"/>\n",
       "<polyline clip-path=\"url(#clip6601)\" style=\"stroke:#000000; stroke-width:4; stroke-opacity:1; fill:none\" points=\"\n",
       "  1958.43,251.724 2249.26,251.724 2249.26,130.764 1958.43,130.764 1958.43,251.724 \n",
       "  \"/>\n",
       "<polyline clip-path=\"url(#clip6601)\" style=\"stroke:#009af9; stroke-width:4; stroke-opacity:1; fill:none\" points=\"\n",
       "  1982.43,191.244 2126.43,191.244 \n",
       "  \"/>\n",
       "<g clip-path=\"url(#clip6601)\">\n",
       "<text style=\"fill:#000000; fill-opacity:1; font-family:Arial,Helvetica Neue,Helvetica,sans-serif; font-size:48px; text-anchor:start;\" transform=\"rotate(0, 2150.43, 208.744)\" x=\"2150.43\" y=\"208.744\">y1</text>\n",
       "</g>\n",
       "</svg>\n"
      ]
     },
     "execution_count": 8,
     "metadata": {},
     "output_type": "execute_result"
    }
   ],
   "source": [
    "plot(x->abs(exp(x) - exponencial3(x))/exp(x), 0, 10.0)"
   ]
  },
  {
   "cell_type": "markdown",
   "metadata": {},
   "source": [
    "Por fim, vejamos o que acontece com $x < 0$."
   ]
  },
  {
   "cell_type": "code",
   "execution_count": 9,
   "metadata": {},
   "outputs": [
    {
     "data": {
      "image/svg+xml": [
       "<?xml version=\"1.0\" encoding=\"utf-8\"?>\n",
       "<svg xmlns=\"http://www.w3.org/2000/svg\" xmlns:xlink=\"http://www.w3.org/1999/xlink\" width=\"600\" height=\"400\" viewBox=\"0 0 2400 1600\">\n",
       "<defs>\n",
       "  <clipPath id=\"clip6800\">\n",
       "    <rect x=\"0\" y=\"0\" width=\"2000\" height=\"2000\"/>\n",
       "  </clipPath>\n",
       "</defs>\n",
       "<defs>\n",
       "  <clipPath id=\"clip6801\">\n",
       "    <rect x=\"0\" y=\"0\" width=\"2400\" height=\"1600\"/>\n",
       "  </clipPath>\n",
       "</defs>\n",
       "<polygon clip-path=\"url(#clip6801)\" points=\"\n",
       "0,1600 2400,1600 2400,0 0,0 \n",
       "  \" fill=\"#ffffff\" fill-rule=\"evenodd\" fill-opacity=\"1\"/>\n",
       "<defs>\n",
       "  <clipPath id=\"clip6802\">\n",
       "    <rect x=\"480\" y=\"0\" width=\"1681\" height=\"1600\"/>\n",
       "  </clipPath>\n",
       "</defs>\n",
       "<polygon clip-path=\"url(#clip6801)\" points=\"\n",
       "363.893,1503.47 2321.26,1503.47 2321.26,47.2441 363.893,47.2441 \n",
       "  \" fill=\"#ffffff\" fill-rule=\"evenodd\" fill-opacity=\"1\"/>\n",
       "<defs>\n",
       "  <clipPath id=\"clip6803\">\n",
       "    <rect x=\"363\" y=\"47\" width=\"1958\" height=\"1457\"/>\n",
       "  </clipPath>\n",
       "</defs>\n",
       "<polyline clip-path=\"url(#clip6803)\" style=\"stroke:#000000; stroke-width:2; stroke-opacity:0.1; fill:none\" points=\"\n",
       "  419.147,1503.47 419.147,47.2441 \n",
       "  \"/>\n",
       "<polyline clip-path=\"url(#clip6803)\" style=\"stroke:#000000; stroke-width:2; stroke-opacity:0.1; fill:none\" points=\"\n",
       "  886.769,1503.47 886.769,47.2441 \n",
       "  \"/>\n",
       "<polyline clip-path=\"url(#clip6803)\" style=\"stroke:#000000; stroke-width:2; stroke-opacity:0.1; fill:none\" points=\"\n",
       "  1354.39,1503.47 1354.39,47.2441 \n",
       "  \"/>\n",
       "<polyline clip-path=\"url(#clip6803)\" style=\"stroke:#000000; stroke-width:2; stroke-opacity:0.1; fill:none\" points=\"\n",
       "  1822.01,1503.47 1822.01,47.2441 \n",
       "  \"/>\n",
       "<polyline clip-path=\"url(#clip6803)\" style=\"stroke:#000000; stroke-width:2; stroke-opacity:0.1; fill:none\" points=\"\n",
       "  2289.63,1503.47 2289.63,47.2441 \n",
       "  \"/>\n",
       "<polyline clip-path=\"url(#clip6803)\" style=\"stroke:#000000; stroke-width:2; stroke-opacity:0.1; fill:none\" points=\"\n",
       "  363.893,1462.26 2321.26,1462.26 \n",
       "  \"/>\n",
       "<polyline clip-path=\"url(#clip6803)\" style=\"stroke:#000000; stroke-width:2; stroke-opacity:0.1; fill:none\" points=\"\n",
       "  363.893,1143.4 2321.26,1143.4 \n",
       "  \"/>\n",
       "<polyline clip-path=\"url(#clip6803)\" style=\"stroke:#000000; stroke-width:2; stroke-opacity:0.1; fill:none\" points=\"\n",
       "  363.893,824.546 2321.26,824.546 \n",
       "  \"/>\n",
       "<polyline clip-path=\"url(#clip6803)\" style=\"stroke:#000000; stroke-width:2; stroke-opacity:0.1; fill:none\" points=\"\n",
       "  363.893,505.689 2321.26,505.689 \n",
       "  \"/>\n",
       "<polyline clip-path=\"url(#clip6803)\" style=\"stroke:#000000; stroke-width:2; stroke-opacity:0.1; fill:none\" points=\"\n",
       "  363.893,186.832 2321.26,186.832 \n",
       "  \"/>\n",
       "<polyline clip-path=\"url(#clip6801)\" style=\"stroke:#000000; stroke-width:4; stroke-opacity:1; fill:none\" points=\"\n",
       "  363.893,1503.47 2321.26,1503.47 \n",
       "  \"/>\n",
       "<polyline clip-path=\"url(#clip6801)\" style=\"stroke:#000000; stroke-width:4; stroke-opacity:1; fill:none\" points=\"\n",
       "  363.893,1503.47 363.893,47.2441 \n",
       "  \"/>\n",
       "<polyline clip-path=\"url(#clip6801)\" style=\"stroke:#000000; stroke-width:4; stroke-opacity:1; fill:none\" points=\"\n",
       "  419.147,1503.47 419.147,1481.63 \n",
       "  \"/>\n",
       "<polyline clip-path=\"url(#clip6801)\" style=\"stroke:#000000; stroke-width:4; stroke-opacity:1; fill:none\" points=\"\n",
       "  886.769,1503.47 886.769,1481.63 \n",
       "  \"/>\n",
       "<polyline clip-path=\"url(#clip6801)\" style=\"stroke:#000000; stroke-width:4; stroke-opacity:1; fill:none\" points=\"\n",
       "  1354.39,1503.47 1354.39,1481.63 \n",
       "  \"/>\n",
       "<polyline clip-path=\"url(#clip6801)\" style=\"stroke:#000000; stroke-width:4; stroke-opacity:1; fill:none\" points=\"\n",
       "  1822.01,1503.47 1822.01,1481.63 \n",
       "  \"/>\n",
       "<polyline clip-path=\"url(#clip6801)\" style=\"stroke:#000000; stroke-width:4; stroke-opacity:1; fill:none\" points=\"\n",
       "  2289.63,1503.47 2289.63,1481.63 \n",
       "  \"/>\n",
       "<polyline clip-path=\"url(#clip6801)\" style=\"stroke:#000000; stroke-width:4; stroke-opacity:1; fill:none\" points=\"\n",
       "  363.893,1462.26 393.253,1462.26 \n",
       "  \"/>\n",
       "<polyline clip-path=\"url(#clip6801)\" style=\"stroke:#000000; stroke-width:4; stroke-opacity:1; fill:none\" points=\"\n",
       "  363.893,1143.4 393.253,1143.4 \n",
       "  \"/>\n",
       "<polyline clip-path=\"url(#clip6801)\" style=\"stroke:#000000; stroke-width:4; stroke-opacity:1; fill:none\" points=\"\n",
       "  363.893,824.546 393.253,824.546 \n",
       "  \"/>\n",
       "<polyline clip-path=\"url(#clip6801)\" style=\"stroke:#000000; stroke-width:4; stroke-opacity:1; fill:none\" points=\"\n",
       "  363.893,505.689 393.253,505.689 \n",
       "  \"/>\n",
       "<polyline clip-path=\"url(#clip6801)\" style=\"stroke:#000000; stroke-width:4; stroke-opacity:1; fill:none\" points=\"\n",
       "  363.893,186.832 393.253,186.832 \n",
       "  \"/>\n",
       "<g clip-path=\"url(#clip6801)\">\n",
       "<text style=\"fill:#000000; fill-opacity:1; font-family:Arial,Helvetica Neue,Helvetica,sans-serif; font-size:48px; text-anchor:middle;\" transform=\"rotate(0, 419.147, 1557.47)\" x=\"419.147\" y=\"1557.47\">-10</text>\n",
       "</g>\n",
       "<g clip-path=\"url(#clip6801)\">\n",
       "<text style=\"fill:#000000; fill-opacity:1; font-family:Arial,Helvetica Neue,Helvetica,sans-serif; font-size:48px; text-anchor:middle;\" transform=\"rotate(0, 886.769, 1557.47)\" x=\"886.769\" y=\"1557.47\">-5</text>\n",
       "</g>\n",
       "<g clip-path=\"url(#clip6801)\">\n",
       "<text style=\"fill:#000000; fill-opacity:1; font-family:Arial,Helvetica Neue,Helvetica,sans-serif; font-size:48px; text-anchor:middle;\" transform=\"rotate(0, 1354.39, 1557.47)\" x=\"1354.39\" y=\"1557.47\">0</text>\n",
       "</g>\n",
       "<g clip-path=\"url(#clip6801)\">\n",
       "<text style=\"fill:#000000; fill-opacity:1; font-family:Arial,Helvetica Neue,Helvetica,sans-serif; font-size:48px; text-anchor:middle;\" transform=\"rotate(0, 1822.01, 1557.47)\" x=\"1822.01\" y=\"1557.47\">5</text>\n",
       "</g>\n",
       "<g clip-path=\"url(#clip6801)\">\n",
       "<text style=\"fill:#000000; fill-opacity:1; font-family:Arial,Helvetica Neue,Helvetica,sans-serif; font-size:48px; text-anchor:middle;\" transform=\"rotate(0, 2289.63, 1557.47)\" x=\"2289.63\" y=\"1557.47\">10</text>\n",
       "</g>\n",
       "<g clip-path=\"url(#clip6801)\">\n",
       "<text style=\"fill:#000000; fill-opacity:1; font-family:Arial,Helvetica Neue,Helvetica,sans-serif; font-size:48px; text-anchor:end;\" transform=\"rotate(0, 339.893, 1479.76)\" x=\"339.893\" y=\"1479.76\">0</text>\n",
       "</g>\n",
       "<g clip-path=\"url(#clip6801)\">\n",
       "<text style=\"fill:#000000; fill-opacity:1; font-family:Arial,Helvetica Neue,Helvetica,sans-serif; font-size:48px; text-anchor:start;\" transform=\"rotate(0, 146.768, 1167.13)\" x=\"146.768\" y=\"1167.13\">2.5×10</text>\n",
       "</g>\n",
       "<g clip-path=\"url(#clip6801)\">\n",
       "<text style=\"fill:#000000; fill-opacity:1; font-family:Arial,Helvetica Neue,Helvetica,sans-serif; font-size:38px; text-anchor:start;\" transform=\"rotate(0, 295.309, 1139.72)\" x=\"295.309\" y=\"1139.72\">-</text>\n",
       "</g>\n",
       "<g clip-path=\"url(#clip6801)\">\n",
       "<text style=\"fill:#000000; fill-opacity:1; font-family:Arial,Helvetica Neue,Helvetica,sans-serif; font-size:38px; text-anchor:start;\" transform=\"rotate(0, 318.148, 1139.72)\" x=\"318.148\" y=\"1139.72\">9</text>\n",
       "</g>\n",
       "<g clip-path=\"url(#clip6801)\">\n",
       "<text style=\"fill:#000000; fill-opacity:1; font-family:Arial,Helvetica Neue,Helvetica,sans-serif; font-size:48px; text-anchor:start;\" transform=\"rotate(0, 146.768, 848.274)\" x=\"146.768\" y=\"848.274\">5.0×10</text>\n",
       "</g>\n",
       "<g clip-path=\"url(#clip6801)\">\n",
       "<text style=\"fill:#000000; fill-opacity:1; font-family:Arial,Helvetica Neue,Helvetica,sans-serif; font-size:38px; text-anchor:start;\" transform=\"rotate(0, 295.309, 820.864)\" x=\"295.309\" y=\"820.864\">-</text>\n",
       "</g>\n",
       "<g clip-path=\"url(#clip6801)\">\n",
       "<text style=\"fill:#000000; fill-opacity:1; font-family:Arial,Helvetica Neue,Helvetica,sans-serif; font-size:38px; text-anchor:start;\" transform=\"rotate(0, 318.148, 820.864)\" x=\"318.148\" y=\"820.864\">9</text>\n",
       "</g>\n",
       "<g clip-path=\"url(#clip6801)\">\n",
       "<text style=\"fill:#000000; fill-opacity:1; font-family:Arial,Helvetica Neue,Helvetica,sans-serif; font-size:48px; text-anchor:start;\" transform=\"rotate(0, 146.768, 529.417)\" x=\"146.768\" y=\"529.417\">7.5×10</text>\n",
       "</g>\n",
       "<g clip-path=\"url(#clip6801)\">\n",
       "<text style=\"fill:#000000; fill-opacity:1; font-family:Arial,Helvetica Neue,Helvetica,sans-serif; font-size:38px; text-anchor:start;\" transform=\"rotate(0, 295.309, 502.006)\" x=\"295.309\" y=\"502.006\">-</text>\n",
       "</g>\n",
       "<g clip-path=\"url(#clip6801)\">\n",
       "<text style=\"fill:#000000; fill-opacity:1; font-family:Arial,Helvetica Neue,Helvetica,sans-serif; font-size:38px; text-anchor:start;\" transform=\"rotate(0, 318.148, 502.006)\" x=\"318.148\" y=\"502.006\">9</text>\n",
       "</g>\n",
       "<g clip-path=\"url(#clip6801)\">\n",
       "<text style=\"fill:#000000; fill-opacity:1; font-family:Arial,Helvetica Neue,Helvetica,sans-serif; font-size:48px; text-anchor:start;\" transform=\"rotate(0, 146.768, 210.56)\" x=\"146.768\" y=\"210.56\">1.0×10</text>\n",
       "</g>\n",
       "<g clip-path=\"url(#clip6801)\">\n",
       "<text style=\"fill:#000000; fill-opacity:1; font-family:Arial,Helvetica Neue,Helvetica,sans-serif; font-size:38px; text-anchor:start;\" transform=\"rotate(0, 295.309, 183.149)\" x=\"295.309\" y=\"183.149\">-</text>\n",
       "</g>\n",
       "<g clip-path=\"url(#clip6801)\">\n",
       "<text style=\"fill:#000000; fill-opacity:1; font-family:Arial,Helvetica Neue,Helvetica,sans-serif; font-size:38px; text-anchor:start;\" transform=\"rotate(0, 318.148, 183.149)\" x=\"318.148\" y=\"183.149\">8</text>\n",
       "</g>\n",
       "<polyline clip-path=\"url(#clip6803)\" style=\"stroke:#009af9; stroke-width:4; stroke-opacity:1; fill:none\" points=\"\n",
       "  419.29,569.175 419.432,1444.12 419.575,1422.37 419.718,986.123 419.861,504.873 420.003,1283.64 420.146,1156.38 420.289,1266.78 420.431,662.8 420.574,894.591 \n",
       "  420.717,742.703 420.86,1205.42 421.002,1145.39 421.145,1127.99 421.288,535.238 421.43,1332.66 421.573,457.368 421.716,663.608 421.858,977.031 422.001,1192.05 \n",
       "  422.144,1086.67 422.287,1005.8 422.429,1153.42 422.572,948.998 422.715,1416.03 422.857,1078.02 423,1162.69 423.143,1338.28 423.286,1395.5 423.428,1081.5 \n",
       "  423.571,750.137 423.714,1392.74 423.856,1390.11 423.999,1454.72 424.142,507.711 424.285,808.07 424.427,638.211 424.57,1417.58 424.713,779.408 424.855,1074.3 \n",
       "  424.998,1068.98 425.141,699.522 425.284,824.711 425.426,88.4582 425.569,1243.49 425.712,1248.26 425.854,972.297 425.997,683.102 426.14,983.974 426.282,1418.57 \n",
       "  426.425,777.121 426.568,938.16 426.711,1383.56 426.853,1124.99 426.996,993.809 427.139,1014.19 427.281,1384.11 427.424,1414.89 427.567,1311.19 427.71,1077.25 \n",
       "  427.852,1062.11 427.995,1055.11 428.138,620.944 428.28,300.04 428.423,1123.73 428.566,1234.73 428.709,896.393 428.851,1248.96 428.994,1046.69 429.137,1214.46 \n",
       "  429.279,1165.33 429.422,694.984 429.565,770.943 429.708,1385.53 429.85,739.169 429.993,1126.07 430.136,1359.2 430.278,1244.91 430.421,1362.36 430.564,1230.15 \n",
       "  430.707,739.179 430.849,1163.91 430.992,1217.44 431.135,1452.59 431.277,520.612 431.42,1122.92 431.563,1000.51 431.705,852.009 431.848,1397.37 431.991,1415.73 \n",
       "  432.134,782.897 432.276,1164.75 432.419,1083.75 432.562,1354.56 432.704,837.941 432.847,1379.49 432.99,1441.91 433.133,1148.32 433.275,1380.01 433.418,898.816 \n",
       "  433.561,1110.78 433.703,1173.26 433.846,677.536 433.989,1359.14 434.132,852.486 434.274,1018.22 434.417,1232.09 434.56,1216.72 434.702,568.528 434.845,1158.78 \n",
       "  434.988,1226.43 435.131,1043.85 435.273,913.702 435.416,726.137 435.559,1128.66 435.701,861.215 435.844,598.151 435.987,307.426 436.129,978.141 436.272,1434.17 \n",
       "  436.415,1323.02 436.558,687.606 436.7,441.384 436.843,1103.13 436.986,683.182 437.128,1183.35 437.271,698.119 437.414,1461.92 438.733,1214.99 440.053,650.353 \n",
       "  441.373,1286.07 442.692,1256.12 444.012,1086.24 445.331,723.604 446.651,1268.47 447.97,1289.73 449.29,1341.58 450.609,1351.23 451.929,1355.48 453.249,1204.7 \n",
       "  454.568,1356.03 455.888,1402.84 457.207,1353.42 458.527,1412 459.846,992.333 461.166,1042.05 462.485,1296.77 463.805,1205.24 465.125,965.246 466.444,1107.82 \n",
       "  467.764,1288.61 469.083,1364.53 470.403,1183.98 471.722,1342.72 473.042,1228.83 474.361,1373.42 475.681,1380.96 477.001,1263.63 478.32,1394.8 479.64,1312.38 \n",
       "  480.959,1411 482.279,1226.95 483.598,1247.5 484.918,1205.22 486.237,1277.06 487.557,1136.3 488.877,1376.92 490.196,1300.3 491.516,1261.46 492.835,1381.82 \n",
       "  494.155,1284.66 495.474,1381.94 496.794,1406.17 498.114,1400.76 499.433,1300.64 500.753,1456.55 502.072,1366.82 503.392,1418.41 504.711,1344.35 506.031,1354.57 \n",
       "  507.35,1381.01 508.67,1368.94 509.99,1382.3 511.309,1310.03 512.629,1363.84 513.948,1341.76 515.268,1427.67 516.587,1326.92 517.907,1446.98 519.226,1457.14 \n",
       "  520.546,1420.85 521.866,1392.03 523.185,1460.71 524.505,1357.29 525.824,1325.43 527.144,1437.17 528.463,1434.84 529.783,1433.63 531.102,1442.48 532.422,1434.6 \n",
       "  537.7,1425.22 542.978,1424.78 544.298,1434.82 545.618,1437.29 546.937,1461.62 548.257,1459.97 549.576,1444.12 550.896,1414.09 552.215,1432.44 553.535,1449.15 \n",
       "  554.854,1433.4 556.174,1456.54 557.494,1431.27 558.813,1441.39 560.133,1425.27 561.452,1404.23 562.772,1450.31 564.091,1455.21 565.411,1431.45 566.731,1432.23 \n",
       "  568.05,1407.67 569.37,1458.62 570.689,1454.32 572.009,1438.67 573.328,1439.65 574.648,1448.51 577.287,1453.54 579.926,1432.9 582.565,1419.1 585.204,1432.83 \n",
       "  587.843,1453.25 590.483,1460.19 593.122,1457.97 595.761,1462.05 597.08,1448.64 598.4,1445.19 599.719,1456.21 601.039,1461.07 602.359,1461.26 603.678,1456.91 \n",
       "  604.998,1448.12 606.317,1444.94 612.661,1446.61 619.005,1459.73 625.349,1460.01 631.693,1453.94 644.381,1456.55 657.069,1461.05 682.445,1459.67 707.821,1461.59 \n",
       "  750.731,1461.51 793.641,1462.02 886.866,1462.24 972.811,1462.26 1064.95,1462.26 1171.71,1462.26 1266.58,1462.26 1349.78,1462.26 1440.48,1462.26 1531.72,1462.26 \n",
       "  1632.6,1462.26 1728.59,1462.26 1828.39,1462.26 1912.4,1462.26 2014.97,1462.26 2111.39,1462.26 2265.86,1462.26 \n",
       "  \"/>\n",
       "<polygon clip-path=\"url(#clip6801)\" points=\"\n",
       "1958.43,251.724 2249.26,251.724 2249.26,130.764 1958.43,130.764 \n",
       "  \" fill=\"#ffffff\" fill-rule=\"evenodd\" fill-opacity=\"1\"/>\n",
       "<polyline clip-path=\"url(#clip6801)\" style=\"stroke:#000000; stroke-width:4; stroke-opacity:1; fill:none\" points=\"\n",
       "  1958.43,251.724 2249.26,251.724 2249.26,130.764 1958.43,130.764 1958.43,251.724 \n",
       "  \"/>\n",
       "<polyline clip-path=\"url(#clip6801)\" style=\"stroke:#009af9; stroke-width:4; stroke-opacity:1; fill:none\" points=\"\n",
       "  1982.43,191.244 2126.43,191.244 \n",
       "  \"/>\n",
       "<g clip-path=\"url(#clip6801)\">\n",
       "<text style=\"fill:#000000; fill-opacity:1; font-family:Arial,Helvetica Neue,Helvetica,sans-serif; font-size:48px; text-anchor:start;\" transform=\"rotate(0, 2150.43, 208.744)\" x=\"2150.43\" y=\"208.744\">y1</text>\n",
       "</g>\n",
       "</svg>\n"
      ]
     },
     "execution_count": 9,
     "metadata": {},
     "output_type": "execute_result"
    }
   ],
   "source": [
    "plot(x->abs(exp(x) - exponencial3(x))/exp(x), -10.0, 10.0)"
   ]
  },
  {
   "cell_type": "markdown",
   "metadata": {},
   "source": [
    "O erro cresce novamente. Isso acontece porque o termo $t_n$ fica alternando de sinal, e fica pequeno antes de contribuir o suficiente para fazer a diferença necessária.\n",
    "Uma maneira de remediar esse problema é usar a relação $e^x = \\dfrac{1}{e^{-x}}$."
   ]
  },
  {
   "cell_type": "code",
   "execution_count": 10,
   "metadata": {},
   "outputs": [
    {
     "data": {
      "text/plain": [
       "exponencial4 (generic function with 1 method)"
      ]
     },
     "execution_count": 10,
     "metadata": {},
     "output_type": "execute_result"
    }
   ],
   "source": [
    "function exponencial4(x)\n",
    "    if x < 0\n",
    "        return 1.0/exponencial4(-x)\n",
    "    end\n",
    "    # Implemente\n",
    "    return exponencial3(x)\n",
    "end"
   ]
  },
  {
   "cell_type": "code",
   "execution_count": 11,
   "metadata": {},
   "outputs": [
    {
     "data": {
      "image/svg+xml": [
       "<?xml version=\"1.0\" encoding=\"utf-8\"?>\n",
       "<svg xmlns=\"http://www.w3.org/2000/svg\" xmlns:xlink=\"http://www.w3.org/1999/xlink\" width=\"600\" height=\"400\" viewBox=\"0 0 2400 1600\">\n",
       "<defs>\n",
       "  <clipPath id=\"clip7000\">\n",
       "    <rect x=\"0\" y=\"0\" width=\"2000\" height=\"2000\"/>\n",
       "  </clipPath>\n",
       "</defs>\n",
       "<defs>\n",
       "  <clipPath id=\"clip7001\">\n",
       "    <rect x=\"0\" y=\"0\" width=\"2400\" height=\"1600\"/>\n",
       "  </clipPath>\n",
       "</defs>\n",
       "<polygon clip-path=\"url(#clip7001)\" points=\"\n",
       "0,1600 2400,1600 2400,0 0,0 \n",
       "  \" fill=\"#ffffff\" fill-rule=\"evenodd\" fill-opacity=\"1\"/>\n",
       "<defs>\n",
       "  <clipPath id=\"clip7002\">\n",
       "    <rect x=\"480\" y=\"0\" width=\"1681\" height=\"1600\"/>\n",
       "  </clipPath>\n",
       "</defs>\n",
       "<polygon clip-path=\"url(#clip7001)\" points=\"\n",
       "844.7,1503.47 2321.26,1503.47 2321.26,47.2441 844.7,47.2441 \n",
       "  \" fill=\"#ffffff\" fill-rule=\"evenodd\" fill-opacity=\"1\"/>\n",
       "<defs>\n",
       "  <clipPath id=\"clip7003\">\n",
       "    <rect x=\"844\" y=\"47\" width=\"1478\" height=\"1457\"/>\n",
       "  </clipPath>\n",
       "</defs>\n",
       "<polyline clip-path=\"url(#clip7003)\" style=\"stroke:#000000; stroke-width:2; stroke-opacity:0.1; fill:none\" points=\"\n",
       "  886.383,1503.47 886.383,47.2441 \n",
       "  \"/>\n",
       "<polyline clip-path=\"url(#clip7003)\" style=\"stroke:#000000; stroke-width:2; stroke-opacity:0.1; fill:none\" points=\"\n",
       "  1234.69,1503.47 1234.69,47.2441 \n",
       "  \"/>\n",
       "<polyline clip-path=\"url(#clip7003)\" style=\"stroke:#000000; stroke-width:2; stroke-opacity:0.1; fill:none\" points=\"\n",
       "  1583,1503.47 1583,47.2441 \n",
       "  \"/>\n",
       "<polyline clip-path=\"url(#clip7003)\" style=\"stroke:#000000; stroke-width:2; stroke-opacity:0.1; fill:none\" points=\"\n",
       "  1931.3,1503.47 1931.3,47.2441 \n",
       "  \"/>\n",
       "<polyline clip-path=\"url(#clip7003)\" style=\"stroke:#000000; stroke-width:2; stroke-opacity:0.1; fill:none\" points=\"\n",
       "  2279.61,1503.47 2279.61,47.2441 \n",
       "  \"/>\n",
       "<polyline clip-path=\"url(#clip7003)\" style=\"stroke:#000000; stroke-width:2; stroke-opacity:0.1; fill:none\" points=\"\n",
       "  844.7,1391.78 2321.26,1391.78 \n",
       "  \"/>\n",
       "<polyline clip-path=\"url(#clip7003)\" style=\"stroke:#000000; stroke-width:2; stroke-opacity:0.1; fill:none\" points=\"\n",
       "  844.7,1112.56 2321.26,1112.56 \n",
       "  \"/>\n",
       "<polyline clip-path=\"url(#clip7003)\" style=\"stroke:#000000; stroke-width:2; stroke-opacity:0.1; fill:none\" points=\"\n",
       "  844.7,833.329 2321.26,833.329 \n",
       "  \"/>\n",
       "<polyline clip-path=\"url(#clip7003)\" style=\"stroke:#000000; stroke-width:2; stroke-opacity:0.1; fill:none\" points=\"\n",
       "  844.7,554.101 2321.26,554.101 \n",
       "  \"/>\n",
       "<polyline clip-path=\"url(#clip7003)\" style=\"stroke:#000000; stroke-width:2; stroke-opacity:0.1; fill:none\" points=\"\n",
       "  844.7,274.874 2321.26,274.874 \n",
       "  \"/>\n",
       "<polyline clip-path=\"url(#clip7001)\" style=\"stroke:#000000; stroke-width:4; stroke-opacity:1; fill:none\" points=\"\n",
       "  844.7,1503.47 2321.26,1503.47 \n",
       "  \"/>\n",
       "<polyline clip-path=\"url(#clip7001)\" style=\"stroke:#000000; stroke-width:4; stroke-opacity:1; fill:none\" points=\"\n",
       "  844.7,1503.47 844.7,47.2441 \n",
       "  \"/>\n",
       "<polyline clip-path=\"url(#clip7001)\" style=\"stroke:#000000; stroke-width:4; stroke-opacity:1; fill:none\" points=\"\n",
       "  886.383,1503.47 886.383,1481.63 \n",
       "  \"/>\n",
       "<polyline clip-path=\"url(#clip7001)\" style=\"stroke:#000000; stroke-width:4; stroke-opacity:1; fill:none\" points=\"\n",
       "  1234.69,1503.47 1234.69,1481.63 \n",
       "  \"/>\n",
       "<polyline clip-path=\"url(#clip7001)\" style=\"stroke:#000000; stroke-width:4; stroke-opacity:1; fill:none\" points=\"\n",
       "  1583,1503.47 1583,1481.63 \n",
       "  \"/>\n",
       "<polyline clip-path=\"url(#clip7001)\" style=\"stroke:#000000; stroke-width:4; stroke-opacity:1; fill:none\" points=\"\n",
       "  1931.3,1503.47 1931.3,1481.63 \n",
       "  \"/>\n",
       "<polyline clip-path=\"url(#clip7001)\" style=\"stroke:#000000; stroke-width:4; stroke-opacity:1; fill:none\" points=\"\n",
       "  2279.61,1503.47 2279.61,1481.63 \n",
       "  \"/>\n",
       "<polyline clip-path=\"url(#clip7001)\" style=\"stroke:#000000; stroke-width:4; stroke-opacity:1; fill:none\" points=\"\n",
       "  844.7,1391.78 866.849,1391.78 \n",
       "  \"/>\n",
       "<polyline clip-path=\"url(#clip7001)\" style=\"stroke:#000000; stroke-width:4; stroke-opacity:1; fill:none\" points=\"\n",
       "  844.7,1112.56 866.849,1112.56 \n",
       "  \"/>\n",
       "<polyline clip-path=\"url(#clip7001)\" style=\"stroke:#000000; stroke-width:4; stroke-opacity:1; fill:none\" points=\"\n",
       "  844.7,833.329 866.849,833.329 \n",
       "  \"/>\n",
       "<polyline clip-path=\"url(#clip7001)\" style=\"stroke:#000000; stroke-width:4; stroke-opacity:1; fill:none\" points=\"\n",
       "  844.7,554.101 866.849,554.101 \n",
       "  \"/>\n",
       "<polyline clip-path=\"url(#clip7001)\" style=\"stroke:#000000; stroke-width:4; stroke-opacity:1; fill:none\" points=\"\n",
       "  844.7,274.874 866.849,274.874 \n",
       "  \"/>\n",
       "<g clip-path=\"url(#clip7001)\">\n",
       "<text style=\"fill:#000000; fill-opacity:1; font-family:Arial,Helvetica Neue,Helvetica,sans-serif; font-size:48px; text-anchor:middle;\" transform=\"rotate(0, 886.383, 1557.47)\" x=\"886.383\" y=\"1557.47\">-10</text>\n",
       "</g>\n",
       "<g clip-path=\"url(#clip7001)\">\n",
       "<text style=\"fill:#000000; fill-opacity:1; font-family:Arial,Helvetica Neue,Helvetica,sans-serif; font-size:48px; text-anchor:middle;\" transform=\"rotate(0, 1234.69, 1557.47)\" x=\"1234.69\" y=\"1557.47\">-5</text>\n",
       "</g>\n",
       "<g clip-path=\"url(#clip7001)\">\n",
       "<text style=\"fill:#000000; fill-opacity:1; font-family:Arial,Helvetica Neue,Helvetica,sans-serif; font-size:48px; text-anchor:middle;\" transform=\"rotate(0, 1583, 1557.47)\" x=\"1583\" y=\"1557.47\">0</text>\n",
       "</g>\n",
       "<g clip-path=\"url(#clip7001)\">\n",
       "<text style=\"fill:#000000; fill-opacity:1; font-family:Arial,Helvetica Neue,Helvetica,sans-serif; font-size:48px; text-anchor:middle;\" transform=\"rotate(0, 1931.3, 1557.47)\" x=\"1931.3\" y=\"1557.47\">5</text>\n",
       "</g>\n",
       "<g clip-path=\"url(#clip7001)\">\n",
       "<text style=\"fill:#000000; fill-opacity:1; font-family:Arial,Helvetica Neue,Helvetica,sans-serif; font-size:48px; text-anchor:middle;\" transform=\"rotate(0, 2279.61, 1557.47)\" x=\"2279.61\" y=\"1557.47\">10</text>\n",
       "</g>\n",
       "<g clip-path=\"url(#clip7001)\">\n",
       "<text style=\"fill:#000000; fill-opacity:1; font-family:Arial,Helvetica Neue,Helvetica,sans-serif; font-size:48px; text-anchor:end;\" transform=\"rotate(0, 820.7, 1409.28)\" x=\"820.7\" y=\"1409.28\">0</text>\n",
       "</g>\n",
       "<g clip-path=\"url(#clip7001)\">\n",
       "<text style=\"fill:#000000; fill-opacity:1; font-family:Arial,Helvetica Neue,Helvetica,sans-serif; font-size:48px; text-anchor:start;\" transform=\"rotate(0, 150.871, 1136.28)\" x=\"150.871\" y=\"1136.28\">2.500000000000000444×10</text>\n",
       "</g>\n",
       "<g clip-path=\"url(#clip7001)\">\n",
       "<text style=\"fill:#000000; fill-opacity:1; font-family:Arial,Helvetica Neue,Helvetica,sans-serif; font-size:38px; text-anchor:start;\" transform=\"rotate(0, 754.372, 1108.87)\" x=\"754.372\" y=\"1108.87\">-</text>\n",
       "</g>\n",
       "<g clip-path=\"url(#clip7001)\">\n",
       "<text style=\"fill:#000000; fill-opacity:1; font-family:Arial,Helvetica Neue,Helvetica,sans-serif; font-size:38px; text-anchor:start;\" transform=\"rotate(0, 777.211, 1108.87)\" x=\"777.211\" y=\"1108.87\">16</text>\n",
       "</g>\n",
       "<g clip-path=\"url(#clip7001)\">\n",
       "<text style=\"fill:#000000; fill-opacity:1; font-family:Arial,Helvetica Neue,Helvetica,sans-serif; font-size:48px; text-anchor:start;\" transform=\"rotate(0, 150.871, 857.056)\" x=\"150.871\" y=\"857.056\">5.000000000000000888×10</text>\n",
       "</g>\n",
       "<g clip-path=\"url(#clip7001)\">\n",
       "<text style=\"fill:#000000; fill-opacity:1; font-family:Arial,Helvetica Neue,Helvetica,sans-serif; font-size:38px; text-anchor:start;\" transform=\"rotate(0, 754.372, 829.646)\" x=\"754.372\" y=\"829.646\">-</text>\n",
       "</g>\n",
       "<g clip-path=\"url(#clip7001)\">\n",
       "<text style=\"fill:#000000; fill-opacity:1; font-family:Arial,Helvetica Neue,Helvetica,sans-serif; font-size:38px; text-anchor:start;\" transform=\"rotate(0, 777.211, 829.646)\" x=\"777.211\" y=\"829.646\">16</text>\n",
       "</g>\n",
       "<g clip-path=\"url(#clip7001)\">\n",
       "<text style=\"fill:#000000; fill-opacity:1; font-family:Arial,Helvetica Neue,Helvetica,sans-serif; font-size:48px; text-anchor:start;\" transform=\"rotate(0, 150.871, 577.829)\" x=\"150.871\" y=\"577.829\">7.500000000000000888×10</text>\n",
       "</g>\n",
       "<g clip-path=\"url(#clip7001)\">\n",
       "<text style=\"fill:#000000; fill-opacity:1; font-family:Arial,Helvetica Neue,Helvetica,sans-serif; font-size:38px; text-anchor:start;\" transform=\"rotate(0, 754.372, 550.418)\" x=\"754.372\" y=\"550.418\">-</text>\n",
       "</g>\n",
       "<g clip-path=\"url(#clip7001)\">\n",
       "<text style=\"fill:#000000; fill-opacity:1; font-family:Arial,Helvetica Neue,Helvetica,sans-serif; font-size:38px; text-anchor:start;\" transform=\"rotate(0, 777.211, 550.418)\" x=\"777.211\" y=\"550.418\">16</text>\n",
       "</g>\n",
       "<g clip-path=\"url(#clip7001)\">\n",
       "<text style=\"fill:#000000; fill-opacity:1; font-family:Arial,Helvetica Neue,Helvetica,sans-serif; font-size:48px; text-anchor:start;\" transform=\"rotate(0, 605.831, 298.601)\" x=\"605.831\" y=\"298.601\">1.0×10</text>\n",
       "</g>\n",
       "<g clip-path=\"url(#clip7001)\">\n",
       "<text style=\"fill:#000000; fill-opacity:1; font-family:Arial,Helvetica Neue,Helvetica,sans-serif; font-size:38px; text-anchor:start;\" transform=\"rotate(0, 754.372, 271.191)\" x=\"754.372\" y=\"271.191\">-</text>\n",
       "</g>\n",
       "<g clip-path=\"url(#clip7001)\">\n",
       "<text style=\"fill:#000000; fill-opacity:1; font-family:Arial,Helvetica Neue,Helvetica,sans-serif; font-size:38px; text-anchor:start;\" transform=\"rotate(0, 777.211, 271.191)\" x=\"777.211\" y=\"271.191\">15</text>\n",
       "</g>\n",
       "<polyline clip-path=\"url(#clip7003)\" style=\"stroke:#009af9; stroke-width:4; stroke-opacity:1; fill:none\" points=\"\n",
       "  886.49,1225.33 886.596,1391.78 886.702,1391.78 886.808,1060.4 886.915,1226.34 887.021,1226.6 887.127,1061.91 887.234,1227.1 887.34,1391.78 887.446,1227.6 \n",
       "  887.553,1227.85 887.659,1228.1 887.765,901.486 887.871,1065.42 887.978,1228.85 888.084,1066.41 888.19,904.47 888.297,1391.78 888.403,1229.84 888.509,1068.39 \n",
       "  888.615,1391.78 888.722,1069.38 888.828,1391.78 888.934,1391.78 889.041,1391.78 889.147,1231.56 889.253,911.849 889.36,1232.05 889.466,1072.8 889.572,754.794 \n",
       "  889.678,1073.77 889.785,915.497 889.891,1074.74 889.997,758.67 890.104,917.672 890.21,1233.99 890.316,1234.23 890.423,1234.47 890.529,920.557 890.635,1078.11 \n",
       "  890.741,1078.59 890.848,922.71 890.954,1391.78 891.06,924.139 891.167,1236.14 891.273,925.564 891.379,1236.61 891.485,772.052 891.592,772.997 891.698,928.401 \n",
       "  891.804,1237.56 891.911,1237.79 892.017,1084.27 892.123,470.658 892.23,1238.5 892.336,1238.73 892.442,1086.14 892.548,934.023 892.655,1087.08 892.761,479.052 \n",
       "  892.867,1088 892.974,936.809 893.08,1240.36 893.186,1240.59 893.293,1391.78 893.399,1241.05 893.505,1391.78 893.611,1391.78 893.718,641.549 893.824,1241.97 \n",
       "  893.93,793.424 894.037,794.337 894.143,347.846 894.249,1093.97 894.355,1243.1 894.462,797.972 894.568,1243.56 894.674,1243.78 894.781,800.684 894.887,1096.68 \n",
       "  894.993,1244.46 895.1,803.384 895.206,1098.03 895.312,1391.78 895.418,1245.36 895.525,806.965 895.631,1099.82 895.737,1391.78 895.844,373.024 895.95,1391.78 \n",
       "  896.056,1246.69 896.163,667.422 896.269,1102.48 896.375,814.06 896.481,1103.36 896.588,959.811 896.694,816.699 896.8,1104.68 896.907,675.118 897.013,819.325 \n",
       "  897.119,677.302 897.226,1391.78 897.332,1106.86 897.438,965.053 897.544,1249.76 897.651,1391.78 897.757,683.813 897.863,826.271 897.97,1109.46 898.076,1109.89 \n",
       "  898.182,969.586 898.288,1110.75 898.395,1251.48 898.501,1391.78 898.607,1251.91 898.714,1391.78 898.82,1112.88 898.926,1252.55 899.033,696.659 899.139,1252.97 \n",
       "  899.245,1391.78 899.351,423.054 899.458,1253.6 899.564,1391.78 899.67,1254.03 899.777,1116.69 899.883,1391.78 899.989,1117.53 900.972,986.161 901.955,991.844 \n",
       "  902.938,603.111 903.921,743.764 904.904,625.055 905.886,509.799 906.869,397.923 907.852,1146.8 908.835,1391.78 909.818,1391.78 910.801,1391.78 911.784,465.62 \n",
       "  912.767,1163.49 913.749,1166.69 914.732,1391.78 915.715,954.113 916.698,960.245 917.681,1391.78 918.664,552.72 919.647,771.303 920.629,1187.85 921.612,587.495 \n",
       "  922.595,1391.78 923.578,609.873 924.561,1391.78 925.544,1011.71 926.527,642.279 927.51,1022.28 928.492,845.296 929.475,1391.78 930.458,1214.69 931.441,1391.78 \n",
       "  932.424,1219.62 933.407,882.52 934.39,722.279 935.372,1061.72 936.355,1391.78 937.338,1231.34 938.321,917.209 939.304,1391.78 940.287,1084.2 941.27,785.242 \n",
       "  942.253,1391.78 943.235,1096.95 944.218,1101.08 945.201,1391.78 946.184,1250.48 947.167,1113.13 948.15,1391.78 949.133,985.432 950.115,1258.23 951.098,1391.78 \n",
       "  952.081,742.6 953.064,1135.75 954.047,1139.34 955.03,893.961 956.013,900.935 956.996,1149.8 957.978,1391.78 958.961,1156.53 959.944,927.87 960.927,705.662 \n",
       "  961.91,1166.28 962.893,1169.44 963.876,953.327 964.858,959.47 965.841,1178.66 966.824,971.498 967.807,1391.78 968.79,1391.78 969.773,988.917 970.756,795.95 \n",
       "  971.739,1195.95 972.721,1198.7 973.704,820.644 974.687,1016.36 975.67,836.535 976.653,1026.8 977.636,1391.78 978.619,1391.78 979.601,692.077 980.584,1219.31 \n",
       "  981.567,1221.72 982.55,1224.11 983.533,895.801 984.516,1065.76 985.499,748.873 986.482,757.88 987.464,1079.27 988.447,1391.78 989.43,1087.97 990.413,1092.22 \n",
       "  991.396,801.059 992.379,954.947 993.362,1391.78 994.344,1250.22 995.327,1252.21 996.31,1254.16 997.293,713.315 998.276,722.821 999.259,1127.95 1000.24,1001.57 \n",
       "  1001.22,1391.78 1002.21,1265.33 1003.19,1142.43 1004.17,900.054 1005.16,1149.36 1006.14,913.735 1007.12,1391.78 1008.1,1159.41 1009.09,1162.67 1010.07,1165.88 \n",
       "  1011.05,1391.78 1012.04,1172.16 1013.02,1175.24 1014,964.761 1014.98,1181.26 1015.97,1391.78 1016.95,1187.12 1017.93,988.193 1018.92,1391.78 1019.9,1195.6 \n",
       "  1020.88,811.488 1021.86,1201.06 1022.85,1203.73 1023.83,1391.78 1024.81,1391.78 1025.8,1031.27 1026.39,855.581 1026.98,505.657 1027.57,864.597 1028.16,1391.78 \n",
       "  1028.75,1046.24 1029.34,877.838 1029.93,882.177 1030.52,1054.91 1031.11,389.709 1031.7,1226.18 1032.29,406.559 1032.88,1228.97 1033.47,907.455 1034.07,1071.62 \n",
       "  1034.66,1233.06 1035.25,762.231 1035.84,1079.67 1036.43,1391.78 1037.02,1238.35 1037.61,1087.5 1038.2,939.219 1038.79,1092.62 1039.38,1391.78 1039.97,362.321 \n",
       "  1040.56,1100.13 1041.15,1247.19 1041.74,818.294 1042.33,1391.78 1042.93,1250.82 1043.52,832.698 1044.11,698.828 1044.7,842.099 1045.29,1119.26 1045.88,986.453 \n",
       "  1046.47,1123.84 1047.06,1258.95 1047.65,1128.35 1048.24,999.97 1048.83,1003.28 1049.42,621.332 1050.01,882.486 1050.6,1391.78 1051.19,1016.23 1051.79,1267.66 \n",
       "  1052.38,1145.63 1052.97,903.627 1053.56,907.748 1054.15,1151.81 1054.74,915.887 1055.33,919.905 1055.92,1157.84 1056.51,1159.81 1057.1,931.757 1057.69,1163.71 \n",
       "  1058.28,1165.64 1058.87,943.312 1059.46,1169.44 1060.05,1171.32 1060.65,954.576 1061.24,1391.78 1061.83,961.927 1062.42,1178.67 1063.01,1180.47 1063.6,972.724 \n",
       "  1064.19,1391.78 1064.78,1185.78 1065.37,1187.52 1065.96,1189.24 1066.55,789.286 1067.14,1192.65 1067.73,1194.33 1068.32,1391.78 1068.91,1391.78 1069.51,814.295 \n",
       "  1070.1,437.429 1070.69,1391.78 1071.28,1204.12 1071.87,1019.63 1072.46,838.266 1073.05,1391.78 1073.64,1210.38 1074.23,852.169 1074.82,1213.43 1075.41,861.242 \n",
       "  1076,1041.08 1076.59,1391.78 1077.18,1391.78 1077.77,878.935 1078.37,1222.28 1078.96,1223.71 1079.55,1391.78 1080.14,896.037 1080.73,900.222 1081.32,1066.84 \n",
       "  1081.91,1069.59 1082.5,912.569 1083.09,1075 1083.68,1234.73 1084.27,1080.33 1084.86,1391.78 1085.45,932.461 1086.04,1088.15 1086.63,940.184 1087.23,1242.52 \n",
       "  1087.82,1243.78 1088.41,1245.03 1089,955.244 1089.59,958.93 1090.18,1105.65 1090.77,1249.93 1091.36,829.141 1091.95,1112.84 1092.54,1115.19 1093.13,1254.66 \n",
       "  1093.72,983.873 1094.31,717.673 1094.9,990.733 1095.49,1126.67 1096.09,1391.78 1096.68,870.479 1097.27,1004.11 1097.86,1391.78 1098.45,883.573 1099.04,887.864 \n",
       "  1099.63,1141.95 1100.22,1391.78 1100.81,900.52 1101.4,1391.78 1101.9,1391.78 1102.4,1151.69 1102.9,1391.78 1103.4,918.438 1103.9,451.855 1104.4,1158.48 \n",
       "  1104.9,1160.15 1105.4,1161.8 1105.9,1163.44 1106.39,1391.78 1106.89,1166.69 1107.39,944.821 1107.89,726.13 1108.39,1391.78 1108.89,1173.06 1109.39,1391.78 \n",
       "  1109.89,960.559 1110.39,1177.71 1110.89,1179.24 1111.39,1391.78 1111.89,1182.27 1112.39,975.742 1112.89,772.179 1113.39,1186.72 1113.89,1188.19 1114.39,1391.78 \n",
       "  1114.88,789.695 1115.38,793.996 1115.88,1193.94 1116.38,1391.78 1116.88,1196.76 1117.38,1198.15 1117.88,1391.78 1118.38,1010.04 1118.88,1202.27 1119.38,1391.78 \n",
       "  1119.88,1018.16 1120.38,1206.31 1120.88,1391.78 1121.38,1208.95 1121.88,1210.25 1122.38,1211.55 1122.88,1212.84 1123.37,1036.45 1123.87,1215.38 1124.37,1216.64 \n",
       "  1124.87,696.23 1125.37,873.845 1125.87,1220.37 1126.37,711.029 1126.87,884.865 1127.37,1056.25 1127.87,1225.22 1128.37,1061.03 1128.87,1391.78 1129.37,1065.74 \n",
       "  1129.87,582.489 1130.37,1231.08 1130.87,1232.23 1131.36,1391.78 1131.86,1077.22 1132.36,1235.62 1132.86,771.606 1133.36,1083.91 1133.86,1391.78 1134.36,1088.29 \n",
       "  1134.86,1241.12 1135.36,1391.78 1135.86,946.234 1136.36,1391.78 1136.86,513.369 1137.36,810.357 1137.86,1391.78 1138.36,1105.21 1138.86,1107.26 1139.36,1109.29 \n",
       "  1139.85,830.829 1140.35,1252.55 1140.85,1253.54 1141.35,1254.53 1141.85,982.961 1142.35,1121.18 1142.85,1123.11 1143.35,1258.41 1143.85,862.095 1144.35,1260.31 \n",
       "  1144.85,739.099 1145.35,1262.18 1145.85,1263.11 1146.35,1264.02 1146.85,1011.24 1147.35,1139.9 1147.84,1266.74 1148.34,1143.49 1148.84,1145.26 1149.34,1147.02 \n",
       "  1149.84,1148.77 1150.34,1391.78 1150.84,1391.78 1151.34,916.099 1151.84,919.497 1152.34,1157.33 1152.84,1159 1153.34,1160.66 1153.84,932.848 1154.34,1391.78 \n",
       "  1154.84,713.18 1155.34,1167.2 1155.84,945.821 1156.33,1391.78 1156.83,1171.98 1157.33,955.31 1157.83,1175.11 1158.33,1176.65 1158.83,1178.19 1159.33,967.649 \n",
       "  1159.83,1391.78 1160.33,1182.74 1160.83,1391.78 1161.33,1391.78 1161.83,1187.18 1162.33,1391.78 1162.83,1190.1 1163.33,1191.54 1163.83,1391.78 1164.33,996.99 \n",
       "  1164.82,803.824 1165.32,1002.61 1165.87,1198.71 1166.41,1391.78 1166.95,1011.6 1167.49,1203.17 1168.04,1204.63 1168.58,1206.08 1169.12,654.731 1169.66,1391.78 \n",
       "  1170.21,1210.37 1170.75,1031.77 1171.29,1391.78 1171.83,1037.33 1172.38,1391.78 1172.92,693.834 1173.46,1218.65 1174,1219.99 1174.55,1221.33 1175.09,884.376 \n",
       "  1175.63,1223.96 1176.17,1225.26 1176.72,1226.55 1177.26,1063.89 1177.8,1066.43 1178.34,1230.37 1178.89,1231.62 1179.43,1232.86 1179.97,918.721 1180.51,1235.32 \n",
       "  1181.06,1081.28 1181.6,1083.69 1182.14,1086.08 1182.68,633.456 1183.23,1391.78 1183.77,1242.46 1184.31,1391.78 1184.85,1391.78 1185.4,1100.04 1185.94,957.558 \n",
       "  1186.48,1248.16 1187.02,821.763 1187.57,967.585 1188.11,1111.18 1188.65,1113.35 1189.19,1115.51 1189.74,980.595 1190.28,1119.78 1190.82,1121.89 1191.36,856.192 \n",
       "  1191.91,1126.07 1192.45,1259.96 1192.99,999.365 1193.53,1391.78 1194.08,619.076 1194.62,880.641 1195.16,1264.99 1195.7,1265.97 1196.25,1142.11 1196.79,1144.05 \n",
       "  1197.33,1391.78 1197.87,903.975 1198.42,1149.77 1198.96,1391.78 1199.5,1153.51 1200.04,918.936 1200.59,1157.19 1201.13,1391.78 1201.67,1160.82 1202.21,1162.61 \n",
       "  1202.76,1391.78 1203.3,1391.78 1203.84,1391.78 1204.38,1391.78 1204.93,1171.36 1205.47,1391.78 1206.01,1391.78 1206.55,1391.78 1207.1,1178.12 1207.64,1179.78 \n",
       "  1208.18,1181.43 1208.72,974.33 1209.27,770.461 1209.81,1391.78 1210.35,1187.88 1210.89,1189.46 1211.44,1391.78 1211.98,993.387 1212.52,1194.13 1213.06,999.544 \n",
       "  1213.61,1391.78 1214.15,1198.69 1214.69,1200.19 1215.23,1011.57 1215.78,825.893 1216.32,1391.78 1216.86,1020.35 1217.4,1391.78 1217.94,1208.94 1218.49,1391.78 \n",
       "  1219.03,1211.76 1219.57,1034.54 1220.11,1214.55 1220.66,1040.06 1221.2,1391.78 1221.74,1391.78 1222.28,1219.98 1222.83,1391.78 1223.37,1391.78 1223.91,1223.95 \n",
       "  1224.45,1225.25 1225,400.341 1225.54,1063.87 1226.08,903.723 1226.62,907.509 1227.17,1231.61 1227.71,1391.78 1228.25,1391.78 1228.79,922.362 1229.34,1236.52 \n",
       "  1229.88,1237.73 1230.42,1238.92 1230.96,785.084 1231.51,1241.29 1232.05,645.129 1232.59,1095.44 1233.13,1391.78 1233.68,1245.9 1234.22,1247.03 1234.76,960.899 \n",
       "  1235.26,963.982 1235.76,825.462 1236.26,1251.22 1236.76,1112.66 1237.26,1391.78 1237.76,1254.21 1238.26,1255.2 1238.76,1391.78 1239.26,1257.14 1239.76,990.75 \n",
       "  1240.26,860.897 1240.76,1260.01 1241.26,1130.12 1241.76,1391.78 1242.26,746.961 1242.76,1007.66 1243.26,756.154 1243.76,1265.57 1244.26,1391.78 1244.76,1267.37 \n",
       "  1245.26,1391.78 1245.76,1391.78 1246.26,1391.78 1246.76,1149.99 1247.27,1391.78 1247.77,1391.78 1248.27,1391.78 1248.77,1156.84 1249.27,1158.52 1249.77,1160.19 \n",
       "  1250.27,1161.84 1250.77,1163.49 1251.27,1165.12 1251.77,1391.78 1252.27,944.924 1252.77,1391.78 1253.27,951.295 1253.77,954.446 1254.27,1391.78 1254.77,1391.78 \n",
       "  1255.27,1177.77 1255.77,1179.31 1256.27,969.867 1256.77,972.885 1257.27,975.881 1257.77,978.857 1258.27,1186.8 1258.77,984.743 1259.27,1189.72 1259.77,1191.16 \n",
       "  1260.27,1192.6 1260.77,996.266 1261.27,999.096 1261.77,1391.78 1262.27,1391.78 1262.77,1199.62 1263.27,1010.21 1263.77,1202.36 1264.27,1203.72 1264.77,1391.78 \n",
       "  1265.27,1021.01 1265.77,1023.67 1266.27,1026.3 1266.77,666.045 1267.27,1211.65 1267.77,1212.94 1268.27,1214.22 1268.77,1391.78 1269.27,1216.75 1269.77,1391.78 \n",
       "  1270.27,1219.24 1270.77,1220.48 1271.27,1221.7 1271.77,716.322 1272.27,1224.13 1272.77,892.41 1273.27,1061.25 1273.77,1227.7 1274.27,903.05 1274.77,1230.04 \n",
       "  1275.27,1231.2 1275.77,1072.9 1276.27,1233.48 1276.77,1391.78 1277.27,1079.7 1277.77,1081.93 1278.27,1391.78 1278.77,1086.35 1279.27,1088.53 1279.77,1241.24 \n",
       "  1280.27,1092.86 1280.77,1095 1281.27,802.453 1281.77,952.947 1282.27,1391.78 1282.77,1103.4 1283.27,962.298 1283.77,1249.65 1284.27,1109.54 1284.77,971.449 \n",
       "  1285.27,1113.57 1285.77,1115.56 1286.27,1254.66 1286.77,1255.64 1287.28,1256.61 1287.78,989.171 1288.28,1125.3 1288.78,1259.49 1289.28,1260.44 1289.78,1130.97 \n",
       "  1290.28,1262.31 1290.78,1134.69 1291.28,1391.78 1291.78,1011.64 1292.28,1391.78 1292.78,1266.88 1293.28,1267.77 1293.78,1391.78 1294.28,1147.29 1294.78,1149.04 \n",
       "  1295.28,1150.78 1295.78,1391.78 1296.28,1154.21 1296.78,1155.91 1297.28,1157.6 1297.78,926.769 1298.28,1160.94 1298.78,1162.59 1299.31,1164.35 1299.85,1391.78 \n",
       "  1300.39,1167.82 1300.92,1391.78 1301.46,1171.24 1301.99,1391.78 1302.53,1391.78 1303.07,1176.28 1303.6,1391.78 1304.14,967.357 1304.68,1391.78 1305.21,1391.78 \n",
       "  1305.75,1184.41 1306.28,1391.78 1306.82,1187.58 1307.36,986.512 1307.89,1190.7 1308.43,1192.24 1308.97,797.753 1309.5,998.799 1310.04,1196.8 1310.57,1004.8 \n",
       "  1311.11,1199.78 1311.65,1201.25 1312.18,1202.71 1312.72,1016.54 1313.25,1205.6 1313.79,1207.03 1314.33,1208.44 1314.86,1391.78 1315.4,1211.24 1315.94,1033.47 \n",
       "  1316.47,858.436 1317.01,1215.36 1317.54,1216.72 1318.08,1044.34 1318.62,1219.39 1319.15,1220.71 1319.69,882.507 1320.23,886.412 1320.76,1057.45 1321.3,1391.78 \n",
       "  1321.83,1227.17 1322.37,1228.43 1322.91,1067.59 1323.44,1230.93 1323.98,1072.54 1324.51,916.592 1325.05,1077.42 1325.59,1235.81 1326.12,1391.78 1326.66,777.405 \n",
       "  1327.2,1086.95 1327.73,1391.78 1328.27,941.518 1328.8,1093.91 1329.34,1243.99 1329.88,1245.12 1330.41,1391.78 1330.95,958.517 1331.49,1248.47 1332.02,1391.78 \n",
       "  1332.56,1250.66 1333.09,1111.7 1333.63,1391.78 1334.17,978.071 1334.7,1391.78 1335.24,1120.19 1335.77,987.515 1336.31,856.892 1336.85,1259.09 1337.38,733.383 \n",
       "  1337.92,999.772 1338.46,1002.78 1338.99,1134.43 1339.53,1264.1 1340.06,1138.37 1340.6,1140.31 1341.14,1142.24 1341.67,1391.78 1342.21,1146.05 1342.75,1147.93 \n",
       "  1343.28,1149.8 1343.82,1391.78 1344.35,1391.78 1344.89,1155.33 1345.43,1157.14 1345.96,1391.78 1346.5,1160.72 1347.03,1391.78 1347.57,1391.78 1348.11,1166 \n",
       "  1348.64,1167.73 1349.18,1169.45 1349.72,1391.78 1350.25,1172.84 1350.79,1174.52 1351.32,1391.78 1351.86,1177.84 1352.4,1391.78 1352.93,1391.78 1353.47,1391.78 \n",
       "  1354,1391.78 1354.54,1185.92 1355.08,1391.78 1355.61,1391.78 1356.15,1391.78 1356.69,1192.16 1357.22,1193.69 1357.76,1195.21 1358.29,1391.78 1358.83,1391.78 \n",
       "  1359.37,1199.7 1359.9,1010.56 1360.44,1013.48 1360.98,1016.38 1361.51,1019.26 1362.05,837.281 1362.58,1391.78 1363.12,1209.77 1363.66,1030.55 1364.19,854.093 \n",
       "  1364.73,1213.93 1365.26,1391.78 1365.8,1391.78 1366.34,1217.99 1366.87,1391.78 1367.41,1220.64 1368.03,1052.54 1368.65,887.436 1369.27,1391.78 1369.89,1061.5 \n",
       "  1370.52,1228.11 1371.14,1229.56 1371.76,1231 1372.38,1073.07 1373,602.072 1373.62,1235.24 1374.24,926.333 1374.86,1084.24 1375.49,1391.78 1376.11,1089.67 \n",
       "  1376.73,1092.36 1377.35,1391.78 1377.97,1391.78 1378.59,954.5 1379.21,1247.32 1379.83,1248.6 1380.46,1249.87 1381.08,547.864 1381.7,834.165 1382.32,1391.78 \n",
       "  1382.94,980.963 1383.56,848.886 1384.18,1391.78 1384.8,858.483 1385.43,995.359 1386.05,1260.82 1386.67,1261.98 1387.29,1263.13 1387.91,1136.76 1388.53,1012.65 \n",
       "  1389.15,1141.27 1389.77,1267.64 1390.39,1391.78 1391.02,1147.88 1391.64,1150.05 1392.26,1391.78 1392.88,1391.78 1393.5,1156.43 1394.12,1391.78 1394.74,1160.59 \n",
       "  1395.36,1162.64 1395.99,1391.78 1396.61,1391.78 1397.23,1168.69 1397.85,1170.67 1398.47,1391.78 1399.09,1174.58 1399.71,1176.51 1400.33,1178.42 1400.96,1391.78 \n",
       "  1401.58,1391.78 1402.2,1184.05 1402.82,774.125 1403.44,1391.78 1404.06,785.044 1404.68,1191.33 1405.3,1193.11 1405.93,1391.78 1406.55,1391.78 1407.17,1198.36 \n",
       "  1407.79,1200.07 1408.41,1011.77 1409.03,1203.46 1409.65,1018.49 1410.27,1206.79 1410.9,1208.43 1411.52,1210.06 1412.14,1391.78 1412.76,1391.78 1413.38,1214.86 \n",
       "  1414,1216.43 1414.62,696.597 1415.24,1391.78 1415.87,1050.33 1416.49,1222.58 1417.11,1056.37 1417.73,1225.57 1418.35,897.558 1418.97,1228.5 1419.59,1391.78 \n",
       "  1420.21,1391.78 1420.83,1073.85 1421.46,1234.23 1422.08,1235.63 1422.7,1082.24 1423.32,931.589 1423.94,1087.71 1424.56,939.724 1425.18,1391.78 1425.8,1243.76 \n",
       "  1426.43,1245.08 1427.05,1246.38 1427.67,1247.67 1428.29,1248.95 1428.91,1108.65 1429.53,970.852 1430.15,696.459 1430.77,1253.95 1431.4,1255.18 1432.02,1256.39 \n",
       "  1432.64,1257.59 1433.26,1391.78 1433.88,996.325 1434.5,1261.13 1435.12,1132.8 1435.74,1135.1 1436.37,755.782 1436.99,1139.64 1437.61,1266.83 1438.23,1144.1 \n",
       "  1438.85,1391.78 1439.47,1148.48 1440.09,1150.64 1440.71,1391.78 1441.34,1154.9 1441.96,1391.78 1442.58,1391.78 1443.2,1391.78 1443.82,1163.2 1444.44,1165.23 \n",
       "  1445.06,942.7 1445.68,1169.24 1446.3,950.639 1446.93,1173.17 1447.48,958.007 1448.03,1391.78 1448.58,1391.78 1449.13,1391.78 1449.69,1181.66 1450.24,1391.78 \n",
       "  1450.79,1184.97 1451.34,1186.6 1451.89,1188.22 1452.45,1189.83 1453,1391.78 1453.55,1391.78 1454.1,1194.57 1454.66,1391.78 1455.21,1003.56 1455.76,1199.2 \n",
       "  1456.31,1200.72 1456.86,1012.68 1457.42,1391.78 1457.97,1391.78 1458.52,1391.78 1459.07,1208.15 1459.62,1209.6 1460.18,1030.29 1460.73,1033.14 1461.28,1035.97 \n",
       "  1461.83,1215.28 1462.38,1041.57 1462.94,1218.06 1463.49,1391.78 1464.04,1391.78 1464.59,1222.14 1465.14,1055.17 1465.7,1224.81 1466.25,1060.47 1466.8,1063.08 \n",
       "  1467.35,1391.78 1467.9,1391.78 1468.46,1231.29 1469.01,1391.78 1469.56,1391.78 1470.11,1391.78 1470.67,1236.3 1471.22,1391.78 1471.77,1085.71 1472.32,936.296 \n",
       "  1472.87,789.261 1473.43,1242.34 1473.98,946.998 1474.53,1391.78 1475.08,1099.92 1475.63,957.448 1476.19,1391.78 1476.74,964.278 1477.29,1109.03 1477.84,1251.52 \n",
       "  1478.39,1113.48 1478.95,1253.73 1479.5,980.887 1480.05,1120.01 1480.6,1256.97 1481.15,990.541 1481.71,728.324 1482.26,1260.14 1482.81,1261.18 1483.36,1003.06 \n",
       "  1483.91,1263.23 1484.47,1009.17 1485.02,1265.25 1485.57,1140.72 1486.12,1018.16 1486.68,1391.78 1487.23,1391.78 1487.78,1148.56 1488.33,1391.78 1488.88,1391.78 \n",
       "  1489.44,1391.78 1489.99,1156.14 1490.54,1158 1491.09,1391.78 1491.64,1161.68 1492.2,1391.78 1492.75,1165.3 1493.3,1391.78 1493.85,1168.86 1494.4,1170.62 \n",
       "  1494.96,1391.78 1495.51,1391.78 1496.06,1391.78 1496.61,1177.52 1497.16,1391.78 1497.72,1391.78 1498.27,1182.56 1498.82,1184.21 1499.37,1391.78 1499.92,1187.47 \n",
       "  1500.48,1189.08 1501.03,1190.68 1501.58,1391.78 1502.13,1193.85 1502.69,1195.41 1503.24,1002.13 1503.79,1391.78 1504.34,1391.78 1504.89,1201.54 1505.45,1203.04 \n",
       "  1506,1017.27 1506.55,1206.01 1507.1,1391.78 1507.65,1026.07 1508.21,1210.37 1508.76,1391.78 1509.31,1391.78 1509.86,1037.48 1510.41,1391.78 1510.97,1043.05 \n",
       "  1511.52,1045.81 1512.07,1220.16 1512.62,880.98 1513.17,1222.86 1513.73,1056.6 1514.28,1391.78 1514.83,1061.87 1515.38,1228.13 1515.93,904.7 1516.49,1069.62 \n",
       "  1517.04,1231.98 1517.59,1233.24 1518.08,1076.89 1518.56,1235.43 1519.04,1081.23 1519.53,929.184 1520.01,1085.52 1520.5,1391.78 1520.98,1089.75 1521.46,1091.84 \n",
       "  1521.95,1391.78 1522.43,1243.88 1522.92,1391.78 1523.4,954.201 1523.88,1246.93 1524.37,1391.78 1524.85,1106.08 1525.34,1249.92 1525.82,1250.9 1526.31,1251.88 \n",
       "  1526.79,1391.78 1527.27,1253.81 1527.76,1117.75 1528.24,1255.72 1528.73,1391.78 1529.21,1391.78 1529.69,992.001 1530.18,994.77 1530.66,1391.78 1531.15,1130.76 \n",
       "  1531.63,1132.57 1532.11,1134.36 1532.6,1263.97 1533.08,1264.85 1533.57,1013.62 1534.05,1391.78 1534.54,1018.84 1535.02,1144.88 1535.5,1391.78 1535.99,1148.29 \n",
       "  1536.47,1391.78 1536.96,1391.78 1537.44,1153.31 1537.92,1391.78 1538.41,1156.6 1538.89,924.675 1539.38,1391.78 1539.86,1161.45 1540.34,1163.05 1540.83,1164.63 \n",
       "  1541.31,1166.21 1541.8,1391.78 1542.28,1391.78 1542.77,1170.86 1543.25,1172.39 1543.73,1173.91 1544.22,1175.42 1544.7,1391.78 1545.19,1391.78 1545.67,1391.78 \n",
       "  1546.15,1391.78 1546.64,1391.78 1547.12,1391.78 1547.61,1391.78 1548.09,1187.12 1548.57,1391.78 1549.06,1189.94 1549.54,1191.34 1550.03,1391.78 1550.51,1391.78 \n",
       "  1551,1391.78 1551.48,1391.78 1551.96,1198.19 1552.45,1007.27 1552.93,1200.86 1553.42,1202.18 1553.9,1203.49 1554.38,1017.81 1554.87,1391.78 1555.35,1391.78 \n",
       "  1555.84,1391.78 1556.32,1209.93 1556.8,1030.59 1557.29,1391.78 1557.77,1213.68 1558.26,1214.91 1558.74,864.84 1559.23,1042.92 1559.71,872.113 1560.19,1391.78 \n",
       "  1560.68,1391.78 1561.16,1222.13 1561.65,1223.31 1562.13,1391.78 1562.61,893.337 1563.1,1226.79 1563.58,1391.78 1564.07,1229.06 1564.55,1391.78 1565.03,1070.83 \n",
       "  1565.52,1232.42 1566,1075.26 1566.49,1391.78 1566.97,1235.71 1567.46,1391.78 1567.94,1237.86 1568.42,1391.78 1568.91,1391.78 1569.39,1391.78 1569.88,1092.38 \n",
       "  1570.36,1243.12 1570.84,1244.15 1571.33,1245.17 1571.81,1246.19 1572.3,1247.19 1572.78,1248.2 1573.26,1249.19 1573.75,1391.78 1574.23,1251.16 1574.72,1252.13 \n",
       "  1575.2,1391.78 1575.69,1116.34 1576.17,1255.01 1576.65,1255.96 1577.14,1256.9 1577.62,1123.89 1578.11,1391.78 1578.59,1127.59 1579.07,1129.42 1579.56,1391.78 \n",
       "  1580.09,1262.49 1580.61,1391.78 1581.14,1264.44 1581.67,1139.01 1582.2,1140.92 1582.72,1267.3 1583.25,1391.78 1583.78,1146.56 1584.31,1391.78 1584.84,1391.78 \n",
       "  1585.36,1391.78 1585.89,1153.88 1586.42,1155.67 1586.95,923.128 1587.48,1159.22 1588,1391.78 1588.53,1391.78 1589.06,937.119 1589.59,1166.17 1590.11,1391.78 \n",
       "  1590.64,1169.56 1591.17,1391.78 1591.7,1172.9 1592.23,1174.55 1592.75,960.605 1593.28,1177.82 1593.81,1391.78 1594.34,1391.78 1594.86,1391.78 1595.39,1184.21 \n",
       "  1595.92,1185.78 1596.45,1391.78 1596.98,1188.87 1597.5,1391.78 1598.03,992.068 1598.56,1391.78 1599.09,998.08 1599.61,1391.78 1600.14,1197.89 1600.67,1391.78 \n",
       "  1601.2,1391.78 1601.73,1202.25 1602.25,1391.78 1602.78,1205.1 1603.31,1206.51 1603.84,1207.91 1604.37,1026.81 1604.89,1029.56 1605.42,1212.04 1605.95,1213.4 \n",
       "  1606.48,1391.78 1607,1040.38 1607.53,1217.41 1608.06,1391.78 1608.59,1048.27 1609.12,1221.33 1609.64,1391.78 1610.17,1055.99 1610.7,891.901 1611.23,1391.78 \n",
       "  1611.75,1063.54 1612.28,1228.9 1612.81,1230.13 1613.34,1070.92 1613.87,1391.78 1614.39,1391.78 1614.92,1078.13 1615.45,1236.14 1615.98,1237.31 1616.51,1238.48 \n",
       "  1617.03,1239.64 1617.56,1240.79 1618.09,1391.78 1618.62,1094.33 1619.14,1244.18 1619.67,1245.29 1620.2,1391.78 1620.73,1103.21 1621.26,1248.59 1621.78,1249.67 \n",
       "  1622.31,1391.78 1622.84,1391.78 1623.37,1252.86 1623.89,1391.78 1624.42,1391.78 1624.95,1391.78 1625.48,1391.78 1626.01,1258.03 1626.53,1126.29 1627.06,1260.04 \n",
       "  1627.59,1261.03 1628.12,1391.78 1628.64,1391.78 1629.17,1263.97 1629.7,1264.94 1630.23,1265.89 1630.76,1141.9 1631.28,1143.79 1631.81,1145.66 1632.34,1391.78 \n",
       "  1632.87,906.94 1633.4,1391.78 1633.92,1153.01 1634.45,917.837 1634.98,1391.78 1635.51,1391.78 1636.03,928.489 1636.56,1391.78 1637.09,1163.62 1637.62,1391.78 \n",
       "  1638.15,1167.05 1638.67,1391.78 1639.2,1391.78 1639.73,1172.1 1640.26,1173.76 1640.78,1175.41 1641.31,1177.04 1641.84,1178.66 1642.37,1180.27 1642.9,1391.78 \n",
       "  1643.42,1183.45 1643.95,978.262 1644.48,1391.78 1645.01,984.481 1645.53,1391.78 1646.06,1191.2 1646.59,1192.71 1647.12,1194.21 1647.65,1195.71 1648.18,1391.78 \n",
       "  1648.71,1198.68 1649.24,1200.14 1649.77,1201.6 1650.3,1203.04 1650.84,1017.17 1651.37,1205.9 1651.9,1391.78 1652.43,1208.71 1652.96,1210.1 1653.49,1391.78 \n",
       "  1654.02,1212.85 1654.55,1036.63 1655.08,1391.78 1655.61,867.117 1656.14,1218.22 1656.68,1219.54 1657.21,1391.78 1657.74,1222.15 1658.27,1223.43 1658.8,1057.64 \n",
       "  1659.33,1391.78 1659.86,1391.78 1660.39,1065.2 1660.92,1229.73 1661.45,1230.96 1661.99,1072.58 1662.52,1075 1663.05,1077.41 1663.58,1391.78 1664.11,927.353 \n",
       "  1664.64,1084.51 1665.17,1086.85 1665.7,1240.47 1666.23,1241.62 1666.76,1242.76 1667.29,1391.78 1667.83,951.482 1668.36,1246.13 1668.89,1391.78 1669.42,1248.33 \n",
       "  1669.95,964.704 1670.48,1250.5 1671.01,1391.78 1671.54,1252.64 1672.07,1253.7 1672.6,1391.78 1673.14,983.795 1673.67,1256.82 1674.2,1257.84 1674.73,1391.78 \n",
       "  1675.26,1259.87 1675.79,1260.87 1676.32,1261.87 1676.85,1133.92 1677.38,1135.88 1677.91,1264.8 1678.44,1391.78 1678.98,1391.78 1679.51,1267.67 1680.04,899.115 \n",
       "  1680.57,1147.32 1681.1,1149.18 1681.63,1391.78 1682.16,1391.78 1682.69,1391.78 1683.22,1156.46 1683.75,924.712 1684.29,1160.02 1684.82,931.778 1685.35,1391.78 \n",
       "  1685.88,1165.26 1686.41,942.177 1686.94,1168.69 1687.47,1170.38 1688,1391.78 1688.53,1173.73 1689.06,1391.78 1689.59,1177.03 1690.13,1178.66 1690.66,1180.28 \n",
       "  1691.19,1391.78 1691.72,1391.78 1692.25,1185.06 1692.78,1186.63 1693.31,780.993 1693.84,987.682 1694.37,1191.27 1694.9,993.795 1695.44,996.817 1695.97,1195.8 \n",
       "  1696.5,1391.78 1697.03,1391.78 1697.56,1391.78 1698.09,1201.68 1698.62,1203.13 1699.15,1391.78 1699.68,1391.78 1700.21,838.612 1700.74,1208.79 1701.28,846.98 \n",
       "  1701.81,1211.56 1702.34,1212.93 1702.87,1036.79 1703.4,1391.78 1703.93,1042.16 1704.46,1218.3 1704.99,1219.62 1705.52,1220.92 1706.05,1052.66 1706.59,1391.78 \n",
       "  1707.12,1224.79 1707.65,1391.78 1708.18,1227.31 1708.71,1391.78 1709.24,1229.8 1709.77,1231.03 1710.3,1232.25 1710.83,1233.46 1711.36,1234.67 1711.89,1235.86 \n",
       "  1712.43,1237.04 1712.96,1391.78 1713.49,1391.78 1714.02,1240.54 1714.55,1241.69 1715.08,1093.87 1715.67,1391.78 1716.25,1245.32 1716.84,1391.78 1717.43,1103.75 \n",
       "  1718.02,820.548 1718.6,1108.56 1719.19,1391.78 1719.78,1252.54 1720.36,1253.71 1720.95,1254.87 1721.54,1256.02 1722.12,1257.16 1722.71,1258.28 1723.3,1259.41 \n",
       "  1723.89,1260.52 1724.47,1131.45 1725.06,1133.64 1725.65,1263.79 1726.23,1011.03 1726.82,1265.93 1727.41,1266.99 1728,1391.78 1728.58,1391.78 1729.17,1391.78 \n",
       "  1729.76,909.148 1730.34,1152.49 1730.93,1391.78 1731.52,1391.78 1732.1,1391.78 1732.69,1160.42 1733.28,1162.36 1733.87,1164.29 1734.45,1166.2 1735.04,944.399 \n",
       "  1735.63,948.153 1736.21,1391.78 1736.8,955.568 1737.39,1175.51 1737.97,1391.78 1738.56,1391.78 1739.15,1180.91 1739.74,1391.78 1740.32,1391.78 1740.91,1391.78 \n",
       "  1741.5,1187.89 1742.08,1391.78 1742.67,1191.3 1743.26,596.588 1743.85,1194.65 1744.43,1391.78 1745.02,1197.95 1745.61,1007.36 1746.19,1201.19 1746.78,1202.79 \n",
       "  1747.37,1016.96 1747.95,1020.11 1748.54,1391.78 1749.13,1209.05 1749.72,1391.78 1750.3,852.748 1750.89,1391.78 1751.48,861.757 1752.06,1216.59 1752.65,1218.06 \n",
       "  1753.24,1219.52 1753.82,1050.14 1754.41,1053.01 1755,1055.85 1755.59,1058.67 1756.17,1391.78 1756.76,1391.78 1757.35,1229.39 1757.93,1069.71 1758.52,753.051 \n",
       "  1759.11,1075.1 1759.7,1391.78 1760.28,1236.09 1760.87,1391.78 1761.46,1085.59 1762.04,1239.97 1762.63,1391.78 1763.22,1093.24 1763.8,1095.74 1764.39,1245.01 \n",
       "  1764.98,1246.24 1765.57,1247.46 1766.15,1248.67 1766.74,1107.96 1767.33,1110.34 1767.91,1252.24 1768.5,1391.78 1769.09,1391.78 1769.67,1119.67 1770.26,1391.78 \n",
       "  1770.85,1391.78 1771.44,1126.46 1772.02,1260.24 1772.61,1130.9 1773.2,1133.09 1773.78,878.729 1774.37,1137.41 1774.96,1265.66 1775.55,1141.66 1776.13,1391.78 \n",
       "  1776.72,1145.84 1777.31,1147.9 1777.89,1149.95 1778.48,1151.98 1779.07,1153.99 1779.65,448.601 1780.24,1157.97 1780.83,1159.93 1781.42,931.965 1782,1391.78 \n",
       "  1782.59,1391.78 1783.18,1391.78 1783.76,947.206 1784.35,1171.36 1784.94,954.636 1785.52,1391.78 1786.11,1176.86 1786.7,1178.67 1787.29,1391.78 1787.87,1391.78 \n",
       "  1788.46,976.19 1789.05,1185.73 1789.63,1391.78 1790.22,986.565 1790.78,989.801 1791.34,993.011 1791.9,1391.78 1792.46,606.927 1793.01,807.842 1793.57,1198.69 \n",
       "  1794.13,1200.23 1794.69,1391.78 1795.25,826.273 1795.81,1204.79 1796.37,1391.78 1796.92,1391.78 1797.48,1026.68 1798.04,1029.59 1798.6,1032.48 1799.16,1213.57 \n",
       "  1799.72,1038.2 1800.28,1391.78 1800.83,1217.8 1801.39,1391.78 1801.95,1049.36 1802.51,712.407 1803.07,1391.78 1803.63,1224.64 1804.18,1225.98 1804.74,1227.3 \n",
       "  1805.3,1391.78 1805.86,1391.78 1806.42,1231.21 1806.98,1073.2 1807.54,1233.76 1808.09,1391.78 1808.65,1391.78 1809.21,1083.26 1809.77,1391.78 1810.33,1088.16 \n",
       "  1810.89,1090.59 1811.45,1092.99 1812,1243.58 1812.56,1097.75 1813.12,954.252 1813.68,1391.78 1814.24,1104.74 1814.8,1107.03 1815.36,1250.54 1815.91,1251.67 \n",
       "  1816.47,1391.78 1817.03,1116.02 1817.59,1391.78 1818.15,1256.09 1818.71,1122.57 1819.27,1124.72 1819.82,1259.32 1820.38,1260.38 1820.94,1261.43 1821.5,1391.78 \n",
       "  1822.06,1263.5 1822.62,1391.78 1823.18,1265.54 1823.73,1141.31 1824.29,1391.78 1824.85,1145.3 1825.41,1391.78 1825.97,1391.78 1826.53,1151.16 1827.09,1153.08 \n",
       "  1827.64,1154.98 1828.2,1156.88 1828.76,1391.78 1829.32,1160.61 1829.88,933.133 1830.44,1164.29 1831,1166.11 1831.55,1391.78 1832.11,947.609 1832.67,1171.47 \n",
       "  1833.23,1173.23 1833.79,524.548 1834.35,1176.71 1834.91,1178.42 1835.46,1391.78 1836.02,1391.78 1836.58,1183.49 1837.14,1185.16 1837.7,981.833 1838.26,985.107 \n",
       "  1838.81,1391.78 1839.37,1391.78 1839.93,1193.28 1840.49,1194.86 1841.05,1001.09 1841.61,1004.21 1842.17,1199.54 1842.72,1391.78 1843.28,1202.6 1843.84,641.1 \n",
       "  1844.4,647.095 1844.96,1207.1 1845.52,842.152 1846.08,664.794 1846.63,1211.49 1847.19,855.215 1847.75,1214.36 1848.31,1391.78 1848.87,1042.57 1849.43,1391.78 \n",
       "  1849.99,1048.13 1850.54,880.418 1851.1,1222.69 1851.66,1056.3 1852.22,1225.38 1852.78,1226.71 1853.34,1064.27 1853.9,1391.78 1854.45,1391.78 1855.01,1391.78 \n",
       "  1855.57,916.019 1856.13,1391.78 1856.69,1391.78 1857.25,1236.96 1857.81,1238.2 1858.36,1391.78 1858.92,938.366 1859.48,1241.85 1860.04,1391.78 1860.6,949.142 \n",
       "  1861.16,1245.41 1861.72,956.184 1862.3,1247.79 1862.88,1248.98 1863.46,1250.17 1864.04,970.471 1864.62,1252.51 1865.2,1253.67 1865.78,1254.81 1866.36,984.289 \n",
       "  1866.94,1391.78 1867.52,1258.2 1868.1,1126.83 1868.68,1129.03 1869.27,1131.21 1869.85,1391.78 1870.43,1391.78 1871.01,1137.65 1871.59,1139.76 1872.17,1141.85 \n",
       "  1872.75,1143.93 1873.33,900.183 1873.91,904.265 1874.49,908.312 1875.07,1152.05 1875.65,1154.05 1876.23,448.725 1876.82,1391.78 1877.4,1391.78 1877.98,931.901 \n",
       "  1878.56,1163.75 1879.14,1165.64 1879.72,1391.78 1880.3,1169.38 1880.88,1171.23 1881.46,735.617 1882.04,1391.78 1882.62,746.467 1883.2,1178.46 1883.78,1180.24 \n",
       "  1884.37,972.199 1884.95,1183.73 1885.53,1185.46 1886.11,982.563 1886.69,1391.78 1887.27,788.103 1887.85,1192.23 1888.43,1193.88 1889.01,1391.78 1889.59,1197.16 \n",
       "  1890.17,1391.78 1890.75,1200.38 1891.33,1201.96 1891.92,827.053 1892.5,1205.1 1893.08,1206.65 1893.66,1208.19 1894.24,845.575 1894.82,850.11 1895.4,1212.72 \n",
       "  1895.98,1036.64 1896.56,1039.59 1897.14,1217.15 1897.72,1218.6 1898.3,1048.29 1898.88,1221.46 1899.47,1222.88 1900.05,1224.28 1900.63,1059.55 1901.21,1227.05 \n",
       "  1901.79,1391.78 1902.37,1391.78 1902.95,1231.12 1903.53,1232.45 1904.11,759.742 1904.69,1235.09 1905.27,1391.78 1905.85,775.354 1906.43,1086.13 1907.02,1240.22 \n",
       "  1907.6,1241.48 1908.18,1242.73 1908.76,1243.97 1909.34,1098.61 1909.92,1391.78 1910.5,1391.78 1911.08,1248.82 1911.66,1250 1912.24,1110.58 1912.82,1252.35 \n",
       "  1913.4,1115.23 1913.98,1254.65 1914.56,983.808 1915.15,1391.78 1915.73,1124.3 1916.31,1391.78 1916.89,1260.25 1917.47,1130.9 1918.05,1262.43 1918.63,1391.78 \n",
       "  1919.21,1264.57 1919.79,1391.78 1920.37,1266.67 1920.95,1143.63 1921.53,899.603 1922.11,1147.74 1922.7,1149.76 1923.28,1391.78 1923.86,1153.76 1924.44,1155.74 \n",
       "  1925.02,1157.7 1925.6,1159.64 1926.18,701.145 1926.76,1163.48 1927.34,1391.78 1927.92,1391.78 1928.5,1169.12 1929.08,1170.97 1929.66,1172.8 1930.25,740.297 \n",
       "  1930.83,1176.42 1931.41,1178.21 1931.99,1179.99 1932.57,1181.74 1933.15,1391.78 1933.73,1185.22 1934.31,1391.78 1934.89,985.482 1935.47,1190.32 1936.05,1191.99 \n",
       "  1936.54,1391.78 1937.03,997.77 1937.52,609.266 1938.01,1003.26 1938.5,1198.88 1938.99,434.015 1939.48,1011.36 1939.96,1202.9 1940.45,1391.78 1940.94,1205.53 \n",
       "  1941.43,1206.84 1941.92,1208.13 1942.41,1209.41 1942.9,1210.69 1943.39,1032.13 1943.88,1213.21 1944.36,1214.46 1944.85,1039.62 1945.34,867.23 1945.83,870.899 \n",
       "  1946.32,1219.37 1946.81,1220.58 1947.3,1391.78 1947.79,1054.14 1948.28,1224.14 1948.76,1391.78 1949.25,1226.48 1949.74,1063.49 1950.23,1065.78 1950.72,1229.92 \n",
       "  1951.21,1231.05 1951.7,1072.57 1952.19,1233.29 1952.68,1234.4 1953.16,1079.22 1953.65,926.223 1954.14,1391.78 1954.63,1085.74 1955.12,1087.88 1955.61,1240.89 \n",
       "  1956.1,1241.95 1956.59,1391.78 1957.07,1244.04 1957.56,1245.07 1958.05,1391.78 1958.54,1102.45 1959.03,1391.78 1959.52,1249.13 1960.01,1250.13 1960.5,1251.12 \n",
       "  1960.99,1391.78 1961.47,836.967 1961.96,1254.05 1962.45,707.929 1962.94,1120.15 1963.43,987.19 1963.92,1391.78 1964.41,1258.8 1964.9,1259.73 1965.39,1391.78 \n",
       "  1965.87,1391.78 1966.36,1003.87 1966.85,1263.38 1967.34,1264.28 1967.83,1391.78 1968.32,1140.34 1968.81,1142.09 1969.3,1143.84 1969.79,1391.78 1970.27,902.807 \n",
       "  1970.76,906.227 1971.25,1150.7 1971.74,912.994 1972.23,1154.06 1972.72,1391.78 1973.21,688.562 1973.7,1159.02 1974.19,1160.64 1974.67,1162.26 1975.16,1391.78 \n",
       "  1975.65,939.135 1976.14,942.3 1976.63,1168.61 1977.12,726.956 1977.61,951.665 1978.1,1173.26 1978.59,1174.79 1979.07,1391.78 1979.56,1177.82 1980.05,966.841 \n",
       "  1980.54,1180.8 1981.03,1182.27 1981.52,1183.74 1982.01,1185.19 1982.5,1186.64 1982.99,1391.78 1983.47,1189.5 1983.96,1391.78 1984.45,1391.78 1984.94,1193.71 \n",
       "  1985.43,1391.78 1985.92,1196.47 1986.41,1197.84 1986.9,1391.78 1987.39,1009.3 1987.87,1201.88 1988.36,1203.21 1988.85,1391.78 1989.34,1205.84 1989.83,1022.49 \n",
       "  1990.32,1391.78 1990.81,1027.64 1991.3,1030.18 1991.79,1032.71 1992.27,1213.5 1992.76,683.648 1993.25,1040.19 1993.74,1042.65 1994.23,1045.09 1994.72,1047.52 \n",
       "  1995.21,1220.85 1995.7,882.581 1996.19,1391.78 1996.67,1057.05 1997.16,1059.39 1997.65,1226.75 1998.14,1227.9 1998.63,1391.78 1999.23,1230.44 1999.82,1231.81 \n",
       "  2000.42,1391.78 2001.02,1234.53 2001.61,1235.87 2002.21,1391.78 2002.81,1391.78 2003.4,1087.87 2004,1241.13 2004.6,943.665 2005.2,799.39 2005.79,1391.78 \n",
       "  2006.39,809.455 2006.99,1103.1 2007.58,962.457 2008.18,824.232 2008.78,1110.43 2009.37,1112.83 2009.97,1253.5 2010.57,1254.68 2011.16,983.971 2011.76,1391.78 \n",
       "  2012.36,1124.53 2012.95,1126.81 2013.55,1260.43 2014.15,1261.55 2014.75,1391.78 2015.34,879.687 2015.94,1391.78 2016.54,1265.93 2017.13,1142.23 2017.73,1144.36 \n",
       "  2018.33,1146.47 2018.92,1391.78 2019.52,1391.78 2020.12,1391.78 2020.71,1154.74 2021.31,921.737 2021.91,1391.78 2022.5,1391.78 2023.1,475.546 2023.7,1391.78 \n",
       "  2024.29,1391.78 2024.89,1168.54 2025.49,1391.78 2026.09,513.969 2026.68,1391.78 2027.28,1176.06 2027.88,750.13 2028.47,1179.72 2029.07,1181.53 2029.67,1183.33 \n",
       "  2030.26,1391.78 2030.86,1186.87 2031.46,1188.62 2032.05,1190.35 2032.65,1391.78 2033.25,1193.77 2033.84,802.818 2034.44,1391.78 2035.04,619.838 2035.64,1009.1 \n",
       "  2036.23,1202.08 2036.83,1391.78 2037.43,1018.82 2038.02,652.211 2038.62,841.836 2039.22,1391.78 2039.81,1391.78 2040.41,1034.46 2041.01,1037.5 2041.6,1391.78 \n",
       "  2042.2,1391.78 2042.8,1046.49 2043.39,1391.78 2043.99,1052.36 2044.59,1223.52 2045.19,1058.13 2045.78,1060.97 2046.38,1227.79 2046.98,904.001 2047.57,746.956 \n",
       "  2048.17,1391.78 2048.77,1074.85 2049.36,1234.67 2049.96,1080.23 2050.56,1237.34 2051.15,1391.78 2051.75,1088.14 2052.35,1241.26 2052.94,1093.3 2053.54,1391.78 \n",
       "  2054.14,804.954 2054.73,809.961 2055.33,1103.35 2055.93,1105.81 2056.53,966.49 2057.12,1251.23 2057.72,1252.43 2058.32,1391.78 2058.91,1254.8 2059.51,1120.14 \n",
       "  2060.11,853.141 2060.7,1258.27 2061.3,994.665 2061.9,1129.3 2062.49,1391.78 2063.09,1004.74 2063.69,1263.87 2064.28,1264.96 2064.88,637.346 2065.48,1267.12 \n",
       "  2066.08,1144.58 2066.67,656.491 2067.27,905.771 2067.87,909.917 2068.46,914.028 2069.06,681.264 2069.66,1156.96 2070.25,926.152 2070.85,1160.95 2071.45,705.203 \n",
       "  2072.04,1164.88 2072.64,1166.81 2073.24,945.679 2073.83,1391.78 2074.43,1172.52 2075.03,1174.39 2075.59,744.839 2076.15,1177.87 2076.71,1391.78 2077.27,1391.78 \n",
       "  2077.83,1391.78 2078.39,770.375 2078.96,158.935 2079.52,780.304 2080.08,1189.59 2080.64,1391.78 2081.2,993.863 2081.76,799.69 2082.32,1391.78 2082.88,1197.57 \n",
       "  2083.44,1199.13 2084.01,1009.57 2084.57,1012.64 2085.13,1203.73 2085.69,832.149 2086.25,1391.78 2086.81,841.092 2087.37,1391.78 2087.93,1211.15 2088.49,1033.42 \n",
       "  2089.06,1391.78 2089.62,1039.15 2090.18,1216.88 2090.74,1391.78 2091.3,1219.67 2091.86,1221.06 2092.42,1222.42 2092.98,1055.78 2093.54,1225.13 2094.1,1226.47 \n",
       "  2094.67,1227.79 2095.23,1391.78 2095.79,423.568 2096.35,1391.78 2096.91,1074.2 2097.47,1234.27 2098.03,1391.78 2098.59,1236.78 2099.15,1238.03 2099.72,1239.26 \n",
       "  2100.28,1240.48 2100.84,1091.61 2101.4,1242.9 2101.96,1244.1 2102.52,1245.28 2103.08,955.801 2103.64,1247.62 2104.2,1391.78 2104.77,1108.07 2105.33,1391.78 \n",
       "  2105.89,1391.78 2106.45,976.37 2107.01,1117.06 2107.57,710.49 2108.13,1256.62 2108.69,1391.78 2109.25,1258.78 2109.81,1259.84 2110.38,999.143 2110.94,1261.95 \n",
       "  2111.5,1005.42 2112.06,1391.78 2112.62,1265.05 2113.18,1266.07 2113.74,1267.08 2114.3,649.551 2114.86,1146.36 2115.43,1148.33 2115.99,908.775 2116.55,912.649 \n",
       "  2117.11,1154.14 2117.67,920.306 2118.23,924.088 2118.79,1391.78 2119.35,1161.67 2119.91,1163.52 2120.48,1391.78 2121.04,942.548 2121.6,946.152 2122.16,1170.76 \n",
       "  2122.72,953.273 2123.28,1174.29 2123.84,960.28 2124.4,963.742 2124.96,1391.78 2125.52,1181.18 2126.09,1182.87 2126.65,1184.55 2127.21,1186.21 2127.77,983.935 \n",
       "  2128.33,1189.5 2128.89,1391.78 2129.45,794.616 2130.01,996.866 2130.57,1195.91 2131.14,1003.18 2131.7,1391.78 2132.26,1391.78 2132.82,1202.12 2133.38,639.209 \n",
       "  2133.94,1205.15 2134.5,651.235 2135.06,1391.78 2135.62,1027.43 2136.19,1211.07 2136.75,1033.25 2137.31,1391.78 2137.87,1391.78 2138.43,1041.81 2138.99,523.862 \n",
       "  2139.55,1391.78 2140.11,708.542 2140.67,1222.34 2141.23,1391.78 2141.8,1225.05 2142.36,1060.99 2142.92,1391.78 2143.48,1229.03 2144.04,1391.78 2144.6,751.178 \n",
       "  2145.16,756.317 2145.72,761.414 2146.28,1235.46 2146.85,1081.64 2147.74,1238.7 2148.64,938.414 2149.54,944.226 2150.44,1244.51 2151.34,1246.4 2152.24,817.699 \n",
       "  2153.14,1108.42 2154.04,1251.92 2154.94,1253.71 2155.83,1119.18 2156.73,1257.23 2157.63,993.298 2158.53,1260.66 2159.43,1262.34 2160.33,1136.21 2161.23,887.197 \n",
       "  2162.13,1018.2 2163.03,900.052 2163.92,1149.07 2164.82,433.376 2165.72,1155.25 2166.62,924.789 2167.52,700.272 2168.42,709.137 2169.32,717.889 2170.22,1391.78 \n",
       "  2171.12,1172.88 2172.01,1175.68 2172.91,1178.45 2173.81,970.591 2174.71,1183.89 2175.61,981.322 2176.51,1189.18 2177.41,791.777 2178.31,207.155 2179.21,1391.78 \n",
       "  2180.1,1006.97 2181,1011.9 2181.9,1204.28 2182.8,836.477 2183.7,1209.05 2184.6,1391.78 2185.5,857.563 2186.4,1215.99 2187.3,697.637 2188.19,1220.47 \n",
       "  2189.09,884.437 2189.99,1224.84 2190.89,1062.17 2191.79,1391.78 2192.69,909.959 2193.59,1233.23 2194.49,1078.75 2195.38,1391.78 2196.28,1391.78 2197.18,1090.64 \n",
       "  2198.08,1391.78 2198.98,1391.78 2199.88,812.36 2200.78,1105.79 2201.68,968.287 2202.58,973.717 2203.47,979.077 2204.37,576.952 2205.27,1123.66 2206.17,1127.09 \n",
       "  2207.07,1130.49 2207.97,875.889 2208.87,1009.82 2209.77,1266.1 2210.67,1267.71 2211.56,901.841 2212.46,1149.95 2213.36,914.324 2214.26,1156.11 2215.16,1159.14 \n",
       "  2216.06,1391.78 2216.96,1391.78 2217.86,1391.78 2218.76,1170.84 2219.65,1173.67 2220.55,1176.47 2221.45,754.119 2222.35,552.464 2223.25,1184.64 2224.15,1187.3 \n",
       "  2225.05,584.334 2225.95,993.235 2226.85,604.905 2227.74,1197.59 2228.64,1200.08 2229.54,1013.28 2230.44,831.313 2231.34,1207.36 2232.24,1027.66 2233.14,1212.05 \n",
       "  2234.04,1214.36 2234.94,1391.78 2235.83,1218.88 2236.73,709.03 2237.63,886.283 2238.53,726.424 2239.43,1063.37 2240.33,1229.68 2241.23,1391.78 2242.13,1233.81 \n",
       "  2243.03,767.996 2243.92,1391.78 2244.82,1087.84 2245.72,941.708 2246.62,1095.58 2247.52,1391.78 2248.42,1247.45 2249.32,1106.83 2250.22,969.829 2251.12,1252.94 \n",
       "  2252.01,1391.78 2252.91,985.851 2253.81,1391.78 2254.71,996.193 2255.61,1131.44 2256.51,1263.28 2257.41,1264.93 2258.31,1266.55 2259.21,897.285 2260.1,1391.78 \n",
       "  2261,1150.83 2261.9,1153.92 2262.04,917.005 2262.18,681.028 2262.32,1155.34 2262.46,919.825 2262.59,1156.27 2262.73,921.696 2262.87,1157.21 2263.01,1157.67 \n",
       "  2263.15,924.488 2263.29,692.231 2263.42,1159.06 2263.56,1159.52 2263.7,1391.78 2263.84,1391.78 2263.98,930.023 2264.12,1161.36 2264.25,1391.78 2264.39,473.747 \n",
       "  2264.53,475.568 2264.67,1163.18 2264.81,935.492 2264.95,1391.78 2265.08,1391.78 2265.22,1164.99 2265.36,1165.44 2265.5,1165.89 2265.64,1166.34 2265.78,941.791 \n",
       "  2265.91,1167.23 2266.05,943.574 2266.19,944.463 2266.33,1168.57 2266.47,723.463 2266.61,1169.45 2266.74,1169.89 2266.88,727.433 2267.02,949.762 2267.16,1391.78 \n",
       "  2267.3,1171.65 2267.44,1172.09 2267.57,1391.78 2267.71,1172.96 2267.85,954.997 2267.99,955.863 2268.13,1391.78 2268.27,1174.69 2268.4,1391.78 2268.54,526.841 \n",
       "  2268.68,1175.98 2268.82,1176.41 2268.96,1176.83 2269.1,748.209 2269.23,1177.68 2269.37,1391.78 2269.51,1178.53 2269.65,1178.96 2269.79,1391.78 2269.93,1391.78 \n",
       "  2270.06,757.093 2270.2,1391.78 2270.34,1181.06 2270.48,1181.48 2270.62,972.004 2270.76,553.891 2270.89,1182.73 2271.03,974.498 2271.17,975.326 2271.31,976.152 \n",
       "  2271.45,976.976 2271.59,977.799 2271.72,1185.2 2271.86,1391.78 2272,980.258 2272.14,1391.78 2272.28,981.889 2272.42,778.162 2272.55,575.244 2272.69,1391.78 \n",
       "  2272.83,985.132 2272.97,1188.86 2273.11,986.744 2273.25,1391.78 2273.38,988.35 2273.52,1190.47 2273.66,588.114 2273.8,790.227 2273.94,791.42 2274.08,1192.06 \n",
       "  2274.21,1192.46 2274.35,1192.85 2274.49,796.17 2274.63,797.352 2274.77,600.78 2274.91,997.067 2275.04,997.85 2275.18,1391.78 2275.32,1391.78 2275.46,1195.99 \n",
       "  2275.6,1196.38 2275.74,1391.78 2275.87,1002.52 2276.01,809.04 2276.15,1391.78 2276.29,1391.78 2276.43,1198.69 2276.57,1199.07 2276.7,1199.45 2276.84,1199.84 \n",
       "  2276.98,1200.22 2277.12,818.224 2277.26,1200.98 2277.4,1201.36 2277.53,1011.68 2277.67,1391.78 2277.81,1013.19 2277.95,1202.86 2278.09,826.142 2278.23,1391.78 \n",
       "  2278.36,828.384 2278.5,642.074 2278.64,1391.78 2278.78,271.677 2278.92,1205.47 2279.06,462.061 2279.19,1020.63 2279.33,1391.78 2279.47,1206.94 \n",
       "  \"/>\n",
       "<polygon clip-path=\"url(#clip7001)\" points=\"\n",
       "1958.43,251.724 2249.26,251.724 2249.26,130.764 1958.43,130.764 \n",
       "  \" fill=\"#ffffff\" fill-rule=\"evenodd\" fill-opacity=\"1\"/>\n",
       "<polyline clip-path=\"url(#clip7001)\" style=\"stroke:#000000; stroke-width:4; stroke-opacity:1; fill:none\" points=\"\n",
       "  1958.43,251.724 2249.26,251.724 2249.26,130.764 1958.43,130.764 1958.43,251.724 \n",
       "  \"/>\n",
       "<polyline clip-path=\"url(#clip7001)\" style=\"stroke:#009af9; stroke-width:4; stroke-opacity:1; fill:none\" points=\"\n",
       "  1982.43,191.244 2126.43,191.244 \n",
       "  \"/>\n",
       "<g clip-path=\"url(#clip7001)\">\n",
       "<text style=\"fill:#000000; fill-opacity:1; font-family:Arial,Helvetica Neue,Helvetica,sans-serif; font-size:48px; text-anchor:start;\" transform=\"rotate(0, 2150.43, 208.744)\" x=\"2150.43\" y=\"208.744\">y1</text>\n",
       "</g>\n",
       "</svg>\n"
      ]
     },
     "execution_count": 11,
     "metadata": {},
     "output_type": "execute_result"
    }
   ],
   "source": [
    "plot(x->abs(exp(x) - exponencial4(x))/exp(x), -10.0, 10.0)"
   ]
  },
  {
   "cell_type": "markdown",
   "metadata": {},
   "source": [
    "## Cálculo de $\\pi$"
   ]
  },
  {
   "cell_type": "markdown",
   "metadata": {},
   "source": [
    "Um tópico bastante interessante de computação matemática é o cálculo do valor de $\\pi$. O interesse no cálculo de $\\pi$ é antigo, e existem várias maneiras de fazê-lo. Além disso, a busca pelo valor de $\\pi$ com a maior quantidade de dígitos corretos é uma disputa matemática bastante acirrada."
   ]
  },
  {
   "cell_type": "markdown",
   "metadata": {},
   "source": [
    "Das maneiras de calcular $\\pi$, uma das mais interessantes, em minha opinião, é através da identidade\n",
    "$$ \\arctan 1 = \\frac{\\pi}{4} \\qquad \\Rightarrow \\qquad \\pi = 4 \\arctan 1. $$"
   ]
  },
  {
   "cell_type": "markdown",
   "metadata": {},
   "source": [
    "Agora, utilizamos a derivada de $\\arctan$:\n",
    "$$ \\frac{\\mbox{d}}{\\mbox{d}x}\\arctan x = \\frac{1}{1+x^2}, $$\n",
    "e a expansão da fração para $|x| < 1$:\n",
    "$$ \\frac{1}{1+x^2} = 1 - x^2 + x^4 - x^6 + \\dots + (-1)^n x^{2n} + \\dots. $$"
   ]
  },
  {
   "cell_type": "markdown",
   "metadata": {},
   "source": [
    "Integrando, temos\n",
    "$$ \\arctan x = x - \\frac{x^3}{3} + \\frac{x^5}{5} - \\frac{x^7}{7} + \\dots + (-1)^n\\frac{x^{2n+1}}{2n+1} + \n",
    "\\dots$$"
   ]
  },
  {
   "cell_type": "markdown",
   "metadata": {},
   "source": [
    "É possível mostrar que essa série converge para $x = 1$ também, de modo que\n",
    "$$ \\frac{\\pi}{4} = \\arctan 1 = 1 - \\frac{1}{3} + \\frac{1}{5} - \\frac{1}{7} + \\dots \\frac{(-1)^n}{2n+1} + \\dots. $$"
   ]
  },
  {
   "cell_type": "markdown",
   "metadata": {},
   "source": [
    "Utilizando conceitos parecidos com o da expansão da exponencial, podemos calcular $\\pi$ sem precisar passar um valor de $n$, **porém**, essa convergência é muito lenta. No exemplo abaixo, colocaremos uma condição de parada para $n > 1.000.000.000$."
   ]
  },
  {
   "cell_type": "code",
   "execution_count": 27,
   "metadata": {},
   "outputs": [
    {
     "data": {
      "text/plain": [
       "pi_atan (generic function with 1 method)"
      ]
     },
     "execution_count": 27,
     "metadata": {},
     "output_type": "execute_result"
    }
   ],
   "source": [
    "function pi_atan()\n",
    "    S = 1.0\n",
    "    n = 1\n",
    "    σ = -1\n",
    "    t = σ/(2n+1)\n",
    "    while S + t != S\n",
    "        S += t\n",
    "        σ = -σ\n",
    "        n += 1\n",
    "        t = σ/(2n+1)\n",
    "        if n > 1_000_000_000_000\n",
    "            break\n",
    "        end\n",
    "    end\n",
    "    return 4S\n",
    "end"
   ]
  },
  {
   "cell_type": "code",
   "execution_count": 28,
   "metadata": {},
   "outputs": [
    {
     "name": "stderr",
     "output_type": "stream",
     "text": [
      "WARNING: Force throwing a SIGINT\n"
     ]
    },
    {
     "ename": "InterruptException",
     "evalue": "InterruptException:",
     "output_type": "error",
     "traceback": [
      "InterruptException:",
      "",
      "Stacktrace:",
      " [1] + at ./float.jl:395 [inlined]",
      " [2] pi_atan() at ./In[27]:6",
      " [3] top-level scope at In[28]:1"
     ]
    }
   ],
   "source": [
    "pi_atan()"
   ]
  },
  {
   "cell_type": "code",
   "execution_count": 26,
   "metadata": {},
   "outputs": [
    {
     "name": "stdout",
     "output_type": "stream",
     "text": [
      "  2.454564 seconds (6 allocations: 192 bytes)\n"
     ]
    },
    {
     "data": {
      "text/plain": [
       "4.98283636574115e-10"
      ]
     },
     "execution_count": 26,
     "metadata": {},
     "output_type": "execute_result"
    }
   ],
   "source": [
    "@time pi_atan() - pi"
   ]
  },
  {
   "cell_type": "markdown",
   "metadata": {},
   "source": [
    "O valor é, de fato, calculado até uma aproximação razoável, mas demora muito e leva muitas iterações.\n",
    "Por sorte, existem dezenas de outras maneiras de se calcular $\\pi$."
   ]
  },
  {
   "cell_type": "markdown",
   "metadata": {},
   "source": [
    "Uma dessas maneiras é a série\n",
    "$$ \\pi = \\sqrt{12}\\bigg(1 - \\frac{1}{3\\times 3} + \\frac{1}{5\\times 3^2} - \\frac{1}{7\\times 3^3} + \\frac{1}{9\\times 3^4} - \\dots\\bigg) = \\sqrt{12}\\sum_{k=0}^{\\infty}\\frac{(-1)^k}{(2k+1)3^k}. $$"
   ]
  },
  {
   "cell_type": "code",
   "execution_count": 30,
   "metadata": {},
   "outputs": [
    {
     "data": {
      "text/plain": [
       "pi_madhava (generic function with 1 method)"
      ]
     },
     "execution_count": 30,
     "metadata": {},
     "output_type": "execute_result"
    }
   ],
   "source": [
    "function pi_madhava()\n",
    "    S = 1.0\n",
    "    third = 1.0/3.0\n",
    "    σ = -1\n",
    "    pow_third = third\n",
    "    t = σ * third * third\n",
    "    n = 1\n",
    "    while S + t != S\n",
    "        S += t\n",
    "        n += 1\n",
    "        pow_third *= third\n",
    "        σ = -σ\n",
    "        t = σ * pow_third / (2n + 1)\n",
    "    end\n",
    "    println(\"n = $n\") # Usar para mostrar quantas iterações\n",
    "    return sqrt(12) * S\n",
    "end"
   ]
  },
  {
   "cell_type": "code",
   "execution_count": 31,
   "metadata": {},
   "outputs": [
    {
     "name": "stdout",
     "output_type": "stream",
     "text": [
      "n = 31\n"
     ]
    },
    {
     "data": {
      "text/plain": [
       "8.881784197001252e-16"
      ]
     },
     "execution_count": 31,
     "metadata": {},
     "output_type": "execute_result"
    }
   ],
   "source": [
    "pi_madhava() - pi"
   ]
  },
  {
   "cell_type": "markdown",
   "metadata": {},
   "source": [
    "Note que com 31 iterações já chegamos num valor de $\\pi$ decente."
   ]
  },
  {
   "cell_type": "code",
   "execution_count": 32,
   "metadata": {},
   "outputs": [
    {
     "data": {
      "text/plain": [
       "pi_madhava (generic function with 1 method)"
      ]
     },
     "execution_count": 32,
     "metadata": {},
     "output_type": "execute_result"
    }
   ],
   "source": [
    "function pi_madhava()\n",
    "    S = 1.0\n",
    "    terco = 1/3\n",
    "    M = -terco\n",
    "    t = M / 3\n",
    "    n = 1\n",
    "    while S + t != S\n",
    "        S += t\n",
    "        n += 1\n",
    "        M = -M * terco\n",
    "        t = M / (2n + 1)\n",
    "    end\n",
    "    println(\"n = $n\") # Usar para mostrar quantas iterações\n",
    "    return sqrt(12) * S\n",
    "end"
   ]
  },
  {
   "cell_type": "code",
   "execution_count": 33,
   "metadata": {},
   "outputs": [
    {
     "name": "stdout",
     "output_type": "stream",
     "text": [
      "n = 31\n"
     ]
    },
    {
     "data": {
      "text/plain": [
       "3.141592653589794"
      ]
     },
     "execution_count": 33,
     "metadata": {},
     "output_type": "execute_result"
    }
   ],
   "source": [
    "pi_madhava()"
   ]
  },
  {
   "cell_type": "markdown",
   "metadata": {},
   "source": [
    "### $\\pi$ com BigFloat"
   ]
  },
  {
   "cell_type": "markdown",
   "metadata": {},
   "source": [
    "Como dito anteriormente, existe uma busca por $\\pi$ com diversas casas decimais corretas. Você já deve ter percebido que o Julia traz uma implementação própria de $\\pi$, chamada através de `pi`. Essa aproximação pode ser vista com `BigFloat` também."
   ]
  },
  {
   "cell_type": "code",
   "execution_count": 34,
   "metadata": {},
   "outputs": [
    {
     "data": {
      "text/plain": [
       "3.141592653589793238462643383279502884197169399375105820974944592307816406286198"
      ]
     },
     "execution_count": 34,
     "metadata": {},
     "output_type": "execute_result"
    }
   ],
   "source": [
    "BigFloat(pi)"
   ]
  },
  {
   "cell_type": "markdown",
   "metadata": {},
   "source": [
    "Podemos modificar nossa implementação para buscar $\\pi$ com `BigFloat` também."
   ]
  },
  {
   "cell_type": "code",
   "execution_count": 45,
   "metadata": {},
   "outputs": [
    {
     "data": {
      "text/plain": [
       "pi_madhava_BF (generic function with 1 method)"
      ]
     },
     "execution_count": 45,
     "metadata": {},
     "output_type": "execute_result"
    }
   ],
   "source": [
    "function pi_madhava_BF()\n",
    "    S = BigFloat(1.0)\n",
    "    third = BigFloat(1.0/3.0)\n",
    "    σ = -1\n",
    "    pow_third = third\n",
    "    t = σ * third * third\n",
    "    n = 1\n",
    "    while S + t != S\n",
    "        S += t\n",
    "        n += 1\n",
    "        pow_third *= third\n",
    "        σ = -σ\n",
    "        t = σ * pow_third / (2n + 1)\n",
    "    end\n",
    "    println(\"n = $n\") # Usar para mostrar quantas iterações\n",
    "    return sqrt(BigFloat(12.0)) * S\n",
    "end"
   ]
  },
  {
   "cell_type": "code",
   "execution_count": 47,
   "metadata": {},
   "outputs": [
    {
     "name": "stdout",
     "output_type": "stream",
     "text": [
      "n = 641\n"
     ]
    },
    {
     "data": {
      "text/plain": [
       "3.645186378176063722270482997117532622639459655962118750281208068549077821224133532241676031223167727614758311426783650736587813383024163747310830806565772044178140785011670055242124045048103979296091678379084391470568239198744517334597791699323103002727803341736677490769931200442931381838462863698426363621082e-17"
      ]
     },
     "execution_count": 47,
     "metadata": {},
     "output_type": "execute_result"
    }
   ],
   "source": [
    "setprecision(2^10)\n",
    "pi_madhava_BF() - pi"
   ]
  },
  {
   "cell_type": "code",
   "execution_count": 40,
   "metadata": {},
   "outputs": [
    {
     "data": {
      "text/plain": [
       "308"
      ]
     },
     "execution_count": 40,
     "metadata": {},
     "output_type": "execute_result"
    }
   ],
   "source": [
    "setprecision(2^10)\n",
    "round(Int, -log10(eps(BigFloat)))"
   ]
  },
  {
   "cell_type": "code",
   "execution_count": 42,
   "metadata": {},
   "outputs": [
    {
     "name": "stdout",
     "output_type": "stream",
     "text": [
      "n = 641\n",
      "Com 1024 bits obtive 308 casas\n",
      "n = 1286\n",
      "Com 2048 bits obtive 616 casas\n",
      "n = 2578\n",
      "Com 4096 bits obtive 1231 casas\n",
      "n = 5161\n",
      "Com 8192 bits obtive 2466 casas\n",
      "n = 10329\n",
      "Com 16384 bits obtive 4932 casas\n",
      "n = 20666\n",
      "Com 32768 bits obtive 9862 casas\n",
      "n = 41339\n",
      "Com 65536 bits obtive 19726 casas\n",
      "n = 82687\n",
      "Com 131072 bits obtive 39455 casas\n"
     ]
    },
    {
     "ename": "InterruptException",
     "evalue": "InterruptException:",
     "output_type": "error",
     "traceback": [
      "InterruptException:",
      "",
      "Stacktrace:",
      " [1] _string_n at ./strings/string.jl:60 [inlined]",
      " [2] (::getfield(Base.MPFR, Symbol(\"##BigFloat#3#4\")))(::Int64, ::Type) at ./mpfr.jl:115",
      " [3] Type at ./mpfr.jl:112 [inlined]",
      " [4] *(::BigFloat, ::Int64) at ./mpfr.jl:386",
      " [5] * at ./mpfr.jl:390 [inlined]",
      " [6] pi_madhava_BF() at ./In[35]:13",
      " [7] top-level scope at ./In[42]:3"
     ]
    }
   ],
   "source": [
    "for n = 10:20\n",
    "    setprecision(2^n)\n",
    "    E = max(pi_madhava_BF() - BigFloat(pi), eps(BigFloat))\n",
    "    casas = round(Int, -log10(E))\n",
    "    println(\"Com $(2^n) bits obtive $casas casas\")\n",
    "end"
   ]
  },
  {
   "cell_type": "code",
   "execution_count": 53,
   "metadata": {},
   "outputs": [
    {
     "name": "stdout",
     "output_type": "stream",
     "text": [
      "n = 20666\n",
      "  0.183179 seconds (206.71 k allocations: 420.990 MiB, 21.29% gc time)\n"
     ]
    }
   ],
   "source": [
    "setprecision(2^15)\n",
    "@time pi_madhava_BF();"
   ]
  },
  {
   "cell_type": "markdown",
   "metadata": {},
   "source": [
    "# Exercícios\n",
    "\n",
    "Faça os exercícios do capítulo 1 do livro Cálculo Numérico de Ruggiero e Lopes."
   ]
  },
  {
   "cell_type": "markdown",
   "metadata": {
    "collapsed": true
   },
   "source": [
    "1. Calcule a expansão de Taylor das seguintes funções, em torno do ponto a dado:\n",
    "\n",
    "  - $f(x) = x^2 - 5x + 6$, $a = 2$;\n",
    "  - $g(x) = x^3 - 3x^2 + 3x - 1$, $a = 1$;\n",
    "  - $h(x) = e^x$, $a = 0$;\n",
    "  - $z(x) = \\ln (x)$, $a = 1$;\n",
    "\n",
    "5. Considere as seguintes séries e sequências convergentes:\n",
    "\n",
    "  - $2 = 1 + \\frac{1}{2} + \\frac{1}{4} + \\frac{1}{8} + \\dots + \\frac{1}{2^n} + \\dots$.\n",
    "  - $a_{n+1} = \\frac{a_n}{2} + \\frac{1}{a_n}$, com $a_1 = 1$.\n",
    "  - $b_{n+1} = \\sqrt{b_n + 1}$, com $b_1 = 1$.\n",
    "  - $\\phi_n = \\dfrac{F_n}{F_{n-1}}$, onde $F_n$ é o n-ésimo termo de Fibonacci.\n",
    "  - Alguma série para $\\pi$ da internet.\n",
    "\n",
    "  Para cada uma delas, faça os seguintes itens\n",
    "\n",
    "  - Implemente uma função que recebe um número $n$ e calcula a soma parcial $s_n$\n",
    "    se o item for uma série, ou n-ésimo elemento se o item for uma sequência.\n",
    "    Faça sua função ser o mais econômica possível e evite overflows.\n",
    "  - Faça um gráfico do erro pelo número de termos $n$.\n",
    "  - Dado $\\varepsilon > 0$, é possível determinar n de modo que o erro seja menor que $\\varepsilon$?\n",
    "    Veja quantos casos você consegue fazer isso, ou encontrar algum limitante\n",
    "    desse tipo."
   ]
  },
  {
   "cell_type": "code",
   "execution_count": 59,
   "metadata": {},
   "outputs": [
    {
     "data": {
      "text/plain": [
       "3.098412698412698"
      ]
     },
     "execution_count": 59,
     "metadata": {},
     "output_type": "execute_result"
    }
   ],
   "source": [
    "2 * (1 + 1/3 + 2 / 15 + 6 / 15/7 + 24 / 15 / 7 /9)"
   ]
  },
  {
   "cell_type": "code",
   "execution_count": 66,
   "metadata": {},
   "outputs": [
    {
     "data": {
      "text/plain": [
       "0"
      ]
     },
     "execution_count": 66,
     "metadata": {},
     "output_type": "execute_result"
    }
   ],
   "source": [
    "fat_impar = 1\n",
    "n = 0"
   ]
  },
  {
   "cell_type": "code",
   "execution_count": 84,
   "metadata": {},
   "outputs": [
    {
     "data": {
      "text/plain": [
       "-8006580162858909745"
      ]
     },
     "execution_count": 84,
     "metadata": {},
     "output_type": "execute_result"
    }
   ],
   "source": [
    "n = n + 1\n",
    "fat_impar = fat_impar * (2n + 1)"
   ]
  },
  {
   "cell_type": "code",
   "execution_count": 85,
   "metadata": {},
   "outputs": [
    {
     "data": {
      "text/plain": [
       "duplo_fatorial (generic function with 1 method)"
      ]
     },
     "execution_count": 85,
     "metadata": {},
     "output_type": "execute_result"
    }
   ],
   "source": [
    "function duplo_fatorial(n)\n",
    "    if n == 1 || n == 2\n",
    "        return n\n",
    "    end\n",
    "    return duplo_fatorial(n - 2) * n\n",
    "end"
   ]
  },
  {
   "cell_type": "code",
   "execution_count": 99,
   "metadata": {},
   "outputs": [
    {
     "data": {
      "text/plain": [
       "pi_da_aula (generic function with 1 method)"
      ]
     },
     "execution_count": 99,
     "metadata": {},
     "output_type": "execute_result"
    }
   ],
   "source": [
    "function pi_da_aula()\n",
    "    S = big\"1.0\"\n",
    "    #= Maneira 1\n",
    "    for k = 1:14\n",
    "        S += factorial(k) / duplo_fatorial(2k + 1)\n",
    "    end\n",
    "    =#\n",
    "    t = big\"1.0\" / 3\n",
    "    k = 2\n",
    "    while S + t != S\n",
    "        S += t\n",
    "        t = t * k / (2k + 1)\n",
    "        k += 1\n",
    "    end\n",
    "    return 2S\n",
    "end"
   ]
  },
  {
   "cell_type": "code",
   "execution_count": 100,
   "metadata": {},
   "outputs": [
    {
     "data": {
      "text/plain": [
       "3.1415926535897932384626433832795028841971693993751058209749445923078164062862089986280348253421170679821480865132823066470938446095505822317253594081284811174502841027019385211055596446229489549303819644288109756659334461284756482337867831652712019091456485669234603486104543266482133936072602491412737245870066063155881748815209209628292540917153643678925903600113305305488204665213841469519415116094330572703657595919530921861173819326117931051185480744623799627495673518857527248912279381830119491298336733624406566430860213949463952247371907021798609437027705392171762931767523846748184676694051320005681271452635608277857713427577896091736371787214684409012249534301465495853710507922796892589235420199561121290219608640344181598136297747713099605187072113499999983729780499510597317328160963185950244594553469083026425223082533446850352619311881710100031378387528865875332083814206171776691473035982534904287554687311595628638823537875937519577818577805321712268066130019278766111959092164201989380952572010654858632788659361533818279682303019520353018529689957736225994138912497217752834791315155748572424541506959508295331168617278558890750983817546374649393192550604009277016711390098488240128583616035637076601047101819429555961989467678374494482553797747268471040475346462080466842590694912933136770289891521047521620569660240580381501935112533824300355876402474964732639141992726042699227967823547816360093417216412199245863150302861829745557067498385054945885869269956909272107975093029553211653449872027559602364806654991198818347977535663698074265425278625518184175746728909777727938000816470600161452491921732172147723501414419735685481613611573525521334757418494684385233239073941433345477624168625189835694855620992192221842725502542568876717904946016534668049886272327917860857843838279679766814541009538837863609506800642251252051173929848960841284886269456042419652850222106611863067442786220391949450471237137869609563643719172874677646575739624138908658326459958133904780275900994657640789512694683983525957098258226205224894077267194782684826014769909026401363944374553050682034962524517493996514314298091906592509372216964615157098583874105978859597729754989301617539284681382686838689427741559918559252459539594310499725246808459872736446958486538367362226260991246080512438843904512441365497627807977156914359977001296160894416948685558484063534220722258284886481584560285060168427394522674676788952521385225499546667278239864565961163548862305774564980355936345681743241125150760694794510965960940252288797108931456691368672287489405601015033086179286809208747609178249385890097149096759852613655497818931297848216829989487226588048575640142704775551323796414515237462343645428584447952658678210511413547357395231134271661021359695362314429524849371871101457654035902799344037420073105785390621983874478084784896833214457138687519435064302184531910484810053706146806749192781911979399520614196634287544406437451237181921799983910159195618146751426912397489409071864942319615679452080951465502252316038819301420937621378559566389377870830390697920773467221825625996615014215030680384477345492026054146659252014974428507325186660021324340881907104863317346496514539057962685610055081066587969981635747363840525714591028970641401109712062804390397595156771577004203378699360072305587631763594218731251471205329281918261861258673215791984148488291644706095752706957220917567116722910981690915280173506712748583222871835209353965725121083579151369882091444210067510334671103141267111369908658516398315019701651511685171437657618351556508849099898599823873455283316355076479185358932261854896321329330898570642046752590709154814165498594616371802709819943099244889575712828905923233260972997120844335732654893823911932597463667305836041428138830320382490375898524374417029132765618093773444030707469211201913020330380197621101100449293215160842444859637669838952286847831235526582131449576857262433441893039686426243410773226978028073189154411010446823252716201052652272111660396665573092547110557853763466820653109896526918620564769312570586356620185581007293606598764861179104533488503461136576867532494416680396265797877185560845529654126654085306143444318586769751456614068007002378776591344017127494704205622305389945613140711270004078547332699390814546646458807972708266830634328587856983052358089330657574067954571637752542021149557615814002501262285941302164715509792592309907965473761255176567513575178296664547791745011299614890304639947132962107340437518957359614589019389713111790429782856475032031986915140287080859904801094121472213179476477726224142548545403321571853061422881375850430633217518297986622371721591607716692547487389866549494501146540628433663937900397692656721463853067360965712091807638327166416274888800786925602902284721040317211860820419000422966171196377921337575114959501566049631862947265473642523081770367515906735023507283540567040386743513622224771589150495309844489333096340878076932599397805419341447377441842631298608099888687413260472156951623965864573021631598193195167353812974167729478672422924654366800980676928238280689964004824354037014163149658979409243237896907069779422362508221688957383798623001593776471651228935786015881617557829735233446042815126272037343146531977774160319906655418763979293344195215413418994854447345673831624993419131814809277771038638773431772075456545322077709212019051660962804909263601975988281613323166636528619326686336062735676303544776280350450777235547105859548702790814356240145171806246436267945612753181340783303362542327839449753824372058353114771199260638133467768796959703098339130771098704085913374641442822772634659470474587847787201927715280731767907707157213444730605700733492436931138350493163128404251219256517980694113528013147013047816437885185290928545201165839341965621349143415956258658655705526904965209858033850722426482939728584783163057777560688876446248246857926039535277348030480290058760758251047470916439613626760449256274204208320856611906254543372131535958450687724602901618766795240616342522577195429162991930645537799140373404328752628889639958794757291746426357455254079091451357111369410911939325191076020825202618798531887705842972591677813149699009019211697173727847684726860849003377024242916513005005168323364350389517029893922334517220138128069650117844087451960121228599371623130171144484640903890644954440061986907548516026327505298349187407866808818338510228334508504860825039302133219715518430635455007668282949304137765527939751754613953984683393638304746119966538581538420568533862186725233402830871123282789212507712629463229563989898935821167456270102183564622013496715188190973038119800497340723961036854066431939509790190699639552453005450580685501956730229219139339185680344903982059551002263535361920419947455385938102343955449597783779023742161727111723643435439478221818528624085140066604433258885698670543154706965747458550332323342107301545940516553790686627333799585115625784322988273723198987571415957811196358330059408730681216028764962867446047746491599505497374256269010490377819868359381465741268049256487985561453723478673303904688383436346553794986419270563872931748723320837601123029911367938627089438799362016295154133714248928307220126901475466847653576164773794675200490757155527819653621323926406160136358155907422020203187277605277219005561484255518792530343513984425322341576233610642506390497500865627109535919465897514131034822769306247435363256916078154781811528436679570611086153315044521274739245449454236828860613408414863776700961207151249140430272538607648236341433462351897576645216413767969031495019108575984423919862916421939949072362346468441173940326591840443780513338945257423995082965912285085558215725031071257012668302402929525220118726767562204154205161841634847565169998116141010029960783869092916030288400269104140792886215078424516709087000699282120660418371806535567252532567532861291042487761825829765157959847035622262934860034158722980534989650226291748788202734209222245339856264766914905562842503912757710284027998066365825488926488025456610172967026640765590429099456815065265305371829412703369313785178609040708667114965583434347693385781711386455873678123014587687126603489139095620099393610310291616152881384379099042317473363948045759314931405297634757481193567091101377517210080315590248530906692037671922033229094334676851422144773793937517034436619910403375111735471918550464490263655128162288244625759163330391072253837421821408835086573917715096828874782656995995744906617583441375223970968340800535598491754173818839994469748676265516582765848358845314277568790029095170283529716344562129640435231176006651012412006597558512761785838292041974844236080071930457618932349229279650198751872127267507981255470958904556357921221033346697499235630254947802490114195212382815309114079073860251522742995818072471625916685451333123948049470791191532673430282441860414263639548000448002670496248201792896476697583183271314251702969234889627668440323260927524960357996469256504936818360900323809293459588970695365349406034021665443755890045632882250545255640564482465151875471196218443965825337543885690941130315095261793780029741207665147939425902989695946995565761218656196733786236256125216320862869222103274889218654364802296780705765615144632046927906821207388377814233562823608963208068222468012248261177185896381409183903673672220888321513755600372798394004152970028783076670944474560134556417254370906979396122571429894671543578468788614445812314593571984922528471605049221242470141214780573455105008019086996033027634787081081754501193071412233908663938339529425786905076431006383519834389341596131854347546495569781038293097164651438407007073604112373599843452251610507027056235266012764848308407611830130527932054274628654036036745328651057065874882256981579367897669742205750596834408697350201410206723585020072452256326513410559240190274216248439141275"
      ]
     },
     "execution_count": 100,
     "metadata": {},
     "output_type": "execute_result"
    }
   ],
   "source": [
    "pi_da_aula()"
   ]
  },
  {
   "cell_type": "code",
   "execution_count": 101,
   "metadata": {},
   "outputs": [
    {
     "data": {
      "text/plain": [
       "9.042990035939374646755074800459159620783928205148808395640502502003685499725008266126125111727071753848427490090065617699529697093491970020708770265086297107385162338556034825976321527489802479137131526352868048582024743676341711086799960967104599414844961346988865327567402063201651067639704154057842244159568027445407593040869426682145527606692882581234908375805414090952067064905941384629774649619753265976943912900737489330147514075216526468971356454228167736883115883336273740326673519421590912606473892462202814732665973929904268658636542248426470846336966103042618779693029465609641308847294447731211350388325505702552911250706151782590658150670780298141439858749377077098905150401845190364785898632901164561260108259730881223933726210608358397337138452644135788109904245395269409243432896817071073174022004581447196554692399147681915070747476770445722906915868721475128566822640699895941130306100417098203938565080235948965731959804586856448632802161118038623992898105780515801368031321396294542483241415543866434939717849523054443425404225257990000430787856455736431037818306125973918032449444173520316368078383128324232846326498181281962159708165208769406374949851605399479537749239314255975038144965805049567511648562093110919978994213771430561211216142884143022813224822575771798584045746521460735494454261661455433473003444370731702751607109119299437314579006050348368835394329407969488460460811885149467328192066739311031885692581019549198642669555711040615431924611096191341568892174592331812391621957896023209236735219714151742273809727208639441315703597762100805022184603423693723552181278447931425434851070839064707046163790413210646889099413232289599718124354413311621795824776713784262137673886560160413427515705060388867262481672844241059776595493317718414925804315550246618505517770574076993561075278070847922585384444284415326961303684892722447611425790623612126825766335366919091780870587445975470975623513951707180244255779200521095756293657059764584658863303942595985184248498109474240229430395591285549124557336182331002189040941000266766572237804653841604879490177596952047646687691962100316509656954687759475057177966037965078492964954978574519934616987304908497288453396488069251193876066689779693654673624557739583068847590900547447778719964772853676651759965845549016766270587831996876432017730005520965789474041595729994528986589810537491079821948111617868391083614639247806356180963807124586401208039855667355173484494766963814582924110839852836857857302077404538083529162941899269556246869303341526355554083646472838886199022742483510187917905559618759270990485003584940518173765840396003875893678192578410152570265503267320693999744289138577279731727414015906100596564448374067780461091798214875238278368921204954627113343330301853894348569612050753639517178983035002108748567528551803384493588436519502677203046658812176575625792478949814892606908007740926769088977044677881261967737754166929197383938455471570498359125630060790207724001161810679297924077012929147886887655281639216568470790865520122946154865235850597733639681004178688348930237018801691235958670999264174900361945702127225809727359666769737533732259083333550513411535733202979240603788958907718619082198316765837544412310881405980069928803874775992594090293730433821916862535039232185930401134959879563708210656596415704544738935681673311920464890847868210682287103926564723539324742327763381341859070081300884089153521922545311821063361939768246192735443157099979953412578146444232650862213304074152351347216310167936003396477621520053248977402022660131864859945805856526267685603803088259079178332362397341296075538431772242890817805823325160043025227067493241458360498605049847055700630938068692159143410545845521842820467016753850038167128801098122253266843653581990682484356378264527273652191803589456172477243198879711094723397499766799770361113359864616955600227005361607074288136278280652467160168605620002516214069164042430619741608497715264108047568800699568403541798055626432568237646947222784502457397890157395158491068554453093544815450777009642978640199396324005011297195960129219911167858489834252921646474956947301038723300508866058847002857627019773982544409596969038003029918070938727742654125833580957123858939395376419200595091523749315146644525867649035477774130909912747947862008397060321460170897886130714760491893805705815744691285478714097599150604629871395025608387929412388946458654348193928406138100499354094551241229008385601442094724586122029377158005852901814615802559401436185068756351010489963862389911829452061424145048218628890176359024013626432475189888503173376482792862531045037551947286215249819470139133997149732766137828084200523453548516548392593289084406238950446702421714749699319060350886619873236725864840172127881753713916061184107618120129827140692803794582239452952357546854162082262394813636921736981572147333699620525209227739011910563864078525057522325432352387885050864449511215675333834342928244802178822795949615280618020092083288076259358212494175114166402730342001732477378314209225648829586072532727476486078838806348190145504584916031609089609462136208116664041783223965582399268876585951139198900827710254942714797648160576054578835271440165852014032281000523389196775199256848586703334632905784945983331004646521916363279443323760988291935133942724049646565100938580292367923315967095666494917596096923829414588813419012387221577914693033485146321837478103697792268269796985006524436145188813870535242016457318826398575581527395911895630355369585051420199063538421775230739235578265386446074327461357129674895337131496239099936407960266892726582423259649030960253699828101434467984688261882365315706459781039517894932810089630248716712803897649596240645358960560760717206015215930276817563192700517656573467455772944720163603504612935894328624804773616095227674404171920665716935238183589237356769818688208053043667685172281914033085963330965902112882645786470637753315402293721188221213077994145504139144321249168510859131550359043164252985120993357136274849491259716962281558792437366347323181391850134093944600764357346393627744538117378639505833316668857734491340637533509585343847336343041263285831463910161417062042942915533340079857065825979476491275062522589787579384022311185465767174523176936891842259569079796687756383833831842638614614113968515274392170242300033250173269313679090311884656178596869247876192182338347367523197842959933663026824927732849579986341065476385495431388953903848283862452753792478680479621729448156166765738635583917708637489738573458031846600780550758930118231468627523836346222053978234709457826259059487255454555682256528516254630882199375638846436532433658357762175489925621250224190100944859680593488234291664682861322023138395717112460735791506113777420136718075228294658244131473626676481097500771864889373317884828434925504155827129042925980235045996480659739744907551155504805590605578213601860089550134295335290489562592700101183850291136390631911657477130940787727156579953855214695596980291220904484275298667749775034430940896399909330987005653460730920996672328742447252355115197587702903337141138306209376500270029988930772753720242683357925855653556799102631313857620449666340700037013472999702844928743928855327504259794212812315491904336932392155974393236725033598272369316825655475671171524344245014610678730152896110506026218420989777721532165813743499997155408081499115441630117206469784537848845135782382027387978986711437804365197188733714020655706787130589470074887142074141953475968056073051052241804443912347650794890387051800127653329608860844733383319028075980954076905424953862658917222220737778265387015952943629943248833899280061756902604821211063790453497451190297789783264780379812112912691635238968030106922605992160674726025686602494246410532410722807195278763337934038120951680281013302743957356159420220882778787052269216403232517804727989197068715388121715157465249590409337503884892258237263972668441273595565626136963145156121254684194602606484625431465523584978560684091445791589493877984320727115733591872059624791859483061375547822192811018800176737838342831876386336178736696821606685652045129141666250528221857406357158628352597964675298355863296925428085777469439669911568746337000719895795909514983635464763854988143236151163429118584276403876531760191006921605559046478348888543658175900967269848865947190384326759941514286695298794998461441733408429012894236019854234888356892363945634405329045766584608530707105784668900608132256571163941510619055482521657887951944045826701915205603547497191739438742180751772246006021131559684881303488001694722965123022667447721897065886801216820097843559478670268933188285642756047843130719345910511683344938091512119391050105744362015693690605399159513131317805999164884766999571866265482200644036565695976438472550202522323696388275054865236621623881093293295210552283558722365832096167797263957175386027565919140794804228299387706562669266918897621709694088012491859155431417424688766448563635698753654093662674980853050468090615771511796566692548930830633074451021225345605502814317093427333251738188889580992364381932063323396047696071105237826703271967780842788355747005855773339662142824674258221502968121127184764449427823809382441116225108686174249486668700956282146287203624703606311216435802847113337772267552076299776049548120023133315107427306907754014080402681196091000795509195457663359113628749988122551756336885725795688982749521868019424313331390812504529260648358587796862119959353513247492064323903147660224220223009575165945718746505867818260523595540081627422277310752651836246233070984809908861326819546342070497941655091436024103574339870775832102744050748235395984165191827808802445630109878650315981357709663495975691859693707590172972823704006722632507160373948080707580270161499220345124797120684075986376685306236329200905842167212612547334895986e-9863"
      ]
     },
     "execution_count": 101,
     "metadata": {},
     "output_type": "execute_result"
    }
   ],
   "source": [
    "pi_da_aula() - pi"
   ]
  }
 ],
 "metadata": {
  "@webio": {
   "lastCommId": "8543ab37504344e482089ffb85683d13",
   "lastKernelId": "ef376662-2235-4026-b29d-416b53277a16"
  },
  "kernelspec": {
   "display_name": "Julia 1.1.0",
   "language": "julia",
   "name": "julia-1.1"
  },
  "language_info": {
   "file_extension": ".jl",
   "mimetype": "application/julia",
   "name": "julia",
   "version": "1.1.0"
  }
 },
 "nbformat": 4,
 "nbformat_minor": 2
}
