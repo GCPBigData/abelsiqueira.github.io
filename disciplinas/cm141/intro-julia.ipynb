{
 "cells": [
  {
   "cell_type": "markdown",
   "metadata": {},
   "source": [
    "# Introdução à Linguagem Julia\n",
    "\n",
    "Julia é uma linguagem dinâmica de alto nível e alto desempenho.\n",
    "Ela se assemelha ao MatLab e ao Python na facilidade de escrita\n",
    "de código, mas sua velocidade pode ser comparável ao C e Fortran."
   ]
  },
  {
   "cell_type": "markdown",
   "metadata": {},
   "source": [
    "# Jupyter\n",
    "\n",
    "O Jupyter é uma interface web para Julia, Python, e muitas outras.\n",
    "Ela **não** é o Julia, isto é, o Julia não depende do Jupyter para\n",
    "funcionar. No entanto, usando o Jupyter, aulas e apresentações\n",
    "ficam mais práticas.\n",
    "\n",
    "Cada *célula* do Jupyter pode ser executada com um `ctrl+enter`, ou\n",
    "um `ctrl+shift`, sendo que o último move a seleção para a célula de\n",
    "baixo.\n",
    "Você pode adicionar novas células usando o `+` no topo da página."
   ]
  },
  {
   "cell_type": "markdown",
   "metadata": {},
   "source": [
    "# O REPL - Terminal Interativo\n",
    "\n",
    "Ao abrir o Julia no Windows, ou digitar `julia` no terminal do Mac\n",
    "ou Linux, se abrirá um prompt tipo\n",
    "\n",
    "````julia\n",
    "julia>\n",
    "````\n",
    "\n",
    "O Jupyter também serve como esse prompt e todo comando digitado aqui\n",
    "pode ser digitado lá."
   ]
  },
  {
   "cell_type": "markdown",
   "metadata": {},
   "source": [
    "# Básico"
   ]
  },
  {
   "cell_type": "code",
   "execution_count": 3,
   "metadata": {
    "collapsed": false
   },
   "outputs": [
    {
     "data": {
      "text/plain": [
       "302"
      ]
     },
     "execution_count": 3,
     "metadata": {},
     "output_type": "execute_result"
    }
   ],
   "source": [
    "2 + 300"
   ]
  },
  {
   "cell_type": "code",
   "execution_count": 5,
   "metadata": {
    "collapsed": false
   },
   "outputs": [
    {
     "data": {
      "text/plain": [
       "15"
      ]
     },
     "execution_count": 5,
     "metadata": {},
     "output_type": "execute_result"
    }
   ],
   "source": [
    "3 * 5"
   ]
  },
  {
   "cell_type": "code",
   "execution_count": 6,
   "metadata": {
    "collapsed": false
   },
   "outputs": [
    {
     "data": {
      "text/plain": [
       "343"
      ]
     },
     "execution_count": 6,
     "metadata": {},
     "output_type": "execute_result"
    }
   ],
   "source": [
    "7 ^ 3"
   ]
  },
  {
   "cell_type": "code",
   "execution_count": 8,
   "metadata": {
    "collapsed": false
   },
   "outputs": [
    {
     "data": {
      "text/plain": [
       "2.718281828459045"
      ]
     },
     "execution_count": 8,
     "metadata": {},
     "output_type": "execute_result"
    }
   ],
   "source": [
    "exp(1)"
   ]
  },
  {
   "cell_type": "code",
   "execution_count": 9,
   "metadata": {
    "collapsed": false
   },
   "outputs": [
    {
     "data": {
      "text/plain": [
       "0.7071063120935576"
      ]
     },
     "execution_count": 9,
     "metadata": {},
     "output_type": "execute_result"
    }
   ],
   "source": [
    "sin(3.14159/4)"
   ]
  },
  {
   "cell_type": "code",
   "execution_count": 11,
   "metadata": {
    "collapsed": false
   },
   "outputs": [
    {
     "data": {
      "text/plain": [
       "π = 3.1415926535897..."
      ]
     },
     "execution_count": 11,
     "metadata": {},
     "output_type": "execute_result"
    }
   ],
   "source": [
    "pi"
   ]
  },
  {
   "cell_type": "code",
   "execution_count": 12,
   "metadata": {
    "collapsed": false
   },
   "outputs": [
    {
     "data": {
      "text/plain": [
       "1.9999999999999996"
      ]
     },
     "execution_count": 12,
     "metadata": {},
     "output_type": "execute_result"
    }
   ],
   "source": [
    "( sin(pi/4)*2 )^2"
   ]
  },
  {
   "cell_type": "code",
   "execution_count": 14,
   "metadata": {
    "collapsed": false
   },
   "outputs": [
    {
     "data": {
      "text/plain": [
       "3.14"
      ]
     },
     "execution_count": 14,
     "metadata": {},
     "output_type": "execute_result"
    }
   ],
   "source": [
    "round(pi, 2)"
   ]
  },
  {
   "cell_type": "code",
   "execution_count": 15,
   "metadata": {
    "collapsed": false
   },
   "outputs": [
    {
     "data": {
      "text/plain": [
       "1.4142135623730951"
      ]
     },
     "execution_count": 15,
     "metadata": {},
     "output_type": "execute_result"
    }
   ],
   "source": [
    "sqrt(2)"
   ]
  },
  {
   "cell_type": "code",
   "execution_count": 16,
   "metadata": {
    "collapsed": false
   },
   "outputs": [
    {
     "data": {
      "text/plain": [
       "3"
      ]
     },
     "execution_count": 16,
     "metadata": {},
     "output_type": "execute_result"
    }
   ],
   "source": [
    "abs(-3)"
   ]
  },
  {
   "cell_type": "code",
   "execution_count": 23,
   "metadata": {
    "collapsed": false
   },
   "outputs": [
    {
     "data": {
      "text/plain": [
       "3"
      ]
     },
     "execution_count": 23,
     "metadata": {},
     "output_type": "execute_result"
    }
   ],
   "source": [
    "x = 3"
   ]
  },
  {
   "cell_type": "code",
   "execution_count": 24,
   "metadata": {
    "collapsed": false
   },
   "outputs": [
    {
     "data": {
      "text/plain": [
       "3"
      ]
     },
     "execution_count": 24,
     "metadata": {},
     "output_type": "execute_result"
    }
   ],
   "source": [
    "x"
   ]
  },
  {
   "cell_type": "code",
   "execution_count": 25,
   "metadata": {
    "collapsed": false
   },
   "outputs": [
    {
     "data": {
      "text/plain": [
       "9"
      ]
     },
     "execution_count": 25,
     "metadata": {},
     "output_type": "execute_result"
    }
   ],
   "source": [
    "x ^ 2"
   ]
  },
  {
   "cell_type": "code",
   "execution_count": 26,
   "metadata": {
    "collapsed": false
   },
   "outputs": [
    {
     "data": {
      "text/plain": [
       "6"
      ]
     },
     "execution_count": 26,
     "metadata": {},
     "output_type": "execute_result"
    }
   ],
   "source": [
    "y = 2x"
   ]
  },
  {
   "cell_type": "code",
   "execution_count": 27,
   "metadata": {
    "collapsed": false
   },
   "outputs": [
    {
     "data": {
      "text/plain": [
       "3"
      ]
     },
     "execution_count": 27,
     "metadata": {},
     "output_type": "execute_result"
    }
   ],
   "source": [
    "y - x"
   ]
  },
  {
   "cell_type": "code",
   "execution_count": 28,
   "metadata": {
    "collapsed": false,
    "scrolled": true
   },
   "outputs": [
    {
     "data": {
      "text/plain": [
       "(3,6)"
      ]
     },
     "execution_count": 28,
     "metadata": {},
     "output_type": "execute_result"
    }
   ],
   "source": [
    "(x,y)"
   ]
  },
  {
   "cell_type": "code",
   "execution_count": 32,
   "metadata": {
    "collapsed": false
   },
   "outputs": [
    {
     "data": {
      "text/plain": [
       "0.123"
      ]
     },
     "execution_count": 32,
     "metadata": {},
     "output_type": "execute_result"
    }
   ],
   "source": [
    "1.23e-1 # 10⁻²"
   ]
  },
  {
   "cell_type": "code",
   "execution_count": 33,
   "metadata": {
    "collapsed": false
   },
   "outputs": [
    {
     "data": {
      "text/plain": [
       "1000.0"
      ]
     },
     "execution_count": 33,
     "metadata": {},
     "output_type": "execute_result"
    }
   ],
   "source": [
    "1e3 # 10³"
   ]
  },
  {
   "cell_type": "code",
   "execution_count": 34,
   "metadata": {
    "collapsed": false
   },
   "outputs": [
    {
     "data": {
      "text/plain": [
       "5.551115123125783e-17"
      ]
     },
     "execution_count": 34,
     "metadata": {},
     "output_type": "execute_result"
    }
   ],
   "source": [
    "0.1 + 0.2 - 0.3"
   ]
  },
  {
   "cell_type": "code",
   "execution_count": 18,
   "metadata": {
    "collapsed": false
   },
   "outputs": [
    {
     "data": {
      "text/plain": [
       "2.5"
      ]
     },
     "execution_count": 18,
     "metadata": {},
     "output_type": "execute_result"
    }
   ],
   "source": [
    "5/2"
   ]
  },
  {
   "cell_type": "markdown",
   "metadata": {},
   "source": [
    "## Exercício\n",
    "\n",
    "- Calcule $\\varphi = \\dfrac{\\sqrt{5} + 1}{2}$."
   ]
  },
  {
   "cell_type": "code",
   "execution_count": 35,
   "metadata": {
    "collapsed": false,
    "scrolled": true
   },
   "outputs": [
    {
     "data": {
      "text/plain": [
       "1.618033988749895"
      ]
     },
     "execution_count": 35,
     "metadata": {},
     "output_type": "execute_result"
    }
   ],
   "source": [
    "(sqrt(5)+1)/2"
   ]
  },
  {
   "cell_type": "code",
   "execution_count": 36,
   "metadata": {
    "collapsed": false
   },
   "outputs": [
    {
     "data": {
      "text/plain": [
       "1.618033988749895"
      ]
     },
     "execution_count": 36,
     "metadata": {},
     "output_type": "execute_result"
    }
   ],
   "source": [
    "z = sqrt(5) + 1\n",
    "z/2"
   ]
  },
  {
   "cell_type": "markdown",
   "metadata": {},
   "source": [
    "# Álgebra Linear Numérica"
   ]
  },
  {
   "cell_type": "code",
   "execution_count": 39,
   "metadata": {
    "collapsed": false
   },
   "outputs": [
    {
     "data": {
      "text/plain": [
       "3-element Array{Float64,1}:\n",
       " 0.813871\n",
       " 0.236933\n",
       " 0.606327"
      ]
     },
     "execution_count": 39,
     "metadata": {},
     "output_type": "execute_result"
    }
   ],
   "source": [
    "rand(3)"
   ]
  },
  {
   "cell_type": "code",
   "execution_count": 40,
   "metadata": {
    "collapsed": false
   },
   "outputs": [
    {
     "data": {
      "text/plain": [
       "3-element Array{Float64,1}:\n",
       " 1.0\n",
       " 1.0\n",
       " 1.0"
      ]
     },
     "execution_count": 40,
     "metadata": {},
     "output_type": "execute_result"
    }
   ],
   "source": [
    "ones(3)"
   ]
  },
  {
   "cell_type": "code",
   "execution_count": 41,
   "metadata": {
    "collapsed": false
   },
   "outputs": [
    {
     "data": {
      "text/plain": [
       "3-element Array{Float64,1}:\n",
       " 0.0\n",
       " 0.0\n",
       " 0.0"
      ]
     },
     "execution_count": 41,
     "metadata": {},
     "output_type": "execute_result"
    }
   ],
   "source": [
    "zeros(3)"
   ]
  },
  {
   "cell_type": "code",
   "execution_count": 44,
   "metadata": {
    "collapsed": false
   },
   "outputs": [
    {
     "data": {
      "text/plain": [
       "2×4 Array{Float64,2}:\n",
       " 0.43464   0.343554  0.931485  0.250893\n",
       " 0.901974  0.934661  0.362614  0.395355"
      ]
     },
     "execution_count": 44,
     "metadata": {},
     "output_type": "execute_result"
    }
   ],
   "source": [
    "rand(2,4)"
   ]
  },
  {
   "cell_type": "code",
   "execution_count": 45,
   "metadata": {
    "collapsed": false,
    "scrolled": true
   },
   "outputs": [
    {
     "data": {
      "text/plain": [
       "3-element Array{Float64,1}:\n",
       " 0.609575\n",
       " 0.844965\n",
       " 0.670946"
      ]
     },
     "execution_count": 45,
     "metadata": {},
     "output_type": "execute_result"
    }
   ],
   "source": [
    "v = rand(3)"
   ]
  },
  {
   "cell_type": "code",
   "execution_count": 46,
   "metadata": {
    "collapsed": false
   },
   "outputs": [
    {
     "data": {
      "text/plain": [
       "3-element Array{Float64,1}:\n",
       " 0.646051\n",
       " 0.559173\n",
       " 0.53122 "
      ]
     },
     "execution_count": 46,
     "metadata": {},
     "output_type": "execute_result"
    }
   ],
   "source": [
    "w = rand(3)"
   ]
  },
  {
   "cell_type": "code",
   "execution_count": 48,
   "metadata": {
    "collapsed": false
   },
   "outputs": [
    {
     "data": {
      "text/plain": [
       "3-element Array{Float64,1}:\n",
       "  2.0\n",
       "  3.0\n",
       " -1.0"
      ]
     },
     "execution_count": 48,
     "metadata": {},
     "output_type": "execute_result"
    }
   ],
   "source": [
    "u = [2.0; 3.0; -1.0]"
   ]
  },
  {
   "cell_type": "code",
   "execution_count": 57,
   "metadata": {
    "collapsed": false
   },
   "outputs": [
    {
     "data": {
      "text/plain": [
       "2×3 Array{Float64,2}:\n",
       "  1.0   2.0   3.0\n",
       " -1.0  -1.0  -2.0"
      ]
     },
     "execution_count": 57,
     "metadata": {},
     "output_type": "execute_result"
    }
   ],
   "source": [
    "A = [1.0  2.0  3.0;  -1.0  -1.0  -2.0]"
   ]
  },
  {
   "cell_type": "code",
   "execution_count": 59,
   "metadata": {
    "collapsed": false
   },
   "outputs": [
    {
     "data": {
      "text/plain": [
       "2-element Array{Float64,1}:\n",
       "  5.0\n",
       " -3.0"
      ]
     },
     "execution_count": 59,
     "metadata": {},
     "output_type": "execute_result"
    }
   ],
   "source": [
    "A*u"
   ]
  },
  {
   "cell_type": "code",
   "execution_count": 49,
   "metadata": {
    "collapsed": false
   },
   "outputs": [
    {
     "data": {
      "text/plain": [
       "3-element Array{Float64,1}:\n",
       " 1.25563\n",
       " 1.40414\n",
       " 1.20217"
      ]
     },
     "execution_count": 49,
     "metadata": {},
     "output_type": "execute_result"
    }
   ],
   "source": [
    "v + w"
   ]
  },
  {
   "cell_type": "code",
   "execution_count": 50,
   "metadata": {
    "collapsed": false
   },
   "outputs": [
    {
     "data": {
      "text/plain": [
       "3-element Array{Float64,1}:\n",
       " 1.82872\n",
       " 2.53489\n",
       " 2.01284"
      ]
     },
     "execution_count": 50,
     "metadata": {},
     "output_type": "execute_result"
    }
   ],
   "source": [
    "3*v"
   ]
  },
  {
   "cell_type": "code",
   "execution_count": 51,
   "metadata": {
    "collapsed": false
   },
   "outputs": [
    {
     "data": {
      "text/plain": [
       "3-element Array{Float64,1}:\n",
       " 3.1573 \n",
       " 3.36745\n",
       " 2.93555"
      ]
     },
     "execution_count": 51,
     "metadata": {},
     "output_type": "execute_result"
    }
   ],
   "source": [
    "2*v + 3*w"
   ]
  },
  {
   "cell_type": "code",
   "execution_count": 52,
   "metadata": {
    "collapsed": false
   },
   "outputs": [
    {
     "data": {
      "text/plain": [
       "2×3 Array{Float64,2}:\n",
       " 0.814949  0.173387  0.207212\n",
       " 0.917818  0.893238  0.286909"
      ]
     },
     "execution_count": 52,
     "metadata": {},
     "output_type": "execute_result"
    }
   ],
   "source": [
    "A = rand(2, 3)"
   ]
  },
  {
   "cell_type": "code",
   "execution_count": 53,
   "metadata": {
    "collapsed": false
   },
   "outputs": [
    {
     "data": {
      "text/plain": [
       "2-element Array{Float64,1}:\n",
       " 0.782306\n",
       " 1.50673 "
      ]
     },
     "execution_count": 53,
     "metadata": {},
     "output_type": "execute_result"
    }
   ],
   "source": [
    "A * v"
   ]
  },
  {
   "cell_type": "code",
   "execution_count": 55,
   "metadata": {
    "collapsed": false
   },
   "outputs": [
    {
     "data": {
      "text/plain": [
       "2-element Array{Float64,1}:\n",
       " 0.325318\n",
       " 0.888372"
      ]
     },
     "execution_count": 55,
     "metadata": {},
     "output_type": "execute_result"
    }
   ],
   "source": [
    "w = rand(2)"
   ]
  },
  {
   "cell_type": "code",
   "execution_count": 54,
   "metadata": {
    "collapsed": false
   },
   "outputs": [
    {
     "data": {
      "text/plain": [
       "3×2 Array{Float64,2}:\n",
       " 0.814949  0.917818\n",
       " 0.173387  0.893238\n",
       " 0.207212  0.286909"
      ]
     },
     "execution_count": 54,
     "metadata": {},
     "output_type": "execute_result"
    }
   ],
   "source": [
    "A'"
   ]
  },
  {
   "cell_type": "code",
   "execution_count": 56,
   "metadata": {
    "collapsed": false
   },
   "outputs": [
    {
     "data": {
      "text/plain": [
       "3-element Array{Float64,1}:\n",
       " 1.08048 \n",
       " 0.849934\n",
       " 0.322292"
      ]
     },
     "execution_count": 56,
     "metadata": {},
     "output_type": "execute_result"
    }
   ],
   "source": [
    "A' * w"
   ]
  },
  {
   "cell_type": "code",
   "execution_count": 60,
   "metadata": {
    "collapsed": false
   },
   "outputs": [
    {
     "data": {
      "text/plain": [
       "2×3 Array{Float64,2}:\n",
       " 0.281167  0.283782  0.695558\n",
       " 0.433422  0.442924  0.284436"
      ]
     },
     "execution_count": 60,
     "metadata": {},
     "output_type": "execute_result"
    }
   ],
   "source": [
    "B = rand(2, 3)"
   ]
  },
  {
   "cell_type": "code",
   "execution_count": 61,
   "metadata": {
    "collapsed": false
   },
   "outputs": [
    {
     "data": {
      "text/plain": [
       "2×3 Array{Float64,2}:\n",
       "  1.28117    2.28378    3.69556\n",
       " -0.566578  -0.557076  -1.71556"
      ]
     },
     "execution_count": 61,
     "metadata": {},
     "output_type": "execute_result"
    }
   ],
   "source": [
    "A + B"
   ]
  },
  {
   "cell_type": "code",
   "execution_count": 62,
   "metadata": {
    "collapsed": false
   },
   "outputs": [
    {
     "data": {
      "text/plain": [
       "2×2 Array{Float64,2}:\n",
       "  2.93541   2.17258\n",
       " -1.95607  -1.44522"
      ]
     },
     "execution_count": 62,
     "metadata": {},
     "output_type": "execute_result"
    }
   ],
   "source": [
    "A * B'"
   ]
  },
  {
   "cell_type": "code",
   "execution_count": 63,
   "metadata": {
    "collapsed": false
   },
   "outputs": [
    {
     "data": {
      "text/plain": [
       "3×3 Array{Float64,2}:\n",
       " -0.152255   -0.159142   0.411122\n",
       "  0.128912    0.124639   1.10668 \n",
       " -0.0233429  -0.0345029  1.5178  "
      ]
     },
     "execution_count": 63,
     "metadata": {},
     "output_type": "execute_result"
    }
   ],
   "source": [
    "A' * B"
   ]
  },
  {
   "cell_type": "markdown",
   "metadata": {},
   "source": [
    "$$ Ax = b $$"
   ]
  },
  {
   "cell_type": "code",
   "execution_count": 64,
   "metadata": {
    "collapsed": false,
    "scrolled": true
   },
   "outputs": [
    {
     "data": {
      "text/plain": [
       "3-element Array{Float64,1}:\n",
       " -2.09919\n",
       "  2.33951\n",
       "  0.73271"
      ]
     },
     "execution_count": 64,
     "metadata": {},
     "output_type": "execute_result"
    }
   ],
   "source": [
    "A = rand(3, 3)\n",
    "b = rand(3)\n",
    "x = A\\b # Resolve o SL"
   ]
  },
  {
   "cell_type": "code",
   "execution_count": 65,
   "metadata": {
    "collapsed": false
   },
   "outputs": [
    {
     "data": {
      "text/plain": [
       "3-element Array{Float64,1}:\n",
       "  0.0        \n",
       "  2.498e-16  \n",
       " -1.11022e-16"
      ]
     },
     "execution_count": 65,
     "metadata": {},
     "output_type": "execute_result"
    }
   ],
   "source": [
    "A * x - b # É pra ser zero (ou quase)"
   ]
  },
  {
   "cell_type": "code",
   "execution_count": 66,
   "metadata": {
    "collapsed": false
   },
   "outputs": [
    {
     "data": {
      "text/plain": [
       "2.7336071744532853e-16"
      ]
     },
     "execution_count": 66,
     "metadata": {},
     "output_type": "execute_result"
    }
   ],
   "source": [
    "norm(A*x-b) # norm = ‖ ⋅ ‖"
   ]
  },
  {
   "cell_type": "code",
   "execution_count": 67,
   "metadata": {
    "collapsed": false
   },
   "outputs": [
    {
     "data": {
      "text/plain": [
       "4.0"
      ]
     },
     "execution_count": 67,
     "metadata": {},
     "output_type": "execute_result"
    }
   ],
   "source": [
    "v = [1.0; 2.0; 3.0]\n",
    "w = [2.0; -2.0; 2.0]\n",
    "dot(v, w) # v,w"
   ]
  },
  {
   "cell_type": "code",
   "execution_count": 72,
   "metadata": {
    "collapsed": false
   },
   "outputs": [
    {
     "data": {
      "text/plain": [
       "3×3 Array{Float64,2}:\n",
       " 1.0       0.5       0.333333\n",
       " 0.5       0.333333  0.25    \n",
       " 0.333333  0.25      0.2     "
      ]
     },
     "execution_count": 72,
     "metadata": {},
     "output_type": "execute_result"
    }
   ],
   "source": [
    "A = [1.0/(i+j-1) for i = 1:3, j = 1:3]"
   ]
  },
  {
   "cell_type": "code",
   "execution_count": 73,
   "metadata": {
    "collapsed": false
   },
   "outputs": [
    {
     "data": {
      "text/plain": [
       "0.00046296296296296135"
      ]
     },
     "execution_count": 73,
     "metadata": {},
     "output_type": "execute_result"
    }
   ],
   "source": [
    "det(A)"
   ]
  },
  {
   "cell_type": "code",
   "execution_count": 74,
   "metadata": {
    "collapsed": false
   },
   "outputs": [
    {
     "data": {
      "text/plain": [
       "3×3 Array{Float64,2}:\n",
       " 1.36111  0.75      0.525   \n",
       " 0.75     0.423611  0.3     \n",
       " 0.525    0.3       0.213611"
      ]
     },
     "execution_count": 74,
     "metadata": {},
     "output_type": "execute_result"
    }
   ],
   "source": [
    "A^2 # A * A"
   ]
  },
  {
   "cell_type": "code",
   "execution_count": 75,
   "metadata": {
    "collapsed": false
   },
   "outputs": [
    {
     "data": {
      "text/plain": [
       "3×3 Array{Float64,2}:\n",
       " 1.0       0.25      0.111111\n",
       " 0.25      0.111111  0.0625  \n",
       " 0.111111  0.0625    0.04    "
      ]
     },
     "execution_count": 75,
     "metadata": {},
     "output_type": "execute_result"
    }
   ],
   "source": [
    "A .^ 2 # Cada elemento de A ao quadrado"
   ]
  },
  {
   "cell_type": "code",
   "execution_count": 76,
   "metadata": {
    "collapsed": false
   },
   "outputs": [
    {
     "data": {
      "text/plain": [
       "3×3 Array{Float64,2}:\n",
       " 0.843456  0.972252  0.790712\n",
       " 0.980318  0.73671   0.615172\n",
       " 0.669554  0.743285  0.15289 "
      ]
     },
     "execution_count": 76,
     "metadata": {},
     "output_type": "execute_result"
    }
   ],
   "source": [
    "B = rand(3, 3)"
   ]
  },
  {
   "cell_type": "code",
   "execution_count": 77,
   "metadata": {
    "collapsed": false
   },
   "outputs": [
    {
     "data": {
      "text/plain": [
       "3×3 Array{Float64,2}:\n",
       " 0.843456  0.486126  0.263571 \n",
       " 0.490159  0.24557   0.153793 \n",
       " 0.223185  0.185821  0.0305779"
      ]
     },
     "execution_count": 77,
     "metadata": {},
     "output_type": "execute_result"
    }
   ],
   "source": [
    "A .* B"
   ]
  },
  {
   "cell_type": "code",
   "execution_count": 78,
   "metadata": {
    "collapsed": false
   },
   "outputs": [
    {
     "data": {
      "text/plain": [
       "2×3 Array{Float64,2}:\n",
       " 2.0  3.0  4.0\n",
       " 4.1  5.2  6.0"
      ]
     },
     "execution_count": 78,
     "metadata": {},
     "output_type": "execute_result"
    }
   ],
   "source": [
    "A = [2  3  4; 4.1  5.2  6.0]"
   ]
  },
  {
   "cell_type": "code",
   "execution_count": 79,
   "metadata": {
    "collapsed": false
   },
   "outputs": [
    {
     "data": {
      "text/plain": [
       "2×3 Array{Int64,2}:\n",
       " 2  3  4\n",
       " 1  0  1"
      ]
     },
     "execution_count": 79,
     "metadata": {},
     "output_type": "execute_result"
    }
   ],
   "source": [
    "A = [2 3 4;1 0 1]"
   ]
  },
  {
   "cell_type": "markdown",
   "metadata": {},
   "source": [
    "## Funções que \"distribuem\""
   ]
  },
  {
   "cell_type": "code",
   "execution_count": 80,
   "metadata": {
    "collapsed": false,
    "scrolled": true
   },
   "outputs": [
    {
     "data": {
      "text/plain": [
       "2-element Array{Float64,1}:\n",
       " 1.0    \n",
       " 2.71828"
      ]
     },
     "execution_count": 80,
     "metadata": {},
     "output_type": "execute_result"
    }
   ],
   "source": [
    "exp( [0.0; 1.0] )"
   ]
  },
  {
   "cell_type": "code",
   "execution_count": 82,
   "metadata": {
    "collapsed": false
   },
   "outputs": [
    {
     "data": {
      "text/plain": [
       "11-element LinSpace{Float64}:\n",
       " 0.0,0.1,0.2,0.3,0.4,0.5,0.6,0.7,0.8,0.9,1.0"
      ]
     },
     "execution_count": 82,
     "metadata": {},
     "output_type": "execute_result"
    }
   ],
   "source": [
    "v = linspace(0, 1, 11)"
   ]
  },
  {
   "cell_type": "code",
   "execution_count": 83,
   "metadata": {
    "collapsed": false
   },
   "outputs": [
    {
     "data": {
      "text/plain": [
       "11-element Array{Float64,1}:\n",
       " 0.3\n",
       " 0.8\n",
       " 0.4\n",
       " 0.5\n",
       " 0.1\n",
       " 1.0\n",
       " 0.9\n",
       " 0.0\n",
       " 0.2\n",
       " 0.6\n",
       " 0.7"
      ]
     },
     "execution_count": 83,
     "metadata": {},
     "output_type": "execute_result"
    }
   ],
   "source": [
    "w = shuffle(v)"
   ]
  },
  {
   "cell_type": "code",
   "execution_count": 84,
   "metadata": {
    "collapsed": false
   },
   "outputs": [
    {
     "data": {
      "text/plain": [
       "11-element Array{Float64,1}:\n",
       " 0.547723\n",
       " 0.894427\n",
       " 0.632456\n",
       " 0.707107\n",
       " 0.316228\n",
       " 1.0     \n",
       " 0.948683\n",
       " 0.0     \n",
       " 0.447214\n",
       " 0.774597\n",
       " 0.83666 "
      ]
     },
     "execution_count": 84,
     "metadata": {},
     "output_type": "execute_result"
    }
   ],
   "source": [
    "sqrt(w)"
   ]
  },
  {
   "cell_type": "code",
   "execution_count": 49,
   "metadata": {
    "collapsed": false
   },
   "outputs": [
    {
     "data": {
      "text/plain": [
       "10-element Array{Float64,1}:\n",
       " 0.471405\n",
       " 1.0     \n",
       " 0.816497\n",
       " 0.333333\n",
       " 0.942809\n",
       " 0.745356\n",
       " 0.57735 \n",
       " 0.881917\n",
       " 0.666667\n",
       " 0.0     "
      ]
     },
     "execution_count": 49,
     "metadata": {},
     "output_type": "execute_result"
    }
   ],
   "source": [
    "sqrt(shuffle(linspace(0, 1, 10)))"
   ]
  },
  {
   "cell_type": "markdown",
   "metadata": {},
   "source": [
    "## Exercício\n",
    "\n",
    "- Crie um vetor com os ângulos importantes: 0, pi/6, pi/4, pi/3 e pi/2.\n",
    "- Crie um vetor com o seno de cada ângulo e outro com o cosseno, usando o vetor acima.\n",
    "- Calcule a tangente de cada angulo usando os dois vetores acima (tan = sen/cos), mas **sem usar a função tan**."
   ]
  },
  {
   "cell_type": "code",
   "execution_count": 85,
   "metadata": {
    "collapsed": false,
    "scrolled": true
   },
   "outputs": [
    {
     "data": {
      "text/plain": [
       "5-element Array{Float64,1}:\n",
       " 0.0     \n",
       " 0.523599\n",
       " 0.785398\n",
       " 1.0472  \n",
       " 1.5708  "
      ]
     },
     "execution_count": 85,
     "metadata": {},
     "output_type": "execute_result"
    }
   ],
   "source": [
    "x = [0.0; pi/6; pi/4; pi/3; pi/2]"
   ]
  },
  {
   "cell_type": "code",
   "execution_count": 87,
   "metadata": {
    "collapsed": false
   },
   "outputs": [
    {
     "data": {
      "text/plain": [
       "5-element Array{Float64,1}:\n",
       " 0.0     \n",
       " 0.5     \n",
       " 0.707107\n",
       " 0.866025\n",
       " 1.0     "
      ]
     },
     "execution_count": 87,
     "metadata": {},
     "output_type": "execute_result"
    }
   ],
   "source": [
    "S = sin(x)"
   ]
  },
  {
   "cell_type": "code",
   "execution_count": 88,
   "metadata": {
    "collapsed": false
   },
   "outputs": [
    {
     "data": {
      "text/plain": [
       "5-element Array{Float64,1}:\n",
       " 1.0        \n",
       " 0.866025   \n",
       " 0.707107   \n",
       " 0.5        \n",
       " 6.12323e-17"
      ]
     },
     "execution_count": 88,
     "metadata": {},
     "output_type": "execute_result"
    }
   ],
   "source": [
    "C = cos(x)"
   ]
  },
  {
   "cell_type": "code",
   "execution_count": 90,
   "metadata": {
    "collapsed": false
   },
   "outputs": [
    {
     "data": {
      "text/plain": [
       "5-element Array{Float64,1}:\n",
       " 0.0       \n",
       " 0.57735   \n",
       " 1.0       \n",
       " 1.73205   \n",
       " 1.63312e16"
      ]
     },
     "execution_count": 90,
     "metadata": {},
     "output_type": "execute_result"
    }
   ],
   "source": [
    "S ./ C"
   ]
  },
  {
   "cell_type": "markdown",
   "metadata": {},
   "source": [
    "## Acesso aos elementos"
   ]
  },
  {
   "cell_type": "code",
   "execution_count": 91,
   "metadata": {
    "collapsed": false
   },
   "outputs": [
    {
     "data": {
      "text/plain": [
       "5-element Array{Float64,1}:\n",
       " 0.96983  \n",
       " 0.0987713\n",
       " 0.421499 \n",
       " 0.578561 \n",
       " 0.925988 "
      ]
     },
     "execution_count": 91,
     "metadata": {},
     "output_type": "execute_result"
    }
   ],
   "source": [
    "v = rand(5)"
   ]
  },
  {
   "cell_type": "code",
   "execution_count": 92,
   "metadata": {
    "collapsed": false
   },
   "outputs": [
    {
     "data": {
      "text/plain": [
       "0.9698300719774426"
      ]
     },
     "execution_count": 92,
     "metadata": {},
     "output_type": "execute_result"
    }
   ],
   "source": [
    "v[1]"
   ]
  },
  {
   "cell_type": "code",
   "execution_count": 93,
   "metadata": {
    "collapsed": false
   },
   "outputs": [
    {
     "data": {
      "text/plain": [
       "0.09877126437237238"
      ]
     },
     "execution_count": 93,
     "metadata": {},
     "output_type": "execute_result"
    }
   ],
   "source": [
    "v[2]"
   ]
  },
  {
   "cell_type": "code",
   "execution_count": 94,
   "metadata": {
    "collapsed": false
   },
   "outputs": [
    {
     "data": {
      "text/plain": [
       "0.925988342498639"
      ]
     },
     "execution_count": 94,
     "metadata": {},
     "output_type": "execute_result"
    }
   ],
   "source": [
    "v[end]"
   ]
  },
  {
   "cell_type": "code",
   "execution_count": 95,
   "metadata": {
    "collapsed": false
   },
   "outputs": [
    {
     "data": {
      "text/plain": [
       "2×3 Array{Int64,2}:\n",
       " 2  3  4\n",
       " 1  0  1"
      ]
     },
     "execution_count": 95,
     "metadata": {},
     "output_type": "execute_result"
    }
   ],
   "source": [
    "A"
   ]
  },
  {
   "cell_type": "code",
   "execution_count": 96,
   "metadata": {
    "collapsed": false
   },
   "outputs": [
    {
     "data": {
      "text/plain": [
       "2"
      ]
     },
     "execution_count": 96,
     "metadata": {},
     "output_type": "execute_result"
    }
   ],
   "source": [
    "A[1,1]"
   ]
  },
  {
   "cell_type": "code",
   "execution_count": 97,
   "metadata": {
    "collapsed": false
   },
   "outputs": [
    {
     "data": {
      "text/plain": [
       "1"
      ]
     },
     "execution_count": 97,
     "metadata": {},
     "output_type": "execute_result"
    }
   ],
   "source": [
    "A[2,3]"
   ]
  },
  {
   "cell_type": "code",
   "execution_count": 98,
   "metadata": {
    "collapsed": false
   },
   "outputs": [
    {
     "data": {
      "text/plain": [
       "3-element Array{Float64,1}:\n",
       " 0.0987713\n",
       " 0.421499 \n",
       " 0.578561 "
      ]
     },
     "execution_count": 98,
     "metadata": {},
     "output_type": "execute_result"
    }
   ],
   "source": [
    "v[2:4]"
   ]
  },
  {
   "cell_type": "code",
   "execution_count": 100,
   "metadata": {
    "collapsed": false
   },
   "outputs": [
    {
     "data": {
      "text/plain": [
       "11-element Array{Float64,1}:\n",
       " 2.0\n",
       " 2.1\n",
       " 2.2\n",
       " 2.3\n",
       " 2.4\n",
       " 2.5\n",
       " 2.6\n",
       " 2.7\n",
       " 2.8\n",
       " 2.9\n",
       " 3.0"
      ]
     },
     "execution_count": 100,
     "metadata": {},
     "output_type": "execute_result"
    }
   ],
   "source": [
    "collect(2.0 : 0.1: 3.0)"
   ]
  },
  {
   "cell_type": "code",
   "execution_count": 102,
   "metadata": {
    "collapsed": false
   },
   "outputs": [
    {
     "data": {
      "text/plain": [
       "0.0:0.7853981633974483:6.283185307179586"
      ]
     },
     "execution_count": 102,
     "metadata": {},
     "output_type": "execute_result"
    }
   ],
   "source": [
    "0 : pi/4 : 2pi"
   ]
  },
  {
   "cell_type": "code",
   "execution_count": 103,
   "metadata": {
    "collapsed": false
   },
   "outputs": [
    {
     "data": {
      "text/plain": [
       "2×3 Array{Int64,2}:\n",
       " 2  3  4\n",
       " 1  0  1"
      ]
     },
     "execution_count": 103,
     "metadata": {},
     "output_type": "execute_result"
    }
   ],
   "source": [
    "A"
   ]
  },
  {
   "cell_type": "code",
   "execution_count": 104,
   "metadata": {
    "collapsed": false,
    "scrolled": true
   },
   "outputs": [
    {
     "data": {
      "text/plain": [
       "2-element Array{Int64,1}:\n",
       " 3\n",
       " 0"
      ]
     },
     "execution_count": 104,
     "metadata": {},
     "output_type": "execute_result"
    }
   ],
   "source": [
    "A[:,2]"
   ]
  },
  {
   "cell_type": "code",
   "execution_count": 105,
   "metadata": {
    "collapsed": false
   },
   "outputs": [
    {
     "data": {
      "text/plain": [
       "3-element Array{Int64,1}:\n",
       " 2\n",
       " 3\n",
       " 4"
      ]
     },
     "execution_count": 105,
     "metadata": {},
     "output_type": "execute_result"
    }
   ],
   "source": [
    "A[1,:]"
   ]
  },
  {
   "cell_type": "code",
   "execution_count": 108,
   "metadata": {
    "collapsed": false
   },
   "outputs": [
    {
     "data": {
      "text/plain": [
       "2×3 Array{Float64,2}:\n",
       " 0.0356084  0.527433  0.7438  \n",
       " 0.498461   0.865589  0.884801"
      ]
     },
     "execution_count": 108,
     "metadata": {},
     "output_type": "execute_result"
    }
   ],
   "source": [
    "A = rand(2,3)"
   ]
  },
  {
   "cell_type": "code",
   "execution_count": 109,
   "metadata": {
    "collapsed": false,
    "scrolled": true
   },
   "outputs": [
    {
     "data": {
      "text/plain": [
       "0.0"
      ]
     },
     "execution_count": 109,
     "metadata": {},
     "output_type": "execute_result"
    }
   ],
   "source": [
    "A[2,3] = 0.0"
   ]
  },
  {
   "cell_type": "code",
   "execution_count": 110,
   "metadata": {
    "collapsed": false
   },
   "outputs": [
    {
     "data": {
      "text/plain": [
       "2×3 Array{Float64,2}:\n",
       " 0.0356084  0.527433  0.7438\n",
       " 0.498461   0.865589  0.0   "
      ]
     },
     "execution_count": 110,
     "metadata": {},
     "output_type": "execute_result"
    }
   ],
   "source": [
    "A"
   ]
  },
  {
   "cell_type": "code",
   "execution_count": 114,
   "metadata": {
    "collapsed": false
   },
   "outputs": [
    {
     "data": {
      "text/plain": [
       "4×4 Array{Float64,2}:\n",
       " 1.0  0.0  0.0  0.0\n",
       " 0.0  1.0  0.0  0.0\n",
       " 0.0  0.0  1.0  0.0\n",
       " 0.0  0.0  0.0  1.0"
      ]
     },
     "execution_count": 114,
     "metadata": {},
     "output_type": "execute_result"
    }
   ],
   "source": [
    "eye(4)"
   ]
  },
  {
   "cell_type": "code",
   "execution_count": 115,
   "metadata": {
    "collapsed": false
   },
   "outputs": [
    {
     "data": {
      "text/plain": [
       "(2,3)"
      ]
     },
     "execution_count": 115,
     "metadata": {},
     "output_type": "execute_result"
    }
   ],
   "source": [
    "size(A)"
   ]
  },
  {
   "cell_type": "code",
   "execution_count": 117,
   "metadata": {
    "collapsed": false
   },
   "outputs": [
    {
     "data": {
      "text/plain": [
       "(2,3)"
      ]
     },
     "execution_count": 117,
     "metadata": {},
     "output_type": "execute_result"
    }
   ],
   "source": [
    "m, n = size(A)"
   ]
  },
  {
   "cell_type": "code",
   "execution_count": 118,
   "metadata": {
    "collapsed": false
   },
   "outputs": [
    {
     "data": {
      "text/plain": [
       "(2,3)"
      ]
     },
     "execution_count": 118,
     "metadata": {},
     "output_type": "execute_result"
    }
   ],
   "source": [
    "(m, n) = size(A)"
   ]
  },
  {
   "cell_type": "code",
   "execution_count": 119,
   "metadata": {
    "collapsed": false
   },
   "outputs": [
    {
     "data": {
      "text/plain": [
       "2"
      ]
     },
     "execution_count": 119,
     "metadata": {},
     "output_type": "execute_result"
    }
   ],
   "source": [
    "m"
   ]
  },
  {
   "cell_type": "code",
   "execution_count": 120,
   "metadata": {
    "collapsed": false
   },
   "outputs": [
    {
     "data": {
      "text/plain": [
       "5"
      ]
     },
     "execution_count": 120,
     "metadata": {},
     "output_type": "execute_result"
    }
   ],
   "source": [
    "length(v)"
   ]
  },
  {
   "cell_type": "markdown",
   "metadata": {},
   "source": [
    "## Exercício\n",
    "\n",
    "- Crie um vetor aleatório e mude o primeiro elemento para o seu oposto (i.e. mude o sinal)"
   ]
  },
  {
   "cell_type": "code",
   "execution_count": 121,
   "metadata": {
    "collapsed": false
   },
   "outputs": [
    {
     "data": {
      "text/plain": [
       "3-element Array{Float64,1}:\n",
       " 0.795822\n",
       " 0.499114\n",
       " 0.421126"
      ]
     },
     "execution_count": 121,
     "metadata": {},
     "output_type": "execute_result"
    }
   ],
   "source": [
    "v = rand(3)"
   ]
  },
  {
   "cell_type": "code",
   "execution_count": 122,
   "metadata": {
    "collapsed": false
   },
   "outputs": [
    {
     "data": {
      "text/plain": [
       "-0.7958224920315167"
      ]
     },
     "execution_count": 122,
     "metadata": {},
     "output_type": "execute_result"
    }
   ],
   "source": [
    "v[1] = -v[1]"
   ]
  },
  {
   "cell_type": "code",
   "execution_count": 123,
   "metadata": {
    "collapsed": false
   },
   "outputs": [
    {
     "data": {
      "text/plain": [
       "3-element Array{Float64,1}:\n",
       " -0.795822\n",
       "  0.499114\n",
       "  0.421126"
      ]
     },
     "execution_count": 123,
     "metadata": {},
     "output_type": "execute_result"
    }
   ],
   "source": [
    "v"
   ]
  },
  {
   "cell_type": "markdown",
   "metadata": {},
   "source": [
    "## Matriz por blocos - concatenação"
   ]
  },
  {
   "cell_type": "code",
   "execution_count": 124,
   "metadata": {
    "collapsed": false
   },
   "outputs": [
    {
     "data": {
      "text/plain": [
       "5×5 Array{Float64,2}:\n",
       " 0.896208  0.780958    0.348082  0.0  0.0\n",
       " 0.151002  0.00465716  0.065718  0.0  0.0\n",
       " 0.331548  0.580115    0.328334  0.0  0.0\n",
       " 1.0       1.0         1.0       1.0  0.0\n",
       " 1.0       1.0         1.0       0.0  1.0"
      ]
     },
     "execution_count": 124,
     "metadata": {},
     "output_type": "execute_result"
    }
   ],
   "source": [
    "[rand(3,3) zeros(3,2); ones(2,3) eye(2,2)]"
   ]
  },
  {
   "cell_type": "markdown",
   "metadata": {},
   "source": [
    "# Funções"
   ]
  },
  {
   "cell_type": "markdown",
   "metadata": {},
   "source": [
    "3 tipos\n",
    "- curta\n",
    "- anônima\n",
    "- longa"
   ]
  },
  {
   "cell_type": "code",
   "execution_count": 134,
   "metadata": {
    "collapsed": false
   },
   "outputs": [
    {
     "data": {
      "text/plain": [
       "2"
      ]
     },
     "execution_count": 134,
     "metadata": {},
     "output_type": "execute_result"
    }
   ],
   "source": [
    "min(2, 3, 5)"
   ]
  },
  {
   "cell_type": "code",
   "execution_count": 125,
   "metadata": {
    "collapsed": false
   },
   "outputs": [
    {
     "data": {
      "text/plain": [
       "6.876810843651149"
      ]
     },
     "execution_count": 125,
     "metadata": {},
     "output_type": "execute_result"
    }
   ],
   "source": [
    "exp(1) - sin(1) + abs(5)"
   ]
  },
  {
   "cell_type": "code",
   "execution_count": 137,
   "metadata": {
    "collapsed": false
   },
   "outputs": [
    {
     "data": {
      "text/plain": [
       "4"
      ]
     },
     "execution_count": 137,
     "metadata": {},
     "output_type": "execute_result"
    }
   ],
   "source": [
    "gcd(12, 8) # MDC"
   ]
  },
  {
   "cell_type": "code",
   "execution_count": 131,
   "metadata": {
    "collapsed": false
   },
   "outputs": [
    {
     "name": "stderr",
     "output_type": "stream",
     "text": [
      "WARNING: Method definition f(Any) in module Main at In[130]:1 overwritten at In[131]:1.\n"
     ]
    },
    {
     "data": {
      "text/plain": [
       "2.0024984394500787"
      ]
     },
     "execution_count": 131,
     "metadata": {},
     "output_type": "execute_result"
    }
   ],
   "source": [
    "f(x) = sqrt(x^2 + 1e-2)\n",
    "f(2)"
   ]
  },
  {
   "cell_type": "code",
   "execution_count": 127,
   "metadata": {
    "collapsed": false
   },
   "outputs": [
    {
     "data": {
      "text/plain": [
       "9"
      ]
     },
     "execution_count": 127,
     "metadata": {},
     "output_type": "execute_result"
    }
   ],
   "source": [
    "f(-3)"
   ]
  },
  {
   "cell_type": "code",
   "execution_count": 128,
   "metadata": {
    "collapsed": false
   },
   "outputs": [
    {
     "data": {
      "text/plain": [
       "2.0000000000000004"
      ]
     },
     "execution_count": 128,
     "metadata": {},
     "output_type": "execute_result"
    }
   ],
   "source": [
    "f(sqrt(2))"
   ]
  },
  {
   "cell_type": "code",
   "execution_count": 138,
   "metadata": {
    "collapsed": false
   },
   "outputs": [
    {
     "data": {
      "text/plain": [
       "g (generic function with 1 method)"
      ]
     },
     "execution_count": 138,
     "metadata": {},
     "output_type": "execute_result"
    }
   ],
   "source": [
    "g(a,b) = exp(a + b)"
   ]
  },
  {
   "cell_type": "code",
   "execution_count": 139,
   "metadata": {
    "collapsed": false
   },
   "outputs": [
    {
     "data": {
      "text/plain": [
       "148.4131591025766"
      ]
     },
     "execution_count": 139,
     "metadata": {},
     "output_type": "execute_result"
    }
   ],
   "source": [
    "g(2,3)"
   ]
  },
  {
   "cell_type": "code",
   "execution_count": 141,
   "metadata": {
    "collapsed": false
   },
   "outputs": [
    {
     "data": {
      "text/plain": [
       "1.0"
      ]
     },
     "execution_count": 141,
     "metadata": {},
     "output_type": "execute_result"
    }
   ],
   "source": [
    "g(3,-3)"
   ]
  },
  {
   "cell_type": "code",
   "execution_count": 142,
   "metadata": {
    "collapsed": false
   },
   "outputs": [
    {
     "data": {
      "text/plain": [
       "(::#3) (generic function with 1 method)"
      ]
     },
     "execution_count": 142,
     "metadata": {},
     "output_type": "execute_result"
    }
   ],
   "source": [
    "h = x -> sin(x)"
   ]
  },
  {
   "cell_type": "code",
   "execution_count": 143,
   "metadata": {
    "collapsed": false
   },
   "outputs": [
    {
     "data": {
      "text/plain": [
       "bar (generic function with 1 method)"
      ]
     },
     "execution_count": 143,
     "metadata": {},
     "output_type": "execute_result"
    }
   ],
   "source": [
    "bar(foo, a) = foo(a) * 2 + 1    ## bar(f,a) = 2f(a) + 1"
   ]
  },
  {
   "cell_type": "code",
   "execution_count": 146,
   "metadata": {
    "collapsed": false
   },
   "outputs": [
    {
     "data": {
      "text/plain": [
       "5.004996878900157"
      ]
     },
     "execution_count": 146,
     "metadata": {},
     "output_type": "execute_result"
    }
   ],
   "source": [
    "bar(f, 2) # f definida lá em cima"
   ]
  },
  {
   "cell_type": "code",
   "execution_count": 150,
   "metadata": {
    "collapsed": false
   },
   "outputs": [
    {
     "data": {
      "text/plain": [
       "1.0000000000000013"
      ]
     },
     "execution_count": 150,
     "metadata": {},
     "output_type": "execute_result"
    }
   ],
   "source": [
    "bar(x->sin(pi * x), 5)"
   ]
  },
  {
   "cell_type": "code",
   "execution_count": 149,
   "metadata": {
    "collapsed": false
   },
   "outputs": [
    {
     "data": {
      "text/plain": [
       "-0.9178485493262769"
      ]
     },
     "execution_count": 149,
     "metadata": {},
     "output_type": "execute_result"
    }
   ],
   "source": [
    "bar(h, 5)"
   ]
  },
  {
   "cell_type": "code",
   "execution_count": 151,
   "metadata": {
    "collapsed": false
   },
   "outputs": [
    {
     "data": {
      "text/plain": [
       "soma_dois_numeros (generic function with 1 method)"
      ]
     },
     "execution_count": 151,
     "metadata": {},
     "output_type": "execute_result"
    }
   ],
   "source": [
    "function soma_dois_numeros(a, b)\n",
    "    return a + b\n",
    "end"
   ]
  },
  {
   "cell_type": "code",
   "execution_count": 153,
   "metadata": {
    "collapsed": false
   },
   "outputs": [
    {
     "data": {
      "text/plain": [
       "2"
      ]
     },
     "execution_count": 153,
     "metadata": {},
     "output_type": "execute_result"
    }
   ],
   "source": [
    "soma_dois_numeros(3, -1)"
   ]
  },
  {
   "cell_type": "code",
   "execution_count": 154,
   "metadata": {
    "collapsed": false
   },
   "outputs": [
    {
     "data": {
      "text/plain": [
       "aproxima_integral (generic function with 1 method)"
      ]
     },
     "execution_count": 154,
     "metadata": {},
     "output_type": "execute_result"
    }
   ],
   "source": [
    "function aproxima_integral(f, a, b)\n",
    "    h = (b-a)/2\n",
    "    S = f(a) + f( (a+b)/2 )\n",
    "    return h * S\n",
    "end"
   ]
  },
  {
   "cell_type": "code",
   "execution_count": 156,
   "metadata": {
    "collapsed": false
   },
   "outputs": [
    {
     "data": {
      "text/plain": [
       "0.0625"
      ]
     },
     "execution_count": 156,
     "metadata": {},
     "output_type": "execute_result"
    }
   ],
   "source": [
    "aproxima_integral(x->x^3, 0, 1)"
   ]
  },
  {
   "cell_type": "markdown",
   "metadata": {},
   "source": [
    "# Exercícios"
   ]
  },
  {
   "cell_type": "markdown",
   "metadata": {
    "collapsed": true
   },
   "source": [
    "- Crie uma função que recebe $a$ e calcula $2\\bigg(a + \\dfrac{1}{a}\\bigg)$.\n",
    "- Crie uma função que recebe dois catetos e calcula a hipotenusa.\n",
    "- Crie uma função que recebe uma matriz A e um vetor v e retorna\n",
    "$\\dfrac{\\langle v, Av\\rangle}{\\langle v, v\\rangle}$"
   ]
  },
  {
   "cell_type": "code",
   "execution_count": 157,
   "metadata": {
    "collapsed": false
   },
   "outputs": [
    {
     "name": "stderr",
     "output_type": "stream",
     "text": [
      "WARNING: Method definition f(Any) in module Main at In[131]:1 overwritten at In[157]:1.\n"
     ]
    },
    {
     "data": {
      "text/plain": [
       "f (generic function with 1 method)"
      ]
     },
     "execution_count": 157,
     "metadata": {},
     "output_type": "execute_result"
    }
   ],
   "source": [
    "f(a) = 2*(a + 1/a)"
   ]
  },
  {
   "cell_type": "code",
   "execution_count": 158,
   "metadata": {
    "collapsed": false
   },
   "outputs": [
    {
     "data": {
      "text/plain": [
       "5.0"
      ]
     },
     "execution_count": 158,
     "metadata": {},
     "output_type": "execute_result"
    }
   ],
   "source": [
    "f(2)"
   ]
  },
  {
   "cell_type": "code",
   "execution_count": 159,
   "metadata": {
    "collapsed": false
   },
   "outputs": [
    {
     "data": {
      "text/plain": [
       "hipotenusa (generic function with 1 method)"
      ]
     },
     "execution_count": 159,
     "metadata": {},
     "output_type": "execute_result"
    }
   ],
   "source": [
    "function hipotenusa(cat1, cat2)\n",
    "    return sqrt(cat1^2 + cat2^2)\n",
    "end"
   ]
  },
  {
   "cell_type": "code",
   "execution_count": 160,
   "metadata": {
    "collapsed": false
   },
   "outputs": [
    {
     "data": {
      "text/plain": [
       "5.0"
      ]
     },
     "execution_count": 160,
     "metadata": {},
     "output_type": "execute_result"
    }
   ],
   "source": [
    "hipotenusa(3, 4)"
   ]
  },
  {
   "cell_type": "code",
   "execution_count": 161,
   "metadata": {
    "collapsed": false
   },
   "outputs": [
    {
     "data": {
      "text/plain": [
       "rayleigh (generic function with 1 method)"
      ]
     },
     "execution_count": 161,
     "metadata": {},
     "output_type": "execute_result"
    }
   ],
   "source": [
    "function rayleigh(A, v)\n",
    "    return dot(A*v, v)/dot(v, v)\n",
    "end"
   ]
  },
  {
   "cell_type": "code",
   "execution_count": 162,
   "metadata": {
    "collapsed": false
   },
   "outputs": [
    {
     "data": {
      "text/plain": [
       "2×2 Array{Float64,2}:\n",
       " 1.0  0.0\n",
       " 0.0  4.0"
      ]
     },
     "execution_count": 162,
     "metadata": {},
     "output_type": "execute_result"
    }
   ],
   "source": [
    "A = [1.0   0.0;   0.0   4.0]"
   ]
  },
  {
   "cell_type": "code",
   "execution_count": 197,
   "metadata": {
    "collapsed": false
   },
   "outputs": [
    {
     "data": {
      "text/plain": [
       "2.8161296517684398"
      ]
     },
     "execution_count": 197,
     "metadata": {},
     "output_type": "execute_result"
    }
   ],
   "source": [
    "rayleigh(A, rand(2))"
   ]
  },
  {
   "cell_type": "markdown",
   "metadata": {},
   "source": [
    "# Loops e condicionais"
   ]
  },
  {
   "cell_type": "code",
   "execution_count": 3,
   "metadata": {
    "collapsed": false,
    "scrolled": true
   },
   "outputs": [
    {
     "name": "stdout",
     "output_type": "stream",
     "text": [
      "0.0\n",
      "0.010000000000000002\n",
      "0.04000000000000001\n",
      "0.09\n",
      "0.16000000000000003\n",
      "0.25\n",
      "0.36\n",
      "0.48999999999999994\n",
      "0.6400000000000001\n",
      "0.81\n",
      "1.0\n"
     ]
    }
   ],
   "source": [
    "for i = linspace(0, 1, 11)\n",
    "    println(i^2)\n",
    "end"
   ]
  },
  {
   "cell_type": "code",
   "execution_count": 4,
   "metadata": {
    "collapsed": false
   },
   "outputs": [
    {
     "name": "stdout",
     "output_type": "stream",
     "text": [
      "1 é primo\n",
      "2 é primo\n",
      "3 é primo\n",
      "4 é primo\n",
      "5 é primo\n",
      "6 é primo\n",
      "7 é primo\n",
      "8 é primo\n",
      "9 é primo\n",
      "10 é primo\n"
     ]
    }
   ],
   "source": [
    "for i = 1:10\n",
    "    \n",
    "    ## Vê se ele é primo (como ??)\n",
    "    \n",
    "    println(\"$i é primo\")\n",
    "end"
   ]
  },
  {
   "cell_type": "code",
   "execution_count": 5,
   "metadata": {
    "collapsed": false
   },
   "outputs": [
    {
     "data": {
      "text/plain": [
       "10×10 Array{Float64,2}:\n",
       " 1.0       0.5        0.333333   …  0.125      0.111111   0.1      \n",
       " 0.5       0.333333   0.25          0.111111   0.1        0.0909091\n",
       " 0.333333  0.25       0.2           0.1        0.0909091  0.0833333\n",
       " 0.25      0.2        0.166667      0.0909091  0.0833333  0.0769231\n",
       " 0.2       0.166667   0.142857      0.0833333  0.0769231  0.0714286\n",
       " 0.166667  0.142857   0.125      …  0.0769231  0.0714286  0.0666667\n",
       " 0.142857  0.125      0.111111      0.0714286  0.0666667  0.0625   \n",
       " 0.125     0.111111   0.1           0.0666667  0.0625     0.0588235\n",
       " 0.111111  0.1        0.0909091     0.0625     0.0588235  0.0555556\n",
       " 0.1       0.0909091  0.0833333     0.0588235  0.0555556  0.0526316"
      ]
     },
     "execution_count": 5,
     "metadata": {},
     "output_type": "execute_result"
    }
   ],
   "source": [
    "A = zeros(10, 10)\n",
    "\n",
    "for i = 1:10 # linhas\n",
    "    for j = 1:10 # colunas\n",
    "        A[i,j] = 1.0/(i + j - 1)\n",
    "    end\n",
    "end\n",
    "\n",
    "A"
   ]
  },
  {
   "cell_type": "code",
   "execution_count": 88,
   "metadata": {
    "collapsed": false
   },
   "outputs": [
    {
     "name": "stdout",
     "output_type": "stream",
     "text": [
      "i = 1.0\n",
      "i = 1.5\n",
      "i = 2.0\n",
      "i = 2.5\n",
      "i = 3.0\n",
      "i = 3.5\n",
      "i = 4.0\n",
      "i = 4.5\n",
      "i = 5.0\n"
     ]
    }
   ],
   "source": [
    "for i = 1 : 0.5 : 5\n",
    "    println(\"i = $i\")\n",
    "end"
   ]
  },
  {
   "cell_type": "code",
   "execution_count": 208,
   "metadata": {
    "collapsed": true
   },
   "outputs": [],
   "source": [
    "x = rand(10)\n",
    "y = zeros(10)\n",
    "for i = 1:10\n",
    "    y[i] = x[i] * i\n",
    "end"
   ]
  },
  {
   "cell_type": "code",
   "execution_count": 209,
   "metadata": {
    "collapsed": false
   },
   "outputs": [
    {
     "data": {
      "text/plain": [
       "10-element Array{Float64,1}:\n",
       " 0.537613 \n",
       " 0.978892 \n",
       " 0.119257 \n",
       " 0.984027 \n",
       " 0.943599 \n",
       " 0.578526 \n",
       " 0.0138703\n",
       " 0.30376  \n",
       " 0.771505 \n",
       " 0.119265 "
      ]
     },
     "execution_count": 209,
     "metadata": {},
     "output_type": "execute_result"
    }
   ],
   "source": [
    "x"
   ]
  },
  {
   "cell_type": "code",
   "execution_count": 210,
   "metadata": {
    "collapsed": false
   },
   "outputs": [
    {
     "data": {
      "text/plain": [
       "10-element Array{Float64,1}:\n",
       " 0.537613 \n",
       " 1.95778  \n",
       " 0.357772 \n",
       " 3.93611  \n",
       " 4.718    \n",
       " 3.47116  \n",
       " 0.0970923\n",
       " 2.43008  \n",
       " 6.94354  \n",
       " 1.19265  "
      ]
     },
     "execution_count": 210,
     "metadata": {},
     "output_type": "execute_result"
    }
   ],
   "source": [
    "y"
   ]
  },
  {
   "cell_type": "code",
   "execution_count": 6,
   "metadata": {
    "collapsed": false
   },
   "outputs": [
    {
     "name": "stdout",
     "output_type": "stream",
     "text": [
      "sin(0.0) = 0.0\n",
      "sin(0.5235987755982988) = 0.49999999999999994\n",
      "sin(0.7853981633974483) = 0.7071067811865475\n",
      "sin(1.0471975511965976) = 0.8660254037844386\n",
      "sin(1.5707963267948966) = 1.0\n"
     ]
    }
   ],
   "source": [
    "for x in [0; pi/6; pi/4; pi/3; pi/2]\n",
    "    println(\"sin($x) = $(sin(x))\")\n",
    "end"
   ]
  },
  {
   "cell_type": "code",
   "execution_count": 8,
   "metadata": {
    "collapsed": false
   },
   "outputs": [
    {
     "name": "stdout",
     "output_type": "stream",
     "text": [
      "1^2 = 1\n",
      "2^2 = 4\n",
      "3^2 = 9\n",
      "4^2 = 16\n",
      "5^2 = 25\n",
      "6^2 = 36\n",
      "7^2 = 49\n",
      "8^2 = 64\n",
      "9^2 = 81\n",
      "10^2 = 100\n"
     ]
    }
   ],
   "source": [
    "for i in 1:10\n",
    "    println(\"$i^2 = $(i^2)\")\n",
    "end"
   ]
  },
  {
   "cell_type": "code",
   "execution_count": 218,
   "metadata": {
    "collapsed": false,
    "scrolled": true
   },
   "outputs": [
    {
     "name": "stdout",
     "output_type": "stream",
     "text": [
      "3 6 9 12 15 18 "
     ]
    }
   ],
   "source": [
    "for i = 3:3:20\n",
    "    print(\"$i \")\n",
    "end"
   ]
  },
  {
   "cell_type": "code",
   "execution_count": 10,
   "metadata": {
    "collapsed": false
   },
   "outputs": [
    {
     "data": {
      "text/plain": [
       "6-element Array{Float64,1}:\n",
       " 1.0\n",
       " 5.0\n",
       " 1.0\n",
       " 1.0\n",
       " 1.0\n",
       " 1.0"
      ]
     },
     "execution_count": 10,
     "metadata": {},
     "output_type": "execute_result"
    }
   ],
   "source": [
    "n = 6\n",
    "v = ones(n)\n",
    "v[2] = 5\n",
    "v"
   ]
  },
  {
   "cell_type": "code",
   "execution_count": 11,
   "metadata": {
    "collapsed": false
   },
   "outputs": [
    {
     "data": {
      "text/plain": [
       "3.0"
      ]
     },
     "execution_count": 11,
     "metadata": {},
     "output_type": "execute_result"
    }
   ],
   "source": [
    "n/2"
   ]
  },
  {
   "cell_type": "code",
   "execution_count": 14,
   "metadata": {
    "collapsed": false
   },
   "outputs": [
    {
     "data": {
      "text/plain": [
       "Float64"
      ]
     },
     "execution_count": 14,
     "metadata": {},
     "output_type": "execute_result"
    }
   ],
   "source": [
    "typeof(3.0)"
   ]
  },
  {
   "cell_type": "code",
   "execution_count": 15,
   "metadata": {
    "collapsed": false
   },
   "outputs": [
    {
     "data": {
      "text/plain": [
       "Int64"
      ]
     },
     "execution_count": 15,
     "metadata": {},
     "output_type": "execute_result"
    }
   ],
   "source": [
    "typeof(3)"
   ]
  },
  {
   "cell_type": "code",
   "execution_count": 12,
   "metadata": {
    "collapsed": false
   },
   "outputs": [
    {
     "ename": "LoadError",
     "evalue": "LoadError: ArgumentError: invalid index: 3.0\nwhile loading In[12], in expression starting on line 1",
     "output_type": "error",
     "traceback": [
      "LoadError: ArgumentError: invalid index: 3.0\nwhile loading In[12], in expression starting on line 1",
      "",
      " in setindex!(::Array{Float64,1}, ::Int64, ::Float64) at ./array.jl:415"
     ]
    }
   ],
   "source": [
    "v[n/2] = 2\n",
    "v"
   ]
  },
  {
   "cell_type": "code",
   "execution_count": 95,
   "metadata": {
    "collapsed": false,
    "scrolled": false
   },
   "outputs": [
    {
     "data": {
      "text/plain": [
       "3.0"
      ]
     },
     "execution_count": 95,
     "metadata": {},
     "output_type": "execute_result"
    }
   ],
   "source": [
    "n/2"
   ]
  },
  {
   "cell_type": "code",
   "execution_count": 16,
   "metadata": {
    "collapsed": false
   },
   "outputs": [
    {
     "data": {
      "text/plain": [
       "3"
      ]
     },
     "execution_count": 16,
     "metadata": {},
     "output_type": "execute_result"
    }
   ],
   "source": [
    "div(7,2) # 7/2 = 3 com resto 1"
   ]
  },
  {
   "cell_type": "code",
   "execution_count": 17,
   "metadata": {
    "collapsed": false
   },
   "outputs": [
    {
     "data": {
      "text/plain": [
       "2"
      ]
     },
     "execution_count": 17,
     "metadata": {},
     "output_type": "execute_result"
    }
   ],
   "source": [
    "div(12, 5)"
   ]
  },
  {
   "cell_type": "code",
   "execution_count": 20,
   "metadata": {
    "collapsed": false,
    "scrolled": true
   },
   "outputs": [
    {
     "data": {
      "text/plain": [
       "4"
      ]
     },
     "execution_count": 20,
     "metadata": {},
     "output_type": "execute_result"
    }
   ],
   "source": [
    "round(Int, 3.9)"
   ]
  },
  {
   "cell_type": "code",
   "execution_count": 219,
   "metadata": {
    "collapsed": false,
    "scrolled": true
   },
   "outputs": [
    {
     "data": {
      "text/plain": [
       "2"
      ]
     },
     "execution_count": 219,
     "metadata": {},
     "output_type": "execute_result"
    }
   ],
   "source": [
    "10 % 4 # resto da divisão de 10 por 4"
   ]
  },
  {
   "cell_type": "code",
   "execution_count": 21,
   "metadata": {
    "collapsed": false
   },
   "outputs": [
    {
     "data": {
      "text/plain": [
       "2"
      ]
     },
     "execution_count": 21,
     "metadata": {},
     "output_type": "execute_result"
    }
   ],
   "source": [
    "12 % 5"
   ]
  },
  {
   "cell_type": "markdown",
   "metadata": {},
   "source": [
    "# Fatorial\n",
    "$$ n! = n(n-1)\\dots2. 1 $$"
   ]
  },
  {
   "cell_type": "code",
   "execution_count": 22,
   "metadata": {
    "collapsed": false
   },
   "outputs": [
    {
     "data": {
      "text/plain": [
       "fatorial (generic function with 1 method)"
      ]
     },
     "execution_count": 22,
     "metadata": {},
     "output_type": "execute_result"
    }
   ],
   "source": [
    "function fatorial(n)\n",
    "    resultado = 1\n",
    "    for i = 1:n\n",
    "        resultado = resultado * i\n",
    "    end\n",
    "    return resultado\n",
    "end"
   ]
  },
  {
   "cell_type": "code",
   "execution_count": 23,
   "metadata": {
    "collapsed": false
   },
   "outputs": [
    {
     "data": {
      "text/plain": [
       "24"
      ]
     },
     "execution_count": 23,
     "metadata": {},
     "output_type": "execute_result"
    }
   ],
   "source": [
    "fatorial(4)"
   ]
  },
  {
   "cell_type": "code",
   "execution_count": 24,
   "metadata": {
    "collapsed": false
   },
   "outputs": [
    {
     "data": {
      "text/plain": [
       "3628800"
      ]
     },
     "execution_count": 24,
     "metadata": {},
     "output_type": "execute_result"
    }
   ],
   "source": [
    "fatorial(10)"
   ]
  },
  {
   "cell_type": "code",
   "execution_count": 25,
   "metadata": {
    "collapsed": false,
    "scrolled": true
   },
   "outputs": [
    {
     "data": {
      "text/plain": [
       "1"
      ]
     },
     "execution_count": 25,
     "metadata": {},
     "output_type": "execute_result"
    }
   ],
   "source": [
    "fatorial(0)"
   ]
  },
  {
   "cell_type": "code",
   "execution_count": 27,
   "metadata": {
    "collapsed": false,
    "scrolled": true
   },
   "outputs": [
    {
     "data": {
      "text/plain": [
       "1"
      ]
     },
     "execution_count": 27,
     "metadata": {},
     "output_type": "execute_result"
    }
   ],
   "source": [
    "fatorial(-pi)"
   ]
  },
  {
   "cell_type": "code",
   "execution_count": 30,
   "metadata": {
    "collapsed": false
   },
   "outputs": [
    {
     "name": "stdout",
     "output_type": "stream",
     "text": [
      "1 ! = 1\n",
      "2 ! = 2\n",
      "3 ! = 6\n",
      "4 ! = 24\n",
      "5 ! = 120\n",
      "6 ! = 720\n",
      "7 ! = 5040\n",
      "8 ! = 40320\n",
      "9 ! = 362880\n",
      "10 ! = 3628800\n",
      "11 ! = 39916800\n",
      "12 ! = 479001600\n"
     ]
    }
   ],
   "source": [
    "for n = 1:12\n",
    "    println(\"$n ! = $(fatorial(n))\")\n",
    "end"
   ]
  },
  {
   "cell_type": "markdown",
   "metadata": {},
   "source": [
    "## Exercícios\n",
    "\n",
    "- Faça uma função `soma1(n)` que calcula a soma $1 + 2 + 3 + \\dots + n$, usando `for`. (O valor exato é `n(n+1)/2`).\n",
    "- Faça uma função `soma2(n)` que calcula a soma $1^2 + 2^2 + \\dots + n^2$, usando `for`. (O valor exato é `n(n+1)(2n+1)/6`)."
   ]
  },
  {
   "cell_type": "code",
   "execution_count": 31,
   "metadata": {
    "collapsed": false
   },
   "outputs": [
    {
     "data": {
      "text/plain": [
       "soma1 (generic function with 1 method)"
      ]
     },
     "execution_count": 31,
     "metadata": {},
     "output_type": "execute_result"
    }
   ],
   "source": [
    "function soma1(n)\n",
    "    S = 0\n",
    "    for i = 1:n\n",
    "        S = S + i\n",
    "    end\n",
    "    return S\n",
    "end"
   ]
  },
  {
   "cell_type": "code",
   "execution_count": 33,
   "metadata": {
    "collapsed": false
   },
   "outputs": [
    {
     "data": {
      "text/plain": [
       "5050"
      ]
     },
     "execution_count": 33,
     "metadata": {},
     "output_type": "execute_result"
    }
   ],
   "source": [
    "soma1(100)"
   ]
  },
  {
   "cell_type": "code",
   "execution_count": 36,
   "metadata": {
    "collapsed": false
   },
   "outputs": [
    {
     "name": "stderr",
     "output_type": "stream",
     "text": [
      "WARNING: Method definition soma2(Any) in module Main at In[34]:2 overwritten at In[36]:2.\n"
     ]
    },
    {
     "data": {
      "text/plain": [
       "soma2 (generic function with 1 method)"
      ]
     },
     "execution_count": 36,
     "metadata": {},
     "output_type": "execute_result"
    }
   ],
   "source": [
    "function soma2(n)\n",
    "    S = 0\n",
    "    for i = 1:n\n",
    "        S = S + i^2\n",
    "    end\n",
    "    return S\n",
    "end"
   ]
  },
  {
   "cell_type": "code",
   "execution_count": 37,
   "metadata": {
    "collapsed": false
   },
   "outputs": [
    {
     "data": {
      "text/plain": [
       "14"
      ]
     },
     "execution_count": 37,
     "metadata": {},
     "output_type": "execute_result"
    }
   ],
   "source": [
    "m = 3\n",
    "soma2(m)"
   ]
  },
  {
   "cell_type": "markdown",
   "metadata": {},
   "source": [
    "### Condicional"
   ]
  },
  {
   "cell_type": "code",
   "execution_count": 38,
   "metadata": {
    "collapsed": false
   },
   "outputs": [
    {
     "data": {
      "text/plain": [
       "sinal (generic function with 1 method)"
      ]
     },
     "execution_count": 38,
     "metadata": {},
     "output_type": "execute_result"
    }
   ],
   "source": [
    "function sinal(x)\n",
    "    if x > 0\n",
    "        return 1\n",
    "    elseif x < 0\n",
    "        return -1\n",
    "    else\n",
    "        return 0\n",
    "    end\n",
    "end"
   ]
  },
  {
   "cell_type": "code",
   "execution_count": 40,
   "metadata": {
    "collapsed": false
   },
   "outputs": [
    {
     "data": {
      "text/plain": [
       "1"
      ]
     },
     "execution_count": 40,
     "metadata": {},
     "output_type": "execute_result"
    }
   ],
   "source": [
    "sinal(3.2)"
   ]
  },
  {
   "cell_type": "code",
   "execution_count": 41,
   "metadata": {
    "collapsed": false
   },
   "outputs": [
    {
     "data": {
      "text/plain": [
       "-1"
      ]
     },
     "execution_count": 41,
     "metadata": {},
     "output_type": "execute_result"
    }
   ],
   "source": [
    "sinal(-1.2)"
   ]
  },
  {
   "cell_type": "code",
   "execution_count": 42,
   "metadata": {
    "collapsed": false
   },
   "outputs": [
    {
     "data": {
      "text/plain": [
       "0"
      ]
     },
     "execution_count": 42,
     "metadata": {},
     "output_type": "execute_result"
    }
   ],
   "source": [
    "sinal(0.0)"
   ]
  },
  {
   "cell_type": "code",
   "execution_count": 43,
   "metadata": {
    "collapsed": false
   },
   "outputs": [
    {
     "data": {
      "text/plain": [
       "1"
      ]
     },
     "execution_count": 43,
     "metadata": {},
     "output_type": "execute_result"
    }
   ],
   "source": [
    "sinal(π)"
   ]
  },
  {
   "cell_type": "code",
   "execution_count": 53,
   "metadata": {
    "collapsed": false
   },
   "outputs": [
    {
     "data": {
      "text/plain": [
       "π = 3.1415926535897..."
      ]
     },
     "execution_count": 53,
     "metadata": {},
     "output_type": "execute_result"
    }
   ],
   "source": [
    "π"
   ]
  },
  {
   "cell_type": "code",
   "execution_count": 44,
   "metadata": {
    "collapsed": false
   },
   "outputs": [
    {
     "data": {
      "text/plain": [
       "bhaskara (generic function with 1 method)"
      ]
     },
     "execution_count": 44,
     "metadata": {},
     "output_type": "execute_result"
    }
   ],
   "source": [
    "function bhaskara(a, b, c) # ax² + bx + c = 0, Δ = b² - 4ac\n",
    "    Δ = b^2 - 4a*c\n",
    "    if Δ < 0\n",
    "        error(\"Nos reais não tem solução\")\n",
    "    end\n",
    "    return (-b + sqrt(Δ))/2a, (-b - sqrt(Δ))/2a\n",
    "end"
   ]
  },
  {
   "cell_type": "code",
   "execution_count": 48,
   "metadata": {
    "collapsed": false
   },
   "outputs": [
    {
     "data": {
      "text/plain": [
       "(-1.0,-2.0)"
      ]
     },
     "execution_count": 48,
     "metadata": {},
     "output_type": "execute_result"
    }
   ],
   "source": [
    "bhaskara(1, 3, 2) #x^2 + 5x + 6 = 0"
   ]
  },
  {
   "cell_type": "code",
   "execution_count": 49,
   "metadata": {
    "collapsed": false
   },
   "outputs": [
    {
     "ename": "LoadError",
     "evalue": "LoadError: Nos reais não tem solução\nwhile loading In[49], in expression starting on line 1",
     "output_type": "error",
     "traceback": [
      "LoadError: Nos reais não tem solução\nwhile loading In[49], in expression starting on line 1",
      "",
      " in bhaskara(::Int64, ::Int64, ::Int64) at ./In[44]:4"
     ]
    }
   ],
   "source": [
    "bhaskara(1, 0, 1) # x² + 1 = 0"
   ]
  },
  {
   "cell_type": "code",
   "execution_count": 50,
   "metadata": {
    "collapsed": false
   },
   "outputs": [
    {
     "data": {
      "text/plain": [
       "(1.0,-1.0)"
      ]
     },
     "execution_count": 50,
     "metadata": {},
     "output_type": "execute_result"
    }
   ],
   "source": [
    "bhaskara(1, 0, -1) # x² - 1 = 0"
   ]
  },
  {
   "cell_type": "markdown",
   "metadata": {},
   "source": [
    "## Exercícios\n",
    "\n",
    "- Faça uma função `primo(n)` que retorna se o número `n` é primo ou não. Lembrando que `n % p` é o resto da divisão de `n` por `p`. Teste com a função abaixo."
   ]
  },
  {
   "cell_type": "code",
   "execution_count": 55,
   "metadata": {
    "collapsed": false
   },
   "outputs": [
    {
     "name": "stdout",
     "output_type": "stream",
     "text": [
      "2\n",
      "3\n",
      "5\n",
      "1\n",
      "10\n"
     ]
    }
   ],
   "source": [
    "println(2)\n",
    "println(3)\n",
    "println(5)\n",
    "println(1)\n",
    "println(10)"
   ]
  },
  {
   "cell_type": "code",
   "execution_count": 56,
   "metadata": {
    "collapsed": false
   },
   "outputs": [
    {
     "data": {
      "text/plain": [
       "1"
      ]
     },
     "execution_count": 56,
     "metadata": {},
     "output_type": "execute_result"
    }
   ],
   "source": [
    "10 % 3"
   ]
  },
  {
   "cell_type": "code",
   "execution_count": 57,
   "metadata": {
    "collapsed": false
   },
   "outputs": [
    {
     "data": {
      "text/plain": [
       "2"
      ]
     },
     "execution_count": 57,
     "metadata": {},
     "output_type": "execute_result"
    }
   ],
   "source": [
    "10 % 4"
   ]
  },
  {
   "cell_type": "code",
   "execution_count": 58,
   "metadata": {
    "collapsed": false
   },
   "outputs": [
    {
     "data": {
      "text/plain": [
       "0"
      ]
     },
     "execution_count": 58,
     "metadata": {},
     "output_type": "execute_result"
    }
   ],
   "source": [
    "10 % 5"
   ]
  },
  {
   "cell_type": "code",
   "execution_count": 59,
   "metadata": {
    "collapsed": false
   },
   "outputs": [
    {
     "data": {
      "text/plain": [
       "1"
      ]
     },
     "execution_count": 59,
     "metadata": {},
     "output_type": "execute_result"
    }
   ],
   "source": [
    "13 % 2"
   ]
  },
  {
   "cell_type": "code",
   "execution_count": 60,
   "metadata": {
    "collapsed": false
   },
   "outputs": [
    {
     "data": {
      "text/plain": [
       "1"
      ]
     },
     "execution_count": 60,
     "metadata": {},
     "output_type": "execute_result"
    }
   ],
   "source": [
    "13 % 3"
   ]
  },
  {
   "cell_type": "code",
   "execution_count": 61,
   "metadata": {
    "collapsed": false
   },
   "outputs": [
    {
     "data": {
      "text/plain": [
       "1"
      ]
     },
     "execution_count": 61,
     "metadata": {},
     "output_type": "execute_result"
    }
   ],
   "source": [
    "13 % 4"
   ]
  },
  {
   "cell_type": "code",
   "execution_count": 62,
   "metadata": {
    "collapsed": false
   },
   "outputs": [
    {
     "data": {
      "text/plain": [
       "3"
      ]
     },
     "execution_count": 62,
     "metadata": {},
     "output_type": "execute_result"
    }
   ],
   "source": [
    "13 % 5"
   ]
  },
  {
   "cell_type": "code",
   "execution_count": 63,
   "metadata": {
    "collapsed": false
   },
   "outputs": [
    {
     "data": {
      "text/plain": [
       "1"
      ]
     },
     "execution_count": 63,
     "metadata": {},
     "output_type": "execute_result"
    }
   ],
   "source": [
    "13 % 6"
   ]
  },
  {
   "cell_type": "code",
   "execution_count": 64,
   "metadata": {
    "collapsed": false
   },
   "outputs": [
    {
     "data": {
      "text/plain": [
       "2"
      ]
     },
     "execution_count": 64,
     "metadata": {},
     "output_type": "execute_result"
    }
   ],
   "source": [
    "x = 2"
   ]
  },
  {
   "cell_type": "code",
   "execution_count": 65,
   "metadata": {
    "collapsed": false
   },
   "outputs": [
    {
     "data": {
      "text/plain": [
       "true"
      ]
     },
     "execution_count": 65,
     "metadata": {},
     "output_type": "execute_result"
    }
   ],
   "source": [
    "2 == 2"
   ]
  },
  {
   "cell_type": "code",
   "execution_count": 67,
   "metadata": {
    "collapsed": false
   },
   "outputs": [
    {
     "data": {
      "text/plain": [
       "true"
      ]
     },
     "execution_count": 67,
     "metadata": {},
     "output_type": "execute_result"
    }
   ],
   "source": [
    "x == 2"
   ]
  },
  {
   "cell_type": "code",
   "execution_count": 68,
   "metadata": {
    "collapsed": false
   },
   "outputs": [
    {
     "data": {
      "text/plain": [
       "false"
      ]
     },
     "execution_count": 68,
     "metadata": {},
     "output_type": "execute_result"
    }
   ],
   "source": [
    "x == 3"
   ]
  },
  {
   "cell_type": "code",
   "execution_count": 69,
   "metadata": {
    "collapsed": false
   },
   "outputs": [
    {
     "data": {
      "text/plain": [
       "3"
      ]
     },
     "execution_count": 69,
     "metadata": {},
     "output_type": "execute_result"
    }
   ],
   "source": [
    "x = 3"
   ]
  },
  {
   "cell_type": "code",
   "execution_count": 70,
   "metadata": {
    "collapsed": false,
    "scrolled": true
   },
   "outputs": [
    {
     "data": {
      "text/plain": [
       "false"
      ]
     },
     "execution_count": 70,
     "metadata": {},
     "output_type": "execute_result"
    }
   ],
   "source": [
    "2 == 3"
   ]
  },
  {
   "cell_type": "code",
   "execution_count": 71,
   "metadata": {
    "collapsed": false
   },
   "outputs": [
    {
     "ename": "LoadError",
     "evalue": "LoadError: syntax: invalid assignment location \"2\"\nwhile loading In[71], in expression starting on line 1",
     "output_type": "error",
     "traceback": [
      "LoadError: syntax: invalid assignment location \"2\"\nwhile loading In[71], in expression starting on line 1",
      ""
     ]
    }
   ],
   "source": [
    "2 = 3"
   ]
  },
  {
   "cell_type": "code",
   "execution_count": 72,
   "metadata": {
    "collapsed": false
   },
   "outputs": [
    {
     "data": {
      "text/plain": [
       "primo (generic function with 1 method)"
      ]
     },
     "execution_count": 72,
     "metadata": {},
     "output_type": "execute_result"
    }
   ],
   "source": [
    "function primo(n)\n",
    "    for i = 2:n-1\n",
    "        if n % i == 0\n",
    "            return false\n",
    "        end\n",
    "    end\n",
    "    return true\n",
    "end"
   ]
  },
  {
   "cell_type": "code",
   "execution_count": 80,
   "metadata": {
    "collapsed": false
   },
   "outputs": [
    {
     "data": {
      "text/plain": [
       "true"
      ]
     },
     "execution_count": 80,
     "metadata": {},
     "output_type": "execute_result"
    }
   ],
   "source": [
    "primo(269)"
   ]
  },
  {
   "cell_type": "code",
   "execution_count": 78,
   "metadata": {
    "collapsed": false
   },
   "outputs": [
    {
     "name": "stdout",
     "output_type": "stream",
     "text": [
      "2 é primo\n",
      "3 é primo\n",
      "4 não é primo\n",
      "5 é primo\n",
      "6 não é primo\n",
      "7 é primo\n",
      "8 não é primo\n",
      "9 não é primo\n",
      "10 não é primo\n",
      "11 é primo\n",
      "12 não é primo\n",
      "13 é primo\n",
      "14 não é primo\n",
      "15 não é primo\n"
     ]
    }
   ],
   "source": [
    "for i = 2:15\n",
    "    if primo(i)\n",
    "        println(\"$i é primo\")\n",
    "    else\n",
    "        println(\"$i não é primo\")\n",
    "    end\n",
    "end"
   ]
  },
  {
   "cell_type": "markdown",
   "metadata": {},
   "source": [
    "### Loop while"
   ]
  },
  {
   "cell_type": "code",
   "execution_count": 83,
   "metadata": {
    "collapsed": false
   },
   "outputs": [
    {
     "name": "stdout",
     "output_type": "stream",
     "text": [
      "i = 5\n",
      "i = 6\n",
      "i = 7\n",
      "i = 8\n",
      "i = 9\n",
      "i = 10\n"
     ]
    }
   ],
   "source": [
    "i = 5\n",
    "n = 10\n",
    "while i <= n\n",
    "    println(\"i = $i\")\n",
    "    i += 1 # += quer dizer = . + => i += 1 quer dizer i = i + 1\n",
    "end"
   ]
  },
  {
   "cell_type": "code",
   "execution_count": 84,
   "metadata": {
    "collapsed": false
   },
   "outputs": [
    {
     "data": {
      "text/plain": [
       "zero_de_funcao (generic function with 1 method)"
      ]
     },
     "execution_count": 84,
     "metadata": {},
     "output_type": "execute_result"
    }
   ],
   "source": [
    "function zero_de_funcao(f, a, b)\n",
    "    if f(a) * f(b) > 0\n",
    "        error(\"f pode não ter raíz em [$a,$b]\")\n",
    "    end\n",
    "    x = (a+b)/2\n",
    "    while abs(f(x)) > 1e-8\n",
    "        if f(x) * f(a) < 0\n",
    "            b = x\n",
    "        else\n",
    "            a = x\n",
    "        end\n",
    "        x = (a+b)/2\n",
    "    end\n",
    "    return x, f(x)\n",
    "end"
   ]
  },
  {
   "cell_type": "code",
   "execution_count": 86,
   "metadata": {
    "collapsed": false
   },
   "outputs": [
    {
     "data": {
      "text/plain": [
       "(1.570796325802803,9.920935796805404e-10)"
      ]
     },
     "execution_count": 86,
     "metadata": {},
     "output_type": "execute_result"
    }
   ],
   "source": [
    "x, fx = zero_de_funcao(x->cos(x), 0, 3)"
   ]
  },
  {
   "cell_type": "code",
   "execution_count": 88,
   "metadata": {
    "collapsed": false
   },
   "outputs": [
    {
     "data": {
      "text/plain": [
       "(0.5671432912349701,-1.2931850035258208e-9)"
      ]
     },
     "execution_count": 88,
     "metadata": {},
     "output_type": "execute_result"
    }
   ],
   "source": [
    "g(x) = exp(-x) - x\n",
    "x, fx = zero_de_funcao(g, 0, 1)"
   ]
  },
  {
   "cell_type": "code",
   "execution_count": 87,
   "metadata": {
    "collapsed": false
   },
   "outputs": [
    {
     "data": {
      "text/plain": [
       "1.5707963267948966"
      ]
     },
     "execution_count": 87,
     "metadata": {},
     "output_type": "execute_result"
    }
   ],
   "source": [
    "pi/2"
   ]
  },
  {
   "cell_type": "code",
   "execution_count": 116,
   "metadata": {
    "collapsed": false
   },
   "outputs": [
    {
     "data": {
      "text/plain": [
       "(-0.1666666641831398,-7.450580541412677e-9)"
      ]
     },
     "execution_count": 116,
     "metadata": {},
     "output_type": "execute_result"
    }
   ],
   "source": [
    "x, fx = zero_de_funcao(x->6x^2 - x - 1/3, -1, 0)"
   ]
  },
  {
   "cell_type": "code",
   "execution_count": 117,
   "metadata": {
    "collapsed": false
   },
   "outputs": [
    {
     "ename": "LoadError",
     "evalue": "LoadError: f pode não ter raíz em [-1,1]\nwhile loading In[117], in expression starting on line 1",
     "output_type": "error",
     "traceback": [
      "LoadError: f pode não ter raíz em [-1,1]\nwhile loading In[117], in expression starting on line 1",
      "",
      " in zero_de_funcao(::##9#10, ::Int64, ::Int64) at ./In[114]:3"
     ]
    }
   ],
   "source": [
    "x, fx = zero_de_funcao(x->6x^2 - x - 1/3, -1, 1)"
   ]
  },
  {
   "cell_type": "markdown",
   "metadata": {},
   "source": [
    "## Exercícios\n",
    "\n",
    "- Faça uma função `collatz(n)` que calcula uma sequência\n",
    "$$ a_{n+1} = \\left\\{\\begin{array}{ll}\n",
    "a_n/2, & \\mbox{se $a_n$ é par} \\\\\n",
    "3a_n + 1, & \\mbox{se $a_n$ é ímpar}.\n",
    "\\end{array}\\right.$$\n",
    "começando de $a_0 = n$, e parando quando $a_n = 1$.\n",
    "Imprima cada elemento da sequência."
   ]
  },
  {
   "cell_type": "code",
   "execution_count": 111,
   "metadata": {
    "collapsed": false
   },
   "outputs": [
    {
     "name": "stderr",
     "output_type": "stream",
     "text": [
      "WARNING: Method definition collatz(Any) in module Main at In[104]:3 overwritten at In[111]:3.\n"
     ]
    },
    {
     "data": {
      "text/plain": [
       "collatz (generic function with 1 method)"
      ]
     },
     "execution_count": 111,
     "metadata": {},
     "output_type": "execute_result"
    }
   ],
   "source": [
    "function collatz(n)\n",
    "    # n == 1 => PARE\n",
    "    println(\"n = $n\")\n",
    "    contador = 0\n",
    "    while n > 1\n",
    "        if n % 2 == 0\n",
    "            n = div(n, 2)\n",
    "        else\n",
    "            n = 3n + 1\n",
    "        end\n",
    "        contador += 1\n",
    "        println(\"n = $n\")\n",
    "    end\n",
    "    println(\"$contador numeros na sequencia\")\n",
    "end"
   ]
  },
  {
   "cell_type": "code",
   "execution_count": 112,
   "metadata": {
    "collapsed": false
   },
   "outputs": [
    {
     "name": "stdout",
     "output_type": "stream",
     "text": [
      "n = 63\n",
      "n = 190\n",
      "n = 95\n",
      "n = 286\n",
      "n = 143\n",
      "n = 430\n",
      "n = 215\n",
      "n = 646\n",
      "n = 323\n",
      "n = 970\n",
      "n = 485\n",
      "n = 1456\n",
      "n = 728\n",
      "n = 364\n",
      "n = 182\n",
      "n = 91\n",
      "n = 274\n",
      "n = 137\n",
      "n = 412\n",
      "n = 206\n",
      "n = 103\n",
      "n = 310\n",
      "n = 155\n",
      "n = 466\n",
      "n = 233\n",
      "n = 700\n",
      "n = 350\n",
      "n = 175\n",
      "n = 526\n",
      "n = 263\n",
      "n = 790\n",
      "n = 395\n",
      "n = 1186\n",
      "n = 593\n",
      "n = 1780\n",
      "n = 890\n",
      "n = 445\n",
      "n = 1336\n",
      "n = 668\n",
      "n = 334\n",
      "n = 167\n",
      "n = 502\n",
      "n = 251\n",
      "n = 754\n",
      "n = 377\n",
      "n = 1132\n",
      "n = 566\n",
      "n = 283\n",
      "n = 850\n",
      "n = 425\n",
      "n = 1276\n",
      "n = 638\n",
      "n = 319\n",
      "n = 958\n",
      "n = 479\n",
      "n = 1438\n",
      "n = 719\n",
      "n = 2158\n",
      "n = 1079\n",
      "n = 3238\n",
      "n = 1619\n",
      "n = 4858\n",
      "n = 2429\n",
      "n = 7288\n",
      "n = 3644\n",
      "n = 1822\n",
      "n = 911\n",
      "n = 2734\n",
      "n = 1367\n",
      "n = 4102\n",
      "n = 2051\n",
      "n = 6154\n",
      "n = 3077\n",
      "n = 9232\n",
      "n = 4616\n",
      "n = 2308\n",
      "n = 1154\n",
      "n = 577\n",
      "n = 1732\n",
      "n = 866\n",
      "n = 433\n",
      "n = 1300\n",
      "n = 650\n",
      "n = 325\n",
      "n = 976\n",
      "n = 488\n",
      "n = 244\n",
      "n = 122\n",
      "n = 61\n",
      "n = 184\n",
      "n = 92\n",
      "n = 46\n",
      "n = 23\n",
      "n = 70\n",
      "n = 35\n",
      "n = 106\n",
      "n = 53\n",
      "n = 160\n",
      "n = 80\n",
      "n = 40\n",
      "n = 20\n",
      "n = 10\n",
      "n = 5\n",
      "n = 16\n",
      "n = 8\n",
      "n = 4\n",
      "n = 2\n",
      "n = 1\n",
      "107 numeros na sequencia\n"
     ]
    }
   ],
   "source": [
    "collatz(BigInt(2)^6-1)"
   ]
  },
  {
   "cell_type": "code",
   "execution_count": 91,
   "metadata": {
    "collapsed": false
   },
   "outputs": [
    {
     "data": {
      "text/plain": [
       "9223372036854775807"
      ]
     },
     "execution_count": 91,
     "metadata": {},
     "output_type": "execute_result"
    }
   ],
   "source": [
    "m = 2^63-1"
   ]
  },
  {
   "cell_type": "code",
   "execution_count": 97,
   "metadata": {
    "collapsed": false
   },
   "outputs": [
    {
     "data": {
      "text/plain": [
       "8128291617894825984"
      ]
     },
     "execution_count": 97,
     "metadata": {},
     "output_type": "execute_result"
    }
   ],
   "source": [
    "fatorial(23)"
   ]
  },
  {
   "cell_type": "code",
   "execution_count": 103,
   "metadata": {
    "collapsed": false
   },
   "outputs": [
    {
     "data": {
      "text/plain": [
       "false"
      ]
     },
     "execution_count": 103,
     "metadata": {},
     "output_type": "execute_result"
    }
   ],
   "source": [
    "primo(BigInt(2)^130 - 1)"
   ]
  },
  {
   "cell_type": "markdown",
   "metadata": {},
   "source": [
    "## Operadores lógicos"
   ]
  },
  {
   "cell_type": "code",
   "execution_count": 113,
   "metadata": {
    "collapsed": false
   },
   "outputs": [
    {
     "data": {
      "text/plain": [
       "true"
      ]
     },
     "execution_count": 113,
     "metadata": {},
     "output_type": "execute_result"
    }
   ],
   "source": [
    "true"
   ]
  },
  {
   "cell_type": "code",
   "execution_count": 114,
   "metadata": {
    "collapsed": false
   },
   "outputs": [
    {
     "data": {
      "text/plain": [
       "true"
      ]
     },
     "execution_count": 114,
     "metadata": {},
     "output_type": "execute_result"
    }
   ],
   "source": [
    "true || false # || -> ou"
   ]
  },
  {
   "cell_type": "code",
   "execution_count": 115,
   "metadata": {
    "collapsed": false
   },
   "outputs": [
    {
     "data": {
      "text/plain": [
       "false"
      ]
     },
     "execution_count": 115,
     "metadata": {},
     "output_type": "execute_result"
    }
   ],
   "source": [
    "true && false # && -> e"
   ]
  },
  {
   "cell_type": "code",
   "execution_count": 117,
   "metadata": {
    "collapsed": false
   },
   "outputs": [
    {
     "data": {
      "text/plain": [
       "false"
      ]
     },
     "execution_count": 117,
     "metadata": {},
     "output_type": "execute_result"
    }
   ],
   "source": [
    "false || false"
   ]
  },
  {
   "cell_type": "code",
   "execution_count": 122,
   "metadata": {
    "collapsed": false,
    "scrolled": true
   },
   "outputs": [
    {
     "name": "stdout",
     "output_type": "stream",
     "text": [
      "Ok\n"
     ]
    }
   ],
   "source": [
    "if 1 > 0 && \"a\" in [\"a\", \"b\"]\n",
    "    println(\"Ok\")\n",
    "end"
   ]
  },
  {
   "cell_type": "code",
   "execution_count": 124,
   "metadata": {
    "collapsed": false
   },
   "outputs": [
    {
     "data": {
      "text/plain": [
       "false"
      ]
     },
     "execution_count": 124,
     "metadata": {},
     "output_type": "execute_result"
    }
   ],
   "source": [
    "!true # ! -> não"
   ]
  },
  {
   "cell_type": "code",
   "execution_count": 125,
   "metadata": {
    "collapsed": false
   },
   "outputs": [
    {
     "data": {
      "text/plain": [
       "true"
      ]
     },
     "execution_count": 125,
     "metadata": {},
     "output_type": "execute_result"
    }
   ],
   "source": [
    "!false"
   ]
  },
  {
   "cell_type": "code",
   "execution_count": 126,
   "metadata": {
    "collapsed": false
   },
   "outputs": [
    {
     "data": {
      "text/plain": [
       "fib (generic function with 1 method)"
      ]
     },
     "execution_count": 126,
     "metadata": {},
     "output_type": "execute_result"
    }
   ],
   "source": [
    "function fib(n)\n",
    "    if (n == 1 || n == 2)\n",
    "        return 1\n",
    "    else\n",
    "        return fib(n-1) + fib(n-2)\n",
    "    end\n",
    "end"
   ]
  },
  {
   "cell_type": "code",
   "execution_count": 127,
   "metadata": {
    "collapsed": false
   },
   "outputs": [
    {
     "data": {
      "text/plain": [
       "1"
      ]
     },
     "execution_count": 127,
     "metadata": {},
     "output_type": "execute_result"
    }
   ],
   "source": [
    "fib(1)"
   ]
  },
  {
   "cell_type": "code",
   "execution_count": 128,
   "metadata": {
    "collapsed": false
   },
   "outputs": [
    {
     "data": {
      "text/plain": [
       "1"
      ]
     },
     "execution_count": 128,
     "metadata": {},
     "output_type": "execute_result"
    }
   ],
   "source": [
    "fib(2)"
   ]
  },
  {
   "cell_type": "code",
   "execution_count": 129,
   "metadata": {
    "collapsed": false
   },
   "outputs": [
    {
     "data": {
      "text/plain": [
       "2"
      ]
     },
     "execution_count": 129,
     "metadata": {},
     "output_type": "execute_result"
    }
   ],
   "source": [
    "fib(3)"
   ]
  },
  {
   "cell_type": "code",
   "execution_count": 130,
   "metadata": {
    "collapsed": false
   },
   "outputs": [
    {
     "data": {
      "text/plain": [
       "5"
      ]
     },
     "execution_count": 130,
     "metadata": {},
     "output_type": "execute_result"
    }
   ],
   "source": [
    "fib(5)"
   ]
  },
  {
   "cell_type": "code",
   "execution_count": 134,
   "metadata": {
    "collapsed": false
   },
   "outputs": [
    {
     "data": {
      "text/plain": [
       "55"
      ]
     },
     "execution_count": 134,
     "metadata": {},
     "output_type": "execute_result"
    }
   ],
   "source": [
    "fib(10)"
   ]
  },
  {
   "cell_type": "code",
   "execution_count": 130,
   "metadata": {
    "collapsed": false
   },
   "outputs": [
    {
     "data": {
      "text/plain": [
       "false"
      ]
     },
     "execution_count": 130,
     "metadata": {},
     "output_type": "execute_result"
    }
   ],
   "source": [
    "!true"
   ]
  },
  {
   "cell_type": "markdown",
   "metadata": {},
   "source": [
    "## !(a && b) = !a || !b"
   ]
  },
  {
   "cell_type": "code",
   "execution_count": 136,
   "metadata": {
    "collapsed": false
   },
   "outputs": [
    {
     "name": "stdout",
     "output_type": "stream",
     "text": [
      "Fim, x = 5.018892008698307, n = 9\n"
     ]
    }
   ],
   "source": [
    "x = 0\n",
    "n = 0\n",
    "\n",
    "while !(x > 5 || n == 10)\n",
    "    x = x + rand()\n",
    "    n = n + 1\n",
    "end\n",
    "println(\"Fim, x = $x, n = $n\")"
   ]
  },
  {
   "cell_type": "code",
   "execution_count": 137,
   "metadata": {
    "collapsed": false
   },
   "outputs": [
    {
     "name": "stdout",
     "output_type": "stream",
     "text": [
      "Fim, x = 5.787914730692325, n = 10\n"
     ]
    }
   ],
   "source": [
    "n = 0\n",
    "x = 0\n",
    "\n",
    "while x <= 5 && n < 10\n",
    "    x = x + rand()\n",
    "    n = n + 1\n",
    "end\n",
    "println(\"Fim, x = $x, n = $n\")"
   ]
  },
  {
   "cell_type": "markdown",
   "metadata": {},
   "source": [
    "## Plots"
   ]
  },
  {
   "cell_type": "code",
   "execution_count": 2,
   "metadata": {
    "collapsed": false,
    "scrolled": true
   },
   "outputs": [
    {
     "data": {
      "text/plain": [
       "Plots.GRBackend()"
      ]
     },
     "execution_count": 2,
     "metadata": {},
     "output_type": "execute_result"
    }
   ],
   "source": [
    "using Plots\n",
    "gr()"
   ]
  },
  {
   "cell_type": "code",
   "execution_count": 146,
   "metadata": {
    "collapsed": false
   },
   "outputs": [
    {
     "data": {
      "text/html": [
       "<?xml version=\"1.0\" encoding=\"utf-8\"?>\n",
       "<svg xmlns=\"http://www.w3.org/2000/svg\" xmlns:xlink=\"http://www.w3.org/1999/xlink\" width=\"600\" height=\"400\" viewBox=\"0 0 600 400\">\n",
       "<defs>\n",
       "  <clipPath id=\"clip00\">\n",
       "    <rect x=\"0\" y=\"0\" width=\"600\" height=\"400\"/>\n",
       "  </clipPath>\n",
       "</defs>\n",
       "<polygon clip-path=\"url(#clip00)\" points=\"\n",
       "0,400 600,400 600,0 0,0 \n",
       "  \" fill=\"#ffffff\" fill-opacity=\"1\"/>\n",
       "<defs>\n",
       "  <clipPath id=\"clip01\">\n",
       "    <rect x=\"120\" y=\"0\" width=\"421\" height=\"400\"/>\n",
       "  </clipPath>\n",
       "</defs>\n",
       "<polygon clip-path=\"url(#clip00)\" points=\"\n",
       "30.6037,384.952 596.063,384.952 596.063,3.93701 30.6037,3.93701 \n",
       "  \" fill=\"#ffffff\" fill-opacity=\"1\"/>\n",
       "<defs>\n",
       "  <clipPath id=\"clip02\">\n",
       "    <rect x=\"30\" y=\"3\" width=\"566\" height=\"382\"/>\n",
       "  </clipPath>\n",
       "</defs>\n",
       "<polyline clip-path=\"url(#clip02)\" style=\"stroke:#00002d; stroke-width:0.8; stroke-opacity:0.5; fill:none\" stroke-dasharray=\"1, 2\" points=\"\n",
       "  30.6037,379.237 30.6037,9.65223 \n",
       "  \"/>\n",
       "<polyline clip-path=\"url(#clip02)\" style=\"stroke:#00002d; stroke-width:0.8; stroke-opacity:0.5; fill:none\" stroke-dasharray=\"1, 2\" points=\"\n",
       "  171.969,379.237 171.969,9.65223 \n",
       "  \"/>\n",
       "<polyline clip-path=\"url(#clip02)\" style=\"stroke:#00002d; stroke-width:0.8; stroke-opacity:0.5; fill:none\" stroke-dasharray=\"1, 2\" points=\"\n",
       "  313.333,379.237 313.333,9.65223 \n",
       "  \"/>\n",
       "<polyline clip-path=\"url(#clip02)\" style=\"stroke:#00002d; stroke-width:0.8; stroke-opacity:0.5; fill:none\" stroke-dasharray=\"1, 2\" points=\"\n",
       "  454.698,379.237 454.698,9.65223 \n",
       "  \"/>\n",
       "<polyline clip-path=\"url(#clip02)\" style=\"stroke:#00002d; stroke-width:0.8; stroke-opacity:0.5; fill:none\" stroke-dasharray=\"1, 2\" points=\"\n",
       "  596.063,379.237 596.063,9.65223 \n",
       "  \"/>\n",
       "<polyline clip-path=\"url(#clip02)\" style=\"stroke:#00002d; stroke-width:0.8; stroke-opacity:0.5; fill:none\" stroke-dasharray=\"1, 2\" points=\"\n",
       "  39.0856,384.952 587.581,384.952 \n",
       "  \"/>\n",
       "<polyline clip-path=\"url(#clip02)\" style=\"stroke:#00002d; stroke-width:0.8; stroke-opacity:0.5; fill:none\" stroke-dasharray=\"1, 2\" points=\"\n",
       "  39.0856,289.698 587.581,289.698 \n",
       "  \"/>\n",
       "<polyline clip-path=\"url(#clip02)\" style=\"stroke:#00002d; stroke-width:0.8; stroke-opacity:0.5; fill:none\" stroke-dasharray=\"1, 2\" points=\"\n",
       "  39.0856,194.444 587.581,194.444 \n",
       "  \"/>\n",
       "<polyline clip-path=\"url(#clip02)\" style=\"stroke:#00002d; stroke-width:0.8; stroke-opacity:0.5; fill:none\" stroke-dasharray=\"1, 2\" points=\"\n",
       "  39.0856,99.1907 587.581,99.1907 \n",
       "  \"/>\n",
       "<polyline clip-path=\"url(#clip02)\" style=\"stroke:#00002d; stroke-width:0.8; stroke-opacity:0.5; fill:none\" stroke-dasharray=\"1, 2\" points=\"\n",
       "  39.0856,3.93701 587.581,3.93701 \n",
       "  \"/>\n",
       "<polyline clip-path=\"url(#clip02)\" style=\"stroke:#00002d; stroke-width:0.8; stroke-opacity:1; fill:none\" points=\"\n",
       "  30.6037,384.952 596.063,384.952 \n",
       "  \"/>\n",
       "<polyline clip-path=\"url(#clip02)\" style=\"stroke:#00002d; stroke-width:0.8; stroke-opacity:1; fill:none\" points=\"\n",
       "  30.6037,384.952 30.6037,379.237 \n",
       "  \"/>\n",
       "<polyline clip-path=\"url(#clip02)\" style=\"stroke:#00002d; stroke-width:0.8; stroke-opacity:1; fill:none\" points=\"\n",
       "  171.969,384.952 171.969,379.237 \n",
       "  \"/>\n",
       "<polyline clip-path=\"url(#clip02)\" style=\"stroke:#00002d; stroke-width:0.8; stroke-opacity:1; fill:none\" points=\"\n",
       "  313.333,384.952 313.333,379.237 \n",
       "  \"/>\n",
       "<polyline clip-path=\"url(#clip02)\" style=\"stroke:#00002d; stroke-width:0.8; stroke-opacity:1; fill:none\" points=\"\n",
       "  454.698,384.952 454.698,379.237 \n",
       "  \"/>\n",
       "<polyline clip-path=\"url(#clip02)\" style=\"stroke:#00002d; stroke-width:0.8; stroke-opacity:1; fill:none\" points=\"\n",
       "  596.063,384.952 596.063,379.237 \n",
       "  \"/>\n",
       "<polyline clip-path=\"url(#clip02)\" style=\"stroke:#00002d; stroke-width:0.8; stroke-opacity:1; fill:none\" points=\"\n",
       "  30.6037,384.952 30.6037,3.93701 \n",
       "  \"/>\n",
       "<polyline clip-path=\"url(#clip02)\" style=\"stroke:#00002d; stroke-width:0.8; stroke-opacity:1; fill:none\" points=\"\n",
       "  30.6037,384.952 39.0856,384.952 \n",
       "  \"/>\n",
       "<polyline clip-path=\"url(#clip02)\" style=\"stroke:#00002d; stroke-width:0.8; stroke-opacity:1; fill:none\" points=\"\n",
       "  30.6037,289.698 39.0856,289.698 \n",
       "  \"/>\n",
       "<polyline clip-path=\"url(#clip02)\" style=\"stroke:#00002d; stroke-width:0.8; stroke-opacity:1; fill:none\" points=\"\n",
       "  30.6037,194.444 39.0856,194.444 \n",
       "  \"/>\n",
       "<polyline clip-path=\"url(#clip02)\" style=\"stroke:#00002d; stroke-width:0.8; stroke-opacity:1; fill:none\" points=\"\n",
       "  30.6037,99.1907 39.0856,99.1907 \n",
       "  \"/>\n",
       "<polyline clip-path=\"url(#clip02)\" style=\"stroke:#00002d; stroke-width:0.8; stroke-opacity:1; fill:none\" points=\"\n",
       "  30.6037,3.93701 39.0856,3.93701 \n",
       "  \"/>\n",
       "<g clip-path=\"url(#clip00)\">\n",
       "<text style=\"fill:#00002d; fill-opacity:1; font-family:Arial,Helvetica Neue,Helvetica,sans-serif; font-size:12; text-anchor:middle;\" transform=\"rotate(0, 30.6037, 396.952)\" x=\"30.6037\" y=\"396.952\">1.0</text>\n",
       "</g>\n",
       "<g clip-path=\"url(#clip00)\">\n",
       "<text style=\"fill:#00002d; fill-opacity:1; font-family:Arial,Helvetica Neue,Helvetica,sans-serif; font-size:12; text-anchor:middle;\" transform=\"rotate(0, 171.969, 396.952)\" x=\"171.969\" y=\"396.952\">1.5</text>\n",
       "</g>\n",
       "<g clip-path=\"url(#clip00)\">\n",
       "<text style=\"fill:#00002d; fill-opacity:1; font-family:Arial,Helvetica Neue,Helvetica,sans-serif; font-size:12; text-anchor:middle;\" transform=\"rotate(0, 313.333, 396.952)\" x=\"313.333\" y=\"396.952\">2.0</text>\n",
       "</g>\n",
       "<g clip-path=\"url(#clip00)\">\n",
       "<text style=\"fill:#00002d; fill-opacity:1; font-family:Arial,Helvetica Neue,Helvetica,sans-serif; font-size:12; text-anchor:middle;\" transform=\"rotate(0, 454.698, 396.952)\" x=\"454.698\" y=\"396.952\">2.5</text>\n",
       "</g>\n",
       "<g clip-path=\"url(#clip00)\">\n",
       "<text style=\"fill:#00002d; fill-opacity:1; font-family:Arial,Helvetica Neue,Helvetica,sans-serif; font-size:12; text-anchor:middle;\" transform=\"rotate(0, 596.063, 396.952)\" x=\"596.063\" y=\"396.952\">3.0</text>\n",
       "</g>\n",
       "<g clip-path=\"url(#clip00)\">\n",
       "<text style=\"fill:#00002d; fill-opacity:1; font-family:Arial,Helvetica Neue,Helvetica,sans-serif; font-size:12; text-anchor:end;\" transform=\"rotate(0, 29.4037, 389.452)\" x=\"29.4037\" y=\"389.452\">1.0</text>\n",
       "</g>\n",
       "<g clip-path=\"url(#clip00)\">\n",
       "<text style=\"fill:#00002d; fill-opacity:1; font-family:Arial,Helvetica Neue,Helvetica,sans-serif; font-size:12; text-anchor:end;\" transform=\"rotate(0, 29.4037, 294.198)\" x=\"29.4037\" y=\"294.198\">1.5</text>\n",
       "</g>\n",
       "<g clip-path=\"url(#clip00)\">\n",
       "<text style=\"fill:#00002d; fill-opacity:1; font-family:Arial,Helvetica Neue,Helvetica,sans-serif; font-size:12; text-anchor:end;\" transform=\"rotate(0, 29.4037, 198.944)\" x=\"29.4037\" y=\"198.944\">2.0</text>\n",
       "</g>\n",
       "<g clip-path=\"url(#clip00)\">\n",
       "<text style=\"fill:#00002d; fill-opacity:1; font-family:Arial,Helvetica Neue,Helvetica,sans-serif; font-size:12; text-anchor:end;\" transform=\"rotate(0, 29.4037, 103.691)\" x=\"29.4037\" y=\"103.691\">2.5</text>\n",
       "</g>\n",
       "<g clip-path=\"url(#clip00)\">\n",
       "<text style=\"fill:#00002d; fill-opacity:1; font-family:Arial,Helvetica Neue,Helvetica,sans-serif; font-size:12; text-anchor:end;\" transform=\"rotate(0, 29.4037, 8.43701)\" x=\"29.4037\" y=\"8.43701\">3.0</text>\n",
       "</g>\n",
       "<polyline clip-path=\"url(#clip02)\" style=\"stroke:#0099ff; stroke-width:0.8; stroke-opacity:1; fill:none\" points=\"\n",
       "  30.6037,3.93701 313.333,384.952 596.063,194.444 30.6037,3.93701 \n",
       "  \"/>\n",
       "<polygon clip-path=\"url(#clip00)\" points=\"\n",
       "505.547,55.057 578.063,55.057 578.063,24.817 505.547,24.817 \n",
       "  \" fill=\"#ffffff\" fill-opacity=\"1\"/>\n",
       "<polyline clip-path=\"url(#clip00)\" style=\"stroke:#00002d; stroke-width:0.8; stroke-opacity:1; fill:none\" points=\"\n",
       "  505.547,55.057 578.063,55.057 578.063,24.817 505.547,24.817 505.547,55.057 \n",
       "  \"/>\n",
       "<polyline clip-path=\"url(#clip00)\" style=\"stroke:#0099ff; stroke-width:0.8; stroke-opacity:1; fill:none\" points=\"\n",
       "  511.547,39.937 547.547,39.937 \n",
       "  \"/>\n",
       "<g clip-path=\"url(#clip00)\">\n",
       "<text style=\"fill:#00002d; fill-opacity:1; font-family:Arial,Helvetica Neue,Helvetica,sans-serif; font-size:12; text-anchor:start;\" transform=\"rotate(0, 553.547, 44.437)\" x=\"553.547\" y=\"44.437\">y1</text>\n",
       "</g>\n",
       "</svg>\n"
      ]
     },
     "execution_count": 146,
     "metadata": {},
     "output_type": "execute_result"
    }
   ],
   "source": [
    "plot([1; 2; 3; 1], [3; 1; 2; 3])"
   ]
  },
  {
   "cell_type": "code",
   "execution_count": 145,
   "metadata": {
    "collapsed": false,
    "scrolled": true
   },
   "outputs": [
    {
     "data": {
      "text/html": [
       "<?xml version=\"1.0\" encoding=\"utf-8\"?>\n",
       "<svg xmlns=\"http://www.w3.org/2000/svg\" xmlns:xlink=\"http://www.w3.org/1999/xlink\" width=\"600\" height=\"400\" viewBox=\"0 0 600 400\">\n",
       "<defs>\n",
       "  <clipPath id=\"clip00\">\n",
       "    <rect x=\"0\" y=\"0\" width=\"600\" height=\"400\"/>\n",
       "  </clipPath>\n",
       "</defs>\n",
       "<polygon clip-path=\"url(#clip00)\" points=\"\n",
       "0,400 600,400 600,0 0,0 \n",
       "  \" fill=\"#ffffff\" fill-opacity=\"1\"/>\n",
       "<defs>\n",
       "  <clipPath id=\"clip01\">\n",
       "    <rect x=\"120\" y=\"0\" width=\"421\" height=\"400\"/>\n",
       "  </clipPath>\n",
       "</defs>\n",
       "<polygon clip-path=\"url(#clip00)\" points=\"\n",
       "21.7148,384.952 596.063,384.952 596.063,3.93701 21.7148,3.93701 \n",
       "  \" fill=\"#ffffff\" fill-opacity=\"1\"/>\n",
       "<defs>\n",
       "  <clipPath id=\"clip02\">\n",
       "    <rect x=\"21\" y=\"3\" width=\"575\" height=\"382\"/>\n",
       "  </clipPath>\n",
       "</defs>\n",
       "<polyline clip-path=\"url(#clip02)\" style=\"stroke:#00002d; stroke-width:0.8; stroke-opacity:0.5; fill:none\" stroke-dasharray=\"1, 2\" points=\"\n",
       "  21.7148,379.237 21.7148,9.65223 \n",
       "  \"/>\n",
       "<polyline clip-path=\"url(#clip02)\" style=\"stroke:#00002d; stroke-width:0.8; stroke-opacity:0.5; fill:none\" stroke-dasharray=\"1, 2\" points=\"\n",
       "  117.439,379.237 117.439,9.65223 \n",
       "  \"/>\n",
       "<polyline clip-path=\"url(#clip02)\" style=\"stroke:#00002d; stroke-width:0.8; stroke-opacity:0.5; fill:none\" stroke-dasharray=\"1, 2\" points=\"\n",
       "  213.164,379.237 213.164,9.65223 \n",
       "  \"/>\n",
       "<polyline clip-path=\"url(#clip02)\" style=\"stroke:#00002d; stroke-width:0.8; stroke-opacity:0.5; fill:none\" stroke-dasharray=\"1, 2\" points=\"\n",
       "  308.889,379.237 308.889,9.65223 \n",
       "  \"/>\n",
       "<polyline clip-path=\"url(#clip02)\" style=\"stroke:#00002d; stroke-width:0.8; stroke-opacity:0.5; fill:none\" stroke-dasharray=\"1, 2\" points=\"\n",
       "  404.614,379.237 404.614,9.65223 \n",
       "  \"/>\n",
       "<polyline clip-path=\"url(#clip02)\" style=\"stroke:#00002d; stroke-width:0.8; stroke-opacity:0.5; fill:none\" stroke-dasharray=\"1, 2\" points=\"\n",
       "  500.338,379.237 500.338,9.65223 \n",
       "  \"/>\n",
       "<polyline clip-path=\"url(#clip02)\" style=\"stroke:#00002d; stroke-width:0.8; stroke-opacity:0.5; fill:none\" stroke-dasharray=\"1, 2\" points=\"\n",
       "  596.063,379.237 596.063,9.65223 \n",
       "  \"/>\n",
       "<polyline clip-path=\"url(#clip02)\" style=\"stroke:#00002d; stroke-width:0.8; stroke-opacity:0.5; fill:none\" stroke-dasharray=\"1, 2\" points=\"\n",
       "  30.33,384.952 587.448,384.952 \n",
       "  \"/>\n",
       "<polyline clip-path=\"url(#clip02)\" style=\"stroke:#00002d; stroke-width:0.8; stroke-opacity:0.5; fill:none\" stroke-dasharray=\"1, 2\" points=\"\n",
       "  30.33,321.449 587.448,321.449 \n",
       "  \"/>\n",
       "<polyline clip-path=\"url(#clip02)\" style=\"stroke:#00002d; stroke-width:0.8; stroke-opacity:0.5; fill:none\" stroke-dasharray=\"1, 2\" points=\"\n",
       "  30.33,257.947 587.448,257.947 \n",
       "  \"/>\n",
       "<polyline clip-path=\"url(#clip02)\" style=\"stroke:#00002d; stroke-width:0.8; stroke-opacity:0.5; fill:none\" stroke-dasharray=\"1, 2\" points=\"\n",
       "  30.33,194.444 587.448,194.444 \n",
       "  \"/>\n",
       "<polyline clip-path=\"url(#clip02)\" style=\"stroke:#00002d; stroke-width:0.8; stroke-opacity:0.5; fill:none\" stroke-dasharray=\"1, 2\" points=\"\n",
       "  30.33,130.942 587.448,130.942 \n",
       "  \"/>\n",
       "<polyline clip-path=\"url(#clip02)\" style=\"stroke:#00002d; stroke-width:0.8; stroke-opacity:0.5; fill:none\" stroke-dasharray=\"1, 2\" points=\"\n",
       "  30.33,67.4395 587.448,67.4395 \n",
       "  \"/>\n",
       "<polyline clip-path=\"url(#clip02)\" style=\"stroke:#00002d; stroke-width:0.8; stroke-opacity:0.5; fill:none\" stroke-dasharray=\"1, 2\" points=\"\n",
       "  30.33,3.93701 587.448,3.93701 \n",
       "  \"/>\n",
       "<polyline clip-path=\"url(#clip02)\" style=\"stroke:#00002d; stroke-width:0.8; stroke-opacity:1; fill:none\" points=\"\n",
       "  21.7148,384.952 596.063,384.952 \n",
       "  \"/>\n",
       "<polyline clip-path=\"url(#clip02)\" style=\"stroke:#00002d; stroke-width:0.8; stroke-opacity:1; fill:none\" points=\"\n",
       "  21.7148,384.952 21.7148,379.237 \n",
       "  \"/>\n",
       "<polyline clip-path=\"url(#clip02)\" style=\"stroke:#00002d; stroke-width:0.8; stroke-opacity:1; fill:none\" points=\"\n",
       "  117.439,384.952 117.439,379.237 \n",
       "  \"/>\n",
       "<polyline clip-path=\"url(#clip02)\" style=\"stroke:#00002d; stroke-width:0.8; stroke-opacity:1; fill:none\" points=\"\n",
       "  213.164,384.952 213.164,379.237 \n",
       "  \"/>\n",
       "<polyline clip-path=\"url(#clip02)\" style=\"stroke:#00002d; stroke-width:0.8; stroke-opacity:1; fill:none\" points=\"\n",
       "  308.889,384.952 308.889,379.237 \n",
       "  \"/>\n",
       "<polyline clip-path=\"url(#clip02)\" style=\"stroke:#00002d; stroke-width:0.8; stroke-opacity:1; fill:none\" points=\"\n",
       "  404.614,384.952 404.614,379.237 \n",
       "  \"/>\n",
       "<polyline clip-path=\"url(#clip02)\" style=\"stroke:#00002d; stroke-width:0.8; stroke-opacity:1; fill:none\" points=\"\n",
       "  500.338,384.952 500.338,379.237 \n",
       "  \"/>\n",
       "<polyline clip-path=\"url(#clip02)\" style=\"stroke:#00002d; stroke-width:0.8; stroke-opacity:1; fill:none\" points=\"\n",
       "  596.063,384.952 596.063,379.237 \n",
       "  \"/>\n",
       "<polyline clip-path=\"url(#clip02)\" style=\"stroke:#00002d; stroke-width:0.8; stroke-opacity:1; fill:none\" points=\"\n",
       "  21.7148,384.952 21.7148,3.93701 \n",
       "  \"/>\n",
       "<polyline clip-path=\"url(#clip02)\" style=\"stroke:#00002d; stroke-width:0.8; stroke-opacity:1; fill:none\" points=\"\n",
       "  21.7148,384.952 30.33,384.952 \n",
       "  \"/>\n",
       "<polyline clip-path=\"url(#clip02)\" style=\"stroke:#00002d; stroke-width:0.8; stroke-opacity:1; fill:none\" points=\"\n",
       "  21.7148,321.449 30.33,321.449 \n",
       "  \"/>\n",
       "<polyline clip-path=\"url(#clip02)\" style=\"stroke:#00002d; stroke-width:0.8; stroke-opacity:1; fill:none\" points=\"\n",
       "  21.7148,257.947 30.33,257.947 \n",
       "  \"/>\n",
       "<polyline clip-path=\"url(#clip02)\" style=\"stroke:#00002d; stroke-width:0.8; stroke-opacity:1; fill:none\" points=\"\n",
       "  21.7148,194.444 30.33,194.444 \n",
       "  \"/>\n",
       "<polyline clip-path=\"url(#clip02)\" style=\"stroke:#00002d; stroke-width:0.8; stroke-opacity:1; fill:none\" points=\"\n",
       "  21.7148,130.942 30.33,130.942 \n",
       "  \"/>\n",
       "<polyline clip-path=\"url(#clip02)\" style=\"stroke:#00002d; stroke-width:0.8; stroke-opacity:1; fill:none\" points=\"\n",
       "  21.7148,67.4395 30.33,67.4395 \n",
       "  \"/>\n",
       "<polyline clip-path=\"url(#clip02)\" style=\"stroke:#00002d; stroke-width:0.8; stroke-opacity:1; fill:none\" points=\"\n",
       "  21.7148,3.93701 30.33,3.93701 \n",
       "  \"/>\n",
       "<g clip-path=\"url(#clip00)\">\n",
       "<text style=\"fill:#00002d; fill-opacity:1; font-family:Arial,Helvetica Neue,Helvetica,sans-serif; font-size:12; text-anchor:middle;\" transform=\"rotate(0, 21.7148, 396.952)\" x=\"21.7148\" y=\"396.952\">-1.0</text>\n",
       "</g>\n",
       "<g clip-path=\"url(#clip00)\">\n",
       "<text style=\"fill:#00002d; fill-opacity:1; font-family:Arial,Helvetica Neue,Helvetica,sans-serif; font-size:12; text-anchor:middle;\" transform=\"rotate(0, 117.439, 396.952)\" x=\"117.439\" y=\"396.952\">-0.5</text>\n",
       "</g>\n",
       "<g clip-path=\"url(#clip00)\">\n",
       "<text style=\"fill:#00002d; fill-opacity:1; font-family:Arial,Helvetica Neue,Helvetica,sans-serif; font-size:12; text-anchor:middle;\" transform=\"rotate(0, 213.164, 396.952)\" x=\"213.164\" y=\"396.952\">0.0</text>\n",
       "</g>\n",
       "<g clip-path=\"url(#clip00)\">\n",
       "<text style=\"fill:#00002d; fill-opacity:1; font-family:Arial,Helvetica Neue,Helvetica,sans-serif; font-size:12; text-anchor:middle;\" transform=\"rotate(0, 308.889, 396.952)\" x=\"308.889\" y=\"396.952\">0.5</text>\n",
       "</g>\n",
       "<g clip-path=\"url(#clip00)\">\n",
       "<text style=\"fill:#00002d; fill-opacity:1; font-family:Arial,Helvetica Neue,Helvetica,sans-serif; font-size:12; text-anchor:middle;\" transform=\"rotate(0, 404.614, 396.952)\" x=\"404.614\" y=\"396.952\">1.0</text>\n",
       "</g>\n",
       "<g clip-path=\"url(#clip00)\">\n",
       "<text style=\"fill:#00002d; fill-opacity:1; font-family:Arial,Helvetica Neue,Helvetica,sans-serif; font-size:12; text-anchor:middle;\" transform=\"rotate(0, 500.338, 396.952)\" x=\"500.338\" y=\"396.952\">1.5</text>\n",
       "</g>\n",
       "<g clip-path=\"url(#clip00)\">\n",
       "<text style=\"fill:#00002d; fill-opacity:1; font-family:Arial,Helvetica Neue,Helvetica,sans-serif; font-size:12; text-anchor:middle;\" transform=\"rotate(0, 596.063, 396.952)\" x=\"596.063\" y=\"396.952\">2.0</text>\n",
       "</g>\n",
       "<g clip-path=\"url(#clip00)\">\n",
       "<text style=\"fill:#00002d; fill-opacity:1; font-family:Arial,Helvetica Neue,Helvetica,sans-serif; font-size:12; text-anchor:end;\" transform=\"rotate(0, 20.5148, 389.452)\" x=\"20.5148\" y=\"389.452\">-2</text>\n",
       "</g>\n",
       "<g clip-path=\"url(#clip00)\">\n",
       "<text style=\"fill:#00002d; fill-opacity:1; font-family:Arial,Helvetica Neue,Helvetica,sans-serif; font-size:12; text-anchor:end;\" transform=\"rotate(0, 20.5148, 325.949)\" x=\"20.5148\" y=\"325.949\">-1</text>\n",
       "</g>\n",
       "<g clip-path=\"url(#clip00)\">\n",
       "<text style=\"fill:#00002d; fill-opacity:1; font-family:Arial,Helvetica Neue,Helvetica,sans-serif; font-size:12; text-anchor:end;\" transform=\"rotate(0, 20.5148, 262.447)\" x=\"20.5148\" y=\"262.447\">0</text>\n",
       "</g>\n",
       "<g clip-path=\"url(#clip00)\">\n",
       "<text style=\"fill:#00002d; fill-opacity:1; font-family:Arial,Helvetica Neue,Helvetica,sans-serif; font-size:12; text-anchor:end;\" transform=\"rotate(0, 20.5148, 198.944)\" x=\"20.5148\" y=\"198.944\">1</text>\n",
       "</g>\n",
       "<g clip-path=\"url(#clip00)\">\n",
       "<text style=\"fill:#00002d; fill-opacity:1; font-family:Arial,Helvetica Neue,Helvetica,sans-serif; font-size:12; text-anchor:end;\" transform=\"rotate(0, 20.5148, 135.442)\" x=\"20.5148\" y=\"135.442\">2</text>\n",
       "</g>\n",
       "<g clip-path=\"url(#clip00)\">\n",
       "<text style=\"fill:#00002d; fill-opacity:1; font-family:Arial,Helvetica Neue,Helvetica,sans-serif; font-size:12; text-anchor:end;\" transform=\"rotate(0, 20.5148, 71.9395)\" x=\"20.5148\" y=\"71.9395\">3</text>\n",
       "</g>\n",
       "<g clip-path=\"url(#clip00)\">\n",
       "<text style=\"fill:#00002d; fill-opacity:1; font-family:Arial,Helvetica Neue,Helvetica,sans-serif; font-size:12; text-anchor:end;\" transform=\"rotate(0, 20.5148, 8.43701)\" x=\"20.5148\" y=\"8.43701\">4</text>\n",
       "</g>\n",
       "<polyline clip-path=\"url(#clip02)\" style=\"stroke:#0099ff; stroke-width:0.8; stroke-opacity:1; fill:none\" points=\"\n",
       "  21.7148,384.952 27.5163,375.562 33.3178,366.628 39.1193,358.139 44.9208,350.084 50.7223,342.454 56.5238,335.238 62.3253,328.424 68.1268,322.002 73.9283,315.963 \n",
       "  79.7298,310.294 85.5313,304.986 91.3328,300.027 97.1342,295.408 102.936,291.118 108.737,287.146 114.539,283.481 120.34,280.113 126.142,277.031 131.943,274.225 \n",
       "  137.745,271.684 143.546,269.397 149.348,267.355 155.149,265.545 160.951,263.958 166.752,262.584 172.554,261.41 178.355,260.428 184.157,259.626 189.958,258.993 \n",
       "  195.76,258.519 201.561,258.194 207.363,258.007 213.164,257.947 218.966,258.003 224.767,258.166 230.569,258.424 236.37,258.767 242.172,259.184 247.973,259.664 \n",
       "  253.775,260.198 259.576,260.774 265.378,261.382 271.179,262.011 276.981,262.651 282.782,263.29 288.584,263.92 294.385,264.527 300.187,265.103 305.988,265.637 \n",
       "  311.79,266.118 317.591,266.535 323.393,266.878 329.194,267.136 334.996,267.298 340.797,267.355 346.599,267.295 352.4,267.107 358.202,266.782 364.003,266.309 \n",
       "  369.805,265.676 375.606,264.874 381.408,263.891 387.209,262.718 393.011,261.343 398.812,259.756 404.614,257.947 410.415,255.904 416.217,253.618 422.018,251.077 \n",
       "  427.82,248.271 433.621,245.189 439.423,241.821 445.224,238.156 451.026,234.184 456.827,229.893 462.629,225.274 468.43,220.316 474.232,215.008 480.033,209.339 \n",
       "  485.835,203.299 491.636,196.878 497.438,190.064 503.239,182.847 509.041,175.217 514.842,167.163 520.644,158.674 526.445,149.74 532.247,140.35 538.048,130.493 \n",
       "  543.85,120.159 549.651,109.338 555.453,98.0183 561.254,86.1897 567.056,73.8415 572.857,60.9632 578.659,47.5443 584.46,33.574 590.261,19.0418 596.063,3.93701 \n",
       "  \n",
       "  \"/>\n",
       "<polygon clip-path=\"url(#clip00)\" points=\"\n",
       "505.547,55.057 578.063,55.057 578.063,24.817 505.547,24.817 \n",
       "  \" fill=\"#ffffff\" fill-opacity=\"1\"/>\n",
       "<polyline clip-path=\"url(#clip00)\" style=\"stroke:#00002d; stroke-width:0.8; stroke-opacity:1; fill:none\" points=\"\n",
       "  505.547,55.057 578.063,55.057 578.063,24.817 505.547,24.817 505.547,55.057 \n",
       "  \"/>\n",
       "<polyline clip-path=\"url(#clip00)\" style=\"stroke:#0099ff; stroke-width:0.8; stroke-opacity:1; fill:none\" points=\"\n",
       "  511.547,39.937 547.547,39.937 \n",
       "  \"/>\n",
       "<g clip-path=\"url(#clip00)\">\n",
       "<text style=\"fill:#00002d; fill-opacity:1; font-family:Arial,Helvetica Neue,Helvetica,sans-serif; font-size:12; text-anchor:start;\" transform=\"rotate(0, 553.547, 44.437)\" x=\"553.547\" y=\"44.437\">y1</text>\n",
       "</g>\n",
       "</svg>\n"
      ]
     },
     "execution_count": 145,
     "metadata": {},
     "output_type": "execute_result"
    }
   ],
   "source": [
    "x = linspace(-1, 2, 100) # 100 pontos igual. esp. em [-1,2]\n",
    "y = x.^3 - x.^2\n",
    "plot(x, y)"
   ]
  },
  {
   "cell_type": "code",
   "execution_count": 151,
   "metadata": {
    "collapsed": false
   },
   "outputs": [
    {
     "data": {
      "text/html": [
       "<?xml version=\"1.0\" encoding=\"utf-8\"?>\n",
       "<svg xmlns=\"http://www.w3.org/2000/svg\" xmlns:xlink=\"http://www.w3.org/1999/xlink\" width=\"600\" height=\"400\" viewBox=\"0 0 600 400\">\n",
       "<defs>\n",
       "  <clipPath id=\"clip00\">\n",
       "    <rect x=\"0\" y=\"0\" width=\"600\" height=\"400\"/>\n",
       "  </clipPath>\n",
       "</defs>\n",
       "<polygon clip-path=\"url(#clip00)\" points=\"\n",
       "0,400 600,400 600,0 0,0 \n",
       "  \" fill=\"#ffffff\" fill-opacity=\"1\"/>\n",
       "<defs>\n",
       "  <clipPath id=\"clip01\">\n",
       "    <rect x=\"120\" y=\"0\" width=\"421\" height=\"400\"/>\n",
       "  </clipPath>\n",
       "</defs>\n",
       "<polygon clip-path=\"url(#clip00)\" points=\"\n",
       "30.6037,384.952 596.063,384.952 596.063,3.93701 30.6037,3.93701 \n",
       "  \" fill=\"#ffffff\" fill-opacity=\"1\"/>\n",
       "<defs>\n",
       "  <clipPath id=\"clip02\">\n",
       "    <rect x=\"30\" y=\"3\" width=\"566\" height=\"382\"/>\n",
       "  </clipPath>\n",
       "</defs>\n",
       "<polyline clip-path=\"url(#clip02)\" style=\"stroke:#00002d; stroke-width:0.8; stroke-opacity:0.5; fill:none\" stroke-dasharray=\"1, 2\" points=\"\n",
       "  46.6072,379.237 46.6072,9.65223 \n",
       "  \"/>\n",
       "<polyline clip-path=\"url(#clip02)\" style=\"stroke:#00002d; stroke-width:0.8; stroke-opacity:0.5; fill:none\" stroke-dasharray=\"1, 2\" points=\"\n",
       "  224.425,379.237 224.425,9.65223 \n",
       "  \"/>\n",
       "<polyline clip-path=\"url(#clip02)\" style=\"stroke:#00002d; stroke-width:0.8; stroke-opacity:0.5; fill:none\" stroke-dasharray=\"1, 2\" points=\"\n",
       "  402.242,379.237 402.242,9.65223 \n",
       "  \"/>\n",
       "<polyline clip-path=\"url(#clip02)\" style=\"stroke:#00002d; stroke-width:0.8; stroke-opacity:0.5; fill:none\" stroke-dasharray=\"1, 2\" points=\"\n",
       "  580.059,379.237 580.059,9.65223 \n",
       "  \"/>\n",
       "<polyline clip-path=\"url(#clip02)\" style=\"stroke:#00002d; stroke-width:0.8; stroke-opacity:0.5; fill:none\" stroke-dasharray=\"1, 2\" points=\"\n",
       "  39.0856,254.352 587.581,254.352 \n",
       "  \"/>\n",
       "<polyline clip-path=\"url(#clip02)\" style=\"stroke:#00002d; stroke-width:0.8; stroke-opacity:0.5; fill:none\" stroke-dasharray=\"1, 2\" points=\"\n",
       "  39.0856,104.582 587.581,104.582 \n",
       "  \"/>\n",
       "<polyline clip-path=\"url(#clip02)\" style=\"stroke:#00002d; stroke-width:0.8; stroke-opacity:1; fill:none\" points=\"\n",
       "  30.6037,384.952 596.063,384.952 \n",
       "  \"/>\n",
       "<polyline clip-path=\"url(#clip02)\" style=\"stroke:#00002d; stroke-width:0.8; stroke-opacity:1; fill:none\" points=\"\n",
       "  46.6072,384.952 46.6072,379.237 \n",
       "  \"/>\n",
       "<polyline clip-path=\"url(#clip02)\" style=\"stroke:#00002d; stroke-width:0.8; stroke-opacity:1; fill:none\" points=\"\n",
       "  224.425,384.952 224.425,379.237 \n",
       "  \"/>\n",
       "<polyline clip-path=\"url(#clip02)\" style=\"stroke:#00002d; stroke-width:0.8; stroke-opacity:1; fill:none\" points=\"\n",
       "  402.242,384.952 402.242,379.237 \n",
       "  \"/>\n",
       "<polyline clip-path=\"url(#clip02)\" style=\"stroke:#00002d; stroke-width:0.8; stroke-opacity:1; fill:none\" points=\"\n",
       "  580.059,384.952 580.059,379.237 \n",
       "  \"/>\n",
       "<polyline clip-path=\"url(#clip02)\" style=\"stroke:#00002d; stroke-width:0.8; stroke-opacity:1; fill:none\" points=\"\n",
       "  30.6037,384.952 30.6037,3.93701 \n",
       "  \"/>\n",
       "<polyline clip-path=\"url(#clip02)\" style=\"stroke:#00002d; stroke-width:0.8; stroke-opacity:1; fill:none\" points=\"\n",
       "  30.6037,254.352 39.0856,254.352 \n",
       "  \"/>\n",
       "<polyline clip-path=\"url(#clip02)\" style=\"stroke:#00002d; stroke-width:0.8; stroke-opacity:1; fill:none\" points=\"\n",
       "  30.6037,104.582 39.0856,104.582 \n",
       "  \"/>\n",
       "<g clip-path=\"url(#clip00)\">\n",
       "<text style=\"fill:#00002d; fill-opacity:1; font-family:Arial,Helvetica Neue,Helvetica,sans-serif; font-size:12; text-anchor:middle;\" transform=\"rotate(0, 46.6072, 396.952)\" x=\"46.6072\" y=\"396.952\">-1</text>\n",
       "</g>\n",
       "<g clip-path=\"url(#clip00)\">\n",
       "<text style=\"fill:#00002d; fill-opacity:1; font-family:Arial,Helvetica Neue,Helvetica,sans-serif; font-size:12; text-anchor:middle;\" transform=\"rotate(0, 224.425, 396.952)\" x=\"224.425\" y=\"396.952\">0</text>\n",
       "</g>\n",
       "<g clip-path=\"url(#clip00)\">\n",
       "<text style=\"fill:#00002d; fill-opacity:1; font-family:Arial,Helvetica Neue,Helvetica,sans-serif; font-size:12; text-anchor:middle;\" transform=\"rotate(0, 402.242, 396.952)\" x=\"402.242\" y=\"396.952\">1</text>\n",
       "</g>\n",
       "<g clip-path=\"url(#clip00)\">\n",
       "<text style=\"fill:#00002d; fill-opacity:1; font-family:Arial,Helvetica Neue,Helvetica,sans-serif; font-size:12; text-anchor:middle;\" transform=\"rotate(0, 580.059, 396.952)\" x=\"580.059\" y=\"396.952\">2</text>\n",
       "</g>\n",
       "<g clip-path=\"url(#clip00)\">\n",
       "<text style=\"fill:#00002d; fill-opacity:1; font-family:Arial,Helvetica Neue,Helvetica,sans-serif; font-size:12; text-anchor:end;\" transform=\"rotate(0, 29.4037, 258.852)\" x=\"29.4037\" y=\"258.852\">0.0</text>\n",
       "</g>\n",
       "<g clip-path=\"url(#clip00)\">\n",
       "<text style=\"fill:#00002d; fill-opacity:1; font-family:Arial,Helvetica Neue,Helvetica,sans-serif; font-size:12; text-anchor:end;\" transform=\"rotate(0, 29.4037, 109.082)\" x=\"29.4037\" y=\"109.082\">2.5</text>\n",
       "</g>\n",
       "<polyline clip-path=\"url(#clip02)\" style=\"stroke:#0099ff; stroke-width:0.8; stroke-opacity:1; fill:none\" points=\"\n",
       "  46.6072,374.168 51.9956,365.31 57.3841,356.881 62.7725,348.873 68.1609,341.275 73.5493,334.076 78.9377,327.268 84.3261,320.84 89.7145,314.782 95.1029,309.084 \n",
       "  100.491,303.736 105.88,298.729 111.268,294.051 116.657,289.693 122.045,285.646 127.433,281.898 132.822,278.441 138.21,275.264 143.599,272.356 148.987,269.709 \n",
       "  154.375,267.312 159.764,265.155 165.152,263.228 170.541,261.521 175.929,260.024 181.317,258.727 186.706,257.62 192.094,256.693 197.483,255.936 202.871,255.339 \n",
       "  208.259,254.893 213.648,254.586 219.036,254.409 224.425,254.352 229.813,254.406 235.201,254.559 240.59,254.803 245.978,255.126 251.367,255.519 256.755,255.973 \n",
       "  262.143,256.476 267.532,257.02 272.92,257.593 278.309,258.187 283.697,258.79 289.086,259.394 294.474,259.987 299.862,260.56 305.251,261.104 310.639,261.607 \n",
       "  316.028,262.061 321.416,262.454 326.804,262.778 332.193,263.021 337.581,263.174 342.97,263.228 348.358,263.171 353.746,262.994 359.135,262.688 364.523,262.241 \n",
       "  369.912,261.644 375.3,260.887 380.688,259.96 386.077,258.853 391.465,257.556 396.854,256.059 402.242,254.352 407.63,252.425 413.019,250.268 418.407,247.871 \n",
       "  423.796,245.224 429.184,242.316 434.572,239.139 439.961,235.682 445.349,231.934 450.738,227.887 456.126,223.529 461.514,218.851 466.903,213.844 472.291,208.496 \n",
       "  477.68,202.798 483.068,196.74 488.457,190.312 493.845,183.504 499.233,176.306 504.622,168.707 510.01,160.699 515.399,152.27 520.787,143.412 526.175,134.113 \n",
       "  531.564,124.364 536.952,114.155 542.341,103.476 547.729,92.3173 553.117,80.6681 558.506,68.5188 563.894,55.8594 569.283,42.6798 574.671,28.9702 580.059,14.7204 \n",
       "  \n",
       "  \"/>\n",
       "<circle clip-path=\"url(#clip02)\" style=\"fill:#00002d; stroke:none; fill-opacity:1\" cx=\"46.6072\" cy=\"374.168\" r=\"2\"/>\n",
       "<circle clip-path=\"url(#clip02)\" style=\"fill:#0099ff; stroke:none; fill-opacity:1\" cx=\"46.6072\" cy=\"374.168\" r=\"2\"/>\n",
       "<circle clip-path=\"url(#clip02)\" style=\"fill:#00002d; stroke:none; fill-opacity:1\" cx=\"51.9956\" cy=\"365.31\" r=\"2\"/>\n",
       "<circle clip-path=\"url(#clip02)\" style=\"fill:#0099ff; stroke:none; fill-opacity:1\" cx=\"51.9956\" cy=\"365.31\" r=\"2\"/>\n",
       "<circle clip-path=\"url(#clip02)\" style=\"fill:#00002d; stroke:none; fill-opacity:1\" cx=\"57.3841\" cy=\"356.881\" r=\"2\"/>\n",
       "<circle clip-path=\"url(#clip02)\" style=\"fill:#0099ff; stroke:none; fill-opacity:1\" cx=\"57.3841\" cy=\"356.881\" r=\"2\"/>\n",
       "<circle clip-path=\"url(#clip02)\" style=\"fill:#00002d; stroke:none; fill-opacity:1\" cx=\"62.7725\" cy=\"348.873\" r=\"2\"/>\n",
       "<circle clip-path=\"url(#clip02)\" style=\"fill:#0099ff; stroke:none; fill-opacity:1\" cx=\"62.7725\" cy=\"348.873\" r=\"2\"/>\n",
       "<circle clip-path=\"url(#clip02)\" style=\"fill:#00002d; stroke:none; fill-opacity:1\" cx=\"68.1609\" cy=\"341.275\" r=\"2\"/>\n",
       "<circle clip-path=\"url(#clip02)\" style=\"fill:#0099ff; stroke:none; fill-opacity:1\" cx=\"68.1609\" cy=\"341.275\" r=\"2\"/>\n",
       "<circle clip-path=\"url(#clip02)\" style=\"fill:#00002d; stroke:none; fill-opacity:1\" cx=\"73.5493\" cy=\"334.076\" r=\"2\"/>\n",
       "<circle clip-path=\"url(#clip02)\" style=\"fill:#0099ff; stroke:none; fill-opacity:1\" cx=\"73.5493\" cy=\"334.076\" r=\"2\"/>\n",
       "<circle clip-path=\"url(#clip02)\" style=\"fill:#00002d; stroke:none; fill-opacity:1\" cx=\"78.9377\" cy=\"327.268\" r=\"2\"/>\n",
       "<circle clip-path=\"url(#clip02)\" style=\"fill:#0099ff; stroke:none; fill-opacity:1\" cx=\"78.9377\" cy=\"327.268\" r=\"2\"/>\n",
       "<circle clip-path=\"url(#clip02)\" style=\"fill:#00002d; stroke:none; fill-opacity:1\" cx=\"84.3261\" cy=\"320.84\" r=\"2\"/>\n",
       "<circle clip-path=\"url(#clip02)\" style=\"fill:#0099ff; stroke:none; fill-opacity:1\" cx=\"84.3261\" cy=\"320.84\" r=\"2\"/>\n",
       "<circle clip-path=\"url(#clip02)\" style=\"fill:#00002d; stroke:none; fill-opacity:1\" cx=\"89.7145\" cy=\"314.782\" r=\"2\"/>\n",
       "<circle clip-path=\"url(#clip02)\" style=\"fill:#0099ff; stroke:none; fill-opacity:1\" cx=\"89.7145\" cy=\"314.782\" r=\"2\"/>\n",
       "<circle clip-path=\"url(#clip02)\" style=\"fill:#00002d; stroke:none; fill-opacity:1\" cx=\"95.1029\" cy=\"309.084\" r=\"2\"/>\n",
       "<circle clip-path=\"url(#clip02)\" style=\"fill:#0099ff; stroke:none; fill-opacity:1\" cx=\"95.1029\" cy=\"309.084\" r=\"2\"/>\n",
       "<circle clip-path=\"url(#clip02)\" style=\"fill:#00002d; stroke:none; fill-opacity:1\" cx=\"100.491\" cy=\"303.736\" r=\"2\"/>\n",
       "<circle clip-path=\"url(#clip02)\" style=\"fill:#0099ff; stroke:none; fill-opacity:1\" cx=\"100.491\" cy=\"303.736\" r=\"2\"/>\n",
       "<circle clip-path=\"url(#clip02)\" style=\"fill:#00002d; stroke:none; fill-opacity:1\" cx=\"105.88\" cy=\"298.729\" r=\"2\"/>\n",
       "<circle clip-path=\"url(#clip02)\" style=\"fill:#0099ff; stroke:none; fill-opacity:1\" cx=\"105.88\" cy=\"298.729\" r=\"2\"/>\n",
       "<circle clip-path=\"url(#clip02)\" style=\"fill:#00002d; stroke:none; fill-opacity:1\" cx=\"111.268\" cy=\"294.051\" r=\"2\"/>\n",
       "<circle clip-path=\"url(#clip02)\" style=\"fill:#0099ff; stroke:none; fill-opacity:1\" cx=\"111.268\" cy=\"294.051\" r=\"2\"/>\n",
       "<circle clip-path=\"url(#clip02)\" style=\"fill:#00002d; stroke:none; fill-opacity:1\" cx=\"116.657\" cy=\"289.693\" r=\"2\"/>\n",
       "<circle clip-path=\"url(#clip02)\" style=\"fill:#0099ff; stroke:none; fill-opacity:1\" cx=\"116.657\" cy=\"289.693\" r=\"2\"/>\n",
       "<circle clip-path=\"url(#clip02)\" style=\"fill:#00002d; stroke:none; fill-opacity:1\" cx=\"122.045\" cy=\"285.646\" r=\"2\"/>\n",
       "<circle clip-path=\"url(#clip02)\" style=\"fill:#0099ff; stroke:none; fill-opacity:1\" cx=\"122.045\" cy=\"285.646\" r=\"2\"/>\n",
       "<circle clip-path=\"url(#clip02)\" style=\"fill:#00002d; stroke:none; fill-opacity:1\" cx=\"127.433\" cy=\"281.898\" r=\"2\"/>\n",
       "<circle clip-path=\"url(#clip02)\" style=\"fill:#0099ff; stroke:none; fill-opacity:1\" cx=\"127.433\" cy=\"281.898\" r=\"2\"/>\n",
       "<circle clip-path=\"url(#clip02)\" style=\"fill:#00002d; stroke:none; fill-opacity:1\" cx=\"132.822\" cy=\"278.441\" r=\"2\"/>\n",
       "<circle clip-path=\"url(#clip02)\" style=\"fill:#0099ff; stroke:none; fill-opacity:1\" cx=\"132.822\" cy=\"278.441\" r=\"2\"/>\n",
       "<circle clip-path=\"url(#clip02)\" style=\"fill:#00002d; stroke:none; fill-opacity:1\" cx=\"138.21\" cy=\"275.264\" r=\"2\"/>\n",
       "<circle clip-path=\"url(#clip02)\" style=\"fill:#0099ff; stroke:none; fill-opacity:1\" cx=\"138.21\" cy=\"275.264\" r=\"2\"/>\n",
       "<circle clip-path=\"url(#clip02)\" style=\"fill:#00002d; stroke:none; fill-opacity:1\" cx=\"143.599\" cy=\"272.356\" r=\"2\"/>\n",
       "<circle clip-path=\"url(#clip02)\" style=\"fill:#0099ff; stroke:none; fill-opacity:1\" cx=\"143.599\" cy=\"272.356\" r=\"2\"/>\n",
       "<circle clip-path=\"url(#clip02)\" style=\"fill:#00002d; stroke:none; fill-opacity:1\" cx=\"148.987\" cy=\"269.709\" r=\"2\"/>\n",
       "<circle clip-path=\"url(#clip02)\" style=\"fill:#0099ff; stroke:none; fill-opacity:1\" cx=\"148.987\" cy=\"269.709\" r=\"2\"/>\n",
       "<circle clip-path=\"url(#clip02)\" style=\"fill:#00002d; stroke:none; fill-opacity:1\" cx=\"154.375\" cy=\"267.312\" r=\"2\"/>\n",
       "<circle clip-path=\"url(#clip02)\" style=\"fill:#0099ff; stroke:none; fill-opacity:1\" cx=\"154.375\" cy=\"267.312\" r=\"2\"/>\n",
       "<circle clip-path=\"url(#clip02)\" style=\"fill:#00002d; stroke:none; fill-opacity:1\" cx=\"159.764\" cy=\"265.155\" r=\"2\"/>\n",
       "<circle clip-path=\"url(#clip02)\" style=\"fill:#0099ff; stroke:none; fill-opacity:1\" cx=\"159.764\" cy=\"265.155\" r=\"2\"/>\n",
       "<circle clip-path=\"url(#clip02)\" style=\"fill:#00002d; stroke:none; fill-opacity:1\" cx=\"165.152\" cy=\"263.228\" r=\"2\"/>\n",
       "<circle clip-path=\"url(#clip02)\" style=\"fill:#0099ff; stroke:none; fill-opacity:1\" cx=\"165.152\" cy=\"263.228\" r=\"2\"/>\n",
       "<circle clip-path=\"url(#clip02)\" style=\"fill:#00002d; stroke:none; fill-opacity:1\" cx=\"170.541\" cy=\"261.521\" r=\"2\"/>\n",
       "<circle clip-path=\"url(#clip02)\" style=\"fill:#0099ff; stroke:none; fill-opacity:1\" cx=\"170.541\" cy=\"261.521\" r=\"2\"/>\n",
       "<circle clip-path=\"url(#clip02)\" style=\"fill:#00002d; stroke:none; fill-opacity:1\" cx=\"175.929\" cy=\"260.024\" r=\"2\"/>\n",
       "<circle clip-path=\"url(#clip02)\" style=\"fill:#0099ff; stroke:none; fill-opacity:1\" cx=\"175.929\" cy=\"260.024\" r=\"2\"/>\n",
       "<circle clip-path=\"url(#clip02)\" style=\"fill:#00002d; stroke:none; fill-opacity:1\" cx=\"181.317\" cy=\"258.727\" r=\"2\"/>\n",
       "<circle clip-path=\"url(#clip02)\" style=\"fill:#0099ff; stroke:none; fill-opacity:1\" cx=\"181.317\" cy=\"258.727\" r=\"2\"/>\n",
       "<circle clip-path=\"url(#clip02)\" style=\"fill:#00002d; stroke:none; fill-opacity:1\" cx=\"186.706\" cy=\"257.62\" r=\"2\"/>\n",
       "<circle clip-path=\"url(#clip02)\" style=\"fill:#0099ff; stroke:none; fill-opacity:1\" cx=\"186.706\" cy=\"257.62\" r=\"2\"/>\n",
       "<circle clip-path=\"url(#clip02)\" style=\"fill:#00002d; stroke:none; fill-opacity:1\" cx=\"192.094\" cy=\"256.693\" r=\"2\"/>\n",
       "<circle clip-path=\"url(#clip02)\" style=\"fill:#0099ff; stroke:none; fill-opacity:1\" cx=\"192.094\" cy=\"256.693\" r=\"2\"/>\n",
       "<circle clip-path=\"url(#clip02)\" style=\"fill:#00002d; stroke:none; fill-opacity:1\" cx=\"197.483\" cy=\"255.936\" r=\"2\"/>\n",
       "<circle clip-path=\"url(#clip02)\" style=\"fill:#0099ff; stroke:none; fill-opacity:1\" cx=\"197.483\" cy=\"255.936\" r=\"2\"/>\n",
       "<circle clip-path=\"url(#clip02)\" style=\"fill:#00002d; stroke:none; fill-opacity:1\" cx=\"202.871\" cy=\"255.339\" r=\"2\"/>\n",
       "<circle clip-path=\"url(#clip02)\" style=\"fill:#0099ff; stroke:none; fill-opacity:1\" cx=\"202.871\" cy=\"255.339\" r=\"2\"/>\n",
       "<circle clip-path=\"url(#clip02)\" style=\"fill:#00002d; stroke:none; fill-opacity:1\" cx=\"208.259\" cy=\"254.893\" r=\"2\"/>\n",
       "<circle clip-path=\"url(#clip02)\" style=\"fill:#0099ff; stroke:none; fill-opacity:1\" cx=\"208.259\" cy=\"254.893\" r=\"2\"/>\n",
       "<circle clip-path=\"url(#clip02)\" style=\"fill:#00002d; stroke:none; fill-opacity:1\" cx=\"213.648\" cy=\"254.586\" r=\"2\"/>\n",
       "<circle clip-path=\"url(#clip02)\" style=\"fill:#0099ff; stroke:none; fill-opacity:1\" cx=\"213.648\" cy=\"254.586\" r=\"2\"/>\n",
       "<circle clip-path=\"url(#clip02)\" style=\"fill:#00002d; stroke:none; fill-opacity:1\" cx=\"219.036\" cy=\"254.409\" r=\"2\"/>\n",
       "<circle clip-path=\"url(#clip02)\" style=\"fill:#0099ff; stroke:none; fill-opacity:1\" cx=\"219.036\" cy=\"254.409\" r=\"2\"/>\n",
       "<circle clip-path=\"url(#clip02)\" style=\"fill:#00002d; stroke:none; fill-opacity:1\" cx=\"224.425\" cy=\"254.352\" r=\"2\"/>\n",
       "<circle clip-path=\"url(#clip02)\" style=\"fill:#0099ff; stroke:none; fill-opacity:1\" cx=\"224.425\" cy=\"254.352\" r=\"2\"/>\n",
       "<circle clip-path=\"url(#clip02)\" style=\"fill:#00002d; stroke:none; fill-opacity:1\" cx=\"229.813\" cy=\"254.406\" r=\"2\"/>\n",
       "<circle clip-path=\"url(#clip02)\" style=\"fill:#0099ff; stroke:none; fill-opacity:1\" cx=\"229.813\" cy=\"254.406\" r=\"2\"/>\n",
       "<circle clip-path=\"url(#clip02)\" style=\"fill:#00002d; stroke:none; fill-opacity:1\" cx=\"235.201\" cy=\"254.559\" r=\"2\"/>\n",
       "<circle clip-path=\"url(#clip02)\" style=\"fill:#0099ff; stroke:none; fill-opacity:1\" cx=\"235.201\" cy=\"254.559\" r=\"2\"/>\n",
       "<circle clip-path=\"url(#clip02)\" style=\"fill:#00002d; stroke:none; fill-opacity:1\" cx=\"240.59\" cy=\"254.803\" r=\"2\"/>\n",
       "<circle clip-path=\"url(#clip02)\" style=\"fill:#0099ff; stroke:none; fill-opacity:1\" cx=\"240.59\" cy=\"254.803\" r=\"2\"/>\n",
       "<circle clip-path=\"url(#clip02)\" style=\"fill:#00002d; stroke:none; fill-opacity:1\" cx=\"245.978\" cy=\"255.126\" r=\"2\"/>\n",
       "<circle clip-path=\"url(#clip02)\" style=\"fill:#0099ff; stroke:none; fill-opacity:1\" cx=\"245.978\" cy=\"255.126\" r=\"2\"/>\n",
       "<circle clip-path=\"url(#clip02)\" style=\"fill:#00002d; stroke:none; fill-opacity:1\" cx=\"251.367\" cy=\"255.519\" r=\"2\"/>\n",
       "<circle clip-path=\"url(#clip02)\" style=\"fill:#0099ff; stroke:none; fill-opacity:1\" cx=\"251.367\" cy=\"255.519\" r=\"2\"/>\n",
       "<circle clip-path=\"url(#clip02)\" style=\"fill:#00002d; stroke:none; fill-opacity:1\" cx=\"256.755\" cy=\"255.973\" r=\"2\"/>\n",
       "<circle clip-path=\"url(#clip02)\" style=\"fill:#0099ff; stroke:none; fill-opacity:1\" cx=\"256.755\" cy=\"255.973\" r=\"2\"/>\n",
       "<circle clip-path=\"url(#clip02)\" style=\"fill:#00002d; stroke:none; fill-opacity:1\" cx=\"262.143\" cy=\"256.476\" r=\"2\"/>\n",
       "<circle clip-path=\"url(#clip02)\" style=\"fill:#0099ff; stroke:none; fill-opacity:1\" cx=\"262.143\" cy=\"256.476\" r=\"2\"/>\n",
       "<circle clip-path=\"url(#clip02)\" style=\"fill:#00002d; stroke:none; fill-opacity:1\" cx=\"267.532\" cy=\"257.02\" r=\"2\"/>\n",
       "<circle clip-path=\"url(#clip02)\" style=\"fill:#0099ff; stroke:none; fill-opacity:1\" cx=\"267.532\" cy=\"257.02\" r=\"2\"/>\n",
       "<circle clip-path=\"url(#clip02)\" style=\"fill:#00002d; stroke:none; fill-opacity:1\" cx=\"272.92\" cy=\"257.593\" r=\"2\"/>\n",
       "<circle clip-path=\"url(#clip02)\" style=\"fill:#0099ff; stroke:none; fill-opacity:1\" cx=\"272.92\" cy=\"257.593\" r=\"2\"/>\n",
       "<circle clip-path=\"url(#clip02)\" style=\"fill:#00002d; stroke:none; fill-opacity:1\" cx=\"278.309\" cy=\"258.187\" r=\"2\"/>\n",
       "<circle clip-path=\"url(#clip02)\" style=\"fill:#0099ff; stroke:none; fill-opacity:1\" cx=\"278.309\" cy=\"258.187\" r=\"2\"/>\n",
       "<circle clip-path=\"url(#clip02)\" style=\"fill:#00002d; stroke:none; fill-opacity:1\" cx=\"283.697\" cy=\"258.79\" r=\"2\"/>\n",
       "<circle clip-path=\"url(#clip02)\" style=\"fill:#0099ff; stroke:none; fill-opacity:1\" cx=\"283.697\" cy=\"258.79\" r=\"2\"/>\n",
       "<circle clip-path=\"url(#clip02)\" style=\"fill:#00002d; stroke:none; fill-opacity:1\" cx=\"289.086\" cy=\"259.394\" r=\"2\"/>\n",
       "<circle clip-path=\"url(#clip02)\" style=\"fill:#0099ff; stroke:none; fill-opacity:1\" cx=\"289.086\" cy=\"259.394\" r=\"2\"/>\n",
       "<circle clip-path=\"url(#clip02)\" style=\"fill:#00002d; stroke:none; fill-opacity:1\" cx=\"294.474\" cy=\"259.987\" r=\"2\"/>\n",
       "<circle clip-path=\"url(#clip02)\" style=\"fill:#0099ff; stroke:none; fill-opacity:1\" cx=\"294.474\" cy=\"259.987\" r=\"2\"/>\n",
       "<circle clip-path=\"url(#clip02)\" style=\"fill:#00002d; stroke:none; fill-opacity:1\" cx=\"299.862\" cy=\"260.56\" r=\"2\"/>\n",
       "<circle clip-path=\"url(#clip02)\" style=\"fill:#0099ff; stroke:none; fill-opacity:1\" cx=\"299.862\" cy=\"260.56\" r=\"2\"/>\n",
       "<circle clip-path=\"url(#clip02)\" style=\"fill:#00002d; stroke:none; fill-opacity:1\" cx=\"305.251\" cy=\"261.104\" r=\"2\"/>\n",
       "<circle clip-path=\"url(#clip02)\" style=\"fill:#0099ff; stroke:none; fill-opacity:1\" cx=\"305.251\" cy=\"261.104\" r=\"2\"/>\n",
       "<circle clip-path=\"url(#clip02)\" style=\"fill:#00002d; stroke:none; fill-opacity:1\" cx=\"310.639\" cy=\"261.607\" r=\"2\"/>\n",
       "<circle clip-path=\"url(#clip02)\" style=\"fill:#0099ff; stroke:none; fill-opacity:1\" cx=\"310.639\" cy=\"261.607\" r=\"2\"/>\n",
       "<circle clip-path=\"url(#clip02)\" style=\"fill:#00002d; stroke:none; fill-opacity:1\" cx=\"316.028\" cy=\"262.061\" r=\"2\"/>\n",
       "<circle clip-path=\"url(#clip02)\" style=\"fill:#0099ff; stroke:none; fill-opacity:1\" cx=\"316.028\" cy=\"262.061\" r=\"2\"/>\n",
       "<circle clip-path=\"url(#clip02)\" style=\"fill:#00002d; stroke:none; fill-opacity:1\" cx=\"321.416\" cy=\"262.454\" r=\"2\"/>\n",
       "<circle clip-path=\"url(#clip02)\" style=\"fill:#0099ff; stroke:none; fill-opacity:1\" cx=\"321.416\" cy=\"262.454\" r=\"2\"/>\n",
       "<circle clip-path=\"url(#clip02)\" style=\"fill:#00002d; stroke:none; fill-opacity:1\" cx=\"326.804\" cy=\"262.778\" r=\"2\"/>\n",
       "<circle clip-path=\"url(#clip02)\" style=\"fill:#0099ff; stroke:none; fill-opacity:1\" cx=\"326.804\" cy=\"262.778\" r=\"2\"/>\n",
       "<circle clip-path=\"url(#clip02)\" style=\"fill:#00002d; stroke:none; fill-opacity:1\" cx=\"332.193\" cy=\"263.021\" r=\"2\"/>\n",
       "<circle clip-path=\"url(#clip02)\" style=\"fill:#0099ff; stroke:none; fill-opacity:1\" cx=\"332.193\" cy=\"263.021\" r=\"2\"/>\n",
       "<circle clip-path=\"url(#clip02)\" style=\"fill:#00002d; stroke:none; fill-opacity:1\" cx=\"337.581\" cy=\"263.174\" r=\"2\"/>\n",
       "<circle clip-path=\"url(#clip02)\" style=\"fill:#0099ff; stroke:none; fill-opacity:1\" cx=\"337.581\" cy=\"263.174\" r=\"2\"/>\n",
       "<circle clip-path=\"url(#clip02)\" style=\"fill:#00002d; stroke:none; fill-opacity:1\" cx=\"342.97\" cy=\"263.228\" r=\"2\"/>\n",
       "<circle clip-path=\"url(#clip02)\" style=\"fill:#0099ff; stroke:none; fill-opacity:1\" cx=\"342.97\" cy=\"263.228\" r=\"2\"/>\n",
       "<circle clip-path=\"url(#clip02)\" style=\"fill:#00002d; stroke:none; fill-opacity:1\" cx=\"348.358\" cy=\"263.171\" r=\"2\"/>\n",
       "<circle clip-path=\"url(#clip02)\" style=\"fill:#0099ff; stroke:none; fill-opacity:1\" cx=\"348.358\" cy=\"263.171\" r=\"2\"/>\n",
       "<circle clip-path=\"url(#clip02)\" style=\"fill:#00002d; stroke:none; fill-opacity:1\" cx=\"353.746\" cy=\"262.994\" r=\"2\"/>\n",
       "<circle clip-path=\"url(#clip02)\" style=\"fill:#0099ff; stroke:none; fill-opacity:1\" cx=\"353.746\" cy=\"262.994\" r=\"2\"/>\n",
       "<circle clip-path=\"url(#clip02)\" style=\"fill:#00002d; stroke:none; fill-opacity:1\" cx=\"359.135\" cy=\"262.688\" r=\"2\"/>\n",
       "<circle clip-path=\"url(#clip02)\" style=\"fill:#0099ff; stroke:none; fill-opacity:1\" cx=\"359.135\" cy=\"262.688\" r=\"2\"/>\n",
       "<circle clip-path=\"url(#clip02)\" style=\"fill:#00002d; stroke:none; fill-opacity:1\" cx=\"364.523\" cy=\"262.241\" r=\"2\"/>\n",
       "<circle clip-path=\"url(#clip02)\" style=\"fill:#0099ff; stroke:none; fill-opacity:1\" cx=\"364.523\" cy=\"262.241\" r=\"2\"/>\n",
       "<circle clip-path=\"url(#clip02)\" style=\"fill:#00002d; stroke:none; fill-opacity:1\" cx=\"369.912\" cy=\"261.644\" r=\"2\"/>\n",
       "<circle clip-path=\"url(#clip02)\" style=\"fill:#0099ff; stroke:none; fill-opacity:1\" cx=\"369.912\" cy=\"261.644\" r=\"2\"/>\n",
       "<circle clip-path=\"url(#clip02)\" style=\"fill:#00002d; stroke:none; fill-opacity:1\" cx=\"375.3\" cy=\"260.887\" r=\"2\"/>\n",
       "<circle clip-path=\"url(#clip02)\" style=\"fill:#0099ff; stroke:none; fill-opacity:1\" cx=\"375.3\" cy=\"260.887\" r=\"2\"/>\n",
       "<circle clip-path=\"url(#clip02)\" style=\"fill:#00002d; stroke:none; fill-opacity:1\" cx=\"380.688\" cy=\"259.96\" r=\"2\"/>\n",
       "<circle clip-path=\"url(#clip02)\" style=\"fill:#0099ff; stroke:none; fill-opacity:1\" cx=\"380.688\" cy=\"259.96\" r=\"2\"/>\n",
       "<circle clip-path=\"url(#clip02)\" style=\"fill:#00002d; stroke:none; fill-opacity:1\" cx=\"386.077\" cy=\"258.853\" r=\"2\"/>\n",
       "<circle clip-path=\"url(#clip02)\" style=\"fill:#0099ff; stroke:none; fill-opacity:1\" cx=\"386.077\" cy=\"258.853\" r=\"2\"/>\n",
       "<circle clip-path=\"url(#clip02)\" style=\"fill:#00002d; stroke:none; fill-opacity:1\" cx=\"391.465\" cy=\"257.556\" r=\"2\"/>\n",
       "<circle clip-path=\"url(#clip02)\" style=\"fill:#0099ff; stroke:none; fill-opacity:1\" cx=\"391.465\" cy=\"257.556\" r=\"2\"/>\n",
       "<circle clip-path=\"url(#clip02)\" style=\"fill:#00002d; stroke:none; fill-opacity:1\" cx=\"396.854\" cy=\"256.059\" r=\"2\"/>\n",
       "<circle clip-path=\"url(#clip02)\" style=\"fill:#0099ff; stroke:none; fill-opacity:1\" cx=\"396.854\" cy=\"256.059\" r=\"2\"/>\n",
       "<circle clip-path=\"url(#clip02)\" style=\"fill:#00002d; stroke:none; fill-opacity:1\" cx=\"402.242\" cy=\"254.352\" r=\"2\"/>\n",
       "<circle clip-path=\"url(#clip02)\" style=\"fill:#0099ff; stroke:none; fill-opacity:1\" cx=\"402.242\" cy=\"254.352\" r=\"2\"/>\n",
       "<circle clip-path=\"url(#clip02)\" style=\"fill:#00002d; stroke:none; fill-opacity:1\" cx=\"407.63\" cy=\"252.425\" r=\"2\"/>\n",
       "<circle clip-path=\"url(#clip02)\" style=\"fill:#0099ff; stroke:none; fill-opacity:1\" cx=\"407.63\" cy=\"252.425\" r=\"2\"/>\n",
       "<circle clip-path=\"url(#clip02)\" style=\"fill:#00002d; stroke:none; fill-opacity:1\" cx=\"413.019\" cy=\"250.268\" r=\"2\"/>\n",
       "<circle clip-path=\"url(#clip02)\" style=\"fill:#0099ff; stroke:none; fill-opacity:1\" cx=\"413.019\" cy=\"250.268\" r=\"2\"/>\n",
       "<circle clip-path=\"url(#clip02)\" style=\"fill:#00002d; stroke:none; fill-opacity:1\" cx=\"418.407\" cy=\"247.871\" r=\"2\"/>\n",
       "<circle clip-path=\"url(#clip02)\" style=\"fill:#0099ff; stroke:none; fill-opacity:1\" cx=\"418.407\" cy=\"247.871\" r=\"2\"/>\n",
       "<circle clip-path=\"url(#clip02)\" style=\"fill:#00002d; stroke:none; fill-opacity:1\" cx=\"423.796\" cy=\"245.224\" r=\"2\"/>\n",
       "<circle clip-path=\"url(#clip02)\" style=\"fill:#0099ff; stroke:none; fill-opacity:1\" cx=\"423.796\" cy=\"245.224\" r=\"2\"/>\n",
       "<circle clip-path=\"url(#clip02)\" style=\"fill:#00002d; stroke:none; fill-opacity:1\" cx=\"429.184\" cy=\"242.316\" r=\"2\"/>\n",
       "<circle clip-path=\"url(#clip02)\" style=\"fill:#0099ff; stroke:none; fill-opacity:1\" cx=\"429.184\" cy=\"242.316\" r=\"2\"/>\n",
       "<circle clip-path=\"url(#clip02)\" style=\"fill:#00002d; stroke:none; fill-opacity:1\" cx=\"434.572\" cy=\"239.139\" r=\"2\"/>\n",
       "<circle clip-path=\"url(#clip02)\" style=\"fill:#0099ff; stroke:none; fill-opacity:1\" cx=\"434.572\" cy=\"239.139\" r=\"2\"/>\n",
       "<circle clip-path=\"url(#clip02)\" style=\"fill:#00002d; stroke:none; fill-opacity:1\" cx=\"439.961\" cy=\"235.682\" r=\"2\"/>\n",
       "<circle clip-path=\"url(#clip02)\" style=\"fill:#0099ff; stroke:none; fill-opacity:1\" cx=\"439.961\" cy=\"235.682\" r=\"2\"/>\n",
       "<circle clip-path=\"url(#clip02)\" style=\"fill:#00002d; stroke:none; fill-opacity:1\" cx=\"445.349\" cy=\"231.934\" r=\"2\"/>\n",
       "<circle clip-path=\"url(#clip02)\" style=\"fill:#0099ff; stroke:none; fill-opacity:1\" cx=\"445.349\" cy=\"231.934\" r=\"2\"/>\n",
       "<circle clip-path=\"url(#clip02)\" style=\"fill:#00002d; stroke:none; fill-opacity:1\" cx=\"450.738\" cy=\"227.887\" r=\"2\"/>\n",
       "<circle clip-path=\"url(#clip02)\" style=\"fill:#0099ff; stroke:none; fill-opacity:1\" cx=\"450.738\" cy=\"227.887\" r=\"2\"/>\n",
       "<circle clip-path=\"url(#clip02)\" style=\"fill:#00002d; stroke:none; fill-opacity:1\" cx=\"456.126\" cy=\"223.529\" r=\"2\"/>\n",
       "<circle clip-path=\"url(#clip02)\" style=\"fill:#0099ff; stroke:none; fill-opacity:1\" cx=\"456.126\" cy=\"223.529\" r=\"2\"/>\n",
       "<circle clip-path=\"url(#clip02)\" style=\"fill:#00002d; stroke:none; fill-opacity:1\" cx=\"461.514\" cy=\"218.851\" r=\"2\"/>\n",
       "<circle clip-path=\"url(#clip02)\" style=\"fill:#0099ff; stroke:none; fill-opacity:1\" cx=\"461.514\" cy=\"218.851\" r=\"2\"/>\n",
       "<circle clip-path=\"url(#clip02)\" style=\"fill:#00002d; stroke:none; fill-opacity:1\" cx=\"466.903\" cy=\"213.844\" r=\"2\"/>\n",
       "<circle clip-path=\"url(#clip02)\" style=\"fill:#0099ff; stroke:none; fill-opacity:1\" cx=\"466.903\" cy=\"213.844\" r=\"2\"/>\n",
       "<circle clip-path=\"url(#clip02)\" style=\"fill:#00002d; stroke:none; fill-opacity:1\" cx=\"472.291\" cy=\"208.496\" r=\"2\"/>\n",
       "<circle clip-path=\"url(#clip02)\" style=\"fill:#0099ff; stroke:none; fill-opacity:1\" cx=\"472.291\" cy=\"208.496\" r=\"2\"/>\n",
       "<circle clip-path=\"url(#clip02)\" style=\"fill:#00002d; stroke:none; fill-opacity:1\" cx=\"477.68\" cy=\"202.798\" r=\"2\"/>\n",
       "<circle clip-path=\"url(#clip02)\" style=\"fill:#0099ff; stroke:none; fill-opacity:1\" cx=\"477.68\" cy=\"202.798\" r=\"2\"/>\n",
       "<circle clip-path=\"url(#clip02)\" style=\"fill:#00002d; stroke:none; fill-opacity:1\" cx=\"483.068\" cy=\"196.74\" r=\"2\"/>\n",
       "<circle clip-path=\"url(#clip02)\" style=\"fill:#0099ff; stroke:none; fill-opacity:1\" cx=\"483.068\" cy=\"196.74\" r=\"2\"/>\n",
       "<circle clip-path=\"url(#clip02)\" style=\"fill:#00002d; stroke:none; fill-opacity:1\" cx=\"488.457\" cy=\"190.312\" r=\"2\"/>\n",
       "<circle clip-path=\"url(#clip02)\" style=\"fill:#0099ff; stroke:none; fill-opacity:1\" cx=\"488.457\" cy=\"190.312\" r=\"2\"/>\n",
       "<circle clip-path=\"url(#clip02)\" style=\"fill:#00002d; stroke:none; fill-opacity:1\" cx=\"493.845\" cy=\"183.504\" r=\"2\"/>\n",
       "<circle clip-path=\"url(#clip02)\" style=\"fill:#0099ff; stroke:none; fill-opacity:1\" cx=\"493.845\" cy=\"183.504\" r=\"2\"/>\n",
       "<circle clip-path=\"url(#clip02)\" style=\"fill:#00002d; stroke:none; fill-opacity:1\" cx=\"499.233\" cy=\"176.306\" r=\"2\"/>\n",
       "<circle clip-path=\"url(#clip02)\" style=\"fill:#0099ff; stroke:none; fill-opacity:1\" cx=\"499.233\" cy=\"176.306\" r=\"2\"/>\n",
       "<circle clip-path=\"url(#clip02)\" style=\"fill:#00002d; stroke:none; fill-opacity:1\" cx=\"504.622\" cy=\"168.707\" r=\"2\"/>\n",
       "<circle clip-path=\"url(#clip02)\" style=\"fill:#0099ff; stroke:none; fill-opacity:1\" cx=\"504.622\" cy=\"168.707\" r=\"2\"/>\n",
       "<circle clip-path=\"url(#clip02)\" style=\"fill:#00002d; stroke:none; fill-opacity:1\" cx=\"510.01\" cy=\"160.699\" r=\"2\"/>\n",
       "<circle clip-path=\"url(#clip02)\" style=\"fill:#0099ff; stroke:none; fill-opacity:1\" cx=\"510.01\" cy=\"160.699\" r=\"2\"/>\n",
       "<circle clip-path=\"url(#clip02)\" style=\"fill:#00002d; stroke:none; fill-opacity:1\" cx=\"515.399\" cy=\"152.27\" r=\"2\"/>\n",
       "<circle clip-path=\"url(#clip02)\" style=\"fill:#0099ff; stroke:none; fill-opacity:1\" cx=\"515.399\" cy=\"152.27\" r=\"2\"/>\n",
       "<circle clip-path=\"url(#clip02)\" style=\"fill:#00002d; stroke:none; fill-opacity:1\" cx=\"520.787\" cy=\"143.412\" r=\"2\"/>\n",
       "<circle clip-path=\"url(#clip02)\" style=\"fill:#0099ff; stroke:none; fill-opacity:1\" cx=\"520.787\" cy=\"143.412\" r=\"2\"/>\n",
       "<circle clip-path=\"url(#clip02)\" style=\"fill:#00002d; stroke:none; fill-opacity:1\" cx=\"526.175\" cy=\"134.113\" r=\"2\"/>\n",
       "<circle clip-path=\"url(#clip02)\" style=\"fill:#0099ff; stroke:none; fill-opacity:1\" cx=\"526.175\" cy=\"134.113\" r=\"2\"/>\n",
       "<circle clip-path=\"url(#clip02)\" style=\"fill:#00002d; stroke:none; fill-opacity:1\" cx=\"531.564\" cy=\"124.364\" r=\"2\"/>\n",
       "<circle clip-path=\"url(#clip02)\" style=\"fill:#0099ff; stroke:none; fill-opacity:1\" cx=\"531.564\" cy=\"124.364\" r=\"2\"/>\n",
       "<circle clip-path=\"url(#clip02)\" style=\"fill:#00002d; stroke:none; fill-opacity:1\" cx=\"536.952\" cy=\"114.155\" r=\"2\"/>\n",
       "<circle clip-path=\"url(#clip02)\" style=\"fill:#0099ff; stroke:none; fill-opacity:1\" cx=\"536.952\" cy=\"114.155\" r=\"2\"/>\n",
       "<circle clip-path=\"url(#clip02)\" style=\"fill:#00002d; stroke:none; fill-opacity:1\" cx=\"542.341\" cy=\"103.476\" r=\"2\"/>\n",
       "<circle clip-path=\"url(#clip02)\" style=\"fill:#0099ff; stroke:none; fill-opacity:1\" cx=\"542.341\" cy=\"103.476\" r=\"2\"/>\n",
       "<circle clip-path=\"url(#clip02)\" style=\"fill:#00002d; stroke:none; fill-opacity:1\" cx=\"547.729\" cy=\"92.3173\" r=\"2\"/>\n",
       "<circle clip-path=\"url(#clip02)\" style=\"fill:#0099ff; stroke:none; fill-opacity:1\" cx=\"547.729\" cy=\"92.3173\" r=\"2\"/>\n",
       "<circle clip-path=\"url(#clip02)\" style=\"fill:#00002d; stroke:none; fill-opacity:1\" cx=\"553.117\" cy=\"80.6681\" r=\"2\"/>\n",
       "<circle clip-path=\"url(#clip02)\" style=\"fill:#0099ff; stroke:none; fill-opacity:1\" cx=\"553.117\" cy=\"80.6681\" r=\"2\"/>\n",
       "<circle clip-path=\"url(#clip02)\" style=\"fill:#00002d; stroke:none; fill-opacity:1\" cx=\"558.506\" cy=\"68.5188\" r=\"2\"/>\n",
       "<circle clip-path=\"url(#clip02)\" style=\"fill:#0099ff; stroke:none; fill-opacity:1\" cx=\"558.506\" cy=\"68.5188\" r=\"2\"/>\n",
       "<circle clip-path=\"url(#clip02)\" style=\"fill:#00002d; stroke:none; fill-opacity:1\" cx=\"563.894\" cy=\"55.8594\" r=\"2\"/>\n",
       "<circle clip-path=\"url(#clip02)\" style=\"fill:#0099ff; stroke:none; fill-opacity:1\" cx=\"563.894\" cy=\"55.8594\" r=\"2\"/>\n",
       "<circle clip-path=\"url(#clip02)\" style=\"fill:#00002d; stroke:none; fill-opacity:1\" cx=\"569.283\" cy=\"42.6798\" r=\"2\"/>\n",
       "<circle clip-path=\"url(#clip02)\" style=\"fill:#0099ff; stroke:none; fill-opacity:1\" cx=\"569.283\" cy=\"42.6798\" r=\"2\"/>\n",
       "<circle clip-path=\"url(#clip02)\" style=\"fill:#00002d; stroke:none; fill-opacity:1\" cx=\"574.671\" cy=\"28.9702\" r=\"2\"/>\n",
       "<circle clip-path=\"url(#clip02)\" style=\"fill:#0099ff; stroke:none; fill-opacity:1\" cx=\"574.671\" cy=\"28.9702\" r=\"2\"/>\n",
       "<circle clip-path=\"url(#clip02)\" style=\"fill:#00002d; stroke:none; fill-opacity:1\" cx=\"580.059\" cy=\"14.7204\" r=\"2\"/>\n",
       "<circle clip-path=\"url(#clip02)\" style=\"fill:#0099ff; stroke:none; fill-opacity:1\" cx=\"580.059\" cy=\"14.7204\" r=\"2\"/>\n",
       "<polygon clip-path=\"url(#clip00)\" points=\"\n",
       "505.547,55.057 578.063,55.057 578.063,24.817 505.547,24.817 \n",
       "  \" fill=\"#ffffff\" fill-opacity=\"1\"/>\n",
       "<polyline clip-path=\"url(#clip00)\" style=\"stroke:#00002d; stroke-width:0.8; stroke-opacity:1; fill:none\" points=\"\n",
       "  505.547,55.057 578.063,55.057 578.063,24.817 505.547,24.817 505.547,55.057 \n",
       "  \"/>\n",
       "<polyline clip-path=\"url(#clip00)\" style=\"stroke:#0099ff; stroke-width:0.8; stroke-opacity:1; fill:none\" points=\"\n",
       "  511.547,39.937 547.547,39.937 \n",
       "  \"/>\n",
       "<circle clip-path=\"url(#clip00)\" style=\"fill:#00002d; stroke:none; fill-opacity:1\" cx=\"517.547\" cy=\"39.937\" r=\"7\"/>\n",
       "<circle clip-path=\"url(#clip00)\" style=\"fill:#0099ff; stroke:none; fill-opacity:1\" cx=\"517.547\" cy=\"39.937\" r=\"7\"/>\n",
       "<circle clip-path=\"url(#clip00)\" style=\"fill:#00002d; stroke:none; fill-opacity:1\" cx=\"541.547\" cy=\"39.937\" r=\"7\"/>\n",
       "<circle clip-path=\"url(#clip00)\" style=\"fill:#0099ff; stroke:none; fill-opacity:1\" cx=\"541.547\" cy=\"39.937\" r=\"7\"/>\n",
       "<g clip-path=\"url(#clip00)\">\n",
       "<text style=\"fill:#00002d; fill-opacity:1; font-family:Arial,Helvetica Neue,Helvetica,sans-serif; font-size:12; text-anchor:start;\" transform=\"rotate(0, 553.547, 44.437)\" x=\"553.547\" y=\"44.437\">y1</text>\n",
       "</g>\n",
       "</svg>\n"
      ]
     },
     "execution_count": 151,
     "metadata": {},
     "output_type": "execute_result"
    }
   ],
   "source": [
    "plot(x, y, m=3)"
   ]
  },
  {
   "cell_type": "code",
   "execution_count": 152,
   "metadata": {
    "collapsed": false
   },
   "outputs": [
    {
     "data": {
      "text/html": [
       "<?xml version=\"1.0\" encoding=\"utf-8\"?>\n",
       "<svg xmlns=\"http://www.w3.org/2000/svg\" xmlns:xlink=\"http://www.w3.org/1999/xlink\" width=\"600\" height=\"400\" viewBox=\"0 0 600 400\">\n",
       "<defs>\n",
       "  <clipPath id=\"clip00\">\n",
       "    <rect x=\"0\" y=\"0\" width=\"600\" height=\"400\"/>\n",
       "  </clipPath>\n",
       "</defs>\n",
       "<polygon clip-path=\"url(#clip00)\" points=\"\n",
       "0,400 600,400 600,0 0,0 \n",
       "  \" fill=\"#ffffff\" fill-opacity=\"1\"/>\n",
       "<defs>\n",
       "  <clipPath id=\"clip01\">\n",
       "    <rect x=\"120\" y=\"0\" width=\"421\" height=\"400\"/>\n",
       "  </clipPath>\n",
       "</defs>\n",
       "<polygon clip-path=\"url(#clip00)\" points=\"\n",
       "30.6037,384.952 596.063,384.952 596.063,3.93701 30.6037,3.93701 \n",
       "  \" fill=\"#ffffff\" fill-opacity=\"1\"/>\n",
       "<defs>\n",
       "  <clipPath id=\"clip02\">\n",
       "    <rect x=\"30\" y=\"3\" width=\"566\" height=\"382\"/>\n",
       "  </clipPath>\n",
       "</defs>\n",
       "<polyline clip-path=\"url(#clip02)\" style=\"stroke:#00002d; stroke-width:0.8; stroke-opacity:0.5; fill:none\" stroke-dasharray=\"1, 2\" points=\"\n",
       "  46.6072,379.237 46.6072,9.65223 \n",
       "  \"/>\n",
       "<polyline clip-path=\"url(#clip02)\" style=\"stroke:#00002d; stroke-width:0.8; stroke-opacity:0.5; fill:none\" stroke-dasharray=\"1, 2\" points=\"\n",
       "  224.425,379.237 224.425,9.65223 \n",
       "  \"/>\n",
       "<polyline clip-path=\"url(#clip02)\" style=\"stroke:#00002d; stroke-width:0.8; stroke-opacity:0.5; fill:none\" stroke-dasharray=\"1, 2\" points=\"\n",
       "  402.242,379.237 402.242,9.65223 \n",
       "  \"/>\n",
       "<polyline clip-path=\"url(#clip02)\" style=\"stroke:#00002d; stroke-width:0.8; stroke-opacity:0.5; fill:none\" stroke-dasharray=\"1, 2\" points=\"\n",
       "  580.059,379.237 580.059,9.65223 \n",
       "  \"/>\n",
       "<polyline clip-path=\"url(#clip02)\" style=\"stroke:#00002d; stroke-width:0.8; stroke-opacity:0.5; fill:none\" stroke-dasharray=\"1, 2\" points=\"\n",
       "  39.0856,254.352 587.581,254.352 \n",
       "  \"/>\n",
       "<polyline clip-path=\"url(#clip02)\" style=\"stroke:#00002d; stroke-width:0.8; stroke-opacity:0.5; fill:none\" stroke-dasharray=\"1, 2\" points=\"\n",
       "  39.0856,104.582 587.581,104.582 \n",
       "  \"/>\n",
       "<polyline clip-path=\"url(#clip02)\" style=\"stroke:#00002d; stroke-width:0.8; stroke-opacity:1; fill:none\" points=\"\n",
       "  30.6037,384.952 596.063,384.952 \n",
       "  \"/>\n",
       "<polyline clip-path=\"url(#clip02)\" style=\"stroke:#00002d; stroke-width:0.8; stroke-opacity:1; fill:none\" points=\"\n",
       "  46.6072,384.952 46.6072,379.237 \n",
       "  \"/>\n",
       "<polyline clip-path=\"url(#clip02)\" style=\"stroke:#00002d; stroke-width:0.8; stroke-opacity:1; fill:none\" points=\"\n",
       "  224.425,384.952 224.425,379.237 \n",
       "  \"/>\n",
       "<polyline clip-path=\"url(#clip02)\" style=\"stroke:#00002d; stroke-width:0.8; stroke-opacity:1; fill:none\" points=\"\n",
       "  402.242,384.952 402.242,379.237 \n",
       "  \"/>\n",
       "<polyline clip-path=\"url(#clip02)\" style=\"stroke:#00002d; stroke-width:0.8; stroke-opacity:1; fill:none\" points=\"\n",
       "  580.059,384.952 580.059,379.237 \n",
       "  \"/>\n",
       "<polyline clip-path=\"url(#clip02)\" style=\"stroke:#00002d; stroke-width:0.8; stroke-opacity:1; fill:none\" points=\"\n",
       "  30.6037,384.952 30.6037,3.93701 \n",
       "  \"/>\n",
       "<polyline clip-path=\"url(#clip02)\" style=\"stroke:#00002d; stroke-width:0.8; stroke-opacity:1; fill:none\" points=\"\n",
       "  30.6037,254.352 39.0856,254.352 \n",
       "  \"/>\n",
       "<polyline clip-path=\"url(#clip02)\" style=\"stroke:#00002d; stroke-width:0.8; stroke-opacity:1; fill:none\" points=\"\n",
       "  30.6037,104.582 39.0856,104.582 \n",
       "  \"/>\n",
       "<g clip-path=\"url(#clip00)\">\n",
       "<text style=\"fill:#00002d; fill-opacity:1; font-family:Arial,Helvetica Neue,Helvetica,sans-serif; font-size:12; text-anchor:middle;\" transform=\"rotate(0, 46.6072, 396.952)\" x=\"46.6072\" y=\"396.952\">-1</text>\n",
       "</g>\n",
       "<g clip-path=\"url(#clip00)\">\n",
       "<text style=\"fill:#00002d; fill-opacity:1; font-family:Arial,Helvetica Neue,Helvetica,sans-serif; font-size:12; text-anchor:middle;\" transform=\"rotate(0, 224.425, 396.952)\" x=\"224.425\" y=\"396.952\">0</text>\n",
       "</g>\n",
       "<g clip-path=\"url(#clip00)\">\n",
       "<text style=\"fill:#00002d; fill-opacity:1; font-family:Arial,Helvetica Neue,Helvetica,sans-serif; font-size:12; text-anchor:middle;\" transform=\"rotate(0, 402.242, 396.952)\" x=\"402.242\" y=\"396.952\">1</text>\n",
       "</g>\n",
       "<g clip-path=\"url(#clip00)\">\n",
       "<text style=\"fill:#00002d; fill-opacity:1; font-family:Arial,Helvetica Neue,Helvetica,sans-serif; font-size:12; text-anchor:middle;\" transform=\"rotate(0, 580.059, 396.952)\" x=\"580.059\" y=\"396.952\">2</text>\n",
       "</g>\n",
       "<g clip-path=\"url(#clip00)\">\n",
       "<text style=\"fill:#00002d; fill-opacity:1; font-family:Arial,Helvetica Neue,Helvetica,sans-serif; font-size:12; text-anchor:end;\" transform=\"rotate(0, 29.4037, 258.852)\" x=\"29.4037\" y=\"258.852\">0.0</text>\n",
       "</g>\n",
       "<g clip-path=\"url(#clip00)\">\n",
       "<text style=\"fill:#00002d; fill-opacity:1; font-family:Arial,Helvetica Neue,Helvetica,sans-serif; font-size:12; text-anchor:end;\" transform=\"rotate(0, 29.4037, 109.082)\" x=\"29.4037\" y=\"109.082\">2.5</text>\n",
       "</g>\n",
       "<circle clip-path=\"url(#clip02)\" style=\"fill:#00002d; stroke:none; fill-opacity:1\" cx=\"46.6072\" cy=\"374.168\" r=\"3\"/>\n",
       "<circle clip-path=\"url(#clip02)\" style=\"fill:#ff0000; stroke:none; fill-opacity:1\" cx=\"46.6072\" cy=\"374.168\" r=\"2\"/>\n",
       "<circle clip-path=\"url(#clip02)\" style=\"fill:#00002d; stroke:none; fill-opacity:1\" cx=\"51.9956\" cy=\"365.31\" r=\"3\"/>\n",
       "<circle clip-path=\"url(#clip02)\" style=\"fill:#ff0000; stroke:none; fill-opacity:1\" cx=\"51.9956\" cy=\"365.31\" r=\"2\"/>\n",
       "<circle clip-path=\"url(#clip02)\" style=\"fill:#00002d; stroke:none; fill-opacity:1\" cx=\"57.3841\" cy=\"356.881\" r=\"3\"/>\n",
       "<circle clip-path=\"url(#clip02)\" style=\"fill:#ff0000; stroke:none; fill-opacity:1\" cx=\"57.3841\" cy=\"356.881\" r=\"2\"/>\n",
       "<circle clip-path=\"url(#clip02)\" style=\"fill:#00002d; stroke:none; fill-opacity:1\" cx=\"62.7725\" cy=\"348.873\" r=\"3\"/>\n",
       "<circle clip-path=\"url(#clip02)\" style=\"fill:#ff0000; stroke:none; fill-opacity:1\" cx=\"62.7725\" cy=\"348.873\" r=\"2\"/>\n",
       "<circle clip-path=\"url(#clip02)\" style=\"fill:#00002d; stroke:none; fill-opacity:1\" cx=\"68.1609\" cy=\"341.275\" r=\"3\"/>\n",
       "<circle clip-path=\"url(#clip02)\" style=\"fill:#ff0000; stroke:none; fill-opacity:1\" cx=\"68.1609\" cy=\"341.275\" r=\"2\"/>\n",
       "<circle clip-path=\"url(#clip02)\" style=\"fill:#00002d; stroke:none; fill-opacity:1\" cx=\"73.5493\" cy=\"334.076\" r=\"3\"/>\n",
       "<circle clip-path=\"url(#clip02)\" style=\"fill:#ff0000; stroke:none; fill-opacity:1\" cx=\"73.5493\" cy=\"334.076\" r=\"2\"/>\n",
       "<circle clip-path=\"url(#clip02)\" style=\"fill:#00002d; stroke:none; fill-opacity:1\" cx=\"78.9377\" cy=\"327.268\" r=\"3\"/>\n",
       "<circle clip-path=\"url(#clip02)\" style=\"fill:#ff0000; stroke:none; fill-opacity:1\" cx=\"78.9377\" cy=\"327.268\" r=\"2\"/>\n",
       "<circle clip-path=\"url(#clip02)\" style=\"fill:#00002d; stroke:none; fill-opacity:1\" cx=\"84.3261\" cy=\"320.84\" r=\"3\"/>\n",
       "<circle clip-path=\"url(#clip02)\" style=\"fill:#ff0000; stroke:none; fill-opacity:1\" cx=\"84.3261\" cy=\"320.84\" r=\"2\"/>\n",
       "<circle clip-path=\"url(#clip02)\" style=\"fill:#00002d; stroke:none; fill-opacity:1\" cx=\"89.7145\" cy=\"314.782\" r=\"3\"/>\n",
       "<circle clip-path=\"url(#clip02)\" style=\"fill:#ff0000; stroke:none; fill-opacity:1\" cx=\"89.7145\" cy=\"314.782\" r=\"2\"/>\n",
       "<circle clip-path=\"url(#clip02)\" style=\"fill:#00002d; stroke:none; fill-opacity:1\" cx=\"95.1029\" cy=\"309.084\" r=\"3\"/>\n",
       "<circle clip-path=\"url(#clip02)\" style=\"fill:#ff0000; stroke:none; fill-opacity:1\" cx=\"95.1029\" cy=\"309.084\" r=\"2\"/>\n",
       "<circle clip-path=\"url(#clip02)\" style=\"fill:#00002d; stroke:none; fill-opacity:1\" cx=\"100.491\" cy=\"303.736\" r=\"3\"/>\n",
       "<circle clip-path=\"url(#clip02)\" style=\"fill:#ff0000; stroke:none; fill-opacity:1\" cx=\"100.491\" cy=\"303.736\" r=\"2\"/>\n",
       "<circle clip-path=\"url(#clip02)\" style=\"fill:#00002d; stroke:none; fill-opacity:1\" cx=\"105.88\" cy=\"298.729\" r=\"3\"/>\n",
       "<circle clip-path=\"url(#clip02)\" style=\"fill:#ff0000; stroke:none; fill-opacity:1\" cx=\"105.88\" cy=\"298.729\" r=\"2\"/>\n",
       "<circle clip-path=\"url(#clip02)\" style=\"fill:#00002d; stroke:none; fill-opacity:1\" cx=\"111.268\" cy=\"294.051\" r=\"3\"/>\n",
       "<circle clip-path=\"url(#clip02)\" style=\"fill:#ff0000; stroke:none; fill-opacity:1\" cx=\"111.268\" cy=\"294.051\" r=\"2\"/>\n",
       "<circle clip-path=\"url(#clip02)\" style=\"fill:#00002d; stroke:none; fill-opacity:1\" cx=\"116.657\" cy=\"289.693\" r=\"3\"/>\n",
       "<circle clip-path=\"url(#clip02)\" style=\"fill:#ff0000; stroke:none; fill-opacity:1\" cx=\"116.657\" cy=\"289.693\" r=\"2\"/>\n",
       "<circle clip-path=\"url(#clip02)\" style=\"fill:#00002d; stroke:none; fill-opacity:1\" cx=\"122.045\" cy=\"285.646\" r=\"3\"/>\n",
       "<circle clip-path=\"url(#clip02)\" style=\"fill:#ff0000; stroke:none; fill-opacity:1\" cx=\"122.045\" cy=\"285.646\" r=\"2\"/>\n",
       "<circle clip-path=\"url(#clip02)\" style=\"fill:#00002d; stroke:none; fill-opacity:1\" cx=\"127.433\" cy=\"281.898\" r=\"3\"/>\n",
       "<circle clip-path=\"url(#clip02)\" style=\"fill:#ff0000; stroke:none; fill-opacity:1\" cx=\"127.433\" cy=\"281.898\" r=\"2\"/>\n",
       "<circle clip-path=\"url(#clip02)\" style=\"fill:#00002d; stroke:none; fill-opacity:1\" cx=\"132.822\" cy=\"278.441\" r=\"3\"/>\n",
       "<circle clip-path=\"url(#clip02)\" style=\"fill:#ff0000; stroke:none; fill-opacity:1\" cx=\"132.822\" cy=\"278.441\" r=\"2\"/>\n",
       "<circle clip-path=\"url(#clip02)\" style=\"fill:#00002d; stroke:none; fill-opacity:1\" cx=\"138.21\" cy=\"275.264\" r=\"3\"/>\n",
       "<circle clip-path=\"url(#clip02)\" style=\"fill:#ff0000; stroke:none; fill-opacity:1\" cx=\"138.21\" cy=\"275.264\" r=\"2\"/>\n",
       "<circle clip-path=\"url(#clip02)\" style=\"fill:#00002d; stroke:none; fill-opacity:1\" cx=\"143.599\" cy=\"272.356\" r=\"3\"/>\n",
       "<circle clip-path=\"url(#clip02)\" style=\"fill:#ff0000; stroke:none; fill-opacity:1\" cx=\"143.599\" cy=\"272.356\" r=\"2\"/>\n",
       "<circle clip-path=\"url(#clip02)\" style=\"fill:#00002d; stroke:none; fill-opacity:1\" cx=\"148.987\" cy=\"269.709\" r=\"3\"/>\n",
       "<circle clip-path=\"url(#clip02)\" style=\"fill:#ff0000; stroke:none; fill-opacity:1\" cx=\"148.987\" cy=\"269.709\" r=\"2\"/>\n",
       "<circle clip-path=\"url(#clip02)\" style=\"fill:#00002d; stroke:none; fill-opacity:1\" cx=\"154.375\" cy=\"267.312\" r=\"3\"/>\n",
       "<circle clip-path=\"url(#clip02)\" style=\"fill:#ff0000; stroke:none; fill-opacity:1\" cx=\"154.375\" cy=\"267.312\" r=\"2\"/>\n",
       "<circle clip-path=\"url(#clip02)\" style=\"fill:#00002d; stroke:none; fill-opacity:1\" cx=\"159.764\" cy=\"265.155\" r=\"3\"/>\n",
       "<circle clip-path=\"url(#clip02)\" style=\"fill:#ff0000; stroke:none; fill-opacity:1\" cx=\"159.764\" cy=\"265.155\" r=\"2\"/>\n",
       "<circle clip-path=\"url(#clip02)\" style=\"fill:#00002d; stroke:none; fill-opacity:1\" cx=\"165.152\" cy=\"263.228\" r=\"3\"/>\n",
       "<circle clip-path=\"url(#clip02)\" style=\"fill:#ff0000; stroke:none; fill-opacity:1\" cx=\"165.152\" cy=\"263.228\" r=\"2\"/>\n",
       "<circle clip-path=\"url(#clip02)\" style=\"fill:#00002d; stroke:none; fill-opacity:1\" cx=\"170.541\" cy=\"261.521\" r=\"3\"/>\n",
       "<circle clip-path=\"url(#clip02)\" style=\"fill:#ff0000; stroke:none; fill-opacity:1\" cx=\"170.541\" cy=\"261.521\" r=\"2\"/>\n",
       "<circle clip-path=\"url(#clip02)\" style=\"fill:#00002d; stroke:none; fill-opacity:1\" cx=\"175.929\" cy=\"260.024\" r=\"3\"/>\n",
       "<circle clip-path=\"url(#clip02)\" style=\"fill:#ff0000; stroke:none; fill-opacity:1\" cx=\"175.929\" cy=\"260.024\" r=\"2\"/>\n",
       "<circle clip-path=\"url(#clip02)\" style=\"fill:#00002d; stroke:none; fill-opacity:1\" cx=\"181.317\" cy=\"258.727\" r=\"3\"/>\n",
       "<circle clip-path=\"url(#clip02)\" style=\"fill:#ff0000; stroke:none; fill-opacity:1\" cx=\"181.317\" cy=\"258.727\" r=\"2\"/>\n",
       "<circle clip-path=\"url(#clip02)\" style=\"fill:#00002d; stroke:none; fill-opacity:1\" cx=\"186.706\" cy=\"257.62\" r=\"3\"/>\n",
       "<circle clip-path=\"url(#clip02)\" style=\"fill:#ff0000; stroke:none; fill-opacity:1\" cx=\"186.706\" cy=\"257.62\" r=\"2\"/>\n",
       "<circle clip-path=\"url(#clip02)\" style=\"fill:#00002d; stroke:none; fill-opacity:1\" cx=\"192.094\" cy=\"256.693\" r=\"3\"/>\n",
       "<circle clip-path=\"url(#clip02)\" style=\"fill:#ff0000; stroke:none; fill-opacity:1\" cx=\"192.094\" cy=\"256.693\" r=\"2\"/>\n",
       "<circle clip-path=\"url(#clip02)\" style=\"fill:#00002d; stroke:none; fill-opacity:1\" cx=\"197.483\" cy=\"255.936\" r=\"3\"/>\n",
       "<circle clip-path=\"url(#clip02)\" style=\"fill:#ff0000; stroke:none; fill-opacity:1\" cx=\"197.483\" cy=\"255.936\" r=\"2\"/>\n",
       "<circle clip-path=\"url(#clip02)\" style=\"fill:#00002d; stroke:none; fill-opacity:1\" cx=\"202.871\" cy=\"255.339\" r=\"3\"/>\n",
       "<circle clip-path=\"url(#clip02)\" style=\"fill:#ff0000; stroke:none; fill-opacity:1\" cx=\"202.871\" cy=\"255.339\" r=\"2\"/>\n",
       "<circle clip-path=\"url(#clip02)\" style=\"fill:#00002d; stroke:none; fill-opacity:1\" cx=\"208.259\" cy=\"254.893\" r=\"3\"/>\n",
       "<circle clip-path=\"url(#clip02)\" style=\"fill:#ff0000; stroke:none; fill-opacity:1\" cx=\"208.259\" cy=\"254.893\" r=\"2\"/>\n",
       "<circle clip-path=\"url(#clip02)\" style=\"fill:#00002d; stroke:none; fill-opacity:1\" cx=\"213.648\" cy=\"254.586\" r=\"3\"/>\n",
       "<circle clip-path=\"url(#clip02)\" style=\"fill:#ff0000; stroke:none; fill-opacity:1\" cx=\"213.648\" cy=\"254.586\" r=\"2\"/>\n",
       "<circle clip-path=\"url(#clip02)\" style=\"fill:#00002d; stroke:none; fill-opacity:1\" cx=\"219.036\" cy=\"254.409\" r=\"3\"/>\n",
       "<circle clip-path=\"url(#clip02)\" style=\"fill:#ff0000; stroke:none; fill-opacity:1\" cx=\"219.036\" cy=\"254.409\" r=\"2\"/>\n",
       "<circle clip-path=\"url(#clip02)\" style=\"fill:#00002d; stroke:none; fill-opacity:1\" cx=\"224.425\" cy=\"254.352\" r=\"3\"/>\n",
       "<circle clip-path=\"url(#clip02)\" style=\"fill:#ff0000; stroke:none; fill-opacity:1\" cx=\"224.425\" cy=\"254.352\" r=\"2\"/>\n",
       "<circle clip-path=\"url(#clip02)\" style=\"fill:#00002d; stroke:none; fill-opacity:1\" cx=\"229.813\" cy=\"254.406\" r=\"3\"/>\n",
       "<circle clip-path=\"url(#clip02)\" style=\"fill:#ff0000; stroke:none; fill-opacity:1\" cx=\"229.813\" cy=\"254.406\" r=\"2\"/>\n",
       "<circle clip-path=\"url(#clip02)\" style=\"fill:#00002d; stroke:none; fill-opacity:1\" cx=\"235.201\" cy=\"254.559\" r=\"3\"/>\n",
       "<circle clip-path=\"url(#clip02)\" style=\"fill:#ff0000; stroke:none; fill-opacity:1\" cx=\"235.201\" cy=\"254.559\" r=\"2\"/>\n",
       "<circle clip-path=\"url(#clip02)\" style=\"fill:#00002d; stroke:none; fill-opacity:1\" cx=\"240.59\" cy=\"254.803\" r=\"3\"/>\n",
       "<circle clip-path=\"url(#clip02)\" style=\"fill:#ff0000; stroke:none; fill-opacity:1\" cx=\"240.59\" cy=\"254.803\" r=\"2\"/>\n",
       "<circle clip-path=\"url(#clip02)\" style=\"fill:#00002d; stroke:none; fill-opacity:1\" cx=\"245.978\" cy=\"255.126\" r=\"3\"/>\n",
       "<circle clip-path=\"url(#clip02)\" style=\"fill:#ff0000; stroke:none; fill-opacity:1\" cx=\"245.978\" cy=\"255.126\" r=\"2\"/>\n",
       "<circle clip-path=\"url(#clip02)\" style=\"fill:#00002d; stroke:none; fill-opacity:1\" cx=\"251.367\" cy=\"255.519\" r=\"3\"/>\n",
       "<circle clip-path=\"url(#clip02)\" style=\"fill:#ff0000; stroke:none; fill-opacity:1\" cx=\"251.367\" cy=\"255.519\" r=\"2\"/>\n",
       "<circle clip-path=\"url(#clip02)\" style=\"fill:#00002d; stroke:none; fill-opacity:1\" cx=\"256.755\" cy=\"255.973\" r=\"3\"/>\n",
       "<circle clip-path=\"url(#clip02)\" style=\"fill:#ff0000; stroke:none; fill-opacity:1\" cx=\"256.755\" cy=\"255.973\" r=\"2\"/>\n",
       "<circle clip-path=\"url(#clip02)\" style=\"fill:#00002d; stroke:none; fill-opacity:1\" cx=\"262.143\" cy=\"256.476\" r=\"3\"/>\n",
       "<circle clip-path=\"url(#clip02)\" style=\"fill:#ff0000; stroke:none; fill-opacity:1\" cx=\"262.143\" cy=\"256.476\" r=\"2\"/>\n",
       "<circle clip-path=\"url(#clip02)\" style=\"fill:#00002d; stroke:none; fill-opacity:1\" cx=\"267.532\" cy=\"257.02\" r=\"3\"/>\n",
       "<circle clip-path=\"url(#clip02)\" style=\"fill:#ff0000; stroke:none; fill-opacity:1\" cx=\"267.532\" cy=\"257.02\" r=\"2\"/>\n",
       "<circle clip-path=\"url(#clip02)\" style=\"fill:#00002d; stroke:none; fill-opacity:1\" cx=\"272.92\" cy=\"257.593\" r=\"3\"/>\n",
       "<circle clip-path=\"url(#clip02)\" style=\"fill:#ff0000; stroke:none; fill-opacity:1\" cx=\"272.92\" cy=\"257.593\" r=\"2\"/>\n",
       "<circle clip-path=\"url(#clip02)\" style=\"fill:#00002d; stroke:none; fill-opacity:1\" cx=\"278.309\" cy=\"258.187\" r=\"3\"/>\n",
       "<circle clip-path=\"url(#clip02)\" style=\"fill:#ff0000; stroke:none; fill-opacity:1\" cx=\"278.309\" cy=\"258.187\" r=\"2\"/>\n",
       "<circle clip-path=\"url(#clip02)\" style=\"fill:#00002d; stroke:none; fill-opacity:1\" cx=\"283.697\" cy=\"258.79\" r=\"3\"/>\n",
       "<circle clip-path=\"url(#clip02)\" style=\"fill:#ff0000; stroke:none; fill-opacity:1\" cx=\"283.697\" cy=\"258.79\" r=\"2\"/>\n",
       "<circle clip-path=\"url(#clip02)\" style=\"fill:#00002d; stroke:none; fill-opacity:1\" cx=\"289.086\" cy=\"259.394\" r=\"3\"/>\n",
       "<circle clip-path=\"url(#clip02)\" style=\"fill:#ff0000; stroke:none; fill-opacity:1\" cx=\"289.086\" cy=\"259.394\" r=\"2\"/>\n",
       "<circle clip-path=\"url(#clip02)\" style=\"fill:#00002d; stroke:none; fill-opacity:1\" cx=\"294.474\" cy=\"259.987\" r=\"3\"/>\n",
       "<circle clip-path=\"url(#clip02)\" style=\"fill:#ff0000; stroke:none; fill-opacity:1\" cx=\"294.474\" cy=\"259.987\" r=\"2\"/>\n",
       "<circle clip-path=\"url(#clip02)\" style=\"fill:#00002d; stroke:none; fill-opacity:1\" cx=\"299.862\" cy=\"260.56\" r=\"3\"/>\n",
       "<circle clip-path=\"url(#clip02)\" style=\"fill:#ff0000; stroke:none; fill-opacity:1\" cx=\"299.862\" cy=\"260.56\" r=\"2\"/>\n",
       "<circle clip-path=\"url(#clip02)\" style=\"fill:#00002d; stroke:none; fill-opacity:1\" cx=\"305.251\" cy=\"261.104\" r=\"3\"/>\n",
       "<circle clip-path=\"url(#clip02)\" style=\"fill:#ff0000; stroke:none; fill-opacity:1\" cx=\"305.251\" cy=\"261.104\" r=\"2\"/>\n",
       "<circle clip-path=\"url(#clip02)\" style=\"fill:#00002d; stroke:none; fill-opacity:1\" cx=\"310.639\" cy=\"261.607\" r=\"3\"/>\n",
       "<circle clip-path=\"url(#clip02)\" style=\"fill:#ff0000; stroke:none; fill-opacity:1\" cx=\"310.639\" cy=\"261.607\" r=\"2\"/>\n",
       "<circle clip-path=\"url(#clip02)\" style=\"fill:#00002d; stroke:none; fill-opacity:1\" cx=\"316.028\" cy=\"262.061\" r=\"3\"/>\n",
       "<circle clip-path=\"url(#clip02)\" style=\"fill:#ff0000; stroke:none; fill-opacity:1\" cx=\"316.028\" cy=\"262.061\" r=\"2\"/>\n",
       "<circle clip-path=\"url(#clip02)\" style=\"fill:#00002d; stroke:none; fill-opacity:1\" cx=\"321.416\" cy=\"262.454\" r=\"3\"/>\n",
       "<circle clip-path=\"url(#clip02)\" style=\"fill:#ff0000; stroke:none; fill-opacity:1\" cx=\"321.416\" cy=\"262.454\" r=\"2\"/>\n",
       "<circle clip-path=\"url(#clip02)\" style=\"fill:#00002d; stroke:none; fill-opacity:1\" cx=\"326.804\" cy=\"262.778\" r=\"3\"/>\n",
       "<circle clip-path=\"url(#clip02)\" style=\"fill:#ff0000; stroke:none; fill-opacity:1\" cx=\"326.804\" cy=\"262.778\" r=\"2\"/>\n",
       "<circle clip-path=\"url(#clip02)\" style=\"fill:#00002d; stroke:none; fill-opacity:1\" cx=\"332.193\" cy=\"263.021\" r=\"3\"/>\n",
       "<circle clip-path=\"url(#clip02)\" style=\"fill:#ff0000; stroke:none; fill-opacity:1\" cx=\"332.193\" cy=\"263.021\" r=\"2\"/>\n",
       "<circle clip-path=\"url(#clip02)\" style=\"fill:#00002d; stroke:none; fill-opacity:1\" cx=\"337.581\" cy=\"263.174\" r=\"3\"/>\n",
       "<circle clip-path=\"url(#clip02)\" style=\"fill:#ff0000; stroke:none; fill-opacity:1\" cx=\"337.581\" cy=\"263.174\" r=\"2\"/>\n",
       "<circle clip-path=\"url(#clip02)\" style=\"fill:#00002d; stroke:none; fill-opacity:1\" cx=\"342.97\" cy=\"263.228\" r=\"3\"/>\n",
       "<circle clip-path=\"url(#clip02)\" style=\"fill:#ff0000; stroke:none; fill-opacity:1\" cx=\"342.97\" cy=\"263.228\" r=\"2\"/>\n",
       "<circle clip-path=\"url(#clip02)\" style=\"fill:#00002d; stroke:none; fill-opacity:1\" cx=\"348.358\" cy=\"263.171\" r=\"3\"/>\n",
       "<circle clip-path=\"url(#clip02)\" style=\"fill:#ff0000; stroke:none; fill-opacity:1\" cx=\"348.358\" cy=\"263.171\" r=\"2\"/>\n",
       "<circle clip-path=\"url(#clip02)\" style=\"fill:#00002d; stroke:none; fill-opacity:1\" cx=\"353.746\" cy=\"262.994\" r=\"3\"/>\n",
       "<circle clip-path=\"url(#clip02)\" style=\"fill:#ff0000; stroke:none; fill-opacity:1\" cx=\"353.746\" cy=\"262.994\" r=\"2\"/>\n",
       "<circle clip-path=\"url(#clip02)\" style=\"fill:#00002d; stroke:none; fill-opacity:1\" cx=\"359.135\" cy=\"262.688\" r=\"3\"/>\n",
       "<circle clip-path=\"url(#clip02)\" style=\"fill:#ff0000; stroke:none; fill-opacity:1\" cx=\"359.135\" cy=\"262.688\" r=\"2\"/>\n",
       "<circle clip-path=\"url(#clip02)\" style=\"fill:#00002d; stroke:none; fill-opacity:1\" cx=\"364.523\" cy=\"262.241\" r=\"3\"/>\n",
       "<circle clip-path=\"url(#clip02)\" style=\"fill:#ff0000; stroke:none; fill-opacity:1\" cx=\"364.523\" cy=\"262.241\" r=\"2\"/>\n",
       "<circle clip-path=\"url(#clip02)\" style=\"fill:#00002d; stroke:none; fill-opacity:1\" cx=\"369.912\" cy=\"261.644\" r=\"3\"/>\n",
       "<circle clip-path=\"url(#clip02)\" style=\"fill:#ff0000; stroke:none; fill-opacity:1\" cx=\"369.912\" cy=\"261.644\" r=\"2\"/>\n",
       "<circle clip-path=\"url(#clip02)\" style=\"fill:#00002d; stroke:none; fill-opacity:1\" cx=\"375.3\" cy=\"260.887\" r=\"3\"/>\n",
       "<circle clip-path=\"url(#clip02)\" style=\"fill:#ff0000; stroke:none; fill-opacity:1\" cx=\"375.3\" cy=\"260.887\" r=\"2\"/>\n",
       "<circle clip-path=\"url(#clip02)\" style=\"fill:#00002d; stroke:none; fill-opacity:1\" cx=\"380.688\" cy=\"259.96\" r=\"3\"/>\n",
       "<circle clip-path=\"url(#clip02)\" style=\"fill:#ff0000; stroke:none; fill-opacity:1\" cx=\"380.688\" cy=\"259.96\" r=\"2\"/>\n",
       "<circle clip-path=\"url(#clip02)\" style=\"fill:#00002d; stroke:none; fill-opacity:1\" cx=\"386.077\" cy=\"258.853\" r=\"3\"/>\n",
       "<circle clip-path=\"url(#clip02)\" style=\"fill:#ff0000; stroke:none; fill-opacity:1\" cx=\"386.077\" cy=\"258.853\" r=\"2\"/>\n",
       "<circle clip-path=\"url(#clip02)\" style=\"fill:#00002d; stroke:none; fill-opacity:1\" cx=\"391.465\" cy=\"257.556\" r=\"3\"/>\n",
       "<circle clip-path=\"url(#clip02)\" style=\"fill:#ff0000; stroke:none; fill-opacity:1\" cx=\"391.465\" cy=\"257.556\" r=\"2\"/>\n",
       "<circle clip-path=\"url(#clip02)\" style=\"fill:#00002d; stroke:none; fill-opacity:1\" cx=\"396.854\" cy=\"256.059\" r=\"3\"/>\n",
       "<circle clip-path=\"url(#clip02)\" style=\"fill:#ff0000; stroke:none; fill-opacity:1\" cx=\"396.854\" cy=\"256.059\" r=\"2\"/>\n",
       "<circle clip-path=\"url(#clip02)\" style=\"fill:#00002d; stroke:none; fill-opacity:1\" cx=\"402.242\" cy=\"254.352\" r=\"3\"/>\n",
       "<circle clip-path=\"url(#clip02)\" style=\"fill:#ff0000; stroke:none; fill-opacity:1\" cx=\"402.242\" cy=\"254.352\" r=\"2\"/>\n",
       "<circle clip-path=\"url(#clip02)\" style=\"fill:#00002d; stroke:none; fill-opacity:1\" cx=\"407.63\" cy=\"252.425\" r=\"3\"/>\n",
       "<circle clip-path=\"url(#clip02)\" style=\"fill:#ff0000; stroke:none; fill-opacity:1\" cx=\"407.63\" cy=\"252.425\" r=\"2\"/>\n",
       "<circle clip-path=\"url(#clip02)\" style=\"fill:#00002d; stroke:none; fill-opacity:1\" cx=\"413.019\" cy=\"250.268\" r=\"3\"/>\n",
       "<circle clip-path=\"url(#clip02)\" style=\"fill:#ff0000; stroke:none; fill-opacity:1\" cx=\"413.019\" cy=\"250.268\" r=\"2\"/>\n",
       "<circle clip-path=\"url(#clip02)\" style=\"fill:#00002d; stroke:none; fill-opacity:1\" cx=\"418.407\" cy=\"247.871\" r=\"3\"/>\n",
       "<circle clip-path=\"url(#clip02)\" style=\"fill:#ff0000; stroke:none; fill-opacity:1\" cx=\"418.407\" cy=\"247.871\" r=\"2\"/>\n",
       "<circle clip-path=\"url(#clip02)\" style=\"fill:#00002d; stroke:none; fill-opacity:1\" cx=\"423.796\" cy=\"245.224\" r=\"3\"/>\n",
       "<circle clip-path=\"url(#clip02)\" style=\"fill:#ff0000; stroke:none; fill-opacity:1\" cx=\"423.796\" cy=\"245.224\" r=\"2\"/>\n",
       "<circle clip-path=\"url(#clip02)\" style=\"fill:#00002d; stroke:none; fill-opacity:1\" cx=\"429.184\" cy=\"242.316\" r=\"3\"/>\n",
       "<circle clip-path=\"url(#clip02)\" style=\"fill:#ff0000; stroke:none; fill-opacity:1\" cx=\"429.184\" cy=\"242.316\" r=\"2\"/>\n",
       "<circle clip-path=\"url(#clip02)\" style=\"fill:#00002d; stroke:none; fill-opacity:1\" cx=\"434.572\" cy=\"239.139\" r=\"3\"/>\n",
       "<circle clip-path=\"url(#clip02)\" style=\"fill:#ff0000; stroke:none; fill-opacity:1\" cx=\"434.572\" cy=\"239.139\" r=\"2\"/>\n",
       "<circle clip-path=\"url(#clip02)\" style=\"fill:#00002d; stroke:none; fill-opacity:1\" cx=\"439.961\" cy=\"235.682\" r=\"3\"/>\n",
       "<circle clip-path=\"url(#clip02)\" style=\"fill:#ff0000; stroke:none; fill-opacity:1\" cx=\"439.961\" cy=\"235.682\" r=\"2\"/>\n",
       "<circle clip-path=\"url(#clip02)\" style=\"fill:#00002d; stroke:none; fill-opacity:1\" cx=\"445.349\" cy=\"231.934\" r=\"3\"/>\n",
       "<circle clip-path=\"url(#clip02)\" style=\"fill:#ff0000; stroke:none; fill-opacity:1\" cx=\"445.349\" cy=\"231.934\" r=\"2\"/>\n",
       "<circle clip-path=\"url(#clip02)\" style=\"fill:#00002d; stroke:none; fill-opacity:1\" cx=\"450.738\" cy=\"227.887\" r=\"3\"/>\n",
       "<circle clip-path=\"url(#clip02)\" style=\"fill:#ff0000; stroke:none; fill-opacity:1\" cx=\"450.738\" cy=\"227.887\" r=\"2\"/>\n",
       "<circle clip-path=\"url(#clip02)\" style=\"fill:#00002d; stroke:none; fill-opacity:1\" cx=\"456.126\" cy=\"223.529\" r=\"3\"/>\n",
       "<circle clip-path=\"url(#clip02)\" style=\"fill:#ff0000; stroke:none; fill-opacity:1\" cx=\"456.126\" cy=\"223.529\" r=\"2\"/>\n",
       "<circle clip-path=\"url(#clip02)\" style=\"fill:#00002d; stroke:none; fill-opacity:1\" cx=\"461.514\" cy=\"218.851\" r=\"3\"/>\n",
       "<circle clip-path=\"url(#clip02)\" style=\"fill:#ff0000; stroke:none; fill-opacity:1\" cx=\"461.514\" cy=\"218.851\" r=\"2\"/>\n",
       "<circle clip-path=\"url(#clip02)\" style=\"fill:#00002d; stroke:none; fill-opacity:1\" cx=\"466.903\" cy=\"213.844\" r=\"3\"/>\n",
       "<circle clip-path=\"url(#clip02)\" style=\"fill:#ff0000; stroke:none; fill-opacity:1\" cx=\"466.903\" cy=\"213.844\" r=\"2\"/>\n",
       "<circle clip-path=\"url(#clip02)\" style=\"fill:#00002d; stroke:none; fill-opacity:1\" cx=\"472.291\" cy=\"208.496\" r=\"3\"/>\n",
       "<circle clip-path=\"url(#clip02)\" style=\"fill:#ff0000; stroke:none; fill-opacity:1\" cx=\"472.291\" cy=\"208.496\" r=\"2\"/>\n",
       "<circle clip-path=\"url(#clip02)\" style=\"fill:#00002d; stroke:none; fill-opacity:1\" cx=\"477.68\" cy=\"202.798\" r=\"3\"/>\n",
       "<circle clip-path=\"url(#clip02)\" style=\"fill:#ff0000; stroke:none; fill-opacity:1\" cx=\"477.68\" cy=\"202.798\" r=\"2\"/>\n",
       "<circle clip-path=\"url(#clip02)\" style=\"fill:#00002d; stroke:none; fill-opacity:1\" cx=\"483.068\" cy=\"196.74\" r=\"3\"/>\n",
       "<circle clip-path=\"url(#clip02)\" style=\"fill:#ff0000; stroke:none; fill-opacity:1\" cx=\"483.068\" cy=\"196.74\" r=\"2\"/>\n",
       "<circle clip-path=\"url(#clip02)\" style=\"fill:#00002d; stroke:none; fill-opacity:1\" cx=\"488.457\" cy=\"190.312\" r=\"3\"/>\n",
       "<circle clip-path=\"url(#clip02)\" style=\"fill:#ff0000; stroke:none; fill-opacity:1\" cx=\"488.457\" cy=\"190.312\" r=\"2\"/>\n",
       "<circle clip-path=\"url(#clip02)\" style=\"fill:#00002d; stroke:none; fill-opacity:1\" cx=\"493.845\" cy=\"183.504\" r=\"3\"/>\n",
       "<circle clip-path=\"url(#clip02)\" style=\"fill:#ff0000; stroke:none; fill-opacity:1\" cx=\"493.845\" cy=\"183.504\" r=\"2\"/>\n",
       "<circle clip-path=\"url(#clip02)\" style=\"fill:#00002d; stroke:none; fill-opacity:1\" cx=\"499.233\" cy=\"176.306\" r=\"3\"/>\n",
       "<circle clip-path=\"url(#clip02)\" style=\"fill:#ff0000; stroke:none; fill-opacity:1\" cx=\"499.233\" cy=\"176.306\" r=\"2\"/>\n",
       "<circle clip-path=\"url(#clip02)\" style=\"fill:#00002d; stroke:none; fill-opacity:1\" cx=\"504.622\" cy=\"168.707\" r=\"3\"/>\n",
       "<circle clip-path=\"url(#clip02)\" style=\"fill:#ff0000; stroke:none; fill-opacity:1\" cx=\"504.622\" cy=\"168.707\" r=\"2\"/>\n",
       "<circle clip-path=\"url(#clip02)\" style=\"fill:#00002d; stroke:none; fill-opacity:1\" cx=\"510.01\" cy=\"160.699\" r=\"3\"/>\n",
       "<circle clip-path=\"url(#clip02)\" style=\"fill:#ff0000; stroke:none; fill-opacity:1\" cx=\"510.01\" cy=\"160.699\" r=\"2\"/>\n",
       "<circle clip-path=\"url(#clip02)\" style=\"fill:#00002d; stroke:none; fill-opacity:1\" cx=\"515.399\" cy=\"152.27\" r=\"3\"/>\n",
       "<circle clip-path=\"url(#clip02)\" style=\"fill:#ff0000; stroke:none; fill-opacity:1\" cx=\"515.399\" cy=\"152.27\" r=\"2\"/>\n",
       "<circle clip-path=\"url(#clip02)\" style=\"fill:#00002d; stroke:none; fill-opacity:1\" cx=\"520.787\" cy=\"143.412\" r=\"3\"/>\n",
       "<circle clip-path=\"url(#clip02)\" style=\"fill:#ff0000; stroke:none; fill-opacity:1\" cx=\"520.787\" cy=\"143.412\" r=\"2\"/>\n",
       "<circle clip-path=\"url(#clip02)\" style=\"fill:#00002d; stroke:none; fill-opacity:1\" cx=\"526.175\" cy=\"134.113\" r=\"3\"/>\n",
       "<circle clip-path=\"url(#clip02)\" style=\"fill:#ff0000; stroke:none; fill-opacity:1\" cx=\"526.175\" cy=\"134.113\" r=\"2\"/>\n",
       "<circle clip-path=\"url(#clip02)\" style=\"fill:#00002d; stroke:none; fill-opacity:1\" cx=\"531.564\" cy=\"124.364\" r=\"3\"/>\n",
       "<circle clip-path=\"url(#clip02)\" style=\"fill:#ff0000; stroke:none; fill-opacity:1\" cx=\"531.564\" cy=\"124.364\" r=\"2\"/>\n",
       "<circle clip-path=\"url(#clip02)\" style=\"fill:#00002d; stroke:none; fill-opacity:1\" cx=\"536.952\" cy=\"114.155\" r=\"3\"/>\n",
       "<circle clip-path=\"url(#clip02)\" style=\"fill:#ff0000; stroke:none; fill-opacity:1\" cx=\"536.952\" cy=\"114.155\" r=\"2\"/>\n",
       "<circle clip-path=\"url(#clip02)\" style=\"fill:#00002d; stroke:none; fill-opacity:1\" cx=\"542.341\" cy=\"103.476\" r=\"3\"/>\n",
       "<circle clip-path=\"url(#clip02)\" style=\"fill:#ff0000; stroke:none; fill-opacity:1\" cx=\"542.341\" cy=\"103.476\" r=\"2\"/>\n",
       "<circle clip-path=\"url(#clip02)\" style=\"fill:#00002d; stroke:none; fill-opacity:1\" cx=\"547.729\" cy=\"92.3173\" r=\"3\"/>\n",
       "<circle clip-path=\"url(#clip02)\" style=\"fill:#ff0000; stroke:none; fill-opacity:1\" cx=\"547.729\" cy=\"92.3173\" r=\"2\"/>\n",
       "<circle clip-path=\"url(#clip02)\" style=\"fill:#00002d; stroke:none; fill-opacity:1\" cx=\"553.117\" cy=\"80.6681\" r=\"3\"/>\n",
       "<circle clip-path=\"url(#clip02)\" style=\"fill:#ff0000; stroke:none; fill-opacity:1\" cx=\"553.117\" cy=\"80.6681\" r=\"2\"/>\n",
       "<circle clip-path=\"url(#clip02)\" style=\"fill:#00002d; stroke:none; fill-opacity:1\" cx=\"558.506\" cy=\"68.5188\" r=\"3\"/>\n",
       "<circle clip-path=\"url(#clip02)\" style=\"fill:#ff0000; stroke:none; fill-opacity:1\" cx=\"558.506\" cy=\"68.5188\" r=\"2\"/>\n",
       "<circle clip-path=\"url(#clip02)\" style=\"fill:#00002d; stroke:none; fill-opacity:1\" cx=\"563.894\" cy=\"55.8594\" r=\"3\"/>\n",
       "<circle clip-path=\"url(#clip02)\" style=\"fill:#ff0000; stroke:none; fill-opacity:1\" cx=\"563.894\" cy=\"55.8594\" r=\"2\"/>\n",
       "<circle clip-path=\"url(#clip02)\" style=\"fill:#00002d; stroke:none; fill-opacity:1\" cx=\"569.283\" cy=\"42.6798\" r=\"3\"/>\n",
       "<circle clip-path=\"url(#clip02)\" style=\"fill:#ff0000; stroke:none; fill-opacity:1\" cx=\"569.283\" cy=\"42.6798\" r=\"2\"/>\n",
       "<circle clip-path=\"url(#clip02)\" style=\"fill:#00002d; stroke:none; fill-opacity:1\" cx=\"574.671\" cy=\"28.9702\" r=\"3\"/>\n",
       "<circle clip-path=\"url(#clip02)\" style=\"fill:#ff0000; stroke:none; fill-opacity:1\" cx=\"574.671\" cy=\"28.9702\" r=\"2\"/>\n",
       "<circle clip-path=\"url(#clip02)\" style=\"fill:#00002d; stroke:none; fill-opacity:1\" cx=\"580.059\" cy=\"14.7204\" r=\"3\"/>\n",
       "<circle clip-path=\"url(#clip02)\" style=\"fill:#ff0000; stroke:none; fill-opacity:1\" cx=\"580.059\" cy=\"14.7204\" r=\"2\"/>\n",
       "<polygon clip-path=\"url(#clip00)\" points=\"\n",
       "505.547,55.057 578.063,55.057 578.063,24.817 505.547,24.817 \n",
       "  \" fill=\"#ffffff\" fill-opacity=\"1\"/>\n",
       "<polyline clip-path=\"url(#clip00)\" style=\"stroke:#00002d; stroke-width:0.8; stroke-opacity:1; fill:none\" points=\"\n",
       "  505.547,55.057 578.063,55.057 578.063,24.817 505.547,24.817 505.547,55.057 \n",
       "  \"/>\n",
       "<circle clip-path=\"url(#clip00)\" style=\"fill:#00002d; stroke:none; fill-opacity:1\" cx=\"517.547\" cy=\"39.937\" r=\"7\"/>\n",
       "<circle clip-path=\"url(#clip00)\" style=\"fill:#ff0000; stroke:none; fill-opacity:1\" cx=\"517.547\" cy=\"39.937\" r=\"7\"/>\n",
       "<circle clip-path=\"url(#clip00)\" style=\"fill:#00002d; stroke:none; fill-opacity:1\" cx=\"541.547\" cy=\"39.937\" r=\"7\"/>\n",
       "<circle clip-path=\"url(#clip00)\" style=\"fill:#ff0000; stroke:none; fill-opacity:1\" cx=\"541.547\" cy=\"39.937\" r=\"7\"/>\n",
       "<g clip-path=\"url(#clip00)\">\n",
       "<text style=\"fill:#00002d; fill-opacity:1; font-family:Arial,Helvetica Neue,Helvetica,sans-serif; font-size:12; text-anchor:start;\" transform=\"rotate(0, 553.547, 44.437)\" x=\"553.547\" y=\"44.437\">y1</text>\n",
       "</g>\n",
       "</svg>\n"
      ]
     },
     "execution_count": 152,
     "metadata": {},
     "output_type": "execute_result"
    }
   ],
   "source": [
    "scatter(x, y, color=:red)"
   ]
  },
  {
   "cell_type": "code",
   "execution_count": 153,
   "metadata": {
    "collapsed": false
   },
   "outputs": [
    {
     "data": {
      "text/html": [
       "<?xml version=\"1.0\" encoding=\"utf-8\"?>\n",
       "<svg xmlns=\"http://www.w3.org/2000/svg\" xmlns:xlink=\"http://www.w3.org/1999/xlink\" width=\"600\" height=\"400\" viewBox=\"0 0 600 400\">\n",
       "<defs>\n",
       "  <clipPath id=\"clip00\">\n",
       "    <rect x=\"0\" y=\"0\" width=\"600\" height=\"400\"/>\n",
       "  </clipPath>\n",
       "</defs>\n",
       "<polygon clip-path=\"url(#clip00)\" points=\"\n",
       "0,400 600,400 600,0 0,0 \n",
       "  \" fill=\"#ffffff\" fill-opacity=\"1\"/>\n",
       "<defs>\n",
       "  <clipPath id=\"clip01\">\n",
       "    <rect x=\"120\" y=\"0\" width=\"421\" height=\"400\"/>\n",
       "  </clipPath>\n",
       "</defs>\n",
       "<polygon clip-path=\"url(#clip00)\" points=\"\n",
       "30.6037,384.952 596.063,384.952 596.063,3.93701 30.6037,3.93701 \n",
       "  \" fill=\"#ffffff\" fill-opacity=\"1\"/>\n",
       "<defs>\n",
       "  <clipPath id=\"clip02\">\n",
       "    <rect x=\"30\" y=\"3\" width=\"566\" height=\"382\"/>\n",
       "  </clipPath>\n",
       "</defs>\n",
       "<polyline clip-path=\"url(#clip02)\" style=\"stroke:#00002d; stroke-width:0.8; stroke-opacity:0.5; fill:none\" stroke-dasharray=\"1, 2\" points=\"\n",
       "  46.6072,379.237 46.6072,9.65223 \n",
       "  \"/>\n",
       "<polyline clip-path=\"url(#clip02)\" style=\"stroke:#00002d; stroke-width:0.8; stroke-opacity:0.5; fill:none\" stroke-dasharray=\"1, 2\" points=\"\n",
       "  224.425,379.237 224.425,9.65223 \n",
       "  \"/>\n",
       "<polyline clip-path=\"url(#clip02)\" style=\"stroke:#00002d; stroke-width:0.8; stroke-opacity:0.5; fill:none\" stroke-dasharray=\"1, 2\" points=\"\n",
       "  402.242,379.237 402.242,9.65223 \n",
       "  \"/>\n",
       "<polyline clip-path=\"url(#clip02)\" style=\"stroke:#00002d; stroke-width:0.8; stroke-opacity:0.5; fill:none\" stroke-dasharray=\"1, 2\" points=\"\n",
       "  580.059,379.237 580.059,9.65223 \n",
       "  \"/>\n",
       "<polyline clip-path=\"url(#clip02)\" style=\"stroke:#00002d; stroke-width:0.8; stroke-opacity:0.5; fill:none\" stroke-dasharray=\"1, 2\" points=\"\n",
       "  39.0856,374.181 587.581,374.181 \n",
       "  \"/>\n",
       "<polyline clip-path=\"url(#clip02)\" style=\"stroke:#00002d; stroke-width:0.8; stroke-opacity:0.5; fill:none\" stroke-dasharray=\"1, 2\" points=\"\n",
       "  39.0856,192.538 587.581,192.538 \n",
       "  \"/>\n",
       "<polyline clip-path=\"url(#clip02)\" style=\"stroke:#00002d; stroke-width:0.8; stroke-opacity:0.5; fill:none\" stroke-dasharray=\"1, 2\" points=\"\n",
       "  39.0856,10.8959 587.581,10.8959 \n",
       "  \"/>\n",
       "<polyline clip-path=\"url(#clip02)\" style=\"stroke:#00002d; stroke-width:0.8; stroke-opacity:1; fill:none\" points=\"\n",
       "  30.6037,384.952 596.063,384.952 \n",
       "  \"/>\n",
       "<polyline clip-path=\"url(#clip02)\" style=\"stroke:#00002d; stroke-width:0.8; stroke-opacity:1; fill:none\" points=\"\n",
       "  46.6072,384.952 46.6072,379.237 \n",
       "  \"/>\n",
       "<polyline clip-path=\"url(#clip02)\" style=\"stroke:#00002d; stroke-width:0.8; stroke-opacity:1; fill:none\" points=\"\n",
       "  224.425,384.952 224.425,379.237 \n",
       "  \"/>\n",
       "<polyline clip-path=\"url(#clip02)\" style=\"stroke:#00002d; stroke-width:0.8; stroke-opacity:1; fill:none\" points=\"\n",
       "  402.242,384.952 402.242,379.237 \n",
       "  \"/>\n",
       "<polyline clip-path=\"url(#clip02)\" style=\"stroke:#00002d; stroke-width:0.8; stroke-opacity:1; fill:none\" points=\"\n",
       "  580.059,384.952 580.059,379.237 \n",
       "  \"/>\n",
       "<polyline clip-path=\"url(#clip02)\" style=\"stroke:#00002d; stroke-width:0.8; stroke-opacity:1; fill:none\" points=\"\n",
       "  30.6037,384.952 30.6037,3.93701 \n",
       "  \"/>\n",
       "<polyline clip-path=\"url(#clip02)\" style=\"stroke:#00002d; stroke-width:0.8; stroke-opacity:1; fill:none\" points=\"\n",
       "  30.6037,374.181 39.0856,374.181 \n",
       "  \"/>\n",
       "<polyline clip-path=\"url(#clip02)\" style=\"stroke:#00002d; stroke-width:0.8; stroke-opacity:1; fill:none\" points=\"\n",
       "  30.6037,192.538 39.0856,192.538 \n",
       "  \"/>\n",
       "<polyline clip-path=\"url(#clip02)\" style=\"stroke:#00002d; stroke-width:0.8; stroke-opacity:1; fill:none\" points=\"\n",
       "  30.6037,10.8959 39.0856,10.8959 \n",
       "  \"/>\n",
       "<g clip-path=\"url(#clip00)\">\n",
       "<text style=\"fill:#00002d; fill-opacity:1; font-family:Arial,Helvetica Neue,Helvetica,sans-serif; font-size:12; text-anchor:middle;\" transform=\"rotate(0, 46.6072, 396.952)\" x=\"46.6072\" y=\"396.952\">-1</text>\n",
       "</g>\n",
       "<g clip-path=\"url(#clip00)\">\n",
       "<text style=\"fill:#00002d; fill-opacity:1; font-family:Arial,Helvetica Neue,Helvetica,sans-serif; font-size:12; text-anchor:middle;\" transform=\"rotate(0, 224.425, 396.952)\" x=\"224.425\" y=\"396.952\">0</text>\n",
       "</g>\n",
       "<g clip-path=\"url(#clip00)\">\n",
       "<text style=\"fill:#00002d; fill-opacity:1; font-family:Arial,Helvetica Neue,Helvetica,sans-serif; font-size:12; text-anchor:middle;\" transform=\"rotate(0, 402.242, 396.952)\" x=\"402.242\" y=\"396.952\">1</text>\n",
       "</g>\n",
       "<g clip-path=\"url(#clip00)\">\n",
       "<text style=\"fill:#00002d; fill-opacity:1; font-family:Arial,Helvetica Neue,Helvetica,sans-serif; font-size:12; text-anchor:middle;\" transform=\"rotate(0, 580.059, 396.952)\" x=\"580.059\" y=\"396.952\">2</text>\n",
       "</g>\n",
       "<g clip-path=\"url(#clip00)\">\n",
       "<text style=\"fill:#00002d; fill-opacity:1; font-family:Arial,Helvetica Neue,Helvetica,sans-serif; font-size:12; text-anchor:end;\" transform=\"rotate(0, 29.4037, 378.681)\" x=\"29.4037\" y=\"378.681\">0.0</text>\n",
       "</g>\n",
       "<g clip-path=\"url(#clip00)\">\n",
       "<text style=\"fill:#00002d; fill-opacity:1; font-family:Arial,Helvetica Neue,Helvetica,sans-serif; font-size:12; text-anchor:end;\" transform=\"rotate(0, 29.4037, 197.038)\" x=\"29.4037\" y=\"197.038\">0.5</text>\n",
       "</g>\n",
       "<g clip-path=\"url(#clip00)\">\n",
       "<text style=\"fill:#00002d; fill-opacity:1; font-family:Arial,Helvetica Neue,Helvetica,sans-serif; font-size:12; text-anchor:end;\" transform=\"rotate(0, 29.4037, 15.3959)\" x=\"29.4037\" y=\"15.3959\">1.0</text>\n",
       "</g>\n",
       "<circle clip-path=\"url(#clip02)\" style=\"fill:#00002d; stroke:none; fill-opacity:1\" cx=\"46.6072\" cy=\"62.191\" r=\"3\"/>\n",
       "<circle clip-path=\"url(#clip02)\" style=\"fill:#0099ff; stroke:none; fill-opacity:1\" cx=\"46.6072\" cy=\"62.191\" r=\"2\"/>\n",
       "<circle clip-path=\"url(#clip02)\" style=\"fill:#00002d; stroke:none; fill-opacity:1\" cx=\"51.9956\" cy=\"115.142\" r=\"3\"/>\n",
       "<circle clip-path=\"url(#clip02)\" style=\"fill:#0099ff; stroke:none; fill-opacity:1\" cx=\"51.9956\" cy=\"115.142\" r=\"2\"/>\n",
       "<circle clip-path=\"url(#clip02)\" style=\"fill:#00002d; stroke:none; fill-opacity:1\" cx=\"57.3841\" cy=\"212.175\" r=\"3\"/>\n",
       "<circle clip-path=\"url(#clip02)\" style=\"fill:#0099ff; stroke:none; fill-opacity:1\" cx=\"57.3841\" cy=\"212.175\" r=\"2\"/>\n",
       "<circle clip-path=\"url(#clip02)\" style=\"fill:#00002d; stroke:none; fill-opacity:1\" cx=\"62.7725\" cy=\"31.3536\" r=\"3\"/>\n",
       "<circle clip-path=\"url(#clip02)\" style=\"fill:#0099ff; stroke:none; fill-opacity:1\" cx=\"62.7725\" cy=\"31.3536\" r=\"2\"/>\n",
       "<circle clip-path=\"url(#clip02)\" style=\"fill:#00002d; stroke:none; fill-opacity:1\" cx=\"68.1609\" cy=\"228.292\" r=\"3\"/>\n",
       "<circle clip-path=\"url(#clip02)\" style=\"fill:#0099ff; stroke:none; fill-opacity:1\" cx=\"68.1609\" cy=\"228.292\" r=\"2\"/>\n",
       "<circle clip-path=\"url(#clip02)\" style=\"fill:#00002d; stroke:none; fill-opacity:1\" cx=\"73.5493\" cy=\"325.905\" r=\"3\"/>\n",
       "<circle clip-path=\"url(#clip02)\" style=\"fill:#0099ff; stroke:none; fill-opacity:1\" cx=\"73.5493\" cy=\"325.905\" r=\"2\"/>\n",
       "<circle clip-path=\"url(#clip02)\" style=\"fill:#00002d; stroke:none; fill-opacity:1\" cx=\"78.9377\" cy=\"297.262\" r=\"3\"/>\n",
       "<circle clip-path=\"url(#clip02)\" style=\"fill:#0099ff; stroke:none; fill-opacity:1\" cx=\"78.9377\" cy=\"297.262\" r=\"2\"/>\n",
       "<circle clip-path=\"url(#clip02)\" style=\"fill:#00002d; stroke:none; fill-opacity:1\" cx=\"84.3261\" cy=\"57.1639\" r=\"3\"/>\n",
       "<circle clip-path=\"url(#clip02)\" style=\"fill:#0099ff; stroke:none; fill-opacity:1\" cx=\"84.3261\" cy=\"57.1639\" r=\"2\"/>\n",
       "<circle clip-path=\"url(#clip02)\" style=\"fill:#00002d; stroke:none; fill-opacity:1\" cx=\"89.7145\" cy=\"254.66\" r=\"3\"/>\n",
       "<circle clip-path=\"url(#clip02)\" style=\"fill:#0099ff; stroke:none; fill-opacity:1\" cx=\"89.7145\" cy=\"254.66\" r=\"2\"/>\n",
       "<circle clip-path=\"url(#clip02)\" style=\"fill:#00002d; stroke:none; fill-opacity:1\" cx=\"95.1029\" cy=\"118.406\" r=\"3\"/>\n",
       "<circle clip-path=\"url(#clip02)\" style=\"fill:#0099ff; stroke:none; fill-opacity:1\" cx=\"95.1029\" cy=\"118.406\" r=\"2\"/>\n",
       "<circle clip-path=\"url(#clip02)\" style=\"fill:#00002d; stroke:none; fill-opacity:1\" cx=\"100.491\" cy=\"220.611\" r=\"3\"/>\n",
       "<circle clip-path=\"url(#clip02)\" style=\"fill:#0099ff; stroke:none; fill-opacity:1\" cx=\"100.491\" cy=\"220.611\" r=\"2\"/>\n",
       "<circle clip-path=\"url(#clip02)\" style=\"fill:#00002d; stroke:none; fill-opacity:1\" cx=\"105.88\" cy=\"316.734\" r=\"3\"/>\n",
       "<circle clip-path=\"url(#clip02)\" style=\"fill:#0099ff; stroke:none; fill-opacity:1\" cx=\"105.88\" cy=\"316.734\" r=\"2\"/>\n",
       "<circle clip-path=\"url(#clip02)\" style=\"fill:#00002d; stroke:none; fill-opacity:1\" cx=\"111.268\" cy=\"297.944\" r=\"3\"/>\n",
       "<circle clip-path=\"url(#clip02)\" style=\"fill:#0099ff; stroke:none; fill-opacity:1\" cx=\"111.268\" cy=\"297.944\" r=\"2\"/>\n",
       "<circle clip-path=\"url(#clip02)\" style=\"fill:#00002d; stroke:none; fill-opacity:1\" cx=\"116.657\" cy=\"24.0721\" r=\"3\"/>\n",
       "<circle clip-path=\"url(#clip02)\" style=\"fill:#0099ff; stroke:none; fill-opacity:1\" cx=\"116.657\" cy=\"24.0721\" r=\"2\"/>\n",
       "<circle clip-path=\"url(#clip02)\" style=\"fill:#00002d; stroke:none; fill-opacity:1\" cx=\"122.045\" cy=\"361.577\" r=\"3\"/>\n",
       "<circle clip-path=\"url(#clip02)\" style=\"fill:#0099ff; stroke:none; fill-opacity:1\" cx=\"122.045\" cy=\"361.577\" r=\"2\"/>\n",
       "<circle clip-path=\"url(#clip02)\" style=\"fill:#00002d; stroke:none; fill-opacity:1\" cx=\"127.433\" cy=\"57.3899\" r=\"3\"/>\n",
       "<circle clip-path=\"url(#clip02)\" style=\"fill:#0099ff; stroke:none; fill-opacity:1\" cx=\"127.433\" cy=\"57.3899\" r=\"2\"/>\n",
       "<circle clip-path=\"url(#clip02)\" style=\"fill:#00002d; stroke:none; fill-opacity:1\" cx=\"132.822\" cy=\"269.85\" r=\"3\"/>\n",
       "<circle clip-path=\"url(#clip02)\" style=\"fill:#0099ff; stroke:none; fill-opacity:1\" cx=\"132.822\" cy=\"269.85\" r=\"2\"/>\n",
       "<circle clip-path=\"url(#clip02)\" style=\"fill:#00002d; stroke:none; fill-opacity:1\" cx=\"138.21\" cy=\"225.005\" r=\"3\"/>\n",
       "<circle clip-path=\"url(#clip02)\" style=\"fill:#0099ff; stroke:none; fill-opacity:1\" cx=\"138.21\" cy=\"225.005\" r=\"2\"/>\n",
       "<circle clip-path=\"url(#clip02)\" style=\"fill:#00002d; stroke:none; fill-opacity:1\" cx=\"143.599\" cy=\"22.2399\" r=\"3\"/>\n",
       "<circle clip-path=\"url(#clip02)\" style=\"fill:#0099ff; stroke:none; fill-opacity:1\" cx=\"143.599\" cy=\"22.2399\" r=\"2\"/>\n",
       "<circle clip-path=\"url(#clip02)\" style=\"fill:#00002d; stroke:none; fill-opacity:1\" cx=\"148.987\" cy=\"108.867\" r=\"3\"/>\n",
       "<circle clip-path=\"url(#clip02)\" style=\"fill:#0099ff; stroke:none; fill-opacity:1\" cx=\"148.987\" cy=\"108.867\" r=\"2\"/>\n",
       "<circle clip-path=\"url(#clip02)\" style=\"fill:#00002d; stroke:none; fill-opacity:1\" cx=\"154.375\" cy=\"14.7204\" r=\"3\"/>\n",
       "<circle clip-path=\"url(#clip02)\" style=\"fill:#0099ff; stroke:none; fill-opacity:1\" cx=\"154.375\" cy=\"14.7204\" r=\"2\"/>\n",
       "<circle clip-path=\"url(#clip02)\" style=\"fill:#00002d; stroke:none; fill-opacity:1\" cx=\"159.764\" cy=\"172.683\" r=\"3\"/>\n",
       "<circle clip-path=\"url(#clip02)\" style=\"fill:#0099ff; stroke:none; fill-opacity:1\" cx=\"159.764\" cy=\"172.683\" r=\"2\"/>\n",
       "<circle clip-path=\"url(#clip02)\" style=\"fill:#00002d; stroke:none; fill-opacity:1\" cx=\"165.152\" cy=\"148.33\" r=\"3\"/>\n",
       "<circle clip-path=\"url(#clip02)\" style=\"fill:#0099ff; stroke:none; fill-opacity:1\" cx=\"165.152\" cy=\"148.33\" r=\"2\"/>\n",
       "<circle clip-path=\"url(#clip02)\" style=\"fill:#00002d; stroke:none; fill-opacity:1\" cx=\"170.541\" cy=\"137.069\" r=\"3\"/>\n",
       "<circle clip-path=\"url(#clip02)\" style=\"fill:#0099ff; stroke:none; fill-opacity:1\" cx=\"170.541\" cy=\"137.069\" r=\"2\"/>\n",
       "<circle clip-path=\"url(#clip02)\" style=\"fill:#00002d; stroke:none; fill-opacity:1\" cx=\"175.929\" cy=\"354.103\" r=\"3\"/>\n",
       "<circle clip-path=\"url(#clip02)\" style=\"fill:#0099ff; stroke:none; fill-opacity:1\" cx=\"175.929\" cy=\"354.103\" r=\"2\"/>\n",
       "<circle clip-path=\"url(#clip02)\" style=\"fill:#00002d; stroke:none; fill-opacity:1\" cx=\"181.317\" cy=\"132.141\" r=\"3\"/>\n",
       "<circle clip-path=\"url(#clip02)\" style=\"fill:#0099ff; stroke:none; fill-opacity:1\" cx=\"181.317\" cy=\"132.141\" r=\"2\"/>\n",
       "<circle clip-path=\"url(#clip02)\" style=\"fill:#00002d; stroke:none; fill-opacity:1\" cx=\"186.706\" cy=\"368.731\" r=\"3\"/>\n",
       "<circle clip-path=\"url(#clip02)\" style=\"fill:#0099ff; stroke:none; fill-opacity:1\" cx=\"186.706\" cy=\"368.731\" r=\"2\"/>\n",
       "<circle clip-path=\"url(#clip02)\" style=\"fill:#00002d; stroke:none; fill-opacity:1\" cx=\"192.094\" cy=\"115.025\" r=\"3\"/>\n",
       "<circle clip-path=\"url(#clip02)\" style=\"fill:#0099ff; stroke:none; fill-opacity:1\" cx=\"192.094\" cy=\"115.025\" r=\"2\"/>\n",
       "<circle clip-path=\"url(#clip02)\" style=\"fill:#00002d; stroke:none; fill-opacity:1\" cx=\"197.483\" cy=\"16.312\" r=\"3\"/>\n",
       "<circle clip-path=\"url(#clip02)\" style=\"fill:#0099ff; stroke:none; fill-opacity:1\" cx=\"197.483\" cy=\"16.312\" r=\"2\"/>\n",
       "<circle clip-path=\"url(#clip02)\" style=\"fill:#00002d; stroke:none; fill-opacity:1\" cx=\"202.871\" cy=\"29.9376\" r=\"3\"/>\n",
       "<circle clip-path=\"url(#clip02)\" style=\"fill:#0099ff; stroke:none; fill-opacity:1\" cx=\"202.871\" cy=\"29.9376\" r=\"2\"/>\n",
       "<circle clip-path=\"url(#clip02)\" style=\"fill:#00002d; stroke:none; fill-opacity:1\" cx=\"208.259\" cy=\"136.567\" r=\"3\"/>\n",
       "<circle clip-path=\"url(#clip02)\" style=\"fill:#0099ff; stroke:none; fill-opacity:1\" cx=\"208.259\" cy=\"136.567\" r=\"2\"/>\n",
       "<circle clip-path=\"url(#clip02)\" style=\"fill:#00002d; stroke:none; fill-opacity:1\" cx=\"213.648\" cy=\"101.321\" r=\"3\"/>\n",
       "<circle clip-path=\"url(#clip02)\" style=\"fill:#0099ff; stroke:none; fill-opacity:1\" cx=\"213.648\" cy=\"101.321\" r=\"2\"/>\n",
       "<circle clip-path=\"url(#clip02)\" style=\"fill:#00002d; stroke:none; fill-opacity:1\" cx=\"219.036\" cy=\"374.168\" r=\"3\"/>\n",
       "<circle clip-path=\"url(#clip02)\" style=\"fill:#0099ff; stroke:none; fill-opacity:1\" cx=\"219.036\" cy=\"374.168\" r=\"2\"/>\n",
       "<circle clip-path=\"url(#clip02)\" style=\"fill:#00002d; stroke:none; fill-opacity:1\" cx=\"224.425\" cy=\"336.083\" r=\"3\"/>\n",
       "<circle clip-path=\"url(#clip02)\" style=\"fill:#0099ff; stroke:none; fill-opacity:1\" cx=\"224.425\" cy=\"336.083\" r=\"2\"/>\n",
       "<circle clip-path=\"url(#clip02)\" style=\"fill:#00002d; stroke:none; fill-opacity:1\" cx=\"229.813\" cy=\"99.8928\" r=\"3\"/>\n",
       "<circle clip-path=\"url(#clip02)\" style=\"fill:#0099ff; stroke:none; fill-opacity:1\" cx=\"229.813\" cy=\"99.8928\" r=\"2\"/>\n",
       "<circle clip-path=\"url(#clip02)\" style=\"fill:#00002d; stroke:none; fill-opacity:1\" cx=\"235.201\" cy=\"247.509\" r=\"3\"/>\n",
       "<circle clip-path=\"url(#clip02)\" style=\"fill:#0099ff; stroke:none; fill-opacity:1\" cx=\"235.201\" cy=\"247.509\" r=\"2\"/>\n",
       "<circle clip-path=\"url(#clip02)\" style=\"fill:#00002d; stroke:none; fill-opacity:1\" cx=\"240.59\" cy=\"301.257\" r=\"3\"/>\n",
       "<circle clip-path=\"url(#clip02)\" style=\"fill:#0099ff; stroke:none; fill-opacity:1\" cx=\"240.59\" cy=\"301.257\" r=\"2\"/>\n",
       "<circle clip-path=\"url(#clip02)\" style=\"fill:#00002d; stroke:none; fill-opacity:1\" cx=\"245.978\" cy=\"268.055\" r=\"3\"/>\n",
       "<circle clip-path=\"url(#clip02)\" style=\"fill:#0099ff; stroke:none; fill-opacity:1\" cx=\"245.978\" cy=\"268.055\" r=\"2\"/>\n",
       "<circle clip-path=\"url(#clip02)\" style=\"fill:#00002d; stroke:none; fill-opacity:1\" cx=\"251.367\" cy=\"171.864\" r=\"3\"/>\n",
       "<circle clip-path=\"url(#clip02)\" style=\"fill:#0099ff; stroke:none; fill-opacity:1\" cx=\"251.367\" cy=\"171.864\" r=\"2\"/>\n",
       "<circle clip-path=\"url(#clip02)\" style=\"fill:#00002d; stroke:none; fill-opacity:1\" cx=\"256.755\" cy=\"91.6898\" r=\"3\"/>\n",
       "<circle clip-path=\"url(#clip02)\" style=\"fill:#0099ff; stroke:none; fill-opacity:1\" cx=\"256.755\" cy=\"91.6898\" r=\"2\"/>\n",
       "<circle clip-path=\"url(#clip02)\" style=\"fill:#00002d; stroke:none; fill-opacity:1\" cx=\"262.143\" cy=\"49.4157\" r=\"3\"/>\n",
       "<circle clip-path=\"url(#clip02)\" style=\"fill:#0099ff; stroke:none; fill-opacity:1\" cx=\"262.143\" cy=\"49.4157\" r=\"2\"/>\n",
       "<circle clip-path=\"url(#clip02)\" style=\"fill:#00002d; stroke:none; fill-opacity:1\" cx=\"267.532\" cy=\"58.8426\" r=\"3\"/>\n",
       "<circle clip-path=\"url(#clip02)\" style=\"fill:#0099ff; stroke:none; fill-opacity:1\" cx=\"267.532\" cy=\"58.8426\" r=\"2\"/>\n",
       "<circle clip-path=\"url(#clip02)\" style=\"fill:#00002d; stroke:none; fill-opacity:1\" cx=\"272.92\" cy=\"158.259\" r=\"3\"/>\n",
       "<circle clip-path=\"url(#clip02)\" style=\"fill:#0099ff; stroke:none; fill-opacity:1\" cx=\"272.92\" cy=\"158.259\" r=\"2\"/>\n",
       "<circle clip-path=\"url(#clip02)\" style=\"fill:#00002d; stroke:none; fill-opacity:1\" cx=\"278.309\" cy=\"146.744\" r=\"3\"/>\n",
       "<circle clip-path=\"url(#clip02)\" style=\"fill:#0099ff; stroke:none; fill-opacity:1\" cx=\"278.309\" cy=\"146.744\" r=\"2\"/>\n",
       "<circle clip-path=\"url(#clip02)\" style=\"fill:#00002d; stroke:none; fill-opacity:1\" cx=\"283.697\" cy=\"288.72\" r=\"3\"/>\n",
       "<circle clip-path=\"url(#clip02)\" style=\"fill:#0099ff; stroke:none; fill-opacity:1\" cx=\"283.697\" cy=\"288.72\" r=\"2\"/>\n",
       "<circle clip-path=\"url(#clip02)\" style=\"fill:#00002d; stroke:none; fill-opacity:1\" cx=\"289.086\" cy=\"35.6047\" r=\"3\"/>\n",
       "<circle clip-path=\"url(#clip02)\" style=\"fill:#0099ff; stroke:none; fill-opacity:1\" cx=\"289.086\" cy=\"35.6047\" r=\"2\"/>\n",
       "<circle clip-path=\"url(#clip02)\" style=\"fill:#00002d; stroke:none; fill-opacity:1\" cx=\"294.474\" cy=\"234.609\" r=\"3\"/>\n",
       "<circle clip-path=\"url(#clip02)\" style=\"fill:#0099ff; stroke:none; fill-opacity:1\" cx=\"294.474\" cy=\"234.609\" r=\"2\"/>\n",
       "<circle clip-path=\"url(#clip02)\" style=\"fill:#00002d; stroke:none; fill-opacity:1\" cx=\"299.862\" cy=\"204.603\" r=\"3\"/>\n",
       "<circle clip-path=\"url(#clip02)\" style=\"fill:#0099ff; stroke:none; fill-opacity:1\" cx=\"299.862\" cy=\"204.603\" r=\"2\"/>\n",
       "<circle clip-path=\"url(#clip02)\" style=\"fill:#00002d; stroke:none; fill-opacity:1\" cx=\"305.251\" cy=\"123.591\" r=\"3\"/>\n",
       "<circle clip-path=\"url(#clip02)\" style=\"fill:#0099ff; stroke:none; fill-opacity:1\" cx=\"305.251\" cy=\"123.591\" r=\"2\"/>\n",
       "<circle clip-path=\"url(#clip02)\" style=\"fill:#00002d; stroke:none; fill-opacity:1\" cx=\"310.639\" cy=\"189.88\" r=\"3\"/>\n",
       "<circle clip-path=\"url(#clip02)\" style=\"fill:#0099ff; stroke:none; fill-opacity:1\" cx=\"310.639\" cy=\"189.88\" r=\"2\"/>\n",
       "<circle clip-path=\"url(#clip02)\" style=\"fill:#00002d; stroke:none; fill-opacity:1\" cx=\"316.028\" cy=\"133.399\" r=\"3\"/>\n",
       "<circle clip-path=\"url(#clip02)\" style=\"fill:#0099ff; stroke:none; fill-opacity:1\" cx=\"316.028\" cy=\"133.399\" r=\"2\"/>\n",
       "<circle clip-path=\"url(#clip02)\" style=\"fill:#00002d; stroke:none; fill-opacity:1\" cx=\"321.416\" cy=\"21.0273\" r=\"3\"/>\n",
       "<circle clip-path=\"url(#clip02)\" style=\"fill:#0099ff; stroke:none; fill-opacity:1\" cx=\"321.416\" cy=\"21.0273\" r=\"2\"/>\n",
       "<circle clip-path=\"url(#clip02)\" style=\"fill:#00002d; stroke:none; fill-opacity:1\" cx=\"326.804\" cy=\"315.87\" r=\"3\"/>\n",
       "<circle clip-path=\"url(#clip02)\" style=\"fill:#0099ff; stroke:none; fill-opacity:1\" cx=\"326.804\" cy=\"315.87\" r=\"2\"/>\n",
       "<circle clip-path=\"url(#clip02)\" style=\"fill:#00002d; stroke:none; fill-opacity:1\" cx=\"332.193\" cy=\"334.368\" r=\"3\"/>\n",
       "<circle clip-path=\"url(#clip02)\" style=\"fill:#0099ff; stroke:none; fill-opacity:1\" cx=\"332.193\" cy=\"334.368\" r=\"2\"/>\n",
       "<circle clip-path=\"url(#clip02)\" style=\"fill:#00002d; stroke:none; fill-opacity:1\" cx=\"337.581\" cy=\"136.539\" r=\"3\"/>\n",
       "<circle clip-path=\"url(#clip02)\" style=\"fill:#0099ff; stroke:none; fill-opacity:1\" cx=\"337.581\" cy=\"136.539\" r=\"2\"/>\n",
       "<circle clip-path=\"url(#clip02)\" style=\"fill:#00002d; stroke:none; fill-opacity:1\" cx=\"342.97\" cy=\"194.938\" r=\"3\"/>\n",
       "<circle clip-path=\"url(#clip02)\" style=\"fill:#0099ff; stroke:none; fill-opacity:1\" cx=\"342.97\" cy=\"194.938\" r=\"2\"/>\n",
       "<circle clip-path=\"url(#clip02)\" style=\"fill:#00002d; stroke:none; fill-opacity:1\" cx=\"348.358\" cy=\"54.7673\" r=\"3\"/>\n",
       "<circle clip-path=\"url(#clip02)\" style=\"fill:#0099ff; stroke:none; fill-opacity:1\" cx=\"348.358\" cy=\"54.7673\" r=\"2\"/>\n",
       "<circle clip-path=\"url(#clip02)\" style=\"fill:#00002d; stroke:none; fill-opacity:1\" cx=\"353.746\" cy=\"252.446\" r=\"3\"/>\n",
       "<circle clip-path=\"url(#clip02)\" style=\"fill:#0099ff; stroke:none; fill-opacity:1\" cx=\"353.746\" cy=\"252.446\" r=\"2\"/>\n",
       "<circle clip-path=\"url(#clip02)\" style=\"fill:#00002d; stroke:none; fill-opacity:1\" cx=\"359.135\" cy=\"106.442\" r=\"3\"/>\n",
       "<circle clip-path=\"url(#clip02)\" style=\"fill:#0099ff; stroke:none; fill-opacity:1\" cx=\"359.135\" cy=\"106.442\" r=\"2\"/>\n",
       "<circle clip-path=\"url(#clip02)\" style=\"fill:#00002d; stroke:none; fill-opacity:1\" cx=\"364.523\" cy=\"212.62\" r=\"3\"/>\n",
       "<circle clip-path=\"url(#clip02)\" style=\"fill:#0099ff; stroke:none; fill-opacity:1\" cx=\"364.523\" cy=\"212.62\" r=\"2\"/>\n",
       "<circle clip-path=\"url(#clip02)\" style=\"fill:#00002d; stroke:none; fill-opacity:1\" cx=\"369.912\" cy=\"324.779\" r=\"3\"/>\n",
       "<circle clip-path=\"url(#clip02)\" style=\"fill:#0099ff; stroke:none; fill-opacity:1\" cx=\"369.912\" cy=\"324.779\" r=\"2\"/>\n",
       "<circle clip-path=\"url(#clip02)\" style=\"fill:#00002d; stroke:none; fill-opacity:1\" cx=\"375.3\" cy=\"295.146\" r=\"3\"/>\n",
       "<circle clip-path=\"url(#clip02)\" style=\"fill:#0099ff; stroke:none; fill-opacity:1\" cx=\"375.3\" cy=\"295.146\" r=\"2\"/>\n",
       "<circle clip-path=\"url(#clip02)\" style=\"fill:#00002d; stroke:none; fill-opacity:1\" cx=\"380.688\" cy=\"25.6348\" r=\"3\"/>\n",
       "<circle clip-path=\"url(#clip02)\" style=\"fill:#0099ff; stroke:none; fill-opacity:1\" cx=\"380.688\" cy=\"25.6348\" r=\"2\"/>\n",
       "<circle clip-path=\"url(#clip02)\" style=\"fill:#00002d; stroke:none; fill-opacity:1\" cx=\"386.077\" cy=\"196.529\" r=\"3\"/>\n",
       "<circle clip-path=\"url(#clip02)\" style=\"fill:#0099ff; stroke:none; fill-opacity:1\" cx=\"386.077\" cy=\"196.529\" r=\"2\"/>\n",
       "<circle clip-path=\"url(#clip02)\" style=\"fill:#00002d; stroke:none; fill-opacity:1\" cx=\"391.465\" cy=\"319.582\" r=\"3\"/>\n",
       "<circle clip-path=\"url(#clip02)\" style=\"fill:#0099ff; stroke:none; fill-opacity:1\" cx=\"391.465\" cy=\"319.582\" r=\"2\"/>\n",
       "<circle clip-path=\"url(#clip02)\" style=\"fill:#00002d; stroke:none; fill-opacity:1\" cx=\"396.854\" cy=\"159.928\" r=\"3\"/>\n",
       "<circle clip-path=\"url(#clip02)\" style=\"fill:#0099ff; stroke:none; fill-opacity:1\" cx=\"396.854\" cy=\"159.928\" r=\"2\"/>\n",
       "<circle clip-path=\"url(#clip02)\" style=\"fill:#00002d; stroke:none; fill-opacity:1\" cx=\"402.242\" cy=\"149.815\" r=\"3\"/>\n",
       "<circle clip-path=\"url(#clip02)\" style=\"fill:#0099ff; stroke:none; fill-opacity:1\" cx=\"402.242\" cy=\"149.815\" r=\"2\"/>\n",
       "<circle clip-path=\"url(#clip02)\" style=\"fill:#00002d; stroke:none; fill-opacity:1\" cx=\"407.63\" cy=\"30.7513\" r=\"3\"/>\n",
       "<circle clip-path=\"url(#clip02)\" style=\"fill:#0099ff; stroke:none; fill-opacity:1\" cx=\"407.63\" cy=\"30.7513\" r=\"2\"/>\n",
       "<circle clip-path=\"url(#clip02)\" style=\"fill:#00002d; stroke:none; fill-opacity:1\" cx=\"413.019\" cy=\"169.028\" r=\"3\"/>\n",
       "<circle clip-path=\"url(#clip02)\" style=\"fill:#0099ff; stroke:none; fill-opacity:1\" cx=\"413.019\" cy=\"169.028\" r=\"2\"/>\n",
       "<circle clip-path=\"url(#clip02)\" style=\"fill:#00002d; stroke:none; fill-opacity:1\" cx=\"418.407\" cy=\"144.289\" r=\"3\"/>\n",
       "<circle clip-path=\"url(#clip02)\" style=\"fill:#0099ff; stroke:none; fill-opacity:1\" cx=\"418.407\" cy=\"144.289\" r=\"2\"/>\n",
       "<circle clip-path=\"url(#clip02)\" style=\"fill:#00002d; stroke:none; fill-opacity:1\" cx=\"423.796\" cy=\"246.331\" r=\"3\"/>\n",
       "<circle clip-path=\"url(#clip02)\" style=\"fill:#0099ff; stroke:none; fill-opacity:1\" cx=\"423.796\" cy=\"246.331\" r=\"2\"/>\n",
       "<circle clip-path=\"url(#clip02)\" style=\"fill:#00002d; stroke:none; fill-opacity:1\" cx=\"429.184\" cy=\"244.411\" r=\"3\"/>\n",
       "<circle clip-path=\"url(#clip02)\" style=\"fill:#0099ff; stroke:none; fill-opacity:1\" cx=\"429.184\" cy=\"244.411\" r=\"2\"/>\n",
       "<circle clip-path=\"url(#clip02)\" style=\"fill:#00002d; stroke:none; fill-opacity:1\" cx=\"434.572\" cy=\"278.297\" r=\"3\"/>\n",
       "<circle clip-path=\"url(#clip02)\" style=\"fill:#0099ff; stroke:none; fill-opacity:1\" cx=\"434.572\" cy=\"278.297\" r=\"2\"/>\n",
       "<circle clip-path=\"url(#clip02)\" style=\"fill:#00002d; stroke:none; fill-opacity:1\" cx=\"439.961\" cy=\"63.6356\" r=\"3\"/>\n",
       "<circle clip-path=\"url(#clip02)\" style=\"fill:#0099ff; stroke:none; fill-opacity:1\" cx=\"439.961\" cy=\"63.6356\" r=\"2\"/>\n",
       "<circle clip-path=\"url(#clip02)\" style=\"fill:#00002d; stroke:none; fill-opacity:1\" cx=\"445.349\" cy=\"208.214\" r=\"3\"/>\n",
       "<circle clip-path=\"url(#clip02)\" style=\"fill:#0099ff; stroke:none; fill-opacity:1\" cx=\"445.349\" cy=\"208.214\" r=\"2\"/>\n",
       "<circle clip-path=\"url(#clip02)\" style=\"fill:#00002d; stroke:none; fill-opacity:1\" cx=\"450.738\" cy=\"319.907\" r=\"3\"/>\n",
       "<circle clip-path=\"url(#clip02)\" style=\"fill:#0099ff; stroke:none; fill-opacity:1\" cx=\"450.738\" cy=\"319.907\" r=\"2\"/>\n",
       "<circle clip-path=\"url(#clip02)\" style=\"fill:#00002d; stroke:none; fill-opacity:1\" cx=\"456.126\" cy=\"95.6294\" r=\"3\"/>\n",
       "<circle clip-path=\"url(#clip02)\" style=\"fill:#0099ff; stroke:none; fill-opacity:1\" cx=\"456.126\" cy=\"95.6294\" r=\"2\"/>\n",
       "<circle clip-path=\"url(#clip02)\" style=\"fill:#00002d; stroke:none; fill-opacity:1\" cx=\"461.514\" cy=\"81.0291\" r=\"3\"/>\n",
       "<circle clip-path=\"url(#clip02)\" style=\"fill:#0099ff; stroke:none; fill-opacity:1\" cx=\"461.514\" cy=\"81.0291\" r=\"2\"/>\n",
       "<circle clip-path=\"url(#clip02)\" style=\"fill:#00002d; stroke:none; fill-opacity:1\" cx=\"466.903\" cy=\"154.676\" r=\"3\"/>\n",
       "<circle clip-path=\"url(#clip02)\" style=\"fill:#0099ff; stroke:none; fill-opacity:1\" cx=\"466.903\" cy=\"154.676\" r=\"2\"/>\n",
       "<circle clip-path=\"url(#clip02)\" style=\"fill:#00002d; stroke:none; fill-opacity:1\" cx=\"472.291\" cy=\"132.069\" r=\"3\"/>\n",
       "<circle clip-path=\"url(#clip02)\" style=\"fill:#0099ff; stroke:none; fill-opacity:1\" cx=\"472.291\" cy=\"132.069\" r=\"2\"/>\n",
       "<circle clip-path=\"url(#clip02)\" style=\"fill:#00002d; stroke:none; fill-opacity:1\" cx=\"477.68\" cy=\"161.709\" r=\"3\"/>\n",
       "<circle clip-path=\"url(#clip02)\" style=\"fill:#0099ff; stroke:none; fill-opacity:1\" cx=\"477.68\" cy=\"161.709\" r=\"2\"/>\n",
       "<circle clip-path=\"url(#clip02)\" style=\"fill:#00002d; stroke:none; fill-opacity:1\" cx=\"483.068\" cy=\"22.1591\" r=\"3\"/>\n",
       "<circle clip-path=\"url(#clip02)\" style=\"fill:#0099ff; stroke:none; fill-opacity:1\" cx=\"483.068\" cy=\"22.1591\" r=\"2\"/>\n",
       "<circle clip-path=\"url(#clip02)\" style=\"fill:#00002d; stroke:none; fill-opacity:1\" cx=\"488.457\" cy=\"252.391\" r=\"3\"/>\n",
       "<circle clip-path=\"url(#clip02)\" style=\"fill:#0099ff; stroke:none; fill-opacity:1\" cx=\"488.457\" cy=\"252.391\" r=\"2\"/>\n",
       "<circle clip-path=\"url(#clip02)\" style=\"fill:#00002d; stroke:none; fill-opacity:1\" cx=\"493.845\" cy=\"76.361\" r=\"3\"/>\n",
       "<circle clip-path=\"url(#clip02)\" style=\"fill:#0099ff; stroke:none; fill-opacity:1\" cx=\"493.845\" cy=\"76.361\" r=\"2\"/>\n",
       "<circle clip-path=\"url(#clip02)\" style=\"fill:#00002d; stroke:none; fill-opacity:1\" cx=\"499.233\" cy=\"289.669\" r=\"3\"/>\n",
       "<circle clip-path=\"url(#clip02)\" style=\"fill:#0099ff; stroke:none; fill-opacity:1\" cx=\"499.233\" cy=\"289.669\" r=\"2\"/>\n",
       "<circle clip-path=\"url(#clip02)\" style=\"fill:#00002d; stroke:none; fill-opacity:1\" cx=\"504.622\" cy=\"240.387\" r=\"3\"/>\n",
       "<circle clip-path=\"url(#clip02)\" style=\"fill:#0099ff; stroke:none; fill-opacity:1\" cx=\"504.622\" cy=\"240.387\" r=\"2\"/>\n",
       "<circle clip-path=\"url(#clip02)\" style=\"fill:#00002d; stroke:none; fill-opacity:1\" cx=\"510.01\" cy=\"204.668\" r=\"3\"/>\n",
       "<circle clip-path=\"url(#clip02)\" style=\"fill:#0099ff; stroke:none; fill-opacity:1\" cx=\"510.01\" cy=\"204.668\" r=\"2\"/>\n",
       "<circle clip-path=\"url(#clip02)\" style=\"fill:#00002d; stroke:none; fill-opacity:1\" cx=\"515.399\" cy=\"350.62\" r=\"3\"/>\n",
       "<circle clip-path=\"url(#clip02)\" style=\"fill:#0099ff; stroke:none; fill-opacity:1\" cx=\"515.399\" cy=\"350.62\" r=\"2\"/>\n",
       "<circle clip-path=\"url(#clip02)\" style=\"fill:#00002d; stroke:none; fill-opacity:1\" cx=\"520.787\" cy=\"373.984\" r=\"3\"/>\n",
       "<circle clip-path=\"url(#clip02)\" style=\"fill:#0099ff; stroke:none; fill-opacity:1\" cx=\"520.787\" cy=\"373.984\" r=\"2\"/>\n",
       "<circle clip-path=\"url(#clip02)\" style=\"fill:#00002d; stroke:none; fill-opacity:1\" cx=\"526.175\" cy=\"284.263\" r=\"3\"/>\n",
       "<circle clip-path=\"url(#clip02)\" style=\"fill:#0099ff; stroke:none; fill-opacity:1\" cx=\"526.175\" cy=\"284.263\" r=\"2\"/>\n",
       "<circle clip-path=\"url(#clip02)\" style=\"fill:#00002d; stroke:none; fill-opacity:1\" cx=\"531.564\" cy=\"266.59\" r=\"3\"/>\n",
       "<circle clip-path=\"url(#clip02)\" style=\"fill:#0099ff; stroke:none; fill-opacity:1\" cx=\"531.564\" cy=\"266.59\" r=\"2\"/>\n",
       "<circle clip-path=\"url(#clip02)\" style=\"fill:#00002d; stroke:none; fill-opacity:1\" cx=\"536.952\" cy=\"369.156\" r=\"3\"/>\n",
       "<circle clip-path=\"url(#clip02)\" style=\"fill:#0099ff; stroke:none; fill-opacity:1\" cx=\"536.952\" cy=\"369.156\" r=\"2\"/>\n",
       "<circle clip-path=\"url(#clip02)\" style=\"fill:#00002d; stroke:none; fill-opacity:1\" cx=\"542.341\" cy=\"137.41\" r=\"3\"/>\n",
       "<circle clip-path=\"url(#clip02)\" style=\"fill:#0099ff; stroke:none; fill-opacity:1\" cx=\"542.341\" cy=\"137.41\" r=\"2\"/>\n",
       "<circle clip-path=\"url(#clip02)\" style=\"fill:#00002d; stroke:none; fill-opacity:1\" cx=\"547.729\" cy=\"328.275\" r=\"3\"/>\n",
       "<circle clip-path=\"url(#clip02)\" style=\"fill:#0099ff; stroke:none; fill-opacity:1\" cx=\"547.729\" cy=\"328.275\" r=\"2\"/>\n",
       "<circle clip-path=\"url(#clip02)\" style=\"fill:#00002d; stroke:none; fill-opacity:1\" cx=\"553.117\" cy=\"18.5429\" r=\"3\"/>\n",
       "<circle clip-path=\"url(#clip02)\" style=\"fill:#0099ff; stroke:none; fill-opacity:1\" cx=\"553.117\" cy=\"18.5429\" r=\"2\"/>\n",
       "<circle clip-path=\"url(#clip02)\" style=\"fill:#00002d; stroke:none; fill-opacity:1\" cx=\"558.506\" cy=\"222.485\" r=\"3\"/>\n",
       "<circle clip-path=\"url(#clip02)\" style=\"fill:#0099ff; stroke:none; fill-opacity:1\" cx=\"558.506\" cy=\"222.485\" r=\"2\"/>\n",
       "<circle clip-path=\"url(#clip02)\" style=\"fill:#00002d; stroke:none; fill-opacity:1\" cx=\"563.894\" cy=\"44.5806\" r=\"3\"/>\n",
       "<circle clip-path=\"url(#clip02)\" style=\"fill:#0099ff; stroke:none; fill-opacity:1\" cx=\"563.894\" cy=\"44.5806\" r=\"2\"/>\n",
       "<circle clip-path=\"url(#clip02)\" style=\"fill:#00002d; stroke:none; fill-opacity:1\" cx=\"569.283\" cy=\"152.37\" r=\"3\"/>\n",
       "<circle clip-path=\"url(#clip02)\" style=\"fill:#0099ff; stroke:none; fill-opacity:1\" cx=\"569.283\" cy=\"152.37\" r=\"2\"/>\n",
       "<circle clip-path=\"url(#clip02)\" style=\"fill:#00002d; stroke:none; fill-opacity:1\" cx=\"574.671\" cy=\"146.208\" r=\"3\"/>\n",
       "<circle clip-path=\"url(#clip02)\" style=\"fill:#0099ff; stroke:none; fill-opacity:1\" cx=\"574.671\" cy=\"146.208\" r=\"2\"/>\n",
       "<circle clip-path=\"url(#clip02)\" style=\"fill:#00002d; stroke:none; fill-opacity:1\" cx=\"580.059\" cy=\"53.2305\" r=\"3\"/>\n",
       "<circle clip-path=\"url(#clip02)\" style=\"fill:#0099ff; stroke:none; fill-opacity:1\" cx=\"580.059\" cy=\"53.2305\" r=\"2\"/>\n",
       "<polygon clip-path=\"url(#clip00)\" points=\"\n",
       "505.547,55.057 578.063,55.057 578.063,24.817 505.547,24.817 \n",
       "  \" fill=\"#ffffff\" fill-opacity=\"1\"/>\n",
       "<polyline clip-path=\"url(#clip00)\" style=\"stroke:#00002d; stroke-width:0.8; stroke-opacity:1; fill:none\" points=\"\n",
       "  505.547,55.057 578.063,55.057 578.063,24.817 505.547,24.817 505.547,55.057 \n",
       "  \"/>\n",
       "<circle clip-path=\"url(#clip00)\" style=\"fill:#00002d; stroke:none; fill-opacity:1\" cx=\"517.547\" cy=\"39.937\" r=\"7\"/>\n",
       "<circle clip-path=\"url(#clip00)\" style=\"fill:#0099ff; stroke:none; fill-opacity:1\" cx=\"517.547\" cy=\"39.937\" r=\"7\"/>\n",
       "<circle clip-path=\"url(#clip00)\" style=\"fill:#00002d; stroke:none; fill-opacity:1\" cx=\"541.547\" cy=\"39.937\" r=\"7\"/>\n",
       "<circle clip-path=\"url(#clip00)\" style=\"fill:#0099ff; stroke:none; fill-opacity:1\" cx=\"541.547\" cy=\"39.937\" r=\"7\"/>\n",
       "<g clip-path=\"url(#clip00)\">\n",
       "<text style=\"fill:#00002d; fill-opacity:1; font-family:Arial,Helvetica Neue,Helvetica,sans-serif; font-size:12; text-anchor:start;\" transform=\"rotate(0, 553.547, 44.437)\" x=\"553.547\" y=\"44.437\">y1</text>\n",
       "</g>\n",
       "</svg>\n"
      ]
     },
     "execution_count": 153,
     "metadata": {},
     "output_type": "execute_result"
    }
   ],
   "source": [
    "scatter(x, rand(100))"
   ]
  },
  {
   "cell_type": "code",
   "execution_count": 154,
   "metadata": {
    "collapsed": false
   },
   "outputs": [
    {
     "data": {
      "text/html": [
       "<?xml version=\"1.0\" encoding=\"utf-8\"?>\n",
       "<svg xmlns=\"http://www.w3.org/2000/svg\" xmlns:xlink=\"http://www.w3.org/1999/xlink\" width=\"600\" height=\"400\" viewBox=\"0 0 600 400\">\n",
       "<defs>\n",
       "  <clipPath id=\"clip00\">\n",
       "    <rect x=\"0\" y=\"0\" width=\"600\" height=\"400\"/>\n",
       "  </clipPath>\n",
       "</defs>\n",
       "<polygon clip-path=\"url(#clip00)\" points=\"\n",
       "0,400 600,400 600,0 0,0 \n",
       "  \" fill=\"#ffffff\" fill-opacity=\"1\"/>\n",
       "<defs>\n",
       "  <clipPath id=\"clip01\">\n",
       "    <rect x=\"120\" y=\"0\" width=\"421\" height=\"400\"/>\n",
       "  </clipPath>\n",
       "</defs>\n",
       "<polygon clip-path=\"url(#clip00)\" points=\"\n",
       "21.7148,384.952 596.063,384.952 596.063,3.93701 21.7148,3.93701 \n",
       "  \" fill=\"#ffffff\" fill-opacity=\"1\"/>\n",
       "<defs>\n",
       "  <clipPath id=\"clip02\">\n",
       "    <rect x=\"21\" y=\"3\" width=\"575\" height=\"382\"/>\n",
       "  </clipPath>\n",
       "</defs>\n",
       "<polyline clip-path=\"url(#clip02)\" style=\"stroke:#00002d; stroke-width:0.8; stroke-opacity:0.5; fill:none\" stroke-dasharray=\"1, 2\" points=\"\n",
       "  21.7148,379.237 21.7148,9.65223 \n",
       "  \"/>\n",
       "<polyline clip-path=\"url(#clip02)\" style=\"stroke:#00002d; stroke-width:0.8; stroke-opacity:0.5; fill:none\" stroke-dasharray=\"1, 2\" points=\"\n",
       "  250.241,379.237 250.241,9.65223 \n",
       "  \"/>\n",
       "<polyline clip-path=\"url(#clip02)\" style=\"stroke:#00002d; stroke-width:0.8; stroke-opacity:0.5; fill:none\" stroke-dasharray=\"1, 2\" points=\"\n",
       "  478.767,379.237 478.767,9.65223 \n",
       "  \"/>\n",
       "<polyline clip-path=\"url(#clip02)\" style=\"stroke:#00002d; stroke-width:0.8; stroke-opacity:0.5; fill:none\" stroke-dasharray=\"1, 2\" points=\"\n",
       "  30.33,303.953 587.448,303.953 \n",
       "  \"/>\n",
       "<polyline clip-path=\"url(#clip02)\" style=\"stroke:#00002d; stroke-width:0.8; stroke-opacity:0.5; fill:none\" stroke-dasharray=\"1, 2\" points=\"\n",
       "  30.33,218.558 587.448,218.558 \n",
       "  \"/>\n",
       "<polyline clip-path=\"url(#clip02)\" style=\"stroke:#00002d; stroke-width:0.8; stroke-opacity:0.5; fill:none\" stroke-dasharray=\"1, 2\" points=\"\n",
       "  30.33,133.163 587.448,133.163 \n",
       "  \"/>\n",
       "<polyline clip-path=\"url(#clip02)\" style=\"stroke:#00002d; stroke-width:0.8; stroke-opacity:0.5; fill:none\" stroke-dasharray=\"1, 2\" points=\"\n",
       "  30.33,47.768 587.448,47.768 \n",
       "  \"/>\n",
       "<polyline clip-path=\"url(#clip02)\" style=\"stroke:#00002d; stroke-width:0.8; stroke-opacity:1; fill:none\" points=\"\n",
       "  21.7148,384.952 596.063,384.952 \n",
       "  \"/>\n",
       "<polyline clip-path=\"url(#clip02)\" style=\"stroke:#00002d; stroke-width:0.8; stroke-opacity:1; fill:none\" points=\"\n",
       "  21.7148,384.952 21.7148,379.237 \n",
       "  \"/>\n",
       "<polyline clip-path=\"url(#clip02)\" style=\"stroke:#00002d; stroke-width:0.8; stroke-opacity:1; fill:none\" points=\"\n",
       "  250.241,384.952 250.241,379.237 \n",
       "  \"/>\n",
       "<polyline clip-path=\"url(#clip02)\" style=\"stroke:#00002d; stroke-width:0.8; stroke-opacity:1; fill:none\" points=\"\n",
       "  478.767,384.952 478.767,379.237 \n",
       "  \"/>\n",
       "<polyline clip-path=\"url(#clip02)\" style=\"stroke:#00002d; stroke-width:0.8; stroke-opacity:1; fill:none\" points=\"\n",
       "  21.7148,384.952 21.7148,3.93701 \n",
       "  \"/>\n",
       "<polyline clip-path=\"url(#clip02)\" style=\"stroke:#00002d; stroke-width:0.8; stroke-opacity:1; fill:none\" points=\"\n",
       "  21.7148,303.953 30.33,303.953 \n",
       "  \"/>\n",
       "<polyline clip-path=\"url(#clip02)\" style=\"stroke:#00002d; stroke-width:0.8; stroke-opacity:1; fill:none\" points=\"\n",
       "  21.7148,218.558 30.33,218.558 \n",
       "  \"/>\n",
       "<polyline clip-path=\"url(#clip02)\" style=\"stroke:#00002d; stroke-width:0.8; stroke-opacity:1; fill:none\" points=\"\n",
       "  21.7148,133.163 30.33,133.163 \n",
       "  \"/>\n",
       "<polyline clip-path=\"url(#clip02)\" style=\"stroke:#00002d; stroke-width:0.8; stroke-opacity:1; fill:none\" points=\"\n",
       "  21.7148,47.768 30.33,47.768 \n",
       "  \"/>\n",
       "<g clip-path=\"url(#clip00)\">\n",
       "<text style=\"fill:#00002d; fill-opacity:1; font-family:Arial,Helvetica Neue,Helvetica,sans-serif; font-size:12; text-anchor:middle;\" transform=\"rotate(0, 21.7148, 396.952)\" x=\"21.7148\" y=\"396.952\">0</text>\n",
       "</g>\n",
       "<g clip-path=\"url(#clip00)\">\n",
       "<text style=\"fill:#00002d; fill-opacity:1; font-family:Arial,Helvetica Neue,Helvetica,sans-serif; font-size:12; text-anchor:middle;\" transform=\"rotate(0, 250.241, 396.952)\" x=\"250.241\" y=\"396.952\">5</text>\n",
       "</g>\n",
       "<g clip-path=\"url(#clip00)\">\n",
       "<text style=\"fill:#00002d; fill-opacity:1; font-family:Arial,Helvetica Neue,Helvetica,sans-serif; font-size:12; text-anchor:middle;\" transform=\"rotate(0, 478.767, 396.952)\" x=\"478.767\" y=\"396.952\">10</text>\n",
       "</g>\n",
       "<g clip-path=\"url(#clip00)\">\n",
       "<text style=\"fill:#00002d; fill-opacity:1; font-family:Arial,Helvetica Neue,Helvetica,sans-serif; font-size:12; text-anchor:end;\" transform=\"rotate(0, 20.5148, 308.453)\" x=\"20.5148\" y=\"308.453\">-5</text>\n",
       "</g>\n",
       "<g clip-path=\"url(#clip00)\">\n",
       "<text style=\"fill:#00002d; fill-opacity:1; font-family:Arial,Helvetica Neue,Helvetica,sans-serif; font-size:12; text-anchor:end;\" transform=\"rotate(0, 20.5148, 223.058)\" x=\"20.5148\" y=\"223.058\">0</text>\n",
       "</g>\n",
       "<g clip-path=\"url(#clip00)\">\n",
       "<text style=\"fill:#00002d; fill-opacity:1; font-family:Arial,Helvetica Neue,Helvetica,sans-serif; font-size:12; text-anchor:end;\" transform=\"rotate(0, 20.5148, 137.663)\" x=\"20.5148\" y=\"137.663\">5</text>\n",
       "</g>\n",
       "<g clip-path=\"url(#clip00)\">\n",
       "<text style=\"fill:#00002d; fill-opacity:1; font-family:Arial,Helvetica Neue,Helvetica,sans-serif; font-size:12; text-anchor:end;\" transform=\"rotate(0, 20.5148, 52.268)\" x=\"20.5148\" y=\"52.268\">10</text>\n",
       "</g>\n",
       "<polyline clip-path=\"url(#clip02)\" style=\"stroke:#0099ff; stroke-width:0.8; stroke-opacity:1; fill:none\" points=\"\n",
       "  21.7148,218.558 27.5163,208.104 33.3178,199.849 39.1193,195.46 44.9208,195.677 50.7223,200.144 56.5238,207.52 62.3253,215.836 68.1268,223.005 73.9283,227.358 \n",
       "  79.7298,228.075 85.5313,225.395 91.3328,220.552 97.1342,215.462 102.936,212.228 108.737,212.596 114.539,217.499 120.34,226.8 126.142,239.3 131.943,253.018 \n",
       "  137.745,265.658 143.546,275.162 149.348,280.195 155.149,280.45 160.951,276.699 166.752,270.566 172.554,264.089 178.355,259.184 184.157,257.141 189.958,258.279 \n",
       "  195.76,261.854 201.561,266.242 207.363,269.343 213.164,269.119 218.966,264.111 224.767,253.831 230.569,238.898 236.37,220.914 242.172,202.086 247.973,184.713 \n",
       "  253.775,170.636 259.576,160.828 265.378,155.185 271.179,152.609 276.981,151.328 282.782,149.397 288.584,145.232 294.385,138.063 300.187,128.166 305.988,116.835 \n",
       "  311.79,106.092 317.591,98.2077 323.393,95.1474 329.194,98.0964 334.996,107.168 340.797,121.378 346.599,138.884 352.4,157.438 358.202,174.928 364.003,189.884 \n",
       "  369.805,201.804 375.606,211.241 381.408,219.607 387.209,228.761 393.011,240.475 398.812,255.922 404.614,275.307 410.415,297.749 416.217,321.425 422.018,343.965 \n",
       "  427.82,362.978 433.621,376.59 439.423,383.859 445.224,384.952 451.026,381.063 456.827,374.065 462.629,366.013 468.43,358.599 474.232,352.716 480.033,348.235 \n",
       "  485.835,344.047 491.636,338.362 497.438,329.198 503.239,314.922 509.041,294.715 514.842,268.844 520.644,238.662 526.445,206.351 532.247,174.452 538.048,145.315 \n",
       "  543.85,120.601 549.651,100.957 555.453,85.9494 561.254,74.2667 567.056,64.1435 572.857,53.8918 578.659,42.4082 584.46,29.5251 590.261,16.1179 596.063,3.93701 \n",
       "  \n",
       "  \"/>\n",
       "<polygon clip-path=\"url(#clip00)\" points=\"\n",
       "505.547,55.057 578.063,55.057 578.063,24.817 505.547,24.817 \n",
       "  \" fill=\"#ffffff\" fill-opacity=\"1\"/>\n",
       "<polyline clip-path=\"url(#clip00)\" style=\"stroke:#00002d; stroke-width:0.8; stroke-opacity:1; fill:none\" points=\"\n",
       "  505.547,55.057 578.063,55.057 578.063,24.817 505.547,24.817 505.547,55.057 \n",
       "  \"/>\n",
       "<polyline clip-path=\"url(#clip00)\" style=\"stroke:#0099ff; stroke-width:0.8; stroke-opacity:1; fill:none\" points=\"\n",
       "  511.547,39.937 547.547,39.937 \n",
       "  \"/>\n",
       "<g clip-path=\"url(#clip00)\">\n",
       "<text style=\"fill:#00002d; fill-opacity:1; font-family:Arial,Helvetica Neue,Helvetica,sans-serif; font-size:12; text-anchor:start;\" transform=\"rotate(0, 553.547, 44.437)\" x=\"553.547\" y=\"44.437\">y1</text>\n",
       "</g>\n",
       "</svg>\n"
      ]
     },
     "execution_count": 154,
     "metadata": {},
     "output_type": "execute_result"
    }
   ],
   "source": [
    "#f(x) = sin(x) + cos(x)\n",
    "plot(x->sin(4x) + cos(x)*x, 0, 4pi) # plot(fun, a, b)"
   ]
  },
  {
   "cell_type": "code",
   "execution_count": 155,
   "metadata": {
    "collapsed": false
   },
   "outputs": [
    {
     "data": {
      "text/html": [
       "<?xml version=\"1.0\" encoding=\"utf-8\"?>\n",
       "<svg xmlns=\"http://www.w3.org/2000/svg\" xmlns:xlink=\"http://www.w3.org/1999/xlink\" width=\"600\" height=\"400\" viewBox=\"0 0 600 400\">\n",
       "<defs>\n",
       "  <clipPath id=\"clip00\">\n",
       "    <rect x=\"0\" y=\"0\" width=\"600\" height=\"400\"/>\n",
       "  </clipPath>\n",
       "</defs>\n",
       "<polygon clip-path=\"url(#clip00)\" points=\"\n",
       "0,400 600,400 600,0 0,0 \n",
       "  \" fill=\"#ffffff\" fill-opacity=\"1\"/>\n",
       "<defs>\n",
       "  <clipPath id=\"clip01\">\n",
       "    <rect x=\"120\" y=\"0\" width=\"421\" height=\"400\"/>\n",
       "  </clipPath>\n",
       "</defs>\n",
       "<polygon clip-path=\"url(#clip00)\" points=\"\n",
       "12.8259,384.952 596.063,384.952 596.063,3.93701 12.8259,3.93701 \n",
       "  \" fill=\"#ffffff\" fill-opacity=\"1\"/>\n",
       "<defs>\n",
       "  <clipPath id=\"clip02\">\n",
       "    <rect x=\"12\" y=\"3\" width=\"584\" height=\"382\"/>\n",
       "  </clipPath>\n",
       "</defs>\n",
       "<polyline clip-path=\"url(#clip02)\" style=\"stroke:#00002d; stroke-width:0.8; stroke-opacity:0.5; fill:none\" stroke-dasharray=\"1, 2\" points=\"\n",
       "  12.8259,379.237 12.8259,9.65223 \n",
       "  \"/>\n",
       "<polyline clip-path=\"url(#clip02)\" style=\"stroke:#00002d; stroke-width:0.8; stroke-opacity:0.5; fill:none\" stroke-dasharray=\"1, 2\" points=\"\n",
       "  158.635,379.237 158.635,9.65223 \n",
       "  \"/>\n",
       "<polyline clip-path=\"url(#clip02)\" style=\"stroke:#00002d; stroke-width:0.8; stroke-opacity:0.5; fill:none\" stroke-dasharray=\"1, 2\" points=\"\n",
       "  304.444,379.237 304.444,9.65223 \n",
       "  \"/>\n",
       "<polyline clip-path=\"url(#clip02)\" style=\"stroke:#00002d; stroke-width:0.8; stroke-opacity:0.5; fill:none\" stroke-dasharray=\"1, 2\" points=\"\n",
       "  450.254,379.237 450.254,9.65223 \n",
       "  \"/>\n",
       "<polyline clip-path=\"url(#clip02)\" style=\"stroke:#00002d; stroke-width:0.8; stroke-opacity:0.5; fill:none\" stroke-dasharray=\"1, 2\" points=\"\n",
       "  596.063,379.237 596.063,9.65223 \n",
       "  \"/>\n",
       "<polyline clip-path=\"url(#clip02)\" style=\"stroke:#00002d; stroke-width:0.8; stroke-opacity:0.5; fill:none\" stroke-dasharray=\"1, 2\" points=\"\n",
       "  21.5745,282.481 587.314,282.481 \n",
       "  \"/>\n",
       "<polyline clip-path=\"url(#clip02)\" style=\"stroke:#00002d; stroke-width:0.8; stroke-opacity:0.5; fill:none\" stroke-dasharray=\"1, 2\" points=\"\n",
       "  21.5745,120.375 587.314,120.375 \n",
       "  \"/>\n",
       "<polyline clip-path=\"url(#clip02)\" style=\"stroke:#00002d; stroke-width:0.8; stroke-opacity:1; fill:none\" points=\"\n",
       "  12.8259,384.952 596.063,384.952 \n",
       "  \"/>\n",
       "<polyline clip-path=\"url(#clip02)\" style=\"stroke:#00002d; stroke-width:0.8; stroke-opacity:1; fill:none\" points=\"\n",
       "  12.8259,384.952 12.8259,379.237 \n",
       "  \"/>\n",
       "<polyline clip-path=\"url(#clip02)\" style=\"stroke:#00002d; stroke-width:0.8; stroke-opacity:1; fill:none\" points=\"\n",
       "  158.635,384.952 158.635,379.237 \n",
       "  \"/>\n",
       "<polyline clip-path=\"url(#clip02)\" style=\"stroke:#00002d; stroke-width:0.8; stroke-opacity:1; fill:none\" points=\"\n",
       "  304.444,384.952 304.444,379.237 \n",
       "  \"/>\n",
       "<polyline clip-path=\"url(#clip02)\" style=\"stroke:#00002d; stroke-width:0.8; stroke-opacity:1; fill:none\" points=\"\n",
       "  450.254,384.952 450.254,379.237 \n",
       "  \"/>\n",
       "<polyline clip-path=\"url(#clip02)\" style=\"stroke:#00002d; stroke-width:0.8; stroke-opacity:1; fill:none\" points=\"\n",
       "  596.063,384.952 596.063,379.237 \n",
       "  \"/>\n",
       "<polyline clip-path=\"url(#clip02)\" style=\"stroke:#00002d; stroke-width:0.8; stroke-opacity:1; fill:none\" points=\"\n",
       "  12.8259,384.952 12.8259,3.93701 \n",
       "  \"/>\n",
       "<polyline clip-path=\"url(#clip02)\" style=\"stroke:#00002d; stroke-width:0.8; stroke-opacity:1; fill:none\" points=\"\n",
       "  12.8259,282.481 21.5745,282.481 \n",
       "  \"/>\n",
       "<polyline clip-path=\"url(#clip02)\" style=\"stroke:#00002d; stroke-width:0.8; stroke-opacity:1; fill:none\" points=\"\n",
       "  12.8259,120.375 21.5745,120.375 \n",
       "  \"/>\n",
       "<g clip-path=\"url(#clip00)\">\n",
       "<text style=\"fill:#00002d; fill-opacity:1; font-family:Arial,Helvetica Neue,Helvetica,sans-serif; font-size:12; text-anchor:middle;\" transform=\"rotate(0, 12.8259, 396.952)\" x=\"12.8259\" y=\"396.952\">-1.0</text>\n",
       "</g>\n",
       "<g clip-path=\"url(#clip00)\">\n",
       "<text style=\"fill:#00002d; fill-opacity:1; font-family:Arial,Helvetica Neue,Helvetica,sans-serif; font-size:12; text-anchor:middle;\" transform=\"rotate(0, 158.635, 396.952)\" x=\"158.635\" y=\"396.952\">-0.5</text>\n",
       "</g>\n",
       "<g clip-path=\"url(#clip00)\">\n",
       "<text style=\"fill:#00002d; fill-opacity:1; font-family:Arial,Helvetica Neue,Helvetica,sans-serif; font-size:12; text-anchor:middle;\" transform=\"rotate(0, 304.444, 396.952)\" x=\"304.444\" y=\"396.952\">0.0</text>\n",
       "</g>\n",
       "<g clip-path=\"url(#clip00)\">\n",
       "<text style=\"fill:#00002d; fill-opacity:1; font-family:Arial,Helvetica Neue,Helvetica,sans-serif; font-size:12; text-anchor:middle;\" transform=\"rotate(0, 450.254, 396.952)\" x=\"450.254\" y=\"396.952\">0.5</text>\n",
       "</g>\n",
       "<g clip-path=\"url(#clip00)\">\n",
       "<text style=\"fill:#00002d; fill-opacity:1; font-family:Arial,Helvetica Neue,Helvetica,sans-serif; font-size:12; text-anchor:middle;\" transform=\"rotate(0, 596.063, 396.952)\" x=\"596.063\" y=\"396.952\">1.0</text>\n",
       "</g>\n",
       "<g clip-path=\"url(#clip00)\">\n",
       "<text style=\"fill:#00002d; fill-opacity:1; font-family:Arial,Helvetica Neue,Helvetica,sans-serif; font-size:12; text-anchor:end;\" transform=\"rotate(0, 11.6259, 286.981)\" x=\"11.6259\" y=\"286.981\">1</text>\n",
       "</g>\n",
       "<g clip-path=\"url(#clip00)\">\n",
       "<text style=\"fill:#00002d; fill-opacity:1; font-family:Arial,Helvetica Neue,Helvetica,sans-serif; font-size:12; text-anchor:end;\" transform=\"rotate(0, 11.6259, 124.875)\" x=\"11.6259\" y=\"124.875\">2</text>\n",
       "</g>\n",
       "<polyline clip-path=\"url(#clip02)\" style=\"stroke:#0099ff; stroke-width:0.8; stroke-opacity:1; fill:none\" points=\"\n",
       "  12.8259,384.952 18.7172,383.735 24.6085,382.493 30.4997,381.226 36.391,379.933 42.2823,378.613 48.1736,377.267 54.0649,375.893 59.9562,374.491 65.8475,373.061 \n",
       "  71.7387,371.601 77.63,370.112 83.5213,368.592 89.4126,367.041 95.3039,365.458 101.195,363.844 107.086,362.196 112.978,360.514 118.869,358.799 124.76,357.048 \n",
       "  130.652,355.261 136.543,353.439 142.434,351.578 148.325,349.68 154.217,347.744 160.108,345.767 165.999,343.751 171.891,341.693 177.782,339.593 183.673,337.45 \n",
       "  189.564,335.264 195.456,333.033 201.347,330.756 207.238,328.433 213.13,326.063 219.021,323.644 224.912,321.176 230.803,318.657 236.695,316.087 242.586,313.465 \n",
       "  248.477,310.789 254.369,308.059 260.26,305.273 266.151,302.429 272.042,299.528 277.934,296.568 283.825,293.547 289.716,290.465 295.608,287.32 301.499,284.11 \n",
       "  307.39,280.835 313.281,277.494 319.173,274.084 325.064,270.604 330.955,267.054 336.847,263.431 342.738,259.734 348.629,255.961 354.52,252.112 360.412,248.184 \n",
       "  366.303,244.176 372.194,240.086 378.085,235.913 383.977,231.654 389.868,227.309 395.759,222.875 401.651,218.35 407.542,213.733 413.433,209.022 419.324,204.215 \n",
       "  425.216,199.309 431.107,194.304 436.998,189.196 442.89,183.984 448.781,178.666 454.672,173.239 460.563,167.702 466.455,162.051 472.346,156.285 478.237,150.402 \n",
       "  484.129,144.398 490.02,138.272 495.911,132.021 501.802,125.642 507.694,119.133 513.585,112.492 519.476,105.714 525.368,98.7988 531.259,91.7422 537.15,84.5415 \n",
       "  543.041,77.1939 548.933,69.6963 554.824,62.0457 560.715,54.239 566.607,46.273 572.498,38.1444 578.389,29.8499 584.28,21.3862 590.172,12.7497 596.063,3.93701 \n",
       "  \n",
       "  \"/>\n",
       "<polygon clip-path=\"url(#clip00)\" points=\"\n",
       "505.547,55.057 578.063,55.057 578.063,24.817 505.547,24.817 \n",
       "  \" fill=\"#ffffff\" fill-opacity=\"1\"/>\n",
       "<polyline clip-path=\"url(#clip00)\" style=\"stroke:#00002d; stroke-width:0.8; stroke-opacity:1; fill:none\" points=\"\n",
       "  505.547,55.057 578.063,55.057 578.063,24.817 505.547,24.817 505.547,55.057 \n",
       "  \"/>\n",
       "<polyline clip-path=\"url(#clip00)\" style=\"stroke:#0099ff; stroke-width:0.8; stroke-opacity:1; fill:none\" points=\"\n",
       "  511.547,39.937 547.547,39.937 \n",
       "  \"/>\n",
       "<g clip-path=\"url(#clip00)\">\n",
       "<text style=\"fill:#00002d; fill-opacity:1; font-family:Arial,Helvetica Neue,Helvetica,sans-serif; font-size:12; text-anchor:start;\" transform=\"rotate(0, 553.547, 44.437)\" x=\"553.547\" y=\"44.437\">y1</text>\n",
       "</g>\n",
       "</svg>\n"
      ]
     },
     "execution_count": 155,
     "metadata": {},
     "output_type": "execute_result"
    }
   ],
   "source": [
    "plot(x->exp(x), -1, 1)"
   ]
  },
  {
   "cell_type": "code",
   "execution_count": 156,
   "metadata": {
    "collapsed": false
   },
   "outputs": [
    {
     "data": {
      "text/html": [
       "<?xml version=\"1.0\" encoding=\"utf-8\"?>\n",
       "<svg xmlns=\"http://www.w3.org/2000/svg\" xmlns:xlink=\"http://www.w3.org/1999/xlink\" width=\"600\" height=\"400\" viewBox=\"0 0 600 400\">\n",
       "<defs>\n",
       "  <clipPath id=\"clip00\">\n",
       "    <rect x=\"0\" y=\"0\" width=\"600\" height=\"400\"/>\n",
       "  </clipPath>\n",
       "</defs>\n",
       "<polygon clip-path=\"url(#clip00)\" points=\"\n",
       "0,400 600,400 600,0 0,0 \n",
       "  \" fill=\"#ffffff\" fill-opacity=\"1\"/>\n",
       "<defs>\n",
       "  <clipPath id=\"clip01\">\n",
       "    <rect x=\"120\" y=\"0\" width=\"421\" height=\"400\"/>\n",
       "  </clipPath>\n",
       "</defs>\n",
       "<polygon clip-path=\"url(#clip00)\" points=\"\n",
       "30.6037,384.952 596.063,384.952 596.063,3.93701 30.6037,3.93701 \n",
       "  \" fill=\"#ffffff\" fill-opacity=\"1\"/>\n",
       "<defs>\n",
       "  <clipPath id=\"clip02\">\n",
       "    <rect x=\"30\" y=\"3\" width=\"566\" height=\"382\"/>\n",
       "  </clipPath>\n",
       "</defs>\n",
       "<polyline clip-path=\"url(#clip02)\" style=\"stroke:#00002d; stroke-width:0.8; stroke-opacity:0.5; fill:none\" stroke-dasharray=\"1, 2\" points=\"\n",
       "  30.6037,379.237 30.6037,9.65223 \n",
       "  \"/>\n",
       "<polyline clip-path=\"url(#clip02)\" style=\"stroke:#00002d; stroke-width:0.8; stroke-opacity:0.5; fill:none\" stroke-dasharray=\"1, 2\" points=\"\n",
       "  171.969,379.237 171.969,9.65223 \n",
       "  \"/>\n",
       "<polyline clip-path=\"url(#clip02)\" style=\"stroke:#00002d; stroke-width:0.8; stroke-opacity:0.5; fill:none\" stroke-dasharray=\"1, 2\" points=\"\n",
       "  313.333,379.237 313.333,9.65223 \n",
       "  \"/>\n",
       "<polyline clip-path=\"url(#clip02)\" style=\"stroke:#00002d; stroke-width:0.8; stroke-opacity:0.5; fill:none\" stroke-dasharray=\"1, 2\" points=\"\n",
       "  454.698,379.237 454.698,9.65223 \n",
       "  \"/>\n",
       "<polyline clip-path=\"url(#clip02)\" style=\"stroke:#00002d; stroke-width:0.8; stroke-opacity:0.5; fill:none\" stroke-dasharray=\"1, 2\" points=\"\n",
       "  596.063,379.237 596.063,9.65223 \n",
       "  \"/>\n",
       "<polyline clip-path=\"url(#clip02)\" style=\"stroke:#00002d; stroke-width:0.8; stroke-opacity:0.5; fill:none\" stroke-dasharray=\"1, 2\" points=\"\n",
       "  39.0856,280.628 587.581,280.628 \n",
       "  \"/>\n",
       "<polyline clip-path=\"url(#clip02)\" style=\"stroke:#00002d; stroke-width:0.8; stroke-opacity:0.5; fill:none\" stroke-dasharray=\"1, 2\" points=\"\n",
       "  39.0856,158.303 587.581,158.303 \n",
       "  \"/>\n",
       "<polyline clip-path=\"url(#clip02)\" style=\"stroke:#00002d; stroke-width:0.8; stroke-opacity:0.5; fill:none\" stroke-dasharray=\"1, 2\" points=\"\n",
       "  39.0856,35.9785 587.581,35.9785 \n",
       "  \"/>\n",
       "<polyline clip-path=\"url(#clip02)\" style=\"stroke:#00002d; stroke-width:0.8; stroke-opacity:1; fill:none\" points=\"\n",
       "  30.6037,384.952 596.063,384.952 \n",
       "  \"/>\n",
       "<polyline clip-path=\"url(#clip02)\" style=\"stroke:#00002d; stroke-width:0.8; stroke-opacity:1; fill:none\" points=\"\n",
       "  30.6037,384.952 30.6037,379.237 \n",
       "  \"/>\n",
       "<polyline clip-path=\"url(#clip02)\" style=\"stroke:#00002d; stroke-width:0.8; stroke-opacity:1; fill:none\" points=\"\n",
       "  171.969,384.952 171.969,379.237 \n",
       "  \"/>\n",
       "<polyline clip-path=\"url(#clip02)\" style=\"stroke:#00002d; stroke-width:0.8; stroke-opacity:1; fill:none\" points=\"\n",
       "  313.333,384.952 313.333,379.237 \n",
       "  \"/>\n",
       "<polyline clip-path=\"url(#clip02)\" style=\"stroke:#00002d; stroke-width:0.8; stroke-opacity:1; fill:none\" points=\"\n",
       "  454.698,384.952 454.698,379.237 \n",
       "  \"/>\n",
       "<polyline clip-path=\"url(#clip02)\" style=\"stroke:#00002d; stroke-width:0.8; stroke-opacity:1; fill:none\" points=\"\n",
       "  596.063,384.952 596.063,379.237 \n",
       "  \"/>\n",
       "<polyline clip-path=\"url(#clip02)\" style=\"stroke:#00002d; stroke-width:0.8; stroke-opacity:1; fill:none\" points=\"\n",
       "  30.6037,384.952 30.6037,3.93701 \n",
       "  \"/>\n",
       "<polyline clip-path=\"url(#clip02)\" style=\"stroke:#00002d; stroke-width:0.8; stroke-opacity:1; fill:none\" points=\"\n",
       "  30.6037,280.628 39.0856,280.628 \n",
       "  \"/>\n",
       "<polyline clip-path=\"url(#clip02)\" style=\"stroke:#00002d; stroke-width:0.8; stroke-opacity:1; fill:none\" points=\"\n",
       "  30.6037,158.303 39.0856,158.303 \n",
       "  \"/>\n",
       "<polyline clip-path=\"url(#clip02)\" style=\"stroke:#00002d; stroke-width:0.8; stroke-opacity:1; fill:none\" points=\"\n",
       "  30.6037,35.9785 39.0856,35.9785 \n",
       "  \"/>\n",
       "<g clip-path=\"url(#clip00)\">\n",
       "<text style=\"fill:#00002d; fill-opacity:1; font-family:Arial,Helvetica Neue,Helvetica,sans-serif; font-size:12; text-anchor:middle;\" transform=\"rotate(0, 30.6037, 396.952)\" x=\"30.6037\" y=\"396.952\">-1.0</text>\n",
       "</g>\n",
       "<g clip-path=\"url(#clip00)\">\n",
       "<text style=\"fill:#00002d; fill-opacity:1; font-family:Arial,Helvetica Neue,Helvetica,sans-serif; font-size:12; text-anchor:middle;\" transform=\"rotate(0, 171.969, 396.952)\" x=\"171.969\" y=\"396.952\">-0.5</text>\n",
       "</g>\n",
       "<g clip-path=\"url(#clip00)\">\n",
       "<text style=\"fill:#00002d; fill-opacity:1; font-family:Arial,Helvetica Neue,Helvetica,sans-serif; font-size:12; text-anchor:middle;\" transform=\"rotate(0, 313.333, 396.952)\" x=\"313.333\" y=\"396.952\">0.0</text>\n",
       "</g>\n",
       "<g clip-path=\"url(#clip00)\">\n",
       "<text style=\"fill:#00002d; fill-opacity:1; font-family:Arial,Helvetica Neue,Helvetica,sans-serif; font-size:12; text-anchor:middle;\" transform=\"rotate(0, 454.698, 396.952)\" x=\"454.698\" y=\"396.952\">0.5</text>\n",
       "</g>\n",
       "<g clip-path=\"url(#clip00)\">\n",
       "<text style=\"fill:#00002d; fill-opacity:1; font-family:Arial,Helvetica Neue,Helvetica,sans-serif; font-size:12; text-anchor:middle;\" transform=\"rotate(0, 596.063, 396.952)\" x=\"596.063\" y=\"396.952\">1.0</text>\n",
       "</g>\n",
       "<g clip-path=\"url(#clip00)\">\n",
       "<text style=\"fill:#00002d; fill-opacity:1; font-family:Arial,Helvetica Neue,Helvetica,sans-serif; font-size:12; text-anchor:end;\" transform=\"rotate(0, 29.4037, 285.128)\" x=\"29.4037\" y=\"285.128\">2.5</text>\n",
       "</g>\n",
       "<g clip-path=\"url(#clip00)\">\n",
       "<text style=\"fill:#00002d; fill-opacity:1; font-family:Arial,Helvetica Neue,Helvetica,sans-serif; font-size:12; text-anchor:end;\" transform=\"rotate(0, 29.4037, 162.803)\" x=\"29.4037\" y=\"162.803\">5.0</text>\n",
       "</g>\n",
       "<g clip-path=\"url(#clip00)\">\n",
       "<text style=\"fill:#00002d; fill-opacity:1; font-family:Arial,Helvetica Neue,Helvetica,sans-serif; font-size:12; text-anchor:end;\" transform=\"rotate(0, 29.4037, 40.4785)\" x=\"29.4037\" y=\"40.4785\">7.5</text>\n",
       "</g>\n",
       "<polyline clip-path=\"url(#clip02)\" style=\"stroke:#0099ff; stroke-width:0.8; stroke-opacity:1; fill:none\" points=\"\n",
       "  30.6037,384.952 36.3154,384.585 42.0271,384.21 47.7388,383.827 53.4505,383.437 59.1622,383.039 64.8739,382.632 70.5856,382.218 76.2974,381.794 82.0091,381.363 \n",
       "  87.7208,380.922 93.4325,380.473 99.1442,380.014 104.856,379.546 110.568,379.068 116.279,378.581 121.991,378.083 127.703,377.576 133.414,377.058 139.126,376.529 \n",
       "  144.838,375.99 150.55,375.44 156.261,374.879 161.973,374.306 167.685,373.721 173.396,373.124 179.108,372.516 184.82,371.895 190.532,371.261 196.243,370.614 \n",
       "  201.955,369.954 207.667,369.281 213.378,368.594 219.09,367.892 224.802,367.177 230.514,366.447 236.225,365.702 241.937,364.942 247.649,364.166 253.36,363.374 \n",
       "  259.072,362.567 264.784,361.743 270.496,360.902 276.207,360.043 281.919,359.168 287.631,358.274 293.342,357.363 299.054,356.432 304.766,355.483 310.477,354.514 \n",
       "  316.189,353.526 321.901,352.517 327.613,351.488 333.324,350.437 339.036,349.366 344.748,348.272 350.459,347.156 356.171,346.018 361.883,344.856 367.595,343.67 \n",
       "  373.306,342.46 379.018,341.226 384.73,339.966 390.441,338.681 396.153,337.369 401.865,336.031 407.577,334.665 413.288,333.272 419,331.85 424.712,330.398 \n",
       "  430.423,328.918 436.135,327.407 441.847,325.865 447.559,324.292 453.27,322.687 458.982,321.049 464.694,319.377 470.405,317.672 476.117,315.932 481.829,314.156 \n",
       "  487.54,312.344 493.252,310.495 498.964,308.608 504.676,306.682 510.387,304.718 516.099,302.713 521.811,300.667 527.522,298.58 533.234,296.45 538.946,294.277 \n",
       "  544.658,292.059 550.369,289.796 556.081,287.487 561.793,285.13 567.504,282.726 573.216,280.272 578.928,277.769 584.64,275.214 590.351,272.607 596.063,269.947 \n",
       "  \n",
       "  \"/>\n",
       "<polyline clip-path=\"url(#clip02)\" style=\"stroke:#e9746a; stroke-width:0.8; stroke-opacity:1; fill:none\" points=\"\n",
       "  30.6037,3.93701 36.3154,11.917 42.0271,19.7375 47.7388,27.4015 53.4505,34.9123 59.1622,42.2728 64.8739,49.4862 70.5856,56.5553 76.2974,63.483 82.0091,70.2721 \n",
       "  87.7208,76.9255 93.4325,83.4458 99.1442,89.8357 104.856,96.0978 110.568,102.235 116.279,108.249 121.991,114.143 127.703,119.919 133.414,125.579 139.126,131.126 \n",
       "  144.838,136.563 150.55,141.89 156.261,147.111 161.973,152.228 167.685,157.242 173.396,162.156 179.108,166.972 184.82,171.692 190.532,176.317 196.243,180.849 \n",
       "  201.955,185.291 207.667,189.644 213.378,193.91 219.09,198.091 224.802,202.188 230.514,206.203 236.225,210.138 241.937,213.994 247.649,217.773 253.36,221.477 \n",
       "  259.072,225.106 264.784,228.663 270.496,232.149 276.207,235.564 281.919,238.912 287.631,242.193 293.342,245.408 299.054,248.559 304.766,251.646 310.477,254.672 \n",
       "  316.189,257.638 321.901,260.544 327.613,263.392 333.324,266.183 339.036,268.919 344.748,271.599 350.459,274.226 356.171,276.801 361.883,279.324 367.595,281.796 \n",
       "  373.306,284.219 379.018,286.594 384.73,288.921 390.441,291.201 396.153,293.436 401.865,295.626 407.577,297.773 413.288,299.876 419,301.938 424.712,303.958 \n",
       "  430.423,305.938 436.135,307.878 441.847,309.78 447.559,311.643 453.27,313.469 458.982,315.259 464.694,317.012 470.405,318.731 476.117,320.416 481.829,322.066 \n",
       "  487.54,323.684 493.252,325.269 498.964,326.823 504.676,328.345 510.387,329.837 516.099,331.3 521.811,332.733 527.522,334.137 533.234,335.513 538.946,336.862 \n",
       "  544.658,338.184 550.369,339.479 556.081,340.749 561.793,341.993 567.504,343.212 573.216,344.406 578.928,345.577 584.64,346.725 590.351,347.849 596.063,348.951 \n",
       "  \n",
       "  \"/>\n",
       "<polygon clip-path=\"url(#clip00)\" points=\"\n",
       "505.547,70.177 578.063,70.177 578.063,24.817 505.547,24.817 \n",
       "  \" fill=\"#ffffff\" fill-opacity=\"1\"/>\n",
       "<polyline clip-path=\"url(#clip00)\" style=\"stroke:#00002d; stroke-width:0.8; stroke-opacity:1; fill:none\" points=\"\n",
       "  505.547,70.177 578.063,70.177 578.063,24.817 505.547,24.817 505.547,70.177 \n",
       "  \"/>\n",
       "<polyline clip-path=\"url(#clip00)\" style=\"stroke:#0099ff; stroke-width:0.8; stroke-opacity:1; fill:none\" points=\"\n",
       "  511.547,39.937 547.547,39.937 \n",
       "  \"/>\n",
       "<g clip-path=\"url(#clip00)\">\n",
       "<text style=\"fill:#00002d; fill-opacity:1; font-family:Arial,Helvetica Neue,Helvetica,sans-serif; font-size:12; text-anchor:start;\" transform=\"rotate(0, 553.547, 44.437)\" x=\"553.547\" y=\"44.437\">y1</text>\n",
       "</g>\n",
       "<polyline clip-path=\"url(#clip00)\" style=\"stroke:#e9746a; stroke-width:0.8; stroke-opacity:1; fill:none\" points=\"\n",
       "  511.547,55.057 547.547,55.057 \n",
       "  \"/>\n",
       "<g clip-path=\"url(#clip00)\">\n",
       "<text style=\"fill:#00002d; fill-opacity:1; font-family:Arial,Helvetica Neue,Helvetica,sans-serif; font-size:12; text-anchor:start;\" transform=\"rotate(0, 553.547, 59.557)\" x=\"553.547\" y=\"59.557\">y2</text>\n",
       "</g>\n",
       "</svg>\n"
      ]
     },
     "execution_count": 156,
     "metadata": {},
     "output_type": "execute_result"
    }
   ],
   "source": [
    "plot!(x->exp(-x)*3, -1, 1)"
   ]
  },
  {
   "cell_type": "code",
   "execution_count": 159,
   "metadata": {
    "collapsed": false
   },
   "outputs": [
    {
     "data": {
      "text/html": [
       "<?xml version=\"1.0\" encoding=\"utf-8\"?>\n",
       "<svg xmlns=\"http://www.w3.org/2000/svg\" xmlns:xlink=\"http://www.w3.org/1999/xlink\" width=\"600\" height=\"400\" viewBox=\"0 0 600 400\">\n",
       "<defs>\n",
       "  <clipPath id=\"clip00\">\n",
       "    <rect x=\"0\" y=\"0\" width=\"600\" height=\"400\"/>\n",
       "  </clipPath>\n",
       "</defs>\n",
       "<polygon clip-path=\"url(#clip00)\" points=\"\n",
       "0,400 600,400 600,0 0,0 \n",
       "  \" fill=\"#ffffff\" fill-opacity=\"1\"/>\n",
       "<defs>\n",
       "  <clipPath id=\"clip01\">\n",
       "    <rect x=\"120\" y=\"0\" width=\"421\" height=\"400\"/>\n",
       "  </clipPath>\n",
       "</defs>\n",
       "<polygon clip-path=\"url(#clip00)\" points=\"\n",
       "12.8259,384.952 596.063,384.952 596.063,3.93701 12.8259,3.93701 \n",
       "  \" fill=\"#ffffff\" fill-opacity=\"1\"/>\n",
       "<defs>\n",
       "  <clipPath id=\"clip02\">\n",
       "    <rect x=\"12\" y=\"3\" width=\"584\" height=\"382\"/>\n",
       "  </clipPath>\n",
       "</defs>\n",
       "<polyline clip-path=\"url(#clip02)\" style=\"stroke:#00002d; stroke-width:0.8; stroke-opacity:0.5; fill:none\" stroke-dasharray=\"1, 2\" points=\"\n",
       "  12.8259,379.237 12.8259,9.65223 \n",
       "  \"/>\n",
       "<polyline clip-path=\"url(#clip02)\" style=\"stroke:#00002d; stroke-width:0.8; stroke-opacity:0.5; fill:none\" stroke-dasharray=\"1, 2\" points=\"\n",
       "  158.635,379.237 158.635,9.65223 \n",
       "  \"/>\n",
       "<polyline clip-path=\"url(#clip02)\" style=\"stroke:#00002d; stroke-width:0.8; stroke-opacity:0.5; fill:none\" stroke-dasharray=\"1, 2\" points=\"\n",
       "  304.444,379.237 304.444,9.65223 \n",
       "  \"/>\n",
       "<polyline clip-path=\"url(#clip02)\" style=\"stroke:#00002d; stroke-width:0.8; stroke-opacity:0.5; fill:none\" stroke-dasharray=\"1, 2\" points=\"\n",
       "  450.254,379.237 450.254,9.65223 \n",
       "  \"/>\n",
       "<polyline clip-path=\"url(#clip02)\" style=\"stroke:#00002d; stroke-width:0.8; stroke-opacity:0.5; fill:none\" stroke-dasharray=\"1, 2\" points=\"\n",
       "  596.063,379.237 596.063,9.65223 \n",
       "  \"/>\n",
       "<polyline clip-path=\"url(#clip02)\" style=\"stroke:#00002d; stroke-width:0.8; stroke-opacity:0.5; fill:none\" stroke-dasharray=\"1, 2\" points=\"\n",
       "  21.5745,282.481 587.314,282.481 \n",
       "  \"/>\n",
       "<polyline clip-path=\"url(#clip02)\" style=\"stroke:#00002d; stroke-width:0.8; stroke-opacity:0.5; fill:none\" stroke-dasharray=\"1, 2\" points=\"\n",
       "  21.5745,120.375 587.314,120.375 \n",
       "  \"/>\n",
       "<polyline clip-path=\"url(#clip02)\" style=\"stroke:#00002d; stroke-width:0.8; stroke-opacity:1; fill:none\" points=\"\n",
       "  12.8259,384.952 596.063,384.952 \n",
       "  \"/>\n",
       "<polyline clip-path=\"url(#clip02)\" style=\"stroke:#00002d; stroke-width:0.8; stroke-opacity:1; fill:none\" points=\"\n",
       "  12.8259,384.952 12.8259,379.237 \n",
       "  \"/>\n",
       "<polyline clip-path=\"url(#clip02)\" style=\"stroke:#00002d; stroke-width:0.8; stroke-opacity:1; fill:none\" points=\"\n",
       "  158.635,384.952 158.635,379.237 \n",
       "  \"/>\n",
       "<polyline clip-path=\"url(#clip02)\" style=\"stroke:#00002d; stroke-width:0.8; stroke-opacity:1; fill:none\" points=\"\n",
       "  304.444,384.952 304.444,379.237 \n",
       "  \"/>\n",
       "<polyline clip-path=\"url(#clip02)\" style=\"stroke:#00002d; stroke-width:0.8; stroke-opacity:1; fill:none\" points=\"\n",
       "  450.254,384.952 450.254,379.237 \n",
       "  \"/>\n",
       "<polyline clip-path=\"url(#clip02)\" style=\"stroke:#00002d; stroke-width:0.8; stroke-opacity:1; fill:none\" points=\"\n",
       "  596.063,384.952 596.063,379.237 \n",
       "  \"/>\n",
       "<polyline clip-path=\"url(#clip02)\" style=\"stroke:#00002d; stroke-width:0.8; stroke-opacity:1; fill:none\" points=\"\n",
       "  12.8259,384.952 12.8259,3.93701 \n",
       "  \"/>\n",
       "<polyline clip-path=\"url(#clip02)\" style=\"stroke:#00002d; stroke-width:0.8; stroke-opacity:1; fill:none\" points=\"\n",
       "  12.8259,282.481 21.5745,282.481 \n",
       "  \"/>\n",
       "<polyline clip-path=\"url(#clip02)\" style=\"stroke:#00002d; stroke-width:0.8; stroke-opacity:1; fill:none\" points=\"\n",
       "  12.8259,120.375 21.5745,120.375 \n",
       "  \"/>\n",
       "<g clip-path=\"url(#clip00)\">\n",
       "<text style=\"fill:#00002d; fill-opacity:1; font-family:Arial,Helvetica Neue,Helvetica,sans-serif; font-size:12; text-anchor:middle;\" transform=\"rotate(0, 12.8259, 396.952)\" x=\"12.8259\" y=\"396.952\">-1.0</text>\n",
       "</g>\n",
       "<g clip-path=\"url(#clip00)\">\n",
       "<text style=\"fill:#00002d; fill-opacity:1; font-family:Arial,Helvetica Neue,Helvetica,sans-serif; font-size:12; text-anchor:middle;\" transform=\"rotate(0, 158.635, 396.952)\" x=\"158.635\" y=\"396.952\">-0.5</text>\n",
       "</g>\n",
       "<g clip-path=\"url(#clip00)\">\n",
       "<text style=\"fill:#00002d; fill-opacity:1; font-family:Arial,Helvetica Neue,Helvetica,sans-serif; font-size:12; text-anchor:middle;\" transform=\"rotate(0, 304.444, 396.952)\" x=\"304.444\" y=\"396.952\">0.0</text>\n",
       "</g>\n",
       "<g clip-path=\"url(#clip00)\">\n",
       "<text style=\"fill:#00002d; fill-opacity:1; font-family:Arial,Helvetica Neue,Helvetica,sans-serif; font-size:12; text-anchor:middle;\" transform=\"rotate(0, 450.254, 396.952)\" x=\"450.254\" y=\"396.952\">0.5</text>\n",
       "</g>\n",
       "<g clip-path=\"url(#clip00)\">\n",
       "<text style=\"fill:#00002d; fill-opacity:1; font-family:Arial,Helvetica Neue,Helvetica,sans-serif; font-size:12; text-anchor:middle;\" transform=\"rotate(0, 596.063, 396.952)\" x=\"596.063\" y=\"396.952\">1.0</text>\n",
       "</g>\n",
       "<g clip-path=\"url(#clip00)\">\n",
       "<text style=\"fill:#00002d; fill-opacity:1; font-family:Arial,Helvetica Neue,Helvetica,sans-serif; font-size:12; text-anchor:end;\" transform=\"rotate(0, 11.6259, 286.981)\" x=\"11.6259\" y=\"286.981\">1</text>\n",
       "</g>\n",
       "<g clip-path=\"url(#clip00)\">\n",
       "<text style=\"fill:#00002d; fill-opacity:1; font-family:Arial,Helvetica Neue,Helvetica,sans-serif; font-size:12; text-anchor:end;\" transform=\"rotate(0, 11.6259, 124.875)\" x=\"11.6259\" y=\"124.875\">2</text>\n",
       "</g>\n",
       "<polyline clip-path=\"url(#clip02)\" style=\"stroke:#0099ff; stroke-width:0.8; stroke-opacity:1; fill:none\" points=\"\n",
       "  12.8259,384.952 18.7172,383.735 24.6085,382.493 30.4997,381.226 36.391,379.933 42.2823,378.613 48.1736,377.267 54.0649,375.893 59.9562,374.491 65.8475,373.061 \n",
       "  71.7387,371.601 77.63,370.112 83.5213,368.592 89.4126,367.041 95.3039,365.458 101.195,363.844 107.086,362.196 112.978,360.514 118.869,358.799 124.76,357.048 \n",
       "  130.652,355.261 136.543,353.439 142.434,351.578 148.325,349.68 154.217,347.744 160.108,345.767 165.999,343.751 171.891,341.693 177.782,339.593 183.673,337.45 \n",
       "  189.564,335.264 195.456,333.033 201.347,330.756 207.238,328.433 213.13,326.063 219.021,323.644 224.912,321.176 230.803,318.657 236.695,316.087 242.586,313.465 \n",
       "  248.477,310.789 254.369,308.059 260.26,305.273 266.151,302.429 272.042,299.528 277.934,296.568 283.825,293.547 289.716,290.465 295.608,287.32 301.499,284.11 \n",
       "  307.39,280.835 313.281,277.494 319.173,274.084 325.064,270.604 330.955,267.054 336.847,263.431 342.738,259.734 348.629,255.961 354.52,252.112 360.412,248.184 \n",
       "  366.303,244.176 372.194,240.086 378.085,235.913 383.977,231.654 389.868,227.309 395.759,222.875 401.651,218.35 407.542,213.733 413.433,209.022 419.324,204.215 \n",
       "  425.216,199.309 431.107,194.304 436.998,189.196 442.89,183.984 448.781,178.666 454.672,173.239 460.563,167.702 466.455,162.051 472.346,156.285 478.237,150.402 \n",
       "  484.129,144.398 490.02,138.272 495.911,132.021 501.802,125.642 507.694,119.133 513.585,112.492 519.476,105.714 525.368,98.7988 531.259,91.7422 537.15,84.5415 \n",
       "  543.041,77.1939 548.933,69.6963 554.824,62.0457 560.715,54.239 566.607,46.273 572.498,38.1444 578.389,29.8499 584.28,21.3862 590.172,12.7497 596.063,3.93701 \n",
       "  \n",
       "  \"/>\n",
       "<polyline clip-path=\"url(#clip02)\" style=\"stroke:#e9746a; stroke-width:0.8; stroke-opacity:1; fill:none\" points=\"\n",
       "  12.8259,3.93701 18.7172,12.7497 24.6085,21.3862 30.4997,29.8499 36.391,38.1444 42.2823,46.273 48.1736,54.239 54.0649,62.0457 59.9562,69.6963 65.8475,77.1939 \n",
       "  71.7387,84.5415 77.63,91.7422 83.5213,98.7988 89.4126,105.714 95.3039,112.492 101.195,119.133 107.086,125.642 112.978,132.021 118.869,138.272 124.76,144.398 \n",
       "  130.652,150.402 136.543,156.285 142.434,162.051 148.325,167.702 154.217,173.239 160.108,178.666 165.999,183.984 171.891,189.196 177.782,194.304 183.673,199.309 \n",
       "  189.564,204.215 195.456,209.022 201.347,213.733 207.238,218.35 213.13,222.875 219.021,227.309 224.912,231.654 230.803,235.913 236.695,240.086 242.586,244.176 \n",
       "  248.477,248.184 254.369,252.112 260.26,255.961 266.151,259.734 272.042,263.431 277.934,267.054 283.825,270.604 289.716,274.084 295.608,277.494 301.499,280.835 \n",
       "  307.39,284.11 313.281,287.32 319.173,290.465 325.064,293.547 330.955,296.568 336.847,299.528 342.738,302.429 348.629,305.273 354.52,308.059 360.412,310.789 \n",
       "  366.303,313.465 372.194,316.087 378.085,318.657 383.977,321.176 389.868,323.644 395.759,326.063 401.651,328.433 407.542,330.756 413.433,333.033 419.324,335.264 \n",
       "  425.216,337.45 431.107,339.593 436.998,341.693 442.89,343.751 448.781,345.767 454.672,347.744 460.563,349.68 466.455,351.578 472.346,353.439 478.237,355.261 \n",
       "  484.129,357.048 490.02,358.799 495.911,360.514 501.802,362.196 507.694,363.844 513.585,365.458 519.476,367.041 525.368,368.592 531.259,370.112 537.15,371.601 \n",
       "  543.041,373.061 548.933,374.491 554.824,375.893 560.715,377.267 566.607,378.613 572.498,379.933 578.389,381.226 584.28,382.493 590.172,383.735 596.063,384.952 \n",
       "  \n",
       "  \"/>\n",
       "<polyline clip-path=\"url(#clip02)\" style=\"stroke:#3cb370; stroke-width:0.8; stroke-opacity:1; fill:none\" points=\"\n",
       "  12.8259,177.319 18.7172,180.006 24.6085,182.665 30.4997,185.297 36.391,187.903 42.2823,190.483 48.1736,193.036 54.0649,195.565 59.9562,198.067 65.8475,200.545 \n",
       "  71.7387,202.998 77.63,205.426 83.5213,207.829 89.4126,210.209 95.3039,212.564 101.195,214.896 107.086,217.204 112.978,219.49 118.869,221.752 124.76,223.991 \n",
       "  130.652,226.209 136.543,228.403 142.434,230.576 148.325,232.727 154.217,234.856 160.108,236.964 165.999,239.051 171.891,241.116 177.782,243.161 183.673,245.185 \n",
       "  189.564,247.19 195.456,249.173 201.347,251.137 207.238,253.082 213.13,255.006 219.021,256.912 224.912,258.798 230.803,260.665 236.695,262.513 242.586,264.343 \n",
       "  248.477,266.155 254.369,267.948 260.26,269.723 266.151,271.481 272.042,273.22 277.934,274.943 283.825,276.648 289.716,278.335 295.608,280.006 301.499,281.66 \n",
       "  307.39,283.298 313.281,284.919 319.173,286.524 325.064,288.112 330.955,289.685 336.847,291.242 342.738,292.783 348.629,294.308 354.52,295.819 360.412,297.314 \n",
       "  366.303,298.794 372.194,300.259 378.085,301.71 383.977,303.146 389.868,304.567 395.759,305.974 401.651,307.367 407.542,308.747 413.433,310.112 419.324,311.463 \n",
       "  425.216,312.801 431.107,314.126 436.998,315.437 442.89,316.735 448.781,318.02 454.672,319.292 460.563,320.551 466.455,321.798 472.346,323.032 478.237,324.253 \n",
       "  484.129,325.463 490.02,326.66 495.911,327.845 501.802,329.018 507.694,330.18 513.585,331.33 519.476,332.468 525.368,333.595 531.259,334.71 537.15,335.815 \n",
       "  543.041,336.908 548.933,337.99 554.824,339.061 560.715,340.122 566.607,341.172 572.498,342.211 578.389,343.24 584.28,344.259 590.172,345.267 596.063,346.265 \n",
       "  \n",
       "  \"/>\n",
       "<polyline clip-path=\"url(#clip02)\" style=\"stroke:#d96fd5; stroke-width:0.8; stroke-opacity:1; fill:none\" points=\"\n",
       "  12.8259,218.35 18.7172,219.868 24.6085,221.377 30.4997,222.875 36.391,224.363 42.2823,225.841 48.1736,227.309 54.0649,228.767 59.9562,230.215 65.8475,231.654 \n",
       "  71.7387,233.083 77.63,234.503 83.5213,235.913 89.4126,237.313 95.3039,238.704 101.195,240.086 107.086,241.458 112.978,242.822 118.869,244.176 124.76,245.521 \n",
       "  130.652,246.857 136.543,248.184 142.434,249.502 148.325,250.811 154.217,252.112 160.108,253.404 165.999,254.687 171.891,255.961 177.782,257.227 183.673,258.485 \n",
       "  189.564,259.734 195.456,260.974 201.347,262.207 207.238,263.431 213.13,264.646 219.021,265.854 224.912,267.054 230.803,268.245 236.695,269.429 242.586,270.604 \n",
       "  248.477,271.772 254.369,272.932 260.26,274.084 266.151,275.228 272.042,276.365 277.934,277.494 283.825,278.615 289.716,279.729 295.608,280.835 301.499,281.934 \n",
       "  307.39,283.026 313.281,284.11 319.173,285.187 325.064,286.257 330.955,287.32 336.847,288.375 342.738,289.424 348.629,290.465 354.52,291.499 360.412,292.527 \n",
       "  366.303,293.547 372.194,294.561 378.085,295.568 383.977,296.568 389.868,297.562 395.759,298.548 401.651,299.528 407.542,300.502 413.433,301.469 419.324,302.429 \n",
       "  425.216,303.384 431.107,304.331 436.998,305.273 442.89,306.208 448.781,307.136 454.672,308.059 460.563,308.975 466.455,309.885 472.346,310.789 478.237,311.687 \n",
       "  484.129,312.579 490.02,313.465 495.911,314.345 501.802,315.219 507.694,316.087 513.585,316.95 519.476,317.807 525.368,318.657 531.259,319.503 537.15,320.342 \n",
       "  543.041,321.176 548.933,322.004 554.824,322.827 560.715,323.644 566.607,324.456 572.498,325.262 578.389,326.063 584.28,326.858 590.172,327.648 596.063,328.433 \n",
       "  \n",
       "  \"/>\n",
       "<polyline clip-path=\"url(#clip02)\" style=\"stroke:#b28c19; stroke-width:0.8; stroke-opacity:1; fill:none\" points=\"\n",
       "  12.8259,236.439 18.7172,237.488 24.6085,238.531 30.4997,239.569 36.391,240.602 42.2823,241.629 48.1736,242.652 54.0649,243.669 59.9562,244.681 65.8475,245.688 \n",
       "  71.7387,246.69 77.63,247.687 83.5213,248.679 89.4126,249.666 95.3039,250.648 101.195,251.625 107.086,252.597 112.978,253.565 118.869,254.527 124.76,255.484 \n",
       "  130.652,256.437 136.543,257.385 142.434,258.328 148.325,259.266 154.217,260.2 160.108,261.129 165.999,262.053 171.891,262.973 177.782,263.888 183.673,264.798 \n",
       "  189.564,265.704 195.456,266.605 201.347,267.501 207.238,268.394 213.13,269.281 219.021,270.164 224.912,271.043 230.803,271.917 236.695,272.787 242.586,273.653 \n",
       "  248.477,274.514 254.369,275.371 260.26,276.223 266.151,277.071 272.042,277.915 277.934,278.755 283.825,279.59 289.716,280.421 295.608,281.248 301.499,282.071 \n",
       "  307.39,282.89 313.281,283.705 319.173,284.515 325.064,285.322 330.955,286.124 336.847,286.922 342.738,287.716 348.629,288.507 354.52,289.293 360.412,290.075 \n",
       "  366.303,290.854 372.194,291.628 378.085,292.399 383.977,293.166 389.868,293.928 395.759,294.687 401.651,295.442 407.542,296.194 413.433,296.941 419.324,297.685 \n",
       "  425.216,298.425 431.107,299.162 436.998,299.894 442.89,300.623 448.781,301.348 454.672,302.07 460.563,302.788 466.455,303.502 472.346,304.213 478.237,304.92 \n",
       "  484.129,305.624 490.02,306.324 495.911,307.021 501.802,307.714 507.694,308.403 513.585,309.089 519.476,309.772 525.368,310.451 531.259,311.127 537.15,311.799 \n",
       "  543.041,312.468 548.933,313.134 554.824,313.796 560.715,314.455 566.607,315.11 572.498,315.763 578.389,316.412 584.28,317.057 590.172,317.7 596.063,318.339 \n",
       "  \n",
       "  \"/>\n",
       "<polyline clip-path=\"url(#clip02)\" style=\"stroke:#00abab; stroke-width:0.8; stroke-opacity:1; fill:none\" points=\"\n",
       "  12.8259,246.59 18.7172,247.389 24.6085,248.184 30.4997,248.976 36.391,249.765 42.2823,250.55 48.1736,251.333 54.0649,252.112 59.9562,252.888 65.8475,253.661 \n",
       "  71.7387,254.431 77.63,255.198 83.5213,255.961 89.4126,256.722 95.3039,257.479 101.195,258.234 107.086,258.985 112.978,259.734 118.869,260.479 124.76,261.221 \n",
       "  130.652,261.961 136.543,262.697 142.434,263.431 148.325,264.161 154.217,264.889 160.108,265.613 165.999,266.335 171.891,267.054 177.782,267.77 183.673,268.482 \n",
       "  189.564,269.193 195.456,269.9 201.347,270.604 207.238,271.306 213.13,272.004 219.021,272.7 224.912,273.393 230.803,274.084 236.695,274.771 242.586,275.456 \n",
       "  248.477,276.138 254.369,276.817 260.26,277.494 266.151,278.167 272.042,278.839 277.934,279.507 283.825,280.173 289.716,280.835 295.608,281.496 301.499,282.153 \n",
       "  307.39,282.808 313.281,283.461 319.173,284.11 325.064,284.757 330.955,285.402 336.847,286.044 342.738,286.683 348.629,287.32 354.52,287.954 360.412,288.586 \n",
       "  366.303,289.215 372.194,289.841 378.085,290.465 383.977,291.087 389.868,291.705 395.759,292.322 401.651,292.936 407.542,293.547 413.433,294.156 419.324,294.763 \n",
       "  425.216,295.367 431.107,295.969 436.998,296.568 442.89,297.165 448.781,297.759 454.672,298.351 460.563,298.941 466.455,299.528 472.346,300.113 478.237,300.696 \n",
       "  484.129,301.276 490.02,301.854 495.911,302.429 501.802,303.003 507.694,303.574 513.585,304.142 519.476,304.709 525.368,305.273 531.259,305.834 537.15,306.394 \n",
       "  543.041,306.951 548.933,307.506 554.824,308.059 560.715,308.609 566.607,309.158 572.498,309.704 578.389,310.248 584.28,310.789 590.172,311.329 596.063,311.866 \n",
       "  \n",
       "  \"/>\n",
       "<polyline clip-path=\"url(#clip02)\" style=\"stroke:#ff5d5d; stroke-width:0.8; stroke-opacity:1; fill:none\" points=\"\n",
       "  12.8259,253.082 18.7172,253.725 24.6085,254.367 30.4997,255.006 36.391,255.643 42.2823,256.279 48.1736,256.912 54.0649,257.542 59.9562,258.171 65.8475,258.798 \n",
       "  71.7387,259.422 77.63,260.045 83.5213,260.665 89.4126,261.283 95.3039,261.899 101.195,262.513 107.086,263.125 112.978,263.735 118.869,264.343 124.76,264.949 \n",
       "  130.652,265.553 136.543,266.155 142.434,266.755 148.325,267.352 154.217,267.948 160.108,268.542 165.999,269.134 171.891,269.723 177.782,270.311 183.673,270.897 \n",
       "  189.564,271.481 195.456,272.063 201.347,272.642 207.238,273.22 213.13,273.796 219.021,274.371 224.912,274.943 230.803,275.513 236.695,276.081 242.586,276.648 \n",
       "  248.477,277.212 254.369,277.775 260.26,278.335 266.151,278.894 272.042,279.451 277.934,280.006 283.825,280.56 289.716,281.111 295.608,281.66 301.499,282.208 \n",
       "  307.39,282.754 313.281,283.298 319.173,283.84 325.064,284.38 330.955,284.919 336.847,285.456 342.738,285.99 348.629,286.524 354.52,287.055 360.412,287.584 \n",
       "  366.303,288.112 372.194,288.638 378.085,289.162 383.977,289.685 389.868,290.205 395.759,290.724 401.651,291.242 407.542,291.757 413.433,292.271 419.324,292.783 \n",
       "  425.216,293.293 431.107,293.801 436.998,294.308 442.89,294.813 448.781,295.317 454.672,295.819 460.563,296.319 466.455,296.817 472.346,297.314 478.237,297.809 \n",
       "  484.129,298.302 490.02,298.794 495.911,299.284 501.802,299.772 507.694,300.259 513.585,300.744 519.476,301.228 525.368,301.71 531.259,302.19 537.15,302.669 \n",
       "  543.041,303.146 548.933,303.621 554.824,304.095 560.715,304.567 566.607,305.038 572.498,305.507 578.389,305.974 584.28,306.44 590.172,306.905 596.063,307.367 \n",
       "  \n",
       "  \"/>\n",
       "<polyline clip-path=\"url(#clip02)\" style=\"stroke:#cc853f; stroke-width:0.8; stroke-opacity:1; fill:none\" points=\"\n",
       "  12.8259,257.587 18.7172,258.126 24.6085,258.664 30.4997,259.199 36.391,259.734 42.2823,260.266 48.1736,260.798 54.0649,261.327 59.9562,261.855 65.8475,262.382 \n",
       "  71.7387,262.907 77.63,263.431 83.5213,263.953 89.4126,264.473 95.3039,264.992 101.195,265.51 107.086,266.026 112.978,266.541 118.869,267.054 124.76,267.565 \n",
       "  130.652,268.075 136.543,268.584 142.434,269.091 148.325,269.597 154.217,270.101 160.108,270.604 165.999,271.106 171.891,271.606 177.782,272.104 183.673,272.601 \n",
       "  189.564,273.097 195.456,273.591 201.347,274.084 207.238,274.575 213.13,275.065 219.021,275.554 224.912,276.041 230.803,276.526 236.695,277.011 242.586,277.494 \n",
       "  248.477,277.975 254.369,278.455 260.26,278.934 266.151,279.412 272.042,279.888 277.934,280.362 283.825,280.835 289.716,281.307 295.608,281.778 301.499,282.247 \n",
       "  307.39,282.715 313.281,283.181 319.173,283.647 325.064,284.11 330.955,284.573 336.847,285.034 342.738,285.494 348.629,285.952 354.52,286.409 360.412,286.865 \n",
       "  366.303,287.32 372.194,287.773 378.085,288.225 383.977,288.676 389.868,289.125 395.759,289.573 401.651,290.02 407.542,290.465 413.433,290.909 419.324,291.352 \n",
       "  425.216,291.794 431.107,292.234 436.998,292.673 442.89,293.111 448.781,293.547 454.672,293.983 460.563,294.417 466.455,294.849 472.346,295.281 478.237,295.711 \n",
       "  484.129,296.14 490.02,296.568 495.911,296.995 501.802,297.42 507.694,297.844 513.585,298.267 519.476,298.689 525.368,299.109 531.259,299.528 537.15,299.946 \n",
       "  543.041,300.363 548.933,300.779 554.824,301.193 560.715,301.607 566.607,302.019 572.498,302.429 578.389,302.839 584.28,303.248 590.172,303.655 596.063,304.061 \n",
       "  \n",
       "  \"/>\n",
       "<polyline clip-path=\"url(#clip02)\" style=\"stroke:#00abab; stroke-width:0.8; stroke-opacity:1; fill:none\" points=\"\n",
       "  12.8259,260.897 18.7172,261.36 24.6085,261.822 30.4997,262.283 36.391,262.743 42.2823,263.202 48.1736,263.659 54.0649,264.116 59.9562,264.571 65.8475,265.025 \n",
       "  71.7387,265.478 77.63,265.929 83.5213,266.38 89.4126,266.829 95.3039,267.278 101.195,267.725 107.086,268.171 112.978,268.616 118.869,269.06 124.76,269.502 \n",
       "  130.652,269.944 136.543,270.384 142.434,270.824 148.325,271.262 154.217,271.699 160.108,272.135 165.999,272.57 171.891,273.004 177.782,273.437 183.673,273.868 \n",
       "  189.564,274.299 195.456,274.728 201.347,275.157 207.238,275.584 213.13,276.01 219.021,276.435 224.912,276.86 230.803,277.283 236.695,277.705 242.586,278.125 \n",
       "  248.477,278.545 254.369,278.964 260.26,279.382 266.151,279.798 272.042,280.214 277.934,280.629 283.825,281.042 289.716,281.455 295.608,281.866 301.499,282.276 \n",
       "  307.39,282.686 313.281,283.094 319.173,283.501 325.064,283.908 330.955,284.313 336.847,284.717 342.738,285.12 348.629,285.523 354.52,285.924 360.412,286.324 \n",
       "  366.303,286.723 372.194,287.121 378.085,287.518 383.977,287.914 389.868,288.31 395.759,288.704 401.651,289.097 407.542,289.489 413.433,289.88 419.324,290.27 \n",
       "  425.216,290.66 431.107,291.048 436.998,291.435 442.89,291.821 448.781,292.207 454.672,292.591 460.563,292.974 466.455,293.357 472.346,293.738 478.237,294.118 \n",
       "  484.129,294.498 490.02,294.876 495.911,295.254 501.802,295.631 507.694,296.006 513.585,296.381 519.476,296.755 525.368,297.128 531.259,297.5 537.15,297.871 \n",
       "  543.041,298.241 548.933,298.61 554.824,298.978 560.715,299.345 566.607,299.711 572.498,300.077 578.389,300.441 584.28,300.805 590.172,301.167 596.063,301.529 \n",
       "  \n",
       "  \"/>\n",
       "<polyline clip-path=\"url(#clip02)\" style=\"stroke:#969600; stroke-width:0.8; stroke-opacity:1; fill:none\" points=\"\n",
       "  12.8259,263.431 18.7172,263.837 24.6085,264.242 30.4997,264.646 36.391,265.05 42.2823,265.452 48.1736,265.854 54.0649,266.255 59.9562,266.655 65.8475,267.054 \n",
       "  71.7387,267.452 77.63,267.849 83.5213,268.245 89.4126,268.641 95.3039,269.035 101.195,269.429 107.086,269.821 112.978,270.213 118.869,270.604 124.76,270.994 \n",
       "  130.652,271.384 136.543,271.772 142.434,272.159 148.325,272.546 154.217,272.932 160.108,273.317 165.999,273.701 171.891,274.084 177.782,274.466 183.673,274.847 \n",
       "  189.564,275.228 195.456,275.608 201.347,275.987 207.238,276.365 213.13,276.742 219.021,277.118 224.912,277.494 230.803,277.868 236.695,278.242 242.586,278.615 \n",
       "  248.477,278.987 254.369,279.359 260.26,279.729 266.151,280.099 272.042,280.467 277.934,280.835 283.825,281.203 289.716,281.569 295.608,281.934 301.499,282.299 \n",
       "  307.39,282.663 313.281,283.026 319.173,283.388 325.064,283.75 330.955,284.11 336.847,284.47 342.738,284.829 348.629,285.187 354.52,285.545 360.412,285.901 \n",
       "  366.303,286.257 372.194,286.612 378.085,286.966 383.977,287.32 389.868,287.672 395.759,288.024 401.651,288.375 407.542,288.726 413.433,289.075 419.324,289.424 \n",
       "  425.216,289.772 431.107,290.119 436.998,290.465 442.89,290.811 448.781,291.155 454.672,291.499 460.563,291.843 466.455,292.185 472.346,292.527 478.237,292.868 \n",
       "  484.129,293.208 490.02,293.547 495.911,293.886 501.802,294.224 507.694,294.561 513.585,294.897 519.476,295.233 525.368,295.568 531.259,295.902 537.15,296.235 \n",
       "  543.041,296.568 548.933,296.9 554.824,297.231 560.715,297.562 566.607,297.891 572.498,298.22 578.389,298.548 584.28,298.876 590.172,299.202 596.063,299.528 \n",
       "  \n",
       "  \"/>\n",
       "<polyline clip-path=\"url(#clip02)\" style=\"stroke:#00abab; stroke-width:0.8; stroke-opacity:1; fill:none\" points=\"\n",
       "  12.8259,265.432 18.7172,265.794 24.6085,266.155 30.4997,266.515 36.391,266.874 42.2823,267.233 48.1736,267.591 54.0649,267.948 59.9562,268.305 65.8475,268.66 \n",
       "  71.7387,269.015 77.63,269.37 83.5213,269.723 89.4126,270.076 95.3039,270.428 101.195,270.78 107.086,271.131 112.978,271.481 118.869,271.83 124.76,272.179 \n",
       "  130.652,272.527 136.543,272.874 142.434,273.22 148.325,273.566 154.217,273.911 160.108,274.256 165.999,274.6 171.891,274.943 177.782,275.285 183.673,275.627 \n",
       "  189.564,275.968 195.456,276.308 201.347,276.648 207.238,276.987 213.13,277.325 219.021,277.662 224.912,277.999 230.803,278.335 236.695,278.671 242.586,279.006 \n",
       "  248.477,279.34 254.369,279.674 260.26,280.006 266.151,280.338 272.042,280.67 277.934,281.001 283.825,281.331 289.716,281.66 295.608,281.989 301.499,282.317 \n",
       "  307.39,282.645 313.281,282.972 319.173,283.298 325.064,283.623 330.955,283.948 336.847,284.272 342.738,284.596 348.629,284.919 354.52,285.241 360.412,285.563 \n",
       "  366.303,285.884 372.194,286.204 378.085,286.524 383.977,286.843 389.868,287.161 395.759,287.479 401.651,287.796 407.542,288.112 413.433,288.428 419.324,288.743 \n",
       "  425.216,289.058 431.107,289.371 436.998,289.685 442.89,289.997 448.781,290.309 454.672,290.621 460.563,290.931 466.455,291.242 472.346,291.551 478.237,291.86 \n",
       "  484.129,292.168 490.02,292.476 495.911,292.783 501.802,293.089 507.694,293.395 513.585,293.7 519.476,294.004 525.368,294.308 531.259,294.612 537.15,294.914 \n",
       "  543.041,295.216 548.933,295.518 554.824,295.819 560.715,296.119 566.607,296.419 572.498,296.718 578.389,297.016 584.28,297.314 590.172,297.611 596.063,297.908 \n",
       "  \n",
       "  \"/>\n",
       "<polygon clip-path=\"url(#clip00)\" points=\"\n",
       "498.958,206.257 578.063,206.257 578.063,24.817 498.958,24.817 \n",
       "  \" fill=\"#ffffff\" fill-opacity=\"1\"/>\n",
       "<polyline clip-path=\"url(#clip00)\" style=\"stroke:#00002d; stroke-width:0.8; stroke-opacity:1; fill:none\" points=\"\n",
       "  498.958,206.257 578.063,206.257 578.063,24.817 498.958,24.817 498.958,206.257 \n",
       "  \"/>\n",
       "<polyline clip-path=\"url(#clip00)\" style=\"stroke:#0099ff; stroke-width:0.8; stroke-opacity:1; fill:none\" points=\"\n",
       "  504.958,39.937 540.958,39.937 \n",
       "  \"/>\n",
       "<g clip-path=\"url(#clip00)\">\n",
       "<text style=\"fill:#00002d; fill-opacity:1; font-family:Arial,Helvetica Neue,Helvetica,sans-serif; font-size:12; text-anchor:start;\" transform=\"rotate(0, 546.958, 44.437)\" x=\"546.958\" y=\"44.437\">y1</text>\n",
       "</g>\n",
       "<polyline clip-path=\"url(#clip00)\" style=\"stroke:#e9746a; stroke-width:0.8; stroke-opacity:1; fill:none\" points=\"\n",
       "  504.958,55.057 540.958,55.057 \n",
       "  \"/>\n",
       "<g clip-path=\"url(#clip00)\">\n",
       "<text style=\"fill:#00002d; fill-opacity:1; font-family:Arial,Helvetica Neue,Helvetica,sans-serif; font-size:12; text-anchor:start;\" transform=\"rotate(0, 546.958, 59.557)\" x=\"546.958\" y=\"59.557\">y2</text>\n",
       "</g>\n",
       "<polyline clip-path=\"url(#clip00)\" style=\"stroke:#3cb370; stroke-width:0.8; stroke-opacity:1; fill:none\" points=\"\n",
       "  504.958,70.177 540.958,70.177 \n",
       "  \"/>\n",
       "<g clip-path=\"url(#clip00)\">\n",
       "<text style=\"fill:#00002d; fill-opacity:1; font-family:Arial,Helvetica Neue,Helvetica,sans-serif; font-size:12; text-anchor:start;\" transform=\"rotate(0, 546.958, 74.677)\" x=\"546.958\" y=\"74.677\">y3</text>\n",
       "</g>\n",
       "<polyline clip-path=\"url(#clip00)\" style=\"stroke:#d96fd5; stroke-width:0.8; stroke-opacity:1; fill:none\" points=\"\n",
       "  504.958,85.297 540.958,85.297 \n",
       "  \"/>\n",
       "<g clip-path=\"url(#clip00)\">\n",
       "<text style=\"fill:#00002d; fill-opacity:1; font-family:Arial,Helvetica Neue,Helvetica,sans-serif; font-size:12; text-anchor:start;\" transform=\"rotate(0, 546.958, 89.797)\" x=\"546.958\" y=\"89.797\">y4</text>\n",
       "</g>\n",
       "<polyline clip-path=\"url(#clip00)\" style=\"stroke:#b28c19; stroke-width:0.8; stroke-opacity:1; fill:none\" points=\"\n",
       "  504.958,100.417 540.958,100.417 \n",
       "  \"/>\n",
       "<g clip-path=\"url(#clip00)\">\n",
       "<text style=\"fill:#00002d; fill-opacity:1; font-family:Arial,Helvetica Neue,Helvetica,sans-serif; font-size:12; text-anchor:start;\" transform=\"rotate(0, 546.958, 104.917)\" x=\"546.958\" y=\"104.917\">y5</text>\n",
       "</g>\n",
       "<polyline clip-path=\"url(#clip00)\" style=\"stroke:#00abab; stroke-width:0.8; stroke-opacity:1; fill:none\" points=\"\n",
       "  504.958,115.537 540.958,115.537 \n",
       "  \"/>\n",
       "<g clip-path=\"url(#clip00)\">\n",
       "<text style=\"fill:#00002d; fill-opacity:1; font-family:Arial,Helvetica Neue,Helvetica,sans-serif; font-size:12; text-anchor:start;\" transform=\"rotate(0, 546.958, 120.037)\" x=\"546.958\" y=\"120.037\">y6</text>\n",
       "</g>\n",
       "<polyline clip-path=\"url(#clip00)\" style=\"stroke:#ff5d5d; stroke-width:0.8; stroke-opacity:1; fill:none\" points=\"\n",
       "  504.958,130.657 540.958,130.657 \n",
       "  \"/>\n",
       "<g clip-path=\"url(#clip00)\">\n",
       "<text style=\"fill:#00002d; fill-opacity:1; font-family:Arial,Helvetica Neue,Helvetica,sans-serif; font-size:12; text-anchor:start;\" transform=\"rotate(0, 546.958, 135.157)\" x=\"546.958\" y=\"135.157\">y7</text>\n",
       "</g>\n",
       "<polyline clip-path=\"url(#clip00)\" style=\"stroke:#cc853f; stroke-width:0.8; stroke-opacity:1; fill:none\" points=\"\n",
       "  504.958,145.777 540.958,145.777 \n",
       "  \"/>\n",
       "<g clip-path=\"url(#clip00)\">\n",
       "<text style=\"fill:#00002d; fill-opacity:1; font-family:Arial,Helvetica Neue,Helvetica,sans-serif; font-size:12; text-anchor:start;\" transform=\"rotate(0, 546.958, 150.277)\" x=\"546.958\" y=\"150.277\">y8</text>\n",
       "</g>\n",
       "<polyline clip-path=\"url(#clip00)\" style=\"stroke:#00abab; stroke-width:0.8; stroke-opacity:1; fill:none\" points=\"\n",
       "  504.958,160.897 540.958,160.897 \n",
       "  \"/>\n",
       "<g clip-path=\"url(#clip00)\">\n",
       "<text style=\"fill:#00002d; fill-opacity:1; font-family:Arial,Helvetica Neue,Helvetica,sans-serif; font-size:12; text-anchor:start;\" transform=\"rotate(0, 546.958, 165.397)\" x=\"546.958\" y=\"165.397\">y9</text>\n",
       "</g>\n",
       "<polyline clip-path=\"url(#clip00)\" style=\"stroke:#969600; stroke-width:0.8; stroke-opacity:1; fill:none\" points=\"\n",
       "  504.958,176.017 540.958,176.017 \n",
       "  \"/>\n",
       "<g clip-path=\"url(#clip00)\">\n",
       "<text style=\"fill:#00002d; fill-opacity:1; font-family:Arial,Helvetica Neue,Helvetica,sans-serif; font-size:12; text-anchor:start;\" transform=\"rotate(0, 546.958, 180.517)\" x=\"546.958\" y=\"180.517\">y10</text>\n",
       "</g>\n",
       "<polyline clip-path=\"url(#clip00)\" style=\"stroke:#00abab; stroke-width:0.8; stroke-opacity:1; fill:none\" points=\"\n",
       "  504.958,191.137 540.958,191.137 \n",
       "  \"/>\n",
       "<g clip-path=\"url(#clip00)\">\n",
       "<text style=\"fill:#00002d; fill-opacity:1; font-family:Arial,Helvetica Neue,Helvetica,sans-serif; font-size:12; text-anchor:start;\" transform=\"rotate(0, 546.958, 195.637)\" x=\"546.958\" y=\"195.637\">y11</text>\n",
       "</g>\n",
       "</svg>\n"
      ]
     },
     "execution_count": 159,
     "metadata": {},
     "output_type": "execute_result"
    }
   ],
   "source": [
    "plot(x->exp(x), -1, 1)\n",
    "for i = 1:10\n",
    "    plot!(x->exp(-x/i), -1, 1)\n",
    "end\n",
    "plot!()"
   ]
  },
  {
   "cell_type": "code",
   "execution_count": 160,
   "metadata": {
    "collapsed": false
   },
   "outputs": [
    {
     "data": {
      "text/html": [
       "<?xml version=\"1.0\" encoding=\"utf-8\"?>\n",
       "<svg xmlns=\"http://www.w3.org/2000/svg\" xmlns:xlink=\"http://www.w3.org/1999/xlink\" width=\"600\" height=\"400\" viewBox=\"0 0 600 400\">\n",
       "<defs>\n",
       "  <clipPath id=\"clip00\">\n",
       "    <rect x=\"0\" y=\"0\" width=\"600\" height=\"400\"/>\n",
       "  </clipPath>\n",
       "</defs>\n",
       "<polygon clip-path=\"url(#clip00)\" points=\"\n",
       "0,400 600,400 600,0 0,0 \n",
       "  \" fill=\"#ffffff\" fill-opacity=\"1\"/>\n",
       "<defs>\n",
       "  <clipPath id=\"clip01\">\n",
       "    <rect x=\"120\" y=\"0\" width=\"421\" height=\"400\"/>\n",
       "  </clipPath>\n",
       "</defs>\n",
       "<polygon clip-path=\"url(#clip00)\" points=\"\n",
       "12.8259,384.952 596.063,384.952 596.063,3.93701 12.8259,3.93701 \n",
       "  \" fill=\"#ffffff\" fill-opacity=\"1\"/>\n",
       "<defs>\n",
       "  <clipPath id=\"clip02\">\n",
       "    <rect x=\"12\" y=\"3\" width=\"584\" height=\"382\"/>\n",
       "  </clipPath>\n",
       "</defs>\n",
       "<polyline clip-path=\"url(#clip02)\" style=\"stroke:#00002d; stroke-width:0.8; stroke-opacity:0.5; fill:none\" stroke-dasharray=\"1, 2\" points=\"\n",
       "  12.8259,379.237 12.8259,9.65223 \n",
       "  \"/>\n",
       "<polyline clip-path=\"url(#clip02)\" style=\"stroke:#00002d; stroke-width:0.8; stroke-opacity:0.5; fill:none\" stroke-dasharray=\"1, 2\" points=\"\n",
       "  158.635,379.237 158.635,9.65223 \n",
       "  \"/>\n",
       "<polyline clip-path=\"url(#clip02)\" style=\"stroke:#00002d; stroke-width:0.8; stroke-opacity:0.5; fill:none\" stroke-dasharray=\"1, 2\" points=\"\n",
       "  304.444,379.237 304.444,9.65223 \n",
       "  \"/>\n",
       "<polyline clip-path=\"url(#clip02)\" style=\"stroke:#00002d; stroke-width:0.8; stroke-opacity:0.5; fill:none\" stroke-dasharray=\"1, 2\" points=\"\n",
       "  450.254,379.237 450.254,9.65223 \n",
       "  \"/>\n",
       "<polyline clip-path=\"url(#clip02)\" style=\"stroke:#00002d; stroke-width:0.8; stroke-opacity:0.5; fill:none\" stroke-dasharray=\"1, 2\" points=\"\n",
       "  596.063,379.237 596.063,9.65223 \n",
       "  \"/>\n",
       "<polyline clip-path=\"url(#clip02)\" style=\"stroke:#00002d; stroke-width:0.8; stroke-opacity:0.5; fill:none\" stroke-dasharray=\"1, 2\" points=\"\n",
       "  21.5745,282.481 587.314,282.481 \n",
       "  \"/>\n",
       "<polyline clip-path=\"url(#clip02)\" style=\"stroke:#00002d; stroke-width:0.8; stroke-opacity:0.5; fill:none\" stroke-dasharray=\"1, 2\" points=\"\n",
       "  21.5745,120.375 587.314,120.375 \n",
       "  \"/>\n",
       "<polyline clip-path=\"url(#clip02)\" style=\"stroke:#00002d; stroke-width:0.8; stroke-opacity:1; fill:none\" points=\"\n",
       "  12.8259,384.952 596.063,384.952 \n",
       "  \"/>\n",
       "<polyline clip-path=\"url(#clip02)\" style=\"stroke:#00002d; stroke-width:0.8; stroke-opacity:1; fill:none\" points=\"\n",
       "  12.8259,384.952 12.8259,379.237 \n",
       "  \"/>\n",
       "<polyline clip-path=\"url(#clip02)\" style=\"stroke:#00002d; stroke-width:0.8; stroke-opacity:1; fill:none\" points=\"\n",
       "  158.635,384.952 158.635,379.237 \n",
       "  \"/>\n",
       "<polyline clip-path=\"url(#clip02)\" style=\"stroke:#00002d; stroke-width:0.8; stroke-opacity:1; fill:none\" points=\"\n",
       "  304.444,384.952 304.444,379.237 \n",
       "  \"/>\n",
       "<polyline clip-path=\"url(#clip02)\" style=\"stroke:#00002d; stroke-width:0.8; stroke-opacity:1; fill:none\" points=\"\n",
       "  450.254,384.952 450.254,379.237 \n",
       "  \"/>\n",
       "<polyline clip-path=\"url(#clip02)\" style=\"stroke:#00002d; stroke-width:0.8; stroke-opacity:1; fill:none\" points=\"\n",
       "  596.063,384.952 596.063,379.237 \n",
       "  \"/>\n",
       "<polyline clip-path=\"url(#clip02)\" style=\"stroke:#00002d; stroke-width:0.8; stroke-opacity:1; fill:none\" points=\"\n",
       "  12.8259,384.952 12.8259,3.93701 \n",
       "  \"/>\n",
       "<polyline clip-path=\"url(#clip02)\" style=\"stroke:#00002d; stroke-width:0.8; stroke-opacity:1; fill:none\" points=\"\n",
       "  12.8259,282.481 21.5745,282.481 \n",
       "  \"/>\n",
       "<polyline clip-path=\"url(#clip02)\" style=\"stroke:#00002d; stroke-width:0.8; stroke-opacity:1; fill:none\" points=\"\n",
       "  12.8259,120.375 21.5745,120.375 \n",
       "  \"/>\n",
       "<g clip-path=\"url(#clip00)\">\n",
       "<text style=\"fill:#00002d; fill-opacity:1; font-family:Arial,Helvetica Neue,Helvetica,sans-serif; font-size:12; text-anchor:middle;\" transform=\"rotate(0, 12.8259, 396.952)\" x=\"12.8259\" y=\"396.952\">-0.50</text>\n",
       "</g>\n",
       "<g clip-path=\"url(#clip00)\">\n",
       "<text style=\"fill:#00002d; fill-opacity:1; font-family:Arial,Helvetica Neue,Helvetica,sans-serif; font-size:12; text-anchor:middle;\" transform=\"rotate(0, 158.635, 396.952)\" x=\"158.635\" y=\"396.952\">-0.25</text>\n",
       "</g>\n",
       "<g clip-path=\"url(#clip00)\">\n",
       "<text style=\"fill:#00002d; fill-opacity:1; font-family:Arial,Helvetica Neue,Helvetica,sans-serif; font-size:12; text-anchor:middle;\" transform=\"rotate(0, 304.444, 396.952)\" x=\"304.444\" y=\"396.952\">0.00</text>\n",
       "</g>\n",
       "<g clip-path=\"url(#clip00)\">\n",
       "<text style=\"fill:#00002d; fill-opacity:1; font-family:Arial,Helvetica Neue,Helvetica,sans-serif; font-size:12; text-anchor:middle;\" transform=\"rotate(0, 450.254, 396.952)\" x=\"450.254\" y=\"396.952\">0.25</text>\n",
       "</g>\n",
       "<g clip-path=\"url(#clip00)\">\n",
       "<text style=\"fill:#00002d; fill-opacity:1; font-family:Arial,Helvetica Neue,Helvetica,sans-serif; font-size:12; text-anchor:middle;\" transform=\"rotate(0, 596.063, 396.952)\" x=\"596.063\" y=\"396.952\">0.50</text>\n",
       "</g>\n",
       "<g clip-path=\"url(#clip00)\">\n",
       "<text style=\"fill:#00002d; fill-opacity:1; font-family:Arial,Helvetica Neue,Helvetica,sans-serif; font-size:12; text-anchor:end;\" transform=\"rotate(0, 11.6259, 286.981)\" x=\"11.6259\" y=\"286.981\">1</text>\n",
       "</g>\n",
       "<g clip-path=\"url(#clip00)\">\n",
       "<text style=\"fill:#00002d; fill-opacity:1; font-family:Arial,Helvetica Neue,Helvetica,sans-serif; font-size:12; text-anchor:end;\" transform=\"rotate(0, 11.6259, 124.875)\" x=\"11.6259\" y=\"124.875\">2</text>\n",
       "</g>\n",
       "<polyline clip-path=\"url(#clip02)\" style=\"stroke:#0099ff; stroke-width:0.8; stroke-opacity:1; fill:none\" points=\"\n",
       "  -278.793,384.952 -267.01,383.735 -255.228,382.493 -243.445,381.226 -231.662,379.933 -219.88,378.613 -208.097,377.267 -196.315,375.893 -184.532,374.491 -172.75,373.061 \n",
       "  -160.967,371.601 -149.184,370.112 -137.402,368.592 -125.619,367.041 -113.837,365.458 -102.054,363.844 -90.2716,362.196 -78.489,360.514 -66.7064,358.799 -54.9239,357.048 \n",
       "  -43.1413,355.261 -31.3587,353.439 -19.5762,351.578 -7.7936,349.68 3.98897,347.744 15.7715,345.767 27.5541,343.751 39.3367,341.693 51.1192,339.593 62.9018,337.45 \n",
       "  74.6844,335.264 86.4669,333.033 98.2495,330.756 110.032,328.433 121.815,326.063 133.597,323.644 145.38,321.176 157.162,318.657 168.945,316.087 180.727,313.465 \n",
       "  192.51,310.789 204.293,308.059 216.075,305.273 227.858,302.429 239.64,299.528 251.423,296.568 263.205,293.547 274.988,290.465 286.771,287.32 298.553,284.11 \n",
       "  310.336,280.835 322.118,277.494 333.901,274.084 345.683,270.604 357.466,267.054 369.249,263.431 381.031,259.734 392.814,255.961 404.596,252.112 416.379,248.184 \n",
       "  428.161,244.176 439.944,240.086 451.727,235.913 463.509,231.654 475.292,227.309 487.074,222.875 498.857,218.35 510.639,213.733 522.422,209.022 534.205,204.215 \n",
       "  545.987,199.309 557.77,194.304 569.552,189.196 581.335,183.984 593.117,178.666 604.9,173.239 616.682,167.702 628.465,162.051 640.248,156.285 652.03,150.402 \n",
       "  663.813,144.398 675.595,138.272 687.378,132.021 699.16,125.642 710.943,119.133 722.726,112.492 734.508,105.714 746.291,98.7988 758.073,91.7422 769.856,84.5415 \n",
       "  781.638,77.1939 793.421,69.6963 805.204,62.0457 816.986,54.239 828.769,46.273 840.551,38.1444 852.334,29.8499 864.116,21.3862 875.899,12.7497 887.682,3.93701 \n",
       "  \n",
       "  \"/>\n",
       "<polyline clip-path=\"url(#clip02)\" style=\"stroke:#e9746a; stroke-width:0.8; stroke-opacity:1; fill:none\" points=\"\n",
       "  -278.793,3.93701 -267.01,12.7497 -255.228,21.3862 -243.445,29.8499 -231.662,38.1444 -219.88,46.273 -208.097,54.239 -196.315,62.0457 -184.532,69.6963 -172.75,77.1939 \n",
       "  -160.967,84.5415 -149.184,91.7422 -137.402,98.7988 -125.619,105.714 -113.837,112.492 -102.054,119.133 -90.2716,125.642 -78.489,132.021 -66.7064,138.272 -54.9239,144.398 \n",
       "  -43.1413,150.402 -31.3587,156.285 -19.5762,162.051 -7.7936,167.702 3.98897,173.239 15.7715,178.666 27.5541,183.984 39.3367,189.196 51.1192,194.304 62.9018,199.309 \n",
       "  74.6844,204.215 86.4669,209.022 98.2495,213.733 110.032,218.35 121.815,222.875 133.597,227.309 145.38,231.654 157.162,235.913 168.945,240.086 180.727,244.176 \n",
       "  192.51,248.184 204.293,252.112 216.075,255.961 227.858,259.734 239.64,263.431 251.423,267.054 263.205,270.604 274.988,274.084 286.771,277.494 298.553,280.835 \n",
       "  310.336,284.11 322.118,287.32 333.901,290.465 345.683,293.547 357.466,296.568 369.249,299.528 381.031,302.429 392.814,305.273 404.596,308.059 416.379,310.789 \n",
       "  428.161,313.465 439.944,316.087 451.727,318.657 463.509,321.176 475.292,323.644 487.074,326.063 498.857,328.433 510.639,330.756 522.422,333.033 534.205,335.264 \n",
       "  545.987,337.45 557.77,339.593 569.552,341.693 581.335,343.751 593.117,345.767 604.9,347.744 616.682,349.68 628.465,351.578 640.248,353.439 652.03,355.261 \n",
       "  663.813,357.048 675.595,358.799 687.378,360.514 699.16,362.196 710.943,363.844 722.726,365.458 734.508,367.041 746.291,368.592 758.073,370.112 769.856,371.601 \n",
       "  781.638,373.061 793.421,374.491 805.204,375.893 816.986,377.267 828.769,378.613 840.551,379.933 852.334,381.226 864.116,382.493 875.899,383.735 887.682,384.952 \n",
       "  \n",
       "  \"/>\n",
       "<polyline clip-path=\"url(#clip02)\" style=\"stroke:#3cb370; stroke-width:0.8; stroke-opacity:1; fill:none\" points=\"\n",
       "  -278.793,177.319 -267.01,180.006 -255.228,182.665 -243.445,185.297 -231.662,187.903 -219.88,190.483 -208.097,193.036 -196.315,195.565 -184.532,198.067 -172.75,200.545 \n",
       "  -160.967,202.998 -149.184,205.426 -137.402,207.829 -125.619,210.209 -113.837,212.564 -102.054,214.896 -90.2716,217.204 -78.489,219.49 -66.7064,221.752 -54.9239,223.991 \n",
       "  -43.1413,226.209 -31.3587,228.403 -19.5762,230.576 -7.7936,232.727 3.98897,234.856 15.7715,236.964 27.5541,239.051 39.3367,241.116 51.1192,243.161 62.9018,245.185 \n",
       "  74.6844,247.19 86.4669,249.173 98.2495,251.137 110.032,253.082 121.815,255.006 133.597,256.912 145.38,258.798 157.162,260.665 168.945,262.513 180.727,264.343 \n",
       "  192.51,266.155 204.293,267.948 216.075,269.723 227.858,271.481 239.64,273.22 251.423,274.943 263.205,276.648 274.988,278.335 286.771,280.006 298.553,281.66 \n",
       "  310.336,283.298 322.118,284.919 333.901,286.524 345.683,288.112 357.466,289.685 369.249,291.242 381.031,292.783 392.814,294.308 404.596,295.819 416.379,297.314 \n",
       "  428.161,298.794 439.944,300.259 451.727,301.71 463.509,303.146 475.292,304.567 487.074,305.974 498.857,307.367 510.639,308.747 522.422,310.112 534.205,311.463 \n",
       "  545.987,312.801 557.77,314.126 569.552,315.437 581.335,316.735 593.117,318.02 604.9,319.292 616.682,320.551 628.465,321.798 640.248,323.032 652.03,324.253 \n",
       "  663.813,325.463 675.595,326.66 687.378,327.845 699.16,329.018 710.943,330.18 722.726,331.33 734.508,332.468 746.291,333.595 758.073,334.71 769.856,335.815 \n",
       "  781.638,336.908 793.421,337.99 805.204,339.061 816.986,340.122 828.769,341.172 840.551,342.211 852.334,343.24 864.116,344.259 875.899,345.267 887.682,346.265 \n",
       "  \n",
       "  \"/>\n",
       "<polyline clip-path=\"url(#clip02)\" style=\"stroke:#d96fd5; stroke-width:0.8; stroke-opacity:1; fill:none\" points=\"\n",
       "  -278.793,218.35 -267.01,219.868 -255.228,221.377 -243.445,222.875 -231.662,224.363 -219.88,225.841 -208.097,227.309 -196.315,228.767 -184.532,230.215 -172.75,231.654 \n",
       "  -160.967,233.083 -149.184,234.503 -137.402,235.913 -125.619,237.313 -113.837,238.704 -102.054,240.086 -90.2716,241.458 -78.489,242.822 -66.7064,244.176 -54.9239,245.521 \n",
       "  -43.1413,246.857 -31.3587,248.184 -19.5762,249.502 -7.7936,250.811 3.98897,252.112 15.7715,253.404 27.5541,254.687 39.3367,255.961 51.1192,257.227 62.9018,258.485 \n",
       "  74.6844,259.734 86.4669,260.974 98.2495,262.207 110.032,263.431 121.815,264.646 133.597,265.854 145.38,267.054 157.162,268.245 168.945,269.429 180.727,270.604 \n",
       "  192.51,271.772 204.293,272.932 216.075,274.084 227.858,275.228 239.64,276.365 251.423,277.494 263.205,278.615 274.988,279.729 286.771,280.835 298.553,281.934 \n",
       "  310.336,283.026 322.118,284.11 333.901,285.187 345.683,286.257 357.466,287.32 369.249,288.375 381.031,289.424 392.814,290.465 404.596,291.499 416.379,292.527 \n",
       "  428.161,293.547 439.944,294.561 451.727,295.568 463.509,296.568 475.292,297.562 487.074,298.548 498.857,299.528 510.639,300.502 522.422,301.469 534.205,302.429 \n",
       "  545.987,303.384 557.77,304.331 569.552,305.273 581.335,306.208 593.117,307.136 604.9,308.059 616.682,308.975 628.465,309.885 640.248,310.789 652.03,311.687 \n",
       "  663.813,312.579 675.595,313.465 687.378,314.345 699.16,315.219 710.943,316.087 722.726,316.95 734.508,317.807 746.291,318.657 758.073,319.503 769.856,320.342 \n",
       "  781.638,321.176 793.421,322.004 805.204,322.827 816.986,323.644 828.769,324.456 840.551,325.262 852.334,326.063 864.116,326.858 875.899,327.648 887.682,328.433 \n",
       "  \n",
       "  \"/>\n",
       "<polyline clip-path=\"url(#clip02)\" style=\"stroke:#b28c19; stroke-width:0.8; stroke-opacity:1; fill:none\" points=\"\n",
       "  -278.793,236.439 -267.01,237.488 -255.228,238.531 -243.445,239.569 -231.662,240.602 -219.88,241.629 -208.097,242.652 -196.315,243.669 -184.532,244.681 -172.75,245.688 \n",
       "  -160.967,246.69 -149.184,247.687 -137.402,248.679 -125.619,249.666 -113.837,250.648 -102.054,251.625 -90.2716,252.597 -78.489,253.565 -66.7064,254.527 -54.9239,255.484 \n",
       "  -43.1413,256.437 -31.3587,257.385 -19.5762,258.328 -7.7936,259.266 3.98897,260.2 15.7715,261.129 27.5541,262.053 39.3367,262.973 51.1192,263.888 62.9018,264.798 \n",
       "  74.6844,265.704 86.4669,266.605 98.2495,267.501 110.032,268.394 121.815,269.281 133.597,270.164 145.38,271.043 157.162,271.917 168.945,272.787 180.727,273.653 \n",
       "  192.51,274.514 204.293,275.371 216.075,276.223 227.858,277.071 239.64,277.915 251.423,278.755 263.205,279.59 274.988,280.421 286.771,281.248 298.553,282.071 \n",
       "  310.336,282.89 322.118,283.705 333.901,284.515 345.683,285.322 357.466,286.124 369.249,286.922 381.031,287.716 392.814,288.507 404.596,289.293 416.379,290.075 \n",
       "  428.161,290.854 439.944,291.628 451.727,292.399 463.509,293.166 475.292,293.928 487.074,294.687 498.857,295.442 510.639,296.194 522.422,296.941 534.205,297.685 \n",
       "  545.987,298.425 557.77,299.162 569.552,299.894 581.335,300.623 593.117,301.348 604.9,302.07 616.682,302.788 628.465,303.502 640.248,304.213 652.03,304.92 \n",
       "  663.813,305.624 675.595,306.324 687.378,307.021 699.16,307.714 710.943,308.403 722.726,309.089 734.508,309.772 746.291,310.451 758.073,311.127 769.856,311.799 \n",
       "  781.638,312.468 793.421,313.134 805.204,313.796 816.986,314.455 828.769,315.11 840.551,315.763 852.334,316.412 864.116,317.057 875.899,317.7 887.682,318.339 \n",
       "  \n",
       "  \"/>\n",
       "<polyline clip-path=\"url(#clip02)\" style=\"stroke:#00abab; stroke-width:0.8; stroke-opacity:1; fill:none\" points=\"\n",
       "  -278.793,246.59 -267.01,247.389 -255.228,248.184 -243.445,248.976 -231.662,249.765 -219.88,250.55 -208.097,251.333 -196.315,252.112 -184.532,252.888 -172.75,253.661 \n",
       "  -160.967,254.431 -149.184,255.198 -137.402,255.961 -125.619,256.722 -113.837,257.479 -102.054,258.234 -90.2716,258.985 -78.489,259.734 -66.7064,260.479 -54.9239,261.221 \n",
       "  -43.1413,261.961 -31.3587,262.697 -19.5762,263.431 -7.7936,264.161 3.98897,264.889 15.7715,265.613 27.5541,266.335 39.3367,267.054 51.1192,267.77 62.9018,268.482 \n",
       "  74.6844,269.193 86.4669,269.9 98.2495,270.604 110.032,271.306 121.815,272.004 133.597,272.7 145.38,273.393 157.162,274.084 168.945,274.771 180.727,275.456 \n",
       "  192.51,276.138 204.293,276.817 216.075,277.494 227.858,278.167 239.64,278.839 251.423,279.507 263.205,280.173 274.988,280.835 286.771,281.496 298.553,282.153 \n",
       "  310.336,282.808 322.118,283.461 333.901,284.11 345.683,284.757 357.466,285.402 369.249,286.044 381.031,286.683 392.814,287.32 404.596,287.954 416.379,288.586 \n",
       "  428.161,289.215 439.944,289.841 451.727,290.465 463.509,291.087 475.292,291.705 487.074,292.322 498.857,292.936 510.639,293.547 522.422,294.156 534.205,294.763 \n",
       "  545.987,295.367 557.77,295.969 569.552,296.568 581.335,297.165 593.117,297.759 604.9,298.351 616.682,298.941 628.465,299.528 640.248,300.113 652.03,300.696 \n",
       "  663.813,301.276 675.595,301.854 687.378,302.429 699.16,303.003 710.943,303.574 722.726,304.142 734.508,304.709 746.291,305.273 758.073,305.834 769.856,306.394 \n",
       "  781.638,306.951 793.421,307.506 805.204,308.059 816.986,308.609 828.769,309.158 840.551,309.704 852.334,310.248 864.116,310.789 875.899,311.329 887.682,311.866 \n",
       "  \n",
       "  \"/>\n",
       "<polyline clip-path=\"url(#clip02)\" style=\"stroke:#ff5d5d; stroke-width:0.8; stroke-opacity:1; fill:none\" points=\"\n",
       "  -278.793,253.082 -267.01,253.725 -255.228,254.367 -243.445,255.006 -231.662,255.643 -219.88,256.279 -208.097,256.912 -196.315,257.542 -184.532,258.171 -172.75,258.798 \n",
       "  -160.967,259.422 -149.184,260.045 -137.402,260.665 -125.619,261.283 -113.837,261.899 -102.054,262.513 -90.2716,263.125 -78.489,263.735 -66.7064,264.343 -54.9239,264.949 \n",
       "  -43.1413,265.553 -31.3587,266.155 -19.5762,266.755 -7.7936,267.352 3.98897,267.948 15.7715,268.542 27.5541,269.134 39.3367,269.723 51.1192,270.311 62.9018,270.897 \n",
       "  74.6844,271.481 86.4669,272.063 98.2495,272.642 110.032,273.22 121.815,273.796 133.597,274.371 145.38,274.943 157.162,275.513 168.945,276.081 180.727,276.648 \n",
       "  192.51,277.212 204.293,277.775 216.075,278.335 227.858,278.894 239.64,279.451 251.423,280.006 263.205,280.56 274.988,281.111 286.771,281.66 298.553,282.208 \n",
       "  310.336,282.754 322.118,283.298 333.901,283.84 345.683,284.38 357.466,284.919 369.249,285.456 381.031,285.99 392.814,286.524 404.596,287.055 416.379,287.584 \n",
       "  428.161,288.112 439.944,288.638 451.727,289.162 463.509,289.685 475.292,290.205 487.074,290.724 498.857,291.242 510.639,291.757 522.422,292.271 534.205,292.783 \n",
       "  545.987,293.293 557.77,293.801 569.552,294.308 581.335,294.813 593.117,295.317 604.9,295.819 616.682,296.319 628.465,296.817 640.248,297.314 652.03,297.809 \n",
       "  663.813,298.302 675.595,298.794 687.378,299.284 699.16,299.772 710.943,300.259 722.726,300.744 734.508,301.228 746.291,301.71 758.073,302.19 769.856,302.669 \n",
       "  781.638,303.146 793.421,303.621 805.204,304.095 816.986,304.567 828.769,305.038 840.551,305.507 852.334,305.974 864.116,306.44 875.899,306.905 887.682,307.367 \n",
       "  \n",
       "  \"/>\n",
       "<polyline clip-path=\"url(#clip02)\" style=\"stroke:#cc853f; stroke-width:0.8; stroke-opacity:1; fill:none\" points=\"\n",
       "  -278.793,257.587 -267.01,258.126 -255.228,258.664 -243.445,259.199 -231.662,259.734 -219.88,260.266 -208.097,260.798 -196.315,261.327 -184.532,261.855 -172.75,262.382 \n",
       "  -160.967,262.907 -149.184,263.431 -137.402,263.953 -125.619,264.473 -113.837,264.992 -102.054,265.51 -90.2716,266.026 -78.489,266.541 -66.7064,267.054 -54.9239,267.565 \n",
       "  -43.1413,268.075 -31.3587,268.584 -19.5762,269.091 -7.7936,269.597 3.98897,270.101 15.7715,270.604 27.5541,271.106 39.3367,271.606 51.1192,272.104 62.9018,272.601 \n",
       "  74.6844,273.097 86.4669,273.591 98.2495,274.084 110.032,274.575 121.815,275.065 133.597,275.554 145.38,276.041 157.162,276.526 168.945,277.011 180.727,277.494 \n",
       "  192.51,277.975 204.293,278.455 216.075,278.934 227.858,279.412 239.64,279.888 251.423,280.362 263.205,280.835 274.988,281.307 286.771,281.778 298.553,282.247 \n",
       "  310.336,282.715 322.118,283.181 333.901,283.647 345.683,284.11 357.466,284.573 369.249,285.034 381.031,285.494 392.814,285.952 404.596,286.409 416.379,286.865 \n",
       "  428.161,287.32 439.944,287.773 451.727,288.225 463.509,288.676 475.292,289.125 487.074,289.573 498.857,290.02 510.639,290.465 522.422,290.909 534.205,291.352 \n",
       "  545.987,291.794 557.77,292.234 569.552,292.673 581.335,293.111 593.117,293.547 604.9,293.983 616.682,294.417 628.465,294.849 640.248,295.281 652.03,295.711 \n",
       "  663.813,296.14 675.595,296.568 687.378,296.995 699.16,297.42 710.943,297.844 722.726,298.267 734.508,298.689 746.291,299.109 758.073,299.528 769.856,299.946 \n",
       "  781.638,300.363 793.421,300.779 805.204,301.193 816.986,301.607 828.769,302.019 840.551,302.429 852.334,302.839 864.116,303.248 875.899,303.655 887.682,304.061 \n",
       "  \n",
       "  \"/>\n",
       "<polyline clip-path=\"url(#clip02)\" style=\"stroke:#00abab; stroke-width:0.8; stroke-opacity:1; fill:none\" points=\"\n",
       "  -278.793,260.897 -267.01,261.36 -255.228,261.822 -243.445,262.283 -231.662,262.743 -219.88,263.202 -208.097,263.659 -196.315,264.116 -184.532,264.571 -172.75,265.025 \n",
       "  -160.967,265.478 -149.184,265.929 -137.402,266.38 -125.619,266.829 -113.837,267.278 -102.054,267.725 -90.2716,268.171 -78.489,268.616 -66.7064,269.06 -54.9239,269.502 \n",
       "  -43.1413,269.944 -31.3587,270.384 -19.5762,270.824 -7.7936,271.262 3.98897,271.699 15.7715,272.135 27.5541,272.57 39.3367,273.004 51.1192,273.437 62.9018,273.868 \n",
       "  74.6844,274.299 86.4669,274.728 98.2495,275.157 110.032,275.584 121.815,276.01 133.597,276.435 145.38,276.86 157.162,277.283 168.945,277.705 180.727,278.125 \n",
       "  192.51,278.545 204.293,278.964 216.075,279.382 227.858,279.798 239.64,280.214 251.423,280.629 263.205,281.042 274.988,281.455 286.771,281.866 298.553,282.276 \n",
       "  310.336,282.686 322.118,283.094 333.901,283.501 345.683,283.908 357.466,284.313 369.249,284.717 381.031,285.12 392.814,285.523 404.596,285.924 416.379,286.324 \n",
       "  428.161,286.723 439.944,287.121 451.727,287.518 463.509,287.914 475.292,288.31 487.074,288.704 498.857,289.097 510.639,289.489 522.422,289.88 534.205,290.27 \n",
       "  545.987,290.66 557.77,291.048 569.552,291.435 581.335,291.821 593.117,292.207 604.9,292.591 616.682,292.974 628.465,293.357 640.248,293.738 652.03,294.118 \n",
       "  663.813,294.498 675.595,294.876 687.378,295.254 699.16,295.631 710.943,296.006 722.726,296.381 734.508,296.755 746.291,297.128 758.073,297.5 769.856,297.871 \n",
       "  781.638,298.241 793.421,298.61 805.204,298.978 816.986,299.345 828.769,299.711 840.551,300.077 852.334,300.441 864.116,300.805 875.899,301.167 887.682,301.529 \n",
       "  \n",
       "  \"/>\n",
       "<polyline clip-path=\"url(#clip02)\" style=\"stroke:#969600; stroke-width:0.8; stroke-opacity:1; fill:none\" points=\"\n",
       "  -278.793,263.431 -267.01,263.837 -255.228,264.242 -243.445,264.646 -231.662,265.05 -219.88,265.452 -208.097,265.854 -196.315,266.255 -184.532,266.655 -172.75,267.054 \n",
       "  -160.967,267.452 -149.184,267.849 -137.402,268.245 -125.619,268.641 -113.837,269.035 -102.054,269.429 -90.2716,269.821 -78.489,270.213 -66.7064,270.604 -54.9239,270.994 \n",
       "  -43.1413,271.384 -31.3587,271.772 -19.5762,272.159 -7.7936,272.546 3.98897,272.932 15.7715,273.317 27.5541,273.701 39.3367,274.084 51.1192,274.466 62.9018,274.847 \n",
       "  74.6844,275.228 86.4669,275.608 98.2495,275.987 110.032,276.365 121.815,276.742 133.597,277.118 145.38,277.494 157.162,277.868 168.945,278.242 180.727,278.615 \n",
       "  192.51,278.987 204.293,279.359 216.075,279.729 227.858,280.099 239.64,280.467 251.423,280.835 263.205,281.203 274.988,281.569 286.771,281.934 298.553,282.299 \n",
       "  310.336,282.663 322.118,283.026 333.901,283.388 345.683,283.75 357.466,284.11 369.249,284.47 381.031,284.829 392.814,285.187 404.596,285.545 416.379,285.901 \n",
       "  428.161,286.257 439.944,286.612 451.727,286.966 463.509,287.32 475.292,287.672 487.074,288.024 498.857,288.375 510.639,288.726 522.422,289.075 534.205,289.424 \n",
       "  545.987,289.772 557.77,290.119 569.552,290.465 581.335,290.811 593.117,291.155 604.9,291.499 616.682,291.843 628.465,292.185 640.248,292.527 652.03,292.868 \n",
       "  663.813,293.208 675.595,293.547 687.378,293.886 699.16,294.224 710.943,294.561 722.726,294.897 734.508,295.233 746.291,295.568 758.073,295.902 769.856,296.235 \n",
       "  781.638,296.568 793.421,296.9 805.204,297.231 816.986,297.562 828.769,297.891 840.551,298.22 852.334,298.548 864.116,298.876 875.899,299.202 887.682,299.528 \n",
       "  \n",
       "  \"/>\n",
       "<polyline clip-path=\"url(#clip02)\" style=\"stroke:#00abab; stroke-width:0.8; stroke-opacity:1; fill:none\" points=\"\n",
       "  -278.793,265.432 -267.01,265.794 -255.228,266.155 -243.445,266.515 -231.662,266.874 -219.88,267.233 -208.097,267.591 -196.315,267.948 -184.532,268.305 -172.75,268.66 \n",
       "  -160.967,269.015 -149.184,269.37 -137.402,269.723 -125.619,270.076 -113.837,270.428 -102.054,270.78 -90.2716,271.131 -78.489,271.481 -66.7064,271.83 -54.9239,272.179 \n",
       "  -43.1413,272.527 -31.3587,272.874 -19.5762,273.22 -7.7936,273.566 3.98897,273.911 15.7715,274.256 27.5541,274.6 39.3367,274.943 51.1192,275.285 62.9018,275.627 \n",
       "  74.6844,275.968 86.4669,276.308 98.2495,276.648 110.032,276.987 121.815,277.325 133.597,277.662 145.38,277.999 157.162,278.335 168.945,278.671 180.727,279.006 \n",
       "  192.51,279.34 204.293,279.674 216.075,280.006 227.858,280.338 239.64,280.67 251.423,281.001 263.205,281.331 274.988,281.66 286.771,281.989 298.553,282.317 \n",
       "  310.336,282.645 322.118,282.972 333.901,283.298 345.683,283.623 357.466,283.948 369.249,284.272 381.031,284.596 392.814,284.919 404.596,285.241 416.379,285.563 \n",
       "  428.161,285.884 439.944,286.204 451.727,286.524 463.509,286.843 475.292,287.161 487.074,287.479 498.857,287.796 510.639,288.112 522.422,288.428 534.205,288.743 \n",
       "  545.987,289.058 557.77,289.371 569.552,289.685 581.335,289.997 593.117,290.309 604.9,290.621 616.682,290.931 628.465,291.242 640.248,291.551 652.03,291.86 \n",
       "  663.813,292.168 675.595,292.476 687.378,292.783 699.16,293.089 710.943,293.395 722.726,293.7 734.508,294.004 746.291,294.308 758.073,294.612 769.856,294.914 \n",
       "  781.638,295.216 793.421,295.518 805.204,295.819 816.986,296.119 828.769,296.419 840.551,296.718 852.334,297.016 864.116,297.314 875.899,297.611 887.682,297.908 \n",
       "  \n",
       "  \"/>\n",
       "<polygon clip-path=\"url(#clip00)\" points=\"\n",
       "498.958,206.257 578.063,206.257 578.063,24.817 498.958,24.817 \n",
       "  \" fill=\"#ffffff\" fill-opacity=\"1\"/>\n",
       "<polyline clip-path=\"url(#clip00)\" style=\"stroke:#00002d; stroke-width:0.8; stroke-opacity:1; fill:none\" points=\"\n",
       "  498.958,206.257 578.063,206.257 578.063,24.817 498.958,24.817 498.958,206.257 \n",
       "  \"/>\n",
       "<polyline clip-path=\"url(#clip00)\" style=\"stroke:#0099ff; stroke-width:0.8; stroke-opacity:1; fill:none\" points=\"\n",
       "  504.958,39.937 540.958,39.937 \n",
       "  \"/>\n",
       "<g clip-path=\"url(#clip00)\">\n",
       "<text style=\"fill:#00002d; fill-opacity:1; font-family:Arial,Helvetica Neue,Helvetica,sans-serif; font-size:12; text-anchor:start;\" transform=\"rotate(0, 546.958, 44.437)\" x=\"546.958\" y=\"44.437\">y1</text>\n",
       "</g>\n",
       "<polyline clip-path=\"url(#clip00)\" style=\"stroke:#e9746a; stroke-width:0.8; stroke-opacity:1; fill:none\" points=\"\n",
       "  504.958,55.057 540.958,55.057 \n",
       "  \"/>\n",
       "<g clip-path=\"url(#clip00)\">\n",
       "<text style=\"fill:#00002d; fill-opacity:1; font-family:Arial,Helvetica Neue,Helvetica,sans-serif; font-size:12; text-anchor:start;\" transform=\"rotate(0, 546.958, 59.557)\" x=\"546.958\" y=\"59.557\">y2</text>\n",
       "</g>\n",
       "<polyline clip-path=\"url(#clip00)\" style=\"stroke:#3cb370; stroke-width:0.8; stroke-opacity:1; fill:none\" points=\"\n",
       "  504.958,70.177 540.958,70.177 \n",
       "  \"/>\n",
       "<g clip-path=\"url(#clip00)\">\n",
       "<text style=\"fill:#00002d; fill-opacity:1; font-family:Arial,Helvetica Neue,Helvetica,sans-serif; font-size:12; text-anchor:start;\" transform=\"rotate(0, 546.958, 74.677)\" x=\"546.958\" y=\"74.677\">y3</text>\n",
       "</g>\n",
       "<polyline clip-path=\"url(#clip00)\" style=\"stroke:#d96fd5; stroke-width:0.8; stroke-opacity:1; fill:none\" points=\"\n",
       "  504.958,85.297 540.958,85.297 \n",
       "  \"/>\n",
       "<g clip-path=\"url(#clip00)\">\n",
       "<text style=\"fill:#00002d; fill-opacity:1; font-family:Arial,Helvetica Neue,Helvetica,sans-serif; font-size:12; text-anchor:start;\" transform=\"rotate(0, 546.958, 89.797)\" x=\"546.958\" y=\"89.797\">y4</text>\n",
       "</g>\n",
       "<polyline clip-path=\"url(#clip00)\" style=\"stroke:#b28c19; stroke-width:0.8; stroke-opacity:1; fill:none\" points=\"\n",
       "  504.958,100.417 540.958,100.417 \n",
       "  \"/>\n",
       "<g clip-path=\"url(#clip00)\">\n",
       "<text style=\"fill:#00002d; fill-opacity:1; font-family:Arial,Helvetica Neue,Helvetica,sans-serif; font-size:12; text-anchor:start;\" transform=\"rotate(0, 546.958, 104.917)\" x=\"546.958\" y=\"104.917\">y5</text>\n",
       "</g>\n",
       "<polyline clip-path=\"url(#clip00)\" style=\"stroke:#00abab; stroke-width:0.8; stroke-opacity:1; fill:none\" points=\"\n",
       "  504.958,115.537 540.958,115.537 \n",
       "  \"/>\n",
       "<g clip-path=\"url(#clip00)\">\n",
       "<text style=\"fill:#00002d; fill-opacity:1; font-family:Arial,Helvetica Neue,Helvetica,sans-serif; font-size:12; text-anchor:start;\" transform=\"rotate(0, 546.958, 120.037)\" x=\"546.958\" y=\"120.037\">y6</text>\n",
       "</g>\n",
       "<polyline clip-path=\"url(#clip00)\" style=\"stroke:#ff5d5d; stroke-width:0.8; stroke-opacity:1; fill:none\" points=\"\n",
       "  504.958,130.657 540.958,130.657 \n",
       "  \"/>\n",
       "<g clip-path=\"url(#clip00)\">\n",
       "<text style=\"fill:#00002d; fill-opacity:1; font-family:Arial,Helvetica Neue,Helvetica,sans-serif; font-size:12; text-anchor:start;\" transform=\"rotate(0, 546.958, 135.157)\" x=\"546.958\" y=\"135.157\">y7</text>\n",
       "</g>\n",
       "<polyline clip-path=\"url(#clip00)\" style=\"stroke:#cc853f; stroke-width:0.8; stroke-opacity:1; fill:none\" points=\"\n",
       "  504.958,145.777 540.958,145.777 \n",
       "  \"/>\n",
       "<g clip-path=\"url(#clip00)\">\n",
       "<text style=\"fill:#00002d; fill-opacity:1; font-family:Arial,Helvetica Neue,Helvetica,sans-serif; font-size:12; text-anchor:start;\" transform=\"rotate(0, 546.958, 150.277)\" x=\"546.958\" y=\"150.277\">y8</text>\n",
       "</g>\n",
       "<polyline clip-path=\"url(#clip00)\" style=\"stroke:#00abab; stroke-width:0.8; stroke-opacity:1; fill:none\" points=\"\n",
       "  504.958,160.897 540.958,160.897 \n",
       "  \"/>\n",
       "<g clip-path=\"url(#clip00)\">\n",
       "<text style=\"fill:#00002d; fill-opacity:1; font-family:Arial,Helvetica Neue,Helvetica,sans-serif; font-size:12; text-anchor:start;\" transform=\"rotate(0, 546.958, 165.397)\" x=\"546.958\" y=\"165.397\">y9</text>\n",
       "</g>\n",
       "<polyline clip-path=\"url(#clip00)\" style=\"stroke:#969600; stroke-width:0.8; stroke-opacity:1; fill:none\" points=\"\n",
       "  504.958,176.017 540.958,176.017 \n",
       "  \"/>\n",
       "<g clip-path=\"url(#clip00)\">\n",
       "<text style=\"fill:#00002d; fill-opacity:1; font-family:Arial,Helvetica Neue,Helvetica,sans-serif; font-size:12; text-anchor:start;\" transform=\"rotate(0, 546.958, 180.517)\" x=\"546.958\" y=\"180.517\">y10</text>\n",
       "</g>\n",
       "<polyline clip-path=\"url(#clip00)\" style=\"stroke:#00abab; stroke-width:0.8; stroke-opacity:1; fill:none\" points=\"\n",
       "  504.958,191.137 540.958,191.137 \n",
       "  \"/>\n",
       "<g clip-path=\"url(#clip00)\">\n",
       "<text style=\"fill:#00002d; fill-opacity:1; font-family:Arial,Helvetica Neue,Helvetica,sans-serif; font-size:12; text-anchor:start;\" transform=\"rotate(0, 546.958, 195.637)\" x=\"546.958\" y=\"195.637\">y11</text>\n",
       "</g>\n",
       "</svg>\n"
      ]
     },
     "execution_count": 160,
     "metadata": {},
     "output_type": "execute_result"
    }
   ],
   "source": [
    "xlims!(-0.5, 0.5)"
   ]
  },
  {
   "cell_type": "code",
   "execution_count": 161,
   "metadata": {
    "collapsed": false
   },
   "outputs": [
    {
     "data": {
      "text/html": [
       "<?xml version=\"1.0\" encoding=\"utf-8\"?>\n",
       "<svg xmlns=\"http://www.w3.org/2000/svg\" xmlns:xlink=\"http://www.w3.org/1999/xlink\" width=\"600\" height=\"400\" viewBox=\"0 0 600 400\">\n",
       "<defs>\n",
       "  <clipPath id=\"clip00\">\n",
       "    <rect x=\"0\" y=\"0\" width=\"600\" height=\"400\"/>\n",
       "  </clipPath>\n",
       "</defs>\n",
       "<polygon clip-path=\"url(#clip00)\" points=\"\n",
       "0,400 600,400 600,0 0,0 \n",
       "  \" fill=\"#ffffff\" fill-opacity=\"1\"/>\n",
       "<defs>\n",
       "  <clipPath id=\"clip01\">\n",
       "    <rect x=\"120\" y=\"0\" width=\"421\" height=\"400\"/>\n",
       "  </clipPath>\n",
       "</defs>\n",
       "<polygon clip-path=\"url(#clip00)\" points=\"\n",
       "39.4926,384.952 596.063,384.952 596.063,3.93701 39.4926,3.93701 \n",
       "  \" fill=\"#ffffff\" fill-opacity=\"1\"/>\n",
       "<defs>\n",
       "  <clipPath id=\"clip02\">\n",
       "    <rect x=\"39\" y=\"3\" width=\"557\" height=\"382\"/>\n",
       "  </clipPath>\n",
       "</defs>\n",
       "<polyline clip-path=\"url(#clip02)\" style=\"stroke:#00002d; stroke-width:0.8; stroke-opacity:0.5; fill:none\" stroke-dasharray=\"1, 2\" points=\"\n",
       "  39.4926,379.237 39.4926,9.65223 \n",
       "  \"/>\n",
       "<polyline clip-path=\"url(#clip02)\" style=\"stroke:#00002d; stroke-width:0.8; stroke-opacity:0.5; fill:none\" stroke-dasharray=\"1, 2\" points=\"\n",
       "  178.635,379.237 178.635,9.65223 \n",
       "  \"/>\n",
       "<polyline clip-path=\"url(#clip02)\" style=\"stroke:#00002d; stroke-width:0.8; stroke-opacity:0.5; fill:none\" stroke-dasharray=\"1, 2\" points=\"\n",
       "  317.778,379.237 317.778,9.65223 \n",
       "  \"/>\n",
       "<polyline clip-path=\"url(#clip02)\" style=\"stroke:#00002d; stroke-width:0.8; stroke-opacity:0.5; fill:none\" stroke-dasharray=\"1, 2\" points=\"\n",
       "  456.92,379.237 456.92,9.65223 \n",
       "  \"/>\n",
       "<polyline clip-path=\"url(#clip02)\" style=\"stroke:#00002d; stroke-width:0.8; stroke-opacity:0.5; fill:none\" stroke-dasharray=\"1, 2\" points=\"\n",
       "  596.063,379.237 596.063,9.65223 \n",
       "  \"/>\n",
       "<polyline clip-path=\"url(#clip02)\" style=\"stroke:#00002d; stroke-width:0.8; stroke-opacity:0.5; fill:none\" stroke-dasharray=\"1, 2\" points=\"\n",
       "  47.8411,384.952 587.714,384.952 \n",
       "  \"/>\n",
       "<polyline clip-path=\"url(#clip02)\" style=\"stroke:#00002d; stroke-width:0.8; stroke-opacity:0.5; fill:none\" stroke-dasharray=\"1, 2\" points=\"\n",
       "  47.8411,289.698 587.714,289.698 \n",
       "  \"/>\n",
       "<polyline clip-path=\"url(#clip02)\" style=\"stroke:#00002d; stroke-width:0.8; stroke-opacity:0.5; fill:none\" stroke-dasharray=\"1, 2\" points=\"\n",
       "  47.8411,194.444 587.714,194.444 \n",
       "  \"/>\n",
       "<polyline clip-path=\"url(#clip02)\" style=\"stroke:#00002d; stroke-width:0.8; stroke-opacity:0.5; fill:none\" stroke-dasharray=\"1, 2\" points=\"\n",
       "  47.8411,99.1907 587.714,99.1907 \n",
       "  \"/>\n",
       "<polyline clip-path=\"url(#clip02)\" style=\"stroke:#00002d; stroke-width:0.8; stroke-opacity:0.5; fill:none\" stroke-dasharray=\"1, 2\" points=\"\n",
       "  47.8411,3.93701 587.714,3.93701 \n",
       "  \"/>\n",
       "<polyline clip-path=\"url(#clip02)\" style=\"stroke:#00002d; stroke-width:0.8; stroke-opacity:1; fill:none\" points=\"\n",
       "  39.4926,384.952 596.063,384.952 \n",
       "  \"/>\n",
       "<polyline clip-path=\"url(#clip02)\" style=\"stroke:#00002d; stroke-width:0.8; stroke-opacity:1; fill:none\" points=\"\n",
       "  39.4926,384.952 39.4926,379.237 \n",
       "  \"/>\n",
       "<polyline clip-path=\"url(#clip02)\" style=\"stroke:#00002d; stroke-width:0.8; stroke-opacity:1; fill:none\" points=\"\n",
       "  178.635,384.952 178.635,379.237 \n",
       "  \"/>\n",
       "<polyline clip-path=\"url(#clip02)\" style=\"stroke:#00002d; stroke-width:0.8; stroke-opacity:1; fill:none\" points=\"\n",
       "  317.778,384.952 317.778,379.237 \n",
       "  \"/>\n",
       "<polyline clip-path=\"url(#clip02)\" style=\"stroke:#00002d; stroke-width:0.8; stroke-opacity:1; fill:none\" points=\"\n",
       "  456.92,384.952 456.92,379.237 \n",
       "  \"/>\n",
       "<polyline clip-path=\"url(#clip02)\" style=\"stroke:#00002d; stroke-width:0.8; stroke-opacity:1; fill:none\" points=\"\n",
       "  596.063,384.952 596.063,379.237 \n",
       "  \"/>\n",
       "<polyline clip-path=\"url(#clip02)\" style=\"stroke:#00002d; stroke-width:0.8; stroke-opacity:1; fill:none\" points=\"\n",
       "  39.4926,384.952 39.4926,3.93701 \n",
       "  \"/>\n",
       "<polyline clip-path=\"url(#clip02)\" style=\"stroke:#00002d; stroke-width:0.8; stroke-opacity:1; fill:none\" points=\"\n",
       "  39.4926,384.952 47.8411,384.952 \n",
       "  \"/>\n",
       "<polyline clip-path=\"url(#clip02)\" style=\"stroke:#00002d; stroke-width:0.8; stroke-opacity:1; fill:none\" points=\"\n",
       "  39.4926,289.698 47.8411,289.698 \n",
       "  \"/>\n",
       "<polyline clip-path=\"url(#clip02)\" style=\"stroke:#00002d; stroke-width:0.8; stroke-opacity:1; fill:none\" points=\"\n",
       "  39.4926,194.444 47.8411,194.444 \n",
       "  \"/>\n",
       "<polyline clip-path=\"url(#clip02)\" style=\"stroke:#00002d; stroke-width:0.8; stroke-opacity:1; fill:none\" points=\"\n",
       "  39.4926,99.1907 47.8411,99.1907 \n",
       "  \"/>\n",
       "<polyline clip-path=\"url(#clip02)\" style=\"stroke:#00002d; stroke-width:0.8; stroke-opacity:1; fill:none\" points=\"\n",
       "  39.4926,3.93701 47.8411,3.93701 \n",
       "  \"/>\n",
       "<g clip-path=\"url(#clip00)\">\n",
       "<text style=\"fill:#00002d; fill-opacity:1; font-family:Arial,Helvetica Neue,Helvetica,sans-serif; font-size:12; text-anchor:middle;\" transform=\"rotate(0, 39.4926, 396.952)\" x=\"39.4926\" y=\"396.952\">-0.50</text>\n",
       "</g>\n",
       "<g clip-path=\"url(#clip00)\">\n",
       "<text style=\"fill:#00002d; fill-opacity:1; font-family:Arial,Helvetica Neue,Helvetica,sans-serif; font-size:12; text-anchor:middle;\" transform=\"rotate(0, 178.635, 396.952)\" x=\"178.635\" y=\"396.952\">-0.25</text>\n",
       "</g>\n",
       "<g clip-path=\"url(#clip00)\">\n",
       "<text style=\"fill:#00002d; fill-opacity:1; font-family:Arial,Helvetica Neue,Helvetica,sans-serif; font-size:12; text-anchor:middle;\" transform=\"rotate(0, 317.778, 396.952)\" x=\"317.778\" y=\"396.952\">0.00</text>\n",
       "</g>\n",
       "<g clip-path=\"url(#clip00)\">\n",
       "<text style=\"fill:#00002d; fill-opacity:1; font-family:Arial,Helvetica Neue,Helvetica,sans-serif; font-size:12; text-anchor:middle;\" transform=\"rotate(0, 456.92, 396.952)\" x=\"456.92\" y=\"396.952\">0.25</text>\n",
       "</g>\n",
       "<g clip-path=\"url(#clip00)\">\n",
       "<text style=\"fill:#00002d; fill-opacity:1; font-family:Arial,Helvetica Neue,Helvetica,sans-serif; font-size:12; text-anchor:middle;\" transform=\"rotate(0, 596.063, 396.952)\" x=\"596.063\" y=\"396.952\">0.50</text>\n",
       "</g>\n",
       "<g clip-path=\"url(#clip00)\">\n",
       "<text style=\"fill:#00002d; fill-opacity:1; font-family:Arial,Helvetica Neue,Helvetica,sans-serif; font-size:12; text-anchor:end;\" transform=\"rotate(0, 38.2926, 389.452)\" x=\"38.2926\" y=\"389.452\">0.50</text>\n",
       "</g>\n",
       "<g clip-path=\"url(#clip00)\">\n",
       "<text style=\"fill:#00002d; fill-opacity:1; font-family:Arial,Helvetica Neue,Helvetica,sans-serif; font-size:12; text-anchor:end;\" transform=\"rotate(0, 38.2926, 294.198)\" x=\"38.2926\" y=\"294.198\">0.75</text>\n",
       "</g>\n",
       "<g clip-path=\"url(#clip00)\">\n",
       "<text style=\"fill:#00002d; fill-opacity:1; font-family:Arial,Helvetica Neue,Helvetica,sans-serif; font-size:12; text-anchor:end;\" transform=\"rotate(0, 38.2926, 198.944)\" x=\"38.2926\" y=\"198.944\">1.00</text>\n",
       "</g>\n",
       "<g clip-path=\"url(#clip00)\">\n",
       "<text style=\"fill:#00002d; fill-opacity:1; font-family:Arial,Helvetica Neue,Helvetica,sans-serif; font-size:12; text-anchor:end;\" transform=\"rotate(0, 38.2926, 103.691)\" x=\"38.2926\" y=\"103.691\">1.25</text>\n",
       "</g>\n",
       "<g clip-path=\"url(#clip00)\">\n",
       "<text style=\"fill:#00002d; fill-opacity:1; font-family:Arial,Helvetica Neue,Helvetica,sans-serif; font-size:12; text-anchor:end;\" transform=\"rotate(0, 38.2926, 8.43701)\" x=\"38.2926\" y=\"8.43701\">1.50</text>\n",
       "</g>\n",
       "<polyline clip-path=\"url(#clip02)\" style=\"stroke:#0099ff; stroke-width:0.8; stroke-opacity:1; fill:none\" points=\"\n",
       "  -238.793,435.292 -227.549,432.431 -216.305,429.512 -205.061,426.534 -193.817,423.495 -182.573,420.394 -171.33,417.229 -160.086,414 -148.842,410.705 -137.598,407.343 \n",
       "  -126.354,403.912 -115.11,400.411 -103.866,396.839 -92.6226,393.194 -81.3788,389.474 -70.1349,385.679 -58.8911,381.806 -47.6473,377.854 -36.4034,373.821 -25.1596,369.706 \n",
       "  -13.9157,365.507 -2.67186,361.223 8.57198,356.851 19.8158,352.389 31.0597,347.837 42.3035,343.192 53.5474,338.452 64.7912,333.615 76.0351,328.68 87.2789,323.644 \n",
       "  98.5228,318.505 109.767,313.261 121.01,307.91 132.254,302.45 143.498,296.879 154.742,291.194 165.986,285.393 177.23,279.473 188.474,273.433 199.717,267.269 \n",
       "  210.961,260.98 222.205,254.562 233.449,248.013 244.693,241.331 255.937,234.512 267.18,227.554 278.424,220.455 289.668,213.21 300.912,205.817 312.156,198.274 \n",
       "  323.4,190.576 334.644,182.722 345.887,174.707 357.131,166.529 368.375,158.183 379.619,149.668 390.863,140.979 402.107,132.112 413.35,123.064 424.594,113.832 \n",
       "  435.838,104.411 447.082,94.7986 458.326,84.9895 469.57,74.9803 480.814,64.7668 492.057,54.3449 503.301,43.7102 514.545,32.8586 525.789,21.7855 537.033,10.4864 \n",
       "  548.277,-1.04327 559.52,-12.8082 570.764,-24.8133 582.008,-37.0633 593.252,-49.5633 604.496,-62.3185 615.74,-75.3339 626.984,-88.6149 638.227,-102.167 649.471,-115.996 \n",
       "  660.715,-130.106 671.959,-144.505 683.203,-159.198 694.447,-174.19 705.691,-189.489 716.934,-205.1 728.178,-221.029 739.422,-237.283 750.666,-253.869 761.91,-270.794 \n",
       "  773.154,-288.063 784.397,-305.686 795.641,-323.668 806.885,-342.017 818.129,-360.74 829.373,-379.845 840.617,-399.341 851.861,-419.234 863.104,-439.533 874.348,-460.246 \n",
       "  \n",
       "  \"/>\n",
       "<polyline clip-path=\"url(#clip02)\" style=\"stroke:#e9746a; stroke-width:0.8; stroke-opacity:1; fill:none\" points=\"\n",
       "  -238.793,-460.246 -227.549,-439.533 -216.305,-419.234 -205.061,-399.341 -193.817,-379.845 -182.573,-360.74 -171.33,-342.017 -160.086,-323.668 -148.842,-305.686 -137.598,-288.063 \n",
       "  -126.354,-270.794 -115.11,-253.869 -103.866,-237.283 -92.6226,-221.029 -81.3788,-205.1 -70.1349,-189.489 -58.8911,-174.19 -47.6473,-159.198 -36.4034,-144.505 -25.1596,-130.106 \n",
       "  -13.9157,-115.996 -2.67186,-102.167 8.57198,-88.6149 19.8158,-75.3339 31.0597,-62.3185 42.3035,-49.5633 53.5474,-37.0633 64.7912,-24.8133 76.0351,-12.8082 87.2789,-1.04327 \n",
       "  98.5228,10.4864 109.767,21.7855 121.01,32.8586 132.254,43.7102 143.498,54.3449 154.742,64.7668 165.986,74.9803 177.23,84.9895 188.474,94.7986 199.717,104.411 \n",
       "  210.961,113.832 222.205,123.064 233.449,132.112 244.693,140.979 255.937,149.668 267.18,158.183 278.424,166.529 289.668,174.707 300.912,182.722 312.156,190.576 \n",
       "  323.4,198.274 334.644,205.817 345.887,213.21 357.131,220.455 368.375,227.554 379.619,234.512 390.863,241.331 402.107,248.013 413.35,254.562 424.594,260.98 \n",
       "  435.838,267.269 447.082,273.433 458.326,279.473 469.57,285.393 480.814,291.194 492.057,296.879 503.301,302.45 514.545,307.91 525.789,313.261 537.033,318.505 \n",
       "  548.277,323.644 559.52,328.68 570.764,333.615 582.008,338.452 593.252,343.192 604.496,347.837 615.74,352.389 626.984,356.851 638.227,361.223 649.471,365.507 \n",
       "  660.715,369.706 671.959,373.821 683.203,377.854 694.447,381.806 705.691,385.679 716.934,389.474 728.178,393.194 739.422,396.839 750.666,400.411 761.91,403.912 \n",
       "  773.154,407.343 784.397,410.705 795.641,414 806.885,417.229 818.129,420.394 829.373,423.495 840.617,426.534 851.861,429.512 863.104,432.431 874.348,435.292 \n",
       "  \n",
       "  \"/>\n",
       "<polyline clip-path=\"url(#clip02)\" style=\"stroke:#3cb370; stroke-width:0.8; stroke-opacity:1; fill:none\" points=\"\n",
       "  -238.793,-52.728 -227.549,-46.4146 -216.305,-40.1647 -205.061,-33.9776 -193.817,-27.8526 -182.573,-21.7892 -171.33,-15.7868 -160.086,-9.84467 -148.842,-3.96226 -137.598,1.86102 \n",
       "  -126.354,7.62578 -115.11,13.3326 -103.866,18.9821 -92.6226,24.5748 -81.3788,30.1112 -70.1349,35.5921 -58.8911,41.0178 -47.6473,46.3891 -36.4034,51.7063 -25.1596,56.9701 \n",
       "  -13.9157,62.181 -2.67186,67.3395 8.57198,72.4462 19.8158,77.5016 31.0597,82.5062 42.3035,87.4604 53.5474,92.3649 64.7912,97.2201 76.0351,102.026 87.2789,106.785 \n",
       "  98.5228,111.495 109.767,116.158 121.01,120.774 132.254,125.343 143.498,129.867 154.742,134.345 165.986,138.779 177.23,143.167 188.474,147.512 199.717,151.813 \n",
       "  210.961,156.071 222.205,160.286 233.449,164.458 244.693,168.589 255.937,172.678 267.18,176.726 278.424,180.733 289.668,184.7 300.912,188.628 312.156,192.515 \n",
       "  323.4,196.364 334.644,200.174 345.887,203.946 357.131,207.679 368.375,211.376 379.619,215.035 390.863,218.657 402.107,222.243 413.35,225.793 424.594,229.307 \n",
       "  435.838,232.786 447.082,236.23 458.326,239.639 469.57,243.014 480.814,246.355 492.057,249.663 503.301,252.937 514.545,256.179 525.789,259.387 537.033,262.564 \n",
       "  548.277,265.709 559.52,268.822 570.764,271.903 582.008,274.954 593.252,277.974 604.496,280.964 615.74,283.924 626.984,286.854 638.227,289.754 649.471,292.626 \n",
       "  660.715,295.468 671.959,298.282 683.203,301.068 694.447,303.826 705.691,306.556 716.934,309.258 728.178,311.933 739.422,314.582 750.666,317.204 761.91,319.799 \n",
       "  773.154,322.369 784.397,324.912 795.641,327.43 806.885,329.923 818.129,332.391 829.373,334.834 840.617,337.252 851.861,339.646 863.104,342.016 874.348,344.362 \n",
       "  \n",
       "  \"/>\n",
       "<polyline clip-path=\"url(#clip02)\" style=\"stroke:#d96fd5; stroke-width:0.8; stroke-opacity:1; fill:none\" points=\"\n",
       "  -238.793,43.7102 -227.549,47.279 -216.305,50.8238 -205.061,54.3449 -193.817,57.8422 -182.573,61.3162 -171.33,64.7668 -160.086,68.1942 -148.842,71.5987 -137.598,74.9803 \n",
       "  -126.354,78.3392 -115.11,81.6756 -103.866,84.9895 -92.6226,88.2813 -81.3788,91.5509 -70.1349,94.7986 -58.8911,98.0245 -47.6473,101.229 -36.4034,104.411 -25.1596,107.573 \n",
       "  -13.9157,110.713 -2.67186,113.832 8.57198,116.93 19.8158,120.008 31.0597,123.064 42.3035,126.101 53.5474,129.116 64.7912,132.112 76.0351,135.087 87.2789,138.043 \n",
       "  98.5228,140.979 109.767,143.895 121.01,146.791 132.254,149.668 143.498,152.526 154.742,155.364 165.986,158.183 177.23,160.984 188.474,163.766 199.717,166.529 \n",
       "  210.961,169.273 222.205,171.999 233.449,174.707 244.693,177.397 255.937,180.068 267.18,182.722 278.424,185.358 289.668,187.976 300.912,190.576 312.156,193.159 \n",
       "  323.4,195.725 334.644,198.274 345.887,200.805 357.131,203.32 368.375,205.817 379.619,208.298 390.863,210.762 402.107,213.21 413.35,215.641 424.594,218.056 \n",
       "  435.838,220.455 447.082,222.837 458.326,225.204 469.57,227.554 480.814,229.889 492.057,232.209 503.301,234.512 514.545,236.8 525.789,239.073 537.033,241.331 \n",
       "  548.277,243.573 559.52,245.801 570.764,248.013 582.008,250.211 593.252,252.394 604.496,254.562 615.74,256.716 626.984,258.855 638.227,260.98 649.471,263.09 \n",
       "  660.715,265.187 671.959,267.269 683.203,269.337 694.447,271.392 705.691,273.433 716.934,275.46 728.178,277.473 739.422,279.473 750.666,281.459 761.91,283.433 \n",
       "  773.154,285.393 784.397,287.339 795.641,289.273 806.885,291.194 818.129,293.102 829.373,294.997 840.617,296.879 851.861,298.748 863.104,300.606 874.348,302.45 \n",
       "  \n",
       "  \"/>\n",
       "<polyline clip-path=\"url(#clip02)\" style=\"stroke:#b28c19; stroke-width:0.8; stroke-opacity:1; fill:none\" points=\"\n",
       "  -238.793,86.2265 -227.549,88.6912 -216.305,91.1434 -205.061,93.5833 -193.817,96.0109 -182.573,98.4262 -171.33,100.829 -160.086,103.22 -148.842,105.6 -137.598,107.967 \n",
       "  -126.354,110.322 -115.11,112.665 -103.866,114.996 -92.6226,117.316 -81.3788,119.624 -70.1349,121.921 -58.8911,124.205 -47.6473,126.479 -36.4034,128.741 -25.1596,130.991 \n",
       "  -13.9157,133.23 -2.67186,135.458 8.57198,137.675 19.8158,139.88 31.0597,142.074 42.3035,144.258 53.5474,146.43 64.7912,148.591 76.0351,150.742 87.2789,152.881 \n",
       "  98.5228,155.01 109.767,157.128 121.01,159.236 132.254,161.333 143.498,163.419 154.742,165.495 165.986,167.56 177.23,169.615 188.474,171.66 199.717,173.694 \n",
       "  210.961,175.718 222.205,177.732 233.449,179.735 244.693,181.729 255.937,183.712 267.18,185.686 278.424,187.649 289.668,189.603 300.912,191.547 312.156,193.481 \n",
       "  323.4,195.405 334.644,197.32 345.887,199.225 357.131,201.12 368.375,203.006 379.619,204.883 390.863,206.749 402.107,208.607 413.35,210.455 424.594,212.294 \n",
       "  435.838,214.123 447.082,215.944 458.326,217.755 469.57,219.557 480.814,221.35 492.057,223.134 503.301,224.909 514.545,226.675 525.789,228.432 537.033,230.18 \n",
       "  548.277,231.919 559.52,233.65 570.764,235.372 582.008,237.085 593.252,238.79 604.496,240.486 615.74,242.174 626.984,243.853 638.227,245.523 649.471,247.185 \n",
       "  660.715,248.839 671.959,250.485 683.203,252.122 694.447,253.751 705.691,255.371 716.934,256.984 728.178,258.588 739.422,260.185 750.666,261.773 761.91,263.353 \n",
       "  773.154,264.925 784.397,266.49 795.641,268.046 806.885,269.595 818.129,271.136 829.373,272.669 840.617,274.194 851.861,275.712 863.104,277.222 874.348,278.725 \n",
       "  \n",
       "  \"/>\n",
       "<polyline clip-path=\"url(#clip02)\" style=\"stroke:#00abab; stroke-width:0.8; stroke-opacity:1; fill:none\" points=\"\n",
       "  -238.793,110.087 -227.549,111.963 -216.305,113.832 -205.061,115.694 -193.817,117.547 -182.573,119.394 -171.33,121.233 -160.086,123.064 -148.842,124.889 -137.598,126.705 \n",
       "  -126.354,128.515 -115.11,130.317 -103.866,132.112 -92.6226,133.9 -81.3788,135.68 -70.1349,137.453 -58.8911,139.22 -47.6473,140.979 -36.4034,142.731 -25.1596,144.475 \n",
       "  -13.9157,146.213 -2.67186,147.944 8.57198,149.668 19.8158,151.385 31.0597,153.095 42.3035,154.798 53.5474,156.494 64.7912,158.183 76.0351,159.866 87.2789,161.542 \n",
       "  98.5228,163.211 109.767,164.873 121.01,166.529 132.254,168.178 143.498,169.82 154.742,171.456 165.986,173.085 177.23,174.707 188.474,176.323 199.717,177.932 \n",
       "  210.961,179.535 222.205,181.132 233.449,182.722 244.693,184.305 255.937,185.883 267.18,187.454 278.424,189.018 289.668,190.576 300.912,192.128 312.156,193.674 \n",
       "  323.4,195.213 334.644,196.747 345.887,198.274 357.131,199.795 368.375,201.309 379.619,202.818 390.863,204.321 402.107,205.817 413.35,207.308 424.594,208.792 \n",
       "  435.838,210.271 447.082,211.743 458.326,213.21 469.57,214.67 480.814,216.125 492.057,217.574 503.301,219.017 514.545,220.455 525.789,221.886 537.033,223.312 \n",
       "  548.277,224.732 559.52,226.146 570.764,227.554 582.008,228.957 593.252,230.354 604.496,231.746 615.74,233.132 626.984,234.512 638.227,235.887 649.471,237.256 \n",
       "  660.715,238.62 671.959,239.978 683.203,241.331 694.447,242.678 705.691,244.02 716.934,245.357 728.178,246.688 739.422,248.013 750.666,249.334 761.91,250.649 \n",
       "  773.154,251.958 784.397,253.263 795.641,254.562 806.885,255.856 818.129,257.145 829.373,258.428 840.617,259.707 851.861,260.98 863.104,262.248 874.348,263.511 \n",
       "  \n",
       "  \"/>\n",
       "<polyline clip-path=\"url(#clip02)\" style=\"stroke:#ff5d5d; stroke-width:0.8; stroke-opacity:1; fill:none\" points=\"\n",
       "  -238.793,125.343 -227.549,126.856 -216.305,128.364 -205.061,129.867 -193.817,131.365 -182.573,132.858 -171.33,134.345 -160.086,135.828 -148.842,137.306 -137.598,138.779 \n",
       "  -126.354,140.247 -115.11,141.709 -103.866,143.167 -92.6226,144.621 -81.3788,146.069 -70.1349,147.512 -58.8911,148.951 -47.6473,150.384 -36.4034,151.813 -25.1596,153.237 \n",
       "  -13.9157,154.656 -2.67186,156.071 8.57198,157.48 19.8158,158.885 31.0597,160.286 42.3035,161.681 53.5474,163.072 64.7912,164.458 76.0351,165.84 87.2789,167.217 \n",
       "  98.5228,168.589 109.767,169.956 121.01,171.319 132.254,172.678 143.498,174.032 154.742,175.381 165.986,176.726 177.23,178.066 188.474,179.402 199.717,180.733 \n",
       "  210.961,182.06 222.205,183.382 233.449,184.7 244.693,186.014 255.937,187.323 267.18,188.628 278.424,189.928 289.668,191.224 300.912,192.515 312.156,193.802 \n",
       "  323.4,195.085 334.644,196.364 345.887,197.638 357.131,198.908 368.375,200.174 379.619,201.435 390.863,202.693 402.107,203.946 413.35,205.194 424.594,206.439 \n",
       "  435.838,207.679 447.082,208.916 458.326,210.148 469.57,211.376 480.814,212.599 492.057,213.819 503.301,215.035 514.545,216.246 525.789,217.454 537.033,218.657 \n",
       "  548.277,219.856 559.52,221.052 570.764,222.243 582.008,223.43 593.252,224.614 604.496,225.793 615.74,226.968 626.984,228.14 638.227,229.307 649.471,230.471 \n",
       "  660.715,231.63 671.959,232.786 683.203,233.938 694.447,235.086 705.691,236.23 716.934,237.37 728.178,238.507 739.422,239.639 750.666,240.768 761.91,241.893 \n",
       "  773.154,243.014 784.397,244.132 795.641,245.245 806.885,246.355 818.129,247.462 829.373,248.564 840.617,249.663 851.861,250.758 863.104,251.849 874.348,252.937 \n",
       "  \n",
       "  \"/>\n",
       "<polyline clip-path=\"url(#clip02)\" style=\"stroke:#cc853f; stroke-width:0.8; stroke-opacity:1; fill:none\" points=\"\n",
       "  -238.793,135.934 -227.549,137.201 -216.305,138.464 -205.061,139.723 -193.817,140.979 -182.573,142.231 -171.33,143.479 -160.086,144.724 -148.842,145.965 -137.598,147.203 \n",
       "  -126.354,148.437 -115.11,149.668 -103.866,150.895 -92.6226,152.119 -81.3788,153.339 -70.1349,154.555 -58.8911,155.768 -47.6473,156.977 -36.4034,158.183 -25.1596,159.386 \n",
       "  -13.9157,160.585 -2.67186,161.781 8.57198,162.973 19.8158,164.162 31.0597,165.347 42.3035,166.529 53.5474,167.707 64.7912,168.882 76.0351,170.054 87.2789,171.222 \n",
       "  98.5228,172.387 109.767,173.549 121.01,174.707 132.254,175.862 143.498,177.014 154.742,178.162 165.986,179.307 177.23,180.448 188.474,181.587 199.717,182.722 \n",
       "  210.961,183.854 222.205,184.982 233.449,186.107 244.693,187.23 255.937,188.348 267.18,189.464 278.424,190.576 289.668,191.685 300.912,192.791 312.156,193.894 \n",
       "  323.4,194.994 334.644,196.09 345.887,197.184 357.131,198.274 368.375,199.361 379.619,200.445 390.863,201.525 402.107,202.603 413.35,203.677 424.594,204.749 \n",
       "  435.838,205.817 447.082,206.882 458.326,207.945 469.57,209.004 480.814,210.06 492.057,211.113 503.301,212.163 514.545,213.21 525.789,214.254 537.033,215.295 \n",
       "  548.277,216.333 559.52,217.368 570.764,218.399 582.008,219.428 593.252,220.455 604.496,221.478 615.74,222.498 626.984,223.515 638.227,224.529 649.471,225.54 \n",
       "  660.715,226.549 671.959,227.554 683.203,228.557 694.447,229.557 705.691,230.554 716.934,231.547 728.178,232.539 739.422,233.527 750.666,234.512 761.91,235.495 \n",
       "  773.154,236.475 784.397,237.451 795.641,238.425 806.885,239.397 818.129,240.365 829.373,241.331 840.617,242.294 851.861,243.254 863.104,244.211 874.348,245.166 \n",
       "  \n",
       "  \"/>\n",
       "<polyline clip-path=\"url(#clip02)\" style=\"stroke:#00abab; stroke-width:0.8; stroke-opacity:1; fill:none\" points=\"\n",
       "  -238.793,143.713 -227.549,144.802 -216.305,145.888 -205.061,146.971 -193.817,148.052 -182.573,149.13 -171.33,150.205 -160.086,151.278 -148.842,152.348 -137.598,153.415 \n",
       "  -126.354,154.479 -115.11,155.541 -103.866,156.6 -92.6226,157.656 -81.3788,158.71 -70.1349,159.761 -58.8911,160.809 -47.6473,161.855 -36.4034,162.898 -25.1596,163.939 \n",
       "  -13.9157,164.977 -2.67186,166.012 8.57198,167.045 19.8158,168.075 31.0597,169.102 42.3035,170.127 53.5474,171.149 64.7912,172.169 76.0351,173.186 87.2789,174.201 \n",
       "  98.5228,175.213 109.767,176.222 121.01,177.229 132.254,178.233 143.498,179.235 154.742,180.235 165.986,181.231 177.23,182.226 188.474,183.217 199.717,184.207 \n",
       "  210.961,185.193 222.205,186.178 233.449,187.159 244.693,188.139 255.937,189.116 267.18,190.09 278.424,191.062 289.668,192.031 300.912,192.998 312.156,193.963 \n",
       "  323.4,194.925 334.644,195.885 345.887,196.842 357.131,197.797 368.375,198.75 379.619,199.7 390.863,200.647 402.107,201.593 413.35,202.536 424.594,203.476 \n",
       "  435.838,204.414 447.082,205.35 458.326,206.284 469.57,207.215 480.814,208.143 492.057,209.07 503.301,209.994 514.545,210.916 525.789,211.835 537.033,212.752 \n",
       "  548.277,213.667 559.52,214.579 570.764,215.489 582.008,216.397 593.252,217.303 604.496,218.206 615.74,219.107 626.984,220.006 638.227,220.902 649.471,221.797 \n",
       "  660.715,222.689 671.959,223.578 683.203,224.466 694.447,225.351 705.691,226.234 716.934,227.115 728.178,227.993 739.422,228.87 750.666,229.744 761.91,230.616 \n",
       "  773.154,231.485 784.397,232.353 795.641,233.218 806.885,234.081 818.129,234.942 829.373,235.801 840.617,236.658 851.861,237.512 863.104,238.365 874.348,239.215 \n",
       "  \n",
       "  \"/>\n",
       "<polyline clip-path=\"url(#clip02)\" style=\"stroke:#969600; stroke-width:0.8; stroke-opacity:1; fill:none\" points=\"\n",
       "  -238.793,149.668 -227.549,150.623 -216.305,151.575 -205.061,152.526 -193.817,153.474 -182.573,154.42 -171.33,155.364 -160.086,156.306 -148.842,157.246 -137.598,158.183 \n",
       "  -126.354,159.119 -115.11,160.053 -103.866,160.984 -92.6226,161.913 -81.3788,162.841 -70.1349,163.766 -58.8911,164.689 -47.6473,165.61 -36.4034,166.529 -25.1596,167.446 \n",
       "  -13.9157,168.36 -2.67186,169.273 8.57198,170.184 19.8158,171.093 31.0597,171.999 42.3035,172.904 53.5474,173.806 64.7912,174.707 76.0351,175.606 87.2789,176.502 \n",
       "  98.5228,177.397 109.767,178.289 121.01,179.18 132.254,180.068 143.498,180.955 154.742,181.839 165.986,182.722 177.23,183.602 188.474,184.481 199.717,185.358 \n",
       "  210.961,186.232 222.205,187.105 233.449,187.976 244.693,188.845 255.937,189.711 267.18,190.576 278.424,191.439 289.668,192.3 300.912,193.159 312.156,194.017 \n",
       "  323.4,194.872 334.644,195.725 345.887,196.577 357.131,197.426 368.375,198.274 379.619,199.119 390.863,199.963 402.107,200.805 413.35,201.645 424.594,202.483 \n",
       "  435.838,203.32 447.082,204.154 458.326,204.987 469.57,205.817 480.814,206.646 492.057,207.473 503.301,208.298 514.545,209.121 525.789,209.943 537.033,210.762 \n",
       "  548.277,211.58 559.52,212.396 570.764,213.21 582.008,214.022 593.252,214.832 604.496,215.641 615.74,216.448 626.984,217.253 638.227,218.056 649.471,218.857 \n",
       "  660.715,219.657 671.959,220.455 683.203,221.25 694.447,222.045 705.691,222.837 716.934,223.628 728.178,224.417 739.422,225.204 750.666,225.989 761.91,226.773 \n",
       "  773.154,227.554 784.397,228.334 795.641,229.113 806.885,229.889 818.129,230.664 829.373,231.437 840.617,232.209 851.861,232.978 863.104,233.746 874.348,234.512 \n",
       "  \n",
       "  \"/>\n",
       "<polyline clip-path=\"url(#clip02)\" style=\"stroke:#00abab; stroke-width:0.8; stroke-opacity:1; fill:none\" points=\"\n",
       "  -238.793,154.373 -227.549,155.223 -216.305,156.071 -205.061,156.917 -193.817,157.762 -182.573,158.605 -171.33,159.446 -160.086,160.286 -148.842,161.124 -137.598,161.96 \n",
       "  -126.354,162.794 -115.11,163.627 -103.866,164.458 -92.6226,165.288 -81.3788,166.115 -70.1349,166.942 -58.8911,167.766 -47.6473,168.589 -36.4034,169.41 -25.1596,170.229 \n",
       "  -13.9157,171.047 -2.67186,171.863 8.57198,172.678 19.8158,173.491 31.0597,174.302 42.3035,175.112 53.5474,175.92 64.7912,176.726 76.0351,177.531 87.2789,178.334 \n",
       "  98.5228,179.135 109.767,179.935 121.01,180.733 132.254,181.53 143.498,182.325 154.742,183.118 165.986,183.91 177.23,184.7 188.474,185.489 199.717,186.276 \n",
       "  210.961,187.061 222.205,187.845 233.449,188.628 244.693,189.408 255.937,190.187 267.18,190.965 278.424,191.741 289.668,192.515 300.912,193.288 312.156,194.059 \n",
       "  323.4,194.829 334.644,195.597 345.887,196.364 357.131,197.129 368.375,197.893 379.619,198.655 390.863,199.415 402.107,200.174 413.35,200.931 424.594,201.687 \n",
       "  435.838,202.441 447.082,203.194 458.326,203.946 469.57,204.695 480.814,205.444 492.057,206.19 503.301,206.936 514.545,207.679 525.789,208.422 537.033,209.162 \n",
       "  548.277,209.902 559.52,210.639 570.764,211.376 582.008,212.11 593.252,212.844 604.496,213.575 615.74,214.306 626.984,215.035 638.227,215.762 649.471,216.488 \n",
       "  660.715,217.212 671.959,217.935 683.203,218.657 694.447,219.377 705.691,220.096 716.934,220.813 728.178,221.529 739.422,222.243 750.666,222.956 761.91,223.667 \n",
       "  773.154,224.377 784.397,225.086 795.641,225.793 806.885,226.499 818.129,227.203 829.373,227.906 840.617,228.607 851.861,229.307 863.104,230.006 874.348,230.703 \n",
       "  \n",
       "  \"/>\n",
       "<polygon clip-path=\"url(#clip00)\" points=\"\n",
       "498.958,206.257 578.063,206.257 578.063,24.817 498.958,24.817 \n",
       "  \" fill=\"#ffffff\" fill-opacity=\"1\"/>\n",
       "<polyline clip-path=\"url(#clip00)\" style=\"stroke:#00002d; stroke-width:0.8; stroke-opacity:1; fill:none\" points=\"\n",
       "  498.958,206.257 578.063,206.257 578.063,24.817 498.958,24.817 498.958,206.257 \n",
       "  \"/>\n",
       "<polyline clip-path=\"url(#clip00)\" style=\"stroke:#0099ff; stroke-width:0.8; stroke-opacity:1; fill:none\" points=\"\n",
       "  504.958,39.937 540.958,39.937 \n",
       "  \"/>\n",
       "<g clip-path=\"url(#clip00)\">\n",
       "<text style=\"fill:#00002d; fill-opacity:1; font-family:Arial,Helvetica Neue,Helvetica,sans-serif; font-size:12; text-anchor:start;\" transform=\"rotate(0, 546.958, 44.437)\" x=\"546.958\" y=\"44.437\">y1</text>\n",
       "</g>\n",
       "<polyline clip-path=\"url(#clip00)\" style=\"stroke:#e9746a; stroke-width:0.8; stroke-opacity:1; fill:none\" points=\"\n",
       "  504.958,55.057 540.958,55.057 \n",
       "  \"/>\n",
       "<g clip-path=\"url(#clip00)\">\n",
       "<text style=\"fill:#00002d; fill-opacity:1; font-family:Arial,Helvetica Neue,Helvetica,sans-serif; font-size:12; text-anchor:start;\" transform=\"rotate(0, 546.958, 59.557)\" x=\"546.958\" y=\"59.557\">y2</text>\n",
       "</g>\n",
       "<polyline clip-path=\"url(#clip00)\" style=\"stroke:#3cb370; stroke-width:0.8; stroke-opacity:1; fill:none\" points=\"\n",
       "  504.958,70.177 540.958,70.177 \n",
       "  \"/>\n",
       "<g clip-path=\"url(#clip00)\">\n",
       "<text style=\"fill:#00002d; fill-opacity:1; font-family:Arial,Helvetica Neue,Helvetica,sans-serif; font-size:12; text-anchor:start;\" transform=\"rotate(0, 546.958, 74.677)\" x=\"546.958\" y=\"74.677\">y3</text>\n",
       "</g>\n",
       "<polyline clip-path=\"url(#clip00)\" style=\"stroke:#d96fd5; stroke-width:0.8; stroke-opacity:1; fill:none\" points=\"\n",
       "  504.958,85.297 540.958,85.297 \n",
       "  \"/>\n",
       "<g clip-path=\"url(#clip00)\">\n",
       "<text style=\"fill:#00002d; fill-opacity:1; font-family:Arial,Helvetica Neue,Helvetica,sans-serif; font-size:12; text-anchor:start;\" transform=\"rotate(0, 546.958, 89.797)\" x=\"546.958\" y=\"89.797\">y4</text>\n",
       "</g>\n",
       "<polyline clip-path=\"url(#clip00)\" style=\"stroke:#b28c19; stroke-width:0.8; stroke-opacity:1; fill:none\" points=\"\n",
       "  504.958,100.417 540.958,100.417 \n",
       "  \"/>\n",
       "<g clip-path=\"url(#clip00)\">\n",
       "<text style=\"fill:#00002d; fill-opacity:1; font-family:Arial,Helvetica Neue,Helvetica,sans-serif; font-size:12; text-anchor:start;\" transform=\"rotate(0, 546.958, 104.917)\" x=\"546.958\" y=\"104.917\">y5</text>\n",
       "</g>\n",
       "<polyline clip-path=\"url(#clip00)\" style=\"stroke:#00abab; stroke-width:0.8; stroke-opacity:1; fill:none\" points=\"\n",
       "  504.958,115.537 540.958,115.537 \n",
       "  \"/>\n",
       "<g clip-path=\"url(#clip00)\">\n",
       "<text style=\"fill:#00002d; fill-opacity:1; font-family:Arial,Helvetica Neue,Helvetica,sans-serif; font-size:12; text-anchor:start;\" transform=\"rotate(0, 546.958, 120.037)\" x=\"546.958\" y=\"120.037\">y6</text>\n",
       "</g>\n",
       "<polyline clip-path=\"url(#clip00)\" style=\"stroke:#ff5d5d; stroke-width:0.8; stroke-opacity:1; fill:none\" points=\"\n",
       "  504.958,130.657 540.958,130.657 \n",
       "  \"/>\n",
       "<g clip-path=\"url(#clip00)\">\n",
       "<text style=\"fill:#00002d; fill-opacity:1; font-family:Arial,Helvetica Neue,Helvetica,sans-serif; font-size:12; text-anchor:start;\" transform=\"rotate(0, 546.958, 135.157)\" x=\"546.958\" y=\"135.157\">y7</text>\n",
       "</g>\n",
       "<polyline clip-path=\"url(#clip00)\" style=\"stroke:#cc853f; stroke-width:0.8; stroke-opacity:1; fill:none\" points=\"\n",
       "  504.958,145.777 540.958,145.777 \n",
       "  \"/>\n",
       "<g clip-path=\"url(#clip00)\">\n",
       "<text style=\"fill:#00002d; fill-opacity:1; font-family:Arial,Helvetica Neue,Helvetica,sans-serif; font-size:12; text-anchor:start;\" transform=\"rotate(0, 546.958, 150.277)\" x=\"546.958\" y=\"150.277\">y8</text>\n",
       "</g>\n",
       "<polyline clip-path=\"url(#clip00)\" style=\"stroke:#00abab; stroke-width:0.8; stroke-opacity:1; fill:none\" points=\"\n",
       "  504.958,160.897 540.958,160.897 \n",
       "  \"/>\n",
       "<g clip-path=\"url(#clip00)\">\n",
       "<text style=\"fill:#00002d; fill-opacity:1; font-family:Arial,Helvetica Neue,Helvetica,sans-serif; font-size:12; text-anchor:start;\" transform=\"rotate(0, 546.958, 165.397)\" x=\"546.958\" y=\"165.397\">y9</text>\n",
       "</g>\n",
       "<polyline clip-path=\"url(#clip00)\" style=\"stroke:#969600; stroke-width:0.8; stroke-opacity:1; fill:none\" points=\"\n",
       "  504.958,176.017 540.958,176.017 \n",
       "  \"/>\n",
       "<g clip-path=\"url(#clip00)\">\n",
       "<text style=\"fill:#00002d; fill-opacity:1; font-family:Arial,Helvetica Neue,Helvetica,sans-serif; font-size:12; text-anchor:start;\" transform=\"rotate(0, 546.958, 180.517)\" x=\"546.958\" y=\"180.517\">y10</text>\n",
       "</g>\n",
       "<polyline clip-path=\"url(#clip00)\" style=\"stroke:#00abab; stroke-width:0.8; stroke-opacity:1; fill:none\" points=\"\n",
       "  504.958,191.137 540.958,191.137 \n",
       "  \"/>\n",
       "<g clip-path=\"url(#clip00)\">\n",
       "<text style=\"fill:#00002d; fill-opacity:1; font-family:Arial,Helvetica Neue,Helvetica,sans-serif; font-size:12; text-anchor:start;\" transform=\"rotate(0, 546.958, 195.637)\" x=\"546.958\" y=\"195.637\">y11</text>\n",
       "</g>\n",
       "</svg>\n"
      ]
     },
     "execution_count": 161,
     "metadata": {},
     "output_type": "execute_result"
    }
   ],
   "source": [
    "ylims!(0.5, 1.5)"
   ]
  },
  {
   "cell_type": "code",
   "execution_count": 162,
   "metadata": {
    "collapsed": false
   },
   "outputs": [
    {
     "data": {
      "text/html": [
       "<?xml version=\"1.0\" encoding=\"utf-8\"?>\n",
       "<svg xmlns=\"http://www.w3.org/2000/svg\" xmlns:xlink=\"http://www.w3.org/1999/xlink\" width=\"600\" height=\"400\" viewBox=\"0 0 600 400\">\n",
       "<defs>\n",
       "  <clipPath id=\"clip00\">\n",
       "    <rect x=\"0\" y=\"0\" width=\"600\" height=\"400\"/>\n",
       "  </clipPath>\n",
       "</defs>\n",
       "<polygon clip-path=\"url(#clip00)\" points=\"\n",
       "0,400 600,400 600,0 0,0 \n",
       "  \" fill=\"#ffffff\" fill-opacity=\"1\"/>\n",
       "<defs>\n",
       "  <clipPath id=\"clip01\">\n",
       "    <rect x=\"120\" y=\"0\" width=\"421\" height=\"400\"/>\n",
       "  </clipPath>\n",
       "</defs>\n",
       "<polygon clip-path=\"url(#clip00)\" points=\"\n",
       "30.6037,384.952 596.063,384.952 596.063,3.93701 30.6037,3.93701 \n",
       "  \" fill=\"#ffffff\" fill-opacity=\"1\"/>\n",
       "<defs>\n",
       "  <clipPath id=\"clip02\">\n",
       "    <rect x=\"30\" y=\"3\" width=\"566\" height=\"382\"/>\n",
       "  </clipPath>\n",
       "</defs>\n",
       "<polyline clip-path=\"url(#clip02)\" style=\"stroke:#00002d; stroke-width:0.8; stroke-opacity:0.5; fill:none\" stroke-dasharray=\"1, 2\" points=\"\n",
       "  71.3382,379.237 71.3382,9.65223 \n",
       "  \"/>\n",
       "<polyline clip-path=\"url(#clip02)\" style=\"stroke:#00002d; stroke-width:0.8; stroke-opacity:0.5; fill:none\" stroke-dasharray=\"1, 2\" points=\"\n",
       "  245.749,379.237 245.749,9.65223 \n",
       "  \"/>\n",
       "<polyline clip-path=\"url(#clip02)\" style=\"stroke:#00002d; stroke-width:0.8; stroke-opacity:0.5; fill:none\" stroke-dasharray=\"1, 2\" points=\"\n",
       "  420.16,379.237 420.16,9.65223 \n",
       "  \"/>\n",
       "<polyline clip-path=\"url(#clip02)\" style=\"stroke:#00002d; stroke-width:0.8; stroke-opacity:0.5; fill:none\" stroke-dasharray=\"1, 2\" points=\"\n",
       "  594.571,379.237 594.571,9.65223 \n",
       "  \"/>\n",
       "<polyline clip-path=\"url(#clip02)\" style=\"stroke:#00002d; stroke-width:0.8; stroke-opacity:0.5; fill:none\" stroke-dasharray=\"1, 2\" points=\"\n",
       "  39.0856,297.497 587.581,297.497 \n",
       "  \"/>\n",
       "<polyline clip-path=\"url(#clip02)\" style=\"stroke:#00002d; stroke-width:0.8; stroke-opacity:0.5; fill:none\" stroke-dasharray=\"1, 2\" points=\"\n",
       "  39.0856,147.763 587.581,147.763 \n",
       "  \"/>\n",
       "<polyline clip-path=\"url(#clip02)\" style=\"stroke:#00002d; stroke-width:0.8; stroke-opacity:1; fill:none\" points=\"\n",
       "  30.6037,384.952 596.063,384.952 \n",
       "  \"/>\n",
       "<polyline clip-path=\"url(#clip02)\" style=\"stroke:#00002d; stroke-width:0.8; stroke-opacity:1; fill:none\" points=\"\n",
       "  71.3382,384.952 71.3382,379.237 \n",
       "  \"/>\n",
       "<polyline clip-path=\"url(#clip02)\" style=\"stroke:#00002d; stroke-width:0.8; stroke-opacity:1; fill:none\" points=\"\n",
       "  245.749,384.952 245.749,379.237 \n",
       "  \"/>\n",
       "<polyline clip-path=\"url(#clip02)\" style=\"stroke:#00002d; stroke-width:0.8; stroke-opacity:1; fill:none\" points=\"\n",
       "  420.16,384.952 420.16,379.237 \n",
       "  \"/>\n",
       "<polyline clip-path=\"url(#clip02)\" style=\"stroke:#00002d; stroke-width:0.8; stroke-opacity:1; fill:none\" points=\"\n",
       "  594.571,384.952 594.571,379.237 \n",
       "  \"/>\n",
       "<polyline clip-path=\"url(#clip02)\" style=\"stroke:#00002d; stroke-width:0.8; stroke-opacity:1; fill:none\" points=\"\n",
       "  30.6037,384.952 30.6037,3.93701 \n",
       "  \"/>\n",
       "<polyline clip-path=\"url(#clip02)\" style=\"stroke:#00002d; stroke-width:0.8; stroke-opacity:1; fill:none\" points=\"\n",
       "  30.6037,297.497 39.0856,297.497 \n",
       "  \"/>\n",
       "<polyline clip-path=\"url(#clip02)\" style=\"stroke:#00002d; stroke-width:0.8; stroke-opacity:1; fill:none\" points=\"\n",
       "  30.6037,147.763 39.0856,147.763 \n",
       "  \"/>\n",
       "<g clip-path=\"url(#clip00)\">\n",
       "<text style=\"fill:#00002d; fill-opacity:1; font-family:Arial,Helvetica Neue,Helvetica,sans-serif; font-size:12; text-anchor:middle;\" transform=\"rotate(0, 71.3382, 396.952)\" x=\"71.3382\" y=\"396.952\">-10</text>\n",
       "</g>\n",
       "<g clip-path=\"url(#clip00)\">\n",
       "<text style=\"fill:#00002d; fill-opacity:1; font-family:Arial,Helvetica Neue,Helvetica,sans-serif; font-size:12; text-anchor:middle;\" transform=\"rotate(0, 245.749, 396.952)\" x=\"245.749\" y=\"396.952\">0</text>\n",
       "</g>\n",
       "<g clip-path=\"url(#clip00)\">\n",
       "<text style=\"fill:#00002d; fill-opacity:1; font-family:Arial,Helvetica Neue,Helvetica,sans-serif; font-size:12; text-anchor:middle;\" transform=\"rotate(0, 420.16, 396.952)\" x=\"420.16\" y=\"396.952\">10</text>\n",
       "</g>\n",
       "<g clip-path=\"url(#clip00)\">\n",
       "<text style=\"fill:#00002d; fill-opacity:1; font-family:Arial,Helvetica Neue,Helvetica,sans-serif; font-size:12; text-anchor:middle;\" transform=\"rotate(0, 594.571, 396.952)\" x=\"594.571\" y=\"396.952\">20</text>\n",
       "</g>\n",
       "<g clip-path=\"url(#clip00)\">\n",
       "<text style=\"fill:#00002d; fill-opacity:1; font-family:Arial,Helvetica Neue,Helvetica,sans-serif; font-size:12; text-anchor:end;\" transform=\"rotate(0, 29.4037, 301.997)\" x=\"29.4037\" y=\"301.997\">-10</text>\n",
       "</g>\n",
       "<g clip-path=\"url(#clip00)\">\n",
       "<text style=\"fill:#00002d; fill-opacity:1; font-family:Arial,Helvetica Neue,Helvetica,sans-serif; font-size:12; text-anchor:end;\" transform=\"rotate(0, 29.4037, 152.263)\" x=\"29.4037\" y=\"152.263\">0</text>\n",
       "</g>\n",
       "<polyline clip-path=\"url(#clip02)\" style=\"stroke:#0099ff; stroke-width:0.8; stroke-opacity:1; fill:none\" points=\"\n",
       "  248.11,147.763 248.14,147.436 248.109,147.101 248.014,146.766 247.856,146.44 247.634,146.132 247.352,145.85 247.013,145.604 246.624,145.402 246.191,145.251 \n",
       "  245.725,145.158 245.236,145.128 244.734,145.166 244.234,145.273 243.747,145.451 243.288,145.699 242.869,146.013 242.504,146.39 242.205,146.822 241.983,147.3 \n",
       "  241.848,147.816 241.809,148.356 241.87,148.909 242.036,149.461 242.308,149.996 242.684,150.501 243.159,150.96 243.726,151.359 244.376,151.685 245.095,151.924 \n",
       "  245.868,152.068 246.678,152.106 247.505,152.033 248.329,151.844 249.128,151.538 249.88,151.119 250.563,150.59 251.155,149.959 251.636,149.239 251.988,148.443 \n",
       "  252.195,147.588 252.244,146.694 252.125,145.781 251.834,144.874 251.369,143.995 250.733,143.169 249.933,142.421 248.983,141.774 247.9,141.251 246.704,140.871 \n",
       "  245.422,140.651 244.082,140.606 242.717,140.746 241.361,141.076 240.05,141.599 238.82,142.309 237.708,143.199 236.749,144.254 235.976,145.455 235.418,146.779 \n",
       "  235.103,148.196 235.049,149.675 235.272,151.18 235.781,152.674 236.576,154.116 237.653,155.466 238.997,156.684 240.586,157.732 242.393,158.573 244.38,159.175 \n",
       "  246.506,159.509 248.721,159.554 250.973,159.292 253.204,158.715 255.356,157.822 257.367,156.62 259.177,155.125 260.73,153.36 261.971,151.357 262.852,149.158 \n",
       "  263.331,146.808 263.375,144.363 262.961,141.88 262.074,139.423 260.715,137.058 258.895,134.851 256.637,132.867 253.979,131.171 250.967,129.822 247.665,128.872 \n",
       "  244.141,128.367 240.479,128.343 236.765,128.826 233.095,129.829 229.567,131.353 226.28,133.385 223.333,135.897 220.82,138.848 218.83,142.186 217.441,145.841 \n",
       "  216.721,149.734 216.723,153.777 217.483,157.871 219.023,161.911 221.34,165.79 224.416,169.397 228.207,172.624 232.653,175.367 237.671,177.53 243.158,179.026 \n",
       "  248.996,179.782 255.049,179.739 261.172,178.857 267.207,177.117 272.991,174.52 278.362,171.089 283.156,166.872 287.219,161.937 290.407,156.377 292.591,150.306 \n",
       "  293.663,143.855 293.538,137.174 292.156,130.425 289.489,123.782 285.541,117.424 280.349,111.532 273.984,106.283 266.554,101.849 258.196,98.3865 249.082,96.0371 \n",
       "  239.411,94.9194 229.407,95.1259 219.315,96.7197 209.395,99.7304 199.914,104.152 191.143,109.943 183.348,117.02 176.783,125.267 171.683,134.527 168.258,144.61 \n",
       "  166.682,155.295 167.093,166.334 169.582,177.456 174.191,188.375 180.909,198.794 189.669,208.416 200.347,216.948 212.762,224.11 226.68,229.644 241.814,233.323 \n",
       "  257.831,234.953 274.357,234.388 290.987,231.528 307.29,226.33 322.825,218.81 337.145,209.044 349.812,197.172 360.411,183.396 368.558,167.979 373.913,151.238 \n",
       "  376.192,133.544 375.177,115.309 370.726,96.9841 362.777,79.0423 351.357,61.9729 336.588,46.2674 318.682,32.4067 297.946,20.8484 274.776,12.0134 249.653,6.27306 \n",
       "  223.133,3.93701 195.838,5.24177 168.441,10.3409 141.655,19.2965 116.21,32.0731 92.8409,48.5337 72.2666,68.4375 55.1688,91.4414 42.1738,117.104 33.8327,144.89 \n",
       "  30.6037,174.184 32.8345,204.297 40.7483,234.483 54.4309,263.956 73.8218,291.91 98.7081,317.535 128.722,340.041 163.344,358.679 201.904,372.761 243.598,381.685 \n",
       "  287.498,384.952 332.568,382.184 377.69,373.143 421.687,357.743 463.351,336.057 501.471,308.33 534.868,274.975 562.426,236.574 583.123,193.872 596.063,147.763 \n",
       "  \n",
       "  \"/>\n",
       "<polygon clip-path=\"url(#clip00)\" points=\"\n",
       "505.547,55.057 578.063,55.057 578.063,24.817 505.547,24.817 \n",
       "  \" fill=\"#ffffff\" fill-opacity=\"1\"/>\n",
       "<polyline clip-path=\"url(#clip00)\" style=\"stroke:#00002d; stroke-width:0.8; stroke-opacity:1; fill:none\" points=\"\n",
       "  505.547,55.057 578.063,55.057 578.063,24.817 505.547,24.817 505.547,55.057 \n",
       "  \"/>\n",
       "<polyline clip-path=\"url(#clip00)\" style=\"stroke:#0099ff; stroke-width:0.8; stroke-opacity:1; fill:none\" points=\"\n",
       "  511.547,39.937 547.547,39.937 \n",
       "  \"/>\n",
       "<g clip-path=\"url(#clip00)\">\n",
       "<text style=\"fill:#00002d; fill-opacity:1; font-family:Arial,Helvetica Neue,Helvetica,sans-serif; font-size:12; text-anchor:start;\" transform=\"rotate(0, 553.547, 44.437)\" x=\"553.547\" y=\"44.437\">y1</text>\n",
       "</g>\n",
       "</svg>\n"
      ]
     },
     "execution_count": 162,
     "metadata": {},
     "output_type": "execute_result"
    }
   ],
   "source": [
    "t = linspace(-2, 3, 200)\n",
    "x = cos(t*pi*2) .* exp(t) # x(t) = cos(2πt)×e^t\n",
    "y = sin(t*pi*2) .* exp(t)\n",
    "plot(x, y)"
   ]
  },
  {
   "cell_type": "code",
   "execution_count": 163,
   "metadata": {
    "collapsed": false
   },
   "outputs": [
    {
     "data": {
      "text/html": [
       "<?xml version=\"1.0\" encoding=\"utf-8\"?>\n",
       "<svg xmlns=\"http://www.w3.org/2000/svg\" xmlns:xlink=\"http://www.w3.org/1999/xlink\" width=\"600\" height=\"400\" viewBox=\"0 0 600 400\">\n",
       "<defs>\n",
       "  <clipPath id=\"clip00\">\n",
       "    <rect x=\"0\" y=\"0\" width=\"600\" height=\"400\"/>\n",
       "  </clipPath>\n",
       "</defs>\n",
       "<polygon clip-path=\"url(#clip00)\" points=\"\n",
       "0,400 600,400 600,0 0,0 \n",
       "  \" fill=\"#ffffff\" fill-opacity=\"1\"/>\n",
       "<defs>\n",
       "  <clipPath id=\"clip01\">\n",
       "    <rect x=\"120\" y=\"0\" width=\"421\" height=\"400\"/>\n",
       "  </clipPath>\n",
       "</defs>\n",
       "<polygon clip-path=\"url(#clip00)\" points=\"\n",
       "21.7148,384.952 596.063,384.952 596.063,3.93701 21.7148,3.93701 \n",
       "  \" fill=\"#ffffff\" fill-opacity=\"1\"/>\n",
       "<defs>\n",
       "  <clipPath id=\"clip02\">\n",
       "    <rect x=\"21\" y=\"3\" width=\"575\" height=\"382\"/>\n",
       "  </clipPath>\n",
       "</defs>\n",
       "<polyline clip-path=\"url(#clip02)\" style=\"stroke:#00002d; stroke-width:0.8; stroke-opacity:0.5; fill:none\" stroke-dasharray=\"1, 2\" points=\"\n",
       "  21.7148,379.237 21.7148,9.65223 \n",
       "  \"/>\n",
       "<polyline clip-path=\"url(#clip02)\" style=\"stroke:#00002d; stroke-width:0.8; stroke-opacity:0.5; fill:none\" stroke-dasharray=\"1, 2\" points=\"\n",
       "  204.535,379.237 204.535,9.65223 \n",
       "  \"/>\n",
       "<polyline clip-path=\"url(#clip02)\" style=\"stroke:#00002d; stroke-width:0.8; stroke-opacity:0.5; fill:none\" stroke-dasharray=\"1, 2\" points=\"\n",
       "  387.356,379.237 387.356,9.65223 \n",
       "  \"/>\n",
       "<polyline clip-path=\"url(#clip02)\" style=\"stroke:#00002d; stroke-width:0.8; stroke-opacity:0.5; fill:none\" stroke-dasharray=\"1, 2\" points=\"\n",
       "  570.177,379.237 570.177,9.65223 \n",
       "  \"/>\n",
       "<polyline clip-path=\"url(#clip02)\" style=\"stroke:#00002d; stroke-width:0.8; stroke-opacity:0.5; fill:none\" stroke-dasharray=\"1, 2\" points=\"\n",
       "  30.33,353.201 587.448,353.201 \n",
       "  \"/>\n",
       "<polyline clip-path=\"url(#clip02)\" style=\"stroke:#00002d; stroke-width:0.8; stroke-opacity:0.5; fill:none\" stroke-dasharray=\"1, 2\" points=\"\n",
       "  30.33,194.444 587.448,194.444 \n",
       "  \"/>\n",
       "<polyline clip-path=\"url(#clip02)\" style=\"stroke:#00002d; stroke-width:0.8; stroke-opacity:0.5; fill:none\" stroke-dasharray=\"1, 2\" points=\"\n",
       "  30.33,35.6882 587.448,35.6882 \n",
       "  \"/>\n",
       "<polyline clip-path=\"url(#clip02)\" style=\"stroke:#00002d; stroke-width:0.8; stroke-opacity:1; fill:none\" points=\"\n",
       "  21.7148,384.952 596.063,384.952 \n",
       "  \"/>\n",
       "<polyline clip-path=\"url(#clip02)\" style=\"stroke:#00002d; stroke-width:0.8; stroke-opacity:1; fill:none\" points=\"\n",
       "  21.7148,384.952 21.7148,379.237 \n",
       "  \"/>\n",
       "<polyline clip-path=\"url(#clip02)\" style=\"stroke:#00002d; stroke-width:0.8; stroke-opacity:1; fill:none\" points=\"\n",
       "  204.535,384.952 204.535,379.237 \n",
       "  \"/>\n",
       "<polyline clip-path=\"url(#clip02)\" style=\"stroke:#00002d; stroke-width:0.8; stroke-opacity:1; fill:none\" points=\"\n",
       "  387.356,384.952 387.356,379.237 \n",
       "  \"/>\n",
       "<polyline clip-path=\"url(#clip02)\" style=\"stroke:#00002d; stroke-width:0.8; stroke-opacity:1; fill:none\" points=\"\n",
       "  570.177,384.952 570.177,379.237 \n",
       "  \"/>\n",
       "<polyline clip-path=\"url(#clip02)\" style=\"stroke:#00002d; stroke-width:0.8; stroke-opacity:1; fill:none\" points=\"\n",
       "  21.7148,384.952 21.7148,3.93701 \n",
       "  \"/>\n",
       "<polyline clip-path=\"url(#clip02)\" style=\"stroke:#00002d; stroke-width:0.8; stroke-opacity:1; fill:none\" points=\"\n",
       "  21.7148,353.201 30.33,353.201 \n",
       "  \"/>\n",
       "<polyline clip-path=\"url(#clip02)\" style=\"stroke:#00002d; stroke-width:0.8; stroke-opacity:1; fill:none\" points=\"\n",
       "  21.7148,194.444 30.33,194.444 \n",
       "  \"/>\n",
       "<polyline clip-path=\"url(#clip02)\" style=\"stroke:#00002d; stroke-width:0.8; stroke-opacity:1; fill:none\" points=\"\n",
       "  21.7148,35.6882 30.33,35.6882 \n",
       "  \"/>\n",
       "<g clip-path=\"url(#clip00)\">\n",
       "<text style=\"fill:#00002d; fill-opacity:1; font-family:Arial,Helvetica Neue,Helvetica,sans-serif; font-size:12; text-anchor:middle;\" transform=\"rotate(0, 21.7148, 396.952)\" x=\"21.7148\" y=\"396.952\">0</text>\n",
       "</g>\n",
       "<g clip-path=\"url(#clip00)\">\n",
       "<text style=\"fill:#00002d; fill-opacity:1; font-family:Arial,Helvetica Neue,Helvetica,sans-serif; font-size:12; text-anchor:middle;\" transform=\"rotate(0, 204.535, 396.952)\" x=\"204.535\" y=\"396.952\">2</text>\n",
       "</g>\n",
       "<g clip-path=\"url(#clip00)\">\n",
       "<text style=\"fill:#00002d; fill-opacity:1; font-family:Arial,Helvetica Neue,Helvetica,sans-serif; font-size:12; text-anchor:middle;\" transform=\"rotate(0, 387.356, 396.952)\" x=\"387.356\" y=\"396.952\">4</text>\n",
       "</g>\n",
       "<g clip-path=\"url(#clip00)\">\n",
       "<text style=\"fill:#00002d; fill-opacity:1; font-family:Arial,Helvetica Neue,Helvetica,sans-serif; font-size:12; text-anchor:middle;\" transform=\"rotate(0, 570.177, 396.952)\" x=\"570.177\" y=\"396.952\">6</text>\n",
       "</g>\n",
       "<g clip-path=\"url(#clip00)\">\n",
       "<text style=\"fill:#00002d; fill-opacity:1; font-family:Arial,Helvetica Neue,Helvetica,sans-serif; font-size:12; text-anchor:end;\" transform=\"rotate(0, 20.5148, 357.701)\" x=\"20.5148\" y=\"357.701\">-1</text>\n",
       "</g>\n",
       "<g clip-path=\"url(#clip00)\">\n",
       "<text style=\"fill:#00002d; fill-opacity:1; font-family:Arial,Helvetica Neue,Helvetica,sans-serif; font-size:12; text-anchor:end;\" transform=\"rotate(0, 20.5148, 198.944)\" x=\"20.5148\" y=\"198.944\">0</text>\n",
       "</g>\n",
       "<g clip-path=\"url(#clip00)\">\n",
       "<text style=\"fill:#00002d; fill-opacity:1; font-family:Arial,Helvetica Neue,Helvetica,sans-serif; font-size:12; text-anchor:end;\" transform=\"rotate(0, 20.5148, 40.1882)\" x=\"20.5148\" y=\"40.1882\">1</text>\n",
       "</g>\n",
       "<polyline clip-path=\"url(#clip02)\" style=\"stroke:#0099ff; stroke-width:0.8; stroke-opacity:1; fill:none\" points=\"\n",
       "  21.7148,194.444 27.5163,184.376 33.3178,174.347 39.1193,164.4 44.9208,154.573 50.7223,144.907 56.5238,135.441 62.3253,126.212 68.1268,117.258 73.9283,108.614 \n",
       "  79.7298,100.317 85.5313,92.3979 91.3328,84.8901 97.1342,77.8235 102.936,71.2264 108.737,65.1255 114.539,59.5453 120.34,54.5083 126.142,50.0347 131.943,46.1427 \n",
       "  137.745,42.8478 143.546,40.1633 149.348,38.1001 155.149,36.6664 160.951,35.8681 166.752,35.7082 172.554,36.1876 178.355,37.3042 184.157,39.0535 189.958,41.4285 \n",
       "  195.76,44.4197 201.561,48.015 207.363,52.1999 213.164,56.9575 218.966,62.2688 224.767,68.1123 230.569,74.4645 236.37,81.2998 242.172,88.5907 247.973,96.3079 \n",
       "  253.775,104.42 259.576,112.895 265.378,121.698 271.179,130.794 276.981,140.147 282.782,149.718 288.584,159.469 294.385,169.361 300.187,179.354 305.988,189.407 \n",
       "  311.79,199.481 317.591,209.535 323.393,219.528 329.194,229.42 334.996,239.171 340.797,248.742 346.599,258.095 352.4,267.191 358.202,275.994 364.003,284.469 \n",
       "  369.805,292.581 375.606,300.298 381.408,307.589 387.209,314.424 393.011,320.777 398.812,326.62 404.614,331.931 410.415,336.689 416.217,340.874 422.018,344.469 \n",
       "  427.82,347.46 433.621,349.835 439.423,351.585 445.224,352.701 451.026,353.181 456.827,353.021 462.629,352.222 468.43,350.789 474.232,348.726 480.033,346.041 \n",
       "  485.835,342.746 491.636,338.854 497.438,334.381 503.239,329.344 509.041,323.763 514.842,317.663 520.644,311.065 526.445,303.999 532.247,296.491 538.048,288.572 \n",
       "  543.85,280.275 549.651,271.631 555.453,262.677 561.254,253.448 567.056,243.982 572.857,234.316 578.659,224.489 584.46,214.542 590.261,204.513 596.063,194.444 \n",
       "  \n",
       "  \"/>\n",
       "<polyline clip-path=\"url(#clip02)\" style=\"stroke:#008100; stroke-width:0.8; stroke-opacity:1; fill:none\" points=\"\n",
       "  21.7148,35.6882 27.5163,36.0079 33.3178,36.9655 39.1193,38.5572 44.9208,40.7766 50.7223,43.6148 56.5238,47.0603 62.3253,51.0993 68.1268,55.7154 73.9283,60.8902 \n",
       "  79.7298,66.6028 85.5313,72.8301 91.3328,79.5472 97.1342,86.7269 102.936,94.3403 108.737,102.357 114.539,110.744 120.34,119.468 126.142,128.495 131.943,137.787 \n",
       "  137.745,147.306 143.546,157.016 149.348,166.877 155.149,176.848 160.951,186.891 166.752,196.963 172.554,207.026 178.355,217.038 184.157,226.959 189.958,236.749 \n",
       "  195.76,246.369 201.561,255.779 207.363,264.943 213.164,273.823 218.966,282.383 224.767,290.589 230.569,298.408 236.37,305.808 242.172,312.76 247.973,319.235 \n",
       "  253.775,325.208 259.576,330.655 265.378,335.553 271.179,339.882 276.981,343.626 282.782,346.77 288.584,349.3 294.385,351.206 300.187,352.482 305.988,353.121 \n",
       "  311.79,353.121 317.591,352.482 323.393,351.206 329.194,349.3 334.996,346.77 340.797,343.626 346.599,339.882 352.4,335.553 358.202,330.655 364.003,325.208 \n",
       "  369.805,319.235 375.606,312.76 381.408,305.808 387.209,298.408 393.011,290.589 398.812,282.383 404.614,273.823 410.415,264.943 416.217,255.779 422.018,246.369 \n",
       "  427.82,236.749 433.621,226.959 439.423,217.038 445.224,207.026 451.026,196.963 456.827,186.891 462.629,176.848 468.43,166.877 474.232,157.016 480.033,147.306 \n",
       "  485.835,137.787 491.636,128.495 497.438,119.468 503.239,110.744 509.041,102.357 514.842,94.3403 520.644,86.7269 526.445,79.5472 532.247,72.8301 538.048,66.6028 \n",
       "  543.85,60.8902 549.651,55.7154 555.453,51.0993 561.254,47.0603 567.056,43.6148 572.857,40.7766 578.659,38.5572 584.46,36.9655 590.261,36.0079 596.063,35.6882 \n",
       "  \n",
       "  \"/>\n",
       "<polyline clip-path=\"url(#clip02)\" style=\"stroke:#ff0000; stroke-width:0.8; stroke-opacity:1; fill:none\" stroke-dasharray=\"8, 5\" points=\"\n",
       "  21.7148,35.6882 27.5163,35.6882 33.3178,35.6882 39.1193,35.6882 44.9208,35.6882 50.7223,35.6882 56.5238,35.6882 62.3253,35.6882 68.1268,35.6882 73.9283,35.6882 \n",
       "  79.7298,35.6882 85.5313,35.6882 91.3328,35.6882 97.1342,35.6882 102.936,35.6882 108.737,35.6882 114.539,35.6882 120.34,35.6882 126.142,35.6882 131.943,35.6882 \n",
       "  137.745,35.6882 143.546,35.6882 149.348,35.6882 155.149,35.6882 160.951,35.6882 166.752,35.6882 172.554,35.6882 178.355,35.6882 184.157,35.6882 189.958,35.6882 \n",
       "  195.76,35.6882 201.561,35.6882 207.363,35.6882 213.164,35.6882 218.966,35.6882 224.767,35.6882 230.569,35.6882 236.37,35.6882 242.172,35.6882 247.973,35.6882 \n",
       "  253.775,35.6882 259.576,35.6882 265.378,35.6882 271.179,35.6882 276.981,35.6882 282.782,35.6882 288.584,35.6882 294.385,35.6882 300.187,35.6882 305.988,35.6882 \n",
       "  311.79,35.6882 317.591,35.6882 323.393,35.6882 329.194,35.6882 334.996,35.6882 340.797,35.6882 346.599,35.6882 352.4,35.6882 358.202,35.6882 364.003,35.6882 \n",
       "  369.805,35.6882 375.606,35.6882 381.408,35.6882 387.209,35.6882 393.011,35.6882 398.812,35.6882 404.614,35.6882 410.415,35.6882 416.217,35.6882 422.018,35.6882 \n",
       "  427.82,35.6882 433.621,35.6882 439.423,35.6882 445.224,35.6882 451.026,35.6882 456.827,35.6882 462.629,35.6882 468.43,35.6882 474.232,35.6882 480.033,35.6882 \n",
       "  485.835,35.6882 491.636,35.6882 497.438,35.6882 503.239,35.6882 509.041,35.6882 514.842,35.6882 520.644,35.6882 526.445,35.6882 532.247,35.6882 538.048,35.6882 \n",
       "  543.85,35.6882 549.651,35.6882 555.453,35.6882 561.254,35.6882 567.056,35.6882 572.857,35.6882 578.659,35.6882 584.46,35.6882 590.261,35.6882 596.063,35.6882 \n",
       "  \n",
       "  \"/>\n",
       "<polyline clip-path=\"url(#clip02)\" style=\"stroke:#ff0000; stroke-width:0.8; stroke-opacity:1; fill:none\" stroke-dasharray=\"8, 5\" points=\"\n",
       "  21.7148,353.201 27.5163,353.201 33.3178,353.201 39.1193,353.201 44.9208,353.201 50.7223,353.201 56.5238,353.201 62.3253,353.201 68.1268,353.201 73.9283,353.201 \n",
       "  79.7298,353.201 85.5313,353.201 91.3328,353.201 97.1342,353.201 102.936,353.201 108.737,353.201 114.539,353.201 120.34,353.201 126.142,353.201 131.943,353.201 \n",
       "  137.745,353.201 143.546,353.201 149.348,353.201 155.149,353.201 160.951,353.201 166.752,353.201 172.554,353.201 178.355,353.201 184.157,353.201 189.958,353.201 \n",
       "  195.76,353.201 201.561,353.201 207.363,353.201 213.164,353.201 218.966,353.201 224.767,353.201 230.569,353.201 236.37,353.201 242.172,353.201 247.973,353.201 \n",
       "  253.775,353.201 259.576,353.201 265.378,353.201 271.179,353.201 276.981,353.201 282.782,353.201 288.584,353.201 294.385,353.201 300.187,353.201 305.988,353.201 \n",
       "  311.79,353.201 317.591,353.201 323.393,353.201 329.194,353.201 334.996,353.201 340.797,353.201 346.599,353.201 352.4,353.201 358.202,353.201 364.003,353.201 \n",
       "  369.805,353.201 375.606,353.201 381.408,353.201 387.209,353.201 393.011,353.201 398.812,353.201 404.614,353.201 410.415,353.201 416.217,353.201 422.018,353.201 \n",
       "  427.82,353.201 433.621,353.201 439.423,353.201 445.224,353.201 451.026,353.201 456.827,353.201 462.629,353.201 468.43,353.201 474.232,353.201 480.033,353.201 \n",
       "  485.835,353.201 491.636,353.201 497.438,353.201 503.239,353.201 509.041,353.201 514.842,353.201 520.644,353.201 526.445,353.201 532.247,353.201 538.048,353.201 \n",
       "  543.85,353.201 549.651,353.201 555.453,353.201 561.254,353.201 567.056,353.201 572.857,353.201 578.659,353.201 584.46,353.201 590.261,353.201 596.063,353.201 \n",
       "  \n",
       "  \"/>\n",
       "<polygon clip-path=\"url(#clip00)\" points=\"\n",
       "499.622,70.177 578.063,70.177 578.063,24.817 499.622,24.817 \n",
       "  \" fill=\"#ffffff\" fill-opacity=\"1\"/>\n",
       "<polyline clip-path=\"url(#clip00)\" style=\"stroke:#00002d; stroke-width:0.8; stroke-opacity:1; fill:none\" points=\"\n",
       "  499.622,70.177 578.063,70.177 578.063,24.817 499.622,24.817 499.622,70.177 \n",
       "  \"/>\n",
       "<polyline clip-path=\"url(#clip00)\" style=\"stroke:#0099ff; stroke-width:0.8; stroke-opacity:1; fill:none\" points=\"\n",
       "  505.622,39.937 541.622,39.937 \n",
       "  \"/>\n",
       "<g clip-path=\"url(#clip00)\">\n",
       "<text style=\"fill:#00002d; fill-opacity:1; font-family:Arial,Helvetica Neue,Helvetica,sans-serif; font-size:12; text-anchor:start;\" transform=\"rotate(0, 547.622, 44.437)\" x=\"547.622\" y=\"44.437\">sin</text>\n",
       "</g>\n",
       "<polyline clip-path=\"url(#clip00)\" style=\"stroke:#008100; stroke-width:0.8; stroke-opacity:1; fill:none\" points=\"\n",
       "  505.622,55.057 541.622,55.057 \n",
       "  \"/>\n",
       "<g clip-path=\"url(#clip00)\">\n",
       "<text style=\"fill:#00002d; fill-opacity:1; font-family:Arial,Helvetica Neue,Helvetica,sans-serif; font-size:12; text-anchor:start;\" transform=\"rotate(0, 547.622, 59.557)\" x=\"547.622\" y=\"59.557\">cos</text>\n",
       "</g>\n",
       "</svg>\n"
      ]
     },
     "execution_count": 163,
     "metadata": {},
     "output_type": "execute_result"
    }
   ],
   "source": [
    "plot(sin, 0, 2pi, label=\"sin\")\n",
    "plot!(cos, 0, 2pi, label=\"cos\", c=:green)\n",
    "plot!(x->1, 0, 2pi, c=:red, l=:dash, label=\"\")\n",
    "plot!(x->-1, 0, 2pi, c=:red, l=:dash, label=\"\")\n",
    "ylims!(-1.2, 1.2)"
   ]
  },
  {
   "cell_type": "code",
   "execution_count": 164,
   "metadata": {
    "collapsed": false
   },
   "outputs": [
    {
     "data": {
      "text/html": [
       "<?xml version=\"1.0\" encoding=\"utf-8\"?>\n",
       "<svg xmlns=\"http://www.w3.org/2000/svg\" xmlns:xlink=\"http://www.w3.org/1999/xlink\" width=\"600\" height=\"400\" viewBox=\"0 0 600 400\">\n",
       "<defs>\n",
       "  <clipPath id=\"clip00\">\n",
       "    <rect x=\"0\" y=\"0\" width=\"600\" height=\"400\"/>\n",
       "  </clipPath>\n",
       "</defs>\n",
       "<polygon clip-path=\"url(#clip00)\" points=\"\n",
       "0,400 600,400 600,0 0,0 \n",
       "  \" fill=\"#ffffff\" fill-opacity=\"1\"/>\n",
       "<defs>\n",
       "  <clipPath id=\"clip01\">\n",
       "    <rect x=\"120\" y=\"0\" width=\"421\" height=\"400\"/>\n",
       "  </clipPath>\n",
       "</defs>\n",
       "<polygon clip-path=\"url(#clip00)\" points=\"\n",
       "21.7148,384.952 596.063,384.952 596.063,3.93701 21.7148,3.93701 \n",
       "  \" fill=\"#ffffff\" fill-opacity=\"1\"/>\n",
       "<defs>\n",
       "  <clipPath id=\"clip02\">\n",
       "    <rect x=\"21\" y=\"3\" width=\"575\" height=\"382\"/>\n",
       "  </clipPath>\n",
       "</defs>\n",
       "<polyline clip-path=\"url(#clip02)\" style=\"stroke:#00002d; stroke-width:0.8; stroke-opacity:0.5; fill:none\" stroke-dasharray=\"1, 2\" points=\"\n",
       "  21.7148,379.237 21.7148,9.65223 \n",
       "  \"/>\n",
       "<polyline clip-path=\"url(#clip02)\" style=\"stroke:#00002d; stroke-width:0.8; stroke-opacity:0.5; fill:none\" stroke-dasharray=\"1, 2\" points=\"\n",
       "  165.302,379.237 165.302,9.65223 \n",
       "  \"/>\n",
       "<polyline clip-path=\"url(#clip02)\" style=\"stroke:#00002d; stroke-width:0.8; stroke-opacity:0.5; fill:none\" stroke-dasharray=\"1, 2\" points=\"\n",
       "  308.889,379.237 308.889,9.65223 \n",
       "  \"/>\n",
       "<polyline clip-path=\"url(#clip02)\" style=\"stroke:#00002d; stroke-width:0.8; stroke-opacity:0.5; fill:none\" stroke-dasharray=\"1, 2\" points=\"\n",
       "  452.476,379.237 452.476,9.65223 \n",
       "  \"/>\n",
       "<polyline clip-path=\"url(#clip02)\" style=\"stroke:#00002d; stroke-width:0.8; stroke-opacity:0.5; fill:none\" stroke-dasharray=\"1, 2\" points=\"\n",
       "  596.063,379.237 596.063,9.65223 \n",
       "  \"/>\n",
       "<polyline clip-path=\"url(#clip02)\" style=\"stroke:#00002d; stroke-width:0.8; stroke-opacity:0.5; fill:none\" stroke-dasharray=\"1, 2\" points=\"\n",
       "  30.33,353.201 587.448,353.201 \n",
       "  \"/>\n",
       "<polyline clip-path=\"url(#clip02)\" style=\"stroke:#00002d; stroke-width:0.8; stroke-opacity:0.5; fill:none\" stroke-dasharray=\"1, 2\" points=\"\n",
       "  30.33,194.444 587.448,194.444 \n",
       "  \"/>\n",
       "<polyline clip-path=\"url(#clip02)\" style=\"stroke:#00002d; stroke-width:0.8; stroke-opacity:0.5; fill:none\" stroke-dasharray=\"1, 2\" points=\"\n",
       "  30.33,35.6882 587.448,35.6882 \n",
       "  \"/>\n",
       "<polyline clip-path=\"url(#clip02)\" style=\"stroke:#00002d; stroke-width:0.8; stroke-opacity:1; fill:none\" points=\"\n",
       "  21.7148,384.952 596.063,384.952 \n",
       "  \"/>\n",
       "<polyline clip-path=\"url(#clip02)\" style=\"stroke:#00002d; stroke-width:0.8; stroke-opacity:1; fill:none\" points=\"\n",
       "  21.7148,384.952 21.7148,379.237 \n",
       "  \"/>\n",
       "<polyline clip-path=\"url(#clip02)\" style=\"stroke:#00002d; stroke-width:0.8; stroke-opacity:1; fill:none\" points=\"\n",
       "  165.302,384.952 165.302,379.237 \n",
       "  \"/>\n",
       "<polyline clip-path=\"url(#clip02)\" style=\"stroke:#00002d; stroke-width:0.8; stroke-opacity:1; fill:none\" points=\"\n",
       "  308.889,384.952 308.889,379.237 \n",
       "  \"/>\n",
       "<polyline clip-path=\"url(#clip02)\" style=\"stroke:#00002d; stroke-width:0.8; stroke-opacity:1; fill:none\" points=\"\n",
       "  452.476,384.952 452.476,379.237 \n",
       "  \"/>\n",
       "<polyline clip-path=\"url(#clip02)\" style=\"stroke:#00002d; stroke-width:0.8; stroke-opacity:1; fill:none\" points=\"\n",
       "  596.063,384.952 596.063,379.237 \n",
       "  \"/>\n",
       "<polyline clip-path=\"url(#clip02)\" style=\"stroke:#00002d; stroke-width:0.8; stroke-opacity:1; fill:none\" points=\"\n",
       "  21.7148,384.952 21.7148,3.93701 \n",
       "  \"/>\n",
       "<polyline clip-path=\"url(#clip02)\" style=\"stroke:#00002d; stroke-width:0.8; stroke-opacity:1; fill:none\" points=\"\n",
       "  21.7148,353.201 30.33,353.201 \n",
       "  \"/>\n",
       "<polyline clip-path=\"url(#clip02)\" style=\"stroke:#00002d; stroke-width:0.8; stroke-opacity:1; fill:none\" points=\"\n",
       "  21.7148,194.444 30.33,194.444 \n",
       "  \"/>\n",
       "<polyline clip-path=\"url(#clip02)\" style=\"stroke:#00002d; stroke-width:0.8; stroke-opacity:1; fill:none\" points=\"\n",
       "  21.7148,35.6882 30.33,35.6882 \n",
       "  \"/>\n",
       "<g clip-path=\"url(#clip00)\">\n",
       "<text style=\"fill:#00002d; fill-opacity:1; font-family:Arial,Helvetica Neue,Helvetica,sans-serif; font-size:12; text-anchor:middle;\" transform=\"rotate(0, 21.7148, 396.952)\" x=\"21.7148\" y=\"396.952\">0.0000000</text>\n",
       "</g>\n",
       "<g clip-path=\"url(#clip00)\">\n",
       "<text style=\"fill:#00002d; fill-opacity:1; font-family:Arial,Helvetica Neue,Helvetica,sans-serif; font-size:12; text-anchor:middle;\" transform=\"rotate(0, 165.302, 396.952)\" x=\"165.302\" y=\"396.952\">1.5707963</text>\n",
       "</g>\n",
       "<g clip-path=\"url(#clip00)\">\n",
       "<text style=\"fill:#00002d; fill-opacity:1; font-family:Arial,Helvetica Neue,Helvetica,sans-serif; font-size:12; text-anchor:middle;\" transform=\"rotate(0, 308.889, 396.952)\" x=\"308.889\" y=\"396.952\">3.1415927</text>\n",
       "</g>\n",
       "<g clip-path=\"url(#clip00)\">\n",
       "<text style=\"fill:#00002d; fill-opacity:1; font-family:Arial,Helvetica Neue,Helvetica,sans-serif; font-size:12; text-anchor:middle;\" transform=\"rotate(0, 452.476, 396.952)\" x=\"452.476\" y=\"396.952\">4.7123890</text>\n",
       "</g>\n",
       "<g clip-path=\"url(#clip00)\">\n",
       "<text style=\"fill:#00002d; fill-opacity:1; font-family:Arial,Helvetica Neue,Helvetica,sans-serif; font-size:12; text-anchor:middle;\" transform=\"rotate(0, 596.063, 396.952)\" x=\"596.063\" y=\"396.952\">6.2831853</text>\n",
       "</g>\n",
       "<g clip-path=\"url(#clip00)\">\n",
       "<text style=\"fill:#00002d; fill-opacity:1; font-family:Arial,Helvetica Neue,Helvetica,sans-serif; font-size:12; text-anchor:end;\" transform=\"rotate(0, 20.5148, 357.701)\" x=\"20.5148\" y=\"357.701\">-1</text>\n",
       "</g>\n",
       "<g clip-path=\"url(#clip00)\">\n",
       "<text style=\"fill:#00002d; fill-opacity:1; font-family:Arial,Helvetica Neue,Helvetica,sans-serif; font-size:12; text-anchor:end;\" transform=\"rotate(0, 20.5148, 198.944)\" x=\"20.5148\" y=\"198.944\">0</text>\n",
       "</g>\n",
       "<g clip-path=\"url(#clip00)\">\n",
       "<text style=\"fill:#00002d; fill-opacity:1; font-family:Arial,Helvetica Neue,Helvetica,sans-serif; font-size:12; text-anchor:end;\" transform=\"rotate(0, 20.5148, 40.1882)\" x=\"20.5148\" y=\"40.1882\">1</text>\n",
       "</g>\n",
       "<polyline clip-path=\"url(#clip02)\" style=\"stroke:#0099ff; stroke-width:0.8; stroke-opacity:1; fill:none\" points=\"\n",
       "  21.7148,194.444 27.5163,184.376 33.3178,174.347 39.1193,164.4 44.9208,154.573 50.7223,144.907 56.5238,135.441 62.3253,126.212 68.1268,117.258 73.9283,108.614 \n",
       "  79.7298,100.317 85.5313,92.3979 91.3328,84.8901 97.1342,77.8235 102.936,71.2264 108.737,65.1255 114.539,59.5453 120.34,54.5083 126.142,50.0347 131.943,46.1427 \n",
       "  137.745,42.8478 143.546,40.1633 149.348,38.1001 155.149,36.6664 160.951,35.8681 166.752,35.7082 172.554,36.1876 178.355,37.3042 184.157,39.0535 189.958,41.4285 \n",
       "  195.76,44.4197 201.561,48.015 207.363,52.1999 213.164,56.9575 218.966,62.2688 224.767,68.1123 230.569,74.4645 236.37,81.2998 242.172,88.5907 247.973,96.3079 \n",
       "  253.775,104.42 259.576,112.895 265.378,121.698 271.179,130.794 276.981,140.147 282.782,149.718 288.584,159.469 294.385,169.361 300.187,179.354 305.988,189.407 \n",
       "  311.79,199.481 317.591,209.535 323.393,219.528 329.194,229.42 334.996,239.171 340.797,248.742 346.599,258.095 352.4,267.191 358.202,275.994 364.003,284.469 \n",
       "  369.805,292.581 375.606,300.298 381.408,307.589 387.209,314.424 393.011,320.777 398.812,326.62 404.614,331.931 410.415,336.689 416.217,340.874 422.018,344.469 \n",
       "  427.82,347.46 433.621,349.835 439.423,351.585 445.224,352.701 451.026,353.181 456.827,353.021 462.629,352.222 468.43,350.789 474.232,348.726 480.033,346.041 \n",
       "  485.835,342.746 491.636,338.854 497.438,334.381 503.239,329.344 509.041,323.763 514.842,317.663 520.644,311.065 526.445,303.999 532.247,296.491 538.048,288.572 \n",
       "  543.85,280.275 549.651,271.631 555.453,262.677 561.254,253.448 567.056,243.982 572.857,234.316 578.659,224.489 584.46,214.542 590.261,204.513 596.063,194.444 \n",
       "  \n",
       "  \"/>\n",
       "<polyline clip-path=\"url(#clip02)\" style=\"stroke:#008100; stroke-width:0.8; stroke-opacity:1; fill:none\" points=\"\n",
       "  21.7148,35.6882 27.5163,36.0079 33.3178,36.9655 39.1193,38.5572 44.9208,40.7766 50.7223,43.6148 56.5238,47.0603 62.3253,51.0993 68.1268,55.7154 73.9283,60.8902 \n",
       "  79.7298,66.6028 85.5313,72.8301 91.3328,79.5472 97.1342,86.7269 102.936,94.3403 108.737,102.357 114.539,110.744 120.34,119.468 126.142,128.495 131.943,137.787 \n",
       "  137.745,147.306 143.546,157.016 149.348,166.877 155.149,176.848 160.951,186.891 166.752,196.963 172.554,207.026 178.355,217.038 184.157,226.959 189.958,236.749 \n",
       "  195.76,246.369 201.561,255.779 207.363,264.943 213.164,273.823 218.966,282.383 224.767,290.589 230.569,298.408 236.37,305.808 242.172,312.76 247.973,319.235 \n",
       "  253.775,325.208 259.576,330.655 265.378,335.553 271.179,339.882 276.981,343.626 282.782,346.77 288.584,349.3 294.385,351.206 300.187,352.482 305.988,353.121 \n",
       "  311.79,353.121 317.591,352.482 323.393,351.206 329.194,349.3 334.996,346.77 340.797,343.626 346.599,339.882 352.4,335.553 358.202,330.655 364.003,325.208 \n",
       "  369.805,319.235 375.606,312.76 381.408,305.808 387.209,298.408 393.011,290.589 398.812,282.383 404.614,273.823 410.415,264.943 416.217,255.779 422.018,246.369 \n",
       "  427.82,236.749 433.621,226.959 439.423,217.038 445.224,207.026 451.026,196.963 456.827,186.891 462.629,176.848 468.43,166.877 474.232,157.016 480.033,147.306 \n",
       "  485.835,137.787 491.636,128.495 497.438,119.468 503.239,110.744 509.041,102.357 514.842,94.3403 520.644,86.7269 526.445,79.5472 532.247,72.8301 538.048,66.6028 \n",
       "  543.85,60.8902 549.651,55.7154 555.453,51.0993 561.254,47.0603 567.056,43.6148 572.857,40.7766 578.659,38.5572 584.46,36.9655 590.261,36.0079 596.063,35.6882 \n",
       "  \n",
       "  \"/>\n",
       "<polyline clip-path=\"url(#clip02)\" style=\"stroke:#ff0000; stroke-width:0.8; stroke-opacity:1; fill:none\" stroke-dasharray=\"8, 5\" points=\"\n",
       "  21.7148,35.6882 27.5163,35.6882 33.3178,35.6882 39.1193,35.6882 44.9208,35.6882 50.7223,35.6882 56.5238,35.6882 62.3253,35.6882 68.1268,35.6882 73.9283,35.6882 \n",
       "  79.7298,35.6882 85.5313,35.6882 91.3328,35.6882 97.1342,35.6882 102.936,35.6882 108.737,35.6882 114.539,35.6882 120.34,35.6882 126.142,35.6882 131.943,35.6882 \n",
       "  137.745,35.6882 143.546,35.6882 149.348,35.6882 155.149,35.6882 160.951,35.6882 166.752,35.6882 172.554,35.6882 178.355,35.6882 184.157,35.6882 189.958,35.6882 \n",
       "  195.76,35.6882 201.561,35.6882 207.363,35.6882 213.164,35.6882 218.966,35.6882 224.767,35.6882 230.569,35.6882 236.37,35.6882 242.172,35.6882 247.973,35.6882 \n",
       "  253.775,35.6882 259.576,35.6882 265.378,35.6882 271.179,35.6882 276.981,35.6882 282.782,35.6882 288.584,35.6882 294.385,35.6882 300.187,35.6882 305.988,35.6882 \n",
       "  311.79,35.6882 317.591,35.6882 323.393,35.6882 329.194,35.6882 334.996,35.6882 340.797,35.6882 346.599,35.6882 352.4,35.6882 358.202,35.6882 364.003,35.6882 \n",
       "  369.805,35.6882 375.606,35.6882 381.408,35.6882 387.209,35.6882 393.011,35.6882 398.812,35.6882 404.614,35.6882 410.415,35.6882 416.217,35.6882 422.018,35.6882 \n",
       "  427.82,35.6882 433.621,35.6882 439.423,35.6882 445.224,35.6882 451.026,35.6882 456.827,35.6882 462.629,35.6882 468.43,35.6882 474.232,35.6882 480.033,35.6882 \n",
       "  485.835,35.6882 491.636,35.6882 497.438,35.6882 503.239,35.6882 509.041,35.6882 514.842,35.6882 520.644,35.6882 526.445,35.6882 532.247,35.6882 538.048,35.6882 \n",
       "  543.85,35.6882 549.651,35.6882 555.453,35.6882 561.254,35.6882 567.056,35.6882 572.857,35.6882 578.659,35.6882 584.46,35.6882 590.261,35.6882 596.063,35.6882 \n",
       "  \n",
       "  \"/>\n",
       "<polyline clip-path=\"url(#clip02)\" style=\"stroke:#ff0000; stroke-width:0.8; stroke-opacity:1; fill:none\" stroke-dasharray=\"8, 5\" points=\"\n",
       "  21.7148,353.201 27.5163,353.201 33.3178,353.201 39.1193,353.201 44.9208,353.201 50.7223,353.201 56.5238,353.201 62.3253,353.201 68.1268,353.201 73.9283,353.201 \n",
       "  79.7298,353.201 85.5313,353.201 91.3328,353.201 97.1342,353.201 102.936,353.201 108.737,353.201 114.539,353.201 120.34,353.201 126.142,353.201 131.943,353.201 \n",
       "  137.745,353.201 143.546,353.201 149.348,353.201 155.149,353.201 160.951,353.201 166.752,353.201 172.554,353.201 178.355,353.201 184.157,353.201 189.958,353.201 \n",
       "  195.76,353.201 201.561,353.201 207.363,353.201 213.164,353.201 218.966,353.201 224.767,353.201 230.569,353.201 236.37,353.201 242.172,353.201 247.973,353.201 \n",
       "  253.775,353.201 259.576,353.201 265.378,353.201 271.179,353.201 276.981,353.201 282.782,353.201 288.584,353.201 294.385,353.201 300.187,353.201 305.988,353.201 \n",
       "  311.79,353.201 317.591,353.201 323.393,353.201 329.194,353.201 334.996,353.201 340.797,353.201 346.599,353.201 352.4,353.201 358.202,353.201 364.003,353.201 \n",
       "  369.805,353.201 375.606,353.201 381.408,353.201 387.209,353.201 393.011,353.201 398.812,353.201 404.614,353.201 410.415,353.201 416.217,353.201 422.018,353.201 \n",
       "  427.82,353.201 433.621,353.201 439.423,353.201 445.224,353.201 451.026,353.201 456.827,353.201 462.629,353.201 468.43,353.201 474.232,353.201 480.033,353.201 \n",
       "  485.835,353.201 491.636,353.201 497.438,353.201 503.239,353.201 509.041,353.201 514.842,353.201 520.644,353.201 526.445,353.201 532.247,353.201 538.048,353.201 \n",
       "  543.85,353.201 549.651,353.201 555.453,353.201 561.254,353.201 567.056,353.201 572.857,353.201 578.659,353.201 584.46,353.201 590.261,353.201 596.063,353.201 \n",
       "  \n",
       "  \"/>\n",
       "<polygon clip-path=\"url(#clip00)\" points=\"\n",
       "499.622,70.177 578.063,70.177 578.063,24.817 499.622,24.817 \n",
       "  \" fill=\"#ffffff\" fill-opacity=\"1\"/>\n",
       "<polyline clip-path=\"url(#clip00)\" style=\"stroke:#00002d; stroke-width:0.8; stroke-opacity:1; fill:none\" points=\"\n",
       "  499.622,70.177 578.063,70.177 578.063,24.817 499.622,24.817 499.622,70.177 \n",
       "  \"/>\n",
       "<polyline clip-path=\"url(#clip00)\" style=\"stroke:#0099ff; stroke-width:0.8; stroke-opacity:1; fill:none\" points=\"\n",
       "  505.622,39.937 541.622,39.937 \n",
       "  \"/>\n",
       "<g clip-path=\"url(#clip00)\">\n",
       "<text style=\"fill:#00002d; fill-opacity:1; font-family:Arial,Helvetica Neue,Helvetica,sans-serif; font-size:12; text-anchor:start;\" transform=\"rotate(0, 547.622, 44.437)\" x=\"547.622\" y=\"44.437\">sin</text>\n",
       "</g>\n",
       "<polyline clip-path=\"url(#clip00)\" style=\"stroke:#008100; stroke-width:0.8; stroke-opacity:1; fill:none\" points=\"\n",
       "  505.622,55.057 541.622,55.057 \n",
       "  \"/>\n",
       "<g clip-path=\"url(#clip00)\">\n",
       "<text style=\"fill:#00002d; fill-opacity:1; font-family:Arial,Helvetica Neue,Helvetica,sans-serif; font-size:12; text-anchor:start;\" transform=\"rotate(0, 547.622, 59.557)\" x=\"547.622\" y=\"59.557\">cos</text>\n",
       "</g>\n",
       "</svg>\n"
      ]
     },
     "execution_count": 164,
     "metadata": {},
     "output_type": "execute_result"
    }
   ],
   "source": [
    "xticks!(0 : pi/2 : 2pi)"
   ]
  },
  {
   "cell_type": "code",
   "execution_count": 165,
   "metadata": {
    "collapsed": false
   },
   "outputs": [
    {
     "data": {
      "text/html": [
       "<?xml version=\"1.0\" encoding=\"utf-8\"?>\n",
       "<svg xmlns=\"http://www.w3.org/2000/svg\" xmlns:xlink=\"http://www.w3.org/1999/xlink\" width=\"600\" height=\"400\" viewBox=\"0 0 600 400\">\n",
       "<defs>\n",
       "  <clipPath id=\"clip00\">\n",
       "    <rect x=\"0\" y=\"0\" width=\"600\" height=\"400\"/>\n",
       "  </clipPath>\n",
       "</defs>\n",
       "<polygon clip-path=\"url(#clip00)\" points=\"\n",
       "0,400 600,400 600,0 0,0 \n",
       "  \" fill=\"#ffffff\" fill-opacity=\"1\"/>\n",
       "<defs>\n",
       "  <clipPath id=\"clip01\">\n",
       "    <rect x=\"120\" y=\"0\" width=\"421\" height=\"400\"/>\n",
       "  </clipPath>\n",
       "</defs>\n",
       "<polygon clip-path=\"url(#clip00)\" points=\"\n",
       "21.7148,384.952 596.063,384.952 596.063,3.93701 21.7148,3.93701 \n",
       "  \" fill=\"#ffffff\" fill-opacity=\"1\"/>\n",
       "<defs>\n",
       "  <clipPath id=\"clip02\">\n",
       "    <rect x=\"21\" y=\"3\" width=\"575\" height=\"382\"/>\n",
       "  </clipPath>\n",
       "</defs>\n",
       "<polyline clip-path=\"url(#clip02)\" style=\"stroke:#00002d; stroke-width:0.8; stroke-opacity:0.5; fill:none\" stroke-dasharray=\"1, 2\" points=\"\n",
       "  21.7148,379.237 21.7148,9.65223 \n",
       "  \"/>\n",
       "<polyline clip-path=\"url(#clip02)\" style=\"stroke:#00002d; stroke-width:0.8; stroke-opacity:0.5; fill:none\" stroke-dasharray=\"1, 2\" points=\"\n",
       "  165.302,379.237 165.302,9.65223 \n",
       "  \"/>\n",
       "<polyline clip-path=\"url(#clip02)\" style=\"stroke:#00002d; stroke-width:0.8; stroke-opacity:0.5; fill:none\" stroke-dasharray=\"1, 2\" points=\"\n",
       "  308.889,379.237 308.889,9.65223 \n",
       "  \"/>\n",
       "<polyline clip-path=\"url(#clip02)\" style=\"stroke:#00002d; stroke-width:0.8; stroke-opacity:0.5; fill:none\" stroke-dasharray=\"1, 2\" points=\"\n",
       "  452.476,379.237 452.476,9.65223 \n",
       "  \"/>\n",
       "<polyline clip-path=\"url(#clip02)\" style=\"stroke:#00002d; stroke-width:0.8; stroke-opacity:0.5; fill:none\" stroke-dasharray=\"1, 2\" points=\"\n",
       "  596.063,379.237 596.063,9.65223 \n",
       "  \"/>\n",
       "<polyline clip-path=\"url(#clip02)\" style=\"stroke:#00002d; stroke-width:0.8; stroke-opacity:0.5; fill:none\" stroke-dasharray=\"1, 2\" points=\"\n",
       "  30.33,353.201 587.448,353.201 \n",
       "  \"/>\n",
       "<polyline clip-path=\"url(#clip02)\" style=\"stroke:#00002d; stroke-width:0.8; stroke-opacity:0.5; fill:none\" stroke-dasharray=\"1, 2\" points=\"\n",
       "  30.33,194.444 587.448,194.444 \n",
       "  \"/>\n",
       "<polyline clip-path=\"url(#clip02)\" style=\"stroke:#00002d; stroke-width:0.8; stroke-opacity:0.5; fill:none\" stroke-dasharray=\"1, 2\" points=\"\n",
       "  30.33,35.6882 587.448,35.6882 \n",
       "  \"/>\n",
       "<polyline clip-path=\"url(#clip02)\" style=\"stroke:#00002d; stroke-width:0.8; stroke-opacity:1; fill:none\" points=\"\n",
       "  21.7148,384.952 596.063,384.952 \n",
       "  \"/>\n",
       "<polyline clip-path=\"url(#clip02)\" style=\"stroke:#00002d; stroke-width:0.8; stroke-opacity:1; fill:none\" points=\"\n",
       "  21.7148,384.952 21.7148,379.237 \n",
       "  \"/>\n",
       "<polyline clip-path=\"url(#clip02)\" style=\"stroke:#00002d; stroke-width:0.8; stroke-opacity:1; fill:none\" points=\"\n",
       "  165.302,384.952 165.302,379.237 \n",
       "  \"/>\n",
       "<polyline clip-path=\"url(#clip02)\" style=\"stroke:#00002d; stroke-width:0.8; stroke-opacity:1; fill:none\" points=\"\n",
       "  308.889,384.952 308.889,379.237 \n",
       "  \"/>\n",
       "<polyline clip-path=\"url(#clip02)\" style=\"stroke:#00002d; stroke-width:0.8; stroke-opacity:1; fill:none\" points=\"\n",
       "  452.476,384.952 452.476,379.237 \n",
       "  \"/>\n",
       "<polyline clip-path=\"url(#clip02)\" style=\"stroke:#00002d; stroke-width:0.8; stroke-opacity:1; fill:none\" points=\"\n",
       "  596.063,384.952 596.063,379.237 \n",
       "  \"/>\n",
       "<polyline clip-path=\"url(#clip02)\" style=\"stroke:#00002d; stroke-width:0.8; stroke-opacity:1; fill:none\" points=\"\n",
       "  21.7148,384.952 21.7148,3.93701 \n",
       "  \"/>\n",
       "<polyline clip-path=\"url(#clip02)\" style=\"stroke:#00002d; stroke-width:0.8; stroke-opacity:1; fill:none\" points=\"\n",
       "  21.7148,353.201 30.33,353.201 \n",
       "  \"/>\n",
       "<polyline clip-path=\"url(#clip02)\" style=\"stroke:#00002d; stroke-width:0.8; stroke-opacity:1; fill:none\" points=\"\n",
       "  21.7148,194.444 30.33,194.444 \n",
       "  \"/>\n",
       "<polyline clip-path=\"url(#clip02)\" style=\"stroke:#00002d; stroke-width:0.8; stroke-opacity:1; fill:none\" points=\"\n",
       "  21.7148,35.6882 30.33,35.6882 \n",
       "  \"/>\n",
       "<g clip-path=\"url(#clip00)\">\n",
       "<text style=\"fill:#00002d; fill-opacity:1; font-family:Arial,Helvetica Neue,Helvetica,sans-serif; font-size:12; text-anchor:middle;\" transform=\"rotate(0, 21.7148, 396.952)\" x=\"21.7148\" y=\"396.952\">0</text>\n",
       "</g>\n",
       "<g clip-path=\"url(#clip00)\">\n",
       "<text style=\"fill:#00002d; fill-opacity:1; font-family:Symbol; font-size:13; text-anchor:start;\" transform=\"rotate(0, 155.156, 396.865)\" x=\"155.156\" y=\"396.865\">π</text>\n",
       "</g>\n",
       "<g clip-path=\"url(#clip00)\">\n",
       "<text style=\"fill:#00002d; fill-opacity:1; font-family:Arial,Helvetica Neue,Helvetica,sans-serif; font-size:12; text-anchor:start;\" transform=\"rotate(0, 162.268, 396.865)\" x=\"162.268\" y=\"396.865\"> /2</text>\n",
       "</g>\n",
       "<g clip-path=\"url(#clip00)\">\n",
       "<text style=\"fill:#00002d; fill-opacity:1; font-family:Symbol; font-size:13; text-anchor:start;\" transform=\"rotate(0, 305.333, 396.865)\" x=\"305.333\" y=\"396.865\">π</text>\n",
       "</g>\n",
       "<g clip-path=\"url(#clip00)\">\n",
       "<text style=\"fill:#00002d; fill-opacity:1; font-family:Arial,Helvetica Neue,Helvetica,sans-serif; font-size:11; text-anchor:start;\" transform=\"rotate(0, 446.268, 395.958)\" x=\"446.268\" y=\"395.958\">3</text>\n",
       "</g>\n",
       "<g clip-path=\"url(#clip00)\">\n",
       "<text style=\"fill:#00002d; fill-opacity:1; font-family:Symbol; font-size:12; text-anchor:start;\" transform=\"rotate(0, 452.239, 395.958)\" x=\"452.239\" y=\"395.958\">π</text>\n",
       "</g>\n",
       "<g clip-path=\"url(#clip00)\">\n",
       "<text style=\"fill:#00002d; fill-opacity:1; font-family:Arial,Helvetica Neue,Helvetica,sans-serif; font-size:11; text-anchor:start;\" transform=\"rotate(0, 449.49, 409.045)\" x=\"449.49\" y=\"409.045\">2</text>\n",
       "</g>\n",
       "<polyline clip-path=\"url(#clip00)\" style=\"stroke:#00002d; stroke-width:0.556049; stroke-opacity:1; fill:none\" points=\"\n",
       "  445.026,399.409 459.926,399.409 \n",
       "  \"/>\n",
       "<g clip-path=\"url(#clip00)\">\n",
       "<text style=\"fill:#00002d; fill-opacity:1; font-family:Arial,Helvetica Neue,Helvetica,sans-serif; font-size:12; text-anchor:start;\" transform=\"rotate(0, 589.212, 396.865)\" x=\"589.212\" y=\"396.865\">2</text>\n",
       "</g>\n",
       "<g clip-path=\"url(#clip00)\">\n",
       "<text style=\"fill:#00002d; fill-opacity:1; font-family:Symbol; font-size:13; text-anchor:start;\" transform=\"rotate(0, 595.802, 396.865)\" x=\"595.802\" y=\"396.865\">π</text>\n",
       "</g>\n",
       "<g clip-path=\"url(#clip00)\">\n",
       "<text style=\"fill:#00002d; fill-opacity:1; font-family:Arial,Helvetica Neue,Helvetica,sans-serif; font-size:12; text-anchor:end;\" transform=\"rotate(0, 20.5148, 357.701)\" x=\"20.5148\" y=\"357.701\">-1</text>\n",
       "</g>\n",
       "<g clip-path=\"url(#clip00)\">\n",
       "<text style=\"fill:#00002d; fill-opacity:1; font-family:Arial,Helvetica Neue,Helvetica,sans-serif; font-size:12; text-anchor:end;\" transform=\"rotate(0, 20.5148, 198.944)\" x=\"20.5148\" y=\"198.944\">0</text>\n",
       "</g>\n",
       "<g clip-path=\"url(#clip00)\">\n",
       "<text style=\"fill:#00002d; fill-opacity:1; font-family:Arial,Helvetica Neue,Helvetica,sans-serif; font-size:12; text-anchor:end;\" transform=\"rotate(0, 20.5148, 40.1882)\" x=\"20.5148\" y=\"40.1882\">1</text>\n",
       "</g>\n",
       "<polyline clip-path=\"url(#clip02)\" style=\"stroke:#0099ff; stroke-width:0.8; stroke-opacity:1; fill:none\" points=\"\n",
       "  21.7148,194.444 27.5163,184.376 33.3178,174.347 39.1193,164.4 44.9208,154.573 50.7223,144.907 56.5238,135.441 62.3253,126.212 68.1268,117.258 73.9283,108.614 \n",
       "  79.7298,100.317 85.5313,92.3979 91.3328,84.8901 97.1342,77.8235 102.936,71.2264 108.737,65.1255 114.539,59.5453 120.34,54.5083 126.142,50.0347 131.943,46.1427 \n",
       "  137.745,42.8478 143.546,40.1633 149.348,38.1001 155.149,36.6664 160.951,35.8681 166.752,35.7082 172.554,36.1876 178.355,37.3042 184.157,39.0535 189.958,41.4285 \n",
       "  195.76,44.4197 201.561,48.015 207.363,52.1999 213.164,56.9575 218.966,62.2688 224.767,68.1123 230.569,74.4645 236.37,81.2998 242.172,88.5907 247.973,96.3079 \n",
       "  253.775,104.42 259.576,112.895 265.378,121.698 271.179,130.794 276.981,140.147 282.782,149.718 288.584,159.469 294.385,169.361 300.187,179.354 305.988,189.407 \n",
       "  311.79,199.481 317.591,209.535 323.393,219.528 329.194,229.42 334.996,239.171 340.797,248.742 346.599,258.095 352.4,267.191 358.202,275.994 364.003,284.469 \n",
       "  369.805,292.581 375.606,300.298 381.408,307.589 387.209,314.424 393.011,320.777 398.812,326.62 404.614,331.931 410.415,336.689 416.217,340.874 422.018,344.469 \n",
       "  427.82,347.46 433.621,349.835 439.423,351.585 445.224,352.701 451.026,353.181 456.827,353.021 462.629,352.222 468.43,350.789 474.232,348.726 480.033,346.041 \n",
       "  485.835,342.746 491.636,338.854 497.438,334.381 503.239,329.344 509.041,323.763 514.842,317.663 520.644,311.065 526.445,303.999 532.247,296.491 538.048,288.572 \n",
       "  543.85,280.275 549.651,271.631 555.453,262.677 561.254,253.448 567.056,243.982 572.857,234.316 578.659,224.489 584.46,214.542 590.261,204.513 596.063,194.444 \n",
       "  \n",
       "  \"/>\n",
       "<polyline clip-path=\"url(#clip02)\" style=\"stroke:#008100; stroke-width:0.8; stroke-opacity:1; fill:none\" points=\"\n",
       "  21.7148,35.6882 27.5163,36.0079 33.3178,36.9655 39.1193,38.5572 44.9208,40.7766 50.7223,43.6148 56.5238,47.0603 62.3253,51.0993 68.1268,55.7154 73.9283,60.8902 \n",
       "  79.7298,66.6028 85.5313,72.8301 91.3328,79.5472 97.1342,86.7269 102.936,94.3403 108.737,102.357 114.539,110.744 120.34,119.468 126.142,128.495 131.943,137.787 \n",
       "  137.745,147.306 143.546,157.016 149.348,166.877 155.149,176.848 160.951,186.891 166.752,196.963 172.554,207.026 178.355,217.038 184.157,226.959 189.958,236.749 \n",
       "  195.76,246.369 201.561,255.779 207.363,264.943 213.164,273.823 218.966,282.383 224.767,290.589 230.569,298.408 236.37,305.808 242.172,312.76 247.973,319.235 \n",
       "  253.775,325.208 259.576,330.655 265.378,335.553 271.179,339.882 276.981,343.626 282.782,346.77 288.584,349.3 294.385,351.206 300.187,352.482 305.988,353.121 \n",
       "  311.79,353.121 317.591,352.482 323.393,351.206 329.194,349.3 334.996,346.77 340.797,343.626 346.599,339.882 352.4,335.553 358.202,330.655 364.003,325.208 \n",
       "  369.805,319.235 375.606,312.76 381.408,305.808 387.209,298.408 393.011,290.589 398.812,282.383 404.614,273.823 410.415,264.943 416.217,255.779 422.018,246.369 \n",
       "  427.82,236.749 433.621,226.959 439.423,217.038 445.224,207.026 451.026,196.963 456.827,186.891 462.629,176.848 468.43,166.877 474.232,157.016 480.033,147.306 \n",
       "  485.835,137.787 491.636,128.495 497.438,119.468 503.239,110.744 509.041,102.357 514.842,94.3403 520.644,86.7269 526.445,79.5472 532.247,72.8301 538.048,66.6028 \n",
       "  543.85,60.8902 549.651,55.7154 555.453,51.0993 561.254,47.0603 567.056,43.6148 572.857,40.7766 578.659,38.5572 584.46,36.9655 590.261,36.0079 596.063,35.6882 \n",
       "  \n",
       "  \"/>\n",
       "<polyline clip-path=\"url(#clip02)\" style=\"stroke:#ff0000; stroke-width:0.8; stroke-opacity:1; fill:none\" stroke-dasharray=\"8, 5\" points=\"\n",
       "  21.7148,35.6882 27.5163,35.6882 33.3178,35.6882 39.1193,35.6882 44.9208,35.6882 50.7223,35.6882 56.5238,35.6882 62.3253,35.6882 68.1268,35.6882 73.9283,35.6882 \n",
       "  79.7298,35.6882 85.5313,35.6882 91.3328,35.6882 97.1342,35.6882 102.936,35.6882 108.737,35.6882 114.539,35.6882 120.34,35.6882 126.142,35.6882 131.943,35.6882 \n",
       "  137.745,35.6882 143.546,35.6882 149.348,35.6882 155.149,35.6882 160.951,35.6882 166.752,35.6882 172.554,35.6882 178.355,35.6882 184.157,35.6882 189.958,35.6882 \n",
       "  195.76,35.6882 201.561,35.6882 207.363,35.6882 213.164,35.6882 218.966,35.6882 224.767,35.6882 230.569,35.6882 236.37,35.6882 242.172,35.6882 247.973,35.6882 \n",
       "  253.775,35.6882 259.576,35.6882 265.378,35.6882 271.179,35.6882 276.981,35.6882 282.782,35.6882 288.584,35.6882 294.385,35.6882 300.187,35.6882 305.988,35.6882 \n",
       "  311.79,35.6882 317.591,35.6882 323.393,35.6882 329.194,35.6882 334.996,35.6882 340.797,35.6882 346.599,35.6882 352.4,35.6882 358.202,35.6882 364.003,35.6882 \n",
       "  369.805,35.6882 375.606,35.6882 381.408,35.6882 387.209,35.6882 393.011,35.6882 398.812,35.6882 404.614,35.6882 410.415,35.6882 416.217,35.6882 422.018,35.6882 \n",
       "  427.82,35.6882 433.621,35.6882 439.423,35.6882 445.224,35.6882 451.026,35.6882 456.827,35.6882 462.629,35.6882 468.43,35.6882 474.232,35.6882 480.033,35.6882 \n",
       "  485.835,35.6882 491.636,35.6882 497.438,35.6882 503.239,35.6882 509.041,35.6882 514.842,35.6882 520.644,35.6882 526.445,35.6882 532.247,35.6882 538.048,35.6882 \n",
       "  543.85,35.6882 549.651,35.6882 555.453,35.6882 561.254,35.6882 567.056,35.6882 572.857,35.6882 578.659,35.6882 584.46,35.6882 590.261,35.6882 596.063,35.6882 \n",
       "  \n",
       "  \"/>\n",
       "<polyline clip-path=\"url(#clip02)\" style=\"stroke:#ff0000; stroke-width:0.8; stroke-opacity:1; fill:none\" stroke-dasharray=\"8, 5\" points=\"\n",
       "  21.7148,353.201 27.5163,353.201 33.3178,353.201 39.1193,353.201 44.9208,353.201 50.7223,353.201 56.5238,353.201 62.3253,353.201 68.1268,353.201 73.9283,353.201 \n",
       "  79.7298,353.201 85.5313,353.201 91.3328,353.201 97.1342,353.201 102.936,353.201 108.737,353.201 114.539,353.201 120.34,353.201 126.142,353.201 131.943,353.201 \n",
       "  137.745,353.201 143.546,353.201 149.348,353.201 155.149,353.201 160.951,353.201 166.752,353.201 172.554,353.201 178.355,353.201 184.157,353.201 189.958,353.201 \n",
       "  195.76,353.201 201.561,353.201 207.363,353.201 213.164,353.201 218.966,353.201 224.767,353.201 230.569,353.201 236.37,353.201 242.172,353.201 247.973,353.201 \n",
       "  253.775,353.201 259.576,353.201 265.378,353.201 271.179,353.201 276.981,353.201 282.782,353.201 288.584,353.201 294.385,353.201 300.187,353.201 305.988,353.201 \n",
       "  311.79,353.201 317.591,353.201 323.393,353.201 329.194,353.201 334.996,353.201 340.797,353.201 346.599,353.201 352.4,353.201 358.202,353.201 364.003,353.201 \n",
       "  369.805,353.201 375.606,353.201 381.408,353.201 387.209,353.201 393.011,353.201 398.812,353.201 404.614,353.201 410.415,353.201 416.217,353.201 422.018,353.201 \n",
       "  427.82,353.201 433.621,353.201 439.423,353.201 445.224,353.201 451.026,353.201 456.827,353.201 462.629,353.201 468.43,353.201 474.232,353.201 480.033,353.201 \n",
       "  485.835,353.201 491.636,353.201 497.438,353.201 503.239,353.201 509.041,353.201 514.842,353.201 520.644,353.201 526.445,353.201 532.247,353.201 538.048,353.201 \n",
       "  543.85,353.201 549.651,353.201 555.453,353.201 561.254,353.201 567.056,353.201 572.857,353.201 578.659,353.201 584.46,353.201 590.261,353.201 596.063,353.201 \n",
       "  \n",
       "  \"/>\n",
       "<polygon clip-path=\"url(#clip00)\" points=\"\n",
       "499.622,70.177 578.063,70.177 578.063,24.817 499.622,24.817 \n",
       "  \" fill=\"#ffffff\" fill-opacity=\"1\"/>\n",
       "<polyline clip-path=\"url(#clip00)\" style=\"stroke:#00002d; stroke-width:0.8; stroke-opacity:1; fill:none\" points=\"\n",
       "  499.622,70.177 578.063,70.177 578.063,24.817 499.622,24.817 499.622,70.177 \n",
       "  \"/>\n",
       "<polyline clip-path=\"url(#clip00)\" style=\"stroke:#0099ff; stroke-width:0.8; stroke-opacity:1; fill:none\" points=\"\n",
       "  505.622,39.937 541.622,39.937 \n",
       "  \"/>\n",
       "<g clip-path=\"url(#clip00)\">\n",
       "<text style=\"fill:#00002d; fill-opacity:1; font-family:Arial,Helvetica Neue,Helvetica,sans-serif; font-size:12; text-anchor:start;\" transform=\"rotate(0, 547.622, 44.437)\" x=\"547.622\" y=\"44.437\">sin</text>\n",
       "</g>\n",
       "<polyline clip-path=\"url(#clip00)\" style=\"stroke:#008100; stroke-width:0.8; stroke-opacity:1; fill:none\" points=\"\n",
       "  505.622,55.057 541.622,55.057 \n",
       "  \"/>\n",
       "<g clip-path=\"url(#clip00)\">\n",
       "<text style=\"fill:#00002d; fill-opacity:1; font-family:Arial,Helvetica Neue,Helvetica,sans-serif; font-size:12; text-anchor:start;\" transform=\"rotate(0, 547.622, 59.557)\" x=\"547.622\" y=\"59.557\">cos</text>\n",
       "</g>\n",
       "</svg>\n"
      ]
     },
     "execution_count": 165,
     "metadata": {},
     "output_type": "execute_result"
    }
   ],
   "source": [
    "xticks!(0:pi/2:2pi, [\"0\", \"\\\\pi /2\", \"\\\\pi\", \"3\\\\pi/2\", \"2\\\\pi\"])"
   ]
  },
  {
   "cell_type": "code",
   "execution_count": 166,
   "metadata": {
    "collapsed": false
   },
   "outputs": [
    {
     "name": "stderr",
     "output_type": "stream",
     "text": [
      "INFO: Saved animation to /home/abel/Downloads/exemplo1.gif\n"
     ]
    },
    {
     "data": {
      "text/html": [
       "<img src=\"exemplo1.gif?0.6832448617436016>\" />"
      ],
      "text/plain": [
       "Plots.AnimatedGif(\"/home/abel/Downloads/exemplo1.gif\")"
      ]
     },
     "execution_count": 166,
     "metadata": {},
     "output_type": "execute_result"
    }
   ],
   "source": [
    "x = linspace(0, 2*pi, 100)\n",
    "anim = @animate for i = 1:5:100\n",
    "    plot(x[1:i], sin(x[1:i]))\n",
    "end\n",
    "gif(anim, \"exemplo1.gif\", fps=10)"
   ]
  },
  {
   "cell_type": "code",
   "execution_count": 167,
   "metadata": {
    "collapsed": false
   },
   "outputs": [
    {
     "name": "stderr",
     "output_type": "stream",
     "text": [
      "WARNING: Method definition @checked_lib(ANY<:Any, ANY<:Any) in module Main at /home/abel/.julia/v0.5/ImageMagick/deps/deps.jl:7 overwritten at /home/abel/.julia/v0.5/ImageMagick/deps/deps.jl:7.\n",
      "WARNING: redefining constant libwand\n",
      "WARNING: Method definition init_deps() in module Main at /home/abel/.julia/v0.5/ImageMagick/deps/deps.jl:16 overwritten at /home/abel/.julia/v0.5/ImageMagick/deps/deps.jl:16.\n",
      "INFO: Saved animation to /home/abel/Downloads/exemplo2.gif\n"
     ]
    },
    {
     "data": {
      "text/html": [
       "<img src=\"exemplo2.gif?0.6821208141073918>\" />"
      ],
      "text/plain": [
       "Plots.AnimatedGif(\"/home/abel/Downloads/exemplo2.gif\")"
      ]
     },
     "execution_count": 167,
     "metadata": {},
     "output_type": "execute_result"
    }
   ],
   "source": [
    "x = linspace(0, 2*pi, 100)\n",
    "anim = @animate for i = 1:3:100\n",
    "    plot(x[1:i], sin(x[1:i]))\n",
    "    xlims!(x[1], x[end])\n",
    "    ylims!(-1, 1)\n",
    "end\n",
    "gif(anim, \"exemplo2.gif\", fps=12)"
   ]
  },
  {
   "cell_type": "code",
   "execution_count": 3,
   "metadata": {
    "collapsed": false
   },
   "outputs": [
    {
     "name": "stderr",
     "output_type": "stream",
     "text": [
      "INFO: Saved animation to /home/abel/Downloads/exemplo3.gif\n"
     ]
    },
    {
     "data": {
      "text/html": [
       "<img src=\"exemplo3.gif?0.7237412494815054>\" />"
      ],
      "text/plain": [
       "Plots.AnimatedGif(\"/home/abel/Downloads/exemplo3.gif\")"
      ]
     },
     "execution_count": 3,
     "metadata": {},
     "output_type": "execute_result"
    }
   ],
   "source": [
    "x = linspace(0, 2*pi, 100)\n",
    "anim = @animate for i = 1:3:100\n",
    "    plot(x, sin(x), leg=false)\n",
    "    a = x[i]\n",
    "    scatter!([a], [sin(a)], c=:red)\n",
    "    plot!(x, sin(a) + cos(a)*(x-a), c=:red, l=:dash)\n",
    "    xlims!(x[1], x[end])\n",
    "    ylims!(-2, 2)\n",
    "end\n",
    "gif(anim, \"exemplo3.gif\", fps=12)"
   ]
  },
  {
   "cell_type": "code",
   "execution_count": 170,
   "metadata": {
    "collapsed": false,
    "scrolled": true
   },
   "outputs": [
    {
     "name": "stderr",
     "output_type": "stream",
     "text": [
      "WARNING: Method definition @checked_lib(ANY<:Any, ANY<:Any) in module Main at /home/abel/.julia/v0.5/ImageMagick/deps/deps.jl:7 overwritten at /home/abel/.julia/v0.5/ImageMagick/deps/deps.jl:7.\n",
      "WARNING: redefining constant libwand\n",
      "WARNING: Method definition init_deps() in module Main at /home/abel/.julia/v0.5/ImageMagick/deps/deps.jl:16 overwritten at /home/abel/.julia/v0.5/ImageMagick/deps/deps.jl:16.\n",
      "INFO: Saved animation to /home/abel/Downloads/exemplo3.gif\n"
     ]
    },
    {
     "data": {
      "text/html": [
       "<img src=\"exemplo3.gif?0.14462824632742333>\" />"
      ],
      "text/plain": [
       "Plots.AnimatedGif(\"/home/abel/Downloads/exemplo3.gif\")"
      ]
     },
     "execution_count": 170,
     "metadata": {},
     "output_type": "execute_result"
    }
   ],
   "source": [
    "x = linspace(0, 2*pi, 100)\n",
    "anim = @animate for i = 1:3:100\n",
    "    plot(x, sin(x), leg=false)\n",
    "    a = x[i]\n",
    "    scatter!([a], [sin(a)], c=:red)\n",
    "    plot!(x, sin(a) + cos(a)*(x-a), c=:red, l=:dash)\n",
    "    plot!(x, sin(a) + cos(a)*(x-a) - sin(a)*(x-a).^2/2, c=:green, l=:dot)\n",
    "    xlims!(x[1], x[end])\n",
    "    ylims!(-2, 2)\n",
    "end\n",
    "gif(anim, \"exemplo3.gif\", fps=12)"
   ]
  },
  {
   "cell_type": "code",
   "execution_count": 16,
   "metadata": {
    "collapsed": false
   },
   "outputs": [
    {
     "name": "stderr",
     "output_type": "stream",
     "text": [
      "WARNING: Method definition @checked_lib(ANY<:Any, ANY<:Any) in module Main at /home/abel/.julia/v0.5/ImageMagick/deps/deps.jl:7 overwritten at /home/abel/.julia/v0.5/ImageMagick/deps/deps.jl:7.\n",
      "WARNING: redefining constant libwand\n",
      "WARNING: Method definition init_deps() in module Main at /home/abel/.julia/v0.5/ImageMagick/deps/deps.jl:16 overwritten at /home/abel/.julia/v0.5/ImageMagick/deps/deps.jl:16.\n",
      "INFO: Saved animation to /home/abel/Downloads/exemplo3.gif\n"
     ]
    },
    {
     "data": {
      "text/html": [
       "<img src=\"exemplo3.gif?0.34845777143795353>\" />"
      ],
      "text/plain": [
       "Plots.AnimatedGif(\"/home/abel/Downloads/exemplo3.gif\")"
      ]
     },
     "execution_count": 16,
     "metadata": {},
     "output_type": "execute_result"
    }
   ],
   "source": [
    "x = linspace(-pi, 3*pi, 300)\n",
    "anim = @animate for i = 1:2:length(x)\n",
    "    plot(x, sin(x), leg=false)\n",
    "    a = x[i]\n",
    "    scatter!([a], [sin(a)], c=:red)\n",
    "    y = sin(a)\n",
    "    p = 1\n",
    "    for i = 1:3\n",
    "        p = (x-a) .* p / i\n",
    "        s = (-1)^(div(i,2))\n",
    "        if i % 2 == 1\n",
    "            t = cos(a)\n",
    "        else\n",
    "            t = sin(a)\n",
    "        end\n",
    "        y += t * p * s\n",
    "        plot!(x, y, c=:red, l=:dash)\n",
    "    end\n",
    "    xlims!(0, 2pi)\n",
    "    ylims!(-2, 2)\n",
    "end\n",
    "gif(anim, \"exemplo3.gif\", fps=12)"
   ]
  },
  {
   "cell_type": "code",
   "execution_count": 172,
   "metadata": {
    "collapsed": false
   },
   "outputs": [
    {
     "data": {
      "text/html": [
       "<?xml version=\"1.0\" encoding=\"utf-8\"?>\n",
       "<svg xmlns=\"http://www.w3.org/2000/svg\" xmlns:xlink=\"http://www.w3.org/1999/xlink\" width=\"600\" height=\"400\" viewBox=\"0 0 600 400\">\n",
       "<defs>\n",
       "  <clipPath id=\"clip00\">\n",
       "    <rect x=\"0\" y=\"0\" width=\"600\" height=\"400\"/>\n",
       "  </clipPath>\n",
       "</defs>\n",
       "<polygon clip-path=\"url(#clip00)\" points=\"\n",
       "0,400 600,400 600,0 0,0 \n",
       "  \" fill=\"#ffffff\" fill-opacity=\"1\"/>\n",
       "<defs>\n",
       "  <clipPath id=\"clip01\">\n",
       "    <rect x=\"120\" y=\"0\" width=\"421\" height=\"400\"/>\n",
       "  </clipPath>\n",
       "</defs>\n",
       "<polygon clip-path=\"url(#clip00)\" points=\"\n",
       "30.6037,384.952 596.063,384.952 596.063,3.93701 30.6037,3.93701 \n",
       "  \" fill=\"#ffffff\" fill-opacity=\"1\"/>\n",
       "<defs>\n",
       "  <clipPath id=\"clip02\">\n",
       "    <rect x=\"30\" y=\"3\" width=\"566\" height=\"382\"/>\n",
       "  </clipPath>\n",
       "</defs>\n",
       "<polyline clip-path=\"url(#clip00)\" style=\"stroke:#cccccc; stroke-width:0.8; stroke-opacity:1; fill:none\" points=\"\n",
       "  30.6037,279.187 288.598,128.972 \n",
       "  \"/>\n",
       "<polyline clip-path=\"url(#clip00)\" style=\"stroke:#cccccc; stroke-width:0.8; stroke-opacity:1; fill:none\" points=\"\n",
       "  30.6037,279.187 338.069,384.952 \n",
       "  \"/>\n",
       "<polyline clip-path=\"url(#clip00)\" style=\"stroke:#ededed; stroke-width:0.8; stroke-opacity:1; fill:none\" points=\"\n",
       "  30.6037,263.558 288.598,113.342 \n",
       "  \"/>\n",
       "<polyline clip-path=\"url(#clip00)\" style=\"stroke:#ededed; stroke-width:0.8; stroke-opacity:1; fill:none\" points=\"\n",
       "  30.6037,263.558 338.069,369.323 \n",
       "  \"/>\n",
       "<polyline clip-path=\"url(#clip00)\" style=\"stroke:#cccccc; stroke-width:0.8; stroke-opacity:1; fill:none\" points=\"\n",
       "  30.6037,247.928 288.598,97.7131 \n",
       "  \"/>\n",
       "<polyline clip-path=\"url(#clip00)\" style=\"stroke:#cccccc; stroke-width:0.8; stroke-opacity:1; fill:none\" points=\"\n",
       "  30.6037,247.928 338.069,353.693 \n",
       "  \"/>\n",
       "<polyline clip-path=\"url(#clip00)\" style=\"stroke:#ededed; stroke-width:0.8; stroke-opacity:1; fill:none\" points=\"\n",
       "  30.6037,232.299 288.598,82.0838 \n",
       "  \"/>\n",
       "<polyline clip-path=\"url(#clip00)\" style=\"stroke:#ededed; stroke-width:0.8; stroke-opacity:1; fill:none\" points=\"\n",
       "  30.6037,232.299 338.069,338.064 \n",
       "  \"/>\n",
       "<polyline clip-path=\"url(#clip00)\" style=\"stroke:#cccccc; stroke-width:0.8; stroke-opacity:1; fill:none\" points=\"\n",
       "  30.6037,216.67 288.598,66.4544 \n",
       "  \"/>\n",
       "<polyline clip-path=\"url(#clip00)\" style=\"stroke:#cccccc; stroke-width:0.8; stroke-opacity:1; fill:none\" points=\"\n",
       "  30.6037,216.67 338.069,322.434 \n",
       "  \"/>\n",
       "<polyline clip-path=\"url(#clip00)\" style=\"stroke:#ededed; stroke-width:0.8; stroke-opacity:1; fill:none\" points=\"\n",
       "  30.6037,201.04 288.598,50.8251 \n",
       "  \"/>\n",
       "<polyline clip-path=\"url(#clip00)\" style=\"stroke:#ededed; stroke-width:0.8; stroke-opacity:1; fill:none\" points=\"\n",
       "  30.6037,201.04 338.069,306.805 \n",
       "  \"/>\n",
       "<polyline clip-path=\"url(#clip00)\" style=\"stroke:#cccccc; stroke-width:0.8; stroke-opacity:1; fill:none\" points=\"\n",
       "  30.6037,185.411 288.598,35.1957 \n",
       "  \"/>\n",
       "<polyline clip-path=\"url(#clip00)\" style=\"stroke:#cccccc; stroke-width:0.8; stroke-opacity:1; fill:none\" points=\"\n",
       "  30.6037,185.411 338.069,291.176 \n",
       "  \"/>\n",
       "<polyline clip-path=\"url(#clip00)\" style=\"stroke:#ededed; stroke-width:0.8; stroke-opacity:1; fill:none\" points=\"\n",
       "  30.6037,169.782 288.598,19.5664 \n",
       "  \"/>\n",
       "<polyline clip-path=\"url(#clip00)\" style=\"stroke:#ededed; stroke-width:0.8; stroke-opacity:1; fill:none\" points=\"\n",
       "  30.6037,169.782 338.069,275.546 \n",
       "  \"/>\n",
       "<polyline clip-path=\"url(#clip00)\" style=\"stroke:#cccccc; stroke-width:0.8; stroke-opacity:1; fill:none\" points=\"\n",
       "  30.6037,154.152 288.598,3.93701 \n",
       "  \"/>\n",
       "<polyline clip-path=\"url(#clip00)\" style=\"stroke:#cccccc; stroke-width:0.8; stroke-opacity:1; fill:none\" points=\"\n",
       "  30.6037,154.152 338.069,259.917 \n",
       "  \"/>\n",
       "<polyline clip-path=\"url(#clip00)\" style=\"stroke:#ededed; stroke-width:0.8; stroke-opacity:1; fill:none\" points=\"\n",
       "  61.9993,289.987 319.993,139.772 \n",
       "  \"/>\n",
       "<polyline clip-path=\"url(#clip00)\" style=\"stroke:#ededed; stroke-width:0.8; stroke-opacity:1; fill:none\" points=\"\n",
       "  61.9993,289.987 61.9993,164.952 \n",
       "  \"/>\n",
       "<polyline clip-path=\"url(#clip00)\" style=\"stroke:#cccccc; stroke-width:0.8; stroke-opacity:1; fill:none\" points=\"\n",
       "  100.195,303.126 358.189,152.91 \n",
       "  \"/>\n",
       "<polyline clip-path=\"url(#clip00)\" style=\"stroke:#cccccc; stroke-width:0.8; stroke-opacity:1; fill:none\" points=\"\n",
       "  100.195,303.126 100.195,178.091 \n",
       "  \"/>\n",
       "<polyline clip-path=\"url(#clip00)\" style=\"stroke:#ededed; stroke-width:0.8; stroke-opacity:1; fill:none\" points=\"\n",
       "  138.39,316.264 396.384,166.049 \n",
       "  \"/>\n",
       "<polyline clip-path=\"url(#clip00)\" style=\"stroke:#ededed; stroke-width:0.8; stroke-opacity:1; fill:none\" points=\"\n",
       "  138.39,316.264 138.39,191.23 \n",
       "  \"/>\n",
       "<polyline clip-path=\"url(#clip00)\" style=\"stroke:#cccccc; stroke-width:0.8; stroke-opacity:1; fill:none\" points=\"\n",
       "  176.586,329.403 434.58,179.188 \n",
       "  \"/>\n",
       "<polyline clip-path=\"url(#clip00)\" style=\"stroke:#cccccc; stroke-width:0.8; stroke-opacity:1; fill:none\" points=\"\n",
       "  176.586,329.403 176.586,204.368 \n",
       "  \"/>\n",
       "<polyline clip-path=\"url(#clip00)\" style=\"stroke:#ededed; stroke-width:0.8; stroke-opacity:1; fill:none\" points=\"\n",
       "  214.781,342.542 472.775,192.327 \n",
       "  \"/>\n",
       "<polyline clip-path=\"url(#clip00)\" style=\"stroke:#ededed; stroke-width:0.8; stroke-opacity:1; fill:none\" points=\"\n",
       "  214.781,342.542 214.781,217.507 \n",
       "  \"/>\n",
       "<polyline clip-path=\"url(#clip00)\" style=\"stroke:#cccccc; stroke-width:0.8; stroke-opacity:1; fill:none\" points=\"\n",
       "  252.976,355.681 510.97,205.466 \n",
       "  \"/>\n",
       "<polyline clip-path=\"url(#clip00)\" style=\"stroke:#cccccc; stroke-width:0.8; stroke-opacity:1; fill:none\" points=\"\n",
       "  252.976,355.681 252.976,230.646 \n",
       "  \"/>\n",
       "<polyline clip-path=\"url(#clip00)\" style=\"stroke:#ededed; stroke-width:0.8; stroke-opacity:1; fill:none\" points=\"\n",
       "  291.172,368.82 549.166,218.604 \n",
       "  \"/>\n",
       "<polyline clip-path=\"url(#clip00)\" style=\"stroke:#ededed; stroke-width:0.8; stroke-opacity:1; fill:none\" points=\"\n",
       "  291.172,368.82 291.172,243.785 \n",
       "  \"/>\n",
       "<polyline clip-path=\"url(#clip00)\" style=\"stroke:#cccccc; stroke-width:0.8; stroke-opacity:1; fill:none\" points=\"\n",
       "  329.367,381.959 587.361,231.743 \n",
       "  \"/>\n",
       "<polyline clip-path=\"url(#clip00)\" style=\"stroke:#cccccc; stroke-width:0.8; stroke-opacity:1; fill:none\" points=\"\n",
       "  329.367,381.959 329.367,256.924 \n",
       "  \"/>\n",
       "<polyline clip-path=\"url(#clip00)\" style=\"stroke:#cccccc; stroke-width:0.8; stroke-opacity:1; fill:none\" points=\"\n",
       "  31.0483,278.928 338.514,384.693 \n",
       "  \"/>\n",
       "<polyline clip-path=\"url(#clip00)\" style=\"stroke:#cccccc; stroke-width:0.8; stroke-opacity:1; fill:none\" points=\"\n",
       "  338.514,384.693 338.514,259.658 \n",
       "  \"/>\n",
       "<polyline clip-path=\"url(#clip00)\" style=\"stroke:#ededed; stroke-width:0.8; stroke-opacity:1; fill:none\" points=\"\n",
       "  64.9109,259.212 372.376,364.977 \n",
       "  \"/>\n",
       "<polyline clip-path=\"url(#clip00)\" style=\"stroke:#ededed; stroke-width:0.8; stroke-opacity:1; fill:none\" points=\"\n",
       "  372.376,364.977 372.376,239.942 \n",
       "  \"/>\n",
       "<polyline clip-path=\"url(#clip00)\" style=\"stroke:#cccccc; stroke-width:0.8; stroke-opacity:1; fill:none\" points=\"\n",
       "  98.7734,239.496 406.239,345.261 \n",
       "  \"/>\n",
       "<polyline clip-path=\"url(#clip00)\" style=\"stroke:#cccccc; stroke-width:0.8; stroke-opacity:1; fill:none\" points=\"\n",
       "  406.239,345.261 406.239,220.226 \n",
       "  \"/>\n",
       "<polyline clip-path=\"url(#clip00)\" style=\"stroke:#ededed; stroke-width:0.8; stroke-opacity:1; fill:none\" points=\"\n",
       "  132.636,219.779 440.101,325.544 \n",
       "  \"/>\n",
       "<polyline clip-path=\"url(#clip00)\" style=\"stroke:#ededed; stroke-width:0.8; stroke-opacity:1; fill:none\" points=\"\n",
       "  440.101,325.544 440.101,200.509 \n",
       "  \"/>\n",
       "<polyline clip-path=\"url(#clip00)\" style=\"stroke:#cccccc; stroke-width:0.8; stroke-opacity:1; fill:none\" points=\"\n",
       "  166.499,200.063 473.964,305.828 \n",
       "  \"/>\n",
       "<polyline clip-path=\"url(#clip00)\" style=\"stroke:#cccccc; stroke-width:0.8; stroke-opacity:1; fill:none\" points=\"\n",
       "  473.964,305.828 473.964,180.793 \n",
       "  \"/>\n",
       "<polyline clip-path=\"url(#clip00)\" style=\"stroke:#ededed; stroke-width:0.8; stroke-opacity:1; fill:none\" points=\"\n",
       "  200.361,180.347 507.826,286.112 \n",
       "  \"/>\n",
       "<polyline clip-path=\"url(#clip00)\" style=\"stroke:#ededed; stroke-width:0.8; stroke-opacity:1; fill:none\" points=\"\n",
       "  507.826,286.112 507.826,161.077 \n",
       "  \"/>\n",
       "<polyline clip-path=\"url(#clip00)\" style=\"stroke:#cccccc; stroke-width:0.8; stroke-opacity:1; fill:none\" points=\"\n",
       "  234.224,160.631 541.689,266.395 \n",
       "  \"/>\n",
       "<polyline clip-path=\"url(#clip00)\" style=\"stroke:#cccccc; stroke-width:0.8; stroke-opacity:1; fill:none\" points=\"\n",
       "  541.689,266.395 541.689,141.361 \n",
       "  \"/>\n",
       "<polyline clip-path=\"url(#clip00)\" style=\"stroke:#ededed; stroke-width:0.8; stroke-opacity:1; fill:none\" points=\"\n",
       "  268.086,140.914 575.552,246.679 \n",
       "  \"/>\n",
       "<polyline clip-path=\"url(#clip00)\" style=\"stroke:#ededed; stroke-width:0.8; stroke-opacity:1; fill:none\" points=\"\n",
       "  575.552,246.679 575.552,121.644 \n",
       "  \"/>\n",
       "<polyline clip-path=\"url(#clip00)\" style=\"stroke:#00002d; stroke-width:1; stroke-opacity:1; fill:none\" points=\"\n",
       "  13.9601,247.811 12.8564,247.843 12.1206,248.824 11.7528,250.755 11.7528,251.989 12.1206,254.173 12.8564,255.66 13.9601,256.451 14.6959,256.705 15.7996,256.673 \n",
       "  16.5354,255.692 16.9033,253.761 16.9033,252.527 16.5354,250.343 15.7996,248.856 14.6959,248.065 13.9601,247.811 \n",
       "  \"/>\n",
       "<polyline clip-path=\"url(#clip00)\" style=\"stroke:#00002d; stroke-width:1; stroke-opacity:1; fill:none\" points=\"\n",
       "  8.80958,214.781 5.13062,213.516 4.76273,217.092 5.13062,216.807 6.23431,216.775 7.338,217.155 8.44169,217.946 9.17748,219.022 9.54538,220.383 9.54538,221.206 \n",
       "  9.17748,222.313 8.44169,222.883 7.338,222.915 6.23431,222.535 5.13062,221.744 4.76273,221.206 4.39483,220.257 \n",
       "  \"/>\n",
       "<polyline clip-path=\"url(#clip00)\" style=\"stroke:#00002d; stroke-width:1; stroke-opacity:1; fill:none\" points=\"\n",
       "  13.9601,216.553 12.8564,216.585 12.1206,217.566 11.7528,219.496 11.7528,220.731 12.1206,222.914 12.8564,224.402 13.9601,225.193 14.6959,225.446 15.7996,225.414 \n",
       "  16.5354,224.433 16.9033,222.502 16.9033,221.268 16.5354,219.084 15.7996,217.597 14.6959,216.806 13.9601,216.553 \n",
       "  \"/>\n",
       "<polyline clip-path=\"url(#clip00)\" style=\"stroke:#00002d; stroke-width:1; stroke-opacity:1; fill:none\" points=\"\n",
       "  -1.8594,181.498 -1.12361,181.34 -0.0199183,180.485 -0.0199183,189.125 \n",
       "  \"/>\n",
       "<polyline clip-path=\"url(#clip00)\" style=\"stroke:#00002d; stroke-width:1; stroke-opacity:1; fill:none\" points=\"\n",
       "  6.60221,182.763 5.49852,182.795 4.76273,183.776 4.39483,185.707 4.39483,186.941 4.76273,189.125 5.49852,190.612 6.60221,191.403 7.338,191.656 8.44169,191.624 \n",
       "  9.17748,190.643 9.54538,188.713 9.54538,187.478 9.17748,185.295 8.44169,183.807 7.338,183.016 6.60221,182.763 \n",
       "  \"/>\n",
       "<polyline clip-path=\"url(#clip00)\" style=\"stroke:#00002d; stroke-width:1; stroke-opacity:1; fill:none\" points=\"\n",
       "  13.9601,185.294 12.8564,185.326 12.1206,186.307 11.7528,188.238 11.7528,189.472 12.1206,191.656 12.8564,193.143 13.9601,193.934 14.6959,194.187 15.7996,194.155 \n",
       "  16.5354,193.174 16.9033,191.244 16.9033,190.009 16.5354,187.826 15.7996,186.338 14.6959,185.547 13.9601,185.294 \n",
       "  \"/>\n",
       "<polyline clip-path=\"url(#clip00)\" style=\"stroke:#00002d; stroke-width:1; stroke-opacity:1; fill:none\" points=\"\n",
       "  -1.8594,150.239 -1.12361,150.081 -0.0199183,149.226 -0.0199183,157.866 \n",
       "  \"/>\n",
       "<polyline clip-path=\"url(#clip00)\" style=\"stroke:#00002d; stroke-width:1; stroke-opacity:1; fill:none\" points=\"\n",
       "  8.80958,152.264 5.13062,150.998 4.76273,154.574 5.13062,154.29 6.23431,154.258 7.338,154.637 8.44169,155.429 9.17748,156.504 9.54538,157.865 9.54538,158.688 \n",
       "  9.17748,159.796 8.44169,160.366 7.338,160.397 6.23431,160.018 5.13062,159.227 4.76273,158.689 4.39483,157.739 \n",
       "  \"/>\n",
       "<polyline clip-path=\"url(#clip00)\" style=\"stroke:#00002d; stroke-width:1; stroke-opacity:1; fill:none\" points=\"\n",
       "  13.9601,154.035 12.8564,154.067 12.1206,155.048 11.7528,156.979 11.7528,158.213 12.1206,160.397 12.8564,161.884 13.9601,162.675 14.6959,162.928 15.7996,162.897 \n",
       "  16.5354,161.916 16.9033,159.985 16.9033,158.751 16.5354,156.567 15.7996,155.08 14.6959,154.288 13.9601,154.035 \n",
       "  \"/>\n",
       "<polyline clip-path=\"url(#clip00)\" style=\"stroke:#000000; stroke-width:0.8; stroke-opacity:1; fill:none\" points=\"\n",
       "  30.6037,279.187 30.6037,279.187 22.946,283.646 30.6037,279.187 30.6037,263.558 26.7748,265.787 30.6037,263.558 30.6037,247.928 22.946,252.387 30.6037,247.928 \n",
       "  30.6037,232.299 26.7748,234.528 30.6037,232.299 30.6037,216.67 22.946,221.128 30.6037,216.67 30.6037,201.04 26.7748,203.27 30.6037,201.04 30.6037,185.411 \n",
       "  22.946,189.87 30.6037,185.411 30.6037,169.782 26.7748,172.011 30.6037,169.782 30.6037,154.152 22.946,158.611 30.6037,154.152 \n",
       "  \"/>\n",
       "<polyline clip-path=\"url(#clip00)\" style=\"stroke:#00002d; stroke-width:1; stroke-opacity:1; fill:none\" points=\"\n",
       "  75.6208,318.14 80.465,315.319 \n",
       "  \"/>\n",
       "<polyline clip-path=\"url(#clip00)\" style=\"stroke:#00002d; stroke-width:1; stroke-opacity:1; fill:none\" points=\"\n",
       "  80.9096,310.736 78.2184,312.303 81.4508,313.664 81.3308,313.374 81.7491,312.77 82.5565,312.3 83.7529,311.963 85.0693,311.918 86.5055,312.162 87.2837,312.43 \n",
       "  88.1817,312.988 88.4216,313.569 88.0033,314.173 87.1959,314.643 85.9995,314.98 85.3413,315.002 84.2941,314.891 \n",
       "  \"/>\n",
       "<polyline clip-path=\"url(#clip00)\" style=\"stroke:#00002d; stroke-width:1; stroke-opacity:1; fill:none\" points=\"\n",
       "  155.686,337.954 155.267,338.558 155.896,339.273 157.572,340.098 158.74,340.5 160.954,341.012 162.659,341.1 163.856,340.764 164.394,340.451 164.812,339.847 \n",
       "  164.183,339.132 162.507,338.306 161.34,337.905 159.126,337.392 157.42,337.304 156.224,337.64 155.686,337.954 \n",
       "  \"/>\n",
       "<polyline clip-path=\"url(#clip00)\" style=\"stroke:#00002d; stroke-width:1; stroke-opacity:1; fill:none\" points=\"\n",
       "  233.691,363.291 231,364.858 234.232,366.219 234.112,365.929 234.531,365.325 235.338,364.855 236.535,364.519 237.851,364.473 239.287,364.718 240.065,364.985 \n",
       "  240.963,365.543 241.203,366.125 240.785,366.728 239.978,367.199 238.781,367.535 238.123,367.558 237.076,367.447 \n",
       "  \"/>\n",
       "<polyline clip-path=\"url(#clip00)\" style=\"stroke:#00002d; stroke-width:1; stroke-opacity:1; fill:none\" points=\"\n",
       "  303.834,394.648 303.983,394.201 303.623,393.329 311.793,396.14 \n",
       "  \"/>\n",
       "<polyline clip-path=\"url(#clip00)\" style=\"stroke:#00002d; stroke-width:1; stroke-opacity:1; fill:none\" points=\"\n",
       "  308.467,390.509 308.049,391.113 308.678,391.828 310.354,392.654 311.521,393.055 313.736,393.568 315.441,393.656 316.637,393.319 317.176,393.006 317.594,392.402 \n",
       "  316.965,391.687 315.289,390.861 314.122,390.46 311.907,389.947 310.202,389.859 309.006,390.196 308.467,390.509 \n",
       "  \"/>\n",
       "<polyline clip-path=\"url(#clip00)\" style=\"stroke:#000000; stroke-width:0.8; stroke-opacity:1; fill:none\" points=\"\n",
       "  30.6037,279.187 61.9993,289.987 58.1704,292.216 61.9993,289.987 100.195,303.126 92.537,307.584 100.195,303.126 138.39,316.264 134.561,318.494 138.39,316.264 \n",
       "  176.586,329.403 168.928,333.862 176.586,329.403 214.781,342.542 210.952,344.771 214.781,342.542 252.976,355.681 245.319,360.14 252.976,355.681 291.172,368.82 \n",
       "  287.343,371.049 291.172,368.82 329.367,381.959 321.709,386.417 329.367,381.959 338.069,384.952 \n",
       "  \"/>\n",
       "<polyline clip-path=\"url(#clip00)\" style=\"stroke:#00002d; stroke-width:1; stroke-opacity:1; fill:none\" points=\"\n",
       "  351.005,389.635 356.306,391.459 \n",
       "  \"/>\n",
       "<polyline clip-path=\"url(#clip00)\" style=\"stroke:#00002d; stroke-width:1; stroke-opacity:1; fill:none\" points=\"\n",
       "  362.095,390.815 363.04,390.811 364.99,390.494 357.523,394.841 \n",
       "  \"/>\n",
       "<polyline clip-path=\"url(#clip00)\" style=\"stroke:#00002d; stroke-width:1; stroke-opacity:1; fill:none\" points=\"\n",
       "  370.29,392.317 369.051,392.22 367.396,392.639 365.323,393.573 364.257,394.194 362.774,395.33 362.296,396.154 362.824,396.665 363.413,396.867 364.652,396.964 \n",
       "  366.307,396.546 368.38,395.612 369.446,394.991 370.929,393.854 371.407,393.031 370.879,392.52 370.29,392.317 \n",
       "  \"/>\n",
       "<polyline clip-path=\"url(#clip00)\" style=\"stroke:#00002d; stroke-width:1; stroke-opacity:1; fill:none\" points=\"\n",
       "  418.73,350.203 424.031,352.026 \n",
       "  \"/>\n",
       "<polyline clip-path=\"url(#clip00)\" style=\"stroke:#00002d; stroke-width:1; stroke-opacity:1; fill:none\" points=\"\n",
       "  433.893,351.466 430.948,350.453 427.454,352.215 428.104,352.11 429.343,352.207 430.226,352.51 430.754,353.021 430.632,353.638 429.86,354.36 429.148,354.774 \n",
       "  427.787,355.294 426.487,355.506 425.248,355.409 424.365,355.105 423.837,354.594 423.898,354.286 424.315,353.77 \n",
       "  \"/>\n",
       "<polyline clip-path=\"url(#clip00)\" style=\"stroke:#00002d; stroke-width:1; stroke-opacity:1; fill:none\" points=\"\n",
       "  492.195,308.792 490.956,308.696 489.3,309.114 487.228,310.048 486.161,310.669 484.678,311.805 484.2,312.629 484.728,313.14 485.317,313.342 486.556,313.439 \n",
       "  488.212,313.021 490.284,312.087 491.35,311.466 492.834,310.33 493.311,309.506 492.784,308.995 492.195,308.792 \n",
       "  \"/>\n",
       "<polyline clip-path=\"url(#clip00)\" style=\"stroke:#00002d; stroke-width:1; stroke-opacity:1; fill:none\" points=\"\n",
       "  561.687,269.968 558.742,268.955 555.247,270.717 555.897,270.611 557.136,270.708 558.02,271.012 558.548,271.523 558.426,272.139 557.653,272.862 556.942,273.276 \n",
       "  555.581,273.795 554.281,274.007 553.042,273.91 552.159,273.606 551.631,273.095 551.692,272.787 552.109,272.271 \n",
       "  \"/>\n",
       "<polyline clip-path=\"url(#clip00)\" style=\"stroke:#000000; stroke-width:0.8; stroke-opacity:1; fill:none\" points=\"\n",
       "  338.069,384.952 338.514,384.693 344.663,386.808 338.514,384.693 372.376,364.977 375.451,366.034 372.376,364.977 406.239,345.261 412.388,347.376 406.239,345.261 \n",
       "  440.101,325.544 443.176,326.602 440.101,325.544 473.964,305.828 480.113,307.943 473.964,305.828 507.826,286.112 510.901,287.169 507.826,286.112 541.689,266.395 \n",
       "  547.838,268.511 541.689,266.395 575.552,246.679 578.626,247.737 575.552,246.679 596.063,234.737 \n",
       "  \"/>\n",
       "<polyline clip-path=\"url(#clip02)\" style=\"stroke:#0000ff; stroke-width:0.8; stroke-opacity:1; fill:none\" points=\"\n",
       "  312.48,219.021 314.374,219.27 316.588,218.906 318.509,217.94 319.539,216.506 319.198,214.837 317.21,213.232 313.559,212.02 308.518,211.501 302.623,211.9 \n",
       "  296.622,213.33 291.381,215.759 287.774,219.004 286.559,222.742 288.261,226.539 293.082,229.9 300.843,232.326 310.971,233.379 322.535,232.745 334.334,230.282 \n",
       "  345.019,226.055 353.246,220.34 357.837,213.615 357.934,206.515 353.123,199.77 343.52,194.129 329.789,190.272 313.112,188.729 295.085,189.809 277.567,193.55 \n",
       "  262.491,199.698 251.648,207.716 246.484,216.826 247.916,226.081 256.202,234.461 270.876,240.976 290.756,244.78 314.036,245.267 338.448,242.156 361.481,235.528 \n",
       "  380.642,225.845 393.721,213.913 399.045,200.817 395.678,187.813 383.557,176.209 363.539,167.221 337.347,161.846 307.43,160.744 276.732,164.154 248.404,171.853 \n",
       "  225.478,183.158 210.55,196.982 205.483,211.931 211.187,226.438 227.491,238.92 253.113,247.944 285.759,252.379 322.327,251.53 359.194,245.222 392.581,233.835 \n",
       "  418.938,218.288 435.321,199.957 439.715,180.551 431.275,161.945 410.452,145.99 378.983,134.321 339.756,128.184 296.543,128.292 253.644,134.737 215.452,146.963 \n",
       "  186.007,163.803 168.571,183.581 165.268,204.271 176.833,223.694 202.503,239.742 240.047,250.589 285.961,254.893 335.792,251.943 384.568,241.748 427.296,225.056 \n",
       "  459.473,203.299 477.555,178.459 479.351,152.879 464.275,129.038 433.446,109.295 389.616,95.6465 336.928,89.5168 280.524,91.5948 226.044,101.749 179.064,119.023 \n",
       "  144.523,141.71 126.205,167.516 126.332,193.774 145.296,217.715 181.586,236.739 231.896,248.693 291.426,252.091 354.338,246.285 414.33,231.547 465.262,209.059 \n",
       "  \n",
       "  \"/>\n",
       "<circle clip-path=\"url(#clip02)\" style=\"fill:#00002d; stroke:none; fill-opacity:1\" cx=\"312.48\" cy=\"219.021\" r=\"2\"/>\n",
       "<circle clip-path=\"url(#clip02)\" style=\"fill:#ff0000; stroke:none; fill-opacity:1\" cx=\"312.48\" cy=\"219.021\" r=\"2\"/>\n",
       "<circle clip-path=\"url(#clip02)\" style=\"fill:#00002d; stroke:none; fill-opacity:1\" cx=\"314.374\" cy=\"219.27\" r=\"2\"/>\n",
       "<circle clip-path=\"url(#clip02)\" style=\"fill:#ff0000; stroke:none; fill-opacity:1\" cx=\"314.374\" cy=\"219.27\" r=\"2\"/>\n",
       "<circle clip-path=\"url(#clip02)\" style=\"fill:#00002d; stroke:none; fill-opacity:1\" cx=\"316.588\" cy=\"218.906\" r=\"2\"/>\n",
       "<circle clip-path=\"url(#clip02)\" style=\"fill:#ff0000; stroke:none; fill-opacity:1\" cx=\"316.588\" cy=\"218.906\" r=\"2\"/>\n",
       "<circle clip-path=\"url(#clip02)\" style=\"fill:#00002d; stroke:none; fill-opacity:1\" cx=\"318.509\" cy=\"217.94\" r=\"2\"/>\n",
       "<circle clip-path=\"url(#clip02)\" style=\"fill:#ff0000; stroke:none; fill-opacity:1\" cx=\"318.509\" cy=\"217.94\" r=\"2\"/>\n",
       "<circle clip-path=\"url(#clip02)\" style=\"fill:#00002d; stroke:none; fill-opacity:1\" cx=\"319.539\" cy=\"216.506\" r=\"2\"/>\n",
       "<circle clip-path=\"url(#clip02)\" style=\"fill:#ff0000; stroke:none; fill-opacity:1\" cx=\"319.539\" cy=\"216.506\" r=\"2\"/>\n",
       "<circle clip-path=\"url(#clip02)\" style=\"fill:#00002d; stroke:none; fill-opacity:1\" cx=\"319.198\" cy=\"214.837\" r=\"2\"/>\n",
       "<circle clip-path=\"url(#clip02)\" style=\"fill:#ff0000; stroke:none; fill-opacity:1\" cx=\"319.198\" cy=\"214.837\" r=\"2\"/>\n",
       "<circle clip-path=\"url(#clip02)\" style=\"fill:#00002d; stroke:none; fill-opacity:1\" cx=\"317.21\" cy=\"213.232\" r=\"2\"/>\n",
       "<circle clip-path=\"url(#clip02)\" style=\"fill:#ff0000; stroke:none; fill-opacity:1\" cx=\"317.21\" cy=\"213.232\" r=\"2\"/>\n",
       "<circle clip-path=\"url(#clip02)\" style=\"fill:#00002d; stroke:none; fill-opacity:1\" cx=\"313.559\" cy=\"212.02\" r=\"2\"/>\n",
       "<circle clip-path=\"url(#clip02)\" style=\"fill:#ff0000; stroke:none; fill-opacity:1\" cx=\"313.559\" cy=\"212.02\" r=\"2\"/>\n",
       "<circle clip-path=\"url(#clip02)\" style=\"fill:#00002d; stroke:none; fill-opacity:1\" cx=\"308.518\" cy=\"211.501\" r=\"2\"/>\n",
       "<circle clip-path=\"url(#clip02)\" style=\"fill:#ff0000; stroke:none; fill-opacity:1\" cx=\"308.518\" cy=\"211.501\" r=\"2\"/>\n",
       "<circle clip-path=\"url(#clip02)\" style=\"fill:#00002d; stroke:none; fill-opacity:1\" cx=\"302.623\" cy=\"211.9\" r=\"2\"/>\n",
       "<circle clip-path=\"url(#clip02)\" style=\"fill:#ff0000; stroke:none; fill-opacity:1\" cx=\"302.623\" cy=\"211.9\" r=\"2\"/>\n",
       "<circle clip-path=\"url(#clip02)\" style=\"fill:#00002d; stroke:none; fill-opacity:1\" cx=\"296.622\" cy=\"213.33\" r=\"2\"/>\n",
       "<circle clip-path=\"url(#clip02)\" style=\"fill:#ff0000; stroke:none; fill-opacity:1\" cx=\"296.622\" cy=\"213.33\" r=\"2\"/>\n",
       "<circle clip-path=\"url(#clip02)\" style=\"fill:#00002d; stroke:none; fill-opacity:1\" cx=\"291.381\" cy=\"215.759\" r=\"2\"/>\n",
       "<circle clip-path=\"url(#clip02)\" style=\"fill:#ff0000; stroke:none; fill-opacity:1\" cx=\"291.381\" cy=\"215.759\" r=\"2\"/>\n",
       "<circle clip-path=\"url(#clip02)\" style=\"fill:#00002d; stroke:none; fill-opacity:1\" cx=\"287.774\" cy=\"219.004\" r=\"2\"/>\n",
       "<circle clip-path=\"url(#clip02)\" style=\"fill:#ff0000; stroke:none; fill-opacity:1\" cx=\"287.774\" cy=\"219.004\" r=\"2\"/>\n",
       "<circle clip-path=\"url(#clip02)\" style=\"fill:#00002d; stroke:none; fill-opacity:1\" cx=\"286.559\" cy=\"222.742\" r=\"2\"/>\n",
       "<circle clip-path=\"url(#clip02)\" style=\"fill:#ff0000; stroke:none; fill-opacity:1\" cx=\"286.559\" cy=\"222.742\" r=\"2\"/>\n",
       "<circle clip-path=\"url(#clip02)\" style=\"fill:#00002d; stroke:none; fill-opacity:1\" cx=\"288.261\" cy=\"226.539\" r=\"2\"/>\n",
       "<circle clip-path=\"url(#clip02)\" style=\"fill:#ff0000; stroke:none; fill-opacity:1\" cx=\"288.261\" cy=\"226.539\" r=\"2\"/>\n",
       "<circle clip-path=\"url(#clip02)\" style=\"fill:#00002d; stroke:none; fill-opacity:1\" cx=\"293.082\" cy=\"229.9\" r=\"2\"/>\n",
       "<circle clip-path=\"url(#clip02)\" style=\"fill:#ff0000; stroke:none; fill-opacity:1\" cx=\"293.082\" cy=\"229.9\" r=\"2\"/>\n",
       "<circle clip-path=\"url(#clip02)\" style=\"fill:#00002d; stroke:none; fill-opacity:1\" cx=\"300.843\" cy=\"232.326\" r=\"2\"/>\n",
       "<circle clip-path=\"url(#clip02)\" style=\"fill:#ff0000; stroke:none; fill-opacity:1\" cx=\"300.843\" cy=\"232.326\" r=\"2\"/>\n",
       "<circle clip-path=\"url(#clip02)\" style=\"fill:#00002d; stroke:none; fill-opacity:1\" cx=\"310.971\" cy=\"233.379\" r=\"2\"/>\n",
       "<circle clip-path=\"url(#clip02)\" style=\"fill:#ff0000; stroke:none; fill-opacity:1\" cx=\"310.971\" cy=\"233.379\" r=\"2\"/>\n",
       "<circle clip-path=\"url(#clip02)\" style=\"fill:#00002d; stroke:none; fill-opacity:1\" cx=\"322.535\" cy=\"232.745\" r=\"2\"/>\n",
       "<circle clip-path=\"url(#clip02)\" style=\"fill:#ff0000; stroke:none; fill-opacity:1\" cx=\"322.535\" cy=\"232.745\" r=\"2\"/>\n",
       "<circle clip-path=\"url(#clip02)\" style=\"fill:#00002d; stroke:none; fill-opacity:1\" cx=\"334.334\" cy=\"230.282\" r=\"2\"/>\n",
       "<circle clip-path=\"url(#clip02)\" style=\"fill:#ff0000; stroke:none; fill-opacity:1\" cx=\"334.334\" cy=\"230.282\" r=\"2\"/>\n",
       "<circle clip-path=\"url(#clip02)\" style=\"fill:#00002d; stroke:none; fill-opacity:1\" cx=\"345.019\" cy=\"226.055\" r=\"2\"/>\n",
       "<circle clip-path=\"url(#clip02)\" style=\"fill:#ff0000; stroke:none; fill-opacity:1\" cx=\"345.019\" cy=\"226.055\" r=\"2\"/>\n",
       "<circle clip-path=\"url(#clip02)\" style=\"fill:#00002d; stroke:none; fill-opacity:1\" cx=\"353.246\" cy=\"220.34\" r=\"2\"/>\n",
       "<circle clip-path=\"url(#clip02)\" style=\"fill:#ff0000; stroke:none; fill-opacity:1\" cx=\"353.246\" cy=\"220.34\" r=\"2\"/>\n",
       "<circle clip-path=\"url(#clip02)\" style=\"fill:#00002d; stroke:none; fill-opacity:1\" cx=\"357.837\" cy=\"213.615\" r=\"2\"/>\n",
       "<circle clip-path=\"url(#clip02)\" style=\"fill:#ff0000; stroke:none; fill-opacity:1\" cx=\"357.837\" cy=\"213.615\" r=\"2\"/>\n",
       "<circle clip-path=\"url(#clip02)\" style=\"fill:#00002d; stroke:none; fill-opacity:1\" cx=\"357.934\" cy=\"206.515\" r=\"2\"/>\n",
       "<circle clip-path=\"url(#clip02)\" style=\"fill:#ff0000; stroke:none; fill-opacity:1\" cx=\"357.934\" cy=\"206.515\" r=\"2\"/>\n",
       "<circle clip-path=\"url(#clip02)\" style=\"fill:#00002d; stroke:none; fill-opacity:1\" cx=\"353.123\" cy=\"199.77\" r=\"2\"/>\n",
       "<circle clip-path=\"url(#clip02)\" style=\"fill:#ff0000; stroke:none; fill-opacity:1\" cx=\"353.123\" cy=\"199.77\" r=\"2\"/>\n",
       "<circle clip-path=\"url(#clip02)\" style=\"fill:#00002d; stroke:none; fill-opacity:1\" cx=\"343.52\" cy=\"194.129\" r=\"2\"/>\n",
       "<circle clip-path=\"url(#clip02)\" style=\"fill:#ff0000; stroke:none; fill-opacity:1\" cx=\"343.52\" cy=\"194.129\" r=\"2\"/>\n",
       "<circle clip-path=\"url(#clip02)\" style=\"fill:#00002d; stroke:none; fill-opacity:1\" cx=\"329.789\" cy=\"190.272\" r=\"2\"/>\n",
       "<circle clip-path=\"url(#clip02)\" style=\"fill:#ff0000; stroke:none; fill-opacity:1\" cx=\"329.789\" cy=\"190.272\" r=\"2\"/>\n",
       "<circle clip-path=\"url(#clip02)\" style=\"fill:#00002d; stroke:none; fill-opacity:1\" cx=\"313.112\" cy=\"188.729\" r=\"2\"/>\n",
       "<circle clip-path=\"url(#clip02)\" style=\"fill:#ff0000; stroke:none; fill-opacity:1\" cx=\"313.112\" cy=\"188.729\" r=\"2\"/>\n",
       "<circle clip-path=\"url(#clip02)\" style=\"fill:#00002d; stroke:none; fill-opacity:1\" cx=\"295.085\" cy=\"189.809\" r=\"2\"/>\n",
       "<circle clip-path=\"url(#clip02)\" style=\"fill:#ff0000; stroke:none; fill-opacity:1\" cx=\"295.085\" cy=\"189.809\" r=\"2\"/>\n",
       "<circle clip-path=\"url(#clip02)\" style=\"fill:#00002d; stroke:none; fill-opacity:1\" cx=\"277.567\" cy=\"193.55\" r=\"2\"/>\n",
       "<circle clip-path=\"url(#clip02)\" style=\"fill:#ff0000; stroke:none; fill-opacity:1\" cx=\"277.567\" cy=\"193.55\" r=\"2\"/>\n",
       "<circle clip-path=\"url(#clip02)\" style=\"fill:#00002d; stroke:none; fill-opacity:1\" cx=\"262.491\" cy=\"199.698\" r=\"2\"/>\n",
       "<circle clip-path=\"url(#clip02)\" style=\"fill:#ff0000; stroke:none; fill-opacity:1\" cx=\"262.491\" cy=\"199.698\" r=\"2\"/>\n",
       "<circle clip-path=\"url(#clip02)\" style=\"fill:#00002d; stroke:none; fill-opacity:1\" cx=\"251.648\" cy=\"207.716\" r=\"2\"/>\n",
       "<circle clip-path=\"url(#clip02)\" style=\"fill:#ff0000; stroke:none; fill-opacity:1\" cx=\"251.648\" cy=\"207.716\" r=\"2\"/>\n",
       "<circle clip-path=\"url(#clip02)\" style=\"fill:#00002d; stroke:none; fill-opacity:1\" cx=\"246.484\" cy=\"216.826\" r=\"2\"/>\n",
       "<circle clip-path=\"url(#clip02)\" style=\"fill:#ff0000; stroke:none; fill-opacity:1\" cx=\"246.484\" cy=\"216.826\" r=\"2\"/>\n",
       "<circle clip-path=\"url(#clip02)\" style=\"fill:#00002d; stroke:none; fill-opacity:1\" cx=\"247.916\" cy=\"226.081\" r=\"2\"/>\n",
       "<circle clip-path=\"url(#clip02)\" style=\"fill:#ff0000; stroke:none; fill-opacity:1\" cx=\"247.916\" cy=\"226.081\" r=\"2\"/>\n",
       "<circle clip-path=\"url(#clip02)\" style=\"fill:#00002d; stroke:none; fill-opacity:1\" cx=\"256.202\" cy=\"234.461\" r=\"2\"/>\n",
       "<circle clip-path=\"url(#clip02)\" style=\"fill:#ff0000; stroke:none; fill-opacity:1\" cx=\"256.202\" cy=\"234.461\" r=\"2\"/>\n",
       "<circle clip-path=\"url(#clip02)\" style=\"fill:#00002d; stroke:none; fill-opacity:1\" cx=\"270.876\" cy=\"240.976\" r=\"2\"/>\n",
       "<circle clip-path=\"url(#clip02)\" style=\"fill:#ff0000; stroke:none; fill-opacity:1\" cx=\"270.876\" cy=\"240.976\" r=\"2\"/>\n",
       "<circle clip-path=\"url(#clip02)\" style=\"fill:#00002d; stroke:none; fill-opacity:1\" cx=\"290.756\" cy=\"244.78\" r=\"2\"/>\n",
       "<circle clip-path=\"url(#clip02)\" style=\"fill:#ff0000; stroke:none; fill-opacity:1\" cx=\"290.756\" cy=\"244.78\" r=\"2\"/>\n",
       "<circle clip-path=\"url(#clip02)\" style=\"fill:#00002d; stroke:none; fill-opacity:1\" cx=\"314.036\" cy=\"245.267\" r=\"2\"/>\n",
       "<circle clip-path=\"url(#clip02)\" style=\"fill:#ff0000; stroke:none; fill-opacity:1\" cx=\"314.036\" cy=\"245.267\" r=\"2\"/>\n",
       "<circle clip-path=\"url(#clip02)\" style=\"fill:#00002d; stroke:none; fill-opacity:1\" cx=\"338.448\" cy=\"242.156\" r=\"2\"/>\n",
       "<circle clip-path=\"url(#clip02)\" style=\"fill:#ff0000; stroke:none; fill-opacity:1\" cx=\"338.448\" cy=\"242.156\" r=\"2\"/>\n",
       "<circle clip-path=\"url(#clip02)\" style=\"fill:#00002d; stroke:none; fill-opacity:1\" cx=\"361.481\" cy=\"235.528\" r=\"2\"/>\n",
       "<circle clip-path=\"url(#clip02)\" style=\"fill:#ff0000; stroke:none; fill-opacity:1\" cx=\"361.481\" cy=\"235.528\" r=\"2\"/>\n",
       "<circle clip-path=\"url(#clip02)\" style=\"fill:#00002d; stroke:none; fill-opacity:1\" cx=\"380.642\" cy=\"225.845\" r=\"2\"/>\n",
       "<circle clip-path=\"url(#clip02)\" style=\"fill:#ff0000; stroke:none; fill-opacity:1\" cx=\"380.642\" cy=\"225.845\" r=\"2\"/>\n",
       "<circle clip-path=\"url(#clip02)\" style=\"fill:#00002d; stroke:none; fill-opacity:1\" cx=\"393.721\" cy=\"213.913\" r=\"2\"/>\n",
       "<circle clip-path=\"url(#clip02)\" style=\"fill:#ff0000; stroke:none; fill-opacity:1\" cx=\"393.721\" cy=\"213.913\" r=\"2\"/>\n",
       "<circle clip-path=\"url(#clip02)\" style=\"fill:#00002d; stroke:none; fill-opacity:1\" cx=\"399.045\" cy=\"200.817\" r=\"2\"/>\n",
       "<circle clip-path=\"url(#clip02)\" style=\"fill:#ff0000; stroke:none; fill-opacity:1\" cx=\"399.045\" cy=\"200.817\" r=\"2\"/>\n",
       "<circle clip-path=\"url(#clip02)\" style=\"fill:#00002d; stroke:none; fill-opacity:1\" cx=\"395.678\" cy=\"187.813\" r=\"2\"/>\n",
       "<circle clip-path=\"url(#clip02)\" style=\"fill:#ff0000; stroke:none; fill-opacity:1\" cx=\"395.678\" cy=\"187.813\" r=\"2\"/>\n",
       "<circle clip-path=\"url(#clip02)\" style=\"fill:#00002d; stroke:none; fill-opacity:1\" cx=\"383.557\" cy=\"176.209\" r=\"2\"/>\n",
       "<circle clip-path=\"url(#clip02)\" style=\"fill:#ff0000; stroke:none; fill-opacity:1\" cx=\"383.557\" cy=\"176.209\" r=\"2\"/>\n",
       "<circle clip-path=\"url(#clip02)\" style=\"fill:#00002d; stroke:none; fill-opacity:1\" cx=\"363.539\" cy=\"167.221\" r=\"2\"/>\n",
       "<circle clip-path=\"url(#clip02)\" style=\"fill:#ff0000; stroke:none; fill-opacity:1\" cx=\"363.539\" cy=\"167.221\" r=\"2\"/>\n",
       "<circle clip-path=\"url(#clip02)\" style=\"fill:#00002d; stroke:none; fill-opacity:1\" cx=\"337.347\" cy=\"161.846\" r=\"2\"/>\n",
       "<circle clip-path=\"url(#clip02)\" style=\"fill:#ff0000; stroke:none; fill-opacity:1\" cx=\"337.347\" cy=\"161.846\" r=\"2\"/>\n",
       "<circle clip-path=\"url(#clip02)\" style=\"fill:#00002d; stroke:none; fill-opacity:1\" cx=\"307.43\" cy=\"160.744\" r=\"2\"/>\n",
       "<circle clip-path=\"url(#clip02)\" style=\"fill:#ff0000; stroke:none; fill-opacity:1\" cx=\"307.43\" cy=\"160.744\" r=\"2\"/>\n",
       "<circle clip-path=\"url(#clip02)\" style=\"fill:#00002d; stroke:none; fill-opacity:1\" cx=\"276.732\" cy=\"164.154\" r=\"2\"/>\n",
       "<circle clip-path=\"url(#clip02)\" style=\"fill:#ff0000; stroke:none; fill-opacity:1\" cx=\"276.732\" cy=\"164.154\" r=\"2\"/>\n",
       "<circle clip-path=\"url(#clip02)\" style=\"fill:#00002d; stroke:none; fill-opacity:1\" cx=\"248.404\" cy=\"171.853\" r=\"2\"/>\n",
       "<circle clip-path=\"url(#clip02)\" style=\"fill:#ff0000; stroke:none; fill-opacity:1\" cx=\"248.404\" cy=\"171.853\" r=\"2\"/>\n",
       "<circle clip-path=\"url(#clip02)\" style=\"fill:#00002d; stroke:none; fill-opacity:1\" cx=\"225.478\" cy=\"183.158\" r=\"2\"/>\n",
       "<circle clip-path=\"url(#clip02)\" style=\"fill:#ff0000; stroke:none; fill-opacity:1\" cx=\"225.478\" cy=\"183.158\" r=\"2\"/>\n",
       "<circle clip-path=\"url(#clip02)\" style=\"fill:#00002d; stroke:none; fill-opacity:1\" cx=\"210.55\" cy=\"196.982\" r=\"2\"/>\n",
       "<circle clip-path=\"url(#clip02)\" style=\"fill:#ff0000; stroke:none; fill-opacity:1\" cx=\"210.55\" cy=\"196.982\" r=\"2\"/>\n",
       "<circle clip-path=\"url(#clip02)\" style=\"fill:#00002d; stroke:none; fill-opacity:1\" cx=\"205.483\" cy=\"211.931\" r=\"2\"/>\n",
       "<circle clip-path=\"url(#clip02)\" style=\"fill:#ff0000; stroke:none; fill-opacity:1\" cx=\"205.483\" cy=\"211.931\" r=\"2\"/>\n",
       "<circle clip-path=\"url(#clip02)\" style=\"fill:#00002d; stroke:none; fill-opacity:1\" cx=\"211.187\" cy=\"226.438\" r=\"2\"/>\n",
       "<circle clip-path=\"url(#clip02)\" style=\"fill:#ff0000; stroke:none; fill-opacity:1\" cx=\"211.187\" cy=\"226.438\" r=\"2\"/>\n",
       "<circle clip-path=\"url(#clip02)\" style=\"fill:#00002d; stroke:none; fill-opacity:1\" cx=\"227.491\" cy=\"238.92\" r=\"2\"/>\n",
       "<circle clip-path=\"url(#clip02)\" style=\"fill:#ff0000; stroke:none; fill-opacity:1\" cx=\"227.491\" cy=\"238.92\" r=\"2\"/>\n",
       "<circle clip-path=\"url(#clip02)\" style=\"fill:#00002d; stroke:none; fill-opacity:1\" cx=\"253.113\" cy=\"247.944\" r=\"2\"/>\n",
       "<circle clip-path=\"url(#clip02)\" style=\"fill:#ff0000; stroke:none; fill-opacity:1\" cx=\"253.113\" cy=\"247.944\" r=\"2\"/>\n",
       "<circle clip-path=\"url(#clip02)\" style=\"fill:#00002d; stroke:none; fill-opacity:1\" cx=\"285.759\" cy=\"252.379\" r=\"2\"/>\n",
       "<circle clip-path=\"url(#clip02)\" style=\"fill:#ff0000; stroke:none; fill-opacity:1\" cx=\"285.759\" cy=\"252.379\" r=\"2\"/>\n",
       "<circle clip-path=\"url(#clip02)\" style=\"fill:#00002d; stroke:none; fill-opacity:1\" cx=\"322.327\" cy=\"251.53\" r=\"2\"/>\n",
       "<circle clip-path=\"url(#clip02)\" style=\"fill:#ff0000; stroke:none; fill-opacity:1\" cx=\"322.327\" cy=\"251.53\" r=\"2\"/>\n",
       "<circle clip-path=\"url(#clip02)\" style=\"fill:#00002d; stroke:none; fill-opacity:1\" cx=\"359.194\" cy=\"245.222\" r=\"2\"/>\n",
       "<circle clip-path=\"url(#clip02)\" style=\"fill:#ff0000; stroke:none; fill-opacity:1\" cx=\"359.194\" cy=\"245.222\" r=\"2\"/>\n",
       "<circle clip-path=\"url(#clip02)\" style=\"fill:#00002d; stroke:none; fill-opacity:1\" cx=\"392.581\" cy=\"233.835\" r=\"2\"/>\n",
       "<circle clip-path=\"url(#clip02)\" style=\"fill:#ff0000; stroke:none; fill-opacity:1\" cx=\"392.581\" cy=\"233.835\" r=\"2\"/>\n",
       "<circle clip-path=\"url(#clip02)\" style=\"fill:#00002d; stroke:none; fill-opacity:1\" cx=\"418.938\" cy=\"218.288\" r=\"2\"/>\n",
       "<circle clip-path=\"url(#clip02)\" style=\"fill:#ff0000; stroke:none; fill-opacity:1\" cx=\"418.938\" cy=\"218.288\" r=\"2\"/>\n",
       "<circle clip-path=\"url(#clip02)\" style=\"fill:#00002d; stroke:none; fill-opacity:1\" cx=\"435.321\" cy=\"199.957\" r=\"2\"/>\n",
       "<circle clip-path=\"url(#clip02)\" style=\"fill:#ff0000; stroke:none; fill-opacity:1\" cx=\"435.321\" cy=\"199.957\" r=\"2\"/>\n",
       "<circle clip-path=\"url(#clip02)\" style=\"fill:#00002d; stroke:none; fill-opacity:1\" cx=\"439.715\" cy=\"180.551\" r=\"2\"/>\n",
       "<circle clip-path=\"url(#clip02)\" style=\"fill:#ff0000; stroke:none; fill-opacity:1\" cx=\"439.715\" cy=\"180.551\" r=\"2\"/>\n",
       "<circle clip-path=\"url(#clip02)\" style=\"fill:#00002d; stroke:none; fill-opacity:1\" cx=\"431.275\" cy=\"161.945\" r=\"2\"/>\n",
       "<circle clip-path=\"url(#clip02)\" style=\"fill:#ff0000; stroke:none; fill-opacity:1\" cx=\"431.275\" cy=\"161.945\" r=\"2\"/>\n",
       "<circle clip-path=\"url(#clip02)\" style=\"fill:#00002d; stroke:none; fill-opacity:1\" cx=\"410.452\" cy=\"145.99\" r=\"2\"/>\n",
       "<circle clip-path=\"url(#clip02)\" style=\"fill:#ff0000; stroke:none; fill-opacity:1\" cx=\"410.452\" cy=\"145.99\" r=\"2\"/>\n",
       "<circle clip-path=\"url(#clip02)\" style=\"fill:#00002d; stroke:none; fill-opacity:1\" cx=\"378.983\" cy=\"134.321\" r=\"2\"/>\n",
       "<circle clip-path=\"url(#clip02)\" style=\"fill:#ff0000; stroke:none; fill-opacity:1\" cx=\"378.983\" cy=\"134.321\" r=\"2\"/>\n",
       "<circle clip-path=\"url(#clip02)\" style=\"fill:#00002d; stroke:none; fill-opacity:1\" cx=\"339.756\" cy=\"128.184\" r=\"2\"/>\n",
       "<circle clip-path=\"url(#clip02)\" style=\"fill:#ff0000; stroke:none; fill-opacity:1\" cx=\"339.756\" cy=\"128.184\" r=\"2\"/>\n",
       "<circle clip-path=\"url(#clip02)\" style=\"fill:#00002d; stroke:none; fill-opacity:1\" cx=\"296.543\" cy=\"128.292\" r=\"2\"/>\n",
       "<circle clip-path=\"url(#clip02)\" style=\"fill:#ff0000; stroke:none; fill-opacity:1\" cx=\"296.543\" cy=\"128.292\" r=\"2\"/>\n",
       "<circle clip-path=\"url(#clip02)\" style=\"fill:#00002d; stroke:none; fill-opacity:1\" cx=\"253.644\" cy=\"134.737\" r=\"2\"/>\n",
       "<circle clip-path=\"url(#clip02)\" style=\"fill:#ff0000; stroke:none; fill-opacity:1\" cx=\"253.644\" cy=\"134.737\" r=\"2\"/>\n",
       "<circle clip-path=\"url(#clip02)\" style=\"fill:#00002d; stroke:none; fill-opacity:1\" cx=\"215.452\" cy=\"146.963\" r=\"2\"/>\n",
       "<circle clip-path=\"url(#clip02)\" style=\"fill:#ff0000; stroke:none; fill-opacity:1\" cx=\"215.452\" cy=\"146.963\" r=\"2\"/>\n",
       "<circle clip-path=\"url(#clip02)\" style=\"fill:#00002d; stroke:none; fill-opacity:1\" cx=\"186.007\" cy=\"163.803\" r=\"2\"/>\n",
       "<circle clip-path=\"url(#clip02)\" style=\"fill:#ff0000; stroke:none; fill-opacity:1\" cx=\"186.007\" cy=\"163.803\" r=\"2\"/>\n",
       "<circle clip-path=\"url(#clip02)\" style=\"fill:#00002d; stroke:none; fill-opacity:1\" cx=\"168.571\" cy=\"183.581\" r=\"2\"/>\n",
       "<circle clip-path=\"url(#clip02)\" style=\"fill:#ff0000; stroke:none; fill-opacity:1\" cx=\"168.571\" cy=\"183.581\" r=\"2\"/>\n",
       "<circle clip-path=\"url(#clip02)\" style=\"fill:#00002d; stroke:none; fill-opacity:1\" cx=\"165.268\" cy=\"204.271\" r=\"2\"/>\n",
       "<circle clip-path=\"url(#clip02)\" style=\"fill:#ff0000; stroke:none; fill-opacity:1\" cx=\"165.268\" cy=\"204.271\" r=\"2\"/>\n",
       "<circle clip-path=\"url(#clip02)\" style=\"fill:#00002d; stroke:none; fill-opacity:1\" cx=\"176.833\" cy=\"223.694\" r=\"2\"/>\n",
       "<circle clip-path=\"url(#clip02)\" style=\"fill:#ff0000; stroke:none; fill-opacity:1\" cx=\"176.833\" cy=\"223.694\" r=\"2\"/>\n",
       "<circle clip-path=\"url(#clip02)\" style=\"fill:#00002d; stroke:none; fill-opacity:1\" cx=\"202.503\" cy=\"239.742\" r=\"2\"/>\n",
       "<circle clip-path=\"url(#clip02)\" style=\"fill:#ff0000; stroke:none; fill-opacity:1\" cx=\"202.503\" cy=\"239.742\" r=\"2\"/>\n",
       "<circle clip-path=\"url(#clip02)\" style=\"fill:#00002d; stroke:none; fill-opacity:1\" cx=\"240.047\" cy=\"250.589\" r=\"2\"/>\n",
       "<circle clip-path=\"url(#clip02)\" style=\"fill:#ff0000; stroke:none; fill-opacity:1\" cx=\"240.047\" cy=\"250.589\" r=\"2\"/>\n",
       "<circle clip-path=\"url(#clip02)\" style=\"fill:#00002d; stroke:none; fill-opacity:1\" cx=\"285.961\" cy=\"254.893\" r=\"2\"/>\n",
       "<circle clip-path=\"url(#clip02)\" style=\"fill:#ff0000; stroke:none; fill-opacity:1\" cx=\"285.961\" cy=\"254.893\" r=\"2\"/>\n",
       "<circle clip-path=\"url(#clip02)\" style=\"fill:#00002d; stroke:none; fill-opacity:1\" cx=\"335.792\" cy=\"251.943\" r=\"2\"/>\n",
       "<circle clip-path=\"url(#clip02)\" style=\"fill:#ff0000; stroke:none; fill-opacity:1\" cx=\"335.792\" cy=\"251.943\" r=\"2\"/>\n",
       "<circle clip-path=\"url(#clip02)\" style=\"fill:#00002d; stroke:none; fill-opacity:1\" cx=\"384.568\" cy=\"241.748\" r=\"2\"/>\n",
       "<circle clip-path=\"url(#clip02)\" style=\"fill:#ff0000; stroke:none; fill-opacity:1\" cx=\"384.568\" cy=\"241.748\" r=\"2\"/>\n",
       "<circle clip-path=\"url(#clip02)\" style=\"fill:#00002d; stroke:none; fill-opacity:1\" cx=\"427.296\" cy=\"225.056\" r=\"2\"/>\n",
       "<circle clip-path=\"url(#clip02)\" style=\"fill:#ff0000; stroke:none; fill-opacity:1\" cx=\"427.296\" cy=\"225.056\" r=\"2\"/>\n",
       "<circle clip-path=\"url(#clip02)\" style=\"fill:#00002d; stroke:none; fill-opacity:1\" cx=\"459.473\" cy=\"203.299\" r=\"2\"/>\n",
       "<circle clip-path=\"url(#clip02)\" style=\"fill:#ff0000; stroke:none; fill-opacity:1\" cx=\"459.473\" cy=\"203.299\" r=\"2\"/>\n",
       "<circle clip-path=\"url(#clip02)\" style=\"fill:#00002d; stroke:none; fill-opacity:1\" cx=\"477.555\" cy=\"178.459\" r=\"2\"/>\n",
       "<circle clip-path=\"url(#clip02)\" style=\"fill:#ff0000; stroke:none; fill-opacity:1\" cx=\"477.555\" cy=\"178.459\" r=\"2\"/>\n",
       "<circle clip-path=\"url(#clip02)\" style=\"fill:#00002d; stroke:none; fill-opacity:1\" cx=\"479.351\" cy=\"152.879\" r=\"2\"/>\n",
       "<circle clip-path=\"url(#clip02)\" style=\"fill:#ff0000; stroke:none; fill-opacity:1\" cx=\"479.351\" cy=\"152.879\" r=\"2\"/>\n",
       "<circle clip-path=\"url(#clip02)\" style=\"fill:#00002d; stroke:none; fill-opacity:1\" cx=\"464.275\" cy=\"129.038\" r=\"2\"/>\n",
       "<circle clip-path=\"url(#clip02)\" style=\"fill:#ff0000; stroke:none; fill-opacity:1\" cx=\"464.275\" cy=\"129.038\" r=\"2\"/>\n",
       "<circle clip-path=\"url(#clip02)\" style=\"fill:#00002d; stroke:none; fill-opacity:1\" cx=\"433.446\" cy=\"109.295\" r=\"2\"/>\n",
       "<circle clip-path=\"url(#clip02)\" style=\"fill:#ff0000; stroke:none; fill-opacity:1\" cx=\"433.446\" cy=\"109.295\" r=\"2\"/>\n",
       "<circle clip-path=\"url(#clip02)\" style=\"fill:#00002d; stroke:none; fill-opacity:1\" cx=\"389.616\" cy=\"95.6465\" r=\"2\"/>\n",
       "<circle clip-path=\"url(#clip02)\" style=\"fill:#ff0000; stroke:none; fill-opacity:1\" cx=\"389.616\" cy=\"95.6465\" r=\"2\"/>\n",
       "<circle clip-path=\"url(#clip02)\" style=\"fill:#00002d; stroke:none; fill-opacity:1\" cx=\"336.928\" cy=\"89.5168\" r=\"2\"/>\n",
       "<circle clip-path=\"url(#clip02)\" style=\"fill:#ff0000; stroke:none; fill-opacity:1\" cx=\"336.928\" cy=\"89.5168\" r=\"2\"/>\n",
       "<circle clip-path=\"url(#clip02)\" style=\"fill:#00002d; stroke:none; fill-opacity:1\" cx=\"280.524\" cy=\"91.5948\" r=\"2\"/>\n",
       "<circle clip-path=\"url(#clip02)\" style=\"fill:#ff0000; stroke:none; fill-opacity:1\" cx=\"280.524\" cy=\"91.5948\" r=\"2\"/>\n",
       "<circle clip-path=\"url(#clip02)\" style=\"fill:#00002d; stroke:none; fill-opacity:1\" cx=\"226.044\" cy=\"101.749\" r=\"2\"/>\n",
       "<circle clip-path=\"url(#clip02)\" style=\"fill:#ff0000; stroke:none; fill-opacity:1\" cx=\"226.044\" cy=\"101.749\" r=\"2\"/>\n",
       "<circle clip-path=\"url(#clip02)\" style=\"fill:#00002d; stroke:none; fill-opacity:1\" cx=\"179.064\" cy=\"119.023\" r=\"2\"/>\n",
       "<circle clip-path=\"url(#clip02)\" style=\"fill:#ff0000; stroke:none; fill-opacity:1\" cx=\"179.064\" cy=\"119.023\" r=\"2\"/>\n",
       "<circle clip-path=\"url(#clip02)\" style=\"fill:#00002d; stroke:none; fill-opacity:1\" cx=\"144.523\" cy=\"141.71\" r=\"2\"/>\n",
       "<circle clip-path=\"url(#clip02)\" style=\"fill:#ff0000; stroke:none; fill-opacity:1\" cx=\"144.523\" cy=\"141.71\" r=\"2\"/>\n",
       "<circle clip-path=\"url(#clip02)\" style=\"fill:#00002d; stroke:none; fill-opacity:1\" cx=\"126.205\" cy=\"167.516\" r=\"2\"/>\n",
       "<circle clip-path=\"url(#clip02)\" style=\"fill:#ff0000; stroke:none; fill-opacity:1\" cx=\"126.205\" cy=\"167.516\" r=\"2\"/>\n",
       "<circle clip-path=\"url(#clip02)\" style=\"fill:#00002d; stroke:none; fill-opacity:1\" cx=\"126.332\" cy=\"193.774\" r=\"2\"/>\n",
       "<circle clip-path=\"url(#clip02)\" style=\"fill:#ff0000; stroke:none; fill-opacity:1\" cx=\"126.332\" cy=\"193.774\" r=\"2\"/>\n",
       "<circle clip-path=\"url(#clip02)\" style=\"fill:#00002d; stroke:none; fill-opacity:1\" cx=\"145.296\" cy=\"217.715\" r=\"2\"/>\n",
       "<circle clip-path=\"url(#clip02)\" style=\"fill:#ff0000; stroke:none; fill-opacity:1\" cx=\"145.296\" cy=\"217.715\" r=\"2\"/>\n",
       "<circle clip-path=\"url(#clip02)\" style=\"fill:#00002d; stroke:none; fill-opacity:1\" cx=\"181.586\" cy=\"236.739\" r=\"2\"/>\n",
       "<circle clip-path=\"url(#clip02)\" style=\"fill:#ff0000; stroke:none; fill-opacity:1\" cx=\"181.586\" cy=\"236.739\" r=\"2\"/>\n",
       "<circle clip-path=\"url(#clip02)\" style=\"fill:#00002d; stroke:none; fill-opacity:1\" cx=\"231.896\" cy=\"248.693\" r=\"2\"/>\n",
       "<circle clip-path=\"url(#clip02)\" style=\"fill:#ff0000; stroke:none; fill-opacity:1\" cx=\"231.896\" cy=\"248.693\" r=\"2\"/>\n",
       "<circle clip-path=\"url(#clip02)\" style=\"fill:#00002d; stroke:none; fill-opacity:1\" cx=\"291.426\" cy=\"252.091\" r=\"2\"/>\n",
       "<circle clip-path=\"url(#clip02)\" style=\"fill:#ff0000; stroke:none; fill-opacity:1\" cx=\"291.426\" cy=\"252.091\" r=\"2\"/>\n",
       "<circle clip-path=\"url(#clip02)\" style=\"fill:#00002d; stroke:none; fill-opacity:1\" cx=\"354.338\" cy=\"246.285\" r=\"2\"/>\n",
       "<circle clip-path=\"url(#clip02)\" style=\"fill:#ff0000; stroke:none; fill-opacity:1\" cx=\"354.338\" cy=\"246.285\" r=\"2\"/>\n",
       "<circle clip-path=\"url(#clip02)\" style=\"fill:#00002d; stroke:none; fill-opacity:1\" cx=\"414.33\" cy=\"231.547\" r=\"2\"/>\n",
       "<circle clip-path=\"url(#clip02)\" style=\"fill:#ff0000; stroke:none; fill-opacity:1\" cx=\"414.33\" cy=\"231.547\" r=\"2\"/>\n",
       "<circle clip-path=\"url(#clip02)\" style=\"fill:#00002d; stroke:none; fill-opacity:1\" cx=\"465.262\" cy=\"209.059\" r=\"2\"/>\n",
       "<circle clip-path=\"url(#clip02)\" style=\"fill:#ff0000; stroke:none; fill-opacity:1\" cx=\"465.262\" cy=\"209.059\" r=\"2\"/>\n",
       "<polygon clip-path=\"url(#clip00)\" points=\"\n",
       "505.547,55.057 578.063,55.057 578.063,24.817 505.547,24.817 \n",
       "  \" fill=\"#ffffff\" fill-opacity=\"1\"/>\n",
       "<polyline clip-path=\"url(#clip00)\" style=\"stroke:#000000; stroke-width:0.8; stroke-opacity:1; fill:none\" points=\"\n",
       "  505.547,55.057 578.063,55.057 578.063,24.817 505.547,24.817 505.547,55.057 \n",
       "  \"/>\n",
       "<circle clip-path=\"url(#clip00)\" style=\"fill:#00002d; stroke:none; fill-opacity:1\" cx=\"517.547\" cy=\"39.937\" r=\"7\"/>\n",
       "<circle clip-path=\"url(#clip00)\" style=\"fill:#ff0000; stroke:none; fill-opacity:1\" cx=\"517.547\" cy=\"39.937\" r=\"7\"/>\n",
       "<circle clip-path=\"url(#clip00)\" style=\"fill:#00002d; stroke:none; fill-opacity:1\" cx=\"541.547\" cy=\"39.937\" r=\"7\"/>\n",
       "<circle clip-path=\"url(#clip00)\" style=\"fill:#ff0000; stroke:none; fill-opacity:1\" cx=\"541.547\" cy=\"39.937\" r=\"7\"/>\n",
       "<g clip-path=\"url(#clip00)\">\n",
       "<text style=\"fill:#00002d; fill-opacity:1; font-family:Arial,Helvetica Neue,Helvetica,sans-serif; font-size:12; text-anchor:start;\" transform=\"rotate(0, 553.547, 44.437)\" x=\"553.547\" y=\"44.437\">y1</text>\n",
       "</g>\n",
       "</svg>\n"
      ]
     },
     "execution_count": 172,
     "metadata": {},
     "output_type": "execute_result"
    }
   ],
   "source": [
    "t = linspace(0, 10, 100)\n",
    "x = cos(pi*t) .* t\n",
    "y = sin(pi*t) .* t\n",
    "z = t.^2\n",
    "plot(x, y, z, m=(3,:red), c=:blue)"
   ]
  },
  {
   "cell_type": "code",
   "execution_count": 180,
   "metadata": {
    "collapsed": false
   },
   "outputs": [
    {
     "data": {
      "text/html": [
       "<?xml version=\"1.0\" encoding=\"utf-8\"?>\n",
       "<svg xmlns=\"http://www.w3.org/2000/svg\" xmlns:xlink=\"http://www.w3.org/1999/xlink\" width=\"600\" height=\"400\" viewBox=\"0 0 600 400\">\n",
       "<defs>\n",
       "  <clipPath id=\"clip00\">\n",
       "    <rect x=\"0\" y=\"0\" width=\"600\" height=\"400\"/>\n",
       "  </clipPath>\n",
       "</defs>\n",
       "<polygon clip-path=\"url(#clip00)\" points=\"\n",
       "0,400 600,400 600,0 0,0 \n",
       "  \" fill=\"#ffffff\" fill-opacity=\"1\"/>\n",
       "<defs>\n",
       "  <clipPath id=\"clip01\">\n",
       "    <rect x=\"120\" y=\"0\" width=\"421\" height=\"400\"/>\n",
       "  </clipPath>\n",
       "</defs>\n",
       "<polygon clip-path=\"url(#clip00)\" points=\"\n",
       "21.7148,384.952 596.063,384.952 596.063,3.93701 21.7148,3.93701 \n",
       "  \" fill=\"#ffffff\" fill-opacity=\"1\"/>\n",
       "<defs>\n",
       "  <clipPath id=\"clip02\">\n",
       "    <rect x=\"21\" y=\"3\" width=\"515\" height=\"382\"/>\n",
       "  </clipPath>\n",
       "</defs>\n",
       "<polyline clip-path=\"url(#clip02)\" style=\"stroke:#00002d; stroke-width:0.8; stroke-opacity:0.5; fill:none\" stroke-dasharray=\"1, 2\" points=\"\n",
       "  21.7148,379.237 21.7148,9.65223 \n",
       "  \"/>\n",
       "<polyline clip-path=\"url(#clip02)\" style=\"stroke:#00002d; stroke-width:0.8; stroke-opacity:0.5; fill:none\" stroke-dasharray=\"1, 2\" points=\"\n",
       "  150.302,379.237 150.302,9.65223 \n",
       "  \"/>\n",
       "<polyline clip-path=\"url(#clip02)\" style=\"stroke:#00002d; stroke-width:0.8; stroke-opacity:0.5; fill:none\" stroke-dasharray=\"1, 2\" points=\"\n",
       "  278.889,379.237 278.889,9.65223 \n",
       "  \"/>\n",
       "<polyline clip-path=\"url(#clip02)\" style=\"stroke:#00002d; stroke-width:0.8; stroke-opacity:0.5; fill:none\" stroke-dasharray=\"1, 2\" points=\"\n",
       "  407.476,379.237 407.476,9.65223 \n",
       "  \"/>\n",
       "<polyline clip-path=\"url(#clip02)\" style=\"stroke:#00002d; stroke-width:0.8; stroke-opacity:0.5; fill:none\" stroke-dasharray=\"1, 2\" points=\"\n",
       "  536.063,379.237 536.063,9.65223 \n",
       "  \"/>\n",
       "<polyline clip-path=\"url(#clip02)\" style=\"stroke:#00002d; stroke-width:0.8; stroke-opacity:0.5; fill:none\" stroke-dasharray=\"1, 2\" points=\"\n",
       "  29.43,384.952 528.348,384.952 \n",
       "  \"/>\n",
       "<polyline clip-path=\"url(#clip02)\" style=\"stroke:#00002d; stroke-width:0.8; stroke-opacity:0.5; fill:none\" stroke-dasharray=\"1, 2\" points=\"\n",
       "  29.43,289.698 528.348,289.698 \n",
       "  \"/>\n",
       "<polyline clip-path=\"url(#clip02)\" style=\"stroke:#00002d; stroke-width:0.8; stroke-opacity:0.5; fill:none\" stroke-dasharray=\"1, 2\" points=\"\n",
       "  29.43,194.444 528.348,194.444 \n",
       "  \"/>\n",
       "<polyline clip-path=\"url(#clip02)\" style=\"stroke:#00002d; stroke-width:0.8; stroke-opacity:0.5; fill:none\" stroke-dasharray=\"1, 2\" points=\"\n",
       "  29.43,99.1907 528.348,99.1907 \n",
       "  \"/>\n",
       "<polyline clip-path=\"url(#clip02)\" style=\"stroke:#00002d; stroke-width:0.8; stroke-opacity:0.5; fill:none\" stroke-dasharray=\"1, 2\" points=\"\n",
       "  29.43,3.93701 528.348,3.93701 \n",
       "  \"/>\n",
       "<polyline clip-path=\"url(#clip02)\" style=\"stroke:#00002d; stroke-width:0.8; stroke-opacity:1; fill:none\" points=\"\n",
       "  21.7148,384.952 536.063,384.952 \n",
       "  \"/>\n",
       "<polyline clip-path=\"url(#clip02)\" style=\"stroke:#00002d; stroke-width:0.8; stroke-opacity:1; fill:none\" points=\"\n",
       "  21.7148,384.952 21.7148,379.237 \n",
       "  \"/>\n",
       "<polyline clip-path=\"url(#clip02)\" style=\"stroke:#00002d; stroke-width:0.8; stroke-opacity:1; fill:none\" points=\"\n",
       "  150.302,384.952 150.302,379.237 \n",
       "  \"/>\n",
       "<polyline clip-path=\"url(#clip02)\" style=\"stroke:#00002d; stroke-width:0.8; stroke-opacity:1; fill:none\" points=\"\n",
       "  278.889,384.952 278.889,379.237 \n",
       "  \"/>\n",
       "<polyline clip-path=\"url(#clip02)\" style=\"stroke:#00002d; stroke-width:0.8; stroke-opacity:1; fill:none\" points=\"\n",
       "  407.476,384.952 407.476,379.237 \n",
       "  \"/>\n",
       "<polyline clip-path=\"url(#clip02)\" style=\"stroke:#00002d; stroke-width:0.8; stroke-opacity:1; fill:none\" points=\"\n",
       "  536.063,384.952 536.063,379.237 \n",
       "  \"/>\n",
       "<polyline clip-path=\"url(#clip02)\" style=\"stroke:#00002d; stroke-width:0.8; stroke-opacity:1; fill:none\" points=\"\n",
       "  21.7148,384.952 21.7148,3.93701 \n",
       "  \"/>\n",
       "<polyline clip-path=\"url(#clip02)\" style=\"stroke:#00002d; stroke-width:0.8; stroke-opacity:1; fill:none\" points=\"\n",
       "  21.7148,384.952 29.43,384.952 \n",
       "  \"/>\n",
       "<polyline clip-path=\"url(#clip02)\" style=\"stroke:#00002d; stroke-width:0.8; stroke-opacity:1; fill:none\" points=\"\n",
       "  21.7148,289.698 29.43,289.698 \n",
       "  \"/>\n",
       "<polyline clip-path=\"url(#clip02)\" style=\"stroke:#00002d; stroke-width:0.8; stroke-opacity:1; fill:none\" points=\"\n",
       "  21.7148,194.444 29.43,194.444 \n",
       "  \"/>\n",
       "<polyline clip-path=\"url(#clip02)\" style=\"stroke:#00002d; stroke-width:0.8; stroke-opacity:1; fill:none\" points=\"\n",
       "  21.7148,99.1907 29.43,99.1907 \n",
       "  \"/>\n",
       "<polyline clip-path=\"url(#clip02)\" style=\"stroke:#00002d; stroke-width:0.8; stroke-opacity:1; fill:none\" points=\"\n",
       "  21.7148,3.93701 29.43,3.93701 \n",
       "  \"/>\n",
       "<g clip-path=\"url(#clip00)\">\n",
       "<text style=\"fill:#00002d; fill-opacity:1; font-family:Arial,Helvetica Neue,Helvetica,sans-serif; font-size:12; text-anchor:middle;\" transform=\"rotate(0, 21.7148, 396.952)\" x=\"21.7148\" y=\"396.952\">-2</text>\n",
       "</g>\n",
       "<g clip-path=\"url(#clip00)\">\n",
       "<text style=\"fill:#00002d; fill-opacity:1; font-family:Arial,Helvetica Neue,Helvetica,sans-serif; font-size:12; text-anchor:middle;\" transform=\"rotate(0, 150.302, 396.952)\" x=\"150.302\" y=\"396.952\">-1</text>\n",
       "</g>\n",
       "<g clip-path=\"url(#clip00)\">\n",
       "<text style=\"fill:#00002d; fill-opacity:1; font-family:Arial,Helvetica Neue,Helvetica,sans-serif; font-size:12; text-anchor:middle;\" transform=\"rotate(0, 278.889, 396.952)\" x=\"278.889\" y=\"396.952\">0</text>\n",
       "</g>\n",
       "<g clip-path=\"url(#clip00)\">\n",
       "<text style=\"fill:#00002d; fill-opacity:1; font-family:Arial,Helvetica Neue,Helvetica,sans-serif; font-size:12; text-anchor:middle;\" transform=\"rotate(0, 407.476, 396.952)\" x=\"407.476\" y=\"396.952\">1</text>\n",
       "</g>\n",
       "<g clip-path=\"url(#clip00)\">\n",
       "<text style=\"fill:#00002d; fill-opacity:1; font-family:Arial,Helvetica Neue,Helvetica,sans-serif; font-size:12; text-anchor:middle;\" transform=\"rotate(0, 536.063, 396.952)\" x=\"536.063\" y=\"396.952\">2</text>\n",
       "</g>\n",
       "<g clip-path=\"url(#clip00)\">\n",
       "<text style=\"fill:#00002d; fill-opacity:1; font-family:Arial,Helvetica Neue,Helvetica,sans-serif; font-size:12; text-anchor:end;\" transform=\"rotate(0, 20.5148, 389.452)\" x=\"20.5148\" y=\"389.452\">-2</text>\n",
       "</g>\n",
       "<g clip-path=\"url(#clip00)\">\n",
       "<text style=\"fill:#00002d; fill-opacity:1; font-family:Arial,Helvetica Neue,Helvetica,sans-serif; font-size:12; text-anchor:end;\" transform=\"rotate(0, 20.5148, 294.198)\" x=\"20.5148\" y=\"294.198\">-1</text>\n",
       "</g>\n",
       "<g clip-path=\"url(#clip00)\">\n",
       "<text style=\"fill:#00002d; fill-opacity:1; font-family:Arial,Helvetica Neue,Helvetica,sans-serif; font-size:12; text-anchor:end;\" transform=\"rotate(0, 20.5148, 198.944)\" x=\"20.5148\" y=\"198.944\">0</text>\n",
       "</g>\n",
       "<g clip-path=\"url(#clip00)\">\n",
       "<text style=\"fill:#00002d; fill-opacity:1; font-family:Arial,Helvetica Neue,Helvetica,sans-serif; font-size:12; text-anchor:end;\" transform=\"rotate(0, 20.5148, 103.691)\" x=\"20.5148\" y=\"103.691\">1</text>\n",
       "</g>\n",
       "<g clip-path=\"url(#clip00)\">\n",
       "<text style=\"fill:#00002d; fill-opacity:1; font-family:Arial,Helvetica Neue,Helvetica,sans-serif; font-size:12; text-anchor:end;\" transform=\"rotate(0, 20.5148, 8.43701)\" x=\"20.5148\" y=\"8.43701\">2</text>\n",
       "</g>\n",
       "<polyline clip-path=\"url(#clip02)\" style=\"stroke:#ba3655; stroke-width:0.8; stroke-opacity:1; fill:none\" points=\"\n",
       "  21.7148,384.952 26.9102,381.103 32.1057,377.255 37.3011,373.406 42.4965,369.557 47.692,365.709 \n",
       "  52.8874,361.86 58.0828,358.011 63.2783,354.163 68.4737,350.314 73.6691,346.466 \n",
       "  78.8646,342.617 84.06,338.768 89.2555,334.92 94.4509,331.071 99.6463,327.222 \n",
       "  104.842,323.374 110.037,319.525 115.233,315.676 120.428,311.828 125.624,307.979 \n",
       "  130.819,304.131 136.014,300.282 141.21,296.433 146.405,292.585 151.601,288.736 \n",
       "  156.796,284.887 161.992,281.039 167.187,277.19 172.382,273.341 177.578,269.493 \n",
       "  182.773,265.644 187.969,261.796 193.164,257.947 198.36,254.098 203.555,250.25 \n",
       "  208.75,246.401 213.946,242.552 219.141,238.704 224.337,234.855 229.532,231.006 \n",
       "  234.728,227.158 239.923,223.309 245.119,219.461 250.314,215.612 255.509,211.763 \n",
       "  260.705,207.915 265.9,204.066 271.096,200.217 276.291,196.369 281.487,196.369 286.682,200.217 \n",
       "  291.877,204.066 297.073,207.915 302.268,211.763 307.464,215.612 312.659,219.461 \n",
       "  317.855,223.309 323.05,227.158 328.246,231.006 333.441,234.855 338.636,238.704 \n",
       "  343.832,242.552 349.027,246.401 354.223,250.25 359.418,254.098 364.614,257.947 \n",
       "  369.809,261.796 375.004,265.644 380.2,269.493 385.395,273.341 390.591,277.19 \n",
       "  395.786,281.039 400.982,284.887 406.177,288.736 411.373,292.585 416.568,296.433 \n",
       "  421.763,300.282 426.959,304.131 432.154,307.979 437.35,311.828 442.545,315.676 \n",
       "  447.741,319.525 452.936,323.374 458.131,327.222 463.327,331.071 468.522,334.92 \n",
       "  473.718,338.768 478.913,342.617 484.109,346.466 489.304,350.314 494.5,354.163 \n",
       "  499.695,358.011 504.89,361.86 510.086,365.709 515.281,369.557 520.477,373.406 \n",
       "  525.672,377.255 530.868,381.103 536.063,384.952 \n",
       "  \"/>\n",
       "<polyline clip-path=\"url(#clip02)\" style=\"stroke:#d24742; stroke-width:0.8; stroke-opacity:1; fill:none\" points=\"\n",
       "  536.063,370.812 534.473,369.557 530.868,366.649 529.677,365.709 525.672,362.472 524.898,361.86 520.477,358.28 520.138,358.011 515.394,354.163 515.281,354.069 \n",
       "  510.663,350.314 510.086,349.833 505.953,346.466 504.89,345.577 501.266,342.617 499.695,341.3 496.602,338.768 494.5,337 491.965,334.92 489.304,332.675 \n",
       "  487.356,331.071 484.109,328.322 482.776,327.222 478.913,323.94 478.23,323.374 473.718,319.525 469.224,315.676 468.522,315.056 464.77,311.828 \n",
       "  463.327,310.545 460.358,307.979 458.131,305.989 455.992,304.131 452.936,301.382 451.677,300.282 447.741,296.718 447.416,296.433 443.195,292.585 442.545,291.969 \n",
       "  439.026,288.736 437.35,287.132 434.925,284.887 432.154,282.21 430.9,281.039 426.959,277.19 423.062,273.341 421.763,271.994 419.262,269.493 \n",
       "  416.568,266.657 415.569,265.644 411.972,261.796 411.373,261.116 408.463,257.947 406.177,255.301 405.095,254.098 401.848,250.25 400.982,249.15 398.723,246.401 \n",
       "  395.786,242.552 392.952,238.704 390.591,235.205 390.343,234.855 387.869,231.006 385.643,227.158 385.395,226.677 383.577,223.309 381.759,219.461 \n",
       "  380.2,215.612 378.833,211.763 377.739,207.915 376.919,204.066 376.372,200.217 376.098,196.369 376.098,192.52 376.372,188.671 376.919,184.823 \n",
       "  377.739,180.974 378.833,177.126 380.2,173.277 381.759,169.428 383.577,165.58 385.395,162.212 385.643,161.731 387.869,157.882 390.343,154.034 \n",
       "  390.591,153.684 392.952,150.185 395.786,146.337 398.723,142.488 400.982,139.739 401.848,138.639 405.095,134.791 406.177,133.588 408.463,130.942 \n",
       "  411.373,127.773 411.972,127.093 415.569,123.245 416.568,122.232 419.262,119.396 421.763,116.894 423.062,115.547 426.959,111.699 430.9,107.85 \n",
       "  432.154,106.679 434.925,104.002 437.35,101.756 439.026,100.153 442.545,96.92 443.195,96.3042 447.416,92.4556 447.741,92.1705 451.677,88.607 452.936,87.5074 \n",
       "  455.992,84.7583 458.131,82.9004 460.358,80.9097 463.327,78.344 464.77,77.0611 468.522,73.8332 469.224,73.2124 473.718,69.3638 478.23,65.5152 \n",
       "  478.913,64.9492 482.776,61.6665 484.109,60.5669 487.356,57.8179 489.304,56.2143 491.965,53.9693 494.5,51.8889 496.602,50.1206 499.695,47.5886 501.266,46.272 \n",
       "  504.89,43.3115 505.953,42.4234 510.086,39.0558 510.663,38.5747 515.281,34.82 515.394,34.7261 520.138,30.8775 520.477,30.6089 524.898,27.0288 525.672,26.4165 \n",
       "  529.677,23.1802 530.868,22.2394 534.473,19.3315 536.063,18.0766 \n",
       "  \"/>\n",
       "<polyline clip-path=\"url(#clip02)\" style=\"stroke:#ba3655; stroke-width:0.8; stroke-opacity:1; fill:none\" points=\"\n",
       "  536.063,3.93701 530.868,7.78564 525.672,11.6343 520.477,15.4829 515.281,19.3315 510.086,23.1802 \n",
       "  504.89,27.0288 499.695,30.8775 494.5,34.7261 489.304,38.5747 484.109,42.4234 \n",
       "  478.913,46.272 473.718,50.1206 468.522,53.9693 463.327,57.8179 458.131,61.6665 \n",
       "  452.936,65.5152 447.741,69.3638 442.545,73.2124 437.35,77.0611 432.154,80.9097 \n",
       "  426.959,84.7583 421.763,88.607 416.568,92.4556 411.373,96.3042 406.177,100.153 \n",
       "  400.982,104.002 395.786,107.85 390.591,111.699 385.395,115.547 380.2,119.396 \n",
       "  375.004,123.245 369.809,127.093 364.614,130.942 359.418,134.791 354.223,138.639 \n",
       "  349.027,142.488 343.832,146.337 338.636,150.185 333.441,154.034 328.246,157.882 \n",
       "  323.05,161.731 317.855,165.58 312.659,169.428 307.464,173.277 302.268,177.126 \n",
       "  297.073,180.974 291.877,184.823 286.682,188.671 281.487,192.52 276.291,192.52 271.096,188.671 \n",
       "  265.9,184.823 260.705,180.974 255.509,177.126 250.314,173.277 245.119,169.428 \n",
       "  239.923,165.58 234.728,161.731 229.532,157.882 224.337,154.034 219.141,150.185 \n",
       "  213.946,146.337 208.75,142.488 203.555,138.639 198.36,134.791 193.164,130.942 \n",
       "  187.969,127.093 182.773,123.245 177.578,119.396 172.382,115.547 167.187,111.699 \n",
       "  161.992,107.85 156.796,104.002 151.601,100.153 146.405,96.3042 141.21,92.4556 \n",
       "  136.014,88.607 130.819,84.7583 125.624,80.9097 120.428,77.0611 115.233,73.2124 \n",
       "  110.037,69.3638 104.842,65.5152 99.6463,61.6665 94.4509,57.8179 89.2555,53.9693 \n",
       "  84.06,50.1206 78.8646,46.272 73.6691,42.4234 68.4737,38.5747 63.2783,34.7261 \n",
       "  58.0828,30.8775 52.8874,27.0288 47.692,23.1802 42.4965,19.3315 37.3011,15.4829 \n",
       "  32.1057,11.6343 26.9102,7.78564 21.7148,3.93701 \n",
       "  \"/>\n",
       "<polyline clip-path=\"url(#clip02)\" style=\"stroke:#9e2a62; stroke-width:0.8; stroke-opacity:1; fill:none\" points=\"\n",
       "  40.8024,3.93701 42.4965,5.11516 46.422,7.78564 47.692,8.66762 52.0609,11.6343 52.8874,12.2075 57.7204,15.4829 58.0828,15.7339 63.2783,19.2479 63.405,19.3315 \n",
       "  68.4737,22.7526 69.1231,23.1802 73.6691,26.2416 74.8681,27.0288 78.8646,29.7139 80.642,30.8775 84.06,33.1683 86.4471,34.7261 89.2555,36.6035 92.2861,38.5747 \n",
       "  94.4509,40.018 98.1619,42.4234 99.6463,43.4102 104.078,46.272 104.842,46.7784 110.037,50.1206 110.037,50.1206 115.233,53.4492 116.071,53.9693 120.428,56.7488 \n",
       "  122.16,57.8179 125.624,60.0171 128.311,61.6665 130.819,63.2513 134.53,65.5152 136.014,66.4482 140.825,69.3638 141.21,69.6043 146.405,72.7314 147.237,73.2124 \n",
       "  151.601,75.8196 153.765,77.0611 156.796,78.8571 160.41,80.9097 161.992,81.8387 167.187,84.7583 172.382,87.6448 174.201,88.607 177.578,90.46 \n",
       "  181.406,92.4556 182.773,93.1957 187.969,95.8602 188.886,96.3042 193.164,98.4595 196.736,100.153 198.36,100.955 203.555,103.36 205.039,104.002 208.75,105.675 \n",
       "  213.946,107.85 219.141,109.949 223.864,111.699 224.337,111.882 229.532,113.715 234.728,115.364 235.377,115.547 239.923,116.894 245.119,118.241 \n",
       "  250.314,119.396 255.509,120.409 260.705,121.219 265.9,121.827 271.096,122.232 276.291,122.434 281.487,122.434 286.682,122.232 291.877,121.827 \n",
       "  297.073,121.219 302.268,120.409 307.464,119.396 312.659,118.241 317.855,116.894 322.401,115.547 323.05,115.364 328.246,113.715 333.441,111.882 \n",
       "  333.913,111.699 338.636,109.949 343.832,107.85 349.027,105.675 352.738,104.002 354.223,103.36 359.418,100.955 361.042,100.153 364.614,98.4595 \n",
       "  368.892,96.3042 369.809,95.8602 375.004,93.1957 376.372,92.4556 380.2,90.46 383.577,88.607 385.395,87.6448 390.591,84.7583 395.786,81.8387 \n",
       "  397.367,80.9097 400.982,78.8571 404.012,77.0611 406.177,75.8196 410.541,73.2124 411.373,72.7314 416.568,69.6043 416.953,69.3638 421.763,66.4482 423.248,65.5152 \n",
       "  426.959,63.2513 429.467,61.6665 432.154,60.0171 435.618,57.8179 437.35,56.7488 441.707,53.9693 442.545,53.4492 447.741,50.1206 452.936,46.7784 \n",
       "  453.7,46.272 458.131,43.4102 459.616,42.4234 463.327,40.018 465.492,38.5747 468.522,36.6035 471.331,34.7261 473.718,33.1683 477.136,30.8775 478.913,29.7139 \n",
       "  482.91,27.0288 484.109,26.2416 488.655,23.1802 489.304,22.7526 494.373,19.3315 494.5,19.2479 499.695,15.7339 500.057,15.4829 504.89,12.2075 505.717,11.6343 \n",
       "  510.086,8.66762 511.356,7.78564 515.281,5.11516 516.975,3.93701 \n",
       "  \"/>\n",
       "<polyline clip-path=\"url(#clip02)\" style=\"stroke:#821f6b; stroke-width:0.8; stroke-opacity:1; fill:none\" points=\"\n",
       "  496.231,3.93701 494.5,5.03662 490.064,7.78564 489.304,8.26672 484.109,11.4739 483.842,11.6343 478.913,14.6641 477.546,15.4829 473.718,17.8256 471.19,19.3315 \n",
       "  468.522,20.9565 464.77,23.1802 463.327,24.0549 458.28,27.0288 458.131,27.1183 452.936,30.1614 451.677,30.8775 447.741,33.1683 444.98,34.7261 442.545,36.1341 \n",
       "  438.188,38.5747 437.35,39.0558 432.154,41.9423 431.258,42.4234 426.959,44.7917 424.176,46.272 421.763,47.5886 416.953,50.1206 416.568,50.3287 411.373,53.0331 \n",
       "  409.502,53.9693 406.177,55.6798 401.848,57.8179 400.982,58.2577 395.786,60.7868 393.897,61.6665 390.591,63.2513 385.643,65.5152 385.395,65.6318 380.2,67.9643 \n",
       "  376.919,69.3638 375.004,70.2057 369.809,72.3706 367.67,73.2124 364.614,74.4539 359.418,76.4403 357.686,77.0611 354.223,78.344 349.027,80.14 346.629,80.9097 \n",
       "  343.832,81.8387 338.636,83.4312 333.913,84.7583 333.441,84.8958 328.246,86.2703 323.05,87.5074 317.855,88.607 312.659,89.6048 307.464,90.46 \n",
       "  302.268,91.1727 297.073,91.7429 291.877,92.1705 286.682,92.4556 281.487,92.6036 276.291,92.6036 271.096,92.4556 265.9,92.1705 \n",
       "  260.705,91.7429 255.509,91.1727 250.314,90.46 245.119,89.6048 239.923,88.607 234.728,87.5074 229.532,86.2703 224.337,84.8958 223.864,84.7583 \n",
       "  219.141,83.4312 213.946,81.8387 211.148,80.9097 208.75,80.14 203.555,78.344 200.091,77.0611 198.36,76.4403 193.164,74.4539 190.108,73.2124 187.969,72.3706 \n",
       "  182.773,70.2057 180.859,69.3638 177.578,67.9643 172.382,65.6318 172.135,65.5152 167.187,63.2513 163.881,61.6665 161.992,60.7868 156.796,58.2577 155.93,57.8179 \n",
       "  151.601,55.6798 148.276,53.9693 146.405,53.0331 141.21,50.3287 140.825,50.1206 136.014,47.5886 133.602,46.272 130.819,44.7917 126.519,42.4234 125.624,41.9423 \n",
       "  120.428,39.0558 119.59,38.5747 115.233,36.1341 112.797,34.7261 110.037,33.1683 106.101,30.8775 104.842,30.1614 99.6463,27.1183 99.4979,27.0288 94.4509,24.0549 \n",
       "  93.0077,23.1802 89.2555,20.9565 86.5875,19.3315 84.06,17.8256 80.2318,15.4829 78.8646,14.6641 73.9356,11.6343 73.6691,11.4739 68.4737,8.26672 67.7134,7.78564 \n",
       "  63.2783,5.03662 61.5465,3.93701 \n",
       "  \"/>\n",
       "<polyline clip-path=\"url(#clip02)\" style=\"stroke:#63146e; stroke-width:0.8; stroke-opacity:1; fill:none\" points=\"\n",
       "  84.4813,3.93701 89.2555,6.60749 91.4202,7.78564 94.4509,9.46942 98.4588,11.6343 99.6463,12.2894 104.842,15.0735 105.629,15.4829 110.037,17.8256 112.96,19.3315 \n",
       "  115.233,20.5289 120.428,23.1802 120.428,23.1802 125.624,25.8043 128.132,27.0288 130.819,28.3714 136.014,30.8775 141.21,33.3516 144.207,34.7261 \n",
       "  146.405,35.7586 151.601,38.1054 152.683,38.5747 156.796,40.4028 161.54,42.4234 161.992,42.6207 167.187,44.7917 170.898,46.272 172.382,46.8797 177.578,48.9053 \n",
       "  180.859,50.1206 182.773,50.8487 187.969,52.7211 191.636,53.9693 193.164,54.5038 198.36,56.2143 203.555,57.8179 208.75,59.3574 213.946,60.7868 \n",
       "  217.41,61.6665 219.141,62.1193 224.337,63.3645 229.532,64.4964 234.728,65.5152 234.728,65.5152 239.923,66.4482 245.119,67.2645 250.314,67.9643 255.509,68.5474 \n",
       "  260.705,69.0139 265.9,69.3638 271.096,69.6043 276.291,69.7246 281.487,69.7246 286.682,69.6043 291.877,69.3638 297.073,69.0139 \n",
       "  302.268,68.5474 307.464,67.9643 312.659,67.2645 317.855,66.4482 323.05,65.5152 323.05,65.5152 328.246,64.4964 333.441,63.3645 338.636,62.1193 340.368,61.6665 \n",
       "  343.832,60.7868 349.027,59.3574 354.223,57.8179 359.418,56.2143 364.614,54.5038 366.142,53.9693 369.809,52.7211 375.004,50.8487 376.919,50.1206 \n",
       "  380.2,48.9053 385.395,46.8797 386.88,46.272 390.591,44.7917 395.786,42.6207 396.238,42.4234 400.982,40.4028 405.095,38.5747 406.177,38.1054 411.373,35.7586 \n",
       "  413.571,34.7261 416.568,33.3516 421.763,30.8775 426.959,28.3714 429.646,27.0288 432.154,25.8043 437.35,23.1802 442.545,20.5289 \n",
       "  444.818,19.3315 447.741,17.8256 452.149,15.4829 452.936,15.0735 458.131,12.2894 459.319,11.6343 463.327,9.46942 466.358,7.78564 468.522,6.60749 473.297,3.93701 \n",
       "  \n",
       "  \"/>\n",
       "<polyline clip-path=\"url(#clip02)\" style=\"stroke:#470b69; stroke-width:0.8; stroke-opacity:1; fill:none\" points=\"\n",
       "  447.254,3.93701 442.545,6.21477 439.193,7.78564 437.35,8.66762 432.154,11.073 430.9,11.6343 426.959,13.4358 422.32,15.4829 421.763,15.7339 416.568,17.9929 \n",
       "  413.371,19.3315 411.373,20.1868 406.177,22.3249 404.012,23.1802 400.982,24.4047 395.786,26.4165 394.133,27.0288 390.591,28.3714 385.395,30.2509 383.577,30.8775 \n",
       "  380.2,32.0687 375.004,33.8097 372.118,34.7261 369.809,35.477 364.614,37.0728 359.418,38.5747 359.418,38.5747 354.223,40.018 349.027,41.365 344.631,42.4234 \n",
       "  343.832,42.6207 338.636,43.8049 333.441,44.8904 328.246,45.8773 325.936,46.272 323.05,46.7784 317.855,47.5886 312.659,48.2976 307.464,48.9053 302.268,49.4117 \n",
       "  297.073,49.8168 291.877,50.1206 286.682,50.3287 281.487,50.4327 276.291,50.4327 271.096,50.3287 265.9,50.1206 260.705,49.8168 \n",
       "  255.509,49.4117 250.314,48.9053 245.119,48.2976 239.923,47.5886 234.728,46.7784 231.841,46.272 229.532,45.8773 224.337,44.8904 219.141,43.8049 213.946,42.6207 \n",
       "  213.147,42.4234 208.75,41.365 203.555,40.018 198.36,38.5747 198.36,38.5747 193.164,37.0728 187.969,35.477 185.66,34.7261 182.773,33.8097 177.578,32.0687 \n",
       "  174.201,30.8775 172.382,30.2509 167.187,28.3714 163.645,27.0288 161.992,26.4165 156.796,24.4047 153.765,23.1802 151.601,22.3249 146.405,20.1868 144.407,19.3315 \n",
       "  141.21,17.9929 136.014,15.7339 135.458,15.4829 130.819,13.4358 126.878,11.6343 125.624,11.073 120.428,8.66762 118.585,7.78564 115.233,6.21477 110.524,3.93701 \n",
       "  \n",
       "  \"/>\n",
       "<polyline clip-path=\"url(#clip02)\" style=\"stroke:#270b52; stroke-width:0.8; stroke-opacity:1; fill:none\" points=\"\n",
       "  141.41,3.93701 146.405,5.9006 151.393,7.78564 151.601,7.86582 156.796,9.79014 161.992,11.6343 167.187,13.4358 172.382,15.1554 173.422,15.4829 \n",
       "  177.578,16.8216 182.773,18.4112 185.948,19.3315 187.969,19.9302 193.164,21.3842 198.36,22.7526 200.091,23.1802 203.555,24.0549 208.75,25.2794 213.946,26.4165 \n",
       "  216.977,27.0288 219.141,27.4763 224.337,28.4609 229.532,29.3559 234.728,30.1614 239.923,30.8775 239.923,30.8775 245.119,31.5189 250.314,32.0687 255.509,32.5269 \n",
       "  260.705,32.8934 265.9,33.1683 271.096,33.3516 276.291,33.4432 281.487,33.4432 286.682,33.3516 291.877,33.1683 297.073,32.8934 302.268,32.5269 307.464,32.0687 \n",
       "  312.659,31.5189 317.855,30.8775 317.855,30.8775 323.05,30.1614 328.246,29.3559 333.441,28.4609 338.636,27.4763 340.801,27.0288 343.832,26.4165 349.027,25.2794 \n",
       "  354.223,24.0549 357.686,23.1802 359.418,22.7526 364.614,21.3842 369.809,19.9302 371.829,19.3315 375.004,18.4112 380.2,16.8216 384.356,15.4829 385.395,15.1554 \n",
       "  390.591,13.4358 395.786,11.6343 400.982,9.79014 406.177,7.86582 406.385,7.78564 411.373,5.9006 416.368,3.93701 \n",
       "  \"/>\n",
       "<polyline clip-path=\"url(#clip02)\" style=\"stroke:#0d0829; stroke-width:0.8; stroke-opacity:1; fill:none\" points=\"\n",
       "  376.098,3.93701 375.004,4.25118 369.809,5.66497 364.614,7.00021 361.366,7.78564 359.418,8.26672 354.223,9.46942 349.027,10.5919 343.832,11.6343 \n",
       "  338.636,12.6169 333.441,13.5177 328.246,14.3365 323.05,15.0735 319.803,15.4829 317.855,15.7339 312.659,16.3196 307.464,16.8216 302.268,17.2399 297.073,17.5746 \n",
       "  291.877,17.8256 286.682,17.9929 281.487,18.0766 276.291,18.0766 271.096,17.9929 265.9,17.8256 260.705,17.5746 255.509,17.2399 250.314,16.8216 245.119,16.3196 \n",
       "  239.923,15.7339 237.975,15.4829 234.728,15.0735 229.532,14.3365 224.337,13.5177 219.141,12.6169 213.946,11.6343 208.75,10.5919 203.555,9.46942 \n",
       "  198.36,8.26672 196.411,7.78564 193.164,7.00021 187.969,5.66497 182.773,4.25118 181.68,3.93701 \n",
       "  \"/>\n",
       "<polyline clip-path=\"url(#clip02)\" style=\"stroke:#d24742; stroke-width:0.8; stroke-opacity:1; fill:none\" points=\"\n",
       "  21.7148,18.0766 23.3052,19.3315 26.9102,22.2394 28.1008,23.1802 32.1057,26.4165 32.8794,27.0288 37.3011,30.6089 37.6399,30.8775 42.3836,34.7261 42.4965,34.82 \n",
       "  47.1147,38.5747 47.692,39.0558 51.8247,42.4234 52.8874,43.3115 56.5121,46.272 58.0828,47.5886 61.1754,50.1206 63.2783,51.8889 65.8126,53.9693 68.4737,56.2143 \n",
       "  70.422,57.8179 73.6691,60.5669 75.0013,61.6665 78.8646,64.9492 79.5482,65.5152 84.06,69.3638 88.5534,73.2124 89.2555,73.8332 93.0077,77.0611 \n",
       "  94.4509,78.344 97.4197,80.9097 99.6463,82.9004 101.786,84.7583 104.842,87.5074 106.101,88.607 110.037,92.1705 110.362,92.4556 114.583,96.3042 115.233,96.92 \n",
       "  118.752,100.153 120.428,101.756 122.853,104.002 125.624,106.679 126.878,107.85 130.819,111.699 134.716,115.547 136.014,116.894 138.516,119.396 \n",
       "  141.21,122.232 142.209,123.245 145.806,127.093 146.405,127.773 149.315,130.942 151.601,133.588 152.683,134.791 155.93,138.639 156.796,139.739 159.055,142.488 \n",
       "  161.992,146.337 164.825,150.185 167.187,153.684 167.434,154.034 169.908,157.882 172.135,161.731 172.382,162.212 174.201,165.58 176.019,169.428 \n",
       "  177.578,173.277 178.945,177.126 180.039,180.974 180.859,184.823 181.406,188.671 181.68,192.52 181.68,196.369 181.406,200.217 180.859,204.066 \n",
       "  180.039,207.915 178.945,211.763 177.578,215.612 176.019,219.461 174.201,223.309 172.382,226.677 172.135,227.158 169.908,231.006 167.434,234.855 \n",
       "  167.187,235.205 164.825,238.704 161.992,242.552 159.055,246.401 156.796,249.15 155.93,250.25 152.683,254.098 151.601,255.301 149.315,257.947 \n",
       "  146.405,261.116 145.806,261.796 142.209,265.644 141.21,266.657 138.516,269.493 136.014,271.994 134.716,273.341 130.819,277.19 126.878,281.039 \n",
       "  125.624,282.21 122.853,284.887 120.428,287.132 118.752,288.736 115.233,291.969 114.583,292.585 110.362,296.433 110.037,296.718 106.101,300.282 104.842,301.382 \n",
       "  101.786,304.131 99.6463,305.989 97.4197,307.979 94.4509,310.545 93.0077,311.828 89.2555,315.056 88.5534,315.676 84.06,319.525 79.5482,323.374 \n",
       "  78.8646,323.94 75.0013,327.222 73.6691,328.322 70.422,331.071 68.4737,332.675 65.8126,334.92 63.2783,337 61.1754,338.768 58.0828,341.3 56.5121,342.617 \n",
       "  52.8874,345.577 51.8247,346.466 47.692,349.833 47.1147,350.314 42.4965,354.069 42.3836,354.163 37.6399,358.011 37.3011,358.28 32.8794,361.86 32.1057,362.472 \n",
       "  28.1008,365.709 26.9102,366.649 23.3052,369.557 21.7148,370.812 \n",
       "  \"/>\n",
       "<polyline clip-path=\"url(#clip02)\" style=\"stroke:#9e2a62; stroke-width:0.8; stroke-opacity:1; fill:none\" points=\"\n",
       "  40.8024,384.952 42.4965,383.774 46.422,381.103 47.692,380.221 52.0609,377.255 52.8874,376.681 57.7204,373.406 58.0828,373.155 63.2783,369.641 63.405,369.557 \n",
       "  68.4737,366.136 69.1231,365.709 73.6691,362.647 74.8681,361.86 78.8646,359.175 80.642,358.011 84.06,355.721 86.4471,354.163 89.2555,352.285 92.2861,350.314 \n",
       "  94.4509,348.871 98.1619,346.466 99.6463,345.479 104.078,342.617 104.842,342.11 110.037,338.768 110.037,338.768 115.233,335.44 116.071,334.92 120.428,332.14 \n",
       "  122.16,331.071 125.624,328.872 128.311,327.222 130.819,325.638 134.53,323.374 136.014,322.441 140.825,319.525 141.21,319.285 146.405,316.158 147.237,315.676 \n",
       "  151.601,313.069 153.765,311.828 156.796,310.032 160.41,307.979 161.992,307.05 167.187,304.131 172.382,301.244 174.201,300.282 177.578,298.429 \n",
       "  181.406,296.433 182.773,295.693 187.969,293.029 188.886,292.585 193.164,290.429 196.736,288.736 198.36,287.934 203.555,285.529 205.039,284.887 208.75,283.214 \n",
       "  213.946,281.039 219.141,278.939 223.864,277.19 224.337,277.007 229.532,275.174 234.728,273.525 235.377,273.341 239.923,271.994 245.119,270.647 \n",
       "  250.314,269.493 255.509,268.48 260.705,267.67 265.9,267.062 271.096,266.657 276.291,266.454 281.487,266.454 286.682,266.657 291.877,267.062 \n",
       "  297.073,267.67 302.268,268.48 307.464,269.493 312.659,270.647 317.855,271.994 322.401,273.341 323.05,273.525 328.246,275.174 333.441,277.007 \n",
       "  333.913,277.19 338.636,278.939 343.832,281.039 349.027,283.214 352.738,284.887 354.223,285.529 359.418,287.934 361.042,288.736 364.614,290.429 \n",
       "  368.892,292.585 369.809,293.029 375.004,295.693 376.372,296.433 380.2,298.429 383.577,300.282 385.395,301.244 390.591,304.131 395.786,307.05 \n",
       "  397.367,307.979 400.982,310.032 404.012,311.828 406.177,313.069 410.541,315.676 411.373,316.158 416.568,319.285 416.953,319.525 421.763,322.441 423.248,323.374 \n",
       "  426.959,325.638 429.467,327.222 432.154,328.872 435.618,331.071 437.35,332.14 441.707,334.92 442.545,335.44 447.741,338.768 452.936,342.11 \n",
       "  453.7,342.617 458.131,345.479 459.616,346.466 463.327,348.871 465.492,350.314 468.522,352.285 471.331,354.163 473.718,355.721 477.136,358.011 478.913,359.175 \n",
       "  482.91,361.86 484.109,362.647 488.655,365.709 489.304,366.136 494.373,369.557 494.5,369.641 499.695,373.155 500.057,373.406 504.89,376.681 505.717,377.255 \n",
       "  510.086,380.221 511.356,381.103 515.281,383.774 516.975,384.952 \n",
       "  \"/>\n",
       "<polyline clip-path=\"url(#clip02)\" style=\"stroke:#821f6b; stroke-width:0.8; stroke-opacity:1; fill:none\" points=\"\n",
       "  496.231,384.952 494.5,383.852 490.064,381.103 489.304,380.622 484.109,377.415 483.842,377.255 478.913,374.225 477.546,373.406 473.718,371.063 471.19,369.557 \n",
       "  468.522,367.932 464.77,365.709 463.327,364.834 458.28,361.86 458.131,361.771 452.936,358.727 451.677,358.011 447.741,355.721 444.98,354.163 442.545,352.755 \n",
       "  438.188,350.314 437.35,349.833 432.154,346.947 431.258,346.466 426.959,344.097 424.176,342.617 421.763,341.3 416.953,338.768 416.568,338.56 411.373,335.856 \n",
       "  409.502,334.92 406.177,333.209 401.848,331.071 400.982,330.631 395.786,328.102 393.897,327.222 390.591,325.638 385.643,323.374 385.395,323.257 380.2,320.925 \n",
       "  376.919,319.525 375.004,318.683 369.809,316.518 367.67,315.676 364.614,314.435 359.418,312.449 357.686,311.828 354.223,310.545 349.027,308.749 346.629,307.979 \n",
       "  343.832,307.05 338.636,305.458 333.913,304.131 333.441,303.993 328.246,302.619 323.05,301.382 317.855,300.282 312.659,299.284 307.464,298.429 \n",
       "  302.268,297.716 297.073,297.146 291.877,296.718 286.682,296.433 281.487,296.285 276.291,296.285 271.096,296.433 265.9,296.718 \n",
       "  260.705,297.146 255.509,297.716 250.314,298.429 245.119,299.284 239.923,300.282 234.728,301.382 229.532,302.619 224.337,303.993 223.864,304.131 \n",
       "  219.141,305.458 213.946,307.05 211.148,307.979 208.75,308.749 203.555,310.545 200.091,311.828 198.36,312.449 193.164,314.435 190.108,315.676 187.969,316.518 \n",
       "  182.773,318.683 180.859,319.525 177.578,320.925 172.382,323.257 172.135,323.374 167.187,325.638 163.881,327.222 161.992,328.102 156.796,330.631 155.93,331.071 \n",
       "  151.601,333.209 148.276,334.92 146.405,335.856 141.21,338.56 140.825,338.768 136.014,341.3 133.602,342.617 130.819,344.097 126.519,346.466 125.624,346.947 \n",
       "  120.428,349.833 119.59,350.314 115.233,352.755 112.797,354.163 110.037,355.721 106.101,358.011 104.842,358.727 99.6463,361.771 99.4979,361.86 94.4509,364.834 \n",
       "  93.0077,365.709 89.2555,367.932 86.5875,369.557 84.06,371.063 80.2318,373.406 78.8646,374.225 73.9356,377.255 73.6691,377.415 68.4737,380.622 67.7134,381.103 \n",
       "  63.2783,383.852 61.5465,384.952 \n",
       "  \"/>\n",
       "<polyline clip-path=\"url(#clip02)\" style=\"stroke:#63146e; stroke-width:0.8; stroke-opacity:1; fill:none\" points=\"\n",
       "  84.4813,384.952 89.2555,382.281 91.4202,381.103 94.4509,379.419 98.4588,377.255 99.6463,376.6 104.842,373.815 105.629,373.406 110.037,371.063 112.96,369.557 \n",
       "  115.233,368.36 120.428,365.709 120.428,365.709 125.624,363.085 128.132,361.86 130.819,360.518 136.014,358.011 136.014,358.011 141.21,355.537 144.207,354.163 \n",
       "  146.405,353.13 151.601,350.784 152.683,350.314 156.796,348.486 161.54,346.466 161.992,346.268 167.187,344.097 170.898,342.617 172.382,342.009 177.578,339.984 \n",
       "  180.859,338.768 182.773,338.04 187.969,336.168 191.636,334.92 193.164,334.385 198.36,332.675 203.555,331.071 208.75,329.532 213.946,328.102 \n",
       "  217.41,327.222 219.141,326.77 224.337,325.524 229.532,324.392 234.728,323.374 234.728,323.374 239.923,322.441 245.119,321.624 250.314,320.925 255.509,320.341 \n",
       "  260.705,319.875 265.9,319.525 271.096,319.285 276.291,319.164 281.487,319.164 286.682,319.285 291.877,319.525 297.073,319.875 \n",
       "  302.268,320.341 307.464,320.925 312.659,321.624 317.855,322.441 323.05,323.374 323.05,323.374 328.246,324.392 333.441,325.524 338.636,326.77 340.368,327.222 \n",
       "  343.832,328.102 349.027,329.532 354.223,331.071 359.418,332.675 364.614,334.385 366.142,334.92 369.809,336.168 375.004,338.04 376.919,338.768 \n",
       "  380.2,339.984 385.395,342.009 386.88,342.617 390.591,344.097 395.786,346.268 396.238,346.466 400.982,348.486 405.095,350.314 406.177,350.784 411.373,353.13 \n",
       "  413.571,354.163 416.568,355.537 421.763,358.011 421.763,358.011 426.959,360.518 429.646,361.86 432.154,363.085 437.35,365.709 442.545,368.36 \n",
       "  444.818,369.557 447.741,371.063 452.149,373.406 452.936,373.815 458.131,376.6 459.319,377.255 463.327,379.419 466.358,381.103 468.522,382.281 473.297,384.952 \n",
       "  \n",
       "  \"/>\n",
       "<polyline clip-path=\"url(#clip02)\" style=\"stroke:#470b69; stroke-width:0.8; stroke-opacity:1; fill:none\" points=\"\n",
       "  447.254,384.952 442.545,382.674 439.193,381.103 437.35,380.221 432.154,377.816 430.9,377.255 426.959,375.453 422.32,373.406 421.763,373.155 416.568,370.896 \n",
       "  413.371,369.557 411.373,368.702 406.177,366.564 404.012,365.709 400.982,364.484 395.786,362.472 394.133,361.86 390.591,360.518 385.395,358.638 383.577,358.011 \n",
       "  380.2,356.82 375.004,355.079 372.118,354.163 369.809,353.412 364.614,351.816 359.418,350.314 359.418,350.314 354.223,348.871 349.027,347.524 344.631,346.466 \n",
       "  343.832,346.268 338.636,345.084 333.441,343.998 328.246,343.012 325.936,342.617 323.05,342.11 317.855,341.3 312.659,340.591 307.464,339.984 302.268,339.477 \n",
       "  297.073,339.072 291.877,338.768 286.682,338.56 281.487,338.456 276.291,338.456 271.096,338.56 265.9,338.768 260.705,339.072 \n",
       "  255.509,339.477 250.314,339.984 245.119,340.591 239.923,341.3 234.728,342.11 231.841,342.617 229.532,343.012 224.337,343.998 219.141,345.084 213.946,346.268 \n",
       "  213.147,346.466 208.75,347.524 203.555,348.871 198.36,350.314 198.36,350.314 193.164,351.816 187.969,353.412 185.66,354.163 182.773,355.079 177.578,356.82 \n",
       "  174.201,358.011 172.382,358.638 167.187,360.518 163.645,361.86 161.992,362.472 156.796,364.484 153.765,365.709 151.601,366.564 146.405,368.702 144.407,369.557 \n",
       "  141.21,370.896 136.014,373.155 135.458,373.406 130.819,375.453 126.878,377.255 125.624,377.816 120.428,380.221 118.585,381.103 115.233,382.674 110.524,384.952 \n",
       "  \n",
       "  \"/>\n",
       "<polyline clip-path=\"url(#clip02)\" style=\"stroke:#270b52; stroke-width:0.8; stroke-opacity:1; fill:none\" points=\"\n",
       "  141.41,384.952 146.405,382.988 151.393,381.103 151.601,381.023 156.796,379.099 161.992,377.255 167.187,375.453 172.382,373.734 173.422,373.406 \n",
       "  177.578,372.067 182.773,370.478 185.948,369.557 187.969,368.959 193.164,367.505 198.36,366.136 200.091,365.709 203.555,364.834 208.75,363.609 213.946,362.472 \n",
       "  216.977,361.86 219.141,361.413 224.337,360.428 229.532,359.533 234.728,358.727 239.923,358.011 239.923,358.011 245.119,357.37 250.314,356.82 255.509,356.362 \n",
       "  260.705,355.995 265.9,355.721 271.096,355.537 276.291,355.446 281.487,355.446 286.682,355.537 291.877,355.721 297.073,355.995 302.268,356.362 307.464,356.82 \n",
       "  312.659,357.37 317.855,358.011 317.855,358.011 323.05,358.727 328.246,359.533 333.441,360.428 338.636,361.413 340.801,361.86 343.832,362.472 349.027,363.609 \n",
       "  354.223,364.834 357.686,365.709 359.418,366.136 364.614,367.505 369.809,368.959 371.829,369.557 375.004,370.478 380.2,372.067 384.356,373.406 385.395,373.734 \n",
       "  390.591,375.453 395.786,377.255 400.982,379.099 406.177,381.023 406.385,381.103 411.373,382.988 416.368,384.952 \n",
       "  \"/>\n",
       "<polyline clip-path=\"url(#clip02)\" style=\"stroke:#0d0829; stroke-width:0.8; stroke-opacity:1; fill:none\" points=\"\n",
       "  376.098,384.952 375.004,384.638 369.809,383.224 364.614,381.889 361.366,381.103 359.418,380.622 354.223,379.419 349.027,378.297 343.832,377.255 \n",
       "  338.636,376.272 333.441,375.371 328.246,374.552 323.05,373.815 319.803,373.406 317.855,373.155 312.659,372.569 307.464,372.067 302.268,371.649 297.073,371.314 \n",
       "  291.877,371.063 286.682,370.896 281.487,370.812 276.291,370.812 271.096,370.896 265.9,371.063 260.705,371.314 255.509,371.649 250.314,372.067 245.119,372.569 \n",
       "  239.923,373.155 237.975,373.406 234.728,373.815 229.532,374.552 224.337,375.371 219.141,376.272 213.946,377.255 208.75,378.297 203.555,379.419 \n",
       "  198.36,380.622 196.411,381.103 193.164,381.889 187.969,383.224 182.773,384.638 181.68,384.952 \n",
       "  \"/>\n",
       "<polyline clip-path=\"url(#clip02)\" style=\"stroke:#f3e258; stroke-width:0.8; stroke-opacity:1; fill:none\" points=\"\n",
       "  21.7148,266.454 22.1389,265.644 24.0474,261.796 25.8499,257.947 26.9102,255.542 27.5597,254.098 29.1832,250.25 30.6986,246.401 32.1057,242.552 \n",
       "  33.4322,238.704 34.6481,234.855 35.7535,231.006 36.7484,227.158 37.3011,224.752 37.6399,223.309 38.4305,219.461 39.1082,215.612 39.6729,211.763 40.1247,207.915 \n",
       "  40.4635,204.066 40.6894,200.217 40.8024,196.369 40.8024,192.52 40.6894,188.671 40.4635,184.823 40.1247,180.974 39.6729,177.126 39.1082,173.277 38.4305,169.428 \n",
       "  37.6399,165.58 37.3011,164.136 36.7484,161.731 35.7535,157.882 34.6481,154.034 33.4322,150.185 32.1057,146.337 30.6986,142.488 29.1832,138.639 \n",
       "  27.5597,134.791 26.9102,133.347 25.8499,130.942 24.0474,127.093 22.1389,123.245 21.7148,122.434 \n",
       "  \"/>\n",
       "<polyline clip-path=\"url(#clip02)\" style=\"stroke:#fabf26; stroke-width:0.8; stroke-opacity:1; fill:none\" points=\"\n",
       "  21.7148,92.6036 24.3655,96.3042 26.9102,99.9989 27.0185,100.153 29.6162,104.002 32.1057,107.85 34.5376,111.699 36.8589,115.547 37.3011,116.317 \n",
       "  39.1082,119.396 41.2541,123.245 42.4965,125.597 43.3047,127.093 45.2674,130.942 47.1147,134.791 47.692,136.073 48.8727,138.639 50.5258,142.488 52.0609,146.337 \n",
       "  52.8874,148.582 53.4915,150.185 54.8206,154.034 56.0288,157.882 57.1162,161.731 58.0828,165.58 58.0828,165.58 58.9487,169.428 59.691,173.277 60.3095,177.126 \n",
       "  60.8043,180.974 61.1754,184.823 61.4228,188.671 61.5465,192.52 61.5465,196.369 61.4228,200.217 61.1754,204.066 60.8043,207.915 60.3095,211.763 59.691,215.612 \n",
       "  58.9487,219.461 58.0828,223.309 58.0828,223.309 57.1162,227.158 56.0288,231.006 54.8206,234.855 53.4915,238.704 52.8874,240.307 52.0609,242.552 50.5258,246.401 \n",
       "  48.8727,250.25 47.692,252.815 47.1147,254.098 45.2674,257.947 43.3047,261.796 42.4965,263.292 41.2541,265.644 39.1082,269.493 37.3011,272.572 36.8589,273.341 \n",
       "  34.5376,277.19 32.1057,281.039 29.6162,284.887 27.0185,288.736 26.9102,288.89 24.3655,292.585 21.7148,296.285 \n",
       "  \"/>\n",
       "<polyline clip-path=\"url(#clip02)\" style=\"stroke:#fb9c07; stroke-width:0.8; stroke-opacity:1; fill:none\" points=\"\n",
       "  21.7148,319.164 24.7896,315.676 26.9102,313.193 28.1008,311.828 31.348,307.979 32.1057,307.05 34.5376,304.131 37.3011,300.694 37.6399,300.282 40.6894,296.433 \n",
       "  42.4965,294.065 43.6511,292.585 46.5374,288.736 47.692,287.132 49.3451,284.887 52.0609,281.039 52.8874,279.814 54.6998,277.19 57.2371,273.341 58.0828,271.994 \n",
       "  59.691,269.493 62.0413,265.644 63.2783,263.506 64.292,261.796 66.4462,257.947 68.4737,254.098 68.4737,254.098 70.422,250.25 72.2404,246.401 73.6691,243.144 \n",
       "  73.9356,242.552 75.5342,238.704 76.9996,234.855 78.3317,231.006 78.8646,229.296 79.5482,227.158 80.642,223.309 81.599,219.461 82.4194,215.612 83.103,211.763 \n",
       "  83.6499,207.915 84.06,204.066 84.3409,200.217 84.4813,196.369 84.4813,192.52 84.3409,188.671 84.06,184.823 83.6499,180.974 \n",
       "  83.103,177.126 82.4194,173.277 81.599,169.428 80.642,165.58 79.5482,161.731 78.8646,159.593 78.3317,157.882 76.9996,154.034 75.5342,150.185 73.9356,146.337 \n",
       "  73.6691,145.744 72.2404,142.488 70.422,138.639 68.4737,134.791 68.4737,134.791 66.4462,130.942 64.292,127.093 63.2783,125.383 62.0413,123.245 59.691,119.396 \n",
       "  58.0828,116.894 57.2371,115.547 54.6998,111.699 52.8874,109.075 52.0609,107.85 49.3451,104.002 47.692,101.756 46.5374,100.153 43.6511,96.3042 42.4965,94.824 \n",
       "  40.6894,92.4556 37.6399,88.607 37.3011,88.1946 34.5376,84.7583 32.1057,81.8387 31.348,80.9097 28.1008,77.0611 26.9102,75.6954 24.7896,73.2124 21.7148,69.7246 \n",
       "  \n",
       "  \"/>\n",
       "<polyline clip-path=\"url(#clip02)\" style=\"stroke:#f57d15; stroke-width:0.8; stroke-opacity:1; fill:none\" points=\"\n",
       "  21.7148,50.4327 25.3198,53.9693 26.9102,55.5729 29.1832,57.8179 32.1057,60.7868 32.99,61.6665 36.7484,65.5152 37.3011,66.0983 40.4635,69.3638 42.4965,71.5287 \n",
       "  44.1129,73.2124 47.692,77.0611 51.2343,80.9097 52.8874,82.7677 54.6998,84.7583 58.0828,88.607 58.0828,88.607 61.4228,92.4556 63.2783,94.676 \n",
       "  64.6722,96.3042 67.8401,100.153 68.4737,100.955 70.9415,104.002 73.6691,107.515 73.9356,107.85 76.8663,111.699 78.8646,114.448 79.6849,115.547 82.4194,119.396 \n",
       "  84.06,121.827 85.0429,123.245 87.5705,127.093 89.2555,129.81 89.977,130.942 92.2861,134.791 94.4509,138.639 96.5291,142.488 98.4588,146.337 \n",
       "  99.6463,148.902 100.258,150.185 101.938,154.034 103.467,157.882 104.842,161.731 104.842,161.731 106.101,165.58 107.203,169.428 108.148,173.277 108.935,177.126 \n",
       "  109.565,180.974 110.037,184.823 110.362,188.671 110.524,192.52 110.524,196.369 110.362,200.217 110.037,204.066 109.565,207.915 \n",
       "  108.935,211.763 108.148,215.612 107.203,219.461 106.101,223.309 104.842,227.158 104.842,227.158 103.467,231.006 101.938,234.855 100.258,238.704 99.6463,239.987 \n",
       "  98.4588,242.552 96.5291,246.401 94.4509,250.25 92.2861,254.098 89.977,257.947 89.2555,259.079 87.5705,261.796 85.0429,265.644 84.06,267.062 \n",
       "  82.4194,269.493 79.6849,273.341 78.8646,274.441 76.8663,277.19 73.9356,281.039 73.6691,281.373 70.9415,284.887 68.4737,287.934 67.8401,288.736 64.6722,292.585 \n",
       "  63.2783,294.213 61.4228,296.433 58.0828,300.282 58.0828,300.282 54.6998,304.131 52.8874,306.121 51.2343,307.979 47.692,311.828 44.1129,315.676 \n",
       "  42.4965,317.36 40.4635,319.525 37.3011,322.791 36.7484,323.374 32.99,327.222 32.1057,328.102 29.1832,331.071 26.9102,333.316 25.3198,334.92 21.7148,338.456 \n",
       "  \n",
       "  \"/>\n",
       "<polyline clip-path=\"url(#clip02)\" style=\"stroke:#e65e2d; stroke-width:0.8; stroke-opacity:1; fill:none\" points=\"\n",
       "  21.7148,355.446 23.1992,354.163 26.9102,350.877 27.5597,350.314 31.8892,346.466 32.1057,346.268 36.1957,342.617 37.3011,341.604 40.4635,338.768 42.4965,336.896 \n",
       "  44.6902,334.92 47.692,332.14 48.8727,331.071 52.8874,327.332 53.0082,327.222 57.1162,323.374 58.0828,322.441 61.1754,319.525 63.2783,317.48 65.179,315.676 \n",
       "  68.4737,312.449 69.1231,311.828 73.0197,307.979 73.6691,307.316 76.8663,304.131 78.8646,302.069 80.642,300.282 84.06,296.718 84.3409,296.433 87.9917,292.585 \n",
       "  89.2555,291.199 91.5645,288.736 94.4509,285.529 95.0447,284.887 98.4588,281.039 99.6463,279.639 101.786,277.19 104.842,273.525 104.999,273.341 108.148,269.493 \n",
       "  110.037,267.062 111.174,265.644 114.096,261.796 115.233,260.211 116.909,257.947 119.59,254.098 120.428,252.815 122.16,250.25 124.584,246.401 125.624,244.625 \n",
       "  126.878,242.552 129.027,238.704 130.819,235.205 131.005,234.855 132.86,231.006 134.53,227.158 136.014,223.309 136.014,223.309 137.361,219.461 138.516,215.612 \n",
       "  139.478,211.763 140.248,207.915 140.825,204.066 141.21,200.217 141.41,196.369 141.41,192.52 141.21,188.671 140.825,184.823 \n",
       "  140.248,180.974 139.478,177.126 138.516,173.277 137.361,169.428 136.014,165.58 134.53,161.731 132.86,157.882 131.005,154.034 130.819,153.684 \n",
       "  129.027,150.185 126.878,146.337 125.624,144.264 124.584,142.488 122.16,138.639 120.428,136.073 119.59,134.791 116.909,130.942 115.233,128.678 114.096,127.093 \n",
       "  111.174,123.245 110.037,121.827 108.148,119.396 104.999,115.547 104.842,115.364 101.786,111.699 99.6463,109.25 98.4588,107.85 95.0447,104.002 94.4509,103.36 \n",
       "  91.5645,100.153 89.2555,97.6898 87.9917,96.3042 84.3409,92.4556 84.06,92.1705 80.642,88.607 78.8646,86.8201 76.8663,84.7583 73.6691,81.5733 73.0197,80.9097 \n",
       "  69.1231,77.0611 68.4737,76.4403 65.179,73.2124 63.2783,71.4084 61.1754,69.3638 58.0828,66.4482 57.1162,65.5152 53.0082,61.6665 52.8874,61.5566 48.8727,57.8179 \n",
       "  47.692,56.7488 44.6902,53.9693 42.4965,51.9929 40.4635,50.1206 37.3011,47.2848 36.1957,46.272 32.1057,42.6207 31.8892,42.4234 27.5597,38.5747 26.9102,38.0115 \n",
       "  23.1992,34.7261 21.7148,33.4432 \n",
       "  \"/>\n",
       "<polyline clip-path=\"url(#clip02)\" style=\"stroke:#f3e258; stroke-width:0.8; stroke-opacity:1; fill:none\" points=\"\n",
       "  536.063,122.434 535.639,123.245 533.73,127.093 531.928,130.942 530.868,133.347 530.218,134.791 528.595,138.639 527.079,142.488 525.672,146.337 \n",
       "  524.346,150.185 523.13,154.034 522.024,157.882 521.029,161.731 520.477,164.136 520.138,165.58 519.347,169.428 518.67,173.277 518.105,177.126 517.653,180.974 \n",
       "  517.314,184.823 517.088,188.671 516.975,192.52 516.975,196.369 517.088,200.217 517.314,204.066 517.653,207.915 518.105,211.763 518.67,215.612 519.347,219.461 \n",
       "  520.138,223.309 520.477,224.752 521.029,227.158 522.024,231.006 523.13,234.855 524.346,238.704 525.672,242.552 527.079,246.401 528.595,250.25 \n",
       "  530.218,254.098 530.868,255.542 531.928,257.947 533.73,261.796 535.639,265.644 536.063,266.454 \n",
       "  \"/>\n",
       "<polyline clip-path=\"url(#clip02)\" style=\"stroke:#fabf26; stroke-width:0.8; stroke-opacity:1; fill:none\" points=\"\n",
       "  536.063,296.285 533.412,292.585 530.868,288.89 530.759,288.736 528.162,284.887 525.672,281.039 523.24,277.19 520.919,273.341 520.477,272.572 \n",
       "  518.67,269.493 516.524,265.644 515.281,263.292 514.473,261.796 512.51,257.947 510.663,254.098 510.086,252.815 508.905,250.25 507.252,246.401 505.717,242.552 \n",
       "  504.89,240.307 504.286,238.704 502.957,234.855 501.749,231.006 500.662,227.158 499.695,223.309 499.695,223.309 498.829,219.461 498.087,215.612 497.468,211.763 \n",
       "  496.974,207.915 496.602,204.066 496.355,200.217 496.231,196.369 496.231,192.52 496.355,188.671 496.602,184.823 496.974,180.974 497.468,177.126 498.087,173.277 \n",
       "  498.829,169.428 499.695,165.58 499.695,165.58 500.662,161.731 501.749,157.882 502.957,154.034 504.286,150.185 504.89,148.582 505.717,146.337 507.252,142.488 \n",
       "  508.905,138.639 510.086,136.073 510.663,134.791 512.51,130.942 514.473,127.093 515.281,125.597 516.524,123.245 518.67,119.396 520.477,116.317 520.919,115.547 \n",
       "  523.24,111.699 525.672,107.85 528.162,104.002 530.759,100.153 530.868,99.9989 533.412,96.3042 536.063,92.6036 \n",
       "  \"/>\n",
       "<polyline clip-path=\"url(#clip02)\" style=\"stroke:#fb9c07; stroke-width:0.8; stroke-opacity:1; fill:none\" points=\"\n",
       "  536.063,69.7246 532.988,73.2124 530.868,75.6954 529.677,77.0611 526.43,80.9097 525.672,81.8387 523.24,84.7583 520.477,88.1946 520.138,88.607 517.088,92.4556 \n",
       "  515.281,94.824 514.127,96.3042 511.24,100.153 510.086,101.756 508.433,104.002 505.717,107.85 504.89,109.075 503.078,111.699 500.541,115.547 499.695,116.894 \n",
       "  498.087,119.396 495.737,123.245 494.5,125.383 493.486,127.093 491.332,130.942 489.304,134.791 489.304,134.791 487.356,138.639 485.537,142.488 484.109,145.744 \n",
       "  483.842,146.337 482.244,150.185 480.778,154.034 479.446,157.882 478.913,159.593 478.23,161.731 477.136,165.58 476.179,169.428 475.358,173.277 474.675,177.126 \n",
       "  474.128,180.974 473.718,184.823 473.437,188.671 473.297,192.52 473.297,196.369 473.437,200.217 473.718,204.066 474.128,207.915 \n",
       "  474.675,211.763 475.358,215.612 476.179,219.461 477.136,223.309 478.23,227.158 478.913,229.296 479.446,231.006 480.778,234.855 482.244,238.704 483.842,242.552 \n",
       "  484.109,243.144 485.537,246.401 487.356,250.25 489.304,254.098 489.304,254.098 491.332,257.947 493.486,261.796 494.5,263.506 495.737,265.644 498.087,269.493 \n",
       "  499.695,271.994 500.541,273.341 503.078,277.19 504.89,279.814 505.717,281.039 508.433,284.887 510.086,287.132 511.24,288.736 514.127,292.585 515.281,294.065 \n",
       "  517.088,296.433 520.138,300.282 520.477,300.694 523.24,304.131 525.672,307.05 526.43,307.979 529.677,311.828 530.868,313.193 532.988,315.676 536.063,319.164 \n",
       "  \n",
       "  \"/>\n",
       "<polyline clip-path=\"url(#clip02)\" style=\"stroke:#f57d15; stroke-width:0.8; stroke-opacity:1; fill:none\" points=\"\n",
       "  536.063,338.456 532.458,334.92 530.868,333.316 528.595,331.071 525.672,328.102 524.788,327.222 521.029,323.374 520.477,322.791 517.314,319.525 515.281,317.36 \n",
       "  513.665,315.676 510.086,311.828 506.543,307.979 504.89,306.121 503.078,304.131 499.695,300.282 496.355,296.433 494.5,294.213 \n",
       "  493.106,292.585 489.938,288.736 489.304,287.934 486.836,284.887 484.109,281.373 483.842,281.039 480.911,277.19 478.913,274.441 478.093,273.341 475.358,269.493 \n",
       "  473.718,267.062 472.735,265.644 470.207,261.796 468.522,259.079 467.801,257.947 465.492,254.098 463.327,250.25 461.249,246.401 459.319,242.552 \n",
       "  458.131,239.987 457.52,238.704 455.839,234.855 454.311,231.006 452.936,227.158 452.936,227.158 451.677,223.309 450.574,219.461 449.63,215.612 448.843,211.763 \n",
       "  448.213,207.915 447.741,204.066 447.416,200.217 447.254,196.369 447.254,192.52 447.416,188.671 447.741,184.823 448.213,180.974 \n",
       "  448.843,177.126 449.63,173.277 450.574,169.428 451.677,165.58 452.936,161.731 452.936,161.731 454.311,157.882 455.839,154.034 457.52,150.185 458.131,148.902 \n",
       "  459.319,146.337 461.249,142.488 463.327,138.639 465.492,134.791 467.801,130.942 468.522,129.81 470.207,127.093 472.735,123.245 473.718,121.827 \n",
       "  475.358,119.396 478.093,115.547 478.913,114.448 480.911,111.699 483.842,107.85 484.109,107.515 486.836,104.002 489.304,100.955 489.938,100.153 493.106,96.3042 \n",
       "  494.5,94.676 496.355,92.4556 499.695,88.607 503.078,84.7583 504.89,82.7677 506.543,80.9097 510.086,77.0611 513.665,73.2124 \n",
       "  515.281,71.5287 517.314,69.3638 520.477,66.0983 521.029,65.5152 524.788,61.6665 525.672,60.7868 528.595,57.8179 530.868,55.5729 532.458,53.9693 536.063,50.4327 \n",
       "  \n",
       "  \"/>\n",
       "<polyline clip-path=\"url(#clip02)\" style=\"stroke:#e65e2d; stroke-width:0.8; stroke-opacity:1; fill:none\" points=\"\n",
       "  536.063,33.4432 534.579,34.7261 530.868,38.0115 530.218,38.5747 525.889,42.4234 525.672,42.6207 521.582,46.272 520.477,47.2848 517.314,50.1206 515.281,51.9929 \n",
       "  513.088,53.9693 510.086,56.7488 508.905,57.8179 504.89,61.5566 504.77,61.6665 500.662,65.5152 499.695,66.4482 496.602,69.3638 494.5,71.4084 492.599,73.2124 \n",
       "  489.304,76.4403 488.655,77.0611 484.758,80.9097 484.109,81.5733 480.911,84.7583 478.913,86.8201 477.136,88.607 473.718,92.1705 473.437,92.4556 469.786,96.3042 \n",
       "  468.522,97.6898 466.213,100.153 463.327,103.36 462.733,104.002 459.319,107.85 458.131,109.25 455.992,111.699 452.936,115.364 452.779,115.547 449.63,119.396 \n",
       "  447.741,121.827 446.604,123.245 443.682,127.093 442.545,128.678 440.869,130.942 438.188,134.791 437.35,136.073 435.618,138.639 433.193,142.488 432.154,144.264 \n",
       "  430.9,146.337 428.75,150.185 426.959,153.684 426.773,154.034 424.918,157.882 423.248,161.731 421.763,165.58 420.416,169.428 419.262,173.277 \n",
       "  418.3,177.126 417.53,180.974 416.953,184.823 416.568,188.671 416.368,192.52 416.368,196.369 416.568,200.217 416.953,204.066 \n",
       "  417.53,207.915 418.3,211.763 419.262,215.612 420.416,219.461 421.763,223.309 421.763,223.309 423.248,227.158 424.918,231.006 426.773,234.855 426.959,235.205 \n",
       "  428.75,238.704 430.9,242.552 432.154,244.625 433.193,246.401 435.618,250.25 437.35,252.815 438.188,254.098 440.869,257.947 442.545,260.211 443.682,261.796 \n",
       "  446.604,265.644 447.741,267.062 449.63,269.493 452.779,273.341 452.936,273.525 455.992,277.19 458.131,279.639 459.319,281.039 462.733,284.887 463.327,285.529 \n",
       "  466.213,288.736 468.522,291.199 469.786,292.585 473.437,296.433 473.718,296.718 477.136,300.282 478.913,302.069 480.911,304.131 484.109,307.316 484.758,307.979 \n",
       "  488.655,311.828 489.304,312.449 492.599,315.676 494.5,317.48 496.602,319.525 499.695,322.441 500.662,323.374 504.77,327.222 504.89,327.332 508.905,331.071 \n",
       "  510.086,332.14 513.088,334.92 515.281,336.896 517.314,338.768 520.477,341.604 521.582,342.617 525.672,346.268 525.889,346.466 530.218,350.314 530.868,350.877 \n",
       "  534.579,354.163 536.063,355.446 \n",
       "  \"/>\n",
       "<defs>\n",
       "  <clipPath id=\"clip03\">\n",
       "    <rect x=\"548\" y=\"3\" width=\"19\" height=\"382\"/>\n",
       "  </clipPath>\n",
       "</defs>\n",
       "<g clip-path=\"url(#clip03)\">\n",
       "<image width=\"18\" height=\"381\" xlink:href=\"data:;base64,\n",
       "iVBORw0KGgoAAAANSUhEUgAAABIAAAF9CAYAAAAJGzhsAAABBElEQVR4nO3cMWpCURCG0fd0Ci1i\n",
       "I8E1uG/3kFW4gkAkxoCCICh5hYhJ/8rLFEM4/wIOfNUUF27/eG5+u4RNMhAQCAQCgf4bFMP3WwpU\n",
       "Lw0EAoFAoPbF7GObAtVLA4FAIBCoABT9+y4FqpcGAoFAIFD74v65SIHqpYFAIBAI1L647lcpUL00\n",
       "EAgEAoEKQHE+vaZA9dJAIBAIBGpfHC/LFKheGggEAoFABaD4unkVBYFAIBBovDj8zFOgemkgEAgE\n",
       "ArUv9sM0BaqXBgKBQCBQASgOwyMFqpcGAoFAIFD7YtcdU6B6aSAQCAQCFYD6l9naF/MgEAgEAo3W\n",
       "d93UgQSBQCAQaLQ/Fiwg0qpwdswAAAAASUVORK5CYII=\n",
       "\" transform=\"translate(548, 3)\"/>\n",
       "</g>\n",
       "<g clip-path=\"url(#clip00)\">\n",
       "<text style=\"fill:#00002d; fill-opacity:1; font-family:Arial,Helvetica Neue,Helvetica,sans-serif; font-size:12; text-anchor:start;\" transform=\"rotate(0, 575.063, 340.752)\" x=\"575.063\" y=\"340.752\">-</text>\n",
       "</g>\n",
       "<g clip-path=\"url(#clip00)\">\n",
       "<text style=\"fill:#00002d; fill-opacity:1; font-family:Arial,Helvetica Neue,Helvetica,sans-serif; font-size:12; text-anchor:start;\" transform=\"rotate(0, 581.984, 340.752)\" x=\"581.984\" y=\"340.752\">3</text>\n",
       "</g>\n",
       "<g clip-path=\"url(#clip00)\">\n",
       "<text style=\"fill:#00002d; fill-opacity:1; font-family:Arial,Helvetica Neue,Helvetica,sans-serif; font-size:12; text-anchor:start;\" transform=\"rotate(0, 575.063, 293.121)\" x=\"575.063\" y=\"293.121\">-</text>\n",
       "</g>\n",
       "<g clip-path=\"url(#clip00)\">\n",
       "<text style=\"fill:#00002d; fill-opacity:1; font-family:Arial,Helvetica Neue,Helvetica,sans-serif; font-size:12; text-anchor:start;\" transform=\"rotate(0, 581.984, 293.121)\" x=\"581.984\" y=\"293.121\">2</text>\n",
       "</g>\n",
       "<g clip-path=\"url(#clip00)\">\n",
       "<text style=\"fill:#00002d; fill-opacity:1; font-family:Arial,Helvetica Neue,Helvetica,sans-serif; font-size:12; text-anchor:start;\" transform=\"rotate(0, 575.063, 245.489)\" x=\"575.063\" y=\"245.489\">-</text>\n",
       "</g>\n",
       "<g clip-path=\"url(#clip00)\">\n",
       "<text style=\"fill:#00002d; fill-opacity:1; font-family:Arial,Helvetica Neue,Helvetica,sans-serif; font-size:12; text-anchor:start;\" transform=\"rotate(0, 581.984, 245.489)\" x=\"581.984\" y=\"245.489\">1</text>\n",
       "</g>\n",
       "<g clip-path=\"url(#clip00)\">\n",
       "<text style=\"fill:#00002d; fill-opacity:1; font-family:Arial,Helvetica Neue,Helvetica,sans-serif; font-size:12; text-anchor:start;\" transform=\"rotate(0, 575.063, 197.857)\" x=\"575.063\" y=\"197.857\">0</text>\n",
       "</g>\n",
       "<g clip-path=\"url(#clip00)\">\n",
       "<text style=\"fill:#00002d; fill-opacity:1; font-family:Arial,Helvetica Neue,Helvetica,sans-serif; font-size:12; text-anchor:start;\" transform=\"rotate(0, 575.063, 150.226)\" x=\"575.063\" y=\"150.226\">1</text>\n",
       "</g>\n",
       "<g clip-path=\"url(#clip00)\">\n",
       "<text style=\"fill:#00002d; fill-opacity:1; font-family:Arial,Helvetica Neue,Helvetica,sans-serif; font-size:12; text-anchor:start;\" transform=\"rotate(0, 575.063, 102.594)\" x=\"575.063\" y=\"102.594\">2</text>\n",
       "</g>\n",
       "<g clip-path=\"url(#clip00)\">\n",
       "<text style=\"fill:#00002d; fill-opacity:1; font-family:Arial,Helvetica Neue,Helvetica,sans-serif; font-size:12; text-anchor:start;\" transform=\"rotate(0, 575.063, 54.9621)\" x=\"575.063\" y=\"54.9621\">3</text>\n",
       "</g>\n",
       "<polyline clip-path=\"url(#clip00)\" style=\"stroke:#00002d; stroke-width:0.8; stroke-opacity:1; fill:none\" points=\"\n",
       "  566.063,384.952 566.063,337.34 572.063,337.34 566.063,337.34 566.063,289.708 572.063,289.708 566.063,289.708 566.063,242.076 572.063,242.076 566.063,242.076 \n",
       "  566.063,194.444 572.063,194.444 566.063,194.444 566.063,146.813 572.063,146.813 566.063,146.813 566.063,99.181 572.063,99.181 566.063,99.181 566.063,51.5493 \n",
       "  572.063,51.5493 566.063,51.5493 566.063,3.93701 \n",
       "  \"/>\n",
       "</svg>\n"
      ]
     },
     "execution_count": 180,
     "metadata": {},
     "output_type": "execute_result"
    }
   ],
   "source": [
    "x = linspace(-2, 2, 100)\n",
    "y = copy(x)\n",
    "bat(x,y) = x^2 - y^2\n",
    "contour(x, y, bat)"
   ]
  },
  {
   "cell_type": "code",
   "execution_count": 181,
   "metadata": {
    "collapsed": false
   },
   "outputs": [
    {
     "data": {
      "text/html": [
       "<?xml version=\"1.0\" encoding=\"utf-8\"?>\n",
       "<svg xmlns=\"http://www.w3.org/2000/svg\" xmlns:xlink=\"http://www.w3.org/1999/xlink\" width=\"600\" height=\"400\" viewBox=\"0 0 600 400\">\n",
       "<defs>\n",
       "  <clipPath id=\"clip00\">\n",
       "    <rect x=\"0\" y=\"0\" width=\"600\" height=\"400\"/>\n",
       "  </clipPath>\n",
       "</defs>\n",
       "<polygon clip-path=\"url(#clip00)\" points=\"\n",
       "0,400 600,400 600,0 0,0 \n",
       "  \" fill=\"#ffffff\" fill-opacity=\"1\"/>\n",
       "<defs>\n",
       "  <clipPath id=\"clip01\">\n",
       "    <rect x=\"120\" y=\"0\" width=\"421\" height=\"400\"/>\n",
       "  </clipPath>\n",
       "</defs>\n",
       "<polygon clip-path=\"url(#clip00)\" points=\"\n",
       "21.7148,384.952 596.063,384.952 596.063,3.93701 21.7148,3.93701 \n",
       "  \" fill=\"#ffffff\" fill-opacity=\"1\"/>\n",
       "<defs>\n",
       "  <clipPath id=\"clip02\">\n",
       "    <rect x=\"21\" y=\"3\" width=\"515\" height=\"382\"/>\n",
       "  </clipPath>\n",
       "</defs>\n",
       "<polyline clip-path=\"url(#clip02)\" style=\"stroke:#00002d; stroke-width:0.8; stroke-opacity:0.5; fill:none\" stroke-dasharray=\"1, 2\" points=\"\n",
       "  21.7148,379.237 21.7148,9.65223 \n",
       "  \"/>\n",
       "<polyline clip-path=\"url(#clip02)\" style=\"stroke:#00002d; stroke-width:0.8; stroke-opacity:0.5; fill:none\" stroke-dasharray=\"1, 2\" points=\"\n",
       "  150.302,379.237 150.302,9.65223 \n",
       "  \"/>\n",
       "<polyline clip-path=\"url(#clip02)\" style=\"stroke:#00002d; stroke-width:0.8; stroke-opacity:0.5; fill:none\" stroke-dasharray=\"1, 2\" points=\"\n",
       "  278.889,379.237 278.889,9.65223 \n",
       "  \"/>\n",
       "<polyline clip-path=\"url(#clip02)\" style=\"stroke:#00002d; stroke-width:0.8; stroke-opacity:0.5; fill:none\" stroke-dasharray=\"1, 2\" points=\"\n",
       "  407.476,379.237 407.476,9.65223 \n",
       "  \"/>\n",
       "<polyline clip-path=\"url(#clip02)\" style=\"stroke:#00002d; stroke-width:0.8; stroke-opacity:0.5; fill:none\" stroke-dasharray=\"1, 2\" points=\"\n",
       "  536.063,379.237 536.063,9.65223 \n",
       "  \"/>\n",
       "<polyline clip-path=\"url(#clip02)\" style=\"stroke:#00002d; stroke-width:0.8; stroke-opacity:0.5; fill:none\" stroke-dasharray=\"1, 2\" points=\"\n",
       "  29.43,384.952 528.348,384.952 \n",
       "  \"/>\n",
       "<polyline clip-path=\"url(#clip02)\" style=\"stroke:#00002d; stroke-width:0.8; stroke-opacity:0.5; fill:none\" stroke-dasharray=\"1, 2\" points=\"\n",
       "  29.43,289.698 528.348,289.698 \n",
       "  \"/>\n",
       "<polyline clip-path=\"url(#clip02)\" style=\"stroke:#00002d; stroke-width:0.8; stroke-opacity:0.5; fill:none\" stroke-dasharray=\"1, 2\" points=\"\n",
       "  29.43,194.444 528.348,194.444 \n",
       "  \"/>\n",
       "<polyline clip-path=\"url(#clip02)\" style=\"stroke:#00002d; stroke-width:0.8; stroke-opacity:0.5; fill:none\" stroke-dasharray=\"1, 2\" points=\"\n",
       "  29.43,99.1907 528.348,99.1907 \n",
       "  \"/>\n",
       "<polyline clip-path=\"url(#clip02)\" style=\"stroke:#00002d; stroke-width:0.8; stroke-opacity:0.5; fill:none\" stroke-dasharray=\"1, 2\" points=\"\n",
       "  29.43,3.93701 528.348,3.93701 \n",
       "  \"/>\n",
       "<polyline clip-path=\"url(#clip02)\" style=\"stroke:#00002d; stroke-width:0.8; stroke-opacity:1; fill:none\" points=\"\n",
       "  21.7148,384.952 536.063,384.952 \n",
       "  \"/>\n",
       "<polyline clip-path=\"url(#clip02)\" style=\"stroke:#00002d; stroke-width:0.8; stroke-opacity:1; fill:none\" points=\"\n",
       "  21.7148,384.952 21.7148,379.237 \n",
       "  \"/>\n",
       "<polyline clip-path=\"url(#clip02)\" style=\"stroke:#00002d; stroke-width:0.8; stroke-opacity:1; fill:none\" points=\"\n",
       "  150.302,384.952 150.302,379.237 \n",
       "  \"/>\n",
       "<polyline clip-path=\"url(#clip02)\" style=\"stroke:#00002d; stroke-width:0.8; stroke-opacity:1; fill:none\" points=\"\n",
       "  278.889,384.952 278.889,379.237 \n",
       "  \"/>\n",
       "<polyline clip-path=\"url(#clip02)\" style=\"stroke:#00002d; stroke-width:0.8; stroke-opacity:1; fill:none\" points=\"\n",
       "  407.476,384.952 407.476,379.237 \n",
       "  \"/>\n",
       "<polyline clip-path=\"url(#clip02)\" style=\"stroke:#00002d; stroke-width:0.8; stroke-opacity:1; fill:none\" points=\"\n",
       "  536.063,384.952 536.063,379.237 \n",
       "  \"/>\n",
       "<polyline clip-path=\"url(#clip02)\" style=\"stroke:#00002d; stroke-width:0.8; stroke-opacity:1; fill:none\" points=\"\n",
       "  21.7148,384.952 21.7148,3.93701 \n",
       "  \"/>\n",
       "<polyline clip-path=\"url(#clip02)\" style=\"stroke:#00002d; stroke-width:0.8; stroke-opacity:1; fill:none\" points=\"\n",
       "  21.7148,384.952 29.43,384.952 \n",
       "  \"/>\n",
       "<polyline clip-path=\"url(#clip02)\" style=\"stroke:#00002d; stroke-width:0.8; stroke-opacity:1; fill:none\" points=\"\n",
       "  21.7148,289.698 29.43,289.698 \n",
       "  \"/>\n",
       "<polyline clip-path=\"url(#clip02)\" style=\"stroke:#00002d; stroke-width:0.8; stroke-opacity:1; fill:none\" points=\"\n",
       "  21.7148,194.444 29.43,194.444 \n",
       "  \"/>\n",
       "<polyline clip-path=\"url(#clip02)\" style=\"stroke:#00002d; stroke-width:0.8; stroke-opacity:1; fill:none\" points=\"\n",
       "  21.7148,99.1907 29.43,99.1907 \n",
       "  \"/>\n",
       "<polyline clip-path=\"url(#clip02)\" style=\"stroke:#00002d; stroke-width:0.8; stroke-opacity:1; fill:none\" points=\"\n",
       "  21.7148,3.93701 29.43,3.93701 \n",
       "  \"/>\n",
       "<g clip-path=\"url(#clip00)\">\n",
       "<text style=\"fill:#00002d; fill-opacity:1; font-family:Arial,Helvetica Neue,Helvetica,sans-serif; font-size:12; text-anchor:middle;\" transform=\"rotate(0, 21.7148, 396.952)\" x=\"21.7148\" y=\"396.952\">-2</text>\n",
       "</g>\n",
       "<g clip-path=\"url(#clip00)\">\n",
       "<text style=\"fill:#00002d; fill-opacity:1; font-family:Arial,Helvetica Neue,Helvetica,sans-serif; font-size:12; text-anchor:middle;\" transform=\"rotate(0, 150.302, 396.952)\" x=\"150.302\" y=\"396.952\">-1</text>\n",
       "</g>\n",
       "<g clip-path=\"url(#clip00)\">\n",
       "<text style=\"fill:#00002d; fill-opacity:1; font-family:Arial,Helvetica Neue,Helvetica,sans-serif; font-size:12; text-anchor:middle;\" transform=\"rotate(0, 278.889, 396.952)\" x=\"278.889\" y=\"396.952\">0</text>\n",
       "</g>\n",
       "<g clip-path=\"url(#clip00)\">\n",
       "<text style=\"fill:#00002d; fill-opacity:1; font-family:Arial,Helvetica Neue,Helvetica,sans-serif; font-size:12; text-anchor:middle;\" transform=\"rotate(0, 407.476, 396.952)\" x=\"407.476\" y=\"396.952\">1</text>\n",
       "</g>\n",
       "<g clip-path=\"url(#clip00)\">\n",
       "<text style=\"fill:#00002d; fill-opacity:1; font-family:Arial,Helvetica Neue,Helvetica,sans-serif; font-size:12; text-anchor:middle;\" transform=\"rotate(0, 536.063, 396.952)\" x=\"536.063\" y=\"396.952\">2</text>\n",
       "</g>\n",
       "<g clip-path=\"url(#clip00)\">\n",
       "<text style=\"fill:#00002d; fill-opacity:1; font-family:Arial,Helvetica Neue,Helvetica,sans-serif; font-size:12; text-anchor:end;\" transform=\"rotate(0, 20.5148, 389.452)\" x=\"20.5148\" y=\"389.452\">-2</text>\n",
       "</g>\n",
       "<g clip-path=\"url(#clip00)\">\n",
       "<text style=\"fill:#00002d; fill-opacity:1; font-family:Arial,Helvetica Neue,Helvetica,sans-serif; font-size:12; text-anchor:end;\" transform=\"rotate(0, 20.5148, 294.198)\" x=\"20.5148\" y=\"294.198\">-1</text>\n",
       "</g>\n",
       "<g clip-path=\"url(#clip00)\">\n",
       "<text style=\"fill:#00002d; fill-opacity:1; font-family:Arial,Helvetica Neue,Helvetica,sans-serif; font-size:12; text-anchor:end;\" transform=\"rotate(0, 20.5148, 198.944)\" x=\"20.5148\" y=\"198.944\">0</text>\n",
       "</g>\n",
       "<g clip-path=\"url(#clip00)\">\n",
       "<text style=\"fill:#00002d; fill-opacity:1; font-family:Arial,Helvetica Neue,Helvetica,sans-serif; font-size:12; text-anchor:end;\" transform=\"rotate(0, 20.5148, 103.691)\" x=\"20.5148\" y=\"103.691\">1</text>\n",
       "</g>\n",
       "<g clip-path=\"url(#clip00)\">\n",
       "<text style=\"fill:#00002d; fill-opacity:1; font-family:Arial,Helvetica Neue,Helvetica,sans-serif; font-size:12; text-anchor:end;\" transform=\"rotate(0, 20.5148, 8.43701)\" x=\"20.5148\" y=\"8.43701\">2</text>\n",
       "</g>\n",
       "<g clip-path=\"url(#clip02)\">\n",
       "<image width=\"514\" height=\"381\" xlink:href=\"data:;base64,\n",
       "iVBORw0KGgoAAAANSUhEUgAAAgIAAAF9CAYAAAB22QBFAAAgAElEQVR4nOy9W4IjO8sEiNL1rWk2\n",
       "Mrudpf1dqXlQIiEIJPJS7upjxUPbltDFLreFIID0//0//28mgZwTERHtmeh734iI6DtvR1s6Xqfa\n",
       "l6m0/dkT7Sx3zPV9yOec6nM5By/8Z0+d/E6Jvo+2KpMT5eNFnX9P9TX3/cn9uD2LeY/GTER/djJy\n",
       "ZQ+9XGnLoK2Na/vKx/ttz7+PTt7znony0beLcbVNP+ZBH2XKx8y1Le2017b92PPxOmW3r7R9q75v\n",
       "I8/tuo3b61q5zZ+zlmvz17Wz3U/OVk73yTlt27dp03vo5/y2/fzH7YDGonXia2PBmFx4vjcj0RYU\n",
       "DMq5c9q2BOfctBCcN6XXdG05f6IXXHMmr/uk/FbbXmLcZuQ3MJbHbYM2fuT5pezG74c2I78dv6W4\n",
       "b6ONWn/pS/Wx9R1tadBHibZESr68fqX2buu41D8vclTH8V/6lZJt23iuJi/Hlj0QvVLu2jaxznb8\n",
       "/tq1c51XjufnLP91vH6lTJt4btdWfSnX51LmlXYjV97rTl9HX2vLFP8fuLCwsLCwsPCfwxdrDox8\n",
       "qCgpJ6o3muMhsfqyb0TbcVvLrPps9Gc/NI2qax1ziucJtbM6souXR5u8kPFO6/xbrnttYnxbZg2z\n",
       "taUqker8fCuX++K32dZOYmx/Q0xExB9BEtaI/hNorzfKam9lK3vVtHOVI+JbPL9P1dfNdfTlRPvx\n",
       "5vbU3+ZT3qvWvKet6ytzsBbP4zZKx/NN3t7rbULfwLe2Vvo+2naylgP+7sgbE7ASVMuB1Vf1LVha\n",
       "I+R+vNsytDKIdZDVovXpv653U3Vu6sGbPqXoTf8ftwicuI+EbvpFcLofefP3bu/9+BeU0Tf1qHzd\n",
       "feD2L9ukFQDd6Hku3bYBeXn7l3L8KC0Atq+/9SdqFgH9mCh1FgDTp279SVgEeGd8/nxRqn/eziIg\n",
       "bu9E2iKQbFu9jffjsEUg09dm5cqcWeyR52w3fv69llYCbV14zSwCG/8O9/K9RWA38/M4vv1/pZ1e\n",
       "m7ISpJ2+eFEGH4xbakpBZhl+SLm5EFI7pPgPvdcDq8nIQ4+naoff8eEdG/yztz/OH/4DyuP1mL/O\n",
       "msDhyqd4SuroLvvT5iZGFu9zb9NXOd6z/COZ+amZ0JTOUuase2tz1r9DdY8c4+TEVR701bW3epBT\n",
       "Vt9cOS8fRuBHD60tjxrvZ3sXfZ28+ox5/1grbHgdP9TIhWDOYqB9JaAINJO/XQ/ux54ncGxGh3Z2\n",
       "DhR40CB3Axxu54uJ/QXEDvjw4e5PYJugu+DlykRM92je2Tjv0IfyYD/YXdAUB23ir7LCdC/X8xSA\n",
       "3jXQ3ABIASh92A2ADvmy90Gf4waoZvy6L3HoAzeAVgSgUsFt7S5o5LdurnZgG7l6aWv72IQCwDIv\n",
       "1VcOe6rPZd8mzsq2nlQ0+kM8Ue7Gcp+Wa66L1ifHfW1b/wOUhF+/fTeOL5t00m+9PG17u9EfnwKy\n",
       "EHjWga5vE4cFtSXbuNSNSMdPvpy1vWonRPeH3HtlQu5FKy20mbO7Gxe1EvjrYCsBUVESkJWAqFgE\n",
       "olaC0rdBK0F7m6y4NWuBthLwPGX+/ruz0bfpk1aC+r6FtaDNaTkCjJnlgMdHLQfuOmGLwHwdb6yH\n",
       "uJUB4XdaBMKHefAg94dbnz5WBK7d2K8qCVvarPzA8jA69OXa8vDXB7SUtRaB1+BgT2KsuPWLg7+0\n",
       "tcMf3f6R/9/0qUuYd/v/Uof97PbvcQqSeI54A+imr2/sifpbvtyr9LEbi8DRX+TnisBLKALSCmB8\n",
       "/RM+AI9FfABpOSAi2rad4v/bFhYWFhYWFv5z+Hopi0CW7H5lI663f2q3/xlvoMwl5hdrsZZCNQJB\n",
       "9KmNdjfpug3WMO19rJn1m/G+ma2btYPdGJ0+rEzwZUy/trQQNB3Ougtqj7IQEPXuAmkdqHs8xkvr\n",
       "QGlrGqa0DpT5c2cd6OfKnXWgrG1v5Wwl2CiFuARtvOUUyDYG68/dnMBKoPcl+7Myu6e0wxu45Sfw\n",
       "d218g28Wgeu3/zNc3DsWBWRN+A2I3uqjN3p/PLj9E5jzJqsf7Wtm6o/c+uF+gO/f+vd9joC8/bc2\n",
       "ecPXZn3kGjgfBXDW/F/62jki3QDsGmhmdx6PLALJtCE3gLQIaCuBdANojoA08Ws3gIwa0Df9lKR1\n",
       "4PDTb+LWjywC+tZPRFu9xfO4MR+ALQGID6B5A68NcQT4Q6TGDajmZz4EUwrzBnic9gsnal9Gnkty\n",
       "BnhfbXfC188cgXpgi8Ob91/Xk/vivmY+RxwByZOg43WVU/yBTci3L3iGc/Br/TltQlnZ+T+E0DT4\n",
       "c0E8AvMTKD5rj0NQ+hSP4Bjby1KIS8DYQN/IG47kEeTfCPILiLDPn+zf1x2v50igTffN1j9zPt8Z\n",
       "H+QSvBteGJ6RC5jxx+Pnhz5axzv8zx3emHDI84wVB38u5PtHoX/a5y/nRmTBEfmvygk3AFIAWl9T\n",
       "ALgNKQBFBisAREUJQDwApAC0ufo+1CZN+JojIOWTOsSlkiDDArUC0PaczR4lR0DPL8+36tev47KY\n",
       "V7TptSd8ANMmOQiII/Da+ltHOr4EWdxcGe2m37Y55Q3wuIl1QG6a9s32Oc/LOEus6iIMRHRBW9fe\n",
       "vHlXST/byEQXNOuCtFC0cW2O/g+dxWAUZdCRCoktAnivRQnhtrGVoPYBKwEDWQsiXAIG4hQgi4C0\n",
       "FjDS4AYesRzsBztCA1kOyvix9SBqOWhtY87BDPcsAr/Twxc9zKMHuT8+pkhEb/pnD3uvbwOKADrY\n",
       "R31ji4D1+cvxm/oN92L/y+vUyXHbWfIf8v/za3nwl3FUxyMeAIrl59c2t0B/8OtxmCPAN3Q7/0sd\n",
       "9t3NXikJhZ/Q90krAJPgeX4YGSCJhHUfzQqg/fozPgBbAhAfoHIPqkXgG5EFj2MSKAJ7vYK3T2jq\n",
       "LqB25JYPox1jez2EjsmEAsEJi/gNS2xiSR6tf0abRtqO2Ua2o3rStgO0jWy3+HZ91NomJyTaEpF5\n",
       "G7n90b/VbX7P0hTV3rZHKtxyrxR076P7NHnP58mFjEgoYpGzykGZ07oSyo+PdSGUPqlcWOWA59A/\n",
       "cbKPkZINH9zzbrRG/pHTCkKZQyoCOGlS6bvuLihrW1l0cEUP+LsJhUYKBzqko4grAj/vBkDreGZ9\n",
       "bz8zxSF66COGvyfjJfrhPkT2YxmsHPQHv77xy+dXyH9nb/11LnDoe6b+V7K/x9L8PyIGShKgkRO3\n",
       "f83039RYua9CFsSuARkF0BP8rALAj9KFUNbJNnxw4gaoBELgBmiKwPG4yIILCwsLCwufDZcjQNS0\n",
       "iJT6W3NOOcwb4Dn1zTWLmzqbz6uenFN1KyDLQPOZ82uRw6Cu03gH7WZ8jBO3bG2KL+Z28uc/+tic\n",
       "tIvbv+QPaA1Lhht+q89OchAax4HN71lo+4BHUOcQloebuQgYMCeBmMPKE+QUjLgEWmbr5Pj2P7MS\n",
       "YI7BK1kaqZuHgAj62jXHoMwBxgbnIyLoO4e38qjv3/l7RHHmRv4T80Zv+efG27aoyf8uwa/Kkg0f\n",
       "RKQ8NB75/nFSn/5mL8cbi8CE/NfGClP/Q0mANjlWWAL4Nbr9v8S8/Tq9JYCo5J3RVgIkDzkFwhJQ\n",
       "9wpcA3aPzbpq8w40d0CUEMjj0VxtHzE+wAbaWt9u+sZ5BBQu8Qbo+DKYyABr2OafwhdR5yYgKgqB\n",
       "TOIj0ZER6+y8NpGMLpB91LqEi6N96Gwqp625CVjqWykj3X7IHky9ctErQInGUQbIXcB7119mz11Q\n",
       "xouIAsUjKGtZt0GES1DfI+AUSHdBlRNugzqn4BRouZlyUOayeQSQWf+V+Ht4LTqBqHchNPl5xIKe\n",
       "u5sz6G7A88XzFcDxg0yHZ3z1ZmzwML/LB9CHs7d21L+P5tMyM2KfbNfPfdeAf+h3coN8/1VWHPpy\n",
       "zlHmvzr2BvkP+f+J2HSvFAF0sFPrQwoAUakNoN0A6LCX0QDIXaAz/kkyoHYXSN6A5QhYMp88q0b1\n",
       "ATQfoEQUNDM+y6AMgXUuwAfgcx3xATbVtm27VQTySUVgyhsgIhlaWG/4/Sz8cRyvcn1eV9z2ur7e\n",
       "Bb44Jd50F11AdCgOPG09Zdtxi55pbVMmJNJ9nZWAZ2jbaYe9sBJAUiH3KWVF9j1CLuQZxf6J6KAi\n",
       "zbkELVvfVudoB/YOuQRlz/bQv6Ic8HoR5UDPU/ZfDtJeqduMXJOfkxKJsMIg1+v2E+YNxJQIuK5z\n",
       "4EfZ/aN9hccG9+ofxteSB3lyZ2/4qA/54kdzIIa/HjdL9GPlrO9fKwLyYG9z8m/iM+S/s7d+fo3m\n",
       "N3LHo3f7123Sp899ferffl5pBdA+/9S9J3WbT/jW396brwhE+QBaAZjxAV5GEWh8AK1ULI7AwsLC\n",
       "wsLCh+OrhuwBaN+DbI/yBkrDXl0DnalfrZe7u/gxl7gF73rN43HPCUYXlJnkvo9xQrQLMzxmrTkG\n",
       "KuUh18ER/oC8WWb1RPIHpLzOFdD3qTWP8VtOKhfBsX+Qi6DMiWsavOpNwLoNIlwCqmxmmbCoX1ui\n",
       "7V/cUIM1D/hbY9wSpqWfQ0Pf4XgOBrYSHHPe5AggvKK8AfAukTUBwbvJj1wQd/gD3q3ernGCD/CG\n",
       "27++4c9kYq4BPyoBx/InIxvJ999k7e1/FgXQ9tfaziYBQpYAHocsAa1PWx6sJaD50XtLgJEHt3k0\n",
       "FyoQVPpsfQCUGEhaHkw+AGrjEdfO7rG5A6QlgMfpVMEzPkDjBFg+gKlXUPIIYNfAHnQNzHkD1LkG\n",
       "pEJg3QQyxFC6Ccpk7ajrkaj57K1CYBMR7SlVT0BLFMQHlyQX8rZkSJ5clQ9qbdbX9ReVeZ7bhGIi\n",
       "x/Zz6byFoi/F3QVlba/y4SEv2spjCnMJGPw15r+pDEGsMqreQZmzcQqanD2gfdfAC7oGNsd/fjVM\n",
       "kYhqLgOJGedgJgtDCsGBhMYiJQKv63EJzh32t0IKg2v5FQCjHIEYbyBC2EOvx3LjQ9/68+eHfpHr\n",
       "zf9yzCjhTx2fsHJQ5nmG/HcmCdDMDYB4AESFqG3nykY5kH7+pNs6Al6T4/GoeBBSAHguzV+T5n1N\n",
       "DOxzC8T4ALJWQJlrzAfg/ECID7Cp+V/b7lsENmqsf2QR2OqP+VbbXoYHsNfJrvIGZAEj/uJ0pEIF\n",
       "rRDIr708/Phb0C7N7VSW0QX8RB+4MiGRPvSllYCB+ANVT+rGavl2ix9lPJxZCYiKAlQP6AC5kEho\n",
       "rvLQF+sT9RYFqRS0+fs2RDa8oxzw64hycIaASFSUCY1Z0qM6FigMZXxcaYiMhXJBxeIpPJ0zIELY\n",
       "a23zA/6M3Dnl4PyhH7MIzA99+Rz5/kex/2Y8uJXLXUZv/2d5ANz34vuhGKfnGN3+kXIgCXmIB4AK\n",
       "BLGMzRlgEwPNCgXVPh0hkDAhkF8jPoBMEdy9j20Xt/92XutogTTpu00WTMLOXg90dcCXEsXHHBN3\n",
       "AVF/wLfDL9WbN2t1EYVgS7I24HEAZREZUL/g7U5togvK1ftoUzfq3NwGDGklaGu2PvveWtuolkE7\n",
       "1rPoo74vYStB2Wu7vU9DEOV7F59FRyBU1oI9E0V+5k2aYyJCJZObfIOX8riQBWPKgdwDy5W+GNBR\n",
       "fMYtgYBcEHDtoLshSjS8gve4C+bm+TrnXz70R5aDaKKfIivnTFVet3mhfkREiPHf1gYWAXE4/2QS\n",
       "IDm/6Uu9AqDnMlEDyd7+O3llvU3ihi+tBF44YK/QNIUAKQA8HikAZS5pSWhWgEiCIHl468N+627/\n",
       "rDB8V/k6PyAGLrLgwsLCwsLCQoevtKkrhuRvDV0D/a15S3tVb7RlgCjOG+DxrHu3+gNN2+X0vtIy\n",
       "4Hkt5c47TbR5Lbr3QSRvxm2WPmVxmy1T0xrl7V+OlWt74YZ6w+MER+3mHnUXlDlzM+OLdep+VNih\n",
       "3HdzG2AuAc+vXQOyGiJD1zso62h3Rru1R9IbZ9rDVgK59/IcExDLvuwtGvEOomPLXmOuBQTP3WDX\n",
       "iNotnkHY9x/kF0QIeyPZe1YCHN6H5K/c/res267d/ol6C4CecxT738azPDb/1/eS+jbPDYAsAW6f\n",
       "WNtU+4NzSR9+v/ZXyt18RM2f3rkGwA2/ybU+HQ6YCLeV8YLgp87Mvq5Au4kjS0B5H5gPgCwBPB6R\n",
       "/1AbjzN9Gyg6xD7YuGtAtKkTQioEEd7AJpSFuhYgF3JWP6kQaIspv8nc+buP9yH2qIsJlbH8fsVI\n",
       "QTQsw9thpnMRbNQfchKzKANz8IL9IKUinJyoKgDt4G1uEjUOuA1ewoynCaVdwiIRNaDN2aMjY+9+\n",
       "DI8/cLY/xHuyB3xUOWB5DflDPDKj3z1i0fgXOKTCUQPwvVwn9D0F7zDXOLPXJw/9qKkftc/i+628\n",
       "PeTteHvoQzb/IOGPHK/dTTPyn177ySRAWyJzUM/cAF4UwEsoAjIroHQF9O+xyUmyICoQxOuEFAF5\n",
       "2Ne1LB/gpUz9SDnYxOGP+ABIAeA5+QyXbZtyDUCyICsa27e1CGx7IwFGwgfruJSp3fC5sTx871uI\n",
       "N7DXW2Guh9JLWg3UHJ1CoL944haclO+7FOahrk3e8PWh/xpYBEq1v6NpT/VhE1EI3b5S4w/IA12j\n",
       "UxKAlYBlolaC+looBfx+d3Mbb3tvikmzAEEuARFRbnfgjkCo5HRVxH7+LOT4s2ttGSgHhxDAhpUD\n",
       "IqMgoLFlWnTwILJf3CKALQox9QJmSwwrET+Huzf9qNzVW30ZG1MiPFY/mmOUMniW3a+Nmx/6Uzlw\n",
       "0x+F/LU529xe6J+coz/0dd95HgC/tpUGMQ+AX+u0wLICoL6dI/++VA5sGWIbDgjD9LhPtNnEQjvs\n",
       "G5H5EB8AKQDl9ffQIgDJgptq2xBZkA8uXdeXAlYCZeKXCkHEXSAtBPyf7w+JcQ658Guzt87uuJbl\n",
       "kIm6/zL69iyf8x/6DwmCHB+CgnQnowv4fdTtKIWgdxsc7zZnegGFgeX1fvgTTCluJeD3inIS8KFt\n",
       "LAm5tTalSB7a+keuV1J4fvenX351eF+ebEXLWSAxClPswYooMvm3DWnlpZvXnTWGOxYBdHBFlYh3\n",
       "430WgWuH/uyGPxo/Y/jredBtX7+emfxRul9tgm/j7TdgRv5rcm0Oe9jLvmT6vNj/s1EAyPzfxe2b\n",
       "vaI2Ob8+jNtaKBpAR52hioHtve2dElHWETd2oBxIC4Cc03MDIAWgzg+IgS5Z8LW3sVtb5+//Wiws\n",
       "LCwsLCz8NXxtr/7WkY9b9r5vxLkCsmKfoZwB0rKQtOVAXAura0DcuFBGQjYRfx2L/qGtdxMQdZYB\n",
       "Q7xjDU3czmVmwtqmzNxSD2QT/lfqb+HHZMdcwpvcnPH1tlxJjyKkxYQgJqI/O38GzXIgPxPYlsfu\n",
       "AlLreMmJ6mfB+8lNla57rDd8kLlQLCe5BPX9Ai5B6RNugEo+Bd+Lzl3g3dRfN6wEPLeYrVoorBVM\n",
       "F1EqY+Nx+9i1cJ0P8N90DeD5rpr3iciQ+aLzReP7m/z49o8S/XjjEmjrOUW2rcg2NwAy/5t1nBu4\n",
       "tQhIqwWQB5YAlhmZ+m3cvpBXboBNPq836San8wgk0NdX+evnSqhNmtuPviT2jCwBvAfEB0AkPt2H\n",
       "CIEjPkAC8tBtICwBRETb6xskFFLxjRJdkRiQMwDyBnhOTTUn62qQrgJWJr6PcV+0924Cok4haGMP\n",
       "RUYcXLyoPgRnbfxF+SMiFtgWLwsZ2QiB5kr4w/9ReT+JDH9gz7KssTbn+1EGidrHidwFZ5ITdWuK\n",
       "dSTXgujIIyDei0TZDx/ods0KlZuACH/fSL1fXp/EOgykIHRllHmd7EcIoOgEaHRHKX1PFOLBrgE7\n",
       "HhEW0QEZVSLeDe8w1ziTl+DJQ39m6rfr4MPfS+qDfPlE4rdkMB75/hETX5P+2px2PzPyn10Hr2n6\n",
       "xAHtmfPPRgEgHkD1/W84K6CeA/X1SX1sG4/Xcf6oUFCbs5nzR2TBGSGQiFw+gHQF6McE5Nshr5SE\n",
       "17dRHEpCoZfiCIgfaT6MqwaxNwtBrQw38v0zulDBQyYlcXj1P+KSSNgsCb11oFtz3+pBpa0L5c92\n",
       "tEkCYT+9qMpH4rAsbV9bJhRdUPauogvKB1BvzV/Vx87vzVY33Ijoj1PWeBZlMLISvNp26u5QciKP\n",
       "XPhKZCsfZiKbuZCROy5BeW/NOsLQn31Zk/fVvgs6cRFRO/A1J0QmOpKyeu1KjETHcSA6ocwBbv8T\n",
       "zkE3PmhRQIc5tgjElIifRDhj4E25q7d6tw0c+hFf/+jWPzv03QqAg0NftskdI9Y/zzUK+Wtrt7nt\n",
       "Qe2T/3g+ufYVHgA/6rK/MApA3Mh1OKAkC6JoAO3Dl7/zkBhY1xZrAlIhP47IgogPgLIB6rkQIXDE\n",
       "B5AJgqzFock0vsCRhvi1OAILCwsLCwsfja+kogbY3K4tBUQiPTARfR93PmkZ0EmGupCIOofwdezH\n",
       "vVGnGBY5A2a8AZavvAQTIZCIdcsatia07Ho751vnrgMES7piGGZYFurCDHl+zzUg+QPSxF4tB+rG\n",
       "Pgo3lFo2dBcoE/5G1oJQKjfyvHodYHFIZFIY9+GH6laeEuQS8NoMXRWxzNv2XeWoWXW6dYRlo8la\n",
       "1PHgth4KUxT7n8G7kyPXAjT5DyIX5ohaHa7MfP3+EDXje3jy9j8z9ds5sRUAhfpF5HXfzPeP3ACj\n",
       "KADDB4C3/v61XtvIi98SaM535j0bDoh4ANU1kLB/X1sJetdDf2OXFgEUDaDbUKGgrtYAsAS0fdlb\n",
       "v+ESIMa/TEA08vkLS0CVP87v16t3KWzbXi0BNYxw24FrgA/z75dZlJG2TK/DL6kVAiKyZEGy7oKS\n",
       "W+DwbQKF4KUOdHJ4A0RFIaiKhvJpF2Jgf4iXWgNKjg+3lGGcvFYOSLzmteuhT20ONk9V5UgoCdJd\n",
       "wF5exB9A7oKyvzR0F0jCHu8B1zLgcfZ9S6VA70fnDMhkP59NuCr0nD0JsFeAun13ykH/o9BkE1QO\n",
       "dBhsVoqKDxymSIQPrhnnoJeNuRteYKveIWXXBvv+QQNg9DC/60K4at731kZyEV8/iu8fycs+a56/\n",
       "duiXfryHGfmPRBvv4Qz5T8vp+c+EA8qyv8NwQDGXVACItHJwXBhFWCAy//NzRAKUCkBbE5vz5UEd\n",
       "5QMgBYBfswIgqwrqw35EFtxebQ6bRXBvrn7hGgBkQX4ApVZB+lepEOgf3crElweLeMPNAmAVAu6r\n",
       "4xzeAFFRCOoNb2P5djjxkSX/E//Z+za5c5SVEEcXlBlkdAGvxl/eb44uqCcqqG6Y2hHaFI725URW\n",
       "grInGQXQZLSVIJKcSM7Pc5VDP3dzyCyORkkgeyDsKUMuQekTP3I6IQJhxaQqcHodQol7+/lkA8qT\n",
       "EYtOwIf+jHMw3hM+4LDCEANSIn5F0aHg7d0d/+ChH72xVxnn8B9l92tj5d6UHPq/OMn457Uhn3xb\n",
       "tz/4tbzezywJEFY0cid/NQoA8QAk4Q8rB70cOvRRUh9ZpbDsy8b+o0JB3eGtrQQTPgBSAIrMbrIB\n",
       "jlIG9z5/McerVybY8r+9hEVAzOG6BsoN/Jik0sjbB1AViHrw2myD6NDnje0g22CnEATdBWVbopqg\n",
       "ujHuJG+gR1tu/6l3dQAlIsOUTx3bvvT1JqYyllMeb5JBeCzalTvW6Yozka5uOIsykJ+DfB+elaC9\n",
       "7+OFUgj058Pj0WHszZ+os+yXNhm+qUibUp1CIYnN8iAVMu5TJ122efw8AmHdrMIsOuER5YCoRi7A\n",
       "fUncUBgw3ksJChMDg4e7h9mhf+bGTtQf+LO5UHhfm8c/9It8j5nJP5Lxr18btWEFwCMBno0COGv+\n",
       "r+/NHMa4PHCVB8oBuvXza3QYt8+Yalt7H9oiAAiEdc++6d5zAyAFgIj6ssIoCgApAnzD53WEFSIp\n",
       "haNTKoRrYJEFFxYWFhYWPhguRwCmE0Y1zgN8AHT737Yd5iIorzGREPEGiKgrpkO1VgJrz6laOapJ\n",
       "O+Vq3dCheZ0cN4g8Bdz23eX2L8/ZJyXTArebt7xh9rfNYrVQbaxRO+GG/B61Vu65C1hGh0F2IXy8\n",
       "DltcxPuQ9RBaW+82kPMztoS5BHIeot4CovczsxLwXPrbKSslMrw8BGVte/uP5DCQ8n0bvtUiWRRx\n",
       "j7kIyKUR0+dHyZTOwIuzD40NmvHPjI+2eYl8tLxnjfBu/yjUT7YXeTHPIN9/kxm0ydu72UN7jfZj\n",
       "5NXtXM81uuEjN4CxHFwMB0Q8ABkWiEL5tPyMGNjcHruZS9/iN7L+/Bq6uO3i8+R1xnwAZAlgeePz\n",
       "B1YCWTiILekyZ4D0/3dzvb5bm3AXfDVHNdUPjYiIdmvm4EM55dTipkWmQH5TbGiQbwQd+tJNoPui\n",
       "vIHy4dlDrEpmQYA8mracWpsyc+/tnG4EQurJhxJCvFMO5HEpx8mf4q7cMXIXlDcJ3QXldQ67C1gG\n",
       "uQsYyG2g3QVSTmcRzJ260KZS09oMhmRJm0Ri7YlyQFQW0bwBWSmxjuf3Rhaz6AQvh4EeOwPMVggV\n",
       "CTsrUhiivn/kkvhJxImBsYP8zPhIAp/IWCOffFndVw44fOijtWe+f33IlvX9fQ05Aup30pvzbBTA\n",
       "WR4Ay9jMf83PPsoK2DH3qW+Tr43JXj5PehzOIqgVgE2MRxkCeVyEECgPek0MRMqBLBxkigghToFQ\n",
       "HLS7gLZMX0ndEvKRmS8RBTkCTaZaF5hnePzu7N/20Jd8Ao9bIJ9vBA50cZgj3gCPi/IGypyN/Efy\n",
       "Cw6iEcq4xh/IoI0n6Xz4de0s5I/GB/gDoygDhvyPDUmFxJ9dN31JKASUDvu+25zoB4mo5xPokMTy\n",
       "fq1ygIiGRSYT+E03ygEKU2zrWcyUA94nUg5eaEN0JnIhht/q4Yse5mcUAY/IV8fdPPSRXIToV8ap\n",
       "uZNVhWZpfvW8UnTcZvdlDm+gGEdu/31bO/ye4AGU1zgcECkAbe3+sE+EFYCyDuYDmCiACR9AKwAo\n",
       "aiCR7bNKwm7ahvJSOQCZAkeRASGOQELhg7FMBtsAACAASURBVDWFrv0Sz1wD+/er26xUCPbvniyo\n",
       "x+rXoz4dnlhcA/03T2bCC7sLilDIXSDH6b0mIK+Z/MdSxxyKTEhCSUBt/B/DcRuMogykwsP70SVA\n",
       "pWKgrQSUeqXAvm/0WfQ3afRZNJN/g3YldO9Jrb2LHz4JSxbsP5te1uJq6KKUtwAH0iSKYYQRifFv\n",
       "IqoIRAh7Z9eJxO2Xdeb7OUvwk+t4h34Zq/o6haNvS91zu3/9NrYE5gfy+vDXfWejAM6a/9tcWoGQ\n",
       "zP1+LnTod2RBcJtHbgCvPoDnBmjmfOr6YIrhiRsAEQJHfUgBqH2iZgBROeBHroH0xW0ikoAWFhYW\n",
       "FhYWPhbD8EG2DqR6lZtwBA4tBFoGhJuA5RkR14B8ztqLdhWUvfVapIzpn/EGeM4Ib0D6tGWYYRln\n",
       "kxLtXR/P367WPZnwHn9gFG4orQNE/S3euAaSJRfm+k/vuy97d8iCgEsg5xRTwjb599Wff98ObuXI\n",
       "haAXYlngLriTw8CtNRAMFUTuBoTfqs3PzPgMdPuPZPeLrHn29o/kIkQ/tDcZ8te1qfn17dxvSyG5\n",
       "tnbfl4Actjj0v6Fajl8/wQNgWWQtQJaAKk99n+QBGLO+fJ7kHL4FAfEBtCUArY3CB3Vyn5m8aXuJ\n",
       "cEOQKVD6//X+IUcgKfkNkgXbAV/5A8pu63EEZH8355a7gkVFXvzAqkNZjpd9LhlRjNUJcLYU5w2U\n",
       "9y/axIGteQPyQJJKRBln8w5sXR/Pz3/8ZA/7G/yBjkxYPqju/fDnwkCkQiTHfcZdwH3ixwfK17b+\n",
       "M5Fr9vsCbbyvUOIiu0m3hDLRJeWAqPzYIznPZB8+uGPnaFhheDei5v27HAE4/uKhX+ZT4ybm/yZn\n",
       "+0ZpfvUeEmyzigyUA8oLPLwHSojnBtByZX55eLc9nOUB1HGQEGgVAH5tOALIry9eIz6A3as4vAEf\n",
       "wPj1ye+bJQPyFAGvb5gpELU5HAHaLLmQtkxffItnVB6AKPVYb2QHkVD+Z+j8+opD0PfZ/3FZXSml\n",
       "79/43TuOQP/Ll3OCvIE6T5Q3QERdrQH+oABvQNYt0L/Dkjegz0z0n1iGGxrFpOkIYf6AJt7psMPu\n",
       "fXf7QDf1/n0gK0F9P2LfDLn/2qbm7tsyaANj9Q9atn8HuEf++8GDwgKHCiolJFvloIzFhxlSGmAq\n",
       "4yhHAKz9G3CLI+BZBCZTnvHvE9kbPpKbHfZun3Po+4rA+UMfsf553Miv3+TsDVwf+mWddmjzuk/w\n",
       "AFgGhQPK8D+5Tj/XcVMGigCuNSD87od8lA+g0wdLPoBWBGTZ4FF1wFGfrBegIwlk6J/0/5c+yxHg\n",
       "H74SPvht22hhYWFhYWHhYzF0DXRmf6J6i6YNcwSsPLU+np/NEjmLm7oytaY8dROU181V8ARvgMdH\n",
       "eAOsp+4ibC2JcSjMkN9DBm3dfCTMqlf4A8BdUGTaZyLdBl44INoPMvU3WdCXMZeA5WtbtUrIW1Ee\n",
       "yKk5k7VGEBF0IaD2ulkFzTEoY/X31VoJ0B6bPOgIhjPC+YJy70aYIxA02XtzRsz7RLHbP9oPiu+H\n",
       "fYNb+bhN/H8WcqZN/2aJfmRlQDd8bXmSVgO9prRIRd0AZ3kARcbmBUhqrJ2rX1vyAHCyof4W38kH\n",
       "+QBeGuE06TvtGtApg6U8CgcccARIhAjWccg1oP35nDQskcimV0+KQyZnSCA0B3896PdeYTjepPb1\n",
       "M6TZBhUs0n0b2bmkiT3KG+DXMd5A3VU7LPkwT9mQ2qRCoL/gs7wDZ/kDfTEjqxAUuWMPk6REVT5Q\n",
       "y0DOwSjKipIBP2iYIyAVJV+O2+F+1GuPbCj7elxTDogI+xooxjsoS8cO0qjC8G6E8wgAMb/wD1oH\n",
       "jL946Jexvkwk5E/24bZk2vT4qBsAKQx6bXTgorW1AoDWlu6AJ3gA/Bod9pG8AN2BCBSA9r610iLb\n",
       "ci+fMB8AEfv4UZ5rWuaU4tDVCRgoDoIDMOQIAGIgUiq+0peqMliD1Dd7IIqrHWobcwTsDx3y9aPn\n",
       "RP2PJ+rz5uq5Ban1Id4AEdHeKhmOeAONA5DqbVlWNOyPdZ3eWOUwUM+J+ptvbeMt1rkwf6ApMEpx\n",
       "kD8ggkeAUhdXObMfm8JYyqID2vwYqvfB74Wo5xOgdVqbUh4JHdl2bf46wFLZgfFEpI1oRBTnHBD1\n",
       "N606Hh1Izng73+9EPGoAtHlzPnjAR+Vmh/2ob5ToR89x5dAfWQRGKYD1eI/81+T0QYpv/2d5AGac\n",
       "WO+lD966tlUE+qJD9mBHfACZIrh7HwnzAYw/n9febFKfUZlgVFaYD+rX9t0sAiI/gOYNzDgCSecR\n",
       "4HVeO/GZX/f89U1fCf2q0ZG2VFkEqrVgbyEINRPhnmnoGpDWASlDTYtCFgL5JdDKBI4a6OeS42bu\n",
       "gjKn+GE5lkPuAnnTt0l62umHwg1ldEEZNw435MmiboNhlEH7AI73nYzroLvdDqwFuzGRJ2wRUIC3\n",
       "erWH8p56eTkGZQyEqX+BYuLuyzbhfP83rAllPDjMTlgUzHxBy8G7MSP2VTnQhg58T/bJQ5/I7jtd\n",
       "7hun+dV7mJn8I2z+1j5OAVznDCQDknub3f7Pmv/rOLJ9SAHg19YNACIDkLywArQbvZrfubEbK8GN\n",
       "PnTr59cjd0HENdBFBnB6AGARIDHut14mFhYWFhYWFt6AL1K1BtImdAPFA2jJhnZIIDzDEUAEwi7X\n",
       "ACIaOhYBsVTHGyAqloEob6CMTyHeQJdHgNcWBv5R3oGq/fKc07wDbd7SJiwDgD/QkQmJjEzZD0/p\n",
       "FzUqbfw+mmXAJwtm0rHjM3JhXafuVfSDm9KZOgd6DTkuYj0g+gkrAdEt3gHC7zQIhG8ZUXN/af/Z\n",
       "2z/RefN/69NWKsdkb27l/jozN4D2t8t2RBbUbqlIMqBert2izS0+EbQEtP1YSwC/hhyBura1DGg3\n",
       "Q5d3ALkShCWA5/d8/h4fwMwvQxHBLX7UZ+cfEAORlQDe8FkGtYnX2oKQdvrivMMVNUgc/a9BB295\n",
       "dkQ8Hn02w+CuxhGBegJizX3ENwB1CDxOgeQOTHkDxwYjvAE5V1uhcQRGeQfqfngPaZx3oFcD+sPM\n",
       "KBXU/nRe/oG202OvikMg3792F0iGPPqR0+6Csv/+s4i6C6JcAr2ObpdAWQ1bn0UC/XeUAyJcjCjK\n",
       "O0D4pXpAWBGIHtpXx58x5+t+LTPKU3Dm0I/uC5n15S8Ochdo+ba2zwPwyH96HXlQP8EDMH3iENcc\n",
       "AaxUlMfXtlvFQR7GgA/Q+AUxPoDMDSAfX4CwNywrHMwUiMoK10uzGMdneN/23bVVheD1TRuf+ax8\n",
       "fO2jqAGqv7aZ34iwCLSDq/n8a0riYy4ZYmj8EiczEcqyyFUO/NDi23+MN1D21XxZI96AvK3K6ILa\n",
       "Zg42PgxzF11ARNNww9P8gUGUAUNaC1Dq4vL+LX+gyGFl0WXuO5kLI1EHRg7sh6j/zN2xZC0uZ9Z+\n",
       "gl/g4ZxFQSNoOXgzwgmF0J3jhHozu+mPD/bx2CID/t+A8cj3b5ITBfeFbvOR1L+yHd3+PR7AKBlQ\n",
       "v4/x7f8sD6D2oVs/UADaXP1hL3kAVqnAfACUBVCvPcoQeLWvrH0xUyCwDCQ9F7QSNHnSkQQp01c1\n",
       "+x/gwz5vVM3+6fj0KmUupziBkIh6VwK1jSkCYZ+TgPt4DjKRATqvgHzDVYbi7gKeM+IukAdStY4A\n",
       "dwFSCPhWitIUj8ocR90Gm7o2a4WgnwvICYVgGnooMSELnkllLDFzIfCe0A3Udw3YBWfKwRNuBQ9n\n",
       "LAqRsb8B0Vv9bYsAkB0e0NOxfWNYqQDK6Zm1R64BRP5Dcm3tDPfjmf9HOQCkPCYLtnFnzf9lTuwG\n",
       "iIQDjkzwMzcAKhnMfcgNECEEQqKfPIR5Lu9gT5gYiNwFZTJMDLSphYWbQYzlvkUWXFhYWFhY+GB8\n",
       "pVd/b8msXQAHJRMJuxv4IbeTvBmrm/qfrVUmFDwCXaVQ8gj2wzrAPpTv71eVQzUKEG9APhI9zRvg\n",
       "CdoN+SXcHvouhwvosIY7zjtwlj+gawFIq0e94Qt3wUto+fKtIf4Avz+5j0agzEN3QbtR9zeDMlcC\n",
       "bT7MzYzsDVx+J2fj5R7KHo95kfsJjo2t4ckiYZjr4MxCQXjFkYjwbf0OooQ9dzxoi/j5kZxn8ve2\n",
       "493+EdlPz4PM+Vqu30M2bcOQQpUESN7+m6zPA/DcAGfDAc/yAPi1SRAE5y+PHh9AWwJmfADp49dz\n",
       "IT6AlpN+ffPe5G1e5AggKrdyyxuwdQI6ToHmDSB5kTOgPv/quQXp9V37qpXghaoPsvV/I2HaL49Z\n",
       "ugqAa0BHF3TVC0FEAXQJHBvUP4IyE6FxG8j9ox9u4AZAvAGiPmdAHe/wBuo44SbgNsQbINJ+dDaR\n",
       "5yo4KnMc5Q9cyVLYz8sfBuAPlA/k+Cz6vq4EcpWN5hYQe6xtvrwdD+QyuYS7mRvhjgtBzxGRRbjr\n",
       "bohi5Fo4Y6IPrRU8tO+Ov2Py9/5u6PCX8kY5dQ5/T25GAkQKA1IA+LX+no54AP37b3OejQJACkDt\n",
       "AwpA21d/2CNC4IwPoDMEzvgAZ33+nvl/1DfNFDgqITyKDJCuBZQzAEQG6D4SLgKjCDDS3kiCpG6k\n",
       "lHOYQFjE2xdkSiAkwsRAQSD0UhMTiQNRjgX/IRBvgGWjvIEiI5IxyAORm4YJiOoOh+GGZ/kDlhDX\n",
       "FAKPP1Dm1XM5cnVaqxAYEp9jJejfv+yTP4apk+/mhWOBjHPoIgUhEqZY+q4rB96cCGeUizsYKRdP\n",
       "rxc9tO+Oj9Qk8A5/T/nxGP/ogPZk8D6yaY/c/uVeR1EAUnZUC8DOiXkALI8O/bM8AH4dIQTO+ABe\n",
       "CJ/HB/DIgh4fIMQDAIc+IgaixEBlHOYPmJTBUl4rCUIeEQNRSOHiCCwsLCwsLHwwDEeA1cFMW70N\n",
       "6ggB2nfavo6nf45hJG7BqTe3l7bUtcl0wTafwAb7ap4BLo/wOvbw3eSRG2DkLmCwZaBECHAbP9kh\n",
       "b4CIDn6CWIzI5Q0cXXVtWa+AJ0SWAV0xr7cu9Ld/lFhH3lgQf6DmOgDuAlOvINvogrp2IuPSydSb\n",
       "PHlNomZJ0HtkjLgE+rb8Svamheoc6D3IuaSVgHkT0cy/kRwGTTZmPXiBCRwjQ2g+D2ids4je6qNL\n",
       "ueb5wE3fWwfK6Vv8QN671Z8KKRS3bC1z9vbftQXdAPojuBoOiNqglQCZ8+veeXymr609r3N5roSE\n",
       "+QDSFUCE+QAjc/4sQVDElSBj/4kKx83wBrbdyI04Aulrr5aATfv+U4a1A5JyIcgIgXr2fXUcAVI4\n",
       "hESFQesGyD1fgFRtAj5UZa2CjadtX54QRwDkGohmIiSizg3QtQMXAo83rgEk1yXY4bFNHvEGeE50\n",
       "oMushES9QoB4A/x6xBsw7/VkuGHZWxvL7xfJlX0RkfqsZS6C2laVHNERDClEXILW17++G5Io99rN\n",
       "O5lvtn64+mBwHYSfcCGMcPeAt/NhwScPfSL7t4yGCoZDCrUSDBRWpARHKgCWMf1hSUJmVBRIyvF6\n",
       "Z8IBUZucP0oI5HVGhYKifAAtBw9q6BoApvuBIhBTEgahf6htxBGQ4YbapeDUDug4AUK+cAR0G9mi\n",
       "Q5W9vecaQWCuvFn8N5U/5ohAyBtUBMK8bbiU8bGM3GTpk3Povtw/V4gSCInKH1ATCHcoxwdk+482\n",
       "4w3wnI1l3w50XQSpUwiSlefXI94AiTbeM+IPoGJGdWygqJGUNZSTlLubf9k3y8s2VnxaY5RLUOc4\n",
       "kd5Yy3nrPK0ceOtECwc9rTA8hbsHfHS+Jw99NHZ0mz/r8/fm8BSHK7d/pBzwXIgHgOTavvrfoBH5\n",
       "D7VdIQTyuKEFwfRN8ggM+AB3yH8eB0H65Dfgk0f8gQhHQBIDDQ9gQgzUPAOS64H5v/S3kifIX0RJ\n",
       "34PFtygfdvkk7PSIQKhRD6xvIjrcC/TnOHhFiGEkTbEMMdQhhfwapSZGJY378MHcj91f0F3A40bu\n",
       "gnrA89rSDcBT5VTn690F5XDz0hRnav8J67GesnmfyCIg+xpD/pijzpnM7f+VskldXD+SlnKqjygA\n",
       "VoLax23AStAiNcTfRvXV8dkqB69kTfYwlbF6/55cxQ3lwENwGSgZdSu8G3fcBacIhA8f+mdN/V7f\n",
       "6NAve+z/cGdv/+jWL/eMbv+jKAC9TlLP3T50eNc12+Fs3Qz24JXjavgfshakJkdU3ABDsiDL1ZDC\n",
       "3bR1hz4IKdRt0h2gFQApi9IDG1eCDA+EaYR78z8iBqauDPHxS6zHfe0ifJA/7HO/VQsLCwsLCwv/\n",
       "MViOAPvat9zIgdoM2/EHeNwOUxETFcsCDC2UlQvl2imL23Ug3JBIyOfuNQpF9HgDZSsgj0DCvAH5\n",
       "Wq4teQO1rgA1jddWNyTIGyDS5m3hLjhePpF3QL53vU7EXVDbgdvAcxeU9y3WZqsHut1NuARl73Yc\n",
       "v4deDo/35gj7/oNWAg9nXAuh/fwCRLcVNe2746NzDmTu+Py9NRNoQ+b/1kemb+QGQOb/thfsBhiF\n",
       "A8p91zmo75+5AUY8AC8vgMcHQJYAngvxAUZkPsQH8FwDHh8Amfh5Tr8WwCQc0KQCHtcOQKmDITEQ\n",
       "zFtf81lZ5ZEiwBCOcVRXABEIjcIgxqE5EIGQiBw+wJhAyNCJgmijMG+A26O8AX494g0ghWCrhySY\n",
       "I5h3oKyT64d2t24BbgP8ASKfLEi4BDIkFRJ1LgPkLqh98sf2ZMEjM1eQbBglGg7lgwc50T3Xwrv5\n",
       "AFGEXQM33SpXCYRP+fy9NTdhiq8ywPwP+9T/Xdk/KgUsZfXaHg9A7/1OXoARD8DLC+DxAZACYPoE\n",
       "H8DlFDiH/sjnPyQEgkI+SAGw4/aBPL+2xEBZO0Cy/+s4RAw00QJC0ahcAjraiL4S++kP8AWc/rQD\n",
       "tB3eh8yWW2QA9XMeO+kn/fOqvgr6c8T8fX3X5zb9MOADfOM0xaXv1ZZWEQWywJDEKGqgytQnO+QN\n",
       "8HgdEokO704hYH/QjDdANC1gNAo35E+l/o0STlfsWQleyfIHyoFrrQRlr8n+8JFt20UfA6UyrvsS\n",
       "w72CR8UKM1cO2vvJnVzps8dH5ECRc8zGEjn6AWpE6wAxGGb4ZuUgXmAoKOfMF/17XFUOrhz6Z2/9\n",
       "KPUv9+lxo1LAcmz09u+HFk8SBME99m2pO+z1XJgQyK8RHwApAG2vc8UB8QEiZEHPWqAVAGRdCKUH\n",
       "TpY3gFIGd1wBJSdLCXMZ4sYDaBwEFCFQ/9DH2Z++gEWgHhDdNZV7j8nkr4yMKAAZCMtcuyUQ7ht5\n",
       "KYndiAJtCQhEFGz73pUyru9T35ZVuwQMH5SHPhjrHd5FcWjWgTYH3g829cs5hXXgeKlTxkajDG5Z\n",
       "CYjw7Z9QOGOTb3sEFoGqrAmFgRUS9OMfSG9s9iAQiUQocrH5PNwaHzzgz7glnsDdA17DE3vy0C9y\n",
       "VqH05L3D/+ytH8X823H9ISjX78z4QGHgcaMogCYHDn3R55H/UNsVQiD3RQiBQ6UCWATgQT057PVc\n",
       "2F0Qiwwoj+OywsOUweIw1/PKjIHGZe7MUcfzH0A8LrLgwsLCwsLCB8PnCGwkbtzHzf7QFQtHgOpz\n",
       "IswDIJF0KEwg5HFBAmHrAwTC431ECYRle/jKhXgD5fVmxu5onLjFR3kDPNdpIqH+CCb8gQiBsJdR\n",
       "Vogqm0LuAsMjIArVNCCKcwmKTHZt1nE+wN+zEiA8bTl4Cndv+tH5nrz9I7koafAs6a/NgWsA6Dmj\n",
       "bgA/fHBcHbDJNRnjGkiYB0Cq7Q4hsPaZWzm2BNS9ghv7ZZ9/xFqwiZoBkPw36muWgNoXqB3Qy6v5\n",
       "ATGw4wMYbgB/+O15EhaBL9pw2ED6sr8lvMFMROlILZzZP/FnwwRCIjfpECQQHhsbEQhR2WKTpviQ\n",
       "7fIIcMlkkMIYlSuu8fh7k7d8gEYk7MoQH2O/ec/i7cd5A0Qptbl0+d/e58+Hq8g7UAWpzo2yE774\n",
       "7xrgD8j+5m9vikHUXSDHyblm7oKqmKhl9owzGBp3QX0T8u+t9jDBHeXAWyfKO4gqDHfSE89wx+sQ\n",
       "fe9n1r566KM2z/xP5B/+yLRfxmcjA+VuuAFGUQDIDWAOe7hOO/Q9c77nBhjxAFBioLqv1O8fEQKr\n",
       "yR+V/UWme9QHSHwwj4BOAZxsWmDJCzD8ARnTD5SKpJWKCTEQVhHkOSt/QMxRUxHzuPJAX+VsL3L8\n",
       "uNGX/d/R7qJ8XmalK6ScIYEQZSAsL3dKh8LRKQuKIyBfS75Akc9GvvONoLY6V68VebwBHh/hDfS+\n",
       "sj5SweMN1D518Hi8gfIBYCsBkTrYuU8oGubmnshaBKQCZOay/IGy774N8QeaLLYSlHXEoR+0EtR5\n",
       "jZaKMxi6ZYgDIYlmPwNElQNvHYSnwwKfii64s6/ojf7c+GuHPlr7iu9/lO8fj9X/R+xeorf/URQA\n",
       "uv2PogD0vtEtfnb7H/EAkAJQ10lA3g0f9FIGWwWAX5+1ICA+APL1mz6UMlhn/hPMfUjqQ1EJiEtA\n",
       "RF3tABAiKCMD6qPhCKTFEVhYWFhYWPhkuK4BInFjRyIgksA39Z8sUkR7zxcgot65rjkFTtshG+UN\n",
       "EGHNOFq0SFoGnuANVNlDLsofOJt3oO4rwB8g0Ib4A00WuwvKOsLKEHQX1HkvFjxq4+VYtpjEzPt3\n",
       "rARlfGyCu7yDn8KdPURN+/74527/SO6K7x+F/xmZQVjiVTeAbIOMf7Ufjweg945cA9G8AEMewIkE\n",
       "QcjNMLrNoxDBGR/AlXf4ANB3z32j2gHmxu4nCIoWEep4ASjKQHMDJC9AuAT4ESgCjL0fTMLHKA5S\n",
       "VKSouQuON9LtSNYQ/j7mUHkBZK2BGg3/Ta3uMKk37rQdssi0jxIPEVE4+dA25ANg3gBRUXbCvAGi\n",
       "SwWMcJghUWe6VwoBj/Xn8l0DlWPQppU/p252v0i2wjJDW7v2BgoebSlDLkF5j90Cx0NrrNP/ADEQ\n",
       "eevxnNcVBoR31x+IEwhjh/uZde4c+sMDPWj+5/nHHIR+rituAKRE8DpD14BjwtdtZ/MCIAWA38+Z\n",
       "BEFbarn9I3wAxBvApn5fOejN+WAOc2jbwxsRA1ucf8snUPtVrYH02ushP8wVMEweRNglwI9VAeA/\n",
       "6pAjICeWB3qfY6AWKSqMvX6qQI6B0i3mIIJRCS6BkKjwA5yIgqK0qDaxb5l4iMhTGmzaYYQZb6C8\n",
       "tmt4vIHSlyBvgOggw5GSv5B3gMTYMm9TCPRcZay1EnB71EpQ+kT7iA8w4xIc46NcAqJGxvRkvcRF\n",
       "ZY6fUA4sPIuCXecXmAkA0AGP8C4C4Vmff5vLHpJ4Dq3w2r2hWz8aH739a0uAXAe2OQoAsghcyQtw\n",
       "lhDY9moPaqQAtD6fEBixCPQ3fL0Oti548p7iwLKQGAhIguXREgPdXAHHOH35RbkCUqcINAXgeMMX\n",
       "XQPSvCDEPdeAF1oICYT8ZqMEQiWvPzBUo8AjEJa5U4hAiDBzF/ByUXcBy5wlEl6qW9CahuGG/XzK\n",
       "PJ9wLQOtMKC1vWyFZW1hjQAuhDJ+Pra8N94CkBU/nacSFxGFlQMPd5SGqMLwbkTf008QCKFl6aSp\n",
       "fyan10G3/8itH42fVQXk16csAgmY7tVrvfbZcECkAFR5oADw3KPwvqgbYKQIxMIHx8RAm1p4Thb0\n",
       "iIHwZs9zRUMEa5+ST4QVAKJy+AuXAD8usuDCwsLCwsIH44uS0gXqy11oDLm1UdEywiGFx2uUYwAS\n",
       "CImIcooTCHlbEbLghEDI7yNCIESWAall635pGdDa+NNEQsQbaHOzFs4399TlATg66/hImGFtB7f/\n",
       "RNYj3m4xcmzfV3ZqrQShyocSXugiukTLvfPtReaheMBK4OG3EgPv4E6SoVMcgcnt/4zPfyo/vMWr\n",
       "edK4AmAbN7/9n2lra1vLhmcJGLkBujYxHprsTxIC9V6lDLIE8OuQz3/iNpDVA4l6kz8i87kEv2T5\n",
       "AzNiIKoiWPcwyhWALAn1j3k8doRA/ZjIcAQS4ggI37phKDY7OjgFxGKzmgREx2Gv+1hknLmQ1+k4\n",
       "AxGy4IRASFS+FBECITrEIwrDRjtljlsXslbuGJ97faf0NYUgyhsofWB/Yn5jsk/OWNBW38fAXSDb\n",
       "SMnKXASMq5UP+7VUw5ncBER0NathkcPfMYgbroXfqjBEtxU17bvrwPF+/8jnD+UDjH89L88zqgGg\n",
       "5+z4A2DOaFtZG2UwvFYmWMrP+ABnCYHcNzrYNR8gbuofKAkgf//oYE8bbiuPgCwo3QzKrC85Ajpj\n",
       "IIGSxm6ugOM1ihCALgF+PMURkAl/NnW0iIXqV2UjGElA5GcRtKmIG2fgdJGiY6oQWRC18fgthwiE\n",
       "4m1PCxYREVQYOr8+kKvz898ZKARnExAxroYbdmNBcaOIlSBW3Ejtg9/DicqHct42nuB4nkOjjy44\n",
       "lIgJ0bDNZ9s83LEo/OtliCP+/PF4i6s+f7Sf2a3fm8u7/ZvohRu3f5QQqKw9bjtTJpjHyjaPD4AU\n",
       "gNn8UKlIlhA4veEDBUD3yUPWm9+THysO6qCe3OatMiEeByGC4QgBowCIw5/b+BBfHIGFhYWFhYXP\n",
       "xjiPAF/ZTYB2pnBIIdHBEcj1eenbSdckyDeKFMFIAqJA1IC2MuSqTY0iCbqPgz+DieWA6Lj9qxwG\n",
       "nV9fyJmxwDJwNgFRnfNi3gE9tnuPglMg937GNXDJXUDkhw8CLkEZb0TnEQt1O0AuaCXwcMu18EvD\n",
       "B6Pm/Zlp/9L4gfl/5PMvY5W8M+9sLs8NgHg0eu5wm7IuynbUdjYvgFlH3uIfiAxgmYg5f8YHiOQR\n",
       "kO4GP+QPRwiMogbuFhGSvADMA9BWBRJrk2oj0WbdAM0S0PoGigCJkyHAEZCL61ONspNjQB/2sq/f\n",
       "w6xIESQQHnuNEgiJqCcRSo6AZ7sXGLkQ5JSyYFGZcnM/uitEQsQbkOO7dc7mHWhN2DUQdBeU+fPp\n",
       "NrgfOhSDSPigE35Y5jBN0yJIbVsxhT4IQgAAIABJREFU5cDDHdfCKS7CGxHVTyJ++uH4gUsOzTXy\n",
       "+ROdN/97c3luAG/+K24AbbKX7brtSl4Ab22PD4AUAD0/VCrQQR0x9U/cBVUeEAORAmDmD5AFycsV\n",
       "wH3BXAF1zmGugNzJu6GCIESwPhrlYKMv2jhzHwC/gayOpW0Tv1zjSAKiwhkYcQTCOQYGRYoggfDY\n",
       "ntaivDYifJgjAiFSCFAeAQT7n3YnlHiIX58lEo4SEJk5iMwNH82PbuX6Fw1aBBwrQZknZhGYWQl4\n",
       "TzCxTqDgUZtjohzcIBrOcMeicIaL8E5Eb/WzG/2Vda4y/dHaZ2P/ZV8ovh+sG739jywCo/2cSQ/c\n",
       "rwMUB2EFOEsItHPtdq6AIuC1EalDfxIZUOXPkAUhwU8e7GA/KFcAUTnTBrkC2h+J2mtlEShtwBJQ\n",
       "FgTKwYu+srIIdP8xuE+x9bsEByMrgXAVoNBCk4p4Flo4qE2ACIT8fqIEQmLZAIEQKQTyP+VIGUAK\n",
       "wygToad7FLM7zynlgbuAqBAJwU9f3XeobgGRdyuXUQaMLimRWXkM9GPoZTUksqmMi5x1IZR9zd0I\n",
       "cr0yVz9HJxdVDjzcsCicWueNCFsEJjf6K+tcZfqj+Wa3fq9vdPvX+5gBHdRlb7aN94X34xzGg3VL\n",
       "P1AcgBvgLCGw9Vni3vCGD+ZACsCp+SfEQN0mb+e+UhGrHTC8/afczqdohAAiCfJrpQjkRRZcWFhY\n",
       "WFj4bBiOAOuViajd+pFJPhhSWEW0nfpKjoFRCmNAICx9W5hASMTa15xA2FkGgFthRCnQWvjMMvAE\n",
       "b6DKHnIz3kCRsURCXuN4J937kuGGVRYkJTpTv0D2yX5MQLR3rEjBoyp7tc7Bifk83HEtnOEivBNR\n",
       "8/5tjsCE8HfG54/mm5n/0by8rucG8OR1n/ytGLkGYm4JnxDo8QGeqhjoEQLLa5syeObzj4YI1vlH\n",
       "uQKCxEBjCZAJjlCuAH4dzBVQX49yBUiXAD9KS0B5w+bWL0MFpUuA21yyYCaqfnpz6GfJEeBNiDdM\n",
       "TYyBqxVSfS7lvRwDsCYBEdG+YQIhjw8SCMs+E26r75O7xIFd3QrgB4m3IdosRwCZ/a8TCc8mIPL2\n",
       "6hcdOvrNjygwzwt3gacQ9PtHfnp0GPfr4JoGxwY6Of5xmPMJyh6FEnKDaDjDLddC8MB9N25xBE4k\n",
       "FJoR/s74/NF8M/M/WpP7zrgGpgl8VJ/c28gN0LU5CoDHBzibIAgd6EZeHND8OmTqnygJSAEgUqZ7\n",
       "YLJHZn1o6gfJgqrMgCMQzhXAj9FcAUR+hIDkBJi+ogDkOFmQNQZ1TO2ZwpEEdQzvqx36OhUxffNm\n",
       "d6LvVy//LZ6D0EJIIDz2ECUQEvW3/xGB0P4Xd+TAoYHkfB7AeSLhlUqGRNZKgIiEXb/WBRMRf8ow\n",
       "ZW5dp1cIujYhP1IKIhkM0VFSP5MJnwDtH9WIH+8VbMCZG84ZvBbf5QgM+Sw35o1HDTx36Dc5O2fU\n",
       "9+9VTfRu/4jLovcVUQAivv9+fhsF0PdpBcgnBPZr2wM3ygfwb/3nMwW67xsoAlBuQgxEJYN5HGxD\n",
       "DH8i6hMEaca/JJG153rfmCMg3gdSAPg1jAzwOAJbpwCUx9c4fLAS7rTMtocjCYiOH2R4rT3k+aAO\n",
       "ViusAK4BnWsAVi0kipEFUdsBWcY4SiBUXRBRdwHLRN0FTR64CxiH/KhuQekHY6m3RjSFIJtfvmja\n",
       "4qiVgGXiVoK2v15eHgzXXQhyfYRwSuCgReGMCwJhpEjcmTp6wJ9JkXz10Ef78Q5/bz/eYY5C/SLy\n",
       "ba/2/1PEDYCiAOQayPLoHtROXYGzeQHOEgL1XqGpP2It2MaKxkgeuRR0G6oiiGoHoNTBZ6oJdpYH\n",
       "ECIIH4e5Auyhv6oPLiwsLCwsLHSYhA+y1qLcB9smrpvcJrQc6S445oTVCgVfgOhMtcLtkG8yLt+A\n",
       "bNVCj0BIxBpZsO14q1ECoeoaImoZeIpIKOVHBYyI8O297kdZIcjhDch55FwRy0N5T3PXAGqTfRbS\n",
       "NcC3i/NcgrqGcyP29mT3GBI7xUVAGFkUzpjtzdjg/s8YHa7e/tF+PCuAZ0WamfrDrgHw/0a3R/gA\n",
       "yDwv19D/b+CNfVRgKGFLQF17aP7XfZgQyK9HFoEoMRBVEazygBgYIQuOqgiiIkJmX16ooMMpIOkG\n",
       "kLwA5BIgItcNAFwCRIdVXJEFM+II8Nch6cFiX4UPEIskqC/1idL9LzlWDUYSwBwDlVNwHPbfA+7D\n",
       "SaQt/ziB0EXw0JCmRMQbIPKJhF7Rmo1yLLoA7af70erfQzRtMWpDnAue6oxrQB7GSCLKJRAbs2s4\n",
       "B2zUjYBGj/bazweXDu/nLJ4+9N3D+OKhX9aey4XJfE77tM85oIn6/2PaDSD3OorGkHMZhQO4C+BY\n",
       "4Q44kyAoiuHBPnAz9Ac7UDSAAkBEfSz/g+iUtHqgxyIEtALQzWWI+OD5LEIAuQT4tXx+9LlkwUxE\n",
       "SZEFq5IgtYpZJMExvh7i4k1drVZY/6NFQwuDkQRlT8m0ycyFIwKhVAiilQvlFqBMyuBgtxEFDI83\n",
       "wOvd5Q2gfaNww7ofoXw0CP5A3/TjVgLZp8dFog7Mvut8MeWA6Jz1wK79sDXhIdw94M18np/+wUMf\n",
       "7efKAT9UGMDtP2IRQNEAiA8wCgfESohVDpp8v4+zCYLgfkBkQJQP4MojPoATGVDnR7f+gTyKEDgb\n",
       "IlhfowgBlD2Q6PiCUHt+PFpLALj9ywgBcOtv8ptqey2OwMLCwsLCwifjKyuLAOYIKH1he1E4pFC8\n",
       "NM9BSCERTasVns0xEA0pJGJtsG+jzYkkkHNKCN5A1pYHgBFvQJoSR6GFaK6f4A0QEQwzJKJB9UG1\n",
       "b8EfqHPecBeYvdY5Y64BLyRR9vW4YSUgupV86GnLwVO4e9M38wVC+OqcF2//Zawvc9k1kMD/H9Hn\n",
       "uQZmbgDEB0CWAJaxlgdsJeD1EB/gTIKgvj8eIujxAUYWBMQHiFgQwuGDsBiQsoDMcgUcMtANYOai\n",
       "Nk7d/vtcAdrk73EE9K2/3f6zsRa86IueRK1N8K0Wz8THRQ0plDbsbx5/PO5UP6h26uThYVqViXYq\n",
       "lXay5Yu9kEIiguGD+dv+qnQ+IVZQRjkDxHvz/NzwfYEfFUgg1GzMyXwz3gBDuwuGsf1EFKs+yOO6\n",
       "nR19WTdN3QVy73pfkdwCHtmr7GfMJRjBj0cPcgxgrorQ0NN+25/AnUPfc214n+lw/hPmf92vZZ5w\n",
       "A+i2q24Ang+t3a85UA4CfIAougN6oDicma97HMS59gRC/6CAyoGe3wkVdOcfrAf75fvQ76n7copH\n",
       "7RIg5/VFDFMM562c0EkTCrcN5xbQt/HOMjCwEgDLgE425EUSEBXyIKxWWOdq85b3hiMJyrhsLAhF\n",
       "g7NWhbr3KIHwaL9LIBwqBBTLRCjn8hIQlX7AH1A6WjeXnn9YfVC03bASeOvItdqcPh/galZDs8kJ\n",
       "7nIMzHw38wj8FO7kEYgk9RnPGTy8J2O1zBO3fy9N8dnbf9cG9jUqFITGe3wAtA664V+JDPDm6g92\n",
       "sM4oMgCMi0QNzCIEDEdAKhWKGzCLEICWAH4tLQG1DVgC+BHlDDCEQNQnUgx7roFMQgFAGhAKKZTE\n",
       "QaL2WvaJN1m/ZvDkOnonkQS8ZxhJQATLF7sEQiLqbeUTAiGPDxIIy843LNeLhxWCkbvAUwj0/Mhd\n",
       "oOVGaYqrbAIHLxG0Epj9gLWjVgKeU7fJtRgRy0Y3/pYLwcNN14LGzfDBn0I8kiBuEQi7IAZjblkE\n",
       "nO+T14du/16kwpXbP5Irsjg9sLUItLU90z1ap3cNWEJgNDJAz9Uf7FYBIPJu83t3MLt9oC1EDIQH\n",
       "ulAk3KyDToQAShpE1CkCnTtgWFZY9+HsgUQcPthcAvwYsycvLCwsLCws/CcxySPAGsN3ayPqNI7W\n",
       "trdbdQrca+V1VomnLVM+7M6sTWVK7TlbFaTJn+Wru+CiuXQTVQQGBEJ0L0naWkAOb6DyHwbboKmI\n",
       "KzdKSXyGnwDXSzHewLtRvgL9X2XE2eitEbH9R7kEdf3QrKP17AyoxkX05n0mt8AId9ySV3z88zkt\n",
       "Ijf92VxRN8DISvBujPgAl+YbmPqvEgLPuA0QkDyUmxADR5yDCOR47V4wKYTNczWZeJ0iXyDpmh+m\n",
       "EbY5A/LZPALN9PFqbfw6mluAyPkwdrpatlhGEpTXG0m+QNmPcBEAsqDv899DBMIuasDY4Ju89gXN\n",
       "ahNoIPO/J6enupuJkKj96E95A0REOc4bIFLRAIO15c8z4g3oeaus4y7w1z7vLjgr58nGjinsQogi\n",
       "7GqY4M5hfsXH368dk70qd8UNgHgAbX5tikeuiv5glHPM+ABNDh3Udl+jtUcm+ygfYMQDOOU2cHIF\n",
       "GPlRrgAwV+c+AC6BKjNwL8CcAYOIgutlhfkxYZeA6ZPm/145yEBJyIIrMEkx/N0Gd+07aZKhG1LI\n",
       "8posSO0wrrwEqRUNyhZXSM6A4Av0fW0fkiyIIgl4W2ECIb+fKIGwvm1LIHzCOuBNNSMSWvmGKG+g\n",
       "jlO/tR5vgKg/uG/xBvqu9j4cAmFk7baHZ5WDs7IW1w/zO0qExB2LwBUf/2z8k8pB9IAfWQRmZYtR\n",
       "gSBv/hkfACkAvC7iA4zWxrd+qwCM5EeKQMhacDZlMDrsg8RAr5ogjBCYJA0ySoJUCIJJg8pcsk0c\n",
       "5ubWn0xfnzRIJxJqfICsyIIlxfA7sG1kQgr3b3vCyddGVc+tTDGAdCGUBv4j2RwDXiQBUTw1cWfe\n",
       "H6Q1RqYrZN79m5DhfxJRN0KzGliWtLQSnHVLNHKeXUt/QXDZYGsR8CIniKxrQfaVNZ75u91xLZyx\n",
       "PNixIbHHcOfQfzL88cytnyiuAOi+M7d/vY8Zutv5hFQYnU+Oe8KN8DS8Gz6UBcpBeB1w6COyoMkR\n",
       "wJi4GIyiGHQRdP9hf/g/7yILLiwsLCwsfDCGZMGswgebCf87nluAqPfJdy6C3l0wcxGg+gPttQ0p\n",
       "JOIcA7GQwjqn4AuU/Z0MH+yc8ZZAyBohKlL0UwTC0u6HFk7bwK3czp+6rIR1PBtPkmjT6wQzBmJ3\n",
       "ARERqHJYmvu5RutMwg+f4BJ4uHfT/323OaK4E+MqsS86/oz5X/drmafcANF1OjP9pFKgfg/IGjHK\n",
       "FIjWRi4BPf/Q1w/mgq4BlCvAk0ehgsHwwS5XAKoZwONQGCCqI1DlFTlQPkqXAFH5ciKXAL8eZQ+M\n",
       "5gwwZEFUdKjjCETyCHzXNuL2cG4BouLDVz//ILdAGyeey0iCelgfe+ySDXGfNvmTibN2CYT8PnRm\n",
       "wWwjCVBBoimB8Oh7gkA4EXHlvIiCbqtwnJBzDuOi2mlTvM07EKlo2M0BD+NeBlU5LHJKkNcO5BzQ\n",
       "ck9wCTzcGf8bojYQ3uUamI0/c7Drfi3jJQPSa7LsZQ6CPkjBIS7Xj/IBPAXAWzuSKXCkCIT4Aw4x\n",
       "ECkAdS7IG4jII7/+SHEQh75SALoIgSFZkNQ4wgoAEbk5AyQ5sOvDOQMQN6A+Kv7A4ymGG7lO8wF2\n",
       "8Y4jlDcBHvYtnrdT43j9sz+EKdlIApR2OD6fPsWopVn+YbQflqYQeL77LdnKh3fCD+uPIvizoW/H\n",
       "3VDHpxHlEjC8Azp6xKHRaOxda8QTuEsCjCJMDAz+jf4GPAVgFA1waz1wGM/kyuuTv9U34BED76Cz\n",
       "ENwMFQxjxB+4+uVHoYL1dYzTNl3ikVkWFhYWFhYW/klMEgpxGN2rtREdpgebZIhEfweUftjJLUBE\n",
       "ffphal2oSmF5nXFuAZYVVQrbfNqFcLzXnOIhhUSdK6EzJ6GQQt0nwBrxu3IMtL5neANE1FEpmqzD\n",
       "GyDq/shRd4FnnpfFk3ro6IKMms06er1Lcmg79B43wLt5A3f4AGfmu3P7vyo34wEgOe5Dbglkxtfr\n",
       "RvkAyJrAe0E+fM9VMeIDoHU8U7/ncoDyiJGP5IOhgqitbAaHCtp5/VDBrp7AsHaA7lMuAX40LgF+\n",
       "dHIGAJcAkc4ZYHkAKHmQdhtMOQKkig7Vr8W24yRDPBZlHWTMcgvw/HIf3KWd2IF6BDjZEA4pLK+z\n",
       "UQ56n78gEPIyOmeAaBvlGJgSCPX7BjjjcEGHbGm/zxsgwoexxxsw44PuArfoEOEQQkQqLHsFwm9Q\n",
       "DojOuRHM2F/KG3jaNeAmFPrhQ58IHej+vkbhgIXgZ9dzD+NZrQHAB0B1Crh95NdH63h8ALQfTxE4\n",
       "myugzI2JgaEiQgN5SAyUh/6ALGhCBWHSILGexxHYcvvSi0MfcgP4EeUMcGoHIHlZTwAlD0K8gS9K\n",
       "mv1/vO9uMU0M/CaYZAhxAzx4uQWIpoffb0VHAmQLxZWx1BSC73zdB4R+5H6b3/0poB/d8c1bWBmi\n",
       "f6SF/zyu3P5HhMB/HT+RbwARA0+NBxEC/xz0j9XJnAEZWOBzd+vXFoEmo9sooRTD0oKvogZaeF+L\n",
       "GpiFFBIpk/w0pPB4fTHroI4aIJB10A0p5D1oKwHhSII6ZzSSgMcjeY06Poeu/WcsA568tgwguZGO\n",
       "hm7lnrugzCl+TPmJGH8nusDbj9xXw/usBK4slARjP8U1cMKa8rdv/8j87/ZBd0G7setxMzcASk/M\n",
       "sshM77sGzqUMRm3REMFhymBxY/csCF6EgJX33QZjcz4OFdSWABwi2F/o3FBBZAngRxQq6NYOQH2o\n",
       "1oBvEaBVfXBhYWFhYeGz4XIEinNXmRVYZntROLeAGF+eizsmzC1wvDamE/F85zXb7R/lFmh9vZXA\n",
       "zS1ARATIgnkj08baZt62/jPj940IhDzeXLMxgZCoaM8/QSAcyW+iBREJR9uI8gaKrDDP3+AN1D5U\n",
       "dAjI8b7quDoskIcAi53jCJyQNWNDUr+YI3DzfT55+yeKm/9Nn/SfD9bGvAE87xU+gJdiGPnrMUeg\n",
       "+bmjhED9Ps/mCogSA928AIgYmACZD3AKCLQZn7+XMwAlHjpea9fuNGcAqhnAr1HOAFRPgIi8nAHI\n",
       "JWD6kuQI/IvgD/RbvG424/J4MbdASpYsGK0/8DeBfph+4jCQuQV+cp2Fe/jJ3AK/NZPhwvjQf3qd\n",
       "q3UO/iYQWfAyYOQbL3Rv6ndjnGI491qFjAI4E1LY3ZphBAH3oQ+WNTMcUlj6ZlkHQYQACimkYhmI\n",
       "RBK0CAGbbMiNJOD3H4wk4PcGIwnknA6ivIHxDT/GG/DHY96Alr/DG6h9eu1R9UE5jr+GgfDDIn/d\n",
       "SkB0jk8QGRvFU37AOz/80T3c5QhEbv+lTd2kgyTAGQ/A7RtkG7zCB0B+en4NrREqSdCM8e/d8BEf\n",
       "AMnBaoKQP2AjBNCtfyRvygqDQx9zBBRnwQsVPJs9kB8VR6C0AUsAv0ahgiAMUPdl2Aa4AsnyBr6y\n",
       "ihpgq0QmorRj1wAJYmBrG4QUbrtoE/+FTIidJQvWT88LKSTq7dU3QgrbDAECoVRidI6BtpQxGbmh\n",
       "hQ6BUH7JzoYWMp5UCOT6SCGIuguI+h++O+4Cdx2KHcbNsgHmfFg5IGdPYdfAjVv9HSWi28ONsT/h\n",
       "Grh66KOxV0iAY4XBzm8VB3/OmRsAKQD+OrtpmxH9RorGUBFAIYLAJVBkMTHQDR9EUQMoV8CMGAgU\n",
       "gPJkJ3voo3oFYu069vggxKGP0whrE7/wHwzN//2jGypoXAMoxfDxmBZZcGFhYWFh4aOxFIGFhYWF\n",
       "hYUPxhdtPV+Qw95LrONhOsiWDxBOMkTUzBk8tj5XxmUZRaD7xBTR3AIsE80tQIRdBCiSAEcB2EiC\n",
       "cB4BY2dXHAPxGcDyxeKteQh6EmDcft/fuyigh2Y4/ugTVso7vIG6lmaAO+sT9Sb2cVVBMPaOuwCL\n",
       "vocj8BBZ8G9yBJ50AyC5K9EAiAcwmh+VDDZzBvgAsh9zBCwfwOMzeHwAz/XgugaAS4DbkUugzhXK\n",
       "C5CN/Ch74CxCALoE1F67SAGTK0C4fYFLoMwl2wQfAKURNn3S/N/7+mfJg2SUgBxHyUYU0PZlFYGK\n",
       "73E5PF1p0EsyVN6jk35YKxPS7w6rOPHBSU2OX+sfg44s2J6XPVjloO4ZvG0YSSDLGDN/APzCmy+U\n",
       "c+h7kQnwB1EoBHwYo4yBaGyUL+DJj9ZBB+/wMBbPb/EGGOrt7sk/eDqFw0lb7K1zRzko48EEwTM6\n",
       "rDCg3TzEEUC4e8AbOScn55OHPtqPxwPQ42c8AH8Of96zfACvTQMRAlEfUgTOZBb0ygnr+Yd7DIQP\n",
       "ztaGNQRGEQLRUEGtaIi1K/R/hE4RGBECbajgKI0wTB5U14xFuVV+4Pa1XAMLCwsLCwufjKUILCws\n",
       "LCwsfDC+KCnXwKEa5P1PNTFwGGH1sW8vnBcAZRs0MnuV0TH88zoEvX8+whUgyiaLoJtbgIho38O5\n",
       "Bfh1OLcA7x3kEYBhhlpeY6MfDykcyW9q9E4bDuEDbe78F3gDeo6K7OeVQjyIO+WF4+4ColN8gvlQ\n",
       "iKf4AFHcNflreJ/dk24AIvu3vBIWOJQDfAAvd8FZPoDXVtrHtQPQOiP5aKggcgmY+VHOgDN5BJyc\n",
       "ASZ74CRngOEITHIGaO5B/fJ49QT4dbSeQO3TPADUNski6IQPyloDlRaQvgaZBbev5jDngfUX80VU\n",
       "uQGNK1CTDNVSvbyJb5NkiPZdzKtIhft3/5z7ZHXCbj9i35Xs2BQCSxYknFuAiGjLhjiYwWmShNIS\n",
       "zi1wLId+CuV85j0GihMhAiHcN/CJRpWBmfxGIh3yQH6khFzhDUjZbq6ULW8AnKT8Ywr387ByUNZD\n",
       "rUg5QFK2cchN+Yu4c+i7ZYgfPPRduaACoGWjfAAvd8EVPoD2yct2RPSLKAKRjIHIhz/MFZDwYT9a\n",
       "x5N3cwZM5uvlc+UGRHIG9GTBfq6OB8CQr20e60HfZp+jIkJQXnLxlAIg0gnr3EF6uwsLCwsLCwsf\n",
       "hqUILCwsLCwsfDC+aPtf3yLM7Xn/czzv8wjk/DJtM66AfM7yrQ1wBYJph3kP1Rik7M64DgHh3AJE\n",
       "R86A42l1ESSTdrgLJwzmFuC9hnMLzPokQEhhlAjwBF+g9cV4A3Ief66jb8IbKLIpzBsgiqUodvd1\n",
       "w11AdD/80M73990ACD5HQsvF/P6u7INuACT3NB9gFMKn15m37aZNr43M/2jtUaigzQGAQwU9TsEw\n",
       "L4CXYhi4BEofzhlgwgwH6YQJzuHnDChzkJrj+HCEayCcThhxA4jISyeMuAH1EfEHlEugDzc8GAH1\n",
       "8X+DPAK7EMzqYN/F4iy/ffc5BUhxBaSvXz7KTUqugJaXvIFgkqH2PvjF8Ud1cguU1zJnAA9r/yFq\n",
       "kiEU989zPpRbINRn9kDDIkWzPABymVlughEJEI19Ao1YZdcO8waIpgmJfmr/HqKJcrzRvxHh0sRB\n",
       "LsHTiOYFmMqDWgFG/gfeIyIEyrVDcfuAdzCSmxEDkQJQ+5y8AE/kDBjtXSYP6nIGbK2/PMpDHyga\n",
       "Z+sJEJHLB3C4ASh5kHku55d9QwJhqysgSYJFZuURWFhYWFhY+Gj4FgEiolxcA+wiaFrPK552mDhU\n",
       "0KlMSMJsPq1MqF0IPJt0S9i3EQ0pLHuxoYIopJBA+KCsUIhCCvm9RkMKT/VJoEgCbv+B0EI5zprs\n",
       "cSSBnj8aScBApY2j7gJvzqvljonoVEXBqPbtRR2Y+X6nQeBE1ED8tvyOaIDZ7bjI2PZoSWPPPH82\n",
       "QgAx/aUsWsezBHhuAM+c70UIDEMET/Yhl0Drs7d43TYLFdSRAdNQwVAaYX5EmQLFADdToO2T4YDh\n",
       "dMLJypXHL2EJ+F9tWxaBhYWFhYWFD4abUIiYKOihxiLKWgNHbYGjp+MKVB4AyguAfCLqjpjFfbPe\n",
       "iB3m2MNIKLeASEiUB9fZplmyDE429BNeUtZ+YZEisVfPH76lbN5S1Hfe37YsgbC0yzZy2yLrFxJW\n",
       "34Z4A61P8D7AnHxDfJpUWOa0f224ByC3I95GMLfAT+Lp27/n336SBFjmG/j1jd8dzxW1BPA4j0tw\n",
       "lRg4w4gs6MlVeaeI0NMIJQ0a1AtAeQRgzoCfhiG+b+2LMyssVMdoPgA4F1GCoANZj3f32rgCyyKw\n",
       "sLCwsLDwwbAcgXo1+yLa+zCDXPtaiuGOK+DxALZv0yZ5A4xpZcLqf9EO4lw3zkpXJyFCCUufk22w\n",
       "vKE2V+fzP7pFSGGZaxdZCRtXQFcr7MMBgyGFvPerWQcZgjPwrtBCxijEUHIH3sUbaOOvVTQkumcl\n",
       "IDrHJ4isgxDlFzyFuzd9M9+J8Vdv/2jsLBwQjfMyBaJ9wJDCAB9Ats0sB/wa3fBPVR8cVBNE+5F+\n",
       "ehgOOOpTbTB7oOQRDP36fqggDCk0fIBMHTeA5zI8APGIuAH8OlphUPXNSg2zDCo1bCIJRKVByQ3g\n",
       "x2URWFhYWFhY+GCMaw2w5pAVXyB/N/++4gog5O1l6g+49QSIyo1ZPicq2hQvobkBm6j6oAsSUeua\n",
       "JRkqrzOZJEMoZwBCMI8AAswtwHv38geM+uiaP19ilkdghB/LI3Bir1G0r9OYN/CTiFoU0PuP8gve\n",
       "jbu3/5/GLC/Anfn0nGf9+tH1vDwCV/gAZ+DlDPCiDGZ9pxDMI+Dtu8zRrArh5EEoWoBfI25AXdTv\n",
       "y2ackztAywFIbkBGlgAiovRFKFJwWQQWFhYWFhY+GLHMgpUrUB66EsWH+CNph3kuGWsv55DV/YgU\n",
       "V8BmG+S9RLMNlrXz5WyDCeQR4NtaxxUQEQTm/aIbvnaWz/rOli3Wa+OhETE4zvfTt55oJMFoD+bP\n",
       "nP3bHR7/87wBb22EaCnhKL/g3YjeMs7cRt/BB3AjFhxewMhPD8eGogZshACK/T9jERiVFe7WuVFW\n",
       "+Er2QC9nwFje5hFA3ID6GmQRHOYROJ1GGHAD3L4NcwOOx3CpYX6N0gnrUsMinTDKLDjIJnQBKkRw\n",
       "WKL4X0f9kgkzzyB8ENcmOIT2nTIF3Q83gUIK3ZC8oBl6NvZJAuEZk/2WsiHNRV01yF2g96UmNkDK\n",
       "gTcehQVGcYao+FN42rQYSeq7PbqpAAAgAElEQVTT1p4f+u7YwMceJQbOxvIefLLgNWLgDKMyxN0+\n",
       "3hQqCAFCBY35fxA+KNMIj8IM/0kMQgvDoYKzJR6ZZWFhYWFhYeGfxFIEFhYWFhYWPhhfSWUW7Pzp\n",
       "WeUkljkGQEXCOjbAFegZkcoE5ZUohvUHiDp95k79AaLO9z+qPyDzCoyyDY7qEEgXQT7WfaQOwS/L\n",
       "LXBm/FXegM9DUHLsBgQm4RlvoMlddxcQ3c9DEEGUX/AU7rDio2Z8oufdAJG8BLNMgd5cqAIgbpvz\n",
       "AWQbkhvlK0B+fTP+oZwByJ8f67NcBMgD4PEgiyDkBhzjIR8AcAPKI/XcgOPRcgP40WYKnNUVsKWG\n",
       "he8/Wmq4zgWqD6JoAX6det5ASl9WEWCUjL6KaFA7/8BCRPStDvl9FlKouQT8h99E2KAoUeyGG/rr\n",
       "PAKZsGhUXrgmLNqHcgj8H0GnH87f13/QE1AI3h0W9y5E0yHzj6PkDrw7HW8U0RTD/xJ+Q1jjCFcS\n",
       "BXnkv/8C7oYZDufU4XtRgORBnlxd72yI4lWY8sKy9PCGn5u+ud+/4wagAkNGARBJhDarCCzXwMLC\n",
       "wsLCwgdjKQILCwsLCwsfjK/k1Rogosx9Wcs080JXf2BnE0VrK4/ftiKh7Gd0XILDVH68nHMFPN7A\n",
       "Hq4/QEQqs+Ahs0vuBBMHOD8AmcqEZT4t1/YM+QMgtwDv51StARS4P+IMPJRbYCI6HX8npPDKfrq1\n",
       "38kbIDoVahie0+znvXi+1oDDEfiFfIBxfgLku9+h/CxU8AxHwMsZYDgCk5wBKHugWTtaT0DH+c9y\n",
       "BgzyCOicAbLCoJ6LwFx9PQHBDeDxiA+A8gfwI+IGmD7JAwBtx+tm4ge5AgAfANYV2IBLgIhkZkGm\n",
       "BaTH8wi8C4gr8BRvACQUCv9K/wDSls+nGGbFJ7hvWK6Y4imG/6u8g38ZP8kv+C/5wP9reFfOAC9B\n",
       "EFIAdN9fBSIQXp4r4efo9S/Hcg0sLCwsLCx8MJYisLCwsLCw8MGw4YPCCZudWgO0/Q9XJKyhfiwn\n",
       "Yh2PJq4rkIman4enOHIMFP6ADq8AIRWdOVxxA+TrYEXC0pdYYlp/gF/LnAJlLrF3IVf20GL/Z2mH\n",
       "i8yFOgSRvAMIIrdAGQbmHwDRE6K4k1ug9V3bT10bWAqf5g3I9ToErZR3vFRPaf23cgYE3+ipFMMX\n",
       "+QBE8RBB/TpSOwD3WRP5nZwBeuwsZ4DnEvByBpzNC3C2noA3F6wwKOoFmHTCgmcQriuAuAFE5FYa\n",
       "RNwAfkTcANXX5Q5APAB+rPIyV0DfVvtS4xR0uQNUrgD5WLkB4vHf5AgsLPzH8F/MGRDF4hwsLPxd\n",
       "LNfAwsLCwsLCB8PNLEgbUTrCBpuLgPu+jLvALU1MRLS9wqWJ+fWwNHEd3/kx2nPdp8MBySlNTMU8\n",
       "FE07XF7LcMCjz0k7TIRTDHtph8vr3WQbPJ1ieNRHPut/SyD9sFwfjVGv3xFSOFrb03Qj4YdEz7sL\n",
       "imws8gLelG9cnp8Kfoma9+HYm2GGT7oBkFw0Y2A8fNCGCnrzXgkVRC4Bb500YcpH0wiP+kauBOQS\n",
       "0HPRpK2uMyg1HE4njFwCROSWHEYlhvl18vqQGwC5CyYlh3X44KzkMAobPF7LsMHymazMggsLCwsL\n",
       "Cx+NpQgsLCwsLCx8MJYisLCwsLCw8MHwqw/q8EAN9kF8H3JOaeLS18IHSYQIZsUpCJcmNlkEd+HM\n",
       "0RwBamEik9LE5f3YppRs2uHGGxhXGpQVCcvecYrhn6iAZ6oPepkINeRHdzHboJzqp0MKqcptSiZW\n",
       "njiairjK3+ANlDnjoYaR/SCgiIM7vv0ZHk8x7Px3eJIPgOa7kjoYhQiO5vfmPRsq6MlpoDTCqA+l\n",
       "E/YyBT6OQIrhWaVBLQfTCSNESw5r/39de8PPibrQP1yGWFcOBHwAwRsYlhyu7ycWDCjDB5dFYGFh\n",
       "YWFh4YOxFIGFhYWFhYUPxlIEFhYWFhYWPhiuMyGlFm+Ydani/EW0H9yA6o/4U30ViR3t7MfIL8sD\n",
       "2Hfx/OAWMGdg/xZleIXPvz4Xc3BfLftr8upSuDTxMUyXJkbOXvY/leV47XFp4jLnTvSN0iUf/jCU\n",
       "T0CXJhZ7HVUkhP589pW9Ke2wmKLi6dwCRD53waw9iNeP7isyp5xXI5yiGAyPVn/8Ddn67vAB/DwC\n",
       "4znPpAz22s6WFW59sZwBHi/hbM4AT66uDdIJp81f28sBgODxB7y8A8WHj8sEJ8f3b3z+s5LDOhUx\n",
       "gkgrnMRz82jaRBphnU8gbfZLPOQNyD6dL+clnou0wjp/ABovz2mQP4DoONf1eU7LIrCwsLCwsPDR\n",
       "WIrAwsLCwsLCB2MpAgsLCwsLCx+ML+MvEO6amou41hxgma/eH0FUyhIzb0D5/hHyttV8AI0bIDgA\n",
       "JlfAd31e8wlo3wtRc6zWrp26ugPciUoT8zhdmngjU4YYJW6XvIE6r5OXQM7lliYmUqWGAVcgWpr4\n",
       "6MO8AZxTAPuebf2B/FQS+wBG/nydW2A3yR9m4+XY+HvaUob+/DO5IaCv+gZv4Ay8WhNPzK1xhg8Q\n",
       "RTRnwGjdGZdgJFNL+Z7gFvwUUN7/odwkD0GkrPAo74CsL+ByA0Ylh+GmQMlhhI6f0J8LhWdAXdu4\n",
       "5HCy3ADYp/MDOHyATfv6fd4AQkbcgMoH+B+h8sNEPfdP1hxYFoGFhYWFhYUPxlIEFhYWFhYWPhhL\n",
       "EVhYWFhYWPhgxJISR8H+iG/t+38137rIFWC4BB0f4PCxHMOS9Il4+QR+ClvbSeMKtNcmdYFEjXdt\n",
       "OpesO1Dmcsb+ALSvjHbfR9z5DQd8AJObYIKTaQg6jPzZZh3JZzg5/m5uASLszy9zI9lYDQfEG0Dw\n",
       "1kZ4ggfg1Qa4upbnU79aQ8Bri/juo3UFZmN5/Jk8ArO6ApFaA5uIuZ/lBujmHPnfH4bmBsi8AF3+\n",
       "AA+wNoGc603vBeUMUPwByRvIhisAeASi1oDJO6DzClzEsggsLCwsLCx8MJYisLCwsLCw8MFYisDC\n",
       "wsLCwsIH4yvp2sXCgavjDRl5+yr1BiT2LyIqeQRMzQGE7QV8/Y1bkAY5CBqXYO9fE5HJvS/zCEgu\n",
       "gVKBatx/tFA93Ffz/Y/yDSDoWH6UYwDlE+jqDvAejHzry6CugKn3zXtwahV0dQccuZ9C9Z2qdvSn\n",
       "8uoP6PFncgb8FJCv+s6+MA/h8nTTue/N9z5f9AxX6gp4fvpIboKnIWP1R/wFk0dgku8f8QdGuQVk\n",
       "/gBP3vj0g0hbvjeWqPzgo/wB4nUHVDsgCd+/rimDctx0881rDITHbyJ/AL8GNQbKlkEegbTyCCws\n",
       "LCwsLHw0liKwsLCwsLDwwXg2fNDD9qohhdIN0EoNg1TDKLRw5C5w197IhCfSfj9cT4Sj1JBCENpV\n",
       "0xSLssTvTMlr92PLFt/dTxeSOPhcz7oQoiV3R+P/Vtrh4b5ACFw0HfGdz+Rpk/4Md8zh6DN6ah8z\n",
       "k/3ZUsNn1kahfxF0ZYJR+OAD4XGorPDfhAkbHIVqdmmEH9i3Tiesn5+aaxQiqMMNpYtAyD0UJuhh\n",
       "WQQWFhYWFhY+GEsRWFhYWFhY+GAsRWBhYWFhYeGD8TMphlE54urjOOnnl2mEVUphzTH4V1B5AyLV\n",
       "8JmSte/CXR/9bL5ZpOY7wxIjeCLtMNHz4YpP/52e2sNP4KfTCb8DkRTDG2i7vJ7w+f9tv78Lkx74\n",
       "TTnXn8agvHAoLBAge7wBonbm3sSyCCwsLCwsLHwwliKwsLCwsLDwwViKwMLCwsLCwgfja1Ppg9kz\n",
       "k490wS7qOOYD/I/om5/35Yj/daQtCx/+4cP6/l3+a4QzJYcXfh+eTjv8G/Bb/PQLMfzN0sR30eUV\n",
       "+I9debvyw6ZMQIw3kA65baUYXlhYWFhY+GwsRWBhYWFhYeGDsRSBhYWFhYWFD8ZSBBYWFhYWFj4Y\n",
       "SxFYWFhYWFj4YCxFYGFhYWFh4YOxFIGFhYWFhYUPxlIEFhYWFhYWPhhLEVhYWFhYWPhgfO25zyCY\n",
       "8ySjYBVUcvv/iefBOf4R5D21lIv7v5PZjbMI5mPPK6vgv4V/PYsgAnpPK9vg70Xej7siVwM8Hv6F\n",
       "DIP8e5d2opoR9j9y9U25ZO3N9CXO4v+Vh/0P0WueXTAf5/Se/vxXPpaFhYWFhYWFK1iKwMLCwsLC\n",
       "wgdjKQILCwsLCwsfjFiZoig0N2AX1QfzxUqEco69nyPtO/2LYJ89Hf633+q7zzk1nsEDe9RzSX/x\n",
       "k+v8FPbBHlHbu3z8v+EzQ3tIP+D7hxyDyRjeB4/925yE6rs+9gG/O8cjv7c7n2X9vREf1E/8bW6B\n",
       "eUzHHtO+EW3/YPVaPqO2443sO9FWKgXyeZW3FxrpIu3flF+v+rybY/8TrjY4wrIILCwsLCwsfDCW\n",
       "IrCwsLCwsPDBWIrAwsLCwsLCB+NZjoAHx8+vffxpwAegq3wAOY6f7w/4x6qfPw19tNU/dzi/8l/O\n",
       "Q5AVL+GJ/ci59GcheQaX570xfs9zXXfk+/8JP3+m63Pe4QM88bUnItqCW7jDG/A+o0Tn34T2ycu/\n",
       "qf52pJQNl0CO5+/TlvbaN3pPiA+guQGRz2T6d38gvr+uIQgKf5NLoH+bEvvdCXAH9iT4BUfbnVwH\n",
       "u2JpbNT+A529PhvewHflDdR16uvvKtfxASrH7hy/IIplEVhYWFhYWPhgLEVgYWFhYWHhg7EUgYWF\n",
       "hYWFhQ/Gl64twPmHc/5T6w7oR9r/tJwB/CjmSZGcAcP8AJPxmi+w79b/nwE3oBvTP2b5mp+fdTFJ\n",
       "//tJ37v23de42n0DNQO2KqPrCGD51gfXVv0zzgP7Sf9G/DrKQcDtkf144/82nt7PU3yA6NxR3gCe\n",
       "7/fUH5A+fMQVaH2NK+B973bCPIOfhMwZsFPPZ+jk9J73jdI2kEM1B/jnRPYxV4HHd/H0vXwijqun\n",
       "U6yZvCcxf79eZCzRwaXQZwCJufRP5b73uQGkjPytr/59fm/OXbvyBmx+gFC+AR7/erUzOIl6P1t/\n",
       "PvPnlPc/lJOtL7QsAgsLCwsLCx+MpQgsLCwsLCx8MH40xXA18efv+jwcIljl9/bauATelIJyp2aq\n",
       "16b7mRtAhQ2WksbYDfAOnClN3KUYHuxRzhUJH0TheihU8G744J63G2PvpxP2QuCibgC8TmjoKYw+\n",
       "o6gpO7qvDXwmaA3vM0IuCOiqCOwFhQoiSBkbirhB0zsaS3T+uyxnjr4nu4fDRSDM80gOlRx+V7nh\n",
       "jNwF/DtJ/eebkMV834jEWCKiJNIWPxJSGIEJB7Qu6kTN7N9cAii08Ls+VldIUi6F/F1KEd/Esggs\n",
       "LCwsLCx8MJYisLCwsLCw8MFYisDCwsLCwsIH4yvvNpSAH2UoIRH1oYI1fPD/+j6ikO9ephc24YId\n",
       "jwD4WCpvQDzy86z7sg0t3FuYSxc2yI81AhGkER75yoXM0Kc+CBGUbSyLwgZ5fyj0zwsb9PyTJu3w\n",
       "wI8p/e5/I12y57v/m+mE95xupQ3293N97FO4Mzf2V1u5KG/Ag/zsOQVxxPePQgXLfvBe9pzGaYfJ\n",
       "cgXeXQK5SxM84gME0z+bEsYgVLDrk+GFpMIITdhd4wVk0EYv57PKG2XhbyciLCt+nxpv4Pj7UWr8\n",
       "B/VnyyQ4BfJN6rTDLa+znYQ5bqT8/0QlxFCFD3bcAp2SGKBLP8xnbw0ZJKL94A3oUMHU0gLUtn2F\n",
       "Dy4sLCwsLHw0liKwsLCwsLDwwViKwMLCwsLCwgfDDUCUKYZNOmHJBxilFpa5A0RMpO6v4wclilGO\n",
       "ga5P+v+JFB9A9zncACKiLLkB5KLz6e/Wdw/zBxA1WQ3ADeBxiBvAMlg+FvPP62luQBfLv3NKXp+D\n",
       "ID8T7Lu3bWadQds+kXPfK1gb4YmcAaN5Y3OGpgz77N+dQhn5vqN+6ChvgAj/l5RrM19AcwXKnHPM\n",
       "yxDbPpR2WI7T+796+9Ie6rMDdtpKLgEJNJngAXhcjQz4AKVUL0hFTNpXbrkCabO8svq5g3wCXJI4\n",
       "17lSlauLDnkDuX1X0Hs0X7Qd8MMkX2LrmnqfPz+X6ZY1b6DlFWg5BloOnbrD+jmJXAMvfn6cxa8v\n",
       "zBsgorw17l96teN/WQQWFhYWFhY+GEsRWFhYWFhY+GAsRWBhYWFhYeGDYcsQq9cu9v9Tr//0nAAi\n",
       "oixyJYPaAVVO1hPgR9O2j3kD2enrShRTe/Q4AgBdPQHzOM5nr7kBcq5I2d87GPEHurwDmiMgfGGR\n",
       "ksNyPKorgHgDek7UNqpJgHIGRNbWc3trI7kqD/zXUM5d27a9w/e/38x1wNhAfe7ovqI3j92pAY64\n",
       "A5g3AOY8WZNAz7s5faZirWhBuQVG80YwWnuWC2BXIzbtr+8WcngAzjq3IOoC8Nqy7gBR4woQ4BPQ\n",
       "noxcPvIEdKUgEG+Am8Bx0n2NdiUoff4vzX9oHIDKSuhy5zDvgV9/t9eGAye+9SyXWp4C/jxqzYH8\n",
       "h4j+Z9+ngswZtCwCCwsLCwsLH4ylCCwsLCwsLHwwliKwsLCwsLDwwXA5AnkHeQTka9WXsvT591wB\n",
       "mEdA8ADsuL3jBnht03oCte94c7K+AMgfUPqS6JO5ApQfGfr8j768YW7AMZfhBoC2rr4AyB9QXtu8\n",
       "/15uAbfvQl0BL++AlzPgDEdg5rsfcRbQ2pFYfrR27bvBB/ByA9zhA9zx8z/FRblVYgL56YM5CIgw\n",
       "d+BJ3kCUM+DxBWyf8skPOANXbmWnxl6oP+DlBXBzBqCaBEdf9ZWjfAKyxgAdvADURtR9AWU+gTb/\n",
       "0Sd4B8wTyBvnJiDiL2PNJyBrD7A8ryP3S2r/JLkUuk9A5pBRtRKyqE1Ahj/wat/6mneAz0LRJusK\n",
       "JK4B9NVtmfY/lJPKLZAWR2BhYWFhYeGj4WYWXFhYeB/enQnwNwG995+u0rewsNCwLAILCwsLCwsf\n",
       "DMsR2FtsIeQGEBHt/0e2/oDgAWTLB0gqL0DaEacAxf6LcYgbUDaNuQF1riZW2ghzA2qf5gOk7rnp\n",
       "E9wAnsvk4xe5A0ZtHTdAzQ9zAAR5A6bvRl0Bbw4vZ0CEIxDNGTD055/IIwDXfpgPEMlhMALiA9zx\n",
       "8z9ldbhze0D8gjN5CWC4+4O8Afl3vMIXmPdtkCcwGzdDmCsA6g8QUV+DYFJ/oM6D+AB6I6APcgWU\n",
       "fKK9yynAbeXJ1tUdKE1bjdNPrbG+6RFvAHIF1J8ok5Tnz0B8eUSuBtPH2zn2h3MFyBo8r+59ZJGL\n",
       "QHPtyvvoeQN5J1FjQOUFSn8ob5YXuFwDCwu/AE8l+/kXgd47Ug4WFhZ+Bv+mIjCsTDhIERia297+\n",
       "/ya8bICjvnxy38gS4MqCTIQLvw8/yTlYPv3fi1odUbTNsg0SHZaKFP/tLNFS1M0xykQo+9LfVPJk\n",
       "9BNbCa7uh81Hm3qu+/4BfOXdCR+UrgH9KPq49HDav6tLIJnwwRb616UVNiGF1g0A3QV1swMFYFZy\n",
       "GLkEHPQphpvJvo5HJYeN3DjFMHIJ3MXZdMJm/B479KVZ/4xr4Eqo4KhkcCR0EcmySfBpN4B3GN8x\n",
       "+d854J9S3HAp4djc4RTD3nTBNMFX3QXSVRANLYymIua+nwwpjIYF4r+hchMMXARpu37h4t+czkWA\n",
       "ShObsEF2M+RwaWIiTud7tE1KE5d/U6w0cd3X3qcbJrIph4naGSj3yHsXIYNdumExrjzfurZEVNMN\n",
       "17atufhrGGHdczu7+XPN+wofXFhYWFhY+Gj8o66B7L/2srgEAQsM/UWcThC0+7dgD/rmPbQSiFv2\n",
       "J4e8/Xb8pNsmesNceD/q/01qF9ahlUCYHs78DbPnBggkIEovUDToTeD3PS1EFEG1PLz650TCDP26\n",
       "Nveb4VcfBNkDa8XB/U91CRjzvn7uIAmZYVXBbt6B3E9CmPqH/vNgRUI4VrkEzvr58X7iWQT/dYwi\n",
       "BLQcEY4Q+G34Lypav51fsOdU91NZ5IeRtuvjAyXl7jnLEf2u93UV3v+pO4qfVkIS0bnzElQa9CoS\n",
       "EjGzfiD3JBBXQLoQiJTioLMsbu3M2/wPpboPtpdxyWeilmVw67MI0v7VZyAkopwejhpIXkhEl2LY\n",
       "OeTV69Mlh01oIbVHwBEw3IBROmEAmE4YyikFYpBO2BsfCgcEVgI4n5JHaYRnoYKenz7KEbgTKnjG\n",
       "GjFKMTzbT+vD83pzdG2OsnGGTxAZi/AmFbliC+4ryi9w/fFomQd5Ayllc5BLhcD05eZPRgoBCi1E\n",
       "IYVlLz5XwHtPI5ziGYiNyZDCmnZXoVhOgyGFqg/+CbM+ENscphwxGg/SDhPNlINjbJd2mIhIHt5y\n",
       "DWf9PTdBxBUApYmtAnCEDO57OdxJ8um2Lt1w2fNLzHXf6rA4AgsLCwsLCx8M4xroIgS0S0C6CnQU\n",
       "QJa3+YD5JWry754PuAE/CZAEyJMjUjyD8Br+rfwqRsmD/msYRQh0coMIgd+G/+Lf67fzC+QNH1kG\n",
       "pJuA+7QlQL/+l6HDDBm3XAOoIJFjefDGn7ESpInco4BcgZfq21pyIWklOPoirgEpU10CSRQuqsmF\n",
       "2EXA4/4Yd0Henk4opBQAad4PKQf/EkAWQSimFIhhFsE34F05A5ArAfUxzoYKRrDndJkLUJNW3nAD\n",
       "3M0sGMW73QAIaA93vtWnMgtedBcUN8DRN9Lv5aE/4A3MxhId/x+cfcmwwkhIYfQwfldugVuoJvtx\n",
       "tkEickIAQbbBf4OnN8e+N6VAKgxUztX8gGvgy6QgBLkCzpQc7jYLXstxOu3wtORw3m0bP9aUwtQ9\n",
       "uiWHFTeg8+Hrw1vc8KOH/shPD8eeTCM86vMsAd7ezRyDg0qS8iJ8gKcx4if8BB/gXYD7eXi+nwT0\n",
       "/QfHIn7BO27T/e1f7AfwBooMJhKigxaNJXqWQBj9G78rt0A0xTDqO5PUR/IThspBvawJNX2Sdri8\n",
       "FnyAWWliouMcUqSCXbxOuk9audUHKsspo1u/4BLU19HSxEQlrwAoTfwesiCRNf//44DJgxDelDwo\n",
       "ineFCspxfkKh54iBcA8UUw7g2MHa0du/t/bTh/RvcCE8bfJ3rSmg7aqVAJn1R3vxiISjQyxKINTv\n",
       "I0IgjCoV7wopvINokiEiogSY/zknk2TojLvhN6Pc+rULYZEFFxYWFhYWFh6CbxHY/5DMG9A/Co0s\n",
       "z33/rtvgTM2AUdKgPZMOG5xWGvSqA0qi30nzPqwwGAQy+/Nez/bd8efLR0/2b7oGfoL4OOIDvAtR\n",
       "e1k4fPDN7wXdTsPmZzTfE5uawMsLEOENePOVcfPQwieArAsId1wDHuD3MFhrAPWdSjIk8giMrASj\n",
       "fXdph5P6HduI0h6rSFjmojbXpomBL3EYib7q4wekQXT71yREgOo+eDVXQleRkKhLMUxbO/4tR0BH\n",
       "EXhAbgBTTtiPJEjDQ99RFv5iQiFUarj0jQ99fHg/nzwIrq3M/7OcAWj8VcLeqP5AlBh4Zm1EDBwl\n",
       "GZrxAXjtO26AM+ZthN966Ef38LRyQIT5BFfdBdskL4CtNSC+m7L9aI5GFPhkQdTmEwijB3f3f6ru\n",
       "OfC3cXILED1vdtduiUTUEwep7QV+20GSoXz8AbsSxT/tLhgmFJJFijzFwcs70OcWYP5A4n5q/IFy\n",
       "OQ+4C2o9ghFHAGQWTCqDkX7uzyUPc59UOFQOZgWGkCWAH0GBIRMO2CUUmjPqEVBhoUtjxV4Lp+BE\n",
       "31+2CPz0oXSXN/CuOa/uYYZw4qE3Z05EfvKnlYOnsVOq5Y5Hh3cU0UyET0EqFSPLwCiJ0yySwF17\n",
       "T3PiIFF/+x/0nfm2RsMHIUC2wXwoB12ARLUSTAoRETkaHDjYZSEiFDZY+ywhsJEFR3w0aUGwhYiI\n",
       "qIQTciGiziLg5RGYIetD3EYBjCMJwMHeVSbktiza/k4eAVRhMJozwB7em7EE/JRJGoUKPhUhMF1b\n",
       "jNtVeGSUGHhmbUQMLGuP9+eBLQF3bv/erfZfP/Sje3haOSAi2oHsVStBSrn+nbfB4d3mbGsj60A0\n",
       "E6G3123a1hMIr1gEGFF3gd5I3cPDYYUwtwD3KctAAhECSDmQv8vDbINPAt709XsTygHvT7oIjHLw\n",
       "TcZygCoSCqtBfp2wCGyr+uDCwsLCwsJHY+Aa+D/jEni8wNBVH79xDVDvClCPsK6Acgk0V0EwiyCA\n",
       "HHc6j4Djuw/XGpCugYv7jpjIR66BaOGfO/iJokEjPsC78PTt/1eQBR+2EjyNjg8gLANXY/6jmQif\n",
       "AvL9M6bJg+p3vsmfcQ3seYvnFuCFUG6Bow/d8j0UK2wgjwAai7INojwCwfoDZU7hmkB8gDPo3AbS\n",
       "vfBAISKikleAMwvS/+pYP6HQBDBngFYUzhYYQgmCahKhTH+NLCgKCxlz/uTQRzkDvARBT+P/b+/L\n",
       "FiPVeW4Fyfu/8OnC58LI1rBky0Cy+/sbXXQVtjxAV9C0JKOaAU/hAWbUlQoPpswCA1di90gJOcrA\n",
       "xTyZc7R2Ngxwde02/i8V+tk9PK0cEEUgwGvhAoQHQLgBtDYKE6DiQRA3AO7B7i8DIMy652+FBuzm\n",
       "WFg+rKhJQ6yu03FfNkSwAfc+VA42XVeA6BeqDbqMCCkDt95njTVVYliHF6KDiIiqgL98EFHLCvxG\n",
       "ioA4V8CkC6pzBUzbsJwwygJQOIAEfkCN9VUEIUiQiMIqgon0QSn8LTYAUjJ90CoAMHaf7bOC/dig\n",
       "AqDuNdhPBqUv10Qx+Z/2CERnBYzwAJJWswF+i5CAzAr4/7Ii4phy+0dpeiuV5q5ShAdA2QURv0o3\n",
       "tFkrhHEDz+1/hwWH2trn94zQl3sd8UlBZzMJnq46GKUUKqDipMgQUQUF9iJDjPXC1QaJ6AQSAi9B\n",
       "0y+A/OGp2n2LG4JZAza74NzfIVTM0fkD6khjrRxsYqw6f4CIaP/A8wdejMBLL7300ksv/cP0w4cO\n",
       "BdiAcLzgKUfc9zdQ2vr/nZoBWfqt0ID0SkSHDs0yBO7iAe6kMw7PJAjWiuZwvH8Byv9vp+gZIe/H\n",
       "1XABKhkM1xzgByTOAMqJzDIAACAASURBVO/X8JP3XMH9gz7b9nTWwN2Uwqepe2vPvXAH8nrfKDL0\n",
       "4+TqAhw6lVD2ReODEsMPHjr0/3SLqB3g6gaIcIBtG1cMBODC4/DYgMYTVBGUqYRE7QcSHixEFFYR\n",
       "dIDAowtsWDwoUVsAufNnfDw/cvtP+6SgThQNmsWss8rB+OCfn3UyRWuP8ACKbzEt8LcInmmQfAf/\n",
       "rYrFUbJCxO//18GC4vmjNEMimtYdOIzbf6f4SOOn9n/1TILbuAERe1AhghAAsePaAoO+6FddU7B1\n",
       "OALyopoBoMgQNWCgCBFkqw3KPZMIEbS2A7vzUbVBIqLjIw4d6vzqkCGSwMAeNmhYgXOeOlYcRMTt\n",
       "4CCiSYlhI+Rt9gDlsAGbwgOMAISDjALVZ/cq2rLFg1A9AB5nawYAQsWDtPDGnoAwTr9YNKj3dQXA\n",
       "tsF1zByoVgAC7I34mSJgYAYsCL0EAA/Q+cJbVOtkMgF+yvqPrdqfF/q/jXeAQiQNDIQzwnUQnuCn\n",
       "vQQKD5CoOyArE2LcAN7/yDMg+0cAwt7euZB3YUSZTIL63tMTH3Qhk+DkRf/bqLYAESP+tUVdtlyR\n",
       "IflubLUFWMA3PMCeLjJUm8Uzsv9JEA9Q9HfVBxQHZEhLHnBEsTXU+719mnJQ6ImCQpmjhgd0qYqg\n",
       "4bPRgx+jGymFiLIgvsfWueje/1+ibBhgJRPhv6a/Vehn93BHOfivCHkJYPnhSbiA6L91qz9F0W/r\n",
       "8ayBmymFozk3OtYrEF4l5+0gLeSJKKw22PpMQSG4zviI4lS44C0o9NJLL7300ksvEQ3AglsROACD\n",
       "FcifJihLBqPaAklsgOszmxWhgXTxIBvzF7gAWzMAkcIbtPgTz7+HIYGoZkAY1w+KBjHvqFbAaB10\n",
       "KNAoNID4UelgnNbn2+w6CBiI6w2Qa4vooFw6Y4/xxn1q3mQYIPI6IFf209b/b0Nr0a/6jpcgxhd4\n",
       "3ifDBTshF3+3+F1fgBugcx6EG7D/N7z/A3iY1V5BX+T2P8inFh6Ab0RRSiGR+b+9k1J4jodlg9s7\n",
       "FvAzD6cDlkKpIkMt/148m9Pl3+dcKDLE92j+I3qqIZHCBhBpd37mZEIVfj/3r8CCAEhocX28403U\n",
       "+xFliG8UFDrMtQcQqrMHRJ6kbWufRVzDIkNmE/La/p9PagZYBWAq9EWWgB73XM2AaDxSAIgIxuTh\n",
       "2uITAQNHikC2tgDzZjACd/AAI9e+xQOMwgXqHkGb3L8bmxT64TkHN2oY3BHwT4UQVk4LtIQK/eBF\n",
       "cDNWEJ5TDqRiYPeKYvN1jJlkINAPKhA3QKT3fBU3MAMGOiUEzA/3ZtqhQify+0cKwRCUmKg7gOoL\n",
       "oNoC1MB8+1g5aJiwU0YR5WoLMFbg2Loig0IDTO0HePQ9muJHtc8ayOLhQdzAKdBVQaG5ysfJAOUY\n",
       "nj7oiwZdLTH8NDlswBF8vzR3sngQGguqB66sW+eYKwez8T8ZM5aZAX9DbPolTD/9G7D0fyEe/n+B\n",
       "ZArgTx0QRHTvN4CE/gpORAIV2y6SGXTNo6OKDF387bZKgQUYoufnLwbfJVbAHgDYtrd/HKaACHgE\n",
       "tpIU7AjxH5UYRlUEoxMG+RpVERwoAFbwjqz/evqT8QSM0t4OgNz/gVRBOL7gFMHU2saajzIEEF80\n",
       "ByLpNchUG7wTBlipDDg6+0A5kwZehjvWf+Tuz2YnZMdm6SlxkA0DwD0khUXoOYCW/nNeAm3pG7d+\n",
       "YFl7r4K4APOjcIGbk19Vi+ECXB/gVAhGKYZg7tV1okwCIp1aGHoT5AKDdEP0y4AphdKCH1Ug5PMH\n",
       "RNXBTEohSS8AyhYg0ucQyGqDh2GcnExoqw22EAGZVELmSYEFz2exvWDBl1566aWXXvqn6dt5AGQ4\n",
       "oNiYv6wLAACECBtARLB4UHSwkO0TxYNWzhOY1QyARYP4E1j/DlOgLHyLG4jj+nXtvJdA7jUDDBxZ\n",
       "+BEeAPHJ+eTa0bx8jfbjvAQ38AArBYEqWAvTDKgYzWn32OZbiPtnQYnZsVl6KlyQteoRZTEC0Rpw\n",
       "/INegpEFHuEHRnF3hB9AuIE6zs+5ihtAWWudJ3c2wYjSHm/gGWC8QLGWdWT9B3UEyub5NyJYW6D2\n",
       "ifRBVGTIPJNt39vDHtUWkODB8BwC6k4hVWTIHTokPCLgQCJuKUaObkRUmpz9Am17a+O50PkDr0fg\n",
       "pZdeeumll/5h+g7PBxBZAAgsuDkcwAdb/aQ9CKqvYH6NH6gfV8oIt2uUKog8AUSEigehrIFZqqDn\n",
       "896FVPXAyWmCI49ANkNgVGIYAQORJyDaz1E2Zy3fwQMM4/l2bdBm5ybCHgq7L7VO0vrPeCNmvJmx\n",
       "WXqqiNId6+EuRiB75PBVLwGywFtfsI9sdkEdRxA3UMeJOS/iBpRBbfokgLC3da4VfFvWg4BSCzf0\n",
       "/4Csf5cFcFr64p0+TSk8x7eqg9BLADwDqZRC6V0YVBu0z4JI/CcKbEC7EQM4UCn3AgfQ2rScLqpN\n",
       "lB3mdlB2+PUIvPTSSy+99NI/TN/R+QBUROGBYV2Aj2vz1j+oGQAzA2Qf70d8mrbReQKjrAGZImhT\n",
       "BZH1D7MGQKogtPpB7H+laNDsEKFRTD6bIYDWlPMxX9SGvAuNl0anD6I2GSdFngPf1vk1of3Ifdk5\n",
       "n7b+fwQjcMOqfyrB784espbHCkbgWS9BZ8riB7LZBTwuqjug5ryJG8AYAYwbqOPXPQMrHgS5uMsQ\n",
       "UHzC0nfAh/MduhXsLRB4gcon1hnUFkCeAZVBwHNaS11iHcw5BKiOQJH7s1kD8lpmEKi+SZEhWTwI\n",
       "tRGRLAsgzx949hji36KgeJD7foWA0P9foBFg7+l1MkWGXvpv6Sez+nMwvJf+CypACfmJkxx/a53H\n",
       "KZlSmCF+BhsV9Z2oKzt3z0v4LXIYAVlOeEOeANOnTxjUnoANxvxFpgDyBDT+zlbbCHoCiIwVb6z/\n",
       "qGYA9ASQts5R9cA+TngXRlZ/MkNgnGUwt/BHcfosfxYPgLAErQ/gATyf3pdcZ4YHaG3kKbMfu57a\n",
       "z8PW/xJGIKlUZV8rv32oUlYIZPcVWZlZ6/+ql0B7CHRnhB/IZhcQBVa5MSblnFdwA3ZPM9xA5Xmo\n",
       "JPGMgYiO07KeliEO6gjU971uw/zCojYehCiToF7vJI8rJqK4tgDR3DNgPdlkMgiIsDG7E+jT2QDt\n",
       "/mQfEbVqg87jv3eZzTvdPvRNJn1Qu/qDioJR8SDn/gd9szLCRBSmChbbJoSySxv0QlkBBIOzBiAw\n",
       "UAljDwIcCnso2D0w0PIdYp0obBCFAUaKAHbn6/3MwgARYC8KA9iX1J0wQMOJJoQp2k/n1XzhnGDs\n",
       "7dAAaH9awP+2HZIW8DcVBigznlQOlLDPhQ1WixKFwlhu5Ua4gPeUDRfwOnfCBCv8XZkXCsEsTCAm\n",
       "R+mDKN2wC/i9yxahECAAYeUnsp7lKKWwXheYUkhU5RhKKXQ/gmn5YS0jW4iAqAt2UGSIRFvl6ecQ\n",
       "yGqDL1jwpZdeeumll/5hCsGCm0oHXCgeJNtGNDxpMLn7v4yQ1b869sk6/ggY+H+VRmEAzVc/s6f9\n",
       "vfRvUSlbS/1qqWDtdEHpiq9f9q0Avt73v042FMdvtTtnS1iw4EE7fVE+To/SB1fOKvgbSJ1OSCQ8\n",
       "Fl/6e0TtpEHh7ZgUGSJuB0WGhnUE/KFDXejjSoEgJND6LB4AhQZ4s/27rBng4vPCrd+/A5c/qBmA\n",
       "cABtLujq3zU/wBTAtmSGQKZWQAbxH2UGqGei+vYh3ygzIIsHQLF7oh4OQHtVbWLsSliC17d89h4b\n",
       "r2u5yRcoXuiV9WIEcvOh8X9juKDyYvxAVHdAhxTOLxdwA7wXlFEQYwQ0XqD2+V96NlSQ4hNM6UwC\n",
       "t9k4k6Cc/7cbkas6GGUSVP6jSehZbQGiGoKI8QZCUZzVFiA6/9P4PmVGhM8gqPP7cwjk982GAY4P\n",
       "rC0w8AhIHADHJcapglFBoSoNxHfukwcK2U8LsDi2/n0U13cCPkgVDMF8SIh7wOEMGBidJhgBA0PF\n",
       "YSLYswBC9WxIex6iAkForLS8s3gAy3cHDzBSQjLpfytgwyW+hbj/ixG4Ph8a/9PKgeJxwn4MLkT4\n",
       "gWj+w/DVvYjGJG6A57JAQvhM5L7s2mLEVSBhViFIAwgrk5sYAQi7LPDFhiSA0ArvCjw8lYhZSiGR\n",
       "juHb8snbRu4/TjxKlVLI+7IphccW/CCIYPlhuW+XPrjDlMJn0wfRiYTo+wrJv5moPvNPE6gVcIci\n",
       "YOBv0AgYaGkEDLy0tlEAstkAfwuNnsUdKz+iv1XoI8qmFEKhveBmzo6XfNzP/3//9ZHJdh9NfgEl\n",
       "+BFXfFPcx/OhMMBvPSsEILybeleA4nD5yOHsmvx/S/03dzulUP7HWa3uOMYhhCS9YMGXXnrppZde\n",
       "+ocJYAQkDgCfNRDWDEAhASIKawYgbABfy5DA2QZDAnwtYvxqXFAzwBUNgnn7IIUvmSoY8ov5pXW+\n",
       "WivA9sEYvnPrP4MHiAoKRXiAyBMwCwPY9eQ+XLih+DAA3ONoHdcShSU83XH33x3/t4JA74QBnvQS\n",
       "2P5Reh8RyP0f1AWY4Qfunm6oXPfNB+znOMyvpSfHiTYRqojSCPWcY9xAFi9g5woZxGQH7fhMAiJC\n",
       "NQPClELDj1IKUfpgurYAEdG+PVJboK4jGp+uLUBEJNIHe9tO3w7hP8QBTGoG2LZZzQCkAPAnqhng\n",
       "agV0AW/d7bOaARFYMAIGIgXA9U1qBfDn6DjhFcEe4QeQAhDNdQUP0PtJUYQHiBSADAiQCCshCASY\n",
       "Ee7LGAGlhPg22xeNndGd8Qgb8XdQbv/ZuP/V8bZf9YH5hiWDl/EDRglRioPmRwqKVAiyuIHKX34U\n",
       "N/BjJYkvAggrRgCACnn8AEAoDyeqfUe+tgAR0VFgbYF6TfnaAvZ6WluA+4QxThTWFqjXPWtA1hb4\n",
       "nRLDUarg4CEU89CnsXnLP8sQCMCCWULgwiGfVVT+IorAiKvjpfUv+65arEgJWUn/Oyj3/7oa+79L\n",
       "/5XQfyplMpuqhfZqLeTKl/cIXLkDm85XQJ9cN4zhE8E+fiXbvprJgrwEvb+2zJ9nKRsUpNZLkPWk\n",
       "SNwAz/lfYycssQFjAYQQ36AAdacQ/8qlJDqFQ4AFR5kELMzLsY2xBzz/lxD+FjjIAMeDrqcU3qAX\n",
       "I/DSSy+99NJL/zD5swZm5wnwdeY8gUnNABgSIKrarQwJ8KfDBvgYu60ZEKUKxq5+ye+t/myqYOQJ\n",
       "iE4TjEIDUa0AOy5zdsAx5T/bJngAe1aArAuAMAKZOP1o7avlgKUVZenp2P/d9MGspX/Hqn8qhLDb\n",
       "FKmlPWQ3gddIpw9e5BuFDSKswFPhAoQfGOEGNN/5RYWhc7gBXhvhBgLDle6cTZAOEQi8AFH3DBT5\n",
       "+5ulFJq5ZFt7ZKDGQCqlUGIGXPnhPh6VH+4FhUCIwHnKhUB04Y+OdZBnCBQjb9u9Hh9CRYYGBYUO\n",
       "oAD0T1dRUNYFyNYMQAoAnQJyWDTI90EFgLDQl3NZYCA8VhgJezEeAQORAjCaK3LPj5SECD8QpQjG\n",
       "/FoIz/AASAGwc0neME4v10mGAVZi/KPQwNOx/xV3f/a44+zYLNmwzWVKC3NPWSUiVhieE/qI7wrI\n",
       "cBVcGBUlmh0vbHEDREBAC4UgixvgtUcFiJBC8ASAcMhrGHg9CCKMAIRESklAbUghyAAIVTjaFBuS\n",
       "MXysHJjwkPjNpGsLEGkUqUrXZ35v6KMiQ6CgEFv68tAhJPRB9UAzx4iKZBkCJjb/PcoQMN+vEBTs\n",
       "oA2OBcJ7xmf5s5kBzIuAgSE4b7CnLElh/5hgeYBG1r+kkfV/Z+xPIPezQv+3/x+y6+3gSWVxA0v7\n",
       "mQj9zfCN4uhH2RyWYEN9pb/ArUCzWIHfpPa3vhGt4gaG853XUiF4AkBo55IUPT+FBxjwKs+xBBWa\n",
       "tsvliZt1/hGGKHsV2Prfaz+REN5FfyfSL5XMw5Nam/XAkwAOukqEqKDQTt++ZGEPB0CrnxfJVg/k\n",
       "a5MqqDwC0hNAFFv/gTt/dKxwlCGAPAE8Dqf8RaGEiN97Anhc1rJvcyW8BZnMAKmcKGWCYj4UBkCV\n",
       "AdtcCav8ThgAhRWideS8fU7cLvui8aOxK5Y6sv7R+KzAvWGg/ygd2RACuIHIc3AltDB0//+Ql4Co\n",
       "Wu4wbGBurd+T3Bf3+bVm4QLmzYYLePwTGQUoXBDNNeNTrn3RedDuAIRSPmSyBqJMAqLqGUhnEhAp\n",
       "Y1VmEjCPT0XcVAliooln4BA3g4rqIQ8FSikk0kZ8a/t6wYIvvfTSSy+99C9TeNYArAswqxkQ8osY\n",
       "DfAIyKJBRKzdGWsQWPYSF+BKAE9SBZ0nYAIMRJ4A1yd4Vg4RugII5M8sIFA9G9lHyIPQ2CAeIAo1\n",
       "RHgAb5X78Vk8QIQRQOvU+TTdAQZGNQzsvmeUtf6zxu9fW1Aom2aIrP/g5q9hDPIWvu23PKvgQoQf\n",
       "iIoSoT1fwQ0QEa47EOAG6pwiPXHgjYDzC57owKLI/W9JzuU8fKIzDSA0iysvA2qjE2zH8wGwoEop\n",
       "JCLadn04EZHGDGzmSS0WG9Kh8qIbDzFgVluAiKqnf1dt2/NnDRR8jYCBanfct+HvRN7F4dbW/dMM\n",
       "AasAALf+MM4PgIGYLxbGGRqFDSQeIEsIGGgVAKQwjNzUUjjDcAE4IEiuJ/czCwNEoQG4L7HWiH4q\n",
       "9h+FC35D6P92tADtKgvYg9ivSODDMMJ4b02ANgEXC/ZN9COsAOrj2VxfEBoIswyU0L8WLkBvSYQb\n",
       "cOMFkFAqBCvx86NsKdzAV7bWQfBbR3tCvGg0On9AAQh5o4lMgibCyzY0AxpmRPEbrIk4j2CT9Qao\n",
       "Gs9tfltP4KGzBgbpgx4QOE0VDD0CxhPQ2rQmNozrSy8B+IT8Zi6JCwhPB4yyAKKsgeLnVymCSQs/\n",
       "4s9WCmQaKw4YDxClAxJ1oQW9CcY6j6x/V23whvUfeSPqfJrq/WK6E/u/G+OHgu9hAf/b1QazgL/s\n",
       "fUbehKz3AHkOML5A8w3xAEHfE14CIoJph6teAjnXEDfABPADWdwAiusj3EC97rvJKPEjD4IECyrP\n",
       "wG75vNDXFj4AEJ78qhQxEcFMAnntig118GC7W2mxw1MK6wzO1XJI653bhGcgmVLI+0EphYOzBrx7\n",
       "YZoq6JQDwWIVgSLbNv8JMgRWagXMgIFI2PPn8DyBB84OWMkM0IpDHAZgworDeR2EAZD7nwkJXqQA\n",
       "tLWB9Y/KActxaK6wbcF6H3kE7rj877r2V2oOZNaGfL+d0ZF0adxVGGAmwqPKQVLAX1AYiFgYY48A\n",
       "TDtUQn/uJZAKwShc0Nqg/JmHC5DwV+u76w4kbJ4TGhNSNIjYKNSdIYCQiFBqYQggPPkzAEIVKhjU\n",
       "GECZBLIEcZ1/a9epGgOHuJFsSiHvFRj/L1jwpZdeeumll/5hAocOCes/SB+kQ6gtyoNQTJucVy+j\n",
       "cv9hGADE9QdFg9xcDxL0Eoh9rRwiFAEDIys+SzilsHsC7NoID4DuG6YUiv7ZftCpgE+EAdB6V0MD\n",
       "iGwtdjU2af1nvBEj+i3rf2TMZzMA0R7u1BFY+X+76iXYt/7/zL+Uo2AsQeUfhwY207dvBdcicHv1\n",
       "oYFMuGB0bkPkeegWPvq/0ZZ6hBuovN5Sz9ZNsH/rq54B9d5ZBBBmzx9IEcuhr9Jl142Uwj7XOVC6\n",
       "V9jLwd6C9qI8yHnPRajClwc4YG0BV0dACn1UUbDd0BAjoDetwIJFtgEF4Ly2yoGsFYAyBFBIgHlQ\n",
       "hkBYF2CWNWD6siWDZ3gAxMefT1UKXMUDKMWBOkUCWoYeJA7AhS/MPGHbzTDAKDQwCwP06NZ1oR8L\n",
       "s6DD8v1SHQEbS5Y0OktlOu+NOgIRpQ8tyigHYl0ZNshUNURKweVQQtufDw2MwgWyXDE67niET3Cy\n",
       "Ro6f4AZ4vScqETLPSkbBhv6mxSSjCoRdZnR+1XZu1rZtRDiTgKj+kYBMAiLS2QSJTIKyb+qUwspa\n",
       "/B+pMrKNAU4yFGJ/GP30wd52ILCgtPCD6oEFWf9is+izQQoGwh7G/KXwNpoPFN65DAEkvFsfanOC\n",
       "fYwHGAn2LG6A14nmivAAUYGgVTxAERYEFtBGwEtFg/wcbh3UJtYZgfgy1j/CJ/Txfk59MCbv34/N\n",
       "Cv2VrAFE6UyCHFs8fuQduVGVLqtEpBUGIvhQrioHat1AKdBzeuBe5WdvghHwi+BCJVAzXoJN7smu\n",
       "7X9/0ksQKQR1nfNLgBvgcStAwkN9jzMKMgpB6Ik0k6BjjLNZA9lMAiJdIMjiB7ajpxZKAKGqPEgk\n",
       "MAO42JD1tqgyxBYjIL9bhUMY+G3GFyPw0ksvvfTSS/82gdDAqb1EZYT5Ols06PxMFQ0i8tdF6CrO\n",
       "2hfXLh2Qr3Gq4HL6oJkXEbL6Z3xEkWXf10aeALvOLDPAzpVNC8SWum/jdUaFdawnIBsGUHMYftme\n",
       "wRKsxv5V/zBUsT6f2hccn6M7tQ5+dO6kNwF5DiInAXymEy8Bf/V5/n0dNS/AEhCdlpnAEnDfKDSQ\n",
       "rUUg90fkwwXIYitlC9IM60qjcEHkGdBr981lMwpcOELM6b0EY89AhDlAOAvEy+9QmVrYvdDdfa7a\n",
       "6gDYhlIKiar3wJYdVgcMnfth2bF9UbfYW80AtuDlDxe6ZtRnoYWUQt4zSCkEZw3wQAkWbH79fg1S\n",
       "Ba8eKzxKFUzXChCCvPaJuYaC3YMAf+vsACzQPR5gjB/oCoDnJzcXwgEwIUGNwgBRul2EB4gUgCth\n",
       "gEgYR2EAH77gfYF1JmGAvkfAd6NIUB0/XntEf+1ZA1lFCLzEV7AJM2CgF4hS4F7HEtS5cLig8pZ0\n",
       "uCDqk4I7m2bY92XnFwqMmFfNQ0Z4C1mkxgVAwuicAh0asHPhMwogFiCYQ713TKdMLUQAwlH64Cyl\n",
       "sK7tMQKzGgPwcCKqIYIfSynka5BSCLIGZK0AY+LPMgSQAkCk4/RSeButS1ndq7UCmnDMAQNTYEHR\n",
       "92TJ4CcAgW2dBUAgKg+srHLy47LlgNvaRGGb9150ygIDI4Uh8ka4Ypc3Yv/LSoRvCgmu/UsYgZ+i\n",
       "NEYAKQwL2AS0ThT/J9KKwR0sQZ1L/l0gqxzjAerYeR/KAphmF9Slh16CSCGQcynhDRSCJ3ADfS7v\n",
       "HRh5Ve2cIYDwXCANIDz5M23tkWwbBhDyNagxgDIJKs+GvQrpw4nODaJMAqKqlADjfwIWtMIehQbE\n",
       "ZqzbQoQDoDUPlAO+c5Qi6IW3B+xlgYGozfUJKz3DP8sMyMyfBQQS0XKBoOgPKxbUPguA29F8R7It\n",
       "SyOFAXkjMpZ6qwkyEfp9PT9XVuivuNXvKBJ/rUcgeftQkK+kRE48CmMLH6xtLXXxy1j3Fpi5tq6u\n",
       "RiEFRNIdPssuaO1mqyjLQAps7F7vikhd5/yivNXjcIEcX/l1m/YWdIUAgSgjGr5jxAJTAOHJnwYQ\n",
       "ElUQIQAQEhFMFVR/GDKTgOj0HhyqT393rhknd+t3I7tJ7B1kErxgwZdeeumll176hykEC+qiQcAz\n",
       "gPAAJiSgcAEOD7CRTwPsn7BWAPIqML8JJUivwRJYMPIgAE+A4094BHQM/zog0M9Fbq4sHmA0f/Zc\n",
       "gLY2ajPaOnLvZ9uisET9SQIr34YGhiEI0Kbum9vQ2PnaI0Jz5kMD1zwuP0178gaQ52AJIzAJLdi5\n",
       "Rq5+ojVMwSxssBIumNUmyKYZcvs4XOA9A1ncQOUhYJyuFSCaAQnZjW/7ECEAIVrs2CYAwtqZbiNi\n",
       "d74HEBJVjIA9o0CeVqhSComI9g2kFJLCC1R+nqrL4mlKIV+DlMKBIlC0UmA/zeJVonAbENhOsHt3\n",
       "u8IFoAJBtliQBAamBHsWLGgEdQAI5M9MrQAdw78PCOx95OaKFIAIDxDNL+PuIyyBbHdtBef31/Vy\n",
       "bSgsgWL/mbh/Vy4A70SRaD/1pNBfid3j8TkB/9sHDKUpWR8AKQzZsEId79vUs3Nuc7kOWGgBUzAL\n",
       "G2TDBXbudFtb24cGRuECpBBkcQPMk8UNRPMz6dBA50HvFzSeSBshI4WgGzEBgJCIZmBBiwcoItyj\n",
       "AITMY44vpr3AMwkqTwkwAv177euYgRbSYZlMQSZB24/4ThQpAk2a9+/JDIGrpwkiYCDGAVih3ZWF\n",
       "YpUE6S3ItIk+BwxMWvgz3MCobxUQWK+9sB8BAuX/9Gh+VBUQjiVNkfV/1SOArP8IsFdKIKDN9R3A\n",
       "X3+eY77RfBGh/WQF/N+qB6QVFCCMs94EIqw0KGFvn+3AW1Dn8wK98VuZMfMWJL0EtS/pEZh4Cera\n",
       "+JRDXJ2wNgzj+iDdMIsbaPyj+Um3HUS0cfqf+euSazMhQwUqDAIj8ASAsPEiAOHJg8oJQ7wAEdEm\n",
       "jjS+elqh/G4xAofACIg9fHvUlbT6o9CAXKjvR4UC7GcyRZAo8iCAXH6QWgjd+qM2J1yfKRkcC/Yd\n",
       "hgHC+S/UBYgUAPXHAuYfVQVMeQQC63/FIzCz/iPAHlrHjh2Nr31ovFBWBqGBOxZ9XQfMeWPs30D5\n",
       "kwZB40K1wZlHwYUGBt4CyH8xA2GnsuAlIJpVK8y21bVp6CXIlCuW/y8obJANF9TrdSChtN5r2wH5\n",
       "iPy7CPEovocAhERnOwIQElF0fHFUivjWaYWzTAIiUiF5sYcXLPjSSy+99NJL/zB9dx//SUOMQP0I\n",
       "UwWDdMBq4Xv3fHSaoCwQpGoFmGJBGsy3CBYceRCSKYK2b2zhe3zCHUAg92UOCrJz2/mRJ4DHz8IK\n",
       "kqIwQCY0kA0DROl/RfBLCtMHPes09n+AtmgdCvYTUcabEdHf6hHIEk7hW5hgElqw3tdh2IBoDVMw\n",
       "CRtkwwWVX7azdb4eLuhrm/2AokSjcwu0t+PcK5qLet9qASKeG+EGuDaABBDWa+8ZmBUfgp4DBCA8\n",
       "F+wybA4WlPJNAgiJiMq+a7wAEclDirI1BqLTCmWNgWlKIc8JUgpjjICqI0D+U4YEzjaoAJzXti+q\n",
       "FVAfRoARsMWCGEJntwAAIABJREFUhoI9CxY0gjoABkau/rlg98DAJwCB9ZEHeAPC/KMwgOIX1+Ow\n",
       "gibpnpc8VsCuxP7r2noNvPZ8bJ1fzxOuE4yP9njHtR+Nz2ME4pfgf0nxKX5zyoYV6jqgUbnzzznP\n",
       "Lx/JAt3TZvGLGQiy/HBro0KfVhRG71+5sEn38Xyyb6NBaABVNSSvAMjrZgiIMsq8JnLnZ3EDjX8R\n",
       "SGjfR1IhsLgBFBqQNFIYXAjiONIAQiKq7aiN6v+RPbUwKhpUx4t1E6cVyu/TTAIiUhiB1oYwAioz\n",
       "AHgC+Jpf5hAHYD/3LrwnKYLtGqQI+jkkkNC39XUA+M8qAIsW/oi/Cm+vAAznXwQE9nUMP1ozYf3z\n",
       "2NlcdSy5Nm63glqu2fm0MqLviRzhtQ1PlDUQzDXj7Z6D60J/xarNlEdeGfs3UHSKn6U7CkNdB80J\n",
       "GM1+Iq/BCqZg5i24m4qIKxduZ18X9qNzDlRbWwsrBLLtSrohxA0Q0RUgoQVCKs+D8Q5M0wd5G0gR\n",
       "MBgBmboIxw7Agj4lkcieWqjOJsimFoanFZLAC5wehCCTgPn7HwfL9xcj8NJLL7300kv/NE3qCNSv\n",
       "l08TRCWAZ7UCzmtUKyAs6pPNGhhY7DP+kUfAW/G5ksF3MgPcXOT5M3UBYOwfztVpJTSAzgBYif37\n",
       "tf1YHp+J+2eR/wfwWqD92H3N2iLKnJMQj/07Kbt/5Dn4FS+BWPcypmAWNrhbkwCUMNYpfwuhAelB\n",
       "aOtoz4Bra5a69wxkcQO1j1SYoPJ0zwDCDWzRXOp7TwFEWQKWULolsvSzmQREBLMGZIaBPbVQHlKU\n",
       "rjEAziTga/4+TSnka5BSOMEImMkkLqC1be0zwgiUP3u7g+MPL75T+fANn5/i+uDvLLD/ANxAFiw4\n",
       "UhySwEA7xwfgDVClwA8ISzwBCGxzkedfqQswDA0AwV7n0W2zMEAmhQ8rHJpfzevmxEIfCXy39g8J\n",
       "/ci1f0fA3wkDPBVCWInfZ8bifeFF8Pjcjdmxn9JXOaTruwms+mWEKfiUrb9/QdgA4QFsSKALP6GY\n",
       "cJx+EC74FCGMWW4JxWAULogUgrrvrbWt1h2Ijje+AiTkd2c7rvn8/NoPJ/Q/xxft2+H4LMn3HwQQ\n",
       "np1ZAGEbj9pO3r7XM4xBX7R/nb+qP1/181tcf6O++n3jXyOoMTBLKSSq7SilcIARwJ6AOtnmhH1U\n",
       "K+DcIQQGDg8RAsDAuAhQFizYBfaoZHAmM2CGB4j4IzzAKiCw9gHlYLEuwCgboJjvTEgB4PUypX+R\n",
       "9V8Efxu7kPNfn7nniWSE3FN/ToDvhtCPBG9WHt/1Mlxdd0ZPYxLuAgPveBR8DF9cLGIKst6CKPMA\n",
       "eQuueAlq+8QjECgEdZ0uzFfrDoQYBCLtHSBSCsFKASKFdSA5h8cN2HtDhs8dACERDcGCdWM5ACER\n",
       "pQ8pwjUG5BxO2+qfIJMAeATAgGyGQHi07/rZAQgY6OdNgAVFH0rhg4J6oAhkwwAoJFAf4fqJgUgB\n",
       "cH0X0wHVHwYQ8BmPgFwvA+LLWv8rqX7I+i9ACbHryX08LfQjUXQnLfCODP4bPAJ395D1KFxVDlDK\n",
       "XKNJKCELMgwzD0Aq4qqXAIUN+v0Aj8CkbPFquiEKF/C4VSAhChcQVcGdDRfYPmf9R21JAGEbPwQL\n",
       "ojYPICSqoMEMgFCGCnxooH9XmQTn2iiT4AULvvTSSy+99NI/TN8QTEBE5Q8R/Tm/fzbd9xHpgB8B\n",
       "8DMW/p1DhGDsni37z5fqOz57m+MAXonP8WXm3xxfs25RmAFa+GM8APIE8DXCA/wZpBui2D3POcIB\n",
       "MCkPApjLWvizMACqA8B7yJwBkA0DNIeU9EYMvAQ+NOA9FHYPch9PW//R2ncs/bQ3ITnfFYIWeHIs\n",
       "sug/YL4Vp8NPeQmyYQP2Dnxsl7B0P+dveNsoTEHElr5c/7S8h+GC/veK8APR3+JGOFwQphmWrbnx\n",
       "dd0B3cZWtDqYpz2L3se/2BlugKi+ZzO4ARQGYDm0bcXFz/laelJ4/5KXsQibcO20seev4Dhj+vvX\n",
       "p8vNGYCQ95cAEKIaA/3/sj49/l7X4b6+5/J9th1AEUC1AhAwMFsrgPtg7H50iJDlH2UGDCoFRniA\n",
       "yNWPwgbTmP9IcUjiAVZxAHw9wgEwjefCwr6NNW0SB5ANA9hXbTYMgHL+D8Nv17frZNzzkWJj+dpe\n",
       "J/ON2lbGI8oK+Jug+2WySPuQkvuKwg/5TITc2Lju/3jOK1iC2ud/p9SErZj/TrjgHJcNF9S5MX4g\n",
       "ivnDtk2vpfc8xg9s7X75vgjiBnjODG4AHVqEMguQ4ZTFDRCRwg4o9z+RyiiQAEKJF1BzAIwAOqRo\n",
       "VmMAnUlQ+cnVGKCD6NtWGJad8Djh81reFPfBFEEeN5gDHiIEY/1BZkDxc83wAEgBsPwoa4DnneEB\n",
       "VgsEreIA2lwDHAATnovEXvt32WfX4j0MU/iAxZHKGjDryX4NaMRryz2O1ka8kWLDc8zWWRkbjg94\n",
       "3ZxZheGXFYGsR+CuwnCnHHFmLC7gM54riyUgqvcfYgkAjuCKl6CNg/gBo7SALAOoHLR55R431Xb1\n",
       "mONdvl+bZMS4gXqdww1IwT06wfAObqCuLazsQUaBBBBahWH5kKJJamFUuXBTGhnvOf/3+9JLL730\n",
       "0ksv/R+kb8YBNJIZAqwxCCu+Xf/RcfryZ6fyMbH485qOrcX1eY7j8+X4JAZAxv9rn6wt0Pn4GsXu\n",
       "ec6R1Z/xFnwOsZ9BaGCWGcDXCA8Qofmv1AWIMQXe6r8SBsgcBSy9Bpl6/3cL/UTWP6prgNp5Djvu\n",
       "lpcA8EWESysnxy6s81OUjvND97xvizwHWXxC5v9Irtviz0XuewN9bDWP52ijQdgAYQmItBXajU9h\n",
       "bVoXORUYLuC+Y9O/9b0vJWLF3fpvOAaxLbPFfhDQViB+YLXuAI+TsXsiCnED9dpnFMzwAOx6/9o/\n",
       "jg+FAYaphzZD4Ni6l4BrH4g19q8znfGUVzt9NIaAiIjr63wTHR81/ZDK3hH/XGOg0JeoN2DubdtE\n",
       "1kD/bXmwIP8oIQ6gfyJgIDpFsM6FgYHoFEH+hCmCxbc5fhMieDzmPwgbZAsEoTlWAYHhODgH9bXF\n",
       "d9kn22ZhgMwJgFJZQDn/ch7et23rfeKPvO3NzhkJ7c3xofGyb4Wv7xGsvSChfwNA+NuUTTO8Az4k\n",
       "CpSGhMIRPbcR3yqmYDVs0PvONpCCqMIGIFxQ9zU++TCqP1D7xuGCPj/P2xWC1boDRAEokTBuoPZ5\n",
       "IOFG4LRF6uNGuIFRaEDO4fjOzmPbVeEhNSc4rKiGC87vAkBIxG79HICw8u9jAKE4k6Beb+pMgjqs\n",
       "0Lf9g5Glg6EngDeDgIGjAkEIGAiqAPJcThgHuAHuO0ZKxUh4D7wFEg8QeQSkkjADBNbH+txBQVFd\n",
       "gMjqn3kE7DoyC2D1BEBp4aOcf7ln3eb/KDM5/9J7EY0djc+uU/fo6Y5FL9e7Mr6kVYbfJfv/HtHd\n",
       "Y4iR0pBRDoZx/iTfDFNwt2ARLG8sFAIEKuR1R16CWCEgQkWJsviBK8ccR0BChBvg9SxuoGz9PYkU\n",
       "ghFuYGj9izmio46rQXYfQFj7RHbFBEDYrocAQjDOuqJ2ou9i/2JkiuDprugpgv0aufUjxaH8ka5+\n",
       "GS7obv/a1wX9MQoXGNDg5+hhBpc+WDZc5vfoQl72RWEAz8cpGzJ9ECgHVngX7M7/GBDizP3P1yP3\n",
       "P9PII4Dc/yPrH1n9khdZ/1FoYObyR8J4BeFfQBvi/SmhH8kWzJuTfH9ruCB4RbqWfPognjGdDQDG\n",
       "uldd8Xz7Zlz7Yv4roQSrHOxbEEIggt6CkZegCjht3bV7E30yfNDLJut3yq74usCOPAKf0v+HGnfZ\n",
       "PBq+zSSEtguvbG0n83BBVQL4+TRrm/bOd87/BbIFULiAqe1dpg+Ctn3Ad3r8Wy7p/nX0kMAZBjg+\n",
       "u/BudL7a99VSEOVkLZTA7n8JKDy/H2eYf/+mmv4vqHsBRBuDEV+w4EsvvfTSSy/92wQKCnWr3rkt\n",
       "hCvepggSwAHocwKMt2Do6h/n/rsUwQAQWHnW0wdHgMARHkDyrx4UtIoDcHs923DevvcWjHAAozBA\n",
       "FC7gfaEwgK9roNfT+yHXdjXVL8INhOsgvhvWf7y273ja0v/19EFswDvKp/phRhRueNJLIB/wb2EK\n",
       "bMyciJp3YDVc0OYEYYMoXFDn3oJwgfYEqBoGC+mGM/zADoCNKwcYbQXjBuRe3BzMdwM3YHll6IH3\n",
       "1fpEaiEKCfCkHpS4ky1FrDADAi9Q1ymwFHHl2dpvq9cYKPRt/xKUex/k/vOsS4cIBcBAB+ybAANt\n",
       "7B4qCUDwjnAAWTyAi/UrxYF0H8WYgggPsIoDaHslMnMBYSx4MjgAnElA4t74u6YoDIAq/sk50Try\n",
       "e5koDLZPXmfc80Og4g2hH7n7fwMY+Mt6wIKAvzcfUhCeVA7U69DwP4UpiACGcNxiuKDRVnwtglKA\n",
       "0sLCEuMH0GFGbuwIXMi8U/yAfgYRbqDeq+yj1odwA3autnfyglweWpTFDRBp7ICtNSAzCqYAwnPS\n",
       "DIBw9ZCi1rL5Q4po2+i7xf/b3QlB5ND//bO49MEvd6xwi/mLVEGZ8pfCCPB/0md3CoDkH4H5Rl4C\n",
       "pFQgPIBN4ZvhARofWjtZGKjNJb6rezTf+/yk+J62/m36n1QMMmV+f0voH8Ab0fYwEfpoj70vZ9Fn\n",
       "lJARrXgZ7tAouwFU5b23Flrj9njfivn0SggPQEXE8M14+VtSAqLNf/IZoSa/V0xBpKgXxy/v4wAW\n",
       "bivla/Z10Na9BPLvv/F1L0Fde+t8XSZ1YQnubegRWChXvJeW7Cbm3wiVKSaqkXNrlf+hHeIGiE48\n",
       "wAA3sBX9XOUBQ8OsAX42or2nD9aRH/pyhxUpbIGp6Kf7+rwc47fvs+0oYo89fZB/vQpASES0b11x\n",
       "EL+koUfAWuwEXPHa/Q8yAwy/nHPlWGF5yt8wbDBQBLQVb5QKoCTIMEAUSojCAKGHIkgHXAUEtnXE\n",
       "d+6LwgxPWf9IAeDrTJnfrMt/JIwzwECkmETj5Xqy/47Qz4QlRgTX+QFF4BjsSJaUfWYtsMbCEtCq\n",
       "B+MxXzE8m+gbjyUyLma5JhD8w3kCvmwGwiiEIMMHWS+B3dPMS9D354X+arohX6+kG27Su8DPRty7\n",
       "DBfUvq4AoXABcvkj6z/KGpD3ZueU2pT0FqyEBmSWQRPiKKMAAAhVBcK62dbXFtj8/l966aWXXnrp\n",
       "pX+Ivp27A4D/ssBA50FA3oJljICcI7b6V8B/2VAC8hJk8QDOfT6pC7AKCORr1Ic8AX2vfg5qYztf\n",
       "XZvcfXC73mMfl7LUzf50G9hPwgJHYYB69oEfi8bbdWyK08rYEV/EiwgXV3reJTDyMhwgJn+HkIdh\n",
       "pQJj3vqf86F4dzTWjofeATf/eI+WD4EMZ7UJLJZAegbgmQaoKBGR+hGgdMMsfmC17kDdCwYSRnUH\n",
       "CuCPcAO1rwMJEW7A7YvyAMK2n/M7AhBy53Fa4vtx+NRF4QWwGAEZpu+eA5a7xxBA6NCw29YepDyk\n",
       "6JtLBfsNba1GwMHlD0UdAVQy2Ld1DAAqDxweKyyyBuQRwrZGADz2Fxwv3GsG9L5Pa9vcnAgP4JSD\n",
       "CR4AKQD1s+/jDg7A9mVwAFEYABUBYv6V4j9hnD5QTK4I/QjhHwl9tJ/avu7yX8Es8J6yhAR8+oCh\n",
       "n4QG3ph6t65pIvqACdHrFY0lCmoOAFblPbdzb30u/xfhb1nG9GENAP5dWJuKPEgtW6egi8AuBDPh\n",
       "AokjsL/xjcT7hYXlyVNoE3VmWNiL45PNPUb4AYttkDqS1ZfY1a6K6IhxX+3e7Gx7GjdAVJWjEW6g\n",
       "u+BL62NigY1qBuygrRjFedsK7TvXCDh31kP4vvzw16fxScXElynm2/FKCCsQiqC2fN4vDTwCNYbP\n",
       "/xMgGwCUDPagwkEWwCDlL6oUmMEBZPEAoQchwANkCgTNAIFt/vNR38EB9Pvo8/I6kQKABaoX9hID\n",
       "kC3+w/NjEB9WADBY0FMG4R9lCPg9FtieWRvtu/WBthUBfWf8ikX9u5TbP/QSLHgiZl6GcXqfny/r\n",
       "ObDj3TjyBhkN1h55NqqQ5b+jWCFQc4HKhTYFUaYfZr0ERDF+IMoyuIIfaKsDhSCLG6hzUnvuT+MG\n",
       "6pzg9ye8DHZcNfx2tZ/Wd3Q8gMQRjLIMaFCSGGUUIADhixF46aWXXnrppX+YfNYAqBWQzRAIY/hB\n",
       "hkCUNaAyBIDVfzfmP/IgRHiATIGgWWaA2w8/87KOA+C5V3AA2rL2Vv8oHfDqwT+6RoIen84QkPOB\n",
       "sTw+k+q37N5HY5PW+93QQNbSLysL/SId6dxDYOECKyteZzzePsdZ7H7sQbC/p030+XFP1SmQBxjN\n",
       "sgssf6Ntg9kFRDTGDxCpcEFdF+MHosOMruAHePVMRkGEG+A5s7iBxm/3Qxg3wGtbku946zFQtQVs\n",
       "3YGyUTqTgIhoP/KZBES1jgDIJPhuRwXLTZ6f7RwBUDOgx/zPzz9deA/PCfjscRvHzj9iLqEs2DMD\n",
       "ZN9h2mZ4AHlWgOxDeIBP2Z2CgYR4Py9AC37L/zHzj4S97MuGAZzAndQCiMB/cqwUoFE8Xwr93ub5\n",
       "hhgBOXZBYShUUu7+J+L8WaEfufZxBcPrikAWfPjbZE+/iwj+XwR6AHJhTkML7X3Kf6e9a4YvINIY\n",
       "A99XBn2+wsFWBM7A7kEpHPVT/q2h2gLs1va/8148SM1lTvSTdQgi/EDls8K1tDaJH3CgubafC/gB\n",
       "dpEb/p16jYH22989bqDNWbYe42+4OowbaM/kAdyA5VGYAltboPi52jhwbLHEEXigoliztWnFhoio\n",
       "nM93J3DoEMwMQB4BDjpMMgN6HysYAOCXrBQYYQRGBYIiPIBVAEZ4ADW/ebAaD3D2TeoCPIED4P1l\n",
       "DgWa1QJA6P/Ox2v3a4T65z4keJFyIOeWe9MFjjS/btOT5jECuN2u3fd1XejHxYxyvOnsggUswm+S\n",
       "jaeHBNjsEb1tTuhl8LxZ3EEmi2Fmqcd9xT0DZKlbtDsRdeVlML/s92v7CoajY5GH+AEi7C1Iegn8\n",
       "fs41J/iBrpjw2v3aewn8s5Dehd285yPcQL3vPG5Atss+VW3QjFutRFiEhpXJKNioKyvWI1BrEpx8\n",
       "oiQxOH1QCGpXWXAMDPQhgTEw0CkMABiYcedf6XMWvhCoNgwg3f8e1OczBCC/uEZCf9X9X+dC42IF\n",
       "IEoBtArAyAJH+5G8GCzo2+S+1H4Ga9e24tqiteUcdu3fEPqRyz4r9J8+kfC3KTovwBJUGAIdAikI\n",
       "P60cXAUeVuFkFdYtnGOWkhgJ/Xht/jstQz4iGoYNiIRSIBSC0VkGT4QNeKuZdMND+BWQQsD8soog\n",
       "ChfUvi0dLqhz9iONmYp6127zPpFiaI8yjgCElafkAYT1ZiGA8AULvvTSSy+99NI/TA4jIK3/IuL5\n",
       "te3s+3zBcwJSGIGT/wMwApLHxvxLkfUAdJ8EF2bxAB/jjRjhAT7FW/3IYld1BM7H6T0INMQIrKYD\n",
       "Qi8BGb6RBT4A80X7idzrYWjAtN2x/qO1Q4+A3eM5w9OW/oprP1vDIJs++L8eGkDWSHRHrmwuYSwC\n",
       "Go9wB7boDhorh1nrTuHpwDjf5v+3UJzf5u0T9d+Ycldzn5l033qfnB+FC1qfcYfLnTYHhXCtyxoE\n",
       "vD/bdhc/oNr4fQbqDjBqgeer98b3XXoMXljWCDfA8z+BG7DX0Xc3F8hptYDD2XkFzmuxdTxAaxM/\n",
       "GpA14EMD3WUvXP2jLIDRWQCJSoERHsC78wFYEIUgAB7AZQsM8ACzugBu/+ZeKl+f6wkcAPOgMECk\n",
       "AEQgQPsy0YLX3i/ms319HSCMjeKh20qSz8+ZEe79mfy80F85fRCGJbKhgb9UEci6GyGWIlAisqcP\n",
       "ZnEHmbCCykCwQC7Z5/aKBTTCEhDp+4DVBtse/FYzIQsZLuh8BfIRkdJyhmcZTMIFfG+r+AH5fuS2\n",
       "PtfZJ+LiOLugNsjsAh4HcQNERCWPG+DxI9xAKjQgr00lwugo484fZxn0MEAPFdjQwHZs9N0mthtT\n",
       "cX0ADLSCfYQRKADMNyooFCgCGbBgFg8QFQhC1vwsHbApDGLcKAvAtl3BATBPphrgDARoBfuo9K8G\n",
       "C2qKrP8MYC9r/aO2tk4ixs88Twr9KGMhoqzQzxcU+jsVgSwhhSHMmIAKghdmvXqf4L+sHIj5zfpS\n",
       "MUDYAhy7921171IJZuEH+NT6bottXE4J4ffOQCEgUqBCXnelKNEV/ADfWibdsBA53ABKN5TCHOEG\n",
       "+r2xfOgKAcIN8L4QbqDy+CONFbhw0KdkrMMBjDECDBJ0GRTbBgGE7hhiKbybi/+Pcd1nQwPtuh8h\n",
       "3FIFD+/Ol6EB1NfKDZs+qQhkwwA91U/3oTDAn2NTgv981v05nd/72kh49+s/h57/ivuf95DJ/R9Z\n",
       "1kgJifj8fjRFQh8JTjLtWaEfWfSRIuD3GCsCWav+rkWP94nWyQn4vzY0ECH+DFkrlahbYpZspgqR\n",
       "Fvb9Je0lJHpKmVCD+nsw7Dv4vfZ9eYtv2zCfHc+QYt22+Tb+u7TKBY1d8HbPMtXxMNa8mkMIUnsE\n",
       "cikbLF3c96PbMmEDvcd+jZ8Z5pfphrxCFC4gOt3u2XDBeXMoXFDHCcE+CA2M+ohAuuEkNODHg9CA\n",
       "UEJesOBLL7300ksv/cMUhgZUiqB19T9cKXA1NIDwANKNH/XJcEBUIAjhAWZ1Afracg4yc6D5qe1n\n",
       "FQfQ5jJtRfBnQYA5PrmfvpakCCyYqe43bJP7YavCrk0l5e7vzw7wXrT+C5Ul93zW+v9nMAJo+zln\n",
       "wkl9glY0qFmr0qwF1n8GcyAubShBhxF0n0xzU21uD7zurI09aduQj0inx0kcQRTCQpULp4ccJcMF\n",
       "lYeW8QP9Ljd3//ZZbCRd+7zm1q6tqz/CDfC4LG6gzuTT76R8sBUJZSjBeoxQ351KhDiUwKF+GRow\n",
       "G5HAQFQEiD8RRsCdDihCBDYzAIH/ZsDADH8WDxAJdogHKOO6AG5t8132yRj7HRxAG9f20fkjwf5U\n",
       "GACh/i1/byvhfmZCv/VJ927xbby/TIwfgRJtX7g2v6wedu2H+/kfVwSyBDECwS2he1Uld0VMt1K5\n",
       "rRwoxcCwS8UAYQsgpqC9r899ndcoA6G5t5WgFmuye9csfZT+XLmCoQwXjGoS9LXl4T5GoZFKRaYo\n",
       "0QX8QI/B66eB6g7Id+6o7sDW3n+lzWdBgMdW0rgBour+R7gBvu4yo4P/UHEhIi1ruO84ep2Cz1lh\n",
       "8Ov8Xz1ob6cbjjACUnFAAMLvI0wf7BgBdISwwwjIuD7ACMj4P9F53K9pk3H+/v2rPViLJZB4gJb+\n",
       "l8QD+BS++onwAB+kCACh/wFtKBsApw+ej38xCyBTAhgVAJJCeegREGtxH+Kr4z1oDisHfjwS8Kit\n",
       "78crAhkr/wBzRrwRn1NCSoFjI0orEsk5sS/kv6cj6RNAeIAIIwCPNha/hfai55f1tkHlgNo3P5/1\n",
       "CKB0vcYrxiNsAcIUOMWkCU+p0JxtZ5M8MlmugrAEtb17JZsyIfZjBVch74TRRyZbQ6WXMG5twjJ+\n",
       "BD/AcXpz3xLroJ+FbkPphu3eAtxAHVcWcAPnbAA3oHnIlBvWf7PoSGOmr/1oMhIpBPbvbIQRUG0H\n",
       "GzYvRuCll1566aWX/mkKTx+EcfoJRgB5AvjaFgNC88u+A1jxbj8ilh/NFeEBogJBCA8wqwvA32Vb\n",
       "ZI2r/TR+7Ano96bbZmGAaG3sLehkwwCljPky9f6RByFr/bc5xPcI9Y+wCHLNPpfR3EFf1MYuyque\n",
       "gxFhD0XO0v9bQwO27GpEWc9B5fX3qr0E2vr/lAK9BCOyu1F3Yb0FwE3faMOYgu6hUFvG1m2zSPNY\n",
       "At6X3U+hjtRv44CbAVnermzv7CyDB/AD7Z2QqDuwkcdQoLoD7d4C3EBfe2t8dY8YN1Bvo4efJG6A\n",
       "iGBp4ur+1zUCUKhAer6/Tg8F8gxwmEBlKBiZJzEC9ryCs46A+bEIoZ/CCDR+XDSIN79aKRCFAUZg\n",
       "wS7gugJg96rr/du5ep/DDRQvvKV7XyoAPFcLNVi3vuKnttdVHEBfx8wl1h4rCXqcfj5yLs9n0/8k\n",
       "D1QEImFcfFtG6Nv98J6Q0L+awveE0I8E9B0Bf2y5sXi+Z0IIe1Jwo9X24sciheHjWipdq4rulYM6\n",
       "lxDKQ+Wgj7c4gxqL14KH6RDvkhbDL73qWz990EtjCXTjLqkUkBnR3P9CYI/OOXAxba9LhbUI+vz8\n",
       "DArsl5u9hh8QYQKSOhiuO2CfRd9TV4q2KW6AW7TwjnADbS7zG1M1B0wRIBKCnUPfX/vnvAZCfz+a\n",
       "PPwCeIBR4SGEEUDKgcMISGE+xAiYKoKf4wuWCq4PY3M4AKQcsBdAYwREHQHjJZB4gB6nz+EBbC7/\n",
       "CA+gawuQmUvsRygCo7oATjlQ++1tfD3KAkDWP1IO+l79/ESer8+lhb7tl1RQW/GC/47Qjw4dioS+\n",
       "BxXyeM87G9/3jcb6nS95BICAzwrupwR8lrLrIYUB3SfiQwpDJa8iwDi/mLNba/plTVScclD59HxN\n",
       "6Ah+pBwgbAEqcISUgz7juQcjNHfyB+3UPem5+jpeKZdRcRvzlzqDkDEwPs/roblsDYI27hJ+QM91\n",
       "oPvuu6Zu0ddxErPVRgrh5xSGdh+lzTzFDZybQLiBztMVgNp1tO9IIbBC/zg6IJD7mBAewOIP6v5B\n",
       "mxg7yBoYhAZKLw88qhQoBf1IOZAKAI93HoFB1kDVvL2XgMgIWRlKIM/Hn8jzYBUAKfRH6YCSz/bd\n",
       "cf9HaxfTb8chq5/Jzo8Q/9G8PGem0A8C/KG0vkjoV36zDvkUvoMKFPhy7mjOJ4R+ZL3fEfB3gIHo\n",
       "pL0rhE7xQ/QBe81a9NGzg96IiZehWd7nWKkQeOXAhwZGHgSpHKCQQre8hfIBlIPzS99Dc6mLdcDf\n",
       "ohSmRAKbL5t4AAAZCUlEQVR4GFjzNvNgVsEQpSBKHtsWpR5eChuYd3MHY6J0Q/8++t77Pcrsgtam\n",
       "b01nGRj/QhQuINKKDA+TqYaf7kM4P3blHSDSCoH0DnCf9A7wmkxOHtLe1s+EBkp5Tx986aWXXnrp\n",
       "pX+aQoyATBHMlAyGHgSAKZBeAuQJ4GtolZuQgAwHuBQ+Ma6HC857pM3znff/OXalNVZ+/d3Oxd8x\n",
       "buD8FKEChAP4GL5sOiD2EmiS4QDrCSjqu7fA/f1qD4Bahwpss7YdCgMgACJK9VvJ5UdpfSNL/2nr\n",
       "P7L871j6Wav+J8MF8BS/bKogcFHe8RyczJ4SWIQPeS9B5bMufh9KUNZ2c6Vb70JQw8CGEEChIJ4C\n",
       "1ykQewVYAqL6XpPeAd6z90Z0S3kT1m/jb2u7pdPhgsqD0w2JzjUEcLD12TaBH7Blis+E/XMf+v8I\n",
       "ASd74EG39f3p0MBRiLgQz2bDAMcuwgQ+DJDFDRBV69/iBpD1D+sUnLJ4/zoacL/dGwoh8JwzjMCo\n",
       "UiDCA6AzA/gzCwjka4QHsA9B8oQZCOQR/BGAsPJ4oS8xAk7oS1e/msPydZ4ncAB2nQwOACL4geCV\n",
       "PJZfzccvEXGNhH6mqM9PCf0oTj8T+k1hSAr4FeF+R5jfEfBP1RtAQjqNG9iQgEZCH8MFC1AkUNZB\n",
       "Zp2KQ/icff1la+ebhRKaWx5kJyDlwEanLaq8cvHaMmRRVB8RQSxBbe+oeFmwqAvqk1+5+vX8qhYB\n",
       "/82y515I0kw2Q5Rl0Hn43ckKk3TF6/uvN1LUHJ9jU9gGSVIB6msLACG3Mb/AD8gDjI7gfjf5rIGA\n",
       "T+MGzmuLG+hjPMk6BRw2OD477V+n2x9UIrSKA9EAIyABgc0zILwAqBhQ5BGQgnoGCCSK8QARIPAj\n",
       "vQWmrwpS1vr7w0BFfXguBAx0wlha+OYP7koWQBvrBPsMI2DaxLxk+or63jVdrxyAsUJQr1T3k3FS\n",
       "JuR5QGl9yHpfQfMjRYCF4R2rPiv0I4F/R8DnMw4i3P0T5Ofe6QvweYJgUNAaehiQgIfKQWIv29HW\n",
       "kfw25a9b9TNPhRb62dRFE0E+p2LrXP72u1Cye5VYgtouBHpTFnx5Y6kYeOEtK/jpPirkBO9O/l0i\n",
       "vQDISyB55GaHWQZCmeK1v9WJhEX1oXTDQkT2f6IrPVuPn6tR9t76A2CBzH8FSiFghWGGG2D+KENA\n",
       "fJdt7XchcASHOUzQHlpERLR/dY/Dtx0wPDpYCmVgzaM2vrYnB6qUvGQYACkAdi5U0c9a/RpASH5t\n",
       "0/YRigD/GFvGglgLuf/b/tseOt8d979fW8wfKA6jcr+QvwgBDYT2yPpHa9rxvyH0Q4/AROjz96yA\n",
       "XxHuTwvz384ayO4ha+kjJQKFC+o6Wevf/x9Zb8JGe9u32quREE2gCA+COqr7HIuzE7xyEGUlKC+D\n",
       "AT/Xfu7jbW4whEDEioH+Y5fCz+a96yqCkr/IKVT4QIIK65qdMeslqNedqb2DBlkGBMIGfwSA0Hlc\n",
       "xB7lnSAAYd1XgcDAtst2H125s+84pRBkwwVUlRD+P2k1BQCAsG1FvovEOg1UaD0ChzhOWUQDXrDg\n",
       "Sy+99NJLL/3DFJ4+eBx7AxwgPACy+qPQwOf4cvwqNJDEA0SAwCFYELWJ0MDI+pdWua0LIK3n5iUo\n",
       "fa7VdECbZqjmD6z4GfiPaRYGQO7/Nta0Sfc/isWhaoMo1c+ug/L7h3zI4jM7Oqg4y58twDvu/dsY\n",
       "AWAV50MDf6eXAFn/H7DXDVj/K6EB1Jq+U+c5+PTYrvIGGSwBhw9EKEGCEXuVt3MZAUBEXgKXZoj8\n",
       "z21uwcdfmpeg/7U5L4PokwWL+v1qK3sGLrRph/XsA/0OFRl/KlzAPChcUPcgXAnUeaJ0ww+Jd/k5\n",
       "1zcVV4GwFwUqKs3Q7oc3KT0hTPK8gtbWhtVvf45DhHz0r/GLVnADdbg7EXM/iAyAEIIFQXih34d/\n",
       "j3UcwU7fR6AIoLoA8hMBAz3478vx62qAm2uzfVJJQAoA93VhZl3xXqko5BUAKSAtKA/hBmRRoBEO\n",
       "AAn4J3AAbR0wLlP5DyH/R+C/Wc5/XaeIPZbeBtz4dfzPC/0V97wU+ssKw4Jwf1qY/2+FBnJ8SIlY\n",
       "WadAhcML+O45FYLdhBBYSVChhE0qAmdooCkHHYA4Ug76eP1eq3zspt48HyPmRQYCPDGxS/lzHJHx\n",
       "FOusA/MOReBCeY1qEcBwwTkwLodMwDCLswyq0Of9108cGujXRu4SFVmdkPfR76cJe9kGjjeuz0Ji\n",
       "EDziI4sbICJ1kiErITq8YMD9CCwo+N3phsfWKhHKPzGHEZB4gAYSTOIBkALQ+I3Woqx4U5L4T/Hp\n",
       "gyNAoO7zigACBto2JfSN9Y/SAVFVwI/oW80CsGBBxd/uxfOsgP8i5P9KxT+kaDCh6n4odo9i/xAj\n",
       "0P6QD8+XFPpOYeA/7BtWfVboRwL/Hljw9Qj48Tny/oBDCOg+i8Uc9L14D0KkHPA4pBxkzlZo4kSZ\n",
       "p5ZLgObMC18C92TBImlVE5ESqDLjoLZ1ELMxqJUNj1IQWx+/g7b+/2SxDkch+t71/Y6yDP4Ujx/4\n",
       "ov7OJSGgK5Mo4sSyZvO/G+uxsPcri/K0tnZP1iMwVgiK8ADIOYl25R0g4pRC61XwlQiZcLVBYEyJ\n",
       "G30xAi+99NJLL730D9P3YQpvjEID0oWPwwXeE8Dj3AFDYA4UNpDhgGHWwLl/lyEA3PqyDaUF2roA\n",
       "H2Hhcx8KDSAcgLf0ZycGav4IB8DXKAwQZg0UYWUbLwCvVfu6FyCb88881rLPFvVZsf5rn/cIIOv/\n",
       "alEftvqzlv5a1sCzVn12vp+krPWP7Pe10ICfEx1aVMCc9nnWddlS/xJ8eBwOJXQvAfrf4t+uTFO0\n",
       "CP/+7pHhhk19EsmwJwob2D0TSSwB/9vHnuNE+qFMPWR+mXoo71GXKz7XLDhc0PraM1Hbon0j+nPo\n",
       "uZB3gT0E37vwlAhcQI+E6LiBzBz7VicSam+nzGKw5xvsm8BjiPg8768XdLKegJ3sL+NLtGzG1SJP\n",
       "MmR0vzyICHkGRrgBGyrfhNzlxmPbQfqgFK4C2KcmDfAASAFgfhvzl4DAP8XO1f+0M4BAeVBQ29d5\n",
       "HQED0RkAbV+Nr/fF4D+gHMixVtEArnsVGrDzA/6r4L8oBRC5/5msoiHd/5na/kOMgGhH+f38Es2k\n",
       "9UVC37b1da679/NhhXxoICvM06mHILf+Jwml8KG9ojz8vBLxdGjg09ZRoQGHJfg6+X0oQSsH5rdf\n",
       "ML9PYOf0wxiwiO5DpiLa+gQ79fNUuou8p8zZSqa7UJ1UBUNjVEhhmw0X8B7ad55TyKNvoTC0ezBt\n",
       "fI9/Do8foG1TZxfUdXqoQGIJ+H5RmmHt6xduHfkMQBtBhcCHCRq/PSXwIAcklKEBqBAMcANtvUmb\n",
       "LygErHJk/Y8AhFk8AFIAzmchBDr/5/uDgiQewCoAEgPgAXsbPB6YxzvloIj+Qq2NeUYWvldCCPOf\n",
       "31dKABfCc2Uq/42sfvnHmMn5lzH/q0V9skJ/JcZfVYO5MC4D6/+OchAJd4g7SAruO9UBUVW+K7QB\n",
       "of9Jzp0tHYxOUCPClr4vkxN5BObehJ32pphYJQF5ECLlgKgKJKQcONDitqtxRN1SH9UrkN9tdUMt\n",
       "44RlDLAEzCGVAm6zRyRLoFzWS1Cv4+JEOxH9Qfsxc/GT/AL4AVL7N/dd+qFA383LuAnL6Hx2RkGR\n",
       "ax6lT2z1OCIR/+cGoRD0dyfLqEJf51NDVTW6qd7bEG6ASAMJN6FQtqqJQL4jmR9mDSh3PgAGZgCB\n",
       "ozCABARKBYCvLQimUAwIlOcDIGAgtMqBAlD3lTsdUIIB21gGflzIAvgcmH9UBEjdm7TYjSJghb++\n",
       "N2z1M1nrX1r9KWDgqR7YNiJSLn+E0m8KQwLNHwl9z/d7Qj9MHwRCMyvgs8L8qXLC2T2kzwZAb1FA\n",
       "FojKZEvFhuPR2ARfFdPaguNr5EGIlAOi4Jlsu8tKgP9TTf7KcAH/9kfPWgi/bAiBSHkLVAVDkXFA\n",
       "RApcqMVo7CXg66g4UaEuSDNZBnYsD0AKBs859gicSk4b3++D718WDbLHHEtCCkFXmORTOS18qBDo\n",
       "318ULiAyQELeMqpeOfEIvGDBl1566aWXXvqHyYUGRoBA1CetfusJmOEBkCeA6HTdtxK+3QtggQ8y\n",
       "HGA9ATIcIA8Iqmv7/P7R6YAf5W7vbTx+hAPoXgLBf36/gwNofSAMEHkCojCAdf+vFvqRn1eL+mSt\n",
       "/5UYf6EPtN79nGvAwKxrP7LKkUWd9gjcAAY+hRvAeIDcvraSO5Mg8jDg0IBvQ6GFTFhhHhrIeglq\n",
       "r61ncNAO0gz5b9djBHC9Avm3uGl+FTY4d9H+/jeIJeB5EAjOhhr02Qa5cAERnUDC/r32GQ8E5dIN\n",
       "7by8QX92Qb8fmWbIz8LGAvp6pbkmDK5Orfm95zwD1u7WntSEZyDADRBpIKGUjxwm2MS7v14HoQHn\n",
       "VkiABT/HF8QDoAqBPG4ECPwILEEdT2QPClKKgAUNgjaF0jeIf1mACGUD2DCArjZ48k3CAC5r4Ox7\n",
       "sghQFAaIwH9RwR+mEeI/U+hH1vaXMf8QsPfDQr/u5hpgr62dFNorwj2dNfBLYYBRuOF5PIAfu6JY\n",
       "IEUCrZNRGPZtb89uA4Ld7lXOKfEG/CaTykGd8yutHPB++pxz5WCnnSzQ8CN4UeGiLJaAqL4nrRCW\n",
       "OIJsuIBoVpxIVEEULn8EKmzPoikTfS4ULuB/D7PqJvbGcQN53HHLKCj9frtycxq1Z8P3XhwWjGkr\n",
       "mwPvyUfeFJm9KwRZ3ADR6d43f1K4jgAI510FCx6qkp/3FkTgwggPYAGBWngP9sN95ycCBEovgDwg\n",
       "iHnQ8cB1nazF7q1/iANIzbWOA+h71UI/OviHr5H1j0B/TJlUPyn8s2l93Cf55Jy1zVvqKzH+kUfg\n",
       "N4R+qIT8AkYAjr3gTSglj+j366GXT06xiDwCWYyAeyPXSd26fZ1TYAPlgBTHuQ/Q7oX+AZUDSx5T\n",
       "LvcsAYSH4jvocEDDXQLGkliCOhfyFog9NaCfEJBJLwFfIy8BXyMvQRjzB3OgeeXdtD5WZMTphvxF\n",
       "Z39s4nt/3/P6RD3T4c/RvQPuaGN53PHwAKO20zRuoLb2Q4SkLPfpg91DcBksyMDAQwhzFAZAFQL5\n",
       "egQI5DCA9ALAFEGjCMhwAFIA6nggqIWigbIBbFXAj7LiR6EB0dbu0/c9lfsfWf8R+C/K82eCwEAj\n",
       "9FX/oLqftPqRcuDnfF7oF/qEAnYmjFngZgX83dAA5MumFN50+Y+UEGxtJz0CyNJPKhaxNyWXNYC8\n",
       "DNabsAk7j/eKlIM+p/xt9vl5/ZxH4HD3gE5ALC3cIBSBJvS9cG1ziboFqF4BCiHUax1CqOttZMsa\n",
       "q1z1tv+xl4CILfbzu/ASuL7zM/IStPsU++Y+6yUgMa6955q3XfyyzUmGBwmPgKpToJUDBh5+b74O\n",
       "ApO8N5cqSE43VXc1Cxf0uXbVhc4VmKUPvmDBl1566aWXXvqHaYgRYE9AFg/QrX4dBkD1/mttATrb\n",
       "YjwAqgfAeowEFDqPgOB1NQOo4xes6/5P8QWFEEYAhQH+SCs+dPUXeK7Aqvufr1fAfyj1bxT7RzH/\n",
       "2u/j+Y3fuP1haOCG9R/xRda/tdSZZ+beb+vcChfkXfG3AIQ/WDzoDv4gm1KILHrkTSBa8SgkgIFi\n",
       "DektsPseeQtkKMGuuQWhAeQlsOMzXoJ92yGWgHnw2Qfa1T2rTWBTEGfgQlSLgIhUCl+39KmtE6Ud\n",
       "1rW1250I5/xH6YbVKted+yY9DHxPRVyh0IB+dhK/hwCNfP21km4o978LwJ8BBHbHQCE6tH/kCm4g\n",
       "xAgcoghQFg9wkG+rm5WCWcbWtTDW5YSt4iAFtJ+ru/O1sqCR9X28i90rN1If2/eq21RowM4l+Ju7\n",
       "DQl9uMeuAPA1UgD6Onp+VPlvBP6bxf6vVveTPBb+0vs+ru0qmr/QAYV+JCRnLv9jFBpICv2VtSHf\n",
       "wyGEK+tEAjk3cZIP+EejPeHc/OTahg/FlxHxXmahBDSHxwbcxw3APiv0S4COadJXgwwjPEFbC0ho\n",
       "t48S1CIgjsnrAMAs2+Bj3pOiNiEU+jZcoO6jKRosJ4B7Xhx33N7NDVTZQwO9tkC/9Ecgu9lTCkER\n",
       "Q2Soo4hnVbfTlbCjKSbnvgLcAF8j3MD3x5YnlBa4KSg0wwO47AJlzfeMgPopsgYGeADpBbAphare\n",
       "f+M/5xcYAegRMODCZtUfWsHgOUOPgJhXKgejLAB5SmGdY1wESAr+OtfY+o/Af6rPCH21NkD8Z6r7\n",
       "SetfWv1WUN0R+hGwLxL6VuhmLf2OEcgJ+KzCENGKIpFZ+ym6421Alj7mQ9Y7BiRmyxZDL4Oz2Psa\n",
       "KObPxJZ1ERkFSDnwHoFdjO38SDmw4zkrYVd/I+w57d4ChCXgPY+qGnqQYeeV3gJ75gECF868BI0f\n",
       "eAnq2thL8MVWrxCIRNW46vzSk6HnJfHu7VZ2Hyfv2O6Vr+R+5NkFla8T8lDIOSV9bQUqA20uc30U\n",
       "0t4BIu0hMBrZFdzAixF46aWXXnrppX+YQoyAyhpI4gG8Zd/HrRwUhDwCqDCQTAv0WQMk1uZ7ozbe\n",
       "xunleBQGkB4ANVcQBrBzaI/Affd/nXN82t+o4E8m9o9i/rZf0iGQ+9LCz5T55bZZnD+K8RfgebBj\n",
       "R+PlHmT/T4QGEOF1nj2I6LcpjxFAtQHy95T1KHiPwAH77NiMt4AoykrwXoI+1v42/TojL0E5kwRr\n",
       "m3mP09fQS8C/zVnhoghLIGsS3MkyoLMdZRlwY+ZwI/XNWOcHCYv34GchrXUdLqieB+vZKITTDCsv\n",
       "SjMUy53zEw90Vr+0123fThv9ORiTIm6KTuv/0NZ/iBswGxrWEUBHAWfxAKjaID8AWxXwkGPN2gcQ\n",
       "xqgwkORpGAF3H1oBaPxGAWgHGpHvi3AAEX8x31Wf2k8X+leKAEVhAKQA1D5c8IdplPqXKfQjwwAa\n",
       "LDjHCGRz+SMBXeiTAvZlXf5ZhQGNjdYeERL66fHA7fc3UAkODvKMoG0Qs7883vJtQd/CW3qKMxis\n",
       "aUFtaLx8gggbkMESoLkYU2BrE7i9JrAECkewBX1EBGsRnOvoWgREUqRmDjeq78lNtcn6A1146z6+\n",
       "zTquKwQOg7D1YIJMM6xzFoAREH1u/v4MrOzbSCofZ5/AJ3Rlpc+1JXEDRERlW6wsKOP6WTyA8xwg\n",
       "8N+5zuigIInSHxUGUhiBNq9eR2EEzjblXTACu2IESPWNMAJSUEtwyygL4E/73oU/iv/zuFXwX6bg\n",
       "Tyb2j2L+eqwX8MgjgIB9df9ZwQuwBGmMgFk7aek3D0UaD3BDkNcJQGMSI/DLRw5nKesRsIdX1baf\n",
       "8Agc5hp7AbKeAzsOZg0YEN8oO0F7BNhS9xgB6S1AWILeZ7wXAFNgaxMQaW9BhCVANQkiL0HrA16C\n",
       "Ohf2EpDor/fN+/NZBrW/GP7+3jcVepWHwq/TNQ198iHPJ6/qN+8R8B6CyDug5xrrq/yslYegaRoz\n",
       "3MC5IMANeEVA/GexUM2GAdD5AMwzygJIKQLCxe/r/feywJZHgvOk9R+HBrz1rxWBYuYirwgULfjr\n",
       "frrQ95kE61a/60tY/UqwJ1z+yNVv55NUAH+E5q/PBigCE/d+HBr45MCCyx6BpIC/Icjt2qvj/9bQ\n",
       "gDw5b0xIkOfhS1lFYiTEs8J+VUlAygFTRkkYKQf1TDofQiAiOuhrqBzsbf5x4aIohBClIq6CC4nq\n",
       "+xuBC6m9x859iXeuVArOSY0I1opBTx88eTb/16W9DNZ4LML1rhUZol6trwEV2310QumGzCC9QU4R\n",
       "KFsX8q2V//8KiY2d91YIhguIqIYMfLjgBQu+9NJLL7300j9M3w7cgGL+STxAAXx1vJj3XKeYsUQB\n",
       "MFCkBaLDg/i6Yw+8y9/iADBGgMfL+fun9QTMwgCtQFHzDIzDAFeKAEVhAOQJYB7k/mcapf5hz0GM\n",
       "EZDu/9gqH7v8V+L0JVgnyrGfhiBKDF7MWv+xy/5hS/8vDQ0MMqQUwdB6eE/AewAn8HwOs6D9yrid\n",
       "+v/Dtu3td9HSCOnotRaAT3fEz2csjOoQoD36Urr+F7WDNm6P+OFcIyxBM8E7jmBUjwDVInB7FTgC\n",
       "Dum6cMFG7iwDOny44Es8rx6TF3F6c7/jkxL96YYQg9C30657KeLa+TmE677dVJ8bnVfg6ghwX9ma\n",
       "DJjhBuq9bhA34EIDXaj1EwOzeACUGcA8tiogygyQMX90iFAT9kI5YH50PDB/2rVRuKBjDDRfnbOA\n",
       "Nrm2DwO0+ZJhgOgMgCvgPwT6C/sGsX8U80d8TDIMIIV4JpcfhwvycXok9NHavW/i8m/CPivg53vs\n",
       "HU+7/P9OReBOaCAkVOAIrjMPN8iQgnzWUVhiFkqwuASNQZiHHuD5BSArQYYNEJag96HQgM88INKK\n",
       "vgwbRFiCqCbBqHIhChfU8TjbAIcLaks2XECkswz4m64jwPOLYcZlL8UvOu5YZRcQkcwwkNkFdf7S\n",
       "+p2yfHiFUOmC7d5kqKCuPsUNMKsMIZyNb2jgpZdeeumll/5h+v+W5c4FaeW2EQAAAABJRU5ErkJg\n",
       "gg==\n",
       "\" transform=\"translate(21, 3)\"/>\n",
       "</g>\n",
       "<defs>\n",
       "  <clipPath id=\"clip03\">\n",
       "    <rect x=\"548\" y=\"3\" width=\"19\" height=\"382\"/>\n",
       "  </clipPath>\n",
       "</defs>\n",
       "<g clip-path=\"url(#clip03)\">\n",
       "<image width=\"18\" height=\"381\" xlink:href=\"data:;base64,\n",
       "iVBORw0KGgoAAAANSUhEUgAAABIAAAF9CAYAAAAJGzhsAAABBElEQVR4nO3cMWpCURCG0fd0Ci1i\n",
       "I8E1uG/3kFW4gkAkxoCCICh5hYhJ/8rLFEM4/wIOfNUUF27/eG5+u4RNMhAQCAQCgf4bFMP3WwpU\n",
       "Lw0EAoFAoPbF7GObAtVLA4FAIBCoABT9+y4FqpcGAoFAIFD74v65SIHqpYFAIBAI1L647lcpUL00\n",
       "EAgEAoEKQHE+vaZA9dJAIBAIBGpfHC/LFKheGggEAoFABaD4unkVBYFAIBBovDj8zFOgemkgEAgE\n",
       "ArUv9sM0BaqXBgKBQCBQASgOwyMFqpcGAoFAIFD7YtcdU6B6aSAQCAQCFYD6l9naF/MgEAgEAo3W\n",
       "d93UgQSBQCAQaLQ/Fiwg0qpwdswAAAAASUVORK5CYII=\n",
       "\" transform=\"translate(548, 3)\"/>\n",
       "</g>\n",
       "<g clip-path=\"url(#clip00)\">\n",
       "<text style=\"fill:#00002d; fill-opacity:1; font-family:Arial,Helvetica Neue,Helvetica,sans-serif; font-size:12; text-anchor:start;\" transform=\"rotate(0, 575.063, 340.752)\" x=\"575.063\" y=\"340.752\">-</text>\n",
       "</g>\n",
       "<g clip-path=\"url(#clip00)\">\n",
       "<text style=\"fill:#00002d; fill-opacity:1; font-family:Arial,Helvetica Neue,Helvetica,sans-serif; font-size:12; text-anchor:start;\" transform=\"rotate(0, 581.984, 340.752)\" x=\"581.984\" y=\"340.752\">3</text>\n",
       "</g>\n",
       "<g clip-path=\"url(#clip00)\">\n",
       "<text style=\"fill:#00002d; fill-opacity:1; font-family:Arial,Helvetica Neue,Helvetica,sans-serif; font-size:12; text-anchor:start;\" transform=\"rotate(0, 575.063, 293.121)\" x=\"575.063\" y=\"293.121\">-</text>\n",
       "</g>\n",
       "<g clip-path=\"url(#clip00)\">\n",
       "<text style=\"fill:#00002d; fill-opacity:1; font-family:Arial,Helvetica Neue,Helvetica,sans-serif; font-size:12; text-anchor:start;\" transform=\"rotate(0, 581.984, 293.121)\" x=\"581.984\" y=\"293.121\">2</text>\n",
       "</g>\n",
       "<g clip-path=\"url(#clip00)\">\n",
       "<text style=\"fill:#00002d; fill-opacity:1; font-family:Arial,Helvetica Neue,Helvetica,sans-serif; font-size:12; text-anchor:start;\" transform=\"rotate(0, 575.063, 245.489)\" x=\"575.063\" y=\"245.489\">-</text>\n",
       "</g>\n",
       "<g clip-path=\"url(#clip00)\">\n",
       "<text style=\"fill:#00002d; fill-opacity:1; font-family:Arial,Helvetica Neue,Helvetica,sans-serif; font-size:12; text-anchor:start;\" transform=\"rotate(0, 581.984, 245.489)\" x=\"581.984\" y=\"245.489\">1</text>\n",
       "</g>\n",
       "<g clip-path=\"url(#clip00)\">\n",
       "<text style=\"fill:#00002d; fill-opacity:1; font-family:Arial,Helvetica Neue,Helvetica,sans-serif; font-size:12; text-anchor:start;\" transform=\"rotate(0, 575.063, 197.857)\" x=\"575.063\" y=\"197.857\">0</text>\n",
       "</g>\n",
       "<g clip-path=\"url(#clip00)\">\n",
       "<text style=\"fill:#00002d; fill-opacity:1; font-family:Arial,Helvetica Neue,Helvetica,sans-serif; font-size:12; text-anchor:start;\" transform=\"rotate(0, 575.063, 150.226)\" x=\"575.063\" y=\"150.226\">1</text>\n",
       "</g>\n",
       "<g clip-path=\"url(#clip00)\">\n",
       "<text style=\"fill:#00002d; fill-opacity:1; font-family:Arial,Helvetica Neue,Helvetica,sans-serif; font-size:12; text-anchor:start;\" transform=\"rotate(0, 575.063, 102.594)\" x=\"575.063\" y=\"102.594\">2</text>\n",
       "</g>\n",
       "<g clip-path=\"url(#clip00)\">\n",
       "<text style=\"fill:#00002d; fill-opacity:1; font-family:Arial,Helvetica Neue,Helvetica,sans-serif; font-size:12; text-anchor:start;\" transform=\"rotate(0, 575.063, 54.9621)\" x=\"575.063\" y=\"54.9621\">3</text>\n",
       "</g>\n",
       "<polyline clip-path=\"url(#clip00)\" style=\"stroke:#00002d; stroke-width:0.8; stroke-opacity:1; fill:none\" points=\"\n",
       "  566.063,384.952 566.063,337.34 572.063,337.34 566.063,337.34 566.063,289.708 572.063,289.708 566.063,289.708 566.063,242.076 572.063,242.076 566.063,242.076 \n",
       "  566.063,194.444 572.063,194.444 566.063,194.444 566.063,146.813 572.063,146.813 566.063,146.813 566.063,99.181 572.063,99.181 566.063,99.181 566.063,51.5493 \n",
       "  572.063,51.5493 566.063,51.5493 566.063,3.93701 \n",
       "  \"/>\n",
       "</svg>\n"
      ]
     },
     "execution_count": 181,
     "metadata": {},
     "output_type": "execute_result"
    }
   ],
   "source": [
    "contour(x, y, bat, fill=true)"
   ]
  },
  {
   "cell_type": "code",
   "execution_count": 182,
   "metadata": {
    "collapsed": false
   },
   "outputs": [
    {
     "data": {
      "text/html": [
       "<?xml version=\"1.0\" encoding=\"utf-8\"?>\n",
       "<svg xmlns=\"http://www.w3.org/2000/svg\" xmlns:xlink=\"http://www.w3.org/1999/xlink\" width=\"600\" height=\"400\" viewBox=\"0 0 600 400\">\n",
       "<defs>\n",
       "  <clipPath id=\"clip00\">\n",
       "    <rect x=\"0\" y=\"0\" width=\"600\" height=\"400\"/>\n",
       "  </clipPath>\n",
       "</defs>\n",
       "<polygon clip-path=\"url(#clip00)\" points=\"\n",
       "0,400 600,400 600,0 0,0 \n",
       "  \" fill=\"#ffffff\" fill-opacity=\"1\"/>\n",
       "<defs>\n",
       "  <clipPath id=\"clip01\">\n",
       "    <rect x=\"120\" y=\"0\" width=\"421\" height=\"400\"/>\n",
       "  </clipPath>\n",
       "</defs>\n",
       "<polygon clip-path=\"url(#clip00)\" points=\"\n",
       "21.7148,384.952 596.063,384.952 596.063,3.93701 21.7148,3.93701 \n",
       "  \" fill=\"#ffffff\" fill-opacity=\"1\"/>\n",
       "<defs>\n",
       "  <clipPath id=\"clip02\">\n",
       "    <rect x=\"21\" y=\"3\" width=\"515\" height=\"382\"/>\n",
       "  </clipPath>\n",
       "</defs>\n",
       "<polyline clip-path=\"url(#clip02)\" style=\"stroke:#00002d; stroke-width:0.8; stroke-opacity:0.5; fill:none\" stroke-dasharray=\"1, 2\" points=\"\n",
       "  21.7148,379.237 21.7148,9.65223 \n",
       "  \"/>\n",
       "<polyline clip-path=\"url(#clip02)\" style=\"stroke:#00002d; stroke-width:0.8; stroke-opacity:0.5; fill:none\" stroke-dasharray=\"1, 2\" points=\"\n",
       "  150.302,379.237 150.302,9.65223 \n",
       "  \"/>\n",
       "<polyline clip-path=\"url(#clip02)\" style=\"stroke:#00002d; stroke-width:0.8; stroke-opacity:0.5; fill:none\" stroke-dasharray=\"1, 2\" points=\"\n",
       "  278.889,379.237 278.889,9.65223 \n",
       "  \"/>\n",
       "<polyline clip-path=\"url(#clip02)\" style=\"stroke:#00002d; stroke-width:0.8; stroke-opacity:0.5; fill:none\" stroke-dasharray=\"1, 2\" points=\"\n",
       "  407.476,379.237 407.476,9.65223 \n",
       "  \"/>\n",
       "<polyline clip-path=\"url(#clip02)\" style=\"stroke:#00002d; stroke-width:0.8; stroke-opacity:0.5; fill:none\" stroke-dasharray=\"1, 2\" points=\"\n",
       "  536.063,379.237 536.063,9.65223 \n",
       "  \"/>\n",
       "<polyline clip-path=\"url(#clip02)\" style=\"stroke:#00002d; stroke-width:0.8; stroke-opacity:0.5; fill:none\" stroke-dasharray=\"1, 2\" points=\"\n",
       "  29.43,384.952 528.348,384.952 \n",
       "  \"/>\n",
       "<polyline clip-path=\"url(#clip02)\" style=\"stroke:#00002d; stroke-width:0.8; stroke-opacity:0.5; fill:none\" stroke-dasharray=\"1, 2\" points=\"\n",
       "  29.43,289.698 528.348,289.698 \n",
       "  \"/>\n",
       "<polyline clip-path=\"url(#clip02)\" style=\"stroke:#00002d; stroke-width:0.8; stroke-opacity:0.5; fill:none\" stroke-dasharray=\"1, 2\" points=\"\n",
       "  29.43,194.444 528.348,194.444 \n",
       "  \"/>\n",
       "<polyline clip-path=\"url(#clip02)\" style=\"stroke:#00002d; stroke-width:0.8; stroke-opacity:0.5; fill:none\" stroke-dasharray=\"1, 2\" points=\"\n",
       "  29.43,99.1907 528.348,99.1907 \n",
       "  \"/>\n",
       "<polyline clip-path=\"url(#clip02)\" style=\"stroke:#00002d; stroke-width:0.8; stroke-opacity:0.5; fill:none\" stroke-dasharray=\"1, 2\" points=\"\n",
       "  29.43,3.93701 528.348,3.93701 \n",
       "  \"/>\n",
       "<polyline clip-path=\"url(#clip02)\" style=\"stroke:#00002d; stroke-width:0.8; stroke-opacity:1; fill:none\" points=\"\n",
       "  21.7148,384.952 536.063,384.952 \n",
       "  \"/>\n",
       "<polyline clip-path=\"url(#clip02)\" style=\"stroke:#00002d; stroke-width:0.8; stroke-opacity:1; fill:none\" points=\"\n",
       "  21.7148,384.952 21.7148,379.237 \n",
       "  \"/>\n",
       "<polyline clip-path=\"url(#clip02)\" style=\"stroke:#00002d; stroke-width:0.8; stroke-opacity:1; fill:none\" points=\"\n",
       "  150.302,384.952 150.302,379.237 \n",
       "  \"/>\n",
       "<polyline clip-path=\"url(#clip02)\" style=\"stroke:#00002d; stroke-width:0.8; stroke-opacity:1; fill:none\" points=\"\n",
       "  278.889,384.952 278.889,379.237 \n",
       "  \"/>\n",
       "<polyline clip-path=\"url(#clip02)\" style=\"stroke:#00002d; stroke-width:0.8; stroke-opacity:1; fill:none\" points=\"\n",
       "  407.476,384.952 407.476,379.237 \n",
       "  \"/>\n",
       "<polyline clip-path=\"url(#clip02)\" style=\"stroke:#00002d; stroke-width:0.8; stroke-opacity:1; fill:none\" points=\"\n",
       "  536.063,384.952 536.063,379.237 \n",
       "  \"/>\n",
       "<polyline clip-path=\"url(#clip02)\" style=\"stroke:#00002d; stroke-width:0.8; stroke-opacity:1; fill:none\" points=\"\n",
       "  21.7148,384.952 21.7148,3.93701 \n",
       "  \"/>\n",
       "<polyline clip-path=\"url(#clip02)\" style=\"stroke:#00002d; stroke-width:0.8; stroke-opacity:1; fill:none\" points=\"\n",
       "  21.7148,384.952 29.43,384.952 \n",
       "  \"/>\n",
       "<polyline clip-path=\"url(#clip02)\" style=\"stroke:#00002d; stroke-width:0.8; stroke-opacity:1; fill:none\" points=\"\n",
       "  21.7148,289.698 29.43,289.698 \n",
       "  \"/>\n",
       "<polyline clip-path=\"url(#clip02)\" style=\"stroke:#00002d; stroke-width:0.8; stroke-opacity:1; fill:none\" points=\"\n",
       "  21.7148,194.444 29.43,194.444 \n",
       "  \"/>\n",
       "<polyline clip-path=\"url(#clip02)\" style=\"stroke:#00002d; stroke-width:0.8; stroke-opacity:1; fill:none\" points=\"\n",
       "  21.7148,99.1907 29.43,99.1907 \n",
       "  \"/>\n",
       "<polyline clip-path=\"url(#clip02)\" style=\"stroke:#00002d; stroke-width:0.8; stroke-opacity:1; fill:none\" points=\"\n",
       "  21.7148,3.93701 29.43,3.93701 \n",
       "  \"/>\n",
       "<g clip-path=\"url(#clip00)\">\n",
       "<text style=\"fill:#00002d; fill-opacity:1; font-family:Arial,Helvetica Neue,Helvetica,sans-serif; font-size:12; text-anchor:middle;\" transform=\"rotate(0, 21.7148, 396.952)\" x=\"21.7148\" y=\"396.952\">-2</text>\n",
       "</g>\n",
       "<g clip-path=\"url(#clip00)\">\n",
       "<text style=\"fill:#00002d; fill-opacity:1; font-family:Arial,Helvetica Neue,Helvetica,sans-serif; font-size:12; text-anchor:middle;\" transform=\"rotate(0, 150.302, 396.952)\" x=\"150.302\" y=\"396.952\">-1</text>\n",
       "</g>\n",
       "<g clip-path=\"url(#clip00)\">\n",
       "<text style=\"fill:#00002d; fill-opacity:1; font-family:Arial,Helvetica Neue,Helvetica,sans-serif; font-size:12; text-anchor:middle;\" transform=\"rotate(0, 278.889, 396.952)\" x=\"278.889\" y=\"396.952\">0</text>\n",
       "</g>\n",
       "<g clip-path=\"url(#clip00)\">\n",
       "<text style=\"fill:#00002d; fill-opacity:1; font-family:Arial,Helvetica Neue,Helvetica,sans-serif; font-size:12; text-anchor:middle;\" transform=\"rotate(0, 407.476, 396.952)\" x=\"407.476\" y=\"396.952\">1</text>\n",
       "</g>\n",
       "<g clip-path=\"url(#clip00)\">\n",
       "<text style=\"fill:#00002d; fill-opacity:1; font-family:Arial,Helvetica Neue,Helvetica,sans-serif; font-size:12; text-anchor:middle;\" transform=\"rotate(0, 536.063, 396.952)\" x=\"536.063\" y=\"396.952\">2</text>\n",
       "</g>\n",
       "<g clip-path=\"url(#clip00)\">\n",
       "<text style=\"fill:#00002d; fill-opacity:1; font-family:Arial,Helvetica Neue,Helvetica,sans-serif; font-size:12; text-anchor:end;\" transform=\"rotate(0, 20.5148, 389.452)\" x=\"20.5148\" y=\"389.452\">-2</text>\n",
       "</g>\n",
       "<g clip-path=\"url(#clip00)\">\n",
       "<text style=\"fill:#00002d; fill-opacity:1; font-family:Arial,Helvetica Neue,Helvetica,sans-serif; font-size:12; text-anchor:end;\" transform=\"rotate(0, 20.5148, 294.198)\" x=\"20.5148\" y=\"294.198\">-1</text>\n",
       "</g>\n",
       "<g clip-path=\"url(#clip00)\">\n",
       "<text style=\"fill:#00002d; fill-opacity:1; font-family:Arial,Helvetica Neue,Helvetica,sans-serif; font-size:12; text-anchor:end;\" transform=\"rotate(0, 20.5148, 198.944)\" x=\"20.5148\" y=\"198.944\">0</text>\n",
       "</g>\n",
       "<g clip-path=\"url(#clip00)\">\n",
       "<text style=\"fill:#00002d; fill-opacity:1; font-family:Arial,Helvetica Neue,Helvetica,sans-serif; font-size:12; text-anchor:end;\" transform=\"rotate(0, 20.5148, 103.691)\" x=\"20.5148\" y=\"103.691\">1</text>\n",
       "</g>\n",
       "<g clip-path=\"url(#clip00)\">\n",
       "<text style=\"fill:#00002d; fill-opacity:1; font-family:Arial,Helvetica Neue,Helvetica,sans-serif; font-size:12; text-anchor:end;\" transform=\"rotate(0, 20.5148, 8.43701)\" x=\"20.5148\" y=\"8.43701\">2</text>\n",
       "</g>\n",
       "<g clip-path=\"url(#clip02)\">\n",
       "<image width=\"514\" height=\"381\" xlink:href=\"data:;base64,\n",
       "iVBORw0KGgoAAAANSUhEUgAAAgIAAAF9CAYAAAB22QBFAAAgAElEQVR4nOxdUbvjLKvVzPzg8/3/\n",
       "Z+K5aDWoCwQ12d1vWRczrUEg3W1AQIz/+9//pUCQUir/n+cZQgjl/3ztPM+QztSNnammozTttfM8\n",
       "Ozoqp5OZzkq3Fz15n3oenOwX/5pXQHoV2amnIzyvSxdNEvRJIfVjDY/6Wj/WytHQi7yU9Nzc6956\n",
       "GkSn4cnJgWNIDjNXw5Obx8FK/1M8PxExxh/nSem5uRxNBGPvARX//B7RSGMxxus10BXJQTwkORK9\n",
       "ZiyYeQFdQ01/HAeU0/I44nHRlLkXT8qv5XWNXfpU/Bh9OjkRyAmxk1neH8elP6HpZBP++VpFX/j1\n",
       "uiLZrxGHw+FwOBxfib/ZO8jQrsLO8FrpxkS8zvNN914XnkcZCMd5VNfCQVbc74nZL4ErszOEFFvd\n",
       "8mo7hPTW42jmpZQ6vV588txY0R/oMzjPkG+zyCE8L70IDeHX6lNeE32u67Wc0Qo/T4ifEhEo9/Ye\n",
       "i/GRiAD9LDIiiVB088GqbzoaEWwrUO1K/46V8m/HymfCrcSl1xU9xwusqi38pyMCDF1+/xMRgfaz\n",
       "0PFC98bTH8cB5NRzQ3itri/Zr3ujK+trdd2v9I+j16ddSdP5XTTi6OVQ2R2vI6/q5QhCaPmTa5XM\n",
       "A0c7uIjA39gGlarv9/hLlh+18ItXMWvFgB9GtprndQM5tH4cR3mdp9byslGNlATqHxIdyw/lWOa3\n",
       "j4EYIyHLjsxb2ZSKEc4OzYs4VnTUUJf7CD15ez/gAoSN+kGkdP06jCjfsdmQfYydc0A8LUw/CYte\n",
       "WmPmqYG9PNWGWpqn5JHfa2Vy1+AY4P8JjkAwOw5AL5IG4AxvLec1dMQ+PF85CUGjj+BUDO+t/+zK\n",
       "fcTe8PZOiPxZtDZP0isgx0q67xCFiEBIoU0cSKujM5z9ip6smml0IIRXhIBGB1pegVnhV6/JvD5K\n",
       "EPNFOUrQRRmOKgefxXSr5eJ4GKIEgj4oSnBdq3kMV/ggSiDSo8+HoefmSvxR7v51j7Gai3jOyObm\n",
       "Vu/Rqp7KATpyPC1jHFajDP81WO5dY/TRGLtYWDTe9P2yIwCui8Z4IHunI9Ab3Eljyaz+r1WwwlCD\n",
       "VTkylpTnNTY23pI+dBVfxoTVP41otLKP4yh60ygAjQDQaxX/o9dVjAgQXl4j4HA4HA7HF0OuEcgR\n",
       "7GbFjuhDYOoGGl55pXuG86JrrlG+Z6hD65VMsALv76PnAVeYV6iiW4GfYG614i01EX26oF/hY33Y\n",
       "vH4VXeijDKpVPIkQfEREAPHM/w9W4LsiAkPaJqpS0XUj+sgBh5WIwqemELSreu2K3jRfQ8eszldX\n",
       "8fS9iR7QcSv1lv9TEYEgXMNjQLYyTI/C5nl+q89xRMi344/qBpoVMlrFS/pUoX5pxV504Hcs0BQH\n",
       "2hmA5qF6ADEiAHj9lX5w7c3RcelLRusGWl75KRpj7OlSAPOyQZR/VGjuRVeRVEU2HW11r5d+dC4H\n",
       "StXRkwGkjwiWMGlmT1L/EJBRMxiF3UAmFmrzYXp/Ah5zBLSylUb5MUdA0PnTHIGgkF2PAV4aQ03k\n",
       "IQegvG95CMWFkD4yfC36GO8tCPxH9QDs3yvKMpEcdE23a6CpuqcJhVHdQAihihDQ1TyNDlR05Bqd\n",
       "h6ID+VoXJahW0dfugtf/EdcNZNnNKj6Es8vPo1V2HaG4ZLX0uZigijxY8vqD3QZsdIHqCla8PxoR\n",
       "UK7UucjB7oiAOnJwDXZDKJrAQRtlgHN/e0RgYe6bWDVfa8S3OgKCDhpeP+kIhAF9P4YNj0o24NWu\n",
       "XGtDGir+XG+BVna1vx+s3su1bgzThdCs4mPPE+3lp3MrnjRaIO4yiN01MSJA6wHQroGp7YNnUKcL\n",
       "8ntxa+CbF9ohQHcPkMj7e9rFk33gk6JHem9nqJlJBpFudSwfAal9zD+hrCvV59pJEAt90bsy6Fl2\n",
       "7ziIhn1HceF149Vn8dOOAPpu5S9vxzNg50A7X6OPxNcS2pf0qsaUBn7VDZDmG8xxP1drzA1GX2Pg\n",
       "tWNaR0BLrzX6nB4/6QgERo7sCAB646qf5QXC/5eBlKMRmZ42BULGFRntPAEWEIIUQp7f6YNkKxoE\n",
       "Uadi5Ey0esExkAbwhkIOh8PhcDgq6GoEkGeprBvIyCvW1psKIZSUQL36F/oIFJ7v+YzMMgbWNbGE\n",
       "/a+VOjs/xc7dv6ITpGFO2x8goNX/RVZYpvZNrZdqvVRPkwbnWP0A0OpdDIM312KMqijB00DfMRhR\n",
       "0PJb1WdxPs9Yx1m7ol+dPxsREK8N+Jt4/UBEoF1tj/hf/4OxQZ6ek1nxoqmEtjhPSjOgVTmJMtgj\n",
       "FIDeEO2gsrUFgRZdh/QmXWP4mxXJiG0unGC2bgA9yA+6Xz+zHKYG2vQCybWbOwu2dJnjodpdIDUP\n",
       "Cok0GQLNg6gT0dKjXQawziAIoXiQLmh5acLz6TWhksnNFfV5IjXAyQHOQQh9GkGjj6TXHakBrdOy\n",
       "6txI8y0GeXbuE0YfjWkdgTI+mLvqaDzhCPRGWOsIgGuGJj1B4sWkAZADEALu7Y90paF8OrejR+cK\n",
       "tDn5wDc4qjsdNrKJnCot0Yb6yXkByElgzyaIuB5A1UeAyGFrBF6pdeYaGhPqBtAKPxyhGGioQ8OL\n",
       "Og6oEdHFtxQcFH7dDzvxP/bj6A0vaihEixJbZ4JGCXTNgwRjP2hOtLO4sEWMfeEh1HFgsFcdAU1E\n",
       "gOpKaTXGuLwGD8OnHIEV50BrSKXPzoKfdA52OgJojDP27XuNYeeu7XIE0Fj1v1F2zwPwHRT/IQPd\n",
       "8WqjwshJkKILzOq/M9BCPYDomNBrwv1SXqgxUHcfxu2AyPHR1gNoHIFr/eo1Ag6Hw+FwfDXEGoF2\n",
       "P2MZZjxLVDcQAh/qp2cLtHJiUwCQYur5k/d9xIFvRFSlC5rw+Wt+nlN7t+je+HMC3ivK4lkKSCEE\n",
       "rmahe1MPdJeGcvrBa/Vbr4JHIeciO98jiEbsBrdSX5GHeKIowZ1YWf1r7537rX9taoC5polGjFbq\n",
       "Gnppvnb1z8mmK146X4wgXFN7em0aAKzUCz2IBFy8QidH0hXyV+iKZKKQv9RiuOWFWgxrIyd9tAOn\n",
       "MdgDj8DnOvw7gwjI33zDGdQwSqcCFno6xtQNDIv/jvyfvMWQpi1CCNWJhkXXRg5qREQ/hNaSHsfR\n",
       "GbPzJfxFJuXFQQg+tPc0CueTdMHrWoTpgksOoRP463StP4wYcWoA1hKE2s+gxvXXpAYaftw1xNHS\n",
       "WdBTA/N0aqM/OVdjsGfp8vtdjkD1WjA2OtnAaEwU/1HDnHmU95yTwMjh7o0zvO1YZTzJ3Ja/9r6R\n",
       "A5CvcWcB0IY/1r4A9D7aexrVA3CpgXjg4sU+IkBsQXkYgop/9IXqjP1l4fV1AyFUpw/SnHxXqEfp\n",
       "329ah+Dl0NTRAcnYXEWAF47LDwjouOM6mhAqi9j2Pqhy8sTAwxMJXxcLMxgYiN0EMUrQGriU+OLC\n",
       "Vu/2GuLZXSeOyTW07ghoIgKccyDp32JprBt5jxuchp10KwZ8hFUDr6WbNfArY7uN/qojEAZ0rZza\n",
       "mIWOrlxjKs3RGGfYoQPwvogcgEyDVtu9THBvxPB29FXBHrhfYKA5fWLsc/eVoQYOAHet0l9ZD9A5\n",
       "N9J9S04Oc01uKNRUEORrtLSAPnBg+J8o3d4wR08LCdt5VH7lEJzMtRACbVP80od/0Bzh6AxjbaTz\n",
       "tYtXmSs2FKLzYzfSOj7YUL/pB7sNUJQghFB3QUSQPAjabnkyhZBxhzlaMfp3pTFYIHmbjTT6fu+6\n",
       "zxWHQu0IGOb/tNHf4Rxw8yparYFm5fC6jlbBrRMCjStT/V9kK7a0BSi7loM6+cnGr7Y7hd6wxQ45\n",
       "JmhVTh0A8XNVNAiC+gCnQooIIDmwyVBwOBwOh8PxtZAbCiXglYbXqhN5lqgO4DVwrVhHdQPlfYm9\n",
       "52lX7r5NPZyhLzws9QZMz4C2HqEL71PZoG7g6mEQrxWeqqEQ3sJ3RU8EVOmCF7U2XVAuZc8S1Q2g\n",
       "UDxMG9R86Spbk6dvUyOtPi3dr00NLNYIwLkqKky3spIfQctZHRFg6O6OCKCx3at/TURAs/pn5xY5\n",
       "PQ1X0C2tqJE+dJW9UgdQZHerYEA32srXjQn3RvTBaYA8dn1OqLfAJTvUvEDoHtYNKOsBUCSgpddF\n",
       "R2ZSAxngmGB0oBAX6q/SAELdAHrgS30HKE/uACOa4qD3dl439abnjc15nt2T7vqREMtLdipAx6Ih\n",
       "p4NdTQQI5/fFefhwI7k50aVGeKvSGkL4HUjXfaNagos/b1QliFkJAs5oiw6HYn479nS6ABmkpQLC\n",
       "PWotYdXoa2l3G3iNE6I1xhr+NPws8ZQf6r2unZyBMUb6dAYdGNJQ6XPJ4nVF83o50NEI2PiJupJr\n",
       "S2cNgFqCEEJV6S+F7qu6AYMjQFMPaB5KDaCjifP9I162FsPEGJQHKskdSyt8Td0Aei9tN6yupXpu\n",
       "0SvEbitiLaOpHwCfRxURAM2MLqN/cYxkbqZr6amhvhyGWj70G1qCEMIwSvAeKH9KEo3I+rRyYmRO\n",
       "MlTWErT8C4V2pU+coZZOA6q/db7WYbCOWWh3Owd3YrfR1xjjp8ZURpy5BukZHiPnAo8JsgVjDHl2\n",
       "zgGgG6z+rXUA+f/O8Bp3LKCdBMM8PeuYyDIv+uuzkVbsXbQA8IJyhKiC7BQBvkI0JUZtRKC5hroI\n",
       "nuHkV+ygMBClC6SIANpuSOVVuoU6lN2lAQKOErym9y2Gu1V9qB2ZDLpDoKzQwdwOCTkMmRfeZZBp\n",
       "tVGCPK/wIl4CNdqN8P6+gXNwcUogWjB0ZYagUsqX1yMCZrqnsds54Gh3G3iNEzIy0N17hTOhdwSu\n",
       "9+2DntJKjglnlDv+oPr/4hUq2ZKBC/Aafx+isayMH39viJemcv/lmBw9D27XgHAMcYjKVT+9JkQV\n",
       "0DxUGFiiBH76oMPhcDgcjhHYiMB5nqKni/bto7qBzKtLDVAPlClgyXw5Hm1koJpLwtdtHwQk85qf\n",
       "qm2GWYduFUyaJ0nbDNtGAlzOv8zt1OpX1MN8ekmTvN/SCEEbVQjX9sSOcwT0o5Vym6KJaKVO9Clj\n",
       "unTBFfmoEWOcjhIgaCMH1jEL7e4owZ3YvfrXrMqfGtOu1MmAyMsWERjQMSlNdkXNysYr6TZiUOmz\n",
       "oQ4g/4/y7zKvmkcVIgcraumzQNc09yZFHEb1AGy0A6QxxIZCIFJBowrw3gCv7vRB7iCgEOqHC6rc\n",
       "Lw/PJk8MUwOUH+hIKKUGkEPQOh+VEWlTDylUXQlDCOzuAqofRfXDKzYf9BFocv9coLxLDQx2GRRa\n",
       "Rbpg1JwohvrvVof3G3picKWCvUr2yGMpmozBGeiUUu8cGOa3Y59gSD01oKPdaeAlfVgaYcGk4Y8d\n",
       "AX6eFD6ntMhBYY0xqtlC9KPQPWtcsdGTeCEHIARcD8AZ744/2Q2ADHTWqzXonLOS51+6ho6ntiCQ\n",
       "vQZ4UHmIF3IY8vuOFzx9MK9u/w0iAqByH9YNvF7IEYGWP/lSShEB+r51Pip+oFiwsxLNSrbCEQLa\n",
       "XRACY/QJC5T7R7l7VIdQ9OpU6mMCKErQGr2XsczGPqsAigXJZ9GffKiISDSyUS3BSwfB+QqNw9PQ\n",
       "IXlw9d/Se0TgFuw2+hpj/NTYyOhrHYD8vh/j5yEDDemQDoIxLnSTxX9wDBr0/r4RT1S5zzotQI6U\n",
       "p6/vDeiD9FLIrB2g0MsMioiAIvIAeQzaG0u6Fl5/LmfBawQcDofD4fhisNsHs7dAAVMDZFXO5vpj\n",
       "PyaF+o9w1Rt0vBA9yeHDPgKN/imkcB5krx+hD2cbGq9PJBxtM8zzunMRKtRr6hRQ5ACE+kHoXkoX\n",
       "iKtfki64Vr91pAIt/2NkUhQhiBECUQd2ch974Fbq6hVwbO6RXvoFqYGf4jfivTLXwu+ulT5a9Uvz\n",
       "1aty+BrzrWjAc0a7Ks/vkRxpF0Cr32gLXx9B6HP3dOWrWaUi/eEKWZPDr6ILocxt6duQf1XpT+Rw\n",
       "4fkobV1k9ELV/JKc1pZW14RdBjA18KfnLxcL5vBDk3+ngipjzp0+GK59/qWmYBDqbzvycXUD9D29\n",
       "uaqPAHoodAV4JLXQ2B9ULEgPMpK2GbYdDuGWv3TtMlQ9EmFsHgw2Ro8rVLy2FPJWv6oLKCLqdEzV\n",
       "ZTFzEgr2OCetjMFDkHBiIkbd6YOSMaz8kvwj+QWpAa2MFQM+gpb3Kt1OR+A9OKTTGmNM3/Pu6GeN\n",
       "PhHQ61Ab4ULD6BpjrwcyYkHQp5IJZIuOAMndD+kHBXXUQEu8eqcosNfwZ9Hrqq0HsNCjXgSoHkD8\n",
       "LMB91MWCzA8OFgueg4iA4gtOb0jTibDlxdFLxga2E26cFtqZsI0moFU9PcgoayYWCw4S69fmAp3x\n",
       "LnLEKEEtIzHiL0PeRB7IjERou86F1a6D1sFSOjcI0LepdS2kSSeJm9+OcbsTGnW2YcXoP8FvxHtl\n",
       "roXfTqPPGXONE4INtJKeiZyqHQ5BNjKWhLinHzghrcz6GqDXFOwBnpAX41Rwhk7W9T0XdBbs+gMA\n",
       "4/pyVvC9IX1G9QCqvgDE4dA4WKqIwB9QLBijsbNgLqRMqOAFjKVLQemoYU0nwlG6QBqD2wdbunSN\n",
       "02hCuY+GvDb61z21QCF/nC5oFCEGWPWYVEYJBv5Iz7ONEgAedNcBLQAMIVTFkdYUAjLaV/SCU7ie\n",
       "n5jdJCuyV52DFSO9e+6d0Mq7wzlAxhK918iW6Ks1DnomculSpRxq3JDD0RqGahw+o0NFP3RCgFHN\n",
       "OiDjhAz0JZsz1JiebemLnITjgM4ESx+vZ7pkXIc8FNdQGgAZ7/YaLAhUyu4/H5neiwUdDofD4fhi\n",
       "zLUYNo6xzYAMLYm5uoEsz5KHfnUYxsV5qFiQnnwoFgHmjzJd4XOxbgD2CujrB1C6oL3vUbqg5XV9\n",
       "Ftfn0/YHQIWK79t7Xwcr/fbrQAavVXZ9P0h2+7rQgZV61q+PRqROoU6Hjt4umxtDBYncuHalv5L7\n",
       "/y+kBtpVroWndqXP6cOt/sVVuYI/WpW3q2YqvxoTiv/a2xgW/wHZbRSiWnWaC/YEXoboQr1vn48q\n",
       "oJw8WhmjyAPsI8CsysXUAFMPIKUGYIOgRtdRGqCM/enlINm21AAZ145lQeJRw8AhsNYNtDJHY1ws\n",
       "N8bYxb5TTJ0sWgTYFwte3QlhakB1ImFLcCmkDu8r0wXjKxwhMPCoWBDWEtSSkGxkeEVj1lyKMTLO\n",
       "ASBupJtlW6A0+ujvoHUYsNh5Az4DtbxF52D0m9c6AJw6Ii8h3Sg9E6Fs5FwQQ4RrrrhnNHZMJEPd\n",
       "y7bvAuD4irzoPCGPXv3ffD6wbmAU6hfqGbq0gfDZcY4Mdx9SaoDuQKgMuyVNApyJEf28I5A7Ep7X\n",
       "mCXnT3m2OXzux9LpIZ4qKI+huoGOVqgbqGgimNtuNxzoo7PC6/UDrYF7RQkY8hhhlKAjzIi9RnSE\n",
       "1hKEEJqGQvl/8r0w1hRAwAiFlriegJwD9L6l76RoK/9VVIufz51QGnO18y6Mc9etRn/Iw5jzh7wY\n",
       "/rV9rw1KxV9wGKiekhEgDLprrcFG+rAGCDgA+a1oSM3Rhfb+sTNR/m/plfUM047ARl60WZJ2h4BV\n",
       "n79/mtTAaU0NkIe5ZhdACbmcgV2t0VA8kg23iYF0ATePSxe0sqV0Ae0/UMZAqoIa3NeLqzADhuDb\n",
       "ivyJtIG4ywAU28WaRRXyb/2TGIXTB+nf4bpdvliQkoLBy/BS5+y6z0624juLUh2XrvL863X/IFen\n",
       "CwLjmBrmz9I9jZHRlui0czXze9s3cA4WC/yq9yK9oBcI+UOHAUUJwtgJ6Y1BrwdnoFv+ko6iARo4\n",
       "FVd4vucpGctLn54e7RrQpgHE1EDox7h5XEFge43qqtllQNMAYh+BZuzP4Z0FHQ6Hw+H4anSpAZq2\n",
       "7zysN6C3eZATCbWpARJ6p6A5ea03XsZW6gZeDDAtE7pPpJMAPNOgQ+qXAgPynemCa5V9rYz71fGV\n",
       "+29X8yklWR2kHqoleL249EJFiV1NQQj0PkM3ugg5M9B9dmVawp869x371BX8btwRERjxXF39I7rZ\n",
       "iEBAz8kIeChz/9dCt5cpPqPBqrzjSVfZwrMXrfBr/mN6dRrAEl2o9AH0gkxtPQDU8X0/7DUrL6Cr\n",
       "eruhlj8Y4xsKhRCSxRGIseoz0F1rXldjKNTaVJpzerRYqRsIIcDCwIoWOASdrgNrrPIXqgm9TIlI\n",
       "Ra7m31+c5p+h6E1gHFxrXCRh4ByEkB0mS2j/Fk0/Dvc4AvPzZxcJ6mcQfE72vNnnC3xO9vqPnqfl\n",
       "PTQCvT6tXvAZLRrqS1eLgRsbS142dCo4+kG9xBbjbb22U1dQGKjR56COwHH8CRTXyq/f9qbtxlbe\n",
       "n/y1akw6hrg5OwDKAfnhKhd8Q91AtaKOva4o13/NO9+vs0C+KG+mfqArvAN5dQ3/Xu+6LqH7m6ak\n",
       "yt1rtiSyeoNCw1av7gIBd4TyylhKCdp21tmEPBGdzpB+aoRB7wjo5454WvL72rGRsWcu8Uaf4TFj\n",
       "9JETUWQ3fOECbpCn5+RwhhoZthH/Si+iM7trABnLg3EOGv60HqAdo/TimLBiRzxVOwNCz4vm+Tld\n",
       "jz/yscUogvCnG/vjNQIOh8PhcHwz/pZtgBklEHCE2OR2M6BnibxHkCoQvc38HuTAUkiiTHHMkL+F\n",
       "46OFTVPrQOsGWhrqidKLaJvhEBP1A6EaUcroJvDJgencfWEp1wPElr66MI7jm9MaCsRoTA2YP5Sh\n",
       "BlqGj0IZEFD/jkPQ/5a3jknPqipY0D/HEC+Oxyj3j8YCGgvCip2JmIwiAq2cGHu6ioe2DiD/L0Qv\n",
       "pOgCDbFrUg9B4j/Q1ZraUMlWfk4oAmKiz6v/6tpRePU1AqRakE5+D/U3R8bQa+6aSE96+9dfxlpV\n",
       "9Q9bWTfAjaO6ATi3ynmnbux9gZGdw+VGh8BYP2CaNpQzNvvm3H1l9Q16s4KwjorU/33YLvy3pwbA\n",
       "b5b5QG43+q9Blqa36+SaMg3Q8VhIA0CjHRhDDRwTyXhgOYGlnzWWgXNaBGPZ5diZ3Lqo6830rK4r\n",
       "spX1ADJ/cOgQ22IY7KkeHclq2fuvpif5/fMqJnhf6k/76+4D5cU31A3QEwpRrYPUd6DQDY4mfhOZ\n",
       "6wf6vD66n/x/7HLx0mdBewWgPhB92QBYLQ9qFrqxUS3Bmyf8fnZ9DZrPt9EVDHZDK0cTW2hRrwPI\n",
       "D/xWPwEa5zkEg4E20GoMPD+XpxELiZVGXzLGHd+hc4DvgzPKouzOaPA6coZaY+BCw5+b13bTk1bU\n",
       "0tG7XD0AGiuyQT3ATIvhEEGeXtkgqKoROPT0VFdYDwDaDsudBbP3kepewEeMZUdBoUVfYuGamj71\n",
       "f8zrItBZ+2NfXHGgFX9FxyxdqxSHcjV/T5SAEkf7NDohA07kYwJrqYpeuGqhLd6kbqn+o9EEhM/0\n",
       "A1hjrqFbdQRmjT6iY3/jDYP+OYYdB40j0Brlmm4wN9QOh8YRCJUx7u8H8toQ/mfnUYcJ0Stkj9IA\n",
       "otNivLetstuxw0hv5R/99EGHw+FwOL4axrMGckhBLtwTr5Uogy2CgHLr6LwAdUSA2cxvWZ281MLN\n",
       "jwhBL6clUxb93RcZ2FBUmCeqVtr8Kns+GoGFs5LVy/pfGiX4ADwVEdi5+g8Br+I5JvWzqueDnm3S\n",
       "qrwdQ/zhSl2IPEgRgVBdk2TzK3bNSjQI/Kt59FnK0Y+iHSiCsGHVbKWX7u32FX43dhUGIvqtxxCb\n",
       "zhoIoeoz0PKCOf8mt15dA3UDHE8xD33o5qI8PapZQDn886hrHUZ9B6z1A5Lscj8K/uRjLY+ZGAdn\n",
       "DbRjqF5CueugfFEHf8MiG5jjvpQgO5bK3D/9zEKrfzUbzMXAjqm+xmCW7mmsOALQahvm17a7MZKD\n",
       "hYPV2LNyJKM/lBMrEmRQajql7M4IAP7IEVCGylunRsMfGfYqt66RrQyfizUCg3oAqUagdT6kkwO1\n",
       "nQLR2QGQf9Mz4KjG/pTPJ9P82DHEHA9LJ8LqdeqvXUT8fYzGXtP1tC24Ew1HMkbbDQWJc9sODfwz\n",
       "wXSUQJSl47pFdmGgc0KgvA31BRz+ixEF7e8GGX31XDwdGjHIWyG7Ihd4aZ6JYfRMbMgqYwYij5Zn\n",
       "dKgMKOAPDDQnhzXsE/xrB4LoDxwASbbGEYBjRicHOS0WJ2eo64ZOgTQCoOE15wgc8ZYCwtG1jg49\n",
       "zBfSBSGEauviiJbjCQ17K+OlZIHmmGOMybSBkT8lMofxVRN1XKdldwzsq/qIBvmpDCEHnWOim/kh\n",
       "MP5uJqby86Xfv/BMQbJHq37xmom+p5MMCqIbyUYG+rqGDeOQ/mI6xf+laz9PY/wqx2HWEbiDfpAG\n",
       "YHkxkY27782LBR0Oh8Ph+GKs1wicvUd9NnTo9MGqbuCdCzn/8TUFlIe0b7/TNd1TN5D1o6D6tTpy\n",
       "dK3+qO+AuX7gHXGQ6gcosveq4V9khCvfnq+NFnElYjKoWbjk9Ov/lgdVCp1zMNKhoof1ANUyrcjq\n",
       "+Br6AKBxtALGvQ4AQ8vyGekj1Bhoo2FaIHYWGerUnSIKWK3AR3UDzTh8rY5sYr4VjTINgFbl+T2S\n",
       "w64UmTSAtLK8ZOn497qCeZqCOuWqeVQPgOjy/9IYqgdo9R/1K0BnBrDXmN4CmeZPWw8QY+GHeN1T\n",
       "I1Dy/FdL4uxaoNMLudchhJLPoF0NOdpubEPdACvngboBse+AuX5gQ7pANbEmHGYZpmXOFectmbCF\n",
       "FMJQ/lLM/47CQOkZsFmS8vdlma8x+oiMM/5WRyAIz0kkm6MbFQFKY60OLzvNP7eR4UVyOGMciKMh\n",
       "0g/qAMo1ZZ5euqai1zga3DWgt6T/sq4K+gNdm+g78EixoNoRIM6FVEAoji3UDbA8N9UNcPrVyuaJ\n",
       "dOhT6wdqOSH0TX2mnZDh5LGkJceEExPCknOAKS2ytZMteDAisOBUv4lV8/F6QDLUxmfDwEC3OojP\n",
       "vdnVPxFCHYD8XnQEGMPVjiEHIP+nNbjlf5ogD1sAACAASURBVM6QgmgBlg3u427HQUPP6K/iNdky\n",
       "eFQYaNXHawQcDofD4fhisDUC53mKEYEu5//n6Hggvui9eO3s6bh+BSEEWJGPVuWWiMBxHLBuIOuk\n",
       "rRso/5P8fx7r5mojA0JIvdz3oH6AyxHHCOoTYH77ktOn7mOX2NacaVCNwdx9q0OfP4fnHFwX8evC\n",
       "r/7s6qm6egB0dEHWS8MTR6d0qQFLb4Edq341D2MkTTNdG2XQjHGr/vZa/ZrniVb/lsiptPqnssXV\n",
       "P1i5IjlwFQkiDZyOMfIh8oAiCIQW7tHnIghohSz0+9dGHEbRCA29+iwA0O+f+ywojz9djcABeVl0\n",
       "FWsE4IdBrsHXJMdfKRZjdXIhmsteE44yFucRA9nSoyONOd4clkOcQeeYoPi21SHoGT6RLuAnqFXl\n",
       "2Kkn65Rd0kfDuIUytWBhOcdtIxYNvJbdTqMPx9TPJ55HRQfSERZHAOmDZIuOAMrTg/m98cN1AJzs\n",
       "mYJAXrbO8Ipjg3oADX8xHTFbb7Dl7IC+GHHWyYkxhr8515CBjhpWOwKd8b5aErcFhBa+K9dCYh4+\n",
       "3ING+6AyHG08guSYvAk6WWWeuW6gZqo7YFmnz3hCRuxGp3Xo2SoIMfGPpuTVJwjudRh2YdXAd3TM\n",
       "fW41+kAh+TmjpBNqkbSOQABjrVFm52Y5gsFF81vnIwrGuBpbKAiU5q0by3l6qD+4X5PslRw+R7+h\n",
       "78ARQbFgCfAfffnAqJ0w9yU7jj/hPP+FEK7Qxj9mS2F+j1IPdHthO49LL6DWxCn1RxrTiIN5q6CQ\n",
       "LkD/I35t5ENsGUy2+YnbDfM18eGbricMs+2QIkahxTDaBsnJbBRDvkX+/oxSCOV9IzLGyG8rJcSX\n",
       "HPAdANqvOgfIIGlTEMiWSeman4TWxVQb7dX56gUNz2uX0Yc6QgPfz5WM00g2a9gZh4M1KMzqH9EN\n",
       "eTGGl2vpC43ZcagcDc0xxCEyWwoj1kdMS0ScBuBkw62C1WfBFwZKbYcpDby34HA4HA6H42vxN7Yr\n",
       "/7zKDgH2AcjvVWPKvgDaa1wNAje3GxvUDVh4IqysgDo9NLyY+gGYLgg9LWa4UD9gkkWJrwnbV+A4\n",
       "K6HWR8NyyPZuPJ0HUEL9u7khIoBCJ/JzRkkHVt7SPImXHKHg+Vcr3WYVPJLNRQK4yINmhT9bByBG\n",
       "EgYRBE2EYsQL6bGTv0U2jF5UY/roiJk/LBbMjsFg14DpS38EeDYBKiBs38PXzGFFiBcc4+oGQoBP\n",
       "dPUDjTnaeIbfz/QdqJlO1Q8Ies1OWKol0IuZJayoKX7UOfgAPOUIaIw+GuOMf0c3CP9L1zo9RPqe\n",
       "r+gIoPC8ILs23rUDwMmRDPtsHYDK8N5kXNGYth5gyhHYfXbAZN8B+j+qN+C3D4YQjpwnBV8oLr9P\n",
       "eWSc50naCIc3fSjRhwB4aesGXjzJ9kHtQ4F5TKfYm79q+6BQN1DkDAwu2lII6wYCs8LHhG8lqEL1\n",
       "Na5dMb99kOysE47vxXPjm7w/HlhqJzxqMcyZ5xj7rYLaFsOolgLRXfTdkHpLIKsXoEPfW+02w6eP\n",
       "Jl4x+gyhej4em5s7Y/QlulaR10Ma6yAZfarbiO6S0xpeWbbK0RCcFe2qWVsPoDKWgqFG9QBq/pMF\n",
       "gUUmOfYX6SMdK/ynu/an4qfhpdL1z59Cv3f7IEOHafiWxBaZo2vsGLN6jzGqVuNDOcYVsfSAXE0X\n",
       "UD4/GiWoWak/m0dSCMtM1zT62G2BSqwaeC2/nUY/hP43NfOc6fiKPGzPSeSYWB2BUGhk2ZJxbY03\n",
       "0nFkLJEDIM27w1Dfpk9+vbhir1sGX06F9d5E/l4s6HA4HA6Hg0LuI5DDECRdkK+FwWv6vqLZXEBY\n",
       "eG4oIGxppZW4Vo529atZUZnrBgrzAQ9jgd9SMWHN6oJ55d1PMNUFWsVNMdb3MFjluE/CJBZX+lq6\n",
       "nat/RDf1DBLpenmq56QyDSBFBGgkQCNbWwfA6SitRLmCQGkeS8+kICz8RX028Lfe26gwcNtnx8g2\n",
       "9RGIJI9t6SMAf0BMAWF+J/0IYR8BZr+4uo1tHmOOHJZCiK1esO3wwNjCVsQNr07XFFR9B0YFhfle\n",
       "tO2Eq5bF5P8l42N0mHA9QD1ZnfWwYjkvoc3zW3h2DAG/PXUDWmOunWtht9PoozGtIxAAHTL6Fr4z\n",
       "aYDewF26IDnI6LH6IWM5SAPQudy1aWP2ZsrlwFX80f57YHi1RxOH8KpV68ZW6hMEXSV6VDfQ1Rv8\n",
       "+QPvw7Z9kEQIUAGhyRGoXl8dCFvZaJ441mwxtMwNIbAnDbYrae3DsKPbbJ12bDfM+Kj6gaCVzU1+\n",
       "Mdi/JleK3iLkM/cirDkCa/x2Gn00JhlsZPzpsJZXR7ew+kcOQB4XHQG0+r8UUtFD4wQcAJFeuGaV\n",
       "LfG/xTHZwKuv4D/UdQYmXVEjJXLNawQcDofD4fhiPNJHgPWMhQZBknetGiNZB1NEIEZd3cBsRODF\n",
       "pOK/Ayt9B0Qek/UDGUu3uPw58SGNrb0JJPEIWz6UGey504WAgOm3COdvXP2jsXplLK3w+3F1RIBJ\n",
       "M85EBFAkIP8Pn9FcJIC5H44erTpn6gCkaxbZEn9Or2X+W88O2HuIEF3tj2WDGoGC4+D7CJBr6JCi\n",
       "QMZerAZ9AXKNQPjzvvavOpOg5dHyF8eOoG481I0ngZY0NbIeQ6ytG5jBUt8BwuN1CTgEYE7+fPC5\n",
       "CPPpAsq3qGEoSIhR6i0AHviDo4l3AX0iMH8P7hF9F7W5/xUDPgO1s6w07hY5K0a/p9PxkAyvlr59\n",
       "DemJ8ZeckG4MFMGhxU6hYYrmOv6ExzZHIEycNSDcG+JvdkyAA6C5t/Y+/lS9Bf7U9/FH13dg1imq\n",
       "7+PiyTsCgAkdL8q+x5LgCHA8utfVqYW2AsIdYyytYHWo4VU/+Fq6n64byOjUYsz4T0YJWh2mmcr5\n",
       "9xt8NDs+douADloX0PL7XJnfjTHPp57M+BzL78P6MxE5K5c/AAw7mY+cEM4BqGQPCgLL/4DHsiOg\n",
       "lK11TLbyBw7Aqq7IuVjlz/UKkK6x2wdfyvHbByNJIbQKBUKHXuuuPV9AyM4HBYQUvz5dIOgg8lAb\n",
       "42ZVnn+MOq102OJMPdS4aDeebSKoxsrv4Q5HoLXwnPGffo5JhtfK67L2nY6SEaC6QP6MA0B11xgg\n",
       "Ntw+6whoixGla9y9bTCuS/dGjPA11p8iuCr7mNT1iN5QyOFwOByOrwbbR4CG4ovn8L5WpQEGWwrR\n",
       "6+E1pkGQxEM1NiggFOdrVuzKRYy42rk5MpBlo74Dkg7iNkM6r/HKEf+2D8Hrzfu7Bs8aUGLj8j3/\n",
       "iVDZwK+IEnwAfjIiEMTnhk22+AwCK2n6XjvW68zLhmOKaARcxStC5bWOPf/lVTOTr7fwGhYqrkYc\n",
       "Jtr85v/hFkEjL5uuoK+BcC1GbR8BZRrA9AMaXavqBUII4azqBdA89RhTQKiaLxXZRV0oXvWQu9Eh\n",
       "eLFV6oDuc0u6AE+k9QRbbn25lgAx65m4c9DjKUcgDOZ39lB49qCxit5Y/KcZywoiB2XoCDD1STHG\n",
       "7gtYGQ2DYXxPUNGbDNbACdlmLFccjYWdAaKuxnoDlaMh9QoAvOaPIZZW/8xOggBez12TDynieFnG\n",
       "TLSw+Dy+L8m18qaH3E3t8XZuNwyFhPmcTPqTiMBdtQTLTHVm3xLP+C86DSuOADLulvnIqKL3Kkdg\n",
       "sOqXrmED3Y7xvOAYk89vlMb6AAeg1bXMExyTJeOtdEI0vMQIxYqjsaGpTwj3HyKkpqc7EJAzERwO\n",
       "h8PhcHwt5voIMJ5u8YLeY1uOFVYeUmQeAzsJLPMLQF78NcyvuE0RgSwjXHJ2wtx3QNBjuN1wMJ+b\n",
       "uD1dcLGu8UCU4J7Znwn199z6mxtPn45GhtD/Zlcim/1KPXb6iqt/OgbSAGj1zsnmQuQdvSJCMbVy\n",
       "NUQjRrzEVMXGiMMs/VOHCLHHCoNIQMdruY8A11AI1BK0vNB71bXBIUUcr+FYzdLuCIQgNh5CDoHZ\n",
       "EWjk7LYQO7YZtrxCIREcA6ND8HqVf+w34BHngAP67szO/BAov+f4N2cRI/9mxeeLwlFfeo51YzwP\n",
       "aHhHaQBgtPN7qYBQa1w52WZjqXRCNLy4wsBtjgYTurfq311bqDeQHY11x2G+j0Bm/B7jdhLkeTt+\n",
       "XNfrvsfAjgLCEIKpC2FHJzySUeX+ND7NIchgHAOW31Sf3z5KYJpuxSO9iFtBNoEf2kZA/7sBZJbf\n",
       "iNkRGDjluxyBEPHqX+UIKFf/0DkI+DkzY1w5OWoDNMjTW3iN6gGWHY0NTX0eO0So6Ix3CHANhTin\n",
       "ots1cLxX88Ptg4aGQqNmQGpHQDibYEcBoZW2o8tOhECeQlp3BC5mZuOEtuS1+pgdgoE+JUpgtFjy\n",
       "59Q3KbrVTlORtwtqBY7wmEImaL/mK785zXxLqB+NaZ9V7Q3HaOMlIcZYGcKWh7T6R2PIuLJymf/F\n",
       "MWV4XsNLTAPsMK4bmvrcfXZA52gMdgggY5/nIWfCiwUdDofD4fhisNsHj/PU9REYbCnM82a9bPga\n",
       "9BjgeFnGXjpHVQEhnJvpRiv1nQu4TygkrCfViPSSov/A9H30ZxossZNF9fjRRflnJgfMv5uJuez8\n",
       "yS1/ZvrqWs/H9NyT6gEiGCNzpNU/HAOrbCTbvHI15unFa4yOXORhOiKwSH9IvDbVG6Atfyw9PdRI\n",
       "E12Ig9MHc5c3ldGXvvSbegzwdPiQIm4eN1bGFQWE7NyMDY2HTPiUuoGeQaeTqSFR6OfLwtqR9mF7\n",
       "Ez7OOfh5POYIDAr+djoCrbWvLxmeiUBvqBcxhq3xo3Rq2YJxRTxNBmsiTy9dE+l3pB42NvW5Xvdn\n",
       "CGz9LJQ7BJBzINGLxYL5msroK429tLUwEccjNU5ISn1uva4Z6AsI8yWzI5AhFBBqcu0jumUji3Bz\n",
       "A6IQdPpaahE4ntrP2KJDfnKPuKzKfjHhhjfw3giplfOKXiuOAEurqPLXjmkXHOQCeikaY/iacQBq\n",
       "h2OgS8APfHSN8pQMENJHZbAWVuXsfQhfCeRwQDpJ9oamPqMtgq1+0ndsJMdS/McZ+0LfjL2KBRuF\n",
       "KgOaJzQPCnb7oGTsFVsLNR8UHCPbBtD9aAsIh3IU8zs6bQHhL4gOXOzv2V3A8twcJXiNgr+pluUq\n",
       "flEN4COOgOFGV36fWkMd2GeDPFfkr0lVDJwLzSq4mt/6AQNjjGSLxnLDqry9Ju4MMBpqeG3DFj7x\n",
       "7ICHTxPknASRHjkOweFwOBwOx9dCdegQOuwHrf5VDYVInUGbQpiOCBBFVgoIWdpdBYQhsKu829IE\n",
       "gsx19ormQXhiniDyFPktHyYk1xN8wGL8IyIHSxEBpWIWGXdFBEL17BnLVkUEmChAp1vkaaR6ACki\n",
       "QNMAdP62iABTDzAbEVBtERykIG6JINBVs0R/S71BjjIIpwkCejGVgAoJ1YcOkZ0EISj6CDQNhf6R\n",
       "/H6V+2/qAFYcgb6moCOfRoxxTwFhCMMcfusQaI/iFfUZOSGMDO09TufTB816kHPE6hqi+LmKaizU\n",
       "EuzCUs0Jqq8w7CRYMfaSDiuyTI76wlhr9WvfgH8Gic+qURqgtdno+Qd2A7BGvxZeaCRHAE7VGCXB\n",
       "GGvRzYsD2coUhGhcD5uOuvs4yOs9jkAIl4FueUP+zA4ByXFADo3trAFSM4CMPtc0CP5oFnYSoLGL\n",
       "7/u9cHwxx08aLxAKCNX8FCv1YgQ3PKQruTdatqVah18QJZhm+xN4eEfhqoHX0u00+mhI+wxCRlvD\n",
       "g1upt3ykZyfkH3sajSOgNljK+gSLQRzVAyCZKl07Y3lzBOGu0wSlpkGDHQIqerqTIDgcDofD4fha\n",
       "yGcNAI8vhJeXod1SGAKuB6CvracVojGe/gjaLYWcnNvoNDn83cvPT60buBjQySx/Fd8tEZD/UJTg\n",
       "RnxaRECz+kdz1REBzS6AF2F3raNXpgHg8xhEAlg5MxEBw6qco+tkC9ELGoFYXmVv3MtfV9vregXM\n",
       "yLbuAohx0EcAbBWE2wfDRmSF/oHcf2vsU0pFofTvX0WfmJoCzX7nQi8cX8xtKaR8KGBeFhxjvJLn\n",
       "ZRF1Rs9cSzDpEFjrAZ5IF1S0rV4d2fweftPfzcDXIk/9/VyUvQMrRn/VUa/n8Dw0sjkHYMgrYl4c\n",
       "D60jMNpmyN2P2REw/m61BtHCD/2vlT3iqdFV6hXQ8hzJRO8115Cx18rWQj50iDt9kHQdDGQM7Rbg\n",
       "rqEbHkUGNH+AbgwcX8zNVfNs+D9dQLgVN9cNvETcGyXIMtRRAoGPXaE8omf48yb6GdzhCHRWneXJ\n",
       "8zI7AptX/5IxlsbE3QXI4VAYY2gYFRGKEX/4f1TwGuwMUMm+5RAhO3+LbOlQIKmFMdsXwKKPtGug\n",
       "OmsAGGq0pRAdP8xdszYbal+j9+MxuYDQwrPC0wWEu03Jw6fqLd2HJUogydjeElgfLfiW1MKKI8AZ\n",
       "fCVL86qrum5c9UtyEC+LIzBa/W91BJg0ABqzGlduZ4Ak22xc79zCxxwnPK1r6wAM703oLKjsHhhC\n",
       "wIWE0YsFHQ6Hw+H4augOHUI9A0BvgXYvv7SZPwL6TH3E2NUZwLMGyHt0NsEMtBGB2/K3N0cGZj+X\n",
       "DO09Po3dfyOtDAlPfdZavXb9nayfw665Fp5Tkb1Q/6bECOQgEvBTkFb/q/w4/tLYaIvgi0SIJDA6\n",
       "aek0us5iFDHhaJDeNEWv0esQZNN0AYo4rB86hHoGDHoLVPOpss04VWx0bDEak+j7wj68k4CD+qEC\n",
       "mE1/2ZQOwdY0wQ+lCF4ijUKVoX2usQ6Utz1dwGG+xuDnTMyFpQeoci5HtmL04diGNED37Bk4E9yz\n",
       "CjkakrFBY5KhE2UzxnjWEdDuDNDwUl3buJcf7hCY+Cyka5ocvlQ3EME1kZ7uKICHDjUdl463ERMP\n",
       "HQJfKG5LIf2fKiQa+0GzoY4eXIfXiKHu9L8uiXKksYqZsYCQxU8UEiqK83Zjy30YGgpNNyka8J2H\n",
       "brVuKUpssU3the+0dir3u9lp9BEdMsboWvXa4ExIxnimHmDZEdhpjGOEDkBHr6wHUMneuIVPPE1w\n",
       "wtFQyZaOFR44BxIv7vRBWFx4bN4+yAGG+gO/3bBKA8xuHxR+jNxOAipvBPSguWX74APgHrq7Q+Z3\n",
       "br9jW+/GMV15eA1M5dOhdfx9QnRqwUrCPVgx+ssONOVlWfW/JqjpZ1f/rGwGyKDQ19bPSyoM/BRw\n",
       "xpWjnb0X7Q4Bjv9IXnsdhfXRe2u6YAVeLOhwOBwOxxfjLz04IYRQcgPHGfjTB1HonustEAJOA0h9\n",
       "B2KEWxE1nph9rI4MHDGqthQiVHRCrsHs3X3h1kKKn0gXiLIfSxdo8VkRpoyp341xLjt/cu//iH5b\n",
       "GgDIllb61ogAJ5uLBHA8LSHvmS2CkhyR1w17+a//8VZBK39RNrMdcKYvgHYLYgiB2T6I+ghkC3ac\n",
       "ZV88PH0wM3vPYnsLhMDn/KW+A81rWFy44giAAsIXbeps+MoD7dcXELayB/LvwFJRYc8sM9or++Oc\n",
       "g5/HY47AIPff8YqYjhvTOhUaY6zdbXCLIyBU5684Aqs7A8yGetMhQr0BlQsDVx0BVfEf4yRQQz6i\n",
       "59oId/dNnJ2tNQIlAiC0DLaeD0zbEFN+Lf87gR4WKzJ387tL9hP3LeHTaim0tQQFjPraI4K1n/9P\n",
       "fp8kHVbo2PmKgj9Wzoc4ZpwDoDHwU/JAQaCk107ZWtwhGzotN8PiKGoh1RS0u/5m4TUCDofD4XB8\n",
       "MfiGQuEIR2z6ANCeAUJbYE37Ya63QHuN0nDXR16XONaE7qv7qC/peSIMGhaYvMVBePvWswkU8u/E\n",
       "tntbCOUv1zH8B9MIuyMC3Oe5svpXPxuMdQDitYY9DNkrIwKWyEGMOCcvyZZW5fBaVPAYbE+UrnVj\n",
       "d58mSOSs8qf/i1v+iD6ZBvLnWgwzLYMR34tXf9/yMcR5QtNDv+oZgI4aBjUFhSf6kglORUUjFReC\n",
       "16axcl4AaQJALm05k4Bjpp3b4icPK8ryKR40ZssHGWGmPX7SOUD4UIdh1cBr+d1t9BHdrCNAi+co\n",
       "zSOOwKBBEJpvcQS4wkDkAIz4Dw37hkOEJGN5h6OBHQ5ZH/YacxARfx9H9brXBzUUar4YdOGaJ+TI\n",
       "gLhDIMZqz38I8rON6y3QXvtNQA+a1b34O3Ly1CH4uLz7LsT+of6p+XTH52LG6CMH4L8C5ADs5mld\n",
       "BCHj99vQfbeMPQMoPVr1s7sMmGhH11kwW3tapZ9pctdBuEOA2VIYQqichuGWQu5ajKZdBt1cxdg1\n",
       "3sfx795JYJpPYQjT37ajgOryg7/L3xAleE1f0OtDIwerK301HRj+8dV/6wcMeNwSEQDpjB0RgdYB\n",
       "kPSJ0b5FUJS98TRBvPJ+26eNEQd8H7rugbKu1+pd99lxuwZQS2I/fdDhcDgcjq9GXywI+vGXpkPv\n",
       "kEBMEdYBFE/jzYI2JFL3FhhdI69R8eByROCIXW8BFBlABY2Qn0SniAyoQ1/KyMB/uW6gxSM9FTIM\n",
       "YrY3TcJCHsXySr8j1M+fXf2jMW1EwNoPgL7fGhEI/VgrZyUigAoCOX1megWw1247RKhfGe+IOCCZ\n",
       "r/tgiv/Idc01jp7rGYBW/ZkGRRUeOWtgN2hvgRBeN7L1GOLGQP+GFHL5gZLw/B25b/Qw9Rz75+HO\n",
       "v5PamDseh2T0d8uhDsBvQdU0qE2Lm3kpncZfgL7FMCkSON67Ba7V71U8aNlSGI9D3EEgrexHWwoz\n",
       "zY4thR2EnQRbV0DMTgKLnAo/2ZIY6fLDUQGER1bgi1EChE946C495LQBAS5it3H1j8bE5wYTBXg8\n",
       "IgA6HWpX/5aIALczoNCDaMRyROC20wTvizjQa9qtgmKLYUVNwWirYP95oujCdY1vMRzOTsmMeET1\n",
       "lsIQ3kZ6UDjYylFvKXzTmH7QzBiHF21/JsH1bjRXASZNsPTQ/cmWxEiPjJ+3ZXvbFvNCMJb+pAu7\n",
       "SHbd54ofsOhA7zT6aKx63/oBzDPlMUdg0vBqZVMHoB3r/gdpAK0+8NqtZwfgwsCd/KXiP41jMrqm\n",
       "6SOAdw2gVALQPzgcDofD4fhauCPgcDgcDscXQ2wxHI9XGDLXClwV/Ff74WGTIfJ/CHVIvYxLRw6D\n",
       "zoUtf+0uAzhXAbSTIL7vX0jvm+UQ9rDl8TR+uiWxUZ+n8WP3T/GA6JW0AsXKd1KdGlhsMTw9Fvlr\n",
       "P5IaEOoB0NhKamC1ZbBWnz68vWffPgqzv/4fVO5vST304Xl2nnT6ILqG2ggPmgfpejDQFsNN5eRZ\n",
       "KuXlh0apuPx3VeujJkMh8O2HuQI/rvgv28iuIyE43XDWEWC70SnOJEDdELUPPssJgNr53dwNLYm1\n",
       "3fpU+MGjjREe2dbHC9dBqc7Wv5MCqwZey2+3I2BtBrRCl9+rHAFFPQA31mLkHLwFykaD2abI3ZvG\n",
       "MeF0HPHi5ovHCgs7BGYdgQzpdMBKL1BAqLo2+lyPOrCvPZGwyPGGQg6Hw+FwfDfcEXA4HA6H44vR\n",
       "9RE43t0DUwLbGN40r7B9fyARd+ogDevTLYZdTcHoHALp9EHmHAJEz41J4wVVb4Fa0krotZtrOI/A\n",
       "BEOPgRfZw6HxD0gRUPxougDhy88a2JkGQHQ/mhow1gNwY60cMTwfB/TM2QFoTJsaKP/fdqxwL2dZ\n",
       "V2V4XquX6qwBVAcgdBGs75c5awBci/HgOwu+bjzvvXw/fUh+vHTyI7UCmXEiPIryjRFPKRXl0CmE\n",
       "6Bo9nRDNq248XCqvOgJyvvUqF9T2FjDlb0fViLNyPqUlcS/wgkHkykmDVgfuKedg6Z4+wKNaMfqr\n",
       "jsDS4UQbnIP8XjW2UA9gdQS4mghIL3yHlow3U8iGZAx5wTE+0L3TEUANfFo5+frUNcHYo/moVkE6\n",
       "pIjCUwMOh8PhcHwx3BFwOBwOh+OLwbYYPo4zpNSEI/IhhCnC8wfQFsEQ6hbDo7bDZf6GtsNZO+mc\n",
       "As04pK1y+M/2FtgK5VkAj6cIXkLDW+jH4+NqCT4AT6UGdqYB0Nj21EDAPO5ODdAtgmh+mxKQ5Eyl\n",
       "BlR7222h+3qLXZP73liDwMnk6IctgxnZXDthVBvQ8SdnB3T8wbWDfD5sH4EQjmLYrpzLZYD7XEWs\n",
       "egqEUNcKtKcD0vnaeoDLIVEUBgqFh6380TgaG+Vvd/QW6LDBIRDzyXFMG6LOwN11IqHls1upB3j6\n",
       "RMXp78QHY8UReAKcEdc8G7TGeMRzBdDYg2vcXPS/ls5sXCcO+ZF0b43xSPcdjkDnAAgHC7U0ra5c\n",
       "bQBqHoTuE9UGUEcIHT9crjUHEXkfAYfD4XA4vhzs9sHzvEIHqZw0eO0i0LYdDqHpIih0G9SeTFho\n",
       "sudU6dHQgfbDHL+RHDhW5QH2bilk8YNbC19k39GSdxWPHYH8obglIgBIzb9Z8P72iADYGijN14yN\n",
       "IgJohwC7cmW2Li5HBG447Q+H1tHRu3sjAigS0F6b7RQoH5kMWgxTetX9Un367YMeEXA4HA6H44vB\n",
       "FguG8E+cWOaRvH72TI58XsGbJhH6qlagqRsYHUiUF8BXD4PXtfRP1nUVw9XF+yNL//oV4EpvgVVo\n",
       "V1qWcw60et4SCRHkr8h7ui8/jBSgcgzl57/yd9qF7at/hmx29a8dkyID2ggCFwnI13ZFBLRAK8UR\n",
       "XUs/K3tGxxnZ3Mq45XU30N9WWuG3UYYQ+rMCqu8AbCg0d9YALRb0iIDD4XA4HF8MdtfAccSQUr0t\n",
       "LiPGWG0lDCGv4vPgO6+fLm+nbTsMjw4enEzYtSlWXCv6hnG3wSCMa+iusX4D4SitP+WxLnQdFKHs\n",
       "7teubH9ka2GtwK+F9ojgT60vWF3pa/n9iojAoB5gZ0SAXS1H3cqYbhW0rspFemWe3iIb59Fz3drm\n",
       "lsFANtdGOEa+BTB3Dd1T/xnyRw3XLYMBj2ZnQJl39J+d7xpwOBwOh+PLIZw1cPURyFGDHC2I8Qgp\n",
       "/Xu/fnuIQk4yxlj1FHiRp25uudbQl3oc+gAAIABJREFUhfDyjnItALq2o8kQN1+dF8/RFdJkKH9O\n",
       "w7mzOSwh1LCaz7fmzlNIZYXxdB+BFXkrf/NdUOuAbl9ZX/A4Flf/d0O7wlfzYxoFrfAU5dEVfhsQ\n",
       "AKv/6rpwmJBVNl6J2lbgdtn1StcyV6OPHIUA0YI20iL87atrB5/fl+gQ0Nz+/yO0WYAQvMWww+Fw\n",
       "OBxfDWUfgaO6Ro8oHrUdDkE4opjpEAhrCgLxwN7vq1X9hm6DFe3E2KXLpUBLd1da/6d7C1zkP9CK\n",
       "+BJe4wMWxU9AW1/wNLSrNcuqbuX3qV21aZ4N1WvQktfCH62MNWMxxvIdRzzhGBMJ4ORY8uiz3QPZ\n",
       "6AJYlb/+xz0DZvmj/1EXQZG/dAyxVDeg4MUdNdx9FtXfoa8NuO7bcAzxDDJjzRHFvx3oYYFD6b2F\n",
       "Rjb7qVC0Vu+ONuX/lHrmB9Rma2z5nGK4HpTW+daQ4yr+i6mNO/jtdAQkORxNZ1wH32+tgebkjMY0\n",
       "KPPCnrbDd0BljAe6/4TeT0C7tXAFnhpwOBwOh+OL4Y6Aw+FwOBxfjMExxG0fges9OpGwz93zRxRX\n",
       "5wrkPAadv+H8gaxdR8ecPzDiOUJF18X/5RTBtnDWbUUIbyiPLb7I08/UC1wK1PhvRQ0/BivfX8tv\n",
       "7onUABe6D6FPBYhpAyYNsJoaoCpw4fAqVA56BaD5UmpAzLEv5Om5a9x5AoX+hj4F+N74EwZpfwD2\n",
       "Gndv3LHCzLkC/WctnzRYeICTBvtrymOI2+2Dr2ZDtbGPRyotdrMgKU95xHgdO9y0Co7xOrYYHUOM\n",
       "jii+E9ocLKTTNophHny/PXf8FNR/I3Dk8qd+Jv/Fv9+n52+19QAjB+C/gjvqBlZ5oqLEkZyn/ibd\n",
       "d4E7hlhyNhW6yk7aUb1ur/kxxA6Hw+FwOCq4I+BwOBwOxxdjso/AlTbIqPIS77FcKxCP2J1IGI6j\n",
       "yv9nHnk+pQshqGsFtF0EUS1By0uCmq7qNpgl9ucQbD+DgOJDegtkfES/fOV5Cg4dtv9uGLpPrAew\n",
       "hHlXagRQzwCxRgD0DLDWCIh1Axvy9O018TyBSV2t9Nzef6Tj1DVUB4DOFYBnDYAeA6huoPnbPNpH\n",
       "4CmgWoFSb9Bcm+VN8ZN52ZXc1u0thq29BRyP4c7v8X8pB/5fQ3m439wzgD3sRmGMfxI79eHy/+21\n",
       "34Dfpa3D4XA4HI6tcEfA4XA4HI4vxt+2ZeGp7COATiSMR8pM3mMkd/EuEojpkpdltz0G0FkAR4z9\n",
       "nn+BXrrWXr/uDKfTtflGhEJXCdC1Hd6GW5mH33UeAYJR/2/HSkj142sEmC2C7funagRGPQO6EPyg\n",
       "Z4AUukc8O7pBz4DZGgGcW29y2Ztlo9oAiV46H0A8O0DM+QN6dNZAm/Mf3tu1NfA1xvcROGL8nTUC\n",
       "Dsd/DZ9Wm/IkPiF37HB8Mzw14HA4HA7HF+NvbDoL5m1+57CzoO5o4hDy9j3l0cQvpuLRxN1WP0Qv\n",
       "XGuv05tDW/m2pAYyKgE/kCIAjFWnD2ow0X64yPqEuDz6GB5SS9up8hPwn0oNGFsGr9Dl95rUgHar\n",
       "IEoJSHKkz18Oa8+F2zXXuHbCd8tGYfaXPHzkMArxa65JWwq1Rw6jLZTctaPa0THuLBi9s6DD4XA4\n",
       "HN8NdwQcDofD4fhiuCPgcDgcDscXo2sxXIoE/skVyznnkFObdMsCPZqY/h/Cle85zkEb4ZzveL+n\n",
       "RxMHckrhS4frZMLQdBhEvLijiUO4TkBE9zoaU+d5wRHFKfVyV6GTbYO22+B1Ucn307YUZvxg3cAK\n",
       "nq45WM39a+l21gMgup+sEbBuFXxNAfUFDUZ1A+21agzk5+8AymlbZGtrBETZgyOH23x+xgH+RvQa\n",
       "3g5oOYYYtSSW/qa69T3l7xEBh8PhcDi+GO4IOBwOh8PxxXBHwOFwOByOLwbbWfCIMSThGOIQcp4+\n",
       "+xL/+rqBXA+QItnf/87FV/SpyAwhhH8plRxKIvUAiC5fyzl+2DNAeTRx5tWm0bX5Vm3+TMNvRz8B\n",
       "Uc7dbYeLEsGUU5/tLaD9G23Jnaf27aY+DK2YJ+/pBqzUA1hqBKTrUstg7djueoBOZryutbzgGLgn\n",
       "Sc50jcDBf9Yj/ppr7f56JEPLC42NeKLjflteo1a+5Vpz2uDKd6a8FloqX/SX3IP8vTTHEFN4RMDh\n",
       "cDgcji+GOwIOh8PhcHwx3BFwOBwOh+OLwR5DHI4zRMMxxMcRw79/OWf/zu8Le+PjEUuvglIrkK+R\n",
       "eoCSE6G9AkDfgUDmXpo2PQMGRxO/9Dq6o4lRPcGW/O3gaOI8ujONb8knr9zjXbDkvldy55Z7iiHC\n",
       "OggTj431JVZIeu6uNViprTHxVNSXcLlaTX3CKJ+v5bkb5r3zN+fpR3n36xo+cpjTyVoPgOoTJF01\n",
       "5w+gvf/oWobUb4CjG91brTftg8AfQ9z2IjiinzXgcDgcDsdXwx0Bh8PhcDi+GO4IOBwOh8PxxWD7\n",
       "CMyg5Pqb/H4kOYhUaEA/AHKWQJvXP1Lq9vW38++CNq85nb89QkiDsx12odPnCCGd+n3wU/e48fyB\n",
       "1by7dr45p7t4JsHu3P8d9Qk7eKzSaesBtL9ZjT7afd+jueV9xDSjugN0rsBsrlykO8Y8dwPJ1tYx\n",
       "jOhH970T6O/d6SPUA9R/2yvn3+b1OXmz8IiAw+FwOBxfDHcEHA6Hw+H4Yrgj4HA4HA7HF+Nvm3N4\n",
       "HycQznCE490/IIGeAfL5A1cdAIcYj5A6+iv3L+X9Ud+Bcq05V4D2H6B505xzaffoxxirfgPDGwF6\n",
       "Udhz0n0/gZ3HAsBcdP4OnArahXvcgTv6CDypP4fdet15n0/0FvgpaOsBvI+AvY8A6h/w+t+2HtX2\n",
       "EUCozg4AZwxwPOkY7oPA9wXg7oF7L/VQuOj7MwZKD4Mjdp8tfR+b3gLx8D4CDofD4XB8NdwRcDgc\n",
       "Dofji7F1+yCHeMSyPY6G6UsIBLQahlsRJ0KbNM1AtyTm441nsbK17idD0Xfoow3PWeVc3wcyz8Bi\n",
       "6xZPZu4Mdm9rvG1L5CJW5O3U1Rqyt9Bbtw/SrYOWe4wBh8NnQ+RQRhNi/umUzer2wS2ySYh/lq+4\n",
       "RbBJIXBtiO/+W3hEwOFwOByOL4Y7Ag6Hw+FwfDHcEXA4HA6H44uxtUYgb2NAxxGXHMd0nlhuSfyb\n",
       "APO8luT3Q7htS1vZ9ynTf8K2Pgpzno5Rf/ff+hPqUB7bHndzO+EnwNUZwNy/pU/1QN6TrXat+LT6\n",
       "hFlY6gFmeFprVNQytnBxOBwOh8PxK+GOgMPhcDgcXwx3BBwOh8Ph+GL87do75h7Dg2Nx2zbCMcbq\n",
       "9evaZ+V4Z3HE2LX3/Q339gm5Y8c8/ot/v9+a+/1WWPbyfxp+Q23ELOp6kqO5plvfX62SD48IOBwO\n",
       "h8PxzXBHwOFwOByOL4Y7Ag6Hw+FwfDHcEXA4HA6H44vhjoDD4XA4HF8MdwQcDofD4fhiuCPgcDgc\n",
       "DscXwx0Bh8PhcDi+GO4IOBwOh8PxxfibUt0zL526zmVthzP6/rd3P2txplTu6TfdW6vzb9Ld8d/8\n",
       "e6F7+q91ffsvgfsO/oa/GdT9F+itQb63V0ff8/36z/vaWV5LODOPdHpEwOFwOByOb4Y7Ag6Hw+Fw\n",
       "fDHcEXA4HA6H44vxdyez82zrBk7yei7fSeedbV3C2Z4J+DvwW3L3aXNtROEVep6f/lmEIOsIx8Iz\n",
       "9/IJn9lTuX/4mQ5uvz0N9afz260e4t8v5v/mdf4NdRmlNo0sTT9NRw2yjcoZ+pRSqUvI9ir+Gefv\n",
       "W55/uu8w4b/w3cjwiIDD4XA4HF8MdwQcDofD4fhiuCPgcDgcDscXY2uNAAfam6DKC3c1BXwvgtk8\n",
       "6Iny0BtqC2i+WNLt0+oB7tBH+ixGn4+G72yqXSvbmvtfxQrPn5pLoc3druSmd+5ft+TkX/uyMT13\n",
       "TdKpq0sgKV1LzUIKSfU7WMmrf1qe3vId2F0HUfiRvH4ZM/ItdQPgO9PWDZwphT9B+N5tqAdA8IiA\n",
       "w+FwOBxfDHcEHA6Hw+H4Yrgj4HA4HA7HF+Nvm6c/S770LK9zf4BE3uceAdc1W88Aib7tF9DP5fPQ\n",
       "OecyOvvgus/+f8RDA23dgDz3bN4nWVflmHQ/6dTRcfyfBCd7Rz3AT2K3Pnfe32352E38VlDlb4V6\n",
       "AJS/RXi6h4H2s1yhm0V+4verT11v/IyV70t+lh4hlPx/QnObMfq3r3g0+nC5f/Ye0Pfp/TyWPhJ6\n",
       "vkC2wTFm+3y9vuzsUd6n831vx/v+z+gRAYfD4XA4vhnuCDgcDofD8cXYun2Q2/KHwtshyC2D21D/\n",
       "CUK/oxTCLozC7dbtg92Y8ujnHbDI1qYBhtsHA/+9kMbytJXth6tbF7VbClHrWzYVo9TpE7Yzrm73\n",
       "02A5JI1UVG6104Tsd24fTCl1W8DUrajzNIF8SxqARJOfStEg2Ry09/gTKScu5F+9Ps9qu2AITEvi\n",
       "kiaO5WOJJW2g+/5p4REBh8PhcDi+GO4IOBwOh8PxxXBHwOFwOByOL8bfLk+f8xJkiyDa2oa2FLY8\n",
       "JHBth9v3MI989lvs2pzuia6ReWzO/zxlHpO5ckh3Uvr+nrIOmvqEpe2DSjqO/5O4c/vgdD1BmK9F\n",
       "kGSv1BLswk/l/i15T7h9651Il1qy0vyqpk4C0fv2QTtwGUAzel55cI1O1rqBM+Dtf0Wb91jR8Ty7\n",
       "bYZX3v4M4WjuJs9H9QCo1oRsN7zqBjS1J719DuEI1/b+F4/juN7nrYXvoXDG5BEBh8PhcDi+Ge4I\n",
       "OBwOh8PxxXBHwOFwOByOLwbbR+Cs6gCkdsJ8q+CcA6/z3LrWwu1RwZS2r2tIVb8BSk+vafPuqOdB\n",
       "i7vz9FJ9gla2KOcc89fKpLTdGMifS3LoHmmNPhLuqhvQ7vse/a01tHfT7cJP5qEpzy73Wn2hdLw6\n",
       "HqAeYFQ3QN8PZQagqzzhwp1/5jOEeOjz9BPsQwiv1ejq92Lmu1bl+EOo8vy0liDrKP6em5bChZb7\n",
       "zrT6wCOK38+l2D//yncmXe2Zs33+8yfAtsP5fbHBpIexRwQcDofD4fhiuCPgcDgcDscXwx0Bh8Ph\n",
       "cDi+GH/bPf/avvc4P4z3wld5ZVQ3IPQFqHLlQt2AlIdW5d0b3v29jfP03NyOvjv2d9x3YQY62bYa\n",
       "gZEcdK6ApkYAnStg1UdTs4BoRZ7KMwQsef8nagR2z6V4ar/5dkyeSfAUaM+D2fMHtv9tmN7/u/sh\n",
       "XDoSgQbZ2t+UfMbCVSvQzj1DX0tAjyX+w9SJnCmFoznuGPGifQcoXQghxHR1Pch0+cyBcKDaFN2x\n",
       "zoVXOj0i4HA4HA7HN8MdAYfD4XA4vhjuCDgcDofD8cX429YEXHl00nMfnCvQ9xbAdQDXtX6fP7v3\n",
       "/zx1YwvXuPoErseApkZARX/2PRW4OoZ7Zety/5o8ffmf6RnA1QjM9Ay4tUZgcz2ApUZAS/cJNQK7\n",
       "8aM1B63oD/mIpnsLaMmtnzmTr98B2vcfjjayd/9+ulsD5wpUc5uc/+jalevvnzkt/dnQhfC2p0e2\n",
       "FU2PijOEFOtr53n1D6DnD+T37fkD6YweEXA4HA6H45vBdhZ0OBzP4VNX609AW93tcDjugUcEHA6H\n",
       "w+H4Yvzt+/Zfuf++L8D1vq0bSOmEe9Sla6gOIL9vecDcvUAvXiP1CSg3f0uNQFVL0fdNYGsctsvm\n",
       "awQ0vCBd6OkpbbfiS9c1jqdlrL0myga0VP8Rz9UxaXyF5yy/T8BH9SV4qo+/EubeAsZaATNuqhXA\n",
       "bJvR91vae1+C9fczOleg7PUHvKRrRTbpHSDRJ9Bj4Gjunc7Hz8lsx+t6gPOM8PwBTw04HB+ATzXS\n",
       "T8BTAw7Hz+JXOgLtg6M6tXDxgcqtgn8KKxEBiwz0/1CfT1gyOSDu/O664f5clL9NDMHabdDyN3xV\n",
       "ss9o+LPflZ3f3UROHLw+99hd+w3oWgzTkL90DLFkgPqQP04DcAaIaz+MQr/oNctLoSvCUngepVCk\n",
       "+93ohFjbCXfzlU6R5ISklLow5UoaYFtqIMzxXB2z0s7S7Z5L8VGh/DvxYVsLNVsKnzoOesWYa8Pz\n",
       "3OjKb0Vz36gFMKXL2tC2wrSlcHut8M3hfNRGGKUNyNbCut1wCGWrYLjaDedthCEcumOIyZZCLxZ0\n",
       "OBwOh+OL8TtTA9LhQ8LhQSre/4XUgPLgKCoD/c/qIxTXOT4Dnhr4TlR/m5j/uyE1kNJ04eB/JjXw\n",
       "5hXp6/bwoSnOz+Pv2RgNFMLGnQXrtAE1PpqH0CkYbxROQXzbHQ93YUeIXCMD/b+CO3h+KrSf+W9y\n",
       "Yn6DjlZ8uhNBw7zdwz2kKzxPrrFG4IPuaxbcd3B3amC1PuGOOogZFJmkViDXCdBrkuPQ8pDk0O/f\n",
       "db9nuDoQjjsLnmfcGxFgtyKmPudfK97Ptx45jPLu3DWxJfFmo985TOnm+oRTq48cVWDpA//5wM8i\n",
       "YbqRHMuYdK+agkaJ5+4xK+3ddE/j0+sLRoY9f5+oQ8A6Djfd15NbCjnDWd2bMTKgzdPjtsMBHrGr\n",
       "Nfrm3+7gaOIQ3vl9cDRxCK9agfZ7caYU8h1IjsN1TDC1i++xP2T+BufGawQcDofD4fhi/O1Xa7qG\n",
       "QqgpzsVDvwpD9Nw1KUpwJ6aiBDfm6X+S56dCnRr4RZ/Fb9DRil+dGqDXSGTAUwPrPFfrEz4tNVB9\n",
       "Z8C1dnuhFEHAcq7oSIkcZJtzkMj4e+zRhkKdQTfWDfwm6FMD+i6CT8DiHFQOkDWumHoenA6WMZsK\n",
       "9loNjew7UgMr+ITf1u6H7hP3hNIAki4wbUDqBkZz6fsd0H6+V/g5hDt7C6wAyeYyDkilT3cwV4DS\n",
       "BX9AamoFk30E+COHKf31/ro2fQxx4nPrIq9KV7ntsHTNFBEY5OnFuUp9+nvT0Vtkc7QcXUop3L3X\n",
       "WpJ9Rz3AU9iuz9O3onw4q9k98BBHq39JFy5aUL53gMWdUYLXavNzegswiX0VbBGB/oji+GdDPQBB\n",
       "2wKYO5q4zG/6DhRbFfqeBCkleDRxy6vIQw4oqRXonmnM0cSv+biPwK0RAan477dDHxGo/0h3NQ/S\n",
       "wmz0J6vspc/nsYjA4G8zmsvJ/rSIwE83ugkhYB0WbN6viQgMVmQfFREI4dYthSuQPpc2MvBp0Yy7\n",
       "IRYXphMWT1rhxYIOh8PhcHwx2IiA1EeAhv41Hi5a5aG54jVh26HUrpimDTSrcm0aAAGdMKieO5sa\n",
       "ENoIr8rmaFm6dP9K7o4oyk9EZjgdxoSb+W0CXH0powQ/tZpjQ/2TYXzL1sIdoJ9bu8KnqQK4ggbp\n",
       "DHPBHsIDTYZesmtBUp1GP1c/NjqRMIT36YDv17AwML8m164Qf1802LYnRsWFnB4h1AWHvY29+ghQ\n",
       "VmxDoRHaqnhq/FrjRJW85iv7CUg8HnrYDY2xIjUwOub4Lr05XVVGX+gZYJH9RGoAFQZKf5sRz49I\n",
       "DXyo0dfqsNs52I1RqN+qg2VHwQ5MpQaEuRbddjtqGtltj/9qPmgy9BMOZmuwU0pVj4B8rQ/xy45D\n",
       "S3edRxDK0cT1ToXxfdKjitmIAN4+ODbwUCBj9C3OwSiSoGkQpDHGSxGBMu9cmKs33unE15ZlCxao\n",
       "4p+EazdBo+M0z580qJuN/idEBHY7B7uxPSLQGn2mE+EuSH/jGEjzI+lvQ5oNbYkIZGxoMqSTzTcZ\n",
       "Gs/Vj3EHEWVadBDRS68IDyLqGg9RucBxaOnEe4vxWozH+g9xnqlsH6Q/MraPwAhw9dXsIBgZ7/Y1\n",
       "NNRkN0DH46ECxKHjIPQMEHcx3GyAliMCW5yihyICjJzZVbkke2XsdUEUPZ4/SXcnVladaucg7HUA\n",
       "b4sIUKcCpAt24dsiAkQ4nt84H+rv2kbA1Xz7GuxAgEYffSebHQVnCOVEwuwM0fSCBHpCoRcLOhwO\n",
       "h8PxxRCKBRNbJLjrgKFZ77gL24jhc7knwd7UQN+nwHpPqlX8oGfAtGzFVsGUUlmtWVbgu3DHoUGf\n",
       "kBrYvfr/TamBn1i5Zbm3pgYS7kS4C6O/cbz2Co7nRptu6u+XMkVg+axpcd41Xzd3S4SP6RlAFdEU\n",
       "93H63XUQ0et9DCn16RS2odAI6IAh1BioVRLNb6v6X+F2MMaEmO+G6DhsPuRnt94rsj8mNaBsFPRp\n",
       "qQE2vP3Ljb5Whzsa2cD975PpgkdSAy3/kNjvhRVq45kd94mdBMuylVhNS6AmQynqvms7gcL67TW0\n",
       "A4HWALRG/66DiOgCX3UMMSoa5Fap7c237xEPaTcA2kGAugj2+shdBE0rcKVBpDRSEeW0PsJWQS0v\n",
       "qE/Q0b2JWTrJ8O7CqmyrgX8KK/p8giOwG7+qs6ByLn2/A9q/+2OdBSVMdB3kPquU0nSToZUx1G0w\n",
       "hAA7Dpb53DHEaHdBeNutd6RBOn8A1RRE0jEQnT+Q5aDzB7xGwOFwOByOL8ZHtRhGkQPu/U9D2zzI\n",
       "Eop/Ap0+k1sFLXK4vyUXKSpji/UAKxEKc+QADXERmA/7Ln8iTKHiyXTBj7UYbsknvw7WXQN3bync\n",
       "De47wOs+12TobrTfAa5pkDS/24Wg/P5pMTiGGIf/6+K8Okz/orMdOtTpwNQWoLqBwouGVsg1rpDw\n",
       "ztQA2uqI6NT6gJSARddhasDgrEifhacG5uGpgRqeGhjjV6UGQtjWW6CyJ+//2SZDjbwd6YL2NkZp\n",
       "hNaIs02D3vMOdOgQd2wxmXvd7xnyYUNFt1I3cV1THUNMV7qcIaqEgw+EGmc0V1sboLnW8h81D7I4\n",
       "AgjUEdLKlHiy9EzTIM29iXLCWNc34VAm5a0da+e3eg3plEb/FucADRkM+RNGf+d+ew1WDrG5w5HZ\n",
       "GSWAD/CBc0DfK5TNCt4OqRUxIGZX1Ut/M+AQrH4valq+ydAOR6CW8m409M7rd397rh6A2V1QXaPO\n",
       "QaMDrRVARxS3NonOR07p9K4BzVHD4vyJLoIS3Z2ojJ/y8xnxQ//vxlNyPgE7jP6n4VONvlaHTzvh\n",
       "ToORYdc6B/T9bwa3k+CJXQOrMqrV8LGHp1bmKA3A7S6orinkBFhImIKm0SJdzHqxoMPhcDgcX4xB\n",
       "aoAPt2doagNS6s8CaF+3803XUoJbCrn72JMamN+eiPk1dIOmQRrZUA7YKtjpRqZbPp+l1AAoDPyE\n",
       "1MBKGuCW1IBy9f90xEPcl07plFGCO6BJF/xIauBSkCr2CErrY0agJk8/DZIiWE0NaJsM7UwNVOPM\n",
       "dkCuHgA1DequkVqBKg1B5Jwp1ecUvIQS+3S1In7NT+X8gaqh0M7TB7mGQlXBHhoDDge6JtUNSMbG\n",
       "YqjhvSa5YG9XzwBWtsIRUMkGpwlWPFI9z6Ijp4/oCEzUA0j6aGQjWuQAcTxXx1jaBwz8LoO79NDW\n",
       "RmYfNoSX2GcdKBaTdQOzfxu6o0Cjz8p34I5zDlLqewsksq8+X4x/9vUb0OwCoHrRQ4uKrdNcGz0T\n",
       "oXOgbyh0nmKx4MkeIkTrA55eeSCZO9oW0/mWVSfSS7sShXPBEc53y7bKmf18HM/h7u9Ai/9CPvy/\n",
       "gKf+NityurknNtCPyDbM5XhJuwCe/F1U+pTTB/nFEVUNbB/UPUDQEcKalevohEHpmqQrFy3YEhGo\n",
       "Kvf57Ylw7idEBEY7BJpIwO0RgYU0wB0RAe7shDvGXuL0tLN0jOA9UIZcd8t4Cdorphd7Cf6I6IAx\n",
       "XbC0Uh+kCag+KymeuyICGf1K+qoW1OptiQiklORdAO18dPqgdA10G6QRBOkoYwk0feDFgg6Hw+Fw\n",
       "fDHYhkLiShTsbefqAAov5cFCIn2nh0JXY0SAp+8jAVv5G5sGtdcyKnplYaAUodCMDfUJ/diMHG6s\n",
       "vVbJ5lYaqabT8jSNMSsrS/QAMJ3GrlX7Sse25VU2En3Twv3j6gce6jegjgxM6gG/h4ZmQ3PRs9wT\n",
       "J6rkaJ8vhfv7tbbJUHt9dK1tMoQiCAlECej5A5kXOn/AIwIOh8PhcHwxuoZCdNXPFQmi1b+4wj/B\n",
       "EcWEh/YatxKVdiAsrdjP675vjThMdA9sr2XQFbhIn0I3dktEIGAdZ+RwY+216j0XEJjkyY4Z8v5w\n",
       "XBsQWFjV74oIrEAbTTCtvh+KEnxM/cBD2wytOwm0EL+HisiA9nvcnRZI5w5OQ7RGBIoter+nOXxE\n",
       "014fXWvrHlAEoYxVUYK8+r/qAarPIISQojcUcjgcDofjq9HXCMBGNv2ZA1Klf7vChyt2JkogXWuj\n",
       "ENre/uZVNsjXa6IX8xGHjREBpldA+Z9EAkb8tWMVL1AP8FMRAVr/INGaIwLK1T+7ckEBAeUqZyki\n",
       "sGv5+MBimO1xrxV+c5Tg46IDN6lg2Umg1UP1HRZW7NbfCmWFegsgObMRge49qfiH9O0BQ6NrzRiN\n",
       "IFRjXZTgPT8mWM+w9Rjip2D5g5h5g62CvwFoi+AtcoDj4Pg83GmcEO9POfL124F+k5/WR+Ancekt\n",
       "bym08EIdJ9uzBD4df1GHwBDaOoB+NYy6CHKdBdFqHq5EB7sArG2ERV4ifV/rwEYvZvgLEQczL2Fn\n",
       "QEZ5n2z8tfoUWqYe4KmIQGufJKdIHRFYWf1zAQFL9EChj1bGrXioY+DsqYLvydv1ebH9gN0F7b1t\n",
       "VkEVGaB6CGTq7yazYp+JnmFW/E4Cy290GBkAK3tpl4HmmrbbII0SvOaRY4jz2Jn61EAdbmcML9M8\n",
       "qB2TQvfmFsPKhkXThlooDNxajMgUBk7d26hlcEb2A4y6DvVRpgHucAQ04XWzI7DZ6GtkX9P3GvjH\n",
       "HQEtbnAYtjoHmx2DH0sbLGzvk9kq701wCMzfzcaKr/wGkENQ6MjFXY4AOkKYvla3H27SC3CrINw+\n",
       "2DwTzwS7DXqxoMPhcDgcX4y/YmtepsmN1DyIjklAYQx07TdBXJUb5tL/1xTCvP+L0H7m3/BZOOaR\n",
       "QrrC4HlVNThpENHR978Z3O9k5d4QTwu/1fmfAPY7A64h0LbC3TONaTKU56EmQ+xZAykNcv5C5z+Y\n",
       "w1dU+o92AVjz9NI1GqrX3Mc2e49XAAAgAElEQVQ0fyBnWf/JswO4sLuWrtCDswJaXqOxkRxujDsX\n",
       "gHMEWNkPpAHYUOIDZw38ekdn8ayBT0kX/Gj9wCftKBjooPq+Llb5t6zgToL3xTZ8LvFDzyz6Xttb\n",
       "oNC0aYCUYJ1BCAGeQ8D1FsjzUW8BvsXwya/6WWMpNBSCBkVT/Kc4tnjKUHcOwKX71mJEZWGgir9Q\n",
       "GFj+jol3ALY4AqAugdLe4QjQh4hFNqRjnBhubMXocw9I60PrTrpfh4WCv2nnYGMDn2GTnjvwKQ6B\n",
       "cNn0fQVbC2d+U/hwohBCOEz8Ro5A95rZUljet4V+CdcZlGvKLYX5XtGWwq3bB7k0A7qmhfZDvhPQ\n",
       "4C7yQ/8/AYts5ITcJfsnPgsrJB1XVvkjebvo7gTSQXvK3GpYeOQcfFzIPuv2VkPz99sSiifG+I6/\n",
       "zQrukP0T99N+x1JKy1sKU0ry6YYb7smLBR0Oh8Ph+GL0Zw2QngHZu9H2DOhWfIOeAWI4fEP3QOna\n",
       "9bo/VXALf+NpgiJ/kBJo5422CI6uaWVzczt9wJhG9igUb5H9YoejSHAVppW92lkQYGX+BwQEGPyg\n",
       "Yspwvjld8NvrB25ME+w+m0D8/m/cUtiPnereAhqeMJLN5Py5NMCO3gIhvO0u6C3QNRRS5fzBw93c\n",
       "FyAJxX/KPgXT187UOQBLhhry3+QIML0Cyv/EAVj5nLSyubktfzQmyeaKAE2yFQZa63BA2cb6gnVH\n",
       "QD1ZLedJpKe6DI1gNN4mA725fkAlcwducgh+qoAQFfdpeQ4PJ3pf3OUISDn/lHBxYbGlwrVRb4Es\n",
       "G/UWeKTFcPWhkK2C7EM6yPUGIxn0fWWIhMp9aw0D4j+i09zHTwA5ALPzNc7BrF7cmDRfS8fxvOOB\n",
       "/FNGf9d3T51nRfJgbhpOXpNd8U/V3Opv2ohB2wFpTr/jlVLHt91+yN1DJ0dxDyNoP5/CjxjlH6+d\n",
       "aDD6/Ea01s+CBhk0OwnQd0DiX/3dhZz/7JbCFXiNgMPhcDgcXwyxoRDXRwA1FEpgzNxieHTWwETI\n",
       "OyW8VbCNBIx4qWQvnCbIrcolXtxWwWnZynoADX9Ky0Z+Uj+mlq1NAzALqVmeq2Ovce0gIvv5iMAK\n",
       "9MmCxUYCWhjSBub2ugN+EtS9/Xdhc0vinSmCFvB7vGlLYWal2VKIniFa2VLOv41QsL0FQqiaB9Ge\n",
       "AamJKtCaBNRkiG8oRPP0qHkQMvZSTYGh+G9XwV5/Te4VIPGyORr7jDGiHxUGmmUzxYjaMasjgOoB\n",
       "1LItefokGeNJnqYxKBpe0Brp3+4IaMG7ATedHIQE73YKBjyX5OzADXUDO3oMtGC/x4oCwvnfWV9A\n",
       "uOIIQGMfQpXzr2hBb4GsSmc/Q+iPISa8UJOh3hEQGviIpw8SPpp8e/WhCC2GtQYI0c9Aa1y5uS39\n",
       "iK7QG3cGWHTV6K6F9rN4Gikl1cOkdbjMMgK+7zs+iiecgxlo5T21Vx2rcw1acvIpyTl/yCuLavoC\n",
       "/ETOfffnu+u7NbOjgNNbe49aR2D286F/Z8kRMLWlDvrv6ZuoO2kwhNCNUYcDNRn62xphtMLXbhVk\n",
       "DdCG0wpHBo6XjXcIWHnJ/Bd1ndgZMPs5ZWhka2VSWviDaH57GjmtjhLdm0j1w19Z/V+yOzKTJzAj\n",
       "28rvv4q51MLi5zO5FREavoUQ/GPpgg/ZUWD5Xle0G1oRa3cSaHhKTkKxfe/3KA0w7CwIrrGnD6Jn\n",
       "9Hl6saDD4XA4HN8M+fRBZqVo7gvAXFOdNTC7yh5sFVyOCOw4RGihIHBWdoZKtlImpdWs1NURAaF4\n",
       "EUUZoGcexrI73sxYebmwep+VbeX37agX8Vu7AKlZseHw31I3sDGoUrPVRQZWf1MoMmD97Y22FIYQ\n",
       "hgcUaSIC1fsmrJ8Sf3ARd+2yU6CPACoW7O5gASjkkAVJD3/0Xrqmkl3k4R0CFuMqyeMMEKLT3Aea\n",
       "r9FVzU9RjDgy0EjH8r/CQItyRmmAFPoxTq+g+3xk52A4fchXM77b6D/tHKzUA6zqOszxZv7lwVpd\n",
       "7HhlfVS53TA4tlibLuhVUaE1qrs/3+VzIBZ4cvx2f9c0Y2gnQYz93n8E+L1g6lbOlMpZBNJzMpL3\n",
       "O2pRxF0D4jHEzZh5lY34D4yTin9ZqX/waYIbdga01zJEeqYewOoIsPSp/wGpHQHl6l802mD1rzHG\n",
       "F09IKM61jllpp+me2nZ2Cfx44P0GG6IFO6IELR+jGrfXD2ysG7iM2UBnRqb5twK2Fo74acYo/zYq\n",
       "MJrP8qr49kWAqGNg90xkthRmXog/u2uAM/blGtpSKNFLzsQOR2Bnb/87+Q+MsXZnQDcvBJ5+kAZY\n",
       "dQSQ04L06eZPrP7R3PaaJBvRlpebjf4tjoDySazltw0f0k3Yit6Gb2kCILK4M0rwGxyC9rtp3VEw\n",
       "5TTfUEBIUwWSYUdjEr2mx4Bo9AEdPIaY8PRiQYfD4XA4vhjd9sHiQZDVlBRa1zQUal/TeYh+ZhV/\n",
       "8arvZwe2HCI0Ks4DkQCTjki2sR4A8RT/loKKYtRiQxpA0lUau66N+XGy74gIQLqHVv/S/JV8LszR\n",
       "gnuCJwA+ENHA5wokppYghNEyGNYU5Ny9cP6AuIoXogtSDny0yl6uJQDbIJe+K4athVMRgUbODlx/\n",
       "51AixqtbCqueBOQ8AnoWQQiKhkLM6Ybw9MHz7FMDqk6BTH5fdBykVMKqIyAY6m3HCs/SK+sBrPxF\n",
       "2UDmiJeWPuvbjSn04eRwPNvPEPFAsuuxbmq+KPK81RHYbODvdAQegeXZ/ICquq6GRkUUU4e7AYxh\n",
       "+duPOf6hToQrv5/WYLN0wlibZXgtPvfsJKDjyNgjXZDR555f8PTBlIxnDUgGRVn8N1u5j2XSa7Wj\n",
       "saU50c6zA8A1a0Gg6hpTgzDipdWVm6vRp50/4okiBx0PIPsay//0GPHc4ggwD6zdBv7XOwIW3Nxh\n",
       "WCt6m1PATFdFCcxiB7n4WdzkELC/n5hUssTfKbHds79xmndv3QPt86V9j2iosW+bDXFzuWOIU0pw\n",
       "S6HXCDgcDofD8cXQHTpExkKYCLcPUgnsipF53f+/+TRBxRZBhIpeTKAD+tWIwKgGYXCNoxdD9opV\n",
       "eXsd3X/Fc+Dqy7LFqeJ8bkw9V5G+0PCemX/niv6nogWWPvOjKAG3Zzulfj+3pAulL1+2GMn3rueh\n",
       "7UXATL/C++AeU9CtjBG/2yIDO6MC0negiUJM9QxQhvGlsX78HZkmBxRZzhoY2b6VLYV53vyhQ8qt\n",
       "gpzjMGWMpTHQK2CaV6fzBl0nwvPTjoChINDqCKDaBW5uq081xjgAFU9lGoCXnf/h50rzTbKVRv85\n",
       "R0At5mH8oGI3dcWTxSy3DGSnDrsUfopDsDFNENMzBYQrYyHg0PplgHtHgzP20rUdWwozTabTHzrU\n",
       "CFD3EQDztjgCwl7+W5oTWekVq3KuMHDKEWAcjlVHQKpd4Oa2+lS0jANAf+BaA33RdUSqH++SI2Co\n",
       "WeDGOOD583M/Ax/SXGBjh2GbmKUThjITMqTcXdDMk8V8rkOQv9efXECYx3EB4WtEa+yla53xBqt/\n",
       "VR8B4iQU3uc5OGtAcRaA1DRo92mC1+u+MHDZsO84O0AYGxUGmvgPHA6JFwLSkb0PoAcd72SkeUOF\n",
       "ZbcvBNmhl212BCacFWmMAyJVz/9QR0Cv1cMVgA9GC1CUwHIscplF/saqswaMPkgMEacfVr9bCw5B\n",
       "K1tyCLYVEIYQwmF3BDLqAsLXCE0TtPRWR6DX+azOJMg6sNsHwXPSiwUdDofD4fhy8MWC0sqSK/7j\n",
       "+g7sWAWfCUYCpnjRsZvPDtAWBqr0V9YDaCIC1RjQkeOF9Kh4tgEB4IGi+bKOFUNW9nJEYJD7t0cE\n",
       "uiEWcLWhZLC8arsJa4mBh5oL3ByMWE4XKNsV70gXfFohIfe9RvUSKSVV9EH12wV5fUmfEc824kB5\n",
       "z0YEpDRAYMbyPLSl0HbokNIAbT1WeGEvvyj75rMDLMZ1xtGY5ZVBHRWLE8Lxa3lRWvijZfSpx9oX\n",
       "vGyzIzBR8Cc7At2QzUArnQs89TMdAS3WbfFma35jTQGXLlBPZsjV5xcoRH1K3YD0vW51rGgFOXon\n",
       "fs0RqA0132Ng1hEotjbgNIDYR6A4JtZDh4hzkIWga/cW7Nm3CO6TbcvTq43riqMxeW8FxFGxOCHt\n",
       "fVIgY8wWEDI8K1Klw8DJhnQLBX9QR2EuJGRgefDM0v0mrMcDNhYCbK4pwFECA3Nll0IxSmBwCF7k\n",
       "m70hhQ6a77XUuhnJUf/ulQWEI57o+OJ0RraZkdURoK/FMbR9kNCqzhrQ7hDYaoyVxwlPyV45O0CZ\n",
       "BrjT0Zj9XNEPwuqEtPdJQR2HakzlCLQvlF9wQU6+h5Hs9ho3lpj7bvWW+HFwR2Ae43jAxiX+DdGC\n",
       "y15NeByzUYLJdsVPOgSm77VESiIh5t/9oIBQwxM+/5geBjOOgNRHQLV98Dy9WNDhcDgcjm+GfOhQ\n",
       "s3oabRXcFhHY0dQH6rqwyt6Yp5+NOMzKRt6wNRrBRRMouDQAHxGoBkUdh7JBNIKjQ+P8GLg+EU0Y\n",
       "wSMCeyGvrT8zbYCbExkjA4IuMF3wKZEBGGTTy4hpcI6C0HhINcYUEGrm96vy66ADaaWvjQh0zzRm\n",
       "S2EITB+BNDh0SOwjcOdpgimFHb0CLl0XjesgT48KA+92NDSfq0WvfJ+je2s/FwpenxAaQp7n4Edl\n",
       "cUIgnSgHzFsw+o85AndUee/Ap6j1/hy7dsKkPXC9l39ScWXaIDH6UB3Ka3qiXBnq6aEujDPwUq13\n",
       "CIoeb0ExRlbG9gOMlPl8Diml6cZDq79n7TMLHVKk7TGgcQRGOwny+3bsTNKuAaUBuuc0QVwYOO0I\n",
       "3EjPFQbudDTM14ADIMnO0NwbnSN9ya7/8z81XcfT6ggoahE4HYteEq1SH+sYBzhf+aC1yHkUH9JY\n",
       "kANv+jcVAuzuvf/+Xx0tEG5jx+mGd9cNzP5+ho2H3vzRXHEMFBBq5muM+GhroYYHdTi4hkLc9kGv\n",
       "EXA4HA6H44sx10dAeZqgepW9o6kPq+sCL6Fyf7RDYJX/7H1zEQpJdoZ4b1LkIAD6VAaFVflEREAR\n",
       "jeDmUr3gamNCH+sYB23IEs791IiAFg93GB6p0IteSBvcvsvAwBCQDyMDCvZ3RQZWI2pIr0K3aSeB\n",
       "Zn57nbb01fYYsEQEuLH8/rqP2T4Ck4b6JEcan4T/+a+pAzj/lff/zvYaOBZZkr1ydoBQsBfKZ6g7\n",
       "WfFEtRQbCgI5vWburaD5YSB6ju/r//xPqGhnHQHO6KMxLEd4mDxg9LkH44qBX7H5uxwGTW98Tp5y\n",
       "KvvZQdmTt5US0/efvibXUE3Bi4cso6IPQKapa0LFvHygV/3AYA4T9md7Bhj7Dux0Bs63xaU1CyGE\n",
       "cBx9IPs8z3K9paN6Vd/JDQWEIYRhF8JsA7I+53mWsHwo195v/4Vw/Dm6eS2P0bNTaig030egGFd5\n",
       "h8C846ArDFTxX40ucPl6YCR38p91BEyFikA2ypWJ9FCPckFpoAWeisgDGnvJATSM8Rv9kDg57Jhh\n",
       "Ra93BObnrsi9Fzcs/x+KKIxrCiaFLk6vWRjrBwAZXOF/SN1ACHOOtNR4aKWA0EKLnjmzhxSZx8jq\n",
       "v5N9nsrtg3c0FJo4O2DWWK7Sq8Pt0tggDTBzb+pCRSAb/ag0utayykDPn9CqHAFF5AHxuN4DOiAb\n",
       "zTc7AssPDji8xFPJcH4uZbOFC8V6H0EVyxtsU812MQ+wceOCOm0wcAi67/oHOAQzjsA1CIYWCghD\n",
       "eNmypwsItY6A1FCI0nqxoMPhcDgcXwy2j8B5nuH898rZS/n6Ua68u7bS1AfIDCGE8x/WJ/8vjjUr\n",
       "UXpv6ry79Fko6wGQji29Ng3QeuEVDeIh1A30/PM/2Ks1RQQGaQA8Frqx7qIgu+XNySnXFlb/3MJl\n",
       "aaW/shraBcBbXTcA2Vn4LSz1b4oSlEVyvo9SA4B6BViZ2nS55MRLWOyZVXSh6RlAZHIr+xSuffuo\n",
       "70D7f4jXyhbRoLw/hzOcqroB+Bso8fDQ5faLPiEWuu4+uLG3Pii/j/RpdbMeUgRX/6CmoNCAL16p\n",
       "WUgb+gjM09sPEbLqI/JijB9rLDfyt+pvqk8IvOGFqQSuJqKZW4aATEqrGlOmATrZ1b2MjanZEdhs\n",
       "9DWyRQbauQt0T+Oe1gIbnYONjgFmN1HpzzMzsVhJF9zdd8D8fVXUDYx47qgbaMfbXgOc8eee0dpD\n",
       "ijS80DXaR4B2H7zlGGJ4bcMhQt3YhuhC98EiY2nlLxjXXfp081AdQAb5sUj0+EtWv0D0Fy3jCEgR\n",
       "CnEsdGOBka3VB9Eix4TjSfUa0zEPoomH1l10nwrOYdDf1aRzsMHwSlokYVTNbMEhMB2BLGw3fM3s\n",
       "Lio/YmFbnxXGyn8I9HtW1g204+X1hgZB1fuG3wov9Lz3GgGHw+FwOL4Yf7tcgjLn3+XpzxOOvXim\n",
       "qkdACK+6g46OvEfXKL/22p0rdnUPA8UqG312cJWNVvFINkpBNCtpzX3XY2VAvXrXfBbSfLj6by8q\n",
       "ZSNZ5b1y9S/pM9JRpGOwsqL5hNU/0gHl+bV0gqB+DMkBY62cSLZSRbKypHv+6byUUhdOrnmAngSt\n",
       "DuQ6rSVobwOdJwDz74o/PdWn5UG3G7Z6V/SoHmBhmyHlmcL1TJytG0ChfMpTqiXI9wQjFOR+NBGB\n",
       "rmfAv1PVF4C+zzV5f8q1f+E4/hR+le7k+0F5oX4D+X2pC3zXAIYQjH0EJOOKxlaa+qAx0CPAxEsw\n",
       "1CPDu/xZKOlN9QnAsHN1ACNer9f1C/g5MXMLvVAc2c/vx0YG1ewIKNIS1zUdndboP+YI7Ihh34Ef\n",
       "VMueGFDmBDbWFMis1vsBWHRI1vuvbP+6Q7BaN5BiMjlFaIzeR0cXdY4AGuOef6NrOwoIpeekvY/A\n",
       "svHbc4iQlb5ck4yT0vDO8lfzAnqw9Gi1TeYjOl52uKCQjXQs40zEof8yhn6+aKBtTgg3t57fkeIf\n",
       "6ILRX3YElE93g5hnwRzb2uEh/fU23JhHV5BpMO5NcJ+DUktRWHGmfgDWDSj0Wa0bSCmpZGl+pzFE\n",
       "0+9x+MxSFhBy19gCwjfPWUeAjsnbB3MnQev2waYw8CSFhzDUr7kmbBHk9AkhVGGnyjgx0QUuDdDR\n",
       "pf6+Z1MVIeFtj4Uehf/f85CTwBs/KrtcZHXV6kNp8Vjoxmol9F/m1smBfAXZiPYuo889yLDuWE8t\n",
       "z2mGuwDTAIgM0IHPIzIP3el2vAipb/cbYKg/lPfXtVDmiamEVOtLw9StnIouqyiMUtko7VHC+eAz\n",
       "a2XXaYAsha/+q2STtAHdLhhCqLYMovRC/p+2A37JxumCTlchdXKAEjiULkDz89xqy+ORb62+j0om\n",
       "CPWX128GZzghXX6vSReU7+t56ShtH0TfMbp90IsFHQ6Hw+H4YuztI8Ctsjl6Df/ZLYKDegDzvd1A\n",
       "ryoIZOoAunnK4jwaCRjJVutDaPsxsIq1rv7pmLLYj5WNaJn7WR5jV1MDfSQo6dT8NkG7TtdrxXBE\n",
       "6YaNt6qP9P9EyN4ouyWfkK0+u+Ca0Azp6gfa76v1ACP4+wNbANVzc8RkUDfQzueevdVrsooX6YRr\n",
       "tGZAJZO8R8/7mxoKbTibQHl4UHdNWQ8wfW/KegCJv6ouYVAHUK5Zi/MMuo70wV+y0I21g2qj38jm\n",
       "6K5rvWzWIA5kt9eGY4ZwP9Rps4F/vIBQKW7dYQAcbnIObqspmNRNky4YMph0RFYPMxrVD6DvteW8\n",
       "AvF3OrhvzW+cqxto9dMaZavxziinCpYx3SFF9D10BLrtg0pjhnL4aItgCIrtgO21E19r9dDm5FWG\n",
       "V7h2Jrvslm7khEiOBtI/08r6h0BfqI2+wB9/ZmRc+OJx81uZEt11rX0PjL7gCIx+/EgfTjbHjzPu\n",
       "K8ZcO9cCieXqscEdP2DIYd6fU0q9VRDJ5h/u9bHCTd1A4Vnt7+vkW2sKqB4h4JzzqLXtdQxxe63/\n",
       "LsPcOrnF9rOA9NX/A4en4c8a9hhgPQBqUxxC6A74CQEfQ1zY0+2DYLLW2edul+5YQDl/rhaB01VD\n",
       "l3HQ7YPhvcUwyNsHO9sUdqQGSGHgZTjHxhWOrWw3ZArqpnhtpNc6IdaCQFl2yELV96HlX8+t3yPD\n",
       "q3YEQMi/c2gAj+q9QjY3n9dHNxcRsrKVRlPjAO2A7FxsLM57SVsToZyO76ihpJGEhc9Vt1ZWhPON\n",
       "EX9ZB+Xy/+60gdYhsOih1BX+fhZOGkT9Bgpto792oTF7rdjacEUHCh1JPWifx14s6HA4HA7HF2M+\n",
       "IgBy+FvPJrDQMyHy98V52YOV97Z7QyF44lkifXg5+R/bfWv5FxmVrj39RStEBAZpgE4O4EGJNbLZ\n",
       "+Z0+PJ129c8XC2ojAvNzTRB47pemX7+vTNeR0RD7enRga03Bwkr9mmasXVCQYVnKyEBqh+YiAzHp\n",
       "CgnF5wbRRxsRyGOt3hUtKCBEPLtnFek1YIkI1GN9AaH2eSzWCLB9BJh6AFNfAFo38M/YYjhfA3v5\n",
       "oYOiPJo48+zGlC2GaT2ARH+CYkprHcAlO+SJ/WchGX0j/+rLY/ySSY5Mw3L8ozTIhnQLIX/kwEhz\n",
       "LTZb63Co5+7CAm9ti2FNO2BpfgTFgrTuIF5P54p3SunKsdNneZtBoPn9QOaGtg6Az01fBkjqU9Df\n",
       "00o74fZGUowkxd/z73LxKXS6juoHkoI/7CeQP2MyD+XzQ2jy7oO6ge7eQujHrEcON2NnAPUJuedA\n",
       "inJvgfZaOMIZxr0FWl3qMfQbkX9jP3gMMY4qqPirVsabdVXQjwoCuWszdQCv//M/el0ztPwvHYFB\n",
       "1DoCbP1GTYd4rsim99my0hpe7jNTTLUZaIUTw0+90RF4AIsxgjEHYWG8FDnAxCL0C2+YXJ+SSaen\n",
       "6t2A2RNRgoak2q6n3P5n0Q87or0czaIiA0UoLscPP6s4niml4cmFHA/UkhjtKEC8vEbA4XA4HI4v\n",
       "hi0iMNghYFplnxOrcmFnABta167wh5X4myIIJBS/VAfwfmGVHcrUMf/X5wqiCZaIAEw9hG4+ijx0\n",
       "10ayYcie4aX0+PFn1pGpIwwcLCuQWbrfhMWNBEFczg5WunJmfd/OA10GX4gMLMg0RQYMZD35fP0A\n",
       "XVUPWeyqG3jLsfweU0pBqhtgowWAJ3dNQ1dscsA7CUJ4RRkQL12NQMnhXzUD/6Scv6IeQE2frwWQ\n",
       "1wfbDbX1ADBPH3A9gFQjQL80sLcAMuxtSmSiDqCTg8bEnHzPHxlJjaNRaAP+knHGuKJVOhzIqcnT\n",
       "NcaYm4/uB0xn6bSOBS/nv+cIcHl+DR03V+rLT0E/kfKcB/0BRvUFIYT6vACQd2cuhRhsZw1I9j2l\n",
       "iz/Vuc27U525ffWFIVFaqh+o5BB56MwAVEuQ5VjrB2C/f0Z2LSt088QaAXSPG+oGyvvmjIJw9n8T\n",
       "qWfA8Uc+tlhXN7BSI9AcHlQM3sgAWQ2W0phZ+S/LlowfMZ6QnjPCxGCt1AHMyMZGtncAJGOM/jaU\n",
       "tv8+AYdB4XCwY0yxX3oJCi2Qs4LGEU+OTmv0H3MEZpPGd+MH1dLXHSgop4MLcbqmQF4EK0ICYJU9\n",
       "kpeqdwJvI1lProsSFEdJsbsA/Va0JxrCMWXdACub9BzgnkFoLnz+nQl2DeToq7mAHo09Vyw42zIY\n",
       "jKE0gInXcAW+KBvwrxyHDeH/2XsLF9trTOUwEJmMMX3pE8BYNziU094T1LvhCX/QTFjuCaO/7Ago\n",
       "n7Bah+FxaOP7D6k/7xwAA6S+BFIJRgMNRAEKcHXaUOulr8mRJ7bff8khkH4DtL2x+bc7SBeM5qPW\n",
       "xLQTocoRSAkWEHL09DUtIHyN45bEXizocDgcDscXo68RICv33CsA1QOo8vr5/b/+mkif8LU2qoBy\n",
       "8tp6ALaPAKoHUBY2VnJA5CCEgGsd6EpaGaEo1wzRhcr7VPBv9e7pQwVu9c95vVOrfzA3z8Oeea8j\n",
       "vAB43jGWdV2Z39OpyB4Hyr9jOpT3Z2oEEqCdyIlKY6Y6AJqvR7UFwl7+a1666Bu9cA78GuvPGLhI\n",
       "ulw8ya0jOey5ApWc675hbwHUI4DhP6wfaHLrUt+BcGCZrWyauxdrBNCYsW4gv29rHSq6hifiAfke\n",
       "PD3s34F4pisO8Ld0NMoTyoNW10RHHFs5O6B94CdMN8NrO30bdkK6ivUA+R/jvTFpANYBQIZ35AhA\n",
       "RyN0dOU9GFM5AiD3L+oN6xNCB+SYwPE7xriQp5onnK6a+xm4ITegj+9vw7AOgLsK8vQ4dZ+tIP3y\n",
       "23TD5OCqkNqwyRkUIWxIF3Tfa3g773RBSiqZ6LwA9e+R6Wswmp9ft82oEE+4OAJjo14DaG4Ir1QB\n",
       "PbkwhBDSGVGNAOnkN2sslfUAGmNZ5dZvMZb8NZXsMKAXV+zlQ7fdm+hUAEMtfKEk/lgf/ktG74PO\n",
       "Zx2BidU/X5/AGESFE9Jes45x0QgOWqOv5fm5joAWa9adfo+6inzTRsQxZDsKruqG+vmWZjpqvQCz\n",
       "pToCXdHfHH/+2F/og6TmOiOTfi921A1o5vfPSZ6n2hEYyOGec9zz+G8O/7cMziS0GOZSA2di6enr\n",
       "bqzdlXCe5cNSHVtMbk6bBuBSAygNUKULgGHvdGWcj6KrtXASyezmBaIPT5+h4d/xZfhTnnCsW73X\n",
       "POngyOjDue8LKqNtdQQWwvjcc2zFCdHy+wTcs31QHisP+tiv/OARyIpUgxS2rd5r0gAxdXrEKy5e\n",
       "zW1ZalMI5T3ZGpjHuNSGFNZHcjB/kI5YSBuc75C6ZrvhcR5dumCUEoFb/Qb3DcdOTMfNO8Klayub\n",
       "pjg4Phxf7r1mzIsFHQ6Hw+H4YnSpgU/oFMjVA1j5i7Lv0HUQsn/9b9R/FF1oV8iDe8uQ+YeeTuBP\n",
       "abux0OfuKS+kTy9bnsvJ5nRE461sbj7maVuVf0tE4CnQ2+9SA6OgxI01B3w9QOqHGrk4uj1XSzBd\n",
       "R6D8HO5KF5TueIoJKGl7ndwAABa2SURBVPKTwD2h38pK3UAIodoOiGi5Z9BbaH+t0VXLi4v4tvRo\n",
       "7O8pPCitxtJy+uDYwBmNtyp8zo+J9QBA11H9AGtctfRGpyIM7nf0OVEdq2uSE4G+ZCANgHSk9wg/\n",
       "p4Zvq6TmC87RtbI52nas/Xwsc0dwR0AH+CCnIfXiAGSHYINzsPDxIlb5Fnq9emNGw+j06vWyfh4h\n",
       "VJ8J2BGQebZ6VJX1Soej13HeISj6FDJ+AjLGsKGQ8LuvDjyyOALEeKO6Acl4t05INS9cdhR1FGyv\n",
       "oaOMNc/JM80eQ3ye6qODu2uprxFA2wI1zgQ6hlhbD8CdfIjqAWjNguQk1DUL5QPV6WOtA3gPWJ2K\n",
       "DORMtAZ7qI9k9Mlg92XU5v6tTgj68XY64vlUB0QvjXGyOagfMr/dEVDWCFiOIYZbo+iDtTOu/LG/\n",
       "nIrttscqH8vl94Fu3Ba1VsdLCUqbqqGUkrqW4DUtwVz/NbGWnSpdL6vWfnbUQZG26e2qH0D0Ifbb\n",
       "DTkdy3jOyR9noZG2Uu6oG+Bo2tf0PT3SOCfuj2BsMTyxxdZrBBwOh8Ph+GJsbTEspgZANb+Vv5V+\n",
       "mle7YgWrZjl0n/9R6jNRB6C6NxBlaHlJK3DEv+YbKqRXSKAb6/Vo7gfI7vg2r+GqXBHub3WQaLWy\n",
       "LWMsFuZ/bERACUuaHt2rnBpI1euWXqeR8PmCRfwInR5dZKBf6cdIZNGIBis6lrRBkSccRBQJXb3L\n",
       "gJGACyCQFmS2LV0gfa/bdAGkReJSfx1+p5R1A9w47Q/APYPQXHqKYrGj4SxNicTUAOWbI96gJTHS\n",
       "Z84RYAoDOfqZToFSegEbOL3hhYZ9YJRb2fCkwfxRkjHcRVDjTFw8kQMgzePTDMCYCYYO6UqnQMcE\n",
       "hOKhwzCQzY11PPJ7kNdDsrn5K7K5MU74ioFfMfq7HAbttsCR0R5MVsse3RVyDvJ7jXNw2WlKf/G+\n",
       "Qta9YrOOSWvDUqJOQSJ0OKReG95MnCaMtzCqsOuUNFXvBhPj9exsnZds+Cin8+xTD4WOCIcGfqFu\n",
       "gNLCsSgbb+21nKooXQonn52sI2CqESB9AlS9BRJv2KkzoW1XDPsNNDenrQdAxYtlfmPozmGXxTc9\n",
       "dA6AbDE6UssOA16yUxH6eQwvyD+AaARhrDPGsiPDya559D9ardFHdBo5UDZwYLRzR1iZv8vAa6GV\n",
       "N8rnS3ScYVY7F3SMMbzIKCN+mP66dvFN3bzO6AdUs9A7BCiP3hvSEC4LF2peg/bGbU8CVnaX6xdy\n",
       "/iTvvqN+oBjy5k9+nmfH/ziOrpiQOhIwdw/qBuhn0upjrRto7wPl9bXXyut8A6AGodXFMqaLCMx2\n",
       "CgSGvT7LQL/LYGyMbdeQAX0PqHicuUJzwJ82GZL1qT//oL03S/hf4FWNkdA/Mn7cZ1fRX8QqYwzH\n",
       "GKOPxpDsBGRz8zl9Voy+RfaMjlbschieiAhwuqojCjWzam7hrY4IXDSSM4FCAh19ABEBRffDSs4o\n",
       "hZBVaT5CuCpXdjC8K0pwkfYTu4hAbh4EStuoc1A+BFABB9sEt7pG5rsLogkhjH+nWyICDR1KPWgW\n",
       "VuiZmJKfPuhwOBwOx1eDjQjQLYLa0D2/UkzF6xrxaK+hlbRGHypPcyJhpj/PU1WDgFbs2s+iX5WH\n",
       "Kq0wpB+kAdCqnJdNowqhutbOzbJbmRdp6gY5D7SV094bTwd0DHhMK7tjLvBcHbPS3k03g5WV/hP8\n",
       "DIJhaqDdzohX/4hdGy1A4X8w0bCKHk0lwY4u3B4Soc+/gyo8P9aDztemC0II7HbD8n/J+4+VOMPZ\n",
       "pSBo3UBB+v/2rm27dRiF4qzz/3888Tw4kjawQfjWZqbmxY2MADmpuQp5WipdgO2JgfW6rOPkwyR1\n",
       "gm2CrRzWgxfBSBSPBLTPzvtfR1tq9/6C6EW6pZD88JB+WiPAlEa70hqBKIcf1APs2WXAjgdmitca\n",
       "HJEiDfFJseDGuz+gkDdTrtmRw2hUZM86Nyr8ep3yTmlJB2rkkPA8k9/SR5qhMv4BpR8qxAnNzGC4\n",
       "wxCo4p1R8FcZB9Xcf3XuHnpX5UTbZ6u8RUiAH7QrxTeKDXG4cWDlYjLk+epojBULDhmGQhlX6fho\n",
       "RGz3fC8ClfOHubAaOjrdZdD0ENQPjEi/fj6v18uxoXUDnffoO0DtBbcCOPAI+MTvElyGV/DVuoH2\n",
       "2d7Ta9K1ApsRJfpesJOgfe61fjLoxxGB/4ziv1JEgChQVLJcuXJlGdUDhPhQ4Ffx/vFhWKXEDI4V\n",
       "/ktSuUiDI0aLKVAmd/RcV/JcZ8q432PeP+Hp58b4iFsao8ZFbJgcVdAo65H5d4ztxb0b7wgw2v+L\n",
       "EYF13VcsKIgf0EN8Rp+vK/GCEb3wlSo+SeHA2k0F77HDkwhrCHBtmJtnUYLtCvhkp4P16Gk9A7yj\n",
       "vdL3Gl59p5/rsDcgutMDAkOuXp2PRogp0FO8G4NX45NEBMj9WUTA0SDvSdxZUIoIwBr/tfC/JZor\n",
       "s1UZAG0hNiyfef+U/iQNEEUQogK/iI/CT0P3H/RZNCKh8X5b3sVCy0n4v1930eJGSIO0+K+gjCPe\n",
       "sWHCxq5V+keV8V0GQzZ+N96dUFXmZ/Ai3KsjApEsIb5RuBk+KlArl/b029UbKNarn0J7lkRR95c1\n",
       "hJixg6ErRjQGhIXYpCEhAUBmWwWjXQbMq3/Lm0ZRLK2uXNEosr81fBa4fTAxikCQDcAgqKYLLC3U\n",
       "NY7GsF6GAQA7C9g2w/bZ6U+Rp1jwgQceeOCBB/4y5MWCWWqA5cCZxyo63I40+1ixHoBFAqJ7yqNm\n",
       "fQRIumCbX/Syicer6wb0s5AJrUge9MqrtPz2FpAlkd/JbHhFPAcq480iAp5PNSLAIhTuXsr7Hk//\n",
       "bETgfz1KcLX3/42pAebNG4IOn0UJ9kGcG1hlLXnBrP6h/x+wYkHw1L2HPzxk1ouApQsaH5YuaLgs\n",
       "tG8Bw/uWhkotEO+6gYo8fIjQ/gCkWNDhjWpBF3HAyEC1bqDh2+9yli6wEXhsQJT1GzhfLCi8QdCe\n",
       "vgCoNKgyS2iw1APKNl0HzbsPBZMZIcx4SZV3MSXCaFj8koEiEyOEhP8bVAwN+szaeLCOijK+S+kf\n",
       "VcZ3GQzZ+N14d8LVSj9a0zemBrJiQWYcRLsSMpp6TNR1+2CF5vK7oj9Ab49c5fWtoaGYt7/XQSQA\n",
       "khhQ3LuSLewy2JoHaRqsbgCVuVPUCGR3Qf/9oVEU9RGAzy78/5Zy3UD/bAyZqICwrfU1qgUdfuaY\n",
       "Ia19nQUn9QBMeUf3orbDFl/hEAOg45sIBUYnmLc9aPSFh7yrhsasyVBGy9YSZIYJN6bGep3BQIvz\n",
       "EvxEITJjAnHt+ztS0DM+KGTJCAmUfoV3hHvH2F7cu/Gugr8WEZgZB+0zw0909k75eS3B4BPXEliZ\n",
       "layDCuCtihZ2LlRRBRIlsPT9vMXn/bnlICLGo+5K/+UmKGVudIeqG+g8m1wiwqIE1rtuAYHXqE+g\n",
       "ZwKQuoEwIoB/7zx9kNUN2EJI2CigeD41Ag888MADDzzwh6HWYpiF8FePX0oN0Gr4zMseHn5IHyvT\n",
       "iVycfl/wFJ9tZ8SIAnrvkfz4LL08PBIwfU5BGiD+3jj9BpXoBcMb4zmNdP4O75/zflIDvwlXe//R\n",
       "mr4tNYBRgtncCN95tyKkut+HyDWdOM6AWwVZg5xI1rBwoH1c2Z196YKGYtoISLbdkIb332+3wwG9\n",
       "+uH959sM+9KI3NGuAfxsDwfCML2NDDDe7B105PRBqwfHMH9P5qmBlRcLRvUAkfJjoftqKqFSEEjT\n",
       "BirsblMDEnbyU6mB1GiB50XWwZS2vzdolDoLFtMAVEYciOgzZUxTIeLwLK3ZWCbP3rGIT4THxn9q\n",
       "bC+uwyth/bxxUFb6ZG7VOLgaUCmjDHenBirgs9a5/Jx3+9sT7vKQQj/DRBGhBwVN0gUbTt6cqJQb\n",
       "aNFt1kfg9Qq7LCJgLQIrsGzXsce+3fO/D9WZsJHqOt/v6UeDwB4PTFMDjSQ5fZClBnA+bTzU5CMF\n",
       "hMeOIQ7uRR57VA+QRRDYEcVWIdJogTA+WvFw4wDWJgnvRipT+jDm6xOIMpo9a2YA2HnK0PB4FVl5\n",
       "LYHmHcloaSncgjI+awiwscg4OEPz7JgIf7mXDYETCv4q42CPB1+ZS/Gi8aLRcGWUIFP6kXFg7yH9\n",
       "yNCYFQtaJcvw+HczprNaAhEeLaCyNprkUxwl+IxkUQITEsh2GbxeL0eDGQfvjzLEdbPdBayHQUcB\n",
       "a8oqVbZv39UDQDtkpHm0s2C1i6A19JR+MN/DurKIAPOkiVIuRQQSjzqLCGBLYqYQaaEiMQD6tWjI\n",
       "iPA0AFOuVOmTVIUzIFA5ZYYJKH+G7/mAfImibpAZPhqP4AeKkyreyDhI5Nk7FvIO8Nj4LWNuZN/8\n",
       "6twzeEeA0f4JD/7DyI9duNaqYp8ZB/j5akCqduXIe28KgYUh7FrUtRol+NwMmxOts86CWkCl9E2R\n",
       "nsLu70k9t8lvFTpbtwKzu4Bt16MGgYnC2LmOVrJVsOuanV0Eh3FEjIv3Uyz4wAMPPPDAA38a/rF9\n",
       "hu1aCQHjNQrPR94/iwRE99BTZ/UAPkIxvGgWJWBRi2htrMnQrIeBlQO9+vR57twOaD32iH5FVkeL\n",
       "0IjoWt6I+xMRATYWRQnO0BThnv4eL/8nIgJXz0X4kdRAgFcO+bO5hUjGN6cGZqFrdQVgUQJPE7x5\n",
       "TBcU2hhP0wWfjzRdICKyrMpTd7KayMOLbBVkJxKqNfbQevN9vXeuogwmj77l3TvBD60xH9ME2y1S\n",
       "DwB9DQ6nBkQ0ftBOOHqnLevi35PLrKFQO6WIpAHoWHT6IFPsmHcnfFxunaQLWFMfVg9AFWIQDt/k\n",
       "Ms8i6msgMt8FQIwQhx9U/8eyAm6m7CkfToviE1pMRhzPaER89ow5GQjvbCya73gX8faOZeN34x2Z\n",
       "f7XSZ3P38LitHgD4sgJCOz9T0FXDIZpfHZsV97HGRdVagu2aHxRUTRd0WkFzInXSIKQLovW+1Vgs\n",
       "KyrzngZoawWelRMJt+djxiD8b40J1sxI1RiQgr1NFt4zIGso1BcV0LRj9kAlkaRYUFCZVZQNVTJe\n",
       "6WcFgTNlhrzsPWsApJEHEkFgSjw1Jma7ACrP7kwdwGeg+t0ckTUaY8aHpYXzrzQEzhoHDPcupX/U\n",
       "CMngjNI/MrequM/MPcPjDCilD3ytcbCHXqPh6Jt7VwDSp4aDxU9kZdECmqn3bj0F7v2v9Obi8ERk\n",
       "WUMey8rUtJc1U+aIPeoU4ZmQEwk7J1tb8BaXZO+/aVw2FO6xgr1NFn5IUaVuANcbvSfxndgPVFpX\n",
       "+deUMSOAoX0rLEsDlPoINPrg4ePugi6sLVCc7OVnBoBdeFa82BVj4P1bGqyPAFPQvI+AhPjM+w+N\n",
       "hMgQCKIdTNZMya7bhCkejleNgwrNs0p/pS8MPv8M7z1j2fjdeAmB+N5fiQgw5W3n498g3zdFBJBf\n",
       "GiKfzLU00PPu96pRgg8BFiUQEb2VbxIlsM9C42v68sq3Cg7vvWnxYaG439/if5Ose+Bg44sS0WN3\n",
       "2/re0mntjgg0QONFo6X/D6/SSQ8PPPDAAw888MD/Lew7awAjAqQe4GhfgKweAO9lxYWhB75GZw14\n",
       "L97KlUUj0Ksf8lQaComvGzgQ/nd8CsV/kcfegEUe9njqV0cEnFwz3m4mxzvD5+xYBBT3pyICOfHj\n",
       "c6sphKJHv4lTiyhUIwKzv/EzixYor9/Iht7gLEoQyTCLCETRgSgiwDx1EQl7E0Qe/hZcMBGEoBeB\n",
       "k8fwVLQwymA99WW8oy19fRCRfPAaO4jCJHUDWi7SW4CcSMie2cam9TBYeSEh6TfQ5GPfm4sgGL5u\n",
       "bGfdwLGGQkE9QElhZWO4ayA9mvg6WWW3rNLlaQMZ/tsqlFB5i8MrPVe668E/nxmt6rMI5xaeXTb/\n",
       "jHEgsr2YM3lm88/w3jP2ucHHq/MtXgnrGJ9TOe2i/IxDKNMZeQ7CTIlbBQcTU3xmAPwWoAT139MI\n",
       "pWdDtdlm4iK0yZAIPV9IGQf9e1CGxOf/mTQ1sr+1RUTW4omEbL6IQA+DxYf6kwZEK9RGIF3WGMjK\n",
       "RcfIrkD2njx9+iAq6qPbAbN6gFlUwS6uctLgRosXC2JzojFGFCJT+mongYT4Q0bAyZS9HbugUNHy\n",
       "q/JmeDh+pSFg721r92MRnwivxGenIcCUXlWRi/D3ZtkQ2MFnL5yhXVVwDCucyeRh+e67IwKJcYDz\n",
       "HL6Za2lZnndHBDI+Oq8/5x1FCUQk3QWAtQsYJbA7/ZqE7/f4ylv9AM1yt/exehaQuye7C9oVdxc0\n",
       "eWiU4DOcfQ/Civ+CBkRveSu6luaIOPAIgRt7Th984IEHHnjggQdmUIsIFOsBWOtfS0tV3Vs8uIfe\n",
       "+IdIXoPgqvlxHcQrjyICq09BbLLOvWyVBki8+GqvA7s2f68YQYAoQHhvsrYfiwiIh728o7nZ/IhP\n",
       "1dM/49FX5Nk79xugHBEoeO/pfDZWiBywvDjjfeZeip/I/A0RgTyvz2lhdGC7jggB22UQrmNZVJ59\n",
       "e14w38gjL99QiEUc2PkDldw/lafzFrc2nG9rEJTXbzx2PMDoDbsebHTgNSaqtsFWfjd26NChUAEF\n",
       "CmX1NCJaqk8BzXPvUJZJD4N11TRCWpN8/R5FrfDJdsCSPOnaJJ3HDIAZn3BtP2UImHsMv8o7mpvN\n",
       "d2MZnhs5p8ivmP+N8KvyM0PCyIMYX/GkUeYv/e6bhHXpyIwqkf4MzIRF/7mhLlI5+lg/V52aQTb0\n",
       "txvIo3AXcWOO1joW4N5PqnghGLfzrL6Cv+l7ktCKIwJS7CPQ8IOjiS0tjAJEXjy29E27EyadBVEJ\n",
       "VncStPlWgbKdBGoXQH8GrNugfq6RPLlRJG7MzcNrZrR8gyFg6GQ0j/CO5qrPMz7B/LNjd8C3GgxV\n",
       "r/7ss6tGFJyHjH+rl3ktcmA/744IFO4xGX8jIlDL6+f4LEqwrZHvNuDV/NqbH560+D4F0H9geNKD\n",
       "5vheiaef1A24aIT4XQw2yoD3XkCDHROsogPbQnR0YJsIcgVHDgPM6gb+NYXYQCnLgiGAij1V1KWC\n",
       "wA/JoBNh1sIY50brYEaOU7JRQyFQ/HhP0AiBIkCrcGbyeAU6+ETKWym/grL/FUMgwKvSPMLb3OC8\n",
       "PeYhea6Cb1XmZ+DMmvakBqrfUVUpW85njITThkBiHCyr7yw4432lIcDC+XuLC7dr3MqYyrj45kSY\n",
       "GqCGQ1dU/lk0DajkMoo3k+ctL2fkKNyk6G+0+213SNpgXcS1BSaGxpl0wVMs+MADDzzwwAN/GI71\n",
       "EVhXsXmJLLwd1QM473eSBojlCWRM5HKRgGzdZDvgNA1Aoha5PDziMP8e6l7/j0YEyFg2/0yUwD4L\n",
       "JY+byefv4V2Fn/LyvzWasMert7BnTWdSEKV5wKfR6BzXuCUx8uw464V9BJbF/eZ/G9pK9km1+BnL\n",
       "eHdaD/z1ejk+25bC9t0YbxskY2+ExbyzRMhjXeLfjz77QH+3IqaRkPCWweMMAZRhdbwXS38J3lVG\n",
       "jyBNNnaos2BUD8A6BHZatEHQhyfhk+0kGDT6ahVdtw5XD6AbAnm5tKKmxxBP0gChPEEaYI/yZny+\n",
       "whCY0Mjm7zUEKkqf8ba0Z2PVuXvgWxX31XDHOpnSrPKxc9lvLeJhx1kqwe1UAJxKnUE5NcDC7VbW\n",
       "NT8C+Y7UQJQuaOuv0WrTrkkX9HktjP9RuIustMK/EcDdBU2e6u4CEd1Z0IX6yS6ABi950fMKLG+V\n",
       "KiBdBPfWDTypgQceeOCBBx74w/BfNjxycmS8pSwAAAAASUVORK5CYII=\n",
       "\" transform=\"translate(21, 3)\"/>\n",
       "</g>\n",
       "<defs>\n",
       "  <clipPath id=\"clip03\">\n",
       "    <rect x=\"548\" y=\"3\" width=\"19\" height=\"382\"/>\n",
       "  </clipPath>\n",
       "</defs>\n",
       "<g clip-path=\"url(#clip03)\">\n",
       "<image width=\"18\" height=\"381\" xlink:href=\"data:;base64,\n",
       "iVBORw0KGgoAAAANSUhEUgAAABIAAAF9CAYAAAAJGzhsAAAA2klEQVR4nO3cMQrDMBBFQTls5/vf\n",
       "0XGwpAvESa90RoYlzDvAwFa/EVrO8/0pE3rMQEAgEAgE+jcotm2bAuU7DQQCgUCg68Vr36dA+U4D\n",
       "gUAgECgBFE9LCwKBQCDQT3EcxxQo32kgEAgEAl3PQIJAIBAIdCcUtdYpUL7TQCAQCAS6XrTWpkD5\n",
       "TgOBQCAQKAEUrVpaEAgEAoHGonUDCQKBQCDQWPTWp0D5TgOBQCAQKAEUvVtaEAgEAoHGvKsFgUAg\n",
       "EOhOaFnX1RfzIBAIBAINLaUUAwkCgUAg0NAX4Swqg9O44JoAAAAASUVORK5CYII=\n",
       "\" transform=\"translate(548, 3)\"/>\n",
       "</g>\n",
       "<g clip-path=\"url(#clip00)\">\n",
       "<text style=\"fill:#00002d; fill-opacity:1; font-family:Arial,Helvetica Neue,Helvetica,sans-serif; font-size:12; text-anchor:start;\" transform=\"rotate(0, 575.063, 340.752)\" x=\"575.063\" y=\"340.752\">-</text>\n",
       "</g>\n",
       "<g clip-path=\"url(#clip00)\">\n",
       "<text style=\"fill:#00002d; fill-opacity:1; font-family:Arial,Helvetica Neue,Helvetica,sans-serif; font-size:12; text-anchor:start;\" transform=\"rotate(0, 581.984, 340.752)\" x=\"581.984\" y=\"340.752\">3</text>\n",
       "</g>\n",
       "<g clip-path=\"url(#clip00)\">\n",
       "<text style=\"fill:#00002d; fill-opacity:1; font-family:Arial,Helvetica Neue,Helvetica,sans-serif; font-size:12; text-anchor:start;\" transform=\"rotate(0, 575.063, 293.121)\" x=\"575.063\" y=\"293.121\">-</text>\n",
       "</g>\n",
       "<g clip-path=\"url(#clip00)\">\n",
       "<text style=\"fill:#00002d; fill-opacity:1; font-family:Arial,Helvetica Neue,Helvetica,sans-serif; font-size:12; text-anchor:start;\" transform=\"rotate(0, 581.984, 293.121)\" x=\"581.984\" y=\"293.121\">2</text>\n",
       "</g>\n",
       "<g clip-path=\"url(#clip00)\">\n",
       "<text style=\"fill:#00002d; fill-opacity:1; font-family:Arial,Helvetica Neue,Helvetica,sans-serif; font-size:12; text-anchor:start;\" transform=\"rotate(0, 575.063, 245.489)\" x=\"575.063\" y=\"245.489\">-</text>\n",
       "</g>\n",
       "<g clip-path=\"url(#clip00)\">\n",
       "<text style=\"fill:#00002d; fill-opacity:1; font-family:Arial,Helvetica Neue,Helvetica,sans-serif; font-size:12; text-anchor:start;\" transform=\"rotate(0, 581.984, 245.489)\" x=\"581.984\" y=\"245.489\">1</text>\n",
       "</g>\n",
       "<g clip-path=\"url(#clip00)\">\n",
       "<text style=\"fill:#00002d; fill-opacity:1; font-family:Arial,Helvetica Neue,Helvetica,sans-serif; font-size:12; text-anchor:start;\" transform=\"rotate(0, 575.063, 197.857)\" x=\"575.063\" y=\"197.857\">0</text>\n",
       "</g>\n",
       "<g clip-path=\"url(#clip00)\">\n",
       "<text style=\"fill:#00002d; fill-opacity:1; font-family:Arial,Helvetica Neue,Helvetica,sans-serif; font-size:12; text-anchor:start;\" transform=\"rotate(0, 575.063, 150.226)\" x=\"575.063\" y=\"150.226\">1</text>\n",
       "</g>\n",
       "<g clip-path=\"url(#clip00)\">\n",
       "<text style=\"fill:#00002d; fill-opacity:1; font-family:Arial,Helvetica Neue,Helvetica,sans-serif; font-size:12; text-anchor:start;\" transform=\"rotate(0, 575.063, 102.594)\" x=\"575.063\" y=\"102.594\">2</text>\n",
       "</g>\n",
       "<g clip-path=\"url(#clip00)\">\n",
       "<text style=\"fill:#00002d; fill-opacity:1; font-family:Arial,Helvetica Neue,Helvetica,sans-serif; font-size:12; text-anchor:start;\" transform=\"rotate(0, 575.063, 54.9621)\" x=\"575.063\" y=\"54.9621\">3</text>\n",
       "</g>\n",
       "<polyline clip-path=\"url(#clip00)\" style=\"stroke:#00002d; stroke-width:0.8; stroke-opacity:1; fill:none\" points=\"\n",
       "  566.063,384.952 566.063,337.34 572.063,337.34 566.063,337.34 566.063,289.708 572.063,289.708 566.063,289.708 566.063,242.076 572.063,242.076 566.063,242.076 \n",
       "  566.063,194.444 572.063,194.444 566.063,194.444 566.063,146.813 572.063,146.813 566.063,146.813 566.063,99.181 572.063,99.181 566.063,99.181 566.063,51.5493 \n",
       "  572.063,51.5493 566.063,51.5493 566.063,3.93701 \n",
       "  \"/>\n",
       "</svg>\n"
      ]
     },
     "execution_count": 182,
     "metadata": {},
     "output_type": "execute_result"
    }
   ],
   "source": [
    "contour(x, y, bat, fill=true, c=:gray)"
   ]
  },
  {
   "cell_type": "code",
   "execution_count": 183,
   "metadata": {
    "collapsed": false
   },
   "outputs": [
    {
     "data": {
      "text/html": [
       "<?xml version=\"1.0\" encoding=\"utf-8\"?>\n",
       "<svg xmlns=\"http://www.w3.org/2000/svg\" xmlns:xlink=\"http://www.w3.org/1999/xlink\" width=\"600\" height=\"400\" viewBox=\"0 0 600 400\">\n",
       "<defs>\n",
       "  <clipPath id=\"clip00\">\n",
       "    <rect x=\"0\" y=\"0\" width=\"600\" height=\"400\"/>\n",
       "  </clipPath>\n",
       "</defs>\n",
       "<polygon clip-path=\"url(#clip00)\" points=\"\n",
       "0,400 600,400 600,0 0,0 \n",
       "  \" fill=\"#ffffff\" fill-opacity=\"1\"/>\n",
       "<defs>\n",
       "  <clipPath id=\"clip01\">\n",
       "    <rect x=\"120\" y=\"0\" width=\"421\" height=\"400\"/>\n",
       "  </clipPath>\n",
       "</defs>\n",
       "<polygon clip-path=\"url(#clip00)\" points=\"\n",
       "21.7148,384.952 596.063,384.952 596.063,3.93701 21.7148,3.93701 \n",
       "  \" fill=\"#ffffff\" fill-opacity=\"1\"/>\n",
       "<defs>\n",
       "  <clipPath id=\"clip02\">\n",
       "    <rect x=\"21\" y=\"3\" width=\"515\" height=\"382\"/>\n",
       "  </clipPath>\n",
       "</defs>\n",
       "<polyline clip-path=\"url(#clip00)\" style=\"stroke:#cccccc; stroke-width:0.8; stroke-opacity:1; fill:none\" points=\"\n",
       "  21.7148,279.187 256.389,128.972 \n",
       "  \"/>\n",
       "<polyline clip-path=\"url(#clip00)\" style=\"stroke:#cccccc; stroke-width:0.8; stroke-opacity:1; fill:none\" points=\"\n",
       "  21.7148,279.187 301.389,384.952 \n",
       "  \"/>\n",
       "<polyline clip-path=\"url(#clip00)\" style=\"stroke:#ededed; stroke-width:0.8; stroke-opacity:1; fill:none\" points=\"\n",
       "  21.7148,263.558 256.389,113.342 \n",
       "  \"/>\n",
       "<polyline clip-path=\"url(#clip00)\" style=\"stroke:#ededed; stroke-width:0.8; stroke-opacity:1; fill:none\" points=\"\n",
       "  21.7148,263.558 301.389,369.323 \n",
       "  \"/>\n",
       "<polyline clip-path=\"url(#clip00)\" style=\"stroke:#cccccc; stroke-width:0.8; stroke-opacity:1; fill:none\" points=\"\n",
       "  21.7148,247.928 256.389,97.7131 \n",
       "  \"/>\n",
       "<polyline clip-path=\"url(#clip00)\" style=\"stroke:#cccccc; stroke-width:0.8; stroke-opacity:1; fill:none\" points=\"\n",
       "  21.7148,247.928 301.389,353.693 \n",
       "  \"/>\n",
       "<polyline clip-path=\"url(#clip00)\" style=\"stroke:#ededed; stroke-width:0.8; stroke-opacity:1; fill:none\" points=\"\n",
       "  21.7148,232.299 256.389,82.0838 \n",
       "  \"/>\n",
       "<polyline clip-path=\"url(#clip00)\" style=\"stroke:#ededed; stroke-width:0.8; stroke-opacity:1; fill:none\" points=\"\n",
       "  21.7148,232.299 301.389,338.064 \n",
       "  \"/>\n",
       "<polyline clip-path=\"url(#clip00)\" style=\"stroke:#cccccc; stroke-width:0.8; stroke-opacity:1; fill:none\" points=\"\n",
       "  21.7148,216.67 256.389,66.4544 \n",
       "  \"/>\n",
       "<polyline clip-path=\"url(#clip00)\" style=\"stroke:#cccccc; stroke-width:0.8; stroke-opacity:1; fill:none\" points=\"\n",
       "  21.7148,216.67 301.389,322.434 \n",
       "  \"/>\n",
       "<polyline clip-path=\"url(#clip00)\" style=\"stroke:#ededed; stroke-width:0.8; stroke-opacity:1; fill:none\" points=\"\n",
       "  21.7148,201.04 256.389,50.8251 \n",
       "  \"/>\n",
       "<polyline clip-path=\"url(#clip00)\" style=\"stroke:#ededed; stroke-width:0.8; stroke-opacity:1; fill:none\" points=\"\n",
       "  21.7148,201.04 301.389,306.805 \n",
       "  \"/>\n",
       "<polyline clip-path=\"url(#clip00)\" style=\"stroke:#cccccc; stroke-width:0.8; stroke-opacity:1; fill:none\" points=\"\n",
       "  21.7148,185.411 256.389,35.1957 \n",
       "  \"/>\n",
       "<polyline clip-path=\"url(#clip00)\" style=\"stroke:#cccccc; stroke-width:0.8; stroke-opacity:1; fill:none\" points=\"\n",
       "  21.7148,185.411 301.389,291.176 \n",
       "  \"/>\n",
       "<polyline clip-path=\"url(#clip00)\" style=\"stroke:#ededed; stroke-width:0.8; stroke-opacity:1; fill:none\" points=\"\n",
       "  21.7148,169.782 256.389,19.5664 \n",
       "  \"/>\n",
       "<polyline clip-path=\"url(#clip00)\" style=\"stroke:#ededed; stroke-width:0.8; stroke-opacity:1; fill:none\" points=\"\n",
       "  21.7148,169.782 301.389,275.546 \n",
       "  \"/>\n",
       "<polyline clip-path=\"url(#clip00)\" style=\"stroke:#cccccc; stroke-width:0.8; stroke-opacity:1; fill:none\" points=\"\n",
       "  21.7148,154.152 256.389,3.93701 \n",
       "  \"/>\n",
       "<polyline clip-path=\"url(#clip00)\" style=\"stroke:#cccccc; stroke-width:0.8; stroke-opacity:1; fill:none\" points=\"\n",
       "  21.7148,154.152 301.389,259.917 \n",
       "  \"/>\n",
       "<polyline clip-path=\"url(#clip00)\" style=\"stroke:#cccccc; stroke-width:0.8; stroke-opacity:1; fill:none\" points=\"\n",
       "  21.7148,279.187 256.389,128.972 \n",
       "  \"/>\n",
       "<polyline clip-path=\"url(#clip00)\" style=\"stroke:#cccccc; stroke-width:0.8; stroke-opacity:1; fill:none\" points=\"\n",
       "  21.7148,279.187 21.7148,154.152 \n",
       "  \"/>\n",
       "<polyline clip-path=\"url(#clip00)\" style=\"stroke:#ededed; stroke-width:0.8; stroke-opacity:1; fill:none\" points=\"\n",
       "  56.674,292.408 291.348,142.192 \n",
       "  \"/>\n",
       "<polyline clip-path=\"url(#clip00)\" style=\"stroke:#ededed; stroke-width:0.8; stroke-opacity:1; fill:none\" points=\"\n",
       "  56.674,292.408 56.674,167.373 \n",
       "  \"/>\n",
       "<polyline clip-path=\"url(#clip00)\" style=\"stroke:#cccccc; stroke-width:0.8; stroke-opacity:1; fill:none\" points=\"\n",
       "  91.6333,305.628 326.308,155.413 \n",
       "  \"/>\n",
       "<polyline clip-path=\"url(#clip00)\" style=\"stroke:#cccccc; stroke-width:0.8; stroke-opacity:1; fill:none\" points=\"\n",
       "  91.6333,305.628 91.6333,180.593 \n",
       "  \"/>\n",
       "<polyline clip-path=\"url(#clip00)\" style=\"stroke:#ededed; stroke-width:0.8; stroke-opacity:1; fill:none\" points=\"\n",
       "  126.593,318.849 361.267,168.634 \n",
       "  \"/>\n",
       "<polyline clip-path=\"url(#clip00)\" style=\"stroke:#ededed; stroke-width:0.8; stroke-opacity:1; fill:none\" points=\"\n",
       "  126.593,318.849 126.593,193.814 \n",
       "  \"/>\n",
       "<polyline clip-path=\"url(#clip00)\" style=\"stroke:#cccccc; stroke-width:0.8; stroke-opacity:1; fill:none\" points=\"\n",
       "  161.552,332.069 396.226,181.854 \n",
       "  \"/>\n",
       "<polyline clip-path=\"url(#clip00)\" style=\"stroke:#cccccc; stroke-width:0.8; stroke-opacity:1; fill:none\" points=\"\n",
       "  161.552,332.069 161.552,207.035 \n",
       "  \"/>\n",
       "<polyline clip-path=\"url(#clip00)\" style=\"stroke:#ededed; stroke-width:0.8; stroke-opacity:1; fill:none\" points=\"\n",
       "  196.511,345.29 431.185,195.075 \n",
       "  \"/>\n",
       "<polyline clip-path=\"url(#clip00)\" style=\"stroke:#ededed; stroke-width:0.8; stroke-opacity:1; fill:none\" points=\"\n",
       "  196.511,345.29 196.511,220.255 \n",
       "  \"/>\n",
       "<polyline clip-path=\"url(#clip00)\" style=\"stroke:#cccccc; stroke-width:0.8; stroke-opacity:1; fill:none\" points=\"\n",
       "  231.47,358.511 466.145,208.295 \n",
       "  \"/>\n",
       "<polyline clip-path=\"url(#clip00)\" style=\"stroke:#cccccc; stroke-width:0.8; stroke-opacity:1; fill:none\" points=\"\n",
       "  231.47,358.511 231.47,233.476 \n",
       "  \"/>\n",
       "<polyline clip-path=\"url(#clip00)\" style=\"stroke:#ededed; stroke-width:0.8; stroke-opacity:1; fill:none\" points=\"\n",
       "  266.429,371.731 501.104,221.516 \n",
       "  \"/>\n",
       "<polyline clip-path=\"url(#clip00)\" style=\"stroke:#ededed; stroke-width:0.8; stroke-opacity:1; fill:none\" points=\"\n",
       "  266.429,371.731 266.429,246.696 \n",
       "  \"/>\n",
       "<polyline clip-path=\"url(#clip00)\" style=\"stroke:#cccccc; stroke-width:0.8; stroke-opacity:1; fill:none\" points=\"\n",
       "  301.389,384.952 536.063,234.737 \n",
       "  \"/>\n",
       "<polyline clip-path=\"url(#clip00)\" style=\"stroke:#cccccc; stroke-width:0.8; stroke-opacity:1; fill:none\" points=\"\n",
       "  301.389,384.952 301.389,259.917 \n",
       "  \"/>\n",
       "<polyline clip-path=\"url(#clip00)\" style=\"stroke:#cccccc; stroke-width:0.8; stroke-opacity:1; fill:none\" points=\"\n",
       "  21.7148,279.187 301.389,384.952 \n",
       "  \"/>\n",
       "<polyline clip-path=\"url(#clip00)\" style=\"stroke:#cccccc; stroke-width:0.8; stroke-opacity:1; fill:none\" points=\"\n",
       "  301.389,384.952 301.389,259.917 \n",
       "  \"/>\n",
       "<polyline clip-path=\"url(#clip00)\" style=\"stroke:#ededed; stroke-width:0.8; stroke-opacity:1; fill:none\" points=\"\n",
       "  51.0491,260.41 330.723,366.175 \n",
       "  \"/>\n",
       "<polyline clip-path=\"url(#clip00)\" style=\"stroke:#ededed; stroke-width:0.8; stroke-opacity:1; fill:none\" points=\"\n",
       "  330.723,366.175 330.723,241.14 \n",
       "  \"/>\n",
       "<polyline clip-path=\"url(#clip00)\" style=\"stroke:#cccccc; stroke-width:0.8; stroke-opacity:1; fill:none\" points=\"\n",
       "  80.3834,241.633 360.057,347.398 \n",
       "  \"/>\n",
       "<polyline clip-path=\"url(#clip00)\" style=\"stroke:#cccccc; stroke-width:0.8; stroke-opacity:1; fill:none\" points=\"\n",
       "  360.057,347.398 360.057,222.363 \n",
       "  \"/>\n",
       "<polyline clip-path=\"url(#clip00)\" style=\"stroke:#ededed; stroke-width:0.8; stroke-opacity:1; fill:none\" points=\"\n",
       "  109.718,222.856 389.392,328.621 \n",
       "  \"/>\n",
       "<polyline clip-path=\"url(#clip00)\" style=\"stroke:#ededed; stroke-width:0.8; stroke-opacity:1; fill:none\" points=\"\n",
       "  389.392,328.621 389.392,203.586 \n",
       "  \"/>\n",
       "<polyline clip-path=\"url(#clip00)\" style=\"stroke:#cccccc; stroke-width:0.8; stroke-opacity:1; fill:none\" points=\"\n",
       "  139.052,204.079 418.726,309.844 \n",
       "  \"/>\n",
       "<polyline clip-path=\"url(#clip00)\" style=\"stroke:#cccccc; stroke-width:0.8; stroke-opacity:1; fill:none\" points=\"\n",
       "  418.726,309.844 418.726,184.809 \n",
       "  \"/>\n",
       "<polyline clip-path=\"url(#clip00)\" style=\"stroke:#ededed; stroke-width:0.8; stroke-opacity:1; fill:none\" points=\"\n",
       "  168.386,185.303 448.06,291.067 \n",
       "  \"/>\n",
       "<polyline clip-path=\"url(#clip00)\" style=\"stroke:#ededed; stroke-width:0.8; stroke-opacity:1; fill:none\" points=\"\n",
       "  448.06,291.067 448.06,166.033 \n",
       "  \"/>\n",
       "<polyline clip-path=\"url(#clip00)\" style=\"stroke:#cccccc; stroke-width:0.8; stroke-opacity:1; fill:none\" points=\"\n",
       "  197.72,166.526 477.394,272.29 \n",
       "  \"/>\n",
       "<polyline clip-path=\"url(#clip00)\" style=\"stroke:#cccccc; stroke-width:0.8; stroke-opacity:1; fill:none\" points=\"\n",
       "  477.394,272.29 477.394,147.256 \n",
       "  \"/>\n",
       "<polyline clip-path=\"url(#clip00)\" style=\"stroke:#ededed; stroke-width:0.8; stroke-opacity:1; fill:none\" points=\"\n",
       "  227.055,147.749 506.729,253.514 \n",
       "  \"/>\n",
       "<polyline clip-path=\"url(#clip00)\" style=\"stroke:#ededed; stroke-width:0.8; stroke-opacity:1; fill:none\" points=\"\n",
       "  506.729,253.514 506.729,128.479 \n",
       "  \"/>\n",
       "<polyline clip-path=\"url(#clip00)\" style=\"stroke:#cccccc; stroke-width:0.8; stroke-opacity:1; fill:none\" points=\"\n",
       "  256.389,128.972 536.063,234.737 \n",
       "  \"/>\n",
       "<polyline clip-path=\"url(#clip00)\" style=\"stroke:#cccccc; stroke-width:0.8; stroke-opacity:1; fill:none\" points=\"\n",
       "  536.063,234.737 536.063,109.702 \n",
       "  \"/>\n",
       "<polyline clip-path=\"url(#clip00)\" style=\"stroke:#00002d; stroke-width:1; stroke-opacity:1; fill:none\" points=\"\n",
       "  -4.11423,247.784 2.36488,250.234 \n",
       "  \"/>\n",
       "<polyline clip-path=\"url(#clip00)\" style=\"stroke:#00002d; stroke-width:1; stroke-opacity:1; fill:none\" points=\"\n",
       "  5.24449,248.443 5.24449,248.032 5.60444,247.345 5.96439,247.07 6.68429,246.931 8.12409,247.475 8.84399,248.159 9.20394,248.706 9.56389,249.665 9.56389,250.488 \n",
       "  9.20394,251.175 8.48404,252.137 4.88453,254.89 9.92384,256.796 \n",
       "  \"/>\n",
       "<polyline clip-path=\"url(#clip00)\" style=\"stroke:#00002d; stroke-width:1; stroke-opacity:1; fill:none\" points=\"\n",
       "  7.04424,215.808 5.96439,215.811 5.24449,216.773 4.88453,218.694 4.88453,219.928 5.24449,222.122 5.96439,223.628 7.04424,224.448 7.76414,224.72 8.84399,224.717 \n",
       "  9.56389,223.755 9.92384,221.834 9.92384,220.6 9.56389,218.407 8.84399,216.9 7.76414,216.08 7.04424,215.808 \n",
       "  \"/>\n",
       "<polyline clip-path=\"url(#clip00)\" style=\"stroke:#00002d; stroke-width:1; stroke-opacity:1; fill:none\" points=\"\n",
       "  5.24449,185.926 5.24449,185.514 5.60444,184.828 5.96439,184.552 6.68429,184.413 8.12409,184.958 8.84399,185.641 9.20394,186.189 9.56389,187.148 9.56389,187.971 \n",
       "  9.20394,188.657 8.48404,189.619 4.88453,192.372 9.92384,194.278 \n",
       "  \"/>\n",
       "<polyline clip-path=\"url(#clip00)\" style=\"stroke:#00002d; stroke-width:1; stroke-opacity:1; fill:none\" points=\"\n",
       "  8.48404,153.835 4.88453,158.234 10.2838,160.276 \n",
       "  \"/>\n",
       "<polyline clip-path=\"url(#clip00)\" style=\"stroke:#00002d; stroke-width:1; stroke-opacity:1; fill:none\" points=\"\n",
       "  8.48404,153.835 8.48404,162.475 \n",
       "  \"/>\n",
       "<polyline clip-path=\"url(#clip00)\" style=\"stroke:#000000; stroke-width:0.8; stroke-opacity:1; fill:none\" points=\"\n",
       "  21.7148,279.187 21.7148,279.187 15.3788,283.243 21.7148,279.187 21.7148,263.558 18.5468,265.586 21.7148,263.558 21.7148,247.928 15.3788,251.984 21.7148,247.928 \n",
       "  21.7148,232.299 18.5468,234.327 21.7148,232.299 21.7148,216.67 15.3788,220.725 21.7148,216.67 21.7148,201.04 18.5468,203.068 21.7148,201.04 21.7148,185.411 \n",
       "  15.3788,189.467 21.7148,185.411 21.7148,169.782 18.5468,171.809 21.7148,169.782 21.7148,154.152 15.3788,158.208 21.7148,154.152 \n",
       "  \"/>\n",
       "<polyline clip-path=\"url(#clip00)\" style=\"stroke:#00002d; stroke-width:1; stroke-opacity:1; fill:none\" points=\"\n",
       "  68.8311,320.749 73.8345,317.547 \n",
       "  \"/>\n",
       "<polyline clip-path=\"url(#clip00)\" style=\"stroke:#00002d; stroke-width:1; stroke-opacity:1; fill:none\" points=\"\n",
       "  73.5356,314.603 73.7067,314.102 73.3861,313.131 81.4675,316.187 \n",
       "  \"/>\n",
       "<polyline clip-path=\"url(#clip00)\" style=\"stroke:#00002d; stroke-width:1; stroke-opacity:1; fill:none\" points=\"\n",
       "  142.749,339.928 142.3,340.608 142.898,341.4 144.544,342.306 145.699,342.742 147.901,343.292 149.611,343.373 150.83,342.985 151.386,342.629 151.835,341.949 \n",
       "  151.237,341.157 149.59,340.251 148.436,339.815 146.234,339.265 144.523,339.184 143.305,339.573 142.749,339.928 \n",
       "  \"/>\n",
       "<polyline clip-path=\"url(#clip00)\" style=\"stroke:#00002d; stroke-width:1; stroke-opacity:1; fill:none\" points=\"\n",
       "  213.373,367.485 213.544,366.984 213.223,366.014 221.304,369.07 \n",
       "  \"/>\n",
       "<polyline clip-path=\"url(#clip00)\" style=\"stroke:#00002d; stroke-width:1; stroke-opacity:1; fill:none\" points=\"\n",
       "  283.12,394.428 282.735,394.283 282.243,393.814 282.137,393.49 282.308,392.989 283.42,392.277 284.36,392.067 285.023,392.034 286.071,392.147 286.84,392.438 \n",
       "  287.332,392.907 287.931,393.7 288.999,396.934 292.891,394.443 \n",
       "  \"/>\n",
       "<polyline clip-path=\"url(#clip00)\" style=\"stroke:#000000; stroke-width:0.8; stroke-opacity:1; fill:none\" points=\"\n",
       "  21.7148,279.187 21.7148,279.187 15.3788,283.243 21.7148,279.187 56.674,292.408 53.5061,294.436 56.674,292.408 91.6333,305.628 85.2973,309.684 91.6333,305.628 \n",
       "  126.593,318.849 123.425,320.877 126.593,318.849 161.552,332.069 155.216,336.125 161.552,332.069 196.511,345.29 193.343,347.318 196.511,345.29 231.47,358.511 \n",
       "  225.134,362.566 231.47,358.511 266.429,371.731 263.261,373.759 266.429,371.731 301.389,384.952 295.053,389.008 301.389,384.952 \n",
       "  \"/>\n",
       "<polyline clip-path=\"url(#clip00)\" style=\"stroke:#00002d; stroke-width:1; stroke-opacity:1; fill:none\" points=\"\n",
       "  371.594,352.234 377.15,354.335 \n",
       "  \"/>\n",
       "<polyline clip-path=\"url(#clip00)\" style=\"stroke:#00002d; stroke-width:1; stroke-opacity:1; fill:none\" points=\"\n",
       "  383.01,353.728 383.974,353.74 385.939,353.425 378.662,358.083 \n",
       "  \"/>\n",
       "<polyline clip-path=\"url(#clip00)\" style=\"stroke:#00002d; stroke-width:1; stroke-opacity:1; fill:none\" points=\"\n",
       "  435.964,312.602 434.691,312.474 433.035,312.906 430.993,313.898 429.954,314.563 428.53,315.789 428.108,316.688 428.687,317.26 429.305,317.494 430.577,317.622 \n",
       "  432.234,317.19 434.275,316.198 435.315,315.532 436.739,314.307 437.161,313.408 436.581,312.836 435.964,312.602 \n",
       "  \"/>\n",
       "<polyline clip-path=\"url(#clip00)\" style=\"stroke:#00002d; stroke-width:1; stroke-opacity:1; fill:none\" points=\"\n",
       "  492.32,275.585 493.284,275.597 495.25,275.282 487.973,279.94 \n",
       "  \"/>\n",
       "<polyline clip-path=\"url(#clip00)\" style=\"stroke:#00002d; stroke-width:1; stroke-opacity:1; fill:none\" points=\"\n",
       "  550.025,238.02 550.372,237.798 551.373,237.471 552.029,237.366 552.993,237.378 554.227,237.845 554.498,238.3 554.46,238.639 554.076,239.199 553.383,239.643 \n",
       "  552.381,239.969 550.724,240.401 544.172,241.452 548.494,243.086 \n",
       "  \"/>\n",
       "<polyline clip-path=\"url(#clip00)\" style=\"stroke:#000000; stroke-width:0.8; stroke-opacity:1; fill:none\" points=\"\n",
       "  301.389,384.952 301.389,384.952 306.982,387.067 301.389,384.952 330.723,366.175 333.52,367.233 330.723,366.175 360.057,347.398 365.651,349.513 360.057,347.398 \n",
       "  389.392,328.621 392.188,329.679 389.392,328.621 418.726,309.844 424.319,311.96 418.726,309.844 448.06,291.067 450.857,292.125 448.06,291.067 477.394,272.29 \n",
       "  482.988,274.406 477.394,272.29 506.729,253.514 509.525,254.571 506.729,253.514 536.063,234.737 541.656,236.852 536.063,234.737 \n",
       "  \"/>\n",
       "<g clip-path=\"url(#clip02)\">\n",
       "<image width=\"514\" height=\"381\" xlink:href=\"data:;base64,\n",
       "iVBORw0KGgoAAAANSUhEUgAAAgIAAAF9CAYAAAB22QBFAAAgAElEQVR4nOy9a7Rty1YW9tWYa+1z\n",
       "zj3nXO69XN4gQb2AiBeNMSpETTTEmJYETdQYohECSIAIJmlqMJKntgRbjPKIqKhAsKnNRsR3w0eM\n",
       "qBBtvhAFQaKACPfBfZxz9mPtteYc1fOjqld9vVeNuebeZ5+z99mrf63NNcaoUa8x5lzj+6r3XjWS\n",
       "iCAQCAQCgcDNxPK4OxAIBAKBQODxIYRAIBAIBAI3GCEEAoFAIBC4wQghEAgEAoHADUYIgUAgEAgE\n",
       "bjBCCAQCgUAgcIMRQiAQCAQCgRuMEAKBQCAQCNxghBAIBAKBQOAGI4RAIBAIBAI3GCEEAoFAIBC4\n",
       "wQghEAgEAoHADUYIgUAgEAgEbjBCCAQCgUAgcIMRQiAQCAQCgRuMEAKBQCAQCNxghBAIBAKBQOAG\n",
       "I4RAIBAIBAI3GCEEAoFAIBC4wQghEAgEAoHADUYIgUAgEAgEbjBCCAQCgUAgcIMRQiAQCAQCgRuM\n",
       "EAKBQCAQCNxghBAIBAKBQOAGI4RAIBAIBAI3GCEEAoFAIBC4wQghEAgEAoHADUYIgUAgEAgEbjBC\n",
       "CAQCgUAgcIMRQiAQCAQCgRuMEAKBQCAQCNxghBAIBAKBQOAGI4RAIBAIBAI3GCEEAoFAIBC4wQgh\n",
       "EAgEAoHADUYIgUAgEAgEbjBCCAQCgUAgcIMRQiAQCAQCgRuMEAKBQCAQCNxghBAIBAKBQOAGI4RA\n",
       "IBAIBAI3GCEEAoFAIBC4wQghEAgEAoHADUYIgUAgEAgEbjBCCAQCgUAgcIMRQiAQCAQCgRuMEAKB\n",
       "QCAQCNxghBAIBAKBQOAGI4RAIBAIBAI3GCEEAoFAIBC4wQghEAgEAoHADcbZ4+5AIPAocPUdP01S\n",
       "PgDrirSuQF6BdQWAepzL8Zrrfq55MpAByQKsgKwADsD5l1ykx3tFgUAg8Pogicjj7kMgcDLuf/fP\n",
       "F+QVaT0g5Ur4uRB9WldA01cSAkYEODEwEwIrgDWV9DVB8gKsC2Rd8Ox/+8EQCIFA4KlCCIHAE4W7\n",
       "P/QrJEkh90L0+zbCH4hfLQAtTZDWQ7cGHBMCawayQOoWGcYigJwgOVVBsEDyUkTB2kWBrDtIXpDX\n",
       "HWRdkNcFb/3qfxpCIRAIvKEQroHAY8edH/010ohexH0wSfPnct8CPV2h+aFlKL3lL7tJ+umyk1pR\n",
       "k4zEBw0f+JJ3iFSh8Pav/8chCgKBwBOPEAKBx4I77/l1grwCcgAkI1WyTiDS5n3JjfATkz+6IEgs\n",
       "EoDJFlSG0gAjBkw6gE76aX6au4wEIEGQ8N7P+1RRS8FHffN3hSgIBAJPJMI1EHjNcfuDv1GQ98Us\n",
       "L3sgVz++VPN+dQWU4+oGMO6Bg/X/k3uguAjKuZK/+v/zirRWC8FmsKAUV4DGB1T3gMYISF6KeyAv\n",
       "5XjdQarLQKo7QNYdUMk+1+Ocq+sg27R1LW4EAMjrgnXd4R1/6q+HQAgEAo8VYREIvGa4/fJvKUwr\n",
       "lWVlNSP6VEf5Ketov37gjo1p336SWgkA40ZIxj1AroSWD/aYtwxJzejQy1ruFneUWlpCsyZMkJLg\n",
       "+/+9XyA5L/gpf+7/CUEQCAQeC0IIBB45br/y34kl/7JN4gl+tceZTf9ua0RAtu6B6SejUbR3CZh9\n",
       "9Dy89fvFaQEgjW4EytPOD+X1/Bzf80t+kax5wTv/wl8KQRAIBF5XhBAIvCrcvfhKkXyA5ENJEHUB\n",
       "6OdQXQGHuk/n1MQvh+4GYFHgXQBsSWjp/Xwj+awzATR4cBZkmJrloPn3s6YDIhQMKET+FAfQLQPl\n",
       "uFsCKOiQtskog1I2JTEp3/WZv1jWXNwGa17wc//anw5hEAgEXlOEEAg8FO7d/50ibPaHkq6O9Nkl\n",
       "kIfjZLYc6Kekz6N9dhv04MDjFoFZ0CAaKwtcWhvFC0TmC242ot+wCJwUbdO0g0AX9mQxoFlSEqQE\n",
       "/I2f90tlzQt+wXf8iRAEgUDgNUEsMRx4IFxcfpXcu/+/NxEgVQQkIve6Es9EDHC+md+/xAskk9+6\n",
       "CYYZBe5c4pkHLSuJB+8SADbcAjziP4KmDAip/TkBGzMRaoqe/Ss/95efpDMCgUDgQRFCIHAyLi6/\n",
       "yloBZmRvpvqpyf7Y6J7EgyN4m39i3ocTCNcEFgK9iTRYAnTbffzXxwQoHOnLEQ3BdTVLQJrV0gpo\n",
       "+l/82b8yxEAgEHjkCNdAYBNXh98nIitEDhDJEFlLLICs6BYBmv4H9P0aG9CnAmaaEngwQiHVuIFE\n",
       "MQGJ4gRSW0mQYgakxgFovICJLZB6rvKmxgvkbiUQ4X1AYwF438QLSOpxAxofID04cDAwOMqeMXgx\n",
       "HJQGUyrqpLVQXQPlU84nAN/2s36V/Nt/+4+FmyAQCDwyhEUgMEURAZX8zScXd0A9N1oGVuj0P+Mu\n",
       "EF01kFYBNJaBianfuQ1O8f/LdTEDIqOf31gHdEEgTeOAQB6fH6uDMiQuPSL5fRM8KOacehz+7L/y\n",
       "2WEZCAQCjwxhEQgYXB2+vpj/kWGFQDfhj+4BPYcmACyBc5yAI/iZCV9oxL953oqBuXigCxOM6TPy\n",
       "dqKgZSUrgWdh8QkNJbwwoeuJFhiYWrgiklcJScoiRtA1Cnt6km1REQgEAg+DEAIBAMDV4Q8IwCN/\n",
       "6w4QGul3878uEVzN9wCMa4CmCfaVBOtW2MTf3QLN/F+nATaLgpsqmPj4FKuBCLkGultgEAUNfsog\n",
       "5ytuAgG7C/R0DzJsAkEDEtxUwQRpHoyUOL2UaXWTa6C2ij/9M/8TWfOCX/b3vzl0QSAQeFUIIXDD\n",
       "sV//oDRzv7ECkDUAZAEwq/6tjciLUEAh+GYBELIOcODg3CUwBhUK1XONub/lwUQIoJG5iQ1ATx/g\n",
       "RQEnSaPrfv6kehyoGhYNg4FAt82aYDRFIBAIvCpEjMANxn79Qy0OwFoDuiAYZgioJQCcPpslkK0I\n",
       "IFFg03lNAU5z+ZpoOLZ2AEbyJ7YXEgQA7Q+2/r6bOG1iGeD8c24+IhK20Eb/k36YgELgW376rw1J\n",
       "EAgEXhXCInDDcMjfSBaAjUDAmm5M/JlM/Uz8uiqgxgjoLIEmHJToWUhUsjczALI1+zdRIdYN0NwC\n",
       "mV4w5D/OIpBZKMDMVLSrCQI8E6DNFGhpoyuAgwl5ZUFNA4BxjK9lXUBgklafziLQpQ+Tdw+kumZC\n",
       "EvzxT/sc+ZX/4BvDRRAIBB4KYRG4QegiQC0AGTz6F/L562hfzPS8dfLJk3N58qmEthEY6K0E3jWg\n",
       "w/nrXASDdYAFAOyWR/tFMySzX4wJXRTAVdGR3FYPpad5iwJnqyTva5hZBVKNFvQt/tF3fm5YBgKB\n",
       "wEMhLAI3BPv1G6THAOioP5uPErkYMh5fHuSnAPYVBUGjf2/2t8LALC2sFgDkgeinKwtuugj0ajkI\n",
       "AEfFwDTdLSLURvS8tgBn30CxEFQxMEwNOB3JmRr8vAW2JAQCgcCDIoTAU4xD/iZpU/8oENAIAlkh\n",
       "KCZ+aa4AsgY0kz67BlYawXPcACqpr/RqYTL/i7oN2IxPswQozqAtKOTzmniCySdLMffTgkLSFhhC\n",
       "/7B7QABkWiRI0KP/Wx4fHGgFgehiRO1831WUWQbtYBNjbIB3DTj3ABJSEvzhn/afya/+h38oFEEg\n",
       "EHgghGvgKUVxA6gI8HEAvDIgvzOgEG2ZOjhfKyDlDZLPTNzexG99/krSvN4Av4PgevP/ljXADfFn\n",
       "MwfMaYoHAGjLywz7GQN8QBBbbsj7gIb77gaYjP5rt0sekDgAvulTPy9cBIFA4IEQQuApRBcBE/JH\n",
       "H+mLsF9fRcD2ewTScK6LhNQI3L80aHQP2BcP+QWItsie8xPBN7gRP5+fkbHYYpt5uBrXpJlR0Lan\n",
       "xBKcAD8/0LkGTCsaX1AtBt/wUz8/xEAgEDgZSYYHauCNih4H4GcAeDeAJ/0M0emA7T0B6gKg9QPa\n",
       "uUrokOYKQK6zBsgtwIsG6UJC/Z0DPDugLyBU8vZZAiWGgGcM6L70MjxboG6bOwDoroKM9pHqHpA1\n",
       "FbcAfUQSkBdITpA1QWQp6XmBrAsk03HLtyCvC6XV9FzSc01b113pUl6KOyEnrOsOOS8tLecFaz1e\n",
       "84JV6pbSD3nBQdMlYZWStuaEQz3+vO/9+nATBAKBaxExAk8JRhFglwkGpVn/P6fzCH9rZgAHB/aR\n",
       "eps+OET+29UBU3Ud2OBBFgHqKjjmBnAuAbYC+DS4fUzSvPGAYwP4BUNm5gDHELBx/jj3pslKQIlG\n",
       "9Do90S4rLC1AsL2PoC4q1FwD0t9FkIyJIxAIBI4jXANPAYoI8G6AeSwAXFpLb0F7ZAUY3ADd/M/E\n",
       "7mcENPI3QX+O/POM1FlEzM9f/1IhzNMBJxr009cIsG8cBOakTgJAjzkIUNu5BiXS36YNxdwqg4nd\n",
       "AF7d+LcXAvj6n/LrQg0EAoFrEULgDY79+g3iiX8rFmBLGNjZAKMFwJO7sQJMAgJtPjL3u6mCTNRJ\n",
       "hFwFD0H0x6wFwCgAKhKlWda0gX8iowDQWQBdNJgpApgLCduEgaRZF4f82tKSYCwFvOKghjj+3k/+\n",
       "whADgUDgKCJG4A0GuzIg0GMAJisDGiEwxgiof36b/Ls1oFkCWn5yC6j/H2hT/HpMwNrcAUYoSHbE\n",
       "vwJrjxfgMpsrCLbpgj5mADVGoN6i6sVQ7wfMp/jyUf3zxfev26XFDJT96vtfXXwAxQ60Y40PaNsF\n",
       "ed0103+LCah5co0fyDVGoH0klbgAFyewaiyB2HiBQ82/isYKlOMv/v7fG/ECgUBgirAIvIHQR/91\n",
       "rf9BBGja6Aaw+zzKv37VwHHkL4XgMxH+LCbAmPjZtTBzB8xH9ddPJYSxEpTNRNxOLQK0eiA4HfZY\n",
       "3yY4y7P5LoHTeLeP5yfxA/Sq4tY4rSfQLASpuw16T+3ri7/6E78oFH8gEJgiggXfINAXBGkAoFLI\n",
       "GBzIxO8tAmqS96P/+dLAI6HPVgqk9NIhQ+zJkLpv3wkAUL4HFADNOrDhAhhgAgLRwwh0O8s3q28m\n",
       "DMypBxuIM3lDEh2XCn1tfcGh1GYc2pDGdEIIYyAQuMkI18ATjiIAeiBgGfFXOzfq6NeY/Dvxj4sC\n",
       "kX28uQYOdlSP+Si/k39pT6f4GUEAoJv83ZRAChr0UweH+AHO18z9uqW8bsogsjQ90Uz/6MfNLSAA\n",
       "VnUJ6HTBEgMgvFX3wKpT/ciNQCZ/1OmDItZ1kGXiIliLES638+QGyMm4BlZyD6gboE0rbC6APsWw\n",
       "uQWai6C4B3I9d8gJX/YDXxeaIBAIGIRr4AnGfv0DExGwQlf+05cEbc0ImJr7fRCf2+/HW+6BWZqM\n",
       "aTQN0Jj3uX0lep4toERv8m+5D9C3Chq9+6wmz7AA0cwqUEUBAH7LoPglfYTrtU2MLyKipGs0eFtd\n",
       "0KX1mQN9dcHa21aGVx1sZRPwO3/yF4fyDwQCBiEEnlBcHb5eOumzCLCzA64XATrq3hAGagWYWAAG\n",
       "ceBfE8wEbszzmSwDcwEw5PcCYCoG2I0ANDKvuw/8AdCmAyqN+mmEgBUDrby+orjU0V0JtU46fhgX\n",
       "QSliS3oRwI0kX4bEAKDrEJS0r/xJXxJiIBAINIRr4AnE5f7rpPv8BX1hIGf+B8DmfjMjoK0JYEfx\n",
       "hdA88atQkH7s/PhdSEgtL+ir/x1xDTSyX3v0P1sDjDsg18WGSACYWQIgoVFdASsN+XWmALsCgJqW\n",
       "qrsg1ZmLboaAOJeAW01Q00RScyu02QFiZwr4/VyPs84+ANpqg2U1wVLvunZXgF9hcJg9QOdXqbME\n",
       "aL+vOJjqrILiGljrdi8LvvyffW24CQKBQFgEnjSoCOgfdgPYGIDyKcsB94WBZiKAFgvKY7p5iZCS\n",
       "/NR94Pz2JrDPWQl0id+sLxSaWA+cub+siTPLx26AIx/FhgWg79qRvbEENMsAwOsGCKUN0pncBv6k\n",
       "+APxib37SZcIJEytALzQUIJzEYwuhSUJFpR1B3oZwW/7hP8iRgGBQCBmDTxJ8CKgzxDoBGteCgT0\n",
       "YzAh8+t+fbBg/fD7AKYBgXrMhD2eN4QNWDHQ4gO86X809V8/TXBLFOD4RzGcq1YAUNdNOWOQr0H7\n",
       "VhgU68pk6uEmvXYRsZVFSV37VpYYJoYXAc0loOmCCQmCBYJM0xG1rO4vCViq6JisdhwIBG4gwjXw\n",
       "BODy6mtFyPzfXwNc7dxMuiAXAYBxCWAl2fE9Af2tfV0w9DIzC0BuI3o237c2mvWhCgagpZcXC1nR\n",
       "wYF/ycUGJA4KZDfAbAGh5joARKcMsktAj51rQM3+YLfAbKaAvnSIXj6EPHMHdPN/cx3knp5bWn0h\n",
       "UTXnAyiugszugWS2eWM7mzmQzcuHUp01QMdukaFDttt9LmLhf/zhrwlXQSBwAxEWgceM+1dfI+rf\n",
       "FyJtXQcgmel+QhYCEgLVJ5+MVcDFAPDoncRFdwuwkJhYCLwIMBaDegwQmW+N/K3F4PoR/+wcxhH4\n",
       "liXA56n7xgpA2x48iL4dwG4ErZLdAjZYcNYfTuKXDZ2C5i4w6wyUEX+bNSBuDYGav7SH/sIiCf9g\n",
       "IHDTEc+Ax4iLy68Sqf79tnWzAaS+DEjyCskHlJiAQx/xqwhocQB6rguKYUbAEP3PbgI3PZAC/Mzx\n",
       "YCnoRD+bVshvHjzd7L91TpPkGkHgZgHwdEDNb7aJhEGdNaBBhAIzZXBoT3cNoR8j926yfxAMMQM0\n",
       "dXCsvecrH3opkcYWpP75ip/w68M8GAjcQIRr4DHg3v3fJdbMr/sCgQ3u6/5/55Ovdm87K0C3ACD9\n",
       "HBM+/Ct+3VoCbmrgOFWQRvbt1cEaf4BO2pnrs24Am6e6BQAy/5MbwCwkhO4KYOsAuQXMwkFKh3Wm\n",
       "wFGXQHufgN2XvLQ8IvTegXXuIhCaXTB73wC/a0DLe/cAuwKkmf/JReBnDqi7wM0WaLMJaj5eZOjQ\n",
       "zgGH6hpQd8Fv++dfHS6CQOAGISwCjwOTef86Q2Bc6reKAhP0V1YDTCwWhniA3Kb3bfn//RoBxkIw\n",
       "sRg0ccCCYDr/P5fR5yw4kF4QlLj8IBJOsRzYD4dAsDDo9x0YrQBAnzVQ9o01AF3j8EyCUhXNMjDf\n",
       "L9V73U/hBJfANMfwiuKezh3h3jULAHrYorEK1P0v/7gvjdFBIHCDEELgdcbdi98hJRiwmPmHRYCm\n",
       "C/8czHFqaQdjOUiZyD1bYdDdB94NwGsBkNvAuQG6O4FH6LZMr9uxMosBsKVhQvBqBSCrgncLXCsA\n",
       "Zh8mbfFbytMokGcD6AyDBE/wM4Oaugi65+K0AbaKgtnLh3wLgwjwqw1SqwtogSFYMZDq+Z5HkBLw\n",
       "mz72y0IMBAI3BBEs+Dri7sVXipJnD/qriwYNLgC3+p8J5itTCwFAg/S6i8CTr0b1V6JWEhFH3ETs\n",
       "5r0A3h0wG+U3JgaumwY4LjesW1C/tywDGD/ZHRMMSbNYoHNtiz7St0GCyZQZREfbbJC9H/GbPm4L\n",
       "BCVtmeak6YNJO2QDB1tgINw5rTvRNMTaSBMER3sWCASeNkSMwOuAO3d/uxhyrlH/wr53FgFeEOS1\n",
       "PNCNSKgCACBiLiQuPPI2hM+jcuvn72Z+HoVvRflrfh3dT2IEGpGvLs7Aj/j1OLtzLAKA4YVCtN/T\n",
       "++i+xQUA6MsBJ0xfLsQxATKmq69f4wtanICebzEE+sIhTe/ndCqhmT6oLymScn6YRmjiAmilQSl1\n",
       "temDtKJgzsswZTC7eIF+vk4frKJhpZUHD4I6tRD4XT/2VaELAoGnGGEReI1x+87/VOLUiZwhuhyw\n",
       "9b0PQYEgM72bGmhe+wsY0u/TCF1+Q/B0Ltu6dd/4+KfTAbMd1Wt/aNh83ELg8rMIUH2qt432OX2I\n",
       "3BfArPQHdBHQfP82b4sJ0FkFm9rYGd25L8emD9Y0tkjwORFXZqNVPhYe6adSSUIy1oC2GFEiN4Ak\n",
       "ZK0z2emDJV1qempug0Ag8HQj/s9fa8g47W98M+Ch+u9rPvXpZ40H6NME+7sEaDSvywZrnkz74v39\n",
       "W7MEnAgYFvOx4sK4CTb8/Sn3/D3W4BRRgLYtSZr2IB/2/ft0Jm3N44hc0ASCnYznig0Hx+MHZmWT\n",
       "0wAmRmC25PDY0mj61/PJBwuKO6b8qh9a8GARBV/2UREvEAg8zQjXwGuE2698hXRyXdGHoi5ozlkA\n",
       "pI3EvauAR+maXn3yjTFXa+43Pnca+YMsAi4W4KgrYEgX+yIh7Y8Z5WdqB+4cb3M7Ll0nQaCuAHIJ\n",
       "iE/LQFkjoJv/+4h74hJQa8BkmqB3JbD537gLNG2YNqhTBumFRG1qYBUVWqeoy4C3/QVF48qCxaUw\n",
       "uguWatqv0wjNVMKe1s6xm6D2aS/0YiLR6YRoroKvfle4CAKBpxFhEXgNcPvl3yo9mr+O8LOP8qfR\n",
       "/vACIDd7ILtz4qb+VbHh4wESTQHkkX8y5EwxAqeKgMnMgZSrBWCY++9G+UPw32gFGC0F/UNeB/vR\n",
       "DU35EyZ0+DKU3kz9NJMA2p51A3QrQa9nbhnQej13zgz9Y+HjjDtOCwSkjP6T0CuINZ+YxYRgzo3T\n",
       "B9UlsECwpJ73Sz4yLAOBwNOIEAKPGLdf/i3Sp/bZaX8gF0FqbgDrDmiCQF0D1ezPiwMlMzUwd5Fg\n",
       "ggIz+hsHO/G3siwYjKl/jBdodSvBm3Rx+b0bYULumy4CYEsAcJjF3A3AMQBkEeA8PH2wnXdbJJdf\n",
       "xQDVD3vexDDw9himTN9dEFZPWIEwyAj/dsKa1sRALdSnB9b8SV+dVD4L+nl2GSypfBKA//wjQgwE\n",
       "Ak8bwjXwCHH7g79JzHQ/H+DHpn9it+GNfujBeX22wGQLmMDApPZyN0tABCQO2IQ/I20/TdBaCOxK\n",
       "gS4vMBI+BJjNChhcCLqtt4XcAOZFQoMAQDXZl2PJjugBl+bdA/pSIeceQDft8wuFpjMHdNaAcw/w\n",
       "aoQ8I6Dcpl7P1mwBLsuuAF1dMOfuJljJbaAuAJOO1GYFcD5dbRCAeSlRyVfdBdLdA8VVAPy+94ab\n",
       "IBB4WhAWgUeE2x/4r0VH9kkOSM0NoGlq3ifrgLcYDO8P0FF9dwl01wAtEKRv++OR/iw40CwJ3PMl\n",
       "yuPfL9AJ3LkUMlkROKjQBxhyoKGfGsgfP8oHxrSJhaDrWG+yB4ypf1r3OPq3iw1pOyQqhuV6GMm2\n",
       "8QA4dYXBHkgozjTgggA5nU6QnaPlnbWhVgFeV4BdCZ//YWEZCASeFoQQeAS4/f7/Urzpn2MCkl8t\n",
       "UAWAnsuV8Btprt0VIHSuugB6Gc1LdcxmAkzdBrMlhdWaIL2cigCyArSgxSEO4ITPpksAnWwnpJ88\n",
       "wXoBILpvqU7QzwlonYA2VZDM/+rvV4FBcQTt2NSpfXFtSl9VUPfhy1yDmZl/eo7S1Jy/VY/fH2IE\n",
       "qgBYKG+PHRDTRkrA5749xEAg8DQgXAOvErd//EskiUCgJn8axaOxAaDndfW/GmUPIT/txAXQ6uTo\n",
       "eipvXQPNFu4W8QF4dD99BwDXMUk3cQFbJF+vZzpDwMQH6LX3zzBFMNutekx4RG/WB2iLAaGltVE2\n",
       "mfjZPWBnCNgFg1p6Hk3/PKuATfx98SE7W6Cb+Ks7AXDp9qVDUgWJcQ9MXQTdLaDpIn3xoNWdMzMK\n",
       "3AeAOT5kuJcUje6BvQAHAb7pfeEmCATeyAiLwKvA7fd+kfSI/vGtgboOgAb+YRLkZ14qZEbuZBVo\n",
       "5nsNHKQAwon5f2tWQCdyHxswvoBoPitgIgKmLoGtUf9oARCRUQS4zzxI0Pn94dMpL2xdrT6yELR2\n",
       "4PKj1tkCDa3m6fXPxttUnVosqPqS7jhUTf8+feo6KHl5BgDcdmYRqBEQbSaB/5Q6x1kE/tXFuiTx\n",
       "r/nQsAwEAm9khBB4SNx+zxcKco0FaGSuMwDopT6ZxQEvDJT7GwRzf/FPktX49xuxs1Box27BICbz\n",
       "RuqCTuZzV8F0/X8awSdjiZATSH/jM4zorxcA2yLA5rPTAWGsBd4dYMQBqF7vOgCcyKAfgBcSlGbq\n",
       "BgkMulxjsSD4FK9ntE+bSLDxAhwjoFelswLUHQD7WWDdAAuJgSXRlmIOPvttIQYCgTcqwjXwELjz\n",
       "rs+n2QHKRoXl2nLCzQxfyReoT3M2/5OpXjNIduZ5Nv0T8bJDXetpTON8+9ont0Jg0vKAOTdfFOgE\n",
       "ogco8I/PoW2F0/SekNl/IP7mIuhm/0b8qPvZk349r4v3kDuApxj6RYTMuwM0Xy5uA54BYN9JwO8a\n",
       "YFfB0urIlCdrnEFrp79rYHAXkLlfj8dzdrEgcQsKsVtgpXzsItA+6XsGMkAugUQuArRtcxHwVoA/\n",
       "8oFwEwQCbzSEReABceddnyc+cp9dADAjfP/2wJ7e5u9nfy7bMs0qwMGEoym+uwl4JoG3AEgL1jNv\n",
       "HGzbifn/OhEwRP/7D5wIwPyDiQhwFgC7QBARPo/0m1hIJn8LCgTAo/i2RgAAM7L3YmOml2cjc7YK\n",
       "tPrplLFcePcBHc/WBpie6/ubDEwj92MOjDL6l16mWQLcIkWJLAL0WQD8R2/50hhZBAJvMIQQeADc\n",
       "+bHPEY0HSDOTP/vUPVlnT+7kJuApgOQO6IsJ2bJ+VsD40qDZNECx+Yn8mwjYEBlHBcBRKwGOi4CZ\n",
       "JYDSjAgwZM/b1Mp30oclblMXUZ8h/kTdJdps5xKVTy1/K89bbtPg+GA5Jenixed2Mwe2q6RGk5DT\n",
       "v6croXO7PGWQRYNdWEjPd9cBuwtUIPzyDwkxEAi8kRBvH3wQyFqnsdEovpnZic14q6Tc6siUXkfc\n",
       "zCTZuwZoH91sb90JNt84K4DrduQO9DI5U9+xIQDy9rnajBUCLAJGMbBpBdDAPAB+tI+a1m8zk7bm\n",
       "9yNvO/IXqqdRm9i2RPtBt9mkS58maH8nx35ElM3dOnsyFfImUcDZVDSUAwELHD/676Qurd4kqb+A\n",
       "yJelxhrhC+xbC1HSltrN1LapWxUCgcAbAhEjcA3u/shn90c9PbkTxwg4AZBMGpFrrWO6pj+I4E18\n",
       "gRcWMtTny80+CUKBgy5d0NOV6LVuwFkGMONU+VEAACAASURBVNZvXhssROAbAoBvyfDpI3xD6pn2\n",
       "BZ24yV9f9oEexFf75F4kZGMG6oqB1QWgUwDR0npenm7YYwxAx7YN6/enFxcByC7uwMcHtBcP+S1P\n",
       "IaSYADO9EJOVBd3UwZKvxC/46YOa7yA0pTCXlQbLi4rQpxdKiQ3Y5x4rsAqwz4KDZHzry1973AwS\n",
       "CAQeO8IicB1yfXMgYIm+RexPhraOsJPkSlDjaL2QPVxZZy0gQuV1A1qfBguAb5/Ivo36YfKMo32M\n",
       "16JLBmuebPuGVoSJ34kAd6uOCwB/ngMFy1YFQdezE+uBmvXNdEFyNXhrAMzXbUbsbbfFHFB73mVw\n",
       "DKYdy5VmtM95rrESeMuA1pXQryv5j1uRcEH5Wst+qlYAdQkkLBBkSd0CADuLYEG5X7uEFoQYCASe\n",
       "bESMwBHc/aFfSa8SLq6A5Kft8doBbpVAXgWwTQv0fnwODvTTBZm4eTrgbO4+rwzIMwDMS4GY1GfT\n",
       "CWFFBccBzJYHnoz4j4kAY8w4WQR0E3/RJmTSdwTspwuatlvZmXUAECcCWoNcHr0852kT76idHoTI\n",
       "MxmoDt8UuysqpjQ6xA+4Tie480rkHOwnNkbAfZa6oz7/UTyMwYI+VqC4CBJ+6Zt//Um6KBAIPD6E\n",
       "a2CCez/4H0pnLfLhG9dAJ+f2sh8zitaRftmaPOQ2SDzKBhM2+/u5Xqq/9mmY7mfyurItBoGGun7f\n",
       "BwEC5FbQ/qdWfyP/VhcGAQC+lZq3mfIxEPdgAWBRIFSumtGLoYTO1/p73Xb637YYGN0BZhVBXYFQ\n",
       "y5hpg3YlwXL7xumF5TbNpw0ObgLa8hTC4Ry7CMS6D9Rd0N0EdgqhjtwzYF0DuZ83bgLnHjhk0LGf\n",
       "Wig4iOBKMv787f8jTASBwBOIsAjMMJsN0Fb3s1P87At9JlH/wzS+cRVBX7aXd+fczAGTx5xnMier\n",
       "QiaXAwkDY/qfzQTgGQbOfWADASciQGcBZAzn2icnOu/IfhABXZtsWQW6+2C0AJjgQLBu8lYJ2xee\n",
       "RdC1VYufhx+/a6yC7nerAYuEB/1hPsTMATrfXzvckxNQbfxiqlLLgL7CuI/0+4qExSpAMw3SxFVQ\n",
       "03ZI+MUvfPEDX3EgEHjtETECDvf+v3+/PMJNkJ8bObO1wJvdW75ZoF8d5aMQqB2Za1kasXMUP7Xf\n",
       "rBGTPqXKUjL0R0YR0BmN9l2d5lXClA98e6R1sZO7J1X3aXk9mXdSNn78dpvIVeAEQAeRP3qZYXrh\n",
       "IArYouDY1fTbntdb0I7NbSeRMNDgfIDsb1PLnWw7ifNszBwo6b2t4tsvcQOCSuzO3ZBcHaketJkD\n",
       "qccHqCDI5B7Q2QU6q2BJCQuAncyvNxAIPF6EECBcfP8vkRZFT8PD+VQ9ZScO7LN5xiDBTsIJmJB6\n",
       "/ZOdwKh9KmW2gwUT561pAoyugzYzgMi91WfrnI30pd2jngZ3+ZsCYFauEXsygqCvGKiEWtJ4qh/P\n",
       "GNDI/z4jwAoBKyx4wSHAvoAIrU3rFuA64dIS+ljZWhCmrN5us3UZbKGRfiVu3S+b1P3/dV/8OdSg\n",
       "QejIvfZUEhG/9r4EBUoCdu3rKm0u9fvX27TTntV1jGWh73Wp3+HSxci/8+KXyD5n/KW7XxeqIBB4\n",
       "QhCugYqL7/u3pAf5dZO+f1WvNemvdnGeYREhV4fPK64cbfUdAKmOyscFimx93f3AQkKofyoClNi9\n",
       "C0GGslMR4M3/zuw/FwFpkta1BzARAY6QS6bUDRKmTh7pe8LX+rl/LoCPTf/w560AYAPN7DoYp5r+\n",
       "NXjvFEFQCkjr6pD72LlG9FadDBKm1pFaGX3/wMaCQ4kCCNGtBH2RoYQFqVkGlpTwC5//whPvTiAQ\n",
       "eK0RFgEAF//4M6XP/QfAVgF+0ptRN310FA+Xj6cG1mPTzmBd0LLWrWDKaNCegl0MZoSPsZ+CLgBc\n",
       "m53cxJXl28B1w51zaeTzFymjTNsOmeHZFdDOAeCIexYIbvRfLiOZ9sqleGM31a1lhpF7FwTjz6HT\n",
       "qB/hGwHUsGEluA4TMaDVJnAT6vGXod40Te15mfSbpUA/gqHHCXWAD1gxIOQeEOs2WGh/V8/vUl2/\n",
       "IMYggcATgxsvBO7/o3+jugOEiB4wYmBwDaCQ+kwQEJHqGgEi/mVEXBe3y8Q8ERxDfu2WihGuY2yj\n",
       "1T0IAVSy5msB+ijYCoIp+ZNrwBCyI+dO6pXAnbl+GiQImHRdAKjXvQyCwpvxtTwv6gO6DYP536fB\n",
       "uRKY4L37YAJxtxZI1Zre1wzYWj9gVmeCGIFhSVvaWF//KuEzgYOIWttXemax0b9Wqa4Cun+1HwLB\n",
       "Tl9zSLf9rKoHQcJ52weABZ/5whfJlaz49ru//wR1FAgEXivcaFl+/x/966Jr77cIfOHI/r5mgM23\n",
       "jqZ6874Bu6aAzVvFgJshYNb9NzMDXFBhy9+PDbkPpn7+eDcBmlCBCKS5ClDP1TQWANUVoLMh5+8G\n",
       "cAF57tw43z9hUwR4Yp9+qH0esTfB0kWAT7cBg11gmGWLwYLB1tOaBRphD+RNmq1RtREFdJYi+EuC\n",
       "kDXCVQWbz5TrVwN9T0G3T4idQbAxa6DX499D0N0E5sVDIBdBmrgJkLBL5aPugh0Sft7zXzC5E4FA\n",
       "4PXCjRYCdvEeXhTIxQpku5CQJXJ962CGefOfiyXwMQPtM4sR0HQSDaOvn47NIkNODJjztO/Jv5aR\n",
       "JgIc2XO6EwWW5DEXATRyHv352BABfcrdKAjoGGhEzvX6YL+WBjpG7283kjQKrWCxUNCFgj13sp//\n",
       "AfInvYUEaedGAWByuZcVpeHjx/4TMZAof1JylzZ1UInexAVgFAMqGHZI2KG4CXZYsCDh05///BAD\n",
       "gcBjwo10Ddz/rs8QGHP9zM/OjFahQ03vuzemff04U7s3/Q/n0OuifZPOxN6GqqA8mY5h62f3QBv1\n",
       "cv1oHzH1TtJZHEz86cOIHjBkXhI8ufs07ieNzvndAkTmx2IO1CLAswk49qCJBxYI2hbbuWtfWh30\n",
       "VXqmFtMGp/VbPstvXBqKpFNOUxcFMk5xLETNMwdQf4f9I/qNNStB6joidQnELgJtd0GxTsiS2u/h\n",
       "TC+QZgsIigKQOnMgCZBaWEuCLIIzde9Ud0EC8BnPf558x90/eIqKCgQCjxA3UgikvJYdQ+I6Stb0\n",
       "DBMv0DaWnC3Jz4ndDjlnZX1f4M75Mkz4s7aUgMRaB6guMfWC6pvvG8JrHzJXtzITUofN3ywHND1w\n",
       "FgtgSVrrcoTf6ku2j2as2/OYkT6LCLpG2yaaFaFfrIoA14/2lVhLxcYyQMctAddZFZLUJQK6OBA6\n",
       "p78Bb00oAqGLBU3TSzPWAhIGTTRo9ZTegggh1eRfYh3MmgKV83f1nuQkWKRYB3JakEWwQvBznv9c\n",
       "+Zt3vyHEQCDwOuLGCYHLv/OvdkZsQ7pxytwQOFeLtEcui4ZqHeiL+NSFfQaRgJaXCb0ku9kBTNzc\n",
       "l0z1UXca6bdzaRQOjvD6PeB6NvaH4z4qZMvAfGRv09oof7AcbIzUzTke0Y/ioZv8aTTOpEptNxFg\n",
       "BEHPK5PjLgionJ7z5E337jR3gSvmrAOG7KcFWfz0RYMAsggMCw/ZWQPlVts1BnSwbwUCBx5Ke0ER\n",
       "QMsHwC5CpMsJ6BTCnEq5BeUFR2eSkLHDz3r+cwQA/vbdbwxBEAi8DrhxQiDJSuQ0cQ+ACN27Bzrr\n",
       "GcJOrrwZwXtB0UhbI+5QF4ipaVq3aQu2P4NA4TbLVhf96e8qqOkbZK9dTf48d6WVITKnbpZ9FgHJ\n",
       "tHEsILCP9LFN0kyqs3KYWAr0q2rp1iLgrQJWmNDXP7ndtg27PRWDNWGa6cS4gyRALkb9QupK33Se\n",
       "LAFjq04QUGkNDmSBoCJCpwzy9EJ9i+FCAiCnbkHYSYIkIEuZiZCxIEOwg+BMytyEn/n8fyp/9+7/\n",
       "GWIgEHiNcWOEwNXf+hntRUJ+iqD35Xt/vzHXNxwh/Jre6gVQphBSHbx8sCRrJajVmzZl0p7mI2YS\n",
       "IxrKJsEWOUbygioGZFaGzfVAd0HoubqbieTR844CwMYCmJG8OzfEBfgphCYf5Ydt258/Zh2QIR/f\n",
       "DzL/01ZcG1188McKgJMDDJ0Vol5a/Q3Xw8TTEau5HsCKTuAqD1LLU8tKq65VrVMKpcYSaJyA6RYS\n",
       "pMYE7Ci1+QZUIfAd0LQltd9byrvauX4vQgwEAq89bowQsG/dy+1haAPmPKE7cz14H52EXRkrLkpG\n",
       "IwK8yb6JihrZ3+qfkD23p+da1zh//2xZAewov2/Fn2uE7IgbcGTfidiO0vUyt0XA1NTPbc4sAi6G\n",
       "YEryoP6afKN1YO6WIPM/xSdswrOk3s9ZVm8NuK5uAGaJYX9q0jwTfyN4Nu2LdCGARMGGak9waxQk\n",
       "2GNUy4AUc79AkMliUNKKJtCfkmqDFjdQfx85AWco8QJAsRLssMPPeP5Xy9+/+4dDDAQCrxFuhBC4\n",
       "+s53ip0VkNvLebopvI/g1TVgytQ8fb+XM8LBp7VynB/o7wyY12PaqOd1Tn+C64coSemxgLNsCYBR\n",
       "ICQnPvTjSFfzop9vXfWEbUSDnt8g+lpepm3aEb/vj7EIuFvny/VRubbXCZj7LKZPXRRs8HptqvfH\n",
       "fX1m+1rCCgLR4IByrloMNNpBTfulnJDZH/UlR6UmJfIkaYgZ0JgAdRUUq4HmK/s7+nn2lQcTFhFk\n",
       "fSkRikjY1e8nS5lemLHgnc//x/Ldd/9oiIFA4DXAUy8E9n/9U0RJ34zE2yi8nGMCH6b9uad4e8RL\n",
       "fVA2UTEjcqEt1SMY8x4RAiLSFvsR9ACvXr30AyJ6Nbv2NnrW3kYftZc30Wk9dpTMRN77ZUfbvSud\n",
       "RHtbdmqfoNc3ugj4HI3EG6nbGARe8c/03bRr4w188KG4PvLaAC2PM/sfXUSI8gzxCXz/TkACADb7\n",
       "czMYxUn5FgtdF1LvloSiC6xVQMuof98IuKT+fiMv2v1BAnZSahaRatrXlupPOpHbINGdWBJS7usN\n",
       "lNMl54JUhUeRF5/2wmfLHlf43jvfEoIgEHiEeKqFwP7bP5kY28cCaMS+oAsF3U5EAIBmJQDnp/Sj\n",
       "IoDrxpzwc+8Xw5rquxiwmegzlOkfGfLS6BgqHiwBMpEb0m510Yiar8cQfy2TLcn6EXnv4ygCxoWF\n",
       "tM+zETwGjMKD0rWc3g9nyeDrEF/eiwJnDej5eh9nQYIzQh/6P0GanZu5EGjGwKxM4nS3zkACf2ha\n",
       "YbU2qGVAUv0NoRP7kop0zdLL6IyC9vNBnUqIvlr1IglnxcGAjB2ynCGnjE964ZfJ99/51hADgcAj\n",
       "wlMtBMpqgbpf/wym/C2yJubUEROn1UrNNMFrRQDnha1rOIdKTFRndvmH6+3d98SfXLrWj3Z5SqJi\n",
       "SLY9qbU/fKx10KXbetmKwHk7TZjRPqgeLwJyGurlWQvWZUBWDK3TCAp37f6eeZHB4qAhDV+7v2Yb\n",
       "KDhiUxRsWQl8ehJznbrnpwhuQ6AWAz3Sq9Sph82aANDrjmu6sDBIfdVB/alDkNFFArsHBD5uoLS4\n",
       "k4SsPUlVBIhghwVnJAbe8eJnyQ/c/lMhBgKBR4CnUggc/u+fKBAQyYMZZhADjehbvk7IZYTsyoLq\n",
       "FC4D2lKb3grghqNC+Xm6X8/Wnqz2w+Aynuwb0XXiGMzYegfYBE/lx0A+zQ8wkVudxGQOk7fVDTvS\n",
       "79fgLQKVooioj84wMCN6ba/XPXNReNM/lx1dAn1fr2GcLcBf9zWcxddb25t+3YMIG8UBWwLUSm9W\n",
       "HKRzSyVr7WHTELVMSwetJyCpjf7BroBWMYxoKst3qawgy4JbdTAhIS1CUyD7ckzaZkLCIgsWLPjk\n",
       "F/4D+b47fyLEQCDwKvFUCoEyNQ8w5Nw23YwvRPiGtNHTujjAlMQxq8OUQTsvzbVAhAyY8sZ/D19n\n",
       "fe4aop9kZdL1x+aWJFvHQMQ1jznmejmPG9GjkqeZ5gcrAtQUP5AyRhGwaQ04HnjYLq+RZu/LEEPQ\n",
       "bh+JFbpOO1Kfj/THlf31Xthjc48eAU6xBPBKgb1dsQEHRNb8M9RjthDwtEK2DCz1RUk9YFA/ZQEh\n",
       "FjcqKHq+1GIRFtGZBSVOYJEFZxBk7LCTHXI6wye+8FnyT+6EZSAQeDV46oTA4S9+vFhS5239U9k2\n",
       "NeL1awXQ6MaY6r3/ngSAEQIsAkAE7+pu5d0+t+2q09e4+oV/WO+UdLIENPKTkeBR99ut8STfyTcZ\n",
       "ElfChCUfJt+2hPC8/nHKoG/zlFiAfj3W5J+GfvXb3El8mDHgrSE1vX8lHABI7bZ2tH/datBOmd/O\n",
       "q8ex6iyR91UGE304mBBAW3fABBW6utiykIBG+gvXL0zsOpNAfyrVjaAkX3+S3Z2A9jpjSfyTLXMR\n",
       "RBacAcg4Q0ZGxhl+0ov/rvzT2382xEAg8JB4qoTA+uc/pjyvhN0CqgsoKLAz5Ojjd+Q7dQUYou8C\n",
       "QnmeH6PSnmblMxI2bWs2Q/J1K/7YkBwLCh1l23q72R8YAv7AeTASPaiMFwPeDO9FhRcCreykvPS+\n",
       "H4sDGK0I3qJAxO6PHVGzINGywn2Hkn+9t2I/th04cHlndZiVp3Pcb1ultPQtsufWeXXBYVQvPn8Z\n",
       "sesPUNcD0HOptWJnEPjr7T0S7kj/zoC2oNAuob/GOMO8TbmklVkFRaTsytsKZa3rDyw1ZYd3vPhZ\n",
       "coX7+OHbfyEEQSDwgHhqhMD65z7axQV40uat9AfSlv9+08xPdVKaGfHrk29aL2zZoQ7btMnTtp7o\n",
       "q9iYiQDnR0/ohHhMCNjRddlP7VYwWc/qcub/oc+uvNZ3rQjYmP43a1P3tTxsXzZFANVhv655cKAV\n",
       "a7PR/wbJj8U7ZdM0wUEMuOMtsketZyR7GBdCSu56am/Kt1IWGNLvXpcSbpYEsg60+IHUX4Ok0xN5\n",
       "tM9rCzQtJy6YUHovdkkgSzKvy9jVAMIMwRl2EDmHIENSxse9+G/Kj9z+yyEGAoEHwFMjBPo6/fUP\n",
       "EXraSG/5XVyAHfknk7ctFaxgEVDzqTl0+ppf0BYujT8AERkJl0aa9aiVmQTxtfonloB2ibT2vCNJ\n",
       "Jmezb/LMrAtEzk1Q2DZbf5x7wYsAG4VPffciYEMQtMvasGjw+V5+HKl3M3+/llJ2ImKozBam/UWr\n",
       "dtjX46HKByV7Z9of61Oy71YDraPEAljLQ7MuoJJ87UsXBjBCQSWLLjrUfr5SXAU7oa8C5b4uUlYo\n",
       "3NV8GQm51pCxq4LgHCKCnDI+9sVfKP/i9l8JMRAInIinQgisf/LD+rT6zfgAegxtuQAMoesLVOmh\n",
       "T+b91MiCy/U+NR1hRATRJRF1z6uf5PKMxDO2w+QK029Tx2SE3uogk/tMAOhrb7W+waeu7XD7LV9J\n",
       "8235dQbEtWn7eyQOYEsMtHydfI2lgftxLG/9LfBotd0fk5eFkZ9dsA2BrYctFTPXgSfwGdkfFwfS\n",
       "Ruv6lWb6TWh9beaAaBBfv3eZ6q5Xi6USv758KIvOGuC+pPba4rao0QIcdO1h7UOu9S5FDBxE3QQL\n",
       "FknYSVlwqLgLykyCBTvs0hk+/sVfLFdygXfd+WshCAKBa/CGFwLrt77diQBiJXPMWy8SythIR/Z9\n",
       "Cl853x6oWcsmmPn9uvVDtkFs+PNOBGhfMkes+60TCZxvIPmZGEhjXdoXGrkbt0Ab7fZyvO6++DZo\n",
       "fxQLbFXYGO3762GCdab80kcnCDavzYoAc45EjrcI9OmC2m+YfD1vFw3djeDzYDzeEAmysc/XyXUO\n",
       "ZG/KbcQQpL7MdptcmPpMgKYt2tLEZAWQRBYGQUrl5VnlNvU6dIpiSjprgAMIu2Vg0Qa9lqy930Gq\n",
       "Fyy1tPO0QERwXs4iS8YZzpDTOSSt+MgX/jV5952/EWIgEDiCN7QQWP+vD5WR+Hlb/0wDALkc5ati\n",
       "oPO8HQV1lkq2PkPm1Bh3iUguOZdD2XrC5W0aj11Txl9PZN7AxDoQsy/vR+98LannYWFRzyW9nSoW\n",
       "8kiumxYDQ9B6DaeJgGlwICZtt75RXnd/j1sEiNwd+RsWo3sy22+3dwOGyP13efKiQacjVRFQLFdS\n",
       "3QHkBkhdc6t7QdPHFQhrnEHqMQTmdwK0FQb5fQQMWYCdxgagioEFkNynJ+osAgFwLmeQJE0Q5JRx\n",
       "ljI+4oVPl/fc+c4QA4HABt7QQqBHEHni1/OO8E0eZRoa+YrqCveQ9b7+VlGyabXKxFmoeCdTS3hl\n",
       "Ww2lRNT2PDCM8Gs5f57N1hoDYEhffPuOiD1ZaztNpNBI34mE0fzfhYNJ12tmq4DeQ1Pnhggw+0TI\n",
       "A4GjH7efCe/3n4kvN5jq6Z7MXAP9t3RcDLTboPfgSL+nYBGQbBlrBdDj/jufn3fVa3fqCfNq43Ze\n",
       "Y2+clUBN/UVTWHGQ9D0GKON34UBDgST+jbSfhQk2FCSc8b8muiCQJDiTs1qXVIGxImPFh7/ws+W9\n",
       "d/5WiIFAYII3rBBY/9iHlMcFE3s7TugvFlLCZnN+N4dCTZkmYBB9n2EIr+fpI03pm/Zw5jrdSJ2e\n",
       "tn5KW2/ei4JtMcCme26nj4g1jUmd+wNwsJwn7XatjQjTvE+tXbSlgZnsvMDQc7ZuTPMM+0ZYOeIV\n",
       "uz+6B8YpfH5a3xA7AFtvPw/Tl9n0QEPyzbxNt34iRgycxcOcanXY1QM34wXcMUwaEXoVEdziUqMJ\n",
       "cy3c4gekMr/WqhekmkWANam7AHU9AGBVN0L96Ju4kxQRkBKw5LrAkACH+jst5xN2uSw4tEPCDrls\n",
       "pSw6tEtn2KVbuMI5PvKFz5C9XOD9d/9eCIJAgPCGFALrH31zEwHtpUHiH0D1ydyHXvykJWIS+zTW\n",
       "rSdbrSLDPBRnPudhlExba5IWWHHghIKvj49b+7pjSaaRemcEOkcjL9d/4+vWW+P6xsF7rcxECPT8\n",
       "XTC0dmcjeKH2jVDp7c1FgBNO2ncZ9y2xj6PxqRVA7423Bmj3BkFwIs8MAoG+1xPLllLS/pqy18wc\n",
       "8G2kSvCS9Pqk9al79ntP+y+4i4X+KZH+QB35qwCQyuzUVx3x60wCcw9SeWth+0mjvJxIKFZnV99J\n",
       "0DV3ifeRVGYSFAtBmV4oELzt+Z8hH7j790MMBAIVb0gh0Ez405iA+nByMwP6w5syCeblxyeqa5cN\n",
       "rVyXJcBeh8AG2NH5dk3e3z4hfyY7Q7z+PBpZ+mswwXvU5/b+mplFQPvLggVU3l3PEGBoyDHZekkc\n",
       "zKwi3I/WPxYWbrTf+2BH7nzt/Tq1vl7X9swCfx1dAExH/A6n5BnK+PyzuIBrFQMVB+BnDkASREfx\n",
       "ml7bUr8/z5PR8v3FQ5XYBbSuQAkcLFNtU7MgNAEg1CGU+hf9TZH4aL8L2DUGynHJs6NSZfVB6L8b\n",
       "RHaQdAZIEQJABlKGIOOtb/o0+eC9fxBiIBDAG0wIrN/8JrEjw8I0PKrTNXjFkLv0rW5MOlq6mPOA\n",
       "Gf9L6mJAxz6u6l6/J/WNUbWpu6f5KX4j0XK6JU3jL5/Uw6NXOGLjraljIEie2TAKGEPuxorgttxu\n",
       "q8vFKrSvjUnf5hlG7yp4qF4jJNp9pFkATbhYMTRt94gLYPNeElrk+8RS4QXA5uyCdn1Glo5t0V4b\n",
       "07vZBQ1VFEgj9GJ+lxoomCU11Vh8/mVUrjP/aiWoES/1TYJ1vkITA1a9nCFhRXdHrE3uJuQE4zbQ\n",
       "1xfvpExLXCVhzXWtAZEyjTCn8grjtOAMC85whrN8hqt0jrN0C2fpFq52t/D253+WHOQCL937RyEI\n",
       "AjcabyghUJySTOb65EZPA3qaIXQicHF52qOQhIEjySFtIH6qxx8DjSzZ9G377cmS6uB+c320b8TI\n",
       "ZPRt4wdGgeHJ0tQ9ETae2GeioJFqy7slCPj6JgQ/abfXPRcLXqhs+eutX74SPfdrsDS463diZl7G\n",
       "kjx1d46ZsJjle6CZA9L6mqic0KJB3Eaq3WjjdGdFQNcDNb8Sfs+j0wUh5V+3TA/sLgYVCy0fyrku\n",
       "KKR9j9N/Ken/kjs+sQCQ6iqQXrbsC7LOfkiljQ957lPk5YvvDTEQuLF4wwiB9RvfRFP3ecgJR5wT\n",
       "ETB7+oo79vnaqLA/QPWpktrDVwmJK0n05OEHrB1ZwxGRFRh2xDoTJeLzD8Q+pvV6iEjRnoetnmOu\n",
       "Ab6WaRvo9eqD2IgAJ4TE30t/TmwebndqBTD3Zov87f01HiYZ6+v7dO82xt/HBMEWTnUbyEYe9d+X\n",
       "g1EcjGPwk3ql4/hSB5G4qZtFBfrSxEiCRYpFoLgRyhoDzVWg37PvHC1aJPXa+I2Fx3sM7PTaE6A2\n",
       "CrUOltiB6kaoJgap2UIMBG4yUjOhP8E4/KHn9L+XmBPtoc38X9JTPzElWpe/kU8XEc2fz5mdmbzl\n",
       "Pcly4Kfm6bkjlgB0MhysCCwWBlEwG2nb81Kvx093LFOxLKmD8pr7Y85Tv5is+X6wxcELlkGAOIKc\n",
       "WCvY/N/uhc9v+k6k7y0HR6wGvf6lugJsXewm8OU2RYhL4z74c5zHbOketvKTPD0tFdO+y5O5T74c\n",
       "UrvmXK8zSyqrEGp5qi/X+oTOlTSMaSjpudXR8wLV7C/AKmj5VtTVCunjj1cRrBk4iOAguW33WLGv\n",
       "26vlCle4xD5d4gqXuJIL7OUC+3wXr1x8XwiCwI3CG8MiUGcCNjufwpM6j9RUNLS0TvbShIL/f98Y\n",
       "RU9M/EOeQQxsjfg9cTlx0S7RCQBjXeCd5MqyEOD+lWPujyFrLd9GvtyOJ013TcdM/HR/WAQYUidy\n",
       "9fdMMJZtXRjEgb7t0abP3QCj0Jidm5W3VoTTLQPta5jlY+HSrqZv/f0aG3R1b/SLMQzGzUn7/yGU\n",
       "ub98aCyXwO4DoaWJNb4AtLZAmVmQ6v9iW3a4BgLy+whmaL/F4VJrI9Q7wQKhvCLnaEGSAJDqQ2YR\n",
       "vPm5T5JXLr4/xEDgxuCJFwKH3/9c+W8VuCdpeTKJT3Pkw0/ITiZaXssI+mORSG0Y7ZbyCVptoj55\n",
       "Ivf9oZEy1zkbcXsRYEafGMpbMkpA3ckEAwAAIABJREFUttfYHpiORLXeRqMyq4/64fo8D2IjccHC\n",
       "YeiPI2x3b7rgGEfsw3UY8bQVvAeTdszacNzfj+m5bSuCv+fzelu6OXD9cud5oZ/r6m1lMDHvu7Zn\n",
       "9Wq+GfmXhELmKQkW0fcQ9LcXLrVAhgYFamxC+Z/z7zFo14Oy0FA7UcUEUGcMJPpu9ZNQAhIE5X9h\n",
       "eG9IuQsi5+1itJxAICEGAjcMT7RrYP91z4n1ufNjSJ8A0v+5PXGbrY769Knh/seJvHqaHQmm2XlH\n",
       "WvYhRmnOwmDLzMSHzd92B0FAo1nqE4/WvVXCTO/zLgcVJBtigO+xuT646/PX6USOedkP1wvfBu07\n",
       "a0UrO3EpbNcHQ7BbpL8dV9C31ooxLysb5zbrHNqgAEOXz5fhpZTFlfduhNm57OsVNvure4COua2h\n",
       "3fqWQOkuA86jLoDmHmA3Qe1ET+vuAz1e6Zx3D2Qpiw71NHIVQHDIgoOs2CNjj4wr7HGVrrDHFS7T\n",
       "fexxH1dyD3u5j/16F7fv/5MQBIGnGk+2RSB3MmtORhAZENHzdD4WB2bkXLcdngRt2rhwjC/DIkX7\n",
       "5riayG5sl0YoXIcnalMf90XzWXFi4wYcqdLoiUWE1sVT6Cy6wPDTF8f7SunOmjDODpgTv71nNrjR\n",
       "Wl/8d3SNr5/FwDUWgOtiBo6JAI9jAYa1W3XH1XlkZgC/5+BBoLm9pmzrCrQEfbFQyd2WwE5As6Jt\n",
       "9S91F4AW4evp7yeoCw+1TJS7KfBaC1kDhAcFk+bP0N96KABkAc7qbygtQMo7QK8H54AAbUmkVD9I\n",
       "wA548dlPlBADgacZT6wQ2H/Nm+xzStCEAZMBu/mY9A0xDwQO9xScCYZe3o+Yh33ZaCMpoXH93K+R\n",
       "rEdipYekUPV8rWyOdyP39upgIy7oWjeux1y/r9eLCX9f6NqG5YLJ1N/rS5Prgk3HKDiG2QPc7jDa\n",
       "5849vAg4Jg7mVghL1oMpn/vEx6fgSOZ0/DT1yCdWtwBNE1TSTxD0JQrnvvtEdeirjhPXV8/rS4uU\n",
       "49uiQ6oguIcigxiwYvvYBfUT7RfZrmvpReQMfVnlrgNSFQNvfvaTBABeuR/ugsDThyfONbD/qiIA\n",
       "mhlYRx5tqzk1rUJNoxPC5VGg+S/2JNnK1d2pgHAE7er3AmMYeZv+A8aszWSt14+uA1px4X70/ZkJ\n",
       "HG7LhNtJ3RI+WydMDIFaH5yY8GTcro/7a9p3ZYz46sdDTEC1RrQF6h6ApL314BQBwPfwQUSCSZtd\n",
       "zySPtWTUe8TntB5Xl7h8vj+Zy7Zb4WYTcD+ovdEF0ctl6eczpfO9a26Eeu9z29pZBaZOkGtA2CXA\n",
       "roG5OyGDZxgU98Ca0cqtoi4DwSHXLaTNKriStcwswIp9dRdcpvu4qq4CANjLBa7Wu7hab+Ny/2Mh\n",
       "CgJPBZ4oi8D+dz0nbX0yIsJOkOODMtXzftSrddiRZgkSmo/qJ8TF58EP8mQsEXaxHm2OSG6DuLUu\n",
       "01/fd+6XDopMv7kO9snb/dYWX2Nrb+wPC5uB9Pm7cG1YWTkXJuLrMtfLbdl7P07bs0Smx7zt7dM9\n",
       "cuWPbY/tb+an7barYOv3UPo4nHtAi4HmS+64N0H/B26J4VNqTfUfT1Rcs1tBzf98OdUFkAVmVsEi\n",
       "CZkCCrP01Q/bMsb1s7TqysyCREG+CcXykFJ3CewApKUIAMaKBCxFJKAJy6Vcl1CLUmwEKS1Iqbee\n",
       "diXt2VsfK/ev/kWIgcAbHk+UEJC6GljBSOwzAjQkRVtDcEOdfX8qIFqdfN72yQuGrcV/zEuGPOka\n",
       "IuTyjrgov8mr+26kXfqzcZ7qaRYBScQY9p56k7rJw/ea7lEv4tvraWyN8N+V1m3b4O/V1cPXS3UP\n",
       "QYTuO341ImCT4KnvszybroGtuq7BbBbAg5Qf66Oyzv+f2p+enrxJ31+zcTGgvaUw03ldeKjUl/SN\n",
       "AYC7rix9MkD5qyKg1rexmJJuVzgsKGQvPU/Crkx5RBUBkpCwtCmNKSVcYgGWcv65Wx8nF1c/EmLg\n",
       "KcbVd75T0mEPrHukwwqsB2Bdkda1qEnd5kwmqQxZUR5YGeUtrKvUGV3lB3f+pRdPzO/miRECV7/z\n",
       "BbGjZsCMTl2agck7J/Ye+c9kRnke0CIAoYemr8Plm8YCuIecFRKuDn+5ksY+GoFC16LvimUSpnLN\n",
       "WmHuqfXjczszch6sBrrrvytDzslc89HFhOj+iOvnLK+9f/P6ttKvsy5smv91y0Jq0o5J4/y+H0fq\n",
       "OobBpbGRLx05p+dNP81RLZ3G4ME5hWvJkqcsKYy2kJG+4Kj8T0krveg/WbUepFpGtHmo1aCX5/gC\n",
       "Jf9Un8EQmPcWpFziHlYlfUirqwQ6VkEgGj2Aah1IWKoYAIA3PfPxcu/yh5+Yh3rg4XD/u3++pMMe\n",
       "6XCJQvwrcDggHfZI6wHpcOikz9sskFWqDwo6rQWSUYk/1f1dXxMHwOVXvlnKuaXky8W6+dx//77X\n",
       "/bf0RMQIXP6O/lrhBjINj3PoLWkUWAEwkJDJz3nGuroYcATqhEoXAn40avMZqwD333eLiHfuv/fn\n",
       "XPumXvL1S3+8mte8iutX6w8JC62D6vWCy1oNLNn3NFsHu0s8oY5WgNnvYFsEmGNuD9sBhA9jDfBk\n",
       "fa2IcNcmk/P6+zG3lMjdt6XT+mZTB31ft+IKhlgFf431uE8vtHnUty9t290Ytk7ad/my2wenSY8h\n",
       "aNMRW59sjADHEvCKhEMa6nOc0g4ibbrhQT+5TDE8VBvGFQ64xBWu0hWu0n1c4QKXcg9X+Q6u1ju4\n",
       "Wm9jf/jxEAVPIO7+0K+QtL+PZX+BdHUf6XAFHK4K6e/rdj2UUb+O/A8rkb4UQleSX9HJfy2ELpX4\n",
       "kVPZp7T2v62z4XIChM7Ttv1f1tVMkfuz4W2/59HPYHkyLAKZrqs9eRIsySR6cjNJSss/HeG3B+2k\n",
       "rNmyAOjpc9cAXN1Udui37UuL4mcYsYF5u0Nd9tjUwf1nwqW6zGjcj1Yd0Rsin5GjIX/dbImMsV0f\n",
       "p3BslG5FBZ1334sXArY+m3er3aN5gGtFgKnD5x9ywH1PPZ8v2y7J/T64XXP6GiSOEfBTCH0+OqcL\n",
       "D+l7CLqlwF6P6RRfILW71HX/zb2r9UuSGluQ6mqDQJLqTqC3GfZRve4Da0J5x4H0GQFr3ZZphHot\n",
       "pc5F8+Zax1ItArVfCcCCBYsUq8CCEj+wLDukVD63zj9CrvbvCTHwmHHnX/waWfZ3AQBpf4Hd1X2k\n",
       "qwuk/SXS/qqM8KsIsAKgEL8ccn3FZW6kL6uSPOooHvV4aSP7TujuWKow0N84E77uZxIMTQjACIX3\n",
       "ft5PFR0of/g3/MNH8jt77BaB+//LW0oHPOlNRowN7enIj7s0kOIQ9c8vSGl5LYGV3VFQDP2gBwOv\n",
       "bGaD3Dj4j/vC5DqKoO7j1lqsKBinwvVzpiqtZ7h/SjgjWfvVDf1MDCti/PVxW5MgSSaSgexd/68R\n",
       "A60N7pfMy7broXauEwPHzhliPkEM+HK6v5XHpw8E2dKTyWP2j6SxRWBqZRAbzc/96tvx+9O6h/Kt\n",
       "XarjyH7e6AdbBLSMju59nuusA/49Bbw9SF+EaBXBvs4qAFDfWZCxlxV7HOrMgktcpnu4xAWu8l1c\n",
       "5Tu4PLyMy/27Qgy8zrjz7l8n6eoO0v4u0tUFlv19AEC6LFYAHK6Q9nvgsEfaVyGwZuCgo/9q5l9R\n",
       "Rv5rIjM/ETttIQmyLm303wi8CgQe5RfCr4GnTPpNFKCnTbdo4sFbVT/2j/zdh/69PVYhcP+3vU0s\n",
       "ueioAp2g+MHN2QTgt6MVdGJjImTBwA9jP8K3cQJdKLQsTFamHJF6+3I6SQ31exHCWcyX667N9WvM\n",
       "0/NtjvhlzOPN6v2a3D1wgmMWkDkn+dRGnY0YpkLA159cP7h7Pe3YokJcn73mnpfLMbaOTxEAx/IM\n",
       "eSdlRmvTLH0uBE5Km5Sd5R0FAOi8c0sA7UEmKNP7WASYfTDRlzpmbSjJAxhJv7av0whVjJiphrDu\n",
       "AxF/3k45XCefXEUBgOYy2CNjn3ObbnjVRMF9XOIeLuUuLvMdXK2v4HJ9GYfDB0IUPGLcfuk3S7p4\n",
       "H5b7LyFd3kXaX2C5vACu7lfivwT2ewCoo/8DsC+ELwci+0PqpJ+V1GlEv9JoX1InfDL995H9MpC+\n",
       "ugKE3ADluFsBdEDXRLbWAUojAWCecSwOgJbvk/7Mt5/8m3u8roHcRxYALDG2B7wdkXK+IYJc96ci\n",
       "ooqBDYJPoLzYIms/Grc2CakCoJFtq4v6yQQ9dRFQ3zzJtx9Ev2ZDwJRvdg0DmUvv8xiHUa/X5PXX\n",
       "sUHSvv2N/SGf0GWxCPACgPvmiF3LzojXCpjr+8d4aBHgiHbIy2WoLPjYlgT87+YxIUHa/5WInS6o\n",
       "60+Irk4IGFeA1OO+uM/kuuqMAqlug6V+9226Iep7COriEl1klLoSSsBhi+FKRQQUV0F3H6R2DjWI\n",
       "EC19SeUtiNqzRconyYJlSdjJUj5YsJMddthhl86wS+dYljMs6QxLOsetsw+Xq8N7n4wv7g2O2x/8\n",
       "zZLuvxe7i5ex3H+lmPsvL8r26hLp8hK4uqrEX+eKHKqp/yAlmn9F8euvS91WEtetmvvXBZJ3ZP4n\n",
       "8iaiH0SAkBWArKOtLIi8NT8fA5RehbLJh57H14XyH/A9v+QXiT5PPvXb/vLR395jswhc/A9vrw27\n",
       "B6UnGyJFsxyQjA/N2Wh4+lB1gsO0B0ugM4K15bQvrgyTG19ne1qllt6y8TnB5L5QG1Ois/0fxAyL\n",
       "BpMnuXO9z7Zvabjn20sgj2Jgq3/m+9LsJALGwM/UylwX8HddH7b2p2UeoNyWCJj1zXwfkzraPtw9\n",
       "mfRLZvVM66YHyKR/bBGApB7s7ESQuLrKlkfu8+uyFgd90PWt9pHbaq8qbnl7Pd46YPNQIKFYS4EI\n",
       "Bxp694C1FADWSrCX8t4CdR0Uy8CKK+xxmS5xlS5xH3dwX+7gMt/G1eFlXMS6Aw+N2y99uaR7P4bl\n",
       "/itYLl4pVoD796oV4BLp6gq42gP7PeSqBvgdSlk5ADhUwm8CYKlkX0f/eszWAOP7XxqR9+3SLQNK\n",
       "0J7UBbTvRvokDhrZg+oATPluGUCvo27t4DYNzwAB8C//5W+b/v4eixC49xUfLlb9b42AYciHS1j/\n",
       "vyN7oXR6qDSmEVtPn1I4I5+R/Aey5HRvERjEhG5ptG3OkwjwZDRL1xEV7Dl/f7wlQ/vO6rKfY/Jx\n",
       "4mtClGXCVa/E/9BnmFkDyrfjxIdry7gNzHas++RjAJhd10xEzvoOS6gPIkQGcaHHR0SEFwFTP/+k\n",
       "n1MhsHHNs4dIS5+0aUl7QuiaNqmP27AzILS9/lCUSV59DYn2I1M+FQBdnPQyWm6+WmF3G+jsAtRj\n",
       "Fg39pUZFEJRPiSG4qi80KjEE93GJu7iQ27hcX8H9wwcjhuAa3L3720Vu/yCWO+/Bcu9lLPduI92/\n",
       "i3T/Aun+feBqD7k6APsM7KUQ/R6QQyX0QxnRAyDSX7o/f6WRf16QnQugEHTx8Wfy92d9rlG+nMuA\n",
       "akb+05F+hTkPGL7jrS9v/2/H/zU/WLL/U53jft7f+NYEPC4h8Fs/UhqpTYi273YyNfAP/+l5R3CG\n",
       "7DWPwLLoRASI6Zbroxup6o3f6vuU4D3xkbCYCIEhXfcTXN/n+byIaQrWXYO5xo32TyV53SYI3RtS\n",
       "u5MRv+/rlhh4VALA9LembxHxsbyn9uFYfk/OQ9vY7ufwQNno66sRAkOauSZH9obMdXtECJhrseUy\n",
       "983cq9FKkF0/jCBwAuJUQQCgLk1sBYEuZczTDve5CoJqJbhECSq8n+7hQm7jvryC+4eXcHn4cazr\n",
       "nRAEDrff84Wyu/NuLHfej+XebSz37iBd3AMuL4HLPeTyAOwB2afi4z8kyGEB1h3yYYGsu076QDPx\n",
       "e/JXX7+sOqKn81WQ52YB0DzHyX6L+P3AiP/Xp3ndcU+3xF93rAigOo4FDgPAL/x/vyW97jECd3/L\n",
       "R8lgFidi8k9f87AWChCciIBOZmn6gO/HWm4uMGYmcG2gd4/66tOpLI94Td0tzRKDrZevwZYZZgqw\n",
       "CPF5xOazwoZ/hK5O2B9a78txIdB/lLZsJx9/n2d1+T75PF75buUb0/wIPPE1cb/qfnsRjyv/ICJg\n",
       "i7QfpN8ziNuftZNc/wEVZSrQevk2JXBSv+Yd0kwZoVyJKtf2VC4kn3MEnxTpqwo28as1piYyM12Z\n",
       "SA3qBuryw1K/zlSXMtayvZmUBAsJgFyXRdYFhne7+s4CFQQocQQ5AQdJ2OWEnQjOkuBcEvZ5wZks\n",
       "OMOCczkvn/QMzpdncH7+HM6WZ3F+/uGy30f8AADcfv9vkN1LP4jz2+/D7s5LSHdvI11cAJdXwOUB\n",
       "cimQvUD2C7BfIPtO+HLYQdZdGdl7IUDEn2kfWYmezP6O8Fu6TwPa83MYsc/y6H691qkQoDw9LqD/\n",
       "13AwLj8jeZRv6jDieVKXPgNeT4vAnf/mY6TdBR65OvJUDCN699TzI/eaXHK7UUovU9sZBAeJB0/e\n",
       "Q38mpMpk6wi59W1WL30ZhoCP5fXkyLdtJmKGfva27A+Yr3ZbSHHalKj4mtw+1z8L2rPtju3ZsqeJ\n",
       "gKHPwEj2veub9UzLX0fuR/JutoP5/fXxGLN8gmv6zg8ijGV9mWH07o637oH37wN95A3XBz/zwMRL\n",
       "mDrdNdPx7Ny40BGOWwqgD1W0vM0qoNdQy/oZBy22QKecC73kKFcrgQiusmAvKy6x4hJ7XKQLXKR7\n",
       "uMDLuLd+EPf278HVDRIFl/uvk8O7vh1n7/thLK+8D8srrwB3LyAXe8glgKsEudoh73eF6PdnZd8R\n",
       "flbiZzO/FFIH0Mk+dzN/swDU33lWwleLpZKuI/bpMQAzqIL/n7O/wwKfNhEDJArgynsLgBEC/tj9\n",
       "3/7Sv/eHzW/sdbUIiMpz2Ic6gH4jBoIupD4lsimRgAiTRyR0g/kJk3pdM2Fh23QP49b+5Jroy+rf\n",
       "gCOu4QGsw5dJXnNdlCRchq9l1hdubBQC/Vrs9WyRa1er/XyC0D/DKAB6XVZ8PJgYSBvpk/75NADH\n",
       "iPnYCP+68lsj/FNFwEyY9HPzvAkY6p2lPSzMYkNbbdXo//7TKT/ANupPghLYr79VrlOa4aD9H9Eb\n",
       "vVq99CIjnUWgfUq0GFE7B2BXrQNK+O3fRLSOVJY6RhnRLywUErCItJkGuf7gslBeqeUTsKtCYLf0\n",
       "mIIswJkAa0rYScKZCG4lwZUk3Mo7PCM7PCPneE6ew730HJ7dvYhnlhfx4rPvkLuXP4Is959qQXDn\n",
       "3V8g5+/6Hjzz/ncjvfIycPc+5CJDLhbky3PIfoe8Pyvkf9hBDmWb1QKwql9/1/z7SvJK/LkKAR3V\n",
       "5/o+GxYBXQA48j5JANhBCY/WRzFg/+dNXuYnzAjf/v+181Nh747rHz3+5d/1TcPv6nWzCLzyG3+C\n",
       "UI9L40a9WNIwRNbyjEQ4xAtomYGcrdjo5C3opJSorO2rrZdOzYTJRBSYtvl6fd+o3EwIjCN+6v9m\n",
       "H7eJfhhRbtzH2a9karXQvoP76s65a30YMXCMpGc4ZqY/1ST/sCLglPq57/bnl07Pe0LfzMMJto6t\n",
       "ftoHlL22Wb/sg4zvc///FZe/12cfgGO97t5uHLf6+bi23ywT9VwGp/eHMs820PxtpgH6egQad1Bc\n",
       "Bd2KYJcvtoGHJY4g40oEVznjEgfcxx730j3cTbdxV96P21c/ivtXP/rUiYG79/5X2f3An8PZe38E\n",
       "6YMvQe5cQu4CcnGGfHWGvD9DvjovWxYANcAvH5T0S1omX3+uI33eAtgm9OuIfjaq9yN8AM2C4J59\n",
       "/L82/K7p/8MH07Kc9xY2UH4meGl19no1HQL8qu/+xs3f0usiBF7+r/4l6T2Ce1jbm+KfLsPD3ZDc\n",
       "bARfifHYw1N8H/ghOGlr9uDzN9zcdf7SOlm2/vrRIbej2QdhYPs9fm30cJ98pSPRux/RTIidONKe\n",
       "t+l+7F5guGvwSvlYm9dZAKa/6A3iPKXN/tM6Tv6atkWs14qLrb5NCPFYvUf7AL6u6/vjRzScp+27\n",
       "uo+1PRMG4n5zts6JoKB8XFf79xIWG/0B7fvID2CtwwQdUt7sHuI8RdHswwYZcgBicyPU9D296+CQ\n",
       "BQcB9llwmTMuZcU9XOFuuofb6SW8tP4oXrr3aJaTfRy4/f4vkzf9zW+BvPsDyK/skO+dY724hXx1\n",
       "C+vVOfLVOdb9rhD+4awQ/LpgXTvZZ/bxi47kl/4dcboj4p7Wn3vC5O3FAOi3NxO3k98U79v8tQzm\n",
       "/zteOJh0VzdaWq+z11Grpjo+93v+wEm/mddFCLz0Gz5BmBD7djJyBmw+Z97wZaeE5cUB3xxPxJ7Q\n",
       "NywO7fAaQvPXNZ2BUH9EbUzPQkCz+mtoeT052b5wnlm53h4JAfpR2zopfYO0t9Psvbnu/NjHa66h\n",
       "7RxP8+eOEv5DEjWnPWoRUPKNZLyd19Z57PxMCGxdB9/b2QOM6/f9nH5v5sFoH5rzto5bCrjcrF79\n",
       "3zajNn+t9VhH+Txay+451Ikfrc62dgKJAJHUiN+vZdCsBFKnvNe0Qy6zDq6y4L6suJAD7uICLy0f\n",
       "wPsP/wyvXHzfG0oQrH/mIyX/yMvILz+Dw91nsV48g/XyHOv+HOvVGdY64l8b8RdTfyH2YuZX0ldC\n",
       "91vhY/6eSQgMfvchr30eGoKf/E6m+xORUHascOU0rod/u31jf3v+f6ik2N/0F/zj3/9Av5HXXAi8\n",
       "9GU/UcxDn5pLEzPxcAPcU2Y21azduNTzjWTARDwbVW8R4lbfxv6Za3EPLS8EhnxTotgQAoaoqS+c\n",
       "x9flhQCPCo8IgcHicUL9Y3+O57nO3z8QyQa5DV1vGU4bRQ/FuOypJOz7u5Hn1H6VMnMhcJ0IOCXP\n",
       "llVg6xq2yH8coV9n5QD4ATcTBPP+lnLTAEOKD7Bihn/n40PaPsjdA7kej1MXy7lMfeHAQ2ntThYz\n",
       "kmTShmWNSRSoILjMgou8x11c4YPLB/Gu/ffi9v1H/xa6R4k7L/9WufX1vxv7l17A4e5zOFzcwnp1\n",
       "C4f9Gdb9GQ6Hs0L8ax/xrxrsp8TuyD83v75+T3YkzyN/b+3xI3/Afde0b3+/LCb9b6mepzbQ8qG1\n",
       "ocebz5mhL+OznX93ZXBr2weAL/q+3/dQv4nXXAh88Nf/5N4AEWEighQ63/NOLAHeatDIlK9dej5N\n",
       "T1SHTNozXyAT4kiCY36ua5a/E0nLKsBAZo9CCAiVm8C4B5wQ2O7L7HuY93eebh/sW2UfyhoAYCYA\n",
       "Tu8bzHezWe9JpDZJf4QiQMsftV6cWucDCoFZPQNBD2T9IPduFATaN+82MPncw364BmqL/+dnQsAT\n",
       "P1+D7y+Tfesn5R0sBULlMBEDLU1jC1ITBfvcLQdXq2CfgYuccSdf4YPpNgDgBw9/B7fv/8ATIwr2\n",
       "3/Gpsv+L78HVSy9if+9ZHO4/g/3VeSH+ww6HavpfyeTPI/61kfpoAWA/fUY/B9D9B4b/BZ8+j+L3\n",
       "v7nJYMaR8jDyB//mChfNflcML0K0vc75VtS2RzZzDoAv/Sdf99C/gddUCHzgiz+R/q+JcJjYNck/\n",
       "sJwomBPsSGJchu5kH63zg6Xt9NE5P5hG4bGVfyPNPEBc21wPric/k+aJlfra2rInbbq4H/8GcfZz\n",
       "nhRsOT9PvaePece6J9dyHTEfK78lAqiOB22L/1HTJM23z/mOtnPsOvw9d+291kLgZAvIZERlzj9g\n",
       "vfbcOKrn+9/N9/SPTnm5Ta57uJeTttm6N1xTI5X+v+fvgf+eulCwVgQTj1CPWRyoq2Kt6S2mQBIO\n",
       "9UVI+1w+lxm4d8h4/+ESf/Xug5mGHxbrH3+LXP30T4f8hM/EP/2sP1/6sxayP9Aof62knilSvy/s\n",
       "RCP+dg9VNKXhu8jiiBFp+t3675O/K//s9r8zhj83/n5ndXDZuQDo/fXteKE6lhEkfPk/+9pH9h2/\n",
       "ZkLg/V/0Sb3iI6P7tt/ymk0v7wkZafpQ8WVM0jHimBHm1PRv041wMETvf0xUxl/35Md3tL+Tix6E\n",
       "xmyk/xBC4GFG9LN0Q6JH0nr/AWyknUymWyPySb2PyiUx/T1uiIBt0XL9dW+JqFPvQ/8Otr+3BxcV\n",
       "Yz/NNVyXb0sYzvrpyb7VYfOL+5/w/3tzEbDxu+H8RE6a7t0Rpl2M191nL4xEJACZv9EFBKxQAFgg\n",
       "JBxyaqLg4gB8cJ/xrS9/zSMVBfe+4iPkmU+5h/UnfxKuPu7T8MyHfQb+6qd/G9Yaob/qaB5E+ML+\n",
       "eyZ8ve5+j/Rcv3/u/nqxpR078r84CAFqd2xnvOat54S0Tx+mDxYn0C9F+DGi1yP11DiYnImBr/ih\n",
       "RycAWk9eMyHwhZ8shiSBfoE6YsRxEjJfsBcINFLlK0j13HBZM7IV/gIZozkfoC9jIBInGKZlecRM\n",
       "vXUPrq0yps9bI0gvZmZCgB5gx0brFqeJga306Sj5yEN/SvYPMEKd1ntincfqva78LF8CXJ5ReA7n\n",
       "XH2z7FvC6dR7NO3TNflOr2+j7EYbs3Njucn/NKf15/B4H+tvXh+3R4OvNoTC9Bo2iEdMZudmcJVs\n",
       "mZY98Yx12Hp1lOzjFZqrISdc5oQ7h4Tf/WNf9UBE8kO/4ufIWz/2PXjuo9+H3UcD+WM+CoePfgcO\n",
       "H/FO/MnPeK8lae3j5Njfgz7VbuN/xF235ttyLZVjafftut9UE3MJ037ApdlzdD3Dcxbmd2k7O7ea\n",
       "2d/V5DclwP/8zx+toGO8JkLgx7/gU+q3wV9Qmly1JSRvgm5l26/HkymN3H1+1/5Yhv8pt0bZGB9o\n",
       "jsSPjVR6mnVt8IO7F9sg/Zm1ZCA7fx9nD2x/jbMHq2v+xJH/UXP81vkj/6j+4ZcegJB8276t2b2f\n",
       "9ntCUMdcGdf1TxXB1gj8Yeo8uW1Kv+6/fVMUvIo++e8GAHSBIK7/WjFwjWg4Jhg2y3VdYDoxEsyY\n",
       "p+yOhXXR4s3rab+Fnrv2vGf+fWkBAAAgAElEQVSZfoWClHo+zZMoPSXBguKu2yXBknLZXzLOlozd\n",
       "spbtbsX5bsXZ2QG3bl3hmWcvcevZS5w/fx/nz1/g/MV72L14geUtAvnQD4G87e04fOjHYH3rJ2D3\n",
       "lk/Gb/r4H8SS0D4JfRnm1sdkb21K/E2Y14vZ6/X//+7+tnR/j44NLk5Jk/KtJUx+08fqmQmItH1u\n",
       "6xnk8/1vP/pggu3V4JELgR///J8qw0wA/ud0RNqTjlyzOBJv5ewI11TPBE+Kr938WRomz4VqzqoH\n",
       "5ppOEgL8ox5+FBt1+Gv0aQ8hBLbKnfL1n2S2PyYGHmA07ssMj9mHHK0fLV+RsF2fJ9Hr8s4wH/FT\n",
       "hcf6/ipFgJa5zvpzTKgcK3+yFWVSJ47knabN+jARFtvt2edIr2Ne2Dxi3Pljd1PgyWp+dxMAfW+C\n",
       "HnOaru7YCD+VsbTmX1IRAIX8M5alCIClCoDdknG2W7Gjz9n5HufnB5w9c4XzZ65w9twlzt50H7vn\n",
       "72P3/CXSmwXpLW+CvOWtWN/6YTi85aOQP+QTcOvFd+BXf9j3YpeAXUpFCKALAu2/ioPk0jVNt/4e\n",
       "Joxp/mZNnmKYPCnc3qzGXk7aLosUjM9HI+JmLR6H+Z/fqOOr3/X6CQDFI19iWJdq7P9slgg5rZXZ\n",
       "GJGbPFpmSnYbpETio/XplLTG+8lszZOiXdeEqI8IAXNNRgzN78H1Uf3UYRwXAw8ymt/KZ7pyJM0k\n",
       "uXb0LvJ35Z/BW6TjhYgpcw1JndTPjfq8iBh0La75DidtGfKTTa55aJJ9LbDBlY2shL5PuOWJ+0uC\n",
       "YNNdXi+4Wl0qDpMMeUpR8+QZoM/61kIa2+tMtFEXPRs8gXtN18ome8csuZeSbbSs5I9K7jUv7y80\n",
       "0ge6EFiSYKnEr9vdLmNZVuzOyuj/7PyAs/M9drf2OHtmj92zl9g9e4nlTVfYPXeF9IIgvXAL8uYX\n",
       "kD/kbTi85cOQ3/xRyG/+eDz7wk/CL3jzd+IcO5xhwVlacJZSEQQAlsrsur+kNIiCQQxgFATdcrBl\n",
       "Uahl2m3deB5ORMMsnwjXPf6Pb0E2Dgbt0H4z23V93Xtef/JnPFKLwLs/5531adC/xpkAsKR4zQON\n",
       "85mn7oYff/NhbPPORcDku+D0Yw95cWlmGDH7ESST/qA+92N4UAFgHsz80NrIM1zKCf64Y777IW2j\n",
       "z75Nk3/W3y1XwZF+bOXj4LrpLdr6/ZzYjr/eYSYGNXj0Wk5weVz/gHvwOk4VMV4wmHonGATi5PpG\n",
       "sh6Jd/ab9flnV53S8btlhgOp7xuRMIzsaVSf4LaO/JXkl1wFAB0vZdrAsmSkRbDbrUUA1FH/crZi\n",
       "d37A7uyA5dYBu1t7LLf22D2zx/LsHumZPdKzGelNCen5ZyAvvAB54c1YX3wb8otvR37hI5Ge/zi8\n",
       "/a2/B7vlWZwtz+IsPYtduoXz9AzOcAs73MIZznEuZ9hJGVfusMMZdthhwYIFOyQsSOUo6T6QUt82\n",
       "UYAyHmcBwV/MUtk92eRSot5/yMza4PaG86dj9luf1dN4jk5+8/sfL+Fv4ZEJgXf/2k8T+09qiY5H\n",
       "6cJ5eBS+2ZVkywkLjCOkx6Ntrn9KZk5EUP7jD9dReAxBedQXc02wAuE6wlZyOGUUf0og3cmBmi7t\n",
       "2n76OrbaNwentXOs3VctVqi++TXMRWY7Z/rVH0atni3z97XmelwrVE6p61EIAdOH2Uj/iNCZkeop\n",
       "37EXD+7ZavPW/pwC/o4NcVPi1t1KE/GQHPHr+ZTEjPS1Xs2/eNLX/G30L0hVCLAIWHZdCCw7FQCH\n",
       "IgDOViznByznK3bnRQAs/z97bx5069bcBXU/e+/3Pe8ZvvtNmTGEIUKMYQoS5lREQsWUChgQZLIi\n",
       "UEiAoFVO5TxQpWCVBIECBEEoEBBBwRSVoiAMRTSmmIKGIGCACsGABJLv+zJ9993tH2t196979Xr2\n",
       "fs89595zz119ap/9PGvoNTz7ffrXw1rr5k3abjsAuD0T3xHx4xPR4zuSp8/o/OR9dH72Qbp/8iE6\n",
       "P/0U2h5/Kj25+7eYiOhweCYb39Jhu6Uj39Jhe0TbdkNHvmmAgE90pBMRER3oRAc5qN2ADnTo9w0Y\n",
       "MIADTt8KFNq8wRxamoMGz9P59yeC+ZiqRey55T/0/MOCx8+9EQw7Db+JXLUX+H3/6Ne9ksIf6YW5\n",
       "Bs7nhNGC9j8HAVZcLNXTsG66x2VCoU4XlPgHHAMVJy9UydaLom5B+6b7xHOgy8v4Ku3+oeb80IVh\n",
       "Pls/9HKYf6g3076Hdos+TKcgmMdj2arP0/YKAbfnWgh//1Xd4Tr9XgOP/d9oxbPqY/UuelEg4EWS\n",
       "jTsJQxWCNjcwr1lwVumXxlcJ36pf1PvhwnxWfmzRTM5b3VYp7EszPwh8KJ/N/EHwE5nmP1gDNuma\n",
       "fwv42w5gETicaesWgO2gAODNBgZuP058erMBgds3iW/uiR8R8d1G9PgR0ePHdH78hM5P3qDz0w/Q\n",
       "/ZMPkzz+JDo8/jR6/OjfsOHf33/Ero+HZ8J8Sxvf0GG7pQOf6MC3dNhuiIjowAoAji2PjrTxkTYD\n",
       "BG4r2KRdbdKsBSwKCsiuFQhsxGZF0PnWfCIECBzcCPE5OhjIzzeAg0EewS+3+E3ld+eLXrL5sumF\n",
       "WAT+zs/5Ed0aMGpFloaCFe51BocXNL4gs+YvFF7g8cXJoNWJpXmbE4xfAIzQzwntCW8FCXMf0QgU\n",
       "SvBjpSeC9XkE5czHjj7PHavC7rRc0O7zS78CFpf6OjRZAMapYA20HzBZiYPwzBjGk8ES1b/nso2s\n",
       "7YJPPJR9DmE/AzvX13/r77SZwvW83HbBAHu5WZvZTB8zwbyfJEJLB1M/CnWouyf4EQBEge+Cn/ls\n",
       "Jn+0AGyH+yD4iYj42EHA8b4J/dPH2/1NE/x0c27C/9FGdHtL9PgRyd0TOj9+1j8foPPjD5HcfZiO\n",
       "d59Gd7e/4i09ptPxA8J8oo1PdOATtesjbXyijQ8NAPCBNjr2642YejrpdXcmKFBw50IT/gYSIljw\n",
       "Oxr+5/A/pvk3POqQagARXl5/4mPPt53vq0hvGQh888/+XFGBFs2qMRDKLgsNNwT/zEz7kFa+OIEf\n",
       "hu8w1q+AQAIZ16+tn5fDIMNgHi6mOlsULgKBlD+rN+Rd6mtqZ7cv1wqVVO6iNn6ln37a3JV9C+JB\n",
       "/CsDSs1wfle0T/vPoqzzEjX+twoCIq+xfSYZ0gcA/oA6exQCxK6xDhSxAlrXoHrWDDFvxmcm5LX+\n",
       "JB/zmrBHwS9R6G9nswA0wd8+vN3TdmxAgDsQ2A73xKd72o4fJ765p+34JvHp3rX/Wya6PRI9ekR0\n",
       "94jOd0/ofPeU5PEzOj9+P50ffYDk8SfR6e5T6NHNL3/hwu10/LBsfCTuYODAR2I+ECsY6OCA+dBA\n",
       "AJujwJwIG9zrNYvBAoowIAIFf779fZwsDSxbf67xtxCBA9Of/dh1J/m9G+ktuwZE4LxnItI/aRda\n",
       "WDgJBhCYNfNRUObyQvElHoHARAuWrJO+JCBg/438PX+iCc98rSm/KkOpTDXnuQ8Vj13Bf6Vwyc8K\n",
       "Z77iv2et8fzxN5H7PASpTXgPZv3Q91bzIUK0ms+y7T0LSMX3gSDgwaDtCsoCPv7Fz8vv5QXZbv9V\n",
       "dpt80W+LeAAU6jkNBfY0D6FiCvTDcmZV2BH+44eIOYGATboFQFzz3+4DCOBuBWCwBjBaBE4tIJAP\n",
       "52YFuD0T3xDxDRPd3RLd3pI8uqPz4yckj57Q+fH76Hz3fpJHbzQQ8OiTXwoIICL6+Jv/38D35vTJ\n",
       "svGhgwO1DDhAwMiBjSMYMJDAB7cQNGeCXXN3M2zdkYC7NTS3QRPvAUiww4a/+NHf/doK/YrekkXg\n",
       "b/6Mz4PKO77rHbNtoYrBZdaWC1BgraMAngkKNAPrKyhbKPT7WiCgvK6rd1FDSxryQ4XtpXbturg3\n",
       "i46+9K6MC7hqLJP80H6qo4Jhd0c5TYFyWTzlXlfgsMx/DiF6NRDA9ieR9NOVA1RYbdJShhcl/N8q\n",
       "oTBVGv/qJnUnQX+c+OVygXfS8HP5LNRzn1GwY91S28f05ONXjT/cc/T9u9YPH3UFnFz4qyvAgMDp\n",
       "nuh0T3wS4lsiPjHR7Yno9obk9hHJ3R3Jo8ckt90d8Oh9JI8+QHL3iXS8/TDd3X75e0roLRrpuYHA\n",
       "N33Jj44Vkybu6eELytLOm60AAXtCqHA31JTbrbT5OV9sM7zYCqAzo4tAAPhV2v9e+Wl7IWHknbXx\n",
       "amzPq9E+N0iBntRWglEzHc356Udld7yTO/b56r+QB8YyPITwdxM0WkzDsi+ZKnBTCvsktAc+E2Ef\n",
       "eBaCfggcLIIDMWAvlx14XCPsd/JsTX/X7gMY2HLgn/v+W74DgK0LfwYrwHY8d+H/JvGpa/3HZvon\n",
       "IuKjEN1IswCcDs0NcHvrIOD2rlkB7t5H59unJHcfInn0QTrefuICAYuI6C24BvJmPn66346GRRRf\n",
       "lvgyLw5eqNu7nH4RCBj/ehlhuJyMB1++DwnguwQE5kKx5j0DC5c0cczfi+wX2pvPunwjdoF8LRio\n",
       "2uoSJ+lrVqk9RrTItDJZdFRCf7h+KABLPRoBRejac1P+zQgRcWVNeZsoCE6dIxCq+Lcx09zzcsIg\n",
       "0HNbISH67qeWAQQAHFUU1OCxrvGcBPyFsc8CADe8P7d+BABwjhYCCARktQYc7/t9/zZLwJu0Hc9E\n",
       "x3vi05n41FYN8A0R3XADATfdEvDoUbcC3NH50ROSu2cNBNx+gOj2AwsELAr0XBaBv/HTflwhP1WD\n",
       "3xFIw4u2v/jhj/atAoHLGnnkr+1XHS6tDVPGDzSDXzKzP9QtcGXA2VAP7oNgAwH8IOtIyN2PyMea\n",
       "Q+xE9TsCwTqsJGHZnWPuGuOefnqNteYSXQsisOwwf6DZvog+vUiqBHD+DQx1drT+XatBkW5PGDV/\n",
       "E9ITywGCB4qC3e5TepWW61a+/8EikDV/tAZs0rT+DS0AbhHYjqD9H3uZ0z3R6dzcAKfep5uN6HRo\n",
       "7oCbmxYL8OiO6PaOzrc9MPD2GcntGySPPkSH2w+HpYGLFj2XReB83kZtCCwE9jILBfwmWAOgHJOU\n",
       "AmqP9szoV2vFZs2A7Et1dvpyTd6IpK5fpz/w2QMBlyw08LwwXS2tcS04DYJd4gM2nppUCXUrjsr9\n",
       "0Pn6ueLmsnHzqH1AqEsjLy0rfB7rx8wiYLnF1OB861RE0Px8Wr4QDwLxRdCewJ7a3yZ+92o6sDxa\n",
       "B0J+/uUWpn29xjIM39Pd/iamfhT2gWfw9aP5HwMBo/B30790/7/eg/Z/uG8fFf6nM9HhTHw8NxfA\n",
       "CVwAN4fWoZsbopsbOj+6a+6A224JuH1C8uh9JLfvI7n9IG23H6SnfYOgRYuQHmwR+L//+Z8Y5DzB\n",
       "C7al1xp9b65loTaOuVwERxUveE752epw1Yieo95Dt/YNeb2NIa2oX1lRSn6pzJ61IrCaCHP8KeTg\n",
       "u1YiA7k9urSZkvPbK/ag+AfLuM46M9vf/joBj3y8YLaqPG8sbha51Yiy0L+mzvPQrtauZdLf7gwE\n",
       "zOrmsnZt6VKXh7J5RUAW+DMNnyD9EhDIIGAw/YfYANT+3QLA4ApAa0DT+tumQHRs2j8fzkRHaUDg\n",
       "hohOTHzaiG6ODQAQNRBw+6jFAtzekdw+7iDgaQMBN++n7faD9OTxv7tAwKKSHmwRaDvbEUV1Dl/o\n",
       "vPPmjMJh1JILrXxHeFbWgIe8+h4S5HepTGWRmOWVGmDvzzUC7LmFZs4X/IJn0zs3CHxMz2Km0Oj3\n",
       "x0JoOEiNXOh74QYYNeorfgt71iPhKXAaBHzRUPidWw9HcFGtqS+7avUl3O+7OmKdh9I1AIAoCtNL\n",
       "9RUwZM29Kl+Z+ikJ/tA+FYI+pVXm/zIWYDD7a3pcAYCgwJcCIhAArR++Q0yAugGOzSJAx7Nd81Ea\n",
       "EDhRjwPYiE6nFgtwc0tERHJ7S3T7iMhAQFshIDdPSU7vI755/wIBi3bpQRaBv/LFXyAXheFD/fPT\n",
       "snpRWwSyNWBPEJd8U/mq/jUCFzWha/pQCpyC78V6icd+mX3tfGoRgP5xKE8BEDxfn73uNb/Aq1cf\n",
       "2A0Pncb8Cojt877+PapHmoY2kpkhc8tWCEtTi1tR53npqs17iK6yAlxbtxLOkaC8zVES2IlfCALM\n",
       "oKAw/ef0Pa2/CvrzvHP4xsA/ZhmXANpSwF5HhTysDmhC3+MB6EBEJyI+URf+CABuSG5uSQwI3NH5\n",
       "5q4J/0dP6XzzhOTmDaLbD9Lp9kMvbX+ARa8PXW0R+IZ/9p8WFygTYXmVEGbQNp8PCGTBORPuJb+y\n",
       "sTqKflocTMsiPAcTYHqe9mEAMxEsXex7wafMviSwJVoE8hkIQgKBem/NclG2T0T629gvM2mr0t53\n",
       "OuBzXmvq11CwoITE/hsvXA+e5E8b/xYEBaSCMMh7EW/0lxVHQLQPAsq8rPVfcCnMBP2Q9pxAAC0A\n",
       "OehPy2LwH1oHggtgKywAm5j5nyEokC0G4L5bBIjoSC0W4NgDAdUVcLohUSBwe0dE1EFA3yfg9Jjk\n",
       "5llbGXB6Y4GARVfR1UAgvPyvEMCo4VRgQdL19EWcgrsqgb0nJK7SNoe+u0Aq3/PAP/fFe0pXAh4A\n",
       "RkMmo+J8UUoNeuMAJnYsOeTPOCtrA4Cj59TQrykXCH8rF9oJE9US5nex8lAVmnNBjQnxd87DPPei\n",
       "xe9TJnk5fZaXD/op26V3hgbBHcz8KY8iCBgAQK4/E/jpO6dntwGmzz9ERKP5X+uWQACFf2UFMK3/\n",
       "3t0Bh3N3AzggoCMlS8CB6HS0gEA53TYgcHtH55tHREQNBNw8ofNNBwE376fD8RndPfrXFwhYdBVd\n",
       "5Rr4+p/yk2OhItCOaP6uDoL+AWb0gWd+eV6j+Vdv+WnZC5H7XSrkl+51wjGPG/sBmjAI/Xo+J2Pe\n",
       "rV8DNK8731To4jLHKQFwuABkqn5iR3R8PJQVKM4hJzAB4V2Czoz2HkB7zxyFV961MQj3ojzWq9JR\n",
       "WOa/x0qQlv278BQrkzzmzcpd1Op3AMAQZ3DBApDzrg3+02s071u+mf6jvz/U0bwBAAhYAsTOBPB4\n",
       "gHuzAJAJ/xYMSCciPhLxkbsV4ER0PLor4HRDcvPIAwJvHhMRNVfA7TOimzeIb95PT5/8ewsALHoQ\n",
       "XbQI/KUv/EIZ1aXrTelZwFzatOWigCl86voe37MMoEDZZR/6x3FTmO78DWZzaHgWKDnqcC55qpMV\n",
       "7etK4V40Bry1eNLoc7WkiV4QESWgmXZnB4zNAU9vB2X50GT67Ug6wKpwsxBo1eMSUmwahNcDglAH\n",
       "4NoFNfZxVn4AC/pbTOlYj4u+vQVckxjxaB6CflRCPpRL+btugILPRX+/8n8OIJA/lqfHAG9ndxFs\n",
       "fuSvaf/BInBOroBJLIDmH7sl4KBLA3sw4ImID0x0PLR4gOOR6ObUAMDJ4wLk5hGdT4/ofGquATk9\n",
       "Jjo+JT4+XSBg0XPRRSAw1bonL7fdF6YK5PxivtxP4A0CDUznlwwbcc35eOmyFgV0u1erSfOsFsKF\n",
       "sH0u0jBPX9NRCHk/Lux2OAgs2td2A496g58sOK8BTFW9qkDAAOV8TJpyWV2zVuHYR23g5QqXxVV7\n",
       "TUx+9xnOzXi2xyLB1D9rL7d0afOsChC8XRQ09gsWh2tAQGkxuMYNoHkPtABMgQALAIAeJ4CgQGME\n",
       "tgQA9PvgFoGtcAP4roF9Z8CDRBBwBBBwc2zugNOJ5AgxATePSE6P6Hxs39SBAJ2eEJ+e0NNn/9EC\n",
       "AYuei3ZdA3/+J33RPHfwce5ow0XwHAoRe8HuaocRCIT7WMCFTxbWvXxpPQjgIIIB6KqVxSAzm4Md\n",
       "zVfKmx1BmPntmDzSKzbVn5UvgBEmYd1s9aAwFXPKwvwhQZxYlmOPhRAItPxKeE6F9ryruzyuqvsc\n",
       "Uf5Wrqhnfz9XmukHvhf6UsHwmaY/mO0nbZd+ef3VTQBAafIn9dfX1oEXBQIY3APboO2LafjWj8IV\n",
       "YMGAh2QFABCgywKbSwAAgLoCTh0AHI9N+J9uiG4fdQvALcnNHcnNk/55SnLzvtanmzfo6ZN/f4GA\n",
       "Rc9NuxaB8yWfNwjuHPQWBIUu5QIBiBo3YdZEWw/AYRDwSagVduQMPDLNeEbXAJbVfgtc639XWkhm\n",
       "gKOqq8/iAljyuslywVXd9HyhIwbs0lxKT7BHmkBN2ZedDl+lxe8E0Gl+BpwZN12t+WdQMRGyVrcA\n",
       "t9zT8/TNwE2oRxRcF9p3cwEUArqyFGA95DnUhRQbwSVNP7eh9VGYdz5I14IATn19O0BAjgcwEMBC\n",
       "unqAqFkJAhA4xO2Cg4tgDwToyoAjt6WBx0P/HElOJ5LTqa0QON6QHE5Ep1uS0yP4PCE6thiBBQIW\n",
       "vVWaAoGv+4IvlurlHv5Ek2Y+7BdvwqcJFZenCBp2NOhBiI8CLr16hgq1EJpo4v2thgJdgMcAbshR\n",
       "wqiRzvfZL5NNiO31O4GexHQusnjMLwEXp/Z5LCdEGG9QGSpMOEwE26QbIyVLEgpUa7uyMlW+7Wtd\n",
       "UNmU/wCQYkmUBHDRdrUksAQMKW935cCe60DY3RX7I6rnL/e/dWYXBFheHn1Rz6wHEzfB88YBEJHv\n",
       "Aoh5lRUA3AB4vwXXAAABWxGg7oH79I1xAAkEnIj4QETHjeiQQMDxRHTscQHHE8nptrkD7POY6PCI\n",
       "nj37TxYAWPRCqHQNfO3n/3Moh6tqRESj4AfhFw+HSVUlCtg54BhvSu1fixj62OGVys3GeM1LOdKl\n",
       "A3Z6GWQCEmCsGvsXNcvcH04ld/oJc15jpEKwYvWJ9pnzA8uuHT8YCExotjMd7u9QvSHjbyqWyPys\n",
       "vwWgIKrHj48U+Y5PZiyj/dY2hjoT4c87eVU/s5COebXGnnkxXj8AAFRCfXaPda4pf+kTyoGmvwWf\n",
       "v5cPmwJ1QEBERIfzaAFIKwJM4Ccg4FYAIjpyDwrssQBqAdCgwFOPCbi5c5fA6THJ6SnRzRsLBCx6\n",
       "oVRaBM5JO50KYqBw/GvSFgeN2qKh93nO2hjTcj+vEPLKC97UM019wCuFNm3acxpKaU2gNmYu+XhC\n",
       "HNoFAR8Q0RXnJoQb0LxnEe5JszVhvMe34lOVnyzT3COsxxx3d6wi6a/pp+9GCPNQuCWYyA8xSvWt\n",
       "TLZiTNqMAG/fEtCKRKGv81ABo5dJ+ad+NQjQTxLquZzlFfkVCBiImzIyAwHxXICYv20jCFCLAG1C\n",
       "tJGvHkAwgCCg16dN06l9NiLZmPiwtVUBxyNJ/6bjsa8W6J/TTXMJHG9JDieSwyOi45MFAha9cBqA\n",
       "wNf8xH9BUKiMpoG5QMqR+S40vDz3e/TBz3Sl59G8xd5QKBhn/Hgyxlw+8pq7G1B6RzASBEKYD989\n",
       "PrRVd+l6K0pKqzaqGQvnMoiS9HlBGXu5z1ZA4EUEGbt92ZvfIjXEsuDywAuEc+MuBuvwbh2tV6bT\n",
       "ZesEaZlCmx9/CZcBgZa5JCH2ylxTf6gDSzanFg/saxb0qUwof01+aRWIf327IGBL33ymtqVwfw12\n",
       "gU+ws2BeJcCbEB3ORAeBfQVaHQUB3EEAHbjtFng8mjuADu0jx1MT+N0dIIcbOm+adkd0fEzP3vhV\n",
       "CwQseuE0AIFy+9igMe+8JEHAR42lv2QYhGBaOTCauwv+15YHYXnZT1+Dl0gTC4PUfBSHoJUkv7A1\n",
       "CLEGGxOz/KRvLoTH1zECkUGUVpq6arKWV/PD+gMgTP3iol+h71mKBq5J75RYVDQpIC2e/kw5YzUD\n",
       "gskKhj1MViE9JmgGNzJYGLYTxrKS9z4Y+VwCBC9OMrQeVk9r5gq6yDGBANXm1TIQyuT0Kv8aEJBd\n",
       "A5uMaTvppDwABNiGQgfX9O2TgwQ3CZYAVmuABgdCYKDGB4hZAo4tPuDQAAAdbzoIuKNnH/jVCwQs\n",
       "eikUYgT+9I/76TPlGITeBe0dA7mm5fyFPgpXfyFLrDS2tecmgDLDq21oe0fYpYwxtGuyq9sOr9JU\n",
       "bhJqT3P3F3U1nqK7k4xZfADWjELXZpDn8+xtxvmOcKGY6zSB/tupAYQ9AWS59xDqVqep8zrx2fMe\n",
       "GuhWkIe8ud2CMv9LGwQ07WjcuWwhlEf+Xqby2SOvrLEz8uD2ndu66OdP7eX0GgCMwp+om/n5PAr8\n",
       "tBcA7hWgQYDDToG2odC4IiDGBigAED84SPcI0IODTgeiI8QF4K6Bp0fNGnB6THLS5YJv0LMP/JoF\n",
       "Aha9NAoWgXOhaRPhyxqE9Ez4FFpiLNrzLwmviZthpPlxuPGVOBGwpoHXwmEoauZcHUcWF0IafY8u\n",
       "AOVsGroQEYOfPXSq3vGuFg84/vhyf9j2wPhQo06mQlmIkv+9FtTDuQswX9NxIjoDa0ruIz6pDCot\n",
       "NQ2Qh99rYTFIXeTEhjlasJiIcqBtYNmfr85dwwWcsmP9StvPfPd+pfr7NLiyAyh8M66HWxQYPkQR\n",
       "BITOcPyFBAEP91UsQC4/W4rojXXhDyBg1xpQgoCq/JkC+ID4AWK1CIi5EAIIOBDxRsQbEx3Y3QGH\n",
       "A8mhrxI4nkiyW+BwA9d3CwQseulkQOCrf+yXiP7lllosEYX9AAatWum63euyBvegZX49cab7zIFB\n",
       "IbRCJ4pygy2ZLFAugBZ7MaG5u1hSGeppW7VAjfWuAUYXLBt7QXRs/4XKuX++OVBuzzPGZ70372Tz\n",
       "YF24APysvgzJVLoFqh8ESFQOzyqI7l5EzOuiM4HPBKcEgYpeME/+JnbW/xPtA4Ky/KT+sLoCrjn8\n",
       "di9TtjqM+Zd5DRo/ed/zXFSxAVM+GQRc/LSxoEWhxQZojABYDw66aqAJ/ZDX3QN0OFswIW3kLoED\n",
       "uRvgsJEcepDg4dgAweFIdDiFT9s/4I6effgrFghY9NKJ/9jnfYm+roioeMGG20vCaFweF/eKj4I9\n",
       "e8/3Bf4lQRlvZnpOfkk/RB/aBUhIiJckJA9zoOnKbegPCKCqEx6TUb+AA1gpWHC+GABeFi8ziuXy\n",
       "M6u0Wkyw30SpWjYOuSHzwKcAACAASURBVCciI36pf5W7rUceCbhp3iBki1n0DXlSfap/5bNf3swf\n",
       "788qCs8qX+8Zyle8OaXNlhDuBfAF7d60cgrlK1eA5Rfm/1C/yKv8/eoGaP1u6cNOgSbAYXVAz6e0\n",
       "U+B28Kh/BQK4RwDlJYIHaWlHataAI7V9AnTHwNOJ5HhsOwbiMkHdNfB029wBpzuS01N69gm/YYGA\n",
       "RW8LHT3i+hqNMwnOHaEhKr1AkGVzL77iB215aJeMUdQ996wB+yADhWTZbn4h72jUWcvC8ajA0j2I\n",
       "8qv4kogd5i1XQEmWBFnsY62Z81CvmFfTXqccsDPjFsWzvpObzwM78XxsydOS5m11Ju/OgHiKzk2Q\n",
       "liiaTdWEozVAyzLhGPtMApDjMJ4a4l5jKWhDTa4g79wUTFTkfdMx7K8C2CWOlxUIsHwANBfz90BA\n",
       "F/zadis/KYdxBPrZmgUAI/45aP3i+wiwdK3fwYMCiFae+uoAIjps8DmA9u8uAbyWw4lkO5FstwsE\n",
       "LHpbyYIFv+pH/azxHV0CgnpVgb+SXOrl120Tiv7XmktctxNffiNP+pTrzTbIqZucEvZfGVQ8agvI\n",
       "pM2JebYS+HvLLZNHOjS2O07UeC8JatN+97nWIm5SViqAMXLLoGBeZdJ6xgDItWIGjZRwZDQTDIIZ\n",
       "rQRTDf7CbJXBepBe1UMB3BJqq4Bq/sgHzwXY1f5T2nCewLXWgOIa80PZdO+7AvbdAzsA0CWCG2j8\n",
       "IWbgEK0B4dCgHjBI27kdI3w4E233rd3BCqCrBsQ2DGqugL5M8HTwo4RPfRVAP0fArAG2bfAdyekx\n",
       "Pf3U375AwKK3lcKqga/8kf9yJeNTwmWBOhP6koT9oAmVqVmgF41f2c+y39VmNkPpHW08lKy0RK8z\n",
       "E3Z1UJ+MV2ZWGMeSIYfobQAshRDfadqfRz0XJcwBIXNxe96i4RbYN9bT38+szhiHMP7QKhxwuYdt\n",
       "EnGsPPxG2OZ6BpDs8JzUr9GWAu0UvQnCn8cZYfweBHysUwl07ONM6GceejhQCQQSGCjTCwGP7WPa\n",
       "thfMx1QAAAcBG5j+DQQcUlrfE4ABBNg+AUS+QgAOGHI3APUlgltzCegGQTfNJUC2ZfCN7xyo7oDj\n",
       "HcnNU3r6Kb91gYBFbzsNWwz/r5/7c0yGZLK0vNte9XYNVgKtDUBgKhTLbtZa9462O1oRnHeSj4W+\n",
       "eZmX5U36O9uqd6KUDu1w5p2mcuyTUNzWOVbAZ7H/pkEAsl/y0htrzwqxJ5RnFpYq79qxRJO8pk3A\n",
       "EMrqEifWI4uWhVGYZ8vDzFqwBwgGK0Al7PM1mNhfJBCIQh4tJROffuI3AwPbzHLA8VyA9psHLT8B\n",
       "AFs6iEsFt7NH+GdgkM8NyLsGEgUQQNs98VFg22DqRwkrCGiftkywBwCe9AChdIjQzRN68mm/c4GA\n",
       "Re8IDRsKnfEVvav9M94EAc8SNWEiIo2cllQvQ4WqMW1PhvJJax6W8hXsLBI78+8AgbHspQ7G+QmA\n",
       "AjR39PlWlouK/WAPAOE+E0PNlT1qzj7naTDla6fuz6y/WSDFdqsEX3ERcA7nZYG5zQ4ke1t7oAG4\n",
       "2v/171gRa10OVwtUfDM3/WIoM2wmBL97izMQsceLfXA7BPKISyiHEwuhd6EM7/j9J6sL3hJlXriL\n",
       "IgCTKi5gdt+mS+wTAUQCB/ogOJXjxqeMG9i6hSEdPKQxATaunsawbbB9DhxiA1pcwKHHA7QYAdl0\n",
       "xYB+bhYIWPSOUnno0B/64T/PErNOEkoH4RS1m3D2AMUXnL5cS0XseQ6mEQrtaJ1Rn6o1+CjQYqPz\n",
       "ti8ITMybvGgzYNjnck25ou1Jwr5PflK/zHiAEEHwF/HgFG9d83as8QxwqQR9ITjzc6r4mmAaDgZS\n",
       "IadpxbOetUtxTvYtBVGzHvoHecFKMDHRh3J2L0O9kK/ad843IRzLYh3N23J6YUUIbYWzAUZLgLoJ\n",
       "cJWAuwJUwEcXQLhW7f94H10EYBUgIk87iq8QsFUChx4T4CcJtgOFbvpKgdtuFbjpmwXd0fl0R0//\n",
       "sd+zQMCid5RKIEBE9D/98J8vURhe1rYzBRM1y9TCcC3fESjsiAwZeZkGuCPEHQdM9SdgeGE8LA/2\n",
       "kwetcRxSaFvbKPkMBwaFjhUjGy0EM2D2IBr8N6gve1bYWogpljGLQKz4kJ49BGjsWTn22nwQIAD+\n",
       "u4CgAAPZDJ/57wIBzC/cDCjUtQwCgSysXbuXoUxVZ8oj5Q3pUw0+AoAQHIjLBFmCC4DANbDZcsAe\n",
       "F7BBACAEBBJRuz7q6YIEwYFbjw2ALYPxRMHTbQsSPN4SnW7pfNPiAp58xu9fIGDRO05TIEBE9Ad+\n",
       "2C8Ycocd2jQ9pLh5ejSvjye0XdKKR83WzYzYJ29mx6WR+j8Y6zmWwVdlacHYuedJmUEDhdpZNMwE\n",
       "2CXa1eazoH0AD53DoYcPsAhk4ZbtHTKZbyuN/Y87HJWVrn3Tjtp3NO0PedO6EQz4iCbt7QCCrP2j\n",
       "VSDwAh65/AsFAjNBb6DlilgAvJ6AAUzLAYJEruVvnIR9BgG2xTCuDCi2E8btgmGfgA1XBxDBSgGy\n",
       "/QJajMChxwbg0cI3EQik2IDH3/8PLRCw6JWgXSBARPR7f+i/0t/O+8K6zBN8ZcWXPFH9gr6Kf9J2\n",
       "1fJwSVBbGloqCiAwAzsP6etVdfYi3a9s95oxX0NDa2DNKHmmTjz0jbZrERiAQBETcKHN/f6M1h4U\n",
       "PlOeWSBLiluZuBRGYND6MJYb+XAaJwrcUK9Ko0JDh7RhTBUQSDxGECGkKwaGNp7TGnDRIpC0/8Ft\n",
       "gIGADC6CwwwMpEOD7HPfdxJMwYIQHEhH7ucIwGmCp2NzAdwgEHi0QMCiV5aGYMFM1WmEbjKOdgAs\n",
       "EV5zQkS2zSq83jmUikfcXuqXM7EEtzRk7X8PxLgNo6EAb8Be8pM/2b29/FUL88Rr3CKVyX7kXbaV\n",
       "86q9CWYAh4uTFlJ/7chcULzt6QmNbe11nKssePaDnPbfmpWNg/WSnFOKYiCRce6Y8JlK8bPuAIWj\n",
       "HcnYTrYE1ueKoNvPLhhBTtgaOM1F4xUThUQ9b8N4rIyeQaAuOq4cZXPaLyexDP4W8u8iAQ/qdbIl\n",
       "I1N9sFBRh4XqAEG8j0ADAwB1+2Dq9XBTISLyLYN1G2Emom3rnx4YuPXNg7Z+vR17WgsOXCBg0atG\n",
       "F4HAz/76386/+3O+1OVuyI3CPr9aBjBAFAMF99b67+yBPh70E3uTjRxDG6VFIOtCLc9Bz6jFlvwh\n",
       "QhsPgLncD2hPe8JzsBFIX+7Qjs5valErpOQEwJLLxtL3VmU8JJYgAQcJoLL/blwqWloTploKfx9Q\n",
       "P4G/srfwGyw4eAr4nPCXnZ/JTJCPxw/DNsmiwgiDDiXwmfRqAEq6jqA6N2AYXy+jxyOHOrONrSiO\n",
       "f6SeO6k/ujbqPL2vLAKIQKv9CobyKsQ7CDDhjnUzaNjO5BsTATDYpAl/IhD++s0OBA4ACCzNdxNs\n",
       "6cpo0aJXhy66BpR+1+d8qdTugfr1IPZfe0lUr4Ko9NWBdXu9uySIuOB5PT9kNCl/Sfgli8C1/Xgr\n",
       "ZPPO02572bewFW2r3++SZecaqgDSDJqhzUBSTui/EF1eDdEmB4uVcwA/68q0XzUzCDm7yL3GMvCX\n",
       "YQXcnz+cK9AF4bi/wWjux/rYfjDDIw800dPIo4wRoOgaqMo91C2Q8/PugTMXQQj+S/sHVO6A7eAH\n",
       "BqkrwN0D0tKPcI4AUYgN4CPDWQKnZg2AlQIUXALtc/eZX7msAYteOboaCBAR/Y7P/oXTN2YWolmr\n",
       "uQgEgJtzHdMr2hfIkdOl0VbTUQkX6+dO2yZgdnztOe3aMT8P7fG+5u1UYaOJjaGsOxO+UlhcWsLk\n",
       "53YBfKjgHMfoWmVubyyfhWTBQ8bf8q72G25qcKC/FBeuqd3el8xLxzzb5jf0cZZfCPmcPnyz1OUq\n",
       "AZ/zZmkVUOiCf+MzEacdBHHJoC0TlEksgKd7IOC9AwFYLeCBgW4RCLEBuHHQ8WhLBm2p4OnWAgUf\n",
       "ffafWABg0StLF10DSGCgg8T4Oo3GTX/1jAF4UluTcSOeoXXkWZnaKwFRlBfMwx7nDvW8UH7s0ayb\n",
       "uwBlAEt6Cf3pQq+0uRjIGDKmnVIfsvQb5Cud5y6kisp358W1wC7qCQGoKsDRME5Jxz13Yu1/ZXHZ\n",
       "NW2zJaCfX9vA30f24fvBUc7D+oJtFHEEGTS1bvbxJ0Dg9ooOsNP+1Nx/OBgPoPE6uOzSYgl2XGxv\n",
       "iUqQltq6pu0r+2aAg5PlgMf89hFSP3/YHIjn19YXqGufrXckxwYc+s22kWy4gRC4B3ijRYteZXqQ\n",
       "RYCI6Lf9E79oV/6NN/5CxVfeTOBctAhkocxiQm2f4yh4qhd0FNC9zKSzKlCHrhH5SymVieVKET8p\n",
       "OxfxpaApeMwsAhXfQXu1ednvbx5pBjvc+YU+Q2f2zO+XZ8vr7Qae4TVYbapfymwJYL318A5/2pnn\n",
       "AoCNmrz3x5fojXVa+WT6T7ww7SqLgOZlLX7W5o65f+sm/i0L9KqsLvtLroDoDkhLBNUacNDVAmlF\n",
       "AFoK0CWg2n9yDbRNg6RZAojiNsKwUiC4BHTToGO3BnzOn1zWgEWvND0YCBAR/ZbP+sWjYWB6g0Fs\n",
       "/iq/BgjMG3DeF4s8FAgUCaEOp/QiIC8ILJ6XyT3hssTEIlD2sC41zkC+ijSAAGRSUg1RWrBjKpkE\n",
       "fQACHDmN0fHQWhb0EHA4mM5zbydm+VAmMjdAuDdfM6Ff5WNeTt/jNwh58jmN45KBj/v/x2ulTTVl\n",
       "4FECAEi3fl3hDsAdBbfCJTACgTo2IBwqxGkXQRT+LB4PcMiugntYJhj3FCDdPVBBgMb4HYjYdg9M\n",
       "IOB4Ijqe+uZBtx0E/KkFAha98vRcQICI6Dd/1i+WmXm74jhdm59egntL8iYchvywwdAguLMAHNsr\n",
       "TgSYlh36ti+TiwqTsln+JiE0CNhQzYMA98v1tKL9XaAmY392SgeO1a8En0d+ZnuWDab6t1YH0xVt\n",
       "gTUglJ0IZgQEOe+SFWCm+WP5DB4yIBuEM/l8DUK/AgJYL9Qf8z3uoLYCRGEvvQ8jGNgmloHrgQAK\n",
       "/GgN8PiAIkgwX6uFQPcF2NAacG/HC5tF4ChtB0EFAQoEjlsHAlsHAUei46ldH2/6ccMNBNz+sD+7\n",
       "QMCidwU9KEYACfcX2D+cZ16OiaamdRn8jan9yKXmYY2mvgglf2qiC/sZxKFO7AootfLud3DHlhzL\n",
       "DKLIAEw+VCiX7+IiA6ru5C6BWwEWhEaBKGlyp3DJWHMsFCWb9104xC8wmAkE+MmFOADnmtuVoVy7\n",
       "Gd/TrO2AcBzmTIEmj5DR6hf5+bdmT7yv3pBJuTaE/uTZZomis+3FkfT29vz3+KcspHsbaEKqm4FV\n",
       "yhuAlw3IEX0AGVpH/3iYYvtmsuh5/UObt8dhzwAt2wHk1sCC86G2TJCIeAOGGxPz1uJGeryA2N4B\n",
       "a5ngoncPPbdFQOnX/6BfIibgC1bBWFkBgVAO7gvhuE9ZeNd1TEhM3p42jKyRz8pd0623MMXxVT+F\n",
       "HWk4OWZiBptGDjo1ez72sgOpAS4LcZlXGVEQS+Qxj1p43ZmHLfe7YP5/gNk/5qsGHO+14MwKgJp6\n",
       "yANNXfly6LuYa2RYQRDqx3ui4vjfLny3njZYCwaXQe0K2IsbyPlEbUWA9iO6AKrYADX/Cxw0VMcC\n",
       "bBgHUOwkaCsIjnkLYW5LBYncJdBXCsjx2FcJnNwS8CP/j2UJWPSuoue2CCidi5399L64nKSjljPL\n",
       "J5DQQdoMXFpf5lsOaxkOlca+luKlN1+/9h09iDKvmBSO8yDsTOJlxAJR5JGBac4TkWhtGmsbfOi5\n",
       "XbMkLc/aGWwVkYKqWLwPDYdFi0BmZnYPkP7hqGuqnkGar4lVoKbOsQCJMy0/9GGa37f76b83AXRi\n",
       "xw9TfHb21wAWkAyCkG/8c2gTZb8/m+0Yu+I/Mb44Nzu42QGHIch90DkDTFX+Ho2Ayl0U3mvV8tWC\n",
       "0NLsOn2CpWGj+O2BGNQjHbslQFcH9A2DrjnWc9GiV4zeskWAiOjXfuYv7fJrFO3UMqJmy0WZRHGp\n",
       "2vy1n9MsffL2inmV0NDWap32ZdHuXECZKm/66tljuleHonaa+9FuEiBAFX4sHXK0X6WmH7R4Hx2H\n",
       "cslXP/khVJo7VuBUv9orYMZjFnCYy+ivqCyX2nNNPpVFHz4RxVUAagGIFo18JoFr7SM/08RLi4B+\n",
       "F4F+xnPU9If7bAGY5GfLQIwPOFvcwIYnC+q+AN0KQLqx0CFp/VvcJ4AP92GVgMYK0LGfJ6CxAUdu\n",
       "cQFEfrrg8ZhOFzwRHW/o5kf9uYUEFr3r6IUAASKi/+oHflm2CeyY1/ENO5fYQYMfORT6KpSfCIcp\n",
       "SCgaya/vcQvYPbrmfVCBm0v15q2rXUGUYQI3s1qhDoFQuUQT7XkPgERzPcwnLIxHCDYV5oPAdztD\n",
       "7GBqN1kVqmcQhXQrw6FODQqqfppQpjh2wnRyEBDyJyZ9rwMC2/onwCu6CVD4Yj9RwA98AQhg/QEI\n",
       "VMI93W9F3nBgEEP7nA4VsiBBBwBhtUA6UGhD4Y8rBnSVQAAJfRfBHCB4ZOJTP1WQCNwCp7Z50PFk\n",
       "boGbz/sLCwQselfSCwMCRES/+gd8WdDjexMX6+31IJpex5IqslwAVcKaQw3vGUMqlswBeZPODqb7\n",
       "qkzWpCNgsRe7lruk/icmlQuk7rdqiCPzGmjhDHAch0RBgjch7YKmnmVzxSc/oaFNtAYXwtSzJhYK\n",
       "5VGYrKPwlyJtnMkqLsEF+AhMsjUg9g00/2AFiGkIVtyPX4MFFcbYjmngWP5KQb/N8lPZAQRs54ur\n",
       "BoaYgH4WgGr+w5LBQz8rYLAG3I8nDfalg4TWgON9HRtwBCDQ9w5o+wWcbCfBmx/7lxcIWPSupRcK\n",
       "BIiI/osf8GVSmX3r1osEEHaleb5LzzF6HtrcabTezXBSdtbN/WoPpsx/ZrDgdH+Jz0Pay4mofdbj\n",
       "DBAsMY/GIRfUDPX2+c8ErfIZBHBsYmBW/JLKNtjAXeonatkD33FOs9ZdAhsV1jMAkV0C1pck9CkD\n",
       "itFNkDX7EDT4PEAA8qolgng/E/jT9C1aBHCvAAMBaiHQexXwDJYB0Pa3vhIANw8KywY1SFBdAkci\n",
       "OigQOBCZa+BoboG2f8AtnX7CNywQsOhdTS8cCBAR/arv98uuZ3oBMQzuAQQZ+Ea2/6WIL8jNCBWJ\n",
       "kPAQqnYduI5PJZwu163dEw85wDjMCI/51/Zk0M6L5rjI38NiWbANdSZ8AhAIHOdtBhN6zuv/4TN6\n",
       "HmCQhTry55Qexs74ncDAADIcSKDQJ+pxbSkN66sQD+kFCAgrB4Z8BxlZ878WBGQXgfWjWwKCNQBA\n",
       "wIbugA4CNnQDlDsI3sOeARJiAwa3wHFrIODY46oNANyQHE90+vxvXCBg0bue3vKqgYrOROWGdB6p\n",
       "DsKzsgsTBbU+egXAswz71XuRWrxKuGarj6zxXT3Tkq1pSyjeAzNQw9AGe3+z7JrhEhfgozVEo9Kr\n",
       "eo1nXJkwthkmuZUOfMbI9dz+2NdQvSaeZZXQrXtjdtBjmLzKLAF5NhHhVwC8ogVCcJasOPQlsdCy\n",
       "TBRWHeTu5ucifZzCDL8XifmhbrSP6dLb5m7SJ4/1fUXItTA0DG123HC+L8pUpOWq0zBbP/UDDbHW\n",
       "i5aNWF/I9inIHwUw3P5wZOtgSj96ngDsGUBEfuwwpi1a9C6nl2IRICL6Tz/jlyexVv/R+AtszE+b\n",
       "9V4U2EE8TFp/MaNNQmaPdxwCEVXL8p6fqtnlIp9yPu+XQw3U8yNQQBw0W1aI4KXqX247jCOhFRVi\n",
       "1j/IV4v+7NXsKwEY0lBLnvRB+RPy37MQePnK7z/zz8/6ZM8hae5xfnMaWAO6Nh92JuRWhnM9HoXq\n",
       "4FbI1gHIr7T/wZIA1gC0Amj/NI302qwBEqwBWz5PQF0C5iKIeweMqwRw/wDpeweIny54oHamwOno\n",
       "H6IQJHj6gr+2kMCi14JeGhAgIvqPv+8vH5jP17rTRffAXrW5cOFBWu6uhR+kUiEuYd17uR3xzMoR\n",
       "LkfN0GSVXgahVZRPN1aawyr9sX9QtoY0oxDbAwpVz9T+UME7hlJ58get0vozPuUoZEeBjs9d+5uB\n",
       "Yxae2KX8XQGCATQE3miyx3GMQGvMS37+K+IFYp/FD/bR8QEvBALY/z1Bn90CeeVA6Qag6B6wQ4e2\n",
       "WE7Hn4GAgwEFAWLgYNhSOLkEAgjY8rkCZ4gP6NdH6UcMUzxYSI8ZJurLBI90/Ge+aYGARa8NvVQg\n",
       "QET0H3w6goH0ViSiZGeP6bQHAvD1vAcERiatOZcSZXcoCZUZPx6Tpp2uho9VJAqT2pZSWEkEUgqt\n",
       "OM5kFNAc8ih0YMhLNJG5RZ/rMVcZYWSFwC662b7AIjBue5SAS6+chW3Z/0L7dn4uwKq2BotA4Y+v\n",
       "2gyaOQhw1+ZrYGFtZwGuYwTBnE3qsW4t6IeAwQAaztM4Ag3sG+IHgtAHgNB3FgxnCqAFAcGBBQOe\n",
       "+x4CEgDAtvVAQNg10ICDWgG2M1EHAWoR4OMBThjsAYJERKcTHb/wby0QsOi1opd+UPZ/9rf/Gz4T\n",
       "05nA2ydEZ/u0vDP1e9JPS7M6/ZV21m/gEfn1NGwH+Oj1WbjtcZ/rYtmCb+xj7IN9oB29t+uqf7le\n",
       "4of52ue99vKctDLR2xrnhGE8HOqPc8Rt7uCZxucUn1fVXvgUYz1r/V5oyjvNgV/zMN7YJgOfxCN9\n",
       "SH8nmJavexlKeQNP5AN1kCf1NpGXg1MmmtQZeMCN5HuJbcwIx1gXQDtVslkh/0msgM6B+fo7oiuB\n",
       "jvJA8AeARithPADnJ8Zwb92TfuYAwYfhu/gsWvSa0UsJFswk+YVE1P7QqvdDKFv/0cnkuiwUXpwS\n",
       "s1J3TBMXTyx7MFRMyXkMkMG5DajChPViugqEoQxUhG6P8yKps5lPesGFdiuONsaY1+qhIGP/P6rk\n",
       "QdPNvNv+Qp03jJH7fOIWujh3Y996Qn5ONllQBicwEavQC0ItzdCO8KueidZpc5NnMrdP/lOCQ4pY\n",
       "ONRtPHEM9VbRPsk7or7ni/Rpeuh2xEPwXuRLNFpTnMtOCyr0tS3kofIam+JoSQnBg82MQXbgkMr6\n",
       "CQA4/uS/uZDAoteOXrprAOnf/j6/AuB4/dadHwEcyV/m+HIq/kaLd+A4Zu7/1xsJTV9mRIVgUCHv\n",
       "r8TAkXOnMDfCnyyEC269XAWbRi4VXVJwLr31svBCbY4gr9o5b+TlPw/TCKv7gbm2W2iNqW85I/Ot\n",
       "Nvopy/UOhGV7qa1d1wAR5d0CvR4E9oXxQV5wHzh/7csGIMvqceSBfn8i30eAh++d2AAI/stLCIcl\n",
       "glqv2EwoHyZEWg5dBuzLBS0+AJYPbmG5ILgDerwAHirEh76L4EGae6DvHdD2DeBwsBAdj3T44m9Z\n",
       "AGDRa0tvi0VA6ZxfzRfMk66tVhnsl0nbHYp3mawyeNTVUntDfZ6XsLWNE7EjsXsRU1R1IhRyDbvQ\n",
       "fK1Mrscg4Gd1e3q2lE6oOBfI+jf2J8MQAi1+jtukj3TolGCZoq9Zu9fdJSd9NrzAM8vJyGs6QaH8\n",
       "3MzDRPOjtbGMdpzFdHnGtaGoyPtPzOoipA08GwL2bhbjCcmD9u+csNtTgIl8YZmu+v9nFJ0NrTU/\n",
       "70f8nonM1G/aPGj6/V4Bix8qlDvuFgZitSAwoSVggYBFrzu99BgBpF/zzV/B7gvOMQAYG5DyzJ/f\n",
       "/dXEyTcP/mIq/PfU26Tof1Z/uPPieVyAtZXaK9oP/nnyNO8DxziDMA/oV2er4zEScc6qekJ1fz3G\n",
       "AX3kHOdM203p43iLWIX0TGaxD7vxEziWkK++eg7zp2Ijlp/EEEB5GsaU5tPS9nhxyo9+f8n9C+NA\n",
       "3gBqZ88W4gsaNamV62bSuZwWIGrST/kEv/9O+StJQcDUTVCRCnNMSjECdg2WDwUFeJqggwL4hHKJ\n",
       "VxUfsGjRa05vq2tA6Vd+6pd7o3pV/r1JyJDh4oEU1JTyMhSdNbP7athXDOsqO5nmn72ibWx2t72i\n",
       "gL9MR7sBcq92MAy2CCbSjZqcgfhlYj6xo1gfOaUXLEoBE+SFadyS7vv/gm1JmJ/cfh3QpnIkiOng\n",
       "GsjR/cgDNd7Al3J6XAkQNeVWHncKpFSn2ldATfrYDkb/760c2Aq3QHYJbDxxEWSXQFoVQKTLB6Pb\n",
       "AFcIhF0FD5BmuwWmA4fUPXC8t+WDuHdA+966O+BAhy/5toUCFr0n6G21CCj92m9ploGsMY9a+Lg6\n",
       "ADX72SdrVKVWC3m7UfgU+7jXvo0D07MWTCP/c+pTtiiEsU+02HPKzysghrYTH1whUNVBC8E4jrgi\n",
       "ZJgzsDBU86ntkiStOI1vmCcrlywUVTsE/ajm0K7dGkGZj6bnvNRu7j/1PhK0SRR5tJvRMpApz6em\n",
       "ZX5VXSyjcx2tHqN1YeCVrAFDO2ClqKRoADcA4DLYHdwOBsBkzjuY+1PP0D0QOpIaQ4vAokXvEXpH\n",
       "gAAR0Vf8XQcDgxm9+EyX6iUBWAGKqQAv0qOASvxSvbJcqo8gpFryiMCjWsKI4w9zkecE24FxIJjY\n",
       "Fab4mc5l7Q5ogsh01qkgPld52U2R+5fubf7772jkNQEEIQ1M+lQJbzWT+++1GlMFCMqywMP5mV4/\n",
       "1BnLFuODeQ1icRDUyaYjOf2yYKfQ1rys8rzkAhj2Xcjm/uo6z0heKYDXZrUgAxDGL5tc8LO5O+Dw\n",
       "L/6DhQQWvWfoHXENIP3ST/ryugP4bruii0L5lXY9IftLPHJXBtM2j/3FvmXPQWWm3+O/l24v+uxK\n",
       "SI3OXQPP2XZh4g/ldtoazOChgNR8k9m+4h01TCnrVW2anMgR/nCNB/hgnXGVQC/HUAZEd1Y6bYMe\n",
       "uFczfO5vNNNjH2QYQzDnE/ZJwlhwg6DRPQBuiWT2x6OI84qBcVfB8YChDU4XVBcAEewsqHVgF8Ht\n",
       "kNwDfffAuKVwZjnitAAAIABJREFUPm3wbLsKUt9JkA9CdKJ2wNCBiU4HOvys71ggYNF7it4xi4DS\n",
       "b/zWr+DS1C6jtnspkG/Y7Kf4ZE2t1NJzGWh/Zi1AfoP2msaB2tzuBkJV3yT1iSKfwXICbUkqW2mu\n",
       "Q7md9HNud1a/mDfJeZTSqMGA8tlVdfIn5O9YCqA8QR4V5Si0HzXteR/AbTEp54xyQGBP7sF8MgTp\n",
       "jX1wjR/7y7v8K7qq3IVAxVkeBv8OpQoR7BYE6fcUvvEQocGKEJCZxLwhn5dLYNF7kt5xIEBE9Ju+\n",
       "1VcTTAXtFYJrKnQKfnlFAZrUp6sFNJ9c4ArUQcFb9lliW3kHwCD007iywC+BQzEfVRxGAAiZx4z3\n",
       "7Dr3KY310o6C52r+Qt92/P+hzLwPg0sA0qjqF5Gt2Nj93eFqFoplB77Gz1c/lCsMtDKNvKp0oggQ\n",
       "9upcJvZxXSpaLi/cb2+P58UVBV3I41JAIvE+DGYbSSYULSedj/PEz+Ff+vaFBBa95+gddw0g/cJP\n",
       "iG6C6kX20L9SuaKOQKGH8EfeM1P9jF+um59CNlfvjR/TKj7DkvjsOphQ5QK4VO8qs30uINGsfpm3\n",
       "QDn8n8wM30RvTnP+Ja/KdRD6VUT6F2W93VgeNx0ayyczv7km6vRYxsexseyWNRO+pgXXAIwR3QTF\n",
       "6oCY5uVaPbHof3QRzF0D0S3AXKwaOPiGQdtWuAN0cyFzB6Cb4N7dAbZyQIiOuGKA6fDzvnOBgEXv\n",
       "SXolLAJKv/XvRzeBajdlpHzSTrPlYHAZSK31DlaBPQ2QIr9Bw9f+puvMA4MHL5XZcxWUboI8TzgX\n",
       "xXxecsfksU/nPZWZWRhKXsV8lK4cq+/7CeR5I1EwlNf4R03Z0yBoMPdx6Od+WRr6e6G8XKob26Rc\n",
       "DjR3hA3Ofy7XJNwNNvWhDM7/LmEZ2J/Am7rAQXJvJIG7+MQR7Gl5BEhaX+waGjArwwIBi97b9Lbu\n",
       "LHgNqdaaXxciTWPRF2ilRVu9xGNPY97rg5LWn7XHRZtDmd7hclyzvnL1eo7t7L5XrXNjxXKH5Et1\n",
       "i/YrvjhfA4sJ3zyPQ3p+CHuv7VSm7dAn+z8INJOY6WTGd1J2Z75tEOnBDc9eoJiy1t8OU3hwrXwb\n",
       "Gw8/nLhDpZ9J0Jlz305bf4C9vcsucu9xHC5Cmjj8akqGNDt8qGhu0o2Y1YR82HgIEQVcu3shlVm0\n",
       "6D1Kr5RrAOkXfNjdBNjFSiiEFx6PdajILyV2EtajtjGvt/v+L6gy0+euXJXOk/SizqxP5W66HN+h\n",
       "e/WRR8m/KDPrx964K7dD5p37bNegVY5p8Vl7mpcdjv+Fst63uEYd+SCPzJMIIvJzer/fQNh7m9H0\n",
       "T/17y/mDi8C1Zt1kSPu5pTpu7ic35ROY9IlaxH9yE+RVAuUqguqY4V6WiGg7wOZB6ejhLW0kxIe+\n",
       "guB4H88bsHvpZwt0N8GJzC1w/NLvWlBg0XuaXlkgoPRzP/TlMgUCRETiBwVlkJBHVoGIUvIAwGh1\n",
       "oHBRj0NhZNM1MIqaX0VXC/6qzIVCl0CCAQH9Lwm9XZ47QOQaQZ8F53QestCeCP5LgAHr7wGDwNPm\n",
       "QwbeASQgGAj5Y2xBrjsI/dC2DOU2TrxVeOY2d8FABBghDoAogILs/w8+/xwboGkFAMhxAhoHwIz3\n",
       "LUaAN4gfwCWD6bChBgLuaTveE20SDxzCpYRHjxWgIxGfiI6/aIGARYteOddAprM7QdsXg1wmNX/q\n",
       "/2x5UKSRynDxl2yzkNbvAQllYmquZ60PaQ4G7GyioRUXR5VAv8oSLhfylcHECjFgQTBPz/iiKZ+J\n",
       "Snf00HcZxxnm98IgtO6sjg1xh99YhiFtdAkEzBmAoMRxdSZ4kJHzBfQwcTsMvEIRJkXDXB1upG1w\n",
       "cXanPqgU5T+danjoe8//QlXKPqe9vKsodCRqBtz9/u33IZZmqwE5tdnTFghYtKjRKxUsWNHv+ba+\n",
       "AyEJnUkIr8d16pKC5rzcWYRE2osyrn8X8262j6QANxkC6sp6gkFu0v8lnlQFwXm5McDO+3LVzosD\n",
       "79g/bOfikkxsVyb3RfnqMyyJ3OPxkDKp3G5wY8qjXIaIuu7dZHXuy8AblgEW/aPcjn26vi367b91\n",
       "71u1A2PR96pPWgb47pGk61Z3lI/KM5fHvFhBx5gIwUhoxswu9gn+/osEfHOTkGdDWxBg0SKjV941\n",
       "gPQz3v8r/BWV/5Alpc+GFVW80hw8BCxWbfH8XZJ1Ni7S6npJ/+yVBPNQdQxdq3rjkzLkQv/3xhFu\n",
       "YACzZYL5+QTrC6U2UxlNq/pjZaDO0DbHcvm5zviUZbgLEK77HWSWWgeGNvPywbGvZn4PfDFWAN0E\n",
       "0a8/tB/u1a8PZbU+od/fBW5wCeS4gHB/jrsKVm6BvRiBfu/uAXAXgGvA8g/zg4Y2MP+HXQaP9+QH\n",
       "D4ntKMjHM9FR6PRlyxqwaJHSK+8aQDJti6NqAqedRw0rSGOBLxBPqrXwwNavBwnu9fbEb0gDQWr1\n",
       "knDN0d+S8ojU9QEajvVBsoqVesTxatb5slYxqEn9wL/Iq4BYuK0mD4S2zclk4oUoACiiybQkPgNQ\n",
       "U7Ano4Kch2Bm94z+KD1MTtlFV6o+eHl9hq1TpjHrbxH9YtxXStDsMffVBqEDsQdhimzVQU/pD0uf\n",
       "WbXCpfqJxLQ+HtFo//Hhh5UEFWrr1xG0dttLdxNQ+l4gYNGiSK+8awDpD3z7r+Nsum9mbunbC6Mr\n",
       "AM2mEszH0bUglj/duwD+ncnbEmyPYnvmytB2en+GHQIpfsrtge0jo0sC2+6uBHODhHmS0axfzaGk\n",
       "NmnnU5W/ok7Fo9o+2URDxRfqDYc1SXr++T73p8ijvTJwTxXPnEhEHoLX7yV95+v84y8ouAKgL061\n",
       "vPM6o1vDeFw6ZbC3P3UjXOyFt3fVrr5lmaJXLBSWEVp1cTCwaNGiQO8q1wDST33fL4sK/yX1Vl8E\n",
       "UGO8glx8KaYCAklcpO2Vq2nQkeAmWjmyoln1Y8693zPH9OGlyel+0uui0UsR+6i9Df1K+ZoW18h7\n",
       "mXFcUAcawLJhGWDRl1jOBxYP9hnbiX2WWD63S2RL5KI7I7sSxJB6PmBoszagrcJdEJb1UXRF4G6D\n",
       "2oYfIhTrVm6A6cqBbtI/JLdAdhOEXQU3oY1H18B2kGEJIS4X3I6QdsQdBe/7DoJxKeHpVy5rwKJF\n",
       "md5VrgGkc/9WYTvGS0czZzCBUrwxYS8uAidF+6VAu5AHAha1xcBTM8LryE20AXiI5oEm2QtZEdb2\n",
       "Khji3GNzQmg6Drhj6PXYV0ss1cRcPg25HP+sMHS3KIPmaIZy1Vk2VnZ4IJO+CEUEUpj2BctqegJv\n",
       "AohyWC3R2SqQQLeH/pLUfN/XnlhF/GVfPBkAVgwIrh64sJJgNj15ChkyGsu4OZCWqcCbt602ipA4\n",
       "KwxAr9szGOsLlPP8BQIWLarpXeUaQPrD3/HrOW4h7Cb+HHGvUf67pxJKE7Jn/Ag6BdzUr6bUMUq9\n",
       "meTdNO/3gysgXQ/b9AJf64uOiVLZMF7tN5Yb3Ql5foZ8rFP2reCZx5OfQ+53VSePa9ZGGPskfZZ2\n",
       "oTyV6XhYEI0rCybjaqiki6edZ6ztKoV2KbUlZGlU1A18Qj80kWPeUKmWl9hmbnfah+Q+2Our5uuy\n",
       "v9jLXhNAQGn+L2gdKLho0T69a10DSF/09MskajmVMqHj3H8r1DaBrOnLZU7Bbs5Ba6oqX3pX8eya\n",
       "c8qlurXe5+ZuHupoftV1nl2Bipt5a1rV66A1Jo0/86/6Yd+FQYOh3WFjoHyf2hlM/VBYBVa1akE/\n",
       "YXUAjt+01pZmkfwUVwvk9E2vrc5s46DcPmyK1E35tpPfsFqglccVAtXKAXMNaNltzKtcAvnAIb3e\n",
       "DrBqANLCzoK6WmC79xUDeRMh3UDoeE+3/+ZHFhxYtGhC71rXANK5q0umQchE8+imRLMoDnm+cQuR\n",
       "lgXxn14lDgoKcSgCglNGIZps1YP5u2yLLDgdtwXO6xc6x3ifHfoJ5wjOH0N/oJ19Uo2Nw+3QeWsw\n",
       "jbFCGbkMARiD8kzF8x5x3JTntH0sX9UTaBvKVMOSvXahTta6WyC/bkglpBsKKRTF31ZjwITnELhL\n",
       "ILYff7HwS+6rAzQ9dLlYOWArXWbjI/I+kAMUgu/nIeXIRaq12T8LBCxatE+vBRD4qo/+Rv7Cp//a\n",
       "IKvyunyTgSjhinx9wbbUyhaaXpLBH5ptCrbwz9L0yqKmg53B8YEKmLxjYZcJrSxTqh27an3pQgQn\n",
       "ibEwyG8WhxKcO1W8eqOwECifyAr3i0oOJIYZkGDftX82TzQzdeMYUtqF9JA1qwP9CcABMkNevqad\n",
       "tKKNAE5V8Cffv8D1LFJeuYBop8kMjt0TxbKcnmtVcd6HaUPUxjY+e4ntcPURa+/23/n2BQIWLbpA\n",
       "r4VrAOknPfklQU2YaZBkab0EYw2K75pKYtL8ne1C34MKOeRgE/3VzlC3fLHiy3psOwYUappqXmNP\n",
       "ORaMfDXoMSn5sSd1io210D4xfRwHW1vD2HL/inIDv4pP/9Z9+odxF20Nhw0V9142Rv3nNjfC/uVV\n",
       "AFonmfg139qNqwSGswUonhHgdZxfWBXQyxH5RkOatzG1SP7ezuWVA/suAbtOacEtAK6BtpnQvaVt\n",
       "wyFD6Ba4TxsJnenuP/wHCwQsWnQFvRYWAaToJqBxj38hMPFDxLXZTmXY6x2juZUZU9fGjFVtrG1g\n",
       "gO2FLISt6r10zTdu8hKa7apvVjgVHkgAMzbU3k83KVMHGjNFHy0CxkdAsIEGHluyiYhJ0aSwo/X2\n",
       "uPiJ9i6UAAmk5Ucc+tl5wejxUYdu27wjz9zf4p5Jf2fs400gS8LvLtXnQpeGTjCLPQOBjnOh+eM4\n",
       "04wMszRYjTrP0cIloU5uw6/73w/tT9muhWBPdM/yDH3JxaKLFi0a6V27amBGX/2x38wx+j+eAeBn\n",
       "FuCGQBLyxzxfRXC2PDxTIJ6BIKF8E8SeFzcjqr91RULkJVbfDaRejsg3FKIhEt43DIqrH2yDIxl5\n",
       "xg2W+goITUP+UHdYTSCebqsZoH/1xk2ZZ9WOp2nfKeeRC/OLKxByOyDPh1UIe7zs/IEO/Sb1dDdA\n",
       "TSdKbcJv2sYm2Mb8upqHRhz4GX8bb9g5YV4PGAy8aCQTytXZA0S2SiBL76tiCACcY9KjZQ1YtOhq\n",
       "eu2AABHRn/zYb2Hbga8Q6n6QUN4BcP9jglkIAEECFzIR+FLwUz6CwhfaysI88Iy7FCKYCUJ8ENII\n",
       "ABz02HVYeoj5FUCA8tDXAJAo75S4v+ww9LNnBOE2E+pXAIJBKM+E9DX1UzlLSLz1vuRZpSchq7zH\n",
       "ujUAqKnegdAtWkxR8CfRKul+BigmrcuF/IvUQUIbA9ohYn/i1aJFi66l1y5GINOPf/ILYYR6dWk5\n",
       "X/WywRwGHlUZzJGQhv+jC4GxLlhxsVtWd8hHuz37bRhpfpWHFrv7IfdlaGG8Lt680yWI0E6Zx5za\n",
       "xrLpZc/AD/ox1J/kceq73vOF8jkf2w9lLE+GvKq9jYSICXz+5HYFHtNw+aCKcU1rvv35LoMhroDz\n",
       "7oVeH+MB8o6DZayA+f49VuCgMQApTmDTpYDcvzFGAHcW1HgA3X3wcE+89d0DjzE+YOuHDD3+z791\n",
       "4YFFix5Ar12MQKYzIQwQezmLqhhBUArca5oTyF+4HgVsjhHQsjyU9voh34R8XBhoJQXTMM7B8wdJ\n",
       "q8mM/YqjQPe2ty2mjcU2OxehIhhRayoI8tnBdlImkQgJx4BKxTZhmQTM0YBzKhHQ52vw0Vc80kOq\n",
       "/fex/2kIqQ/O0MZS8LNzi5RfVVa8PYxzCEtJGbR9iB8IBxRxfC42DanvAmnKM5jrI+4sf3chKZn6\n",
       "Mfakorg4EB4MIjDLbXkLBCxa9HB67YHA13zst/GPfvKlJuKCdYDjaX6e62/ZChZEWRG1eg+VSkIW\n",
       "uGdAETmpGI4goi47Axdkwi+/aHE5XnwR11KyCQOOYEAkCAC0KgUAoe0QhfGM0gYuO68ACHCAFSCY\n",
       "TUymWV4FnKo6l8qhECevpwF4Q1eFRlyzAwBaPq7ldz4+hwBFcU+BWZdxrwHqz0+fLzz3JvTHv5BA\n",
       "4bfkwKPa0tjrj79gdVnYQUFWo/ylT8e3aNGi6+i1dw0g/VNPfkEaLMc38EBc3u0dcOQvt/EF5/o9\n",
       "Ow99yw5apAsVFdxVbwbB2plqeq6TdSwz44N6mHcArGq7+X9U61CzjO2BGwI64fOqY43l8hhxPhzs\n",
       "QO84t0tDHoKk0D5T0Takc5E2yyfcKZCCNo1lN+jHaPLXcmr69/y4o6DWl2GnQV36N9yD+4CsjNgS\n",
       "w3j4UDPpH9QNQHH5oJr7g7sAdhgMuw0m94DvLtjN/9t968/hTAdzC9wPuwrmZYPP/stvXphg0aLn\n",
       "oNfeIoD0dR/77/lzn/x80Nc4mX5H9TKvz2/ivVYtYfEfjZsESYAFCgoi90hoqR5hhY3A2op181Iy\n",
       "73k+xIgJtUrnp8v5VPAKpiP/BCZN0yRKSzF1TkCoJ/Oy8eNqv0TnNKqkkF8YDUJ7Ph0+r70PqF2H\n",
       "OU8PI5ctHxLHXg+mda1aWAaChaEoR2Y58ATsiuEzSf1A68SwVFB/G4U235mITuI1dNVGQgIf/7vx\n",
       "bLAEJDEPP9kFAhYtegv0ngICRER/7mO/k3/E059rUhpfgyi6bWtXKNFekREotHQOHBAQZO5eklO5\n",
       "bD3Q/jHKn7JsWFue2mTI59B6AXtAMI7CXidgfLkHwZ7Hi29r4y0UZiJv3KCdITJA4IaHJPBRoDPO\n",
       "BsdpKsQEyu1gkq9x3vVggOD5MdXm/lS+SmOob/inqINtCbgDAjbpIESGdAAXqUuhqZDhCKXxG/lO\n",
       "pbL+diqAMIxLPE0HWYK/RYsWvRV6T7kGkH7I05+tcoPgK7xoTJOWdJ/LSUywyH9jLCmfqMUnjNpt\n",
       "fM9pi5y0Q68Qov9RqqUxcC7f1UumUpG1kmMrFFNKpQ9mqve7WjWhV7NyVXR+6At7ngYs5n5aH6F2\n",
       "MP8XbWjbgVdoq+p3yoP0DdIotdHM6FX9bpa3NNgZUPM58ae4ciC4E5JLYOvl1Q1A5Hz3VgccII0J\n",
       "XAXhoKHCJQDfuMqAWejQdw80d4IeOgS7CjK4EfjguwduxzO98V9/0xR3LFq06DK95ywCSl//0f+B\n",
       "P+fpzxI/xScLQwx6a+8ZsxikF3rUyFWT7nXMFi0DX3MjgIQIyqgFVmUHgAR+2GrL9j6ioM8rGriX\n",
       "y3IcA844XI/WApJx3mCmujaLUGOEHcHikDV+uFRhN9o+qO2eSNpWpOAOyJBnpv2n3lYR9SNvKAJW\n",
       "AIG0IXhT/8vtd637TEKbzWEcv/4qg2uhX+fnrePQsZRGGIpPp9Ly7Zcn6laLLi9td6ato3tk13Iw\n",
       "UGidFIEtELBo0Vun9ywQICL6yx/9vfzZT3+mjCotmsWjXzdrzpbfpUGL6E4RAZhPbbtfFPHVfgIo\n",
       "7Fo7GK8Q+2O9ZTWzZ8Gt7XTLgGDdkWxcvZQUadiLHHMQe05E0ntvgrgSP2SgQsuZUJkBAhCQxu0S\n",
       "IECphuBsfLBBuAeBDcIWh8FMMcZAAeZsojFdhTkIac0PghZN/wkA+DTiygHtFwrg1imvq4DUVxvk\n",
       "ZYLwiMpYBylWMwzYJqeF0xE7z2KeRBhWk/QxL/G/aNELo/esayDTD376020m2L45pYy6b7zCu6qO\n",
       "p8/i+aPSCmVVACU+eskS+SJwwBx3DejLv+5d7JO7CcZ+18SpvXldNdWP5Wx+OT4TTPc6wJM5bJmJ\n",
       "KyO4FxrqWH7vd+YNdfYOJlLTfS6/AU8a0mXg7de4WqC7AUJ6sZog8c0rCQbTv40/5pvZX90DfI7u\n",
       "hf458HlwD4QDiJJ7YNxYKB44ZBsKHe7jZkN9lYB+f/A3/LUFBxYtegH0nrYIIH3jR/8g/+PPfqor\n",
       "fuIm+agBNxWLxTVWXEUQQ+wqEBCtAFUAnwv21paVZbI94Y13F17SrQHjZkZ5UyLv9RiZPyipg+jO\n",
       "YZC1ZV37lywrwarhJTQoU5cBDvsNhEb2LQX+7LBTagLhMHUDitkZvGn32B+CZwLAQVJ5axI0+NCz\n",
       "sItQapcYNH8J2yhoN3DFh84Q9iHzlBQ46G3VZLzaD7P8zailIB4ylX7/2WpwaUWB2A9+oAUCFi16\n",
       "cbSAANCZ+vGnRG1DG0liz17s4tHgQX/VjXaYsqUlAArbyIiCyENoIOGF6hBCBca4BNDBAFJcnwCw\n",
       "AzbsyS3hDoyU6rpQY5A9cZ7yErAIR8YXu1vq54AABXx2HeASRxz1iMNQ0LJZWAJoyGAg8E3sQt87\n",
       "SzSjS9POh5UFQ2W/Dk0JYJcCbDRg0ecptSsJhDjgSCtGdpb4eT3nF0CAjSWCZQQY7bnVAOIaST6C\n",
       "UWx40aJFL4IWEAD66x/5w0xE9P2ffXGTDZX2BoLZNrIRLKxva8FK5CsJen0TAP52d7M91IFvJYzn\n",
       "z+kYeGhac39Pj2sHuCt5FX8fDcM/7fO4d4Gk8pqmEGa0COCMaXnW+dTrBHyYCNwgPQ+mvD2XCDis\n",
       "rmrWQtYXrKuPEV3Vdg/yUvsb8mgst3E7CImZesAfzJY4H3UlkBCdof0N08h5nHtbBjLItw02cNC3\n",
       "a1bxK71BW5JII9nTAsE93QZYuIMDcSQVgjD6U8sxACHGIcUaFO0wXvSyH/pNf/UaDLFo0aIraQGB\n",
       "gv6fj3wlf79nXzQxSvo7yHTtoI4m1c/ej54fxFRlHeh2X+kvTk5CLQQOAjMVtyHML+AP1Z45WgS6\n",
       "FIzhgfE+gAETQDUcQW09WhXyLKW5Kupqf9HkvO86aPdncgEWymcVM1sF0ooLwTY4THcXumQas6Yp\n",
       "oJBcp1JvsS70Lzh5xLNw7qT/RrCfGkSJgYAM2njU6AFAEI3bF9fqeMpqPY2WAPxRXg4ifAh9wn/7\n",
       "DQsELFr0gmkBgQl900f+KH/fZz+lxAJu6ObwQkQKoo21VvseXuiMPNgEOJGDArK6uOoAG9Eq0Qmg\n",
       "fVERq3UZSiqPFnEfpeSYQj7qIJxGoV4fOhREVpiTODM1IEDXQdA8cT5MC8Z5Dh1JMzNMFHRDwRRX\n",
       "NbwoCGvuGZVZPz44r4OMS+DQwWQW9HmecQiu4WPffG69731s2W0AXQ6fyQ6JhJaE1AfMpz0ePS9N\n",
       "0aJFi14iLSCwQ3/rI1/Fn/7sJw9vK7HXKWr39esqak7Ur7JQwQ2HMU8lvKl3xmFoj3t/TGBWAtyt\n",
       "CW6sT2CAPM7AdXkitAi4yXc25mjFGEtmcYPgYR8QtOJxXnypHKPUSe2Ra/uTI/MYbgsjQ8lyT2vW\n",
       "JvExFjhgbCtPDVgVsmYfrA7QRnMLiVkbEJwEHuk0wiigx100UNjXoyjSFAAky4DNkT5x2QMIQp/4\n",
       "2/7PhQkWLXoJtIDABfrbH/lj9vL5tGdf0JV1DlpioPBWBwHTr+J1FAOj7z945kFjHMvZlZr8xc34\n",
       "oXWh7kNXlwSHXmKdmB/BQFZfMfqgimkA7uWdtxGvPU2gptBG3NeWQ/9U3sC91+/tNOnn8QSk0KYL\n",
       "xu6qUdM+8txgWJbXeVocgOZT8/2fc5/ixLQYgjRWjQ3QBNwASMR5EvRJoM9EzTVC7HEFQg6yVKsn\n",
       "Ijr3pYVEUQgLAASLQ6BmNZAeKCpB++8uguBucCCH8zJgp8Z4AJA+YUKf/Du+foGARYteEi0g8AD6\n",
       "Ox/5av7Up58vqnmHo3I7CVxo4F5U8FwIjobxLETZ6mDqaPqPorx9cTCxspYzANMD5cT1fBUTIf4A\n",
       "NXJV8Ii6dhfBgJaOgt7rcHEdxyppvKOlAC0bUTcmqB/7a3l11Ju1oW16NeeBQrYaSKUToxWhsgbk\n",
       "IQRhHlZ1gMZObEPJywSHlQWixg8264CWj5aCgPymM9t4AgqRNGorzAEkDLM+cRFYuSXyFy16W2kB\n",
       "gQfSt3z0T/GnPP0JTY8T9+/7Sx+kRTqcpaWOuq8KOdR9c9kogxxEZBHkYX1Z8PmrPbgHulTQVzEb\n",
       "jxGA+A2K5Z5lZnoEDKP3HqkGB/uAQEufiWkLIqt91TsYjuVqUEAuZIWC+0Oj7hUcmGAPwtvZqCDO\n",
       "zz/kp66h2b6apLw00QMV4VmEpXoYyOfxBcIGKULfUHDnfqgVgYMVIIxkmEebr9S3iqrHoT38lN/1\n",
       "Fxc0WLToJdICAs9Bf/ejf4Y/6emPlax1Rl1S39iVMOXuh2d/V9JoUncuUbOPZbmoEfOrq8CJIV+w\n",
       "BVcbufc5tzv2jwMoyDseIt98NZbMuyP690YRQCFkYincDV0GWd9EVzGw7dQX3QcE7gOoT76HhAYt\n",
       "6hLBanmhLfkT7zP2ieC+Cdtm+t/EVz4wwfJD1f6xLBGdhe3wIKK2XLDl+TUJ0cZMZ2muFWEZBL6C\n",
       "KVw+KLCKpbJ6ZLeApcEKjIoUWPjqjl7cGhEwwyxatOhl0QICz0nf+tGv4U98+mNg1Vh8YaEIC/rs\n",
       "sOGPCpCswXtdAxygYUWLgF+NK/Y9P+6UyJDmdX05Y09l7Yf0+APgYZaEeoOjNtyui0re2GiUEJUZ\n",
       "2eVf9B+fqa+/t/HEWYjpTGh3N04qdYJpfNKDnSymJK8cPwWtPyzrS+wklQ8/k7TML1sP7BtN7jbb\n",
       "ce4cNknJ22bMLkaBviuaJ1q/WREkApCwzFGY8t/Hp/2eP78DJRYtWvQiaAGBt0B/76P/G3/C08+T\n",
       "YHImIlMn9Zo828UuU5YswafPXleDtTwuIQk54I66bdaVo4h28Z/7pn5lt1pEsWWG5+ArjqMciHvr\n",
       "Evk4JEBwMs7aqP9L05hDbgYBeW5S34IKqpIVniVjfUgDNuhvh6G24lhOuajVoMAWw74DvTxj19jL\n",
       "KhiIwIHbjpjcAYCeMNnLzICWd00RyyzfryWkZUCWG6oBgo7FMXAEPIsWLXr5tIDAW6S//9GvZSKi\n",
       "Dz75ETE0z96l+OpVs3nPgTfzoCGLi2As4cIZyqMwCwKcSIPOCmM59A65OX9bgUD4zYkXmaUgjj2a\n",
       "+3NZy5FbodTDAAAbhklEQVRccuYmgDkIvQgQhtAekkdrJn+KbgBmqANCyd0HZHOhaTqmc1+BYH1g\n",
       "WAnA0TWAGrCuMNAVAHu7C6qwt7IgpM/iOxha9H8vJ/3alxX6JkSqnTOY+6UH/ynw0MDEEB9IIwV3\n",
       "AOHKAd3hUMcwggHp8x9hRfv+9N/3dQWiXLRo0YumBQReEH3bx/48f/DJD1N9D3LStSSB3LXMcWV2\n",
       "ezlGjQu12olmK8kiIGz8eeBBcJ/bQdGKa/k1UDEKebdPdA2UGGIKVNeMrgFuUtksBW4bGJ0YUXvm\n",
       "0OJ4XY1JtX7ID/szQFpl1ChPFvJv38tA72FeCrUadyLUn4G3pTxcPI6uF+2I23SsS6j9m+UALQXZ\n",
       "otD5hHX+3Z2Tfmb4PWR4lyi4HMq9B+ZMPuN//NoFABYtehtpAYEXSN/2sb/IH3j8Q6V+M1IXPPjJ\n",
       "UoFC2bj9StewQJwG7tYkCvB23zQ/KvVk5eTCBoFGAhxNR4W+ODiIwKJ3iDPwiRI2xAsUgKCmKPjj\n",
       "TGTYEJ+Dg6GcX6SF9XWJJs0ghqgAwCBUVeB3oYzlM/jJ5QN4APyS4xBm4EAZx+2Ifdjx9zBiI4HP\n",
       "MG8h5iA/h4qkuFq0aNHbRQsIvGD6h9/5l5iI6I3Hn23x8ka2yU/XqAfNE/SxIEA1VzVxHmroNsZW\n",
       "N5j1mXz1AmjyHFOMYzfXMm0g3rXtcwIT1MtlwNBbDm0wmNEnzgBm2oBfXnWgeSqkcEYaiJBg6u+z\n",
       "Q5XbQHdhNBtHl2FqqvYyOhaoG/IZ6sIKAY6HDZ1B6OKKBBXutpEQu8lfaHQ1CMeNiJproK0aUOF8\n",
       "plhWDyjSjYYUeWxgjYpWjGg9yOACSWyG3eWgGw8RuCHwGsvg5wf+wa/ZQ4GLFi16CbSAwEuib//O\n",
       "/4vfuPss1RX7V391o5AfVKCel1ACGugzQDBtEQW0qKAXEIEUvlVFjDH/2q+NiM4mAaJrAYEAE1nY\n",
       "XuIRxG+7Q/UT9wlAa8W5gw21FOA8nelMm3nDsb872j2kq0UFOcQ+Ky9OyckMgM3BTT5zoLIMECXr\n",
       "gGr0UKnaVVotB6aFCzUfP1oEiMitRrEfA+7U9HJDoTx/8e5qzR2tD0TRYpCsB5/5v/yZBQIWLXoH\n",
       "aAGBl0jf/l1/hd9394MlmpsZpED13uuC016SIBEYBJGSEJxsmIVVAiDQpgleBRDGIgp3dSt43biZ\n",
       "EQ9prv1HmtjJEyCgJKJNdMNOhmcBoGB8N+cNQp/CnUOSs1kTqNs9ojnbVkpU0nMAGDokXNYpUJfD\n",
       "kAMHbabAGfnMAdu8Sq07gEeEKIAQY9c1b7bfSTVO51EOF4BcBgMSUoG/bbYwn7lFixa9GrSAwEum\n",
       "7/iub7RX4bNHnykaREdMJMMrl+HVnK0BZEKaQ77iDDahY+Z0s0C4cB40/3w2AfTDvtGtEFYIeNlp\n",
       "XaJ0n5wCg+ugnyNguwRw+N5og5UHBKsOBPrnvaLUq3bt9oetzyETm3LKbVoMKKi7YFPQEvKaeZ3I\n",
       "TfCDXOwNl64B7psHqdzs92reN7DCbtpXEICrDdwaoD8J3Suh9flMRAeKpnsiGuICgmkfrrnPkkhs\n",
       "S61UQr5kUV0E+BsRQzISXANKP+iP/KllDVi06B2iBQTeRvrId/81fvroB4qrcundF4IJpQtwBAzo\n",
       "0QZdELVOAu3c3AMEfAnusQxq0K4rk73oyUABgg7Pz3XxoyRDuhvreyvMzfgv58BfSd0GW7YcsPfS\n",
       "eYeRAiefP9VqYwmVjj63oYYBrV5LfEqk2jUoafZY15JS05XFAOMXa9YMWyOPZQwksFsDrgvmqywO\n",
       "bEDAgCuc+2xPQQ0j5cqYRp/1lV+9QMCiRe8gLSDwNtNHv/uv89PbHyAuSIHMLA/iKpRLQMHq9bzg\n",
       "OkCBNgpUBAgCGr8LeaIeWpba7Pp0EpR1H2egYAQEsX9nOvNmgqqtiY+RDC1WoAIZyD1DgUytBd2l\n",
       "cGYWJ0oCXufBKkif6gQA8Bqr0yjo9Rqj/zE9bx40gIDA35f+SRfQrvVD/AC0p12prAEhfwAAaTxE\n",
       "RKGe/g71kmm2sdCiRYveGVpA4B2gj37P3+Ant9+vv9dBvIFFADU4Fc4Q3+7aV8+mLpz95cuWHoV0\n",
       "p0n8gMUnoKDGw3e6Pm72g2K7uihQs9DfAwRC7uuHAMS0Xk5Luum82r4YrRQDvILeOXgoR9E1bBWo\n",
       "2CexfEo8JDw3MqFMXr8CC3op47QKFIvXsIQSAAMDL+M9WAPITP3YtVYYAMFk7iilVW6BAVyl7YwX\n",
       "JFi06J2nBQTeIfrY93wTExE9uvl030VAqPvMfRd96ldV7ICRsAkFBREE5dFdYLADwIOVZc3H5YDq\n",
       "OwcfP7uQVjAwxAPoEkmsl/pXxxKcYfkg5m19aSHTveZKjwkQ5JjbxTsOORYTAMIzLC+0mfF75deW\n",
       "5rU8P3Qo1e0YauMOWsR54FJBffbELY6AWA8Scj4bUTiQSCheC/v5C+HgolAGl/j13wgKZmE6GwoR\n",
       "2ibWARTgwUogYgGJWseRyBgRQ0T0T/7RP14lL1q06G2kBQTeYfru7/3b/Ojm+8DbOEkI1eqDiT8T\n",
       "ezkQV41N1sJR9Ux5ZiU4x7TAu/eF0W/uPHw1Qk8bNlHCvlQWgWTVsI8fPEzkkQUbbZHd1dQqNeEp\n",
       "IS0y0tP6qJ/zkALnWBJsG6W75GQC40LhGgj5+uXy2bV+uM5LCI01liEvixYHFOqD6T4tLUQKYEDa\n",
       "/JgbAvcNCJWc/w/5qj+2QMCiRa8ALSDwCtB3f+838+3pU7v8G4U5h10GOcsUcuGMC8K6Niy4JXDU\n",
       "AFm6CLSleeqTj+21QpvhjSYwei+mr3I1rXcdewoIMhjIewV4/tlG0esxx6WETHFurgQGDWLkCgi6\n",
       "etvigp1ZbGulcT6SMR0kswfyISqgMJUC6aVwpyTMQdjbtbCdI6D15qb4DuLAhZGj+r2v0G+NAxBP\n",
       "9t+e5nEYM246tGjRoleDFhB4Reh7Pv4t9ma8OX0yGOPzVsOqdSOpFk62HI9MSKn23vnAC5j5bNq7\n",
       "AB8T3F0ONE343IMKO6hg0HRNOJPleVofRdghcOY60BIbCW4qZFcqsoPDgDi5EuwfLE20fzKWsTFT\n",
       "E2HoGNkowhQNKrw3d0C739Ra0PddYGqm9TNJL9d6buGXLLDrIA/CXDuAWr3uWHimcadAdd9sfYMh\n",
       "3FFQbSktHgB29OtxDnFnwSj8oyUhuQf6M/X9DdqkCFgF8EAiO9VQmH74H/+jCwksWvSK0AICryB9\n",
       "78f/X745fpKoDzpqYe2/+LoGKwIIXFtxAGZ6FNi+a12THEzq48U29QWeNPkQbIh6eGxPy8dzDqQs\n",
       "4zzOKQ3F8NnG36DBRlvfHoitzCVSFbz1a0vt4+kLEuq0/9UygeOOundKA81eqTpfIGjsWjWVM3M8\n",
       "auEdfKDZf+gNtpPdBSbQZeCRQUA1k1onHJ6F5cFNQML0uV/9lQsELFr0CtECAq8ofe+b38qn4yeK\n",
       "BluZCO2aXyQUogxaZrcJsC7526LAgg2HEEg0EMFWjgNoSE2XLgIEMDNAgGW2JK1QoGMaUdtuCKQa\n",
       "950FlI+BiMuAQLmEjXuoxQQwcd/rP7oLHA5gKi4lbHNiFhNrK0ry4KNHFwAOLQn/bIIXiteM9+A6\n",
       "UP+9kFsLpqsFLAF6D359SR8ktGZITi+uFy1a9GrQAgKvMH38zb/HRESn44dgsSCnb+qao1sCHDh0\n",
       "E74J9xQECOVC3X5qoKY2nNB5KC+TVl2soyVC2yWvo3kIMtDfz9CetZB3HSTdI8+tC3ZEkR0UhA6V\n",
       "XgbdAcy0oYsj/dMNhx1S+GhbC+KOCDDV646AGu3nYEL6feOzmSCH1QYkbvZnNpeBUHW4kB9opIJX\n",
       "3QD6KHW1gD7DFsMnpVvA7SvAA35hVofAMkAAQpKVQPR5ww6Cds1MP+pP/pFlDVi06BWjBQTeBfTx\n",
       "N/8BExEdDx8QjAEwAtuxb+Xa01ArD/sDgMoYwAVq8p6mvnA3cXdBK2JAoeaBbWp/ew9YKGrxOo6e\n",
       "ZksbHRTErX+aPq97DbItoCPgSd4H5cebuaszqQUAOUVdG3fIQwuBxkwIzAWePRD1bDw6ArV8WL3n\n",
       "3hkABlnr749gCPIL5WgcaxDmAtMUyiTLANQN3+BKyGXC9TIHLFr0StICAu8ievP+H/Lx8H5R7beR\n",
       "6qmuEROJ7RYo3I/UMfmEwknf3i74nbN4HgpzWzqYtozFmIJcntxCQJTzzsTcXBbuNlCfP7gBhKgt\n",
       "a/QxR/O/im6vOzgHejUN4BtI+ooF3gLHsZhXPncLgc6s69Ga5rV0A6I2XfAcVJAnUIASvD+6csOg\n",
       "2XJCjyGIglpgMoazBsBakCV3PMBIEztqAeghkK7XwkI/5k//4WUNWLToFaQFBN5l9Ob9Pwov0+Ph\n",
       "faDbpk2HmInERVUAAFBeI/hxVQDB/25ob+bduLyQrBSRG+dtB0J1AwiRxuObsV0PD5JzbI11ZUBy\n",
       "A8hGG2saxgowaewAuhvOME79t/HWN/Yp/tnYZNjUqPWzw58OmDaCmYQDiTbTsLlvMtRjD+AExTZZ\n",
       "fUUBMUT4w0ZAbUINByEAUC0+C/t2zRYHcCbpsQ4OEAndFQBI1E1gZXtb587YVyRwByW+IkAE9gyA\n",
       "jYsUBPz4P/M/LxCwaNErSgsIvMvpzfvv4MPhWRdtQVfsy7maydy1tPatwrIt92q82vsdLQ3921wN\n",
       "ruFTEPBq5ofytHUVVRxAdP1ZSYXn6D6wBW+Q3iwF6gYYjfeRd3ANQLrYAr5JMKFZDdp6hGhkx3mJ\n",
       "ZxRYxS4oszle0pXuxqcFs4av2r9xRq0+uxNovB46ADyIKAQi2shUyMOvQPcjyPVRyMdgwsnKgUWL\n",
       "Fr2ytIDAa0D39x/hw+Gp6Mu5mb1VcJ/DCgBbJqhSQjhYBJzAqhAAQBegQvjKNwnRcYaBDzaB10z5\n",
       "zOfkIhDjbe4D6YI+HaKkwXwCboDRPaB86/S+RyAJeWRBXKGAoEGiUIswhtTcryNyF4Fq7eaPgXH0\n",
       "O9uOtwMi0LLVvlLHALQ0O/KYXEAz+XQKpU9wIcy2C04gINWv3SmFK6GZmYzT5//ZP7isAYsWvcK0\n",
       "gMBrQvf3H7WX7WF73JVUFeIqvixG3+7jh/oqA83mLgBREOt+emjkdvN9Uw7dVG9+/y6lhtUFBKsI\n",
       "RMGAb3TUyjYz/dlM7Vpm65siucuBjC+sGuiavUEgRhdCdynYygIhZt9SSERsVQIL26mIGoPgjgpx\n",
       "uNFN+03oCm39jASUpufGnDb2XQt1E6eNhM7c+XZeRO4y0NUKbop3YW1nC/S01g55DAKBxcF+A2oS\n",
       "AlCgqwNggyItb7sDYh/sd9VXJ/RozLWD4KJFrz4tIPAa0v35O3nb7qSZ5TfyswPiHnKmJZtVAF/c\n",
       "/WVOYDEIlgEEE6DtomqKJv4eGIiBhnZ2ALgPSKo9BXr/BceiKwtaGi4cVNeBnwLg4AUDCnUrog2H\n",
       "QWQXYt86VB8rK6hhstH0WSM0+bd5dJO6oizdZyBYDbplQOvjJkTTjYVSvhbRT3YBCEHX4B4pbCgk\n",
       "RGjVwLJl3ZDH9JP+99+/kMCiRa84LSDwmtL5/F1MRLRtd8Lm4yeTJhrYpmLBNPW8DJBUdkkABBYw\n",
       "GM436Py6e0LMxO8WgLCEkT0YUIWW8LmbrtV2oRYJXFKogCAuM/SNiTA+AMcS3QkaLxBjC8jKiH3D\n",
       "2PTKrBW4CsNdBVufa5fx0bYuuOkQ5PnqCRXCUZgjRkKhnk342R2AlO/H9P4bid4MUj+FA4qeyRLq\n",
       "6t0Xfu3vWyBg0aJ3AS0g8JrT+fxdvG2PxDcQMrt/F2YZELhoyQcFjUsQ3XyvwWIhJkC1d1Vlw77+\n",
       "TCJ9NYMtPwOBLQ4wmmCLewRwj4x3Ad/Sfe+B5jbQsbpEa2CAtQwJSYohUJggnacDBRyjL9jUPE0n\n",
       "AANuDeAk8KNmHsi0ey/hQCkaL1D4I1/lkS0GCBygOb/WcsYzugLK7hq47MREX/R1v3eBgEWL3iW0\n",
       "gMB7gM7n77aX8sa35hAugwThPAIB7X0s6+lhfbylN6GMS/B6q2TLCFlPO2w5cfth6isNqAMGtGT0\n",
       "cl2r1o2E4nK/c2hTlxviEkPdI88OLWIV5Rtt0r970BvLFo874shps5oYQeGi044q7q6BszrtOxDb\n",
       "bP5o2FBIuejSQk3XXQexKdt9sLPXKP4GAmCZH9takqHt8qyBXsDTYYlgv/9pf+F3LuG/aNG7kBYQ\n",
       "eI/RWb6nuQz4tiv/rnVyF+hi2ruSgPUAteucPpanLmDdsQ1mfd0/gLX1ZiUwl4EuL6QztdUKZyhD\n",
       "ZDEC1K+DBSOb+4NIszrRHO68pLcnyp/FlhSeJR+TrO6DYG8hXSJo+/rjXKd4AAutIBfEDHmEJv9c\n",
       "B10Fep2ARDV6Svetvq8oyIRCH2v+zL/0OxYAWLToXUwLCLxH6SzfwxvfCEoZNWs7ICCLAVDKAYQ9\n",
       "NVgKfOfDHGCoJUKMPbgXiMYd/ntQoXTwEMokPmZRUCGufDHGPi4xjEZvjB/IjgFJ6br8cINUdRDE\n",
       "0t4CQitX5BnSdNaa9k4GHpplhNyoAII/7y8QIRnw7n4W6WDP+mCBohLcCegWcH7uAPm5f/m/WwBg\n",
       "0aLXgBYQeA/TWb43vMiZb8xt4BsGwW6FE7dBq+tAILsPegHStfjq++ZQl4nFDesC+XrWQDPRMxyk\n",
       "5C4BPFwpLwFsElCMz+gaUPG9wXV3GbCQiG4t1IQ+82bLDYnQ3UGEQEZtGL0TbUfDsPGSGkPUzUEm\n",
       "yVncKrPJuJwQ4w/aDoLuDtBDkAz6CBxUNJj3Fdx5PlmerzJp7gWmf/UbfssS/osWvWa0gMAiI5Hv\n",
       "ZeYTKKIeFNhM0L4ToIpoFfYqTKK1APMJghJ1M1sV1Bo06EsDW20FDOceJ9A3RxIm3djIt/NhqCvU\n",
       "NlJC90BvN2yMhK6BePhRTpeg+TsA0Rh/DB50a4CPwmwN4jNnpnvYXEisXq+pQZFgBVDrAPrxMU2L\n",
       "Z78+pTpoUWj9qDYaamP7Jd+4AMCiRa8rLSCwKJDIx7uSepIW7EddALmJeg4IlAe6DxAM9J0FxU8Q\n",
       "1A2EWiPd9G+xA9l43i0UvBELAIC+/4CvaOgiTPryQM4nHCo/dA2gER3TW3xCgwJnOvegwQaSBMbr\n",
       "7gDfepghHR0IuUUOrZ/7RkOKyGyPggwGKFoFQgwB8FP8JXAGQHPZiDMi5+0xAK38l/3V37RAwKJF\n",
       "rzEtILCoJAUESswnIRS8RK5dtxL+3c3Y0UWAxwfncwAKCwLn1QTdiqAggFUjb+CAzIRPRN2Mja4B\n",
       "dQnoYUhtJz90DbhGH10GvtrArA2wq2DblOhsvH1lgXIj+IY+kRCJHzRE3Xx/5u6AEGnX4taErNkT\n",
       "gAD5/9u7e125ihiA4/bcJHyIhoaap6SioKdACERFAw0VDeIZ0vEGIISEkJCQIkEQDTmmGHvsObso\n",
       "EG7Ih/+/KMnV7tm9e28zPrbHo6UEUP7OSYR6NRNwnOMs/wnf+e5jFn6gEQIB/COZKbhnscf/IlMw\n",
       "r5zpbBHZGw19IbdaOohRwbGnP0sGecJh9AfEGQfzDj0yAurBgdhRsgtjW+ByxI2UzxIb/sqdf/ms\n",
       "+/V5PkFkC+J153fOaYT5XfO7+e9nPb9nC+IuPXcT2AqIrpUB6gJuV/6PEs8KFmQPHPI95hu9+/1H\n",
       "BABAQwQC+FfMGwyvBwQiq3lwBQTmxwrX9/AVSGeD4Kxre6rfU/zZ0x63wTGe2HcQlPeMDIGsnQW1\n",
       "DBDXlAmB6sGBmefbz4cXxfevQYJI9gnUQKCOPK6nFl52259T9iaW2flyYuHVun+kAkRXTf/cC3Ae\n",
       "KnR1suBpe+B7P7D4A90RCOCJ2MWOg7u+tsRdevnayqIe18QugjU5J/4ea4b/er2UMoBkRmA9F2WE\n",
       "6BFYOwu8oVBPOxVM5fDH1Gr6P/oeYjhQHUA0l/ZRfmotQ4eiMDBslgrmJ4lRRXlYcZ0+kCFGLPQi\n",
       "ojp3CfjX0ZNR5/2rlxRii+Ghe3Hl3DsQJQIRkfd//JCFH8CGQAC3ovYU1EZDk7KGlXz9uktdKf2Y\n",
       "CxAdcWU/fh1VHHf+ZddAzg2Yj2TzoC+zNuYZBhLlhuGLa12O6xJ9+oyl8l7/TDMHMN+1NBBuZYFs\n",
       "0MvnaweBrNeYN/XN3+n+u8twJj/qtWFDWxDgj3/wEwEAgOsIBHDralAw9J7t0wdzoY/F3CxOIjwu\n",
       "hxGdrl0nGlpMEsxFPcoL0e4nZSrglh/XrNBbCSTye0VfwX7frpGxkNKLMH8C/9c8w5GBgG7vVLcG\n",
       "1n6CeJfsG9ByTQYA5lv8cpGX7ROUF4vIJz+z+AN4PAIBPFXnoUUiImO8Oivj25G8MT64lAli0JAM\n",
       "Waf1mV+rYy70cVdfmwejNS/y7RY7DjxNbzZLA9Hj4IutqvjzYy33qzRQSwLiaX8tZQWfhXCsn8dk\n",
       "RGmiZiHqm+R/24CgwzMbuk4ZylV/qMlRIoA4QvmzX1j0ATwZAgH87+IQpAgIbJ00OLYFd93mau44\n",
       "EL9mZgSkBANJPUOwhhzFoutt9Pud/jkbEFX7sV0T9/Um+fzhcwPHxQ4E//jlM2ROIH+0PTsg26vr\n",
       "MKEtMxCxjYp88YDFH8B/RyCAZ2Y7FXG8ZroaBSMT4JX3rVZ+eDNglgTMyi6B2jq/+uvi8Rjz4xmE\n",
       "q4OG9nMJrOwBuCwX7LsITjME12N17FKIq3Nqga36vmgNEmo5wOTLX9njD+B2EQjguXAcf2wL3M3N\n",
       "G74mnucPZF3efEGvZYQ8dUf9OZnd9/547p3PwUQZNdQmwsgEHCUEqH3+mTHYnxepLYLbn5K5uGwe\n",
       "LHMFTNa1ZipfP2TxB/D0EAjgufTo0cO/Xfzu3Lxpedc+A4DsD4h/c35BZBBmT0De6es2mKj2G8Rk\n",
       "QvMZgvkqre8vMUtQVslhHgw0MkzIXX/zsr0rQERE7v/+KQs9gGeGQAAvnD8fPbhYOO/eecsyKyDZ\n",
       "di/iZYS55XBmEWT2ApiUuQFS+g0OUf96lQSspP01MwPZbJgV/poFWLkCNfnm4ecs+ACeO2q1kxl4\n",
       "Sb3+ytumPnxo9R/okBj5M7MHYx1fPB8fMvQmrynXruflxpsF85pvf/uKBR/AC4NAAACAxsbjLwEA\n",
       "AC8rAgEAABojEAAAoDECAQAAGiMQAACgMQIBAAAaIxAAAKAxAgEAABojEAAAoDECAQAAGiMQAACg\n",
       "MQIBAAAaIxAAAKAxAgEAABojEAAAoDECAQAAGiMQAACgMQIBAAAaIxAAAKAxAgEAABojEAAAoDEC\n",
       "AQAAGiMQAACgMQIBAAAaIxAAAKAxAgEAABojEAAAoDECAQAAGiMQAACgMQIBAAAaIxAAAKAxAgEA\n",
       "ABojEAAAoDECAQAAGiMQAACgMQIBAAAaIxAAAKAxAgEAABojEAAAoDECAQAAGvsLLuDjHqaheMoA\n",
       "AAAASUVORK5CYII=\n",
       "\" transform=\"translate(21, 3)\"/>\n",
       "</g>\n",
       "<defs>\n",
       "  <clipPath id=\"clip03\">\n",
       "    <rect x=\"560\" y=\"3\" width=\"19\" height=\"382\"/>\n",
       "  </clipPath>\n",
       "</defs>\n",
       "</svg>\n"
      ]
     },
     "execution_count": 183,
     "metadata": {},
     "output_type": "execute_result"
    }
   ],
   "source": [
    "surface(x, y, bat)"
   ]
  },
  {
   "cell_type": "markdown",
   "metadata": {},
   "source": [
    "## Exercícios\n",
    "\n",
    "- Faça um gráfico de $f(x) = x^2 - 5x + 6$.\n",
    "- Faça um gráfico de $f(x) = 2*sin(x)*cos(x)$.\n",
    "- Faça um gráfico da função $f(x) = 1/x^2$, limitando a visão ao conjunto $[-2,2]\\times[-2,2]$.\n",
    "- Faça uma animação de pontos aparecendo na tela, um de cada vez.\n",
    "- Faça uma função que recebe $n$ e desenho um circunferência de raio 1, e dois polígonos regulares de $n$ lados.\n",
    "Um que circunscreve e outro que inscreve a circunferência. "
   ]
  }
 ],
 "metadata": {
  "kernelspec": {
   "display_name": "Julia 0.5.0",
   "language": "julia",
   "name": "julia-0.5"
  },
  "language_info": {
   "file_extension": ".jl",
   "mimetype": "application/julia",
   "name": "julia",
   "version": "0.5.0"
  }
 },
 "nbformat": 4,
 "nbformat_minor": 0
}
