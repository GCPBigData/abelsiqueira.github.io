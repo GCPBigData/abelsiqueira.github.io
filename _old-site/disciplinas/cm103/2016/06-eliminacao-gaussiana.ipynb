{
 "cells": [
  {
   "cell_type": "markdown",
   "metadata": {},
   "source": [
    "# Sistemas Lineares\n",
    "\n",
    "## Eliminação Gaussiana"
   ]
  },
  {
   "cell_type": "code",
   "execution_count": 8,
   "metadata": {
    "collapsed": false
   },
   "outputs": [
    {
     "data": {
      "text/plain": [
       "3x3 Array{Float64,2}:\n",
       "  3.0  1.0  2.0\n",
       " -1.0  2.0  1.0\n",
       "  1.0  1.0  4.0"
      ]
     },
     "execution_count": 8,
     "metadata": {},
     "output_type": "execute_result"
    }
   ],
   "source": [
    "A = [3.0 1 2; -1 2 1; 1 1 4]"
   ]
  },
  {
   "cell_type": "code",
   "execution_count": 9,
   "metadata": {
    "collapsed": false
   },
   "outputs": [
    {
     "data": {
      "text/plain": [
       "3-element Array{Float64,1}:\n",
       " 6.0\n",
       " 2.0\n",
       " 6.0"
      ]
     },
     "execution_count": 9,
     "metadata": {},
     "output_type": "execute_result"
    }
   ],
   "source": [
    "b = [6.0; 2; 6]"
   ]
  },
  {
   "cell_type": "code",
   "execution_count": 4,
   "metadata": {
    "collapsed": false
   },
   "outputs": [
    {
     "data": {
      "text/plain": [
       "-0.3333333333333333"
      ]
     },
     "execution_count": 4,
     "metadata": {},
     "output_type": "execute_result"
    }
   ],
   "source": [
    "m21 = A[2,1]/A[1,1]"
   ]
  },
  {
   "cell_type": "code",
   "execution_count": 10,
   "metadata": {
    "collapsed": false
   },
   "outputs": [
    {
     "data": {
      "text/plain": [
       "1x3 Array{Float64,2}:\n",
       " 0.0  2.33333  1.66667"
      ]
     },
     "execution_count": 10,
     "metadata": {},
     "output_type": "execute_result"
    }
   ],
   "source": [
    "# Li = A[i,:]\n",
    "A[2,:] = A[2,:] - m21*A[1,:]"
   ]
  },
  {
   "cell_type": "markdown",
   "metadata": {},
   "source": [
    "Note que A[2,1] é zero agora"
   ]
  },
  {
   "cell_type": "code",
   "execution_count": 11,
   "metadata": {
    "collapsed": false
   },
   "outputs": [
    {
     "data": {
      "text/plain": [
       "3x3 Array{Float64,2}:\n",
       " 3.0  1.0      2.0    \n",
       " 0.0  2.33333  1.66667\n",
       " 1.0  1.0      4.0    "
      ]
     },
     "execution_count": 11,
     "metadata": {},
     "output_type": "execute_result"
    }
   ],
   "source": [
    "A"
   ]
  },
  {
   "cell_type": "code",
   "execution_count": 12,
   "metadata": {
    "collapsed": false
   },
   "outputs": [
    {
     "data": {
      "text/plain": [
       "4.0"
      ]
     },
     "execution_count": 12,
     "metadata": {},
     "output_type": "execute_result"
    }
   ],
   "source": [
    "b[2] = b[2] - m21*b[1]"
   ]
  },
  {
   "cell_type": "code",
   "execution_count": 13,
   "metadata": {
    "collapsed": false
   },
   "outputs": [
    {
     "data": {
      "text/plain": [
       "3-element Array{Float64,1}:\n",
       " 6.0\n",
       " 4.0\n",
       " 6.0"
      ]
     },
     "execution_count": 13,
     "metadata": {},
     "output_type": "execute_result"
    }
   ],
   "source": [
    "b"
   ]
  },
  {
   "cell_type": "code",
   "execution_count": 14,
   "metadata": {
    "collapsed": false
   },
   "outputs": [
    {
     "data": {
      "text/plain": [
       "1x3 Array{Float64,2}:\n",
       " 0.0  0.666667  3.33333"
      ]
     },
     "execution_count": 14,
     "metadata": {},
     "output_type": "execute_result"
    }
   ],
   "source": [
    "m31 = A[3,1]/A[1,1]\n",
    "A[3,:] = A[3,:] - m31*A[1,:]"
   ]
  },
  {
   "cell_type": "code",
   "execution_count": 15,
   "metadata": {
    "collapsed": false
   },
   "outputs": [
    {
     "data": {
      "text/plain": [
       "4.0"
      ]
     },
     "execution_count": 15,
     "metadata": {},
     "output_type": "execute_result"
    }
   ],
   "source": [
    "b[3] = b[3] - m31*b[1]"
   ]
  },
  {
   "cell_type": "code",
   "execution_count": 16,
   "metadata": {
    "collapsed": false
   },
   "outputs": [
    {
     "data": {
      "text/plain": [
       "3x3 Array{Float64,2}:\n",
       " 3.0  1.0       2.0    \n",
       " 0.0  2.33333   1.66667\n",
       " 0.0  0.666667  3.33333"
      ]
     },
     "execution_count": 16,
     "metadata": {},
     "output_type": "execute_result"
    }
   ],
   "source": [
    "A"
   ]
  },
  {
   "cell_type": "code",
   "execution_count": 17,
   "metadata": {
    "collapsed": false
   },
   "outputs": [
    {
     "data": {
      "text/plain": [
       "0.28571428571428575"
      ]
     },
     "execution_count": 17,
     "metadata": {},
     "output_type": "execute_result"
    }
   ],
   "source": [
    "m32 = A[3,2]/A[2,2]"
   ]
  },
  {
   "cell_type": "code",
   "execution_count": 18,
   "metadata": {
    "collapsed": false
   },
   "outputs": [
    {
     "data": {
      "text/plain": [
       "1x3 Array{Float64,2}:\n",
       " 0.0  -1.11022e-16  2.85714"
      ]
     },
     "execution_count": 18,
     "metadata": {},
     "output_type": "execute_result"
    }
   ],
   "source": [
    "A[3,:] = A[3,:] - m32*A[2,:]"
   ]
  },
  {
   "cell_type": "code",
   "execution_count": 19,
   "metadata": {
    "collapsed": false
   },
   "outputs": [
    {
     "data": {
      "text/plain": [
       "2.8571428571428568"
      ]
     },
     "execution_count": 19,
     "metadata": {},
     "output_type": "execute_result"
    }
   ],
   "source": [
    "b[3] = b[3] - m32*b[2]"
   ]
  },
  {
   "cell_type": "code",
   "execution_count": 20,
   "metadata": {
    "collapsed": false
   },
   "outputs": [
    {
     "data": {
      "text/plain": [
       "3x3 Array{Float64,2}:\n",
       " 3.0   1.0          2.0    \n",
       " 0.0   2.33333      1.66667\n",
       " 0.0  -1.11022e-16  2.85714"
      ]
     },
     "execution_count": 20,
     "metadata": {},
     "output_type": "execute_result"
    }
   ],
   "source": [
    "A"
   ]
  },
  {
   "cell_type": "code",
   "execution_count": 21,
   "metadata": {
    "collapsed": false
   },
   "outputs": [
    {
     "data": {
      "text/plain": [
       "3-element Array{Float64,1}:\n",
       " 6.0    \n",
       " 4.0    \n",
       " 2.85714"
      ]
     },
     "execution_count": 21,
     "metadata": {},
     "output_type": "execute_result"
    }
   ],
   "source": [
    "b"
   ]
  },
  {
   "cell_type": "markdown",
   "metadata": {},
   "source": [
    "## Pontos importantes\n",
    "\n",
    "- $A$ foi perdida. Ela é irrecuperável (sem os valores de $m_{i,j}$.\n",
    "    - Sol. 1: Não \"usar\" $A$, i.e., copiar para outra matriz\n",
    "    - Sol. 2: Guardar $m_{i,j}$.\n",
    "    - Sol. 3: Ambos\n",
    "- A eliminação do elemento $a_{i,j}$ faz contas desnecessárias com 0.0 (antes da coluna $j$).\n",
    "- $m_{i,j}$ foi calculado com o objetivo de transformar\n",
    "$a_{i,j}$ em 0.0. Então não é necessário calcular a atualização de $a_{i,j}$. (Basta fazer `A[i,j] = 0.0`).\n",
    "Sem falar que o resultado pode não ser exatamente 0.0, e\n",
    "ficar sujando as contas.\n",
    "- A matriz resultante tem muitos zeros, i.e., gasto de memória a toa.\n",
    "    - Sol. : Usar esse espaço vazio."
   ]
  },
  {
   "cell_type": "code",
   "execution_count": 129,
   "metadata": {
    "collapsed": false
   },
   "outputs": [
    {
     "data": {
      "text/plain": [
       "3-element Array{Float64,1}:\n",
       " 6.0\n",
       " 2.0\n",
       " 6.0"
      ]
     },
     "execution_count": 129,
     "metadata": {},
     "output_type": "execute_result"
    }
   ],
   "source": [
    "A = [3.0 1 2; -1 2 1; 1 1 4]\n",
    "U = copy(A)\n",
    "b = [6.0;2;6]\n",
    "c = copy(b)"
   ]
  },
  {
   "cell_type": "code",
   "execution_count": 130,
   "metadata": {
    "collapsed": false
   },
   "outputs": [
    {
     "data": {
      "text/plain": [
       "(\n",
       "3x3 Array{Float64,2}:\n",
       " 3.0  1.0       2.0    \n",
       " 0.0  2.33333   1.66667\n",
       " 0.0  0.666667  3.33333,\n",
       "\n",
       "[6.0,4.0,4.0])"
      ]
     },
     "execution_count": 130,
     "metadata": {},
     "output_type": "execute_result"
    }
   ],
   "source": [
    "# Coluna 1\n",
    "m21 = U[2,1]/U[1,1]\n",
    "m31 = U[3,1]/U[1,1]\n",
    "U[2,1] = 0.0\n",
    "U[3,1] = 0.0\n",
    "U[2,2:end] = U[2,2:end] - m21*U[1,2:end]\n",
    "U[3,2:end] = U[3,2:end] - m31*U[1,2:end]\n",
    "c[2] = c[2] - m21*c[1]\n",
    "c[3] = c[3] - m31*c[1]\n",
    "U,c"
   ]
  },
  {
   "cell_type": "code",
   "execution_count": 131,
   "metadata": {
    "collapsed": false
   },
   "outputs": [
    {
     "data": {
      "text/plain": [
       "(\n",
       "3x3 Array{Float64,2}:\n",
       " 3.0  1.0      2.0    \n",
       " 0.0  2.33333  1.66667\n",
       " 0.0  0.0      2.85714,\n",
       "\n",
       "[6.0,2.0,6.0])"
      ]
     },
     "execution_count": 131,
     "metadata": {},
     "output_type": "execute_result"
    }
   ],
   "source": [
    "# Coluna 2\n",
    "m32 = U[3,2]/U[2,2]\n",
    "U[3,2] = 0.0\n",
    "U[3,3:end] = U[3,3:end] - m32*U[2,3:end]\n",
    "c[3] = c[3] - m32*c[2]\n",
    "U,c"
   ]
  },
  {
   "cell_type": "markdown",
   "metadata": {},
   "source": [
    "Computacionalmente, temos mais um problema.\n",
    "\n",
    "- `A[i,j+1:end]` cria um vetor temporario, então\n",
    "$L_i \\leftarrow L_i - m_{i,j}L_j$ tem um gasto de memória desnecessário.\n",
    "    - Nesta disciplina, vamos ignorar esse fato, sempre que não afetar demais.\n",
    "- A maneira correta de se calcular\n",
    "$L_i \\leftarrow L_i - m_{i,j}L_j$ é com `for`."
   ]
  },
  {
   "cell_type": "code",
   "execution_count": 132,
   "metadata": {
    "collapsed": false
   },
   "outputs": [
    {
     "data": {
      "text/plain": [
       "elim_gauss (generic function with 2 methods)"
      ]
     },
     "execution_count": 132,
     "metadata": {},
     "output_type": "execute_result"
    }
   ],
   "source": [
    "function elim_gauss(A, b)\n",
    "    m,n = size(A)\n",
    "    U = copy(A)\n",
    "    c = copy(b)\n",
    "    @inbounds for j = 1:n\n",
    "        @inbounds for i = j+1:m\n",
    "            mij = U[i,j]/U[j,j]\n",
    "            U[i,j] = 0.0\n",
    "            @inbounds for k = j+1:n\n",
    "                U[i,k] -= mij*U[j,k]\n",
    "            end\n",
    "            c[i] -= mij*c[j]\n",
    "        end\n",
    "    end\n",
    "    return U, c\n",
    "end"
   ]
  },
  {
   "cell_type": "code",
   "execution_count": 118,
   "metadata": {
    "collapsed": false
   },
   "outputs": [
    {
     "data": {
      "text/plain": [
       "1000x1000 Array{Float64,2}:\n",
       " 1000.93          0.693143      0.0130765  …     0.209335       0.398884 \n",
       "    0.752804   1000.22          0.380064         0.204649       0.658994 \n",
       "    0.554684      0.915637   1000.36             0.920568       0.515883 \n",
       "    0.238366      0.178041      0.16035          0.162372       0.75579  \n",
       "    0.438306      0.394185      0.599904         0.117229       0.887862 \n",
       "    0.241353      0.222437      0.486493   …     0.0942967      0.327892 \n",
       "    0.130382      0.0137715     0.190705         0.765321       0.433069 \n",
       "    0.781277      0.0456453     0.0681019        0.00770053     0.761459 \n",
       "    0.588024      0.879935      0.0385946        0.153698       0.171976 \n",
       "    0.920086      0.337919      0.370471         0.63461        0.530219 \n",
       "    0.486398      0.563834      0.52112    …     0.564202       0.431951 \n",
       "    0.227429      0.339987      0.249071         0.590638       0.272102 \n",
       "    0.221188      0.228409      0.622186         0.509937       0.89724  \n",
       "    ⋮                                      ⋱                             \n",
       "    0.205491      0.990715      0.343189         0.333751       0.906199 \n",
       "    0.0758419     0.865545      0.725432         0.826046       0.458563 \n",
       "    0.347908      0.347457      0.197306   …     0.871477       0.562543 \n",
       "    0.553969      0.195802      0.187009         0.165246       0.700072 \n",
       "    0.611408      0.174898      0.460784         0.552333       0.0283084\n",
       "    0.789961      0.831777      0.114438         0.537496       0.583658 \n",
       "    0.83051       0.165929      0.336252         0.0386019      0.510505 \n",
       "    0.566819      0.943905      0.279011   …     0.594507       0.849843 \n",
       "    0.832119      0.719056      0.68089          0.519261       0.178015 \n",
       "    0.207         0.684125      0.876775         0.441246       0.112349 \n",
       "    0.874717      0.0539057     0.287148      1000.41           0.477674 \n",
       "    0.750457      0.575527      0.388226         0.657075    1000.71     "
      ]
     },
     "execution_count": 118,
     "metadata": {},
     "output_type": "execute_result"
    }
   ],
   "source": [
    "A"
   ]
  },
  {
   "cell_type": "code",
   "execution_count": 133,
   "metadata": {
    "collapsed": false
   },
   "outputs": [
    {
     "data": {
      "text/plain": [
       "(\n",
       "3x3 Array{Float64,2}:\n",
       " 3.0  1.0      2.0    \n",
       " 0.0  2.33333  1.66667\n",
       " 0.0  0.0      2.85714,\n",
       "\n",
       "[6.0,4.0,2.8571428571428568])"
      ]
     },
     "execution_count": 133,
     "metadata": {},
     "output_type": "execute_result"
    }
   ],
   "source": [
    "U,c = elim_gauss(A,b)"
   ]
  },
  {
   "cell_type": "code",
   "execution_count": 134,
   "metadata": {
    "collapsed": false
   },
   "outputs": [
    {
     "data": {
      "text/plain": [
       "elim_gauss_resumida (generic function with 2 methods)"
      ]
     },
     "execution_count": 134,
     "metadata": {},
     "output_type": "execute_result"
    }
   ],
   "source": [
    "function elim_gauss_resumida(A,b)\n",
    "    m,n = size(A)\n",
    "    U = copy(A)\n",
    "    c = copy(b)\n",
    "    @inbounds for j = 1:n\n",
    "        mj = U[j+1:m,j]/U[j,j]\n",
    "        U[j+1:m,j] = 0.0\n",
    "        c[j+1:m] -= mj*c[j]\n",
    "        U[j+1:m,j+1:n] -= mj*U[j,j+1:n]\n",
    "    end\n",
    "    return U\n",
    "end"
   ]
  },
  {
   "cell_type": "code",
   "execution_count": 135,
   "metadata": {
    "collapsed": false
   },
   "outputs": [
    {
     "data": {
      "text/plain": [
       "true"
      ]
     },
     "execution_count": 135,
     "metadata": {},
     "output_type": "execute_result"
    }
   ],
   "source": [
    "norm(U - elim_gauss_resumida(A)) < 1e-12"
   ]
  },
  {
   "cell_type": "code",
   "execution_count": 139,
   "metadata": {
    "collapsed": false
   },
   "outputs": [],
   "source": [
    "# Gerar uma matriz especifica que\n",
    "# eu sei que funcione\n",
    "n = 1000\n",
    "A = rand(n,n) + n*eye(n);\n",
    "b = A*ones(n);"
   ]
  },
  {
   "cell_type": "code",
   "execution_count": 140,
   "metadata": {
    "collapsed": false
   },
   "outputs": [
    {
     "name": "stdout",
     "output_type": "stream",
     "text": [
      "  0.710672 seconds (10 allocations: 7.637 MB, 0.16% gc time)\n",
      "  2.401199 seconds (10 allocations: 7.637 MB)\n"
     ]
    }
   ],
   "source": [
    "@time U, c = elim_gauss(A, b);\n",
    "@time U, c = elim_gauss(A, b);"
   ]
  },
  {
   "cell_type": "code",
   "execution_count": 141,
   "metadata": {
    "collapsed": false
   },
   "outputs": [
    {
     "name": "stdout",
     "output_type": "stream",
     "text": [
      "  2.235418 seconds (70.23 k allocations: 7.472 GB, 9.93% gc time)\n",
      "  2.058017 seconds (38.71 k allocations: 7.471 GB, 8.57% gc time)\n"
     ]
    }
   ],
   "source": [
    "@time U, c = elim_gauss_resumida(A, b);\n",
    "@time U, c = elim_gauss_resumida(A, b);"
   ]
  },
  {
   "cell_type": "markdown",
   "metadata": {},
   "source": [
    "A alocação não acontece toda de uma vez.\n",
    "O `gc` (garbage collector) que lida com isso.\n",
    "Note que no segundo caso, o gc roda muito mais."
   ]
  },
  {
   "cell_type": "markdown",
   "metadata": {},
   "source": [
    "## Complexidade"
   ]
  },
  {
   "cell_type": "markdown",
   "metadata": {},
   "source": [
    "Vamos contar o número de operações elementares\n",
    "\n",
    "    0 function elim_gauss(A, b)\n",
    "    0     m,n = size(A)\n",
    "    0     U = copy(A)\n",
    "    0     c = copy(b)\n",
    "    x     @inbounds for j = 1:n\n",
    "    x         @inbounds for i = j+1:m\n",
    "    1             mij = U[i,j]/U[j,j]\n",
    "    0             U[i,j] = 0.0\n",
    "    x             @inbounds for k = j+1:n\n",
    "    2                 U[i,k] -= mij*U[j,k]\n",
    "    0             end\n",
    "    2             c[i] -= mij*c[j]\n",
    "    0         end\n",
    "    0     end\n",
    "    0     return U, c\n",
    "    0  end"
   ]
  },
  {
   "cell_type": "markdown",
   "metadata": {},
   "source": [
    "No for mais interno temos 2 operações que são feitas $n-j$ vezes. Então resumindo"
   ]
  },
  {
   "cell_type": "markdown",
   "metadata": {},
   "source": [
    "    x     for j = 1:n\n",
    "    x         for i = j+1:m\n",
    "    1             mij = U[i,j]/U[j,j]\n",
    "    0             U[i,j] = 0.0\n",
    "    2(n-j)        for k = j+1:n ... end\n",
    "    2             c[i] -= mij*c[j]\n",
    "    0         end\n",
    "    0     end"
   ]
  },
  {
   "cell_type": "markdown",
   "metadata": {},
   "source": [
    "O segundo for não varia o $j$ também, então podemos somar tudo e multiplicar por $m-j$."
   ]
  },
  {
   "cell_type": "markdown",
   "metadata": {},
   "source": [
    "    x             for j = 1:n\n",
    "    (3+2(n-j))*(m-j)  for i = j+1:m ... end\n",
    "    0             end"
   ]
  },
  {
   "cell_type": "markdown",
   "metadata": {},
   "source": [
    "A última quantidade depende de $j$, e fica algo do tipo\n",
    "$$ \\sum_{j = 1}^n (3+2(n-j))(m-j) $$"
   ]
  },
  {
   "cell_type": "markdown",
   "metadata": {},
   "source": [
    "Note que, para isso acontecer, devemos ter $m \\geq n$. Caso contrário o segundo for acaba antes, e a complexidade muda um pouco."
   ]
  },
  {
   "cell_type": "markdown",
   "metadata": {},
   "source": [
    "O resultado disso é\n",
    "$$ n^2m - \\frac{n^3}{3} - \\frac{3n^2}{2} + 2mn - \\frac{7n}{6} $$\n",
    "que quando $m = n$ vira\n",
    "$$ \\frac{2n^3}{3} + \\frac{n^2}{2} - \\frac{7n}{6}, $$\n",
    "que é $\\mathcal{O}(n^3)$."
   ]
  },
  {
   "cell_type": "markdown",
   "metadata": {},
   "source": [
    "Note que a transformação de $b$ em $c$ também está embutida nesse cálculo."
   ]
  }
 ],
 "metadata": {
  "kernelspec": {
   "display_name": "Julia 0.4.6",
   "language": "julia",
   "name": "julia-0.4"
  },
  "language_info": {
   "file_extension": ".jl",
   "mimetype": "application/julia",
   "name": "julia",
   "version": "0.4.6"
  }
 },
 "nbformat": 4,
 "nbformat_minor": 0
}
