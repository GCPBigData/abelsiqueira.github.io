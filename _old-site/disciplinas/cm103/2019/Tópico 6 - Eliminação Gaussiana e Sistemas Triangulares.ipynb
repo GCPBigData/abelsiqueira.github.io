{
 "cells": [
  {
   "cell_type": "markdown",
   "metadata": {},
   "source": [
    "# Matrizes"
   ]
  },
  {
   "cell_type": "markdown",
   "metadata": {},
   "source": [
    "Matrizes são maneiras eficientes de representação de várias coisas, em especial transformações lineares.\n",
    "Muitas aplicações práticas caem em sistemas lineares, e mais outras têm representações matriciais.\n",
    "Sendo assim, a execução eficiente da chamada **álgebra linear numérica** é essencial."
   ]
  },
  {
   "cell_type": "markdown",
   "metadata": {},
   "source": [
    "## BLAS\n",
    "\n",
    "**BLAS - Basic Linear Algebra Subroutines**, corresponde à uma classe de softwares que implementam álgebra linear numérica. Existem diversos BLAS, sendo alguns proprietários, alguns abertos, alguns genéricos, e alguns específicos para o processador. O BLAS é uma das unidades mais básicas do software matemático, e não vamos tentar reimplementá-lo. Porém, vamos estudar alguns aspectos que são a base para coisas mais avançadas."
   ]
  },
  {
   "cell_type": "code",
   "execution_count": 1,
   "metadata": {},
   "outputs": [
    {
     "data": {
      "text/plain": [
       "3-element Array{Float64,1}:\n",
       " 0.8194763880472343\n",
       " 1.1445791776508947\n",
       " 0.3399071038428968"
      ]
     },
     "execution_count": 1,
     "metadata": {},
     "output_type": "execute_result"
    }
   ],
   "source": [
    "A = rand(3,3)\n",
    "v = rand(3)\n",
    "A * v"
   ]
  },
  {
   "cell_type": "code",
   "execution_count": 2,
   "metadata": {},
   "outputs": [],
   "source": [
    "using LinearAlgebra"
   ]
  },
  {
   "cell_type": "code",
   "execution_count": 3,
   "metadata": {},
   "outputs": [
    {
     "data": {
      "text/latex": [
       "\\begin{verbatim}\n",
       "dot(n, X, incx, Y, incy)\n",
       "\\end{verbatim}\n",
       "Dot product of two vectors consisting of \\texttt{n} elements of array \\texttt{X} with stride \\texttt{incx} and \\texttt{n} elements of array \\texttt{Y} with stride \\texttt{incy}.\n",
       "\n",
       "\\section{Examples}\n",
       "\\begin{verbatim}\n",
       "julia> dot(10, fill(1.0, 10), 1, fill(1.0, 20), 2)\n",
       "10.0\n",
       "\\end{verbatim}\n"
      ],
      "text/markdown": [
       "```\n",
       "dot(n, X, incx, Y, incy)\n",
       "```\n",
       "\n",
       "Dot product of two vectors consisting of `n` elements of array `X` with stride `incx` and `n` elements of array `Y` with stride `incy`.\n",
       "\n",
       "# Examples\n",
       "\n",
       "```jldoctest\n",
       "julia> dot(10, fill(1.0, 10), 1, fill(1.0, 20), 2)\n",
       "10.0\n",
       "```\n"
      ],
      "text/plain": [
       "\u001b[36m  dot(n, X, incx, Y, incy)\u001b[39m\n",
       "\n",
       "  Dot product of two vectors consisting of \u001b[36mn\u001b[39m elements of array \u001b[36mX\u001b[39m with stride\n",
       "  \u001b[36mincx\u001b[39m and \u001b[36mn\u001b[39m elements of array \u001b[36mY\u001b[39m with stride \u001b[36mincy\u001b[39m.\n",
       "\n",
       "\u001b[1m  Examples\u001b[22m\n",
       "\u001b[1m  ≡≡≡≡≡≡≡≡≡≡\u001b[22m\n",
       "\n",
       "\u001b[36m  julia> dot(10, fill(1.0, 10), 1, fill(1.0, 20), 2)\u001b[39m\n",
       "\u001b[36m  10.0\u001b[39m"
      ]
     },
     "execution_count": 3,
     "metadata": {},
     "output_type": "execute_result"
    }
   ],
   "source": [
    "?LinearAlgebra.BLAS.dot"
   ]
  },
  {
   "cell_type": "markdown",
   "metadata": {},
   "source": [
    "As operações são classificas em ordens diferentes, de acordo com o número de operações. Alguns exemplos:\n",
    "- Nível 1: $\\alpha x + y$, $x^Ty$;\n",
    "- Nível 2: $Ax$, $L^{-1}b$ e $U^{-1}b$, onde $L$ e $U$ são matrizes triangulares inferior e superior, resp.;\n",
    "- Nível 3: $AB$ e algumas maneiras de resolver sistemas lineares."
   ]
  },
  {
   "cell_type": "markdown",
   "metadata": {},
   "source": [
    "### $\\alpha x + y$\n",
    "\n",
    "Sendo $z = \\alpha x + y$, temos $z_i = \\alpha x_i + y_i$, então fazemos $n$ multiplicações e $n$ somas: $2n$ operações.\n",
    "\n",
    "### $x^Ty$\n",
    "\n",
    "$x^Ty = x_1y_1 + \\dots + x_ny_n$, logo são $n$ multiplicações e $n-1$ somas: $2n - 1$ operações.\n",
    "\n",
    "### Ax\n",
    "\n",
    "Sendo $y = Ax$, com $A \\in \\mathbb{R}^{m \\times n}$, temos\n",
    "$$ y_i = \\sum_{j = 1}^n a_{ij} x_j, \\quad i = 1,\\dots,m. $$\n",
    "Logo, são $mn$ multiplicações e $(n-1)m$ somas: $2mn - m$ operações.\n",
    "\n",
    "### AB\n",
    "\n",
    "Sendo $C = AB$, com $A \\in \\mathbb{R}^{m \\times p}$ e $B \\in \\mathbb{R}^{p \\times n}$, temos\n",
    "$$ c_{ij} = \\sum_{k = 1}^p a_{ik} b_{kj}, \\qquad i = 1,\\dots,m,\\quad j = 1,\\dots,n. $$\n",
    "Logo, são $mnp$ multiplicações e $(p-1)mn$ somas: $2mnp - mn$ operações."
   ]
  },
  {
   "cell_type": "markdown",
   "metadata": {},
   "source": [
    "## Armazenamento\n",
    "\n",
    "Existe um conceito de matriz **densa** e **esparsa**. Quando uma matriz tem muitos zeros, ela é dita esparsa (é um conceito *fuzzy*). Para matrizes realmente grandes, armazenar todos os elementos, inclusive os nulos, é inviável, ou até impossível.\n",
    "\n",
    "O armazenamento de matrizes densas em geral é feito como um vetor linearizado. Isto é, espaços contíguos na memória. Isso é feito para minimizar o *seek*, i.e., a busca na memória. Isso quer dizer também que **faz diferença como a matriz é percorrida.**"
   ]
  },
  {
   "cell_type": "code",
   "execution_count": 4,
   "metadata": {},
   "outputs": [
    {
     "data": {
      "text/plain": [
       "multAx2 (generic function with 1 method)"
      ]
     },
     "execution_count": 4,
     "metadata": {},
     "output_type": "execute_result"
    }
   ],
   "source": [
    "using BenchmarkTools, LinearAlgebra\n",
    "\n",
    "function multAx1(y, A, x)\n",
    "    m, n = size(A)\n",
    "    for i = 1:m\n",
    "        y[i] = 0.0\n",
    "        for j = 1:n\n",
    "            y[i] += A[i,j] * x[j]\n",
    "        end\n",
    "    end\n",
    "end\n",
    "\n",
    "function multAx2(y, A, x)\n",
    "    m, n = size(A)\n",
    "    for i = 1:m\n",
    "        y[i] = 0.0\n",
    "    end\n",
    "    for j = 1:n\n",
    "        for i = 1:m\n",
    "            y[i] += A[i,j] * x[j]\n",
    "        end\n",
    "    end\n",
    "end"
   ]
  },
  {
   "cell_type": "code",
   "execution_count": 5,
   "metadata": {},
   "outputs": [],
   "source": [
    "n = 1000\n",
    "A = rand(n, n)\n",
    "x = rand(n)\n",
    "y = zeros(n);"
   ]
  },
  {
   "cell_type": "code",
   "execution_count": 6,
   "metadata": {},
   "outputs": [
    {
     "data": {
      "text/plain": [
       "0.0"
      ]
     },
     "execution_count": 6,
     "metadata": {},
     "output_type": "execute_result"
    }
   ],
   "source": [
    "y1 = zeros(n)\n",
    "y2 = zeros(n)\n",
    "multAx1(y1, A, x)\n",
    "multAx2(y2, A, x)\n",
    "norm(y1 - y2)"
   ]
  },
  {
   "cell_type": "code",
   "execution_count": 7,
   "metadata": {},
   "outputs": [
    {
     "data": {
      "text/plain": [
       "BenchmarkTools.Trial: \n",
       "  memory estimate:  0 bytes\n",
       "  allocs estimate:  0\n",
       "  --------------\n",
       "  minimum time:     1.969 ms (0.00% GC)\n",
       "  median time:      2.110 ms (0.00% GC)\n",
       "  mean time:        2.145 ms (0.00% GC)\n",
       "  maximum time:     5.650 ms (0.00% GC)\n",
       "  --------------\n",
       "  samples:          2324\n",
       "  evals/sample:     1"
      ]
     },
     "execution_count": 7,
     "metadata": {},
     "output_type": "execute_result"
    }
   ],
   "source": [
    "@benchmark multAx1(y, $A, $x)"
   ]
  },
  {
   "cell_type": "code",
   "execution_count": 8,
   "metadata": {},
   "outputs": [
    {
     "data": {
      "text/plain": [
       "BenchmarkTools.Trial: \n",
       "  memory estimate:  0 bytes\n",
       "  allocs estimate:  0\n",
       "  --------------\n",
       "  minimum time:     805.770 μs (0.00% GC)\n",
       "  median time:      921.418 μs (0.00% GC)\n",
       "  mean time:        951.084 μs (0.00% GC)\n",
       "  maximum time:     2.416 ms (0.00% GC)\n",
       "  --------------\n",
       "  samples:          5229\n",
       "  evals/sample:     1"
      ]
     },
     "execution_count": 8,
     "metadata": {},
     "output_type": "execute_result"
    }
   ],
   "source": [
    "@benchmark multAx2(y, $A, $x)"
   ]
  },
  {
   "cell_type": "code",
   "execution_count": 9,
   "metadata": {},
   "outputs": [
    {
     "data": {
      "text/plain": [
       "3×3 Array{Float64,2}:\n",
       " 0.503965  0.355978  0.155618\n",
       " 0.757727  0.622909  0.483535\n",
       " 0.117421  0.433992  0.243293"
      ]
     },
     "execution_count": 9,
     "metadata": {},
     "output_type": "execute_result"
    }
   ],
   "source": [
    "A = rand(3, 3)"
   ]
  },
  {
   "cell_type": "code",
   "execution_count": 10,
   "metadata": {},
   "outputs": [
    {
     "data": {
      "text/plain": [
       "9-element Array{Float64,1}:\n",
       " 0.5039646398946929 \n",
       " 0.757726830600641  \n",
       " 0.1174214397104103 \n",
       " 0.3559781214119857 \n",
       " 0.622908796791585  \n",
       " 0.43399231915430336\n",
       " 0.15561841000240073\n",
       " 0.4835350327670085 \n",
       " 0.24329333611284754"
      ]
     },
     "execution_count": 10,
     "metadata": {},
     "output_type": "execute_result"
    }
   ],
   "source": [
    "A[:]"
   ]
  },
  {
   "cell_type": "markdown",
   "metadata": {},
   "source": [
    "Para matrizes esparsas, o armazenamento pode ser muito mais complicado. A estratégia mais simples é armazenar todos os índices e valores. No Julia, existem ferramentas para trabalhar com matrizes esparsas nativamente."
   ]
  },
  {
   "cell_type": "code",
   "execution_count": 11,
   "metadata": {},
   "outputs": [
    {
     "data": {
      "text/plain": [
       "4×4 SparseMatrixCSC{Float64,Int64} with 7 stored entries:\n",
       "  [1, 1]  =  0.524712\n",
       "  [3, 2]  =  0.407725\n",
       "  [4, 2]  =  0.944749\n",
       "  [1, 3]  =  0.855659\n",
       "  [3, 3]  =  0.109454\n",
       "  [1, 4]  =  0.679636\n",
       "  [4, 4]  =  0.300459"
      ]
     },
     "execution_count": 11,
     "metadata": {},
     "output_type": "execute_result"
    }
   ],
   "source": [
    "using SparseArrays\n",
    "\n",
    "A = sprand(4, 4, 0.3)"
   ]
  },
  {
   "cell_type": "code",
   "execution_count": 12,
   "metadata": {},
   "outputs": [
    {
     "data": {
      "text/plain": [
       "4×4 Array{Float64,2}:\n",
       " 0.524712  0.0       0.855659  0.679636\n",
       " 0.0       0.0       0.0       0.0     \n",
       " 0.0       0.407725  0.109454  0.0     \n",
       " 0.0       0.944749  0.0       0.300459"
      ]
     },
     "execution_count": 12,
     "metadata": {},
     "output_type": "execute_result"
    }
   ],
   "source": [
    "Matrix(A)"
   ]
  },
  {
   "cell_type": "code",
   "execution_count": 13,
   "metadata": {},
   "outputs": [
    {
     "data": {
      "text/plain": [
       "([1, 3, 4, 1, 3, 1, 4], [1, 2, 2, 3, 3, 4, 4], [0.524712, 0.407725, 0.944749, 0.855659, 0.109454, 0.679636, 0.300459])"
      ]
     },
     "execution_count": 13,
     "metadata": {},
     "output_type": "execute_result"
    }
   ],
   "source": [
    "rows, cols, vals = findnz(A)"
   ]
  },
  {
   "cell_type": "code",
   "execution_count": 14,
   "metadata": {},
   "outputs": [
    {
     "data": {
      "text/plain": [
       "7×3 Array{Float64,2}:\n",
       " 1.0  1.0  0.524712\n",
       " 3.0  2.0  0.407725\n",
       " 4.0  2.0  0.944749\n",
       " 1.0  3.0  0.855659\n",
       " 3.0  3.0  0.109454\n",
       " 1.0  4.0  0.679636\n",
       " 4.0  4.0  0.300459"
      ]
     },
     "execution_count": 14,
     "metadata": {},
     "output_type": "execute_result"
    }
   ],
   "source": [
    "[rows cols vals]"
   ]
  },
  {
   "cell_type": "code",
   "execution_count": 15,
   "metadata": {},
   "outputs": [
    {
     "data": {
      "text/plain": [
       "multAxs (generic function with 1 method)"
      ]
     },
     "execution_count": 15,
     "metadata": {},
     "output_type": "execute_result"
    }
   ],
   "source": [
    "function multAxs(y, rows, cols, vals, x)\n",
    "    n = length(y)\n",
    "    for i = 1:n\n",
    "        y[i] = 0.0\n",
    "    end\n",
    "    nz = length(vals)\n",
    "    for k = 1:nz\n",
    "        i, j = rows[k], cols[k]\n",
    "        y[i] += vals[k] * x[j]\n",
    "    end\n",
    "end"
   ]
  },
  {
   "cell_type": "code",
   "execution_count": 16,
   "metadata": {},
   "outputs": [],
   "source": [
    "x = rand(4)\n",
    "y = A * x\n",
    "ys = zeros(4)\n",
    "multAxs(ys, rows, cols, vals, x)"
   ]
  },
  {
   "cell_type": "code",
   "execution_count": 17,
   "metadata": {},
   "outputs": [
    {
     "data": {
      "text/plain": [
       "4-element Array{Float64,1}:\n",
       " 0.0\n",
       " 0.0\n",
       " 0.0\n",
       " 0.0"
      ]
     },
     "execution_count": 17,
     "metadata": {},
     "output_type": "execute_result"
    }
   ],
   "source": [
    "y - ys"
   ]
  },
  {
   "cell_type": "code",
   "execution_count": 18,
   "metadata": {},
   "outputs": [
    {
     "data": {
      "text/plain": [
       "4×4 SparseMatrixCSC{Float64,Int64} with 7 stored entries:\n",
       "  [1, 1]  =  0.524712\n",
       "  [3, 2]  =  0.407725\n",
       "  [4, 2]  =  0.944749\n",
       "  [1, 3]  =  0.855659\n",
       "  [3, 3]  =  0.109454\n",
       "  [1, 4]  =  0.679636\n",
       "  [4, 4]  =  0.300459"
      ]
     },
     "execution_count": 18,
     "metadata": {},
     "output_type": "execute_result"
    }
   ],
   "source": [
    "A"
   ]
  },
  {
   "cell_type": "markdown",
   "metadata": {},
   "source": [
    "# Sistemas Lineares\n",
    "\n",
    "Sistemas lineares são extremamentes importantes. Em quase todas aplicações avançadas teremos sistemas lineares.\n",
    "Em muitos casos, esses sistemas serão especiais, de modo que teremos métodos especiais para resolvê-los.\n",
    "Estudaremos aqui, no entanto, a maneira mais geral de resolvê-los. Estudos mais avançados serão feitos em disciplinas posteriores."
   ]
  },
  {
   "cell_type": "markdown",
   "metadata": {},
   "source": [
    "## A barra invertida"
   ]
  },
  {
   "cell_type": "markdown",
   "metadata": {},
   "source": [
    "Em Julia e Matlab/Octave, existe um comando especial e simples para se resolver sistemas lineares: a barra invertida `\\`."
   ]
  },
  {
   "cell_type": "code",
   "execution_count": 19,
   "metadata": {},
   "outputs": [
    {
     "data": {
      "text/plain": [
       "3-element Array{Float64,1}:\n",
       " 0.9999999999999998\n",
       " 1.0000000000000018\n",
       " 0.9999999999999983"
      ]
     },
     "execution_count": 19,
     "metadata": {},
     "output_type": "execute_result"
    }
   ],
   "source": [
    "A = rand(3, 3)\n",
    "b = A * ones(3)\n",
    "# b foi criado para que Ax = b tenha como solução o vetor de uns.\n",
    "x = A\\b"
   ]
  },
  {
   "cell_type": "code",
   "execution_count": 20,
   "metadata": {},
   "outputs": [
    {
     "data": {
      "text/plain": [
       "5×5 Array{Float64,2}:\n",
       " 2.0  1.0  0.0  0.0  0.0\n",
       " 1.0  2.0  1.0  0.0  0.0\n",
       " 0.0  1.0  2.0  1.0  0.0\n",
       " 0.0  0.0  1.0  2.0  1.0\n",
       " 0.0  0.0  0.0  1.0  2.0"
      ]
     },
     "execution_count": 20,
     "metadata": {},
     "output_type": "execute_result"
    }
   ],
   "source": [
    "A = zeros(5,5) + 2I\n",
    "for i = 1:4\n",
    "    A[i,i+1] = 1\n",
    "    A[i+1,i] = 1\n",
    "end\n",
    "A"
   ]
  },
  {
   "cell_type": "code",
   "execution_count": 21,
   "metadata": {},
   "outputs": [
    {
     "data": {
      "text/plain": [
       "5-element Array{Float64,1}:\n",
       " 1.0\n",
       " 1.0\n",
       " 1.0\n",
       " 1.0\n",
       " 1.0"
      ]
     },
     "execution_count": 21,
     "metadata": {},
     "output_type": "execute_result"
    }
   ],
   "source": [
    "b = A * ones(5)\n",
    "A \\ b"
   ]
  },
  {
   "cell_type": "markdown",
   "metadata": {},
   "source": [
    "A barra invertida facilita grandemente a resolução de sistemas. No entanto, é importante, principalmente para matemáticos industriais, aplicados e computacionais, entender o que acontece na resolução de um sistema. Além disso, também existem vários casos em que o uso da barra invertida será pior que o conhecimento específico sobre o problema."
   ]
  },
  {
   "cell_type": "markdown",
   "metadata": {},
   "source": [
    "## Eliminação Gaussiana\n",
    "\n",
    "O método mais simples de resolução de sistemas lineares é o equivalente ao chamado escalonamento.\n",
    "\n",
    "Relembrando. Dado uma matriz $A$ e um vetor $b$, o escalonamento da matriz aumentada\n",
    "$\\left[\\begin{array}{cc} A & b \\end{array}\\right]$ é o processo de transformar essa matriz em uma matriz com vários zeros montando um tipo de escada. Com mais detalhes, é uma matriz tal que \n",
    "- Todas as linhas começam com um ou mais zeros que a linha de cima, a não que seja toda nula;\n",
    "- Todas as linhas nulas estão abaixo de qualquer linha não toda nula."
   ]
  },
  {
   "cell_type": "markdown",
   "metadata": {},
   "source": [
    "Uma matriz é transformada numa matriz escalonada através de operações elementares nas linhas da matriz. Essa operações são\n",
    "- multiplicar uma linha por um número não-nulo;\n",
    "- trocar duas linhas de posição;\n",
    "- somar à uma linha um múltiplo de outra."
   ]
  },
  {
   "cell_type": "markdown",
   "metadata": {},
   "source": [
    "Se $A$ é uma matriz quadrada e inversível, então é garantido que a matriz aumentada escalonada será da forma\n",
    "$\\left[\\begin{array}{cc}U & c\n",
    "\\end{array}\\right]$,\n",
    "onde $C$ é uma matriz triangular superior com diagonal não nula, isto é\n",
    "$c_{i,j} = 0$ se $i > j$, e $c_{i,i} \\neq 0$. Em outras palavras, a primeira linha é não nula, e cada linha abaixo tem um zero a mais que a anterior."
   ]
  },
  {
   "cell_type": "code",
   "execution_count": 22,
   "metadata": {},
   "outputs": [
    {
     "data": {
      "text/plain": [
       "10×10 Array{Float64,2}:\n",
       " 0.089  0.266  0.744  0.445  0.799  0.845  0.071  0.875  0.538  0.483\n",
       " 0.0    0.148  0.417  0.904  0.779  0.379  0.173  0.719  0.193  0.423\n",
       " 0.0    0.0    0.029  0.976  0.834  0.506  0.026  0.349  0.64   0.487\n",
       " 0.0    0.0    0.0    0.594  0.154  0.378  0.961  0.011  0.613  0.678\n",
       " 0.0    0.0    0.0    0.0    0.538  0.61   0.449  0.711  0.021  0.165\n",
       " 0.0    0.0    0.0    0.0    0.0    0.012  0.528  0.214  0.587  0.433\n",
       " 0.0    0.0    0.0    0.0    0.0    0.0    0.688  0.261  0.985  0.829\n",
       " 0.0    0.0    0.0    0.0    0.0    0.0    0.0    0.149  0.676  0.148\n",
       " 0.0    0.0    0.0    0.0    0.0    0.0    0.0    0.0    0.04   0.24 \n",
       " 0.0    0.0    0.0    0.0    0.0    0.0    0.0    0.0    0.0    0.514"
      ]
     },
     "execution_count": 22,
     "metadata": {},
     "output_type": "execute_result"
    }
   ],
   "source": [
    "# Exemplo\n",
    "U = triu(rand(1:999, 10, 10)) / 1000"
   ]
  },
  {
   "cell_type": "markdown",
   "metadata": {},
   "source": [
    "Computacionalmente, vamos fazer as mesmas operações, com exceção da multiplicação de uma linha por um número, por motivos que ficarão claros no futuro.\n",
    "Além disso, o motivo para se mudar as linhas ao fazer essas operações na mão era para facilitar as contas.\n",
    "Computacionalmente, teremos outros objetivos, e só faremos a mudança de linhas quando necessário."
   ]
  },
  {
   "cell_type": "markdown",
   "metadata": {},
   "source": [
    "Portanto, nossa operação principal será a adição de um múltiplo de outra linha a linha atual.\n",
    "Nossa notação será\n",
    "\n",
    "$$ L_j \\leftarrow L_j + \\alpha L_i, $$\n",
    "\n",
    "para dizer que multiplicamos a linha $i$ por $\\alpha$, somamos à linha $j$ e substituímos na linha $j$."
   ]
  },
  {
   "cell_type": "markdown",
   "metadata": {},
   "source": [
    "Vamos exemplificar o processo que já conhecemos."
   ]
  },
  {
   "cell_type": "code",
   "execution_count": 23,
   "metadata": {
    "scrolled": false
   },
   "outputs": [
    {
     "data": {
      "text/plain": [
       "3×3 Array{Float64,2}:\n",
       "  3.0  1.0  2.0\n",
       " -1.0  2.0  1.0\n",
       "  1.0  1.0  4.0"
      ]
     },
     "execution_count": 23,
     "metadata": {},
     "output_type": "execute_result"
    }
   ],
   "source": [
    "A = [3.0 1 2; -1 2 1; 1 1 4]"
   ]
  },
  {
   "cell_type": "code",
   "execution_count": 24,
   "metadata": {},
   "outputs": [
    {
     "data": {
      "text/plain": [
       "3-element Array{Float64,1}:\n",
       " 6.0\n",
       " 2.0\n",
       " 6.0"
      ]
     },
     "execution_count": 24,
     "metadata": {},
     "output_type": "execute_result"
    }
   ],
   "source": [
    "b = [6.0; 2; 6]"
   ]
  },
  {
   "cell_type": "code",
   "execution_count": 25,
   "metadata": {},
   "outputs": [
    {
     "data": {
      "text/plain": [
       "-0.3333333333333333"
      ]
     },
     "execution_count": 25,
     "metadata": {},
     "output_type": "execute_result"
    }
   ],
   "source": [
    "m21 = A[2,1] / A[1,1]"
   ]
  },
  {
   "cell_type": "code",
   "execution_count": 26,
   "metadata": {},
   "outputs": [
    {
     "data": {
      "text/plain": [
       "4.0"
      ]
     },
     "execution_count": 26,
     "metadata": {},
     "output_type": "execute_result"
    }
   ],
   "source": [
    "# Li = B[i,:]\n",
    "# L₂ ← L₂ - m₂₁L₁\n",
    "A[2,:] = A[2,:] - m21 * A[1,:]\n",
    "b[2] = b[2] - m21 * b[1]"
   ]
  },
  {
   "cell_type": "markdown",
   "metadata": {},
   "source": [
    "Note que A[2,1] é zero agora"
   ]
  },
  {
   "cell_type": "code",
   "execution_count": 27,
   "metadata": {},
   "outputs": [
    {
     "data": {
      "text/plain": [
       "3×4 Array{Float64,2}:\n",
       " 3.0  1.0      2.0      6.0\n",
       " 0.0  2.33333  1.66667  4.0\n",
       " 1.0  1.0      4.0      6.0"
      ]
     },
     "execution_count": 27,
     "metadata": {},
     "output_type": "execute_result"
    }
   ],
   "source": [
    "[A b]"
   ]
  },
  {
   "cell_type": "code",
   "execution_count": 28,
   "metadata": {
    "scrolled": true
   },
   "outputs": [
    {
     "data": {
      "text/plain": [
       "4.0"
      ]
     },
     "execution_count": 28,
     "metadata": {},
     "output_type": "execute_result"
    }
   ],
   "source": [
    "# L₃ ← L₃ - m₃₁L₁\n",
    "m31 = A[3,1]/A[1,1]\n",
    "A[3,:] = A[3,:] - m31*A[1,:]\n",
    "b[3] = b[3] - m31*b[1]"
   ]
  },
  {
   "cell_type": "code",
   "execution_count": 29,
   "metadata": {},
   "outputs": [
    {
     "data": {
      "text/plain": [
       "3×4 Array{Float64,2}:\n",
       " 3.0  1.0       2.0      6.0\n",
       " 0.0  2.33333   1.66667  4.0\n",
       " 0.0  0.666667  3.33333  4.0"
      ]
     },
     "execution_count": 29,
     "metadata": {},
     "output_type": "execute_result"
    }
   ],
   "source": [
    "[A b]"
   ]
  },
  {
   "cell_type": "code",
   "execution_count": 30,
   "metadata": {},
   "outputs": [
    {
     "data": {
      "text/plain": [
       "2.8571428571428568"
      ]
     },
     "execution_count": 30,
     "metadata": {},
     "output_type": "execute_result"
    }
   ],
   "source": [
    "# L₃ ← L₃ - m₃₂L₂\n",
    "m32 = A[3,2]/A[2,2]\n",
    "A[3,:] = A[3,:] - m32*A[2,:]\n",
    "b[3] = b[3] - m32*b[2]"
   ]
  },
  {
   "cell_type": "code",
   "execution_count": 31,
   "metadata": {},
   "outputs": [
    {
     "data": {
      "text/plain": [
       "3×4 Array{Float64,2}:\n",
       " 3.0   1.0          2.0      6.0    \n",
       " 0.0   2.33333      1.66667  4.0    \n",
       " 0.0  -1.11022e-16  2.85714  2.85714"
      ]
     },
     "execution_count": 31,
     "metadata": {},
     "output_type": "execute_result"
    }
   ],
   "source": [
    "[A b]"
   ]
  },
  {
   "cell_type": "markdown",
   "metadata": {},
   "source": [
    "Agora podemos resolver esse sistema triangular superior facilmente.\n",
    "Note que, tirando o erro numérico em `A[3,2]`, temos"
   ]
  },
  {
   "cell_type": "markdown",
   "metadata": {},
   "source": [
    "\\begin{align}\n",
    "a_{11} x_1 + a_{12} x_2 + a_{13} & = b_1 \\\\\n",
    "a_{22} x_2 + a_{23} x_3 & = b_2 \\\\\n",
    "a_{33} x_3 & = b_3.\n",
    "\\end{align}"
   ]
  },
  {
   "cell_type": "markdown",
   "metadata": {},
   "source": [
    "Assim, resolvemos esse sistema fazendo"
   ]
  },
  {
   "cell_type": "markdown",
   "metadata": {},
   "source": [
    "\\begin{align}\n",
    "x_3 & = \\frac{b_3}{a_{33}} \\\\\n",
    "x_2 & = \\frac{b_2 - a_{23}x_3}{a_{22}} \\\\\n",
    "x_1 & = \\frac{b_1 - a_{13}x_3 - a_{12}x_2}{a_{11}}.\n",
    "\\end{align}"
   ]
  },
  {
   "cell_type": "code",
   "execution_count": 32,
   "metadata": {},
   "outputs": [
    {
     "data": {
      "text/plain": [
       "3-element Array{Float64,1}:\n",
       " 1.0               \n",
       " 1.0000000000000002\n",
       " 0.9999999999999999"
      ]
     },
     "execution_count": 32,
     "metadata": {},
     "output_type": "execute_result"
    }
   ],
   "source": [
    "x = zeros(3)\n",
    "x[3] = b[3] / A[3,3]\n",
    "x[2] = (b[2] - A[2,3] * x[3]) / A[2,2]\n",
    "x[1] = (b[1] - A[1,3] * x[3] - A[1,2] * x[2]) / A[1,1]\n",
    "x"
   ]
  },
  {
   "cell_type": "markdown",
   "metadata": {},
   "source": [
    "O processo todo pode ser separado em duas partes:\n",
    "- A redução à matriz triangular superior, que chamamos de **Eliminação Gaussiana**; e\n",
    "- A resolução do sistema triangular superior."
   ]
  },
  {
   "cell_type": "markdown",
   "metadata": {},
   "source": [
    "O seguinte algoritmo descreve o processo"
   ]
  },
  {
   "cell_type": "code",
   "execution_count": 33,
   "metadata": {},
   "outputs": [],
   "source": [
    "#=\n",
    "Entrada: matriz A: n×n e vetor b: n\n",
    "1. Para j de 1 a n-1\n",
    "    1. Para i de j+1 a n\n",
    "        1. Calcule mᵢⱼ = aᵢⱼ/aⱼⱼ\n",
    "        2. Faça Lᵢ ← Lᵢ - mᵢⱼLⱼ\n",
    "        3. Faça bᵢ ← bᵢ - mᵢⱼbⱼ\n",
    "Saída: A triangular superior e \n",
    "       b com modificações correspondentes.\n",
    "=#"
   ]
  },
  {
   "cell_type": "markdown",
   "metadata": {},
   "source": [
    "Note que para ser bem definido, esse algoritmo precisa que $a_{jj} \\neq 0$. Existe um teorema indicando as condições para isso. Antes, definimos $A_{kk}$ como a submatriz de $A$ das linhas 1 a $k$ e colunas 1 a $k$.\n",
    "Em Julia seria a matriz `A[1:k,1:k]`."
   ]
  },
  {
   "cell_type": "markdown",
   "metadata": {},
   "source": [
    "**Teorema:** Se $\\det(A_{kk}) \\neq 0$ para todo $k = 1,\\dots,n-1$, então o método de Eliminação Gaussiana como descrito acima está bem definida, isto é, roda todas as iterações até encontrar uma matriz triangular superior.\n",
    "Se, além disso, $\\det(A) \\neq 0$, então a diagonal é não-nula. Caso contrário, o último elemento da diagonal será 0."
   ]
  },
  {
   "cell_type": "markdown",
   "metadata": {},
   "source": [
    "Como isso nem sempre será possível, vamos colocar essa condição para falha no algoritmo. Se o elemento da diagonal for muito próximo de zero, retornaremos um erro."
   ]
  },
  {
   "cell_type": "code",
   "execution_count": 34,
   "metadata": {},
   "outputs": [
    {
     "data": {
      "text/plain": [
       "elim_gauss (generic function with 1 method)"
      ]
     },
     "execution_count": 34,
     "metadata": {},
     "output_type": "execute_result"
    }
   ],
   "source": [
    "function elim_gauss(A::Matrix, b::Vector; diagtol = 1e-12)\n",
    "    # Implemente\n",
    "    return A, b\n",
    "end"
   ]
  },
  {
   "cell_type": "code",
   "execution_count": 35,
   "metadata": {},
   "outputs": [
    {
     "data": {
      "text/plain": [
       "2×2 Array{Float64,2}:\n",
       " 0.0  1.0\n",
       " 1.0  0.0"
      ]
     },
     "execution_count": 35,
     "metadata": {},
     "output_type": "execute_result"
    }
   ],
   "source": [
    "A = [0.0 1.0; 1.0 0.0]"
   ]
  },
  {
   "cell_type": "code",
   "execution_count": 36,
   "metadata": {},
   "outputs": [
    {
     "data": {
      "text/plain": [
       "([0.0 1.0; 1.0 0.0], [1.0, 1.0])"
      ]
     },
     "execution_count": 36,
     "metadata": {},
     "output_type": "execute_result"
    }
   ],
   "source": [
    "b = ones(2)\n",
    "elim_gauss(A, b)"
   ]
  },
  {
   "cell_type": "code",
   "execution_count": 37,
   "metadata": {},
   "outputs": [
    {
     "data": {
      "text/plain": [
       "3-element Array{Float64,1}:\n",
       " 1.0               \n",
       " 1.0000000000000002\n",
       " 0.9999999999999999"
      ]
     },
     "execution_count": 37,
     "metadata": {},
     "output_type": "execute_result"
    }
   ],
   "source": [
    "A = [3.0 1 2; -1 2 1; 1 1 4]\n",
    "b = [6.0; 2; 6]\n",
    "A \\ b"
   ]
  },
  {
   "cell_type": "code",
   "execution_count": 38,
   "metadata": {},
   "outputs": [
    {
     "data": {
      "text/plain": [
       "([3.0 1.0 2.0; -1.0 2.0 1.0; 1.0 1.0 4.0], [6.0, 2.0, 6.0])"
      ]
     },
     "execution_count": 38,
     "metadata": {},
     "output_type": "execute_result"
    }
   ],
   "source": [
    "A = [3.0 1 2; -1 2 1; 1 1 4]\n",
    "b = [6.0; 2; 6]\n",
    "elim_gauss(A, b)"
   ]
  },
  {
   "cell_type": "code",
   "execution_count": 39,
   "metadata": {},
   "outputs": [
    {
     "data": {
      "text/plain": [
       "3×4 Array{Float64,2}:\n",
       "  3.0  1.0  2.0  6.0\n",
       " -1.0  2.0  1.0  2.0\n",
       "  1.0  1.0  4.0  6.0"
      ]
     },
     "execution_count": 39,
     "metadata": {},
     "output_type": "execute_result"
    }
   ],
   "source": [
    "[A b]"
   ]
  },
  {
   "cell_type": "code",
   "execution_count": 40,
   "metadata": {},
   "outputs": [
    {
     "data": {
      "text/plain": [
       "3-element Array{Float64,1}:\n",
       " 1.0               \n",
       " 1.0000000000000002\n",
       " 0.9999999999999999"
      ]
     },
     "execution_count": 40,
     "metadata": {},
     "output_type": "execute_result"
    }
   ],
   "source": [
    "A \\ b"
   ]
  },
  {
   "cell_type": "markdown",
   "metadata": {},
   "source": [
    "Agora para o algoritmo de resolução do sistema triangular superior."
   ]
  },
  {
   "cell_type": "code",
   "execution_count": 41,
   "metadata": {},
   "outputs": [],
   "source": [
    "#=\n",
    "Entrada: A: n×n triangular superior com diagonal não-nula\n",
    "         b: n\n",
    "1. Crie o vetor x nulo\n",
    "2. Para i de n à 1\n",
    "    1. s ← bᵢ\n",
    "    2. Para j de i+1 à n\n",
    "        1. s ← s - aᵢⱼxⱼ\n",
    "    3. xᵢ = s/aᵢᵢ\n",
    "\n",
    "Saída: x: solução de Ax = b\n",
    "=#"
   ]
  },
  {
   "cell_type": "code",
   "execution_count": 42,
   "metadata": {},
   "outputs": [
    {
     "data": {
      "text/plain": [
       "sist_tri_sup (generic function with 1 method)"
      ]
     },
     "execution_count": 42,
     "metadata": {},
     "output_type": "execute_result"
    }
   ],
   "source": [
    "function sist_tri_sup(A, b)\n",
    "    n = length(b)\n",
    "    x = zeros(n)\n",
    "    # Implementar\n",
    "    for j = n:-1:1\n",
    "        if abs(A[j,j]) < 1e-14\n",
    "            error(\"Não deu\")\n",
    "        end\n",
    "        s = b[j]\n",
    "        for k = j+1:n\n",
    "            s -= A[j,k] * x[k]\n",
    "        end\n",
    "        x[j] = s / A[j,j]\n",
    "    end\n",
    "    return x\n",
    "end"
   ]
  },
  {
   "cell_type": "code",
   "execution_count": 43,
   "metadata": {},
   "outputs": [
    {
     "data": {
      "text/plain": [
       "3-element Array{Float64,1}:\n",
       " 0.9166666666666666\n",
       " 0.25              \n",
       " 1.5               "
      ]
     },
     "execution_count": 43,
     "metadata": {},
     "output_type": "execute_result"
    }
   ],
   "source": [
    "A = [3.0 1 2; -1 2 1; 1 1 4]\n",
    "b = [6.0;2;6]\n",
    "elim_gauss(A, b)\n",
    "sist_tri_sup(A, b)"
   ]
  },
  {
   "cell_type": "code",
   "execution_count": 44,
   "metadata": {},
   "outputs": [
    {
     "data": {
      "text/plain": [
       "resolve (generic function with 1 method)"
      ]
     },
     "execution_count": 44,
     "metadata": {},
     "output_type": "execute_result"
    }
   ],
   "source": [
    "function resolve(A, b)\n",
    "    Ac = copy(A)\n",
    "    bc = copy(b)\n",
    "    elim_gauss(Ac, bc)\n",
    "    x = sist_tri_sup(Ac, bc)\n",
    "    return x\n",
    "end"
   ]
  },
  {
   "cell_type": "code",
   "execution_count": 45,
   "metadata": {},
   "outputs": [],
   "source": [
    "A = rand(100, 100)\n",
    "b = A * ones(100);"
   ]
  },
  {
   "cell_type": "code",
   "execution_count": 46,
   "metadata": {},
   "outputs": [
    {
     "data": {
      "text/plain": [
       "78.90625"
      ]
     },
     "execution_count": 46,
     "metadata": {},
     "output_type": "execute_result"
    }
   ],
   "source": [
    "(100 * 100 + 100) * Float64.size / 1024"
   ]
  },
  {
   "cell_type": "code",
   "execution_count": 47,
   "metadata": {},
   "outputs": [
    {
     "name": "stdout",
     "output_type": "stream",
     "text": [
      "  0.003905 seconds (1.55 k allocations: 163.962 KiB)\n"
     ]
    }
   ],
   "source": [
    "@time x = resolve(A, b);"
   ]
  },
  {
   "cell_type": "code",
   "execution_count": 48,
   "metadata": {},
   "outputs": [
    {
     "name": "stdout",
     "output_type": "stream",
     "text": [
      "  0.041352 seconds (9 allocations: 80.141 KiB)\n"
     ]
    }
   ],
   "source": [
    "@time x = A \\ b;"
   ]
  },
  {
   "cell_type": "markdown",
   "metadata": {},
   "source": [
    "## Pontos importantes\n",
    "\n",
    "- $A$ foi perdida. Ela é irrecuperável (sem os valores de $m_{i,j})$. Para prevenir isso, podemos\n",
    "    - Sol. 1: Não \"usar\" $A$, i.e., copiar para outra matriz\n",
    "    - Sol. 2: Guardar $m_{i,j}$.\n",
    "- A eliminação do elemento $a_{i,j}$ faz contas desnecessárias com 0.0 (antes da coluna $j$).\n",
    "- $m_{i,j}$ foi calculado com o objetivo de transformar\n",
    "$a_{i,j}$ em 0.0. Então não é necessário calcular a atualização de $a_{i,j}$. (Basta fazer `A[i,j] = 0.0`).\n",
    "Sem falar que o resultado pode não ser exatamente 0.0, e\n",
    "ficar sujando as contas.\n",
    "- A matriz resultante tem muitos zeros, i.e., gasto de memória a toa.\n",
    "    - Sol.: Guardar a matriz de um jeito diferente;\n",
    "    - Sol.: Usar esse espaço vazio.\n",
    "- `A[i,:]` cria um vetor temporario, então\n",
    "$L_i \\leftarrow L_i - m_{i,j}L_j$ tem um gasto de memória desnecessário.\n",
    "    - Nesta disciplina, vamos ignorar esse fato, sempre que não afetar demais;\n",
    "    - A maneira tradicional de resolver esse problema é usar `for`;\n",
    "    - O Julia permite alguns comandos que fazem isso automático pra você."
   ]
  },
  {
   "cell_type": "markdown",
   "metadata": {},
   "source": [
    "Uma melhoria no método, que zera os elementos que deveriam ser zerados e restringe as contas feitas, está abaixo."
   ]
  },
  {
   "cell_type": "code",
   "execution_count": 49,
   "metadata": {},
   "outputs": [
    {
     "data": {
      "text/plain": [
       "elim_gauss (generic function with 1 method)"
      ]
     },
     "execution_count": 49,
     "metadata": {},
     "output_type": "execute_result"
    }
   ],
   "source": [
    "function elim_gauss(A::Matrix, b::Vector; diagtol = 1e-12)\n",
    "    n = length(b)\n",
    "    for j = 1:n-1\n",
    "        ajj, bj = A[j,j], b[j]\n",
    "        if abs(ajj) <= diagtol\n",
    "            error(\"Diagonal muito próxima de 0\")\n",
    "        end\n",
    "        for i = j+1:n\n",
    "            mij = A[i,j] / ajj\n",
    "            A[i,j] = 0.0\n",
    "            A[i,j+1:n] -= mij * A[j,j+1:n]\n",
    "            b[i] -= mij * bj\n",
    "        end\n",
    "    end\n",
    "    return A, b\n",
    "end"
   ]
  },
  {
   "cell_type": "code",
   "execution_count": 50,
   "metadata": {},
   "outputs": [
    {
     "data": {
      "text/plain": [
       "3×3 Array{Float64,2}:\n",
       " 3.0  1.0      2.0    \n",
       " 0.0  2.33333  1.66667\n",
       " 0.0  0.0      2.85714"
      ]
     },
     "execution_count": 50,
     "metadata": {},
     "output_type": "execute_result"
    }
   ],
   "source": [
    "A = [3.0 1 2; -1 2 1; 1 1 4]\n",
    "b = [6.0;2;6]\n",
    "elim_gauss(A, b)\n",
    "A"
   ]
  },
  {
   "cell_type": "code",
   "execution_count": 51,
   "metadata": {},
   "outputs": [
    {
     "data": {
      "text/plain": [
       "3-element Array{Float64,1}:\n",
       " 1.0               \n",
       " 1.0000000000000002\n",
       " 0.9999999999999998"
      ]
     },
     "execution_count": 51,
     "metadata": {},
     "output_type": "execute_result"
    }
   ],
   "source": [
    "A \\ b"
   ]
  },
  {
   "cell_type": "markdown",
   "metadata": {},
   "source": [
    "## Pivoteamento"
   ]
  },
  {
   "cell_type": "markdown",
   "metadata": {},
   "source": [
    "Pivoteamento é o nome dado à troca de linhas no processo de eliminação Gaussiana.\n",
    "Às vezes podemos fazer troca de colunas também, e para diferenciar costuma-se dizer\n",
    "eliminação Gaussiana com pivoteamento parcial."
   ]
  },
  {
   "cell_type": "markdown",
   "metadata": {},
   "source": [
    "O primeiro motivo pelo qual o pivoteamento é importante é o zero na diagonal."
   ]
  },
  {
   "cell_type": "code",
   "execution_count": 52,
   "metadata": {},
   "outputs": [
    {
     "data": {
      "text/plain": [
       "2×2 Array{Int64,2}:\n",
       " 0  1\n",
       " 1  0"
      ]
     },
     "execution_count": 52,
     "metadata": {},
     "output_type": "execute_result"
    }
   ],
   "source": [
    "A = [0 1; 1 0]"
   ]
  },
  {
   "cell_type": "markdown",
   "metadata": {},
   "source": [
    "Essa matriz, apesar de trivial, não passa no teste da nossa função de eliminação Gaussiana.\n",
    "Além disso, existem outros problemas."
   ]
  },
  {
   "cell_type": "code",
   "execution_count": 53,
   "metadata": {},
   "outputs": [
    {
     "data": {
      "text/plain": [
       "([1.0e-12 100.0; 0.0 -1.0e14], [100.0, -1.0e14])"
      ]
     },
     "execution_count": 53,
     "metadata": {},
     "output_type": "execute_result"
    }
   ],
   "source": [
    "ϵ = 1e-12\n",
    "A = [ϵ 100; 1.0 ϵ]\n",
    "B = copy(A)\n",
    "b = A * ones(2)\n",
    "elim_gauss(A, b, diagtol=0.0)"
   ]
  },
  {
   "cell_type": "code",
   "execution_count": 54,
   "metadata": {},
   "outputs": [
    {
     "data": {
      "text/plain": [
       "1.0e26"
      ]
     },
     "execution_count": 54,
     "metadata": {},
     "output_type": "execute_result"
    }
   ],
   "source": [
    "cond(A)"
   ]
  },
  {
   "cell_type": "code",
   "execution_count": 55,
   "metadata": {},
   "outputs": [
    {
     "data": {
      "text/plain": [
       "2-element Array{Float64,1}:\n",
       " 0.9947598300641403\n",
       " 1.0               "
      ]
     },
     "execution_count": 55,
     "metadata": {},
     "output_type": "execute_result"
    }
   ],
   "source": [
    "x = sist_tri_sup(A, b)\n",
    "# x - ones(2)"
   ]
  },
  {
   "cell_type": "code",
   "execution_count": 56,
   "metadata": {},
   "outputs": [
    {
     "data": {
      "text/plain": [
       "2×2 Array{Float64,2}:\n",
       " 1.0        1.0e-12\n",
       " 1.0e-12  100.0    "
      ]
     },
     "execution_count": 56,
     "metadata": {},
     "output_type": "execute_result"
    }
   ],
   "source": [
    "A = B[[2;1], :]"
   ]
  },
  {
   "cell_type": "code",
   "execution_count": 57,
   "metadata": {},
   "outputs": [
    {
     "data": {
      "text/plain": [
       "2-element Array{Float64,1}:\n",
       " 1.0\n",
       " 1.0"
      ]
     },
     "execution_count": 57,
     "metadata": {},
     "output_type": "execute_result"
    }
   ],
   "source": [
    "b = A * ones(2)\n",
    "elim_gauss(A, b)\n",
    "x = sist_tri_sup(A, b)\n",
    "# x - ones(2)"
   ]
  },
  {
   "cell_type": "code",
   "execution_count": 58,
   "metadata": {},
   "outputs": [
    {
     "data": {
      "text/plain": [
       "100.0"
      ]
     },
     "execution_count": 58,
     "metadata": {},
     "output_type": "execute_result"
    }
   ],
   "source": [
    "using LinearAlgebra\n",
    "cond(B)"
   ]
  },
  {
   "cell_type": "markdown",
   "metadata": {},
   "source": [
    "A matriz $A$ no exemplo acima\n",
    "$$ A = \\left[\\begin{array}{cc}\n",
    "\\epsilon & 100 \\\\\n",
    "1 & \\epsilon\n",
    "\\end{array}\\right],$$\n",
    "introduz um problema durante a eliminação Gaussiana.\n",
    "O elemento $a_{22}$ deve ser substituído por\n",
    "$$ \\epsilon - \\frac{100}{\\epsilon}. $$\n",
    "Quando $\\epsilon$ é pequeno, ocorre um underflow considerável nessa operação, de modo que fica aproximada\n",
    "por $-\\dfrac{100}{\\epsilon}$."
   ]
  },
  {
   "cell_type": "markdown",
   "metadata": {},
   "source": [
    "O vetor $b$, que inicialmente é\n",
    "$\\left[\\begin{array}{c} 100 + \\epsilon \\\\ 1 + \\epsilon\\end{array}\\right],$\n",
    "vira\n",
    "$\\left[\\begin{array}{c} 100 + \\epsilon \\\\ 1 + \\epsilon - \\dfrac{100 + \\epsilon}{\\epsilon} \\end{array}\\right],$"
   ]
  },
  {
   "cell_type": "markdown",
   "metadata": {},
   "source": [
    "Nem $100 + \\epsilon$, nem $1 + \\epsilon$ têm erros grandes. Por outro lado,\n",
    "$$ 1 + \\epsilon - \\frac{100 + \\epsilon}{\\epsilon} = \\epsilon - \\frac{100}{\\epsilon} \\approx -\\frac{100}{\\epsilon}.$$"
   ]
  },
  {
   "cell_type": "markdown",
   "metadata": {},
   "source": [
    "Ou seja, acaba acontecendo um erro similar em $b_2$, de modo que o $x_2$ encontrado é $1.0$."
   ]
  },
  {
   "cell_type": "markdown",
   "metadata": {},
   "source": [
    "Daí,\n",
    "$$ x_1 = \\frac{ (100 + \\epsilon) - 100 }{\\epsilon}. $$\n",
    "A subtração tem um erro pequeno, mas quando dividido por $\\epsilon$, fica considerável."
   ]
  },
  {
   "cell_type": "markdown",
   "metadata": {},
   "source": [
    "A matriz com as linhas trocadas, no entanto, não teve esse problema."
   ]
  },
  {
   "cell_type": "markdown",
   "metadata": {},
   "source": [
    "$$ A = \\left[\\begin{array}{cc}\n",
    "1 & \\epsilon \\\\\n",
    "\\epsilon & 100\n",
    "\\end{array}\\right]\n",
    "\\qquad\n",
    "\\mbox{e}\n",
    "\\qquad\n",
    "b = \\left[\\begin{array}{c}\n",
    "1 + \\epsilon \\\\\n",
    "100 + \\epsilon\n",
    "\\end{array}\\right]\n",
    ".$$"
   ]
  },
  {
   "cell_type": "markdown",
   "metadata": {},
   "source": [
    "Temos $$ m_{21} = \\epsilon, $$\n",
    "daí\n",
    "$$ a_{22} \\leftarrow 100 - \\epsilon^2 \\approx 100, $$\n",
    "e\n",
    "$$ b_2 \\leftarrow (100 + \\epsilon) - \\epsilon (1 + \\epsilon) \\approx 100. $$"
   ]
  },
  {
   "cell_type": "markdown",
   "metadata": {},
   "source": [
    "Novamente $x_2 = 1$. Agora\n",
    "$$ x_1 = \\frac{ (1 + \\epsilon) - \\epsilon }{1} = 1. $$\n",
    "Novamente o erro na subtração é grande, porém a divisão não aumenta esse erro."
   ]
  },
  {
   "cell_type": "markdown",
   "metadata": {},
   "source": [
    "Em outras palavras, podemos tentar pivotear a matriz $A$ para **aumentar a estabilidade numérica**.\n",
    "Outro motivo para o pivoteamento está abaixo."
   ]
  },
  {
   "cell_type": "markdown",
   "metadata": {},
   "source": [
    "### Esparsidade\n",
    "\n",
    "Uma matriz é dita **esparsa** se contém muitos zeros. Esse termo não é exato, o que complica um pouco, e não faz muito sentido para matrizes pequenas, mas vamos tentar elucidá-lo e explicar a sua importância."
   ]
  },
  {
   "cell_type": "markdown",
   "metadata": {},
   "source": [
    "A densidade de $A$ é o número de elementos não nulos divido pelo número de elementos total de $A$."
   ]
  },
  {
   "cell_type": "markdown",
   "metadata": {},
   "source": [
    "Em geral, o limite para se considerar uma matriz esparsa não é estabelecido, principalmente por depender da dimensão $n$ de $A$. Em geral, uma matriz com 1% de elementos não nulos é considerada esparsa. Uma com 10% às vezes será considerada esparsa. Uma matriz diagonal, por exemplo, é a matriz mais esparsa possível que pode ser não-singular (permutações da matriz diagonal também). O número de elementos não-nulos da matriz diagonal é $n$, e seu número de elementos é $n^2$. Portanto, sua densidade é $1/n$. Se $n > 1000$, então a densidade será menor que $0.001$."
   ]
  },
  {
   "cell_type": "markdown",
   "metadata": {},
   "source": [
    "Uma matriz tridiagonal - onde só podem ser não-nulos os elementos na diagonal, na diagonal acima, e na diagonal abaixo, terá densidade $\\dfrac{3n-2}{n^2}$. No caso $n = 1000$, será $\\approx 0.003$, e ainda é considerada esparsa."
   ]
  },
  {
   "cell_type": "markdown",
   "metadata": {},
   "source": [
    "Uma matriz de banda $k$ - onde as diagonais até $k$ acima e até $k$ abaixo da diagonal principal contém todos os elementos não-nulos - tem $n + 2(n-1) + 2(n-2) + \\dots 2(n-k) = n + 2\\sum_{i = 1}^k(n-i) = n(1 + 2k) - k(k+1)$\n",
    "elementos. Uma matriz com $n = 1000$ e $k = 50$, terá esparsidade $\\approx 0.1$, que ainda está bom. Veja que já é 10%."
   ]
  },
  {
   "cell_type": "markdown",
   "metadata": {},
   "source": [
    "Quando fazemos operações com matrizes esparsas, os cálculos envolvendo os elementos nulos tem custo nulo, além de não produzirem erros. Além disso, uma matriz esparsa irá ocupar muito menos espaço no computador.\n",
    "Por isso matrizes esparsas são desejáveis.\n",
    "Por outro lado, algumas operações na matriz fazem com que sua densidade aumente, por isso devemos tomar muito cuidade em como fazê-las."
   ]
  },
  {
   "cell_type": "markdown",
   "metadata": {},
   "source": [
    "Em particular, uma matriz esparsa pode se tornar bastante densa na operação de eliminação Gaussiana."
   ]
  },
  {
   "cell_type": "code",
   "execution_count": 59,
   "metadata": {},
   "outputs": [
    {
     "data": {
      "text/plain": [
       "10×10 Array{Float64,2}:\n",
       " 10.0  1.0  1.0  1.0  1.0  1.0  1.0  1.0  1.0  1.0\n",
       "  1.0  1.0  0.0  0.0  0.0  0.0  0.0  0.0  0.0  0.0\n",
       "  1.0  0.0  1.0  0.0  0.0  0.0  0.0  0.0  0.0  0.0\n",
       "  1.0  0.0  0.0  1.0  0.0  0.0  0.0  0.0  0.0  0.0\n",
       "  1.0  0.0  0.0  0.0  1.0  0.0  0.0  0.0  0.0  0.0\n",
       "  1.0  0.0  0.0  0.0  0.0  1.0  0.0  0.0  0.0  0.0\n",
       "  1.0  0.0  0.0  0.0  0.0  0.0  1.0  0.0  0.0  0.0\n",
       "  1.0  0.0  0.0  0.0  0.0  0.0  0.0  1.0  0.0  0.0\n",
       "  1.0  0.0  0.0  0.0  0.0  0.0  0.0  0.0  1.0  0.0\n",
       "  1.0  0.0  0.0  0.0  0.0  0.0  0.0  0.0  0.0  1.0"
      ]
     },
     "execution_count": 59,
     "metadata": {},
     "output_type": "execute_result"
    }
   ],
   "source": [
    "n = 10\n",
    "A = diagm(0 => ones(n))\n",
    "A[:,1] .= 1.0\n",
    "A[1,:] .= 1.0\n",
    "A[1,1] = n\n",
    "A"
   ]
  },
  {
   "cell_type": "code",
   "execution_count": 60,
   "metadata": {},
   "outputs": [
    {
     "data": {
      "text/plain": [
       "10×10 Array{Float64,2}:\n",
       " 10.0  1.0   1.0        1.0       …   1.0        1.0        1.0     \n",
       "  0.0  0.9  -0.1       -0.1          -0.1       -0.1       -0.1     \n",
       "  0.0  0.0   0.888889  -0.111111     -0.111111  -0.111111  -0.111111\n",
       "  0.0  0.0   0.0        0.875        -0.125     -0.125     -0.125   \n",
       "  0.0  0.0   0.0        0.0          -0.142857  -0.142857  -0.142857\n",
       "  0.0  0.0   0.0        0.0       …  -0.166667  -0.166667  -0.166667\n",
       "  0.0  0.0   0.0        0.0          -0.2       -0.2       -0.2     \n",
       "  0.0  0.0   0.0        0.0           0.75      -0.25      -0.25    \n",
       "  0.0  0.0   0.0        0.0           0.0        0.666667  -0.333333\n",
       "  0.0  0.0   0.0        0.0           0.0        0.0        0.5     "
      ]
     },
     "execution_count": 60,
     "metadata": {},
     "output_type": "execute_result"
    }
   ],
   "source": [
    "b = A * ones(n)\n",
    "elim_gauss(A, b)\n",
    "A"
   ]
  },
  {
   "cell_type": "markdown",
   "metadata": {},
   "source": [
    "A matriz $A$ acima é o mais densa possível (para uma matriz triangular superior).\n",
    "No entanto, uma simples mudança de linhas resolveria o problema."
   ]
  },
  {
   "cell_type": "code",
   "execution_count": 61,
   "metadata": {},
   "outputs": [
    {
     "data": {
      "text/plain": [
       "10×10 Array{Float64,2}:\n",
       "  1.0  0.0  0.0  0.0  0.0  0.0  0.0  0.0  0.0  1.0\n",
       "  1.0  1.0  0.0  0.0  0.0  0.0  0.0  0.0  0.0  0.0\n",
       "  1.0  0.0  1.0  0.0  0.0  0.0  0.0  0.0  0.0  0.0\n",
       "  1.0  0.0  0.0  1.0  0.0  0.0  0.0  0.0  0.0  0.0\n",
       "  1.0  0.0  0.0  0.0  1.0  0.0  0.0  0.0  0.0  0.0\n",
       "  1.0  0.0  0.0  0.0  0.0  1.0  0.0  0.0  0.0  0.0\n",
       "  1.0  0.0  0.0  0.0  0.0  0.0  1.0  0.0  0.0  0.0\n",
       "  1.0  0.0  0.0  0.0  0.0  0.0  0.0  1.0  0.0  0.0\n",
       "  1.0  0.0  0.0  0.0  0.0  0.0  0.0  0.0  1.0  0.0\n",
       " 10.0  1.0  1.0  1.0  1.0  1.0  1.0  1.0  1.0  1.0"
      ]
     },
     "execution_count": 61,
     "metadata": {},
     "output_type": "execute_result"
    }
   ],
   "source": [
    "n = 10\n",
    "A = diagm(0 => ones(n))\n",
    "A[:,1] .= 1\n",
    "A[1,:] .= 1\n",
    "A[1,1] = n\n",
    "A[[1;n],:] = A[[n;1],:]\n",
    "A"
   ]
  },
  {
   "cell_type": "code",
   "execution_count": 62,
   "metadata": {},
   "outputs": [
    {
     "data": {
      "text/plain": [
       "10×10 Array{Float64,2}:\n",
       " 1.0  0.0  0.0  0.0  0.0  0.0  0.0  0.0  0.0   1.0\n",
       " 0.0  1.0  0.0  0.0  0.0  0.0  0.0  0.0  0.0  -1.0\n",
       " 0.0  0.0  1.0  0.0  0.0  0.0  0.0  0.0  0.0  -1.0\n",
       " 0.0  0.0  0.0  1.0  0.0  0.0  0.0  0.0  0.0  -1.0\n",
       " 0.0  0.0  0.0  0.0  1.0  0.0  0.0  0.0  0.0  -1.0\n",
       " 0.0  0.0  0.0  0.0  0.0  1.0  0.0  0.0  0.0  -1.0\n",
       " 0.0  0.0  0.0  0.0  0.0  0.0  1.0  0.0  0.0  -1.0\n",
       " 0.0  0.0  0.0  0.0  0.0  0.0  0.0  1.0  0.0  -1.0\n",
       " 0.0  0.0  0.0  0.0  0.0  0.0  0.0  0.0  1.0  -1.0\n",
       " 0.0  0.0  0.0  0.0  0.0  0.0  0.0  0.0  0.0  -1.0"
      ]
     },
     "execution_count": 62,
     "metadata": {},
     "output_type": "execute_result"
    }
   ],
   "source": [
    "elim_gauss(A, b)\n",
    "A"
   ]
  },
  {
   "cell_type": "markdown",
   "metadata": {},
   "source": [
    "Esse tipo de pivoteamento melhora a esparsidade, e costuma ser chamado de **pivoteamento para reduzir o preenchimento**."
   ]
  },
  {
   "cell_type": "markdown",
   "metadata": {},
   "source": [
    "### Como fazer o pivoteamento\n",
    "\n",
    "Infelizmente, o pivoteamento para reduzir o preenchimento é complicado. Ele envolve procedimentos mais avançados e com menos garantias de que vai funcionar.\n",
    "Por outro lado, o pivoteamento para melhorar a estabilidade numérica tem procedimentos mais básicos com verificações imediatas.\n",
    "Desse modo, iremos focar nesse tipo de pivoteamento."
   ]
  },
  {
   "cell_type": "markdown",
   "metadata": {},
   "source": [
    "O pivoteamento para melhor a estabilidade numérica é feita escolhendo a linha a partir do **maior elemento em módulo da coluna atual** do método. Esse elemento, divo **pivô** é escolhido para ficar na diagonal da matriz, de modo que todos os $m_{ij}$ calculados satisfazem $|m_{ij}| \\leq 1$. O processo está descrito abaixo."
   ]
  },
  {
   "cell_type": "code",
   "execution_count": 63,
   "metadata": {},
   "outputs": [
    {
     "data": {
      "text/plain": [
       "4×5 Array{Float64,2}:\n",
       "  0.24776    -0.190424  0.318687  -0.345261   0.030763\n",
       "  0.0420778   0.141109  0.705232   0.774302   1.66272 \n",
       " -0.803234   -0.310827  0.518965  -0.671082  -1.26618 \n",
       " -0.590361   -0.699333  0.382653  -0.259264  -1.16631 "
      ]
     },
     "execution_count": 63,
     "metadata": {},
     "output_type": "execute_result"
    }
   ],
   "source": [
    "using Random\n",
    "Random.seed!(0)\n",
    "A = rand(4, 4) - rand(4, 4)\n",
    "b = A * ones(4)\n",
    "C = [A b]"
   ]
  },
  {
   "cell_type": "code",
   "execution_count": 64,
   "metadata": {},
   "outputs": [
    {
     "data": {
      "text/plain": [
       "2×5 Array{Float64,2}:\n",
       "  0.24776   -0.190424  0.318687  -0.345261   0.030763\n",
       " -0.803234  -0.310827  0.518965  -0.671082  -1.26618 "
      ]
     },
     "execution_count": 64,
     "metadata": {},
     "output_type": "execute_result"
    }
   ],
   "source": [
    "# Coluna 1\n",
    "i = argmax(abs.(C[:,1]))\n",
    "C[ [i; 1], :] = C[ [1; i], :] # Lᵢ ↔ L₁"
   ]
  },
  {
   "cell_type": "code",
   "execution_count": 65,
   "metadata": {},
   "outputs": [
    {
     "data": {
      "text/plain": [
       "4×5 Array{Float64,2}:\n",
       " -0.803234   -0.310827  0.518965  -0.671082  -1.26618 \n",
       "  0.0420778   0.141109  0.705232   0.774302   1.66272 \n",
       "  0.24776    -0.190424  0.318687  -0.345261   0.030763\n",
       " -0.590361   -0.699333  0.382653  -0.259264  -1.16631 "
      ]
     },
     "execution_count": 65,
     "metadata": {},
     "output_type": "execute_result"
    }
   ],
   "source": [
    "C"
   ]
  },
  {
   "cell_type": "code",
   "execution_count": 66,
   "metadata": {},
   "outputs": [
    {
     "data": {
      "text/plain": [
       "4×5 Array{Float64,2}:\n",
       " -0.803234  -0.310827  0.518965    -0.671082  -1.26618 \n",
       "  0.0        0.124826  0.732418     0.739147   1.59639 \n",
       "  0.0       -0.286299  0.478764    -0.552258  -0.359794\n",
       "  0.0       -0.470881  0.00122319   0.233969  -0.235689"
      ]
     },
     "execution_count": 66,
     "metadata": {},
     "output_type": "execute_result"
    }
   ],
   "source": [
    "m = C[2:4, 1] / C[1,1]         # Não se assustem\n",
    "C[2:4,2:5] .-= m * C[1,2:5]'   # O código está com truques para ser curto\n",
    "C[2:4,1] .= 0.0                # Mas o resultado é o mesmo que fazer individualmente\n",
    "C                              # Lᵢ ← Lᵢ - mᵢ₁L₁, i = 2,3,4"
   ]
  },
  {
   "cell_type": "code",
   "execution_count": 67,
   "metadata": {},
   "outputs": [
    {
     "data": {
      "text/plain": [
       "2×5 Array{Float64,2}:\n",
       " 0.0   0.124826  0.732418    0.739147   1.59639 \n",
       " 0.0  -0.470881  0.00122319  0.233969  -0.235689"
      ]
     },
     "execution_count": 67,
     "metadata": {},
     "output_type": "execute_result"
    }
   ],
   "source": [
    "i = argmax(abs.(C[2:4,2])) + 1\n",
    "C[ [i; 2], :] = C[ [2; i], :]"
   ]
  },
  {
   "cell_type": "code",
   "execution_count": 68,
   "metadata": {},
   "outputs": [
    {
     "data": {
      "text/plain": [
       "4×5 Array{Float64,2}:\n",
       " -0.803234  -0.310827  0.518965    -0.671082  -1.26618 \n",
       "  0.0       -0.470881  0.00122319   0.233969  -0.235689\n",
       "  0.0       -0.286299  0.478764    -0.552258  -0.359794\n",
       "  0.0        0.124826  0.732418     0.739147   1.59639 "
      ]
     },
     "execution_count": 68,
     "metadata": {},
     "output_type": "execute_result"
    }
   ],
   "source": [
    "C"
   ]
  },
  {
   "cell_type": "code",
   "execution_count": 69,
   "metadata": {},
   "outputs": [
    {
     "data": {
      "text/plain": [
       "4×5 Array{Float64,2}:\n",
       " -0.803234  -0.310827  0.518965    -0.671082  -1.26618 \n",
       "  0.0       -0.470881  0.00122319   0.233969  -0.235689\n",
       "  0.0        0.0       0.47802     -0.694513  -0.216493\n",
       "  0.0        0.0       0.732742     0.80117    1.53391 "
      ]
     },
     "execution_count": 69,
     "metadata": {},
     "output_type": "execute_result"
    }
   ],
   "source": [
    "m = C[3:4, 2] / C[2,2]\n",
    "C[3:4,3:5] .-= m * C[2,3:5]'\n",
    "C[3:4,2] .= 0.0\n",
    "C                              # Lᵢ ← Lᵢ - mᵢ₂L₂, i = 3,4"
   ]
  },
  {
   "cell_type": "code",
   "execution_count": 70,
   "metadata": {},
   "outputs": [
    {
     "data": {
      "text/plain": [
       "2×5 Array{Float64,2}:\n",
       " 0.0  0.0  0.47802   -0.694513  -0.216493\n",
       " 0.0  0.0  0.732742   0.80117    1.53391 "
      ]
     },
     "execution_count": 70,
     "metadata": {},
     "output_type": "execute_result"
    }
   ],
   "source": [
    "i = argmax(abs.(C[3:4,3])) + 2\n",
    "C[ [i; 3], :] = C[ [3; i], :]"
   ]
  },
  {
   "cell_type": "code",
   "execution_count": 71,
   "metadata": {},
   "outputs": [
    {
     "data": {
      "text/plain": [
       "4×5 Array{Float64,2}:\n",
       " -0.803234  -0.310827  0.518965    -0.671082  -1.26618 \n",
       "  0.0       -0.470881  0.00122319   0.233969  -0.235689\n",
       "  0.0        0.0       0.732742     0.80117    1.53391 \n",
       "  0.0        0.0       0.47802     -0.694513  -0.216493"
      ]
     },
     "execution_count": 71,
     "metadata": {},
     "output_type": "execute_result"
    }
   ],
   "source": [
    "C"
   ]
  },
  {
   "cell_type": "code",
   "execution_count": 72,
   "metadata": {},
   "outputs": [
    {
     "data": {
      "text/plain": [
       "4×5 Array{Float64,2}:\n",
       " -0.803234  -0.310827  0.518965    -0.671082  -1.26618 \n",
       "  0.0       -0.470881  0.00122319   0.233969  -0.235689\n",
       "  0.0        0.0       0.732742     0.80117    1.53391 \n",
       "  0.0        0.0       0.0         -1.21717   -1.21717 "
      ]
     },
     "execution_count": 72,
     "metadata": {},
     "output_type": "execute_result"
    }
   ],
   "source": [
    "m = C[4,3] / C[3,3]\n",
    "C[4,4:5] .-= m * C[3,4:5]\n",
    "C[4,3] = 0.0\n",
    "C"
   ]
  },
  {
   "cell_type": "code",
   "execution_count": 73,
   "metadata": {},
   "outputs": [
    {
     "data": {
      "text/plain": [
       "4-element Array{Float64,1}:\n",
       " 1.0               \n",
       " 1.0000000000000002\n",
       " 0.9999999999999998\n",
       " 1.0               "
      ]
     },
     "execution_count": 73,
     "metadata": {},
     "output_type": "execute_result"
    }
   ],
   "source": [
    "U = C[1:4, 1:4]\n",
    "c = C[1:4, 5]\n",
    "U \\ c"
   ]
  },
  {
   "cell_type": "code",
   "execution_count": 74,
   "metadata": {},
   "outputs": [],
   "source": [
    "#=\n",
    "Entrada: matriz A: n×n e vetor b: n\n",
    "\n",
    "1. Para j de 1 a n-1\n",
    "    1. Encontra a linha k = argmax {|aᵢⱼ| : i = j,…,n} onde fica o pivô.\n",
    "    2. Faça Lₖ ↔ Lⱼ\n",
    "    3. Faça bₖ ← bⱼ\n",
    "    4. Para i de j+1 a n\n",
    "        1. Calcule mᵢⱼ = aᵢⱼ/aⱼⱼ\n",
    "        2. Faça Lᵢ ← Lᵢ - mᵢⱼLⱼ\n",
    "        3. Faça bᵢ ← bᵢ - mᵢⱼbⱼ\n",
    "\n",
    "Saída: A triangular superior e \n",
    "       b com modificações correspondentes.\n",
    "=#"
   ]
  },
  {
   "cell_type": "markdown",
   "metadata": {},
   "source": [
    "A troca de linhas, como já feito anteriormente, é dada por"
   ]
  },
  {
   "cell_type": "code",
   "execution_count": 75,
   "metadata": {},
   "outputs": [
    {
     "data": {
      "text/plain": [
       "2×5 Array{Float64,2}:\n",
       " 0.72285   0.484661  0.114269  0.184115  0.586712\n",
       " 0.801924  0.801119  0.104823  0.873581  0.548342"
      ]
     },
     "execution_count": 75,
     "metadata": {},
     "output_type": "execute_result"
    }
   ],
   "source": [
    "A = rand(5,5)\n",
    "j, k = 2, 5\n",
    "A[[k;j],:] = A[[j;k],:]"
   ]
  },
  {
   "cell_type": "code",
   "execution_count": 76,
   "metadata": {},
   "outputs": [
    {
     "data": {
      "text/plain": [
       "elim_gauss_pivot (generic function with 1 method)"
      ]
     },
     "execution_count": 76,
     "metadata": {},
     "output_type": "execute_result"
    }
   ],
   "source": [
    "function elim_gauss_pivot(A::Matrix, b::Vector; diagtol = 1e-12)\n",
    "    n = length(b)\n",
    "    for j = 1:n-1\n",
    "        # Implemente o pivoteamento\n",
    "        pivo = 0.0\n",
    "        k = j\n",
    "        # AQUI\n",
    "        if k != j\n",
    "            A[ [j, k], :] = A[ [k, j], :]\n",
    "            b[ [j, k] ]   = b[ [k, j] ]\n",
    "        end\n",
    "        ajj, bj = A[j,j], b[j]\n",
    "        if abs(ajj) <= diagtol\n",
    "            error(\"Diagonal muito próxima de 0\")\n",
    "        end\n",
    "        for i = j+1:n\n",
    "            mij = A[i,j] / ajj\n",
    "            A[i,j] = 0.0\n",
    "            A[i,j+1:n] -= mij * A[j,j+1:n]\n",
    "            b[i] -= mij * bj\n",
    "        end\n",
    "    end\n",
    "    return A, b\n",
    "end"
   ]
  },
  {
   "cell_type": "code",
   "execution_count": 77,
   "metadata": {},
   "outputs": [
    {
     "data": {
      "text/plain": [
       "([0.476883 0.482761 0.938857 0.306804; 0.0 0.0554511 -0.402192 0.408824; 0.0 0.0 -0.753654 -0.306658; 0.0 0.0 0.0 -1.08581], [2.20531, 0.0620829, -1.06031, -1.08581])"
      ]
     },
     "execution_count": 77,
     "metadata": {},
     "output_type": "execute_result"
    }
   ],
   "source": [
    "A = rand(4, 4)\n",
    "b = A * ones(4)\n",
    "elim_gauss_pivot(A, b)"
   ]
  },
  {
   "cell_type": "code",
   "execution_count": 78,
   "metadata": {},
   "outputs": [
    {
     "data": {
      "text/plain": [
       "4-element Array{Float64,1}:\n",
       " 1.000000000000006 \n",
       " 0.999999999999993 \n",
       " 1.0000000000000004\n",
       " 1.0000000000000009"
      ]
     },
     "execution_count": 78,
     "metadata": {},
     "output_type": "execute_result"
    }
   ],
   "source": [
    "A \\ b"
   ]
  },
  {
   "cell_type": "code",
   "execution_count": 79,
   "metadata": {},
   "outputs": [
    {
     "ename": "ErrorException",
     "evalue": "Diagonal muito próxima de 0",
     "output_type": "error",
     "traceback": [
      "Diagonal muito próxima de 0",
      "",
      "Stacktrace:",
      " [1] error(::String) at ./error.jl:33",
      " [2] #elim_gauss_pivot#7(::Float64, ::Function, ::Array{Float64,2}, ::Array{Float64,1}) at ./In[76]:14",
      " [3] elim_gauss_pivot(::Array{Float64,2}, ::Array{Float64,1}) at ./In[76]:2",
      " [4] top-level scope at In[79]:3"
     ]
    }
   ],
   "source": [
    "A = [1e-12 100; 1 1e-12]\n",
    "b = A * ones(2)\n",
    "elim_gauss_pivot(A, b)"
   ]
  },
  {
   "cell_type": "code",
   "execution_count": 80,
   "metadata": {},
   "outputs": [
    {
     "data": {
      "text/plain": [
       "2-element Array{Float64,1}:\n",
       " 1.0\n",
       " 1.0"
      ]
     },
     "execution_count": 80,
     "metadata": {},
     "output_type": "execute_result"
    }
   ],
   "source": [
    "A \\ b"
   ]
  },
  {
   "cell_type": "markdown",
   "metadata": {},
   "source": [
    "O processo de pivoteamento tem vantagens teóricas também. Note que o maior elemento do restante da coluna é escolhido. Isso quer dizer que se o pivô for nulo (ou suficientemente próximo), então realmente não existe a possibilidade de escalonar aquela matriz com a diagonal diferente de zero.\n",
    "Em outras palavras, se $A$ é inversível, então a eliminação Gaussiana com pivoteamento deveria funcionar (na aritmética exata)."
   ]
  },
  {
   "cell_type": "markdown",
   "metadata": {},
   "source": [
    "**Teorema:** Se $\\det(A) \\neq 0$, então a eliminação Gaussiana com pivoteamento gera uma matriz $A$ com diagonal não nula."
   ]
  },
  {
   "cell_type": "markdown",
   "metadata": {},
   "source": [
    "## Complexidade"
   ]
  },
  {
   "cell_type": "markdown",
   "metadata": {},
   "source": [
    "Vamos analisar agora a complexidade da eliminação Gaussiana. Vamos recopiar a última versão aqui para referência."
   ]
  },
  {
   "cell_type": "code",
   "execution_count": 81,
   "metadata": {},
   "outputs": [],
   "source": [
    "#=\n",
    "Entrada: matriz A: n×n e vetor b: n\n",
    "\n",
    "1. Para j de 1 a n-1\n",
    "    1. Encontra a linha k = argmax {|aᵢⱼ| : i = j,…,n} onde fica o pivô.\n",
    "    2. Faça Lₖ ↔ Lⱼ\n",
    "    3. Faça bₖ ↔ bⱼ\n",
    "    4. Para i de j+1 a n\n",
    "        1. Calcule mᵢⱼ = aᵢⱼ/aⱼⱼ\n",
    "        2. Faça Lᵢ ← Lᵢ - mᵢⱼLⱼ\n",
    "        3. Faça bᵢ ← bᵢ - mᵢⱼbⱼ\n",
    "\n",
    "Saída: A triangular superior e \n",
    "       b com modificações correspondentes.\n",
    "=#"
   ]
  },
  {
   "cell_type": "markdown",
   "metadata": {},
   "source": [
    "Primeiro o que é mais direto.\n",
    "\n",
    "- 1.4.1: 1 divisão\n",
    "- 1.4.2: Cada $a_{i\\ell} \\leftarrow a_{i\\ell} - m_{i j} a_{j\\ell}$ são 2 operações.\n",
    "    Fazemos isso para $\\ell = j+1,\\dots,n$, logo são $n - j$ vezes, num total de 2(n-j) operações\n",
    "- 1.4.3: Mais 2 operações.\n",
    "\n",
    "Um total de $2(n-j)+3$ operações para cada $i$."
   ]
  },
  {
   "cell_type": "markdown",
   "metadata": {},
   "source": [
    "Agora o loop 1.4. Ele é feito para $i = j+1,\\dots,n$, logo um total de\n",
    "$[2(n-j)+3](n-j) = 2(n-j)^2 + 3(n-j)$ operações para cada $j$.\n",
    "\n",
    " Os passos 1.1-1.3 não muito se feitos corretamente."
   ]
  },
  {
   "cell_type": "markdown",
   "metadata": {},
   "source": [
    "O total $2(n-j)^2 + 3(n-j)$ é feito para cada $j = 1,\\dots,n-1$, que dá"
   ]
  },
  {
   "cell_type": "markdown",
   "metadata": {},
   "source": [
    "\\begin{align}\n",
    "\\sum_{j=1}^{n-1}[2(n-j)^2 + 3(n-j)]\n",
    "& = \\sum_{j=1}^{n-1}(2j^2 + 3j) \\\\\n",
    "& = 2\\frac{(n-1)n(2n-1)}{6} + 3\\frac{(n-1)n}{2} \\\\\n",
    "& = \\frac{2}{3}n^3 + \\frac{1}{2}n^2 - \\frac{7}{6}n.\n",
    "\\end{align}"
   ]
  },
  {
   "cell_type": "markdown",
   "metadata": {},
   "source": [
    "Agora, a complexidade da resolução do sistema triangular."
   ]
  },
  {
   "cell_type": "code",
   "execution_count": 82,
   "metadata": {},
   "outputs": [],
   "source": [
    "#=\n",
    "Entrada: A: n×n triangular superior com diagonal não-nula\n",
    "         b: n\n",
    "1. Crie o vetor x nulo\n",
    "2. Para i de n à 1, voltando\n",
    "    1. s ← xᵢ\n",
    "    2. Para j de i+1 à n\n",
    "        1. s ← s - aᵢⱼxⱼ\n",
    "    3. xᵢ = s/aᵢᵢ\n",
    "\n",
    "Saída: x: solução de Ax = b\n",
    "=#"
   ]
  },
  {
   "cell_type": "markdown",
   "metadata": {},
   "source": [
    "Essa é um pouco mais fácil de se calcular.\n",
    "A operação 1.2.2 faz $2(n-j)$ operações para cada $j$ num total de $2(n-j) + 1$ por $j$.\n",
    "Logo, temos"
   ]
  },
  {
   "cell_type": "markdown",
   "metadata": {},
   "source": [
    "\\begin{align}\n",
    "\\sum_{j=1}^n [2(n-j) + 1]\n",
    "& = \\sum_{j=0}^{n-1}[2j + 1] \\\\\n",
    "& = 2\\sum_{j=0}^{n-1}j + n \\\\\n",
    "& = (n-1)n + n = n^2.\n",
    "\\end{align}"
   ]
  },
  {
   "cell_type": "markdown",
   "metadata": {},
   "source": [
    "Portanto, para resolver do zero um sistema linear $Ax = b$ pela eliminação Gaussiana,\n",
    "fazemos\n",
    "$$ \\frac{2}{3}n^3 + \\frac{3}{2}n^2 - \\frac{7}{6}n. $$"
   ]
  },
  {
   "cell_type": "markdown",
   "metadata": {},
   "source": [
    "O mais importante nesse valor todo é o $n^3$. Isso porque ele será o termo que mais \"pesa\" nessa conta para $n$ grande. Dizemos que a complexidade é da ordem de $n^3$."
   ]
  },
  {
   "cell_type": "markdown",
   "metadata": {},
   "source": [
    "Note que a complexidade de multiplicar uma matriz por um vetor é de ordem $n^2$, que é a mesma ordem de resolver um sistema triangular superior. Resolver o sistema do zero, no entanto, é de ordem $n^3$, que é a mesma ordem de multiplicar duas matrizes $n$ por $n$."
   ]
  },
  {
   "cell_type": "markdown",
   "metadata": {},
   "source": [
    "# Decomposição LU"
   ]
  },
  {
   "cell_type": "code",
   "execution_count": 83,
   "metadata": {},
   "outputs": [
    {
     "data": {
      "text/plain": [
       "3×3 Array{Float64,2}:\n",
       " 4.0   3.0   2.0\n",
       " 2.0   5.0  -1.0\n",
       " 1.0  -2.0   0.0"
      ]
     },
     "execution_count": 83,
     "metadata": {},
     "output_type": "execute_result"
    }
   ],
   "source": [
    "A = [4.0 3 2; 2 5 -1; 1 -2 0]"
   ]
  },
  {
   "cell_type": "code",
   "execution_count": 84,
   "metadata": {},
   "outputs": [
    {
     "data": {
      "text/plain": [
       "3×3 Array{Float64,2}:\n",
       "  1.0  0.0  0.0\n",
       " -0.5  1.0  0.0\n",
       "  0.0  0.0  1.0"
      ]
     },
     "execution_count": 84,
     "metadata": {},
     "output_type": "execute_result"
    }
   ],
   "source": [
    "m21 = 2 / 4\n",
    "# L₂ - m₂₁L₁  equivale a E₂₁ × A\n",
    "E21 = diagm(0 => ones(3)) # Identidate\n",
    "E21[2,1] = -m21\n",
    "E21"
   ]
  },
  {
   "cell_type": "code",
   "execution_count": 85,
   "metadata": {},
   "outputs": [
    {
     "data": {
      "text/plain": [
       "3×3 Array{Float64,2}:\n",
       " 4.0   3.0   2.0\n",
       " 0.0   3.5  -2.0\n",
       " 1.0  -2.0   0.0"
      ]
     },
     "execution_count": 85,
     "metadata": {},
     "output_type": "execute_result"
    }
   ],
   "source": [
    "E21 * A"
   ]
  },
  {
   "cell_type": "code",
   "execution_count": 86,
   "metadata": {},
   "outputs": [
    {
     "data": {
      "text/plain": [
       "3×3 Array{Float64,2}:\n",
       "  1.0   0.0  0.0\n",
       "  0.0   1.0  0.0\n",
       " -0.25  0.0  1.0"
      ]
     },
     "execution_count": 86,
     "metadata": {},
     "output_type": "execute_result"
    }
   ],
   "source": [
    "m31 = A[3,1] / A[1,1]\n",
    "E31 = diagm(0 => ones(3)) # Identidate\n",
    "E31[3,1] = -m31\n",
    "E31"
   ]
  },
  {
   "cell_type": "code",
   "execution_count": 87,
   "metadata": {},
   "outputs": [
    {
     "data": {
      "text/plain": [
       "3×3 Array{Float64,2}:\n",
       " 4.0   3.0    2.0\n",
       " 0.0   3.5   -2.0\n",
       " 0.0  -2.75  -0.5"
      ]
     },
     "execution_count": 87,
     "metadata": {},
     "output_type": "execute_result"
    }
   ],
   "source": [
    "E31 * E21 * A"
   ]
  },
  {
   "cell_type": "code",
   "execution_count": 88,
   "metadata": {},
   "outputs": [
    {
     "data": {
      "text/plain": [
       "3×3 Array{Float64,2}:\n",
       "  1.0   0.0  0.0\n",
       " -0.5   1.0  0.0\n",
       " -0.25  0.0  1.0"
      ]
     },
     "execution_count": 88,
     "metadata": {},
     "output_type": "execute_result"
    }
   ],
   "source": [
    "E31 * E21"
   ]
  },
  {
   "cell_type": "code",
   "execution_count": 89,
   "metadata": {},
   "outputs": [
    {
     "data": {
      "text/plain": [
       "3×3 Array{Float64,2}:\n",
       " 4.0   3.0    2.0\n",
       " 0.0   3.5   -2.0\n",
       " 0.0  -2.75  -0.5"
      ]
     },
     "execution_count": 89,
     "metadata": {},
     "output_type": "execute_result"
    }
   ],
   "source": [
    "A2 = E31 * E21 * A"
   ]
  },
  {
   "cell_type": "code",
   "execution_count": 90,
   "metadata": {},
   "outputs": [
    {
     "data": {
      "text/plain": [
       "3×3 Array{Float64,2}:\n",
       " 1.0  0.0       0.0\n",
       " 0.0  1.0       0.0\n",
       " 0.0  0.785714  1.0"
      ]
     },
     "execution_count": 90,
     "metadata": {},
     "output_type": "execute_result"
    }
   ],
   "source": [
    "m32 = A2[3,2] / A2[2,2]\n",
    "E32 = diagm(0 => ones(3)) # Identidate\n",
    "E32[3,2] = -m32\n",
    "E32"
   ]
  },
  {
   "cell_type": "code",
   "execution_count": 91,
   "metadata": {},
   "outputs": [
    {
     "data": {
      "text/plain": [
       "3×3 Array{Float64,2}:\n",
       " 4.0  3.0   2.0    \n",
       " 0.0  3.5  -2.0    \n",
       " 0.0  0.0  -2.07143"
      ]
     },
     "execution_count": 91,
     "metadata": {},
     "output_type": "execute_result"
    }
   ],
   "source": [
    "E32 * A2"
   ]
  },
  {
   "cell_type": "code",
   "execution_count": 92,
   "metadata": {},
   "outputs": [
    {
     "data": {
      "text/plain": [
       "3×3 Array{Float64,2}:\n",
       " 4.0          3.0   2.0    \n",
       " 0.0          3.5  -2.0    \n",
       " 2.22045e-16  0.0  -2.07143"
      ]
     },
     "execution_count": 92,
     "metadata": {},
     "output_type": "execute_result"
    }
   ],
   "source": [
    "E32 * E31 * E21 * A"
   ]
  },
  {
   "cell_type": "code",
   "execution_count": 93,
   "metadata": {},
   "outputs": [
    {
     "data": {
      "text/plain": [
       "3×3 Array{Float64,2}:\n",
       "  1.0       0.0       0.0\n",
       " -0.5       1.0       0.0\n",
       " -0.642857  0.785714  1.0"
      ]
     },
     "execution_count": 93,
     "metadata": {},
     "output_type": "execute_result"
    }
   ],
   "source": [
    "E32 * E31 * E21"
   ]
  },
  {
   "cell_type": "code",
   "execution_count": 94,
   "metadata": {},
   "outputs": [
    {
     "data": {
      "text/plain": [
       "3×3 Array{Float64,2}:\n",
       " 1.0    0.0       0.0\n",
       " 0.5    1.0       0.0\n",
       " 0.25  -0.785714  1.0"
      ]
     },
     "execution_count": 94,
     "metadata": {},
     "output_type": "execute_result"
    }
   ],
   "source": [
    "inv(E32 * E31 * E21)"
   ]
  },
  {
   "cell_type": "code",
   "execution_count": 95,
   "metadata": {},
   "outputs": [
    {
     "data": {
      "text/plain": [
       "3×3 Array{Float64,2}:\n",
       " 1.0  0.0  0.0\n",
       " 0.5  1.0  0.0\n",
       " 0.0  0.0  1.0"
      ]
     },
     "execution_count": 95,
     "metadata": {},
     "output_type": "execute_result"
    }
   ],
   "source": [
    "inv(E21)"
   ]
  },
  {
   "cell_type": "code",
   "execution_count": 96,
   "metadata": {},
   "outputs": [
    {
     "data": {
      "text/plain": [
       "3×3 Array{Float64,2}:\n",
       " 1.0   0.0  0.0\n",
       " 0.0   1.0  0.0\n",
       " 0.25  0.0  1.0"
      ]
     },
     "execution_count": 96,
     "metadata": {},
     "output_type": "execute_result"
    }
   ],
   "source": [
    "inv(E31)"
   ]
  },
  {
   "cell_type": "code",
   "execution_count": 97,
   "metadata": {},
   "outputs": [
    {
     "data": {
      "text/plain": [
       "3×3 Array{Float64,2}:\n",
       " 1.0   0.0       0.0\n",
       " 0.0   1.0       0.0\n",
       " 0.0  -0.785714  1.0"
      ]
     },
     "execution_count": 97,
     "metadata": {},
     "output_type": "execute_result"
    }
   ],
   "source": [
    "inv(E32)"
   ]
  },
  {
   "cell_type": "code",
   "execution_count": 98,
   "metadata": {},
   "outputs": [
    {
     "data": {
      "text/plain": [
       "3×3 Array{Float64,2}:\n",
       " 1.0    0.0       0.0\n",
       " 0.5    1.0       0.0\n",
       " 0.25  -0.785714  1.0"
      ]
     },
     "execution_count": 98,
     "metadata": {},
     "output_type": "execute_result"
    }
   ],
   "source": [
    "inv(E21) * inv(E31) * inv(E32)"
   ]
  },
  {
   "cell_type": "code",
   "execution_count": 99,
   "metadata": {},
   "outputs": [
    {
     "data": {
      "text/plain": [
       "3×3 Array{Float64,2}:\n",
       " 1.0    0.0       0.0\n",
       " 0.5    1.0       0.0\n",
       " 0.25  -0.785714  1.0"
      ]
     },
     "execution_count": 99,
     "metadata": {},
     "output_type": "execute_result"
    }
   ],
   "source": [
    "L = diagm(0 => ones(3))\n",
    "L[2,1] = m21\n",
    "L[3,1] = m31\n",
    "L[3,2] = m32\n",
    "L"
   ]
  },
  {
   "cell_type": "code",
   "execution_count": 100,
   "metadata": {},
   "outputs": [
    {
     "data": {
      "text/plain": [
       "3×3 Array{Float64,2}:\n",
       " 4.0          3.0   2.0    \n",
       " 0.0          3.5  -2.0    \n",
       " 2.22045e-16  0.0  -2.07143"
      ]
     },
     "execution_count": 100,
     "metadata": {},
     "output_type": "execute_result"
    }
   ],
   "source": [
    "U = E32 * E31 * E21 * A"
   ]
  },
  {
   "cell_type": "code",
   "execution_count": 101,
   "metadata": {},
   "outputs": [
    {
     "data": {
      "text/plain": [
       "3×3 Array{Float64,2}:\n",
       " 4.0   3.0   2.0\n",
       " 2.0   5.0  -1.0\n",
       " 1.0  -2.0   0.0"
      ]
     },
     "execution_count": 101,
     "metadata": {},
     "output_type": "execute_result"
    }
   ],
   "source": [
    "L * U"
   ]
  },
  {
   "cell_type": "code",
   "execution_count": 102,
   "metadata": {},
   "outputs": [
    {
     "data": {
      "text/plain": [
       "3×3 Array{Float64,2}:\n",
       " 0.0          0.0  0.0\n",
       " 0.0          0.0  0.0\n",
       " 2.22045e-16  0.0  0.0"
      ]
     },
     "execution_count": 102,
     "metadata": {},
     "output_type": "execute_result"
    }
   ],
   "source": [
    "L * U - A"
   ]
  },
  {
   "cell_type": "code",
   "execution_count": 103,
   "metadata": {},
   "outputs": [
    {
     "data": {
      "text/plain": [
       "3-element Array{Float64,1}:\n",
       " 0.9999999999999998\n",
       " 1.0000000000000002\n",
       " 1.0000000000000002"
      ]
     },
     "execution_count": 103,
     "metadata": {},
     "output_type": "execute_result"
    }
   ],
   "source": [
    "# A = L * U\n",
    "# Ax = b ⇒ LUx = b\n",
    "# x = U⁻¹L⁻¹b\n",
    "b = A * ones(3)\n",
    "(U \\ (L \\ b))"
   ]
  },
  {
   "cell_type": "code",
   "execution_count": 104,
   "metadata": {},
   "outputs": [
    {
     "data": {
      "text/plain": [
       "declu (generic function with 1 method)"
      ]
     },
     "execution_count": 104,
     "metadata": {},
     "output_type": "execute_result"
    }
   ],
   "source": [
    "function declu(A::Matrix; diagtol = 1e-12)\n",
    "    n = size(A, 1)\n",
    "    for j = 1:n-1\n",
    "        ajj = A[j,j]\n",
    "        if abs(ajj) <= diagtol\n",
    "            error(\"Diagonal muito próxima de 0\")\n",
    "        end\n",
    "        Lj = A[j,j+1:n]\n",
    "        for i = j+1:n\n",
    "            mij = A[i,j] / ajj\n",
    "            A[i,j+1:n] = A[i,j+1:n] - mij * Lj\n",
    "            A[i,j] = mij\n",
    "        end\n",
    "    end\n",
    "    # Crie L e U\n",
    "    # Veja o help do tril e do triu\n",
    "    return tril(A,-1) + I, triu(A)\n",
    "end"
   ]
  },
  {
   "cell_type": "code",
   "execution_count": 105,
   "metadata": {},
   "outputs": [
    {
     "data": {
      "text/plain": [
       "([1.0 0.0 0.0; -0.333333 1.0 0.0; 0.333333 0.285714 1.0], [3.0 1.0 2.0; 0.0 2.33333 1.66667; 0.0 0.0 2.85714])"
      ]
     },
     "execution_count": 105,
     "metadata": {},
     "output_type": "execute_result"
    }
   ],
   "source": [
    "A = [3.0 1 2; -1 2 1; 1 1 4]\n",
    "L, U = declu(copy(A))"
   ]
  },
  {
   "cell_type": "code",
   "execution_count": 106,
   "metadata": {},
   "outputs": [
    {
     "data": {
      "text/plain": [
       "3×3 Array{Float64,2}:\n",
       " 0.0  0.0           0.0        \n",
       " 0.0  0.0          -1.11022e-16\n",
       " 0.0  2.22045e-16   0.0        "
      ]
     },
     "execution_count": 106,
     "metadata": {},
     "output_type": "execute_result"
    }
   ],
   "source": [
    "L * U - A"
   ]
  },
  {
   "cell_type": "code",
   "execution_count": 107,
   "metadata": {},
   "outputs": [
    {
     "data": {
      "text/plain": [
       "0.0"
      ]
     },
     "execution_count": 107,
     "metadata": {},
     "output_type": "execute_result"
    }
   ],
   "source": [
    "A = rand(3, 3)\n",
    "L, U = declu(copy(A))\n",
    "norm(L * U - A)"
   ]
  },
  {
   "cell_type": "code",
   "execution_count": 108,
   "metadata": {},
   "outputs": [
    {
     "data": {
      "text/plain": [
       "3×3 Array{Float64,2}:\n",
       " 0.775188   0.682194  0.651778\n",
       " 0.177409   0.92936   0.596532\n",
       " 0.0800227  0.973119  0.479261"
      ]
     },
     "execution_count": 108,
     "metadata": {},
     "output_type": "execute_result"
    }
   ],
   "source": [
    "A = rand(3, 3)"
   ]
  },
  {
   "cell_type": "code",
   "execution_count": 109,
   "metadata": {},
   "outputs": [
    {
     "data": {
      "text/plain": [
       "3×3 Array{Float64,2}:\n",
       " 1.0        0.0       0.0\n",
       " 0.177409   1.0       0.0\n",
       " 0.0800227  0.973119  1.0"
      ]
     },
     "execution_count": 109,
     "metadata": {},
     "output_type": "execute_result"
    }
   ],
   "source": [
    "tril(A, -1) + I"
   ]
  },
  {
   "cell_type": "code",
   "execution_count": 110,
   "metadata": {},
   "outputs": [
    {
     "data": {
      "text/plain": [
       "3×3 Array{Float64,2}:\n",
       " 0.775188  0.682194  0.651778\n",
       " 0.0       0.92936   0.596532\n",
       " 0.0       0.0       0.479261"
      ]
     },
     "execution_count": 110,
     "metadata": {},
     "output_type": "execute_result"
    }
   ],
   "source": [
    "triu(A)"
   ]
  },
  {
   "cell_type": "markdown",
   "metadata": {},
   "source": [
    "No ponto atual, conseguimos resolver um sistema linear, sobre algumas\n",
    "condições. Temos um problema, no entanto, e se quisermos resolver\n",
    "mais de um sistema linear, e não tivermos todas os vetores do lado direito de imediato?"
   ]
  },
  {
   "cell_type": "markdown",
   "metadata": {},
   "source": [
    "Isso acontece com frequência em muitas aplicações. Em particular, em otimização linear e não-linear com restrições lineares, essa situação é bastante comum. Também para o cálculo de autovalores e autovetores de uma matriz, existe um método que faz isso. De maneira geral, é como se a matriz $A$ fosse uma parte fixa de um modelo e o vetor $b$ fosse uma parte móvel."
   ]
  },
  {
   "cell_type": "markdown",
   "metadata": {},
   "source": [
    "Se precisamos resolver muitos sistemas com a mesma matriz $A$,\n",
    "e começarmos do zero todos eles, teremos uma complexidade de ordem $n^3$ **para cada iteração desse método**.\n",
    "No entanto, se tivermos os valores de $m_{ij}$, podemos fazer as operações necessárias\n",
    "apenas no vetor do lado direito."
   ]
  },
  {
   "cell_type": "markdown",
   "metadata": {},
   "source": [
    "Note que temos $\\dfrac{(n-1)n}{2}$ elementos $m_{ij}$ para guardar.\n",
    "Não por acaso, eles equivalem a cada um dos zeros da matriz $A$\n",
    "final.\n",
    "Sendo assim, podemos **utilizar a própria matriz $A$ para guardar $m_{ij}$.**"
   ]
  },
  {
   "cell_type": "markdown",
   "metadata": {},
   "source": [
    "Note também, que precisamos guardar as permutações que foram feitas, pois as linhas do vetor do lado direito também precisam ser trocadas.\n",
    "Por enquanto, para facilitar o entendimento, vamos considerar a eliminação sem pivoteamento novamente."
   ]
  },
  {
   "cell_type": "code",
   "execution_count": 111,
   "metadata": {},
   "outputs": [
    {
     "data": {
      "text/plain": [
       "declu (generic function with 1 method)"
      ]
     },
     "execution_count": 111,
     "metadata": {},
     "output_type": "execute_result"
    }
   ],
   "source": [
    "function declu(A::Matrix; diagtol = 1e-12)\n",
    "    n = size(A, 2)\n",
    "    for j = 1:n-1\n",
    "        ajj = A[j,j]\n",
    "        if abs(ajj) <= diagtol\n",
    "            error(\"Diagonal muito próxima de 0\")\n",
    "        end\n",
    "        for i = j+1:n\n",
    "            mij = A[i,j] / ajj\n",
    "            A[i,j] = mij\n",
    "            A[i,j+1:n] -= mij * A[j,j+1:n]\n",
    "        end\n",
    "    end\n",
    "    return A\n",
    "end"
   ]
  },
  {
   "cell_type": "markdown",
   "metadata": {},
   "source": [
    "Também precisamos criar uma função para aplicar os valores de $m_{ij}$ à um vetor $b$.\n",
    "No entanto, veja que podemos ir direto ao objetivo e aproveitar e resolver o sistema logo.\n",
    "Note que a aplicação dos $m_{ij}$ modifica o vetor $b$, e além disso criamos um novo vetor $x$. Isso quer dizer que estamos\n",
    "- perdendo o $b$ original; e\n",
    "- gastando mais memória com $x$.\n",
    "\n",
    "Podemos resolver um desses problemas. As opções são\n",
    "1. Copiar o $b$ para o $x$, aplicar $m_{ij}$ no $x$ e resolver o sistema modificando o $x$ para ser a solução no fim; ou\n",
    "2. Aplicar $m_{ij}$ em $b$, e resolver o sistema modificando o $b$ para ser a solução no fim."
   ]
  },
  {
   "cell_type": "markdown",
   "metadata": {},
   "source": [
    "A opção 1 resolve o problema de perder $b$. Ao fim teremos $b$ e um novo $x$ que será a solução de $Ax = b$.\n",
    "\n",
    "A opção 2 resolve o problema de gastar memória. Perderemos $b$, mas teremos a solução sem gasto de memória adicional."
   ]
  },
  {
   "cell_type": "markdown",
   "metadata": {},
   "source": [
    "A segunda opção é melhor pois se quisermos manter $b$, podemos copiar $b$ antes de chamar a função."
   ]
  },
  {
   "cell_type": "code",
   "execution_count": 112,
   "metadata": {},
   "outputs": [],
   "source": [
    "#=\n",
    "Entrada: A: n×n onde a parte triangular superior é corresponde ao resultado\n",
    "    da eliminação Gaussiana, e a parte triangular inferior sem a diagonal\n",
    "    corresponde aos valores mᵢⱼ\n",
    "         b: n   que será modificado para guardar a solução do sistema.\n",
    "\n",
    "1. Para i de 1 a n\n",
    "    1. Para j de 1 a i-1\n",
    "        1. Faça bᵢ ← bᵢ - aᵢⱼbⱼ\n",
    "2. Para 1 de n à 1, voltando\n",
    "    1. s ← bᵢ\n",
    "    2. Para j de i+1 à n\n",
    "        1. s ← s - aᵢⱼbⱼ\n",
    "    3. bᵢ = s/aᵢᵢ\n",
    "=#"
   ]
  },
  {
   "cell_type": "code",
   "execution_count": 113,
   "metadata": {},
   "outputs": [
    {
     "data": {
      "text/plain": [
       "resolvelu (generic function with 1 method)"
      ]
     },
     "execution_count": 113,
     "metadata": {},
     "output_type": "execute_result"
    }
   ],
   "source": [
    "function resolvelu(A, b)\n",
    "    n = length(b)\n",
    "    # Implemente\n",
    "    return b\n",
    "end"
   ]
  },
  {
   "cell_type": "code",
   "execution_count": 114,
   "metadata": {},
   "outputs": [
    {
     "data": {
      "text/plain": [
       "3-element Array{Float64,1}:\n",
       " 6.0\n",
       " 2.0\n",
       " 6.0"
      ]
     },
     "execution_count": 114,
     "metadata": {},
     "output_type": "execute_result"
    }
   ],
   "source": [
    "A = [3.0 1 2; -1 2 1; 1 1 4]\n",
    "b = A * ones(3)\n",
    "\n",
    "declu(A)\n",
    "resolvelu(A, b)"
   ]
  },
  {
   "cell_type": "markdown",
   "metadata": {},
   "source": [
    "Vamos analisar a primeira parte de `resolvelu` com mais detalhes, pensando num caso 3x3."
   ]
  },
  {
   "cell_type": "code",
   "execution_count": 115,
   "metadata": {},
   "outputs": [],
   "source": [
    "#= x é o valor de saída\n",
    "Começo x₁ = b₁, x₂ = b₂, x₃ = b₃\n",
    "j = 1\n",
    "  i = 2\n",
    "    x₂ ← x₂ - m₂₁x₁\n",
    "  i = 3\n",
    "    x₃ ← x₃ - m₃₁x₁\n",
    "j = 2\n",
    "  i = 3\n",
    "    x₃ ← x₃ - m₃₂x₂\n",
    "=#"
   ]
  },
  {
   "cell_type": "markdown",
   "metadata": {},
   "source": [
    "No final desse processo temos as seguintes relações"
   ]
  },
  {
   "cell_type": "markdown",
   "metadata": {},
   "source": [
    "\\begin{align}\\left\\{\\begin{array}{rcl}\n",
    "x_1 & = & b_1 \\\\\n",
    "x_2 & = & b_2 - m_{21} x_1 \\\\\n",
    "x_3 & = & b_3 - m_{31} x_1 - m_{32} x_2.\n",
    "\\end{array}\\right.\n",
    "\\end{align}"
   ]
  },
  {
   "cell_type": "markdown",
   "metadata": {},
   "source": [
    "Isso quer dizer que"
   ]
  },
  {
   "cell_type": "markdown",
   "metadata": {},
   "source": [
    "\\begin{align}\\left\\{\n",
    "\\begin{array}{rcrcrcl}\n",
    "      x_1 & &           & &     & = & b_1 \\\\\n",
    "m_{21}x_1 &+&       x_2 & &     & = & b_2 \\\\\n",
    "m_{31}x_1 &+& m_{32}x_2 &+& x_3 & = & b_3\n",
    "\\end{array}\\right.\n",
    "\\end{align}"
   ]
  },
  {
   "cell_type": "markdown",
   "metadata": {},
   "source": [
    "Que corresponde ao sistema linear $Lx = b$, onde $L$ é a matriz"
   ]
  },
  {
   "cell_type": "markdown",
   "metadata": {},
   "source": [
    "$$\\left[\\begin{array}{ccc}\n",
    "1 & 0 & 0 \\\\\n",
    "m_{21} & 1 & 0 \\\\\n",
    "m_{31} & m_{32} & 1\n",
    "\\end{array}\\right].$$"
   ]
  },
  {
   "cell_type": "markdown",
   "metadata": {},
   "source": [
    "Isso quer dizer que fazer eliminação Gaussiana em $\\left[\\begin{array}{cc}A & b\\end{array}\\right]$ é equivalente a fazer eliminação Gaussiana apenas em $A$, guardar $m_{ij}$ em $L$ e calcular $L^{-1}b$. Note que $\\det(L) = 1$ e por isso sempre existe a inversa."
   ]
  },
  {
   "cell_type": "markdown",
   "metadata": {},
   "source": [
    "Chamando a matriz resultante da eliminação Gaussiana em $A$ de $U$, podemos dizer que começamos com o sistema\n",
    "$$ Ax = b, $$\n",
    "e acabamos com o sistema\n",
    "$$ Ux = L^{-1}b. $$"
   ]
  },
  {
   "cell_type": "markdown",
   "metadata": {},
   "source": [
    "Mas então podemos fazer\n",
    "$$ LUx = b. $$"
   ]
  },
  {
   "cell_type": "markdown",
   "metadata": {},
   "source": [
    "Será que $A = LU$? A resposta é sim, pois os valores de $x$ e $b$ não são usados para se calcular nem $L$ nem $U$. Portanto, podemos mudar $x$ e obter um $b$ correspondente, e os dois sistemas continuarão válidos. Outra maneira de ver isso é subtrair os dois sistemas, obtendo $(A - LU)x = 0$, e variar $x$ para cada coluna da identidade."
   ]
  },
  {
   "cell_type": "code",
   "execution_count": 116,
   "metadata": {},
   "outputs": [
    {
     "data": {
      "text/plain": [
       "5×5 Array{Float64,2}:\n",
       "  0.0632371   0.86319    0.439458   0.113218    0.697406\n",
       "  7.44243    -6.35889   -2.99073    0.0425465  -4.96216 \n",
       "  6.04792     0.710897  -0.191518  -0.200313   -0.432644\n",
       " 15.4427      1.96257    3.55101   -0.427612    1.30531 \n",
       "  3.41738     0.351518   1.96782   -1.96911     3.49893 "
      ]
     },
     "execution_count": 116,
     "metadata": {},
     "output_type": "execute_result"
    }
   ],
   "source": [
    "A = rand(5, 5)\n",
    "B = copy(A)\n",
    "declu(A)"
   ]
  },
  {
   "cell_type": "code",
   "execution_count": 117,
   "metadata": {},
   "outputs": [
    {
     "ename": "UndefVarError",
     "evalue": "UndefVarError: eye not defined",
     "output_type": "error",
     "traceback": [
      "UndefVarError: eye not defined",
      "",
      "Stacktrace:",
      " [1] top-level scope at In[117]:1"
     ]
    }
   ],
   "source": [
    "L = tril(A, -1) + eye(5)"
   ]
  },
  {
   "cell_type": "code",
   "execution_count": 118,
   "metadata": {},
   "outputs": [
    {
     "data": {
      "text/plain": [
       "5×5 Array{Float64,2}:\n",
       " 0.0632371   0.86319   0.439458   0.113218    0.697406\n",
       " 0.0        -6.35889  -2.99073    0.0425465  -4.96216 \n",
       " 0.0         0.0      -0.191518  -0.200313   -0.432644\n",
       " 0.0         0.0       0.0       -0.427612    1.30531 \n",
       " 0.0         0.0       0.0        0.0         3.49893 "
      ]
     },
     "execution_count": 118,
     "metadata": {},
     "output_type": "execute_result"
    }
   ],
   "source": [
    "U = triu(A)"
   ]
  },
  {
   "cell_type": "code",
   "execution_count": 119,
   "metadata": {},
   "outputs": [
    {
     "ename": "DimensionMismatch",
     "evalue": "DimensionMismatch(\"A has dimensions (3,3) but B has dimensions (5,5)\")",
     "output_type": "error",
     "traceback": [
      "DimensionMismatch(\"A has dimensions (3,3) but B has dimensions (5,5)\")",
      "",
      "Stacktrace:",
      " [1] gemm_wrapper!(::Array{Float64,2}, ::Char, ::Char, ::Array{Float64,2}, ::Array{Float64,2}) at /buildworker/worker/package_linux64/build/usr/share/julia/stdlib/v1.1/LinearAlgebra/src/matmul.jl:439",
      " [2] mul! at /buildworker/worker/package_linux64/build/usr/share/julia/stdlib/v1.1/LinearAlgebra/src/matmul.jl:144 [inlined]",
      " [3] *(::Array{Float64,2}, ::Array{Float64,2}) at /buildworker/worker/package_linux64/build/usr/share/julia/stdlib/v1.1/LinearAlgebra/src/matmul.jl:142",
      " [4] top-level scope at In[119]:1"
     ]
    }
   ],
   "source": [
    "L * U"
   ]
  },
  {
   "cell_type": "code",
   "execution_count": 120,
   "metadata": {},
   "outputs": [
    {
     "ename": "DimensionMismatch",
     "evalue": "DimensionMismatch(\"A has dimensions (3,3) but B has dimensions (5,5)\")",
     "output_type": "error",
     "traceback": [
      "DimensionMismatch(\"A has dimensions (3,3) but B has dimensions (5,5)\")",
      "",
      "Stacktrace:",
      " [1] gemm_wrapper!(::Array{Float64,2}, ::Char, ::Char, ::Array{Float64,2}, ::Array{Float64,2}) at /buildworker/worker/package_linux64/build/usr/share/julia/stdlib/v1.1/LinearAlgebra/src/matmul.jl:439",
      " [2] mul! at /buildworker/worker/package_linux64/build/usr/share/julia/stdlib/v1.1/LinearAlgebra/src/matmul.jl:144 [inlined]",
      " [3] *(::Array{Float64,2}, ::Array{Float64,2}) at /buildworker/worker/package_linux64/build/usr/share/julia/stdlib/v1.1/LinearAlgebra/src/matmul.jl:142",
      " [4] top-level scope at In[120]:1"
     ]
    }
   ],
   "source": [
    "B - L * U"
   ]
  },
  {
   "cell_type": "markdown",
   "metadata": {},
   "source": [
    "Concluindo, o processo de eliminação Gaussiana nos dá uma maneira de representar $A$ que depende de duas matrizes mais simples. Chamamos essa maneira de **fatoração LU**."
   ]
  },
  {
   "cell_type": "markdown",
   "metadata": {},
   "source": [
    "Existem várias fatorações matriciais. Algumas são bem conhecidas, e algumas são bem específicas. A fatoração LU é a mais famosa, pois não depende de nenhuma propriedade especial da matriz para existe, com exceção do Teorema que passamos."
   ]
  },
  {
   "cell_type": "markdown",
   "metadata": {},
   "source": [
    "Dado a fatoração $LU$ da matriz $A$, não iremos mais pensar em resolver $Ax = b$ como a aplicação da eliminação Gaussiana, e sim como a resolução de sistemas triangulares.\n",
    "\n",
    "Dado $Ax = b$, e $A = LU$, temos\n",
    "$$ LUx = b. $$\n",
    "Para resolver esse sistema, fazemos $Ux = y$, obtendo\n",
    "$$ \\left\\{\\begin{array}{rcl}\n",
    "Ly & = & b \\\\\n",
    "Ux & = & y.\n",
    "\\end{array}\\right. $$"
   ]
  },
  {
   "cell_type": "markdown",
   "metadata": {},
   "source": [
    "Dessa maneira, fica óbvio que resolvemos dois sistemas triangulares."
   ]
  },
  {
   "cell_type": "markdown",
   "metadata": {},
   "source": [
    "Para resolver o sistema triangular $Ly = b$, veja que\n",
    "$$\\left\\{\\begin{array}{rcl}\n",
    "y_1 & = & b_1 \\\\\n",
    "y_2 & = & b_2 - m_{21}y_1 \\\\\n",
    "y_3 & = & b_3 - m_{31}y_1 - m_{32}y_2 \\\\\n",
    "\\vdots & & \\vdots \\\\\n",
    "y_n & = & b_n - \\sum_{j=1}^{n-1} m_{nj} y_j.\n",
    "\\end{array}\\right.$$"
   ]
  },
  {
   "cell_type": "markdown",
   "metadata": {},
   "source": [
    "Em outras palavras,\n",
    "$$ y_i = b_i - \\sum_{j = 1}^{i - 1}m_{ij} y_j, \\qquad i = 1,\\dots,n. $$"
   ]
  },
  {
   "cell_type": "markdown",
   "metadata": {},
   "source": [
    "Veja que se calculamos na ordem natural $1,\\dots,n$, teremos os valores necessários para definir todos os $y_i$."
   ]
  },
  {
   "cell_type": "markdown",
   "metadata": {},
   "source": [
    "Abaixo vemos o algoritmo para resolver esse sistema, e vamos substituir $b$ de entrada pelo valor de $y$ de saída."
   ]
  },
  {
   "cell_type": "code",
   "execution_count": 121,
   "metadata": {},
   "outputs": [],
   "source": [
    "#=\n",
    "Entrada: L: nxn triangular inferior com diagonal de 1\n",
    "         b: n\n",
    "1. Para i de 1 à n-1\n",
    "    1. Para j de 1 à i-1\n",
    "        1. bᵢ ← bᵢ - mᵢⱼ bⱼ\n",
    "=#"
   ]
  },
  {
   "cell_type": "markdown",
   "metadata": {},
   "source": [
    "Comparando com o algoritmo que faz a eliminação Gaussiana em $b$, vemos uma leva diferença"
   ]
  },
  {
   "cell_type": "code",
   "execution_count": 122,
   "metadata": {},
   "outputs": [],
   "source": [
    "#= Algoritmo que faz elim. Gauss. em b\n",
    "1. Para j de 1 a n-1\n",
    "    1. Para i de j+1 a n\n",
    "        1. Faça bᵢ ← bᵢ - aᵢⱼbⱼ\n",
    "=#"
   ]
  },
  {
   "cell_type": "markdown",
   "metadata": {},
   "source": [
    "A ordem desse algoritmo está diferente, e os limites para os loops de $i$ e $j$ também. No entanto, a operação que é calculada é a mesma (lembre-se que $a_{ij} = m_{ij}$)."
   ]
  },
  {
   "cell_type": "markdown",
   "metadata": {},
   "source": [
    "### Fatoração LU com pivoteamento"
   ]
  },
  {
   "cell_type": "markdown",
   "metadata": {},
   "source": [
    "Como vimos anteriormente, a qualidade da solução do sistema pela eliminação Gaussiana, muda drasticamente quanto utilizamos pivotamento. Na fatoração LU, isso também é verdade."
   ]
  },
  {
   "cell_type": "markdown",
   "metadata": {},
   "source": [
    "Agora que guardamos a matriz $L$, o pivoteamento também irá afetá-la. Além disso, queremos calcular a fatoração sem a necessidade de um vetor do lado direito, então precisamos guardar o pivoteamento feito para fazê-lo no vetor $b$ também."
   ]
  },
  {
   "cell_type": "code",
   "execution_count": 123,
   "metadata": {},
   "outputs": [
    {
     "data": {
      "text/plain": [
       "4×4 Array{Float64,2}:\n",
       "  1.0   3.0   0.0   1.0\n",
       "  2.0   1.0   1.0   1.0\n",
       " -3.0  -1.0  -1.0  -3.0\n",
       " -1.0  -1.0   0.0  -1.0"
      ]
     },
     "execution_count": 123,
     "metadata": {},
     "output_type": "execute_result"
    }
   ],
   "source": [
    "A = [ 1  3  0  1;\n",
    "      2  1  1  1;\n",
    "     -3 -1 -1 -3;\n",
    "     -1 -1  0 -1.0]\n",
    "B = copy(A)"
   ]
  },
  {
   "cell_type": "code",
   "execution_count": 124,
   "metadata": {},
   "outputs": [
    {
     "data": {
      "text/plain": [
       "4-element Array{Int64,1}:\n",
       " 1\n",
       " 2\n",
       " 3\n",
       " 4"
      ]
     },
     "execution_count": 124,
     "metadata": {},
     "output_type": "execute_result"
    }
   ],
   "source": [
    "p = [1;2;3;4]"
   ]
  },
  {
   "cell_type": "code",
   "execution_count": 125,
   "metadata": {},
   "outputs": [
    {
     "data": {
      "text/plain": [
       "4×4 Array{Float64,2}:\n",
       " -3.0  -1.0  -1.0  -3.0\n",
       "  2.0   1.0   1.0   1.0\n",
       "  1.0   3.0   0.0   1.0\n",
       " -1.0  -1.0   0.0  -1.0"
      ]
     },
     "execution_count": 125,
     "metadata": {},
     "output_type": "execute_result"
    }
   ],
   "source": [
    "# pivô: a₃₁, L₁ ↔ L₃\n",
    "p[3], p[1] = p[1], p[3]\n",
    "A[3,:], A[1,:] = A[1,:], A[3,:]\n",
    "A"
   ]
  },
  {
   "cell_type": "code",
   "execution_count": 126,
   "metadata": {},
   "outputs": [
    {
     "data": {
      "text/plain": [
       "4×4 Array{Float64,2}:\n",
       " -3.0       -1.0       -1.0       -3.0\n",
       " -0.666667   0.333333   0.333333  -1.0\n",
       " -0.333333   2.66667   -0.333333   0.0\n",
       "  0.333333  -0.666667   0.333333   0.0"
      ]
     },
     "execution_count": 126,
     "metadata": {},
     "output_type": "execute_result"
    }
   ],
   "source": [
    "m = A[2:4,1] / A[1,1]\n",
    "A[2:4,1] = m\n",
    "A[2:4,2:4] -= m * A[1,2:4]'\n",
    "A"
   ]
  },
  {
   "cell_type": "code",
   "execution_count": 127,
   "metadata": {},
   "outputs": [
    {
     "data": {
      "text/plain": [
       "4×4 Array{Float64,2}:\n",
       " -3.0       -1.0       -1.0       -3.0\n",
       " -0.333333   2.66667   -0.333333   0.0\n",
       " -0.666667   0.333333   0.333333  -1.0\n",
       "  0.333333  -0.666667   0.333333   0.0"
      ]
     },
     "execution_count": 127,
     "metadata": {},
     "output_type": "execute_result"
    }
   ],
   "source": [
    "# pivô: a₃₂, L₂ ↔ L₃\n",
    "p[3], p[2] = p[2], p[3]\n",
    "A[3,:], A[2,:] = A[2,:], A[3,:]\n",
    "A"
   ]
  },
  {
   "cell_type": "code",
   "execution_count": 128,
   "metadata": {
    "scrolled": true
   },
   "outputs": [
    {
     "data": {
      "text/plain": [
       "4×4 Array{Float64,2}:\n",
       " -3.0       -1.0      -1.0       -3.0\n",
       " -0.333333   2.66667  -0.333333   0.0\n",
       " -0.666667   0.125     0.375     -1.0\n",
       "  0.333333  -0.25      0.25       0.0"
      ]
     },
     "execution_count": 128,
     "metadata": {},
     "output_type": "execute_result"
    }
   ],
   "source": [
    "m = A[3:4,2] / A[2,2]\n",
    "A[3:4,2] = m\n",
    "A[3:4,3:4] -= m * A[2,3:4]'\n",
    "A"
   ]
  },
  {
   "cell_type": "code",
   "execution_count": 129,
   "metadata": {},
   "outputs": [],
   "source": [
    "# pivô: a₃₃, não há troca"
   ]
  },
  {
   "cell_type": "code",
   "execution_count": 130,
   "metadata": {},
   "outputs": [
    {
     "data": {
      "text/plain": [
       "4×4 Array{Float64,2}:\n",
       " -3.0       -1.0      -1.0       -3.0     \n",
       " -0.333333   2.66667  -0.333333   0.0     \n",
       " -0.666667   0.125     0.375     -1.0     \n",
       "  0.333333  -0.25      0.666667   0.666667"
      ]
     },
     "execution_count": 130,
     "metadata": {},
     "output_type": "execute_result"
    }
   ],
   "source": [
    "m = A[4,3] / A[3,3]\n",
    "A[4,3] = m\n",
    "A[4,4] -= m * A[3,4]\n",
    "A"
   ]
  },
  {
   "cell_type": "code",
   "execution_count": 131,
   "metadata": {},
   "outputs": [
    {
     "ename": "UndefVarError",
     "evalue": "UndefVarError: eye not defined",
     "output_type": "error",
     "traceback": [
      "UndefVarError: eye not defined",
      "",
      "Stacktrace:",
      " [1] top-level scope at In[131]:1"
     ]
    }
   ],
   "source": [
    "L = tril(A, -1) + eye(4)"
   ]
  },
  {
   "cell_type": "code",
   "execution_count": 132,
   "metadata": {},
   "outputs": [
    {
     "data": {
      "text/plain": [
       "4×4 Array{Float64,2}:\n",
       " -3.0  -1.0      -1.0       -3.0     \n",
       "  0.0   2.66667  -0.333333   0.0     \n",
       "  0.0   0.0       0.375     -1.0     \n",
       "  0.0   0.0       0.0        0.666667"
      ]
     },
     "execution_count": 132,
     "metadata": {},
     "output_type": "execute_result"
    }
   ],
   "source": [
    "U = triu(A)"
   ]
  },
  {
   "cell_type": "code",
   "execution_count": 133,
   "metadata": {},
   "outputs": [
    {
     "ename": "UndefVarError",
     "evalue": "UndefVarError: eye not defined",
     "output_type": "error",
     "traceback": [
      "UndefVarError: eye not defined",
      "",
      "Stacktrace:",
      " [1] top-level scope at In[133]:1"
     ]
    }
   ],
   "source": [
    "P = eye(4)[p,:]"
   ]
  },
  {
   "cell_type": "markdown",
   "metadata": {},
   "source": [
    "O vetor $p$ corresponde à uma **matriz de permutação** $P$. Uma matriz de permutação é uma matriz obtida a partir de permutações de linhas e permutações de colunas na matriz identidade.\n",
    "- Se a matriz $P$ é obtida a partir de uma sequência de permutações nas **linhas** da matriz identidade, então a matriz $PA$ é a matriz resultante das mesmas permutações nas linhas de $A$. Nesse caso, dizemos que $P$ é uma **matriz de permutação de linhas**.\n",
    "- Análogo para colunas, e para a matriz $AP$."
   ]
  },
  {
   "cell_type": "markdown",
   "metadata": {},
   "source": [
    "O vetor $p$ tem os índices dessas linhas. Inicialmente, $p$ é um vetor com $p_i = i$, que significa que $P$ é a identidade. Cada modificação no passo XXX modifica elementos de $p$ e as linhas correspondentes de $P$."
   ]
  },
  {
   "cell_type": "markdown",
   "metadata": {},
   "source": [
    "Uma matriz de permutação de linhas também é uma matriz de permutação de colunas, mas com outras permutações (a priori indetermidanas)."
   ]
  },
  {
   "cell_type": "markdown",
   "metadata": {},
   "source": [
    "**Exercício:** Mostre que se $P$ é uma matriz de permutação de linhas, então $P^T$ é uma matriz de permutação de colunas."
   ]
  },
  {
   "cell_type": "markdown",
   "metadata": {},
   "source": [
    "Uma parte não trivial do processo da fatoração LU com pivoteamento é descobrir a relação entre $A$, $L$, $U$ e $P$. Como não dispomos do tempo, vamos simplesmente enunciar essa relação."
   ]
  },
  {
   "cell_type": "markdown",
   "metadata": {},
   "source": [
    "**Teo.:** Se $A$ é não-singular, o algoritmo de fatoração LU com pivoteamento parcial da matriz $A$ retorna matrizes $L$, $U$ e $P$ tais que\n",
    "$$ PA = LU. $$"
   ]
  },
  {
   "cell_type": "code",
   "execution_count": 134,
   "metadata": {},
   "outputs": [
    {
     "ename": "UndefVarError",
     "evalue": "UndefVarError: P not defined",
     "output_type": "error",
     "traceback": [
      "UndefVarError: P not defined",
      "",
      "Stacktrace:",
      " [1] top-level scope at In[134]:1"
     ]
    }
   ],
   "source": [
    "P * B - L * U"
   ]
  },
  {
   "cell_type": "code",
   "execution_count": 135,
   "metadata": {},
   "outputs": [
    {
     "ename": "DimensionMismatch",
     "evalue": "DimensionMismatch(\"A has dimensions (3,3) but B has dimensions (4,4)\")",
     "output_type": "error",
     "traceback": [
      "DimensionMismatch(\"A has dimensions (3,3) but B has dimensions (4,4)\")",
      "",
      "Stacktrace:",
      " [1] gemm_wrapper!(::Array{Float64,2}, ::Char, ::Char, ::Array{Float64,2}, ::Array{Float64,2}) at /buildworker/worker/package_linux64/build/usr/share/julia/stdlib/v1.1/LinearAlgebra/src/matmul.jl:439",
      " [2] mul! at /buildworker/worker/package_linux64/build/usr/share/julia/stdlib/v1.1/LinearAlgebra/src/matmul.jl:144 [inlined]",
      " [3] *(::Array{Float64,2}, ::Array{Float64,2}) at /buildworker/worker/package_linux64/build/usr/share/julia/stdlib/v1.1/LinearAlgebra/src/matmul.jl:142",
      " [4] top-level scope at In[135]:1"
     ]
    }
   ],
   "source": [
    "B[p,:] - L * U"
   ]
  },
  {
   "cell_type": "markdown",
   "metadata": {},
   "source": [
    "\\begin{align}\n",
    "Ax & = b \\\\\n",
    "PAx & = Pb \\\\\n",
    "LUx & = Pb.\n",
    "\\end{align}"
   ]
  },
  {
   "cell_type": "markdown",
   "metadata": {},
   "source": [
    "Daí, temos\n",
    "$$\\left\\{\n",
    "\\begin{array}{rcl}\n",
    "c & = & Pb \\\\\n",
    "Ly & = & c \\\\\n",
    "Ux & = & y\n",
    "\\end{array}\n",
    "\\right.$$"
   ]
  },
  {
   "cell_type": "code",
   "execution_count": 136,
   "metadata": {},
   "outputs": [
    {
     "data": {
      "text/plain": [
       "4-element Array{Float64,1}:\n",
       "  5.0\n",
       "  5.0\n",
       " -8.0\n",
       " -3.0"
      ]
     },
     "execution_count": 136,
     "metadata": {},
     "output_type": "execute_result"
    }
   ],
   "source": [
    "b = B * ones(4)"
   ]
  },
  {
   "cell_type": "code",
   "execution_count": 137,
   "metadata": {},
   "outputs": [
    {
     "ename": "DimensionMismatch",
     "evalue": "DimensionMismatch(\"B has first dimension 4 but needs 3\")",
     "output_type": "error",
     "traceback": [
      "DimensionMismatch(\"B has first dimension 4 but needs 3\")",
      "",
      "Stacktrace:",
      " [1] trtrs!(::Char, ::Char, ::Char, ::Array{Float64,2}, ::Array{Float64,1}) at /buildworker/worker/package_linux64/build/usr/share/julia/stdlib/v1.1/LinearAlgebra/src/lapack.jl:3340",
      " [2] \\ at /buildworker/worker/package_linux64/build/usr/share/julia/stdlib/v1.1/LinearAlgebra/src/triangular.jl:583 [inlined]",
      " [3] \\(::Array{Float64,2}, ::Array{Float64,1}) at /buildworker/worker/package_linux64/build/usr/share/julia/stdlib/v1.1/LinearAlgebra/src/generic.jl:899",
      " [4] top-level scope at In[137]:2"
     ]
    }
   ],
   "source": [
    "c = b[p]\n",
    "y = L \\ c\n",
    "x = U \\ y"
   ]
  },
  {
   "cell_type": "markdown",
   "metadata": {},
   "source": [
    "A implementação do algoritmo está abaixo."
   ]
  },
  {
   "cell_type": "code",
   "execution_count": 138,
   "metadata": {},
   "outputs": [
    {
     "data": {
      "text/plain": [
       "declupivot (generic function with 1 method)"
      ]
     },
     "execution_count": 138,
     "metadata": {},
     "output_type": "execute_result"
    }
   ],
   "source": [
    "function declupivot(A::Matrix; diagtol = 1e-12)\n",
    "    n = size(A, 2)\n",
    "    p = collect(1:n)\n",
    "    for j = 1:n-1\n",
    "        # Quem é o pivô\n",
    "        pivo, k = abs(A[j,j]), j\n",
    "        for i = j+1:n\n",
    "            if abs(A[i,j]) > pivo\n",
    "                pivo, k = abs(A[i,j]), i\n",
    "            end\n",
    "        end\n",
    "        if pivo <= diagtol\n",
    "            error(\"Matriz singular ou muito próxima de ser singular\")\n",
    "        end\n",
    "        \n",
    "        if k != j\n",
    "            p[k], p[j] = p[j], p[k]\n",
    "            A[[k;j],:] = A[[j;k],:]\n",
    "        end\n",
    "        ajj = A[j,j]\n",
    "        for i = j+1:n\n",
    "            mij = A[i,j] / ajj\n",
    "            A[i,j] = mij\n",
    "            A[i,j+1:n] -= mij * A[j,j+1:n]\n",
    "        end\n",
    "    end\n",
    "    return p\n",
    "end"
   ]
  },
  {
   "cell_type": "code",
   "execution_count": 139,
   "metadata": {},
   "outputs": [
    {
     "data": {
      "text/plain": [
       "4×4 Array{Float64,2}:\n",
       " -3.0       -1.0      -1.0       -3.0     \n",
       " -0.333333   2.66667  -0.333333   0.0     \n",
       " -0.666667   0.125     0.375     -1.0     \n",
       "  0.333333  -0.25      0.666667   0.666667"
      ]
     },
     "execution_count": 139,
     "metadata": {},
     "output_type": "execute_result"
    }
   ],
   "source": [
    "A = [ 1  3  0  1;\n",
    "      2  1  1  1;\n",
    "     -3 -1 -1 -3;\n",
    "     -1 -1  0 -1.0]\n",
    "p = declupivot(A)\n",
    "A"
   ]
  },
  {
   "cell_type": "markdown",
   "metadata": {},
   "source": [
    "## Exercícios"
   ]
  },
  {
   "cell_type": "markdown",
   "metadata": {},
   "source": [
    "Exercícios do capítulo 3 do livro Cálculo Numérico de Ruggiero e Lopes, com exceção daqueles que não competem ao assunto."
   ]
  },
  {
   "cell_type": "markdown",
   "metadata": {},
   "source": [
    "1. Sabendo que $P^TP = I$, mostre como resolver o sistema linear $A^T\\lambda = c$ usando a fatoração LU.\n",
    "1. Quando a matriz $A$ é sobrescrita pela fatoração $LU$, nada é perdido. Faça um algoritmo que descreve como calcular o produto $Ax$ pra um vetor $x$ quando a matriz $A$ foi sobrescrita. Compare o número de operações nesse produto com o número de operações no produto com $A$ na forma original.\n",
    "1. Escreva um algoritmo de fatoração LU e resolução de sistema para matrizes tridiagonais, usando como entrada apenas 3 vetores, correspondentes às diagonais existentes da matriz.\n",
    "1. Uma matriz singular pode não ter fatoração $LU$ da maneira que vimos. No entanto, é possível estender a fatoração para continuar o processo, mesmo se encontrarmos um zero na diagonal. Estude como fazer isso. Teste com matrizes cuja primeira coluna é nula. Compare com o `lu` já implementado no Julia.\n",
    "1. Uma matriz não quadrada também pode ter fatoração LU, estendo o conceito da questão anterior. Estude como fazer isso.\n",
    "1. *Uma matriz de banda é uma extensão da matriz tridiagonal. Uma matriz com bandas $a \\geq 0$ e $b \\geq 0$ é uma matriz $A$ com $a$ diagonais abaixo da diagonal e $b$ diagonais acima da diagonal. Se $a = b = 1$, a matriz é tridiagonal. Para representar uma matriz de banda $A \\in \\mathbb{R}^{n\\times n}$, costuma-se usar uma matriz $D \\in \\mathbb{R}^{1+a+b}\\times n$, onde cada linha corresponde à uma diagonal de $A$.\n",
    "Escreva um algoritmo que faz a fatoração LU dessa matriz de banda e resolve um sistema linear usando essa fatoração. Descreva a posição dos elementos de $A$ na matriz $D$.\n",
    "1. *O pivoteamento da fatoração LU é feito sempre que algum elemento da coluna abaixo da diagonal é maior que o elemento da diagonal. Porém, trocar linhas também é custoso, então podemos fazer um compromisso entre melhorar a estabilidade e diminuir a troca de linhas usando a condição a seguir:\n",
    "$$ \\mbox{se existe $i > j$ tal que } \\qquad\n",
    "|a_{ij}| > \\alpha |a_{jj}|,\n",
    "\\qquad \\mbox{ então faça a troca}. $$\n",
    "A constante $\\alpha \\geq 1$ define o nível do compromisso. Se $\\alpha = 1$ temos o pivotamento visto acima.\n",
    "Se $\\alpha \\rightarrow \\infty$, então a troca só é feita se $a_{jj} = 0$.\n",
    "Faça um algoritmo que implementa essa mudança, com $\\alpha$ sendo um parâmetro opcional de entrada.\n",
    "1. *O pivoteamento de linhas para diminuição da esparsidade pode ser feito buscando a linha que tem a maior quantidade de zeros. Deve-se apenas tomar cuidado para que não se piore demais a estabilidade do método.\n",
    "Modificando a condição acima, escreva e implemente o algoritmo que faz um pivoteamento buscando a esparsidade."
   ]
  }
 ],
 "metadata": {
  "@webio": {
   "lastCommId": null,
   "lastKernelId": null
  },
  "kernelspec": {
   "display_name": "Julia 1.1.1",
   "language": "julia",
   "name": "julia-1.1"
  },
  "language_info": {
   "file_extension": ".jl",
   "mimetype": "application/julia",
   "name": "julia",
   "version": "1.1.1"
  }
 },
 "nbformat": 4,
 "nbformat_minor": 1
}
