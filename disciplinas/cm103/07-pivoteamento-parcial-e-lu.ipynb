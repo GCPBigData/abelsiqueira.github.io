{
 "cells": [
  {
   "cell_type": "markdown",
   "metadata": {},
   "source": [
    "# Decomposição LU"
   ]
  },
  {
   "cell_type": "markdown",
   "metadata": {},
   "source": [
    "No ponto atual, conseguimos resolver um sistema linear, sobre algumas\n",
    "condições. Temos um problema, no entanto, e se quisermos resolver\n",
    "mais de um sistema linear, e não tivermos todas os vetores do lado direito de imediato?\n",
    "\n",
    "Por exemplo, considere o seguinte algoritmo\n",
    "\n",
    "1. Comece com $v_0 = (1,1,\\dots,1)$, $k = 0$\n",
    "2. Calcule $\\mu_k = \\Vert v_k\\Vert$,\n",
    "3. Calcule $w_k = v_k/\\mu_k$,\n",
    "4. Encontre $v_{k+1}$ resolvendo $Av_{k+1} = w_k$.\n",
    "5. Faça $k = k + 1$ e volte ao ponto 2."
   ]
  },
  {
   "cell_type": "markdown",
   "metadata": {},
   "source": [
    "Precisamos resolver muitos sistemas com a mesma matriz $A$.\n",
    "Ao usar a eliminação Gaussiana, precisamos aplicar as mesmas operações\n",
    "em $w_k$, e da maneira que está isso não é possível.\n",
    "\n",
    "No entanto, como já mencionamos antes, se tivermos os valores de $m_{ij}$,\n",
    "podemos refazer essas operações.\n",
    "Dessa maneira, seria vantajoso modificar o método para retornar também os\n",
    "elementos $m_{ij}$ e aí para cada vetor $b$ dado, aplicamos essas operações\n",
    "nele.\n",
    "\n",
    "Em outras palavras, modificamos o método de modo que dado $A$, retorna $U$ e os\n",
    "elementos $m_{2,1}, m_{3,1}, \\dots, m_{n,n}$.\n",
    "\n",
    "A partir disso, para resolver o sistema $Ax = b$, primeiro aplicamos\n",
    "$m_{2,1}, \\dots, m_{n,n}$ à $b$, obtendo $c$, e resolvemos $Ux = c$."
   ]
  },
  {
   "cell_type": "markdown",
   "metadata": {},
   "source": [
    "Não por acaso, os elementos $m_{2,1},\\dots,m_{n,n}$ nos permitem definir uma matriz\n",
    "$L$ dada por\n",
    "$$L_{i,j} = \\left\\{\\begin{array}{ll}\n",
    "m_{i,j}, & i > j \\\\\n",
    "1, & i = j \\\\\n",
    "0, & i < j,\n",
    "\\end{array}\\right.\n",
    "$$\n",
    "de modo que transformar $b$ em $c$ é simplesmente a resolução do sistema\n",
    "$b = Lc$, ou seja $c = L^{-1}b$."
   ]
  },
  {
   "cell_type": "markdown",
   "metadata": {},
   "source": [
    "Mais ainda, transformar $A$ em $U$ é também aplicar estas operações, ou seja\n",
    "$U = L^{-1}A$."
   ]
  },
  {
   "cell_type": "markdown",
   "metadata": {},
   "source": [
    "Daí, obtemos a seguinte relação $A = LU$, e um nome para esta modificação:\n",
    "\n",
    "## Decomposição LU"
   ]
  },
  {
   "cell_type": "code",
   "execution_count": 49,
   "metadata": {
    "collapsed": false
   },
   "outputs": [
    {
     "data": {
      "text/plain": [
       "dec_lu (generic function with 1 method)"
      ]
     },
     "execution_count": 49,
     "metadata": {},
     "output_type": "execute_result"
    }
   ],
   "source": [
    "function dec_lu(A; tol=1e-12)\n",
    "    m,n = size(A)\n",
    "    U = copy(A)\n",
    "    L = eye(m,n)\n",
    "    for j = 1:n\n",
    "        if abs(U[j,j]) < tol\n",
    "            error(\"U_{j,j} ≈ 0.0\")\n",
    "        end\n",
    "        for i = j+1:m\n",
    "            mij = U[i,j]/U[j,j]\n",
    "            L[i,j] = mij\n",
    "            U[i,j] = 0.0\n",
    "            for k = j+1:n\n",
    "                U[i,k] -= mij*U[j,k]\n",
    "            end\n",
    "        end\n",
    "    end\n",
    "    return L, U\n",
    "end"
   ]
  },
  {
   "cell_type": "code",
   "execution_count": 26,
   "metadata": {
    "collapsed": false
   },
   "outputs": [
    {
     "data": {
      "text/plain": [
       "(\n",
       "3x3 Array{Float64,2}:\n",
       "  1.0       0.0       0.0\n",
       " -0.333333  1.0       0.0\n",
       "  0.333333  0.285714  1.0,\n",
       "\n",
       "3x3 Array{Float64,2}:\n",
       " 3.0  1.0      2.0    \n",
       " 0.0  2.33333  1.66667\n",
       " 0.0  0.0      2.85714)"
      ]
     },
     "execution_count": 26,
     "metadata": {},
     "output_type": "execute_result"
    }
   ],
   "source": [
    "A = [3.0 1 2; -1 2 1; 1 1 4]\n",
    "L, U = dec_lu(A)"
   ]
  },
  {
   "cell_type": "code",
   "execution_count": 27,
   "metadata": {
    "collapsed": false
   },
   "outputs": [
    {
     "data": {
      "text/plain": [
       "3x3 Array{Float64,2}:\n",
       "  3.0  1.0  2.0\n",
       " -1.0  2.0  1.0\n",
       "  1.0  1.0  4.0"
      ]
     },
     "execution_count": 27,
     "metadata": {},
     "output_type": "execute_result"
    }
   ],
   "source": [
    "L*U"
   ]
  },
  {
   "cell_type": "code",
   "execution_count": 28,
   "metadata": {
    "collapsed": false
   },
   "outputs": [
    {
     "data": {
      "text/plain": [
       "3x3 Array{Float64,2}:\n",
       "  3.0  1.0  2.0\n",
       " -1.0  2.0  1.0\n",
       "  1.0  1.0  4.0"
      ]
     },
     "execution_count": 28,
     "metadata": {},
     "output_type": "execute_result"
    }
   ],
   "source": [
    "A"
   ]
  },
  {
   "cell_type": "markdown",
   "metadata": {},
   "source": [
    "Agora, para resolver o sistema $Ax = b$, fazemos\n",
    "$$ LUx = b, $$\n",
    "e fazendo $Ux = c$, temos\n",
    "$$ Lc = b \\\\\n",
    "Ux = c $$\n",
    "\n",
    "Isto é, resolvemos primeiro $Lc = b$ obtendo $c$, e depois\n",
    "$Ux = c$, obtendo $x$.\n",
    "\n",
    "Precisamos implementar a resolução de sistemas triangulares inferioriores."
   ]
  },
  {
   "cell_type": "code",
   "execution_count": 29,
   "metadata": {
    "collapsed": false
   },
   "outputs": [
    {
     "data": {
      "text/plain": [
       "tri_inf (generic function with 1 method)"
      ]
     },
     "execution_count": 29,
     "metadata": {},
     "output_type": "execute_result"
    }
   ],
   "source": [
    "function tri_inf(L, b)\n",
    "    n = length(b)\n",
    "    c = zeros(n)\n",
    "    for i = 1:n\n",
    "        c[i] = b[i]\n",
    "        for j = i-1:-1:1\n",
    "            c[i] -= L[i,j]*c[j]\n",
    "        end\n",
    "        c[i] = c[i]/L[i,i]\n",
    "    end\n",
    "    return c\n",
    "end"
   ]
  },
  {
   "cell_type": "code",
   "execution_count": 30,
   "metadata": {
    "collapsed": false
   },
   "outputs": [
    {
     "data": {
      "text/plain": [
       "3-element Array{Float64,1}:\n",
       " 6.0    \n",
       " 4.0    \n",
       " 2.85714"
      ]
     },
     "execution_count": 30,
     "metadata": {},
     "output_type": "execute_result"
    }
   ],
   "source": [
    "b = A*ones(3)\n",
    "c = tri_inf(L, b)"
   ]
  },
  {
   "cell_type": "code",
   "execution_count": 31,
   "metadata": {
    "collapsed": false
   },
   "outputs": [
    {
     "data": {
      "text/plain": [
       "3-element Array{Float64,1}:\n",
       " 1.0\n",
       " 1.0\n",
       " 1.0"
      ]
     },
     "execution_count": 31,
     "metadata": {},
     "output_type": "execute_result"
    }
   ],
   "source": [
    "# tri_sup.jl foi feito pelo aluno\n",
    "include(\"tri_sup.jl\")\n",
    "x = tri_sup(U, c)"
   ]
  },
  {
   "cell_type": "markdown",
   "metadata": {},
   "source": [
    "## Pivoteamento"
   ]
  },
  {
   "cell_type": "code",
   "execution_count": 32,
   "metadata": {
    "collapsed": false
   },
   "outputs": [
    {
     "data": {
      "text/plain": [
       "3-element Array{Float64,1}:\n",
       " 2.0\n",
       " 5.0\n",
       " 2.0"
      ]
     },
     "execution_count": 32,
     "metadata": {},
     "output_type": "execute_result"
    }
   ],
   "source": [
    "A = [0.0 1 1; 2 1 2; -1 -1 4]\n",
    "b = A*ones(3)"
   ]
  },
  {
   "cell_type": "code",
   "execution_count": 3,
   "metadata": {
    "collapsed": false
   },
   "outputs": [
    {
     "data": {
      "text/plain": [
       "-11.0"
      ]
     },
     "execution_count": 3,
     "metadata": {},
     "output_type": "execute_result"
    }
   ],
   "source": [
    "det(A)"
   ]
  },
  {
   "cell_type": "markdown",
   "metadata": {},
   "source": [
    "$A$ é não singular, no entanto o método dado não funciona"
   ]
  },
  {
   "cell_type": "code",
   "execution_count": 50,
   "metadata": {
    "collapsed": false
   },
   "outputs": [
    {
     "data": {
      "text/plain": [
       "elim_gauss (generic function with 2 methods)"
      ]
     },
     "execution_count": 50,
     "metadata": {},
     "output_type": "execute_result"
    }
   ],
   "source": [
    "function elim_gauss(A, b; tol=1e-12)\n",
    "    m,n = size(A)\n",
    "    U = copy(A)\n",
    "    c = copy(b)\n",
    "    for j = 1:n\n",
    "        if abs(U[j,j]) < tol\n",
    "            error(\"U_{j,j} ≈ 0.0\")\n",
    "        end\n",
    "        for i = j+1:m\n",
    "            mij = U[i,j]/U[j,j]\n",
    "            U[i,j] = 0.0\n",
    "            for k = j+1:n\n",
    "                U[i,k] -= mij*U[j,k]\n",
    "            end\n",
    "            c[i] -= mij*c[j]\n",
    "        end\n",
    "    end\n",
    "    return U, c\n",
    "end"
   ]
  },
  {
   "cell_type": "code",
   "execution_count": 35,
   "metadata": {
    "collapsed": false
   },
   "outputs": [
    {
     "ename": "LoadError",
     "evalue": "LoadError: U_{j,j} ≈ 0.0\nwhile loading In[35], in expression starting on line 1",
     "output_type": "error",
     "traceback": [
      "LoadError: U_{j,j} ≈ 0.0\nwhile loading In[35], in expression starting on line 1",
      "",
      " in elim_gauss at In[34]:8"
     ]
    }
   ],
   "source": [
    "U, c = elim_gauss(A, b)"
   ]
  },
  {
   "cell_type": "markdown",
   "metadata": {},
   "source": [
    "Mas veja que o sistema equivalente abaixo tem solução pelo algoritmo:"
   ]
  },
  {
   "cell_type": "code",
   "execution_count": 36,
   "metadata": {
    "collapsed": false
   },
   "outputs": [
    {
     "data": {
      "text/plain": [
       "3x3 Array{Float64,2}:\n",
       " -1.0  -1.0  4.0\n",
       "  2.0   1.0  2.0\n",
       "  0.0   1.0  1.0"
      ]
     },
     "execution_count": 36,
     "metadata": {},
     "output_type": "execute_result"
    }
   ],
   "source": [
    "A[[1;3],:] = A[[3;1],:]\n",
    "A"
   ]
  },
  {
   "cell_type": "code",
   "execution_count": 37,
   "metadata": {
    "collapsed": false
   },
   "outputs": [
    {
     "data": {
      "text/plain": [
       "3-element Array{Float64,1}:\n",
       " 2.0\n",
       " 5.0\n",
       " 2.0"
      ]
     },
     "execution_count": 37,
     "metadata": {},
     "output_type": "execute_result"
    }
   ],
   "source": [
    "b[[1;3]] = b[[3;1]]\n",
    "b"
   ]
  },
  {
   "cell_type": "code",
   "execution_count": 38,
   "metadata": {
    "collapsed": false
   },
   "outputs": [
    {
     "data": {
      "text/plain": [
       "(\n",
       "3x3 Array{Float64,2}:\n",
       " -1.0  -1.0   4.0\n",
       "  0.0  -1.0  10.0\n",
       "  0.0   0.0  11.0,\n",
       "\n",
       "[2.0,9.0,11.0])"
      ]
     },
     "execution_count": 38,
     "metadata": {},
     "output_type": "execute_result"
    }
   ],
   "source": [
    "U, c = elim_gauss(A, b)"
   ]
  },
  {
   "cell_type": "code",
   "execution_count": 39,
   "metadata": {
    "collapsed": false
   },
   "outputs": [
    {
     "data": {
      "text/plain": [
       "3-element Array{Float64,1}:\n",
       " 1.0\n",
       " 1.0\n",
       " 1.0"
      ]
     },
     "execution_count": 39,
     "metadata": {},
     "output_type": "execute_result"
    }
   ],
   "source": [
    "tri_sup(U, c)"
   ]
  },
  {
   "cell_type": "markdown",
   "metadata": {},
   "source": [
    "Uma estratégia então seria adicionar a operação elementar de troca de linhas dentro da eliminação.\n",
    "\n",
    "O número escolhido na coluna é chamado de pivô, e faremos a escolha da linha\n",
    "$$ \\hat{i} = \\arg\\max_{i = j,\\dots,m} \\left\\vert\\ a_{ij}\\right\\vert, $$\n",
    "isto é, aquele elemento de maior valor em módulo. O motivo dessa escolha será deixado claro em breve."
   ]
  },
  {
   "cell_type": "code",
   "execution_count": 51,
   "metadata": {
    "collapsed": false
   },
   "outputs": [
    {
     "data": {
      "text/plain": [
       "elim_gauss_pivot (generic function with 1 method)"
      ]
     },
     "execution_count": 51,
     "metadata": {},
     "output_type": "execute_result"
    }
   ],
   "source": [
    "function elim_gauss_pivot(A, b; tol=1e-12)\n",
    "    m,n = size(A)\n",
    "    U = copy(A)\n",
    "    c = copy(b)\n",
    "    for j = 1:n\n",
    "        i_pivo, pivo = j, abs(U[j,j])\n",
    "        for i = j+1:m\n",
    "            if abs(U[i,j]) > pivo\n",
    "                pivo = abs(U[i,j])\n",
    "                i_pivo = i\n",
    "            end\n",
    "        end\n",
    "        if i_pivo != j\n",
    "            U[[i_pivo; j],:] = U[[j; i_pivo],:]\n",
    "            c[[i_pivo; j]] = c[[j; i_pivo]]\n",
    "        end\n",
    "        if abs(U[j,j]) < tol\n",
    "            error(\"U_{j,j} ≈ 0.0\")\n",
    "        end\n",
    "        for i = j+1:m\n",
    "            mij = U[i,j]/U[j,j]\n",
    "            U[i,j] = 0.0\n",
    "            for k = j+1:n\n",
    "                U[i,k] -= mij*U[j,k]\n",
    "            end\n",
    "            c[i] -= mij*c[j]\n",
    "        end\n",
    "    end\n",
    "    return U, c\n",
    "end"
   ]
  },
  {
   "cell_type": "code",
   "execution_count": 43,
   "metadata": {
    "collapsed": false
   },
   "outputs": [
    {
     "data": {
      "text/plain": [
       "(\n",
       "3x3 Array{Float64,2}:\n",
       " 2.0  1.0  2.0\n",
       " 0.0  1.0  1.0\n",
       " 0.0  0.0  5.5,\n",
       "\n",
       "[5.0,2.0,5.5])"
      ]
     },
     "execution_count": 43,
     "metadata": {},
     "output_type": "execute_result"
    }
   ],
   "source": [
    "A = [0.0 1 1; 2 1 2; -1 -1 4]\n",
    "b = A*ones(3)\n",
    "U, c = elim_gauss_pivot(A, b)"
   ]
  },
  {
   "cell_type": "code",
   "execution_count": 44,
   "metadata": {
    "collapsed": false
   },
   "outputs": [
    {
     "data": {
      "text/plain": [
       "3-element Array{Float64,1}:\n",
       " 1.0\n",
       " 1.0\n",
       " 1.0"
      ]
     },
     "execution_count": 44,
     "metadata": {},
     "output_type": "execute_result"
    }
   ],
   "source": [
    "tri_sup(U, c)"
   ]
  },
  {
   "cell_type": "markdown",
   "metadata": {},
   "source": [
    "Agora, queremos fazer essa mesma modificação na decomposição LU.\n",
    "No entanto, como a mudança em $b$ é feita a posteriori, o resultado\n",
    "é um pouco mais complicado.\n",
    "Se ainda quisermos retornar apenas $L$ e $U$, o resultado deveria vir\n",
    "com as linhas de $L$ e $U$ \"destrocadas\", isto é, $L$ e $U$ não seriam\n",
    "triangulares.\n",
    "\n",
    "A outra alternativa, preferida aqui, é retornar uma matriz a mais, $P$\n",
    "de permutação das linhas, que é a matriz identidade com as permutações\n",
    "de linha que seriam feitas na $A$. A partir daí, obtemos $P$ tal que\n",
    "\n",
    "$$ PA = LU. $$"
   ]
  },
  {
   "cell_type": "code",
   "execution_count": 58,
   "metadata": {
    "collapsed": false
   },
   "outputs": [
    {
     "data": {
      "text/plain": [
       "dec_lu_pivot (generic function with 1 method)"
      ]
     },
     "execution_count": 58,
     "metadata": {},
     "output_type": "execute_result"
    }
   ],
   "source": [
    "function dec_lu_pivot(A; tol=1e-12)\n",
    "    m,n = size(A)\n",
    "    U = copy(A)\n",
    "    L = eye(m,n)\n",
    "    P = eye(Int, m)\n",
    "    for j = 1:n\n",
    "        i_pivo, pivo = j, abs(U[j,j])\n",
    "        for i = j+1:m\n",
    "            if abs(U[i,j]) > pivo\n",
    "                pivo = abs(U[i,j])\n",
    "                i_pivo = i\n",
    "            end\n",
    "        end\n",
    "        if pivo < tol\n",
    "            error(\"pivo ≈ 0.0\")\n",
    "        end\n",
    "        if i_pivo != j\n",
    "            U[[i_pivo; j],:] = U[[j; i_pivo],:]\n",
    "            P[[i_pivo; j],:] = P[[j; i_pivo],:]\n",
    "        end\n",
    "        for i = j+1:m\n",
    "            \n",
    "            mij = U[i,j]/U[j,j]\n",
    "            L[i,j] = mij\n",
    "            U[i,j] = 0.0\n",
    "            for k = j+1:n\n",
    "                U[i,k] -= mij*U[j,k]\n",
    "            end\n",
    "        end\n",
    "    end\n",
    "    return L, U, P\n",
    "end"
   ]
  },
  {
   "cell_type": "code",
   "execution_count": 59,
   "metadata": {
    "collapsed": false
   },
   "outputs": [
    {
     "data": {
      "text/plain": [
       "(\n",
       "3x3 Array{Float64,2}:\n",
       "  1.0   0.0  0.0\n",
       "  0.0   1.0  0.0\n",
       " -0.5  -0.5  1.0,\n",
       "\n",
       "3x3 Array{Float64,2}:\n",
       " 2.0  1.0  2.0\n",
       " 0.0  1.0  1.0\n",
       " 0.0  0.0  5.5,\n",
       "\n",
       "3x3 Array{Int64,2}:\n",
       " 0  1  0\n",
       " 1  0  0\n",
       " 0  0  1)"
      ]
     },
     "execution_count": 59,
     "metadata": {},
     "output_type": "execute_result"
    }
   ],
   "source": [
    "L, U, P = dec_lu_pivot(A)"
   ]
  },
  {
   "cell_type": "code",
   "execution_count": 60,
   "metadata": {
    "collapsed": false
   },
   "outputs": [
    {
     "data": {
      "text/plain": [
       "3x3 Array{Float64,2}:\n",
       " 0.0  0.0  0.0\n",
       " 0.0  0.0  0.0\n",
       " 0.0  0.0  0.0"
      ]
     },
     "execution_count": 60,
     "metadata": {},
     "output_type": "execute_result"
    }
   ],
   "source": [
    "L*U - P*A"
   ]
  },
  {
   "cell_type": "markdown",
   "metadata": {},
   "source": [
    "Veja que $P$ tem uma propriedade interessante:"
   ]
  },
  {
   "cell_type": "code",
   "execution_count": 61,
   "metadata": {
    "collapsed": false
   },
   "outputs": [
    {
     "data": {
      "text/plain": [
       "3x3 Array{Int64,2}:\n",
       " 1  0  0\n",
       " 0  1  0\n",
       " 0  0  1"
      ]
     },
     "execution_count": 61,
     "metadata": {},
     "output_type": "execute_result"
    }
   ],
   "source": [
    "P'*P"
   ]
  },
  {
   "cell_type": "markdown",
   "metadata": {},
   "source": [
    "Sua inversa é sua transposta. Matriz quadrados com essa propriedade são ditas\n",
    "**ortogonais**, e $P$ é um caso ainda mais especial dito **matriz de permutação de linhas**."
   ]
  },
  {
   "cell_type": "markdown",
   "metadata": {},
   "source": [
    "A resolução do sistema $Ax = b$ agora inicia multiplicando-se por $P$.\n",
    "$$ PAx = Pb. $$\n",
    "Daí, prosseguimos como antes.\n",
    "$$ PAx = Pb \\qquad \\Rightarrow \\qquad\n",
    "LUx = Pb \\qquad \\Rightarrow \\qquad\n",
    "\\left\\{\\begin{array}{l}\n",
    "Lc = Pb \\\\\n",
    "Ux = c\n",
    "\\end{array}\\right.\n",
    "$$"
   ]
  },
  {
   "cell_type": "code",
   "execution_count": 76,
   "metadata": {
    "collapsed": false
   },
   "outputs": [
    {
     "data": {
      "text/plain": [
       "3-element Array{Float64,1}:\n",
       " 1.0\n",
       " 1.0\n",
       " 1.0"
      ]
     },
     "execution_count": 76,
     "metadata": {},
     "output_type": "execute_result"
    }
   ],
   "source": [
    "c = tri_inf(L, P*b)\n",
    "x = tri_sup(U, c)"
   ]
  },
  {
   "cell_type": "markdown",
   "metadata": {},
   "source": [
    "## Complexidade de LU\n",
    "\n",
    "As operações de LU são as mesmas que a eliminação Gaussiana,\n",
    "sem as operações de transformar $b$ em $c$.\n",
    "Note que as soluções triangulares são $\\mathcal{O}(n^2)$."
   ]
  },
  {
   "cell_type": "markdown",
   "metadata": {},
   "source": [
    "Uma dificuldade, no entanto é o acréscimo de memória, que é essencialmente\n",
    "de uma matriz de zeros. Para aplicações \"sérias\", precisamos nos atentar a\n",
    "esse fato. Uma maneira de fazer isso é utilizar a própria matriz $A$ para\n",
    "armazenar $LU$ e retornar um vetor $P$ de índices indicando as mudanças\n",
    "de linhas."
   ]
  },
  {
   "cell_type": "markdown",
   "metadata": {},
   "source": [
    "Por exemplo, ao invés de termos"
   ]
  },
  {
   "cell_type": "code",
   "execution_count": 69,
   "metadata": {
    "collapsed": false
   },
   "outputs": [
    {
     "data": {
      "text/plain": [
       "(\n",
       "3x3 Array{Float64,2}:\n",
       "  1.0   0.0  0.0\n",
       "  0.0   1.0  0.0\n",
       " -0.5  -0.5  1.0,\n",
       "\n",
       "3x3 Array{Float64,2}:\n",
       " 2.0  1.0  2.0\n",
       " 0.0  1.0  1.0\n",
       " 0.0  0.0  5.5,\n",
       "\n",
       "3x3 Array{Int64,2}:\n",
       " 0  1  0\n",
       " 1  0  0\n",
       " 0  0  1)"
      ]
     },
     "execution_count": 69,
     "metadata": {},
     "output_type": "execute_result"
    }
   ],
   "source": [
    "L, U, P = dec_lu_pivot(A)"
   ]
  },
  {
   "cell_type": "markdown",
   "metadata": {},
   "source": [
    "Guardamos da seguinte maneira:"
   ]
  },
  {
   "cell_type": "code",
   "execution_count": 73,
   "metadata": {
    "collapsed": false
   },
   "outputs": [
    {
     "data": {
      "text/plain": [
       "3x3 Array{Float64,2}:\n",
       "  2.0   1.0  2.0\n",
       "  0.0   1.0  1.0\n",
       " -0.5  -0.5  5.5"
      ]
     },
     "execution_count": 73,
     "metadata": {},
     "output_type": "execute_result"
    }
   ],
   "source": [
    "LU = tril(L,-1) + U"
   ]
  },
  {
   "cell_type": "code",
   "execution_count": 74,
   "metadata": {
    "collapsed": false
   },
   "outputs": [
    {
     "data": {
      "text/plain": [
       "3-element Array{Any,1}:\n",
       " 2\n",
       " 1\n",
       " 3"
      ]
     },
     "execution_count": 74,
     "metadata": {},
     "output_type": "execute_result"
    }
   ],
   "source": [
    "PI = [findfirst(P[i,:] .== 1) for i = 1:3]"
   ]
  },
  {
   "cell_type": "markdown",
   "metadata": {},
   "source": [
    "A entrada da função será $A$, e a saída será $PI$, mas a **única** coisa criada é o vetor $PI$. $A$ deve ser substituída por $LU$."
   ]
  },
  {
   "cell_type": "code",
   "execution_count": 89,
   "metadata": {
    "collapsed": false
   },
   "outputs": [
    {
     "data": {
      "text/plain": [
       "dec_lu_pivot! (generic function with 1 method)"
      ]
     },
     "execution_count": 89,
     "metadata": {},
     "output_type": "execute_result"
    }
   ],
   "source": [
    "function dec_lu_pivot!(A; tol=1e-12)\n",
    "    m,n = size(A)\n",
    "    P = collect(1:m)\n",
    "    for j = 1:n\n",
    "        i_pivo, pivo = j, abs(A[j,j])\n",
    "        for i = j+1:m\n",
    "            if abs(A[P[i],j]) > pivo\n",
    "                pivo = abs(A[P[i],j])\n",
    "                i_pivo = i\n",
    "            end\n",
    "        end\n",
    "        if pivo < tol\n",
    "            error(\"pivo ≈ 0.0\")\n",
    "        end\n",
    "        if i_pivo != j\n",
    "            P[[i_pivo; j]] = P[[j; i_pivo]]\n",
    "        end\n",
    "        pj = P[j]\n",
    "        for i = j+1:m\n",
    "            pi = P[i]\n",
    "            mij = A[pi,j]/A[pj,j]\n",
    "            A[pi,j] = mij\n",
    "            for k = j+1:n\n",
    "                A[pi,k] -= mij*A[pj,k]\n",
    "            end\n",
    "        end\n",
    "    end\n",
    "    return P\n",
    "end"
   ]
  },
  {
   "cell_type": "code",
   "execution_count": 92,
   "metadata": {
    "collapsed": false
   },
   "outputs": [
    {
     "data": {
      "text/plain": [
       "3x3 Array{Float64,2}:\n",
       "  0.0   1.0  1.0\n",
       "  2.0   1.0  2.0\n",
       " -1.0  -1.0  4.0"
      ]
     },
     "execution_count": 92,
     "metadata": {},
     "output_type": "execute_result"
    }
   ],
   "source": [
    "A = [0.0 1 1; 2 1 2; -1 -1 4]"
   ]
  },
  {
   "cell_type": "code",
   "execution_count": 93,
   "metadata": {
    "collapsed": false
   },
   "outputs": [
    {
     "data": {
      "text/plain": [
       "3-element Array{Int64,1}:\n",
       " 2\n",
       " 1\n",
       " 3"
      ]
     },
     "execution_count": 93,
     "metadata": {},
     "output_type": "execute_result"
    }
   ],
   "source": [
    "P = dec_lu_pivot!(A)"
   ]
  },
  {
   "cell_type": "code",
   "execution_count": 94,
   "metadata": {
    "collapsed": false
   },
   "outputs": [
    {
     "data": {
      "text/plain": [
       "3x3 Array{Float64,2}:\n",
       "  0.0   1.0  1.0\n",
       "  2.0   1.0  2.0\n",
       " -0.5  -0.5  5.5"
      ]
     },
     "execution_count": 94,
     "metadata": {},
     "output_type": "execute_result"
    }
   ],
   "source": [
    "A"
   ]
  },
  {
   "cell_type": "markdown",
   "metadata": {},
   "source": [
    "Compare com L e U:"
   ]
  },
  {
   "cell_type": "code",
   "execution_count": 95,
   "metadata": {
    "collapsed": false
   },
   "outputs": [
    {
     "data": {
      "text/plain": [
       "(\n",
       "3x3 Array{Float64,2}:\n",
       "  1.0   0.0  0.0\n",
       "  0.0   1.0  0.0\n",
       " -0.5  -0.5  1.0,\n",
       "\n",
       "3x3 Array{Float64,2}:\n",
       " 2.0  1.0  2.0\n",
       " 0.0  1.0  1.0\n",
       " 0.0  0.0  5.5)"
      ]
     },
     "execution_count": 95,
     "metadata": {},
     "output_type": "execute_result"
    }
   ],
   "source": [
    "L, U"
   ]
  },
  {
   "cell_type": "markdown",
   "metadata": {},
   "source": [
    "A resolução do sistema $Ax = b$ com essa modificação agora é mais complicada."
   ]
  },
  {
   "cell_type": "code",
   "execution_count": null,
   "metadata": {
    "collapsed": true
   },
   "outputs": [],
   "source": []
  }
 ],
 "metadata": {
  "kernelspec": {
   "display_name": "Julia 0.4.6",
   "language": "julia",
   "name": "julia-0.4"
  },
  "language_info": {
   "file_extension": ".jl",
   "mimetype": "application/julia",
   "name": "julia",
   "version": "0.4.6"
  }
 },
 "nbformat": 4,
 "nbformat_minor": 0
}
