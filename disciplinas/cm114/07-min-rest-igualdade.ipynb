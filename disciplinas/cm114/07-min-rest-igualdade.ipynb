{
 "cells": [
  {
   "cell_type": "markdown",
   "metadata": {},
   "source": [
    "# Minimização com restrições lineares de igualdade"
   ]
  },
  {
   "cell_type": "markdown",
   "metadata": {},
   "source": [
    "$$\n",
    "\\min \\quad f(x) \\\\\n",
    "\\mbox{suj. a } \\quad Ax = b\n",
    "$$"
   ]
  },
  {
   "cell_type": "markdown",
   "metadata": {},
   "source": [
    "## Base para o núcleo de $A$"
   ]
  },
  {
   "cell_type": "markdown",
   "metadata": {},
   "source": [
    "$$ QR = A^T $$"
   ]
  },
  {
   "cell_type": "code",
   "execution_count": 2,
   "metadata": {
    "collapsed": false
   },
   "outputs": [
    {
     "data": {
      "text/plain": [
       "3x5 Array{Float64,2}:\n",
       " 0.786041  0.518244  0.635686  0.411794  0.975438\n",
       " 0.100398  0.871222  0.797831  0.326629  0.764526\n",
       " 0.935218  0.925968  0.243322  0.950776  0.575103"
      ]
     },
     "execution_count": 2,
     "metadata": {},
     "output_type": "execute_result"
    }
   ],
   "source": [
    "A = rand(3, 5)"
   ]
  },
  {
   "cell_type": "code",
   "execution_count": 5,
   "metadata": {
    "collapsed": false
   },
   "outputs": [
    {
     "data": {
      "text/plain": [
       "(\n",
       "5x5 Array{Float64,2}:\n",
       " -0.506167   0.693999     0.198824  -0.288985     -0.372984  \n",
       " -0.33372   -0.607197     0.481964  -0.536314     -0.00445586\n",
       " -0.409346  -0.386597    -0.413945   0.325702     -0.636825  \n",
       " -0.265172   0.00113121   0.62362    0.72303       0.134195  \n",
       " -0.628128   0.014817    -0.409789   0.000320581   0.661293  ,\n",
       "\n",
       "3x3 Array{Float64,2}:\n",
       " -1.55293  -1.23498   -1.49535   \n",
       "  0.0      -0.756068   0.00232437\n",
       "  0.0       0.0        0.888758  )"
      ]
     },
     "execution_count": 5,
     "metadata": {},
     "output_type": "execute_result"
    }
   ],
   "source": [
    "Q, R = qr(A', thin=false)"
   ]
  },
  {
   "cell_type": "code",
   "execution_count": 10,
   "metadata": {
    "collapsed": false
   },
   "outputs": [
    {
     "data": {
      "text/plain": [
       "5x3 Array{Float64,2}:\n",
       " -1.55293  -1.23498   -1.49535   \n",
       "  0.0      -0.756068   0.00232437\n",
       "  0.0       0.0        0.888758  \n",
       "  0.0       0.0        0.0       \n",
       "  0.0       0.0        0.0       "
      ]
     },
     "execution_count": 10,
     "metadata": {},
     "output_type": "execute_result"
    }
   ],
   "source": [
    "Rtil = [R; zeros(2,3)]"
   ]
  },
  {
   "cell_type": "code",
   "execution_count": 11,
   "metadata": {
    "collapsed": false
   },
   "outputs": [
    {
     "data": {
      "text/plain": [
       "5x3 Array{Float64,2}:\n",
       " -2.22045e-16   0.0           2.22045e-16\n",
       "  8.22974e-18  -1.11022e-16  -2.38091e-16\n",
       " -6.95113e-17  -7.16247e-17  -2.22045e-16\n",
       "  1.57913e-16   8.9784e-17    3.22812e-16\n",
       " -4.0278e-16   -1.69304e-16  -1.70538e-16"
      ]
     },
     "execution_count": 11,
     "metadata": {},
     "output_type": "execute_result"
    }
   ],
   "source": [
    "Rtil - Q'*A'"
   ]
  },
  {
   "cell_type": "code",
   "execution_count": 14,
   "metadata": {
    "collapsed": false
   },
   "outputs": [
    {
     "data": {
      "text/plain": [
       "3x5 Array{Float64,2}:\n",
       " -1.55293  -8.22974e-18  6.95113e-17  -1.57913e-16  4.0278e-16 \n",
       " -1.23498  -0.756068     7.16247e-17  -8.9784e-17   1.69304e-16\n",
       " -1.49535   0.00232437   0.888758     -3.22812e-16  1.70538e-16"
      ]
     },
     "execution_count": 14,
     "metadata": {},
     "output_type": "execute_result"
    }
   ],
   "source": [
    "A*Q"
   ]
  },
  {
   "cell_type": "code",
   "execution_count": 17,
   "metadata": {
    "collapsed": false
   },
   "outputs": [
    {
     "data": {
      "text/plain": [
       "5x2 Array{Float64,2}:\n",
       " -0.288985     -0.372984  \n",
       " -0.536314     -0.00445586\n",
       "  0.325702     -0.636825  \n",
       "  0.72303       0.134195  \n",
       "  0.000320581   0.661293  "
      ]
     },
     "execution_count": 17,
     "metadata": {},
     "output_type": "execute_result"
    }
   ],
   "source": [
    "Z = Q[:,4:5]"
   ]
  },
  {
   "cell_type": "code",
   "execution_count": 1,
   "metadata": {
    "collapsed": false
   },
   "outputs": [
    {
     "data": {
      "text/plain": [
       "newton_method (generic function with 1 method)"
      ]
     },
     "execution_count": 1,
     "metadata": {},
     "output_type": "execute_result"
    }
   ],
   "source": [
    "function newton_method(f, x0; tol = 1e-5, max_iter = 1000, max_time = 60)\n",
    "    exit_flag = 0\n",
    "    ∇f(x) = ForwardDiff.gradient(f, x)\n",
    "    H(x) = ForwardDiff.hessian(f, x)\n",
    "    \n",
    "    x = copy(x0) # Cópia de x0\n",
    "    iter = 0\n",
    "    start_time = time()\n",
    "    elapsed_time = 0.0\n",
    "    fx = f(x)\n",
    "    ∇fx = ∇f(x)\n",
    "    B = H(x)\n",
    "    while norm(∇fx) > tol\n",
    "        d = -B\\∇fx\n",
    "        ∇fx_dot_d = dot(∇fx, d)\n",
    "        if ∇fx_dot_d > -1e-6 * norm(∇fx) * norm(d)\n",
    "            d = -∇fx\n",
    "            ∇fx_dot_d = dot(∇fx, d)\n",
    "        elseif norm(d) < 1e-6 * norm(∇fx)\n",
    "            d = -∇fx\n",
    "            ∇fx_dot_d = dot(∇fx, d)\n",
    "        end\n",
    "        t = 1.0\n",
    "        while f(x + t*d) > fx + 0.5*t*∇fx_dot_d\n",
    "            t = t*0.9\n",
    "        end\n",
    "        x = x + t*d\n",
    "        fx = f(x)\n",
    "        ∇fx = ∇f(x)\n",
    "        B = H(x)\n",
    "        iter = iter + 1\n",
    "        if iter >= max_iter\n",
    "            exit_flag = 1\n",
    "            break\n",
    "        end\n",
    "        elapsed_time = time() - start_time\n",
    "        if elapsed_time >= max_time\n",
    "            exit_flag = 2\n",
    "            break\n",
    "        end\n",
    "    end\n",
    "    return x, fx, ∇fx, exit_flag, iter, elapsed_time # Precisamos retornar o ponto encontrado\n",
    "end"
   ]
  },
  {
   "cell_type": "code",
   "execution_count": 3,
   "metadata": {
    "collapsed": false
   },
   "outputs": [
    {
     "data": {
      "text/plain": [
       "([0.9999999999986602,0.999999999997286],1.913562380330407e-24,[1.1087131213098218e-11,-6.8833827526759706e-12],0,14,1.516280174255371)"
      ]
     },
     "execution_count": 3,
     "metadata": {},
     "output_type": "execute_result"
    }
   ],
   "source": [
    "using ForwardDiff\n",
    "f(x) = (1-x[1])^2 + 100*(x[2]-x[1]^2)^2\n",
    "newton_method(f, zeros(2))"
   ]
  },
  {
   "cell_type": "code",
   "execution_count": 50,
   "metadata": {
    "collapsed": false
   },
   "outputs": [
    {
     "data": {
      "text/plain": [
       "10-element Array{Float64,1}:\n",
       " 1.0\n",
       " 0.0\n",
       " 0.0\n",
       " 0.0\n",
       " 0.0\n",
       " 0.0\n",
       " 0.0\n",
       " 0.0\n",
       " 0.0\n",
       " 0.0"
      ]
     },
     "execution_count": 50,
     "metadata": {},
     "output_type": "execute_result"
    }
   ],
   "source": [
    "n = 10\n",
    "f(x) = dot(x,x)\n",
    "A = ones(1,n)\n",
    "b = [1.0]\n",
    "xbarra = [1.0; zeros(n-1)]"
   ]
  },
  {
   "cell_type": "code",
   "execution_count": 51,
   "metadata": {
    "collapsed": false
   },
   "outputs": [
    {
     "data": {
      "text/plain": [
       "ϕ (generic function with 1 method)"
      ]
     },
     "execution_count": 51,
     "metadata": {},
     "output_type": "execute_result"
    }
   ],
   "source": [
    "A*xbarra - b\n",
    "Q,R = qr(A', thin=false)\n",
    "Z = Q[:,2:end]\n",
    "ϕ(u) = f(xbarra + Z*u)"
   ]
  },
  {
   "cell_type": "code",
   "execution_count": 52,
   "metadata": {
    "collapsed": false
   },
   "outputs": [
    {
     "data": {
      "text/plain": [
       "0.7610585249391503"
      ]
     },
     "execution_count": 52,
     "metadata": {},
     "output_type": "execute_result"
    }
   ],
   "source": [
    "u = rand(n-1)\n",
    "ϕ(u)"
   ]
  },
  {
   "cell_type": "code",
   "execution_count": 53,
   "metadata": {
    "collapsed": false
   },
   "outputs": [
    {
     "data": {
      "text/plain": [
       "0.7610585249391503"
      ]
     },
     "execution_count": 53,
     "metadata": {},
     "output_type": "execute_result"
    }
   ],
   "source": [
    "f(xbarra + Z*u)"
   ]
  },
  {
   "cell_type": "code",
   "execution_count": 54,
   "metadata": {
    "collapsed": false
   },
   "outputs": [
    {
     "name": "stdout",
     "output_type": "stream",
     "text": [
      "-1.7999999999999998\n",
      "-0.017999999999999943\n",
      "-0.0001800000000000008\n",
      "-1.7999999999994466e-6\n",
      "-1.7999999999967828e-8\n",
      "-1.8000000000603945e-10\n"
     ]
    },
    {
     "data": {
      "text/plain": [
       "([0.3162274497890719,0.3162274497890719,0.31622744978907197,0.31622744978907197,0.3162274497890719,0.3162274497890719,0.3162274497890719,0.3162274497890719,0.3162274497890719],0.10000000000090022,[-6.324555318938663e-7,-6.324555318938663e-7,-6.32455531713455e-7,-6.32455531782844e-7,-6.324555318938663e-7,-6.324555318799885e-7,-6.324555318834579e-7,-6.324555318869274e-7,-6.324555318903968e-7],0,6,0.05267000198364258)"
      ]
     },
     "execution_count": 54,
     "metadata": {},
     "output_type": "execute_result"
    }
   ],
   "source": [
    "using ForwardDiff\n",
    "u, ϕu, ngu, ef, iter, dt = newton_method(ϕ, zeros(n-1))"
   ]
  },
  {
   "cell_type": "code",
   "execution_count": 55,
   "metadata": {
    "collapsed": false
   },
   "outputs": [
    {
     "data": {
      "text/plain": [
       "9-element Array{Float64,1}:\n",
       " 0.316227\n",
       " 0.316227\n",
       " 0.316227\n",
       " 0.316227\n",
       " 0.316227\n",
       " 0.316227\n",
       " 0.316227\n",
       " 0.316227\n",
       " 0.316227"
      ]
     },
     "execution_count": 55,
     "metadata": {},
     "output_type": "execute_result"
    }
   ],
   "source": [
    "u"
   ]
  },
  {
   "cell_type": "code",
   "execution_count": 56,
   "metadata": {
    "collapsed": false
   },
   "outputs": [
    {
     "data": {
      "text/plain": [
       "10-element Array{Float64,1}:\n",
       " 0.100001 \n",
       " 0.0999999\n",
       " 0.0999999\n",
       " 0.0999999\n",
       " 0.0999999\n",
       " 0.0999999\n",
       " 0.0999999\n",
       " 0.0999999\n",
       " 0.0999999\n",
       " 0.0999999"
      ]
     },
     "execution_count": 56,
     "metadata": {},
     "output_type": "execute_result"
    }
   ],
   "source": [
    "sol = xbarra + Z*u"
   ]
  },
  {
   "cell_type": "markdown",
   "metadata": {},
   "source": [
    "## Sistema das condições necessárias"
   ]
  },
  {
   "cell_type": "code",
   "execution_count": 65,
   "metadata": {
    "collapsed": false
   },
   "outputs": [
    {
     "data": {
      "text/plain": [
       "L (generic function with 1 method)"
      ]
     },
     "execution_count": 65,
     "metadata": {},
     "output_type": "execute_result"
    }
   ],
   "source": [
    "L(x,λ) = f(x) + dot(λ, A*x-b)"
   ]
  },
  {
   "cell_type": "code",
   "execution_count": 66,
   "metadata": {
    "collapsed": false
   },
   "outputs": [
    {
     "data": {
      "text/plain": [
       "([-1.3848383662915744e230,-1.3848383662915744e230,-1.3848383662915744e230,-1.3848383662915744e230,-1.3848383662915744e230,-1.3848383662915744e230,-1.3848383662915744e230,-1.3848383662915744e230,-1.3848383662915744e230,-1.3848383662915744e230,2.769676732583149e230],NaN,[0.0,0.0,0.0,0.0,0.0,0.0,0.0,0.0,0.0,0.0,-1.3848383662915744e231],1,1000,0.10395097732543945)"
      ]
     },
     "execution_count": 66,
     "metadata": {},
     "output_type": "execute_result"
    }
   ],
   "source": [
    "x, fx, ngx, ef, iter, dt = newton_method(v->L(v[1:n],[v[end]]), zeros(n+1))"
   ]
  },
  {
   "cell_type": "code",
   "execution_count": 59,
   "metadata": {
    "collapsed": false
   },
   "outputs": [
    {
     "data": {
      "text/plain": [
       "q (generic function with 1 method)"
      ]
     },
     "execution_count": 59,
     "metadata": {},
     "output_type": "execute_result"
    }
   ],
   "source": [
    "q(v) = L(v[1:n],v[end:end])"
   ]
  },
  {
   "cell_type": "code",
   "execution_count": 60,
   "metadata": {
    "collapsed": false
   },
   "outputs": [
    {
     "data": {
      "text/plain": [
       "0.0"
      ]
     },
     "execution_count": 60,
     "metadata": {},
     "output_type": "execute_result"
    }
   ],
   "source": [
    "q(zeros(n+1))"
   ]
  },
  {
   "cell_type": "code",
   "execution_count": 61,
   "metadata": {
    "collapsed": false
   },
   "outputs": [
    {
     "data": {
      "text/plain": [
       "H (generic function with 1 method)"
      ]
     },
     "execution_count": 61,
     "metadata": {},
     "output_type": "execute_result"
    }
   ],
   "source": [
    "∇q(x) = ForwardDiff.gradient(q, x)\n",
    "H(x) = ForwardDiff.hessian(q, x)"
   ]
  },
  {
   "cell_type": "code",
   "execution_count": 67,
   "metadata": {
    "collapsed": false
   },
   "outputs": [
    {
     "data": {
      "text/plain": [
       "11-element Array{Float64,1}:\n",
       "  0.1\n",
       "  0.1\n",
       "  0.1\n",
       "  0.1\n",
       "  0.1\n",
       "  0.1\n",
       "  0.1\n",
       "  0.1\n",
       "  0.1\n",
       "  0.1\n",
       " -0.2"
      ]
     },
     "execution_count": 67,
     "metadata": {},
     "output_type": "execute_result"
    }
   ],
   "source": [
    "d = - H(zeros(n+1))\\ ∇q(zeros(n+1))"
   ]
  },
  {
   "cell_type": "code",
   "execution_count": 63,
   "metadata": {
    "collapsed": false
   },
   "outputs": [
    {
     "data": {
      "text/plain": [
       "11-element Array{Float64,1}:\n",
       "  0.0        \n",
       "  0.0        \n",
       "  0.0        \n",
       "  0.0        \n",
       "  0.0        \n",
       "  0.0        \n",
       "  0.0        \n",
       "  0.0        \n",
       "  0.0        \n",
       "  0.0        \n",
       " -1.11022e-16"
      ]
     },
     "execution_count": 63,
     "metadata": {},
     "output_type": "execute_result"
    }
   ],
   "source": [
    "∇q(sol)"
   ]
  },
  {
   "cell_type": "code",
   "execution_count": 68,
   "metadata": {
    "collapsed": false
   },
   "outputs": [
    {
     "data": {
      "text/plain": [
       "11-element Array{Float64,1}:\n",
       " 0.0\n",
       " 0.0\n",
       " 0.0\n",
       " 0.0\n",
       " 0.0\n",
       " 0.0\n",
       " 0.0\n",
       " 0.0\n",
       " 0.0\n",
       " 0.0\n",
       " 0.0"
      ]
     },
     "execution_count": 68,
     "metadata": {},
     "output_type": "execute_result"
    }
   ],
   "source": [
    "x = zeros(n+1)"
   ]
  },
  {
   "cell_type": "code",
   "execution_count": 69,
   "metadata": {
    "collapsed": false
   },
   "outputs": [
    {
     "data": {
      "text/plain": [
       "11-element Array{Float64,1}:\n",
       "  0.1\n",
       "  0.1\n",
       "  0.1\n",
       "  0.1\n",
       "  0.1\n",
       "  0.1\n",
       "  0.1\n",
       "  0.1\n",
       "  0.1\n",
       "  0.1\n",
       " -0.2"
      ]
     },
     "execution_count": 69,
     "metadata": {},
     "output_type": "execute_result"
    }
   ],
   "source": [
    "x + d"
   ]
  },
  {
   "cell_type": "code",
   "execution_count": 78,
   "metadata": {
    "collapsed": false
   },
   "outputs": [
    {
     "data": {
      "text/plain": [
       "true"
      ]
     },
     "execution_count": 78,
     "metadata": {},
     "output_type": "execute_result"
    }
   ],
   "source": [
    "q(x + d) > q(x) + 0.5 * dot(∇q(x), d)"
   ]
  },
  {
   "cell_type": "code",
   "execution_count": 79,
   "metadata": {
    "collapsed": false
   },
   "outputs": [],
   "source": [
    "# Passo de Newton não é aceito por Armijo"
   ]
  },
  {
   "cell_type": "code",
   "execution_count": 83,
   "metadata": {
    "collapsed": false
   },
   "outputs": [
    {
     "name": "stdout",
     "output_type": "stream",
     "text": [
      "q+ = 0.099\n",
      "qdot = 0.09000000000000001\n",
      "q+ = 0.09639000000000003\n",
      "qdot = 0.08100000000000002\n",
      "q+ = 0.09265590000000001\n",
      "qdot = 0.0729\n",
      "q+ = 0.08817327900000001\n",
      "qdot = 0.06561000000000002\n",
      "q+ = 0.08323015599000003\n",
      "qdot = 0.05904900000000002\n",
      "q+ = 0.07804524635190002\n",
      "qdot = 0.05314410000000002\n",
      "q+ = 0.07278258754503901\n",
      "qdot = 0.047829690000000015\n",
      "q+ = 0.0675632401114816\n",
      "qdot = 0.04304672100000002\n",
      "q+ = 0.06247463427030012\n",
      "qdot = 0.03874204890000002\n",
      "q+ = 0.05757802256094309\n",
      "qdot = 0.03486784401000002\n",
      "q+ = 0.05291441019616392\n",
      "qdot = 0.03138105960900002\n",
      "q+ = 0.048509262988512776\n",
      "qdot = 0.02824295364810002\n",
      "q+ = 0.04437623467735334\n",
      "qdot = 0.025418658283290013\n",
      "q+ = 0.04052010857964841\n",
      "qdot = 0.022876792454961013\n",
      "q+ = 0.0369391105914082\n",
      "qdot = 0.02058911320946491\n",
      "q+ = 0.03362671995674432\n",
      "qdot = 0.018530201888518418\n",
      "q+ = 0.030573079504896215\n",
      "qdot = 0.016677181699666577\n",
      "q+ = 0.027766087104905926\n",
      "qdot = 0.015009463529699922\n",
      "q+ = 0.025192233990319782\n",
      "qdot = 0.013508517176729929\n",
      "q+ = 0.02283724262397041\n",
      "qdot = 0.012157665459056936\n",
      "q+ = 0.020686546308046286\n",
      "qdot = 0.010941898913151244\n"
     ]
    }
   ],
   "source": [
    "t = 0.9\n",
    "while q(x + t*d) > q(x) + 0.5 * t * dot(∇q(x), d)\n",
    "    println(\"q+ = $(q(x + t*d))\")\n",
    "    println(\"qdot = $(q(x) + 0.5 * t * dot(∇q(x), d))\")\n",
    "    t = t * 0.9\n",
    "    if t < 0.1\n",
    "        break\n",
    "    end\n",
    "end"
   ]
  },
  {
   "cell_type": "code",
   "execution_count": 82,
   "metadata": {
    "collapsed": false
   },
   "outputs": [
    {
     "data": {
      "text/plain": [
       "0.09000000000000001"
      ]
     },
     "execution_count": 82,
     "metadata": {},
     "output_type": "execute_result"
    }
   ],
   "source": []
  },
  {
   "cell_type": "code",
   "execution_count": null,
   "metadata": {
    "collapsed": true
   },
   "outputs": [],
   "source": []
  }
 ],
 "metadata": {
  "kernelspec": {
   "display_name": "Julia 0.4.6",
   "language": "julia",
   "name": "julia-0.4"
  },
  "language_info": {
   "file_extension": ".jl",
   "mimetype": "application/julia",
   "name": "julia",
   "version": "0.4.6"
  }
 },
 "nbformat": 4,
 "nbformat_minor": 0
}
