{
 "cells": [
  {
   "cell_type": "markdown",
   "metadata": {},
   "source": [
    "# Aritmética de Ponto Flutuante"
   ]
  },
  {
   "cell_type": "markdown",
   "metadata": {},
   "source": [
    "Os objetivos desta lição são\n",
    "\n",
    "- Aprender sobre a representação de números naturais e inteiros na máquina;\n",
    "- Aprender sobre Aritmética de Ponto Flutuante."
   ]
  },
  {
   "cell_type": "markdown",
   "metadata": {},
   "source": [
    "## Representação de Inteiros na máquina"
   ]
  },
  {
   "cell_type": "markdown",
   "metadata": {},
   "source": [
    "Os computadores guardam inteiros de maneiras bastante específicas.\n",
    "Essas maneiras envolvem os bits de um computador, que matematicamente equivalem a números binários.\n",
    "Um bit pode estar ligado ou desligado, ou seja, 1 ou 0. Um inteiro de $n$ bits terá $n$ posições ordenadas que podem estar ligadas ou desligadas. Dessa maneira, é possível representar até $2^n$ inteiros com $n$ bits.\n",
    "A pergunta é quais $2^n$ inteiros?\n",
    "\n",
    "Muitas vezes nos preocupamos apenas com os inteiros positivos, então uma escolha bastante simples seria os inteiros de $0$ à $2^n-1$. Esse tipo é dito \"sem sinal\" ou \"Unsigned\" em inglês. Em Julia, são os tipos `UIntN`, onde `N` é o número de bits (8, 16, 32, 64, 128).\n",
    "\n",
    "Para inteiros positivos e negativos, uma maneira é guardar os númeos de $-2^{n-1}$ à $2^{n-1}-1$. Em binário, podemos escolher os $n-1$ bits da direita para fazer uma contagem de $0$ à $2^{n-1}-1$, e o bit mais à esquerda para indicar de começamos a contar de $-2^{n-1}$ ou de $0$."
   ]
  },
  {
   "cell_type": "markdown",
   "metadata": {},
   "source": [
    "### Exemplo com n = 3\n",
    "\n",
    "| Bin | Dec |\n",
    "|-----|-----|\n",
    "| 000 |   0 |\n",
    "| 001 |   1 |\n",
    "| 010 |   2 |\n",
    "| 011 |   3 |\n",
    "| 100 |  -4 |\n",
    "| 101 |  -3 |\n",
    "| 110 |  -2 |\n",
    "| 111 |  -1 |"
   ]
  },
  {
   "cell_type": "markdown",
   "metadata": {},
   "source": [
    "Note que o problema de trabalhar com inteiros que caiam fora deste intervalo está nas operações básicas mesmo:\n",
    "\n",
    "    3 + 1  (em decimal)\n",
    "    \n",
    "             1     1\n",
    "     011    011    011    011\n",
    "     001    001    001    001\n",
    "    ----   ----   ----   ----\n",
    "       ?      0     00    100\n",
    "\n",
    "Mas `100` nessa representação significa `-4`, ou seja, a soma \"dá a volta\"."
   ]
  },
  {
   "cell_type": "markdown",
   "metadata": {},
   "source": [
    "### Exemplo com n = 64 (o padrão)\n",
    "\n",
    "O inteiro `Int64` vai de $-2^{63}$ à $2^{63}-1$."
   ]
  },
  {
   "cell_type": "code",
   "execution_count": null,
   "metadata": {},
   "outputs": [],
   "source": [
    "x = 2^63-1"
   ]
  },
  {
   "cell_type": "code",
   "execution_count": null,
   "metadata": {},
   "outputs": [],
   "source": [
    "x + 1"
   ]
  },
  {
   "cell_type": "code",
   "execution_count": null,
   "metadata": {},
   "outputs": [],
   "source": [
    "-x"
   ]
  },
  {
   "cell_type": "code",
   "execution_count": null,
   "metadata": {},
   "outputs": [],
   "source": [
    "-x - 2"
   ]
  },
  {
   "cell_type": "code",
   "execution_count": null,
   "metadata": {},
   "outputs": [],
   "source": [
    "-(x+1) # = x + 1??"
   ]
  },
  {
   "cell_type": "code",
   "execution_count": null,
   "metadata": {},
   "outputs": [],
   "source": [
    "x * x"
   ]
  },
  {
   "cell_type": "code",
   "execution_count": null,
   "metadata": {},
   "outputs": [],
   "source": [
    "y = 2^62"
   ]
  },
  {
   "cell_type": "code",
   "execution_count": null,
   "metadata": {},
   "outputs": [],
   "source": [
    "y * y"
   ]
  },
  {
   "cell_type": "code",
   "execution_count": null,
   "metadata": {},
   "outputs": [],
   "source": [
    "x * y"
   ]
  },
  {
   "cell_type": "markdown",
   "metadata": {},
   "source": [
    "Embora os valores máximos dos inteiros de 64 bits pareçam bastante grandes, eles podem ser alcançados com relativa facilidade."
   ]
  },
  {
   "cell_type": "code",
   "execution_count": null,
   "metadata": {},
   "outputs": [],
   "source": [
    "factorial(20)"
   ]
  },
  {
   "cell_type": "code",
   "execution_count": null,
   "metadata": {},
   "outputs": [],
   "source": [
    "factorial(20) * 21"
   ]
  },
  {
   "cell_type": "markdown",
   "metadata": {},
   "source": [
    "### BigInt"
   ]
  },
  {
   "cell_type": "markdown",
   "metadata": {},
   "source": [
    "Apesar do limite dos inteiros, muitas vezes queremos utilizar valores inteiros absurdamente grandes. Para isso existem **implementações** de números inteiros grandes - BigInts, para encurtar - que permitem, a priori, qualquer número inteiro. É importante notar a diferença entre um BigInt e um inteiro nativo. O BigInt **sempre** vem de uma implementação, enquanto que o inteiro nativo \"existe\" no processador. Todas as contas com BigInt serão mais lentas que em inteiros nativos, então não podemos simplesmente usar BigInt para tudo."
   ]
  },
  {
   "cell_type": "code",
   "execution_count": null,
   "metadata": {},
   "outputs": [],
   "source": [
    "log2(4 * 10^(18))"
   ]
  },
  {
   "cell_type": "code",
   "execution_count": null,
   "metadata": {},
   "outputs": [],
   "source": [
    "big\"2\"^300"
   ]
  },
  {
   "cell_type": "code",
   "execution_count": null,
   "metadata": {
    "scrolled": true
   },
   "outputs": [],
   "source": [
    "factorial(big\"30\")"
   ]
  },
  {
   "cell_type": "markdown",
   "metadata": {},
   "source": [
    "# Introdução à pontos flutuantes"
   ]
  },
  {
   "cell_type": "markdown",
   "metadata": {},
   "source": [
    "Nem só de inteiros vive o homem. Vamos falar sobre números de ponto flutuante na máquina, que é como representamos números reais (spoiler: só um subconjunto dos racionais, como veremos a seguir)."
   ]
  },
  {
   "cell_type": "markdown",
   "metadata": {},
   "source": [
    "Um número em ponto flutuante é da forma\n",
    "$$ \\pm 0.\\mbox{mantissa} \\times \\mbox{base}^\\mbox{expoente}, $$\n",
    "onde a mantissa é uma sequência de dígitos entre 0 e a base menos 1."
   ]
  },
  {
   "cell_type": "markdown",
   "metadata": {},
   "source": [
    "### Exemplos\n",
    "\n",
    "$$ 234 = 0.234 \\times 10^3 $$\n",
    "\n",
    "$$ -12.5 = -.125 \\times 10^2 $$\n",
    "\n",
    "$$ 0.001 = 0.1 \\times 10^{-2} $$\n",
    "\n",
    "$$ (101)_2 = (0.101)_2 \\times 2^3. $$"
   ]
  },
  {
   "cell_type": "markdown",
   "metadata": {},
   "source": [
    "Veja que a notação é muito parecida com a notação científica."
   ]
  },
  {
   "cell_type": "markdown",
   "metadata": {},
   "source": [
    "Números em ponto flutuante são armazenados numa quantidade finita de bits - normalmente, 64 bits. A base escolhida é a base 2, e tanto a mantissa quando o expoente são armazenados nesses 64 bits. O tipo em Julia que representa pontos flutuante de 64 bits é o Float64. Também existem o Float16 e o Float32, que usam 16 e 32 bits, respectivamente."
   ]
  },
  {
   "cell_type": "markdown",
   "metadata": {},
   "source": [
    "Lembre-se que os números 5 e 6 em binário são 101 e 110. Veja em Float16:"
   ]
  },
  {
   "cell_type": "code",
   "execution_count": null,
   "metadata": {},
   "outputs": [],
   "source": [
    "bitstring(Float16(5))"
   ]
  },
  {
   "cell_type": "code",
   "execution_count": null,
   "metadata": {},
   "outputs": [],
   "source": [
    "bitstring(Float16(6))"
   ]
  },
  {
   "cell_type": "markdown",
   "metadata": {},
   "source": [
    "As primeiras casas indicam o expoente, e as últimas indicam a mantissa."
   ]
  },
  {
   "cell_type": "markdown",
   "metadata": {},
   "source": [
    "Existem vários detalhes da implementação de ponto flutuante que iremos deixar de lado. Vamos olhar apenas de uma maneira mais simples a parte teórica."
   ]
  },
  {
   "cell_type": "markdown",
   "metadata": {},
   "source": [
    "Note que teremos limitações para a mantissa e expoente. Em particular, na base 10, pensaremos que a mantissa tem uma limitação no número de dígitos depois da vírgula, e o expoente estará limitada entre valores $L$ e $U$ como $L \\leq E \\leq U$.\n",
    "Note que isso implica que existem valores máximos e mínimos."
   ]
  },
  {
   "cell_type": "markdown",
   "metadata": {},
   "source": [
    "Por exemplo, com 3 dígitos na mantissa e um expoente limitado por $-3 \\leq E \\leq 4$, o máximo será\n",
    "$$ X_{\\max} = 0.999 \\times 10^4 \\approx 10^4, $$\n",
    "o menor número positivo será\n",
    "$$ X_{\\min} = 0.001 \\times 10^{-3} = 10^{-6}. $$"
   ]
  },
  {
   "cell_type": "markdown",
   "metadata": {},
   "source": [
    "O conjunto dos números de pontos flutuante não abrange todas as possibilidades de números que poderiam ser representados com a quantidade de bits dada. Por exemplo, $0\\times 10^n$ ainda é zero, independente do $n$. Sendo assim, existem várias sequências de bits \"livres\", que podem ser usados para representar outras coisas. Em particular, nos pontos flutuantes é possível representar um valor infinito:"
   ]
  },
  {
   "cell_type": "code",
   "execution_count": null,
   "metadata": {},
   "outputs": [],
   "source": [
    "Inf"
   ]
  },
  {
   "cell_type": "code",
   "execution_count": null,
   "metadata": {},
   "outputs": [],
   "source": [
    "Inf > 1e300"
   ]
  },
  {
   "cell_type": "code",
   "execution_count": null,
   "metadata": {},
   "outputs": [],
   "source": [
    "1 / Inf"
   ]
  },
  {
   "cell_type": "code",
   "execution_count": null,
   "metadata": {},
   "outputs": [],
   "source": [
    "Inf + Inf"
   ]
  },
  {
   "cell_type": "markdown",
   "metadata": {},
   "source": [
    "e também um valor que indica que a operação realizada contém alguma incoerência, o *NotANumber*, ou *NaN*."
   ]
  },
  {
   "cell_type": "code",
   "execution_count": null,
   "metadata": {},
   "outputs": [],
   "source": [
    "NaN"
   ]
  },
  {
   "cell_type": "code",
   "execution_count": null,
   "metadata": {},
   "outputs": [],
   "source": [
    "0 / 0"
   ]
  },
  {
   "cell_type": "code",
   "execution_count": null,
   "metadata": {},
   "outputs": [],
   "source": [
    "Inf - Inf"
   ]
  },
  {
   "cell_type": "markdown",
   "metadata": {},
   "source": [
    "**Cuidado:** O NaN é contagioso. Se ao programar você encontrar um NaN, você deve examinar seu código, descobrir o que está causando ele, e evitar esse problema."
   ]
  },
  {
   "cell_type": "code",
   "execution_count": null,
   "metadata": {},
   "outputs": [],
   "source": [
    "NaN + 1"
   ]
  },
  {
   "cell_type": "code",
   "execution_count": null,
   "metadata": {},
   "outputs": [],
   "source": [
    "NaN - NaN"
   ]
  },
  {
   "cell_type": "code",
   "execution_count": null,
   "metadata": {},
   "outputs": [],
   "source": [
    "1 / NaN"
   ]
  },
  {
   "cell_type": "markdown",
   "metadata": {},
   "source": [
    "**Representação gráfica dos floats**\n",
    "\n",
    "Abaixo, veremos todos os números em ponto flutuante (ou o que dá pra ver).\n",
    "\n",
    "Para cada ponto em azul, a abscissa corresponde à um ponto flutuante, e ordenada desse ponto é a distância entre um ponto e o ponto imediatamente antes dele."
   ]
  },
  {
   "cell_type": "code",
   "execution_count": null,
   "metadata": {},
   "outputs": [],
   "source": [
    "using Plots\n",
    "gr(size=(600,400))\n",
    "default(fmt = :png)"
   ]
  },
  {
   "cell_type": "code",
   "execution_count": null,
   "metadata": {},
   "outputs": [],
   "source": [
    "x = Float16(0.0)\n",
    "X = Float16[0.0]\n",
    "D = Float16[0.0]\n",
    "while x < Inf\n",
    "    y = nextfloat(x)\n",
    "    d = y - x\n",
    "    x = y\n",
    "    push!(X, x)\n",
    "    push!(D, d)\n",
    "end\n",
    "println(log2.(unique(D)))"
   ]
  },
  {
   "cell_type": "code",
   "execution_count": null,
   "metadata": {},
   "outputs": [],
   "source": [
    "scatter(X, D, ms=1, m=(stroke(0)), leg=false)"
   ]
  },
  {
   "cell_type": "markdown",
   "metadata": {},
   "source": [
    "Veja que as distância são as potências de 2."
   ]
  },
  {
   "cell_type": "markdown",
   "metadata": {},
   "source": [
    "A base tradicionalmente é 2 nos computadores, e os bits atribuídos a um número desses é separado em uma parte para a mantissa e outra para o expoente. Em particular, com 64 bits, usamos 53 dígitos para a mantissa e 11 para o expoente.\n",
    "Um dos bits da mantissa guarda o sinal do elemento."
   ]
  },
  {
   "cell_type": "markdown",
   "metadata": {},
   "source": [
    "Um aspecto essencial dos pontos flutuantes é que eles representam apenas uma quantidade finita de pontos, e como a quantidade dígitos depois da vírgula da mantissa também é finita, apenas os racionais podem ser representados.\n",
    "\n",
    "Mais do que isso, dízimas períodicas são truncadas. Por exemplo, 1/3 seria aproximado por 0.66...67 para alguma quantidade de dígitos 6.\n",
    "\n",
    "No entanto, no computador usamos a base 2, e alguns números que não são dízimos na base 10 podem ser dízima na base 2. Por exemplo, 0.1."
   ]
  },
  {
   "cell_type": "markdown",
   "metadata": {},
   "source": [
    "Veja que\n",
    "$$S = 1 + \\frac{1}{2^4} + \\frac{1}{2^8} + \\frac{1}{2^{12}} + \\dots = \\frac{1}{1 - 2^{-4}} = \\frac{16}{15}.$$\n",
    "Daí,\n",
    "$$\\frac{1}{2^4}(S + \\tfrac{1}{2}S) = \\frac{1}{16}\\times\\frac{24}{15} = \\frac{1}{10}.$$"
   ]
  },
  {
   "cell_type": "markdown",
   "metadata": {},
   "source": [
    "Por outro lado, $(S)_2 = 1.0001000100010001\\dots$, então\n",
    "$$\\frac{1}{10} = \\frac{1}{2^4}(1.000100010\\dots + 0.100010001\\dots\n",
    "= \\frac{1}{2^4}(1.100110011\\dots) = 0.000110011001100\\dots$$"
   ]
  },
  {
   "cell_type": "code",
   "execution_count": null,
   "metadata": {},
   "outputs": [],
   "source": [
    "using Printf\n",
    "\n",
    "@printf(\"%20.18f\\n\", 0.1)"
   ]
  },
  {
   "cell_type": "code",
   "execution_count": null,
   "metadata": {},
   "outputs": [],
   "source": [
    "@printf(\"%20.18f\\n\", 0.5)"
   ]
  },
  {
   "cell_type": "markdown",
   "metadata": {},
   "source": [
    "Apesar de não parecer muito, essa pequena diferença levará a erros como o abaixo:"
   ]
  },
  {
   "cell_type": "code",
   "execution_count": null,
   "metadata": {},
   "outputs": [],
   "source": [
    "0.1 + 0.2 - 0.3"
   ]
  },
  {
   "cell_type": "markdown",
   "metadata": {},
   "source": [
    "## Aritmética de Ponto Flutuante"
   ]
  },
  {
   "cell_type": "markdown",
   "metadata": {},
   "source": [
    "Além do armazenamento, também é importante definir a **aritmética de ponto flutuante**."
   ]
  },
  {
   "cell_type": "markdown",
   "metadata": {},
   "source": [
    "Dado dois números armazenados na mesma base, a operação de soma ou subtração entre os dois ocorre da seguinte forma:"
   ]
  },
  {
   "cell_type": "code",
   "execution_count": null,
   "metadata": {},
   "outputs": [],
   "source": [
    "#=\n",
    "    Entrada: dois numeros x₁ = M₁×βᴱ¹ e x₂ = M₂×βᴱ².\n",
    "1. Calcule o maior expoente E = max(E₁, E₂)\n",
    "2. Escreva os dois números usando este expoente\n",
    "    x₁ = (M₁ × βᴱ¹⁻ᴱ) × βᴱ\n",
    "    x₂ = (M₂ × βᴱ²⁻ᴱ) × βᴱ\n",
    "3. Some os dois\n",
    "    x₃ = x₁ + x₂ = (M₁ × βᴱ¹⁻ᴱ + M₂ × βᴱ²⁻ᴱ) × βᴱ\n",
    "4. Calcule a mantissa M₃ e expoente E₃ do número novo\n",
    "    x₃ = M₃×βᴱ³\n",
    "=#"
   ]
  },
  {
   "cell_type": "markdown",
   "metadata": {},
   "source": [
    "Observe, no entanto, que como a mantissa e o expoente são guardados usando uma quantidade finita de bits, então podemos acabar perdendo informação."
   ]
  },
  {
   "cell_type": "markdown",
   "metadata": {},
   "source": [
    "Vamos fazer uma simulação dessa operação uma mantissa de 3 dígitos além da vírgula, e um expoente com limitantes $-5 \\leq E \\leq 4$, na base 10."
   ]
  },
  {
   "cell_type": "code",
   "execution_count": null,
   "metadata": {},
   "outputs": [],
   "source": [
    "#=\n",
    "    34.12  +  8.256\n",
    "\n",
    "    3.412 × 10¹ + 8.256 × 10⁰\n",
    "    3.412 × 10¹ + 0.8256 × 10¹\n",
    "    (3.412 + 0.8256) × 10¹\n",
    "    4.2376 × 10¹\n",
    "    4.238 × 10¹ # Armazenado\n",
    "    42.38\n",
    "=#"
   ]
  },
  {
   "cell_type": "markdown",
   "metadata": {},
   "source": [
    "Essa perda de dígitos é chamado de **erro de arredondamento**."
   ]
  },
  {
   "cell_type": "markdown",
   "metadata": {},
   "source": [
    "Em alguns casos, esse erro pode fazer com que um dos números somados seja tratado como zero."
   ]
  },
  {
   "cell_type": "code",
   "execution_count": null,
   "metadata": {},
   "outputs": [],
   "source": [
    "#=\n",
    "    2351 + 0.01234\n",
    "\n",
    "    2.351 × 10³ + 1.234 × 10⁻²\n",
    "    2.351 × 10³ + 0.00001234 × 10³\n",
    "    (2.351 + 0.00001234) × 10³\n",
    "    2.35101234 × 10³\n",
    "    2.351 × 10³ # Armazenado\n",
    "    2351\n",
    "=#"
   ]
  },
  {
   "cell_type": "markdown",
   "metadata": {},
   "source": [
    "No armazenamento IEEE754, é um pouco mais complicado chegar nos valores máximos e mínimos, mas eles ainda existem.\n",
    "Em particular, podemos usar o código abaixo para calcular qual o menor número positivo que é tratado como 0 quando somado à 1."
   ]
  },
  {
   "cell_type": "code",
   "execution_count": null,
   "metadata": {},
   "outputs": [],
   "source": [
    "ϵ = 1.0\n",
    "while 1.0 + ϵ > 1.0\n",
    "    ϵ = ϵ/2\n",
    "end\n",
    "ϵ = 2ϵ"
   ]
  },
  {
   "cell_type": "code",
   "execution_count": null,
   "metadata": {},
   "outputs": [],
   "source": [
    "eps(Float64)"
   ]
  },
  {
   "cell_type": "code",
   "execution_count": null,
   "metadata": {},
   "outputs": [],
   "source": [
    "eps(Float16)"
   ]
  },
  {
   "cell_type": "markdown",
   "metadata": {},
   "source": [
    "Esse número é chamado de **precisão da máquina**, e às vezes denotado por $\\epsilon_{\\mbox{machine}}$.\n",
    "Para todo número real $x$, existe um número $x'$ em ponto flutuante tal que\n",
    "$$ |x - x'| \\leq \\epsilon_{\\mbox{machine}}|x|. $$"
   ]
  },
  {
   "cell_type": "code",
   "execution_count": null,
   "metadata": {},
   "outputs": [],
   "source": [
    "eps(0.3)"
   ]
  },
  {
   "cell_type": "code",
   "execution_count": null,
   "metadata": {},
   "outputs": [],
   "source": [
    "0.1 + 0.2 - 0.3"
   ]
  },
  {
   "cell_type": "markdown",
   "metadata": {},
   "source": [
    "A multiplicação é mais simples. Os expoentes são somados, as mantissas multiplicadas, e os valores são arredondados e ajustados de modo a ficar na forma de ponto flutuante. Análogo para divisão."
   ]
  },
  {
   "cell_type": "markdown",
   "metadata": {},
   "source": [
    "Nos pontos flutuantes de 64 bits (`Float64` no Julia), o maior valor representável nessa base é por volta de $10^{308}$ e o menor positivo é $5\\times10^{-324}$. Diferente do que acontece com inteiros, quando fazemos alguma coisa que ultrapassa o maior valor, nós temos o chamado **overflow**. Denotaremos o número como $\\infty$ (infinito), ou `Inf` em Julia. Se algum cálculo resultar em um valor positivo que o menor valor positivo, obtemos um chamado **underflow**, e o valor é considerado 0."
   ]
  },
  {
   "cell_type": "code",
   "execution_count": null,
   "metadata": {},
   "outputs": [],
   "source": [
    "x = 2.0"
   ]
  },
  {
   "cell_type": "code",
   "execution_count": null,
   "metadata": {},
   "outputs": [],
   "source": [
    "x = x^x"
   ]
  },
  {
   "cell_type": "markdown",
   "metadata": {},
   "source": [
    "Denotamos por $\\mbox{fl}(x)$ o número em ponto flutuante mais próximo do real $x$. Temos que para cada $x \\in \\mathbb{R}$, existe $\\epsilon$ tal que $|\\epsilon| \\leq \\epsilon_{\\mbox{machine}}$ e $\\mbox{fl}(x) = x(1+\\epsilon)$."
   ]
  },
  {
   "cell_type": "markdown",
   "metadata": {},
   "source": [
    "Como não estamos trabalhando nos reais (às vezes escrevemos $\\mathbb{F}$), então as operações básicas não estão mais definidas como antes. Por exemplo, $\\mbox{fl}(1) = 1$ e $\\mbox{fl}(10) = 10$, mas\n",
    "$1/10 \\neq \\mbox{fl}(1/10)$.\n",
    "\n",
    "Sendo assim, redefinimos as operações de soma, subtração, divisão e multiplicação. Seja $\\ast$ uma das operações $+, -, \\times, \\div$, e seja $\\circledast$ a operação correspondente em ponto flutuante, dada por\n",
    "$$ x \\circledast y = \\mbox{fl}(x \\ast y). $$\n",
    "\n",
    "Se pudermos definir um computador com as operações acima, teremos o chamado **Axioma Fundamental da Aritmética de Ponto Flutuante**: Para todo $x, y \\in \\mathbb{F}$, existe $\\epsilon$ com $|\\epsilon| \\leq \\epsilon_{\\mbox{machine}}$ tal que\n",
    "$$ x \\circledast y = (x \\ast y)(1 + \\epsilon). $$"
   ]
  },
  {
   "cell_type": "markdown",
   "metadata": {},
   "source": [
    "Note que a soma não é associativa."
   ]
  },
  {
   "cell_type": "code",
   "execution_count": null,
   "metadata": {},
   "outputs": [],
   "source": [
    "(1.0 + 1e-16) + 1e-16 == 1.0 + (1e-16 + 1e-16)"
   ]
  },
  {
   "cell_type": "code",
   "execution_count": null,
   "metadata": {},
   "outputs": [],
   "source": [
    "((1.0 + 1e-16) + 1e-16)"
   ]
  },
  {
   "cell_type": "code",
   "execution_count": null,
   "metadata": {},
   "outputs": [],
   "source": [
    "(1.0 + (1e-16 + 1e-16))"
   ]
  },
  {
   "cell_type": "code",
   "execution_count": null,
   "metadata": {},
   "outputs": [],
   "source": [
    "((1.0 + 1e-16) + 1e-16) - (1.0 + (1e-16 + 1e-16))"
   ]
  },
  {
   "cell_type": "markdown",
   "metadata": {},
   "source": [
    "Por isso é bastante importante ter noção dos erros que estão acontecendo, para pensar na melhor maneira de se fazer certos cálculos."
   ]
  },
  {
   "cell_type": "markdown",
   "metadata": {},
   "source": [
    "$$ \\frac{d}{dx}\\bigg(\\sqrt{x}\\bigg)\\bigg|_{x=a} = \\lim_{h\\to 0} \\frac{\\sqrt{a + h} - \\sqrt{a}}{h}\n",
    "\\approx \\frac{\\sqrt{a + h} - \\sqrt{a}}{h},\n",
    "$$\n",
    "para algum $h$ pequeno e positivo."
   ]
  },
  {
   "cell_type": "code",
   "execution_count": null,
   "metadata": {},
   "outputs": [],
   "source": [
    "h = 1e-14\n",
    "a = 1.0"
   ]
  },
  {
   "cell_type": "code",
   "execution_count": null,
   "metadata": {},
   "outputs": [],
   "source": [
    "(sqrt(a + h) - sqrt(a)) / h"
   ]
  },
  {
   "cell_type": "code",
   "execution_count": null,
   "metadata": {},
   "outputs": [],
   "source": [
    "(sqrt(a + h) - sqrt(a)) / h - 0.5"
   ]
  },
  {
   "cell_type": "markdown",
   "metadata": {},
   "source": [
    "A aproximação ficou muito ruim. Mas veja que\n",
    "$$ \\frac{\\sqrt{a + h} - \\sqrt{a}}{h} = \\frac{a + h - a}{h(\\sqrt{a + h} + \\sqrt{a})}\n",
    "= \\frac{1}{\\sqrt{a + h} + \\sqrt{a}}. $$"
   ]
  },
  {
   "cell_type": "code",
   "execution_count": null,
   "metadata": {},
   "outputs": [],
   "source": [
    "1 / (sqrt(a + h) + sqrt(a))"
   ]
  },
  {
   "cell_type": "code",
   "execution_count": null,
   "metadata": {},
   "outputs": [],
   "source": [
    "1 / (sqrt(a + h) + sqrt(a)) - 0.5"
   ]
  },
  {
   "cell_type": "code",
   "execution_count": null,
   "metadata": {},
   "outputs": [],
   "source": [
    "using Plots\n",
    "gr(size=(600,400))\n",
    "default(fmt=:png)"
   ]
  },
  {
   "cell_type": "code",
   "execution_count": null,
   "metadata": {},
   "outputs": [],
   "source": [
    "Ap1(h) = max(0.5 - (sqrt(1.0 + h) - sqrt(1.0)) / h, eps(Float64) / 2)\n",
    "Ap2(h) = max(0.5 - 1 / (sqrt(1.0 + h) + sqrt(1.0)), eps(Float64) / 2)\n",
    "valores_h = [2.0^p for p = range(-50, stop=-10, length=100)]\n",
    "\n",
    "#plot(valores_h, fill(0.5, length(valores_h)), c=:black, l=:dash, lab=\"Exato\")\n",
    "plot(xaxis=:log, yaxis=:log)\n",
    "scatter!(valores_h, Ap1.(valores_h), c=:red, lab=\"Ruim\", ms=3)\n",
    "scatter!(valores_h, Ap2.(valores_h), c=:blue, lab=\"Boa\", ms=3)"
   ]
  },
  {
   "cell_type": "markdown",
   "metadata": {},
   "source": [
    "Perceba que alguns ponto do \"Ruim\" na verdade tem um erro nulo. Isso acontece quando o ponto flutuante coincide com o valor real."
   ]
  },
  {
   "cell_type": "markdown",
   "metadata": {},
   "source": [
    "## Precisão Arbitrária"
   ]
  },
  {
   "cell_type": "markdown",
   "metadata": {},
   "source": [
    "Da mesma maneira que às vezes queremos trabalhar com inteiros maiores que o máximo da máquina, às vezes também estamos interessados em pontos flutuantes com mais precisão que os da máquina. Em Julia, são chamados de `BigFloat`."
   ]
  },
  {
   "cell_type": "code",
   "execution_count": null,
   "metadata": {},
   "outputs": [],
   "source": [
    "BigFloat(pi)"
   ]
  },
  {
   "cell_type": "code",
   "execution_count": null,
   "metadata": {},
   "outputs": [],
   "source": [
    "eps(big\"0.1\")"
   ]
  },
  {
   "cell_type": "code",
   "execution_count": null,
   "metadata": {},
   "outputs": [],
   "source": [
    "sqrt(2.0)^2 - 2.0"
   ]
  },
  {
   "cell_type": "code",
   "execution_count": null,
   "metadata": {},
   "outputs": [],
   "source": [
    "sqrt(big\"2.0\")^2 - big\"2.0\""
   ]
  },
  {
   "cell_type": "code",
   "execution_count": null,
   "metadata": {},
   "outputs": [],
   "source": [
    "nextfloat(big\"0.0\") # Menor positivo"
   ]
  },
  {
   "cell_type": "markdown",
   "metadata": {},
   "source": [
    "Diferente dos `BigInt`s, os `BigFloat`s não crescem automaticamente. Devemos usar a função abaixo para escolher a precisão do mesmo."
   ]
  },
  {
   "cell_type": "code",
   "execution_count": null,
   "metadata": {},
   "outputs": [],
   "source": [
    "setprecision(512)"
   ]
  },
  {
   "cell_type": "code",
   "execution_count": null,
   "metadata": {},
   "outputs": [],
   "source": [
    "nextfloat(big\"0.0\") # Menor positivo"
   ]
  },
  {
   "cell_type": "code",
   "execution_count": null,
   "metadata": {},
   "outputs": [],
   "source": [
    "BigFloat(pi)"
   ]
  },
  {
   "cell_type": "markdown",
   "metadata": {},
   "source": [
    "## Aproximações da derivada\n",
    "\n",
    "Como aplicação de aritmética de ponto flutuante, vamos considerar o problema de aproximar derivadas.\n",
    "A definição da derivada é\n",
    "$$ \\lim_{h \\rightarrow 0} \\frac{f(x+h) - f(x)}{h}, $$\n",
    "então podemos aproveitar essa definição é escolher um $h$ pequeno e não nulo para aproximar essa derivada.\n",
    "\n",
    "Vamos testar essa aproximação com $f(x) = e^x$, cuja derivada é $f'(x)$."
   ]
  },
  {
   "cell_type": "code",
   "execution_count": null,
   "metadata": {},
   "outputs": [],
   "source": [
    "DF(x, h) = (exp(x+h) - exp(x))/h"
   ]
  },
  {
   "cell_type": "code",
   "execution_count": null,
   "metadata": {},
   "outputs": [],
   "source": [
    "f(x) = exp(x)"
   ]
  },
  {
   "cell_type": "code",
   "execution_count": null,
   "metadata": {
    "scrolled": false
   },
   "outputs": [],
   "source": [
    "# Aproximação para $h = 1e-4$\n",
    "h = 1e-4\n",
    "plot(f, -1, 1, c=:blue)\n",
    "plot!(x->DF(x, h), -1, 1, c=:red)"
   ]
  },
  {
   "cell_type": "code",
   "execution_count": null,
   "metadata": {},
   "outputs": [],
   "source": [
    "plot(x->DF(x, h) - f(x), -1, 1, c=:blue)"
   ]
  },
  {
   "cell_type": "markdown",
   "metadata": {},
   "source": [
    "Essa aproximação parece bastante boa. Vamos ver num intervalo maior."
   ]
  },
  {
   "cell_type": "code",
   "execution_count": null,
   "metadata": {},
   "outputs": [],
   "source": [
    "# Aproximação para $h = 1e-4$\n",
    "h = 1e-4\n",
    "plot(f, -10, 10, c=:blue)\n",
    "plot!(x->DF(x, h), -10, 10, c=:red)"
   ]
  },
  {
   "cell_type": "markdown",
   "metadata": {},
   "source": [
    "Vamos ver o erro dessa aproximação."
   ]
  },
  {
   "cell_type": "code",
   "execution_count": null,
   "metadata": {},
   "outputs": [],
   "source": [
    "# Aproximação para $h = 1e-4$\n",
    "h = 1e-4\n",
    "plot(x->f(x) - DF(x, h), -10, 10, c=:red)"
   ]
  },
  {
   "cell_type": "code",
   "execution_count": null,
   "metadata": {},
   "outputs": [],
   "source": [
    "abs(f(1.0) - DF(1.0, 1e-4))/f(1.0)"
   ]
  },
  {
   "cell_type": "markdown",
   "metadata": {},
   "source": [
    "Razoavelmente esperado, o erro está na casa dos $5\\times 10^{-5}$. Vamos diminuir o valor de $h$."
   ]
  },
  {
   "cell_type": "code",
   "execution_count": null,
   "metadata": {},
   "outputs": [],
   "source": [
    "(f(1.0) - DF(1.0, 1e-5))/f(1.0)"
   ]
  },
  {
   "cell_type": "markdown",
   "metadata": {},
   "source": [
    "Também esperado, o erro diminui. Vamos tentar um $h$ bem menor."
   ]
  },
  {
   "cell_type": "code",
   "execution_count": null,
   "metadata": {},
   "outputs": [],
   "source": [
    "(f(1.0) - DF(1.0, 1e-15))/f(1.0)"
   ]
  },
  {
   "cell_type": "markdown",
   "metadata": {},
   "source": [
    "Ora, o erro aumentou bastante. Como você deve suspeitar, isso acontece por causa dos erros de cancelamento.\n",
    "Vejamos um gráfico do erro em função de $h$."
   ]
  },
  {
   "cell_type": "code",
   "execution_count": null,
   "metadata": {},
   "outputs": [],
   "source": [
    "hs = []\n",
    "Es = []\n",
    "h = 1.0\n",
    "x = 1.0\n",
    "while h > 1e-16\n",
    "    E = abs(f(x) - DF(x, h))\n",
    "    push!(hs, h)\n",
    "    push!(Es, E)\n",
    "    h = h / 2\n",
    "end\n",
    "plot(hs, Es, m=3, xaxis=:log, yaxis=:log)"
   ]
  },
  {
   "cell_type": "markdown",
   "metadata": {},
   "source": [
    "Pelo gráfico podemos ver que o erro diminui até por volta de $10^{-8}$, e depois aumenta, erraticamente.\n",
    "Vamos tentar descobrir teoricamente o motivo disso."
   ]
  },
  {
   "cell_type": "markdown",
   "metadata": {},
   "source": [
    "Vamos usar o Teorema de Taylor com resto para encontrar um limitante para a derivada aproximada.\n",
    "Veja que expandindo $f(x+h)$ em torno de $x$, temos\n",
    "$$ f(x + h) = f(x) + f'(x)h + \\frac{h^2}{2}f''(\\xi), $$\n",
    "onde $\\xi$ é um valor entre $x$ e $h$. Isso quer dizer que\n",
    "$$ f'(x) = \\frac{f(x+h) - f(x)}{h} - \\frac{h}{2}f''(\\xi). $$"
   ]
  },
  {
   "cell_type": "markdown",
   "metadata": {},
   "source": [
    "Isso nos dá um embasamento teórico de porque o erro diminui inicialmente, e porque é proporcional à $h/2$.\n",
    "No entanto, lembre-se que computacionalmente não conseguimos calcular $f(x)$ exatamente. Na prática estamos calculando um valor $\\overline{f}(x)$ e $\\overline{f}(x+h)$, e daí\n",
    "$$ D_h(x) = \\frac{\\overline{f}(x+h) - \\overline{f}(x)}{h}. $$"
   ]
  },
  {
   "cell_type": "markdown",
   "metadata": {},
   "source": [
    "Lembre-se da limitação do erro é dada por um valor $\\epsilon$ com $|\\epsilon| < \\epsilon_M$ (da máquina), e portanto vamos usar diretamente $\\epsilon_M$ como limitante:\n",
    "$$ |\\overline{f}(x) - f(x)| \\leq \\epsilon_M |f(x)|, $$\n",
    "e\n",
    "$$ |\\overline{f}(x+h) - f(x+h)| \\leq \\epsilon_M |f(x+h)|. $$\n",
    "Considerando nosso interesse num intervalo $(a,b)$ onde $x$ e $x+h$ residem, podemos limitar $|f(x)|$ por $L_1$ em\n",
    "todo esse intervalo, de modo que\n",
    "$$ |\\overline{f}(x) - f(x)| \\leq \\epsilon_M L_1, $$\n",
    "e\n",
    "$$ |\\overline{f}(x+h) - f(x+h)| \\leq \\epsilon_M L_1. $$"
   ]
  },
  {
   "cell_type": "markdown",
   "metadata": {},
   "source": [
    "Logo, o erro de nossa aproximação é\n",
    "\\begin{align}\n",
    "\\mbox{Erro}(h) & = |f'(x) - D_h(x)| \\\\\n",
    "& =\n",
    "\\bigg|\n",
    "    \\frac{f(x+h)-f(x)}{h} - \\frac{h}{2}f''(\\xi) -\n",
    "    \\frac{\\overline{f}(x+h)-\\overline{f}(x)}{h}\n",
    "\\bigg| \\\\\n",
    "& =\n",
    "\\bigg|\n",
    "    \\frac{\\overline{f}(x+h)-f(x+h)-\\overline{f}(x)+f(x)}{h}\n",
    "    - \\frac{h}{2}f''(\\xi)\n",
    "\\bigg| \\\\\n",
    "& \\leq\n",
    "    \\frac{|\\overline{f}(x+h)-f(x+h)| + |\\overline{f}(x) - f(x)|}{h}\n",
    "    + \\frac{h}{2}|f''(\\xi)| \\\\\n",
    "& \\leq\n",
    "    \\frac{2\\epsilon_M L_1}{h} + \\frac{h}{2}L_2,\n",
    "\\end{align}\n",
    "onde $L_2$ é um limitante para $|f''(x)|$ no intervalo $(a,b)$."
   ]
  },
  {
   "cell_type": "markdown",
   "metadata": {},
   "source": [
    "Note que o limitante para o erro depende de $1/h$ além de depender de $h$. Isso quer dizer que a diminuição de $h$ faz o erro crescer bastante, apesar do termo linear dizer que o erro diminui. Felizmente, temos $1/h$ multiplicado por $\\epsilon_M$, de modo que esse erro começa relativamente pequeno.\n",
    "\n",
    "Os problemas comeração quando o erro da esquerda for maior que o da direita, começando de um valor grande de $h$ e tendendo à 0. Nessa direção, o valor da esquerda é crescente, e o da direta é decrescente.\n",
    "Então, podemos buscar onde eles ficam iguais, e a partir daquele instante saberemos quando o da esquerda fica maior que o da direita."
   ]
  },
  {
   "cell_type": "markdown",
   "metadata": {},
   "source": [
    "$$ \\frac{2\\epsilon_M L1}{h} = \\frac{h}{2}L_2\n",
    "\\qquad \\Rightarrow \\qquad\n",
    "h = 2\\sqrt{\\frac{L_1}{L_2}}\\sqrt{\\epsilon_M}. $$"
   ]
  },
  {
   "cell_type": "markdown",
   "metadata": {},
   "source": [
    "Os valores de $L_1$ e $L_2$ só podem ser obtidos em casos específicos, pois dependem da função $f$, de sua segunda derivada, do intervalo em questão, e de quão apertado é o limitante obtido. No entanto, é possível ver que existe uma dependência linear com o valor $\\sqrt{\\epsilon_M}$, que no caso de precisão dupla é $10^{-8}$. Não por acaso, o valor que vimos no gráfico."
   ]
  },
  {
   "cell_type": "markdown",
   "metadata": {},
   "source": [
    "Além disso, veja o valor que o limitante obtém quando substituímos esse valor de $h$:\n",
    "$$ 2\\sqrt{\\epsilon_M}\\sqrt{L_1L_2}. $$\n",
    "Esse valor também condiz com o valor encontrado no gráfico."
   ]
  },
  {
   "cell_type": "markdown",
   "metadata": {},
   "source": [
    "Agora, vamos fazer a mesma análise com a seguinte aproximação para a derivada, chamada de diferença centrada,\n",
    "$$ f'(x) = \\frac{f(x+h) - f(x-h)}{2h} - \\frac{h^2}{6}f''(\\xi). $$"
   ]
  },
  {
   "cell_type": "markdown",
   "metadata": {},
   "source": [
    "**Exercício:** Faça a mesma análise que fizemos anteriormente para encontrar um valor ótimo para $h$ que minimize o limitante do erro, e também o valor desse limitante no $h$ ótimo.\n",
    "Compare seus resultados com o do gráfico abaixo."
   ]
  },
  {
   "cell_type": "code",
   "execution_count": null,
   "metadata": {},
   "outputs": [],
   "source": [
    "D_av(f, x, h) = (f(x + h) - f(x)) / h\n",
    "D_ct(f, x, h) = (f(x + h) - f(x - h)) / 2h\n",
    "hs = []\n",
    "E_av = []\n",
    "E_ct = []\n",
    "E_ct2 = []\n",
    "h = 1.0\n",
    "x = 1.0\n",
    "f(x) = exp(x)\n",
    "fx = exp(x)\n",
    "while h > 1e-16\n",
    "    push!(hs, h)\n",
    "    E = abs(fx - D_av(f, x, h))/abs(fx)\n",
    "    push!(E_av, E)\n",
    "    E = abs(fx - D_ct(f, x, h))/abs(fx)\n",
    "    push!(E_ct, E)\n",
    "    h = h /= 2\n",
    "end\n",
    "plot(hs, E_av, m=3, xaxis=:log, yaxis=:log, c=:blue)\n",
    "plot!(hs, E_ct, m=3, xaxis=:log, yaxis=:log, c=:red)"
   ]
  },
  {
   "cell_type": "markdown",
   "metadata": {},
   "source": [
    "A mesma análise pode ser feita para a segunda derivada, assim como outras. Além disso, existem várias maneiras de se aproximar as derivadas, utilizando mais avaliações da função $f$."
   ]
  },
  {
   "cell_type": "markdown",
   "metadata": {},
   "source": [
    "# Exercícios\n",
    "\n",
    "Faça os exercícios do capítulo 1 do livro Cálculo Numérico de Ruggiero e Lopes."
   ]
  },
  {
   "cell_type": "markdown",
   "metadata": {
    "collapsed": true
   },
   "source": [
    "1. Para cada sequência abaixo, calcule o maior termo que pode ser representado\n",
    "   por um inteiro de 64 bits sem sinal.\n",
    "\n",
    "   - $a_n = 2^n$;\n",
    "   - $a_n = 3n + 5$;\n",
    "   - $a_n = q a_{n-1}$ onde $q > 1$ e $a_0 = 1$;\n",
    "   - $a_n = n!$ (use o computador):\n",
    "   - $a_n = a_{n-1} + a_{n-2}$, com $a_0 = a_1 = 1$.\n",
    "   \n",
    "2. Sabendo que a primeira e segunda derivadas de $f$ em $x$ existem, calcule os\n",
    "   seguintes limites.\n",
    "  (Nota: Para real emoção, não use L'Hôpital).\n",
    "\n",
    "  - $\\displaystyle \\lim _ {h \\to 0} \\dfrac{f(x-h) - f(x)}{h}$;\n",
    "  - $\\displaystyle \\lim _ {h \\to 0} \\dfrac{f(x+h) - f(x-h)}{h}$;\n",
    "  - $\\displaystyle \\lim _ {h \\to 0} \\dfrac{f(x+2h) - 2f(x+h) + f(x)}{h}$;\n",
    "  - $\\displaystyle \\lim _ {h \\to 0} \\dfrac{f(x+h) - 2f(x) + f(x-h)}{h^2}$;\n",
    "  - $\\displaystyle \\lim _ {h \\to 0} \\dfrac{f(x + \\alpha h) - f(x - \\alpha h)}{h}$, $\\alpha \\neq 0$."
   ]
  }
 ],
 "metadata": {
  "@webio": {
   "lastCommId": "0be4986fd3444af09c859d4505a5087d",
   "lastKernelId": "e34e9dc9-7c51-44ea-8eaf-cb75b23f63eb"
  },
  "kernelspec": {
   "display_name": "Julia 1.1.0",
   "language": "julia",
   "name": "julia-1.1"
  },
  "language_info": {
   "file_extension": ".jl",
   "mimetype": "application/julia",
   "name": "julia",
   "version": "1.1.0"
  }
 },
 "nbformat": 4,
 "nbformat_minor": 2
}
