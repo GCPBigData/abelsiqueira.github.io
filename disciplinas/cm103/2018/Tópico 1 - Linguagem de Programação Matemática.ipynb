{
 "cells": [
  {
   "cell_type": "markdown",
   "metadata": {},
   "source": [
    "# Introdução à Linguagem Julia\n",
    "\n",
    "Julia é uma linguagem dinâmica de alto nível e alto desempenho.\n",
    "Ela se assemelha ao MatLab e ao Python na facilidade de escrita\n",
    "de código, mas sua velocidade pode ser comparável ao C e Fortran.\n",
    "\n",
    "A versão mais atual do Julia é a **0.6.4**."
   ]
  },
  {
   "cell_type": "markdown",
   "metadata": {},
   "source": [
    "# Jupyter\n",
    "\n",
    "O Jupyter é uma interface web para Julia, Python, e muitas outras.\n",
    "Ela **não** é o Julia, isto é, o Julia não depende do Jupyter para\n",
    "funcionar. No entanto, usando o Jupyter, aulas e apresentações\n",
    "ficam mais práticas.\n",
    "\n",
    "Cada *célula* do Jupyter pode ser executada com um `ctrl+enter`, ou\n",
    "um `ctrl+shift`, sendo que o último move a seleção para a célula de\n",
    "baixo.\n",
    "Você pode adicionar novas células usando o `+` no topo da página."
   ]
  },
  {
   "cell_type": "markdown",
   "metadata": {},
   "source": [
    "# O REPL - Terminal Interativo\n",
    "\n",
    "Ao abrir o Julia no Windows, ou digitar `julia` no terminal do Mac\n",
    "ou Linux, se abrirá um prompt tipo\n",
    "\n",
    "````julia\n",
    "julia>\n",
    "````\n",
    "\n",
    "O Jupyter também serve como esse prompt e todo comando digitado aqui\n",
    "pode ser digitado lá."
   ]
  },
  {
   "cell_type": "markdown",
   "metadata": {},
   "source": [
    "# Editor: JunoLab ou Atom\n",
    "\n",
    "[JunoLab](http://junolab.org/) é o editor oficial de Julia. Ainda não está 100%, mas já está usável.\n",
    "Você pode usar outros editores, mas o suporte à caracteres especiais é quase que exclusivo de um punhado.\n",
    "Em especial, o JunoLab é um dos melhores para isso.\n",
    "\n",
    "O JunoLab é feito em cima do [Atom](http://atom.io). Você pode baixar o Atom e instalar os pacotes específicos, se preferir ter mais controle."
   ]
  },
  {
   "cell_type": "markdown",
   "metadata": {},
   "source": [
    "## Jupyter vs Editor\n",
    "\n",
    "O Jupyter é utilizado para aulas, apresentações, workshops. A parte importante é a interatividade.\n",
    "\n",
    "O editor é usado para fazer códigos sérios. Para desenvolver os exercícios, projetos, e futuros pacotes, é necessário criar arquivos e ter um ambiente adequado."
   ]
  },
  {
   "cell_type": "code",
   "execution_count": 137,
   "metadata": {
    "scrolled": true
   },
   "outputs": [
    {
     "data": {
      "text/plain": [
       "MersenneTwister(UInt32[0x00000000], Base.dSFMT.DSFMT_state(Int32[748398797, 1073523691, -1738140313, 1073664641, -1492392947, 1073490074, -1625281839, 1073254801, 1875112882, 1073717145  …  943540191, 1073626624, 1091647724, 1073372234, -1273625233, -823628301, 835224507, 991807863, 382, 0]), [1.81379, 1.92158, 1.5991, 1.29976, 1.36941, 1.64975, 1.24743, 1.79144, 1.87432, 1.35286  …  1.29981, 1.37677, 1.80019, 1.84554, 1.33132, 1.11978, 1.50035, 1.64925, 1.83752, 1.89402], 382)"
      ]
     },
     "execution_count": 137,
     "metadata": {},
     "output_type": "execute_result"
    }
   ],
   "source": [
    "srand(0) # Para controle pessoal. Ignorar"
   ]
  },
  {
   "cell_type": "markdown",
   "metadata": {},
   "source": [
    "# Básico"
   ]
  },
  {
   "cell_type": "code",
   "execution_count": 141,
   "metadata": {},
   "outputs": [
    {
     "data": {
      "text/plain": [
       "5"
      ]
     },
     "execution_count": 141,
     "metadata": {},
     "output_type": "execute_result"
    }
   ],
   "source": [
    "2 + 3"
   ]
  },
  {
   "cell_type": "code",
   "execution_count": 142,
   "metadata": {},
   "outputs": [
    {
     "data": {
      "text/plain": [
       "15"
      ]
     },
     "execution_count": 142,
     "metadata": {},
     "output_type": "execute_result"
    }
   ],
   "source": [
    "3 * 5"
   ]
  },
  {
   "cell_type": "code",
   "execution_count": 140,
   "metadata": {},
   "outputs": [
    {
     "data": {
      "text/plain": [
       "343"
      ]
     },
     "execution_count": 140,
     "metadata": {},
     "output_type": "execute_result"
    }
   ],
   "source": [
    "7 ^ 3"
   ]
  },
  {
   "cell_type": "code",
   "execution_count": 146,
   "metadata": {},
   "outputs": [
    {
     "data": {
      "text/plain": [
       "0.36787944117144233"
      ]
     },
     "execution_count": 146,
     "metadata": {},
     "output_type": "execute_result"
    }
   ],
   "source": [
    "exp(-1)"
   ]
  },
  {
   "cell_type": "code",
   "execution_count": 148,
   "metadata": {},
   "outputs": [
    {
     "data": {
      "text/plain": [
       "0.7071063120935576"
      ]
     },
     "execution_count": 148,
     "metadata": {},
     "output_type": "execute_result"
    }
   ],
   "source": [
    "sin(3.14159/4)"
   ]
  },
  {
   "cell_type": "code",
   "execution_count": 151,
   "metadata": {},
   "outputs": [
    {
     "data": {
      "text/plain": [
       "π = 3.1415926535897..."
      ]
     },
     "execution_count": 151,
     "metadata": {},
     "output_type": "execute_result"
    }
   ],
   "source": [
    "pi"
   ]
  },
  {
   "cell_type": "code",
   "execution_count": 155,
   "metadata": {},
   "outputs": [
    {
     "data": {
      "text/plain": [
       "1.2246467991473532e-16"
      ]
     },
     "execution_count": 155,
     "metadata": {},
     "output_type": "execute_result"
    }
   ],
   "source": [
    "sin(pi)"
   ]
  },
  {
   "cell_type": "code",
   "execution_count": 162,
   "metadata": {},
   "outputs": [
    {
     "data": {
      "text/plain": [
       "3.0"
      ]
     },
     "execution_count": 162,
     "metadata": {},
     "output_type": "execute_result"
    }
   ],
   "source": [
    "round(pi * 1.0, 0)"
   ]
  },
  {
   "cell_type": "code",
   "execution_count": 163,
   "metadata": {},
   "outputs": [
    {
     "data": {
      "text/plain": [
       "3"
      ]
     },
     "execution_count": 163,
     "metadata": {},
     "output_type": "execute_result"
    }
   ],
   "source": [
    "abs(-3)"
   ]
  },
  {
   "cell_type": "code",
   "execution_count": 175,
   "metadata": {},
   "outputs": [
    {
     "name": "stdout",
     "output_type": "stream",
     "text": [
      "Base.Math.sec\n",
      "Base.Math.secd\n",
      "Base.Math.cscd\n",
      "Base.Math.csc\n",
      "Base.Math.sech\n",
      "Base.Math.csch\n",
      "Base.Math.asecd\n",
      "Base.Math.acscd\n",
      "Base.Math.asec\n",
      "Base.Math.acsch\n",
      "Base.Math.asech\n",
      "Base.Math.acsc\n"
     ]
    }
   ],
   "source": [
    "apropos(\"secant\")"
   ]
  },
  {
   "cell_type": "code",
   "execution_count": 174,
   "metadata": {
    "scrolled": true
   },
   "outputs": [
    {
     "name": "stdout",
     "output_type": "stream",
     "text": [
      "search: \u001b[1mc\u001b[22m\u001b[1ms\u001b[22m\u001b[1mc\u001b[22m \u001b[1mc\u001b[22m\u001b[1ms\u001b[22m\u001b[1mc\u001b[22mh \u001b[1mc\u001b[22m\u001b[1ms\u001b[22m\u001b[1mc\u001b[22md a\u001b[1mc\u001b[22m\u001b[1ms\u001b[22m\u001b[1mc\u001b[22m a\u001b[1mc\u001b[22m\u001b[1ms\u001b[22m\u001b[1mc\u001b[22mh a\u001b[1mc\u001b[22m\u001b[1ms\u001b[22m\u001b[1mc\u001b[22md \u001b[1mc\u001b[22mo\u001b[1ms\u001b[22m\u001b[1mc\u001b[22m T\u001b[1mC\u001b[22mP\u001b[1mS\u001b[22mo\u001b[1mc\u001b[22mket SparseMatrix\u001b[1mC\u001b[22m\u001b[1mS\u001b[22m\u001b[1mC\u001b[22m\n",
      "\n"
     ]
    },
    {
     "data": {
      "text/markdown": [
       "```\n",
       "csc(x)\n",
       "```\n",
       "\n",
       "Compute the cosecant of `x`, where `x` is in radians.\n"
      ],
      "text/plain": [
       "```\n",
       "csc(x)\n",
       "```\n",
       "\n",
       "Compute the cosecant of `x`, where `x` is in radians.\n"
      ]
     },
     "execution_count": 174,
     "metadata": {},
     "output_type": "execute_result"
    }
   ],
   "source": [
    "?csc"
   ]
  },
  {
   "cell_type": "code",
   "execution_count": 177,
   "metadata": {},
   "outputs": [
    {
     "data": {
      "text/plain": [
       "3"
      ]
     },
     "execution_count": 177,
     "metadata": {},
     "output_type": "execute_result"
    }
   ],
   "source": [
    "x = 3"
   ]
  },
  {
   "cell_type": "code",
   "execution_count": 184,
   "metadata": {},
   "outputs": [
    {
     "data": {
      "text/plain": [
       "9"
      ]
     },
     "execution_count": 184,
     "metadata": {},
     "output_type": "execute_result"
    }
   ],
   "source": [
    "x^2"
   ]
  },
  {
   "cell_type": "code",
   "execution_count": 185,
   "metadata": {},
   "outputs": [
    {
     "data": {
      "text/plain": [
       "6"
      ]
     },
     "execution_count": 185,
     "metadata": {},
     "output_type": "execute_result"
    }
   ],
   "source": [
    "y = 2x"
   ]
  },
  {
   "cell_type": "code",
   "execution_count": 186,
   "metadata": {},
   "outputs": [
    {
     "data": {
      "text/plain": [
       "3"
      ]
     },
     "execution_count": 186,
     "metadata": {},
     "output_type": "execute_result"
    }
   ],
   "source": [
    "y - x"
   ]
  },
  {
   "cell_type": "code",
   "execution_count": 187,
   "metadata": {},
   "outputs": [
    {
     "data": {
      "text/plain": [
       "0.01"
      ]
     },
     "execution_count": 187,
     "metadata": {},
     "output_type": "execute_result"
    }
   ],
   "source": [
    "1e-2 # 10⁻²"
   ]
  },
  {
   "cell_type": "code",
   "execution_count": 188,
   "metadata": {},
   "outputs": [
    {
     "data": {
      "text/plain": [
       "1000.0"
      ]
     },
     "execution_count": 188,
     "metadata": {},
     "output_type": "execute_result"
    }
   ],
   "source": [
    "1e3 # 10³"
   ]
  },
  {
   "cell_type": "code",
   "execution_count": 189,
   "metadata": {},
   "outputs": [
    {
     "data": {
      "text/plain": [
       "5.551115123125783e-17"
      ]
     },
     "execution_count": 189,
     "metadata": {},
     "output_type": "execute_result"
    }
   ],
   "source": [
    "0.1 + 0.2 - 0.3"
   ]
  },
  {
   "cell_type": "code",
   "execution_count": 190,
   "metadata": {},
   "outputs": [
    {
     "data": {
      "text/plain": [
       "e = 2.7182818284590..."
      ]
     },
     "execution_count": 190,
     "metadata": {},
     "output_type": "execute_result"
    }
   ],
   "source": [
    "e"
   ]
  },
  {
   "cell_type": "markdown",
   "metadata": {},
   "source": [
    "**TODO: Exercícios**"
   ]
  },
  {
   "cell_type": "markdown",
   "metadata": {},
   "source": [
    "# Álgebra Linear Numérica"
   ]
  },
  {
   "cell_type": "code",
   "execution_count": 197,
   "metadata": {},
   "outputs": [
    {
     "data": {
      "text/plain": [
       "3-element Array{Float64,1}:\n",
       " 0.0682234\n",
       " 0.479948 \n",
       " 0.468397 "
      ]
     },
     "execution_count": 197,
     "metadata": {},
     "output_type": "execute_result"
    }
   ],
   "source": [
    "rand(3)"
   ]
  },
  {
   "cell_type": "code",
   "execution_count": 199,
   "metadata": {},
   "outputs": [
    {
     "data": {
      "text/plain": [
       "3-element Array{Float64,1}:\n",
       " 1.0\n",
       " 1.0\n",
       " 1.0"
      ]
     },
     "execution_count": 199,
     "metadata": {},
     "output_type": "execute_result"
    }
   ],
   "source": [
    "ones(3)"
   ]
  },
  {
   "cell_type": "code",
   "execution_count": 200,
   "metadata": {},
   "outputs": [
    {
     "data": {
      "text/plain": [
       "3-element Array{Float64,1}:\n",
       " 0.0\n",
       " 0.0\n",
       " 0.0"
      ]
     },
     "execution_count": 200,
     "metadata": {},
     "output_type": "execute_result"
    }
   ],
   "source": [
    "zeros(3)"
   ]
  },
  {
   "cell_type": "code",
   "execution_count": 21,
   "metadata": {},
   "outputs": [
    {
     "data": {
      "text/plain": [
       "2×4 Array{Float64,2}:\n",
       " 0.177329  0.203477   0.0682693  0.973216\n",
       " 0.27888   0.0423017  0.361828   0.585812"
      ]
     },
     "execution_count": 21,
     "metadata": {},
     "output_type": "execute_result"
    }
   ],
   "source": [
    "rand(2,4)"
   ]
  },
  {
   "cell_type": "code",
   "execution_count": 201,
   "metadata": {},
   "outputs": [
    {
     "data": {
      "text/plain": [
       "3-element Array{Float64,1}:\n",
       " 0.452457\n",
       " 0.644211\n",
       " 0.669275"
      ]
     },
     "execution_count": 201,
     "metadata": {},
     "output_type": "execute_result"
    }
   ],
   "source": [
    "v = rand(3)"
   ]
  },
  {
   "cell_type": "code",
   "execution_count": 202,
   "metadata": {},
   "outputs": [
    {
     "data": {
      "text/plain": [
       "2×3 Array{Float64,2}:\n",
       " 0.0947919  0.775188  0.0800227\n",
       " 0.948884   0.177409  0.682194 "
      ]
     },
     "execution_count": 202,
     "metadata": {},
     "output_type": "execute_result"
    }
   ],
   "source": [
    "A = rand(2, 3)"
   ]
  },
  {
   "cell_type": "code",
   "execution_count": 203,
   "metadata": {},
   "outputs": [
    {
     "data": {
      "text/plain": [
       "2-element Array{Float64,1}:\n",
       " 0.595831\n",
       " 1.00019 "
      ]
     },
     "execution_count": 203,
     "metadata": {},
     "output_type": "execute_result"
    }
   ],
   "source": [
    "A * v"
   ]
  },
  {
   "cell_type": "code",
   "execution_count": 204,
   "metadata": {},
   "outputs": [
    {
     "data": {
      "text/plain": [
       "2-element Array{Float64,1}:\n",
       " 0.92936 \n",
       " 0.973119"
      ]
     },
     "execution_count": 204,
     "metadata": {},
     "output_type": "execute_result"
    }
   ],
   "source": [
    "w = rand(2)"
   ]
  },
  {
   "cell_type": "code",
   "execution_count": 205,
   "metadata": {},
   "outputs": [
    {
     "data": {
      "text/plain": [
       "3-element Array{Float64,1}:\n",
       " 1.01147 \n",
       " 0.893069\n",
       " 0.738225"
      ]
     },
     "execution_count": 205,
     "metadata": {},
     "output_type": "execute_result"
    }
   ],
   "source": [
    "A' * w"
   ]
  },
  {
   "cell_type": "code",
   "execution_count": 206,
   "metadata": {},
   "outputs": [
    {
     "data": {
      "text/plain": [
       "2×3 Array{Float64,2}:\n",
       " 0.651778  0.479261   0.470637\n",
       " 0.596532  0.0632371  0.382453"
      ]
     },
     "execution_count": 206,
     "metadata": {},
     "output_type": "execute_result"
    }
   ],
   "source": [
    "B = rand(2, 3)"
   ]
  },
  {
   "cell_type": "code",
   "execution_count": 207,
   "metadata": {},
   "outputs": [
    {
     "data": {
      "text/plain": [
       "2×3 Array{Float64,2}:\n",
       " 0.74657  1.25445   0.55066\n",
       " 1.54542  0.240646  1.06465"
      ]
     },
     "execution_count": 207,
     "metadata": {},
     "output_type": "execute_result"
    }
   ],
   "source": [
    "A + B"
   ]
  },
  {
   "cell_type": "code",
   "execution_count": 208,
   "metadata": {},
   "outputs": [
    {
     "data": {
      "text/plain": [
       "2×2 Array{Float64,2}:\n",
       " 0.470962  0.136172\n",
       " 1.02455   0.838165"
      ]
     },
     "execution_count": 208,
     "metadata": {},
     "output_type": "execute_result"
    }
   ],
   "source": [
    "A * B'"
   ]
  },
  {
   "cell_type": "code",
   "execution_count": 209,
   "metadata": {},
   "outputs": [
    {
     "data": {
      "text/plain": [
       "3×3 Array{Float64,2}:\n",
       " 0.627823  0.105435   0.407516\n",
       " 0.61108   0.382736   0.432683\n",
       " 0.459107  0.0814916  0.298569"
      ]
     },
     "execution_count": 209,
     "metadata": {},
     "output_type": "execute_result"
    }
   ],
   "source": [
    "A' * B"
   ]
  },
  {
   "cell_type": "code",
   "execution_count": 1,
   "metadata": {},
   "outputs": [
    {
     "data": {
      "text/plain": [
       "3-element Array{Float64,1}:\n",
       "  5.85932\n",
       " -4.45815\n",
       " -0.1334 "
      ]
     },
     "execution_count": 1,
     "metadata": {},
     "output_type": "execute_result"
    }
   ],
   "source": [
    "A = rand(3, 3)\n",
    "b = rand(3)\n",
    "x = A \\ b # Resolve o SL Ax = b"
   ]
  },
  {
   "cell_type": "code",
   "execution_count": 2,
   "metadata": {},
   "outputs": [
    {
     "data": {
      "text/plain": [
       "3-element Array{Float64,1}:\n",
       " -1.11022e-16\n",
       "  4.16334e-17\n",
       "  2.22045e-16"
      ]
     },
     "execution_count": 2,
     "metadata": {},
     "output_type": "execute_result"
    }
   ],
   "source": [
    "A * x - b # É pra ser zero (ou quase)"
   ]
  },
  {
   "cell_type": "code",
   "execution_count": 12,
   "metadata": {},
   "outputs": [
    {
     "data": {
      "text/plain": [
       "2.5172027167143304e-16"
      ]
     },
     "execution_count": 12,
     "metadata": {},
     "output_type": "execute_result"
    }
   ],
   "source": [
    "norm(A * x - b) # norm = ‖ ⋅ ‖"
   ]
  },
  {
   "cell_type": "code",
   "execution_count": 6,
   "metadata": {},
   "outputs": [
    {
     "data": {
      "text/plain": [
       "2-element Array{Float64,1}:\n",
       " 1.0\n",
       " 2.0"
      ]
     },
     "execution_count": 6,
     "metadata": {},
     "output_type": "execute_result"
    }
   ],
   "source": [
    "v = [1.0; 2.0]"
   ]
  },
  {
   "cell_type": "code",
   "execution_count": 13,
   "metadata": {},
   "outputs": [
    {
     "data": {
      "text/plain": [
       "4.0"
      ]
     },
     "execution_count": 13,
     "metadata": {},
     "output_type": "execute_result"
    }
   ],
   "source": [
    "v = [1.0; 2.0; 3.0]\n",
    "w = [2.0; -2.0; 2.0]\n",
    "dot(v, w) # ⟨v,w⟩"
   ]
  },
  {
   "cell_type": "code",
   "execution_count": 9,
   "metadata": {},
   "outputs": [
    {
     "data": {
      "text/plain": [
       "3-element Array{Float64,1}:\n",
       "  2.0\n",
       " -2.0\n",
       "  2.0"
      ]
     },
     "execution_count": 9,
     "metadata": {},
     "output_type": "execute_result"
    }
   ],
   "source": [
    "w"
   ]
  },
  {
   "cell_type": "code",
   "execution_count": 18,
   "metadata": {
    "scrolled": true
   },
   "outputs": [
    {
     "data": {
      "text/plain": [
       "100×100 Array{Float64,2}:\n",
       " 0.955063   0.0510119  0.803098   …  0.134158  0.00293499  0.722954  \n",
       " 0.254594   0.262201   0.377768      0.247772  0.350692    0.438099  \n",
       " 0.876586   0.292478   0.478661      0.872512  0.62804     0.577382  \n",
       " 0.0213384  0.779157   0.805845      0.992137  0.818002    0.618729  \n",
       " 0.0793859  0.118741   0.55686       0.825345  0.991445    0.128855  \n",
       " 0.0597603  0.569033   0.818943   …  0.797616  0.26767     0.894057  \n",
       " 0.259138   0.574529   0.606524      0.550217  0.142886    0.851367  \n",
       " 0.0579688  0.252522   0.421097      0.713527  0.260362    0.609009  \n",
       " 0.226441   0.729597   0.357647      0.912367  0.582493    0.0285807 \n",
       " 0.462848   0.499618   0.429402      0.514626  0.0731483   0.513142  \n",
       " 0.670204   0.527693   0.506483   …  0.26905   0.834181    0.91257   \n",
       " 0.197099   0.252433   0.243612      0.482631  0.195441    0.959544  \n",
       " 0.716454   0.165913   0.302839      0.157395  0.307809    0.73917   \n",
       " ⋮                                ⋱                                  \n",
       " 0.324581   0.831547   0.0297479     0.283521  0.26414     0.0736816 \n",
       " 0.621876   0.189058   0.127077      0.421751  0.762039    0.349747  \n",
       " 0.903186   0.734768   0.330914   …  0.643087  0.775813    0.560437  \n",
       " 0.319867   0.637213   0.354711      0.024585  0.181959    0.859176  \n",
       " 0.488491   0.228226   0.958364      0.142067  0.836847    0.906031  \n",
       " 0.447787   0.799425   0.651588      0.83471   0.48614     0.569745  \n",
       " 0.0541513  0.923282   0.965675      0.637888  0.353308    0.137191  \n",
       " 0.265002   0.110759   0.358484   …  0.368905  0.518594    0.160299  \n",
       " 0.495289   0.740371   0.196487      0.141052  0.635151    0.518862  \n",
       " 0.158431   0.927632   0.629448      0.20453   0.227637    0.137155  \n",
       " 0.581735   0.175776   0.715712      0.995832  0.820046    0.579688  \n",
       " 0.486352   0.213434   0.0854127     0.109596  0.969865    0.00525822"
      ]
     },
     "execution_count": 18,
     "metadata": {},
     "output_type": "execute_result"
    }
   ],
   "source": [
    "A = rand(100, 100)"
   ]
  },
  {
   "cell_type": "code",
   "execution_count": 23,
   "metadata": {},
   "outputs": [
    {
     "name": "stdout",
     "output_type": "stream",
     "text": [
      "  0.040301 seconds (11 allocations: 79.328 KiB)\n"
     ]
    },
    {
     "data": {
      "text/plain": [
       "4.801197604006831e24"
      ]
     },
     "execution_count": 23,
     "metadata": {},
     "output_type": "execute_result"
    }
   ],
   "source": [
    "@time det(A)"
   ]
  },
  {
   "cell_type": "code",
   "execution_count": 24,
   "metadata": {},
   "outputs": [
    {
     "data": {
      "text/plain": [
       "3×3 Array{Float64,2}:\n",
       " 0.647908  0.367795  0.261408\n",
       " 0.108467  0.570171  0.110922\n",
       " 0.647602  0.180524  0.814305"
      ]
     },
     "execution_count": 24,
     "metadata": {},
     "output_type": "execute_result"
    }
   ],
   "source": [
    "A = rand(3, 3)"
   ]
  },
  {
   "cell_type": "code",
   "execution_count": 25,
   "metadata": {},
   "outputs": [
    {
     "data": {
      "text/plain": [
       "3×3 Array{Float64,2}:\n",
       " 0.628967  0.495193  0.42303 \n",
       " 0.203955  0.385013  0.181924\n",
       " 0.966513  0.488115  0.852405"
      ]
     },
     "execution_count": 25,
     "metadata": {},
     "output_type": "execute_result"
    }
   ],
   "source": [
    "A^2 # A * A"
   ]
  },
  {
   "cell_type": "code",
   "execution_count": 26,
   "metadata": {},
   "outputs": [
    {
     "data": {
      "text/plain": [
       "3×3 Array{Float64,2}:\n",
       " 0.628967  0.495193  0.42303 \n",
       " 0.203955  0.385013  0.181924\n",
       " 0.966513  0.488115  0.852405"
      ]
     },
     "execution_count": 26,
     "metadata": {},
     "output_type": "execute_result"
    }
   ],
   "source": [
    "A * A"
   ]
  },
  {
   "cell_type": "code",
   "execution_count": 37,
   "metadata": {},
   "outputs": [
    {
     "data": {
      "text/plain": [
       "3×3 Array{Float64,2}:\n",
       " 0.366384   0.836698  0.0143167\n",
       " 0.0184266  0.090045  0.588396 \n",
       " 0.702441   0.522512  0.643081 "
      ]
     },
     "execution_count": 37,
     "metadata": {},
     "output_type": "execute_result"
    }
   ],
   "source": [
    "A .^ 2 # Cada elemento de A ao quadrado"
   ]
  },
  {
   "cell_type": "code",
   "execution_count": 27,
   "metadata": {},
   "outputs": [
    {
     "data": {
      "text/plain": [
       "3×3 Array{Float64,2}:\n",
       " 0.0997474  0.200339  0.573297 \n",
       " 0.928489   0.881411  0.642598 \n",
       " 0.946207   0.436417  0.0397136"
      ]
     },
     "execution_count": 27,
     "metadata": {},
     "output_type": "execute_result"
    }
   ],
   "source": [
    "B = rand(3, 3)"
   ]
  },
  {
   "cell_type": "code",
   "execution_count": 28,
   "metadata": {},
   "outputs": [
    {
     "data": {
      "text/plain": [
       "3×3 Array{Float64,2}:\n",
       " 0.0646272  0.0736835  0.149864 \n",
       " 0.100711   0.502555   0.0712786\n",
       " 0.612765   0.0787835  0.032339 "
      ]
     },
     "execution_count": 28,
     "metadata": {},
     "output_type": "execute_result"
    }
   ],
   "source": [
    "A .* B"
   ]
  },
  {
   "cell_type": "code",
   "execution_count": 29,
   "metadata": {},
   "outputs": [],
   "source": [
    "# Atualizar para funções usando o ."
   ]
  },
  {
   "cell_type": "code",
   "execution_count": 31,
   "metadata": {},
   "outputs": [
    {
     "data": {
      "text/plain": [
       "7.38905609893065"
      ]
     },
     "execution_count": 31,
     "metadata": {},
     "output_type": "execute_result"
    }
   ],
   "source": [
    "exp(2) # e²"
   ]
  },
  {
   "cell_type": "code",
   "execution_count": 34,
   "metadata": {},
   "outputs": [
    {
     "data": {
      "text/plain": [
       "3-element Array{Float64,1}:\n",
       "  2.71828\n",
       "  7.38906\n",
       " 20.0855 "
      ]
     },
     "execution_count": 34,
     "metadata": {},
     "output_type": "execute_result"
    }
   ],
   "source": [
    "exp.(v)"
   ]
  },
  {
   "cell_type": "code",
   "execution_count": 35,
   "metadata": {},
   "outputs": [
    {
     "data": {
      "text/plain": [
       "3×3 Array{Float64,2}:\n",
       " 0.647908  0.367795  0.261408\n",
       " 0.108467  0.570171  0.110922\n",
       " 0.647602  0.180524  0.814305"
      ]
     },
     "execution_count": 35,
     "metadata": {},
     "output_type": "execute_result"
    }
   ],
   "source": [
    "A"
   ]
  },
  {
   "cell_type": "code",
   "execution_count": 37,
   "metadata": {},
   "outputs": [
    {
     "data": {
      "text/plain": [
       "3×3 Array{Float64,2}:\n",
       " 1.91154  1.44455  1.29876\n",
       " 1.11457  1.76857  1.11731\n",
       " 1.91095  1.19784  2.25761"
      ]
     },
     "execution_count": 37,
     "metadata": {},
     "output_type": "execute_result"
    }
   ],
   "source": [
    "exp.(A)"
   ]
  },
  {
   "cell_type": "code",
   "execution_count": 38,
   "metadata": {},
   "outputs": [
    {
     "data": {
      "text/plain": [
       "3×3 Array{Float64,2}:\n",
       " 2.13441   0.752276  0.606137\n",
       " 0.280087  1.83536   0.259634\n",
       " 1.41969   0.61563   2.47416 "
      ]
     },
     "execution_count": 38,
     "metadata": {},
     "output_type": "execute_result"
    }
   ],
   "source": [
    "expm(A)"
   ]
  },
  {
   "cell_type": "code",
   "execution_count": 39,
   "metadata": {},
   "outputs": [
    {
     "data": {
      "text/plain": [
       "([1.2469, 0.353144, 0.432343], [-0.499515 -0.545775 -0.394334; -0.217511 -0.148699 -0.367521; -0.838555 0.824632 0.842276])"
      ]
     },
     "execution_count": 39,
     "metadata": {},
     "output_type": "execute_result"
    }
   ],
   "source": [
    "eig(A)"
   ]
  },
  {
   "cell_type": "markdown",
   "metadata": {},
   "source": [
    "## Acesso aos elementos"
   ]
  },
  {
   "cell_type": "code",
   "execution_count": 40,
   "metadata": {},
   "outputs": [
    {
     "data": {
      "text/plain": [
       "3-element Array{Float64,1}:\n",
       " 1.0\n",
       " 2.0\n",
       " 3.0"
      ]
     },
     "execution_count": 40,
     "metadata": {},
     "output_type": "execute_result"
    }
   ],
   "source": [
    "v"
   ]
  },
  {
   "cell_type": "code",
   "execution_count": 42,
   "metadata": {},
   "outputs": [
    {
     "data": {
      "text/plain": [
       "1.0"
      ]
     },
     "execution_count": 42,
     "metadata": {},
     "output_type": "execute_result"
    }
   ],
   "source": [
    "v[1]"
   ]
  },
  {
   "cell_type": "code",
   "execution_count": 44,
   "metadata": {},
   "outputs": [
    {
     "data": {
      "text/plain": [
       "2.0"
      ]
     },
     "execution_count": 44,
     "metadata": {},
     "output_type": "execute_result"
    }
   ],
   "source": [
    "v[2]"
   ]
  },
  {
   "cell_type": "code",
   "execution_count": 45,
   "metadata": {},
   "outputs": [
    {
     "data": {
      "text/plain": [
       "3×3 Array{Float64,2}:\n",
       " 0.647908  0.367795  0.261408\n",
       " 0.108467  0.570171  0.110922\n",
       " 0.647602  0.180524  0.814305"
      ]
     },
     "execution_count": 45,
     "metadata": {},
     "output_type": "execute_result"
    }
   ],
   "source": [
    "A"
   ]
  },
  {
   "cell_type": "code",
   "execution_count": 46,
   "metadata": {},
   "outputs": [
    {
     "data": {
      "text/plain": [
       "0.6479082382269301"
      ]
     },
     "execution_count": 46,
     "metadata": {},
     "output_type": "execute_result"
    }
   ],
   "source": [
    "A[1,1]"
   ]
  },
  {
   "cell_type": "code",
   "execution_count": 48,
   "metadata": {},
   "outputs": [
    {
     "data": {
      "text/plain": [
       "0.11092241947060288"
      ]
     },
     "execution_count": 48,
     "metadata": {},
     "output_type": "execute_result"
    }
   ],
   "source": [
    "A[2,3]"
   ]
  },
  {
   "cell_type": "code",
   "execution_count": 52,
   "metadata": {},
   "outputs": [
    {
     "data": {
      "text/plain": [
       "10-element Array{Float64,1}:\n",
       " 0.8504   \n",
       " 0.891935 \n",
       " 0.517762 \n",
       " 0.805129 \n",
       " 0.0597048\n",
       " 0.247901 \n",
       " 0.0766686\n",
       " 0.639908 \n",
       " 0.139439 \n",
       " 0.190357 "
      ]
     },
     "execution_count": 52,
     "metadata": {},
     "output_type": "execute_result"
    }
   ],
   "source": [
    "v = rand(10)"
   ]
  },
  {
   "cell_type": "code",
   "execution_count": 53,
   "metadata": {},
   "outputs": [
    {
     "data": {
      "text/plain": [
       "5-element Array{Float64,1}:\n",
       " 0.517762 \n",
       " 0.805129 \n",
       " 0.0597048\n",
       " 0.247901 \n",
       " 0.0766686"
      ]
     },
     "execution_count": 53,
     "metadata": {},
     "output_type": "execute_result"
    }
   ],
   "source": [
    "v[3:7]"
   ]
  },
  {
   "cell_type": "code",
   "execution_count": 54,
   "metadata": {},
   "outputs": [
    {
     "data": {
      "text/plain": [
       "3-element Array{Float64,1}:\n",
       " 0.367795\n",
       " 0.570171\n",
       " 0.180524"
      ]
     },
     "execution_count": 54,
     "metadata": {},
     "output_type": "execute_result"
    }
   ],
   "source": [
    "A[:,2]"
   ]
  },
  {
   "cell_type": "code",
   "execution_count": 55,
   "metadata": {},
   "outputs": [
    {
     "data": {
      "text/plain": [
       "3-element Array{Float64,1}:\n",
       " 0.647908\n",
       " 0.367795\n",
       " 0.261408"
      ]
     },
     "execution_count": 55,
     "metadata": {},
     "output_type": "execute_result"
    }
   ],
   "source": [
    "A[1,:]"
   ]
  },
  {
   "cell_type": "code",
   "execution_count": 57,
   "metadata": {},
   "outputs": [
    {
     "data": {
      "text/plain": [
       "0.0"
      ]
     },
     "execution_count": 57,
     "metadata": {},
     "output_type": "execute_result"
    }
   ],
   "source": [
    "A[2,3] = 0.0"
   ]
  },
  {
   "cell_type": "code",
   "execution_count": 58,
   "metadata": {},
   "outputs": [
    {
     "data": {
      "text/plain": [
       "3×3 Array{Float64,2}:\n",
       " 0.647908  0.367795  0.261408\n",
       " 0.108467  0.570171  0.0     \n",
       " 0.647602  0.180524  0.814305"
      ]
     },
     "execution_count": 58,
     "metadata": {},
     "output_type": "execute_result"
    }
   ],
   "source": [
    "A"
   ]
  },
  {
   "cell_type": "code",
   "execution_count": 59,
   "metadata": {},
   "outputs": [
    {
     "data": {
      "text/plain": [
       "3×3 Array{Float64,2}:\n",
       " 1.0  0.0  0.0\n",
       " 0.0  1.0  0.0\n",
       " 0.0  0.0  1.0"
      ]
     },
     "execution_count": 59,
     "metadata": {},
     "output_type": "execute_result"
    }
   ],
   "source": [
    "eye(3) # I = eye"
   ]
  },
  {
   "cell_type": "code",
   "execution_count": 63,
   "metadata": {},
   "outputs": [
    {
     "data": {
      "text/plain": [
       "(3, 4)"
      ]
     },
     "execution_count": 63,
     "metadata": {},
     "output_type": "execute_result"
    }
   ],
   "source": [
    "(3, 4)"
   ]
  },
  {
   "cell_type": "code",
   "execution_count": 64,
   "metadata": {},
   "outputs": [
    {
     "data": {
      "text/plain": [
       "(3, 3)"
      ]
     },
     "execution_count": 64,
     "metadata": {},
     "output_type": "execute_result"
    }
   ],
   "source": [
    "m, n = size(A)"
   ]
  },
  {
   "cell_type": "code",
   "execution_count": 65,
   "metadata": {},
   "outputs": [
    {
     "data": {
      "text/plain": [
       "(3, 3)"
      ]
     },
     "execution_count": 65,
     "metadata": {},
     "output_type": "execute_result"
    }
   ],
   "source": [
    "(m, n) = size(A)"
   ]
  },
  {
   "cell_type": "code",
   "execution_count": 66,
   "metadata": {},
   "outputs": [
    {
     "data": {
      "text/plain": [
       "(3, 3)"
      ]
     },
     "execution_count": 66,
     "metadata": {},
     "output_type": "execute_result"
    }
   ],
   "source": [
    "S = size(A)"
   ]
  },
  {
   "cell_type": "code",
   "execution_count": 70,
   "metadata": {},
   "outputs": [
    {
     "data": {
      "text/plain": [
       "3"
      ]
     },
     "execution_count": 70,
     "metadata": {},
     "output_type": "execute_result"
    }
   ],
   "source": [
    "m = S[1]\n",
    "n = S[2]"
   ]
  },
  {
   "cell_type": "code",
   "execution_count": 72,
   "metadata": {},
   "outputs": [
    {
     "data": {
      "text/plain": [
       "10"
      ]
     },
     "execution_count": 72,
     "metadata": {},
     "output_type": "execute_result"
    }
   ],
   "source": [
    "length(v)"
   ]
  },
  {
   "cell_type": "code",
   "execution_count": 73,
   "metadata": {},
   "outputs": [
    {
     "data": {
      "text/plain": [
       "(10,)"
      ]
     },
     "execution_count": 73,
     "metadata": {},
     "output_type": "execute_result"
    }
   ],
   "source": [
    "size(v)"
   ]
  },
  {
   "cell_type": "code",
   "execution_count": 77,
   "metadata": {},
   "outputs": [],
   "source": [
    "# Criar matrizes"
   ]
  },
  {
   "cell_type": "code",
   "execution_count": 78,
   "metadata": {},
   "outputs": [
    {
     "data": {
      "text/plain": [
       "2×2 Array{Int64,2}:\n",
       " 1  2\n",
       " 3  4"
      ]
     },
     "execution_count": 78,
     "metadata": {},
     "output_type": "execute_result"
    }
   ],
   "source": [
    "A = [1 2; 3 4]"
   ]
  },
  {
   "cell_type": "code",
   "execution_count": 79,
   "metadata": {},
   "outputs": [
    {
     "data": {
      "text/plain": [
       "3×3 Array{Int64,2}:\n",
       " 4  1  0\n",
       " 1  4  1\n",
       " 0  1  4"
      ]
     },
     "execution_count": 79,
     "metadata": {},
     "output_type": "execute_result"
    }
   ],
   "source": [
    "A = [4 1 0; 1 4 1; 0 1 4]"
   ]
  },
  {
   "cell_type": "code",
   "execution_count": 80,
   "metadata": {},
   "outputs": [
    {
     "data": {
      "text/plain": [
       "2×4 Array{Int64,2}:\n",
       " 2   3   4   5\n",
       " 0  -1  -2  -3"
      ]
     },
     "execution_count": 80,
     "metadata": {},
     "output_type": "execute_result"
    }
   ],
   "source": [
    "B = [2 3 4 5; 0 -1 -2 -3]"
   ]
  },
  {
   "cell_type": "code",
   "execution_count": 81,
   "metadata": {},
   "outputs": [
    {
     "data": {
      "text/plain": [
       "3×3 Array{Int64,2}:\n",
       " 4  1  0\n",
       " 1  4  1\n",
       " 0  1  4"
      ]
     },
     "execution_count": 81,
     "metadata": {},
     "output_type": "execute_result"
    }
   ],
   "source": [
    "A"
   ]
  },
  {
   "cell_type": "markdown",
   "metadata": {},
   "source": [
    "## Matriz por blocos - concatenação"
   ]
  },
  {
   "cell_type": "code",
   "execution_count": 83,
   "metadata": {},
   "outputs": [
    {
     "data": {
      "text/plain": [
       "6×6 Array{Int64,2}:\n",
       " 20   5   0   4   1   0\n",
       "  5  20   5   1   4   1\n",
       "  0   5  20   0   1   4\n",
       "  4   1   0  -4  -1   0\n",
       "  1   4   1  -1  -4  -1\n",
       "  0   1   4   0  -1  -4"
      ]
     },
     "execution_count": 83,
     "metadata": {},
     "output_type": "execute_result"
    }
   ],
   "source": [
    "[5 * A A; A -A]"
   ]
  },
  {
   "cell_type": "code",
   "execution_count": 84,
   "metadata": {},
   "outputs": [
    {
     "data": {
      "text/plain": [
       "5×5 Array{Float64,2}:\n",
       " 0.889928  0.623515  0.598519  0.0  0.0\n",
       " 0.896878  0.537701  0.330504  0.0  0.0\n",
       " 0.68692   0.769724  0.455512  0.0  0.0\n",
       " 1.0       1.0       1.0       1.0  0.0\n",
       " 1.0       1.0       1.0       0.0  1.0"
      ]
     },
     "execution_count": 84,
     "metadata": {},
     "output_type": "execute_result"
    }
   ],
   "source": [
    "[rand(3,3) zeros(3,2); ones(2,3) eye(2,2)]"
   ]
  },
  {
   "cell_type": "markdown",
   "metadata": {},
   "source": [
    "- Crie um vetor aleatório e mude o primeiro elemento para o seu oposto (i.e. mude o sinal)\n",
    "- Crie um vetor com os ângulos importantes: 0, pi/6, pi/4, pi/3 e pi/2.\n",
    "- Crie um vetor com o seno de cada ângulo e outro com o cosseno, usando o vetor acima.\n",
    "- Calcule a tangente de cada angulo usando os dois vetores acima (tan = sen/cos)"
   ]
  },
  {
   "cell_type": "code",
   "execution_count": 88,
   "metadata": {},
   "outputs": [
    {
     "data": {
      "text/plain": [
       "3-element Array{Float64,1}:\n",
       " -0.658799\n",
       "  0.641568\n",
       "  0.712872"
      ]
     },
     "execution_count": 88,
     "metadata": {},
     "output_type": "execute_result"
    }
   ],
   "source": [
    "v = rand(3)\n",
    "v[1] = -v[1]\n",
    "v"
   ]
  },
  {
   "cell_type": "code",
   "execution_count": 89,
   "metadata": {},
   "outputs": [
    {
     "data": {
      "text/plain": [
       "5-element Array{Float64,1}:\n",
       " 0.0     \n",
       " 0.523599\n",
       " 0.785398\n",
       " 1.0472  \n",
       " 1.5708  "
      ]
     },
     "execution_count": 89,
     "metadata": {},
     "output_type": "execute_result"
    }
   ],
   "source": [
    "θ = [0.0; pi / 6; pi / 4; pi / 3; pi / 2]"
   ]
  },
  {
   "cell_type": "code",
   "execution_count": 90,
   "metadata": {},
   "outputs": [
    {
     "data": {
      "text/plain": [
       "5-element Array{Float64,1}:\n",
       " 0.0     \n",
       " 0.5     \n",
       " 0.707107\n",
       " 0.866025\n",
       " 1.0     "
      ]
     },
     "execution_count": 90,
     "metadata": {},
     "output_type": "execute_result"
    }
   ],
   "source": [
    "s = sin.(θ)"
   ]
  },
  {
   "cell_type": "code",
   "execution_count": 91,
   "metadata": {},
   "outputs": [
    {
     "data": {
      "text/plain": [
       "5-element Array{Float64,1}:\n",
       " 1.0        \n",
       " 0.866025   \n",
       " 0.707107   \n",
       " 0.5        \n",
       " 6.12323e-17"
      ]
     },
     "execution_count": 91,
     "metadata": {},
     "output_type": "execute_result"
    }
   ],
   "source": [
    "c = cos.(θ)"
   ]
  },
  {
   "cell_type": "code",
   "execution_count": 92,
   "metadata": {},
   "outputs": [
    {
     "data": {
      "text/plain": [
       "5-element Array{Float64,1}:\n",
       " 0.0       \n",
       " 0.57735   \n",
       " 1.0       \n",
       " 1.73205   \n",
       " 1.63312e16"
      ]
     },
     "execution_count": 92,
     "metadata": {},
     "output_type": "execute_result"
    }
   ],
   "source": [
    "s ./ c"
   ]
  },
  {
   "cell_type": "code",
   "execution_count": 93,
   "metadata": {},
   "outputs": [
    {
     "data": {
      "text/plain": [
       "5-element Array{Float64,1}:\n",
       " 0.0       \n",
       " 0.57735   \n",
       " 1.0       \n",
       " 1.73205   \n",
       " 1.63312e16"
      ]
     },
     "execution_count": 93,
     "metadata": {},
     "output_type": "execute_result"
    }
   ],
   "source": [
    "tan.(θ)"
   ]
  },
  {
   "cell_type": "markdown",
   "metadata": {},
   "source": [
    "# Funções"
   ]
  },
  {
   "cell_type": "code",
   "execution_count": 4,
   "metadata": {},
   "outputs": [
    {
     "data": {
      "text/plain": [
       "0.4416623242135566"
      ]
     },
     "execution_count": 4,
     "metadata": {},
     "output_type": "execute_result"
    }
   ],
   "source": [
    "f(x) = x^2 - 5x + 6 + exp(sin(tan(x)))\n",
    "f(2)"
   ]
  },
  {
   "cell_type": "code",
   "execution_count": 5,
   "metadata": {},
   "outputs": [
    {
     "data": {
      "text/plain": [
       "31.152650746782015"
      ]
     },
     "execution_count": 5,
     "metadata": {},
     "output_type": "execute_result"
    }
   ],
   "source": [
    "f(-3)"
   ]
  },
  {
   "cell_type": "code",
   "execution_count": 6,
   "metadata": {},
   "outputs": [
    {
     "data": {
      "text/plain": [
       "g (generic function with 1 method)"
      ]
     },
     "execution_count": 6,
     "metadata": {},
     "output_type": "execute_result"
    }
   ],
   "source": [
    "g(a,b) = exp(a + b)"
   ]
  },
  {
   "cell_type": "code",
   "execution_count": 7,
   "metadata": {},
   "outputs": [
    {
     "data": {
      "text/plain": [
       "148.4131591025766"
      ]
     },
     "execution_count": 7,
     "metadata": {},
     "output_type": "execute_result"
    }
   ],
   "source": [
    "g(2,3)"
   ]
  },
  {
   "cell_type": "code",
   "execution_count": 8,
   "metadata": {},
   "outputs": [
    {
     "data": {
      "text/plain": [
       "148.4131591025766"
      ]
     },
     "execution_count": 8,
     "metadata": {},
     "output_type": "execute_result"
    }
   ],
   "source": [
    "exp(5)"
   ]
  },
  {
   "cell_type": "code",
   "execution_count": 9,
   "metadata": {},
   "outputs": [
    {
     "data": {
      "text/plain": [
       "1.0"
      ]
     },
     "execution_count": 9,
     "metadata": {},
     "output_type": "execute_result"
    }
   ],
   "source": [
    "g(3,-3)"
   ]
  },
  {
   "cell_type": "code",
   "execution_count": 10,
   "metadata": {},
   "outputs": [
    {
     "data": {
      "text/plain": [
       "F (generic function with 1 method)"
      ]
     },
     "execution_count": 10,
     "metadata": {},
     "output_type": "execute_result"
    }
   ],
   "source": [
    "F(x,y) = [-y; x]"
   ]
  },
  {
   "cell_type": "code",
   "execution_count": 11,
   "metadata": {},
   "outputs": [
    {
     "data": {
      "text/plain": [
       "2-element Array{Int64,1}:\n",
       " -1\n",
       "  2"
      ]
     },
     "execution_count": 11,
     "metadata": {},
     "output_type": "execute_result"
    }
   ],
   "source": [
    "F(2,1)"
   ]
  },
  {
   "cell_type": "code",
   "execution_count": 12,
   "metadata": {},
   "outputs": [
    {
     "data": {
      "text/plain": [
       "f (generic function with 1 method)"
      ]
     },
     "execution_count": 12,
     "metadata": {},
     "output_type": "execute_result"
    }
   ],
   "source": [
    "f(s) = s * \"-isso\" # Concatenação de palavras"
   ]
  },
  {
   "cell_type": "code",
   "execution_count": 15,
   "metadata": {},
   "outputs": [
    {
     "data": {
      "text/plain": [
       "\"aprende-isso\""
      ]
     },
     "execution_count": 15,
     "metadata": {},
     "output_type": "execute_result"
    }
   ],
   "source": [
    "s = \"aprende\"\n",
    "f(s)"
   ]
  },
  {
   "cell_type": "code",
   "execution_count": 16,
   "metadata": {
    "scrolled": true
   },
   "outputs": [
    {
     "data": {
      "text/plain": [
       "(::#1) (generic function with 1 method)"
      ]
     },
     "execution_count": 16,
     "metadata": {},
     "output_type": "execute_result"
    }
   ],
   "source": [
    "h = x -> sin(x)"
   ]
  },
  {
   "cell_type": "code",
   "execution_count": 21,
   "metadata": {},
   "outputs": [
    {
     "data": {
      "text/plain": [
       "0.7071067811865475"
      ]
     },
     "execution_count": 21,
     "metadata": {},
     "output_type": "execute_result"
    }
   ],
   "source": [
    "h(pi / 4)"
   ]
  },
  {
   "cell_type": "code",
   "execution_count": 28,
   "metadata": {},
   "outputs": [
    {
     "data": {
      "text/plain": [
       "aprox_der (generic function with 1 method)"
      ]
     },
     "execution_count": 28,
     "metadata": {},
     "output_type": "execute_result"
    }
   ],
   "source": [
    "function aprox_der(f, a, h)\n",
    "    (f(a + h) - f(a)) / h\n",
    "end"
   ]
  },
  {
   "cell_type": "code",
   "execution_count": 32,
   "metadata": {},
   "outputs": [
    {
     "data": {
      "text/plain": [
       "0.7071067842367995"
      ]
     },
     "execution_count": 32,
     "metadata": {},
     "output_type": "execute_result"
    }
   ],
   "source": [
    "aprox_der(h, pi/4, 1e-8)"
   ]
  },
  {
   "cell_type": "code",
   "execution_count": 40,
   "metadata": {},
   "outputs": [
    {
     "data": {
      "text/plain": [
       "-1.000000082740371"
      ]
     },
     "execution_count": 40,
     "metadata": {},
     "output_type": "execute_result"
    }
   ],
   "source": [
    "aprox_der(x -> x^2 - 5x + 6, 2, 1e-8)"
   ]
  },
  {
   "cell_type": "code",
   "execution_count": 41,
   "metadata": {},
   "outputs": [
    {
     "data": {
      "text/plain": [
       "aprox_der (generic function with 2 methods)"
      ]
     },
     "execution_count": 41,
     "metadata": {},
     "output_type": "execute_result"
    }
   ],
   "source": [
    "function aprox_der(f, a, h = 1e-8)\n",
    "    (f(a+h) - f(a))/h\n",
    "end"
   ]
  },
  {
   "cell_type": "code",
   "execution_count": 48,
   "metadata": {},
   "outputs": [
    {
     "data": {
      "text/plain": [
       "-0.049958347219742905"
      ]
     },
     "execution_count": 48,
     "metadata": {},
     "output_type": "execute_result"
    }
   ],
   "source": [
    "aprox_der(h, pi/2, 0.1)"
   ]
  },
  {
   "cell_type": "code",
   "execution_count": 66,
   "metadata": {},
   "outputs": [
    {
     "data": {
      "text/plain": [
       "6.999999868639861"
      ]
     },
     "execution_count": 66,
     "metadata": {},
     "output_type": "execute_result"
    }
   ],
   "source": [
    "aprox_der(x->x^2+3x+2, 2) # 2x + 3 com x = 2: 7"
   ]
  },
  {
   "cell_type": "markdown",
   "metadata": {},
   "source": [
    "### Exercício\n",
    "\n",
    "- Escreva uma função usando `function` que recebe uma função `f`, um valor `a`, um valor `b`, e retorna `a * f(b)`.\n",
    "- Crie uma função que recebe uma matriz A e um vetor v e retorna\n",
    "$\\dfrac{\\langle v, Av\\rangle}{\\langle v, v\\rangle}$"
   ]
  },
  {
   "cell_type": "code",
   "execution_count": 51,
   "metadata": {},
   "outputs": [
    {
     "data": {
      "text/plain": [
       "35"
      ]
     },
     "execution_count": 51,
     "metadata": {},
     "output_type": "execute_result"
    }
   ],
   "source": [
    "function ex1(f, a, b)\n",
    "    return a * f(b)\n",
    "end\n",
    "ex1(x -> 2x + 1, 5, 3) # eh pra dar 35"
   ]
  },
  {
   "cell_type": "code",
   "execution_count": 55,
   "metadata": {},
   "outputs": [
    {
     "data": {
      "text/plain": [
       "2.5"
      ]
     },
     "execution_count": 55,
     "metadata": {},
     "output_type": "execute_result"
    }
   ],
   "source": [
    "function ex2(A, v)\n",
    "    return dot(v, A * v) / dot(v, v)\n",
    "end\n",
    "A = [4 0; 0 1]\n",
    "v = [1; 0]\n",
    "ex2(A, v) # eh pra dar 4\n",
    "ex2(A, [0; 1]) # eh pra dar 1\n",
    "ex2(A, [1; 1]) # eh pra dar 5 / 2"
   ]
  },
  {
   "cell_type": "markdown",
   "metadata": {},
   "source": [
    "## Vetor vs Array vs Array 1xN vs Array Nx1"
   ]
  },
  {
   "cell_type": "code",
   "execution_count": 56,
   "metadata": {},
   "outputs": [
    {
     "data": {
      "text/plain": [
       "3-element Array{Float64,1}:\n",
       " 1.0\n",
       " 1.0\n",
       " 1.0"
      ]
     },
     "execution_count": 56,
     "metadata": {},
     "output_type": "execute_result"
    }
   ],
   "source": [
    "ones(3)"
   ]
  },
  {
   "cell_type": "code",
   "execution_count": 57,
   "metadata": {},
   "outputs": [
    {
     "data": {
      "text/plain": [
       "1×3 Array{Float64,2}:\n",
       " 1.0  1.0  1.0"
      ]
     },
     "execution_count": 57,
     "metadata": {},
     "output_type": "execute_result"
    }
   ],
   "source": [
    "[1.0 1.0 1.0]"
   ]
  },
  {
   "cell_type": "code",
   "execution_count": 58,
   "metadata": {},
   "outputs": [
    {
     "data": {
      "text/plain": [
       "3-element Array{Float64,1}:\n",
       " 1.0\n",
       " 1.0\n",
       " 1.0"
      ]
     },
     "execution_count": 58,
     "metadata": {},
     "output_type": "execute_result"
    }
   ],
   "source": [
    "[1.0; 1.0; 1.0]"
   ]
  },
  {
   "cell_type": "code",
   "execution_count": 59,
   "metadata": {},
   "outputs": [
    {
     "data": {
      "text/plain": [
       "3-element Array{Float64,1}:\n",
       " 1.0\n",
       " 1.0\n",
       " 1.0"
      ]
     },
     "execution_count": 59,
     "metadata": {},
     "output_type": "execute_result"
    }
   ],
   "source": [
    "[1.0, 1.0, 1.0]"
   ]
  },
  {
   "cell_type": "code",
   "execution_count": 60,
   "metadata": {},
   "outputs": [
    {
     "data": {
      "text/plain": [
       "3×1 Array{Float64,2}:\n",
       " 1.0\n",
       " 1.0\n",
       " 1.0"
      ]
     },
     "execution_count": 60,
     "metadata": {},
     "output_type": "execute_result"
    }
   ],
   "source": [
    "[1.0 1.0 1.0]'"
   ]
  },
  {
   "cell_type": "code",
   "execution_count": 61,
   "metadata": {},
   "outputs": [
    {
     "data": {
      "text/plain": [
       "1×3 RowVector{Float64,Array{Float64,1}}:\n",
       " 1.0  1.0  1.0"
      ]
     },
     "execution_count": 61,
     "metadata": {},
     "output_type": "execute_result"
    }
   ],
   "source": [
    "ones(3)'"
   ]
  },
  {
   "cell_type": "code",
   "execution_count": 62,
   "metadata": {},
   "outputs": [
    {
     "data": {
      "text/plain": [
       "3-element Array{Float64,1}:\n",
       " 1.0\n",
       " 1.0\n",
       " 1.0"
      ]
     },
     "execution_count": 62,
     "metadata": {},
     "output_type": "execute_result"
    }
   ],
   "source": [
    "ones(3)''"
   ]
  },
  {
   "cell_type": "markdown",
   "metadata": {},
   "source": [
    "# Exercícios"
   ]
  },
  {
   "cell_type": "markdown",
   "metadata": {
    "collapsed": true
   },
   "source": [
    "1. Crie um vetor aleatório e mude o primeiro elemento para o seu oposto (i.e. mude o sinal)\n",
    "2. Crie um vetor com os ângulos importantes: 0, pi/6, pi/4, pi/3 e pi/2.\n",
    "3. Crie um vetor com o seno de cada ângulo e outro com o cosseno, usando o vetor acima.\n",
    "4. Calcule a tangente de cada angulo usando os dois vetores acima (tan = sen/cos)\n",
    "5. Crie uma função que recebe uma matriz A e um vetor v e retorna\n",
    "$\\dfrac{\\langle v, Av\\rangle}{\\langle v, v\\rangle}$"
   ]
  },
  {
   "cell_type": "markdown",
   "metadata": {},
   "source": [
    "# Loops e condicionais"
   ]
  },
  {
   "cell_type": "code",
   "execution_count": 69,
   "metadata": {},
   "outputs": [
    {
     "data": {
      "text/plain": [
       "500-element Array{Int64,1}:\n",
       "   1\n",
       "   2\n",
       "   3\n",
       "   4\n",
       "   5\n",
       "   6\n",
       "   7\n",
       "   8\n",
       "   9\n",
       "  10\n",
       "  11\n",
       "  12\n",
       "  13\n",
       "   ⋮\n",
       " 489\n",
       " 490\n",
       " 491\n",
       " 492\n",
       " 493\n",
       " 494\n",
       " 495\n",
       " 496\n",
       " 497\n",
       " 498\n",
       " 499\n",
       " 500"
      ]
     },
     "execution_count": 69,
     "metadata": {},
     "output_type": "execute_result"
    }
   ],
   "source": [
    "collect(1:500)"
   ]
  },
  {
   "cell_type": "code",
   "execution_count": 66,
   "metadata": {},
   "outputs": [
    {
     "data": {
      "text/plain": [
       "3-element Array{Int64,1}:\n",
       " 1\n",
       " 3\n",
       " 5"
      ]
     },
     "execution_count": 66,
     "metadata": {},
     "output_type": "execute_result"
    }
   ],
   "source": [
    "collect(1:2:5)"
   ]
  },
  {
   "cell_type": "code",
   "execution_count": 70,
   "metadata": {},
   "outputs": [
    {
     "data": {
      "text/plain": [
       "11-element Array{Float64,1}:\n",
       " 0.0\n",
       " 0.1\n",
       " 0.2\n",
       " 0.3\n",
       " 0.4\n",
       " 0.5\n",
       " 0.6\n",
       " 0.7\n",
       " 0.8\n",
       " 0.9\n",
       " 1.0"
      ]
     },
     "execution_count": 70,
     "metadata": {},
     "output_type": "execute_result"
    }
   ],
   "source": [
    "collect(0.0 : 0.1 : 1.0)"
   ]
  },
  {
   "cell_type": "code",
   "execution_count": 71,
   "metadata": {},
   "outputs": [
    {
     "data": {
      "text/plain": [
       "10-element Array{Float64,1}:\n",
       " 0.0     \n",
       " 0.111111\n",
       " 0.222222\n",
       " 0.333333\n",
       " 0.444444\n",
       " 0.555556\n",
       " 0.666667\n",
       " 0.777778\n",
       " 0.888889\n",
       " 1.0     "
      ]
     },
     "execution_count": 71,
     "metadata": {},
     "output_type": "execute_result"
    }
   ],
   "source": [
    "collect(linspace(0, 1, 10))"
   ]
  },
  {
   "cell_type": "code",
   "execution_count": 72,
   "metadata": {},
   "outputs": [
    {
     "data": {
      "text/plain": [
       "10-element Array{Int64,1}:\n",
       " 10\n",
       "  9\n",
       "  8\n",
       "  7\n",
       "  6\n",
       "  5\n",
       "  4\n",
       "  3\n",
       "  2\n",
       "  1"
      ]
     },
     "execution_count": 72,
     "metadata": {},
     "output_type": "execute_result"
    }
   ],
   "source": [
    "collect(10:-1:1)"
   ]
  },
  {
   "cell_type": "code",
   "execution_count": 74,
   "metadata": {},
   "outputs": [
    {
     "name": "stdout",
     "output_type": "stream",
     "text": [
      "0.0\n",
      "0.25\n",
      "1.0\n",
      "2.25\n",
      "4.0\n",
      "6.25\n",
      "9.0\n"
     ]
    }
   ],
   "source": [
    "for i = 0.0:0.5:3.0\n",
    "    println(i^2) # Impressão e quebra linha\n",
    "end"
   ]
  },
  {
   "cell_type": "code",
   "execution_count": 75,
   "metadata": {
    "scrolled": true
   },
   "outputs": [
    {
     "name": "stdout",
     "output_type": "stream",
     "text": [
      "search: \u001b[1mp\u001b[22m\u001b[1mr\u001b[22m\u001b[1mi\u001b[22m\u001b[1mn\u001b[22m\u001b[1mt\u001b[22m\u001b[1ml\u001b[22m\u001b[1mn\u001b[22m \u001b[1mp\u001b[22m\u001b[1mr\u001b[22m\u001b[1mi\u001b[22m\u001b[1mn\u001b[22m\u001b[1mt\u001b[22m_with_co\u001b[1ml\u001b[22mor \u001b[1mp\u001b[22m\u001b[1mr\u001b[22m\u001b[1mi\u001b[22m\u001b[1mn\u001b[22m\u001b[1mt\u001b[22m \u001b[1mp\u001b[22m\u001b[1mr\u001b[22m\u001b[1mi\u001b[22m\u001b[1mn\u001b[22m\u001b[1mt\u001b[22m_shortest s\u001b[1mp\u001b[22m\u001b[1mr\u001b[22m\u001b[1mi\u001b[22m\u001b[1mn\u001b[22m\u001b[1mt\u001b[22m @\u001b[1mp\u001b[22m\u001b[1mr\u001b[22m\u001b[1mi\u001b[22m\u001b[1mn\u001b[22m\u001b[1mt\u001b[22mf is\u001b[1mp\u001b[22m\u001b[1mr\u001b[22m\u001b[1mi\u001b[22m\u001b[1mn\u001b[22m\u001b[1mt\u001b[22m\n",
      "\n"
     ]
    },
    {
     "data": {
      "text/markdown": [
       "```\n",
       "println(io::IO, xs...)\n",
       "```\n",
       "\n",
       "Print (using [`print`](@ref)) `xs` followed by a newline. If `io` is not supplied, prints to [`STDOUT`](@ref).\n"
      ],
      "text/plain": [
       "```\n",
       "println(io::IO, xs...)\n",
       "```\n",
       "\n",
       "Print (using [`print`](@ref)) `xs` followed by a newline. If `io` is not supplied, prints to [`STDOUT`](@ref).\n"
      ]
     },
     "execution_count": 75,
     "metadata": {},
     "output_type": "execute_result"
    }
   ],
   "source": [
    "?println"
   ]
  },
  {
   "cell_type": "code",
   "execution_count": 76,
   "metadata": {},
   "outputs": [
    {
     "name": "stdout",
     "output_type": "stream",
     "text": [
      "12345678910"
     ]
    }
   ],
   "source": [
    "for i = 1:10\n",
    "    print(i)\n",
    "end"
   ]
  },
  {
   "cell_type": "code",
   "execution_count": 77,
   "metadata": {},
   "outputs": [
    {
     "name": "stdout",
     "output_type": "stream",
     "text": [
      "i = 1\n",
      "i = 2\n",
      "i = 3\n",
      "i = 4\n",
      "i = 5\n",
      "i = 6\n",
      "i = 7\n",
      "i = 8\n",
      "i = 9\n",
      "i = 10\n"
     ]
    }
   ],
   "source": [
    "for i = 1:10\n",
    "    println(\"i = $i\") # string; $i é interpolação de string\n",
    "end"
   ]
  },
  {
   "cell_type": "code",
   "execution_count": 81,
   "metadata": {},
   "outputs": [
    {
     "name": "stdout",
     "output_type": "stream",
     "text": [
      "i = 001\n",
      "i = 002\n",
      "i = 003\n",
      "i = 004\n",
      "i = 005\n",
      "i = 006\n",
      "i = 007\n",
      "i = 008\n",
      "i = 009\n",
      "i = 010\n"
     ]
    }
   ],
   "source": [
    "for i = 1:10\n",
    "    @printf(\"i = %03d\\n\", i) # Notação de C\n",
    "end"
   ]
  },
  {
   "cell_type": "code",
   "execution_count": 82,
   "metadata": {},
   "outputs": [],
   "source": [
    "x = rand(10)\n",
    "y = zeros(10)\n",
    "for i = 1:10\n",
    "    y[i] = x[i] * i\n",
    "end"
   ]
  },
  {
   "cell_type": "code",
   "execution_count": 83,
   "metadata": {},
   "outputs": [
    {
     "data": {
      "text/plain": [
       "10-element Array{Float64,1}:\n",
       "  1.0\n",
       "  2.0\n",
       "  3.0\n",
       "  4.0\n",
       "  5.0\n",
       "  6.0\n",
       "  7.0\n",
       "  8.0\n",
       "  9.0\n",
       " 10.0"
      ]
     },
     "execution_count": 83,
     "metadata": {},
     "output_type": "execute_result"
    }
   ],
   "source": [
    "y ./ x"
   ]
  },
  {
   "cell_type": "code",
   "execution_count": 86,
   "metadata": {},
   "outputs": [
    {
     "name": "stdout",
     "output_type": "stream",
     "text": [
      "sin(0.0) = 0.0\n",
      "sin(0.5235987755982988) = 0.49999999999999994\n",
      "sin(0.7853981633974483) = 0.7071067811865475\n",
      "sin(1.0471975511965976) = 0.8660254037844386\n",
      "sin(1.5707963267948966) = 1.0\n"
     ]
    }
   ],
   "source": [
    "for x in [0; pi/6; pi/4; pi/3; pi/2]\n",
    "    println(\"sin($x) = $(sin(x))\")\n",
    "end"
   ]
  },
  {
   "cell_type": "code",
   "execution_count": 84,
   "metadata": {},
   "outputs": [
    {
     "name": "stdout",
     "output_type": "stream",
     "text": [
      "3 6 9 12 15 18 "
     ]
    }
   ],
   "source": [
    "for i = 3:3:20\n",
    "    print(\"$i \")\n",
    "end"
   ]
  },
  {
   "cell_type": "code",
   "execution_count": 85,
   "metadata": {},
   "outputs": [
    {
     "name": "stdout",
     "output_type": "stream",
     "text": [
      "3^2 = 9\n",
      "5^2 = 25\n",
      "7^2 = 49\n",
      "9^2 = 81\n"
     ]
    }
   ],
   "source": [
    "for i in 3:2:10\n",
    "    println(\"$i^2 = $(i^2)\")\n",
    "end"
   ]
  },
  {
   "cell_type": "code",
   "execution_count": 87,
   "metadata": {},
   "outputs": [
    {
     "data": {
      "text/plain": [
       "2-element Array{Int64,1}:\n",
       " 2\n",
       " 3"
      ]
     },
     "execution_count": 87,
     "metadata": {},
     "output_type": "execute_result"
    }
   ],
   "source": [
    "Int[2; 3]"
   ]
  },
  {
   "cell_type": "code",
   "execution_count": 90,
   "metadata": {},
   "outputs": [
    {
     "name": "stdout",
     "output_type": "stream",
     "text": [
      "x: a    Tipo: String\n",
      "x: 0    Tipo: Int64\n",
      "x: 3.14    Tipo: Float64\n",
      "x: e = 2.7182818284590...    Tipo: Irrational{:e}\n",
      "x: 3//4    Tipo: Rational{Int64}\n",
      "x: 1.0 + 1.0im    Tipo: Complex{Float64}\n",
      "x: [1.0, 1.0]    Tipo: Array{Float64,1}\n",
      "x: [1.0 1.0; 1.0 1.0]    Tipo: Array{Float64,2}\n",
      "x: true    Tipo: Bool\n"
     ]
    }
   ],
   "source": [
    "for x in Any[\"a\", 0, 3.14, e, 3//4, 1.0 + 1.0*im, ones(2), ones(2,2), true]\n",
    "    println(\"x: $x    Tipo: $(typeof(x))\")\n",
    "end"
   ]
  },
  {
   "cell_type": "code",
   "execution_count": 91,
   "metadata": {},
   "outputs": [
    {
     "ename": "LoadError",
     "evalue": "\u001b[91mArgumentError: invalid index: 3.0\u001b[39m",
     "output_type": "error",
     "traceback": [
      "\u001b[91mArgumentError: invalid index: 3.0\u001b[39m",
      "",
      "Stacktrace:",
      " [1] \u001b[1msetindex!\u001b[22m\u001b[22m\u001b[1m(\u001b[22m\u001b[22m::Array{Float64,1}, ::Int64, ::Float64\u001b[1m)\u001b[22m\u001b[22m at \u001b[1m./abstractarray.jl:968\u001b[22m\u001b[22m"
     ]
    }
   ],
   "source": [
    "n = 6\n",
    "v = ones(n)\n",
    "v[n/2] = 2\n",
    "v"
   ]
  },
  {
   "cell_type": "code",
   "execution_count": 92,
   "metadata": {},
   "outputs": [
    {
     "data": {
      "text/plain": [
       "3.0"
      ]
     },
     "execution_count": 92,
     "metadata": {},
     "output_type": "execute_result"
    }
   ],
   "source": [
    "n/2"
   ]
  },
  {
   "cell_type": "code",
   "execution_count": 93,
   "metadata": {},
   "outputs": [
    {
     "data": {
      "text/plain": [
       "3"
      ]
     },
     "execution_count": 93,
     "metadata": {},
     "output_type": "execute_result"
    }
   ],
   "source": [
    "div(n,2)"
   ]
  },
  {
   "cell_type": "code",
   "execution_count": 94,
   "metadata": {
    "scrolled": true
   },
   "outputs": [
    {
     "data": {
      "text/plain": [
       "3"
      ]
     },
     "execution_count": 94,
     "metadata": {},
     "output_type": "execute_result"
    }
   ],
   "source": [
    "round(Int, n/2)"
   ]
  },
  {
   "cell_type": "code",
   "execution_count": 95,
   "metadata": {},
   "outputs": [
    {
     "data": {
      "text/plain": [
       "2"
      ]
     },
     "execution_count": 95,
     "metadata": {},
     "output_type": "execute_result"
    }
   ],
   "source": [
    "10 % 4 # Resto da divisão de 10 por 4"
   ]
  },
  {
   "cell_type": "markdown",
   "metadata": {},
   "source": [
    "**Fatorial**: $ n! = n(n-1)\\dots2. 1 $"
   ]
  },
  {
   "cell_type": "code",
   "execution_count": 97,
   "metadata": {},
   "outputs": [
    {
     "data": {
      "text/plain": [
       "fatorial (generic function with 1 method)"
      ]
     },
     "execution_count": 97,
     "metadata": {},
     "output_type": "execute_result"
    }
   ],
   "source": [
    "function fatorial(n)\n",
    "    resultado = 1\n",
    "    for i = 1:n\n",
    "        resultado = resultado * i\n",
    "    end\n",
    "    return resultado\n",
    "end"
   ]
  },
  {
   "cell_type": "code",
   "execution_count": 98,
   "metadata": {},
   "outputs": [
    {
     "data": {
      "text/plain": [
       "24"
      ]
     },
     "execution_count": 98,
     "metadata": {},
     "output_type": "execute_result"
    }
   ],
   "source": [
    "fatorial(4)"
   ]
  },
  {
   "cell_type": "code",
   "execution_count": 99,
   "metadata": {},
   "outputs": [
    {
     "data": {
      "text/plain": [
       "120"
      ]
     },
     "execution_count": 99,
     "metadata": {},
     "output_type": "execute_result"
    }
   ],
   "source": [
    "fatorial(5)"
   ]
  },
  {
   "cell_type": "code",
   "execution_count": 100,
   "metadata": {},
   "outputs": [
    {
     "data": {
      "text/plain": [
       "1"
      ]
     },
     "execution_count": 100,
     "metadata": {},
     "output_type": "execute_result"
    }
   ],
   "source": [
    "fatorial(0)"
   ]
  },
  {
   "cell_type": "code",
   "execution_count": 101,
   "metadata": {},
   "outputs": [
    {
     "data": {
      "text/plain": [
       "24.0"
      ]
     },
     "execution_count": 101,
     "metadata": {},
     "output_type": "execute_result"
    }
   ],
   "source": [
    "fatorial(4.3)"
   ]
  },
  {
   "cell_type": "code",
   "execution_count": 102,
   "metadata": {},
   "outputs": [
    {
     "data": {
      "text/plain": [
       "1"
      ]
     },
     "execution_count": 102,
     "metadata": {},
     "output_type": "execute_result"
    }
   ],
   "source": [
    "fatorial(-2)"
   ]
  },
  {
   "cell_type": "code",
   "execution_count": 107,
   "metadata": {},
   "outputs": [
    {
     "data": {
      "text/plain": [
       "fatorial2 (generic function with 1 method)"
      ]
     },
     "execution_count": 107,
     "metadata": {},
     "output_type": "execute_result"
    }
   ],
   "source": [
    "function fatorial2(n :: Int)\n",
    "    resultado = 1\n",
    "    for i = 1:n\n",
    "        resultado = resultado * i\n",
    "    end\n",
    "    return resultado\n",
    "end"
   ]
  },
  {
   "cell_type": "code",
   "execution_count": 109,
   "metadata": {
    "scrolled": true
   },
   "outputs": [
    {
     "data": {
      "text/plain": [
       "6"
      ]
     },
     "execution_count": 109,
     "metadata": {},
     "output_type": "execute_result"
    }
   ],
   "source": [
    "fatorial2(3)"
   ]
  },
  {
   "cell_type": "markdown",
   "metadata": {},
   "source": [
    "**sinal**: $ \\mbox{sinal}(x) = \\left\\{\\begin{array}{rl}\n",
    "1, & x > 0 \\\\\n",
    "-1, & x < 0 \\\\\n",
    "0, & x = 0.\n",
    "\\end{array}\\right.$"
   ]
  },
  {
   "cell_type": "code",
   "execution_count": 110,
   "metadata": {},
   "outputs": [
    {
     "data": {
      "text/plain": [
       "sinal (generic function with 1 method)"
      ]
     },
     "execution_count": 110,
     "metadata": {},
     "output_type": "execute_result"
    }
   ],
   "source": [
    "function sinal(x)\n",
    "    if x > 0\n",
    "        return 1\n",
    "    elseif x < 0\n",
    "        return -1\n",
    "    else\n",
    "        return 0\n",
    "    end\n",
    "end"
   ]
  },
  {
   "cell_type": "code",
   "execution_count": 111,
   "metadata": {},
   "outputs": [
    {
     "data": {
      "text/plain": [
       "1"
      ]
     },
     "execution_count": 111,
     "metadata": {},
     "output_type": "execute_result"
    }
   ],
   "source": [
    "sinal(3.2)"
   ]
  },
  {
   "cell_type": "code",
   "execution_count": 112,
   "metadata": {},
   "outputs": [
    {
     "data": {
      "text/plain": [
       "-1"
      ]
     },
     "execution_count": 112,
     "metadata": {},
     "output_type": "execute_result"
    }
   ],
   "source": [
    "sinal(-1.2)"
   ]
  },
  {
   "cell_type": "code",
   "execution_count": 113,
   "metadata": {},
   "outputs": [
    {
     "data": {
      "text/plain": [
       "0"
      ]
     },
     "execution_count": 113,
     "metadata": {},
     "output_type": "execute_result"
    }
   ],
   "source": [
    "sinal(0.0)"
   ]
  },
  {
   "cell_type": "markdown",
   "metadata": {},
   "source": [
    "**Bháskara:**\n",
    "$ax^2 + bx + c = 0$ e $b^2 - 4ac \\geq 0$ implicam em\n",
    "$x = \\dfrac{-b \\pm \\sqrt{b^2 - 4ac}}{2a}. $"
   ]
  },
  {
   "cell_type": "code",
   "execution_count": 115,
   "metadata": {},
   "outputs": [
    {
     "data": {
      "text/plain": [
       "bhaskara (generic function with 1 method)"
      ]
     },
     "execution_count": 115,
     "metadata": {},
     "output_type": "execute_result"
    }
   ],
   "source": [
    "function bhaskara(a, b, c)\n",
    "    Δ = b^2 - 4 * a * c\n",
    "    if Δ < 0\n",
    "        error(\"Nos reais não tem solução\")\n",
    "    end\n",
    "    return (-b + sqrt(Δ)) / 2a, (-b - sqrt(Δ)) / 2a\n",
    "end"
   ]
  },
  {
   "cell_type": "code",
   "execution_count": 120,
   "metadata": {},
   "outputs": [
    {
     "data": {
      "text/plain": [
       "(-2.0, -3.0)"
      ]
     },
     "execution_count": 120,
     "metadata": {},
     "output_type": "execute_result"
    }
   ],
   "source": [
    "bhaskara(1, 5, 6)"
   ]
  },
  {
   "cell_type": "code",
   "execution_count": 118,
   "metadata": {},
   "outputs": [
    {
     "ename": "LoadError",
     "evalue": "\u001b[91mNos reais não tem solução\u001b[39m",
     "output_type": "error",
     "traceback": [
      "\u001b[91mNos reais não tem solução\u001b[39m",
      "",
      "Stacktrace:",
      " [1] \u001b[1mbhaskara\u001b[22m\u001b[22m\u001b[1m(\u001b[22m\u001b[22m::Int64, ::Int64, ::Int64\u001b[1m)\u001b[22m\u001b[22m at \u001b[1m./In[115]:4\u001b[22m\u001b[22m"
     ]
    }
   ],
   "source": [
    "bhaskara(1, 0, 1)"
   ]
  },
  {
   "cell_type": "code",
   "execution_count": 119,
   "metadata": {},
   "outputs": [
    {
     "data": {
      "text/plain": [
       "(1.0, -1.0)"
      ]
     },
     "execution_count": 119,
     "metadata": {},
     "output_type": "execute_result"
    }
   ],
   "source": [
    "bhaskara(1, 0, -1)"
   ]
  },
  {
   "cell_type": "code",
   "execution_count": 121,
   "metadata": {},
   "outputs": [
    {
     "data": {
      "text/plain": [
       "(NaN, -Inf)"
      ]
     },
     "execution_count": 121,
     "metadata": {},
     "output_type": "execute_result"
    }
   ],
   "source": [
    "bhaskara(0, 1, 1)"
   ]
  },
  {
   "cell_type": "markdown",
   "metadata": {},
   "source": [
    "**MMC:**\n",
    "$\\mbox{mmc}(a, b)$ é o menor número natural que é múltiplo de $a$ e de $b$."
   ]
  },
  {
   "cell_type": "markdown",
   "metadata": {},
   "source": [
    "    or -> ||\n",
    "    and -> &&"
   ]
  },
  {
   "cell_type": "code",
   "execution_count": 139,
   "metadata": {},
   "outputs": [
    {
     "data": {
      "text/plain": [
       "mmc (generic function with 1 method)"
      ]
     },
     "execution_count": 139,
     "metadata": {},
     "output_type": "execute_result"
    }
   ],
   "source": [
    "function mmc(a::Int, b::Int)\n",
    "    if a < 1 || b < 1\n",
    "        error(\"Entrada deve ser de dois inteiros positivos\")\n",
    "    end\n",
    "    x = 1\n",
    "    while a > 1 || b > 1\n",
    "        achou = false\n",
    "        for j = 2:max(a,b)\n",
    "            if a % j == 0 || b % j == 0\n",
    "                x = x * j\n",
    "                achou = true\n",
    "            end\n",
    "            if a % j == 0\n",
    "                a = div(a, j)\n",
    "            end\n",
    "            if b % j == 0\n",
    "                b = div(b, j)\n",
    "            end\n",
    "            if achou\n",
    "                break\n",
    "            end\n",
    "        end\n",
    "    end\n",
    "    return x\n",
    "end"
   ]
  },
  {
   "cell_type": "code",
   "execution_count": 140,
   "metadata": {},
   "outputs": [
    {
     "data": {
      "text/plain": [
       "6"
      ]
     },
     "execution_count": 140,
     "metadata": {},
     "output_type": "execute_result"
    }
   ],
   "source": [
    "mmc(2,3)"
   ]
  },
  {
   "cell_type": "code",
   "execution_count": 141,
   "metadata": {},
   "outputs": [
    {
     "data": {
      "text/plain": [
       "35"
      ]
     },
     "execution_count": 141,
     "metadata": {},
     "output_type": "execute_result"
    }
   ],
   "source": [
    "mmc(5, 7)"
   ]
  },
  {
   "cell_type": "code",
   "execution_count": 142,
   "metadata": {},
   "outputs": [
    {
     "data": {
      "text/plain": [
       "24"
      ]
     },
     "execution_count": 142,
     "metadata": {},
     "output_type": "execute_result"
    }
   ],
   "source": [
    "mmc(6, 8)"
   ]
  },
  {
   "cell_type": "code",
   "execution_count": 143,
   "metadata": {},
   "outputs": [
    {
     "data": {
      "text/plain": [
       "84"
      ]
     },
     "execution_count": 143,
     "metadata": {},
     "output_type": "execute_result"
    }
   ],
   "source": [
    "mmc(12, 14)"
   ]
  },
  {
   "cell_type": "code",
   "execution_count": 144,
   "metadata": {},
   "outputs": [
    {
     "ename": "LoadError",
     "evalue": "\u001b[91mEntrada deve ser de dois inteiros positivos\u001b[39m",
     "output_type": "error",
     "traceback": [
      "\u001b[91mEntrada deve ser de dois inteiros positivos\u001b[39m",
      "",
      "Stacktrace:",
      " [1] \u001b[1mmmc\u001b[22m\u001b[22m\u001b[1m(\u001b[22m\u001b[22m::Int64, ::Int64\u001b[1m)\u001b[22m\u001b[22m at \u001b[1m./In[139]:3\u001b[22m\u001b[22m"
     ]
    }
   ],
   "source": [
    "mmc(-1, 0)"
   ]
  },
  {
   "cell_type": "code",
   "execution_count": 145,
   "metadata": {},
   "outputs": [
    {
     "ename": "LoadError",
     "evalue": "\u001b[91mMethodError: no method matching mmc(::Float64, ::Float64)\u001b[39m",
     "output_type": "error",
     "traceback": [
      "\u001b[91mMethodError: no method matching mmc(::Float64, ::Float64)\u001b[39m",
      ""
     ]
    }
   ],
   "source": [
    "mmc(2.0, 3.0)"
   ]
  },
  {
   "cell_type": "markdown",
   "metadata": {},
   "source": [
    "## Exercício\n",
    "\n",
    "- Atualize a função fatorial para proibir números negativos não inteiros. Proíba também o fatorial de um número maior que 21.\n",
    "- Atualize a função de Bháskara para que retorne um erro caso $a$ seja 0.\n",
    "- Faça uma função que recebe um inteiro `n` e verifica se ele é primo."
   ]
  },
  {
   "cell_type": "markdown",
   "metadata": {},
   "source": [
    "## Arquivos"
   ]
  },
  {
   "cell_type": "markdown",
   "metadata": {},
   "source": [
    "A aula de arquivos deve ser feira fora do Jupyter para melhor entendimento.\n",
    "Use:\n",
    "\n",
    "- Atom/JunoLab para edição;\n",
    "- o terminal do Julia."
   ]
  },
  {
   "cell_type": "markdown",
   "metadata": {},
   "source": [
    "Dentro do terminal, use\n",
    "    \n",
    "    include(\"arquivo.jl\")\n",
    "   \n",
    "para incluir um arquivo e rodar todo seu conteúdo.\n",
    "\n",
    "O arquivo precisa estar na mesma pasta. Se não estiver você tem duas opções:\n",
    "- Navegar até a pasta corresponde, usando o comando `cd`; ou\n",
    "- incluir o arquivo passando o caminho inteiro: `include(\"~/Desktop/arquivo.jl\")`. (`~` em Linux quer dizer diretório pessoal padrão - em geral `/home/fulano/`."
   ]
  },
  {
   "cell_type": "markdown",
   "metadata": {},
   "source": [
    "## Pacotes"
   ]
  },
  {
   "cell_type": "markdown",
   "metadata": {},
   "source": [
    "O Julia não vem com tudo pré-instalado, assim como a maioria das linguagem de programação.\n",
    "Para encontrar um pacote que faça o que você quer, você pode buscar na lista http://pkg.julialang.org/ ou no Google."
   ]
  },
  {
   "cell_type": "markdown",
   "metadata": {},
   "source": [
    "### Instalação de pacotes"
   ]
  },
  {
   "cell_type": "markdown",
   "metadata": {},
   "source": [
    "Caso o pacote que você encontrou seja indexado, basta usar o comando `Pkg.add(\"Pacote\")`. A indexação depende do criador do pacote. Os principais pacotes estão indexados. Por exemplo:\n",
    "- Pacote `Plots`: comandos unificados de fazer gráficos.\n",
    "- Pacote `PyPlot`: para desenhar gráficos usando o `matplotlib`. Bonito, mas lento e demorado de instalar.\n",
    "- Pacote `GR`: outro pacote para desenhar gráficos. Mais rápido, mas menos bonito.\n",
    "- Pacote `Primes`: pacote para trabalhar com números primos.\n",
    "- Pacote `Combinatorics`: pacote para funções de combinátoria."
   ]
  },
  {
   "cell_type": "markdown",
   "metadata": {},
   "source": [
    "Caso o pacote não esteja indexado, ainda é possível instalá-lo, usando os comandos `Pkg.clone` e `Pkg.build`."
   ]
  },
  {
   "cell_type": "markdown",
   "metadata": {},
   "source": [
    "## Plots"
   ]
  },
  {
   "cell_type": "markdown",
   "metadata": {},
   "source": [
    "Utilizaremos os pacotes `Plots` e `PyPlot` para fazer nossos gráficos. Caso prefira o `GR`, mude o comando `pyplot` logo abaixo por `gr`.\n",
    "\n",
    "Para o help dos gráficos, veja [Julia Plots](https://juliaplots.github.io)."
   ]
  },
  {
   "cell_type": "code",
   "execution_count": 148,
   "metadata": {},
   "outputs": [
    {
     "data": {
      "text/plain": [
       "Plots.GRBackend()"
      ]
     },
     "execution_count": 148,
     "metadata": {},
     "output_type": "execute_result"
    }
   ],
   "source": [
    "using Plots\n",
    "gr(size=(400,300)) # ou gr()"
   ]
  },
  {
   "cell_type": "code",
   "execution_count": 149,
   "metadata": {},
   "outputs": [
    {
     "data": {
      "image/svg+xml": [
       "<?xml version=\"1.0\" encoding=\"utf-8\"?>\n",
       "<svg xmlns=\"http://www.w3.org/2000/svg\" xmlns:xlink=\"http://www.w3.org/1999/xlink\" width=\"400\" height=\"300\" viewBox=\"0 0 400 300\">\n",
       "<defs>\n",
       "  <clipPath id=\"clip5100\">\n",
       "    <rect x=\"0\" y=\"0\" width=\"400\" height=\"300\"/>\n",
       "  </clipPath>\n",
       "</defs>\n",
       "<polygon clip-path=\"url(#clip5100)\" points=\"\n",
       "0,300 400,300 400,0 0,0 \n",
       "  \" fill=\"#ffffff\" fill-opacity=\"1\"/>\n",
       "<defs>\n",
       "  <clipPath id=\"clip5101\">\n",
       "    <rect x=\"80\" y=\"0\" width=\"281\" height=\"281\"/>\n",
       "  </clipPath>\n",
       "</defs>\n",
       "<polygon clip-path=\"url(#clip5100)\" points=\"\n",
       "32.4745,275.869 380.315,275.869 380.315,11.811 32.4745,11.811 \n",
       "  \" fill=\"#ffffff\" fill-opacity=\"1\"/>\n",
       "<defs>\n",
       "  <clipPath id=\"clip5102\">\n",
       "    <rect x=\"32\" y=\"11\" width=\"349\" height=\"265\"/>\n",
       "  </clipPath>\n",
       "</defs>\n",
       "<polyline clip-path=\"url(#clip5102)\" style=\"stroke:#000000; stroke-width:0.5; stroke-opacity:0.1; fill:none\" points=\"\n",
       "  32.4745,275.869 32.4745,11.811 \n",
       "  \"/>\n",
       "<polyline clip-path=\"url(#clip5102)\" style=\"stroke:#000000; stroke-width:0.5; stroke-opacity:0.1; fill:none\" points=\"\n",
       "  119.435,275.869 119.435,11.811 \n",
       "  \"/>\n",
       "<polyline clip-path=\"url(#clip5102)\" style=\"stroke:#000000; stroke-width:0.5; stroke-opacity:0.1; fill:none\" points=\"\n",
       "  206.395,275.869 206.395,11.811 \n",
       "  \"/>\n",
       "<polyline clip-path=\"url(#clip5102)\" style=\"stroke:#000000; stroke-width:0.5; stroke-opacity:0.1; fill:none\" points=\"\n",
       "  293.355,275.869 293.355,11.811 \n",
       "  \"/>\n",
       "<polyline clip-path=\"url(#clip5102)\" style=\"stroke:#000000; stroke-width:0.5; stroke-opacity:0.1; fill:none\" points=\"\n",
       "  380.315,275.869 380.315,11.811 \n",
       "  \"/>\n",
       "<polyline clip-path=\"url(#clip5102)\" style=\"stroke:#000000; stroke-width:0.5; stroke-opacity:0.1; fill:none\" points=\"\n",
       "  32.4745,275.869 380.315,275.869 \n",
       "  \"/>\n",
       "<polyline clip-path=\"url(#clip5102)\" style=\"stroke:#000000; stroke-width:0.5; stroke-opacity:0.1; fill:none\" points=\"\n",
       "  32.4745,209.854 380.315,209.854 \n",
       "  \"/>\n",
       "<polyline clip-path=\"url(#clip5102)\" style=\"stroke:#000000; stroke-width:0.5; stroke-opacity:0.1; fill:none\" points=\"\n",
       "  32.4745,143.84 380.315,143.84 \n",
       "  \"/>\n",
       "<polyline clip-path=\"url(#clip5102)\" style=\"stroke:#000000; stroke-width:0.5; stroke-opacity:0.1; fill:none\" points=\"\n",
       "  32.4745,77.8254 380.315,77.8254 \n",
       "  \"/>\n",
       "<polyline clip-path=\"url(#clip5102)\" style=\"stroke:#000000; stroke-width:0.5; stroke-opacity:0.1; fill:none\" points=\"\n",
       "  32.4745,11.811 380.315,11.811 \n",
       "  \"/>\n",
       "<polyline clip-path=\"url(#clip5100)\" style=\"stroke:#000000; stroke-width:1; stroke-opacity:1; fill:none\" points=\"\n",
       "  32.4745,275.869 380.315,275.869 \n",
       "  \"/>\n",
       "<polyline clip-path=\"url(#clip5100)\" style=\"stroke:#000000; stroke-width:1; stroke-opacity:1; fill:none\" points=\"\n",
       "  32.4745,275.869 32.4745,11.811 \n",
       "  \"/>\n",
       "<polyline clip-path=\"url(#clip5100)\" style=\"stroke:#000000; stroke-width:1; stroke-opacity:1; fill:none\" points=\"\n",
       "  32.4745,275.869 32.4745,271.908 \n",
       "  \"/>\n",
       "<polyline clip-path=\"url(#clip5100)\" style=\"stroke:#000000; stroke-width:1; stroke-opacity:1; fill:none\" points=\"\n",
       "  119.435,275.869 119.435,271.908 \n",
       "  \"/>\n",
       "<polyline clip-path=\"url(#clip5100)\" style=\"stroke:#000000; stroke-width:1; stroke-opacity:1; fill:none\" points=\"\n",
       "  206.395,275.869 206.395,271.908 \n",
       "  \"/>\n",
       "<polyline clip-path=\"url(#clip5100)\" style=\"stroke:#000000; stroke-width:1; stroke-opacity:1; fill:none\" points=\"\n",
       "  293.355,275.869 293.355,271.908 \n",
       "  \"/>\n",
       "<polyline clip-path=\"url(#clip5100)\" style=\"stroke:#000000; stroke-width:1; stroke-opacity:1; fill:none\" points=\"\n",
       "  380.315,275.869 380.315,271.908 \n",
       "  \"/>\n",
       "<polyline clip-path=\"url(#clip5100)\" style=\"stroke:#000000; stroke-width:1; stroke-opacity:1; fill:none\" points=\"\n",
       "  32.4745,275.869 37.6921,275.869 \n",
       "  \"/>\n",
       "<polyline clip-path=\"url(#clip5100)\" style=\"stroke:#000000; stroke-width:1; stroke-opacity:1; fill:none\" points=\"\n",
       "  32.4745,209.854 37.6921,209.854 \n",
       "  \"/>\n",
       "<polyline clip-path=\"url(#clip5100)\" style=\"stroke:#000000; stroke-width:1; stroke-opacity:1; fill:none\" points=\"\n",
       "  32.4745,143.84 37.6921,143.84 \n",
       "  \"/>\n",
       "<polyline clip-path=\"url(#clip5100)\" style=\"stroke:#000000; stroke-width:1; stroke-opacity:1; fill:none\" points=\"\n",
       "  32.4745,77.8254 37.6921,77.8254 \n",
       "  \"/>\n",
       "<polyline clip-path=\"url(#clip5100)\" style=\"stroke:#000000; stroke-width:1; stroke-opacity:1; fill:none\" points=\"\n",
       "  32.4745,11.811 37.6921,11.811 \n",
       "  \"/>\n",
       "<g clip-path=\"url(#clip5100)\">\n",
       "<text style=\"fill:#000000; fill-opacity:1; font-family:Arial,Helvetica Neue,Helvetica,sans-serif; font-size:12; text-anchor:middle;\" transform=\"rotate(0, 32.4745, 288.669)\" x=\"32.4745\" y=\"288.669\">1.0</text>\n",
       "</g>\n",
       "<g clip-path=\"url(#clip5100)\">\n",
       "<text style=\"fill:#000000; fill-opacity:1; font-family:Arial,Helvetica Neue,Helvetica,sans-serif; font-size:12; text-anchor:middle;\" transform=\"rotate(0, 119.435, 288.669)\" x=\"119.435\" y=\"288.669\">1.5</text>\n",
       "</g>\n",
       "<g clip-path=\"url(#clip5100)\">\n",
       "<text style=\"fill:#000000; fill-opacity:1; font-family:Arial,Helvetica Neue,Helvetica,sans-serif; font-size:12; text-anchor:middle;\" transform=\"rotate(0, 206.395, 288.669)\" x=\"206.395\" y=\"288.669\">2.0</text>\n",
       "</g>\n",
       "<g clip-path=\"url(#clip5100)\">\n",
       "<text style=\"fill:#000000; fill-opacity:1; font-family:Arial,Helvetica Neue,Helvetica,sans-serif; font-size:12; text-anchor:middle;\" transform=\"rotate(0, 293.355, 288.669)\" x=\"293.355\" y=\"288.669\">2.5</text>\n",
       "</g>\n",
       "<g clip-path=\"url(#clip5100)\">\n",
       "<text style=\"fill:#000000; fill-opacity:1; font-family:Arial,Helvetica Neue,Helvetica,sans-serif; font-size:12; text-anchor:middle;\" transform=\"rotate(0, 380.315, 288.669)\" x=\"380.315\" y=\"288.669\">3.0</text>\n",
       "</g>\n",
       "<g clip-path=\"url(#clip5100)\">\n",
       "<text style=\"fill:#000000; fill-opacity:1; font-family:Arial,Helvetica Neue,Helvetica,sans-serif; font-size:12; text-anchor:end;\" transform=\"rotate(0, 28.4745, 280.369)\" x=\"28.4745\" y=\"280.369\">1.0</text>\n",
       "</g>\n",
       "<g clip-path=\"url(#clip5100)\">\n",
       "<text style=\"fill:#000000; fill-opacity:1; font-family:Arial,Helvetica Neue,Helvetica,sans-serif; font-size:12; text-anchor:end;\" transform=\"rotate(0, 28.4745, 214.354)\" x=\"28.4745\" y=\"214.354\">1.5</text>\n",
       "</g>\n",
       "<g clip-path=\"url(#clip5100)\">\n",
       "<text style=\"fill:#000000; fill-opacity:1; font-family:Arial,Helvetica Neue,Helvetica,sans-serif; font-size:12; text-anchor:end;\" transform=\"rotate(0, 28.4745, 148.34)\" x=\"28.4745\" y=\"148.34\">2.0</text>\n",
       "</g>\n",
       "<g clip-path=\"url(#clip5100)\">\n",
       "<text style=\"fill:#000000; fill-opacity:1; font-family:Arial,Helvetica Neue,Helvetica,sans-serif; font-size:12; text-anchor:end;\" transform=\"rotate(0, 28.4745, 82.3254)\" x=\"28.4745\" y=\"82.3254\">2.5</text>\n",
       "</g>\n",
       "<g clip-path=\"url(#clip5100)\">\n",
       "<text style=\"fill:#000000; fill-opacity:1; font-family:Arial,Helvetica Neue,Helvetica,sans-serif; font-size:12; text-anchor:end;\" transform=\"rotate(0, 28.4745, 16.311)\" x=\"28.4745\" y=\"16.311\">3.0</text>\n",
       "</g>\n",
       "<polyline clip-path=\"url(#clip5102)\" style=\"stroke:#009af9; stroke-width:1; stroke-opacity:1; fill:none\" points=\"\n",
       "  32.4745,11.811 206.395,275.869 380.315,143.84 \n",
       "  \"/>\n",
       "<polygon clip-path=\"url(#clip5100)\" points=\"\n",
       "315.608,50.931 368.315,50.931 368.315,20.691 315.608,20.691 \n",
       "  \" fill=\"#ffffff\" fill-opacity=\"1\"/>\n",
       "<polyline clip-path=\"url(#clip5100)\" style=\"stroke:#000000; stroke-width:1; stroke-opacity:1; fill:none\" points=\"\n",
       "  315.608,50.931 368.315,50.931 368.315,20.691 315.608,20.691 315.608,50.931 \n",
       "  \"/>\n",
       "<polyline clip-path=\"url(#clip5100)\" style=\"stroke:#009af9; stroke-width:1; stroke-opacity:1; fill:none\" points=\"\n",
       "  319.608,35.811 343.608,35.811 \n",
       "  \"/>\n",
       "<g clip-path=\"url(#clip5100)\">\n",
       "<text style=\"fill:#000000; fill-opacity:1; font-family:Arial,Helvetica Neue,Helvetica,sans-serif; font-size:12; text-anchor:start;\" transform=\"rotate(0, 347.608, 40.311)\" x=\"347.608\" y=\"40.311\">y1</text>\n",
       "</g>\n",
       "</svg>\n"
      ]
     },
     "execution_count": 149,
     "metadata": {},
     "output_type": "execute_result"
    }
   ],
   "source": [
    "plot([1; 2; 3], [3; 1; 2]) # plot(x, y)"
   ]
  },
  {
   "cell_type": "code",
   "execution_count": 155,
   "metadata": {},
   "outputs": [
    {
     "data": {
      "image/svg+xml": [
       "<?xml version=\"1.0\" encoding=\"utf-8\"?>\n",
       "<svg xmlns=\"http://www.w3.org/2000/svg\" xmlns:xlink=\"http://www.w3.org/1999/xlink\" width=\"400\" height=\"300\" viewBox=\"0 0 400 300\">\n",
       "<defs>\n",
       "  <clipPath id=\"clip6300\">\n",
       "    <rect x=\"0\" y=\"0\" width=\"400\" height=\"300\"/>\n",
       "  </clipPath>\n",
       "</defs>\n",
       "<polygon clip-path=\"url(#clip6300)\" points=\"\n",
       "0,300 400,300 400,0 0,0 \n",
       "  \" fill=\"#ffffff\" fill-opacity=\"1\"/>\n",
       "<defs>\n",
       "  <clipPath id=\"clip6301\">\n",
       "    <rect x=\"80\" y=\"0\" width=\"281\" height=\"281\"/>\n",
       "  </clipPath>\n",
       "</defs>\n",
       "<polygon clip-path=\"url(#clip6300)\" points=\"\n",
       "32.4745,274.821 380.315,274.821 380.315,11.811 32.4745,11.811 \n",
       "  \" fill=\"#ffffff\" fill-opacity=\"1\"/>\n",
       "<defs>\n",
       "  <clipPath id=\"clip6302\">\n",
       "    <rect x=\"32\" y=\"11\" width=\"349\" height=\"264\"/>\n",
       "  </clipPath>\n",
       "</defs>\n",
       "<polyline clip-path=\"url(#clip6302)\" style=\"stroke:#000000; stroke-width:0.5; stroke-opacity:0.1; fill:none\" points=\"\n",
       "  32.4745,274.821 32.4745,11.811 \n",
       "  \"/>\n",
       "<polyline clip-path=\"url(#clip6302)\" style=\"stroke:#000000; stroke-width:0.5; stroke-opacity:0.1; fill:none\" points=\"\n",
       "  102.043,274.821 102.043,11.811 \n",
       "  \"/>\n",
       "<polyline clip-path=\"url(#clip6302)\" style=\"stroke:#000000; stroke-width:0.5; stroke-opacity:0.1; fill:none\" points=\"\n",
       "  171.611,274.821 171.611,11.811 \n",
       "  \"/>\n",
       "<polyline clip-path=\"url(#clip6302)\" style=\"stroke:#000000; stroke-width:0.5; stroke-opacity:0.1; fill:none\" points=\"\n",
       "  241.179,274.821 241.179,11.811 \n",
       "  \"/>\n",
       "<polyline clip-path=\"url(#clip6302)\" style=\"stroke:#000000; stroke-width:0.5; stroke-opacity:0.1; fill:none\" points=\"\n",
       "  310.747,274.821 310.747,11.811 \n",
       "  \"/>\n",
       "<polyline clip-path=\"url(#clip6302)\" style=\"stroke:#000000; stroke-width:0.5; stroke-opacity:0.1; fill:none\" points=\"\n",
       "  380.315,274.821 380.315,11.811 \n",
       "  \"/>\n",
       "<polyline clip-path=\"url(#clip6302)\" style=\"stroke:#000000; stroke-width:0.5; stroke-opacity:0.1; fill:none\" points=\"\n",
       "  32.4745,239.403 380.315,239.403 \n",
       "  \"/>\n",
       "<polyline clip-path=\"url(#clip6302)\" style=\"stroke:#000000; stroke-width:0.5; stroke-opacity:0.1; fill:none\" points=\"\n",
       "  32.4745,190.76 380.315,190.76 \n",
       "  \"/>\n",
       "<polyline clip-path=\"url(#clip6302)\" style=\"stroke:#000000; stroke-width:0.5; stroke-opacity:0.1; fill:none\" points=\"\n",
       "  32.4745,142.116 380.315,142.116 \n",
       "  \"/>\n",
       "<polyline clip-path=\"url(#clip6302)\" style=\"stroke:#000000; stroke-width:0.5; stroke-opacity:0.1; fill:none\" points=\"\n",
       "  32.4745,93.4731 380.315,93.4731 \n",
       "  \"/>\n",
       "<polyline clip-path=\"url(#clip6302)\" style=\"stroke:#000000; stroke-width:0.5; stroke-opacity:0.1; fill:none\" points=\"\n",
       "  32.4745,44.8298 380.315,44.8298 \n",
       "  \"/>\n",
       "<polyline clip-path=\"url(#clip6300)\" style=\"stroke:#000000; stroke-width:1; stroke-opacity:1; fill:none\" points=\"\n",
       "  32.4745,274.821 380.315,274.821 \n",
       "  \"/>\n",
       "<polyline clip-path=\"url(#clip6300)\" style=\"stroke:#000000; stroke-width:1; stroke-opacity:1; fill:none\" points=\"\n",
       "  32.4745,274.821 32.4745,11.811 \n",
       "  \"/>\n",
       "<polyline clip-path=\"url(#clip6300)\" style=\"stroke:#000000; stroke-width:1; stroke-opacity:1; fill:none\" points=\"\n",
       "  32.4745,274.821 32.4745,270.876 \n",
       "  \"/>\n",
       "<polyline clip-path=\"url(#clip6300)\" style=\"stroke:#000000; stroke-width:1; stroke-opacity:1; fill:none\" points=\"\n",
       "  102.043,274.821 102.043,270.876 \n",
       "  \"/>\n",
       "<polyline clip-path=\"url(#clip6300)\" style=\"stroke:#000000; stroke-width:1; stroke-opacity:1; fill:none\" points=\"\n",
       "  171.611,274.821 171.611,270.876 \n",
       "  \"/>\n",
       "<polyline clip-path=\"url(#clip6300)\" style=\"stroke:#000000; stroke-width:1; stroke-opacity:1; fill:none\" points=\"\n",
       "  241.179,274.821 241.179,270.876 \n",
       "  \"/>\n",
       "<polyline clip-path=\"url(#clip6300)\" style=\"stroke:#000000; stroke-width:1; stroke-opacity:1; fill:none\" points=\"\n",
       "  310.747,274.821 310.747,270.876 \n",
       "  \"/>\n",
       "<polyline clip-path=\"url(#clip6300)\" style=\"stroke:#000000; stroke-width:1; stroke-opacity:1; fill:none\" points=\"\n",
       "  380.315,274.821 380.315,270.876 \n",
       "  \"/>\n",
       "<polyline clip-path=\"url(#clip6300)\" style=\"stroke:#000000; stroke-width:1; stroke-opacity:1; fill:none\" points=\"\n",
       "  32.4745,239.403 37.6921,239.403 \n",
       "  \"/>\n",
       "<polyline clip-path=\"url(#clip6300)\" style=\"stroke:#000000; stroke-width:1; stroke-opacity:1; fill:none\" points=\"\n",
       "  32.4745,190.76 37.6921,190.76 \n",
       "  \"/>\n",
       "<polyline clip-path=\"url(#clip6300)\" style=\"stroke:#000000; stroke-width:1; stroke-opacity:1; fill:none\" points=\"\n",
       "  32.4745,142.116 37.6921,142.116 \n",
       "  \"/>\n",
       "<polyline clip-path=\"url(#clip6300)\" style=\"stroke:#000000; stroke-width:1; stroke-opacity:1; fill:none\" points=\"\n",
       "  32.4745,93.4731 37.6921,93.4731 \n",
       "  \"/>\n",
       "<polyline clip-path=\"url(#clip6300)\" style=\"stroke:#000000; stroke-width:1; stroke-opacity:1; fill:none\" points=\"\n",
       "  32.4745,44.8298 37.6921,44.8298 \n",
       "  \"/>\n",
       "<g clip-path=\"url(#clip6300)\">\n",
       "<text style=\"fill:#000000; fill-opacity:1; font-family:Arial,Helvetica Neue,Helvetica,sans-serif; font-size:12; text-anchor:middle;\" transform=\"rotate(0, 32.4745, 287.621)\" x=\"32.4745\" y=\"287.621\">0.0</text>\n",
       "</g>\n",
       "<g clip-path=\"url(#clip6300)\">\n",
       "<text style=\"fill:#000000; fill-opacity:1; font-family:Arial,Helvetica Neue,Helvetica,sans-serif; font-size:12; text-anchor:middle;\" transform=\"rotate(0, 102.043, 287.621)\" x=\"102.043\" y=\"287.621\">0.2</text>\n",
       "</g>\n",
       "<g clip-path=\"url(#clip6300)\">\n",
       "<text style=\"fill:#000000; fill-opacity:1; font-family:Arial,Helvetica Neue,Helvetica,sans-serif; font-size:12; text-anchor:middle;\" transform=\"rotate(0, 171.611, 287.621)\" x=\"171.611\" y=\"287.621\">0.4</text>\n",
       "</g>\n",
       "<g clip-path=\"url(#clip6300)\">\n",
       "<text style=\"fill:#000000; fill-opacity:1; font-family:Arial,Helvetica Neue,Helvetica,sans-serif; font-size:12; text-anchor:middle;\" transform=\"rotate(0, 241.179, 287.621)\" x=\"241.179\" y=\"287.621\">0.6</text>\n",
       "</g>\n",
       "<g clip-path=\"url(#clip6300)\">\n",
       "<text style=\"fill:#000000; fill-opacity:1; font-family:Arial,Helvetica Neue,Helvetica,sans-serif; font-size:12; text-anchor:middle;\" transform=\"rotate(0, 310.747, 287.621)\" x=\"310.747\" y=\"287.621\">0.8</text>\n",
       "</g>\n",
       "<g clip-path=\"url(#clip6300)\">\n",
       "<text style=\"fill:#000000; fill-opacity:1; font-family:Arial,Helvetica Neue,Helvetica,sans-serif; font-size:12; text-anchor:middle;\" transform=\"rotate(0, 380.315, 287.621)\" x=\"380.315\" y=\"287.621\">1.0</text>\n",
       "</g>\n",
       "<g clip-path=\"url(#clip6300)\">\n",
       "<text style=\"fill:#000000; fill-opacity:1; font-family:Arial,Helvetica Neue,Helvetica,sans-serif; font-size:12; text-anchor:end;\" transform=\"rotate(0, 28.4745, 243.903)\" x=\"28.4745\" y=\"243.903\">0.9</text>\n",
       "</g>\n",
       "<g clip-path=\"url(#clip6300)\">\n",
       "<text style=\"fill:#000000; fill-opacity:1; font-family:Arial,Helvetica Neue,Helvetica,sans-serif; font-size:12; text-anchor:end;\" transform=\"rotate(0, 28.4745, 195.26)\" x=\"28.4745\" y=\"195.26\">1.0</text>\n",
       "</g>\n",
       "<g clip-path=\"url(#clip6300)\">\n",
       "<text style=\"fill:#000000; fill-opacity:1; font-family:Arial,Helvetica Neue,Helvetica,sans-serif; font-size:12; text-anchor:end;\" transform=\"rotate(0, 28.4745, 146.616)\" x=\"28.4745\" y=\"146.616\">1.1</text>\n",
       "</g>\n",
       "<g clip-path=\"url(#clip6300)\">\n",
       "<text style=\"fill:#000000; fill-opacity:1; font-family:Arial,Helvetica Neue,Helvetica,sans-serif; font-size:12; text-anchor:end;\" transform=\"rotate(0, 28.4745, 97.9731)\" x=\"28.4745\" y=\"97.9731\">1.2</text>\n",
       "</g>\n",
       "<g clip-path=\"url(#clip6300)\">\n",
       "<text style=\"fill:#000000; fill-opacity:1; font-family:Arial,Helvetica Neue,Helvetica,sans-serif; font-size:12; text-anchor:end;\" transform=\"rotate(0, 28.4745, 49.3298)\" x=\"28.4745\" y=\"49.3298\">1.3</text>\n",
       "</g>\n",
       "<polyline clip-path=\"url(#clip6302)\" style=\"stroke:#009af9; stroke-width:1; stroke-opacity:1; fill:none\" points=\"\n",
       "  32.4745,190.76 35.988,195.599 39.5016,200.289 43.0151,204.832 46.5287,209.228 50.0422,213.476 53.5557,217.578 57.0693,221.534 60.5828,225.345 64.0964,229.01 \n",
       "  67.6099,232.531 71.1234,235.908 74.637,239.141 78.1505,242.231 81.6641,245.178 85.1776,247.983 88.6911,250.646 92.2047,253.167 95.7182,255.547 99.2318,257.787 \n",
       "  102.745,259.886 106.259,261.846 109.772,263.666 113.286,265.347 116.799,266.89 120.313,268.294 123.827,269.561 127.34,270.69 130.854,271.682 134.367,272.537 \n",
       "  137.881,273.257 141.394,273.84 144.908,274.287 148.421,274.6 151.935,274.778 155.448,274.821 158.962,274.73 162.475,274.505 165.989,274.147 169.503,273.656 \n",
       "  173.016,273.032 176.53,272.276 180.043,271.387 183.557,270.367 187.07,269.216 190.584,267.933 194.097,266.52 197.611,264.976 201.124,263.302 204.638,261.498 \n",
       "  208.151,259.565 211.665,257.502 215.179,255.311 218.692,252.991 222.206,250.543 225.719,247.966 229.233,245.262 232.746,242.431 236.26,239.472 239.773,236.386 \n",
       "  243.287,233.174 246.8,229.835 250.314,226.371 253.828,222.78 257.341,219.065 260.855,215.223 264.368,211.257 267.882,207.166 271.395,202.951 274.909,198.611 \n",
       "  278.422,194.147 281.936,189.56 285.449,184.849 288.963,180.015 292.476,175.058 295.99,169.978 299.504,164.776 303.017,159.451 306.531,154.004 310.044,148.435 \n",
       "  313.558,142.745 317.071,136.934 320.585,131.001 324.098,124.947 327.612,118.773 331.125,112.478 334.639,106.062 338.152,99.5271 341.666,92.872 345.18,86.0971 \n",
       "  348.693,79.2028 352.207,72.1892 355.72,65.0566 359.234,57.8051 362.747,50.4349 366.261,42.9463 369.774,35.3394 373.288,27.6145 376.801,19.7716 380.315,11.811 \n",
       "  \n",
       "  \"/>\n",
       "<polygon clip-path=\"url(#clip6300)\" points=\"\n",
       "315.608,50.931 368.315,50.931 368.315,20.691 315.608,20.691 \n",
       "  \" fill=\"#ffffff\" fill-opacity=\"1\"/>\n",
       "<polyline clip-path=\"url(#clip6300)\" style=\"stroke:#000000; stroke-width:1; stroke-opacity:1; fill:none\" points=\"\n",
       "  315.608,50.931 368.315,50.931 368.315,20.691 315.608,20.691 315.608,50.931 \n",
       "  \"/>\n",
       "<polyline clip-path=\"url(#clip6300)\" style=\"stroke:#009af9; stroke-width:1; stroke-opacity:1; fill:none\" points=\"\n",
       "  319.608,35.811 343.608,35.811 \n",
       "  \"/>\n",
       "<g clip-path=\"url(#clip6300)\">\n",
       "<text style=\"fill:#000000; fill-opacity:1; font-family:Arial,Helvetica Neue,Helvetica,sans-serif; font-size:12; text-anchor:start;\" transform=\"rotate(0, 347.608, 40.311)\" x=\"347.608\" y=\"40.311\">y1</text>\n",
       "</g>\n",
       "</svg>\n"
      ]
     },
     "execution_count": 155,
     "metadata": {},
     "output_type": "execute_result"
    }
   ],
   "source": [
    "x = linspace(0, 1, 100) # 100 elementos igual. esp. de 0 a 1\n",
    "y = x .^ 2 + exp.(-x)\n",
    "plot(x, y)"
   ]
  },
  {
   "cell_type": "code",
   "execution_count": 156,
   "metadata": {
    "scrolled": true
   },
   "outputs": [
    {
     "data": {
      "image/svg+xml": [
       "<?xml version=\"1.0\" encoding=\"utf-8\"?>\n",
       "<svg xmlns=\"http://www.w3.org/2000/svg\" xmlns:xlink=\"http://www.w3.org/1999/xlink\" width=\"400\" height=\"300\" viewBox=\"0 0 400 300\">\n",
       "<defs>\n",
       "  <clipPath id=\"clip6500\">\n",
       "    <rect x=\"0\" y=\"0\" width=\"400\" height=\"300\"/>\n",
       "  </clipPath>\n",
       "</defs>\n",
       "<polygon clip-path=\"url(#clip6500)\" points=\"\n",
       "0,300 400,300 400,0 0,0 \n",
       "  \" fill=\"#ffffff\" fill-opacity=\"1\"/>\n",
       "<defs>\n",
       "  <clipPath id=\"clip6501\">\n",
       "    <rect x=\"80\" y=\"0\" width=\"281\" height=\"281\"/>\n",
       "  </clipPath>\n",
       "</defs>\n",
       "<polygon clip-path=\"url(#clip6500)\" points=\"\n",
       "39.1651,274.821 380.315,274.821 380.315,11.811 39.1651,11.811 \n",
       "  \" fill=\"#ffffff\" fill-opacity=\"1\"/>\n",
       "<defs>\n",
       "  <clipPath id=\"clip6502\">\n",
       "    <rect x=\"39\" y=\"11\" width=\"342\" height=\"264\"/>\n",
       "  </clipPath>\n",
       "</defs>\n",
       "<polyline clip-path=\"url(#clip6502)\" style=\"stroke:#000000; stroke-width:0.5; stroke-opacity:0.1; fill:none\" points=\"\n",
       "  48.8203,274.821 48.8203,11.811 \n",
       "  \"/>\n",
       "<polyline clip-path=\"url(#clip6502)\" style=\"stroke:#000000; stroke-width:0.5; stroke-opacity:0.1; fill:none\" points=\"\n",
       "  129.28,274.821 129.28,11.811 \n",
       "  \"/>\n",
       "<polyline clip-path=\"url(#clip6502)\" style=\"stroke:#000000; stroke-width:0.5; stroke-opacity:0.1; fill:none\" points=\"\n",
       "  209.74,274.821 209.74,11.811 \n",
       "  \"/>\n",
       "<polyline clip-path=\"url(#clip6502)\" style=\"stroke:#000000; stroke-width:0.5; stroke-opacity:0.1; fill:none\" points=\"\n",
       "  290.2,274.821 290.2,11.811 \n",
       "  \"/>\n",
       "<polyline clip-path=\"url(#clip6502)\" style=\"stroke:#000000; stroke-width:0.5; stroke-opacity:0.1; fill:none\" points=\"\n",
       "  370.66,274.821 370.66,11.811 \n",
       "  \"/>\n",
       "<polyline clip-path=\"url(#clip6502)\" style=\"stroke:#000000; stroke-width:0.5; stroke-opacity:0.1; fill:none\" points=\"\n",
       "  39.1651,267.377 380.315,267.377 \n",
       "  \"/>\n",
       "<polyline clip-path=\"url(#clip6502)\" style=\"stroke:#000000; stroke-width:0.5; stroke-opacity:0.1; fill:none\" points=\"\n",
       "  39.1651,205.34 380.315,205.34 \n",
       "  \"/>\n",
       "<polyline clip-path=\"url(#clip6502)\" style=\"stroke:#000000; stroke-width:0.5; stroke-opacity:0.1; fill:none\" points=\"\n",
       "  39.1651,143.303 380.315,143.303 \n",
       "  \"/>\n",
       "<polyline clip-path=\"url(#clip6502)\" style=\"stroke:#000000; stroke-width:0.5; stroke-opacity:0.1; fill:none\" points=\"\n",
       "  39.1651,81.2663 380.315,81.2663 \n",
       "  \"/>\n",
       "<polyline clip-path=\"url(#clip6502)\" style=\"stroke:#000000; stroke-width:0.5; stroke-opacity:0.1; fill:none\" points=\"\n",
       "  39.1651,19.2294 380.315,19.2294 \n",
       "  \"/>\n",
       "<polyline clip-path=\"url(#clip6500)\" style=\"stroke:#000000; stroke-width:1; stroke-opacity:1; fill:none\" points=\"\n",
       "  39.1651,274.821 380.315,274.821 \n",
       "  \"/>\n",
       "<polyline clip-path=\"url(#clip6500)\" style=\"stroke:#000000; stroke-width:1; stroke-opacity:1; fill:none\" points=\"\n",
       "  39.1651,274.821 39.1651,11.811 \n",
       "  \"/>\n",
       "<polyline clip-path=\"url(#clip6500)\" style=\"stroke:#000000; stroke-width:1; stroke-opacity:1; fill:none\" points=\"\n",
       "  48.8203,274.821 48.8203,270.876 \n",
       "  \"/>\n",
       "<polyline clip-path=\"url(#clip6500)\" style=\"stroke:#000000; stroke-width:1; stroke-opacity:1; fill:none\" points=\"\n",
       "  129.28,274.821 129.28,270.876 \n",
       "  \"/>\n",
       "<polyline clip-path=\"url(#clip6500)\" style=\"stroke:#000000; stroke-width:1; stroke-opacity:1; fill:none\" points=\"\n",
       "  209.74,274.821 209.74,270.876 \n",
       "  \"/>\n",
       "<polyline clip-path=\"url(#clip6500)\" style=\"stroke:#000000; stroke-width:1; stroke-opacity:1; fill:none\" points=\"\n",
       "  290.2,274.821 290.2,270.876 \n",
       "  \"/>\n",
       "<polyline clip-path=\"url(#clip6500)\" style=\"stroke:#000000; stroke-width:1; stroke-opacity:1; fill:none\" points=\"\n",
       "  370.66,274.821 370.66,270.876 \n",
       "  \"/>\n",
       "<polyline clip-path=\"url(#clip6500)\" style=\"stroke:#000000; stroke-width:1; stroke-opacity:1; fill:none\" points=\"\n",
       "  39.1651,267.377 44.2823,267.377 \n",
       "  \"/>\n",
       "<polyline clip-path=\"url(#clip6500)\" style=\"stroke:#000000; stroke-width:1; stroke-opacity:1; fill:none\" points=\"\n",
       "  39.1651,205.34 44.2823,205.34 \n",
       "  \"/>\n",
       "<polyline clip-path=\"url(#clip6500)\" style=\"stroke:#000000; stroke-width:1; stroke-opacity:1; fill:none\" points=\"\n",
       "  39.1651,143.303 44.2823,143.303 \n",
       "  \"/>\n",
       "<polyline clip-path=\"url(#clip6500)\" style=\"stroke:#000000; stroke-width:1; stroke-opacity:1; fill:none\" points=\"\n",
       "  39.1651,81.2663 44.2823,81.2663 \n",
       "  \"/>\n",
       "<polyline clip-path=\"url(#clip6500)\" style=\"stroke:#000000; stroke-width:1; stroke-opacity:1; fill:none\" points=\"\n",
       "  39.1651,19.2294 44.2823,19.2294 \n",
       "  \"/>\n",
       "<g clip-path=\"url(#clip6500)\">\n",
       "<text style=\"fill:#000000; fill-opacity:1; font-family:Arial,Helvetica Neue,Helvetica,sans-serif; font-size:12; text-anchor:middle;\" transform=\"rotate(0, 48.8203, 287.621)\" x=\"48.8203\" y=\"287.621\">0.00</text>\n",
       "</g>\n",
       "<g clip-path=\"url(#clip6500)\">\n",
       "<text style=\"fill:#000000; fill-opacity:1; font-family:Arial,Helvetica Neue,Helvetica,sans-serif; font-size:12; text-anchor:middle;\" transform=\"rotate(0, 129.28, 287.621)\" x=\"129.28\" y=\"287.621\">0.25</text>\n",
       "</g>\n",
       "<g clip-path=\"url(#clip6500)\">\n",
       "<text style=\"fill:#000000; fill-opacity:1; font-family:Arial,Helvetica Neue,Helvetica,sans-serif; font-size:12; text-anchor:middle;\" transform=\"rotate(0, 209.74, 287.621)\" x=\"209.74\" y=\"287.621\">0.50</text>\n",
       "</g>\n",
       "<g clip-path=\"url(#clip6500)\">\n",
       "<text style=\"fill:#000000; fill-opacity:1; font-family:Arial,Helvetica Neue,Helvetica,sans-serif; font-size:12; text-anchor:middle;\" transform=\"rotate(0, 290.2, 287.621)\" x=\"290.2\" y=\"287.621\">0.75</text>\n",
       "</g>\n",
       "<g clip-path=\"url(#clip6500)\">\n",
       "<text style=\"fill:#000000; fill-opacity:1; font-family:Arial,Helvetica Neue,Helvetica,sans-serif; font-size:12; text-anchor:middle;\" transform=\"rotate(0, 370.66, 287.621)\" x=\"370.66\" y=\"287.621\">1.00</text>\n",
       "</g>\n",
       "<g clip-path=\"url(#clip6500)\">\n",
       "<text style=\"fill:#000000; fill-opacity:1; font-family:Arial,Helvetica Neue,Helvetica,sans-serif; font-size:12; text-anchor:end;\" transform=\"rotate(0, 35.1651, 271.877)\" x=\"35.1651\" y=\"271.877\">0.00</text>\n",
       "</g>\n",
       "<g clip-path=\"url(#clip6500)\">\n",
       "<text style=\"fill:#000000; fill-opacity:1; font-family:Arial,Helvetica Neue,Helvetica,sans-serif; font-size:12; text-anchor:end;\" transform=\"rotate(0, 35.1651, 209.84)\" x=\"35.1651\" y=\"209.84\">0.25</text>\n",
       "</g>\n",
       "<g clip-path=\"url(#clip6500)\">\n",
       "<text style=\"fill:#000000; fill-opacity:1; font-family:Arial,Helvetica Neue,Helvetica,sans-serif; font-size:12; text-anchor:end;\" transform=\"rotate(0, 35.1651, 147.803)\" x=\"35.1651\" y=\"147.803\">0.50</text>\n",
       "</g>\n",
       "<g clip-path=\"url(#clip6500)\">\n",
       "<text style=\"fill:#000000; fill-opacity:1; font-family:Arial,Helvetica Neue,Helvetica,sans-serif; font-size:12; text-anchor:end;\" transform=\"rotate(0, 35.1651, 85.7663)\" x=\"35.1651\" y=\"85.7663\">0.75</text>\n",
       "</g>\n",
       "<g clip-path=\"url(#clip6500)\">\n",
       "<text style=\"fill:#000000; fill-opacity:1; font-family:Arial,Helvetica Neue,Helvetica,sans-serif; font-size:12; text-anchor:end;\" transform=\"rotate(0, 35.1651, 23.7294)\" x=\"35.1651\" y=\"23.7294\">1.00</text>\n",
       "</g>\n",
       "<circle clip-path=\"url(#clip6502)\" style=\"fill:#000000; stroke:none; fill-opacity:1\" cx=\"48.8203\" cy=\"267.377\" r=\"4\"/>\n",
       "<circle clip-path=\"url(#clip6502)\" style=\"fill:#009af9; stroke:none; fill-opacity:1\" cx=\"48.8203\" cy=\"267.377\" r=\"3\"/>\n",
       "<circle clip-path=\"url(#clip6502)\" style=\"fill:#000000; stroke:none; fill-opacity:1\" cx=\"52.0712\" cy=\"257.452\" r=\"4\"/>\n",
       "<circle clip-path=\"url(#clip6502)\" style=\"fill:#009af9; stroke:none; fill-opacity:1\" cx=\"52.0712\" cy=\"257.452\" r=\"3\"/>\n",
       "<circle clip-path=\"url(#clip6502)\" style=\"fill:#000000; stroke:none; fill-opacity:1\" cx=\"55.3221\" cy=\"247.73\" r=\"4\"/>\n",
       "<circle clip-path=\"url(#clip6502)\" style=\"fill:#009af9; stroke:none; fill-opacity:1\" cx=\"55.3221\" cy=\"247.73\" r=\"3\"/>\n",
       "<circle clip-path=\"url(#clip6502)\" style=\"fill:#000000; stroke:none; fill-opacity:1\" cx=\"58.573\" cy=\"238.21\" r=\"4\"/>\n",
       "<circle clip-path=\"url(#clip6502)\" style=\"fill:#009af9; stroke:none; fill-opacity:1\" cx=\"58.573\" cy=\"238.21\" r=\"3\"/>\n",
       "<circle clip-path=\"url(#clip6502)\" style=\"fill:#000000; stroke:none; fill-opacity:1\" cx=\"61.8239\" cy=\"228.893\" r=\"4\"/>\n",
       "<circle clip-path=\"url(#clip6502)\" style=\"fill:#009af9; stroke:none; fill-opacity:1\" cx=\"61.8239\" cy=\"228.893\" r=\"3\"/>\n",
       "<circle clip-path=\"url(#clip6502)\" style=\"fill:#000000; stroke:none; fill-opacity:1\" cx=\"65.0748\" cy=\"219.778\" r=\"4\"/>\n",
       "<circle clip-path=\"url(#clip6502)\" style=\"fill:#009af9; stroke:none; fill-opacity:1\" cx=\"65.0748\" cy=\"219.778\" r=\"3\"/>\n",
       "<circle clip-path=\"url(#clip6502)\" style=\"fill:#000000; stroke:none; fill-opacity:1\" cx=\"68.3257\" cy=\"210.866\" r=\"4\"/>\n",
       "<circle clip-path=\"url(#clip6502)\" style=\"fill:#009af9; stroke:none; fill-opacity:1\" cx=\"68.3257\" cy=\"210.866\" r=\"3\"/>\n",
       "<circle clip-path=\"url(#clip6502)\" style=\"fill:#000000; stroke:none; fill-opacity:1\" cx=\"71.5766\" cy=\"202.156\" r=\"4\"/>\n",
       "<circle clip-path=\"url(#clip6502)\" style=\"fill:#009af9; stroke:none; fill-opacity:1\" cx=\"71.5766\" cy=\"202.156\" r=\"3\"/>\n",
       "<circle clip-path=\"url(#clip6502)\" style=\"fill:#000000; stroke:none; fill-opacity:1\" cx=\"74.8275\" cy=\"193.649\" r=\"4\"/>\n",
       "<circle clip-path=\"url(#clip6502)\" style=\"fill:#009af9; stroke:none; fill-opacity:1\" cx=\"74.8275\" cy=\"193.649\" r=\"3\"/>\n",
       "<circle clip-path=\"url(#clip6502)\" style=\"fill:#000000; stroke:none; fill-opacity:1\" cx=\"78.0784\" cy=\"185.345\" r=\"4\"/>\n",
       "<circle clip-path=\"url(#clip6502)\" style=\"fill:#009af9; stroke:none; fill-opacity:1\" cx=\"78.0784\" cy=\"185.345\" r=\"3\"/>\n",
       "<circle clip-path=\"url(#clip6502)\" style=\"fill:#000000; stroke:none; fill-opacity:1\" cx=\"81.3293\" cy=\"177.243\" r=\"4\"/>\n",
       "<circle clip-path=\"url(#clip6502)\" style=\"fill:#009af9; stroke:none; fill-opacity:1\" cx=\"81.3293\" cy=\"177.243\" r=\"3\"/>\n",
       "<circle clip-path=\"url(#clip6502)\" style=\"fill:#000000; stroke:none; fill-opacity:1\" cx=\"84.5802\" cy=\"169.343\" r=\"4\"/>\n",
       "<circle clip-path=\"url(#clip6502)\" style=\"fill:#009af9; stroke:none; fill-opacity:1\" cx=\"84.5802\" cy=\"169.343\" r=\"3\"/>\n",
       "<circle clip-path=\"url(#clip6502)\" style=\"fill:#000000; stroke:none; fill-opacity:1\" cx=\"87.8311\" cy=\"161.647\" r=\"4\"/>\n",
       "<circle clip-path=\"url(#clip6502)\" style=\"fill:#009af9; stroke:none; fill-opacity:1\" cx=\"87.8311\" cy=\"161.647\" r=\"3\"/>\n",
       "<circle clip-path=\"url(#clip6502)\" style=\"fill:#000000; stroke:none; fill-opacity:1\" cx=\"91.082\" cy=\"154.152\" r=\"4\"/>\n",
       "<circle clip-path=\"url(#clip6502)\" style=\"fill:#009af9; stroke:none; fill-opacity:1\" cx=\"91.082\" cy=\"154.152\" r=\"3\"/>\n",
       "<circle clip-path=\"url(#clip6502)\" style=\"fill:#000000; stroke:none; fill-opacity:1\" cx=\"94.3329\" cy=\"146.861\" r=\"4\"/>\n",
       "<circle clip-path=\"url(#clip6502)\" style=\"fill:#009af9; stroke:none; fill-opacity:1\" cx=\"94.3329\" cy=\"146.861\" r=\"3\"/>\n",
       "<circle clip-path=\"url(#clip6502)\" style=\"fill:#000000; stroke:none; fill-opacity:1\" cx=\"97.5838\" cy=\"139.771\" r=\"4\"/>\n",
       "<circle clip-path=\"url(#clip6502)\" style=\"fill:#009af9; stroke:none; fill-opacity:1\" cx=\"97.5838\" cy=\"139.771\" r=\"3\"/>\n",
       "<circle clip-path=\"url(#clip6502)\" style=\"fill:#000000; stroke:none; fill-opacity:1\" cx=\"100.835\" cy=\"132.885\" r=\"4\"/>\n",
       "<circle clip-path=\"url(#clip6502)\" style=\"fill:#009af9; stroke:none; fill-opacity:1\" cx=\"100.835\" cy=\"132.885\" r=\"3\"/>\n",
       "<circle clip-path=\"url(#clip6502)\" style=\"fill:#000000; stroke:none; fill-opacity:1\" cx=\"104.086\" cy=\"126.201\" r=\"4\"/>\n",
       "<circle clip-path=\"url(#clip6502)\" style=\"fill:#009af9; stroke:none; fill-opacity:1\" cx=\"104.086\" cy=\"126.201\" r=\"3\"/>\n",
       "<circle clip-path=\"url(#clip6502)\" style=\"fill:#000000; stroke:none; fill-opacity:1\" cx=\"107.337\" cy=\"119.719\" r=\"4\"/>\n",
       "<circle clip-path=\"url(#clip6502)\" style=\"fill:#009af9; stroke:none; fill-opacity:1\" cx=\"107.337\" cy=\"119.719\" r=\"3\"/>\n",
       "<circle clip-path=\"url(#clip6502)\" style=\"fill:#000000; stroke:none; fill-opacity:1\" cx=\"110.587\" cy=\"113.44\" r=\"4\"/>\n",
       "<circle clip-path=\"url(#clip6502)\" style=\"fill:#009af9; stroke:none; fill-opacity:1\" cx=\"110.587\" cy=\"113.44\" r=\"3\"/>\n",
       "<circle clip-path=\"url(#clip6502)\" style=\"fill:#000000; stroke:none; fill-opacity:1\" cx=\"113.838\" cy=\"107.363\" r=\"4\"/>\n",
       "<circle clip-path=\"url(#clip6502)\" style=\"fill:#009af9; stroke:none; fill-opacity:1\" cx=\"113.838\" cy=\"107.363\" r=\"3\"/>\n",
       "<circle clip-path=\"url(#clip6502)\" style=\"fill:#000000; stroke:none; fill-opacity:1\" cx=\"117.089\" cy=\"101.49\" r=\"4\"/>\n",
       "<circle clip-path=\"url(#clip6502)\" style=\"fill:#009af9; stroke:none; fill-opacity:1\" cx=\"117.089\" cy=\"101.49\" r=\"3\"/>\n",
       "<circle clip-path=\"url(#clip6502)\" style=\"fill:#000000; stroke:none; fill-opacity:1\" cx=\"120.34\" cy=\"95.8182\" r=\"4\"/>\n",
       "<circle clip-path=\"url(#clip6502)\" style=\"fill:#009af9; stroke:none; fill-opacity:1\" cx=\"120.34\" cy=\"95.8182\" r=\"3\"/>\n",
       "<circle clip-path=\"url(#clip6502)\" style=\"fill:#000000; stroke:none; fill-opacity:1\" cx=\"123.591\" cy=\"90.3494\" r=\"4\"/>\n",
       "<circle clip-path=\"url(#clip6502)\" style=\"fill:#009af9; stroke:none; fill-opacity:1\" cx=\"123.591\" cy=\"90.3494\" r=\"3\"/>\n",
       "<circle clip-path=\"url(#clip6502)\" style=\"fill:#000000; stroke:none; fill-opacity:1\" cx=\"126.842\" cy=\"85.0831\" r=\"4\"/>\n",
       "<circle clip-path=\"url(#clip6502)\" style=\"fill:#009af9; stroke:none; fill-opacity:1\" cx=\"126.842\" cy=\"85.0831\" r=\"3\"/>\n",
       "<circle clip-path=\"url(#clip6502)\" style=\"fill:#000000; stroke:none; fill-opacity:1\" cx=\"130.093\" cy=\"80.0194\" r=\"4\"/>\n",
       "<circle clip-path=\"url(#clip6502)\" style=\"fill:#009af9; stroke:none; fill-opacity:1\" cx=\"130.093\" cy=\"80.0194\" r=\"3\"/>\n",
       "<circle clip-path=\"url(#clip6502)\" style=\"fill:#000000; stroke:none; fill-opacity:1\" cx=\"133.344\" cy=\"75.1582\" r=\"4\"/>\n",
       "<circle clip-path=\"url(#clip6502)\" style=\"fill:#009af9; stroke:none; fill-opacity:1\" cx=\"133.344\" cy=\"75.1582\" r=\"3\"/>\n",
       "<circle clip-path=\"url(#clip6502)\" style=\"fill:#000000; stroke:none; fill-opacity:1\" cx=\"136.595\" cy=\"70.4996\" r=\"4\"/>\n",
       "<circle clip-path=\"url(#clip6502)\" style=\"fill:#009af9; stroke:none; fill-opacity:1\" cx=\"136.595\" cy=\"70.4996\" r=\"3\"/>\n",
       "<circle clip-path=\"url(#clip6502)\" style=\"fill:#000000; stroke:none; fill-opacity:1\" cx=\"139.846\" cy=\"66.0435\" r=\"4\"/>\n",
       "<circle clip-path=\"url(#clip6502)\" style=\"fill:#009af9; stroke:none; fill-opacity:1\" cx=\"139.846\" cy=\"66.0435\" r=\"3\"/>\n",
       "<circle clip-path=\"url(#clip6502)\" style=\"fill:#000000; stroke:none; fill-opacity:1\" cx=\"143.096\" cy=\"61.79\" r=\"4\"/>\n",
       "<circle clip-path=\"url(#clip6502)\" style=\"fill:#009af9; stroke:none; fill-opacity:1\" cx=\"143.096\" cy=\"61.79\" r=\"3\"/>\n",
       "<circle clip-path=\"url(#clip6502)\" style=\"fill:#000000; stroke:none; fill-opacity:1\" cx=\"146.347\" cy=\"57.739\" r=\"4\"/>\n",
       "<circle clip-path=\"url(#clip6502)\" style=\"fill:#009af9; stroke:none; fill-opacity:1\" cx=\"146.347\" cy=\"57.739\" r=\"3\"/>\n",
       "<circle clip-path=\"url(#clip6502)\" style=\"fill:#000000; stroke:none; fill-opacity:1\" cx=\"149.598\" cy=\"53.8906\" r=\"4\"/>\n",
       "<circle clip-path=\"url(#clip6502)\" style=\"fill:#009af9; stroke:none; fill-opacity:1\" cx=\"149.598\" cy=\"53.8906\" r=\"3\"/>\n",
       "<circle clip-path=\"url(#clip6502)\" style=\"fill:#000000; stroke:none; fill-opacity:1\" cx=\"152.849\" cy=\"50.2447\" r=\"4\"/>\n",
       "<circle clip-path=\"url(#clip6502)\" style=\"fill:#009af9; stroke:none; fill-opacity:1\" cx=\"152.849\" cy=\"50.2447\" r=\"3\"/>\n",
       "<circle clip-path=\"url(#clip6502)\" style=\"fill:#000000; stroke:none; fill-opacity:1\" cx=\"156.1\" cy=\"46.8013\" r=\"4\"/>\n",
       "<circle clip-path=\"url(#clip6502)\" style=\"fill:#009af9; stroke:none; fill-opacity:1\" cx=\"156.1\" cy=\"46.8013\" r=\"3\"/>\n",
       "<circle clip-path=\"url(#clip6502)\" style=\"fill:#000000; stroke:none; fill-opacity:1\" cx=\"159.351\" cy=\"43.5606\" r=\"4\"/>\n",
       "<circle clip-path=\"url(#clip6502)\" style=\"fill:#009af9; stroke:none; fill-opacity:1\" cx=\"159.351\" cy=\"43.5606\" r=\"3\"/>\n",
       "<circle clip-path=\"url(#clip6502)\" style=\"fill:#000000; stroke:none; fill-opacity:1\" cx=\"162.602\" cy=\"40.5223\" r=\"4\"/>\n",
       "<circle clip-path=\"url(#clip6502)\" style=\"fill:#009af9; stroke:none; fill-opacity:1\" cx=\"162.602\" cy=\"40.5223\" r=\"3\"/>\n",
       "<circle clip-path=\"url(#clip6502)\" style=\"fill:#000000; stroke:none; fill-opacity:1\" cx=\"165.853\" cy=\"37.6866\" r=\"4\"/>\n",
       "<circle clip-path=\"url(#clip6502)\" style=\"fill:#009af9; stroke:none; fill-opacity:1\" cx=\"165.853\" cy=\"37.6866\" r=\"3\"/>\n",
       "<circle clip-path=\"url(#clip6502)\" style=\"fill:#000000; stroke:none; fill-opacity:1\" cx=\"169.104\" cy=\"35.0535\" r=\"4\"/>\n",
       "<circle clip-path=\"url(#clip6502)\" style=\"fill:#009af9; stroke:none; fill-opacity:1\" cx=\"169.104\" cy=\"35.0535\" r=\"3\"/>\n",
       "<circle clip-path=\"url(#clip6502)\" style=\"fill:#000000; stroke:none; fill-opacity:1\" cx=\"172.355\" cy=\"32.6229\" r=\"4\"/>\n",
       "<circle clip-path=\"url(#clip6502)\" style=\"fill:#009af9; stroke:none; fill-opacity:1\" cx=\"172.355\" cy=\"32.6229\" r=\"3\"/>\n",
       "<circle clip-path=\"url(#clip6502)\" style=\"fill:#000000; stroke:none; fill-opacity:1\" cx=\"175.606\" cy=\"30.3949\" r=\"4\"/>\n",
       "<circle clip-path=\"url(#clip6502)\" style=\"fill:#009af9; stroke:none; fill-opacity:1\" cx=\"175.606\" cy=\"30.3949\" r=\"3\"/>\n",
       "<circle clip-path=\"url(#clip6502)\" style=\"fill:#000000; stroke:none; fill-opacity:1\" cx=\"178.856\" cy=\"28.3694\" r=\"4\"/>\n",
       "<circle clip-path=\"url(#clip6502)\" style=\"fill:#009af9; stroke:none; fill-opacity:1\" cx=\"178.856\" cy=\"28.3694\" r=\"3\"/>\n",
       "<circle clip-path=\"url(#clip6502)\" style=\"fill:#000000; stroke:none; fill-opacity:1\" cx=\"182.107\" cy=\"26.5465\" r=\"4\"/>\n",
       "<circle clip-path=\"url(#clip6502)\" style=\"fill:#009af9; stroke:none; fill-opacity:1\" cx=\"182.107\" cy=\"26.5465\" r=\"3\"/>\n",
       "<circle clip-path=\"url(#clip6502)\" style=\"fill:#000000; stroke:none; fill-opacity:1\" cx=\"185.358\" cy=\"24.9261\" r=\"4\"/>\n",
       "<circle clip-path=\"url(#clip6502)\" style=\"fill:#009af9; stroke:none; fill-opacity:1\" cx=\"185.358\" cy=\"24.9261\" r=\"3\"/>\n",
       "<circle clip-path=\"url(#clip6502)\" style=\"fill:#000000; stroke:none; fill-opacity:1\" cx=\"188.609\" cy=\"23.5082\" r=\"4\"/>\n",
       "<circle clip-path=\"url(#clip6502)\" style=\"fill:#009af9; stroke:none; fill-opacity:1\" cx=\"188.609\" cy=\"23.5082\" r=\"3\"/>\n",
       "<circle clip-path=\"url(#clip6502)\" style=\"fill:#000000; stroke:none; fill-opacity:1\" cx=\"191.86\" cy=\"22.2929\" r=\"4\"/>\n",
       "<circle clip-path=\"url(#clip6502)\" style=\"fill:#009af9; stroke:none; fill-opacity:1\" cx=\"191.86\" cy=\"22.2929\" r=\"3\"/>\n",
       "<circle clip-path=\"url(#clip6502)\" style=\"fill:#000000; stroke:none; fill-opacity:1\" cx=\"195.111\" cy=\"21.2802\" r=\"4\"/>\n",
       "<circle clip-path=\"url(#clip6502)\" style=\"fill:#009af9; stroke:none; fill-opacity:1\" cx=\"195.111\" cy=\"21.2802\" r=\"3\"/>\n",
       "<circle clip-path=\"url(#clip6502)\" style=\"fill:#000000; stroke:none; fill-opacity:1\" cx=\"198.362\" cy=\"20.47\" r=\"4\"/>\n",
       "<circle clip-path=\"url(#clip6502)\" style=\"fill:#009af9; stroke:none; fill-opacity:1\" cx=\"198.362\" cy=\"20.47\" r=\"3\"/>\n",
       "<circle clip-path=\"url(#clip6502)\" style=\"fill:#000000; stroke:none; fill-opacity:1\" cx=\"201.613\" cy=\"19.8623\" r=\"4\"/>\n",
       "<circle clip-path=\"url(#clip6502)\" style=\"fill:#009af9; stroke:none; fill-opacity:1\" cx=\"201.613\" cy=\"19.8623\" r=\"3\"/>\n",
       "<circle clip-path=\"url(#clip6502)\" style=\"fill:#000000; stroke:none; fill-opacity:1\" cx=\"204.864\" cy=\"19.4572\" r=\"4\"/>\n",
       "<circle clip-path=\"url(#clip6502)\" style=\"fill:#009af9; stroke:none; fill-opacity:1\" cx=\"204.864\" cy=\"19.4572\" r=\"3\"/>\n",
       "<circle clip-path=\"url(#clip6502)\" style=\"fill:#000000; stroke:none; fill-opacity:1\" cx=\"208.115\" cy=\"19.2547\" r=\"4\"/>\n",
       "<circle clip-path=\"url(#clip6502)\" style=\"fill:#009af9; stroke:none; fill-opacity:1\" cx=\"208.115\" cy=\"19.2547\" r=\"3\"/>\n",
       "<circle clip-path=\"url(#clip6502)\" style=\"fill:#000000; stroke:none; fill-opacity:1\" cx=\"211.365\" cy=\"19.2547\" r=\"4\"/>\n",
       "<circle clip-path=\"url(#clip6502)\" style=\"fill:#009af9; stroke:none; fill-opacity:1\" cx=\"211.365\" cy=\"19.2547\" r=\"3\"/>\n",
       "<circle clip-path=\"url(#clip6502)\" style=\"fill:#000000; stroke:none; fill-opacity:1\" cx=\"214.616\" cy=\"19.4572\" r=\"4\"/>\n",
       "<circle clip-path=\"url(#clip6502)\" style=\"fill:#009af9; stroke:none; fill-opacity:1\" cx=\"214.616\" cy=\"19.4572\" r=\"3\"/>\n",
       "<circle clip-path=\"url(#clip6502)\" style=\"fill:#000000; stroke:none; fill-opacity:1\" cx=\"217.867\" cy=\"19.8623\" r=\"4\"/>\n",
       "<circle clip-path=\"url(#clip6502)\" style=\"fill:#009af9; stroke:none; fill-opacity:1\" cx=\"217.867\" cy=\"19.8623\" r=\"3\"/>\n",
       "<circle clip-path=\"url(#clip6502)\" style=\"fill:#000000; stroke:none; fill-opacity:1\" cx=\"221.118\" cy=\"20.47\" r=\"4\"/>\n",
       "<circle clip-path=\"url(#clip6502)\" style=\"fill:#009af9; stroke:none; fill-opacity:1\" cx=\"221.118\" cy=\"20.47\" r=\"3\"/>\n",
       "<circle clip-path=\"url(#clip6502)\" style=\"fill:#000000; stroke:none; fill-opacity:1\" cx=\"224.369\" cy=\"21.2802\" r=\"4\"/>\n",
       "<circle clip-path=\"url(#clip6502)\" style=\"fill:#009af9; stroke:none; fill-opacity:1\" cx=\"224.369\" cy=\"21.2802\" r=\"3\"/>\n",
       "<circle clip-path=\"url(#clip6502)\" style=\"fill:#000000; stroke:none; fill-opacity:1\" cx=\"227.62\" cy=\"22.2929\" r=\"4\"/>\n",
       "<circle clip-path=\"url(#clip6502)\" style=\"fill:#009af9; stroke:none; fill-opacity:1\" cx=\"227.62\" cy=\"22.2929\" r=\"3\"/>\n",
       "<circle clip-path=\"url(#clip6502)\" style=\"fill:#000000; stroke:none; fill-opacity:1\" cx=\"230.871\" cy=\"23.5082\" r=\"4\"/>\n",
       "<circle clip-path=\"url(#clip6502)\" style=\"fill:#009af9; stroke:none; fill-opacity:1\" cx=\"230.871\" cy=\"23.5082\" r=\"3\"/>\n",
       "<circle clip-path=\"url(#clip6502)\" style=\"fill:#000000; stroke:none; fill-opacity:1\" cx=\"234.122\" cy=\"24.9261\" r=\"4\"/>\n",
       "<circle clip-path=\"url(#clip6502)\" style=\"fill:#009af9; stroke:none; fill-opacity:1\" cx=\"234.122\" cy=\"24.9261\" r=\"3\"/>\n",
       "<circle clip-path=\"url(#clip6502)\" style=\"fill:#000000; stroke:none; fill-opacity:1\" cx=\"237.373\" cy=\"26.5465\" r=\"4\"/>\n",
       "<circle clip-path=\"url(#clip6502)\" style=\"fill:#009af9; stroke:none; fill-opacity:1\" cx=\"237.373\" cy=\"26.5465\" r=\"3\"/>\n",
       "<circle clip-path=\"url(#clip6502)\" style=\"fill:#000000; stroke:none; fill-opacity:1\" cx=\"240.624\" cy=\"28.3694\" r=\"4\"/>\n",
       "<circle clip-path=\"url(#clip6502)\" style=\"fill:#009af9; stroke:none; fill-opacity:1\" cx=\"240.624\" cy=\"28.3694\" r=\"3\"/>\n",
       "<circle clip-path=\"url(#clip6502)\" style=\"fill:#000000; stroke:none; fill-opacity:1\" cx=\"243.875\" cy=\"30.3949\" r=\"4\"/>\n",
       "<circle clip-path=\"url(#clip6502)\" style=\"fill:#009af9; stroke:none; fill-opacity:1\" cx=\"243.875\" cy=\"30.3949\" r=\"3\"/>\n",
       "<circle clip-path=\"url(#clip6502)\" style=\"fill:#000000; stroke:none; fill-opacity:1\" cx=\"247.125\" cy=\"32.6229\" r=\"4\"/>\n",
       "<circle clip-path=\"url(#clip6502)\" style=\"fill:#009af9; stroke:none; fill-opacity:1\" cx=\"247.125\" cy=\"32.6229\" r=\"3\"/>\n",
       "<circle clip-path=\"url(#clip6502)\" style=\"fill:#000000; stroke:none; fill-opacity:1\" cx=\"250.376\" cy=\"35.0535\" r=\"4\"/>\n",
       "<circle clip-path=\"url(#clip6502)\" style=\"fill:#009af9; stroke:none; fill-opacity:1\" cx=\"250.376\" cy=\"35.0535\" r=\"3\"/>\n",
       "<circle clip-path=\"url(#clip6502)\" style=\"fill:#000000; stroke:none; fill-opacity:1\" cx=\"253.627\" cy=\"37.6866\" r=\"4\"/>\n",
       "<circle clip-path=\"url(#clip6502)\" style=\"fill:#009af9; stroke:none; fill-opacity:1\" cx=\"253.627\" cy=\"37.6866\" r=\"3\"/>\n",
       "<circle clip-path=\"url(#clip6502)\" style=\"fill:#000000; stroke:none; fill-opacity:1\" cx=\"256.878\" cy=\"40.5223\" r=\"4\"/>\n",
       "<circle clip-path=\"url(#clip6502)\" style=\"fill:#009af9; stroke:none; fill-opacity:1\" cx=\"256.878\" cy=\"40.5223\" r=\"3\"/>\n",
       "<circle clip-path=\"url(#clip6502)\" style=\"fill:#000000; stroke:none; fill-opacity:1\" cx=\"260.129\" cy=\"43.5606\" r=\"4\"/>\n",
       "<circle clip-path=\"url(#clip6502)\" style=\"fill:#009af9; stroke:none; fill-opacity:1\" cx=\"260.129\" cy=\"43.5606\" r=\"3\"/>\n",
       "<circle clip-path=\"url(#clip6502)\" style=\"fill:#000000; stroke:none; fill-opacity:1\" cx=\"263.38\" cy=\"46.8013\" r=\"4\"/>\n",
       "<circle clip-path=\"url(#clip6502)\" style=\"fill:#009af9; stroke:none; fill-opacity:1\" cx=\"263.38\" cy=\"46.8013\" r=\"3\"/>\n",
       "<circle clip-path=\"url(#clip6502)\" style=\"fill:#000000; stroke:none; fill-opacity:1\" cx=\"266.631\" cy=\"50.2447\" r=\"4\"/>\n",
       "<circle clip-path=\"url(#clip6502)\" style=\"fill:#009af9; stroke:none; fill-opacity:1\" cx=\"266.631\" cy=\"50.2447\" r=\"3\"/>\n",
       "<circle clip-path=\"url(#clip6502)\" style=\"fill:#000000; stroke:none; fill-opacity:1\" cx=\"269.882\" cy=\"53.8906\" r=\"4\"/>\n",
       "<circle clip-path=\"url(#clip6502)\" style=\"fill:#009af9; stroke:none; fill-opacity:1\" cx=\"269.882\" cy=\"53.8906\" r=\"3\"/>\n",
       "<circle clip-path=\"url(#clip6502)\" style=\"fill:#000000; stroke:none; fill-opacity:1\" cx=\"273.133\" cy=\"57.739\" r=\"4\"/>\n",
       "<circle clip-path=\"url(#clip6502)\" style=\"fill:#009af9; stroke:none; fill-opacity:1\" cx=\"273.133\" cy=\"57.739\" r=\"3\"/>\n",
       "<circle clip-path=\"url(#clip6502)\" style=\"fill:#000000; stroke:none; fill-opacity:1\" cx=\"276.384\" cy=\"61.79\" r=\"4\"/>\n",
       "<circle clip-path=\"url(#clip6502)\" style=\"fill:#009af9; stroke:none; fill-opacity:1\" cx=\"276.384\" cy=\"61.79\" r=\"3\"/>\n",
       "<circle clip-path=\"url(#clip6502)\" style=\"fill:#000000; stroke:none; fill-opacity:1\" cx=\"279.634\" cy=\"66.0435\" r=\"4\"/>\n",
       "<circle clip-path=\"url(#clip6502)\" style=\"fill:#009af9; stroke:none; fill-opacity:1\" cx=\"279.634\" cy=\"66.0435\" r=\"3\"/>\n",
       "<circle clip-path=\"url(#clip6502)\" style=\"fill:#000000; stroke:none; fill-opacity:1\" cx=\"282.885\" cy=\"70.4996\" r=\"4\"/>\n",
       "<circle clip-path=\"url(#clip6502)\" style=\"fill:#009af9; stroke:none; fill-opacity:1\" cx=\"282.885\" cy=\"70.4996\" r=\"3\"/>\n",
       "<circle clip-path=\"url(#clip6502)\" style=\"fill:#000000; stroke:none; fill-opacity:1\" cx=\"286.136\" cy=\"75.1582\" r=\"4\"/>\n",
       "<circle clip-path=\"url(#clip6502)\" style=\"fill:#009af9; stroke:none; fill-opacity:1\" cx=\"286.136\" cy=\"75.1582\" r=\"3\"/>\n",
       "<circle clip-path=\"url(#clip6502)\" style=\"fill:#000000; stroke:none; fill-opacity:1\" cx=\"289.387\" cy=\"80.0194\" r=\"4\"/>\n",
       "<circle clip-path=\"url(#clip6502)\" style=\"fill:#009af9; stroke:none; fill-opacity:1\" cx=\"289.387\" cy=\"80.0194\" r=\"3\"/>\n",
       "<circle clip-path=\"url(#clip6502)\" style=\"fill:#000000; stroke:none; fill-opacity:1\" cx=\"292.638\" cy=\"85.0831\" r=\"4\"/>\n",
       "<circle clip-path=\"url(#clip6502)\" style=\"fill:#009af9; stroke:none; fill-opacity:1\" cx=\"292.638\" cy=\"85.0831\" r=\"3\"/>\n",
       "<circle clip-path=\"url(#clip6502)\" style=\"fill:#000000; stroke:none; fill-opacity:1\" cx=\"295.889\" cy=\"90.3494\" r=\"4\"/>\n",
       "<circle clip-path=\"url(#clip6502)\" style=\"fill:#009af9; stroke:none; fill-opacity:1\" cx=\"295.889\" cy=\"90.3494\" r=\"3\"/>\n",
       "<circle clip-path=\"url(#clip6502)\" style=\"fill:#000000; stroke:none; fill-opacity:1\" cx=\"299.14\" cy=\"95.8182\" r=\"4\"/>\n",
       "<circle clip-path=\"url(#clip6502)\" style=\"fill:#009af9; stroke:none; fill-opacity:1\" cx=\"299.14\" cy=\"95.8182\" r=\"3\"/>\n",
       "<circle clip-path=\"url(#clip6502)\" style=\"fill:#000000; stroke:none; fill-opacity:1\" cx=\"302.391\" cy=\"101.49\" r=\"4\"/>\n",
       "<circle clip-path=\"url(#clip6502)\" style=\"fill:#009af9; stroke:none; fill-opacity:1\" cx=\"302.391\" cy=\"101.49\" r=\"3\"/>\n",
       "<circle clip-path=\"url(#clip6502)\" style=\"fill:#000000; stroke:none; fill-opacity:1\" cx=\"305.642\" cy=\"107.363\" r=\"4\"/>\n",
       "<circle clip-path=\"url(#clip6502)\" style=\"fill:#009af9; stroke:none; fill-opacity:1\" cx=\"305.642\" cy=\"107.363\" r=\"3\"/>\n",
       "<circle clip-path=\"url(#clip6502)\" style=\"fill:#000000; stroke:none; fill-opacity:1\" cx=\"308.893\" cy=\"113.44\" r=\"4\"/>\n",
       "<circle clip-path=\"url(#clip6502)\" style=\"fill:#009af9; stroke:none; fill-opacity:1\" cx=\"308.893\" cy=\"113.44\" r=\"3\"/>\n",
       "<circle clip-path=\"url(#clip6502)\" style=\"fill:#000000; stroke:none; fill-opacity:1\" cx=\"312.144\" cy=\"119.719\" r=\"4\"/>\n",
       "<circle clip-path=\"url(#clip6502)\" style=\"fill:#009af9; stroke:none; fill-opacity:1\" cx=\"312.144\" cy=\"119.719\" r=\"3\"/>\n",
       "<circle clip-path=\"url(#clip6502)\" style=\"fill:#000000; stroke:none; fill-opacity:1\" cx=\"315.394\" cy=\"126.201\" r=\"4\"/>\n",
       "<circle clip-path=\"url(#clip6502)\" style=\"fill:#009af9; stroke:none; fill-opacity:1\" cx=\"315.394\" cy=\"126.201\" r=\"3\"/>\n",
       "<circle clip-path=\"url(#clip6502)\" style=\"fill:#000000; stroke:none; fill-opacity:1\" cx=\"318.645\" cy=\"132.885\" r=\"4\"/>\n",
       "<circle clip-path=\"url(#clip6502)\" style=\"fill:#009af9; stroke:none; fill-opacity:1\" cx=\"318.645\" cy=\"132.885\" r=\"3\"/>\n",
       "<circle clip-path=\"url(#clip6502)\" style=\"fill:#000000; stroke:none; fill-opacity:1\" cx=\"321.896\" cy=\"139.771\" r=\"4\"/>\n",
       "<circle clip-path=\"url(#clip6502)\" style=\"fill:#009af9; stroke:none; fill-opacity:1\" cx=\"321.896\" cy=\"139.771\" r=\"3\"/>\n",
       "<circle clip-path=\"url(#clip6502)\" style=\"fill:#000000; stroke:none; fill-opacity:1\" cx=\"325.147\" cy=\"146.861\" r=\"4\"/>\n",
       "<circle clip-path=\"url(#clip6502)\" style=\"fill:#009af9; stroke:none; fill-opacity:1\" cx=\"325.147\" cy=\"146.861\" r=\"3\"/>\n",
       "<circle clip-path=\"url(#clip6502)\" style=\"fill:#000000; stroke:none; fill-opacity:1\" cx=\"328.398\" cy=\"154.152\" r=\"4\"/>\n",
       "<circle clip-path=\"url(#clip6502)\" style=\"fill:#009af9; stroke:none; fill-opacity:1\" cx=\"328.398\" cy=\"154.152\" r=\"3\"/>\n",
       "<circle clip-path=\"url(#clip6502)\" style=\"fill:#000000; stroke:none; fill-opacity:1\" cx=\"331.649\" cy=\"161.647\" r=\"4\"/>\n",
       "<circle clip-path=\"url(#clip6502)\" style=\"fill:#009af9; stroke:none; fill-opacity:1\" cx=\"331.649\" cy=\"161.647\" r=\"3\"/>\n",
       "<circle clip-path=\"url(#clip6502)\" style=\"fill:#000000; stroke:none; fill-opacity:1\" cx=\"334.9\" cy=\"169.343\" r=\"4\"/>\n",
       "<circle clip-path=\"url(#clip6502)\" style=\"fill:#009af9; stroke:none; fill-opacity:1\" cx=\"334.9\" cy=\"169.343\" r=\"3\"/>\n",
       "<circle clip-path=\"url(#clip6502)\" style=\"fill:#000000; stroke:none; fill-opacity:1\" cx=\"338.151\" cy=\"177.243\" r=\"4\"/>\n",
       "<circle clip-path=\"url(#clip6502)\" style=\"fill:#009af9; stroke:none; fill-opacity:1\" cx=\"338.151\" cy=\"177.243\" r=\"3\"/>\n",
       "<circle clip-path=\"url(#clip6502)\" style=\"fill:#000000; stroke:none; fill-opacity:1\" cx=\"341.402\" cy=\"185.345\" r=\"4\"/>\n",
       "<circle clip-path=\"url(#clip6502)\" style=\"fill:#009af9; stroke:none; fill-opacity:1\" cx=\"341.402\" cy=\"185.345\" r=\"3\"/>\n",
       "<circle clip-path=\"url(#clip6502)\" style=\"fill:#000000; stroke:none; fill-opacity:1\" cx=\"344.653\" cy=\"193.649\" r=\"4\"/>\n",
       "<circle clip-path=\"url(#clip6502)\" style=\"fill:#009af9; stroke:none; fill-opacity:1\" cx=\"344.653\" cy=\"193.649\" r=\"3\"/>\n",
       "<circle clip-path=\"url(#clip6502)\" style=\"fill:#000000; stroke:none; fill-opacity:1\" cx=\"347.903\" cy=\"202.156\" r=\"4\"/>\n",
       "<circle clip-path=\"url(#clip6502)\" style=\"fill:#009af9; stroke:none; fill-opacity:1\" cx=\"347.903\" cy=\"202.156\" r=\"3\"/>\n",
       "<circle clip-path=\"url(#clip6502)\" style=\"fill:#000000; stroke:none; fill-opacity:1\" cx=\"351.154\" cy=\"210.866\" r=\"4\"/>\n",
       "<circle clip-path=\"url(#clip6502)\" style=\"fill:#009af9; stroke:none; fill-opacity:1\" cx=\"351.154\" cy=\"210.866\" r=\"3\"/>\n",
       "<circle clip-path=\"url(#clip6502)\" style=\"fill:#000000; stroke:none; fill-opacity:1\" cx=\"354.405\" cy=\"219.778\" r=\"4\"/>\n",
       "<circle clip-path=\"url(#clip6502)\" style=\"fill:#009af9; stroke:none; fill-opacity:1\" cx=\"354.405\" cy=\"219.778\" r=\"3\"/>\n",
       "<circle clip-path=\"url(#clip6502)\" style=\"fill:#000000; stroke:none; fill-opacity:1\" cx=\"357.656\" cy=\"228.893\" r=\"4\"/>\n",
       "<circle clip-path=\"url(#clip6502)\" style=\"fill:#009af9; stroke:none; fill-opacity:1\" cx=\"357.656\" cy=\"228.893\" r=\"3\"/>\n",
       "<circle clip-path=\"url(#clip6502)\" style=\"fill:#000000; stroke:none; fill-opacity:1\" cx=\"360.907\" cy=\"238.21\" r=\"4\"/>\n",
       "<circle clip-path=\"url(#clip6502)\" style=\"fill:#009af9; stroke:none; fill-opacity:1\" cx=\"360.907\" cy=\"238.21\" r=\"3\"/>\n",
       "<circle clip-path=\"url(#clip6502)\" style=\"fill:#000000; stroke:none; fill-opacity:1\" cx=\"364.158\" cy=\"247.73\" r=\"4\"/>\n",
       "<circle clip-path=\"url(#clip6502)\" style=\"fill:#009af9; stroke:none; fill-opacity:1\" cx=\"364.158\" cy=\"247.73\" r=\"3\"/>\n",
       "<circle clip-path=\"url(#clip6502)\" style=\"fill:#000000; stroke:none; fill-opacity:1\" cx=\"367.409\" cy=\"257.452\" r=\"4\"/>\n",
       "<circle clip-path=\"url(#clip6502)\" style=\"fill:#009af9; stroke:none; fill-opacity:1\" cx=\"367.409\" cy=\"257.452\" r=\"3\"/>\n",
       "<circle clip-path=\"url(#clip6502)\" style=\"fill:#000000; stroke:none; fill-opacity:1\" cx=\"370.66\" cy=\"267.377\" r=\"4\"/>\n",
       "<circle clip-path=\"url(#clip6502)\" style=\"fill:#009af9; stroke:none; fill-opacity:1\" cx=\"370.66\" cy=\"267.377\" r=\"3\"/>\n",
       "<polygon clip-path=\"url(#clip6500)\" points=\"\n",
       "315.608,50.931 368.315,50.931 368.315,20.691 315.608,20.691 \n",
       "  \" fill=\"#ffffff\" fill-opacity=\"1\"/>\n",
       "<polyline clip-path=\"url(#clip6500)\" style=\"stroke:#000000; stroke-width:1; stroke-opacity:1; fill:none\" points=\"\n",
       "  315.608,50.931 368.315,50.931 368.315,20.691 315.608,20.691 315.608,50.931 \n",
       "  \"/>\n",
       "<circle clip-path=\"url(#clip6500)\" style=\"fill:#000000; stroke:none; fill-opacity:1\" cx=\"333.608\" cy=\"35.811\" r=\"6\"/>\n",
       "<circle clip-path=\"url(#clip6500)\" style=\"fill:#009af9; stroke:none; fill-opacity:1\" cx=\"333.608\" cy=\"35.811\" r=\"5\"/>\n",
       "<g clip-path=\"url(#clip6500)\">\n",
       "<text style=\"fill:#000000; fill-opacity:1; font-family:Arial,Helvetica Neue,Helvetica,sans-serif; font-size:12; text-anchor:start;\" transform=\"rotate(0, 347.608, 40.311)\" x=\"347.608\" y=\"40.311\">y1</text>\n",
       "</g>\n",
       "</svg>\n"
      ]
     },
     "execution_count": 156,
     "metadata": {},
     "output_type": "execute_result"
    }
   ],
   "source": [
    "scatter(x, 4 * x .* (1 - x))"
   ]
  },
  {
   "cell_type": "code",
   "execution_count": 157,
   "metadata": {},
   "outputs": [
    {
     "data": {
      "image/svg+xml": [
       "<?xml version=\"1.0\" encoding=\"utf-8\"?>\n",
       "<svg xmlns=\"http://www.w3.org/2000/svg\" xmlns:xlink=\"http://www.w3.org/1999/xlink\" width=\"400\" height=\"300\" viewBox=\"0 0 400 300\">\n",
       "<defs>\n",
       "  <clipPath id=\"clip6700\">\n",
       "    <rect x=\"0\" y=\"0\" width=\"400\" height=\"300\"/>\n",
       "  </clipPath>\n",
       "</defs>\n",
       "<polygon clip-path=\"url(#clip6700)\" points=\"\n",
       "0,300 400,300 400,0 0,0 \n",
       "  \" fill=\"#ffffff\" fill-opacity=\"1\"/>\n",
       "<defs>\n",
       "  <clipPath id=\"clip6701\">\n",
       "    <rect x=\"80\" y=\"0\" width=\"281\" height=\"281\"/>\n",
       "  </clipPath>\n",
       "</defs>\n",
       "<polygon clip-path=\"url(#clip6700)\" points=\"\n",
       "39.1651,274.821 380.315,274.821 380.315,11.811 39.1651,11.811 \n",
       "  \" fill=\"#ffffff\" fill-opacity=\"1\"/>\n",
       "<defs>\n",
       "  <clipPath id=\"clip6702\">\n",
       "    <rect x=\"39\" y=\"11\" width=\"342\" height=\"264\"/>\n",
       "  </clipPath>\n",
       "</defs>\n",
       "<polyline clip-path=\"url(#clip6702)\" style=\"stroke:#000000; stroke-width:0.5; stroke-opacity:0.1; fill:none\" points=\"\n",
       "  48.8203,274.821 48.8203,11.811 \n",
       "  \"/>\n",
       "<polyline clip-path=\"url(#clip6702)\" style=\"stroke:#000000; stroke-width:0.5; stroke-opacity:0.1; fill:none\" points=\"\n",
       "  129.28,274.821 129.28,11.811 \n",
       "  \"/>\n",
       "<polyline clip-path=\"url(#clip6702)\" style=\"stroke:#000000; stroke-width:0.5; stroke-opacity:0.1; fill:none\" points=\"\n",
       "  209.74,274.821 209.74,11.811 \n",
       "  \"/>\n",
       "<polyline clip-path=\"url(#clip6702)\" style=\"stroke:#000000; stroke-width:0.5; stroke-opacity:0.1; fill:none\" points=\"\n",
       "  290.2,274.821 290.2,11.811 \n",
       "  \"/>\n",
       "<polyline clip-path=\"url(#clip6702)\" style=\"stroke:#000000; stroke-width:0.5; stroke-opacity:0.1; fill:none\" points=\"\n",
       "  370.66,274.821 370.66,11.811 \n",
       "  \"/>\n",
       "<polyline clip-path=\"url(#clip6702)\" style=\"stroke:#000000; stroke-width:0.5; stroke-opacity:0.1; fill:none\" points=\"\n",
       "  39.1651,269.27 380.315,269.27 \n",
       "  \"/>\n",
       "<polyline clip-path=\"url(#clip6702)\" style=\"stroke:#000000; stroke-width:0.5; stroke-opacity:0.1; fill:none\" points=\"\n",
       "  39.1651,206.329 380.315,206.329 \n",
       "  \"/>\n",
       "<polyline clip-path=\"url(#clip6702)\" style=\"stroke:#000000; stroke-width:0.5; stroke-opacity:0.1; fill:none\" points=\"\n",
       "  39.1651,143.388 380.315,143.388 \n",
       "  \"/>\n",
       "<polyline clip-path=\"url(#clip6702)\" style=\"stroke:#000000; stroke-width:0.5; stroke-opacity:0.1; fill:none\" points=\"\n",
       "  39.1651,80.4464 380.315,80.4464 \n",
       "  \"/>\n",
       "<polyline clip-path=\"url(#clip6702)\" style=\"stroke:#000000; stroke-width:0.5; stroke-opacity:0.1; fill:none\" points=\"\n",
       "  39.1651,17.5052 380.315,17.5052 \n",
       "  \"/>\n",
       "<polyline clip-path=\"url(#clip6700)\" style=\"stroke:#000000; stroke-width:1; stroke-opacity:1; fill:none\" points=\"\n",
       "  39.1651,274.821 380.315,274.821 \n",
       "  \"/>\n",
       "<polyline clip-path=\"url(#clip6700)\" style=\"stroke:#000000; stroke-width:1; stroke-opacity:1; fill:none\" points=\"\n",
       "  39.1651,274.821 39.1651,11.811 \n",
       "  \"/>\n",
       "<polyline clip-path=\"url(#clip6700)\" style=\"stroke:#000000; stroke-width:1; stroke-opacity:1; fill:none\" points=\"\n",
       "  48.8203,274.821 48.8203,270.876 \n",
       "  \"/>\n",
       "<polyline clip-path=\"url(#clip6700)\" style=\"stroke:#000000; stroke-width:1; stroke-opacity:1; fill:none\" points=\"\n",
       "  129.28,274.821 129.28,270.876 \n",
       "  \"/>\n",
       "<polyline clip-path=\"url(#clip6700)\" style=\"stroke:#000000; stroke-width:1; stroke-opacity:1; fill:none\" points=\"\n",
       "  209.74,274.821 209.74,270.876 \n",
       "  \"/>\n",
       "<polyline clip-path=\"url(#clip6700)\" style=\"stroke:#000000; stroke-width:1; stroke-opacity:1; fill:none\" points=\"\n",
       "  290.2,274.821 290.2,270.876 \n",
       "  \"/>\n",
       "<polyline clip-path=\"url(#clip6700)\" style=\"stroke:#000000; stroke-width:1; stroke-opacity:1; fill:none\" points=\"\n",
       "  370.66,274.821 370.66,270.876 \n",
       "  \"/>\n",
       "<polyline clip-path=\"url(#clip6700)\" style=\"stroke:#000000; stroke-width:1; stroke-opacity:1; fill:none\" points=\"\n",
       "  39.1651,269.27 44.2823,269.27 \n",
       "  \"/>\n",
       "<polyline clip-path=\"url(#clip6700)\" style=\"stroke:#000000; stroke-width:1; stroke-opacity:1; fill:none\" points=\"\n",
       "  39.1651,206.329 44.2823,206.329 \n",
       "  \"/>\n",
       "<polyline clip-path=\"url(#clip6700)\" style=\"stroke:#000000; stroke-width:1; stroke-opacity:1; fill:none\" points=\"\n",
       "  39.1651,143.388 44.2823,143.388 \n",
       "  \"/>\n",
       "<polyline clip-path=\"url(#clip6700)\" style=\"stroke:#000000; stroke-width:1; stroke-opacity:1; fill:none\" points=\"\n",
       "  39.1651,80.4464 44.2823,80.4464 \n",
       "  \"/>\n",
       "<polyline clip-path=\"url(#clip6700)\" style=\"stroke:#000000; stroke-width:1; stroke-opacity:1; fill:none\" points=\"\n",
       "  39.1651,17.5052 44.2823,17.5052 \n",
       "  \"/>\n",
       "<g clip-path=\"url(#clip6700)\">\n",
       "<text style=\"fill:#000000; fill-opacity:1; font-family:Arial,Helvetica Neue,Helvetica,sans-serif; font-size:12; text-anchor:middle;\" transform=\"rotate(0, 48.8203, 287.621)\" x=\"48.8203\" y=\"287.621\">0.00</text>\n",
       "</g>\n",
       "<g clip-path=\"url(#clip6700)\">\n",
       "<text style=\"fill:#000000; fill-opacity:1; font-family:Arial,Helvetica Neue,Helvetica,sans-serif; font-size:12; text-anchor:middle;\" transform=\"rotate(0, 129.28, 287.621)\" x=\"129.28\" y=\"287.621\">0.25</text>\n",
       "</g>\n",
       "<g clip-path=\"url(#clip6700)\">\n",
       "<text style=\"fill:#000000; fill-opacity:1; font-family:Arial,Helvetica Neue,Helvetica,sans-serif; font-size:12; text-anchor:middle;\" transform=\"rotate(0, 209.74, 287.621)\" x=\"209.74\" y=\"287.621\">0.50</text>\n",
       "</g>\n",
       "<g clip-path=\"url(#clip6700)\">\n",
       "<text style=\"fill:#000000; fill-opacity:1; font-family:Arial,Helvetica Neue,Helvetica,sans-serif; font-size:12; text-anchor:middle;\" transform=\"rotate(0, 290.2, 287.621)\" x=\"290.2\" y=\"287.621\">0.75</text>\n",
       "</g>\n",
       "<g clip-path=\"url(#clip6700)\">\n",
       "<text style=\"fill:#000000; fill-opacity:1; font-family:Arial,Helvetica Neue,Helvetica,sans-serif; font-size:12; text-anchor:middle;\" transform=\"rotate(0, 370.66, 287.621)\" x=\"370.66\" y=\"287.621\">1.00</text>\n",
       "</g>\n",
       "<g clip-path=\"url(#clip6700)\">\n",
       "<text style=\"fill:#000000; fill-opacity:1; font-family:Arial,Helvetica Neue,Helvetica,sans-serif; font-size:12; text-anchor:end;\" transform=\"rotate(0, 35.1651, 273.77)\" x=\"35.1651\" y=\"273.77\">0.00</text>\n",
       "</g>\n",
       "<g clip-path=\"url(#clip6700)\">\n",
       "<text style=\"fill:#000000; fill-opacity:1; font-family:Arial,Helvetica Neue,Helvetica,sans-serif; font-size:12; text-anchor:end;\" transform=\"rotate(0, 35.1651, 210.829)\" x=\"35.1651\" y=\"210.829\">0.25</text>\n",
       "</g>\n",
       "<g clip-path=\"url(#clip6700)\">\n",
       "<text style=\"fill:#000000; fill-opacity:1; font-family:Arial,Helvetica Neue,Helvetica,sans-serif; font-size:12; text-anchor:end;\" transform=\"rotate(0, 35.1651, 147.888)\" x=\"35.1651\" y=\"147.888\">0.50</text>\n",
       "</g>\n",
       "<g clip-path=\"url(#clip6700)\">\n",
       "<text style=\"fill:#000000; fill-opacity:1; font-family:Arial,Helvetica Neue,Helvetica,sans-serif; font-size:12; text-anchor:end;\" transform=\"rotate(0, 35.1651, 84.9464)\" x=\"35.1651\" y=\"84.9464\">0.75</text>\n",
       "</g>\n",
       "<g clip-path=\"url(#clip6700)\">\n",
       "<text style=\"fill:#000000; fill-opacity:1; font-family:Arial,Helvetica Neue,Helvetica,sans-serif; font-size:12; text-anchor:end;\" transform=\"rotate(0, 35.1651, 22.0052)\" x=\"35.1651\" y=\"22.0052\">1.00</text>\n",
       "</g>\n",
       "<circle clip-path=\"url(#clip6702)\" style=\"fill:#000000; stroke:none; fill-opacity:1\" cx=\"48.8203\" cy=\"144.786\" r=\"4\"/>\n",
       "<circle clip-path=\"url(#clip6702)\" style=\"fill:#009af9; stroke:none; fill-opacity:1\" cx=\"48.8203\" cy=\"144.786\" r=\"3\"/>\n",
       "<circle clip-path=\"url(#clip6702)\" style=\"fill:#000000; stroke:none; fill-opacity:1\" cx=\"52.0712\" cy=\"52.8002\" r=\"4\"/>\n",
       "<circle clip-path=\"url(#clip6702)\" style=\"fill:#009af9; stroke:none; fill-opacity:1\" cx=\"52.0712\" cy=\"52.8002\" r=\"3\"/>\n",
       "<circle clip-path=\"url(#clip6702)\" style=\"fill:#000000; stroke:none; fill-opacity:1\" cx=\"55.3221\" cy=\"215.597\" r=\"4\"/>\n",
       "<circle clip-path=\"url(#clip6702)\" style=\"fill:#009af9; stroke:none; fill-opacity:1\" cx=\"55.3221\" cy=\"215.597\" r=\"3\"/>\n",
       "<circle clip-path=\"url(#clip6702)\" style=\"fill:#000000; stroke:none; fill-opacity:1\" cx=\"58.573\" cy=\"225.7\" r=\"4\"/>\n",
       "<circle clip-path=\"url(#clip6702)\" style=\"fill:#009af9; stroke:none; fill-opacity:1\" cx=\"58.573\" cy=\"225.7\" r=\"3\"/>\n",
       "<circle clip-path=\"url(#clip6702)\" style=\"fill:#000000; stroke:none; fill-opacity:1\" cx=\"61.8239\" cy=\"147.064\" r=\"4\"/>\n",
       "<circle clip-path=\"url(#clip6702)\" style=\"fill:#009af9; stroke:none; fill-opacity:1\" cx=\"61.8239\" cy=\"147.064\" r=\"3\"/>\n",
       "<circle clip-path=\"url(#clip6702)\" style=\"fill:#000000; stroke:none; fill-opacity:1\" cx=\"65.0748\" cy=\"126.034\" r=\"4\"/>\n",
       "<circle clip-path=\"url(#clip6702)\" style=\"fill:#009af9; stroke:none; fill-opacity:1\" cx=\"65.0748\" cy=\"126.034\" r=\"3\"/>\n",
       "<circle clip-path=\"url(#clip6702)\" style=\"fill:#000000; stroke:none; fill-opacity:1\" cx=\"68.3257\" cy=\"36.686\" r=\"4\"/>\n",
       "<circle clip-path=\"url(#clip6702)\" style=\"fill:#009af9; stroke:none; fill-opacity:1\" cx=\"68.3257\" cy=\"36.686\" r=\"3\"/>\n",
       "<circle clip-path=\"url(#clip6702)\" style=\"fill:#000000; stroke:none; fill-opacity:1\" cx=\"71.5766\" cy=\"69.4632\" r=\"4\"/>\n",
       "<circle clip-path=\"url(#clip6702)\" style=\"fill:#009af9; stroke:none; fill-opacity:1\" cx=\"71.5766\" cy=\"69.4632\" r=\"3\"/>\n",
       "<circle clip-path=\"url(#clip6702)\" style=\"fill:#000000; stroke:none; fill-opacity:1\" cx=\"74.8275\" cy=\"175.397\" r=\"4\"/>\n",
       "<circle clip-path=\"url(#clip6702)\" style=\"fill:#009af9; stroke:none; fill-opacity:1\" cx=\"74.8275\" cy=\"175.397\" r=\"3\"/>\n",
       "<circle clip-path=\"url(#clip6702)\" style=\"fill:#000000; stroke:none; fill-opacity:1\" cx=\"78.0784\" cy=\"24.4607\" r=\"4\"/>\n",
       "<circle clip-path=\"url(#clip6702)\" style=\"fill:#009af9; stroke:none; fill-opacity:1\" cx=\"78.0784\" cy=\"24.4607\" r=\"3\"/>\n",
       "<circle clip-path=\"url(#clip6702)\" style=\"fill:#000000; stroke:none; fill-opacity:1\" cx=\"81.3293\" cy=\"108.759\" r=\"4\"/>\n",
       "<circle clip-path=\"url(#clip6702)\" style=\"fill:#009af9; stroke:none; fill-opacity:1\" cx=\"81.3293\" cy=\"108.759\" r=\"3\"/>\n",
       "<circle clip-path=\"url(#clip6702)\" style=\"fill:#000000; stroke:none; fill-opacity:1\" cx=\"84.5802\" cy=\"116.948\" r=\"4\"/>\n",
       "<circle clip-path=\"url(#clip6702)\" style=\"fill:#009af9; stroke:none; fill-opacity:1\" cx=\"84.5802\" cy=\"116.948\" r=\"3\"/>\n",
       "<circle clip-path=\"url(#clip6702)\" style=\"fill:#000000; stroke:none; fill-opacity:1\" cx=\"87.8311\" cy=\"211.243\" r=\"4\"/>\n",
       "<circle clip-path=\"url(#clip6702)\" style=\"fill:#009af9; stroke:none; fill-opacity:1\" cx=\"87.8311\" cy=\"211.243\" r=\"3\"/>\n",
       "<circle clip-path=\"url(#clip6702)\" style=\"fill:#000000; stroke:none; fill-opacity:1\" cx=\"91.082\" cy=\"242.733\" r=\"4\"/>\n",
       "<circle clip-path=\"url(#clip6702)\" style=\"fill:#009af9; stroke:none; fill-opacity:1\" cx=\"91.082\" cy=\"242.733\" r=\"3\"/>\n",
       "<circle clip-path=\"url(#clip6702)\" style=\"fill:#000000; stroke:none; fill-opacity:1\" cx=\"94.3329\" cy=\"35.6541\" r=\"4\"/>\n",
       "<circle clip-path=\"url(#clip6702)\" style=\"fill:#009af9; stroke:none; fill-opacity:1\" cx=\"94.3329\" cy=\"35.6541\" r=\"3\"/>\n",
       "<circle clip-path=\"url(#clip6702)\" style=\"fill:#000000; stroke:none; fill-opacity:1\" cx=\"97.5838\" cy=\"162.578\" r=\"4\"/>\n",
       "<circle clip-path=\"url(#clip6702)\" style=\"fill:#009af9; stroke:none; fill-opacity:1\" cx=\"97.5838\" cy=\"162.578\" r=\"3\"/>\n",
       "<circle clip-path=\"url(#clip6702)\" style=\"fill:#000000; stroke:none; fill-opacity:1\" cx=\"100.835\" cy=\"171.778\" r=\"4\"/>\n",
       "<circle clip-path=\"url(#clip6702)\" style=\"fill:#009af9; stroke:none; fill-opacity:1\" cx=\"100.835\" cy=\"171.778\" r=\"3\"/>\n",
       "<circle clip-path=\"url(#clip6702)\" style=\"fill:#000000; stroke:none; fill-opacity:1\" cx=\"104.086\" cy=\"246.842\" r=\"4\"/>\n",
       "<circle clip-path=\"url(#clip6702)\" style=\"fill:#009af9; stroke:none; fill-opacity:1\" cx=\"104.086\" cy=\"246.842\" r=\"3\"/>\n",
       "<circle clip-path=\"url(#clip6702)\" style=\"fill:#000000; stroke:none; fill-opacity:1\" cx=\"107.337\" cy=\"46.755\" r=\"4\"/>\n",
       "<circle clip-path=\"url(#clip6702)\" style=\"fill:#009af9; stroke:none; fill-opacity:1\" cx=\"107.337\" cy=\"46.755\" r=\"3\"/>\n",
       "<circle clip-path=\"url(#clip6702)\" style=\"fill:#000000; stroke:none; fill-opacity:1\" cx=\"110.587\" cy=\"253.634\" r=\"4\"/>\n",
       "<circle clip-path=\"url(#clip6702)\" style=\"fill:#009af9; stroke:none; fill-opacity:1\" cx=\"110.587\" cy=\"253.634\" r=\"3\"/>\n",
       "<circle clip-path=\"url(#clip6702)\" style=\"fill:#000000; stroke:none; fill-opacity:1\" cx=\"113.838\" cy=\"165.977\" r=\"4\"/>\n",
       "<circle clip-path=\"url(#clip6702)\" style=\"fill:#009af9; stroke:none; fill-opacity:1\" cx=\"113.838\" cy=\"165.977\" r=\"3\"/>\n",
       "<circle clip-path=\"url(#clip6702)\" style=\"fill:#000000; stroke:none; fill-opacity:1\" cx=\"117.089\" cy=\"222.635\" r=\"4\"/>\n",
       "<circle clip-path=\"url(#clip6702)\" style=\"fill:#009af9; stroke:none; fill-opacity:1\" cx=\"117.089\" cy=\"222.635\" r=\"3\"/>\n",
       "<circle clip-path=\"url(#clip6702)\" style=\"fill:#000000; stroke:none; fill-opacity:1\" cx=\"120.34\" cy=\"175.734\" r=\"4\"/>\n",
       "<circle clip-path=\"url(#clip6702)\" style=\"fill:#009af9; stroke:none; fill-opacity:1\" cx=\"120.34\" cy=\"175.734\" r=\"3\"/>\n",
       "<circle clip-path=\"url(#clip6702)\" style=\"fill:#000000; stroke:none; fill-opacity:1\" cx=\"123.591\" cy=\"224.656\" r=\"4\"/>\n",
       "<circle clip-path=\"url(#clip6702)\" style=\"fill:#009af9; stroke:none; fill-opacity:1\" cx=\"123.591\" cy=\"224.656\" r=\"3\"/>\n",
       "<circle clip-path=\"url(#clip6702)\" style=\"fill:#000000; stroke:none; fill-opacity:1\" cx=\"126.842\" cy=\"164.826\" r=\"4\"/>\n",
       "<circle clip-path=\"url(#clip6702)\" style=\"fill:#009af9; stroke:none; fill-opacity:1\" cx=\"126.842\" cy=\"164.826\" r=\"3\"/>\n",
       "<circle clip-path=\"url(#clip6702)\" style=\"fill:#000000; stroke:none; fill-opacity:1\" cx=\"130.093\" cy=\"251.647\" r=\"4\"/>\n",
       "<circle clip-path=\"url(#clip6702)\" style=\"fill:#009af9; stroke:none; fill-opacity:1\" cx=\"130.093\" cy=\"251.647\" r=\"3\"/>\n",
       "<circle clip-path=\"url(#clip6702)\" style=\"fill:#000000; stroke:none; fill-opacity:1\" cx=\"133.344\" cy=\"252.08\" r=\"4\"/>\n",
       "<circle clip-path=\"url(#clip6702)\" style=\"fill:#009af9; stroke:none; fill-opacity:1\" cx=\"133.344\" cy=\"252.08\" r=\"3\"/>\n",
       "<circle clip-path=\"url(#clip6702)\" style=\"fill:#000000; stroke:none; fill-opacity:1\" cx=\"136.595\" cy=\"154.628\" r=\"4\"/>\n",
       "<circle clip-path=\"url(#clip6702)\" style=\"fill:#009af9; stroke:none; fill-opacity:1\" cx=\"136.595\" cy=\"154.628\" r=\"3\"/>\n",
       "<circle clip-path=\"url(#clip6702)\" style=\"fill:#000000; stroke:none; fill-opacity:1\" cx=\"139.846\" cy=\"106.526\" r=\"4\"/>\n",
       "<circle clip-path=\"url(#clip6702)\" style=\"fill:#009af9; stroke:none; fill-opacity:1\" cx=\"139.846\" cy=\"106.526\" r=\"3\"/>\n",
       "<circle clip-path=\"url(#clip6702)\" style=\"fill:#000000; stroke:none; fill-opacity:1\" cx=\"143.096\" cy=\"166.295\" r=\"4\"/>\n",
       "<circle clip-path=\"url(#clip6702)\" style=\"fill:#009af9; stroke:none; fill-opacity:1\" cx=\"143.096\" cy=\"166.295\" r=\"3\"/>\n",
       "<circle clip-path=\"url(#clip6702)\" style=\"fill:#000000; stroke:none; fill-opacity:1\" cx=\"146.347\" cy=\"262.091\" r=\"4\"/>\n",
       "<circle clip-path=\"url(#clip6702)\" style=\"fill:#009af9; stroke:none; fill-opacity:1\" cx=\"146.347\" cy=\"262.091\" r=\"3\"/>\n",
       "<circle clip-path=\"url(#clip6702)\" style=\"fill:#000000; stroke:none; fill-opacity:1\" cx=\"149.598\" cy=\"262.897\" r=\"4\"/>\n",
       "<circle clip-path=\"url(#clip6702)\" style=\"fill:#009af9; stroke:none; fill-opacity:1\" cx=\"149.598\" cy=\"262.897\" r=\"3\"/>\n",
       "<circle clip-path=\"url(#clip6702)\" style=\"fill:#000000; stroke:none; fill-opacity:1\" cx=\"152.849\" cy=\"163.337\" r=\"4\"/>\n",
       "<circle clip-path=\"url(#clip6702)\" style=\"fill:#009af9; stroke:none; fill-opacity:1\" cx=\"152.849\" cy=\"163.337\" r=\"3\"/>\n",
       "<circle clip-path=\"url(#clip6702)\" style=\"fill:#000000; stroke:none; fill-opacity:1\" cx=\"156.1\" cy=\"106.252\" r=\"4\"/>\n",
       "<circle clip-path=\"url(#clip6702)\" style=\"fill:#009af9; stroke:none; fill-opacity:1\" cx=\"156.1\" cy=\"106.252\" r=\"3\"/>\n",
       "<circle clip-path=\"url(#clip6702)\" style=\"fill:#000000; stroke:none; fill-opacity:1\" cx=\"159.351\" cy=\"24.0509\" r=\"4\"/>\n",
       "<circle clip-path=\"url(#clip6702)\" style=\"fill:#009af9; stroke:none; fill-opacity:1\" cx=\"159.351\" cy=\"24.0509\" r=\"3\"/>\n",
       "<circle clip-path=\"url(#clip6702)\" style=\"fill:#000000; stroke:none; fill-opacity:1\" cx=\"162.602\" cy=\"177.032\" r=\"4\"/>\n",
       "<circle clip-path=\"url(#clip6702)\" style=\"fill:#009af9; stroke:none; fill-opacity:1\" cx=\"162.602\" cy=\"177.032\" r=\"3\"/>\n",
       "<circle clip-path=\"url(#clip6702)\" style=\"fill:#000000; stroke:none; fill-opacity:1\" cx=\"165.853\" cy=\"72.9397\" r=\"4\"/>\n",
       "<circle clip-path=\"url(#clip6702)\" style=\"fill:#009af9; stroke:none; fill-opacity:1\" cx=\"165.853\" cy=\"72.9397\" r=\"3\"/>\n",
       "<circle clip-path=\"url(#clip6702)\" style=\"fill:#000000; stroke:none; fill-opacity:1\" cx=\"169.104\" cy=\"161.148\" r=\"4\"/>\n",
       "<circle clip-path=\"url(#clip6702)\" style=\"fill:#009af9; stroke:none; fill-opacity:1\" cx=\"169.104\" cy=\"161.148\" r=\"3\"/>\n",
       "<circle clip-path=\"url(#clip6702)\" style=\"fill:#000000; stroke:none; fill-opacity:1\" cx=\"172.355\" cy=\"73.2618\" r=\"4\"/>\n",
       "<circle clip-path=\"url(#clip6702)\" style=\"fill:#009af9; stroke:none; fill-opacity:1\" cx=\"172.355\" cy=\"73.2618\" r=\"3\"/>\n",
       "<circle clip-path=\"url(#clip6702)\" style=\"fill:#000000; stroke:none; fill-opacity:1\" cx=\"175.606\" cy=\"214.405\" r=\"4\"/>\n",
       "<circle clip-path=\"url(#clip6702)\" style=\"fill:#009af9; stroke:none; fill-opacity:1\" cx=\"175.606\" cy=\"214.405\" r=\"3\"/>\n",
       "<circle clip-path=\"url(#clip6702)\" style=\"fill:#000000; stroke:none; fill-opacity:1\" cx=\"178.856\" cy=\"148.207\" r=\"4\"/>\n",
       "<circle clip-path=\"url(#clip6702)\" style=\"fill:#009af9; stroke:none; fill-opacity:1\" cx=\"178.856\" cy=\"148.207\" r=\"3\"/>\n",
       "<circle clip-path=\"url(#clip6702)\" style=\"fill:#000000; stroke:none; fill-opacity:1\" cx=\"182.107\" cy=\"65.651\" r=\"4\"/>\n",
       "<circle clip-path=\"url(#clip6702)\" style=\"fill:#009af9; stroke:none; fill-opacity:1\" cx=\"182.107\" cy=\"65.651\" r=\"3\"/>\n",
       "<circle clip-path=\"url(#clip6702)\" style=\"fill:#000000; stroke:none; fill-opacity:1\" cx=\"185.358\" cy=\"181.541\" r=\"4\"/>\n",
       "<circle clip-path=\"url(#clip6702)\" style=\"fill:#009af9; stroke:none; fill-opacity:1\" cx=\"185.358\" cy=\"181.541\" r=\"3\"/>\n",
       "<circle clip-path=\"url(#clip6702)\" style=\"fill:#000000; stroke:none; fill-opacity:1\" cx=\"188.609\" cy=\"256.271\" r=\"4\"/>\n",
       "<circle clip-path=\"url(#clip6702)\" style=\"fill:#009af9; stroke:none; fill-opacity:1\" cx=\"188.609\" cy=\"256.271\" r=\"3\"/>\n",
       "<circle clip-path=\"url(#clip6702)\" style=\"fill:#000000; stroke:none; fill-opacity:1\" cx=\"191.86\" cy=\"257.536\" r=\"4\"/>\n",
       "<circle clip-path=\"url(#clip6702)\" style=\"fill:#009af9; stroke:none; fill-opacity:1\" cx=\"191.86\" cy=\"257.536\" r=\"3\"/>\n",
       "<circle clip-path=\"url(#clip6702)\" style=\"fill:#000000; stroke:none; fill-opacity:1\" cx=\"195.111\" cy=\"235.265\" r=\"4\"/>\n",
       "<circle clip-path=\"url(#clip6702)\" style=\"fill:#009af9; stroke:none; fill-opacity:1\" cx=\"195.111\" cy=\"235.265\" r=\"3\"/>\n",
       "<circle clip-path=\"url(#clip6702)\" style=\"fill:#000000; stroke:none; fill-opacity:1\" cx=\"198.362\" cy=\"243.835\" r=\"4\"/>\n",
       "<circle clip-path=\"url(#clip6702)\" style=\"fill:#009af9; stroke:none; fill-opacity:1\" cx=\"198.362\" cy=\"243.835\" r=\"3\"/>\n",
       "<circle clip-path=\"url(#clip6702)\" style=\"fill:#000000; stroke:none; fill-opacity:1\" cx=\"201.613\" cy=\"147.325\" r=\"4\"/>\n",
       "<circle clip-path=\"url(#clip6702)\" style=\"fill:#009af9; stroke:none; fill-opacity:1\" cx=\"201.613\" cy=\"147.325\" r=\"3\"/>\n",
       "<circle clip-path=\"url(#clip6702)\" style=\"fill:#000000; stroke:none; fill-opacity:1\" cx=\"204.864\" cy=\"107.607\" r=\"4\"/>\n",
       "<circle clip-path=\"url(#clip6702)\" style=\"fill:#009af9; stroke:none; fill-opacity:1\" cx=\"204.864\" cy=\"107.607\" r=\"3\"/>\n",
       "<circle clip-path=\"url(#clip6702)\" style=\"fill:#000000; stroke:none; fill-opacity:1\" cx=\"208.115\" cy=\"57.1683\" r=\"4\"/>\n",
       "<circle clip-path=\"url(#clip6702)\" style=\"fill:#009af9; stroke:none; fill-opacity:1\" cx=\"208.115\" cy=\"57.1683\" r=\"3\"/>\n",
       "<circle clip-path=\"url(#clip6702)\" style=\"fill:#000000; stroke:none; fill-opacity:1\" cx=\"211.365\" cy=\"260.273\" r=\"4\"/>\n",
       "<circle clip-path=\"url(#clip6702)\" style=\"fill:#009af9; stroke:none; fill-opacity:1\" cx=\"211.365\" cy=\"260.273\" r=\"3\"/>\n",
       "<circle clip-path=\"url(#clip6702)\" style=\"fill:#000000; stroke:none; fill-opacity:1\" cx=\"214.616\" cy=\"265.797\" r=\"4\"/>\n",
       "<circle clip-path=\"url(#clip6702)\" style=\"fill:#009af9; stroke:none; fill-opacity:1\" cx=\"214.616\" cy=\"265.797\" r=\"3\"/>\n",
       "<circle clip-path=\"url(#clip6702)\" style=\"fill:#000000; stroke:none; fill-opacity:1\" cx=\"217.867\" cy=\"36.3336\" r=\"4\"/>\n",
       "<circle clip-path=\"url(#clip6702)\" style=\"fill:#009af9; stroke:none; fill-opacity:1\" cx=\"217.867\" cy=\"36.3336\" r=\"3\"/>\n",
       "<circle clip-path=\"url(#clip6702)\" style=\"fill:#000000; stroke:none; fill-opacity:1\" cx=\"221.118\" cy=\"223.038\" r=\"4\"/>\n",
       "<circle clip-path=\"url(#clip6702)\" style=\"fill:#009af9; stroke:none; fill-opacity:1\" cx=\"221.118\" cy=\"223.038\" r=\"3\"/>\n",
       "<circle clip-path=\"url(#clip6702)\" style=\"fill:#000000; stroke:none; fill-opacity:1\" cx=\"224.369\" cy=\"46.0536\" r=\"4\"/>\n",
       "<circle clip-path=\"url(#clip6702)\" style=\"fill:#009af9; stroke:none; fill-opacity:1\" cx=\"224.369\" cy=\"46.0536\" r=\"3\"/>\n",
       "<circle clip-path=\"url(#clip6702)\" style=\"fill:#000000; stroke:none; fill-opacity:1\" cx=\"227.62\" cy=\"212.128\" r=\"4\"/>\n",
       "<circle clip-path=\"url(#clip6702)\" style=\"fill:#009af9; stroke:none; fill-opacity:1\" cx=\"227.62\" cy=\"212.128\" r=\"3\"/>\n",
       "<circle clip-path=\"url(#clip6702)\" style=\"fill:#000000; stroke:none; fill-opacity:1\" cx=\"230.871\" cy=\"210.595\" r=\"4\"/>\n",
       "<circle clip-path=\"url(#clip6702)\" style=\"fill:#009af9; stroke:none; fill-opacity:1\" cx=\"230.871\" cy=\"210.595\" r=\"3\"/>\n",
       "<circle clip-path=\"url(#clip6702)\" style=\"fill:#000000; stroke:none; fill-opacity:1\" cx=\"234.122\" cy=\"267.377\" r=\"4\"/>\n",
       "<circle clip-path=\"url(#clip6702)\" style=\"fill:#009af9; stroke:none; fill-opacity:1\" cx=\"234.122\" cy=\"267.377\" r=\"3\"/>\n",
       "<circle clip-path=\"url(#clip6702)\" style=\"fill:#000000; stroke:none; fill-opacity:1\" cx=\"237.373\" cy=\"99.1613\" r=\"4\"/>\n",
       "<circle clip-path=\"url(#clip6702)\" style=\"fill:#009af9; stroke:none; fill-opacity:1\" cx=\"237.373\" cy=\"99.1613\" r=\"3\"/>\n",
       "<circle clip-path=\"url(#clip6702)\" style=\"fill:#000000; stroke:none; fill-opacity:1\" cx=\"240.624\" cy=\"72.9607\" r=\"4\"/>\n",
       "<circle clip-path=\"url(#clip6702)\" style=\"fill:#009af9; stroke:none; fill-opacity:1\" cx=\"240.624\" cy=\"72.9607\" r=\"3\"/>\n",
       "<circle clip-path=\"url(#clip6702)\" style=\"fill:#000000; stroke:none; fill-opacity:1\" cx=\"243.875\" cy=\"76.5452\" r=\"4\"/>\n",
       "<circle clip-path=\"url(#clip6702)\" style=\"fill:#009af9; stroke:none; fill-opacity:1\" cx=\"243.875\" cy=\"76.5452\" r=\"3\"/>\n",
       "<circle clip-path=\"url(#clip6702)\" style=\"fill:#000000; stroke:none; fill-opacity:1\" cx=\"247.125\" cy=\"171.514\" r=\"4\"/>\n",
       "<circle clip-path=\"url(#clip6702)\" style=\"fill:#009af9; stroke:none; fill-opacity:1\" cx=\"247.125\" cy=\"171.514\" r=\"3\"/>\n",
       "<circle clip-path=\"url(#clip6702)\" style=\"fill:#000000; stroke:none; fill-opacity:1\" cx=\"250.376\" cy=\"21.4905\" r=\"4\"/>\n",
       "<circle clip-path=\"url(#clip6702)\" style=\"fill:#009af9; stroke:none; fill-opacity:1\" cx=\"250.376\" cy=\"21.4905\" r=\"3\"/>\n",
       "<circle clip-path=\"url(#clip6702)\" style=\"fill:#000000; stroke:none; fill-opacity:1\" cx=\"253.627\" cy=\"26.4214\" r=\"4\"/>\n",
       "<circle clip-path=\"url(#clip6702)\" style=\"fill:#009af9; stroke:none; fill-opacity:1\" cx=\"253.627\" cy=\"26.4214\" r=\"3\"/>\n",
       "<circle clip-path=\"url(#clip6702)\" style=\"fill:#000000; stroke:none; fill-opacity:1\" cx=\"256.878\" cy=\"71.1946\" r=\"4\"/>\n",
       "<circle clip-path=\"url(#clip6702)\" style=\"fill:#009af9; stroke:none; fill-opacity:1\" cx=\"256.878\" cy=\"71.1946\" r=\"3\"/>\n",
       "<circle clip-path=\"url(#clip6702)\" style=\"fill:#000000; stroke:none; fill-opacity:1\" cx=\"260.129\" cy=\"232.511\" r=\"4\"/>\n",
       "<circle clip-path=\"url(#clip6702)\" style=\"fill:#009af9; stroke:none; fill-opacity:1\" cx=\"260.129\" cy=\"232.511\" r=\"3\"/>\n",
       "<circle clip-path=\"url(#clip6702)\" style=\"fill:#000000; stroke:none; fill-opacity:1\" cx=\"263.38\" cy=\"231.461\" r=\"4\"/>\n",
       "<circle clip-path=\"url(#clip6702)\" style=\"fill:#009af9; stroke:none; fill-opacity:1\" cx=\"263.38\" cy=\"231.461\" r=\"3\"/>\n",
       "<circle clip-path=\"url(#clip6702)\" style=\"fill:#000000; stroke:none; fill-opacity:1\" cx=\"266.631\" cy=\"32.6359\" r=\"4\"/>\n",
       "<circle clip-path=\"url(#clip6702)\" style=\"fill:#009af9; stroke:none; fill-opacity:1\" cx=\"266.631\" cy=\"32.6359\" r=\"3\"/>\n",
       "<circle clip-path=\"url(#clip6702)\" style=\"fill:#000000; stroke:none; fill-opacity:1\" cx=\"269.882\" cy=\"157.021\" r=\"4\"/>\n",
       "<circle clip-path=\"url(#clip6702)\" style=\"fill:#009af9; stroke:none; fill-opacity:1\" cx=\"269.882\" cy=\"157.021\" r=\"3\"/>\n",
       "<circle clip-path=\"url(#clip6702)\" style=\"fill:#000000; stroke:none; fill-opacity:1\" cx=\"273.133\" cy=\"170.675\" r=\"4\"/>\n",
       "<circle clip-path=\"url(#clip6702)\" style=\"fill:#009af9; stroke:none; fill-opacity:1\" cx=\"273.133\" cy=\"170.675\" r=\"3\"/>\n",
       "<circle clip-path=\"url(#clip6702)\" style=\"fill:#000000; stroke:none; fill-opacity:1\" cx=\"276.384\" cy=\"219.817\" r=\"4\"/>\n",
       "<circle clip-path=\"url(#clip6702)\" style=\"fill:#009af9; stroke:none; fill-opacity:1\" cx=\"276.384\" cy=\"219.817\" r=\"3\"/>\n",
       "<circle clip-path=\"url(#clip6702)\" style=\"fill:#000000; stroke:none; fill-opacity:1\" cx=\"279.634\" cy=\"237.518\" r=\"4\"/>\n",
       "<circle clip-path=\"url(#clip6702)\" style=\"fill:#009af9; stroke:none; fill-opacity:1\" cx=\"279.634\" cy=\"237.518\" r=\"3\"/>\n",
       "<circle clip-path=\"url(#clip6702)\" style=\"fill:#000000; stroke:none; fill-opacity:1\" cx=\"282.885\" cy=\"117.509\" r=\"4\"/>\n",
       "<circle clip-path=\"url(#clip6702)\" style=\"fill:#009af9; stroke:none; fill-opacity:1\" cx=\"282.885\" cy=\"117.509\" r=\"3\"/>\n",
       "<circle clip-path=\"url(#clip6702)\" style=\"fill:#000000; stroke:none; fill-opacity:1\" cx=\"286.136\" cy=\"212.875\" r=\"4\"/>\n",
       "<circle clip-path=\"url(#clip6702)\" style=\"fill:#009af9; stroke:none; fill-opacity:1\" cx=\"286.136\" cy=\"212.875\" r=\"3\"/>\n",
       "<circle clip-path=\"url(#clip6702)\" style=\"fill:#000000; stroke:none; fill-opacity:1\" cx=\"289.387\" cy=\"219.067\" r=\"4\"/>\n",
       "<circle clip-path=\"url(#clip6702)\" style=\"fill:#009af9; stroke:none; fill-opacity:1\" cx=\"289.387\" cy=\"219.067\" r=\"3\"/>\n",
       "<circle clip-path=\"url(#clip6702)\" style=\"fill:#000000; stroke:none; fill-opacity:1\" cx=\"292.638\" cy=\"153.806\" r=\"4\"/>\n",
       "<circle clip-path=\"url(#clip6702)\" style=\"fill:#009af9; stroke:none; fill-opacity:1\" cx=\"292.638\" cy=\"153.806\" r=\"3\"/>\n",
       "<circle clip-path=\"url(#clip6702)\" style=\"fill:#000000; stroke:none; fill-opacity:1\" cx=\"295.889\" cy=\"223.393\" r=\"4\"/>\n",
       "<circle clip-path=\"url(#clip6702)\" style=\"fill:#009af9; stroke:none; fill-opacity:1\" cx=\"295.889\" cy=\"223.393\" r=\"3\"/>\n",
       "<circle clip-path=\"url(#clip6702)\" style=\"fill:#000000; stroke:none; fill-opacity:1\" cx=\"299.14\" cy=\"157.378\" r=\"4\"/>\n",
       "<circle clip-path=\"url(#clip6702)\" style=\"fill:#009af9; stroke:none; fill-opacity:1\" cx=\"299.14\" cy=\"157.378\" r=\"3\"/>\n",
       "<circle clip-path=\"url(#clip6702)\" style=\"fill:#000000; stroke:none; fill-opacity:1\" cx=\"302.391\" cy=\"200.793\" r=\"4\"/>\n",
       "<circle clip-path=\"url(#clip6702)\" style=\"fill:#009af9; stroke:none; fill-opacity:1\" cx=\"302.391\" cy=\"200.793\" r=\"3\"/>\n",
       "<circle clip-path=\"url(#clip6702)\" style=\"fill:#000000; stroke:none; fill-opacity:1\" cx=\"305.642\" cy=\"111.301\" r=\"4\"/>\n",
       "<circle clip-path=\"url(#clip6702)\" style=\"fill:#009af9; stroke:none; fill-opacity:1\" cx=\"305.642\" cy=\"111.301\" r=\"3\"/>\n",
       "<circle clip-path=\"url(#clip6702)\" style=\"fill:#000000; stroke:none; fill-opacity:1\" cx=\"308.893\" cy=\"47.5883\" r=\"4\"/>\n",
       "<circle clip-path=\"url(#clip6702)\" style=\"fill:#009af9; stroke:none; fill-opacity:1\" cx=\"308.893\" cy=\"47.5883\" r=\"3\"/>\n",
       "<circle clip-path=\"url(#clip6702)\" style=\"fill:#000000; stroke:none; fill-opacity:1\" cx=\"312.144\" cy=\"143.726\" r=\"4\"/>\n",
       "<circle clip-path=\"url(#clip6702)\" style=\"fill:#009af9; stroke:none; fill-opacity:1\" cx=\"312.144\" cy=\"143.726\" r=\"3\"/>\n",
       "<circle clip-path=\"url(#clip6702)\" style=\"fill:#000000; stroke:none; fill-opacity:1\" cx=\"315.394\" cy=\"86.5308\" r=\"4\"/>\n",
       "<circle clip-path=\"url(#clip6702)\" style=\"fill:#009af9; stroke:none; fill-opacity:1\" cx=\"315.394\" cy=\"86.5308\" r=\"3\"/>\n",
       "<circle clip-path=\"url(#clip6702)\" style=\"fill:#000000; stroke:none; fill-opacity:1\" cx=\"318.645\" cy=\"130.186\" r=\"4\"/>\n",
       "<circle clip-path=\"url(#clip6702)\" style=\"fill:#009af9; stroke:none; fill-opacity:1\" cx=\"318.645\" cy=\"130.186\" r=\"3\"/>\n",
       "<circle clip-path=\"url(#clip6702)\" style=\"fill:#000000; stroke:none; fill-opacity:1\" cx=\"321.896\" cy=\"19.2547\" r=\"4\"/>\n",
       "<circle clip-path=\"url(#clip6702)\" style=\"fill:#009af9; stroke:none; fill-opacity:1\" cx=\"321.896\" cy=\"19.2547\" r=\"3\"/>\n",
       "<circle clip-path=\"url(#clip6702)\" style=\"fill:#000000; stroke:none; fill-opacity:1\" cx=\"325.147\" cy=\"28.8791\" r=\"4\"/>\n",
       "<circle clip-path=\"url(#clip6702)\" style=\"fill:#009af9; stroke:none; fill-opacity:1\" cx=\"325.147\" cy=\"28.8791\" r=\"3\"/>\n",
       "<circle clip-path=\"url(#clip6702)\" style=\"fill:#000000; stroke:none; fill-opacity:1\" cx=\"328.398\" cy=\"144.614\" r=\"4\"/>\n",
       "<circle clip-path=\"url(#clip6702)\" style=\"fill:#009af9; stroke:none; fill-opacity:1\" cx=\"328.398\" cy=\"144.614\" r=\"3\"/>\n",
       "<circle clip-path=\"url(#clip6702)\" style=\"fill:#000000; stroke:none; fill-opacity:1\" cx=\"331.649\" cy=\"129.103\" r=\"4\"/>\n",
       "<circle clip-path=\"url(#clip6702)\" style=\"fill:#009af9; stroke:none; fill-opacity:1\" cx=\"331.649\" cy=\"129.103\" r=\"3\"/>\n",
       "<circle clip-path=\"url(#clip6702)\" style=\"fill:#000000; stroke:none; fill-opacity:1\" cx=\"334.9\" cy=\"37.6147\" r=\"4\"/>\n",
       "<circle clip-path=\"url(#clip6702)\" style=\"fill:#009af9; stroke:none; fill-opacity:1\" cx=\"334.9\" cy=\"37.6147\" r=\"3\"/>\n",
       "<circle clip-path=\"url(#clip6702)\" style=\"fill:#000000; stroke:none; fill-opacity:1\" cx=\"338.151\" cy=\"122.164\" r=\"4\"/>\n",
       "<circle clip-path=\"url(#clip6702)\" style=\"fill:#009af9; stroke:none; fill-opacity:1\" cx=\"338.151\" cy=\"122.164\" r=\"3\"/>\n",
       "<circle clip-path=\"url(#clip6702)\" style=\"fill:#000000; stroke:none; fill-opacity:1\" cx=\"341.402\" cy=\"42.1357\" r=\"4\"/>\n",
       "<circle clip-path=\"url(#clip6702)\" style=\"fill:#009af9; stroke:none; fill-opacity:1\" cx=\"341.402\" cy=\"42.1357\" r=\"3\"/>\n",
       "<circle clip-path=\"url(#clip6702)\" style=\"fill:#000000; stroke:none; fill-opacity:1\" cx=\"344.653\" cy=\"44.6137\" r=\"4\"/>\n",
       "<circle clip-path=\"url(#clip6702)\" style=\"fill:#009af9; stroke:none; fill-opacity:1\" cx=\"344.653\" cy=\"44.6137\" r=\"3\"/>\n",
       "<circle clip-path=\"url(#clip6702)\" style=\"fill:#000000; stroke:none; fill-opacity:1\" cx=\"347.903\" cy=\"87.1576\" r=\"4\"/>\n",
       "<circle clip-path=\"url(#clip6702)\" style=\"fill:#009af9; stroke:none; fill-opacity:1\" cx=\"347.903\" cy=\"87.1576\" r=\"3\"/>\n",
       "<circle clip-path=\"url(#clip6702)\" style=\"fill:#000000; stroke:none; fill-opacity:1\" cx=\"351.154\" cy=\"191.98\" r=\"4\"/>\n",
       "<circle clip-path=\"url(#clip6702)\" style=\"fill:#009af9; stroke:none; fill-opacity:1\" cx=\"351.154\" cy=\"191.98\" r=\"3\"/>\n",
       "<circle clip-path=\"url(#clip6702)\" style=\"fill:#000000; stroke:none; fill-opacity:1\" cx=\"354.405\" cy=\"82.9277\" r=\"4\"/>\n",
       "<circle clip-path=\"url(#clip6702)\" style=\"fill:#009af9; stroke:none; fill-opacity:1\" cx=\"354.405\" cy=\"82.9277\" r=\"3\"/>\n",
       "<circle clip-path=\"url(#clip6702)\" style=\"fill:#000000; stroke:none; fill-opacity:1\" cx=\"357.656\" cy=\"91.6551\" r=\"4\"/>\n",
       "<circle clip-path=\"url(#clip6702)\" style=\"fill:#009af9; stroke:none; fill-opacity:1\" cx=\"357.656\" cy=\"91.6551\" r=\"3\"/>\n",
       "<circle clip-path=\"url(#clip6702)\" style=\"fill:#000000; stroke:none; fill-opacity:1\" cx=\"360.907\" cy=\"213.763\" r=\"4\"/>\n",
       "<circle clip-path=\"url(#clip6702)\" style=\"fill:#009af9; stroke:none; fill-opacity:1\" cx=\"360.907\" cy=\"213.763\" r=\"3\"/>\n",
       "<circle clip-path=\"url(#clip6702)\" style=\"fill:#000000; stroke:none; fill-opacity:1\" cx=\"364.158\" cy=\"256.632\" r=\"4\"/>\n",
       "<circle clip-path=\"url(#clip6702)\" style=\"fill:#009af9; stroke:none; fill-opacity:1\" cx=\"364.158\" cy=\"256.632\" r=\"3\"/>\n",
       "<circle clip-path=\"url(#clip6702)\" style=\"fill:#000000; stroke:none; fill-opacity:1\" cx=\"367.409\" cy=\"83.4578\" r=\"4\"/>\n",
       "<circle clip-path=\"url(#clip6702)\" style=\"fill:#009af9; stroke:none; fill-opacity:1\" cx=\"367.409\" cy=\"83.4578\" r=\"3\"/>\n",
       "<circle clip-path=\"url(#clip6702)\" style=\"fill:#000000; stroke:none; fill-opacity:1\" cx=\"370.66\" cy=\"170.39\" r=\"4\"/>\n",
       "<circle clip-path=\"url(#clip6702)\" style=\"fill:#009af9; stroke:none; fill-opacity:1\" cx=\"370.66\" cy=\"170.39\" r=\"3\"/>\n",
       "<polygon clip-path=\"url(#clip6700)\" points=\"\n",
       "315.608,50.931 368.315,50.931 368.315,20.691 315.608,20.691 \n",
       "  \" fill=\"#ffffff\" fill-opacity=\"1\"/>\n",
       "<polyline clip-path=\"url(#clip6700)\" style=\"stroke:#000000; stroke-width:1; stroke-opacity:1; fill:none\" points=\"\n",
       "  315.608,50.931 368.315,50.931 368.315,20.691 315.608,20.691 315.608,50.931 \n",
       "  \"/>\n",
       "<circle clip-path=\"url(#clip6700)\" style=\"fill:#000000; stroke:none; fill-opacity:1\" cx=\"333.608\" cy=\"35.811\" r=\"6\"/>\n",
       "<circle clip-path=\"url(#clip6700)\" style=\"fill:#009af9; stroke:none; fill-opacity:1\" cx=\"333.608\" cy=\"35.811\" r=\"5\"/>\n",
       "<g clip-path=\"url(#clip6700)\">\n",
       "<text style=\"fill:#000000; fill-opacity:1; font-family:Arial,Helvetica Neue,Helvetica,sans-serif; font-size:12; text-anchor:start;\" transform=\"rotate(0, 347.608, 40.311)\" x=\"347.608\" y=\"40.311\">y1</text>\n",
       "</g>\n",
       "</svg>\n"
      ]
     },
     "execution_count": 157,
     "metadata": {},
     "output_type": "execute_result"
    }
   ],
   "source": [
    "scatter(x, rand(100))"
   ]
  },
  {
   "cell_type": "code",
   "execution_count": 158,
   "metadata": {},
   "outputs": [
    {
     "data": {
      "image/svg+xml": [
       "<?xml version=\"1.0\" encoding=\"utf-8\"?>\n",
       "<svg xmlns=\"http://www.w3.org/2000/svg\" xmlns:xlink=\"http://www.w3.org/1999/xlink\" width=\"400\" height=\"300\" viewBox=\"0 0 400 300\">\n",
       "<defs>\n",
       "  <clipPath id=\"clip6900\">\n",
       "    <rect x=\"0\" y=\"0\" width=\"400\" height=\"300\"/>\n",
       "  </clipPath>\n",
       "</defs>\n",
       "<polygon clip-path=\"url(#clip6900)\" points=\"\n",
       "0,300 400,300 400,0 0,0 \n",
       "  \" fill=\"#ffffff\" fill-opacity=\"1\"/>\n",
       "<defs>\n",
       "  <clipPath id=\"clip6901\">\n",
       "    <rect x=\"80\" y=\"0\" width=\"281\" height=\"281\"/>\n",
       "  </clipPath>\n",
       "</defs>\n",
       "<polygon clip-path=\"url(#clip6900)\" points=\"\n",
       "36.1567,274.821 380.315,274.821 380.315,11.811 36.1567,11.811 \n",
       "  \" fill=\"#ffffff\" fill-opacity=\"1\"/>\n",
       "<defs>\n",
       "  <clipPath id=\"clip6902\">\n",
       "    <rect x=\"36\" y=\"11\" width=\"345\" height=\"264\"/>\n",
       "  </clipPath>\n",
       "</defs>\n",
       "<polyline clip-path=\"url(#clip6902)\" style=\"stroke:#000000; stroke-width:0.5; stroke-opacity:0.1; fill:none\" points=\"\n",
       "  104.167,274.821 104.167,11.811 \n",
       "  \"/>\n",
       "<polyline clip-path=\"url(#clip6902)\" style=\"stroke:#000000; stroke-width:0.5; stroke-opacity:0.1; fill:none\" points=\"\n",
       "  173.022,274.821 173.022,11.811 \n",
       "  \"/>\n",
       "<polyline clip-path=\"url(#clip6902)\" style=\"stroke:#000000; stroke-width:0.5; stroke-opacity:0.1; fill:none\" points=\"\n",
       "  241.877,274.821 241.877,11.811 \n",
       "  \"/>\n",
       "<polyline clip-path=\"url(#clip6902)\" style=\"stroke:#000000; stroke-width:0.5; stroke-opacity:0.1; fill:none\" points=\"\n",
       "  310.732,274.821 310.732,11.811 \n",
       "  \"/>\n",
       "<polyline clip-path=\"url(#clip6902)\" style=\"stroke:#000000; stroke-width:0.5; stroke-opacity:0.1; fill:none\" points=\"\n",
       "  379.587,274.821 379.587,11.811 \n",
       "  \"/>\n",
       "<polyline clip-path=\"url(#clip6902)\" style=\"stroke:#000000; stroke-width:0.5; stroke-opacity:0.1; fill:none\" points=\"\n",
       "  36.1567,260.503 380.315,260.503 \n",
       "  \"/>\n",
       "<polyline clip-path=\"url(#clip6902)\" style=\"stroke:#000000; stroke-width:0.5; stroke-opacity:0.1; fill:none\" points=\"\n",
       "  36.1567,191.1 380.315,191.1 \n",
       "  \"/>\n",
       "<polyline clip-path=\"url(#clip6902)\" style=\"stroke:#000000; stroke-width:0.5; stroke-opacity:0.1; fill:none\" points=\"\n",
       "  36.1567,121.698 380.315,121.698 \n",
       "  \"/>\n",
       "<polyline clip-path=\"url(#clip6902)\" style=\"stroke:#000000; stroke-width:0.5; stroke-opacity:0.1; fill:none\" points=\"\n",
       "  36.1567,52.2956 380.315,52.2956 \n",
       "  \"/>\n",
       "<polyline clip-path=\"url(#clip6900)\" style=\"stroke:#000000; stroke-width:1; stroke-opacity:1; fill:none\" points=\"\n",
       "  36.1567,274.821 380.315,274.821 \n",
       "  \"/>\n",
       "<polyline clip-path=\"url(#clip6900)\" style=\"stroke:#000000; stroke-width:1; stroke-opacity:1; fill:none\" points=\"\n",
       "  36.1567,274.821 36.1567,11.811 \n",
       "  \"/>\n",
       "<polyline clip-path=\"url(#clip6900)\" style=\"stroke:#000000; stroke-width:1; stroke-opacity:1; fill:none\" points=\"\n",
       "  104.167,274.821 104.167,270.876 \n",
       "  \"/>\n",
       "<polyline clip-path=\"url(#clip6900)\" style=\"stroke:#000000; stroke-width:1; stroke-opacity:1; fill:none\" points=\"\n",
       "  173.022,274.821 173.022,270.876 \n",
       "  \"/>\n",
       "<polyline clip-path=\"url(#clip6900)\" style=\"stroke:#000000; stroke-width:1; stroke-opacity:1; fill:none\" points=\"\n",
       "  241.877,274.821 241.877,270.876 \n",
       "  \"/>\n",
       "<polyline clip-path=\"url(#clip6900)\" style=\"stroke:#000000; stroke-width:1; stroke-opacity:1; fill:none\" points=\"\n",
       "  310.732,274.821 310.732,270.876 \n",
       "  \"/>\n",
       "<polyline clip-path=\"url(#clip6900)\" style=\"stroke:#000000; stroke-width:1; stroke-opacity:1; fill:none\" points=\"\n",
       "  379.587,274.821 379.587,270.876 \n",
       "  \"/>\n",
       "<polyline clip-path=\"url(#clip6900)\" style=\"stroke:#000000; stroke-width:1; stroke-opacity:1; fill:none\" points=\"\n",
       "  36.1567,260.503 41.3191,260.503 \n",
       "  \"/>\n",
       "<polyline clip-path=\"url(#clip6900)\" style=\"stroke:#000000; stroke-width:1; stroke-opacity:1; fill:none\" points=\"\n",
       "  36.1567,191.1 41.3191,191.1 \n",
       "  \"/>\n",
       "<polyline clip-path=\"url(#clip6900)\" style=\"stroke:#000000; stroke-width:1; stroke-opacity:1; fill:none\" points=\"\n",
       "  36.1567,121.698 41.3191,121.698 \n",
       "  \"/>\n",
       "<polyline clip-path=\"url(#clip6900)\" style=\"stroke:#000000; stroke-width:1; stroke-opacity:1; fill:none\" points=\"\n",
       "  36.1567,52.2956 41.3191,52.2956 \n",
       "  \"/>\n",
       "<g clip-path=\"url(#clip6900)\">\n",
       "<text style=\"fill:#000000; fill-opacity:1; font-family:Arial,Helvetica Neue,Helvetica,sans-serif; font-size:12; text-anchor:middle;\" transform=\"rotate(0, 104.167, 287.621)\" x=\"104.167\" y=\"287.621\">2.5</text>\n",
       "</g>\n",
       "<g clip-path=\"url(#clip6900)\">\n",
       "<text style=\"fill:#000000; fill-opacity:1; font-family:Arial,Helvetica Neue,Helvetica,sans-serif; font-size:12; text-anchor:middle;\" transform=\"rotate(0, 173.022, 287.621)\" x=\"173.022\" y=\"287.621\">5.0</text>\n",
       "</g>\n",
       "<g clip-path=\"url(#clip6900)\">\n",
       "<text style=\"fill:#000000; fill-opacity:1; font-family:Arial,Helvetica Neue,Helvetica,sans-serif; font-size:12; text-anchor:middle;\" transform=\"rotate(0, 241.877, 287.621)\" x=\"241.877\" y=\"287.621\">7.5</text>\n",
       "</g>\n",
       "<g clip-path=\"url(#clip6900)\">\n",
       "<text style=\"fill:#000000; fill-opacity:1; font-family:Arial,Helvetica Neue,Helvetica,sans-serif; font-size:12; text-anchor:middle;\" transform=\"rotate(0, 310.732, 287.621)\" x=\"310.732\" y=\"287.621\">10.0</text>\n",
       "</g>\n",
       "<g clip-path=\"url(#clip6900)\">\n",
       "<text style=\"fill:#000000; fill-opacity:1; font-family:Arial,Helvetica Neue,Helvetica,sans-serif; font-size:12; text-anchor:middle;\" transform=\"rotate(0, 379.587, 287.621)\" x=\"379.587\" y=\"287.621\">12.5</text>\n",
       "</g>\n",
       "<g clip-path=\"url(#clip6900)\">\n",
       "<text style=\"fill:#000000; fill-opacity:1; font-family:Arial,Helvetica Neue,Helvetica,sans-serif; font-size:12; text-anchor:end;\" transform=\"rotate(0, 32.1567, 265.003)\" x=\"32.1567\" y=\"265.003\">-10</text>\n",
       "</g>\n",
       "<g clip-path=\"url(#clip6900)\">\n",
       "<text style=\"fill:#000000; fill-opacity:1; font-family:Arial,Helvetica Neue,Helvetica,sans-serif; font-size:12; text-anchor:end;\" transform=\"rotate(0, 32.1567, 195.6)\" x=\"32.1567\" y=\"195.6\">-5</text>\n",
       "</g>\n",
       "<g clip-path=\"url(#clip6900)\">\n",
       "<text style=\"fill:#000000; fill-opacity:1; font-family:Arial,Helvetica Neue,Helvetica,sans-serif; font-size:12; text-anchor:end;\" transform=\"rotate(0, 32.1567, 126.198)\" x=\"32.1567\" y=\"126.198\">0</text>\n",
       "</g>\n",
       "<g clip-path=\"url(#clip6900)\">\n",
       "<text style=\"fill:#000000; fill-opacity:1; font-family:Arial,Helvetica Neue,Helvetica,sans-serif; font-size:12; text-anchor:end;\" transform=\"rotate(0, 32.1567, 56.7956)\" x=\"32.1567\" y=\"56.7956\">5</text>\n",
       "</g>\n",
       "<polyline clip-path=\"url(#clip6902)\" style=\"stroke:#009af9; stroke-width:1; stroke-opacity:1; fill:none\" points=\"\n",
       "  36.1567,121.685 37.0017,121.646 37.8467,121.581 38.6917,121.489 46.5049,119.468 54.3181,115.6 62.1313,110.52 69.9445,105.094 74.6399,102.08 79.3353,99.5197 \n",
       "  84.0307,97.6251 88.7261,96.5864 92.696,96.4966 96.6659,97.2113 100.636,98.7849 104.606,101.246 108.918,104.928 113.231,109.625 117.543,115.262 121.855,121.726 \n",
       "  129.807,135.286 137.758,149.909 142.021,157.674 146.283,165.071 150.545,171.85 154.808,177.764 159.746,183.228 164.684,186.891 167.153,187.958 169.623,188.477 \n",
       "  172.092,188.423 174.561,187.777 178.95,185.127 183.338,180.533 187.727,174.016 192.115,165.66 195.964,156.929 199.812,147.026 203.661,136.114 207.509,124.389 \n",
       "  215.901,97.0999 224.292,69.6341 228.513,56.6492 232.734,44.7057 236.955,34.1556 241.175,25.3275 243.509,21.2962 245.842,17.9272 248.175,15.261 250.509,13.3334 \n",
       "  252.842,12.175 255.175,11.811 257.508,12.2608 259.842,13.5377 262.062,15.5271 264.282,18.2727 266.502,21.7698 268.722,26.0085 270.942,30.9734 273.162,36.6437 \n",
       "  275.382,42.9933 277.602,49.9908 279.911,57.9146 282.219,66.4528 284.527,75.5533 286.836,85.159 291.452,105.633 296.069,127.328 303.842,164.918 311.614,201.157 \n",
       "  313.987,211.465 316.359,221.265 318.731,230.473 321.104,239.007 323.476,246.792 325.848,253.753 328.221,259.824 330.593,264.943 332.823,268.839 335.053,271.805 \n",
       "  337.283,273.809 339.513,274.821 341.744,274.821 343.974,273.794 346.204,271.732 348.434,268.634 350.22,265.41 352.007,261.532 353.793,257.01 355.579,251.856 \n",
       "  357.366,246.085 359.152,239.717 360.938,232.772 362.725,225.273 366.298,208.726 369.87,190.319 373.443,170.334 377.016,149.085 378.116,142.342 379.215,135.523 \n",
       "  380.315,128.638 \n",
       "  \"/>\n",
       "<polygon clip-path=\"url(#clip6900)\" points=\"\n",
       "315.608,50.931 368.315,50.931 368.315,20.691 315.608,20.691 \n",
       "  \" fill=\"#ffffff\" fill-opacity=\"1\"/>\n",
       "<polyline clip-path=\"url(#clip6900)\" style=\"stroke:#000000; stroke-width:1; stroke-opacity:1; fill:none\" points=\"\n",
       "  315.608,50.931 368.315,50.931 368.315,20.691 315.608,20.691 315.608,50.931 \n",
       "  \"/>\n",
       "<polyline clip-path=\"url(#clip6900)\" style=\"stroke:#009af9; stroke-width:1; stroke-opacity:1; fill:none\" points=\"\n",
       "  319.608,35.811 343.608,35.811 \n",
       "  \"/>\n",
       "<g clip-path=\"url(#clip6900)\">\n",
       "<text style=\"fill:#000000; fill-opacity:1; font-family:Arial,Helvetica Neue,Helvetica,sans-serif; font-size:12; text-anchor:start;\" transform=\"rotate(0, 347.608, 40.311)\" x=\"347.608\" y=\"40.311\">y1</text>\n",
       "</g>\n",
       "</svg>\n"
      ]
     },
     "execution_count": 158,
     "metadata": {},
     "output_type": "execute_result"
    }
   ],
   "source": [
    "f(x) = x * sin(x)\n",
    "plot(f, 0, 4pi) # plot(f, a, b)"
   ]
  },
  {
   "cell_type": "code",
   "execution_count": 159,
   "metadata": {},
   "outputs": [
    {
     "data": {
      "image/svg+xml": [
       "<?xml version=\"1.0\" encoding=\"utf-8\"?>\n",
       "<svg xmlns=\"http://www.w3.org/2000/svg\" xmlns:xlink=\"http://www.w3.org/1999/xlink\" width=\"400\" height=\"300\" viewBox=\"0 0 400 300\">\n",
       "<defs>\n",
       "  <clipPath id=\"clip7100\">\n",
       "    <rect x=\"0\" y=\"0\" width=\"400\" height=\"300\"/>\n",
       "  </clipPath>\n",
       "</defs>\n",
       "<polygon clip-path=\"url(#clip7100)\" points=\"\n",
       "0,300 400,300 400,0 0,0 \n",
       "  \" fill=\"#ffffff\" fill-opacity=\"1\"/>\n",
       "<defs>\n",
       "  <clipPath id=\"clip7101\">\n",
       "    <rect x=\"80\" y=\"0\" width=\"281\" height=\"281\"/>\n",
       "  </clipPath>\n",
       "</defs>\n",
       "<polygon clip-path=\"url(#clip7100)\" points=\"\n",
       "32.4745,274.821 380.315,274.821 380.315,11.811 32.4745,11.811 \n",
       "  \" fill=\"#ffffff\" fill-opacity=\"1\"/>\n",
       "<defs>\n",
       "  <clipPath id=\"clip7102\">\n",
       "    <rect x=\"32\" y=\"11\" width=\"349\" height=\"264\"/>\n",
       "  </clipPath>\n",
       "</defs>\n",
       "<polyline clip-path=\"url(#clip7102)\" style=\"stroke:#000000; stroke-width:0.5; stroke-opacity:0.1; fill:none\" points=\"\n",
       "  73.0832,274.821 73.0832,11.811 \n",
       "  \"/>\n",
       "<polyline clip-path=\"url(#clip7102)\" style=\"stroke:#000000; stroke-width:0.5; stroke-opacity:0.1; fill:none\" points=\"\n",
       "  117.133,274.821 117.133,11.811 \n",
       "  \"/>\n",
       "<polyline clip-path=\"url(#clip7102)\" style=\"stroke:#000000; stroke-width:0.5; stroke-opacity:0.1; fill:none\" points=\"\n",
       "  161.184,274.821 161.184,11.811 \n",
       "  \"/>\n",
       "<polyline clip-path=\"url(#clip7102)\" style=\"stroke:#000000; stroke-width:0.5; stroke-opacity:0.1; fill:none\" points=\"\n",
       "  205.234,274.821 205.234,11.811 \n",
       "  \"/>\n",
       "<polyline clip-path=\"url(#clip7102)\" style=\"stroke:#000000; stroke-width:0.5; stroke-opacity:0.1; fill:none\" points=\"\n",
       "  249.284,274.821 249.284,11.811 \n",
       "  \"/>\n",
       "<polyline clip-path=\"url(#clip7102)\" style=\"stroke:#000000; stroke-width:0.5; stroke-opacity:0.1; fill:none\" points=\"\n",
       "  293.334,274.821 293.334,11.811 \n",
       "  \"/>\n",
       "<polyline clip-path=\"url(#clip7102)\" style=\"stroke:#000000; stroke-width:0.5; stroke-opacity:0.1; fill:none\" points=\"\n",
       "  337.384,274.821 337.384,11.811 \n",
       "  \"/>\n",
       "<polyline clip-path=\"url(#clip7102)\" style=\"stroke:#000000; stroke-width:0.5; stroke-opacity:0.1; fill:none\" points=\"\n",
       "  32.4745,243.121 380.315,243.121 \n",
       "  \"/>\n",
       "<polyline clip-path=\"url(#clip7102)\" style=\"stroke:#000000; stroke-width:0.5; stroke-opacity:0.1; fill:none\" points=\"\n",
       "  32.4745,200.029 380.315,200.029 \n",
       "  \"/>\n",
       "<polyline clip-path=\"url(#clip7102)\" style=\"stroke:#000000; stroke-width:0.5; stroke-opacity:0.1; fill:none\" points=\"\n",
       "  32.4745,156.937 380.315,156.937 \n",
       "  \"/>\n",
       "<polyline clip-path=\"url(#clip7102)\" style=\"stroke:#000000; stroke-width:0.5; stroke-opacity:0.1; fill:none\" points=\"\n",
       "  32.4745,113.845 380.315,113.845 \n",
       "  \"/>\n",
       "<polyline clip-path=\"url(#clip7102)\" style=\"stroke:#000000; stroke-width:0.5; stroke-opacity:0.1; fill:none\" points=\"\n",
       "  32.4745,70.7525 380.315,70.7525 \n",
       "  \"/>\n",
       "<polyline clip-path=\"url(#clip7102)\" style=\"stroke:#000000; stroke-width:0.5; stroke-opacity:0.1; fill:none\" points=\"\n",
       "  32.4745,27.6603 380.315,27.6603 \n",
       "  \"/>\n",
       "<polyline clip-path=\"url(#clip7100)\" style=\"stroke:#000000; stroke-width:1; stroke-opacity:1; fill:none\" points=\"\n",
       "  32.4745,274.821 380.315,274.821 \n",
       "  \"/>\n",
       "<polyline clip-path=\"url(#clip7100)\" style=\"stroke:#000000; stroke-width:1; stroke-opacity:1; fill:none\" points=\"\n",
       "  32.4745,274.821 32.4745,11.811 \n",
       "  \"/>\n",
       "<polyline clip-path=\"url(#clip7100)\" style=\"stroke:#000000; stroke-width:1; stroke-opacity:1; fill:none\" points=\"\n",
       "  73.0832,274.821 73.0832,270.876 \n",
       "  \"/>\n",
       "<polyline clip-path=\"url(#clip7100)\" style=\"stroke:#000000; stroke-width:1; stroke-opacity:1; fill:none\" points=\"\n",
       "  117.133,274.821 117.133,270.876 \n",
       "  \"/>\n",
       "<polyline clip-path=\"url(#clip7100)\" style=\"stroke:#000000; stroke-width:1; stroke-opacity:1; fill:none\" points=\"\n",
       "  161.184,274.821 161.184,270.876 \n",
       "  \"/>\n",
       "<polyline clip-path=\"url(#clip7100)\" style=\"stroke:#000000; stroke-width:1; stroke-opacity:1; fill:none\" points=\"\n",
       "  205.234,274.821 205.234,270.876 \n",
       "  \"/>\n",
       "<polyline clip-path=\"url(#clip7100)\" style=\"stroke:#000000; stroke-width:1; stroke-opacity:1; fill:none\" points=\"\n",
       "  249.284,274.821 249.284,270.876 \n",
       "  \"/>\n",
       "<polyline clip-path=\"url(#clip7100)\" style=\"stroke:#000000; stroke-width:1; stroke-opacity:1; fill:none\" points=\"\n",
       "  293.334,274.821 293.334,270.876 \n",
       "  \"/>\n",
       "<polyline clip-path=\"url(#clip7100)\" style=\"stroke:#000000; stroke-width:1; stroke-opacity:1; fill:none\" points=\"\n",
       "  337.384,274.821 337.384,270.876 \n",
       "  \"/>\n",
       "<polyline clip-path=\"url(#clip7100)\" style=\"stroke:#000000; stroke-width:1; stroke-opacity:1; fill:none\" points=\"\n",
       "  32.4745,243.121 37.6921,243.121 \n",
       "  \"/>\n",
       "<polyline clip-path=\"url(#clip7100)\" style=\"stroke:#000000; stroke-width:1; stroke-opacity:1; fill:none\" points=\"\n",
       "  32.4745,200.029 37.6921,200.029 \n",
       "  \"/>\n",
       "<polyline clip-path=\"url(#clip7100)\" style=\"stroke:#000000; stroke-width:1; stroke-opacity:1; fill:none\" points=\"\n",
       "  32.4745,156.937 37.6921,156.937 \n",
       "  \"/>\n",
       "<polyline clip-path=\"url(#clip7100)\" style=\"stroke:#000000; stroke-width:1; stroke-opacity:1; fill:none\" points=\"\n",
       "  32.4745,113.845 37.6921,113.845 \n",
       "  \"/>\n",
       "<polyline clip-path=\"url(#clip7100)\" style=\"stroke:#000000; stroke-width:1; stroke-opacity:1; fill:none\" points=\"\n",
       "  32.4745,70.7525 37.6921,70.7525 \n",
       "  \"/>\n",
       "<polyline clip-path=\"url(#clip7100)\" style=\"stroke:#000000; stroke-width:1; stroke-opacity:1; fill:none\" points=\"\n",
       "  32.4745,27.6603 37.6921,27.6603 \n",
       "  \"/>\n",
       "<g clip-path=\"url(#clip7100)\">\n",
       "<text style=\"fill:#000000; fill-opacity:1; font-family:Arial,Helvetica Neue,Helvetica,sans-serif; font-size:12; text-anchor:middle;\" transform=\"rotate(0, 73.0832, 287.621)\" x=\"73.0832\" y=\"287.621\">-0.75</text>\n",
       "</g>\n",
       "<g clip-path=\"url(#clip7100)\">\n",
       "<text style=\"fill:#000000; fill-opacity:1; font-family:Arial,Helvetica Neue,Helvetica,sans-serif; font-size:12; text-anchor:middle;\" transform=\"rotate(0, 117.133, 287.621)\" x=\"117.133\" y=\"287.621\">-0.50</text>\n",
       "</g>\n",
       "<g clip-path=\"url(#clip7100)\">\n",
       "<text style=\"fill:#000000; fill-opacity:1; font-family:Arial,Helvetica Neue,Helvetica,sans-serif; font-size:12; text-anchor:middle;\" transform=\"rotate(0, 161.184, 287.621)\" x=\"161.184\" y=\"287.621\">-0.25</text>\n",
       "</g>\n",
       "<g clip-path=\"url(#clip7100)\">\n",
       "<text style=\"fill:#000000; fill-opacity:1; font-family:Arial,Helvetica Neue,Helvetica,sans-serif; font-size:12; text-anchor:middle;\" transform=\"rotate(0, 205.234, 287.621)\" x=\"205.234\" y=\"287.621\">0.00</text>\n",
       "</g>\n",
       "<g clip-path=\"url(#clip7100)\">\n",
       "<text style=\"fill:#000000; fill-opacity:1; font-family:Arial,Helvetica Neue,Helvetica,sans-serif; font-size:12; text-anchor:middle;\" transform=\"rotate(0, 249.284, 287.621)\" x=\"249.284\" y=\"287.621\">0.25</text>\n",
       "</g>\n",
       "<g clip-path=\"url(#clip7100)\">\n",
       "<text style=\"fill:#000000; fill-opacity:1; font-family:Arial,Helvetica Neue,Helvetica,sans-serif; font-size:12; text-anchor:middle;\" transform=\"rotate(0, 293.334, 287.621)\" x=\"293.334\" y=\"287.621\">0.50</text>\n",
       "</g>\n",
       "<g clip-path=\"url(#clip7100)\">\n",
       "<text style=\"fill:#000000; fill-opacity:1; font-family:Arial,Helvetica Neue,Helvetica,sans-serif; font-size:12; text-anchor:middle;\" transform=\"rotate(0, 337.384, 287.621)\" x=\"337.384\" y=\"287.621\">0.75</text>\n",
       "</g>\n",
       "<g clip-path=\"url(#clip7100)\">\n",
       "<text style=\"fill:#000000; fill-opacity:1; font-family:Arial,Helvetica Neue,Helvetica,sans-serif; font-size:12; text-anchor:end;\" transform=\"rotate(0, 28.4745, 247.621)\" x=\"28.4745\" y=\"247.621\">0.0</text>\n",
       "</g>\n",
       "<g clip-path=\"url(#clip7100)\">\n",
       "<text style=\"fill:#000000; fill-opacity:1; font-family:Arial,Helvetica Neue,Helvetica,sans-serif; font-size:12; text-anchor:end;\" transform=\"rotate(0, 28.4745, 204.529)\" x=\"28.4745\" y=\"204.529\">0.5</text>\n",
       "</g>\n",
       "<g clip-path=\"url(#clip7100)\">\n",
       "<text style=\"fill:#000000; fill-opacity:1; font-family:Arial,Helvetica Neue,Helvetica,sans-serif; font-size:12; text-anchor:end;\" transform=\"rotate(0, 28.4745, 161.437)\" x=\"28.4745\" y=\"161.437\">1.0</text>\n",
       "</g>\n",
       "<g clip-path=\"url(#clip7100)\">\n",
       "<text style=\"fill:#000000; fill-opacity:1; font-family:Arial,Helvetica Neue,Helvetica,sans-serif; font-size:12; text-anchor:end;\" transform=\"rotate(0, 28.4745, 118.345)\" x=\"28.4745\" y=\"118.345\">1.5</text>\n",
       "</g>\n",
       "<g clip-path=\"url(#clip7100)\">\n",
       "<text style=\"fill:#000000; fill-opacity:1; font-family:Arial,Helvetica Neue,Helvetica,sans-serif; font-size:12; text-anchor:end;\" transform=\"rotate(0, 28.4745, 75.2525)\" x=\"28.4745\" y=\"75.2525\">2.0</text>\n",
       "</g>\n",
       "<g clip-path=\"url(#clip7100)\">\n",
       "<text style=\"fill:#000000; fill-opacity:1; font-family:Arial,Helvetica Neue,Helvetica,sans-serif; font-size:12; text-anchor:end;\" transform=\"rotate(0, 28.4745, 32.1603)\" x=\"28.4745\" y=\"32.1603\">2.5</text>\n",
       "</g>\n",
       "<polyline clip-path=\"url(#clip7102)\" style=\"stroke:#009af9; stroke-width:1; stroke-opacity:1; fill:none\" points=\"\n",
       "  32.4745,274.821 64.296,274.101 83.4195,272.967 99.5881,271.493 117.152,269.255 133.344,266.504 150.704,262.694 170.816,256.969 188.69,250.488 204.364,243.545 \n",
       "  221.453,234.423 238.643,223.368 248.146,216.344 257.649,208.601 266.691,200.515 275.733,191.673 285.134,181.617 294.536,170.612 302.45,160.56 310.364,149.738 \n",
       "  320.026,135.408 329.688,119.759 338.771,103.754 347.854,86.401 355.129,71.4623 362.405,55.5427 369.68,38.586 376.956,20.5329 378.076,17.6534 379.195,14.7461 \n",
       "  380.315,11.811 \n",
       "  \"/>\n",
       "<polygon clip-path=\"url(#clip7100)\" points=\"\n",
       "315.608,50.931 368.315,50.931 368.315,20.691 315.608,20.691 \n",
       "  \" fill=\"#ffffff\" fill-opacity=\"1\"/>\n",
       "<polyline clip-path=\"url(#clip7100)\" style=\"stroke:#000000; stroke-width:1; stroke-opacity:1; fill:none\" points=\"\n",
       "  315.608,50.931 368.315,50.931 368.315,20.691 315.608,20.691 315.608,50.931 \n",
       "  \"/>\n",
       "<polyline clip-path=\"url(#clip7100)\" style=\"stroke:#009af9; stroke-width:1; stroke-opacity:1; fill:none\" points=\"\n",
       "  319.608,35.811 343.608,35.811 \n",
       "  \"/>\n",
       "<g clip-path=\"url(#clip7100)\">\n",
       "<text style=\"fill:#000000; fill-opacity:1; font-family:Arial,Helvetica Neue,Helvetica,sans-serif; font-size:12; text-anchor:start;\" transform=\"rotate(0, 347.608, 40.311)\" x=\"347.608\" y=\"40.311\">y1</text>\n",
       "</g>\n",
       "</svg>\n"
      ]
     },
     "execution_count": 159,
     "metadata": {},
     "output_type": "execute_result"
    }
   ],
   "source": [
    "plot(x -> exp(x) * x, -1, 1)"
   ]
  },
  {
   "cell_type": "code",
   "execution_count": 160,
   "metadata": {},
   "outputs": [
    {
     "data": {
      "image/svg+xml": [
       "<?xml version=\"1.0\" encoding=\"utf-8\"?>\n",
       "<svg xmlns=\"http://www.w3.org/2000/svg\" xmlns:xlink=\"http://www.w3.org/1999/xlink\" width=\"400\" height=\"300\" viewBox=\"0 0 400 300\">\n",
       "<defs>\n",
       "  <clipPath id=\"clip7300\">\n",
       "    <rect x=\"0\" y=\"0\" width=\"400\" height=\"300\"/>\n",
       "  </clipPath>\n",
       "</defs>\n",
       "<polygon clip-path=\"url(#clip7300)\" points=\"\n",
       "0,300 400,300 400,0 0,0 \n",
       "  \" fill=\"#ffffff\" fill-opacity=\"1\"/>\n",
       "<defs>\n",
       "  <clipPath id=\"clip7301\">\n",
       "    <rect x=\"80\" y=\"0\" width=\"281\" height=\"281\"/>\n",
       "  </clipPath>\n",
       "</defs>\n",
       "<polygon clip-path=\"url(#clip7300)\" points=\"\n",
       "32.4745,274.821 380.315,274.821 380.315,11.811 32.4745,11.811 \n",
       "  \" fill=\"#ffffff\" fill-opacity=\"1\"/>\n",
       "<defs>\n",
       "  <clipPath id=\"clip7302\">\n",
       "    <rect x=\"32\" y=\"11\" width=\"349\" height=\"264\"/>\n",
       "  </clipPath>\n",
       "</defs>\n",
       "<polyline clip-path=\"url(#clip7302)\" style=\"stroke:#000000; stroke-width:0.5; stroke-opacity:0.1; fill:none\" points=\"\n",
       "  73.0832,274.821 73.0832,11.811 \n",
       "  \"/>\n",
       "<polyline clip-path=\"url(#clip7302)\" style=\"stroke:#000000; stroke-width:0.5; stroke-opacity:0.1; fill:none\" points=\"\n",
       "  117.133,274.821 117.133,11.811 \n",
       "  \"/>\n",
       "<polyline clip-path=\"url(#clip7302)\" style=\"stroke:#000000; stroke-width:0.5; stroke-opacity:0.1; fill:none\" points=\"\n",
       "  161.184,274.821 161.184,11.811 \n",
       "  \"/>\n",
       "<polyline clip-path=\"url(#clip7302)\" style=\"stroke:#000000; stroke-width:0.5; stroke-opacity:0.1; fill:none\" points=\"\n",
       "  205.234,274.821 205.234,11.811 \n",
       "  \"/>\n",
       "<polyline clip-path=\"url(#clip7302)\" style=\"stroke:#000000; stroke-width:0.5; stroke-opacity:0.1; fill:none\" points=\"\n",
       "  249.284,274.821 249.284,11.811 \n",
       "  \"/>\n",
       "<polyline clip-path=\"url(#clip7302)\" style=\"stroke:#000000; stroke-width:0.5; stroke-opacity:0.1; fill:none\" points=\"\n",
       "  293.334,274.821 293.334,11.811 \n",
       "  \"/>\n",
       "<polyline clip-path=\"url(#clip7302)\" style=\"stroke:#000000; stroke-width:0.5; stroke-opacity:0.1; fill:none\" points=\"\n",
       "  337.384,274.821 337.384,11.811 \n",
       "  \"/>\n",
       "<polyline clip-path=\"url(#clip7302)\" style=\"stroke:#000000; stroke-width:0.5; stroke-opacity:0.1; fill:none\" points=\"\n",
       "  32.4745,243.121 380.315,243.121 \n",
       "  \"/>\n",
       "<polyline clip-path=\"url(#clip7302)\" style=\"stroke:#000000; stroke-width:0.5; stroke-opacity:0.1; fill:none\" points=\"\n",
       "  32.4745,200.029 380.315,200.029 \n",
       "  \"/>\n",
       "<polyline clip-path=\"url(#clip7302)\" style=\"stroke:#000000; stroke-width:0.5; stroke-opacity:0.1; fill:none\" points=\"\n",
       "  32.4745,156.937 380.315,156.937 \n",
       "  \"/>\n",
       "<polyline clip-path=\"url(#clip7302)\" style=\"stroke:#000000; stroke-width:0.5; stroke-opacity:0.1; fill:none\" points=\"\n",
       "  32.4745,113.845 380.315,113.845 \n",
       "  \"/>\n",
       "<polyline clip-path=\"url(#clip7302)\" style=\"stroke:#000000; stroke-width:0.5; stroke-opacity:0.1; fill:none\" points=\"\n",
       "  32.4745,70.7525 380.315,70.7525 \n",
       "  \"/>\n",
       "<polyline clip-path=\"url(#clip7302)\" style=\"stroke:#000000; stroke-width:0.5; stroke-opacity:0.1; fill:none\" points=\"\n",
       "  32.4745,27.6603 380.315,27.6603 \n",
       "  \"/>\n",
       "<polyline clip-path=\"url(#clip7300)\" style=\"stroke:#000000; stroke-width:1; stroke-opacity:1; fill:none\" points=\"\n",
       "  32.4745,274.821 380.315,274.821 \n",
       "  \"/>\n",
       "<polyline clip-path=\"url(#clip7300)\" style=\"stroke:#000000; stroke-width:1; stroke-opacity:1; fill:none\" points=\"\n",
       "  32.4745,274.821 32.4745,11.811 \n",
       "  \"/>\n",
       "<polyline clip-path=\"url(#clip7300)\" style=\"stroke:#000000; stroke-width:1; stroke-opacity:1; fill:none\" points=\"\n",
       "  73.0832,274.821 73.0832,270.876 \n",
       "  \"/>\n",
       "<polyline clip-path=\"url(#clip7300)\" style=\"stroke:#000000; stroke-width:1; stroke-opacity:1; fill:none\" points=\"\n",
       "  117.133,274.821 117.133,270.876 \n",
       "  \"/>\n",
       "<polyline clip-path=\"url(#clip7300)\" style=\"stroke:#000000; stroke-width:1; stroke-opacity:1; fill:none\" points=\"\n",
       "  161.184,274.821 161.184,270.876 \n",
       "  \"/>\n",
       "<polyline clip-path=\"url(#clip7300)\" style=\"stroke:#000000; stroke-width:1; stroke-opacity:1; fill:none\" points=\"\n",
       "  205.234,274.821 205.234,270.876 \n",
       "  \"/>\n",
       "<polyline clip-path=\"url(#clip7300)\" style=\"stroke:#000000; stroke-width:1; stroke-opacity:1; fill:none\" points=\"\n",
       "  249.284,274.821 249.284,270.876 \n",
       "  \"/>\n",
       "<polyline clip-path=\"url(#clip7300)\" style=\"stroke:#000000; stroke-width:1; stroke-opacity:1; fill:none\" points=\"\n",
       "  293.334,274.821 293.334,270.876 \n",
       "  \"/>\n",
       "<polyline clip-path=\"url(#clip7300)\" style=\"stroke:#000000; stroke-width:1; stroke-opacity:1; fill:none\" points=\"\n",
       "  337.384,274.821 337.384,270.876 \n",
       "  \"/>\n",
       "<polyline clip-path=\"url(#clip7300)\" style=\"stroke:#000000; stroke-width:1; stroke-opacity:1; fill:none\" points=\"\n",
       "  32.4745,243.121 37.6921,243.121 \n",
       "  \"/>\n",
       "<polyline clip-path=\"url(#clip7300)\" style=\"stroke:#000000; stroke-width:1; stroke-opacity:1; fill:none\" points=\"\n",
       "  32.4745,200.029 37.6921,200.029 \n",
       "  \"/>\n",
       "<polyline clip-path=\"url(#clip7300)\" style=\"stroke:#000000; stroke-width:1; stroke-opacity:1; fill:none\" points=\"\n",
       "  32.4745,156.937 37.6921,156.937 \n",
       "  \"/>\n",
       "<polyline clip-path=\"url(#clip7300)\" style=\"stroke:#000000; stroke-width:1; stroke-opacity:1; fill:none\" points=\"\n",
       "  32.4745,113.845 37.6921,113.845 \n",
       "  \"/>\n",
       "<polyline clip-path=\"url(#clip7300)\" style=\"stroke:#000000; stroke-width:1; stroke-opacity:1; fill:none\" points=\"\n",
       "  32.4745,70.7525 37.6921,70.7525 \n",
       "  \"/>\n",
       "<polyline clip-path=\"url(#clip7300)\" style=\"stroke:#000000; stroke-width:1; stroke-opacity:1; fill:none\" points=\"\n",
       "  32.4745,27.6603 37.6921,27.6603 \n",
       "  \"/>\n",
       "<g clip-path=\"url(#clip7300)\">\n",
       "<text style=\"fill:#000000; fill-opacity:1; font-family:Arial,Helvetica Neue,Helvetica,sans-serif; font-size:12; text-anchor:middle;\" transform=\"rotate(0, 73.0832, 287.621)\" x=\"73.0832\" y=\"287.621\">-0.75</text>\n",
       "</g>\n",
       "<g clip-path=\"url(#clip7300)\">\n",
       "<text style=\"fill:#000000; fill-opacity:1; font-family:Arial,Helvetica Neue,Helvetica,sans-serif; font-size:12; text-anchor:middle;\" transform=\"rotate(0, 117.133, 287.621)\" x=\"117.133\" y=\"287.621\">-0.50</text>\n",
       "</g>\n",
       "<g clip-path=\"url(#clip7300)\">\n",
       "<text style=\"fill:#000000; fill-opacity:1; font-family:Arial,Helvetica Neue,Helvetica,sans-serif; font-size:12; text-anchor:middle;\" transform=\"rotate(0, 161.184, 287.621)\" x=\"161.184\" y=\"287.621\">-0.25</text>\n",
       "</g>\n",
       "<g clip-path=\"url(#clip7300)\">\n",
       "<text style=\"fill:#000000; fill-opacity:1; font-family:Arial,Helvetica Neue,Helvetica,sans-serif; font-size:12; text-anchor:middle;\" transform=\"rotate(0, 205.234, 287.621)\" x=\"205.234\" y=\"287.621\">0.00</text>\n",
       "</g>\n",
       "<g clip-path=\"url(#clip7300)\">\n",
       "<text style=\"fill:#000000; fill-opacity:1; font-family:Arial,Helvetica Neue,Helvetica,sans-serif; font-size:12; text-anchor:middle;\" transform=\"rotate(0, 249.284, 287.621)\" x=\"249.284\" y=\"287.621\">0.25</text>\n",
       "</g>\n",
       "<g clip-path=\"url(#clip7300)\">\n",
       "<text style=\"fill:#000000; fill-opacity:1; font-family:Arial,Helvetica Neue,Helvetica,sans-serif; font-size:12; text-anchor:middle;\" transform=\"rotate(0, 293.334, 287.621)\" x=\"293.334\" y=\"287.621\">0.50</text>\n",
       "</g>\n",
       "<g clip-path=\"url(#clip7300)\">\n",
       "<text style=\"fill:#000000; fill-opacity:1; font-family:Arial,Helvetica Neue,Helvetica,sans-serif; font-size:12; text-anchor:middle;\" transform=\"rotate(0, 337.384, 287.621)\" x=\"337.384\" y=\"287.621\">0.75</text>\n",
       "</g>\n",
       "<g clip-path=\"url(#clip7300)\">\n",
       "<text style=\"fill:#000000; fill-opacity:1; font-family:Arial,Helvetica Neue,Helvetica,sans-serif; font-size:12; text-anchor:end;\" transform=\"rotate(0, 28.4745, 247.621)\" x=\"28.4745\" y=\"247.621\">0.0</text>\n",
       "</g>\n",
       "<g clip-path=\"url(#clip7300)\">\n",
       "<text style=\"fill:#000000; fill-opacity:1; font-family:Arial,Helvetica Neue,Helvetica,sans-serif; font-size:12; text-anchor:end;\" transform=\"rotate(0, 28.4745, 204.529)\" x=\"28.4745\" y=\"204.529\">0.5</text>\n",
       "</g>\n",
       "<g clip-path=\"url(#clip7300)\">\n",
       "<text style=\"fill:#000000; fill-opacity:1; font-family:Arial,Helvetica Neue,Helvetica,sans-serif; font-size:12; text-anchor:end;\" transform=\"rotate(0, 28.4745, 161.437)\" x=\"28.4745\" y=\"161.437\">1.0</text>\n",
       "</g>\n",
       "<g clip-path=\"url(#clip7300)\">\n",
       "<text style=\"fill:#000000; fill-opacity:1; font-family:Arial,Helvetica Neue,Helvetica,sans-serif; font-size:12; text-anchor:end;\" transform=\"rotate(0, 28.4745, 118.345)\" x=\"28.4745\" y=\"118.345\">1.5</text>\n",
       "</g>\n",
       "<g clip-path=\"url(#clip7300)\">\n",
       "<text style=\"fill:#000000; fill-opacity:1; font-family:Arial,Helvetica Neue,Helvetica,sans-serif; font-size:12; text-anchor:end;\" transform=\"rotate(0, 28.4745, 75.2525)\" x=\"28.4745\" y=\"75.2525\">2.0</text>\n",
       "</g>\n",
       "<g clip-path=\"url(#clip7300)\">\n",
       "<text style=\"fill:#000000; fill-opacity:1; font-family:Arial,Helvetica Neue,Helvetica,sans-serif; font-size:12; text-anchor:end;\" transform=\"rotate(0, 28.4745, 32.1603)\" x=\"28.4745\" y=\"32.1603\">2.5</text>\n",
       "</g>\n",
       "<polyline clip-path=\"url(#clip7302)\" style=\"stroke:#009af9; stroke-width:1; stroke-opacity:1; fill:none\" points=\"\n",
       "  32.4745,274.821 64.296,274.101 83.4195,272.967 99.5881,271.493 117.152,269.255 133.344,266.504 150.704,262.694 170.816,256.969 188.69,250.488 204.364,243.545 \n",
       "  221.453,234.423 238.643,223.368 248.146,216.344 257.649,208.601 266.691,200.515 275.733,191.673 285.134,181.617 294.536,170.612 302.45,160.56 310.364,149.738 \n",
       "  320.026,135.408 329.688,119.759 338.771,103.754 347.854,86.401 355.129,71.4623 362.405,55.5427 369.68,38.586 376.956,20.5329 378.076,17.6534 379.195,14.7461 \n",
       "  380.315,11.811 \n",
       "  \"/>\n",
       "<polyline clip-path=\"url(#clip7302)\" style=\"stroke:#e26f46; stroke-width:1; stroke-opacity:1; fill:none\" points=\"\n",
       "  32.4745,13.3791 64.296,51.3393 83.4195,71.064 99.5881,86.1497 117.152,101.042 133.344,113.517 150.704,125.677 170.816,138.346 188.69,148.453 204.364,156.511 \n",
       "  221.453,164.516 238.643,171.823 257.649,179.113 275.733,185.356 294.536,191.203 310.364,195.664 329.688,200.593 347.854,204.759 376.956,210.6 \n",
       "  \"/>\n",
       "<polygon clip-path=\"url(#clip7300)\" points=\"\n",
       "315.608,66.051 368.315,66.051 368.315,20.691 315.608,20.691 \n",
       "  \" fill=\"#ffffff\" fill-opacity=\"1\"/>\n",
       "<polyline clip-path=\"url(#clip7300)\" style=\"stroke:#000000; stroke-width:1; stroke-opacity:1; fill:none\" points=\"\n",
       "  315.608,66.051 368.315,66.051 368.315,20.691 315.608,20.691 315.608,66.051 \n",
       "  \"/>\n",
       "<polyline clip-path=\"url(#clip7300)\" style=\"stroke:#009af9; stroke-width:1; stroke-opacity:1; fill:none\" points=\"\n",
       "  319.608,35.811 343.608,35.811 \n",
       "  \"/>\n",
       "<g clip-path=\"url(#clip7300)\">\n",
       "<text style=\"fill:#000000; fill-opacity:1; font-family:Arial,Helvetica Neue,Helvetica,sans-serif; font-size:12; text-anchor:start;\" transform=\"rotate(0, 347.608, 40.311)\" x=\"347.608\" y=\"40.311\">y1</text>\n",
       "</g>\n",
       "<polyline clip-path=\"url(#clip7300)\" style=\"stroke:#e26f46; stroke-width:1; stroke-opacity:1; fill:none\" points=\"\n",
       "  319.608,50.931 343.608,50.931 \n",
       "  \"/>\n",
       "<g clip-path=\"url(#clip7300)\">\n",
       "<text style=\"fill:#000000; fill-opacity:1; font-family:Arial,Helvetica Neue,Helvetica,sans-serif; font-size:12; text-anchor:start;\" transform=\"rotate(0, 347.608, 55.431)\" x=\"347.608\" y=\"55.431\">y2</text>\n",
       "</g>\n",
       "</svg>\n"
      ]
     },
     "execution_count": 160,
     "metadata": {},
     "output_type": "execute_result"
    }
   ],
   "source": [
    "plot!(x->exp(-x), -1, 1)"
   ]
  },
  {
   "cell_type": "code",
   "execution_count": 161,
   "metadata": {},
   "outputs": [
    {
     "data": {
      "image/svg+xml": [
       "<?xml version=\"1.0\" encoding=\"utf-8\"?>\n",
       "<svg xmlns=\"http://www.w3.org/2000/svg\" xmlns:xlink=\"http://www.w3.org/1999/xlink\" width=\"400\" height=\"300\" viewBox=\"0 0 400 300\">\n",
       "<defs>\n",
       "  <clipPath id=\"clip7500\">\n",
       "    <rect x=\"0\" y=\"0\" width=\"400\" height=\"300\"/>\n",
       "  </clipPath>\n",
       "</defs>\n",
       "<polygon clip-path=\"url(#clip7500)\" points=\"\n",
       "0,300 400,300 400,0 0,0 \n",
       "  \" fill=\"#ffffff\" fill-opacity=\"1\"/>\n",
       "<defs>\n",
       "  <clipPath id=\"clip7501\">\n",
       "    <rect x=\"80\" y=\"0\" width=\"281\" height=\"281\"/>\n",
       "  </clipPath>\n",
       "</defs>\n",
       "<polygon clip-path=\"url(#clip7500)\" points=\"\n",
       "32.4745,274.821 380.315,274.821 380.315,11.811 32.4745,11.811 \n",
       "  \" fill=\"#ffffff\" fill-opacity=\"1\"/>\n",
       "<defs>\n",
       "  <clipPath id=\"clip7502\">\n",
       "    <rect x=\"32\" y=\"11\" width=\"349\" height=\"264\"/>\n",
       "  </clipPath>\n",
       "</defs>\n",
       "<polyline clip-path=\"url(#clip7502)\" style=\"stroke:#000000; stroke-width:0.5; stroke-opacity:0.1; fill:none\" points=\"\n",
       "  32.4745,274.821 32.4745,11.811 \n",
       "  \"/>\n",
       "<polyline clip-path=\"url(#clip7502)\" style=\"stroke:#000000; stroke-width:0.5; stroke-opacity:0.1; fill:none\" points=\"\n",
       "  119.435,274.821 119.435,11.811 \n",
       "  \"/>\n",
       "<polyline clip-path=\"url(#clip7502)\" style=\"stroke:#000000; stroke-width:0.5; stroke-opacity:0.1; fill:none\" points=\"\n",
       "  206.395,274.821 206.395,11.811 \n",
       "  \"/>\n",
       "<polyline clip-path=\"url(#clip7502)\" style=\"stroke:#000000; stroke-width:0.5; stroke-opacity:0.1; fill:none\" points=\"\n",
       "  293.355,274.821 293.355,11.811 \n",
       "  \"/>\n",
       "<polyline clip-path=\"url(#clip7502)\" style=\"stroke:#000000; stroke-width:0.5; stroke-opacity:0.1; fill:none\" points=\"\n",
       "  380.315,274.821 380.315,11.811 \n",
       "  \"/>\n",
       "<polyline clip-path=\"url(#clip7502)\" style=\"stroke:#000000; stroke-width:0.5; stroke-opacity:0.1; fill:none\" points=\"\n",
       "  32.4745,243.121 380.315,243.121 \n",
       "  \"/>\n",
       "<polyline clip-path=\"url(#clip7502)\" style=\"stroke:#000000; stroke-width:0.5; stroke-opacity:0.1; fill:none\" points=\"\n",
       "  32.4745,200.029 380.315,200.029 \n",
       "  \"/>\n",
       "<polyline clip-path=\"url(#clip7502)\" style=\"stroke:#000000; stroke-width:0.5; stroke-opacity:0.1; fill:none\" points=\"\n",
       "  32.4745,156.937 380.315,156.937 \n",
       "  \"/>\n",
       "<polyline clip-path=\"url(#clip7502)\" style=\"stroke:#000000; stroke-width:0.5; stroke-opacity:0.1; fill:none\" points=\"\n",
       "  32.4745,113.845 380.315,113.845 \n",
       "  \"/>\n",
       "<polyline clip-path=\"url(#clip7502)\" style=\"stroke:#000000; stroke-width:0.5; stroke-opacity:0.1; fill:none\" points=\"\n",
       "  32.4745,70.7525 380.315,70.7525 \n",
       "  \"/>\n",
       "<polyline clip-path=\"url(#clip7502)\" style=\"stroke:#000000; stroke-width:0.5; stroke-opacity:0.1; fill:none\" points=\"\n",
       "  32.4745,27.6603 380.315,27.6603 \n",
       "  \"/>\n",
       "<polyline clip-path=\"url(#clip7500)\" style=\"stroke:#000000; stroke-width:1; stroke-opacity:1; fill:none\" points=\"\n",
       "  32.4745,274.821 380.315,274.821 \n",
       "  \"/>\n",
       "<polyline clip-path=\"url(#clip7500)\" style=\"stroke:#000000; stroke-width:1; stroke-opacity:1; fill:none\" points=\"\n",
       "  32.4745,274.821 32.4745,11.811 \n",
       "  \"/>\n",
       "<polyline clip-path=\"url(#clip7500)\" style=\"stroke:#000000; stroke-width:1; stroke-opacity:1; fill:none\" points=\"\n",
       "  32.4745,274.821 32.4745,270.876 \n",
       "  \"/>\n",
       "<polyline clip-path=\"url(#clip7500)\" style=\"stroke:#000000; stroke-width:1; stroke-opacity:1; fill:none\" points=\"\n",
       "  119.435,274.821 119.435,270.876 \n",
       "  \"/>\n",
       "<polyline clip-path=\"url(#clip7500)\" style=\"stroke:#000000; stroke-width:1; stroke-opacity:1; fill:none\" points=\"\n",
       "  206.395,274.821 206.395,270.876 \n",
       "  \"/>\n",
       "<polyline clip-path=\"url(#clip7500)\" style=\"stroke:#000000; stroke-width:1; stroke-opacity:1; fill:none\" points=\"\n",
       "  293.355,274.821 293.355,270.876 \n",
       "  \"/>\n",
       "<polyline clip-path=\"url(#clip7500)\" style=\"stroke:#000000; stroke-width:1; stroke-opacity:1; fill:none\" points=\"\n",
       "  380.315,274.821 380.315,270.876 \n",
       "  \"/>\n",
       "<polyline clip-path=\"url(#clip7500)\" style=\"stroke:#000000; stroke-width:1; stroke-opacity:1; fill:none\" points=\"\n",
       "  32.4745,243.121 37.6921,243.121 \n",
       "  \"/>\n",
       "<polyline clip-path=\"url(#clip7500)\" style=\"stroke:#000000; stroke-width:1; stroke-opacity:1; fill:none\" points=\"\n",
       "  32.4745,200.029 37.6921,200.029 \n",
       "  \"/>\n",
       "<polyline clip-path=\"url(#clip7500)\" style=\"stroke:#000000; stroke-width:1; stroke-opacity:1; fill:none\" points=\"\n",
       "  32.4745,156.937 37.6921,156.937 \n",
       "  \"/>\n",
       "<polyline clip-path=\"url(#clip7500)\" style=\"stroke:#000000; stroke-width:1; stroke-opacity:1; fill:none\" points=\"\n",
       "  32.4745,113.845 37.6921,113.845 \n",
       "  \"/>\n",
       "<polyline clip-path=\"url(#clip7500)\" style=\"stroke:#000000; stroke-width:1; stroke-opacity:1; fill:none\" points=\"\n",
       "  32.4745,70.7525 37.6921,70.7525 \n",
       "  \"/>\n",
       "<polyline clip-path=\"url(#clip7500)\" style=\"stroke:#000000; stroke-width:1; stroke-opacity:1; fill:none\" points=\"\n",
       "  32.4745,27.6603 37.6921,27.6603 \n",
       "  \"/>\n",
       "<g clip-path=\"url(#clip7500)\">\n",
       "<text style=\"fill:#000000; fill-opacity:1; font-family:Arial,Helvetica Neue,Helvetica,sans-serif; font-size:12; text-anchor:middle;\" transform=\"rotate(0, 32.4745, 287.621)\" x=\"32.4745\" y=\"287.621\">-0.50</text>\n",
       "</g>\n",
       "<g clip-path=\"url(#clip7500)\">\n",
       "<text style=\"fill:#000000; fill-opacity:1; font-family:Arial,Helvetica Neue,Helvetica,sans-serif; font-size:12; text-anchor:middle;\" transform=\"rotate(0, 119.435, 287.621)\" x=\"119.435\" y=\"287.621\">-0.25</text>\n",
       "</g>\n",
       "<g clip-path=\"url(#clip7500)\">\n",
       "<text style=\"fill:#000000; fill-opacity:1; font-family:Arial,Helvetica Neue,Helvetica,sans-serif; font-size:12; text-anchor:middle;\" transform=\"rotate(0, 206.395, 287.621)\" x=\"206.395\" y=\"287.621\">0.00</text>\n",
       "</g>\n",
       "<g clip-path=\"url(#clip7500)\">\n",
       "<text style=\"fill:#000000; fill-opacity:1; font-family:Arial,Helvetica Neue,Helvetica,sans-serif; font-size:12; text-anchor:middle;\" transform=\"rotate(0, 293.355, 287.621)\" x=\"293.355\" y=\"287.621\">0.25</text>\n",
       "</g>\n",
       "<g clip-path=\"url(#clip7500)\">\n",
       "<text style=\"fill:#000000; fill-opacity:1; font-family:Arial,Helvetica Neue,Helvetica,sans-serif; font-size:12; text-anchor:middle;\" transform=\"rotate(0, 380.315, 287.621)\" x=\"380.315\" y=\"287.621\">0.50</text>\n",
       "</g>\n",
       "<g clip-path=\"url(#clip7500)\">\n",
       "<text style=\"fill:#000000; fill-opacity:1; font-family:Arial,Helvetica Neue,Helvetica,sans-serif; font-size:12; text-anchor:end;\" transform=\"rotate(0, 28.4745, 247.621)\" x=\"28.4745\" y=\"247.621\">0.0</text>\n",
       "</g>\n",
       "<g clip-path=\"url(#clip7500)\">\n",
       "<text style=\"fill:#000000; fill-opacity:1; font-family:Arial,Helvetica Neue,Helvetica,sans-serif; font-size:12; text-anchor:end;\" transform=\"rotate(0, 28.4745, 204.529)\" x=\"28.4745\" y=\"204.529\">0.5</text>\n",
       "</g>\n",
       "<g clip-path=\"url(#clip7500)\">\n",
       "<text style=\"fill:#000000; fill-opacity:1; font-family:Arial,Helvetica Neue,Helvetica,sans-serif; font-size:12; text-anchor:end;\" transform=\"rotate(0, 28.4745, 161.437)\" x=\"28.4745\" y=\"161.437\">1.0</text>\n",
       "</g>\n",
       "<g clip-path=\"url(#clip7500)\">\n",
       "<text style=\"fill:#000000; fill-opacity:1; font-family:Arial,Helvetica Neue,Helvetica,sans-serif; font-size:12; text-anchor:end;\" transform=\"rotate(0, 28.4745, 118.345)\" x=\"28.4745\" y=\"118.345\">1.5</text>\n",
       "</g>\n",
       "<g clip-path=\"url(#clip7500)\">\n",
       "<text style=\"fill:#000000; fill-opacity:1; font-family:Arial,Helvetica Neue,Helvetica,sans-serif; font-size:12; text-anchor:end;\" transform=\"rotate(0, 28.4745, 75.2525)\" x=\"28.4745\" y=\"75.2525\">2.0</text>\n",
       "</g>\n",
       "<g clip-path=\"url(#clip7500)\">\n",
       "<text style=\"fill:#000000; fill-opacity:1; font-family:Arial,Helvetica Neue,Helvetica,sans-serif; font-size:12; text-anchor:end;\" transform=\"rotate(0, 28.4745, 32.1603)\" x=\"28.4745\" y=\"32.1603\">2.5</text>\n",
       "</g>\n",
       "<polyline clip-path=\"url(#clip7502)\" style=\"stroke:#009af9; stroke-width:1; stroke-opacity:1; fill:none\" points=\"\n",
       "  -134.652,274.821 -71.8325,274.101 -34.0807,272.967 -2.16199,271.493 32.5106,269.255 64.4758,266.504 98.7457,262.694 138.451,256.969 173.736,250.488 204.678,243.545 \n",
       "  238.413,234.423 272.349,223.368 291.109,216.344 309.869,208.601 327.718,200.515 345.568,191.673 364.128,181.617 382.687,170.612 398.31,160.56 413.934,149.738 \n",
       "  433.008,135.408 452.082,119.759 470.012,103.754 487.942,86.401 502.305,71.4623 516.668,55.5427 531.031,38.586 545.394,20.5329 547.604,17.6534 549.814,14.7461 \n",
       "  552.025,11.811 \n",
       "  \"/>\n",
       "<polyline clip-path=\"url(#clip7502)\" style=\"stroke:#e26f46; stroke-width:1; stroke-opacity:1; fill:none\" points=\"\n",
       "  -134.652,13.3791 -71.8325,51.3393 -34.0807,71.064 -2.16199,86.1497 32.5106,101.042 64.4758,113.517 98.7457,125.677 138.451,138.346 173.736,148.453 204.678,156.511 \n",
       "  238.413,164.516 272.349,171.823 309.869,179.113 345.568,185.356 382.687,191.203 413.934,195.664 452.082,200.593 487.942,204.759 545.394,210.6 \n",
       "  \"/>\n",
       "<polygon clip-path=\"url(#clip7500)\" points=\"\n",
       "315.608,66.051 368.315,66.051 368.315,20.691 315.608,20.691 \n",
       "  \" fill=\"#ffffff\" fill-opacity=\"1\"/>\n",
       "<polyline clip-path=\"url(#clip7500)\" style=\"stroke:#000000; stroke-width:1; stroke-opacity:1; fill:none\" points=\"\n",
       "  315.608,66.051 368.315,66.051 368.315,20.691 315.608,20.691 315.608,66.051 \n",
       "  \"/>\n",
       "<polyline clip-path=\"url(#clip7500)\" style=\"stroke:#009af9; stroke-width:1; stroke-opacity:1; fill:none\" points=\"\n",
       "  319.608,35.811 343.608,35.811 \n",
       "  \"/>\n",
       "<g clip-path=\"url(#clip7500)\">\n",
       "<text style=\"fill:#000000; fill-opacity:1; font-family:Arial,Helvetica Neue,Helvetica,sans-serif; font-size:12; text-anchor:start;\" transform=\"rotate(0, 347.608, 40.311)\" x=\"347.608\" y=\"40.311\">y1</text>\n",
       "</g>\n",
       "<polyline clip-path=\"url(#clip7500)\" style=\"stroke:#e26f46; stroke-width:1; stroke-opacity:1; fill:none\" points=\"\n",
       "  319.608,50.931 343.608,50.931 \n",
       "  \"/>\n",
       "<g clip-path=\"url(#clip7500)\">\n",
       "<text style=\"fill:#000000; fill-opacity:1; font-family:Arial,Helvetica Neue,Helvetica,sans-serif; font-size:12; text-anchor:start;\" transform=\"rotate(0, 347.608, 55.431)\" x=\"347.608\" y=\"55.431\">y2</text>\n",
       "</g>\n",
       "</svg>\n"
      ]
     },
     "execution_count": 161,
     "metadata": {},
     "output_type": "execute_result"
    }
   ],
   "source": [
    "xlims!(-0.5, 0.5)"
   ]
  },
  {
   "cell_type": "code",
   "execution_count": 162,
   "metadata": {},
   "outputs": [
    {
     "data": {
      "image/svg+xml": [
       "<?xml version=\"1.0\" encoding=\"utf-8\"?>\n",
       "<svg xmlns=\"http://www.w3.org/2000/svg\" xmlns:xlink=\"http://www.w3.org/1999/xlink\" width=\"400\" height=\"300\" viewBox=\"0 0 400 300\">\n",
       "<defs>\n",
       "  <clipPath id=\"clip7700\">\n",
       "    <rect x=\"0\" y=\"0\" width=\"400\" height=\"300\"/>\n",
       "  </clipPath>\n",
       "</defs>\n",
       "<polygon clip-path=\"url(#clip7700)\" points=\"\n",
       "0,300 400,300 400,0 0,0 \n",
       "  \" fill=\"#ffffff\" fill-opacity=\"1\"/>\n",
       "<defs>\n",
       "  <clipPath id=\"clip7701\">\n",
       "    <rect x=\"80\" y=\"0\" width=\"281\" height=\"281\"/>\n",
       "  </clipPath>\n",
       "</defs>\n",
       "<polygon clip-path=\"url(#clip7700)\" points=\"\n",
       "39.1651,274.821 380.315,274.821 380.315,11.811 39.1651,11.811 \n",
       "  \" fill=\"#ffffff\" fill-opacity=\"1\"/>\n",
       "<defs>\n",
       "  <clipPath id=\"clip7702\">\n",
       "    <rect x=\"39\" y=\"11\" width=\"342\" height=\"264\"/>\n",
       "  </clipPath>\n",
       "</defs>\n",
       "<polyline clip-path=\"url(#clip7702)\" style=\"stroke:#000000; stroke-width:0.5; stroke-opacity:0.1; fill:none\" points=\"\n",
       "  39.1651,274.821 39.1651,11.811 \n",
       "  \"/>\n",
       "<polyline clip-path=\"url(#clip7702)\" style=\"stroke:#000000; stroke-width:0.5; stroke-opacity:0.1; fill:none\" points=\"\n",
       "  124.453,274.821 124.453,11.811 \n",
       "  \"/>\n",
       "<polyline clip-path=\"url(#clip7702)\" style=\"stroke:#000000; stroke-width:0.5; stroke-opacity:0.1; fill:none\" points=\"\n",
       "  209.74,274.821 209.74,11.811 \n",
       "  \"/>\n",
       "<polyline clip-path=\"url(#clip7702)\" style=\"stroke:#000000; stroke-width:0.5; stroke-opacity:0.1; fill:none\" points=\"\n",
       "  295.027,274.821 295.027,11.811 \n",
       "  \"/>\n",
       "<polyline clip-path=\"url(#clip7702)\" style=\"stroke:#000000; stroke-width:0.5; stroke-opacity:0.1; fill:none\" points=\"\n",
       "  380.315,274.821 380.315,11.811 \n",
       "  \"/>\n",
       "<polyline clip-path=\"url(#clip7702)\" style=\"stroke:#000000; stroke-width:0.5; stroke-opacity:0.1; fill:none\" points=\"\n",
       "  39.1651,274.821 380.315,274.821 \n",
       "  \"/>\n",
       "<polyline clip-path=\"url(#clip7702)\" style=\"stroke:#000000; stroke-width:0.5; stroke-opacity:0.1; fill:none\" points=\"\n",
       "  39.1651,209.068 380.315,209.068 \n",
       "  \"/>\n",
       "<polyline clip-path=\"url(#clip7702)\" style=\"stroke:#000000; stroke-width:0.5; stroke-opacity:0.1; fill:none\" points=\"\n",
       "  39.1651,143.316 380.315,143.316 \n",
       "  \"/>\n",
       "<polyline clip-path=\"url(#clip7702)\" style=\"stroke:#000000; stroke-width:0.5; stroke-opacity:0.1; fill:none\" points=\"\n",
       "  39.1651,77.5635 380.315,77.5635 \n",
       "  \"/>\n",
       "<polyline clip-path=\"url(#clip7702)\" style=\"stroke:#000000; stroke-width:0.5; stroke-opacity:0.1; fill:none\" points=\"\n",
       "  39.1651,11.811 380.315,11.811 \n",
       "  \"/>\n",
       "<polyline clip-path=\"url(#clip7700)\" style=\"stroke:#000000; stroke-width:1; stroke-opacity:1; fill:none\" points=\"\n",
       "  39.1651,274.821 380.315,274.821 \n",
       "  \"/>\n",
       "<polyline clip-path=\"url(#clip7700)\" style=\"stroke:#000000; stroke-width:1; stroke-opacity:1; fill:none\" points=\"\n",
       "  39.1651,274.821 39.1651,11.811 \n",
       "  \"/>\n",
       "<polyline clip-path=\"url(#clip7700)\" style=\"stroke:#000000; stroke-width:1; stroke-opacity:1; fill:none\" points=\"\n",
       "  39.1651,274.821 39.1651,270.876 \n",
       "  \"/>\n",
       "<polyline clip-path=\"url(#clip7700)\" style=\"stroke:#000000; stroke-width:1; stroke-opacity:1; fill:none\" points=\"\n",
       "  124.453,274.821 124.453,270.876 \n",
       "  \"/>\n",
       "<polyline clip-path=\"url(#clip7700)\" style=\"stroke:#000000; stroke-width:1; stroke-opacity:1; fill:none\" points=\"\n",
       "  209.74,274.821 209.74,270.876 \n",
       "  \"/>\n",
       "<polyline clip-path=\"url(#clip7700)\" style=\"stroke:#000000; stroke-width:1; stroke-opacity:1; fill:none\" points=\"\n",
       "  295.027,274.821 295.027,270.876 \n",
       "  \"/>\n",
       "<polyline clip-path=\"url(#clip7700)\" style=\"stroke:#000000; stroke-width:1; stroke-opacity:1; fill:none\" points=\"\n",
       "  380.315,274.821 380.315,270.876 \n",
       "  \"/>\n",
       "<polyline clip-path=\"url(#clip7700)\" style=\"stroke:#000000; stroke-width:1; stroke-opacity:1; fill:none\" points=\"\n",
       "  39.1651,274.821 44.2823,274.821 \n",
       "  \"/>\n",
       "<polyline clip-path=\"url(#clip7700)\" style=\"stroke:#000000; stroke-width:1; stroke-opacity:1; fill:none\" points=\"\n",
       "  39.1651,209.068 44.2823,209.068 \n",
       "  \"/>\n",
       "<polyline clip-path=\"url(#clip7700)\" style=\"stroke:#000000; stroke-width:1; stroke-opacity:1; fill:none\" points=\"\n",
       "  39.1651,143.316 44.2823,143.316 \n",
       "  \"/>\n",
       "<polyline clip-path=\"url(#clip7700)\" style=\"stroke:#000000; stroke-width:1; stroke-opacity:1; fill:none\" points=\"\n",
       "  39.1651,77.5635 44.2823,77.5635 \n",
       "  \"/>\n",
       "<polyline clip-path=\"url(#clip7700)\" style=\"stroke:#000000; stroke-width:1; stroke-opacity:1; fill:none\" points=\"\n",
       "  39.1651,11.811 44.2823,11.811 \n",
       "  \"/>\n",
       "<g clip-path=\"url(#clip7700)\">\n",
       "<text style=\"fill:#000000; fill-opacity:1; font-family:Arial,Helvetica Neue,Helvetica,sans-serif; font-size:12; text-anchor:middle;\" transform=\"rotate(0, 39.1651, 287.621)\" x=\"39.1651\" y=\"287.621\">-0.50</text>\n",
       "</g>\n",
       "<g clip-path=\"url(#clip7700)\">\n",
       "<text style=\"fill:#000000; fill-opacity:1; font-family:Arial,Helvetica Neue,Helvetica,sans-serif; font-size:12; text-anchor:middle;\" transform=\"rotate(0, 124.453, 287.621)\" x=\"124.453\" y=\"287.621\">-0.25</text>\n",
       "</g>\n",
       "<g clip-path=\"url(#clip7700)\">\n",
       "<text style=\"fill:#000000; fill-opacity:1; font-family:Arial,Helvetica Neue,Helvetica,sans-serif; font-size:12; text-anchor:middle;\" transform=\"rotate(0, 209.74, 287.621)\" x=\"209.74\" y=\"287.621\">0.00</text>\n",
       "</g>\n",
       "<g clip-path=\"url(#clip7700)\">\n",
       "<text style=\"fill:#000000; fill-opacity:1; font-family:Arial,Helvetica Neue,Helvetica,sans-serif; font-size:12; text-anchor:middle;\" transform=\"rotate(0, 295.027, 287.621)\" x=\"295.027\" y=\"287.621\">0.25</text>\n",
       "</g>\n",
       "<g clip-path=\"url(#clip7700)\">\n",
       "<text style=\"fill:#000000; fill-opacity:1; font-family:Arial,Helvetica Neue,Helvetica,sans-serif; font-size:12; text-anchor:middle;\" transform=\"rotate(0, 380.315, 287.621)\" x=\"380.315\" y=\"287.621\">0.50</text>\n",
       "</g>\n",
       "<g clip-path=\"url(#clip7700)\">\n",
       "<text style=\"fill:#000000; fill-opacity:1; font-family:Arial,Helvetica Neue,Helvetica,sans-serif; font-size:12; text-anchor:end;\" transform=\"rotate(0, 35.1651, 279.321)\" x=\"35.1651\" y=\"279.321\">0.50</text>\n",
       "</g>\n",
       "<g clip-path=\"url(#clip7700)\">\n",
       "<text style=\"fill:#000000; fill-opacity:1; font-family:Arial,Helvetica Neue,Helvetica,sans-serif; font-size:12; text-anchor:end;\" transform=\"rotate(0, 35.1651, 213.568)\" x=\"35.1651\" y=\"213.568\">0.75</text>\n",
       "</g>\n",
       "<g clip-path=\"url(#clip7700)\">\n",
       "<text style=\"fill:#000000; fill-opacity:1; font-family:Arial,Helvetica Neue,Helvetica,sans-serif; font-size:12; text-anchor:end;\" transform=\"rotate(0, 35.1651, 147.816)\" x=\"35.1651\" y=\"147.816\">1.00</text>\n",
       "</g>\n",
       "<g clip-path=\"url(#clip7700)\">\n",
       "<text style=\"fill:#000000; fill-opacity:1; font-family:Arial,Helvetica Neue,Helvetica,sans-serif; font-size:12; text-anchor:end;\" transform=\"rotate(0, 35.1651, 82.0635)\" x=\"35.1651\" y=\"82.0635\">1.25</text>\n",
       "</g>\n",
       "<g clip-path=\"url(#clip7700)\">\n",
       "<text style=\"fill:#000000; fill-opacity:1; font-family:Arial,Helvetica Neue,Helvetica,sans-serif; font-size:12; text-anchor:end;\" transform=\"rotate(0, 35.1651, 16.311)\" x=\"35.1651\" y=\"16.311\">1.50</text>\n",
       "</g>\n",
       "<polyline clip-path=\"url(#clip7702)\" style=\"stroke:#009af9; stroke-width:1; stroke-opacity:1; fill:none\" points=\"\n",
       "  -124.747,503.063 -63.1356,500.865 -26.1099,497.405 5.19482,492.907 39.2005,486.079 70.5508,477.683 104.162,466.056 143.103,448.584 177.71,428.807 208.056,407.617 \n",
       "  241.142,379.782 274.425,346.045 292.824,324.608 311.224,300.98 328.73,276.304 346.236,249.321 364.439,218.632 382.642,185.05 397.964,154.374 413.287,121.347 \n",
       "  431.994,77.6155 450.701,29.8598 468.287,-18.9828 485.872,-71.9393 499.959,-117.528 514.045,-166.11 528.132,-217.857 542.218,-272.949 544.386,-281.737 546.554,-290.609 \n",
       "  548.722,-299.566 \n",
       "  \"/>\n",
       "<polyline clip-path=\"url(#clip7702)\" style=\"stroke:#e26f46; stroke-width:1; stroke-opacity:1; fill:none\" points=\"\n",
       "  -124.747,-294.781 -63.1356,-178.937 -26.1099,-118.743 5.19482,-72.7061 39.2005,-27.2591 70.5508,10.8096 104.162,47.9186 143.103,86.5813 177.71,117.426 208.056,142.015 \n",
       "  241.142,166.445 274.425,188.742 311.224,210.991 346.236,230.044 382.642,247.886 413.287,261.498 450.701,276.542 485.872,289.255 542.218,307.079 \n",
       "  \"/>\n",
       "<polygon clip-path=\"url(#clip7700)\" points=\"\n",
       "315.608,66.051 368.315,66.051 368.315,20.691 315.608,20.691 \n",
       "  \" fill=\"#ffffff\" fill-opacity=\"1\"/>\n",
       "<polyline clip-path=\"url(#clip7700)\" style=\"stroke:#000000; stroke-width:1; stroke-opacity:1; fill:none\" points=\"\n",
       "  315.608,66.051 368.315,66.051 368.315,20.691 315.608,20.691 315.608,66.051 \n",
       "  \"/>\n",
       "<polyline clip-path=\"url(#clip7700)\" style=\"stroke:#009af9; stroke-width:1; stroke-opacity:1; fill:none\" points=\"\n",
       "  319.608,35.811 343.608,35.811 \n",
       "  \"/>\n",
       "<g clip-path=\"url(#clip7700)\">\n",
       "<text style=\"fill:#000000; fill-opacity:1; font-family:Arial,Helvetica Neue,Helvetica,sans-serif; font-size:12; text-anchor:start;\" transform=\"rotate(0, 347.608, 40.311)\" x=\"347.608\" y=\"40.311\">y1</text>\n",
       "</g>\n",
       "<polyline clip-path=\"url(#clip7700)\" style=\"stroke:#e26f46; stroke-width:1; stroke-opacity:1; fill:none\" points=\"\n",
       "  319.608,50.931 343.608,50.931 \n",
       "  \"/>\n",
       "<g clip-path=\"url(#clip7700)\">\n",
       "<text style=\"fill:#000000; fill-opacity:1; font-family:Arial,Helvetica Neue,Helvetica,sans-serif; font-size:12; text-anchor:start;\" transform=\"rotate(0, 347.608, 55.431)\" x=\"347.608\" y=\"55.431\">y2</text>\n",
       "</g>\n",
       "</svg>\n"
      ]
     },
     "execution_count": 162,
     "metadata": {},
     "output_type": "execute_result"
    }
   ],
   "source": [
    "ylims!(0.5, 1.5)"
   ]
  },
  {
   "cell_type": "code",
   "execution_count": 165,
   "metadata": {},
   "outputs": [
    {
     "data": {
      "image/svg+xml": [
       "<?xml version=\"1.0\" encoding=\"utf-8\"?>\n",
       "<svg xmlns=\"http://www.w3.org/2000/svg\" xmlns:xlink=\"http://www.w3.org/1999/xlink\" width=\"400\" height=\"300\" viewBox=\"0 0 400 300\">\n",
       "<defs>\n",
       "  <clipPath id=\"clip8300\">\n",
       "    <rect x=\"0\" y=\"0\" width=\"400\" height=\"300\"/>\n",
       "  </clipPath>\n",
       "</defs>\n",
       "<polygon clip-path=\"url(#clip8300)\" points=\"\n",
       "0,300 400,300 400,0 0,0 \n",
       "  \" fill=\"#ffffff\" fill-opacity=\"1\"/>\n",
       "<defs>\n",
       "  <clipPath id=\"clip8301\">\n",
       "    <rect x=\"80\" y=\"0\" width=\"281\" height=\"281\"/>\n",
       "  </clipPath>\n",
       "</defs>\n",
       "<polygon clip-path=\"url(#clip8300)\" points=\"\n",
       "36.1567,274.821 380.315,274.821 380.315,11.811 36.1567,11.811 \n",
       "  \" fill=\"#ffffff\" fill-opacity=\"1\"/>\n",
       "<defs>\n",
       "  <clipPath id=\"clip8302\">\n",
       "    <rect x=\"36\" y=\"11\" width=\"345\" height=\"264\"/>\n",
       "  </clipPath>\n",
       "</defs>\n",
       "<polyline clip-path=\"url(#clip8302)\" style=\"stroke:#000000; stroke-width:0.5; stroke-opacity:0.1; fill:none\" points=\"\n",
       "  60.9492,274.821 60.9492,11.811 \n",
       "  \"/>\n",
       "<polyline clip-path=\"url(#clip8302)\" style=\"stroke:#000000; stroke-width:0.5; stroke-opacity:0.1; fill:none\" points=\"\n",
       "  167.102,274.821 167.102,11.811 \n",
       "  \"/>\n",
       "<polyline clip-path=\"url(#clip8302)\" style=\"stroke:#000000; stroke-width:0.5; stroke-opacity:0.1; fill:none\" points=\"\n",
       "  273.254,274.821 273.254,11.811 \n",
       "  \"/>\n",
       "<polyline clip-path=\"url(#clip8302)\" style=\"stroke:#000000; stroke-width:0.5; stroke-opacity:0.1; fill:none\" points=\"\n",
       "  379.407,274.821 379.407,11.811 \n",
       "  \"/>\n",
       "<polyline clip-path=\"url(#clip8302)\" style=\"stroke:#000000; stroke-width:0.5; stroke-opacity:0.1; fill:none\" points=\"\n",
       "  36.1567,266.132 380.315,266.132 \n",
       "  \"/>\n",
       "<polyline clip-path=\"url(#clip8302)\" style=\"stroke:#000000; stroke-width:0.5; stroke-opacity:0.1; fill:none\" points=\"\n",
       "  36.1567,214.452 380.315,214.452 \n",
       "  \"/>\n",
       "<polyline clip-path=\"url(#clip8302)\" style=\"stroke:#000000; stroke-width:0.5; stroke-opacity:0.1; fill:none\" points=\"\n",
       "  36.1567,162.772 380.315,162.772 \n",
       "  \"/>\n",
       "<polyline clip-path=\"url(#clip8302)\" style=\"stroke:#000000; stroke-width:0.5; stroke-opacity:0.1; fill:none\" points=\"\n",
       "  36.1567,111.092 380.315,111.092 \n",
       "  \"/>\n",
       "<polyline clip-path=\"url(#clip8302)\" style=\"stroke:#000000; stroke-width:0.5; stroke-opacity:0.1; fill:none\" points=\"\n",
       "  36.1567,59.4124 380.315,59.4124 \n",
       "  \"/>\n",
       "<polyline clip-path=\"url(#clip8300)\" style=\"stroke:#000000; stroke-width:1; stroke-opacity:1; fill:none\" points=\"\n",
       "  36.1567,274.821 380.315,274.821 \n",
       "  \"/>\n",
       "<polyline clip-path=\"url(#clip8300)\" style=\"stroke:#000000; stroke-width:1; stroke-opacity:1; fill:none\" points=\"\n",
       "  36.1567,274.821 36.1567,11.811 \n",
       "  \"/>\n",
       "<polyline clip-path=\"url(#clip8300)\" style=\"stroke:#000000; stroke-width:1; stroke-opacity:1; fill:none\" points=\"\n",
       "  60.9492,274.821 60.9492,270.876 \n",
       "  \"/>\n",
       "<polyline clip-path=\"url(#clip8300)\" style=\"stroke:#000000; stroke-width:1; stroke-opacity:1; fill:none\" points=\"\n",
       "  167.102,274.821 167.102,270.876 \n",
       "  \"/>\n",
       "<polyline clip-path=\"url(#clip8300)\" style=\"stroke:#000000; stroke-width:1; stroke-opacity:1; fill:none\" points=\"\n",
       "  273.254,274.821 273.254,270.876 \n",
       "  \"/>\n",
       "<polyline clip-path=\"url(#clip8300)\" style=\"stroke:#000000; stroke-width:1; stroke-opacity:1; fill:none\" points=\"\n",
       "  379.407,274.821 379.407,270.876 \n",
       "  \"/>\n",
       "<polyline clip-path=\"url(#clip8300)\" style=\"stroke:#000000; stroke-width:1; stroke-opacity:1; fill:none\" points=\"\n",
       "  36.1567,266.132 41.3191,266.132 \n",
       "  \"/>\n",
       "<polyline clip-path=\"url(#clip8300)\" style=\"stroke:#000000; stroke-width:1; stroke-opacity:1; fill:none\" points=\"\n",
       "  36.1567,214.452 41.3191,214.452 \n",
       "  \"/>\n",
       "<polyline clip-path=\"url(#clip8300)\" style=\"stroke:#000000; stroke-width:1; stroke-opacity:1; fill:none\" points=\"\n",
       "  36.1567,162.772 41.3191,162.772 \n",
       "  \"/>\n",
       "<polyline clip-path=\"url(#clip8300)\" style=\"stroke:#000000; stroke-width:1; stroke-opacity:1; fill:none\" points=\"\n",
       "  36.1567,111.092 41.3191,111.092 \n",
       "  \"/>\n",
       "<polyline clip-path=\"url(#clip8300)\" style=\"stroke:#000000; stroke-width:1; stroke-opacity:1; fill:none\" points=\"\n",
       "  36.1567,59.4124 41.3191,59.4124 \n",
       "  \"/>\n",
       "<g clip-path=\"url(#clip8300)\">\n",
       "<text style=\"fill:#000000; fill-opacity:1; font-family:Arial,Helvetica Neue,Helvetica,sans-serif; font-size:12; text-anchor:middle;\" transform=\"rotate(0, 60.9492, 287.621)\" x=\"60.9492\" y=\"287.621\">-10</text>\n",
       "</g>\n",
       "<g clip-path=\"url(#clip8300)\">\n",
       "<text style=\"fill:#000000; fill-opacity:1; font-family:Arial,Helvetica Neue,Helvetica,sans-serif; font-size:12; text-anchor:middle;\" transform=\"rotate(0, 167.102, 287.621)\" x=\"167.102\" y=\"287.621\">0</text>\n",
       "</g>\n",
       "<g clip-path=\"url(#clip8300)\">\n",
       "<text style=\"fill:#000000; fill-opacity:1; font-family:Arial,Helvetica Neue,Helvetica,sans-serif; font-size:12; text-anchor:middle;\" transform=\"rotate(0, 273.254, 287.621)\" x=\"273.254\" y=\"287.621\">10</text>\n",
       "</g>\n",
       "<g clip-path=\"url(#clip8300)\">\n",
       "<text style=\"fill:#000000; fill-opacity:1; font-family:Arial,Helvetica Neue,Helvetica,sans-serif; font-size:12; text-anchor:middle;\" transform=\"rotate(0, 379.407, 287.621)\" x=\"379.407\" y=\"287.621\">20</text>\n",
       "</g>\n",
       "<g clip-path=\"url(#clip8300)\">\n",
       "<text style=\"fill:#000000; fill-opacity:1; font-family:Arial,Helvetica Neue,Helvetica,sans-serif; font-size:12; text-anchor:end;\" transform=\"rotate(0, 32.1567, 270.632)\" x=\"32.1567\" y=\"270.632\">-15</text>\n",
       "</g>\n",
       "<g clip-path=\"url(#clip8300)\">\n",
       "<text style=\"fill:#000000; fill-opacity:1; font-family:Arial,Helvetica Neue,Helvetica,sans-serif; font-size:12; text-anchor:end;\" transform=\"rotate(0, 32.1567, 218.952)\" x=\"32.1567\" y=\"218.952\">-10</text>\n",
       "</g>\n",
       "<g clip-path=\"url(#clip8300)\">\n",
       "<text style=\"fill:#000000; fill-opacity:1; font-family:Arial,Helvetica Neue,Helvetica,sans-serif; font-size:12; text-anchor:end;\" transform=\"rotate(0, 32.1567, 167.272)\" x=\"32.1567\" y=\"167.272\">-5</text>\n",
       "</g>\n",
       "<g clip-path=\"url(#clip8300)\">\n",
       "<text style=\"fill:#000000; fill-opacity:1; font-family:Arial,Helvetica Neue,Helvetica,sans-serif; font-size:12; text-anchor:end;\" transform=\"rotate(0, 32.1567, 115.592)\" x=\"32.1567\" y=\"115.592\">0</text>\n",
       "</g>\n",
       "<g clip-path=\"url(#clip8300)\">\n",
       "<text style=\"fill:#000000; fill-opacity:1; font-family:Arial,Helvetica Neue,Helvetica,sans-serif; font-size:12; text-anchor:end;\" transform=\"rotate(0, 32.1567, 63.9124)\" x=\"32.1567\" y=\"63.9124\">5</text>\n",
       "</g>\n",
       "<polyline clip-path=\"url(#clip8302)\" style=\"stroke:#009af9; stroke-width:1; stroke-opacity:1; fill:none\" points=\"\n",
       "  168.538,111.092 168.557,110.867 168.538,110.635 168.48,110.404 168.384,110.179 168.249,109.966 168.077,109.772 167.871,109.602 167.634,109.462 167.371,109.358 \n",
       "  167.087,109.294 166.789,109.273 166.484,109.299 166.179,109.373 165.883,109.496 165.604,109.667 165.349,109.885 165.126,110.144 164.944,110.443 164.809,110.773 \n",
       "  164.728,111.129 164.703,111.502 164.741,111.884 164.842,112.264 165.007,112.634 165.236,112.982 165.525,113.299 165.871,113.575 166.266,113.799 166.703,113.965 \n",
       "  167.174,114.064 167.667,114.09 168.171,114.04 168.672,113.909 169.158,113.698 169.616,113.409 170.032,113.043 170.392,112.608 170.685,112.111 170.899,111.562 \n",
       "  171.025,110.972 171.054,110.354 170.982,109.724 170.805,109.098 170.522,108.491 170.135,107.921 169.648,107.405 169.07,106.958 168.411,106.597 167.683,106.335 \n",
       "  166.903,106.183 166.087,106.152 165.256,106.248 164.431,106.477 163.633,106.837 162.884,107.328 162.208,107.942 161.624,108.67 161.153,109.499 160.814,110.413 \n",
       "  160.622,111.391 160.589,112.412 160.725,113.451 161.035,114.482 161.519,115.478 162.174,116.41 162.992,117.251 163.96,117.974 165.059,118.554 166.269,118.97 \n",
       "  167.562,119.201 168.911,119.231 170.281,119.051 171.639,118.652 172.949,118.036 174.173,117.206 175.275,116.174 176.22,114.956 176.975,113.573 177.511,112.055 \n",
       "  177.803,110.433 177.83,108.745 177.577,107.031 177.038,105.336 176.211,103.703 175.103,102.179 173.729,100.81 172.11,99.6393 170.278,98.7077 168.268,98.052 \n",
       "  166.123,97.7035 163.894,97.6872 161.634,98.0205 159.4,98.7129 157.253,99.7648 155.252,101.167 153.459,102.901 151.929,104.939 150.718,107.242 149.872,109.765 \n",
       "  149.434,112.453 149.435,115.244 149.898,118.069 150.835,120.858 152.246,123.536 154.117,126.026 156.425,128.253 159.131,130.147 162.185,131.64 165.525,132.673 \n",
       "  169.078,133.194 172.762,133.165 176.489,132.556 180.162,131.355 183.682,129.562 186.951,127.194 189.869,124.283 192.342,120.876 194.282,117.039 195.612,112.847 \n",
       "  196.264,108.395 196.188,103.783 195.346,99.1242 193.723,94.5386 191.32,90.1497 188.16,86.0822 184.287,82.4592 179.764,79.3982 174.677,77.0083 169.13,75.3866 \n",
       "  163.244,74.615 157.155,74.7576 151.013,75.8577 144.975,77.936 139.205,80.9884 133.866,84.9854 129.122,89.8711 125.126,95.5635 122.023,101.955 119.938,108.916 \n",
       "  118.979,116.291 119.229,123.911 120.744,131.589 123.549,139.126 127.638,146.318 132.969,152.96 139.468,158.85 147.025,163.793 155.496,167.614 164.707,170.153 \n",
       "  174.455,171.279 184.513,170.888 194.635,168.914 204.558,165.326 214.013,160.135 222.728,153.394 230.438,145.199 236.889,135.689 241.847,125.047 245.106,113.491 \n",
       "  246.494,101.277 245.876,88.69 243.167,76.0403 238.329,63.6552 231.379,51.8725 222.389,41.0312 211.491,31.4633 198.87,23.4848 184.768,17.3861 169.478,13.4236 \n",
       "  153.337,11.811 136.724,12.7117 120.049,16.2315 103.746,22.4135 88.2595,31.233 74.0365,42.5955 61.5142,56.3349 51.1079,72.2142 43.1987,89.9286 38.122,109.109 \n",
       "  36.1567,129.331 37.5145,150.117 42.3311,170.954 50.6588,191.299 62.4608,210.595 77.6074,228.284 95.8751,243.82 116.947,256.685 140.416,266.406 165.793,272.566 \n",
       "  192.511,274.821 219.942,272.91 247.405,266.669 274.184,256.039 299.542,241.069 322.743,221.93 343.07,198.905 359.842,172.397 372.439,142.921 380.315,111.092 \n",
       "  \n",
       "  \"/>\n",
       "<polygon clip-path=\"url(#clip8300)\" points=\"\n",
       "315.608,50.931 368.315,50.931 368.315,20.691 315.608,20.691 \n",
       "  \" fill=\"#ffffff\" fill-opacity=\"1\"/>\n",
       "<polyline clip-path=\"url(#clip8300)\" style=\"stroke:#000000; stroke-width:1; stroke-opacity:1; fill:none\" points=\"\n",
       "  315.608,50.931 368.315,50.931 368.315,20.691 315.608,20.691 315.608,50.931 \n",
       "  \"/>\n",
       "<polyline clip-path=\"url(#clip8300)\" style=\"stroke:#009af9; stroke-width:1; stroke-opacity:1; fill:none\" points=\"\n",
       "  319.608,35.811 343.608,35.811 \n",
       "  \"/>\n",
       "<g clip-path=\"url(#clip8300)\">\n",
       "<text style=\"fill:#000000; fill-opacity:1; font-family:Arial,Helvetica Neue,Helvetica,sans-serif; font-size:12; text-anchor:start;\" transform=\"rotate(0, 347.608, 40.311)\" x=\"347.608\" y=\"40.311\">y1</text>\n",
       "</g>\n",
       "</svg>\n"
      ]
     },
     "execution_count": 165,
     "metadata": {},
     "output_type": "execute_result"
    }
   ],
   "source": [
    "t = linspace(-2, 3, 200)\n",
    "x = cos.(t*pi*2) .* exp.(t)\n",
    "y = sin.(t*pi*2) .* exp.(t)\n",
    "plot(x, y)"
   ]
  },
  {
   "cell_type": "code",
   "execution_count": 166,
   "metadata": {},
   "outputs": [
    {
     "data": {
      "image/svg+xml": [
       "<?xml version=\"1.0\" encoding=\"utf-8\"?>\n",
       "<svg xmlns=\"http://www.w3.org/2000/svg\" xmlns:xlink=\"http://www.w3.org/1999/xlink\" width=\"400\" height=\"300\" viewBox=\"0 0 400 300\">\n",
       "<defs>\n",
       "  <clipPath id=\"clip8500\">\n",
       "    <rect x=\"0\" y=\"0\" width=\"400\" height=\"300\"/>\n",
       "  </clipPath>\n",
       "</defs>\n",
       "<polygon clip-path=\"url(#clip8500)\" points=\"\n",
       "0,300 400,300 400,0 0,0 \n",
       "  \" fill=\"#ffffff\" fill-opacity=\"1\"/>\n",
       "<defs>\n",
       "  <clipPath id=\"clip8501\">\n",
       "    <rect x=\"80\" y=\"0\" width=\"281\" height=\"281\"/>\n",
       "  </clipPath>\n",
       "</defs>\n",
       "<polygon clip-path=\"url(#clip8500)\" points=\"\n",
       "39.502,274.821 380.315,274.821 380.315,11.811 39.502,11.811 \n",
       "  \" fill=\"#ffffff\" fill-opacity=\"1\"/>\n",
       "<defs>\n",
       "  <clipPath id=\"clip8502\">\n",
       "    <rect x=\"39\" y=\"11\" width=\"342\" height=\"264\"/>\n",
       "  </clipPath>\n",
       "</defs>\n",
       "<polyline clip-path=\"url(#clip8502)\" style=\"stroke:#000000; stroke-width:0.5; stroke-opacity:0.1; fill:none\" points=\"\n",
       "  93.2138,274.821 93.2138,11.811 \n",
       "  \"/>\n",
       "<polyline clip-path=\"url(#clip8502)\" style=\"stroke:#000000; stroke-width:0.5; stroke-opacity:0.1; fill:none\" points=\"\n",
       "  147.762,274.821 147.762,11.811 \n",
       "  \"/>\n",
       "<polyline clip-path=\"url(#clip8502)\" style=\"stroke:#000000; stroke-width:0.5; stroke-opacity:0.1; fill:none\" points=\"\n",
       "  202.311,274.821 202.311,11.811 \n",
       "  \"/>\n",
       "<polyline clip-path=\"url(#clip8502)\" style=\"stroke:#000000; stroke-width:0.5; stroke-opacity:0.1; fill:none\" points=\"\n",
       "  256.859,274.821 256.859,11.811 \n",
       "  \"/>\n",
       "<polyline clip-path=\"url(#clip8502)\" style=\"stroke:#000000; stroke-width:0.5; stroke-opacity:0.1; fill:none\" points=\"\n",
       "  311.408,274.821 311.408,11.811 \n",
       "  \"/>\n",
       "<polyline clip-path=\"url(#clip8502)\" style=\"stroke:#000000; stroke-width:0.5; stroke-opacity:0.1; fill:none\" points=\"\n",
       "  365.957,274.821 365.957,11.811 \n",
       "  \"/>\n",
       "<polyline clip-path=\"url(#clip8502)\" style=\"stroke:#000000; stroke-width:0.5; stroke-opacity:0.1; fill:none\" points=\"\n",
       "  39.502,252.903 380.315,252.903 \n",
       "  \"/>\n",
       "<polyline clip-path=\"url(#clip8502)\" style=\"stroke:#000000; stroke-width:0.5; stroke-opacity:0.1; fill:none\" points=\"\n",
       "  39.502,198.11 380.315,198.11 \n",
       "  \"/>\n",
       "<polyline clip-path=\"url(#clip8502)\" style=\"stroke:#000000; stroke-width:0.5; stroke-opacity:0.1; fill:none\" points=\"\n",
       "  39.502,143.316 380.315,143.316 \n",
       "  \"/>\n",
       "<polyline clip-path=\"url(#clip8502)\" style=\"stroke:#000000; stroke-width:0.5; stroke-opacity:0.1; fill:none\" points=\"\n",
       "  39.502,88.5222 380.315,88.5222 \n",
       "  \"/>\n",
       "<polyline clip-path=\"url(#clip8502)\" style=\"stroke:#000000; stroke-width:0.5; stroke-opacity:0.1; fill:none\" points=\"\n",
       "  39.502,33.7285 380.315,33.7285 \n",
       "  \"/>\n",
       "<polyline clip-path=\"url(#clip8500)\" style=\"stroke:#000000; stroke-width:1; stroke-opacity:1; fill:none\" points=\"\n",
       "  39.502,274.821 380.315,274.821 \n",
       "  \"/>\n",
       "<polyline clip-path=\"url(#clip8500)\" style=\"stroke:#000000; stroke-width:1; stroke-opacity:1; fill:none\" points=\"\n",
       "  39.502,274.821 39.502,11.811 \n",
       "  \"/>\n",
       "<polyline clip-path=\"url(#clip8500)\" style=\"stroke:#000000; stroke-width:1; stroke-opacity:1; fill:none\" points=\"\n",
       "  93.2138,274.821 93.2138,270.876 \n",
       "  \"/>\n",
       "<polyline clip-path=\"url(#clip8500)\" style=\"stroke:#000000; stroke-width:1; stroke-opacity:1; fill:none\" points=\"\n",
       "  147.762,274.821 147.762,270.876 \n",
       "  \"/>\n",
       "<polyline clip-path=\"url(#clip8500)\" style=\"stroke:#000000; stroke-width:1; stroke-opacity:1; fill:none\" points=\"\n",
       "  202.311,274.821 202.311,270.876 \n",
       "  \"/>\n",
       "<polyline clip-path=\"url(#clip8500)\" style=\"stroke:#000000; stroke-width:1; stroke-opacity:1; fill:none\" points=\"\n",
       "  256.859,274.821 256.859,270.876 \n",
       "  \"/>\n",
       "<polyline clip-path=\"url(#clip8500)\" style=\"stroke:#000000; stroke-width:1; stroke-opacity:1; fill:none\" points=\"\n",
       "  311.408,274.821 311.408,270.876 \n",
       "  \"/>\n",
       "<polyline clip-path=\"url(#clip8500)\" style=\"stroke:#000000; stroke-width:1; stroke-opacity:1; fill:none\" points=\"\n",
       "  365.957,274.821 365.957,270.876 \n",
       "  \"/>\n",
       "<polyline clip-path=\"url(#clip8500)\" style=\"stroke:#000000; stroke-width:1; stroke-opacity:1; fill:none\" points=\"\n",
       "  39.502,252.903 44.6142,252.903 \n",
       "  \"/>\n",
       "<polyline clip-path=\"url(#clip8500)\" style=\"stroke:#000000; stroke-width:1; stroke-opacity:1; fill:none\" points=\"\n",
       "  39.502,198.11 44.6142,198.11 \n",
       "  \"/>\n",
       "<polyline clip-path=\"url(#clip8500)\" style=\"stroke:#000000; stroke-width:1; stroke-opacity:1; fill:none\" points=\"\n",
       "  39.502,143.316 44.6142,143.316 \n",
       "  \"/>\n",
       "<polyline clip-path=\"url(#clip8500)\" style=\"stroke:#000000; stroke-width:1; stroke-opacity:1; fill:none\" points=\"\n",
       "  39.502,88.5222 44.6142,88.5222 \n",
       "  \"/>\n",
       "<polyline clip-path=\"url(#clip8500)\" style=\"stroke:#000000; stroke-width:1; stroke-opacity:1; fill:none\" points=\"\n",
       "  39.502,33.7285 44.6142,33.7285 \n",
       "  \"/>\n",
       "<g clip-path=\"url(#clip8500)\">\n",
       "<text style=\"fill:#000000; fill-opacity:1; font-family:Arial,Helvetica Neue,Helvetica,sans-serif; font-size:12; text-anchor:middle;\" transform=\"rotate(0, 93.2138, 287.621)\" x=\"93.2138\" y=\"287.621\">1</text>\n",
       "</g>\n",
       "<g clip-path=\"url(#clip8500)\">\n",
       "<text style=\"fill:#000000; fill-opacity:1; font-family:Arial,Helvetica Neue,Helvetica,sans-serif; font-size:12; text-anchor:middle;\" transform=\"rotate(0, 147.762, 287.621)\" x=\"147.762\" y=\"287.621\">2</text>\n",
       "</g>\n",
       "<g clip-path=\"url(#clip8500)\">\n",
       "<text style=\"fill:#000000; fill-opacity:1; font-family:Arial,Helvetica Neue,Helvetica,sans-serif; font-size:12; text-anchor:middle;\" transform=\"rotate(0, 202.311, 287.621)\" x=\"202.311\" y=\"287.621\">3</text>\n",
       "</g>\n",
       "<g clip-path=\"url(#clip8500)\">\n",
       "<text style=\"fill:#000000; fill-opacity:1; font-family:Arial,Helvetica Neue,Helvetica,sans-serif; font-size:12; text-anchor:middle;\" transform=\"rotate(0, 256.859, 287.621)\" x=\"256.859\" y=\"287.621\">4</text>\n",
       "</g>\n",
       "<g clip-path=\"url(#clip8500)\">\n",
       "<text style=\"fill:#000000; fill-opacity:1; font-family:Arial,Helvetica Neue,Helvetica,sans-serif; font-size:12; text-anchor:middle;\" transform=\"rotate(0, 311.408, 287.621)\" x=\"311.408\" y=\"287.621\">5</text>\n",
       "</g>\n",
       "<g clip-path=\"url(#clip8500)\">\n",
       "<text style=\"fill:#000000; fill-opacity:1; font-family:Arial,Helvetica Neue,Helvetica,sans-serif; font-size:12; text-anchor:middle;\" transform=\"rotate(0, 365.957, 287.621)\" x=\"365.957\" y=\"287.621\">6</text>\n",
       "</g>\n",
       "<g clip-path=\"url(#clip8500)\">\n",
       "<text style=\"fill:#000000; fill-opacity:1; font-family:Arial,Helvetica Neue,Helvetica,sans-serif; font-size:12; text-anchor:end;\" transform=\"rotate(0, 35.502, 257.403)\" x=\"35.502\" y=\"257.403\">-1.0</text>\n",
       "</g>\n",
       "<g clip-path=\"url(#clip8500)\">\n",
       "<text style=\"fill:#000000; fill-opacity:1; font-family:Arial,Helvetica Neue,Helvetica,sans-serif; font-size:12; text-anchor:end;\" transform=\"rotate(0, 35.502, 202.61)\" x=\"35.502\" y=\"202.61\">-0.5</text>\n",
       "</g>\n",
       "<g clip-path=\"url(#clip8500)\">\n",
       "<text style=\"fill:#000000; fill-opacity:1; font-family:Arial,Helvetica Neue,Helvetica,sans-serif; font-size:12; text-anchor:end;\" transform=\"rotate(0, 35.502, 147.816)\" x=\"35.502\" y=\"147.816\">0.0</text>\n",
       "</g>\n",
       "<g clip-path=\"url(#clip8500)\">\n",
       "<text style=\"fill:#000000; fill-opacity:1; font-family:Arial,Helvetica Neue,Helvetica,sans-serif; font-size:12; text-anchor:end;\" transform=\"rotate(0, 35.502, 93.0222)\" x=\"35.502\" y=\"93.0222\">0.5</text>\n",
       "</g>\n",
       "<g clip-path=\"url(#clip8500)\">\n",
       "<text style=\"fill:#000000; fill-opacity:1; font-family:Arial,Helvetica Neue,Helvetica,sans-serif; font-size:12; text-anchor:end;\" transform=\"rotate(0, 35.502, 38.2285)\" x=\"35.502\" y=\"38.2285\">1.0</text>\n",
       "</g>\n",
       "<polyline clip-path=\"url(#clip8502)\" style=\"stroke:#009af9; stroke-width:1; stroke-opacity:1; fill:none\" points=\"\n",
       "  39.502,141.635 40.3388,139.954 41.1756,138.274 42.0124,136.596 49.7496,121.2 57.4869,106.249 65.2241,92.0427 72.9614,78.8659 77.6111,71.554 82.2609,64.7632 \n",
       "  86.9106,58.5428 91.5604,52.938 95.4917,48.7098 99.423,44.9727 103.354,41.7462 107.286,39.0471 111.556,36.7288 115.827,35.0635 120.097,34.0614 124.368,33.7285 \n",
       "  128.305,34.0164 132.242,34.8734 136.179,36.2951 140.116,38.274 144.337,41.0028 148.558,44.3439 152.779,48.2773 157,52.7794 161.89,58.6712 166.78,65.2428 \n",
       "  171.671,72.4415 176.561,80.2095 185.253,95.2247 193.945,111.458 201.567,126.372 209.189,141.617 217.499,158.265 225.809,174.567 234.168,190.234 242.528,204.802 \n",
       "  247.149,212.257 251.77,219.218 256.392,225.634 261.013,231.46 265.41,236.417 269.807,240.769 274.204,244.489 278.601,247.551 283.172,250.017 287.744,251.734 \n",
       "  292.316,252.69 296.888,252.878 300.736,252.44 304.585,251.459 308.434,249.94 312.282,247.89 316.981,244.684 321.679,240.726 326.378,236.045 331.076,230.677 \n",
       "  335.493,225.04 339.91,218.867 344.327,212.199 348.744,205.079 355.82,192.85 362.896,179.789 369.972,166.115 377.048,152.058 378.137,149.875 379.226,147.69 \n",
       "  380.315,145.503 \n",
       "  \"/>\n",
       "<polyline clip-path=\"url(#clip8502)\" style=\"stroke:#ff00ff; stroke-width:1; stroke-opacity:1; fill:none\" points=\"\n",
       "  39.502,33.7414 40.3388,33.7801 41.1756,33.8445 42.0124,33.9347 45.881,34.6859 49.7496,35.9832 53.6182,37.8202 57.4869,40.1875 61.3555,43.0733 65.2241,46.4631 \n",
       "  69.0927,50.3399 72.9614,54.6841 77.6111,60.493 82.2609,66.9034 86.9106,73.8686 91.5604,81.3381 99.423,94.9629 107.286,109.59 124.368,143.352 140.116,174.55 \n",
       "  148.558,190.368 157,205.062 161.89,212.92 166.78,220.218 171.671,226.899 176.561,232.909 180.907,237.648 185.253,241.787 189.599,245.302 193.945,248.171 \n",
       "  197.756,250.139 201.567,251.586 205.378,252.504 209.189,252.89 213.344,252.702 217.499,251.879 221.654,250.427 225.809,248.353 229.989,245.653 234.168,242.352 \n",
       "  238.348,238.47 242.528,234.029 247.149,228.501 251.77,222.362 256.392,215.656 261.013,208.431 265.41,201.122 269.807,193.438 274.204,185.428 278.601,177.145 \n",
       "  296.888,140.968 312.282,110.55 316.981,101.675 321.679,93.1092 326.378,84.9152 331.076,77.1542 335.493,70.305 339.91,63.9342 344.327,58.0836 348.744,52.7915 \n",
       "  352.282,48.9786 355.82,45.5625 359.358,42.5575 362.896,39.9762 369.972,36.1263 377.048,34.0777 378.137,33.925 379.226,33.8158 380.315,33.7503 \n",
       "  \"/>\n",
       "<polyline clip-path=\"url(#clip8502)\" style=\"stroke:#ff0000; stroke-width:1; stroke-opacity:1; fill:none\" stroke-dasharray=\"8, 5\" points=\"\n",
       "  42.0124,33.7285 72.9614,33.7285 91.5604,33.7285 107.286,33.7285 124.368,33.7285 140.116,33.7285 157,33.7285 176.561,33.7285 193.945,33.7285 209.189,33.7285 \n",
       "  225.809,33.7285 242.528,33.7285 261.013,33.7285 278.601,33.7285 296.888,33.7285 312.282,33.7285 331.076,33.7285 348.744,33.7285 377.048,33.7285 \n",
       "  \"/>\n",
       "<polyline clip-path=\"url(#clip8502)\" style=\"stroke:#ff0000; stroke-width:1; stroke-opacity:1; fill:none\" stroke-dasharray=\"8, 5\" points=\"\n",
       "  42.0124,252.903 72.9614,252.903 91.5604,252.903 107.286,252.903 124.368,252.903 140.116,252.903 157,252.903 176.561,252.903 193.945,252.903 209.189,252.903 \n",
       "  225.809,252.903 242.528,252.903 261.013,252.903 278.601,252.903 296.888,252.903 312.282,252.903 331.076,252.903 348.744,252.903 377.048,252.903 \n",
       "  \"/>\n",
       "<polygon clip-path=\"url(#clip8500)\" points=\"\n",
       "309.591,66.051 368.315,66.051 368.315,20.691 309.591,20.691 \n",
       "  \" fill=\"#ffffff\" fill-opacity=\"1\"/>\n",
       "<polyline clip-path=\"url(#clip8500)\" style=\"stroke:#000000; stroke-width:1; stroke-opacity:1; fill:none\" points=\"\n",
       "  309.591,66.051 368.315,66.051 368.315,20.691 309.591,20.691 309.591,66.051 \n",
       "  \"/>\n",
       "<polyline clip-path=\"url(#clip8500)\" style=\"stroke:#009af9; stroke-width:1; stroke-opacity:1; fill:none\" points=\"\n",
       "  313.591,35.811 337.591,35.811 \n",
       "  \"/>\n",
       "<g clip-path=\"url(#clip8500)\">\n",
       "<text style=\"fill:#000000; fill-opacity:1; font-family:Arial,Helvetica Neue,Helvetica,sans-serif; font-size:12; text-anchor:start;\" transform=\"rotate(0, 341.591, 40.311)\" x=\"341.591\" y=\"40.311\">sin</text>\n",
       "</g>\n",
       "<polyline clip-path=\"url(#clip8500)\" style=\"stroke:#ff00ff; stroke-width:1; stroke-opacity:1; fill:none\" points=\"\n",
       "  313.591,50.931 337.591,50.931 \n",
       "  \"/>\n",
       "<g clip-path=\"url(#clip8500)\">\n",
       "<text style=\"fill:#000000; fill-opacity:1; font-family:Arial,Helvetica Neue,Helvetica,sans-serif; font-size:12; text-anchor:start;\" transform=\"rotate(0, 341.591, 55.431)\" x=\"341.591\" y=\"55.431\">cos</text>\n",
       "</g>\n",
       "</svg>\n"
      ]
     },
     "execution_count": 166,
     "metadata": {},
     "output_type": "execute_result"
    }
   ],
   "source": [
    "plot(sin, 0, 2pi, label=\"sin\")\n",
    "plot!(cos, 0, 2pi, label=\"cos\", c = :magenta)\n",
    "plot!(x -> 1, 0, 2pi, c=:red, l=:dash, label=\"\")\n",
    "plot!(x -> -1, 0, 2pi, c=:red, l=:dash, label=\"\")\n",
    "ylims!(-1.2, 1.2)"
   ]
  },
  {
   "cell_type": "code",
   "execution_count": 167,
   "metadata": {},
   "outputs": [
    {
     "data": {
      "image/svg+xml": [
       "<?xml version=\"1.0\" encoding=\"utf-8\"?>\n",
       "<svg xmlns=\"http://www.w3.org/2000/svg\" xmlns:xlink=\"http://www.w3.org/1999/xlink\" width=\"400\" height=\"300\" viewBox=\"0 0 400 300\">\n",
       "<defs>\n",
       "  <clipPath id=\"clip8700\">\n",
       "    <rect x=\"0\" y=\"0\" width=\"400\" height=\"300\"/>\n",
       "  </clipPath>\n",
       "</defs>\n",
       "<polygon clip-path=\"url(#clip8700)\" points=\"\n",
       "0,300 400,300 400,0 0,0 \n",
       "  \" fill=\"#ffffff\" fill-opacity=\"1\"/>\n",
       "<defs>\n",
       "  <clipPath id=\"clip8701\">\n",
       "    <rect x=\"80\" y=\"0\" width=\"281\" height=\"281\"/>\n",
       "  </clipPath>\n",
       "</defs>\n",
       "<polygon clip-path=\"url(#clip8700)\" points=\"\n",
       "39.502,274.821 380.315,274.821 380.315,11.811 39.502,11.811 \n",
       "  \" fill=\"#ffffff\" fill-opacity=\"1\"/>\n",
       "<defs>\n",
       "  <clipPath id=\"clip8702\">\n",
       "    <rect x=\"39\" y=\"11\" width=\"342\" height=\"264\"/>\n",
       "  </clipPath>\n",
       "</defs>\n",
       "<polyline clip-path=\"url(#clip8702)\" style=\"stroke:#000000; stroke-width:0.5; stroke-opacity:0.1; fill:none\" points=\"\n",
       "  124.35,274.821 124.35,11.811 \n",
       "  \"/>\n",
       "<polyline clip-path=\"url(#clip8702)\" style=\"stroke:#000000; stroke-width:0.5; stroke-opacity:0.1; fill:none\" points=\"\n",
       "  210.035,274.821 210.035,11.811 \n",
       "  \"/>\n",
       "<polyline clip-path=\"url(#clip8702)\" style=\"stroke:#000000; stroke-width:0.5; stroke-opacity:0.1; fill:none\" points=\"\n",
       "  295.719,274.821 295.719,11.811 \n",
       "  \"/>\n",
       "<polyline clip-path=\"url(#clip8702)\" style=\"stroke:#000000; stroke-width:0.5; stroke-opacity:0.1; fill:none\" points=\"\n",
       "  39.502,252.903 380.315,252.903 \n",
       "  \"/>\n",
       "<polyline clip-path=\"url(#clip8702)\" style=\"stroke:#000000; stroke-width:0.5; stroke-opacity:0.1; fill:none\" points=\"\n",
       "  39.502,198.11 380.315,198.11 \n",
       "  \"/>\n",
       "<polyline clip-path=\"url(#clip8702)\" style=\"stroke:#000000; stroke-width:0.5; stroke-opacity:0.1; fill:none\" points=\"\n",
       "  39.502,143.316 380.315,143.316 \n",
       "  \"/>\n",
       "<polyline clip-path=\"url(#clip8702)\" style=\"stroke:#000000; stroke-width:0.5; stroke-opacity:0.1; fill:none\" points=\"\n",
       "  39.502,88.5222 380.315,88.5222 \n",
       "  \"/>\n",
       "<polyline clip-path=\"url(#clip8702)\" style=\"stroke:#000000; stroke-width:0.5; stroke-opacity:0.1; fill:none\" points=\"\n",
       "  39.502,33.7285 380.315,33.7285 \n",
       "  \"/>\n",
       "<polyline clip-path=\"url(#clip8700)\" style=\"stroke:#000000; stroke-width:1; stroke-opacity:1; fill:none\" points=\"\n",
       "  39.502,274.821 380.315,274.821 \n",
       "  \"/>\n",
       "<polyline clip-path=\"url(#clip8700)\" style=\"stroke:#000000; stroke-width:1; stroke-opacity:1; fill:none\" points=\"\n",
       "  39.502,274.821 39.502,11.811 \n",
       "  \"/>\n",
       "<polyline clip-path=\"url(#clip8700)\" style=\"stroke:#000000; stroke-width:1; stroke-opacity:1; fill:none\" points=\"\n",
       "  124.35,274.821 124.35,270.876 \n",
       "  \"/>\n",
       "<polyline clip-path=\"url(#clip8700)\" style=\"stroke:#000000; stroke-width:1; stroke-opacity:1; fill:none\" points=\"\n",
       "  210.035,274.821 210.035,270.876 \n",
       "  \"/>\n",
       "<polyline clip-path=\"url(#clip8700)\" style=\"stroke:#000000; stroke-width:1; stroke-opacity:1; fill:none\" points=\"\n",
       "  295.719,274.821 295.719,270.876 \n",
       "  \"/>\n",
       "<polyline clip-path=\"url(#clip8700)\" style=\"stroke:#000000; stroke-width:1; stroke-opacity:1; fill:none\" points=\"\n",
       "  39.502,252.903 44.6142,252.903 \n",
       "  \"/>\n",
       "<polyline clip-path=\"url(#clip8700)\" style=\"stroke:#000000; stroke-width:1; stroke-opacity:1; fill:none\" points=\"\n",
       "  39.502,198.11 44.6142,198.11 \n",
       "  \"/>\n",
       "<polyline clip-path=\"url(#clip8700)\" style=\"stroke:#000000; stroke-width:1; stroke-opacity:1; fill:none\" points=\"\n",
       "  39.502,143.316 44.6142,143.316 \n",
       "  \"/>\n",
       "<polyline clip-path=\"url(#clip8700)\" style=\"stroke:#000000; stroke-width:1; stroke-opacity:1; fill:none\" points=\"\n",
       "  39.502,88.5222 44.6142,88.5222 \n",
       "  \"/>\n",
       "<polyline clip-path=\"url(#clip8700)\" style=\"stroke:#000000; stroke-width:1; stroke-opacity:1; fill:none\" points=\"\n",
       "  39.502,33.7285 44.6142,33.7285 \n",
       "  \"/>\n",
       "<g clip-path=\"url(#clip8700)\">\n",
       "<text style=\"fill:#000000; fill-opacity:1; font-family:Arial,Helvetica Neue,Helvetica,sans-serif; font-size:12; text-anchor:middle;\" transform=\"rotate(0, 124.35, 287.621)\" x=\"124.35\" y=\"287.621\">1.5707963</text>\n",
       "</g>\n",
       "<g clip-path=\"url(#clip8700)\">\n",
       "<text style=\"fill:#000000; fill-opacity:1; font-family:Arial,Helvetica Neue,Helvetica,sans-serif; font-size:12; text-anchor:middle;\" transform=\"rotate(0, 210.035, 287.621)\" x=\"210.035\" y=\"287.621\">3.1415927</text>\n",
       "</g>\n",
       "<g clip-path=\"url(#clip8700)\">\n",
       "<text style=\"fill:#000000; fill-opacity:1; font-family:Arial,Helvetica Neue,Helvetica,sans-serif; font-size:12; text-anchor:middle;\" transform=\"rotate(0, 295.719, 287.621)\" x=\"295.719\" y=\"287.621\">4.7123890</text>\n",
       "</g>\n",
       "<g clip-path=\"url(#clip8700)\">\n",
       "<text style=\"fill:#000000; fill-opacity:1; font-family:Arial,Helvetica Neue,Helvetica,sans-serif; font-size:12; text-anchor:end;\" transform=\"rotate(0, 35.502, 257.403)\" x=\"35.502\" y=\"257.403\">-1.0</text>\n",
       "</g>\n",
       "<g clip-path=\"url(#clip8700)\">\n",
       "<text style=\"fill:#000000; fill-opacity:1; font-family:Arial,Helvetica Neue,Helvetica,sans-serif; font-size:12; text-anchor:end;\" transform=\"rotate(0, 35.502, 202.61)\" x=\"35.502\" y=\"202.61\">-0.5</text>\n",
       "</g>\n",
       "<g clip-path=\"url(#clip8700)\">\n",
       "<text style=\"fill:#000000; fill-opacity:1; font-family:Arial,Helvetica Neue,Helvetica,sans-serif; font-size:12; text-anchor:end;\" transform=\"rotate(0, 35.502, 147.816)\" x=\"35.502\" y=\"147.816\">0.0</text>\n",
       "</g>\n",
       "<g clip-path=\"url(#clip8700)\">\n",
       "<text style=\"fill:#000000; fill-opacity:1; font-family:Arial,Helvetica Neue,Helvetica,sans-serif; font-size:12; text-anchor:end;\" transform=\"rotate(0, 35.502, 93.0222)\" x=\"35.502\" y=\"93.0222\">0.5</text>\n",
       "</g>\n",
       "<g clip-path=\"url(#clip8700)\">\n",
       "<text style=\"fill:#000000; fill-opacity:1; font-family:Arial,Helvetica Neue,Helvetica,sans-serif; font-size:12; text-anchor:end;\" transform=\"rotate(0, 35.502, 38.2285)\" x=\"35.502\" y=\"38.2285\">1.0</text>\n",
       "</g>\n",
       "<polyline clip-path=\"url(#clip8702)\" style=\"stroke:#009af9; stroke-width:1; stroke-opacity:1; fill:none\" points=\"\n",
       "  39.502,141.635 40.3388,139.954 41.1756,138.274 42.0124,136.596 49.7496,121.2 57.4869,106.249 65.2241,92.0427 72.9614,78.8659 77.6111,71.554 82.2609,64.7632 \n",
       "  86.9106,58.5428 91.5604,52.938 95.4917,48.7098 99.423,44.9727 103.354,41.7462 107.286,39.0471 111.556,36.7288 115.827,35.0635 120.097,34.0614 124.368,33.7285 \n",
       "  128.305,34.0164 132.242,34.8734 136.179,36.2951 140.116,38.274 144.337,41.0028 148.558,44.3439 152.779,48.2773 157,52.7794 161.89,58.6712 166.78,65.2428 \n",
       "  171.671,72.4415 176.561,80.2095 185.253,95.2247 193.945,111.458 201.567,126.372 209.189,141.617 217.499,158.265 225.809,174.567 234.168,190.234 242.528,204.802 \n",
       "  247.149,212.257 251.77,219.218 256.392,225.634 261.013,231.46 265.41,236.417 269.807,240.769 274.204,244.489 278.601,247.551 283.172,250.017 287.744,251.734 \n",
       "  292.316,252.69 296.888,252.878 300.736,252.44 304.585,251.459 308.434,249.94 312.282,247.89 316.981,244.684 321.679,240.726 326.378,236.045 331.076,230.677 \n",
       "  335.493,225.04 339.91,218.867 344.327,212.199 348.744,205.079 355.82,192.85 362.896,179.789 369.972,166.115 377.048,152.058 378.137,149.875 379.226,147.69 \n",
       "  380.315,145.503 \n",
       "  \"/>\n",
       "<polyline clip-path=\"url(#clip8702)\" style=\"stroke:#ff00ff; stroke-width:1; stroke-opacity:1; fill:none\" points=\"\n",
       "  39.502,33.7414 40.3388,33.7801 41.1756,33.8445 42.0124,33.9347 45.881,34.6859 49.7496,35.9832 53.6182,37.8202 57.4869,40.1875 61.3555,43.0733 65.2241,46.4631 \n",
       "  69.0927,50.3399 72.9614,54.6841 77.6111,60.493 82.2609,66.9034 86.9106,73.8686 91.5604,81.3381 99.423,94.9629 107.286,109.59 124.368,143.352 140.116,174.55 \n",
       "  148.558,190.368 157,205.062 161.89,212.92 166.78,220.218 171.671,226.899 176.561,232.909 180.907,237.648 185.253,241.787 189.599,245.302 193.945,248.171 \n",
       "  197.756,250.139 201.567,251.586 205.378,252.504 209.189,252.89 213.344,252.702 217.499,251.879 221.654,250.427 225.809,248.353 229.989,245.653 234.168,242.352 \n",
       "  238.348,238.47 242.528,234.029 247.149,228.501 251.77,222.362 256.392,215.656 261.013,208.431 265.41,201.122 269.807,193.438 274.204,185.428 278.601,177.145 \n",
       "  296.888,140.968 312.282,110.55 316.981,101.675 321.679,93.1092 326.378,84.9152 331.076,77.1542 335.493,70.305 339.91,63.9342 344.327,58.0836 348.744,52.7915 \n",
       "  352.282,48.9786 355.82,45.5625 359.358,42.5575 362.896,39.9762 369.972,36.1263 377.048,34.0777 378.137,33.925 379.226,33.8158 380.315,33.7503 \n",
       "  \"/>\n",
       "<polyline clip-path=\"url(#clip8702)\" style=\"stroke:#ff0000; stroke-width:1; stroke-opacity:1; fill:none\" stroke-dasharray=\"8, 5\" points=\"\n",
       "  42.0124,33.7285 72.9614,33.7285 91.5604,33.7285 107.286,33.7285 124.368,33.7285 140.116,33.7285 157,33.7285 176.561,33.7285 193.945,33.7285 209.189,33.7285 \n",
       "  225.809,33.7285 242.528,33.7285 261.013,33.7285 278.601,33.7285 296.888,33.7285 312.282,33.7285 331.076,33.7285 348.744,33.7285 377.048,33.7285 \n",
       "  \"/>\n",
       "<polyline clip-path=\"url(#clip8702)\" style=\"stroke:#ff0000; stroke-width:1; stroke-opacity:1; fill:none\" stroke-dasharray=\"8, 5\" points=\"\n",
       "  42.0124,252.903 72.9614,252.903 91.5604,252.903 107.286,252.903 124.368,252.903 140.116,252.903 157,252.903 176.561,252.903 193.945,252.903 209.189,252.903 \n",
       "  225.809,252.903 242.528,252.903 261.013,252.903 278.601,252.903 296.888,252.903 312.282,252.903 331.076,252.903 348.744,252.903 377.048,252.903 \n",
       "  \"/>\n",
       "<polygon clip-path=\"url(#clip8700)\" points=\"\n",
       "309.591,66.051 368.315,66.051 368.315,20.691 309.591,20.691 \n",
       "  \" fill=\"#ffffff\" fill-opacity=\"1\"/>\n",
       "<polyline clip-path=\"url(#clip8700)\" style=\"stroke:#000000; stroke-width:1; stroke-opacity:1; fill:none\" points=\"\n",
       "  309.591,66.051 368.315,66.051 368.315,20.691 309.591,20.691 309.591,66.051 \n",
       "  \"/>\n",
       "<polyline clip-path=\"url(#clip8700)\" style=\"stroke:#009af9; stroke-width:1; stroke-opacity:1; fill:none\" points=\"\n",
       "  313.591,35.811 337.591,35.811 \n",
       "  \"/>\n",
       "<g clip-path=\"url(#clip8700)\">\n",
       "<text style=\"fill:#000000; fill-opacity:1; font-family:Arial,Helvetica Neue,Helvetica,sans-serif; font-size:12; text-anchor:start;\" transform=\"rotate(0, 341.591, 40.311)\" x=\"341.591\" y=\"40.311\">sin</text>\n",
       "</g>\n",
       "<polyline clip-path=\"url(#clip8700)\" style=\"stroke:#ff00ff; stroke-width:1; stroke-opacity:1; fill:none\" points=\"\n",
       "  313.591,50.931 337.591,50.931 \n",
       "  \"/>\n",
       "<g clip-path=\"url(#clip8700)\">\n",
       "<text style=\"fill:#000000; fill-opacity:1; font-family:Arial,Helvetica Neue,Helvetica,sans-serif; font-size:12; text-anchor:start;\" transform=\"rotate(0, 341.591, 55.431)\" x=\"341.591\" y=\"55.431\">cos</text>\n",
       "</g>\n",
       "</svg>\n"
      ]
     },
     "execution_count": 167,
     "metadata": {},
     "output_type": "execute_result"
    }
   ],
   "source": [
    "xticks!(0:pi/2:2pi)"
   ]
  },
  {
   "cell_type": "code",
   "execution_count": 168,
   "metadata": {},
   "outputs": [
    {
     "data": {
      "image/svg+xml": [
       "<?xml version=\"1.0\" encoding=\"utf-8\"?>\n",
       "<svg xmlns=\"http://www.w3.org/2000/svg\" xmlns:xlink=\"http://www.w3.org/1999/xlink\" width=\"400\" height=\"300\" viewBox=\"0 0 400 300\">\n",
       "<defs>\n",
       "  <clipPath id=\"clip8900\">\n",
       "    <rect x=\"0\" y=\"0\" width=\"400\" height=\"300\"/>\n",
       "  </clipPath>\n",
       "</defs>\n",
       "<polygon clip-path=\"url(#clip8900)\" points=\"\n",
       "0,300 400,300 400,0 0,0 \n",
       "  \" fill=\"#ffffff\" fill-opacity=\"1\"/>\n",
       "<defs>\n",
       "  <clipPath id=\"clip8901\">\n",
       "    <rect x=\"80\" y=\"0\" width=\"281\" height=\"281\"/>\n",
       "  </clipPath>\n",
       "</defs>\n",
       "<polygon clip-path=\"url(#clip8900)\" points=\"\n",
       "39.502,265.922 380.315,265.922 380.315,11.811 39.502,11.811 \n",
       "  \" fill=\"#ffffff\" fill-opacity=\"1\"/>\n",
       "<defs>\n",
       "  <clipPath id=\"clip8902\">\n",
       "    <rect x=\"39\" y=\"11\" width=\"342\" height=\"255\"/>\n",
       "  </clipPath>\n",
       "</defs>\n",
       "<polyline clip-path=\"url(#clip8902)\" style=\"stroke:#000000; stroke-width:0.5; stroke-opacity:0.1; fill:none\" points=\"\n",
       "  38.6652,265.922 38.6652,11.811 \n",
       "  \"/>\n",
       "<polyline clip-path=\"url(#clip8902)\" style=\"stroke:#000000; stroke-width:0.5; stroke-opacity:0.1; fill:none\" points=\"\n",
       "  124.35,265.922 124.35,11.811 \n",
       "  \"/>\n",
       "<polyline clip-path=\"url(#clip8902)\" style=\"stroke:#000000; stroke-width:0.5; stroke-opacity:0.1; fill:none\" points=\"\n",
       "  210.035,265.922 210.035,11.811 \n",
       "  \"/>\n",
       "<polyline clip-path=\"url(#clip8902)\" style=\"stroke:#000000; stroke-width:0.5; stroke-opacity:0.1; fill:none\" points=\"\n",
       "  295.719,265.922 295.719,11.811 \n",
       "  \"/>\n",
       "<polyline clip-path=\"url(#clip8902)\" style=\"stroke:#000000; stroke-width:0.5; stroke-opacity:0.1; fill:none\" points=\"\n",
       "  381.404,265.922 381.404,11.811 \n",
       "  \"/>\n",
       "<polyline clip-path=\"url(#clip8902)\" style=\"stroke:#000000; stroke-width:0.5; stroke-opacity:0.1; fill:none\" points=\"\n",
       "  39.502,244.746 380.315,244.746 \n",
       "  \"/>\n",
       "<polyline clip-path=\"url(#clip8902)\" style=\"stroke:#000000; stroke-width:0.5; stroke-opacity:0.1; fill:none\" points=\"\n",
       "  39.502,191.806 380.315,191.806 \n",
       "  \"/>\n",
       "<polyline clip-path=\"url(#clip8902)\" style=\"stroke:#000000; stroke-width:0.5; stroke-opacity:0.1; fill:none\" points=\"\n",
       "  39.502,138.867 380.315,138.867 \n",
       "  \"/>\n",
       "<polyline clip-path=\"url(#clip8902)\" style=\"stroke:#000000; stroke-width:0.5; stroke-opacity:0.1; fill:none\" points=\"\n",
       "  39.502,85.9268 380.315,85.9268 \n",
       "  \"/>\n",
       "<polyline clip-path=\"url(#clip8902)\" style=\"stroke:#000000; stroke-width:0.5; stroke-opacity:0.1; fill:none\" points=\"\n",
       "  39.502,32.9869 380.315,32.9869 \n",
       "  \"/>\n",
       "<polyline clip-path=\"url(#clip8900)\" style=\"stroke:#000000; stroke-width:1; stroke-opacity:1; fill:none\" points=\"\n",
       "  39.502,265.922 380.315,265.922 \n",
       "  \"/>\n",
       "<polyline clip-path=\"url(#clip8900)\" style=\"stroke:#000000; stroke-width:1; stroke-opacity:1; fill:none\" points=\"\n",
       "  39.502,265.922 39.502,11.811 \n",
       "  \"/>\n",
       "<polyline clip-path=\"url(#clip8900)\" style=\"stroke:#000000; stroke-width:1; stroke-opacity:1; fill:none\" points=\"\n",
       "  38.6652,265.922 38.6652,262.11 \n",
       "  \"/>\n",
       "<polyline clip-path=\"url(#clip8900)\" style=\"stroke:#000000; stroke-width:1; stroke-opacity:1; fill:none\" points=\"\n",
       "  124.35,265.922 124.35,262.11 \n",
       "  \"/>\n",
       "<polyline clip-path=\"url(#clip8900)\" style=\"stroke:#000000; stroke-width:1; stroke-opacity:1; fill:none\" points=\"\n",
       "  210.035,265.922 210.035,262.11 \n",
       "  \"/>\n",
       "<polyline clip-path=\"url(#clip8900)\" style=\"stroke:#000000; stroke-width:1; stroke-opacity:1; fill:none\" points=\"\n",
       "  295.719,265.922 295.719,262.11 \n",
       "  \"/>\n",
       "<polyline clip-path=\"url(#clip8900)\" style=\"stroke:#000000; stroke-width:1; stroke-opacity:1; fill:none\" points=\"\n",
       "  381.404,265.922 381.404,262.11 \n",
       "  \"/>\n",
       "<polyline clip-path=\"url(#clip8900)\" style=\"stroke:#000000; stroke-width:1; stroke-opacity:1; fill:none\" points=\"\n",
       "  39.502,244.746 44.6142,244.746 \n",
       "  \"/>\n",
       "<polyline clip-path=\"url(#clip8900)\" style=\"stroke:#000000; stroke-width:1; stroke-opacity:1; fill:none\" points=\"\n",
       "  39.502,191.806 44.6142,191.806 \n",
       "  \"/>\n",
       "<polyline clip-path=\"url(#clip8900)\" style=\"stroke:#000000; stroke-width:1; stroke-opacity:1; fill:none\" points=\"\n",
       "  39.502,138.867 44.6142,138.867 \n",
       "  \"/>\n",
       "<polyline clip-path=\"url(#clip8900)\" style=\"stroke:#000000; stroke-width:1; stroke-opacity:1; fill:none\" points=\"\n",
       "  39.502,85.9268 44.6142,85.9268 \n",
       "  \"/>\n",
       "<polyline clip-path=\"url(#clip8900)\" style=\"stroke:#000000; stroke-width:1; stroke-opacity:1; fill:none\" points=\"\n",
       "  39.502,32.9869 44.6142,32.9869 \n",
       "  \"/>\n",
       "<g clip-path=\"url(#clip8900)\">\n",
       "<text style=\"fill:#000000; fill-opacity:1; font-family:Arial,Helvetica Neue,Helvetica,sans-serif; font-size:12; text-anchor:middle;\" transform=\"rotate(0, 38.6652, 278.722)\" x=\"38.6652\" y=\"278.722\">0</text>\n",
       "</g>\n",
       "<g clip-path=\"url(#clip8900)\">\n",
       "<text style=\"fill:#000000; fill-opacity:1; font-family:Symbol; font-size:13; text-anchor:start;\" transform=\"rotate(0, 114.104, 278.636)\" x=\"114.104\" y=\"278.636\">π</text>\n",
       "</g>\n",
       "<g clip-path=\"url(#clip8900)\">\n",
       "<text style=\"fill:#000000; fill-opacity:1; font-family:Arial,Helvetica Neue,Helvetica,sans-serif; font-size:12; text-anchor:start;\" transform=\"rotate(0, 121.215, 278.636)\" x=\"121.215\" y=\"278.636\"> /2</text>\n",
       "</g>\n",
       "<g clip-path=\"url(#clip8900)\">\n",
       "<text style=\"fill:#000000; fill-opacity:1; font-family:Symbol; font-size:13; text-anchor:start;\" transform=\"rotate(0, 206.479, 278.636)\" x=\"206.479\" y=\"278.636\">π</text>\n",
       "</g>\n",
       "<g clip-path=\"url(#clip8900)\">\n",
       "<text style=\"fill:#000000; fill-opacity:1; font-family:Arial,Helvetica Neue,Helvetica,sans-serif; font-size:11; text-anchor:start;\" transform=\"rotate(0, 289.465, 277.728)\" x=\"289.465\" y=\"277.728\">3</text>\n",
       "</g>\n",
       "<g clip-path=\"url(#clip8900)\">\n",
       "<text style=\"fill:#000000; fill-opacity:1; font-family:Symbol; font-size:12; text-anchor:start;\" transform=\"rotate(0, 295.529, 277.728)\" x=\"295.529\" y=\"277.728\">π</text>\n",
       "</g>\n",
       "<g clip-path=\"url(#clip8900)\">\n",
       "<text style=\"fill:#000000; fill-opacity:1; font-family:Arial,Helvetica Neue,Helvetica,sans-serif; font-size:11; text-anchor:start;\" transform=\"rotate(0, 292.688, 290.815)\" x=\"292.688\" y=\"290.815\">2</text>\n",
       "</g>\n",
       "<polyline clip-path=\"url(#clip8900)\" style=\"stroke:#000000; stroke-width:0.729815; stroke-opacity:1; fill:none\" points=\"\n",
       "  288.214,281.179 303.224,281.179 \n",
       "  \"/>\n",
       "<g clip-path=\"url(#clip8900)\">\n",
       "<text style=\"fill:#000000; fill-opacity:1; font-family:Arial,Helvetica Neue,Helvetica,sans-serif; font-size:12; text-anchor:start;\" transform=\"rotate(0, 374.503, 278.636)\" x=\"374.503\" y=\"278.636\">2</text>\n",
       "</g>\n",
       "<g clip-path=\"url(#clip8900)\">\n",
       "<text style=\"fill:#000000; fill-opacity:1; font-family:Symbol; font-size:13; text-anchor:start;\" transform=\"rotate(0, 381.193, 278.636)\" x=\"381.193\" y=\"278.636\">π</text>\n",
       "</g>\n",
       "<g clip-path=\"url(#clip8900)\">\n",
       "<text style=\"fill:#000000; fill-opacity:1; font-family:Arial,Helvetica Neue,Helvetica,sans-serif; font-size:12; text-anchor:end;\" transform=\"rotate(0, 35.502, 249.246)\" x=\"35.502\" y=\"249.246\">-1.0</text>\n",
       "</g>\n",
       "<g clip-path=\"url(#clip8900)\">\n",
       "<text style=\"fill:#000000; fill-opacity:1; font-family:Arial,Helvetica Neue,Helvetica,sans-serif; font-size:12; text-anchor:end;\" transform=\"rotate(0, 35.502, 196.306)\" x=\"35.502\" y=\"196.306\">-0.5</text>\n",
       "</g>\n",
       "<g clip-path=\"url(#clip8900)\">\n",
       "<text style=\"fill:#000000; fill-opacity:1; font-family:Arial,Helvetica Neue,Helvetica,sans-serif; font-size:12; text-anchor:end;\" transform=\"rotate(0, 35.502, 143.367)\" x=\"35.502\" y=\"143.367\">0.0</text>\n",
       "</g>\n",
       "<g clip-path=\"url(#clip8900)\">\n",
       "<text style=\"fill:#000000; fill-opacity:1; font-family:Arial,Helvetica Neue,Helvetica,sans-serif; font-size:12; text-anchor:end;\" transform=\"rotate(0, 35.502, 90.4268)\" x=\"35.502\" y=\"90.4268\">0.5</text>\n",
       "</g>\n",
       "<g clip-path=\"url(#clip8900)\">\n",
       "<text style=\"fill:#000000; fill-opacity:1; font-family:Arial,Helvetica Neue,Helvetica,sans-serif; font-size:12; text-anchor:end;\" transform=\"rotate(0, 35.502, 37.4869)\" x=\"35.502\" y=\"37.4869\">1.0</text>\n",
       "</g>\n",
       "<polyline clip-path=\"url(#clip8902)\" style=\"stroke:#009af9; stroke-width:1; stroke-opacity:1; fill:none\" points=\"\n",
       "  39.502,137.242 40.3388,135.619 41.1756,133.996 42.0124,132.374 49.7496,117.499 57.4869,103.054 65.2241,89.3281 72.9614,76.5972 77.6111,69.5326 82.2609,62.9716 \n",
       "  86.9106,56.9617 91.5604,51.5466 95.4917,47.4614 99.423,43.8507 103.354,40.7334 107.286,38.1255 111.556,35.8857 115.827,34.2768 120.097,33.3086 124.368,32.987 \n",
       "  128.305,33.2651 132.242,34.0931 136.179,35.4667 140.116,37.3786 144.337,40.0151 148.558,43.2431 152.779,47.0435 157,51.3933 161.89,57.0857 166.78,63.435 \n",
       "  171.671,70.3901 176.561,77.8953 185.253,92.4024 193.945,108.087 201.567,122.496 209.189,137.225 217.499,153.31 225.809,169.06 234.168,184.197 242.528,198.272 \n",
       "  247.149,205.475 251.77,212.201 256.392,218.4 261.013,224.029 265.41,228.818 269.807,233.023 274.204,236.616 278.601,239.575 283.172,241.958 287.744,243.617 \n",
       "  292.316,244.54 296.888,244.722 300.736,244.299 304.585,243.351 308.434,241.883 312.282,239.903 316.981,236.805 321.679,232.981 326.378,228.459 331.076,223.272 \n",
       "  335.493,217.825 339.91,211.861 344.327,205.419 348.744,198.54 355.82,186.725 362.896,174.106 369.972,160.894 377.048,147.312 378.137,145.204 379.226,143.093 \n",
       "  380.315,140.98 \n",
       "  \"/>\n",
       "<polyline clip-path=\"url(#clip8902)\" style=\"stroke:#ff00ff; stroke-width:1; stroke-opacity:1; fill:none\" points=\"\n",
       "  39.502,32.9994 40.3388,33.0368 41.1756,33.099 42.0124,33.1862 45.881,33.912 49.7496,35.1654 53.6182,36.9402 57.4869,39.2274 61.3555,42.0156 65.2241,45.2907 \n",
       "  69.0927,49.0363 72.9614,53.2335 77.6111,58.8459 82.2609,65.0394 86.9106,71.769 91.5604,78.9858 99.423,92.1495 107.286,106.282 124.368,138.901 140.116,169.044 \n",
       "  148.558,184.327 157,198.523 161.89,206.115 166.78,213.167 171.671,219.622 176.561,225.429 180.907,230.007 185.253,234.006 189.599,237.403 193.945,240.174 \n",
       "  197.756,242.075 201.567,243.473 205.378,244.361 209.189,244.733 213.344,244.551 217.499,243.756 221.654,242.353 225.809,240.35 229.989,237.741 234.168,234.552 \n",
       "  238.348,230.801 242.528,226.51 247.149,221.169 251.77,215.238 256.392,208.759 261.013,201.778 265.41,194.717 269.807,187.293 274.204,179.554 278.601,171.551 \n",
       "  296.888,136.598 312.282,107.21 316.981,98.6349 321.679,90.3585 326.378,82.4418 331.076,74.9434 335.493,68.3259 339.91,62.1707 344.327,56.518 348.744,51.4049 \n",
       "  352.282,47.7211 355.82,44.4205 359.358,41.5172 362.896,39.0232 369.972,35.3036 377.048,33.3243 378.137,33.1768 379.226,33.0713 380.315,33.008 \n",
       "  \"/>\n",
       "<polyline clip-path=\"url(#clip8902)\" style=\"stroke:#ff0000; stroke-width:1; stroke-opacity:1; fill:none\" stroke-dasharray=\"8, 5\" points=\"\n",
       "  42.0124,32.9869 72.9614,32.9869 91.5604,32.9869 107.286,32.9869 124.368,32.9869 140.116,32.9869 157,32.9869 176.561,32.9869 193.945,32.9869 209.189,32.9869 \n",
       "  225.809,32.9869 242.528,32.9869 261.013,32.9869 278.601,32.9869 296.888,32.9869 312.282,32.9869 331.076,32.9869 348.744,32.9869 377.048,32.9869 \n",
       "  \"/>\n",
       "<polyline clip-path=\"url(#clip8902)\" style=\"stroke:#ff0000; stroke-width:1; stroke-opacity:1; fill:none\" stroke-dasharray=\"8, 5\" points=\"\n",
       "  42.0124,244.746 72.9614,244.746 91.5604,244.746 107.286,244.746 124.368,244.746 140.116,244.746 157,244.746 176.561,244.746 193.945,244.746 209.189,244.746 \n",
       "  225.809,244.746 242.528,244.746 261.013,244.746 278.601,244.746 296.888,244.746 312.282,244.746 331.076,244.746 348.744,244.746 377.048,244.746 \n",
       "  \"/>\n",
       "<polygon clip-path=\"url(#clip8900)\" points=\"\n",
       "309.591,66.051 368.315,66.051 368.315,20.691 309.591,20.691 \n",
       "  \" fill=\"#ffffff\" fill-opacity=\"1\"/>\n",
       "<polyline clip-path=\"url(#clip8900)\" style=\"stroke:#000000; stroke-width:1; stroke-opacity:1; fill:none\" points=\"\n",
       "  309.591,66.051 368.315,66.051 368.315,20.691 309.591,20.691 309.591,66.051 \n",
       "  \"/>\n",
       "<polyline clip-path=\"url(#clip8900)\" style=\"stroke:#009af9; stroke-width:1; stroke-opacity:1; fill:none\" points=\"\n",
       "  313.591,35.811 337.591,35.811 \n",
       "  \"/>\n",
       "<g clip-path=\"url(#clip8900)\">\n",
       "<text style=\"fill:#000000; fill-opacity:1; font-family:Arial,Helvetica Neue,Helvetica,sans-serif; font-size:12; text-anchor:start;\" transform=\"rotate(0, 341.591, 40.311)\" x=\"341.591\" y=\"40.311\">sin</text>\n",
       "</g>\n",
       "<polyline clip-path=\"url(#clip8900)\" style=\"stroke:#ff00ff; stroke-width:1; stroke-opacity:1; fill:none\" points=\"\n",
       "  313.591,50.931 337.591,50.931 \n",
       "  \"/>\n",
       "<g clip-path=\"url(#clip8900)\">\n",
       "<text style=\"fill:#000000; fill-opacity:1; font-family:Arial,Helvetica Neue,Helvetica,sans-serif; font-size:12; text-anchor:start;\" transform=\"rotate(0, 341.591, 55.431)\" x=\"341.591\" y=\"55.431\">cos</text>\n",
       "</g>\n",
       "</svg>\n"
      ]
     },
     "execution_count": 168,
     "metadata": {},
     "output_type": "execute_result"
    }
   ],
   "source": [
    "xticks!(0:pi/2:2pi, [\"0\", \"\\\\pi /2\", \"\\\\pi\", \"3\\\\pi/2\", \"2\\\\pi\"])"
   ]
  },
  {
   "cell_type": "code",
   "execution_count": 169,
   "metadata": {},
   "outputs": [
    {
     "name": "stderr",
     "output_type": "stream",
     "text": [
      "\u001b[1m\u001b[36mINFO: \u001b[39m\u001b[22m\u001b[36mSaved animation to /home/abel/projetos/abel/abelsiqueira.github.io/disciplinas/cm103/2018/exemplo.gif\n",
      "\u001b[39m"
     ]
    },
    {
     "data": {
      "text/html": [
       "<img src=\"exemplo.gif?0.8276041978020725>\" />"
      ],
      "text/plain": [
       "Plots.AnimatedGif(\"/home/abel/projetos/abel/abelsiqueira.github.io/disciplinas/cm103/2018/exemplo.gif\")"
      ]
     },
     "execution_count": 169,
     "metadata": {},
     "output_type": "execute_result"
    }
   ],
   "source": [
    "x = linspace(0, 2*pi, 100)\n",
    "anim = Animation()\n",
    "for i = 1:5:100\n",
    "    plot(x[1:i], sin.(x[1:i]))\n",
    "    frame(anim)\n",
    "end\n",
    "gif(anim, \"exemplo.gif\", fps=10)"
   ]
  },
  {
   "cell_type": "code",
   "execution_count": 170,
   "metadata": {},
   "outputs": [
    {
     "name": "stderr",
     "output_type": "stream",
     "text": [
      "\u001b[1m\u001b[36mINFO: \u001b[39m\u001b[22m\u001b[36mSaved animation to /home/abel/projetos/abel/abelsiqueira.github.io/disciplinas/cm103/2018/exemplo2.gif\n",
      "\u001b[39m"
     ]
    },
    {
     "data": {
      "text/html": [
       "<img src=\"exemplo2.gif?0.3356874890376864>\" />"
      ],
      "text/plain": [
       "Plots.AnimatedGif(\"/home/abel/projetos/abel/abelsiqueira.github.io/disciplinas/cm103/2018/exemplo2.gif\")"
      ]
     },
     "execution_count": 170,
     "metadata": {},
     "output_type": "execute_result"
    }
   ],
   "source": [
    "x = linspace(0, 2*pi, 100)\n",
    "anim = Animation()\n",
    "for i = 1:3:100\n",
    "    plot(x[1:i], sin.(x[1:i]))\n",
    "    xlims!(x[1], x[end])\n",
    "    ylims!(-1, 1)\n",
    "    frame(anim)\n",
    "end\n",
    "gif(anim, \"exemplo2.gif\", fps=12)"
   ]
  },
  {
   "cell_type": "code",
   "execution_count": 172,
   "metadata": {
    "scrolled": true
   },
   "outputs": [
    {
     "name": "stderr",
     "output_type": "stream",
     "text": [
      "\u001b[1m\u001b[36mINFO: \u001b[39m\u001b[22m\u001b[36mSaved animation to /home/abel/projetos/abel/abelsiqueira.github.io/disciplinas/cm103/2018/exemplo3.gif\n",
      "\u001b[39m"
     ]
    },
    {
     "data": {
      "text/html": [
       "<img src=\"exemplo3.gif?0.39528638656713455>\" />"
      ],
      "text/plain": [
       "Plots.AnimatedGif(\"/home/abel/projetos/abel/abelsiqueira.github.io/disciplinas/cm103/2018/exemplo3.gif\")"
      ]
     },
     "execution_count": 172,
     "metadata": {},
     "output_type": "execute_result"
    }
   ],
   "source": [
    "x = linspace(0, 2*pi, 100)\n",
    "anim = Animation()\n",
    "for i = 1:3:100\n",
    "    plot(x, sin.(x), leg=false)\n",
    "    a = x[i]\n",
    "    scatter!([a], [sin(a)], c=:red)\n",
    "    plot!(x, sin(a) + cos(a)*(x-a) - sin(a)*(x-a).^2/2, c=:red, l=:dash)\n",
    "    xlims!(x[1], x[end])\n",
    "    ylims!(-2, 2)\n",
    "    frame(anim)\n",
    "end\n",
    "gif(anim, \"exemplo3.gif\", fps=12)"
   ]
  },
  {
   "cell_type": "code",
   "execution_count": 173,
   "metadata": {},
   "outputs": [
    {
     "data": {
      "image/svg+xml": [
       "<?xml version=\"1.0\" encoding=\"utf-8\"?>\n",
       "<svg xmlns=\"http://www.w3.org/2000/svg\" xmlns:xlink=\"http://www.w3.org/1999/xlink\" width=\"400\" height=\"300\" viewBox=\"0 0 400 300\">\n",
       "<defs>\n",
       "  <clipPath id=\"clip1300\">\n",
       "    <rect x=\"0\" y=\"0\" width=\"400\" height=\"300\"/>\n",
       "  </clipPath>\n",
       "</defs>\n",
       "<polygon clip-path=\"url(#clip1300)\" points=\"\n",
       "0,300 400,300 400,0 0,0 \n",
       "  \" fill=\"#ffffff\" fill-opacity=\"1\"/>\n",
       "<defs>\n",
       "  <clipPath id=\"clip1301\">\n",
       "    <rect x=\"80\" y=\"0\" width=\"281\" height=\"281\"/>\n",
       "  </clipPath>\n",
       "</defs>\n",
       "<polygon clip-path=\"url(#clip1300)\" points=\"\n",
       "29.4661,274.821 340.315,274.821 340.315,11.811 29.4661,11.811 \n",
       "  \" fill=\"#ffffff\" fill-opacity=\"1\"/>\n",
       "<defs>\n",
       "  <clipPath id=\"clip1302\">\n",
       "    <rect x=\"29\" y=\"11\" width=\"312\" height=\"264\"/>\n",
       "  </clipPath>\n",
       "</defs>\n",
       "<polyline clip-path=\"url(#clip1302)\" style=\"stroke:#000000; stroke-width:0.5; stroke-opacity:0.1; fill:none\" points=\"\n",
       "  29.4661,274.821 29.4661,11.811 \n",
       "  \"/>\n",
       "<polyline clip-path=\"url(#clip1302)\" style=\"stroke:#000000; stroke-width:0.5; stroke-opacity:0.1; fill:none\" points=\"\n",
       "  107.178,274.821 107.178,11.811 \n",
       "  \"/>\n",
       "<polyline clip-path=\"url(#clip1302)\" style=\"stroke:#000000; stroke-width:0.5; stroke-opacity:0.1; fill:none\" points=\"\n",
       "  184.891,274.821 184.891,11.811 \n",
       "  \"/>\n",
       "<polyline clip-path=\"url(#clip1302)\" style=\"stroke:#000000; stroke-width:0.5; stroke-opacity:0.1; fill:none\" points=\"\n",
       "  262.603,274.821 262.603,11.811 \n",
       "  \"/>\n",
       "<polyline clip-path=\"url(#clip1302)\" style=\"stroke:#000000; stroke-width:0.5; stroke-opacity:0.1; fill:none\" points=\"\n",
       "  340.315,274.821 340.315,11.811 \n",
       "  \"/>\n",
       "<polyline clip-path=\"url(#clip1302)\" style=\"stroke:#000000; stroke-width:0.5; stroke-opacity:0.1; fill:none\" points=\"\n",
       "  29.4661,274.821 340.315,274.821 \n",
       "  \"/>\n",
       "<polyline clip-path=\"url(#clip1302)\" style=\"stroke:#000000; stroke-width:0.5; stroke-opacity:0.1; fill:none\" points=\"\n",
       "  29.4661,209.068 340.315,209.068 \n",
       "  \"/>\n",
       "<polyline clip-path=\"url(#clip1302)\" style=\"stroke:#000000; stroke-width:0.5; stroke-opacity:0.1; fill:none\" points=\"\n",
       "  29.4661,143.316 340.315,143.316 \n",
       "  \"/>\n",
       "<polyline clip-path=\"url(#clip1302)\" style=\"stroke:#000000; stroke-width:0.5; stroke-opacity:0.1; fill:none\" points=\"\n",
       "  29.4661,77.5635 340.315,77.5635 \n",
       "  \"/>\n",
       "<polyline clip-path=\"url(#clip1302)\" style=\"stroke:#000000; stroke-width:0.5; stroke-opacity:0.1; fill:none\" points=\"\n",
       "  29.4661,11.811 340.315,11.811 \n",
       "  \"/>\n",
       "<polyline clip-path=\"url(#clip1300)\" style=\"stroke:#000000; stroke-width:1; stroke-opacity:1; fill:none\" points=\"\n",
       "  29.4661,274.821 340.315,274.821 \n",
       "  \"/>\n",
       "<polyline clip-path=\"url(#clip1300)\" style=\"stroke:#000000; stroke-width:1; stroke-opacity:1; fill:none\" points=\"\n",
       "  29.4661,274.821 29.4661,11.811 \n",
       "  \"/>\n",
       "<polyline clip-path=\"url(#clip1300)\" style=\"stroke:#000000; stroke-width:1; stroke-opacity:1; fill:none\" points=\"\n",
       "  29.4661,274.821 29.4661,270.876 \n",
       "  \"/>\n",
       "<polyline clip-path=\"url(#clip1300)\" style=\"stroke:#000000; stroke-width:1; stroke-opacity:1; fill:none\" points=\"\n",
       "  107.178,274.821 107.178,270.876 \n",
       "  \"/>\n",
       "<polyline clip-path=\"url(#clip1300)\" style=\"stroke:#000000; stroke-width:1; stroke-opacity:1; fill:none\" points=\"\n",
       "  184.891,274.821 184.891,270.876 \n",
       "  \"/>\n",
       "<polyline clip-path=\"url(#clip1300)\" style=\"stroke:#000000; stroke-width:1; stroke-opacity:1; fill:none\" points=\"\n",
       "  262.603,274.821 262.603,270.876 \n",
       "  \"/>\n",
       "<polyline clip-path=\"url(#clip1300)\" style=\"stroke:#000000; stroke-width:1; stroke-opacity:1; fill:none\" points=\"\n",
       "  340.315,274.821 340.315,270.876 \n",
       "  \"/>\n",
       "<polyline clip-path=\"url(#clip1300)\" style=\"stroke:#000000; stroke-width:1; stroke-opacity:1; fill:none\" points=\"\n",
       "  29.4661,274.821 34.1289,274.821 \n",
       "  \"/>\n",
       "<polyline clip-path=\"url(#clip1300)\" style=\"stroke:#000000; stroke-width:1; stroke-opacity:1; fill:none\" points=\"\n",
       "  29.4661,209.068 34.1289,209.068 \n",
       "  \"/>\n",
       "<polyline clip-path=\"url(#clip1300)\" style=\"stroke:#000000; stroke-width:1; stroke-opacity:1; fill:none\" points=\"\n",
       "  29.4661,143.316 34.1289,143.316 \n",
       "  \"/>\n",
       "<polyline clip-path=\"url(#clip1300)\" style=\"stroke:#000000; stroke-width:1; stroke-opacity:1; fill:none\" points=\"\n",
       "  29.4661,77.5635 34.1289,77.5635 \n",
       "  \"/>\n",
       "<polyline clip-path=\"url(#clip1300)\" style=\"stroke:#000000; stroke-width:1; stroke-opacity:1; fill:none\" points=\"\n",
       "  29.4661,11.811 34.1289,11.811 \n",
       "  \"/>\n",
       "<g clip-path=\"url(#clip1300)\">\n",
       "<text style=\"fill:#000000; fill-opacity:1; font-family:Arial,Helvetica Neue,Helvetica,sans-serif; font-size:12; text-anchor:middle;\" transform=\"rotate(0, 29.4661, 287.621)\" x=\"29.4661\" y=\"287.621\">-2</text>\n",
       "</g>\n",
       "<g clip-path=\"url(#clip1300)\">\n",
       "<text style=\"fill:#000000; fill-opacity:1; font-family:Arial,Helvetica Neue,Helvetica,sans-serif; font-size:12; text-anchor:middle;\" transform=\"rotate(0, 107.178, 287.621)\" x=\"107.178\" y=\"287.621\">-1</text>\n",
       "</g>\n",
       "<g clip-path=\"url(#clip1300)\">\n",
       "<text style=\"fill:#000000; fill-opacity:1; font-family:Arial,Helvetica Neue,Helvetica,sans-serif; font-size:12; text-anchor:middle;\" transform=\"rotate(0, 184.891, 287.621)\" x=\"184.891\" y=\"287.621\">0</text>\n",
       "</g>\n",
       "<g clip-path=\"url(#clip1300)\">\n",
       "<text style=\"fill:#000000; fill-opacity:1; font-family:Arial,Helvetica Neue,Helvetica,sans-serif; font-size:12; text-anchor:middle;\" transform=\"rotate(0, 262.603, 287.621)\" x=\"262.603\" y=\"287.621\">1</text>\n",
       "</g>\n",
       "<g clip-path=\"url(#clip1300)\">\n",
       "<text style=\"fill:#000000; fill-opacity:1; font-family:Arial,Helvetica Neue,Helvetica,sans-serif; font-size:12; text-anchor:middle;\" transform=\"rotate(0, 340.315, 287.621)\" x=\"340.315\" y=\"287.621\">2</text>\n",
       "</g>\n",
       "<g clip-path=\"url(#clip1300)\">\n",
       "<text style=\"fill:#000000; fill-opacity:1; font-family:Arial,Helvetica Neue,Helvetica,sans-serif; font-size:12; text-anchor:end;\" transform=\"rotate(0, 25.4661, 279.321)\" x=\"25.4661\" y=\"279.321\">-2</text>\n",
       "</g>\n",
       "<g clip-path=\"url(#clip1300)\">\n",
       "<text style=\"fill:#000000; fill-opacity:1; font-family:Arial,Helvetica Neue,Helvetica,sans-serif; font-size:12; text-anchor:end;\" transform=\"rotate(0, 25.4661, 213.568)\" x=\"25.4661\" y=\"213.568\">-1</text>\n",
       "</g>\n",
       "<g clip-path=\"url(#clip1300)\">\n",
       "<text style=\"fill:#000000; fill-opacity:1; font-family:Arial,Helvetica Neue,Helvetica,sans-serif; font-size:12; text-anchor:end;\" transform=\"rotate(0, 25.4661, 147.816)\" x=\"25.4661\" y=\"147.816\">0</text>\n",
       "</g>\n",
       "<g clip-path=\"url(#clip1300)\">\n",
       "<text style=\"fill:#000000; fill-opacity:1; font-family:Arial,Helvetica Neue,Helvetica,sans-serif; font-size:12; text-anchor:end;\" transform=\"rotate(0, 25.4661, 82.0635)\" x=\"25.4661\" y=\"82.0635\">1</text>\n",
       "</g>\n",
       "<g clip-path=\"url(#clip1300)\">\n",
       "<text style=\"fill:#000000; fill-opacity:1; font-family:Arial,Helvetica Neue,Helvetica,sans-serif; font-size:12; text-anchor:end;\" transform=\"rotate(0, 25.4661, 16.311)\" x=\"25.4661\" y=\"16.311\">2</text>\n",
       "</g>\n",
       "<polyline clip-path=\"url(#clip1302)\" style=\"stroke:#0d0829; stroke-width:1; stroke-opacity:1; fill:none\" points=\"\n",
       "  34.6466,274.821 32.606,273.188 31.396,272.164 29.4661,270.438 \n",
       "  \"/>\n",
       "<polyline clip-path=\"url(#clip1302)\" style=\"stroke:#270b52; stroke-width:1; stroke-opacity:1; fill:none\" points=\"\n",
       "  29.4661,265.616 30.6933,266.851 32.606,268.664 33.5472,269.507 35.7459,271.368 36.7431,272.164 38.8858,273.782 40.3456,274.821 \n",
       "  \"/>\n",
       "<polyline clip-path=\"url(#clip1302)\" style=\"stroke:#470b69; stroke-width:1; stroke-opacity:1; fill:none\" points=\"\n",
       "  46.7569,274.821 45.1656,273.824 42.681,272.164 42.0257,271.701 39.1088,269.507 38.8858,269.33 35.9559,266.851 35.7459,266.662 33.1532,264.194 32.606,263.64 \n",
       "  30.6437,261.537 29.4661,260.191 \n",
       "  \"/>\n",
       "<polyline clip-path=\"url(#clip1302)\" style=\"stroke:#63146e; stroke-width:1; stroke-opacity:1; fill:none\" points=\"\n",
       "  29.4661,253.92 31.2191,256.224 32.606,257.921 33.4349,258.881 35.7459,261.38 35.9004,261.537 38.6784,264.194 38.8858,264.38 41.8054,266.851 42.0257,267.026 \n",
       "  45.1656,269.377 45.3519,269.507 48.3055,271.463 49.4393,272.164 51.4453,273.338 54.1681,274.821 \n",
       "  \"/>\n",
       "<polyline clip-path=\"url(#clip1302)\" style=\"stroke:#821f6b; stroke-width:1; stroke-opacity:1; fill:none\" points=\"\n",
       "  63.2108,274.821 60.865,273.813 57.7251,272.346 57.3659,272.164 54.5852,270.678 52.5532,269.507 51.4453,268.831 48.423,266.851 48.3055,266.769 45.1656,264.43 \n",
       "  44.8683,264.194 42.0257,261.789 41.7464,261.537 38.9825,258.881 38.8858,258.781 36.545,256.224 35.7459,255.287 34.3626,253.567 32.606,251.215 32.3914,250.911 \n",
       "  30.6578,248.254 29.4661,246.269 \n",
       "  \"/>\n",
       "<polyline clip-path=\"url(#clip1302)\" style=\"stroke:#9e2a62; stroke-width:1; stroke-opacity:1; fill:none\" points=\"\n",
       "  29.4661,235.951 30.1446,237.627 31.3446,240.284 32.606,242.807 32.6766,242.941 34.2201,245.597 35.7459,248.001 35.9161,248.254 37.8582,250.911 38.8858,252.21 \n",
       "  40.0261,253.567 42.0257,255.776 42.457,256.224 45.1656,258.842 45.2084,258.881 48.3055,261.501 48.3513,261.537 51.4453,263.829 51.9744,264.194 54.5852,265.886 \n",
       "  56.1898,266.851 57.7251,267.72 60.865,269.363 61.164,269.507 64.0049,270.798 67.1448,272.104 67.3025,272.164 70.2847,273.231 73.4246,274.247 75.4057,274.821 \n",
       "  \n",
       "  \"/>\n",
       "<polyline clip-path=\"url(#clip1302)\" style=\"stroke:#9e2a62; stroke-width:1; stroke-opacity:1; fill:none\" points=\"\n",
       "  144.13,274.821 145.642,274.504 148.782,273.808 151.922,273.078 155.062,272.316 155.668,272.164 158.202,271.49 161.341,270.629 164.481,269.744 165.302,269.507 \n",
       "  167.621,268.799 170.761,267.821 173.831,266.851 173.901,266.827 177.041,265.761 180.181,264.686 181.61,264.194 183.321,263.568 186.46,262.416 188.858,261.537 \n",
       "  189.6,261.247 192.74,260.026 195.708,258.881 195.88,258.81 199.02,257.528 202.16,256.266 202.266,256.224 205.3,254.939 208.44,253.639 208.618,253.567 \n",
       "  211.58,252.281 214.719,250.96 214.84,250.911 217.859,249.585 220.999,248.263 221.021,248.254 224.139,246.894 227.277,245.597 227.279,245.597 230.419,244.266 \n",
       "  233.559,243.028 233.8,242.941 236.699,241.785 239.839,240.649 240.969,240.284 242.978,239.567 246.118,238.589 249.258,237.763 249.899,237.627 252.398,237.035 \n",
       "  255.538,236.478 258.678,236.116 261.818,235.958 264.958,236.012 268.098,236.288 271.237,236.793 274.377,237.537 274.664,237.627 277.517,238.435 280.657,239.552 \n",
       "  282.354,240.284 283.797,240.847 286.937,242.292 288.155,242.941 290.077,243.873 293.195,245.597 293.217,245.608 296.357,247.399 297.699,248.254 299.496,249.307 \n",
       "  301.971,250.911 302.636,251.309 305.776,253.377 306.042,253.567 308.916,255.486 309.933,256.224 312.056,257.659 313.727,258.881 315.196,259.884 317.442,261.537 \n",
       "  318.336,262.154 321.09,264.194 321.476,264.462 324.616,266.801 324.678,266.851 327.755,269.154 328.199,269.507 330.895,271.535 331.682,272.164 334.035,273.941 \n",
       "  335.135,274.821 \n",
       "  \"/>\n",
       "<polyline clip-path=\"url(#clip1302)\" style=\"stroke:#ba3655; stroke-width:1; stroke-opacity:1; fill:none\" points=\"\n",
       "  340.315,274.821 337.175,272.164 334.035,269.507 330.895,266.851 327.755,264.194 324.616,261.537 \n",
       "  321.476,258.881 318.336,256.224 315.196,253.567 312.056,250.911 308.916,248.254 \n",
       "  305.776,245.597 302.636,242.941 299.496,240.284 296.357,237.627 293.217,234.971 \n",
       "  290.077,232.314 286.937,229.657 283.797,227.001 280.657,224.344 277.517,221.687 \n",
       "  274.377,219.031 271.237,216.374 268.098,213.717 264.958,211.061 261.818,208.404 \n",
       "  260.74,211.061 258.678,212.063 257.19,213.717 255.538,214.719 253.764,216.374 252.398,217.24 250.281,219.031 249.258,219.68 246.706,221.687 246.118,222.055 \n",
       "  243.025,224.344 242.978,224.373 239.839,226.572 239.292,227.001 236.699,228.726 235.427,229.657 233.559,230.84 231.416,232.314 230.419,232.916 227.279,234.952 \n",
       "  227.251,234.971 224.139,236.877 222.98,237.627 220.999,238.776 218.52,240.284 217.859,240.647 214.719,242.447 213.889,242.941 211.58,244.19 209.057,245.597 \n",
       "  208.44,245.913 205.3,247.561 204.008,248.254 202.16,249.167 199.02,250.747 198.7,250.911 195.88,252.243 193.108,253.567 192.74,253.731 189.6,255.134 \n",
       "  187.175,256.224 186.46,256.523 183.321,257.839 180.831,258.881 180.181,259.135 177.041,260.356 173.979,261.537 173.901,261.566 170.761,262.688 167.621,263.792 \n",
       "  166.458,264.194 164.481,264.835 161.341,265.831 158.202,266.8 158.032,266.851 155.062,267.688 151.922,268.54 148.782,269.358 148.18,269.507 145.642,270.102 \n",
       "  142.502,270.799 139.362,271.453 136.222,272.061 135.647,272.164 133.082,272.597 129.943,273.077 126.803,273.506 123.663,273.879 120.523,274.195 117.383,274.449 \n",
       "  114.243,274.64 111.103,274.764 107.963,274.818 104.823,274.8 101.684,274.706 98.5437,274.532 95.4038,274.278 92.2639,273.938 89.124,273.511 85.9841,272.993 \n",
       "  82.8442,272.382 81.8768,272.164 79.7043,271.646 76.5644,270.793 73.4246,269.831 72.4793,269.507 70.2847,268.712 67.1448,267.454 65.7769,266.851 64.0049,266.022 \n",
       "  60.865,264.416 60.4652,264.194 57.7251,262.573 56.1068,261.537 54.5852,260.498 52.3882,258.881 51.4453,258.138 49.1835,256.224 48.3055,255.426 46.394,253.567 \n",
       "  45.1656,252.28 43.9414,250.911 42.0257,248.592 41.7631,248.254 39.8658,245.597 38.8858,244.098 38.1734,242.941 36.6855,240.284 35.7459,238.427 35.3639,237.627 \n",
       "  34.227,234.971 33.218,232.314 32.606,230.476 32.3483,229.657 31.6258,227.001 31.014,224.344 30.5092,221.687 30.108,219.031 29.8069,216.374 29.6023,213.717 \n",
       "  29.4908,211.061 29.4688,208.404 29.5329,205.748 29.6794,203.091 29.905,200.434 30.206,197.778 30.5791,195.121 31.0206,192.464 31.527,189.808 32.0949,187.151 \n",
       "  32.606,184.981 32.7273,184.494 33.4466,181.838 34.2196,179.181 35.0429,176.524 35.7459,174.376 35.9224,173.868 36.889,171.211 37.8969,168.554 38.8858,166.041 \n",
       "  38.9456,165.898 40.091,163.241 41.2678,160.584 42.0257,158.912 42.5004,157.928 43.8063,155.271 45.1322,152.614 45.1656,152.548 46.5617,149.958 48.0052,147.301 \n",
       "  48.3055,146.751 49.5368,144.644 51.0921,141.988 51.4453,141.383 52.7333,139.331 54.3925,136.674 54.5852,136.363 56.1509,134.018 57.7251,131.631 57.9183,131.361 \n",
       "  59.7862,128.704 60.865,127.141 61.6847,126.048 63.6321,123.391 64.0049,122.869 65.6687,120.734 67.1448,118.78 67.7283,118.078 69.8553,115.421 70.2847,114.862 \n",
       "  72.0671,112.764 73.4246,111.089 74.3113,110.108 76.5644,107.475 76.5872,107.451 78.9932,104.794 79.7043,103.95 81.4463,102.138 82.8442,100.557 83.9455,99.4809 \n",
       "  85.9841,97.2866 86.4912,96.8243 89.0902,94.1676 89.124,94.128 91.8293,91.5109 92.2639,91.0134 94.6366,88.8543 95.4038,87.9893 97.5208,86.1976 98.5437,85.0422 \n",
       "  100.5,83.541 101.684,82.1433 103.639,80.8843 104.823,79.1395 107.963,78.2276 104.823,75.571 101.684,72.9143 98.5437,70.2576 \n",
       "  95.4038,67.601 92.2639,64.9443 89.124,62.2876 85.9841,59.631 82.8442,56.9743 \n",
       "  79.7043,54.3176 76.5644,51.661 73.4246,49.0043 70.2847,46.3477 67.1448,43.691 \n",
       "  64.0049,41.0343 60.865,38.3777 57.7251,35.721 54.5852,33.0643 51.4453,30.4077 \n",
       "  48.3055,27.751 45.1656,25.0943 42.0257,22.4377 38.8858,19.781 35.7459,17.1244 \n",
       "  32.606,14.4677 29.4661,11.811 \n",
       "  \"/>\n",
       "<polyline clip-path=\"url(#clip1302)\" style=\"stroke:#d24742; stroke-width:1; stroke-opacity:1; fill:none\" points=\"\n",
       "  34.6466,11.811 35.7459,12.6907 38.0986,14.4677 38.8858,15.0963 41.5824,17.1244 42.0257,17.4775 45.1028,19.781 45.1656,19.8309 48.3055,22.1695 48.6908,22.4377 \n",
       "  51.4453,24.4779 52.339,25.0943 54.5852,26.7479 56.0538,27.751 57.7251,28.973 59.8483,30.4077 60.865,31.1454 63.7396,33.0643 64.0049,33.2552 67.1448,35.3226 \n",
       "  67.8098,35.721 70.2847,37.3252 72.0819,38.3777 73.4246,39.2324 76.5644,41.0235 76.5859,41.0343 79.7043,42.759 81.6265,43.691 82.8442,44.34 85.9841,45.7851 \n",
       "  87.4273,46.3477 89.124,47.0796 92.2639,48.1972 95.1173,49.0043 95.4038,49.0948 98.5437,49.8387 101.684,50.3441 104.823,50.6196 107.963,50.6739 111.103,50.5157 \n",
       "  114.243,50.1536 117.383,49.5963 119.882,49.0043 120.523,48.8684 123.663,48.0425 126.803,47.0651 128.812,46.3477 129.943,45.9828 133.082,44.8468 135.982,43.691 \n",
       "  136.222,43.6037 139.362,42.3657 142.502,41.0351 142.504,41.0343 145.642,39.7382 148.76,38.3777 148.782,38.369 151.922,37.0468 154.941,35.721 155.062,35.6721 \n",
       "  158.202,34.3507 161.163,33.0643 161.341,32.9926 164.481,31.6926 167.515,30.4077 167.621,30.3657 170.761,29.1035 173.901,27.822 174.073,27.751 177.041,26.606 \n",
       "  180.181,25.3846 180.923,25.0943 183.321,24.2162 186.46,23.0643 188.171,22.4377 189.6,21.9459 192.74,20.8707 195.88,19.8044 195.95,19.781 199.02,18.8105 \n",
       "  202.16,17.8329 204.479,17.1244 205.3,16.8877 208.44,16.0027 211.58,15.1413 214.113,14.4677 214.719,14.3153 217.859,13.5541 220.999,12.824 224.139,12.1282 \n",
       "  225.651,11.811 \n",
       "  \"/>\n",
       "<polyline clip-path=\"url(#clip1302)\" style=\"stroke:#e65e2d; stroke-width:1; stroke-opacity:1; fill:none\" points=\"\n",
       "  207.76,11.811 205.3,12.4669 202.16,13.3232 199.02,14.1959 198.057,14.4677 195.88,15.1171 192.74,16.0649 189.6,17.0206 189.261,17.1244 186.46,18.0319 \n",
       "  183.321,19.0511 181.068,19.781 180.181,20.0864 177.041,21.1616 173.901,22.2279 173.276,22.4377 170.761,23.3363 167.621,24.4412 165.73,25.0943 164.481,25.5544 \n",
       "  161.341,26.6855 158.302,27.751 158.202,27.7889 155.062,28.9308 151.922,30.0319 150.804,30.4077 148.782,31.138 145.642,32.2188 143.047,33.0643 142.502,33.2558 \n",
       "  139.362,34.2913 136.222,35.2546 134.57,35.721 133.082,36.1754 129.943,37.0456 126.803,37.8217 124.222,38.3777 123.663,38.5087 120.523,39.1301 117.383,39.6315 \n",
       "  114.243,40.0072 111.103,40.2513 107.963,40.358 104.823,40.3214 101.684,40.1356 98.5437,39.7949 95.4038,39.2933 92.2639,38.6251 91.3398,38.3777 89.124,37.8318 \n",
       "  85.9841,36.8942 82.8442,35.7871 82.6823,35.721 79.7043,34.5973 76.5644,33.246 76.1899,33.0643 73.4246,31.8197 70.613,30.4077 70.2847,30.2541 67.1448,28.6287 \n",
       "  65.6021,27.751 64.0049,26.902 60.8926,25.0943 60.865,25.0793 57.7251,23.222 56.4997,22.4377 54.5852,21.2865 52.262,19.781 51.4453,19.2826 48.3055,17.225 \n",
       "  48.1619,17.1244 45.1656,15.1407 44.2131,14.4677 42.0257,13.006 40.3456,11.811 \n",
       "  \"/>\n",
       "<polyline clip-path=\"url(#clip1302)\" style=\"stroke:#f57d15; stroke-width:1; stroke-opacity:1; fill:none\" points=\"\n",
       "  46.7569,11.811 48.3055,12.7806 51.1895,14.4677 51.4453,14.6259 54.5852,16.4345 55.876,17.1244 57.7251,18.1715 60.8006,19.781 60.865,19.8168 64.0049,21.4221 \n",
       "  66.1752,22.4377 67.1448,22.9206 70.2847,24.3435 72.1186,25.0943 73.4246,25.665 76.5644,26.8945 79.0294,27.751 79.7043,28.002 82.8442,29.0258 85.9841,29.91 \n",
       "  88.0711,30.4077 89.124,30.6773 92.2639,31.3406 95.4038,31.8678 98.5437,32.2636 101.684,32.5324 104.823,32.6789 107.963,32.7078 111.103,32.6237 114.243,32.4311 \n",
       "  117.383,32.1347 120.523,31.739 123.663,31.2488 126.803,30.6686 128.034,30.4077 129.943,30.0309 133.082,29.3359 136.222,28.57 139.311,27.751 139.362,27.7384 \n",
       "  142.502,26.9024 145.642,26.0122 148.707,25.0943 148.782,25.0733 151.922,24.1489 155.062,23.185 157.409,22.4377 158.202,22.2007 161.341,21.2316 164.481,20.2359 \n",
       "  165.884,19.781 167.621,19.2501 170.761,18.2726 173.901,17.28 174.388,17.1244 177.041,16.3234 180.181,15.3678 183.124,14.4677 183.321,14.4107 186.46,13.5009 \n",
       "  189.6,12.5926 192.316,11.811 \n",
       "  \"/>\n",
       "<polyline clip-path=\"url(#clip1302)\" style=\"stroke:#fb9c07; stroke-width:1; stroke-opacity:1; fill:none\" points=\"\n",
       "  177.466,11.811 177.041,11.9333 173.901,12.8297 170.761,13.7157 168.055,14.4677 167.621,14.5952 164.481,15.5007 161.341,16.3856 158.649,17.1244 158.202,17.2544 \n",
       "  155.062,18.1388 151.922,18.9916 148.891,19.781 148.782,19.8111 145.642,20.6389 142.502,21.4225 139.362,22.1584 138.082,22.4377 136.222,22.8692 133.082,23.5397 \n",
       "  129.943,24.1481 126.803,24.6907 124.123,25.0943 123.663,25.1683 120.523,25.5948 117.383,25.939 114.243,26.1969 111.103,26.3645 107.963,26.4377 104.823,26.4126 \n",
       "  101.684,26.285 98.5437,26.0512 95.4038,25.7069 92.2639,25.2482 91.427,25.0943 89.124,24.6977 85.9841,24.0422 82.8442,23.2682 79.9345,22.4377 79.7043,22.376 \n",
       "  76.5644,21.4156 73.4246,20.3333 71.9888,19.781 70.2847,19.1637 67.1448,17.9048 65.3737,17.1244 64.0049,16.555 60.865,15.1281 59.528,14.4677 57.7251,13.6254 \n",
       "  54.5852,12.0383 54.1681,11.811 \n",
       "  \"/>\n",
       "<polyline clip-path=\"url(#clip1302)\" style=\"stroke:#fabf26; stroke-width:1; stroke-opacity:1; fill:none\" points=\"\n",
       "  63.2108,11.811 64.0049,12.1523 67.1448,13.3874 70.1632,14.4677 70.2847,14.5137 73.4246,15.5872 76.5644,16.5492 78.68,17.1244 79.7043,17.4194 82.8442,18.2124 \n",
       "  85.9841,18.8971 89.124,19.4771 91.1185,19.781 92.2639,19.9663 95.4038,20.3701 98.5437,20.6732 101.684,20.8791 104.823,20.9913 107.963,21.0134 111.103,20.949 \n",
       "  114.243,20.8015 117.383,20.5745 120.523,20.2715 123.663,19.896 124.475,19.781 126.803,19.4709 129.943,18.9908 133.082,18.4525 136.222,17.8593 139.362,17.2146 \n",
       "  139.771,17.1244 142.502,16.5554 145.642,15.8589 148.782,15.1231 151.448,14.4677 151.922,14.3575 155.062,13.5963 158.202,12.8068 161.341,11.9921 162.021,11.811 \n",
       "  \n",
       "  \"/>\n",
       "<polyline clip-path=\"url(#clip1302)\" style=\"stroke:#f3e258; stroke-width:1; stroke-opacity:1; fill:none\" points=\"\n",
       "  144.13,11.811 142.502,12.1526 139.362,12.7713 136.222,13.3468 133.082,13.8763 129.943,14.3568 129.13,14.4677 126.803,14.8036 123.663,15.1985 120.523,15.5322 \n",
       "  117.383,15.8016 114.243,16.0034 111.103,16.1345 107.963,16.1918 104.823,16.1721 101.684,16.0723 98.5437,15.8893 95.4038,15.6199 92.2639,15.261 89.124,14.8095 \n",
       "  87.1635,14.4677 85.9841,14.2732 82.8442,13.662 79.7043,12.9541 76.5644,12.1468 75.4057,11.811 \n",
       "  \"/>\n",
       "<polyline clip-path=\"url(#clip1302)\" style=\"stroke:#9e2a62; stroke-width:1; stroke-opacity:1; fill:none\" points=\"\n",
       "  29.4661,16.1942 30.5059,17.1244 32.606,19.115 33.349,19.781 35.7459,22.0626 36.1633,22.4377 38.8858,25.0412 38.9448,25.0943 41.7088,27.751 42.0257,28.077 \n",
       "  44.437,30.4077 45.1656,31.1638 47.1199,33.0643 48.3055,34.3069 49.7497,35.721 51.4453,37.5174 52.3173,38.3777 54.5852,40.8098 54.8108,41.0343 57.2543,43.691 \n",
       "  57.7251,44.2537 59.6211,46.3477 60.865,47.8683 61.8752,49.0043 63.9921,51.661 64.0049,51.6791 66.0433,54.3176 67.1448,55.944 67.9118,56.9743 69.6198,59.631 \n",
       "  70.2847,60.8521 71.1498,62.2876 72.4706,64.9443 73.4246,67.3586 73.5314,67.601 74.4107,70.2576 75.008,72.9143 75.3336,75.571 75.3978,78.2276 75.2108,80.8843 \n",
       "  74.7829,83.541 74.1243,86.1976 73.4246,88.3123 73.2639,88.8543 72.2878,91.5109 71.1326,94.1676 70.2847,95.8674 69.8534,96.8243 68.5109,99.4809 67.1448,101.934 \n",
       "  67.0416,102.138 65.5784,104.794 64.0057,107.451 64.0049,107.452 62.473,110.108 60.865,112.746 60.8548,112.764 59.2921,115.421 57.7251,117.976 57.6674,118.078 \n",
       "  56.1056,120.734 54.5852,123.24 54.5005,123.391 52.964,126.048 51.4453,128.614 51.3958,128.704 49.904,131.361 48.3894,134.018 48.3055,134.163 46.9522,136.674 \n",
       "  45.5086,139.331 45.1656,139.959 44.1278,141.988 42.7663,144.644 42.0257,146.092 41.4445,147.301 40.1737,149.958 38.9135,152.614 38.8858,152.673 37.7388,155.271 \n",
       "  36.5834,157.928 35.7459,159.89 35.4662,160.584 34.4203,163.241 33.4022,165.898 32.606,168.041 32.4259,168.554 31.5262,171.211 30.6634,173.868 29.8409,176.524 \n",
       "  29.4661,177.803 \n",
       "  \"/>\n",
       "<polyline clip-path=\"url(#clip1302)\" style=\"stroke:#821f6b; stroke-width:1; stroke-opacity:1; fill:none\" points=\"\n",
       "  29.4661,162.666 30.2414,160.584 31.2534,157.928 32.2848,155.271 32.606,154.456 33.3736,152.614 34.4938,149.958 35.6233,147.301 35.7459,147.014 36.8186,144.644 \n",
       "  38.0231,141.988 38.8858,140.082 39.2468,139.331 40.5175,136.674 41.7778,134.018 42.0257,133.489 43.0877,131.361 44.3936,128.704 45.1656,127.104 45.7093,126.048 \n",
       "  47.0461,123.391 48.3055,120.82 48.3503,120.734 49.6998,118.078 51.0012,115.421 51.4453,114.475 52.3085,112.764 53.5859,110.108 54.5852,107.912 54.8115,107.451 \n",
       "  56.0353,104.794 57.1739,102.138 57.7251,100.74 58.2622,99.4809 59.2907,96.8243 60.2079,94.1676 60.865,91.9845 61.0199,91.5109 61.7543,88.8543 62.3469,86.1976 \n",
       "  62.7909,83.541 63.0794,80.8843 63.2055,78.2276 63.1622,75.571 62.9427,72.9143 62.54,70.2576 61.9472,67.601 61.1575,64.9443 60.865,64.1624 60.2199,62.2876 \n",
       "  59.1117,59.631 57.8033,56.9743 57.7251,56.8373 56.3971,54.3176 54.7999,51.661 54.5852,51.3441 53.1143,49.0043 51.4453,46.6254 51.2639,46.3477 49.3429,43.691 \n",
       "  48.3055,42.3857 47.302,41.0343 45.1656,38.401 45.1478,38.3777 42.9527,35.721 42.0257,34.6842 40.6651,33.0643 38.8858,31.0987 38.2968,30.4077 35.8649,27.751 \n",
       "  35.7459,27.6296 33.4014,25.0943 32.606,24.2884 30.8785,22.4377 29.4661,21.0162 \n",
       "  \"/>\n",
       "<polyline clip-path=\"url(#clip1302)\" style=\"stroke:#63146e; stroke-width:1; stroke-opacity:1; fill:none\" points=\"\n",
       "  29.4661,26.4408 30.6121,27.751 32.606,30.1912 32.793,30.4077 34.9305,33.0643 35.7459,34.1565 36.9835,35.721 38.8858,38.3232 38.9281,38.3777 40.8254,41.0343 \n",
       "  42.0257,42.8706 42.5965,43.691 44.2782,46.3477 45.1656,47.8993 45.84,49.0043 47.2932,51.661 48.3055,53.7466 48.6021,54.3176 49.8121,56.9743 50.8571,59.631 \n",
       "  51.4453,61.3968 51.764,62.2876 52.548,64.9443 53.1711,67.601 53.6388,70.2576 53.9565,72.9143 54.1297,75.571 54.1639,78.2276 54.0644,80.8843 53.8368,83.541 \n",
       "  53.4865,86.1976 53.0189,88.8543 52.4395,91.5109 51.7538,94.1676 51.4453,95.2093 51,96.8243 50.1786,99.4809 49.2734,102.138 48.3055,104.751 48.2906,104.794 \n",
       "  47.3025,107.451 46.2504,110.108 45.1656,112.701 45.1407,112.764 44.0482,115.421 42.909,118.078 42.0257,120.064 41.7456,120.734 40.6002,123.391 39.4234,126.048 \n",
       "  38.8858,127.234 38.2584,128.704 37.103,131.361 35.9299,134.018 35.7459,134.429 34.7993,136.674 33.6698,139.331 32.606,141.821 32.5386,141.988 31.4634,144.644 \n",
       "  30.3899,147.301 29.4661,149.598 \n",
       "  \"/>\n",
       "<polyline clip-path=\"url(#clip1302)\" style=\"stroke:#470b69; stroke-width:1; stroke-opacity:1; fill:none\" points=\"\n",
       "  29.4661,137.034 29.6106,136.674 30.6701,134.018 31.7172,131.361 32.606,129.072 32.7568,128.704 33.8269,126.048 34.8728,123.391 35.7459,121.113 35.8996,120.734 \n",
       "  36.9448,118.078 37.9527,115.421 38.8858,112.856 38.9214,112.764 39.8998,110.108 40.8259,107.451 41.6957,104.794 42.0257,103.711 42.5357,102.138 43.3281,99.4809 \n",
       "  44.0472,96.8243 44.6885,94.1676 45.1656,91.9002 45.253,91.5109 45.7571,88.8543 46.1639,86.1976 46.4687,83.541 46.6667,80.8843 46.7533,78.2276 46.7236,75.571 \n",
       "  46.5729,72.9143 46.2964,70.2576 45.8895,67.601 45.3474,64.9443 45.1656,64.2362 44.6968,62.2876 43.9221,59.631 43.0073,56.9743 42.0257,54.5124 41.9527,54.3176 \n",
       "  40.8177,51.661 39.5385,49.0043 38.8858,47.7895 38.1562,46.3477 36.6684,43.691 35.7459,42.1925 35.073,41.0343 33.3866,38.3777 32.606,37.2464 31.6106,35.721 \n",
       "  29.7347,33.0643 29.4661,32.7114 \n",
       "  \"/>\n",
       "<polyline clip-path=\"url(#clip1302)\" style=\"stroke:#270b52; stroke-width:1; stroke-opacity:1; fill:none\" points=\"\n",
       "  29.4661,40.3625 29.8695,41.0343 31.3293,43.691 32.606,46.2448 32.6604,46.3477 33.9292,49.0043 35.0661,51.661 35.7459,53.4509 36.0946,54.3176 37.0318,56.9743 \n",
       "  37.8412,59.631 38.5266,62.2876 38.8858,63.9752 39.1048,64.9443 39.5821,67.601 39.9403,70.2576 40.1836,72.9143 40.3162,75.571 40.3424,78.2276 40.2662,80.8843 \n",
       "  40.0919,83.541 39.8236,86.1976 39.4655,88.8543 39.0217,91.5109 38.8858,92.1986 38.5192,94.1676 37.9519,96.8243 37.3157,99.4809 36.6146,102.138 35.8525,104.794 \n",
       "  35.7459,105.14 35.0735,107.451 34.2502,110.108 33.3806,112.764 32.606,115.02 32.4758,115.421 31.5761,118.078 30.643,120.734 29.6801,123.391 29.4661,123.966 \n",
       "  \n",
       "  \"/>\n",
       "<polyline clip-path=\"url(#clip1302)\" style=\"stroke:#0d0829; stroke-width:1; stroke-opacity:1; fill:none\" points=\"\n",
       "  29.4661,108.829 29.8699,107.451 30.6011,104.794 31.2813,102.138 31.9071,99.4809 32.475,96.8243 32.606,96.1371 33.003,94.1676 33.4698,91.5109 33.8642,88.8543 \n",
       "  34.1825,86.1976 34.421,83.541 34.576,80.8843 34.6437,78.2276 34.6204,75.571 34.5025,72.9143 34.2862,70.2576 33.9679,67.601 33.5437,64.9443 33.01,62.2876 \n",
       "  32.606,60.6289 32.3762,59.631 31.6537,56.9743 30.8172,54.3176 29.863,51.661 29.4661,50.6806 \n",
       "  \"/>\n",
       "<polyline clip-path=\"url(#clip1302)\" style=\"stroke:#d24742; stroke-width:1; stroke-opacity:1; fill:none\" points=\"\n",
       "  294.375,11.811 296.357,12.3851 299.496,13.4004 302.479,14.4677 302.636,14.5274 305.776,15.8333 308.617,17.1244 308.916,17.2683 312.056,18.9116 313.591,19.781 \n",
       "  315.196,20.7458 317.807,22.4377 318.336,22.8026 321.43,25.0943 321.476,25.1306 324.573,27.751 324.616,27.7898 327.324,30.4077 327.755,30.8553 329.755,33.0643 \n",
       "  330.895,34.422 331.923,35.721 333.865,38.3777 334.035,38.6307 335.561,41.0343 337.105,43.691 337.175,43.8244 338.436,46.3477 339.636,49.0043 340.315,50.6806 \n",
       "  \n",
       "  \"/>\n",
       "<polyline clip-path=\"url(#clip1302)\" style=\"stroke:#e65e2d; stroke-width:1; stroke-opacity:1; fill:none\" points=\"\n",
       "  340.315,40.3625 339.123,38.3777 337.39,35.721 337.175,35.4171 335.419,33.0643 334.035,31.345 333.236,30.4077 330.895,27.8505 330.799,27.751 328.035,25.0943 \n",
       "  327.755,24.8429 324.913,22.4377 324.616,22.2014 321.476,19.8628 321.358,19.781 318.336,17.8004 317.228,17.1244 315.196,15.9539 312.415,14.4677 312.056,14.2861 \n",
       "  308.916,12.8193 306.57,11.811 \n",
       "  \"/>\n",
       "<polyline clip-path=\"url(#clip1302)\" style=\"stroke:#f57d15; stroke-width:1; stroke-opacity:1; fill:none\" points=\"\n",
       "  315.613,11.811 318.336,13.2942 320.342,14.4677 321.476,15.169 324.429,17.1244 324.616,17.255 327.755,19.6055 327.976,19.781 330.895,22.2513 331.103,22.4377 \n",
       "  333.881,25.0943 334.035,25.252 336.346,27.751 337.175,28.7104 338.562,30.4077 340.315,32.7114 \n",
       "  \"/>\n",
       "<polyline clip-path=\"url(#clip1302)\" style=\"stroke:#fb9c07; stroke-width:1; stroke-opacity:1; fill:none\" points=\"\n",
       "  340.315,26.4408 339.137,25.0943 337.175,22.9921 336.628,22.4377 334.035,19.9697 333.825,19.781 330.895,17.302 330.672,17.1244 327.755,14.9307 327.1,14.4677 \n",
       "  324.616,12.8074 323.024,11.811 \n",
       "  \"/>\n",
       "<polyline clip-path=\"url(#clip1302)\" style=\"stroke:#fabf26; stroke-width:1; stroke-opacity:1; fill:none\" points=\"\n",
       "  329.435,11.811 330.895,12.8494 333.038,14.4677 334.035,15.264 336.234,17.1244 337.175,17.9681 339.088,19.781 340.315,21.0162 \n",
       "  \"/>\n",
       "<polyline clip-path=\"url(#clip1302)\" style=\"stroke:#f3e258; stroke-width:1; stroke-opacity:1; fill:none\" points=\"\n",
       "  340.315,16.1942 338.385,14.4677 \n",
       "  \"/>\n",
       "<polyline clip-path=\"url(#clip1302)\" style=\"stroke:#f3e258; stroke-width:1; stroke-opacity:1; fill:none\" points=\"\n",
       "  337.175,13.4439 335.135,11.811 \n",
       "  \"/>\n",
       "<polyline clip-path=\"url(#clip1302)\" style=\"stroke:#d24742; stroke-width:1; stroke-opacity:1; fill:none\" points=\"\n",
       "  340.315,108.829 339.94,110.108 339.118,112.764 338.255,115.421 337.355,118.078 337.175,118.59 336.379,120.734 335.361,123.391 334.315,126.048 334.035,126.742 \n",
       "  333.198,128.704 332.042,131.361 330.895,133.959 330.868,134.018 329.607,136.674 328.337,139.331 327.755,140.54 327.015,141.988 325.653,144.644 324.616,146.673 \n",
       "  324.272,147.301 322.829,149.958 321.476,152.469 321.392,152.614 319.877,155.271 318.385,157.928 318.336,158.018 316.817,160.584 315.281,163.241 315.196,163.391 \n",
       "  313.675,165.898 312.114,168.554 312.056,168.656 310.489,171.211 308.926,173.868 308.916,173.886 307.308,176.524 305.776,179.18 305.775,179.181 304.203,181.838 \n",
       "  302.74,184.494 302.636,184.698 301.27,187.151 299.928,189.808 299.496,190.764 298.649,192.464 297.493,195.121 296.517,197.778 296.357,198.319 295.657,200.434 \n",
       "  294.998,203.091 294.57,205.748 294.383,208.404 294.447,211.061 294.773,213.717 295.37,216.374 296.25,219.031 296.357,219.273 297.311,221.687 298.631,224.344 \n",
       "  299.496,225.78 300.161,227.001 301.869,229.657 302.636,230.688 303.738,232.314 305.776,234.953 305.789,234.971 307.906,237.627 308.916,238.764 310.16,240.284 \n",
       "  312.056,242.378 312.527,242.941 314.97,245.597 315.196,245.822 317.464,248.254 318.336,249.114 320.031,250.911 321.476,252.325 322.661,253.567 324.616,255.468 \n",
       "  325.344,256.224 327.755,258.555 328.072,258.881 330.836,261.537 330.895,261.591 333.618,264.194 334.035,264.569 336.432,266.851 337.175,267.517 339.275,269.507 \n",
       "  340.315,270.438 \n",
       "  \"/>\n",
       "<polyline clip-path=\"url(#clip1302)\" style=\"stroke:#e65e2d; stroke-width:1; stroke-opacity:1; fill:none\" points=\"\n",
       "  340.315,265.616 338.903,264.194 337.175,262.343 336.38,261.537 334.035,259.002 333.916,258.881 331.484,256.224 330.895,255.533 329.116,253.567 327.755,251.948 \n",
       "  326.828,250.911 324.633,248.254 324.616,248.231 322.479,245.597 321.476,244.246 320.438,242.941 318.517,240.284 318.336,240.006 316.667,237.627 315.196,235.288 \n",
       "  314.981,234.971 313.384,232.314 312.056,229.795 311.978,229.657 310.669,227.001 309.561,224.344 308.916,222.469 308.624,221.687 307.834,219.031 307.241,216.374 \n",
       "  306.838,213.717 306.619,211.061 306.576,208.404 306.702,205.748 306.99,203.091 307.434,200.434 308.027,197.778 308.761,195.121 308.916,194.647 309.573,192.464 \n",
       "  310.49,189.808 311.519,187.151 312.056,185.892 312.607,184.494 313.746,181.838 314.97,179.181 315.196,178.72 316.195,176.524 317.473,173.868 318.336,172.156 \n",
       "  318.78,171.211 320.081,168.554 321.431,165.898 321.476,165.812 322.735,163.241 324.072,160.584 324.616,159.528 325.387,157.928 326.693,155.271 327.755,153.143 \n",
       "  328.003,152.614 329.264,149.958 330.534,147.301 330.895,146.55 331.758,144.644 332.963,141.988 334.035,139.618 334.158,139.331 335.287,136.674 336.408,134.018 \n",
       "  337.175,132.176 337.496,131.361 338.528,128.704 339.54,126.048 340.315,123.966 \n",
       "  \"/>\n",
       "<polyline clip-path=\"url(#clip1302)\" style=\"stroke:#f57d15; stroke-width:1; stroke-opacity:1; fill:none\" points=\"\n",
       "  340.315,137.034 339.391,139.331 338.318,141.988 337.242,144.644 337.175,144.811 336.111,147.301 334.982,149.958 334.035,152.202 333.851,152.614 332.678,155.271 \n",
       "  331.523,157.928 330.895,159.398 330.358,160.584 329.181,163.241 328.035,165.898 327.755,166.568 326.872,168.554 325.733,171.211 324.64,173.868 324.616,173.931 \n",
       "  323.531,176.524 322.479,179.181 321.491,181.838 321.476,181.881 320.508,184.494 319.602,187.151 318.781,189.808 318.336,191.422 318.027,192.464 317.342,195.121 \n",
       "  316.762,197.778 316.295,200.434 315.944,203.091 315.717,205.748 315.617,208.404 315.651,211.061 315.825,213.717 316.142,216.374 316.61,219.031 317.233,221.687 \n",
       "  318.017,224.344 318.336,225.235 318.924,227.001 319.969,229.657 321.179,232.314 321.476,232.885 322.488,234.971 323.941,237.627 324.616,238.732 325.503,240.284 \n",
       "  327.185,242.941 327.755,243.761 328.956,245.597 330.853,248.254 330.895,248.309 332.798,250.911 334.035,252.475 334.851,253.567 336.988,256.224 337.175,256.441 \n",
       "  339.169,258.881 340.315,260.191 \n",
       "  \"/>\n",
       "<polyline clip-path=\"url(#clip1302)\" style=\"stroke:#fb9c07; stroke-width:1; stroke-opacity:1; fill:none\" points=\"\n",
       "  340.315,253.92 340.046,253.567 338.171,250.911 337.175,249.385 336.395,248.254 334.708,245.597 334.035,244.439 333.113,242.941 331.625,240.284 330.895,238.842 \n",
       "  330.243,237.627 328.963,234.971 327.828,232.314 327.755,232.119 326.774,229.657 325.859,227.001 325.084,224.344 324.616,222.396 324.434,221.687 323.892,219.031 \n",
       "  323.485,216.374 323.208,213.717 323.058,211.061 323.028,208.404 323.114,205.748 323.312,203.091 323.617,200.434 324.024,197.778 324.528,195.121 324.616,194.732 \n",
       "  325.093,192.464 325.734,189.808 326.453,187.151 327.245,184.494 327.755,182.921 328.085,181.838 328.955,179.181 329.881,176.524 330.86,173.868 330.895,173.775 \n",
       "  331.828,171.211 332.836,168.554 333.882,165.898 334.035,165.519 334.908,163.241 335.954,160.584 337.024,157.928 337.175,157.56 338.064,155.271 339.111,152.614 \n",
       "  340.17,149.958 340.315,149.598 \n",
       "  \"/>\n",
       "<polyline clip-path=\"url(#clip1302)\" style=\"stroke:#fabf26; stroke-width:1; stroke-opacity:1; fill:none\" points=\"\n",
       "  340.315,162.666 340.101,163.241 339.138,165.898 338.205,168.554 337.305,171.211 337.175,171.612 336.4,173.868 335.531,176.524 334.708,179.181 334.035,181.492 \n",
       "  333.929,181.838 333.167,184.494 332.465,187.151 331.829,189.808 331.262,192.464 330.895,194.433 330.759,195.121 330.316,197.778 329.958,200.434 329.689,203.091 \n",
       "  329.515,205.748 329.439,208.404 329.465,211.061 329.598,213.717 329.841,216.374 330.199,219.031 330.676,221.687 330.895,222.657 331.254,224.344 331.94,227.001 \n",
       "  332.749,229.657 333.686,232.314 334.035,233.181 334.715,234.971 335.852,237.627 337.121,240.284 337.175,240.387 338.452,242.941 339.912,245.597 340.315,246.269 \n",
       "  \n",
       "  \"/>\n",
       "<polyline clip-path=\"url(#clip1302)\" style=\"stroke:#f3e258; stroke-width:1; stroke-opacity:1; fill:none\" points=\"\n",
       "  340.315,235.951 339.918,234.971 338.964,232.314 338.127,229.657 337.405,227.001 337.175,226.003 336.771,224.344 336.237,221.687 335.813,219.031 335.495,216.374 \n",
       "  335.279,213.717 335.161,211.061 335.137,208.404 335.205,205.748 335.36,203.091 335.599,200.434 335.917,197.778 336.311,195.121 336.778,192.464 337.175,190.495 \n",
       "  337.306,189.808 337.874,187.151 338.5,184.494 339.18,181.838 339.911,179.181 340.315,177.803 \n",
       "  \"/>\n",
       "<polyline clip-path=\"url(#clip1302)\" style=\"stroke:#0d0829; stroke-width:1; stroke-opacity:1; fill:none\" points=\"\n",
       "  294.375,274.821 293.217,274.485 290.077,273.678 286.937,272.97 283.797,272.359 282.618,272.164 280.657,271.822 277.517,271.371 274.377,271.012 271.237,270.742 \n",
       "  268.098,270.559 264.958,270.46 261.818,270.44 258.678,270.497 255.538,270.628 252.398,270.83 249.258,271.1 246.118,271.433 242.978,271.828 240.651,272.164 \n",
       "  239.839,272.275 236.699,272.755 233.559,273.285 230.419,273.861 227.279,274.479 225.651,274.821 \n",
       "  \"/>\n",
       "<polyline clip-path=\"url(#clip1302)\" style=\"stroke:#270b52; stroke-width:1; stroke-opacity:1; fill:none\" points=\"\n",
       "  207.76,274.821 208.44,274.64 211.58,273.825 214.719,273.036 217.859,272.274 218.333,272.164 220.999,271.509 224.139,270.773 227.279,270.076 230.01,269.507 \n",
       "  230.419,269.417 233.559,268.772 236.699,268.179 239.839,267.641 242.978,267.161 245.306,266.851 246.118,266.736 249.258,266.36 252.398,266.057 255.538,265.83 \n",
       "  258.678,265.683 261.818,265.618 264.958,265.64 268.098,265.753 271.237,265.959 274.377,266.262 277.517,266.665 278.663,266.851 280.657,267.155 283.797,267.735 \n",
       "  286.937,268.419 290.077,269.212 291.101,269.507 293.217,270.083 296.357,271.045 299.496,272.118 299.618,272.164 302.636,273.244 305.776,274.479 306.57,274.821 \n",
       "  \n",
       "  \"/>\n",
       "<polyline clip-path=\"url(#clip1302)\" style=\"stroke:#470b69; stroke-width:1; stroke-opacity:1; fill:none\" points=\"\n",
       "  315.613,274.821 315.196,274.594 312.056,273.006 310.253,272.164 308.916,271.504 305.776,270.077 304.407,269.507 302.636,268.727 299.496,267.468 297.792,266.851 \n",
       "  296.357,266.299 293.217,265.216 290.077,264.256 289.847,264.194 286.937,263.364 283.797,262.59 280.657,261.934 278.354,261.537 277.517,261.384 274.377,260.925 \n",
       "  271.237,260.581 268.098,260.347 264.958,260.219 261.818,260.194 258.678,260.267 255.538,260.435 252.398,260.693 249.258,261.037 246.118,261.463 245.658,261.537 \n",
       "  242.978,261.941 239.839,262.484 236.699,263.092 233.559,263.763 231.7,264.194 230.419,264.473 227.279,265.209 224.139,265.993 220.999,266.821 220.89,266.851 \n",
       "  217.859,267.64 214.719,268.493 211.58,269.377 211.132,269.507 208.44,270.246 205.3,271.131 202.16,272.037 201.726,272.164 199.02,272.916 195.88,273.802 \n",
       "  192.74,274.699 192.316,274.821 \n",
       "  \"/>\n",
       "<polyline clip-path=\"url(#clip1302)\" style=\"stroke:#63146e; stroke-width:1; stroke-opacity:1; fill:none\" points=\"\n",
       "  177.466,274.821 180.181,274.039 183.321,273.131 186.46,272.221 186.658,272.164 189.6,271.264 192.74,270.308 195.394,269.507 195.88,269.352 199.02,268.359 \n",
       "  202.16,267.382 203.898,266.851 205.3,266.396 208.44,265.4 211.58,264.431 212.372,264.194 214.719,263.447 217.859,262.483 220.999,261.559 221.074,261.537 \n",
       "  224.139,260.62 227.279,259.729 230.419,258.893 230.47,258.881 233.559,258.062 236.699,257.296 239.839,256.601 241.747,256.224 242.978,255.963 246.118,255.383 \n",
       "  249.258,254.893 252.398,254.497 255.538,254.201 258.678,254.008 261.818,253.924 264.958,253.953 268.098,254.099 271.237,254.368 274.377,254.764 277.517,255.291 \n",
       "  280.657,255.955 281.71,256.224 283.797,256.722 286.937,257.606 290.077,258.63 290.752,258.881 293.217,259.737 296.357,260.967 297.663,261.537 299.496,262.288 \n",
       "  302.636,263.711 303.606,264.194 305.776,265.21 308.916,266.815 308.981,266.851 312.056,268.46 313.905,269.507 315.196,270.197 318.336,272.006 318.592,272.164 \n",
       "  321.476,273.851 323.024,274.821 \n",
       "  \"/>\n",
       "<polyline clip-path=\"url(#clip1302)\" style=\"stroke:#821f6b; stroke-width:1; stroke-opacity:1; fill:none\" points=\"\n",
       "  329.435,274.821 327.755,273.626 325.568,272.164 324.616,271.491 321.619,269.507 321.476,269.407 318.336,267.349 317.519,266.851 315.196,265.345 313.281,264.194 \n",
       "  312.056,263.41 308.916,261.552 308.888,261.537 305.776,259.73 304.179,258.881 302.636,258.003 299.496,256.378 299.168,256.224 296.357,254.812 293.591,253.567 \n",
       "  293.217,253.386 290.077,252.034 287.099,250.911 286.937,250.845 283.797,249.738 280.657,248.8 278.441,248.254 277.517,248.007 274.377,247.338 271.237,246.837 \n",
       "  268.098,246.496 264.958,246.31 261.818,246.274 258.678,246.38 255.538,246.625 252.398,247 249.258,247.502 246.118,248.123 245.559,248.254 242.978,248.81 \n",
       "  239.839,249.586 236.699,250.456 235.211,250.911 233.559,251.377 230.419,252.341 227.279,253.376 226.734,253.567 224.139,254.413 220.999,255.494 218.977,256.224 \n",
       "  217.859,256.6 214.719,257.701 211.58,258.843 211.479,258.881 208.44,259.946 205.3,261.077 204.051,261.537 202.16,262.191 199.02,263.296 196.505,264.194 \n",
       "  195.88,264.404 192.74,265.47 189.6,266.545 188.713,266.851 186.46,267.581 183.321,268.6 180.52,269.507 180.181,269.611 177.041,270.567 173.901,271.515 \n",
       "  171.724,272.164 170.761,272.436 167.621,273.309 164.481,274.165 162.021,274.821 \n",
       "  \"/>\n",
       "<polyline clip-path=\"url(#clip1302)\" style=\"stroke:#d24742; stroke-width:1; stroke-opacity:1; fill:none\" points=\"\n",
       "  155.062,262.536 151.922,263.5 149.565,264.194 148.782,264.411 145.642,265.238 142.502,266.022 139.362,266.758 138.936,266.851 136.222,267.408 133.082,268.001 \n",
       "  129.943,268.54 126.803,269.02 123.663,269.438 123.047,269.507 120.523,269.776 117.383,270.045 114.243,270.247 111.103,270.378 107.963,270.435 104.823,270.416 \n",
       "  101.684,270.316 98.5437,270.133 95.4038,269.863 92.29,269.507 92.2639,269.504 89.124,269.026 85.9841,268.446 82.8442,267.761 79.7043,266.968 79.2968,266.851 \n",
       "  76.5644,266.015 73.4246,264.933 71.5043,264.194 70.2847,263.695 67.1448,262.272 65.6702,261.537 64.0049,260.652 60.9549,258.881 60.865,258.825 57.7251,256.703 \n",
       "  57.0699,256.224 54.5852,254.273 53.7509,253.567 51.4453,251.465 50.8791,250.911 48.3715,248.254 48.3055,248.178 46.2118,245.597 45.1656,244.188 44.2975,242.941 \n",
       "  42.6159,240.284 42.0257,239.252 41.1527,237.627 39.8736,234.971 38.8858,232.659 38.7471,232.314 37.8099,229.657 37.0006,227.001 36.3151,224.344 35.7496,221.687 \n",
       "  35.7459,221.665 35.3252,219.031 35.0069,216.374 34.7906,213.717 34.6727,211.061 34.6494,208.404 34.7171,205.748 34.8721,203.091 35.1106,200.434 35.4289,197.778 \n",
       "  35.7459,195.642 35.8279,195.121 36.3225,192.464 36.8898,189.808 37.526,187.151 38.2271,184.494 38.8858,182.198 38.9956,181.838 39.8653,179.181 40.7915,176.524 \n",
       "  41.7698,173.868 42.0257,173.205 42.8458,171.211 43.985,168.554 45.1656,165.9 45.1665,165.898 46.4677,163.241 47.8045,160.584 48.3055,159.611 49.2331,157.928 \n",
       "  50.7249,155.271 51.4453,154.007 52.2981,152.614 53.9437,149.958 54.5852,148.93 55.6819,147.301 57.4787,144.644 57.7251,144.281 59.4059,141.988 60.865,139.994 \n",
       "  61.3924,139.331 63.4953,136.674 64.0049,136.025 65.7269,134.018 67.1448,132.345 68.062,131.361 70.2847,128.939 70.5233,128.704 73.1714,126.048 73.4246,125.788 \n",
       "  76.0306,123.391 76.5644,122.886 79.1313,120.734 79.7043,120.238 82.5528,118.078 82.8442,117.848 85.9841,115.715 86.4952,115.421 89.124,113.844 91.3047,112.764 \n",
       "  92.2639,112.266 95.4038,110.97 98.1886,110.108 98.5437,109.991 101.684,109.293 104.823,108.913 107.963,108.838 111.103,109.056 114.243,109.556 116.491,110.108 \n",
       "  117.383,110.314 120.523,111.287 123.663,112.492 124.263,112.764 126.803,113.864 129.938,115.421 129.943,115.423 133.082,117.1 134.743,118.078 136.222,118.917 \n",
       "  139.168,120.734 139.362,120.85 142.502,122.867 143.267,123.391 145.642,124.972 147.171,126.048 148.782,127.155 150.929,128.704 151.922,129.407 154.569,131.361 \n",
       "  155.062,131.719 158.111,134.018 158.202,134.085 161.341,136.5 161.562,136.674 164.481,138.962 164.942,139.331 167.621,141.468 168.26,141.988 170.761,144.017 \n",
       "  171.522,144.644 173.901,146.607 174.731,147.301 177.041,149.239 177.89,149.958 180.181,151.912 181,152.614 183.321,154.627 184.062,155.271 186.46,157.387 \n",
       "  187.075,157.928 189.6,160.194 190.037,160.584 192.74,163.054 192.946,163.241 195.8,165.898 195.88,165.975 198.597,168.554 199.02,168.971 201.329,171.211 \n",
       "  202.16,172.051 203.99,173.868 205.3,175.231 206.571,176.524 208.44,178.533 209.058,179.181 211.443,181.838 211.58,182.002 213.727,184.494 214.719,185.746 \n",
       "  215.875,187.151 217.857,189.808 217.859,189.812 219.7,192.464 220.999,194.613 221.321,195.121 222.745,197.778 223.895,200.434 224.139,201.189 224.79,203.091 \n",
       "  225.382,205.748 225.64,208.404 225.551,211.061 225.101,213.717 224.276,216.374 224.139,216.675 223.12,219.031 221.588,221.687 220.999,222.499 219.723,224.344 \n",
       "  217.859,226.568 217.512,227.001 214.99,229.657 214.719,229.904 212.166,232.314 211.58,232.799 209.036,234.971 208.44,235.423 205.607,237.627 205.3,237.842 \n",
       "  202.16,240.082 201.882,240.284 199.02,242.165 197.857,242.941 195.88,244.14 193.507,245.597 192.74,246.029 189.6,247.808 188.817,248.254 186.46,249.489 \n",
       "  183.75,250.911 183.321,251.119 180.181,252.64 178.255,253.567 177.041,254.11 173.901,255.503 172.255,256.224 170.761,256.834 167.621,258.096 165.631,258.881 \n",
       "  164.481,259.305 161.341,260.436 158.202,261.537 158.199,261.537 155.062,262.536 \n",
       "  \"/>\n",
       "<polyline clip-path=\"url(#clip1302)\" style=\"stroke:#e65e2d; stroke-width:1; stroke-opacity:1; fill:none\" points=\"\n",
       "  155.062,256.661 151.922,257.762 148.782,258.818 148.586,258.881 145.642,259.762 142.502,260.653 139.362,261.489 139.165,261.537 136.222,262.22 133.082,262.891 \n",
       "  129.943,263.499 126.803,264.042 125.792,264.194 123.663,264.495 120.523,264.871 117.383,265.174 114.243,265.401 111.103,265.548 107.963,265.613 104.823,265.591 \n",
       "  101.684,265.479 98.5437,265.273 95.4038,264.97 92.2639,264.566 89.9668,264.194 89.124,264.049 85.9841,263.393 82.8442,262.619 79.7043,261.723 79.1337,261.537 \n",
       "  76.5644,260.645 73.4246,259.415 72.2014,258.881 70.2847,257.984 67.1448,256.359 66.9079,256.224 64.0049,254.45 62.6821,253.567 60.865,252.26 59.1393,250.911 \n",
       "  57.7251,249.714 56.1302,248.254 54.5852,246.717 53.5416,245.597 51.4453,243.141 51.286,242.941 49.365,240.284 48.3055,238.662 47.6738,237.627 46.2207,234.971 \n",
       "  45.1656,232.797 44.946,232.314 43.8867,229.657 42.972,227.001 42.1972,224.344 42.0257,223.631 41.5864,221.687 41.1092,219.031 40.751,216.374 40.5076,213.717 \n",
       "  40.375,211.061 40.3488,208.404 40.425,205.748 40.5994,203.091 40.8677,200.434 41.2258,197.778 41.6695,195.121 42.0257,193.319 42.2056,192.464 42.8468,189.808 \n",
       "  43.5659,187.151 44.3583,184.494 45.1656,182.004 45.2233,181.838 46.2113,179.181 47.2634,176.524 48.3055,174.033 48.3797,173.868 49.6277,171.211 50.929,168.554 \n",
       "  51.4453,167.538 52.3401,165.898 53.8357,163.241 54.5852,161.945 55.4333,160.584 57.1273,157.928 57.7251,157.008 58.9462,155.271 60.8427,152.614 60.865,152.583 \n",
       "  62.9264,149.958 64.0049,148.595 65.1242,147.301 67.1448,144.976 67.4618,144.644 70.0038,141.988 70.2847,141.694 72.7828,139.331 73.4246,138.721 75.8276,136.674 \n",
       "  76.5644,136.041 79.2203,134.018 79.7043,133.644 82.8442,131.522 83.1202,131.361 85.9841,129.664 87.8952,128.704 89.124,128.076 92.2639,126.751 94.3602,126.048 \n",
       "  95.4038,125.689 98.5437,124.881 101.684,124.331 104.823,124.032 107.963,123.973 111.103,124.145 114.243,124.538 117.383,125.144 120.523,125.953 120.82,126.048 \n",
       "  123.663,126.934 126.803,128.093 128.246,128.704 129.943,129.409 133.082,130.872 134.035,131.361 136.222,132.467 139.044,134.018 139.362,134.191 142.502,136.024 \n",
       "  143.548,136.674 145.642,137.966 147.738,139.331 148.782,140.008 151.693,141.988 151.922,142.143 155.062,144.366 155.441,144.644 158.202,146.674 159.027,147.301 \n",
       "  161.341,149.066 162.479,149.958 164.481,151.539 165.811,152.614 167.621,154.094 169.033,155.271 170.761,156.733 172.152,157.928 173.901,159.459 175.172,160.584 \n",
       "  177.041,162.278 178.095,163.241 180.181,165.199 180.921,165.898 183.321,168.233 183.65,168.554 186.277,171.211 186.46,171.404 188.8,173.868 189.6,174.751 \n",
       "  191.214,176.524 192.74,178.296 193.509,179.181 195.676,181.838 195.88,182.107 197.713,184.494 199.02,186.345 199.598,187.151 201.327,189.808 202.16,191.243 \n",
       "  202.882,192.464 204.252,195.121 205.3,197.526 205.412,197.778 206.367,200.434 207.083,203.091 207.549,205.748 207.752,208.404 207.682,211.061 207.328,213.717 \n",
       "  206.679,216.374 205.723,219.031 205.3,219.914 204.469,221.687 202.903,224.344 202.16,225.384 201.026,227.001 199.02,229.424 198.83,229.657 196.321,232.314 \n",
       "  195.88,232.724 193.488,234.971 192.74,235.594 190.321,237.627 189.6,238.17 186.808,240.284 186.46,240.522 183.321,242.673 182.928,242.941 180.181,244.65 \n",
       "  178.651,245.597 177.041,246.51 173.937,248.254 173.901,248.273 170.761,249.878 168.709,250.911 167.621,251.417 164.481,252.85 162.873,253.567 161.341,254.202 \n",
       "  158.202,255.467 156.263,256.224 155.062,256.661 \n",
       "  \"/>\n",
       "<polyline clip-path=\"url(#clip1302)\" style=\"stroke:#f57d15; stroke-width:1; stroke-opacity:1; fill:none\" points=\"\n",
       "  151.922,251.03 148.782,252.252 145.642,253.417 145.214,253.567 142.502,254.451 139.362,255.412 136.509,256.224 136.222,256.3 133.082,257.066 129.943,257.761 \n",
       "  126.803,258.381 123.898,258.881 123.663,258.919 120.523,259.345 117.383,259.689 114.243,259.947 111.103,260.115 107.963,260.188 104.823,260.163 101.684,260.035 \n",
       "  98.5437,259.801 95.4038,259.457 92.2639,258.998 91.624,258.881 89.124,258.389 85.9841,257.64 82.8442,256.756 81.213,256.224 79.7043,255.696 76.5644,254.442 \n",
       "  74.6215,253.567 73.4246,252.987 70.2847,251.287 69.6558,250.911 67.1448,249.283 65.7004,248.254 64.0049,246.941 62.4168,245.597 60.865,244.163 59.6488,242.941 \n",
       "  57.7251,240.816 57.2799,240.284 55.2713,237.627 54.5852,236.615 53.5517,234.971 52.0697,232.314 51.4453,231.038 50.8167,229.657 49.7718,227.001 48.8868,224.344 \n",
       "  48.3055,222.229 48.1665,221.687 47.6243,219.031 47.2174,216.374 46.941,213.717 46.7903,211.061 46.7606,208.404 46.8471,205.748 47.0452,203.091 47.35,200.434 \n",
       "  47.7568,197.778 48.2609,195.121 48.3055,194.922 48.8963,192.464 49.6288,189.808 50.4502,187.151 51.3554,184.494 51.4453,184.251 52.4054,181.838 53.541,179.181 \n",
       "  54.5852,176.887 54.763,176.524 56.1397,173.868 57.5839,171.211 57.7251,170.962 59.2018,168.554 60.865,165.939 60.894,165.898 62.7896,163.241 64.0049,161.583 \n",
       "  64.8047,160.584 66.9816,157.928 67.1448,157.732 69.4037,155.271 70.2847,154.325 72.0496,152.614 73.4246,151.297 74.9838,149.958 76.5644,148.611 78.2983,147.301 \n",
       "  79.7043,146.243 82.1298,144.644 82.8442,144.174 85.9841,142.389 86.8177,141.988 89.124,140.875 92.2639,139.626 93.1978,139.331 95.4038,138.63 98.5437,137.881 \n",
       "  101.684,137.372 104.823,137.095 107.963,137.04 111.103,137.2 114.243,137.564 117.383,138.125 120.523,138.874 122.07,139.331 123.663,139.799 126.803,140.892 \n",
       "  129.548,141.988 129.943,142.145 133.082,143.548 135.309,144.644 136.222,145.095 139.362,146.778 140.269,147.301 142.502,148.594 144.713,149.958 145.642,150.535 \n",
       "  148.782,152.597 148.806,152.614 151.922,154.786 152.588,155.271 155.062,157.096 156.148,157.928 158.202,159.53 159.511,160.584 161.341,162.091 162.7,163.241 \n",
       "  164.481,164.789 165.727,165.898 167.621,167.635 168.604,168.554 170.761,170.647 171.334,171.211 173.901,173.847 173.921,173.868 176.358,176.524 177.041,177.31 \n",
       "  178.652,179.181 180.181,181.07 180.798,181.838 182.788,184.494 183.321,185.267 184.616,187.151 186.275,189.808 186.46,190.141 187.756,192.464 189.047,195.121 \n",
       "  189.6,196.468 190.141,197.778 191.026,200.434 191.689,203.091 192.119,205.748 192.308,208.404 192.243,211.061 191.915,213.717 191.314,216.374 190.429,219.031 \n",
       "  189.6,220.897 189.251,221.687 187.775,224.344 186.46,226.295 185.986,227.001 183.876,229.657 183.321,230.262 181.43,232.314 180.181,233.504 178.632,234.971 \n",
       "  177.041,236.308 175.458,237.627 173.901,238.791 171.878,240.284 170.761,241.03 167.852,242.941 167.621,243.079 164.481,244.921 163.301,245.597 161.341,246.626 \n",
       "  158.202,248.23 158.152,248.254 155.062,249.661 152.216,250.911 151.922,251.03 \n",
       "  \"/>\n",
       "<polyline clip-path=\"url(#clip1302)\" style=\"stroke:#fb9c07; stroke-width:1; stroke-opacity:1; fill:none\" points=\"\n",
       "  145.642,245.645 142.502,246.942 139.362,248.16 139.1,248.254 136.222,249.21 133.082,250.169 130.405,250.911 129.943,251.029 126.803,251.746 123.663,252.372 \n",
       "  120.523,252.9 117.383,253.326 115.013,253.567 114.243,253.64 111.103,253.833 107.963,253.917 104.823,253.888 101.684,253.741 99.6516,253.567 98.5437,253.465 \n",
       "  95.4038,253.039 92.2639,252.471 89.124,251.756 86.0623,250.911 85.9841,250.887 82.8442,249.78 79.7043,248.498 79.1798,248.254 76.5644,246.93 74.2279,245.597 \n",
       "  73.4246,245.097 70.3247,242.941 70.2847,242.91 67.181,240.284 67.1448,240.25 64.5967,237.627 64.0049,236.948 62.4296,234.971 60.865,232.758 60.5763,232.314 \n",
       "  59.0612,229.657 57.7527,227.001 57.7251,226.935 56.7265,224.344 55.8816,221.687 55.2101,219.031 54.7061,216.374 54.5852,215.437 54.3796,213.717 54.2064,211.061 \n",
       "  54.1723,208.404 54.2717,205.748 54.4994,203.091 54.5852,202.44 54.8702,200.434 55.3741,197.778 55.9985,195.121 56.7375,192.464 57.5852,189.808 57.7251,189.416 \n",
       "  58.6023,187.151 59.7357,184.494 60.865,182.059 60.9767,181.838 62.416,179.181 63.9487,176.524 64.0049,176.432 65.7125,173.868 67.1448,171.817 67.6104,171.211 \n",
       "  69.7374,168.554 70.2847,167.895 72.1204,165.898 73.4246,164.522 74.7808,163.241 76.5644,161.6 77.8096,160.584 79.7043,159.073 81.3417,157.928 82.8442,156.896 \n",
       "  85.5868,155.271 85.9841,155.039 89.124,153.487 91.2632,152.614 92.2639,152.211 95.4038,151.205 98.5437,150.45 101.556,149.958 101.684,149.937 104.823,149.66 \n",
       "  107.963,149.605 111.103,149.764 112.769,149.958 114.243,150.13 117.383,150.696 120.523,151.451 123.663,152.386 124.31,152.614 126.803,153.503 129.943,154.788 \n",
       "  130.994,155.271 133.082,156.244 136.222,157.856 136.351,157.928 139.362,159.64 140.907,160.584 142.502,161.582 144.993,163.241 145.642,163.685 148.704,165.898 \n",
       "  148.782,165.956 151.922,168.412 152.096,168.554 155.062,171.064 155.229,171.211 158.133,173.868 158.202,173.933 160.817,176.524 161.341,177.073 163.302,179.181 \n",
       "  164.481,180.531 165.597,181.838 167.621,184.385 167.706,184.494 169.611,187.151 170.761,188.918 171.331,189.808 172.85,192.464 173.901,194.573 174.171,195.121 \n",
       "  175.276,197.778 176.168,200.434 176.837,203.091 177.041,204.338 177.269,205.748 177.458,208.404 177.393,211.061 177.065,213.717 177.041,213.825 176.459,216.374 \n",
       "  175.567,219.031 174.378,221.687 173.901,222.534 172.87,224.344 171.035,227.001 170.761,227.337 168.84,229.657 167.621,230.929 166.268,232.314 164.481,233.917 \n",
       "  163.28,234.971 161.341,236.48 159.827,237.627 158.202,238.731 155.841,240.284 155.062,240.747 151.922,242.547 151.205,242.941 148.782,244.153 145.751,245.597 \n",
       "  145.642,245.645 \n",
       "  \"/>\n",
       "<polyline clip-path=\"url(#clip1302)\" style=\"stroke:#fabf26; stroke-width:1; stroke-opacity:1; fill:none\" points=\"\n",
       "  139.362,238.638 136.222,240.144 135.905,240.284 133.082,241.409 129.943,242.545 128.717,242.941 126.803,243.503 123.663,244.306 120.523,244.985 117.383,245.533 \n",
       "  116.889,245.597 114.243,245.914 111.103,246.158 107.963,246.265 104.823,246.228 101.684,246.042 98.5437,245.702 97.891,245.597 95.4038,245.163 92.2639,244.433 \n",
       "  89.124,243.515 87.5059,242.941 85.9841,242.348 82.8442,240.903 81.6839,240.284 79.7043,239.116 77.4912,237.627 76.5644,236.932 74.247,234.971 73.4246,234.187 \n",
       "  71.6648,232.314 70.2847,230.639 69.5538,229.657 67.8458,227.001 67.1448,225.713 66.4666,224.344 65.3809,221.687 64.5179,219.031 64.0049,216.926 63.8817,216.374 \n",
       "  63.479,213.717 63.2594,211.061 63.2162,208.404 63.3423,205.748 63.6308,203.091 64.0049,200.852 64.0813,200.434 64.7288,197.778 65.5311,195.121 66.4807,192.464 \n",
       "  67.1448,190.845 67.6122,189.808 68.9548,187.151 70.2847,184.763 70.4503,184.494 72.2303,181.838 73.4246,180.179 74.2268,179.181 76.5001,176.524 76.5644,176.453 \n",
       "  79.1983,173.868 79.7043,173.394 82.3656,171.211 82.8442,170.834 85.9841,168.701 86.2393,168.554 89.124,166.954 91.4313,165.898 92.2639,165.528 95.4038,164.421 \n",
       "  98.5437,163.591 100.489,163.241 101.684,163.032 104.823,162.732 107.963,162.673 111.103,162.845 114.243,163.239 114.253,163.241 117.383,163.861 120.523,164.692 \n",
       "  123.663,165.721 124.118,165.898 126.803,166.972 129.943,168.414 130.214,168.554 133.082,170.086 134.993,171.211 136.222,171.965 139.074,173.868 139.362,174.069 \n",
       "  142.502,176.431 142.619,176.524 145.642,179.082 145.752,179.181 148.544,181.838 148.782,182.081 151.03,184.494 151.922,185.534 153.251,187.151 155.062,189.578 \n",
       "  155.227,189.808 156.931,192.464 158.202,194.736 158.41,195.121 159.627,197.778 160.608,200.434 161.341,203.083 161.344,203.091 161.809,205.748 162.012,208.404 \n",
       "  161.942,211.061 161.588,213.717 161.341,214.728 160.928,216.374 159.946,219.031 158.638,221.687 158.202,222.392 156.953,224.344 155.062,226.785 154.888,227.001 \n",
       "  152.367,229.657 151.922,230.062 149.341,232.314 148.782,232.742 145.726,234.971 145.642,235.025 142.502,236.949 141.322,237.627 139.362,238.638 \n",
       "  \"/>\n",
       "<polyline clip-path=\"url(#clip1302)\" style=\"stroke:#f3e258; stroke-width:1; stroke-opacity:1; fill:none\" points=\"\n",
       "  129.943,230.06 126.803,231.668 125.356,232.314 123.663,232.977 120.523,234.016 117.383,234.854 116.798,234.971 114.243,235.424 111.103,235.786 107.963,235.945 \n",
       "  104.823,235.89 101.684,235.615 98.5437,235.109 97.9589,234.971 95.4038,234.289 92.2639,233.172 90.3482,232.314 89.124,231.689 85.9841,229.746 85.8628,229.657 \n",
       "  82.8442,227.103 82.7395,227.001 80.443,224.344 79.7043,223.308 78.6909,221.687 77.3708,219.031 76.5644,216.869 76.4007,216.374 75.8034,213.717 75.4778,211.061 \n",
       "  75.4136,208.404 75.6006,205.748 76.0285,203.091 76.5644,200.929 76.7027,200.434 77.6933,197.778 78.9208,195.121 79.7043,193.688 80.4677,192.464 82.3685,189.808 \n",
       "  82.8442,189.215 84.7615,187.151 85.9841,185.957 87.7521,184.494 89.124,183.45 91.6926,181.838 92.2639,181.504 95.4038,180.046 97.8869,179.181 98.5437,178.966 \n",
       "  101.684,178.268 104.823,177.887 107.963,177.812 111.103,178.031 114.243,178.531 116.894,179.181 117.383,179.308 120.523,180.402 123.663,181.758 123.819,181.838 \n",
       "  126.803,183.476 128.419,184.494 129.943,185.537 132.044,187.151 133.082,188.029 134.99,189.808 136.222,191.096 137.426,192.464 139.362,194.989 139.457,195.121 \n",
       "  141.059,197.778 142.351,200.434 142.502,200.848 143.27,203.091 143.861,205.748 144.119,208.404 144.031,211.061 143.581,213.717 142.756,216.374 142.502,216.93 \n",
       "  141.479,219.031 139.757,221.687 139.362,222.171 137.456,224.344 136.222,225.505 134.494,227.001 133.082,228.035 130.643,229.657 129.943,230.06 \n",
       "  \"/>\n",
       "<polyline clip-path=\"url(#clip1302)\" style=\"stroke:#ba3655; stroke-width:1; stroke-opacity:1; fill:none\" points=\"\n",
       "  211.58,165.898 214.719,168.554 217.859,171.211 220.999,173.868 224.139,176.524 227.279,179.181 \n",
       "  230.419,181.838 233.559,184.494 236.699,187.151 239.839,189.808 242.978,192.464 \n",
       "  246.118,195.121 249.258,197.778 252.398,200.434 255.538,203.091 258.678,205.748 \n",
       "  261.818,208.404 264.958,207.492 266.142,205.748 268.098,204.488 269.281,203.091 271.237,201.59 272.26,200.434 274.377,198.643 275.144,197.778 \n",
       "  277.517,195.618 277.952,195.121 280.657,192.504 280.691,192.464 283.29,189.808 283.797,189.345 285.836,187.151 286.937,186.075 288.335,184.494 290.077,182.682 \n",
       "  290.788,181.838 293.194,179.181 293.217,179.157 295.47,176.524 296.357,175.543 297.714,173.868 299.496,171.77 299.926,171.211 302.053,168.554 302.636,167.851 \n",
       "  304.112,165.898 305.776,163.763 306.149,163.241 308.096,160.584 308.916,159.491 309.995,157.928 311.863,155.271 312.056,155 313.63,152.614 315.196,150.269 \n",
       "  315.389,149.958 317.048,147.301 318.336,145.249 318.689,144.644 320.244,141.988 321.476,139.881 321.776,139.331 323.219,136.674 324.616,134.084 324.649,134.018 \n",
       "  325.975,131.361 327.281,128.704 327.755,127.72 328.513,126.048 329.69,123.391 330.835,120.734 330.895,120.591 331.884,118.078 332.892,115.421 333.859,112.764 \n",
       "  334.035,112.255 334.738,110.108 335.561,107.451 336.335,104.794 337.054,102.138 337.175,101.651 337.686,99.4809 338.254,96.8243 338.761,94.1676 339.202,91.5109 \n",
       "  339.575,88.8543 339.876,86.1976 340.102,83.541 340.248,80.8843 340.312,78.2276 340.29,75.571 340.179,72.9143 339.974,70.2576 339.673,67.601 339.272,64.9443 \n",
       "  338.767,62.2876 338.155,59.631 337.433,56.9743 337.175,56.1558 336.563,54.3176 335.554,51.661 334.417,49.0043 334.035,48.2045 333.096,46.3477 331.608,43.691 \n",
       "  330.895,42.5336 329.915,41.0343 328.018,38.3777 327.755,38.0394 325.84,35.721 324.616,34.3517 323.387,33.0643 321.476,31.2054 320.598,30.4077 318.336,28.4939 \n",
       "  317.393,27.751 315.196,26.1337 313.674,25.0943 312.056,24.0585 309.316,22.4377 308.916,22.2155 305.776,20.6102 304.004,19.781 302.636,19.1782 299.496,17.9193 \n",
       "  297.302,17.1244 296.357,16.8012 293.217,15.8392 290.077,14.9855 287.904,14.4677 286.937,14.2496 283.797,13.6383 280.657,13.1206 277.517,12.6936 274.377,12.3541 \n",
       "  271.237,12.0993 268.098,11.9263 264.958,11.8319 261.818,11.8133 258.678,11.8675 255.538,11.9915 252.398,12.1823 249.258,12.4371 246.118,12.7527 242.978,13.1262 \n",
       "  239.839,13.5547 236.699,14.0352 234.134,14.4677 233.559,14.5703 230.419,15.1789 227.279,15.833 224.139,16.5295 221.601,17.1244 220.999,17.2737 217.859,18.0915 \n",
       "  214.719,18.9443 211.749,19.781 211.58,19.8316 208.44,20.8008 205.3,21.7964 203.323,22.4377 202.16,22.8393 199.02,23.9443 195.88,25.0661 195.802,25.0943 \n",
       "  192.74,26.2756 189.6,27.497 188.95,27.751 186.46,28.7929 183.321,30.1088 182.606,30.4077 180.181,31.4974 177.041,32.9013 176.673,33.0643 173.901,34.389 \n",
       "  171.081,35.721 170.761,35.8844 167.621,37.4649 165.773,38.3777 164.481,39.0712 161.341,40.7189 160.724,41.0343 158.202,42.4421 155.892,43.691 155.062,44.1847 \n",
       "  151.922,45.9843 151.261,46.3477 148.782,47.8558 146.801,49.0043 145.642,49.7546 142.53,51.661 142.502,51.6802 139.362,53.7159 138.365,54.3176 136.222,55.7916 \n",
       "  134.354,56.9743 133.082,57.9061 130.489,59.631 129.943,60.0601 126.803,62.2591 126.756,62.2876 123.663,64.5766 123.075,64.9443 120.523,66.9519 119.501,67.601 \n",
       "  117.383,69.3922 116.017,70.2576 114.243,71.913 112.591,72.9143 111.103,74.5689 109.041,75.571 107.963,78.2276 111.103,80.8843 114.243,83.541 \n",
       "  117.383,86.1976 120.523,88.8543 123.663,91.5109 126.803,94.1676 129.943,96.8243 \n",
       "  133.082,99.4809 136.222,102.138 139.362,104.794 142.502,107.451 145.642,110.108 \n",
       "  148.782,112.764 151.922,115.421 155.062,118.078 158.202,120.734 161.341,123.391 \n",
       "  164.481,126.048 167.621,128.704 170.761,131.361 173.901,134.018 177.041,136.674 \n",
       "  180.181,139.331 183.321,141.988 186.46,144.644 189.6,147.301 192.74,149.958 \n",
       "  195.88,152.614 199.02,155.271 202.16,157.928 205.3,160.584 208.44,163.241 \n",
       "  211.58,165.898 \n",
       "  \"/>\n",
       "<polyline clip-path=\"url(#clip1302)\" style=\"stroke:#9e2a62; stroke-width:1; stroke-opacity:1; fill:none\" points=\"\n",
       "  222.61,160.584 224.139,161.66 226.514,163.241 227.279,163.764 230.419,165.782 230.613,165.898 233.559,167.715 235.038,168.554 236.699,169.532 239.839,171.209 \n",
       "  239.843,171.211 242.978,172.768 245.519,173.868 246.118,174.14 249.258,175.345 252.398,176.317 253.29,176.524 255.538,177.075 258.678,177.575 261.818,177.794 \n",
       "  264.958,177.719 268.098,177.338 271.237,176.64 271.592,176.524 274.377,175.662 277.517,174.366 278.476,173.868 280.657,172.788 283.286,171.211 283.797,170.917 \n",
       "  286.937,168.783 287.228,168.554 290.077,166.393 290.65,165.898 293.217,163.745 293.751,163.241 296.357,160.844 296.61,160.584 299.258,157.928 299.496,157.693 \n",
       "  301.719,155.271 302.636,154.287 304.054,152.614 305.776,150.607 306.286,149.958 308.389,147.301 308.916,146.638 310.375,144.644 312.056,142.351 312.302,141.988 \n",
       "  314.099,139.331 315.196,137.702 315.837,136.674 317.483,134.018 318.336,132.625 319.056,131.361 320.548,128.704 321.476,127.021 321.977,126.048 323.313,123.391 \n",
       "  324.615,120.734 324.616,120.732 325.796,118.078 326.935,115.421 327.755,113.427 328.011,112.764 328.99,110.108 329.916,107.451 330.786,104.794 330.895,104.434 \n",
       "  331.554,102.138 332.255,99.4809 332.891,96.8243 333.459,94.1676 333.953,91.5109 334.035,90.9897 334.352,88.8543 334.671,86.1976 334.909,83.541 335.064,80.8843 \n",
       "  335.132,78.2276 335.108,75.571 334.991,72.9143 334.774,70.2576 334.456,67.601 334.035,64.9664 334.031,64.9443 333.466,62.2876 332.781,59.631 331.971,56.9743 \n",
       "  331.034,54.3176 330.895,53.9729 329.908,51.661 328.628,49.0043 327.755,47.3796 327.165,46.3477 325.484,43.691 324.616,42.4434 323.569,41.0343 321.476,38.4538 \n",
       "  321.41,38.3777 318.902,35.721 318.336,35.1666 316.03,33.0643 315.196,32.3584 312.711,30.4077 312.056,29.9286 308.916,27.8069 308.826,27.751 305.776,25.9796 \n",
       "  304.111,25.0943 302.636,24.3599 299.496,22.937 298.277,22.4377 296.357,21.6991 293.217,20.6168 290.484,19.781 290.077,19.6636 286.937,18.8707 283.797,18.1859 \n",
       "  280.657,17.606 277.517,17.1275 277.491,17.1244 274.377,16.7684 271.237,16.499 268.098,16.316 264.958,16.2163 261.818,16.1966 258.678,16.2539 255.538,16.385 \n",
       "  252.398,16.5868 249.258,16.8561 246.734,17.1244 246.118,17.1937 242.978,17.6122 239.839,18.0922 236.699,18.6305 233.559,19.2237 230.845,19.781 230.419,19.8739 \n",
       "  227.279,20.6098 224.139,21.3934 220.999,22.2212 220.217,22.4377 217.859,23.1316 214.719,24.0955 211.582,25.0943 211.58,25.0951 208.44,26.1961 205.3,27.3271 \n",
       "  204.15,27.751 202.16,28.5359 199.02,29.7981 197.526,30.4077 195.88,31.1292 192.74,32.5215 191.526,33.0643 189.6,33.9922 186.46,35.5125 186.031,35.721 \n",
       "  183.321,37.1431 180.964,38.3777 180.181,38.8239 177.041,40.6031 176.274,41.0343 173.901,42.4913 171.924,43.691 170.761,44.467 167.899,46.3477 167.621,46.5495 \n",
       "  164.481,48.7902 164.174,49.0043 161.341,51.2093 160.745,51.661 158.202,53.8328 157.616,54.3176 155.062,56.7277 154.791,56.9743 152.269,59.631 151.922,60.0634 \n",
       "  150.058,62.2876 148.782,64.1328 148.193,64.9443 146.662,67.601 145.642,69.9573 145.505,70.2576 144.68,72.9143 144.23,75.571 144.141,78.2276 144.4,80.8843 \n",
       "  144.991,83.541 145.642,85.4432 145.886,86.1976 147.036,88.8543 148.46,91.5109 148.782,92.0184 150.082,94.1676 151.922,96.8202 151.924,96.8243 153.906,99.4809 \n",
       "  155.062,100.886 156.054,102.138 158.202,104.63 158.338,104.794 160.723,107.451 161.341,108.098 163.21,110.108 164.481,111.401 165.791,112.764 167.621,114.581 \n",
       "  168.452,115.421 170.761,117.661 171.184,118.078 173.901,120.657 173.981,120.734 176.835,123.391 177.041,123.578 179.744,126.048 180.181,126.437 182.706,128.704 \n",
       "  183.321,129.245 185.719,131.361 186.46,132.005 188.781,134.018 189.6,134.72 191.891,136.674 192.74,137.393 195.05,139.331 195.88,140.024 198.259,141.988 \n",
       "  199.02,142.615 201.521,144.644 202.16,145.164 204.839,147.301 205.3,147.67 208.219,149.958 208.44,150.132 211.58,152.546 211.671,152.614 214.719,154.913 \n",
       "  215.212,155.271 217.859,157.225 218.852,157.928 220.999,159.476 222.61,160.584 \n",
       "  \"/>\n",
       "<polyline clip-path=\"url(#clip1302)\" style=\"stroke:#821f6b; stroke-width:1; stroke-opacity:1; fill:none\" points=\"\n",
       "  230.738,152.614 233.559,154.165 235.746,155.271 236.699,155.76 239.839,157.223 241.535,157.928 242.978,158.539 246.118,159.698 248.961,160.584 249.258,160.679 \n",
       "  252.398,161.488 255.538,162.093 258.678,162.487 261.818,162.659 264.958,162.6 268.098,162.3 271.237,161.751 274.377,160.942 275.421,160.584 277.517,159.881 \n",
       "  280.657,158.556 281.886,157.928 283.797,156.968 286.661,155.271 286.937,155.11 290.077,152.987 290.561,152.614 293.217,150.59 293.954,149.958 296.357,147.911 \n",
       "  296.998,147.301 299.496,144.938 299.777,144.644 302.319,141.988 302.636,141.656 304.657,139.331 305.776,138.037 306.855,136.674 308.916,134.048 308.938,134.018 \n",
       "  310.835,131.361 312.056,129.624 312.654,128.704 314.348,126.048 315.196,124.687 315.945,123.391 317.441,120.734 318.336,119.094 318.852,118.078 320.153,115.421 \n",
       "  321.401,112.764 321.476,112.598 322.518,110.108 323.57,107.451 324.558,104.794 324.616,104.628 325.423,102.138 326.215,99.4809 326.934,96.8243 327.576,94.1676 \n",
       "  327.755,93.3127 328.112,91.5109 328.555,88.8543 328.913,86.1976 329.182,83.541 329.356,80.8843 329.432,78.2276 329.406,75.571 329.273,72.9143 329.03,70.2576 \n",
       "  328.672,67.601 328.195,64.9443 327.755,63.0007 327.584,62.2876 326.809,59.631 325.894,56.9743 324.835,54.3176 324.616,53.8348 323.56,51.661 322.107,49.0043 \n",
       "  321.476,47.9694 320.416,46.3477 318.495,43.691 318.336,43.4905 316.24,41.0343 315.196,39.9151 313.651,38.3777 312.056,36.9176 310.642,35.721 308.916,34.3716 \n",
       "  307.099,33.0643 305.776,32.1813 302.873,30.4077 302.636,30.2729 299.496,28.6475 297.58,27.751 296.357,27.2165 293.217,25.987 290.647,25.0943 290.077,24.9085 \n",
       "  286.937,24.0123 283.797,23.2383 280.657,22.5828 279.814,22.4377 277.517,22.066 274.377,21.6622 271.237,21.3591 268.098,21.1533 264.958,21.041 261.818,21.0189 \n",
       "  258.678,21.0834 255.538,21.2309 252.398,21.4579 249.258,21.7609 246.118,22.1363 243.989,22.4377 242.978,22.5899 239.839,23.1324 236.699,23.7408 233.559,24.4113 \n",
       "  230.616,25.0943 230.419,25.1432 227.279,25.9791 224.139,26.8693 221.195,27.751 220.999,27.8138 217.859,28.8698 214.719,29.9708 213.518,30.4077 211.58,31.1647 \n",
       "  208.44,32.4301 206.908,33.0643 205.3,33.7819 202.16,35.2152 201.073,35.721 199.02,36.7541 195.88,38.3588 195.844,38.3777 192.74,40.1218 191.13,41.0343 \n",
       "  189.6,41.9814 186.853,43.691 186.46,43.9592 183.321,46.1101 182.973,46.3477 180.181,48.4613 179.46,49.0043 177.041,51.0375 176.293,51.661 173.901,53.9081 \n",
       "  173.46,54.3176 170.951,56.9743 170.761,57.2078 168.755,59.631 167.621,61.248 166.878,62.2876 165.312,64.9443 164.481,66.718 164.058,67.601 163.102,70.2576 \n",
       "  162.453,72.9143 162.099,75.571 162.029,78.2276 162.233,80.8843 162.698,83.541 163.414,86.1976 164.369,88.8543 164.481,89.1058 165.529,91.5109 166.899,94.1676 \n",
       "  167.621,95.3891 168.454,96.8243 170.183,99.4809 170.761,100.287 172.068,102.138 173.901,104.525 174.106,104.794 176.272,107.451 177.041,108.336 178.567,110.108 \n",
       "  180.181,111.881 180.981,112.764 183.321,115.227 183.504,115.421 186.131,118.078 186.46,118.399 188.86,120.734 189.6,121.433 191.687,123.391 192.74,124.354 \n",
       "  194.61,126.048 195.88,127.173 197.629,128.704 199.02,129.899 200.748,131.361 202.16,132.538 203.97,134.018 205.3,135.093 207.302,136.674 208.44,137.566 \n",
       "  210.754,139.331 211.58,139.957 214.34,141.988 214.719,142.266 217.859,144.489 218.088,144.644 220.999,146.624 222.043,147.301 224.139,148.666 226.233,149.958 \n",
       "  227.279,150.608 230.419,152.441 230.738,152.614 \n",
       "  \"/>\n",
       "<polyline clip-path=\"url(#clip1302)\" style=\"stroke:#63146e; stroke-width:1; stroke-opacity:1; fill:none\" points=\"\n",
       "  240.233,144.644 242.978,145.74 246.118,146.833 247.711,147.301 249.258,147.758 252.398,148.507 255.538,149.068 258.678,149.432 261.818,149.591 264.958,149.537 \n",
       "  268.098,149.259 271.237,148.751 274.377,148.002 276.583,147.301 277.517,147.006 280.657,145.756 282.963,144.644 283.797,144.243 286.937,142.458 287.651,141.988 \n",
       "  290.077,140.388 291.483,139.331 293.217,138.02 294.797,136.674 296.357,135.335 297.731,134.018 299.496,132.306 300.377,131.361 302.636,128.9 302.8,128.704 \n",
       "  304.976,126.048 305.776,125.049 306.992,123.391 308.887,120.734 308.916,120.692 310.579,118.078 312.056,115.67 312.197,115.421 313.641,112.764 315.018,110.108 \n",
       "  315.196,109.745 316.24,107.451 317.376,104.794 318.336,102.38 318.426,102.138 319.331,99.4809 320.152,96.8243 320.885,94.1676 321.476,91.7096 321.52,91.5109 \n",
       "  322.024,88.8543 322.431,86.1976 322.736,83.541 322.934,80.8843 323.021,78.2276 322.991,75.571 322.84,72.9143 322.564,70.2576 322.157,67.601 321.615,64.9443 \n",
       "  321.476,64.4029 320.894,62.2876 320.009,59.631 318.964,56.9743 318.336,55.5942 317.711,54.3176 316.229,51.661 315.196,50.017 314.51,49.0043 312.501,46.3477 \n",
       "  312.056,45.8156 310.132,43.691 308.916,42.4689 307.364,41.0343 305.776,39.6906 304.081,38.3777 302.636,37.3486 300.125,35.721 299.496,35.3443 296.357,33.6449 \n",
       "  295.16,33.0643 293.217,32.1899 290.077,30.9359 288.568,30.4077 286.937,29.8758 283.797,28.9917 280.657,28.2429 278.157,27.751 277.517,27.6334 274.377,27.1747 \n",
       "  271.237,26.8304 268.098,26.5965 264.958,26.469 261.818,26.4439 258.678,26.5171 255.538,26.6847 252.398,26.9426 249.258,27.2868 246.118,27.7133 245.884,27.751 \n",
       "  242.978,28.2509 239.839,28.8707 236.699,29.5657 233.559,30.3316 233.272,30.4077 230.419,31.2199 227.279,32.1808 224.568,33.0643 224.139,33.2148 220.999,34.3796 \n",
       "  217.859,35.6015 217.565,35.721 214.719,36.9704 211.629,38.3777 211.58,38.4022 208.44,40.006 206.48,41.0343 205.3,41.7111 202.16,43.5529 201.929,43.691 \n",
       "  199.02,45.6023 197.903,46.3477 195.88,47.841 194.323,49.0043 192.74,50.3236 191.149,51.661 189.6,53.128 188.351,54.3176 186.46,56.3698 185.905,56.9743 \n",
       "  183.795,59.631 183.321,60.3363 182.006,62.2876 180.53,64.9443 180.181,65.7345 179.352,67.601 178.467,70.2576 177.866,72.9143 177.538,75.571 177.473,78.2276 \n",
       "  177.662,80.8843 178.092,83.541 178.755,86.1976 179.64,88.8543 180.181,90.1636 180.734,91.5109 182.025,94.1676 183.321,96.4906 183.506,96.8243 185.165,99.4809 \n",
       "  186.46,101.365 186.993,102.138 188.983,104.794 189.6,105.562 191.129,107.451 192.74,109.322 193.423,110.108 195.86,112.764 195.88,112.785 198.447,115.421 \n",
       "  199.02,115.985 201.178,118.078 202.16,118.996 204.054,120.734 205.3,121.843 207.081,123.391 208.44,124.54 210.27,126.048 211.58,127.102 213.634,128.704 \n",
       "  214.719,129.535 217.193,131.361 217.859,131.846 220.975,134.018 220.999,134.034 224.139,136.097 225.068,136.674 227.279,138.038 229.512,139.331 230.419,139.853 \n",
       "  233.559,141.537 234.472,141.988 236.699,143.084 239.839,144.487 240.233,144.644 \n",
       "  \"/>\n",
       "<polyline clip-path=\"url(#clip1302)\" style=\"stroke:#470b69; stroke-width:1; stroke-opacity:1; fill:none\" points=\"\n",
       "  249.258,135.181 246.118,134.246 245.471,134.018 242.978,133.128 239.839,131.844 238.787,131.361 236.699,130.388 233.559,128.776 233.43,128.704 230.419,126.992 \n",
       "  228.874,126.048 227.279,125.05 224.788,123.391 224.139,122.947 221.077,120.734 220.999,120.676 217.859,118.22 217.685,118.078 214.719,115.568 214.552,115.421 \n",
       "  211.648,112.764 211.58,112.699 208.964,110.108 208.44,109.559 206.479,107.451 205.3,106.101 204.184,104.794 202.16,102.247 202.075,102.138 200.17,99.4809 \n",
       "  199.02,97.7142 198.45,96.8243 196.931,94.1676 195.88,92.0586 195.61,91.5109 194.505,88.8543 193.613,86.1976 192.944,83.541 192.74,82.2935 192.512,80.8843 \n",
       "  192.324,78.2276 192.388,75.571 192.716,72.9143 192.74,72.8067 193.322,70.2576 194.214,67.601 195.403,64.9443 195.88,64.0976 196.911,62.2876 198.746,59.631 \n",
       "  199.02,59.2948 200.941,56.9743 202.16,55.703 203.513,54.3176 205.3,52.7145 206.501,51.661 208.44,50.1519 209.954,49.0043 211.58,47.9009 213.94,46.3477 \n",
       "  214.719,45.8846 217.859,44.0849 218.576,43.691 220.999,42.4791 224.03,41.0343 224.139,40.9868 227.279,39.69 230.419,38.4721 230.681,38.3777 233.559,37.4222 \n",
       "  236.699,36.4631 239.376,35.721 239.839,35.6026 242.978,34.8854 246.118,34.2601 249.258,33.7318 252.398,33.3055 254.768,33.0643 255.538,32.9917 258.678,32.7991 \n",
       "  261.818,32.7149 264.958,32.7438 268.098,32.8904 270.129,33.0643 271.237,33.1666 274.377,33.593 277.517,34.1612 280.657,34.8761 283.719,35.721 283.797,35.7443 \n",
       "  286.937,36.8514 290.077,38.1334 290.601,38.3777 293.217,39.7015 295.553,41.0343 296.357,41.535 299.456,43.691 299.496,43.7216 302.6,46.3477 302.636,46.3816 \n",
       "  305.184,49.0043 305.776,49.6841 307.351,51.661 308.916,53.8738 309.205,54.3176 310.72,56.9743 312.028,59.631 312.056,59.6971 313.055,62.2876 313.9,64.9443 \n",
       "  314.571,67.601 315.075,70.2576 315.196,71.1951 315.401,72.9143 315.575,75.571 315.609,78.2276 315.509,80.8843 315.282,83.541 315.196,84.1921 314.911,86.1976 \n",
       "  314.407,88.8543 313.783,91.5109 313.044,94.1676 312.196,96.8243 312.056,97.2153 311.179,99.4809 310.045,102.138 308.916,104.573 308.804,104.794 307.365,107.451 \n",
       "  305.832,110.108 305.776,110.2 304.069,112.764 302.636,114.815 302.171,115.421 300.044,118.078 299.496,118.737 297.661,120.734 296.357,122.109 295,123.391 \n",
       "  293.217,125.031 291.972,126.048 290.077,127.559 288.439,128.704 286.937,129.735 284.194,131.361 283.797,131.593 280.657,133.145 278.518,134.018 277.517,134.421 \n",
       "  274.377,135.427 271.237,136.182 268.225,136.674 268.098,136.695 264.958,136.972 261.818,137.027 258.678,136.868 257.012,136.674 255.538,136.502 252.398,135.936 \n",
       "  249.258,135.181 \n",
       "  \"/>\n",
       "<polyline clip-path=\"url(#clip1302)\" style=\"stroke:#270b52; stroke-width:1; stroke-opacity:1; fill:none\" points=\"\n",
       "  261.818,123.958 258.678,123.786 255.538,123.393 255.528,123.391 252.398,122.771 249.258,121.94 246.118,120.911 245.663,120.734 242.978,119.659 239.839,118.217 \n",
       "  239.567,118.078 236.699,116.546 234.788,115.421 233.559,114.667 230.707,112.764 230.419,112.563 227.279,110.201 227.162,110.108 224.139,107.55 224.029,107.451 \n",
       "  221.237,104.794 220.999,104.551 218.751,102.138 217.859,101.098 216.53,99.4809 214.719,97.0539 214.554,96.8243 212.85,94.1676 211.58,91.8959 211.371,91.5109 \n",
       "  210.155,88.8543 209.173,86.1976 208.44,83.5493 208.437,83.541 207.972,80.8843 207.769,78.2276 207.839,75.571 208.193,72.9143 208.44,71.9038 208.853,70.2576 \n",
       "  209.835,67.601 211.143,64.9443 211.58,64.2399 212.828,62.2876 214.719,59.8469 214.893,59.631 217.414,56.9743 217.859,56.5694 220.44,54.3176 220.999,53.8895 \n",
       "  224.055,51.661 224.139,51.6066 227.279,49.6831 228.459,49.0043 230.419,47.9938 233.559,46.4878 233.876,46.3477 236.699,45.2224 239.839,44.0865 241.064,43.691 \n",
       "  242.978,43.1291 246.118,42.3257 249.258,41.6468 252.398,41.0989 252.892,41.0343 255.538,40.7178 258.678,40.4737 261.818,40.367 264.958,40.4036 268.098,40.5894 \n",
       "  271.237,40.9301 271.89,41.0343 274.377,41.4684 277.517,42.1985 280.657,43.1171 282.275,43.691 283.797,44.2842 286.937,45.7293 288.097,46.3477 290.077,47.5154 \n",
       "  292.29,49.0043 293.217,49.7002 295.534,51.661 296.357,52.4452 298.116,54.3176 299.496,55.9926 300.227,56.9743 301.935,59.631 302.636,60.9185 303.315,62.2876 \n",
       "  304.4,64.9443 305.263,67.601 305.776,69.7054 305.899,70.2576 306.302,72.9143 306.522,75.571 306.565,78.2276 306.439,80.8843 306.15,83.541 305.776,85.7794 \n",
       "  305.7,86.1976 305.052,88.8543 304.25,91.5109 303.3,94.1676 302.636,95.7871 302.169,96.8243 300.826,99.4809 299.496,101.869 299.331,102.138 297.551,104.794 \n",
       "  296.357,106.453 295.554,107.451 293.281,110.108 293.217,110.179 290.583,112.764 290.077,113.238 287.415,115.421 286.937,115.797 283.797,117.931 283.542,118.078 \n",
       "  280.657,119.678 278.35,120.734 277.517,121.104 274.377,122.21 271.237,123.041 269.292,123.391 268.098,123.6 264.958,123.899 261.818,123.958 \n",
       "  \"/>\n",
       "<polyline clip-path=\"url(#clip1302)\" style=\"stroke:#0d0829; stroke-width:1; stroke-opacity:1; fill:none\" points=\"\n",
       "  271.237,107.666 268.098,108.364 264.958,108.744 261.818,108.819 258.678,108.601 255.538,108.101 252.887,107.451 252.398,107.323 249.258,106.23 246.118,104.874 \n",
       "  245.962,104.794 242.978,103.156 241.362,102.138 239.839,101.095 237.737,99.4809 236.699,98.6025 234.792,96.8243 233.559,95.5354 232.355,94.1676 230.419,91.6433 \n",
       "  230.324,91.5109 228.723,88.8543 227.43,86.1976 227.279,85.7841 226.511,83.541 225.92,80.8843 225.662,78.2276 225.75,75.571 226.2,72.9143 227.025,70.2576 \n",
       "  227.279,69.7019 228.302,67.601 230.024,64.9443 230.419,64.4609 232.325,62.2876 233.559,61.1269 235.287,59.631 236.699,58.5966 239.138,56.9743 239.839,56.5718 \n",
       "  242.978,54.9635 244.425,54.3176 246.118,53.6547 249.258,52.6161 252.398,51.778 252.983,51.661 255.538,51.2075 258.678,50.8455 261.818,50.6873 264.958,50.7416 \n",
       "  268.098,51.0171 271.237,51.5225 271.822,51.661 274.377,52.3432 277.517,53.4602 279.433,54.3176 280.657,54.9426 283.797,56.8857 283.918,56.9743 286.937,59.5283 \n",
       "  287.042,59.631 289.338,62.2876 290.077,63.3234 291.09,64.9443 292.41,67.601 293.217,69.7629 293.38,70.2576 293.978,72.9143 294.303,75.571 294.367,78.2276 \n",
       "  294.18,80.8843 293.753,83.541 293.217,85.7027 293.078,86.1976 292.088,88.8543 290.86,91.5109 290.077,92.9437 289.313,94.1676 287.413,96.8243 286.937,97.4172 \n",
       "  285.02,99.4809 283.797,100.675 282.029,102.138 280.657,103.182 278.089,104.794 277.517,105.128 274.377,106.586 271.894,107.451 271.237,107.666 \n",
       "  \"/>\n",
       "<defs>\n",
       "  <clipPath id=\"clip1303\">\n",
       "    <rect x=\"348\" y=\"11\" width=\"13\" height=\"264\"/>\n",
       "  </clipPath>\n",
       "</defs>\n",
       "<g clip-path=\"url(#clip1303)\">\n",
       "<image width=\"12\" height=\"263\" xlink:href=\"data:image/png;base64,\n",
       "iVBORw0KGgoAAAANSUhEUgAAAAwAAAEHCAYAAACaxaeQAAAAt0lEQVRoge3aMQrCMBiG4cR+Qx10\n",
       "EfEM3ts7eApPILRYK1QQBMUMUqzjj2MLv0N4vzkP75QhkNh/dkMYsdmYwwAA4HdKl71vAQAA2FRW\n",
       "B98CAJAxUDzWvgUAAGDT+7T0LQAAGQM9mo1vAQAA2HS7rn0LAEDGQN195VsAAAA2nZ+8sgCAqUDt\n",
       "a+5bAAAANjWp8C0AABkDtan3LQAAAJvq0PkWAICMQVyUW/7oAgD/AjGEghsHAEwEX7oAH+bi7Kcc\n",
       "AAAAAElFTkSuQmCC\n",
       "\" transform=\"translate(348, 12)\"/>\n",
       "</g>\n",
       "<g clip-path=\"url(#clip1300)\">\n",
       "<text style=\"fill:#000000; fill-opacity:1; font-family:Arial,Helvetica Neue,Helvetica,sans-serif; font-size:12; text-anchor:start;\" transform=\"rotate(0, 366.315, 278.234)\" x=\"366.315\" y=\"278.234\">-</text>\n",
       "</g>\n",
       "<g clip-path=\"url(#clip1300)\">\n",
       "<text style=\"fill:#000000; fill-opacity:1; font-family:Arial,Helvetica Neue,Helvetica,sans-serif; font-size:12; text-anchor:start;\" transform=\"rotate(0, 373.342, 278.234)\" x=\"373.342\" y=\"278.234\">4</text>\n",
       "</g>\n",
       "<g clip-path=\"url(#clip1300)\">\n",
       "<text style=\"fill:#000000; fill-opacity:1; font-family:Arial,Helvetica Neue,Helvetica,sans-serif; font-size:12; text-anchor:start;\" transform=\"rotate(0, 366.315, 245.357)\" x=\"366.315\" y=\"245.357\">-</text>\n",
       "</g>\n",
       "<g clip-path=\"url(#clip1300)\">\n",
       "<text style=\"fill:#000000; fill-opacity:1; font-family:Arial,Helvetica Neue,Helvetica,sans-serif; font-size:12; text-anchor:start;\" transform=\"rotate(0, 373.342, 245.357)\" x=\"373.342\" y=\"245.357\">3</text>\n",
       "</g>\n",
       "<g clip-path=\"url(#clip1300)\">\n",
       "<text style=\"fill:#000000; fill-opacity:1; font-family:Arial,Helvetica Neue,Helvetica,sans-serif; font-size:12; text-anchor:start;\" transform=\"rotate(0, 366.315, 212.481)\" x=\"366.315\" y=\"212.481\">-</text>\n",
       "</g>\n",
       "<g clip-path=\"url(#clip1300)\">\n",
       "<text style=\"fill:#000000; fill-opacity:1; font-family:Arial,Helvetica Neue,Helvetica,sans-serif; font-size:12; text-anchor:start;\" transform=\"rotate(0, 373.342, 212.481)\" x=\"373.342\" y=\"212.481\">2</text>\n",
       "</g>\n",
       "<g clip-path=\"url(#clip1300)\">\n",
       "<text style=\"fill:#000000; fill-opacity:1; font-family:Arial,Helvetica Neue,Helvetica,sans-serif; font-size:12; text-anchor:start;\" transform=\"rotate(0, 366.315, 179.605)\" x=\"366.315\" y=\"179.605\">-</text>\n",
       "</g>\n",
       "<g clip-path=\"url(#clip1300)\">\n",
       "<text style=\"fill:#000000; fill-opacity:1; font-family:Arial,Helvetica Neue,Helvetica,sans-serif; font-size:12; text-anchor:start;\" transform=\"rotate(0, 373.342, 179.605)\" x=\"373.342\" y=\"179.605\">1</text>\n",
       "</g>\n",
       "<g clip-path=\"url(#clip1300)\">\n",
       "<text style=\"fill:#000000; fill-opacity:1; font-family:Arial,Helvetica Neue,Helvetica,sans-serif; font-size:12; text-anchor:start;\" transform=\"rotate(0, 366.315, 146.729)\" x=\"366.315\" y=\"146.729\">0</text>\n",
       "</g>\n",
       "<g clip-path=\"url(#clip1300)\">\n",
       "<text style=\"fill:#000000; fill-opacity:1; font-family:Arial,Helvetica Neue,Helvetica,sans-serif; font-size:12; text-anchor:start;\" transform=\"rotate(0, 366.315, 113.852)\" x=\"366.315\" y=\"113.852\">1</text>\n",
       "</g>\n",
       "<g clip-path=\"url(#clip1300)\">\n",
       "<text style=\"fill:#000000; fill-opacity:1; font-family:Arial,Helvetica Neue,Helvetica,sans-serif; font-size:12; text-anchor:start;\" transform=\"rotate(0, 366.315, 80.9763)\" x=\"366.315\" y=\"80.9763\">2</text>\n",
       "</g>\n",
       "<g clip-path=\"url(#clip1300)\">\n",
       "<text style=\"fill:#000000; fill-opacity:1; font-family:Arial,Helvetica Neue,Helvetica,sans-serif; font-size:12; text-anchor:start;\" transform=\"rotate(0, 366.315, 48.1)\" x=\"366.315\" y=\"48.1\">3</text>\n",
       "</g>\n",
       "<g clip-path=\"url(#clip1300)\">\n",
       "<text style=\"fill:#000000; fill-opacity:1; font-family:Arial,Helvetica Neue,Helvetica,sans-serif; font-size:12; text-anchor:start;\" transform=\"rotate(0, 366.315, 15.2238)\" x=\"366.315\" y=\"15.2238\">4</text>\n",
       "</g>\n",
       "<polyline clip-path=\"url(#clip1300)\" style=\"stroke:#000000; stroke-width:1; stroke-opacity:1; fill:none\" points=\"\n",
       "  360.315,274.821 360.315,274.821 364.315,274.821 360.315,274.821 360.315,241.945 364.315,241.945 360.315,241.945 360.315,209.068 364.315,209.068 360.315,209.068 \n",
       "  360.315,176.192 364.315,176.192 360.315,176.192 360.315,143.316 364.315,143.316 360.315,143.316 360.315,110.44 364.315,110.44 360.315,110.44 360.315,77.5635 \n",
       "  364.315,77.5635 360.315,77.5635 360.315,44.6872 364.315,44.6872 360.315,44.6872 360.315,11.811 364.315,11.811 360.315,11.811 \n",
       "  \"/>\n",
       "</svg>\n"
      ]
     },
     "execution_count": 173,
     "metadata": {},
     "output_type": "execute_result"
    }
   ],
   "source": [
    "x = linspace(-2, 2, 100)\n",
    "y = linspace(-2, 2, 100)\n",
    "f(x,y) = x^3 - 3x + y^3 - 3y\n",
    "contour(x, y, f)"
   ]
  },
  {
   "cell_type": "code",
   "execution_count": 174,
   "metadata": {},
   "outputs": [
    {
     "data": {
      "image/svg+xml": [
       "<?xml version=\"1.0\" encoding=\"utf-8\"?>\n",
       "<svg xmlns=\"http://www.w3.org/2000/svg\" xmlns:xlink=\"http://www.w3.org/1999/xlink\" width=\"400\" height=\"300\" viewBox=\"0 0 400 300\">\n",
       "<defs>\n",
       "  <clipPath id=\"clip1500\">\n",
       "    <rect x=\"0\" y=\"0\" width=\"400\" height=\"300\"/>\n",
       "  </clipPath>\n",
       "</defs>\n",
       "<polygon clip-path=\"url(#clip1500)\" points=\"\n",
       "0,300 400,300 400,0 0,0 \n",
       "  \" fill=\"#ffffff\" fill-opacity=\"1\"/>\n",
       "<defs>\n",
       "  <clipPath id=\"clip1501\">\n",
       "    <rect x=\"80\" y=\"0\" width=\"281\" height=\"281\"/>\n",
       "  </clipPath>\n",
       "</defs>\n",
       "<polygon clip-path=\"url(#clip1500)\" points=\"\n",
       "73.3857,274.821 296.395,274.821 296.395,11.811 73.3857,11.811 \n",
       "  \" fill=\"#ffffff\" fill-opacity=\"1\"/>\n",
       "<defs>\n",
       "  <clipPath id=\"clip1502\">\n",
       "    <rect x=\"73\" y=\"11\" width=\"224\" height=\"264\"/>\n",
       "  </clipPath>\n",
       "</defs>\n",
       "<polyline clip-path=\"url(#clip1500)\" style=\"stroke:#cccccc; stroke-width:0.5; stroke-opacity:0.1; fill:none\" points=\"\n",
       "  73.3857,259.284 155.013,212.674 \n",
       "  \"/>\n",
       "<polyline clip-path=\"url(#clip1500)\" style=\"stroke:#cccccc; stroke-width:0.5; stroke-opacity:0.1; fill:none\" points=\"\n",
       "  155.013,212.674 155.013,11.811 \n",
       "  \"/>\n",
       "<polyline clip-path=\"url(#clip1500)\" style=\"stroke:#ededed; stroke-width:0.5; stroke-opacity:0.1; fill:none\" points=\"\n",
       "  91.0585,261.226 172.686,214.616 \n",
       "  \"/>\n",
       "<polyline clip-path=\"url(#clip1500)\" style=\"stroke:#ededed; stroke-width:0.5; stroke-opacity:0.1; fill:none\" points=\"\n",
       "  172.686,214.616 172.686,13.7531 \n",
       "  \"/>\n",
       "<polyline clip-path=\"url(#clip1500)\" style=\"stroke:#cccccc; stroke-width:0.5; stroke-opacity:0.1; fill:none\" points=\"\n",
       "  108.731,263.168 190.359,216.558 \n",
       "  \"/>\n",
       "<polyline clip-path=\"url(#clip1500)\" style=\"stroke:#cccccc; stroke-width:0.5; stroke-opacity:0.1; fill:none\" points=\"\n",
       "  190.359,216.558 190.359,15.6952 \n",
       "  \"/>\n",
       "<polyline clip-path=\"url(#clip1500)\" style=\"stroke:#ededed; stroke-width:0.5; stroke-opacity:0.1; fill:none\" points=\"\n",
       "  126.404,265.11 208.031,218.5 \n",
       "  \"/>\n",
       "<polyline clip-path=\"url(#clip1500)\" style=\"stroke:#ededed; stroke-width:0.5; stroke-opacity:0.1; fill:none\" points=\"\n",
       "  208.031,218.5 208.031,17.6373 \n",
       "  \"/>\n",
       "<polyline clip-path=\"url(#clip1500)\" style=\"stroke:#cccccc; stroke-width:0.5; stroke-opacity:0.1; fill:none\" points=\"\n",
       "  144.077,267.052 225.704,220.442 \n",
       "  \"/>\n",
       "<polyline clip-path=\"url(#clip1500)\" style=\"stroke:#cccccc; stroke-width:0.5; stroke-opacity:0.1; fill:none\" points=\"\n",
       "  225.704,220.442 225.704,19.5794 \n",
       "  \"/>\n",
       "<polyline clip-path=\"url(#clip1500)\" style=\"stroke:#ededed; stroke-width:0.5; stroke-opacity:0.1; fill:none\" points=\"\n",
       "  161.75,268.994 243.377,222.384 \n",
       "  \"/>\n",
       "<polyline clip-path=\"url(#clip1500)\" style=\"stroke:#ededed; stroke-width:0.5; stroke-opacity:0.1; fill:none\" points=\"\n",
       "  243.377,222.384 243.377,21.5215 \n",
       "  \"/>\n",
       "<polyline clip-path=\"url(#clip1500)\" style=\"stroke:#cccccc; stroke-width:0.5; stroke-opacity:0.1; fill:none\" points=\"\n",
       "  179.423,270.937 261.05,224.326 \n",
       "  \"/>\n",
       "<polyline clip-path=\"url(#clip1500)\" style=\"stroke:#cccccc; stroke-width:0.5; stroke-opacity:0.1; fill:none\" points=\"\n",
       "  261.05,224.326 261.05,23.4636 \n",
       "  \"/>\n",
       "<polyline clip-path=\"url(#clip1500)\" style=\"stroke:#ededed; stroke-width:0.5; stroke-opacity:0.1; fill:none\" points=\"\n",
       "  197.095,272.879 278.723,226.268 \n",
       "  \"/>\n",
       "<polyline clip-path=\"url(#clip1500)\" style=\"stroke:#ededed; stroke-width:0.5; stroke-opacity:0.1; fill:none\" points=\"\n",
       "  278.723,226.268 278.723,25.4057 \n",
       "  \"/>\n",
       "<polyline clip-path=\"url(#clip1500)\" style=\"stroke:#cccccc; stroke-width:0.5; stroke-opacity:0.1; fill:none\" points=\"\n",
       "  214.768,274.821 296.395,228.21 \n",
       "  \"/>\n",
       "<polyline clip-path=\"url(#clip1500)\" style=\"stroke:#cccccc; stroke-width:0.5; stroke-opacity:0.1; fill:none\" points=\"\n",
       "  296.395,228.21 296.395,27.3478 \n",
       "  \"/>\n",
       "<polyline clip-path=\"url(#clip1500)\" style=\"stroke:#cccccc; stroke-width:0.5; stroke-opacity:0.1; fill:none\" points=\"\n",
       "  73.3857,259.284 214.768,274.821 \n",
       "  \"/>\n",
       "<polyline clip-path=\"url(#clip1500)\" style=\"stroke:#cccccc; stroke-width:0.5; stroke-opacity:0.1; fill:none\" points=\"\n",
       "  73.3857,259.284 73.3857,58.4214 \n",
       "  \"/>\n",
       "<polyline clip-path=\"url(#clip1500)\" style=\"stroke:#ededed; stroke-width:0.5; stroke-opacity:0.1; fill:none\" points=\"\n",
       "  83.5891,253.458 224.972,268.994 \n",
       "  \"/>\n",
       "<polyline clip-path=\"url(#clip1500)\" style=\"stroke:#ededed; stroke-width:0.5; stroke-opacity:0.1; fill:none\" points=\"\n",
       "  83.5891,253.458 83.5891,52.5951 \n",
       "  \"/>\n",
       "<polyline clip-path=\"url(#clip1500)\" style=\"stroke:#cccccc; stroke-width:0.5; stroke-opacity:0.1; fill:none\" points=\"\n",
       "  93.7925,247.631 235.175,263.168 \n",
       "  \"/>\n",
       "<polyline clip-path=\"url(#clip1500)\" style=\"stroke:#cccccc; stroke-width:0.5; stroke-opacity:0.1; fill:none\" points=\"\n",
       "  93.7925,247.631 93.7925,46.7688 \n",
       "  \"/>\n",
       "<polyline clip-path=\"url(#clip1500)\" style=\"stroke:#ededed; stroke-width:0.5; stroke-opacity:0.1; fill:none\" points=\"\n",
       "  103.996,241.805 245.378,257.342 \n",
       "  \"/>\n",
       "<polyline clip-path=\"url(#clip1500)\" style=\"stroke:#ededed; stroke-width:0.5; stroke-opacity:0.1; fill:none\" points=\"\n",
       "  103.996,241.805 103.996,40.9425 \n",
       "  \"/>\n",
       "<polyline clip-path=\"url(#clip1500)\" style=\"stroke:#cccccc; stroke-width:0.5; stroke-opacity:0.1; fill:none\" points=\"\n",
       "  114.199,235.979 255.582,251.516 \n",
       "  \"/>\n",
       "<polyline clip-path=\"url(#clip1500)\" style=\"stroke:#cccccc; stroke-width:0.5; stroke-opacity:0.1; fill:none\" points=\"\n",
       "  114.199,235.979 114.199,35.1162 \n",
       "  \"/>\n",
       "<polyline clip-path=\"url(#clip1500)\" style=\"stroke:#ededed; stroke-width:0.5; stroke-opacity:0.1; fill:none\" points=\"\n",
       "  124.403,230.153 265.785,245.689 \n",
       "  \"/>\n",
       "<polyline clip-path=\"url(#clip1500)\" style=\"stroke:#ededed; stroke-width:0.5; stroke-opacity:0.1; fill:none\" points=\"\n",
       "  124.403,230.153 124.403,29.2899 \n",
       "  \"/>\n",
       "<polyline clip-path=\"url(#clip1500)\" style=\"stroke:#cccccc; stroke-width:0.5; stroke-opacity:0.1; fill:none\" points=\"\n",
       "  134.606,224.326 275.989,239.863 \n",
       "  \"/>\n",
       "<polyline clip-path=\"url(#clip1500)\" style=\"stroke:#cccccc; stroke-width:0.5; stroke-opacity:0.1; fill:none\" points=\"\n",
       "  134.606,224.326 134.606,23.4636 \n",
       "  \"/>\n",
       "<polyline clip-path=\"url(#clip1500)\" style=\"stroke:#ededed; stroke-width:0.5; stroke-opacity:0.1; fill:none\" points=\"\n",
       "  144.81,218.5 286.192,234.037 \n",
       "  \"/>\n",
       "<polyline clip-path=\"url(#clip1500)\" style=\"stroke:#ededed; stroke-width:0.5; stroke-opacity:0.1; fill:none\" points=\"\n",
       "  144.81,218.5 144.81,17.6373 \n",
       "  \"/>\n",
       "<polyline clip-path=\"url(#clip1500)\" style=\"stroke:#cccccc; stroke-width:0.5; stroke-opacity:0.1; fill:none\" points=\"\n",
       "  155.013,212.674 296.395,228.21 \n",
       "  \"/>\n",
       "<polyline clip-path=\"url(#clip1500)\" style=\"stroke:#cccccc; stroke-width:0.5; stroke-opacity:0.1; fill:none\" points=\"\n",
       "  155.013,212.674 155.013,11.811 \n",
       "  \"/>\n",
       "<polyline clip-path=\"url(#clip1500)\" style=\"stroke:#cccccc; stroke-width:0.5; stroke-opacity:0.1; fill:none\" points=\"\n",
       "  73.3857,259.284 155.013,212.674 \n",
       "  \"/>\n",
       "<polyline clip-path=\"url(#clip1500)\" style=\"stroke:#cccccc; stroke-width:0.5; stroke-opacity:0.1; fill:none\" points=\"\n",
       "  155.013,212.674 296.395,228.21 \n",
       "  \"/>\n",
       "<polyline clip-path=\"url(#clip1500)\" style=\"stroke:#ededed; stroke-width:0.5; stroke-opacity:0.1; fill:none\" points=\"\n",
       "  73.3857,234.176 155.013,187.566 \n",
       "  \"/>\n",
       "<polyline clip-path=\"url(#clip1500)\" style=\"stroke:#ededed; stroke-width:0.5; stroke-opacity:0.1; fill:none\" points=\"\n",
       "  155.013,187.566 296.395,203.103 \n",
       "  \"/>\n",
       "<polyline clip-path=\"url(#clip1500)\" style=\"stroke:#cccccc; stroke-width:0.5; stroke-opacity:0.1; fill:none\" points=\"\n",
       "  73.3857,209.068 155.013,162.458 \n",
       "  \"/>\n",
       "<polyline clip-path=\"url(#clip1500)\" style=\"stroke:#cccccc; stroke-width:0.5; stroke-opacity:0.1; fill:none\" points=\"\n",
       "  155.013,162.458 296.395,177.995 \n",
       "  \"/>\n",
       "<polyline clip-path=\"url(#clip1500)\" style=\"stroke:#ededed; stroke-width:0.5; stroke-opacity:0.1; fill:none\" points=\"\n",
       "  73.3857,183.961 155.013,137.35 \n",
       "  \"/>\n",
       "<polyline clip-path=\"url(#clip1500)\" style=\"stroke:#ededed; stroke-width:0.5; stroke-opacity:0.1; fill:none\" points=\"\n",
       "  155.013,137.35 296.395,152.887 \n",
       "  \"/>\n",
       "<polyline clip-path=\"url(#clip1500)\" style=\"stroke:#cccccc; stroke-width:0.5; stroke-opacity:0.1; fill:none\" points=\"\n",
       "  73.3857,158.853 155.013,112.242 \n",
       "  \"/>\n",
       "<polyline clip-path=\"url(#clip1500)\" style=\"stroke:#cccccc; stroke-width:0.5; stroke-opacity:0.1; fill:none\" points=\"\n",
       "  155.013,112.242 296.395,127.779 \n",
       "  \"/>\n",
       "<polyline clip-path=\"url(#clip1500)\" style=\"stroke:#ededed; stroke-width:0.5; stroke-opacity:0.1; fill:none\" points=\"\n",
       "  73.3857,133.745 155.013,87.1345 \n",
       "  \"/>\n",
       "<polyline clip-path=\"url(#clip1500)\" style=\"stroke:#ededed; stroke-width:0.5; stroke-opacity:0.1; fill:none\" points=\"\n",
       "  155.013,87.1345 296.395,102.671 \n",
       "  \"/>\n",
       "<polyline clip-path=\"url(#clip1500)\" style=\"stroke:#cccccc; stroke-width:0.5; stroke-opacity:0.1; fill:none\" points=\"\n",
       "  73.3857,108.637 155.013,62.0267 \n",
       "  \"/>\n",
       "<polyline clip-path=\"url(#clip1500)\" style=\"stroke:#cccccc; stroke-width:0.5; stroke-opacity:0.1; fill:none\" points=\"\n",
       "  155.013,62.0267 296.395,77.5635 \n",
       "  \"/>\n",
       "<polyline clip-path=\"url(#clip1500)\" style=\"stroke:#ededed; stroke-width:0.5; stroke-opacity:0.1; fill:none\" points=\"\n",
       "  73.3857,83.5292 155.013,36.9189 \n",
       "  \"/>\n",
       "<polyline clip-path=\"url(#clip1500)\" style=\"stroke:#ededed; stroke-width:0.5; stroke-opacity:0.1; fill:none\" points=\"\n",
       "  155.013,36.9189 296.395,52.4556 \n",
       "  \"/>\n",
       "<polyline clip-path=\"url(#clip1500)\" style=\"stroke:#cccccc; stroke-width:0.5; stroke-opacity:0.1; fill:none\" points=\"\n",
       "  73.3857,58.4214 155.013,11.811 \n",
       "  \"/>\n",
       "<polyline clip-path=\"url(#clip1500)\" style=\"stroke:#cccccc; stroke-width:0.5; stroke-opacity:0.1; fill:none\" points=\"\n",
       "  155.013,11.811 296.395,27.3478 \n",
       "  \"/>\n",
       "<polyline clip-path=\"url(#clip1500)\" style=\"stroke:#000000; stroke-width:1; stroke-opacity:1; fill:none\" points=\"\n",
       "  59.9705,216.956 65.5552,213.767 \n",
       "  \"/>\n",
       "<polyline clip-path=\"url(#clip1500)\" style=\"stroke:#000000; stroke-width:1; stroke-opacity:1; fill:none\" points=\"\n",
       "  68.0374,209.469 68.0374,209.058 68.3476,208.058 68.6579,207.469 69.2784,206.704 70.5195,205.995 71.14,206.052 71.4503,206.286 71.7605,206.932 71.7605,207.755 \n",
       "  71.4503,208.755 70.8297,210.344 67.7271,216.229 72.0708,213.749 \n",
       "  \"/>\n",
       "<polyline clip-path=\"url(#clip1500)\" style=\"stroke:#000000; stroke-width:1; stroke-opacity:1; fill:none\" points=\"\n",
       "  69.5887,156.311 68.6579,157.254 68.0374,158.842 67.7271,161.077 67.7271,162.311 68.0374,164.191 68.6579,165.071 69.5887,164.951 70.2092,164.596 71.14,163.654 \n",
       "  71.7605,162.065 72.0708,159.831 72.0708,158.596 71.7605,156.716 71.14,155.836 70.2092,155.956 69.5887,156.311 \n",
       "  \"/>\n",
       "<polyline clip-path=\"url(#clip1500)\" style=\"stroke:#000000; stroke-width:1; stroke-opacity:1; fill:none\" points=\"\n",
       "  68.0374,109.038 68.0374,108.627 68.3476,107.627 68.6579,107.038 69.2784,106.272 70.5195,105.564 71.14,105.621 71.4503,105.855 71.7605,106.501 71.7605,107.324 \n",
       "  71.4503,108.324 70.8297,109.912 67.7271,115.798 72.0708,113.318 \n",
       "  \"/>\n",
       "<polyline clip-path=\"url(#clip1500)\" style=\"stroke:#000000; stroke-width:1; stroke-opacity:1; fill:none\" points=\"\n",
       "  70.8297,55.1708 67.7271,62.7025 72.3811,60.045 \n",
       "  \"/>\n",
       "<polyline clip-path=\"url(#clip1500)\" style=\"stroke:#000000; stroke-width:1; stroke-opacity:1; fill:none\" points=\"\n",
       "  70.8297,55.1708 70.8297,63.8108 \n",
       "  \"/>\n",
       "<polyline clip-path=\"url(#clip1500)\" style=\"stroke:#000000; stroke-width:1; stroke-opacity:1; fill:none\" points=\"\n",
       "  73.3857,259.284 73.3857,259.284 72.0014,260.074 73.3857,259.284 73.3857,234.176 72.6935,234.571 73.3857,234.176 73.3857,209.068 72.0014,209.859 73.3857,209.068 \n",
       "  73.3857,183.961 72.6935,184.356 73.3857,183.961 73.3857,158.853 72.0014,159.643 73.3857,158.853 73.3857,133.745 72.6935,134.14 73.3857,133.745 73.3857,108.637 \n",
       "  72.0014,109.427 73.3857,108.637 73.3857,83.5292 72.6935,83.9244 73.3857,83.5292 73.3857,58.4214 72.0014,59.2118 73.3857,58.4214 \n",
       "  \"/>\n",
       "<polyline clip-path=\"url(#clip1500)\" style=\"stroke:#000000; stroke-width:1; stroke-opacity:1; fill:none\" points=\"\n",
       "  97.7608,270.452 105.078,271.256 \n",
       "  \"/>\n",
       "<polyline clip-path=\"url(#clip1500)\" style=\"stroke:#000000; stroke-width:1; stroke-opacity:1; fill:none\" points=\"\n",
       "  109.143,268.411 109.956,268.089 111.176,266.989 111.176,275.629 \n",
       "  \"/>\n",
       "<polyline clip-path=\"url(#clip1500)\" style=\"stroke:#000000; stroke-width:1; stroke-opacity:1; fill:none\" points=\"\n",
       "  140.424,270.203 139.204,270.48 138.391,271.625 137.985,273.638 137.985,274.872 138.391,276.974 139.204,278.297 140.424,278.843 141.237,278.932 142.456,278.655 \n",
       "  143.269,277.51 143.676,275.497 143.676,274.263 143.269,272.161 142.456,270.838 141.237,270.292 140.424,270.203 \n",
       "  \"/>\n",
       "<polyline clip-path=\"url(#clip1500)\" style=\"stroke:#000000; stroke-width:1; stroke-opacity:1; fill:none\" points=\"\n",
       "  174.55,275.599 175.363,275.277 176.582,274.176 176.582,282.816 \n",
       "  \"/>\n",
       "<polyline clip-path=\"url(#clip1500)\" style=\"stroke:#000000; stroke-width:1; stroke-opacity:1; fill:none\" points=\"\n",
       "  209.082,279.805 209.082,279.394 209.489,278.615 209.895,278.249 210.708,277.927 212.335,278.105 213.148,278.606 213.554,279.062 213.961,279.93 213.961,280.753 \n",
       "  213.554,281.531 212.741,282.676 208.676,286.343 214.367,286.969 \n",
       "  \"/>\n",
       "<polyline clip-path=\"url(#clip1500)\" style=\"stroke:#000000; stroke-width:1; stroke-opacity:1; fill:none\" points=\"\n",
       "  73.3857,259.284 73.3857,259.284 72.0014,260.074 73.3857,259.284 91.0585,261.226 90.3664,261.621 91.0585,261.226 108.731,263.168 107.347,263.959 108.731,263.168 \n",
       "  126.404,265.11 125.712,265.505 126.404,265.11 144.077,267.052 142.693,267.843 144.077,267.052 161.75,268.994 161.058,269.39 161.75,268.994 179.423,270.937 \n",
       "  178.038,271.727 179.423,270.937 197.095,272.879 196.403,273.274 197.095,272.879 214.768,274.821 213.384,275.611 214.768,274.821 \n",
       "  \"/>\n",
       "<polyline clip-path=\"url(#clip1500)\" style=\"stroke:#000000; stroke-width:1; stroke-opacity:1; fill:none\" points=\"\n",
       "  238.834,272.601 244.419,269.412 \n",
       "  \"/>\n",
       "<polyline clip-path=\"url(#clip1500)\" style=\"stroke:#000000; stroke-width:1; stroke-opacity:1; fill:none\" points=\"\n",
       "  247.521,264.349 248.142,263.583 249.073,261.818 249.073,270.458 \n",
       "  \"/>\n",
       "<polyline clip-path=\"url(#clip1500)\" style=\"stroke:#000000; stroke-width:1; stroke-opacity:1; fill:none\" points=\"\n",
       "  264.826,252.823 263.895,253.765 263.274,255.354 262.964,257.588 262.964,258.823 263.274,260.703 263.895,261.583 264.826,261.463 265.446,261.108 266.377,260.165 \n",
       "  266.997,258.577 267.308,256.342 267.308,255.108 266.997,253.228 266.377,252.348 265.446,252.468 264.826,252.823 \n",
       "  \"/>\n",
       "<polyline clip-path=\"url(#clip1500)\" style=\"stroke:#000000; stroke-width:1; stroke-opacity:1; fill:none\" points=\"\n",
       "  284.302,243.347 284.922,242.581 285.853,240.816 285.853,249.456 \n",
       "  \"/>\n",
       "<polyline clip-path=\"url(#clip1500)\" style=\"stroke:#000000; stroke-width:1; stroke-opacity:1; fill:none\" points=\"\n",
       "  304.088,232.46 304.088,232.049 304.398,231.049 304.708,230.46 305.329,229.695 306.57,228.986 307.19,229.043 307.501,229.277 307.811,229.923 307.811,230.746 \n",
       "  307.501,231.746 306.88,233.334 303.778,239.22 308.121,236.74 \n",
       "  \"/>\n",
       "<polyline clip-path=\"url(#clip1500)\" style=\"stroke:#000000; stroke-width:1; stroke-opacity:1; fill:none\" points=\"\n",
       "  214.768,274.821 214.768,274.821 217.596,275.132 214.768,274.821 224.972,268.994 226.385,269.15 224.972,268.994 235.175,263.168 238.003,263.479 235.175,263.168 \n",
       "  245.378,257.342 246.792,257.497 245.378,257.342 255.582,251.516 258.409,251.826 255.582,251.516 265.785,245.689 267.199,245.845 265.785,245.689 275.989,239.863 \n",
       "  278.816,240.174 275.989,239.863 286.192,234.037 287.606,234.192 286.192,234.037 296.395,228.21 299.223,228.521 296.395,228.21 \n",
       "  \"/>\n",
       "<g clip-path=\"url(#clip1502)\">\n",
       "<image width=\"223\" height=\"263\" xlink:href=\"data:image/png;base64,\n",
       "iVBORw0KGgoAAAANSUhEUgAAAN8AAAEHCAYAAAAu45PaAAAgAElEQVR4nOy9edhuWVUf+Fvnu1VA\n",
       "USUINTAjo6gMihIQlCgRSMSQiGgnmvgITzSO0I9JR21bO237tENHfUBNKxocOg5RO3bE2EYT1BA7\n",
       "oCAKCjIHsKiBggLuraLu/d6zV/+x1/Bb+5z33u/e+qZLf/s+333f95x99tl7n/Vbv7XWHo6oKk7S\n",
       "STpJh5+mo67ASTpJ/39NJ+A7SSfpiNIJ+E7SSTqidAK+T7C0aT+nm/ZzJ478ZZDkJOByeadzm59S\n",
       "ABBIPSHSj8qEU9PXyMqlJ+mI0wn4LuN0dvdfKhQddmL4UvgB9MM78f2KU//oBITHKJ2A7zJNd519\n",
       "WWe8AWyZBvBZniuv+PoTAB6TdAK+yyzd8fEfVAEwoZuVPa3gSQRQA59QPhHc48pvPgHgMUgnAZfL\n",
       "LbVdYN6FtuFPV77rep6P3/UjJxr3GKQT5ruM0pnT362CCVDFJAJ19hNnQX+W+Zt9vm599usUiquu\n",
       "+rYTBjzCdMJ8l1PSBugMaINqs8+Z/pr9zZEP/h2Nruvn7rjzfzvRvEeYTpjvMkmnb/+nKtiBiACq\n",
       "EBGoTIACKuz/9STh801Idgw+BAA0i9ZcffV3nzDgEaRTR12Bk3ThdPpDL9U+jtcskKJQBx8AqBgA\n",
       "exIAqj70MNk1YsZmB6JGlPQkHVU6Yb5jnk7f+g0GPAFk6oyn2gHk4MOULl8MOzjHdfBJ/E7wBT4B\n",
       "XHPf7z+B4iGnE/Ad83Tm5q9VB5NAoFNnvgCfSjcxHX3GgBpoNPC5uQoAYa76XTonXnO/HzoB4CGm\n",
       "E/Ad83TmAy9Snjym0xTgg4EPQnEzHtMLM7Mzo4zg8/wBxIZrrv3REwAeUjoB3zFOd7z/qxQeMLFh\n",
       "BJ12EnyowRQABizFOLBujqAdkqQ9/y7afUk0XHPDT54A8BDSScDlmKY73vsV6n5epj5C59ESlSl8\n",
       "uEjBZAP47PowTdWnn0kPzhg4Be3A23aSejphvmOa7nj3C1QkwedBFjjzlcH1HETvbKgEQgvS9FK6\n",
       "d2fn+iXOoICixbVXP+hnT9jvgNMJ8x3DdOc7n++8RP5a/6nQ/h2IYYMabKnzPT0Y0z81xwhjNsyU\n",
       "eZ1VpxPcHUY6meFyHJPNXuEZLdAGtAZpeU78mM4Q7edkvGatHL92a96GO973909MogNOJ8x3DJO0\n",
       "jY3ZSWEzpf8jb7Cfm6ITRJMF1VnPLE0/p6rkKu7YpzGfyuI+J2n/04nPd8zSXW/5Is0xOgGmNAsB\n",
       "2O+e+pMbzM4S7aSIZg5W1PJiUB41Gmq/r3rUr5/YoAeQ7vjYd+kJ8x23NG9iQLwHTXI4QX3Q3FL3\n",
       "A8cxvh404fmeEisgfDh9wBOBrd8iAzJ3vuNv61WPedUJAPc5ads9MTuPXWozEPM4J0AaYoaLAKot\n",
       "htw7PhpNLcthhdEcFWc41brfi/iks4ji8NSXk3RA6QR8xyydfcPTbHjBQeMANOYSj172JDqM4cXA\n",
       "e2W+DIAKljOqKRLq015iwjYAUXz8rc/Re33a75wgcj9T25yA7zglaRsbl3OMSDCfg64PrPcU08NK\n",
       "IR04DNKY7ynSAy5xMRLY4UE2eAAmogEnsNv3JG0+Cbgcl3TutZ+pORVM3FjsZqGxHwADF61YD6Si\n",
       "mJ2xyh0x3l7zxvX2GWankh/pgZz+655P+IMTGO5DOnPTP9KrH/jTcsJ8xyTJPHfxn3y4AObqCcR+\n",
       "dAC1LcxXZ72MzCeqxpqjsh2PaPqZJ2v+DiRJ2wA4Gec7PmmezdWbANGQexWb3iIWJpFkKQnmouTj\n",
       "e6ur21thPi9fQNFVEIvyljAKnP2Tp+k9nvzaEzje3XQCvuOTdv/gUzWYZgJ8Y8Aah6RpYzG3U+k3\n",
       "HE0G1KkMpIcPmaX08pV9Ph7iINrT+O8k7UfSPnn9BHzHIMnczIQEutlHgm5mZ4zTETsluxFQfPkQ\n",
       "3Dyl8T0K1vREDBrg9DWAQyXtFude92S98ql/csJ+dyedMN8xSm2OwW+x8D5APp3QOB2P6WGIaiLz\n",
       "JFj70U5oreYb2Sw2XToftk6WHN2ddOe7/q6KBbROwHfEafPbD1NnHBlmq7iPN67NC6Auhhniv8U5\n",
       "D7i4tariBq2VZlHOMHHjchqaEIFow+4fPl6veMafn7DfJSQfTgJOwHf0KWa0KDApBT4s2f4rasBy\n",
       "UEUwpiQpAAR/VTXm8+t9GMHH/rq5m0ZsianaN0FnvhPcXXKaN5Cpj6OegO8I0+ZVDzCioUCI6MB0\n",
       "QO4+RnnjE+TySUAL5icm9nzi9TiEYAUYOOMaBraBk+ec7v7eY/WKL3z7CQovNrU5vp6A7wiTtPSf\n",
       "lEHhs1QAYJJqChIw181O/6IFsGJ7fXqUk0GmHs2U4ENUdmtpdkbJJ9HPS0kybxA9fDLD5ejS/G+v\n",
       "DTlX8XV3gjKLReqYXcelQWg1MMLmohBY/feW/KO5G/dAmqXMvgoADaee894T9ttjOvvGp6tOO7jn\n",
       "k14jwCco821/LbJCteGKnRcfD4FptmeKs9hkIBP3waSyTdCSDEDxY4wtH55YRkhLlLMMpg9ABfmG\n",
       "2grrdo1xEvm8qNTmovs+YcB3bvMKFbnCIobjvCj+LdidX6mqG1x56uuOFoSzCa/4wLYzn2dIkEUc\n",
       "xQF6PhazFQq5rMjXAi6vEfB4+hJ8PB9UMCP2ATVTdf73D9ad5914PJTZMU8yz2Vq7ScM+PqrsNDf\n",
       "wtO/5UqAMJuAWDqDCWd3f0JbO4d73eMlhy488y99ki7Zy1LRHYMiGYONPAWsHLB22nS17fM0tYN+\n",
       "uGcsunV/0MYfOw82nGw1cQlJvd96+oQA37nNT2hfBkPzFgX2shAH4AyWVP8tMuHjZ1+m97rHSw8V\n",
       "gDorZGro27lTJJKHC4aZLgDINLU8nCIaCQSopA9lpMU6NtMBZUMacbgv2g2/MoIyVme6xUnaY/pE\n",
       "Mjs/fvblKtJfmzVG/rRoZjdFW7Cgv8vO89x51w/rVff81sMTpQYCSrO9WRiEOmBLBnDl+xfWTdDl\n",
       "cd5gVykLtCG2GETCsU9Ryy0owpwVzbcgAZh//Trd+dIPnsDwQqkxAVzG4Lvzrh9WkSmEQFUJgH6s\n",
       "g4tnjjDo0hztHXLmzu9T6AZX3/u7DlSQNq+8l0J2gEmh0ihsb8BixgOSrYQAWeZ1AhlYoahljO0h\n",
       "/La8Li/rgRMHN4qfF6amK7NgVbrnSdpT6ts+5u/Lct/OM3d8r6pu4o2srW3Qf49/fJ7z+ZtcN+hs\n",
       "OEN1F7CwxOmPfffBOjMN/qJYoGn/PiswN+is/XvTHg318631AM3c9+rsnzMdm/Oc/al/j/K8zDnL\n",
       "mP18A2Y67veeh3Lnfkwa31Mx/8onnziA50m7r3609v693AfZZUIHjSAn+u5QJMkZgaZGhZnkpqd/\n",
       "B9wMjU1jRXD6o9+u19znYN5Zp63X2w1ADbYj5iP2U6G2CDPYkGgGihUNnYYFtOIDvP1o2VoiAjOu\n",
       "k7OfoBaCif1dbFrcgoFP0lqKxdKULjvwnT79z1Vkp7+nDvaucQxbKwAos+85lK6521eP2mmYXuo2\n",
       "uc4HK0szEGvxHEwevYd2c5R9NqF6gsC1EjyJt9cCFsVsObMl+sEjob0MCkMha8F7nM1II8nz5K5q\n",
       "kAmqwPwL1+jOV50+MUTXUpshIjj1rHdG/1xWZufpj/6PCjMXVWdo2zXA0DE3OZv/7UJ1t3/X3Tyn\n",
       "G6B18xNt08ux72YP4vSH/vt9h+Duj1+lbnaWv1mBWcg89HMaZmM3R5E7vJuJqrNC/bqZrpnddGxx\n",
       "PvM1Ou/3QDExNfIjzNA4NiOuDzN5Vsw/f+8TClxL89z/KF02zHf69v9BUUweTwo039W5M0WPo5h5\n",
       "JWpfOfCgcSnQEC8NCebzKKji9Ae/Sa+57sf3T5vPiCAIE3IMqUlfXR4MM6jHEtofvnsE063Hvgmu\n",
       "M2HOeIn2qgcAMgLa62PWhB1Q66fsQ37RSqNjJ2ktbV71gD51d7BULhvwQTcA6MWQDeHj5NxHDomb\n",
       "wLEfSNO53I/xl0J2EHso2ITWJj6fvuXr9JobXrE/AGy2PEgAX5nXq27o8ZfNek0JAAIYGN1Ho3LJ\n",
       "7VKOSHKElFPYmjxuJ6EAlma8XzRCjEb9F/NDLy5t2s8qVHFq50WfWKZra+YeV+a7LMzO07d+Y0eR\n",
       "mq/BwZGww8a/87+lB2auZhkGzEXZnS/OfOBr9kexu/z6rBL/7nqh8XFA1V5eyfkbSp56TFfy6Jbv\n",
       "Uk3fUjelP78Hld3OU5dLSJv5Z9Sj0Oc2r/jEIlEf0x0WMVxezKcNkJ0wo+qDFtTxqQk58ZeCMGr0\n",
       "gpWgSpvzGgexA/JuaHRP5/7FNRrjbm52KuJ9eD2aODStvhW65wtSqkyTQRWFf80V8c6EZi1YBSRM\n",
       "0oEgeayRZgplgMtOQfoiXfUXbAKbV1ylp77uzj132O78StW2C38+ioa7zr1c73nl4U/7O4gkvmBa\n",
       "LjPwnbn5a/tgejO1GlOxBtJ2UzSihLICPk3TiGa3RB57z133l+YegifWPPO+v6dXP+yXL1kgtAnN\n",
       "n9YQanXzF5Lnot6JvDJF1c3V+ET6fFFD9i2pHCoiTdRslgrnl3JNvEDTfUw34akvL4a2djc/3cds\n",
       "2y78+ahZM3fe+QN61VXfdvkDsHWFpQP4jvV6vjN/9Q8U0xXAtGMadrL9Lxx8VHd/NRY0gcngM40v\n",
       "sNXaZsK6ePVjLa9RsqvmvtuUzLtAm3HvR/zaJQnEXd9/XxX3wUQNZI6WPN4xk/u0qGiuqaP1fDnb\n",
       "BVhaAt5u/nT0SoItriXui5UUHlaZAnACDmB5PldY/lz6rJ1T33h+9ju3eYXCo9BhdST4mpmhV1/z\n",
       "zy9bAMYE+p0JurODUy+4LdpyvJlPFb7NWpehHYjYshZ6T12YU36N78ysHWhwIbZj4hQBrfILC70L\n",
       "jPEsTzBgF4473/l8verRv3HxAtGEAJb7sjhAhIIjfs4xkuwliROqgbDJXZQSgWzrLGjqOwdVMFvL\n",
       "4nxMsKUZHm2wKWpez71MuNb5LGLoKIZ4tB+D++UNpz/yHXrNfb/v8gTg3Gw3AsGpL7+ttOHYgu+O\n",
       "936FBruFTFnUCIJ8m2p1krr8dO0Lex2WxXkDkCZBXiiKWepbO4giZqFTsEe0RqwuKs0Sr9sj4iiA\n",
       "y2NUJ54MnXYkga++cy+Ui5u4AQoyPI29ylpaO5b1IIa0fhSgK5GotyyA7Qt/d192lV7x0nX2O3v2\n",
       "5drHYG2a3wg+7dP+lu7BZZaa170tTh3faKf5Xz0yuel7X7RNNwHbBmi79mnf5/5b2gbi57T/SeTb\n",
       "mP/mx22uHZ0XnSFtt7/fvM12v55PfIBaG+5829+6KIm483+5TrVN0Db1cUn7rm3qoGzShyHaBG0S\n",
       "f7DfaDYG0ehvHn7bMY2y7fcMK9vzTfZpsh33tryzQP2viQ3kW/6oq18LykdlWT12f+Sq1X7Sdhba\n",
       "zg2fu9B2DpjPAu2c/e1C5nM4fcvXX54IjIkKS/AdS+a78x3PU5y6B0Q3yOgmOhhNyyp2UBiLgwbq\n",
       "GwZ5iU4TbkYifLuqlp0ZFX1KV4vfnQGbma3kG+41zZLjdwPzxQ7Rot2/87o6KzmDWQHjK/aCpRCu\n",
       "WTZ7MKyjzJKPbFv/DOZ1Xxqlf9Wui2lovrrETegoaqnfP37nDyqC9XZtltGuXdDM1dDa/37+Mkqb\n",
       "f3WVhl+/0g/HEnwAKDwL5CLTlLylLWPRQmgIqQeX3FwrczC4fCD8u256Ku0RZGADEpitC8Vdf/4F\n",
       "es/H//6efBFtU59tAwu0+BbwXXIjCtrNO/e9rPbiW8ZzB2W7yyQD1QCGX5DmJrJcTevV8/fRCNrV\n",
       "zK+I4IwdU99dTRfH/B7nXejezsZKE9Xdbo3Mu1ab1oEYfrY9k3mDMzd+tV794J+/fHy/2bqFlD2n\n",
       "Ywe+u976RYrpSgCzCUSDv52V/R0NW9pY0SJzGaV3IdMVqHYAuZD1Q5odRJG9BJsiJx6rsR9w1599\n",
       "nt7zSf/lggKhzV/x7FX2YQf3S9230+oLOlCcKcu6OssU7xNbO7+CAUmG1OFYbzX7dEl8waSh1GRx\n",
       "rNzE7nD2B+6j9/i2j6a6mM/aHNwWrkBnNkHMr3Wf3f1tH4q4nFJDfx48K4nSsQNfF6OWpg1gJqAP\n",
       "H4yNYJDx6WSCseHCQGMJo/1f0gRTEwI3eU0be9BmD0M1Z779IRor1Cm7D23nLpr+G4EMoV6pbfPj\n",
       "ZAcEmwmdraa1Lr6MJ1PBxZ213q+EMo0tOdXdrpdzPrXMQpp7EKtYF/23eIMo0nzHe16olzrUc+jJ\n",
       "u0u5DzMdO/BJaz3MPLlC7457SKJPmJ52+Cq45BV/p4TfKbEZwH0Scz8NoH49DzWo1UHnbp4COPuG\n",
       "p+o9Pvt1WwVCfYgh2M6ZpZufzHxuyrnJycMReQON8rw5TGPKHaFuxgIxl5XMzrELkQ6mHZdgxHhb\n",
       "0poCjPJTqQwaBABw5qPfqWjnoG1j1gMFvYAAYwcoga9trEvuRrT5kJPOsNlLSwIAjhn47vqzz1Ps\n",
       "XNFfJoEJPkzQBbLazEr/hz/HAsXTwZR8OBOe8OOK2WmdNAqXDc6j2aC8gVFo8vW5132WXvnUN64C\n",
       "sJucLsxmtrpycF8uFtAyQASYjFfC53OBZl6rNqSAylXf38b2XZHxEpp+5uyqU0wAcCZV76swTQez\n",
       "NaJIWrS8K5q7/tf76T2/68PSgXcuI80EwP4M7btvcEXgcyDe+fbn6VWP/ffHn/2a9dIWB/hYgU9U\n",
       "+0wHX10dmwn5TlpAigxzetpIYbyVSZIptqn2Q1IzT4APWBhTqjnuV3xBG5I4T4ppZcjPDgJNRjMw\n",
       "9oCMty53FmMG6fnZIJWCBAX3CQVwgtGqOVisWZvErZIFdrInNhyvs/v0j4EZJet/+sPfqtI2kPlc\n",
       "97ndt2tuaipiil+AUWsf695M/aNO537kao09hVzRDunYgO/c65+imE51AE65nR5viiTCb1G15AEZ\n",
       "oG5PGZYbTxqmwWg3X+04/DP8OS4MyXKKHiRpStp6uzB85KWP7JMFpEFsfl+YibxdhJugYeY5QJjh\n",
       "kFHPYlZyG0rjjfm8yROBj/LancKi9BCdB4DQj41zEyMV9AIlLht6UQx0fUxWgs18LNf60ma1yJzT\n",
       "+6TlkMPa6oDjmLqr0RWZTLrad8cGfN18m8nvoRB6UkOCMdri61sQFlturW4mHt0mvit9KeG8nAFT\n",
       "+iv8PhNUNaEgFtx9zafpFZ//1kqYPsTgs258mps3jX77PM5sDLpfqUiAUf/0aoVzXNq4ZDuk2Ykx\n",
       "JMIg920BpZSr8brppRDFXM+xjwH4UIRAbfB80+fIerClJeMl8xkIwxKZc+cvO7bXKPORJQefWzzT\n",
       "MWa+PpA6x8MK5gPgwwz9uEU9411zS2EQ901seGA1PjCAL03S+pC5fu7f5RCELzlCaObNqx+tvE9H\n",
       "aEBftMrjews/j01OLJmQwSkJirosyMHs50EsmYErZtTaPYIcsyONrVT3IYUFXwIudF4AfcnzIZuz\n",
       "MUspIpweaAnmc1O+7zAgEdyiYaASmT5+6ez330fjRaTS2fuKb1lOszsW4Nv9L5+hOHVFF+Jp6kQm\n",
       "U0z2d9+vA7EKX6SY2sEbAiEAWLKS5q8gI3/QrysgdVZMAZCIyHVNPW4VEMGWSYygfSW72kKMjHBq\n",
       "DL4jlE4IsisUB2wQFfl00RJiLTUzGcaSwZpUz9Gfi5HhfnxcxRD94eV7z9HSKE9htGzOAfM5m6a3\n",
       "CdDFK7Oc+VoL5uvPj2cV0fNqDef+6Ml65V87fu+H788c9kyFlojVdCzAB22QOVmvzwBJZlPZSbaK\n",
       "mf9CDEaeoJBR5UBxSVU+T0DbAr6kTBNppY12FSYQlLd1jb353U/RU8/+b3Lb1z2uhzUdeA6sMKmN\n",
       "mf27AYmZr4AOo2nq1VuRvwCotUkc6FgoiBjSKeXJspzwIxHKMGaeQeL42N8qwNTOxdxbzLsZQDHz\n",
       "UsLsTB9PSx9TXwdDHtNhh2ZyO02oLzut6cjBt/vqRytOneoPgd8wRBWWibSpNDrnA9SA81mXEymg\n",
       "DIGJAvNMzKDgVQQ0vuTX9+K6GaR+3cIUyr/Nbz1YVe9jstvLT/+OmYZM0DAXaYpYmSPn5mn12Lhx\n",
       "/Lrn2mwKVom3iZWU30IBnUC1yL7nvuXuyk61qnl/IcAn8243N9tuTFZPMzOZLwNb5nP7No4+3KNq\n",
       "k9v17q0wOcDk49JdsQIyLvy2dOTg69rT2UdDNopuL+xEM13cFA1tbABUhyWdy8IQEcAyrmfano+t\n",
       "+X2h6k0bQ0Iry5A/NupVgEMVMaMlquasZ5nJA62sLHSWEUBr/OjKUnVSUTXxzBnqIj8HsiTovHdB\n",
       "qWHsapb3VwA7L/lcYHMWvL/OyGju4y18vqLgBktDFbv/+dP0ime+dWzUkaWP//PrfGAW7gqt+cnA\n",
       "MQBfmGsCmtGfb8wJcIY74RFDoKhfTw5IHYUXlJf9HWIcyxpBGprrmT5ii/IjAMOC0RKg7u9JQ492\n",
       "DsEVrnPUoRxXjNtlpNnJbSAO5MaP08JcBbBAjN0TJnkWXvraQ6/kd3bgs9lZLodszsUuAJ39NhnN\n",
       "9L5zH899voh6VmW4MPWP2bBDBNigAGxR9zBBxNORgm/z2w9V3bEqhH9jlZfc5lzC/wMi+BKmYpqe\n",
       "ISSCMA+RV5qAEneYbSQjIEGA8gu9dE0TtE/OJiFwLW2+37XPvwm3/bsHmcIAgQzmBzraGZRcCRke\n",
       "3Gh2Wr2Y3F3rBvjGtgkK7rbK7nhtNWe5zAq+xUhsH9vb9NULMnu0k6fr9UH0rluJEUv/+o0amar9\n",
       "mPvY21pymCkULgTwbUq2rJo9cuYLx1sAX70gEOikw7MfXqHldlaMPQ3Gka4YWINUVH/Qy6M8ba6/\n",
       "KdjS607jfG52mmAEEzXpEVx1trNB16ZRoXVfEIX5ohqTtZ0ji85A2Shu9fCbAH6ejW6tZhgeApbI\n",
       "0loOKYZQfptzGeGcDYAlgmnM59/Z9/P+JvDl2KD3xfEYdrjjOx4UE+jZ/L7Xd96+qhiODHzzb9zQ\n",
       "Ay3TZELue5iY2RkLNu2CIpS5oU/R0Pz7vGqdhTaQVeGrQLwMxA/EEIQl18DwOYgKfwuN2B6X133J\n",
       "+/DB33wYirnZQEAbPoO5GGBcLa67UPWyD9Lf9VG/yv3V6l4x3e3aOkHa8hRz1vvFgCogxUNT5DzY\n",
       "Ym/piUF2wFjPphUqqllppqgGywHwvV28ve34gC+Glcz0749ye92OjvnITOvP0xiCZrX0ypugTaFH\n",
       "TTA19xQhAfNB6e63aZQfwxgGFqXdzoSZj4TIlUKkcSsAX+fHjMh+n92/NWOvqdlANJmhBWQS1/DM\n",
       "l0o3bDMiwUkLiMeRzbpNFJcZt8ty6W6rzLdIqQjG8cZgz00fWhDfkmPepBVh4JGWUc1Qcq7I4piV\n",
       "3GYz/6X081EnnaVbJj6jCIKtNieOGHxiqwS66ZWbrobAs4mpEz17of8zazlezE7TxQ4qtdXkWHtw\n",
       "LtykUUWqUNgxjeDACL5WPm/44nfi5t98DHKdlL8HQQmASFB4PZEPMo67n6hetWSYAAEDRny6WPYD\n",
       "92M2f6UfxFinMKedi8MWu9XeJ8G6pjTv/ZIHQc7eSaDrLwwZFyrneB8pLo8mh4VB/evb/Rso51+/\n",
       "Vne+tO4Odtgpl751tdN16jFjvvlXP1lxaicjW2zZAPCxKnXwASmEWwYs85ybnefRhu5/uSalvL56\n",
       "IkFll6BPptaxHA6F+2eYTSZACtzwnL/ELb/zaYA0mvVAJvJicNoEi9vLwZaB+Xj1eQx4W59Udltj\n",
       "PmZWSlHWyIDRKYCzLG/869cqIJtzGeGcN32uatsU68BXs5QgF0WNXU40+lwBzN2KUFMux8D0jPE9\n",
       "fyY+wWJLOhrmc6F1cLkJpnOamlDE9hEujAPzsUHVlftUjzu+kibyYARtYGyWwiVxCZ+nT69F0cgg\n",
       "Bhy0utp6wmYPw+6vojxfoALQAcJKZFBSUMTsCWacvj/pFuajIZUC0oWdoENZK6Yv5e/s178x88GG\n",
       "Gdzf8zfjCvWNW0FwM9T3T/XbRWQZ5P+lYsu+P7p0+0serTFzKiZMIMcpV9IRgk/J7BJAyL8yYMiE\n",
       "XB/GLLgsEBKNdlPJioocWXTgz+viOVxlCx0fP/OWWKwtK2NS1E4TsKYCaTZ7xCZNQxT9vexYv7+1\n",
       "IsZAi1JwhURBFWerOO/g02DB0idbZLasPdzGfG6heB1BUwn8lptzwMa3ZlQCIA81uAXhTNjBlz4d\n",
       "MpClPgbbwccTGY7y5Zz9bcN9eCx2cJsUV3//B7bW5+jAx8KlsJfLsmZ2gJoWjjwpo3Ft+G+0q9ZK\n",
       "qozmD20EF2vc+G8FfASyMY8iNbdShX3BKZCmiYJFNsIVGUDiPJkr4FA6Y6i6fxk6zMGy1qw4UwwD\n",
       "CYU+Zs8IcTJjGcC33d+k2eu4eetFXiY0/rUWyia6uPQ59W34fkfIfh6dD93DFsd6Onqz002h0Nxk\n",
       "4jg7KIq5lIZWFMjIqhIi9OFqP4SR8688OD/uLMfMOwoCkMLkisNBaPkf9Jw348b/8AQzQScj8x6V\n",
       "DVdO1CKiWbdgAPJ/+22qmhGedRKtrguIx6liGn2bCkntHqWfBz0zzh3tV1vE04q6/zedgpy9q/t6\n",
       "swVUjPmkVfCp+35ssmdlKMgC+tOot7bsssNOH/r6x1X/wchALqAMDh18889dpThlFDaRjUwLPdP3\n",
       "GUxN95cAlHmdAJWzgjwWUcc1xlNaiopzHMn0C8uDz6qWIIEqyst7rJgHP+vNuPHVT8xr7C+w5bIr\n",
       "A3BKQIaYhRln1SxngC59tVoO/ZbRfqB7Lkz3riBCcfiJXQu2bDbBgGFyBviUdKem6R6zhTQ7iBSe\n",
       "2sbIvb/7bt7agM0rr9JTL97768n2I+Wslr4vq/vveh5/DzgC8KmiD0ALkK/0QgWip9HPYxrngInE\n",
       "fyggivJGaQEGycrKrR1bPT6eE6QPaKxArNYyraoAACAASURBVNdZsP9srW5qlNGxXnBvTkVjn3VH\n",
       "ZmvRFC7wpBwExozUfhmaPfhy3D1pJSTbhokntQbR5UJD+iqQ2bb5n/uKdd82PbaFCKANCgvIwIvf\n",
       "MxjShxgkWRIN0CnzHXKK3ekEfTmRjeNqk/Ned6jg27ziXoorUC24Uj9FARufExRTbDlXLE2rYlLG\n",
       "xZrl86nFw9LlTw5jc+SQzR7AfBkTZGWhqn8P+etvwvt//0mhbwKAjGNImC0RyKAsPHAeMKDt5KMb\n",
       "w88UjMTY61zth+w9if6P9X6u6+iawqrajwapb3xmy64FW7QGW1z5sgnvgZbmi5nVgCY1nx2PWrTc\n",
       "/mLzk/fSU//444fCfre8+AkqPn4r2neb0wk6qQ09bE+H7/O5HAtSS7INGNtEWF5mwmJ2Wv64Lh8+\n",
       "C0K5gWotL4A6gJWllx+4wLQvYT+YLn0UdaHxthLw1ARO24Rm81eFIpLxqi9x2bJ60EqqElWEWETY\n",
       "y8kuoF7NZpVjPpRgfWR9mtFRzwMaZ6NtPtgUjdsSmHd3w9/ThsHX4/7xPnZAMtNZ4bZANQBriq23\n",
       "Sck89ed5OKm1HuHMsEWYdLjfT7zjvBU5XPCZhQBodVsmQGaTaDbBigq33wCKtgcQ0U4rMOMVJIlh\n",
       "pg7sNwRSNIISrVcsto4wM9GBJlPP22BBBo3rQbf24tXiBW5GPfTz/xTvf81nVjPRaCvBRIzbaD2g\n",
       "gqbWUdN5v8yihCyTMWold267gceYbmkECCkeGhmlwI8HXB7yjz8IObeBbub+jjq1sTxnPx8yQLfS\n",
       "MsqZIIoxPWJANlWVTG4lMB4W+G76h5+luQFyXwzQXaqpf14gHRr4dn/0KvW7RdcM2rk/Ux3IiNR1\n",
       "2lLIWByVFeZhDrb31KAyUfTJ3k4Lv2YyuecOUyhyj5ZeP40iHXBK7BysE2CAsTcIeH7CwBINp8bE\n",
       "sSlwENdQhzl7QXTp2krt3FWz09k2/mfQpqIDEGZxANCeQRGxqCz6EqKNTaaem221mMuFchG62E7w\n",
       "VnGOB0RfJvhiK4xZTQFaMW1g5kNIzXzPEugT6dpkDy/fOzzmG82wdFkyi7OSABh8oLiw2qmjhQWn\n",
       "V57J32draJooni+YouaPTY2o6l5ykf5+aQWNM17iPC+x99o5k7bmO0MbOFQTJG56+kD5AKZq9q2Y\n",
       "hlJ7oLcrzWX2GbV0okT9wIeKqYKhPjJ0i/YIp7PeIrqpwOz3sOfgrOcmb5NUJMGCkvV1BnRl0LIu\n",
       "gODcD12tV/6TMwdKgWrWyBQy2eXM92m9UDpEs9NNBiSz+XcG2biglC7PlB0POIZIOMYBHwUwtUEr\n",
       "ptlDF9rX3IIi8kT0T8slLrjC1SoMmCyiJlAOwIc/40/x3j/8zBTsVWZab1IdsF/JjxEQUgmNAMgD\n",
       "wuPS5Fgt4T2ypa7cJ4AAuza2F+DT0nbMmgrEmE9JMSUQ7VDzYJZdMyv5xD2s3xWYgfMCA9z7kXy1\n",
       "SpM+n9N3h+wHL0x9hwK+cz90tcqO9Io12q3LTXYXXqE/YIX5sAJCOziO8cnw8MJ8oXIW9oly5nqL\n",
       "4VABG1IuohomAK65uzbP4z2AILncSOqwQ60WhVdolUPVC8zUNjkcnFdrrImU1fqk7MFsHeaEhgkv\n",
       "Xj/vFfvcbBJ4sy0edsZyECL7RcOfA4FUUuHZOF74otZ/zvTxOxTewb50+b1f8dRkicn6YFJMPm1y\n",
       "5TXQYzqc10IXgcw/Xf0uyRB7/mPBBj083X5No+t8WuFqGVmv+jm0qa0c8/bwb9c21i+f8rl/1r/G\n",
       "EIUs/kpXxnEv28wzvib6nMrQPvdSx2sw3Iuvo/s5SMt3jHXh/tESXCn95MMCDqJ4fpJ/BtIuCywT\n",
       "lGf1uUiC+QAT9119DqGjLpgOhflUpUcFYbrCl1mEklX0Wf6ox4G8iF0Q19Bx2NFgl0g3uwANja8T\n",
       "aWvT5DWA0oVAgRWGWPaoC3iyhBKoNB+I1ZIFO4TEkvt+25iPBYmZL281+qjGuIUlqf1DmdwopR4t\n",
       "bxsqVoS/LgzxFDSLwGO+5k3A2Rk625rNeUqpnBOI2YcC9oV7FDl90QQq/57y2Y1gtDrd9b3303v+\n",
       "Tx8+EBTGPaE2aaIPH02TWvDnwhA8HJ/POxcsw7QDdYDL7c+h4oPZyWcdaD5eJXTcQaHxsC0nPVRZ\n",
       "66YQwoLCZYUG8HkkLq7nGQ7MeqbxXas/4qlvwrtf+6RY48cLWEcwXgg0OWZoeakZdUHUUDUCfvp1\n",
       "NDl47A4rOwAEUq67G+ims542CcBF9JeDI/5swgwV6xtTZj7NzZlPrF+5jQw6Z+BRUPYxvetLn6G+\n",
       "p1C8jk0Amcz3FNRo85Z0OOBrEkNmIihAFDHNnX2HAKb33tgOqV80/DsHlj3EQGKiMgaQgxn5N+Ag\n",
       "ygtcgOlh261jMQUEvpYrTMwBfErCUc0nJCNaVc8HvG1bj4/3yZUIK0zq9Vi7ln1lzjPqIa+Lk75d\n",
       "qwCwMV9vo9Wfc3Yz/8zb38FF/eZgNPBFNDTq5VuAsDWRfelMDwXu/O7r9arvuXVf2a/pFIvAey3M\n",
       "8miKNnVJePAvXHgb+0NjPh9OoxFwP1XcIDtKpiOWIBJxnWPn/SFKLtuPMoV2Ykht6J1W75p587tk\n",
       "kA1p6ngZ/kUxIZ4GCa8AVROzb9SmOPfIp7wZ7/7jJwz1SdPPGc2FXKJjNOsyslfIpyNkuzyE+gmf\n",
       "MU3LZWZXjVJAEMc3PcgCf9tzDJAD8SZtpYduYIv+Biq7hSKz/BxccZ8r6uBNlfQj9zG97fnP7PaS\n",
       "+PaVGl0rIj2IsodhBuAQwHfX99xfZQfd54pocbIM7xBfkpBBGNlJIEKoqkWkHuWKmQcu/FGw3xrL\n",
       "VQBS8sZC0rjBFlOGAM0CVce/0u9L3wY9JD2w31qqLMQenhRTc6xHmp7D+bia+q7ccBnsGa/Pgf1h\n",
       "YHuDvplQ6wCMstjkbHQdKyVms0Z9z/Xh/nPwuQvRWDFUv3U/kjaf+OB7tJC1MCma+317SAcOvnCO\n",
       "fZ/KsmoBdY+iOC658gF0DQNmYRHxgwFdi0Gq6gOsh5kZ038rNrEOxdHxKsl0HyFh4vMuOGaaPeLJ\n",
       "f4F3veHxC0O43GrluIMtmNKEIdmsdg3Xr3cD+avDfc4nRkXZ0DHdKDBbXzVJBRMRYWIyTaBEPwLd\n",
       "76NXlfG4GZuZOaaXkceeOji1CU7/s4fqNT/4/ruNwrd88bO0rCxxU9stjvHZXyAdPPhs++zY5pzr\n",
       "JemY5rZzmmzF20o4xLyNtHcJkCyY4EuQ0vrO+L9qde88EkikVg7iWAMZkNelxVu1upvFzHwBvKyH\n",
       "KA0VeBmiC1CMzLVgHvq9pihWlcdK3lWSZ9MW+ThLf84CbLSb4i2Vjg8XKARC3wEY2GgryDahT6+z\n",
       "5+JAHFiPwVdM3/HcPqQcxnF/l0Y3VTBZSF9OHQPmu+M7H6iyI70jJ+tEFiZRjC97lPIfq+xBQAJr\n",
       "WzrWhcGBXPIyzXp2WdynCHYJRDCgyVRlISYTiuvUF4GCwGj+ioXWH/H4t+Pdb/7UrIMBcOiRWvct\n",
       "31e7ZQDaNrFcZb7Svqo0vQ+e9FV/AD0jZmJOlelC8Ziv26qiSdPSwWeMBlSfL1jPAUbD1RY1dTZd\n",
       "nL/E9ObnPlshsjRjSUH6ur5P+dXX7gntB8t8ptlLTaqMx0N0I0l9Q1nOY995OZ+z4cgKozg5jnP6\n",
       "VGbeJoDJfAm4vhlvVDqje2TqlEkfg38S55WEKYTNGU8gUysswpp2jfW2MlwUwB23ZLjzXaekcDhv\n",
       "7CZutWCLC6rm7002ZGD3bdl/2iabCURlU4AFEAIfEsCszFRsYjPQX2lGA/cE2N5/dx98TaX0tyDN\n",
       "Tt5dfdrDzBZPBww+kJbKw7LIZKbIylnOtwh9L7Y6yPKWDNaPxRCaLq/ICpLQLdiM6kg+ivL34X7R\n",
       "LjKL4hr6XICDLIXRJxvrPSqSNcZavceQStes+HMM5s7M1iwv984pFQvNWinDAS1nzzCYihIr08W8\n",
       "LvQ7/Ge3HlDAx2a+om/t98kvf+fYhXtKf/rs52q+EYTFQMMycRnbaomtpAMFHwdbIiwrBrSIWkoV\n",
       "GGkZfKFo5Lg5EG8V2A/676VZFSblIHHrzDdq/H5trGFzifPHQBqZo3WdN6c8LvV8FcgKvkd9xtvx\n",
       "zjc/rtTTH3ppFwZhWDZxaHD2zcig4/VKx8ehCv6t/tXzbmAzWqRMJGBmC2uo0S7lBE71c8Gw2n8L\n",
       "0kdmn04FPh64iJg6IM7bMedP7IcXWSHrYBKPdB4D5jv9Tx6m2PFZLC6jpMlj5zKAR5NEpnyg4vjL\n",
       "Baae+lcCnPJv++75Qj2PYsZA9d+jcYGi0UogiO+rxHLaoRdDFcr3IjOtTdU8VcRmPG0wk0egKbgF\n",
       "JMDRkaOmIcbFcAprKRVNrBagC5arJixtzNw0ALq/VyKRzSORU3bhOGulTJxWuOnIVkJf58x+mNCG\n",
       "Al4GXXMJ6fXP+uKIcFaWq8EwH8be2dn723KlLiDdv/Sxb/0UxdQgk0JcGxjzhcgLQkiieyyKVHwV\n",
       "53SwxmfwIh9snZjZ72fyXwbQUQeQU7CZU6gcAmIBeNG0VA87X7p3NC+D/ejYvNN3U9icwjv+4lND\n",
       "WQ1NympR2dvYLFl3aNLQpsJ0K50zav9Rcp7ywlej3bHTQdUmG0KZ1oEV/i7yODOV5/EWE2tGezWV\n",
       "GbNdMmk/zvNqr/upt+wZiX/0BV+iIpoS4X1knx71FVtSNIniCf/hd/dc/oExX3RmAwQ5MJnPVeEv\n",
       "iy9AcIZkhjHwjZo/mG4Q+FxZbhB19iQQjbZ5anFBTJMazK3MKKPxHw934SeRt7B1kJi+97WmU9Zh\n",
       "ABXXtYT9x/uW+uX3MiTDKHITMuoaLSvArfvH1OOqaspjytklzu7MQvQXbXGAMvhcMoo/SNZIATD1\n",
       "oXeAZv61Z3OhFBPUh24sDGjnJ+xlEVFNBwK+27/50Sqn0MdyRKD2hk6ubWywKrQ3JRAzB8ZWb53q\n",
       "tNY9Qg9ozTQt18YdEEArM1/MnCT/ZrgCCT4EmIqicCXgdRgFwqtHPhJU8OjHvRPveOtjVhltHDJY\n",
       "Zb4AHErbtVw4fC+m9mgR+KmVB+R53eRsQB9SGP09n9EzVVDzoPsCbCMoEaZqrtL3fEsQJhgFt3zN\n",
       "E/WGn33TBVH4X5/5fDfNQtkI9Yc/Tz/XVC7K3wMOivlU6EWBCsAGS8u2gN42Ah7Mt1s8W1qACxYG\n",
       "zsRqHCw1cQ82OxfC42auyihTVYPS3ZiFxUE15AvAMUOb0NSAgYZgjuaYWjm9iMp0MSxNQCs6QhFA\n",
       "uhD4Sg9GO3jHa+6ypfxqQ2e+2drhQROaSB3Tvxo9NwJcBkyyXTlHNhWoRj8N4DM/sPiGDlxSfOdL\n",
       "f/j5f0e9fdwnPoG6AjAXxZ66CH8POCDwqfYXgiDGrPpyhnxZZbIe+3zq5hwPHIn9J0uDh7shND3P\n",
       "mLEH1a1YEn7Lp/nDANAnnyZxOhsCYR56XQNxBMwiOIrY69Lvxz4fg8wshAgiECM2Tb2boEgmLyAT\n",
       "E9byMPxLDZAMuq1krT7fOmAFw30AbG6/N3TeiQBLKhNnu+p/RUkqfU2c9+FgSlbT0cqJfifwEXhj\n",
       "AB6Z3/v0xq96sm5bdfCaZ3yp5gst1ZeaQiFOIQFLUe3jv2Zwtj0Am9OBgS+2CRBYSJmYr6gTyV39\n",
       "AFBra15Rvii+lYxxqn+p8sPBD9OQwsAV9B3OcsBUuVxmI8tf5pyChCEQSoLGk5/Z3PTrmAUpOvjY\n",
       "x74Lf/n2Rw8a24VpZCt+CC6U3Ilcd6Bsc0hl9zqhpNX70TVPf/7vYj5zr4xy2txMNfMTwBAsSRbL\n",
       "3xwhtg8GVTAYgdHKa/ScStAlzufz2MZ+f/CMFyif82iEWxetHGNJnCDS8MSLCLYAB2V2Nnfe7W2y\n",
       "YkuQHRiusIzRQlAZoJzENUzR1xH2Ty3sKM4jwaaIQ0iAkB+pw/geE4yzVzFTqQ0BIs/D9UDsPVKA\n",
       "QALXNXM9nkIneMwj3oO3vetRi24h8q3NiwYM7Oj9MbAaB5cZxDr0Yz8/8p3XG9B5QvMxPmO+Hvon\n",
       "c1qB7u95/+SwQ9lrdGQ3pf7VPN77IEGbU/ZAYO2fPrVvDE79p899YS+NxoMj5kf96rzgEHTJawpM\n",
       "08XPojk4s9PkKvUE4M2pepi1ODNa5sl4KA3IJ2qo/LUyurkrxKb9gaXZyVrSH7C4KRO0FhoDrpbj\n",
       "4bA5i/pgC5Mo8pExKxYzi9kxi2C1UxTGcLfxdx6r7R8zVhKkOpfgFbCNNQAJH8+DKTyRPMGBaHd4\n",
       "UK7cBiWUbaQ8bsFQXi3lMziz3TnXM/v4Pz7tyzXyMMpKz9mWjrSDuTgj04z9Sxmx23fw3fKiJ+jO\n",
       "jglmrGTwnjNQxuqGZKVo+yKqaXlEa/9o5u+52IfrR/IbCylrRSCDMRzTwgpT1XOsiYs5G/mI+fy8\n",
       "a+BgERLO4tdIEVw/XhkM60BYE4QwM/l87nLDoGZFposboroInCzK2SObNcq5bUjFlU0BKlsAyH7x\n",
       "QEq0x8/Dn10FXp2KKLX/muA9L3yaNn04qfWqNk0qiOG8G5bRzwmCdtEDDQfBfNpt/c7FqRkELgDG\n",
       "3TGATurd+H7xbIPvB04MU9V+Rzn+W1G7lK4FCX8wGWlLSXajwss5F93t4MtjI1uNwI433Xj43IXS\n",
       "8nzqI9+Dt77rkSvtX29cGkVUlYG9vA+4x8v454IpaQ+cSIJnPvf3bJhkik8w+IA+mRra/cCoT0Z9\n",
       "x0iml70GvnHamA5lhfKKie+Arw2MvA5SaqoDzu4cv0gq4L0AKCa7R4PiXlds1p/FedK+gy803gQb\n",
       "k2kJnGA7pZYM+oasrX7Ehx+WQKruXRWhKC9+rQlqGrOVWdKkWKwT9DoTeIofFcdHIV76IXEvV+Hh\n",
       "71l+jxoOAQZuz8hCYsdYXzMAl7NwatMuDL7xnslGbdO30tB5SnM6BL0H3dqw61gHppBC4L50hbhc\n",
       "oV7AFnm5D0lJBtBI2angUQ+6Ee+48cFxjDc9YqAlEKsD1ERDlFs7Bj6f6tQXrTdbGiS22Q17sGjR\n",
       "2eNczPOZnWZj0L2k/h7Mvfp9KNPOMbMVkApSIEZhI+ZjULEgLu5N7Feiol6mVmAoC5EJ0OMe8R68\n",
       "5d2PrPX2+ll901cd9AF/32KuLnxIHb7qCptaG++67T59jA8CzGQCItugbhVxPxDrJfCGaCVoKGJk\n",
       "N+5f8g+7bAyKi5Spl9HU9zEZzU6/W2W+8bsAuPrKs5iPGnzv//ufozs7ViXxQXarakQ1AR5HGaOb\n",
       "q29X5VUEDkawIKWgx4yWOA7UbgUdo6CxC16AjllxvJRB1i8qwsJA9HstwFfzFUYiofWpWQxGxRaQ\n",
       "jH4SRW8rEHt9uIdqeygv1RtKup/A12e19Glltb5+3idFex0JZMb6Wo77ucpUbiAw8MqUwUbgQw+U\n",
       "tNHX9Oduxx/1gA/gHTc9GAlLv3t+bgWiie/cJsyXsGbwQMzOPq7TB9h9ub07/QCQuzs5c2WzVRSL\n",
       "FP5eZcvMmcATA3RZRzfkQ1xdgyyh0U0b8sPma7YuTmUw6nC3AZAZSWXhIBEIRkjAAcBjHvo+vO39\n",
       "D1+wGwPQyw+R0SHLAnxcF/pZW40MFPGJDra2MdZraS57Ya3RILvfwMpZRCdXzM80W6nviCm9TH9x\n",
       "SZZfmU/L88njDtDB8YhP32LE5UmgsRFf3yNX8Hmv+b/XNPx50/6Cj7cFcObzJ8eMIlMQotNKWk5D\n",
       "G6IMfxjOlgyeAYjixVbmq/yZzMfHe0YWbNLG44RvMpF6UxhccduB6fgYCZHdtwQbVpbEiNislxXT\n",
       "Uct32vqQ64Q18GWbubBV8I33MlPSWc8H1zug7P6a43zcVwszG/wb1IG8ktyUVct2FMAN4GUlxcM6\n",
       "AVgFHnX9zXjHLQ+satqe8xCGW3xedY+7zHS9+LSv4OubiTZ/IVBMy4nJ0kgrFOXTO4TVak8Oxnjr\n",
       "qrhQrbNfBErI7HSwacm/BC8zQQ20OOicwZP5CptQ/l5FzXOs3bkKGIGY9yummwFORPG4h7wPb3n/\n",
       "w0vZQ5EElBX/MBQG70jtbeN61b5ZU3bPfuYfAm1CY5OzZUQzGUfqMWL7hYkZfZs+bAVf7ZtyDStA\n",
       "KqcAnfq81ikTi+i4u6XFbaHoMt8u8O71bWnfwPeuFzy9+3s6Qe2ldH0nanqCEKgo4j1y4pTupdSH\n",
       "z8yYrLP+jgBP/sZWJZwsfCTPpzzKlTgr/iKbQ4O5CYyAqlrbebUMMDN3sBYmf6QGXawsNz+JDQvw\n",
       "rVPc3FU/vgo+uo6v38J+QfYrPmGE7OcV5vP+YR+N+m9sn7d9DXyqQo9Fch6lDn3h7BbDDOvM2rS2\n",
       "/ZHX3op33nZ9eZLe2pmOcbrPPT5+yf4esI/gC7OLBDr1a2biuZMjIuLxsPCTyciCyefGRMSYt9hm\n",
       "pq0dVzdLUQHDeVPCg2XW7hUAKCblUPdilrJgUh38XsZOIaB8Y/X75TPgvsivK2zJpjQBTYMdR16g\n",
       "DYs065sR2go+ZvXVCCQrGfD9pfRF9BddN5qz0b4B9OxXZl3qvaIfRfMVXuW5dwusv+dUon6XkvYN\n",
       "fPEg2gS1dU2q0leyB80BgNLD1SV+xDsyJMyuZeLvx/mIRzmDnJRYFymsfmsxpyyI1e8kCGFjRiEa\n",
       "pQskqhhCjQRsZ3VXQPVBj4uA2aysQQLPUE2zT3/I+/Hn739Y1MEZr2Ewz+I/auQ2NlyYB6k88rtn\n",
       "FDz7aX/Uy2qC5synUqObLpwq+cQCMEO5rlxAQBFkACdu3/slFNAawCD5W2U4l4AtgCQGFfWJ1Nl3\n",
       "MaZn31ubMKvgi177K5eEvv0HH2A2sC3NsZcFKtIELFPCREnppnAnsJwpKUQipPUKSQ4CF+WyRvMM\n",
       "Jgz+4DwLgTcb1x+20DIkYW1emC6vgfC9k/08XuQr1sexPe7TEXz9rwv3pz3or/AXNz4swSckVAQ+\n",
       "oXaF/DPzqdQ8Q+pKgc5z8EsFp2+5f0Q0+0a5SGVDAMv7uKCnzNTxOU1Q+X1H9hz2/FSqa+2/LcwX\n",
       "/WTlKfDwT74N7/7wdVYbKaantSQA+Mn3/DhmlUs2OYH9Bp+riiHSqQSKsjO0M9A40O5lWn61JxAd\n",
       "JQZJf1BZWAWX8nzQBGD/0BQivxa8QVyySc8/1CFqObIC3wMFmOGYF0apwpLgsDoMbzpyQI6BAgdg\n",
       "lIOsE7NfnWfau6ChDiEUNzz6Yey/flxbH0oYwQcgQvjRXk0QrPqAQJ+GNrA/M6L3zaKtBuzG5ekS\n",
       "oKOpyuyrCjz8vh/Ce26/P0SAyV0oEyKBYrJhrKaCuU0XvYaP076A7y+/5At0moZKuB0+aQQ24gWQ\n",
       "3iX+bLRwXCY6l74fMR+6D8n3jG0plN1KKTjth0yljn6ApJAs2HEwu/zbIhBh4K/bHZLAeM1c+5dr\n",
       "kw2wImQtTLr+ew4WrynnhRYTID6VPr0beMJ1yU5KyE88+8mvR5+n2dDmHfBYnLchIpQGwrjnyHor\n",
       "bLVmIgYNqlDABBW8AwuGuUpM6c+Cy/X+UhU8/D6347999H4YO8L3abnfPe9E0z47Zj5q8Kl27edA\n",
       "84F1AWwm2ag1SZuIhpCOY3z+brmIevWjEREHAF+xnruZyVLo4B2dDBs+Xy/EyhfwCniqSZqLVpZb\n",
       "zzrcg/gjNb61nQMD7gdyv0BQmY5NsSifBEcFn/Ggv8Kbb3xYKSbrM/S91ExZfhywbCTYbhEwfUJo\n",
       "H1Pz90CBloF51sBXn4v/GBjRj/EnqOxteQdwiWIJSjaLkWOn3hcP+6SP4H0fu292DACI4Np7GPAg\n",
       "mFXwJa//xUtG376BD0D1UAfm64eI9VghawoI63AGY2Gd6EgFvzXGBR72fbmqYSiPhDF8krI6PdmL\n",
       "mavWAUXzJugwrCEkwfT5qzrUR/3YODxR+4kFj/E0ll3wMnx3xnNTTSh/MSbU6uEBL2daP+5jfJDF\n",
       "pIAS/CCWK+Dj/lsxE2s5tYyibArQsfLdxh4FAbKIjEJtuw6vW+//B1/9MSgSmM3/rD13x98D9ht8\n",
       "/hsk5v4ebQzjauL+3lDWeB7JfPE9JI5tSQN7+AvVg1uW4QyHMIUdYEL14KCB18v9i1LfUk52xJp5\n",
       "VYWPFYa1Y4vQ8jEu4wkP/Cu86QMPLQLndVdjqDEF+NySo+O8QS6DQ+ya537mGwHtPuzOlAPs24Id\n",
       "XE6p4wCgtePrfZbsVRTKNpMzfoMUaTJf/I775HdmSQdogPBumJzAPoJPYTMBnD18/iWxych8CyYE\n",
       "FswT95AU9/RN6iC5Iy0HlxXMpUsTkS9N5gsGGJgPcFNT6/Vugg3lrglW6Y+VOriAe8Ej0LYJ+Gc8\n",
       "4Ea86aYH92t4LeIKc/LhCN5I/s7hFsqrg+nvLyexgMsIkvJpAF/ro7Vr+J55v5q/Rkqpr0hphhm8\n",
       "UhaPz3mdWrl/AlS17wHTp5FJf8W8CuZLnNniaV/A5451GwRr8f5wFmKe94lkpngAkrBx1qQTFRx2\n",
       "3KGWQR32sVYSmciADg80TWFvj1+TDy3zVNAM1wzHth2n250XcPy9mfnH9UlhHhTO4p553ANXbWwL\n",
       "Mb0GiJJJHHzRNiBkAVQPBl5aBks28+ML5qNrlkrOQUamcwB29BmzDlEX60eNPtTCeP49mK+5z3fE\n",
       "Zuef/I2/pad2rINoGGF8VbEnYX8nzMeeWFBGVktzVOmh6aKcxcCtnxL+gcFZ4ge8ck8qN/It9Ios\n",
       "wFfOnwdw/HvcpmHBJFT9vHdPj7/hA3jzzQ9KEI7VdHCIVhBQvvq5bPMCJFLrWECyolDWfLWoK/eH\n",
       "0o5jpU+I4ahu+duBBWJdYsCFSUnHCmCJ+QYQevn/3Z/97N2ivrsNPkUyn2+jTav1FqyTDDIwH4G2\n",
       "5PPkTEgPq29Nodnp6uDuyBK4QOfWB1GqDoXHA8jruqAifmcbxraslTnk2fI7LmOWWMlfBFnTtGQh\n",
       "F9G+hR5VZQ0AAr5nmpJ+fxeuOBzlWplXUgAAIABJREFUI5mvCXSagNaqIDto1upMeRYsHEozzyfI\n",
       "qzJI1qq+epnQEG2opnuWL9nWArSszwi+WROUd2eIwdPdNztXzCiPnvXTinhPOCUJUKwIp+gCtMFm\n",
       "kgMJdhi84LUEJkqZnp+YcxU0y2ADP5CcvlbrluZNNDDvE/UcQLxyrBQ5CIx/DwAxu9j3xnXhpoVZ\n",
       "VQMqICEsE1cGsxt23d/89Dd3k7L1fXqmyXw+b8c2k3EA1AJ8Vn9/tnUoQOtzdUDAPf9Ulov7K51D\n",
       "gryxzxcAy3we0WQTlSOid9ffA/YBfE0lHqYAgOae9f6gx1konkrwwY55GWuLauOcl23ADtNBsSgv\n",
       "7hnMx6YNSLMP21e4yQKqe2bNexCwSwErSqUqDDvGwZExjWbcWB6Bz4MFT7rhJrzxlgdFu8t9TcjS\n",
       "EmBA2yAytw09TzbZVxhMUJ1jr8021GUVBKUPlib6GGmu/urovzn4nIpr/hLkob7x+0Azcsn1KuAj\n",
       "pk7wTfT9GIDPKyLDsQAIEjSwzy7vbt4hASAJgADtyBQMLhPeMDLJvCiAD4DUTXJrBcS1RZwv06ow\n",
       "nC5tQsnjScZ8lCcYbBvwvA5r3/0Qa3sS/CddnwBc8+1Y43NYK4IOumwHBHjuY/8y2AQQNHsD1bwW\n",
       "7RzrvRfmQ50iVpgvFAVZOZBUigPYsw3VMlsDmmr6l/lsplREBmzvn6aCeWmbXXS6W+D7f5/5fN2Z\n",
       "UutF5JE2kylLM/wYON4h+SQGJhwFc2G2jcADkRDlEy8wfERJII0v3SxAkZEPS52ZrQuogWCdet3Q\n",
       "DyvssJYYwGtg1BXBfuJ1N+NPb33gwCBDEMs6jKeVKf2xr8cNaOomJ3DzzTcshHnb+N2a+RfWrYNN\n",
       "6Hu/O5LxEhzMdgKKTloHxPehX6qZ3hvXNOujcID78bxXUx9yOAbMlz7GBO5u3j5Uht9+bJtvx8GD\n",
       "hXbk66kcZpg1c7UAeDD/ttEO+xh8T8jymm0g28Zq3vYxusdlrAKajq0xTQYo3BQlINnxkQVrAMvL\n",
       "GdsBPPfRb09Tt01QUai2HngYwL+sJwdAgGJ2FsEnAIzWQtSzMl93NWiuJ587z7Wt1PvC4Gtqbz3T\n",
       "Hmx50V/89N1G390CX9MJ0pq/LhtVXNN+j/meYUJs9+2YuRbr8VCFMiKZINAO9j6ADOwQ2CvIyeRc\n",
       "MRErEGofbGWsBcjJHKYHv62cbecWwB3Ax9d91vU34/W3PDDZ2lrD43vcOL82mMDScx75zrh3axNE\n",
       "ZgMhBVvYghkEn1nLb5R1WoJtMWxTmCyDStk3udqd2zHet419FUoqgZttEZu0nvVpAcq7z3rAfjAf\n",
       "egSQ97kINhqFvR8srCbWeWF++HH6Xu5J3+NevATF/tMhTz+5ZJyRfS50z5pS4MiCWuZ3M3flHucD\n",
       "XdQZtW+3+YLFrLLaPOm6W/HGW2+wQNEgnLre6Y3KE61WSERV2wRMNTABcL9mHapSqCZ7ZcVqNnId\n",
       "YnyttNGev/o9BoUXIO7uQ+5anWYqlF7DNoCvUV0cfE33Z5gBuBvge/XnvlB3JuuIZqt7UZmiCwtA\n",
       "M8NW8wDDerJYfLvFnKO1dy6QqwBRDsjYtYMAbk1epuuG8EVl68X84KPm5KesgnNLG9fHwkaGsAoq\n",
       "35sVgmASpWCCZyTfacEw/pkKY4ys+jPvQYhpAS7lObxskq6wbAmUibcR0VsluOJ18WtDqW0bYllG\n",
       "QdeOt1Jmtr1Re93f0+MAPq9UWFPIjuoHvFuUTMguAKPfNfp3i4gl5e1fHBgpzmFGAmU4oLCdWCl0\n",
       "f55RsrjWs3s5Y/tR/ToZzuV3AshKBDd/rANu272XPpzfJ817APic62/BH9/6gARguXe10QuLAnjO\n",
       "p7y7thcgc9+nt6Ugez2YVTMQkoEu7+fVKCaDD/WYA5kB2NtKFkGxhIj9BiW1Nr7n4K++Jcp9j9zs\n",
       "7PM4cy4gp2QzhcgwAVqrLxemFPmEcRy8EgEhhOEnqgvEMohSAEEmBK9VGxWGDr+Ln8RiThpHx3sB\n",
       "KEWgstHWIAy3j++veZ81U3w0M7ksPvbZ192CP771hgJY9qPqtf37sx723riHB1ra1Hob3OIxn29s\n",
       "6xrD9LIwfK/Cz8e5Pjmta+g/BwSDjwDXopAKmpgJpJynmrYNCcRuXvfrvultP7Ev6Ltk8Hk0SECD\n",
       "s77HJnW3C7mnMk5Wzkn5FHuCsSZOBnYjyFUAe/m1LgOZlU+uAWtUsYNqisZz6UoB3s7lvVIY/Vy9\n",
       "r3Dm1WvHc2vXpwk2tJHMxc+57lb80a3XlzpVlcfgk1ilEn8AQL8BkAlWo5C1vnaOTQsyx7cFp/bC\n",
       "emXfmjAT6b5Rvg7tHsBH9ajgS7Zrin0Z3/N06eAzO9uX1nOVMviSMPHmugbPcsYvyM12oSToZN6R\n",
       "fwCQKeQm5mACuekLSa+ggjWBGnAm7Q1FXM91XWhgGTlyFMKsE6cQ/gJmKRetT9peBl4WSmYwkZ5y\n",
       "3Qfx2ltzf0rev8Vr/qyH3IidaS71ZvD5KgYR7d/DAqCxQgJQMBmDE2P/Oi7J16Q2FGVCfSR+LZe7\n",
       "Cj5SCpL1a4uy+93bAMTZmG+//D3gEsH3m5/zlXpqkngLmGgHmjejEdgAYwQSQlkInwECVQtvayYL\n",
       "Nwtu8iAJsxAz0r1VzQRMCzKuZyCwaTqCpICI8qyOp8X1Sx+xavihbD7mCkP5asoW52uQp0RURfG0\n",
       "629Fg+C1t1yfAmb5vvDBHzCrIzW+m8oNwEQs894P3hB3Z6tkEfzY4uOOyo1BI9ClOTgyoj9/rf3K\n",
       "9y0bKjE7r4LP+51ms3g52uV6c9TgA7Jhkz9hBLcV84s2/EOFB+L7UlvDQDNyJDGUok5O0ZqtAkYM\n",
       "bEkEwcAmy/6uba7DEmx57QLkdC9muzS1WJOjMHdtvLewHi8spit5YAK1EFC6rpjuis+94Zao4jQ1\n",
       "TGS2N+2R0mJyArZXTyuzPHqZ+SRLhLEw3lAnehZhNhMrbWU9t1wL0y2Z34FTfEHvz0XwpK6OiHE9\n",
       "IPy9GYJ/+s5/uW/ouyTwOfAKs9H5/rsCMc9UsRH6n+6wAOWadzgK6FjHcq8wKfI8c1CE4enBip8Z\n",
       "Veog+KEIGlgGV5lnVBalLSOoS/OknB8F2n2ura9ttj5YS7y+jyckeDS7aT6l7t8LJq0h9+JcBBNp\n",
       "1gusfKpp6fM4a3+Zn1bMV7of99U25qNrxsBUBFLiAing82CLj+05+PYzXRL4mvtPzlCaQpRM57+B\n",
       "cUmR/14CLMswHbp6/3EPSWbFkVbiLq6diXoWPBxPTbikarZhyB6C5PfQeJiwnlgOpAv9X8sawVuu\n",
       "oX5eNVGH4/577ZWHntwfjrFV8K7X64LtbLhcyU3MAmMcbo/76iuKss5oGUxWqWzamQtgRZXszJOw\n",
       "GXw9+2KWC/XTOJDvM32a3W8//T3g7oBPOdjimxoZ01GHd/DV612Pruv4NY6r+ZZdMPBuldqVEpfA\n",
       "izWBi7oOZmQpegC5IgFI6oiDTDl4PSqYZRSVAxh+fPV74fBSRL8XVb70HQ/vEBvRLezPXAzkWk2f\n",
       "6ZHsNfQL19HO5T6efBP35+hQAVY+lxKoiTxahg34/qsAWwFfKgxqr+X1idQKYHedCy45XRr4YA8A\n",
       "aXKmSC1Euv8eBCCFSvCc1/0b+eFHf6N6yPdJ978NoyTUvcdqGsV9uN0i79p5r6MOR2VQ0wuBJyVT\n",
       "hYKOU7k10lfzOlDYh1lYB6OQCrB10B4pUMUuEN/npn93/86faexEIPlmV36ufYxvCiU8muGlfvYp\n",
       "IP+KgBOBD9AzsAqn+blkurzH6M9JXc2vNMxQjvEc1oyG5xzOXMXQjwHf9Z4f21fqu2SfT6H54DmS\n",
       "wdMXQjA0bR+SqOf+0S9HYxqyU99427VQCD7r2tv4rpWthmECL9pvsBCGoIDewwqpZajfo5q0/sox\n",
       "r/dSy2cbR+BaZy2ZwE/rkF2TGUdFsFQ5BNbFGc5EfcFrHMu5GhBLpjCVZ0DwyQ18Ptq9oilY0EeG\n",
       "6dVZi4jW8bjoEy6XFE6WO9yHyhyHHPK64bjywDrnGXbJ26d0yeCb0TWk60U25Hw343S5JdWfAs/7\n",
       "419atKSxIGjny9d/8FoAwJOv/RDSSM3hc08Vh1uMWdOcYXaS9i3HS/6hfKRA1GwejufJBWlcs3CW\n",
       "4QIdpbWaVVmz9YfvLFbGQOP6qqT82Gh2xgSCRZtoKZjlaW3CNLX+KcP7zj2r6dk8Vs0+xLmqNOsE\n",
       "iuy/cW6nH1v4fFQG30+p/8aoaLFIArw+T9T3bMkB9v1OFw2+X3jii/QKyQ4XQZ9GBiFRtnNKwmDp\n",
       "b2/ZXtvXS/HDdM30xx+8Fp9z7Yfs2IrPp2myDMRlZh8buXbe60/mHV+HeLhaXaOSqagXun4NDJ6B\n",
       "zMkACAiMWU4qrmTpBG81o0q1uf26bJ/ELgIp8AJgsnqw6enjZBN9F/s+j/cttMN9NgBpG/hKu0ZF\n",
       "NESY/fM8DOj36tcO4MUYfOl1qlPKQItnse/p4pnPzY/R5yMrLruPNa3g77zhX2/l7m9/94/L9z7i\n",
       "m/MZBgD7ta+99Vr8tes+hBT4Ktj55tTspVHI+aybVEr5wFe7gHCbou3ZpsrDVf2Q/CVAhnalYhCu\n",
       "egVfqZiVNYJqYfYv21X2VI0WIK7rs0wEk6YPNgmg2vdqgdgaTmkQzcBbCQIOCGG2KcfseY0g6t/r\n",
       "NVrO6+IcgzOvHaeTuUTmPjXdt7M+QY7teR2S+fZvMjWniwZfVqQ76Aw8Zx9+sG7SfOkb/88L1j5X\n",
       "DqNGqezvv956LZ563YcAttyGe45jWcxExXzUylbVXHSEuGrRKuQFfNnW8dsIvrEOzPK8A1vWm2V5\n",
       "6L5t4ON81J+jBTIB8OVWgj5zpZEe8DWa464Egs6m7/jQ9XZfLBMrmEHZ8DXLyQp5fuHXkZLiZ7rK\n",
       "gDqcVyntqMMKOcbI0c+c1dLlcl5r591Moqu9tz39/ONfrDtiOt/QNkkVOT/ue15+2Rt/fs9q439+\n",
       "+LdoarPs3HGDm6dfn2ZoMN/WVP0xADG25WVsB5+VUNbzpUgvwUf3AAs9g6VCghmuMv5qUwr4/UeZ\n",
       "e7qlPh486f2VcBDRmN0Sv6FxfJL8LqLYkYa3ffi61eqNYL+gDxjXSbBv5NElw+XHAD7vAyDAFMcH\n",
       "xcbMB2ianwqoJBhb67GNpsD3vf/l+059F818fewjTcpcVuQqE+EDAucRoi1pjDY5O/gMFD9e38+2\n",
       "LmyZlnXxSbn5O/NunbMZ93MTL80a8UxDmXxdDq5zbb1uFXxxLwcLfa/6sjLHks0zs1p9Y2Ddzk6S\n",
       "Ahm+ntStBHkCfV+8um7aciqAUe4eMhGlugZlahopv4aqQkfTNFedg8rJevirDHj62AhMH2KA2swW\n",
       "AHNb7kG0X+mimO+nP/1r9VRoyRxQd20Z+CNz5lK21P6Oh77E4DZoMq0d8fTrb98z8+Vjz05fH53K\n",
       "h58mHQpLxhfJ+km5gLLQIZ7ZsrADR6iMlMqFoZDvcD+rOzFZLc6PW10EmKRFXn92znKCJftN0vC2\n",
       "268tzLSW+FzzZ6T5JHRok7erzKhZsQTqIPpwjGRFZSxvOV1NwUyY9VJ0U7O/lwH4Fze+7GiZz1mv\n",
       "V1EiCCeiMdsdmkuKvvJNP3NJFeZZ8dlJKfzOWq+55X54+vUfAYJpt4kCmY8YTJkt+atcDHvEAMl+\n",
       "9pSJX8DmarmXoPiay0osrxukrqTlnFPrm2Hto2cR/hTCreX159aZUO13RjfTB7Q3shJLYSx//O7M\n",
       "V8AkQ90rmII5i9ma+ZzJAVLKmvd2KyF+B7CSefOevM19+noHBTzgYsEHXzGMCLIoFJNVfO8cev5U\n",
       "Ai8gbQbuyH78NbfcF8+4/qPjQviVlMIYft3wxlzOmiAhGBbNDdTgDgvS8lmFIOlwu0KPK+Bbz4hQ\n",
       "ECzMlkWU28olaFGaXqKbk748rEFjEXN/ZzsiAuoA9e3SRwfDLQrmXa+bg4+fYdbTI4/9muBiO9Y0\n",
       "7YYAVpiMozk6yo8r8pH5VoCIBN98QEMMni7qHUdlblxUts4s8L9/8OZXXrK2+N9vfLl0oDvg/T6m\n",
       "udb+wJ3Mf0J/qJ86tsPvQQ+Iry0Pi8vhss5TR5XSjtDSulJ3EqLleQpIaJaFrX0wPKsiaNw32R7o\n",
       "0N/cVvte1ryNfVwih3m/xve1v3gvAmp5Db6qYEu7tjx3nhKW+21ipU61fW0sU/M5HES6SObrOq2s\n",
       "ajD9ySbHfjiozH6sfYrmszx/cMt98MwbPkY14CTDLzIRCzU4W9S4aM8ylmtBGV3xqc73wMh8EuFx\n",
       "KfeHqg+18He2CkJtIwdTxlxhbrqpLoA2Sd8diB3PRMXG+ToIJqgNR9gLIksfKN+lBEui+wqQs7+8\n",
       "rUptcRB7J7iyARI03J896JdM1QN0Uu9XlIhd5/diRWjlzHpwwRbgIsD3o4/9Bt3xSIFbbahmi/fx\n",
       "i/dhN99ZU+xHsxPjMb3QIGjWjhdrps+T+VxAMeRZE2aOW3KerRixkwXKgxCtLV9isQbGQRM+R3mH\n",
       "gItPMI4ZPWYlu/BPUReN1QdxrT3y9K2l7N3CPeF37UUNAEQHPQdUxM5VBYtsI/va1sGxSJbKZX8N\n",
       "GJQ0KuN5vsqiqQyDORX4sZsPxt8DLgJ83d6vNnCPhvHKhfNHvy4mlaDLecDnv3/v5mvw1x9wOgso\n",
       "FUmfLTXtynIYMfj5/WIssI4phSBVHi2gqFy5BExhx0HwxnmZKYAafmqUz1nMmWPBdxCZ6kF4Y8rW\n",
       "isYavmC/2i0m/BNEFX/+4WtL944TC8frWHGxmcstWfXV7EtR8FotBmaw9ClZcctqmW69dQtLC/O1\n",
       "TpoHMrDOac/gc9PDhxScQQRa3tTwdW99xb5oih+7+WXyDTe8NLCxeDiD5gKAV990Db7gAWe2lLg0\n",
       "Excb6A7nQXnAx0ngeU4rR0Bd2PO6vXVLEeqxftaGtbxe9zEq28GkUd8cC9So7mTC769cC04TN+cq\n",
       "QDcE7GydxP8VXNwjCAWd58nM9LoPk8WhXncE88VxO9Gob1QIdCtywvLEC2aBynzHB3zowww+DSkm\n",
       "TZvJdBDcvHjRB4Bqm3vdkp3+001X4wsfcEecWfp8dGZ8yBgFpgoYiTEcCKNm51IYNAzmziJawIKh\n",
       "LutmbvVJGerbhlAm2s0tJxUoDbgj6sPLv8q2kGZ2TtZeF8o0TbnXtrWhmoF5Xss1rsRGv5nN8nKN\n",
       "lRff7aZLX4+v01Ww6fD7FbcenMkJXIzZ2Z9QFxpjvD7ckOLwjW/7yX2tLHcKsNRcFZgaHTz6f5WB\n",
       "AJ/G5CsGuAyxZvafQ3AGLgTFI1qw5flSyv9oyq74OEzFns3Mtny3fa9BafLKzJBonbkKveh+3IMo\n",
       "AuQqFRFMqmgGUp7h4oIrcM5btrH2CcFRsVpXtfO9T1wR5XUR9GKwARR4sXJ0JU4QzzE/fUZMKHiS\n",
       "p6Y40CEGT3sC3/c98pv0iqmPtbjnICIxwO7rvfY7/dStL5MXX/dSXZicgA32C3JWOuJh/ceb7oVn\n",
       "PeCuKCfXq0kyDMu1KxBJDRqFEhABDBrZNHisFgAWaNlD2v6cB3ayzP4UxuN+98J8YHYlZWmA8zG/\n",
       "rnS6UpqsDU1yfM/LFmhsH+G3XWsx1yNN7uzDAs6Fgk2QYSgjQOX1t4MJlt6+tS0ivHwHGJfHVtZh\n",
       "mJzAHsHXbWINIe7AUwtD90556dv+jwOh6NRMpL2RjrIdDPPXfhb2KxXTnLFR53bWuZ50Isoo2tYO\n",
       "Fj+Lr9/CRCGuFExRoMxKWatERmld6aQJ6h6WA4GqV0Pldk1Zw6humnZg+qB6boqlNuMlle7ICs6A\n",
       "pb52JlXjaIrXeo3gABKkeYzYUPl5jwEbfrdeT2M0dcF4Wocdjg/4FLZyPbt0XD56UOlnb3uZ/MP7\n",
       "d/ZTkizWVN0USiZUAL9785X4Gw841+s7CosovWMihWIZq13zvGD5Kystcm7tlmpeAi5kOXAelSZt\n",
       "Hr3NLBZ1lzgnQ2NHQE+SbMBhkU4k3aWY0IMxvMzIDe0Jy128RsAXM2hgMCDvX0WompwoZrUBDPkd\n",
       "5RzS/EQFVDlP9RyZjl2cg1pCNKY9Ml/9q51zIIRX7z92prFe0XidguqDKBLBBQ5a2IG9cLCAVXva\n",
       "cVFlYBEk4DHFCtHKfP3aYXB/8EXrN0IQlbV4HitUXo9U09VNUg/G+MJhjXuYT43aU4u76Jbj4D6S\n",
       "fFCUl01UHc6vuR9xbrjvOA485h3ncTLwWvLrgaY9g6+YcaYh/ex+7uK7lmYmAXS/pBHYfNctDKD8\n",
       "nZuuwBc9cDPIoJtw0Ro/vN7l52EwNotK/jXyCsC4rTqMM0plvlz+kv4dkPX291mArhmrOw6T8HCB\n",
       "V5OHF/jtwd2asBku8CVIijd86L6xXhNgEC4tIY178SC8Zn1pSRZfyUqWzU5lZTgCihruIPLW5KyX\n",
       "5fkxeu5T0n7xw/u/fm9MewJfbh2ek29LEOOAU7fFTbtr+nwMmIxWadGQPu2I9Lv5aeNdZPnzAupv\n",
       "9HPyqwvw2qQDEr7xMN+aBpPd5IPXm4hzW3U7keeGuM5gPHiuAbyMXHO9c5MkL68rQl/tAJODNSO0\n",
       "mIZkPTBD8XMYAQjNZ+3HC8BG0Fq/1PG79bwFdGBZ6qw3H+ScMkp79vl8lrn7e6k9D56g/83tL5MX\n",
       "3vdbrI+1dGaDGvMZCCNPr+Fv37SD5z6wGkqiuU9jlVj2VQaQLBV7fnXJLF0h9LmAxXnKG7xpVdo/\n",
       "yUIsOtwKuVCUmxKbJ+nKzfw47/kiGlaE7+cZ0Wyr8qy5Nk9128z8NBUdYFkDfg4rIKLEv33XaO7N\n",
       "Rr+VCmFwAcuFtvy7g8/3e1HMAOZFTQ4m7Y35kCLhrOfRsOUoz8GkOez/DhwGm0EQUFQQ2hP5rZuA\n",
       "v/mALKts58ePcwSP3xIkQHGszsBYXu/mgd+Dzo94pNubRRr39HqEtaVDj4eJW4dJHCysIAV1LxNh\n",
       "5lOyCNgULXlpjG+ty7Jrlv7vSt5sY+1CwbJL+b7MXoIEE5fX6NmNwwo+ZphbBCKOzqr4tY/86KEI\n",
       "9R7NThpktWEGNzf2exffrXUAjAWUfluXSe1YpXO+/UTj9wqQtrcDK3e0p0caU/gUWJgGABcm3EZx\n",
       "sjimQKyji2w68qGLif9ws5CVUTVLJV5a6sd5KMAsGTI7oZIbLBk7+gqHWbN5wjfkPlLqBuqSsR9H\n",
       "gI1+Gyce2G90TOjZBzD9mQ2/S/QTaUHlSnZFOySTE9gD+P7ZQ16ipyw+3TVhmp2Hw3k9pfbSZUdq\n",
       "Aq45GOHM1822ZghVF7JtwADATj0zXM6zkJWr2GRda4Esfw6+Xxn4p4wuWFvLWqkTva4+WuDLg3wy\n",
       "gfikibBkCCZWP57Z8rrbropyuI0jyC4mMQCXfvj6uZH51kzXeowG3XlShoPPDmxweCYnsAfwua3d\n",
       "Wa+and/z3sOhZwB41cd+TJ53zTfb+xx4CpFmSFy7tlY7GSwI4FU3n8PzbrgyBqeLKTgOJzgwtf7M\n",
       "SCRd6ufXbC0/nqUsj9M1BWTBgMxoK2WZ6i8AcALzLD547qwXLEKMSCtU/AUhAqC5CSoarMftXhOA\n",
       "850bWZCP8xDRaHqGYhLU6KXWtnpvLVYzmIKuk7IzmKemuF/1scOx5IA9gM9pmV/1XAfZDy/NZnam\n",
       "BpPoOOvCPtgu/stgqgIVxW/c/HE874Z7DXXfBpo8H+FxK5uDH1FGlOU/NZlNKA9JX7AoAwXDeWbo\n",
       "qDaJtwK+QjYAWJqjYaU41NiPA5z16LkK0rXQXLni4Fu+GOz8Kf3VelyH78xkPBzEwHTQ8PXMdvHb\n",
       "FDHQh4QYaD1vnWA9q0a84LDSHpivC+4MqQ/k8LGH3z7z4/Lsq7/ejcnUaCbs7O+1hJ61o8EnXVdD\n",
       "ksVxXV+XuYlKQr4mdvH8+JrkLS15vIyMVPJ7ExYqjqf4jPfW4YjjtczfpHpIn8EC0DzduIyPKSbp\n",
       "0wvH8bKxpaWN/nuF5tZ0nRFYRED9shFQKMdcAduvwoAaFwX4KCLc7Mts+WYofuv0jx+qVF+Y+RRl\n",
       "rMf/fuAANhHdS5oNbMRr8X9GOsV++dkJzX7/uw9+DM+/7pN6Phd4L3zVnqQZ9V66a+CxByJgEQUO\n",
       "nw41GaSUlxylOsgBkm3iPY5gJoJFs9a5WZIMRdDgdyjV3jBBBd5rb7tnubTUaNEP9aesndKVY0gQ\n",
       "BnBMeXnEvYALbgEtr/XJFn6iOcsZwn0csFm+tqYRDjjtyezUsbePMCXrqXWq92f18RrlXIBUB9nn\n",
       "wv2r1ocd5zkaGQ+MOsfHDyM/FyBxeJS4xGFeUGZ0jHUYat9bJgk2GcsYpF1SFSzaTvdRswF5q5DJ\n",
       "y9c0D9fwF9Y31tMIujSb1e5N573OQ3X5k/M3OuszntgM5dhBOwKTE7gA+L7xhpfqqSmjQcl8R4fE\n",
       "37vjJ+Xzr/7a0G3Z6ZrcpxOaNAvEKJ3p33/9tg/j7157/xXms09NYdCaIwSu55EqdaNExPdVqFMS\n",
       "Gl/LqnShWbkuyqw499/50pj0oVKVuE/no6N2XMy3MzPVB/Mjr2msXKtupa8Ab2Ecj/pjqdFQp6DB\n",
       "nlsquFCwDj6p5aSazbaFLWDgykAc4ncz2Th2zOfz3NJ46l3/Ix842BW+F0pNFSqd83Kv5WamJbpZ\n",
       "4ZxoO3G5b+iPKGatawrIGGUrwCEzVAydOmIqJG7NLpW0/0oeupT8Uf62MqUlHLeoOx3OXeXo2QXT\n",
       "VTPUo5zQpRHLRnOM74EDODrkpKp51aONqSY0KhzG49CBdIT7xwEXEe36iBx8zLYcyfRynO0csE31\n",
       "UIcYPJ3f7FTyO8Qf7NHbn7Pt6JiRTwOfAbK/0qrRo1U0ceaz39TXbB5VPFXGi6girURAuYZQ4N/Z\n",
       "SQpbsJbPSlckvEKK8A31oEqOpp0DI3SGu3lDe+uMGQIql01lzJqgc9WQ470VQiEvDAjuYCgWRLNi\n",
       "ATtrLcxNHfMgx3/BzJdlzNSXQ+ozAAAZMklEQVQBuXJBocaKv3/H/uw9dDHpgswnqLMLjiLKOabX\n",
       "3vFKecrVX63s43UWzCBLo8fesqvjil+7/a/wgvs+NK5mY2qZBrMzvkrNslTg68eG30FU4iCR1Xxx\n",
       "qwFsnC0nTifLAf7caGaLjw3SPXkidS+rbyMxKbBBN0OnwskVkFG/bVY2E3g0gICoi+wFkMl2S76M\n",
       "yOfAqD626WZld0Hc7Oz5Zj3EaS2Uzgu+cExJix0D7AFwzdWy06FoZDw4K66BUtDZk+cEBrWXY+tp\n",
       "HMQOs0fH/hmkcItQJmuO8B86XrMIDbOTBJEvJtAFiwZT5Xc4gwlNVPausPJ//1bAX6Diby8SLs/M\n",
       "S2dq0dWq5A/WHN6PQVsofZtMZ+00avMoqPcD+/8en44/dcsHYDPUVfKuzMuHcgjpgswHILV9aMmj\n",
       "T93Dm1PolEAmGnVX2MC8uo/Y+bxhxq985O34sk967MLcsgszEShj8NfGPzlvmHAMYi7cK6s1T9nN\n",
       "K6TW7UKyuWDiXkwwGSfDlJsLKqB9dlLoGs1jOcfTq91nt8w6k4mZJXMsOBhXx0H4vCLVhJnWKyBj\n",
       "c3stoNL7mRSO8vie5jFJ4Dng2PZh8L3ujp85Ek7ZCr6vvv9LbYfqnlzbH/R2antNMxpUGj2I7My0\n",
       "+PM4hvxNmwE4AyiZBr2dCK9ENERcTCmXS2tZkp9sHgVLDRIXxYiN/1FpXGW/Hsi3yxKg45tFUwN0\n",
       "dtz9N1+zWU1JxS4adiC2xUS1gFwueByutoAQJd5HZq+MFkS0q4Neyd/LYQJ+sgzKITpKAE2nI/P7\n",
       "05+PIMrpaSv4vBN9acZxYTxPbzrzS/Lp17ww9FlnOzdD0vyMjpcZAJudMxQNv/LRN+HLP+mJWBGZ\n",
       "FRPbA+3rFqQzwjqDruusQrAE8tVyBxYb75+gyQzdLEwWZSbMYIwUsAnohZkiXdFp57od+4xgTNyb\n",
       "TOChqWEg6PJ4KJ9iCRCcIg/DzK9hwKWp6deGDCMj4w5DZ77X3/lzR0Ym28Fnswom2kD1OARbODU0\n",
       "QJo508R80ig65qGXObrdr/XH8csfewO+4prPRmrplIeEG8xUk0GIUjOtDTbzgfF8GeT2rHxoqIvb\n",
       "l5EPVaAlq0JlyhDpTNOYxxR5Z4IEZ7/5Bv010ZNBd8KUTKxprka1dNnKMaUCW9KfquY2GoJgwGhv\n",
       "GA4MuPXvfYgpAefyMEd0/OjS1leE+W5RqUmAf/XB42FyevrL0/9WskNrRNO7mwMz9bPZ+YYEKMJ/\n",
       "WP3TLedVsPXVXHqe62D9rEN+73vF+ue2uqz9Xrnv8tXbCPlfu34237pfO/a0T93KsL2unQdoShcz\n",
       "U50I2OIa/+Nz9kljdMtnzqE1lgT+P/8dZdrKfP4yQp8pcFxTi7hl7Xp+BLBB+Yx6EhNamDl35EZI\n",
       "ZNXOdHpgFz/nArx6DmvMV384o63lG8fpLsR8QtctvU6hvMZgsvQrxW70ujt+Rp567xfp1DkPGbbi\n",
       "8T6npG0rXjR8TT6mXFGrT0QyYaznnYLktJiQHv+nwujmaHcwEripNhoaZml485lfPlLBPq/PFxvL\n",
       "enjsGKaGuZsPEdVSc84HMCqDT9HUAdu1+i9+7D/j733SMwc6wAIFq+BzAdoCSl5hzUUuinEAr+Rj\n",
       "k7SufKDrdQCOgvZ/yeMOgoCapPkI2GRq9KDH99kE+tfd8TPylHt/jU4Q7GAHQB8HBAQ7pKZ6iVVe\n",
       "zis5auApwSsCE3VsPk+YQlUDGEPQ85k1I0vw9VU6RzO8wOn84Bse9HFM7z79/8hDr/kirYaMfVdi\n",
       "OpnzkWgfEwSMAbXnXd2ffzgW3cHytXIds5d/RvCK8ozldmsDCTIva5BNZsm4hxBbc16p13Fghsf3\n",
       "+m8p+Tjtyi52tEOtvy7ONm6iYIvXhn8vwVc7jv/nRFADs51/T3bbBr7kxGY+nsvGW8786pGzySr4\n",
       "XnCfb9Ed6cEWaBeGX7r9ePl7nDqQfHihWZ3TSwAA1bk+FCX/TzvP7+XlGEUXnSd/YFMH8I3lOHgk\n",
       "87quZ8ZaANXYqsw+ovNjneO7A0uG35ZRVsrz9KdnfkGedPVXqqpiwoRJJmNXGwUkhcTX9uGJPMnL\n",
       "kKNtwow5wokBVsHnXZhKlr08hBXEPt5R+3qeVgMu/h5rX0B5PKq6Pd14+vekD7jP5gPOaNjY34ym\n",
       "mzyuM1QzXwflBk03+MWP/ma8oab8YfhbyzP86bbr+Zie5/hKHRSIWUeLe9GxeVs9tv2t1kFWn/uf\n",
       "nflFmWUD/zfLjBkzNpij51v07kxPRGPpTj6pGbNyfo0nN5uh2I9x2Xat2DFpdpb+ydzPS9Zihh/b\n",
       "YJbdA5bIvaVV5usRJQC0mvm4p6ZuRvJQwpy+kTFf9/88ZJAs2K/Y4F9/9P/CV97ny+wiFJ8NWPH5\n",
       "tvnDdIGzSbCUm4tDueO1cZv/r72rfbHtKu+/Z8+5b5kZNdFgU0LT4gsqQbCioi2UFtpSsB9CoVD8\n",
       "0KKgIL78K0YDIoIUREHUQAKRGAIp9Yu2ja0YYmOtiSEx6jU3994zZ+7MnH3244e1nre197l35t6Z\n",
       "Oftc1+8y95x99tr77H32+q3ndT2ruIbycYgE9aqpT4r20jc/1pDzOWQrEgGfe3l4wnSLFg1toEOH\n",
       "hht0+eiGkryUfyKNOkh+TE5ScKl//d+ukIpOmfT/+/l3jM7lrJs/U9oymc3XYYH/nz42Ci1ukHyd\n",
       "e8rEwMNXTq9Q0s0iqZ4MTS1izd5MULUzO2W8Ac5Jbe24xd7By/Qvb/qsf7IAYucNfX9wXHKdqlQ7\n",
       "gwOEEZanXmZf8yC9A/pFk9yrszNl8PCk7KmshZOmxAEdYMITNNhAR132gfp4cANbt1FUTXcRnmCE\n",
       "QFRJtNaSgGVScXasde4CmaL6KeRD2Babv73BL3l6GFY7pWsywggzZlyc/QeJuilqJYuKqWpnUi+9\n",
       "esrcajvO0vNff/sgJRXMVKW+ysnhfV+946C2B7XRqYk8eO54/qBWonh/GLWy+GPYq1zPYuB8y/B/\n",
       "00doTnMsKP2urSidlNTAFi1akm17FRXVq4EddVEt9Gor+c8L9RFepZR3rambWcXsqM1KcYsF5nhh\n",
       "+sRoBMkSyWdD9CpnrR8VHS8A9mpnlnxe0mm8SOJ8izxCd9if/0pvNs54iO7zoThfcoJEiZd2yKIy\n",
       "nI8j/SyeZ1gFQ/kEnEoaQghOWsj1AAPqZ+lUoeIciMcvw8+mj9Jbtj/MGzQB5fmTknqd/oU65/Yd\n",
       "8GqnSMSoatpP2Ll2oh1k7cXlrKVwgmQ1uVxeJwVlsB0Tlth8NiqOLqnzOnht90f0hgv36yOwfEDv\n",
       "AVNLQD2eYPOKCgIxemqP32HvB4PvcqxTCT2BAO/9iwSMWijD14dZFmvsXUJByh7H/QFk3/nFX9/Y\n",
       "u51UOMIGJQeNkE/S0KwshlFQ6xW7Cxj6PbXqgEuultbpiXbqF9Un6tLIPPn835iwlHwy+XCdJB8A\n",
       "dNyCAGgZifwA07SihcvcSTaiOFu4mFD5tUsP0j/d+Rn5EWwMkg5e2GfSsQaYpZkjMjKLW91LKT2V\n",
       "SE+VQkXntJSQIBVK4jGgU41ClkshHf3nXiIeBs9PH6c/3v5bBs6kDBkAQHLAaMUDcvJPKgC4c5CS\n",
       "TDZscEyEcr+LTuNyEUAyMorUswHX0gc7XuCVne+NqjMPq53whvL6SD4AuLr3v7R9/m0s9htkFGS4\n",
       "WB+UdBDyDagkutgGi/pXkKiUUkskX0+ZZAtLC5X6KmhxnBLDS0n5TBKbHXF1hrjVeQkLosBUToIR\n",
       "r3MkPAxemH6X/mj7r3kjd6Uk/xolnamicKNB+evJj5RlWb6X0tMJgvqy/fDjJZ0WysophaLdtDg4\n",
       "/E2dEq5DvoQnpiez1vpJossOFyhJpLaLr1ncGQHRYd5e7t1nsPuyRArTYJzsUZtvUCzGmQXScYTS\n",
       "SkB/Sgzb28WZ82ccOzIigWR2gth4Sr5CAvrlAI6CRY7MGQFtAfGSgL3JwuXdOHsvvcovY3pAVB9N\n",
       "8sVkakm2SAPuxZ0fjK4fL/F2duqtW0fM9n9OEjxn5/UM78P2sPv5m5c/Tx1bRv6QB7Pn+YR4i71H\n",
       "ki3IzDYcxLbes8q2b+i8RVfzXkqZiWAe1uIc3PfOsrvOjoGvHHH2ysvTp6jjFi0O1LMo3mUJvy8k\n",
       "KO/2WTjdQuvSttNXCd/LsfNwjHo5Oe/n/AfbXvD4pB6wRPItkGo8H177Hx86XsBP8vEOmCRhJAjf\n",
       "YdHNlt7ot698gR54/aedISeeDa80DqmdTr/KUItHz8Ym97gnA6x9fokOBmtjxZ9srQURoyo9s1Rr\n",
       "3PF6XJCMNzfgtrwPwgQNbYDQOFmc1dCgJjeF3ItKaIIqkHqf7ump1zrFBbPCyWYPJnUz/b06++Eo\n",
       "O3KPfB/c/ChvLJ/mtzY4mL9CZyZ351l24tX0vs4OKfB+Yw+YlM3rM8x3KC7qeDqdzr31SHYXozjC\n",
       "tfeVNH1R2dwh1XYyApMjnth50E1y2h4XqjJCGOKo+M3sB3T35vsYmGTyNZakTTHNunG/uZGr9C4Y\n",
       "kcRL5K9V1VKW935wTbNWJJltrOiRTzLFOwD/PvvyKEeMw2LeXqQzkzvZZjc48nEiX8f7N7zHR68+\n",
       "RH//uk8VsYQBm6W/eEPxWVgUGWZ35VO7UvTSwvO5Vx9zgNTkp1MUc+tkHYZwB+6jch7hUXFx9p/0\n",
       "xs33coONnOXSQB1A7kql4KA8E19h291IHkNYL9SHGzQE4SSe9N5sOAHocHn3mdH24R75krLJvXFo\n",
       "XTFvX6NJs8VD5ONDEE9gnk/kh84Ia52HKtV5xBZB40SiHVFuwzpaT/INPwv1YnrCakeW85tY85Nn\n",
       "vRdUJSXoyM6WEq/Onqa7Nv+U0wpITSZh9qIGVTTfGZvCrPcEUTBYN0wrcA4XjuRLbSy0cPXaT0ZL\n",
       "PGCQfHxbkQ8A2m6Hmua8Dp3JJjg40oN5bPoQ/d32J1X0qNRaUh1IYldkHwzodI5cntyyj9kJw14D\n",
       "lVxR8lH40L5fVGeK27ERvvXarefxdjzPSnKT/ySbx2d6umHIxizd78MMHO7dPJkc9rNODUvkG08O\n",
       "5zIMOFyWjbPrja7bI6KznB7S/KY6mAzGmtokDpUQR8h08qzjobYmRgtlEmETCM6F8nqcMI6fOrtP\n",
       "zkt6rnj7evpjkhOXd39Mb7hDMo3km6MCba8crqHvVork8yqmtlFbz0JKO3s/G7XUAwbIt4CvwHh7\n",
       "4ajSroQvOQ4IbTgQUnIareJWUc2ySGvxXY16aqc4ImX/8HVJ15Zv8w3jMaxrQUhbUQn7bW8Nl3ef\n",
       "oddfeBenor6NcxYNqJ7u2thJNIRXaekJ6D7VZAmGJViMG321kzoQE344++roR47TRicky0yQ6aY2\n",
       "xLN2sWCzZEQ1NX8GQNYMIOfNk33iYOWCONbCZKd2a1e4JQplKZprVlaZaH2cuHLtWdo+/3amVHI3\n",
       "f0kYJuQO0/1x9rKLZ9NDBz6RbpCRCRZGSirn7v4v1qLvDth83bE/hNsFT86+SH+5+Qm3hJCRQ95E\n",
       "H6gjWumbKUbu9Jaj6se5eG3epMKuREk6IVVxfVCyuTX3kEmbv4NAeOTqQ8f+6Kd7P6Wtc29hUJO/\n",
       "s3E/CwXGW9gnDkLpE9Eysh6g+bIMX4lu7+Cltem+gXzv3PoHbtCMrjjumPDU7Ev0F1sfZ0Z0SrEs\n",
       "qZw28isKjwsg9phLc3T0Wx7t8nuHHo+3okiPhJl9lMibaq2Is98sxpM0MxaYgzirnpwJ6Jfg1msv\n",
       "7V8DS9KHCxuBgY4l3tdif/7KWvXcQD6rx1hxPXRZLfJODqnnLDqoZq+ogBM7JdPDqaneqinXPxSb\n",
       "DzAfYOGUh6lwvoamyTu/LXaltxOl1Unh2v6LdO7sH5r6mU0bu8byfuyerD6n/Ep+TqYQb7E2dp5H\n",
       "IF9HSeX8yfTblX/XwfdmX6YPbX6MY3ZK6ghWpjUKPaZOCZL25JQrdo0GKOAlo72PMoIcecRJ49ub\n",
       "xPF2ISwbJvpoTgT7B79MGUc0gXk/QwoAhiReujtTR9XZonM1k53XtpfWrs9G8lV779CQzEOCOGEI\n",
       "ukyzjtSW0a+qklfxnPfUSy7riL66ie+YXg21/FByRyOcxbYBxHKB+TKe3Dn52Svz9iIBwJnJ3XoF\n",
       "5G2cZTq1/AJhRnBOM+cO7eLKWnbbSr6bxPdnX6H3b/2z5rMkI65xks9UTArkE7LYnDQG4Gd9K4XE\n",
       "owfAXDheRSwdLn11spSmZRvCyaqcQ5i3F2kyuYuBGHwPt4sBia/kZIAXaBdX17q7FuRb5BLgFYdB\n",
       "p7E8mX7spRVDZl+rDFL3v/oaM0xPFKcIA1kqeHWMlbARFjNrsjpbEs6I2hj5sn3anDL5AKBtL9HG\n",
       "xlZe8U/KTkDJGC1h1m2pLn69mSjrguhw4Q5cXZ2HBhekiHuGBrHg2nNZHUPevWXftkw383K0sDmD\n",
       "AsrFZ4x/2/nSSh76YrFDALCxsc3mnLLrMpmXbDwJ0Yx5psJR0FM7Kw6Pp2dfpfdsfYTVu+nWOfCK\n",
       "p7jV1TlSTLExcA56k1tz3e917cKV+MlHUWokSSdTa5Ojp+nZlqvFYjElAGiaC6JK6P34+N6iO3wi\n",
       "/DqgCDUs1nb2+qpga0KU1pWonlJ6wnkj1c6D6/vmWI+B1hv3N0tTtklIpOSVpUQ6JBVPrhUYA/E8\n",
       "uu7abUWuG0HJ9wdbf8YNNvDLnad+r36AW8WPdr5O92/9o3EpS66kRVntyhTW6ksy45k5Ufzs8wAu\n",
       "28qWTQWK03ZyIkCOKRCn2pqJfuIcqlgVlHxjKyi6TpDlhSUgXkbh4kyGMJmmsMvknS+v5M/jv9WH\n",
       "I7xUdeSjMpLmCxotiqGg4rSh5EuLR1bcDJ6dfovesf2ABO/UpjPKWdghbcdFsobst+vtl/8t2hdf\n",
       "5X8jmh3byGdZQj9dE+hXhiD5qhpy8+hcFgb0nXRyL/ky+TReVdKJ3H45URmLo0HymZD1wfbGvpny\n",
       "NnuaVqwKJvlklZ+Km8JPp4/QW7c/zMzmWlHK6VQhicGRzYQgZDc66c9fzACM9pyFBLPTJkq3Uv75\n",
       "ui2lefnj2Tcq/1aIoHZe2v2f+jBuAR26lMMZyqI776OTdH6fmHNSSqEJ5POJ0aRMjJKvbzmK7Bsi\n",
       "ZsU4YGonV4vvVvHz6Xfovu2/KTTGpAuW9lhMDCtD9Cbh0pLL0bESj4v5KbYakZCvcWf1sY1KxFXD\n",
       "xfkq+Y4DloEv0q9U5X2C2PC+8rOY2VL6Un1x/yGvaBe4KpPGntt5uLJvxXAOl0q+48CL0yfp3q2/\n",
       "itUxmTXOpzYfzBYr+RbUQ7HxyGeO2i4KBY6LlWBVWorq22gMsmL1cDZfjfMdF5LnWJBVvRhRR4jR\n",
       "KTnliD47bPKpkSmdhZ1kYzdFJ6mcwebreU0rVgliZtxx7k94d//5+lSOEfds/XnwS6b//ZoFPr8y\n",
       "bVvtygHyoSQfIDZfaEfSasDhwmn+3PPTx+uzHgEmgIQZKo4TskRZ8lBatS1fa1KJ5DyhPq8lukeG\n",
       "yNe3HrUVS7wwt2eZbFt5NxYQM+Pc2Xt5f42qPq0L7t78QFmRBd6BEsmQcjBTvc9MIU9Gyc/skc/e\n",
       "J82WoopakO+lmrs7GmSbrzpbTgLe9qNs85mlxskm8w5OyQ0tlk9OoYcl5Csn3LItlamq58ByzBWr\n",
       "R1I7q7PlRPDq7L/ors33uDq7vrwS7J16NGHrFoBAzDq5WTyknnwEiSNKXDB7NPXsBOJam2CsIK7z\n",
       "904cd97xbu5LvjIVrIRIMwlHRFXTR/36aqhG2lMV6Lz5m9n3q8o5IgyuTFtxvOBc6LUv+aI6SGrz\n",
       "ATKL3aSg2X+9+Q5Z8iV+m/dTlwSr4+sosf5L0K4BLl97hmQdHauxUv7r8mIfDL/uAHTZKzmui8eA\n",
       "c8n01M6txB7bVAaODlXynRI6XsAXFkyIWmC5OCtLNgp7VbPwboI0sB5XlpU0tqSGXtr976pyjgyV\n",
       "fKeE6d5ztH3+bVomFyxJ0w5hUXdynyE7XsrcTyGd93iahOOsrtbFN8aJSdNc4N+3wjWrAvNC6WFx\n",
       "dVcqQqucuTl45ElYFp7wzpicphYswiQtr+w+W5/vCFG9naeMO87dp0v3WSpY/gBxvkJPypG0FieK\n",
       "FE5qYNRsXHPC1WvPVeKNFFXtPGXs7v+Czp+9N3Oszwv23HL2XNqJQvJBAohpt6awWUyxYryo5FsB\n",
       "9g5eonNn7kkJXz5HWkMGloAG9mvyFQ4aAA2JupllH5cSs2KsqGrnCnH2zJvZAuXRmSKSL+mPQ5Ns\n",
       "0/7GtxNdNntJr+2/WFk4YlTJt0KktL4g+szJqV5KSR1Dr60F4Rt/EBiE/f2XK/FGjir5VozJ5C4e\n",
       "ynRglWbDkk9CCKU6ygAO5r+uxFsD1AyXFaNtL6XsF/aZKD5bJWe5FH8pHCGZL5bVUnPJ1gdV8o0E\n",
       "k43XOeXSraLeWzTFrMEyNZsBzNtXq9RbE1SbbyRoF1dpo9lkJZtkwGg4ou/pNNT5euuIKvlGhqa5\n",
       "4OpLi80ne53kK9LG2rzGXcX6oJJvhGjoXGaYI2AB/8mi263EW0NU8o0YRGdYK1L7aLxNAETX7VXi\n",
       "rSkq+dYEiYgA87yS7TZBJV9FxYpQ43wVFStCJV9FxYrwOxvpZCGfv7AiAAAAAElFTkSuQmCC\n",
       "\" transform=\"translate(73, 12)\"/>\n",
       "</g>\n",
       "<defs>\n",
       "  <clipPath id=\"clip1503\">\n",
       "    <rect x=\"324\" y=\"11\" width=\"13\" height=\"264\"/>\n",
       "  </clipPath>\n",
       "</defs>\n",
       "<g clip-path=\"url(#clip1503)\">\n",
       "<image width=\"12\" height=\"263\" xlink:href=\"data:image/png;base64,\n",
       "iVBORw0KGgoAAAANSUhEUgAAAAwAAAEHCAYAAACaxaeQAAABfUlEQVRoge2aUQ7CMAxDU9T7n4Jb\n",
       "MhKuwIvkyNDtu9aL43TdtK0rnxXgepDFERE762KCwoKUE070ELQkLjAsKV9Q4Odh1ZsSoGBRASYE\n",
       "9aAvaYKQYsKEaehhYJbUOfBDEXepYRoTcHC/76EhQI9LsaP8SjLsEieg9Q0BzG2iJC5gMcSuXJDA\n",
       "PUBCFS5JLZgoiZ0pAyXx0SjmgZ+iuKTGeBvmcGBJPGk4fAP7oWHasK23BwVBL6BdSrqBHIPzEyQU\n",
       "NA5FP9N+bR0pSb2B9KYt20oJYWcavh1PdClplwxnCb6K/sfw8VnSJ42WTxAGTtHGaLDrTIJ+vDGh\n",
       "caukhIEcqEBvmq1vHSiUwNa3CPr9AAV8NPy2qKVpNWHiUIQCwy4V/Cbi6UFO4MMH26onNO7eaoLh\n",
       "tPLgeA5yAQ3O0QPPAX4y5yUtTFALuOmFc1D/+zNgOuCPNo2S1ATDkjCBB0d/FsKE0hNwDo6madK3\n",
       "h68I6g0U9Ekg5DlwAjctJ0DBB/9N5x30Y1F0AAAAAElFTkSuQmCC\n",
       "\" transform=\"translate(324, 12)\"/>\n",
       "</g>\n",
       "<g clip-path=\"url(#clip1500)\">\n",
       "<text style=\"fill:#000000; fill-opacity:1; font-family:Arial,Helvetica Neue,Helvetica,sans-serif; font-size:12; text-anchor:start;\" transform=\"rotate(0, 342.395, 278.234)\" x=\"342.395\" y=\"278.234\">-</text>\n",
       "</g>\n",
       "<g clip-path=\"url(#clip1500)\">\n",
       "<text style=\"fill:#000000; fill-opacity:1; font-family:Arial,Helvetica Neue,Helvetica,sans-serif; font-size:12; text-anchor:start;\" transform=\"rotate(0, 349.423, 278.234)\" x=\"349.423\" y=\"278.234\">4</text>\n",
       "</g>\n",
       "<g clip-path=\"url(#clip1500)\">\n",
       "<text style=\"fill:#000000; fill-opacity:1; font-family:Arial,Helvetica Neue,Helvetica,sans-serif; font-size:12; text-anchor:start;\" transform=\"rotate(0, 342.395, 245.357)\" x=\"342.395\" y=\"245.357\">-</text>\n",
       "</g>\n",
       "<g clip-path=\"url(#clip1500)\">\n",
       "<text style=\"fill:#000000; fill-opacity:1; font-family:Arial,Helvetica Neue,Helvetica,sans-serif; font-size:12; text-anchor:start;\" transform=\"rotate(0, 349.423, 245.357)\" x=\"349.423\" y=\"245.357\">3</text>\n",
       "</g>\n",
       "<g clip-path=\"url(#clip1500)\">\n",
       "<text style=\"fill:#000000; fill-opacity:1; font-family:Arial,Helvetica Neue,Helvetica,sans-serif; font-size:12; text-anchor:start;\" transform=\"rotate(0, 342.395, 212.481)\" x=\"342.395\" y=\"212.481\">-</text>\n",
       "</g>\n",
       "<g clip-path=\"url(#clip1500)\">\n",
       "<text style=\"fill:#000000; fill-opacity:1; font-family:Arial,Helvetica Neue,Helvetica,sans-serif; font-size:12; text-anchor:start;\" transform=\"rotate(0, 349.423, 212.481)\" x=\"349.423\" y=\"212.481\">2</text>\n",
       "</g>\n",
       "<g clip-path=\"url(#clip1500)\">\n",
       "<text style=\"fill:#000000; fill-opacity:1; font-family:Arial,Helvetica Neue,Helvetica,sans-serif; font-size:12; text-anchor:start;\" transform=\"rotate(0, 342.395, 179.605)\" x=\"342.395\" y=\"179.605\">-</text>\n",
       "</g>\n",
       "<g clip-path=\"url(#clip1500)\">\n",
       "<text style=\"fill:#000000; fill-opacity:1; font-family:Arial,Helvetica Neue,Helvetica,sans-serif; font-size:12; text-anchor:start;\" transform=\"rotate(0, 349.423, 179.605)\" x=\"349.423\" y=\"179.605\">1</text>\n",
       "</g>\n",
       "<g clip-path=\"url(#clip1500)\">\n",
       "<text style=\"fill:#000000; fill-opacity:1; font-family:Arial,Helvetica Neue,Helvetica,sans-serif; font-size:12; text-anchor:start;\" transform=\"rotate(0, 342.395, 146.729)\" x=\"342.395\" y=\"146.729\">0</text>\n",
       "</g>\n",
       "<g clip-path=\"url(#clip1500)\">\n",
       "<text style=\"fill:#000000; fill-opacity:1; font-family:Arial,Helvetica Neue,Helvetica,sans-serif; font-size:12; text-anchor:start;\" transform=\"rotate(0, 342.395, 113.852)\" x=\"342.395\" y=\"113.852\">1</text>\n",
       "</g>\n",
       "<g clip-path=\"url(#clip1500)\">\n",
       "<text style=\"fill:#000000; fill-opacity:1; font-family:Arial,Helvetica Neue,Helvetica,sans-serif; font-size:12; text-anchor:start;\" transform=\"rotate(0, 342.395, 80.9763)\" x=\"342.395\" y=\"80.9763\">2</text>\n",
       "</g>\n",
       "<g clip-path=\"url(#clip1500)\">\n",
       "<text style=\"fill:#000000; fill-opacity:1; font-family:Arial,Helvetica Neue,Helvetica,sans-serif; font-size:12; text-anchor:start;\" transform=\"rotate(0, 342.395, 48.1)\" x=\"342.395\" y=\"48.1\">3</text>\n",
       "</g>\n",
       "<g clip-path=\"url(#clip1500)\">\n",
       "<text style=\"fill:#000000; fill-opacity:1; font-family:Arial,Helvetica Neue,Helvetica,sans-serif; font-size:12; text-anchor:start;\" transform=\"rotate(0, 342.395, 15.2238)\" x=\"342.395\" y=\"15.2238\">4</text>\n",
       "</g>\n",
       "<polyline clip-path=\"url(#clip1500)\" style=\"stroke:#000000; stroke-width:1; stroke-opacity:1; fill:none\" points=\"\n",
       "  336.395,274.821 336.395,274.821 340.395,274.821 336.395,274.821 336.395,241.945 340.395,241.945 336.395,241.945 336.395,209.068 340.395,209.068 336.395,209.068 \n",
       "  336.395,176.192 340.395,176.192 336.395,176.192 336.395,143.316 340.395,143.316 336.395,143.316 336.395,110.44 340.395,110.44 336.395,110.44 336.395,77.5635 \n",
       "  340.395,77.5635 336.395,77.5635 336.395,44.6872 340.395,44.6872 336.395,44.6872 336.395,11.811 340.395,11.811 336.395,11.811 \n",
       "  \"/>\n",
       "</svg>\n"
      ]
     },
     "execution_count": 174,
     "metadata": {},
     "output_type": "execute_result"
    }
   ],
   "source": [
    "x = linspace(-2, 2, 100)\n",
    "y = linspace(-2, 2, 100)\n",
    "f(x,y) = x^3 - 3x + y^3 - 3y\n",
    "surface(x, y, f)"
   ]
  },
  {
   "cell_type": "markdown",
   "metadata": {},
   "source": [
    "## Exercícios\n",
    "\n",
    "1. Crie uma função que resolve $ax^2 + bx + c = 0$ por Bháskara, mas se $\\Delta < 0$, ele retorna as soluções complexas.\n",
    "2. Faça uma função para calcular o máximo dividor comum de dois números inteiros positivos.\n",
    "1. Crie um vetor x aleatório, e crie y = 2x + 3. Crie um plot e depois um scatter de x vs y. Qual a diferença?\n",
    "2. Faça o gráfico de $e^x$ no intervalo [-1,1] em vermelho.\n",
    "3. Faça no mesmo gráfico os gráficos de $1$, $1+x$ e $1+x+0.5x^2$ em azul, com linha pontilhada."
   ]
  }
 ],
 "metadata": {
  "kernelspec": {
   "display_name": "Julia 0.6.3",
   "language": "julia",
   "name": "julia-0.6"
  },
  "language_info": {
   "file_extension": ".jl",
   "mimetype": "application/julia",
   "name": "julia",
   "version": "0.6.3"
  }
 },
 "nbformat": 4,
 "nbformat_minor": 1
}
