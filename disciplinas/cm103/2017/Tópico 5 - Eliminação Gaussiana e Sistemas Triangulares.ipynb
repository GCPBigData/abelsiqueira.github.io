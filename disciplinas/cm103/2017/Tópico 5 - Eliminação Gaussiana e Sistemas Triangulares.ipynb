{
 "cells": [
  {
   "cell_type": "markdown",
   "metadata": {},
   "source": [
    "# Sistemas Lineares\n",
    "\n",
    "Sistemas lineares são extremamentes importantes. Em quase todas aplicações avançadas teremos sistemas lineares.\n",
    "Em muitos casos, esses sistemas serão especiais, de modo que teremos métodos especiais para resolvê-los.\n",
    "Estudaremos aqui, no entanto, a maneira mais geral de resolvê-los. Estudos mais avançados serão feitos em disciplinas posteriores."
   ]
  },
  {
   "cell_type": "markdown",
   "metadata": {},
   "source": [
    "## A barra invertida"
   ]
  },
  {
   "cell_type": "markdown",
   "metadata": {},
   "source": [
    "Em Julia e Matlab/Octave, existe um comando especial e simples para se resolver sistemas lineares: a barra invertida `\\`."
   ]
  },
  {
   "cell_type": "code",
   "execution_count": 1,
   "metadata": {},
   "outputs": [
    {
     "data": {
      "text/plain": [
       "3-element Array{Float64,1}:\n",
       " 1.0\n",
       " 1.0\n",
       " 1.0"
      ]
     },
     "execution_count": 1,
     "metadata": {},
     "output_type": "execute_result"
    }
   ],
   "source": [
    "A = rand(3, 3)\n",
    "b = A * ones(3)\n",
    "# b foi criado para que Ax = b tenha como solução o vetor de uns.\n",
    "x = A\\b"
   ]
  },
  {
   "cell_type": "markdown",
   "metadata": {},
   "source": [
    "A barra invertida facilita grandemente a resolução de sistemas. No entanto, é importante, principalmente para matemáticos industriais, aplicados e computacionais, entender o que acontece na resolução de um sistema. Além disso, também existem vários casos em que o uso da barra invertida será pior que o conhecimento específico sobre o problema."
   ]
  },
  {
   "cell_type": "markdown",
   "metadata": {},
   "source": [
    "## Eliminação Gaussiana\n",
    "\n",
    "O método mais simples de resolução de sistemas lineares é o equivalente ao chamado escalonamento.\n",
    "\n",
    "Relembrando. Dado uma matriz $A$ e um vetor $b$, o escalonamento da matriz aumentada\n",
    "$\\left[\\begin{array}{cc} A & b \\end{array}\\right]$ é o processo de transformar essa matriz em uma matriz com vários zeros montando um tipo de escada. Com mais detalhes, é uma matriz tal que \n",
    "- Todas as linhas começam com um ou mais zeros que a linha de cima, a não que seja toda nula;\n",
    "- Todas as linhas nulas estão abaixo de qualquer linha não toda nula."
   ]
  },
  {
   "cell_type": "markdown",
   "metadata": {},
   "source": [
    "Uma matriz é transformada numa matriz escalonada através de operações elementares nas linhas da matriz. Essa operações são\n",
    "- multiplicar uma linha por um número não-nulo;\n",
    "- trocar duas linhas de posição;\n",
    "- somar à uma linha um múltiplo de outra."
   ]
  },
  {
   "cell_type": "markdown",
   "metadata": {},
   "source": [
    "Se $A$ é uma matriz quadrada e inversível, então é garantido que a matriz aumentada escalonada será da forma\n",
    "$\\left[\\begin{array}{cc}U & c\n",
    "\\end{array}\\right]$,\n",
    "onde $C$ é uma matriz triangular superior com diagonal não nula, isto é\n",
    "$c_{i,j} = 0$ se $i > j$, e $c_{i,i} \\neq 0$. Em outras palavras, a primeira linha é não nula, e cada linha abaixo tem um zero a mais que a anterior."
   ]
  },
  {
   "cell_type": "code",
   "execution_count": 2,
   "metadata": {},
   "outputs": [
    {
     "data": {
      "text/plain": [
       "10×10 Array{Float64,2}:\n",
       " 0.425  0.679  0.013  0.161  0.215  0.944  0.344  0.341  0.619  0.192\n",
       " 0.0    0.835  0.621  0.174  0.391  0.985  0.549  0.804  0.861  0.855\n",
       " 0.0    0.0    0.309  0.249  0.236  0.877  0.467  0.338  0.163  0.382\n",
       " 0.0    0.0    0.0    0.502  0.321  0.004  0.946  0.401  0.285  0.137\n",
       " 0.0    0.0    0.0    0.0    0.201  0.449  0.067  0.446  0.511  0.628\n",
       " 0.0    0.0    0.0    0.0    0.0    0.1    0.588  0.954  0.351  0.872\n",
       " 0.0    0.0    0.0    0.0    0.0    0.0    0.539  0.662  0.537  0.788\n",
       " 0.0    0.0    0.0    0.0    0.0    0.0    0.0    0.627  0.848  0.571\n",
       " 0.0    0.0    0.0    0.0    0.0    0.0    0.0    0.0    0.955  0.014\n",
       " 0.0    0.0    0.0    0.0    0.0    0.0    0.0    0.0    0.0    0.251"
      ]
     },
     "execution_count": 2,
     "metadata": {},
     "output_type": "execute_result"
    }
   ],
   "source": [
    "# Exemplo\n",
    "U = triu(rand(1:999, 10, 10)) / 1000"
   ]
  },
  {
   "cell_type": "markdown",
   "metadata": {},
   "source": [
    "Computacionalmente, vamos fazer as mesmas operações, com exceção da multiplicação de uma linha por um número, por motivos que ficarão claros no futuro.\n",
    "Além disso, o motivo para se mudar as linhas ao fazer essas operações na mão era para facilitar as contas.\n",
    "Computacionalmente, teremos outros objetivos, e só faremos a mudança de linhas quando necessário."
   ]
  },
  {
   "cell_type": "markdown",
   "metadata": {},
   "source": [
    "Portanto, nossa operação principal será a adição de um múltiplo de outra linha a linha atual.\n",
    "Nossa notação será\n",
    "\n",
    "$$ L_j \\leftarrow L_j + \\alpha L_i, $$\n",
    "\n",
    "para dizer que multiplicamos a linha $i$ por $\\alpha$, somamos à linha $j$ e substituímos na linha $j$."
   ]
  },
  {
   "cell_type": "markdown",
   "metadata": {},
   "source": [
    "Vamos exemplificar o processo que já conhecemos."
   ]
  },
  {
   "cell_type": "code",
   "execution_count": 3,
   "metadata": {
    "scrolled": false
   },
   "outputs": [
    {
     "data": {
      "text/plain": [
       "3×3 Array{Float64,2}:\n",
       "  3.0  1.0  2.0\n",
       " -1.0  2.0  1.0\n",
       "  1.0  1.0  4.0"
      ]
     },
     "execution_count": 3,
     "metadata": {},
     "output_type": "execute_result"
    }
   ],
   "source": [
    "A = [3.0 1 2; -1 2 1; 1 1 4]"
   ]
  },
  {
   "cell_type": "code",
   "execution_count": 4,
   "metadata": {},
   "outputs": [
    {
     "data": {
      "text/plain": [
       "3-element Array{Float64,1}:\n",
       " 6.0\n",
       " 2.0\n",
       " 6.0"
      ]
     },
     "execution_count": 4,
     "metadata": {},
     "output_type": "execute_result"
    }
   ],
   "source": [
    "b = [6.0; 2; 6]"
   ]
  },
  {
   "cell_type": "code",
   "execution_count": 5,
   "metadata": {},
   "outputs": [
    {
     "data": {
      "text/plain": [
       "-0.3333333333333333"
      ]
     },
     "execution_count": 5,
     "metadata": {},
     "output_type": "execute_result"
    }
   ],
   "source": [
    "m21 = A[2,1] / A[1,1]"
   ]
  },
  {
   "cell_type": "code",
   "execution_count": 6,
   "metadata": {},
   "outputs": [
    {
     "data": {
      "text/plain": [
       "4.0"
      ]
     },
     "execution_count": 6,
     "metadata": {},
     "output_type": "execute_result"
    }
   ],
   "source": [
    "# Li = B[i,:]\n",
    "# L₂ ← L₂ - m₂₁L₁\n",
    "A[2,:] = A[2,:] - m21 * A[1,:]\n",
    "b[2] = b[2] - m21 * b[1]"
   ]
  },
  {
   "cell_type": "markdown",
   "metadata": {},
   "source": [
    "Note que A[2,1] é zero agora"
   ]
  },
  {
   "cell_type": "code",
   "execution_count": 7,
   "metadata": {},
   "outputs": [
    {
     "data": {
      "text/plain": [
       "3×4 Array{Float64,2}:\n",
       " 3.0  1.0      2.0      6.0\n",
       " 0.0  2.33333  1.66667  4.0\n",
       " 1.0  1.0      4.0      6.0"
      ]
     },
     "execution_count": 7,
     "metadata": {},
     "output_type": "execute_result"
    }
   ],
   "source": [
    "[A b]"
   ]
  },
  {
   "cell_type": "code",
   "execution_count": 8,
   "metadata": {
    "scrolled": true
   },
   "outputs": [
    {
     "data": {
      "text/plain": [
       "4.0"
      ]
     },
     "execution_count": 8,
     "metadata": {},
     "output_type": "execute_result"
    }
   ],
   "source": [
    "# L₃ ← L₃ - m₃₁L₁\n",
    "m31 = A[3,1]/A[1,1]\n",
    "A[3,:] = A[3,:] - m31*A[1,:]\n",
    "b[3] = b[3] - m31*b[1]"
   ]
  },
  {
   "cell_type": "code",
   "execution_count": 9,
   "metadata": {},
   "outputs": [
    {
     "data": {
      "text/plain": [
       "3×4 Array{Float64,2}:\n",
       " 3.0  1.0       2.0      6.0\n",
       " 0.0  2.33333   1.66667  4.0\n",
       " 0.0  0.666667  3.33333  4.0"
      ]
     },
     "execution_count": 9,
     "metadata": {},
     "output_type": "execute_result"
    }
   ],
   "source": [
    "[A b]"
   ]
  },
  {
   "cell_type": "code",
   "execution_count": 10,
   "metadata": {},
   "outputs": [
    {
     "data": {
      "text/plain": [
       "2.8571428571428568"
      ]
     },
     "execution_count": 10,
     "metadata": {},
     "output_type": "execute_result"
    }
   ],
   "source": [
    "# L₃ ← L₃ - m₃₂L₂\n",
    "m32 = A[3,2]/A[2,2]\n",
    "A[3,:] = A[3,:] - m32*A[2,:]\n",
    "b[3] = b[3] - m32*b[2]"
   ]
  },
  {
   "cell_type": "code",
   "execution_count": 11,
   "metadata": {},
   "outputs": [
    {
     "data": {
      "text/plain": [
       "3×4 Array{Float64,2}:\n",
       " 3.0   1.0          2.0      6.0    \n",
       " 0.0   2.33333      1.66667  4.0    \n",
       " 0.0  -1.11022e-16  2.85714  2.85714"
      ]
     },
     "execution_count": 11,
     "metadata": {},
     "output_type": "execute_result"
    }
   ],
   "source": [
    "[A b]"
   ]
  },
  {
   "cell_type": "markdown",
   "metadata": {},
   "source": [
    "Agora podemos resolver esse sistema triangular superior facilmente.\n",
    "Note que, tirando o erro numérico em `A[3,2]`, temos"
   ]
  },
  {
   "cell_type": "markdown",
   "metadata": {},
   "source": [
    "\\begin{align}\n",
    "a_{11} x_1 + a_{12} x_2 + a_{13} & = b_1 \\\\\n",
    "a_{22} x_2 + a_{23} x_3 & = b_2 \\\\\n",
    "a_{33} x_3 & = b_3.\n",
    "\\end{align}"
   ]
  },
  {
   "cell_type": "markdown",
   "metadata": {},
   "source": [
    "Assim, resolvemos esse sistema fazendo"
   ]
  },
  {
   "cell_type": "markdown",
   "metadata": {},
   "source": [
    "\\begin{align}\n",
    "x_3 & = \\frac{b_3}{a_{33}} \\\\\n",
    "x_2 & = \\frac{b_2 - a_{23}x_3}{a_{22}} \\\\\n",
    "x_1 & = \\frac{b_1 - a_{13}x_3 - a_{12}x_2}{a_{11}}.\n",
    "\\end{align}"
   ]
  },
  {
   "cell_type": "code",
   "execution_count": 12,
   "metadata": {},
   "outputs": [
    {
     "data": {
      "text/plain": [
       "3-element Array{Float64,1}:\n",
       " 1.0\n",
       " 1.0\n",
       " 1.0"
      ]
     },
     "execution_count": 12,
     "metadata": {},
     "output_type": "execute_result"
    }
   ],
   "source": [
    "x = zeros(3)\n",
    "x[3] = b[3] / A[3,3]\n",
    "x[2] = (b[2] - A[2,3] * x[3]) / A[2,2]\n",
    "x[1] = (b[1] - A[1,3] * x[3] - A[1,2] * x[2]) / A[1,1]\n",
    "x"
   ]
  },
  {
   "cell_type": "markdown",
   "metadata": {},
   "source": [
    "O processo todo pode ser separado em duas partes:\n",
    "- A redução à matriz triangular superior, que chamamos de **Eliminação Gaussiana**; e\n",
    "- A resolução do sistema triangular superior."
   ]
  },
  {
   "cell_type": "markdown",
   "metadata": {},
   "source": [
    "O seguinte algoritmo descreve o processo"
   ]
  },
  {
   "cell_type": "code",
   "execution_count": 13,
   "metadata": {},
   "outputs": [],
   "source": [
    "#=\n",
    "Entrada: matriz A: n×n e vetor b: n\n",
    "1. Para j de 1 a n-1\n",
    "    1. Para i de j+1 a n\n",
    "        1. Calcule mᵢⱼ = aᵢⱼ/aⱼⱼ\n",
    "        2. Faça Lᵢ ← Lᵢ - mᵢⱼLⱼ\n",
    "        3. Faça bᵢ ← bᵢ - mᵢⱼbⱼ\n",
    "Saída: A triangular superior e \n",
    "       b com modificações correspondentes.\n",
    "=#"
   ]
  },
  {
   "cell_type": "markdown",
   "metadata": {},
   "source": [
    "Note que para ser bem definido, esse algoritmo precisa que $a_{jj} \\neq 0$. Existe um teorema indicando as condições para isso. Antes, definimos $A_{kk}$ como a submatriz de $A$ das linhas 1 a $k$ e colunas 1 a $k$.\n",
    "Em Julia seria a matriz `A[1:k,1:k]`."
   ]
  },
  {
   "cell_type": "markdown",
   "metadata": {},
   "source": [
    "**Teorema:** Se $\\det(A_{kk}) \\neq 0$ para todo $k = 1,\\dots,n-1$, então o método de Eliminação Gaussiana como descrito acima está bem definida, isto é, roda todas as iterações até encontrar uma matriz triangular superior.\n",
    "Se, além disso, $\\det(A) \\neq 0$, então a diagonal é não-nula. Caso contrário, o último elemento da diagonal será 0."
   ]
  },
  {
   "cell_type": "markdown",
   "metadata": {},
   "source": [
    "Como isso nem sempre será possível, vamos colocar essa condição para falha no algoritmo. Se o elemento da diagonal for muito próximo de zero, retornaremos um erro."
   ]
  },
  {
   "cell_type": "code",
   "execution_count": 14,
   "metadata": {},
   "outputs": [
    {
     "data": {
      "text/plain": [
       "elim_gauss (generic function with 1 method)"
      ]
     },
     "execution_count": 14,
     "metadata": {},
     "output_type": "execute_result"
    }
   ],
   "source": [
    "function elim_gauss(A::Matrix, b::Vector; diagtol = 1e-12)\n",
    "    n = length(b)\n",
    "    for j = 1:n-1\n",
    "        ajj, bj = A[j,j], b[j]\n",
    "        if abs(ajj) <= diagtol\n",
    "            error(\"Diagonal muito próxima de 0\")\n",
    "        end\n",
    "        # Implemente\n",
    "    end\n",
    "    return A, b\n",
    "end"
   ]
  },
  {
   "cell_type": "code",
   "execution_count": 15,
   "metadata": {},
   "outputs": [
    {
     "data": {
      "text/plain": [
       "([3.0 1.0 2.0; -1.0 2.0 1.0; 1.0 1.0 4.0], [6.0, 2.0, 6.0])"
      ]
     },
     "execution_count": 15,
     "metadata": {},
     "output_type": "execute_result"
    }
   ],
   "source": [
    "A = [3.0 1 2; -1 2 1; 1 1 4]\n",
    "b = [6.0;2;6]\n",
    "elim_gauss(A, b)"
   ]
  },
  {
   "cell_type": "markdown",
   "metadata": {},
   "source": [
    "Agora para o algoritmo de resolução do sistema triangular superior."
   ]
  },
  {
   "cell_type": "code",
   "execution_count": 16,
   "metadata": {},
   "outputs": [],
   "source": [
    "#=\n",
    "Entrada: A: n×n triangular superior com diagonal não-nula\n",
    "         b: n\n",
    "1. Crie o vetor x nulo\n",
    "2. Para i de n à 1\n",
    "    1. s ← bᵢ\n",
    "    2. Para j de i+1 à n\n",
    "        1. s ← s - aᵢⱼxⱼ\n",
    "    3. xᵢ = s/aᵢᵢ\n",
    "\n",
    "Saída: x: solução de Ax = b\n",
    "=#"
   ]
  },
  {
   "cell_type": "code",
   "execution_count": 17,
   "metadata": {},
   "outputs": [
    {
     "data": {
      "text/plain": [
       "sist_tri_sup (generic function with 1 method)"
      ]
     },
     "execution_count": 17,
     "metadata": {},
     "output_type": "execute_result"
    }
   ],
   "source": [
    "function sist_tri_sup(A, b)\n",
    "    # Implemente\n",
    "end"
   ]
  },
  {
   "cell_type": "code",
   "execution_count": 18,
   "metadata": {},
   "outputs": [],
   "source": [
    "A = [3.0 1 2; -1 2 1; 1 1 4]\n",
    "b = [6.0;2;6]\n",
    "elim_gauss(A, b)\n",
    "sist_tri_sup(A, b)"
   ]
  },
  {
   "cell_type": "markdown",
   "metadata": {},
   "source": [
    "## Pontos importantes\n",
    "\n",
    "- $A$ foi perdida. Ela é irrecuperável (sem os valores de $m_{i,j})$. Para prevenir isso, podemos\n",
    "    - Sol. 1: Não \"usar\" $A$, i.e., copiar para outra matriz\n",
    "    - Sol. 2: Guardar $m_{i,j}$.\n",
    "    - Sol. 3: Ambos\n",
    "- A eliminação do elemento $a_{i,j}$ faz contas desnecessárias com 0.0 (antes da coluna $j$).\n",
    "- $m_{i,j}$ foi calculado com o objetivo de transformar\n",
    "$a_{i,j}$ em 0.0. Então não é necessário calcular a atualização de $a_{i,j}$. (Basta fazer `A[i,j] = 0.0`).\n",
    "Sem falar que o resultado pode não ser exatamente 0.0, e\n",
    "ficar sujando as contas.\n",
    "- A matriz resultante tem muitos zeros, i.e., gasto de memória a toa.\n",
    "    - Sol.: Guardar a matriz de um jeito diferente;\n",
    "    - Sol.: Usar esse espaço vazio.\n",
    "- `A[i,:]` cria um vetor temporario, então\n",
    "$L_i \\leftarrow L_i - m_{i,j}L_j$ tem um gasto de memória desnecessário.\n",
    "    - Nesta disciplina, vamos ignorar esse fato, sempre que não afetar demais;\n",
    "    - A maneira tradicional de resolver esse problema é usar `for`;\n",
    "    - O Julia permite alguns comandos que fazem isso automático pra você."
   ]
  },
  {
   "cell_type": "markdown",
   "metadata": {},
   "source": [
    "Uma melhoria no método, que zera os elementos que deveriam ser zerados e restringe as contas feitas, está abaixo."
   ]
  },
  {
   "cell_type": "code",
   "execution_count": 19,
   "metadata": {},
   "outputs": [
    {
     "data": {
      "text/plain": [
       "elim_gauss (generic function with 1 method)"
      ]
     },
     "execution_count": 19,
     "metadata": {},
     "output_type": "execute_result"
    }
   ],
   "source": [
    "function elim_gauss(A::Matrix, b::Vector; diagtol = 1e-12)\n",
    "    n = length(b)\n",
    "    for j = 1:n-1\n",
    "        ajj, bj = A[j,j], b[j]\n",
    "        if abs(ajj) <= diagtol\n",
    "            error(\"Diagonal muito próxima de 0\")\n",
    "        end\n",
    "        for i = j+1:n\n",
    "            mij = A[i,j] / ajj\n",
    "            A[i,j] = 0.0\n",
    "            A[i,j+1:n] -= mij * A[j,j+1:n]\n",
    "            b[i] -= mij * bj\n",
    "        end\n",
    "    end\n",
    "    return A, b\n",
    "end"
   ]
  },
  {
   "cell_type": "code",
   "execution_count": 20,
   "metadata": {},
   "outputs": [
    {
     "data": {
      "text/plain": [
       "3×3 Array{Float64,2}:\n",
       " 3.0  1.0      2.0    \n",
       " 0.0  2.33333  1.66667\n",
       " 0.0  0.0      2.85714"
      ]
     },
     "execution_count": 20,
     "metadata": {},
     "output_type": "execute_result"
    }
   ],
   "source": [
    "A = [3.0 1 2; -1 2 1; 1 1 4]\n",
    "b = [6.0;2;6]\n",
    "elim_gauss(A, b)\n",
    "A"
   ]
  },
  {
   "cell_type": "markdown",
   "metadata": {},
   "source": [
    "## Pivoteamento"
   ]
  },
  {
   "cell_type": "markdown",
   "metadata": {},
   "source": [
    "Pivoteamento é o nome dado à troca de linhas no processo de eliminação Gaussiana.\n",
    "Às vezes podemos fazer troca de colunas também, e para diferenciar costuma-se dizer\n",
    "eliminação Gaussiana com pivoteamento parcial."
   ]
  },
  {
   "cell_type": "markdown",
   "metadata": {},
   "source": [
    "O primeiro motivo pelo qual o pivoteamento é importante é o zero na diagonal."
   ]
  },
  {
   "cell_type": "code",
   "execution_count": 21,
   "metadata": {},
   "outputs": [
    {
     "data": {
      "text/plain": [
       "2×2 Array{Int64,2}:\n",
       " 0  1\n",
       " 1  0"
      ]
     },
     "execution_count": 21,
     "metadata": {},
     "output_type": "execute_result"
    }
   ],
   "source": [
    "A = [0 1; 1 0]"
   ]
  },
  {
   "cell_type": "markdown",
   "metadata": {},
   "source": [
    "Essa matriz, apesar de trivial, não passa no teste da nossa função de eliminação Gaussiana.\n",
    "Além disso, existem outros problemas."
   ]
  },
  {
   "cell_type": "code",
   "execution_count": 22,
   "metadata": {},
   "outputs": [
    {
     "data": {
      "text/plain": [
       "([1.0e-12 100.0; 0.0 -1.0e14], [100.0, -1.0e14])"
      ]
     },
     "execution_count": 22,
     "metadata": {},
     "output_type": "execute_result"
    }
   ],
   "source": [
    "ϵ = 1e-12\n",
    "A = [ϵ 100; 1.0 ϵ]\n",
    "B = copy(A)\n",
    "b = A * ones(2)\n",
    "elim_gauss(A, b, diagtol=0.0)"
   ]
  },
  {
   "cell_type": "code",
   "execution_count": 23,
   "metadata": {},
   "outputs": [
    {
     "ename": "LoadError",
     "evalue": "\u001b[91mMethodError: no method matching -(::Void, ::Array{Float64,1})\u001b[0m\nClosest candidates are:\n  -(\u001b[91m::SparseMatrixCSC\u001b[39m, ::Array) at sparse/sparsematrix.jl:1463\n  -(\u001b[91m::AbstractSparseArray{Tv,Ti,1} where Ti where Tv\u001b[39m, ::Union{Base.ReshapedArray{T,1,A,MI} where MI<:Tuple{Vararg{Base.MultiplicativeInverses.SignedMultiplicativeInverse{Int64},N} where N} where A<:DenseArray, DenseArray{T,1}, SubArray{T,1,A,I,L} where L} where I<:Tuple{Vararg{Union{Base.AbstractCartesianIndex, Int64, Range{Int64}},N} where N} where A<:Union{Base.ReshapedArray{T,N,A,MI} where MI<:Tuple{Vararg{Base.MultiplicativeInverses.SignedMultiplicativeInverse{Int64},N} where N} where A<:DenseArray where N where T, DenseArray} where T) at sparse/sparsevector.jl:1334\n  -(\u001b[91m::AbstractArray\u001b[39m, ::AbstractArray) at arraymath.jl:37\n  ...\u001b[39m",
     "output_type": "error",
     "traceback": [
      "\u001b[91mMethodError: no method matching -(::Void, ::Array{Float64,1})\u001b[0m\nClosest candidates are:\n  -(\u001b[91m::SparseMatrixCSC\u001b[39m, ::Array) at sparse/sparsematrix.jl:1463\n  -(\u001b[91m::AbstractSparseArray{Tv,Ti,1} where Ti where Tv\u001b[39m, ::Union{Base.ReshapedArray{T,1,A,MI} where MI<:Tuple{Vararg{Base.MultiplicativeInverses.SignedMultiplicativeInverse{Int64},N} where N} where A<:DenseArray, DenseArray{T,1}, SubArray{T,1,A,I,L} where L} where I<:Tuple{Vararg{Union{Base.AbstractCartesianIndex, Int64, Range{Int64}},N} where N} where A<:Union{Base.ReshapedArray{T,N,A,MI} where MI<:Tuple{Vararg{Base.MultiplicativeInverses.SignedMultiplicativeInverse{Int64},N} where N} where A<:DenseArray where N where T, DenseArray} where T) at sparse/sparsevector.jl:1334\n  -(\u001b[91m::AbstractArray\u001b[39m, ::AbstractArray) at arraymath.jl:37\n  ...\u001b[39m",
      "",
      "Stacktrace:",
      " [1] \u001b[1minclude_string\u001b[22m\u001b[22m\u001b[1m(\u001b[22m\u001b[22m::String, ::String\u001b[1m)\u001b[22m\u001b[22m at \u001b[1m./loading.jl:515\u001b[22m\u001b[22m"
     ]
    }
   ],
   "source": [
    "x = sist_tri_sup(A, b)\n",
    "x - ones(2)"
   ]
  },
  {
   "cell_type": "code",
   "execution_count": 24,
   "metadata": {},
   "outputs": [
    {
     "ename": "LoadError",
     "evalue": "\u001b[91mMethodError: no method matching -(::Void, ::Array{Float64,1})\u001b[0m\nClosest candidates are:\n  -(\u001b[91m::SparseMatrixCSC\u001b[39m, ::Array) at sparse/sparsematrix.jl:1463\n  -(\u001b[91m::AbstractSparseArray{Tv,Ti,1} where Ti where Tv\u001b[39m, ::Union{Base.ReshapedArray{T,1,A,MI} where MI<:Tuple{Vararg{Base.MultiplicativeInverses.SignedMultiplicativeInverse{Int64},N} where N} where A<:DenseArray, DenseArray{T,1}, SubArray{T,1,A,I,L} where L} where I<:Tuple{Vararg{Union{Base.AbstractCartesianIndex, Int64, Range{Int64}},N} where N} where A<:Union{Base.ReshapedArray{T,N,A,MI} where MI<:Tuple{Vararg{Base.MultiplicativeInverses.SignedMultiplicativeInverse{Int64},N} where N} where A<:DenseArray where N where T, DenseArray} where T) at sparse/sparsevector.jl:1334\n  -(\u001b[91m::AbstractArray\u001b[39m, ::AbstractArray) at arraymath.jl:37\n  ...\u001b[39m",
     "output_type": "error",
     "traceback": [
      "\u001b[91mMethodError: no method matching -(::Void, ::Array{Float64,1})\u001b[0m\nClosest candidates are:\n  -(\u001b[91m::SparseMatrixCSC\u001b[39m, ::Array) at sparse/sparsematrix.jl:1463\n  -(\u001b[91m::AbstractSparseArray{Tv,Ti,1} where Ti where Tv\u001b[39m, ::Union{Base.ReshapedArray{T,1,A,MI} where MI<:Tuple{Vararg{Base.MultiplicativeInverses.SignedMultiplicativeInverse{Int64},N} where N} where A<:DenseArray, DenseArray{T,1}, SubArray{T,1,A,I,L} where L} where I<:Tuple{Vararg{Union{Base.AbstractCartesianIndex, Int64, Range{Int64}},N} where N} where A<:Union{Base.ReshapedArray{T,N,A,MI} where MI<:Tuple{Vararg{Base.MultiplicativeInverses.SignedMultiplicativeInverse{Int64},N} where N} where A<:DenseArray where N where T, DenseArray} where T) at sparse/sparsevector.jl:1334\n  -(\u001b[91m::AbstractArray\u001b[39m, ::AbstractArray) at arraymath.jl:37\n  ...\u001b[39m",
      "",
      "Stacktrace:",
      " [1] \u001b[1minclude_string\u001b[22m\u001b[22m\u001b[1m(\u001b[22m\u001b[22m::String, ::String\u001b[1m)\u001b[22m\u001b[22m at \u001b[1m./loading.jl:515\u001b[22m\u001b[22m"
     ]
    }
   ],
   "source": [
    "A = B[[2;1], :]\n",
    "b = A * ones(2)\n",
    "elim_gauss(A, b)\n",
    "x = sist_tri_sup(A, b)\n",
    "x - ones(2)"
   ]
  },
  {
   "cell_type": "markdown",
   "metadata": {},
   "source": [
    "A matriz $A$ no exemplo acima\n",
    "$$ A = \\left[\\begin{array}{cc}\n",
    "\\epsilon & 100 \\\\\n",
    "1 & \\epsilon\n",
    "\\end{array}\\right],$$\n",
    "introduz um problema durante a eliminação Gaussiana.\n",
    "O elemento $a_{22}$ deve ser substituído por\n",
    "$$ \\epsilon - \\frac{100}{\\epsilon}. $$\n",
    "Quando $\\epsilon$ é pequeno, ocorre um underflow considerável nessa operação, de modo que fica aproximada\n",
    "por $-\\dfrac{100}{\\epsilon}$."
   ]
  },
  {
   "cell_type": "markdown",
   "metadata": {},
   "source": [
    "O vetor $b$, que inicialmente é\n",
    "$\\left[\\begin{array}{c} 100 + \\epsilon \\\\ 1 + \\epsilon\\end{array}\\right],$\n",
    "vira\n",
    "$\\left[\\begin{array}{c} 100 + \\epsilon \\\\ 1 + \\epsilon - \\dfrac{100 + \\epsilon}{\\epsilon} \\end{array}\\right],$"
   ]
  },
  {
   "cell_type": "markdown",
   "metadata": {},
   "source": [
    "Nem $100 + \\epsilon$, nem $1 + \\epsilon$ têm erros grandes. Por outro lado,\n",
    "$$ 1 + \\epsilon - \\frac{100 + \\epsilon}{\\epsilon} = \\epsilon - \\frac{100}{\\epsilon} \\approx -\\frac{100}{\\epsilon}.$$"
   ]
  },
  {
   "cell_type": "markdown",
   "metadata": {},
   "source": [
    "Ou seja, acaba acontecendo um erro similar em $b_2$, de modo que o $x_2$ encontrado é $1.0$."
   ]
  },
  {
   "cell_type": "markdown",
   "metadata": {},
   "source": [
    "Daí,\n",
    "$$ x_1 = \\frac{ (100 + \\epsilon) - 100 }{\\epsilon}. $$\n",
    "A subtração tem um erro pequeno, mas quando dividido por $\\epsilon$, fica considerável."
   ]
  },
  {
   "cell_type": "markdown",
   "metadata": {},
   "source": [
    "A matriz com as linhas trocadas, no entanto, não teve esse problema."
   ]
  },
  {
   "cell_type": "markdown",
   "metadata": {},
   "source": [
    "$$ A = \\left[\\begin{array}{cc}\n",
    "1 & \\epsilon \\\\\n",
    "\\epsilon & 100\n",
    "\\end{array}\\right]\n",
    "\\qquad\n",
    "\\mbox{e}\n",
    "\\qquad\n",
    "b = \\left[\\begin{array}{c}\n",
    "1 + \\epsilon \\\\\n",
    "100 + \\epsilon\n",
    "\\end{array}\\right]\n",
    ".$$"
   ]
  },
  {
   "cell_type": "markdown",
   "metadata": {},
   "source": [
    "Temos $$ m_{21} = \\epsilon, $$\n",
    "daí\n",
    "$$ a_{22} \\leftarrow 100 - \\epsilon^2 \\approx 100, $$\n",
    "e\n",
    "$$ b_2 \\leftarrow (100 + \\epsilon) - \\epsilon (1 + \\epsilon) \\approx 100. $$"
   ]
  },
  {
   "cell_type": "markdown",
   "metadata": {},
   "source": [
    "Novamente $x_2 = 1$. Agora\n",
    "$$ x_1 = \\frac{ (1 + \\epsilon) - \\epsilon }{1} = 1. $$\n",
    "Novamente o erro na subtração é grande, porém a divisão não aumenta esse erro."
   ]
  },
  {
   "cell_type": "markdown",
   "metadata": {},
   "source": [
    "Em outras palavras, podemos tentar pivotear a matriz $A$ para **aumentar a estabilidade numérica**.\n",
    "Outro motivo para o pivoteamento está abaixo."
   ]
  },
  {
   "cell_type": "markdown",
   "metadata": {},
   "source": [
    "### Esparsidade\n",
    "\n",
    "Uma matriz é dita **esparsa** se contém muitos zeros. Esse termo não é exato, o que complica um pouco, e não faz muito sentido para matrizes pequenas, mas vamos tentar elucidá-lo e explicar a sua importância."
   ]
  },
  {
   "cell_type": "markdown",
   "metadata": {},
   "source": [
    "A densidade de $A$ é o número de elementos não nulos divido pelo número de elementos total de $A$."
   ]
  },
  {
   "cell_type": "markdown",
   "metadata": {},
   "source": [
    "Em geral, o limite para se considerar uma matriz esparsa não é estabelecido, principalmente por depender da dimensão $n$ de $A$. Em geral, uma matriz com 1% de elementos não nulos é considerada esparsa. Uma com 10% às vezes será considerada esparsa. Uma matriz diagonal, por exemplo, é a matriz mais esparsa possível que pode ser não-singular (permutações da matriz diagonal também). O número de elementos não-nulos da matriz diagonal é $n$, e seu número de elementos é $n^2$. Portanto, sua densidade é $1/n$. Se $n > 1000$, então a densidade será menor que $0.001$."
   ]
  },
  {
   "cell_type": "markdown",
   "metadata": {},
   "source": [
    "Uma matriz tridiagonal - onde só podem ser não-nulos os elementos na diagonal, na diagonal acima, e na diagonal abaixo, terá densidade $\\dfrac{3n-2}{n^2}$. No caso $n = 1000$, será $\\approx 0.003$, e ainda é considerada esparsa."
   ]
  },
  {
   "cell_type": "markdown",
   "metadata": {},
   "source": [
    "Uma matriz de banda $k$ - onde as diagonais até $k$ acima e até $k$ abaixo da diagonal principal contém todos os elementos não-nulos - tem $n + 2(n-1) + 2(n-2) + \\dots 2(n-k) = n + 2\\sum_{i = 1}^k(n-i) = n(1 + 2k) - k(k+1)$\n",
    "elementos. Uma matriz com $n = 1000$ e $k = 50$, terá esparsidade $\\approx 0.1$, que ainda está bom. Veja que já é 10%."
   ]
  },
  {
   "cell_type": "markdown",
   "metadata": {},
   "source": [
    "Quando fazemos operações com matrizes esparsas, os cálculos envolvendo os elementos nulos tem custo nulo, além de não produzirem erros. Além disso, uma matriz esparsa irá ocupar muito menos espaço no computador.\n",
    "Por isso matrizes esparsas são desejáveis.\n",
    "Por outro lado, algumas operações na matriz fazem com que sua densidade aumente, por isso devemos tomar muito cuidade em como fazê-las."
   ]
  },
  {
   "cell_type": "markdown",
   "metadata": {},
   "source": [
    "Em particular, uma matriz esparsa pode se tornar bastante densa na operação de eliminação Gaussiana."
   ]
  },
  {
   "cell_type": "code",
   "execution_count": 25,
   "metadata": {},
   "outputs": [
    {
     "data": {
      "text/plain": [
       "10×10 Array{Float64,2}:\n",
       " 10.0  1.0  1.0  1.0  1.0  1.0  1.0  1.0  1.0  1.0\n",
       "  1.0  1.0  0.0  0.0  0.0  0.0  0.0  0.0  0.0  0.0\n",
       "  1.0  0.0  1.0  0.0  0.0  0.0  0.0  0.0  0.0  0.0\n",
       "  1.0  0.0  0.0  1.0  0.0  0.0  0.0  0.0  0.0  0.0\n",
       "  1.0  0.0  0.0  0.0  1.0  0.0  0.0  0.0  0.0  0.0\n",
       "  1.0  0.0  0.0  0.0  0.0  1.0  0.0  0.0  0.0  0.0\n",
       "  1.0  0.0  0.0  0.0  0.0  0.0  1.0  0.0  0.0  0.0\n",
       "  1.0  0.0  0.0  0.0  0.0  0.0  0.0  1.0  0.0  0.0\n",
       "  1.0  0.0  0.0  0.0  0.0  0.0  0.0  0.0  1.0  0.0\n",
       "  1.0  0.0  0.0  0.0  0.0  0.0  0.0  0.0  0.0  1.0"
      ]
     },
     "execution_count": 25,
     "metadata": {},
     "output_type": "execute_result"
    }
   ],
   "source": [
    "n = 10\n",
    "A = eye(n)\n",
    "A[:,1] = 1\n",
    "A[1,:] = 1\n",
    "A[1,1] = n\n",
    "A"
   ]
  },
  {
   "cell_type": "code",
   "execution_count": 26,
   "metadata": {},
   "outputs": [
    {
     "data": {
      "text/plain": [
       "10×10 Array{Float64,2}:\n",
       " 10.0  1.0   1.0        1.0       …   1.0        1.0        1.0     \n",
       "  0.0  0.9  -0.1       -0.1          -0.1       -0.1       -0.1     \n",
       "  0.0  0.0   0.888889  -0.111111     -0.111111  -0.111111  -0.111111\n",
       "  0.0  0.0   0.0        0.875        -0.125     -0.125     -0.125   \n",
       "  0.0  0.0   0.0        0.0          -0.142857  -0.142857  -0.142857\n",
       "  0.0  0.0   0.0        0.0       …  -0.166667  -0.166667  -0.166667\n",
       "  0.0  0.0   0.0        0.0          -0.2       -0.2       -0.2     \n",
       "  0.0  0.0   0.0        0.0           0.75      -0.25      -0.25    \n",
       "  0.0  0.0   0.0        0.0           0.0        0.666667  -0.333333\n",
       "  0.0  0.0   0.0        0.0           0.0        0.0        0.5     "
      ]
     },
     "execution_count": 26,
     "metadata": {},
     "output_type": "execute_result"
    }
   ],
   "source": [
    "b = A * ones(n)\n",
    "elim_gauss(A, b)\n",
    "A"
   ]
  },
  {
   "cell_type": "markdown",
   "metadata": {},
   "source": [
    "A matriz $A$ acima é o mais densa possível (para uma matriz triangular superior).\n",
    "No entanto, uma simples mudança de linhas resolveria o problema."
   ]
  },
  {
   "cell_type": "code",
   "execution_count": 27,
   "metadata": {},
   "outputs": [
    {
     "data": {
      "text/plain": [
       "10×10 Array{Float64,2}:\n",
       "  1.0  0.0  0.0  0.0  0.0  0.0  0.0  0.0  0.0  1.0\n",
       "  1.0  1.0  0.0  0.0  0.0  0.0  0.0  0.0  0.0  0.0\n",
       "  1.0  0.0  1.0  0.0  0.0  0.0  0.0  0.0  0.0  0.0\n",
       "  1.0  0.0  0.0  1.0  0.0  0.0  0.0  0.0  0.0  0.0\n",
       "  1.0  0.0  0.0  0.0  1.0  0.0  0.0  0.0  0.0  0.0\n",
       "  1.0  0.0  0.0  0.0  0.0  1.0  0.0  0.0  0.0  0.0\n",
       "  1.0  0.0  0.0  0.0  0.0  0.0  1.0  0.0  0.0  0.0\n",
       "  1.0  0.0  0.0  0.0  0.0  0.0  0.0  1.0  0.0  0.0\n",
       "  1.0  0.0  0.0  0.0  0.0  0.0  0.0  0.0  1.0  0.0\n",
       " 10.0  1.0  1.0  1.0  1.0  1.0  1.0  1.0  1.0  1.0"
      ]
     },
     "execution_count": 27,
     "metadata": {},
     "output_type": "execute_result"
    }
   ],
   "source": [
    "n = 10\n",
    "A = eye(n)\n",
    "A[:,1] = 1\n",
    "A[1,:] = 1\n",
    "A[1,1] = n\n",
    "A[[1;n],:] = A[[n;1],:]\n",
    "A"
   ]
  },
  {
   "cell_type": "code",
   "execution_count": 28,
   "metadata": {},
   "outputs": [
    {
     "data": {
      "text/plain": [
       "10×10 Array{Float64,2}:\n",
       " 1.0  0.0  0.0  0.0  0.0  0.0  0.0  0.0  0.0   1.0\n",
       " 0.0  1.0  0.0  0.0  0.0  0.0  0.0  0.0  0.0  -1.0\n",
       " 0.0  0.0  1.0  0.0  0.0  0.0  0.0  0.0  0.0  -1.0\n",
       " 0.0  0.0  0.0  1.0  0.0  0.0  0.0  0.0  0.0  -1.0\n",
       " 0.0  0.0  0.0  0.0  1.0  0.0  0.0  0.0  0.0  -1.0\n",
       " 0.0  0.0  0.0  0.0  0.0  1.0  0.0  0.0  0.0  -1.0\n",
       " 0.0  0.0  0.0  0.0  0.0  0.0  1.0  0.0  0.0  -1.0\n",
       " 0.0  0.0  0.0  0.0  0.0  0.0  0.0  1.0  0.0  -1.0\n",
       " 0.0  0.0  0.0  0.0  0.0  0.0  0.0  0.0  1.0  -1.0\n",
       " 0.0  0.0  0.0  0.0  0.0  0.0  0.0  0.0  0.0  -1.0"
      ]
     },
     "execution_count": 28,
     "metadata": {},
     "output_type": "execute_result"
    }
   ],
   "source": [
    "elim_gauss(A, b)\n",
    "A"
   ]
  },
  {
   "cell_type": "markdown",
   "metadata": {},
   "source": [
    "Esse tipo de pivoteamento é melhora a esparsidade, e costuma de chamado de **pivoteamento para reduzir o preenchimento**."
   ]
  },
  {
   "cell_type": "markdown",
   "metadata": {},
   "source": [
    "### Como fazer o pivoteamento\n",
    "\n",
    "Infelizmente, o pivoteamento para reduzir o preenchimento é complicado. Ele envolve procedimentos mais avançados e com menos garantias de que vai funcionar.\n",
    "Por outro lado, o pivoteamento para melhorar a estabilidade numérica tem procedimentos mais básicos com verificações imediatas.\n",
    "Desse modo, iremos focar nesse tipo de pivoteamento."
   ]
  },
  {
   "cell_type": "markdown",
   "metadata": {},
   "source": [
    "O pivoteamento para melhor a estabilidade numérica é feita escolhendo a linha a partir do **maior elemento em módulo da coluna atual** do método. Esse elemento, divo **pivô** é escolhido para ficar na diagonal da matriz, de modo que todos os $m_{ij}$ calculados satisfazem $|m_{ij}| \\leq 1$. O processo está descrito abaixo."
   ]
  },
  {
   "cell_type": "code",
   "execution_count": 29,
   "metadata": {},
   "outputs": [],
   "source": [
    "#=\n",
    "Entrada: matriz A: n×n e vetor b: n\n",
    "\n",
    "1. Para j de 1 a n-1\n",
    "    1. Encontra a linha k = argmin {|aᵢⱼ| : i = j,…,n} onde fica o pivô.\n",
    "    2. Faça Lₖ ↔ Lⱼ\n",
    "    3. Faça bₖ ← bⱼ\n",
    "    4. Para i de j+1 a n\n",
    "        1. Calcule mᵢⱼ = aᵢⱼ/aⱼⱼ\n",
    "        2. Faça Lᵢ ← Lᵢ - mᵢⱼLⱼ\n",
    "        3. Faça bᵢ ← bᵢ - mᵢⱼbⱼ\n",
    "\n",
    "Saída: A triangular superior e \n",
    "       b com modificações correspondentes.\n",
    "=#"
   ]
  },
  {
   "cell_type": "markdown",
   "metadata": {},
   "source": [
    "A troca de linhas, como já feito anteriormente, é dada por"
   ]
  },
  {
   "cell_type": "code",
   "execution_count": 30,
   "metadata": {},
   "outputs": [
    {
     "data": {
      "text/plain": [
       "2×5 Array{Float64,2}:\n",
       " 0.917908  0.262372  0.565862  0.477504  0.398566\n",
       " 0.176515  0.270038  0.33932   0.91767   0.158029"
      ]
     },
     "execution_count": 30,
     "metadata": {},
     "output_type": "execute_result"
    }
   ],
   "source": [
    "A = rand(5,5)\n",
    "j, k = 2, 5\n",
    "A[[k;j],:] = A[[j;k],:]"
   ]
  },
  {
   "cell_type": "code",
   "execution_count": 31,
   "metadata": {},
   "outputs": [
    {
     "data": {
      "text/plain": [
       "elim_gauss_pivot (generic function with 1 method)"
      ]
     },
     "execution_count": 31,
     "metadata": {},
     "output_type": "execute_result"
    }
   ],
   "source": [
    "function elim_gauss_pivot(A::Matrix, b::Vector; diagtol = 1e-12)\n",
    "    n = length(b)\n",
    "    for j = 1:n-1\n",
    "        # Implemente o pivoteamento\n",
    "        ajj, bj = A[j,j], b[j]\n",
    "        if abs(ajj) <= diagtol\n",
    "            error(\"Diagonal muito próxima de 0\")\n",
    "        end\n",
    "        for i = j+1:n\n",
    "            mij = A[i,j] / ajj\n",
    "            A[i,j] = 0.0\n",
    "            A[i,j+1:n] -= mij * A[j,j+1:n]\n",
    "            b[i] -= mij * bj\n",
    "        end\n",
    "    end\n",
    "    return A, b\n",
    "end"
   ]
  },
  {
   "cell_type": "markdown",
   "metadata": {},
   "source": [
    "O processo de pivoteamento tem vantagens teóricas também. Note que o maior elemento do restante da coluna é escolhido. Isso quer dizer que se o pivô for nulo (ou suficientemente próximo), então realmente não existe a possibilidade de escalonar aquela matriz com a diagonal diferente de zero.\n",
    "Em outras palavras, se $A$ é inversível, então a eliminação Gaussiana com pivoteamento deveria funcionar (na aritmética exata)."
   ]
  },
  {
   "cell_type": "markdown",
   "metadata": {},
   "source": [
    "**Teorema:** Se $\\det(A) \\neq 0$, então a eliminação Gaussiana com pivoteamento gera uma matriz $A$ com diagonal não nula."
   ]
  },
  {
   "cell_type": "markdown",
   "metadata": {},
   "source": [
    "## Complexidade"
   ]
  },
  {
   "cell_type": "markdown",
   "metadata": {},
   "source": [
    "Vamos analisar agora a complexidade da eliminação Gaussiana. Vamos recopiar a última versão aqui para referência."
   ]
  },
  {
   "cell_type": "code",
   "execution_count": 32,
   "metadata": {},
   "outputs": [],
   "source": [
    "#=\n",
    "Entrada: matriz A: n×n e vetor b: n\n",
    "\n",
    "1. Para j de 1 a n-1\n",
    "    1. Encontra a linha k = argmin {|aᵢⱼ| : i = j,…,n} onde fica o pivô.\n",
    "    2. Faça Lₖ ↔ Lⱼ\n",
    "    3. Faça bₖ ↔ bⱼ\n",
    "    4. Para i de j+1 a n\n",
    "        1. Calcule mᵢⱼ = aᵢⱼ/aⱼⱼ\n",
    "        2. Faça Lᵢ ← Lᵢ - mᵢⱼLⱼ\n",
    "        3. Faça bᵢ ← bᵢ - mᵢⱼbⱼ\n",
    "\n",
    "Saída: A triangular superior e \n",
    "       b com modificações correspondentes.\n",
    "=#"
   ]
  },
  {
   "cell_type": "markdown",
   "metadata": {},
   "source": [
    "Primeiro o que é mais direto.\n",
    "\n",
    "- 1.4.1: 1 divisão\n",
    "- 1.4.2: Cada $a_{i\\ell} \\leftarrow a_{i\\ell} - m_{i j} a_{j\\ell}$ são 2 operações.\n",
    "    Fazemos isso para $\\ell = j+1,\\dots,n$, logo são $n - j$ vezes, num total de 2(n-j) operações\n",
    "- 1.4.3: Mais 2 operações.\n",
    "\n",
    "Um total de $2(n-j)+3$ operações para cada $i$."
   ]
  },
  {
   "cell_type": "markdown",
   "metadata": {},
   "source": [
    "Agora o loop 1.4. Ele é feito para $i = j+1,\\dots,n$, logo um total de\n",
    "$[2(n-j)+3](n-j) = 2(n-j)^2 + 3(n-j)$ operações para cada $j$.\n",
    "\n",
    " Os passos 1.1-1.3 não muito se feitos corretamente."
   ]
  },
  {
   "cell_type": "markdown",
   "metadata": {},
   "source": [
    "O total $2(n-j)^2 + 3(n-j)$ é feito para cada $j = 1,\\dots,n-1$, que dá"
   ]
  },
  {
   "cell_type": "markdown",
   "metadata": {},
   "source": [
    "\\begin{align}\n",
    "\\sum_{j=1}^{n-1}[2(n-j)^2 + 3(n-j)]\n",
    "& = \\sum_{j=1}^{n-1}(2j^2 + 3j) \\\\\n",
    "& = 2\\frac{(n-1)n(2n-1)}{6} + 3\\frac{(n-1)n}{2} \\\\\n",
    "& = \\frac{2}{3}n^3 + \\frac{1}{2}n^2 - \\frac{7}{6}n.\n",
    "\\end{align}"
   ]
  },
  {
   "cell_type": "markdown",
   "metadata": {},
   "source": [
    "Agora, a complexidade da resolução do sistema triangular."
   ]
  },
  {
   "cell_type": "code",
   "execution_count": 33,
   "metadata": {},
   "outputs": [],
   "source": [
    "#=\n",
    "Entrada: A: n×n triangular superior com diagonal não-nula\n",
    "         b: n\n",
    "1. Crie o vetor x nulo\n",
    "2. Para i de n à 1, voltando\n",
    "    1. s ← xᵢ\n",
    "    2. Para j de i+1 à n\n",
    "        1. s ← s - aᵢⱼxⱼ\n",
    "    3. xᵢ = s/aᵢᵢ\n",
    "\n",
    "Saída: x: solução de Ax = b\n",
    "=#"
   ]
  },
  {
   "cell_type": "markdown",
   "metadata": {},
   "source": [
    "Essa é um pouco mais fácil de se calcular.\n",
    "A operação 1.2.2 faz $2(n-j)$ operações para cada $j$ num total de $2(n-j) + 1$ por $j$.\n",
    "Logo, temos"
   ]
  },
  {
   "cell_type": "markdown",
   "metadata": {},
   "source": [
    "\\begin{align}\n",
    "\\sum_{j=1}^n [2(n-j) + 1]\n",
    "& = \\sum_{j=0}^{n-1}[2j + 1] \\\\\n",
    "& = 2\\sum_{j=0}^{n-1}j + n \\\\\n",
    "& = (n-1)n + n = n^2.\n",
    "\\end{align}"
   ]
  },
  {
   "cell_type": "markdown",
   "metadata": {},
   "source": [
    "Portanto, para resolver do zero um sistema linear $Ax = b$ pela eliminação Gaussiana,\n",
    "fazemos\n",
    "$$ \\frac{2}{3}n^3 + \\frac{3}{2}n^2 - \\frac{7}{6}n. $$"
   ]
  },
  {
   "cell_type": "markdown",
   "metadata": {},
   "source": [
    "O mais importante nesse valor todo é o $n^3$. Isso porque ele será o termo que mais \"pesa\" nessa conta para $n$ grande. Dizemos que a complexidade é da ordem de $n^3$."
   ]
  },
  {
   "cell_type": "markdown",
   "metadata": {},
   "source": [
    "Note que a complexidade de multiplicar uma matriz por um vetor é de ordem $n^2$, que é a mesma ordem de resolver um sistema triangular superior. Resolver o sistema do zero, no entanto, é de ordem $n^3$, que é a mesma ordem de multiplicar duas matrizes $n$ por $n$."
   ]
  },
  {
   "cell_type": "markdown",
   "metadata": {},
   "source": [
    "# Decomposição LU"
   ]
  },
  {
   "cell_type": "markdown",
   "metadata": {},
   "source": [
    "No ponto atual, conseguimos resolver um sistema linear, sobre algumas\n",
    "condições. Temos um problema, no entanto, e se quisermos resolver\n",
    "mais de um sistema linear, e não tivermos todas os vetores do lado direito de imediato?"
   ]
  },
  {
   "cell_type": "markdown",
   "metadata": {},
   "source": [
    "Isso acontece com frequência em muitas aplicações. Em particular, em otimização linear e não-linear com restrições lineares, essa situação é bastante comum. Também para o cálculo de autovalores e autovetores de uma matriz, existe um método que faz isso. De maneira geral, é como se a matriz $A$ fosse uma parte fixa de um modelo e o vetor $b$ fosse uma parte móvel."
   ]
  },
  {
   "cell_type": "markdown",
   "metadata": {},
   "source": [
    "Se precisamos resolver muitos sistemas com a mesma matriz $A$,\n",
    "e começarmos do zero todos eles, teremos uma complexidade de ordem $n^3$ **para cada iteração desse método**.\n",
    "No entanto, se tivermos os valores de $m_{ij}$, podemos fazer as operações necessárias\n",
    "apenas no vetor do lado direito."
   ]
  },
  {
   "cell_type": "markdown",
   "metadata": {},
   "source": [
    "Note que temos $\\dfrac{(n-1)n}{2}$ elementos $m_{ij}$ para guardar.\n",
    "Não por acaso, eles equivalem a cada um dos zeros da matriz $A$\n",
    "final.\n",
    "Sendo assim, podemos **utilizar a própria matriz $A$ para guardar $m_{ij}$.**"
   ]
  },
  {
   "cell_type": "markdown",
   "metadata": {},
   "source": [
    "Note também, que precisamos guardar as permutações que foram feitas, pois as linhas do vetor do lado direito também precisam ser trocadas.\n",
    "Por enquanto, para facilitar o entendimento, vamos considerar a eliminação sem pivoteamento novamente."
   ]
  },
  {
   "cell_type": "code",
   "execution_count": 34,
   "metadata": {},
   "outputs": [
    {
     "data": {
      "text/plain": [
       "declu (generic function with 1 method)"
      ]
     },
     "execution_count": 34,
     "metadata": {},
     "output_type": "execute_result"
    }
   ],
   "source": [
    "function declu(A::Matrix; diagtol = 1e-12)\n",
    "    n = size(A, 2)\n",
    "    for j = 1:n-1\n",
    "        ajj = A[j,j]\n",
    "        if abs(ajj) <= diagtol\n",
    "            error(\"Diagonal muito próxima de 0\")\n",
    "        end\n",
    "        for i = j+1:n\n",
    "            mij = A[i,j] / ajj\n",
    "            A[i,j] = mij\n",
    "            A[i,j+1:n] -= mij * A[j,j+1:n]\n",
    "        end\n",
    "    end\n",
    "    return A\n",
    "end"
   ]
  },
  {
   "cell_type": "markdown",
   "metadata": {},
   "source": [
    "Também precisamos criar uma função para aplicar os valores de $m_{ij}$ à um vetor $b$.\n",
    "No entanto, veja que podemos ir direto ao objetivo e aproveitar e resolver o sistema logo.\n",
    "Note que a aplicação dos $m_{ij}$ modifica o vetor $b$, e além disso criamos um novo vetor $x$. Isso quer dizer que estamos\n",
    "- perdendo o $b$ original; e\n",
    "- gastando mais memória com $x$.\n",
    "\n",
    "Podemos resolver um desses problemas. As opções são\n",
    "1. Copiar o $b$ para o $x$, aplicar $m_{ij}$ no $x$ e resolver o sistema modificando o $x$ para ser a solução no fim; ou\n",
    "2. Aplicar $m_{ij}$ em $b$, e resolver o sistema modificando o $b$ para ser a solução no fim."
   ]
  },
  {
   "cell_type": "markdown",
   "metadata": {},
   "source": [
    "A opção 1 resolve o problema de perder $b$. Ao fim teremos $b$ e um novo $x$ que será a solução de $Ax = b$.\n",
    "\n",
    "A opção 2 resolve o problema de gastar memória. Perderemos $b$, mas teremos a solução sem gasto de memória adicional."
   ]
  },
  {
   "cell_type": "markdown",
   "metadata": {},
   "source": [
    "A segunda opção é melhor pois se quisermos manter $b$, podemos copiar $b$ antes de chamar a função."
   ]
  },
  {
   "cell_type": "code",
   "execution_count": 35,
   "metadata": {},
   "outputs": [],
   "source": [
    "#=\n",
    "Entrada: A: n×n onde a parte triangular superior é corresponde ao resultado\n",
    "    da eliminação Gaussiana, e a parte triangular inferior sem a diagonal\n",
    "    corresponde aos valores mᵢⱼ\n",
    "         b: n   que será modificado para guardar a solução do sistema.\n",
    "\n",
    "1. Para j de 1 a n-1\n",
    "    1. Para i de j+1 a n\n",
    "        1. Faça bᵢ ← bᵢ - aᵢⱼbⱼ\n",
    "2. Para 1 de n à 1, voltando\n",
    "    1. s ← bᵢ\n",
    "    2. Para j de i+1 à n\n",
    "        1. s ← s - aᵢⱼbⱼ\n",
    "    3. bᵢ = s/aᵢᵢ\n",
    "=#"
   ]
  },
  {
   "cell_type": "code",
   "execution_count": 36,
   "metadata": {},
   "outputs": [
    {
     "data": {
      "text/plain": [
       "resolvelu (generic function with 1 method)"
      ]
     },
     "execution_count": 36,
     "metadata": {},
     "output_type": "execute_result"
    }
   ],
   "source": [
    "function resolvelu(A, b)\n",
    "    n = length(b)\n",
    "    for j = 1:n-1\n",
    "        bj = b[j]\n",
    "        for i = j+1:n\n",
    "            b[i] -= A[i,j] * bj\n",
    "        end\n",
    "    end\n",
    "    # Copiar implementação já feita\n",
    "    for i = n:-1:1\n",
    "        s = b[i]\n",
    "        for j = i+1:n\n",
    "            s -= A[i,j] * b[j]\n",
    "        end\n",
    "        b[i] = s / A[i,i]\n",
    "    end\n",
    "    return b\n",
    "end"
   ]
  },
  {
   "cell_type": "code",
   "execution_count": 37,
   "metadata": {},
   "outputs": [
    {
     "data": {
      "text/plain": [
       "3-element Array{Float64,1}:\n",
       " 1.0\n",
       " 1.0\n",
       " 1.0"
      ]
     },
     "execution_count": 37,
     "metadata": {},
     "output_type": "execute_result"
    }
   ],
   "source": [
    "A = [3.0 1 2; -1 2 1; 1 1 4]\n",
    "b = A * ones(3)\n",
    "\n",
    "declu(A)\n",
    "resolvelu(A, b)"
   ]
  },
  {
   "cell_type": "markdown",
   "metadata": {},
   "source": [
    "Vamos analisar a primeira parte de `resolvelu` com mais detalhes, pensando num caso 3x3."
   ]
  },
  {
   "cell_type": "code",
   "execution_count": 38,
   "metadata": {},
   "outputs": [],
   "source": [
    "#= x é o valor de saída\n",
    "Começo x₁ = b₁, x₂ = b₂, x₃ = b₃\n",
    "j = 1\n",
    "  i = 2\n",
    "    x₂ ← x₂ - m₂₁x₁\n",
    "  i = 3\n",
    "    x₃ ← x₃ - m₃₁x₁\n",
    "j = 2\n",
    "  i = 3\n",
    "    x₃ ← x₃ - m₃₂x₂\n",
    "=#"
   ]
  },
  {
   "cell_type": "markdown",
   "metadata": {},
   "source": [
    "No final desse processo temos as seguintes relações"
   ]
  },
  {
   "cell_type": "markdown",
   "metadata": {},
   "source": [
    "\\begin{align}\\left\\{\\begin{array}{rcl}\n",
    "x_1 & = & b_1 \\\\\n",
    "x_2 & = & b_2 - m_{21} x_1 \\\\\n",
    "x_3 & = & b_3 - m_{31} x_1 - m_{32} x_2.\n",
    "\\end{array}\\right.\n",
    "\\end{align}"
   ]
  },
  {
   "cell_type": "markdown",
   "metadata": {},
   "source": [
    "Isso quer dizer que"
   ]
  },
  {
   "cell_type": "markdown",
   "metadata": {},
   "source": [
    "\\begin{align}\\left\\{\n",
    "\\begin{array}{rcrcrcl}\n",
    "      x_1 & &           & &     & = & b_1 \\\\\n",
    "m_{21}x_1 &+&       x_2 & &     & = & b_2 \\\\\n",
    "m_{31}x_1 &+& m_{32}x_2 &+& x_3 & = & b_3\n",
    "\\end{array}\\right.\n",
    "\\end{align}"
   ]
  },
  {
   "cell_type": "markdown",
   "metadata": {},
   "source": [
    "Que corresponde ao sistema linear $Lx = b$, onde $L$ é a matriz"
   ]
  },
  {
   "cell_type": "markdown",
   "metadata": {},
   "source": [
    "$$\\left[\\begin{array}{ccc}\n",
    "1 & 0 & 0 \\\\\n",
    "m_{21} & 1 & 0 \\\\\n",
    "m_{31} & m_{32} & 1\n",
    "\\end{array}\\right].$$"
   ]
  },
  {
   "cell_type": "markdown",
   "metadata": {},
   "source": [
    "Isso quer dizer que fazer eliminação Gaussiana em $\\left[\\begin{array}{cc}A & b\\end{array}\\right]$ é equivalente a fazer eliminação Gaussiana apenas em $A$, guardar $m_{ij}$ em $L$ e calcular $L^{-1}b$. Note que $\\det(L) = 1$ e por isso sempre existe a inversa."
   ]
  },
  {
   "cell_type": "markdown",
   "metadata": {},
   "source": [
    "Chamando a matriz resultante da eliminação Gaussiana em $A$ de $U$, podemos dizer que começamos com o sistema\n",
    "$$ Ax = b, $$\n",
    "e acabamos com o sistema\n",
    "$$ Ux = L^{-1}b. $$"
   ]
  },
  {
   "cell_type": "markdown",
   "metadata": {},
   "source": [
    "Mas então podemos fazer\n",
    "$$ LUx = b. $$"
   ]
  },
  {
   "cell_type": "markdown",
   "metadata": {},
   "source": [
    "Será que $A = LU$? A resposta é sim, pois os valores de $x$ e $b$ não são usados para se calcular nem $L$ nem $U$. Portanto, podemos mudar $x$ e obter um $b$ correspondente, e os dois sistemas continuarão válidos. Outra maneira de ver isso é subtrair os dois sistemas, obtendo $(A - LU)x = 0$, e variar $x$ para cada coluna da identidade."
   ]
  },
  {
   "cell_type": "code",
   "execution_count": 39,
   "metadata": {},
   "outputs": [
    {
     "data": {
      "text/plain": [
       "5×5 Array{Float64,2}:\n",
       " 0.460624   0.982056   0.131722   0.761447    0.143639\n",
       " 1.15977   -0.164407   0.310202  -0.618326    0.524453\n",
       " 0.814343  -0.293935   0.265688   0.0136406   0.633328\n",
       " 0.678402   4.01917   -2.56535    2.02607    -0.092565\n",
       " 1.91953    9.72372   -8.5499     2.78058     1.00731 "
      ]
     },
     "execution_count": 39,
     "metadata": {},
     "output_type": "execute_result"
    }
   ],
   "source": [
    "A = rand(5, 5)\n",
    "B = copy(A)\n",
    "declu(A)"
   ]
  },
  {
   "cell_type": "code",
   "execution_count": 40,
   "metadata": {},
   "outputs": [
    {
     "data": {
      "text/plain": [
       "5×5 Array{Float64,2}:\n",
       " 1.0        0.0        0.0      0.0      0.0\n",
       " 1.15977    1.0        0.0      0.0      0.0\n",
       " 0.814343  -0.293935   1.0      0.0      0.0\n",
       " 0.678402   4.01917   -2.56535  1.0      0.0\n",
       " 1.91953    9.72372   -8.5499   2.78058  1.0"
      ]
     },
     "execution_count": 40,
     "metadata": {},
     "output_type": "execute_result"
    }
   ],
   "source": [
    "L = tril(A, -1) + eye(5)"
   ]
  },
  {
   "cell_type": "code",
   "execution_count": 41,
   "metadata": {},
   "outputs": [
    {
     "data": {
      "text/plain": [
       "5×5 Array{Float64,2}:\n",
       " 0.460624   0.982056  0.131722   0.761447    0.143639\n",
       " 0.0       -0.164407  0.310202  -0.618326    0.524453\n",
       " 0.0        0.0       0.265688   0.0136406   0.633328\n",
       " 0.0        0.0       0.0        2.02607    -0.092565\n",
       " 0.0        0.0       0.0        0.0         1.00731 "
      ]
     },
     "execution_count": 41,
     "metadata": {},
     "output_type": "execute_result"
    }
   ],
   "source": [
    "U = triu(A)"
   ]
  },
  {
   "cell_type": "code",
   "execution_count": 42,
   "metadata": {},
   "outputs": [
    {
     "data": {
      "text/plain": [
       "5×5 Array{Float64,2}:\n",
       " 0.460624  0.982056    0.131722  0.761447   0.143639\n",
       " 0.534216  0.974548    0.462968  0.264774   0.691041\n",
       " 0.375106  0.848055    0.281775  0.815466   0.596144\n",
       " 0.312488  0.00544875  0.654532  0.0224852  0.48804 \n",
       " 0.884181  0.286435    0.997556  0.966216   0.71039 "
      ]
     },
     "execution_count": 42,
     "metadata": {},
     "output_type": "execute_result"
    }
   ],
   "source": [
    "L * U"
   ]
  },
  {
   "cell_type": "code",
   "execution_count": 43,
   "metadata": {},
   "outputs": [
    {
     "data": {
      "text/plain": [
       "5×5 Array{Float64,2}:\n",
       " 0.0   0.0           0.0          0.0          0.0        \n",
       " 0.0   0.0           0.0          0.0          0.0        \n",
       " 0.0   0.0           0.0          0.0          0.0        \n",
       " 0.0   1.82146e-17   2.22045e-16  2.22045e-16  2.22045e-16\n",
       " 0.0  -5.55112e-17  -1.11022e-16  2.22045e-16  8.88178e-16"
      ]
     },
     "execution_count": 43,
     "metadata": {},
     "output_type": "execute_result"
    }
   ],
   "source": [
    "B - L * U"
   ]
  },
  {
   "cell_type": "markdown",
   "metadata": {},
   "source": [
    "Concluindo, o processo de eliminação Gaussiana nos dá uma maneira de representar $A$ que depende de duas matrizes mais simples. Chamamos essa maneira de **fatoração LU**."
   ]
  },
  {
   "cell_type": "markdown",
   "metadata": {},
   "source": [
    "Existem várias fatorações matriciais. Algumas são bem conhecidas, e algumas são bem específicas. A fatoração LU é a mais famosa, pois não depende de nenhuma propriedade especial da matriz para existe, com exceção do Teorema que passamos."
   ]
  },
  {
   "cell_type": "markdown",
   "metadata": {},
   "source": [
    "Dado a fatoração $LU$ da matriz $A$, não iremos mais pensar em resolver $Ax = b$ como a aplicação da eliminação Gaussiana, e sim como a resolução de sistemas triangulares.\n",
    "\n",
    "Dado $Ax = b$, e $A = LU$, temos\n",
    "$$ LUx = b. $$\n",
    "Para resolver esse sistema, fazemos $Ux = y$, obtendo\n",
    "$$ \\left\\{\\begin{array}{rcl}\n",
    "Ly & = & b \\\\\n",
    "Ux & = & y.\n",
    "\\end{array}\\right. $$"
   ]
  },
  {
   "cell_type": "markdown",
   "metadata": {},
   "source": [
    "Dessa maneira, fica óbvio que resolvemos dois sistemas triangulares."
   ]
  },
  {
   "cell_type": "markdown",
   "metadata": {},
   "source": [
    "Para resolver o sistema triangular $Ly = b$, veja que\n",
    "$$\\left\\{\\begin{array}{rcl}\n",
    "y_1 & = & b_1 \\\\\n",
    "y_2 & = & b_2 - m_{21}y_1 \\\\\n",
    "y_3 & = & b_3 - m_{31}y_1 - m_{32}y_2 \\\\\n",
    "\\vdots & & \\vdots \\\\\n",
    "y_n & = & b_n - \\sum_{j=1}^{n-1} m_{nj} y_j.\n",
    "\\end{array}\\right.$$"
   ]
  },
  {
   "cell_type": "markdown",
   "metadata": {},
   "source": [
    "Em outras palavras,\n",
    "$$ y_i = b_i - \\sum_{j = 1}^{i - 1}m_{ij} y_j, \\qquad i = 1,\\dots,n. $$"
   ]
  },
  {
   "cell_type": "markdown",
   "metadata": {},
   "source": [
    "Veja que se calculamos na ordem natural $1,\\dots,n$, teremos os valores necessários para definir todos os $y_i$."
   ]
  },
  {
   "cell_type": "markdown",
   "metadata": {},
   "source": [
    "Abaixo vemos o algoritmo para resolver esse sistema, e vamos substituir $b$ de entrada pelo valor de $y$ de saída."
   ]
  },
  {
   "cell_type": "code",
   "execution_count": 44,
   "metadata": {},
   "outputs": [],
   "source": [
    "#=\n",
    "Entrada: L: nxn triangular inferior com diagonal de 1\n",
    "         b: n\n",
    "1. Para i de 1 à n-1\n",
    "    1. Para j de 1 à i-1\n",
    "        1. bᵢ ← bᵢ - mᵢⱼ bⱼ\n",
    "=#"
   ]
  },
  {
   "cell_type": "markdown",
   "metadata": {},
   "source": [
    "Comparando com o algoritmo que faz a eliminação Gaussiana em $b$, vemos uma leva diferença"
   ]
  },
  {
   "cell_type": "code",
   "execution_count": 45,
   "metadata": {},
   "outputs": [],
   "source": [
    "#= Algoritmo que faz elim. Gauss. em b\n",
    "1. Para j de 1 a n-1\n",
    "    1. Para i de j+1 a n\n",
    "        1. Faça bᵢ ← bᵢ - aᵢⱼbⱼ\n",
    "=#"
   ]
  },
  {
   "cell_type": "markdown",
   "metadata": {},
   "source": [
    "A ordem desse algoritmo está diferente, e os limites para os loops de $i$ e $j$ também. No entanto, a operação que é calculada é a mesma (lembre-se que $a_{ij} = m_{ij}$)."
   ]
  },
  {
   "cell_type": "markdown",
   "metadata": {},
   "source": [
    "### Fatoração LU com pivoteamento"
   ]
  },
  {
   "cell_type": "markdown",
   "metadata": {},
   "source": [
    "Como vimos anteriormente, a qualidade da solução do sistema pela eliminação Gaussiana, muda drasticamente quanto utilizamos pivotamento. Na fatoração LU, isso também é verdade."
   ]
  },
  {
   "cell_type": "markdown",
   "metadata": {},
   "source": [
    "Agora que guardamos a matriz $L$, o pivoteamento também irá afetá-la. Além disso, queremos calcular a fatoração sem a necessidade de um vetor do lado direito, então precisamos guardar o pivoteamento feito para fazê-lo no vetor $b$ também."
   ]
  },
  {
   "cell_type": "markdown",
   "metadata": {},
   "source": [
    "Inicialmente, vamos apenas apresentar o algoritmo com pivoteamento.\n",
    "Nesse algoritmo precisaremos criar um **vetor** para guardar a permutação das linhas.\n",
    "Esse vetor será um vetor com a ordem que as linhas ficou no fim. Ele começa sendo um vetor $p_i = i$."
   ]
  },
  {
   "cell_type": "code",
   "execution_count": 46,
   "metadata": {},
   "outputs": [
    {
     "data": {
      "text/plain": [
       "declupivot (generic function with 1 method)"
      ]
     },
     "execution_count": 46,
     "metadata": {},
     "output_type": "execute_result"
    }
   ],
   "source": [
    "function declupivot(A::Matrix; diagtol = 1e-12)\n",
    "    n = size(A, 2)\n",
    "    p = collect(1:n)\n",
    "    for j = 1:n-1\n",
    "        # Quem é o pivô\n",
    "        pivo, k = abs(A[j,j]), j\n",
    "        for i = j+1:n\n",
    "            if abs(A[i,j]) > pivo\n",
    "                pivo, k = abs(A[i,j]), i\n",
    "            end\n",
    "        end\n",
    "        if pivo <= diagtol\n",
    "            error(\"Matriz singular ou muito próxima de ser singular\")\n",
    "        end\n",
    "        \n",
    "        if k != j\n",
    "            p[k], p[j] = p[j], p[k]\n",
    "            A[[k;j],:] = A[[j;k],:]\n",
    "        end\n",
    "        ajj = A[j,j]\n",
    "        for i = j+1:n\n",
    "            mij = A[i,j] / ajj\n",
    "            A[i,j] = mij\n",
    "            A[i,j+1:n] -= mij * A[j,j+1:n]\n",
    "        end\n",
    "    end\n",
    "    return p\n",
    "end"
   ]
  },
  {
   "cell_type": "markdown",
   "metadata": {},
   "source": [
    "O vetor $p$ corresponde à uma **matriz de permutação** $P$. Uma matriz de permutação é uma matriz obtida a partir de permutações de linhas e permutações de colunas na matriz identidade.\n",
    "- Se a matriz $P$ é obtida a partir de uma sequência de permutações nas **linhas** da matriz identidade, então a matriz $PA$ é a matriz resultante das mesmas permutações nas linhas de $A$. Nesse caso, dizemos que $P$ é uma **matriz de permutação de linhas**.\n",
    "- Análogo para colunas, e para a matriz $AP$."
   ]
  },
  {
   "cell_type": "markdown",
   "metadata": {},
   "source": [
    "O vetor $p$ tem os índices dessas linhas. Inicialmente, $p$ é um vetor com $p_i = i$, que significa que $P$ é a identidade. Cada modificação no passo XXX modifica elementos de $p$ e as linhas correspondentes de $P$."
   ]
  },
  {
   "cell_type": "markdown",
   "metadata": {},
   "source": [
    "Uma matriz de permutação de linhas também é uma matriz de permutação de colunas, mas com outras permutações (a priori indetermidanas)."
   ]
  },
  {
   "cell_type": "markdown",
   "metadata": {},
   "source": [
    "**Exercício:** Mostre que se $P$ é uma matriz de permutação de linhas, então $P^T$ é uma matriz de permutação de colunas."
   ]
  },
  {
   "cell_type": "markdown",
   "metadata": {},
   "source": [
    "Uma parte não trivial do processo da fatoração LU com pivoteamento é descobrir a relação entre $A$, $L$, $U$ e $P$. Como não dispomos do tempo, vamos simplesmente enunciar essa relação."
   ]
  },
  {
   "cell_type": "markdown",
   "metadata": {},
   "source": [
    "**Teo.:** O algoritmo de fatoração LU com pivoteamento parcial da matriz $A$ retorna matrizes $L$, $U$ e $P$ tais que\n",
    "$$ PA = LU. $$"
   ]
  },
  {
   "cell_type": "code",
   "execution_count": 47,
   "metadata": {},
   "outputs": [
    {
     "data": {
      "text/plain": [
       "5×5 Array{Float64,2}:\n",
       "  0.0          0.0  0.0          0.0  0.0\n",
       "  0.0          0.0  0.0          0.0  0.0\n",
       "  0.0          0.0  0.0          0.0  0.0\n",
       "  0.0          0.0  1.38778e-17  0.0  0.0\n",
       " -5.55112e-17  0.0  0.0          0.0  0.0"
      ]
     },
     "execution_count": 47,
     "metadata": {},
     "output_type": "execute_result"
    }
   ],
   "source": [
    "A = rand(5, 5)\n",
    "B = copy(A)\n",
    "p = declupivot(A)\n",
    "L = tril(A, -1) + eye(5)\n",
    "U = triu(A)\n",
    "L * U - B[p,:]"
   ]
  },
  {
   "cell_type": "markdown",
   "metadata": {},
   "source": [
    "Note ainda, que por um teorema anterior, a fatoração LU de uma matriz quadrada sempre existe. Se $A$ for singular, então $U$ terá um zero no último elemento."
   ]
  },
  {
   "cell_type": "markdown",
   "metadata": {},
   "source": [
    "## Exercícios"
   ]
  },
  {
   "cell_type": "markdown",
   "metadata": {},
   "source": [
    "Exercícios do capítulo 3 do livro Cálculo Numérico de Ruggiero e Lopes, com exceção daqueles que não competem ao assunto."
   ]
  }
 ],
 "metadata": {
  "kernelspec": {
   "display_name": "Julia 0.6.0",
   "language": "julia",
   "name": "julia-0.6"
  },
  "language_info": {
   "file_extension": ".jl",
   "mimetype": "application/julia",
   "name": "julia",
   "version": "0.6.0"
  }
 },
 "nbformat": 4,
 "nbformat_minor": 1
}
