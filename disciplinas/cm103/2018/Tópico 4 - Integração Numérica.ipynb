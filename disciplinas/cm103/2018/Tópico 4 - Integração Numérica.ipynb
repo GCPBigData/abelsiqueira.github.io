{
 "cells": [
  {
   "cell_type": "markdown",
   "metadata": {},
   "source": [
    "# Integração Numérica\n",
    "\n",
    "Em cálculo I aprendemos que\n",
    "$$ \\int_a^b f(x)\\mbox{d}x = F(b) - F(a), $$\n",
    "se $f$ for uma função integrável, e onde $F$ é uma primitiva de $f$.\n",
    "\n",
    "No entanto, nem sempre é fácil encontrar uma primitiva para $F$.\n",
    "Às vezes, pode ser impossível, como em\n",
    "$$ \\int_a^b e^{-x^2}\\mbox{d}x. $$"
   ]
  },
  {
   "cell_type": "markdown",
   "metadata": {},
   "source": [
    "Por sorte, muitas vezes uma aproximação numérica é suficiente para nosso objetivo.\n",
    "\n",
    "Vamos estudar alguns métodos de aproximação numérica, a maior parte deles usando valores da\n",
    "função $f$ em pontos selecionados, isto é\n",
    "$$ \\int_a^bf(x)\\mbox{d}x = \\sum_{i=1}^m A_if(x_i), $$\n",
    "para uma quantidade de pontos $m$, pontos $x_i$ e valores $A_i$.\n",
    "\n",
    "Salvo indicação contrária, iremos supor que $x_1 < x_2 < \\dots < x_m$."
   ]
  },
  {
   "cell_type": "markdown",
   "metadata": {},
   "source": [
    "## Fórmulas de Newton-Cotes\n",
    "\n",
    "As fórmulas de Newton-Cotes provém da **interpolação polinomial da função $f$** em pontos igualmente espaços do\n",
    "intervalo $[a,b]$. Se os intervalos estiverem entre os pontos escolhidos, isto é, se $x_1 = a$ e\n",
    "$x_m = b$, então a fórmula é dita **fechada**. Caso contrário, aberta."
   ]
  },
  {
   "cell_type": "markdown",
   "metadata": {},
   "source": [
    "Uma interpolação polinomial da função $f$ nos pontos $x_1, \\dots, x_m$, é uma função polinomial $p$ que satisfaz $p(x_i) = f(x_i)$, para $i = 1,\\dots,m$."
   ]
  },
  {
   "cell_type": "markdown",
   "metadata": {},
   "source": [
    "As fórmulas de Newton-Cotes fechadas terão os pontos $x_i$ descritos por\n",
    "$$ x_i = a + (i-1)h, $$\n",
    "onde $h = \\dfrac{b-a}{m-1}$."
   ]
  },
  {
   "cell_type": "code",
   "execution_count": 1,
   "metadata": {},
   "outputs": [
    {
     "data": {
      "text/plain": [
       "Plots.GRBackend()"
      ]
     },
     "execution_count": 1,
     "metadata": {},
     "output_type": "execute_result"
    }
   ],
   "source": [
    "using Plots\n",
    "gr(size=(400,300))"
   ]
  },
  {
   "cell_type": "code",
   "execution_count": 4,
   "metadata": {},
   "outputs": [
    {
     "data": {
      "text/plain": [
       "0.2"
      ]
     },
     "execution_count": 4,
     "metadata": {},
     "output_type": "execute_result"
    }
   ],
   "source": [
    "a = 1.0\n",
    "b = 3.0\n",
    "m = 11\n",
    "h = (b - a) / (m - 1)"
   ]
  },
  {
   "cell_type": "code",
   "execution_count": 10,
   "metadata": {},
   "outputs": [
    {
     "data": {
      "text/plain": [
       "1.0:0.2:3.0"
      ]
     },
     "execution_count": 10,
     "metadata": {},
     "output_type": "execute_result"
    }
   ],
   "source": [
    "linspace(a, b, m)"
   ]
  },
  {
   "cell_type": "code",
   "execution_count": 11,
   "metadata": {},
   "outputs": [
    {
     "data": {
      "text/plain": [
       "11-element Array{Float64,1}:\n",
       " 1.0\n",
       " 1.2\n",
       " 1.4\n",
       " 1.6\n",
       " 1.8\n",
       " 2.0\n",
       " 2.2\n",
       " 2.4\n",
       " 2.6\n",
       " 2.8\n",
       " 3.0"
      ]
     },
     "execution_count": 11,
     "metadata": {},
     "output_type": "execute_result"
    }
   ],
   "source": [
    "collect(linspace(a, b, m))"
   ]
  },
  {
   "cell_type": "code",
   "execution_count": 9,
   "metadata": {},
   "outputs": [
    {
     "data": {
      "image/svg+xml": [
       "<?xml version=\"1.0\" encoding=\"utf-8\"?>\n",
       "<svg xmlns=\"http://www.w3.org/2000/svg\" xmlns:xlink=\"http://www.w3.org/1999/xlink\" width=\"400\" height=\"300\" viewBox=\"0 0 400 300\">\n",
       "<defs>\n",
       "  <clipPath id=\"clip7600\">\n",
       "    <rect x=\"0\" y=\"0\" width=\"400\" height=\"300\"/>\n",
       "  </clipPath>\n",
       "</defs>\n",
       "<polygon clip-path=\"url(#clip7600)\" points=\"\n",
       "0,300 400,300 400,0 0,0 \n",
       "  \" fill=\"#ffffff\" fill-opacity=\"1\"/>\n",
       "<defs>\n",
       "  <clipPath id=\"clip7601\">\n",
       "    <rect x=\"80\" y=\"0\" width=\"281\" height=\"281\"/>\n",
       "  </clipPath>\n",
       "</defs>\n",
       "<polygon clip-path=\"url(#clip7600)\" points=\"\n",
       "39.502,275.869 380.315,275.869 380.315,11.811 39.502,11.811 \n",
       "  \" fill=\"#ffffff\" fill-opacity=\"1\"/>\n",
       "<defs>\n",
       "  <clipPath id=\"clip7602\">\n",
       "    <rect x=\"39\" y=\"11\" width=\"342\" height=\"265\"/>\n",
       "  </clipPath>\n",
       "</defs>\n",
       "<polyline clip-path=\"url(#clip7602)\" style=\"stroke:#000000; stroke-width:0.5; stroke-opacity:0.1; fill:none\" points=\"\n",
       "  49.1477,275.869 49.1477,11.811 \n",
       "  \"/>\n",
       "<polyline clip-path=\"url(#clip7602)\" style=\"stroke:#000000; stroke-width:0.5; stroke-opacity:0.1; fill:none\" points=\"\n",
       "  129.528,275.869 129.528,11.811 \n",
       "  \"/>\n",
       "<polyline clip-path=\"url(#clip7602)\" style=\"stroke:#000000; stroke-width:0.5; stroke-opacity:0.1; fill:none\" points=\"\n",
       "  209.908,275.869 209.908,11.811 \n",
       "  \"/>\n",
       "<polyline clip-path=\"url(#clip7602)\" style=\"stroke:#000000; stroke-width:0.5; stroke-opacity:0.1; fill:none\" points=\"\n",
       "  290.289,275.869 290.289,11.811 \n",
       "  \"/>\n",
       "<polyline clip-path=\"url(#clip7602)\" style=\"stroke:#000000; stroke-width:0.5; stroke-opacity:0.1; fill:none\" points=\"\n",
       "  370.669,275.869 370.669,11.811 \n",
       "  \"/>\n",
       "<polyline clip-path=\"url(#clip7602)\" style=\"stroke:#000000; stroke-width:0.5; stroke-opacity:0.1; fill:none\" points=\"\n",
       "  39.502,275.869 380.315,275.869 \n",
       "  \"/>\n",
       "<polyline clip-path=\"url(#clip7602)\" style=\"stroke:#000000; stroke-width:0.5; stroke-opacity:0.1; fill:none\" points=\"\n",
       "  39.502,209.854 380.315,209.854 \n",
       "  \"/>\n",
       "<polyline clip-path=\"url(#clip7602)\" style=\"stroke:#000000; stroke-width:0.5; stroke-opacity:0.1; fill:none\" points=\"\n",
       "  39.502,143.84 380.315,143.84 \n",
       "  \"/>\n",
       "<polyline clip-path=\"url(#clip7602)\" style=\"stroke:#000000; stroke-width:0.5; stroke-opacity:0.1; fill:none\" points=\"\n",
       "  39.502,77.8254 380.315,77.8254 \n",
       "  \"/>\n",
       "<polyline clip-path=\"url(#clip7602)\" style=\"stroke:#000000; stroke-width:0.5; stroke-opacity:0.1; fill:none\" points=\"\n",
       "  39.502,11.811 380.315,11.811 \n",
       "  \"/>\n",
       "<polyline clip-path=\"url(#clip7600)\" style=\"stroke:#000000; stroke-width:1; stroke-opacity:1; fill:none\" points=\"\n",
       "  39.502,275.869 380.315,275.869 \n",
       "  \"/>\n",
       "<polyline clip-path=\"url(#clip7600)\" style=\"stroke:#000000; stroke-width:1; stroke-opacity:1; fill:none\" points=\"\n",
       "  39.502,275.869 39.502,11.811 \n",
       "  \"/>\n",
       "<polyline clip-path=\"url(#clip7600)\" style=\"stroke:#000000; stroke-width:1; stroke-opacity:1; fill:none\" points=\"\n",
       "  49.1477,275.869 49.1477,271.908 \n",
       "  \"/>\n",
       "<polyline clip-path=\"url(#clip7600)\" style=\"stroke:#000000; stroke-width:1; stroke-opacity:1; fill:none\" points=\"\n",
       "  129.528,275.869 129.528,271.908 \n",
       "  \"/>\n",
       "<polyline clip-path=\"url(#clip7600)\" style=\"stroke:#000000; stroke-width:1; stroke-opacity:1; fill:none\" points=\"\n",
       "  209.908,275.869 209.908,271.908 \n",
       "  \"/>\n",
       "<polyline clip-path=\"url(#clip7600)\" style=\"stroke:#000000; stroke-width:1; stroke-opacity:1; fill:none\" points=\"\n",
       "  290.289,275.869 290.289,271.908 \n",
       "  \"/>\n",
       "<polyline clip-path=\"url(#clip7600)\" style=\"stroke:#000000; stroke-width:1; stroke-opacity:1; fill:none\" points=\"\n",
       "  370.669,275.869 370.669,271.908 \n",
       "  \"/>\n",
       "<polyline clip-path=\"url(#clip7600)\" style=\"stroke:#000000; stroke-width:1; stroke-opacity:1; fill:none\" points=\"\n",
       "  39.502,275.869 44.6142,275.869 \n",
       "  \"/>\n",
       "<polyline clip-path=\"url(#clip7600)\" style=\"stroke:#000000; stroke-width:1; stroke-opacity:1; fill:none\" points=\"\n",
       "  39.502,209.854 44.6142,209.854 \n",
       "  \"/>\n",
       "<polyline clip-path=\"url(#clip7600)\" style=\"stroke:#000000; stroke-width:1; stroke-opacity:1; fill:none\" points=\"\n",
       "  39.502,143.84 44.6142,143.84 \n",
       "  \"/>\n",
       "<polyline clip-path=\"url(#clip7600)\" style=\"stroke:#000000; stroke-width:1; stroke-opacity:1; fill:none\" points=\"\n",
       "  39.502,77.8254 44.6142,77.8254 \n",
       "  \"/>\n",
       "<polyline clip-path=\"url(#clip7600)\" style=\"stroke:#000000; stroke-width:1; stroke-opacity:1; fill:none\" points=\"\n",
       "  39.502,11.811 44.6142,11.811 \n",
       "  \"/>\n",
       "<g clip-path=\"url(#clip7600)\">\n",
       "<text style=\"fill:#000000; fill-opacity:1; font-family:Arial,Helvetica Neue,Helvetica,sans-serif; font-size:12; text-anchor:middle;\" transform=\"rotate(0, 49.1477, 288.669)\" x=\"49.1477\" y=\"288.669\">1.0</text>\n",
       "</g>\n",
       "<g clip-path=\"url(#clip7600)\">\n",
       "<text style=\"fill:#000000; fill-opacity:1; font-family:Arial,Helvetica Neue,Helvetica,sans-serif; font-size:12; text-anchor:middle;\" transform=\"rotate(0, 129.528, 288.669)\" x=\"129.528\" y=\"288.669\">1.5</text>\n",
       "</g>\n",
       "<g clip-path=\"url(#clip7600)\">\n",
       "<text style=\"fill:#000000; fill-opacity:1; font-family:Arial,Helvetica Neue,Helvetica,sans-serif; font-size:12; text-anchor:middle;\" transform=\"rotate(0, 209.908, 288.669)\" x=\"209.908\" y=\"288.669\">2.0</text>\n",
       "</g>\n",
       "<g clip-path=\"url(#clip7600)\">\n",
       "<text style=\"fill:#000000; fill-opacity:1; font-family:Arial,Helvetica Neue,Helvetica,sans-serif; font-size:12; text-anchor:middle;\" transform=\"rotate(0, 290.289, 288.669)\" x=\"290.289\" y=\"288.669\">2.5</text>\n",
       "</g>\n",
       "<g clip-path=\"url(#clip7600)\">\n",
       "<text style=\"fill:#000000; fill-opacity:1; font-family:Arial,Helvetica Neue,Helvetica,sans-serif; font-size:12; text-anchor:middle;\" transform=\"rotate(0, 370.669, 288.669)\" x=\"370.669\" y=\"288.669\">3.0</text>\n",
       "</g>\n",
       "<g clip-path=\"url(#clip7600)\">\n",
       "<text style=\"fill:#000000; fill-opacity:1; font-family:Arial,Helvetica Neue,Helvetica,sans-serif; font-size:12; text-anchor:end;\" transform=\"rotate(0, 35.502, 280.369)\" x=\"35.502\" y=\"280.369\">-1.0</text>\n",
       "</g>\n",
       "<g clip-path=\"url(#clip7600)\">\n",
       "<text style=\"fill:#000000; fill-opacity:1; font-family:Arial,Helvetica Neue,Helvetica,sans-serif; font-size:12; text-anchor:end;\" transform=\"rotate(0, 35.502, 214.354)\" x=\"35.502\" y=\"214.354\">-0.5</text>\n",
       "</g>\n",
       "<g clip-path=\"url(#clip7600)\">\n",
       "<text style=\"fill:#000000; fill-opacity:1; font-family:Arial,Helvetica Neue,Helvetica,sans-serif; font-size:12; text-anchor:end;\" transform=\"rotate(0, 35.502, 148.34)\" x=\"35.502\" y=\"148.34\">0.0</text>\n",
       "</g>\n",
       "<g clip-path=\"url(#clip7600)\">\n",
       "<text style=\"fill:#000000; fill-opacity:1; font-family:Arial,Helvetica Neue,Helvetica,sans-serif; font-size:12; text-anchor:end;\" transform=\"rotate(0, 35.502, 82.3254)\" x=\"35.502\" y=\"82.3254\">0.5</text>\n",
       "</g>\n",
       "<g clip-path=\"url(#clip7600)\">\n",
       "<text style=\"fill:#000000; fill-opacity:1; font-family:Arial,Helvetica Neue,Helvetica,sans-serif; font-size:12; text-anchor:end;\" transform=\"rotate(0, 35.502, 16.311)\" x=\"35.502\" y=\"16.311\">1.0</text>\n",
       "</g>\n",
       "<circle clip-path=\"url(#clip7602)\" style=\"fill:#000000; stroke:none; fill-opacity:1\" cx=\"49.1477\" cy=\"143.84\" r=\"9\"/>\n",
       "<circle clip-path=\"url(#clip7602)\" style=\"fill:#0000ff; stroke:none; fill-opacity:1\" cx=\"49.1477\" cy=\"143.84\" r=\"9\"/>\n",
       "<circle clip-path=\"url(#clip7602)\" style=\"fill:#000000; stroke:none; fill-opacity:1\" cx=\"370.669\" cy=\"143.84\" r=\"9\"/>\n",
       "<circle clip-path=\"url(#clip7602)\" style=\"fill:#0000ff; stroke:none; fill-opacity:1\" cx=\"370.669\" cy=\"143.84\" r=\"9\"/>\n",
       "<circle clip-path=\"url(#clip7602)\" style=\"fill:#000000; stroke:none; fill-opacity:1\" cx=\"49.1477\" cy=\"143.84\" r=\"4\"/>\n",
       "<circle clip-path=\"url(#clip7602)\" style=\"fill:#ff0000; stroke:none; fill-opacity:1\" cx=\"49.1477\" cy=\"143.84\" r=\"3\"/>\n",
       "<circle clip-path=\"url(#clip7602)\" style=\"fill:#000000; stroke:none; fill-opacity:1\" cx=\"81.2998\" cy=\"143.84\" r=\"4\"/>\n",
       "<circle clip-path=\"url(#clip7602)\" style=\"fill:#ff0000; stroke:none; fill-opacity:1\" cx=\"81.2998\" cy=\"143.84\" r=\"3\"/>\n",
       "<circle clip-path=\"url(#clip7602)\" style=\"fill:#000000; stroke:none; fill-opacity:1\" cx=\"113.452\" cy=\"143.84\" r=\"4\"/>\n",
       "<circle clip-path=\"url(#clip7602)\" style=\"fill:#ff0000; stroke:none; fill-opacity:1\" cx=\"113.452\" cy=\"143.84\" r=\"3\"/>\n",
       "<circle clip-path=\"url(#clip7602)\" style=\"fill:#000000; stroke:none; fill-opacity:1\" cx=\"145.604\" cy=\"143.84\" r=\"4\"/>\n",
       "<circle clip-path=\"url(#clip7602)\" style=\"fill:#ff0000; stroke:none; fill-opacity:1\" cx=\"145.604\" cy=\"143.84\" r=\"3\"/>\n",
       "<circle clip-path=\"url(#clip7602)\" style=\"fill:#000000; stroke:none; fill-opacity:1\" cx=\"177.756\" cy=\"143.84\" r=\"4\"/>\n",
       "<circle clip-path=\"url(#clip7602)\" style=\"fill:#ff0000; stroke:none; fill-opacity:1\" cx=\"177.756\" cy=\"143.84\" r=\"3\"/>\n",
       "<circle clip-path=\"url(#clip7602)\" style=\"fill:#000000; stroke:none; fill-opacity:1\" cx=\"209.908\" cy=\"143.84\" r=\"4\"/>\n",
       "<circle clip-path=\"url(#clip7602)\" style=\"fill:#ff0000; stroke:none; fill-opacity:1\" cx=\"209.908\" cy=\"143.84\" r=\"3\"/>\n",
       "<circle clip-path=\"url(#clip7602)\" style=\"fill:#000000; stroke:none; fill-opacity:1\" cx=\"242.061\" cy=\"143.84\" r=\"4\"/>\n",
       "<circle clip-path=\"url(#clip7602)\" style=\"fill:#ff0000; stroke:none; fill-opacity:1\" cx=\"242.061\" cy=\"143.84\" r=\"3\"/>\n",
       "<circle clip-path=\"url(#clip7602)\" style=\"fill:#000000; stroke:none; fill-opacity:1\" cx=\"274.213\" cy=\"143.84\" r=\"4\"/>\n",
       "<circle clip-path=\"url(#clip7602)\" style=\"fill:#ff0000; stroke:none; fill-opacity:1\" cx=\"274.213\" cy=\"143.84\" r=\"3\"/>\n",
       "<circle clip-path=\"url(#clip7602)\" style=\"fill:#000000; stroke:none; fill-opacity:1\" cx=\"306.365\" cy=\"143.84\" r=\"4\"/>\n",
       "<circle clip-path=\"url(#clip7602)\" style=\"fill:#ff0000; stroke:none; fill-opacity:1\" cx=\"306.365\" cy=\"143.84\" r=\"3\"/>\n",
       "<circle clip-path=\"url(#clip7602)\" style=\"fill:#000000; stroke:none; fill-opacity:1\" cx=\"338.517\" cy=\"143.84\" r=\"4\"/>\n",
       "<circle clip-path=\"url(#clip7602)\" style=\"fill:#ff0000; stroke:none; fill-opacity:1\" cx=\"338.517\" cy=\"143.84\" r=\"3\"/>\n",
       "<circle clip-path=\"url(#clip7602)\" style=\"fill:#000000; stroke:none; fill-opacity:1\" cx=\"370.669\" cy=\"143.84\" r=\"4\"/>\n",
       "<circle clip-path=\"url(#clip7602)\" style=\"fill:#ff0000; stroke:none; fill-opacity:1\" cx=\"370.669\" cy=\"143.84\" r=\"3\"/>\n",
       "</svg>\n"
      ]
     },
     "execution_count": 9,
     "metadata": {},
     "output_type": "execute_result"
    }
   ],
   "source": [
    "scatter([a; b], zeros(2), c=:blue, ms=10, leg=false)\n",
    "scatter!(linspace(a, b, m), zeros(m), c=:red)\n",
    "ylims!(-1, 1)"
   ]
  },
  {
   "cell_type": "markdown",
   "metadata": {},
   "source": [
    "No caso das fórmula abertas, o espaçamento entre os pontos é $h$, mas começamos a contar depois de $a$ e paramos antes de $b$. Desse modo, podemos pensar que o espaçamento é $h$ no intervalo fechado $[a + h, b - h]$.\n",
    "De modo que\n",
    "$$ h = \\frac{b - h - (a + h)}{m - 1}. $$"
   ]
  },
  {
   "cell_type": "markdown",
   "metadata": {},
   "source": [
    "Resolvendo essa equação para encontrar $h$, obtemos\n",
    "$$ h = \\frac{b - a}{m+1}. $$"
   ]
  },
  {
   "cell_type": "code",
   "execution_count": 14,
   "metadata": {},
   "outputs": [
    {
     "data": {
      "text/plain": [
       "0.2"
      ]
     },
     "execution_count": 14,
     "metadata": {},
     "output_type": "execute_result"
    }
   ],
   "source": [
    "a = 1.0\n",
    "b = 3.0\n",
    "m = 9\n",
    "h = (b - a) / (m + 1)"
   ]
  },
  {
   "cell_type": "code",
   "execution_count": 15,
   "metadata": {},
   "outputs": [
    {
     "data": {
      "text/plain": [
       "9-element Array{Float64,1}:\n",
       " 1.2\n",
       " 1.4\n",
       " 1.6\n",
       " 1.8\n",
       " 2.0\n",
       " 2.2\n",
       " 2.4\n",
       " 2.6\n",
       " 2.8"
      ]
     },
     "execution_count": 15,
     "metadata": {},
     "output_type": "execute_result"
    }
   ],
   "source": [
    "collect(linspace(a+h, b-h, m))"
   ]
  },
  {
   "cell_type": "code",
   "execution_count": 16,
   "metadata": {},
   "outputs": [
    {
     "data": {
      "image/svg+xml": [
       "<?xml version=\"1.0\" encoding=\"utf-8\"?>\n",
       "<svg xmlns=\"http://www.w3.org/2000/svg\" xmlns:xlink=\"http://www.w3.org/1999/xlink\" width=\"400\" height=\"300\" viewBox=\"0 0 400 300\">\n",
       "<defs>\n",
       "  <clipPath id=\"clip7800\">\n",
       "    <rect x=\"0\" y=\"0\" width=\"400\" height=\"300\"/>\n",
       "  </clipPath>\n",
       "</defs>\n",
       "<polygon clip-path=\"url(#clip7800)\" points=\"\n",
       "0,300 400,300 400,0 0,0 \n",
       "  \" fill=\"#ffffff\" fill-opacity=\"1\"/>\n",
       "<defs>\n",
       "  <clipPath id=\"clip7801\">\n",
       "    <rect x=\"80\" y=\"0\" width=\"281\" height=\"281\"/>\n",
       "  </clipPath>\n",
       "</defs>\n",
       "<polygon clip-path=\"url(#clip7800)\" points=\"\n",
       "39.502,274.821 380.315,274.821 380.315,11.811 39.502,11.811 \n",
       "  \" fill=\"#ffffff\" fill-opacity=\"1\"/>\n",
       "<defs>\n",
       "  <clipPath id=\"clip7802\">\n",
       "    <rect x=\"39\" y=\"11\" width=\"342\" height=\"264\"/>\n",
       "  </clipPath>\n",
       "</defs>\n",
       "<polyline clip-path=\"url(#clip7802)\" style=\"stroke:#000000; stroke-width:0.5; stroke-opacity:0.1; fill:none\" points=\"\n",
       "  49.1477,274.821 49.1477,11.811 \n",
       "  \"/>\n",
       "<polyline clip-path=\"url(#clip7802)\" style=\"stroke:#000000; stroke-width:0.5; stroke-opacity:0.1; fill:none\" points=\"\n",
       "  129.528,274.821 129.528,11.811 \n",
       "  \"/>\n",
       "<polyline clip-path=\"url(#clip7802)\" style=\"stroke:#000000; stroke-width:0.5; stroke-opacity:0.1; fill:none\" points=\"\n",
       "  209.908,274.821 209.908,11.811 \n",
       "  \"/>\n",
       "<polyline clip-path=\"url(#clip7802)\" style=\"stroke:#000000; stroke-width:0.5; stroke-opacity:0.1; fill:none\" points=\"\n",
       "  290.289,274.821 290.289,11.811 \n",
       "  \"/>\n",
       "<polyline clip-path=\"url(#clip7802)\" style=\"stroke:#000000; stroke-width:0.5; stroke-opacity:0.1; fill:none\" points=\"\n",
       "  370.669,274.821 370.669,11.811 \n",
       "  \"/>\n",
       "<polyline clip-path=\"url(#clip7802)\" style=\"stroke:#000000; stroke-width:0.5; stroke-opacity:0.1; fill:none\" points=\"\n",
       "  39.502,274.821 380.315,274.821 \n",
       "  \"/>\n",
       "<polyline clip-path=\"url(#clip7802)\" style=\"stroke:#000000; stroke-width:0.5; stroke-opacity:0.1; fill:none\" points=\"\n",
       "  39.502,209.068 380.315,209.068 \n",
       "  \"/>\n",
       "<polyline clip-path=\"url(#clip7802)\" style=\"stroke:#000000; stroke-width:0.5; stroke-opacity:0.1; fill:none\" points=\"\n",
       "  39.502,143.316 380.315,143.316 \n",
       "  \"/>\n",
       "<polyline clip-path=\"url(#clip7802)\" style=\"stroke:#000000; stroke-width:0.5; stroke-opacity:0.1; fill:none\" points=\"\n",
       "  39.502,77.5635 380.315,77.5635 \n",
       "  \"/>\n",
       "<polyline clip-path=\"url(#clip7802)\" style=\"stroke:#000000; stroke-width:0.5; stroke-opacity:0.1; fill:none\" points=\"\n",
       "  39.502,11.811 380.315,11.811 \n",
       "  \"/>\n",
       "<polyline clip-path=\"url(#clip7800)\" style=\"stroke:#000000; stroke-width:1; stroke-opacity:1; fill:none\" points=\"\n",
       "  39.502,274.821 380.315,274.821 \n",
       "  \"/>\n",
       "<polyline clip-path=\"url(#clip7800)\" style=\"stroke:#000000; stroke-width:1; stroke-opacity:1; fill:none\" points=\"\n",
       "  39.502,274.821 39.502,11.811 \n",
       "  \"/>\n",
       "<polyline clip-path=\"url(#clip7800)\" style=\"stroke:#000000; stroke-width:1; stroke-opacity:1; fill:none\" points=\"\n",
       "  49.1477,274.821 49.1477,270.876 \n",
       "  \"/>\n",
       "<polyline clip-path=\"url(#clip7800)\" style=\"stroke:#000000; stroke-width:1; stroke-opacity:1; fill:none\" points=\"\n",
       "  129.528,274.821 129.528,270.876 \n",
       "  \"/>\n",
       "<polyline clip-path=\"url(#clip7800)\" style=\"stroke:#000000; stroke-width:1; stroke-opacity:1; fill:none\" points=\"\n",
       "  209.908,274.821 209.908,270.876 \n",
       "  \"/>\n",
       "<polyline clip-path=\"url(#clip7800)\" style=\"stroke:#000000; stroke-width:1; stroke-opacity:1; fill:none\" points=\"\n",
       "  290.289,274.821 290.289,270.876 \n",
       "  \"/>\n",
       "<polyline clip-path=\"url(#clip7800)\" style=\"stroke:#000000; stroke-width:1; stroke-opacity:1; fill:none\" points=\"\n",
       "  370.669,274.821 370.669,270.876 \n",
       "  \"/>\n",
       "<polyline clip-path=\"url(#clip7800)\" style=\"stroke:#000000; stroke-width:1; stroke-opacity:1; fill:none\" points=\"\n",
       "  39.502,274.821 44.6142,274.821 \n",
       "  \"/>\n",
       "<polyline clip-path=\"url(#clip7800)\" style=\"stroke:#000000; stroke-width:1; stroke-opacity:1; fill:none\" points=\"\n",
       "  39.502,209.068 44.6142,209.068 \n",
       "  \"/>\n",
       "<polyline clip-path=\"url(#clip7800)\" style=\"stroke:#000000; stroke-width:1; stroke-opacity:1; fill:none\" points=\"\n",
       "  39.502,143.316 44.6142,143.316 \n",
       "  \"/>\n",
       "<polyline clip-path=\"url(#clip7800)\" style=\"stroke:#000000; stroke-width:1; stroke-opacity:1; fill:none\" points=\"\n",
       "  39.502,77.5635 44.6142,77.5635 \n",
       "  \"/>\n",
       "<polyline clip-path=\"url(#clip7800)\" style=\"stroke:#000000; stroke-width:1; stroke-opacity:1; fill:none\" points=\"\n",
       "  39.502,11.811 44.6142,11.811 \n",
       "  \"/>\n",
       "<g clip-path=\"url(#clip7800)\">\n",
       "<text style=\"fill:#000000; fill-opacity:1; font-family:Arial,Helvetica Neue,Helvetica,sans-serif; font-size:12; text-anchor:middle;\" transform=\"rotate(0, 49.1477, 287.621)\" x=\"49.1477\" y=\"287.621\">1.0</text>\n",
       "</g>\n",
       "<g clip-path=\"url(#clip7800)\">\n",
       "<text style=\"fill:#000000; fill-opacity:1; font-family:Arial,Helvetica Neue,Helvetica,sans-serif; font-size:12; text-anchor:middle;\" transform=\"rotate(0, 129.528, 287.621)\" x=\"129.528\" y=\"287.621\">1.5</text>\n",
       "</g>\n",
       "<g clip-path=\"url(#clip7800)\">\n",
       "<text style=\"fill:#000000; fill-opacity:1; font-family:Arial,Helvetica Neue,Helvetica,sans-serif; font-size:12; text-anchor:middle;\" transform=\"rotate(0, 209.908, 287.621)\" x=\"209.908\" y=\"287.621\">2.0</text>\n",
       "</g>\n",
       "<g clip-path=\"url(#clip7800)\">\n",
       "<text style=\"fill:#000000; fill-opacity:1; font-family:Arial,Helvetica Neue,Helvetica,sans-serif; font-size:12; text-anchor:middle;\" transform=\"rotate(0, 290.289, 287.621)\" x=\"290.289\" y=\"287.621\">2.5</text>\n",
       "</g>\n",
       "<g clip-path=\"url(#clip7800)\">\n",
       "<text style=\"fill:#000000; fill-opacity:1; font-family:Arial,Helvetica Neue,Helvetica,sans-serif; font-size:12; text-anchor:middle;\" transform=\"rotate(0, 370.669, 287.621)\" x=\"370.669\" y=\"287.621\">3.0</text>\n",
       "</g>\n",
       "<g clip-path=\"url(#clip7800)\">\n",
       "<text style=\"fill:#000000; fill-opacity:1; font-family:Arial,Helvetica Neue,Helvetica,sans-serif; font-size:12; text-anchor:end;\" transform=\"rotate(0, 35.502, 279.321)\" x=\"35.502\" y=\"279.321\">-1.0</text>\n",
       "</g>\n",
       "<g clip-path=\"url(#clip7800)\">\n",
       "<text style=\"fill:#000000; fill-opacity:1; font-family:Arial,Helvetica Neue,Helvetica,sans-serif; font-size:12; text-anchor:end;\" transform=\"rotate(0, 35.502, 213.568)\" x=\"35.502\" y=\"213.568\">-0.5</text>\n",
       "</g>\n",
       "<g clip-path=\"url(#clip7800)\">\n",
       "<text style=\"fill:#000000; fill-opacity:1; font-family:Arial,Helvetica Neue,Helvetica,sans-serif; font-size:12; text-anchor:end;\" transform=\"rotate(0, 35.502, 147.816)\" x=\"35.502\" y=\"147.816\">0.0</text>\n",
       "</g>\n",
       "<g clip-path=\"url(#clip7800)\">\n",
       "<text style=\"fill:#000000; fill-opacity:1; font-family:Arial,Helvetica Neue,Helvetica,sans-serif; font-size:12; text-anchor:end;\" transform=\"rotate(0, 35.502, 82.0635)\" x=\"35.502\" y=\"82.0635\">0.5</text>\n",
       "</g>\n",
       "<g clip-path=\"url(#clip7800)\">\n",
       "<text style=\"fill:#000000; fill-opacity:1; font-family:Arial,Helvetica Neue,Helvetica,sans-serif; font-size:12; text-anchor:end;\" transform=\"rotate(0, 35.502, 16.311)\" x=\"35.502\" y=\"16.311\">1.0</text>\n",
       "</g>\n",
       "<circle clip-path=\"url(#clip7802)\" style=\"fill:#000000; stroke:none; fill-opacity:1\" cx=\"49.1477\" cy=\"143.316\" r=\"9\"/>\n",
       "<circle clip-path=\"url(#clip7802)\" style=\"fill:#0000ff; stroke:none; fill-opacity:1\" cx=\"49.1477\" cy=\"143.316\" r=\"9\"/>\n",
       "<circle clip-path=\"url(#clip7802)\" style=\"fill:#000000; stroke:none; fill-opacity:1\" cx=\"370.669\" cy=\"143.316\" r=\"9\"/>\n",
       "<circle clip-path=\"url(#clip7802)\" style=\"fill:#0000ff; stroke:none; fill-opacity:1\" cx=\"370.669\" cy=\"143.316\" r=\"9\"/>\n",
       "<circle clip-path=\"url(#clip7802)\" style=\"fill:#000000; stroke:none; fill-opacity:1\" cx=\"81.2998\" cy=\"143.316\" r=\"4\"/>\n",
       "<circle clip-path=\"url(#clip7802)\" style=\"fill:#ff0000; stroke:none; fill-opacity:1\" cx=\"81.2998\" cy=\"143.316\" r=\"3\"/>\n",
       "<circle clip-path=\"url(#clip7802)\" style=\"fill:#000000; stroke:none; fill-opacity:1\" cx=\"113.452\" cy=\"143.316\" r=\"4\"/>\n",
       "<circle clip-path=\"url(#clip7802)\" style=\"fill:#ff0000; stroke:none; fill-opacity:1\" cx=\"113.452\" cy=\"143.316\" r=\"3\"/>\n",
       "<circle clip-path=\"url(#clip7802)\" style=\"fill:#000000; stroke:none; fill-opacity:1\" cx=\"145.604\" cy=\"143.316\" r=\"4\"/>\n",
       "<circle clip-path=\"url(#clip7802)\" style=\"fill:#ff0000; stroke:none; fill-opacity:1\" cx=\"145.604\" cy=\"143.316\" r=\"3\"/>\n",
       "<circle clip-path=\"url(#clip7802)\" style=\"fill:#000000; stroke:none; fill-opacity:1\" cx=\"177.756\" cy=\"143.316\" r=\"4\"/>\n",
       "<circle clip-path=\"url(#clip7802)\" style=\"fill:#ff0000; stroke:none; fill-opacity:1\" cx=\"177.756\" cy=\"143.316\" r=\"3\"/>\n",
       "<circle clip-path=\"url(#clip7802)\" style=\"fill:#000000; stroke:none; fill-opacity:1\" cx=\"209.908\" cy=\"143.316\" r=\"4\"/>\n",
       "<circle clip-path=\"url(#clip7802)\" style=\"fill:#ff0000; stroke:none; fill-opacity:1\" cx=\"209.908\" cy=\"143.316\" r=\"3\"/>\n",
       "<circle clip-path=\"url(#clip7802)\" style=\"fill:#000000; stroke:none; fill-opacity:1\" cx=\"242.061\" cy=\"143.316\" r=\"4\"/>\n",
       "<circle clip-path=\"url(#clip7802)\" style=\"fill:#ff0000; stroke:none; fill-opacity:1\" cx=\"242.061\" cy=\"143.316\" r=\"3\"/>\n",
       "<circle clip-path=\"url(#clip7802)\" style=\"fill:#000000; stroke:none; fill-opacity:1\" cx=\"274.213\" cy=\"143.316\" r=\"4\"/>\n",
       "<circle clip-path=\"url(#clip7802)\" style=\"fill:#ff0000; stroke:none; fill-opacity:1\" cx=\"274.213\" cy=\"143.316\" r=\"3\"/>\n",
       "<circle clip-path=\"url(#clip7802)\" style=\"fill:#000000; stroke:none; fill-opacity:1\" cx=\"306.365\" cy=\"143.316\" r=\"4\"/>\n",
       "<circle clip-path=\"url(#clip7802)\" style=\"fill:#ff0000; stroke:none; fill-opacity:1\" cx=\"306.365\" cy=\"143.316\" r=\"3\"/>\n",
       "<circle clip-path=\"url(#clip7802)\" style=\"fill:#000000; stroke:none; fill-opacity:1\" cx=\"338.517\" cy=\"143.316\" r=\"4\"/>\n",
       "<circle clip-path=\"url(#clip7802)\" style=\"fill:#ff0000; stroke:none; fill-opacity:1\" cx=\"338.517\" cy=\"143.316\" r=\"3\"/>\n",
       "</svg>\n"
      ]
     },
     "execution_count": 16,
     "metadata": {},
     "output_type": "execute_result"
    }
   ],
   "source": [
    "scatter([a; b], zeros(2), c=:blue, ms=10, leg=false)\n",
    "scatter!(linspace(a+h, b-h, m), zeros(m), c=:red)\n",
    "ylims!(-1, 1)"
   ]
  },
  {
   "cell_type": "markdown",
   "metadata": {},
   "source": [
    "### Ponto-Médio\n",
    "\n",
    "Vamos começar considerando uma simples aproximação para $f$: uma interpolação de um ponto.\n",
    "$$ p(x) = f\\bigg(\\frac{a+b}{2}\\bigg), $$\n",
    "isto é, $p$ é uma função constante. Essa aproximação resulta em\n",
    "$$ \\int_a^b f(x)\\mbox{d}x \\approx \\int_a^bf((a+b)/2)\\mbox{d}x = (b-a)f\\bigg(\\frac{a+b}{2}\\bigg). $$"
   ]
  },
  {
   "cell_type": "code",
   "execution_count": 20,
   "metadata": {},
   "outputs": [
    {
     "data": {
      "text/plain": [
       "0.040482624332528035"
      ]
     },
     "execution_count": 20,
     "metadata": {},
     "output_type": "execute_result"
    }
   ],
   "source": [
    "f(x) = exp(x)\n",
    "a, b = 0, 1\n",
    "Iexata = e - 1\n",
    "IPM = (b - a) * f( (a + b) / 2 )\n",
    "ErroPM = Iexata - IPM\n",
    "ErroRelPM = abs(ErroPM) / Iexata"
   ]
  },
  {
   "cell_type": "code",
   "execution_count": 24,
   "metadata": {},
   "outputs": [
    {
     "data": {
      "text/plain": [
       "integral_PM (generic function with 1 method)"
      ]
     },
     "execution_count": 24,
     "metadata": {},
     "output_type": "execute_result"
    }
   ],
   "source": [
    "function integral_PM(f, a, b)\n",
    "    x = (a + b) / 2\n",
    "    h = (b - a) / 2\n",
    "    return 2h * f(x)\n",
    "end"
   ]
  },
  {
   "cell_type": "code",
   "execution_count": 25,
   "metadata": {},
   "outputs": [
    {
     "data": {
      "text/plain": [
       "1.6487212707001282"
      ]
     },
     "execution_count": 25,
     "metadata": {},
     "output_type": "execute_result"
    }
   ],
   "source": [
    "integral_PM(exp, 0, 1)"
   ]
  },
  {
   "cell_type": "markdown",
   "metadata": {},
   "source": [
    "Essa aproximação é chamada de regra do **ponto-médio**, e é uma fórmula aberta. Note que não é possível uma fórmula fechada de um ponto, por motivos óbvios."
   ]
  },
  {
   "cell_type": "markdown",
   "metadata": {},
   "source": [
    "Note que, como $[a,b]$ foi divido em dois, temos $h = (b-a)/2$. Daí, podemos escrever\n",
    "$$ \\int_a^b f(x)\\mbox{d}x \\approx 2h f(x_1). $$"
   ]
  },
  {
   "cell_type": "code",
   "execution_count": 29,
   "metadata": {
    "scrolled": true
   },
   "outputs": [
    {
     "data": {
      "image/svg+xml": [
       "<?xml version=\"1.0\" encoding=\"utf-8\"?>\n",
       "<svg xmlns=\"http://www.w3.org/2000/svg\" xmlns:xlink=\"http://www.w3.org/1999/xlink\" width=\"400\" height=\"300\" viewBox=\"0 0 400 300\">\n",
       "<defs>\n",
       "  <clipPath id=\"clip8600\">\n",
       "    <rect x=\"0\" y=\"0\" width=\"400\" height=\"300\"/>\n",
       "  </clipPath>\n",
       "</defs>\n",
       "<polygon clip-path=\"url(#clip8600)\" points=\"\n",
       "0,300 400,300 400,0 0,0 \n",
       "  \" fill=\"#ffffff\" fill-opacity=\"1\"/>\n",
       "<defs>\n",
       "  <clipPath id=\"clip8601\">\n",
       "    <rect x=\"80\" y=\"0\" width=\"281\" height=\"281\"/>\n",
       "  </clipPath>\n",
       "</defs>\n",
       "<polygon clip-path=\"url(#clip8600)\" points=\"\n",
       "39.1651,274.821 380.315,274.821 380.315,11.811 39.1651,11.811 \n",
       "  \" fill=\"#ffffff\" fill-opacity=\"1\"/>\n",
       "<defs>\n",
       "  <clipPath id=\"clip8602\">\n",
       "    <rect x=\"39\" y=\"11\" width=\"342\" height=\"264\"/>\n",
       "  </clipPath>\n",
       "</defs>\n",
       "<polyline clip-path=\"url(#clip8602)\" style=\"stroke:#000000; stroke-width:0.5; stroke-opacity:0.1; fill:none\" points=\"\n",
       "  81.2122,274.821 81.2122,11.811 \n",
       "  \"/>\n",
       "<polyline clip-path=\"url(#clip8602)\" style=\"stroke:#000000; stroke-width:0.5; stroke-opacity:0.1; fill:none\" points=\"\n",
       "  124.097,274.821 124.097,11.811 \n",
       "  \"/>\n",
       "<polyline clip-path=\"url(#clip8602)\" style=\"stroke:#000000; stroke-width:0.5; stroke-opacity:0.1; fill:none\" points=\"\n",
       "  166.982,274.821 166.982,11.811 \n",
       "  \"/>\n",
       "<polyline clip-path=\"url(#clip8602)\" style=\"stroke:#000000; stroke-width:0.5; stroke-opacity:0.1; fill:none\" points=\"\n",
       "  209.866,274.821 209.866,11.811 \n",
       "  \"/>\n",
       "<polyline clip-path=\"url(#clip8602)\" style=\"stroke:#000000; stroke-width:0.5; stroke-opacity:0.1; fill:none\" points=\"\n",
       "  252.751,274.821 252.751,11.811 \n",
       "  \"/>\n",
       "<polyline clip-path=\"url(#clip8602)\" style=\"stroke:#000000; stroke-width:0.5; stroke-opacity:0.1; fill:none\" points=\"\n",
       "  295.636,274.821 295.636,11.811 \n",
       "  \"/>\n",
       "<polyline clip-path=\"url(#clip8602)\" style=\"stroke:#000000; stroke-width:0.5; stroke-opacity:0.1; fill:none\" points=\"\n",
       "  338.52,274.821 338.52,11.811 \n",
       "  \"/>\n",
       "<polyline clip-path=\"url(#clip8602)\" style=\"stroke:#000000; stroke-width:0.5; stroke-opacity:0.1; fill:none\" points=\"\n",
       "  39.1651,274.821 380.315,274.821 \n",
       "  \"/>\n",
       "<polyline clip-path=\"url(#clip8602)\" style=\"stroke:#000000; stroke-width:0.5; stroke-opacity:0.1; fill:none\" points=\"\n",
       "  39.1651,213.895 380.315,213.895 \n",
       "  \"/>\n",
       "<polyline clip-path=\"url(#clip8602)\" style=\"stroke:#000000; stroke-width:0.5; stroke-opacity:0.1; fill:none\" points=\"\n",
       "  39.1651,152.969 380.315,152.969 \n",
       "  \"/>\n",
       "<polyline clip-path=\"url(#clip8602)\" style=\"stroke:#000000; stroke-width:0.5; stroke-opacity:0.1; fill:none\" points=\"\n",
       "  39.1651,92.0424 380.315,92.0424 \n",
       "  \"/>\n",
       "<polyline clip-path=\"url(#clip8602)\" style=\"stroke:#000000; stroke-width:0.5; stroke-opacity:0.1; fill:none\" points=\"\n",
       "  39.1651,31.1163 380.315,31.1163 \n",
       "  \"/>\n",
       "<polyline clip-path=\"url(#clip8600)\" style=\"stroke:#000000; stroke-width:1; stroke-opacity:1; fill:none\" points=\"\n",
       "  39.1651,274.821 380.315,274.821 \n",
       "  \"/>\n",
       "<polyline clip-path=\"url(#clip8600)\" style=\"stroke:#000000; stroke-width:1; stroke-opacity:1; fill:none\" points=\"\n",
       "  39.1651,274.821 39.1651,11.811 \n",
       "  \"/>\n",
       "<polyline clip-path=\"url(#clip8600)\" style=\"stroke:#000000; stroke-width:1; stroke-opacity:1; fill:none\" points=\"\n",
       "  81.2122,274.821 81.2122,270.876 \n",
       "  \"/>\n",
       "<polyline clip-path=\"url(#clip8600)\" style=\"stroke:#000000; stroke-width:1; stroke-opacity:1; fill:none\" points=\"\n",
       "  124.097,274.821 124.097,270.876 \n",
       "  \"/>\n",
       "<polyline clip-path=\"url(#clip8600)\" style=\"stroke:#000000; stroke-width:1; stroke-opacity:1; fill:none\" points=\"\n",
       "  166.982,274.821 166.982,270.876 \n",
       "  \"/>\n",
       "<polyline clip-path=\"url(#clip8600)\" style=\"stroke:#000000; stroke-width:1; stroke-opacity:1; fill:none\" points=\"\n",
       "  209.866,274.821 209.866,270.876 \n",
       "  \"/>\n",
       "<polyline clip-path=\"url(#clip8600)\" style=\"stroke:#000000; stroke-width:1; stroke-opacity:1; fill:none\" points=\"\n",
       "  252.751,274.821 252.751,270.876 \n",
       "  \"/>\n",
       "<polyline clip-path=\"url(#clip8600)\" style=\"stroke:#000000; stroke-width:1; stroke-opacity:1; fill:none\" points=\"\n",
       "  295.636,274.821 295.636,270.876 \n",
       "  \"/>\n",
       "<polyline clip-path=\"url(#clip8600)\" style=\"stroke:#000000; stroke-width:1; stroke-opacity:1; fill:none\" points=\"\n",
       "  338.52,274.821 338.52,270.876 \n",
       "  \"/>\n",
       "<polyline clip-path=\"url(#clip8600)\" style=\"stroke:#000000; stroke-width:1; stroke-opacity:1; fill:none\" points=\"\n",
       "  39.1651,274.821 44.2823,274.821 \n",
       "  \"/>\n",
       "<polyline clip-path=\"url(#clip8600)\" style=\"stroke:#000000; stroke-width:1; stroke-opacity:1; fill:none\" points=\"\n",
       "  39.1651,213.895 44.2823,213.895 \n",
       "  \"/>\n",
       "<polyline clip-path=\"url(#clip8600)\" style=\"stroke:#000000; stroke-width:1; stroke-opacity:1; fill:none\" points=\"\n",
       "  39.1651,152.969 44.2823,152.969 \n",
       "  \"/>\n",
       "<polyline clip-path=\"url(#clip8600)\" style=\"stroke:#000000; stroke-width:1; stroke-opacity:1; fill:none\" points=\"\n",
       "  39.1651,92.0424 44.2823,92.0424 \n",
       "  \"/>\n",
       "<polyline clip-path=\"url(#clip8600)\" style=\"stroke:#000000; stroke-width:1; stroke-opacity:1; fill:none\" points=\"\n",
       "  39.1651,31.1163 44.2823,31.1163 \n",
       "  \"/>\n",
       "<g clip-path=\"url(#clip8600)\">\n",
       "<text style=\"fill:#000000; fill-opacity:1; font-family:Arial,Helvetica Neue,Helvetica,sans-serif; font-size:12; text-anchor:middle;\" transform=\"rotate(0, 81.2122, 287.621)\" x=\"81.2122\" y=\"287.621\">-1.5</text>\n",
       "</g>\n",
       "<g clip-path=\"url(#clip8600)\">\n",
       "<text style=\"fill:#000000; fill-opacity:1; font-family:Arial,Helvetica Neue,Helvetica,sans-serif; font-size:12; text-anchor:middle;\" transform=\"rotate(0, 124.097, 287.621)\" x=\"124.097\" y=\"287.621\">-1.0</text>\n",
       "</g>\n",
       "<g clip-path=\"url(#clip8600)\">\n",
       "<text style=\"fill:#000000; fill-opacity:1; font-family:Arial,Helvetica Neue,Helvetica,sans-serif; font-size:12; text-anchor:middle;\" transform=\"rotate(0, 166.982, 287.621)\" x=\"166.982\" y=\"287.621\">-0.5</text>\n",
       "</g>\n",
       "<g clip-path=\"url(#clip8600)\">\n",
       "<text style=\"fill:#000000; fill-opacity:1; font-family:Arial,Helvetica Neue,Helvetica,sans-serif; font-size:12; text-anchor:middle;\" transform=\"rotate(0, 209.866, 287.621)\" x=\"209.866\" y=\"287.621\">0.0</text>\n",
       "</g>\n",
       "<g clip-path=\"url(#clip8600)\">\n",
       "<text style=\"fill:#000000; fill-opacity:1; font-family:Arial,Helvetica Neue,Helvetica,sans-serif; font-size:12; text-anchor:middle;\" transform=\"rotate(0, 252.751, 287.621)\" x=\"252.751\" y=\"287.621\">0.5</text>\n",
       "</g>\n",
       "<g clip-path=\"url(#clip8600)\">\n",
       "<text style=\"fill:#000000; fill-opacity:1; font-family:Arial,Helvetica Neue,Helvetica,sans-serif; font-size:12; text-anchor:middle;\" transform=\"rotate(0, 295.636, 287.621)\" x=\"295.636\" y=\"287.621\">1.0</text>\n",
       "</g>\n",
       "<g clip-path=\"url(#clip8600)\">\n",
       "<text style=\"fill:#000000; fill-opacity:1; font-family:Arial,Helvetica Neue,Helvetica,sans-serif; font-size:12; text-anchor:middle;\" transform=\"rotate(0, 338.52, 287.621)\" x=\"338.52\" y=\"287.621\">1.5</text>\n",
       "</g>\n",
       "<g clip-path=\"url(#clip8600)\">\n",
       "<text style=\"fill:#000000; fill-opacity:1; font-family:Arial,Helvetica Neue,Helvetica,sans-serif; font-size:12; text-anchor:end;\" transform=\"rotate(0, 35.1651, 279.321)\" x=\"35.1651\" y=\"279.321\">0.0</text>\n",
       "</g>\n",
       "<g clip-path=\"url(#clip8600)\">\n",
       "<text style=\"fill:#000000; fill-opacity:1; font-family:Arial,Helvetica Neue,Helvetica,sans-serif; font-size:12; text-anchor:end;\" transform=\"rotate(0, 35.1651, 218.395)\" x=\"35.1651\" y=\"218.395\">2.5</text>\n",
       "</g>\n",
       "<g clip-path=\"url(#clip8600)\">\n",
       "<text style=\"fill:#000000; fill-opacity:1; font-family:Arial,Helvetica Neue,Helvetica,sans-serif; font-size:12; text-anchor:end;\" transform=\"rotate(0, 35.1651, 157.469)\" x=\"35.1651\" y=\"157.469\">5.0</text>\n",
       "</g>\n",
       "<g clip-path=\"url(#clip8600)\">\n",
       "<text style=\"fill:#000000; fill-opacity:1; font-family:Arial,Helvetica Neue,Helvetica,sans-serif; font-size:12; text-anchor:end;\" transform=\"rotate(0, 35.1651, 96.5424)\" x=\"35.1651\" y=\"96.5424\">7.5</text>\n",
       "</g>\n",
       "<g clip-path=\"url(#clip8600)\">\n",
       "<text style=\"fill:#000000; fill-opacity:1; font-family:Arial,Helvetica Neue,Helvetica,sans-serif; font-size:12; text-anchor:end;\" transform=\"rotate(0, 35.1651, 35.6163)\" x=\"35.1651\" y=\"35.6163\">10.0</text>\n",
       "</g>\n",
       "<polygon clip-path=\"url(#clip8602)\" points=\"\n",
       "39.1651,186.245 40.0027,186.367 40.8403,186.59 41.6779,186.911 49.4228,193.759 57.1677,203.437 61.0401,207.143 64.9126,209.104 68.785,208.935 72.6575,206.628 \n",
       "  77.3119,201.577 81.9662,195.215 86.6206,189.095 91.2749,184.704 95.2101,183.129 99.1453,183.783 103.081,186.489 107.016,190.69 111.29,195.972 115.565,200.804 \n",
       "  119.84,204.054 124.115,204.927 128.056,203.371 131.997,199.755 135.937,194.663 139.878,188.951 144.103,183.233 148.329,179.003 152.554,177.033 156.779,177.612 \n",
       "  166.569,186.447 176.359,195.67 178.535,196.433 180.71,196.524 182.885,195.912 185.06,194.607 189.41,190.144 193.761,183.92 197.575,177.931 201.39,172.361 \n",
       "  205.205,168.007 209.02,165.446 213.179,164.992 217.338,166.817 221.497,170.283 225.656,174.406 229.84,178.068 234.024,180.179 238.208,179.977 242.392,177.164 \n",
       "  251.643,163.524 260.895,148.021 265.296,143.24 269.697,141.08 274.099,141.469 278.5,143.718 283.076,146.797 287.653,149.141 289.941,149.596 292.229,149.385 \n",
       "  294.517,148.415 296.806,146.639 300.658,141.845 304.51,135.078 308.362,126.956 312.215,118.311 316.918,108.343 321.621,100.331 326.324,95.103 331.028,92.6883 \n",
       "  335.449,92.2958 339.87,92.5569 344.291,92.1065 348.712,89.6748 352.254,85.6839 355.796,79.6556 359.337,71.6741 362.879,62.0812 369.962,40.3705 377.045,19.7472 \n",
       "  378.135,16.9644 379.225,14.3171 380.315,11.811 380.315,274.821 379.225,274.821 378.135,274.821 377.045,274.821 369.962,274.821 362.879,274.821 359.337,274.821 \n",
       "  355.796,274.821 352.254,274.821 348.712,274.821 344.291,274.821 339.87,274.821 335.449,274.821 331.028,274.821 326.324,274.821 321.621,274.821 316.918,274.821 \n",
       "  312.215,274.821 308.362,274.821 304.51,274.821 300.658,274.821 296.806,274.821 294.517,274.821 292.229,274.821 289.941,274.821 287.653,274.821 283.076,274.821 \n",
       "  278.5,274.821 274.099,274.821 269.697,274.821 265.296,274.821 260.895,274.821 251.643,274.821 242.392,274.821 238.208,274.821 234.024,274.821 229.84,274.821 \n",
       "  225.656,274.821 221.497,274.821 217.338,274.821 213.179,274.821 209.02,274.821 205.205,274.821 201.39,274.821 197.575,274.821 193.761,274.821 189.41,274.821 \n",
       "  185.06,274.821 182.885,274.821 180.71,274.821 178.535,274.821 176.359,274.821 166.569,274.821 156.779,274.821 152.554,274.821 148.329,274.821 144.103,274.821 \n",
       "  139.878,274.821 135.937,274.821 131.997,274.821 128.056,274.821 124.115,274.821 119.84,274.821 115.565,274.821 111.29,274.821 107.016,274.821 103.081,274.821 \n",
       "  99.1453,274.821 95.2101,274.821 91.2749,274.821 86.6206,274.821 81.9662,274.821 77.3119,274.821 72.6575,274.821 68.785,274.821 64.9126,274.821 61.0401,274.821 \n",
       "  57.1677,274.821 49.4228,274.821 41.6779,274.821 40.8403,274.821 40.0027,274.821 39.1651,274.821 \n",
       "  \" fill=\"#ff0000\" fill-opacity=\"0.5\"/>\n",
       "<polyline clip-path=\"url(#clip8602)\" style=\"stroke:#ff0000; stroke-width:1; stroke-opacity:1; fill:none\" points=\"\n",
       "  39.1651,186.245 40.0027,186.367 40.8403,186.59 41.6779,186.911 49.4228,193.759 57.1677,203.437 61.0401,207.143 64.9126,209.104 68.785,208.935 72.6575,206.628 \n",
       "  77.3119,201.577 81.9662,195.215 86.6206,189.095 91.2749,184.704 95.2101,183.129 99.1453,183.783 103.081,186.489 107.016,190.69 111.29,195.972 115.565,200.804 \n",
       "  119.84,204.054 124.115,204.927 128.056,203.371 131.997,199.755 135.937,194.663 139.878,188.951 144.103,183.233 148.329,179.003 152.554,177.033 156.779,177.612 \n",
       "  166.569,186.447 176.359,195.67 178.535,196.433 180.71,196.524 182.885,195.912 185.06,194.607 189.41,190.144 193.761,183.92 197.575,177.931 201.39,172.361 \n",
       "  205.205,168.007 209.02,165.446 213.179,164.992 217.338,166.817 221.497,170.283 225.656,174.406 229.84,178.068 234.024,180.179 238.208,179.977 242.392,177.164 \n",
       "  251.643,163.524 260.895,148.021 265.296,143.24 269.697,141.08 274.099,141.469 278.5,143.718 283.076,146.797 287.653,149.141 289.941,149.596 292.229,149.385 \n",
       "  294.517,148.415 296.806,146.639 300.658,141.845 304.51,135.078 308.362,126.956 312.215,118.311 316.918,108.343 321.621,100.331 326.324,95.103 331.028,92.6883 \n",
       "  335.449,92.2958 339.87,92.5569 344.291,92.1065 348.712,89.6748 352.254,85.6839 355.796,79.6556 359.337,71.6741 362.879,62.0812 369.962,40.3705 377.045,19.7472 \n",
       "  378.135,16.9644 379.225,14.3171 380.315,11.811 \n",
       "  \"/>\n",
       "<polygon clip-path=\"url(#clip8602)\" points=\"\n",
       "41.6779,165.154 72.6575,165.154 91.2749,165.154 107.016,165.154 124.115,165.154 139.878,165.154 156.779,165.154 176.359,165.154 193.761,165.154 209.02,165.154 \n",
       "  225.656,165.154 242.392,165.154 260.895,165.154 278.5,165.154 296.806,165.154 312.215,165.154 331.028,165.154 348.712,165.154 377.045,165.154 377.045,274.821 \n",
       "  348.712,274.821 331.028,274.821 312.215,274.821 296.806,274.821 278.5,274.821 260.895,274.821 242.392,274.821 225.656,274.821 209.02,274.821 193.761,274.821 \n",
       "  176.359,274.821 156.779,274.821 139.878,274.821 124.115,274.821 107.016,274.821 91.2749,274.821 72.6575,274.821 41.6779,274.821 \n",
       "  \" fill=\"#0000ff\" fill-opacity=\"0.5\"/>\n",
       "<polyline clip-path=\"url(#clip8602)\" style=\"stroke:#0000ff; stroke-width:1; stroke-opacity:1; fill:none\" points=\"\n",
       "  41.6779,165.154 72.6575,165.154 91.2749,165.154 107.016,165.154 124.115,165.154 139.878,165.154 156.779,165.154 176.359,165.154 193.761,165.154 209.02,165.154 \n",
       "  225.656,165.154 242.392,165.154 260.895,165.154 278.5,165.154 296.806,165.154 312.215,165.154 331.028,165.154 348.712,165.154 377.045,165.154 \n",
       "  \"/>\n",
       "</svg>\n"
      ]
     },
     "execution_count": 29,
     "metadata": {},
     "output_type": "execute_result"
    }
   ],
   "source": [
    "f(x) = exp(x) + cos(3π*x) * 0.5 + 3\n",
    "F(x) = exp(x) + sin(3π*x)/6π + 3x\n",
    "a, b = -2, 2\n",
    "plot(f, a, b, c=:red, fill=(0,:red,0.5), leg=false)\n",
    "plot!(x->f((a+b)/2), a, b, c=:blue, fill=(0,:blue,0.5))"
   ]
  },
  {
   "cell_type": "code",
   "execution_count": 30,
   "metadata": {},
   "outputs": [
    {
     "data": {
      "text/plain": [
       "ponto_medio (generic function with 1 method)"
      ]
     },
     "execution_count": 30,
     "metadata": {},
     "output_type": "execute_result"
    }
   ],
   "source": [
    "function ponto_medio(f, a, b)\n",
    "    return (b-a)*f((a+b)/2)\n",
    "end"
   ]
  },
  {
   "cell_type": "code",
   "execution_count": 31,
   "metadata": {},
   "outputs": [
    {
     "data": {
      "text/plain": [
       "-1.253720815694038"
      ]
     },
     "execution_count": 31,
     "metadata": {},
     "output_type": "execute_result"
    }
   ],
   "source": [
    "ponto_medio(f, a, b) - (F(b)-F(a))"
   ]
  },
  {
   "cell_type": "markdown",
   "metadata": {},
   "source": [
    "### Trapézio"
   ]
  },
  {
   "cell_type": "markdown",
   "metadata": {},
   "source": [
    "A fórmula de trapézio é uma fórmula de dois pontos. Note que dado dois pontos distintos, temos uma reta. Pensando na integral como a área abaixo dessa reta, vemos que a área será a área de um trapézio. Daí, o nome."
   ]
  },
  {
   "cell_type": "markdown",
   "metadata": {},
   "source": [
    "Para o caso fechado, os dois pontos no intervalo $[a,b]$ serão $x_1 = a$ e $x_2 = b$."
   ]
  },
  {
   "cell_type": "markdown",
   "metadata": {},
   "source": [
    "Para o caso aberto, os dois pontos no intervalo $[a,b]$ serão $x = \\frac{2a + b}{3}$"
   ]
  },
  {
   "cell_type": "code",
   "execution_count": 32,
   "metadata": {},
   "outputs": [
    {
     "data": {
      "image/svg+xml": [
       "<?xml version=\"1.0\" encoding=\"utf-8\"?>\n",
       "<svg xmlns=\"http://www.w3.org/2000/svg\" xmlns:xlink=\"http://www.w3.org/1999/xlink\" width=\"400\" height=\"300\" viewBox=\"0 0 400 300\">\n",
       "<defs>\n",
       "  <clipPath id=\"clip8800\">\n",
       "    <rect x=\"0\" y=\"0\" width=\"400\" height=\"300\"/>\n",
       "  </clipPath>\n",
       "</defs>\n",
       "<polygon clip-path=\"url(#clip8800)\" points=\"\n",
       "0,300 400,300 400,0 0,0 \n",
       "  \" fill=\"#ffffff\" fill-opacity=\"1\"/>\n",
       "<defs>\n",
       "  <clipPath id=\"clip8801\">\n",
       "    <rect x=\"80\" y=\"0\" width=\"281\" height=\"281\"/>\n",
       "  </clipPath>\n",
       "</defs>\n",
       "<polygon clip-path=\"url(#clip8800)\" points=\"\n",
       "39.1651,274.821 380.315,274.821 380.315,11.811 39.1651,11.811 \n",
       "  \" fill=\"#ffffff\" fill-opacity=\"1\"/>\n",
       "<defs>\n",
       "  <clipPath id=\"clip8802\">\n",
       "    <rect x=\"39\" y=\"11\" width=\"342\" height=\"264\"/>\n",
       "  </clipPath>\n",
       "</defs>\n",
       "<polyline clip-path=\"url(#clip8802)\" style=\"stroke:#000000; stroke-width:0.5; stroke-opacity:0.1; fill:none\" points=\"\n",
       "  81.2122,274.821 81.2122,11.811 \n",
       "  \"/>\n",
       "<polyline clip-path=\"url(#clip8802)\" style=\"stroke:#000000; stroke-width:0.5; stroke-opacity:0.1; fill:none\" points=\"\n",
       "  124.097,274.821 124.097,11.811 \n",
       "  \"/>\n",
       "<polyline clip-path=\"url(#clip8802)\" style=\"stroke:#000000; stroke-width:0.5; stroke-opacity:0.1; fill:none\" points=\"\n",
       "  166.982,274.821 166.982,11.811 \n",
       "  \"/>\n",
       "<polyline clip-path=\"url(#clip8802)\" style=\"stroke:#000000; stroke-width:0.5; stroke-opacity:0.1; fill:none\" points=\"\n",
       "  209.866,274.821 209.866,11.811 \n",
       "  \"/>\n",
       "<polyline clip-path=\"url(#clip8802)\" style=\"stroke:#000000; stroke-width:0.5; stroke-opacity:0.1; fill:none\" points=\"\n",
       "  252.751,274.821 252.751,11.811 \n",
       "  \"/>\n",
       "<polyline clip-path=\"url(#clip8802)\" style=\"stroke:#000000; stroke-width:0.5; stroke-opacity:0.1; fill:none\" points=\"\n",
       "  295.636,274.821 295.636,11.811 \n",
       "  \"/>\n",
       "<polyline clip-path=\"url(#clip8802)\" style=\"stroke:#000000; stroke-width:0.5; stroke-opacity:0.1; fill:none\" points=\"\n",
       "  338.52,274.821 338.52,11.811 \n",
       "  \"/>\n",
       "<polyline clip-path=\"url(#clip8802)\" style=\"stroke:#000000; stroke-width:0.5; stroke-opacity:0.1; fill:none\" points=\"\n",
       "  39.1651,274.821 380.315,274.821 \n",
       "  \"/>\n",
       "<polyline clip-path=\"url(#clip8802)\" style=\"stroke:#000000; stroke-width:0.5; stroke-opacity:0.1; fill:none\" points=\"\n",
       "  39.1651,213.921 380.315,213.921 \n",
       "  \"/>\n",
       "<polyline clip-path=\"url(#clip8802)\" style=\"stroke:#000000; stroke-width:0.5; stroke-opacity:0.1; fill:none\" points=\"\n",
       "  39.1651,153.022 380.315,153.022 \n",
       "  \"/>\n",
       "<polyline clip-path=\"url(#clip8802)\" style=\"stroke:#000000; stroke-width:0.5; stroke-opacity:0.1; fill:none\" points=\"\n",
       "  39.1651,92.1221 380.315,92.1221 \n",
       "  \"/>\n",
       "<polyline clip-path=\"url(#clip8802)\" style=\"stroke:#000000; stroke-width:0.5; stroke-opacity:0.1; fill:none\" points=\"\n",
       "  39.1651,31.2226 380.315,31.2226 \n",
       "  \"/>\n",
       "<polyline clip-path=\"url(#clip8800)\" style=\"stroke:#000000; stroke-width:1; stroke-opacity:1; fill:none\" points=\"\n",
       "  39.1651,274.821 380.315,274.821 \n",
       "  \"/>\n",
       "<polyline clip-path=\"url(#clip8800)\" style=\"stroke:#000000; stroke-width:1; stroke-opacity:1; fill:none\" points=\"\n",
       "  39.1651,274.821 39.1651,11.811 \n",
       "  \"/>\n",
       "<polyline clip-path=\"url(#clip8800)\" style=\"stroke:#000000; stroke-width:1; stroke-opacity:1; fill:none\" points=\"\n",
       "  81.2122,274.821 81.2122,270.876 \n",
       "  \"/>\n",
       "<polyline clip-path=\"url(#clip8800)\" style=\"stroke:#000000; stroke-width:1; stroke-opacity:1; fill:none\" points=\"\n",
       "  124.097,274.821 124.097,270.876 \n",
       "  \"/>\n",
       "<polyline clip-path=\"url(#clip8800)\" style=\"stroke:#000000; stroke-width:1; stroke-opacity:1; fill:none\" points=\"\n",
       "  166.982,274.821 166.982,270.876 \n",
       "  \"/>\n",
       "<polyline clip-path=\"url(#clip8800)\" style=\"stroke:#000000; stroke-width:1; stroke-opacity:1; fill:none\" points=\"\n",
       "  209.866,274.821 209.866,270.876 \n",
       "  \"/>\n",
       "<polyline clip-path=\"url(#clip8800)\" style=\"stroke:#000000; stroke-width:1; stroke-opacity:1; fill:none\" points=\"\n",
       "  252.751,274.821 252.751,270.876 \n",
       "  \"/>\n",
       "<polyline clip-path=\"url(#clip8800)\" style=\"stroke:#000000; stroke-width:1; stroke-opacity:1; fill:none\" points=\"\n",
       "  295.636,274.821 295.636,270.876 \n",
       "  \"/>\n",
       "<polyline clip-path=\"url(#clip8800)\" style=\"stroke:#000000; stroke-width:1; stroke-opacity:1; fill:none\" points=\"\n",
       "  338.52,274.821 338.52,270.876 \n",
       "  \"/>\n",
       "<polyline clip-path=\"url(#clip8800)\" style=\"stroke:#000000; stroke-width:1; stroke-opacity:1; fill:none\" points=\"\n",
       "  39.1651,274.821 44.2823,274.821 \n",
       "  \"/>\n",
       "<polyline clip-path=\"url(#clip8800)\" style=\"stroke:#000000; stroke-width:1; stroke-opacity:1; fill:none\" points=\"\n",
       "  39.1651,213.921 44.2823,213.921 \n",
       "  \"/>\n",
       "<polyline clip-path=\"url(#clip8800)\" style=\"stroke:#000000; stroke-width:1; stroke-opacity:1; fill:none\" points=\"\n",
       "  39.1651,153.022 44.2823,153.022 \n",
       "  \"/>\n",
       "<polyline clip-path=\"url(#clip8800)\" style=\"stroke:#000000; stroke-width:1; stroke-opacity:1; fill:none\" points=\"\n",
       "  39.1651,92.1221 44.2823,92.1221 \n",
       "  \"/>\n",
       "<polyline clip-path=\"url(#clip8800)\" style=\"stroke:#000000; stroke-width:1; stroke-opacity:1; fill:none\" points=\"\n",
       "  39.1651,31.2226 44.2823,31.2226 \n",
       "  \"/>\n",
       "<g clip-path=\"url(#clip8800)\">\n",
       "<text style=\"fill:#000000; fill-opacity:1; font-family:Arial,Helvetica Neue,Helvetica,sans-serif; font-size:12; text-anchor:middle;\" transform=\"rotate(0, 81.2122, 287.621)\" x=\"81.2122\" y=\"287.621\">-1.5</text>\n",
       "</g>\n",
       "<g clip-path=\"url(#clip8800)\">\n",
       "<text style=\"fill:#000000; fill-opacity:1; font-family:Arial,Helvetica Neue,Helvetica,sans-serif; font-size:12; text-anchor:middle;\" transform=\"rotate(0, 124.097, 287.621)\" x=\"124.097\" y=\"287.621\">-1.0</text>\n",
       "</g>\n",
       "<g clip-path=\"url(#clip8800)\">\n",
       "<text style=\"fill:#000000; fill-opacity:1; font-family:Arial,Helvetica Neue,Helvetica,sans-serif; font-size:12; text-anchor:middle;\" transform=\"rotate(0, 166.982, 287.621)\" x=\"166.982\" y=\"287.621\">-0.5</text>\n",
       "</g>\n",
       "<g clip-path=\"url(#clip8800)\">\n",
       "<text style=\"fill:#000000; fill-opacity:1; font-family:Arial,Helvetica Neue,Helvetica,sans-serif; font-size:12; text-anchor:middle;\" transform=\"rotate(0, 209.866, 287.621)\" x=\"209.866\" y=\"287.621\">0.0</text>\n",
       "</g>\n",
       "<g clip-path=\"url(#clip8800)\">\n",
       "<text style=\"fill:#000000; fill-opacity:1; font-family:Arial,Helvetica Neue,Helvetica,sans-serif; font-size:12; text-anchor:middle;\" transform=\"rotate(0, 252.751, 287.621)\" x=\"252.751\" y=\"287.621\">0.5</text>\n",
       "</g>\n",
       "<g clip-path=\"url(#clip8800)\">\n",
       "<text style=\"fill:#000000; fill-opacity:1; font-family:Arial,Helvetica Neue,Helvetica,sans-serif; font-size:12; text-anchor:middle;\" transform=\"rotate(0, 295.636, 287.621)\" x=\"295.636\" y=\"287.621\">1.0</text>\n",
       "</g>\n",
       "<g clip-path=\"url(#clip8800)\">\n",
       "<text style=\"fill:#000000; fill-opacity:1; font-family:Arial,Helvetica Neue,Helvetica,sans-serif; font-size:12; text-anchor:middle;\" transform=\"rotate(0, 338.52, 287.621)\" x=\"338.52\" y=\"287.621\">1.5</text>\n",
       "</g>\n",
       "<g clip-path=\"url(#clip8800)\">\n",
       "<text style=\"fill:#000000; fill-opacity:1; font-family:Arial,Helvetica Neue,Helvetica,sans-serif; font-size:12; text-anchor:end;\" transform=\"rotate(0, 35.1651, 279.321)\" x=\"35.1651\" y=\"279.321\">0.0</text>\n",
       "</g>\n",
       "<g clip-path=\"url(#clip8800)\">\n",
       "<text style=\"fill:#000000; fill-opacity:1; font-family:Arial,Helvetica Neue,Helvetica,sans-serif; font-size:12; text-anchor:end;\" transform=\"rotate(0, 35.1651, 218.421)\" x=\"35.1651\" y=\"218.421\">2.5</text>\n",
       "</g>\n",
       "<g clip-path=\"url(#clip8800)\">\n",
       "<text style=\"fill:#000000; fill-opacity:1; font-family:Arial,Helvetica Neue,Helvetica,sans-serif; font-size:12; text-anchor:end;\" transform=\"rotate(0, 35.1651, 157.522)\" x=\"35.1651\" y=\"157.522\">5.0</text>\n",
       "</g>\n",
       "<g clip-path=\"url(#clip8800)\">\n",
       "<text style=\"fill:#000000; fill-opacity:1; font-family:Arial,Helvetica Neue,Helvetica,sans-serif; font-size:12; text-anchor:end;\" transform=\"rotate(0, 35.1651, 96.6221)\" x=\"35.1651\" y=\"96.6221\">7.5</text>\n",
       "</g>\n",
       "<g clip-path=\"url(#clip8800)\">\n",
       "<text style=\"fill:#000000; fill-opacity:1; font-family:Arial,Helvetica Neue,Helvetica,sans-serif; font-size:12; text-anchor:end;\" transform=\"rotate(0, 35.1651, 35.7226)\" x=\"35.1651\" y=\"35.7226\">10.0</text>\n",
       "</g>\n",
       "<polygon clip-path=\"url(#clip8802)\" points=\"\n",
       "39.1651,186.284 40.0027,186.405 40.8403,186.628 41.6779,186.95 49.4228,193.795 57.1677,203.468 61.0401,207.172 64.9126,209.132 68.785,208.963 72.6575,206.658 \n",
       "  77.3119,201.609 81.9662,195.25 86.6206,189.132 91.2749,184.743 95.2101,183.169 99.1453,183.822 103.081,186.527 107.016,190.727 111.29,196.006 115.565,200.836 \n",
       "  119.84,204.085 124.115,204.958 128.056,203.402 131.997,199.787 135.937,194.698 139.878,188.989 144.103,183.273 148.329,179.044 152.554,177.075 156.779,177.654 \n",
       "  166.569,186.485 176.359,195.704 178.535,196.467 180.71,196.558 182.885,195.947 185.06,194.642 189.41,190.181 193.761,183.96 197.575,177.973 201.39,172.406 \n",
       "  205.205,168.053 209.02,165.494 213.179,165.04 217.338,166.864 221.497,170.329 225.656,174.45 229.84,178.111 234.024,180.22 238.208,180.018 242.392,177.207 \n",
       "  251.643,163.573 260.895,148.076 265.296,143.297 269.697,141.139 274.099,141.527 278.5,143.775 283.076,146.853 287.653,149.196 289.941,149.65 292.229,149.439 \n",
       "  294.517,148.47 296.806,146.694 300.658,141.903 304.51,135.139 308.362,127.021 312.215,118.379 316.918,108.416 321.621,100.407 326.324,95.1813 331.028,92.7677 \n",
       "  335.449,92.3754 339.87,92.6364 344.291,92.1862 348.712,89.7556 352.254,85.7664 355.796,79.7407 359.337,71.7627 362.879,62.1739 369.962,40.4727 377.045,19.8585 \n",
       "  378.135,17.0769 379.225,14.4307 380.315,11.9257 380.315,274.821 379.225,274.821 378.135,274.821 377.045,274.821 369.962,274.821 362.879,274.821 359.337,274.821 \n",
       "  355.796,274.821 352.254,274.821 348.712,274.821 344.291,274.821 339.87,274.821 335.449,274.821 331.028,274.821 326.324,274.821 321.621,274.821 316.918,274.821 \n",
       "  312.215,274.821 308.362,274.821 304.51,274.821 300.658,274.821 296.806,274.821 294.517,274.821 292.229,274.821 289.941,274.821 287.653,274.821 283.076,274.821 \n",
       "  278.5,274.821 274.099,274.821 269.697,274.821 265.296,274.821 260.895,274.821 251.643,274.821 242.392,274.821 238.208,274.821 234.024,274.821 229.84,274.821 \n",
       "  225.656,274.821 221.497,274.821 217.338,274.821 213.179,274.821 209.02,274.821 205.205,274.821 201.39,274.821 197.575,274.821 193.761,274.821 189.41,274.821 \n",
       "  185.06,274.821 182.885,274.821 180.71,274.821 178.535,274.821 176.359,274.821 166.569,274.821 156.779,274.821 152.554,274.821 148.329,274.821 144.103,274.821 \n",
       "  139.878,274.821 135.937,274.821 131.997,274.821 128.056,274.821 124.115,274.821 119.84,274.821 115.565,274.821 111.29,274.821 107.016,274.821 103.081,274.821 \n",
       "  99.1453,274.821 95.2101,274.821 91.2749,274.821 86.6206,274.821 81.9662,274.821 77.3119,274.821 72.6575,274.821 68.785,274.821 64.9126,274.821 61.0401,274.821 \n",
       "  57.1677,274.821 49.4228,274.821 41.6779,274.821 40.8403,274.821 40.0027,274.821 39.1651,274.821 \n",
       "  \" fill=\"#ff0000\" fill-opacity=\"0.5\"/>\n",
       "<polyline clip-path=\"url(#clip8802)\" style=\"stroke:#ff0000; stroke-width:1; stroke-opacity:1; fill:none\" points=\"\n",
       "  39.1651,186.284 40.0027,186.405 40.8403,186.628 41.6779,186.95 49.4228,193.795 57.1677,203.468 61.0401,207.172 64.9126,209.132 68.785,208.963 72.6575,206.658 \n",
       "  77.3119,201.609 81.9662,195.25 86.6206,189.132 91.2749,184.743 95.2101,183.169 99.1453,183.822 103.081,186.527 107.016,190.727 111.29,196.006 115.565,200.836 \n",
       "  119.84,204.085 124.115,204.958 128.056,203.402 131.997,199.787 135.937,194.698 139.878,188.989 144.103,183.273 148.329,179.044 152.554,177.075 156.779,177.654 \n",
       "  166.569,186.485 176.359,195.704 178.535,196.467 180.71,196.558 182.885,195.947 185.06,194.642 189.41,190.181 193.761,183.96 197.575,177.973 201.39,172.406 \n",
       "  205.205,168.053 209.02,165.494 213.179,165.04 217.338,166.864 221.497,170.329 225.656,174.45 229.84,178.111 234.024,180.22 238.208,180.018 242.392,177.207 \n",
       "  251.643,163.573 260.895,148.076 265.296,143.297 269.697,141.139 274.099,141.527 278.5,143.775 283.076,146.853 287.653,149.196 289.941,149.65 292.229,149.439 \n",
       "  294.517,148.47 296.806,146.694 300.658,141.903 304.51,135.139 308.362,127.021 312.215,118.379 316.918,108.416 321.621,100.407 326.324,95.1813 331.028,92.7677 \n",
       "  335.449,92.3754 339.87,92.6364 344.291,92.1862 348.712,89.7556 352.254,85.7664 355.796,79.7407 359.337,71.7627 362.879,62.1739 369.962,40.4727 377.045,19.8585 \n",
       "  378.135,17.0769 379.225,14.4307 380.315,11.9257 \n",
       "  \"/>\n",
       "<polygon clip-path=\"url(#clip8802)\" points=\"\n",
       "41.6779,184.539 72.6575,168.583 91.2749,158.994 107.016,150.887 124.115,142.081 139.878,133.962 156.779,125.257 176.359,115.172 193.761,106.21 209.02,98.351 \n",
       "  225.656,89.7825 242.392,81.1631 260.895,71.6331 278.5,62.5657 296.806,53.1376 312.215,45.2012 331.028,35.5117 348.712,26.4034 377.045,11.811 377.045,274.821 \n",
       "  348.712,274.821 331.028,274.821 312.215,274.821 296.806,274.821 278.5,274.821 260.895,274.821 242.392,274.821 225.656,274.821 209.02,274.821 193.761,274.821 \n",
       "  176.359,274.821 156.779,274.821 139.878,274.821 124.115,274.821 107.016,274.821 91.2749,274.821 72.6575,274.821 41.6779,274.821 \n",
       "  \" fill=\"#0000ff\" fill-opacity=\"0.5\"/>\n",
       "<polyline clip-path=\"url(#clip8802)\" style=\"stroke:#0000ff; stroke-width:1; stroke-opacity:1; fill:none\" points=\"\n",
       "  41.6779,184.539 72.6575,168.583 91.2749,158.994 107.016,150.887 124.115,142.081 139.878,133.962 156.779,125.257 176.359,115.172 193.761,106.21 209.02,98.351 \n",
       "  225.656,89.7825 242.392,81.1631 260.895,71.6331 278.5,62.5657 296.806,53.1376 312.215,45.2012 331.028,35.5117 348.712,26.4034 377.045,11.811 \n",
       "  \"/>\n",
       "</svg>\n"
      ]
     },
     "execution_count": 32,
     "metadata": {},
     "output_type": "execute_result"
    }
   ],
   "source": [
    "f(x) = exp(x) + cos(3π*x) * 0.5 + 3\n",
    "F(x) = exp(x) + sin(3π*x)/6π + 3x\n",
    "a, b = -2, 2\n",
    "plot(f, a, b, c=:red, fill=(0,:red,0.5), leg=false)\n",
    "plot!(x->f(a) + (x-a)*(f(b)-f(a))/(b-a), a, b, c=:blue, fill=(0,:blue,0.5))"
   ]
  },
  {
   "cell_type": "code",
   "execution_count": 12,
   "metadata": {},
   "outputs": [
    {
     "data": {
      "text/html": [
       "<img src=\"data:image/png;base64,iVBORw0KGgoAAAANSUhEUgAAAZAAAAEsCAYAAADtt+XCAAAABHNCSVQICAgIfAhkiAAAAAlwSFlzAAAPYQAAD2EBqD+naQAAIABJREFUeJzt3Xl4VPW9P/D3ZCYzWcgOhJB9YQYCYVXBHa0ipOq9iiBarbgU72Opt9c+9fnx/Ko/aVF6e7W1rfZKK6AWjGxWEpRFlEUQRURlCSRhCUkMEMg2ISSTTOb8/vg4CYEsM5NZzkner+fJg0lOZj4Z4bznfJfP0SmKooCIiMhNQYEugIiItIkBQkREHlFNgCiKAqvVCo6oERFpg2oCpKGhAVFRUWhoaAh0KS6rr68PdAke0WLdrNl/tFi3FmsGNFR3czMwePAVX1ZNgGhRW1tboEvwiBbrZs3+o8W6tVgzoKG6V64Eamqu+DIDhIiIuqcowKuvAmbzFd9igBARUfd27wYOHQKuvvqKbzFAiIioe6+9BgwZAmRkXPEtBggREXXt3Dng/feBCRMAne6KbzNAiIioa2+/LXMg48Z1+W0GCBERXUlRgCVLgJEjgbCwLg9hgBAR0ZW++AI4dgyYOLHbQxggRER0pffeA6KigNTUbg9hgBARUWdtbRIgI0cCQd3HBAOEiIg6274dqKoCcnJ6PIwBQkREneXlSe+r4cN7PIwBQkREHWw2YO1aYNSoLvd+XIoBQkREHbZsAerrgTFjej2UAUJERB3efRcYNgwYOrTXQ9sD5Omnn0ZaWhp0Oh0OHTrUfkBJSQmuu+46mM1mXHPNNSgsLOz2wRYtWoTMzExkZmbiueee6+NvQUREftXYCKxfD2Rnu3R4e4Dcd9992LVrF1IvW/P75JNPYt68eSguLsazzz6Lxx9/vMsH2rlzJ/Ly8nDgwAEUFhZi48aN2Lx5cx9+EyIi8quCAqCpyaXhK+CSALnpppuQlJTU6ZtVVVXYv38/HnroIQDAzJkzcfLkSZSWll7xQKtWrcLcuXMRHh4Ok8mExx57DHl5eX34TYiIyK/efRdITgZiYlw6vMc5kPLycgwfPhwGgwEAoNPpkJKSgrKysiuOLSsr63T1kpaW1uVxTjabDVartdMHEREFSG0tsGmTy8NXAGDo7QDdZcu4FEVx6diejgOAxYsXY+HChVd8vaamBna7vbeyVKG2tjbQJXhEi3WzZv/RYt1arBlQV93GlSsRbrejOSNDhrG6EHrZ5z0GSHJyMioqKmC322EwGKAoCsrLy5GSknLFsSkpKZ2Gtk6dOtXlcU4LFizAM8880/651WpFcnIyYmNjERkZ2VNZqhIbGxvoEjyixbpZs/9osW4t1gyoqO7164H0dIS6sPrKqcchrKFDh2LChAlYsWIFAGDdunVIS0tDWlraFcfOmjULb7/9NhobG2Gz2bBs2TLMmTOn28c2mUyIjIzs9EFERAFw5gywbZtbw1fAJQHy85//HElJSaioqMBtt92GrKwsAMCSJUuwZMkSmM1m/P73v8fSpUvbfzg3Nxf79u0DAEydOhWzZ89GTk4ORo0ahWnTpmH69One+NWIiMiX1qyRXeduBohO6W2ywk+sViuioqJQX1+vmauRmpoa9Vx+ukGLdbNm/9Fi3VqsGVBR3ddeC9TUAA880PNxL7zQ6VPuRCciGshOnZKbR40e7faPMkCIiAay994DjEa594ebGCBERAPZypXAiBESIm5igBARDVRHjgAHD7rcuuRyDBAiooHqvfeA0FDgh1W37mKAEBENVKtWAWYzYOi1KUmXGCBERAPR4cNAUZHbez8uxQAhIhqI1q6V4auMDI8fggFCRDQQrV4tq688HL4CGCBERAPP0aNAYSEwalSfHoYBQkQ00KxdC5hMQGZmnx6GAUJENNA4h6+Cg/v0MAwQIqKBpKRENg/2YfWVEwOEiGggWbtW2pZ4uHnwUgwQIqKBxEvDVwADhIho4DhxAvj22z6vvnJigBARDRTO4asRI7zycAwQIqKBYvVqmfvwoHV7VxggREQDQWkp8PXXXhu+AhggREQDw7p1MnHupeErgAFCRDQwOIevTCavPSQDhIiovysvB/bu9ei+5z1hgBAR9Xfr1knXXYvFqw/LACEi6u9Wr5bGiV4cvgIYIERE/dv33wN79nh19ZUTA4SIqD97/31Ar/f68BXAACEi6t+cw1chIV5/aAYIEVF/VVkJ7N7t9dVXTgwQIqL+asUKWX3lg/kPgAFCRNQ/KQqwfLnMffhg+ApggBAR9U/79gFHjwLjxvnsKRggRET90dtvA1FRQEaGz56CAUJE1N/YbDL/MWYMEOS70zwDhIiov9mwAaiv9+nwFcAAISLqf5YvB5KSgCFDfPo0DBAiov7k7Flg0yZg7FifPxUDhIioP1m5EtDpZP7DxxggRET9haIAS5cCZjMQGurzp2OAEBH1F1u3AoWFwKRJfnk6BggRUX/xyitAQgKQnu6Xp2OAEBH1B4cPA5s3A5MnyxyIHzBAiIj6g1dekZ3nfpg8d2KAEBFp3ZkzsvP8qqvk5lF+wgAhItK6v/1NWpb4afLciQFCRKRlFy8Cr70mbUv8sHT3UgwQIiIte+cd6Xs1ZYrfn5oBQkSkVVYr8PzzwOjRQEyM35+eAUJEpFW//a1cffzoRwF5egYIEZEWFRYCf/4zcMMNsnw3ABggRERaoyjAL34BREcD114bsDIYIEREWrNuHfDpp8C0aYDBELAyGCBERFrS2Aj88peAxQKMGBHQUhggRERa4XAAjz0GVFXJ1UeAMUCIiLRAUYBf/QpYswa45x4gNjbQFTFAiIg04ZVXgFdfBWbMAEaNCnQ1AIBeZ1/q6uowderU9s8vXryIEydOoKqqCrGXJOD27duRm5sLs9nc/rU9e/Yg1M9b64mI+p2VK4Ff/1qW7F59daCraddrgERHR+Pbb79t//zll1/Gjh07OoWHU3Z2Nvbt2+fdComIBqqzZ4GFC4G//x0YPx649dZAV9SJ2+u/li9fjhdffNEXtRAREQBcuCBDVn/4g3x+663S68pPN4pylVsBsmfPHlRXV+POO+/s8vtFRUWYOHEi9Ho9Hn30UTz11FPdPpbNZoPNZmv/3Gq1ulMKEZH6KQpQVyerps6eBWpqgLAw2TkeFQWdwwG0tgKnTwOVlfJx6hSwZIn83FVXATfe6Pcuu65yK0CWLVuGn/70pzB0sXFl4sSJqKioQFRUFCoqKpCbm4vBgwdj9uzZXT7W4sWLsXDhwiu+XlNTA7vd7k5ZAVNbWxvoEjyixbpZs/9osW5V1awoCP7wQ4S+/DL0R45A18P57PL2h4pOB4SHoy0tDfZ774XibFHS1OS7et1weYzpFEVRXPnBxsZGJCQkYO/evRg5cmSvxy9evBiVlZX461//2uX3u7oCSU5ORn19PSIjI10pKeBqamq6nAtSOy3WzZr9R4t1q6JmRQE2bACeew747jsgI0M2+4WHA4MGyZ+hoYDdDjQ3A83NsFmtMAUHAxER8hEe7tc7CrrthRc6feryFciaNWswduzYbsPj9OnTiI+PR1BQEBoaGrBhwwY8/vjj3T6eyWSCyWRy9emJiNRr+3bZo7F/P5CWBjzyiPzZnR+uLBxNTaodnnKFy/tAli5dekUgPPHEE8jPzwcArFu3Djk5ORg3bhymTJmC22+/HY8++qh3qyUiUpstW2RX+LlzwMMPAz/9ac/h0Y+4PITla1arFVFRURzC8gMt1s2a/UeLdQes5q++AqZOBRITgfvvd3v4qampSVt75S4bwuJOdCIiTxQXA9OnA3FxwH33qXvuwkcYIERE7qqsBG67TVqpz5kDGI2BriggGCBERO6oq5M5j4YG4MEHZV/HAMUAISJylaIAs2YBJ09KeAToVrJqwQAhInLV6tXA1q3STn3IkEBXE3AMECIiV1y4APzXf0kr9aysQFejCgwQIiJXvPgicP68Ku4EqBYMECKi3hQXS3fc664DoqMDXY1qMECIiHqiKMDTT0uvquuvD3Q1qsIAISLqSUEBsHkzcPvtQHBwoKtRFQYIEVF3mprk6mPECOmsS50wQIiIuvM//wNUVAB33KG6uwH62vfWCOQXWdDS1n2LFrdvaUtENCDU1sotZa+5Rvpd9XOKAnx7ZhgKii344OhIfHMmAUa9HUd+/joyYrq+YRcDhIioK6+9BrS0yMqrfspm12NbaTryiyxYX2RBZUMkQg2tyIipwb0jCzFzVGG34QEwQIiIrnThAvCnPwHjx8vdBPuRc41h+LDEjPwiMzYfz8LFViPiQi8iK7YGP0o/gdSoeuiD5C4fEaaWHh+LAUJEdLl//AOwWvvF1YeiAEfOD0FBkRkfFI3ElxVJAIDkqHpMSaqAJe48hoRd9GiKhwFCRHQpm03mPnJyNLtpsLUtCJ+VpaKgyIz1RSNxsi4GRr0dmTG1uMtSBHNsNcKNrX1+HgYIEdGl3nkHOHsWmDkz0JW4pa45BBtLslBQbMGHxSNgbQlBlKkZWbHVuDapHOkxdTAEObz6nAwQIiInux1YvFgaJg4eHOhqenW8JgYFxRasP2rBrvIU2B16JEZYMSHhDCxx5zFs0AWfrj5mgBAROa1ZI/f6mDcv0JV0qc2hwxcVSRIaRRYcPT8EwUFtSIuuxR2Zx2GOq0akyea3ehggREQA4HAAixbJrvOEhEBX0+5CixFbjmeioNiM/CILaprCEGG0ITO2BrNHH0JmTC2M+raA1MYAISICgA8/BAoLgblzA10JyusjUVBsQX6RBZ+eTEerQ49h4Q0YNfgcLHHVSIy0IkgFG+MZIEREgNzvIzVVPvzMoeiw/3RC+1LbA2eHQa9zIDW6Dremn4Alrhoxoc1+r6s3DBAios8/B778Epgzx29P2dRqwEfHRmJLaQ7yiy04cyECYcEtyIypwcxRhciKrUGIwe63ejzBACEievlluce52ezTpzlzYRA+LB6B9UUWfHwiE832YAwObURWbA3uyDyO5MiOXeBawAAhooHt+HHggw+A3Fyvd9xVFOBQ1dD2XlNfVSZBBwdSoqy4IbkMGVFnMSyyRbONfhkgRDSwvfoqEB4OjBvnlYdradNjR2lqe1fbcmsUQvStyIipxb9ZjmBEbE37LvDW1lbodNq9SRUDhIgGrpoaYOlS4Oqr+3S3weqLodh4TIamNh3LwoUWE2JCmpAZW4ObUkuRFl0Hg4aGplzFACGigeuNN2T3+TXXuP2jxdVx7UNTn5cnw6EEISmyHlcNr4Qlrhrx4b7dBa4GDBAiGphsNuDPf5amieHhvR5udwTh8/Lk9qW2x2riEBzUhvSYWuRmlcAcV91r+/P+hgFCRANTXh5QVQXMmtXtIVabCZuPZSK/yIINJWbUNYci0tiMzNhazBl9EBkxtQjWe7dBoZYwQIho4HE4pGW72XxF08RTdVHtDQp3nEpDq0OPhEENyBlaBXPceSRGNPT7oSlXMUCIaODZsAE4cgSYOxcORYd9lcNlPuOoBYfOxUOvcyAtuha3ZZyAOa4a0SHq2wWuBgwQIhpYFAUXX/gDtg59AgXf/Qfy11hQ1TgI4T/sAr8v+zCyYmpgMgSmQaGWMECIaECorJQLj/xl57H1m62wIQRDL1xAZmwNcrNKkBxlRZCu/y219SUGCBH1S4oCfPcdUFAgG83375eN5qkmO24yfQlLjglx4Rya6gsGCBH1GzYbsH07kJ8PrF8PfP89EBICZGYC99wDZIV+j7B3/wFkjwbChwS6XM1jgBCRpp0/D6xaZcSnnwKbNwONjUBsLJCVBdx6q3Rn1+t/OPjdHUBYuCZuV6sFDBAi0hRFAY4e7Ria+vJLQFHCkZQETJ4sK3OHDu2iL+KZM0BJMWAZ6fWmiQMVA4SIVK+1Fdi9u2No6sQJwGgEMjKAO+8EkpObMXhwaM8P8tlnQGgYEB/vn6IHAAYIEalSXR2waZNcaWzYAFitQFSUDE098ACQnt7R/7CpqZcHq6yU29WOGMGrDy9igBCRapw40XGVsWuX9DkcPhwYPx6wWICEBA/O/4oCbNwo/a4SEnxS90DFACGigGlrkzkM53zG0aOAwSBXF9OmyXxGVFQfn+TwYaCiHBg7jlcfXsYAISK/unAB+PhjudIoKACqq4GICFlqO3u2/Gk0eunJWluBLVuAuMFATIyXHpScGCBE5HMVFRIW+fnAp58CLS0ylz1ypAxNJSYCQUE+eOLPP5fEuvpqHzw4MUCIyOuUunrs/6IFBbtj8UGBHt99JwGRlgbccosMTcXG+rgIq1UmUhITgdBeVmiRRxggROQVTU3Ap2vOo+B/irD+UCbOYBhCcRGZQScxM7wcWbE1CJkwFhg92j9zER9/LKmVmur75xqgGCBE5LGzZ4EPPwTW513Ex9sMaGobjMEAMiPOYlpcMVKCK6G3t8iYVUMjsG4tsGMHMHUqkJ3tuyA5eBA4dBAwW2RWnnyCrywRuUxRZFGTc6ntV1/JF1NwDtcFHYdluBWD0wZBF+w8tQzr/ABWK1BaCqxdAwwZCvzoRzIJ4k2VlVJc/DBg2LDejyePMUCIqEctLcDOnR1LbcvKAJNJdoHfPa4UI75dg/DEGFl7q4/u+cEiI4GxY4H6euDUKeC9PGlsmJvr0n3Je9XYCLz3HhAWxk2DfsAAIaIr1NQAH30kVxqbNgENDUB0tOwCv+EGyQpDcSGwZo1szsvMdO9kHRUF5OQA584BJSXA669LT5LsbM+LbmsDVq2SlrwTJ17SQZF8hQFCRADkPJ6fD6xbF4G9e+V8nJQETJoko0zx8ZdkxPHjwLp1wJAhnr/T1+mk62F0tDz5mtXAqGzgxz92/2pEUSTxKiqAcePkEol8jgFCNEDZ7cCePR1DUyUl0lsqJSUIM2bIUtuIiC5+sKJChomio2UjR1+HiYxGufI4dw44dgz4y1+AKVOAa6+Vm3n0xmZDcH4+UHRUJs37vHWdXMUAIRpArFa5Z0ZBgXzU1UlIZGUB998v8xptbS0I7W7fRH09sGKFXCFkZ3tv99+lVyPl5bJ/44svgOuukx7tXQWJosiETH4+9PX1MpcyhDeJ8icGCFE/d+pUxy7w7dulu0dCgkxBmM2yz+7Si4geO9tu3iwn7tGjfTPHYDTKfEpSkgTJzp1ymTRmjBQdGwtcvChB9u23wLkqYFAE2saOhSEy0vv1UI9cCpC0tDSEhIQg5Id3AQsWLMD9999/xXGLFi3C8uXLAQAPPvggfve733mxVCJyhcMB7NvXMTR16JCc69PSOlbNRveyWKpLx48DRwqBkaM6+qj7iskkl0XJyRIkR48CX38NQJHv64IkTHLGAjExUOx239ZDXXL5CmTt2rUYM2ZMt9/fuXMn8vLycODAARgMBlx//fW44YYbcMcdd3ilUCLq3sWLwNatHVcaVVUyypSZCdx3n/zpynRCt+x22TEYHSNDTf7iDBJAZvVtNgkvg4FLdFXAa0NYq1atwty5cxH+w+qJxx57DHl5eQwQIh85fVputLR+vYSHzSZTAFlZsq0iOdmLDQr37JEJk0mTAnfi1utlfwephssB8pOf/AQOhwOTJ0/G4sWLMeSyyaqysjLcfPPN7Z+npaVh7dq13T6ezWaDzWZr/9xqtbpTN9GAoyjAgQMdu8C//lrO5ampwE03yXzG4ME+eOK6Omk/kpjonc1+1G+4FCA7d+5ESkoKWltb8Zvf/AaPPPIIPvrooyuO013yzkRRlB4fc/HixVi4cOEVX6+pqYFdI+OZtbW1gS7BI1qse6DWbLMBu3cHY9OmYGzcGIzKSj1MJgXp6W348Y8dyMho69Rottdbu7qg6bIHMX74IYL0etgTE2UGXoW0cs64nNrrtrW0dPr7cPnaPJcCJCUlBQAQHByMX/7ylzCbzV0eU1pa2v75qVOn2n+uKwsWLMAzzzzT/rnVakVycjJiY2MRqaHVFLE+70ntG1qse6DUfP687Ilbv14WPTU2ynxxVpZMgqem6qDX+3YBZfsy3pIS4FgJMCobwX2aRPG9YF9P7PuImus2GY3dL+mGCwHS2NiI1tZWRP+wbCMvLw8TJky44rhZs2Zh/vz5eOqpp2AwGLBs2TIsWrSo+8JMJpi4W5QIigIUFXUMTX3xhaykSk4GrrlGVk0NHRqAqQe7XZIsOob7K6hLvQbI2bNnMXPmTLS1tUFRFGRkZOCdd94BAOTm5uK3v/0trrrqKkydOhWzZ89GTk4OAGDOnDmYPn26b6sn0ii7XfbKOZfanjghWyAyMqSTh9kMDBoU4CJ375b9FlddxRVP1KVeAyQjIwPffPNNl9+7fB7k+eefx/PPP++dyoj6mbo6aUxYUCArYuvrpetGZibwwAPSoFA1oxm1tcBnn8mGPq58om5wJzqRD504IYGxfr2cj+12YPhw6fdnscjmalW+ud+4UfZa8G5+1AMGCJEXtbUBe/fKfMb770eiuFjOw2lpwLRpMjSl9l5/QceOASXF0luKLdGpBwwQoj66cEFuv+3cBV5dLdsl0tOBWbNkiEoz60VaWxG8dSsQE+ujTSXUnzBAiDxQUdGxC/zTT+WuffHxMixlscjUgc3WitBQjf0T27ULuoYGTpyTSzT2t5soMBQF+OabjqW2334rbUJSU4GpUyU0NLhNpbOaGmDXLjiGD4eeE+fkAgYIUTeam+XqwjkJfvo0EBoqQ1L33isb+3rYY6Utzjv6GY1wJCeDMx/kCgYI0SWqqmSJ7fr1Mq9x8SIQFydhcfvtQEqKh/PKbW0yJOS17oZe9t13wPFjwOgx6q2RVIcBQgOaogCFhR1DU3v3yteTk+WOqhaLzCW7NR3Q2Ajs3g1jVZXMsFutQNNFIHyQbC2fNEldTQnr6uTqI36Y/LIq7XdF6sMAoQGntVVudOcMjVOnZJVURgZw993AiBEent+dabRhA9DWBt2gQfLAQ4fKn1ardLXdsQMYO1bu+x0f7/Xfz+2aP/hArjqc990gchEDhAaEmhrZG1dQIG+2GxrkrnxZWcANN8g+DUNf/jVcuCBjX0ePAEOGAllZaNPpEHTp1vKEBEmpykrgyBGZib/tNrnvd6BWPO3dC5wqBcaO6+MLQAMR/8ZQv1VS0jEBvnu3TEMkJgITJ8rQ1LBhXjpvnz0LvPWWPMGo7I479nU1FBQcLEu3kpOB0lJg68fy83ff7f8T+PnzMtEzPBGIifHvc1O/wAChfqOtTW6c5xyaKi6W83V6OjB9uuwC9/qdAurrgX/+U07+EyZIR0RXBAXJ1Uh4OHD4sOw+nDMHiIjwcoHdcDiA99/vGLsj8gADhDStoUHumVFQIB+1tXIOzswE7r9fzo2untPd1twMrFghyTV+vGdPFB8va4ELC4G//x34yU/k0sjXdu2SdckTJrBdCXmMAUKaU1bWMTS1fbuMFA0bBoweLVcZSUl+mFKw24H33pMVTOPH961XSWSknMgPH5ahsIcflrE2Xzl9Wl64lBQfXJLRQMIAIdVzOID9+/XYsUNC4+BBedOcmip36DOb/TyE71y5VF4uq6m8sSTXZJLHOngQeOcdCZGkpL4/7uXsdhm6Cg9np13qMwYIqdLFi8Ann3RcaVRVRSEsTIamZs6U1VMBu8Pq3r3A4UPSrdabrXUNBiAnBzh0SELkoYfkKsGbtm2T+ZaJE7lhkPqMAUKqceZMR4PCrVtlimHIEAmLW2+1YcQIU+DPeefOdaxc8sVtXi8NkX/+U0LEW1cKp04Bn38uqwoCfrtD6g8YIBQwiiIjNs7buu7bJ3MXqamyN8O5CxwAmpocgQ+Ptjb/rFzS64ExYzpCZOZMYNSovj1mSwvwr3/JFVNysnfqpAGPAUJ+1dIiG7GdS23Ly2UoKiMD+Pd/l13gqm0Eu3OnXCb5Y+WSXi9XIkePAqtXy92opkzxfHXA5s2y2XHSJLZpJ69hgJDPVVfa8NFL32L9VwnYfDARF5r0iIlRkJWlw803yxWH6jdBV1TIPWlTU/23cikoSK48QkKALZtljfL06e7PXZSUAPu/BkaY+1H7YFIDtf+zJY0qKgLyVzdh/bJq7ClNgAOTkYwyXI0dsKAIQy/UQVedBMTfAxhUPh7f2ipDV4MG+X/lkk4nl2chIcBXX8my4XvucS0IHA7Zgr99OxAbJ61UiLyIAUJeYbfLuaqgAPjg/TYcP6mHEXqk4wJ+HLkLI9LtiBikAE1NQPNgoClc3tW/+aYsWY2LC/Sv0L1t22THeSCHf4YPlxApLAT+9CcZzrr22u6DpKpK5jzOnJE5j7Q0Dl2R1zFAyGP19TK0np8vq6fq64HICAey7MWYE3QAGcOaEJyS8MMmux/mDCIiOtp1DB0qs+hvvimrjXy5ec5T338v/VHS0wM/ORMbK+3gy8slrb/4QoJk9GhJ8JYW+aislJ3moaEyX8PNguQjDBByy8mTcpWRny+T4Xa7jIyMGweYU5sxfPNb0NXWABPGAoN6aVUeEiK7uA8dkh3Ys2bJrkC1aGuTmf5Bg9SzcslolM0wyckdQfLZzssO0nVcdQR86Rr1ZwwQ6pHDIfvmnEttCwtlgVB6utyhz2yWtui4eBF4+22Z6B071vV9BsHBcvyRI9Ia5K675F2zGuzeLfs+Jk5U3/CPM0hSUuS11+s7PgwGBgf5BQMkEBRFPlT6j7yxUTby5edLcJw7J50vsrLkIiEz87LWT5eGx7hx7rf20OtlGKakBMhfLx0Sb7wxsCft8+flEis52X8dcj0RHOzd3fBEbmCA+FNFBbB8uXRdPXdO3r7n5ADZ2cBNN8lJM0C+/75jF/gnn8hQ+tChsi/jzjulLVOXedfaKm036uo8Cw8nnU6ezGQCtn0qd+/LzQ1MyCqKvBAmE/tFEfWAAeIP27cDL78st8QzGOTddna2vMv9/HMZG/rNb4C5c4FXX/XLO0pFkRviOTf0ffONnKtTU4GpUyXbXFoYtWmThOGECX1vKujchm40Al9/LVci990n77L96csvgYpyuUsfW50TdYsB4mvLlwNPPCH9xmfMkCuOy1t/O8/m770nY0dvvSVtZr2suVlWpK5ZE4bNm2WxTmioDEnde68MUbm1z+wsjnzjAAAS6klEQVTQoY4Nat7srZSQICFSWChDYw8+6L/hrLNnpddVYhLv0kfUC/UFyJtvAj/9aUcTJC3705+AZ56R/QM9DcfodPIOPj1dJh1uuw2YP19+vo9btM+dk1t1r18PbNki0xUxMUaYzfI0KSkevsmuqZHLl6HxvtmgFhcnQ2KHDgFLl0I3e7bvd1Hb7cC6dfI86em+fS6ifkB9AfLrXwPPPw+sWSPv2LVIUYD/9/+A3/0OuP56uZpw5R10dLTsh9i7F/jb32QIZ9kyt+YBFEXeuDvboH/5pXw9OVn2nZnNwKBBNoSF9eFkbLdLfyaDQeYtfHV1EBkpy3wPHoRpxQrgkUd8+8bik09kWHHiRA5dEblAfQEyf768Vb7rLjmJzpsX6Irc43AA//mfwGuvSXDccIN7P6/TAZMny6a1d96RoaG//rXHk3Rrq7Rpcs5nlJZ2rPK86y4JjUunJ5qaPPvV2m3e3DHv4esmVmFhEiIHDgBLl8rVqS+ueE6cAL7YA2RkstU5kYvUFyBhYbJWdNMm4Mkn5R4Gixapbx1+VxQF+I//kGG4O++UoStP5eTIUqjXX5dJ9Rdf7PTt2lqZky8oAD76SBYtRUdLaFx3nYzA+OTcfvQosO8rIGuE/060JhPsY8Yg+MgRmR968EHvro5qapJeV9ExvrkLIFE/pb4AAWTIZsYMOSO+9JK8pV62rG/3nfaHf/xDPu6+2zub4SZNkhB56SUgIgLH7vs/yM+XK41du2SjdGKiPJXFIvP0Ps3ZCxfkEmfwEOnN5E8Gg2w4PHxY7pFx//0yfNZXDof8TjabhLYW3qgQqYQ6AwSQf8jXXSfj4KtXy0aFDz74YduzCn39tQy/XXWV13ZStzl02JN4PwqSH8EHCyaheIGsaE1Pl67eZrMf2xw590Y4HL6d9+iJ8259R44AeXnSlTYnx/PHc4ZHUZEsrVb7GxQilVFvgDiNGSM7gVevllngTZvUt7mrtlbWwcbHA3fc0aeHarAZseV4JvKLLdhQbEZNUxgijDZkhpZidvNqZD5wPYzpAWg6+PXXwLESYEyOTLAESlCQ7KEpKpJhJ5tNQttdiiLjfwcOACNH9o9Vf0R+pv4AASQwHn1U3nVec40M/k+cGOiqhMMh7cjPnwd+9jOPJh7K6qNQUGRGfrEF206mo9Whx7DwBmQPPgdzXDUSI60IUhzAd98D6/Jkbsif7TWqq2XiPGG4Otqu63QyZqfXAx9ukDmMG25w/apIUWTb/bffSnjE99L0kYi6pI0AAeQd4qOPAqtWScuP7duBq68OdFXAf/+3bLR48EGXh9ccig5fVyagoNiCD46OxMGqeOh1DqRF1+HW9BOwxFUjJrS58w/pgmSYZf9+CdLHHvPPbfza2mRvRHCwzNCrhU4nOx+Dg4FPP5Fdkrfd1nuIKIqsOti/X0KI4UHkMe0ECCCrfh5+GFixAvi3f5OTwLBhASvH8Nln0oLkxht7ndBtajXgk5MZyC+yIL/IgrONgxAW3ILMmBrMHHUYWbG1CDHYe35Co1FCxNmD5J57fD8XsWMHcPq0f+4D7i6dTlqWGwzA57vlSuTOO7vfN+NculZSDJgtAf27Q9QfaCtAADmJzpolS2XvvVeuRAIxJn/2LAY98YScwKZO7fKQMxcGYUOxGflFZnx8IhPN9mAMDmtEVmwNpmcdQ3JkPfRBinvPGxEhs+cHD8i75+uv7/Ov0q3iYrnXRFq6um9KlJQkIfLNN9KKZMIEeY1CQyVkyspkzmTfPrliGT2Gcx5EXqC9AAHkJDprlvRJmj9futv60w/zHrrmZtkd/cM7XkUBDlbFo6DIjA+KRmJfZSJ0cCA1qh43JJfBMrgacaEX+37REB//Q8/1j2WPyJgxff+dLldTI0NXcYOl34naDRsmbyQqKmRI8cMNnb9vCpGg8bh3CxFdTpsBAsjJYMYM2XcxcaJs4POXP/wB2LoVLbNmQRcahR3HU5FfZMH6opEot0YhRN+KjJha/LvlCEbE1SAsuNX7NaSnywqkf/1Ltpl7s3dTa6s0dtTrZZJZK3sjYmPlo6VFdla2tUnYR0TIa6SV34NII7QbIIAEx5kzwC9+IXMD/rifxuefo/r//hEfjfgt/vXd3fj4AwsutJgQE9KErNga3JRairToOhjcHZpyl3MlkvNk/9hj3pkQdi5vra72T6sSXzAaOURF5AcaPDtc5o47ZAntvffKpLqP7l1dVAQUrLqID140YI/jNBzFeiRG1OHq4ZUwx51HfHij/9/gOvdEHDggu7N/9rO+30vkyy9lfmXkKPaEIqIeaT9A9Hpg5kxptHf33XKDJi+0/bbb5aGc9wI/dgwI1hmRgSjkph+BOd6KkKBGBPv7ZkeXMxhkDuSbbyRE5s717MSvKNKRcdunQFIyl7cSUa/UeVNud4WHy6R6YaG8C1c8Gz6yWqWL/MMPA0OGADffLPPzERHAnPFH8WvlvzEn+yAmpZxHhKnFy79EHxiN0tKjoQH43/+V3mHuUBRZ3rrtUyA1DcjI8EWVRNTPaP8KxCkhQfYArFwpcyPPPOPSj5WWdtw7Y+dOmVJISJDzscUiPQN1hw5K24ykJPWOrYeFSfPFI0dkddott8icUG/jana7TMQXFsqdBf3dJJGINKv/BAggZ/0zZ+SmVFlZMqR1GYcD+OqrjntnHD4so2Dp6bKR2Wy+bEN5cbGcYOPj1f/O3GiUjrWnTsm9a0tLZW6oqyEtu11as+/ZI69ZdrZcdhERuah/BQggN3Gqq5N5kZUrgdmzZcvEVrnSyM+XeyGFh0tnjlmz5M8uG7GeOiVNHOPi5HJEC8tAnbuzo6IkIF55Ra6aEhPl6iIuTu6rcegQYGsGoqIldPo6+U5EA07/C5CgIGDmTFSu/Rwb5nyK9YuuxSfFybDZgKFDpePIj38si7V6vFPs6dPAu+/KBMioUdoIj0vFxMiQVnW1zI2cOCGrtRQH9MFGuaJKSJChLyIiD/SbAFEU4Luzw37Y0GfB/tO/RRDakHrwFG6ynILl9lTXG8lWVcmKJpNJ9pe4cU9yVTEaJSSct4B1OICmJtiDgxEcyJbsRNQvaDpAbHY9tpWmo6DIjPVFI/F9QyRCDa3IiKnBPSMLMSKmGqHlxUBRORA6QZZV9dQx12aTmfQ9e+SdeU6ONjfSdScoSMbuWn2wM56IBhzNnR3PNYbho5IRWF9kwZbjWWhsNSI29CKyYmtwa/pJpEbVdW5QmJEBhITIbPl338nu6htv7BwkigIcPAhs2SIdXVNS5EOrVx5ERH6g+gBRFODo+cHtvaa+qEgCACRH1mNyUgUscdUYEtbDLnCdTiaQhw2T2+IePCib7uLi5J14a6v0TrK3AkOGyqa8kBD//YJERBqlygBpbQvCrrKU9hsunayLgVFvR2ZMLe4yF2FEXDUGGd0chtHr5aoiMRGorJQbEIWGyteDgmSyXK33WyciUqFeA6S5uRlz5sxBYWEhwsLCMGzYMLzxxhtIS0vrdNz27duRm5sLs9nc/rU9e/Yg1M22IkfOxWHGyp+jtjkUUaZmZMXWYEpSOdKj6xCsd7j1WF3S633WL4uIaCBx6Qpk3rx5mDFjBnQ6HV577TXMmzcPW7ZsueK47Oxs7Nu3r08FxYc34m7LURj1bUgYdEFzq2eJiAaKXmeJQ0JCkJubC90PZ/IpU6bgxIkTPisoNqwZM7KOYXgEw4OISM3cXmb0l7/8BXfddVeX3ysqKsLEiRNx9dVX429/+1uPj2Oz2WC1Wjt9EBGRdrg1if7SSy+hpKQEb7zxxhXfmzhxIioqKhAVFYWKigrk5uZi8ODBmD17dpePtXjxYixcuPCKrzc1NaGlpQWtGtirYLfbA12CR7RYN2v2Hy3WrcWaAfXXbWtpQVNTU/vnl89ouxwgL7/8Mt5//31s3boVYV20v4iMjGz/76SkJDzwwAP47LPPug2QBQsW4JlLOuZarVYkJycjNDQURqMx8PfZcJFW6rycFutmzf6jxbq1WDOg7rpNRmOPC6FcGsL64x//iLy8PHz88ceI7map6+nTp+FwyCqphoYGbNiwARMmTOi+MJMJkZGRnT6IiEg7eg2QiooK/OpXv0JdXR1uueUWjB8/HpMnTwYAPPHEE8jPzwcArFu3Djk5ORg3bhymTJmC22+/HY8++qhvqyciooDpdQgrKSkJSjd3+HvzzTfb/3v+/PmYP3++9yojIiJVY7MnIiLyCAOEiIg8wgAhIiKPMECIiMgjDBAiIvIIA4SIiDzCACEiIo8wQIiIyCMMECIi8ggDhIiIPMIAISIijzBAiIjIIwwQIiLyCAOEiIg8wgAhIiKPMECIiMgjDBAiIvIIA4SIiDzCACEiIo8wQIiIyCMMECIi8ggDhIiIPMIAISIijzBAiIjIIwwQIiLyCAOEiIg8wgAhIiKPMECIiMgjDBAiIvIIA4SIiDzCACEiIo8wQIiIyCMMECIi8ggDhIiIPMIAISIijzBAiIjIIwwQIiLyCAOEiIg8wgAhIiKPMECIiMgjDBAiIvIIA4SIiDzCACEiIo8wQIiIyCMMECIi8ggDhIiIPMIAISIijzBAiIjIIwwQIiLyCAOEiIg8wgAhIiKPMECIiMgjDBAiIvIIA4SIiDzCACEiIo+4FCAlJSW47rrrYDabcc0116CwsLDL4xYtWoTMzExkZmbiueee82qhRESkLi4FyJNPPol58+ahuLgYzz77LB5//PErjtm5cyfy8vJw4MABFBYWYuPGjdi8ebPXCyYiInXoNUCqqqqwf/9+PPTQQwCAmTNn4uTJkygtLe103KpVqzB37lyEh4fDZDLhscceQ15enk+KJiKiwDP0dkB5eTmGDx8Og0EO1el0SElJQVlZGdLS0tqPKysrw80339z+eVpaGtauXdvt49psNthstvbP6+vrAQDWsDAYotoQbr/o9i/jby0tLTAajYEuw21arJs1+48W69ZizYD66w6KUmAND+/4gtWKiIgI6HQ6AC4ECID2g50URen1uO6OcVq8eDEWLlx4xdeTn3/elZKIiMjfnn0W9fX1iIyMBOBCgCQnJ6OiogJ2ux0GgwGKoqC8vBwpKSmdjktJSek0rHXq1KkrjrnUggUL8Mwzz7R/7nA4UFNTg7i4uCsCS42sViuSk5NRXl7e/mJqgRbrZs3+o8W6tVgzoN26IyIi2v+71wAZOnQoJkyYgBUrVmDu3LlYt24d0tLSOg1fAcCsWbMwf/58PPXUUzAYDFi2bBkWLVrU7eOaTCaYTKZOX4uOjnbzVwm8yMhITf3Pd9Ji3azZf7RYtxZrBrRbN+DiKqwlS5ZgyZIlMJvN+P3vf4+lS5cCAHJzc7Fv3z4AwNSpUzF79mzk5ORg1KhRmDZtGqZPn+67yomIKKB0Sm+TFdQlq9WKqKioTuOBWqDFulmz/2ixbi3WDGi37kvpX3jhhRcCXYRW6fV6TJ06tX2FmlZosW7W7D9arFuLNQParduJVyBEROQR9sIiIiKPMECIiMgjDBAiIvIIA8QFTz/9NNLS0qDT6XDo0KFuj3vrrbcQHR2N8ePHY/z48bjlllv8WGVnrtYMqKuLsqudn9XyWmu1U7UrdavlNXZy9e+0ml5rV2pW2+vsFoV6tWPHDqW8vFxJTU1VDh482O1xy5cvV2bOnOnHyrrnas07duxQsrOzlQsXLijNzc3KpEmTlE2bNvmx0s5uueUWZfny5YqiKMqaNWuUKVOmdHmcWl5rV+pV22usKK7VrZbX2MmVv9Nqe61dqVltr7M7eAXigptuuglJSUmBLsMtrtaspi7KrnZ+VgutdqrW2uvs5MrfabW91lo8d7iDAeJlO3bswPjx43H99df32I1YLcrKypCamtr+eVpaGsrKygJSS0+dn7sS6Nfa1XrV9BoD7r3OgX6N3aW219pVWnudnbS5e0Wl7rzzTsyePRthYWE4cuQIpk2bhqSkJEyZMiXQpfXInS7KvuZq52e1vNa+6FTtD67UrZbX2F1qe617o9XXGeAVSJfeeeed9gmt5cuXu/xzgwcPRlhYGABg1KhRyM3Nxe7du31VZiee1uxuF2Vvu7TurVu3tnd+BtBt52cgsK+106WdqnuqN9Cv8eVcrVsNr7G71PZau0KLr3O7gM2+aFBvE9IVFRXt/33mzBklKytL+eSTT/xRWrd6q3nbtm3K6NGjO006bty40Y8VdnbzzTd3mtydPHlyl8ep5bV2pV61vcaK4lrdanmNL9fT32k1vtaK0nPNan2dXcEAccFTTz2lJCYmKnq9XomPj1cyMzPbvzdjxgzlq6++UhRFURYsWKBkZ2cr48aNU3JycpTXX389UCW7XLOiKMrChQuV9PR0JT09XVmwYEEgym139OhRZcqUKcqIESOUSZMmKYcOHWr/nhpf6+7qVfNrrCiu1a2W19ipu7/Tan6tXalZba+zO9gLi4iIPMI5ECIi8sj/B8LGzydvZE7MAAAAAElFTkSuQmCC\" />"
      ]
     },
     "execution_count": 12,
     "metadata": {},
     "output_type": "execute_result"
    }
   ],
   "source": [
    "plot(f, a, b, c=:red, fill=(0,:red,0.5), leg=false)\n",
    "x1, x2 = (2a+b)/3, (a+2b)/3\n",
    "plot!(x->f(x1) + (x-x1)*(f(x2)-f(x1))/(x2-x1), a, b, c=:blue, fill=(0,:blue,0.5))"
   ]
  },
  {
   "cell_type": "markdown",
   "metadata": {},
   "source": [
    "A reta que usamos para aproximar a integral é dada por\n",
    "$$ p(x) = f(x_1) + (x-x_1)\\frac{f(x_2)-f(x_1)}{x_2-x_1}, $$\n",
    "onde $x_1 = a$ e $x_2 = b$ no caso fechado, ou $x_1 = \\dfrac{2a+b}{3}$ e $x_2 = \\dfrac{a + 2b}{3}$."
   ]
  },
  {
   "cell_type": "markdown",
   "metadata": {},
   "source": [
    "Em ambos os casos, teremos\n",
    "$$ \\int_a^b f(x)\\mbox{d}x \\approx\n",
    "\\frac{b-a}{2}[f(x_1) + f(x_2)].\n",
    "$$"
   ]
  },
  {
   "cell_type": "code",
   "execution_count": 33,
   "metadata": {},
   "outputs": [
    {
     "data": {
      "text/plain": [
       "integral_trapezio_aberto (generic function with 1 method)"
      ]
     },
     "execution_count": 33,
     "metadata": {},
     "output_type": "execute_result"
    }
   ],
   "source": [
    "function integral_trapezio_fechado(f, a, b)\n",
    "    h = b - a\n",
    "    return 0.5h * (f(a) + f(b))\n",
    "end\n",
    "\n",
    "function integral_trapezio_aberto(f, a, b)\n",
    "    h = (b - a) / 3\n",
    "    x1 = a + h\n",
    "    x2 = b - h\n",
    "    return 1.5h * ( f(x1) + f(x2) )\n",
    "end"
   ]
  },
  {
   "cell_type": "markdown",
   "metadata": {},
   "source": [
    "No entanto, além de $x_1$ e $x_2$ serem diferentes, temos também o valor de $h$.\n",
    "Para o caso fechado, temos $h = b-a$. Daí,\n",
    "$$ \\int_a^b f(x)\\mbox{d}x \\approx \\frac{h}{2}[f(x_1) + f(x_2)]. $$\n",
    "Para o caso aberto, temos $h = \\frac{b-a}{3}$. Logo,\n",
    "$$ \\int_a^b f(x)\\mbox{d}x \\approx \\frac{3h}{2}[f(x_1) + f(x_2)]. $$"
   ]
  },
  {
   "cell_type": "code",
   "execution_count": null,
   "metadata": {},
   "outputs": [],
   "source": [
    "function integral_trapezio_fechado(f, a, b)"
   ]
  },
  {
   "cell_type": "code",
   "execution_count": 35,
   "metadata": {},
   "outputs": [
    {
     "data": {
      "text/plain": [
       "trapezio_aberto (generic function with 1 method)"
      ]
     },
     "execution_count": 35,
     "metadata": {},
     "output_type": "execute_result"
    }
   ],
   "source": [
    "function trapezio_fechado(f, a, b)\n",
    "    return (b-a)*(f(a)+f(b))/2\n",
    "end\n",
    "\n",
    "function trapezio_aberto(f, a, b)\n",
    "    h = (b-a)/3\n",
    "    return (b-a)*(f(a+h)+f(b-h))/2\n",
    "end"
   ]
  },
  {
   "cell_type": "code",
   "execution_count": 41,
   "metadata": {},
   "outputs": [
    {
     "data": {
      "text/plain": [
       "(0, 1)"
      ]
     },
     "execution_count": 41,
     "metadata": {},
     "output_type": "execute_result"
    }
   ],
   "source": [
    "f(x) = exp(x)\n",
    "F(x) = exp(x)\n",
    "a, b = 0, 1"
   ]
  },
  {
   "cell_type": "code",
   "execution_count": 45,
   "metadata": {},
   "outputs": [
    {
     "data": {
      "text/plain": [
       "1.8591409142295225"
      ]
     },
     "execution_count": 45,
     "metadata": {},
     "output_type": "execute_result"
    }
   ],
   "source": [
    "trapezio_fechado(exp, 0, 1)"
   ]
  },
  {
   "cell_type": "code",
   "execution_count": 46,
   "metadata": {},
   "outputs": [
    {
     "data": {
      "text/plain": [
       "1.6716732330703827"
      ]
     },
     "execution_count": 46,
     "metadata": {},
     "output_type": "execute_result"
    }
   ],
   "source": [
    "trapezio_aberto(exp, 0, 1)"
   ]
  },
  {
   "cell_type": "code",
   "execution_count": 42,
   "metadata": {},
   "outputs": [
    {
     "data": {
      "text/plain": [
       "0.14085908577047745"
      ]
     },
     "execution_count": 42,
     "metadata": {},
     "output_type": "execute_result"
    }
   ],
   "source": [
    "trapezio_fechado(f, a, b) - (F(b)-F(a))"
   ]
  },
  {
   "cell_type": "code",
   "execution_count": 43,
   "metadata": {},
   "outputs": [
    {
     "data": {
      "text/plain": [
       "-0.046608595388662355"
      ]
     },
     "execution_count": 43,
     "metadata": {},
     "output_type": "execute_result"
    }
   ],
   "source": [
    "trapezio_aberto(f, a, b) - (F(b)-F(a))"
   ]
  },
  {
   "cell_type": "markdown",
   "metadata": {},
   "source": [
    "## Erro"
   ]
  },
  {
   "cell_type": "markdown",
   "metadata": {},
   "source": [
    "Uma pergunta importante aqui é quão errada é essa aproximação.\n",
    "Note que, diferente do método de Newton ou da bissecção, não estamos calculando aproximações sucessivas para a integral, e sim uma única aproximação, que esperamos ser boa o suficiente."
   ]
  },
  {
   "cell_type": "markdown",
   "metadata": {},
   "source": [
    "O cálculo da fórmula do erro envolve outros conceitos não estudados nesta disciplina.\n",
    "Iremos apenas apresentar os erros, começando pelas três aproximações que vimos."
   ]
  },
  {
   "cell_type": "markdown",
   "metadata": {},
   "source": [
    "Abaixo, $\\xi$ é algum número em $[a,b]$ ou $(a,b)$, se a função for fechada ou aberta, respectivamente.\n",
    "\n",
    "- Ponto médio\n",
    "$$ \\int_a^b f(x)\\mbox{d}x = 2hf(x_1) + \\frac{h^3}{3}f''(\\xi)\n",
    "= (b-a) f\\bigg(\\frac{b-a}{2}\\bigg) + \\frac{(b-a)^3}{24}f''(\\xi); $$\n",
    "- Trapézio fechado\n",
    "$$ \\int_a^b f(x)\\mbox{d}x = \\frac{h}{2}[f(x_1) + f(x_2)] - \\frac{h^3}{12}f''(\\xi)\n",
    "= \\frac{b-a}{2}[f(a) + f(b)] - \\frac{(b-a)^3}{12}f''(\\xi); $$\n",
    "- Trapézio aberto\n",
    "$$ \\int_a^b f(x)\\mbox{d}x = \\frac{3h}{2}[f(x_1) + f(x_2)] + \\frac{3h^3}{4}f''(\\xi)\n",
    "= \\frac{b-a}{2}[f\\bigg(\\frac{2a+b}{3}\\bigg) + f\\bigg(\\frac{a+2b}{3}\\bigg)] - \\frac{(b-a)^3}{36}f''(\\xi). $$"
   ]
  },
  {
   "cell_type": "markdown",
   "metadata": {},
   "source": [
    "As três aproximações compartilham uma mesma propriedade. O erro é da ordem de $h^3 f''(\\xi)$.\n",
    "Isso quer dizer que para valores pequenos de $h$, o erro diminui cubicamente. Note que o $\\xi$ para cada aproximação pode ser diferente."
   ]
  },
  {
   "cell_type": "code",
   "execution_count": 48,
   "metadata": {},
   "outputs": [
    {
     "data": {
      "image/svg+xml": [
       "<?xml version=\"1.0\" encoding=\"utf-8\"?>\n",
       "<svg xmlns=\"http://www.w3.org/2000/svg\" xmlns:xlink=\"http://www.w3.org/1999/xlink\" width=\"400\" height=\"300\" viewBox=\"0 0 400 300\">\n",
       "<defs>\n",
       "  <clipPath id=\"clip9200\">\n",
       "    <rect x=\"0\" y=\"0\" width=\"400\" height=\"300\"/>\n",
       "  </clipPath>\n",
       "</defs>\n",
       "<polygon clip-path=\"url(#clip9200)\" points=\"\n",
       "0,300 400,300 400,0 0,0 \n",
       "  \" fill=\"#ffffff\" fill-opacity=\"1\"/>\n",
       "<defs>\n",
       "  <clipPath id=\"clip9201\">\n",
       "    <rect x=\"80\" y=\"0\" width=\"281\" height=\"281\"/>\n",
       "  </clipPath>\n",
       "</defs>\n",
       "<polygon clip-path=\"url(#clip9200)\" points=\"\n",
       "65.2174,274.821 380.315,274.821 380.315,11.811 65.2174,11.811 \n",
       "  \" fill=\"#ffffff\" fill-opacity=\"1\"/>\n",
       "<defs>\n",
       "  <clipPath id=\"clip9202\">\n",
       "    <rect x=\"65\" y=\"11\" width=\"316\" height=\"264\"/>\n",
       "  </clipPath>\n",
       "</defs>\n",
       "<polyline clip-path=\"url(#clip9202)\" style=\"stroke:#000000; stroke-width:0.5; stroke-opacity:0.1; fill:none\" points=\"\n",
       "  65.2174,274.821 65.2174,11.811 \n",
       "  \"/>\n",
       "<polyline clip-path=\"url(#clip9202)\" style=\"stroke:#000000; stroke-width:0.5; stroke-opacity:0.1; fill:none\" points=\"\n",
       "  117.734,274.821 117.734,11.811 \n",
       "  \"/>\n",
       "<polyline clip-path=\"url(#clip9202)\" style=\"stroke:#000000; stroke-width:0.5; stroke-opacity:0.1; fill:none\" points=\"\n",
       "  170.25,274.821 170.25,11.811 \n",
       "  \"/>\n",
       "<polyline clip-path=\"url(#clip9202)\" style=\"stroke:#000000; stroke-width:0.5; stroke-opacity:0.1; fill:none\" points=\"\n",
       "  222.766,274.821 222.766,11.811 \n",
       "  \"/>\n",
       "<polyline clip-path=\"url(#clip9202)\" style=\"stroke:#000000; stroke-width:0.5; stroke-opacity:0.1; fill:none\" points=\"\n",
       "  275.282,274.821 275.282,11.811 \n",
       "  \"/>\n",
       "<polyline clip-path=\"url(#clip9202)\" style=\"stroke:#000000; stroke-width:0.5; stroke-opacity:0.1; fill:none\" points=\"\n",
       "  327.799,274.821 327.799,11.811 \n",
       "  \"/>\n",
       "<polyline clip-path=\"url(#clip9202)\" style=\"stroke:#000000; stroke-width:0.5; stroke-opacity:0.1; fill:none\" points=\"\n",
       "  380.315,274.821 380.315,11.811 \n",
       "  \"/>\n",
       "<polyline clip-path=\"url(#clip9202)\" style=\"stroke:#000000; stroke-width:0.5; stroke-opacity:0.1; fill:none\" points=\"\n",
       "  65.2174,262.334 380.315,262.334 \n",
       "  \"/>\n",
       "<polyline clip-path=\"url(#clip9202)\" style=\"stroke:#000000; stroke-width:0.5; stroke-opacity:0.1; fill:none\" points=\"\n",
       "  65.2174,208.435 380.315,208.435 \n",
       "  \"/>\n",
       "<polyline clip-path=\"url(#clip9202)\" style=\"stroke:#000000; stroke-width:0.5; stroke-opacity:0.1; fill:none\" points=\"\n",
       "  65.2174,154.536 380.315,154.536 \n",
       "  \"/>\n",
       "<polyline clip-path=\"url(#clip9202)\" style=\"stroke:#000000; stroke-width:0.5; stroke-opacity:0.1; fill:none\" points=\"\n",
       "  65.2174,100.637 380.315,100.637 \n",
       "  \"/>\n",
       "<polyline clip-path=\"url(#clip9202)\" style=\"stroke:#000000; stroke-width:0.5; stroke-opacity:0.1; fill:none\" points=\"\n",
       "  65.2174,46.738 380.315,46.738 \n",
       "  \"/>\n",
       "<polyline clip-path=\"url(#clip9200)\" style=\"stroke:#000000; stroke-width:1; stroke-opacity:1; fill:none\" points=\"\n",
       "  65.2174,274.821 380.315,274.821 \n",
       "  \"/>\n",
       "<polyline clip-path=\"url(#clip9200)\" style=\"stroke:#000000; stroke-width:1; stroke-opacity:1; fill:none\" points=\"\n",
       "  65.2174,274.821 65.2174,11.811 \n",
       "  \"/>\n",
       "<polyline clip-path=\"url(#clip9200)\" style=\"stroke:#000000; stroke-width:1; stroke-opacity:1; fill:none\" points=\"\n",
       "  65.2174,274.821 65.2174,270.876 \n",
       "  \"/>\n",
       "<polyline clip-path=\"url(#clip9200)\" style=\"stroke:#000000; stroke-width:1; stroke-opacity:1; fill:none\" points=\"\n",
       "  117.734,274.821 117.734,270.876 \n",
       "  \"/>\n",
       "<polyline clip-path=\"url(#clip9200)\" style=\"stroke:#000000; stroke-width:1; stroke-opacity:1; fill:none\" points=\"\n",
       "  170.25,274.821 170.25,270.876 \n",
       "  \"/>\n",
       "<polyline clip-path=\"url(#clip9200)\" style=\"stroke:#000000; stroke-width:1; stroke-opacity:1; fill:none\" points=\"\n",
       "  222.766,274.821 222.766,270.876 \n",
       "  \"/>\n",
       "<polyline clip-path=\"url(#clip9200)\" style=\"stroke:#000000; stroke-width:1; stroke-opacity:1; fill:none\" points=\"\n",
       "  275.282,274.821 275.282,270.876 \n",
       "  \"/>\n",
       "<polyline clip-path=\"url(#clip9200)\" style=\"stroke:#000000; stroke-width:1; stroke-opacity:1; fill:none\" points=\"\n",
       "  327.799,274.821 327.799,270.876 \n",
       "  \"/>\n",
       "<polyline clip-path=\"url(#clip9200)\" style=\"stroke:#000000; stroke-width:1; stroke-opacity:1; fill:none\" points=\"\n",
       "  380.315,274.821 380.315,270.876 \n",
       "  \"/>\n",
       "<polyline clip-path=\"url(#clip9200)\" style=\"stroke:#000000; stroke-width:1; stroke-opacity:1; fill:none\" points=\"\n",
       "  65.2174,262.334 69.9439,262.334 \n",
       "  \"/>\n",
       "<polyline clip-path=\"url(#clip9200)\" style=\"stroke:#000000; stroke-width:1; stroke-opacity:1; fill:none\" points=\"\n",
       "  65.2174,208.435 69.9439,208.435 \n",
       "  \"/>\n",
       "<polyline clip-path=\"url(#clip9200)\" style=\"stroke:#000000; stroke-width:1; stroke-opacity:1; fill:none\" points=\"\n",
       "  65.2174,154.536 69.9439,154.536 \n",
       "  \"/>\n",
       "<polyline clip-path=\"url(#clip9200)\" style=\"stroke:#000000; stroke-width:1; stroke-opacity:1; fill:none\" points=\"\n",
       "  65.2174,100.637 69.9439,100.637 \n",
       "  \"/>\n",
       "<polyline clip-path=\"url(#clip9200)\" style=\"stroke:#000000; stroke-width:1; stroke-opacity:1; fill:none\" points=\"\n",
       "  65.2174,46.738 69.9439,46.738 \n",
       "  \"/>\n",
       "<g clip-path=\"url(#clip9200)\">\n",
       "<text style=\"fill:#000000; fill-opacity:1; font-family:Arial,Helvetica Neue,Helvetica,sans-serif; font-size:12; text-anchor:start;\" transform=\"rotate(0, 51.5949, 292.573)\" x=\"51.5949\" y=\"292.573\">10</text>\n",
       "</g>\n",
       "<g clip-path=\"url(#clip9200)\">\n",
       "<text style=\"fill:#000000; fill-opacity:1; font-family:Arial,Helvetica Neue,Helvetica,sans-serif; font-size:10; text-anchor:start;\" transform=\"rotate(0, 64.976, 285.72)\" x=\"64.976\" y=\"285.72\">-</text>\n",
       "</g>\n",
       "<g clip-path=\"url(#clip9200)\">\n",
       "<text style=\"fill:#000000; fill-opacity:1; font-family:Arial,Helvetica Neue,Helvetica,sans-serif; font-size:10; text-anchor:start;\" transform=\"rotate(0, 70.6859, 285.72)\" x=\"70.6859\" y=\"285.72\">6 </text>\n",
       "</g>\n",
       "<g clip-path=\"url(#clip9200)\">\n",
       "<text style=\"fill:#000000; fill-opacity:1; font-family:Arial,Helvetica Neue,Helvetica,sans-serif; font-size:12; text-anchor:start;\" transform=\"rotate(0, 104.111, 292.573)\" x=\"104.111\" y=\"292.573\">10</text>\n",
       "</g>\n",
       "<g clip-path=\"url(#clip9200)\">\n",
       "<text style=\"fill:#000000; fill-opacity:1; font-family:Arial,Helvetica Neue,Helvetica,sans-serif; font-size:10; text-anchor:start;\" transform=\"rotate(0, 117.492, 285.72)\" x=\"117.492\" y=\"285.72\">-</text>\n",
       "</g>\n",
       "<g clip-path=\"url(#clip9200)\">\n",
       "<text style=\"fill:#000000; fill-opacity:1; font-family:Arial,Helvetica Neue,Helvetica,sans-serif; font-size:10; text-anchor:start;\" transform=\"rotate(0, 123.202, 285.72)\" x=\"123.202\" y=\"285.72\">5 </text>\n",
       "</g>\n",
       "<g clip-path=\"url(#clip9200)\">\n",
       "<text style=\"fill:#000000; fill-opacity:1; font-family:Arial,Helvetica Neue,Helvetica,sans-serif; font-size:12; text-anchor:start;\" transform=\"rotate(0, 156.627, 292.573)\" x=\"156.627\" y=\"292.573\">10</text>\n",
       "</g>\n",
       "<g clip-path=\"url(#clip9200)\">\n",
       "<text style=\"fill:#000000; fill-opacity:1; font-family:Arial,Helvetica Neue,Helvetica,sans-serif; font-size:10; text-anchor:start;\" transform=\"rotate(0, 170.009, 285.72)\" x=\"170.009\" y=\"285.72\">-</text>\n",
       "</g>\n",
       "<g clip-path=\"url(#clip9200)\">\n",
       "<text style=\"fill:#000000; fill-opacity:1; font-family:Arial,Helvetica Neue,Helvetica,sans-serif; font-size:10; text-anchor:start;\" transform=\"rotate(0, 175.718, 285.72)\" x=\"175.718\" y=\"285.72\">4 </text>\n",
       "</g>\n",
       "<g clip-path=\"url(#clip9200)\">\n",
       "<text style=\"fill:#000000; fill-opacity:1; font-family:Arial,Helvetica Neue,Helvetica,sans-serif; font-size:12; text-anchor:start;\" transform=\"rotate(0, 209.144, 292.573)\" x=\"209.144\" y=\"292.573\">10</text>\n",
       "</g>\n",
       "<g clip-path=\"url(#clip9200)\">\n",
       "<text style=\"fill:#000000; fill-opacity:1; font-family:Arial,Helvetica Neue,Helvetica,sans-serif; font-size:10; text-anchor:start;\" transform=\"rotate(0, 222.525, 285.72)\" x=\"222.525\" y=\"285.72\">-</text>\n",
       "</g>\n",
       "<g clip-path=\"url(#clip9200)\">\n",
       "<text style=\"fill:#000000; fill-opacity:1; font-family:Arial,Helvetica Neue,Helvetica,sans-serif; font-size:10; text-anchor:start;\" transform=\"rotate(0, 228.235, 285.72)\" x=\"228.235\" y=\"285.72\">3 </text>\n",
       "</g>\n",
       "<g clip-path=\"url(#clip9200)\">\n",
       "<text style=\"fill:#000000; fill-opacity:1; font-family:Arial,Helvetica Neue,Helvetica,sans-serif; font-size:12; text-anchor:start;\" transform=\"rotate(0, 261.66, 292.573)\" x=\"261.66\" y=\"292.573\">10</text>\n",
       "</g>\n",
       "<g clip-path=\"url(#clip9200)\">\n",
       "<text style=\"fill:#000000; fill-opacity:1; font-family:Arial,Helvetica Neue,Helvetica,sans-serif; font-size:10; text-anchor:start;\" transform=\"rotate(0, 275.041, 285.72)\" x=\"275.041\" y=\"285.72\">-</text>\n",
       "</g>\n",
       "<g clip-path=\"url(#clip9200)\">\n",
       "<text style=\"fill:#000000; fill-opacity:1; font-family:Arial,Helvetica Neue,Helvetica,sans-serif; font-size:10; text-anchor:start;\" transform=\"rotate(0, 280.751, 285.72)\" x=\"280.751\" y=\"285.72\">2 </text>\n",
       "</g>\n",
       "<g clip-path=\"url(#clip9200)\">\n",
       "<text style=\"fill:#000000; fill-opacity:1; font-family:Arial,Helvetica Neue,Helvetica,sans-serif; font-size:12; text-anchor:start;\" transform=\"rotate(0, 314.176, 292.573)\" x=\"314.176\" y=\"292.573\">10</text>\n",
       "</g>\n",
       "<g clip-path=\"url(#clip9200)\">\n",
       "<text style=\"fill:#000000; fill-opacity:1; font-family:Arial,Helvetica Neue,Helvetica,sans-serif; font-size:10; text-anchor:start;\" transform=\"rotate(0, 327.557, 285.72)\" x=\"327.557\" y=\"285.72\">-</text>\n",
       "</g>\n",
       "<g clip-path=\"url(#clip9200)\">\n",
       "<text style=\"fill:#000000; fill-opacity:1; font-family:Arial,Helvetica Neue,Helvetica,sans-serif; font-size:10; text-anchor:start;\" transform=\"rotate(0, 333.267, 285.72)\" x=\"333.267\" y=\"285.72\">1 </text>\n",
       "</g>\n",
       "<g clip-path=\"url(#clip9200)\">\n",
       "<text style=\"fill:#000000; fill-opacity:1; font-family:Arial,Helvetica Neue,Helvetica,sans-serif; font-size:12; text-anchor:start;\" transform=\"rotate(0, 369.547, 292.573)\" x=\"369.547\" y=\"292.573\">10</text>\n",
       "</g>\n",
       "<g clip-path=\"url(#clip9200)\">\n",
       "<text style=\"fill:#000000; fill-opacity:1; font-family:Arial,Helvetica Neue,Helvetica,sans-serif; font-size:10; text-anchor:start;\" transform=\"rotate(0, 382.928, 285.72)\" x=\"382.928\" y=\"285.72\">0 </text>\n",
       "</g>\n",
       "<g clip-path=\"url(#clip9200)\">\n",
       "<text style=\"fill:#000000; fill-opacity:1; font-family:Arial,Helvetica Neue,Helvetica,sans-serif; font-size:12; text-anchor:start;\" transform=\"rotate(0, 20.382, 268.266)\" x=\"20.382\" y=\"268.266\">10</text>\n",
       "</g>\n",
       "<g clip-path=\"url(#clip9200)\">\n",
       "<text style=\"fill:#000000; fill-opacity:1; font-family:Arial,Helvetica Neue,Helvetica,sans-serif; font-size:10; text-anchor:start;\" transform=\"rotate(0, 33.7632, 261.413)\" x=\"33.7632\" y=\"261.413\">-</text>\n",
       "</g>\n",
       "<g clip-path=\"url(#clip9200)\">\n",
       "<text style=\"fill:#000000; fill-opacity:1; font-family:Arial,Helvetica Neue,Helvetica,sans-serif; font-size:10; text-anchor:start;\" transform=\"rotate(0, 39.473, 261.413)\" x=\"39.473\" y=\"261.413\">12.5 </text>\n",
       "</g>\n",
       "<g clip-path=\"url(#clip9200)\">\n",
       "<text style=\"fill:#000000; fill-opacity:1; font-family:Arial,Helvetica Neue,Helvetica,sans-serif; font-size:12; text-anchor:start;\" transform=\"rotate(0, 20.382, 214.367)\" x=\"20.382\" y=\"214.367\">10</text>\n",
       "</g>\n",
       "<g clip-path=\"url(#clip9200)\">\n",
       "<text style=\"fill:#000000; fill-opacity:1; font-family:Arial,Helvetica Neue,Helvetica,sans-serif; font-size:10; text-anchor:start;\" transform=\"rotate(0, 33.7632, 207.514)\" x=\"33.7632\" y=\"207.514\">-</text>\n",
       "</g>\n",
       "<g clip-path=\"url(#clip9200)\">\n",
       "<text style=\"fill:#000000; fill-opacity:1; font-family:Arial,Helvetica Neue,Helvetica,sans-serif; font-size:10; text-anchor:start;\" transform=\"rotate(0, 39.473, 207.514)\" x=\"39.473\" y=\"207.514\">10.0 </text>\n",
       "</g>\n",
       "<g clip-path=\"url(#clip9200)\">\n",
       "<text style=\"fill:#000000; fill-opacity:1; font-family:Arial,Helvetica Neue,Helvetica,sans-serif; font-size:12; text-anchor:start;\" transform=\"rotate(0, 25.8181, 160.468)\" x=\"25.8181\" y=\"160.468\">10</text>\n",
       "</g>\n",
       "<g clip-path=\"url(#clip9200)\">\n",
       "<text style=\"fill:#000000; fill-opacity:1; font-family:Arial,Helvetica Neue,Helvetica,sans-serif; font-size:10; text-anchor:start;\" transform=\"rotate(0, 39.1993, 153.615)\" x=\"39.1993\" y=\"153.615\">-</text>\n",
       "</g>\n",
       "<g clip-path=\"url(#clip9200)\">\n",
       "<text style=\"fill:#000000; fill-opacity:1; font-family:Arial,Helvetica Neue,Helvetica,sans-serif; font-size:10; text-anchor:start;\" transform=\"rotate(0, 44.9091, 153.615)\" x=\"44.9091\" y=\"153.615\">7.5 </text>\n",
       "</g>\n",
       "<g clip-path=\"url(#clip9200)\">\n",
       "<text style=\"fill:#000000; fill-opacity:1; font-family:Arial,Helvetica Neue,Helvetica,sans-serif; font-size:12; text-anchor:start;\" transform=\"rotate(0, 25.8181, 106.569)\" x=\"25.8181\" y=\"106.569\">10</text>\n",
       "</g>\n",
       "<g clip-path=\"url(#clip9200)\">\n",
       "<text style=\"fill:#000000; fill-opacity:1; font-family:Arial,Helvetica Neue,Helvetica,sans-serif; font-size:10; text-anchor:start;\" transform=\"rotate(0, 39.1993, 99.7162)\" x=\"39.1993\" y=\"99.7162\">-</text>\n",
       "</g>\n",
       "<g clip-path=\"url(#clip9200)\">\n",
       "<text style=\"fill:#000000; fill-opacity:1; font-family:Arial,Helvetica Neue,Helvetica,sans-serif; font-size:10; text-anchor:start;\" transform=\"rotate(0, 44.9091, 99.7162)\" x=\"44.9091\" y=\"99.7162\">5.0 </text>\n",
       "</g>\n",
       "<g clip-path=\"url(#clip9200)\">\n",
       "<text style=\"fill:#000000; fill-opacity:1; font-family:Arial,Helvetica Neue,Helvetica,sans-serif; font-size:12; text-anchor:start;\" transform=\"rotate(0, 25.8181, 52.6699)\" x=\"25.8181\" y=\"52.6699\">10</text>\n",
       "</g>\n",
       "<g clip-path=\"url(#clip9200)\">\n",
       "<text style=\"fill:#000000; fill-opacity:1; font-family:Arial,Helvetica Neue,Helvetica,sans-serif; font-size:10; text-anchor:start;\" transform=\"rotate(0, 39.1993, 45.8173)\" x=\"39.1993\" y=\"45.8173\">-</text>\n",
       "</g>\n",
       "<g clip-path=\"url(#clip9200)\">\n",
       "<text style=\"fill:#000000; fill-opacity:1; font-family:Arial,Helvetica Neue,Helvetica,sans-serif; font-size:10; text-anchor:start;\" transform=\"rotate(0, 44.9091, 45.8173)\" x=\"44.9091\" y=\"45.8173\">2.5 </text>\n",
       "</g>\n",
       "<circle clip-path=\"url(#clip9202)\" style=\"fill:#000000; stroke:none; fill-opacity:1\" cx=\"380.315\" cy=\"22.8657\" r=\"4\"/>\n",
       "<circle clip-path=\"url(#clip9202)\" style=\"fill:#0000ff; stroke:none; fill-opacity:1\" cx=\"380.315\" cy=\"22.8657\" r=\"3\"/>\n",
       "<circle clip-path=\"url(#clip9202)\" style=\"fill:#000000; stroke:none; fill-opacity:1\" cx=\"364.506\" cy=\"35.644\" r=\"4\"/>\n",
       "<circle clip-path=\"url(#clip9202)\" style=\"fill:#0000ff; stroke:none; fill-opacity:1\" cx=\"364.506\" cy=\"35.644\" r=\"3\"/>\n",
       "<circle clip-path=\"url(#clip9202)\" style=\"fill:#000000; stroke:none; fill-opacity:1\" cx=\"348.697\" cy=\"48.5732\" r=\"4\"/>\n",
       "<circle clip-path=\"url(#clip9202)\" style=\"fill:#0000ff; stroke:none; fill-opacity:1\" cx=\"348.697\" cy=\"48.5732\" r=\"3\"/>\n",
       "<circle clip-path=\"url(#clip9202)\" style=\"fill:#000000; stroke:none; fill-opacity:1\" cx=\"332.888\" cy=\"61.5405\" r=\"4\"/>\n",
       "<circle clip-path=\"url(#clip9202)\" style=\"fill:#0000ff; stroke:none; fill-opacity:1\" cx=\"332.888\" cy=\"61.5405\" r=\"3\"/>\n",
       "<circle clip-path=\"url(#clip9202)\" style=\"fill:#000000; stroke:none; fill-opacity:1\" cx=\"317.079\" cy=\"74.5175\" r=\"4\"/>\n",
       "<circle clip-path=\"url(#clip9202)\" style=\"fill:#0000ff; stroke:none; fill-opacity:1\" cx=\"317.079\" cy=\"74.5175\" r=\"3\"/>\n",
       "<circle clip-path=\"url(#clip9202)\" style=\"fill:#000000; stroke:none; fill-opacity:1\" cx=\"301.27\" cy=\"87.4969\" r=\"4\"/>\n",
       "<circle clip-path=\"url(#clip9202)\" style=\"fill:#0000ff; stroke:none; fill-opacity:1\" cx=\"301.27\" cy=\"87.4969\" r=\"3\"/>\n",
       "<circle clip-path=\"url(#clip9202)\" style=\"fill:#000000; stroke:none; fill-opacity:1\" cx=\"285.461\" cy=\"100.477\" r=\"4\"/>\n",
       "<circle clip-path=\"url(#clip9202)\" style=\"fill:#0000ff; stroke:none; fill-opacity:1\" cx=\"285.461\" cy=\"100.477\" r=\"3\"/>\n",
       "<circle clip-path=\"url(#clip9202)\" style=\"fill:#000000; stroke:none; fill-opacity:1\" cx=\"269.652\" cy=\"113.457\" r=\"4\"/>\n",
       "<circle clip-path=\"url(#clip9202)\" style=\"fill:#0000ff; stroke:none; fill-opacity:1\" cx=\"269.652\" cy=\"113.457\" r=\"3\"/>\n",
       "<circle clip-path=\"url(#clip9202)\" style=\"fill:#000000; stroke:none; fill-opacity:1\" cx=\"253.843\" cy=\"126.437\" r=\"4\"/>\n",
       "<circle clip-path=\"url(#clip9202)\" style=\"fill:#0000ff; stroke:none; fill-opacity:1\" cx=\"253.843\" cy=\"126.437\" r=\"3\"/>\n",
       "<circle clip-path=\"url(#clip9202)\" style=\"fill:#000000; stroke:none; fill-opacity:1\" cx=\"238.034\" cy=\"139.417\" r=\"4\"/>\n",
       "<circle clip-path=\"url(#clip9202)\" style=\"fill:#0000ff; stroke:none; fill-opacity:1\" cx=\"238.034\" cy=\"139.417\" r=\"3\"/>\n",
       "<circle clip-path=\"url(#clip9202)\" style=\"fill:#000000; stroke:none; fill-opacity:1\" cx=\"222.225\" cy=\"152.397\" r=\"4\"/>\n",
       "<circle clip-path=\"url(#clip9202)\" style=\"fill:#0000ff; stroke:none; fill-opacity:1\" cx=\"222.225\" cy=\"152.397\" r=\"3\"/>\n",
       "<circle clip-path=\"url(#clip9202)\" style=\"fill:#000000; stroke:none; fill-opacity:1\" cx=\"206.416\" cy=\"165.378\" r=\"4\"/>\n",
       "<circle clip-path=\"url(#clip9202)\" style=\"fill:#0000ff; stroke:none; fill-opacity:1\" cx=\"206.416\" cy=\"165.378\" r=\"3\"/>\n",
       "<circle clip-path=\"url(#clip9202)\" style=\"fill:#000000; stroke:none; fill-opacity:1\" cx=\"190.607\" cy=\"178.359\" r=\"4\"/>\n",
       "<circle clip-path=\"url(#clip9202)\" style=\"fill:#0000ff; stroke:none; fill-opacity:1\" cx=\"190.607\" cy=\"178.359\" r=\"3\"/>\n",
       "<circle clip-path=\"url(#clip9202)\" style=\"fill:#000000; stroke:none; fill-opacity:1\" cx=\"174.798\" cy=\"191.348\" r=\"4\"/>\n",
       "<circle clip-path=\"url(#clip9202)\" style=\"fill:#0000ff; stroke:none; fill-opacity:1\" cx=\"174.798\" cy=\"191.348\" r=\"3\"/>\n",
       "<circle clip-path=\"url(#clip9202)\" style=\"fill:#000000; stroke:none; fill-opacity:1\" cx=\"158.989\" cy=\"204.246\" r=\"4\"/>\n",
       "<circle clip-path=\"url(#clip9202)\" style=\"fill:#0000ff; stroke:none; fill-opacity:1\" cx=\"158.989\" cy=\"204.246\" r=\"3\"/>\n",
       "<circle clip-path=\"url(#clip9202)\" style=\"fill:#000000; stroke:none; fill-opacity:1\" cx=\"143.18\" cy=\"217.903\" r=\"4\"/>\n",
       "<circle clip-path=\"url(#clip9202)\" style=\"fill:#0000ff; stroke:none; fill-opacity:1\" cx=\"143.18\" cy=\"217.903\" r=\"3\"/>\n",
       "<circle clip-path=\"url(#clip9202)\" style=\"fill:#000000; stroke:none; fill-opacity:1\" cx=\"127.371\" cy=\"226.482\" r=\"4\"/>\n",
       "<circle clip-path=\"url(#clip9202)\" style=\"fill:#0000ff; stroke:none; fill-opacity:1\" cx=\"127.371\" cy=\"226.482\" r=\"3\"/>\n",
       "<circle clip-path=\"url(#clip9202)\" style=\"fill:#000000; stroke:none; fill-opacity:1\" cx=\"111.563\" cy=\"232.972\" r=\"4\"/>\n",
       "<circle clip-path=\"url(#clip9202)\" style=\"fill:#0000ff; stroke:none; fill-opacity:1\" cx=\"111.563\" cy=\"232.972\" r=\"3\"/>\n",
       "<circle clip-path=\"url(#clip9202)\" style=\"fill:#000000; stroke:none; fill-opacity:1\" cx=\"95.7536\" cy=\"245.952\" r=\"4\"/>\n",
       "<circle clip-path=\"url(#clip9202)\" style=\"fill:#0000ff; stroke:none; fill-opacity:1\" cx=\"95.7536\" cy=\"245.952\" r=\"3\"/>\n",
       "<circle clip-path=\"url(#clip9202)\" style=\"fill:#000000; stroke:none; fill-opacity:1\" cx=\"79.9446\" cy=\"258.932\" r=\"4\"/>\n",
       "<circle clip-path=\"url(#clip9202)\" style=\"fill:#0000ff; stroke:none; fill-opacity:1\" cx=\"79.9446\" cy=\"258.932\" r=\"3\"/>\n",
       "<circle clip-path=\"url(#clip9202)\" style=\"fill:#000000; stroke:none; fill-opacity:1\" cx=\"380.315\" cy=\"16.2594\" r=\"4\"/>\n",
       "<circle clip-path=\"url(#clip9202)\" style=\"fill:#ff0000; stroke:none; fill-opacity:1\" cx=\"380.315\" cy=\"16.2594\" r=\"3\"/>\n",
       "<circle clip-path=\"url(#clip9202)\" style=\"fill:#000000; stroke:none; fill-opacity:1\" cx=\"364.506\" cy=\"29.1247\" r=\"4\"/>\n",
       "<circle clip-path=\"url(#clip9202)\" style=\"fill:#ff0000; stroke:none; fill-opacity:1\" cx=\"364.506\" cy=\"29.1247\" r=\"3\"/>\n",
       "<circle clip-path=\"url(#clip9202)\" style=\"fill:#000000; stroke:none; fill-opacity:1\" cx=\"348.697\" cy=\"42.0758\" r=\"4\"/>\n",
       "<circle clip-path=\"url(#clip9202)\" style=\"fill:#ff0000; stroke:none; fill-opacity:1\" cx=\"348.697\" cy=\"42.0758\" r=\"3\"/>\n",
       "<circle clip-path=\"url(#clip9202)\" style=\"fill:#000000; stroke:none; fill-opacity:1\" cx=\"332.888\" cy=\"55.0486\" r=\"4\"/>\n",
       "<circle clip-path=\"url(#clip9202)\" style=\"fill:#ff0000; stroke:none; fill-opacity:1\" cx=\"332.888\" cy=\"55.0486\" r=\"3\"/>\n",
       "<circle clip-path=\"url(#clip9202)\" style=\"fill:#000000; stroke:none; fill-opacity:1\" cx=\"317.079\" cy=\"68.027\" r=\"4\"/>\n",
       "<circle clip-path=\"url(#clip9202)\" style=\"fill:#ff0000; stroke:none; fill-opacity:1\" cx=\"317.079\" cy=\"68.027\" r=\"3\"/>\n",
       "<circle clip-path=\"url(#clip9202)\" style=\"fill:#000000; stroke:none; fill-opacity:1\" cx=\"301.27\" cy=\"81.0067\" r=\"4\"/>\n",
       "<circle clip-path=\"url(#clip9202)\" style=\"fill:#ff0000; stroke:none; fill-opacity:1\" cx=\"301.27\" cy=\"81.0067\" r=\"3\"/>\n",
       "<circle clip-path=\"url(#clip9202)\" style=\"fill:#000000; stroke:none; fill-opacity:1\" cx=\"285.461\" cy=\"93.9867\" r=\"4\"/>\n",
       "<circle clip-path=\"url(#clip9202)\" style=\"fill:#ff0000; stroke:none; fill-opacity:1\" cx=\"285.461\" cy=\"93.9867\" r=\"3\"/>\n",
       "<circle clip-path=\"url(#clip9202)\" style=\"fill:#000000; stroke:none; fill-opacity:1\" cx=\"269.652\" cy=\"106.967\" r=\"4\"/>\n",
       "<circle clip-path=\"url(#clip9202)\" style=\"fill:#ff0000; stroke:none; fill-opacity:1\" cx=\"269.652\" cy=\"106.967\" r=\"3\"/>\n",
       "<circle clip-path=\"url(#clip9202)\" style=\"fill:#000000; stroke:none; fill-opacity:1\" cx=\"253.843\" cy=\"119.947\" r=\"4\"/>\n",
       "<circle clip-path=\"url(#clip9202)\" style=\"fill:#ff0000; stroke:none; fill-opacity:1\" cx=\"253.843\" cy=\"119.947\" r=\"3\"/>\n",
       "<circle clip-path=\"url(#clip9202)\" style=\"fill:#000000; stroke:none; fill-opacity:1\" cx=\"238.034\" cy=\"132.927\" r=\"4\"/>\n",
       "<circle clip-path=\"url(#clip9202)\" style=\"fill:#ff0000; stroke:none; fill-opacity:1\" cx=\"238.034\" cy=\"132.927\" r=\"3\"/>\n",
       "<circle clip-path=\"url(#clip9202)\" style=\"fill:#000000; stroke:none; fill-opacity:1\" cx=\"222.225\" cy=\"145.907\" r=\"4\"/>\n",
       "<circle clip-path=\"url(#clip9202)\" style=\"fill:#ff0000; stroke:none; fill-opacity:1\" cx=\"222.225\" cy=\"145.907\" r=\"3\"/>\n",
       "<circle clip-path=\"url(#clip9202)\" style=\"fill:#000000; stroke:none; fill-opacity:1\" cx=\"206.416\" cy=\"158.888\" r=\"4\"/>\n",
       "<circle clip-path=\"url(#clip9202)\" style=\"fill:#ff0000; stroke:none; fill-opacity:1\" cx=\"206.416\" cy=\"158.888\" r=\"3\"/>\n",
       "<circle clip-path=\"url(#clip9202)\" style=\"fill:#000000; stroke:none; fill-opacity:1\" cx=\"190.607\" cy=\"171.867\" r=\"4\"/>\n",
       "<circle clip-path=\"url(#clip9202)\" style=\"fill:#ff0000; stroke:none; fill-opacity:1\" cx=\"190.607\" cy=\"171.867\" r=\"3\"/>\n",
       "<circle clip-path=\"url(#clip9202)\" style=\"fill:#000000; stroke:none; fill-opacity:1\" cx=\"174.798\" cy=\"184.843\" r=\"4\"/>\n",
       "<circle clip-path=\"url(#clip9202)\" style=\"fill:#ff0000; stroke:none; fill-opacity:1\" cx=\"174.798\" cy=\"184.843\" r=\"3\"/>\n",
       "<circle clip-path=\"url(#clip9202)\" style=\"fill:#000000; stroke:none; fill-opacity:1\" cx=\"158.989\" cy=\"197.864\" r=\"4\"/>\n",
       "<circle clip-path=\"url(#clip9202)\" style=\"fill:#ff0000; stroke:none; fill-opacity:1\" cx=\"158.989\" cy=\"197.864\" r=\"3\"/>\n",
       "<circle clip-path=\"url(#clip9202)\" style=\"fill:#000000; stroke:none; fill-opacity:1\" cx=\"143.18\" cy=\"210.52\" r=\"4\"/>\n",
       "<circle clip-path=\"url(#clip9202)\" style=\"fill:#ff0000; stroke:none; fill-opacity:1\" cx=\"143.18\" cy=\"210.52\" r=\"3\"/>\n",
       "<circle clip-path=\"url(#clip9202)\" style=\"fill:#000000; stroke:none; fill-opacity:1\" cx=\"127.371\" cy=\"226.482\" r=\"4\"/>\n",
       "<circle clip-path=\"url(#clip9202)\" style=\"fill:#ff0000; stroke:none; fill-opacity:1\" cx=\"127.371\" cy=\"226.482\" r=\"3\"/>\n",
       "<circle clip-path=\"url(#clip9202)\" style=\"fill:#000000; stroke:none; fill-opacity:1\" cx=\"111.563\" cy=\"226.482\" r=\"4\"/>\n",
       "<circle clip-path=\"url(#clip9202)\" style=\"fill:#ff0000; stroke:none; fill-opacity:1\" cx=\"111.563\" cy=\"226.482\" r=\"3\"/>\n",
       "<circle clip-path=\"url(#clip9202)\" style=\"fill:#000000; stroke:none; fill-opacity:1\" cx=\"95.7536\" cy=\"239.462\" r=\"4\"/>\n",
       "<circle clip-path=\"url(#clip9202)\" style=\"fill:#ff0000; stroke:none; fill-opacity:1\" cx=\"95.7536\" cy=\"239.462\" r=\"3\"/>\n",
       "<circle clip-path=\"url(#clip9202)\" style=\"fill:#000000; stroke:none; fill-opacity:1\" cx=\"79.9446\" cy=\"252.442\" r=\"4\"/>\n",
       "<circle clip-path=\"url(#clip9202)\" style=\"fill:#ff0000; stroke:none; fill-opacity:1\" cx=\"79.9446\" cy=\"252.442\" r=\"3\"/>\n",
       "<circle clip-path=\"url(#clip9202)\" style=\"fill:#000000; stroke:none; fill-opacity:1\" cx=\"380.315\" cy=\"26.6149\" r=\"4\"/>\n",
       "<circle clip-path=\"url(#clip9202)\" style=\"fill:#ff00ff; stroke:none; fill-opacity:1\" cx=\"380.315\" cy=\"26.6149\" r=\"3\"/>\n",
       "<circle clip-path=\"url(#clip9202)\" style=\"fill:#000000; stroke:none; fill-opacity:1\" cx=\"364.506\" cy=\"39.4286\" r=\"4\"/>\n",
       "<circle clip-path=\"url(#clip9202)\" style=\"fill:#ff00ff; stroke:none; fill-opacity:1\" cx=\"364.506\" cy=\"39.4286\" r=\"3\"/>\n",
       "<circle clip-path=\"url(#clip9202)\" style=\"fill:#000000; stroke:none; fill-opacity:1\" cx=\"348.697\" cy=\"52.3666\" r=\"4\"/>\n",
       "<circle clip-path=\"url(#clip9202)\" style=\"fill:#ff00ff; stroke:none; fill-opacity:1\" cx=\"348.697\" cy=\"52.3666\" r=\"3\"/>\n",
       "<circle clip-path=\"url(#clip9202)\" style=\"fill:#000000; stroke:none; fill-opacity:1\" cx=\"332.888\" cy=\"65.3363\" r=\"4\"/>\n",
       "<circle clip-path=\"url(#clip9202)\" style=\"fill:#ff00ff; stroke:none; fill-opacity:1\" cx=\"332.888\" cy=\"65.3363\" r=\"3\"/>\n",
       "<circle clip-path=\"url(#clip9202)\" style=\"fill:#000000; stroke:none; fill-opacity:1\" cx=\"317.079\" cy=\"78.3138\" r=\"4\"/>\n",
       "<circle clip-path=\"url(#clip9202)\" style=\"fill:#ff00ff; stroke:none; fill-opacity:1\" cx=\"317.079\" cy=\"78.3138\" r=\"3\"/>\n",
       "<circle clip-path=\"url(#clip9202)\" style=\"fill:#000000; stroke:none; fill-opacity:1\" cx=\"301.27\" cy=\"91.2933\" r=\"4\"/>\n",
       "<circle clip-path=\"url(#clip9202)\" style=\"fill:#ff00ff; stroke:none; fill-opacity:1\" cx=\"301.27\" cy=\"91.2933\" r=\"3\"/>\n",
       "<circle clip-path=\"url(#clip9202)\" style=\"fill:#000000; stroke:none; fill-opacity:1\" cx=\"285.461\" cy=\"104.273\" r=\"4\"/>\n",
       "<circle clip-path=\"url(#clip9202)\" style=\"fill:#ff00ff; stroke:none; fill-opacity:1\" cx=\"285.461\" cy=\"104.273\" r=\"3\"/>\n",
       "<circle clip-path=\"url(#clip9202)\" style=\"fill:#000000; stroke:none; fill-opacity:1\" cx=\"269.652\" cy=\"117.253\" r=\"4\"/>\n",
       "<circle clip-path=\"url(#clip9202)\" style=\"fill:#ff00ff; stroke:none; fill-opacity:1\" cx=\"269.652\" cy=\"117.253\" r=\"3\"/>\n",
       "<circle clip-path=\"url(#clip9202)\" style=\"fill:#000000; stroke:none; fill-opacity:1\" cx=\"253.843\" cy=\"130.234\" r=\"4\"/>\n",
       "<circle clip-path=\"url(#clip9202)\" style=\"fill:#ff00ff; stroke:none; fill-opacity:1\" cx=\"253.843\" cy=\"130.234\" r=\"3\"/>\n",
       "<circle clip-path=\"url(#clip9202)\" style=\"fill:#000000; stroke:none; fill-opacity:1\" cx=\"238.034\" cy=\"143.214\" r=\"4\"/>\n",
       "<circle clip-path=\"url(#clip9202)\" style=\"fill:#ff00ff; stroke:none; fill-opacity:1\" cx=\"238.034\" cy=\"143.214\" r=\"3\"/>\n",
       "<circle clip-path=\"url(#clip9202)\" style=\"fill:#000000; stroke:none; fill-opacity:1\" cx=\"222.225\" cy=\"156.194\" r=\"4\"/>\n",
       "<circle clip-path=\"url(#clip9202)\" style=\"fill:#ff00ff; stroke:none; fill-opacity:1\" cx=\"222.225\" cy=\"156.194\" r=\"3\"/>\n",
       "<circle clip-path=\"url(#clip9202)\" style=\"fill:#000000; stroke:none; fill-opacity:1\" cx=\"206.416\" cy=\"169.174\" r=\"4\"/>\n",
       "<circle clip-path=\"url(#clip9202)\" style=\"fill:#ff00ff; stroke:none; fill-opacity:1\" cx=\"206.416\" cy=\"169.174\" r=\"3\"/>\n",
       "<circle clip-path=\"url(#clip9202)\" style=\"fill:#000000; stroke:none; fill-opacity:1\" cx=\"190.607\" cy=\"182.156\" r=\"4\"/>\n",
       "<circle clip-path=\"url(#clip9202)\" style=\"fill:#ff00ff; stroke:none; fill-opacity:1\" cx=\"190.607\" cy=\"182.156\" r=\"3\"/>\n",
       "<circle clip-path=\"url(#clip9202)\" style=\"fill:#000000; stroke:none; fill-opacity:1\" cx=\"174.798\" cy=\"195.15\" r=\"4\"/>\n",
       "<circle clip-path=\"url(#clip9202)\" style=\"fill:#ff00ff; stroke:none; fill-opacity:1\" cx=\"174.798\" cy=\"195.15\" r=\"3\"/>\n",
       "<circle clip-path=\"url(#clip9202)\" style=\"fill:#000000; stroke:none; fill-opacity:1\" cx=\"158.989\" cy=\"208.006\" r=\"4\"/>\n",
       "<circle clip-path=\"url(#clip9202)\" style=\"fill:#ff00ff; stroke:none; fill-opacity:1\" cx=\"158.989\" cy=\"208.006\" r=\"3\"/>\n",
       "<circle clip-path=\"url(#clip9202)\" style=\"fill:#000000; stroke:none; fill-opacity:1\" cx=\"143.18\" cy=\"222.017\" r=\"4\"/>\n",
       "<circle clip-path=\"url(#clip9202)\" style=\"fill:#ff00ff; stroke:none; fill-opacity:1\" cx=\"143.18\" cy=\"222.017\" r=\"3\"/>\n",
       "<circle clip-path=\"url(#clip9202)\" style=\"fill:#000000; stroke:none; fill-opacity:1\" cx=\"127.371\" cy=\"228.835\" r=\"4\"/>\n",
       "<circle clip-path=\"url(#clip9202)\" style=\"fill:#ff00ff; stroke:none; fill-opacity:1\" cx=\"127.371\" cy=\"228.835\" r=\"3\"/>\n",
       "<circle clip-path=\"url(#clip9202)\" style=\"fill:#000000; stroke:none; fill-opacity:1\" cx=\"111.563\" cy=\"231.986\" r=\"4\"/>\n",
       "<circle clip-path=\"url(#clip9202)\" style=\"fill:#ff00ff; stroke:none; fill-opacity:1\" cx=\"111.563\" cy=\"231.986\" r=\"3\"/>\n",
       "<circle clip-path=\"url(#clip9202)\" style=\"fill:#000000; stroke:none; fill-opacity:1\" cx=\"95.7536\" cy=\"244.966\" r=\"4\"/>\n",
       "<circle clip-path=\"url(#clip9202)\" style=\"fill:#ff00ff; stroke:none; fill-opacity:1\" cx=\"95.7536\" cy=\"244.966\" r=\"3\"/>\n",
       "<circle clip-path=\"url(#clip9202)\" style=\"fill:#000000; stroke:none; fill-opacity:1\" cx=\"79.9446\" cy=\"257.944\" r=\"4\"/>\n",
       "<circle clip-path=\"url(#clip9202)\" style=\"fill:#ff00ff; stroke:none; fill-opacity:1\" cx=\"79.9446\" cy=\"257.944\" r=\"3\"/>\n",
       "<polyline clip-path=\"url(#clip9202)\" style=\"stroke:#009af9; stroke-width:1; stroke-opacity:1; fill:none\" points=\"\n",
       "  380.315,11.811 65.2174,274.821 \n",
       "  \"/>\n",
       "</svg>\n"
      ]
     },
     "execution_count": 48,
     "metadata": {},
     "output_type": "execute_result"
    }
   ],
   "source": [
    "a = 0\n",
    "f(x) = exp(x)\n",
    "F(x) = exp(x)\n",
    "cores = [:blue, :red, :magenta]\n",
    "scatter(leg=false, xaxis=:log, yaxis=:log)\n",
    "for (i,mtd) in enumerate([ponto_medio, trapezio_fechado, trapezio_aberto])\n",
    "    b = 1.0\n",
    "    while b > 1e-6\n",
    "        Ireal = F(b) - F(a)\n",
    "        Iapprox = mtd(f, a, b)\n",
    "        E = abs(Ireal - Iapprox) / Ireal\n",
    "        scatter!([b], [E], c=cores[i])\n",
    "        b /= 2.0\n",
    "    end\n",
    "end\n",
    "b = [1.0; 1e-6]\n",
    "plot!(b, b.^3 .* exp.(b) ./ (F.(b) - F(a)) / 12)"
   ]
  },
  {
   "cell_type": "markdown",
   "metadata": {},
   "source": [
    "Duas conclusões importantes podem ser tiradas daqui. Primeiro, não existem bons motivos para se usar o trapézio aberto, uma vez que o erro do ponto médio é da mesma ordem que o do trapézio aberto.\n",
    "Segundo, que todas essas fórmulas tem uma erro proporcional à $f''(\\xi)$, de modo que integram perfeitamente funções afins."
   ]
  },
  {
   "cell_type": "code",
   "execution_count": 17,
   "metadata": {},
   "outputs": [
    {
     "data": {
      "text/plain": [
       "0.0"
      ]
     },
     "execution_count": 17,
     "metadata": {},
     "output_type": "execute_result"
    }
   ],
   "source": [
    "f(x) = 2x + 5\n",
    "F(x) = x^2 + 5x\n",
    "a, b = 0, 1\n",
    "ponto_medio(f, a, b) - (F(b) - F(a))"
   ]
  },
  {
   "cell_type": "markdown",
   "metadata": {},
   "source": [
    "Outro ponto agora é se conseguimos melhorar nossa aproximação num intervalo fixo $[a,b]$.\n",
    "Existem duas possibilidades: aumentar a quantidade de pontos da interpolação, ou quebrar o intervalo $[a,b]$ em vários intervalos menores."
   ]
  },
  {
   "cell_type": "markdown",
   "metadata": {},
   "source": [
    "### Regra de Simpson \n",
    "\n",
    "Usando 3 pontos chegamos nas seguintes fórmulas:"
   ]
  },
  {
   "cell_type": "markdown",
   "metadata": {},
   "source": [
    "\\begin{align}\n",
    "\\int_a^b f(x)\\mbox{d}x & = \\frac{b-a}{6}[f(a) + 4f\\bigg(\\frac{a+b}{2}\\bigg) + f(b)] - \\frac{(b-a)^5}{2880}f^{(4)}(\\xi) \\\\\n",
    "& = \\frac{h}{3}[f(x_1) + 4f(x_2) + f(x_3)] - \\frac{h^5}{90}f^{(4)}(\\xi),\n",
    "\\end{align}\n",
    "e"
   ]
  },
  {
   "cell_type": "markdown",
   "metadata": {},
   "source": [
    "\\begin{align}\n",
    "\\int_a^b f(x)\\mbox{d}x & = \\frac{b-a}{3}[2f(a+h) - f(a+2h) + 2f(a+3h)] + \\frac{7(b - a)^5}{23040}f^{(4)}(\\xi) \\\\\n",
    "& = \\frac{4h}{3}[2f(x_1) - f(x_2) + 2f(x_3)] + \\frac{14h^5}{45}f^{(4)}(\\xi).\n",
    "\\end{align}"
   ]
  },
  {
   "cell_type": "markdown",
   "metadata": {},
   "source": [
    "Note que $h = \\dfrac{b-a}{2}$ na fórmula fechada e $h = \\dfrac{b-a}{4}$ na fórmula aberta."
   ]
  },
  {
   "cell_type": "markdown",
   "metadata": {},
   "source": [
    "A fórmula fechada de 3 pontos é chamado de regra de Simpson."
   ]
  },
  {
   "cell_type": "code",
   "execution_count": 49,
   "metadata": {},
   "outputs": [
    {
     "data": {
      "image/svg+xml": [
       "<?xml version=\"1.0\" encoding=\"utf-8\"?>\n",
       "<svg xmlns=\"http://www.w3.org/2000/svg\" xmlns:xlink=\"http://www.w3.org/1999/xlink\" width=\"400\" height=\"300\" viewBox=\"0 0 400 300\">\n",
       "<defs>\n",
       "  <clipPath id=\"clip9400\">\n",
       "    <rect x=\"0\" y=\"0\" width=\"400\" height=\"300\"/>\n",
       "  </clipPath>\n",
       "</defs>\n",
       "<polygon clip-path=\"url(#clip9400)\" points=\"\n",
       "0,300 400,300 400,0 0,0 \n",
       "  \" fill=\"#ffffff\" fill-opacity=\"1\"/>\n",
       "<defs>\n",
       "  <clipPath id=\"clip9401\">\n",
       "    <rect x=\"80\" y=\"0\" width=\"281\" height=\"281\"/>\n",
       "  </clipPath>\n",
       "</defs>\n",
       "<polygon clip-path=\"url(#clip9400)\" points=\"\n",
       "39.1651,274.821 380.315,274.821 380.315,11.811 39.1651,11.811 \n",
       "  \" fill=\"#ffffff\" fill-opacity=\"1\"/>\n",
       "<defs>\n",
       "  <clipPath id=\"clip9402\">\n",
       "    <rect x=\"39\" y=\"11\" width=\"342\" height=\"264\"/>\n",
       "  </clipPath>\n",
       "</defs>\n",
       "<polyline clip-path=\"url(#clip9402)\" style=\"stroke:#000000; stroke-width:0.5; stroke-opacity:0.1; fill:none\" points=\"\n",
       "  81.2122,274.821 81.2122,11.811 \n",
       "  \"/>\n",
       "<polyline clip-path=\"url(#clip9402)\" style=\"stroke:#000000; stroke-width:0.5; stroke-opacity:0.1; fill:none\" points=\"\n",
       "  124.097,274.821 124.097,11.811 \n",
       "  \"/>\n",
       "<polyline clip-path=\"url(#clip9402)\" style=\"stroke:#000000; stroke-width:0.5; stroke-opacity:0.1; fill:none\" points=\"\n",
       "  166.982,274.821 166.982,11.811 \n",
       "  \"/>\n",
       "<polyline clip-path=\"url(#clip9402)\" style=\"stroke:#000000; stroke-width:0.5; stroke-opacity:0.1; fill:none\" points=\"\n",
       "  209.866,274.821 209.866,11.811 \n",
       "  \"/>\n",
       "<polyline clip-path=\"url(#clip9402)\" style=\"stroke:#000000; stroke-width:0.5; stroke-opacity:0.1; fill:none\" points=\"\n",
       "  252.751,274.821 252.751,11.811 \n",
       "  \"/>\n",
       "<polyline clip-path=\"url(#clip9402)\" style=\"stroke:#000000; stroke-width:0.5; stroke-opacity:0.1; fill:none\" points=\"\n",
       "  295.636,274.821 295.636,11.811 \n",
       "  \"/>\n",
       "<polyline clip-path=\"url(#clip9402)\" style=\"stroke:#000000; stroke-width:0.5; stroke-opacity:0.1; fill:none\" points=\"\n",
       "  338.52,274.821 338.52,11.811 \n",
       "  \"/>\n",
       "<polyline clip-path=\"url(#clip9402)\" style=\"stroke:#000000; stroke-width:0.5; stroke-opacity:0.1; fill:none\" points=\"\n",
       "  39.1651,274.821 380.315,274.821 \n",
       "  \"/>\n",
       "<polyline clip-path=\"url(#clip9402)\" style=\"stroke:#000000; stroke-width:0.5; stroke-opacity:0.1; fill:none\" points=\"\n",
       "  39.1651,213.895 380.315,213.895 \n",
       "  \"/>\n",
       "<polyline clip-path=\"url(#clip9402)\" style=\"stroke:#000000; stroke-width:0.5; stroke-opacity:0.1; fill:none\" points=\"\n",
       "  39.1651,152.969 380.315,152.969 \n",
       "  \"/>\n",
       "<polyline clip-path=\"url(#clip9402)\" style=\"stroke:#000000; stroke-width:0.5; stroke-opacity:0.1; fill:none\" points=\"\n",
       "  39.1651,92.0424 380.315,92.0424 \n",
       "  \"/>\n",
       "<polyline clip-path=\"url(#clip9402)\" style=\"stroke:#000000; stroke-width:0.5; stroke-opacity:0.1; fill:none\" points=\"\n",
       "  39.1651,31.1163 380.315,31.1163 \n",
       "  \"/>\n",
       "<polyline clip-path=\"url(#clip9400)\" style=\"stroke:#000000; stroke-width:1; stroke-opacity:1; fill:none\" points=\"\n",
       "  39.1651,274.821 380.315,274.821 \n",
       "  \"/>\n",
       "<polyline clip-path=\"url(#clip9400)\" style=\"stroke:#000000; stroke-width:1; stroke-opacity:1; fill:none\" points=\"\n",
       "  39.1651,274.821 39.1651,11.811 \n",
       "  \"/>\n",
       "<polyline clip-path=\"url(#clip9400)\" style=\"stroke:#000000; stroke-width:1; stroke-opacity:1; fill:none\" points=\"\n",
       "  81.2122,274.821 81.2122,270.876 \n",
       "  \"/>\n",
       "<polyline clip-path=\"url(#clip9400)\" style=\"stroke:#000000; stroke-width:1; stroke-opacity:1; fill:none\" points=\"\n",
       "  124.097,274.821 124.097,270.876 \n",
       "  \"/>\n",
       "<polyline clip-path=\"url(#clip9400)\" style=\"stroke:#000000; stroke-width:1; stroke-opacity:1; fill:none\" points=\"\n",
       "  166.982,274.821 166.982,270.876 \n",
       "  \"/>\n",
       "<polyline clip-path=\"url(#clip9400)\" style=\"stroke:#000000; stroke-width:1; stroke-opacity:1; fill:none\" points=\"\n",
       "  209.866,274.821 209.866,270.876 \n",
       "  \"/>\n",
       "<polyline clip-path=\"url(#clip9400)\" style=\"stroke:#000000; stroke-width:1; stroke-opacity:1; fill:none\" points=\"\n",
       "  252.751,274.821 252.751,270.876 \n",
       "  \"/>\n",
       "<polyline clip-path=\"url(#clip9400)\" style=\"stroke:#000000; stroke-width:1; stroke-opacity:1; fill:none\" points=\"\n",
       "  295.636,274.821 295.636,270.876 \n",
       "  \"/>\n",
       "<polyline clip-path=\"url(#clip9400)\" style=\"stroke:#000000; stroke-width:1; stroke-opacity:1; fill:none\" points=\"\n",
       "  338.52,274.821 338.52,270.876 \n",
       "  \"/>\n",
       "<polyline clip-path=\"url(#clip9400)\" style=\"stroke:#000000; stroke-width:1; stroke-opacity:1; fill:none\" points=\"\n",
       "  39.1651,274.821 44.2823,274.821 \n",
       "  \"/>\n",
       "<polyline clip-path=\"url(#clip9400)\" style=\"stroke:#000000; stroke-width:1; stroke-opacity:1; fill:none\" points=\"\n",
       "  39.1651,213.895 44.2823,213.895 \n",
       "  \"/>\n",
       "<polyline clip-path=\"url(#clip9400)\" style=\"stroke:#000000; stroke-width:1; stroke-opacity:1; fill:none\" points=\"\n",
       "  39.1651,152.969 44.2823,152.969 \n",
       "  \"/>\n",
       "<polyline clip-path=\"url(#clip9400)\" style=\"stroke:#000000; stroke-width:1; stroke-opacity:1; fill:none\" points=\"\n",
       "  39.1651,92.0424 44.2823,92.0424 \n",
       "  \"/>\n",
       "<polyline clip-path=\"url(#clip9400)\" style=\"stroke:#000000; stroke-width:1; stroke-opacity:1; fill:none\" points=\"\n",
       "  39.1651,31.1163 44.2823,31.1163 \n",
       "  \"/>\n",
       "<g clip-path=\"url(#clip9400)\">\n",
       "<text style=\"fill:#000000; fill-opacity:1; font-family:Arial,Helvetica Neue,Helvetica,sans-serif; font-size:12; text-anchor:middle;\" transform=\"rotate(0, 81.2122, 287.621)\" x=\"81.2122\" y=\"287.621\">-1.5</text>\n",
       "</g>\n",
       "<g clip-path=\"url(#clip9400)\">\n",
       "<text style=\"fill:#000000; fill-opacity:1; font-family:Arial,Helvetica Neue,Helvetica,sans-serif; font-size:12; text-anchor:middle;\" transform=\"rotate(0, 124.097, 287.621)\" x=\"124.097\" y=\"287.621\">-1.0</text>\n",
       "</g>\n",
       "<g clip-path=\"url(#clip9400)\">\n",
       "<text style=\"fill:#000000; fill-opacity:1; font-family:Arial,Helvetica Neue,Helvetica,sans-serif; font-size:12; text-anchor:middle;\" transform=\"rotate(0, 166.982, 287.621)\" x=\"166.982\" y=\"287.621\">-0.5</text>\n",
       "</g>\n",
       "<g clip-path=\"url(#clip9400)\">\n",
       "<text style=\"fill:#000000; fill-opacity:1; font-family:Arial,Helvetica Neue,Helvetica,sans-serif; font-size:12; text-anchor:middle;\" transform=\"rotate(0, 209.866, 287.621)\" x=\"209.866\" y=\"287.621\">0.0</text>\n",
       "</g>\n",
       "<g clip-path=\"url(#clip9400)\">\n",
       "<text style=\"fill:#000000; fill-opacity:1; font-family:Arial,Helvetica Neue,Helvetica,sans-serif; font-size:12; text-anchor:middle;\" transform=\"rotate(0, 252.751, 287.621)\" x=\"252.751\" y=\"287.621\">0.5</text>\n",
       "</g>\n",
       "<g clip-path=\"url(#clip9400)\">\n",
       "<text style=\"fill:#000000; fill-opacity:1; font-family:Arial,Helvetica Neue,Helvetica,sans-serif; font-size:12; text-anchor:middle;\" transform=\"rotate(0, 295.636, 287.621)\" x=\"295.636\" y=\"287.621\">1.0</text>\n",
       "</g>\n",
       "<g clip-path=\"url(#clip9400)\">\n",
       "<text style=\"fill:#000000; fill-opacity:1; font-family:Arial,Helvetica Neue,Helvetica,sans-serif; font-size:12; text-anchor:middle;\" transform=\"rotate(0, 338.52, 287.621)\" x=\"338.52\" y=\"287.621\">1.5</text>\n",
       "</g>\n",
       "<g clip-path=\"url(#clip9400)\">\n",
       "<text style=\"fill:#000000; fill-opacity:1; font-family:Arial,Helvetica Neue,Helvetica,sans-serif; font-size:12; text-anchor:end;\" transform=\"rotate(0, 35.1651, 279.321)\" x=\"35.1651\" y=\"279.321\">0.0</text>\n",
       "</g>\n",
       "<g clip-path=\"url(#clip9400)\">\n",
       "<text style=\"fill:#000000; fill-opacity:1; font-family:Arial,Helvetica Neue,Helvetica,sans-serif; font-size:12; text-anchor:end;\" transform=\"rotate(0, 35.1651, 218.395)\" x=\"35.1651\" y=\"218.395\">2.5</text>\n",
       "</g>\n",
       "<g clip-path=\"url(#clip9400)\">\n",
       "<text style=\"fill:#000000; fill-opacity:1; font-family:Arial,Helvetica Neue,Helvetica,sans-serif; font-size:12; text-anchor:end;\" transform=\"rotate(0, 35.1651, 157.469)\" x=\"35.1651\" y=\"157.469\">5.0</text>\n",
       "</g>\n",
       "<g clip-path=\"url(#clip9400)\">\n",
       "<text style=\"fill:#000000; fill-opacity:1; font-family:Arial,Helvetica Neue,Helvetica,sans-serif; font-size:12; text-anchor:end;\" transform=\"rotate(0, 35.1651, 96.5424)\" x=\"35.1651\" y=\"96.5424\">7.5</text>\n",
       "</g>\n",
       "<g clip-path=\"url(#clip9400)\">\n",
       "<text style=\"fill:#000000; fill-opacity:1; font-family:Arial,Helvetica Neue,Helvetica,sans-serif; font-size:12; text-anchor:end;\" transform=\"rotate(0, 35.1651, 35.6163)\" x=\"35.1651\" y=\"35.6163\">10.0</text>\n",
       "</g>\n",
       "<polygon clip-path=\"url(#clip9402)\" points=\"\n",
       "39.1651,186.245 40.0027,186.367 40.8403,186.59 41.6779,186.911 49.4228,193.759 57.1677,203.437 61.0401,207.143 64.9126,209.104 68.785,208.935 72.6575,206.628 \n",
       "  77.3119,201.577 81.9662,195.215 86.6206,189.095 91.2749,184.704 95.2101,183.129 99.1453,183.783 103.081,186.489 107.016,190.69 111.29,195.972 115.565,200.804 \n",
       "  119.84,204.054 124.115,204.927 128.056,203.371 131.997,199.755 135.937,194.663 139.878,188.951 144.103,183.233 148.329,179.003 152.554,177.033 156.779,177.612 \n",
       "  166.569,186.447 176.359,195.67 178.535,196.433 180.71,196.524 182.885,195.912 185.06,194.607 189.41,190.144 193.761,183.92 197.575,177.931 201.39,172.361 \n",
       "  205.205,168.007 209.02,165.446 213.179,164.992 217.338,166.817 221.497,170.283 225.656,174.406 229.84,178.068 234.024,180.179 238.208,179.977 242.392,177.164 \n",
       "  251.643,163.524 260.895,148.021 265.296,143.24 269.697,141.08 274.099,141.469 278.5,143.718 283.076,146.797 287.653,149.141 289.941,149.596 292.229,149.385 \n",
       "  294.517,148.415 296.806,146.639 300.658,141.845 304.51,135.078 308.362,126.956 312.215,118.311 316.918,108.343 321.621,100.331 326.324,95.103 331.028,92.6883 \n",
       "  335.449,92.2958 339.87,92.5569 344.291,92.1065 348.712,89.6748 352.254,85.6839 355.796,79.6556 359.337,71.6741 362.879,62.0812 369.962,40.3705 377.045,19.7472 \n",
       "  378.135,16.9644 379.225,14.3171 380.315,11.811 380.315,274.821 379.225,274.821 378.135,274.821 377.045,274.821 369.962,274.821 362.879,274.821 359.337,274.821 \n",
       "  355.796,274.821 352.254,274.821 348.712,274.821 344.291,274.821 339.87,274.821 335.449,274.821 331.028,274.821 326.324,274.821 321.621,274.821 316.918,274.821 \n",
       "  312.215,274.821 308.362,274.821 304.51,274.821 300.658,274.821 296.806,274.821 294.517,274.821 292.229,274.821 289.941,274.821 287.653,274.821 283.076,274.821 \n",
       "  278.5,274.821 274.099,274.821 269.697,274.821 265.296,274.821 260.895,274.821 251.643,274.821 242.392,274.821 238.208,274.821 234.024,274.821 229.84,274.821 \n",
       "  225.656,274.821 221.497,274.821 217.338,274.821 213.179,274.821 209.02,274.821 205.205,274.821 201.39,274.821 197.575,274.821 193.761,274.821 189.41,274.821 \n",
       "  185.06,274.821 182.885,274.821 180.71,274.821 178.535,274.821 176.359,274.821 166.569,274.821 156.779,274.821 152.554,274.821 148.329,274.821 144.103,274.821 \n",
       "  139.878,274.821 135.937,274.821 131.997,274.821 128.056,274.821 124.115,274.821 119.84,274.821 115.565,274.821 111.29,274.821 107.016,274.821 103.081,274.821 \n",
       "  99.1453,274.821 95.2101,274.821 91.2749,274.821 86.6206,274.821 81.9662,274.821 77.3119,274.821 72.6575,274.821 68.785,274.821 64.9126,274.821 61.0401,274.821 \n",
       "  57.1677,274.821 49.4228,274.821 41.6779,274.821 40.8403,274.821 40.0027,274.821 39.1651,274.821 \n",
       "  \" fill=\"#ff0000\" fill-opacity=\"0.5\"/>\n",
       "<polyline clip-path=\"url(#clip9402)\" style=\"stroke:#ff0000; stroke-width:1; stroke-opacity:1; fill:none\" points=\"\n",
       "  39.1651,186.245 40.0027,186.367 40.8403,186.59 41.6779,186.911 49.4228,193.759 57.1677,203.437 61.0401,207.143 64.9126,209.104 68.785,208.935 72.6575,206.628 \n",
       "  77.3119,201.577 81.9662,195.215 86.6206,189.095 91.2749,184.704 95.2101,183.129 99.1453,183.783 103.081,186.489 107.016,190.69 111.29,195.972 115.565,200.804 \n",
       "  119.84,204.054 124.115,204.927 128.056,203.371 131.997,199.755 135.937,194.663 139.878,188.951 144.103,183.233 148.329,179.003 152.554,177.033 156.779,177.612 \n",
       "  166.569,186.447 176.359,195.67 178.535,196.433 180.71,196.524 182.885,195.912 185.06,194.607 189.41,190.144 193.761,183.92 197.575,177.931 201.39,172.361 \n",
       "  205.205,168.007 209.02,165.446 213.179,164.992 217.338,166.817 221.497,170.283 225.656,174.406 229.84,178.068 234.024,180.179 238.208,179.977 242.392,177.164 \n",
       "  251.643,163.524 260.895,148.021 265.296,143.24 269.697,141.08 274.099,141.469 278.5,143.718 283.076,146.797 287.653,149.141 289.941,149.596 292.229,149.385 \n",
       "  294.517,148.415 296.806,146.639 300.658,141.845 304.51,135.078 308.362,126.956 312.215,118.311 316.918,108.343 321.621,100.331 326.324,95.103 331.028,92.6883 \n",
       "  335.449,92.2958 339.87,92.5569 344.291,92.1065 348.712,89.6748 352.254,85.6839 355.796,79.6556 359.337,71.6741 362.879,62.0812 369.962,40.3705 377.045,19.7472 \n",
       "  378.135,16.9644 379.225,14.3171 380.315,11.811 \n",
       "  \"/>\n",
       "<polygon clip-path=\"url(#clip9402)\" points=\"\n",
       "41.6779,187.104 72.6575,192.785 91.2749,194.086 107.016,193.95 124.115,192.517 139.878,190.01 156.779,186.061 176.359,179.85 193.761,172.859 209.02,165.588 \n",
       "  225.656,156.447 242.392,145.974 260.895,132.904 278.5,119.013 296.806,103.066 312.215,88.4531 331.028,69.14 348.712,49.5086 377.045,15.0749 377.045,274.821 \n",
       "  348.712,274.821 331.028,274.821 312.215,274.821 296.806,274.821 278.5,274.821 260.895,274.821 242.392,274.821 225.656,274.821 209.02,274.821 193.761,274.821 \n",
       "  176.359,274.821 156.779,274.821 139.878,274.821 124.115,274.821 107.016,274.821 91.2749,274.821 72.6575,274.821 41.6779,274.821 \n",
       "  \" fill=\"#0000ff\" fill-opacity=\"0.5\"/>\n",
       "<polyline clip-path=\"url(#clip9402)\" style=\"stroke:#0000ff; stroke-width:1; stroke-opacity:1; fill:none\" points=\"\n",
       "  41.6779,187.104 72.6575,192.785 91.2749,194.086 107.016,193.95 124.115,192.517 139.878,190.01 156.779,186.061 176.359,179.85 193.761,172.859 209.02,165.588 \n",
       "  225.656,156.447 242.392,145.974 260.895,132.904 278.5,119.013 296.806,103.066 312.215,88.4531 331.028,69.14 348.712,49.5086 377.045,15.0749 \n",
       "  \"/>\n",
       "</svg>\n"
      ]
     },
     "execution_count": 49,
     "metadata": {},
     "output_type": "execute_result"
    }
   ],
   "source": [
    "f(x) = exp(x) + cos(3π*x) * 0.5 + 3\n",
    "a, b = -2, 2\n",
    "c = (a+b)/2\n",
    "interp(x) = f(a) + (x - a) * (f(c) - f(a)) / (c - a) + (x - a) * (x - c) * (f(b) - 2*f(c) + f(a)) / (2 * (c - a)^2)\n",
    "plot(f, a, b, c=:red, fill=(0,:red,0.5), leg=false)\n",
    "plot!(interp, a, b, c=:blue, fill=(0,:blue,0.5))"
   ]
  },
  {
   "cell_type": "code",
   "execution_count": 54,
   "metadata": {},
   "outputs": [
    {
     "data": {
      "text/plain": [
       "1.7544000000000002"
      ]
     },
     "execution_count": 54,
     "metadata": {},
     "output_type": "execute_result"
    }
   ],
   "source": [
    "10.32* 0.17"
   ]
  },
  {
   "cell_type": "code",
   "execution_count": 55,
   "metadata": {},
   "outputs": [
    {
     "data": {
      "text/plain": [
       "1.7188611518765928"
      ]
     },
     "execution_count": 55,
     "metadata": {},
     "output_type": "execute_result"
    }
   ],
   "source": [
    "0.5 * (1 + 4 * exp(0.5) + exp(1)) / 3"
   ]
  },
  {
   "cell_type": "code",
   "execution_count": 51,
   "metadata": {},
   "outputs": [
    {
     "data": {
      "text/plain": [
       "0.16666666666666666"
      ]
     },
     "execution_count": 51,
     "metadata": {},
     "output_type": "execute_result"
    }
   ],
   "source": [
    "0.5 / 3"
   ]
  },
  {
   "cell_type": "code",
   "execution_count": 56,
   "metadata": {},
   "outputs": [
    {
     "data": {
      "text/plain": [
       "simpson (generic function with 1 method)"
      ]
     },
     "execution_count": 56,
     "metadata": {},
     "output_type": "execute_result"
    }
   ],
   "source": [
    "function simpson(f, a, b)\n",
    "    h = (b - a) / 2\n",
    "    return h * (f(a) + 4 * f(a + h) + f(b)) / 3\n",
    "end"
   ]
  },
  {
   "cell_type": "code",
   "execution_count": 59,
   "metadata": {},
   "outputs": [
    {
     "data": {
      "text/plain": [
       "aberta3pontos (generic function with 1 method)"
      ]
     },
     "execution_count": 59,
     "metadata": {},
     "output_type": "execute_result"
    }
   ],
   "source": [
    "function aberta3pontos(f, a, b)\n",
    "    h = (b - a) / 4\n",
    "    return 4h * (2 * f(a + h) + 2 * f(b - h) - f(a + 2h)) / 3\n",
    "end"
   ]
  },
  {
   "cell_type": "code",
   "execution_count": 60,
   "metadata": {},
   "outputs": [
    {
     "data": {
      "image/svg+xml": [
       "<?xml version=\"1.0\" encoding=\"utf-8\"?>\n",
       "<svg xmlns=\"http://www.w3.org/2000/svg\" xmlns:xlink=\"http://www.w3.org/1999/xlink\" width=\"400\" height=\"300\" viewBox=\"0 0 400 300\">\n",
       "<defs>\n",
       "  <clipPath id=\"clip9800\">\n",
       "    <rect x=\"0\" y=\"0\" width=\"400\" height=\"300\"/>\n",
       "  </clipPath>\n",
       "</defs>\n",
       "<polygon clip-path=\"url(#clip9800)\" points=\"\n",
       "0,300 400,300 400,0 0,0 \n",
       "  \" fill=\"#ffffff\" fill-opacity=\"1\"/>\n",
       "<defs>\n",
       "  <clipPath id=\"clip9801\">\n",
       "    <rect x=\"80\" y=\"0\" width=\"281\" height=\"281\"/>\n",
       "  </clipPath>\n",
       "</defs>\n",
       "<polygon clip-path=\"url(#clip9800)\" points=\"\n",
       "55.1816,274.821 380.315,274.821 380.315,11.811 55.1816,11.811 \n",
       "  \" fill=\"#ffffff\" fill-opacity=\"1\"/>\n",
       "<defs>\n",
       "  <clipPath id=\"clip9802\">\n",
       "    <rect x=\"55\" y=\"11\" width=\"326\" height=\"264\"/>\n",
       "  </clipPath>\n",
       "</defs>\n",
       "<polyline clip-path=\"url(#clip9802)\" style=\"stroke:#000000; stroke-width:0.5; stroke-opacity:0.1; fill:none\" points=\"\n",
       "  55.1816,274.821 55.1816,11.811 \n",
       "  \"/>\n",
       "<polyline clip-path=\"url(#clip9802)\" style=\"stroke:#000000; stroke-width:0.5; stroke-opacity:0.1; fill:none\" points=\"\n",
       "  109.37,274.821 109.37,11.811 \n",
       "  \"/>\n",
       "<polyline clip-path=\"url(#clip9802)\" style=\"stroke:#000000; stroke-width:0.5; stroke-opacity:0.1; fill:none\" points=\"\n",
       "  163.559,274.821 163.559,11.811 \n",
       "  \"/>\n",
       "<polyline clip-path=\"url(#clip9802)\" style=\"stroke:#000000; stroke-width:0.5; stroke-opacity:0.1; fill:none\" points=\"\n",
       "  217.748,274.821 217.748,11.811 \n",
       "  \"/>\n",
       "<polyline clip-path=\"url(#clip9802)\" style=\"stroke:#000000; stroke-width:0.5; stroke-opacity:0.1; fill:none\" points=\"\n",
       "  271.937,274.821 271.937,11.811 \n",
       "  \"/>\n",
       "<polyline clip-path=\"url(#clip9802)\" style=\"stroke:#000000; stroke-width:0.5; stroke-opacity:0.1; fill:none\" points=\"\n",
       "  326.126,274.821 326.126,11.811 \n",
       "  \"/>\n",
       "<polyline clip-path=\"url(#clip9802)\" style=\"stroke:#000000; stroke-width:0.5; stroke-opacity:0.1; fill:none\" points=\"\n",
       "  380.315,274.821 380.315,11.811 \n",
       "  \"/>\n",
       "<polyline clip-path=\"url(#clip9802)\" style=\"stroke:#000000; stroke-width:0.5; stroke-opacity:0.1; fill:none\" points=\"\n",
       "  55.1816,248.091 380.315,248.091 \n",
       "  \"/>\n",
       "<polyline clip-path=\"url(#clip9802)\" style=\"stroke:#000000; stroke-width:0.5; stroke-opacity:0.1; fill:none\" points=\"\n",
       "  55.1816,193.748 380.315,193.748 \n",
       "  \"/>\n",
       "<polyline clip-path=\"url(#clip9802)\" style=\"stroke:#000000; stroke-width:0.5; stroke-opacity:0.1; fill:none\" points=\"\n",
       "  55.1816,139.405 380.315,139.405 \n",
       "  \"/>\n",
       "<polyline clip-path=\"url(#clip9802)\" style=\"stroke:#000000; stroke-width:0.5; stroke-opacity:0.1; fill:none\" points=\"\n",
       "  55.1816,85.0628 380.315,85.0628 \n",
       "  \"/>\n",
       "<polyline clip-path=\"url(#clip9802)\" style=\"stroke:#000000; stroke-width:0.5; stroke-opacity:0.1; fill:none\" points=\"\n",
       "  55.1816,30.7202 380.315,30.7202 \n",
       "  \"/>\n",
       "<polyline clip-path=\"url(#clip9800)\" style=\"stroke:#000000; stroke-width:1; stroke-opacity:1; fill:none\" points=\"\n",
       "  55.1816,274.821 380.315,274.821 \n",
       "  \"/>\n",
       "<polyline clip-path=\"url(#clip9800)\" style=\"stroke:#000000; stroke-width:1; stroke-opacity:1; fill:none\" points=\"\n",
       "  55.1816,274.821 55.1816,11.811 \n",
       "  \"/>\n",
       "<polyline clip-path=\"url(#clip9800)\" style=\"stroke:#000000; stroke-width:1; stroke-opacity:1; fill:none\" points=\"\n",
       "  55.1816,274.821 55.1816,270.876 \n",
       "  \"/>\n",
       "<polyline clip-path=\"url(#clip9800)\" style=\"stroke:#000000; stroke-width:1; stroke-opacity:1; fill:none\" points=\"\n",
       "  109.37,274.821 109.37,270.876 \n",
       "  \"/>\n",
       "<polyline clip-path=\"url(#clip9800)\" style=\"stroke:#000000; stroke-width:1; stroke-opacity:1; fill:none\" points=\"\n",
       "  163.559,274.821 163.559,270.876 \n",
       "  \"/>\n",
       "<polyline clip-path=\"url(#clip9800)\" style=\"stroke:#000000; stroke-width:1; stroke-opacity:1; fill:none\" points=\"\n",
       "  217.748,274.821 217.748,270.876 \n",
       "  \"/>\n",
       "<polyline clip-path=\"url(#clip9800)\" style=\"stroke:#000000; stroke-width:1; stroke-opacity:1; fill:none\" points=\"\n",
       "  271.937,274.821 271.937,270.876 \n",
       "  \"/>\n",
       "<polyline clip-path=\"url(#clip9800)\" style=\"stroke:#000000; stroke-width:1; stroke-opacity:1; fill:none\" points=\"\n",
       "  326.126,274.821 326.126,270.876 \n",
       "  \"/>\n",
       "<polyline clip-path=\"url(#clip9800)\" style=\"stroke:#000000; stroke-width:1; stroke-opacity:1; fill:none\" points=\"\n",
       "  380.315,274.821 380.315,270.876 \n",
       "  \"/>\n",
       "<polyline clip-path=\"url(#clip9800)\" style=\"stroke:#000000; stroke-width:1; stroke-opacity:1; fill:none\" points=\"\n",
       "  55.1816,248.091 60.0586,248.091 \n",
       "  \"/>\n",
       "<polyline clip-path=\"url(#clip9800)\" style=\"stroke:#000000; stroke-width:1; stroke-opacity:1; fill:none\" points=\"\n",
       "  55.1816,193.748 60.0586,193.748 \n",
       "  \"/>\n",
       "<polyline clip-path=\"url(#clip9800)\" style=\"stroke:#000000; stroke-width:1; stroke-opacity:1; fill:none\" points=\"\n",
       "  55.1816,139.405 60.0586,139.405 \n",
       "  \"/>\n",
       "<polyline clip-path=\"url(#clip9800)\" style=\"stroke:#000000; stroke-width:1; stroke-opacity:1; fill:none\" points=\"\n",
       "  55.1816,85.0628 60.0586,85.0628 \n",
       "  \"/>\n",
       "<polyline clip-path=\"url(#clip9800)\" style=\"stroke:#000000; stroke-width:1; stroke-opacity:1; fill:none\" points=\"\n",
       "  55.1816,30.7202 60.0586,30.7202 \n",
       "  \"/>\n",
       "<g clip-path=\"url(#clip9800)\">\n",
       "<text style=\"fill:#000000; fill-opacity:1; font-family:Arial,Helvetica Neue,Helvetica,sans-serif; font-size:12; text-anchor:start;\" transform=\"rotate(0, 41.559, 292.573)\" x=\"41.559\" y=\"292.573\">10</text>\n",
       "</g>\n",
       "<g clip-path=\"url(#clip9800)\">\n",
       "<text style=\"fill:#000000; fill-opacity:1; font-family:Arial,Helvetica Neue,Helvetica,sans-serif; font-size:10; text-anchor:start;\" transform=\"rotate(0, 54.9401, 285.72)\" x=\"54.9401\" y=\"285.72\">-</text>\n",
       "</g>\n",
       "<g clip-path=\"url(#clip9800)\">\n",
       "<text style=\"fill:#000000; fill-opacity:1; font-family:Arial,Helvetica Neue,Helvetica,sans-serif; font-size:10; text-anchor:start;\" transform=\"rotate(0, 60.65, 285.72)\" x=\"60.65\" y=\"285.72\">6 </text>\n",
       "</g>\n",
       "<g clip-path=\"url(#clip9800)\">\n",
       "<text style=\"fill:#000000; fill-opacity:1; font-family:Arial,Helvetica Neue,Helvetica,sans-serif; font-size:12; text-anchor:start;\" transform=\"rotate(0, 95.7479, 292.573)\" x=\"95.7479\" y=\"292.573\">10</text>\n",
       "</g>\n",
       "<g clip-path=\"url(#clip9800)\">\n",
       "<text style=\"fill:#000000; fill-opacity:1; font-family:Arial,Helvetica Neue,Helvetica,sans-serif; font-size:10; text-anchor:start;\" transform=\"rotate(0, 109.129, 285.72)\" x=\"109.129\" y=\"285.72\">-</text>\n",
       "</g>\n",
       "<g clip-path=\"url(#clip9800)\">\n",
       "<text style=\"fill:#000000; fill-opacity:1; font-family:Arial,Helvetica Neue,Helvetica,sans-serif; font-size:10; text-anchor:start;\" transform=\"rotate(0, 114.839, 285.72)\" x=\"114.839\" y=\"285.72\">5 </text>\n",
       "</g>\n",
       "<g clip-path=\"url(#clip9800)\">\n",
       "<text style=\"fill:#000000; fill-opacity:1; font-family:Arial,Helvetica Neue,Helvetica,sans-serif; font-size:12; text-anchor:start;\" transform=\"rotate(0, 149.937, 292.573)\" x=\"149.937\" y=\"292.573\">10</text>\n",
       "</g>\n",
       "<g clip-path=\"url(#clip9800)\">\n",
       "<text style=\"fill:#000000; fill-opacity:1; font-family:Arial,Helvetica Neue,Helvetica,sans-serif; font-size:10; text-anchor:start;\" transform=\"rotate(0, 163.318, 285.72)\" x=\"163.318\" y=\"285.72\">-</text>\n",
       "</g>\n",
       "<g clip-path=\"url(#clip9800)\">\n",
       "<text style=\"fill:#000000; fill-opacity:1; font-family:Arial,Helvetica Neue,Helvetica,sans-serif; font-size:10; text-anchor:start;\" transform=\"rotate(0, 169.028, 285.72)\" x=\"169.028\" y=\"285.72\">4 </text>\n",
       "</g>\n",
       "<g clip-path=\"url(#clip9800)\">\n",
       "<text style=\"fill:#000000; fill-opacity:1; font-family:Arial,Helvetica Neue,Helvetica,sans-serif; font-size:12; text-anchor:start;\" transform=\"rotate(0, 204.126, 292.573)\" x=\"204.126\" y=\"292.573\">10</text>\n",
       "</g>\n",
       "<g clip-path=\"url(#clip9800)\">\n",
       "<text style=\"fill:#000000; fill-opacity:1; font-family:Arial,Helvetica Neue,Helvetica,sans-serif; font-size:10; text-anchor:start;\" transform=\"rotate(0, 217.507, 285.72)\" x=\"217.507\" y=\"285.72\">-</text>\n",
       "</g>\n",
       "<g clip-path=\"url(#clip9800)\">\n",
       "<text style=\"fill:#000000; fill-opacity:1; font-family:Arial,Helvetica Neue,Helvetica,sans-serif; font-size:10; text-anchor:start;\" transform=\"rotate(0, 223.217, 285.72)\" x=\"223.217\" y=\"285.72\">3 </text>\n",
       "</g>\n",
       "<g clip-path=\"url(#clip9800)\">\n",
       "<text style=\"fill:#000000; fill-opacity:1; font-family:Arial,Helvetica Neue,Helvetica,sans-serif; font-size:12; text-anchor:start;\" transform=\"rotate(0, 258.315, 292.573)\" x=\"258.315\" y=\"292.573\">10</text>\n",
       "</g>\n",
       "<g clip-path=\"url(#clip9800)\">\n",
       "<text style=\"fill:#000000; fill-opacity:1; font-family:Arial,Helvetica Neue,Helvetica,sans-serif; font-size:10; text-anchor:start;\" transform=\"rotate(0, 271.696, 285.72)\" x=\"271.696\" y=\"285.72\">-</text>\n",
       "</g>\n",
       "<g clip-path=\"url(#clip9800)\">\n",
       "<text style=\"fill:#000000; fill-opacity:1; font-family:Arial,Helvetica Neue,Helvetica,sans-serif; font-size:10; text-anchor:start;\" transform=\"rotate(0, 277.406, 285.72)\" x=\"277.406\" y=\"285.72\">2 </text>\n",
       "</g>\n",
       "<g clip-path=\"url(#clip9800)\">\n",
       "<text style=\"fill:#000000; fill-opacity:1; font-family:Arial,Helvetica Neue,Helvetica,sans-serif; font-size:12; text-anchor:start;\" transform=\"rotate(0, 312.503, 292.573)\" x=\"312.503\" y=\"292.573\">10</text>\n",
       "</g>\n",
       "<g clip-path=\"url(#clip9800)\">\n",
       "<text style=\"fill:#000000; fill-opacity:1; font-family:Arial,Helvetica Neue,Helvetica,sans-serif; font-size:10; text-anchor:start;\" transform=\"rotate(0, 325.885, 285.72)\" x=\"325.885\" y=\"285.72\">-</text>\n",
       "</g>\n",
       "<g clip-path=\"url(#clip9800)\">\n",
       "<text style=\"fill:#000000; fill-opacity:1; font-family:Arial,Helvetica Neue,Helvetica,sans-serif; font-size:10; text-anchor:start;\" transform=\"rotate(0, 331.595, 285.72)\" x=\"331.595\" y=\"285.72\">1 </text>\n",
       "</g>\n",
       "<g clip-path=\"url(#clip9800)\">\n",
       "<text style=\"fill:#000000; fill-opacity:1; font-family:Arial,Helvetica Neue,Helvetica,sans-serif; font-size:12; text-anchor:start;\" transform=\"rotate(0, 369.547, 292.573)\" x=\"369.547\" y=\"292.573\">10</text>\n",
       "</g>\n",
       "<g clip-path=\"url(#clip9800)\">\n",
       "<text style=\"fill:#000000; fill-opacity:1; font-family:Arial,Helvetica Neue,Helvetica,sans-serif; font-size:10; text-anchor:start;\" transform=\"rotate(0, 382.928, 285.72)\" x=\"382.928\" y=\"285.72\">0 </text>\n",
       "</g>\n",
       "<g clip-path=\"url(#clip9800)\">\n",
       "<text style=\"fill:#000000; fill-opacity:1; font-family:Arial,Helvetica Neue,Helvetica,sans-serif; font-size:12; text-anchor:start;\" transform=\"rotate(0, 18.5003, 254.023)\" x=\"18.5003\" y=\"254.023\">10</text>\n",
       "</g>\n",
       "<g clip-path=\"url(#clip9800)\">\n",
       "<text style=\"fill:#000000; fill-opacity:1; font-family:Arial,Helvetica Neue,Helvetica,sans-serif; font-size:10; text-anchor:start;\" transform=\"rotate(0, 31.8815, 247.17)\" x=\"31.8815\" y=\"247.17\">-</text>\n",
       "</g>\n",
       "<g clip-path=\"url(#clip9800)\">\n",
       "<text style=\"fill:#000000; fill-opacity:1; font-family:Arial,Helvetica Neue,Helvetica,sans-serif; font-size:10; text-anchor:start;\" transform=\"rotate(0, 37.5913, 247.17)\" x=\"37.5913\" y=\"247.17\">25 </text>\n",
       "</g>\n",
       "<g clip-path=\"url(#clip9800)\">\n",
       "<text style=\"fill:#000000; fill-opacity:1; font-family:Arial,Helvetica Neue,Helvetica,sans-serif; font-size:12; text-anchor:start;\" transform=\"rotate(0, 18.5003, 199.68)\" x=\"18.5003\" y=\"199.68\">10</text>\n",
       "</g>\n",
       "<g clip-path=\"url(#clip9800)\">\n",
       "<text style=\"fill:#000000; fill-opacity:1; font-family:Arial,Helvetica Neue,Helvetica,sans-serif; font-size:10; text-anchor:start;\" transform=\"rotate(0, 31.8815, 192.827)\" x=\"31.8815\" y=\"192.827\">-</text>\n",
       "</g>\n",
       "<g clip-path=\"url(#clip9800)\">\n",
       "<text style=\"fill:#000000; fill-opacity:1; font-family:Arial,Helvetica Neue,Helvetica,sans-serif; font-size:10; text-anchor:start;\" transform=\"rotate(0, 37.5913, 192.827)\" x=\"37.5913\" y=\"192.827\">20 </text>\n",
       "</g>\n",
       "<g clip-path=\"url(#clip9800)\">\n",
       "<text style=\"fill:#000000; fill-opacity:1; font-family:Arial,Helvetica Neue,Helvetica,sans-serif; font-size:12; text-anchor:start;\" transform=\"rotate(0, 18.5003, 145.337)\" x=\"18.5003\" y=\"145.337\">10</text>\n",
       "</g>\n",
       "<g clip-path=\"url(#clip9800)\">\n",
       "<text style=\"fill:#000000; fill-opacity:1; font-family:Arial,Helvetica Neue,Helvetica,sans-serif; font-size:10; text-anchor:start;\" transform=\"rotate(0, 31.8815, 138.485)\" x=\"31.8815\" y=\"138.485\">-</text>\n",
       "</g>\n",
       "<g clip-path=\"url(#clip9800)\">\n",
       "<text style=\"fill:#000000; fill-opacity:1; font-family:Arial,Helvetica Neue,Helvetica,sans-serif; font-size:10; text-anchor:start;\" transform=\"rotate(0, 37.5913, 138.485)\" x=\"37.5913\" y=\"138.485\">15 </text>\n",
       "</g>\n",
       "<g clip-path=\"url(#clip9800)\">\n",
       "<text style=\"fill:#000000; fill-opacity:1; font-family:Arial,Helvetica Neue,Helvetica,sans-serif; font-size:12; text-anchor:start;\" transform=\"rotate(0, 18.5003, 90.9947)\" x=\"18.5003\" y=\"90.9947\">10</text>\n",
       "</g>\n",
       "<g clip-path=\"url(#clip9800)\">\n",
       "<text style=\"fill:#000000; fill-opacity:1; font-family:Arial,Helvetica Neue,Helvetica,sans-serif; font-size:10; text-anchor:start;\" transform=\"rotate(0, 31.8815, 84.1421)\" x=\"31.8815\" y=\"84.1421\">-</text>\n",
       "</g>\n",
       "<g clip-path=\"url(#clip9800)\">\n",
       "<text style=\"fill:#000000; fill-opacity:1; font-family:Arial,Helvetica Neue,Helvetica,sans-serif; font-size:10; text-anchor:start;\" transform=\"rotate(0, 37.5913, 84.1421)\" x=\"37.5913\" y=\"84.1421\">10 </text>\n",
       "</g>\n",
       "<g clip-path=\"url(#clip9800)\">\n",
       "<text style=\"fill:#000000; fill-opacity:1; font-family:Arial,Helvetica Neue,Helvetica,sans-serif; font-size:12; text-anchor:start;\" transform=\"rotate(0, 23.9364, 36.6521)\" x=\"23.9364\" y=\"36.6521\">10</text>\n",
       "</g>\n",
       "<g clip-path=\"url(#clip9800)\">\n",
       "<text style=\"fill:#000000; fill-opacity:1; font-family:Arial,Helvetica Neue,Helvetica,sans-serif; font-size:10; text-anchor:start;\" transform=\"rotate(0, 37.3176, 29.7995)\" x=\"37.3176\" y=\"29.7995\">-</text>\n",
       "</g>\n",
       "<g clip-path=\"url(#clip9800)\">\n",
       "<text style=\"fill:#000000; fill-opacity:1; font-family:Arial,Helvetica Neue,Helvetica,sans-serif; font-size:10; text-anchor:start;\" transform=\"rotate(0, 43.0274, 29.7995)\" x=\"43.0274\" y=\"29.7995\">5 </text>\n",
       "</g>\n",
       "<circle clip-path=\"url(#clip9802)\" style=\"fill:#000000; stroke:none; fill-opacity:1\" cx=\"380.315\" cy=\"14.1149\" r=\"4\"/>\n",
       "<circle clip-path=\"url(#clip9802)\" style=\"fill:#0000ff; stroke:none; fill-opacity:1\" cx=\"380.315\" cy=\"14.1149\" r=\"3\"/>\n",
       "<circle clip-path=\"url(#clip9802)\" style=\"fill:#000000; stroke:none; fill-opacity:1\" cx=\"364.002\" cy=\"27.0981\" r=\"4\"/>\n",
       "<circle clip-path=\"url(#clip9802)\" style=\"fill:#0000ff; stroke:none; fill-opacity:1\" cx=\"364.002\" cy=\"27.0981\" r=\"3\"/>\n",
       "<circle clip-path=\"url(#clip9802)\" style=\"fill:#000000; stroke:none; fill-opacity:1\" cx=\"347.69\" cy=\"40.1588\" r=\"4\"/>\n",
       "<circle clip-path=\"url(#clip9802)\" style=\"fill:#0000ff; stroke:none; fill-opacity:1\" cx=\"347.69\" cy=\"40.1588\" r=\"3\"/>\n",
       "<circle clip-path=\"url(#clip9802)\" style=\"fill:#000000; stroke:none; fill-opacity:1\" cx=\"331.378\" cy=\"53.2393\" r=\"4\"/>\n",
       "<circle clip-path=\"url(#clip9802)\" style=\"fill:#0000ff; stroke:none; fill-opacity:1\" cx=\"331.378\" cy=\"53.2393\" r=\"3\"/>\n",
       "<circle clip-path=\"url(#clip9802)\" style=\"fill:#000000; stroke:none; fill-opacity:1\" cx=\"315.065\" cy=\"66.3246\" r=\"4\"/>\n",
       "<circle clip-path=\"url(#clip9802)\" style=\"fill:#0000ff; stroke:none; fill-opacity:1\" cx=\"315.065\" cy=\"66.3246\" r=\"3\"/>\n",
       "<circle clip-path=\"url(#clip9802)\" style=\"fill:#000000; stroke:none; fill-opacity:1\" cx=\"298.753\" cy=\"79.4113\" r=\"4\"/>\n",
       "<circle clip-path=\"url(#clip9802)\" style=\"fill:#0000ff; stroke:none; fill-opacity:1\" cx=\"298.753\" cy=\"79.4113\" r=\"3\"/>\n",
       "<circle clip-path=\"url(#clip9802)\" style=\"fill:#000000; stroke:none; fill-opacity:1\" cx=\"282.44\" cy=\"92.4979\" r=\"4\"/>\n",
       "<circle clip-path=\"url(#clip9802)\" style=\"fill:#0000ff; stroke:none; fill-opacity:1\" cx=\"282.44\" cy=\"92.4979\" r=\"3\"/>\n",
       "<circle clip-path=\"url(#clip9802)\" style=\"fill:#000000; stroke:none; fill-opacity:1\" cx=\"266.128\" cy=\"105.618\" r=\"4\"/>\n",
       "<circle clip-path=\"url(#clip9802)\" style=\"fill:#0000ff; stroke:none; fill-opacity:1\" cx=\"266.128\" cy=\"105.618\" r=\"3\"/>\n",
       "<circle clip-path=\"url(#clip9802)\" style=\"fill:#000000; stroke:none; fill-opacity:1\" cx=\"249.815\" cy=\"117.279\" r=\"4\"/>\n",
       "<circle clip-path=\"url(#clip9802)\" style=\"fill:#0000ff; stroke:none; fill-opacity:1\" cx=\"249.815\" cy=\"117.279\" r=\"3\"/>\n",
       "<circle clip-path=\"url(#clip9802)\" style=\"fill:#000000; stroke:none; fill-opacity:1\" cx=\"233.503\" cy=\"127.43\" r=\"4\"/>\n",
       "<circle clip-path=\"url(#clip9802)\" style=\"fill:#0000ff; stroke:none; fill-opacity:1\" cx=\"233.503\" cy=\"127.43\" r=\"3\"/>\n",
       "<circle clip-path=\"url(#clip9802)\" style=\"fill:#000000; stroke:none; fill-opacity:1\" cx=\"217.19\" cy=\"118.51\" r=\"4\"/>\n",
       "<circle clip-path=\"url(#clip9802)\" style=\"fill:#0000ff; stroke:none; fill-opacity:1\" cx=\"217.19\" cy=\"118.51\" r=\"3\"/>\n",
       "<circle clip-path=\"url(#clip9802)\" style=\"fill:#000000; stroke:none; fill-opacity:1\" cx=\"200.878\" cy=\"143.238\" r=\"4\"/>\n",
       "<circle clip-path=\"url(#clip9802)\" style=\"fill:#0000ff; stroke:none; fill-opacity:1\" cx=\"200.878\" cy=\"143.238\" r=\"3\"/>\n",
       "<circle clip-path=\"url(#clip9802)\" style=\"fill:#000000; stroke:none; fill-opacity:1\" cx=\"184.565\" cy=\"112.435\" r=\"4\"/>\n",
       "<circle clip-path=\"url(#clip9802)\" style=\"fill:#0000ff; stroke:none; fill-opacity:1\" cx=\"184.565\" cy=\"112.435\" r=\"3\"/>\n",
       "<circle clip-path=\"url(#clip9802)\" style=\"fill:#000000; stroke:none; fill-opacity:1\" cx=\"168.253\" cy=\"108.606\" r=\"4\"/>\n",
       "<circle clip-path=\"url(#clip9802)\" style=\"fill:#0000ff; stroke:none; fill-opacity:1\" cx=\"168.253\" cy=\"108.606\" r=\"3\"/>\n",
       "<circle clip-path=\"url(#clip9802)\" style=\"fill:#000000; stroke:none; fill-opacity:1\" cx=\"151.94\" cy=\"105.927\" r=\"4\"/>\n",
       "<circle clip-path=\"url(#clip9802)\" style=\"fill:#0000ff; stroke:none; fill-opacity:1\" cx=\"151.94\" cy=\"105.927\" r=\"3\"/>\n",
       "<circle clip-path=\"url(#clip9802)\" style=\"fill:#000000; stroke:none; fill-opacity:1\" cx=\"135.628\" cy=\"102.616\" r=\"4\"/>\n",
       "<circle clip-path=\"url(#clip9802)\" style=\"fill:#0000ff; stroke:none; fill-opacity:1\" cx=\"135.628\" cy=\"102.616\" r=\"3\"/>\n",
       "<circle clip-path=\"url(#clip9802)\" style=\"fill:#000000; stroke:none; fill-opacity:1\" cx=\"119.315\" cy=\"99.3464\" r=\"4\"/>\n",
       "<circle clip-path=\"url(#clip9802)\" style=\"fill:#0000ff; stroke:none; fill-opacity:1\" cx=\"119.315\" cy=\"99.3464\" r=\"3\"/>\n",
       "<circle clip-path=\"url(#clip9802)\" style=\"fill:#000000; stroke:none; fill-opacity:1\" cx=\"103.003\" cy=\"96.0745\" r=\"4\"/>\n",
       "<circle clip-path=\"url(#clip9802)\" style=\"fill:#0000ff; stroke:none; fill-opacity:1\" cx=\"103.003\" cy=\"96.0745\" r=\"3\"/>\n",
       "<circle clip-path=\"url(#clip9802)\" style=\"fill:#000000; stroke:none; fill-opacity:1\" cx=\"86.6903\" cy=\"102.618\" r=\"4\"/>\n",
       "<circle clip-path=\"url(#clip9802)\" style=\"fill:#0000ff; stroke:none; fill-opacity:1\" cx=\"86.6903\" cy=\"102.618\" r=\"3\"/>\n",
       "<circle clip-path=\"url(#clip9802)\" style=\"fill:#000000; stroke:none; fill-opacity:1\" cx=\"70.3778\" cy=\"109.161\" r=\"4\"/>\n",
       "<circle clip-path=\"url(#clip9802)\" style=\"fill:#0000ff; stroke:none; fill-opacity:1\" cx=\"70.3778\" cy=\"109.161\" r=\"3\"/>\n",
       "<circle clip-path=\"url(#clip9802)\" style=\"fill:#000000; stroke:none; fill-opacity:1\" cx=\"380.315\" cy=\"14.7603\" r=\"4\"/>\n",
       "<circle clip-path=\"url(#clip9802)\" style=\"fill:#ff0000; stroke:none; fill-opacity:1\" cx=\"380.315\" cy=\"14.7603\" r=\"3\"/>\n",
       "<circle clip-path=\"url(#clip9802)\" style=\"fill:#000000; stroke:none; fill-opacity:1\" cx=\"364.002\" cy=\"27.7321\" r=\"4\"/>\n",
       "<circle clip-path=\"url(#clip9802)\" style=\"fill:#ff0000; stroke:none; fill-opacity:1\" cx=\"364.002\" cy=\"27.7321\" r=\"3\"/>\n",
       "<circle clip-path=\"url(#clip9802)\" style=\"fill:#000000; stroke:none; fill-opacity:1\" cx=\"347.69\" cy=\"40.7901\" r=\"4\"/>\n",
       "<circle clip-path=\"url(#clip9802)\" style=\"fill:#ff0000; stroke:none; fill-opacity:1\" cx=\"347.69\" cy=\"40.7901\" r=\"3\"/>\n",
       "<circle clip-path=\"url(#clip9802)\" style=\"fill:#000000; stroke:none; fill-opacity:1\" cx=\"331.378\" cy=\"53.8698\" r=\"4\"/>\n",
       "<circle clip-path=\"url(#clip9802)\" style=\"fill:#ff0000; stroke:none; fill-opacity:1\" cx=\"331.378\" cy=\"53.8698\" r=\"3\"/>\n",
       "<circle clip-path=\"url(#clip9802)\" style=\"fill:#000000; stroke:none; fill-opacity:1\" cx=\"315.065\" cy=\"66.955\" r=\"4\"/>\n",
       "<circle clip-path=\"url(#clip9802)\" style=\"fill:#ff0000; stroke:none; fill-opacity:1\" cx=\"315.065\" cy=\"66.955\" r=\"3\"/>\n",
       "<circle clip-path=\"url(#clip9802)\" style=\"fill:#000000; stroke:none; fill-opacity:1\" cx=\"298.753\" cy=\"80.0415\" r=\"4\"/>\n",
       "<circle clip-path=\"url(#clip9802)\" style=\"fill:#ff0000; stroke:none; fill-opacity:1\" cx=\"298.753\" cy=\"80.0415\" r=\"3\"/>\n",
       "<circle clip-path=\"url(#clip9802)\" style=\"fill:#000000; stroke:none; fill-opacity:1\" cx=\"282.44\" cy=\"93.1288\" r=\"4\"/>\n",
       "<circle clip-path=\"url(#clip9802)\" style=\"fill:#ff0000; stroke:none; fill-opacity:1\" cx=\"282.44\" cy=\"93.1288\" r=\"3\"/>\n",
       "<circle clip-path=\"url(#clip9802)\" style=\"fill:#000000; stroke:none; fill-opacity:1\" cx=\"266.128\" cy=\"106.179\" r=\"4\"/>\n",
       "<circle clip-path=\"url(#clip9802)\" style=\"fill:#ff0000; stroke:none; fill-opacity:1\" cx=\"266.128\" cy=\"106.179\" r=\"3\"/>\n",
       "<circle clip-path=\"url(#clip9802)\" style=\"fill:#000000; stroke:none; fill-opacity:1\" cx=\"249.815\" cy=\"121.629\" r=\"4\"/>\n",
       "<circle clip-path=\"url(#clip9802)\" style=\"fill:#ff0000; stroke:none; fill-opacity:1\" cx=\"249.815\" cy=\"121.629\" r=\"3\"/>\n",
       "<circle clip-path=\"url(#clip9802)\" style=\"fill:#000000; stroke:none; fill-opacity:1\" cx=\"233.503\" cy=\"133.731\" r=\"4\"/>\n",
       "<circle clip-path=\"url(#clip9802)\" style=\"fill:#ff0000; stroke:none; fill-opacity:1\" cx=\"233.503\" cy=\"133.731\" r=\"3\"/>\n",
       "<circle clip-path=\"url(#clip9802)\" style=\"fill:#000000; stroke:none; fill-opacity:1\" cx=\"217.19\" cy=\"118.56\" r=\"4\"/>\n",
       "<circle clip-path=\"url(#clip9802)\" style=\"fill:#ff0000; stroke:none; fill-opacity:1\" cx=\"217.19\" cy=\"118.56\" r=\"3\"/>\n",
       "<circle clip-path=\"url(#clip9802)\" style=\"fill:#000000; stroke:none; fill-opacity:1\" cx=\"200.878\" cy=\"146.51\" r=\"4\"/>\n",
       "<circle clip-path=\"url(#clip9802)\" style=\"fill:#ff0000; stroke:none; fill-opacity:1\" cx=\"200.878\" cy=\"146.51\" r=\"3\"/>\n",
       "<circle clip-path=\"url(#clip9802)\" style=\"fill:#000000; stroke:none; fill-opacity:1\" cx=\"184.565\" cy=\"112.428\" r=\"4\"/>\n",
       "<circle clip-path=\"url(#clip9802)\" style=\"fill:#ff0000; stroke:none; fill-opacity:1\" cx=\"184.565\" cy=\"112.428\" r=\"3\"/>\n",
       "<circle clip-path=\"url(#clip9802)\" style=\"fill:#000000; stroke:none; fill-opacity:1\" cx=\"168.253\" cy=\"108.607\" r=\"4\"/>\n",
       "<circle clip-path=\"url(#clip9802)\" style=\"fill:#ff0000; stroke:none; fill-opacity:1\" cx=\"168.253\" cy=\"108.607\" r=\"3\"/>\n",
       "<circle clip-path=\"url(#clip9802)\" style=\"fill:#000000; stroke:none; fill-opacity:1\" cx=\"151.94\" cy=\"105.928\" r=\"4\"/>\n",
       "<circle clip-path=\"url(#clip9802)\" style=\"fill:#ff0000; stroke:none; fill-opacity:1\" cx=\"151.94\" cy=\"105.928\" r=\"3\"/>\n",
       "<circle clip-path=\"url(#clip9802)\" style=\"fill:#000000; stroke:none; fill-opacity:1\" cx=\"135.628\" cy=\"102.616\" r=\"4\"/>\n",
       "<circle clip-path=\"url(#clip9802)\" style=\"fill:#ff0000; stroke:none; fill-opacity:1\" cx=\"135.628\" cy=\"102.616\" r=\"3\"/>\n",
       "<circle clip-path=\"url(#clip9802)\" style=\"fill:#000000; stroke:none; fill-opacity:1\" cx=\"119.315\" cy=\"99.3464\" r=\"4\"/>\n",
       "<circle clip-path=\"url(#clip9802)\" style=\"fill:#ff0000; stroke:none; fill-opacity:1\" cx=\"119.315\" cy=\"99.3464\" r=\"3\"/>\n",
       "<circle clip-path=\"url(#clip9802)\" style=\"fill:#000000; stroke:none; fill-opacity:1\" cx=\"103.003\" cy=\"96.0745\" r=\"4\"/>\n",
       "<circle clip-path=\"url(#clip9802)\" style=\"fill:#ff0000; stroke:none; fill-opacity:1\" cx=\"103.003\" cy=\"96.0745\" r=\"3\"/>\n",
       "<circle clip-path=\"url(#clip9802)\" style=\"fill:#000000; stroke:none; fill-opacity:1\" cx=\"86.6903\" cy=\"102.618\" r=\"4\"/>\n",
       "<circle clip-path=\"url(#clip9802)\" style=\"fill:#ff0000; stroke:none; fill-opacity:1\" cx=\"86.6903\" cy=\"102.618\" r=\"3\"/>\n",
       "<circle clip-path=\"url(#clip9802)\" style=\"fill:#000000; stroke:none; fill-opacity:1\" cx=\"70.3778\" cy=\"109.161\" r=\"4\"/>\n",
       "<circle clip-path=\"url(#clip9802)\" style=\"fill:#ff0000; stroke:none; fill-opacity:1\" cx=\"70.3778\" cy=\"109.161\" r=\"3\"/>\n",
       "<polyline clip-path=\"url(#clip9802)\" style=\"stroke:#00a8cb; stroke-width:1; stroke-opacity:1; fill:none\" points=\"\n",
       "  380.315,11.811 55.1816,274.821 \n",
       "  \"/>\n",
       "</svg>\n"
      ]
     },
     "execution_count": 60,
     "metadata": {},
     "output_type": "execute_result"
    }
   ],
   "source": [
    "a = 0.0\n",
    "f(x) = exp(x)\n",
    "F(x) = exp(x)\n",
    "cores = [:blue, :red, :magenta]\n",
    "scatter(leg=false, xaxis=:log, yaxis=:log)\n",
    "for (i,mtd) in enumerate([simpson, aberta3pontos])\n",
    "    b = 1.0\n",
    "    while b > 1e-6\n",
    "        Ireal = F(b) - F(a)\n",
    "        Iapprox = mtd(f, a, b)\n",
    "        E = abs(Ireal - Iapprox) / Ireal\n",
    "        scatter!([b], [E], c=cores[i])\n",
    "        b /= 2.0\n",
    "    end\n",
    "end\n",
    "b = [1.0; 1e-6]\n",
    "plot!(b, b.^5 .* exp.(b) ./ (F.(b) - F(a)) / 2880)"
   ]
  },
  {
   "cell_type": "markdown",
   "metadata": {},
   "source": [
    "As fórmulas com 3 pontos, como esperávamos, são melhores que as de 2 ou 1 pontos. O erro também passou a ser proporcional a $f^{(4)}(\\xi)$, de modo que podemos calcular a integral exata de polinômios até grau 3."
   ]
  },
  {
   "cell_type": "code",
   "execution_count": 61,
   "metadata": {},
   "outputs": [
    {
     "data": {
      "text/plain": [
       "4.440892098500626e-16"
      ]
     },
     "execution_count": 61,
     "metadata": {},
     "output_type": "execute_result"
    }
   ],
   "source": [
    "f(x) = x^3 + x^2 + x + 1\n",
    "F(x) = x^4/4 + x^3/3 + x^2/2 + x\n",
    "a, b = 0, 1\n",
    "simpson(f, a, b) - (F(b) - F(a))"
   ]
  },
  {
   "cell_type": "markdown",
   "metadata": {},
   "source": [
    "No entanto, quando passamos para 4 pontos, não temos a mesma sorte. Assim como a transição do ponto-médio ao trapézio aberto, não temos melhoria na ordem de convergência da aproximação, nem para a fórmula fechada nem para a fórmula aberta. Esse fenômeno se repete, de modo que criar interpolações com cada vez mais pontos se torna tanto inviável quanto ineficaz."
   ]
  },
  {
   "cell_type": "markdown",
   "metadata": {},
   "source": [
    "## Composição de aproximações (ou repetição)\n",
    "\n"
   ]
  },
  {
   "cell_type": "markdown",
   "metadata": {},
   "source": [
    "A outra estratégia para melhorar a aproximação no cálculo da integral é quebrando o intervalo em pedaços menores e aproximando cada pedaço."
   ]
  },
  {
   "cell_type": "markdown",
   "metadata": {},
   "source": [
    "Em outras palavras, transformamos o intervalo em\n",
    "$a = x_1 < x_2 < \\dots < x_m = b$, com $x_{i+1} - x_i = h = \\frac{b-a}{m-1}$ no caso fechado e em\n",
    "$a = x_0 < x_1 < x_2 < \\dots < x_m < x_{m+1} = b$, com $x_{i+1} - x_i = h = \\frac{b-a}{m+1}$ no caso aberto."
   ]
  },
  {
   "cell_type": "markdown",
   "metadata": {},
   "source": [
    "Note que no caso aberto criamos dois pontos extras $x_0 = a$ e $x_{m+1} = b$, para deixar mais simples o entendimento."
   ]
  },
  {
   "cell_type": "markdown",
   "metadata": {},
   "source": [
    "Com os intervalos separados, utilizamos as fórmulas dos métodos \"encaixando\" os pontos da fórmula na discretização que fizemos."
   ]
  },
  {
   "cell_type": "markdown",
   "metadata": {},
   "source": [
    "O exemplo mais fácil de entender é o da regra do trapézio.\n",
    "Veja abaixo, onde quebramos o intervalo $[-2,2]$ em 4 intervalos (i.e., $m = 5$)."
   ]
  },
  {
   "cell_type": "code",
   "execution_count": 23,
   "metadata": {},
   "outputs": [
    {
     "data": {
      "text/html": [
       "<img src=\"data:image/png;base64,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\" />"
      ]
     },
     "execution_count": 23,
     "metadata": {},
     "output_type": "execute_result"
    }
   ],
   "source": [
    "f(x) = exp(x) + cos(3π*x) * 0.5 + 3\n",
    "a, b = -2, 2\n",
    "p = plot(f, a, b, c=:red, lw=2, fill=(0,:red,0.3), leg=false)\n",
    "m = 5\n",
    "h = (b - a) / (m - 1)\n",
    "\n",
    "for i = 1:m-1\n",
    "    xi = a + (i-1) * h\n",
    "    xip = xi + h\n",
    "    L(x) = f(xi) + (x-xi) * (f(xip) - f(xi)) / h    \n",
    "    plot!(p, L, xi, xip, c=:blue, fill=(0,:blue,0.4))\n",
    "    scatter!([xi; xip], [f(xi); f(xip)], c=:blue, ms=5)\n",
    "end\n",
    "xticks!(a:h:b, [\"x$i\" for i = 1:m])\n",
    "p"
   ]
  },
  {
   "cell_type": "markdown",
   "metadata": {},
   "source": [
    "Na teoria, temos agora"
   ]
  },
  {
   "cell_type": "markdown",
   "metadata": {},
   "source": [
    "\\begin{align}\n",
    "\\int_a^b f(x)\\mbox{d}x\n",
    "& = \\int_{x_1}^{x_4} f(x)\\mbox{d}x \\\\\n",
    "& = \\int_{x_1}^{x_2} f(x)\\mbox{d}x +\n",
    "\\int_{x_2}^{x_3} f(x)\\mbox{d}x +\n",
    "\\int_{x_3}^{x_4} f(x)\\mbox{d}x \\\\\n",
    "& = \\frac{x_2 - x_1}{2}[f(x_1) + f(x_2)]\n",
    "- \\frac{(x_2 - x_1)^3}{12}f''(\\xi_1) \\\\\n",
    "& + \\frac{x_3 - x_2}{2}[f(x_2) + f(x_3)]\n",
    "- \\frac{(x_3 - x_2)^3}{12}f''(\\xi_2) \\\\\n",
    "& + \\frac{x_4 - x_3}{2}[f(x_3) + f(x_4)]\n",
    "- \\frac{(x_4 - x_3)^3}{12}f''(\\xi_3) \\\\\n",
    "& = \\frac{h}{2}[f(x_1) + 2f(x_2) + 2f(x_3) + f(x_4)] - \\frac{h^3}{12}[f''(\\xi_1) + f''(\\xi_2) + f''(\\xi_3)],\n",
    "\\end{align}"
   ]
  },
  {
   "cell_type": "markdown",
   "metadata": {},
   "source": [
    "onde $\\xi_i$ está no intervalo $[x_i,x_{i+1}]$."
   ]
  },
  {
   "cell_type": "markdown",
   "metadata": {},
   "source": [
    "O erro dessa aproximação continua sendo apenas $h^3$, apesar de usarmos 4 pontos. Porém, a escolha do $h$ é arbitrário, de modo que podemos escolher um $h$ pequeno o suficiente para satisfazer nossas necessidades."
   ]
  },
  {
   "cell_type": "markdown",
   "metadata": {},
   "source": [
    "De uma maneira mais geral, temos\n",
    "$$ \\int_a^b f(x)\\mbox{d}x = \\frac{h}{2}[f(x_1) + 2\\sum_{i = 2}^{m-1}f(x_i) + f(x_m)] - \\frac{h^3}{12}\\sum_{i=1}^{m-1}f''(\\xi_i).\n",
    "$$"
   ]
  },
  {
   "cell_type": "markdown",
   "metadata": {},
   "source": [
    "A seguir uma implementação básica desse método."
   ]
  },
  {
   "cell_type": "code",
   "execution_count": 24,
   "metadata": {},
   "outputs": [
    {
     "data": {
      "text/plain": [
       "trapezio_composto (generic function with 1 method)"
      ]
     },
     "execution_count": 24,
     "metadata": {},
     "output_type": "execute_result"
    }
   ],
   "source": [
    "function trapezio_composto(f, a, b; m = 10) # Note que não faremos mais o trapézio aberto.\n",
    "    h = (b - a) / (m - 1)\n",
    "    I = 0.0\n",
    "    xi = a\n",
    "    for i = 2:m-1\n",
    "        xi += h\n",
    "        I += f(xi)\n",
    "    end\n",
    "    I = f(a) + 2I + f(b)\n",
    "    return I * h / 2\n",
    "end"
   ]
  },
  {
   "cell_type": "code",
   "execution_count": 25,
   "metadata": {},
   "outputs": [
    {
     "name": "stdout",
     "output_type": "stream",
     "text": [
      "∫f(x)dx = 1.0\n",
      "∫f(x)dx ≈ 0.9980833759447165, Erro Relativo = 0.001916624055283478\n",
      "∫f(x)dx ≈ 0.9995693517566672, Erro Relativo = 0.0004306482433328318\n",
      "∫f(x)dx ≈ 0.9998151007522933, Erro Relativo = 0.00018489924770670463\n",
      "∫f(x)dx ≈ 0.9998977564240852, Erro Relativo = 0.0001022435759148177\n",
      "∫f(x)dx ≈ 0.9999352278141773, Erro Relativo = 6.47721858226813e-5\n",
      "∫f(x)dx ≈ 0.9999553228987321, Erro Relativo = 4.467710126787594e-5\n",
      "∫f(x)dx ≈ 0.9999673340126418, Erro Relativo = 3.266598735818249e-5\n",
      "∫f(x)dx ≈ 0.9999750802897797, Erro Relativo = 2.491971022033912e-5\n",
      "∫f(x)dx ≈ 0.9999803655228862, Erro Relativo = 1.9634477113839033e-5\n",
      "∫f(x)dx ≈ 0.9999841316957123, Erro Relativo = 1.58683042876806e-5\n"
     ]
    }
   ],
   "source": [
    "f(x) = log(x)\n",
    "F(x) = x * log(x) - x\n",
    "a, b = 1, e\n",
    "println(\"∫f(x)dx = $(F(b) - F(a))\")\n",
    "for m = 10:10:100\n",
    "    Ia = trapezio_composto(f, a, b, m=m)\n",
    "    Ir = F(b) - F(a)\n",
    "    E = abs(Ir - Ia) / abs(Ir)\n",
    "    println(\"∫f(x)dx ≈ $Ia, Erro Relativo = $E\")\n",
    "end"
   ]
  },
  {
   "cell_type": "markdown",
   "metadata": {},
   "source": [
    "Agora vejamos a regra do ponto médio. Note que não queremos os extremos do intervalo, e além disso, calculamos $f$ no ponto médio. Isso quer dizer que, na prática, existem 3 pontos envolvidos, apesar do cálculo da $f$ apenas em um deles. Isso quer dizer que separamos o intervalo $[a,b]$ de dois em dois pontos."
   ]
  },
  {
   "cell_type": "markdown",
   "metadata": {},
   "source": [
    "Lembrando que, neste caso, mudamos a definição dos pontos para\n",
    "$h = \\dfrac{b - a}{m + 1}$ e $x_0 = a$ e $x_{m+1} = b$."
   ]
  },
  {
   "cell_type": "markdown",
   "metadata": {},
   "source": [
    "Por exemplo, usando $m = 5$,"
   ]
  },
  {
   "cell_type": "markdown",
   "metadata": {},
   "source": [
    "\\begin{align}\n",
    "\\int_a^b f(x)\\mbox{d}x & = \\int_{x_0}^{x_6} f(x)\\mbox{d}x \\\\\n",
    "& = \\int_{x_0}^{x_2} f(x)\\mbox{d}x\n",
    "+ \\int_{x_2}^{x_4} f(x)\\mbox{d}x\n",
    "+ \\int_{x_4}^{x_6} f(x)\\mbox{d}x \\\\\n",
    "& = (x_2 - x_0)f(x_1) + \\frac{(x_2-x_0)^3}{24}f''(\\xi_1)\n",
    "+ (x_4 - x_2)f(x_3) + \\frac{(x_4-x_2)^3}{24}f''(\\xi_2) \\\\\n",
    "& \\quad + (x_6 - x_4)f(x_5) + \\frac{(x_6-x_4)^3}{24}f''(\\xi_3) \\\\\n",
    "& = 2h[f(x_1) + f(x_3) + f(x_5)] + \\frac{h^3}{3}[f''(\\xi_1) + f''(\\xi_2) + f''(\\xi_3)].\n",
    "\\end{align}"
   ]
  },
  {
   "cell_type": "markdown",
   "metadata": {},
   "source": [
    "Pode parecer estranho pular tantos pontos, e ainda o fato do intervalo mudar, mas graficamente isso fica mais claro."
   ]
  },
  {
   "cell_type": "code",
   "execution_count": 26,
   "metadata": {},
   "outputs": [
    {
     "data": {
      "text/html": [
       "<img src=\"data:image/png;base64,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\" />"
      ]
     },
     "execution_count": 26,
     "metadata": {},
     "output_type": "execute_result"
    }
   ],
   "source": [
    "f(x) = exp(x) + cos(3π*x) * 0.5 + 3\n",
    "a, b = -2, 2\n",
    "p = plot(f, a, b, c=:red, lw=2, fill=(0,:red,0.3), leg=false)\n",
    "m = 5\n",
    "h = (b - a) / (m + 1)\n",
    "\n",
    "for i = 1:2:m\n",
    "    xi = a + i * h\n",
    "    plot!(p, x->f(xi), xi - h, xi + h, c=:blue, fill=(0,:blue,0.4))\n",
    "    scatter!([xi], [f(xi)], ms=5, c=:blue)\n",
    "end\n",
    "xticks!(a:h:b, [\"x$i\" for i = 0:m+1])\n",
    "p"
   ]
  },
  {
   "cell_type": "markdown",
   "metadata": {},
   "source": [
    "De uma maneira mais geral, temos\n",
    "$$ \\int_a^b f(x)\\mbox{d}x = 2h\\sum_{i = 1}^{(m+1)/2}f(x_{2i}) + \\frac{h^3}{3}\\sum_{i=1}^{(m+1)/2}f''(\\xi_i).\n",
    "$$"
   ]
  },
  {
   "cell_type": "markdown",
   "metadata": {},
   "source": [
    "Assumimos $m$ ímpar."
   ]
  },
  {
   "cell_type": "markdown",
   "metadata": {},
   "source": [
    "A implementação está abaixo."
   ]
  },
  {
   "cell_type": "code",
   "execution_count": 27,
   "metadata": {},
   "outputs": [
    {
     "data": {
      "text/plain": [
       "ponto_medio_composto (generic function with 1 method)"
      ]
     },
     "execution_count": 27,
     "metadata": {},
     "output_type": "execute_result"
    }
   ],
   "source": [
    "function ponto_medio_composto(f, a, b; m = 10)\n",
    "    I = 0.0\n",
    "    if m%2 == 0 # Se m não for ímpar, usamos m + 1\n",
    "        m += 1\n",
    "    end\n",
    "    h = (b - a) / (m + 1)\n",
    "    xi = a + h\n",
    "    for i = 1:2:m\n",
    "        I += f(xi)\n",
    "        xi += 2h\n",
    "    end\n",
    "    return I * 2 * h\n",
    "end"
   ]
  },
  {
   "cell_type": "code",
   "execution_count": 28,
   "metadata": {},
   "outputs": [
    {
     "name": "stdout",
     "output_type": "stream",
     "text": [
      "∫f(x)dx = 1.0\n",
      "∫f(x)dx ≈ 1.0021449681894743, Erro Relativo = 0.0021449681894742945\n",
      "∫f(x)dx ≈ 1.0006413118189519, Erro Relativo = 0.000641311818951884\n",
      "∫f(x)dx ≈ 1.0003034587984303, Erro Relativo = 0.00030345879843030055\n",
      "∫f(x)dx ≈ 1.0001762318521485, Erro Relativo = 0.0001762318521485451\n",
      "∫f(x)dx ≈ 1.0001149912122405, Erro Relativo = 0.00011499121224045616\n",
      "∫f(x)dx ≈ 1.0000808978878688, Erro Relativo = 8.08978878688027e-5\n",
      "∫f(x)dx ≈ 1.0000599909536767, Erro Relativo = 5.999095367670293e-5\n",
      "∫f(x)dx ≈ 1.000046253318927, Erro Relativo = 4.6253318926936515e-5\n",
      "∫f(x)dx ≈ 1.0000367458831187, Erro Relativo = 3.674588311874949e-5\n",
      "∫f(x)dx ≈ 1.0000298946794866, Erro Relativo = 2.989467948655289e-5\n"
     ]
    }
   ],
   "source": [
    "f(x) = log(x)\n",
    "F(x) = x * log(x) - x\n",
    "a, b = 1, e\n",
    "Ir = F(b) - F(a)\n",
    "println(\"∫f(x)dx = $Ir\")\n",
    "for m = 10:10:100\n",
    "    Ia = ponto_medio_composto(f, a, b, m=m)\n",
    "    E = abs(Ir - Ia) / abs(Ir)\n",
    "    println(\"∫f(x)dx ≈ $Ia, Erro Relativo = $E\")\n",
    "end"
   ]
  },
  {
   "cell_type": "markdown",
   "metadata": {},
   "source": [
    "### Erro das compostas"
   ]
  },
  {
   "cell_type": "markdown",
   "metadata": {},
   "source": [
    "Vejamos o que acontece agora com o erro das aproximações compostas."
   ]
  },
  {
   "cell_type": "markdown",
   "metadata": {},
   "source": [
    "Para o ponto médio, temos\n",
    "$$ E^{(m)}_{PM} = \\int_a^b f(x)\\mbox{d}x - 2h\\sum_{i = 1}^{(m+1)/2}f(x_{2i})\n",
    "= \\frac{h^3}{3}\\sum_{i=1}^{(m+1)/2}f''(\\xi_i).\n",
    "$$"
   ]
  },
  {
   "cell_type": "markdown",
   "metadata": {},
   "source": [
    "Agora é importante notar que $\\xi_i \\in [x_{2i-1},x_{2i+1}] \\subset [a,b]$.\n",
    "Então, pelo Teorema do Valor Extremo aplicado à função $f''$, temos\n",
    "$$ \\min_{x \\in [a,b]} f''(x) \\leq f''(\\xi_i) \\leq \\max_{x \\in [a,b]} f''(x). $$"
   ]
  },
  {
   "cell_type": "markdown",
   "metadata": {},
   "source": [
    "Aplicando o somatório,"
   ]
  },
  {
   "cell_type": "markdown",
   "metadata": {},
   "source": [
    "$$ \\frac{m+1}{2}\\min_{x \\in [a,b]} f''(x) \\leq \\sum_{i=1}^{(m+1)/2} f''(\\xi_i)\n",
    "\\leq \\frac{m+1}{2}\\max_{x \\in [a,b]} f''(x), $$"
   ]
  },
  {
   "cell_type": "markdown",
   "metadata": {},
   "source": [
    "que vira\n",
    "$$ \\min_{x \\in [a,b]} f''(x) \\leq \\frac{2}{m+1} \\sum_{i=1}^{(m+1)/2}f''(\\xi_i) \\leq \\max_{x \\in [a,b]} f''(x). $$"
   ]
  },
  {
   "cell_type": "markdown",
   "metadata": {},
   "source": [
    "Pelo Teorema do Valor Intermediário, existe $\\mu \\in [a,b]$ tal que\n",
    "$$ \\frac{2}{m+1} \\sum_{i=1}^{(m+1)/2} f''(\\xi_i) = f''(\\mu). $$"
   ]
  },
  {
   "cell_type": "markdown",
   "metadata": {},
   "source": [
    "Assim,\n",
    "$$ E^{(m)}_{PM} = \\frac{h^3}{3}\\frac{m+1}{2}f''(\\mu). $$\n",
    "Como $h = \\dfrac{b-a}{m+1}$, podemos escrever também\n",
    "$$ E^{(m)}_{PM} = \\frac{h^2(b-a)}{6}f''(\\mu)\n",
    "= \\frac{(b-a)^3}{6(m+1)^2}f''(\\mu).\n",
    "$$"
   ]
  },
  {
   "cell_type": "markdown",
   "metadata": {},
   "source": [
    "Para o método do Trapézio,\n",
    "$$ E_{TR}^{(m)} = \\int_a^b f(x)\\mbox{d}x - \\frac{h}{2}[f(x_1) + 2\\sum_{i = 2}^{m-1}f(x_i) + f(x_m)] = - \\frac{h^3}{12}\\sum_{i=1}^{m-1}f''(\\xi_i).\n",
    "$$\n",
    "Por argumentos similares,\n",
    "$$ E_{TR}^{(m)} = - \\frac{h^3}{12}\\frac{1}{m-1}f''(\\mu)\n",
    "= -\\frac{h^2(b-a)}{12}f''(\\mu)\n",
    "= -\\frac{(b-a)^3}{12(m-1)^2}f''(\\mu).$$"
   ]
  },
  {
   "cell_type": "code",
   "execution_count": 29,
   "metadata": {},
   "outputs": [
    {
     "data": {
      "text/html": [
       "<img src=\"data:image/png;base64,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\" />"
      ]
     },
     "execution_count": 29,
     "metadata": {},
     "output_type": "execute_result"
    }
   ],
   "source": [
    "f(x) = exp(x)\n",
    "F(x) = exp(x)\n",
    "a, b = 0, 1\n",
    "cores = [:blue, :red, :magenta]\n",
    "p = scatter(leg=false, xaxis=:log, yaxis=:log)\n",
    "Ireal = F(b) - F(a)\n",
    "for (i,mtd) in enumerate([ponto_medio_composto, trapezio_composto])\n",
    "    for m = 2.^(2:15)b\n",
    "        Iapprox = mtd(f, a, b, m=m)\n",
    "        E = abs(Ireal - Iapprox) / Ireal\n",
    "        scatter!(p, [m], [E], c=cores[i])\n",
    "    end\n",
    "end\n",
    "n = [1; 2^16]\n",
    "plot!(n, (1 ./ n).^2 / 6)\n",
    "xlims!(1.0, 2^16)\n",
    "ylims!(1e-11, 1e-1)"
   ]
  },
  {
   "cell_type": "markdown",
   "metadata": {},
   "source": [
    "Com esse erro em mãos, podemos calcular limitantes para o erro cometido por uma aproximação sabendo a função.\n",
    "Por exemplo,\n",
    "na integração da função $f(x) = e^x$, com $m = 100$, de $0$ a $1$, os erros exatos serão\n",
    "$$ E_{PM} = \\frac{(b-a)^3}{6(m+1)^2}f''(\\mu) = \\frac{(1-0)^3}{6\\times101^2}e^{\\mu} = \\frac{e^{\\mu}}{61206},$$\n",
    "e\n",
    "$$ E_{TR} = -\\frac{(b-a)^3}{12(m-1)^2}f''(\\mu) = -\\frac{(1-0)^3}{12\\times99^2}e^{\\mu} = -\\frac{e^{\\mu}}{117612}. $$"
   ]
  },
  {
   "cell_type": "markdown",
   "metadata": {},
   "source": [
    "Esse valor depende de $\\mu \\in [0,1]$, e é desconhecido. Porém, podemos limitar esse erro, usando um limitante para $|f''(\\mu)|$. No caso desta função $f$, neste intervalo, temos $e^\\mu \\leq e^1 = e$. Daí,"
   ]
  },
  {
   "cell_type": "markdown",
   "metadata": {},
   "source": [
    "$$ |E_{PM}| \\leq \\frac{e}{61206} \\approx 4.44\\times10^{-5}, $$\n",
    "e\n",
    "$$ |E_{TR}| \\leq \\frac{e}{117612} \\approx 2.31\\times10^{-5}. $$"
   ]
  },
  {
   "cell_type": "markdown",
   "metadata": {},
   "source": [
    "De fato, aplicando o método temos"
   ]
  },
  {
   "cell_type": "code",
   "execution_count": 30,
   "metadata": {},
   "outputs": [
    {
     "name": "stdout",
     "output_type": "stream",
     "text": [
      "E_PM = 2.7525672183781325e-5\n",
      "E_TR = -1.4609724402259161e-5\n"
     ]
    }
   ],
   "source": [
    "f(x) = exp(x)\n",
    "F(x) = exp(x)\n",
    "a, b = 0, 1\n",
    "Ir = F(b) - F(a)\n",
    "println(\"E_PM = $(Ir - ponto_medio_composto(f, a, b, m=100))\")\n",
    "println(\"E_TR = $(Ir - trapezio_composto(f, a, b, m=100))\")"
   ]
  },
  {
   "cell_type": "markdown",
   "metadata": {},
   "source": [
    "Isso também nos permite buscar o $m$ ou $h$ que faça com que o erro seja menor que uma certa tolerância.\n",
    "Por exemplo, para o ponto médio, se quisermos que o erro seja menor que $\\varepsilon$, temos que fazer o seguinte."
   ]
  },
  {
   "cell_type": "markdown",
   "metadata": {},
   "source": [
    "Primeiro, veja que\n",
    "$$ |E_{PM}| \\leq \\frac{h^2(b-a)}{6}M_2, $$\n",
    "onde $M_2 = \\max_{x\\in[a,b]}|f''(x)|$.\n",
    "Daí, basta que o lado direito seja limitado por $\\varepsilon$, isto é, que\n",
    "$$ \\frac{h^2(b-a)}{6}M_2 \\leq \\varepsilon. $$"
   ]
  },
  {
   "cell_type": "markdown",
   "metadata": {},
   "source": [
    "O $h$ que satisfaz isso é tal que\n",
    "$$ h \\leq \\sqrt{  \\frac{6\\varepsilon}{M_2(b-a)} }. $$"
   ]
  },
  {
   "cell_type": "markdown",
   "metadata": {},
   "source": [
    "Se quisermos $m$, podemos refazer a conta usando a fórmula com $m$, ou tirar $m$ do resultado, usando $h = \\dfrac{b-a}{m+1}$:"
   ]
  },
  {
   "cell_type": "markdown",
   "metadata": {},
   "source": [
    "$$ m = \\frac{b-a}{h} - 1 \\geq (b-a)\\sqrt{ \\frac{M_2(b-a)}{6\\varepsilon} } - 1\n",
    "$$"
   ]
  },
  {
   "cell_type": "markdown",
   "metadata": {},
   "source": [
    "Por exemplo, se quisermos o erro menor que $\\varepsilon = 10^{-7}$, para a mesma função, no mesmo intervalo,\n",
    "devemos ter"
   ]
  },
  {
   "cell_type": "code",
   "execution_count": 31,
   "metadata": {},
   "outputs": [
    {
     "data": {
      "text/plain": [
       "0.0004698166288062454"
      ]
     },
     "execution_count": 31,
     "metadata": {},
     "output_type": "execute_result"
    }
   ],
   "source": [
    "a, b = 0, 1\n",
    "M2 = exp(b) # Pois exp(x) é crescente\n",
    "ε = 1e-7\n",
    "hmax = sqrt(6ε / M2 * (b - a))"
   ]
  },
  {
   "cell_type": "code",
   "execution_count": 32,
   "metadata": {},
   "outputs": [
    {
     "data": {
      "text/plain": [
       "2127.4900079865088"
      ]
     },
     "execution_count": 32,
     "metadata": {},
     "output_type": "execute_result"
    }
   ],
   "source": [
    "mmin = (b-a)/hmax - 1"
   ]
  },
  {
   "cell_type": "code",
   "execution_count": 33,
   "metadata": {},
   "outputs": [
    {
     "data": {
      "text/plain": [
       "2128"
      ]
     },
     "execution_count": 33,
     "metadata": {},
     "output_type": "execute_result"
    }
   ],
   "source": [
    "# De maneira mais precisa\n",
    "mmin = ceil(Int, (b-a)/hmax - 1)"
   ]
  },
  {
   "cell_type": "code",
   "execution_count": 34,
   "metadata": {},
   "outputs": [
    {
     "data": {
      "text/plain": [
       "-6.312245792727822e-8"
      ]
     },
     "execution_count": 34,
     "metadata": {},
     "output_type": "execute_result"
    }
   ],
   "source": [
    "ponto_medio_composto(f, 0, 1, m=mmin) - (F(b) - F(a))"
   ]
  },
  {
   "cell_type": "markdown",
   "metadata": {},
   "source": [
    "### Simpson composta"
   ]
  },
  {
   "cell_type": "markdown",
   "metadata": {},
   "source": [
    "De maneira similar, podemos fazer a regra de Simpson composta. Note que utilizamos um ponto a mais, de modo que aplicaremos a regra de dois em dois pontos. Note que $m$ deve ser ímpar."
   ]
  },
  {
   "cell_type": "markdown",
   "metadata": {},
   "source": [
    "$$ \\int_a^b f(x)\\mbox{d}x =\n",
    "\\frac{h}{3}[f(x_{1}) +\n",
    "2\\sum_{i = 1}^{(m-1)/2-1}f(x_{2i+1}) +\n",
    "4\\sum_{i = 1}^{(m-1)/2}f(x_{2i}) +\n",
    "f(x_m)] + E_{SP},\n",
    "$$\n",
    "com o erro $E_{SP}$ sendo\n",
    "$$ E_{SP} = -\\frac{(b-a)h^4}{180}f^{(4)}(\\mu)\n",
    "= -\\frac{(b-a)^5}{180(m-1)^4}f^{(4)}(\\mu). $$"
   ]
  },
  {
   "cell_type": "code",
   "execution_count": 35,
   "metadata": {},
   "outputs": [
    {
     "data": {
      "text/plain": [
       "simpson_composto (generic function with 1 method)"
      ]
     },
     "execution_count": 35,
     "metadata": {},
     "output_type": "execute_result"
    }
   ],
   "source": [
    "function simpson_composto(f, a, b; m = 101)\n",
    "    # Implemente\n",
    "end"
   ]
  },
  {
   "cell_type": "code",
   "execution_count": 36,
   "metadata": {},
   "outputs": [
    {
     "ename": "LoadError",
     "evalue": "\u001b[91mMethodError: no method matching -(::Float64, ::Void)\u001b[0m\nClosest candidates are:\n  -(::Float64, \u001b[91m::Float64\u001b[39m) at float.jl:377\n  -(::Float64) at float.jl:367\n  -(\u001b[91m::PyCall.PyObject\u001b[39m, ::Any) at /home/abel/.julia/v0.6/PyCall/src/pyoperators.jl:11\n  ...\u001b[39m",
     "output_type": "error",
     "traceback": [
      "\u001b[91mMethodError: no method matching -(::Float64, ::Void)\u001b[0m\nClosest candidates are:\n  -(::Float64, \u001b[91m::Float64\u001b[39m) at float.jl:377\n  -(::Float64) at float.jl:367\n  -(\u001b[91m::PyCall.PyObject\u001b[39m, ::Any) at /home/abel/.julia/v0.6/PyCall/src/pyoperators.jl:11\n  ...\u001b[39m",
      "",
      "Stacktrace:",
      " [1] \u001b[1mmacro expansion\u001b[22m\u001b[22m at \u001b[1m./In[36]:8\u001b[22m\u001b[22m [inlined]",
      " [2] \u001b[1manonymous\u001b[22m\u001b[22m at \u001b[1m./<missing>:?\u001b[22m\u001b[22m",
      " [3] \u001b[1minclude_string\u001b[22m\u001b[22m\u001b[1m(\u001b[22m\u001b[22m::String, ::String\u001b[1m)\u001b[22m\u001b[22m at \u001b[1m./loading.jl:515\u001b[22m\u001b[22m"
     ]
    }
   ],
   "source": [
    "f(x) = exp(x)\n",
    "F(x) = exp(x)\n",
    "a, b = 0, 1\n",
    "p = scatter(leg=false, xaxis=:log, yaxis=:log)\n",
    "Ireal = F(b) - F(a)\n",
    "for m = 2.^(2:15)\n",
    "    Iapprox = simpson_composto(f, a, b, m=m)\n",
    "    E = abs(Ireal - Iapprox) / Ireal\n",
    "    scatter!(p, [m], [E], c=:blue)\n",
    "end\n",
    "n = [1; 2^16]\n",
    "plot!(n, (1 ./ n).^2 / 6)\n",
    "xlims!(1.0, 2^16)\n",
    "ylims!(1e-16, 1e-1)"
   ]
  },
  {
   "cell_type": "code",
   "execution_count": 37,
   "metadata": {},
   "outputs": [
    {
     "data": {
      "text/plain": [
       "1.7724538509055159"
      ]
     },
     "execution_count": 37,
     "metadata": {},
     "output_type": "execute_result"
    },
    {
     "ename": "BoundsError",
     "evalue": "\u001b[91mBoundsError: attempt to access \"trap\"\n  at index [0]\u001b[39m",
     "output_type": "error",
     "traceback": [
      "KERNEL EXCEPTION",
      "\u001b[91mBoundsError: attempt to access \"trap\"\n  at index [0]\u001b[39m",
      "",
      "Stacktrace:",
      " [1] \u001b[1mnext\u001b[22m\u001b[22m at \u001b[1m./strings/string.jl:197\u001b[22m\u001b[22m [inlined]",
      " [2] \u001b[1mgetindex\u001b[22m\u001b[22m\u001b[1m(\u001b[22m\u001b[22m::String, ::Int64\u001b[1m)\u001b[22m\u001b[22m at \u001b[1m./strings/basic.jl:32\u001b[22m\u001b[22m",
      " [3] \u001b[1mind2chr\u001b[22m\u001b[22m\u001b[1m(\u001b[22m\u001b[22m::String, ::Int64\u001b[1m)\u001b[22m\u001b[22m at \u001b[1m./strings/basic.jl:269\u001b[22m\u001b[22m",
      " [4] \u001b[1mind2chr\u001b[22m\u001b[22m\u001b[1m(\u001b[22m\u001b[22m::IJulia.Msg, ::String, ::Int64\u001b[1m)\u001b[22m\u001b[22m at \u001b[1m/home/abel/.julia/v0.6/IJulia/src/handlers.jl:50\u001b[22m\u001b[22m",
      " [5] \u001b[1mcomplete_request\u001b[22m\u001b[22m\u001b[1m(\u001b[22m\u001b[22m::ZMQ.Socket, ::IJulia.Msg\u001b[1m)\u001b[22m\u001b[22m at \u001b[1m/home/abel/.julia/v0.6/IJulia/src/handlers.jl:76\u001b[22m\u001b[22m",
      " [6] \u001b[1meventloop\u001b[22m\u001b[22m\u001b[1m(\u001b[22m\u001b[22m::ZMQ.Socket\u001b[1m)\u001b[22m\u001b[22m at \u001b[1m/home/abel/.julia/v0.6/IJulia/src/eventloop.jl:8\u001b[22m\u001b[22m",
      " [7] \u001b[1m(::IJulia.##14#17)\u001b[22m\u001b[22m\u001b[1m(\u001b[22m\u001b[22m\u001b[1m)\u001b[22m\u001b[22m at \u001b[1m./task.jl:335\u001b[22m\u001b[22m"
     ]
    }
   ],
   "source": [
    "sqrt(pi)"
   ]
  },
  {
   "cell_type": "code",
   "execution_count": 50,
   "metadata": {},
   "outputs": [
    {
     "data": {
      "text/plain": [
       "4.440892098500626e-16"
      ]
     },
     "execution_count": 50,
     "metadata": {},
     "output_type": "execute_result"
    }
   ],
   "source": [
    "trapezio_composto(x->exp(-x^2), -6, 6, m=100) - sqrt(pi)"
   ]
  },
  {
   "cell_type": "code",
   "execution_count": 51,
   "metadata": {},
   "outputs": [
    {
     "data": {
      "text/plain": [
       "6.069708517540586"
      ]
     },
     "execution_count": 51,
     "metadata": {},
     "output_type": "execute_result"
    },
    {
     "ename": "BoundsError",
     "evalue": "\u001b[91mBoundsError: attempt to access \"trapez\"\n  at index [0]\u001b[39m",
     "output_type": "error",
     "traceback": [
      "KERNEL EXCEPTION",
      "\u001b[91mBoundsError: attempt to access \"trapez\"\n  at index [0]\u001b[39m",
      "",
      "Stacktrace:",
      " [1] \u001b[1mnext\u001b[22m\u001b[22m at \u001b[1m./strings/string.jl:197\u001b[22m\u001b[22m [inlined]",
      " [2] \u001b[1mgetindex\u001b[22m\u001b[22m\u001b[1m(\u001b[22m\u001b[22m::String, ::Int64\u001b[1m)\u001b[22m\u001b[22m at \u001b[1m./strings/basic.jl:32\u001b[22m\u001b[22m",
      " [3] \u001b[1mind2chr\u001b[22m\u001b[22m\u001b[1m(\u001b[22m\u001b[22m::String, ::Int64\u001b[1m)\u001b[22m\u001b[22m at \u001b[1m./strings/basic.jl:269\u001b[22m\u001b[22m",
      " [4] \u001b[1mind2chr\u001b[22m\u001b[22m\u001b[1m(\u001b[22m\u001b[22m::IJulia.Msg, ::String, ::Int64\u001b[1m)\u001b[22m\u001b[22m at \u001b[1m/home/abel/.julia/v0.6/IJulia/src/handlers.jl:50\u001b[22m\u001b[22m",
      " [5] \u001b[1mcomplete_request\u001b[22m\u001b[22m\u001b[1m(\u001b[22m\u001b[22m::ZMQ.Socket, ::IJulia.Msg\u001b[1m)\u001b[22m\u001b[22m at \u001b[1m/home/abel/.julia/v0.6/IJulia/src/handlers.jl:76\u001b[22m\u001b[22m",
      " [6] \u001b[1meventloop\u001b[22m\u001b[22m\u001b[1m(\u001b[22m\u001b[22m::ZMQ.Socket\u001b[1m)\u001b[22m\u001b[22m at \u001b[1m/home/abel/.julia/v0.6/IJulia/src/eventloop.jl:8\u001b[22m\u001b[22m",
      " [7] \u001b[1m(::IJulia.##14#17)\u001b[22m\u001b[22m\u001b[1m(\u001b[22m\u001b[22m\u001b[1m)\u001b[22m\u001b[22m at \u001b[1m./task.jl:335\u001b[22m\u001b[22m"
     ]
    }
   ],
   "source": [
    "sqrt(-log(1e-16))"
   ]
  },
  {
   "cell_type": "markdown",
   "metadata": {},
   "source": [
    "# Quadratura Gaussiana"
   ]
  },
  {
   "cell_type": "markdown",
   "metadata": {},
   "source": [
    "A ideia da quadratura Gaussiana é obter a propriedade de integrar exatamente polinômios do maior grau possível.\n",
    "\n",
    "$$ \\int_{-1}^1 g(t) \\text{d}t \\approx \\sum_{i=1}^m A_i g(t_i). $$"
   ]
  },
  {
   "cell_type": "markdown",
   "metadata": {},
   "source": [
    "### m = 1\n",
    "\n",
    "- $g(t) = 1$ implica em $\\int_{-1}^1\\text{d}t = 2 = A_1$\n",
    "- $g(t) = t$ implica em $\\int_{-1}^1\\text{d}t = 0 = A_1 t_1$\n",
    "\n",
    "Os únicos valores que satisfazem essas condições são $A_1 = 2$ e $t_1 = 0$, isto é\n",
    "$$ \\int_{-1}^1 g(t)\\text{d}t \\approx 2g(0). $$"
   ]
  },
  {
   "cell_type": "markdown",
   "metadata": {},
   "source": [
    "### m = 2\n",
    "\n",
    "- $g(t) = 1$ implica em $\\int_{-1}^1\\text{d}t = 2 = A_1 + A_2$\n",
    "- $g(t) = t$ implica em $\\int_{-1}^1\\text{d}t = 0 = A_1 t_1 + A_2 t_2$\n",
    "- $g(t) = t^2$ implica em $\\int_{-1}^1\\text{d}t = 0 = A_1 t_1^2 + A_2 t_2^2$\n",
    "- $g(t) = t^3$ implica em $\\int_{-1}^1\\text{d}t = 0 = A_1 t_1^3 + A_3 t_2^3$\n",
    "\n",
    "Os únicos valores que satisfazem essas condições são $A_1 = A_2 = 1$ e $t_1 = -\\sqrt{3}/3 = -t_2$, isto é\n",
    "$$ \\int_{-1}^1 g(t)\\text{d}t \\approx g\\bigg(-\\frac{\\sqrt{3}}{3}\\bigg) + g\\bigg(\\frac{\\sqrt{3}}{3}\\bigg). $$"
   ]
  },
  {
   "cell_type": "markdown",
   "metadata": {},
   "source": [
    "Note que as integrais acima são de $-1$ a $1$. Para obter o resultado de uma integral de $a$ a $b$ fazemos a mudança de variáveis $x = \\dfrac{a+b}{2} + \\dfrac{b-a}{2}t$.\n",
    "\n",
    "$$ \\int_a^b f(x) \\text{d}x =\n",
    "\\int_{-1}^1 f(x(t)) \\frac{b-a}{2}\\text{d}t\n",
    "\\approx \\frac{b-a}{2}\\sum_{i=1}^m A_i f(x(t_i)). $$"
   ]
  },
  {
   "cell_type": "markdown",
   "metadata": {},
   "source": [
    "No caso $m = 1$, note que a integral vira a integral do ponto médio."
   ]
  },
  {
   "cell_type": "markdown",
   "metadata": {},
   "source": [
    "## Exercícios\n",
    "\n",
    "Exercícios do capítulo 7 do livro Cálculo Numérico de Ruggiero e Lopes."
   ]
  },
  {
   "cell_type": "markdown",
   "metadata": {},
   "source": [
    "$\\newcommand{\\intdefx}[3]{\\int_{#1}^{#2}\\! {#3}\\mbox{d}x}$\n",
    "\n",
    "1. Calcule aproximações para as seguintes integrais, usando os métodos do ponto\n",
    "   médio, do trapézio e de Simpson repetidos. Faça com três números de\n",
    "   intervalos diferentes e compare os resultados.\n",
    "\n",
    "  - $\\displaystyle \\intdefx{0}{1}{eˣ}$\n",
    "  - $\\displaystyle \\intdefx{0}{1}{1}$\n",
    "  - $\\displaystyle \\intdefx{0}{1}{x}$\n",
    "  - $\\displaystyle \\intdefx{0}{1}{x^2}$\n",
    "  - $\\displaystyle \\intdefx{0}{1}{x^3}$\n",
    "  - $\\displaystyle \\intdefx{1}{e}{\\log x}$\n",
    "  - $\\displaystyle \\intdefx{-10}{10}{\\dfrac{1}{x^2+1}}$\n",
    "  - $\\displaystyle \\intdefx{-\\pi}{\\pi}{\\sin x}$\n",
    "\n",
    "2. Para cada integral acima, calcule quantos pontos são necessários para se obter um erro menor que $10^{-6}.\n",
    "\n",
    "3. Considere a função $f$ contínua no intervalo $[a,b]$,\n",
    "e a função $p$ dada por\n",
    "$$ p(x) = f(a) + \\alpha (x-a) + \\beta (x - a)(x - c), $$\n",
    "onde $c = \\dfrac{a+b}{2}$ é o ponto médio do intervalo $[a,b]$,\n",
    "$\\alpha = \\dfrac{f(c) - f(a)}{h}$, e\n",
    "$\\beta = \\dfrac{f(b) - 2f(c) + f(a)}{2h^2}$, com\n",
    "$h = c - a = b - c$.\n",
    "\n",
    "  - Mostre que $p$ interpola $f$ em 3 pontos: $a, b$ e $c$.\n",
    "  - Calcule a integral de $p$ de $[a,b]$ e interprete o resultado."
   ]
  }
 ],
 "metadata": {
  "kernelspec": {
   "display_name": "Julia 0.6.4",
   "language": "julia",
   "name": "julia-0.6"
  },
  "language_info": {
   "file_extension": ".jl",
   "mimetype": "application/julia",
   "name": "julia",
   "version": "0.6.4"
  }
 },
 "nbformat": 4,
 "nbformat_minor": 1
}
