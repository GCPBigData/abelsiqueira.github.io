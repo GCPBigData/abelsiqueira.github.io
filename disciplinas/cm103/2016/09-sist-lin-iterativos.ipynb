{
 "cells": [
  {
   "cell_type": "markdown",
   "metadata": {},
   "source": [
    "# Sistemas Lineares - Métodos Iterativos"
   ]
  },
  {
   "cell_type": "markdown",
   "metadata": {},
   "source": [
    "Podemos manipular $Ax = b$ para uma equação do tipo ponto fixo: $x = \\varphi(x)$."
   ]
  },
  {
   "cell_type": "markdown",
   "metadata": {},
   "source": [
    "Isso gera o método\n",
    "$$ x^{k+1} = \\varphi(x^k). $$"
   ]
  },
  {
   "cell_type": "markdown",
   "metadata": {},
   "source": [
    "A pergunta é como escolher $\\varphi$.\n",
    "\n",
    "De uma maneira geral, vamos separar a matriz $A$ em duas, $A = M + N$, onde $M$ deve ser não-singular.\n",
    "Isso irá garantir que a manipulação\n",
    "$$ Ax = b \\\\\n",
    "\\Rightarrow Mx + Nx = b \\\\\n",
    "\\Rightarrow Mx = b - Nx \\\\\n",
    "\\Rightarrow x = M^{-1}b - M^{-1}Nx = g + Cx.\n",
    "$$"
   ]
  },
  {
   "cell_type": "markdown",
   "metadata": {},
   "source": [
    "Definimos $\\varphi(x) = Cx + g$."
   ]
  },
  {
   "cell_type": "markdown",
   "metadata": {},
   "source": [
    "Note que"
   ]
  },
  {
   "cell_type": "markdown",
   "metadata": {},
   "source": [
    "$$ N = A - M ⇒ Nx = Ax - Mx $$\n",
    "$$ \\varphi(x) = g - M^{-1}(Ax - Mx)\n",
    "= g - M^{-1}(Ax) + x $$"
   ]
  },
  {
   "cell_type": "markdown",
   "metadata": {},
   "source": [
    "Que também pode ser visto como\n",
    "$$ \\varphi(x) = x - M^{-1}(Ax - b). $$\n",
    "\n",
    "Isso vai ser útil em breve."
   ]
  },
  {
   "cell_type": "markdown",
   "metadata": {},
   "source": [
    "Note que se $M = A$, então $\\varphi(x) = x - A^{-1}Ax + A^{-1}b = A^{-1}b$, isto é, a partir de qualquer $x$, \n",
    "$\\varphi(x)$ é a solução do sistema.\n",
    "Computacionalmente, no entanto, $M = A$ não resolve nossos problemas."
   ]
  },
  {
   "cell_type": "markdown",
   "metadata": {},
   "source": [
    "Então, quem é $M$?"
   ]
  },
  {
   "cell_type": "markdown",
   "metadata": {},
   "source": [
    "## Gauss-Jacobi\n",
    "\n",
    "Uma estratégia é olhar para a diagonal de $A$.\n",
    "$$ A = D + N $$"
   ]
  },
  {
   "cell_type": "markdown",
   "metadata": {},
   "source": [
    "Se a diagonal não tiver elementos nulos, então podemos fazer a manipulação\n",
    "$$ Dx + Nx = b \\Rightarrow x = D^{-1}(b - Nx) = g + Cx, $$"
   ]
  },
  {
   "cell_type": "code",
   "execution_count": 89,
   "metadata": {
    "collapsed": false
   },
   "outputs": [
    {
     "data": {
      "text/plain": [
       "3-element Array{Float64,1}:\n",
       "  7.0\n",
       " -8.0\n",
       "  6.0"
      ]
     },
     "execution_count": 89,
     "metadata": {},
     "output_type": "execute_result"
    }
   ],
   "source": [
    "A = [10.0 2 1; 1 5 1; 2 3 10]\n",
    "b = [7.0; -8.0; 6.0]"
   ]
  },
  {
   "cell_type": "code",
   "execution_count": 90,
   "metadata": {
    "collapsed": false
   },
   "outputs": [
    {
     "data": {
      "text/plain": [
       "3x3 Array{Float64,2}:\n",
       " 10.0  2.0   1.0\n",
       "  1.0  5.0   1.0\n",
       "  2.0  3.0  10.0"
      ]
     },
     "execution_count": 90,
     "metadata": {},
     "output_type": "execute_result"
    }
   ],
   "source": [
    "A"
   ]
  },
  {
   "cell_type": "code",
   "execution_count": 91,
   "metadata": {
    "collapsed": false
   },
   "outputs": [
    {
     "data": {
      "text/plain": [
       "3-element Array{Float64,1}:\n",
       " 10.0\n",
       "  5.0\n",
       " 10.0"
      ]
     },
     "execution_count": 91,
     "metadata": {},
     "output_type": "execute_result"
    }
   ],
   "source": [
    "D = diag(A) # Note que D não é uma matriz"
   ]
  },
  {
   "cell_type": "code",
   "execution_count": 93,
   "metadata": {
    "collapsed": false
   },
   "outputs": [
    {
     "data": {
      "text/plain": [
       "3x3 Array{Float64,2}:\n",
       " 0.0  2.0  1.0\n",
       " 1.0  0.0  1.0\n",
       " 2.0  3.0  0.0"
      ]
     },
     "execution_count": 93,
     "metadata": {},
     "output_type": "execute_result"
    }
   ],
   "source": [
    "N = tril(A, -1) + triu(A, 1) # N = A - D"
   ]
  },
  {
   "cell_type": "code",
   "execution_count": 94,
   "metadata": {
    "collapsed": false
   },
   "outputs": [
    {
     "data": {
      "text/plain": [
       "3-element Array{Float64,1}:\n",
       "  0.7\n",
       " -1.6\n",
       "  0.6"
      ]
     },
     "execution_count": 94,
     "metadata": {},
     "output_type": "execute_result"
    }
   ],
   "source": [
    "g = b./D"
   ]
  },
  {
   "cell_type": "code",
   "execution_count": 95,
   "metadata": {
    "collapsed": false
   },
   "outputs": [
    {
     "data": {
      "text/plain": [
       "3x3 Array{Float64,2}:\n",
       " -0.0  -0.2  -0.1\n",
       " -0.2  -0.0  -0.2\n",
       " -0.2  -0.3  -0.0"
      ]
     },
     "execution_count": 95,
     "metadata": {},
     "output_type": "execute_result"
    }
   ],
   "source": [
    "C = -N./D"
   ]
  },
  {
   "cell_type": "code",
   "execution_count": 96,
   "metadata": {
    "collapsed": false
   },
   "outputs": [
    {
     "data": {
      "text/plain": [
       "3-element Array{Float64,1}:\n",
       "  0.7\n",
       " -1.6\n",
       "  0.6"
      ]
     },
     "execution_count": 96,
     "metadata": {},
     "output_type": "execute_result"
    }
   ],
   "source": [
    "x = g # x⁰ = 0 ⇒ x¹ = g"
   ]
  },
  {
   "cell_type": "code",
   "execution_count": 117,
   "metadata": {
    "collapsed": false
   },
   "outputs": [
    {
     "data": {
      "text/plain": [
       "3-element Array{Float64,1}:\n",
       "  1.0\n",
       " -2.0\n",
       "  1.0"
      ]
     },
     "execution_count": 117,
     "metadata": {},
     "output_type": "execute_result"
    }
   ],
   "source": [
    "x = C*x + g # Running a few times"
   ]
  },
  {
   "cell_type": "markdown",
   "metadata": {},
   "source": [
    "## Implementar Gauss-Jacobi"
   ]
  },
  {
   "cell_type": "markdown",
   "metadata": {},
   "source": [
    "$$ x^{k+1} = x^k - D^{-1}(Ax^k - b) $$"
   ]
  },
  {
   "cell_type": "code",
   "execution_count": 119,
   "metadata": {
    "collapsed": false,
    "scrolled": true
   },
   "outputs": [
    {
     "data": {
      "text/plain": [
       "gauss_jacobi (generic function with 1 method)"
      ]
     },
     "execution_count": 119,
     "metadata": {},
     "output_type": "execute_result"
    }
   ],
   "source": [
    "function gauss_jacobi(A, b; tol=1e-6, maxiter = 100)\n",
    "    D = diag(A)\n",
    "    n = length(b)\n",
    "    x = b./D\n",
    "    r = A*x - b\n",
    "    maxD = maximum(abs(D)) # Escalamento\n",
    "    iter = 0\n",
    "    while norm(r, Inf)/maxD > tol\n",
    "        x = x - r./D # D^{-1}(Ax-b) = D^{-1}*r = r./D\n",
    "        iter += 1\n",
    "        if iter >= maxiter\n",
    "            break\n",
    "        end\n",
    "        r = A*x - b\n",
    "    end\n",
    "    return x, iter\n",
    "end"
   ]
  },
  {
   "cell_type": "code",
   "execution_count": 120,
   "metadata": {
    "collapsed": false,
    "scrolled": true
   },
   "outputs": [
    {
     "data": {
      "text/plain": [
       "([1.00000026749376,-1.99999965324576,1.00000038780064],13)"
      ]
     },
     "execution_count": 120,
     "metadata": {},
     "output_type": "execute_result"
    }
   ],
   "source": [
    "x, k = gauss_jacobi(A, b)"
   ]
  },
  {
   "cell_type": "code",
   "execution_count": 129,
   "metadata": {
    "collapsed": false
   },
   "outputs": [
    {
     "data": {
      "text/plain": [
       "gauss_jacobi2 (generic function with 1 method)"
      ]
     },
     "execution_count": 129,
     "metadata": {},
     "output_type": "execute_result"
    }
   ],
   "source": [
    "# Modo C/Fortran\n",
    "function gauss_jacobi2(A, b; tol=1e-6, maxiter = 100)\n",
    "    n = length(b)\n",
    "    x = zeros(n)\n",
    "    xnew = zeros(n)\n",
    "    for i = 1:n\n",
    "        xnew[i] = b[i]/A[i,i]\n",
    "    end\n",
    "    # Esquece o escalamento por enquanto\n",
    "    iter = 0\n",
    "    while norm(xnew - x, Inf) > tol\n",
    "        for i = 1:n\n",
    "            x[i] = xnew[i]\n",
    "        end\n",
    "        for i = 1:n\n",
    "            xnew[i] = b[i]\n",
    "            for j = 1:n\n",
    "                if i == j\n",
    "                    continue # Pare o loop e vá para o próximo j\n",
    "                end\n",
    "                xnew[i] -= A[i,j] * x[j]\n",
    "            end\n",
    "            xnew[i] = xnew[i]/A[i,i]\n",
    "        end\n",
    "        iter += 1\n",
    "        if iter >= maxiter\n",
    "            break\n",
    "        end\n",
    "    end\n",
    "    return xnew, iter\n",
    "end"
   ]
  },
  {
   "cell_type": "code",
   "execution_count": 128,
   "metadata": {
    "collapsed": false
   },
   "outputs": [
    {
     "data": {
      "text/plain": [
       "([0.9999998918690881,-2.00000013105888,0.9999998424749759],14)"
      ]
     },
     "execution_count": 128,
     "metadata": {},
     "output_type": "execute_result"
    }
   ],
   "source": [
    "gauss_jacobi2(A, b)"
   ]
  },
  {
   "cell_type": "markdown",
   "metadata": {},
   "source": [
    "### Complexidade\n",
    "\n",
    "Cada loop faz $r./D$ que são $n$ divisões, $x - r./D$, que são $n$ somas e $r = Ax - b$\n",
    "que são $n^2$ multiplicações e $n(n-1) + n = n^2$ somas. Ignorando o custo da $\\Vert\\cdots\\Vert_{\\infty}$,\n",
    "temos que cada iteração do método de Gauss-Jacobi custa $2n^2 + 2n$ operações.\n",
    "\n",
    "Fizemos 13 iterações, e nesse caso $n=3$, então esse método foi mais caro que LU. Vale a pena?"
   ]
  },
  {
   "cell_type": "code",
   "execution_count": 87,
   "metadata": {
    "collapsed": false
   },
   "outputs": [
    {
     "data": {
      "text/plain": [
       "([0.9994000000000001,-1.9888000000000001,0.9984000000000001],4)"
      ]
     },
     "execution_count": 87,
     "metadata": {},
     "output_type": "execute_result"
    }
   ],
   "source": [
    "gauss_jacobi(A, b, tol=1e-2)"
   ]
  },
  {
   "cell_type": "code",
   "execution_count": 131,
   "metadata": {
    "collapsed": false
   },
   "outputs": [
    {
     "data": {
      "text/plain": [
       "([1.0,1.0,1.0,1.0,1.0,1.0,1.0,1.0,1.0,1.0  …  1.0,1.0,1.0,1.0,1.0,1.0,1.0,1.0,1.0,1.0],20)"
      ]
     },
     "execution_count": 131,
     "metadata": {},
     "output_type": "execute_result"
    }
   ],
   "source": [
    "A = rand(100,100) + 100*eye(100)\n",
    "b = A*ones(100)\n",
    "x, k = gauss_jacobi(A, b)"
   ]
  },
  {
   "cell_type": "markdown",
   "metadata": {},
   "source": [
    "## Gauss-Seidel\n",
    "\n",
    "Olhe por extenso para o Gauss-Jacobi $3\\times 3$:\n",
    "\n",
    "\\begin{align*}\n",
    "x_1^{k+1} & = \\frac{1}{a_{11}} (b_1 - a_{12} x_2^k - a_{13} x_3^k) \\\\\n",
    "x_2^{k+1} & = \\frac{1}{a_{22}} (b_2 - a_{21} x_1^k - a_{23} x_3^k) \\\\\n",
    "x_3^{k+1} & = \\frac{1}{a_{33}} (b_3 - a_{31} x_1^k - a_{32} x_2^k)\n",
    "\\end{align*}"
   ]
  },
  {
   "cell_type": "markdown",
   "metadata": {},
   "source": [
    "Ao calcular $x_2^{k+1}$ já temos $x_1^{k+1}$ atualizado. Uma possível atualização seria fazer"
   ]
  },
  {
   "cell_type": "markdown",
   "metadata": {},
   "source": [
    "\\begin{align*}\n",
    "x_1^{k+1} & = \\frac{1}{a_{11}} (b_1 - a_{12} x_2^k - a_{13} x_3^k) \\\\\n",
    "x_2^{k+1} & = \\frac{1}{a_{22}} (b_2 - a_{21} x_1^{k+1} - a_{23} x_3^k) \\\\\n",
    "x_3^{k+1} & = \\frac{1}{a_{33}} (b_3 - a_{31} x_1^{k+1} - a_{32} x_2^{k+1})\n",
    "\\end{align*}"
   ]
  },
  {
   "cell_type": "markdown",
   "metadata": {},
   "source": [
    "Essa escolha equivale a $M = L$, a triangular inferior de $A$ (a diagonal **não** é unitária)."
   ]
  },
  {
   "cell_type": "code",
   "execution_count": 132,
   "metadata": {
    "collapsed": false
   },
   "outputs": [
    {
     "data": {
      "text/plain": [
       "gauss_seidel2 (generic function with 1 method)"
      ]
     },
     "execution_count": 132,
     "metadata": {},
     "output_type": "execute_result"
    }
   ],
   "source": [
    "# Modo C/Fortran\n",
    "function gauss_seidel2(A, b; tol=1e-6, maxiter = 100)\n",
    "    n = length(b)\n",
    "    x = zeros(n)\n",
    "    xnew = zeros(n)\n",
    "    for i = 1:n\n",
    "        xnew[i] = b[i]/A[i,i]\n",
    "    end\n",
    "    # Esquece o escalamento por enquanto\n",
    "    iter = 0\n",
    "    while norm(xnew - x, Inf) > tol\n",
    "        for i = 1:n\n",
    "            x[i] = xnew[i]\n",
    "        end\n",
    "        for i = 1:n\n",
    "            xnew[i] = b[i]\n",
    "            for j = 1:i-1\n",
    "                xnew[i] -= A[i,j] * xnew[j]\n",
    "            end\n",
    "            for j = i+1:n\n",
    "                xnew[i] -= A[i,j] * x[j]\n",
    "            end\n",
    "            xnew[i] = xnew[i]/A[i,i]\n",
    "        end\n",
    "        iter += 1\n",
    "        if iter >= maxiter\n",
    "            break\n",
    "        end\n",
    "    end\n",
    "    return xnew, iter\n",
    "end"
   ]
  },
  {
   "cell_type": "code",
   "execution_count": 133,
   "metadata": {
    "collapsed": false
   },
   "outputs": [
    {
     "data": {
      "text/plain": [
       "([1.0,1.0,1.0,1.0,1.0,1.0,1.0,1.0,1.0,1.0  …  1.0,1.0,1.0,1.0,1.0,1.0,1.0,1.0,1.0,1.0],21)"
      ]
     },
     "execution_count": 133,
     "metadata": {},
     "output_type": "execute_result"
    }
   ],
   "source": [
    "gauss_jacobi2(A, b)"
   ]
  },
  {
   "cell_type": "code",
   "execution_count": 134,
   "metadata": {
    "collapsed": false,
    "scrolled": true
   },
   "outputs": [
    {
     "data": {
      "text/plain": [
       "([1.0,1.0,1.0,1.0,1.0,1.0,1.0,1.0,1.0,1.0  …  1.0,1.0,1.0,1.0,1.0,1.0,1.0,1.0,1.0,1.0],8)"
      ]
     },
     "execution_count": 134,
     "metadata": {},
     "output_type": "execute_result"
    }
   ],
   "source": [
    "gauss_seidel2(A, b)"
   ]
  },
  {
   "cell_type": "code",
   "execution_count": 140,
   "metadata": {
    "collapsed": false
   },
   "outputs": [
    {
     "data": {
      "text/plain": [
       "gauss_seidel3 (generic function with 1 method)"
      ]
     },
     "execution_count": 140,
     "metadata": {},
     "output_type": "execute_result"
    }
   ],
   "source": [
    "# Modo C/Fortran\n",
    "function gauss_seidel3(A, b; tol=1e-6, maxiter = 100)\n",
    "    n = length(b)\n",
    "    x = zeros(n)\n",
    "    # Esquece o escalamento por enquanto\n",
    "    iter = 0\n",
    "    errox = 1.0\n",
    "    while errox > tol\n",
    "        errox = 0.0\n",
    "        for i = 1:n\n",
    "            xi = x[i]\n",
    "            s = b[i]\n",
    "            for j = 1:i-1\n",
    "                s -= A[i,j] * x[j]\n",
    "            end\n",
    "            for j = i+1:n\n",
    "                s -= A[i,j] * x[j]\n",
    "            end\n",
    "            x[i] = s/A[i,i]\n",
    "            errox = max(errox, abs(x[i] - xi))\n",
    "        end\n",
    "        iter += 1\n",
    "        if iter >= maxiter\n",
    "            break\n",
    "        end\n",
    "    end\n",
    "    return x, iter\n",
    "end"
   ]
  },
  {
   "cell_type": "code",
   "execution_count": 141,
   "metadata": {
    "collapsed": false
   },
   "outputs": [
    {
     "data": {
      "text/plain": [
       "([1.0,1.0,1.0,1.0,1.0,1.0,1.0,1.0,1.0,1.0  …  1.0,1.0,1.0,1.0,1.0,1.0,1.0,1.0,1.0,1.0],8)"
      ]
     },
     "execution_count": 141,
     "metadata": {},
     "output_type": "execute_result"
    }
   ],
   "source": [
    "gauss_seidel3(A, b)"
   ]
  },
  {
   "cell_type": "code",
   "execution_count": 142,
   "metadata": {
    "collapsed": false
   },
   "outputs": [
    {
     "data": {
      "text/plain": [
       "tri_inf (generic function with 1 method)"
      ]
     },
     "execution_count": 142,
     "metadata": {},
     "output_type": "execute_result"
    }
   ],
   "source": [
    "function tri_inf(L, b; tol=1e-12)\n",
    "    n = length(b)\n",
    "    c = zeros(n)\n",
    "    for i = 1:n\n",
    "        if abs(L[i,i]) < tol\n",
    "            error(\"Lᵢᵢ ≈ 0.0\")\n",
    "        end\n",
    "        c[i] = b[i]\n",
    "        for j = i-1:-1:1\n",
    "            c[i] -= L[i,j]*c[j]\n",
    "        end\n",
    "        c[i] = c[i]/L[i,i]\n",
    "    end\n",
    "    return c\n",
    "end"
   ]
  },
  {
   "cell_type": "code",
   "execution_count": 143,
   "metadata": {
    "collapsed": false
   },
   "outputs": [
    {
     "data": {
      "text/plain": [
       "gauss_seidel (generic function with 1 method)"
      ]
     },
     "execution_count": 143,
     "metadata": {},
     "output_type": "execute_result"
    }
   ],
   "source": [
    "function gauss_seidel(A, b; tol=1e-6, maxiter = 100)\n",
    "    n = length(b)\n",
    "    x = tri_inf(A, b)\n",
    "    r = A*x - b\n",
    "    maxD = maximum(abs(D)) # Escalamento\n",
    "    iter = 0\n",
    "    while norm(r, Inf)/maxD > tol\n",
    "        x = x - tri_inf(A, r) # D^{-1}(Ax-b) = D^{-1}*r = r./D\n",
    "        iter += 1\n",
    "        if iter >= maxiter\n",
    "            break\n",
    "        end\n",
    "        r = A*x - b\n",
    "    end\n",
    "    return x, iter\n",
    "end"
   ]
  },
  {
   "cell_type": "code",
   "execution_count": 144,
   "metadata": {
    "collapsed": false,
    "scrolled": true
   },
   "outputs": [
    {
     "data": {
      "text/plain": [
       "([1.0,1.0,1.0,1.0,1.0,1.0,1.0,1.0,1.0,1.0  …  1.0,1.0,1.0,1.0,1.0,1.0,1.0,1.0,1.0,1.0],7)"
      ]
     },
     "execution_count": 144,
     "metadata": {},
     "output_type": "execute_result"
    }
   ],
   "source": [
    "gauss_seidel(A, b)"
   ]
  },
  {
   "cell_type": "markdown",
   "metadata": {},
   "source": [
    "## Convergência\n",
    "\n",
    "- Critério das linhas\n",
    "- Critério de Sassenfeld\n",
    "- Raio espectral"
   ]
  },
  {
   "cell_type": "code",
   "execution_count": 154,
   "metadata": {
    "collapsed": false
   },
   "outputs": [
    {
     "data": {
      "text/plain": [
       "2-element Array{Float64,1}:\n",
       " 2.0\n",
       " 8.0"
      ]
     },
     "execution_count": 154,
     "metadata": {},
     "output_type": "execute_result"
    }
   ],
   "source": [
    "A = [4.0 -1; 2 3]\n",
    "b = A*[1.0; 2.0]"
   ]
  },
  {
   "cell_type": "code",
   "execution_count": 155,
   "metadata": {
    "collapsed": false
   },
   "outputs": [
    {
     "data": {
      "text/plain": [
       "([0.9999997023129096,2.0000003969161204],16)"
      ]
     },
     "execution_count": 155,
     "metadata": {},
     "output_type": "execute_result"
    }
   ],
   "source": [
    "gauss_jacobi(A, b)"
   ]
  },
  {
   "cell_type": "code",
   "execution_count": 156,
   "metadata": {
    "collapsed": false
   },
   "outputs": [
    {
     "data": {
      "text/plain": [
       "2-element Array{Float64,1}:\n",
       " 8.0\n",
       " 2.0"
      ]
     },
     "execution_count": 156,
     "metadata": {},
     "output_type": "execute_result"
    }
   ],
   "source": [
    "A = [2.0 3.0; 4.0 -1]\n",
    "b = A*[1.0; 2.0]"
   ]
  },
  {
   "cell_type": "code",
   "execution_count": 157,
   "metadata": {
    "collapsed": false
   },
   "outputs": [
    {
     "data": {
      "text/plain": [
       "([2.424843832394292e39,-3.233125109859056e39],100)"
      ]
     },
     "execution_count": 157,
     "metadata": {},
     "output_type": "execute_result"
    }
   ],
   "source": [
    "gauss_jacobi(A, b)"
   ]
  },
  {
   "cell_type": "markdown",
   "metadata": {},
   "source": [
    "### Comparação\n",
    "\n",
    "- Esparsidade\n",
    "- Precisão"
   ]
  }
 ],
 "metadata": {
  "kernelspec": {
   "display_name": "Julia 0.4.6",
   "language": "julia",
   "name": "julia-0.4"
  },
  "language_info": {
   "file_extension": ".jl",
   "mimetype": "application/julia",
   "name": "julia",
   "version": "0.4.6"
  }
 },
 "nbformat": 4,
 "nbformat_minor": 0
}
