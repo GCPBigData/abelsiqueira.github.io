{
 "cells": [
  {
   "cell_type": "code",
   "execution_count": 3,
   "metadata": {
    "collapsed": true
   },
   "outputs": [],
   "source": [
    "using NLPModels, Krylov, LinearOperators"
   ]
  },
  {
   "cell_type": "markdown",
   "metadata": {},
   "source": [
    "$$\n",
    "\\min \\qquad f(x) \\\\\n",
    "\\mbox{s. a} \\qquad c(x) = 0\n",
    "$$"
   ]
  },
  {
   "cell_type": "markdown",
   "metadata": {},
   "source": [
    "Newton\n",
    "$$\n",
    "\\left[\\begin{array}{cc}\n",
    "B_k & A_k^T \\\\ A_k & 0\n",
    "\\end{array}\\right]\n",
    "\\left[\\begin{array}{c}\n",
    "d_x \\\\ d_{\\lambda}\n",
    "\\end{array}\\right]\n",
    "=\n",
    "\\left[\\begin{array}{c}\n",
    "-\\nabla f(x^k) - A_k^T\\lambda^k \\\\ -c^k\n",
    "\\end{array}\\right]\n",
    "$$"
   ]
  },
  {
   "cell_type": "markdown",
   "metadata": {},
   "source": [
    "que podemos escrever como\n",
    "$$\n",
    "\\left[\\begin{array}{cc}\n",
    "B_k & A_k^T \\\\ A_k & 0\n",
    "\\end{array}\\right]\n",
    "\\left[\\begin{array}{c}\n",
    "d_x \\\\ \\lambda^{k+1}\n",
    "\\end{array}\\right]\n",
    "=\n",
    "\\left[\\begin{array}{c}\n",
    "-\\nabla f(x^k) \\\\ -c^k\n",
    "\\end{array}\\right]\n",
    "$$\n",
    "Que pode ser visto como\n",
    "$$\n",
    "\\min \\qquad \\frac{1}{2}d^TB_kd + d^Tg^k \\\\\n",
    "\\mbox{suj. a} \\qquad A_kd = -c^k\n",
    "$$\n",
    "Usando região de confiança, fica\n",
    "$$\n",
    "\\min \\qquad \\frac{1}{2}d^TB_kd + d^Tg^k \\\\\n",
    "\\mbox{suj. a} \\qquad A_kd = -c^k \\\\\n",
    "\\qquad \\qquad \\Vert d\\Vert \\leq \\Delta_k\n",
    "$$"
   ]
  },
  {
   "cell_type": "markdown",
   "metadata": {},
   "source": [
    "O problema dessa estratégia é resolver esse subproblema, que pode nem ter solução.\n",
    "Uma opção é relaxar essa condição, mudando para\n",
    "$$\n",
    "\\min \\qquad \\frac{1}{2}d^TB_kd + d^Tg^k \\\\\n",
    "\\mbox{suj. a} \\qquad A_kd + c^k = r^k \\\\\n",
    "\\qquad \\qquad \\Vert d\\Vert \\leq \\Delta_k,\n",
    "$$\n",
    "onde $r^k$ deveria ser apenas pequeno suficiente para deixar esse problema factível.\n",
    "Uma escolha que além disso, também facilita o método é\n",
    "$r^k = A_k v^k + c^k$, onde $v^k$ é a solução do problema\n",
    "$$\n",
    "\\min \\qquad \\frac{1}{2}\\Vert A_k v + c^k \\Vert^2 \\\\\n",
    "\\mbox{suj. a} \\qquad \\Vert v\\Vert \\leq 0.8\\Delta_k,\n",
    "$$\n"
   ]
  },
  {
   "cell_type": "markdown",
   "metadata": {},
   "source": [
    "Substituindo $r^k = A_kv^k + c^k$ na equação, obtemos $A_k(d - v^k) = 0$,\n",
    "de maneira que podemos fazer\n",
    "$d = v^k + s$, obtendo a equação $A_k s = 0$. Dessa maneira,\n",
    "podemos escrever $s = Z_ku$, onde $Z_k$ é uma matriz que gera o espaço nulo\n",
    "de $A_k$. Assim, $d = v^k + Z_ku$.\n",
    "Como $v^k$ está no espaço imagem de $A_k^T$ (não é trivial), então\n",
    "$$\\Vert d\\Vert^2 = \\Vert v^k\\Vert^2 + \\Vert Z_ku\\Vert^2,$$\n",
    "por pitágoras.\n",
    "\n",
    "O subproblema em $u$ fica\n",
    "$$\n",
    "\\min \\qquad \\frac{1}{2}u^TZ_k^TB_kZ_k + u^TZ_k^T(B_kv^k + g^k) \\\\\n",
    "\\mbox{suj. a} \\qquad \\Vert Z_k u\\Vert^2 \\leq \\sqrt{\\Delta_k^2 - \\Vert v_k\\Vert^2}.\n",
    "$$"
   ]
  },
  {
   "cell_type": "markdown",
   "metadata": {},
   "source": [
    "Aqui removemos $A_k s = 0$, mas temos que lidar com $Z_k$.\n",
    "Na implementação, podemos trabalhar com gradientes conjugados precondicionados por uma\n",
    "matriz que projete no espaço nulo de $A_k$, e resolvemos esse problema aproximadamente.\n",
    "A implementação é bastante complicada.\n",
    "\n",
    "Outro ponto, para encontrar $v^k$, podemos resolver esse problema aproximadamente também."
   ]
  },
  {
   "cell_type": "code",
   "execution_count": 10,
   "metadata": {
    "collapsed": false
   },
   "outputs": [
    {
     "name": "stderr",
     "output_type": "stream",
     "text": [
      "WARNING: Method definition stepsize_to_radius(Any, Any, Any) in module Main at In[9]:6 overwritten at In[10]:6.\n",
      "WARNING: Method definition #stepsize_to_radius(Array{Any, 1}, Main.#stepsize_to_radius, Any, Any, Any) in module Main overwritten.\n",
      "WARNING: replacing docs for 'stepsize_to_radius :: Tuple{Any,Any,Any}' in module 'Main'.\n"
     ]
    },
    {
     "data": {
      "text/plain": [
       "stepsize_to_radius"
      ]
     },
     "execution_count": 10,
     "metadata": {},
     "output_type": "execute_result"
    }
   ],
   "source": [
    "\"\"\"stepsize_to_radius(u, v, Δ)\n",
    "\n",
    "finds τ such that |u + τv| = Δ, under the hypothesis that |u| < Δ.\n",
    "\"\"\"\n",
    "function stepsize_to_radius(u, v, Δ; eval::Nullable{Function} = Nullable{Function}())\n",
    "    utu = dot(u, u)\n",
    "    @assert utu <= Δ\n",
    "    vtv = dot(v, v)\n",
    "    @assert vtv > 0\n",
    "    utv = dot(u, v)\n",
    "    δ = sqrt(utv^2 - vtv*(utu-Δ^2))\n",
    "    τ = 0\n",
    "    if isnull(eval)\n",
    "        τ = (-utv + δ)/vtv\n",
    "        if τ < 0\n",
    "            τ = -(utv + δ)/vtv\n",
    "        end\n",
    "    else\n",
    "        τ1 = (-utv + δ)/vtv\n",
    "        τ2 = (-utv - δ)/vtv\n",
    "        q1, q2 = eval(τ1), eval(τ2)\n",
    "        τ = q1 < q2 ? τ1 : τ2\n",
    "    end\n",
    "    return τ\n",
    "end"
   ]
  },
  {
   "cell_type": "code",
   "execution_count": 11,
   "metadata": {
    "collapsed": false
   },
   "outputs": [
    {
     "name": "stderr",
     "output_type": "stream",
     "text": [
      "WARNING: Method definition dogleg_ls(Any, Any, Any) in module Main at In[6]:11 overwritten at In[11]:11.\n",
      "WARNING: replacing docs for 'dogleg_ls :: Tuple{Any,Any,Any}' in module 'Main'.\n"
     ]
    },
    {
     "data": {
      "text/plain": [
       "dogleg_ls"
      ]
     },
     "execution_count": 11,
     "metadata": {},
     "output_type": "execute_result"
    }
   ],
   "source": [
    "\"\"\"d = dogleg_ls(A, c, Δ)\n",
    "\n",
    "Solves approximately\n",
    "\n",
    "min ¹/₂|Ad + c|^2\n",
    "s.t |d| ≦ Δ\n",
    "\n",
    "using Dogleg.\n",
    "\"\"\"\n",
    "function dogleg_ls(A, c, Δ)\n",
    "    dG = -A' * c\n",
    "    ndG = norm(dG)\n",
    "    if ndG > Δ\n",
    "        return (Δ / ndG) * dG\n",
    "    end\n",
    "    dN = -Krylov.cgls(A, c)[1]\n",
    "    if norm(dN) <= Δ\n",
    "        return dN\n",
    "    end\n",
    "    r = dN - dG\n",
    "    return dG + r * stepsize_to_radius(dG, r, Δ)\n",
    "end"
   ]
  },
  {
   "cell_type": "code",
   "execution_count": 221,
   "metadata": {
    "collapsed": false
   },
   "outputs": [
    {
     "name": "stderr",
     "output_type": "stream",
     "text": [
      "WARNING: Method definition steihaug_nullspace(Any, Any, LinearOperators.LinearOperator, Any) in module Main at In[142]:9 overwritten at In[221]:9.\n",
      "WARNING: Method definition #steihaug_nullspace(Array{Any, 1}, Main.#steihaug_nullspace, Any, Any, LinearOperators.LinearOperator, Any) in module Main overwritten.\n",
      "WARNING: replacing docs for 'steihaug_nullspace :: Tuple{Any,Any,LinearOperators.LinearOperator,Any}' in module 'Main'.\n"
     ]
    },
    {
     "data": {
      "text/plain": [
       "steihaug_nullspace"
      ]
     },
     "execution_count": 221,
     "metadata": {},
     "output_type": "execute_result"
    }
   ],
   "source": [
    "\"\"\"d = steihaug_nullspace(B, g, Z, Δ)\n",
    "\n",
    "Solves\n",
    "\n",
    "min ¹/₂uᵀZᵀBZu + gᵀZu\n",
    "s.t.  |Zu| ≦ Δ\n",
    "\"\"\"\n",
    "function steihaug_nullspace(B, g, Z::LinearOperator, Δ; ϵ=1e-6, itmax=0)\n",
    "    n = length(g)\n",
    "    itmax = max(50, 5n)\n",
    "    Zu = zeros(n)\n",
    "    r = Z'*g\n",
    "    t = Krylov.cg(Z' * Z, -r)[1]\n",
    "    Zp = Z * t\n",
    "    θ = dot(r, t)\n",
    "    if θ < ϵ\n",
    "        γ = dot(Zp, B*Zp)\n",
    "        #println(\"Cauchy: γ: $γ\")\n",
    "        if γ <= 0.0\n",
    "            return -Zp * (Δ/norm(Zp))\n",
    "        else\n",
    "            return -Zp * min(Δ/norm(Zp), dot(Zp, g)/γ)\n",
    "        end\n",
    "    end\n",
    "    θ₀ = θ\n",
    "    iter = 0\n",
    "    while iter < itmax\n",
    "        γ = dot(Zp, B*Zp)\n",
    "        nZp = norm(Zp)\n",
    "        if γ <= 1e-8*nZp^2\n",
    "            #println(\"Neg curvature\")\n",
    "            return Zu + Zp * stepsize_to_radius(Zu, Zp, Δ)\n",
    "        end\n",
    "        α = θ/γ\n",
    "        if norm(Zu + α * Zp) > Δ\n",
    "            #println(\"On the border\")\n",
    "            return Zu + Zp * stepsize_to_radius(Zu, p, Δ)\n",
    "        end\n",
    "        Zu += α * Zp\n",
    "        r -= α * Z' * B * Zp\n",
    "        t = Krylov.cg(Z' * Z, -r)[1]\n",
    "        θn = dot(t, r)\n",
    "        if θn < ϵ * θ₀\n",
    "            #println(\"Optimal\")\n",
    "            return Zu\n",
    "        end\n",
    "        β = θn/θ\n",
    "        θ = θn\n",
    "        Zp = Z * t  + β * Zp\n",
    "        iter += 1\n",
    "    end\n",
    "    return Zu\n",
    "end"
   ]
  },
  {
   "cell_type": "code",
   "execution_count": null,
   "metadata": {
    "collapsed": true
   },
   "outputs": [],
   "source": [
    "function nullspace(A)\n",
    "    \n",
    "end"
   ]
  },
  {
   "cell_type": "code",
   "execution_count": 222,
   "metadata": {
    "collapsed": false
   },
   "outputs": [
    {
     "name": "stderr",
     "output_type": "stream",
     "text": [
      "WARNING: Method definition treq(NLPModels.AbstractNLPModel) in module Main at In[216]:3 overwritten at In[222]:3.\n",
      "WARNING: Method definition #treq(Array{Any, 1}, Main.#treq, NLPModels.AbstractNLPModel) in module Main overwritten.\n"
     ]
    },
    {
     "data": {
      "text/plain": [
       "treq (generic function with 7 methods)"
      ]
     },
     "execution_count": 222,
     "metadata": {},
     "output_type": "execute_result"
    }
   ],
   "source": [
    "function treq(nlp::AbstractNLPModel; itmax=10000, η₁ = 1e-2,\n",
    "        η₂ = 0.75, σ₁ = 0.25, σ₂ = 4, ϵ = 1e-6)\n",
    "    x = nlp.meta.x0\n",
    "    \n",
    "    f = obj(nlp, x)\n",
    "    g = grad(nlp, x)\n",
    "    H = hess_op(nlp, x)\n",
    "    c = cons(nlp, x)\n",
    "    m = length(c)\n",
    "    A = jac(nlp, x) # Note que nao é op\n",
    "    Z = nullspace(A)\n",
    "    \n",
    "    λ = nlp.meta.y0\n",
    "    ∇L = g + A'*λ\n",
    "    Δ = max(1.0, min(100.0, 0.1*norm(g)))\n",
    "    \n",
    "    μ = 1.0\n",
    "    \n",
    "    iter = 0\n",
    "    while (norm(∇L) > ϵ || norm(c) > ϵ) && (iter <= itmax)\n",
    "        ## v^k por Dogleg\n",
    "        v = dogleg_ls(A, c, 0.8Δ)\n",
    "        s = steihaug_nullspace(B, B*v + g, Z, sqrt(Δ - norm(v)))\n",
    "        \n",
    "        d = v + s\n",
    "        #println(\"x = $x\")\n",
    "        #println(\"|c| = $(norm(c))\")\n",
    "        #println(\"|gL| = $(norm(∇L))\")\n",
    "        #println(\"v = $v\")\n",
    "        #println(\"s = $s\")\n",
    "        xt = x + d\n",
    "        ft = obj(nlp, xt)\n",
    "        ct = cons(nlp, xt)\n",
    "        \n",
    "        q = dot(d,g) + 0.5*dot(d, B*d)\n",
    "        difc = norm(c) - norm(A*d + c)\n",
    "        μplus = abs(difc) < 1e-4 ? μ : max(μ, 0.1 + q/difc)\n",
    "        \n",
    "        Ared = f - ft + μ * (norm(c) - norm(ct))\n",
    "        Pred = -q + μ * difc\n",
    "        #println(\"Ared = $Ared, δf = $(f-ft), δc = $(norm(c)-norm(ct))\")\n",
    "        #println(\"Pred = $Pred\")\n",
    "        #println(\"μ+ = $μplus\")\n",
    "        ρ = Ared/Pred\n",
    "        \n",
    "        #println(\"ρ = $ρ\")\n",
    "        \n",
    "        if ρ > η₁\n",
    "            x = xt\n",
    "            f = ft\n",
    "            c = ct\n",
    "            g = grad(nlp, x)\n",
    "            H = hess_op(nlp, x)\n",
    "            A = jac(nlp, x)\n",
    "            Z = nullspace(A)\n",
    "            λ = Krylov.cgls(A', -g)[1]\n",
    "            ∇L = g + A'*λ\n",
    "            \n",
    "            μ = μplus\n",
    "            if ρ > η₂\n",
    "                Δ *= σ₂\n",
    "            end\n",
    "        else\n",
    "            Δ = max(0.1Δ, max(σ₁ * min(Δ, norm(d))))\n",
    "            μ = 5μ\n",
    "        end\n",
    "        #println(\"Δ = $Δ\")\n",
    "        iter += 1\n",
    "    end\n",
    "    ef = (norm(∇L) <= ϵ && norm(c) <= ϵ) ? 0 : 1\n",
    "    return x, f, norm(∇L), norm(c), ef, iter\n",
    "end"
   ]
  },
  {
   "cell_type": "code",
   "execution_count": 223,
   "metadata": {
    "collapsed": false
   },
   "outputs": [
    {
     "data": {
      "text/plain": [
       "NLPModels.ADNLPModel(Minimization problem Generic\n",
       "nvar = 2, ncon = 1 (0 linear)\n",
       ",NLPModels.Counters(0,0,0,0,0,0,0,0,0,0,0),#202,#201)"
      ]
     },
     "execution_count": 223,
     "metadata": {},
     "output_type": "execute_result"
    }
   ],
   "source": [
    "nlp = ADNLPModel(x->dot(x,[1.0;2.0].*x), zeros(2), c=x->[sum(x)-1], lcon=[0.0], ucon=[0.0])"
   ]
  },
  {
   "cell_type": "code",
   "execution_count": 224,
   "metadata": {
    "collapsed": false,
    "scrolled": false
   },
   "outputs": [
    {
     "data": {
      "text/plain": [
       "([0.666667,0.333333],0.6666666666666666,0.0,0.0,0,2)"
      ]
     },
     "execution_count": 224,
     "metadata": {},
     "output_type": "execute_result"
    }
   ],
   "source": [
    "treq(nlp, itmax=10)"
   ]
  },
  {
   "cell_type": "code",
   "execution_count": 227,
   "metadata": {
    "collapsed": false
   },
   "outputs": [
    {
     "data": {
      "text/plain": [
       "NLPModels.ADNLPModel(Minimization problem Generic\n",
       "nvar = 2, ncon = 1 (0 linear)\n",
       ",NLPModels.Counters(0,0,0,0,0,0,0,0,0,0,0),#210,#209)"
      ]
     },
     "execution_count": 227,
     "metadata": {},
     "output_type": "execute_result"
    }
   ],
   "source": [
    "nlp = ADNLPModel(x->(x[1]-1)^2 + 4*(x[2]-x[1]^2)^2, zeros(2),\n",
    "    c=x->[sum(x)-1], lcon=[0.0], ucon=[0.0])"
   ]
  },
  {
   "cell_type": "code",
   "execution_count": 228,
   "metadata": {
    "collapsed": false
   },
   "outputs": [
    {
     "data": {
      "text/plain": [
       "([-1.04454,2.04454],7.8166201909914665,2.9827225834204296,0.0,1,101)"
      ]
     },
     "execution_count": 228,
     "metadata": {},
     "output_type": "execute_result"
    }
   ],
   "source": [
    "treq(nlp, itmax=100)"
   ]
  },
  {
   "cell_type": "code",
   "execution_count": 229,
   "metadata": {
    "collapsed": false
   },
   "outputs": [
    {
     "ename": "LoadError",
     "evalue": "LoadError: MethodError: no method matching qrfact!(::SparseMatrixCSC{Float64,Int64}, ::Type{Val{false}})\nClosest candidates are:\n  qrfact!{T<:Union{Complex{Float32},Complex{Float64},Float32,Float64}}(!Matched::Union{Base.ReshapedArray{T<:Union{Complex{Float32},Complex{Float64},Float32,Float64},2,A<:DenseArray,MI<:Tuple{Vararg{Base.MultiplicativeInverses.SignedMultiplicativeInverse{Int64},N}}},DenseArray{T<:Union{Complex{Float32},Complex{Float64},Float32,Float64},2},SubArray{T<:Union{Complex{Float32},Complex{Float64},Float32,Float64},2,A<:Union{Base.ReshapedArray{T,N,A<:DenseArray,MI<:Tuple{Vararg{Base.MultiplicativeInverses.SignedMultiplicativeInverse{Int64},N}}},DenseArray},I<:Tuple{Vararg{Union{Base.AbstractCartesianIndex,Colon,Int64,Range{Int64}},N}},L}}, ::Type{Val{false}}) at linalg/qr.jl:88\n  qrfact!(!Matched::Union{Base.ReshapedArray{T,2,A<:DenseArray,MI<:Tuple{Vararg{Base.MultiplicativeInverses.SignedMultiplicativeInverse{Int64},N}}},DenseArray{T,2},SubArray{T,2,A<:Union{Base.ReshapedArray{T,N,A<:DenseArray,MI<:Tuple{Vararg{Base.MultiplicativeInverses.SignedMultiplicativeInverse{Int64},N}}},DenseArray},I<:Tuple{Vararg{Union{Base.AbstractCartesianIndex,Colon,Int64,Range{Int64}},N}},L}}, ::Type{Val{false}}) at linalg/qr.jl:93\nwhile loading In[229], in expression starting on line 3",
     "output_type": "error",
     "traceback": [
      "LoadError: MethodError: no method matching qrfact!(::SparseMatrixCSC{Float64,Int64}, ::Type{Val{false}})\nClosest candidates are:\n  qrfact!{T<:Union{Complex{Float32},Complex{Float64},Float32,Float64}}(!Matched::Union{Base.ReshapedArray{T<:Union{Complex{Float32},Complex{Float64},Float32,Float64},2,A<:DenseArray,MI<:Tuple{Vararg{Base.MultiplicativeInverses.SignedMultiplicativeInverse{Int64},N}}},DenseArray{T<:Union{Complex{Float32},Complex{Float64},Float32,Float64},2},SubArray{T<:Union{Complex{Float32},Complex{Float64},Float32,Float64},2,A<:Union{Base.ReshapedArray{T,N,A<:DenseArray,MI<:Tuple{Vararg{Base.MultiplicativeInverses.SignedMultiplicativeInverse{Int64},N}}},DenseArray},I<:Tuple{Vararg{Union{Base.AbstractCartesianIndex,Colon,Int64,Range{Int64}},N}},L}}, ::Type{Val{false}}) at linalg/qr.jl:88\n  qrfact!(!Matched::Union{Base.ReshapedArray{T,2,A<:DenseArray,MI<:Tuple{Vararg{Base.MultiplicativeInverses.SignedMultiplicativeInverse{Int64},N}}},DenseArray{T,2},SubArray{T,2,A<:Union{Base.ReshapedArray{T,N,A<:DenseArray,MI<:Tuple{Vararg{Base.MultiplicativeInverses.SignedMultiplicativeInverse{Int64},N}}},DenseArray},I<:Tuple{Vararg{Union{Base.AbstractCartesianIndex,Colon,Int64,Range{Int64}},N}},L}}, ::Type{Val{false}}) at linalg/qr.jl:93\nwhile loading In[229], in expression starting on line 3",
      "",
      " in qrfact(::SparseMatrixCSC{Float64,Int32}, ::Type{T}) at qr.jl:164",
      " in #_qr#16 at qr.jl:176 [inlined]",
      " in (::Base.LinAlg.#kw##_qr)(::Array{Any,1}, ::Base.LinAlg.#_qr, ::SparseMatrixCSC{Float64,Int32}, ::Type{Val{false}}) at <missing>:0",
      " in (::Base.LinAlg.#kw##qr)(::Array{Any,1}, ::Base.LinAlg.#qr, ::SparseMatrixCSC{Float64,Int32}, ::Type{Val{false}}) at <missing>:0 (repeats 2 times)",
      " in #treq#200(::Int64, ::Float64, ::Float64, ::Float64, ::Int64, ::Float64, ::Function, ::CUTEst.CUTEstModel) at In[222]:11",
      " in (::#kw##treq)(::Array{Any,1}, ::#treq, ::CUTEst.CUTEstModel) at <missing>:0"
     ]
    }
   ],
   "source": [
    "using CUTEst\n",
    "nlp = CUTEstModel(\"BT1\")\n",
    "treq(nlp, itmax=100)\n",
    "finalize(nlp)"
   ]
  },
  {
   "cell_type": "code",
   "execution_count": 64,
   "metadata": {
    "collapsed": false
   },
   "outputs": [
    {
     "data": {
      "text/plain": [
       "2-element Array{Float64,1}:\n",
       " 0.0\n",
       " 0.0"
      ]
     },
     "execution_count": 64,
     "metadata": {},
     "output_type": "execute_result"
    }
   ],
   "source": [
    "x = nlp.meta.x0"
   ]
  },
  {
   "cell_type": "code",
   "execution_count": 86,
   "metadata": {
    "collapsed": false
   },
   "outputs": [
    {
     "data": {
      "text/plain": [
       "2-element Array{Float64,1}:\n",
       " -0.0\n",
       " -0.0"
      ]
     },
     "execution_count": 86,
     "metadata": {},
     "output_type": "execute_result"
    }
   ],
   "source": [
    "A = jac_op(nlp, x)\n",
    "c = cons(nlp, x)\n",
    "v = dogleg_ls(A, c, 0.8)"
   ]
  },
  {
   "cell_type": "code",
   "execution_count": 87,
   "metadata": {
    "collapsed": false
   },
   "outputs": [
    {
     "data": {
      "text/plain": [
       "Linear operator\n",
       "  nrow: 2\n",
       "  ncol: 1\n",
       "  eltype: Float64\n",
       "  symmetric: false\n",
       "  hermitian: false\n",
       "  prod:   LinearOperators.#2\n",
       "  tprod:  Nullable{Function}(LinearOperators.#3)\n",
       "  ctprod: Nullable{Function}(LinearOperators.#4)\n"
      ]
     },
     "execution_count": 87,
     "metadata": {},
     "output_type": "execute_result"
    }
   ],
   "source": [
    "(Q,R) = qr(jac(nlp, x)', thin=false)\n",
    "m = size(A,1)\n",
    "Z = LinearOperator(Q[:,m+1:end])"
   ]
  },
  {
   "cell_type": "code",
   "execution_count": 88,
   "metadata": {
    "collapsed": false
   },
   "outputs": [
    {
     "data": {
      "text/plain": [
       "Linear operator\n",
       "  nrow: 2\n",
       "  ncol: 2\n",
       "  eltype: Float64\n",
       "  symmetric: true\n",
       "  hermitian: true\n",
       "  prod:   NLPModels.#17\n",
       "  tprod:  Nullable{Function}()\n",
       "  ctprod: Nullable{Function}()\n"
      ]
     },
     "execution_count": 88,
     "metadata": {},
     "output_type": "execute_result"
    }
   ],
   "source": [
    "B = hess_op(nlp, x)"
   ]
  },
  {
   "cell_type": "code",
   "execution_count": 89,
   "metadata": {
    "collapsed": false
   },
   "outputs": [
    {
     "data": {
      "text/plain": [
       "2-element Array{Float64,1}:\n",
       " -1.50849\n",
       "  7.01699"
      ]
     },
     "execution_count": 89,
     "metadata": {},
     "output_type": "execute_result"
    }
   ],
   "source": [
    "g = grad(nlp, x)"
   ]
  },
  {
   "cell_type": "code",
   "execution_count": 90,
   "metadata": {
    "collapsed": false
   },
   "outputs": [
    {
     "data": {
      "text/plain": [
       "2-element Array{Float64,1}:\n",
       " -1.42091\n",
       "  1.42091"
      ]
     },
     "execution_count": 90,
     "metadata": {},
     "output_type": "execute_result"
    }
   ],
   "source": [
    "Z*Krylov.cg(Z'*B*Z, Z'*(B*v + g))[1]"
   ]
  },
  {
   "cell_type": "code",
   "execution_count": 91,
   "metadata": {
    "collapsed": false
   },
   "outputs": [
    {
     "data": {
      "text/plain": [
       "2-element Array{Float64,1}:\n",
       " -1.42091\n",
       "  1.42091"
      ]
     },
     "execution_count": 91,
     "metadata": {},
     "output_type": "execute_result"
    }
   ],
   "source": [
    "s = steihaug_nullspace(B, B*v + g, Z, sqrt(1.0 - norm(v)^2))"
   ]
  },
  {
   "cell_type": "code",
   "execution_count": 92,
   "metadata": {
    "collapsed": false
   },
   "outputs": [
    {
     "data": {
      "text/plain": [
       "2-element Array{Float64,1}:\n",
       " -2.17516\n",
       "  3.17516"
      ]
     },
     "execution_count": 92,
     "metadata": {},
     "output_type": "execute_result"
    }
   ],
   "source": [
    "x = x + v + s"
   ]
  },
  {
   "cell_type": "code",
   "execution_count": null,
   "metadata": {
    "collapsed": true
   },
   "outputs": [],
   "source": []
  }
 ],
 "metadata": {
  "kernelspec": {
   "display_name": "Julia 0.5.0",
   "language": "julia",
   "name": "julia-0.5"
  },
  "language_info": {
   "file_extension": ".jl",
   "mimetype": "application/julia",
   "name": "julia",
   "version": "0.5.0"
  }
 },
 "nbformat": 4,
 "nbformat_minor": 0
}
