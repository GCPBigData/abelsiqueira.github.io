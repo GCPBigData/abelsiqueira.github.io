{
 "cells": [
  {
   "cell_type": "markdown",
   "metadata": {},
   "source": [
    "# Modelagem Matemática com o JuMP"
   ]
  },
  {
   "cell_type": "markdown",
   "metadata": {},
   "source": [
    "O JuMP é uma linguagem de modelagem matemática dentro do Julia."
   ]
  },
  {
   "cell_type": "markdown",
   "metadata": {},
   "source": [
    "Linguagens de modelagem recebem uma entrada do usuário descrevendo o problema de uma maneira agradável, e traduz para o **solver**, que irá resolver o problema. Existem diversos solvers, para diferentes tipos de problema.\n",
    "Utilizaremos os seguintes:"
   ]
  },
  {
   "cell_type": "markdown",
   "metadata": {},
   "source": [
    "- Cbc e Clp para programação linear e inteira\n",
    "- Ipopt para programação não-linear"
   ]
  },
  {
   "cell_type": "markdown",
   "metadata": {},
   "source": [
    "## Básicos\n",
    "\n",
    "A ideia básica de criar um modelo em JuMP é definir\n",
    "- Variáveis\n",
    "- Objetivo\n",
    "- Restrições\n",
    "\n",
    "Tradicionalmente, utilizamos conjuntos de índices, que podem ou não ser utilizados em JuMP.\n",
    "\n",
    "Vamos mostrar o básico do JuMP com alguns modelos simples."
   ]
  },
  {
   "cell_type": "markdown",
   "metadata": {},
   "source": [
    "### Exemplo simples\n",
    "\n",
    "Vamos simplesmente encontrar a solução do problema\n",
    "\\begin{align*}\n",
    "\\max & \\quad 2x + 3y \\\\\n",
    "\\text{suj. a} & \\quad x + y \\leq 3 \\\\\n",
    "& \\quad 3x + y \\leq 5 \\\\\n",
    "& \\quad x + 2y \\leq 4 \\\\\n",
    "& \\quad x, y \\geq 0.\n",
    "\\end{align*}"
   ]
  },
  {
   "cell_type": "code",
   "execution_count": null,
   "metadata": {
    "scrolled": false
   },
   "outputs": [],
   "source": [
    "using Plots\n",
    "gr(size=(600,400))\n",
    "\n",
    "c = [2.0; 3.0]\n",
    "contour(linspace(-0.1, 2.5, 30), linspace(-0.1, 2.5, 30),\n",
    "        (x,y)->c[1]*x+c[2]*y, levels=20, leg=false,\n",
    "        aspect_ratio=:equal)\n",
    "plot!(x -> 2.2 - x, -0.2, 2.5, c=:black, lw=2)\n",
    "plot!(x -> 5 - 3x, -0.2, 1.9, c=:black, lw=2)\n",
    "plot!(x -> (4 - x) / 2, -0.2, 4.2, c=:black, lw=2)\n",
    "plot!([0.0; 0.0], [0.0; 2.5], c=:black, lw=2)\n",
    "plot!([0.0; 2.5], [0.0; 0.0], c=:black, lw=2)\n",
    "plot!([0.0; c[1]/5], [0.0; c[2]/5], c=:red, l=:arrow)\n",
    "xlims!(-0.1, 2.5)\n",
    "ylims!(-0.1, 2.5)"
   ]
  },
  {
   "cell_type": "code",
   "execution_count": null,
   "metadata": {},
   "outputs": [],
   "source": [
    "using JuMP, Clp\n",
    "\n",
    "model = Model(solver = ClpSolver()) # Criar o modelo\n",
    "@variable(model, x >= 0)\n",
    "@variable(model, y >= 0)\n",
    "@objective(model, Max, 2x + 3y)\n",
    "@constraint(model, x + y <= 3)\n",
    "@constraint(model, 3x + y <= 5)\n",
    "@constraint(model, x + 2y <= 4)\n",
    "status = solve(model)\n",
    "\n",
    "println(\"status = $status\")\n",
    "println(\"x = $(getvalue(x))\")\n",
    "println(\"y = $(getvalue(y))\")\n",
    "println(\"f = $(getobjectivevalue(model))\")"
   ]
  },
  {
   "cell_type": "markdown",
   "metadata": {},
   "source": [
    "### Exemplo - problema de transporte\n",
    "\n",
    "Uma empresa tem vários centros de produção e vários clientes. Quando um pedido é feito, é necessário decidir de onde sai o produto.\n",
    "\n",
    "Vamos considerar um modelo simples onde cada centro de produção produz $a_i$ unidades, $i = 1,\\dots,m$, e cada cliente tem uma demanda de $b_j$ unidades, $j = 1,\\dots,n$.\n",
    "\n",
    "Vamos denotar por $x_{i,j}$ a quantidade de produtos enviada do centro $i$ para o cliente $j$, e o custo de transporte por unidade é $c_{i,j}$."
   ]
  },
  {
   "cell_type": "markdown",
   "metadata": {},
   "source": [
    "Nosso objetivo é minimizar o custo, ou seja\n",
    "$$ \\min \\sum_{i=1}^m \\sum_{j=1}^n c_{i,j} x_{i,j}. $$"
   ]
  },
  {
   "cell_type": "markdown",
   "metadata": {},
   "source": [
    "Para atender o cliente $j$, podemos enviar de qualquer centro de distribuição, ou seja\n",
    "$$ \\sum_{i=1}^m x_{i,j} \\geq b_j, \\quad \\forall j = 1,\\dots,n.$$"
   ]
  },
  {
   "cell_type": "markdown",
   "metadata": {},
   "source": [
    "Para satisfazer a restrição de produção dos centros, a quantidade enviada para todos os clientes é limitada pelo produzido no centro. Daí,\n",
    "$$ \\sum_{j = 1}^n x_{i,j} \\leq a_i, \\quad \\forall i = 1,\\dots,m $$"
   ]
  },
  {
   "cell_type": "markdown",
   "metadata": {},
   "source": [
    "Logo, nosso modelo é"
   ]
  },
  {
   "cell_type": "code",
   "execution_count": null,
   "metadata": {},
   "outputs": [],
   "source": [
    "a = 10 * ones(5)\n",
    "b = 5 * ones(10)\n",
    "m, n = length(a), length(b)\n",
    "C = rand(10:10:90, m, n) # Fácil de visualizar, mas sem significado físico"
   ]
  },
  {
   "cell_type": "code",
   "execution_count": null,
   "metadata": {},
   "outputs": [],
   "source": [
    "# Vamos fazer o modelo mais geral\n",
    "model = Model(solver = ClpSolver())\n",
    "@variable(model, x[1:m,1:n] >= 0) # x tem dois índices\n",
    "@objective(model, Min, sum(C[i,j] * x[i,j] for i = 1:m, j = 1:n))\n",
    "@constraint(model,\n",
    "            demanda[j=1:n], # Este demanda é um label, e [j=1:n] faz um tipo de for no j\n",
    "            sum(x[i,j] for i = 1:m) >= b[j])\n",
    "@constraint(model, restricao[i=1:m], sum(x[i,j] for j = 1:n) <= a[i])\n",
    "print(model)"
   ]
  },
  {
   "cell_type": "code",
   "execution_count": null,
   "metadata": {},
   "outputs": [],
   "source": [
    "status = solve(model)\n",
    "x = getvalue(x)\n",
    "fx = getobjectivevalue(model)\n",
    "\n",
    "for i = 1:m\n",
    "    for j = 1:n\n",
    "        if x[i,j] > 0\n",
    "            println(\"Envia $(x[i,j]) de $i a $j\")\n",
    "        end\n",
    "    end\n",
    "end"
   ]
  },
  {
   "cell_type": "markdown",
   "metadata": {},
   "source": [
    "O JuMP cria internamente a matriz de coeficientes. Não vale a pena tentar usá-la. O solver faz isso."
   ]
  },
  {
   "cell_type": "code",
   "execution_count": null,
   "metadata": {},
   "outputs": [],
   "source": [
    "A = MathProgBase.getconstrmatrix(model.internalModel)\n",
    "full(A)"
   ]
  },
  {
   "cell_type": "code",
   "execution_count": null,
   "metadata": {},
   "outputs": [],
   "source": [
    "λdemanda = getdual(demanda)"
   ]
  },
  {
   "cell_type": "code",
   "execution_count": null,
   "metadata": {},
   "outputs": [],
   "source": [
    "λrestricao = getdual(restricao)"
   ]
  },
  {
   "cell_type": "markdown",
   "metadata": {},
   "source": [
    "### Modelo não-linear"
   ]
  },
  {
   "cell_type": "markdown",
   "metadata": {},
   "source": [
    "Para problemas não-lineares gerais, só temos um solver livre para usar, o Ipopt."
   ]
  },
  {
   "cell_type": "markdown",
   "metadata": {},
   "source": [
    "\\begin{align*}\n",
    "\\min & \\quad \\sum_i x_i^2 \\\\\n",
    "\\text{suj. a} & \\quad x_1^2 + 4x_2^2 \\geq 1.\n",
    "\\end{align*}"
   ]
  },
  {
   "cell_type": "code",
   "execution_count": null,
   "metadata": {},
   "outputs": [],
   "source": [
    "using Ipopt\n",
    "\n",
    "model = Model(solver = IpoptSolver())\n",
    "@variable(model, x[1:2], start=1.0)\n",
    "@NLobjective(model, Min, sum(x[i]^2 for i = 1:2))\n",
    "@NLconstraint(model, x[1]^2 + 4 * x[2]^2 >= 1)\n",
    "status = solve(model)\n",
    "\n",
    "x = getvalue(x)\n",
    "fx = getobjectivevalue(model)\n",
    "\n",
    "println(\"status = $status\")\n",
    "println(\"x = $x\")\n",
    "println(\"f = $fx\")"
   ]
  },
  {
   "cell_type": "code",
   "execution_count": null,
   "metadata": {},
   "outputs": [],
   "source": [
    "contour(linspace(-2, 2, 100), linspace(-2, 2, 100), (x,y)->x^2 + y^2 ,leg=false)\n",
    "t = linspace(0, 2π, 360)\n",
    "plot!(cos.(t), 0.5sin.(t), c=:blue, lw=2)\n",
    "\n",
    "scatter!([x[1]], [x[2]], ms=5, c=:red)"
   ]
  },
  {
   "cell_type": "markdown",
   "metadata": {},
   "source": [
    "\\begin{align*}\n",
    "\\min & \\quad \\sum_i x_i^2 \\\\\n",
    "\\text{suj. a} & \\quad (x_1 - \\tfrac{1}{2})^2 + 4(x_2 - \\tfrac{1}{2})^2 \\geq 2.\n",
    "\\end{align*}"
   ]
  },
  {
   "cell_type": "code",
   "execution_count": null,
   "metadata": {},
   "outputs": [],
   "source": [
    "using Ipopt\n",
    "\n",
    "model = Model(solver = IpoptSolver())\n",
    "@variable(model, x[i=1:2], start=2.0) # Starting point: [2; 2]\n",
    "@NLobjective(model, Min, sum(x[i]^2 for i = 1:2))\n",
    "@NLconstraint(model, (x[1] - 0.5)^2 + 4 * (x[2] - 0.5)^2 >= 2) # (x₁ - ½)² + 4 (x₂ - ½)² ≥ 2\n",
    "status = solve(model)\n",
    "\n",
    "x = getvalue(x)\n",
    "fx = getobjectivevalue(model)\n",
    "\n",
    "println(\"status = $status\")\n",
    "println(\"x = $x\")\n",
    "println(\"f = $fx\")"
   ]
  },
  {
   "cell_type": "code",
   "execution_count": null,
   "metadata": {},
   "outputs": [],
   "source": [
    "contour(linspace(-2, 2, 100), linspace(-2, 2, 100), (x,y)->x^2 + y^2 ,leg=false)\n",
    "t = linspace(0, 2π, 360)\n",
    "plot!(sqrt(2) * cos.(t) + 0.5, (1/sqrt(2))*sin.(t) + 0.5, c=:blue, lw=2)\n",
    "\n",
    "scatter!([x[1]], [x[2]], ms=5, c=:red)"
   ]
  },
  {
   "cell_type": "code",
   "execution_count": null,
   "metadata": {},
   "outputs": [],
   "source": [
    "using Ipopt\n",
    "\n",
    "model = Model(solver = IpoptSolver())\n",
    "@variable(model, x[i=1:2], start=0.0)\n",
    "@NLobjective(model, Min, sum(x[i]^2 for i = 1:2))\n",
    "@NLconstraint(model, (x[1] - 0.5)^2 + 4 * (x[2] - 0.5)^2 >= 2)\n",
    "status = solve(model)\n",
    "\n",
    "x = getvalue(x)\n",
    "fx = getobjectivevalue(model)\n",
    "\n",
    "println(\"status = $status\")\n",
    "println(\"x = $x\")\n",
    "println(\"f = $fx\")"
   ]
  },
  {
   "cell_type": "code",
   "execution_count": null,
   "metadata": {},
   "outputs": [],
   "source": [
    "contour(linspace(-2, 2, 100), linspace(-2, 2, 100), (x,y)->x^2 + y^2 ,leg=false)\n",
    "t = linspace(0, 2π, 360)\n",
    "plot!(sqrt(2) * cos.(t) + 0.5, (1/sqrt(2))*sin.(t) + 0.5, c=:blue, lw=2)\n",
    "\n",
    "scatter!([x[1]], [x[2]], ms=5, c=:red)"
   ]
  },
  {
   "cell_type": "markdown",
   "metadata": {},
   "source": [
    "*Parametrizando a elipse*"
   ]
  },
  {
   "cell_type": "code",
   "execution_count": null,
   "metadata": {},
   "outputs": [],
   "source": [
    "xel(t) = sqrt(2) * cos(t) + 0.5\n",
    "yel(t) = (1/sqrt(2)) * sin(t) + 0.5\n",
    "ϕ(t) = xel(t)^2 + yel(t)^2\n",
    "\n",
    "t = linspace(0, 2π, 100)\n",
    "plot(t, ϕ.(t), lw=2, c=:blue)"
   ]
  },
  {
   "cell_type": "markdown",
   "metadata": {},
   "source": [
    "### Caixa de leite"
   ]
  },
  {
   "cell_type": "markdown",
   "metadata": {},
   "source": [
    "Uma caixa de leite pode ser planificada como duas folhas de dimensões $W$ e $H$.\n",
    "Considere uma folha dessas. À uma distância $x$ de cada parede da caixa, está a posição onde a folha foi dobrada para montar uma caixa.\n",
    "Queremos minimizar o custo de material (folha) mantendo o volume da caixa."
   ]
  },
  {
   "cell_type": "code",
   "execution_count": null,
   "metadata": {},
   "outputs": [],
   "source": [
    "w, h = 5, 7\n",
    "x = 1\n",
    "plot([0; w; w; 0; 0], [0; 0; h; h; 0], c=:black, leg=false, aspect_ratio=:equal)\n",
    "plot!([0; x], [0; x], c=:black, l=:dash)\n",
    "plot!([0; x], [h; h - x], c=:black, l=:dash)\n",
    "plot!([w; w - x], [0; x], c=:black, l=:dash)\n",
    "plot!([w; w - x], [h; h - x], c=:black, l=:dash)\n",
    "plot!([x; w-x; w-x; x; x], [x; x; h-x; h-x; x], c=:black, l=:dash)\n",
    "xlims!(-1, w + 1)\n",
    "ylims!(-1, h + 1)"
   ]
  },
  {
   "cell_type": "code",
   "execution_count": null,
   "metadata": {
    "scrolled": false
   },
   "outputs": [],
   "source": [
    "w, h = 5, 7\n",
    "x = 1\n",
    "P = [  x   x  x;\n",
    "     w-x   x  x;\n",
    "     w-x h-x  x;\n",
    "       x h-x  x;\n",
    "       x   x -x;\n",
    "     w-x   x -x;\n",
    "     w-x h-x -x;\n",
    "     #  x h-x -x\n",
    "    ]\n",
    "np = size(P, 1)\n",
    "plot(leg=false)\n",
    "for i = 1:np\n",
    "    for j = i+1:np\n",
    "        p1, p2 = P[i,:], P[j,:]\n",
    "        if count(p1 - p2 .== 0) == 2\n",
    "            plot!([p1[1], p2[1]], [p1[2], p2[2]], [p1[3], p2[3]], c=:black)\n",
    "        end\n",
    "    end\n",
    "end\n",
    "#plot!(x * ones(3), [x; 2x; x], [x; 0; -x], c=:red, l=:dash)\n",
    "plot!((w - x) * ones(3), [x; 2x; x], [x; 0; -x], c=:red, l=:dash)\n",
    "#plot!(x * ones(3), [h-x; h-2x; h-x], [x; 0; -x], c=:red, l=:dash)\n",
    "plot!((w - x) * ones(3), [h-x; h-2x; h-x], [x; 0; -x], c=:red, l=:dash)\n",
    "plot!([x; w-x; w-x], [x; x; h-x], zeros(3), c=:blue, l=:dot)\n",
    "xlims!(0, w)\n",
    "ylims!(0, h)\n",
    "zlims!(-2x, 2x)"
   ]
  },
  {
   "cell_type": "markdown",
   "metadata": {},
   "source": [
    "Pelas figuras, vemos que o volume é $2x \\times (W - 2x) \\times (H - 2x)$, e que a quantidade de material é $W \\times H$."
   ]
  },
  {
   "cell_type": "code",
   "execution_count": null,
   "metadata": {},
   "outputs": [],
   "source": [
    "volume = 100\n",
    "\n",
    "model = Model(solver = IpoptSolver(print_level=0))\n",
    "@variables model begin\n",
    "    W >= 0\n",
    "    H >= 0\n",
    "    x >= 0\n",
    "end\n",
    "@objective(model, Min, W * H)\n",
    "@NLconstraint(model, 2x * (W - 2x) * (H - 2x) == volume)\n",
    "@constraint(model, 2x <= H)\n",
    "@constraint(model, 2x <= W)\n",
    "\n",
    "status = solve(model)\n",
    "w, h, x = getvalue(W), getvalue(H), getvalue(x)\n",
    "println(\"W = $w, H = $h, x = $x\")"
   ]
  },
  {
   "cell_type": "code",
   "execution_count": null,
   "metadata": {},
   "outputs": [],
   "source": [
    "plot([0; w; w; 0; 0], [0; 0; h; h; 0], c=:black, leg=false, aspect_ratio=:equal)\n",
    "plot!([0; x], [0; x], c=:black, l=:dash)\n",
    "plot!([0; x], [h; h - x], c=:black, l=:dash)\n",
    "plot!([w; w - x], [0; x], c=:black, l=:dash)\n",
    "plot!([w; w - x], [h; h - x], c=:black, l=:dash)\n",
    "plot!([x; w-x; w-x; x; x], [x; x; h-x; h-x; x], c=:black, l=:dash)\n",
    "xlims!(-1, w + 1)\n",
    "ylims!(-1, h + 1)"
   ]
  },
  {
   "cell_type": "code",
   "execution_count": null,
   "metadata": {
    "scrolled": false
   },
   "outputs": [],
   "source": [
    "P = [  x   x  x;\n",
    "     w-x   x  x;\n",
    "     w-x h-x  x;\n",
    "       x h-x  x;\n",
    "       x   x -x;\n",
    "     w-x   x -x;\n",
    "     w-x h-x -x;\n",
    "     #  x h-x -x\n",
    "    ]\n",
    "np = size(P, 1)\n",
    "plot(leg=false)\n",
    "for i = 1:np\n",
    "    for j = i+1:np\n",
    "        p1, p2 = P[i,:], P[j,:]\n",
    "        if count(p1 - p2 .== 0) == 2\n",
    "            plot!([p1[1], p2[1]], [p1[2], p2[2]], [p1[3], p2[3]], c=:black)\n",
    "        end\n",
    "    end\n",
    "end\n",
    "#plot!(x * ones(3), [x; 2x; x], [x; 0; -x], c=:red, l=:dash)\n",
    "plot!((w - x) * ones(3), [x; 2x; x], [x; 0; -x], c=:red, l=:dash)\n",
    "#plot!(x * ones(3), [h-x; h-2x; h-x], [x; 0; -x], c=:red, l=:dash)\n",
    "plot!((w - x) * ones(3), [h-x; h-2x; h-x], [x; 0; -x], c=:red, l=:dash)\n",
    "plot!([x; w-x; w-x], [x; x; h-x], zeros(3), c=:blue, l=:dot)\n",
    "xlims!(0, w)\n",
    "ylims!(0, h)\n",
    "zlims!(-2x, 2x)"
   ]
  },
  {
   "cell_type": "markdown",
   "metadata": {},
   "source": [
    "### Empacotamento de círculos"
   ]
  },
  {
   "cell_type": "markdown",
   "metadata": {},
   "source": [
    "Quero empacotar $n$ círculos de raio $r$ no menor raio possível. Podemos modelar como encontrar o raio $R$ de um círculo maior centrado na origem, tal que todos círculos pequenos estejam dentro, minimizando o raio $R$."
   ]
  },
  {
   "cell_type": "markdown",
   "metadata": {},
   "source": [
    "Cada $(x_i,y_i)$ corresponde ao centro de um círculo pequeno. Visualmente, é fácil ver que para um círculo menos esteja completamente dentro do círculo maior, seu centro deve estar no máximo à uma distância $R - r$.\n",
    "Para que não haja colisão, dois centros devem estar à uma distância $2r$.\n",
    "Colocando no modelo, elevando ao quadrado quando for possível, temos:\n",
    "\n",
    "\\begin{align*}\n",
    "\\min & \\quad R \\\\\n",
    "\\text{suj. a} & \\quad x_i^2 + y_i^2 \\leq (R - r)^2,\n",
    "    \\quad \\forall i = 1,\\dots,n \\\\\n",
    "& \\quad (x_i - x_j)^2 + (y_i - y_j)^2 \\geq 4r^2\n",
    "    \\quad \\forall i, j = 1,\\dots,n, \\ i \\neq j.\n",
    "\\end{align*}"
   ]
  },
  {
   "cell_type": "code",
   "execution_count": null,
   "metadata": {},
   "outputs": [],
   "source": [
    "using Ipopt\n",
    "gr(size=(400,400))\n",
    "\n",
    "n = 5\n",
    "r = 1.0\n",
    "\n",
    "model = Model(solver = IpoptSolver(print_level=0))\n",
    "@variable(model, R >= r)\n",
    "@variable(model, x[i=1:n], start=0.0)\n",
    "@variable(model, y[i=1:n], start=0.0)\n",
    "@objective(model, Min, R)\n",
    "@NLconstraint(model, inside[i=1:n], x[i]^2 + y[i]^2 <= (R - r)^2)\n",
    "@NLconstraint(model, distance[i=1:n-1,j=i+1:n],\n",
    "                (x[i] - x[j])^2 + (y[i] - y[j])^2 >= 4r^2)\n",
    "status = solve(model)\n",
    "\n",
    "x = getvalue(x)\n",
    "y = getvalue(y)\n",
    "fx = getobjectivevalue(model)\n",
    "\n",
    "println(\"status = $status\")\n",
    "println(\"x = $x\")\n",
    "println(\"y = $y\")\n",
    "println(\"f = $fx\")"
   ]
  },
  {
   "cell_type": "markdown",
   "metadata": {},
   "source": [
    "Nossa tentativa acima falhou. O Ipopt retorna com problema de restauração (correção). Isso quer dizer que não conseguiu achar um ponto factível. Diferentemente dos problemas de PL, em PNL não existe nem a garantia de que encontraremos uma solução factível. *Vamos tentar melhorar o desempenho do método colocando uma solução inicial*."
   ]
  },
  {
   "cell_type": "code",
   "execution_count": null,
   "metadata": {},
   "outputs": [],
   "source": [
    "t = linspace(0, 2π, 360)\n",
    "plot(leg=false)\n",
    "for i = 1:n\n",
    "    plot!(r * cos.(t) + n * cos(2π * i / n), r * sin.(t) + n * sin(2π * i / n), c=:blue)\n",
    "end\n",
    "plot!()"
   ]
  },
  {
   "cell_type": "code",
   "execution_count": null,
   "metadata": {
    "scrolled": true
   },
   "outputs": [],
   "source": [
    "using Ipopt\n",
    "\n",
    "n = 19\n",
    "r = 1.0\n",
    "\n",
    "model = Model(solver = IpoptSolver(print_level=0, max_cpu_time=5.0))\n",
    "@variable(model, R >= r)\n",
    "@variable(model, x[i=1:n], start=n * cos(2π * i / n))\n",
    "@variable(model, y[i=1:n], start=n * sin(2π * i / n))\n",
    "@objective(model, Min, R)\n",
    "@NLconstraint(model, inside[i=1:n], x[i]^2 + y[i]^2 <= (R - r)^2)\n",
    "@NLconstraint(model, distance[i=1:n-1,j=i+1:n],\n",
    "                (x[i] - x[j])^2 + (y[i] - y[j])^2 >= 4r^2)\n",
    "status = solve(model)\n",
    "\n",
    "x = getvalue(x)\n",
    "y = getvalue(y)\n",
    "R = getvalue(R)\n",
    "f = getobjectivevalue(model)\n",
    "\n",
    "println(\"status = $status\")\n",
    "println(\"x = $x\")\n",
    "println(\"y = $y\")\n",
    "println(\"R = $R\")\n",
    "println(\"f = $f\")"
   ]
  },
  {
   "cell_type": "code",
   "execution_count": null,
   "metadata": {},
   "outputs": [],
   "source": [
    "t = linspace(0, 2π, 360)\n",
    "plot(R * cos.(t), R * sin.(t), lw=2, c=:green, leg=false)\n",
    "for i = 1:n\n",
    "    plot!(r * cos.(t) + x[i], r * sin.(t) + y[i], c=:blue, ann=(x[i], y[i], text(\"$i\")))\n",
    "end\n",
    "plot!()"
   ]
  },
  {
   "cell_type": "markdown",
   "metadata": {},
   "source": [
    "# Volte e faça para n = 19"
   ]
  },
  {
   "cell_type": "markdown",
   "metadata": {},
   "source": [
    "Infelizmente, nossa solução inicial não ficou boa. Vamos tentar outra."
   ]
  },
  {
   "cell_type": "code",
   "execution_count": null,
   "metadata": {},
   "outputs": [],
   "source": [
    "t = linspace(0, 2π, 360)\n",
    "plot(leg=false)\n",
    "for i = 1:n\n",
    "    plot!(r * cos.(t) + cos(4π * i / (2n + 1)), r * sin.(t) + sin(4π * i / (2n + 1)), c=:blue)\n",
    "end\n",
    "plot!()"
   ]
  },
  {
   "cell_type": "code",
   "execution_count": null,
   "metadata": {},
   "outputs": [],
   "source": [
    "using Ipopt\n",
    "\n",
    "n = 19\n",
    "r = 1.0\n",
    "\n",
    "model = Model(solver = IpoptSolver(print_level=0, max_cpu_time=5.0))\n",
    "@variable(model, R >= r)\n",
    "@variable(model, x[i=1:n], start=cos(4π * i / (2n + 1)))\n",
    "@variable(model, y[i=1:n], start=sin(4π * i / (2n + 1)))\n",
    "@objective(model, Min, R)\n",
    "@NLconstraint(model, inside[i=1:n], x[i]^2 + y[i]^2 <= (R - r)^2)\n",
    "@NLconstraint(model, distance[i=1:n-1,j=i+1:n],\n",
    "                (x[i] - x[j])^2 + (y[i] - y[j])^2 >= 4r^2)\n",
    "status = solve(model)\n",
    "\n",
    "x = getvalue(x)\n",
    "y = getvalue(y)\n",
    "R = getvalue(R)\n",
    "f = getobjectivevalue(model)\n",
    "\n",
    "println(\"status = $status\")\n",
    "println(\"x = $x\")\n",
    "println(\"y = $y\")\n",
    "println(\"R = $R\")\n",
    "println(\"f = $f\")"
   ]
  },
  {
   "cell_type": "code",
   "execution_count": null,
   "metadata": {},
   "outputs": [],
   "source": [
    "t = linspace(0, 2π, 360)\n",
    "plot(R * cos.(t), R * sin.(t), lw=2, c=:green, leg=false)\n",
    "for i = 1:n\n",
    "    plot!(r * cos.(t) + x[i], r * sin.(t) + y[i], c=:blue, ann=(x[i], y[i], text(\"$i\")))\n",
    "end\n",
    "plot!()"
   ]
  },
  {
   "cell_type": "markdown",
   "metadata": {},
   "source": [
    "Apesar da solução inicial anterior ser factível, era muito próxima de um minimizador local. A última não era próxima de minimizador local, e por sorte permitiu achar uma solução melhor, mesmo sendo infactível."
   ]
  },
  {
   "cell_type": "code",
   "execution_count": null,
   "metadata": {},
   "outputs": [],
   "source": [
    "using Ipopt\n",
    "\n",
    "n = 19\n",
    "r = 1.0\n",
    "\n",
    "model = Model(solver = IpoptSolver(print_level=0, max_cpu_time=5.0))\n",
    "@variable(model, R >= r)\n",
    "@variable(model, x[i=1:n], start=rand())\n",
    "@variable(model, y[i=1:n], start=rand())\n",
    "@objective(model, Min, R)\n",
    "@NLconstraint(model, inside[i=1:n], x[i]^2 + y[i]^2 <= (R - r)^2)\n",
    "@NLconstraint(model, distance[i=1:n-1,j=i+1:n],\n",
    "                (x[i] - x[j])^2 + (y[i] - y[j])^2 >= 4r^2)\n",
    "status = solve(model)\n",
    "\n",
    "x = getvalue(x)\n",
    "y = getvalue(y)\n",
    "R = getvalue(R)\n",
    "f = getobjectivevalue(model)\n",
    "\n",
    "println(\"status = $status\")\n",
    "println(\"x = $x\")\n",
    "println(\"y = $y\")\n",
    "println(\"R = $R\")\n",
    "println(\"f = $f\")"
   ]
  },
  {
   "cell_type": "code",
   "execution_count": null,
   "metadata": {},
   "outputs": [],
   "source": [
    "t = linspace(0, 2π, 360)\n",
    "plot(R * cos.(t), R * sin.(t), lw=2, c=:green, leg=false)\n",
    "for i = 1:n\n",
    "    plot!(r * cos.(t) + x[i], r * sin.(t) + y[i], c=:blue, ann=(x[i], y[i], text(\"$i\")))\n",
    "end\n",
    "plot!()"
   ]
  },
  {
   "cell_type": "markdown",
   "metadata": {},
   "source": [
    "# Tempo"
   ]
  },
  {
   "cell_type": "code",
   "execution_count": null,
   "metadata": {},
   "outputs": [],
   "source": [
    "using Ipopt\n",
    "\n",
    "n = 38\n",
    "r = 1.0\n",
    "\n",
    "model = Model(solver = IpoptSolver(print_level=0, max_cpu_time=30.0))\n",
    "@variable(model, R >= r)\n",
    "@variable(model, x[i=1:n], start=rand())\n",
    "@variable(model, y[i=1:n], start=rand())\n",
    "@objective(model, Min, R)\n",
    "@NLconstraint(model, inside[i=1:n], x[i]^2 + y[i]^2 <= (R - r)^2)\n",
    "@NLconstraint(model, distance[i=1:n-1,j=i+1:n],\n",
    "                (x[i] - x[j])^2 + (y[i] - y[j])^2 >= 4r^2)\n",
    "status = solve(model)\n",
    "\n",
    "x = getvalue(x)\n",
    "y = getvalue(y)\n",
    "R = getvalue(R)\n",
    "f = getobjectivevalue(model)\n",
    "\n",
    "println(\"status = $status\")\n",
    "println(\"x = $x\")\n",
    "println(\"y = $y\")\n",
    "println(\"R = $R\")\n",
    "println(\"f = $f\")"
   ]
  },
  {
   "cell_type": "code",
   "execution_count": null,
   "metadata": {},
   "outputs": [],
   "source": [
    "t = linspace(0, 2π, 360)\n",
    "plot(R * cos.(t), R * sin.(t), lw=2, c=:green, leg=false)\n",
    "for i = 1:n\n",
    "    plot!(r * cos.(t) + x[i], r * sin.(t) + y[i], c=:blue, ann=(x[i], y[i], text(\"$i\")))\n",
    "end\n",
    "plot!()"
   ]
  },
  {
   "cell_type": "markdown",
   "metadata": {},
   "source": [
    "### Solução inicial decente"
   ]
  },
  {
   "cell_type": "code",
   "execution_count": null,
   "metadata": {},
   "outputs": [],
   "source": [
    "function initial_packing(n, r)\n",
    "    x, y = zeros(n), zeros(n)\n",
    "    lvl = 1\n",
    "    i = 2\n",
    "    while i <= n\n",
    "        θ = 0.0\n",
    "        x[i] = 2r * lvl\n",
    "        y[i] = 0.0\n",
    "        δ = acos(1 - 1 / (2 * lvl^2))\n",
    "        while θ <= 2π - 1.999δ && i < n\n",
    "            θ += δ\n",
    "            i += 1\n",
    "            x[i] = 2lvl * r * cos(θ)\n",
    "            y[i] = 2lvl * r * sin(θ)\n",
    "        end\n",
    "        i += 1\n",
    "        lvl += 1\n",
    "    end\n",
    "    return x, y\n",
    "end"
   ]
  },
  {
   "cell_type": "code",
   "execution_count": null,
   "metadata": {},
   "outputs": [],
   "source": [
    "n = 19\n",
    "x, y = initial_packing(n, 1.0)\n",
    "t = linspace(0, 2π, 360)\n",
    "plot(leg=false)\n",
    "for i = 1:n\n",
    "    plot!(r * cos.(t) + x[i], r * sin.(t) + y[i], c=:blue, ann=(x[i], y[i], text(\"$i\")))\n",
    "end\n",
    "plot!()"
   ]
  },
  {
   "cell_type": "code",
   "execution_count": null,
   "metadata": {},
   "outputs": [],
   "source": [
    "using Ipopt\n",
    "\n",
    "n = 72\n",
    "r = 1.0\n",
    "\n",
    "x0, y0 = initial_packing(n, 1.0)\n",
    "model = Model(solver = IpoptSolver(print_level=0, max_cpu_time=30.0))\n",
    "@variable(model, R >= r)\n",
    "@variable(model, x[i=1:n], start=x0[i])\n",
    "@variable(model, y[i=1:n], start=y0[i])\n",
    "@objective(model, Min, R)\n",
    "@NLconstraint(model, inside[i=1:n], x[i]^2 + y[i]^2 <= (R - r)^2)\n",
    "@NLconstraint(model, distance[i=1:n-1,j=i+1:n],\n",
    "                (x[i] - x[j])^2 + (y[i] - y[j])^2 >= 4r^2)\n",
    "status = solve(model)\n",
    "\n",
    "x = getvalue(x)\n",
    "y = getvalue(y)\n",
    "R = getvalue(R)\n",
    "fx = getobjectivevalue(model)\n",
    "\n",
    "println(\"status = $status\")\n",
    "println(\"x = $x\")\n",
    "println(\"y = $y\")\n",
    "println(\"R = $R\")\n",
    "println(\"f = $fx\")"
   ]
  },
  {
   "cell_type": "code",
   "execution_count": null,
   "metadata": {},
   "outputs": [],
   "source": [
    "t = linspace(0, 2π, 360)\n",
    "plot(R * cos.(t), R * sin.(t), lw=2, c=:green, leg=false)\n",
    "for i = 1:n\n",
    "    plot!(r * cos.(t) + x[i], r * sin.(t) + y[i], c=:blue, ann=(x[i], y[i], text(\"$i\")))\n",
    "end\n",
    "plot!()"
   ]
  },
  {
   "cell_type": "markdown",
   "metadata": {},
   "source": [
    "### Posição de sensores"
   ]
  },
  {
   "cell_type": "markdown",
   "metadata": {},
   "source": [
    "Um campo plano tem vários sensores, cada um consegue medir a posição de todos até uma distância $r$. Infelizmente esse medição tem um erro, que desconhecemos. Queremos saber a posição de todos esses sensores."
   ]
  },
  {
   "cell_type": "markdown",
   "metadata": {},
   "source": [
    "### Gerando dados falsos"
   ]
  },
  {
   "cell_type": "code",
   "execution_count": null,
   "metadata": {},
   "outputs": [],
   "source": [
    "n = 100\n",
    "minr = 0.5\n",
    "srand(0)\n",
    "x, y = rand(n), rand(n)\n",
    "scatter(x, y, ms=3, leg=false, c=:black)\n",
    "xlims!(-0.1, 1.1)\n",
    "ylims!(-0.1, 1.1)"
   ]
  },
  {
   "cell_type": "code",
   "execution_count": null,
   "metadata": {},
   "outputs": [],
   "source": [
    "scatter(x, y, ms=3, leg=false, c=:black)\n",
    "t = linspace(0, 2π, 60)\n",
    "for i = 1:n\n",
    "    plot!(minr * cos.(t) + x[i], minr * sin.(t) + y[i], c=:green, l=:dot)\n",
    "end\n",
    "xlims!(-0.1, 1.1)\n",
    "ylims!(-0.1, 1.1)"
   ]
  },
  {
   "cell_type": "code",
   "execution_count": null,
   "metadata": {},
   "outputs": [],
   "source": [
    "noise = 1e-2\n",
    "D = zeros(n, n)\n",
    "for i = 1:n\n",
    "    for j = i:n\n",
    "        d = (x[i] - x[j])^2 + (y[i] - y[j])^2\n",
    "        if d < minr\n",
    "            D[i,j] = D[j,i] = d + noise * rand()\n",
    "        end\n",
    "    end\n",
    "end"
   ]
  },
  {
   "cell_type": "markdown",
   "metadata": {},
   "source": [
    "### Começo do modelo"
   ]
  },
  {
   "cell_type": "markdown",
   "metadata": {},
   "source": [
    "A partir de agora, imaginamos que $D$ foi obtido pelas medições, representando o quadrado das distâncias entre os sensores $i$ e $j$. $d_{ij}$ nulo quer dizer que a distância é maior que a mensurável pelo equipamento."
   ]
  },
  {
   "cell_type": "markdown",
   "metadata": {},
   "source": [
    "A distância entre dois sensores $(X_i,Y_i)$, $(X_j,Y_j)$ deveria ser $\\sqrt{D_{i,j}}$. Infelizmente, como temos um erro, não podemos esperar que isso aconteça. Então vamos justamente minimizar esse erro\n",
    "$$ \\min \\sum_{j > i: D_{i,j} > 0} \\bigg((X_i-X_j)^2 + (Y_i-Y_j)^2 - D_{i,j}\\bigg)^2. $$"
   ]
  },
  {
   "cell_type": "code",
   "execution_count": null,
   "metadata": {},
   "outputs": [],
   "source": [
    "model = Model(solver = IpoptSolver(print_level=0))\n",
    "@variable(model, X[i=1:n], start=rand())\n",
    "@variable(model, Y[j=1:n], start=rand())\n",
    "@NLexpression(model, d[i=1:n,j=i+1:n], (X[i] - X[j])^2 + (Y[i] - Y[j])^2)\n",
    "@NLobjective(model, Min, sum( (d[i,j] - D[i,j])^2 for i = 1:n, j = i+1:n if D[i,j] > 0))\n",
    "\n",
    "status = solve(model)\n",
    "X = getvalue(X)\n",
    "Y = getvalue(Y)\n",
    "println(\"f = $(getobjectivevalue(model))\")"
   ]
  },
  {
   "cell_type": "code",
   "execution_count": null,
   "metadata": {},
   "outputs": [],
   "source": [
    "scatter(X, Y, ms=3, leg=false, c=:black)"
   ]
  },
  {
   "cell_type": "code",
   "execution_count": null,
   "metadata": {},
   "outputs": [],
   "source": [
    "scatter(x, y, ms=3, leg=false, c=:black)"
   ]
  },
  {
   "cell_type": "markdown",
   "metadata": {},
   "source": [
    "**São os mesmos?**"
   ]
  },
  {
   "cell_type": "code",
   "execution_count": null,
   "metadata": {},
   "outputs": [],
   "source": [
    "using Interact\n",
    "μx, μy = mean(x), mean(y)\n",
    "μX, μY = mean(X), mean(Y)\n",
    "@manipulate for θ = linspace(0, 2π, 720), flip = [false, true]\n",
    "    scatter(x - μx, y - μy, ms=3, leg=false, c=:black)\n",
    "    RX = (X - μX) * cos(θ) - (Y - μY) * sin(θ)\n",
    "    RY = (X - μX) * sin(θ) + (Y - μY) * cos(θ)\n",
    "    if flip\n",
    "        RY = -RY\n",
    "    end\n",
    "    scatter!(RX, RY, ms=3, leg=false, c=:red, m=(stroke(0)))\n",
    "    xlims!(-0.8, 0.8)\n",
    "    ylims!(-0.8, 0.8)\n",
    "end"
   ]
  },
  {
   "cell_type": "markdown",
   "metadata": {},
   "source": [
    "### Bard function"
   ]
  },
  {
   "cell_type": "markdown",
   "metadata": {},
   "source": [
    "Um exemplo antigo de ajuste de dados não linear."
   ]
  },
  {
   "cell_type": "code",
   "execution_count": null,
   "metadata": {},
   "outputs": [],
   "source": [
    "y = [0.14; 0.18; 0.22; 0.25; 0.29;\n",
    "     0.32; 0.35; 0.39; 0.37; 0.58;\n",
    "     0.73; 0.96; 1.34; 2.10; 4.39]\n",
    "t = 1:15\n",
    "scatter(t, y, leg=false, c=:black, ms=3)"
   ]
  },
  {
   "cell_type": "code",
   "execution_count": null,
   "metadata": {},
   "outputs": [],
   "source": [
    "@manipulate for a = linspace(0.01, 2, 100),\n",
    "                b = linspace(1, 3, 100),\n",
    "                c = linspace(1, 3, 100)\n",
    "    m(t) = a + t / ((16 - t) * b + min(t, 16 - t) * c)\n",
    "    scatter(t, y, leg=false, c=:black, ms=3)\n",
    "    plot!(m, 1, 15, c=:red, lw=2)\n",
    "end"
   ]
  },
  {
   "cell_type": "code",
   "execution_count": null,
   "metadata": {
    "scrolled": false
   },
   "outputs": [],
   "source": [
    "model = Model(solver = IpoptSolver(print_level=0))\n",
    "u = collect(1:15)\n",
    "v = 16 - u\n",
    "w = min.(u, v)\n",
    "@variable(model, x[1:3], start=1.0)\n",
    "@NLobjective(model, Min, sum((x[1] + u[i] / (v[i] * x[2] + w[i] * x[3]) - y[i])^2 for i = 1:15))\n",
    "\n",
    "status = solve(model)\n",
    "x = getvalue(x)\n",
    "println(\"x = $x\")\n",
    "println(\"f = $(getobjectivevalue(model))\")"
   ]
  },
  {
   "cell_type": "code",
   "execution_count": null,
   "metadata": {},
   "outputs": [],
   "source": [
    "scatter(t, y, leg=false, c=:black, ms=3)\n",
    "plot!(t -> x[1] + t / ((16 - t) * x[2] + min(t, 16 - t) * x[3]), 1, 15, c=:red, lw=2)"
   ]
  },
  {
   "cell_type": "markdown",
   "metadata": {},
   "source": [
    "### Máquina de Vetor Suporte"
   ]
  },
  {
   "cell_type": "code",
   "execution_count": null,
   "metadata": {},
   "outputs": [],
   "source": [
    "m = 50\n",
    "srand(0)\n",
    "data = [randn(div(m,2))+1.5 randn(div(m,2))+1.5;\n",
    "        randn(div(m,2))-1.5 randn(div(m,2))-1.5]\n",
    "y = sign.(data[:,1] + data[:,2])\n",
    "I = find(y .> 0)\n",
    "scatter(data[I,1], data[I,2], m=:square, ms=5, c=:blue, leg=false)\n",
    "I = find(y .< 0)\n",
    "scatter!(data[I,1], data[I,2], m=:circle, ms=6, c=:red)"
   ]
  },
  {
   "cell_type": "markdown",
   "metadata": {},
   "source": [
    "Linearmente separável: $w^Tx = b$, $w, x \\in \\mathbb{R}^n$, $b \\in \\mathbb{R}$, separa os dois conjuntos.\n",
    "\n",
    "Se escolhermos $w$ e $b$ de modo que $w^Tx - b = \\pm 1$ para os pontos mais próximos do conjunto, a margem será proporcional à $\\frac{1}{\\Vert w\\Vert_2}$. Queremos maximizar a margem, então podemos minimizar $\\Vert w\\Vert_2$.\n",
    "Cada ponto $x_i \\in \\mathbb{R}^n$ é classificado como $y_i = \\pm 1$. Assim, podemos modelar o problema como."
   ]
  },
  {
   "cell_type": "markdown",
   "metadata": {},
   "source": [
    "$$ \\min \\frac{1}{2}\\Vert w\\Vert_2^2$$\n",
    "$$ (w^Tx_i - b_i)y_i \\geq 1. $$"
   ]
  },
  {
   "cell_type": "code",
   "execution_count": null,
   "metadata": {},
   "outputs": [],
   "source": [
    "model = Model(solver = IpoptSolver(print_level=0))\n",
    "@variable(model, w[1:2])\n",
    "@variable(model, b)\n",
    "@objective(model, Min, w[1]^2 + w[2]^2)\n",
    "@constraint(model, [i=1:m], (w[1] * data[i,1] + w[2] * data[i,2] - b) * y[i] >= 1.0)\n",
    "\n",
    "status = solve(model)\n",
    "w = getvalue(w)\n",
    "b = getvalue(b)"
   ]
  },
  {
   "cell_type": "code",
   "execution_count": null,
   "metadata": {},
   "outputs": [],
   "source": [
    "I = find(y .> 0)\n",
    "scatter(data[I,1], data[I,2], m=:square, ms=5, c=:blue, leg=false)\n",
    "I = find(y .< 0)\n",
    "scatter!(data[I,1], data[I,2], m=:circle, ms=6, c=:red)\n",
    "plot!(t -> (b - w[1] * t) / w[2], extrema(data[:,1])..., lw=2, c=:black)\n",
    "plot!(t -> (b + 1 - w[1] * t) / w[2], extrema(data[:,1])..., l=:dash, c=:black)\n",
    "plot!(t -> (b - 1 - w[1] * t) / w[2], extrema(data[:,1])..., l=:dash, c=:black)"
   ]
  },
  {
   "cell_type": "markdown",
   "metadata": {},
   "source": [
    "Na prática, raramente os dados são separáveis."
   ]
  },
  {
   "cell_type": "code",
   "execution_count": null,
   "metadata": {},
   "outputs": [],
   "source": [
    "m = 50\n",
    "srand(0)\n",
    "data = [randn(div(m,2))+1.5 randn(div(m,2))+1.5;\n",
    "        randn(div(m,2))-1.5 randn(div(m,2))-1.5;\n",
    "        randn(3,2)]\n",
    "y = sign.(data[:,1] + data[:,2])\n",
    "y[m+1:end] *= -1\n",
    "m = length(y)\n",
    "I = find(y .> 0)\n",
    "scatter(data[I,1], data[I,2], m=:square, ms=5, c=:blue, leg=false)\n",
    "I = find(y .< 0)\n",
    "scatter!(data[I,1], data[I,2], m=:circle, ms=6, c=:red)"
   ]
  },
  {
   "cell_type": "markdown",
   "metadata": {},
   "source": [
    "Como o conjunto não é mais linearmente separáveis, penalizamos o ponto classificado errado."
   ]
  },
  {
   "cell_type": "markdown",
   "metadata": {},
   "source": [
    "$$ \\min \\frac{1}{2}\\Vert w\\Vert_2^2 + C\\sum_{i=1}^m\\xi_i$$\n",
    "$$ (w^Tx_i - b_i)y_i \\geq 1 - \\xi_i, \\quad \\xi \\geq 0 $$"
   ]
  },
  {
   "cell_type": "code",
   "execution_count": null,
   "metadata": {},
   "outputs": [],
   "source": [
    "C = 100.0\n",
    "model = Model(solver = IpoptSolver(print_level=0))\n",
    "@variable(model, w[1:2])\n",
    "@variable(model, b)\n",
    "@variable(model, ξ[1:m] >= 0)\n",
    "@objective(model, Min, w[1]^2 + w[2]^2 + C * sum(ξ[i] for i = 1:m))\n",
    "@constraint(model, [i=1:m], (w[1] * data[i,1] + w[2] * data[i,2] - b) * y[i] >= 1.0 - ξ[i])\n",
    "\n",
    "status = solve(model)\n",
    "w = getvalue(w)\n",
    "b = getvalue(b)\n",
    "\n",
    "I = find(y .> 0)\n",
    "scatter(data[I,1], data[I,2], m=:square, ms=5, c=:blue, leg=false)\n",
    "I = find(y .< 0)\n",
    "scatter!(data[I,1], data[I,2], m=:circle, ms=6, c=:red)\n",
    "plot!(t -> (b - w[1] * t) / w[2], extrema(data[:,1])..., lw=2, c=:black)\n",
    "plot!(t -> (b + 1 - w[1] * t) / w[2], extrema(data[:,1])..., l=:dash, c=:black)\n",
    "plot!(t -> (b - 1 - w[1] * t) / w[2], extrema(data[:,1])..., l=:dash, c=:black)"
   ]
  },
  {
   "cell_type": "code",
   "execution_count": null,
   "metadata": {},
   "outputs": [],
   "source": [
    "# Exemplo do curso\n",
    "# https://www.superdatascience.com/machine-learning/\n",
    "# Part 3, section 16\n",
    "using CSV, DataFrames\n",
    "data = CSV.read(\"Social_Network_Ads.csv\")\n",
    "print(data)"
   ]
  },
  {
   "cell_type": "code",
   "execution_count": null,
   "metadata": {},
   "outputs": [],
   "source": [
    "m = size(data, 1)\n",
    "X = [get(data[i,j]) for i = 1:m, j = 3:4]\n",
    "n = size(X, 2)\n",
    "y = [get(data[i,5]) * 2 - 1 for i = 1:m]\n",
    "P = find(y .> 0); N = find(y .< 0)\n",
    "scatter(X[P,1], X[P,2], c=:blue, m=(:xcross,stroke(0)), ms=4, leg=false)\n",
    "scatter!(X[N,1], X[N,2], c=:red, m=(:circle,stroke(0)), ms=3)\n",
    "xlabel!(\"Idade\")\n",
    "ylabel!(\"Salário\")"
   ]
  },
  {
   "cell_type": "markdown",
   "metadata": {},
   "source": [
    "Vamos separar 80% dos dados acima para treinar nosso modelo, e 20% para testá-lo."
   ]
  },
  {
   "cell_type": "code",
   "execution_count": null,
   "metadata": {},
   "outputs": [],
   "source": [
    "srand(0)\n",
    "M = round(Int, 0.8m) # 80% para testes\n",
    "I = randperm(m)[1:M] \n",
    "J = setdiff(1:m, I)\n",
    "\n",
    "scatter(X[intersect(P,I),1], X[intersect(P,I),2], c=:blue,\n",
    "            m=(:xcross,stroke(0)), ms=4, leg=false)\n",
    "scatter!(X[intersect(N,I),1], X[intersect(N,I),2], c=:red, m=(:circle,stroke(0)), ms=3)\n",
    "xlabel!(\"Idade\")\n",
    "ylabel!(\"Salário\")\n",
    "title!(\"Treinamento\")"
   ]
  },
  {
   "cell_type": "code",
   "execution_count": null,
   "metadata": {},
   "outputs": [],
   "source": [
    "scatter(X[intersect(P,J),1], X[intersect(P,J),2], c=:blue,\n",
    "            m=(:xcross,stroke(0)), ms=4, leg=false)\n",
    "scatter!(X[intersect(N,J),1], X[intersect(N,J),2], c=:red, m=(:circle,stroke(0)), ms=3)\n",
    "xlabel!(\"Idade\")\n",
    "ylabel!(\"Salário\")\n",
    "title!(\"Teste\")"
   ]
  },
  {
   "cell_type": "code",
   "execution_count": null,
   "metadata": {},
   "outputs": [],
   "source": [
    "C = 100.0\n",
    "model = Model(solver = IpoptSolver(print_level=0))\n",
    "@variable(model, w[1:n])\n",
    "@variable(model, b)\n",
    "@variable(model, ξ[1:M] >= 0)\n",
    "@objective(model, Min, sum(w[j]^2 for j = 1:n) +\n",
    "            C * sum(ξ[i] for i = 1:M))\n",
    "@constraint(model, [i=1:M], (sum(w[j] * X[I[i],j] for j = 1:n) - b) * y[I[i]] >= 1.0 - ξ[i])\n",
    "\n",
    "status = solve(model)\n",
    "w = getvalue(w)\n",
    "b = getvalue(b)"
   ]
  },
  {
   "cell_type": "code",
   "execution_count": null,
   "metadata": {},
   "outputs": [],
   "source": [
    "K = intersect(find(y .> 0), I)\n",
    "scatter(X[K,1], X[K,2], c=:blue, m=(:xcross,stroke(0)), ms=4, leg=false)\n",
    "K = intersect(find(y .< 0), I)\n",
    "scatter!(X[K,1], X[K,2], c=:red, m=(:circle,stroke(0)), ms=3)\n",
    "plot!(t -> (b - w[1] * t) / w[2], extrema(X[:,1])..., lw=1, c=:black)\n",
    "xlabel!(\"Idade\")\n",
    "ylabel!(\"Salário\")\n",
    "xlim = [minimum(X[:,1]), maximum(X[:,1])]\n",
    "ylim = [minimum(X[:,2]), maximum(X[:,2])]\n",
    "λ = 0.05 * [xlim[2] - xlim[1]; ylim[2] - ylim[1]]\n",
    "xlims!(xlim[1] - λ[1], xlim[2] + λ[1])\n",
    "ylims!(ylim[1] - λ[2], ylim[2] + λ[2])"
   ]
  },
  {
   "cell_type": "code",
   "execution_count": null,
   "metadata": {},
   "outputs": [],
   "source": [
    "K = intersect(find(y .> 0), J)\n",
    "scatter(X[K,1], X[K,2], c=:blue, m=(:xcross,stroke(0)), ms=4, leg=false)\n",
    "K = intersect(find(y .< 0), J)\n",
    "scatter!(X[K,1], X[K,2], c=:red, m=(:circle,stroke(0)), ms=3)\n",
    "plot!(t -> (b - w[1] * t) / w[2], extrema(X[:,1])..., lw=1, c=:black)\n",
    "xlabel!(\"Idade\")\n",
    "ylabel!(\"Salário\")\n",
    "xlim = [minimum(X[:,1]), maximum(X[:,1])]\n",
    "ylim = [minimum(X[:,2]), maximum(X[:,2])]\n",
    "λ = 0.05 * [xlim[2] - xlim[1]; ylim[2] - ylim[1]]\n",
    "xlims!(xlim[1] - λ[1], xlim[2] + λ[1])\n",
    "ylims!(ylim[1] - λ[2], ylim[2] + λ[2])"
   ]
  },
  {
   "cell_type": "code",
   "execution_count": null,
   "metadata": {},
   "outputs": [],
   "source": [
    "# Matriz de confusão\n",
    "#          | real -1 | real  1\n",
    "# --------- --------- ---------\n",
    "# pred -1  |    x    |    x\n",
    "# pred  1  |    x    |    x\n",
    "ytest = y[J]\n",
    "ypred = sign.(X[J,:] * w - b)\n",
    "[sum((ypred .== b1) .& (ytest .== b2)) for b1 = [-1,1], b2 = [-1,1]]"
   ]
  },
  {
   "cell_type": "markdown",
   "metadata": {},
   "source": [
    "É fácil ver que usar uma reta nessa separação é uma escolha ruim. Também podemos usar SVM para outros tipos de separação, mas para isso precisamos ver o **dual** do problema. Não faremos isso aqui."
   ]
  }
 ],
 "metadata": {
  "kernelspec": {
   "display_name": "Julia 0.6.3",
   "language": "julia",
   "name": "julia-0.6"
  },
  "language_info": {
   "file_extension": ".jl",
   "mimetype": "application/julia",
   "name": "julia",
   "version": "0.6.3"
  }
 },
 "nbformat": 4,
 "nbformat_minor": 2
}
