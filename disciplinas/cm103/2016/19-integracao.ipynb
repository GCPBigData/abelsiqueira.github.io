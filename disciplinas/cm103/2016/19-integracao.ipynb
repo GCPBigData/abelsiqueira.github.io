{
 "cells": [
  {
   "cell_type": "code",
   "execution_count": 1,
   "metadata": {
    "collapsed": false
   },
   "outputs": [
    {
     "ename": "LoadError",
     "evalue": "LoadError: ArgumentError: Plots not found in path\nwhile loading In[1], in expression starting on line 1",
     "output_type": "error",
     "traceback": [
      "LoadError: ArgumentError: Plots not found in path\nwhile loading In[1], in expression starting on line 1",
      "",
      " in require at ./loading.jl:249"
     ]
    }
   ],
   "source": [
    "using Plots, Interact\n",
    "gr()"
   ]
  },
  {
   "cell_type": "code",
   "execution_count": 2,
   "metadata": {
    "collapsed": false
   },
   "outputs": [
    {
     "data": {
      "text/plain": [
       "(-1,1)"
      ]
     },
     "execution_count": 2,
     "metadata": {},
     "output_type": "execute_result"
    }
   ],
   "source": [
    "f(x) = exp(x)\n",
    "F(x) = exp(x) # Primitiva para fins de comparação\n",
    "a, b = -1, 1"
   ]
  },
  {
   "cell_type": "code",
   "execution_count": 3,
   "metadata": {
    "collapsed": false
   },
   "outputs": [
    {
     "ename": "LoadError",
     "evalue": "LoadError: UndefVarError: plot not defined\nwhile loading In[3], in expression starting on line 1",
     "output_type": "error",
     "traceback": [
      "LoadError: UndefVarError: plot not defined\nwhile loading In[3], in expression starting on line 1",
      ""
     ]
    }
   ],
   "source": [
    "plot(f, a, b, c=:red, fill=(0,:red,0.5), leg=false)\n",
    "h = (b-a)/2\n",
    "α = (f(a+h)-f(a))/h\n",
    "β = (f(b)-2*f(a+h)+f(a))/2h^2\n",
    "plot!(x->f(a) + (x-a)*α + (x-a)*(x-a-h)*β, a, b, c=:blue, fill=(0,:blue,0.5))"
   ]
  },
  {
   "cell_type": "markdown",
   "metadata": {},
   "source": [
    "$$\n",
    "\\int_a^b f(x)\\mbox{d}x \\approx\n",
    "\\frac{h}{3}[f(x_1) + 4f(x_2) + f(x_3)]\n",
    "$$\n",
    "com $h = (b-a)/2$, $x_1 = a$, $x_3 = b$."
   ]
  },
  {
   "cell_type": "code",
   "execution_count": 4,
   "metadata": {
    "collapsed": false
   },
   "outputs": [
    {
     "data": {
      "text/plain": [
       "simpson (generic function with 1 method)"
      ]
     },
     "execution_count": 4,
     "metadata": {},
     "output_type": "execute_result"
    }
   ],
   "source": [
    "function simpson(f, a, b)\n",
    "    return (b-a)*( f(a) + 4*f((a+b)/2) + f(b))/6\n",
    "end"
   ]
  },
  {
   "cell_type": "code",
   "execution_count": 5,
   "metadata": {
    "collapsed": false
   },
   "outputs": [
    {
     "data": {
      "text/plain": [
       "0.011651369255893052"
      ]
     },
     "execution_count": 5,
     "metadata": {},
     "output_type": "execute_result"
    }
   ],
   "source": [
    "simpson(f, a, b) - (F(b)-F(a))"
   ]
  },
  {
   "cell_type": "code",
   "execution_count": 6,
   "metadata": {
    "collapsed": false,
    "scrolled": true
   },
   "outputs": [
    {
     "ename": "LoadError",
     "evalue": "LoadError: UndefVarError: @manipulate not defined\nwhile loading In[6], in expression starting on line 13",
     "output_type": "error",
     "traceback": [
      "LoadError: UndefVarError: @manipulate not defined\nwhile loading In[6], in expression starting on line 13",
      ""
     ]
    }
   ],
   "source": [
    "f(x) = sin(3x) + cos(5x)\n",
    "@manipulate for m = slider(2:2:100, value=2)\n",
    "    h = (b-a)/m\n",
    "    plot(f, a, b, c=:red, fill=(0,:red,0.5), leg=false)    \n",
    "    for i = 1:2:m-1\n",
    "        x1, x2, x3 = a + (i-1)*h, a + i*h, a + (i+1)*h\n",
    "        f1, f2, f3 = f(x1), f(x2), f(x3)\n",
    "        α = (f2-f1)/h\n",
    "        β = (f3-2*f2+f1)/2h^2\n",
    "        plot!(x->f1 + (x-x1)*α + (x-x1)*(x-x2)*β, x1, x3, c=:blue, fill=(0,:blue,0.5))\n",
    "    end\n",
    "    plot!()\n",
    "end"
   ]
  },
  {
   "cell_type": "markdown",
   "metadata": {},
   "source": [
    "\\begin{align}\n",
    "\\int_a^b f(x)\\mbox{d}x & =\n",
    "\\int_{x_1}^{x_m} f(x)\\mbox{d}x = \n",
    "\\int_{x_1}^{x_3} f(x)\\mbox{d}x +\n",
    "\\int_{x_3}^{x_5} f(x)\\mbox{d}x +\n",
    "\\int_{x_5}^{x_7} f(x)\\mbox{d}x + \\dots +\n",
    "\\int_{x_{m-2}}^{x_m} f(x)\\mbox{d}x \\\\\n",
    "& \\approx\n",
    "\\frac{h}{3}[f(x_1) + 4f(x_2) + f(x_3)] + \n",
    "\\frac{h}{3}[f(x_3) + 4f(x_4) + f(x_5)] + \\dots +\n",
    "\\frac{h}{3}[f(x_{m-2}) + 4f(x_{m-1}) + f(x_m)] \\\\\n",
    "& = \\frac{h}{3}\n",
    "\\bigg[ f(x_1) + 4[f(x_2) + f(x_4) + \\dots + f(x_{m-1})]\n",
    "+ 2[f(x_3) + f(x_5) + f(x_7) + \\dots + f(x_{m-2})] + f(x_m)\\bigg] \\\\\n",
    "& = \\frac{h}{3}[f(a) + f(b) + 4I_1 + 2I_2]\n",
    "\\end{align}\n",
    "com $h = (b-a)/m$."
   ]
  },
  {
   "cell_type": "code",
   "execution_count": 7,
   "metadata": {
    "collapsed": false
   },
   "outputs": [
    {
     "data": {
      "text/plain": [
       "simpson_repetida (generic function with 1 method)"
      ]
     },
     "execution_count": 7,
     "metadata": {},
     "output_type": "execute_result"
    }
   ],
   "source": [
    "function simpson_repetida(f, a, b; m = 11)\n",
    "    if m % 2 == 0\n",
    "        m = m + 1\n",
    "    end\n",
    "    h = (b-a)/(m-1)\n",
    "    I1, I2 = f(a+h), 0.0\n",
    "    for i = 3:2:m-2\n",
    "        I1 += f(a + i*h)\n",
    "        I2 += f(a + (i-1)*h)\n",
    "    end\n",
    "    return h*(f(a) + 4I1 + 2I2 + f(b))/3\n",
    "end"
   ]
  },
  {
   "cell_type": "code",
   "execution_count": 8,
   "metadata": {
    "collapsed": false
   },
   "outputs": [
    {
     "data": {
      "text/plain": [
       "2.079339388094681e-5"
      ]
     },
     "execution_count": 8,
     "metadata": {},
     "output_type": "execute_result"
    }
   ],
   "source": [
    "f(x) = exp(x)\n",
    "simpson_repetida(f, a, b) - (F(b) - F(a))"
   ]
  },
  {
   "cell_type": "code",
   "execution_count": 9,
   "metadata": {
    "collapsed": false
   },
   "outputs": [
    {
     "ename": "LoadError",
     "evalue": "LoadError: UndefVarError: plot not defined\nwhile loading In[9], in expression starting on line 2",
     "output_type": "error",
     "traceback": [
      "LoadError: UndefVarError: plot not defined\nwhile loading In[9], in expression starting on line 2",
      ""
     ]
    }
   ],
   "source": [
    "Erro = map(m->simpson_repetida(f, a, b, m=m)-(F(b)-F(a)), 2:100)\n",
    "plot(2:100, abs(Erro), yaxis=:log)"
   ]
  },
  {
   "cell_type": "code",
   "execution_count": 10,
   "metadata": {
    "collapsed": false
   },
   "outputs": [
    {
     "data": {
      "text/plain": [
       "trapezio_repetida (generic function with 1 method)"
      ]
     },
     "execution_count": 10,
     "metadata": {},
     "output_type": "execute_result"
    }
   ],
   "source": [
    "function trapezio_repetida(f, a, b; m = 10)\n",
    "    if m < 2\n",
    "        error(\"m deve ser maior ou igual a 2\")\n",
    "    end\n",
    "    I = f(a) + f(b)\n",
    "    h = (b-a)/(m-1)\n",
    "    for i = 1:m-2\n",
    "        I += 2*f(a + i*h)\n",
    "    end\n",
    "    return I * h / 2\n",
    "end"
   ]
  },
  {
   "cell_type": "code",
   "execution_count": 11,
   "metadata": {
    "collapsed": false
   },
   "outputs": [
    {
     "ename": "LoadError",
     "evalue": "LoadError: UndefVarError: plot not defined\nwhile loading In[11], in expression starting on line 2",
     "output_type": "error",
     "traceback": [
      "LoadError: UndefVarError: plot not defined\nwhile loading In[11], in expression starting on line 2",
      ""
     ]
    }
   ],
   "source": [
    "Erro = map(m->simpson_repetida(f, a, b, m=m)-(F(b)-F(a)), 2:100)\n",
    "plot(2:100, abs(Erro), yaxis=:log)\n",
    "Erro = map(m->trapezio_repetida(f, a, b, m=m)-(F(b)-F(a)), 2:100)\n",
    "plot!(2:100, abs(Erro), yaxis=:log, c=:red)"
   ]
  },
  {
   "cell_type": "markdown",
   "metadata": {},
   "source": [
    "Lembre-se que o erro da aproximação do **trapézio** é de $h^3f''(\\xi)$. Daí,\n",
    "se $f'' = 0$, então o erro é nulo."
   ]
  },
  {
   "cell_type": "code",
   "execution_count": 12,
   "metadata": {
    "collapsed": false
   },
   "outputs": [
    {
     "data": {
      "text/plain": [
       "0.0"
      ]
     },
     "execution_count": 12,
     "metadata": {},
     "output_type": "execute_result"
    }
   ],
   "source": [
    "f(x) = 1 + x\n",
    "F(x) = x + x^2/2\n",
    "trapezio_repetida(f, a, b, m=2) - (F(b)-F(a))"
   ]
  },
  {
   "cell_type": "code",
   "execution_count": 13,
   "metadata": {
    "collapsed": false
   },
   "outputs": [
    {
     "data": {
      "text/plain": [
       "0.0"
      ]
     },
     "execution_count": 13,
     "metadata": {},
     "output_type": "execute_result"
    }
   ],
   "source": [
    "simpson_repetida(f, a, b, m=2) - (F(b)-F(a))"
   ]
  },
  {
   "cell_type": "code",
   "execution_count": 14,
   "metadata": {
    "collapsed": false
   },
   "outputs": [
    {
     "data": {
      "text/plain": [
       "1.3333333333333335"
      ]
     },
     "execution_count": 14,
     "metadata": {},
     "output_type": "execute_result"
    }
   ],
   "source": [
    "f(x) = 1 + x + x^2\n",
    "F(x) = x + x^2/2 + x^3/3\n",
    "trapezio_repetida(f, a, b, m=2) - (F(b)-F(a))"
   ]
  },
  {
   "cell_type": "code",
   "execution_count": 15,
   "metadata": {
    "collapsed": false
   },
   "outputs": [
    {
     "data": {
      "text/plain": [
       "0.0"
      ]
     },
     "execution_count": 15,
     "metadata": {},
     "output_type": "execute_result"
    }
   ],
   "source": [
    "simpson_repetida(f, a, b, m=2) - (F(b)-F(a)) # Esperado que seja 0.0"
   ]
  },
  {
   "cell_type": "code",
   "execution_count": 16,
   "metadata": {
    "collapsed": false
   },
   "outputs": [
    {
     "data": {
      "text/plain": [
       "1.333333333333334"
      ]
     },
     "execution_count": 16,
     "metadata": {},
     "output_type": "execute_result"
    }
   ],
   "source": [
    "f(x) = 1 + x + x^2 + x^3\n",
    "F(x) = x + x^2/2 + x^3/3 + x^4/4\n",
    "trapezio_repetida(f, a, b, m=2) - (F(b)-F(a))"
   ]
  },
  {
   "cell_type": "code",
   "execution_count": 17,
   "metadata": {
    "collapsed": false
   },
   "outputs": [
    {
     "data": {
      "text/plain": [
       "4.440892098500626e-16"
      ]
     },
     "execution_count": 17,
     "metadata": {},
     "output_type": "execute_result"
    }
   ],
   "source": [
    "simpson_repetida(f, a, b, m=2) - (F(b)-F(a))"
   ]
  },
  {
   "cell_type": "code",
   "execution_count": 18,
   "metadata": {
    "collapsed": false
   },
   "outputs": [
    {
     "data": {
      "text/plain": [
       "2.9333333333333336"
      ]
     },
     "execution_count": 18,
     "metadata": {},
     "output_type": "execute_result"
    }
   ],
   "source": [
    "f(x) = 1 + x + x^2 + x^3 + x^4\n",
    "F(x) = x + x^2/2 + x^3/3 + x^4/4 + x^5/5\n",
    "trapezio_repetida(f, a, b, m=2) - (F(b)-F(a))"
   ]
  },
  {
   "cell_type": "code",
   "execution_count": 19,
   "metadata": {
    "collapsed": false
   },
   "outputs": [
    {
     "data": {
      "text/plain": [
       "0.26666666666666705"
      ]
     },
     "execution_count": 19,
     "metadata": {},
     "output_type": "execute_result"
    }
   ],
   "source": [
    "simpson_repetida(f, a, b, m=2) - (F(b)-F(a))"
   ]
  },
  {
   "cell_type": "markdown",
   "metadata": {},
   "source": [
    "Surpreendentemente, o erro da integral de Simpson não é apenas \"um a mais\" no\n",
    "expoente, e sim $h^5f^{(iv)}(\\xi)$,\n",
    "de modo que a integral de Simpson **integra polinômios de até grau 3 exatamente**."
   ]
  },
  {
   "cell_type": "code",
   "execution_count": 20,
   "metadata": {
    "collapsed": false
   },
   "outputs": [
    {
     "data": {
      "text/plain": [
       "4760.448347286904"
      ]
     },
     "execution_count": 20,
     "metadata": {},
     "output_type": "execute_result"
    }
   ],
   "source": [
    "1 + sqrt(e/12e-8)"
   ]
  },
  {
   "cell_type": "code",
   "execution_count": 21,
   "metadata": {
    "collapsed": false
   },
   "outputs": [
    {
     "data": {
      "text/plain": [
       "-6.319745171623481e-9"
      ]
     },
     "execution_count": 21,
     "metadata": {},
     "output_type": "execute_result"
    }
   ],
   "source": [
    "f(x) = exp(x)\n",
    "a, b = 1, 0\n",
    "F(x) = exp(x)\n",
    "trapezio_repetida(f, a, b, m=4761) - (F(b)-F(a))"
   ]
  },
  {
   "cell_type": "markdown",
   "metadata": {},
   "source": [
    "# Quadratura Gaussiana"
   ]
  },
  {
   "cell_type": "markdown",
   "metadata": {},
   "source": [
    "Como vimos, a ordem do erro de uma integral numérica não é necessariamente a mesma que o número de pontos que são usados.\n",
    "\n",
    "A quadratura Gaussiana tem por objetivo obter o melhor erro com o menor número de pontos.\n",
    "\n",
    "Como não podemos calcular o erro exatamente, vamos usar a noção de integrar polinômios exatamente."
   ]
  },
  {
   "cell_type": "markdown",
   "metadata": {},
   "source": [
    "Uma quadratura Gaussiana terá a forma\n",
    "\n",
    "$$ \\int_a^b f(x)\\mbox{d}x \\approx \\sum_{i=1}^n A_i f(x_i), $$\n",
    "onde $n$ é a ordem da quadratura. Para simplificar, vamos começar considerando o caso $[-1,1]$.\n",
    "$$ \\int_{-1}^1\\! g(t)\\mbox{d}t \\approx \\sum_{i=1}^n A_i g(t_i), $$"
   ]
  },
  {
   "cell_type": "markdown",
   "metadata": {},
   "source": [
    "Um polinômio de ordem $N$ geral pode ser escrito como uma combinação dos elementos da base canônica\n",
    "$1$, $t$, $t^2$, $\\dots$, $t^N$. Sendo assim, para interpolar exatamente um polinômio de ordem $N$,\n",
    "é necessário e suficiente interpolar exatamente todos os $N+1$ elementos de sua base."
   ]
  },
  {
   "cell_type": "markdown",
   "metadata": {},
   "source": [
    "Como temos $2n$ incógnitas, o grau máximo do polinômio a ser interpolado é $N = 2n-1$."
   ]
  },
  {
   "cell_type": "markdown",
   "metadata": {},
   "source": [
    "Vamos mostrar um exemplo com $n = 1$."
   ]
  },
  {
   "cell_type": "markdown",
   "metadata": {},
   "source": [
    "$$ \\int_{-1}^1\\! g(t)\\mbox{d}t \\approx A_1 g(t_1), $$"
   ]
  },
  {
   "cell_type": "markdown",
   "metadata": {},
   "source": [
    "O grau máximo é $N = 1$, então vamos encontrar $A_1$ e $t_1$ tais que\n",
    "a integral acima é exata para $g(t) = 1$ e $g(t) = t$."
   ]
  },
  {
   "cell_type": "markdown",
   "metadata": {},
   "source": [
    "As seguintes equações devem ser satisfeitas:\n",
    "$$ \\int_{-1}^1 1\\mbox{d}t = A_1 1 $$\n",
    "$$ \\int_{-1}^1 t\\mbox{d}t = A_1 t_1 $$"
   ]
  },
  {
   "cell_type": "markdown",
   "metadata": {},
   "source": [
    "isto é,\n",
    "$$ 2 = A_1 $$\n",
    "$$ 0 = A_1 t_1. $$\n",
    "\n",
    "A solução é $A_1 = 2$ e $t_1 = 0$."
   ]
  },
  {
   "cell_type": "markdown",
   "metadata": {},
   "source": [
    "Isto é,\n",
    "$$ \\int_{-1}^1 g(t)\\mbox{d}t \\approx 2g(0). $$\n",
    "Para generalizar para a integral de $f$ em $[a,b]$, basta considerar a mudança\n",
    "de variável $x = \\dfrac{a+b}{2} + \\dfrac{b-a}{2}t$.\n",
    "Daí,\n",
    "$ \\mbox{d}x = \\dfrac{b-a}{2}\\mbox{d}t$, e então\n",
    "\\begin{align}\n",
    "\\int_a^b f(x) \\mbox{d}x\n",
    "& = \\int_{-1}^1 f(x(t)) \\frac{b-a}{2} \\mbox{d}t \\\\\n",
    "& = \\frac{b-a}{2}\\int_{-1}^1 f\\bigg(\\frac{a+b}{2} + \\frac{b-a}{2}t\\bigg)\\mbox{d}t \\\\\n",
    "& \\approx (b-a)f\\bigg(\\frac{a+b}{2}\\bigg).\n",
    "\\end{align}\n",
    "\n",
    "$$\n",
    "g(t) = \\frac{b-a}{2} f\\bigg(\\frac{a+b}{2} + \\frac{b-a}{2}t\\bigg)\n",
    "= h f(M + ht)\n",
    "$$"
   ]
  },
  {
   "cell_type": "code",
   "execution_count": 23,
   "metadata": {
    "collapsed": false
   },
   "outputs": [
    {
     "data": {
      "text/plain": [
       "quadgauss1 (generic function with 1 method)"
      ]
     },
     "execution_count": 23,
     "metadata": {},
     "output_type": "execute_result"
    }
   ],
   "source": [
    "function quadgauss1(f, a, b)\n",
    "    return (b-a)*f((a+b)/2)\n",
    "end"
   ]
  },
  {
   "cell_type": "code",
   "execution_count": 28,
   "metadata": {
    "collapsed": false
   },
   "outputs": [
    {
     "data": {
      "text/plain": [
       "-0.0695605577589169"
      ]
     },
     "execution_count": 28,
     "metadata": {},
     "output_type": "execute_result"
    }
   ],
   "source": [
    "a, b = 0, 1\n",
    "f(x) = exp(x)\n",
    "F(x) = exp(x)\n",
    "quadgauss1(f, a, b) - (F(b)-F(a))"
   ]
  },
  {
   "cell_type": "markdown",
   "metadata": {},
   "source": [
    "## Exercício\n",
    "\n",
    "- Fazer com $n = 2$."
   ]
  },
  {
   "cell_type": "code",
   "execution_count": 29,
   "metadata": {
    "collapsed": false
   },
   "outputs": [
    {
     "data": {
      "text/plain": [
       "quadgauss2 (generic function with 1 method)"
      ]
     },
     "execution_count": 29,
     "metadata": {},
     "output_type": "execute_result"
    }
   ],
   "source": [
    "function quadgauss2(f, a, b)\n",
    "    m = (a+b)/2\n",
    "    h = (b-a)/2\n",
    "    r = sqrt(3)/3\n",
    "    return h*(f(m - h*r) + f(m + h*r))\n",
    "end"
   ]
  },
  {
   "cell_type": "code",
   "execution_count": 30,
   "metadata": {
    "collapsed": false
   },
   "outputs": [
    {
     "data": {
      "text/plain": [
       "-0.0003854504515410362"
      ]
     },
     "execution_count": 30,
     "metadata": {},
     "output_type": "execute_result"
    }
   ],
   "source": [
    "f(x) = exp(x)\n",
    "F(x) = exp(x)\n",
    "quadgauss2(f, a, b) - (F(b)-F(a))"
   ]
  },
  {
   "cell_type": "code",
   "execution_count": 31,
   "metadata": {
    "collapsed": false
   },
   "outputs": [
    {
     "data": {
      "text/plain": [
       "0.0005793234175477391"
      ]
     },
     "execution_count": 31,
     "metadata": {},
     "output_type": "execute_result"
    }
   ],
   "source": [
    "simpson_repetida(f, a, b, m=2) - (F(b)-F(a))"
   ]
  },
  {
   "cell_type": "code",
   "execution_count": 41,
   "metadata": {
    "collapsed": false
   },
   "outputs": [
    {
     "data": {
      "text/plain": [
       "-0.24999229842028378"
      ]
     },
     "execution_count": 41,
     "metadata": {},
     "output_type": "execute_result"
    }
   ],
   "source": [
    "f(x) = x*log(x)\n",
    "simpson_repetida(f, 1e-12, 1, m=100)"
   ]
  },
  {
   "cell_type": "code",
   "execution_count": 42,
   "metadata": {
    "collapsed": false
   },
   "outputs": [
    {
     "data": {
      "text/plain": [
       "-0.2578533682317772"
      ]
     },
     "execution_count": 42,
     "metadata": {},
     "output_type": "execute_result"
    }
   ],
   "source": [
    "quadgauss2(f, 0, 1)"
   ]
  },
  {
   "cell_type": "code",
   "execution_count": 45,
   "metadata": {
    "collapsed": false
   },
   "outputs": [
    {
     "data": {
      "text/plain": [
       "943188.3937531271"
      ]
     },
     "execution_count": 45,
     "metadata": {},
     "output_type": "execute_result"
    }
   ],
   "source": [
    "f(x) = 1/sqrt(1-x^2)\n",
    "simpson_repetida(f, -1+1e-14, 1-1e-14)"
   ]
  },
  {
   "cell_type": "code",
   "execution_count": 46,
   "metadata": {
    "collapsed": false
   },
   "outputs": [
    {
     "data": {
      "text/plain": [
       "1.3248121441980998"
      ]
     },
     "execution_count": 46,
     "metadata": {},
     "output_type": "execute_result"
    }
   ],
   "source": [
    "quadgauss2(f, 0, 1)"
   ]
  },
  {
   "cell_type": "code",
   "execution_count": 63,
   "metadata": {
    "collapsed": false
   },
   "outputs": [
    {
     "data": {
      "text/plain": [
       "sinh_tanh (generic function with 1 method)"
      ]
     },
     "execution_count": 63,
     "metadata": {},
     "output_type": "execute_result"
    }
   ],
   "source": [
    "function sinh_tanh(f, a, b; m=10)\n",
    "    x(t) = tanh(sinh(t))\n",
    "    w(t) = cosh(t)*sech(sinh(t))^2\n",
    "    \n",
    "    g(t) = f(x(t)) * w(t)\n",
    "    return simpson_repetida(g, -3, 3, m=m)\n",
    "end"
   ]
  },
  {
   "cell_type": "code",
   "execution_count": 74,
   "metadata": {
    "collapsed": false
   },
   "outputs": [
    {
     "data": {
      "text/plain": [
       "-6.689442549756563e-5"
      ]
     },
     "execution_count": 74,
     "metadata": {},
     "output_type": "execute_result"
    }
   ],
   "source": [
    "sinh_tanh(f, -1, 1, m=15) - pi"
   ]
  },
  {
   "cell_type": "code",
   "execution_count": null,
   "metadata": {
    "collapsed": true
   },
   "outputs": [],
   "source": []
  }
 ],
 "metadata": {
  "kernelspec": {
   "display_name": "Julia 0.4.6",
   "language": "julia",
   "name": "julia-0.4"
  },
  "language_info": {
   "file_extension": ".jl",
   "mimetype": "application/julia",
   "name": "julia",
   "version": "0.4.6"
  }
 },
 "nbformat": 4,
 "nbformat_minor": 0
}
