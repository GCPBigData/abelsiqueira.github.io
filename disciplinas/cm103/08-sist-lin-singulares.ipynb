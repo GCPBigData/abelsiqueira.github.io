{
 "cells": [
  {
   "cell_type": "markdown",
   "metadata": {},
   "source": [
    "## Sistemas Lineares Singulares ou Não-quadrados"
   ]
  },
  {
   "cell_type": "markdown",
   "metadata": {},
   "source": [
    "Considere a matriz abaixo."
   ]
  },
  {
   "cell_type": "code",
   "execution_count": 3,
   "metadata": {
    "collapsed": false
   },
   "outputs": [
    {
     "data": {
      "text/plain": [
       "2x5 Array{Float64,2}:\n",
       " 1.0  2.0  0.0   2.0  5.0\n",
       " 0.0  0.0  1.0  -4.0  2.0"
      ]
     },
     "execution_count": 3,
     "metadata": {},
     "output_type": "execute_result"
    }
   ],
   "source": [
    "A = [1.0 2.0 0.0 2.0 5.0; 0.0 0.0 1.0 -4.0 2.0]"
   ]
  },
  {
   "cell_type": "markdown",
   "metadata": {},
   "source": [
    "$A$ claramente tem um problema. Ela só tem duas linhas, mas tem cinco colunas.\n",
    "Então podemos esperar que $Ax = b$ não tenha solução, ou que tenha infinitas.\n",
    "Mas como verificar isso?"
   ]
  },
  {
   "cell_type": "code",
   "execution_count": 4,
   "metadata": {
    "collapsed": false
   },
   "outputs": [
    {
     "data": {
      "text/plain": [
       "3x2 Array{Float64,2}:\n",
       " 1.0  0.0\n",
       " 0.0  1.0\n",
       " 1.0  1.0"
      ]
     },
     "execution_count": 4,
     "metadata": {},
     "output_type": "execute_result"
    }
   ],
   "source": [
    "A = [1.0 0.0; 0.0 1.0; 1.0 1.0]"
   ]
  },
  {
   "cell_type": "markdown",
   "metadata": {},
   "source": [
    "Esta $A$ tem um problema parecido. Suas linhas são em maior número que a coluna. O que esperar do sistema $Ax = b$?"
   ]
  },
  {
   "cell_type": "markdown",
   "metadata": {},
   "source": [
    "## Imagem e Núcleo\n",
    "\n",
    "Em Álgebra Linear, já foi visto imagem e núcleo de transformações lineares.\n",
    "Também vimos que $A$ define a transformação $T:\\mathbb{R}^n\\longrightarrow\\mathbb{R}^m$ dada\n",
    "por $T(x) = Ax$. Para matrizes, estendendo o conceito, temos\n",
    "\n",
    "$$ \\mbox{Im}(A) = \\{Ax \\mid\\ \\forall x \\in \\mathbb{R}^n\\}\n",
    "= \\{y \\in \\mathbb{R}^m \\mid\\ \\exists x \\in \\mathbb{R}^m \\mid\\ y = Ax\\}\n",
    "\\subset \\mathbb{R}^m $$\n",
    "$$ \\mbox{Nu}(A) = \\{x \\mid\\ Ax = 0\\} \\subset \\mathbb{R}^n. $$\n",
    "\n",
    "O sistema linear $Ax = b$ tem solução se $b \\in \\mbox{Im}(A)$. E caso tenha,\n",
    "todas soluções são da forma $x + d$, onde $Ad = 0$, isto é, $x + \\mbox{Nu}(A)$,\n",
    "onde $x$ é uma solução."
   ]
  },
  {
   "cell_type": "markdown",
   "metadata": {},
   "source": [
    "No primeiro caso, podemos trocas as colunas de $A$ obtendo $[I\\ B]$, onde $I$ é a identidade e $B$ é uma matriz qualquer. Trocamos as linhas de $x$ respectivamente, obtendo $[x_I; x_B]$. Uma solução do sistema $Ax = b$ seria\n",
    "$x_I = b$ e $x_B = 0$.\n",
    "\n",
    "De maneira geral, $I$ poderia ser $U$ e fariamos $x_I = U^{-1}b$."
   ]
  },
  {
   "cell_type": "markdown",
   "metadata": {},
   "source": [
    "Uma estratégia para obter isso é realmente fazer as permutações de coluna na fatoração LU.\n",
    "Isso é chamado de pivoteamento completo.\n",
    "Apesar de funcionar, é pouco praticado."
   ]
  },
  {
   "cell_type": "markdown",
   "metadata": {},
   "source": [
    "Def.: (Posto) O posto-linha da matriz $A$ é o número de linhas linearmente independente de $A$.\n",
    "O posto-coluna é análogo.\n",
    "\n",
    "Teo.: O posto-linha é igual ao posto-coluna e por isso dizemos apenas posto.\n",
    "\n",
    "Def.: Dizemos que uma matriz $A: m\\times n$ tem posto-linha completo de o posto de $A$ é $m$.\n",
    "Análogo para posto-coluna completo.\n",
    "\n",
    "Def.: Dizemos que $A$ tem posto completo se o posto de $A$ é $\\min\\{m,n\\}$.\n",
    "\n",
    "Teo.: Se $A$ tem posto-linha completo, então $Ax = b$ tem uma solução se $n = m$ ou infinitas\n",
    "se $m < n$. (Note que $m > n$ é impossível.)\n",
    "\n",
    "Teo.: Se $A$ tem posto-coluna completo, então $\\mbox{Nu}(A) = \\{0\\}$. Daí, se existir solução,\n",
    "ela é única. Note que pode não existir solução."
   ]
  },
  {
   "cell_type": "markdown",
   "metadata": {},
   "source": [
    "Teo.: Se $A$, $m\\times n$ com $m \\leq n$, então existem matrizes $L$, $U$ e $P$ tais que\n",
    "$PA = LU$, com $P$ matriz de permutação de linhas, $L$ triangular inferior $m\\times m$ com diagonal de 1s e\n",
    "$U$ é tipo escada superior $m\\times n$ com o mesmo posto que $A$."
   ]
  },
  {
   "cell_type": "code",
   "execution_count": 10,
   "metadata": {
    "collapsed": false
   },
   "outputs": [
    {
     "data": {
      "text/plain": [
       "2x5 Array{Float64,2}:\n",
       "  2.0   3.0   1.0  1.0  1.0\n",
       " -4.0  -6.0  -3.0  3.0  2.0"
      ]
     },
     "execution_count": 10,
     "metadata": {},
     "output_type": "execute_result"
    }
   ],
   "source": [
    "A = [2.0 3.0 1.0 1.0 1.0; -4.0 -6.0 -3.0 3.0 2.0]"
   ]
  },
  {
   "cell_type": "code",
   "execution_count": 11,
   "metadata": {
    "collapsed": false
   },
   "outputs": [
    {
     "data": {
      "text/plain": [
       "2x5 Array{Float64,2}:\n",
       " 2.0  3.0   1.0  1.0  1.0\n",
       " 0.0  0.0  -1.0  5.0  4.0"
      ]
     },
     "execution_count": 11,
     "metadata": {},
     "output_type": "execute_result"
    }
   ],
   "source": [
    "m21 = A[2,1]/A[1,1]\n",
    "U = copy(A)\n",
    "U[2,1] = 0.0\n",
    "U[2,2:5] -= m21*U[1,2:5]\n",
    "U"
   ]
  },
  {
   "cell_type": "code",
   "execution_count": 15,
   "metadata": {
    "collapsed": false
   },
   "outputs": [
    {
     "data": {
      "text/plain": [
       "3x5 Array{Float64,2}:\n",
       " 2.0  3.0   1.0    1.0   1.0\n",
       " 0.0  0.0  -1.0    5.0   4.0\n",
       " 0.0  0.0   2.0  -10.0  -8.0"
      ]
     },
     "execution_count": 15,
     "metadata": {},
     "output_type": "execute_result"
    }
   ],
   "source": [
    "A = [2.0 3.0 1.0 1.0 1.0; 0.0 0.0 -1.0 5.0 4.0; 0.0 0.0 2.0 -10.0 -8.0]"
   ]
  },
  {
   "cell_type": "code",
   "execution_count": 16,
   "metadata": {
    "collapsed": false
   },
   "outputs": [
    {
     "data": {
      "text/plain": [
       "3x5 Array{Float64,2}:\n",
       " 2.0  3.0   1.0  1.0  1.0\n",
       " 0.0  0.0  -1.0  5.0  4.0\n",
       " 0.0  0.0   0.0  0.0  0.0"
      ]
     },
     "execution_count": 16,
     "metadata": {},
     "output_type": "execute_result"
    }
   ],
   "source": [
    "m33 = A[3,3]/A[2,3]\n",
    "U = copy(A)\n",
    "U[3,3] = 0.0\n",
    "U[3,4:end] -= m33*U[2,4:end]\n",
    "U"
   ]
  },
  {
   "cell_type": "markdown",
   "metadata": {},
   "source": [
    "Teo.: Se $A$ é $m \\times n$ com $m > n$, então existe $L$, $m\\times n$ com diagonal de 1\n",
    "e $U$, $n \\times n$ com mesmo posto que $A$, $P$ permutação de linhas tais que \n",
    "$PA = LU$."
   ]
  },
  {
   "cell_type": "code",
   "execution_count": 30,
   "metadata": {
    "collapsed": false
   },
   "outputs": [
    {
     "data": {
      "text/plain": [
       "5x3 Array{Float64,2}:\n",
       " 0.439409  0.151356   0.41955 \n",
       " 0.812813  0.997602   0.996961\n",
       " 0.453936  0.102023   0.652977\n",
       " 0.402581  0.220917   0.529434\n",
       " 0.402738  0.0837114  0.293798"
      ]
     },
     "execution_count": 30,
     "metadata": {},
     "output_type": "execute_result"
    }
   ],
   "source": [
    "A = rand(5,3)"
   ]
  },
  {
   "cell_type": "code",
   "execution_count": 38,
   "metadata": {
    "collapsed": false
   },
   "outputs": [
    {
     "data": {
      "text/plain": [
       "dec_lu_pivot (generic function with 1 method)"
      ]
     },
     "execution_count": 38,
     "metadata": {},
     "output_type": "execute_result"
    }
   ],
   "source": [
    "function dec_lu_pivot(A; tol=1e-12)\n",
    "    m,n = size(A)\n",
    "    U = copy(A)\n",
    "    L = zeros(m,n)\n",
    "    P = collect(1:m)\n",
    "    for j = 1:n\n",
    "        if j > m\n",
    "            break\n",
    "        end\n",
    "        i_pivo, pivo = j, abs(U[j,j])\n",
    "        for i = j+1:m\n",
    "            if abs(U[i,j]) > pivo\n",
    "                pivo = abs(U[i,j])\n",
    "                i_pivo = i\n",
    "            end\n",
    "        end\n",
    "        if pivo < tol\n",
    "            error(\"pivo ≈ 0.0\")\n",
    "        end\n",
    "        if i_pivo != j\n",
    "            U[[i_pivo; j],:] = U[[j; i_pivo],:]\n",
    "            L[[i_pivo; j],:] = L[[j; i_pivo],:]\n",
    "            P[[i_pivo; j]] = P[[j; i_pivo]]\n",
    "        end\n",
    "        L[j,j] = 1.0\n",
    "        for i = j+1:m\n",
    "            mij = U[i,j]/U[j,j]\n",
    "            L[i,j] = mij\n",
    "            U[i,j] = 0.0\n",
    "            for k = j+1:n\n",
    "                U[i,k] -= mij*U[j,k]\n",
    "            end\n",
    "        end\n",
    "    end\n",
    "    return L, U, P\n",
    "end"
   ]
  },
  {
   "cell_type": "code",
   "execution_count": 40,
   "metadata": {
    "collapsed": false,
    "scrolled": true
   },
   "outputs": [
    {
     "data": {
      "text/plain": [
       "(\n",
       "3x5 Array{Float64,2}:\n",
       " 1.0        0.0       0.0  0.0  0.0\n",
       " 0.0300684  1.0       0.0  0.0  0.0\n",
       " 0.711383   0.633366  1.0  0.0  0.0,\n",
       "\n",
       "3x5 Array{Float64,2}:\n",
       " 0.645079  0.585493  0.174164   0.784098   0.542631 \n",
       " 0.0       0.858781  0.505681   0.413835   0.0453217\n",
       " 0.0       0.0       0.457704  -0.362137  -0.0562869,\n",
       "\n",
       "[2,3,1])"
      ]
     },
     "execution_count": 40,
     "metadata": {},
     "output_type": "execute_result"
    }
   ],
   "source": [
    "# Testes\n",
    "A = rand(3,5)\n",
    "L, U, P = dec_lu_pivot(A)"
   ]
  },
  {
   "cell_type": "code",
   "execution_count": 42,
   "metadata": {
    "collapsed": false
   },
   "outputs": [
    {
     "ename": "LoadError",
     "evalue": "LoadError: pivo ≈ 0.0\nwhile loading In[42], in expression starting on line 3",
     "output_type": "error",
     "traceback": [
      "LoadError: pivo ≈ 0.0\nwhile loading In[42], in expression starting on line 3",
      "",
      " in dec_lu_pivot at In[38]:18"
     ]
    }
   ],
   "source": [
    "A = rand(3,5)\n",
    "A[3,:] = A[1,:] + A[2,:]\n",
    "L, U, P = dec_lu_pivot(A)"
   ]
  },
  {
   "cell_type": "code",
   "execution_count": 43,
   "metadata": {
    "collapsed": false,
    "scrolled": true
   },
   "outputs": [
    {
     "data": {
      "text/plain": [
       "(\n",
       "5x3 Array{Float64,2}:\n",
       " 1.0         0.0       0.0     \n",
       " 0.0312529   1.0       0.0     \n",
       " 0.906889   -0.204412  1.0     \n",
       " 0.96666    -0.023116  0.976029\n",
       " 0.490456    0.147277  0.198952,\n",
       "\n",
       "5x3 Array{Float64,2}:\n",
       " 0.992183  0.244603  0.536551\n",
       " 0.0       0.925348  0.246548\n",
       " 0.0       0.0       0.245945\n",
       " 0.0       0.0       0.0     \n",
       " 0.0       0.0       0.0     ,\n",
       "\n",
       "[1,2,4,3,5])"
      ]
     },
     "execution_count": 43,
     "metadata": {},
     "output_type": "execute_result"
    }
   ],
   "source": [
    "A = rand(5,3)\n",
    "L, U, P = dec_lu_pivot(A)"
   ]
  },
  {
   "cell_type": "code",
   "execution_count": 45,
   "metadata": {
    "collapsed": false
   },
   "outputs": [
    {
     "ename": "LoadError",
     "evalue": "LoadError: pivo ≈ 0.0\nwhile loading In[45], in expression starting on line 3",
     "output_type": "error",
     "traceback": [
      "LoadError: pivo ≈ 0.0\nwhile loading In[45], in expression starting on line 3",
      "",
      " in dec_lu_pivot at In[38]:18"
     ]
    }
   ],
   "source": [
    "A = rand(5,3)\n",
    "A[:,3] = A[:,1] + A[:,2]\n",
    "L, U, P = dec_lu_pivot(A)"
   ]
  },
  {
   "cell_type": "code",
   "execution_count": 175,
   "metadata": {
    "collapsed": false
   },
   "outputs": [
    {
     "data": {
      "text/plain": [
       "dec_lu_pivot (generic function with 1 method)"
      ]
     },
     "execution_count": 175,
     "metadata": {},
     "output_type": "execute_result"
    }
   ],
   "source": [
    "function dec_lu_pivot(A; tol=1e-12)\n",
    "    m,n = size(A)\n",
    "    U = copy(A)\n",
    "    if m <= n\n",
    "        L = zeros(m,m)\n",
    "    else\n",
    "        L = zeros(m,n)\n",
    "    end\n",
    "    P = collect(1:m)\n",
    "    d = 1 # Linha onde escada deve ser não-nulo. Se não tiver problemas, d=j, senão d<j.\n",
    "    for j = 1:n\n",
    "        i_pivo, pivo = d, abs(U[d,j])\n",
    "        for i = d+1:m\n",
    "            if abs(U[i,j]) > pivo\n",
    "                pivo = abs(U[i,j])\n",
    "                i_pivo = i\n",
    "            end\n",
    "        end\n",
    "        if pivo < tol\n",
    "            # Ninguém nessa coluna é não-nulo o suficiente.\n",
    "            # Vamos dizer que são todos zero, então.\n",
    "            for i = d:m\n",
    "                U[i,j] = 0.0\n",
    "            end\n",
    "            continue\n",
    "        end\n",
    "        if i_pivo != d\n",
    "            U[[i_pivo; d],:] = U[[d; i_pivo],:]\n",
    "            L[[i_pivo; d],:] = L[[d; i_pivo],:]\n",
    "            P[[i_pivo; d]] = P[[d; i_pivo]]\n",
    "        end\n",
    "        for i = d+1:m\n",
    "            mid = U[i,j]/U[d,j]\n",
    "            L[i,d] = mid\n",
    "            U[i,j] = 0.0\n",
    "            for k = j+1:n\n",
    "                U[i,k] -= mid*U[d,k]\n",
    "            end\n",
    "        end\n",
    "        d += 1\n",
    "        if d > m\n",
    "            break\n",
    "        end\n",
    "    end\n",
    "    for i = 1:min(m,n)\n",
    "        L[i,i] = 1.0\n",
    "    end\n",
    "    if m > n\n",
    "        U = U[1:n,:]\n",
    "    end\n",
    "    return L, U, P\n",
    "end"
   ]
  },
  {
   "cell_type": "code",
   "execution_count": 176,
   "metadata": {
    "collapsed": false
   },
   "outputs": [
    {
     "data": {
      "text/plain": [
       "(\n",
       "3x3 Array{Float64,2}:\n",
       " 1.0       0.0       0.0\n",
       " 0.239692  1.0       0.0\n",
       " 0.550198  0.640936  1.0,\n",
       "\n",
       "3x5 Array{Float64,2}:\n",
       " 0.657599  0.51093  0.712492     0.757844   0.0236808\n",
       " 0.0       0.13412  0.00860452   0.732448   0.450144 \n",
       " 0.0       0.0      0.385824    -0.0770405  0.447778 ,\n",
       "\n",
       "[3,2,1])"
      ]
     },
     "execution_count": 176,
     "metadata": {},
     "output_type": "execute_result"
    }
   ],
   "source": [
    "# Testes\n",
    "A = rand(3,5)\n",
    "L, U, P = dec_lu_pivot(A)"
   ]
  },
  {
   "cell_type": "code",
   "execution_count": 177,
   "metadata": {
    "collapsed": false
   },
   "outputs": [
    {
     "data": {
      "text/plain": [
       "3x5 Array{Float64,2}:\n",
       " 0.0  0.0  0.0  0.0  0.0\n",
       " 0.0  0.0  0.0  0.0  0.0\n",
       " 0.0  0.0  0.0  0.0  0.0"
      ]
     },
     "execution_count": 177,
     "metadata": {},
     "output_type": "execute_result"
    }
   ],
   "source": [
    "L*U - A[P,:]"
   ]
  },
  {
   "cell_type": "code",
   "execution_count": 178,
   "metadata": {
    "collapsed": false
   },
   "outputs": [
    {
     "data": {
      "text/plain": [
       "(\n",
       "3x3 Array{Float64,2}:\n",
       " 1.0         0.0  0.0\n",
       " 0.0518788   1.0  0.0\n",
       " 0.948121   -1.0  1.0,\n",
       "\n",
       "3x5 Array{Float64,2}:\n",
       " 0.766777  0.177805  0.59293    0.830237   0.669112  \n",
       " 0.0       0.116375  0.0866571  0.403018  -0.00366955\n",
       " 0.0       0.0       0.0        0.0        0.0       ,\n",
       "\n",
       "[3,2,1])"
      ]
     },
     "execution_count": 178,
     "metadata": {},
     "output_type": "execute_result"
    }
   ],
   "source": [
    "A = rand(3,5)\n",
    "A[3,:] = A[1,:] + A[2,:]\n",
    "L, U, P = dec_lu_pivot(A)"
   ]
  },
  {
   "cell_type": "code",
   "execution_count": 179,
   "metadata": {
    "collapsed": false
   },
   "outputs": [
    {
     "data": {
      "text/plain": [
       "3x5 Array{Float64,2}:\n",
       " 0.0  0.0  0.0          0.0   0.0        \n",
       " 0.0  0.0  0.0          0.0   0.0        \n",
       " 0.0  0.0  5.55112e-17  0.0  -1.11022e-16"
      ]
     },
     "execution_count": 179,
     "metadata": {},
     "output_type": "execute_result"
    }
   ],
   "source": [
    "L*U - A[P,:]"
   ]
  },
  {
   "cell_type": "code",
   "execution_count": 180,
   "metadata": {
    "collapsed": false
   },
   "outputs": [
    {
     "data": {
      "text/plain": [
       "5x7 Array{Float64,2}:\n",
       " 0.171858  0.843472  0.511865  0.0590484  0.334704  0.259002  0.956345\n",
       " 0.626128  0.510848  0.869225  0.569453   0.226876  0.949505  0.746139\n",
       " 0.171858  0.843472  0.511865  0.0590484  0.334704  0.259002  1.07553 \n",
       " 1.42411   1.86517   2.25032   1.19795    1.42983   2.26075   2.73661 \n",
       " 1.70653   0.689071  2.09581   2.1145     1.02266   3.0566    2.20711 "
      ]
     },
     "execution_count": 180,
     "metadata": {},
     "output_type": "execute_result"
    }
   ],
   "source": [
    "A = rand(5,7)\n",
    "A[3,1:6] = 0.0\n",
    "A[4,1:4] = 0.0\n",
    "A[5,1:3] = 0.0\n",
    "A[3,:] += A[1,:]\n",
    "A[4,:] += A[1,:] + 2*A[2,:]\n",
    "A[5,:] += -A[1,:] + 3*A[2,:]\n",
    "A"
   ]
  },
  {
   "cell_type": "code",
   "execution_count": 181,
   "metadata": {
    "collapsed": false
   },
   "outputs": [
    {
     "data": {
      "text/plain": [
       "(\n",
       "5x5 Array{Float64,2}:\n",
       " 1.0       0.0   0.0   0.0  0.0\n",
       " 0.834511  1.0   0.0   0.0  0.0\n",
       " 0.100706  0.6   1.0   0.0  0.0\n",
       " 0.366902  0.2  -0.5   1.0  0.0\n",
       " 0.100706  0.6   1.0  -0.0  1.0,\n",
       "\n",
       "5x7 Array{Float64,2}:\n",
       " 1.70653  0.689071  2.09581   2.1145     1.02266    3.0566      2.20711  \n",
       " 0.0      1.29013   0.50134  -0.566622   0.576404  -0.290015    0.894745 \n",
       " 0.0      0.0       0.0       0.186077  -0.114128   0.125192    0.316408 \n",
       " 0.0      0.0       0.0       0.0       -0.320685  -0.0513676  -0.0844008\n",
       " 0.0      0.0       0.0       0.0        0.0        0.0        -0.11918  ,\n",
       "\n",
       "[5,4,3,2,1])"
      ]
     },
     "execution_count": 181,
     "metadata": {},
     "output_type": "execute_result"
    }
   ],
   "source": [
    "L, U, P = dec_lu_pivot(A)"
   ]
  },
  {
   "cell_type": "code",
   "execution_count": 182,
   "metadata": {
    "collapsed": false
   },
   "outputs": [
    {
     "data": {
      "text/plain": [
       "5x7 Array{Float64,2}:\n",
       " 0.0  0.0          0.0          0.0          0.0  0.0  0.0        \n",
       " 0.0  0.0          0.0          0.0          0.0  0.0  0.0        \n",
       " 0.0  1.11022e-16  0.0          2.77556e-17  0.0  0.0  0.0        \n",
       " 0.0  0.0          2.22045e-16  0.0          0.0  0.0  1.11022e-16\n",
       " 0.0  1.11022e-16  0.0          2.77556e-17  0.0  0.0  0.0        "
      ]
     },
     "execution_count": 182,
     "metadata": {},
     "output_type": "execute_result"
    }
   ],
   "source": [
    "L*U - A[P,:]"
   ]
  },
  {
   "cell_type": "code",
   "execution_count": 183,
   "metadata": {
    "collapsed": false
   },
   "outputs": [
    {
     "data": {
      "text/plain": [
       "5x7 Array{Float64,2}:\n",
       " 0.739799   0.0663324  0.523188  0.428924  0.564921  0.797903  1.68936 \n",
       " 1.98711    0.428244   1.67945   1.47115   1.26209   2.24101   1.90183 \n",
       " 1.71188   -0.0965818  0.936489  0.681168  1.56251   1.79893   2.80253 \n",
       " 0.739799   0.0663324  0.523188  0.428924  0.564921  0.797903  0.89869 \n",
       " 0.507516   0.295579   0.633074  0.605604  0.132252  0.645205  0.104451"
      ]
     },
     "execution_count": 183,
     "metadata": {},
     "output_type": "execute_result"
    }
   ],
   "source": [
    "A = rand(5,7)\n",
    "A[1,1:6] = 0.0\n",
    "A[2,1:3] = 0.0\n",
    "A[2,5:end] = 0.0\n",
    "A[3,1:5] = 0.0\n",
    "A[1,:] += A[4,:]\n",
    "A[2,:] += A[5,:] + 2*A[4,:]\n",
    "A[3,:] += -A[5,:] + 3*A[4,:]\n",
    "A"
   ]
  },
  {
   "cell_type": "code",
   "execution_count": 184,
   "metadata": {
    "collapsed": false
   },
   "outputs": [
    {
     "data": {
      "text/plain": [
       "(\n",
       "5x5 Array{Float64,2}:\n",
       " 1.0        0.0  0.0       0.0  0.0\n",
       " 0.861491   1.0  0.0       0.0  0.0\n",
       " 0.255404  -0.4  1.0       0.0  0.0\n",
       " 0.372298   0.2  0.333333  1.0  0.0\n",
       " 0.372298   0.2  0.333333  1.0  1.0,\n",
       "\n",
       "5x7 Array{Float64,2}:\n",
       " 1.98711   0.428244   1.67945   …  1.26209       2.24101     1.90183  \n",
       " 0.0      -0.46551   -0.510341     0.475228     -0.131678    1.16413  \n",
       " 0.0       0.0        0.0          8.32667e-17   0.0201711   0.0843667\n",
       " 0.0       0.0        0.0          0.0          -0.0168092  -0.0703056\n",
       " 0.0       0.0        0.0          0.0           0.0         0.790675 ,\n",
       "\n",
       "[2,3,5,4,1])"
      ]
     },
     "execution_count": 184,
     "metadata": {},
     "output_type": "execute_result"
    }
   ],
   "source": [
    "L, U, P = dec_lu_pivot(A)"
   ]
  },
  {
   "cell_type": "code",
   "execution_count": 185,
   "metadata": {
    "collapsed": false
   },
   "outputs": [
    {
     "data": {
      "text/plain": [
       "5x7 Array{Float64,2}:\n",
       " 0.0  0.0   0.0          0.0  0.0  0.0   0.0        \n",
       " 0.0  0.0   0.0          0.0  0.0  0.0   0.0        \n",
       " 0.0  0.0  -1.11022e-16  0.0  0.0  0.0  -2.77556e-17\n",
       " 0.0  0.0   0.0          0.0  0.0  0.0   0.0        \n",
       " 0.0  0.0   0.0          0.0  0.0  0.0   0.0        "
      ]
     },
     "execution_count": 185,
     "metadata": {},
     "output_type": "execute_result"
    }
   ],
   "source": [
    "L*U - A[P,:]"
   ]
  },
  {
   "cell_type": "code",
   "execution_count": 186,
   "metadata": {
    "collapsed": false
   },
   "outputs": [
    {
     "data": {
      "text/plain": [
       "(\n",
       "5x3 Array{Float64,2}:\n",
       " 1.0         0.0         0.0     \n",
       " 0.0903308   1.0         0.0     \n",
       " 0.883046    0.80568     1.0     \n",
       " 0.768573   -0.00209503  0.207168\n",
       " 0.383962    0.699203    0.414936,\n",
       "\n",
       "3x3 Array{Float64,2}:\n",
       " 0.913964  0.209518  0.0312528\n",
       " 0.0       0.888529  0.314393 \n",
       " 0.0       0.0       0.431329 ,\n",
       "\n",
       "[5,4,2,3,1])"
      ]
     },
     "execution_count": 186,
     "metadata": {},
     "output_type": "execute_result"
    }
   ],
   "source": [
    "A = rand(5,3)\n",
    "L, U, P = dec_lu_pivot(A)"
   ]
  },
  {
   "cell_type": "code",
   "execution_count": 188,
   "metadata": {
    "collapsed": false
   },
   "outputs": [
    {
     "data": {
      "text/plain": [
       "5x3 Array{Float64,2}:\n",
       " 0.0   0.0          0.0        \n",
       " 0.0   0.0          0.0        \n",
       " 0.0  -1.11022e-16  0.0        \n",
       " 0.0   0.0          1.38778e-17\n",
       " 0.0   0.0          5.55112e-17"
      ]
     },
     "execution_count": 188,
     "metadata": {},
     "output_type": "execute_result"
    }
   ],
   "source": [
    "L*U - A[P,:]"
   ]
  },
  {
   "cell_type": "code",
   "execution_count": 190,
   "metadata": {
    "collapsed": false
   },
   "outputs": [
    {
     "data": {
      "text/plain": [
       "5x3 Array{Float64,2}:\n",
       " 0.249174  0.938664   1.18784 \n",
       " 0.946152  0.0469359  0.993087\n",
       " 0.516752  0.143781   0.660533\n",
       " 0.733684  0.548442   1.28213 \n",
       " 0.351406  0.0114379  0.362844"
      ]
     },
     "execution_count": 190,
     "metadata": {},
     "output_type": "execute_result"
    }
   ],
   "source": [
    "A = rand(5,3)\n",
    "A[:,3] = A[:,1] + A[:,2]\n",
    "A"
   ]
  },
  {
   "cell_type": "code",
   "execution_count": 191,
   "metadata": {
    "collapsed": false
   },
   "outputs": [
    {
     "data": {
      "text/plain": [
       "(\n",
       "5x3 Array{Float64,2}:\n",
       " 1.0        0.0         0.0\n",
       " 0.263355   1.0         0.0\n",
       " 0.546162   0.127547    1.0\n",
       " 0.77544    0.552785    0.0\n",
       " 0.371405  -0.00647127  0.0,\n",
       "\n",
       "3x3 Array{Float64,2}:\n",
       " 0.946152  0.0469359  0.993087\n",
       " 0.0       0.926303   0.926303\n",
       " 0.0       0.0        0.0     ,\n",
       "\n",
       "[2,1,3,4,5])"
      ]
     },
     "execution_count": 191,
     "metadata": {},
     "output_type": "execute_result"
    }
   ],
   "source": [
    "L, U, P = dec_lu_pivot(A)"
   ]
  },
  {
   "cell_type": "code",
   "execution_count": 193,
   "metadata": {
    "collapsed": false
   },
   "outputs": [
    {
     "data": {
      "text/plain": [
       "5x3 Array{Float64,2}:\n",
       " 0.0  0.0          0.0        \n",
       " 0.0  0.0          0.0        \n",
       " 0.0  0.0          1.11022e-16\n",
       " 0.0  1.11022e-16  2.22045e-16\n",
       " 0.0  0.0          0.0        "
      ]
     },
     "execution_count": 193,
     "metadata": {},
     "output_type": "execute_result"
    }
   ],
   "source": [
    "L*U - A[P,:]"
   ]
  },
  {
   "cell_type": "code",
   "execution_count": 196,
   "metadata": {
    "collapsed": false
   },
   "outputs": [
    {
     "data": {
      "text/plain": [
       "9x5 Array{Float64,2}:\n",
       " 0.0  0.0         -0.0       0.0        0.0     \n",
       " 0.0  0.283638    -0.777501  0.388751   0.430303\n",
       " 0.0  0.967686    -0.129235  0.0646177  0.562396\n",
       " 0.0  0.921316    -1.75386   0.876928   0.16809 \n",
       " 0.0  1.867       -2.91008   1.45504    0.445909\n",
       " 0.0  0.945686    -1.15622   0.578112   0.277819\n",
       " 0.0  0.66428     -1.52715   0.763577   0.309533\n",
       " 0.0  0.00518196  -1.52715   0.763577   0.309533\n",
       " 0.0  0.88895     -1.99609   0.998047   0.976709"
      ]
     },
     "execution_count": 196,
     "metadata": {},
     "output_type": "execute_result"
    }
   ],
   "source": [
    "A = rand(9,5)\n",
    "A[1,:] = 0\n",
    "A[:,1] = 0\n",
    "A[:,3] = -2*A[:,4]\n",
    "A[5,:] = A[4,:] + A[6,:]\n",
    "A[7,3:5] = 0\n",
    "A[7,:] += A[8,:]\n",
    "A"
   ]
  },
  {
   "cell_type": "code",
   "execution_count": 197,
   "metadata": {
    "collapsed": false
   },
   "outputs": [
    {
     "data": {
      "text/plain": [
       "(\n",
       "9x5 Array{Float64,2}:\n",
       " 1.0          0.0        0.0        0.0  0.0\n",
       " 0.00277555   1.0        0.0        0.0  0.0\n",
       " 0.476138     0.401886   1.0        0.0  0.0\n",
       " 0.493474     0.209211  -0.181817   1.0  0.0\n",
       " 0.0         -0.0        0.0        0.0  1.0\n",
       " 0.506526    -0.209211   0.181817   0.0  0.0\n",
       " 0.355801     0.323714   0.0797492  0.0  0.0\n",
       " 0.151921     0.220791   0.459787   0.0  0.0\n",
       " 0.51831     -0.907846   0.954202   0.0  0.0,\n",
       "\n",
       "5x5 Array{Float64,2}:\n",
       " 0.0  1.867  -2.91008  1.45504   0.445909\n",
       " 0.0  0.0    -1.51908  0.759538  0.308296\n",
       " 0.0  0.0     0.0      0.0       0.640495\n",
       " 0.0  0.0     0.0      0.0       0.0     \n",
       " 0.0  0.0     0.0      0.0       0.0     ,\n",
       "\n",
       "[5,8,9,4,1,6,7,2,3])"
      ]
     },
     "execution_count": 197,
     "metadata": {},
     "output_type": "execute_result"
    }
   ],
   "source": [
    "L, U, P = dec_lu_pivot(A)"
   ]
  },
  {
   "cell_type": "code",
   "execution_count": 198,
   "metadata": {
    "collapsed": false
   },
   "outputs": [
    {
     "data": {
      "text/plain": [
       "9x5 Array{Float64,2}:\n",
       " 0.0  0.0           0.0          0.0          0.0\n",
       " 0.0  0.0           0.0          0.0          0.0\n",
       " 0.0  0.0           0.0          0.0          0.0\n",
       " 0.0  0.0           0.0          0.0          0.0\n",
       " 0.0  0.0           0.0          0.0          0.0\n",
       " 0.0  0.0           0.0          0.0          0.0\n",
       " 0.0  0.0           0.0          0.0          0.0\n",
       " 0.0  0.0           0.0          0.0          0.0\n",
       " 0.0  1.11022e-16  -8.32667e-17  4.16334e-17  0.0"
      ]
     },
     "execution_count": 198,
     "metadata": {},
     "output_type": "execute_result"
    }
   ],
   "source": [
    "L*U - A[P,:]"
   ]
  },
  {
   "cell_type": "markdown",
   "metadata": {},
   "source": [
    "É possível reduzir ainda mais."
   ]
  },
  {
   "cell_type": "code",
   "execution_count": 205,
   "metadata": {
    "collapsed": false
   },
   "outputs": [
    {
     "data": {
      "text/plain": [
       "8x3 Array{Float64,2}:\n",
       " 1.0        0.0        0.0     \n",
       " 0.333354   1.0        0.0     \n",
       " 0.0801818  0.0864513  1.0     \n",
       " 0.587797   0.0114004  0.737879\n",
       " 0.901065   0.127944   0.141796\n",
       " 0.922428   0.725448   0.534785\n",
       " 0.334726   0.13626    0.620181\n",
       " 0.14462    0.590013   0.335917"
      ]
     },
     "execution_count": 205,
     "metadata": {},
     "output_type": "execute_result"
    }
   ],
   "source": [
    "L = tril(rand(8,3),-1) + eye(8,3)"
   ]
  },
  {
   "cell_type": "code",
   "execution_count": 208,
   "metadata": {
    "collapsed": false
   },
   "outputs": [
    {
     "data": {
      "text/plain": [
       "3x8 Array{Float64,2}:\n",
       " 0.624965  0.0462707  0.936622  0.700894  …  0.425097   0.937541  0.450068\n",
       " 0.0       0.455775   0.337873  0.235228     0.774182   0.269371  0.13573 \n",
       " 0.0       0.0        0.68337   0.515467     0.0773823  0.53236   0.701346"
      ]
     },
     "execution_count": 208,
     "metadata": {},
     "output_type": "execute_result"
    }
   ],
   "source": [
    "U = triu(rand(3,8))"
   ]
  },
  {
   "cell_type": "code",
   "execution_count": 209,
   "metadata": {
    "collapsed": false
   },
   "outputs": [
    {
     "data": {
      "text/plain": [
       "8x8 Array{Float64,2}:\n",
       " 0.624965   0.0462707  0.936622  0.700894  …  0.425097  0.937541  0.450068\n",
       " 0.208335   0.471199   0.6501    0.468874     0.91589   0.581904  0.285762\n",
       " 0.0501108  0.0431124  0.78768   0.592002     0.178396  0.630821  0.749167\n",
       " 0.367353   0.0323938  1.05864   0.795018     0.315796  0.946972  0.783604\n",
       " 0.563134   0.100006   0.984085  0.734739     0.493064  0.954737  0.522355\n",
       " 0.576486   0.373323   1.47453   1.09283   …  0.995134  1.34493   0.888689\n",
       " 0.209192   0.0775919  0.783364  0.586343     0.295772  0.680684  0.604106\n",
       " 0.0903828  0.275605   0.56436   0.413306     0.544249  0.473349  0.380766"
      ]
     },
     "execution_count": 209,
     "metadata": {},
     "output_type": "execute_result"
    }
   ],
   "source": [
    "A = L*U"
   ]
  },
  {
   "cell_type": "code",
   "execution_count": 210,
   "metadata": {
    "collapsed": false
   },
   "outputs": [
    {
     "data": {
      "text/plain": [
       "(\n",
       "8x8 Array{Float64,2}:\n",
       " 1.0        0.0        0.0       0.0  0.0  0.0  0.0  0.0\n",
       " 0.333354   1.0        0.0       0.0  0.0  0.0  0.0  0.0\n",
       " 0.0801818  0.0864513  1.0       0.0  0.0  0.0  0.0  0.0\n",
       " 0.587797   0.0114004  0.737879  1.0  0.0  0.0  0.0  0.0\n",
       " 0.901065   0.127944   0.141796  0.0  1.0  0.0  0.0  0.0\n",
       " 0.922428   0.725448   0.534785  0.0  0.0  1.0  0.0  0.0\n",
       " 0.334726   0.13626    0.620181  0.0  0.0  0.0  1.0  0.0\n",
       " 0.14462    0.590013   0.335917  0.0  0.0  0.0  0.0  1.0,\n",
       "\n",
       "8x8 Array{Float64,2}:\n",
       " 0.624965  0.0462707  0.936622  0.700894  …  0.425097   0.937541  0.450068\n",
       " 0.0       0.455775   0.337873  0.235228     0.774182   0.269371  0.13573 \n",
       " 0.0       0.0        0.68337   0.515467     0.0773823  0.53236   0.701346\n",
       " 0.0       0.0        0.0       0.0          0.0        0.0       0.0     \n",
       " 0.0       0.0        0.0       0.0          0.0        0.0       0.0     \n",
       " 0.0       0.0        0.0       0.0       …  0.0        0.0       0.0     \n",
       " 0.0       0.0        0.0       0.0          0.0        0.0       0.0     \n",
       " 0.0       0.0        0.0       0.0          0.0        0.0       0.0     ,\n",
       "\n",
       "[1,2,3,4,5,6,7,8])"
      ]
     },
     "execution_count": 210,
     "metadata": {},
     "output_type": "execute_result"
    }
   ],
   "source": [
    "L, U, P = dec_lu_pivot(A)"
   ]
  }
 ],
 "metadata": {
  "kernelspec": {
   "display_name": "Julia 0.4.6",
   "language": "julia",
   "name": "julia-0.4"
  },
  "language_info": {
   "file_extension": ".jl",
   "mimetype": "application/julia",
   "name": "julia",
   "version": "0.4.6"
  }
 },
 "nbformat": 4,
 "nbformat_minor": 0
}
