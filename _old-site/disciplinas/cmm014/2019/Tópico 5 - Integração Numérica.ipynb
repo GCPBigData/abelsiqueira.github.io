{
 "cells": [
  {
   "cell_type": "markdown",
   "metadata": {},
   "source": [
    "# Integração Numérica\n",
    "\n",
    "Em cálculo I aprendemos que\n",
    "$$ \\int_a^b f(x)\\mbox{d}x = F(b) - F(a), $$\n",
    "se $f$ for uma função integrável, e onde $F$ é uma primitiva de $f$.\n",
    "\n",
    "No entanto, nem sempre é fácil encontrar uma primitiva para $F$.\n",
    "Às vezes, pode ser impossível, como em\n",
    "$$ \\int_a^b e^{-x^2}\\mbox{d}x. $$"
   ]
  },
  {
   "cell_type": "markdown",
   "metadata": {},
   "source": [
    "Por sorte, muitas vezes uma aproximação numérica é suficiente para nosso objetivo.\n",
    "\n",
    "Vamos estudar alguns métodos de aproximação numérica, a maior parte deles usando valores da\n",
    "função $f$ em pontos selecionados, isto é\n",
    "$$ \\int_a^bf(x)\\mbox{d}x = \\sum_{i=1}^m A_if(x_i), $$\n",
    "para uma quantidade de pontos $m$, pontos $x_i$ e valores $A_i$.\n",
    "\n",
    "Salvo indicação contrária, iremos supor que $x_1 < x_2 < \\dots < x_m$."
   ]
  },
  {
   "cell_type": "markdown",
   "metadata": {},
   "source": [
    "## Fórmulas de Newton-Cotes\n",
    "\n",
    "As fórmulas de Newton-Cotes provém da **interpolação polinomial da função $f$** em pontos igualmente espaços do\n",
    "intervalo $[a,b]$. Se os intervalos estiverem entre os pontos escolhidos, isto é, se $x_1 = a$ e\n",
    "$x_m = b$, então a fórmula é dita **fechada**. Caso contrário, aberta."
   ]
  },
  {
   "cell_type": "markdown",
   "metadata": {},
   "source": [
    "Uma interpolação polinomial da função $f$ nos pontos $x_1, \\dots, x_m$, é uma função polinomial $p$ que satisfaz $p(x_i) = f(x_i)$, para $i = 1,\\dots,m$."
   ]
  },
  {
   "cell_type": "markdown",
   "metadata": {},
   "source": [
    "As fórmulas de Newton-Cotes fechadas terão os pontos $x_i$ descritos por\n",
    "$$ x_i = a + (i-1)h, $$\n",
    "onde $h = \\dfrac{b-a}{m-1}$."
   ]
  },
  {
   "cell_type": "code",
   "execution_count": null,
   "metadata": {},
   "outputs": [],
   "source": [
    "using Plots\n",
    "gr(size=(400,300))"
   ]
  },
  {
   "cell_type": "code",
   "execution_count": null,
   "metadata": {},
   "outputs": [],
   "source": [
    "a = 1.0\n",
    "b = 3.0\n",
    "m = 11\n",
    "h = (b - a) / (m - 1)"
   ]
  },
  {
   "cell_type": "code",
   "execution_count": null,
   "metadata": {},
   "outputs": [],
   "source": [
    "range(a, b, length=m)"
   ]
  },
  {
   "cell_type": "code",
   "execution_count": null,
   "metadata": {},
   "outputs": [],
   "source": [
    "collect(range(a, b, length=m))"
   ]
  },
  {
   "cell_type": "code",
   "execution_count": null,
   "metadata": {},
   "outputs": [],
   "source": [
    "scatter([a; b], zeros(2), c=:blue, ms=10, leg=false)\n",
    "scatter!(range(a, b, length=m), zeros(m), c=:red)\n",
    "ylims!(-1, 1)"
   ]
  },
  {
   "cell_type": "markdown",
   "metadata": {},
   "source": [
    "No caso das fórmula abertas, o espaçamento entre os pontos é $h$, mas começamos a contar depois de $a$ e paramos antes de $b$. Desse modo, podemos pensar que o espaçamento é $h$ no intervalo fechado $[a + h, b - h]$.\n",
    "De modo que\n",
    "$$ h = \\frac{b - h - (a + h)}{m - 1}. $$"
   ]
  },
  {
   "cell_type": "markdown",
   "metadata": {},
   "source": [
    "Resolvendo essa equação para encontrar $h$, obtemos\n",
    "$$ h = \\frac{b - a}{m+1}. $$"
   ]
  },
  {
   "cell_type": "code",
   "execution_count": null,
   "metadata": {},
   "outputs": [],
   "source": [
    "a = 1.0\n",
    "b = 3.0\n",
    "m = 9\n",
    "h = (b - a) / (m + 1)"
   ]
  },
  {
   "cell_type": "code",
   "execution_count": null,
   "metadata": {
    "scrolled": true
   },
   "outputs": [],
   "source": [
    "collect(range(a+h, b-h, length=m))"
   ]
  },
  {
   "cell_type": "code",
   "execution_count": null,
   "metadata": {},
   "outputs": [],
   "source": [
    "scatter([a; b], zeros(2), c=:blue, ms=10, leg=false)\n",
    "scatter!(range(a+h, b-h, length=m), zeros(m), c=:red)\n",
    "ylims!(-1, 1)"
   ]
  },
  {
   "cell_type": "markdown",
   "metadata": {},
   "source": [
    "### Ponto-Médio\n",
    "\n",
    "Vamos começar considerando uma simples aproximação para $f$: uma interpolação de um ponto.\n",
    "$$ p(x) = f\\bigg(\\frac{a+b}{2}\\bigg), $$\n",
    "isto é, $p$ é uma função constante. Essa aproximação resulta em\n",
    "$$ \\int_a^b f(x)\\mbox{d}x \\approx \\int_a^bf((a+b)/2)\\mbox{d}x = (b-a)f\\bigg(\\frac{a+b}{2}\\bigg). $$"
   ]
  },
  {
   "cell_type": "code",
   "execution_count": null,
   "metadata": {},
   "outputs": [],
   "source": [
    "f(x) = exp(x)\n",
    "a, b = 0, 1\n",
    "Iexata = MathConstants.e - 1\n",
    "IPM = (b - a) * f( (a + b) / 2 )\n",
    "ErroPM = Iexata - IPM\n",
    "ErroRelPM = abs(ErroPM) / Iexata"
   ]
  },
  {
   "cell_type": "code",
   "execution_count": null,
   "metadata": {},
   "outputs": [],
   "source": [
    "function integral_PM(f, a, b)\n",
    "    x = (a + b) / 2\n",
    "    h = (b - a) / 2\n",
    "    return 2h * f(x)\n",
    "end"
   ]
  },
  {
   "cell_type": "code",
   "execution_count": null,
   "metadata": {},
   "outputs": [],
   "source": [
    "integral_PM(exp, 0, 1)"
   ]
  },
  {
   "cell_type": "markdown",
   "metadata": {},
   "source": [
    "Essa aproximação é chamada de regra do **ponto-médio**, e é uma fórmula aberta. Note que não é possível uma fórmula fechada de um ponto, por motivos óbvios."
   ]
  },
  {
   "cell_type": "markdown",
   "metadata": {},
   "source": [
    "Note que, como $[a,b]$ foi divido em dois, temos $h = (b-a)/2$. Daí, podemos escrever\n",
    "$$ \\int_a^b f(x)\\mbox{d}x \\approx 2h f(x_1). $$"
   ]
  },
  {
   "cell_type": "code",
   "execution_count": null,
   "metadata": {
    "scrolled": true
   },
   "outputs": [],
   "source": [
    "f(x) = exp(x) + cos(3π*x) * 0.5 + 3\n",
    "F(x) = exp(x) + sin(3π*x)/6π + 3x\n",
    "a, b = -2, 2\n",
    "plot(f, a, b, c=:red, fill=(0,:red,0.5), leg=false)\n",
    "plot!(x->f((a+b)/2), a, b, c=:blue, fill=(0,:blue,0.5))"
   ]
  },
  {
   "cell_type": "code",
   "execution_count": null,
   "metadata": {},
   "outputs": [],
   "source": [
    "function ponto_medio(f, a, b)\n",
    "    return (b-a)*f((a+b)/2)\n",
    "end"
   ]
  },
  {
   "cell_type": "code",
   "execution_count": null,
   "metadata": {},
   "outputs": [],
   "source": [
    "ponto_medio(f, a, b) - (F(b)-F(a))"
   ]
  },
  {
   "cell_type": "markdown",
   "metadata": {},
   "source": [
    "### Trapézio"
   ]
  },
  {
   "cell_type": "markdown",
   "metadata": {},
   "source": [
    "A fórmula de trapézio é uma fórmula de dois pontos. Note que dado dois pontos distintos, temos uma reta. Pensando na integral como a área abaixo dessa reta, vemos que a área será a área de um trapézio. Daí, o nome."
   ]
  },
  {
   "cell_type": "markdown",
   "metadata": {},
   "source": [
    "Para o caso fechado, os dois pontos no intervalo $[a,b]$ serão $x_1 = a$ e $x_2 = b$."
   ]
  },
  {
   "cell_type": "markdown",
   "metadata": {},
   "source": [
    "Para o caso aberto, os dois pontos no intervalo $[a,b]$ serão $x = \\frac{2a + b}{3}$"
   ]
  },
  {
   "cell_type": "code",
   "execution_count": null,
   "metadata": {},
   "outputs": [],
   "source": [
    "f(x) = exp(x) + cos(3π*x) * 0.5 + 3\n",
    "F(x) = exp(x) + sin(3π*x)/6π + 3x\n",
    "a, b = -2, 2\n",
    "plot(f, a, b, c=:red, fill=(0,:red,0.5), leg=false)\n",
    "plot!(x->f(a) + (x-a)*(f(b)-f(a))/(b-a), a, b, c=:blue, fill=(0,:blue,0.5))"
   ]
  },
  {
   "cell_type": "code",
   "execution_count": null,
   "metadata": {},
   "outputs": [],
   "source": [
    "plot(f, a, b, c=:red, fill=(0,:red,0.5), leg=false)\n",
    "x1, x2 = (2a+b)/3, (a+2b)/3\n",
    "plot!(x->f(x1) + (x-x1)*(f(x2)-f(x1))/(x2-x1), a, b, c=:blue, fill=(0,:blue,0.5))"
   ]
  },
  {
   "cell_type": "markdown",
   "metadata": {},
   "source": [
    "A reta que usamos para aproximar a integral é dada por\n",
    "$$ p(x) = f(x_1) + (x-x_1)\\frac{f(x_2)-f(x_1)}{x_2-x_1}, $$\n",
    "onde $x_1 = a$ e $x_2 = b$ no caso fechado, ou $x_1 = \\dfrac{2a+b}{3}$ e $x_2 = \\dfrac{a + 2b}{3}$."
   ]
  },
  {
   "cell_type": "markdown",
   "metadata": {},
   "source": [
    "Em ambos os casos, teremos\n",
    "$$ \\int_a^b f(x)\\mbox{d}x \\approx\n",
    "\\frac{b-a}{2}[f(x_1) + f(x_2)].\n",
    "$$"
   ]
  },
  {
   "cell_type": "markdown",
   "metadata": {},
   "source": [
    "No entanto, além de $x_1$ e $x_2$ serem diferentes, temos também o valor de $h$.\n",
    "Para o caso fechado, temos $h = b-a$. Daí,\n",
    "$$ \\int_a^b f(x)\\mbox{d}x \\approx \\frac{h}{2}[f(x_1) + f(x_2)]. $$\n",
    "Para o caso aberto, temos $h = \\frac{b-a}{3}$. Logo,\n",
    "$$ \\int_a^b f(x)\\mbox{d}x \\approx \\frac{3h}{2}[f(x_1) + f(x_2)]. $$"
   ]
  },
  {
   "cell_type": "code",
   "execution_count": null,
   "metadata": {},
   "outputs": [],
   "source": [
    "function trapezio_fechado(f, a, b)\n",
    "    return (b-a)*(f(a)+f(b))/2\n",
    "end\n",
    "\n",
    "function trapezio_aberto(f, a, b)\n",
    "    h = (b-a)/3\n",
    "    return (b-a)*(f(a+h)+f(b-h))/2\n",
    "end"
   ]
  },
  {
   "cell_type": "code",
   "execution_count": null,
   "metadata": {},
   "outputs": [],
   "source": [
    "f(x) = exp(x)\n",
    "F(x) = exp(x)\n",
    "a, b = 0, 1"
   ]
  },
  {
   "cell_type": "code",
   "execution_count": null,
   "metadata": {},
   "outputs": [],
   "source": [
    "trapezio_fechado(exp, 0, 1)"
   ]
  },
  {
   "cell_type": "code",
   "execution_count": null,
   "metadata": {},
   "outputs": [],
   "source": [
    "trapezio_aberto(exp, 0, 1)"
   ]
  },
  {
   "cell_type": "code",
   "execution_count": null,
   "metadata": {},
   "outputs": [],
   "source": [
    "trapezio_fechado(f, a, b) - (F(b)-F(a))"
   ]
  },
  {
   "cell_type": "code",
   "execution_count": null,
   "metadata": {},
   "outputs": [],
   "source": [
    "trapezio_aberto(f, a, b) - (F(b)-F(a))"
   ]
  },
  {
   "cell_type": "markdown",
   "metadata": {},
   "source": [
    "## Erro"
   ]
  },
  {
   "cell_type": "markdown",
   "metadata": {},
   "source": [
    "Uma pergunta importante aqui é quão errada é essa aproximação.\n",
    "Note que, diferente do método de Newton ou da bissecção, não estamos calculando aproximações sucessivas para a integral, e sim uma única aproximação, que esperamos ser boa o suficiente."
   ]
  },
  {
   "cell_type": "markdown",
   "metadata": {},
   "source": [
    "O cálculo da fórmula do erro envolve outros conceitos não estudados nesta disciplina.\n",
    "Iremos apenas apresentar os erros, começando pelas três aproximações que vimos."
   ]
  },
  {
   "cell_type": "markdown",
   "metadata": {},
   "source": [
    "Abaixo, $\\xi$ é algum número em $[a,b]$ ou $(a,b)$, se a função for fechada ou aberta, respectivamente.\n",
    "\n",
    "- Ponto médio\n",
    "$$ \\int_a^b f(x)\\mbox{d}x = 2hf(x_1) + \\frac{h^3}{3}f''(\\xi)\n",
    "= (b-a) f\\bigg(\\frac{b-a}{2}\\bigg) + \\frac{(b-a)^3}{24}f''(\\xi); $$\n",
    "- Trapézio fechado\n",
    "$$ \\int_a^b f(x)\\mbox{d}x = \\frac{h}{2}[f(x_1) + f(x_2)] - \\frac{h^3}{12}f''(\\xi)\n",
    "= \\frac{b-a}{2}[f(a) + f(b)] - \\frac{(b-a)^3}{12}f''(\\xi); $$\n",
    "- Trapézio aberto\n",
    "$$ \\int_a^b f(x)\\mbox{d}x = \\frac{3h}{2}[f(x_1) + f(x_2)] + \\frac{3h^3}{4}f''(\\xi)\n",
    "= \\frac{b-a}{2}[f\\bigg(\\frac{2a+b}{3}\\bigg) + f\\bigg(\\frac{a+2b}{3}\\bigg)] - \\frac{(b-a)^3}{36}f''(\\xi). $$"
   ]
  },
  {
   "cell_type": "markdown",
   "metadata": {},
   "source": [
    "As três aproximações compartilham uma mesma propriedade. O erro é da ordem de $h^3 f''(\\xi)$.\n",
    "Isso quer dizer que para valores pequenos de $h$, o erro diminui cubicamente. Note que o $\\xi$ para cada aproximação pode ser diferente."
   ]
  },
  {
   "cell_type": "code",
   "execution_count": null,
   "metadata": {},
   "outputs": [],
   "source": [
    "a = 0\n",
    "f(x) = exp(x)\n",
    "F(x) = exp(x)\n",
    "cores = [:blue, :red, :magenta]\n",
    "scatter(leg=false, xaxis=:log, yaxis=:log)\n",
    "for (i,mtd) in enumerate([ponto_medio, trapezio_fechado, trapezio_aberto])\n",
    "    b = 1.0\n",
    "    while b > 1e-6\n",
    "        Ireal = F(b) - F(a)\n",
    "        Iapprox = mtd(f, a, b)\n",
    "        E = abs(Ireal - Iapprox) / Ireal\n",
    "        scatter!([b], [E], c=cores[i])\n",
    "        b /= 2.0\n",
    "    end\n",
    "end\n",
    "b = [1.0; 1e-6]\n",
    "plot!(b, b.^3 .* exp.(b) ./ (F.(b) - F(a)) / 12)"
   ]
  },
  {
   "cell_type": "markdown",
   "metadata": {},
   "source": [
    "Duas conclusões importantes podem ser tiradas daqui. Primeiro, não existem bons motivos para se usar o trapézio aberto, uma vez que o erro do ponto médio é da mesma ordem que o do trapézio aberto.\n",
    "Segundo, que todas essas fórmulas tem uma erro proporcional à $f''(\\xi)$, de modo que integram perfeitamente funções afins."
   ]
  },
  {
   "cell_type": "code",
   "execution_count": null,
   "metadata": {},
   "outputs": [],
   "source": [
    "f(x) = 2x + 5\n",
    "F(x) = x^2 + 5x\n",
    "a, b = 0, 1\n",
    "ponto_medio(f, a, b) - (F(b) - F(a))"
   ]
  },
  {
   "cell_type": "markdown",
   "metadata": {},
   "source": [
    "Outro ponto agora é se conseguimos melhorar nossa aproximação num intervalo fixo $[a,b]$.\n",
    "Existem duas possibilidades: aumentar a quantidade de pontos da interpolação, ou quebrar o intervalo $[a,b]$ em vários intervalos menores."
   ]
  },
  {
   "cell_type": "markdown",
   "metadata": {},
   "source": [
    "### Regra de Simpson \n",
    "\n",
    "Usando 3 pontos chegamos nas seguintes fórmulas:"
   ]
  },
  {
   "cell_type": "markdown",
   "metadata": {},
   "source": [
    "\\begin{align}\n",
    "\\int_a^b f(x)\\mbox{d}x & = \\frac{b-a}{6}[f(a) + 4f\\bigg(\\frac{a+b}{2}\\bigg) + f(b)] - \\frac{(b-a)^5}{2880}f^{(4)}(\\xi) \\\\\n",
    "& = \\frac{h}{3}[f(x_1) + 4f(x_2) + f(x_3)] - \\frac{h^5}{90}f^{(4)}(\\xi),\n",
    "\\end{align}\n",
    "e"
   ]
  },
  {
   "cell_type": "markdown",
   "metadata": {},
   "source": [
    "\\begin{align}\n",
    "\\int_a^b f(x)\\mbox{d}x & = \\frac{b-a}{3}[2f(a+h) - f(a+2h) + 2f(a+3h)] + \\frac{7(b - a)^5}{23040}f^{(4)}(\\xi) \\\\\n",
    "& = \\frac{4h}{3}[2f(x_1) - f(x_2) + 2f(x_3)] + \\frac{14h^5}{45}f^{(4)}(\\xi).\n",
    "\\end{align}"
   ]
  },
  {
   "cell_type": "markdown",
   "metadata": {},
   "source": [
    "Note que $h = \\dfrac{b-a}{2}$ na fórmula fechada e $h = \\dfrac{b-a}{4}$ na fórmula aberta."
   ]
  },
  {
   "cell_type": "markdown",
   "metadata": {},
   "source": [
    "A fórmula fechada de 3 pontos é chamado de regra de Simpson."
   ]
  },
  {
   "cell_type": "code",
   "execution_count": null,
   "metadata": {},
   "outputs": [],
   "source": [
    "f(x) = exp(x) + cos(3π*x) * 0.5 + 3\n",
    "a, b = -2, 2\n",
    "c = (a+b)/2\n",
    "interp(x) = f(a) + (x - a) * (f(c) - f(a)) / (c - a) + (x - a) * (x - c) * (f(b) - 2*f(c) + f(a)) / (2 * (c - a)^2)\n",
    "plot(f, a, b, c=:red, fill=(0,:red,0.5), leg=false)\n",
    "plot!(interp, a, b, c=:blue, fill=(0,:blue,0.5))"
   ]
  },
  {
   "cell_type": "code",
   "execution_count": null,
   "metadata": {},
   "outputs": [],
   "source": [
    "function simpson(f, a, b)\n",
    "    h = (b - a) / 2\n",
    "    return h * (f(a) + 4 * f(a + h) + f(b)) / 3\n",
    "end"
   ]
  },
  {
   "cell_type": "code",
   "execution_count": null,
   "metadata": {},
   "outputs": [],
   "source": [
    "function aberta3pontos(f, a, b)\n",
    "    h = (b - a) / 4\n",
    "    return 4h * (2 * f(a + h) + 2 * f(b - h) - f(a + 2h)) / 3\n",
    "end"
   ]
  },
  {
   "cell_type": "code",
   "execution_count": null,
   "metadata": {},
   "outputs": [],
   "source": [
    "a = 0.0\n",
    "f(x) = exp(x)\n",
    "F(x) = exp(x)\n",
    "cores = [:blue, :red, :magenta]\n",
    "scatter(leg=false, xaxis=:log, yaxis=:log)\n",
    "for (i,mtd) in enumerate([simpson, aberta3pontos])\n",
    "    b = 1.0\n",
    "    while b > 1e-6\n",
    "        Ireal = F(b) - F(a)\n",
    "        Iapprox = mtd(f, a, b)\n",
    "        E = abs(Ireal - Iapprox) / Ireal\n",
    "        scatter!([b], [E], c=cores[i])\n",
    "        b /= 2.0\n",
    "    end\n",
    "end\n",
    "b = [1.0; 1e-6]\n",
    "plot!(b, b.^5 .* exp.(b) ./ (F.(b) .- F(a)) / 2880)"
   ]
  },
  {
   "cell_type": "markdown",
   "metadata": {},
   "source": [
    "As fórmulas com 3 pontos, como esperávamos, são melhores que as de 2 ou 1 pontos. O erro também passou a ser proporcional a $f^{(4)}(\\xi)$, de modo que podemos calcular a integral exata de polinômios até grau 3."
   ]
  },
  {
   "cell_type": "code",
   "execution_count": null,
   "metadata": {},
   "outputs": [],
   "source": [
    "f(x) = x^3 + x^2 + x + 1\n",
    "F(x) = x^4/4 + x^3/3 + x^2/2 + x\n",
    "a, b = 0, 1\n",
    "simpson(f, a, b) - (F(b) - F(a))"
   ]
  },
  {
   "cell_type": "markdown",
   "metadata": {},
   "source": [
    "No entanto, quando passamos para 4 pontos, não temos a mesma sorte. Assim como a transição do ponto-médio ao trapézio aberto, não temos melhoria na ordem de convergência da aproximação, nem para a fórmula fechada nem para a fórmula aberta. Esse fenômeno se repete, de modo que criar interpolações com cada vez mais pontos se torna tanto inviável quanto ineficaz."
   ]
  },
  {
   "cell_type": "markdown",
   "metadata": {},
   "source": [
    "## Composição de aproximações (ou repetição)\n",
    "\n"
   ]
  },
  {
   "cell_type": "markdown",
   "metadata": {},
   "source": [
    "A outra estratégia para melhorar a aproximação no cálculo da integral é quebrando o intervalo em pedaços menores e aproximando cada pedaço."
   ]
  },
  {
   "cell_type": "markdown",
   "metadata": {},
   "source": [
    "Em outras palavras, transformamos o intervalo em\n",
    "$a = x_1 < x_2 < \\dots < x_m = b$, com $x_{i+1} - x_i = h = \\frac{b-a}{m-1}$ no caso fechado e em\n",
    "$a = x_0 < x_1 < x_2 < \\dots < x_m < x_{m+1} = b$, com $x_{i+1} - x_i = h = \\frac{b-a}{m+1}$ no caso aberto."
   ]
  },
  {
   "cell_type": "markdown",
   "metadata": {},
   "source": [
    "Note que no caso aberto criamos dois pontos extras $x_0 = a$ e $x_{m+1} = b$, para deixar mais simples o entendimento."
   ]
  },
  {
   "cell_type": "markdown",
   "metadata": {},
   "source": [
    "Com os intervalos separados, utilizamos as fórmulas dos métodos \"encaixando\" os pontos da fórmula na discretização que fizemos."
   ]
  },
  {
   "cell_type": "markdown",
   "metadata": {},
   "source": [
    "O exemplo mais fácil de entender é o da regra do trapézio.\n",
    "Veja abaixo, onde quebramos o intervalo $[-2,2]$ em 4 intervalos (i.e., $m = 5$)."
   ]
  },
  {
   "cell_type": "code",
   "execution_count": null,
   "metadata": {},
   "outputs": [],
   "source": [
    "f(x) = exp(x) + cos(3π*x) * 0.5 + 3\n",
    "a, b = -2, 2\n",
    "p = plot(f, a, b, c=:red, lw=2, fill=(0,:red,0.3), leg=false)\n",
    "m = 5\n",
    "h = (b - a) / (m - 1)\n",
    "\n",
    "for i = 1:m-1\n",
    "    xi = a + (i-1) * h\n",
    "    xip = xi + h\n",
    "    L(x) = f(xi) + (x-xi) * (f(xip) - f(xi)) / h    \n",
    "    plot!(p, L, xi, xip, c=:blue, fill=(0,:blue,0.4))\n",
    "    scatter!([xi; xip], [f(xi); f(xip)], c=:blue, ms=5)\n",
    "end\n",
    "xticks!(a:h:b, [\"x$i\" for i = 1:m])\n",
    "p"
   ]
  },
  {
   "cell_type": "markdown",
   "metadata": {},
   "source": [
    "Na teoria, temos agora"
   ]
  },
  {
   "cell_type": "markdown",
   "metadata": {},
   "source": [
    "\\begin{align}\n",
    "\\int_a^b f(x)\\mbox{d}x\n",
    "& = \\int_{x_1}^{x_4} f(x)\\mbox{d}x \\\\\n",
    "& = \\int_{x_1}^{x_2} f(x)\\mbox{d}x +\n",
    "\\int_{x_2}^{x_3} f(x)\\mbox{d}x +\n",
    "\\int_{x_3}^{x_4} f(x)\\mbox{d}x \\\\\n",
    "& = \\frac{x_2 - x_1}{2}[f(x_1) + f(x_2)]\n",
    "- \\frac{(x_2 - x_1)^3}{12}f''(\\xi_1) \\\\\n",
    "& + \\frac{x_3 - x_2}{2}[f(x_2) + f(x_3)]\n",
    "- \\frac{(x_3 - x_2)^3}{12}f''(\\xi_2) \\\\\n",
    "& + \\frac{x_4 - x_3}{2}[f(x_3) + f(x_4)]\n",
    "- \\frac{(x_4 - x_3)^3}{12}f''(\\xi_3) \\\\\n",
    "& = \\frac{h}{2}[f(x_1) + 2f(x_2) + 2f(x_3) + f(x_4)] - \\frac{h^3}{12}[f''(\\xi_1) + f''(\\xi_2) + f''(\\xi_3)],\n",
    "\\end{align}"
   ]
  },
  {
   "cell_type": "markdown",
   "metadata": {},
   "source": [
    "onde $\\xi_i$ está no intervalo $[x_i,x_{i+1}]$."
   ]
  },
  {
   "cell_type": "markdown",
   "metadata": {},
   "source": [
    "O erro dessa aproximação continua sendo apenas $h^3$, apesar de usarmos 4 pontos. Porém, a escolha do $h$ é arbitrário, de modo que podemos escolher um $h$ pequeno o suficiente para satisfazer nossas necessidades."
   ]
  },
  {
   "cell_type": "markdown",
   "metadata": {},
   "source": [
    "De uma maneira mais geral, temos\n",
    "$$ \\int_a^b f(x)\\mbox{d}x = \\frac{h}{2}[f(x_1) + 2\\sum_{i = 2}^{m-1}f(x_i) + f(x_m)] - \\frac{h^3}{12}\\sum_{i=1}^{m-1}f''(\\xi_i).\n",
    "$$"
   ]
  },
  {
   "cell_type": "markdown",
   "metadata": {},
   "source": [
    "A seguir uma implementação básica desse método."
   ]
  },
  {
   "cell_type": "code",
   "execution_count": null,
   "metadata": {},
   "outputs": [],
   "source": [
    "function trapezio_composto(f, a, b; m = 10) # Note que não faremos mais o trapézio aberto.\n",
    "    h = (b - a) / (m - 1)\n",
    "    I = 0.0\n",
    "    xi = a\n",
    "    for i = 2:m-1\n",
    "        xi += h\n",
    "        I += f(xi)\n",
    "    end\n",
    "    I = f(a) + 2I + f(b)\n",
    "    return I * h / 2\n",
    "end"
   ]
  },
  {
   "cell_type": "code",
   "execution_count": null,
   "metadata": {},
   "outputs": [],
   "source": [
    "f(x) = log(x)\n",
    "F(x) = x * log(x) - x\n",
    "a, b = 1, MathConstants.e\n",
    "println(\"∫f(x)dx = $(F(b) - F(a))\")\n",
    "for m = 10:10:100\n",
    "    Ia = trapezio_composto(f, a, b, m=m)\n",
    "    Ir = F(b) - F(a)\n",
    "    E = abs(Ir - Ia) / abs(Ir)\n",
    "    println(\"∫f(x)dx ≈ $Ia, Erro Relativo = $E\")\n",
    "end"
   ]
  },
  {
   "cell_type": "markdown",
   "metadata": {},
   "source": [
    "Agora vejamos a regra do ponto médio. Note que não queremos os extremos do intervalo, e além disso, calculamos $f$ no ponto médio. Isso quer dizer que, na prática, existem 3 pontos envolvidos, apesar do cálculo da $f$ apenas em um deles. Isso quer dizer que separamos o intervalo $[a,b]$ de dois em dois pontos."
   ]
  },
  {
   "cell_type": "markdown",
   "metadata": {},
   "source": [
    "Lembrando que, neste caso, mudamos a definição dos pontos para\n",
    "$h = \\dfrac{b - a}{m + 1}$ e $x_0 = a$ e $x_{m+1} = b$."
   ]
  },
  {
   "cell_type": "markdown",
   "metadata": {},
   "source": [
    "Por exemplo, usando $m = 5$,"
   ]
  },
  {
   "cell_type": "markdown",
   "metadata": {},
   "source": [
    "\\begin{align}\n",
    "\\int_a^b f(x)\\mbox{d}x & = \\int_{x_0}^{x_6} f(x)\\mbox{d}x \\\\\n",
    "& = \\int_{x_0}^{x_2} f(x)\\mbox{d}x\n",
    "+ \\int_{x_2}^{x_4} f(x)\\mbox{d}x\n",
    "+ \\int_{x_4}^{x_6} f(x)\\mbox{d}x \\\\\n",
    "& = (x_2 - x_0)f(x_1) + \\frac{(x_2-x_0)^3}{24}f''(\\xi_1)\n",
    "+ (x_4 - x_2)f(x_3) + \\frac{(x_4-x_2)^3}{24}f''(\\xi_2) \\\\\n",
    "& \\quad + (x_6 - x_4)f(x_5) + \\frac{(x_6-x_4)^3}{24}f''(\\xi_3) \\\\\n",
    "& = 2h[f(x_1) + f(x_3) + f(x_5)] + \\frac{h^3}{3}[f''(\\xi_1) + f''(\\xi_2) + f''(\\xi_3)].\n",
    "\\end{align}"
   ]
  },
  {
   "cell_type": "markdown",
   "metadata": {},
   "source": [
    "Pode parecer estranho pular tantos pontos, e ainda o fato do intervalo mudar, mas graficamente isso fica mais claro."
   ]
  },
  {
   "cell_type": "code",
   "execution_count": null,
   "metadata": {},
   "outputs": [],
   "source": [
    "f(x) = exp(x) + cos(3π*x) * 0.5 + 3\n",
    "a, b = -2, 2\n",
    "p = plot(f, a, b, c=:red, lw=2, fill=(0,:red,0.3), leg=false)\n",
    "m = 5\n",
    "h = (b - a) / (m + 1)\n",
    "\n",
    "for i = 1:2:m\n",
    "    xi = a + i * h\n",
    "    plot!(p, x->f(xi), xi - h, xi + h, c=:blue, fill=(0,:blue,0.4))\n",
    "    scatter!([xi], [f(xi)], ms=5, c=:blue)\n",
    "end\n",
    "xticks!(a:h:b, [\"x$i\" for i = 0:m+1])\n",
    "p"
   ]
  },
  {
   "cell_type": "markdown",
   "metadata": {},
   "source": [
    "De uma maneira mais geral, temos\n",
    "$$ \\int_a^b f(x)\\mbox{d}x = 2h\\sum_{i = 1}^{(m+1)/2}f(x_{2i}) + \\frac{h^3}{3}\\sum_{i=1}^{(m+1)/2}f''(\\xi_i).\n",
    "$$"
   ]
  },
  {
   "cell_type": "markdown",
   "metadata": {},
   "source": [
    "Assumimos $m$ ímpar."
   ]
  },
  {
   "cell_type": "markdown",
   "metadata": {},
   "source": [
    "A implementação está abaixo."
   ]
  },
  {
   "cell_type": "code",
   "execution_count": null,
   "metadata": {},
   "outputs": [],
   "source": [
    "function ponto_medio_composto(f, a, b; m = 10)\n",
    "    I = 0.0\n",
    "    if m%2 == 0 # Se m não for ímpar, usamos m + 1\n",
    "        m += 1\n",
    "    end\n",
    "    h = (b - a) / (m + 1)\n",
    "    xi = a + h\n",
    "    for i = 1:2:m\n",
    "        I += f(xi)\n",
    "        xi += 2h\n",
    "    end\n",
    "    return I * 2 * h\n",
    "end"
   ]
  },
  {
   "cell_type": "code",
   "execution_count": null,
   "metadata": {},
   "outputs": [],
   "source": [
    "f(x) = log(x)\n",
    "F(x) = x * log(x) - x\n",
    "a, b = 1, MathConstants.e\n",
    "Ir = F(b) - F(a)\n",
    "println(\"∫f(x)dx = $Ir\")\n",
    "for m = 10:10:100\n",
    "    Ia = ponto_medio_composto(f, a, b, m=m)\n",
    "    E = abs(Ir - Ia) / abs(Ir)\n",
    "    println(\"∫f(x)dx ≈ $Ia, Erro Relativo = $E\")\n",
    "end"
   ]
  },
  {
   "cell_type": "markdown",
   "metadata": {},
   "source": [
    "### Erro das compostas"
   ]
  },
  {
   "cell_type": "markdown",
   "metadata": {},
   "source": [
    "Vejamos o que acontece agora com o erro das aproximações compostas."
   ]
  },
  {
   "cell_type": "markdown",
   "metadata": {},
   "source": [
    "Para o ponto médio, temos\n",
    "$$ E^{(m)}_{PM} = \\int_a^b f(x)\\mbox{d}x - 2h\\sum_{i = 1}^{(m+1)/2}f(x_{2i})\n",
    "= \\frac{h^3}{3}\\sum_{i=1}^{(m+1)/2}f''(\\xi_i).\n",
    "$$"
   ]
  },
  {
   "cell_type": "markdown",
   "metadata": {},
   "source": [
    "Agora é importante notar que $\\xi_i \\in [x_{2i-1},x_{2i+1}] \\subset [a,b]$.\n",
    "Então, pelo Teorema do Valor Extremo aplicado à função $f''$, temos\n",
    "$$ \\min_{x \\in [a,b]} f''(x) \\leq f''(\\xi_i) \\leq \\max_{x \\in [a,b]} f''(x). $$"
   ]
  },
  {
   "cell_type": "markdown",
   "metadata": {},
   "source": [
    "Aplicando o somatório,"
   ]
  },
  {
   "cell_type": "markdown",
   "metadata": {},
   "source": [
    "$$ \\frac{m+1}{2}\\min_{x \\in [a,b]} f''(x) \\leq \\sum_{i=1}^{(m+1)/2} f''(\\xi_i)\n",
    "\\leq \\frac{m+1}{2}\\max_{x \\in [a,b]} f''(x), $$"
   ]
  },
  {
   "cell_type": "markdown",
   "metadata": {},
   "source": [
    "que vira\n",
    "$$ \\min_{x \\in [a,b]} f''(x) \\leq \\frac{2}{m+1} \\sum_{i=1}^{(m+1)/2}f''(\\xi_i) \\leq \\max_{x \\in [a,b]} f''(x). $$"
   ]
  },
  {
   "cell_type": "markdown",
   "metadata": {},
   "source": [
    "Pelo Teorema do Valor Intermediário, existe $\\mu \\in [a,b]$ tal que\n",
    "$$ \\frac{2}{m+1} \\sum_{i=1}^{(m+1)/2} f''(\\xi_i) = f''(\\mu). $$"
   ]
  },
  {
   "cell_type": "markdown",
   "metadata": {},
   "source": [
    "Assim,\n",
    "$$ E^{(m)}_{PM} = \\frac{h^3}{3}\\frac{m+1}{2}f''(\\mu). $$\n",
    "Como $h = \\dfrac{b-a}{m+1}$, podemos escrever também\n",
    "$$ E^{(m)}_{PM} = \\frac{h^2(b-a)}{6}f''(\\mu)\n",
    "= \\frac{(b-a)^3}{6(m+1)^2}f''(\\mu).\n",
    "$$"
   ]
  },
  {
   "cell_type": "markdown",
   "metadata": {},
   "source": [
    "Para o método do Trapézio,\n",
    "$$ E_{TR}^{(m)} = \\int_a^b f(x)\\mbox{d}x - \\frac{h}{2}[f(x_1) + 2\\sum_{i = 2}^{m-1}f(x_i) + f(x_m)] = - \\frac{h^3}{12}\\sum_{i=1}^{m-1}f''(\\xi_i).\n",
    "$$\n",
    "Por argumentos similares,\n",
    "$$ E_{TR}^{(m)} = - \\frac{h^3}{12}\\frac{1}{m-1}f''(\\mu)\n",
    "= -\\frac{h^2(b-a)}{12}f''(\\mu)\n",
    "= -\\frac{(b-a)^3}{12(m-1)^2}f''(\\mu).$$"
   ]
  },
  {
   "cell_type": "code",
   "execution_count": null,
   "metadata": {},
   "outputs": [],
   "source": [
    "f(x) = exp(x)\n",
    "F(x) = exp(x)\n",
    "a, b = 0, 1\n",
    "cores = [:blue, :red, :magenta]\n",
    "p = scatter(leg=false, xaxis=:log, yaxis=:log)\n",
    "Ireal = F(b) - F(a)\n",
    "for (i,mtd) in enumerate([ponto_medio_composto, trapezio_composto])\n",
    "    for m = 2 .^ (2:15)\n",
    "        Iapprox = mtd(f, a, b, m=m)\n",
    "        E = abs(Ireal - Iapprox) / Ireal\n",
    "        scatter!(p, [m], [E], c=cores[i])\n",
    "    end\n",
    "end\n",
    "n = [1; 2^16]\n",
    "plot!(n, (1 ./ n).^2 / 6)\n",
    "xlims!(1.0, 2^16)\n",
    "ylims!(1e-11, 1e-1)"
   ]
  },
  {
   "cell_type": "markdown",
   "metadata": {},
   "source": [
    "Com esse erro em mãos, podemos calcular limitantes para o erro cometido por uma aproximação sabendo a função.\n",
    "Por exemplo,\n",
    "na integração da função $f(x) = e^x$, com $m = 100$, de $0$ a $1$, os erros exatos serão\n",
    "$$ E_{PM} = \\frac{(b-a)^3}{6(m+1)^2}f''(\\mu) = \\frac{(1-0)^3}{6\\times101^2}e^{\\mu} = \\frac{e^{\\mu}}{61206},$$\n",
    "e\n",
    "$$ E_{TR} = -\\frac{(b-a)^3}{12(m-1)^2}f''(\\mu) = -\\frac{(1-0)^3}{12\\times99^2}e^{\\mu} = -\\frac{e^{\\mu}}{117612}. $$"
   ]
  },
  {
   "cell_type": "markdown",
   "metadata": {},
   "source": [
    "Esse valor depende de $\\mu \\in [0,1]$, e é desconhecido. Porém, podemos limitar esse erro, usando um limitante para $|f''(\\mu)|$. No caso desta função $f$, neste intervalo, temos $e^\\mu \\leq e^1 = e$. Daí,"
   ]
  },
  {
   "cell_type": "markdown",
   "metadata": {},
   "source": [
    "$$ |E_{PM}| \\leq \\frac{e}{61206} \\approx 4.44\\times10^{-5}, $$\n",
    "e\n",
    "$$ |E_{TR}| \\leq \\frac{e}{117612} \\approx 2.31\\times10^{-5}. $$"
   ]
  },
  {
   "cell_type": "markdown",
   "metadata": {},
   "source": [
    "De fato, aplicando o método temos"
   ]
  },
  {
   "cell_type": "code",
   "execution_count": null,
   "metadata": {},
   "outputs": [],
   "source": [
    "f(x) = exp(x)\n",
    "F(x) = exp(x)\n",
    "a, b = 0, 1\n",
    "Ir = F(b) - F(a)\n",
    "println(\"E_PM = $(Ir - ponto_medio_composto(f, a, b, m=100))\")\n",
    "println(\"E_TR = $(Ir - trapezio_composto(f, a, b, m=100))\")"
   ]
  },
  {
   "cell_type": "markdown",
   "metadata": {},
   "source": [
    "Isso também nos permite buscar o $m$ ou $h$ que faça com que o erro seja menor que uma certa tolerância.\n",
    "Por exemplo, para o ponto médio, se quisermos que o erro seja menor que $\\varepsilon$, temos que fazer o seguinte."
   ]
  },
  {
   "cell_type": "markdown",
   "metadata": {},
   "source": [
    "Primeiro, veja que\n",
    "$$ |E_{PM}| \\leq \\frac{h^2(b-a)}{6}M_2, $$\n",
    "onde $M_2 = \\max_{x\\in[a,b]}|f''(x)|$.\n",
    "Daí, basta que o lado direito seja limitado por $\\varepsilon$, isto é, que\n",
    "$$ \\frac{h^2(b-a)}{6}M_2 \\leq \\varepsilon. $$"
   ]
  },
  {
   "cell_type": "markdown",
   "metadata": {},
   "source": [
    "O $h$ que satisfaz isso é tal que\n",
    "$$ h \\leq \\sqrt{  \\frac{6\\varepsilon}{M_2(b-a)} }. $$"
   ]
  },
  {
   "cell_type": "markdown",
   "metadata": {},
   "source": [
    "Se quisermos $m$, podemos refazer a conta usando a fórmula com $m$, ou tirar $m$ do resultado, usando $h = \\dfrac{b-a}{m+1}$:"
   ]
  },
  {
   "cell_type": "markdown",
   "metadata": {},
   "source": [
    "$$ m = \\frac{b-a}{h} - 1 \\geq (b-a)\\sqrt{ \\frac{M_2(b-a)}{6\\varepsilon} } - 1\n",
    "$$"
   ]
  },
  {
   "cell_type": "markdown",
   "metadata": {},
   "source": [
    "Por exemplo, se quisermos o erro menor que $\\varepsilon = 10^{-7}$, para a mesma função, no mesmo intervalo,\n",
    "devemos ter"
   ]
  },
  {
   "cell_type": "code",
   "execution_count": null,
   "metadata": {},
   "outputs": [],
   "source": [
    "a, b = 0, 1\n",
    "M2 = exp(b) # Pois exp(x) é crescente\n",
    "ε = 1e-7\n",
    "hmax = sqrt(6ε / M2 * (b - a))"
   ]
  },
  {
   "cell_type": "code",
   "execution_count": null,
   "metadata": {},
   "outputs": [],
   "source": [
    "mmin = (b-a)/hmax - 1"
   ]
  },
  {
   "cell_type": "code",
   "execution_count": null,
   "metadata": {},
   "outputs": [],
   "source": [
    "# De maneira mais precisa\n",
    "mmin = ceil(Int, (b-a)/hmax - 1)"
   ]
  },
  {
   "cell_type": "code",
   "execution_count": null,
   "metadata": {},
   "outputs": [],
   "source": [
    "ponto_medio_composto(f, 0, 1, m=mmin) - (F(b) - F(a))"
   ]
  },
  {
   "cell_type": "markdown",
   "metadata": {},
   "source": [
    "### Simpson composta"
   ]
  },
  {
   "cell_type": "markdown",
   "metadata": {},
   "source": [
    "De maneira similar, podemos fazer a regra de Simpson composta. Note que utilizamos um ponto a mais, de modo que aplicaremos a regra de dois em dois pontos. Note que $m$ deve ser ímpar."
   ]
  },
  {
   "cell_type": "markdown",
   "metadata": {},
   "source": [
    "$$ \\int_a^b f(x)\\mbox{d}x =\n",
    "\\frac{h}{3}[f(x_{1}) +\n",
    "2\\sum_{i = 1}^{(m-1)/2-1}f(x_{2i+1}) +\n",
    "4\\sum_{i = 1}^{(m-1)/2}f(x_{2i}) +\n",
    "f(x_m)] + E_{SP},\n",
    "$$\n",
    "com o erro $E_{SP}$ sendo\n",
    "$$ E_{SP} = -\\frac{(b-a)h^4}{180}f^{(4)}(\\mu)\n",
    "= -\\frac{(b-a)^5}{180(m-1)^4}f^{(4)}(\\mu). $$"
   ]
  },
  {
   "cell_type": "code",
   "execution_count": null,
   "metadata": {},
   "outputs": [],
   "source": [
    "function simpson_composto(f, a, b; m = 101)\n",
    "    # Implemente\n",
    "    0.0\n",
    "end"
   ]
  },
  {
   "cell_type": "code",
   "execution_count": null,
   "metadata": {},
   "outputs": [],
   "source": [
    "f(x) = exp(x)\n",
    "F(x) = exp(x)\n",
    "a, b = 0, 1\n",
    "p = scatter(leg=false, xaxis=:log, yaxis=:log)\n",
    "Ireal = F(b) - F(a)\n",
    "for m = 2 .^ (2:15)\n",
    "    Iapprox = simpson_composto(f, a, b, m=m)\n",
    "    E = abs(Ireal - Iapprox) / Ireal\n",
    "    scatter!(p, [m], [E], c=:blue)\n",
    "end\n",
    "n = [1; 2^16]\n",
    "plot!(n, (1 ./ n).^2 / 6)\n",
    "xlims!(1.0, 2^16)\n",
    "ylims!(1e-16, 1e-1)"
   ]
  },
  {
   "cell_type": "code",
   "execution_count": null,
   "metadata": {},
   "outputs": [],
   "source": [
    "sqrt(pi)"
   ]
  },
  {
   "cell_type": "code",
   "execution_count": null,
   "metadata": {},
   "outputs": [],
   "source": [
    "trapezio_composto(x->exp(-x^2), -6, 6, m=100) - sqrt(pi)"
   ]
  },
  {
   "cell_type": "code",
   "execution_count": null,
   "metadata": {},
   "outputs": [],
   "source": [
    "sqrt(-log(1e-16))"
   ]
  },
  {
   "cell_type": "markdown",
   "metadata": {},
   "source": [
    "# Quadratura Gaussiana"
   ]
  },
  {
   "cell_type": "markdown",
   "metadata": {},
   "source": [
    "A ideia da quadratura Gaussiana é obter a propriedade de integrar exatamente polinômios do maior grau possível.\n",
    "\n",
    "$$ \\int_{-1}^1 g(t) \\text{d}t \\approx \\sum_{i=1}^m A_i g(t_i). $$"
   ]
  },
  {
   "cell_type": "markdown",
   "metadata": {},
   "source": [
    "### m = 1\n",
    "\n",
    "- $g(t) = 1$ implica em $\\int_{-1}^1\\text{d}t = 2 = A_1$\n",
    "- $g(t) = t$ implica em $\\int_{-1}^1\\text{d}t = 0 = A_1 t_1$\n",
    "\n",
    "Os únicos valores que satisfazem essas condições são $A_1 = 2$ e $t_1 = 0$, isto é\n",
    "$$ \\int_{-1}^1 g(t)\\text{d}t \\approx 2g(0). $$"
   ]
  },
  {
   "cell_type": "markdown",
   "metadata": {},
   "source": [
    "### m = 2\n",
    "\n",
    "- $g(t) = 1$ implica em $\\int_{-1}^1\\text{d}t = 2 = A_1 + A_2$\n",
    "- $g(t) = t$ implica em $\\int_{-1}^1\\text{d}t = 0 = A_1 t_1 + A_2 t_2$\n",
    "- $g(t) = t^2$ implica em $\\int_{-1}^1\\text{d}t = 0 = A_1 t_1^2 + A_2 t_2^2$\n",
    "- $g(t) = t^3$ implica em $\\int_{-1}^1\\text{d}t = 0 = A_1 t_1^3 + A_3 t_2^3$\n",
    "\n",
    "Os únicos valores que satisfazem essas condições são $A_1 = A_2 = 1$ e $t_1 = -\\sqrt{3}/3 = -t_2$, isto é\n",
    "$$ \\int_{-1}^1 g(t)\\text{d}t \\approx g\\bigg(-\\frac{\\sqrt{3}}{3}\\bigg) + g\\bigg(\\frac{\\sqrt{3}}{3}\\bigg). $$"
   ]
  },
  {
   "cell_type": "markdown",
   "metadata": {},
   "source": [
    "Note que as integrais acima são de $-1$ a $1$. Para obter o resultado de uma integral de $a$ a $b$ fazemos a mudança de variáveis $x = \\dfrac{a+b}{2} + \\dfrac{b-a}{2}t$.\n",
    "\n",
    "$$ \\int_a^b f(x) \\text{d}x =\n",
    "\\int_{-1}^1 f(x(t)) \\frac{b-a}{2}\\text{d}t\n",
    "\\approx \\frac{b-a}{2}\\sum_{i=1}^m A_i f(x(t_i)). $$"
   ]
  },
  {
   "cell_type": "markdown",
   "metadata": {},
   "source": [
    "No caso $m = 1$, note que a integral vira a integral do ponto médio."
   ]
  },
  {
   "cell_type": "markdown",
   "metadata": {},
   "source": [
    "## Exercícios\n",
    "\n",
    "Exercícios do capítulo 7 do livro Cálculo Numérico de Ruggiero e Lopes."
   ]
  },
  {
   "cell_type": "markdown",
   "metadata": {},
   "source": [
    "$\\newcommand{\\intdefx}[3]{\\int_{#1}^{#2}\\! {#3}\\mbox{d}x}$\n",
    "\n",
    "1. Calcule aproximações para as seguintes integrais, usando os métodos do ponto\n",
    "   médio, do trapézio e de Simpson repetidos. Faça com três números de\n",
    "   intervalos diferentes e compare os resultados.\n",
    "\n",
    "  - $\\displaystyle \\intdefx{0}{1}{eˣ}$\n",
    "  - $\\displaystyle \\intdefx{0}{1}{1}$\n",
    "  - $\\displaystyle \\intdefx{0}{1}{x}$\n",
    "  - $\\displaystyle \\intdefx{0}{1}{x^2}$\n",
    "  - $\\displaystyle \\intdefx{0}{1}{x^3}$\n",
    "  - $\\displaystyle \\intdefx{1}{e}{\\log x}$\n",
    "  - $\\displaystyle \\intdefx{-10}{10}{\\dfrac{1}{x^2+1}}$\n",
    "  - $\\displaystyle \\intdefx{-\\pi}{\\pi}{\\sin x}$\n",
    "\n",
    "2. Para cada integral acima, calcule quantos pontos são necessários para se obter um erro menor que $10^{-6}.\n",
    "\n",
    "3. Considere a função $f$ contínua no intervalo $[a,b]$,\n",
    "e a função $p$ dada por\n",
    "$$ p(x) = f(a) + \\alpha (x-a) + \\beta (x - a)(x - c), $$\n",
    "onde $c = \\dfrac{a+b}{2}$ é o ponto médio do intervalo $[a,b]$,\n",
    "$\\alpha = \\dfrac{f(c) - f(a)}{h}$, e\n",
    "$\\beta = \\dfrac{f(b) - 2f(c) + f(a)}{2h^2}$, com\n",
    "$h = c - a = b - c$.\n",
    "\n",
    "  - Mostre que $p$ passa nos pontos $(a,f(a))$, $(b,f(b))$ e $(c,f(c))$.\n",
    "  - Calcule a integral de $p$ de $[a,b]$ e interprete o resultado."
   ]
  },
  {
   "cell_type": "code",
   "execution_count": null,
   "metadata": {},
   "outputs": [],
   "source": []
  }
 ],
 "metadata": {
  "@webio": {
   "lastCommId": "ac206e2ca8194e12b3a763d6d3305285",
   "lastKernelId": "8baa5e93-99ae-414f-ba2a-100f965c1e7c"
  },
  "kernelspec": {
   "display_name": "Julia 1.1.0",
   "language": "julia",
   "name": "julia-1.1"
  },
  "language_info": {
   "file_extension": ".jl",
   "mimetype": "application/julia",
   "name": "julia",
   "version": "1.1.0"
  }
 },
 "nbformat": 4,
 "nbformat_minor": 1
}
