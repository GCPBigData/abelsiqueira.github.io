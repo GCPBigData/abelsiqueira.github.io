{
 "cells": [
  {
   "cell_type": "code",
   "execution_count": 1,
   "metadata": {
    "collapsed": false
   },
   "outputs": [
    {
     "data": {
      "text/plain": [
       "Plots.GRBackend()"
      ]
     },
     "execution_count": 1,
     "metadata": {},
     "output_type": "execute_result"
    }
   ],
   "source": [
    "using Plots\n",
    "gr()"
   ]
  },
  {
   "cell_type": "code",
   "execution_count": 2,
   "metadata": {
    "collapsed": false
   },
   "outputs": [
    {
     "data": {
      "text/plain": [
       "wave_fixed (generic function with 1 method)"
      ]
     },
     "execution_count": 2,
     "metadata": {},
     "output_type": "execute_result"
    }
   ],
   "source": [
    "function wave_fixed(u0, c, L, tf; N = 10, MinM = 1)\n",
    "    h = L/(N-1)\n",
    "    M = max(ceil(Int, c*tf/h) + 1, MinM)\n",
    "    δ = tf/M\n",
    "    κ = (c*δ/h)^2\n",
    "    \n",
    "    x = linspace(0, L, N)\n",
    "    t = linspace(0, tf, M+1)\n",
    "    V = zeros(N, M+1)\n",
    "    \n",
    "    # Initial position\n",
    "    V[1,1] = 0\n",
    "    V[N,1] = 0\n",
    "    for i = 2:N-1\n",
    "        V[i,1] = u0(x[i])\n",
    "    end\n",
    "    # Initial velocity\n",
    "    V[1,2] = 0\n",
    "    for i = 2:N-1\n",
    "        V[i,2] = (κ*V[i+1,1] + 2(1-κ)*V[i,1] + κ*V[i-1,1])/2\n",
    "    end\n",
    "    V[N,2] = 0\n",
    "\n",
    "    for n = 2:M\n",
    "        V[1,n+1] = 0\n",
    "        for i = 2:N-1\n",
    "            V[i,n+1] = -V[i,n-1] + κ*V[i+1,n] + 2(1-κ)*V[i,n] + κ*V[i-1,n]\n",
    "        end\n",
    "        V[N,n+1] = 0\n",
    "    end\n",
    "    return t, x, V\n",
    "end"
   ]
  },
  {
   "cell_type": "code",
   "execution_count": 3,
   "metadata": {
    "collapsed": false
   },
   "outputs": [
    {
     "data": {
      "text/plain": [
       "wave_free (generic function with 1 method)"
      ]
     },
     "execution_count": 3,
     "metadata": {},
     "output_type": "execute_result"
    }
   ],
   "source": [
    "function wave_free(u0, c, L, tf; N = 10, MinM = 1)\n",
    "    h = L/(N-1)\n",
    "    M = max(ceil(Int, c*tf/h) + 1, MinM)\n",
    "    δ = tf/M\n",
    "    κ = (c*δ/h)^2\n",
    "    \n",
    "    x = linspace(0, L, N)\n",
    "    t = linspace(0, tf, M+1)\n",
    "    V = zeros(N, M+1)\n",
    "    \n",
    "    # Initial position\n",
    "    for i = 1:N\n",
    "        V[i,1] = u0(x[i])\n",
    "    end\n",
    "    # Initial velocity\n",
    "    V[1,2] = κ*V[2,1] + (1-κ)*V[1,1]\n",
    "    for i = 2:N-1\n",
    "        V[i,2] = (κ*V[i+1,1] + 2(1-κ)*V[i,1] + κ*V[i-1,1])/2\n",
    "    end\n",
    "    V[N,2] = (1-κ)*V[N,1] + κ*V[N-1,1]\n",
    "\n",
    "    for n = 2:M\n",
    "        i = 1\n",
    "        V[1,n+1] = -V[i,n-1] + 2κ*V[i+1,n] + 2(1-κ)*V[i,n]\n",
    "        for i = 2:N-1\n",
    "            V[i,n+1] = -V[i,n-1] + κ*V[i+1,n] + 2(1-κ)*V[i,n] + κ*V[i-1,n]\n",
    "        end\n",
    "        i = N\n",
    "        V[N,n+1] = -V[i,n-1] + 2(1-κ)*V[i,n] + 2κ*V[i-1,n]\n",
    "    end\n",
    "    return t, x, V\n",
    "end"
   ]
  },
  {
   "cell_type": "code",
   "execution_count": 6,
   "metadata": {
    "collapsed": false
   },
   "outputs": [
    {
     "name": "stdout",
     "output_type": "stream",
     "text": [
      "M = 151\n",
      "step = 3\n"
     ]
    },
    {
     "name": "stderr",
     "output_type": "stream",
     "text": [
      "INFO: Saved animation to /home/abel/projetos/abelsiqueira.github.io/disciplinas/cm116/tmp.gif\n"
     ]
    },
    {
     "data": {
      "text/html": [
       "<img src=\"tmp.gif?0.32909726903209746>\" />"
      ],
      "text/plain": [
       "Plots.AnimatedGif(\"/home/abel/projetos/abelsiqueira.github.io/disciplinas/cm116/tmp.gif\")"
      ]
     },
     "execution_count": 6,
     "metadata": {},
     "output_type": "execute_result"
    }
   ],
   "source": [
    "c = 1\n",
    "L = 4\n",
    "u0(x) = exp(-(x-0.5L)^2*5)\n",
    "#u0(x) = sin(2x*π/L)\n",
    "tf = 6\n",
    "N = 100\n",
    "fps = 15\n",
    "MinM = ceil(Int, fps*tf)\n",
    "\n",
    "t, x, V = wave_fixed(u0, c, L, tf, N=N, MinM=MinM);\n",
    "\n",
    "M = length(t)\n",
    "step = ceil(Int, M/fps/tf) + 1\n",
    "println(\"M = $M\")\n",
    "println(\"step = $step\")\n",
    "\n",
    "anim = Animation()\n",
    "\n",
    "umin, umax = extrema(V)\n",
    "λ = umax - umin\n",
    "umin -= 0.1λ\n",
    "umax += 0.1λ\n",
    "\n",
    "for s = 1:step:M\n",
    "    plot(x, V[:,s])\n",
    "    ylims!(umin, umax)\n",
    "    title!(\"$(round(t[s],2)) s\")\n",
    "    frame(anim)\n",
    "end\n",
    "gif(anim, \"tmp.gif\", fps=fps)"
   ]
  },
  {
   "cell_type": "code",
   "execution_count": 5,
   "metadata": {
    "collapsed": false
   },
   "outputs": [
    {
     "name": "stderr",
     "output_type": "stream",
     "text": [
      "INFO: Saved animation to /home/abel/projetos/abelsiqueira.github.io/disciplinas/cm116/tmp.gif\n"
     ]
    },
    {
     "data": {
      "text/html": [
       "<img src=\"tmp.gif?0.4717278155880702>\" />"
      ],
      "text/plain": [
       "Plots.AnimatedGif(\"/home/abel/projetos/abelsiqueira.github.io/disciplinas/cm116/tmp.gif\")"
      ]
     },
     "execution_count": 5,
     "metadata": {},
     "output_type": "execute_result"
    }
   ],
   "source": [
    "\n",
    "c = 1\n",
    "L = 4\n",
    "u0(x) = exp(-(x-0.5L)^2*5)\n",
    "#u0(x) = cos(2π*x/L)\n",
    "#u0(x) = sum([cos(i*π*x/L) for i = 1:10])\n",
    "tf = 6\n",
    "N = 100\n",
    "fps = 15\n",
    "MinM = ceil(Int, fps*tf)\n",
    "\n",
    "t, x, V = wave_free(u0, c, L, tf, N=N, MinM=MinM);\n",
    "\n",
    "fps = 15\n",
    "M = length(t)\n",
    "step = ceil(Int, M/(tf*fps))\n",
    "\n",
    "anim = Animation()\n",
    "\n",
    "umin, umax = extrema(V)\n",
    "λ = umax - umin\n",
    "umin -= 0.1λ\n",
    "umax += 0.1λ\n",
    "\n",
    "for s = 1:step:M\n",
    "    plot(x, V[:,s])\n",
    "    ylims!(umin, umax)\n",
    "    title!(\"$(round(t[s],2)) s\")\n",
    "    frame(anim)\n",
    "end\n",
    "gif(anim, \"tmp.gif\", fps=fps)"
   ]
  },
  {
   "cell_type": "code",
   "execution_count": null,
   "metadata": {
    "collapsed": true
   },
   "outputs": [],
   "source": []
  }
 ],
 "metadata": {
  "kernelspec": {
   "display_name": "Julia 0.4.5",
   "language": "julia",
   "name": "julia-0.4"
  },
  "language_info": {
   "file_extension": ".jl",
   "mimetype": "application/julia",
   "name": "julia",
   "version": "0.4.5"
  }
 },
 "nbformat": 4,
 "nbformat_minor": 0
}
